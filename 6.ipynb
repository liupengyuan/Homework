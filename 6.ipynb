{
 "cells": [
  {
   "cell_type": "code",
   "execution_count": 1,
   "metadata": {},
   "outputs": [
    {
     "name": "stdout",
     "output_type": "stream",
     "text": [
      "5050\n"
     ]
    }
   ],
   "source": [
    "def list_sum(list_0):\n",
    "    return sum(list_0)\n",
    "\n",
    "a = [i for i in range(101)]\n",
    "print(list_sum(a))"
   ]
  },
  {
   "cell_type": "code",
   "execution_count": 2,
   "metadata": {},
   "outputs": [
    {
     "name": "stdout",
     "output_type": "stream",
     "text": [
      "1\n"
     ]
    }
   ],
   "source": [
    "def list_min(list_0):\n",
    "    return min(list_0)\n",
    "\n",
    "import random\n",
    "a = []\n",
    "for i in range(101):\n",
    "    b = random.randint(1,1000)\n",
    "    a.append(b)\n",
    "print(list_min(a))"
   ]
  },
  {
   "cell_type": "code",
   "execution_count": 3,
   "metadata": {},
   "outputs": [
    {
     "name": "stdout",
     "output_type": "stream",
     "text": [
      "12\n",
      "33\n",
      "84\n"
     ]
    }
   ],
   "source": [
    "def func(list_0, s):\n",
    "    if s in list_0:\n",
    "        t = [i for i, x in enumerate(list_0) if x == s]\n",
    "        return t\n",
    "    else:\n",
    "        k = [-1]\n",
    "        return k\n",
    "\n",
    "import random\n",
    "a = []\n",
    "for i in range(101):\n",
    "    b = random.randint(1,55)\n",
    "    a.append(b)\n",
    "c = 15\n",
    "for j in func(a, c):\n",
    "    print(j)"
   ]
  },
  {
   "cell_type": "code",
   "execution_count": 4,
   "metadata": {},
   "outputs": [
    {
     "name": "stdout",
     "output_type": "stream",
     "text": [
      "1.0\n"
     ]
    }
   ],
   "source": [
    "from math import sqrt\n",
    "\n",
    "def cos(a_vector, b_vector):\n",
    "    s = 0\n",
    "    for i in range(len(a_vector)):\n",
    "        s += a_vector[i] * b_vector[i]\n",
    "    t = 0\n",
    "    for x in a_vector:\n",
    "        t += x ** 2\n",
    "    k = 0\n",
    "    for y in b_vector:\n",
    "        k += y ** 2\n",
    "    cos = s / (sqrt(t) * sqrt(k))\n",
    "    return cos\n",
    "\n",
    "print(cos([1, 0], [1, 0]))"
   ]
  },
  {
   "cell_type": "code",
   "execution_count": 5,
   "metadata": {},
   "outputs": [
    {
     "name": "stdout",
     "output_type": "stream",
     "text": [
      "109736\n"
     ]
    }
   ],
   "source": [
    "def main():\n",
    "    step = 0\n",
    "    for i in range(86):\n",
    "        for j in range(86-i):\n",
    "            for k in range(86-i-j):\n",
    "                step +=1\n",
    "    print(step)\n",
    "\n",
    "main()"
   ]
  }
 ],
 "metadata": {
  "kernelspec": {
   "display_name": "Python 3",
   "language": "python",
   "name": "python3"
  },
  "language_info": {
   "codemirror_mode": {
    "name": "ipython",
    "version": 3
   },
   "file_extension": ".py",
   "mimetype": "text/x-python",
   "name": "python",
   "nbconvert_exporter": "python",
   "pygments_lexer": "ipython3",
   "version": "3.5.4"
  }
 },
 "nbformat": 4,
 "nbformat_minor": 2
}
