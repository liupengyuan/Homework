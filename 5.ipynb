{
 "cells": [
  {
   "cell_type": "code",
   "execution_count": 1,
   "metadata": {},
   "outputs": [
    {
     "name": "stdout",
     "output_type": "stream",
     "text": [
      "请输入一个n：10\n",
      "请输入一个m：1\n",
      "请输入一个k：15\n",
      "结果是：2.4899799195977463\n"
     ]
    }
   ],
   "source": [
    "from random import randint\n",
    "from math import sqrt\n",
    "def func(n, m ,k):\n",
    "    a = []\n",
    "    sum = 0\n",
    "    for i in range(n):\n",
    "        b = randint(m,k)\n",
    "        sum += b\n",
    "    even = sum / n\n",
    "    sqr = sqrt(even)\n",
    "    return(sqr)\n",
    "\n",
    "n = int(input('请输入一个n：'))\n",
    "m = int(input('请输入一个m：'))\n",
    "k = int(input('请输入一个k：'))\n",
    "print('结果是：' + str(func(n,m,k)))"
   ]
  },
  {
   "cell_type": "code",
   "execution_count": 2,
   "metadata": {},
   "outputs": [
    {
     "name": "stdout",
     "output_type": "stream",
     "text": [
      "请输入一个n：15\n",
      "请输入一个m：44\n",
      "请输入一个k：88\n",
      "他们的log的和是：26.7659606124213\n",
      "他们的log的倒数和是：8.523039138223714\n"
     ]
    }
   ],
   "source": [
    "from random import randint\n",
    "from math import log10\n",
    "\n",
    "def func1(n, m, k):\n",
    "    sum = 0\n",
    "    for i in range(n):\n",
    "        a = randint(m, k)\n",
    "        sum += log10(a)\n",
    "    return sum\n",
    "\n",
    "def func2(n, m, k):\n",
    "    sum = 0\n",
    "    for i in range(n):\n",
    "        a = randint(m, k)\n",
    "        sum += 1/log10(a)\n",
    "    return sum\n",
    "\n",
    "n = int(input('请输入一个n：'))\n",
    "m = int(input('请输入一个m：'))\n",
    "k = int(input('请输入一个k：'))\n",
    "print('他们的log的和是：' + str(func1(n,m,k)))\n",
    "print('他们的log的倒数和是：' + str(func2(n,m,k)))"
   ]
  }
 ],
 "metadata": {
  "kernelspec": {
   "display_name": "Python 3",
   "language": "python",
   "name": "python3"
  },
  "language_info": {
   "codemirror_mode": {
    "name": "ipython",
    "version": 3
   },
   "file_extension": ".py",
   "mimetype": "text/x-python",
   "name": "python",
   "nbconvert_exporter": "python",
   "pygments_lexer": "ipython3",
   "version": "3.5.4"
  }
 },
 "nbformat": 4,
 "nbformat_minor": 2
}
