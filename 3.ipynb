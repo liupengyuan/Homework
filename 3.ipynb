{
 "cells": [
  {
   "cell_type": "code",
   "execution_count": 1,
   "metadata": {},
   "outputs": [
    {
     "name": "stdout",
     "output_type": "stream",
     "text": [
      "请输入第一个数3\n",
      "请输入第二个数6\n",
      "如果您想要求和，请输入1      如果您想求积，请输入2      如果您想得到余数，请输入3\n",
      "2\n",
      "m到n积是 360\n"
     ]
    }
   ],
   "source": [
    "# chapter1 3md 练习2\n",
    "m = int(input('请输入第一个数'))\n",
    "n = int(input('请输入第二个数'))\n",
    "print(\"如果您想要求和，请输入1\",'如果您想求积，请输入2','如果您想得到余数，请输入3',sep = '      ')\n",
    "i = int(input())\n",
    "if m > n:\n",
    "    t = m\n",
    "    m = n\n",
    "    n = t\n",
    "\n",
    "if i < 2:\n",
    "    total = 0\n",
    "    while m < n+1:\n",
    "        total = total + m\n",
    "        m = m + 1\n",
    "    print('m到n的和是：', total)\n",
    "elif i < 3:\n",
    "    p = 1\n",
    "    while m < n+1:\n",
    "        p = p * m\n",
    "        m = m + 1\n",
    "    print('m到n积是', p)\n",
    "else:\n",
    "    s = m % n\n",
    "    print('它们的余数是', s)"
   ]
  },
  {
   "cell_type": "code",
   "execution_count": 2,
   "metadata": {},
   "outputs": [
    {
     "name": "stdout",
     "output_type": "stream",
     "text": [
      "请输入一个单词:phone\n",
      "其复数形式是 phones。\n"
     ]
    }
   ],
   "source": [
    "# chapter1 3md 练习4\n",
    "m = input('请输入一个单词:')\n",
    "if m.endswith('s') or m.endswith('ch') or m.endswith('sh') or m.endswith('x'):\n",
    "    print('其复数形式是 ' + m + 'es。')\n",
    "elif m == 'sheep':\n",
    "    print('其复数形式是 ' + m + '。')\n",
    "else:\n",
    "    print('其复数形式是 ' + m + 's。')"
   ]
  }
 ],
 "metadata": {
  "kernelspec": {
   "display_name": "Python 3",
   "language": "python",
   "name": "python3"
  },
  "language_info": {
   "codemirror_mode": {
    "name": "ipython",
    "version": 3
   },
   "file_extension": ".py",
   "mimetype": "text/x-python",
   "name": "python",
   "nbconvert_exporter": "python",
   "pygments_lexer": "ipython3",
   "version": "3.5.4"
  }
 },
 "nbformat": 4,
 "nbformat_minor": 2
}
