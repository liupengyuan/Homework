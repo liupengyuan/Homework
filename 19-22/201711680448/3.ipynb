{
 "cells": [
  {
   "cell_type": "markdown",
   "metadata": {},
   "source": [
    "练习 1：写程序，可由键盘读入用户姓名例如Mr. right，让用户输入出生的月份与日期，判断用户星座，假设用户是金牛座，则输出，Mr. right，你是非常有性格的金牛座！"
   ]
  },
  {
   "cell_type": "code",
   "execution_count": 9,
   "metadata": {
    "scrolled": true
   },
   "outputs": [
    {
     "name": "stdout",
     "output_type": "stream",
     "text": [
      "请输入姓名：明\n",
      "请输入出生月份与日期,日期用两位表示，如1.01：7.04\n",
      "明 ,你是非常有性格的巨蟹座\n"
     ]
    }
   ],
   "source": [
    "n=input(\"请输入姓名：\")\n",
    "a=float(input(\"请输入出生月份与日期,日期用两位表示，如1.01：\"))\n",
    "if 1.20<=a<=2.18:\n",
    "    print(n,\"，你是非常有性格的水瓶座\")\n",
    "if 2.19<=a<=3.20:\n",
    "    print(n,\",你是非常有性格的双鱼座\")\n",
    "if 3.21<=a<=4.19:\n",
    "    print(n,\",你是非常有性格的白羊座\")\n",
    "if 4.20<=a<=5.20:\n",
    "    print(n,\"你是非常有性格的金牛座\")\n",
    "if 5.21<=a<=6.21:\n",
    "    print(n,\",你是非常有性格的双子座\")\n",
    "if 6.22<=a<=7.22:\n",
    "    print(n,\",你是非常有性格的巨蟹座\")\n",
    "if 7.23<=a<=8.22:\n",
    "    print(n,\",你是非常有性格的狮子座\")\n",
    "if 8.23<=a<=9.22:\n",
    "    print(n,\",你是非常有性格的处女座\")\n",
    "if 9.23<=a<=10.23:\n",
    "    print(n,\",你是非常有性格的天秤座\")\n",
    "if 10.24<=a<=11.22:\n",
    "    print(n,\"你是非常有性格的天蝎座\")\n",
    "if 11.23<=a<=12.21:\n",
    "    print(n,\"你是非常有性格的射手座\")\n",
    "if 12.22<=a<=1.19:\n",
    "    print(n,\"你是非常有性格的摩羯座\")\n"
   ]
  },
  {
   "cell_type": "markdown",
   "metadata": {},
   "source": [
    "练习 2：写程序，可由键盘读入两个整数m与n(n不等于0)，询问用户意图，如果要求和则计算从m到n的和输出，如果要乘积则计算从m到n的积并输出，如果要求余数则计算m除以n的余数的值并输出，否则则计算m整除n的值并输出。"
   ]
  },
  {
   "cell_type": "code",
   "execution_count": null,
   "metadata": {},
   "outputs": [],
   "source": [
    "m=int(input(\"请输入一个整数:\"))\n",
    "n=int(input(\"请输入一个不为零的整数:\"))\n",
    "if n==0:\n",
    "    flag=False\n",
    "    print(flag)\n",
    "\n",
    "\n",
    "c=\"和\"\n",
    "d=\"积\"\n",
    "e=\"余数\"\n",
    "a=input(\"请输入意图:\")\n",
    "if a==c and m>n:\n",
    "    total=(1+m)*m/2-(n-1)*n/2\n",
    "    print(total)\n",
    "    \n",
    "elif a==c and m<n:\n",
    "    total=(1+n)*n/2-(m-1)*m/2\n",
    "    print(total)\n",
    "\n",
    "elif a==d and m>n:\n",
    "    f=1\n",
    "    g=1\n",
    "    product=1\n",
    "    p=1\n",
    "    while f<=m:\n",
    "        product=product*f \n",
    "        f=f+1\n",
    "    while g<n:\n",
    "        p=p*g\n",
    "        g=g+1\n",
    "    result=product/p\n",
    "    print(result)\n",
    "    \n",
    "elif a==d and m<n:\n",
    "    f=1\n",
    "    g=1\n",
    "    product=1\n",
    "    p=1\n",
    "    while f<m:\n",
    "        product=product*f \n",
    "        f=f+1\n",
    "    while g<=n:\n",
    "        p=p*g\n",
    "        g=g+1\n",
    "    result=p/product\n",
    "    print(result)\n",
    "    \n",
    "    \n",
    "elif a==e:\n",
    "    remainder=m%n\n",
    "    print(remainder)\n",
    "    \n",
    "else:\n",
    "    b=m//n\n",
    "    print(b)\n",
    "\n",
    "    \n",
    "\n"
   ]
  },
  {
   "cell_type": "markdown",
   "metadata": {},
   "source": [
    "练习 4：英文单词单数转复数，要求输入一个英文单词（单数形式），能够得到其复数形式，或给出单数转复数形式的建议（提示，some_string.endswith(some_letter)函数可以判断某字符串结尾字符，可尝试运行：'myname'.endswith('me')，liupengyuan'.endswith('n')）"
   ]
  },
  {
   "cell_type": "code",
   "execution_count": 6,
   "metadata": {},
   "outputs": [
    {
     "name": "stdout",
     "output_type": "stream",
     "text": [
      "请输入一个英文单词的单数形式;bench\n",
      "复数形式: bench +es\n"
     ]
    }
   ],
   "source": [
    "n=input(\"请输入一个英文单词的单数形式;\")\n",
    "if  n.endswith('sh'):\n",
    "    print(\"复数形式:\",n,\"+es\")\n",
    "elif n.endswith( 's'):\n",
    "    print(\"复数形式:\",n,\"+es\")\n",
    "elif n.endswith('ch'):\n",
    "    print(\"复数形式:\",n,\"+es\")\n",
    "elif n.endswith('x'):\n",
    "    print(\"复数形式:\",n,\"+es\")\n",
    "else:\n",
    "    print(\"复数形式:\",n,\"+s\")\n",
    "\n",
    "\n",
    "\n"
   ]
  },
  {
   "cell_type": "markdown",
   "metadata": {},
   "source": [
    "尝试性练习：写程序，能够在屏幕上显示空行。"
   ]
  },
  {
   "cell_type": "code",
   "execution_count": 1,
   "metadata": {},
   "outputs": [
    {
     "name": "stdout",
     "output_type": "stream",
     "text": [
      "hello\n",
      "\n",
      "goodbye\n"
     ]
    }
   ],
   "source": [
    "print(\"hello\")\n",
    "print('')\n",
    "print(\"goodbye\")"
   ]
  }
 ],
 "metadata": {
  "kernelspec": {
   "display_name": "Python 3",
   "language": "python",
   "name": "python3"
  },
  "language_info": {
   "codemirror_mode": {
    "name": "ipython",
    "version": 3
   },
   "file_extension": ".py",
   "mimetype": "text/x-python",
   "name": "python",
   "nbconvert_exporter": "python",
   "pygments_lexer": "ipython3",
   "version": "3.6.0"
  }
 },
 "nbformat": 4,
 "nbformat_minor": 2
}
