{
 "cells": [
  {
   "cell_type": "markdown",
   "metadata": {},
   "source": [
    "写函数，返回某个元素/对象在一个list中的位置，如果不在，则返回-1."
   ]
  },
  {
   "cell_type": "code",
   "execution_count": 4,
   "metadata": {},
   "outputs": [
    {
     "name": "stdout",
     "output_type": "stream",
     "text": [
      "3\n",
      "2\n"
     ]
    }
   ],
   "source": [
    "n=int(input())\n",
    "def f():\n",
    "    numbers=[1,2,3,4,5]\n",
    "    r=len(numbers)\n",
    "    if n in numbers:\n",
    "        for i in range(r):\n",
    "            if numbers[i]==n:\n",
    "                print(i)\n",
    "    else:\n",
    "        i=-1\n",
    "        print(i)\n",
    "f()\n",
    "    \n",
    "            "
   ]
  },
  {
   "cell_type": "markdown",
   "metadata": {},
   "source": [
    "写函数，可将两个相同长度的list，间隔插入，生成新的list。例如：给两个list，a=[1,2,3,4], b=[5,6,7,8]。则可以生成：[1,5,2,6,3,7,4,8]。"
   ]
  },
  {
   "cell_type": "code",
   "execution_count": 10,
   "metadata": {},
   "outputs": [
    {
     "name": "stdout",
     "output_type": "stream",
     "text": [
      "[1, 5, 2, 6, 3, 7, 4, 8]\n"
     ]
    }
   ],
   "source": [
    "c=[]\n",
    "a=[1,2,3,4]\n",
    "b=[5,6,7,8]\n",
    "\n",
    "def f():\n",
    "    if len(a)==len(b):\n",
    "        i=0\n",
    "       \n",
    "        while i<4:\n",
    "            n=a[i]\n",
    "            m=b[i]\n",
    "            c.append(n)\n",
    "            c.append(m)\n",
    "            i=i+1\n",
    "        print(c)\n",
    "f()\n",
    "    \n",
    "    "
   ]
  },
  {
   "cell_type": "markdown",
   "metadata": {},
   "source": [
    "写函数，可求两个向量的夹角余弦值，向量可放在list中。主程序调用该函数"
   ]
  },
  {
   "cell_type": "code",
   "execution_count": 16,
   "metadata": {},
   "outputs": [
    {
     "name": "stdout",
     "output_type": "stream",
     "text": [
      "3\n",
      "0\n",
      "1\n",
      "2\n",
      "0.26666666666666666\n"
     ]
    }
   ],
   "source": [
    "a=int(input())\n",
    "b=int(input())\n",
    "c=int(input())\n",
    "d=int(input())   \n",
    "def f():\n",
    "    n=[a,b]\n",
    "    m=[c,d]\n",
    "    e=(a*a+b*b)**1/2\n",
    "    f=(c*c+d*d)**1/2\n",
    "    cos=(a*c+b*d)/(e*f)\n",
    "    print(cos)\n",
    "f()\n",
    "    \n",
    "    "
   ]
  },
  {
   "cell_type": "markdown",
   "metadata": {},
   "source": [
    "挑战性习题：python语言老师为了激励学生学python，自费买了100个完全相同的Macbook Pro，分给三个班级，每个班级至少分5个，用穷举法计算共有多少种分法？"
   ]
  },
  {
   "cell_type": "code",
   "execution_count": null,
   "metadata": {},
   "outputs": [],
   "source": []
  }
 ],
 "metadata": {
  "kernelspec": {
   "display_name": "Python 3",
   "language": "python",
   "name": "python3"
  },
  "language_info": {
   "codemirror_mode": {
    "name": "ipython",
    "version": 3
   },
   "file_extension": ".py",
   "mimetype": "text/x-python",
   "name": "python",
   "nbconvert_exporter": "python",
   "pygments_lexer": "ipython3",
   "version": "3.6.0"
  }
 },
 "nbformat": 4,
 "nbformat_minor": 2
}
