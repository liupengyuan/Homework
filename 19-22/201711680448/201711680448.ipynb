{
 "cells": [
  {
   "cell_type": "markdown",
   "metadata": {},
   "source": [
    "练习1：仿照任务2完整代码，打印n！"
   ]
  },
  {
   "cell_type": "code",
   "execution_count": null,
   "metadata": {},
   "outputs": [],
   "source": [
    "n=int(input(\"请输入一个正整数\"))\n",
    "i=0\n",
    "total=1\n",
    "while i<n:\n",
    "    i=i+1\n",
    "    total=total*i\n",
    "print(total)"
   ]
  },
  {
   "cell_type": "markdown",
   "metadata": {},
   "source": [
    "练习2：仿照实践1，写出由用户指定整数个数，并由用户输入多个整数，并求和的代码。"
   ]
  },
  {
   "cell_type": "code",
   "execution_count": null,
   "metadata": {},
   "outputs": [],
   "source": [
    "x=int(input(\"请输入需求和整数个数\"))\n",
    "i=0\n",
    "total=0\n",
    "while i<x:\n",
    "    i=i+1\n",
    "    n=int(input(\"请输入需求和整数\"))\n",
    "    total=total+n\n",
    "print(\"和\",total)"
   ]
  },
  {
   "cell_type": "markdown",
   "metadata": {},
   "source": [
    "练习3：用户可以输入的任意多个数字，直到用户不想输入为止"
   ]
  },
  {
   "cell_type": "code",
   "execution_count": null,
   "metadata": {
    "scrolled": false
   },
   "outputs": [],
   "source": [
    "i=0\n",
    "while i<i+1:\n",
    "    n=input(\"请输入任意数字\")\n",
    "print(n)"
   ]
  },
  {
   "cell_type": "markdown",
   "metadata": {},
   "source": [
    "练习4：用户可以输入任意多个数字，直到：输入所有数字的和比当前输入数字小，且输入所有数字的积小于500"
   ]
  },
  {
   "cell_type": "code",
   "execution_count": 7,
   "metadata": {
    "scrolled": true
   },
   "outputs": [
    {
     "name": "stdout",
     "output_type": "stream",
     "text": [
      "请输入一个数字5\n",
      "请输入一个数字15\n",
      "请输入一个数字25\n",
      "25\n"
     ]
    }
   ],
   "source": [
    "n=int(input(\"请输入一个数字\"))\n",
    "total=n\n",
    "product=n\n",
    "while total >= n and product <= 500:\n",
    "    n=int(input(\"请输入一个数字\"))\n",
    "    total=total+n\n",
    "    product=product*n\n",
    "print(n)\n"
   ]
  }
 ],
 "metadata": {
  "kernelspec": {
   "display_name": "Python 3",
   "language": "python",
   "name": "python3"
  },
  "language_info": {
   "codemirror_mode": {
    "name": "ipython",
    "version": 3
   },
   "file_extension": ".py",
   "mimetype": "text/x-python",
   "name": "python",
   "nbconvert_exporter": "python",
   "pygments_lexer": "ipython3",
   "version": "3.6.0"
  }
 },
 "nbformat": 4,
 "nbformat_minor": 2
}
