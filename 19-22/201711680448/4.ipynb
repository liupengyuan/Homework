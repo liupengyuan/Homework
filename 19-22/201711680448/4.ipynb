{
 "cells": [
  {
   "cell_type": "markdown",
   "metadata": {},
   "source": [
    "练习 1：仿照求$ \\sum_{i=1}^mi + \\sum_{i=1}^ni  + \\sum_{i=1}^ki$的完整代码，写程序，可求m!+n!+k!"
   ]
  },
  {
   "cell_type": "code",
   "execution_count": 1,
   "metadata": {},
   "outputs": [
    {
     "name": "stdout",
     "output_type": "stream",
     "text": [
      "3\n",
      "4\n",
      "5\n",
      "150\n"
     ]
    }
   ],
   "source": [
    "def my_mul(n):\n",
    "    i=1\n",
    "    product=1\n",
    "    while i<n:\n",
    "        i=i+1\n",
    "        product=product*i\n",
    "    return product\n",
    "\n",
    "m=int(input())\n",
    "n=int(input())\n",
    "k=int(input())\n",
    "\n",
    "print(my_mul(m)+my_mul(n)+my_mul(k))"
   ]
  },
  {
   "cell_type": "markdown",
   "metadata": {},
   "source": [
    "练习 2：写函数可返回1 - 1/3 + 1/5 - 1/7...的前n项的和。在主程序中，分别令n=1000及100000，打印4倍该函数的和。"
   ]
  },
  {
   "cell_type": "code",
   "execution_count": 1,
   "metadata": {},
   "outputs": [
    {
     "name": "stdout",
     "output_type": "stream",
     "text": [
      "3.140592653839794\n",
      "3.1415826535897198\n"
     ]
    }
   ],
   "source": [
    "def my_f(n):\n",
    "    i=-1\n",
    "    a=0\n",
    "    m=1\n",
    "    total=0\n",
    "    while a<n:\n",
    "        a=a+1\n",
    "        m=2*a-1\n",
    "        i=i*(-1)\n",
    "        total=total+i*1/m\n",
    "    return total\n",
    "\n",
    "n=1000\n",
    "print(4*my_f(n))\n",
    "\n",
    "n=100000\n",
    "print(4*my_f(n))\n",
    "       "
   ]
  },
  {
   "cell_type": "markdown",
   "metadata": {},
   "source": [
    "练习 3：将task3中的练习1及练习4改写为函数，并进行调用。"
   ]
  },
  {
   "cell_type": "markdown",
   "metadata": {},
   "source": [
    "task3 练习1"
   ]
  },
  {
   "cell_type": "code",
   "execution_count": 59,
   "metadata": {},
   "outputs": [
    {
     "name": "stdout",
     "output_type": "stream",
     "text": [
      "请输入姓名：hh\n",
      "请输入出生月份：8\n",
      "请输入出生日期：4\n",
      "你是非常有性格的狮子座\n"
     ]
    }
   ],
   "source": [
    "def f(): \n",
    "   \n",
    "    if(a==1 and 20<=b<=31) or (a==2 and 1<=b<=18):\n",
    "        m='你是非常有性格的水瓶座'\n",
    "    elif(a==2 and 19<=b<=29) or (a==3 and 1<=b<=20):\n",
    "        m='你是非常有性格的双鱼座'\n",
    "    elif(a==3 and 21<=b<=31) or (a==4 and 1<=b<=19):\n",
    "        m='你是非常有性格的白羊座'\n",
    "    elif(a==4 and 20<=b<=30) or (a==5 and 1<=b<=20):\n",
    "        m='你是非常有性格的金牛座'\n",
    "    elif(a==5 and 21<=b<=31) or (a==6 and 1<=b<=21):\n",
    "        m='你是非常有性格的双子座'\n",
    "    elif(a==6 and 22<=b<=30) or (a==7 and 1<=b<=22):\n",
    "        m='你是非常有性格的巨蟹座'\n",
    "    elif(a==7 and 23<=b<=31) or (a==8 and 1<=b<=22):\n",
    "        m='你是非常有性格的狮子座'\n",
    "    elif(a==8 and 23<=b<=31) or (a==9 and 1<=b<=22):\n",
    "        m='你是非常有性格的处女座'\n",
    "    elif(a==9 and 23<=b<=30) or (a==10 and 1<=b<=23):\n",
    "        m='你是非常有性格的天秤座'\n",
    "    elif(a==10 and 24<=b<=31) or (a==11 and 1<=b<=22):\n",
    "        m='n你是非常有性格的天蝎座'\n",
    "    elif(a==11 and 23<=b<=30) or (a==12 and 1<=b<=21):\n",
    "        m='你是非常有性格的射手座'\n",
    "    elif(a==12 and 22<=b<=31) or (a==1 and 1<=b<=19):\n",
    "        m='你是非常有性格的摩羯座'\n",
    "    \n",
    "    return m\n",
    "n=input(\"请输入姓名：\")\n",
    "a=int(input(\"请输入出生月份：\"))\n",
    "b=int(input(\"请输入出生日期：\"))\n",
    "f()\n",
    "\n",
    "print(f())"
   ]
  },
  {
   "cell_type": "markdown",
   "metadata": {},
   "source": [
    "task3 练习4"
   ]
  },
  {
   "cell_type": "code",
   "execution_count": 28,
   "metadata": {
    "scrolled": true
   },
   "outputs": [
    {
     "name": "stdout",
     "output_type": "stream",
     "text": [
      "请输入一个英文单词的单数形式;fish\n",
      "复数形式:+es\n"
     ]
    }
   ],
   "source": [
    "def pls():\n",
    "    n=input(\"请输入一个英文单词的单数形式;\")\n",
    "    if  n.endswith('sh'):\n",
    "        m=\"复数形式:+es\"\n",
    "    elif n.endswith( 's'):\n",
    "        m=\"复数形式:+es\"\n",
    "    elif n.endswith('ch'):\n",
    "        m=\"复数形式:+es\"\n",
    "    elif n.endswith('x'):\n",
    "        m=\"复数形式:+es\"\n",
    "    elif n.endswith('f'):\n",
    "        m=\"复数形式去f+ves\"\n",
    "    else:\n",
    "        m=\"复数形式:+s\"\n",
    "    return m\n",
    "print(pls())\n",
    "\n",
    "    "
   ]
  },
  {
   "cell_type": "markdown",
   "metadata": {},
   "source": [
    "挑战性练习：写程序，可以求从整数m到整数n累加的和，间隔为k，求和部分需用函数实现，主程序中由用户输入m，n，k调用函数验证正确性。"
   ]
  },
  {
   "cell_type": "code",
   "execution_count": 60,
   "metadata": {},
   "outputs": [
    {
     "name": "stdout",
     "output_type": "stream",
     "text": [
      "请输入一个整数3\n",
      "请输入一个整数6\n",
      "请输入一个整数9\n",
      "9\n"
     ]
    }
   ],
   "source": [
    "def cumpute_sum(m,n,k) :\n",
    "    i = 1\n",
    "    total = m\n",
    "    a = m + i * k\n",
    "    while a < n :\n",
    "        i += 1\n",
    "        total += a\n",
    "        a = m + i *k\n",
    "    if a > n :\n",
    "        total += n\n",
    "    return total\n",
    "\n",
    "m = int(input('请输入一个整数'))\n",
    "n = int(input('请输入一个整数'))\n",
    "k = int(input('请输入一个整数'))\n",
    "\n",
    "print(cumpute_sum(m,n,k))\n",
    "   \n",
    "    "
   ]
  },
  {
   "cell_type": "code",
   "execution_count": null,
   "metadata": {},
   "outputs": [],
   "source": []
  }
 ],
 "metadata": {
  "kernelspec": {
   "display_name": "Python 3",
   "language": "python",
   "name": "python3"
  },
  "language_info": {
   "codemirror_mode": {
    "name": "ipython",
    "version": 3
   },
   "file_extension": ".py",
   "mimetype": "text/x-python",
   "name": "python",
   "nbconvert_exporter": "python",
   "pygments_lexer": "ipython3",
   "version": "3.6.0"
  }
 },
 "nbformat": 4,
 "nbformat_minor": 2
}
