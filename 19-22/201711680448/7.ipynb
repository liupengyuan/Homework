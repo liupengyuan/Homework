{
 "cells": [
  {
   "cell_type": "markdown",
   "metadata": {},
   "source": [
    "练习一：自己定义一个reverse(s)函数，功能返回字符串s的倒序字符串"
   ]
  },
  {
   "cell_type": "code",
   "execution_count": 2,
   "metadata": {},
   "outputs": [
    {
     "name": "stdout",
     "output_type": "stream",
     "text": [
      "12345\n",
      "54321\n"
     ]
    }
   ],
   "source": [
    "s=str(input())\n",
    "def reverse(s):\n",
    "   \n",
    "    n=len(s)\n",
    "    for i in range(n):\n",
    "        x=s[n-1::-1]\n",
    "        return x\n",
    "print(reverse(s))\n",
    "        \n",
    "    "
   ]
  },
  {
   "cell_type": "markdown",
   "metadata": {},
   "source": [
    "练习二：写函数，根据给定符号和行数，打印相应直角三角形，等腰三角形及其他形式的三角形。"
   ]
  },
  {
   "cell_type": "code",
   "execution_count": 19,
   "metadata": {},
   "outputs": [
    {
     "name": "stdout",
     "output_type": "stream",
     "text": [
      "*\n",
      "5\n",
      "\n",
      "*\n",
      "**\n",
      "***\n",
      "****\n",
      "*****\n",
      "     \n",
      "    * \n",
      "   * * \n",
      "  * * * \n",
      " * * * * \n",
      "* * * * * \n",
      "          \n",
      "    *    \n",
      "   **   \n",
      "  ***  \n",
      " **** \n",
      "*****\n"
     ]
    }
   ],
   "source": [
    "n=str(input())\n",
    "m=int(input())\n",
    "def f():\n",
    "    for i in range(m+1):\n",
    "        print(i*n+''*(i-1))\n",
    "    for i in range(m+1):\n",
    "        print((m-i)*' '+(n+' ')*i)\n",
    "    for i in range(m+1):\n",
    "        print((m-i)*' '+n*i+(m-i)*' ')\n",
    "        \n",
    "f()\n"
   ]
  },
  {
   "cell_type": "markdown",
   "metadata": {},
   "source": [
    "练习五：写函数，根据给定符号，打印各种菱形。"
   ]
  },
  {
   "cell_type": "code",
   "execution_count": 20,
   "metadata": {},
   "outputs": [
    {
     "name": "stdout",
     "output_type": "stream",
     "text": [
      "*\n",
      "     * \n",
      "    * * \n",
      "   * * * \n",
      "  * * * * \n",
      " * * * * * \n",
      "* * * * * * \n",
      " * * * * * \n",
      "  * * * * \n",
      "   * * * \n",
      "    * * \n",
      "     * \n",
      "      \n"
     ]
    }
   ],
   "source": [
    "n=str(input())\n",
    "def f():\n",
    "    for i in range(1,7):\n",
    "        print((6-i)*' '+(n+' ')*i)\n",
    "    for i in range(1,7):\n",
    "        print(i*' '+(n+' ')*(6-i))\n",
    "f()\n",
    "   "
   ]
  },
  {
   "cell_type": "code",
   "execution_count": null,
   "metadata": {},
   "outputs": [],
   "source": []
  }
 ],
 "metadata": {
  "kernelspec": {
   "display_name": "Python 3",
   "language": "python",
   "name": "python3"
  },
  "language_info": {
   "codemirror_mode": {
    "name": "ipython",
    "version": 3
   },
   "file_extension": ".py",
   "mimetype": "text/x-python",
   "name": "python",
   "nbconvert_exporter": "python",
   "pygments_lexer": "ipython3",
   "version": "3.6.0"
  }
 },
 "nbformat": 4,
 "nbformat_minor": 2
}
