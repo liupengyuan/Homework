{
 "cells": [
  {
   "cell_type": "markdown",
   "metadata": {},
   "source": [
    "练习 1：写函数，求n个随机整数均值的平方根，整数范围在m与k之间（n,m,k由用户输入）"
   ]
  },
  {
   "cell_type": "code",
   "execution_count": 11,
   "metadata": {},
   "outputs": [
    {
     "name": "stdout",
     "output_type": "stream",
     "text": [
      "2\n",
      "3\n",
      "6\n",
      "2.1213203435596424\n"
     ]
    }
   ],
   "source": [
    "import random,math\n",
    "n=int(input())\n",
    "m=int(input())\n",
    "k=int(input())\n",
    "def f():\n",
    "    i=0\n",
    "    total=0\n",
    "    while i<n and m<k:\n",
    "        i=i+1\n",
    "        a=random.randint(m,k)\n",
    "        total=total+a\n",
    "    while i<n and m>k:\n",
    "        i=i+1\n",
    "        a=random.randint(k,m)\n",
    "        total=total+a\n",
    "        \n",
    "    result=math.sqrt(total/n)\n",
    "    return result\n",
    "print(f())\n",
    "        \n",
    "    "
   ]
  },
  {
   "cell_type": "markdown",
   "metadata": {},
   "source": [
    "练习 2：写函数，共n个随机整数，整数范围在m与k之间，（n,m,k由用户输入）。求："
   ]
  },
  {
   "cell_type": "markdown",
   "metadata": {},
   "source": [
    "1：西格玛log(随机整数)"
   ]
  },
  {
   "cell_type": "code",
   "execution_count": 9,
   "metadata": {},
   "outputs": [
    {
     "name": "stdout",
     "output_type": "stream",
     "text": [
      "2\n",
      "3\n",
      "6\n",
      "2.995732273553991\n"
     ]
    }
   ],
   "source": [
    "n=int(input())\n",
    "m=int(input())\n",
    "k=int(input())\n",
    "import random,math\n",
    "def f():\n",
    "    i=0\n",
    "    total=0\n",
    "    while i<n and m<k:\n",
    "        i=i+1\n",
    "        a=random.randint(m,k)\n",
    "        b=math.log(a)\n",
    "        total=total+b\n",
    "    while i<n and m>k:\n",
    "        i=i+1\n",
    "        a=random.randint(k,m)\n",
    "        b=math.log(a)\n",
    "        total=total+b\n",
    "    return total\n",
    "print (f())"
   ]
  },
  {
   "cell_type": "markdown",
   "metadata": {},
   "source": [
    "2：西格玛1/log(随机整数)"
   ]
  },
  {
   "cell_type": "code",
   "execution_count": 12,
   "metadata": {},
   "outputs": [
    {
     "name": "stdout",
     "output_type": "stream",
     "text": [
      "2\n",
      "3\n",
      "6\n",
      "1.531574161186449\n"
     ]
    }
   ],
   "source": [
    "n=int(input())\n",
    "m=int(input())\n",
    "k=int(input())\n",
    "import random,math\n",
    "def f():\n",
    "    i=0\n",
    "    total=0\n",
    "    while i<n and m<k:\n",
    "        i=i+1\n",
    "        a=random.randint(m,k)\n",
    "        b=math.log(a)\n",
    "        c=1/b\n",
    "        total=total+c\n",
    "        \n",
    "    while i<n and m>k:\n",
    "        i=i+1\n",
    "        a=random.randint(k,m)\n",
    "        b=math.log(a)\n",
    "        c=1/b\n",
    "        total=total+c\n",
    "    return total\n",
    "print(f())"
   ]
  },
  {
   "cell_type": "markdown",
   "metadata": {},
   "source": [
    "练习 3：写函数，求s=a+aa+aaa+aaaa+aa...a的值，其中a是[1,9]之间的随机整数。例如2+22+222+2222+22222(此时共有5个数相加)，几个数相加由键盘输入"
   ]
  },
  {
   "cell_type": "code",
   "execution_count": 19,
   "metadata": {},
   "outputs": [
    {
     "name": "stdout",
     "output_type": "stream",
     "text": [
      "5\n",
      "86415\n"
     ]
    }
   ],
   "source": [
    "n=int(input())\n",
    "import random,math\n",
    "def f():\n",
    "    i=0\n",
    "    c=0\n",
    "    s=0\n",
    "    a=random.randint(1,9)\n",
    "    while i<n:\n",
    "        b=10**i*a\n",
    "        i=i+1\n",
    "        c=c+b\n",
    "        s=s+c\n",
    "    return s\n",
    "print(f())\n",
    "        "
   ]
  },
  {
   "cell_type": "markdown",
   "metadata": {},
   "source": [
    "挑战性练习：仿照task5，将猜数游戏改成由用户随便选择一个整数，让计算机来猜测的猜数游戏，要求和task5中人猜测的方法类似，但是人机角色对换，由人来判断猜测是大、小还是相等，请写出完整的猜数游戏。"
   ]
  },
  {
   "cell_type": "code",
   "execution_count": 4,
   "metadata": {},
   "outputs": [
    {
     "name": "stdout",
     "output_type": "stream",
     "text": [
      "请输入一个大于0的整数：2\n",
      "请输入一个大于0的整数，作为神秘整数的上界，回车结束100\n",
      "1\n",
      "请输入1,2,3，分别代表大，小，相等2\n",
      "1\n",
      "请输入1,2,3，分别代表大，小，相等2\n",
      "2\n",
      "请输入1,2,3，分别代表大，小，相等3\n",
      "\n",
      "           ======恭喜你，你赢了=======\n",
      "        \n",
      "    \n",
      "                .\"\".    .\"\",\n",
      "                |  |   /  /\n",
      "                |  |  /  /\n",
      "                |  | /  /\n",
      "                |  |/  ;-._ \n",
      "                }  ` _/  / ;\n",
      "                |  /` ) /  /\n",
      "                | /  /_/\\_/                |/  /      |\n",
      "                (  ' \\ '-  |\n",
      "                 \\    `.  /\n",
      "                  |      |\n",
      "                  |      |\n",
      "          \n",
      "          ======恭喜你，你赢了=======\n",
      "        \n"
     ]
    }
   ],
   "source": [
    "n=int(input(\"请输入一个大于0的整数：\"))\n",
    "import random,math\n",
    "\n",
    "def win():\n",
    "    print(\n",
    "        '''\n",
    "           ======恭喜你，你赢了=======\n",
    "        \n",
    "    \n",
    "                .\"\".    .\"\",\n",
    "                |  |   /  /\n",
    "                |  |  /  /\n",
    "                |  | /  /\n",
    "                |  |/  ;-._ \n",
    "                }  ` _/  / ;\n",
    "                |  /` ) /  /\n",
    "                | /  /_/\\_/\\\n",
    "                |/  /      |\n",
    "                (  ' \\ '-  |\n",
    "                 \\    `.  /\n",
    "                  |      |\n",
    "                  |      |\n",
    "          \n",
    "          ======恭喜你，你赢了=======\n",
    "        '''\n",
    "    )\n",
    "\n",
    "\n",
    "e=int(input(\"请输入一个大于0的整数，作为神秘整数的上界，回车结束\"))\n",
    "max_time=math.ceil(math.log2(e))\n",
    "guess_time=0\n",
    "\n",
    "while guess_time<max_time:\n",
    "    m=random.randint(1,n)\n",
    "    print(m)\n",
    "    \n",
    "    guess_time+=1\n",
    "    a=int(input(\"请输入1,2,3，分别代表大，小，相等\"))\n",
    "    \n",
    "    \n",
    "   \n",
    "    if a==1:\n",
    "        \n",
    "        guess_time+=1\n",
    "        \n",
    "    elif a==2:\n",
    "        \n",
    "        guess_time+=1\n",
    "        \n",
    "    elif a==3:\n",
    "        win()\n",
    "        break\n",
    "    \n",
    "            \n",
    "            \n",
    "else:\n",
    "    print(\"lose\")\n",
    "\n",
    "\n",
    "        \n"
   ]
  },
  {
   "cell_type": "code",
   "execution_count": null,
   "metadata": {},
   "outputs": [],
   "source": []
  }
 ],
 "metadata": {
  "kernelspec": {
   "display_name": "Python 3",
   "language": "python",
   "name": "python3"
  },
  "language_info": {
   "codemirror_mode": {
    "name": "ipython",
    "version": 3
   },
   "file_extension": ".py",
   "mimetype": "text/x-python",
   "name": "python",
   "nbconvert_exporter": "python",
   "pygments_lexer": "ipython3",
   "version": "3.6.0"
  }
 },
 "nbformat": 4,
 "nbformat_minor": 2
}
