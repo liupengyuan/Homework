{
 "cells": [
  {
   "cell_type": "code",
   "execution_count": null,
   "metadata": {},
   "outputs": [
    {
     "name": "stdout",
     "output_type": "stream",
     "text": [
      "黔突暖席\n",
      "席地而坐\n",
      "你的分数 10\n",
      "坐不安席\n",
      "电脑的分数 10\n",
      "席地幕天\n",
      "你的分数 20\n",
      "天崩地坼\n",
      "电脑的分数 20\n"
     ]
    }
   ],
   "source": [
    "#成语接龙\n",
    "import random\n",
    "fh=open(r'c:\\temp\\成语大全.txt')\n",
    "text=fh.read()\n",
    "fh.close()\n",
    "s=1\n",
    "i=0\n",
    "a=0\n",
    "b=0\n",
    "\n",
    "idioms=text.split()\n",
    "idiom=random.choice(idioms)\n",
    "idioms_n=list(idiom)\n",
    "print(idiom)\n",
    "while s>0:\n",
    "    if i==0:\n",
    "        m=input()\n",
    "        m=list(m)\n",
    "        if idioms_n[3]==m[0]:\n",
    "            a=a+10\n",
    "            i=1\n",
    "            print(\"你的分数\",a)\n",
    "        else:\n",
    "            print(\"你失败了\")\n",
    "            break\n",
    "    elif i==1:\n",
    "        for idiom_c in idioms:\n",
    "            if idiom_c[0]==m[3]:\n",
    "                print(idiom_c)\n",
    "                b=b+10\n",
    "                print(\"电脑的分数\",b)\n",
    "                idioms_n=idiom_c\n",
    "                i=0\n",
    "                break\n",
    "           \n",
    "        \n",
    "\n",
    "\n",
    "        \n",
    "        \n",
    "        \n",
    "    "
   ]
  },
  {
   "cell_type": "code",
   "execution_count": null,
   "metadata": {},
   "outputs": [],
   "source": []
  }
 ],
 "metadata": {
  "kernelspec": {
   "display_name": "Python 3",
   "language": "python",
   "name": "python3"
  },
  "language_info": {
   "codemirror_mode": {
    "name": "ipython",
    "version": 3
   },
   "file_extension": ".py",
   "mimetype": "text/x-python",
   "name": "python",
   "nbconvert_exporter": "python",
   "pygments_lexer": "ipython3",
   "version": "3.6.0"
  }
 },
 "nbformat": 4,
 "nbformat_minor": 2
}
