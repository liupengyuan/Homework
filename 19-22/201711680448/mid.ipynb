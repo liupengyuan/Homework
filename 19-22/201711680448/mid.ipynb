{
 "cells": [
  {
   "cell_type": "code",
   "execution_count": 1,
   "metadata": {},
   "outputs": [
    {
     "name": "stdout",
     "output_type": "stream",
     "text": [
      "3\n",
      "10.0\n"
     ]
    }
   ],
   "source": [
    "#1.\n",
    "m=int(input())\n",
    "def f(m):\n",
    "    i=0\n",
    "    total=0\n",
    "    while i<m:\n",
    "        i=i+1\n",
    "        n=((1+i)*i)/2\n",
    "        total=total+n\n",
    "    return total\n",
    "print(f(m))\n",
    "        \n",
    "    "
   ]
  },
  {
   "cell_type": "code",
   "execution_count": 2,
   "metadata": {},
   "outputs": [
    {
     "name": "stdout",
     "output_type": "stream",
     "text": [
      "请输入符号：*\n",
      "请输入行数5\n",
      "*\n",
      "\n",
      "***\n",
      "\n",
      "*****\n",
      "\n",
      "*******\n",
      "\n",
      "*********\n",
      "\n"
     ]
    }
   ],
   "source": [
    "#2\n",
    "n=input(\"请输入符号：\")\n",
    "m=int(input(\"请输入行数\"))\n",
    "def f():\n",
    "    i=0\n",
    "    a=1\n",
    "    while i<m:\n",
    "        i=i+1\n",
    "        print(n*a)\n",
    "        print(\"\")\n",
    "        a=a+2\n",
    "f()\n",
    "        \n",
    "        \n",
    "    "
   ]
  },
  {
   "cell_type": "code",
   "execution_count": null,
   "metadata": {},
   "outputs": [],
   "source": [
    "#3\n",
    "n=int(input(\"请输入一个正整数\"))\n",
    "def f():\n",
    "    \n",
    "    "
   ]
  },
  {
   "cell_type": "code",
   "execution_count": 2,
   "metadata": {},
   "outputs": [
    {
     "name": "stdout",
     "output_type": "stream",
     "text": [
      "请输入身高183\n",
      "请输入身高185\n",
      "请输入身高183\n",
      "请输入身高187\n",
      "请输入身高178\n",
      "请输入身高175\n",
      "请输入身高177\n",
      "请输入身高190\n",
      "请输入身高172\n",
      "(181.11111111111111, 190)\n"
     ]
    }
   ],
   "source": [
    "#4\n",
    "\n",
    "\n",
    "def f():\n",
    "    a=0\n",
    "    total=0\n",
    "    i=0\n",
    "    while a<9:\n",
    "        n=int(input(\"请输入身高\"))\n",
    "        a=a+1\n",
    "        total=total+n\n",
    "        i=i+1\n",
    "        average=total/i\n",
    "        if n>average:\n",
    "            m=n\n",
    "    return average,m\n",
    "print(f())\n",
    "   \n",
    "    "
   ]
  },
  {
   "cell_type": "code",
   "execution_count": 8,
   "metadata": {},
   "outputs": [
    {
     "name": "stdout",
     "output_type": "stream",
     "text": [
      "8 + 4\n",
      "请输入结果12\n",
      "6 + 1\n",
      "请输入结果7\n",
      "5 + 5\n",
      "请输入结果10\n",
      "3 + 4\n",
      "请输入结果7\n",
      "1 + 3\n",
      "请输入结果4\n",
      "100\n"
     ]
    }
   ],
   "source": [
    "#5\n",
    "import random\n",
    "i=0\n",
    "score=0\n",
    "while i<5:\n",
    "    n=random.randint(1,10)\n",
    "    m=random.randint(1,10)\n",
    "    print(n,\"+\",m)\n",
    "    a=int(input(\"请输入结果\"))\n",
    "    i=i+1\n",
    "    \n",
    "    if a==n+m:\n",
    "        score=score+20\n",
    "    \n",
    "print(score)"
   ]
  },
  {
   "cell_type": "code",
   "execution_count": 7,
   "metadata": {},
   "outputs": [
    {
     "name": "stdout",
     "output_type": "stream",
     "text": [
      "[-76, 3, 9, 88, 34, -5, 108]\n"
     ]
    }
   ],
   "source": [
    "#6\n",
    "nums=[3,-5,9,108,34,-76,88]\n",
    "for i in range(6):\n",
    "    for num in nums:\n",
    "        min_num=nums[0]\n",
    "        max_num=nums[6]\n",
    "        if nums[i]<min_num:\n",
    "            nums[0],nums[i]=nums[i],nums[0]\n",
    "        if nums[i]>max_num:\n",
    "            nums[i],nums[6]=nums[6],nums[i]\n",
    "print(nums)"
   ]
  },
  {
   "cell_type": "code",
   "execution_count": null,
   "metadata": {},
   "outputs": [],
   "source": []
  }
 ],
 "metadata": {
  "kernelspec": {
   "display_name": "Python 3",
   "language": "python",
   "name": "python3"
  },
  "language_info": {
   "codemirror_mode": {
    "name": "ipython",
    "version": 3
   },
   "file_extension": ".py",
   "mimetype": "text/x-python",
   "name": "python",
   "nbconvert_exporter": "python",
   "pygments_lexer": "ipython3",
   "version": "3.6.0"
  }
 },
 "nbformat": 4,
 "nbformat_minor": 2
}
