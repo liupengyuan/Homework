{
 "cells": [
  {
   "cell_type": "code",
   "execution_count": 9,
   "metadata": {},
   "outputs": [
    {
     "name": "stdout",
     "output_type": "stream",
     "text": [
      "练习 1：仿照求$ \\sum_{i=1}^mi + \\sum_{i=1}^ni  + \\sum_{i=1}^ki$的完整代码，写程序，可求m!+n!+k!\n"
     ]
    }
   ],
   "source": [
    "print('练习 1：仿照求$ \\sum_{i=1}^mi + \\sum_{i=1}^ni  + \\sum_{i=1}^ki$的完整代码，写程序，可求m!+n!+k!')"
   ]
  },
  {
   "cell_type": "code",
   "execution_count": 7,
   "metadata": {},
   "outputs": [
    {
     "name": "stdout",
     "output_type": "stream",
     "text": [
      "请输入第一个整数，回车结束。2\n",
      "请输入第二个整数，回车结束。4\n",
      "请输入第三个整数，回车结束。5\n",
      "最终的和是： 146\n"
     ]
    }
   ],
   "source": [
    "def my_mul(end):\n",
    "    i=0\n",
    "    total_n=1\n",
    "    while i<end:\n",
    "        i=i+1\n",
    "        total_n=total_n*i\n",
    "    return total_n\n",
    "n=int(input('请输入第一个整数，回车结束。'))\n",
    "m=int(input('请输入第二个整数，回车结束。'))\n",
    "k=int(input('请输入第三个整数，回车结束。'))\n",
    "\n",
    "print('最终的和是：',my_mul(n)+my_mul(m)+my_mul(k))\n"
   ]
  },
  {
   "cell_type": "code",
   "execution_count": 10,
   "metadata": {},
   "outputs": [
    {
     "name": "stdout",
     "output_type": "stream",
     "text": [
      "练习 2：写函数可返回1 - 1/3 + 1/5 - 1/7...的前n项的和。在主程序中，分别令n=1000及100000，打印4倍该函数的和。\n"
     ]
    }
   ],
   "source": [
    "print('练习 2：写函数可返回1 - 1/3 + 1/5 - 1/7...的前n项的和。在主程序中，分别令n=1000及100000，打印4倍该函数的和。')"
   ]
  },
  {
   "cell_type": "code",
   "execution_count": 2,
   "metadata": {
    "scrolled": false
   },
   "outputs": [
    {
     "name": "stdout",
     "output_type": "stream",
     "text": [
      "3.2329543411920967\n",
      "3.232039051316208\n"
     ]
    }
   ],
   "source": [
    "def my_sum(n):\n",
    "    i=0\n",
    "    total_n=0\n",
    "    while i<n:\n",
    "        i=i+1\n",
    "        if (i*2-1) % 4 ==1:\n",
    "            i=i*2-1\n",
    "        else:\n",
    "            i=-(i*2-1)\n",
    "        total_n=total_n +1/i\n",
    "    total_n=4*total_n\n",
    "    return total_n\n",
    "n1=1000\n",
    "n2=10000\n",
    "print(my_sum(n1))\n",
    "print(my_sum(n2))\n"
   ]
  },
  {
   "cell_type": "code",
   "execution_count": null,
   "metadata": {},
   "outputs": [],
   "source": [
    "print(练习 3：将task3中的练习1及练习4改写为函数，并进行调用。)"
   ]
  },
  {
   "cell_type": "code",
   "execution_count": 3,
   "metadata": {},
   "outputs": [
    {
     "name": "stdout",
     "output_type": "stream",
     "text": [
      "练习1\n"
     ]
    }
   ],
   "source": [
    "print('练习1')"
   ]
  },
  {
   "cell_type": "code",
   "execution_count": 15,
   "metadata": {},
   "outputs": [
    {
     "name": "stdout",
     "output_type": "stream",
     "text": [
      "请输入你的名字，回车结束sth\n",
      "请输入你的生日，如6月26日输入626，回车结束931\n",
      "没有这个日期，你是不是撒！\n",
      "None\n"
     ]
    }
   ],
   "source": [
    "m=input('请输入你的名字，回车结束')\n",
    "n=int(input('请输入你的生日，如6月26日输入626，回车结束'))\n",
    "\n",
    "def constellation(n):\n",
    "\n",
    "    if 321<=n<=331 or 401<=n<=419:\n",
    "        print(m,'你是非常有性格的白羊座！')\n",
    "    elif 420<=n<=430 or 501<=n<=520:\n",
    "        print(m,'你是非常有性格的金牛座！')\n",
    "    elif 521<=n<=531 or 601<=n<=621:\n",
    "        print(m,'你是非常有性格的双子座！')\n",
    "    elif 622<=n<=630 or 701<=n<=722:\n",
    "        print(m,'你是非常有性格的巨蟹座！')\n",
    "    elif 723<=n<=731 or 801<=n<=822:\n",
    "        print(m,'你是非常有性格的狮子座！')\n",
    "    elif 823<=n<=831 or 901<=n<=922:\n",
    "        print(m,'你是非常有性格的处女座！')\n",
    "    elif 923<=n<=930 or 1001<=n<=1023:\n",
    "        print(m,'你是非常有性格的天秤座！')\n",
    "    elif 1024<=n<=1031 or 1101<=n<=1122:\n",
    "        print(m,'你是非常有性格的天蝎座！')\n",
    "    elif 1123<=n<=1131 or 1201<=n<=1221:\n",
    "        print(m,'你是非常有性格的射手座！')\n",
    "    elif 1222<=n<=1231 or 101<=n<=119:\n",
    "        print(m,'你是非常有性格摩羯座！')\n",
    "    elif 120<=n<=131 or 201<=n<=218:\n",
    "        print(m,'你是非常有性格的水瓶座！')\n",
    "    elif 219<=n<=229 or 301<=n<=320:\n",
    "        print(m,'你是非常有性格的双鱼座！')\n",
    "    else:\n",
    "        print('没有这个日期，你是不是撒！')\n",
    "    \n",
    "    \n",
    "print(constellation(n))"
   ]
  },
  {
   "cell_type": "code",
   "execution_count": 16,
   "metadata": {},
   "outputs": [
    {
     "name": "stdout",
     "output_type": "stream",
     "text": [
      "练习4\n"
     ]
    }
   ],
   "source": [
    "print('练习4')"
   ]
  },
  {
   "cell_type": "code",
   "execution_count": 30,
   "metadata": {},
   "outputs": [
    {
     "name": "stdout",
     "output_type": "stream",
     "text": [
      "请输入一个英文单词lesf\n",
      "去掉f加ves\n",
      "None\n"
     ]
    }
   ],
   "source": [
    "m=input('请输入一个英文单词')\n",
    "def english(m):\n",
    "\n",
    "    if m.endswith('y'):\n",
    "        print('变y为i加es')\n",
    "    elif m.endswith('f'):\n",
    "        print('去掉f加ves')\n",
    "    elif m.endswith('o'):\n",
    "        print('直接加es')\n",
    "    else:\n",
    "        print('直接加s')\n",
    "\n",
    "\n",
    "print(english(m))"
   ]
  },
  {
   "cell_type": "code",
   "execution_count": 32,
   "metadata": {},
   "outputs": [
    {
     "name": "stdout",
     "output_type": "stream",
     "text": [
      "挑战性练习：写程序，可以求从整数m到整数n累加的和,间隔为k，求和部分需用函数实现，主程序中由用户输入m，n，k调用函数\n"
     ]
    }
   ],
   "source": [
    "print('挑战性练习：写程序，可以求从整数m到整数n累加的和,间隔为k，求和部分需用函数实现，主程序中由用户输入m，n，k调用函数')"
   ]
  },
  {
   "cell_type": "code",
   "execution_count": 38,
   "metadata": {},
   "outputs": [
    {
     "name": "stdout",
     "output_type": "stream",
     "text": [
      "请输入任何一个整数，回车结束3\n",
      "请输入任何一个大于m的整数，回车结束14\n",
      "请输入任何一个整数，回车结束1\n",
      "102\n"
     ]
    }
   ],
   "source": [
    "def my_sum():\n",
    "    m=int(input('请输入任何一个整数，回车结束'))\n",
    "    n=int(input('请输入任何一个大于m的整数，回车结束'))\n",
    "    k=int(input('请输入任何一个整数，回车结束'))\n",
    "    total=0\n",
    "    while m<=n:\n",
    "        total=total+m\n",
    "        m=m+k\n",
    "    return total\n",
    "print (my_sum())\n",
    "        "
   ]
  },
  {
   "cell_type": "code",
   "execution_count": null,
   "metadata": {},
   "outputs": [],
   "source": []
  }
 ],
 "metadata": {
  "kernelspec": {
   "display_name": "Python 3",
   "language": "python",
   "name": "python3"
  },
  "language_info": {
   "codemirror_mode": {
    "name": "ipython",
    "version": 3
   },
   "file_extension": ".py",
   "mimetype": "text/x-python",
   "name": "python",
   "nbconvert_exporter": "python",
   "pygments_lexer": "ipython3",
   "version": "3.6.3"
  }
 },
 "nbformat": 4,
 "nbformat_minor": 2
}
