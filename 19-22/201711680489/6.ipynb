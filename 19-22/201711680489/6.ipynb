{
 "cells": [
  {
   "cell_type": "code",
   "execution_count": 2,
   "metadata": {},
   "outputs": [
    {
     "name": "stdout",
     "output_type": "stream",
     "text": [
      "写函数，返回某个元素/对象在一个list中的位置，如果不在，则返回-1.\n"
     ]
    }
   ],
   "source": [
    "print('写函数，返回某个元素/对象在一个list中的位置，如果不在，则返回-1.')"
   ]
  },
  {
   "cell_type": "code",
   "execution_count": 15,
   "metadata": {},
   "outputs": [
    {
     "name": "stdout",
     "output_type": "stream",
     "text": [
      "请输入你想输入的元素个数，回车结束2\n",
      "请输入你想输入的元素，回车结束red\n",
      "请输入你想输入的元素，回车结束blue\n",
      "请输入你想判断的元素，回车结束red\n",
      "1\n"
     ]
    }
   ],
   "source": [
    "def judgement():\n",
    "    list=[]\n",
    "    n=int(input('请输入你想输入的元素个数，回车结束'))\n",
    "    for i in range(n):\n",
    "        element=input('请输入你想输入的元素，回车结束')\n",
    "        list.append(element)\n",
    "    q=input('请输入你想判断的元素，回车结束')\n",
    "    if q in (list):\n",
    "        position=list.index(q)\n",
    "        print(position+1)\n",
    "    else:\n",
    "        print(-1)\n",
    "judgement()"
   ]
  },
  {
   "cell_type": "code",
   "execution_count": 3,
   "metadata": {},
   "outputs": [
    {
     "name": "stdout",
     "output_type": "stream",
     "text": [
      "写函数，可将两个相同长度的list，间隔插入，生成新的list。例如：给两个list，a=[1,2,3,4], b=[5,6,7,8]。则可以生成：[1,5,2,6,3,7,4,8]。\n"
     ]
    }
   ],
   "source": [
    "print('写函数，可将两个相同长度的list，间隔插入，生成新的list。例如：给两个list，a=[1,2,3,4], b=[5,6,7,8]。则可以生成：[1,5,2,6,3,7,4,8]。')"
   ]
  },
  {
   "cell_type": "code",
   "execution_count": 1,
   "metadata": {},
   "outputs": [
    {
     "name": "stdout",
     "output_type": "stream",
     "text": [
      "[1, 5, 2, 6, 3, 7, 4, 8]\n"
     ]
    }
   ],
   "source": [
    "def new():\n",
    "    a=[1,2,3,4]\n",
    "    b=[5,6,7,8]\n",
    "    new_list=[]\n",
    "    i=0\n",
    "    j=0\n",
    "    while i<len(a):\n",
    "        new_list.append(a[i])\n",
    "        i=i+1\n",
    "        if j<i:\n",
    "            new_list.append(b[j])\n",
    "            j=j+1\n",
    "    print(new_list)\n",
    "new()"
   ]
  },
  {
   "cell_type": "code",
   "execution_count": null,
   "metadata": {
    "collapsed": true
   },
   "outputs": [],
   "source": [
    "print('写函数，可求两个向量的夹角余弦值，向量可放在list中。主程序调用该函数。')"
   ]
  },
  {
   "cell_type": "code",
   "execution_count": 3,
   "metadata": {},
   "outputs": [
    {
     "name": "stdout",
     "output_type": "stream",
     "text": [
      "第一个向量1\n",
      "第一个向量0\n",
      "第二个向量，回车结束1\n",
      "第二个向量，回车结束1\n",
      "[1, 0]\n",
      "[1, 1]\n",
      "0.7071067811865475\n"
     ]
    }
   ],
   "source": [
    "import math\n",
    "\n",
    "def cos():\n",
    "    vector1=[]\n",
    "    vector2=[]\n",
    "    for i in range(2):\n",
    "        x=int(input('第一个向量'))\n",
    "        vector1.append(x)\n",
    "    for j in range(2):\n",
    "        y=int(input('第二个向量，回车结束'))\n",
    "        vector2.append(y)\n",
    "    a=vector1[0]*vector2[0]+vector1[1]*vector2[1]\n",
    "    b=math.sqrt(vector1[0]*vector1[0]+vector1[1]*vector1[1])\n",
    "    c=math.sqrt(vector2[0]*vector2[0]+vector2[1]*vector2[1])\n",
    "    result=a/(b*c)\n",
    "    print(vector1)\n",
    "    print(vector2)\n",
    "    print(result)\n",
    "\n",
    "\n",
    "cos()\n"
   ]
  },
  {
   "cell_type": "code",
   "execution_count": 4,
   "metadata": {},
   "outputs": [
    {
     "name": "stdout",
     "output_type": "stream",
     "text": [
      "挑战性习题：python语言老师为了激励学生学python，自费买了100个完全相同的Macbook Pro，分给三个班级，每个班级至少分5个，用穷举法计算共有多少种分法？\n"
     ]
    }
   ],
   "source": [
    "print('挑战性习题：python语言老师为了激励学生学python，自费买了100个完全相同的Macbook Pro，分给三个班级，每个班级至少分5个，用穷举法计算共有多少种分法？')"
   ]
  },
  {
   "cell_type": "code",
   "execution_count": 8,
   "metadata": {},
   "outputs": [
    {
     "name": "stdout",
     "output_type": "stream",
     "text": [
      "81\n"
     ]
    }
   ],
   "source": [
    "a=5\n",
    "b=4\n",
    "c=5\n",
    "reamin=100-a-b-c-1\n",
    "result=0\n",
    "for a in range(5,remain+1):\n",
    "    b=b+1\n",
    "    c=remain-a-b\n",
    "    result=result+1\n",
    "print(result)"
   ]
  }
 ],
 "metadata": {
  "kernelspec": {
   "display_name": "Python 3",
   "language": "python",
   "name": "python3"
  },
  "language_info": {
   "codemirror_mode": {
    "name": "ipython",
    "version": 3
   },
   "file_extension": ".py",
   "mimetype": "text/x-python",
   "name": "python",
   "nbconvert_exporter": "python",
   "pygments_lexer": "ipython3",
   "version": "3.6.3"
  }
 },
 "nbformat": 4,
 "nbformat_minor": 2
}
