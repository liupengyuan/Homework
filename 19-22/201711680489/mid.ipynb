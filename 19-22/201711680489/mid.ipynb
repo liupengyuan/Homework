{
 "cells": [
  {
   "cell_type": "code",
   "execution_count": 10,
   "metadata": {},
   "outputs": [
    {
     "name": "stdout",
     "output_type": "stream",
     "text": [
      "第一题\n"
     ]
    }
   ],
   "source": [
    "print('第一题')"
   ]
  },
  {
   "cell_type": "code",
   "execution_count": 11,
   "metadata": {},
   "outputs": [
    {
     "name": "stdout",
     "output_type": "stream",
     "text": [
      "请输入你想输入求和数，回车结束5\n"
     ]
    },
    {
     "data": {
      "text/plain": [
       "35"
      ]
     },
     "execution_count": 11,
     "metadata": {},
     "output_type": "execute_result"
    }
   ],
   "source": [
    "def total(m):\n",
    "    i=0\n",
    "    number=0\n",
    "    result=0\n",
    "    while i < m :\n",
    "        i=i+1\n",
    "        number=number+i\n",
    "        result=result+number\n",
    "    return result\n",
    "m=int(input('请输入你想输入求和数，回车结束'))\n",
    "total(m)"
   ]
  },
  {
   "cell_type": "code",
   "execution_count": 6,
   "metadata": {},
   "outputs": [
    {
     "name": "stdout",
     "output_type": "stream",
     "text": [
      "第三题\n"
     ]
    }
   ],
   "source": [
    "print('第三题')"
   ]
  },
  {
   "cell_type": "code",
   "execution_count": 3,
   "metadata": {
    "scrolled": true
   },
   "outputs": [
    {
     "name": "stdout",
     "output_type": "stream",
     "text": [
      "输入你想输入数字位数，回车结束5\n",
      "逐个数字输入你想要输入的整数，回车结束。2\n",
      "逐个数字输入你想要输入的整数，回车结束。5\n",
      "逐个数字输入你想要输入的整数，回车结束。6\n",
      "逐个数字输入你想要输入的整数，回车结束。8\n",
      "逐个数字输入你想要输入的整数，回车结束。9\n",
      "2\n"
     ]
    }
   ],
   "source": [
    "def first():\n",
    "    list=[]\n",
    "    n=int(input('输入你想输入数字位数，回车结束'))\n",
    "    i=0\n",
    "    k=1\n",
    "    while i < n:\n",
    "        i=i+1\n",
    "        m=int(input('逐个数字输入你想要输入的整数，回车结束。'))\n",
    "        list.append(m)\n",
    "    print(list[0])\n",
    "            \n",
    "\n",
    "first()"
   ]
  },
  {
   "cell_type": "code",
   "execution_count": 6,
   "metadata": {},
   "outputs": [
    {
     "name": "stdout",
     "output_type": "stream",
     "text": [
      "第四题\n"
     ]
    }
   ],
   "source": [
    "print('第四题')"
   ]
  },
  {
   "cell_type": "code",
   "execution_count": 4,
   "metadata": {},
   "outputs": [
    {
     "name": "stdout",
     "output_type": "stream",
     "text": [
      "表示将要输入个数，回车结束9\n",
      "请输入每个人身高，回车结束183\n",
      "请输入每个人身高，回车结束185\n",
      "请输入每个人身高，回车结束183\n",
      "请输入每个人身高，回车结束187\n",
      "请输入每个人身高，回车结束178\n",
      "请输入每个人身高，回车结束175\n",
      "请输入每个人身高，回车结束177\n",
      "请输入每个人身高，回车结束190\n",
      "请输入每个人身高，回车结束172\n",
      "181.11111111111111\n",
      "183\n",
      "185\n",
      "183\n",
      "187\n",
      "190\n"
     ]
    }
   ],
   "source": [
    "list=[]\n",
    "total=0\n",
    "n=int(input('表示将要输入个数，回车结束'))\n",
    "k=0\n",
    "while k < n:\n",
    "    q=int(input('请输入每个人身高，回车结束'))\n",
    "    list.append(q)\n",
    "    k=k+1\n",
    "for i in list:\n",
    "    total=total+i\n",
    "total=total/len(list)\n",
    "print(total)\n",
    "for j in list:\n",
    "    if j>total:\n",
    "        print(j)"
   ]
  },
  {
   "cell_type": "code",
   "execution_count": 2,
   "metadata": {},
   "outputs": [
    {
     "name": "stdout",
     "output_type": "stream",
     "text": [
      "第五题\n"
     ]
    }
   ],
   "source": [
    "print('第五题')"
   ]
  },
  {
   "cell_type": "code",
   "execution_count": 16,
   "metadata": {},
   "outputs": [
    {
     "name": "stdout",
     "output_type": "stream",
     "text": [
      "10 8\n",
      "用户输入结果18\n",
      "5 10\n",
      "用户输入结果15\n",
      "3 9\n",
      "用户输入结果12\n",
      "1 1\n",
      "用户输入结果2\n",
      "3 9\n",
      "用户输入结果12\n",
      "100\n"
     ]
    }
   ],
   "source": [
    "import random\n",
    "i=0\n",
    "total=0\n",
    "for i in range(5):\n",
    "    a=random.randint(0,10)\n",
    "    b=random.randint(0,10)\n",
    "    i=i+1\n",
    "    m=a+b\n",
    "    print(a,b)\n",
    "    n=int(input('用户输入结果'))\n",
    "    if n ==m :\n",
    "        total=total+20\n",
    "    else:\n",
    "        total=total+0\n",
    "print(total)"
   ]
  },
  {
   "cell_type": "code",
   "execution_count": 4,
   "metadata": {},
   "outputs": [
    {
     "name": "stdout",
     "output_type": "stream",
     "text": [
      "第六题\n"
     ]
    }
   ],
   "source": [
    "print('第六题')"
   ]
  },
  {
   "cell_type": "code",
   "execution_count": 5,
   "metadata": {},
   "outputs": [
    {
     "name": "stdout",
     "output_type": "stream",
     "text": [
      "请输入你想输入元素个数，回车结束6\n",
      "请输入你想输入元素3\n",
      "请输入你想输入元素-5\n",
      "请输入你想输入元素9\n",
      "请输入你想输入元素108\n",
      "请输入你想输入元素34\n",
      "请输入你想输入元素-76\n"
     ]
    },
    {
     "ename": "NameError",
     "evalue": "name 'insert_max_number' is not defined",
     "output_type": "error",
     "traceback": [
      "\u001b[1;31m---------------------------------------------------------------------------\u001b[0m",
      "\u001b[1;31mNameError\u001b[0m                                 Traceback (most recent call last)",
      "\u001b[1;32m<ipython-input-5-7c7ede83d681>\u001b[0m in \u001b[0;36m<module>\u001b[1;34m()\u001b[0m\n\u001b[0;32m     13\u001b[0m     \u001b[1;32mif\u001b[0m \u001b[0mmin_number\u001b[0m\u001b[1;33m>\u001b[0m\u001b[0mi\u001b[0m\u001b[1;33m:\u001b[0m\u001b[1;33m\u001b[0m\u001b[0m\n\u001b[0;32m     14\u001b[0m         \u001b[0mmin_number\u001b[0m\u001b[1;33m=\u001b[0m\u001b[0mi\u001b[0m\u001b[1;33m\u001b[0m\u001b[0m\n\u001b[1;32m---> 15\u001b[1;33m     \u001b[0minsert_max_number\u001b[0m\u001b[1;33m(\u001b[0m\u001b[0mlist\u001b[0m\u001b[1;33m)\u001b[0m\u001b[1;33m\u001b[0m\u001b[0m\n\u001b[0m\u001b[0;32m     16\u001b[0m \u001b[1;33m\u001b[0m\u001b[0m\n",
      "\u001b[1;31mNameError\u001b[0m: name 'insert_max_number' is not defined"
     ]
    }
   ],
   "source": [
    "list=[]\n",
    "m=int(input('请输入你想输入元素个数，回车结束'))\n",
    "n=0\n",
    "max_number=0\n",
    "min_number=0\n",
    "while n < m :\n",
    "    ob=int(input('请输入你想输入元素'))\n",
    "    n=n+1\n",
    "    list.append(ob)\n",
    "for i in list :\n",
    "    if max_number<i:\n",
    "        max_number=i\n",
    "    if min_number>i:\n",
    "        min_number=i\n",
    "\n",
    "        \n"
   ]
  },
  {
   "cell_type": "code",
   "execution_count": null,
   "metadata": {
    "collapsed": true
   },
   "outputs": [],
   "source": []
  }
 ],
 "metadata": {
  "kernelspec": {
   "display_name": "Python 3",
   "language": "python",
   "name": "python3"
  },
  "language_info": {
   "codemirror_mode": {
    "name": "ipython",
    "version": 3
   },
   "file_extension": ".py",
   "mimetype": "text/x-python",
   "name": "python",
   "nbconvert_exporter": "python",
   "pygments_lexer": "ipython3",
   "version": "3.6.3"
  }
 },
 "nbformat": 4,
 "nbformat_minor": 2
}
