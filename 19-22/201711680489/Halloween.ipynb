{
 "cells": [
  {
   "cell_type": "code",
   "execution_count": 4,
   "metadata": {},
   "outputs": [
    {
     "name": "stdout",
     "output_type": "stream",
     "text": [
      "请输入一个整数，回车结束1\n",
      "请输入一个整数，回车结束2\n",
      "3\n"
     ]
    }
   ],
   "source": [
    "def my_sum(n):\n",
    "    i=0\n",
    "    total_n=0\n",
    "    while i<n:\n",
    "        i=i+1\n",
    "        total_n=total_n+i\n",
    "    return total_n\n",
    "def my_mul(m):\n",
    "    i=0\n",
    "    total_m=1\n",
    "    while i<m:\n",
    "        i=i+1\n",
    "        total_m=i*total_m\n",
    "    return total_m\n",
    "m=int(input('请输入一个整数，回车结束'))\n",
    "n=int(input('请输入一个整数，回车结束'))\n",
    "if m>n:\n",
    "    print(my_sum(m)+my_sum(n))\n",
    "else:\n",
    "    print(my_mul(m)+my_mul(n))"
   ]
  }
 ],
 "metadata": {
  "kernelspec": {
   "display_name": "Python 3",
   "language": "python",
   "name": "python3"
  },
  "language_info": {
   "codemirror_mode": {
    "name": "ipython",
    "version": 3
   },
   "file_extension": ".py",
   "mimetype": "text/x-python",
   "name": "python",
   "nbconvert_exporter": "python",
   "pygments_lexer": "ipython3",
   "version": "3.6.3"
  }
 },
 "nbformat": 4,
 "nbformat_minor": 2
}
