{
 "cells": [
  {
   "cell_type": "code",
   "execution_count": 10,
   "metadata": {},
   "outputs": [
    {
     "name": "stdout",
     "output_type": "stream",
     "text": [
      "练习 1：写函数，求n个随机整数均值的平方根，整数范围在m与k之间（n,m,k由用户输入）。\n"
     ]
    }
   ],
   "source": [
    "print('练习 1：写函数，求n个随机整数均值的平方根，整数范围在m与k之间（n,m,k由用户输入）。')"
   ]
  },
  {
   "cell_type": "code",
   "execution_count": 26,
   "metadata": {},
   "outputs": [
    {
     "name": "stdout",
     "output_type": "stream",
     "text": [
      "请输入任意一个整数，回车结束2\n",
      "请输入任意一个整数，回车结束5\n",
      "请输入任意一个不为m的整数，回车结束8\n",
      "2.0976176963403033\n"
     ]
    }
   ],
   "source": [
    "import random,math\n",
    "m=int(input('请输入任意一个整数，回车结束'))\n",
    "n=int(input('请输入任意一个整数，回车结束'))\n",
    "k=int(input('请输入任意一个不为m的整数，回车结束'))\n",
    "\n",
    "i=0\n",
    "total=0\n",
    "\n",
    "while i<n:\n",
    "    number=random.randint(m,k)\n",
    "    total=total+number\n",
    "    i=i+1\n",
    "\n",
    "total_n=total/n\n",
    "total_n=math.sqrt(total_n)\n",
    "print(total_n)\n",
    "    "
   ]
  },
  {
   "cell_type": "code",
   "execution_count": 17,
   "metadata": {},
   "outputs": [
    {
     "name": "stdout",
     "output_type": "stream",
     "text": [
      "练习 2：写函数，共n个随机整数，整数范围在m与k之间，（n,m,k由用户输入）。求1：西格玛log(随机整数)，2：西格玛1/log(随机整数)\n"
     ]
    }
   ],
   "source": [
    "print('练习 2：写函数，共n个随机整数，整数范围在m与k之间，（n,m,k由用户输入）。求1：西格玛log(随机整数)，2：西格玛1/log(随机整数)')"
   ]
  },
  {
   "cell_type": "code",
   "execution_count": 27,
   "metadata": {},
   "outputs": [
    {
     "name": "stdout",
     "output_type": "stream",
     "text": [
      "请输入任意一个整数,回车结束2\n",
      "请输入任意一个整数，回车结束5\n",
      "请输入任意一个不为m的整数，回车结束8\n",
      "西格玛log(随机整数) 7.362010551259734 西格玛1/log（随机整数） 3.5770466647426487\n"
     ]
    }
   ],
   "source": [
    "import random,math\n",
    "m=int(input('请输入任意一个整数,回车结束'))\n",
    "n=int(input('请输入任意一个整数，回车结束'))\n",
    "k=int(input('请输入任意一个不为m的整数，回车结束'))\n",
    "\n",
    "i=0\n",
    "total_m=0\n",
    "total_k=0\n",
    "while i<n:\n",
    "    number=random.randint(m,k)\n",
    "    total_m=math.log(number)+total_m\n",
    "    total_n=math.log(number)\n",
    "    total_k=1/total_n+total_k\n",
    "    i=i+1\n",
    "print('西格玛log(随机整数)',total_m,'西格玛1/log（随机整数）',total_k)\n",
    "    \n",
    "    \n"
   ]
  },
  {
   "cell_type": "code",
   "execution_count": 23,
   "metadata": {},
   "outputs": [
    {
     "name": "stdout",
     "output_type": "stream",
     "text": [
      "练习 3：写函数，求s=a+aa+aaa+aaaa+aa...a的值，其中a是[1,9]之间的随机整数。例如2+22+222+2222+22222(此时共有5个数相加)，几个数相加由键盘输入。\n"
     ]
    }
   ],
   "source": [
    "print('练习 3：写函数，求s=a+aa+aaa+aaaa+aa...a的值，其中a是[1,9]之间的随机整数。例如2+22+222+2222+22222(此时共有5个数相加)，几个数相加由键盘输入。')"
   ]
  },
  {
   "cell_type": "code",
   "execution_count": 29,
   "metadata": {},
   "outputs": [
    {
     "name": "stdout",
     "output_type": "stream",
     "text": [
      "请输入你想要几个数相加，回车结束3\n",
      "246.0\n"
     ]
    }
   ],
   "source": [
    "import random,math\n",
    "n=int(input('请输入你想要几个数相加，回车结束'))\n",
    "a=random.randint(1,9)\n",
    "i=1\n",
    "s=0\n",
    "while i<=n:\n",
    "    total1=10**i-1\n",
    "    total2=a/9\n",
    "    total3=total2*total1\n",
    "    s=s+total3\n",
    "    i=i+1\n",
    "print(s)\n",
    "    "
   ]
  },
  {
   "cell_type": "code",
   "execution_count": 30,
   "metadata": {},
   "outputs": [
    {
     "name": "stdout",
     "output_type": "stream",
     "text": [
      "挑战性练习：仿照task5，将猜数游戏改成由用户随便选择一个整数，让计算机来猜测的猜数游戏，要求和task5中人猜测的方法类似，但是人机角色对换，由人来判断猜测是大、小还是相等，请写出完整的猜数游戏。\n"
     ]
    }
   ],
   "source": [
    "print('挑战性练习：仿照task5，将猜数游戏改成由用户随便选择一个整数，让计算机来猜测的猜数游戏，要求和task5中人猜测的方法类似，但是人机角色对换，由人来判断猜测是大、小还是相等，请写出完整的猜数游戏。')"
   ]
  },
  {
   "cell_type": "code",
   "execution_count": 1,
   "metadata": {},
   "outputs": [
    {
     "name": "stdout",
     "output_type": "stream",
     "text": [
      "*******游戏菜单********\n",
      "             1.游戏说明。\n",
      "             2.开始游戏。\n",
      "             3.退出游戏\n",
      "             4.制作团队\n",
      "             *******游戏菜单********\n",
      "请输入你的选择，回车结束1\n",
      "如果你无聊的话，想一个神秘数字，让计算机来猜，进行一个更加无聊的游戏\n",
      "*******游戏菜单********\n",
      "             1.游戏说明。\n",
      "             2.开始游戏。\n",
      "             3.退出游戏\n",
      "             4.制作团队\n",
      "             *******游戏菜单********\n",
      "请输入你的选择，回车结束2\n",
      "请输入一个大于0的整数，作为神秘整数的上界，回车结束。100\n",
      "请输入你的神秘数字，回车结束。34\n",
      "抱歉，你猜小了,你已经猜了 1 次 还有 6 次\n",
      "抱歉，你猜大了，你已经猜了 2 次 还有 5 次\n",
      "抱歉，你猜小了,你已经猜了 3 次 还有 4 次\n",
      "抱歉，你猜大了，你已经猜了 4 次 还有 3 次\n",
      "抱歉，你猜小了,你已经猜了 5 次 还有 2 次\n",
      "抱歉，你猜大了，你已经猜了 6 次 还有 1 次\n",
      "抱歉，你猜小了,你已经猜了 7 次 还有 0 次\n",
      "神秘数字是： 34\n",
      "这都猜不对，你是不是蠢！\n",
      "*******游戏菜单********\n",
      "             1.游戏说明。\n",
      "             2.开始游戏。\n",
      "             3.退出游戏\n",
      "             4.制作团队\n",
      "             *******游戏菜单********\n",
      "请输入你的选择，回车结束3\n",
      "OK,游戏结束啦！\n"
     ]
    }
   ],
   "source": [
    "import random,math\n",
    "def win():\n",
    "    print('哇，猜对了，你很棒棒哟！')\n",
    "def lose():\n",
    "    print('这都猜不对，你是不是蠢！')\n",
    "def game_over():\n",
    "    print('OK,游戏结束啦！')\n",
    "def show_team():\n",
    "    print('你猜，猜对了我就告诉你呀！')\n",
    "    \n",
    "def show_instruction():\n",
    "    print('如果你无聊的话，想一个神秘数字，让计算机来猜，进行一个更加无聊的游戏')\n",
    "    \n",
    "def menu():\n",
    "    print('''*******游戏菜单********\n",
    "             1.游戏说明。\n",
    "             2.开始游戏。\n",
    "             3.退出游戏\n",
    "             4.制作团队\n",
    "             *******游戏菜单********''')\n",
    "def guess_game():\n",
    "    n=int(input('请输入一个大于0的整数，作为神秘整数的上界，回车结束。'))\n",
    "    m=int(input('请输入你的神秘数字，回车结束。'))\n",
    "    max_times=math.ceil(math.log(n,2))\n",
    "    guess_times=0\n",
    "    number=random.randint(1,n)\n",
    "    while guess_times<max_times:\n",
    "        \n",
    "        if number==m:\n",
    "            win()\n",
    "            print('神秘数字是：',m)\n",
    "            print('你比标准次数少',max_times-guess_times,'次')\n",
    "        elif number<m:\n",
    "            guess_times=guess_times+1\n",
    "            number=random.randint(m,n)\n",
    "            print('抱歉，你猜小了,你已经猜了',guess_times,'次','还有',max_times-guess_times,'次')\n",
    "        else:\n",
    "            guess_times=guess_times+1\n",
    "            number=random.randint(1,m)\n",
    "            print('抱歉，你猜大了，你已经猜了',guess_times,'次','还有',max_times-guess_times,'次')\n",
    "    else:\n",
    "        print('神秘数字是：',m)\n",
    "        lose()\n",
    "        \n",
    "def main():\n",
    "    while True:\n",
    "        menu()\n",
    "        choice=int(input('请输入你的选择，回车结束'))\n",
    "        if choice==1:\n",
    "            show_instruction()\n",
    "        elif choice==2:\n",
    "            guess_game()\n",
    "        elif choice==3:\n",
    "            game_over()\n",
    "            break\n",
    "        else:\n",
    "            show_team()\n",
    "            \n",
    "if __name__ == '__main__':\n",
    "    main()\n",
    "            "
   ]
  },
  {
   "cell_type": "code",
   "execution_count": null,
   "metadata": {},
   "outputs": [],
   "source": []
  }
 ],
 "metadata": {
  "kernelspec": {
   "display_name": "Python 3",
   "language": "python",
   "name": "python3"
  },
  "language_info": {
   "codemirror_mode": {
    "name": "ipython",
    "version": 3
   },
   "file_extension": ".py",
   "mimetype": "text/x-python",
   "name": "python",
   "nbconvert_exporter": "python",
   "pygments_lexer": "ipython3",
   "version": "3.6.3"
  }
 },
 "nbformat": 4,
 "nbformat_minor": 2
}
