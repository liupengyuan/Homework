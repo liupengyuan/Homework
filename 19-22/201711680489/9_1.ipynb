{
 "cells": [
  {
   "cell_type": "code",
   "execution_count": 4,
   "metadata": {
    "scrolled": true
   },
   "outputs": [
    {
     "name": "stdout",
     "output_type": "stream",
     "text": [
      "二分查找： 0.5584864616394043\n",
      "顺序查找： 0.10828566551208496\n"
     ]
    }
   ],
   "source": [
    "import random,time\n",
    "def bi_search(number,numbers,low,high):\n",
    "    list1=[]\n",
    "    mid=(low+high)//2\n",
    "    if number==mid:\n",
    "        list1.append(mid)\n",
    "    elif number>mid:\n",
    "        return bi_search(number,numbers,mid+1,high)\n",
    "    else:\n",
    "        return bi_search(number,numbers,low,mid-1)\n",
    "A=[]\n",
    "B=[]\n",
    "list1=[]\n",
    "list2=[]\n",
    "for i in range(100000):\n",
    "    A.append(i)\n",
    "        \n",
    "start_time=time.time()\n",
    "for i in A:\n",
    "    bi_search(i,100000,1,100000)\n",
    "end_time1_1=time.time()\n",
    "end_time1=end_time1_1-start_time\n",
    "print('二分查找：',end_time1)\n",
    "random.shuffle(A) \n",
    "for i in range(1000):\n",
    "    k=number=random.randint(1,110001)\n",
    "    list1.append(k)\n",
    "for i in list1:\n",
    "    for j in A:\n",
    "        if i==j:\n",
    "            list2.append(i)\n",
    "        else:\n",
    "            break\n",
    "        \n",
    "\n",
    "end_time2_2=time.time()\n",
    "end_time2=end_time2_2-end_time1_1\n",
    "print('顺序查找：',end_time2)\n"
   ]
  }
 ],
 "metadata": {
  "kernelspec": {
   "display_name": "Python 3",
   "language": "python",
   "name": "python3"
  },
  "language_info": {
   "codemirror_mode": {
    "name": "ipython",
    "version": 3
   },
   "file_extension": ".py",
   "mimetype": "text/x-python",
   "name": "python",
   "nbconvert_exporter": "python",
   "pygments_lexer": "ipython3",
   "version": "3.6.3"
  }
 },
 "nbformat": 4,
 "nbformat_minor": 2
}
