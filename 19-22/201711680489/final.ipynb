{
 "cells": [
  {
   "cell_type": "code",
   "execution_count": 1,
   "metadata": {},
   "outputs": [
    {
     "name": "stdout",
     "output_type": "stream",
     "text": [
      "第一题\n"
     ]
    }
   ],
   "source": [
    "print('第一题')"
   ]
  },
  {
   "cell_type": "code",
   "execution_count": 14,
   "metadata": {},
   "outputs": [
    {
     "name": "stdout",
     "output_type": "stream",
     "text": [
      "           * ***** * \n",
      "         * * ***** * * \n",
      "       * * * ***** * * * \n",
      "     * * * * ***** * * * * \n",
      "   * * * * * ***** * * * * * \n"
     ]
    }
   ],
   "source": [
    "def get_graph(a,b):\n",
    "    for i in range(b):\n",
    "        print('  '*(b-i)+(' '+a)*(i+1)+' '*1+a*b+' '*1+(a+' ')*(i+1))\n",
    "        \n",
    "get_graph('*',5)\n",
    "    \n",
    "    "
   ]
  },
  {
   "cell_type": "code",
   "execution_count": 27,
   "metadata": {},
   "outputs": [
    {
     "name": "stdout",
     "output_type": "stream",
     "text": [
      "第二题\n"
     ]
    }
   ],
   "source": [
    "print('第二题')"
   ]
  },
  {
   "cell_type": "code",
   "execution_count": 30,
   "metadata": {},
   "outputs": [
    {
     "data": {
      "text/plain": [
       "125"
      ]
     },
     "execution_count": 30,
     "metadata": {},
     "output_type": "execute_result"
    }
   ],
   "source": [
    "def A(m,n):\n",
    "    if m == 0:\n",
    "        return n+1\n",
    "    elif m>0 and n==0:\n",
    "        return A(m-1,1)\n",
    "    elif m>0 and n >0:\n",
    "        return A(m-1,A(m,n-1))\n",
    "        \n",
    "A(3,4)"
   ]
  },
  {
   "cell_type": "code",
   "execution_count": 44,
   "metadata": {},
   "outputs": [
    {
     "name": "stdout",
     "output_type": "stream",
     "text": [
      "第三题(a)和（b）\n"
     ]
    }
   ],
   "source": [
    "print('第三题(a)和（b）')"
   ]
  },
  {
   "cell_type": "code",
   "execution_count": 43,
   "metadata": {},
   "outputs": [
    {
     "name": "stdout",
     "output_type": "stream",
     "text": [
      "4 - 13\n",
      "你的答案，回车结束-9\n",
      "12 - 22\n",
      "你的答案，回车结束-10\n",
      "25 - 15\n",
      "你的答案，回车结束-10\n",
      "17 + 20\n",
      "你的答案，回车结束37\n",
      "11 * 20\n",
      "你的答案，回车结束220\n",
      "17 - 15\n",
      "你的答案，回车结束2\n",
      "15 * 8\n",
      "你的答案，回车结束120\n",
      "24 * 10\n",
      "你的答案，回车结束240\n",
      "21 * 24\n",
      "你的答案，回车结束264\n",
      "13 + 5\n",
      "你的答案，回车结束18\n",
      "21 - 10\n",
      "你的答案，回车结束1\n",
      "16 + 6\n",
      "你的答案，回车结束22\n",
      "21 * 8\n",
      "你的答案，回车结束168\n",
      "23 * 24\n",
      "你的答案，回车结束689\n",
      "13 * 24\n",
      "你的答案，回车结束256\n",
      "70\n"
     ]
    }
   ],
   "source": [
    "import random\n",
    "n=15\n",
    "a=3\n",
    "b=25\n",
    "grade=0\n",
    "i=0\n",
    "while i < n:\n",
    "    k=random.randint(a,b)\n",
    "    j=random.randint(a,b)\n",
    "    l=random.randint(1,5)\n",
    "    if l==1:\n",
    "        i=i+1\n",
    "        answer1=k+j\n",
    "        print(k,'+',j)\n",
    "        answer=int(input('你的答案，回车结束'))\n",
    "        if answer==answer1:\n",
    "            grade=grade+5\n",
    "        else:\n",
    "            grade=grade+0\n",
    "    elif l==2:\n",
    "        i=i+1\n",
    "        answer2=k-j\n",
    "        print(k,'-',j)\n",
    "        answer=int(input('你的答案，回车结束'))\n",
    "        if answer==answer2:\n",
    "            grade=grade+5\n",
    "        else:\n",
    "            grade=grade+0\n",
    "    elif l==3:\n",
    "        i=i+1\n",
    "        answer3=k*j\n",
    "        print(k,'*',j)\n",
    "        answer=int(input('你的答案，回车结束'))\n",
    "        if answer==answer3:\n",
    "            grade=grade+10\n",
    "        else:\n",
    "            grade=grade+0\n",
    "    elif l==4:\n",
    "        answer4=k/j\n",
    "        if answer4%1==0:\n",
    "            i=i+1\n",
    "            print(k,'/',j)\n",
    "            answer=int(input('你的答案，回车结束'))\n",
    "            if answer==answer4:\n",
    "                grade=grade+5\n",
    "            else:\n",
    "                grade=grade+0\n",
    "        else:\n",
    "            i=i+0\n",
    "print(grade)"
   ]
  },
  {
   "cell_type": "code",
   "execution_count": 45,
   "metadata": {},
   "outputs": [
    {
     "name": "stdout",
     "output_type": "stream",
     "text": [
      "第三题（c）\n"
     ]
    }
   ],
   "source": [
    "print('第三题（c）')"
   ]
  },
  {
   "cell_type": "code",
   "execution_count": 4,
   "metadata": {},
   "outputs": [
    {
     "name": "stdout",
     "output_type": "stream",
     "text": [
      "你想输入多少个题10\n",
      "你想做什么运算，加法输入1，减法2，乘法3，除法41\n",
      "第一个数25\n",
      "第二个数48\n",
      "25 + 48\n",
      "你想做什么运算，加法输入1，减法2，乘法3，除法4125\n",
      "你想做什么运算，加法输入1，减法2，乘法3，除法465\n",
      "你想做什么运算，加法输入1，减法2，乘法3，除法42\n",
      "第一个数45\n",
      "第二个数68\n",
      "45 - 68\n",
      "你想做什么运算，加法输入1，减法2，乘法3，除法43\n",
      "第一个数45\n",
      "第二个数25\n",
      "45 * 25\n",
      "你想做什么运算，加法输入1，减法2，乘法3，除法41\n",
      "第一个数12\n",
      "第二个数12\n",
      "12 + 12\n",
      "你想做什么运算，加法输入1，减法2，乘法3，除法42\n",
      "第一个数52\n",
      "第二个数52\n",
      "52 - 52\n",
      "你想做什么运算，加法输入1，减法2，乘法3，除法43\n",
      "第一个数15\n",
      "第二个数45\n",
      "15 * 45\n",
      "你想做什么运算，加法输入1，减法2，乘法3，除法41\n",
      "第一个数45\n",
      "第二个数36\n",
      "45 + 36\n",
      "你想做什么运算，加法输入1，减法2，乘法3，除法42\n",
      "第一个数78\n",
      "第二个数85\n",
      "78 - 85\n",
      "50\n"
     ]
    }
   ],
   "source": [
    "n=int(input('你想输入多少个题'))\n",
    "i=0\n",
    "grade=0\n",
    "while i < n:\n",
    "    m=int(input('你想做什么运算，加法输入1，减法2，乘法3，除法4'))\n",
    "    if m == 1:\n",
    "        k=int(input('第一个数'))\n",
    "        j=int(input('第二个数'))\n",
    "        print(k,'+',j)\n",
    "        grade=grade+5\n",
    "    if m == 2:\n",
    "        k=int(input('第一个数'))\n",
    "        j=int(input('第二个数'))\n",
    "        print(k,'-',j)\n",
    "        answer=k-j\n",
    "        grade=grade+5\n",
    "    if m == 3:\n",
    "        k=int(input('第一个数'))\n",
    "        j=int(input('第二个数'))\n",
    "        print(k,'*',j)\n",
    "        answer=k*j\n",
    "        grade=grade+10\n",
    "    if m == 4:\n",
    "        k=int(input('第一个数'))\n",
    "        j=int(input('第二个数'))\n",
    "        print(k,'/',j)\n",
    "        answer=k/j\n",
    "        grade=grade+10\n",
    "    i=i+1\n",
    "print(grade)"
   ]
  },
  {
   "cell_type": "code",
   "execution_count": 17,
   "metadata": {},
   "outputs": [
    {
     "name": "stdout",
     "output_type": "stream",
     "text": [
      "第四题(a)\n"
     ]
    }
   ],
   "source": [
    "print('第四题(a)')"
   ]
  },
  {
   "cell_type": "code",
   "execution_count": 38,
   "metadata": {},
   "outputs": [],
   "source": [
    "filename=r'e:\\temp\\成语大全.txt'\n",
    "A=set()\n",
    "with open(filename,encoding = 'utf-8') as f:\n",
    "    for line in f:\n",
    "        A |= {word.split('拼音')[0] for word in line} \n",
    "        \n"
   ]
  },
  {
   "cell_type": "code",
   "execution_count": 39,
   "metadata": {},
   "outputs": [
    {
     "name": "stdout",
     "output_type": "stream",
     "text": [
      "第四题（b）\n"
     ]
    }
   ],
   "source": [
    "print('第四题（b）')"
   ]
  },
  {
   "cell_type": "code",
   "execution_count": null,
   "metadata": {},
   "outputs": [],
   "source": [
    "filename=r'e:\\temp\\成语大全.txt'\n",
    "A=set()\n",
    "with open(filename,encoding = 'utf-8') as f:\n",
    "    for line in f:\n",
    "        A |= {word.split('拼音')[0] for word in line} \n",
    "        \n",
    "word_table=[]\n",
    "with open(r'e:\\temp\\语料库.txt') as fh:\n",
    "    for line in fh:\n",
    "        word_table=[word.split('\\n') for word in line.split()]\n",
    "words_freq_dict={}\n",
    "for word in A:\n",
    "    if word in word_table:\n",
    "        words_freq_dict[word] += 1\n",
    "    else:\n",
    "        words_freq_dict[word] = 1\n",
    "for i,item in enumerate(words_freq_dict):\n",
    "    \n",
    "    print(item,words_freq_dict[item])\n"
   ]
  },
  {
   "cell_type": "code",
   "execution_count": 53,
   "metadata": {},
   "outputs": [
    {
     "name": "stdout",
     "output_type": "stream",
     "text": [
      "第四题（d）\n"
     ]
    }
   ],
   "source": [
    "print('第四题（d）')"
   ]
  },
  {
   "cell_type": "code",
   "execution_count": null,
   "metadata": {},
   "outputs": [],
   "source": [
    "with open(r'e:\\temp\\语料库.txt') as fh:\n",
    "    text=fh.read()\n",
    "    table=[]\n",
    "    new=['nr']\n",
    "    for line in fh:\n",
    "        if word in word.split('\\n')[1] in new:\n",
    "            table.append(word.split('\\n')[0])\n",
    "print(table)\n",
    "            \n",
    "    "
   ]
  },
  {
   "cell_type": "code",
   "execution_count": 61,
   "metadata": {},
   "outputs": [
    {
     "name": "stdout",
     "output_type": "stream",
     "text": [
      "第四题（e）\n"
     ]
    }
   ],
   "source": [
    "print('第四题（e）')"
   ]
  },
  {
   "cell_type": "code",
   "execution_count": 68,
   "metadata": {},
   "outputs": [
    {
     "ename": "SyntaxError",
     "evalue": "invalid syntax (<ipython-input-68-8f4303a14143>, line 11)",
     "output_type": "error",
     "traceback": [
      "\u001b[1;36m  File \u001b[1;32m\"<ipython-input-68-8f4303a14143>\"\u001b[1;36m, line \u001b[1;32m11\u001b[0m\n\u001b[1;33m    print(len(word2))\u001b[0m\n\u001b[1;37m        ^\u001b[0m\n\u001b[1;31mSyntaxError\u001b[0m\u001b[1;31m:\u001b[0m invalid syntax\n"
     ]
    }
   ],
   "source": [
    "filename=r'e:\\temp\\成语大全.txt'\n",
    "A=set()\n",
    "with open(filename,encoding = 'utf-8') as f:\n",
    "    for line in f:\n",
    "        A |= {word.split('拼音')[0] for word in line} \n",
    "print(len(A))\n",
    "word2=[]\n",
    "with open(r'e:\\temp\\语料库.txt') as fw:\n",
    "    for line in fh:\n",
    "        word2.append(word.split('\\n') for word in line.split()\n",
    "\n",
    "print(len(word2))\n",
    "\n"
   ]
  },
  {
   "cell_type": "code",
   "execution_count": null,
   "metadata": {
    "collapsed": true
   },
   "outputs": [],
   "source": []
  },
  {
   "cell_type": "code",
   "execution_count": null,
   "metadata": {
    "collapsed": true
   },
   "outputs": [],
   "source": []
  }
 ],
 "metadata": {
  "kernelspec": {
   "display_name": "Python 3",
   "language": "python",
   "name": "python3"
  }
 },
 "nbformat": 4,
 "nbformat_minor": 2
}
