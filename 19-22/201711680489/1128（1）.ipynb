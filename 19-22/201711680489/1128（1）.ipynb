{
 "cells": [
  {
   "cell_type": "code",
   "execution_count": 47,
   "metadata": {},
   "outputs": [
    {
     "name": "stdout",
     "output_type": "stream",
     "text": [
      "a\n",
      "ab\n",
      "abc\n",
      "abcd\n",
      "abcde\n",
      "abcdef\n",
      "abcdefg\n",
      "abcdefgh\n",
      "abcdefghi\n",
      "abcdefghig\n",
      "abcdefghigk\n",
      "abcdefghigkl\n",
      "abcdefghigklm\n",
      "abcdefghigklmn\n",
      "abcdefghigklmno\n",
      "abcdefghigklmnop\n",
      "abcdefghigklmnopq\n",
      "abcdefghigklmnopqr\n",
      "abcdefghigklmnopqrs\n",
      "abcdefghigklmnopqrst\n",
      "abcdefghigklmnopqrstu\n",
      "abcdefghigklmnopqrstuv\n",
      "abcdefghigklmnopqrstuvw\n",
      "abcdefghigklmnopqrstuvwx\n",
      "abcdefghigklmnopqrstuvwxy\n",
      "abcdefghigklmnopqrstuvwxyz\n"
     ]
    }
   ],
   "source": [
    "line='abcdefghigklmnopqrstuvwxyz'\n",
    "i=0\n",
    "for ch in line:\n",
    "    i=i+1\n",
    "    print(line[0:i])"
   ]
  },
  {
   "cell_type": "code",
   "execution_count": 48,
   "metadata": {},
   "outputs": [
    {
     "name": "stdout",
     "output_type": "stream",
     "text": [
      "你想打多少行，回车结束5\n",
      "         * \n",
      "        * * \n",
      "       * * * \n",
      "      * * * * \n",
      "     * * * * * \n"
     ]
    }
   ],
   "source": [
    "m=int(input('你想打多少行，回车结束'))\n",
    "for i in range(1,m+1):\n",
    "    for k in range(m*2-i,0,-1):\n",
    "        print(' ',end='')\n",
    "    for j in range(1,i+1):\n",
    "        print('* ',end='')\n",
    "    print()"
   ]
  },
  {
   "cell_type": "code",
   "execution_count": null,
   "metadata": {
    "collapsed": true
   },
   "outputs": [],
   "source": []
  }
 ],
 "metadata": {
  "kernelspec": {
   "display_name": "Python 3",
   "language": "python",
   "name": "python3"
  },
  "language_info": {
   "codemirror_mode": {
    "name": "ipython",
    "version": 3
   },
   "file_extension": ".py",
   "mimetype": "text/x-python",
   "name": "python",
   "nbconvert_exporter": "python",
   "pygments_lexer": "ipython3",
   "version": "3.6.3"
  }
 },
 "nbformat": 4,
 "nbformat_minor": 2
}
