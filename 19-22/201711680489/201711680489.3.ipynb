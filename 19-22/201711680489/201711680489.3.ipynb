{
 "cells": [
  {
   "cell_type": "code",
   "execution_count": 5,
   "metadata": {},
   "outputs": [
    {
     "name": "stdout",
     "output_type": "stream",
     "text": [
      "请输入你的名字，回车结束sth\n",
      "请输入你的生日，如6月26日输入626，回车结束1118\n",
      "sth 你是非常有性格的天蝎座！\n"
     ]
    }
   ],
   "source": [
    "m=input('请输入你的名字，回车结束')\n",
    "n=int(input('请输入你的生日，如6月26日输入626，回车结束'))\n",
    "if 321<=n<=419:\n",
    "    print(m,'你是非常有性格的白羊座！')\n",
    "elif 420<=n<=520:\n",
    "    print(m,'你是非常有性格的金牛座！')\n",
    "elif 521<=n<=621:\n",
    "    print(m,'你是非常有性格的双子座！')\n",
    "elif 622<=n<=722:\n",
    "    print(m,'你是非常有性格的巨蟹座！')\n",
    "elif 723<=n<=822:\n",
    "    print(m,'你是非常有性格的狮子座！')\n",
    "elif 823<=n<=922:\n",
    "    print(m,'你是非常有性格的处女座！')\n",
    "elif 923<=n<=1023:\n",
    "    print(m,'你是非常有性格的天秤座！')\n",
    "elif 1024<=n<=1122:\n",
    "    print(m,'你是非常有性格的天蝎座！')\n",
    "elif 1123<=n<=1221:\n",
    "    print(m,'你是非常有性格的射手座！')\n",
    "elif 1222<=n<=1231 or 101<=n<=119:\n",
    "    print(m,'你是非常有性格摩羯座！')\n",
    "elif 120<=n<=218:\n",
    "    print(m,'你是非常有性格的水瓶座！')\n",
    "elif 219<=n<=320:\n",
    "    print(m,'你是非常有性格的双鱼座！')"
   ]
  },
  {
   "cell_type": "code",
   "execution_count": 20,
   "metadata": {},
   "outputs": [
    {
     "name": "stdout",
     "output_type": "stream",
     "text": [
      "请输入任意一个整数，回车结束18\n",
      "请输入任意一个不为0的整数，回车结束7\n",
      "1代表求和，10代表乘积，100代表m除以n的余数，请选择你的意图，回车结束4\n",
      "2\n"
     ]
    }
   ],
   "source": [
    "m=int(input('请输入任意一个整数，回车结束'))\n",
    "n=int(input('请输入任意一个不为0的整数，回车结束'))\n",
    "i=int(input('1代表求和，10代表乘积，100代表m除以n的余数，请选择你的意图，回车结束'))\n",
    "if i==1:\n",
    "    w=m+n\n",
    "    print(w)\n",
    "elif i==2:\n",
    "    w=m*n\n",
    "    print(w)\n",
    "elif i==3:\n",
    "    w=m%n\n",
    "    print(w)\n",
    "elif i==4:\n",
    "    w=m//n\n",
    "    print(w)\n"
   ]
  },
  {
   "cell_type": "code",
   "execution_count": 2,
   "metadata": {},
   "outputs": [
    {
     "name": "stdout",
     "output_type": "stream",
     "text": [
      "请输入一个英文单词dgfhd\n",
      "直接加s\n"
     ]
    }
   ],
   "source": [
    "m=input('请输入一个英文单词')\n",
    "if ('m').endswith('y'):\n",
    "    print('变y为i加es')\n",
    "elif ('m').endswith('f'):\n",
    "    print('去掉f加ves')\n",
    "else:\n",
    "     print('直接加s')\n"
   ]
  },
  {
   "cell_type": "code",
   "execution_count": null,
   "metadata": {},
   "outputs": [],
   "source": [
    "尝试性练习：写程序，能够在屏幕上显示空行"
   ]
  },
  {
   "cell_type": "code",
   "execution_count": 3,
   "metadata": {},
   "outputs": [
    {
     "name": "stdout",
     "output_type": "stream",
     "text": [
      "\n",
      "\n"
     ]
    }
   ],
   "source": [
    "print('\\n')"
   ]
  }
 ],
 "metadata": {
  "kernelspec": {
   "display_name": "Python 3",
   "language": "python",
   "name": "python3"
  },
  "language_info": {
   "codemirror_mode": {
    "name": "ipython",
    "version": 3
   },
   "file_extension": ".py",
   "mimetype": "text/x-python",
   "name": "python",
   "nbconvert_exporter": "python",
   "pygments_lexer": "ipython3",
   "version": "3.6.3"
  }
 },
 "nbformat": 4,
 "nbformat_minor": 2
}
