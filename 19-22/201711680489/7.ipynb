{
 "cells": [
  {
   "cell_type": "code",
   "execution_count": 12,
   "metadata": {},
   "outputs": [
    {
     "name": "stdout",
     "output_type": "stream",
     "text": [
      "练习一：自己定义一个reverse(s)函数，功能返回字符串s的倒序字符串。\n"
     ]
    }
   ],
   "source": [
    "print('练习一：自己定义一个reverse(s)函数，功能返回字符串s的倒序字符串。')"
   ]
  },
  {
   "cell_type": "code",
   "execution_count": 13,
   "metadata": {},
   "outputs": [
    {
     "name": "stdout",
     "output_type": "stream",
     "text": [
      "123456789\n",
      "987654321"
     ]
    }
   ],
   "source": [
    "def reverse(s):\n",
    "    for i in range(len(s)-1,-1,-1):\n",
    "        print(s[i],end='')\n",
    "    \n",
    "line=input()\n",
    "reverse(line)"
   ]
  },
  {
   "cell_type": "code",
   "execution_count": 14,
   "metadata": {},
   "outputs": [
    {
     "name": "stdout",
     "output_type": "stream",
     "text": [
      "练习二：写函数，根据给定符号和行数，打印相应直角三角形，等腰三角形及其他形式的三角形。\n"
     ]
    }
   ],
   "source": [
    "print('练习二：写函数，根据给定符号和行数，打印相应直角三角形，等腰三角形及其他形式的三角形。')"
   ]
  },
  {
   "cell_type": "code",
   "execution_count": 32,
   "metadata": {},
   "outputs": [
    {
     "name": "stdout",
     "output_type": "stream",
     "text": [
      "符号后加一个空格，如‘* ’，回车结束* \n",
      "5\n",
      "* \n",
      "* * \n",
      "* * * \n",
      "* * * * \n",
      "* * * * * \n",
      "------------------------------\n",
      "          * \n",
      "         * * \n",
      "        * * * \n",
      "       * * * * \n",
      "      * * * * * \n",
      "------------------------------\n",
      "     * * * * * \n",
      "      * * * * \n",
      "       * * * \n",
      "        * * \n",
      "         * \n"
     ]
    }
   ],
   "source": [
    "def define(m,n):\n",
    "    for i in range(n):\n",
    "        print(m*(i+1))\n",
    "        \n",
    "    print('-'*30)\n",
    "    for i in range(n):\n",
    "        print((2*n-i)*' '+m*(i+1))\n",
    "        \n",
    "    print('-'*30)\n",
    "    for i in range(n,0,-1):\n",
    "        print((2*n-i)*' '+m*i)\n",
    "        \n",
    "        \n",
    "m=input('符号后加一个空格，如‘* ’，回车结束')\n",
    "n=int(input())\n",
    "define(m,n)"
   ]
  },
  {
   "cell_type": "code",
   "execution_count": 33,
   "metadata": {},
   "outputs": [
    {
     "name": "stdout",
     "output_type": "stream",
     "text": [
      "练习五：写函数，根据给定符号，打印各种菱形。\n"
     ]
    }
   ],
   "source": [
    "print('练习五：写函数，根据给定符号，打印各种菱形。')"
   ]
  },
  {
   "cell_type": "code",
   "execution_count": 6,
   "metadata": {},
   "outputs": [
    {
     "name": "stdout",
     "output_type": "stream",
     "text": [
      "请输入符号，加一个空格，如‘* ’，回车结束* \n",
      "5\n",
      "          * \n",
      "         * * \n",
      "        * * * \n",
      "       * * * * \n",
      "      * * * * * \n",
      "       * * * * \n",
      "        * * * \n",
      "         * * \n",
      "          * \n",
      "------------------------------\n",
      "          * * * * * * \n",
      "         * * * * * * \n",
      "        * * * * * * \n",
      "       * * * * * * \n",
      "      * * * * * * \n"
     ]
    }
   ],
   "source": [
    "def rhombus(m,n):\n",
    "    for i in range(n):\n",
    "        print((2*n-i)*' '+m*(i+1))\n",
    "    for i in range(n-1,0,-1):\n",
    "        print((2*n-i+1)*' '+m*i)\n",
    "    print('-'*30)\n",
    "    for i in range(n):\n",
    "        print((2*n-i)*' '+m*(i+1)+m*(n-i))\n",
    "    \n",
    "    \n",
    "            \n",
    "m=input('请输入符号，加一个空格，如‘* ’，回车结束')\n",
    "n=int(input())\n",
    "rhombus(m,n)"
   ]
  }
 ],
 "metadata": {
  "kernelspec": {
   "display_name": "Python 3",
   "language": "python",
   "name": "python3"
  },
  "language_info": {
   "codemirror_mode": {
    "name": "ipython",
    "version": 3
   },
   "file_extension": ".py",
   "mimetype": "text/x-python",
   "name": "python",
   "nbconvert_exporter": "python",
   "pygments_lexer": "ipython3",
   "version": "3.6.3"
  }
 },
 "nbformat": 4,
 "nbformat_minor": 2
}
