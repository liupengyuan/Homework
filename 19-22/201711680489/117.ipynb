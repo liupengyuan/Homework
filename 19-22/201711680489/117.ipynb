{
 "cells": [
  {
   "cell_type": "code",
   "execution_count": 1,
   "metadata": {},
   "outputs": [
    {
     "name": "stdout",
     "output_type": "stream",
     "text": [
      "请随意输入一个整数，回车结束5\n",
      "请随意输入不同于m的整数，回车结束10\n",
      "请随意输入一个不同于m，n的整数，回车结束500\n",
      "13.114877048604\n"
     ]
    }
   ],
   "source": [
    "import random,math\n",
    "\n",
    "m=int(input('请随意输入一个整数，回车结束'))\n",
    "n=int(input('请随意输入不同于m的整数，回车结束'))\n",
    "k=int(input('请随意输入一个不同于m，n的整数，回车结束'))\n",
    "\n",
    "i=0\n",
    "total=0\n",
    "while i<m:\n",
    "    number=random.randint(n,k)\n",
    "    i=i+1\n",
    "    total=total+number\n",
    "    break\n",
    "total=math.sqrt(total)\n",
    "print(total)"
   ]
  }
 ],
 "metadata": {
  "kernelspec": {
   "display_name": "Python 3",
   "language": "python",
   "name": "python3"
  },
  "language_info": {
   "codemirror_mode": {
    "name": "ipython",
    "version": 3
   },
   "file_extension": ".py",
   "mimetype": "text/x-python",
   "name": "python",
   "nbconvert_exporter": "python",
   "pygments_lexer": "ipython3",
   "version": "3.6.3"
  }
 },
 "nbformat": 4,
 "nbformat_minor": 2
}
