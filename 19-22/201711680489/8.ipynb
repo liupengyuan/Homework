{
 "cells": [
  {
   "cell_type": "code",
   "execution_count": 7,
   "metadata": {
    "scrolled": true
   },
   "outputs": [
    {
     "name": "stdout",
     "output_type": "stream",
     "text": [
      "*******游戏菜单********\n",
      "             1.游戏说明。\n",
      "             2.开始游戏。\n",
      "             3.退出游戏\n",
      "             4.制作团队\n",
      "             *******游戏菜单********\n",
      "请输入你的选择，回车结束2\n",
      "\n",
      "谢天谢地\n",
      "请输入你所接成语，回车结束地利人和\n",
      "地利人和\n",
      "唉,游戏结束啦！\n",
      "person: 10 computer: 0\n",
      "*******游戏菜单********\n",
      "             1.游戏说明。\n",
      "             2.开始游戏。\n",
      "             3.退出游戏\n",
      "             4.制作团队\n",
      "             *******游戏菜单********\n",
      "请输入你的选择，回车结束3\n",
      "唉,游戏结束啦！\n"
     ]
    }
   ],
   "source": [
    "import random\n",
    "\n",
    "def game_over():\n",
    "    print('唉,游戏结束啦！')\n",
    "def show_team():\n",
    "    print('你猜，猜对了我就告诉你呀！')\n",
    "    \n",
    "def show_instruction():\n",
    "    print('计算机随机出一个成语，人类进行接龙，然后交替。程序自动判断接龙是否正确，对一个加10分，错误则游戏结束。')\n",
    "    \n",
    "def menu():\n",
    "    print('''*******游戏菜单********\n",
    "             1.游戏说明。\n",
    "             2.开始游戏。\n",
    "             3.退出游戏\n",
    "             4.制作团队\n",
    "             *******游戏菜单********''')\n",
    "def continue_game():\n",
    "    computer=0\n",
    "    person=0\n",
    "    fh=open(r'c:\\temp\\成语大全.txt')\n",
    "    text=fh.read()\n",
    "    idioms=text.split('、')\n",
    "    start=random.choice(idioms)\n",
    "    new_idioms=[]\n",
    "    print(start)\n",
    "    answer=input('请输入你所接成语，回车结束')\n",
    "    print(answer)\n",
    "    for idiom in idioms:\n",
    "        if idiom[0]==answer[len(answer)-1]:\n",
    "            mew_idioms.append(idiom)\n",
    "    if len(new_idioms)==0:\n",
    "        if answer[0]==start[len(start)-1]:\n",
    "            person=person+10\n",
    "        game_over()\n",
    "        print('person:',person,'computer:',computer)\n",
    "    else:\n",
    "\n",
    "        while answer[0]==start[len(start)-1]:\n",
    "            person=person+10\n",
    "            start=random.choice(new_idioms)\n",
    "            print(start)\n",
    "            computer=computer+10\n",
    "            answer=input()\n",
    "\n",
    "def main():\n",
    "    while True:\n",
    "        menu()\n",
    "        choice=int(input('请输入你的选择，回车结束'))\n",
    "        if choice==1:\n",
    "            show_instruction()\n",
    "        elif choice==2:\n",
    "            continue_game()\n",
    "        elif choice==3:\n",
    "            game_over()\n",
    "            break\n",
    "        else:\n",
    "            show_team()\n",
    "            \n",
    "if __name__ == '__main__':\n",
    "    main()\n",
    "        "
   ]
  },
  {
   "cell_type": "code",
   "execution_count": null,
   "metadata": {
    "collapsed": true
   },
   "outputs": [],
   "source": []
  },
  {
   "cell_type": "code",
   "execution_count": null,
   "metadata": {
    "collapsed": true
   },
   "outputs": [],
   "source": []
  },
  {
   "cell_type": "code",
   "execution_count": null,
   "metadata": {
    "collapsed": true
   },
   "outputs": [],
   "source": []
  },
  {
   "cell_type": "code",
   "execution_count": null,
   "metadata": {
    "collapsed": true
   },
   "outputs": [],
   "source": []
  }
 ],
 "metadata": {
  "kernelspec": {
   "display_name": "Python 3",
   "language": "python",
   "name": "python3"
  }
 },
 "nbformat": 4,
 "nbformat_minor": 2
}
