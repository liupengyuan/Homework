{
 "cells": [
  {
   "cell_type": "code",
   "execution_count": 6,
   "metadata": {},
   "outputs": [
    {
     "name": "stdout",
     "output_type": "stream",
     "text": [
      "899\n",
      "-10\n",
      "106.72999999999999\n"
     ]
    }
   ],
   "source": [
    "a =[1,2,-1,55,100,899,-10,3,12.5,5.8]\n",
    "for i in range(len(a)):\n",
    "    for j in range(i+1,len(a)):\n",
    "        first=a[i]\n",
    "        second=a[j]\n",
    "        \n",
    "        if first<second:\n",
    "            a[i]=a[j]\n",
    "            a[j]=first\n",
    "print (a[0])\n",
    "print (a[9])\n",
    "total=a[1]+a[2]+a[3]+a[4]+a[5]+a[6]+a[7]+a[8]+a[9]+a[0]\n",
    "print (total/10)"
   ]
  },
  {
   "cell_type": "code",
   "execution_count": null,
   "metadata": {},
   "outputs": [],
   "source": []
  }
 ],
 "metadata": {
  "kernelspec": {
   "display_name": "Python 3",
   "language": "python",
   "name": "python3"
  },
  "language_info": {
   "codemirror_mode": {
    "name": "ipython",
    "version": 3
   },
   "file_extension": ".py",
   "mimetype": "text/x-python",
   "name": "python",
   "nbconvert_exporter": "python",
   "pygments_lexer": "ipython3",
   "version": "3.6.3"
  }
 },
 "nbformat": 4,
 "nbformat_minor": 2
}
