{
 "cells": [
  {
   "cell_type": "code",
   "execution_count": null,
   "metadata": {},
   "outputs": [],
   "source": []
  },
  {
   "cell_type": "markdown",
   "metadata": {},
   "source": []
  },
  {
   "cell_type": "code",
   "execution_count": null,
   "metadata": {},
   "outputs": [],
   "source": []
  },
  {
   "cell_type": "code",
   "execution_count": 4,
   "metadata": {},
   "outputs": [
    {
     "name": "stdout",
     "output_type": "stream",
     "text": [
      "请输入要输入的整数个数，回车结束。5\n",
      "请输入一个整数，回车结束5\n",
      "请输入一个整数，回车结束5\n",
      "请输入一个整数，回车结束5\n",
      "请输入一个整数，回车结束5\n",
      "请输入一个整数，回车结束5\n",
      "最大值是： 5\n",
      "最小值是： 5\n",
      "平均值是： 5.0\n"
     ]
    }
   ],
   "source": []
  },
  {
   "cell_type": "code",
   "execution_count": 17,
   "metadata": {},
   "outputs": [
    {
     "name": "stdout",
     "output_type": "stream",
     "text": [
      "37814.0\n"
     ]
    }
   ],
   "source": [
    "n=1\n",
    "m=1024\n",
    "total=0\n",
    "while n<1024:\n",
    "    n=n+1\n",
    "    a=n/7\n",
    "    if a%1==0:\n",
    "        x=a/2  \n",
    "        if x%1==0:\n",
    "            total=total+x*14\n",
    "print(total)\n",
    "    "
   ]
  },
  {
   "cell_type": "code",
   "execution_count": null,
   "metadata": {},
   "outputs": [],
   "source": []
  }
 ],
 "metadata": {
  "kernelspec": {
   "display_name": "Python 3",
   "language": "python",
   "name": "python3"
  }
 },
 "nbformat": 4,
 "nbformat_minor": 2
}
