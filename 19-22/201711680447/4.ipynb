{
 "cells": [
  {
   "cell_type": "code",
   "execution_count": 3,
   "metadata": {},
   "outputs": [
    {
     "name": "stdout",
     "output_type": "stream",
     "text": [
      "请输入第1个整数，以回车结束。1\n",
      "请输入第2个整数，以回车结束。2\n",
      "请输入第3个整数，以回车结束。3\n",
      "9\n"
     ]
    }
   ],
   "source": [
    "n = int(input('请输入第1个整数，以回车结束。'))\n",
    "m = int(input('请输入第2个整数，以回车结束。'))\n",
    "k = int(input('请输入第3个整数，以回车结束。'))\n",
    "def a(n):\n",
    "    i=0\n",
    "    totaln=1\n",
    "    while i<n:\n",
    "        i=i+1\n",
    "        totaln=totaln*i\n",
    "    return totaln\n",
    "def b(m):\n",
    "    i=0\n",
    "    totalm=1\n",
    "    while i<m:\n",
    "        i=i+1\n",
    "        totalm=totalm*i\n",
    "    return totalm\n",
    "def c(k):\n",
    "    i=0\n",
    "    totalk=1\n",
    "    while i<k:\n",
    "        i=i+1\n",
    "        totalk=totalk*i\n",
    "    return totalk\n",
    "print(a(n)+b(m)+c(k))\n",
    "\n"
   ]
  },
  {
   "cell_type": "code",
   "execution_count": 14,
   "metadata": {},
   "outputs": [
    {
     "name": "stdout",
     "output_type": "stream",
     "text": [
      "请输入1个整数，以回车结束。2\n",
      "2.666666666666667\n"
     ]
    }
   ],
   "source": [
    "n = int(input('请输入1个整数，以回车结束。'))\n",
    "def t(n):\n",
    "    i=0\n",
    "    total=0\n",
    "    while i<n:\n",
    "        i=i+1\n",
    "        total=total+(1/((2*i)-1))*(-1)**(i-1)\n",
    "    return total\n",
    "print(4*t(n))\n",
    "\n"
   ]
  },
  {
   "cell_type": "code",
   "execution_count": null,
   "metadata": {},
   "outputs": [],
   "source": [
    "m =(input('请输入您的名字,回车结束。'))\n",
    "n =int(input('请输入您的月份和日期，如2月01写作201,回车结束'))\n",
    "def my_abs(n):\n",
    "    if 321<=n<=419:\n",
    "        return m,'你是非常有性格的白羊座！'\n",
    "    elif 420<=n<=520:\n",
    "        return m,'你是非常有性格的金牛座！'\n",
    "    elif 521<=n<=621:\n",
    "        return m,'你是非常有性格的双子座！' \n",
    "    elif 622<=n<=722:\n",
    "        return m,'你是非常有性格的巨蟹座！'\n",
    "    elif 723<=n<=822:\n",
    "        return m,'你是非常有性格的狮子座！ '\n",
    "    elif 823<=n<=922 :\n",
    "        return m,'你是非常有性格的处女座！' \n",
    "    elif 923<=n<=1023:\n",
    "        return m,'你是非常有性格的天秤座！'\n",
    "    elif 1024<=n<=1122:\n",
    "        return m,'你是非常有性格的天蝎座！'\n",
    "    elif 1123<=n<=1221:\n",
    "        return m,'你是非常有性格的射手座！'\n",
    "    elif n<119 or n>1222: \n",
    "        return m,'你是非常有性格的摩羯座！' \n",
    "    elif 120<=n<=218:\n",
    "        return m,'你是非常有性格的水瓶座！ '\n",
    "    elif 219<=n<=321:\n",
    "        return m,'你是非常有性格的双鱼座！ '\n",
    "    else:\n",
    "        return m,'您打错了'\n",
    "print(my_abs(n))\n",
    "\n",
    "    \n"
   ]
  },
  {
   "cell_type": "code",
   "execution_count": 1,
   "metadata": {},
   "outputs": [
    {
     "name": "stdout",
     "output_type": "stream",
     "text": [
      "请输入要输入的单词，回车结束。nihao\n",
      "直接加es\n"
     ]
    }
   ],
   "source": [
    "n = (input('请输入要输入的单词，回车结束。'))\n",
    "def my_abs(n):\n",
    "    if ('n').endswith('y'):\n",
    "        return'变y为i加es'\n",
    "    elif('n').endswith('e'):\n",
    "        return'直接加s'\n",
    "    else:\n",
    "        return'直接加es'\n",
    "print(my_abs(n))\n"
   ]
  },
  {
   "cell_type": "code",
   "execution_count": 8,
   "metadata": {},
   "outputs": [
    {
     "name": "stdout",
     "output_type": "stream",
     "text": [
      "请输入较小的整数，以回车结束。1\n",
      "请输入较大的整数，以回车结束。7\n",
      "请输入距离差，以回车结束。6\n",
      "最终的和是： 28\n"
     ]
    }
   ],
   "source": [
    "n = int(input('请输入较小的整数，以回车结束。'))\n",
    "m = int(input('请输入较大的整数，以回车结束。'))\n",
    "k = int(input('请输入距离差，以回车结束。'))\n",
    "if m-n==k:\n",
    "    def compute_sum(m):\n",
    "        i = 0\n",
    "        total_m = 0\n",
    "        while i < m:\n",
    "            i = i + 1\n",
    "            total_m = total_m + i\n",
    "        return total_m\n",
    "    def compute_sum(n):\n",
    "        i = 0\n",
    "        total_n = 0\n",
    "        while i < n:\n",
    "            i = i + 1\n",
    "            total_n = total_n + i\n",
    "        return total_n\n",
    "    print('最终的和是：', compute_sum(m) - compute_sum(n) +n)\n",
    "else:\n",
    "    print('输入错误')\n",
    "\n",
    "\n",
    "\n",
    "\n"
   ]
  },
  {
   "cell_type": "code",
   "execution_count": null,
   "metadata": {},
   "outputs": [],
   "source": []
  },
  {
   "cell_type": "code",
   "execution_count": null,
   "metadata": {},
   "outputs": [],
   "source": []
  }
 ],
 "metadata": {
  "kernelspec": {
   "display_name": "Python 3",
   "language": "python",
   "name": "python3"
  },
  "language_info": {
   "codemirror_mode": {
    "name": "ipython",
    "version": 3
   },
   "file_extension": ".py",
   "mimetype": "text/x-python",
   "name": "python",
   "nbconvert_exporter": "python",
   "pygments_lexer": "ipython3",
   "version": "3.6.3"
  }
 },
 "nbformat": 4,
 "nbformat_minor": 2
}
