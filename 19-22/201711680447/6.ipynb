{
 "cells": [
  {
   "cell_type": "code",
   "execution_count": null,
   "metadata": {},
   "outputs": [],
   "source": [
    "m = int(input('请输入一个整数，回车结束'))\n",
    "def a():\n",
    "    a = []\n",
    "    n = int(input('请输入一个整数，表示将要输入的单词数，回车结束。'))\n",
    "    for i in range(n):\n",
    "        word = input('请输入一个数字，回车结束。')\n",
    "        a.append(word)\n",
    "    return a\n",
    "if m in a :\n",
    "    a.index(m)+1   \n",
    "else:\n",
    "     print(-1)\n",
    "     \n",
    "\n",
    "\n",
    "\n"
   ]
  },
  {
   "cell_type": "markdown",
   "metadata": {},
   "source": []
  },
  {
   "cell_type": "code",
   "execution_count": 14,
   "metadata": {},
   "outputs": [
    {
     "name": "stdout",
     "output_type": "stream",
     "text": [
      "[1, 5, 2, 6, 3, 7, 4, 8]\n"
     ]
    }
   ],
   "source": [
    "a=[1,2,3,4]\n",
    "b=[5,6,7,8]\n",
    "a.insert(1,b[0])\n",
    "a.insert(3,b[1])\n",
    "a.insert(5,b[2])\n",
    "a.insert(7,b[3])\n",
    "print (a)"
   ]
  },
  {
   "cell_type": "code",
   "execution_count": null,
   "metadata": {},
   "outputs": [],
   "source": [
    "import random,math\n",
    "a = []\n",
    "n = int(input('请输入一个整数，表示将要输入的单词数，回车结束。'))\n",
    "for i in range(n):\n",
    "    word = input('请输入一个数字，回车结束。')\n",
    "    a.append(word)\n",
    "x1=random.randint(a[0],a[n])\n",
    "y1=random.randint(a[0],a[n])\n",
    "x2=random.randint(a[0],a[n])\n",
    "y2=random.randint(a[0],a[n])\n",
    "v1=(x1,y1)\n",
    "v2=(x2,y2)\n",
    "print (x1*x2+y1*y2)/(((x1*x1+y1*y1)**1/2)*(x2*x2+y2*y2)**1/2)"
   ]
  },
  {
   "cell_type": "code",
   "execution_count": null,
   "metadata": {},
   "outputs": [],
   "source": []
  }
 ],
 "metadata": {
  "kernelspec": {
   "display_name": "Python 3",
   "language": "python",
   "name": "python3"
  },
  "language_info": {
   "codemirror_mode": {
    "name": "ipython",
    "version": 3
   },
   "file_extension": ".py",
   "mimetype": "text/x-python",
   "name": "python",
   "nbconvert_exporter": "python",
   "pygments_lexer": "ipython3",
   "version": "3.6.3"
  }
 },
 "nbformat": 4,
 "nbformat_minor": 2
}
