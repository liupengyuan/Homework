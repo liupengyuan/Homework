{
 "cells": [
  {
   "cell_type": "code",
   "execution_count": null,
   "metadata": {},
   "outputs": [],
   "source": [
    "\n",
    "n=int(input('输入行数'))\n",
    "for i in range(n+1):\n",
    "    print((n-i)*'    ',end='')\n",
    "    for m in range(i):\n",
    "        print('*',end='')\n",
    "        print('   ',end='')\n",
    "        print('*',end='   ')\n",
    "    print()\n",
    "\n"
   ]
  },
  {
   "cell_type": "code",
   "execution_count": null,
   "metadata": {},
   "outputs": [],
   "source": [
    "m=int(input('请输入计算的m'))\n",
    "n=int(input('请输入计算的n'))\n",
    "if m==0:\n",
    "    total=n+1\n",
    "elif m>0:\n",
    "    while n==0:\n",
    "        while m>0:\n",
    "            n=1\n",
    "            m=m-1\n",
    "        total=n+1\n",
    "elif m>0:\n",
    "    while n>0:\n",
    "        while m==0:\n",
    "            m=m-1\n",
    "            n=n-1\n",
    "        total=n+1\n",
    "        break\n",
    "print(total)\n"
   ]
  },
  {
   "cell_type": "code",
   "execution_count": null,
   "metadata": {},
   "outputs": [],
   "source": [
    "n=15\n",
    "a=3\n",
    "b=25\n",
    "import random\n",
    "while n>0:\n",
    "    n=n-1\n",
    "    x=random.randrange(a,b)\n",
    "    y=random.randrange(a,b)\n",
    "    z=random.choice(['+','-','*','/'])\n",
    "    print (x,z,y,'=')"
   ]
  },
  {
   "cell_type": "code",
   "execution_count": null,
   "metadata": {},
   "outputs": [],
   "source": [
    "m=int(input('请输入计算出的数字,用逗号隔开'))\n",
    "n=15\n",
    "a=3\n",
    "b=25\n",
    "human=0\n",
    "import random, math\n",
    "while n>0:\n",
    "    n=n-1\n",
    "    x=random.randrange(a,b)\n",
    "    y=random.randrange(a,b)\n",
    "    z=random.choice(['+','-','*','/'])\n",
    "    print (x,z,y,'=')\n",
    "    result=x,z,y\n",
    "    if z=='*' or '/':\n",
    "        \n",
    "        while m[n-1]==result:\n",
    "            human=human+10\n",
    "    else:\n",
    "        while  m[n-1]==result:\n",
    "            human=human+5\n",
    "print(human)\n",
    "        \n"
   ]
  },
  {
   "cell_type": "code",
   "execution_count": null,
   "metadata": {},
   "outputs": [],
   "source": [
    "import  math\n",
    "n=int(input('请输入计算题目数量'))\n",
    "human=0\n",
    "while n>0:\n",
    "    n=n-1\n",
    "    m=int(input('请输入题目,数字和运算符号间用空格隔开'))\n",
    "    line='m'.spilt()\n",
    "    a=line[0],line[1],line[2]\n",
    "    if line[1]=='*' or '/':\n",
    "        \n",
    "        while m[n-1]==result:\n",
    "            human=human+10\n",
    "    else:\n",
    "        while  m[n-1]==result:\n",
    "            human=human+5\n",
    "print(human)\n",
    "    \n",
    "    \n",
    "    \n",
    "    "
   ]
  },
  {
   "cell_type": "code",
   "execution_count": null,
   "metadata": {},
   "outputs": [],
   "source": [
    "word_freq_pairs = []\n",
    "linenum = 0 \n",
    "total_line_number = 0\n",
    "i=0   \n",
    "with open(r'C:\\Users\\lenov o\\Desktop\\成语大全(含成语解释)_utf8.txt',encoding='utf-8')as f:\n",
    "    for line in f:\n",
    "        total_line_number += 1\n",
    "        list=line[1:5]\n",
    "        word_freq_pairs.append(list)\n",
    "    print(word_freq_pairs)\n",
    "\n",
    "        \n",
    "        \n",
    "\n",
    "    \n",
    "    "
   ]
  },
  {
   "cell_type": "code",
   "execution_count": null,
   "metadata": {},
   "outputs": [],
   "source": [
    "word_freq_pairs = []\n",
    "linenum = 0 \n",
    "total_line_number = 0\n",
    "i=0   \n",
    "with open(r'C:\\Users\\lenov o\\Desktop\\成语大全(含成语解释)_utf8.txt',encoding='utf-8')as f:\n",
    "    for line in f:\n",
    "        total_line_number += 1\n",
    "        list=line[1:5]\n",
    "        word_freq_pairs.append(list)\n",
    "\n",
    "fh=open(r'C:\\Users\\lenov o\\Desktop\\语料库文件.txt')\n",
    "public=[]\n",
    "for word in word_freq_pairs:\n",
    "    if word in fh:\n",
    "        number = fh.count(word)\n",
    "        public.append([word,number])\n",
    "    print(public[:20])\n",
    "        \n",
    "\n",
    "        \n",
    "\n",
    "    \n"
   ]
  },
  {
   "cell_type": "code",
   "execution_count": 4,
   "metadata": {},
   "outputs": [
    {
     "name": "stdout",
     "output_type": "stream",
     "text": [
      "[['nrfg', 133], ['l', 2561], ['p', 13234], ['n', 76628], ['m', 25920], ['v', 59686], ['x', 63637], ['t', 6063], ['nz', 2603], ['vn', 7722], ['i', 1729], ['d', 18225], ['ns', 8153], ['c', 9321], ['nr', 10531], ['nrt', 995], ['j', 1707], ['uj', 15590], ['', 384], ['vg', 239], ['eng', 1616], ['tg', 64], ['a', 8249], ['r', 10942], ['ug', 238], ['ud', 205], ['ul', 3284], ['nt', 1723], ['k', 371], ['ad', 932], ['f', 5197], ['u', 1580], ['b', 1743], ['vd', 92], ['an', 302], ['s', 1281], ['uv', 344], ['zg', 754], ['q', 1339], ['uz', 408], ['z', 322], ['ng', 574], ['h', 90], ['e', 31], ['y', 308], ['mq', 219], ['o', 40], ['rz', 36], ['ag', 75], ['dg', 7], ['g', 76], ['df', 55], ['vq', 6], ['rr', 5], ['rg', 8], ['vi', 6], ['yg', 6]]\n"
     ]
    }
   ],
   "source": [
    "def count_words_freq(filename):\n",
    "\n",
    "    word_freq_pairs = []\n",
    "    \n",
    "    with open(filename) as f:\n",
    "        text = f.read()\n",
    "        \n",
    "    words = [word.split('/')[1] for word in text.split()]\n",
    "    for word in words:\n",
    "        for item in word_freq_pairs:\n",
    "            if word == item[0]:\n",
    "                item[1] += 1\n",
    "                break\n",
    "        else:\n",
    "            word_freq_pairs.append([word, 1])\n",
    "            \n",
    "    return word_freq_pairs\n",
    "\n",
    "\n",
    "filename = r'C:\\Users\\lenov o\\Desktop\\语料库文件.txt'\n",
    "table = count_words_freq(filename)\n",
    "print(table)\n",
    "\n"
   ]
  },
  {
   "cell_type": "code",
   "execution_count": 6,
   "metadata": {},
   "outputs": [
    {
     "ename": "NameError",
     "evalue": "name 'item' is not defined",
     "output_type": "error",
     "traceback": [
      "\u001b[1;31m---------------------------------------------------------------------------\u001b[0m",
      "\u001b[1;31mNameError\u001b[0m                                 Traceback (most recent call last)",
      "\u001b[1;32m<ipython-input-6-4fcc55e5d9f0>\u001b[0m in \u001b[0;36m<module>\u001b[1;34m()\u001b[0m\n\u001b[0;32m      5\u001b[0m \u001b[1;33m\u001b[0m\u001b[0m\n\u001b[0;32m      6\u001b[0m \u001b[0mwords\u001b[0m \u001b[1;33m=\u001b[0m \u001b[1;33m[\u001b[0m\u001b[0mword\u001b[0m\u001b[1;33m.\u001b[0m\u001b[0msplit\u001b[0m\u001b[1;33m(\u001b[0m\u001b[1;34m'/'\u001b[0m\u001b[1;33m)\u001b[0m\u001b[1;33m[\u001b[0m\u001b[1;36m1\u001b[0m\u001b[1;33m]\u001b[0m \u001b[1;32mfor\u001b[0m \u001b[0mword\u001b[0m \u001b[1;32min\u001b[0m \u001b[0mtext\u001b[0m\u001b[1;33m.\u001b[0m\u001b[0msplit\u001b[0m\u001b[1;33m(\u001b[0m\u001b[1;33m)\u001b[0m\u001b[1;33m]\u001b[0m\u001b[1;33m\u001b[0m\u001b[0m\n\u001b[1;32m----> 7\u001b[1;33m \u001b[1;32mfor\u001b[0m \u001b[0mn\u001b[0m \u001b[1;32min\u001b[0m \u001b[0mitem\u001b[0m\u001b[1;33m:\u001b[0m\u001b[1;33m\u001b[0m\u001b[0m\n\u001b[0m\u001b[0;32m      8\u001b[0m     \u001b[1;32mif\u001b[0m \u001b[0mwords\u001b[0m\u001b[1;33m[\u001b[0m\u001b[0mn\u001b[0m\u001b[1;33m]\u001b[0m\u001b[1;33m==\u001b[0m\u001b[1;34m'nr'\u001b[0m\u001b[1;33m:\u001b[0m\u001b[1;33m\u001b[0m\u001b[0m\n\u001b[0;32m      9\u001b[0m         \u001b[0mprint\u001b[0m\u001b[1;33m(\u001b[0m\u001b[0mword\u001b[0m\u001b[1;33m.\u001b[0m\u001b[0mspilt\u001b[0m\u001b[1;33m(\u001b[0m\u001b[1;34m'/'\u001b[0m\u001b[1;33m)\u001b[0m\u001b[1;33m[\u001b[0m\u001b[1;36m0\u001b[0m\u001b[1;33m]\u001b[0m\u001b[1;33m)\u001b[0m\u001b[1;33m\u001b[0m\u001b[0m\n",
      "\u001b[1;31mNameError\u001b[0m: name 'item' is not defined"
     ]
    }
   ],
   "source": [
    "word_freq_pairs = []\n",
    "total=0    \n",
    "with open(filename) as f:\n",
    "    text = f.read()        \n",
    "words = [word.split('/')[1] for word in text.split()]\n",
    "for n in item:\n",
    "    if words[n]=='nr':\n",
    "        print(word.spilt('/')[0])"
   ]
  },
  {
   "cell_type": "code",
   "execution_count": 7,
   "metadata": {},
   "outputs": [
    {
     "name": "stdout",
     "output_type": "stream",
     "text": [
      "246452\n"
     ]
    }
   ],
   "source": [
    "word_freq_pairs = []\n",
    "linenum = 0 \n",
    "total_line_number = 0\n",
    "i=0   \n",
    "with open(r'C:\\Users\\lenov o\\Desktop\\成语大全(含成语解释)_utf8.txt',encoding='utf-8')as f:\n",
    "    for line in f:\n",
    "        total_line_number += 1\n",
    "        list=line[1:5]\n",
    "        word_freq_pairs.append(list)\n",
    "    print(4*total_line_number)\n",
    "    \n"
   ]
  },
  {
   "cell_type": "code",
   "execution_count": null,
   "metadata": {},
   "outputs": [],
   "source": []
  }
 ],
 "metadata": {
  "kernelspec": {
   "display_name": "Python 3",
   "language": "python",
   "name": "python3"
  },
  "language_info": {
   "codemirror_mode": {
    "name": "ipython",
    "version": 3
   },
   "file_extension": ".py",
   "mimetype": "text/x-python",
   "name": "python",
   "nbconvert_exporter": "python",
   "pygments_lexer": "ipython3",
   "version": "3.6.3"
  }
 },
 "nbformat": 4,
 "nbformat_minor": 2
}
