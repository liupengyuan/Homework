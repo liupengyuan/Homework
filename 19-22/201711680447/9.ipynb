{
 "cells": [
  {
   "cell_type": "code",
   "execution_count": null,
   "metadata": {},
   "outputs": [],
   "source": [
    "a=[]\n",
    "i=0\n",
    "while i<100000:\n",
    "    i=i+1\n",
    "    a.append(i)\n",
    "import random\n",
    "b=random.sample(range(0,100000),100000)\n",
    "\n",
    "        "
   ]
  },
  {
   "cell_type": "code",
   "execution_count": null,
   "metadata": {},
   "outputs": [],
   "source": [
    "import random\n",
    "import time\n",
    "b=random.sample(range(0,100000),100000)\n",
    "c=random.sample(range(0,110000),1000)\n",
    "x=0\n",
    "start_time = time.time()\n",
    "list1=[]\n",
    "while x<100000:\n",
    "    element1=b[x]\n",
    "    x=x+1\n",
    "    for i in range(len(c)):\n",
    "        if element1==c[i]:\n",
    "            list1.append(element1)\n",
    "    end_time = time.time()\n",
    "print(list1)\n",
    "print(end_time - start_time)\n",
    "\n"
   ]
  },
  {
   "cell_type": "markdown",
   "metadata": {},
   "source": [
    "\n",
    "\n"
   ]
  },
  {
   "cell_type": "code",
   "execution_count": null,
   "metadata": {},
   "outputs": [],
   "source": [
    "import random\n",
    "import time\n",
    "a=[]\n",
    "i=0\n",
    "while i<100000:\n",
    "    i=i+1\n",
    "    a.append(i)\n",
    "c=random.sample(range(0,110000),1000)\n",
    "start_time = time.time()\n",
    "list2=[]\n",
    "y=0\n",
    "begin = 0\n",
    "end= len(a)\n",
    "while y<100000:\n",
    "    element2=a[y]\n",
    "    y=y+1\n",
    "    while begin < end:\n",
    "        mid = begin + (end - begin)/2\n",
    "    if element2==c[mid] :\n",
    "            list2.append(element2)\n",
    "            end_time = time.time()\n",
    "    elif c[mid] < element2:\n",
    "                begin = mid + 1\n",
    "                end = end\n",
    "                continue\n",
    "    else:\n",
    "                end = mid - 1\n",
    "                begin = begin\n",
    "                continue\n",
    "print(end_time - start_time)\n"
   ]
  },
  {
   "cell_type": "code",
   "execution_count": null,
   "metadata": {},
   "outputs": [],
   "source": [
    "\n"
   ]
  },
  {
   "cell_type": "code",
   "execution_count": null,
   "metadata": {},
   "outputs": [],
   "source": []
  }
 ],
 "metadata": {
  "kernelspec": {
   "display_name": "Python 3",
   "language": "python",
   "name": "python3"
  }
 },
 "nbformat": 4,
 "nbformat_minor": 2
}
