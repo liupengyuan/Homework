{
 "cells": [
  {
   "cell_type": "code",
   "execution_count": 13,
   "metadata": {},
   "outputs": [
    {
     "name": "stdout",
     "output_type": "stream",
     "text": [
      "请输入您的名字,回车结束。rghjg\n",
      "请输入您的月份和日期，如2月01写作201,回车结束804\n",
      "rghjg 你是非常有性格的狮子座！ \n"
     ]
    }
   ],
   "source": [
    "m =(input('请输入您的名字,回车结束。'))\n",
    "n =int(input('请输入您的月份和日期，如2月01写作201,回车结束'))\n",
    "a=0\n",
    "if 321<n<419:\n",
    "    print (m,'你是非常有性格的白羊座！ ')\n",
    "elif 420<=n<=520:\n",
    "    print(m,'你是非常有性格的金牛座！ ')\n",
    "elif 521<=n<=621:\n",
    "    print(m,'你是非常有性格的双子座！ ')\n",
    "elif 622<=n<=722:\n",
    "    print(m,'你是非常有性格的巨蟹座！ ')\n",
    "elif 723<=n<=822:\n",
    "    print(m,'你是非常有性格的狮子座！ ')\n",
    "elif 823<=n<=922 :  \n",
    "    print(m,'你是非常有性格的处女座！ ')\n",
    "elif 923<=n<=1023:\n",
    "    print(m,'你是非常有性格的天秤座！ ')\n",
    "elif 1024<=n<=1122:\n",
    "    print(m,'你是非常有性格的天蝎座！ ')\n",
    "elif 1123<=n<=1221:\n",
    "    print(m,'你是非常有性格的射手座！ ')\n",
    "elif n<119 or n>1222: \n",
    "    print(m,'你是非常有性格的摩羯座！ ')\n",
    "elif 120<=n<=218:\n",
    "    print(m,'你是非常有性格的水瓶座！ ')\n",
    "elif 219<=n<=321:\n",
    "    print(m,'你是非常有性格的双鱼座！ ')\n",
    "\n"
   ]
  },
  {
   "cell_type": "code",
   "execution_count": null,
   "metadata": {},
   "outputs": [],
   "source": [
    "m = int(input('请输入要输入的m，回车结束。'))\n",
    "n = int(input('请输入要输入的n，回车结束。'))\n",
    "b=404\n",
    "a = int(input('请输入运算法则，如果要乘积请打1，如果要加和请打2，要求余数请打3，要求整除请打4，回车结束。'))\n",
    "if a== 1:\n",
    "    b=m*n\n",
    "elif a==2:\n",
    "    b=m+n\n",
    "elif a==3:\n",
    "    b=m/n\n",
    "elif a==4:\n",
    "    i=m/n\n",
    "    if i%1==0:\n",
    "        b=i\n",
    "print(b)\n"
   ]
  },
  {
   "cell_type": "code",
   "execution_count": 16,
   "metadata": {},
   "outputs": [
    {
     "name": "stdout",
     "output_type": "stream",
     "text": [
      "请输入要输入的danci，回车结束。yu\n",
      "直接加es\n"
     ]
    }
   ],
   "source": [
    "n = (input('请输入要输入的danci，回车结束。'))\n",
    "if ('n').endswith('y'):\n",
    "        print ('变y为i加es')\n",
    "elif('n').endswith('e'):\n",
    "        print('直接加s')\n",
    "else:\n",
    "        print('直接加es')  \n",
    "        \n"
   ]
  },
  {
   "cell_type": "code",
   "execution_count": 17,
   "metadata": {},
   "outputs": [
    {
     "name": "stdout",
     "output_type": "stream",
     "text": [
      "\n"
     ]
    }
   ],
   "source": [
    "print()"
   ]
  },
  {
   "cell_type": "code",
   "execution_count": null,
   "metadata": {},
   "outputs": [],
   "source": []
  }
 ],
 "metadata": {
  "kernelspec": {
   "display_name": "Python 3",
   "language": "python",
   "name": "python3"
  },
  "language_info": {
   "codemirror_mode": {
    "name": "ipython",
    "version": 3
   },
   "file_extension": ".py",
   "mimetype": "text/x-python",
   "name": "python",
   "nbconvert_exporter": "python",
   "pygments_lexer": "ipython3",
   "version": "3.6.3"
  }
 },
 "nbformat": 4,
 "nbformat_minor": 2
}
