{
 "cells": [
  {
   "cell_type": "code",
   "execution_count": 5,
   "metadata": {},
   "outputs": [
    {
     "name": "stdout",
     "output_type": "stream",
     "text": [
      "请输入字符串4654524\n",
      " 4254564\n"
     ]
    }
   ],
   "source": [
    "def reverse(s):\n",
    "    str0=' '\n",
    "    l=len(s)-1\n",
    "    while l>=0:\n",
    "        str0+=s[l]\n",
    "        l-=1\n",
    "    return (str0)\n",
    "n=input('请输入字符串')\n",
    "a=reverse(n)\n",
    "print (a)\n",
    "    "
   ]
  },
  {
   "cell_type": "code",
   "execution_count": 12,
   "metadata": {},
   "outputs": [
    {
     "name": "stdout",
     "output_type": "stream",
     "text": [
      "输入行数4\n",
      "\n",
      "*\n",
      "**\n",
      "***\n",
      "****\n"
     ]
    }
   ],
   "source": [
    "n=int(input('输入行数'))\n",
    "for i in range(n+1):\n",
    "    for m in range(i):\n",
    "        print('*',end='')\n",
    "    print()"
   ]
  },
  {
   "cell_type": "code",
   "execution_count": 17,
   "metadata": {},
   "outputs": [
    {
     "name": "stdout",
     "output_type": "stream",
     "text": [
      "输入行数4\n",
      "    \n",
      "   * \n",
      "  * * \n",
      " * * * \n",
      "* * * * \n"
     ]
    }
   ],
   "source": [
    "n=int(input('输入行数'))\n",
    "for i in range(n+1):\n",
    "    print((n-i)*' ',end='')\n",
    "    for m in range(i):\n",
    "        print('*',end='')\n",
    "        print(' ',end='')\n",
    "    print()"
   ]
  },
  {
   "cell_type": "code",
   "execution_count": 18,
   "metadata": {},
   "outputs": [
    {
     "name": "stdout",
     "output_type": "stream",
     "text": [
      "输入行数4\n",
      "    \n",
      "   *    \n",
      "  *    *    \n",
      " *    *    *    \n",
      "*    *    *    *    \n"
     ]
    }
   ],
   "source": [
    "n=int(input('输入行数'))\n",
    "for i in range(n+1):\n",
    "    print((n-i)*' ',end='')\n",
    "    for m in range(i):\n",
    "        print('*',end='')\n",
    "        print('    ',end='')\n",
    "    print()"
   ]
  },
  {
   "cell_type": "code",
   "execution_count": 24,
   "metadata": {},
   "outputs": [
    {
     "name": "stdout",
     "output_type": "stream",
     "text": [
      "最大宽度7\n",
      "  *\n",
      "  **\n",
      " ***\n",
      " ****\n",
      "*****\n",
      "******\n",
      "******\n",
      "*****\n",
      " ****\n",
      " ***\n",
      "  **\n",
      "  *\n"
     ]
    }
   ],
   "source": [
    "s='*'\n",
    "n=int(input('最大宽度'))\n",
    "for i in range (1,n,1):\n",
    "    t=(n-i-1)//2\n",
    "    print(' '*t+s*i+''*t)\n",
    "for i in reversed(range(1,7,1)):\n",
    "    t=(n-i-1)//2\n",
    "    print(' '*t+s*i+''*t)\n",
    "    "
   ]
  },
  {
   "cell_type": "code",
   "execution_count": null,
   "metadata": {},
   "outputs": [],
   "source": []
  }
 ],
 "metadata": {
  "kernelspec": {
   "display_name": "Python 3",
   "language": "python",
   "name": "python3"
  },
  "language_info": {
   "codemirror_mode": {
    "name": "ipython",
    "version": 3
   },
   "file_extension": ".py",
   "mimetype": "text/x-python",
   "name": "python",
   "nbconvert_exporter": "python",
   "pygments_lexer": "ipython3",
   "version": "3.6.3"
  }
 },
 "nbformat": 4,
 "nbformat_minor": 2
}
