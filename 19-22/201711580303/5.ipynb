{
 "cells": [
  {
   "cell_type": "code",
   "execution_count": 44,
   "metadata": {},
   "outputs": [
    {
     "data": {
      "text/plain": [
       "1.8708286933869707"
      ]
     },
     "execution_count": 44,
     "metadata": {},
     "output_type": "execute_result"
    }
   ],
   "source": [
    "import random\n",
    "\n",
    "def my_sum(n,m,k):\n",
    "    i=0\n",
    "    total=0\n",
    "    while i<n:\n",
    "        i=i+1\n",
    "        a=random.randint(m,k)\n",
    "        total=total+a\n",
    "    total=total/n\n",
    "    b=total**0.5\n",
    "    return b\n",
    "my_sum(4,1,10)\n"
   ]
  },
  {
   "cell_type": "code",
   "execution_count": 82,
   "metadata": {},
   "outputs": [
    {
     "name": "stdout",
     "output_type": "stream",
     "text": [
      "1.9459101490553132\n",
      "0.5138983423697507\n"
     ]
    }
   ],
   "source": [
    "import random,math\n",
    "def my_sum(n,m,k):\n",
    "    i=0\n",
    "    b=0\n",
    "    c=0\n",
    "    while i<n:\n",
    "        i=i+1\n",
    "        a=random.randint(m,k)\n",
    "        b=b+math.log(a)\n",
    "        c=c+1/math.log(a)\n",
    "        \n",
    "    print(b)\n",
    "    print(c)\n",
    "    \n",
    "my_sum(1,4,10)\n",
    "\n",
    "        "
   ]
  },
  {
   "cell_type": "code",
   "execution_count": 24,
   "metadata": {},
   "outputs": [
    {
     "data": {
      "text/plain": [
       "11106"
      ]
     },
     "execution_count": 24,
     "metadata": {},
     "output_type": "execute_result"
    }
   ],
   "source": [
    "import random\n",
    "\n",
    "def my_sum(n):\n",
    "    a=random.randint(1,9)\n",
    "\n",
    "    i=0\n",
    "    m=0\n",
    "    s=0\n",
    "    while i<n:\n",
    "        while n>0:\n",
    "            n=n-1\n",
    "            m=m+a*10**i\n",
    "            i=i+1\n",
    "            s=s+m\n",
    "    \n",
    "    return s\n",
    "\n",
    "my_sum(4)\n",
    "\n",
    "      \n"
   ]
  }
 ],
 "metadata": {
  "kernelspec": {
   "display_name": "Python 3",
   "language": "python",
   "name": "python3"
  },
  "language_info": {
   "codemirror_mode": {
    "name": "ipython",
    "version": 3
   },
   "file_extension": ".py",
   "mimetype": "text/x-python",
   "name": "python",
   "nbconvert_exporter": "python",
   "pygments_lexer": "ipython3",
   "version": "3.6.2"
  }
 },
 "nbformat": 4,
 "nbformat_minor": 2
}
