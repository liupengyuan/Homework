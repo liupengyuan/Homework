{
 "cells": [
  {
   "cell_type": "code",
   "execution_count": 13,
   "metadata": {},
   "outputs": [
    {
     "name": "stdout",
     "output_type": "stream",
     "text": [
      "自私自利\n",
      "输入要接的成语，回车结束：利令智昏\n",
      "昏昏欲睡\n",
      "输入要接的成语，回车结束：睡眼惺忪\n",
      "人类得分： 20\n",
      "计算机得分： 10\n",
      "计算机失败\n"
     ]
    }
   ],
   "source": [
    "import random\n",
    "fh=open(r'C:\\temp\\成语大全.txt')\n",
    "text=fh.read()\n",
    "fh.close()\n",
    "idioms=text.split('\\n')\n",
    "n=0 #人类得分\n",
    "m=0 #计算机得分\n",
    "i=-1\n",
    "x=[]\n",
    "a=random.choice(idioms)\n",
    "print(a)\n",
    "while i<m/10:\n",
    "    b=input('输入要接的成语，回车结束：')\n",
    "    if b[0]==a[3]:\n",
    "        n=n+10\n",
    "        for a in idioms:\n",
    "            x=[]    \n",
    "            if a[0]==b[3]:\n",
    "                x.append(a)\n",
    "                print(a)\n",
    "                m=m+10\n",
    "                i=i+1\n",
    "                break\n",
    "            elif len(x)!=m/10:\n",
    "                i=m/10\n",
    "                print('人类得分：',n)\n",
    "                print('计算机得分：',m)\n",
    "                print('计算机失败')\n",
    "                break\n",
    "            \n",
    "            \n",
    "    elif len(b)!=4:\n",
    "        print('输入的不是四字成语')\n",
    "        print('人类得分：',n)\n",
    "        print('计算机得分：',m)\n",
    "        print('人类失败')\n",
    "        break \n",
    "            \n",
    "    else:\n",
    "        print('人类得分：',n)\n",
    "        print('计算机得分：',m)\n",
    "        print('人类失败')\n",
    "        break\n",
    "    \n",
    "     \n"
   ]
  }
 ],
 "metadata": {
  "kernelspec": {
   "display_name": "Python 3",
   "language": "python",
   "name": "python3"
  },
  "language_info": {
   "codemirror_mode": {
    "name": "ipython",
    "version": 3
   },
   "file_extension": ".py",
   "mimetype": "text/x-python",
   "name": "python",
   "nbconvert_exporter": "python",
   "pygments_lexer": "ipython3",
   "version": "3.6.2"
  }
 },
 "nbformat": 4,
 "nbformat_minor": 2
}
