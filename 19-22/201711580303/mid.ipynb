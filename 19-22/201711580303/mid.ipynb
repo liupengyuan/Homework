{
 "cells": [
  {
   "cell_type": "code",
   "execution_count": 19,
   "metadata": {
    "collapsed": false
   },
   "outputs": [
    {
     "name": "stdout",
     "output_type": "stream",
     "text": [
      "输入项数3\n",
      "10\n"
     ]
    }
   ],
   "source": [
    "#1\n",
    "def my_sum(a):\n",
    "   \n",
    "    i=0\n",
    "   \n",
    "    m=int(input('输入项数'))\n",
    "   \n",
    "    a=0\n",
    "   \n",
    "    total=0\n",
    "   \n",
    "    while i<m:\n",
    "        i=i+1\n",
    "       \n",
    "        a=a+i\n",
    "       \n",
    "        total=total+a\n",
    "       \n",
    "    print(total)\n",
    "\n",
    "my_sum(m)\n"
   ]
  },
  {
   "cell_type": "code",
   "execution_count": 5,
   "metadata": {
    "collapsed": false
   },
   "outputs": [
    {
     "name": "stdout",
     "output_type": "stream",
     "text": [
      "输入行数3\n",
      "*\n",
      "*\n",
      "*\n",
      "*\n",
      "*\n"
     ]
    }
   ],
   "source": [
    "#2\n",
    "def triangle(x,m):\n",
    "    i=0\n",
    "    j=0\n",
    "    x=int(input('输入行数'))\n",
    "    a=2*x-1\n",
    "    while i<x:\n",
    "        i=i+1\n",
    "        while j<a:\n",
    "            j=j+1\n",
    "            print('*')\n",
    "        \n",
    "triangle('*',3)            \n",
    "        \n",
    "            \n",
    "        "
   ]
  },
  {
   "cell_type": "code",
   "execution_count": 25,
   "metadata": {
    "collapsed": false
   },
   "outputs": [
    {
     "name": "stdout",
     "output_type": "stream",
     "text": [
      "输入一个正整数，回车结束565456\n",
      "565456\n"
     ]
    }
   ],
   "source": [
    "#3\n",
    "def first():\n",
    "    m=int(input('输入一个正整数，回车结束'))\n",
    "    m=list[]\n",
    "    print (list[0])\n",
    "    \n",
    "first()    "
   ]
  },
  {
   "cell_type": "code",
   "execution_count": 2,
   "metadata": {
    "collapsed": false
   },
   "outputs": [
    {
     "name": "stdout",
     "output_type": "stream",
     "text": [
      "输入身高，回车结束183\n",
      "输入身高，回车结束185\n",
      "输入身高，回车结束183\n",
      "输入身高，回车结束187\n",
      "输入身高，回车结束178\n",
      "输入身高，回车结束175\n",
      "输入身高，回车结束177\n",
      "输入身高，回车结束190\n",
      "输入身高，回车结束172\n",
      "平均值为 181.11111111111111\n",
      "183\n",
      "185\n",
      "183\n",
      "187\n",
      "190\n"
     ]
    }
   ],
   "source": [
    "#4\n",
    "list=[]\n",
    "i=0\n",
    "j=0\n",
    "total=0\n",
    "while i<9:\n",
    "    m=int(input('输入身高，回车结束'))\n",
    "    list.append(m)\n",
    "    i=i+1\n",
    "for i in list:\n",
    "    total=total+i\n",
    "ave=total/9\n",
    "print('平均值为',ave)\n",
    "while j<9:\n",
    "    if list[j]>ave:\n",
    "        print(list[j])\n",
    "    j=j+1\n",
    "    \n",
    "\n",
    "\n",
    "\n"
   ]
  },
  {
   "cell_type": "code",
   "execution_count": 1,
   "metadata": {
    "collapsed": false
   },
   "outputs": [
    {
     "name": "stdout",
     "output_type": "stream",
     "text": [
      "3 + 6 =\n",
      "9\n",
      "6 + 9 =\n",
      "15\n",
      "1 + 8 =\n",
      "9\n",
      "2 + 3 =\n",
      "5\n",
      "5 + 1 =\n",
      "6\n",
      "100\n"
     ]
    }
   ],
   "source": [
    "#5\n",
    "import random\n",
    "i=0\n",
    "total=0\n",
    "while i<5:\n",
    "    a=random.randint(0,10)\n",
    "    b=random.randint(0,10)\n",
    "    x=a+b\n",
    "    print(a,'+',b,'=')\n",
    "    m=int(input())\n",
    "    if m==x:\n",
    "        total=total+20\n",
    "    else:\n",
    "        total=total+0\n",
    "    i=i+1\n",
    "print(total)\n",
    "    "
   ]
  },
  {
   "cell_type": "code",
   "execution_count": null,
   "metadata": {
    "collapsed": true
   },
   "outputs": [],
   "source": [
    "#6\n",
    "list=[3,-5,9,108,34,-76,88]\n",
    "i=0\n",
    "a=max(list)\n",
    "b=min(list)\n",
    "list=[a,]\n",
    "\n",
    "\n",
    "    "
   ]
  }
 ],
 "metadata": {
  "kernelspec": {
   "display_name": "Python 3",
   "language": "python",
   "name": "python3"
  },
  "language_info": {
   "codemirror_mode": {
    "name": "ipython",
    "version": 3
   },
   "file_extension": ".py",
   "mimetype": "text/x-python",
   "name": "python",
   "nbconvert_exporter": "python",
   "pygments_lexer": "ipython3",
   "version": "3.6.0"
  }
 },
 "nbformat": 4,
 "nbformat_minor": 2
}
