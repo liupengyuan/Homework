{
 "cells": [
  {
   "cell_type": "code",
   "execution_count": 3,
   "metadata": {},
   "outputs": [
    {
     "name": "stdout",
     "output_type": "stream",
     "text": [
      "元素，回车结束e\n",
      "5\n"
     ]
    }
   ],
   "source": [
    "#写函数，返回某个元素/对象在一个list中的位置，如果不在，则返回-1.\n",
    "def m():\n",
    "    words=['a','b','c','d','e','f','g']\n",
    "    n=input('元素，回车结束')\n",
    "    if n in words:\n",
    "        a=0\n",
    "        for i in words:\n",
    "            a=a+1\n",
    "            if n==i:\n",
    "                print(a)\n",
    "    else:\n",
    "        print(-1)\n",
    "m()\n"
   ]
  },
  {
   "cell_type": "code",
   "execution_count": 18,
   "metadata": {},
   "outputs": [
    {
     "name": "stdout",
     "output_type": "stream",
     "text": [
      "[1, 5, 2, 6, 3, 7, 4, 8]\n"
     ]
    }
   ],
   "source": [
    "#写函数，可将两个相同长度的list，间隔插入，生成新的list。例如：给两个list，a=[1,2,3,4], b=[5,6,7,8]。则可以生成：[1,5,2,6,3,7,4,8]。\n",
    "def f():\n",
    "    a=[1,2,3,4]\n",
    "    b=[5,6,7,8]\n",
    "    c=[]\n",
    "    n=0\n",
    "    while n<len(a):\n",
    "    \n",
    "        c.append(a[n])\n",
    "        c.append(b[n])\n",
    "        n=n+1\n",
    "        \n",
    "\n",
    "    print(c)\n",
    "    \n",
    "f()\n"
   ]
  },
  {
   "cell_type": "code",
   "execution_count": 9,
   "metadata": {},
   "outputs": [
    {
     "name": "stdout",
     "output_type": "stream",
     "text": [
      "x维向量,(x>1)2\n",
      "输入a向量1\n",
      "输入b向量1\n",
      "输入a向量0\n",
      "输入b向量1.73\n",
      "a向量为 [1.0, 0.0]\n",
      "b向量为 [1.0, 1.73]\n"
     ]
    },
    {
     "data": {
      "text/plain": [
       "0.500444341617353"
      ]
     },
     "execution_count": 9,
     "metadata": {},
     "output_type": "execute_result"
    }
   ],
   "source": [
    "#写函数，可求两个向量的夹角余弦值，向量可放在list中。主程序调用该函数。\n",
    "\n",
    "x=int(input('x维向量,(x>1)'))\n",
    "def cos(x):\n",
    "    a=[]\n",
    "    b=[]\n",
    "    i=0\n",
    "    total=0\n",
    "    total_n=0\n",
    "    total_m=0\n",
    "    \n",
    "    \n",
    "    while i<x:\n",
    "        n=float(input('输入a向量'))\n",
    "        m=float(input('输入b向量'))\n",
    "        a.append(n)\n",
    "        b.append(m)\n",
    "        total=total+n*m\n",
    "        total_n=total_n+n*n\n",
    "        total_m=total_m+m*m\n",
    "        i=i+1\n",
    "    cos=total/(total_n**0.5*total_m**0.5)\n",
    "    print('a向量为',a)\n",
    "    print('b向量为',b)\n",
    "    return cos\n",
    "\n",
    "#主程序\n",
    "cos(x)\n",
    "                    \n",
    "    \n",
    "    \n",
    "            "
   ]
  },
  {
   "cell_type": "code",
   "execution_count": 16,
   "metadata": {},
   "outputs": [
    {
     "name": "stdout",
     "output_type": "stream",
     "text": [
      "3266\n"
     ]
    }
   ],
   "source": [
    "#python语言老师为了激励学生学python，自费买了100个完全相同的Macbook Pro，分给三个班级，每个班级至少分5个，用穷举法计算共有多少种分法？\n",
    "import random\n",
    "n=random.randint(5,100)\n",
    "m=random.randint(5,100-n)\n",
    "a=[]\n",
    "for i in range(5,n+1):\n",
    "    a.append(i)\n",
    "    for j in range(5,101-n-m):\n",
    "        a.append(j)\n",
    "        for k in range(5,m+1):\n",
    "            a.append(k)\n",
    "b=len(a)\n",
    "print(b)\n",
    "            \n"
   ]
  }
 ],
 "metadata": {
  "kernelspec": {
   "display_name": "Python 3",
   "language": "python",
   "name": "python3"
  },
  "language_info": {
   "codemirror_mode": {
    "name": "ipython",
    "version": 3
   },
   "file_extension": ".py",
   "mimetype": "text/x-python",
   "name": "python",
   "nbconvert_exporter": "python",
   "pygments_lexer": "ipython3",
   "version": "3.6.2"
  }
 },
 "nbformat": 4,
 "nbformat_minor": 2
}
