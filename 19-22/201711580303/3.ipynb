{
 "cells": [
  {
   "cell_type": "code",
   "execution_count": 7,
   "metadata": {},
   "outputs": [
    {
     "name": "stdout",
     "output_type": "stream",
     "text": [
      "你的名字Mr.right\n",
      "月份6\n",
      "日期26\n",
      "Mr.right,你是非常有性格的巨蟹座\n"
     ]
    }
   ],
   "source": [
    "n=input('你的名字')\n",
    "a=int(input('月份'))\n",
    "b=int(input('日期'))\n",
    "if a==1:\n",
    "    if b<=19:\n",
    "        print(n,'你是非常有性格的摩羯座', sep = ',')\n",
    "    else:\n",
    "        print(n,'你是非常有性格的水瓶座', sep = ',')\n",
    "elif a==2:\n",
    "    if b<=18:\n",
    "        print(n,'你是非常有性格的水瓶座', sep = ',')\n",
    "    else:\n",
    "        print(n,'你是非常有性格的双鱼座', sep = ',')\n",
    "elif a==3:\n",
    "    if b<=20:\n",
    "        print(n,'你是非常有性格的双鱼座', sep = ',')\n",
    "    else:\n",
    "        print(n,'你是非常有性格的白羊座', sep = ',')\n",
    "elif a==4:\n",
    "    if b<=19:\n",
    "        print(n,'你是非常有性格的白羊座', sep = ',')\n",
    "    else:\n",
    "        print(n,'你是非常有性格的金牛座', sep = ',')\n",
    "elif a==5:\n",
    "    if b<=20:\n",
    "        print(n,'你是非常有性格的金牛座', sep = ',')\n",
    "    else:\n",
    "        print(n,'你是非常有性格的双子座', sep = ',')\n",
    "elif a==6:\n",
    "    if b<=21:\n",
    "        print(n,'你是非常有性格的双子座', sep = ',')\n",
    "    else:\n",
    "        print(n,'你是非常有性格的巨蟹座', sep = ',')\n",
    "elif a==7:\n",
    "    if b<=22:\n",
    "        print(n,'你是非常有性格的巨蟹座', sep = ',')\n",
    "    else:\n",
    "        print(n,'你是非常有性格的狮子座', sep = ',')\n",
    "elif a==8:\n",
    "    if b<=22:\n",
    "        print(n,'你是非常有性格的狮子座', sep = ',')\n",
    "    else:\n",
    "        print(n,'你是非常有性格的处女座', sep = ',')\n",
    "elif a==9:\n",
    "    if b<=22:\n",
    "        print(n,'你是非常有性格的处女座', sep = ',')\n",
    "    else:\n",
    "        print(n,'你是非常有性格的天秤座', sep = ',')\n",
    "elif a==10:\n",
    "    if b<=23:\n",
    "        print(n,'你是非常有性格的天秤座', sep = ',')\n",
    "    else:\n",
    "        print(n,'你是非常有性格的天蝎座', sep = ',')\n",
    "elif a==11:\n",
    "    if b<=22:\n",
    "        print(n,'你是非常有性格的天蝎座', sep = ',')\n",
    "    else:\n",
    "        print(n,'你是非常有性格的射手座', sep = ',')\n",
    "else:\n",
    "    if b<=21:\n",
    "        print(n,'你是非常有性格的射手座', sep = ',')\n",
    "    else:\n",
    "        print(n,'你是非常有性格的摩羯座', sep = ',')"
   ]
  },
  {
   "cell_type": "code",
   "execution_count": 1,
   "metadata": {},
   "outputs": [
    {
     "name": "stdout",
     "output_type": "stream",
     "text": [
      "如果求和请输入0，求积请输入1，求m除以n的余数请输入2，其余数则求m整除n的值0\n",
      "m的值4\n",
      "n的值5\n",
      "9\n"
     ]
    }
   ],
   "source": [
    "i=int(input('如果求和请输入0，求积请输入1，求m除以n的余数请输入2，其余数则求m整除n的值'))\n",
    "m=int(input('m的值'))\n",
    "n=int(input('n的值'))\n",
    "\n",
    "if i==0:\n",
    "    a=m+n\n",
    "elif i==1:\n",
    "    a=m*n\n",
    "elif i==2:\n",
    "    a=m%n\n",
    "else:\n",
    "    a=m//n\n",
    "\n",
    "print(a)    \n",
    "\n"
   ]
  },
  {
   "cell_type": "code",
   "execution_count": 4,
   "metadata": {},
   "outputs": [
    {
     "name": "stdout",
     "output_type": "stream",
     "text": [
      "PM2.5值为600\n",
      "打开空气净化器，戴防雾霾口罩\n"
     ]
    }
   ],
   "source": [
    "a=int(input('PM2.5值为'))\n",
    "\n",
    "if a>500:\n",
    "    print('打开空气净化器，戴防雾霾口罩')\n",
    "    "
   ]
  },
  {
   "cell_type": "code",
   "execution_count": 12,
   "metadata": {
    "scrolled": true
   },
   "outputs": [
    {
     "name": "stdout",
     "output_type": "stream",
     "text": [
      "单词computer\n",
      "computers\n"
     ]
    }
   ],
   "source": [
    "a=input('单词')\n",
    "if a.endswith('o'):\n",
    "    print(a,'es', sep = '')\n",
    "    \n",
    "elif a.endswith('ch'):\n",
    "    print(a,'es', sep = '')\n",
    "    \n",
    "elif a.endswith('sh'):\n",
    "    print(a,'es', sep = '')\n",
    "    \n",
    "elif a.endswith('x'):\n",
    "    print(a,'es', sep = '')\n",
    "    \n",
    "elif a.endswith('s'):\n",
    "    print(a,'es', sep = '')\n",
    "    \n",
    "else:\n",
    "    print(a,'s',sep = '')\n"
   ]
  },
  {
   "cell_type": "code",
   "execution_count": 16,
   "metadata": {},
   "outputs": [
    {
     "name": "stdout",
     "output_type": "stream",
     "text": [
      "aaa\n",
      "\n",
      "bbb\n"
     ]
    }
   ],
   "source": [
    "print('aaa')\n",
    "print()\n",
    "print('bbb')"
   ]
  }
 ],
 "metadata": {
  "kernelspec": {
   "display_name": "Python 3",
   "language": "python",
   "name": "python3"
  },
  "language_info": {
   "codemirror_mode": {
    "name": "ipython",
    "version": 3
   },
   "file_extension": ".py",
   "mimetype": "text/x-python",
   "name": "python",
   "nbconvert_exporter": "python",
   "pygments_lexer": "ipython3",
   "version": "3.6.2"
  }
 },
 "nbformat": 4,
 "nbformat_minor": 2
}
