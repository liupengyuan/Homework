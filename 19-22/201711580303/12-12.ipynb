{
 "cells": [
  {
   "cell_type": "code",
   "execution_count": 44,
   "metadata": {},
   "outputs": [
    {
     "name": "stdout",
     "output_type": "stream",
     "text": [
      "请输入10的倍数30\n",
      "['乐', '在', '人', '沉', '腹', '邯', '此', '金', '钧', '赅', '心', '平', '引', '如', '文', '铃', '山', '手', '千', '九', '不', '蜀', '用', '填', '阳', '装', '不', '迟', '三', '鹤']\n"
     ]
    }
   ],
   "source": [
    "import random\n",
    "n=int(input('请输入10的倍数'))\n",
    "def idiom(n):\n",
    "    fh=open(r'D:\\Temp\\idioms.txt')\n",
    "    text=fh.read()\n",
    "    fh.close()\n",
    "    text=text.replace('、','')\n",
    "    text=text.replace('\\n','')\n",
    "    chs=[]\n",
    "    for i in range(n):\n",
    "        ch=random.choice(text)\n",
    "        chs.append(ch)\n",
    "    print(chs)\n",
    "    \n",
    "    \n",
    "#主程序\n",
    "idiom(n)\n",
    "    "
   ]
  },
  {
   "cell_type": "code",
   "execution_count": null,
   "metadata": {
    "collapsed": true
   },
   "outputs": [],
   "source": []
  }
 ],
 "metadata": {
  "kernelspec": {
   "display_name": "Python 3",
   "language": "python",
   "name": "python3"
  },
  "language_info": {
   "codemirror_mode": {
    "name": "ipython",
    "version": 3
   },
   "file_extension": ".py",
   "mimetype": "text/x-python",
   "name": "python",
   "nbconvert_exporter": "python",
   "pygments_lexer": "ipython3",
   "version": "3.6.2"
  }
 },
 "nbformat": 4,
 "nbformat_minor": 2
}
