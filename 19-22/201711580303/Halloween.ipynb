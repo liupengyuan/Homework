{
 "cells": [
  {
   "cell_type": "code",
   "execution_count": 6,
   "metadata": {
    "collapsed": false
   },
   "outputs": [
    {
     "name": "stdout",
     "output_type": "stream",
     "text": [
      "m的值3\n",
      "n的值2\n",
      "9\n"
     ]
    }
   ],
   "source": [
    "def my_sum(n):\n",
    "    i=0\n",
    "    total=0\n",
    "    while i<n:\n",
    "        i=i+1\n",
    "        total=total+i\n",
    "    return total    \n",
    "def my_mul(n):\n",
    "    i=0\n",
    "    mul=1\n",
    "    while i<n:\n",
    "        i=i+1\n",
    "        mul=mul*i\n",
    "    return mul    \n",
    "m=int(input('m的值'))\n",
    "n=int(input('n的值'))\n",
    "if m>n:\n",
    "    print( my_sum(m)+ my_sum(n))\n",
    "else:\n",
    "    print(my_mul(m) + my_mul(n))"
   ]
  }
 ],
 "metadata": {
  "kernelspec": {
   "display_name": "Python 3",
   "language": "python",
   "name": "python3"
  },
  "language_info": {
   "codemirror_mode": {
    "name": "ipython",
    "version": 3
   },
   "file_extension": ".py",
   "mimetype": "text/x-python",
   "name": "python",
   "nbconvert_exporter": "python",
   "pygments_lexer": "ipython3",
   "version": "3.6.0"
  }
 },
 "nbformat": 4,
 "nbformat_minor": 2
}
