{
 "cells": [
  {
   "cell_type": "code",
   "execution_count": 24,
   "metadata": {},
   "outputs": [
    {
     "name": "stdout",
     "output_type": "stream",
     "text": [
      "1067.3\n",
      "106.72999999999999\n",
      "899\n",
      "-10\n"
     ]
    }
   ],
   "source": [
    "numbers=[1,2,-1,55,100,899,-10,3,12.5,5.8]\n",
    "def ex1114 (numbers):\n",
    "    total=0\n",
    "    i=0\n",
    "    m_max=numbers[0]\n",
    "    m_min=numbers[0]\n",
    "    while i<len(numbers):\n",
    "        total=total+numbers[i]\n",
    "        ave=total/len(numbers)\n",
    "        if m_max>numbers[i]:\n",
    "            m_max=m_max\n",
    "        else:\n",
    "            m_max=numbers[i]\n",
    "        if m_min<numbers[i]:\n",
    "            m_min=m_min\n",
    "        else:\n",
    "            m_min=numbers[i]\n",
    "        i=i+1\n",
    "    print (total)\n",
    "    print (ave)\n",
    "    print (m_max)\n",
    "    print (m_min)\n",
    "ex1114 (numbers)\n",
    "        \n",
    "    "
   ]
  }
 ],
 "metadata": {
  "kernelspec": {
   "display_name": "Python 3",
   "language": "python",
   "name": "python3"
  },
  "language_info": {
   "codemirror_mode": {
    "name": "ipython",
    "version": 3
   },
   "file_extension": ".py",
   "mimetype": "text/x-python",
   "name": "python",
   "nbconvert_exporter": "python",
   "pygments_lexer": "ipython3",
   "version": "3.6.2"
  }
 },
 "nbformat": 4,
 "nbformat_minor": 2
}
