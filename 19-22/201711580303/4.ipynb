{
 "cells": [
  {
   "cell_type": "code",
   "execution_count": 1,
   "metadata": {},
   "outputs": [
    {
     "name": "stdout",
     "output_type": "stream",
     "text": [
      "m的值1\n",
      "n的值2\n",
      "k的值3\n",
      "9\n"
     ]
    }
   ],
   "source": [
    "def my_mul(n):\n",
    "    i=0\n",
    "    mul=1\n",
    "    while i<n:\n",
    "        i=i+1\n",
    "        mul=mul*i\n",
    "    return mul\n",
    "\n",
    "m=int(input('m的值'))\n",
    "n=int(input('n的值'))\n",
    "k=int(input('k的值'))\n",
    "\n",
    "print(my_mul(m)+my_mul(n)+my_mul(k))"
   ]
  },
  {
   "cell_type": "code",
   "execution_count": 8,
   "metadata": {},
   "outputs": [
    {
     "name": "stdout",
     "output_type": "stream",
     "text": [
      "3.140592653839794\n",
      "3.1415826535897198\n"
     ]
    }
   ],
   "source": [
    "def my_sum(n):\n",
    "    i=0\n",
    "    total=0\n",
    "    while i<n:\n",
    "        i=i+1\n",
    "        total=total+(-1)**(i+1)*1/(2*i-1)\n",
    "        \n",
    "    total=total*4\n",
    "    return total\n",
    "\n",
    "#主程序\n",
    "print(my_sum(1000))\n",
    "print(my_sum(100000))"
   ]
  },
  {
   "cell_type": "code",
   "execution_count": 26,
   "metadata": {},
   "outputs": [
    {
     "name": "stdout",
     "output_type": "stream",
     "text": [
      "你的名字陈浚纬\n",
      "陈浚纬,你是非常有性格的巨蟹座\n",
      "None\n"
     ]
    }
   ],
   "source": [
    "def birthday(n):\n",
    "    a=input('你的名字')\n",
    "    if 1.1<=n<=1.19:\n",
    "        print(a,'你是非常有性格的摩羯座',sep = ',')\n",
    "    elif 1.20<=n<=2.18:\n",
    "        print(a,'你是非常有性格的水瓶座',sep = ',')\n",
    "    elif 2.19<=n<=3.20:\n",
    "        print(a,'你是非常有性格的双鱼座',sep = ',')\n",
    "    elif 3.21<=n<=4.19:\n",
    "        print(a,'你是非常有性格的白羊座',sep = ',')\n",
    "    elif 4.20<=n<=5.20:\n",
    "        print(a,'你是非常有性格的金牛座',sep = ',')\n",
    "    elif 5.21<=n<=6.21:\n",
    "        print(a,'你是非常有性格的双子座',sep = ',')\n",
    "    elif 6.22<=n<=7.22:\n",
    "        print(a,'你是非常有性格的巨蟹座',sep = ',')\n",
    "    elif 7.23<=n<=8.22:\n",
    "        print(a,'你是非常有性格的狮子座',sep = ',')\n",
    "    elif 8.23<=n<=9.22:\n",
    "        print(a,'你是非常有性格的处女座',sep = ',')\n",
    "    elif 9.23<=n<=10.23:\n",
    "        print(a,'你是非常有性格的天秤座',sep = ',')\n",
    "    elif 10.24<=n<=11.22:\n",
    "        print(a,'你是非常有性格的天蝎座',sep = ',')\n",
    "    elif 11.23<=n<=12.21:\n",
    "        print(a,'你是非常有性格的射手座',sep = ',')\n",
    "    else :\n",
    "        print(a,'你是非常有性格的摩羯座',sep = ',')\n",
    "    \n",
    "#用小数形式，小数点前为月份，小数点后为日期\n",
    "print(birthday(6.26))\n",
    "    \n",
    "        \n",
    "    "
   ]
  },
  {
   "cell_type": "code",
   "execution_count": 30,
   "metadata": {},
   "outputs": [
    {
     "name": "stdout",
     "output_type": "stream",
     "text": [
      "把f或fe变为v再加es\n"
     ]
    }
   ],
   "source": [
    "def word(n):\n",
    "    if n.endswith('ch'):\n",
    "        print('在单词后加es')\n",
    "    elif n.endswith('sh'):\n",
    "        print('在单词后加es')\n",
    "    elif n.endswith('x'):\n",
    "        print('在单词后加es')\n",
    "    elif n.endswith('s'):\n",
    "        print('在单词后加es')\n",
    "    elif n.endswith('o'):\n",
    "        print('在单词后加es')\n",
    "    elif n.endswith('y'):\n",
    "        print('把y变为i再加es')\n",
    "    elif n.endswith('f') or n.endswith('fe'):\n",
    "        print('把f或fe变为v再加es')\n",
    "    else:\n",
    "        print('直接加s')\n",
    "        \n",
    "#主程序\n",
    "word('knife')"
   ]
  },
  {
   "cell_type": "code",
   "execution_count": 38,
   "metadata": {},
   "outputs": [
    {
     "name": "stdout",
     "output_type": "stream",
     "text": [
      "15\n"
     ]
    }
   ],
   "source": [
    "def my_sum(m,n,k):\n",
    "    i=m\n",
    "    total=m\n",
    "    while i<n:\n",
    "        i=i+k\n",
    "        total=total+i\n",
    "    return total\n",
    "#主程序\n",
    "print(my_sum(1,9,4))\n",
    "        "
   ]
  }
 ],
 "metadata": {
  "kernelspec": {
   "display_name": "Python 3",
   "language": "python",
   "name": "python3"
  },
  "language_info": {
   "codemirror_mode": {
    "name": "ipython",
    "version": 3
   },
   "file_extension": ".py",
   "mimetype": "text/x-python",
   "name": "python",
   "nbconvert_exporter": "python",
   "pygments_lexer": "ipython3",
   "version": "3.6.2"
  }
 },
 "nbformat": 4,
 "nbformat_minor": 2
}
