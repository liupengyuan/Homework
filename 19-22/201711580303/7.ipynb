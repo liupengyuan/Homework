{
 "cells": [
  {
   "cell_type": "code",
   "execution_count": 8,
   "metadata": {},
   "outputs": [
    {
     "name": "stdout",
     "output_type": "stream",
     "text": [
      "输入字符串s，回车结束123456789\n",
      "987654321\n"
     ]
    }
   ],
   "source": [
    "\n",
    "def reverse(s):\n",
    "    s=input('输入字符串s，回车结束')\n",
    "    m=''\n",
    "    for i in range(len(s)):\n",
    "        m=m+s[len(s)-i-1]\n",
    "    print(m)\n",
    "    \n",
    "    \n",
    "#主程序    \n",
    "reverse(s)        "
   ]
  },
  {
   "cell_type": "code",
   "execution_count": 14,
   "metadata": {},
   "outputs": [
    {
     "name": "stdout",
     "output_type": "stream",
     "text": [
      "输入行数，以回车结束6\n",
      "输入构成三角形的符号*\n",
      "*\n",
      "**\n",
      "***\n",
      "****\n",
      "*****\n",
      "******\n"
     ]
    }
   ],
   "source": [
    "n=int(input('输入行数，以回车结束'))\n",
    "symbol=input('输入构成三角形的符号')\n",
    "def RTtriangle(n,symbol):\n",
    "    for i in range(n):\n",
    "        print(symbol*(i+1))\n",
    "        \n",
    "        \n",
    "RTtriangle(n,symbol)"
   ]
  },
  {
   "cell_type": "code",
   "execution_count": 44,
   "metadata": {},
   "outputs": [
    {
     "name": "stdout",
     "output_type": "stream",
     "text": [
      "输入行数，以回车结束6\n",
      "输入构成三角形的符号*\n",
      "      *\n",
      "     ***\n",
      "    *****\n",
      "   *******\n",
      "  *********\n",
      " ***********\n"
     ]
    }
   ],
   "source": [
    "n=int(input('输入行数，以回车结束'))\n",
    "symbol=input('输入构成三角形的符号')\n",
    "\n",
    "def IStriangle(n,symbol):\n",
    "    for i in range(0,n):\n",
    "        if i==0:\n",
    "            print((n-i)*' '+symbol)\n",
    "        else:\n",
    "            print((n-i)*' '+symbol*(i*2+1))\n",
    "            \n",
    "IStriangle(n,symbol)        \n"
   ]
  },
  {
   "cell_type": "code",
   "execution_count": 46,
   "metadata": {},
   "outputs": [
    {
     "name": "stdout",
     "output_type": "stream",
     "text": [
      "输入行数，以回车结束5\n",
      "输入构成三角形的符号*\n",
      "     *\n",
      "    **\n",
      "   ***\n",
      "  ****\n",
      " *****\n"
     ]
    }
   ],
   "source": [
    "n=int(input('输入行数，以回车结束'))\n",
    "symbol=input('输入构成三角形的符号')\n",
    "def triangle(n,symbol):\n",
    "    for i in range(n):\n",
    "        print(' '*(n-i)+symbol*(i+1))\n",
    "        \n",
    "triangle(n,symbol)"
   ]
  },
  {
   "cell_type": "code",
   "execution_count": 12,
   "metadata": {},
   "outputs": [
    {
     "name": "stdout",
     "output_type": "stream",
     "text": [
      "行数为2n+1，以回车结束3\n",
      "输入构成菱形的符号*\n",
      "   *\n",
      "  ***\n",
      " *****\n",
      "*******\n",
      " *****\n",
      "  ***\n",
      "   *\n"
     ]
    }
   ],
   "source": [
    "n=int(input('行数为2n+1，以回车结束'))\n",
    "symbol=input('输入构成菱形的符号')\n",
    "def rhombus(n,symbol):\n",
    "    for i in range(n):\n",
    "        print((n-i)*' '+symbol*(2*i+1))\n",
    "    print(symbol*(2*n+1))\n",
    "    for j in range(n-1,-1,-1):\n",
    "        print((n-j)*' '+symbol*(2*j+1))\n",
    "        \n",
    "rhombus(n,symbol)"
   ]
  }
 ],
 "metadata": {
  "kernelspec": {
   "display_name": "Python 3",
   "language": "python",
   "name": "python3"
  },
  "language_info": {
   "codemirror_mode": {
    "name": "ipython",
    "version": 3
   },
   "file_extension": ".py",
   "mimetype": "text/x-python",
   "name": "python",
   "nbconvert_exporter": "python",
   "pygments_lexer": "ipython3",
   "version": "3.6.2"
  }
 },
 "nbformat": 4,
 "nbformat_minor": 2
}
