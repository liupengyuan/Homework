{
 "cells": [
  {
   "cell_type": "code",
   "execution_count": null,
   "metadata": {},
   "outputs": [],
   "source": [
    "\n",
    "\n",
    "import random,collections \n",
    "A=[] \n",
    "for i in range(10001): \n",
    "    a=random.randint(0,100000) \n",
    "    A.append(a) \n",
    "B = sorted(A) \n",
    "C = collections.Counter(B) \n",
    "for c in C: \n",
    "print(c,C[c])"
   ]
  },
  {
   "cell_type": "code",
   "execution_count": null,
   "metadata": {},
   "outputs": [],
   "source": [
    "G=[] \n",
    "D=[] \n",
    "str1=[] \n",
    "str2=[] \n",
    "table1=[] \n",
    "table2=[] \n",
    "with open(r'd/temp/.txt', 'w+') as fw, open(r'd/temp/语料.txt',encoding='gbk') \n",
    "as fr: num = 0 text1=fr.read() \n",
    "text2=fw.read() \n",
    "for line in fr: \n",
    "    if num >= 5001 and num <= 10000: \n",
    "        fw.write(line) num += 1 \n",
    "        else: \n",
    "            break \n",
    "        words = [word.split('/')[0] \n",
    "        for word in text1.split()] for word in words: \n",
    "                if word not in table1: \n",
    "                    table1.append(word) \n",
    "        words = [word.split('/')[0] \n",
    "        for word in text2.split()] for word in words: \n",
    "            if word not in table2: \n",
    "                table2.append(word) \n",
    "                    for m in table1: \n",
    "                        if m in table2: G.append(m) \n",
    "                        else: \n",
    "                        D.append(m) \n",
    "print(G,D)"
   ]
  }
 ],
 "metadata": {
  "kernelspec": {
   "display_name": "Python 3",
   "language": "python",
   "name": "python3"
  },
  "language_info": {
   "codemirror_mode": {
    "name": "ipython",
    "version": 3
   },
   "file_extension": ".py",
   "mimetype": "text/x-python",
   "name": "python",
   "nbconvert_exporter": "python",
   "pygments_lexer": "ipython3",
   "version": "3.6.3"
  }
 },
 "nbformat": 4,
 "nbformat_minor": 2
}
