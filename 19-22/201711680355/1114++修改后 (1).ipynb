{
 "cells": [
  {
   "cell_type": "code",
   "execution_count": 10,
   "metadata": {},
   "outputs": [
    {
     "name": "stdout",
     "output_type": "stream",
     "text": [
      "106.72999999999999\n",
      "899\n",
      "-10\n",
      "(-10, 899, 106.72999999999999)\n"
     ]
    }
   ],
   "source": [
    "def mine(numbers):\n",
    "    \n",
    "\n",
    "    \n",
    "    total=0\n",
    "    for number in numbers:\n",
    "        total=total+number\n",
    "        ave=total/10\n",
    "    print(ave)\n",
    "    i=0\n",
    "    mins=ave\n",
    "    maxs=ave\n",
    "\n",
    "    while i<10:\n",
    "        if numbers[i]>maxs:\n",
    "            maxs = numbers[i]\n",
    "        elif numbers[i]<=maxs:\n",
    "            maxs=maxs\n",
    "        i=i+1\n",
    "    i=0\n",
    "    print(maxs)\n",
    "    while i<10:\n",
    "        if numbers[i]<mins:\n",
    "            mins = numbers[i]\n",
    "        elif numbers[i]>=mins:\n",
    "            mins=mins\n",
    "        i=i+1\n",
    "    print(mins)\n",
    "    return mins,maxs,ave\n",
    "print(mine([1,2,-1,55,100,899,-10,3,12.5,5.8]))\n",
    "\n",
    "        \n",
    "\n"
   ]
  },
  {
   "cell_type": "code",
   "execution_count": null,
   "metadata": {},
   "outputs": [],
   "source": []
  }
 ],
 "metadata": {
  "kernelspec": {
   "display_name": "Python 3",
   "language": "python",
   "name": "python3"
  },
  "language_info": {
   "codemirror_mode": {
    "name": "ipython",
    "version": 3
   },
   "file_extension": ".py",
   "mimetype": "text/x-python",
   "name": "python",
   "nbconvert_exporter": "python",
   "pygments_lexer": "ipython3",
   "version": "3.6.3"
  }
 },
 "nbformat": 4,
 "nbformat_minor": 2
}
