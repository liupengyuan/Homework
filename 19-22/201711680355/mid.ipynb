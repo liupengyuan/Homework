{
 "cells": [
  {
   "cell_type": "code",
   "execution_count": null,
   "metadata": {},
   "outputs": [
    {
     "name": "stdout",
     "output_type": "stream",
     "text": [
      "please enter a number3\n"
     ]
    }
   ],
   "source": [
    "def mine(m):\n",
    "    m=1\n",
    "    i=0\n",
    "    total1=0\n",
    "    total=0\n",
    "    while i<m:\n",
    "        total1=total+1\n",
    "        m=m+1\n",
    "        total=total+total1\n",
    "    print(total)\n",
    "    return total\n",
    "print(mine(m=int(input('please enter a number'))))\n",
    "\n",
    "    "
   ]
  },
  {
   "cell_type": "code",
   "execution_count": 2,
   "metadata": {},
   "outputs": [
    {
     "name": "stdout",
     "output_type": "stream",
     "text": [
      "*\n",
      "4\n"
     ]
    },
    {
     "ename": "MemoryError",
     "evalue": "",
     "output_type": "error",
     "traceback": [
      "\u001b[1;31m---------------------------------------------------------------------------\u001b[0m",
      "\u001b[1;31mMemoryError\u001b[0m                               Traceback (most recent call last)",
      "\u001b[1;32m<ipython-input-2-6dcc3d5ee657>\u001b[0m in \u001b[0;36m<module>\u001b[1;34m()\u001b[0m\n\u001b[0;32m      5\u001b[0m \u001b[1;32mwhile\u001b[0m \u001b[1;36m1\u001b[0m\u001b[1;33m<\u001b[0m\u001b[0mn\u001b[0m\u001b[1;33m:\u001b[0m\u001b[1;33m\u001b[0m\u001b[0m\n\u001b[0;32m      6\u001b[0m     \u001b[1;32mfor\u001b[0m \u001b[0mlist\u001b[0m \u001b[1;32min\u001b[0m \u001b[0mrange\u001b[0m\u001b[1;33m(\u001b[0m\u001b[0mi\u001b[0m\u001b[1;33m)\u001b[0m\u001b[1;33m:\u001b[0m\u001b[1;33m\u001b[0m\u001b[0m\n\u001b[1;32m----> 7\u001b[1;33m         \u001b[0mlists\u001b[0m\u001b[1;33m.\u001b[0m\u001b[0mappend\u001b[0m\u001b[1;33m(\u001b[0m\u001b[0ma\u001b[0m\u001b[1;33m)\u001b[0m\u001b[1;33m\u001b[0m\u001b[0m\n\u001b[0m\u001b[0;32m      8\u001b[0m     \u001b[0mi\u001b[0m\u001b[1;33m=\u001b[0m\u001b[0mi\u001b[0m\u001b[1;33m+\u001b[0m\u001b[1;36m1\u001b[0m\u001b[1;33m\u001b[0m\u001b[0m\n\u001b[0;32m      9\u001b[0m \u001b[0mprint\u001b[0m\u001b[1;33m(\u001b[0m\u001b[0mlists\u001b[0m\u001b[1;33m)\u001b[0m\u001b[1;33m\u001b[0m\u001b[0m\n",
      "\u001b[1;31mMemoryError\u001b[0m: "
     ]
    }
   ],
   "source": [
    "a=input()\n",
    "i=0\n",
    "n=int(input())\n",
    "lists=[]\n",
    "while 1<n:\n",
    "    for list in range(i):\n",
    "        lists.append(a)\n",
    "    i=i+1\n",
    "print(lists)\n"
   ]
  },
  {
   "cell_type": "code",
   "execution_count": 9,
   "metadata": {},
   "outputs": [
    {
     "name": "stdout",
     "output_type": "stream",
     "text": [
      "ples enter a number4\n",
      "2\n",
      "4\n",
      "6\n",
      "8\n",
      "[2, 4, 6, 8]\n",
      "0\n",
      "1\n"
     ]
    }
   ],
   "source": [
    "numbers=[]\n",
    "n=int(input('ples enter a number'))\n",
    "i=0\n",
    "while i<n:\n",
    "    i=i+1\n",
    "    a=int(input())\n",
    "    numbers.append(a)\n",
    "print(numbers)\n",
    "for number in range(2):\n",
    "    print(number)\n",
    "    "
   ]
  },
  {
   "cell_type": "code",
   "execution_count": 2,
   "metadata": {},
   "outputs": [
    {
     "name": "stdout",
     "output_type": "stream",
     "text": [
      "please enter the number3\n",
      "please enter everyone`s cms181\n",
      "please enter everyone`s cms182\n",
      "please enter everyone`s cms183\n",
      "183\n",
      "122.0\n"
     ]
    }
   ],
   "source": [
    "num=int(input('please enter the number'))\n",
    "i=0\n",
    "while i<num:\n",
    "    high=int(input('please enter everyone`s cms'))\n",
    "    numbers=[]\n",
    "    numbers.append(high)\n",
    "    high=high+high\n",
    "    i=i+1\n",
    "ave=high/num\n",
    "for high in numbers:\n",
    "    if high>ave:\n",
    "        print(high)\n",
    "print(ave)\n",
    "    "
   ]
  },
  {
   "cell_type": "code",
   "execution_count": 1,
   "metadata": {},
   "outputs": [
    {
     "name": "stdout",
     "output_type": "stream",
     "text": [
      "10\n",
      "1\n",
      "ples enter your answer11\n",
      "2\n",
      "2\n",
      "ples enter your answer4\n",
      "4\n",
      "10\n",
      "ples enter your answer14\n",
      "4\n",
      "9\n",
      "ples enter your answer13\n",
      "8\n",
      "7\n",
      "ples enter your answer15\n",
      "100\n"
     ]
    }
   ],
   "source": [
    "import random\n",
    "i=0\n",
    "n=5\n",
    "score=0\n",
    "while i<n:\n",
    "    i=i+1\n",
    "    number1 = random.randint(1, 10)\n",
    "    print(number1)\n",
    "    number2 = random.randint(1, 10)\n",
    "    print(number2)\n",
    "    total_you=int(input('ples enter your answer'))\n",
    "    total_real=number1+number2\n",
    "    if total_you==total_real:\n",
    "        score=score+20\n",
    "    elif total_real!=total_you:\n",
    "        score=score+0\n",
    "print(score)\n",
    "    \n",
    "    \n",
    "    "
   ]
  },
  {
   "cell_type": "code",
   "execution_count": 9,
   "metadata": {},
   "outputs": [
    {
     "name": "stdout",
     "output_type": "stream",
     "text": [
      "[108, 3, -5, 9, 34, 88, -37]\n"
     ]
    }
   ],
   "source": [
    "a=min(3,-5,9,108,34,-37,88)\n",
    "b=max(3,-5,9,108,34,-37,88)\n",
    "lists=[3,-5,9,108,34,-37,88]\n",
    "numbers=[b]\n",
    "for number in lists:\n",
    "    if a<number<b:1\n",
    "        numbers.append(number)\n",
    "numbers.append(a)\n",
    "print(numbers)"
   ]
  }
 ],
 "metadata": {
  "kernelspec": {
   "display_name": "Python 3",
   "language": "python",
   "name": "python3"
  },
  "language_info": {
   "codemirror_mode": {
    "name": "ipython",
    "version": 3
   },
   "file_extension": ".py",
   "mimetype": "text/x-python",
   "name": "python",
   "nbconvert_exporter": "python",
   "pygments_lexer": "ipython3",
   "version": "3.6.3"
  }
 },
 "nbformat": 4,
 "nbformat_minor": 2
}
