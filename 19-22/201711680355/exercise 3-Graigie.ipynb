{
 "cells": [
  {
   "cell_type": "code",
   "execution_count": 1,
   "metadata": {},
   "outputs": [
    {
     "name": "stdout",
     "output_type": "stream",
     "text": [
      "请输入您的姓名谭萱\n",
      "你好 谭萱\n",
      "请输入您的出生月份与日期0110\n",
      "您是摩羯座\n"
     ]
    }
   ],
   "source": [
    "name = input('请输入您的姓名')\n",
    "print('你好', name)\n",
    "a=int(input('请输入您的出生月份与日期'))\n",
    "if 120<=a<=218:\n",
    "    print('您是水瓶座')\n",
    "elif 219<=a<=320:\n",
    "    print('您是双鱼座')\n",
    "elif 321<=a<=419:\n",
    "    print('您是白羊座')\n",
    "elif 420<=a<=520:\n",
    "    print('您是金牛座')\n",
    "elif 521<=a<=621:\n",
    "    print('您是双子座')\n",
    "elif 622<=a<=722:\n",
    "    print('您是巨蟹座')\n",
    "elif 723<=a<=822:\n",
    "    print('您是狮子座')\n",
    "elif 823<=a<=922:\n",
    "    print('您是处女座')\n",
    "elif 923<=a<=1023:\n",
    "    print('您是天秤座')\n",
    "elif 1024<=a<=1122:\n",
    "    print('您是天蝎座')\n",
    "elif 1123<=a<=1221:\n",
    "    print('您是射手座')\n",
    "elif 1222=<a<=1231:\n",
    "    print('您是摩羯座')\n",
    "elif 0<=a<=119:\n",
    "    print('您是摩羯座')\n",
    "     \n",
    "     \n",
    "     "
   ]
  },
  {
   "cell_type": "code",
   "execution_count": 11,
   "metadata": {
    "scrolled": true
   },
   "outputs": [
    {
     "name": "stdout",
     "output_type": "stream",
     "text": [
      "请任意输入一个整数70\n",
      "请任意输入一个非零整数8\n",
      "请问您的目的是：1=求和，2=乘积，3=余数1\n",
      "78\n"
     ]
    }
   ],
   "source": [
    "m=int(input('请任意输入一个整数'))\n",
    "n=int(input('请任意输入一个非零整数'))\n",
    "q=0\n",
    "q=int(input('请问您的目的是：1=求和，2=乘积，3=余数'))\n",
    "\n",
    "if q==1:\n",
    "    print(m+n)\n",
    "elif q==2:\n",
    "    print(m*n)\n",
    "elif q==3:\n",
    "    print(m%n)\n",
    "else:\n",
    "    print(m//n)"
   ]
  },
  {
   "cell_type": "code",
   "execution_count": 12,
   "metadata": {},
   "outputs": [
    {
     "name": "stdout",
     "output_type": "stream",
     "text": [
      "请您输入今日北京PM2.5数值321\n",
      "您应佩戴防雾霾口罩\n"
     ]
    }
   ],
   "source": [
    "pm=int(input('请您输入今日北京PM2.5数值'))\n",
    "if 0<=pm<=200:\n",
    "    print('空气清新或轻度污染，无需特别防护措施')\n",
    "elif 201<=pm<=500:\n",
    "    print('您应佩戴防雾霾口罩')\n",
    "elif 501<=pm<=600:\n",
    "    print('您应打开空气净化器并佩戴防雾霾口罩')\n",
    "elif pm>=600:\n",
    "    print('建议逃离北京')"
   ]
  },
  {
   "cell_type": "code",
   "execution_count": null,
   "metadata": {},
   "outputs": [],
   "source": [
    "a=input('')\n",
    "\n",
    "if a.endswith('ch'or'sh'or's'or'x'):\n",
    "    print(a+'es')\n",
    "else:\n",
    "    print(a+'s')"
   ]
  },
  {
   "cell_type": "code",
   "execution_count": 3,
   "metadata": {},
   "outputs": [
    {
     "name": "stdout",
     "output_type": "stream",
     "text": [
      "\n",
      "\n"
     ]
    }
   ],
   "source": [
    "print('\\n')"
   ]
  },
  {
   "cell_type": "code",
   "execution_count": null,
   "metadata": {},
   "outputs": [],
   "source": []
  }
 ],
 "metadata": {
  "kernelspec": {
   "display_name": "Python 3",
   "language": "python",
   "name": "python3"
  },
  "language_info": {
   "codemirror_mode": {
    "name": "ipython",
    "version": 3
   },
   "file_extension": ".py",
   "mimetype": "text/x-python",
   "name": "python",
   "nbconvert_exporter": "python",
   "pygments_lexer": "ipython3",
   "version": "3.6.3"
  }
 },
 "nbformat": 4,
 "nbformat_minor": 2
}
