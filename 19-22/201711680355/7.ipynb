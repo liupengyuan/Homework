{
 "cells": [
  {
   "cell_type": "code",
   "execution_count": 3,
   "metadata": {},
   "outputs": [
    {
     "data": {
      "text/plain": [
       "[7, 6, 5, 4, 3, 2]"
      ]
     },
     "execution_count": 3,
     "metadata": {},
     "output_type": "execute_result"
    }
   ],
   "source": [
    "def reverse(s):\n",
    "    num=len(s)\n",
    "    i=0\n",
    "    numbers=[]\n",
    "    while i<num:\n",
    "        for a in s:\n",
    "            numbers.append(s[num-i-1])\n",
    "            i=i+1\n",
    "    return(numbers)\n",
    "    print(numbers)\n",
    "reverse([2,3,4,5,6,7])"
   ]
  },
  {
   "cell_type": "code",
   "execution_count": 70,
   "metadata": {},
   "outputs": [
    {
     "name": "stdout",
     "output_type": "stream",
     "text": [
      "     * \n",
      "    * * \n",
      "   * * * \n",
      "  * * * * \n",
      " * * * * * \n",
      "* * * * * * \n",
      "     *\n",
      "    **\n",
      "   ***\n",
      "  ****\n",
      " *****\n",
      "******\n",
      " \n"
     ]
    }
   ],
   "source": [
    "def triangle(n,num):                                           \n",
    "    line = n*num\n",
    "    lists=(n+' ')\n",
    "    for i in range(1, len(line)+1):\n",
    "        print((len(line)-i)*' ' + lists*i,end='')\n",
    "        print()\n",
    "    for i in range(1,len(line)+1):\n",
    "        print((len(line)-i)*' ' + n*i,end='')\n",
    "        print()\n",
    "   \n",
    "    return(' ')\n",
    "print(triangle('*',6))"
   ]
  },
  {
   "cell_type": "code",
   "execution_count": 60,
   "metadata": {},
   "outputs": [
    {
     "name": "stdout",
     "output_type": "stream",
     "text": [
      "        * \n",
      "       * * \n",
      "      * * * \n",
      "     * * * * \n",
      "    * * * * * \n",
      "   * * * * * * \n",
      "  * * * * * * * \n",
      " * * * * * * * * \n",
      "* * * * * * * * * \n",
      " * * * * * * * * \n",
      "  * * * * * * * \n",
      "   * * * * * * \n",
      "    * * * * * \n",
      "     * * * * \n",
      "      * * * \n",
      "       * * \n",
      "        * \n",
      "         \n",
      "     * \n",
      "    * * \n",
      "   * * * \n",
      "  * * * * \n",
      " * * * * * \n",
      "* * * * * * \n",
      " * * * * * \n",
      "  * * * * \n",
      "   * * * \n",
      "    * * \n",
      "     * \n",
      "      \n",
      "   \n"
     ]
    }
   ],
   "source": [
    "def diamond(num,n):\n",
    "   \n",
    "    line = 'n'*num\n",
    "    lists=(n+' ')\n",
    "    for i in range(1, len(line)+1):\n",
    "        print((len(line)-i)*' ' + lists*i,end='')\n",
    "        print()\n",
    "    for i in range(len(line)+1,2*len(line)+1):\n",
    "        print((i-len(line))*' '+lists*(2*len(line)-i),end='')\n",
    "        print()\n",
    "    \n",
    "    return(' ')\n",
    "\n",
    "print(diamond(9,'*'),diamond(6,'*'))"
   ]
  }
 ],
 "metadata": {
  "kernelspec": {
   "display_name": "Python 3",
   "language": "python",
   "name": "python3"
  },
  "language_info": {
   "codemirror_mode": {
    "name": "ipython",
    "version": 3
   },
   "file_extension": ".py",
   "mimetype": "text/x-python",
   "name": "python",
   "nbconvert_exporter": "python",
   "pygments_lexer": "ipython3",
   "version": "3.6.3"
  }
 },
 "nbformat": 4,
 "nbformat_minor": 2
}
