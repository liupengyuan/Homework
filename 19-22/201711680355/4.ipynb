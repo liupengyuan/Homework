{
 "cells": [
  {
   "cell_type": "code",
   "execution_count": 3,
   "metadata": {},
   "outputs": [
    {
     "name": "stdout",
     "output_type": "stream",
     "text": [
      "4\n",
      "4\n",
      "4\n",
      "72\n"
     ]
    }
   ],
   "source": [
    "def mul(number):\n",
    "    i=0\n",
    "    multy=1\n",
    "    while i<number:\n",
    "        i=i+1\n",
    "        multy=multy*i\n",
    "    return multy\n",
    "m=int(input())\n",
    "n=int(input())\n",
    "k=int(input())\n",
    "\n",
    "print(mul(m)+mul(n)+mul(k))"
   ]
  },
  {
   "cell_type": "markdown",
   "metadata": {},
   "source": [
    " "
   ]
  },
  {
   "cell_type": "code",
   "execution_count": 24,
   "metadata": {},
   "outputs": [
    {
     "name": "stdout",
     "output_type": "stream",
     "text": [
      "3.140592653839794\n",
      "3.1415826535897198\n"
     ]
    }
   ],
   "source": [
    "def compute_sum(end):\n",
    "    num=-1\n",
    "    i=0\n",
    "    total=0\n",
    "\n",
    "    while i<end:\n",
    "        i=i+1\n",
    "        num=num*(-1)\n",
    "        k=i*2-1\n",
    "        j=num/k\n",
    "        total=total+j\n",
    "\n",
    "    return total\n",
    "\n",
    "n=1000\n",
    "print(4*compute_sum(n))\n",
    "\n",
    "n=100000\n",
    "print(4*compute_sum(n))"
   ]
  },
  {
   "cell_type": "code",
   "execution_count": 5,
   "metadata": {},
   "outputs": [
    {
     "name": "stdout",
     "output_type": "stream",
     "text": [
      "请输入您的姓名w\n",
      "请输入您的出生月份与日期0112\n",
      "你好 w 您是摩羯座\n"
     ]
    }
   ],
   "source": [
    "def h(a):\n",
    "\n",
    "    \n",
    "    if 120<=a<=218:\n",
    "        prin='您是水瓶座'\n",
    "    elif 219<=a<=320:\n",
    "        prin='您是双鱼座'\n",
    "    elif 321<=a<=419:\n",
    "        prin='您是白羊座'\n",
    "    elif 420<=a<=520:\n",
    "        prin='您是金牛座'\n",
    "    elif 521<=a<=621:\n",
    "        prin='您是双子座'\n",
    "    elif 622<=a<=722:\n",
    "        prin='您是巨蟹座'\n",
    "    elif 723<=a<=822:\n",
    "        prin='您是狮子座'\n",
    "    elif 823<=a<=922:\n",
    "        prin='您是处女座'\n",
    "    elif 923<=a<=1023:\n",
    "        prin='您是天秤座'\n",
    "    elif 1024<=a<=1122:\n",
    "        prin='您是天蝎座'\n",
    "    elif 1123<=a<=1221:\n",
    "    \n",
    "        prin='您是射手座'\n",
    "    elif 1222<=a<=1231:\n",
    "        prin='您是摩羯座'\n",
    "    elif 0<=a<=119:\n",
    "        prin='您是摩羯座'\n",
    "    return prin\n",
    "\n",
    "\n",
    "\n",
    "name = input('请输入您的姓名')\n",
    "a=int(input('请输入您的出生月份与日期'))\n",
    "\n",
    "print('你好', name , h(a))\n",
    "\n",
    "     "
   ]
  },
  {
   "cell_type": "code",
   "execution_count": 7,
   "metadata": {},
   "outputs": [
    {
     "name": "stdout",
     "output_type": "stream",
     "text": [
      "ech\n",
      "eches\n"
     ]
    }
   ],
   "source": [
    "def h(a):\n",
    "\n",
    "    if a.endswith('ch'or'sh'or's'or'x'):\n",
    "        prin=a+'es'\n",
    "    else:\n",
    "        prin=a+'s'\n",
    "    return prin\n",
    "a=input('')\n",
    "print(h(a))\n",
    "\n",
    "    \n",
    "    \n",
    "    "
   ]
  }
 ],
 "metadata": {
  "kernelspec": {
   "display_name": "Python 3",
   "language": "python",
   "name": "python3"
  },
  "language_info": {
   "codemirror_mode": {
    "name": "ipython",
    "version": 3
   },
   "file_extension": ".py",
   "mimetype": "text/x-python",
   "name": "python",
   "nbconvert_exporter": "python",
   "pygments_lexer": "ipython3",
   "version": "3.6.3"
  }
 },
 "nbformat": 4,
 "nbformat_minor": 2
}
