{
 "cells": [
  {
   "cell_type": "code",
   "execution_count": 1,
   "metadata": {},
   "outputs": [
    {
     "name": "stdout",
     "output_type": "stream",
     "text": [
      "3\n",
      "1\n",
      "8\n",
      "2\n",
      "2\n",
      "6\n",
      "8\n",
      "1\n",
      "9\n",
      "3.0\n",
      "1.5\n"
     ]
    }
   ],
   "source": [
    "import random,math\n",
    "n=int(input())\n",
    "m=int(input())\n",
    "k=int(input())\n",
    "i=1\n",
    "numer=1\n",
    "total=0\n",
    "while i<=n:\n",
    "    i+=1\n",
    "    number = random.randint(m,k)\n",
    "    print(number)\n",
    "    total=number+total\n",
    "    print(total)\n",
    "average=total/n\n",
    "print(average)\n",
    "pfg=average**1/2\n",
    "print(pfg)"
   ]
  },
  {
   "cell_type": "code",
   "execution_count": 3,
   "metadata": {},
   "outputs": [
    {
     "name": "stdout",
     "output_type": "stream",
     "text": [
      "2\n",
      "3\n",
      "6\n",
      "6\n",
      "1.791759469228055\n",
      "5\n",
      "3.401197381662155\n",
      "3.401197381662155 0.2940141037952061\n"
     ]
    }
   ],
   "source": [
    "#写函数，共n个随机整数，整数范围在m与k之间，（n,m,k由用户输入）。求1：西格玛log(随机整数)，2：西格玛1/log(随机整数)\n",
    "n=int(input())\n",
    "m=int(input())\n",
    "k=int(input())\n",
    "import random,math\n",
    "total=0\n",
    "i=1\n",
    "while i<=n:\n",
    "    i+=1\n",
    "    number = random.randint(m,k)\n",
    "    print(number)\n",
    "    total=math.log(number)+total\n",
    "    print(total)\n",
    "    \n",
    "\n",
    "print(total,1/total)\n",
    "    "
   ]
  },
  {
   "cell_type": "code",
   "execution_count": 4,
   "metadata": {},
   "outputs": [
    {
     "name": "stdout",
     "output_type": "stream",
     "text": [
      "5\n",
      "2222200\n"
     ]
    }
   ],
   "source": [
    "#写函数，求s=a+aa+aaa+aaaa+aa...a的值，其中a是[1,9]之间的随机整数。例如2+22+222+2222+22222(此时共有5个数相加)，几个数相加由键盘输入。\n",
    "n=int(input())\n",
    "import random,math\n",
    "total=0\n",
    "i=1\n",
    "number=random.randint(0,10)\n",
    "\n",
    "while i<=n:\n",
    "    i+=1\n",
    "    \n",
    "    total=number*10**(i)+total\n",
    "    \n",
    "print(total)\n"
   ]
  },
  {
   "cell_type": "code",
   "execution_count": null,
   "metadata": {},
   "outputs": [],
   "source": []
  }
 ],
 "metadata": {
  "kernelspec": {
   "display_name": "Python 3",
   "language": "python",
   "name": "python3"
  },
  "language_info": {
   "codemirror_mode": {
    "name": "ipython",
    "version": 3
   },
   "file_extension": ".py",
   "mimetype": "text/x-python",
   "name": "python",
   "nbconvert_exporter": "python",
   "pygments_lexer": "ipython3",
   "version": "3.6.3"
  }
 },
 "nbformat": 4,
 "nbformat_minor": 2
}
