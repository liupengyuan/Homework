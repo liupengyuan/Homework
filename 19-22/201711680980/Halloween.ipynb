{
 "cells": [
  {
   "cell_type": "code",
   "execution_count": 60,
   "metadata": {
    "collapsed": false
   },
   "outputs": [],
   "source": [
    "def my_sum(y):\n",
    "    i=0\n",
    "    my_sum=0\n",
    "    while i<y:\n",
    "        i=i+1\n",
    "        my_sum=my_sum+i\n",
    "    return(my_sum)\n",
    "        "
   ]
  },
  {
   "cell_type": "code",
   "execution_count": 61,
   "metadata": {
    "collapsed": false
   },
   "outputs": [],
   "source": [
    "def my_mul(y):\n",
    "    i=0\n",
    "    my_mul=1\n",
    "    while i<y:\n",
    "        i=i+1\n",
    "        my_mul=i*my_mul\n",
    "    return(my_mul)"
   ]
  },
  {
   "cell_type": "code",
   "execution_count": 62,
   "metadata": {
    "collapsed": false
   },
   "outputs": [
    {
     "name": "stdout",
     "output_type": "stream",
     "text": [
      "请输入一个正整数,以回车结束.4\n",
      "请输入一个正整数,以回车结束.3\n",
      "30\n"
     ]
    }
   ],
   "source": [
    "n=int(input('请输入一个正整数,以回车结束.'))\n",
    "m=int(input('请输入一个正整数,以回车结束.'))\n",
    "if m>n:\n",
    "    my_sum(n)\n",
    "    my_sum(m)\n",
    "    print(my_sum(n)+my_sum(m))\n",
    "else:\n",
    "    my_mul(n)\n",
    "    my_mul(m)\n",
    "    print(my_mul(n)+my_mul(m))"
   ]
  },
  {
   "cell_type": "code",
   "execution_count": null,
   "metadata": {
    "collapsed": true
   },
   "outputs": [],
   "source": []
  }
 ],
 "metadata": {
  "kernelspec": {
   "display_name": "Python 3",
   "language": "python",
   "name": "python3"
  },
  "language_info": {
   "codemirror_mode": {
    "name": "ipython",
    "version": 3
   },
   "file_extension": ".py",
   "mimetype": "text/x-python",
   "name": "python",
   "nbconvert_exporter": "python",
   "pygments_lexer": "ipython3",
   "version": "3.6.0"
  }
 },
 "nbformat": 4,
 "nbformat_minor": 2
}
