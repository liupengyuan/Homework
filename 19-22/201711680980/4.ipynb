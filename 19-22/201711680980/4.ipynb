{
 "cells": [
  {
   "cell_type": "code",
   "execution_count": null,
   "metadata": {},
   "outputs": [],
   "source": [
    "#练习 1：仿照求$ \\sum_{i=1}^mi + \\sum_{i=1}^ni  + \\sum_{i=1}^ki$的完整代码，写程序，可求m!+n!+k!"
   ]
  },
  {
   "cell_type": "code",
   "execution_count": 5,
   "metadata": {},
   "outputs": [],
   "source": [
    "def mul(y):\n",
    "    i=1\n",
    "    total=1\n",
    "    while i<y:\n",
    "        i=i+1\n",
    "        total=total*i\n",
    "    return total"
   ]
  },
  {
   "cell_type": "code",
   "execution_count": 6,
   "metadata": {},
   "outputs": [
    {
     "name": "stdout",
     "output_type": "stream",
     "text": [
      "请输入第1个整数，以回车结束。5\n",
      "请输入第2个整数，以回车结束。6\n",
      "请输入第3个整数，以回车结束。7\n",
      "5880\n"
     ]
    }
   ],
   "source": [
    "m=int(input('请输入第1个整数，以回车结束。'))\n",
    "mul(m)\n",
    "n=int(input('请输入第2个整数，以回车结束。'))\n",
    "mul(n)\n",
    "k=int(input('请输入第3个整数，以回车结束。'))\n",
    "mul(k)\n",
    "print(mul(m)+mul(n)+mul(k))"
   ]
  },
  {
   "cell_type": "code",
   "execution_count": null,
   "metadata": {},
   "outputs": [],
   "source": [
    "#练习 2：写函数可返回1 - 1/3 + 1/5 - 1/7...的前n项的和。在主程序中，分别令n=1000及100000，打印4倍该函数的和。"
   ]
  },
  {
   "cell_type": "code",
   "execution_count": 7,
   "metadata": {},
   "outputs": [],
   "source": [
    "def sum(y):\n",
    "    i=1\n",
    "    x=0\n",
    "    m=1\n",
    "    total=1\n",
    "    while i<n:\n",
    "        i=i+2\n",
    "        x=x+1\n",
    "        m=(1/i)*(-1)**x\n",
    "        total=total+m\n",
    "    return total"
   ]
  },
  {
   "cell_type": "code",
   "execution_count": 8,
   "metadata": {},
   "outputs": [
    {
     "name": "stdout",
     "output_type": "stream",
     "text": [
      "3.143588659585789\n"
     ]
    }
   ],
   "source": [
    "n=int(1000)\n",
    "sum(n)\n",
    "print(4*sum(n))"
   ]
  },
  {
   "cell_type": "code",
   "execution_count": 9,
   "metadata": {},
   "outputs": [],
   "source": [
    "#练习 3：将task3中的练习1及练习4改写为函数，并进行调用。"
   ]
  },
  {
   "cell_type": "code",
   "execution_count": 1,
   "metadata": {},
   "outputs": [],
   "source": [
    "#(1)\n",
    "def my(x):\n",
    "    if 1.19<=x<=2.18:\n",
    "        print(name,'您是非常有个性的水瓶座！')\n",
    "    elif 2.19<=x<=3.20:\n",
    "        print(name,'您是非常感性的双鱼座！')\n",
    "    elif 3.21<=x<=4.20:\n",
    "        print(name,'您是非常有冒险精神的白羊座！')\n",
    "    elif 4.21<=x<=5.21:\n",
    "        print(name,'您是非常有性格的金牛座！')\n",
    "    elif 5.22<=x<=6.21:\n",
    "        print(name,'您是非常机智敏捷的双子座！')\n",
    "    elif 6.22<=x<=7.23:\n",
    "        print(name,'您是非常顾家的巨蟹座！')\n",
    "    elif 7.24<=x<=8.24:\n",
    "        print(name,'您是非常有领导能力的狮子座！')\n",
    "    elif 8.24<=x<=9.24:\n",
    "        print(name,'您是非常完美主义的处女座！')\n",
    "    elif 9.25<=x<=10.23:\n",
    "        print(name,'您是非常有正义感的天秤座！')\n",
    "    elif 10.24<=x<=11.22:\n",
    "        print(name,'您是非常果决的天蝎座！')\n",
    "    elif 11.23<=x<=12.22:\n",
    "        print(name,'您是非常乐观的射手座！')\n",
    "    elif 12.23<=x<=1.20:\n",
    "        print(name,'您是非常脚踏实地的摩羯座！')\n",
    "    else:\n",
    "        print('您输入的日期有误。')"
   ]
  },
  {
   "cell_type": "code",
   "execution_count": 2,
   "metadata": {},
   "outputs": [
    {
     "name": "stdout",
     "output_type": "stream",
     "text": [
      "请输入您的姓名,以回车结束。kim\n",
      "请输入您的出生月份和日期。如2月4日对应2.04.2.04\n",
      "kim 您是非常有个性的水瓶座！\n"
     ]
    }
   ],
   "source": [
    "name=input('请输入您的姓名,以回车结束。')\n",
    "n=float(input('请输入您的出生月份和日期。如2月4日对应2.04.'))\n",
    "my(n)"
   ]
  },
  {
   "cell_type": "code",
   "execution_count": null,
   "metadata": {},
   "outputs": [],
   "source": [
    "#(2)"
   ]
  },
  {
   "cell_type": "code",
   "execution_count": 3,
   "metadata": {},
   "outputs": [],
   "source": [
    "def my(y):\n",
    "    if some_string.endswith('y'):\n",
    "        print('大多数情况是将y改成i再加es')\n",
    "    elif some_string.endswith('s'):\n",
    "        print('直接加es')\n",
    "    elif some_string.endswith('x'):\n",
    "        print('直接加es')\n",
    "    elif some_string.endswith('sh'or'th'or'ch'):\n",
    "        print('大多数情况是加es')\n",
    "    else:\n",
    "        print('直接加s')"
   ]
  },
  {
   "cell_type": "code",
   "execution_count": 4,
   "metadata": {},
   "outputs": [
    {
     "name": "stdout",
     "output_type": "stream",
     "text": [
      "请输入一个英文名词，如school。以回车结束。school\n",
      "直接加s\n"
     ]
    }
   ],
   "source": [
    "some_string=input('请输入一个英文名词，如school。以回车结束。')\n",
    "my(some_string)"
   ]
  },
  {
   "cell_type": "code",
   "execution_count": null,
   "metadata": {},
   "outputs": [],
   "source": [
    "#挑战性练习：写程序，可以求从整数m到整数n累加的和，间隔为k，求和部分需用函数实现，主程序中由用户输入m，n，k调用函数验证正确性。"
   ]
  },
  {
   "cell_type": "code",
   "execution_count": 5,
   "metadata": {},
   "outputs": [],
   "source": [
    "def my(m,n,k):\n",
    "    total=m+n\n",
    "    \n",
    "    if m>n:\n",
    "        j=n\n",
    "        n=m\n",
    "        m=j\n",
    "        while m+k<n:\n",
    "            m=m+k\n",
    "            total=total+m\n",
    "    elif m<n:\n",
    "        while m+k<n:\n",
    "            m=m+k\n",
    "            total=total+m\n",
    "        \n",
    "    return total"
   ]
  },
  {
   "cell_type": "code",
   "execution_count": 6,
   "metadata": {},
   "outputs": [
    {
     "name": "stdout",
     "output_type": "stream",
     "text": [
      "请输入一个整数，以回车结束。7\n",
      "请输入另一个整数，以回车结束。1\n",
      "请输入一个小于n的正整数，以回车结束。2\n"
     ]
    },
    {
     "data": {
      "text/plain": [
       "16"
      ]
     },
     "execution_count": 6,
     "metadata": {},
     "output_type": "execute_result"
    }
   ],
   "source": [
    "m=int(input('请输入一个整数，以回车结束。'))\n",
    "n=int(input('请输入另一个整数，以回车结束。'))\n",
    "k=int(input('请输入一个小于n的正整数，以回车结束。'))\n",
    "my(m,n,k)"
   ]
  }
 ],
 "metadata": {
  "kernelspec": {
   "display_name": "Python 3",
   "language": "python",
   "name": "python3"
  },
  "language_info": {
   "codemirror_mode": {
    "name": "ipython",
    "version": 3
   },
   "file_extension": ".py",
   "mimetype": "text/x-python",
   "name": "python",
   "nbconvert_exporter": "python",
   "pygments_lexer": "ipython3",
   "version": "3.6.3"
  }
 },
 "nbformat": 4,
 "nbformat_minor": 2
}
