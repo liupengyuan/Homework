{
 "cells": [
  {
   "cell_type": "code",
   "execution_count": null,
   "metadata": {},
   "outputs": [],
   "source": [
    "#练习 1"
   ]
  },
  {
   "cell_type": "code",
   "execution_count": 1,
   "metadata": {},
   "outputs": [
    {
     "name": "stdout",
     "output_type": "stream",
     "text": [
      "请输入您的姓名,以回车结束。Kim\n",
      "请输入您的出生月份和日期。2.04\n",
      "Kim 您是非常有个性的水瓶座！\n"
     ]
    }
   ],
   "source": [
    "name = input('请输入您的姓名,以回车结束。')\n",
    "n = float(input('请输入您的出生月份和日期。'))\n",
    "    \n",
    "if 1.19<=n<=2.18:\n",
    "    print(name,'您是非常有个性的水瓶座！')\n",
    "elif 2.19<=n<=3.20:\n",
    "    print(name,'您是非常感性的双鱼座！')\n",
    "elif 3.21<=n<=4.20:\n",
    "    print(name,'您是非常有冒险精神的白羊座！')\n",
    "elif 4.21<=n<=5.21:\n",
    "    print(name,'您是非常有性格的金牛座！')\n",
    "elif 5.22<=n<=6.21:\n",
    "    print(name,'您是非常机智敏捷的双子座！')\n",
    "elif 6.22<=n<=7.23:\n",
    "    print(name,'您是非常顾家的巨蟹座！')\n",
    "elif 7.24<=n<=8.24:\n",
    "    print(name,'您是非常有领导能力的狮子座！')\n",
    "elif 8.24<=n<=9.24:\n",
    "    print(name,'您是非常完美主义的处女座！')\n",
    "elif 9.25<=n<=10.23:\n",
    "    print(name,'您是非常有正义感的天秤座！')\n",
    "elif 10.24<=n<=11.22:\n",
    "    print(name,'您是非常果决的天蝎座！')\n",
    "elif 11.23<=n<=12.22:\n",
    "    print(name,'您是非常乐观的射手座！')\n",
    "elif 12.23<=n<=1.20:\n",
    "    print(name,'您是非常脚踏实地的摩羯座！')"
   ]
  },
  {
   "cell_type": "code",
   "execution_count": null,
   "metadata": {},
   "outputs": [],
   "source": [
    "#练习 2"
   ]
  },
  {
   "cell_type": "code",
   "execution_count": 2,
   "metadata": {},
   "outputs": [
    {
     "name": "stdout",
     "output_type": "stream",
     "text": [
      "请输入一个整数，以回车结束。5\n",
      "请输入一个整数，以回车结束。9\n",
      "如果要求和，请输入1。如果要求乘积，请输入2。如果要求余数，请输入3。3\n",
      "4\n"
     ]
    }
   ],
   "source": [
    "n=int(input('请输入一个整数，以回车结束。'))\n",
    "m=int(input('请输入一个整数，以回车结束。'))\n",
    "i=int(input('如果要求和，请输入1。如果要求乘积，请输入2。如果要求余数，请输入3。'))\n",
    "\n",
    "if i==1:\n",
    "    x=m+n\n",
    "    print(x)\n",
    "elif i==2:\n",
    "    x=m*n\n",
    "    print(x)\n",
    "elif i==3:\n",
    "    x=m%n\n",
    "    print(x)\n",
    "else :\n",
    "    x=m//n\n",
    "    print(x)"
   ]
  },
  {
   "cell_type": "code",
   "execution_count": null,
   "metadata": {},
   "outputs": [],
   "source": [
    "#练习 3"
   ]
  },
  {
   "cell_type": "code",
   "execution_count": 3,
   "metadata": {},
   "outputs": [
    {
     "name": "stdout",
     "output_type": "stream",
     "text": [
      "请输入一个英文动词，如play。以回车结束。play\n",
      "将y改成i再加es\n"
     ]
    }
   ],
   "source": [
    "some_string=input('请输入一个英文动词，如play。以回车结束。')\n",
    "\n",
    "if some_string.endswith('y'):\n",
    "    print('将y改成i再加es')\n",
    "elif some_string.endswith('s'):\n",
    "    print('直接加es')\n",
    "elif some_string.endswith('x'):\n",
    "    print('直接加es')\n",
    "else:\n",
    "    print('直接加s')"
   ]
  },
  {
   "cell_type": "code",
   "execution_count": null,
   "metadata": {},
   "outputs": [],
   "source": [
    "#练习 4"
   ]
  },
  {
   "cell_type": "code",
   "execution_count": 4,
   "metadata": {},
   "outputs": [
    {
     "name": "stdout",
     "output_type": "stream",
     "text": [
      "显示空行\n",
      "                                                                                                                     \n",
      "显示完毕\n"
     ]
    }
   ],
   "source": [
    "print('显示空行')\n",
    "print('                                                                                                                     ')\n",
    "print('显示完毕')"
   ]
  },
  {
   "cell_type": "code",
   "execution_count": null,
   "metadata": {},
   "outputs": [],
   "source": []
  }
 ],
 "metadata": {
  "kernelspec": {
   "display_name": "Python 3",
   "language": "python",
   "name": "python3"
  },
  "language_info": {
   "codemirror_mode": {
    "name": "ipython",
    "version": 3
   },
   "file_extension": ".py",
   "mimetype": "text/x-python",
   "name": "python",
   "nbconvert_exporter": "python",
   "pygments_lexer": "ipython3",
   "version": "3.6.3"
  }
 },
 "nbformat": 4,
 "nbformat_minor": 2
}
