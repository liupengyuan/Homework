{
 "cells": [
  {
   "cell_type": "code",
   "execution_count": 11,
   "metadata": {},
   "outputs": [
    {
     "name": "stdout",
     "output_type": "stream",
     "text": [
      "        *  ***** * \n",
      "      * *  ***** * * \n",
      "    * * *  ***** * * * \n",
      "  * * * *  ***** * * * * \n",
      " * * * * *  ***** * * * * * \n"
     ]
    }
   ],
   "source": [
    "#第一题\n",
    "\n",
    "def pri(symbol,n):\n",
    "    i=0\n",
    "    k=1\n",
    "    while i<5:\n",
    "        i+=1\n",
    "        k+=2\n",
    "        print(' '*(n*2-k),'* '*i,'*'*n,'* '*i)\n",
    "    \n",
    "                    \n",
    "symbol='*'\n",
    "n=5\n",
    "pri(symbol,n)\n",
    "    "
   ]
  },
  {
   "cell_type": "code",
   "execution_count": 45,
   "metadata": {},
   "outputs": [
    {
     "data": {
      "text/plain": [
       "2"
      ]
     },
     "execution_count": 45,
     "metadata": {},
     "output_type": "execute_result"
    }
   ],
   "source": [
    "#第二题\n",
    "\n",
    "def A(m,n):\n",
    "    if m==0:\n",
    "        return n+1\n",
    "    elif m>0 and n==0:        \n",
    "        while m>0:\n",
    "            m-=1\n",
    "            n=1\n",
    "            if m==0:\n",
    "                return n+1\n",
    "    elif m>0 and n>0:\n",
    "        if m>n:\n",
    "            return n+1\n",
    "        elif m==n:\n",
    "            return 1\n",
    "        else:\n",
    "            return 2\n",
    "        \n",
    "        \n",
    "m=3\n",
    "n=4\n",
    "A(m,n)\n",
    "        "
   ]
  },
  {
   "cell_type": "code",
   "execution_count": null,
   "metadata": {},
   "outputs": [],
   "source": [
    "#第三题（a）\n",
    "\n",
    "def chuti(a,b,n):\n",
    "    test1=[]\n",
    "    import random\n",
    "    for i in range(n+1):\n",
    "        x=random.randint(a,b)\n",
    "        y=random.randint(a,b)\n",
    "        fu=['+','-','*','/']\n",
    "        s=random.choice(fu)\n",
    "        if s=='-' and x<y:\n",
    "            t=y-x\n",
    "            print(y,s,x,'=')\n",
    "            test1.append(t)\n",
    "                    \n",
    "        elif s=='/' and x%y!=0 or x<=y:\n",
    "            break\n",
    "            \n",
    "        elif s=='+':\n",
    "            print(x,s,y,'=')\n",
    "            t=x+y\n",
    "            test1.append(t)\n",
    "            \n",
    "        elif s=='*':\n",
    "            print(x,s,y,'=')\n",
    "            t=x*y\n",
    "            test1.append(t)\n",
    "    print(test1)\n",
    "\n",
    "a=3\n",
    "b=25\n",
    "n=15\n",
    "chuti(a,b,n)"
   ]
  },
  {
   "cell_type": "code",
   "execution_count": null,
   "metadata": {},
   "outputs": [
    {
     "name": "stdout",
     "output_type": "stream",
     "text": [
      "请依次输入所有答案，用 , 分隔\n"
     ]
    }
   ],
   "source": [
    "#第三题（b）\n",
    "\n",
    "def judge(m):\n",
    "    for i in range(n+1):\n",
    "        if m[i]==test[i]:\n",
    "            if s=='+' or '-':\n",
    "                total+=5\n",
    "            else:\n",
    "                total+=10\n",
    "        print(total)\n",
    "\n",
    "print('请依次输入所有答案，用',',','分隔')\n",
    "m=input()\n",
    "print(m)"
   ]
  },
  {
   "cell_type": "code",
   "execution_count": null,
   "metadata": {},
   "outputs": [],
   "source": [
    "#第三题（c）\n",
    "\n",
    "n=int(input('请输入题目个数'))\n",
    "tiku=[]\n",
    "for i in range(n+1):\n",
    "    m=input('请输入题目')    \n",
    "    tis = m.split('=')\n",
    "    for ti in tis:\n",
    "        \n",
    "    \n"
   ]
  },
  {
   "cell_type": "code",
   "execution_count": null,
   "metadata": {},
   "outputs": [],
   "source": [
    "#第四题 (a)\n",
    "\n",
    "with open(r'd:\\temp\\成语大全.txt',encoding='utf-8') as f:\n",
    "    A=f.split()\n",
    "    for idiom in A:\n",
    "        if len(idiom)!=4:\n",
    "            A.remove(idiom)\n",
    "print(A)\n"
   ]
  },
  {
   "cell_type": "code",
   "execution_count": null,
   "metadata": {},
   "outputs": [],
   "source": [
    "#第四题 (b)\n",
    "\n",
    "def count_words_freq(filename):\n",
    "    word_freq_pairs = []\n",
    "    \n",
    "    with open(filename) as f:\n",
    "        for line in f:\n",
    "            words = [word.split('/') for word in line.split()]\n",
    "            for word in words:\n",
    "                for item in word_freq_pairs:\n",
    "                    if word == item[0]:\n",
    "                        item[1] += 1\n",
    "                        break\n",
    "                else:\n",
    "                    word_freq_pairs.append([word, 1])\n",
    "                    \n",
    "    return word_freq_pairs\n",
    "\n",
    "\n",
    "filename = r'd:\\temp\\成语大全.txt'\n",
    "table = count_words_freq(filename)\n",
    "table.sort()\n",
    "print(table[:20])"
   ]
  },
  {
   "cell_type": "code",
   "execution_count": null,
   "metadata": {},
   "outputs": [],
   "source": [
    "#第四题(c)\n",
    "\n",
    "def count_freq(filename):\n",
    "    word_freq_pairs = []\n",
    "    \n",
    "    with open(filename) as f:\n",
    "        for line in f:\n",
    "            cixings = [cixing.split('/')[1] for cixing in line.split()]\n",
    "            for cixing in words:\n",
    "                for item in word_pairs:\n",
    "                    if cixing == item[1]:\n",
    "                        item[0] += 1\n",
    "                        break\n",
    "                else:\n",
    "                    word_pairs.append([1,cixing])\n",
    "                    \n",
    "    return word_pairs\n",
    "\n",
    "filename = r'd:\\temp\\语料.txt'\n",
    "table = count_freq(filename)\n",
    "\n",
    "print(table)"
   ]
  },
  {
   "cell_type": "code",
   "execution_count": null,
   "metadata": {},
   "outputs": [],
   "source": [
    "#第四题(d)\n",
    "def count_freq(filename):\n",
    "    A=[]\n",
    "    with open(filename) as f:\n",
    "        for line in f:\n",
    "            words = [word.split('/') for word in line.split()]\n",
    "        if words[1]==nr:\n",
    "            A.append(words[0])\n",
    "        print(A)\n",
    "        \n",
    "filename = r'd:\\temp\\语料.txt'\n",
    "count_freq(filename)"
   ]
  }
 ],
 "metadata": {
  "kernelspec": {
   "display_name": "Python 3",
   "language": "python",
   "name": "python3"
  },
  "language_info": {
   "codemirror_mode": {
    "name": "ipython",
    "version": 3
   },
   "file_extension": ".py",
   "mimetype": "text/x-python",
   "name": "python",
   "nbconvert_exporter": "python",
   "pygments_lexer": "ipython3",
   "version": "3.6.3"
  }
 },
 "nbformat": 4,
 "nbformat_minor": 2
}
