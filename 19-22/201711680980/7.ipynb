{
 "cells": [
  {
   "cell_type": "code",
   "execution_count": null,
   "metadata": {},
   "outputs": [],
   "source": [
    "#练习1：自己定义一个reverse(s)函数，功能返回字符串s的倒序字符串。"
   ]
  },
  {
   "cell_type": "code",
   "execution_count": 1,
   "metadata": {},
   "outputs": [
    {
     "name": "stdout",
     "output_type": "stream",
     "text": [
      "123456\n",
      "654321\n"
     ]
    }
   ],
   "source": [
    "def rev():\n",
    "    line=str(n)\n",
    "    print(line[len(line):0:-1],line[0],sep='')\n",
    "\n",
    "n=input()\n",
    "rev()\n",
    "    "
   ]
  },
  {
   "cell_type": "code",
   "execution_count": null,
   "metadata": {},
   "outputs": [],
   "source": [
    "#练习2：写函数，根据给定符号和行数，打印相应直角三角形，等腰三角形及其他形式的三角形。"
   ]
  },
  {
   "cell_type": "code",
   "execution_count": 5,
   "metadata": {},
   "outputs": [
    {
     "name": "stdout",
     "output_type": "stream",
     "text": [
      "请选择符号*\n",
      "请输入行数6\n",
      "第一类直角三角形\n",
      "*\n",
      "**\n",
      "***\n",
      "****\n",
      "*****\n",
      "******\n",
      "第二类直角三角形\n",
      "      *\n",
      "     **\n",
      "    ***\n",
      "   ****\n",
      "  *****\n",
      " ******\n",
      "等腰三角形\n",
      "     *\n",
      "    ***\n",
      "   *****\n",
      "  *******\n",
      " *********\n",
      "***********\n",
      "任意三角形\n",
      "           *\n",
      "          *******\n",
      "         *************\n",
      "        *******************\n",
      "       *************************\n",
      "      *******************************\n"
     ]
    }
   ],
   "source": [
    "def triangle():\n",
    "    i=0\n",
    "    print('第一类直角三角形')\n",
    "    while i<n:\n",
    "        i+=1\n",
    "        print(symbol*i)\n",
    "       \n",
    "    print('第二类直角三角形')\n",
    "    j=0\n",
    "    while j<n:\n",
    "        j+=1\n",
    "        print((n-j)*' ',symbol*j)\n",
    "        \n",
    "    print('等腰三角形')\n",
    "    k=1\n",
    "    m=1\n",
    "    while k<n*2:\n",
    "        print((n-m)*' '+symbol*k,end='')\n",
    "        k+=2\n",
    "        m+=1\n",
    "        print()\n",
    "    \n",
    "    print('任意三角形')\n",
    "    p=1\n",
    "    q=1\n",
    "    while p<n*n:\n",
    "        print((n*2-q)*' '+symbol*p,end='')\n",
    "        p+=n\n",
    "        q+=1\n",
    "        print()\n",
    "       \n",
    "    \n",
    "\n",
    "    \n",
    "symbol=input('请选择符号')\n",
    "n=int(input('请输入行数'))\n",
    "triangle()"
   ]
  },
  {
   "cell_type": "code",
   "execution_count": null,
   "metadata": {},
   "outputs": [],
   "source": [
    "#练习3：写函数，根据给定符号，打印各种菱形。"
   ]
  },
  {
   "cell_type": "code",
   "execution_count": 4,
   "metadata": {},
   "outputs": [
    {
     "name": "stdout",
     "output_type": "stream",
     "text": [
      "请输入行数5\n",
      "请输入符号*\n",
      "菱形1\n",
      "    *\n",
      "   ***\n",
      "  *****\n",
      " *******\n",
      "*********\n",
      " *******\n",
      "  *****\n",
      "   ***\n",
      "    *\n",
      "     \n",
      "菱形2\n",
      "* * * * * \n",
      "* * * * * \n",
      "* * * * * \n",
      "* * * * * \n",
      "* * * * * \n",
      "菱形3\n",
      "                    * \n",
      "               * * * * * * \n",
      "          * * * * * * * * * * * \n",
      "     * * * * * * * * * * * * * * * * \n",
      "* * * * * * * * * * * * * * * * * * * * * \n",
      "     * * * * * * * * * * * * * * * * \n",
      "          * * * * * * * * * * * \n",
      "               * * * * * * \n",
      "                    * \n",
      "                         \n"
     ]
    }
   ],
   "source": [
    "def diamond():\n",
    "    print('菱形1')\n",
    "    i=0\n",
    "    k=1\n",
    "    while i<n:\n",
    "        i+=1\n",
    "        print((n-i)*' '+symbol*k,end='')\n",
    "        k+=2\n",
    "        print()\n",
    "    \n",
    "    k=k-2\n",
    "    while n<=i<2*n:\n",
    "        k-=2\n",
    "        print((i-n+1)*' '+symbol*k,end='')\n",
    "        i+=1\n",
    "        print()\n",
    "        \n",
    "    print('菱形2')\n",
    "    i=0\n",
    "    while i<n:\n",
    "        i+=1\n",
    "        print((symbol+' ')*n,)\n",
    "        \n",
    "    print('菱形3')\n",
    "    i=0\n",
    "    k=1\n",
    "    while i<n:\n",
    "        i+=1\n",
    "        print(n*(n-i)*' '+(symbol+' ')*k,end='')\n",
    "        k+=n\n",
    "        print()\n",
    "    \n",
    "    k=k-n\n",
    "    while n<=i<2*n:\n",
    "        k-=n\n",
    "        print(((i+1-n)*n)*' '+(symbol+' ')*k,end='')\n",
    "        i+=1\n",
    "        print()\n",
    "        \n",
    "n=int(input('请输入行数'))\n",
    "symbol=input('请输入符号')\n",
    "diamond()"
   ]
  },
  {
   "cell_type": "code",
   "execution_count": null,
   "metadata": {},
   "outputs": [],
   "source": []
  }
 ],
 "metadata": {
  "kernelspec": {
   "display_name": "Python 3",
   "language": "python",
   "name": "python3"
  },
  "language_info": {
   "codemirror_mode": {
    "name": "ipython",
    "version": 3
   },
   "file_extension": ".py",
   "mimetype": "text/x-python",
   "name": "python",
   "nbconvert_exporter": "python",
   "pygments_lexer": "ipython3",
   "version": "3.6.3"
  }
 },
 "nbformat": 4,
 "nbformat_minor": 2
}
