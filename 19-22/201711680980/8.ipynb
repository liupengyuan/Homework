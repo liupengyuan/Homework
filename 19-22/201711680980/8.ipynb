{
 "cells": [
  {
   "cell_type": "code",
   "execution_count": 1,
   "metadata": {},
   "outputs": [
    {
     "name": "stdout",
     "output_type": "stream",
     "text": [
      "斗酒学士\n",
      "请接一个成语，回车结束。士农工商\n",
      "恭喜你，获胜了。最终得分为 10\n"
     ]
    }
   ],
   "source": [
    "fh=open(r'c:\\temp\\成语大全.txt')\n",
    "text=fh.read()\n",
    "fh.close()\n",
    "idioms=text.split()\n",
    "\n",
    "def cai():\n",
    "    a=b=0\n",
    "    while a==b:\n",
    "        if cheng2[0]==cheng1[3] and cheng2 in idioms:\n",
    "            a+=10            \n",
    "        else :\n",
    "            a-=10\n",
    "            print('很遗憾，你失败了。最终得分为',a)                    \n",
    "        for idiom in idioms:\n",
    "            if idiom[0]==cheng2[3]:\n",
    "                print(idiom)\n",
    "                b+=10\n",
    "            else :\n",
    "                print('恭喜你，获胜了。最终得分为',a)\n",
    "                break\n",
    "                        \n",
    "            \n",
    "import random\n",
    "cheng1=random.choice(idioms)\n",
    "print(cheng1)\n",
    "cheng2=(input('请接一个成语，回车结束。'))\n",
    "cai()"
   ]
  },
  {
   "cell_type": "code",
   "execution_count": null,
   "metadata": {},
   "outputs": [],
   "source": []
  }
 ],
 "metadata": {
  "kernelspec": {
   "display_name": "Python 3",
   "language": "python",
   "name": "python3"
  },
  "language_info": {
   "codemirror_mode": {
    "name": "ipython",
    "version": 3
   },
   "file_extension": ".py",
   "mimetype": "text/x-python",
   "name": "python",
   "nbconvert_exporter": "python",
   "pygments_lexer": "ipython3",
   "version": "3.6.3"
  }
 },
 "nbformat": 4,
 "nbformat_minor": 2
}
