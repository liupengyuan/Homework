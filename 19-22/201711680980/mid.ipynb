{
 "cells": [
  {
   "cell_type": "code",
   "execution_count": null,
   "metadata": {},
   "outputs": [],
   "source": [
    "#1"
   ]
  },
  {
   "cell_type": "code",
   "execution_count": 13,
   "metadata": {},
   "outputs": [
    {
     "name": "stdout",
     "output_type": "stream",
     "text": [
      "3\n"
     ]
    },
    {
     "data": {
      "text/plain": [
       "10"
      ]
     },
     "execution_count": 13,
     "metadata": {},
     "output_type": "execute_result"
    }
   ],
   "source": [
    "def sum_list(m):\n",
    "    total=0\n",
    "    i=0\n",
    "    j=m\n",
    "    while i<j:\n",
    "        i+=1\n",
    "        total+=i*m\n",
    "        m-=1\n",
    "    return(total)\n",
    "\n",
    "m=int(input())\n",
    "sum_list(m)\n",
    "\n",
    "        "
   ]
  },
  {
   "cell_type": "code",
   "execution_count": null,
   "metadata": {},
   "outputs": [],
   "source": [
    "#2"
   ]
  },
  {
   "cell_type": "code",
   "execution_count": null,
   "metadata": {},
   "outputs": [],
   "source": [
    "def pri(a,n):\n",
    "    for i in numbers:\n",
    "        print()"
   ]
  },
  {
   "cell_type": "code",
   "execution_count": null,
   "metadata": {},
   "outputs": [],
   "source": [
    "#3"
   ]
  },
  {
   "cell_type": "code",
   "execution_count": 2,
   "metadata": {},
   "outputs": [
    {
     "name": "stdout",
     "output_type": "stream",
     "text": [
      "123\n",
      "123\n"
     ]
    }
   ],
   "source": [
    "\n",
    "m=int(input())\n",
    "a=str(m)\n",
    "num=[a]\n",
    "print(num[0])\n",
    "    \n",
    "    "
   ]
  },
  {
   "cell_type": "code",
   "execution_count": null,
   "metadata": {},
   "outputs": [],
   "source": [
    "#4"
   ]
  },
  {
   "cell_type": "code",
   "execution_count": 1,
   "metadata": {},
   "outputs": [
    {
     "name": "stdout",
     "output_type": "stream",
     "text": [
      "请输入队员人数，回车结束。9\n",
      "请输入队员身高,回车结束。183\n",
      "请输入队员身高,回车结束。185\n",
      "请输入队员身高,回车结束。183\n",
      "请输入队员身高,回车结束。187\n",
      "请输入队员身高,回车结束。178\n",
      "请输入队员身高,回车结束。175\n",
      "请输入队员身高,回车结束。177\n",
      "请输入队员身高,回车结束。190\n",
      "请输入队员身高,回车结束。172\n",
      "181.11111111111111\n"
     ]
    }
   ],
   "source": [
    "def ave():\n",
    "    \n",
    "    i=0\n",
    "    total=0\n",
    "    while i<n:\n",
    "        a=int(input('请输入队员身高,回车结束。'))\n",
    "        i+=1\n",
    "        total+=a\n",
    "    print(total/n)\n",
    "    \n",
    "n=int(input('请输入队员人数，回车结束。'))\n",
    "ave()\n",
    "    "
   ]
  },
  {
   "cell_type": "code",
   "execution_count": null,
   "metadata": {},
   "outputs": [],
   "source": [
    "#5"
   ]
  },
  {
   "cell_type": "code",
   "execution_count": 7,
   "metadata": {},
   "outputs": [
    {
     "name": "stdout",
     "output_type": "stream",
     "text": [
      "12\n",
      "15\n",
      "4\n",
      "8\n",
      "6\n",
      "最终得分为： 0\n"
     ]
    }
   ],
   "source": [
    "import random\n",
    "i=0\n",
    "m=0\n",
    "\n",
    "while i<5:\n",
    "    x=(random.randint(1,10)+random.randint(1,10))\n",
    "    guess_x=int(input())\n",
    "    i+=1\n",
    "    if guess_x==x:\n",
    "        m+=20\n",
    "    else:\n",
    "        m=m\n",
    "print('最终得分为：',m)"
   ]
  },
  {
   "cell_type": "code",
   "execution_count": null,
   "metadata": {},
   "outputs": [],
   "source": [
    "#6"
   ]
  },
  {
   "cell_type": "code",
   "execution_count": 1,
   "metadata": {},
   "outputs": [
    {
     "name": "stdout",
     "output_type": "stream",
     "text": [
      "[108, -76]\n"
     ]
    }
   ],
   "source": [
    "numbers=[3,-5,9,108,-76,88]\n",
    "i=0\n",
    "max_num=numbers[0]\n",
    "min_num=numbers[0]\n",
    "\n",
    "for i in numbers:\n",
    "    if max_num<i:\n",
    "        max_num=i\n",
    "    elif min_num>i:\n",
    "        min_num=i\n",
    "        numbers1=[max_num]\n",
    "while i<len(numbers):\n",
    "    if numbers[i]!=min_num:\n",
    "        numbers1.append(numbers[i])\n",
    "    else:\n",
    "        numbers1.append(numbers[i+1])\n",
    "    i+=1\n",
    "\n",
    "numbers1.append(min_num)\n",
    "        \n",
    "print(numbers1)\n",
    "        \n",
    "    "
   ]
  },
  {
   "cell_type": "code",
   "execution_count": null,
   "metadata": {},
   "outputs": [],
   "source": []
  }
 ],
 "metadata": {
  "kernelspec": {
   "display_name": "Python 3",
   "language": "python",
   "name": "python3"
  },
  "language_info": {
   "codemirror_mode": {
    "name": "ipython",
    "version": 3
   },
   "file_extension": ".py",
   "mimetype": "text/x-python",
   "name": "python",
   "nbconvert_exporter": "python",
   "pygments_lexer": "ipython3",
   "version": "3.6.3"
  }
 },
 "nbformat": 4,
 "nbformat_minor": 2
}
