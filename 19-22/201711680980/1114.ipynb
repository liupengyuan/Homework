{
 "cells": [
  {
   "cell_type": "code",
   "execution_count": 1,
   "metadata": {},
   "outputs": [
    {
     "name": "stdout",
     "output_type": "stream",
     "text": [
      "最大值是 899\n",
      "最小值是 -10\n",
      "平均值是 106.72999999999999\n"
     ]
    }
   ],
   "source": [
    "def my(numbers):\n",
    "    max_x=numbers[0]\n",
    "    min_x=numbers[0]\n",
    "    i=0\n",
    "    total=0\n",
    "    for i in numbers:\n",
    "        if max_x<i:\n",
    "            max_x=i\n",
    "        elif min_x>i:\n",
    "            min_x=i\n",
    "        total+=i\n",
    "        \n",
    "    print('最大值是',max_x)\n",
    "    print('最小值是',min_x)\n",
    "    print('平均值是',total/len(numbers))\n",
    "    \n",
    "        \n",
    "        \n",
    "        \n",
    "            \n",
    "            \n",
    "            \n",
    "            \n",
    "            \n",
    "numbers=[1,2,-1,55,100,899,-10,3,12.5,5.8]\n",
    "my(numbers)\n"
   ]
  },
  {
   "cell_type": "code",
   "execution_count": null,
   "metadata": {},
   "outputs": [],
   "source": []
  }
 ],
 "metadata": {
  "kernelspec": {
   "display_name": "Python 3",
   "language": "python",
   "name": "python3"
  },
  "language_info": {
   "codemirror_mode": {
    "name": "ipython",
    "version": 3
   },
   "file_extension": ".py",
   "mimetype": "text/x-python",
   "name": "python",
   "nbconvert_exporter": "python",
   "pygments_lexer": "ipython3",
   "version": "3.6.3"
  }
 },
 "nbformat": 4,
 "nbformat_minor": 2
}
