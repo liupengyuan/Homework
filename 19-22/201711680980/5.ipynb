{
 "cells": [
  {
   "cell_type": "code",
   "execution_count": null,
   "metadata": {},
   "outputs": [],
   "source": [
    "#练习 1：写函数，求n个随机整数均值的平方根，整数范围在m与k之间（n,m,k由用户输入）"
   ]
  },
  {
   "cell_type": "code",
   "execution_count": 1,
   "metadata": {},
   "outputs": [
    {
     "name": "stdout",
     "output_type": "stream",
     "text": [
      "请输入一个正整数，以回车结束。10\n",
      "请输入一个比m大的正整数，以回车结束。200\n",
      "请输入一个小于（m-k）的正整数，以回车结束。5\n",
      "10.079682534683322\n"
     ]
    }
   ],
   "source": [
    "def my():\n",
    "    i=0\n",
    "    total=0\n",
    "    while i<n:\n",
    "        i+=1\n",
    "        import random\n",
    "        x=random.randint(m,k)\n",
    "        total+=x\n",
    "        ave_x=total/n\n",
    "    import math\n",
    "    y=math.sqrt(ave_x)\n",
    "    print(y)\n",
    "    \n",
    "\n",
    "m=int(input('请输入一个正整数，以回车结束。'))\n",
    "k=int(input('请输入一个比m大的正整数，以回车结束。'))\n",
    "n=int(input('请输入一个小于（m-k）的正整数，以回车结束。'))\n",
    "my()"
   ]
  },
  {
   "cell_type": "code",
   "execution_count": 2,
   "metadata": {},
   "outputs": [],
   "source": [
    "#练习 2：写函数，共n个随机整数，整数范围在m与k之间，（n,m,k由用户输入）。求1：西格玛log(随机整数)，2：西格玛1/log(随机整数)"
   ]
  },
  {
   "cell_type": "code",
   "execution_count": 4,
   "metadata": {},
   "outputs": [
    {
     "name": "stdout",
     "output_type": "stream",
     "text": [
      "请输入一个正整数，以回车结束。2\n",
      "请输入一个比m大的正整数，以回车结束。40\n",
      "请输入一个小于（m-k）的正整数，以回车结束。5\n",
      "13.632923365892394\n",
      "1.9898670072980553\n"
     ]
    }
   ],
   "source": [
    "def my():\n",
    "    i=0\n",
    "    total_a=0\n",
    "    total_b=0\n",
    "    while i<n:\n",
    "        i+=1\n",
    "        import random\n",
    "        x=random.randint(m,k)\n",
    "        import math\n",
    "        y=math.log(x)\n",
    "        z=y**(-1)\n",
    "        total_a+=y\n",
    "        total_b+=z\n",
    "    print(total_a)\n",
    "    print(total_b)\n",
    "    \n",
    "    \n",
    "m=int(input('请输入一个正整数，以回车结束。'))\n",
    "k=int(input('请输入一个比m大的正整数，以回车结束。'))\n",
    "n=int(input('请输入一个小于（m-k）的正整数，以回车结束。'))\n",
    "my()"
   ]
  },
  {
   "cell_type": "code",
   "execution_count": null,
   "metadata": {},
   "outputs": [],
   "source": [
    "#练习 3：写函数，求s=a+aa+aaa+aaaa+aa...a的值，其中a是[1,9]之间的随机整数。例如2+22+222+2222+22222(此时共有5个数相加)，几个数相加由键盘输入"
   ]
  },
  {
   "cell_type": "code",
   "execution_count": 5,
   "metadata": {},
   "outputs": [
    {
     "name": "stdout",
     "output_type": "stream",
     "text": [
      "请输入一个正整数，以回车结束。5\n",
      "3\n",
      "37035\n"
     ]
    }
   ],
   "source": [
    "def my(n):\n",
    "    import random\n",
    "    a=random.randint(1,9)\n",
    "    \n",
    "    i=0\n",
    "    total=0\n",
    "    j=n\n",
    "    while i<j:\n",
    "        total+=a*10**i*n\n",
    "        i+=1\n",
    "        n-=1\n",
    "    \n",
    "    print(a)\n",
    "    print(total)\n",
    "    \n",
    "n=int(input('请输入一个正整数，以回车结束。'))\n",
    "my(n)"
   ]
  },
  {
   "cell_type": "code",
   "execution_count": null,
   "metadata": {},
   "outputs": [],
   "source": [
    "#挑战性练习：仿照task5，将猜数游戏改成由用户随便选择一个整数，让计算机来猜测的猜数游戏，要求和task5中人猜测的方法类似，但是人机角色对换，由人来判断猜测是大、小还是相等，请写出完整的猜数游戏。"
   ]
  },
  {
   "cell_type": "code",
   "execution_count": 6,
   "metadata": {},
   "outputs": [
    {
     "name": "stdout",
     "output_type": "stream",
     "text": [
      "请输入一个整数作为神秘数字，回车结束。20\n",
      "请给电脑一个上限，回车结束。100\n",
      "一共可以猜 7 次\n",
      "你已经猜了 1 次\n",
      "100\n",
      "抱歉，你猜大了\n",
      "一共可以猜 7 次\n",
      "你已经猜了 2 次\n",
      "95\n",
      "抱歉，你猜大了\n",
      "一共可以猜 7 次\n",
      "你已经猜了 3 次\n",
      "12\n",
      "抱歉，你猜小了\n",
      "一共可以猜 7 次\n",
      "你已经猜了 4 次\n",
      "15\n",
      "抱歉，你猜小了\n",
      "一共可以猜 7 次\n",
      "你已经猜了 5 次\n",
      "16\n",
      "抱歉，你猜小了\n",
      "一共可以猜 7 次\n",
      "你已经猜了 6 次\n",
      "87\n",
      "抱歉，你猜大了\n",
      "一共可以猜 7 次\n",
      "你已经猜了 7 次\n",
      "13\n",
      "抱歉，你猜小了\n",
      "神秘数字是： 20\n",
      "很遗憾，你失败了。\n"
     ]
    }
   ],
   "source": [
    "import random, math\n",
    "\n",
    "\n",
    "def win():\n",
    "    print('恭喜你！猜对了！')\n",
    "    \n",
    "def lose():\n",
    "    print('很遗憾，你失败了。')\n",
    "\n",
    "def game_over():\n",
    "    print('游戏结束。')\n",
    "\n",
    "def guess_game():\n",
    "    n=int(input('请给电脑一个上限，回车结束。'))\n",
    "    max_times = math.ceil(math.log(n, 2))\n",
    "    guess_times = 0\n",
    "    guess=random.randint(1,n)\n",
    "    \n",
    "    while guess_times < max_times:\n",
    "        guess=random.randint(1,n)\n",
    "        guess_times += 1\n",
    "        print('一共可以猜', max_times, '次')\n",
    "        print('你已经猜了', guess_times, '次')\n",
    "        print(guess)\n",
    "        \n",
    "        if guess==number:\n",
    "            win()\n",
    "            print('神秘数字是：', guess)\n",
    "            print('你比标准次数少', max_times-guess_times, '次')\n",
    "            break\n",
    "        elif guess > number:\n",
    "            print('抱歉，你猜大了')\n",
    "        else:\n",
    "            print('抱歉，你猜小了')\n",
    "\n",
    "            \n",
    "    else:\n",
    "        print('神秘数字是：', number)\n",
    "        lose()\n",
    "\n",
    "number=int(input('请输入一个整数作为神秘数字，回车结束。'))\n",
    "guess_game()\n",
    "        "
   ]
  }
 ],
 "metadata": {
  "kernelspec": {
   "display_name": "Python 3",
   "language": "python",
   "name": "python3"
  },
  "language_info": {
   "codemirror_mode": {
    "name": "ipython",
    "version": 3
   },
   "file_extension": ".py",
   "mimetype": "text/x-python",
   "name": "python",
   "nbconvert_exporter": "python",
   "pygments_lexer": "ipython3",
   "version": "3.6.3"
  }
 },
 "nbformat": 4,
 "nbformat_minor": 2
}
