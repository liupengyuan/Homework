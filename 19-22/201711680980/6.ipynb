{
 "cells": [
  {
   "cell_type": "code",
   "execution_count": null,
   "metadata": {},
   "outputs": [],
   "source": [
    "#练习1：写函数，返回某个元素/对象在一个list中的位置，如果不在，则返回-1."
   ]
  },
  {
   "cell_type": "code",
   "execution_count": 5,
   "metadata": {},
   "outputs": [
    {
     "name": "stdout",
     "output_type": "stream",
     "text": [
      "7\n",
      "3\n"
     ]
    }
   ],
   "source": [
    "numbers=[1,3,5,7,9]\n",
    "n=int(input())\n",
    "i=-1\n",
    "for number in numbers:\n",
    "    i+=1\n",
    "    if number==n: \n",
    "        print(i)\n",
    "    \n",
    "if n not in numbers:\n",
    "    print(-1)"
   ]
  },
  {
   "cell_type": "code",
   "execution_count": null,
   "metadata": {},
   "outputs": [],
   "source": [
    "#练习2：写函数，可将两个相同长度的list，间隔插入，生成新的list。例如：给两个list，a=[1,2,3,4], b=[5,6,7,8]。则可以生成：[1,5,2,6,3,7,4,8]。"
   ]
  },
  {
   "cell_type": "code",
   "execution_count": 6,
   "metadata": {},
   "outputs": [
    {
     "name": "stdout",
     "output_type": "stream",
     "text": [
      "[1, 5, 2, 6, 3, 7, 4, 8]\n"
     ]
    }
   ],
   "source": [
    "def my():\n",
    "    numbers=[]\n",
    "    m=0\n",
    "    n=0\n",
    "\n",
    "    while m<len(numbers_1):\n",
    "        numbers.append(numbers_1[m])\n",
    "        while n<len(numbers_2):\n",
    "            numbers.append(numbers_2[n])\n",
    "            break\n",
    "        n+=1\n",
    "        m+=1\n",
    "        \n",
    "    print(numbers)\n",
    "\n",
    "\n",
    "numbers_1=[1,2,3,4]\n",
    "numbers_2=[5,6,7,8]\n",
    "my()"
   ]
  },
  {
   "cell_type": "code",
   "execution_count": 1,
   "metadata": {},
   "outputs": [],
   "source": [
    "#练习3：写函数，可求两个向量的夹角余弦值，向量可放在list中。主程序调用该函数。"
   ]
  },
  {
   "cell_type": "code",
   "execution_count": 2,
   "metadata": {},
   "outputs": [
    {
     "name": "stdout",
     "output_type": "stream",
     "text": [
      "请输入向量a的横坐标1\n",
      "请输入向量a的纵坐标0\n",
      "请输入向量b的横坐标1\n",
      "请输入向量b的纵坐标1\n",
      "0.4082482904638631\n"
     ]
    }
   ],
   "source": [
    "def my():\n",
    "    import math \n",
    "    a=[c,d]\n",
    "    b=[e,f]\n",
    "    a_=a[0]*b[0]\n",
    "    b_=a[1]*b[1]\n",
    "    \n",
    "    a_1=a[0]*2+a[1]*2\n",
    "    b_1=b[0]*2+b[1]*2\n",
    "    m=math.sqrt(a_1+b_1)\n",
    "    \n",
    "    cos=(a_+b_)/m\n",
    "    print(cos)\n",
    "\n",
    "    \n",
    "c=int(input('请输入向量a的横坐标'))    \n",
    "d=int(input('请输入向量a的纵坐标'))\n",
    "e=int(input('请输入向量b的横坐标'))\n",
    "f=int(input('请输入向量b的纵坐标'))\n",
    "my()\n"
   ]
  },
  {
   "cell_type": "code",
   "execution_count": 3,
   "metadata": {},
   "outputs": [],
   "source": [
    "#挑战性习题：python语言老师为了激励学生学python，自费买了100个完全相同的Macbook Pro，分给三个班级，每个班级至少分5个，用穷举法计算共有多少种分法？"
   ]
  },
  {
   "cell_type": "code",
   "execution_count": 4,
   "metadata": {},
   "outputs": [
    {
     "name": "stdout",
     "output_type": "stream",
     "text": [
      "3741\n"
     ]
    }
   ],
   "source": [
    "n=0\n",
    "for i in range(100):\n",
    "    for j in range(100):\n",
    "        for k in range(100):\n",
    "            if i>4 and j>4 and k>4 and i+j+k==100:\n",
    "                n+=1\n",
    "            \n",
    "print(n)"
   ]
  },
  {
   "cell_type": "code",
   "execution_count": null,
   "metadata": {},
   "outputs": [],
   "source": []
  }
 ],
 "metadata": {
  "kernelspec": {
   "display_name": "Python 3",
   "language": "python",
   "name": "python3"
  },
  "language_info": {
   "codemirror_mode": {
    "name": "ipython",
    "version": 3
   },
   "file_extension": ".py",
   "mimetype": "text/x-python",
   "name": "python",
   "nbconvert_exporter": "python",
   "pygments_lexer": "ipython3",
   "version": "3.6.3"
  }
 },
 "nbformat": 4,
 "nbformat_minor": 2
}
