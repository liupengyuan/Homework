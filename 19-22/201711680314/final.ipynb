{
 "cells": [
  {
   "cell_type": "code",
   "execution_count": 4,
   "metadata": {},
   "outputs": [
    {
     "name": "stdout",
     "output_type": "stream",
     "text": [
      "*\n",
      "5\n",
      "        * ***** \n",
      "      * * ***** ***** \n",
      "    * * * ***** ***** ***** \n",
      "  * * * * ***** ***** ***** ***** \n",
      "* * * * * ***** ***** ***** ***** ***** \n"
     ]
    }
   ],
   "source": [
    "# 1\n",
    "def shape(m,n):\n",
    "    for i in range(1,n+1):\n",
    "        for j in range(2*(n-i)):\n",
    "            print(' ',end='')\n",
    "        for k in range(i):\n",
    "            print(m,end=' ')\n",
    "        for p in range(i):\n",
    "            print(m*n,end=' ')\n",
    "            \n",
    "        print()\n",
    "        \n",
    "m=input()\n",
    "n=int(input())\n",
    "shape(m,n)"
   ]
  },
  {
   "cell_type": "code",
   "execution_count": 14,
   "metadata": {},
   "outputs": [
    {
     "data": {
      "text/plain": [
       "125"
      ]
     },
     "execution_count": 14,
     "metadata": {},
     "output_type": "execute_result"
    }
   ],
   "source": [
    "# 2\n",
    "def A(m,n):\n",
    "    if m==0:\n",
    "        return n+1\n",
    "    elif m>0 and n==0:\n",
    "        return A(m-1,1)\n",
    "    elif m>0 and n>0:\n",
    "        return A(m-1,A(m,n-1))\n",
    "A(3,4)        "
   ]
  },
  {
   "cell_type": "code",
   "execution_count": 6,
   "metadata": {},
   "outputs": [
    {
     "name": "stdout",
     "output_type": "stream",
     "text": [
      "4 - 3 =\n",
      "21 * 16 =\n",
      "19 * 10 =\n",
      "6 - 4 =\n",
      "15 - 15 =\n",
      "11 + 7 =\n",
      "24 // 22 =\n",
      "25 + 22 =\n",
      "16 + 9 =\n",
      "19 // 3 =\n",
      "21 * 21 =\n",
      "24 * 5 =\n",
      "17 + 6 =\n",
      "17 - 10 =\n",
      "19 + 14 =\n",
      "1,2332,190,2,0,18,1,47,25,6,234,2,23,7,33\n"
     ]
    },
    {
     "ename": "NameError",
     "evalue": "name 'c' is not defined",
     "output_type": "error",
     "traceback": [
      "\u001b[1;31m---------------------------------------------------------------------------\u001b[0m",
      "\u001b[1;31mNameError\u001b[0m                                 Traceback (most recent call last)",
      "\u001b[1;32m<ipython-input-6-d40d207fd8c4>\u001b[0m in \u001b[0;36m<module>\u001b[1;34m()\u001b[0m\n\u001b[0;32m     31\u001b[0m \u001b[1;32mfor\u001b[0m \u001b[0mi\u001b[0m \u001b[1;32min\u001b[0m \u001b[0mrange\u001b[0m\u001b[1;33m(\u001b[0m\u001b[0mn\u001b[0m\u001b[1;33m)\u001b[0m\u001b[1;33m:\u001b[0m\u001b[1;33m\u001b[0m\u001b[0m\n\u001b[0;32m     32\u001b[0m     \u001b[0mm\u001b[0m\u001b[1;33m=\u001b[0m\u001b[0mstr\u001b[0m\u001b[1;33m(\u001b[0m\u001b[0minput\u001b[0m\u001b[1;33m(\u001b[0m\u001b[1;33m)\u001b[0m\u001b[1;33m)\u001b[0m\u001b[1;33m\u001b[0m\u001b[0m\n\u001b[1;32m---> 33\u001b[1;33m     \u001b[1;32mif\u001b[0m \u001b[0mm\u001b[0m\u001b[1;33m==\u001b[0m\u001b[0mc\u001b[0m\u001b[1;33m+\u001b[0m\u001b[0md\u001b[0m\u001b[1;33m:\u001b[0m\u001b[1;33m\u001b[0m\u001b[0m\n\u001b[0m\u001b[0;32m     34\u001b[0m         \u001b[0mp\u001b[0m\u001b[1;33m+=\u001b[0m\u001b[1;36m5\u001b[0m\u001b[1;33m\u001b[0m\u001b[0m\n\u001b[0;32m     35\u001b[0m     \u001b[1;32melif\u001b[0m \u001b[0mm\u001b[0m\u001b[1;33m==\u001b[0m\u001b[0mc\u001b[0m\u001b[1;33m-\u001b[0m\u001b[0md\u001b[0m\u001b[1;33m:\u001b[0m\u001b[1;33m\u001b[0m\u001b[0m\n",
      "\u001b[1;31mNameError\u001b[0m: name 'c' is not defined"
     ]
    }
   ],
   "source": [
    "# 3(a)\n",
    "def equal(n,a,b):\n",
    "    import random\n",
    "    list=['+','-','*','//']\n",
    "    for i in range(n):\n",
    "        c=random.randint(a,b)\n",
    "        d=random.randint(a,b)\n",
    "        e=random.choice(list)\n",
    "        if c>=d:\n",
    "            if e=='+':\n",
    "                print(c,'+',d,'=')\n",
    "            elif e=='-':\n",
    "                print(c,'-',d,'=')\n",
    "            elif e=='*':\n",
    "                print(c,'*',d,'=')\n",
    "            else:\n",
    "                print(c,'//',d,'=')\n",
    "        else:\n",
    "            c,d=d,c\n",
    "            if e=='+':\n",
    "                print(c,'+',d,'=')\n",
    "            elif e=='-':\n",
    "                print(c,'-',d,'=')\n",
    "            elif e=='*':\n",
    "                print(c,'*',d,'=')\n",
    "            else:\n",
    "                print(c,'//',d,'=')\n",
    "equal(15,3,25)\n",
    "#3(b)\n",
    "p=0\n",
    "for i in range(n):\n",
    "    m=str(input())\n",
    "    if m==c+d:\n",
    "        p+=5\n",
    "    elif m==c-d:\n",
    "        p+=5\n",
    "    elif m==c*d:\n",
    "        p+=10\n",
    "    elif m==c//d:\n",
    "        p+=10 \n",
    "print(p)"
   ]
  },
  {
   "cell_type": "code",
   "execution_count": 5,
   "metadata": {},
   "outputs": [
    {
     "name": "stdout",
     "output_type": "stream",
     "text": [
      "10\n",
      "2+3\n",
      "1+4\n",
      "34-32\n",
      "9*8\n",
      "8*5\n",
      "34-9\n",
      "8//4\n",
      "92-44\n",
      "23-4\n",
      "292-98\n"
     ]
    }
   ],
   "source": [
    "#(c)\n",
    "n=int(input())\n",
    "for i in range(n):\n",
    "    a=str(input())\n",
    "\n",
    "    \n",
    "    "
   ]
  },
  {
   "cell_type": "code",
   "execution_count": null,
   "metadata": {},
   "outputs": [],
   "source": [
    "#4(a)\n",
    "with open(r'c:\\temp\\成语大全(含成语解释)_utf8.txt',encoding='utf-8') as f:\n",
    "    A=[]\n",
    "    text = f.read()\n",
    "    f.close()\n",
    "    words = {word.split(' ')[0] for word in text.split()}\n",
    "    for word in words:\n",
    "        if word not in A:\n",
    "            A.append(word)\n",
    "print(A)\n",
    "#(b)\n",
    "with open(r'C:\\temp\\test_re_gbk.txt') as r:\n",
    "    for word in r:\n",
    "        test1=r.read()\n",
    "        words = {word.split('/')[0] for word in test1.split()}\n",
    "from collections import Counter\n",
    "def count_words_freq(filename):\n",
    "    words_freq_dict = Counter()\n",
    "    \n",
    "    with open(filename) as f:\n",
    "        for line in f:\n",
    "            words_freq_dict.update([word.split('/')[1] for word in line.split()])\n",
    "    return words_freq_dict\n",
    "\n",
    "def main():\n",
    "    filename = r'C:\\temp\\test_re_gbk.txt'\n",
    "    table = count_words_freq(filename)\n",
    "    print(table.most_common(20))\n",
    "main()"
   ]
  },
  {
   "cell_type": "code",
   "execution_count": 3,
   "metadata": {},
   "outputs": [
    {
     "name": "stdout",
     "output_type": "stream",
     "text": [
      "Counter({'n': 76628, 'x': 63637, 'v': 59686, 'm': 25920, 'd': 18225, 'uj': 15590, 'p': 13234, 'r': 10942, 'nr': 10531, 'c': 9321, 'a': 8249, 'ns': 8153, 'vn': 7722, 't': 6063, 'f': 5197, 'ul': 3284, 'nz': 2603, 'l': 2561, 'b': 1743, 'i': 1729, 'nt': 1723, 'j': 1707, 'eng': 1616, 'u': 1580, 'q': 1339, 's': 1281, 'nrt': 995, 'ad': 932, 'zg': 754, 'ng': 574, 'uz': 408, '': 384, 'k': 371, 'uv': 344, 'z': 322, 'y': 308, 'an': 302, 'vg': 239, 'ug': 238, 'mq': 219, 'ud': 205, 'nrfg': 133, 'vd': 92, 'h': 90, 'g': 76, 'ag': 75, 'tg': 64, 'df': 55, 'o': 40, 'rz': 36, 'e': 31, 'rg': 8, 'dg': 7, 'vq': 6, 'vi': 6, 'yg': 6, 'rr': 5})\n",
      "Counter({'n': 1, 'r': 1})\n"
     ]
    }
   ],
   "source": [
    "#(c)\n",
    "from collections import Counter\n",
    "\n",
    "def count_words_freq_dict(filename):\n",
    "    words_freq_dict = Counter()\n",
    "    \n",
    "    with open(filename) as fr:\n",
    "        for line in fr:\n",
    "            words_freq_dict.update([word.split('/')[1] for word in line.split()])\n",
    "    return words_freq_dict\n",
    "\n",
    "def main():\n",
    "    filename = r'C:\\temp\\test_re_gbk.txt'\n",
    "    table = count_words_freq_dict(filename)\n",
    "    print(table)\n",
    "main()\n",
    "#(d)\n",
    "table=Counter()\n",
    "c=Counter('nr')\n",
    "print(c)"
   ]
  },
  {
   "cell_type": "code",
   "execution_count": null,
   "metadata": {
    "collapsed": true
   },
   "outputs": [],
   "source": []
  }
 ],
 "metadata": {
  "kernelspec": {
   "display_name": "Python 3",
   "language": "python",
   "name": "python3"
  },
  "language_info": {
   "codemirror_mode": {
    "name": "ipython",
    "version": 3
   },
   "file_extension": ".py",
   "mimetype": "text/x-python",
   "name": "python",
   "nbconvert_exporter": "python",
   "pygments_lexer": "ipython3",
   "version": "3.6.2"
  }
 },
 "nbformat": 4,
 "nbformat_minor": 2
}
