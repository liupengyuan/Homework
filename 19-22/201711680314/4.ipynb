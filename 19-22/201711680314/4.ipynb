{
 "cells": [
  {
   "cell_type": "code",
   "execution_count": 5,
   "metadata": {},
   "outputs": [
    {
     "name": "stdout",
     "output_type": "stream",
     "text": [
      "5050\n"
     ]
    }
   ],
   "source": [
    "def compute_sum(end):\n",
    "    i = 0\n",
    "    total_n = 0\n",
    "\n",
    "    while i < end:\n",
    "        i = i + 1\n",
    "        total_n = total_n + i\n",
    "\n",
    "    return total_n\n",
    "\n",
    "# 主程序\n",
    "print(compute_sum(100))"
   ]
  },
  {
   "cell_type": "code",
   "execution_count": 1,
   "metadata": {},
   "outputs": [
    {
     "name": "stdout",
     "output_type": "stream",
     "text": [
      "plz input a number3\n",
      "plz input a number4\n",
      "plz input a number5\n",
      "150\n"
     ]
    }
   ],
   "source": [
    "# 练习 1：仿照求的完整代码，写程序，可求m!+n!+k!\n",
    "def all_up(c):\n",
    "    i=1\n",
    "    mul=1\n",
    "    \n",
    "    while i<c:\n",
    "        i=i+1\n",
    "        mul=mul*i\n",
    "    return mul\n",
    "# 主程序        \n",
    "m=int(input('plz input a number'))\n",
    "n=int(input('plz input a number'))\n",
    "k=int(input('plz input a number'))\n",
    "print(all_up(m)+all_up(n)+all_up(k))"
   ]
  },
  {
   "cell_type": "code",
   "execution_count": 17,
   "metadata": {},
   "outputs": [
    {
     "name": "stdout",
     "output_type": "stream",
     "text": [
      "3.140592653839794\n",
      "3.1415826535897198\n"
     ]
    }
   ],
   "source": [
    "# 练习 2：写函数可返回1 - 1/3 + 1/5 - 1/7...的前n项的和。在主程序中，分别令n=1000及100000，打印4倍该函数的和。\n",
    "def sum_up(n):\n",
    "    i=0\n",
    "    total=0\n",
    "    while i<n:\n",
    "        i=i+1\n",
    "        m=-(-1)**i/(2*i-1)\n",
    "        total=total+m\n",
    "        \n",
    "    return  total\n",
    "# 主程序\n",
    "\n",
    "print(4*sum_up(1000))\n",
    "            \n",
    "\n",
    "print(4*sum_up(100000))\n",
    "\n",
    "\n",
    "\n"
   ]
  },
  {
   "cell_type": "code",
   "execution_count": 1,
   "metadata": {},
   "outputs": [
    {
     "name": "stdout",
     "output_type": "stream",
     "text": [
      "plz input your name:dxy\n",
      "plz input a number:1105\n",
      "dxy 你是可爱善良高贵冷艳美丽大方的天蝎座！\n",
      "please input an English word:teacher\n",
      "teachers\n"
     ]
    }
   ],
   "source": [
    "# 练习 3：将task3中的练习1及练习4改写为函数，并进行调用\n",
    "\n",
    "# 练习 1：写程序，可由键盘读入用户姓名例如Mr. right，让用户输入出生的月份与日期，判断用户星座，假设用户是金牛座，\n",
    "#则输出，Mr. right，你是非常有性格的金牛座！。\n",
    "\n",
    "\n",
    "def constellation_test(n):\n",
    "    if n>119 and n<219:\n",
    "        print(name,'你是活泼可爱的水瓶座！')\n",
    "    elif n>218 and n<321:\n",
    "        print(name,'你是充满正能量的双鱼座！')\n",
    "    elif n>320 and n<420:\n",
    "        print(name,'你是热情四射的白羊座！')\n",
    "    elif n>419 and n<521:\n",
    "        print(name,'你是非常有性格的金牛座！')\n",
    "    elif n>520 and n<622:\n",
    "        print(name,'你是性格迥异的双子座!')\n",
    "    elif n>621 and n<723:\n",
    "        print(name,'你是巨蟹座！')\n",
    "    elif n>722 and n<823:\n",
    "        print(name,'你是狮子座！')\n",
    "    elif n>822 and n<923:\n",
    "        print(name,'你是处女座！')\n",
    "    elif n>922 and n<1024:\n",
    "        print(name,'你是天秤座！')\n",
    "    elif n>1023 and n<1123:\n",
    "        print(name,'你是可爱善良高贵冷艳美丽大方的天蝎座！')\n",
    "    elif n>1122 and n<1222:\n",
    "        print(name,'你是射手座！')\n",
    "    else:\n",
    "        print(name,'你是摩羯座')\n",
    "    \n",
    "#主程序\n",
    "name=input('plz input your name:')\n",
    "n=int(input('plz input a number:'))\n",
    "constellation_test(n)\n",
    "\n",
    "# 练习 4：英文单词单数转复数，要求输入一个英文动词（单数形式），能够得到其复数形式，或给出单数转复数形式的建议\n",
    "#（提示，some_string.endswith(some_letter)函数可以判断某字符串结尾字符，可尝试运行：'myname'.endswith('me')，liupengyuan'.endswith('n')）。\n",
    "\n",
    "\n",
    "\n",
    "def word_transform(n):\n",
    "    if word.endswith('h')==True:\n",
    "        print(word,'es',sep='')\n",
    "    elif word.endswith('y')==True:\n",
    "        print('将此单词去掉y加上ies')\n",
    "    elif word.endswith('f')==True:\n",
    "        print('将此单词去f加ves')\n",
    "    else:\n",
    "        print(word,'s',sep='')\n",
    "     \n",
    "word=input('please input an English word:')\n",
    "word_transform(n)"
   ]
  },
  {
   "cell_type": "code",
   "execution_count": 3,
   "metadata": {},
   "outputs": [
    {
     "name": "stdout",
     "output_type": "stream",
     "text": [
      "plz input a number7\n",
      "plz input a number21\n",
      "plz input a number7\n"
     ]
    },
    {
     "data": {
      "text/plain": [
       "42"
      ]
     },
     "execution_count": 3,
     "metadata": {},
     "output_type": "execute_result"
    }
   ],
   "source": [
    "# 挑战性练习：写程序，可以求从整数m到整数n累加的和，间隔为k，求和部分需用函数实现，主程序中由用户输入m，n，k调用函数验证正确性。\n",
    "def sum_up(m,n,k):\n",
    "    a=0\n",
    "    i=0\n",
    "    total=0\n",
    "    if m>n:\n",
    "        a=m\n",
    "        m=n\n",
    "        n=a\n",
    "        i=m\n",
    "        while i<=n:\n",
    "            total=total+i\n",
    "            i=i+k\n",
    "    else:\n",
    "        i=m\n",
    "        while i<=n:\n",
    "            total=total+i\n",
    "            i=i+k\n",
    "    return total\n",
    "# 主程序\n",
    "m=int(input('plz input a number'))\n",
    "n=int(input('plz input a number'))\n",
    "k=int(input('plz input a number'))\n",
    "    \n",
    "sum_up(m,n,k)    \n",
    "        \n",
    "        \n",
    "\n",
    "\n"
   ]
  },
  {
   "cell_type": "code",
   "execution_count": null,
   "metadata": {
    "collapsed": true
   },
   "outputs": [],
   "source": []
  }
 ],
 "metadata": {
  "kernelspec": {
   "display_name": "Python 3",
   "language": "python",
   "name": "python3"
  },
  "language_info": {
   "codemirror_mode": {
    "name": "ipython",
    "version": 3
   },
   "file_extension": ".py",
   "mimetype": "text/x-python",
   "name": "python",
   "nbconvert_exporter": "python",
   "pygments_lexer": "ipython3",
   "version": "3.6.2"
  }
 },
 "nbformat": 4,
 "nbformat_minor": 2
}
