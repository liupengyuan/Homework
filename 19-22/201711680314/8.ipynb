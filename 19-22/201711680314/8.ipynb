{
 "cells": [
  {
   "cell_type": "code",
   "execution_count": 8,
   "metadata": {},
   "outputs": [
    {
     "name": "stdout",
     "output_type": "stream",
     "text": [
      "断纸余墨\n",
      "plz input your answer:墨守成规\n",
      "computer_answer: 规矩绳墨\n",
      "plz input your answer:墨迹未干\n",
      "computer_answer: 干柴烈火\n",
      "plz input your answer:火烧眉毛\n",
      "computer_answer: 毛发耸然\n",
      "plz input your answer:然然可可\n",
      "computer_answer: 可操左券\n",
      "plz input your answer:不知道\n",
      "over\n",
      "human score: 30\n",
      "computer score: 40\n",
      "sorry,you lose...\n"
     ]
    }
   ],
   "source": [
    "import random\n",
    "fh=open(r'C:\\temp\\成语大全.txt')\n",
    "text=fh.read()\n",
    "text=text.replace('、','')\n",
    "idioms=text.split('\\n')\n",
    "fh.close()\n",
    "def win():\n",
    "    print('congrulation!you win!')\n",
    "def lose():\n",
    "    print('sorry,you lose...')\n",
    "computer=0\n",
    "human=0\n",
    "idiom=random.choice(idioms)\n",
    "print(idiom)\n",
    "\n",
    "i=1\n",
    "while i==1:\n",
    "    a=input('plz input your answer:')\n",
    "    if a[0]==idiom[3] :\n",
    "        human+=10\n",
    "        for idiom in idioms:\n",
    "                if idiom[0]==a[3]:\n",
    "                    print('computer_answer:',idiom)\n",
    "                    computer+=10\n",
    "                    break\n",
    "                \n",
    "                \n",
    "            \n",
    "    else:\n",
    "        print('over')\n",
    "        human-=10\n",
    "        print('human score:',human)\n",
    "        print('computer score:',computer)\n",
    "        break\n",
    "if computer>human:\n",
    "    lose()\n",
    "elif computer==human:\n",
    "    print('end in a draw!')\n",
    "else:\n",
    "    win()         \n"
   ]
  },
  {
   "cell_type": "code",
   "execution_count": null,
   "metadata": {
    "collapsed": true
   },
   "outputs": [],
   "source": []
  }
 ],
 "metadata": {
  "kernelspec": {
   "display_name": "Python 3",
   "language": "python",
   "name": "python3"
  },
  "language_info": {
   "codemirror_mode": {
    "name": "ipython",
    "version": 3
   },
   "file_extension": ".py",
   "mimetype": "text/x-python",
   "name": "python",
   "nbconvert_exporter": "python",
   "pygments_lexer": "ipython3",
   "version": "3.6.2"
  }
 },
 "nbformat": 4,
 "nbformat_minor": 2
}
