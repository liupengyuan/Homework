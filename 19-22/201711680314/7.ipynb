{
 "cells": [
  {
   "cell_type": "code",
   "execution_count": 5,
   "metadata": {},
   "outputs": [
    {
     "name": "stdout",
     "output_type": "stream",
     "text": [
      "75844736\n",
      "63744857"
     ]
    }
   ],
   "source": [
    "# 练习一：自己定义一个reverse(s)函数，功能返回字符串s的倒序字符串。\n",
    "def f(x):\n",
    "    s=list(x)\n",
    "    for i in range(len(s)-1,-1,-1):\n",
    "        print(s[i],end='')\n",
    "      \n",
    "x=str(input())\n",
    "f(x)"
   ]
  },
  {
   "cell_type": "code",
   "execution_count": 27,
   "metadata": {},
   "outputs": [
    {
     "name": "stdout",
     "output_type": "stream",
     "text": [
      "*\n",
      "5\n",
      "*\n",
      "**\n",
      "***\n",
      "****\n",
      "*****\n",
      "    * \n",
      "   * * \n",
      "  * * * \n",
      " * * * * \n",
      "* * * * * \n",
      "    *\n",
      "   **\n",
      "  ***\n",
      " ****\n",
      "*****\n"
     ]
    }
   ],
   "source": [
    "# 练习二：写函数，根据给定符号和行数，打印相应直角三角形，等腰三角形及其他形式的三角形。\n",
    "def shape(m,n):\n",
    "    for i in range(1,n+1):\n",
    "        for c in range(1,i+1):\n",
    "            print(m,end='')\n",
    "        print()\n",
    "    for j in range(1,n+1):\n",
    "        for a in range(0,n-j):\n",
    "            print(end=' ')\n",
    "        for b in range(n-j,n):\n",
    "            print(m,end=' ')\n",
    "        print()\n",
    "    for k in range(1,n+1):\n",
    "        for d in range(0,n-k):\n",
    "            print(end=' ')\n",
    "        for e in range(1,k+1):\n",
    "            print(m,end='')\n",
    "        print()\n",
    "        \n",
    "         \n",
    "               \n",
    "    \n",
    "m=input()\n",
    "n=int(input())\n",
    "shape(m,n)"
   ]
  },
  {
   "cell_type": "code",
   "execution_count": 44,
   "metadata": {},
   "outputs": [
    {
     "name": "stdout",
     "output_type": "stream",
     "text": [
      "$\n",
      "         \n",
      "        $\n",
      "       $$$\n",
      "      $$$$$\n",
      "     $$$$$$$\n",
      "    $$$$$$$$$\n",
      "   $$$$$$$$$$$\n",
      "  $$$$$$$$$$$$$\n",
      " $$$$$$$$$$$$$$$\n",
      "$$$$$$$$$$$$$$$$$\n",
      " $$$$$$$$$$$$$$$\n",
      "  $$$$$$$$$$$$$\n",
      "   $$$$$$$$$$$\n",
      "    $$$$$$$$$\n",
      "     $$$$$$$\n",
      "      $$$$$\n",
      "       $$$\n",
      "        $\n",
      "         \n",
      "        $\n",
      "       $ $\n",
      "      $   $\n",
      "     $     $\n",
      "    $       $\n",
      "   $         $\n",
      "  $           $\n",
      " $             $\n",
      "$               $\n",
      " $             $\n",
      "  $           $\n",
      "   $         $\n",
      "    $       $\n",
      "     $     $\n",
      "      $   $\n",
      "       $ $\n",
      "        $\n"
     ]
    }
   ],
   "source": [
    "# 练习五：写函数，根据给定符号，打印各种菱形。\n",
    "def rhombus(m):\n",
    "    for i in range(9):\n",
    "        for j in range(9-i):\n",
    "            print(end=' ')\n",
    "        for k in range(2*i-1):\n",
    "            print(m,end='')\n",
    "        print()\n",
    "    for i in range(9):  \n",
    "        \n",
    "        for j in range(i):\n",
    "            print(end=' ')\n",
    "        for k in range(2*(9-i)-1):\n",
    "            print(m,end='')\n",
    "        print()\n",
    "        \n",
    "      \n",
    "    \n",
    "    \n",
    "    \n",
    "    for i in range(9):\n",
    "        for j in range(9-i):\n",
    "            print(end=' ')\n",
    "           \n",
    "        for k in range(2*i-1):\n",
    "            if k == 0 or k == 2*i-2:\n",
    "                print (m,end='')\n",
    "            else:\n",
    "                print(end=' ')\n",
    "        print()\n",
    "    for i in range(9):\n",
    "        for j in range(i):\n",
    "            print(end=' ')\n",
    "            \n",
    "        for k in range(2*(9-i)-1):\n",
    "            if k == 0 or k == 2*(9-i)-2:\n",
    "                print (m,end='')\n",
    "            else:\n",
    "                print (end=' ')\n",
    "          \n",
    "        print()\n",
    "m=input()\n",
    "rhombus(m)"
   ]
  },
  {
   "cell_type": "code",
   "execution_count": null,
   "metadata": {
    "collapsed": true
   },
   "outputs": [],
   "source": []
  }
 ],
 "metadata": {
  "kernelspec": {
   "display_name": "Python 3",
   "language": "python",
   "name": "python3"
  },
  "language_info": {
   "codemirror_mode": {
    "name": "ipython",
    "version": 3
   },
   "file_extension": ".py",
   "mimetype": "text/x-python",
   "name": "python",
   "nbconvert_exporter": "python",
   "pygments_lexer": "ipython3",
   "version": "3.6.2"
  }
 },
 "nbformat": 4,
 "nbformat_minor": 2
}
