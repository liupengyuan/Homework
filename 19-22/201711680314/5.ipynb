{
 "cells": [
  {
   "cell_type": "code",
   "execution_count": 9,
   "metadata": {},
   "outputs": [
    {
     "name": "stdout",
     "output_type": "stream",
     "text": [
      "5\n",
      "500\n",
      "10\n",
      "16.982343772283023\n"
     ]
    }
   ],
   "source": [
    "# 练习 1：写函数，求n个随机整数均值的平方根，整数范围在m与k之间（n,m,k由用户输入）。\n",
    "def square_root(n,m,k):\n",
    "    import random,math\n",
    "    \n",
    "    i=0\n",
    "    a=0\n",
    "    \n",
    "    if m>k:\n",
    "        m,k=k,m\n",
    "        \n",
    "\n",
    "    while i<n:\n",
    "        b=random.randint(m,k)\n",
    "        a=a+b\n",
    "        i=i+1\n",
    "       \n",
    "    return  math.sqrt(a/n)\n",
    "n=int(input())\n",
    "m=int(input())    \n",
    "k=int(input())\n",
    "print(square_root(n,m,k))\n",
    "        \n",
    "    "
   ]
  },
  {
   "cell_type": "code",
   "execution_count": 2,
   "metadata": {},
   "outputs": [
    {
     "name": "stdout",
     "output_type": "stream",
     "text": [
      "5\n",
      "10\n",
      "500\n",
      "(25.892536369787024, 1.0159820647093079)\n"
     ]
    }
   ],
   "source": [
    "# 练习 2：写函数，共n个随机整数，整数范围在m与k之间，（n,m,k由用户输入）。求1：西格玛log(随机整数)，2：西格玛1/log(随机整数)\n",
    "def creat_1(n,m,k):\n",
    "    import random,math\n",
    "    i=0\n",
    "    a=0\n",
    "    c=0\n",
    "    total_1=0\n",
    "    total_2=0\n",
    "    if m>k:\n",
    "        m,k=k,m\n",
    "    while i<n:\n",
    "        b=random.randint(m,k)\n",
    "        a=math.log(b)\n",
    "        total_1 += a\n",
    "        c=1/a\n",
    "        total_2 += c\n",
    "        i=i+1\n",
    "        \n",
    "    return total_1,total_2\n",
    "     \n",
    "\n",
    "    \n",
    "n=int(input())\n",
    "m=int(input())\n",
    "k=int(input())\n",
    "print (creat_1(n,m,k))"
   ]
  },
  {
   "cell_type": "code",
   "execution_count": 4,
   "metadata": {},
   "outputs": [
    {
     "name": "stdout",
     "output_type": "stream",
     "text": [
      "5\n",
      "12345\n"
     ]
    }
   ],
   "source": [
    "# 练习 3：写函数，求s=a+aa+aaa+aaaa+aa...a的值，其中a是[1,9]之间的随机整数。\n",
    "# 例如2+22+222+2222+22222(此时共有5个数相加)，几个数相加由键盘输入。\n",
    "def sum(n):\n",
    "    i=0\n",
    "    s=0\n",
    "    m=0\n",
    "    import random\n",
    "    a=random.randint(1,9)\n",
    "    while i<n:\n",
    "        b=10**i\n",
    "        m=a*b+m\n",
    "        s=s+m\n",
    "        i=i+1\n",
    "    return s\n",
    "\n",
    "\n",
    "        \n",
    "n=int(input())\n",
    "print(sum(n)) \n",
    "       \n",
    "        \n",
    "        \n",
    "\n"
   ]
  },
  {
   "cell_type": "code",
   "execution_count": 1,
   "metadata": {},
   "outputs": [
    {
     "name": "stdout",
     "output_type": "stream",
     "text": [
      "=====游戏菜单=====\n",
      "                1. 游戏说明\n",
      "                2. 开始游戏\n",
      "                3. 退出游戏\n",
      "                4. 制作团队\n",
      "             =====游戏菜单=====\n",
      "请输入你的选择1\n",
      "the number that player gives,the range is a to b:228\n",
      "plz print the smallest edge of you want:100\n",
      "plz print the biggest edge of you want:500\n",
      "I guess: 117\n",
      "Am I guess wrong,it should be smaller or bigger?:bigger\n",
      "I guess: 367\n",
      "Am I guess wrong,it should be smaller or bigger?:smaller\n",
      "I guess: 235\n",
      "Am I guess wrong,it should be smaller or bigger?:smaller\n",
      "I guess: 155\n",
      "Am I guess wrong,it should be smaller or bigger?:bigger\n",
      "I guess: 170\n",
      "Am I guess wrong,it should be smaller or bigger?:bigger\n",
      "I guess: 192\n",
      "Am I guess wrong,it should be smaller or bigger?:bigger\n",
      "I guess: 200\n",
      "Am I guess wrong,it should be smaller or bigger?:bigger\n",
      "I guess: 219\n",
      "Am I guess wrong,it should be smaller or bigger?:bigger\n",
      "I guess: 226\n",
      "Am I guess wrong,it should be smaller or bigger?:bigger\n",
      "I guess: 226\n",
      "Am I guess wrong,it should be smaller or bigger?:bigger\n",
      "I guess: 235\n",
      "Am I guess wrong,it should be smaller or bigger?:smaller\n",
      "it's: 228\n",
      "=====游戏菜单=====\n",
      "                1. 游戏说明\n",
      "                2. 开始游戏\n",
      "                3. 退出游戏\n",
      "                4. 制作团队\n",
      "             =====游戏菜单=====\n",
      "请输入你的选择2\n",
      "Goodbey\n"
     ]
    }
   ],
   "source": [
    "# 挑战性练习：仿照task5，将猜数游戏改成由用户随便选择一个整数，让计算机来猜测的猜数游戏，要求和task5中人猜测的方法类似，\n",
    "# 但是人机角色对换，由人来判断猜测是大、小还是相等，请写出完整的猜数游戏。\n",
    "import random\n",
    "def game_over():\n",
    "    print('Goodbey')\n",
    "def menu():\n",
    "    print('''=====游戏菜单=====\n",
    "                1. 游戏说明\n",
    "                2. 开始游戏\n",
    "                3. 退出游戏\n",
    "                4. 制作团队\n",
    "             =====游戏菜单=====''')\n",
    "def guess_game():\n",
    "    n=int(input('the number that player gives,the range is a to b:'))\n",
    "    a=int(input('plz print the smallest edge of you want:'))\n",
    "    b=int(input('plz print the biggest edge of you want:'))\n",
    "    m=random.randint(a,b)\n",
    "   \n",
    "    while m!=n:\n",
    "        print('I guess:', m)\n",
    "        answer=str(input('Am I guess wrong,it should be smaller or bigger?:'))\n",
    "        if answer=='smaller':\n",
    "            b=m\n",
    "        if answer=='bigger':\n",
    "            a=m\n",
    "        m=random.randint(a,b)\n",
    "    print(\"it's:\" ,m)\n",
    "def main():\n",
    "    while True:\n",
    "        menu()\n",
    "        choice = int(input('请输入你的选择'))\n",
    "\n",
    "        if choice == 1:\n",
    "            guess_game()\n",
    "        elif choice == 2:\n",
    "            game_over()\n",
    "            break\n",
    "        \n",
    "if __name__ == '__main__':\n",
    "    main()\n"
   ]
  },
  {
   "cell_type": "code",
   "execution_count": null,
   "metadata": {
    "collapsed": true
   },
   "outputs": [],
   "source": []
  },
  {
   "cell_type": "code",
   "execution_count": null,
   "metadata": {
    "collapsed": true
   },
   "outputs": [],
   "source": []
  }
 ],
 "metadata": {
  "kernelspec": {
   "display_name": "Python 3",
   "language": "python",
   "name": "python3"
  },
  "language_info": {
   "codemirror_mode": {
    "name": "ipython",
    "version": 3
   },
   "file_extension": ".py",
   "mimetype": "text/x-python",
   "name": "python",
   "nbconvert_exporter": "python",
   "pygments_lexer": "ipython3",
   "version": "3.6.2"
  }
 },
 "nbformat": 4,
 "nbformat_minor": 2
}
