{
 "cells": [
  {
   "cell_type": "code",
   "execution_count": 23,
   "metadata": {
    "scrolled": true
   },
   "outputs": [
    {
     "name": "stdout",
     "output_type": "stream",
     "text": [
      "10\n",
      "香\n",
      "怀\n",
      "夭\n",
      "踌\n",
      "物\n",
      "脾\n",
      "寒\n",
      "所\n",
      "虑\n",
      "尤\n",
      "尤\n"
     ]
    }
   ],
   "source": [
    "\n",
    "import random\n",
    "def get_ch_table(line):\n",
    "    ch_table = []\n",
    "    for ch in line:\n",
    "        if ch not in ch_table:\n",
    "            ch_table.append(ch)\n",
    "    return ch_table\n",
    "\n",
    "# 主程序\n",
    "fh = open(r'C:\\Users\\Dell\\Desktop\\idioms.txt')\n",
    "text = fh.read()\n",
    "text = text.replace('、','')\n",
    "chs = get_ch_table(text.replace('\\n', ''))\n",
    "\n",
    "n=int(input())\n",
    "for i in range(n):\n",
    "    idiom = random.choice(chs)\n",
    "    n=n+10\n",
    "    print(idiom)\n",
    "    \n",
    "\n",
    "fh2=open(r'C:\\Users\\Dell\\Desktop\\1.txt','w')\n",
    "fh2.writelines(idiom)\n",
    "fh2.close()\n",
    "ph=open(r'C:\\Users\\Dell\\Desktop\\1.txt')\n",
    "th=ph.read()\n",
    "ph.close()\n",
    "print(th)\n",
    "\n"
   ]
  },
  {
   "cell_type": "code",
   "execution_count": null,
   "metadata": {
    "collapsed": true
   },
   "outputs": [],
   "source": []
  }
 ],
 "metadata": {
  "kernelspec": {
   "display_name": "Python 3",
   "language": "python",
   "name": "python3"
  },
  "language_info": {
   "codemirror_mode": {
    "name": "ipython",
    "version": 3
   },
   "file_extension": ".py",
   "mimetype": "text/x-python",
   "name": "python",
   "nbconvert_exporter": "python",
   "pygments_lexer": "ipython3",
   "version": "3.6.2"
  }
 },
 "nbformat": 4,
 "nbformat_minor": 2
}
