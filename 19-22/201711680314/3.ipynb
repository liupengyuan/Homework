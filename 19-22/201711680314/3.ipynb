{
 "cells": [
  {
   "cell_type": "code",
   "execution_count": 1,
   "metadata": {},
   "outputs": [
    {
     "name": "stdout",
     "output_type": "stream",
     "text": [
      "your name：dxy\n",
      "plz write your birthday num1105\n",
      "dxy 你是可爱善良高贵冷艳美丽大方的天蝎座！\n"
     ]
    }
   ],
   "source": [
    "# 练习 1：写程序，可由键盘读入用户姓名例如Mr. right，让用户输入出生的月份与日期，判断用户星座，假设用户是金牛座，则输出，Mr. right，你是非常有性格的金牛座！。\n",
    "name=input('your name：')\n",
    "n=int(input('plz write your birthday num'))\n",
    "if n>119 and n<219:\n",
    "    print(name,'你是活泼可爱的水瓶座！')\n",
    "elif n>218 and n<321:\n",
    "    print(name,'你是充满正能量的双鱼座！')\n",
    "elif n>320 and n<420:\n",
    "    print(name,'你是热情四射的白羊座！')\n",
    "elif n>419 and n<521:\n",
    "    print(name,'你是非常有性格的金牛座！')\n",
    "elif n>520 and n<622:\n",
    "    print(name,'你是性格迥异的双子座!')\n",
    "elif n>621 and n<723:\n",
    "    print(name,'你是巨蟹座！')\n",
    "elif n>722 and n<823:\n",
    "    print(name,'你是狮子座！')\n",
    "elif n>822 and n<923:\n",
    "    print(name,'你是处女座！')\n",
    "elif n>922 and n<1024:\n",
    "    print(name,'你是天秤座！')\n",
    "elif n>1023 and n<1123:\n",
    "    print(name,'你是可爱善良高贵冷艳美丽大方的天蝎座！')\n",
    "elif n>1122 and n<1222:\n",
    "    print(name,'你是射手座！')\n",
    "else:\n",
    "    print(name,'你是摩羯座')"
   ]
  },
  {
   "cell_type": "code",
   "execution_count": 14,
   "metadata": {},
   "outputs": [
    {
     "name": "stdout",
     "output_type": "stream",
     "text": [
      "plz print the number:8\n",
      "plz print the number:6\n",
      "plz print the way you want:+\n",
      "21\n"
     ]
    }
   ],
   "source": [
    "# 练习 2：写程序，可由键盘读入两个整数m与n(n不等于0)，询问用户意图，如果要求和则计算从m到n的和输出，如果要乘积则计算从m到n的积并输出，如果要求余数则计算m除以n的余数的值并输出，否则则计算m整除n的值并输出\n",
    "m=int(input('plz print the number:'))\n",
    "n=int(input('plz print the number:'))\n",
    "x=str(input('plz print the way you want:'))\n",
    "a=str('+')\n",
    "b=str('*')\n",
    "c=str('%')\n",
    "\n",
    "total=0\n",
    "mul=1\n",
    "if x==c:\n",
    "    print(m%n)\n",
    "elif x!=c and x!=b and x!=a:\n",
    "    print(m//n)\n",
    "\n",
    "if m<n:\n",
    "    y=m\n",
    "    m=n\n",
    "    n=y\n",
    "\n",
    "while m>=n:\n",
    "    total=total+n\n",
    "    mul=mul*n\n",
    "    n=n+1\n",
    "\n",
    "if x==a:\n",
    "    print(total)\n",
    "elif x==b:\n",
    "    print(mul)\n"
   ]
  },
  {
   "cell_type": "code",
   "execution_count": 20,
   "metadata": {},
   "outputs": [
    {
     "name": "stdout",
     "output_type": "stream",
     "text": [
      "please input an English word:teach\n",
      "teaches\n"
     ]
    }
   ],
   "source": [
    "# 练习 4：英文单词单数转复数，要求输入一个英文动词（单数形式），能够得到其复数形式，或给出单数转复数形式的建议（提示，some_string.endswith(some_letter)函数可以判断某字符串结尾字符，可尝试运行：'myname'.endswith('me')，liupengyuan'.endswith('n')）。\n",
    "word=input('please input an English word:')\n",
    "if word.endswith('h')==True:\n",
    "    print(word,'es',sep='')\n",
    "elif word.endswith('y')==True:\n",
    "    print('将此单词去掉y加上ies')\n",
    "else:\n",
    "    print(word,'s',sep='')"
   ]
  },
  {
   "cell_type": "code",
   "execution_count": 1,
   "metadata": {},
   "outputs": [
    {
     "name": "stdout",
     "output_type": "stream",
     "text": [
      "plz input a number:0\n",
      "                       \n"
     ]
    }
   ],
   "source": [
    "# 尝试性练习：写程序，能够在屏幕上显示空行。\n",
    "n=0\n",
    "m=int(input('plz input a number:'))\n",
    "if m==n:\n",
    "    print('                       ')"
   ]
  },
  {
   "cell_type": "code",
   "execution_count": null,
   "metadata": {
    "collapsed": true
   },
   "outputs": [],
   "source": []
  }
 ],
 "metadata": {
  "kernelspec": {
   "display_name": "Python 3",
   "language": "python",
   "name": "python3"
  },
  "language_info": {
   "codemirror_mode": {
    "name": "ipython",
    "version": 3
   },
   "file_extension": ".py",
   "mimetype": "text/x-python",
   "name": "python",
   "nbconvert_exporter": "python",
   "pygments_lexer": "ipython3",
   "version": "3.6.2"
  }
 },
 "nbformat": 4,
 "nbformat_minor": 2
}
