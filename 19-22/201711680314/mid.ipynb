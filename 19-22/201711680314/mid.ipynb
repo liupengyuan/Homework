{
 "cells": [
  {
   "cell_type": "code",
   "execution_count": 3,
   "metadata": {},
   "outputs": [
    {
     "name": "stdout",
     "output_type": "stream",
     "text": [
      "5\n"
     ]
    },
    {
     "data": {
      "text/plain": [
       "35"
      ]
     },
     "execution_count": 3,
     "metadata": {},
     "output_type": "execute_result"
    }
   ],
   "source": [
    "# 1\n",
    "def sum(m):\n",
    "    i=0\n",
    "    total=0\n",
    "    total_n=0\n",
    "    while i<m:\n",
    "        i+=1\n",
    "        total+=i\n",
    "        total_n+=total\n",
    "    return total_n\n",
    "m=int(input())\n",
    "sum(m)\n",
    "        "
   ]
  },
  {
   "cell_type": "code",
   "execution_count": 5,
   "metadata": {},
   "outputs": [
    {
     "name": "stdout",
     "output_type": "stream",
     "text": [
      "*\n",
      "5\n",
      "\n",
      "*\n",
      "***\n",
      "*****\n",
      "*******\n",
      "*********\n"
     ]
    }
   ],
   "source": [
    "# 2\n",
    "def content(m,n):\n",
    "   \n",
    "    for i in range(n+1):\n",
    "        \n",
    "        print(m*(2*i-1))\n",
    "        \n",
    "      \n",
    "            \n",
    "m=input()\n",
    "n=int(input()) \n",
    "content(m,n)"
   ]
  },
  {
   "cell_type": "code",
   "execution_count": 6,
   "metadata": {},
   "outputs": [
    {
     "name": "stdout",
     "output_type": "stream",
     "text": [
      "123\n",
      "123\n"
     ]
    }
   ],
   "source": [
    "# 3\n",
    "def num(x):\n",
    "    a=[]\n",
    "    a.append(n)\n",
    "    print(a[0])\n",
    "    \n",
    "    \n",
    "    \n",
    "    \n",
    "    \n",
    "    \n",
    "n=int(input())\n",
    "num(n)\n",
    "\n",
    "    \n",
    "    \n",
    "    "
   ]
  },
  {
   "cell_type": "code",
   "execution_count": 23,
   "metadata": {},
   "outputs": [
    {
     "name": "stdout",
     "output_type": "stream",
     "text": [
      "181.11111111111111\n",
      "183\n",
      "185\n",
      "183\n",
      "187\n",
      "190\n"
     ]
    }
   ],
   "source": [
    "# 4\n",
    "import math\n",
    "length=[183,185,183,187,178,175,177,190,172]\n",
    "total=0\n",
    "for i in length:\n",
    "    total+=i\n",
    "    n=total/len(length)\n",
    "print(n)\n",
    "for m in range(len(length)):\n",
    "    if length[m]>n:\n",
    "        print(length[m])\n",
    "        m+=1\n",
    "    \n",
    "\n"
   ]
  },
  {
   "cell_type": "code",
   "execution_count": 1,
   "metadata": {},
   "outputs": [
    {
     "name": "stdout",
     "output_type": "stream",
     "text": [
      "9 4\n",
      "13\n",
      "5 7\n",
      "12\n",
      "3 6\n",
      "9\n",
      "4 8\n",
      "12\n",
      "2 7\n",
      "9\n",
      "100\n"
     ]
    }
   ],
   "source": [
    "# 5 \n",
    "import random\n",
    "i=0\n",
    "total=0\n",
    "while i<5:\n",
    "    a=random.randint(1,10)\n",
    "    b=random.randint(1,10)\n",
    "    print(a,b)\n",
    "    c=int(input())\n",
    "    i+=1\n",
    "    if c==a+b:\n",
    "        m=20\n",
    "    else:\n",
    "        m=0\n",
    "    total+=m\n",
    "print(total)\n"
   ]
  },
  {
   "cell_type": "code",
   "execution_count": 9,
   "metadata": {},
   "outputs": [
    {
     "data": {
      "text/plain": [
       "[108, [3, -5, 9, 108, 34, -76, 88], -76]"
      ]
     },
     "execution_count": 9,
     "metadata": {},
     "output_type": "execute_result"
    }
   ],
   "source": [
    "# 6\n",
    "def paixu(list):\n",
    "    m=len(list)\n",
    "    max_num=list[0]\n",
    "    min_num=list[0]\n",
    "    for i in list:\n",
    "        if i>max_num:\n",
    "            max_num=i\n",
    "        if i<min_num:\n",
    "            min_num=i\n",
    "        a=[]\n",
    "        a.append(max_num)\n",
    "        a.append(list)\n",
    "        a.append(min_num)\n",
    "    return a\n",
    "list=[3,-5,9,108,34,-76,88]\n",
    "paixu(list)"
   ]
  },
  {
   "cell_type": "code",
   "execution_count": null,
   "metadata": {
    "collapsed": true
   },
   "outputs": [],
   "source": []
  },
  {
   "cell_type": "code",
   "execution_count": null,
   "metadata": {
    "collapsed": true
   },
   "outputs": [],
   "source": []
  }
 ],
 "metadata": {
  "kernelspec": {
   "display_name": "Python 3",
   "language": "python",
   "name": "python3"
  },
  "language_info": {
   "codemirror_mode": {
    "name": "ipython",
    "version": 3
   },
   "file_extension": ".py",
   "mimetype": "text/x-python",
   "name": "python",
   "nbconvert_exporter": "python",
   "pygments_lexer": "ipython3",
   "version": "3.6.2"
  }
 },
 "nbformat": 4,
 "nbformat_minor": 2
}
