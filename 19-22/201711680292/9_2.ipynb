{
 "cells": [
  {
   "cell_type": "code",
   "execution_count": null,
   "metadata": {},
   "outputs": [],
   "source": [
    "#2、随机生成1万个整数，范围在0-10万之间，求其中每个整数出现的次数。并按照整数大小排序输出整数及出现次数。\n",
    "import random\n",
    "from collections import Counter\n",
    "listA=[]\n",
    "for i in range(100000):\n",
    "    b=random.randint(1,100000)\n",
    "    listA.append(b)\n",
    "    lsitA=sorted(listA)\n",
    "\n",
    "\n",
    "def count():\n",
    "    num_frq_dict=Counter()\n",
    "    lsitA=sorted(listA) \n",
    "    num_frq_dict.update(num for num in listA) \n",
    "    return num_frq_dict\n",
    "\n",
    "\n",
    "\n",
    "count()\n"
   ]
  },
  {
   "cell_type": "code",
   "execution_count": null,
   "metadata": {},
   "outputs": [],
   "source": [
    "#对本任务中的语料.txt文件，抽取其5001-10000行存为test1.txt文件，写函数，可得到其与本任务中test.txt文件的共用字以及独用字（相关概念自行百度）。\n",
    "with open(r'c:\\temp\\test1.txt','w') as fw,open(r'c:\\temp\\语料.txt') as fr:\n",
    "    line_num = 0\n",
    "    for line in fr:\n",
    "        if line_num < 5000:\n",
    "            line_num += 1\n",
    "        elif 5000 <= line_num < 10000:\n",
    "            fw.write(line)\n",
    "            line_num += 1\n",
    "        else:\n",
    "            break\n",
    "\n",
    "\n",
    "\n",
    "def fx(filename):\n",
    "    word_table=set()\n",
    "    ch_table=set()\n",
    "    with open(filename) as f:\n",
    "        for line in f:\n",
    "            word_table={word.split('/')[0] for word in line.split()}\n",
    "            for words in word_table:\n",
    "            ch_table={ch for ch in words}\n",
    "        return ch_table\n",
    "\n",
    "ch_table1=ch_table{'c:\\temp\\语料.txt'}\n",
    "ch_table2=ch_table{'c:\\temp\\test1.txt'}\n",
    "\n",
    "for word in ch_table1:\n",
    "    if word in ch_table2:\n",
    "        print('共用字：',word)\n",
    "    else:\n",
    "        print('独用字：',word)\n"
   ]
  },
  {
   "cell_type": "code",
   "execution_count": 4,
   "metadata": {},
   "outputs": [
    {
     "ename": "AttributeError",
     "evalue": "'set' object has no attribute 'items'",
     "output_type": "error",
     "traceback": [
      "\u001b[1;31m---------------------------------------------------------------------------\u001b[0m",
      "\u001b[1;31mAttributeError\u001b[0m                            Traceback (most recent call last)",
      "\u001b[1;32m<ipython-input-4-e59e37924fa8>\u001b[0m in \u001b[0;36m<module>\u001b[1;34m()\u001b[0m\n\u001b[0;32m     11\u001b[0m \u001b[1;33m\u001b[0m\u001b[0m\n\u001b[0;32m     12\u001b[0m \u001b[0mfilename\u001b[0m\u001b[1;33m=\u001b[0m\u001b[1;33m(\u001b[0m\u001b[1;34mr'c:\\temp\\语料.txt'\u001b[0m\u001b[1;33m)\u001b[0m\u001b[1;33m\u001b[0m\u001b[0m\n\u001b[1;32m---> 13\u001b[1;33m \u001b[0mcount_words_freq_dict\u001b[0m\u001b[1;33m(\u001b[0m\u001b[0mfilename\u001b[0m\u001b[1;33m)\u001b[0m\u001b[1;33m\u001b[0m\u001b[0m\n\u001b[0m\u001b[0;32m     14\u001b[0m \u001b[0mtable\u001b[0m\u001b[1;33m=\u001b[0m\u001b[0mset\u001b[0m\u001b[1;33m(\u001b[0m\u001b[1;33m)\u001b[0m\u001b[1;33m\u001b[0m\u001b[0m\n\u001b[0;32m     15\u001b[0m \u001b[0mtable\u001b[0m\u001b[1;33m=\u001b[0m\u001b[0mcount_words_freq_dict\u001b[0m\u001b[1;33m(\u001b[0m\u001b[0mfilename\u001b[0m\u001b[1;33m)\u001b[0m\u001b[1;33m\u001b[0m\u001b[0m\n",
      "\u001b[1;32m<ipython-input-4-e59e37924fa8>\u001b[0m in \u001b[0;36mcount_words_freq_dict\u001b[1;34m(filename)\u001b[0m\n\u001b[0;32m      6\u001b[0m         \u001b[1;32mfor\u001b[0m \u001b[0mline\u001b[0m \u001b[1;32min\u001b[0m \u001b[0mf\u001b[0m\u001b[1;33m:\u001b[0m\u001b[1;33m\u001b[0m\u001b[0m\n\u001b[0;32m      7\u001b[0m             \u001b[0mwords\u001b[0m\u001b[1;33m=\u001b[0m\u001b[1;33m{\u001b[0m\u001b[0mword\u001b[0m\u001b[1;33m.\u001b[0m\u001b[0msplit\u001b[0m\u001b[1;33m(\u001b[0m\u001b[1;34m'/'\u001b[0m\u001b[1;33m)\u001b[0m\u001b[1;33m[\u001b[0m\u001b[1;36m0\u001b[0m\u001b[1;33m]\u001b[0m \u001b[1;32mfor\u001b[0m \u001b[0mword\u001b[0m \u001b[1;32min\u001b[0m \u001b[0mline\u001b[0m\u001b[1;33m.\u001b[0m\u001b[0msplit\u001b[0m\u001b[1;33m(\u001b[0m \u001b[1;33m)\u001b[0m\u001b[1;33m}\u001b[0m\u001b[1;33m\u001b[0m\u001b[0m\n\u001b[1;32m----> 8\u001b[1;33m             \u001b[0mitems\u001b[0m\u001b[1;33m=\u001b[0m\u001b[0mset\u001b[0m\u001b[1;33m(\u001b[0m\u001b[0mwords\u001b[0m\u001b[1;33m.\u001b[0m\u001b[0mitems\u001b[0m\u001b[1;33m(\u001b[0m\u001b[1;33m)\u001b[0m\u001b[1;33m)\u001b[0m\u001b[1;33m\u001b[0m\u001b[0m\n\u001b[0m\u001b[0;32m      9\u001b[0m             \u001b[1;32mfor\u001b[0m \u001b[0mkey\u001b[0m\u001b[1;33m,\u001b[0m\u001b[0mvalue\u001b[0m \u001b[1;32min\u001b[0m \u001b[0mwords\u001b[0m\u001b[1;33m.\u001b[0m\u001b[0mitems\u001b[0m\u001b[1;33m(\u001b[0m\u001b[1;33m)\u001b[0m\u001b[1;33m:\u001b[0m\u001b[1;33m\u001b[0m\u001b[0m\n\u001b[0;32m     10\u001b[0m                 \u001b[0mprint\u001b[0m\u001b[1;33m(\u001b[0m\u001b[0mkey\u001b[0m\u001b[1;33m,\u001b[0m\u001b[0mvalue\u001b[0m\u001b[1;33m)\u001b[0m\u001b[1;33m\u001b[0m\u001b[0m\n",
      "\u001b[1;31mAttributeError\u001b[0m: 'set' object has no attribute 'items'"
     ]
    }
   ],
   "source": [
    "#4、挑战性任务：统计本任务中的语料.txt文件，得到每一个词对应不同词性的频次，可表示为：{词:[('n',1000), ('v', 98)...],...}，即在dict对象中，key为词，value为列表，输出词频最高的50个条目。\n",
    "from collections import Counter\n",
    "def count_words_freq_dict(filename):\n",
    "    word_freq_dict={}\n",
    "    with open(filename) as f:\n",
    "        for line in f:\n",
    "            words={word.split('/')[0] for word in line.split( )}\n",
    "            items=list(words.items())\n",
    "            for key,value in words.items():\n",
    "                print(key,value)\n",
    "                \n",
    "filename=(r'c:\\temp\\语料.txt')\n",
    "count_words_freq_dict(filename)\n",
    "table=set()\n",
    "table=count_words_freq_dict(filename)\n",
    "n=50\n",
    "c=Counter(filename).most_common(n)\n",
    "print(c)"
   ]
  },
  {
   "cell_type": "code",
   "execution_count": null,
   "metadata": {},
   "outputs": [],
   "source": []
  }
 ],
 "metadata": {
  "kernelspec": {
   "display_name": "Python 3",
   "language": "python",
   "name": "python3"
  },
  "language_info": {
   "codemirror_mode": {
    "name": "ipython",
    "version": 3
   },
   "file_extension": ".py",
   "mimetype": "text/x-python",
   "name": "python",
   "nbconvert_exporter": "python",
   "pygments_lexer": "ipython3",
   "version": "3.6.3"
  }
 },
 "nbformat": 4,
 "nbformat_minor": 2
}
