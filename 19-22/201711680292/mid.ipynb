{
 "cells": [
  {
   "cell_type": "code",
   "execution_count": 4,
   "metadata": {},
   "outputs": [
    {
     "name": "stdout",
     "output_type": "stream",
     "text": [
      "请输入所加个数5\n",
      "35\n"
     ]
    }
   ],
   "source": [
    "#1\n",
    "def f():\n",
    "    i=0\n",
    "    total=0\n",
    "    n=0\n",
    "    for number in range(m):\n",
    "        i=i+1\n",
    "        n=n+i\n",
    "        total=total+n\n",
    "        \n",
    "    return total\n",
    "m=int(input('请输入所加个数'))\n",
    "f()\n",
    "print(f())"
   ]
  },
  {
   "cell_type": "code",
   "execution_count": 53,
   "metadata": {},
   "outputs": [
    {
     "name": "stdout",
     "output_type": "stream",
     "text": [
      "符号*\n",
      "行数5\n",
      "['*']\n",
      "['*', '*']\n",
      "['*', '*', '*']\n",
      "['*', '*', '*', '*']\n",
      "['*', '*', '*', '*', '*']\n"
     ]
    }
   ],
   "source": [
    "#2\n",
    "def f(m,n):\n",
    "    m=input('符号')\n",
    "    n=int(input('行数'))\n",
    "    line=[]\n",
    "    for i in range(n):\n",
    "        line.append(m)\n",
    "        print(line)\n",
    "\n",
    "f(m,n)"
   ]
  },
  {
   "cell_type": "code",
   "execution_count": 54,
   "metadata": {},
   "outputs": [
    {
     "name": "stdout",
     "output_type": "stream",
     "text": [
      "请输入整数178\n"
     ]
    },
    {
     "ename": "UnboundLocalError",
     "evalue": "local variable 'a' referenced before assignment",
     "output_type": "error",
     "traceback": [
      "\u001b[1;31m---------------------------------------------------------------------------\u001b[0m",
      "\u001b[1;31mUnboundLocalError\u001b[0m                         Traceback (most recent call last)",
      "\u001b[1;32m<ipython-input-54-91f69164fb50>\u001b[0m in \u001b[0;36m<module>\u001b[1;34m()\u001b[0m\n\u001b[0;32m      8\u001b[0m             \u001b[0ma\u001b[0m\u001b[1;33m=\u001b[0m\u001b[0mn\u001b[0m\u001b[1;33m%\u001b[0m\u001b[1;36m10\u001b[0m\u001b[1;33m**\u001b[0m\u001b[1;33m(\u001b[0m\u001b[0mi\u001b[0m\u001b[1;33m-\u001b[0m\u001b[1;36m1\u001b[0m\u001b[1;33m)\u001b[0m\u001b[1;33m\u001b[0m\u001b[0m\n\u001b[0;32m      9\u001b[0m         \u001b[1;32mreturn\u001b[0m \u001b[0ma\u001b[0m\u001b[1;33m\u001b[0m\u001b[0m\n\u001b[1;32m---> 10\u001b[1;33m \u001b[0mf\u001b[0m\u001b[1;33m(\u001b[0m\u001b[1;33m)\u001b[0m\u001b[1;33m\u001b[0m\u001b[0m\n\u001b[0m\u001b[0;32m     11\u001b[0m \u001b[0mprint\u001b[0m\u001b[1;33m(\u001b[0m\u001b[0mf\u001b[0m\u001b[1;33m(\u001b[0m\u001b[1;33m)\u001b[0m\u001b[1;33m)\u001b[0m\u001b[1;33m\u001b[0m\u001b[0m\n",
      "\u001b[1;32m<ipython-input-54-91f69164fb50>\u001b[0m in \u001b[0;36mf\u001b[1;34m()\u001b[0m\n\u001b[0;32m      7\u001b[0m         \u001b[1;32melse\u001b[0m\u001b[1;33m:\u001b[0m\u001b[1;33m\u001b[0m\u001b[0m\n\u001b[0;32m      8\u001b[0m             \u001b[0ma\u001b[0m\u001b[1;33m=\u001b[0m\u001b[0mn\u001b[0m\u001b[1;33m%\u001b[0m\u001b[1;36m10\u001b[0m\u001b[1;33m**\u001b[0m\u001b[1;33m(\u001b[0m\u001b[0mi\u001b[0m\u001b[1;33m-\u001b[0m\u001b[1;36m1\u001b[0m\u001b[1;33m)\u001b[0m\u001b[1;33m\u001b[0m\u001b[0m\n\u001b[1;32m----> 9\u001b[1;33m         \u001b[1;32mreturn\u001b[0m \u001b[0ma\u001b[0m\u001b[1;33m\u001b[0m\u001b[0m\n\u001b[0m\u001b[0;32m     10\u001b[0m \u001b[0mf\u001b[0m\u001b[1;33m(\u001b[0m\u001b[1;33m)\u001b[0m\u001b[1;33m\u001b[0m\u001b[0m\n\u001b[0;32m     11\u001b[0m \u001b[0mprint\u001b[0m\u001b[1;33m(\u001b[0m\u001b[0mf\u001b[0m\u001b[1;33m(\u001b[0m\u001b[1;33m)\u001b[0m\u001b[1;33m)\u001b[0m\u001b[1;33m\u001b[0m\u001b[0m\n",
      "\u001b[1;31mUnboundLocalError\u001b[0m: local variable 'a' referenced before assignment"
     ]
    }
   ],
   "source": [
    "#3\n",
    "def f():\n",
    "    n=int(input('请输入整数'))\n",
    "    i=0\n",
    "    while i>=0:\n",
    "        if n-10**i>0:\n",
    "            i=i+1\n",
    "        else:\n",
    "            a=n%10**(i-1)\n",
    "        return a\n",
    "f()\n",
    "print(f())"
   ]
  },
  {
   "cell_type": "code",
   "execution_count": 52,
   "metadata": {},
   "outputs": [
    {
     "name": "stdout",
     "output_type": "stream",
     "text": [
      "队员数9\n",
      "队员身高183\n",
      "队员身高185\n",
      "队员身高183\n",
      "队员身高187\n",
      "队员身高178\n",
      "队员身高175\n",
      "队员身高177\n",
      "队员身高190\n",
      "队员身高172\n",
      "183\n",
      "185\n",
      "183\n",
      "187\n",
      "190\n",
      "181.11111111111111\n"
     ]
    }
   ],
   "source": [
    "#4\n",
    "m=int(input('队员数'))\n",
    "total=0\n",
    "numbers=[]\n",
    "for i in range(m):\n",
    "    n=int(input('队员身高'))\n",
    "    total=total+n\n",
    "    numbers.append(n)\n",
    "    a=total/m\n",
    "    \n",
    "for j in range(m):\n",
    "    if numbers[j]>a:\n",
    "         print(numbers[j])\n",
    "\n",
    "print(a)\n",
    "        \n",
    "        \n",
    "    "
   ]
  },
  {
   "cell_type": "code",
   "execution_count": 32,
   "metadata": {},
   "outputs": [
    {
     "name": "stdout",
     "output_type": "stream",
     "text": [
      "2 + 6 =\n",
      "请输入答案8\n",
      "6 + 9 =\n",
      "请输入答案15\n",
      "8 + 1 =\n",
      "请输入答案9\n",
      "10 + 8 =\n",
      "请输入答案9\n",
      "7 + 7 =\n",
      "请输入答案14\n",
      "80\n"
     ]
    }
   ],
   "source": [
    "# 5\n",
    "import random\n",
    "total=0\n",
    "for i in range(5):\n",
    "    a=random.randint(1,10)\n",
    "    b=random.randint(1,10)\n",
    "    n=a+b\n",
    "    print(a,'+',b,'=')\n",
    "    c=int(input('请输入答案'))\n",
    "    if c==n:\n",
    "        total+=20\n",
    "print(total)\n",
    "        "
   ]
  },
  {
   "cell_type": "code",
   "execution_count": 49,
   "metadata": {},
   "outputs": [
    {
     "name": "stdout",
     "output_type": "stream",
     "text": [
      "108\n",
      "[108, 3, -5, 9, 34, 88, -76]\n"
     ]
    }
   ],
   "source": [
    "#6\n",
    "numbers=[3,-5,9,108,34,-76,88]\n",
    "number=[]\n",
    "max_number=0\n",
    "min_number=0\n",
    "for i in range(len(numbers)):\n",
    "    if max_number<numbers[i]:\n",
    "        max_number=numbers[i]\n",
    "        a=i\n",
    "    if min_number>numbers[i]:\n",
    "        min_number=numbers[i]\n",
    "        b=i\n",
    "        \n",
    "print(max_number)\n",
    "number.append(max_number)\n",
    "for i in range(len(numbers)):\n",
    "    if i!=a and i!=b:  \n",
    "        c=numbers[i]\n",
    "        number.append(c)\n",
    "        \n",
    "number.append(min_number)\n",
    "print(number)"
   ]
  },
  {
   "cell_type": "code",
   "execution_count": null,
   "metadata": {},
   "outputs": [],
   "source": []
  }
 ],
 "metadata": {
  "kernelspec": {
   "display_name": "Python 3",
   "language": "python",
   "name": "python3"
  },
  "language_info": {
   "codemirror_mode": {
    "name": "ipython",
    "version": 3
   },
   "file_extension": ".py",
   "mimetype": "text/x-python",
   "name": "python",
   "nbconvert_exporter": "python",
   "pygments_lexer": "ipython3",
   "version": "3.6.0"
  }
 },
 "nbformat": 4,
 "nbformat_minor": 2
}
