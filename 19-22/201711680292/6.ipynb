{
 "cells": [
  {
   "cell_type": "code",
   "execution_count": 18,
   "metadata": {},
   "outputs": [
    {
     "name": "stdout",
     "output_type": "stream",
     "text": [
      "请输入元素对象9\n",
      "位置是 8\n"
     ]
    }
   ],
   "source": [
    "#写函数，返回某个元素对象在一个list中的位置，如果不在，则返回-1.\n",
    "def f():\n",
    "    numbers=[1,2,3,4,5,6,7,8,9,11,22,33,]\n",
    "    s=len(numbers)\n",
    "    if n in numbers:\n",
    "        for i in range(s):\n",
    "            if numbers[i]==n:\n",
    "                print('位置是',i)\n",
    "            else:\n",
    "                pass\n",
    "    else:     \n",
    "        i=-1\n",
    "        print(i)\n",
    "             \n",
    "\n",
    "n=int(input('请输入元素对象'))\n",
    "f()\n",
    "\n",
    "\n",
    "        \n",
    "            "
   ]
  },
  {
   "cell_type": "code",
   "execution_count": 2,
   "metadata": {},
   "outputs": [
    {
     "name": "stdout",
     "output_type": "stream",
     "text": [
      "[11, 10, 22, 20, 33, 30, 44, 40, 55, 50]\n"
     ]
    }
   ],
   "source": [
    "#写函数，可将两个相同长度的list，间隔插入，生成新的list。例如：给两个list，a=[1,2,3,4], b=[5,6,7,8]。则可以生成：[1,5,2,6,3,7,4,8]。\n",
    "def f():\n",
    "    number=[]\n",
    "    number1=[11,22,33,44,55]\n",
    "    number2=[10,20,30,40,50]\n",
    "    for i in range(5):\n",
    "        n=number1[i]\n",
    "        m=number2[i]\n",
    "        number.append(n)\n",
    "        number.append(m)\n",
    "    return number\n",
    "f()\n",
    "print(f())\n",
    "        "
   ]
  },
  {
   "cell_type": "code",
   "execution_count": 7,
   "metadata": {},
   "outputs": [
    {
     "name": "stdout",
     "output_type": "stream",
     "text": [
      "-0.7071067811865475\n"
     ]
    }
   ],
   "source": [
    "#写函数，可求两个向量的夹角余弦值，向量可放在list中。主程序调用该函数\n",
    "def f():\n",
    "    a=[a1,a2]\n",
    "    b=[b1,b2]\n",
    "    m=a1*b1+a2*b2\n",
    "    n=((a1**2+a2**2)**(1/2))*((b1**2+b2**2)**(1/2))\n",
    "    r=m/n\n",
    "    return r\n",
    "\n",
    "a1=-2\n",
    "a2=2\n",
    "b1=2\n",
    "b2=0\n",
    "f()\n",
    "print(f())"
   ]
  },
  {
   "cell_type": "code",
   "execution_count": 8,
   "metadata": {},
   "outputs": [
    {
     "name": "stdout",
     "output_type": "stream",
     "text": [
      "3741\n"
     ]
    }
   ],
   "source": [
    "#挑战性习题：python语言老师为了激励学生学python，自费买了100个完全相同的Macbook Pro，分给三个班级，每个班级至少分5个，用穷举法计算共有多少种分法？\n",
    "n=0\n",
    "for i in range(5,91):\n",
    "    for j in range(5,91):\n",
    "        for k in range(5,91):\n",
    "            s=i+j+k\n",
    "            if s==100:\n",
    "                n=n+1\n",
    "                \n",
    "print(n)"
   ]
  },
  {
   "cell_type": "code",
   "execution_count": null,
   "metadata": {},
   "outputs": [],
   "source": []
  }
 ],
 "metadata": {
  "kernelspec": {
   "display_name": "Python 3",
   "language": "python",
   "name": "python3"
  },
  "language_info": {
   "codemirror_mode": {
    "name": "ipython",
    "version": 3
   },
   "file_extension": ".py",
   "mimetype": "text/x-python",
   "name": "python",
   "nbconvert_exporter": "python",
   "pygments_lexer": "ipython3",
   "version": "3.6.0"
  }
 },
 "nbformat": 4,
 "nbformat_minor": 2
}
