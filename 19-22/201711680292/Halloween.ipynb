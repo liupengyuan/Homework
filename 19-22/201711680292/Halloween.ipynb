{
 "cells": [
  {
   "cell_type": "code",
   "execution_count": 1,
   "metadata": {},
   "outputs": [],
   "source": [
    "def my_sum(n):\n",
    "    i=0\n",
    "    total1=0\n",
    "    \n",
    "    while i<n:\n",
    "        i=i+1\n",
    "        total1=total1+i\n",
    "        \n",
    "    return total1\n",
    "        "
   ]
  },
  {
   "cell_type": "code",
   "execution_count": 4,
   "metadata": {},
   "outputs": [],
   "source": [
    "def my_mul(m):\n",
    "    a=0\n",
    "    total2=1\n",
    "    \n",
    "    while a<m:\n",
    "        a=a+1\n",
    "        total2=total2*a\n",
    "        \n",
    "    return total2"
   ]
  },
  {
   "cell_type": "code",
   "execution_count": 5,
   "metadata": {},
   "outputs": [
    {
     "name": "stdout",
     "output_type": "stream",
     "text": [
      "5\n",
      "6\n",
      "141\n"
     ]
    }
   ],
   "source": [
    "m=int(input())\n",
    "n=int(input())\n",
    "if m>n:\n",
    "    print(my_sum(n)+my_sum(m))\n",
    "else:\n",
    "    print(my_mul(m)+my_sum(n))\n",
    "    "
   ]
  },
  {
   "cell_type": "code",
   "execution_count": null,
   "metadata": {},
   "outputs": [],
   "source": []
  }
 ],
 "metadata": {
  "kernelspec": {
   "display_name": "Python 3",
   "language": "python",
   "name": "python3"
  },
  "language_info": {
   "codemirror_mode": {
    "name": "ipython",
    "version": 3
   },
   "file_extension": ".py",
   "mimetype": "text/x-python",
   "name": "python",
   "nbconvert_exporter": "python",
   "pygments_lexer": "ipython3",
   "version": "3.6.0"
  }
 },
 "nbformat": 4,
 "nbformat_minor": 2
}
