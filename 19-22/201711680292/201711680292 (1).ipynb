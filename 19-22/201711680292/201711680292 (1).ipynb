{
 "cells": [
  {
   "cell_type": "markdown",
   "metadata": {},
   "source": [
    "练习 1：写程序，可由键盘读入用户姓名例如Mr. right，让用户输入出生的月份与日期，判断用户星座，假设用户是金牛座，则输出，Mr. right，你是非常有性格的金牛座！。"
   ]
  },
  {
   "cell_type": "code",
   "execution_count": 1,
   "metadata": {},
   "outputs": [
    {
     "name": "stdout",
     "output_type": "stream",
     "text": [
      "赵梦涵\n",
      "你是非常有个性的金牛座\n",
      "511\n",
      "赵梦涵\n",
      "你是非常有个性的金牛座\n"
     ]
    }
   ],
   "source": [
    "a=input()\n",
    "c=input()\n",
    "b=int(input(''))\n",
    "d=420\n",
    "m=520\n",
    "if d<b<m:\n",
    "    print(a)\n",
    "    print(c)"
   ]
  },
  {
   "cell_type": "markdown",
   "metadata": {},
   "source": [
    "练习 2：写程序，可由键盘读入两个整数m与n(n不等于0)，询问用户意图，如果要求和则计算从m到n的和输出"
   ]
  },
  {
   "cell_type": "code",
   "execution_count": 9,
   "metadata": {},
   "outputs": [
    {
     "name": "stdout",
     "output_type": "stream",
     "text": [
      "2\n",
      "6\n",
      "5\n",
      "9\n",
      "14\n",
      "20\n",
      "27\n"
     ]
    }
   ],
   "source": [
    "m=int(input())\n",
    "n=int(input())\n",
    "i=m\n",
    "total=m\n",
    "while i<=n:\n",
    "    i=i+1\n",
    "    \n",
    "    total=total+i\n",
    "    \n",
    "    print(total)\n",
    "    \n",
    "    \n"
   ]
  },
  {
   "cell_type": "markdown",
   "metadata": {},
   "source": [
    "练习 4：英文单词单数转复数，要求输入一个英文动词（单数形式），能够得到其复数形式，或给出单数转复数形式的建议"
   ]
  },
  {
   "cell_type": "code",
   "execution_count": 7,
   "metadata": {},
   "outputs": [
    {
     "name": "stdout",
     "output_type": "stream",
     "text": [
      "输入一个单词的单数形式looks\n",
      "去掉s\n"
     ]
    }
   ],
   "source": [
    "c=(input('输入一个单词的单数形式').endswith('es'))\n",
    "if c==True:\n",
    "    print('去掉es')\n",
    "else:\n",
    "    print('去掉s')"
   ]
  },
  {
   "cell_type": "markdown",
   "metadata": {},
   "source": [
    "尝试性练习：写程序，能够在屏幕上显示空行"
   ]
  },
  {
   "cell_type": "code",
   "execution_count": 14,
   "metadata": {},
   "outputs": [
    {
     "name": "stdout",
     "output_type": "stream",
     "text": [
      "3\n",
      " \n",
      "4\n",
      "3 4\n"
     ]
    }
   ],
   "source": [
    "n=int(input())\n",
    "p=input()\n",
    "m=int(input())\n",
    "print(n,p,m,sep='')"
   ]
  }
 ],
 "metadata": {
  "kernelspec": {
   "display_name": "Python 3",
   "language": "python",
   "name": "python3"
  },
  "language_info": {
   "codemirror_mode": {
    "name": "ipython",
    "version": 3
   },
   "file_extension": ".py",
   "mimetype": "text/x-python",
   "name": "python",
   "nbconvert_exporter": "python",
   "pygments_lexer": "ipython3",
   "version": "3.6.0"
  }
 },
 "nbformat": 4,
 "nbformat_minor": 2
}
