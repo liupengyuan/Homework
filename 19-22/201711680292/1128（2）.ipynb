{
 "cells": [
  {
   "cell_type": "code",
   "execution_count": 5,
   "metadata": {},
   "outputs": [
    {
     "name": "stdout",
     "output_type": "stream",
     "text": [
      "\n",
      "a\n",
      "ab\n",
      "abc\n",
      "abcd\n",
      "abcde\n",
      "abcdef\n",
      "abcdefg\n",
      "abcdefgh\n",
      "abcdefghi\n",
      "abcdefghij\n",
      "abcdefghijk\n",
      "abcdefghijkl\n",
      "abcdefghijklm\n",
      "abcdefghijklmn\n",
      "abcdefghijklmno\n",
      "abcdefghijklmnop\n",
      "abcdefghijklmnopq\n",
      "abcdefghijklmnopqr\n",
      "abcdefghijklmnopqrs\n",
      "abcdefghijklmnopqrst\n",
      "abcdefghijklmnopqrstu\n",
      "abcdefghijklmnopqrstuv\n",
      "abcdefghijklmnopqrstuvw\n",
      "abcdefghijklmnopqrstuvwx\n",
      "abcdefghijklmnopqrstuvwxy\n",
      "abcdefghijklmnopqrstuvwxyz\n"
     ]
    }
   ],
   "source": [
    "#1\n",
    "def f():\n",
    "    character='abcdefghijklmnopqrstuvwxyz'\n",
    "    for i in range(len(character)+1):\n",
    "        print(character[0:i])\n",
    "f()"
   ]
  },
  {
   "cell_type": "code",
   "execution_count": 9,
   "metadata": {},
   "outputs": [
    {
     "name": "stdout",
     "output_type": "stream",
     "text": [
      "请输入行数3\n",
      "******"
     ]
    }
   ],
   "source": [
    "\n",
    "n=int(input('请输入行数'))\n",
    "line = '*'*n\n",
    "sub_line = ''\n",
    "for i in range(n):\n",
    "    sub_line += line[i]\n",
    "print(sub_line, end='')\n",
    "\n",
    "for i in range(n-1, -1, -1):\n",
    "    print(sub_line[i], end='')"
   ]
  },
  {
   "cell_type": "code",
   "execution_count": 10,
   "metadata": {},
   "outputs": [
    {
     "name": "stdout",
     "output_type": "stream",
     "text": [
      "请输入行数5\n",
      "    \n",
      "   *\n",
      "  **\n",
      " ***\n"
     ]
    }
   ],
   "source": [
    "n=int(input('请输入行数'))\n",
    "line = '*'*n\n",
    "for i in range(1, n):\n",
    "    for k in range(n-i,0,-1):\n",
    "        print(' ', end='')\n",
    "    for j in range(1,i):\n",
    "        print(line[0], end='')\n",
    "    print()"
   ]
  },
  {
   "cell_type": "code",
   "execution_count": 14,
   "metadata": {},
   "outputs": [
    {
     "name": "stdout",
     "output_type": "stream",
     "text": [
      "7\n",
      "       * \n",
      "      ** \n",
      "     *** \n",
      "    **** \n",
      "   ***** \n",
      "  ****** \n"
     ]
    }
   ],
   "source": [
    "n=int(input())\n",
    "line = '*'*6\n",
    "for i in range(1, n):\n",
    "    print((n-i+1)*' ' + line[0]*i+(n-i)*'', end=' ')\n",
    "    print()"
   ]
  },
  {
   "cell_type": "code",
   "execution_count": 22,
   "metadata": {},
   "outputs": [
    {
     "name": "stdout",
     "output_type": "stream",
     "text": [
      "6\n",
      "      \n",
      "     *\n",
      "    **\n",
      "   ***\n",
      "  ****\n"
     ]
    }
   ],
   "source": [
    "n=int(input())\n",
    "line = '*'*n\n",
    "for i in range(1, n):\n",
    "    for k in range(n+1-i,0,-1):\n",
    "        print(' ', end='')\n",
    "    for j in range(1,i):\n",
    "        print(line[0], end='')\n",
    "    print()"
   ]
  },
  {
   "cell_type": "code",
   "execution_count": 46,
   "metadata": {},
   "outputs": [
    {
     "name": "stdout",
     "output_type": "stream",
     "text": [
      "请输入行数6\n",
      "       \n",
      "      * \n",
      "     * * \n",
      "    * * * \n",
      "   * * * * \n",
      "  * * * * * \n",
      " * * * * * * \n"
     ]
    }
   ],
   "source": [
    "#2\n",
    "n=int(input('请输入行数'))\n",
    "line = '*'*n\n",
    "for i in range(n+1):\n",
    "    for k in range(n-i,-1,-1):\n",
    "        print(' ', end='')\n",
    "    for j in range(i):\n",
    "        print(line[j],end=' ')\n",
    "    print()"
   ]
  },
  {
   "cell_type": "code",
   "execution_count": null,
   "metadata": {},
   "outputs": [],
   "source": []
  }
 ],
 "metadata": {
  "kernelspec": {
   "display_name": "Python 3",
   "language": "python",
   "name": "python3"
  },
  "language_info": {
   "codemirror_mode": {
    "name": "ipython",
    "version": 3
   },
   "file_extension": ".py",
   "mimetype": "text/x-python",
   "name": "python",
   "nbconvert_exporter": "python",
   "pygments_lexer": "ipython3",
   "version": "3.6.0"
  }
 },
 "nbformat": 4,
 "nbformat_minor": 2
}
