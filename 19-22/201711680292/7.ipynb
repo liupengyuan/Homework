{
 "cells": [
  {
   "cell_type": "code",
   "execution_count": 33,
   "metadata": {},
   "outputs": [
    {
     "name": "stdout",
     "output_type": "stream",
     "text": [
      "请输入字符串123456\n",
      "654321"
     ]
    }
   ],
   "source": [
    "#1\n",
    "def f():\n",
    "    s=str(input('请输入字符串'))\n",
    "    for i in range(len(s)-1,-1,-1):\n",
    "        print(s[i],end='')\n",
    "        \n",
    "        \n",
    "f()\n"
   ]
  },
  {
   "cell_type": "code",
   "execution_count": 36,
   "metadata": {},
   "outputs": [
    {
     "name": "stdout",
     "output_type": "stream",
     "text": [
      "请输入符号*\n",
      "请输入行数5\n",
      "*\n",
      "**\n",
      "***\n",
      "****\n",
      "*****\n"
     ]
    }
   ],
   "source": [
    "#2(1)\n",
    "def f():\n",
    "    m=input('请输入符号')\n",
    "    n=int(input('请输入行数'))\n",
    "    for i in range(1,n+1):\n",
    "        print(m*i)\n",
    "        \n",
    "f()\n",
    "        "
   ]
  },
  {
   "cell_type": "code",
   "execution_count": 46,
   "metadata": {},
   "outputs": [
    {
     "name": "stdout",
     "output_type": "stream",
     "text": [
      "请输入符号#\n",
      "请输入行数6\n",
      "     # \n",
      "    # # \n",
      "   # # # \n",
      "  # # # # \n",
      " # # # # # \n",
      "# # # # # # \n"
     ]
    }
   ],
   "source": [
    "#2(2)\n",
    "def g():\n",
    "    m=input('请输入符号')\n",
    "    n=int(input('请输入行数'))\n",
    "    for i in range(1,n+1):\n",
    "        for j in range(n-i,0,-1):\n",
    "            print(' ',end='')\n",
    "        for k in range(i):\n",
    "            print(m,end=' ')\n",
    "        print()\n",
    "        \n",
    "g()\n",
    "    \n",
    "    "
   ]
  },
  {
   "cell_type": "code",
   "execution_count": 77,
   "metadata": {},
   "outputs": [
    {
     "name": "stdout",
     "output_type": "stream",
     "text": [
      "请输入符号&\n",
      "请输入行数7\n",
      "                  &\n",
      "               &&&\n",
      "            &&&&&\n",
      "         &&&&&&&\n",
      "      &&&&&&&&&\n",
      "   &&&&&&&&&&&\n",
      "&&&&&&&&&&&&&\n"
     ]
    }
   ],
   "source": [
    "#2(3)\n",
    "def g():\n",
    "    m=input('请输入符号')\n",
    "    n=int(input('请输入行数'))\n",
    "    for i in range(1,n+1):\n",
    "        for j in range(3*(n-i),0,-1):\n",
    "            print(' ',end='')\n",
    "        for k in range(1,2*i):\n",
    "            print(m,end='')\n",
    "        print()\n",
    "        \n",
    "g()"
   ]
  },
  {
   "cell_type": "code",
   "execution_count": 96,
   "metadata": {},
   "outputs": [
    {
     "name": "stdout",
     "output_type": "stream",
     "text": [
      "请输入符号#\n",
      "请输入对角线长度9\n",
      "        # \n",
      "       # # \n",
      "      # # # \n",
      "     # # # # \n",
      "    # # # # # \n",
      "   # # # # # # \n",
      "  # # # # # # # \n",
      " # # # # # # # # \n",
      "# # # # # # # # # \n",
      " # # # # # # # # \n",
      "  # # # # # # # \n",
      "   # # # # # # \n",
      "    # # # # # \n",
      "     # # # # \n",
      "      # # # \n",
      "       # # \n",
      "        # \n"
     ]
    }
   ],
   "source": [
    "#5(1)\n",
    "def f():\n",
    "    m=input('请输入符号')\n",
    "    n=int(input('请输入对角线长度'))\n",
    "    for i in range(1,n+1):\n",
    "        for j in range(n-i,0,-1):\n",
    "            print(' ',end='')\n",
    "        for k in range(i):\n",
    "            print(m,end=' ')\n",
    "        print()\n",
    "    for a in range(1,n):\n",
    "        for b in range(a):\n",
    "            print(' ',end='')\n",
    "        for c in range(n-a,0,-1):\n",
    "            print(m,end=' ')\n",
    "        print()\n",
    "f()"
   ]
  },
  {
   "cell_type": "code",
   "execution_count": 97,
   "metadata": {},
   "outputs": [
    {
     "name": "stdout",
     "output_type": "stream",
     "text": [
      "请输入符号#\n",
      "请输入对角线长度9\n",
      "        #\n",
      "       ##\n",
      "      ###\n",
      "     ####\n",
      "    #####\n",
      "   ######\n",
      "  #######\n",
      " ########\n",
      "#########\n",
      "########\n",
      "#######\n",
      "######\n",
      "#####\n",
      "####\n",
      "###\n",
      "##\n",
      "#\n"
     ]
    }
   ],
   "source": [
    "#5(2)\n",
    "def f():\n",
    "    m=input('请输入符号')\n",
    "    n=int(input('请输入对角线长度'))\n",
    "    for i in range(1,n+1):\n",
    "        for j in range(n-i,0,-1):\n",
    "            print(' ',end='')\n",
    "        for k in range(0,i):\n",
    "            print(m,end='')\n",
    "        print()\n",
    "    for a in range(1,n):\n",
    "        for c in range(n-a,0,-1):\n",
    "            print(m,end='')\n",
    "        print()\n",
    "f()"
   ]
  },
  {
   "cell_type": "code",
   "execution_count": 101,
   "metadata": {},
   "outputs": [
    {
     "name": "stdout",
     "output_type": "stream",
     "text": [
      "请输入符号#\n",
      "请输入对角线长度9\n",
      "#\n",
      "##\n",
      "###\n",
      "####\n",
      "#####\n",
      "######\n",
      "#######\n",
      "########\n",
      "#########\n",
      " ########\n",
      "  #######\n",
      "   ######\n",
      "    #####\n",
      "     ####\n",
      "      ###\n",
      "       ##\n",
      "        #\n",
      "         \n"
     ]
    }
   ],
   "source": [
    "#5(3)\n",
    "def f():\n",
    "    m=input('请输入符号')\n",
    "    n=int(input('请输入对角线长度'))\n",
    "    for i in range(1,n+1):\n",
    "        print(m*i)\n",
    "    for j in range(1,n+1):\n",
    "        for k in range(j):\n",
    "            print(' ',end='')\n",
    "        for l in range(n-j-1,-1,-1):\n",
    "            print(m,end='')\n",
    "        print()\n",
    "f()"
   ]
  },
  {
   "cell_type": "code",
   "execution_count": null,
   "metadata": {},
   "outputs": [],
   "source": []
  },
  {
   "cell_type": "code",
   "execution_count": null,
   "metadata": {},
   "outputs": [],
   "source": []
  },
  {
   "cell_type": "code",
   "execution_count": null,
   "metadata": {},
   "outputs": [],
   "source": []
  }
 ],
 "metadata": {
  "kernelspec": {
   "display_name": "Python 3",
   "language": "python",
   "name": "python3"
  },
  "language_info": {
   "codemirror_mode": {
    "name": "ipython",
    "version": 3
   },
   "file_extension": ".py",
   "mimetype": "text/x-python",
   "name": "python",
   "nbconvert_exporter": "python",
   "pygments_lexer": "ipython3",
   "version": "3.6.0"
  }
 },
 "nbformat": 4,
 "nbformat_minor": 2
}
