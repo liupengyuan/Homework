{
 "cells": [
  {
   "cell_type": "code",
   "execution_count": 10,
   "metadata": {},
   "outputs": [
    {
     "name": "stdout",
     "output_type": "stream",
     "text": [
      "平均值106.72999999999999最大值899最小值-10\n"
     ]
    }
   ],
   "source": [
    "def f():\n",
    "    numbers=[1,2,-1,55,100,899,-10,3,12.5,5.8]\n",
    "    m=10\n",
    "    total=0\n",
    "    for n in numbers:\n",
    "        total+=n \n",
    "        a=total/m\n",
    "    return a\n",
    "def g():\n",
    "    numbers=[1,2,-1,55,100,899,-10,3,12.5,5.8]\n",
    "    m=10\n",
    "    b=0\n",
    "    for n in numbers:\n",
    "        if n>b:\n",
    "            b=n\n",
    "        else:\n",
    "            b=b\n",
    "    return b\n",
    "def t():\n",
    "    numbers=[1,2,-1,55,100,899,-10,3,12.5,5.8]\n",
    "    m=10\n",
    "    b=0\n",
    "    c=0\n",
    "    for n in numbers:\n",
    "        if n>b:\n",
    "            b=b\n",
    "        else:\n",
    "            b=n\n",
    "    return b\n",
    "\n",
    "f()\n",
    "g()\n",
    "t()\n",
    "print('平均值',f(),'最大值',g(),'最小值',t(),sep='')"
   ]
  },
  {
   "cell_type": "code",
   "execution_count": null,
   "metadata": {},
   "outputs": [],
   "source": []
  }
 ],
 "metadata": {
  "kernelspec": {
   "display_name": "Python 3",
   "language": "python",
   "name": "python3"
  },
  "language_info": {
   "codemirror_mode": {
    "name": "ipython",
    "version": 3
   },
   "file_extension": ".py",
   "mimetype": "text/x-python",
   "name": "python",
   "nbconvert_exporter": "python",
   "pygments_lexer": "ipython3",
   "version": "3.6.0"
  }
 },
 "nbformat": 4,
 "nbformat_minor": 2
}
