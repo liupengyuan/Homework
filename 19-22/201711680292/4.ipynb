{
 "cells": [
  {
   "cell_type": "code",
   "execution_count": 14,
   "metadata": {},
   "outputs": [],
   "source": [
    "#练习 1\n",
    "def computer_mul(n):\n",
    "    i=0\n",
    "    total=1\n",
    "    while i<n:\n",
    "        i=i+1\n",
    "        total=total*i\n",
    "        \n",
    "    return total"
   ]
  },
  {
   "cell_type": "code",
   "execution_count": 15,
   "metadata": {},
   "outputs": [
    {
     "name": "stdout",
     "output_type": "stream",
     "text": [
      "3\n",
      "4\n",
      "5\n",
      "最终的结果： 150\n"
     ]
    }
   ],
   "source": [
    "m=int(input())\n",
    "n=int(input())\n",
    "k=int(input())\n",
    "\n",
    "print('最终的结果：',computer_mul(m)+computer_mul(n)+computer_mul(k))"
   ]
  },
  {
   "cell_type": "code",
   "execution_count": 20,
   "metadata": {},
   "outputs": [
    {
     "name": "stdout",
     "output_type": "stream",
     "text": [
      "0.7851481634599485\n"
     ]
    }
   ],
   "source": [
    "#练习2\n",
    "def computer(n):\n",
    "    i=0\n",
    "    total=0\n",
    "    while i<n:\n",
    "        i=i+1\n",
    "        c=1/(2*i-1)\n",
    "        if i%2==0:\n",
    "            c=-c\n",
    "        else:\n",
    "            c=c\n",
    "        \n",
    "        total=total+c\n",
    "        \n",
    "    return total\n",
    "\n",
    "n=1000\n",
    "computer(n)\n",
    "print(computer(n))"
   ]
  },
  {
   "cell_type": "code",
   "execution_count": 11,
   "metadata": {},
   "outputs": [
    {
     "name": "stdout",
     "output_type": "stream",
     "text": [
      "请输入动词复数形式look\n",
      "加s\n"
     ]
    }
   ],
   "source": [
    "#练习3  4.  \n",
    "def f(c):\n",
    "    n=c.endswith('0')\n",
    "    \n",
    "    if n==True:\n",
    "        t='加es'\n",
    "    else:\n",
    "        t='加s'\n",
    "        \n",
    "    return t\n",
    "\n",
    "c=input('请输入动词复数形式')\n",
    "f(c)\n",
    "print(f(c))\n",
    "\n",
    "        "
   ]
  },
  {
   "cell_type": "code",
   "execution_count": 14,
   "metadata": {},
   "outputs": [
    {
     "name": "stdout",
     "output_type": "stream",
     "text": [
      "你的名字赵\n",
      "月份1\n",
      "日期2\n",
      "你是非常有个性的摩羯座\n"
     ]
    }
   ],
   "source": [
    "#1.\n",
    "def f():\n",
    "    if (n==1 and 19<m<31) or (n==2 and 0<m<19):\n",
    "        a='你是非常有个性的水瓶座'\n",
    "    elif (n==2 and 18<m<30) or (n==3 and 0<m<21):\n",
    "        a='你是非常有个性的双鱼座'\n",
    "    elif (n==3 and 20<m<32) or (n==4 and 0<m<20):\n",
    "        a='你是非常有个性的白羊座'\n",
    "    elif (n==4 and 19<m<31) or (n==5 and 0<m<21):\n",
    "        a='你是非常有个性的金牛座'\n",
    "    elif (n==5 and 20<m<32) or (n==6 and 0<m<22):\n",
    "        a='你是非常有个性的双子座'\n",
    "    elif (n==6 and 21<m<31) or (n==7 and 0<m<23):\n",
    "        a='你是非常有个性的巨蟹座'\n",
    "    elif (n==7 and 22<m<32) or (n==8 and 0<m<23):\n",
    "        a='你是非常有个性的狮子座'\n",
    "    elif (n==8 and 22<m<32) or (n==9 and 0<m<23):\n",
    "        a='你是非常有个性的处女座'\n",
    "    elif (n==9 and 22<m<31) or (n==10 and 0<m<24):\n",
    "        a='你是非常有个性的天枰座'\n",
    "    elif (n==10 and 23<m<32) or (n==11 and 0<m<23):\n",
    "        a='你是非常有个性的天蝎座'\n",
    "    elif (n==11 and 22<m<31) or (n==12 and 0<m<22):\n",
    "        a='你是非常有个性的射手座'\n",
    "    elif (n==12 and 21<m<32) or (n==1 and 0<m<20):\n",
    "        a='你是非常有个性的摩羯座'\n",
    "    \n",
    "        return a\n",
    "\n",
    "name=input('你的名字')\n",
    "n=int(input('月份'))\n",
    "m=int(input('日期'))\n",
    "f()\n",
    "print(f())\n",
    "        "
   ]
  },
  {
   "cell_type": "code",
   "execution_count": 1,
   "metadata": {},
   "outputs": [
    {
     "name": "stdout",
     "output_type": "stream",
     "text": [
      "2\n",
      "9\n",
      "3\n",
      "13\n"
     ]
    }
   ],
   "source": [
    "#挑战性练习\n",
    "def com_total():\n",
    "    m=int(input())\n",
    "    n=int(input())\n",
    "    k=int(input())\n",
    "    i=m\n",
    "    total=0\n",
    "    while i<n:\n",
    "        i=i+1\n",
    "        if (i-m)%k==0:\n",
    "            total=total+i\n",
    "        else:\n",
    "            i=i+1\n",
    "            \n",
    "    return total\n",
    "print(com_total())"
   ]
  },
  {
   "cell_type": "code",
   "execution_count": null,
   "metadata": {},
   "outputs": [],
   "source": []
  },
  {
   "cell_type": "code",
   "execution_count": null,
   "metadata": {},
   "outputs": [],
   "source": []
  },
  {
   "cell_type": "code",
   "execution_count": null,
   "metadata": {},
   "outputs": [],
   "source": []
  }
 ],
 "metadata": {
  "kernelspec": {
   "display_name": "Python 3",
   "language": "python",
   "name": "python3"
  },
  "language_info": {
   "codemirror_mode": {
    "name": "ipython",
    "version": 3
   },
   "file_extension": ".py",
   "mimetype": "text/x-python",
   "name": "python",
   "nbconvert_exporter": "python",
   "pygments_lexer": "ipython3",
   "version": "3.6.0"
  }
 },
 "nbformat": 4,
 "nbformat_minor": 2
}
