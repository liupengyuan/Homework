{
 "cells": [
  {
   "cell_type": "code",
   "execution_count": 2,
   "metadata": {},
   "outputs": [
    {
     "name": "stdout",
     "output_type": "stream",
     "text": [
      "正数5\n",
      "正数10\n",
      "正数500\n",
      "42.261093218230876\n"
     ]
    }
   ],
   "source": [
    "import random\n",
    " \n",
    "m=int(input('正数'))\n",
    "n=int(input('正数'))\n",
    "k=int(input('正数'))\n",
    "\n",
    "i=0\n",
    "total=0\n",
    "while i<=m:\n",
    "    num=random.randint(n,k)\n",
    "    i+=1\n",
    "    total=total+num\n",
    "    \n",
    "    x=total**(1/2)\n",
    "print(x)"
   ]
  },
  {
   "cell_type": "code",
   "execution_count": null,
   "metadata": {},
   "outputs": [],
   "source": []
  }
 ],
 "metadata": {
  "kernelspec": {
   "display_name": "Python 3",
   "language": "python",
   "name": "python3"
  },
  "language_info": {
   "codemirror_mode": {
    "name": "ipython",
    "version": 3
   },
   "file_extension": ".py",
   "mimetype": "text/x-python",
   "name": "python",
   "nbconvert_exporter": "python",
   "pygments_lexer": "ipython3",
   "version": "3.6.0"
  }
 },
 "nbformat": 4,
 "nbformat_minor": 2
}
