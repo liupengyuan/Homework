{
 "cells": [
  {
   "cell_type": "code",
   "execution_count": 10,
   "metadata": {},
   "outputs": [
    {
     "name": "stdout",
     "output_type": "stream",
     "text": [
      "较小数2\n",
      "较大数20\n",
      "随机数个数3\n"
     ]
    },
    {
     "data": {
      "text/plain": [
       "3.2145502536643185"
      ]
     },
     "execution_count": 10,
     "metadata": {},
     "output_type": "execute_result"
    }
   ],
   "source": [
    "#练习一\n",
    "import random\n",
    "\n",
    "def sum_():\n",
    "    m=int(input('较小数'))\n",
    "    k=int(input('较大数'))\n",
    "    n=int(input('随机数个数'))\n",
    "    i=1\n",
    "    total=0\n",
    "    while i<=n:\n",
    "        num=random.randint(m,k)\n",
    "        i=i+1\n",
    "        total=total+num\n",
    "        \n",
    "        a=(total/n)**(1/2)\n",
    "    return a\n",
    "\n",
    "sum_()\n",
    "        \n",
    "    "
   ]
  },
  {
   "cell_type": "code",
   "execution_count": 3,
   "metadata": {},
   "outputs": [
    {
     "name": "stdout",
     "output_type": "stream",
     "text": [
      "较小数1\n",
      "较大数10\n",
      "随机数个数3\n"
     ]
    },
    {
     "data": {
      "text/plain": [
       "5.807354922057604"
      ]
     },
     "execution_count": 3,
     "metadata": {},
     "output_type": "execute_result"
    }
   ],
   "source": [
    "#练习二 1\n",
    "import random,math\n",
    "\n",
    "def sum_():\n",
    "    m=int(input('较小数'))\n",
    "    k=int(input('较大数'))\n",
    "    n=int(input('随机数个数'))\n",
    "    i=0\n",
    "    total=0\n",
    "    while i<n:\n",
    "        num1=random.randint(m,k)\n",
    "        num2=math.log(num1,2)\n",
    "        i=i+1\n",
    "        total=total+num2\n",
    "        \n",
    "    return total\n",
    "sum_()"
   ]
  },
  {
   "cell_type": "code",
   "execution_count": 4,
   "metadata": {},
   "outputs": [
    {
     "name": "stdout",
     "output_type": "stream",
     "text": [
      "较小数1\n",
      "较大数10\n",
      "随机数个数2\n",
      "4 0.5\n",
      "7 0.3562071871080222\n"
     ]
    },
    {
     "data": {
      "text/plain": [
       "0.8562071871080221"
      ]
     },
     "execution_count": 4,
     "metadata": {},
     "output_type": "execute_result"
    }
   ],
   "source": [
    "#2\n",
    "import random,math\n",
    "\n",
    "def sum_():\n",
    "    m=int(input('较小数'))\n",
    "    k=int(input('较大数'))\n",
    "    n=int(input('随机数个数'))\n",
    "    i=0\n",
    "    total=0\n",
    "    while i<n:\n",
    "        num1=random.randint(m,k)\n",
    "        num2=1/math.log(num1,2)\n",
    "        i=i+1\n",
    "        total=total+num2\n",
    "        \n",
    "    return total\n",
    "sum_()"
   ]
  },
  {
   "cell_type": "code",
   "execution_count": 6,
   "metadata": {},
   "outputs": [
    {
     "name": "stdout",
     "output_type": "stream",
     "text": [
      "几个数相加5\n"
     ]
    },
    {
     "data": {
      "text/plain": [
       "49380"
      ]
     },
     "execution_count": 6,
     "metadata": {},
     "output_type": "execute_result"
    }
   ],
   "source": [
    "#练习三\n",
    "import random\n",
    "\n",
    "def sum_():\n",
    "    m=int(input('几个数相加'))\n",
    "    i=0\n",
    "    s=0\n",
    "    b=0\n",
    "    a=random.randint(1,9)\n",
    "    while i<m:\n",
    "        num=a*10**i\n",
    "        s=s+num+b\n",
    "        b=b+num\n",
    "        i=i+1\n",
    "        \n",
    "    return s\n",
    "\n",
    "sum_()\n",
    "        \n",
    "        "
   ]
  },
  {
   "cell_type": "code",
   "execution_count": 2,
   "metadata": {},
   "outputs": [
    {
     "name": "stdout",
     "output_type": "stream",
     "text": [
      "请输入一个大于0的整数，作为神秘整数6\n",
      "设定猜测次数5\n",
      "设定猜测上界60\n",
      "15\n",
      "一共可以猜 5 次\n",
      "计算机已经猜了 1 次\n",
      "计算机猜大了\n",
      "9\n",
      "一共可以猜 5 次\n",
      "计算机已经猜了 2 次\n",
      "计算机猜大了\n",
      "7\n",
      "一共可以猜 5 次\n",
      "计算机已经猜了 3 次\n",
      "计算机猜大了\n",
      "1\n",
      "一共可以猜 5 次\n",
      "计算机已经猜了 4 次\n",
      "计算机猜小了\n",
      "2\n",
      "一共可以猜 5 次\n",
      "计算机已经猜了 5 次\n",
      "计算机猜小了\n",
      "计算机没猜到！\n",
      "Win!\n"
     ]
    }
   ],
   "source": [
    "#挑战性练习\n",
    "import random, math\n",
    "\n",
    "def win():\n",
    "    print('Win!')\n",
    "    \n",
    "def lose():\n",
    "    print('Lose!')\n",
    "    \n",
    "def guess_game():\n",
    "    n = int(input('请输入一个大于0的整数，作为神秘整数'))\n",
    "    max_times = int(input('设定猜测次数'))\n",
    "    m=int(input('设定猜测上界'))\n",
    "    guess_times = 0\n",
    "    p=1\n",
    "    while guess_times < max_times:\n",
    "        guess = random.randint(p,m)\n",
    "        guess_times += 1\n",
    "        print(guess)\n",
    "        print('一共可以猜', max_times, '次')\n",
    "        print('计算机已经猜了', guess_times, '次')\n",
    "        \n",
    "        if guess == n:\n",
    "            lose()\n",
    "            print('神秘数字是：', n)\n",
    "            print('计算机猜的比标准次数少', max_times-guess_times, '次')\n",
    "            break\n",
    "        elif guess > n:\n",
    "            print('计算机猜大了')\n",
    "            m=guess\n",
    "        else:\n",
    "            print('计算机猜小了')\n",
    "            p=guess\n",
    "    else:\n",
    "        print('计算机没猜到！')\n",
    "        win()\n",
    "\n",
    "\n",
    "guess_game()"
   ]
  },
  {
   "cell_type": "code",
   "execution_count": null,
   "metadata": {},
   "outputs": [],
   "source": []
  }
 ],
 "metadata": {
  "kernelspec": {
   "display_name": "Python 3",
   "language": "python",
   "name": "python3"
  },
  "language_info": {
   "codemirror_mode": {
    "name": "ipython",
    "version": 3
   },
   "file_extension": ".py",
   "mimetype": "text/x-python",
   "name": "python",
   "nbconvert_exporter": "python",
   "pygments_lexer": "ipython3",
   "version": "3.6.0"
  }
 },
 "nbformat": 4,
 "nbformat_minor": 2
}
