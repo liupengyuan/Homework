{
 "cells": [
  {
   "cell_type": "markdown",
   "metadata": {},
   "source": [
    "# 练习 1：写程序，可由键盘读入用户姓名例如Mr. right，让用户输入出生的月份与日期，判断用户星座，假设用户是金牛座，则输出，Mr. right，你是非常有性格的金牛座！"
   ]
  },
  {
   "cell_type": "code",
   "execution_count": 1,
   "metadata": {},
   "outputs": [
    {
     "name": "stdout",
     "output_type": "stream",
     "text": [
      "请输入您的姓名：Yuture\n",
      "请输入您的生日（格式如：110、302等）：219\n",
      "Yuture 你是感性的双鱼座！\n"
     ]
    }
   ],
   "source": [
    "n = input('请输入您的姓名：')\n",
    "m = int(input('请输入您的生日（格式如：110、302等）：'))\n",
    "\n",
    "if 320<m<420:\n",
    "    print (n,'你是冒险的白羊座！')\n",
    "elif 419<m<521:\n",
    "    print (n,'你是保守的金牛座！')\n",
    "elif 520<m<622:\n",
    "    print (n,'你是多变的双子座！')\n",
    "elif 621<m<723:\n",
    "    print (n,'你是恋家的巨蟹座！')\n",
    "elif 722<m<823:\n",
    "    print (n,'你是阳光的狮子座！')\n",
    "elif 822<m<923:\n",
    "    print (n,'你是挑剔的处女座！')\n",
    "elif 922<m<1024:\n",
    "    print (n,'你是善良的天秤座！')\n",
    "elif 1023<m<1123:\n",
    "    print (n,'你是残酷的天蝎座！')\n",
    "elif 1122<m<1222:\n",
    "    print (n,'你是乐观的射手座！')\n",
    "elif 1221<m<1231 or 101<m<120:\n",
    "    print (n,'你是高冷的摩羯座！')\n",
    "elif 119<m<219:\n",
    "    print (n,'你是固执的水瓶座！')\n",
    "else:\n",
    "    print (n,'你是感性的双鱼座！')"
   ]
  },
  {
   "cell_type": "markdown",
   "metadata": {},
   "source": [
    "# 练习 2：写程序，可由键盘读入两个整数m与n(n不等于0)，询问用户意图，如果要求和则计算从m到n的和输出，如果要乘积则计算从m到n的积并输出，如果要求余数则计算m除以n的余数的值并输出，否则则计算m整除n的值并输出。"
   ]
  },
  {
   "cell_type": "code",
   "execution_count": 6,
   "metadata": {},
   "outputs": [
    {
     "name": "stdout",
     "output_type": "stream",
     "text": [
      "请输入一个整数：5\n",
      "请再输入一个非零整数：2\n",
      "请输入您想要执行的操作，求和输入1、求积输入2、求余数输入3、求m整除n的值输入4。4\n",
      "2\n"
     ]
    }
   ],
   "source": [
    "m = int(input('请输入一个整数：'))\n",
    "n = int(input('请再输入一个非零整数：'))\n",
    "p = int(input('请输入您想要执行的操作，求和输入1、求积输入2、求余数输入3、求m整除n的值输入4。'))\n",
    "\n",
    "if p == 1:\n",
    "    print (m+n)\n",
    "elif p == 2:\n",
    "    print (m*n)\n",
    "elif p == 3:\n",
    "    print (m%n)\n",
    "else :\n",
    "    print (m//n)"
   ]
  },
  {
   "cell_type": "markdown",
   "metadata": {},
   "source": [
    "# 练习4：英文单词单数转复数，要求输入一个英文单词（单数形式），能够得到其复数形式，或给出单数转复数形式的建议。"
   ]
  },
  {
   "cell_type": "code",
   "execution_count": 23,
   "metadata": {},
   "outputs": [
    {
     "name": "stdout",
     "output_type": "stream",
     "text": [
      "请输入一个英文单词的单数形式：fox\n",
      "fox es\n"
     ]
    }
   ],
   "source": [
    "n = input('请输入一个英文单词的单数形式：')\n",
    "\n",
    "if n.endswith('o'):\n",
    "    print (n,'s')\n",
    "elif n.endswith('y'):\n",
    "    print (n,'变y为i+es')\n",
    "elif n.endswith('f'):\n",
    "    print (n,'变f为v+es')\n",
    "elif n.endswith('fe'):\n",
    "    print (n,'变fe为ve+s')\n",
    "elif n.endswith('s'):\n",
    "    print (n,'es')\n",
    "elif n.endswith('x'):\n",
    "    print (n,'es')\n",
    "elif n.endswith('sh'):\n",
    "    print (n,'es')\n",
    "elif n.endswith('ch'):\n",
    "    print (n,'es')\n",
    "else:\n",
    "    print (n,'s')"
   ]
  },
  {
   "cell_type": "markdown",
   "metadata": {},
   "source": [
    "# 尝试性练习：写程序，能够在屏幕上显示空行。"
   ]
  },
  {
   "cell_type": "code",
   "execution_count": 25,
   "metadata": {},
   "outputs": [
    {
     "name": "stdout",
     "output_type": "stream",
     "text": [
      "hello\n",
      "\n",
      "world\n"
     ]
    }
   ],
   "source": [
    "print ('hello')\n",
    "print ('')\n",
    "print ('world')"
   ]
  }
 ],
 "metadata": {
  "kernelspec": {
   "display_name": "Python 3",
   "language": "python",
   "name": "python3"
  },
  "language_info": {
   "codemirror_mode": {
    "name": "ipython",
    "version": 3
   },
   "file_extension": ".py",
   "mimetype": "text/x-python",
   "name": "python",
   "nbconvert_exporter": "python",
   "pygments_lexer": "ipython3",
   "version": "3.6.0"
  }
 },
 "nbformat": 4,
 "nbformat_minor": 2
}
