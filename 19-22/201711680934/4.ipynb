{
 "cells": [
  {
   "cell_type": "code",
   "execution_count": 17,
   "metadata": {},
   "outputs": [
    {
     "name": "stdout",
     "output_type": "stream",
     "text": [
      "请输入第一个数m,以回车键结束。2\n",
      "请输入第二个数n，以回车键结束。3\n",
      "请输入第三个数k，以回车键结束。5\n",
      "m!+n!+k!= 128\n"
     ]
    }
   ],
   "source": [
    "# 练习 1：仿照求教程中4的完整代码，写程序，可求m!+n!+k!\n",
    "\n",
    "def my_mul(m):\n",
    "    i = 0\n",
    "    total_mul = 1\n",
    "    while i < m:\n",
    "        i = i + 1\n",
    "        total_mul = total_mul * i\n",
    "    return total_mul\n",
    "\n",
    "m = int(input('请输入第一个数m,以回车键结束。'))\n",
    "n = int(input('请输入第二个数n，以回车键结束。'))\n",
    "k = int(input('请输入第三个数k，以回车键结束。'))\n",
    "\n",
    "print ('m!+n!+k!=',my_mul(m) + my_mul(n) + my_mul(k))"
   ]
  },
  {
   "cell_type": "code",
   "execution_count": 19,
   "metadata": {},
   "outputs": [
    {
     "name": "stdout",
     "output_type": "stream",
     "text": [
      "3.1425916543395442\n",
      "3.1416926435905346\n"
     ]
    }
   ],
   "source": [
    "# 练习 2：写函数可返回1 - 1/3 + 1/5 - 1/7...的前n项的和。在主程序中，分别令n=1000及100000，打印4倍该函数的和。\n",
    "\n",
    "def my_number(n):\n",
    "    i = 0\n",
    "    total_number = 0\n",
    "    while i <= n:\n",
    "        i = i + 1\n",
    "        if i%2 == 0:\n",
    "            total_number = total_number + -1/(2*i-1)\n",
    "        else:\n",
    "            total_number = total_number + 1/(2*i-1)\n",
    "   \n",
    "    return total_number\n",
    "\n",
    "n = 1000\n",
    "print (4*my_number(n))\n",
    "\n",
    "n = 10000\n",
    "print (4*my_number(n))"
   ]
  },
  {
   "cell_type": "code",
   "execution_count": 36,
   "metadata": {
    "scrolled": true
   },
   "outputs": [
    {
     "name": "stdout",
     "output_type": "stream",
     "text": [
      "您好，请输入您的姓名：Yuture\n",
      "请输入您的生日（格式如：1.10、3.02等）：2.19\n",
      "Yuture 你是感性的双鱼座！\n",
      "请输入一个英文单词的单数形式：fox\n",
      "fox es\n"
     ]
    }
   ],
   "source": [
    "# 练习3：将task3中的练习1及练习4改写为函数，并进行调用。\n",
    "\n",
    "n = input('您好，请输入您的姓名：')\n",
    "\n",
    "def constellation(m):\n",
    "    k = 0\n",
    "    if 3.20<m<4.20:\n",
    "        k = print (n,'你是冒险的白羊座！')\n",
    "    elif 4.19<m<5.21:\n",
    "        k = print (n,'你是保守的金牛座！')\n",
    "    elif 5.20<m<6.22:\n",
    "        k = print (n,'你是多变的双子座！')\n",
    "    elif 6.21<m<7.23:\n",
    "        k = print (n,'你是恋家的巨蟹座！')\n",
    "    elif 7.22<m<8.23:\n",
    "        k = print (n,'你是阳光的狮子座！')\n",
    "    elif 8.22<m<9.23:\n",
    "        k = print (n,'你是挑剔的处女座！')\n",
    "    elif 9.22<m<10.24:\n",
    "        k = print (n,'你是善良的天秤座！')\n",
    "    elif 10.23<m<11.23:\n",
    "        k = print (n,'你是残酷的天蝎座！')\n",
    "    elif 11.22<m<12.22:\n",
    "        k = print (n,'你是乐观的射手座！')\n",
    "    elif 12.21<m<12.31 or 1.01<m<1.20:\n",
    "        k = print (n,'你是高冷的摩羯座！')\n",
    "    elif 1.19<m<2.19:\n",
    "        k = print (n,'你是固执的水瓶座！')\n",
    "    elif 2.18<m<3.21:\n",
    "        k = print (n,'你是感性的双鱼座！')\n",
    "    else:\n",
    "        k = print (n,'你的生日不存在！')\n",
    "    return k\n",
    "\n",
    "c = float(input('请输入您的生日（格式如：1.10、3.02等）：'))\n",
    "constellation(c)\n",
    "\n",
    "def plural(m):\n",
    "    p = 0\n",
    "    if n.endswith('o'):\n",
    "        p = print (n,'s')\n",
    "    elif n.endswith('y'):\n",
    "        p = print (n,'变y为i+es')\n",
    "    elif n.endswith('f'):\n",
    "        p = print (n,'变f为v+es')\n",
    "    elif n.endswith('fe'):\n",
    "        p = print (n,'变fe为ve+s')\n",
    "    elif n.endswith('s'):\n",
    "        p = print (n,'es')\n",
    "    elif n.endswith('x'):\n",
    "        p = print (n,'es')\n",
    "    elif n.endswith('sh'):\n",
    "        p = print (n,'es')\n",
    "    elif n.endswith('ch'):\n",
    "        p = print (n,'es')\n",
    "    else:\n",
    "        p = print (n,'s')\n",
    "    return p\n",
    "\n",
    "n = input('请输入一个英文单词的单数形式：')\n",
    "plural(n)"
   ]
  },
  {
   "cell_type": "code",
   "execution_count": 1,
   "metadata": {},
   "outputs": [
    {
     "name": "stdout",
     "output_type": "stream",
     "text": [
      "请输入间隔数，以回车结束2\n",
      "请输入求和数列首项，以回车结束2\n",
      "请输入求和数列末项，以回车结束5\n",
      "您输入的数字不符合规定\n"
     ]
    },
    {
     "data": {
      "text/plain": [
       "0"
      ]
     },
     "execution_count": 1,
     "metadata": {},
     "output_type": "execute_result"
    }
   ],
   "source": [
    "# 挑战性练习：写程序，可以求从整数m到整数n累加的和，间隔为k，求和部分需用函数实现，主程序中由用户输入m,n，k，调用函数验证正确性。\n",
    "\n",
    "def anthmetic(n):\n",
    "    m = 0\n",
    "    total = 0\n",
    "    if (n-m)%k == 0:\n",
    "        while m < n:\n",
    "            m = m+k\n",
    "            total = total + m\n",
    "    else:\n",
    "        print('您输入的数字不符合规定')\n",
    "    return total\n",
    "\n",
    "k = int(input('请输入间隔数，以回车结束'))\n",
    "m = int(input('请输入求和数列首项，以回车结束'))\n",
    "n = int(input('请输入求和数列末项，以回车结束'))\n",
    "anthmetic(n)"
   ]
  }
 ],
 "metadata": {
  "kernelspec": {
   "display_name": "Python 3",
   "language": "python",
   "name": "python3"
  },
  "language_info": {
   "codemirror_mode": {
    "name": "ipython",
    "version": 3
   },
   "file_extension": ".py",
   "mimetype": "text/x-python",
   "name": "python",
   "nbconvert_exporter": "python",
   "pygments_lexer": "ipython3",
   "version": "3.6.0"
  }
 },
 "nbformat": 4,
 "nbformat_minor": 2
}
