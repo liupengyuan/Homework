{
 "cells": [
  {
   "cell_type": "code",
   "execution_count": 2,
   "metadata": {},
   "outputs": [
    {
     "name": "stdout",
     "output_type": "stream",
     "text": [
      "电脑选取的成语是: 雨过天晴\n",
      "请输入您接龙的成语：晴天霹雳\n",
      "回答错误，游戏结束！\n",
      "电脑的得分为： 0 分\n",
      "您的得分为： 0 分\n",
      "平手！\n"
     ]
    }
   ],
   "source": [
    "fh = open(r'C:\\temp\\成语大全.txt')\n",
    "text = fh.read()\n",
    "fh.close()\n",
    "text = text.replace('、','')\n",
    "\n",
    "computer = 0\n",
    "human = 0\n",
    "\n",
    "import random\n",
    "\n",
    "idioms = text.split()\n",
    "idiom = random.choice(idioms)\n",
    "print('电脑选取的成语是:',idiom)\n",
    "chs = [ch for ch in idiom]\n",
    "i = len(chs)\n",
    "ch = chs[i-1]\n",
    "\n",
    "your_idiom = input('请输入您接龙的成语：')\n",
    "your_chs = [ch for ch in your_idiom]\n",
    "your_ch = your_chs[0]\n",
    "\n",
    "if your_ch == ch and your_idiom in idioms:\n",
    "    human += 10\n",
    "    print('恭喜您，回答正确！')\n",
    "    chs = [ch for ch in your_idiom]\n",
    "    i = len(your_chs)\n",
    "    ch = chs[i-1]\n",
    "    com_idioms = []\n",
    "    for idiom in idioms:\n",
    "        chs = [ch for ch in idiom]\n",
    "        if chs[0] == ch:\n",
    "            com_idioms.append(idiom)\n",
    "    com_idiom = random.choice(com_idioms)\n",
    "    print('电脑接的成语是：',com_idiom)\n",
    "    computer += 10\n",
    "    \n",
    "else:\n",
    "    print('回答错误，游戏结束！')\n",
    "    print('电脑的得分为：',computer,'分')\n",
    "    print('您的得分为：',human,'分')\n",
    "    if computer > human:\n",
    "        print('defeat!')\n",
    "    elif computer < human:\n",
    "        print('victory!')\n",
    "    else:\n",
    "        print('平手！')"
   ]
  },
  {
   "cell_type": "code",
   "execution_count": null,
   "metadata": {},
   "outputs": [],
   "source": []
  }
 ],
 "metadata": {
  "kernelspec": {
   "display_name": "Python 3",
   "language": "python",
   "name": "python3"
  },
  "language_info": {
   "codemirror_mode": {
    "name": "ipython",
    "version": 3
   },
   "file_extension": ".py",
   "mimetype": "text/x-python",
   "name": "python",
   "nbconvert_exporter": "python",
   "pygments_lexer": "ipython3",
   "version": "3.6.0"
  }
 },
 "nbformat": 4,
 "nbformat_minor": 2
}
