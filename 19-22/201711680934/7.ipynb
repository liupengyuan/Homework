{
 "cells": [
  {
   "cell_type": "code",
   "execution_count": 3,
   "metadata": {},
   "outputs": [
    {
     "name": "stdout",
     "output_type": "stream",
     "text": [
      "!园花后的妃贵王\n"
     ]
    }
   ],
   "source": [
    "# 练习一：自己定义一个reverse(s)函数，功能返回字符串s的倒序字符串。\n",
    "\n",
    "def reverse(s):\n",
    "    print(s[len(s)::-1])\n",
    "s = '王贵妃的后花园!'\n",
    "reverse(s)"
   ]
  },
  {
   "cell_type": "code",
   "execution_count": 21,
   "metadata": {
    "scrolled": true
   },
   "outputs": [
    {
     "name": "stdout",
     "output_type": "stream",
     "text": [
      "直角三角形：\n",
      "#\n",
      "##\n",
      "###\n",
      "####\n",
      "#####\n",
      "######\n",
      "#######\n",
      "等腰三角形：\n",
      "             #\n",
      "            ###\n",
      "           #####\n",
      "          #######\n",
      "         #########\n",
      "        ###########\n",
      "       #############\n",
      "倒三角形：\n",
      "#######\n",
      "######\n",
      "#####\n",
      "####\n",
      "###\n",
      "##\n",
      "#\n"
     ]
    }
   ],
   "source": [
    "# 练习二：写函数，根据给定符号和行数，打印相应直角三角形，等腰三角形及其他形式的三角形。\n",
    "\n",
    "def triangle(shape,row):\n",
    "    print('直角三角形：')\n",
    "    for i in range(1, row+1):\n",
    "        print(shape*i)\n",
    "    print('等腰三角形：')\n",
    "    for i in range(1,row+1):\n",
    "        print((row*2-i)*' ' + shape*(i*2-1), end='')\n",
    "        print()\n",
    "    print('倒三角形：')\n",
    "    for i in range(1,row+1):\n",
    "        print(shape*(row+1-i))\n",
    "triangle('#',7)"
   ]
  },
  {
   "cell_type": "code",
   "execution_count": 46,
   "metadata": {},
   "outputs": [
    {
     "name": "stdout",
     "output_type": "stream",
     "text": [
      "           *\n",
      "          ***\n",
      "         *****\n",
      "        *******\n",
      "       *********\n",
      "      ***********\n",
      "     *************\n",
      "      ***********\n",
      "       *********\n",
      "        *******\n",
      "         *****\n",
      "          ***\n",
      "           *\n",
      "                         \n",
      "                      * \n",
      "                    ***** \n",
      "                  ********* \n",
      "                ************* \n",
      "              ***************** \n",
      "            ********************* \n",
      "          ************************* \n",
      "            ********************* \n",
      "              ***************** \n",
      "                ************* \n",
      "                  ********* \n",
      "                    ***** \n",
      "                      * \n",
      "                         \n",
      "                                     \n",
      "                                 * \n",
      "                              ******* \n",
      "                           ************* \n",
      "                        ******************* \n",
      "                     ************************* \n",
      "                  ******************************* \n",
      "               ************************************* \n",
      "                  ******************************* \n",
      "                     ************************* \n",
      "                        ******************* \n",
      "                           ************* \n",
      "                              ******* \n",
      "                                 * \n",
      "                                     \n"
     ]
    }
   ],
   "source": [
    "# 练习五：写函数，根据给定符号，打印各种菱形。\n",
    "\n",
    "def rhombus(shape,row):\n",
    "    for i in range(1,row+1):\n",
    "        print((row*2-i)*' ' + shape*(i*2-1), end='')\n",
    "        print()\n",
    "    print((row*2-i-1)*' ' + shape*(i*2+1), end='')\n",
    "    print()\n",
    "    i = row\n",
    "    while i > 0:\n",
    "        print((row*2-i)*' ' + shape*(i*2-1), end='')\n",
    "        print()\n",
    "        i -= 1\n",
    "    \n",
    "    for i in range(0,row+1):\n",
    "        print((row*2-i)*'  ' + shape*(i*4-3), end=' ')\n",
    "        print()\n",
    "    print((row*2-i-1)*'  ' + shape*(i*4+1), end=' ')\n",
    "    print()\n",
    "    i = row\n",
    "    while i >= 0:\n",
    "        print((row*2-i)*'  ' + shape*(i*4-3), end=' ')\n",
    "        print()\n",
    "        i -= 1\n",
    "        \n",
    "    for i in range(0,row+1):\n",
    "        print((row*2-i)*'   ' + shape*(i*6-5), end=' ')\n",
    "        print()\n",
    "    print((row*2-i-1)*'   ' + shape*(i*6+1), end=' ')\n",
    "    print()\n",
    "    i = row\n",
    "    while i >= 0:\n",
    "        print((row*2-i)*'   ' + shape*(i*6-5), end=' ')\n",
    "        print()\n",
    "        i -= 1\n",
    "rhombus('*',6)"
   ]
  }
 ],
 "metadata": {
  "kernelspec": {
   "display_name": "Python 3",
   "language": "python",
   "name": "python3"
  },
  "language_info": {
   "codemirror_mode": {
    "name": "ipython",
    "version": 3
   },
   "file_extension": ".py",
   "mimetype": "text/x-python",
   "name": "python",
   "nbconvert_exporter": "python",
   "pygments_lexer": "ipython3",
   "version": "3.6.0"
  }
 },
 "nbformat": 4,
 "nbformat_minor": 2
}
