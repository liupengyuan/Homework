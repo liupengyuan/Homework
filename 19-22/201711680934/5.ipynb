{
 "cells": [
  {
   "cell_type": "code",
   "execution_count": 3,
   "metadata": {},
   "outputs": [
    {
     "name": "stdout",
     "output_type": "stream",
     "text": [
      "请输入您想计算的整数个数，回车结束：5\n",
      "请输入一个起始整数m，回车结束：1\n",
      "请输入一个比n大的终止整数k，回车结束：99\n",
      "88\n",
      "77\n",
      "55\n",
      "91\n",
      "29\n",
      "这几个数均值为： 85.0\n",
      "他们均值的平方根为： 9.219544457292887\n"
     ]
    }
   ],
   "source": [
    "# 练习 1：写函数，求n个随机整数均值的平方根，整数范围在m与k之间（n,m,k由用户输入）。\n",
    "\n",
    "import random\n",
    "\n",
    "def my_number():\n",
    "    n = int(input('请输入您想计算的整数个数，回车结束：'))\n",
    "    m = int(input('请输入一个起始整数m，回车结束：'))\n",
    "    k = int(input('请输入一个比n大的终止整数k，回车结束：'))\n",
    "    i = 0\n",
    "    total = 0\n",
    "    while i < n:\n",
    "        number = random.randint(n,k)\n",
    "        i += 1\n",
    "        print(number)\n",
    "        total = total + number\n",
    "    print('这几个数均值为：',total/4)\n",
    "    print('他们均值的平方根为：',(total/4)**(1/2))\n",
    "\n",
    "my_number()"
   ]
  },
  {
   "cell_type": "code",
   "execution_count": 4,
   "metadata": {},
   "outputs": [
    {
     "name": "stdout",
     "output_type": "stream",
     "text": [
      "请输入您想计算的整数个数，回车结束：5\n",
      "请输入一个起始整数m，回车结束：1\n",
      "请输入一个比n大的终止整数k，回车结束：99\n",
      "89\n",
      "87\n",
      "60\n",
      "11\n",
      "5\n",
      "它们取对数后的和为： 17.056222235841297\n",
      "它们取对数后的倒数的和为： 1.7293100962958667\n"
     ]
    }
   ],
   "source": [
    "# 练习 2：写函数，共n个随机整数，整数范围在m与k之间，（n,m,k由用户输入）。求1：西格玛log(随机整数)，2：西格玛1/log(随机整数)\n",
    "\n",
    "import random,math\n",
    "\n",
    "def new():\n",
    "    n = int(input('请输入您想计算的整数个数，回车结束：'))\n",
    "    m = int(input('请输入一个起始整数m，回车结束：'))\n",
    "    k = int(input('请输入一个比n大的终止整数k，回车结束：'))\n",
    "    i = 0\n",
    "    total_1 = 0\n",
    "    total_2 = 0\n",
    "    while i < n:\n",
    "        number = random.randint(m,k)\n",
    "        i += 1\n",
    "        print(number)\n",
    "        total_1 = total_1 + math.log(number)\n",
    "        total_2 = total_2 + 1/math.log(number)\n",
    "    print ('它们取对数后的和为：',total_1)\n",
    "    print ('它们取对数后的倒数的和为：',total_2)\n",
    "    \n",
    "new()"
   ]
  },
  {
   "cell_type": "code",
   "execution_count": 12,
   "metadata": {},
   "outputs": [
    {
     "name": "stdout",
     "output_type": "stream",
     "text": [
      "请输入您想求和数的个数，回车结束：4\n",
      "最后的结果是： 6170\n"
     ]
    }
   ],
   "source": [
    "# 练习 3：写函数，求s=a+aa+aaa+aaaa+aa...a的值，其中a是[1,9]之间的随机整数。例如2+22+222+2222+22222(此时共有5个数相加)，几个数相加由键盘输入。\n",
    "\n",
    "import random\n",
    "\n",
    "def number():\n",
    "    m = int(input('请输入您想求和数的个数，回车结束：'))\n",
    "    s = 0\n",
    "    i = 0\n",
    "    p = 0\n",
    "    n = random.randint(1,9)\n",
    "    while i < m:\n",
    "        i += 1\n",
    "        p += 10**(i-1)\n",
    "        s = s + n*p\n",
    "        \n",
    "    print('最后的结果是：', s)\n",
    "\n",
    "number()"
   ]
  },
  {
   "cell_type": "markdown",
   "metadata": {},
   "source": [
    "# 挑战性练习：仿照task5，将猜数游戏改成由用户随便选择一个整数，让计算机来猜测的猜数游戏，要求和task5中人猜测的方法类似，但是人机角色对换，由人来判断猜测是大、小还是相等，请写出完整的猜数游戏。"
   ]
  },
  {
   "cell_type": "code",
   "execution_count": 1,
   "metadata": {},
   "outputs": [
    {
     "name": "stdout",
     "output_type": "stream",
     "text": [
      "请输入一个大于0的整数作为下界，以回车结束。1\n",
      "请输入一个大于0的整数作为上界，以回车结束。222\n",
      "请输入您想的一个整数，范围在m到n间219\n",
      "请输入您想猜测的次数2\n",
      "认为电脑猜大输入1，认为猜小输入2，认为相等输入32\n",
      "一共可以猜测 2 次\n",
      "你已经猜测了 1 次\n",
      "╭(●｀∀´●)╯╰(●’◡’●)╮你真棒！\n",
      "电脑猜测的数是 192\n",
      "你比猜测的次数少 1 次\n",
      "（,,•́ . •̀,,）游戏结束！\n"
     ]
    }
   ],
   "source": [
    "import random, math\n",
    "\n",
    "\n",
    "def win():\n",
    "     print('╭(●｀∀´●)╯╰(●’◡’●)╮你真棒！')\n",
    "    \n",
    "def lose():\n",
    "    print('(｀◕‸◕´+)猜错啦！')\n",
    "\n",
    "def game_over():\n",
    "    print('（,,•́ . •̀,,）游戏结束！')\n",
    "             \n",
    "def guess_game():\n",
    "    m = int(input('请输入一个大于0的整数作为下界，以回车结束。'))\n",
    "    n = int(input('请输入一个大于0的整数作为上界，以回车结束。'))\n",
    "    your_number = int(input('请输入您想的一个整数，范围在m到n间'))\n",
    "    number = random.randint(m, n)\n",
    "    max_times = int(input('请输入您想猜测的次数'))\n",
    "    guess_times = 0\n",
    "    \n",
    "    while guess_times < max_times:\n",
    "        guess = int(input('认为电脑猜大输入1，认为猜小输入2，认为相等输入3'))\n",
    "        guess_times += 1\n",
    "        print('一共可以猜测', max_times, '次')\n",
    "        print('你已经猜测了', guess_times, '次')\n",
    "        \n",
    "        if number < your_number:\n",
    "            if guess == 2:\n",
    "                win()\n",
    "                print('电脑猜测的数是',number)\n",
    "                print('你比猜测的次数少',max_times-guess_times,'次' )\n",
    "                break\n",
    "            else:\n",
    "                lose()\n",
    "    \n",
    "        elif number > your_number:\n",
    "            if guess == 1:\n",
    "                win()\n",
    "                print('电脑猜测的数是',number)\n",
    "                print('你比猜测的次数少',max_times-guess_times,'次' )\n",
    "                break\n",
    "            else:\n",
    "                lose()\n",
    "        \n",
    "        else:\n",
    "            if guess == 3:\n",
    "                win()\n",
    "                print('电脑猜测的数是',number)\n",
    "                print('你比猜测的次数少',max_times-guess_times,'次' )\n",
    "                break\n",
    "            else:\n",
    "                lose()\n",
    "    \n",
    "    game_over()\n",
    "    \n",
    "guess_game()"
   ]
  }
 ],
 "metadata": {
  "kernelspec": {
   "display_name": "Python 3",
   "language": "python",
   "name": "python3"
  },
  "language_info": {
   "codemirror_mode": {
    "name": "ipython",
    "version": 3
   },
   "file_extension": ".py",
   "mimetype": "text/x-python",
   "name": "python",
   "nbconvert_exporter": "python",
   "pygments_lexer": "ipython3",
   "version": "3.6.0"
  }
 },
 "nbformat": 4,
 "nbformat_minor": 2
}
