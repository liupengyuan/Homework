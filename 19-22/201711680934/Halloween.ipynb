{
 "cells": [
  {
   "cell_type": "code",
   "execution_count": 14,
   "metadata": {
    "collapsed": true
   },
   "outputs": [],
   "source": [
    "def my_sum(m):\n",
    "    i = 0\n",
    "    total_sum = 0\n",
    "    while i < m:\n",
    "        i = i + 1\n",
    "        total_sum = total_sum + i\n",
    "    \n",
    "    return total_sum\n",
    "\n",
    "def my_mul(n):\n",
    "    i = 0\n",
    "    total_mul = 1\n",
    "    while i < n:\n",
    "        i = i + 1\n",
    "        total_mul = total_mul * i\n",
    "    \n",
    "    return total_mul"
   ]
  },
  {
   "cell_type": "code",
   "execution_count": 15,
   "metadata": {
    "collapsed": false
   },
   "outputs": [
    {
     "name": "stdout",
     "output_type": "stream",
     "text": [
      "请输入第一个数m，以回车结束：8\n",
      "请输入第二个数n，以回车结束：4\n",
      "46\n"
     ]
    }
   ],
   "source": [
    "m = int(input('请输入第一个数m，以回车结束：'))\n",
    "n = int(input('请输入第二个数n，以回车结束：'))\n",
    "\n",
    "if m > n:\n",
    "    print (my_sum(m) + my_sum(n))\n",
    "else:\n",
    "    print (my_mul(m) + my_mul(n))"
   ]
  },
  {
   "cell_type": "code",
   "execution_count": 16,
   "metadata": {
    "collapsed": false
   },
   "outputs": [
    {
     "name": "stdout",
     "output_type": "stream",
     "text": [
      "请输入第一个数m，以回车结束：4\n",
      "请输入第二个数n，以回车结束：8\n",
      "40344\n"
     ]
    }
   ],
   "source": [
    "m = int(input('请输入第一个数m，以回车结束：'))\n",
    "n = int(input('请输入第二个数n，以回车结束：'))\n",
    "\n",
    "if m > n:\n",
    "    print (my_sum(m) + my_sum(n))\n",
    "else:\n",
    "    print (my_mul(m) + my_mul(n))"
   ]
  }
 ],
 "metadata": {
  "kernelspec": {
   "display_name": "Python 3",
   "language": "python",
   "name": "python3"
  },
  "language_info": {
   "codemirror_mode": {
    "name": "ipython",
    "version": 3
   },
   "file_extension": ".py",
   "mimetype": "text/x-python",
   "name": "python",
   "nbconvert_exporter": "python",
   "pygments_lexer": "ipython3",
   "version": "3.6.0"
  }
 },
 "nbformat": 4,
 "nbformat_minor": 2
}
