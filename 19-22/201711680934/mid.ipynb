{
 "cells": [
  {
   "cell_type": "code",
   "execution_count": 3,
   "metadata": {
    "collapsed": false
   },
   "outputs": [
    {
     "name": "stdout",
     "output_type": "stream",
     "text": [
      "请输入您想让多少项求和？5\n",
      "35\n"
     ]
    }
   ],
   "source": [
    "#1#\n",
    "\n",
    "def new_sum(m):\n",
    "    i = 0\n",
    "    each = 0\n",
    "    total = 0 \n",
    "    while i < m:\n",
    "        i += 1\n",
    "        each = each + i\n",
    "        total = total + each\n",
    "    print (total)\n",
    "m = int(input('请输入您想让多少项求和？'))\n",
    "\n",
    "new_sum(m)"
   ]
  },
  {
   "cell_type": "code",
   "execution_count": 1,
   "metadata": {
    "collapsed": false,
    "scrolled": true
   },
   "outputs": [
    {
     "name": "stdout",
     "output_type": "stream",
     "text": [
      "请问您想输入几行？4\n",
      "*\n",
      "***\n",
      "*****\n",
      "*******\n"
     ]
    }
   ],
   "source": [
    "#2#\n",
    "\n",
    "line = '*'\n",
    "row = int(input('请问您想输入几行？'))\n",
    "for i in range(1, row+1):\n",
    "    for j in range(0,2*i-1):\n",
    "        print(line[0], end='')\n",
    "    print()"
   ]
  },
  {
   "cell_type": "code",
   "execution_count": 8,
   "metadata": {
    "collapsed": false
   },
   "outputs": [
    {
     "name": "stdout",
     "output_type": "stream",
     "text": [
      "请输入任意正整数456789\n",
      "4\n"
     ]
    }
   ],
   "source": [
    "#3#\n",
    "\n",
    "def first(n):\n",
    "    m = len(str(n))\n",
    "    f = n//10**(m-1)\n",
    "    print (f)\n",
    "n = int(input('请输入任意正整数'))\n",
    "first(n)"
   ]
  },
  {
   "cell_type": "code",
   "execution_count": 2,
   "metadata": {
    "collapsed": false
   },
   "outputs": [
    {
     "name": "stdout",
     "output_type": "stream",
     "text": [
      "请输入共有多少名队员：9\n",
      "请输入队员身高：183\n",
      "请输入队员身高：185\n",
      "请输入队员身高：183\n",
      "请输入队员身高：187\n",
      "请输入队员身高：178\n",
      "请输入队员身高：175\n",
      "请输入队员身高：177\n",
      "请输入队员身高：190\n",
      "请输入队员身高：172\n",
      "队员平均身高： 181.11111111111111\n",
      "高于平均身高的身高有： 183\n",
      "高于平均身高的身高有： 185\n",
      "高于平均身高的身高有： 183\n",
      "高于平均身高的身高有： 187\n",
      "高于平均身高的身高有： 190\n"
     ]
    }
   ],
   "source": [
    "#4#\n",
    "\n",
    "def team():\n",
    "    i = 0\n",
    "    total = 0\n",
    "    list = []\n",
    "    while i < m:\n",
    "        n = int(input('请输入队员身高：'))\n",
    "        list.append(n)\n",
    "        total = total + n\n",
    "        i += 1\n",
    "    ave = total/m\n",
    "    print ('队员平均身高：',ave)\n",
    "    for n in list:\n",
    "        if n > ave:\n",
    "            print ('高于平均身高的身高有：',n)\n",
    "m = int(input('请输入共有多少名队员：'))\n",
    "\n",
    "team()"
   ]
  },
  {
   "cell_type": "code",
   "execution_count": 4,
   "metadata": {
    "collapsed": false
   },
   "outputs": [
    {
     "name": "stdout",
     "output_type": "stream",
     "text": [
      "a= 9\n",
      "b= 4\n",
      "请计算a+b为：13\n",
      "a= 2\n",
      "b= 6\n",
      "请计算a+b为：8\n",
      "a= 0\n",
      "b= 0\n",
      "请计算a+b为：0\n",
      "a= 8\n",
      "b= 5\n",
      "请计算a+b为：13\n",
      "a= 6\n",
      "b= 1\n",
      "请计算a+b为：7\n",
      "最终得分为： 100\n"
     ]
    }
   ],
   "source": [
    "#5#\n",
    "\n",
    "import random\n",
    "i = 0\n",
    "goal = 0\n",
    "while i < 5:\n",
    "    a = random.randint(0, 10)\n",
    "    b = random.randint(0, 10)\n",
    "    print ('a=',a)\n",
    "    print ('b=',b)\n",
    "    my_sum = int(input('请计算a+b为：'))\n",
    "    if my_sum == a+b:\n",
    "        goal += 20\n",
    "    i += 1\n",
    "print ('最终得分为：',goal)"
   ]
  },
  {
   "cell_type": "code",
   "execution_count": 4,
   "metadata": {
    "collapsed": false
   },
   "outputs": [
    {
     "name": "stdout",
     "output_type": "stream",
     "text": [
      "<class 'list'>\n",
      "数列有几个数：7\n",
      "要输的数：3\n",
      "要输的数：-5\n",
      "要输的数：9\n",
      "要输的数：108\n",
      "要输的数：34\n",
      "要输的数：-76\n",
      "要输的数：88\n",
      "数列有几个数：7\n"
     ]
    },
    {
     "ename": "TypeError",
     "evalue": "'<' not supported between instances of 'str' and 'int'",
     "output_type": "error",
     "traceback": [
      "\u001b[0;31m---------------------------------------------------------------------------\u001b[0m",
      "\u001b[0;31mTypeError\u001b[0m                                 Traceback (most recent call last)",
      "\u001b[0;32m<ipython-input-4-d3c3b6af8796>\u001b[0m in \u001b[0;36m<module>\u001b[0;34m()\u001b[0m\n\u001b[1;32m     15\u001b[0m             \u001b[0mi\u001b[0m \u001b[1;33m-=\u001b[0m \u001b[1;36m1\u001b[0m\u001b[1;33m\u001b[0m\u001b[0m\n\u001b[1;32m     16\u001b[0m \u001b[0mprint\u001b[0m \u001b[1;33m(\u001b[0m\u001b[0mlist\u001b[0m\u001b[1;33m)\u001b[0m\u001b[1;33m\u001b[0m\u001b[0m\n\u001b[0;32m---> 17\u001b[0;31m \u001b[0mrow\u001b[0m\u001b[1;33m(\u001b[0m\u001b[1;33m)\u001b[0m\u001b[1;33m\u001b[0m\u001b[0m\n\u001b[0m",
      "\u001b[0;32m<ipython-input-4-d3c3b6af8796>\u001b[0m in \u001b[0;36mrow\u001b[0;34m()\u001b[0m\n\u001b[1;32m     11\u001b[0m     \u001b[0mp\u001b[0m \u001b[1;33m=\u001b[0m \u001b[0mint\u001b[0m\u001b[1;33m(\u001b[0m\u001b[0minput\u001b[0m\u001b[1;33m(\u001b[0m\u001b[1;34m'数列有几个数：'\u001b[0m\u001b[1;33m)\u001b[0m\u001b[1;33m)\u001b[0m\u001b[1;33m\u001b[0m\u001b[0m\n\u001b[1;32m     12\u001b[0m     \u001b[1;32mwhile\u001b[0m \u001b[0mp\u001b[0m \u001b[1;33m>\u001b[0m \u001b[1;36m0\u001b[0m\u001b[1;33m:\u001b[0m\u001b[1;33m\u001b[0m\u001b[0m\n\u001b[0;32m---> 13\u001b[0;31m         \u001b[1;32mif\u001b[0m \u001b[0mn\u001b[0m \u001b[1;33m<\u001b[0m \u001b[0mp\u001b[0m\u001b[1;33m:\u001b[0m\u001b[1;33m\u001b[0m\u001b[0m\n\u001b[0m\u001b[1;32m     14\u001b[0m             \u001b[0mlist\u001b[0m\u001b[1;33m[\u001b[0m\u001b[0mi\u001b[0m\u001b[1;33m]\u001b[0m\u001b[1;33m=\u001b[0m\u001b[0mn\u001b[0m\u001b[1;33m\u001b[0m\u001b[0m\n\u001b[1;32m     15\u001b[0m             \u001b[0mi\u001b[0m \u001b[1;33m-=\u001b[0m \u001b[1;36m1\u001b[0m\u001b[1;33m\u001b[0m\u001b[0m\n",
      "\u001b[0;31mTypeError\u001b[0m: '<' not supported between instances of 'str' and 'int'"
     ]
    }
   ],
   "source": [
    "#6#\n",
    "\n",
    "def row():\n",
    "    list = []\n",
    "    m = 0\n",
    "    listlen = int(input('数列有几个数：'))\n",
    "    for i in range(listlen):\n",
    "        n = input('要输的数：')\n",
    "        list.append(n)\n",
    "        m += 1\n",
    "    p = int(input('数列有几个数：'))\n",
    "    while p > 0:\n",
    "        if n < p:\n",
    "            list[i]=n \n",
    "            i -= 1\n",
    "print (list)\n",
    "row()"
   ]
  },
  {
   "cell_type": "code",
   "execution_count": null,
   "metadata": {
    "collapsed": true
   },
   "outputs": [],
   "source": []
  }
 ],
 "metadata": {
  "kernelspec": {
   "display_name": "Python 3",
   "language": "python",
   "name": "python3"
  }
 },
 "nbformat": 4,
 "nbformat_minor": 2
}
