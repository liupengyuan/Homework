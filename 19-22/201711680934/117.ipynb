{
 "cells": [
  {
   "cell_type": "code",
   "execution_count": 4,
   "metadata": {
    "collapsed": false
   },
   "outputs": [
    {
     "name": "stdout",
     "output_type": "stream",
     "text": [
      "请输入您想计算的整数个数，回车结束：4\n",
      "请输入一个起始整数n，回车结束：1\n",
      "请输入一个比n大的终止整数k，回车结束：99\n",
      "63\n",
      "66\n",
      "75\n",
      "14\n",
      "这几个数和为： 218\n",
      "他们和的平方根为： 14.7648230602334\n"
     ]
    }
   ],
   "source": [
    "import random\n",
    "\n",
    "def my_number():\n",
    "    m = int(input('请输入您想计算的整数个数，回车结束：'))\n",
    "    n = int(input('请输入一个起始整数n，回车结束：'))\n",
    "    k = int(input('请输入一个比n大的终止整数k，回车结束：'))\n",
    "    i = 0\n",
    "    total = 0\n",
    "    while i < m:\n",
    "        number = random.randint(n,k)\n",
    "        i += 1\n",
    "        print(number)\n",
    "        total = total + number\n",
    "    print('这几个数和为：',total)\n",
    "    print('他们和的平方根为：',total**(1/2))\n",
    "\n",
    "my_number()"
   ]
  },
  {
   "cell_type": "code",
   "execution_count": null,
   "metadata": {
    "collapsed": true
   },
   "outputs": [],
   "source": []
  }
 ],
 "metadata": {
  "kernelspec": {
   "display_name": "Python 3",
   "language": "python",
   "name": "python3"
  },
  "language_info": {
   "codemirror_mode": {
    "name": "ipython",
    "version": 3
   },
   "file_extension": ".py",
   "mimetype": "text/x-python",
   "name": "python",
   "nbconvert_exporter": "python",
   "pygments_lexer": "ipython3",
   "version": "3.6.0"
  }
 },
 "nbformat": 4,
 "nbformat_minor": 2
}
