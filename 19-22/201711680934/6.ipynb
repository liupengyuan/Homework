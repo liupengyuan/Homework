{
 "cells": [
  {
   "cell_type": "code",
   "execution_count": 5,
   "metadata": {},
   "outputs": [
    {
     "name": "stdout",
     "output_type": "stream",
     "text": [
      "请输入您想查询的元素，回车结束；停止输入键入0：59\n",
      "这个元素在 4 位\n"
     ]
    }
   ],
   "source": [
    "# 写函数，返回某个元素/对象在一个list中的位置，如果不在，则返回-1\n",
    "\n",
    "def new_return():\n",
    "    new_list = [219,322,110,59,63,20,397,959,17,9,14,10]\n",
    "    m = int(input('请输入您想查询的元素，回车结束；停止输入键入0：'))\n",
    "    if m in new_list:\n",
    "        i = 0\n",
    "        while m != new_list[i]:\n",
    "            i += 1\n",
    "        while m == new_list[i]:\n",
    "            print('这个元素在',i+1,'位')\n",
    "            break\n",
    "    else:\n",
    "        print('-1')\n",
    "        \n",
    "new_return()"
   ]
  },
  {
   "cell_type": "code",
   "execution_count": 11,
   "metadata": {},
   "outputs": [
    {
     "name": "stdout",
     "output_type": "stream",
     "text": [
      "[1, 5, 2, 6, 3, 7, 4, 8]\n"
     ]
    }
   ],
   "source": [
    "# 写函数，可将两个相同长度的list，间隔插入，生成新的list。例如：给两个list，a=[1,2,3,4], b=[5,6,7,8]。则可以生成：[1,5,2,6,3,7,4,8]。\n",
    "\n",
    "def doublelist():    \n",
    "    a = [1,2,3,4]\n",
    "    b = [5,6,7,8]\n",
    "    i = 0\n",
    "    c = []\n",
    "    while i < len(a):\n",
    "        c.append(a[i])\n",
    "        c.append(b[i])\n",
    "        i += 1\n",
    "    print (c)\n",
    "        \n",
    "doublelist()"
   ]
  },
  {
   "cell_type": "code",
   "execution_count": 17,
   "metadata": {},
   "outputs": [
    {
     "name": "stdout",
     "output_type": "stream",
     "text": [
      "请输入一个正整数作为向量a的横坐标：4\n",
      "请输入一个正整数作为向量a的纵坐标：7\n",
      "请输入一个正整数作为向量b的横坐标：2\n",
      "请输入一个正整数作为向量b的横坐标：9\n",
      "0.9551953674747637\n"
     ]
    }
   ],
   "source": [
    "# 写函数，可求两个向量的夹角余弦值，向量可放在list中。主程序调用该函数。\n",
    "\n",
    "def angle():\n",
    "    x1 = int(input('请输入一个正整数作为向量a的横坐标：'))\n",
    "    y1 = int(input('请输入一个正整数作为向量a的纵坐标：'))\n",
    "    x2 = int(input('请输入一个正整数作为向量b的横坐标：'))\n",
    "    y2 = int(input('请输入一个正整数作为向量b的横坐标：'))\n",
    "    a = [x1,y1]\n",
    "    b = [x2,y2]\n",
    "    m = x1*x2+y1*y2\n",
    "    n = (x1**2+y1**2)**(1/2)\n",
    "    p = (x2**2+y2**2)**(1/2)\n",
    "    cos = m/(n*p)\n",
    "    print (cos)\n",
    "angle()"
   ]
  },
  {
   "cell_type": "markdown",
   "metadata": {},
   "source": [
    "# 挑战性习题：python语言老师为了激励学生学python，自费买了100个完全相同的Macbook Pro，分给三个班级，每个班级至少分5个，用穷举法计算共有多少种分法？"
   ]
  },
  {
   "cell_type": "code",
   "execution_count": null,
   "metadata": {},
   "outputs": [],
   "source": [
    "def macbookpro():\n",
    "    i = 0\n",
    "    for m in range(5,91):\n",
    "        for n in range(5,91):\n",
    "            for p in range(5,91):\n",
    "                while m+n+p == 100:\n",
    "                    i += 1\n",
    "    print('一共有',i,'种分法')\n",
    "    \n",
    "macbookpro()"
   ]
  }
 ],
 "metadata": {
  "kernelspec": {
   "display_name": "Python 3",
   "language": "python",
   "name": "python3"
  },
  "language_info": {
   "codemirror_mode": {
    "name": "ipython",
    "version": 3
   },
   "file_extension": ".py",
   "mimetype": "text/x-python",
   "name": "python",
   "nbconvert_exporter": "python",
   "pygments_lexer": "ipython3",
   "version": "3.6.0"
  }
 },
 "nbformat": 4,
 "nbformat_minor": 2
}
