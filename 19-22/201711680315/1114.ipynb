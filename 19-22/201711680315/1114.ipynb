{
 "cells": [
  {
   "cell_type": "code",
   "execution_count": 18,
   "metadata": {},
   "outputs": [
    {
     "name": "stdout",
     "output_type": "stream",
     "text": [
      "(106.72999999999999, 899, -10)\n"
     ]
    }
   ],
   "source": [
    "def ex1114():\n",
    "    numbers=[1,2,-1,55,100,899,-10,3,12.5,5.8]\n",
    "    i=0\n",
    "    total=0\n",
    "    while i<10:\n",
    "        number=numbers[i]\n",
    "        total+=number\n",
    "        i+=1\n",
    "    average=total/10\n",
    "    number1=number2=numbers[0]\n",
    "    for number in numbers:\n",
    "        if number1<number:\n",
    "            number1=number\n",
    "    for number in numbers:\n",
    "        if number2>number:\n",
    "            number2=number\n",
    "    return average,number1,number2\n",
    "\n",
    "            \n",
    "print(ex1114())\n",
    "\n",
    "        \n",
    "    \n"
   ]
  }
 ],
 "metadata": {
  "kernelspec": {
   "display_name": "Python 3",
   "language": "python",
   "name": "python3"
  },
  "language_info": {
   "codemirror_mode": {
    "name": "ipython",
    "version": 3
   },
   "file_extension": ".py",
   "mimetype": "text/x-python",
   "name": "python",
   "nbconvert_exporter": "python",
   "pygments_lexer": "ipython3",
   "version": "3.6.3"
  }
 },
 "nbformat": 4,
 "nbformat_minor": 2
}
