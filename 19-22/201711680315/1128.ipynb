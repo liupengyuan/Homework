{
 "cells": [
  {
   "cell_type": "code",
   "execution_count": 32,
   "metadata": {},
   "outputs": [
    {
     "name": "stdout",
     "output_type": "stream",
     "text": [
      "a\n",
      "ab\n",
      "abc\n",
      "abcd\n",
      "abcde\n",
      "abcdef\n",
      "abcdefg\n",
      "abcdefgh\n",
      "abcdefghi\n",
      "abcdefghij\n",
      "abcdefghijk\n",
      "abcdefghijkl\n",
      "abcdefghijklm\n",
      "abcdefghijklmn\n",
      "abcdefghijklmno\n",
      "abcdefghijklmnop\n",
      "abcdefghijklmnopq\n",
      "abcdefghijklmnopqr\n",
      "abcdefghijklmnopqrs\n",
      "abcdefghijklmnopqrst\n",
      "abcdefghijklmnopqrstu\n",
      "abcdefghijklmnopqrstuv\n",
      "abcdefghijklmnopqrstuvw\n",
      "abcdefghijklmnopqrstuvwx\n",
      "abcdefghijklmnopqrstuvwxy\n",
      "abcdefghijklmnopqrstuvwxyz\n"
     ]
    }
   ],
   "source": [
    "line='abcdefghijklmnopqrstuvwxyz'\n",
    "for i in range(1,len(line)+1):\n",
    "    if i==1:\n",
    "        print(line[0])       \n",
    "    else:\n",
    "        print(line[:i])\n",
    "    \n",
    "    \n"
   ]
  },
  {
   "cell_type": "code",
   "execution_count": 70,
   "metadata": {},
   "outputs": [
    {
     "name": "stdout",
     "output_type": "stream",
     "text": [
      "请输入需要打印几行10\n",
      "                    *\n",
      "                   * * \n",
      "                  * * * \n",
      "                 * * * * \n",
      "                * * * * * \n",
      "               * * * * * * \n",
      "              * * * * * * * \n",
      "             * * * * * * * * \n",
      "            * * * * * * * * * \n",
      "           * * * * * * * * * * \n"
     ]
    }
   ],
   "source": [
    "number=int(input('请输入需要打印几行'))\n",
    "line = ' * * * * * '\n",
    "for i in range(1, number+1):\n",
    "        if i == 1:\n",
    "            print(' '*(number*2-1) +' '+line[1])\n",
    "        else:\n",
    "            print(' '*(number*2-i) + line[:i] + line[i] + line[i-1::-1])\n"
   ]
  }
 ],
 "metadata": {
  "kernelspec": {
   "display_name": "Python 3",
   "language": "python",
   "name": "python3"
  },
  "language_info": {
   "codemirror_mode": {
    "name": "ipython",
    "version": 3
   },
   "file_extension": ".py",
   "mimetype": "text/x-python",
   "name": "python",
   "nbconvert_exporter": "python",
   "pygments_lexer": "ipython3",
   "version": "3.6.3"
  }
 },
 "nbformat": 4,
 "nbformat_minor": 2
}
