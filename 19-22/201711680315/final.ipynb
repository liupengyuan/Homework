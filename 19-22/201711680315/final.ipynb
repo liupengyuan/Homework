{
 "cells": [
  {
   "cell_type": "code",
   "execution_count": null,
   "metadata": {},
   "outputs": [],
   "source": [
    "#第一题"
   ]
  },
  {
   "cell_type": "code",
   "execution_count": 8,
   "metadata": {},
   "outputs": [
    {
     "name": "stdout",
     "output_type": "stream",
     "text": [
      "                  * ***** *\n",
      "                * * ***** * *\n",
      "              * * * ***** * * *\n",
      "            * * * * ***** * * * *\n",
      "          * * * * * ***** * * * * *\n"
     ]
    }
   ],
   "source": [
    "def picture(x,y):\n",
    "    for i in range(1,6):\n",
    "        print(' '*(25-(5+2*i)) + '* '*i + '*'*5 + ' *'*i)\n",
    "            \n",
    "#主程序\n",
    "picture('*',5)"
   ]
  },
  {
   "cell_type": "code",
   "execution_count": null,
   "metadata": {},
   "outputs": [],
   "source": [
    "#第二题"
   ]
  },
  {
   "cell_type": "code",
   "execution_count": 7,
   "metadata": {},
   "outputs": [
    {
     "name": "stdout",
     "output_type": "stream",
     "text": [
      "4\n"
     ]
    }
   ],
   "source": [
    "def Ackermann(m,n):\n",
    "    if m==0:\n",
    "        result=n+1\n",
    "    elif m>0 and n==0:\n",
    "        while m!=0:\n",
    "            m=m-1\n",
    "            n=1\n",
    "        else:\n",
    "            result=n+1\n",
    "    elif m>0 and n>0:\n",
    "        while m!=0:\n",
    "            m=m-1\n",
    "            while m!=0:\n",
    "                m=m-1\n",
    "                n=n-1\n",
    "            n=n+1\n",
    "        result=n+1\n",
    "\n",
    "    return result\n",
    "    \n",
    "    \n",
    "#主程序\n",
    "print(Ackermann(3,4))\n"
   ]
  },
  {
   "cell_type": "code",
   "execution_count": null,
   "metadata": {},
   "outputs": [],
   "source": [
    "#第三题"
   ]
  },
  {
   "cell_type": "code",
   "execution_count": 7,
   "metadata": {},
   "outputs": [
    {
     "name": "stdout",
     "output_type": "stream",
     "text": [
      "25 + 22\n",
      "9 + 15\n",
      "9 - 3\n",
      "16 * 4\n",
      "10 + 13\n",
      "12 + 3\n",
      "11 + 25\n",
      "19 + 19\n",
      "9 * 4\n",
      "21 * 7\n",
      "15 * 3\n",
      "22 + 15\n",
      "23 + 19\n",
      "7 * 7\n",
      "19 - 6\n"
     ]
    }
   ],
   "source": [
    "import random\n",
    "def question(a,b):\n",
    "    true_result=[]\n",
    "    x1=[]\n",
    "    num1=random.randint(3,25)\n",
    "    num2=random.randint(3,25)\n",
    "    line=['+','-','*','/']\n",
    "    x=random.choice(line)\n",
    "    if x=='+':\n",
    "        result=num1+num2\n",
    "    elif x=='-':\n",
    "        result=num1-num2\n",
    "    elif x=='*':\n",
    "        result=num1*num2\n",
    "    else:\n",
    "        result=num1/num2\n",
    "        \n",
    "    while result<=0 or result%1>0 or result%1<0:\n",
    "        num1=random.randint(3,25)\n",
    "        num2=random.randint(3,25)\n",
    "        line=['+','-','*','/']\n",
    "        x=random.choice(line)\n",
    "        if x=='+':\n",
    "            result=num1+num2\n",
    "        elif x=='-':\n",
    "            result=num1-num2\n",
    "        elif x=='*':\n",
    "            result=num1*num2\n",
    "        else:\n",
    "            result=num1/num2\n",
    "            \n",
    "\n",
    "        \n",
    "    else:\n",
    "        x1.append(x)\n",
    "        true_result.append(result)\n",
    "        print(num1,x,num2)\n",
    "#主函数   \n",
    "for i in range(15):\n",
    "    question(3,25)\n",
    "A=true_result"
   ]
  },
  {
   "cell_type": "code",
   "execution_count": 4,
   "metadata": {},
   "outputs": [
    {
     "name": "stdout",
     "output_type": "stream",
     "text": [
      "1,2,34,5,6,7,8,42,4,34,24,234,324,24,35\n"
     ]
    },
    {
     "ename": "NameError",
     "evalue": "name 'A' is not defined",
     "output_type": "error",
     "traceback": [
      "\u001b[1;31m---------------------------------------------------------------------------\u001b[0m",
      "\u001b[1;31mNameError\u001b[0m                                 Traceback (most recent call last)",
      "\u001b[1;32m<ipython-input-4-4bac8e75f701>\u001b[0m in \u001b[0;36m<module>\u001b[1;34m()\u001b[0m\n\u001b[0;32m     11\u001b[0m     \u001b[1;32mreturn\u001b[0m\u001b[1;33m(\u001b[0m\u001b[0mtotal\u001b[0m\u001b[1;33m)\u001b[0m\u001b[1;33m\u001b[0m\u001b[0m\n\u001b[0;32m     12\u001b[0m \u001b[1;33m\u001b[0m\u001b[0m\n\u001b[1;32m---> 13\u001b[1;33m \u001b[0mprint\u001b[0m\u001b[1;33m(\u001b[0m\u001b[0mscore\u001b[0m\u001b[1;33m(\u001b[0m\u001b[1;33m)\u001b[0m\u001b[1;33m)\u001b[0m\u001b[1;33m\u001b[0m\u001b[0m\n\u001b[0m\u001b[0;32m     14\u001b[0m \u001b[1;33m\u001b[0m\u001b[0m\n",
      "\u001b[1;32m<ipython-input-4-4bac8e75f701>\u001b[0m in \u001b[0;36mscore\u001b[1;34m()\u001b[0m\n\u001b[0;32m      4\u001b[0m     \u001b[0myour_result\u001b[0m\u001b[1;33m=\u001b[0m\u001b[0mlist\u001b[0m\u001b[1;33m(\u001b[0m\u001b[0myour_result\u001b[0m\u001b[1;33m)\u001b[0m\u001b[1;33m\u001b[0m\u001b[0m\n\u001b[0;32m      5\u001b[0m     \u001b[1;32mfor\u001b[0m \u001b[0mi\u001b[0m \u001b[1;32min\u001b[0m \u001b[0mrange\u001b[0m\u001b[1;33m(\u001b[0m\u001b[1;36m15\u001b[0m\u001b[1;33m)\u001b[0m\u001b[1;33m:\u001b[0m\u001b[1;33m\u001b[0m\u001b[0m\n\u001b[1;32m----> 6\u001b[1;33m         \u001b[1;32mif\u001b[0m \u001b[0myour_result\u001b[0m\u001b[1;33m[\u001b[0m\u001b[0mi\u001b[0m\u001b[1;33m]\u001b[0m\u001b[1;33m==\u001b[0m\u001b[0mA\u001b[0m\u001b[1;33m[\u001b[0m\u001b[0mi\u001b[0m\u001b[1;33m]\u001b[0m\u001b[1;33m:\u001b[0m\u001b[1;33m\u001b[0m\u001b[0m\n\u001b[0m\u001b[0;32m      7\u001b[0m             \u001b[1;32mif\u001b[0m \u001b[0mx\u001b[0m\u001b[1;33m[\u001b[0m\u001b[0mi\u001b[0m\u001b[1;33m]\u001b[0m\u001b[1;33m==\u001b[0m\u001b[1;34m'+'\u001b[0m \u001b[1;32mor\u001b[0m \u001b[0mx\u001b[0m\u001b[1;33m[\u001b[0m\u001b[0mi\u001b[0m\u001b[1;33m]\u001b[0m\u001b[1;33m==\u001b[0m\u001b[1;34m'-'\u001b[0m\u001b[1;33m:\u001b[0m\u001b[1;33m\u001b[0m\u001b[0m\n\u001b[0;32m      8\u001b[0m                 \u001b[0mtotal\u001b[0m\u001b[1;33m+=\u001b[0m\u001b[1;36m5\u001b[0m\u001b[1;33m\u001b[0m\u001b[0m\n",
      "\u001b[1;31mNameError\u001b[0m: name 'A' is not defined"
     ]
    }
   ],
   "source": [
    "def score():\n",
    "    your_result=input()\n",
    "    total=0\n",
    "    your_result=list(your_result)\n",
    "    for i in range(15):\n",
    "        if your_result[i]==A[i]:\n",
    "            if x[i]=='+' or x[i]=='-':\n",
    "                total+=5\n",
    "            elif x[i]=='*' or x[i]=='/':\n",
    "                total+=10\n",
    "    return(total)\n",
    "                \n",
    "print(score())\n",
    "        "
   ]
  },
  {
   "cell_type": "code",
   "execution_count": 13,
   "metadata": {},
   "outputs": [
    {
     "name": "stdout",
     "output_type": "stream",
     "text": [
      "3\n",
      "3+2=\n"
     ]
    },
    {
     "ename": "AttributeError",
     "evalue": "'str' object has no attribute 'remove'",
     "output_type": "error",
     "traceback": [
      "\u001b[1;31m---------------------------------------------------------------------------\u001b[0m",
      "\u001b[1;31mAttributeError\u001b[0m                            Traceback (most recent call last)",
      "\u001b[1;32m<ipython-input-13-80dbed2f90cc>\u001b[0m in \u001b[0;36m<module>\u001b[1;34m()\u001b[0m\n\u001b[0;32m      8\u001b[0m     \u001b[1;32mreturn\u001b[0m \u001b[0mtotal\u001b[0m\u001b[1;33m\u001b[0m\u001b[0m\n\u001b[0;32m      9\u001b[0m \u001b[1;33m\u001b[0m\u001b[0m\n\u001b[1;32m---> 10\u001b[1;33m \u001b[0mrobot\u001b[0m\u001b[1;33m(\u001b[0m\u001b[1;33m)\u001b[0m\u001b[1;33m\u001b[0m\u001b[0m\n\u001b[0m",
      "\u001b[1;32m<ipython-input-13-80dbed2f90cc>\u001b[0m in \u001b[0;36mrobot\u001b[1;34m()\u001b[0m\n\u001b[0;32m      3\u001b[0m     \u001b[1;32mfor\u001b[0m \u001b[0mi\u001b[0m \u001b[1;32min\u001b[0m \u001b[0mrange\u001b[0m\u001b[1;33m(\u001b[0m\u001b[0mn\u001b[0m\u001b[1;33m)\u001b[0m\u001b[1;33m:\u001b[0m\u001b[1;33m\u001b[0m\u001b[0m\n\u001b[0;32m      4\u001b[0m         \u001b[0mquestion\u001b[0m\u001b[1;33m=\u001b[0m\u001b[0minput\u001b[0m\u001b[1;33m(\u001b[0m\u001b[1;33m)\u001b[0m\u001b[1;33m\u001b[0m\u001b[0m\n\u001b[1;32m----> 5\u001b[1;33m         \u001b[0mquestion\u001b[0m\u001b[1;33m.\u001b[0m\u001b[0mremove\u001b[0m\u001b[1;33m(\u001b[0m\u001b[1;34m'='\u001b[0m\u001b[1;33m)\u001b[0m\u001b[1;33m\u001b[0m\u001b[0m\n\u001b[0m\u001b[0;32m      6\u001b[0m         \u001b[0mx\u001b[0m\u001b[1;33m=\u001b[0m\u001b[0mquestion\u001b[0m\u001b[1;33m\u001b[0m\u001b[0m\n\u001b[0;32m      7\u001b[0m         \u001b[0mscore\u001b[0m\u001b[1;33m(\u001b[0m\u001b[1;33m)\u001b[0m\u001b[1;33m\u001b[0m\u001b[0m\n",
      "\u001b[1;31mAttributeError\u001b[0m: 'str' object has no attribute 'remove'"
     ]
    }
   ],
   "source": [
    "def robot():\n",
    "    n=int(input())\n",
    "    for i in range(n):\n",
    "        question=input()\n",
    "        question.remove('=')\n",
    "        x=question\n",
    "        score()\n",
    "    return total\n",
    "        \n",
    "robot()        "
   ]
  },
  {
   "cell_type": "code",
   "execution_count": null,
   "metadata": {},
   "outputs": [],
   "source": [
    "#第四题"
   ]
  },
  {
   "cell_type": "code",
   "execution_count": null,
   "metadata": {},
   "outputs": [],
   "source": [
    "#a"
   ]
  },
  {
   "cell_type": "code",
   "execution_count": 13,
   "metadata": {},
   "outputs": [
    {
     "ename": "UnicodeDecodeError",
     "evalue": "'gbk' codec can't decode byte 0x80 in position 69: illegal multibyte sequence",
     "output_type": "error",
     "traceback": [
      "\u001b[1;31m---------------------------------------------------------------------------\u001b[0m",
      "\u001b[1;31mUnicodeDecodeError\u001b[0m                        Traceback (most recent call last)",
      "\u001b[1;32m<ipython-input-13-67a77bb9d465>\u001b[0m in \u001b[0;36m<module>\u001b[1;34m()\u001b[0m\n\u001b[0;32m      1\u001b[0m \u001b[1;32mwith\u001b[0m \u001b[0mopen\u001b[0m\u001b[1;33m(\u001b[0m\u001b[1;34mr'd:\\temp\\utf8.txt'\u001b[0m\u001b[1;33m)\u001b[0m \u001b[1;32mas\u001b[0m \u001b[0mf\u001b[0m\u001b[1;33m:\u001b[0m\u001b[1;33m\u001b[0m\u001b[0m\n\u001b[1;32m----> 2\u001b[1;33m           \u001b[0mtext\u001b[0m\u001b[1;33m=\u001b[0m\u001b[0mf\u001b[0m\u001b[1;33m.\u001b[0m\u001b[0mread\u001b[0m\u001b[1;33m(\u001b[0m\u001b[1;33m)\u001b[0m\u001b[1;33m\u001b[0m\u001b[0m\n\u001b[0m\u001b[0;32m      3\u001b[0m \u001b[0mA\u001b[0m\u001b[1;33m=\u001b[0m\u001b[1;33m{\u001b[0m\u001b[1;33m}\u001b[0m\u001b[1;33m\u001b[0m\u001b[0m\n\u001b[0;32m      4\u001b[0m \u001b[0ma\u001b[0m\u001b[1;33m=\u001b[0m\u001b[0mtext\u001b[0m\u001b[1;33m.\u001b[0m\u001b[0mspilt\u001b[0m\u001b[1;33m(\u001b[0m\u001b[1;33m)\u001b[0m\u001b[1;33m\u001b[0m\u001b[0m\n\u001b[0;32m      5\u001b[0m \u001b[0mprint\u001b[0m\u001b[1;33m(\u001b[0m\u001b[0ma\u001b[0m\u001b[1;33m)\u001b[0m\u001b[1;33m\u001b[0m\u001b[0m\n",
      "\u001b[1;31mUnicodeDecodeError\u001b[0m: 'gbk' codec can't decode byte 0x80 in position 69: illegal multibyte sequence"
     ]
    }
   ],
   "source": [
    "with open(r'd:\\temp\\utf8.txt') as f:\n",
    "          text=f.read()\n",
    "A={}\n",
    "a=text.spilt()\n",
    "print(a)\n",
    "\n",
    "          \n",
    "          "
   ]
  },
  {
   "cell_type": "code",
   "execution_count": null,
   "metadata": {},
   "outputs": [],
   "source": [
    "#b"
   ]
  },
  {
   "cell_type": "code",
   "execution_count": 12,
   "metadata": {},
   "outputs": [
    {
     "name": "stdout",
     "output_type": "stream",
     "text": [
      "[1, 1, 1, 1, 1, 1, 1, 1, 1, 1, 1, 1, 1, 1, 1, 1, 1, 1, 1, 1, 1, 1]\n"
     ]
    }
   ],
   "source": [
    "def get_word_table(filename):\n",
    "    text = []\n",
    "    with open(filename) as f:\n",
    "        text1 = f.read()\n",
    "    words = [word.split('/')[0] for word in text1.split()]\n",
    "    for word in words:\n",
    "        if word not in text:\n",
    "            text.append(word)\n",
    "    return text\n",
    "\n",
    "#测试用\n",
    "\n",
    "filename = r'd:\\temp\\语料库.txt'\n",
    "table = get_word_table(filename)\n",
    "\n",
    "text2=get_word_table(filename)\n",
    "with open(r'd:\\temp\\成语.txt') as fh:\n",
    "    text2 = fh.read()\n",
    "    text2 = text1.replace('、', '')\n",
    "A=[]\n",
    "for idiom in text2:\n",
    "    if idiom in text2:\n",
    "        a=text2.count(idiom)\n",
    "        A.append(a)\n",
    "A.sort()\n",
    "print(A[21::-1])"
   ]
  },
  {
   "cell_type": "code",
   "execution_count": null,
   "metadata": {},
   "outputs": [],
   "source": [
    "#c"
   ]
  },
  {
   "cell_type": "code",
   "execution_count": 4,
   "metadata": {},
   "outputs": [
    {
     "data": {
      "text/plain": [
       "[('习近平', [['nrfg', 16]]),\n",
       " ('新年贺词', [['l', 11]]),\n",
       " ('为', [['p', 1097]]),\n",
       " ('人民', [['n', 59]]),\n",
       " ('点', [['m', 195], ['q', 14]]),\n",
       " ('赞', [['v', 28]]),\n",
       " ('发表', [['v', 40]]),\n",
       " ('二', [['m', 56]]),\n",
       " ('〇', [['x', 2]]),\n",
       " ('一', [['m', 432]]),\n",
       " ('五年', [['t', 23]]),\n",
       " ('提出', [['v', 98]]),\n",
       " ('开弓', [['nz', 2]]),\n",
       " ('没有', [['v', 505]]),\n",
       " ('回头', [['v', 4]]),\n",
       " ('箭', [['n', 2]]),\n",
       " ('改革', [['vn', 124]]),\n",
       " ('关头', [['n', 3]]),\n",
       " ('勇者胜', [['i', 3]]),\n",
       " ('新年好', [['l', 2]]),\n",
       " ('“', [['x', 3951]]),\n",
       " ('5', [['x', 76], ['m', 333]]),\n",
       " ('、', [['x', 5262]]),\n",
       " ('4', [['x', 69], ['m', 270]]),\n",
       " ('3', [['x', 92], ['m', 336]]),\n",
       " ('2', [['x', 107], ['m', 272]]),\n",
       " ('1', [['x', 104], ['m', 609]]),\n",
       " ('，', [['x', 27285]]),\n",
       " ('新年快乐', [['l', 5]]),\n",
       " ('！', [['x', 373]]),\n",
       " ('”', [['x', 3937]]),\n",
       " ('今天', [['t', 137]]),\n",
       " ('零时', [['d', 7]]),\n",
       " ('奥林匹克', [['nz', 16]]),\n",
       " ('中心区', [['ns', 6]]),\n",
       " ('主会场', [['n', 6]]),\n",
       " ('梦想', [['n', 38]]),\n",
       " ('辉映', [['v', 1]]),\n",
       " ('冰雪', [['n', 30]]),\n",
       " ('北京', [['ns', 875]]),\n",
       " ('同心', [['n', 1]]),\n",
       " ('欢聚', [['v', 3]]),\n",
       " ('诚邀', [['v', 3]]),\n",
       " ('五环', [['nz', 3]]),\n",
       " ('2015', [['m', 375]]),\n",
       " ('年', [['m', 1846]]),\n",
       " ('新年', [['t', 141]]),\n",
       " ('倒计时', [['n', 12]]),\n",
       " ('活动', [['vn', 273]]),\n",
       " ('举行', [['v', 60]]),\n",
       " ('。', [['x', 11646]]),\n",
       " ('与此同时', [['c', 16]]),\n",
       " ('延庆', [['ns', 9]]),\n",
       " ('八达岭长城', [['ns', 7]]),\n",
       " ('分会场', [['n', 5]]),\n",
       " ('和', [['c', 2049]]),\n",
       " ('张家口', [['nr', 16]]),\n",
       " ('崇礼', [['nrt', 7]]),\n",
       " ('同步', [['d', 16]]),\n",
       " ('联动', [['v', 3]]),\n",
       " ('汇聚', [['v', 7]]),\n",
       " ('起', [['v', 197]]),\n",
       " ('三地', [['j', 8], ['n', 1]]),\n",
       " ('万众', [['n', 3]]),\n",
       " ('对', [['p', 941], ['n', 1]]),\n",
       " ('申办', [['v', 118]]),\n",
       " ('2022', [['m', 48]]),\n",
       " ('冬奥会', [['j', 70]]),\n",
       " ('的', [['uj', 15590]]),\n",
       " ('热情', [['n', 17]]),\n",
       " ('期待', [['v', 47]]),\n",
       " ('首席', [['n', 35]]),\n",
       " ('摄影记者', [['n', 19]]),\n",
       " ('蔡', [['nr', 12]]),\n",
       " ('代征', [['n', 10]]),\n",
       " ('', [['', 384]]),\n",
       " ('摄', [['vg', 73], ['v', 15]]),\n",
       " ('A02', [['eng', 2]]),\n",
       " ('版', [['n', 83]]),\n",
       " ('·', [['x', 418]]),\n",
       " ('要闻', [['n', 9]]),\n",
       " ('时事', [['n', 10]]),\n",
       " ('A03', [['eng', 2]]),\n",
       " ('新闻', [['n', 142]]),\n",
       " ('公积金', [['n', 38]]),\n",
       " ('贷款', [['n', 45]]),\n",
       " ('上限', [['v', 12]]),\n",
       " ('今', [['tg', 12], ['t', 1], ['zg', 3]]),\n",
       " ('起调', [['v', 1]]),\n",
       " ('至', [['p', 282]]),\n",
       " ('120', [['m', 34]]),\n",
       " ('万', [['m', 125]]),\n",
       " ('A06', [['eng', 6]]),\n",
       " ('呼格', [['nr', 32], ['n', 16]]),\n",
       " ('吉勒', [['nrt', 33]]),\n",
       " ('图', [['n', 89]]),\n",
       " ('父母', [['n', 49]]),\n",
       " ('获', [['v', 25]]),\n",
       " ('赔偿', [['v', 44]]),\n",
       " ('206', [['m', 2]]),\n",
       " ('万元', [['m', 243]]),\n",
       " ('A11', [['eng', 2]]),\n",
       " ('国内新闻', [['nz', 6]]),\n",
       " ('一年', [['m', 163]]),\n",
       " ('大', [['a', 399], ['n', 38], ['d', 27], ['m', 1]]),\n",
       " ('涨', [['v', 39], ['n', 3]]),\n",
       " ('千点', [['m', 2]]),\n",
       " ('A股', [['n', 61]]),\n",
       " ('完美', [['a', 20]]),\n",
       " ('收官', [['n', 16]]),\n",
       " ('A15', [['eng', 3]]),\n",
       " ('经济', [['n', 133]]),\n",
       " ('我们', [['r', 608]]),\n",
       " ('各级', [['r', 18]]),\n",
       " ('干部', [['n', 78]]),\n",
       " ('也', [['d', 1518]]),\n",
       " ('是', [['v', 3011]]),\n",
       " ('蛮', [['d', 12]]),\n",
       " ('拼', [['v', 41]]),\n",
       " ('国家', [['n', 250]]),\n",
       " ('主席', [['n', 65]]),\n",
       " ('●', [['x', 142]]),\n",
       " ('向', [['p', 293]]),\n",
       " ('南水北调', [['nz', 8]]),\n",
       " ('40', [['m', 78]]),\n",
       " ('移民', [['n', 4]]),\n",
       " ('致敬', [['v', 2]]),\n",
       " ('我', [['r', 875]]),\n",
       " ('要', [['v', 533]]),\n",
       " ('伟大', [['a', 25]]),\n",
       " ('时间', [['n', 272]]),\n",
       " ('过', [['ug', 238], ['t', 5], ['v', 1]]),\n",
       " ('得', [['ud', 205], ['v', 1]]),\n",
       " ('真快', [['d', 2]]),\n",
       " ('2014', [['m', 611]]),\n",
       " ('就要', [['d', 23]]),\n",
       " ('过去', [['t', 67]]),\n",
       " ('了', [['ul', 3284]]),\n",
       " ('正在', [['t', 139]]),\n",
       " ('走来', [['v', 3]]),\n",
       " ('在', [['p', 3689]]),\n",
       " ('这', [['r', 927]]),\n",
       " ('辞旧迎新', [['l', 3]]),\n",
       " ('时刻', [['n', 16]]),\n",
       " ('全国', [['n', 151]]),\n",
       " ('各族人民', [['l', 2]]),\n",
       " ('香港特别行政区', [['nt', 1]]),\n",
       " ('同胞', [['n', 5]]),\n",
       " ('澳门特别行政区', [['ns', 1]]),\n",
       " ('台湾同胞', [['n', 1]]),\n",
       " ('海外侨胞', [['n', 1]]),\n",
       " ('世界', [['n', 133]]),\n",
       " ('各国', [['r', 16]]),\n",
       " ('各', [['r', 114]]),\n",
       " ('地区', [['n', 97]]),\n",
       " ('朋友', [['n', 95]]),\n",
       " ('们', [['k', 233]]),\n",
       " ('致以', [['v', 1]]),\n",
       " ('祝福', [['nr', 15]]),\n",
       " ('令人难忘', [['i', 5]]),\n",
       " ('锐意', [['v', 1]]),\n",
       " ('推进改革', [['l', 2]]),\n",
       " ('啃下', [['v', 1]]),\n",
       " ('不少', [['d', 100]]),\n",
       " ('硬骨头', [['n', 2]]),\n",
       " ('出台', [['v', 37]]),\n",
       " ('一系列', [['m', 22]]),\n",
       " ('重大', [['a', 50]]),\n",
       " ('举措', [['v', 15]]),\n",
       " ('许多', [['m', 67]]),\n",
       " ('同', [['p', 57], ['n', 2], ['c', 1]]),\n",
       " ('老百姓', [['n', 19]]),\n",
       " ('利益', [['n', 38]]),\n",
       " ('密切相关', [['l', 3]]),\n",
       " ('适应', [['v', 24]]),\n",
       " ('发展', [['vn', 247]]),\n",
       " ('新', [['a', 354], ['n', 33]]),\n",
       " ('常态', [['n', 27]]),\n",
       " ('积极', [['ad', 50]]),\n",
       " ('推动', [['v', 56]]),\n",
       " ('经济社会', [['n', 7]]),\n",
       " ('生活', [['vn', 236]]),\n",
       " ('有', [['v', 1546]]),\n",
       " ('改善', [['v', 33]]),\n",
       " ('12', [['m', 325]]),\n",
       " ('月', [['m', 1021], ['n', 3]]),\n",
       " ('日', [['m', 856], ['j', 1], ['ns', 1]]),\n",
       " ('中线', [['n', 6]]),\n",
       " ('一期', [['d', 11]]),\n",
       " ('工程', [['n', 35]]),\n",
       " ('正式', [['ad', 119]]),\n",
       " ('通水', [['n', 1]]),\n",
       " ('沿线', [['f', 4]]),\n",
       " ('多万', [['m', 6]]),\n",
       " ('人', [['n', 1151]]),\n",
       " ('搬迁', [['v', 2]]),\n",
       " ('这个', [['r', 272]]),\n",
       " ('作出', [['v', 35]]),\n",
       " ('无私奉献', [['i', 3]]),\n",
       " ('他们', [['r', 344]])]"
      ]
     },
     "execution_count": 4,
     "metadata": {},
     "output_type": "execute_result"
    }
   ],
   "source": [
    "result={}\n",
    "with open(r'd:\\temp\\语料库.txt') as f:\n",
    "    for line in f:\n",
    "        words = line.split()\n",
    "        for word in words:\n",
    "            word_pos = word.split('/')\n",
    "            if word_pos[0] in result:\n",
    "                for index,pos_freq in enumerate(result[word_pos[0]]):\n",
    "                    if pos_freq[0] == word_pos[1]:\n",
    "                        result[word_pos[0]][index][1] +=1\n",
    "                        break\n",
    "                else:\n",
    "                    result[word_pos[0]].append([word_pos[1],1])\n",
    "            else:\n",
    "                result[word_pos[0]] = []\n",
    "                result[word_pos[0]].append([word_pos[1],1])\n",
    "list(result.items())[:200]"
   ]
  },
  {
   "cell_type": "code",
   "execution_count": null,
   "metadata": {},
   "outputs": [],
   "source": [
    "#d"
   ]
  }
 ],
 "metadata": {
  "kernelspec": {
   "display_name": "Python 3",
   "language": "python",
   "name": "python3"
  },
  "language_info": {
   "codemirror_mode": {
    "name": "ipython",
    "version": 3
   },
   "file_extension": ".py",
   "mimetype": "text/x-python",
   "name": "python",
   "nbconvert_exporter": "python",
   "pygments_lexer": "ipython3",
   "version": "3.6.3"
  }
 },
 "nbformat": 4,
 "nbformat_minor": 2
}
