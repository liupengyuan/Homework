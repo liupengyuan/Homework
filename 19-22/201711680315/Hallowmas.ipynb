{
 "cells": [
  {
   "cell_type": "code",
   "execution_count": 1,
   "metadata": {},
   "outputs": [
    {
     "name": "stdout",
     "output_type": "stream",
     "text": [
      "请输入一个整数4\n",
      "请输入一个整数5\n",
      "144\n"
     ]
    }
   ],
   "source": [
    "def my_sum(n):\n",
    "    i = 0\n",
    "    total = 0\n",
    "    while i < n:\n",
    "        i = i + 1\n",
    "        total = total + i\n",
    "    return total\n",
    "def my_mul(n):\n",
    "    i=0\n",
    "    mul=1\n",
    "    while i < n:\n",
    "        i = i + 1\n",
    "        mul = mul * i\n",
    "    return mul\n",
    "m=int(input('请输入一个整数'))\n",
    "n=int(input('请输入一个整数'))\n",
    "if m>n:\n",
    "    print(my_sum(m)+my_sum(n))\n",
    "else:\n",
    "    print(my_mul(m)+my_mul(n))\n",
    "\n",
    "    \n",
    "    \n",
    "    \n",
    "    "
   ]
  }
 ],
 "metadata": {
  "kernelspec": {
   "display_name": "Python 3",
   "language": "python",
   "name": "python3"
  },
  "language_info": {
   "codemirror_mode": {
    "name": "ipython",
    "version": 3
   },
   "file_extension": ".py",
   "mimetype": "text/x-python",
   "name": "python",
   "nbconvert_exporter": "python",
   "pygments_lexer": "ipython3",
   "version": "3.6.3"
  }
 },
 "nbformat": 4,
 "nbformat_minor": 2
}
