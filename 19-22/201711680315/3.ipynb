{
 "cells": [
  {
   "cell_type": "code",
   "execution_count": null,
   "metadata": {},
   "outputs": [],
   "source": [
    "练习 1：写程序，可由键盘读入用户姓名例如Mr. right，让用户输入出生的月份与日期，判断用户星座，假设用户是金牛座，\n",
    "则输出，Mr. right，你是非常有性格的金牛座！。"
   ]
  },
  {
   "cell_type": "code",
   "execution_count": 4,
   "metadata": {},
   "outputs": [
    {
     "name": "stdout",
     "output_type": "stream",
     "text": [
      "请输入你的名字:黄晨\n",
      "输入出生的月份与日期4.24\n",
      "黄晨 ,你是非常有性格的金牛座！\n"
     ]
    }
   ],
   "source": [
    "str=input('请输入你的名字:')  #例如Mr.right\n",
    "m=float(input('输入出生的月份与日期') )  #例如四月二十号，则输入：4.20\n",
    "\n",
    "if 3.21<=m<=4.19:\n",
    "    print(str,',你是非常有性格的白羊座！')\n",
    "elif 4.20<=m<=5.20:\n",
    "    print(str,',你是非常有性格的金牛座！')\n",
    "elif 5.21<=m<=6.21:\n",
    "    print(str,',你是非常有性格的双子座！')\n",
    "elif 6.22<=m<=7.22:\n",
    "    print(str,',你是非常有性格的巨蟹座！')\n",
    "elif 7.23<=m<=8.22:\n",
    "    print(str,',你是非常有性格的狮子座！')\n",
    "elif 8.23<=m<=9.22:\n",
    "    print(str,',你是非常有性格的处女座1')\n",
    "elif 9.23<=m<=10.23:\n",
    "    print(str,',你是非常有性格的天秤座!')\n",
    "elif 10.24<=m<=11.22:\n",
    "    print(str,',你是非常有性格的天蝎座!')\n",
    "elif 11.23<=m<=12.21:\n",
    "    print(str,',你是非常有性格的射手座!')\n",
    "elif 12.22<=m<=12.30 or 1.1<=m<=1.19:\n",
    "    print(str,',你是非常有性格的摩羯座!')\n",
    "elif 1.20<=m<=2.18:\n",
    "    print(str,',你是非常有性格的水瓶座!')\n",
    "elif 2.19<=m<=3.20:\n",
    "    print(str,',你是非常有性格的双鱼座!')\n"
   ]
  },
  {
   "cell_type": "code",
   "execution_count": null,
   "metadata": {},
   "outputs": [],
   "source": [
    "练习 2：写程序，可由键盘读入两个整数m与n(n不等于0)，询问用户意图，如果要求和则计算从m到n的和输出，如果要乘积则计\n",
    "算从m到n的积并输出，如果要求余数则计算m除以n的余数的值并输出，否则则计算m整除n的值并输出。"
   ]
  },
  {
   "cell_type": "code",
   "execution_count": 2,
   "metadata": {},
   "outputs": [
    {
     "name": "stdout",
     "output_type": "stream",
     "text": [
      "请输入整数9\n",
      "请输入一个不等于0的整数5\n",
      "请输入你的意图，1(求和)或2(求乘积)或3(求余数)或4(其他)1\n",
      "35\n"
     ]
    }
   ],
   "source": [
    "total=0\n",
    "mul=1\n",
    "m=int(input('请输入整数'))\n",
    "n=int(input('请输入一个不等于0的整数'))\n",
    "i=int(input('请输入你的意图，1(求和)或2(求乘积)或3(求余数)或4(其他)'))\n",
    "if i==1:\n",
    "    if m<n:\n",
    "        while m<=n:\n",
    "            total=total+m\n",
    "            m=m+1\n",
    "        print(total)\n",
    "    elif m>n:\n",
    "        while n<=m:\n",
    "            total=total+n\n",
    "            n=n+1\n",
    "        print(total)\n",
    "    else:\n",
    "        print(m+n)\n",
    "elif i==2:\n",
    "    if m<n:\n",
    "        while m<=n:\n",
    "            mul*=m\n",
    "            m=m+1\n",
    "        print(mul)\n",
    "    elif m>n:\n",
    "        while n<=m:\n",
    "            mul*=n\n",
    "            n=n+1\n",
    "        print(mul)\n",
    "    else:\n",
    "        print(m*n)\n",
    "elif i==3:\n",
    "    print(m%n)\n",
    "else:\n",
    "    print(m//n)\n",
    "        \n",
    "    \n",
    "        \n",
    "        \n",
    "\n"
   ]
  },
  {
   "cell_type": "code",
   "execution_count": null,
   "metadata": {},
   "outputs": [],
   "source": [
    "练习 4：英文单词单数转复数，要求输入一个英文动词（单数形式），能够得到其复数形式，或给出单数转复数形式的建议（提\n",
    "示，some_string.endswith(some_letter)函数可以判断某字符串结尾字符，可尝试运行：'myname'.endswith('me')，liu\n",
    "pengyuan'.endswith('n')）。"
   ]
  },
  {
   "cell_type": "code",
   "execution_count": 7,
   "metadata": {
    "scrolled": true
   },
   "outputs": [
    {
     "name": "stdout",
     "output_type": "stream",
     "text": [
      "请输入一个英文单词(单数形式)wolf\n",
      "wolves\n"
     ]
    }
   ],
   "source": [
    "string=input('请输入一个英文单词(单数形式)')\n",
    "if string.endswith('s'or'sh'or'ch'):\n",
    "    print(string + 'es')\n",
    "elif string.endswith('x'):\n",
    "    print(string + 'es')\n",
    "elif string.endswith('f'):\n",
    "    print(string[:-1] + 'ves')\n",
    "elif string.endswith('fe'):\n",
    "    print(string[:-1] + 'ves')\n",
    "elif string.endswith('y'):\n",
    "    print(string[:-1] + 'ies')\n",
    "else:\n",
    "    print(string + 's')\n",
    "\n"
   ]
  },
  {
   "cell_type": "code",
   "execution_count": null,
   "metadata": {},
   "outputs": [],
   "source": [
    "尝试性练习：写程序，能够在屏幕上显示空行。"
   ]
  },
  {
   "cell_type": "code",
   "execution_count": 4,
   "metadata": {},
   "outputs": [
    {
     "name": "stdout",
     "output_type": "stream",
     "text": [
      "\n",
      "\n",
      "\n",
      "\n",
      "\n",
      "\n",
      "\n"
     ]
    }
   ],
   "source": [
    "print('\\n'*6)"
   ]
  }
 ],
 "metadata": {
  "kernelspec": {
   "display_name": "Python 3",
   "language": "python",
   "name": "python3"
  }
 },
 "nbformat": 4,
 "nbformat_minor": 2
}
