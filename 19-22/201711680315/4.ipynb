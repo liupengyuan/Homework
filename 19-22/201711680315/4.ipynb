{
 "cells": [
  {
   "cell_type": "code",
   "execution_count": null,
   "metadata": {},
   "outputs": [],
   "source": [
    "#练习1：仿照求的完整代码，写程序，可求m!+n!+k!"
   ]
  },
  {
   "cell_type": "code",
   "execution_count": 1,
   "metadata": {},
   "outputs": [
    {
     "name": "stdout",
     "output_type": "stream",
     "text": [
      "请输入第1个整数，以回车结束。4\n",
      "请输入第2个整数，以回车结束。5\n",
      "请输入第3个整数，以回车结束。6\n",
      "m!+n!+k= 864\n"
     ]
    }
   ],
   "source": [
    "def compute_sum(end):\n",
    "    i = 0\n",
    "    mul = 1\n",
    "\n",
    "    while i < end:\n",
    "        i = i + 1\n",
    "        mul = mul * i\n",
    "\n",
    "    return mul\n",
    "\n",
    "m = int(input('请输入第1个整数，以回车结束。'))\n",
    "n = int(input('请输入第2个整数，以回车结束。'))\n",
    "k = int(input('请输入第3个整数，以回车结束。'))\n",
    "\n",
    "print('m!+n!+k=', compute_sum(m) + compute_sum(n) + compute_sum(k))"
   ]
  },
  {
   "cell_type": "code",
   "execution_count": null,
   "metadata": {},
   "outputs": [],
   "source": [
    "#练习 2：写函数可返回1 - 1/3 + 1/5 - 1/7...的前n项的和。在主程序中，分别令n=1000及\n",
    "#100000，打印4倍该函数的和。"
   ]
  },
  {
   "cell_type": "code",
   "execution_count": 1,
   "metadata": {},
   "outputs": [
    {
     "name": "stdout",
     "output_type": "stream",
     "text": [
      "3.140592653839794\n",
      "3.1415826535897198\n"
     ]
    }
   ],
   "source": [
    "def my_sum(n):\n",
    "    i=0\n",
    "    total=0\n",
    "    x=-1\n",
    "    while i<n:\n",
    "        i=i+1\n",
    "        y=1/(x+2)*(-1)**(i+1)\n",
    "        x=x+2\n",
    "        total=total+y\n",
    "    return total\n",
    "print(4*(my_sum(1000)))\n",
    "print(4*(my_sum(100000)))\n",
    "        \n",
    "        \n",
    "    "
   ]
  },
  {
   "cell_type": "code",
   "execution_count": null,
   "metadata": {},
   "outputs": [],
   "source": [
    "#练习 3：将task3中的练习1及练习4改写为函数，并进行调用。"
   ]
  },
  {
   "cell_type": "code",
   "execution_count": 21,
   "metadata": {},
   "outputs": [
    {
     "name": "stdout",
     "output_type": "stream",
     "text": [
      "请输入您的姓名,回车结束黄晨\n",
      "请输入您的出生月份，回车结束4\n",
      "请输入您的出生日期,回车结束24\n",
      "黄晨 ,你是非常有性格的金牛座!\n"
     ]
    }
   ],
   "source": [
    "def birthday(month,day):\n",
    "    if(month==3 and 21<=day<=31) or (month==4 and 1<=day<=19):\n",
    "        result=(',你是非常有性格的白羊座!')\n",
    "    elif(month==4 and 20<=day<=30) or (month==5 and 1<=day<=20):\n",
    "        result=(',你是非常有性格的金牛座!')\n",
    "    elif(month==5 and 21<=day<=31) or (month==6 and 1<=day<=21):\n",
    "        result=(',你是非常有性格的双子座!')\n",
    "    elif(month==6 and 22<=day<=30) or (month==7 and 1<=day<=22):\n",
    "        result=(',你是非常有性格的巨蟹座!')\n",
    "    elif(month==7 and 23<=day<=31) or (month==8 and 1<=day<=22):\n",
    "        result=(',你是非常有性格的狮子座!')\n",
    "    elif(month==8 and 23<=day<=31) or (month==9 and 1<=day<=22):\n",
    "        result=(',你是非常有性格的处女座!')\n",
    "    elif(month==9 and 23<=day<=30) or (month==10 and 1<=day<=23):\n",
    "        result=(',你是非常有性格的天秤座!')\n",
    "    elif(month==10 and 24<=day<=31) or (month==11 and 1<=day<=22):\n",
    "        result=(',你是非常有性格的天蝎座!')\n",
    "    elif(month==11 and 23<=day<=30) or (month==12 and 1<=day<=21):\n",
    "        result=(',你是非常有性格的射手座!')\n",
    "    elif(month==12 and 22<=day<=31) or (month==1 and 1<=day<=19):\n",
    "        result=(',你是非常有性格的摩羯座!')\n",
    "    elif(month==1 and 20<=day<=31) or (month==2 and 1<=day<=18):\n",
    "        result=(',你是非常有性格的水瓶座!')\n",
    "    elif(month==2 and 19<=day<=29) or (month==3 and 1<=day<=20):\n",
    "        result=(',你是非常有性格的双鱼座!')\n",
    "    return result\n",
    "#主程序\n",
    "name=input('请输入您的姓名,回车结束')\n",
    "month=int(input('请输入您的出生月份，回车结束'))\n",
    "day=int(input('请输入您的出生日期,回车结束'))\n",
    "print(name,birthday(month,day))"
   ]
  },
  {
   "cell_type": "code",
   "execution_count": 18,
   "metadata": {},
   "outputs": [
    {
     "name": "stdout",
     "output_type": "stream",
     "text": [
      "请输入一个英文单词(单数形式)photo\n",
      "该名词变为复数时大多直接在末尾加es\n"
     ]
    }
   ],
   "source": [
    "def noun(word):\n",
    "    if word.endswith('s'or'x'or'z'):\n",
    "        word=word+'es'\n",
    "    elif word.endswith('sh'or'ch'):\n",
    "        word=word+'es'\n",
    "    elif word.endswith('y'):\n",
    "        word=('该名词变为复数时大多把y变i加es')\n",
    "    elif word.endswith('o'):\n",
    "        word=('该名词变为复数时大多直接在末尾加es')\n",
    "    elif word.endswith('f'):\n",
    "        word=('该名词变为复数时大多把末尾的f变为v加es')\n",
    "    elif word.endswith('fe'):\n",
    "        word=('该名词变为复数时大多把末尾的fe变为v加es')\n",
    "    else:\n",
    "        word=word+'s'\n",
    "    return word\n",
    "    \n",
    "#主程序\n",
    "word=input('请输入一个英文单词(单数形式)')\n",
    "print(noun(word))"
   ]
  },
  {
   "cell_type": "code",
   "execution_count": null,
   "metadata": {},
   "outputs": [],
   "source": [
    "#挑战性练习：写程序，可以求从整数m到整数n累加的和，间隔为k，求和部分需用函数实现，主程序\n",
    "#中由用户输入m，n，k调用函数验证正确性。"
   ]
  },
  {
   "cell_type": "code",
   "execution_count": 5,
   "metadata": {},
   "outputs": [
    {
     "name": "stdout",
     "output_type": "stream",
     "text": [
      "请输入第1个整数，以回车结束。2\n",
      "请输入第2个整数，以回车结束。14\n",
      "请输入第3个整数，以回车结束。4\n",
      "32\n"
     ]
    }
   ],
   "source": [
    "def _sum(m,n,k):\n",
    "    total=0\n",
    "    i=0\n",
    "    while m+k*i<=n:\n",
    "        x=m+k*i\n",
    "        total=total+x\n",
    "        i=i+1\n",
    "    return total\n",
    "#主程序\n",
    "m = int(input('请输入第1个整数，以回车结束。'))\n",
    "n = int(input('请输入第2个整数，以回车结束。'))\n",
    "k = int(input('请输入第3个整数，以回车结束。'))\n",
    "print(_sum(m,n,k))\n",
    "        \n"
   ]
  }
 ],
 "metadata": {
  "kernelspec": {
   "display_name": "Python 3",
   "language": "python",
   "name": "python3"
  },
  "language_info": {
   "codemirror_mode": {
    "name": "ipython",
    "version": 3
   },
   "file_extension": ".py",
   "mimetype": "text/x-python",
   "name": "python",
   "nbconvert_exporter": "python",
   "pygments_lexer": "ipython3",
   "version": "3.6.3"
  }
 },
 "nbformat": 4,
 "nbformat_minor": 2
}
