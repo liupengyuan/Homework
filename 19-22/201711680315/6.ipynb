{
 "cells": [
  {
   "cell_type": "code",
   "execution_count": null,
   "metadata": {},
   "outputs": [],
   "source": [
    "#1.写函数，返回某个元素/对象在一个list中的位置，如果不在，则返回-1."
   ]
  },
  {
   "cell_type": "code",
   "execution_count": 2,
   "metadata": {
    "scrolled": true
   },
   "outputs": [
    {
     "name": "stdout",
     "output_type": "stream",
     "text": [
      "请输入一个整数，表示将要输入的元素个数，回车结束。5\n",
      "请输入一个元素a\n",
      "请输入一个元素b\n",
      "请输入一个元素c\n",
      "请输入一个元素d\n",
      "请输入一个元素e\n",
      "---------------分界线-----------------\n",
      "请输入一个你想输入的元素e\n",
      "4\n"
     ]
    }
   ],
   "source": [
    "def location():\n",
    "    elements=[]\n",
    "    n = int(input('请输入一个整数，表示将要输入的元素个数，回车结束。'))\n",
    "    \n",
    "    for i in range(n):\n",
    "        element=input('请输入一个元素')\n",
    "        elements.append(element)\n",
    "    print('---------------分界线-----------------')\n",
    "    your_element=input('请输入一个你想输入的元素')\n",
    "    if your_element==elements[i]:\n",
    "        return i\n",
    "    else:\n",
    "        return -1\n",
    "print(location())\n",
    "            \n",
    "            \n",
    "        \n",
    "    \n"
   ]
  },
  {
   "cell_type": "code",
   "execution_count": null,
   "metadata": {},
   "outputs": [],
   "source": [
    "#2.写函数，可将两个相同长度的list，间隔插入，生成新的list。例如：给两个list，a=[1,2,3,\n",
    "#4], b=[5,6,7,8]。则可以生成：[1,5,2,6,3,7,4,8]。"
   ]
  },
  {
   "cell_type": "code",
   "execution_count": 3,
   "metadata": {},
   "outputs": [
    {
     "name": "stdout",
     "output_type": "stream",
     "text": [
      "所要插入的两个list中元素的个数4\n",
      "请输入第一个list中的元素1\n",
      "请输入第一个list中的元素2\n",
      "请输入第一个list中的元素3\n",
      "请输入第一个list中的元素4\n",
      "---------------分界线-----------------\n",
      "请输入第二个list中的元素5\n",
      "请输入第二个list中的元素6\n",
      "请输入第二个list中的元素7\n",
      "请输入第二个list中的元素8\n",
      "新的list: [1, 5, 2, 6, 3, 7, 4, 8]\n"
     ]
    }
   ],
   "source": [
    "def new_list():\n",
    "    a=[]\n",
    "    b=[]\n",
    "    c=[]\n",
    "    n = int(input('所要插入的两个list中元素的个数'))\n",
    "    \n",
    "    for i in range(n):\n",
    "        element=int(input('请输入第一个list中的元素'))\n",
    "        a.append(element)\n",
    "    print('---------------分界线-----------------')\n",
    "    for i in range(n):\n",
    "        element=int(input('请输入第二个list中的元素'))\n",
    "        b.append(element)\n",
    "    \n",
    "    for x in range(len(a)):\n",
    "        y=x\n",
    "        c.append(a[x])\n",
    "        c.append(b[y])\n",
    "    return c\n",
    "print('新的list:',new_list())"
   ]
  },
  {
   "cell_type": "code",
   "execution_count": 2,
   "metadata": {},
   "outputs": [],
   "source": [
    "#3.写函数，可求两个向量的夹角余弦值，向量可放在list中。主程序调用该函数。"
   ]
  },
  {
   "cell_type": "code",
   "execution_count": 1,
   "metadata": {},
   "outputs": [
    {
     "name": "stdout",
     "output_type": "stream",
     "text": [
      "请输入向量2\n",
      "请输入向量2\n",
      "------------分界线--------------\n",
      "请输入向量3\n",
      "请输入向量3\n",
      "1.0\n"
     ]
    }
   ],
   "source": [
    "def cosine(vectors1,vectors2):\n",
    "    result1=0\n",
    "    result2=0\n",
    "    result3=0\n",
    "    for i in range(2):\n",
    "        result1+=vectors1[i-1]*vectors2[i-1] \n",
    "        result2+=vectors1[i-1]**2\n",
    "        result3+=vectors2[i-1]**2\n",
    "    result=result1/((result2*result3)**0.5)\n",
    "    return result\n",
    "#主程序\n",
    "vectors1=[]\n",
    "vectors2=[]\n",
    "for i in range(2):\n",
    "    vector=int(input('请输入向量'))\n",
    "    vectors1.append(vector)\n",
    "print('------------分界线--------------')\n",
    "for i in range(2):\n",
    "    vector=int(input('请输入向量'))\n",
    "    vectors2.append(vector)\n",
    "print(cosine(vectors1,vectors2))\n",
    "    "
   ]
  },
  {
   "cell_type": "code",
   "execution_count": 6,
   "metadata": {},
   "outputs": [],
   "source": [
    "#4.挑战性习题：python语言老师为了激励学生学python，自费买了100个完全相同的Macbook Pro\n",
    "#，分给三个班级，每个班级至少分5个，用穷举法计算共有多少种分法？"
   ]
  },
  {
   "cell_type": "code",
   "execution_count": 5,
   "metadata": {},
   "outputs": [
    {
     "name": "stdout",
     "output_type": "stream",
     "text": [
      "129\n"
     ]
    }
   ],
   "source": [
    "def method():\n",
    "    class1=5\n",
    "    class2=5\n",
    "    class3=5\n",
    "    a=0\n",
    "    b=0\n",
    "    result=0\n",
    "    while class1<=90:\n",
    "        class1+=1\n",
    "        a+=1\n",
    "    while class2+class3<=95:\n",
    "        class2+=1\n",
    "        class3+=1\n",
    "        b+=1\n",
    "    i=a+b\n",
    "    result+=i\n",
    "    return result\n",
    "print(method())\n",
    "        "
   ]
  }
 ],
 "metadata": {
  "kernelspec": {
   "display_name": "Python 3",
   "language": "python",
   "name": "python3"
  },
  "language_info": {
   "codemirror_mode": {
    "name": "ipython",
    "version": 3
   },
   "file_extension": ".py",
   "mimetype": "text/x-python",
   "name": "python",
   "nbconvert_exporter": "python",
   "pygments_lexer": "ipython3",
   "version": "3.6.3"
  }
 },
 "nbformat": 4,
 "nbformat_minor": 2
}
