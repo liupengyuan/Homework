{
 "cells": [
  {
   "cell_type": "code",
   "execution_count": null,
   "metadata": {},
   "outputs": [],
   "source": [
    "#第一题"
   ]
  },
  {
   "cell_type": "code",
   "execution_count": 2,
   "metadata": {},
   "outputs": [
    {
     "name": "stdout",
     "output_type": "stream",
     "text": [
      "请输入计算多少项的和5\n",
      "35\n"
     ]
    }
   ],
   "source": [
    "def sum_(m):\n",
    "    i=0\n",
    "    a=1\n",
    "    total=0\n",
    "    while i<m:\n",
    "        b=a+1\n",
    "        x=a+b\n",
    "        a=b\n",
    "        total+=x\n",
    "        i+=1\n",
    "    return total\n",
    "m=int(input('请输入计算多少项的和'))\n",
    "print(sum_(m))\n",
    "        "
   ]
  },
  {
   "cell_type": "code",
   "execution_count": null,
   "metadata": {},
   "outputs": [],
   "source": [
    "#第二题"
   ]
  },
  {
   "cell_type": "code",
   "execution_count": 35,
   "metadata": {},
   "outputs": [
    {
     "name": "stdout",
     "output_type": "stream",
     "text": [
      "*\n",
      "***\n",
      "*****\n",
      "*******\n",
      "*********\n"
     ]
    }
   ],
   "source": [
    "def picture(x,y):\n",
    "    for i in range(y):\n",
    "        print(x*(1+i*2))\n",
    "picture('*',5)"
   ]
  },
  {
   "cell_type": "code",
   "execution_count": null,
   "metadata": {},
   "outputs": [],
   "source": [
    "#第三题"
   ]
  },
  {
   "cell_type": "code",
   "execution_count": 19,
   "metadata": {},
   "outputs": [
    {
     "name": "stdout",
     "output_type": "stream",
     "text": [
      "请输入该整数的个数14\n",
      "请输入第一个数4\n",
      "请输入第一个数8\n",
      "请输入第一个数7\n",
      "请输入第一个数2\n",
      "请输入第一个数3\n",
      "请输入第一个数4\n",
      "请输入第一个数7\n",
      "请输入第一个数8\n",
      "请输入第一个数2\n",
      "请输入第一个数3\n",
      "请输入第一个数4\n",
      "请输入第一个数4\n",
      "请输入第一个数3\n",
      "请输入第一个数2\n",
      "4\n"
     ]
    }
   ],
   "source": [
    "def number_():\n",
    "    numbers=[]\n",
    "    for i in range(n):\n",
    "        number=int(input('请输入第一个数'))\n",
    "        numbers.append(number)\n",
    "    return numbers[0]\n",
    "    \n",
    "#主程序\n",
    "n=int(input('请输入该整数的个数'))\n",
    "print(number_())    "
   ]
  },
  {
   "cell_type": "code",
   "execution_count": null,
   "metadata": {},
   "outputs": [],
   "source": [
    "#第四题"
   ]
  },
  {
   "cell_type": "code",
   "execution_count": 2,
   "metadata": {},
   "outputs": [
    {
     "name": "stdout",
     "output_type": "stream",
     "text": [
      "请输入队员的身高183\n",
      "请输入队员的身高185\n",
      "请输入队员的身高183\n",
      "请输入队员的身高187\n",
      "请输入队员的身高178\n",
      "请输入队员的身高175\n",
      "请输入队员的身高177\n",
      "请输入队员的身高190\n",
      "请输入队员的身高172\n",
      "183\n",
      "185\n",
      "183\n",
      "187\n",
      "190\n",
      "181.11111111111111\n"
     ]
    }
   ],
   "source": [
    "def height_():\n",
    "    heights=[]\n",
    "    for i in range(9):\n",
    "        height=int(input('请输入队员的身高'))\n",
    "        heights.append(height)\n",
    "    total=0\n",
    "    i=0\n",
    "    while i<9:\n",
    "        total+=heights[i]\n",
    "        i+=1\n",
    "        average=total/9\n",
    "    i=0\n",
    "    for height in heights:\n",
    "        if height>average:\n",
    "            print(height)\n",
    "    return average\n",
    "    \n",
    "\n",
    "\n",
    "print(height_())\n",
    "    \n",
    "\n",
    "    \n",
    "    "
   ]
  },
  {
   "cell_type": "code",
   "execution_count": null,
   "metadata": {},
   "outputs": [],
   "source": [
    "#第五题"
   ]
  },
  {
   "cell_type": "code",
   "execution_count": 27,
   "metadata": {},
   "outputs": [
    {
     "name": "stdout",
     "output_type": "stream",
     "text": [
      "2\n",
      "2\n",
      "请输入m+n的结果4\n",
      "1\n",
      "2\n",
      "请输入m+n的结果3\n",
      "9\n",
      "10\n",
      "请输入m+n的结果19\n",
      "1\n",
      "3\n",
      "请输入m+n的结果4\n",
      "1\n",
      "10\n",
      "请输入m+n的结果11\n",
      "100\n"
     ]
    }
   ],
   "source": [
    "import random\n",
    "def addition_game():\n",
    "    i=0\n",
    "    score=0\n",
    "    while i<5:\n",
    "        m=random.randint(0,10)\n",
    "        n=random.randint(0,10)\n",
    "        result=m+n\n",
    "        i+=1\n",
    "        print(m)\n",
    "        print(n)\n",
    "        your_result=int(input('请输入m+n的结果'))\n",
    "        if result==your_result:\n",
    "            score+=20\n",
    "    return score\n",
    "print(addition_game())\n",
    "        "
   ]
  },
  {
   "cell_type": "code",
   "execution_count": null,
   "metadata": {},
   "outputs": [],
   "source": [
    "#第六题"
   ]
  },
  {
   "cell_type": "code",
   "execution_count": 30,
   "metadata": {},
   "outputs": [
    {
     "name": "stdout",
     "output_type": "stream",
     "text": [
      "请输入测试序列的元素个数7\n",
      "请输入第一个list中的元素3\n",
      "请输入第一个list中的元素-5\n",
      "请输入第一个list中的元素9\n",
      "请输入第一个list中的元素108\n",
      "请输入第一个list中的元素34\n",
      "请输入第一个list中的元素-76\n",
      "请输入第一个list中的元素88\n",
      "[108, -5, 9, 108, 34, -76, -76]\n"
     ]
    }
   ],
   "source": [
    "def list_():\n",
    "    exam_list=[]\n",
    "    n=int(input('请输入测试序列的元素个数'))\n",
    "    for i in range(n):\n",
    "        element=int(input('请输入第一个list中的元素'))\n",
    "        exam_list.append(element)\n",
    "    max_number=exam_list[0]\n",
    "    min_number=exam_list[0]\n",
    "    a=exam_list[0]\n",
    "    b=exam_list[n-1]\n",
    "    for element in exam_list:\n",
    "        if max_number<element:\n",
    "            max_number=element\n",
    "            element=a\n",
    "        if min_number>element:\n",
    "            min_number=element\n",
    "            element=b\n",
    "\n",
    "    exam_list[0]=max_number\n",
    "    exam_list[n-1]=min_number\n",
    "    return exam_list\n",
    "print(list_())\n"
   ]
  }
 ],
 "metadata": {
  "kernelspec": {
   "display_name": "Python 3",
   "language": "python",
   "name": "python3"
  },
  "language_info": {
   "codemirror_mode": {
    "name": "ipython",
    "version": 3
   },
   "file_extension": ".py",
   "mimetype": "text/x-python",
   "name": "python",
   "nbconvert_exporter": "python",
   "pygments_lexer": "ipython3",
   "version": "3.6.3"
  }
 },
 "nbformat": 4,
 "nbformat_minor": 2
}
