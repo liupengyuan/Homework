{
 "cells": [
  {
   "cell_type": "code",
   "execution_count": null,
   "metadata": {},
   "outputs": [],
   "source": [
    "#练习一：自己定义一个reverse(s)函数，功能返回字符串s的倒序字符串。"
   ]
  },
  {
   "cell_type": "code",
   "execution_count": 38,
   "metadata": {},
   "outputs": [
    {
     "name": "stdout",
     "output_type": "stream",
     "text": [
      "abcdefghijk\n",
      "kjihgfedcba\n"
     ]
    }
   ],
   "source": [
    "def reverse(s):\n",
    "    s=str(input())\n",
    "    x=len(s)\n",
    "    print(s[x+1::-1])\n",
    "reverse(s)\n",
    "    "
   ]
  },
  {
   "cell_type": "code",
   "execution_count": 39,
   "metadata": {},
   "outputs": [],
   "source": [
    "#练习二：写函数，根据给定符号和行数，打印相应直角三角形，等腰三角形及其他形式的三角形。"
   ]
  },
  {
   "cell_type": "code",
   "execution_count": 49,
   "metadata": {},
   "outputs": [
    {
     "name": "stdout",
     "output_type": "stream",
     "text": [
      "请输入给定符号*\n",
      "请输入行数9\n",
      "直角三角形:\n",
      "*\n",
      "* *\n",
      "*   *\n",
      "*     *\n",
      "*       *\n",
      "*         *\n",
      "*           *\n",
      "*             *\n",
      "* * * * * * * * * \n",
      "等腰三角形:\n",
      "        *\n",
      "       * *\n",
      "      *   *\n",
      "     *     *\n",
      "    *       *\n",
      "   *         *\n",
      "  *           *\n",
      " *             *\n",
      "* * * * * * * * * \n",
      "钝角三角形:\n",
      "                        *\n",
      "                     * *\n",
      "                  *   *\n",
      "               *     *\n",
      "            *       *\n",
      "         *         *\n",
      "      *           *\n",
      "   *             *\n",
      "* * * * * * * * * \n"
     ]
    }
   ],
   "source": [
    "def triangle(x,n):\n",
    "    line=x*n\n",
    "    a=1\n",
    "    for i in range(1,n+1):\n",
    "        if i==1:\n",
    "            print('直角三角形:')\n",
    "            print(line[0])\n",
    "        elif i<n:\n",
    "            print(line[0] + ' '*(i-a) + line[0])\n",
    "            a-=1\n",
    "        else:\n",
    "            print((x+' ')*n)\n",
    "    for i in range(1,n+1):\n",
    "        if i == 1:\n",
    "            print('等腰三角形:')\n",
    "            print(' '*(n-1) +line[0])\n",
    "        elif i<n:\n",
    "            print(' '*(n-i) + line[0] + ' '*(i*2-3) +line[0])\n",
    "        else:\n",
    "            print((x+' ')*n)\n",
    "    for i in range(1,n+1):\n",
    "        if i == 1:\n",
    "            print('钝角三角形:')\n",
    "            print(' '*(n*2+6) +line[0])\n",
    "        elif i<n:\n",
    "            print('   '*(n-i) + line[0] + ' '*(i*2-3) +line[0])\n",
    "        else:\n",
    "            print((x+' ')*n)\n",
    "        \n",
    "#主程序\n",
    "x=input('请输入给定符号')\n",
    "n=int(input('请输入行数'))\n",
    "triangle(x,n)\n",
    "    \n",
    "    "
   ]
  },
  {
   "cell_type": "code",
   "execution_count": 18,
   "metadata": {},
   "outputs": [],
   "source": [
    "#练习五：写函数，根据给定符号，打印各种菱形。"
   ]
  },
  {
   "cell_type": "code",
   "execution_count": 9,
   "metadata": {},
   "outputs": [
    {
     "name": "stdout",
     "output_type": "stream",
     "text": [
      "请输入给定符号*\n",
      "               *\n",
      "              * *\n",
      "             *   *\n",
      "            *     *\n",
      "           *       *\n",
      "          *         *\n",
      "         *           *\n",
      "        *             *\n",
      "         *           *\n",
      "          *         *\n",
      "           *       *\n",
      "            *     *\n",
      "             *   *\n",
      "              * *\n",
      "               *\n",
      "                              *\n",
      "                            *   *\n",
      "                          *       *\n",
      "                        *           *\n",
      "                      *               *\n",
      "                    *                   *\n",
      "                  *                       *\n",
      "                *                           *\n",
      "                  *                       *\n",
      "                    *                   *\n",
      "                      *               *\n",
      "                        *           *\n",
      "                          *       *\n",
      "                            *   *\n",
      "                              *\n"
     ]
    }
   ],
   "source": [
    "def rhombus(x,n):\n",
    "    line=x*n\n",
    "    for i in range(1,n+1):\n",
    "        if i==1:\n",
    "            print(' '*(n*2-1) +line[0])\n",
    "        else:\n",
    "            print(' '*(n*2-i) + line[0] + ' '*(i*2-3) +line[0])\n",
    "    i=n\n",
    "    while i>2:\n",
    "        i-=1\n",
    "        print(' '*(n*2-i) + line[0] + ' '*(i*2-3) +line[0])\n",
    "    print(' '*(n*2-1) +line[0])\n",
    "    for i in range(1,n+1):\n",
    "        if i==1:\n",
    "            print('  '*(n*2-1) +line[0])\n",
    "        else:\n",
    "            print('  '*(n*2-i) + line[0] + '  '*(i*2-3)+' ' +line[0])\n",
    "    i=n\n",
    "    while i>2:\n",
    "        i-=1\n",
    "        print('  '*(n*2-i) + line[0] + '  '*(i*2-3)+' ' +line[0])\n",
    "    print('  '*(n*2-1) +line[0])\n",
    "#主程序    \n",
    "x=input('请输入给定符号')\n",
    "rhombus(x,8)"
   ]
  }
 ],
 "metadata": {
  "kernelspec": {
   "display_name": "Python 3",
   "language": "python",
   "name": "python3"
  },
  "language_info": {
   "codemirror_mode": {
    "name": "ipython",
    "version": 3
   },
   "file_extension": ".py",
   "mimetype": "text/x-python",
   "name": "python",
   "nbconvert_exporter": "python",
   "pygments_lexer": "ipython3",
   "version": "3.6.3"
  }
 },
 "nbformat": 4,
 "nbformat_minor": 2
}
