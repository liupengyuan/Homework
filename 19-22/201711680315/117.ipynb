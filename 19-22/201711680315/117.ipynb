{
 "cells": [
  {
   "cell_type": "code",
   "execution_count": 1,
   "metadata": {},
   "outputs": [
    {
     "name": "stdout",
     "output_type": "stream",
     "text": [
      "请输入一个整数5\n",
      "请输入一个整数10\n",
      "请输入一个整数500\n",
      "446\n",
      "17\n",
      "258\n",
      "353\n",
      "252\n",
      "36.41428291206625\n"
     ]
    }
   ],
   "source": [
    "import random\n",
    "def main_():\n",
    "    m=int(input('请输入一个整数'))\n",
    "    n=int(input('请输入一个整数'))\n",
    "    k=int(input('请输入一个整数'))\n",
    "    i=0\n",
    "    total=0\n",
    "    if n>k:\n",
    "        n,k=k,n\n",
    "    while i<m:\n",
    "        number=random.randint(n,k)\n",
    "        i=i+1\n",
    "        total=total+number\n",
    "        result=total**(1/2)\n",
    "        print(number)\n",
    "    return result\n",
    "print(main_())"
   ]
  }
 ],
 "metadata": {
  "kernelspec": {
   "display_name": "Python 3",
   "language": "python",
   "name": "python3"
  },
  "language_info": {
   "codemirror_mode": {
    "name": "ipython",
    "version": 3
   },
   "file_extension": ".py",
   "mimetype": "text/x-python",
   "name": "python",
   "nbconvert_exporter": "python",
   "pygments_lexer": "ipython3",
   "version": "3.6.3"
  }
 },
 "nbformat": 4,
 "nbformat_minor": 2
}
