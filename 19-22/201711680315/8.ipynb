{
 "cells": [
  {
   "cell_type": "code",
   "execution_count": 12,
   "metadata": {},
   "outputs": [
    {
     "name": "stdout",
     "output_type": "stream",
     "text": [
      "第一个成语: 万众一心\n",
      "你:心旷神怡\n",
      "电脑: 怡声下气\n",
      "你:气宇轩昂\n",
      "电脑: 昂头阔步\n",
      "你:步步为营\n",
      "电脑: 营私植党\n",
      "你:党同伐异\n",
      "电脑: 异草奇花\n",
      "你:花天酒地\n",
      "电脑: 地平天成\n",
      "你:成群结队\n",
      "电脑,你输了\n",
      "你的得分: 60 电脑的得分: 50\n"
     ]
    }
   ],
   "source": [
    "import random   \n",
    "def game():\n",
    "    computer_score=0\n",
    "    your_score=0\n",
    "    i=1\n",
    "    idiom0=random.choice(idioms)\n",
    "    print('第一个成语:',idiom0)\n",
    "    while i>0:\n",
    "        your_answer=input('你:')\n",
    "        m=len(idiom0)\n",
    "        n=len(your_answer)\n",
    "        x=your_answer[n-1]\n",
    "        y=your_answer[0]\n",
    "        z=idiom0[m-1]\n",
    "        \n",
    "        if your_answer in idioms and y==z :\n",
    "            your_score+=10\n",
    "            computer_idiom=[100]\n",
    "            for idiom in idioms:\n",
    "                if idiom[0]==x:\n",
    "                    computer_idiom.append(idiom)\n",
    "            a=len(computer_idiom)\n",
    "            if a>1:\n",
    "                computer_answer=random.choice(computer_idiom[1:a+1])\n",
    "                computer_score+=10\n",
    "                idiom0=computer_answer\n",
    "                print('电脑:',computer_answer)\n",
    "            else:\n",
    "                i=-1\n",
    "                print('电脑,你输了')\n",
    "        else:\n",
    "            print('对不起,你接龙错误')\n",
    "            i=-1\n",
    "    \n",
    "    print('你的得分:',your_score,'电脑的得分:',computer_score)    \n",
    "#主函数\n",
    "fh=open(r'c:\\temp\\成语大全.txt')\n",
    "text=fh.read()\n",
    "idioms = text.split()\n",
    "fh.close() \n",
    "game()"
   ]
  }
 ],
 "metadata": {
  "kernelspec": {
   "display_name": "Python 3",
   "language": "python",
   "name": "python3"
  },
  "language_info": {
   "codemirror_mode": {
    "name": "ipython",
    "version": 3
   },
   "file_extension": ".py",
   "mimetype": "text/x-python",
   "name": "python",
   "nbconvert_exporter": "python",
   "pygments_lexer": "ipython3",
   "version": "3.6.3"
  }
 },
 "nbformat": 4,
 "nbformat_minor": 2
}
