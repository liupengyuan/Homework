{
 "cells": [
  {
   "cell_type": "code",
   "execution_count": 8,
   "metadata": {},
   "outputs": [
    {
     "name": "stdout",
     "output_type": "stream",
     "text": [
      "请输入你的姓名：张菁\n",
      "请输入你出生的月份：10\n",
      "请输入你出生的日期：22\n",
      "张菁 你是非常有性格的天秤座\n"
     ]
    }
   ],
   "source": [
    "#写程序，可由键盘读入用户姓名例如Mr. right，让用户输入出生的月份与日期，判断用户星座，假设用户是金牛座，\n",
    "#则输出，Mr. right，你是非常有性格的金牛座！。\n",
    "name=input('请输入你的姓名：')\n",
    "n=int(input('请输入你出生的月份：'))\n",
    "m=int(input('请输入你出生的日期：'))\n",
    "if 0<n<2 and m>19:\n",
    "    print(name,'你是非常有性格的水瓶座')\n",
    "elif 0<n<2 and m<20:\n",
    "    print(name,'你是非常有性格的摩羯座')\n",
    "elif 1<n<3 and m<19:\n",
    "    print(name,'你是非常有性格的水瓶座')\n",
    "elif 1<n<3 and m>18:\n",
    "    print(name,'你是非常有性格的双鱼座')\n",
    "elif 2<n<4 and m<21:\n",
    "    print(name,'你是非常有性格的双鱼座')\n",
    "elif 2<n<4 and m>20:\n",
    "    print(name,'你是非常有性格的白羊座')\n",
    "elif 3<n<5 and m<20:\n",
    "    print(name,'你是非常有性格的白羊座')\n",
    "elif 3<n<5 and m>19:\n",
    "    print(name,'你是非常有性格的金牛座')\n",
    "elif 4<n<6 and m<21:\n",
    "    print(name,'你是非常有性格的金牛座')\n",
    "elif 4<n<6 and m>20:\n",
    "    print(name,'你是非常有性格的双子座')\n",
    "elif 5<n<7 and m<22:\n",
    "    print(name,'你是非常有性格的双子座')\n",
    "elif 5<n<7 and m>21:\n",
    "    print(name,'你是非常有性格的巨蟹座')\n",
    "elif 6<n<8 and m<23:\n",
    "    print(name,'你是非常有性格的巨蟹座')\n",
    "elif 6<n<8 and m>22:\n",
    "    print(name,'你是非常有性格的狮子座')\n",
    "elif 7<n<9 and m<23:\n",
    "    print(name,'你是非常有性格的狮子座')\n",
    "elif 7<n<9 and m>24:\n",
    "    print(name,'你是非常有性格的处女座')\n",
    "elif 8<n<10 and m<23:\n",
    "    print(name,'你是非常有性格的处女座')\n",
    "elif 8<n<10 and m>22:\n",
    "    print(name,'你是非常有性格的天秤座')\n",
    "elif 9<n<11 and m<24:\n",
    "    print(name,'你是非常有性格的天秤座')\n",
    "elif 9<n<11 and m>23:\n",
    "    print(name,'你是非常有性格的天蝎座')\n",
    "elif 10<n<12 and m<23:\n",
    "    print(name,'你是非常有性格的天蝎座')\n",
    "elif 10<n<12 and m>22:\n",
    "    print(name,'你是非常有性格的射手座')\n",
    "elif 11<n<13 and m<22:\n",
    "    print(name,'你是非常有性格的射手座')\n",
    "elif 11<n<13 and m>21:\n",
    "    print(name,'你是非常有性格的摩羯座')"
   ]
  },
  {
   "cell_type": "code",
   "execution_count": 7,
   "metadata": {},
   "outputs": [
    {
     "name": "stdout",
     "output_type": "stream",
     "text": [
      "请输入一个整数：10\n",
      "请输入一个正整数：3\n",
      "如果你想计算从m到n的和，请输入：1 ；如说你想计算从m到n的积，请输入：2 ；如果你想计算m除以n的余数的值，请输入：3 ；如果你想计算m整除n的值，请输入：4 3\n",
      "10 除以 3 的余数的值为： 1\n"
     ]
    }
   ],
   "source": [
    "#写程序，可由键盘读入两个整数m与n(n不等于0)，询问用户意图，如果要求和则计算从m到n的和输出，如果要乘积则计算从m到n的积并输出，\n",
    "#如果要求余数则计算m除以n的余数的值并输出，否则则计算m整除n的值并输出。\n",
    "m=int(input('请输入一个整数：'))\n",
    "n=int(input('请输入一个正整数：'))\n",
    "a=int(input('如果你想计算从m到n的和，请输入：1 ；'\n",
    "            '如说你想计算从m到n的积，请输入：2 ；'\n",
    "             '如果你想计算m除以n的余数的值，请输入：3 ；'\n",
    "             '如果你想计算m整除n的值，请输入：4 '))\n",
    "total=m\n",
    "i=0\n",
    "b=m\n",
    "c=n\n",
    "if m<n:\n",
    "    m=m\n",
    "    n=n\n",
    "else:\n",
    "    n=m\n",
    "    m=b\n",
    "    if a<2:\n",
    "        while m<n:\n",
    "            m=m+1\n",
    "            total=total+m\n",
    "        print('从',b,'到',n,'的和为',total)\n",
    "    elif 1<a<3:\n",
    "        while m<n:\n",
    "            m=m+1\n",
    "            total=total*m\n",
    "        print('从',b,'到',n,'的积为',total)\n",
    "    elif 2<a<4:\n",
    "         print(b,'除以',c,'的余数的值为：',b%c)\n",
    "    elif 3<a<5:\n",
    "         print(b,'整除',c,'的值为：',b//c)"
   ]
  },
  {
   "cell_type": "code",
   "execution_count": 32,
   "metadata": {},
   "outputs": [
    {
     "name": "stdout",
     "output_type": "stream",
     "text": [
      "请输入一个英文动词（单数形式）wolf\n",
      "该单词的复数有极大可能是将f改变为v，再加-es\n"
     ]
    }
   ],
   "source": [
    "#英文单词单数转复数，要求输入一个英文动词（单数形式），能够得到其复数形式，或给出单数转复数形式的建议\n",
    "#（提示，some_string.endswith(some_letter)函数可以判断某字符串结尾字符，\n",
    "#可尝试运行：'myname'.endswith('me')，liupengyuan'.endswith('n')）。\n",
    "n=input('请输入一个英文动词（单数形式）')\n",
    "if n.endswith('sh'):\n",
    "    print('该单词的复数有极大可能是',n,'es')\n",
    "elif n.endswith('sh'):\n",
    "    print('该单词的复数有极大可能是',n,'es')\n",
    "elif n.endswith('s'):\n",
    "    print('该单词的复数有极大可能是',n,'es')\n",
    "elif n.endswith('z'):\n",
    "    print('该单词的复数有极大可能是',n,'es')\n",
    "elif n.endswith('x'):\n",
    "    print('该单词的复数有极大可能是',n,'es')\n",
    "elif n.endswith('o'):\n",
    "    print('该单词的复数有极大可能是',n,'es,或者是',n,'s')\n",
    "elif n.endswith('y'):\n",
    "    print('该单词的复数有极大可能是将y改变为i，再加-es')\n",
    "elif n.endswith('f'):\n",
    "    print('该单词的复数有极大可能是将f改变为v，再加-es')\n"
   ]
  },
  {
   "cell_type": "code",
   "execution_count": 42,
   "metadata": {},
   "outputs": [
    {
     "name": "stdout",
     "output_type": "stream",
     "text": [
      "看好了，下面一行是空行\n",
      " \n",
      "\n",
      "看我的空行在上面\n",
      "哈哈哈，空了两行哟\n"
     ]
    }
   ],
   "source": [
    "#写程序，能够在屏幕上显示空行\n",
    "print('看好了，下面一行是空行')\n",
    "print(' ')\n",
    "print('')\n",
    "print('看我的空行在上面')\n",
    "print('哈哈哈，空了两行哟')"
   ]
  },
  {
   "cell_type": "code",
   "execution_count": 43,
   "metadata": {},
   "outputs": [
    {
     "name": "stdout",
     "output_type": "stream",
     "text": [
      "请输入要输入的整数个数，回车结束。10\n",
      "请输入一个整数，回车结束1\n",
      "请输入一个整数，回车结束2\n",
      "请输入一个整数，回车结束3\n",
      "请输入一个整数，回车结束4\n",
      "请输入一个整数，回车结束5\n",
      "请输入一个整数，回车结束6\n",
      "请输入一个整数，回车结束7\n",
      "请输入一个整数，回车结束8\n",
      "请输入一个整数，回车结束9\n",
      "请输入一个整数，回车结束10\n",
      "次大值是： 9\n"
     ]
    }
   ],
   "source": [
    "#写程序，由用户输入一些整数，能够得到几个整数中的次大值(第二大的值)并输出。\n",
    "m = int(input('请输入要输入的整数个数，回车结束。'))\n",
    "max_number = int(input('请输入一个整数，回车结束'))\n",
    "i = 1\n",
    "a=0\n",
    "while i < m:\n",
    "    i += 1\n",
    "    n = int(input('请输入一个整数，回车结束'))\n",
    "    if n > max_number:\n",
    "        a=max_number\n",
    "        max_number=n\n",
    "print('次大值是：', a)"
   ]
  }
 ],
 "metadata": {
  "kernelspec": {
   "display_name": "Python 3",
   "language": "python",
   "name": "python3"
  },
  "language_info": {
   "codemirror_mode": {
    "name": "ipython",
    "version": 3
   },
   "file_extension": ".py",
   "mimetype": "text/x-python",
   "name": "python",
   "nbconvert_exporter": "python",
   "pygments_lexer": "ipython3",
   "version": "3.6.3"
  }
 },
 "nbformat": 4,
 "nbformat_minor": 2
}
