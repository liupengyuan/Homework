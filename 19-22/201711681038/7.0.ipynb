{
 "cells": [
  {
   "cell_type": "code",
   "execution_count": 3,
   "metadata": {},
   "outputs": [
    {
     "data": {
      "text/plain": [
       "[7, 6, 5, 4, 3, 2, 1]"
      ]
     },
     "execution_count": 3,
     "metadata": {},
     "output_type": "execute_result"
    }
   ],
   "source": [
    "#练习一：自己定义一个reverse(s)函数，功能返回字符串s的倒序字符串。\n",
    "def daoxu(s):\n",
    "    list=[]\n",
    "    i=len(s)-1\n",
    "    while i>=0:\n",
    "        list.append(s[i])\n",
    "        i-=1\n",
    "    return list\n",
    "\n",
    "s = [1,2,3,4,5,6,7]\n",
    "daoxu(s)"
   ]
  },
  {
   "cell_type": "code",
   "execution_count": 15,
   "metadata": {},
   "outputs": [
    {
     "name": "stdout",
     "output_type": "stream",
     "text": [
      "\n",
      "* \n",
      "* * \n",
      "* * * \n",
      "* * * * \n",
      "* * * * * \n",
      "* * * * * * \n",
      "       \n",
      "      * \n",
      "     * * \n",
      "    * * * \n",
      "   * * * * \n",
      "  * * * * * \n",
      " * * * * * * \n",
      "                         * \n",
      "                     * * * * * \n",
      "                 * * * * * * * * * \n",
      "             * * * * * * * * * * * * * \n",
      "         * * * * * * * * * * * * * * * * * \n",
      "     * * * * * * * * * * * * * * * * * * * * * \n",
      " * * * * * * * * * * * * * * * * * * * * * * * * * \n"
     ]
    }
   ],
   "source": [
    "#练习二：写函数，根据给定符号和行数，打印相应直角三角形，等腰三角形及其他形式的三角形。\n",
    "def zhijiao(fuhao,n):\n",
    "    for i in range(n+1):\n",
    "        print(fuhao*i)\n",
    "        \n",
    "def dengyao(fuhao,n):\n",
    "    for i in range(n+1):\n",
    "        print(' '*(n-i),fuhao*i)\n",
    "\n",
    "def dunjiao(fuhao,n):\n",
    "    for i in range(n+1):\n",
    "        print(' '*(4*n-4*i),fuhao*(4*i+1))\n",
    "        \n",
    "fuhao='* '\n",
    "n=6\n",
    "#直角\n",
    "zhijiao(fuhao,n)\n",
    "#等腰\n",
    "dengyao(fuhao,n)\n",
    "#钝角\n",
    "dunjiao(fuhao,n)"
   ]
  },
  {
   "cell_type": "code",
   "execution_count": 48,
   "metadata": {},
   "outputs": [
    {
     "name": "stdout",
     "output_type": "stream",
     "text": [
      "请输入行数6\n",
      "请输入菱形的行数（奇数）：7\n",
      "* * * * * * \n",
      "* * * * * * \n",
      "* * * * * * \n",
      "* * * * * * \n",
      "* * * * * * \n",
      "* * * * * * \n",
      "     \n",
      "    * \n",
      "   * * \n",
      "  * * * \n",
      " * * * * \n",
      "  * * * \n",
      "   * * \n",
      "    * \n",
      "         \n",
      "       * \n",
      "     * * * \n",
      "   * * * * * \n",
      " * * * * * * * \n",
      "   * * * * * \n",
      "     * * * \n",
      "       * \n",
      "                 \n",
      "             * \n",
      "         * * * * * \n",
      "     * * * * * * * * * \n",
      " * * * * * * * * * * * * * \n",
      "     * * * * * * * * * \n",
      "         * * * * * \n",
      "             * \n"
     ]
    }
   ],
   "source": [
    "#练习五：写函数，根据给定符号，打印各种菱形。\n",
    "def zheng(fuhao,n):\n",
    "    for i in range(n):\n",
    "        print(fuhao*n)\n",
    "        \n",
    "def lingxing1(fuhao,m):\n",
    "    a=int((m+1)/2)\n",
    "    for i in range(a+1):\n",
    "        print(' '*(a-i),fuhao*i)\n",
    "    for i in range(a-1):\n",
    "        print(' '*(i+1),fuhao*(a-i-1))\n",
    "\n",
    "def lingxing2(fuhao,m):\n",
    "    a=int((m+1)/2)\n",
    "    for i in range(a+1):\n",
    "        print(' '*(a-i)*2,fuhao*(i*2-1))\n",
    "    for i in range(a-1):\n",
    "        print(' '*2*(i+1),fuhao*(2*(a-i-1)-1))\n",
    "        \n",
    "def lingxing3(fuhao,m):\n",
    "    a=int((m+1)/2)\n",
    "    for i in range(a+1):\n",
    "        print(' '*(a-i)*4,fuhao*(i*4-3))\n",
    "    for i in range(a-1):\n",
    "        print(' '*4*(i+1),fuhao*(4*(a-i-1)-3))\n",
    "\n",
    "fuhao='* '\n",
    "n=int(input('请输入行数'))\n",
    "m=int(input('请输入菱形的行数（奇数）：'))\n",
    "#正菱形\n",
    "zheng(fuhao,n)\n",
    "#长菱形\n",
    "lingxing1(fuhao,m)\n",
    "#正立菱形\n",
    "lingxing2(fuhao,m)\n",
    "#宽菱形\n",
    "lingxing3(fuhao,m)"
   ]
  }
 ],
 "metadata": {
  "kernelspec": {
   "display_name": "Python 3",
   "language": "python",
   "name": "python3"
  },
  "language_info": {
   "codemirror_mode": {
    "name": "ipython",
    "version": 3
   },
   "file_extension": ".py",
   "mimetype": "text/x-python",
   "name": "python",
   "nbconvert_exporter": "python",
   "pygments_lexer": "ipython3",
   "version": "3.6.3"
  }
 },
 "nbformat": 4,
 "nbformat_minor": 2
}
