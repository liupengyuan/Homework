{
 "cells": [
  {
   "cell_type": "code",
   "execution_count": 4,
   "metadata": {},
   "outputs": [
    {
     "name": "stdout",
     "output_type": "stream",
     "text": [
      "请输入一个正整数  5\n",
      "请输入一个正整数  10\n",
      "请输入一个正整数  500\n",
      "41.88078318274385\n"
     ]
    }
   ],
   "source": [
    "# 用户从键盘输入数m,n,k,写函数，可利用计算机得到m个从n到k的随机整数。求这m个数和的平方根。\n",
    "import random\n",
    "def pingfanggen(m,n,k):\n",
    "    i=0\n",
    "    total=0\n",
    "    while i<m:\n",
    "        a=random.randint(n,k)\n",
    "        total+=a\n",
    "        i=i+1\n",
    "    b=total**0.5\n",
    "    return b\n",
    "\n",
    "m=int(input('请输入一个正整数  '))\n",
    "n=int(input('请输入一个正整数  '))\n",
    "k=int(input('请输入一个正整数  '))\n",
    "print(pingfanggen(m,n,k))"
   ]
  }
 ],
 "metadata": {
  "kernelspec": {
   "display_name": "Python 3",
   "language": "python",
   "name": "python3"
  },
  "language_info": {
   "codemirror_mode": {
    "name": "ipython",
    "version": 3
   },
   "file_extension": ".py",
   "mimetype": "text/x-python",
   "name": "python",
   "nbconvert_exporter": "python",
   "pygments_lexer": "ipython3",
   "version": "3.6.3"
  }
 },
 "nbformat": 4,
 "nbformat_minor": 2
}
