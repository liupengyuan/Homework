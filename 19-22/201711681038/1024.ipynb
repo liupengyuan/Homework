{
 "cells": [
  {
   "cell_type": "code",
   "execution_count": 11,
   "metadata": {},
   "outputs": [
    {
     "name": "stdout",
     "output_type": "stream",
     "text": [
      "【1,1024】之间所有能被7整除的偶数的和是： 37814\n"
     ]
    }
   ],
   "source": [
    "#输出【1,1024】之间所有能被7整除的偶数的和。\n",
    "i = 1\n",
    "total=0\n",
    "n=0\n",
    "while i <= 1024:\n",
    "    if i % 7 > 0 or i % 2 > 0:\n",
    "        i = i + 1\n",
    "    else:\n",
    "        n = i\n",
    "        total = total + n\n",
    "        i = i + 1\n",
    "print('【1,1024】之间所有能被7整除的偶数的和是：',total)"
   ]
  },
  {
   "cell_type": "code",
   "execution_count": null,
   "metadata": {},
   "outputs": [],
   "source": []
  }
 ],
 "metadata": {
  "kernelspec": {
   "display_name": "Python 3",
   "language": "python",
   "name": "python3"
  }
 },
 "nbformat": 4,
 "nbformat_minor": 2
}
