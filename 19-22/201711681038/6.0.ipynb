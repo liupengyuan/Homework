{
 "cells": [
  {
   "cell_type": "code",
   "execution_count": 4,
   "metadata": {},
   "outputs": [
    {
     "name": "stdout",
     "output_type": "stream",
     "text": [
      "请问你想输入几个元素： 3\n",
      "请输入你想输入的元素： 45\n",
      "请输入你想输入的元素： 67\n",
      "请输入你想输入的元素： 89\n",
      "请输入任意一个元素： 67\n",
      "该元素在list中是第 2 个\n"
     ]
    }
   ],
   "source": [
    "#写函数，返回某个元素/对象在一个list中的位置，如果不在，则返回-1.\n",
    "def weizhi():\n",
    "    yuansu=[]\n",
    "    n=int(input('请问你想输入几个元素： '))\n",
    "    i=0 \n",
    "    while i<n:\n",
    "        number=int(input('请输入你想输入的元素： '))\n",
    "        yuansu.append(number)\n",
    "        i+=1\n",
    "    m=int(input('请输入任意一个元素： '))\n",
    "    if m not in yuansu:\n",
    "        print('-1')\n",
    "    else:\n",
    "        b=0\n",
    "        a=int(yuansu[b])\n",
    "        while a>m or a<m:\n",
    "            b+=1\n",
    "            a=int(yuansu[b])\n",
    "        print('该元素在list中是第',b+1,'个')\n",
    "        \n",
    "                    \n",
    "#主程序\n",
    "weizhi()"
   ]
  },
  {
   "cell_type": "code",
   "execution_count": 6,
   "metadata": {},
   "outputs": [
    {
     "name": "stdout",
     "output_type": "stream",
     "text": [
      "[1, 5, 2, 6, 3, 7, 4, 8]\n"
     ]
    }
   ],
   "source": [
    "#写函数，可将两个相同长度的list，间隔插入，生成新的list。例如：给两个list，a=[1,2,3,4], b=[5,6,7,8]。则可以生成：[1,5,2,6,3,7,4,8]。\n",
    "def jiange(a,b):\n",
    "    new=[]\n",
    "    i=0\n",
    "    while i<len(a):\n",
    "        a1=a[i]\n",
    "        new.append(a1)\n",
    "        b1=b[i]\n",
    "        new.append(b1)\n",
    "        i+=1\n",
    "    print(new)\n",
    "\n",
    "#主程序\n",
    "a=[1,2,3,4]\n",
    "b=[5,6,7,8]\n",
    "jiange(a,b)"
   ]
  },
  {
   "cell_type": "code",
   "execution_count": 11,
   "metadata": {},
   "outputs": [
    {
     "name": "stdout",
     "output_type": "stream",
     "text": [
      "请输入第一个坐标的横坐标 1\n",
      "请输入第一个坐标的纵坐标 0\n",
      "请输入第二个坐标的横坐标 1\n",
      "请输入第二个坐标的纵坐标 1\n",
      "两个向量的夹角的余弦值是： 0.7071067811865475\n"
     ]
    }
   ],
   "source": [
    "#写函数，可求两个向量的夹角余弦值，向量可放在list中。主程序调用该函数。\n",
    "def yuxian(x1,y1,x2,y2):\n",
    "    a=x1*x2\n",
    "    b=y1*y2\n",
    "    c=(x1**2+y1**2)**0.5\n",
    "    d=(x2**2+y2**2)**0.5\n",
    "    cos=(a+b)/(c*d)\n",
    "    print('两个向量的夹角的余弦值是：',cos)\n",
    "\n",
    "#主函数\n",
    "x1=int(input('请输入第一个坐标的横坐标 '))\n",
    "y1=int(input('请输入第一个坐标的纵坐标 '))\n",
    "x2=int(input('请输入第二个坐标的横坐标 '))\n",
    "y2=int(input('请输入第二个坐标的纵坐标 '))\n",
    "yuxian(x1,y1,x2,y2)"
   ]
  },
  {
   "cell_type": "code",
   "execution_count": 26,
   "metadata": {},
   "outputs": [
    {
     "data": {
      "text/plain": [
       "3741"
      ]
     },
     "execution_count": 26,
     "metadata": {},
     "output_type": "execute_result"
    }
   ],
   "source": [
    "#挑战性习题：python语言老师为了激励学生学python，自费买了100个完全相同的Macbook Pro，分给三个班级，每个班级至少分5个，\n",
    "#用穷举法计算共有多少种分法？\n",
    "\n",
    "def fenfa(a):\n",
    "    i=0\n",
    "    b=5\n",
    "    while b<(96-a):\n",
    "        c=100-b-a\n",
    "        b+=1  \n",
    "        i+=1\n",
    "    return i\n",
    "def total ():\n",
    "    total=0\n",
    "    a=5\n",
    "    while a<91:\n",
    "        total+=fenfa(a)\n",
    "        a+=1\n",
    "    return total\n",
    "    print('共有',total(),'种分法')\n",
    "\n",
    "#主程序\n",
    "total()"
   ]
  }
 ],
 "metadata": {
  "kernelspec": {
   "display_name": "Python 3",
   "language": "python",
   "name": "python3"
  },
  "language_info": {
   "codemirror_mode": {
    "name": "ipython",
    "version": 3
   },
   "file_extension": ".py",
   "mimetype": "text/x-python",
   "name": "python",
   "nbconvert_exporter": "python",
   "pygments_lexer": "ipython3",
   "version": "3.6.3"
  }
 },
 "nbformat": 4,
 "nbformat_minor": 2
}
