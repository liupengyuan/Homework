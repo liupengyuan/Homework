{
 "cells": [
  {
   "cell_type": "code",
   "execution_count": 1,
   "metadata": {},
   "outputs": [
    {
     "name": "stdout",
     "output_type": "stream",
     "text": [
      "请输入一个数： 2\n",
      "请输入一个数： 3\n",
      "请输入一个数： 4\n",
      "32\n"
     ]
    }
   ],
   "source": [
    "#练习 1：写程序，可求m!+n!+k!\n",
    "m=int(input('请输入一个数： '))\n",
    "n=int(input('请输入一个数： '))\n",
    "k=int(input('请输入一个数： '))\n",
    "def my_mul(m):\n",
    "    i=0\n",
    "    total=1\n",
    "    while i<m:\n",
    "        i+=1\n",
    "        total*=i\n",
    "    return total\n",
    "print(my_mul(m)+my_mul(n)+my_mul(k))"
   ]
  },
  {
   "cell_type": "code",
   "execution_count": 2,
   "metadata": {},
   "outputs": [
    {
     "name": "stdout",
     "output_type": "stream",
     "text": [
      "3.3359999999999994\n",
      "3.3336000000000734\n"
     ]
    }
   ],
   "source": [
    "#练习 2：写函数可返回1 - 1/3 + 1/5 - 1/7...的前n项的和。在主程序中，分别令n=1000及100000，打印4倍该函数的和。\n",
    "def a_sum(n):\n",
    "    i=1\n",
    "    total=1\n",
    "    while i<=n:\n",
    "        i+=2\n",
    "        if i%3<2:\n",
    "            total-=1/n\n",
    "        else:\n",
    "            total+=1/n\n",
    "    return total\n",
    "#主程序\n",
    "n=1000\n",
    "print(4*a_sum(n))\n",
    "n=10000\n",
    "print(4*a_sum(n))"
   ]
  },
  {
   "cell_type": "code",
   "execution_count": 8,
   "metadata": {},
   "outputs": [
    {
     "name": "stdout",
     "output_type": "stream",
     "text": [
      "请输入你的姓名： a\n",
      "请输入你出生的月份与日期，例一月一号输入1.1： 10.22\n",
      "('a', '你是非常有性格的天秤座')\n"
     ]
    }
   ],
   "source": [
    "#练习 3：将task3中的练习1及练习4改写为函数，并进行调用。\n",
    "#练习 1：写程序，可由键盘读入用户姓名例如Mr. right，让用户输入出生的月份与日期，判断用户星座，假设用户是金牛座，\n",
    "#则输出，Mr. right，你是非常有性格的金牛座！。\n",
    "name=input('请输入你的姓名： ')\n",
    "m=float(input('请输入你出生的月份与日期，例一月一号输入1.1： '))\n",
    "a=0\n",
    "def month(m):\n",
    "    if 1.32>m>1.19:\n",
    "        a=(name,'你是非常有性格的水瓶座')\n",
    "    elif  1.0<m<1.20:\n",
    "        a=(name,'你是非常有性格的摩羯座')\n",
    "    elif  2.0<m<2.19:\n",
    "        a=(name,'你是非常有性格的水瓶座')\n",
    "    elif  2.30>m>2.18:\n",
    "        a=t(name,'你是非常有性格的双鱼座')\n",
    "    elif 3.0<m<3.21:\n",
    "        a=(name,'你是非常有性格的双鱼座')\n",
    "    elif 3.32>m>3.20:\n",
    "        a=(name,'你是非常有性格的白羊座')\n",
    "    elif 4.0<m<4.20:\n",
    "        a=(name,'你是非常有性格的白羊座')\n",
    "    elif 4.31>m>4.19:\n",
    "        a=t(name,'你是非常有性格的金牛座')\n",
    "    elif 5.0<m<5.21:\n",
    "        a=(name,'你是非常有性格的金牛座')\n",
    "    elif 5.32>m>5.20:\n",
    "        a=(name,'你是非常有性格的双子座')\n",
    "    elif 6.0<m<6.22:\n",
    "        a=(name,'你是非常有性格的双子座')\n",
    "    elif 6.31>m>6.21:\n",
    "        a=(name,'你是非常有性格的巨蟹座')\n",
    "    elif 7.0<m<7.23:\n",
    "        a=(name,'你是非常有性格的巨蟹座')\n",
    "    elif 7.32>m>7.22:\n",
    "        a=(name,'你是非常有性格的狮子座')\n",
    "    elif 8.0<m<8.23:\n",
    "        a=(name,'你是非常有性格的狮子座')\n",
    "    elif 8.31>m>8.24:\n",
    "        a=(name,'你是非常有性格的处女座')\n",
    "    elif 9.0<m<9.23:\n",
    "        a=(name,'你是非常有性格的处女座')\n",
    "    elif 9.31>m>9.22:\n",
    "        a=(name,'你是非常有性格的天秤座')\n",
    "    elif 10.0<m<10.24:\n",
    "        a=(name,'你是非常有性格的天秤座')\n",
    "    elif 10.32>m>10.23:\n",
    "        a=(name,'你是非常有性格的天蝎座')\n",
    "    elif 11.0<m<11.23:\n",
    "        a=(name,'你是非常有性格的天蝎座')\n",
    "    elif 11.31>m>11.22:\n",
    "        a=(name,'你是非常有性格的射手座')\n",
    "    elif 12.0<m<12.22:\n",
    "        a=(name,'你是非常有性格的射手座')\n",
    "    elif 12.31>m>12.21:\n",
    "        a=(name,'你是非常有性格的摩羯座')\n",
    "    return a\n",
    "print(month(m))"
   ]
  },
  {
   "cell_type": "code",
   "execution_count": 10,
   "metadata": {},
   "outputs": [
    {
     "name": "stdout",
     "output_type": "stream",
     "text": [
      "请输入一个英文动词（单数形式）hoo\n",
      "('该单词的复数有极大可能是', 'hoo', 'es,或者是', 'hoo', 's')\n"
     ]
    }
   ],
   "source": [
    "#练习 4：英文单词单数转复数，要求输入一个英文动词（单数形式），能够得到其复数形式，或给出单数转复数形式的建议\n",
    "#（提示，some_string.endswith(some_letter)函数可以判断某字符串结尾字符，\n",
    "#可尝试运行：'myname'.endswith('me')，liupengyuan'.endswith('n')）。\n",
    "n=input('请输入一个英文动词（单数形式）')\n",
    "a=0\n",
    "def fushu(n):\n",
    "    if n.endswith('sh'):\n",
    "        a=('该单词的复数有极大可能是',n,'es')\n",
    "    elif n.endswith('sh'):\n",
    "        a=('该单词的复数有极大可能是',n,'es')\n",
    "    elif n.endswith('s'):\n",
    "        a=('该单词的复数有极大可能是',n,'es')\n",
    "    elif n.endswith('z'):\n",
    "        a=('该单词的复数有极大可能是',n,'es')\n",
    "    elif n.endswith('x'):\n",
    "        a=('该单词的复数有极大可能是',n,'es')\n",
    "    elif n.endswith('o'):\n",
    "        a=('该单词的复数有极大可能是',n,'es,或者是',n,'s')\n",
    "    elif n.endswith('y'):\n",
    "        a=('该单词的复数有极大可能是将y改变为i，再加-es')\n",
    "    elif n.endswith('f'):\n",
    "        a=('该单词的复数有极大可能是将f改变为v，再加-es')\n",
    "    return a\n",
    "print(fushu(n))"
   ]
  },
  {
   "cell_type": "code",
   "execution_count": 9,
   "metadata": {},
   "outputs": [
    {
     "name": "stdout",
     "output_type": "stream",
     "text": [
      "请输入一个整数：8\n",
      "请输入一个整数：2\n",
      "请输入一个小于等于上两个数之差的绝对值的整数2\n",
      "和为 20\n"
     ]
    }
   ],
   "source": [
    "#挑战性练习：写程序，可以求从整数m到整数n累加的和，间隔为k，求和部分需用函数实现，主程序中由用户输入m，n，k调用函数验证正确性。\n",
    "def he(m,n):\n",
    "    b=n\n",
    "    if m<n:\n",
    "        m=m\n",
    "        n=n\n",
    "        total=m\n",
    "    else:\n",
    "        n=m\n",
    "        m=b\n",
    "        total=m\n",
    "    while m<n:\n",
    "        m=m+k\n",
    "        total=total+m\n",
    "    return total\n",
    "\n",
    "#主程序\n",
    "m=int(input('请输入一个整数：'))\n",
    "n=int(input('请输入一个整数：'))\n",
    "k=int(input('请输入一个小于等于上两个数之差的绝对值的整数'))\n",
    "print('和为',he(m,n))"
   ]
  }
 ],
 "metadata": {
  "kernelspec": {
   "display_name": "Python 3",
   "language": "python",
   "name": "python3"
  },
  "language_info": {
   "codemirror_mode": {
    "name": "ipython",
    "version": 3
   },
   "file_extension": ".py",
   "mimetype": "text/x-python",
   "name": "python",
   "nbconvert_exporter": "python",
   "pygments_lexer": "ipython3",
   "version": "3.6.3"
  }
 },
 "nbformat": 4,
 "nbformat_minor": 2
}
