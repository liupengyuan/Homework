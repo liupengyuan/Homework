{
 "cells": [
  {
   "cell_type": "code",
   "execution_count": 11,
   "metadata": {},
   "outputs": [
    {
     "name": "stdout",
     "output_type": "stream",
     "text": [
      "最大值是 899\n",
      "最小值是 -10\n",
      "均值是 106.72999999999999\n"
     ]
    }
   ],
   "source": [
    "#写函数，返回一个list中的最大值，最小值，平均值。（不用内置的求和求函数）,以[1,2,-1,55,100,899,-10,3,12.5,5.8]为例。\n",
    "def hanshu(numbers):\n",
    "    total = 0\n",
    "    for i in numbers:\n",
    "        total += i\n",
    "        a=total/10\n",
    "        max_number=i\n",
    "        min_number=i\n",
    "    \n",
    "    for j in numbers:\n",
    "        if j>=max_number:\n",
    "            max_number=j\n",
    "        elif j<=min_number:\n",
    "            min_number=j\n",
    "    \n",
    "    print('最大值是',max_number)\n",
    "    print('最小值是',min_number)\n",
    "    print('均值是',a)\n",
    "\n",
    "#主程序\n",
    "numbers=[1,2,-1,55,100,899,-10,3,12.5,5.8]\n",
    "hanshu(numbers)"
   ]
  },
  {
   "cell_type": "code",
   "execution_count": null,
   "metadata": {},
   "outputs": [],
   "source": []
  }
 ],
 "metadata": {
  "kernelspec": {
   "display_name": "Python 3",
   "language": "python",
   "name": "python3"
  },
  "language_info": {
   "codemirror_mode": {
    "name": "ipython",
    "version": 3
   },
   "file_extension": ".py",
   "mimetype": "text/x-python",
   "name": "python",
   "nbconvert_exporter": "python",
   "pygments_lexer": "ipython3",
   "version": "3.6.3"
  }
 },
 "nbformat": 4,
 "nbformat_minor": 2
}
