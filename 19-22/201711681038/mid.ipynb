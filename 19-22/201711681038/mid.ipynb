{
 "cells": [
  {
   "cell_type": "code",
   "execution_count": 7,
   "metadata": {},
   "outputs": [
    {
     "name": "stdout",
     "output_type": "stream",
     "text": [
      "请输入一个整数： 4\n",
      "和为 20\n"
     ]
    }
   ],
   "source": [
    "#1\n",
    "#写函数，参数为m，可求1+3+6+10+15+22...共m项的和。\n",
    "def qiuhe(m):\n",
    "    total=0\n",
    "    i=1\n",
    "    a=1\n",
    "    while i<=m:\n",
    "        total+=a\n",
    "        a=a+i+1\n",
    "        i+=1\n",
    "    print('和为',total)\n",
    "\n",
    "#主函数\n",
    "m=int(input('请输入一个整数： '))\n",
    "qiuhe(m)"
   ]
  },
  {
   "cell_type": "code",
   "execution_count": 12,
   "metadata": {},
   "outputs": [
    {
     "name": "stdout",
     "output_type": "stream",
     "text": [
      "请输入一个符号： @\n",
      "请输入你想打印的行数： 4\n",
      "['@']\n",
      "['@', '@', '@']\n",
      "['@', '@', '@', '@', '@']\n",
      "['@', '@', '@', '@', '@', '@', '@']\n"
     ]
    }
   ],
   "source": [
    "#2\n",
    "def sanjiaoxing(a,b):\n",
    "    i=0\n",
    "    tuxing=[a]\n",
    "    while i<b:\n",
    "        print(tuxing,sep='')\n",
    "        tuxing.append(a)\n",
    "        tuxing.append(a)\n",
    "        i+=1\n",
    "\n",
    "#主函数\n",
    "a=input('请输入一个符号： ')\n",
    "b=int(input('请输入你想打印的行数： '))\n",
    "sanjiaoxing(a,b)"
   ]
  },
  {
   "cell_type": "code",
   "execution_count": null,
   "metadata": {},
   "outputs": [
    {
     "name": "stdout",
     "output_type": "stream",
     "text": [
      "请输入任意一个正整数：22\n"
     ]
    }
   ],
   "source": [
    "#3\n",
    "def yiwei():\n",
    "    b=a\n",
    "    while b > 0:\n",
    "        m=0\n",
    "        n=0\n",
    "        while n<11:\n",
    "            b=a-n*(10**m)\n",
    "            n+=1\n",
    "            break\n",
    "        m+=1\n",
    "    print(n-1)\n",
    "    \n",
    "#主函数\n",
    "a=int(input('请输入任意一个正整数：'))\n",
    "yiwei()"
   ]
  },
  {
   "cell_type": "code",
   "execution_count": 15,
   "metadata": {},
   "outputs": [
    {
     "name": "stdout",
     "output_type": "stream",
     "text": [
      "请输入你要输入的人数：9\n",
      "请输入身高： 183\n",
      "请输入身高： 185\n",
      "请输入身高： 183\n",
      "请输入身高： 187\n",
      "请输入身高： 178\n",
      "请输入身高： 175\n",
      "请输入身高： 177\n",
      "请输入身高： 190\n",
      "请输入身高： 172\n",
      "平均身高为： 181.11111111111111\n",
      "比平均值高的身高为 183\n",
      "比平均值高的身高为 185\n",
      "比平均值高的身高为 183\n",
      "比平均值高的身高为 187\n",
      "比平均值高的身高为 190\n"
     ]
    }
   ],
   "source": [
    "#4\n",
    "def lanqiu(m):\n",
    "    n=int(input('请输入你要输入的人数：'))\n",
    "    i=0\n",
    "    total=0\n",
    "    shengao=[]\n",
    "    while i<n:\n",
    "        m=int(input('请输入身高： '))\n",
    "        total+=m\n",
    "        shengao.append(m)\n",
    "        i+=1\n",
    "    print('平均身高为：',total/n)\n",
    "    for a in shengao:\n",
    "        if a >(total/n):\n",
    "            print('比平均值高的身高为',a)\n",
    "\n",
    "#主程序\n",
    "lanqiu(m)"
   ]
  },
  {
   "cell_type": "code",
   "execution_count": 1,
   "metadata": {},
   "outputs": [
    {
     "name": "stdout",
     "output_type": "stream",
     "text": [
      "请计算3+9=\n",
      "请输入结果12\n",
      "你答对了，现在你有 20 分\n",
      "请计算3+6=\n",
      "请输入结果8\n",
      "你答错了，没有分\n",
      "请计算9+2=\n",
      "请输入结果11\n",
      "你答对了，现在你有 40 分\n",
      "请计算8+0=\n",
      "请输入结果8\n",
      "你答对了，现在你有 60 分\n",
      "请计算0+8=\n",
      "请输入结果2\n",
      "你答错了，没有分\n",
      "你最终的得分是 60\n"
     ]
    }
   ],
   "source": [
    "#5\n",
    "import random\n",
    "i=0\n",
    "mark=0\n",
    "while i<5:\n",
    "    a=random.randint(0,10)\n",
    "    b=random.randint(0,10)\n",
    "    total=a+b\n",
    "    print('请计算',a,'+',b,'=',sep='')\n",
    "    m=int(input('请输入结果'))\n",
    "    i+=1\n",
    "    if total==m:\n",
    "        mark+=20\n",
    "        print('你答对了，现在你有',mark,'分')\n",
    "    else :\n",
    "        print('你答错了，没有分')\n",
    "print('你最终的得分是',mark)"
   ]
  },
  {
   "cell_type": "code",
   "execution_count": 11,
   "metadata": {},
   "outputs": [
    {
     "name": "stdout",
     "output_type": "stream",
     "text": [
      "[-76, -5, 9, 108, 34, -76, 108]\n"
     ]
    }
   ],
   "source": [
    "#6\n",
    "def paixu(list):\n",
    "    for i in list:\n",
    "        a=len(list)-1\n",
    "        max_num=i\n",
    "        min_num=i\n",
    "    \n",
    "    for m in list:\n",
    "        if m>i:\n",
    "            max_num=m\n",
    "            list[a]=max_num\n",
    "        if m<i:\n",
    "            min_num=m\n",
    "            list[0]=min_num\n",
    "    print(list)\n",
    "\n",
    "#主程序\n",
    "list=[3,-5,9,108,34,-76,88]\n",
    "paixu(list)"
   ]
  }
 ],
 "metadata": {
  "kernelspec": {
   "display_name": "Python 3",
   "language": "python",
   "name": "python3"
  }
 },
 "nbformat": 4,
 "nbformat_minor": 2
}
