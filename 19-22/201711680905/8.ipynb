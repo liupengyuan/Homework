{
 "cells": [
  {
   "cell_type": "code",
   "execution_count": 1,
   "metadata": {},
   "outputs": [
    {
     "name": "stdout",
     "output_type": "stream",
     "text": [
      "穿针引线\n",
      "接龙：线性代数\n",
      "lose... your score: 0 computer score: 0\n"
     ]
    }
   ],
   "source": [
    "# 成语接龙 \n",
    "import random\n",
    "\n",
    "def game():\n",
    "    fh = open(r'c:\\temp\\成语大全.txt')\n",
    "    text = fh.read()\n",
    "    fh.close()\n",
    "    text = text.replace('、', '')\n",
    "    idioms = text.split('\\n')\n",
    "    p = 0\n",
    "    c = 0\n",
    "    idiom = random.choice(idioms)\n",
    "    print(idiom)\n",
    "    your = input('接龙：')\n",
    "    if your in idioms and your[0] == idiom[-1]:\n",
    "        p+=10\n",
    "        for x in idioms:\n",
    "            if x[0] == your[-1]:\n",
    "                c+=10\n",
    "                print(x)\n",
    "                your = input('接龙：')\n",
    "            else:\n",
    "                print('win!','your score:',p,'computer score:',c)\n",
    "    else:\n",
    "        print('lose...','your score:',p,'computer score:',c)\n",
    "        \n",
    "        \n",
    "# 主程序\n",
    "game()\n"
   ]
  }
 ],
 "metadata": {
  "kernelspec": {
   "display_name": "Python 3",
   "language": "python",
   "name": "python3"
  },
  "language_info": {
   "codemirror_mode": {
    "name": "ipython",
    "version": 3
   },
   "file_extension": ".py",
   "mimetype": "text/x-python",
   "name": "python",
   "nbconvert_exporter": "python",
   "pygments_lexer": "ipython3",
   "version": "3.6.2"
  }
 },
 "nbformat": 4,
 "nbformat_minor": 2
}
