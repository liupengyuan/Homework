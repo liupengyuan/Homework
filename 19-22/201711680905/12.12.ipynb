{
 "cells": [
  {
   "cell_type": "code",
   "execution_count": 11,
   "metadata": {},
   "outputs": [
    {
     "name": "stdout",
     "output_type": "stream",
     "text": [
      "鹄余座前市挂若宁约姗\n",
      "仓过江艾效头美砥世俊方紫福悸波瀣不观没田\n",
      "朋喜钧面昔数荆怨颜恶铩规愎大变听桃蛙鹤攘喑饰尺责尘仓制涛热炙\n",
      "居何技狭卧徒呈绸墙怒听秽碑肉换乌遇所忘复寒退为休插儒责阖驰彩臼陈缕膺壁觥其尽舌噤\n",
      "眉预血奔泾临讽锱斧魅藏泣鸩杰山捉寒强枯忠宠五襟死奇抗再波猿狐守玑仁惭涂穷然攘貂右默如滴智兴冰状永前黩\n",
      "者筚罗荡尝肘雾持缪荆比锁惊沁改筹驯矢焚浮沽杀岸挂科宜粟尔暖霆娇经芙换器酒晕食志亡周沓潜班壁副船树丁晚庸假机叱八光熙蹴放郸\n",
      "卑歌久可甚山深军鸠完辟睫怒的恙村簪鸟富来放算学乎炎责贤绎阋惮鬼蔚络全贯雨殊愎没苦染狱补历画接釜秒因走厦自胡犀驰救鹊忌志迟口燎纷关萤栩癖纵锱腋\n",
      "碑兰亦懈青壳外姬镳沆桑遂重由百士射掌耿釜映歌倍圆川象徒拣讽置讳临堂威右砥居独恢制约貉多驹牝云椟驯扑张鹤盖吹躬喻霆而咫涂关分锦鹊转未兔缝草经功五备石梅燎尤趋荐扬天\n",
      "始府羊矫矛唯毓高咤惊肝飞益色诺船壳茂鼎体梦围巷韦开喘代劫返杯力虚突计忾罗曾饴破庸彩掩劝盗想泣绕朋随犯伦娇貉价狡亲翅再矢闭地经政涌蝉口枝六疵填孤轻吞孑鸠贵营提胡左簇好财荡锁里残挑公牢\n",
      "体碧薄斯几投汹淘鹤朋以龙擎霸丝尘肉扑何战力按回蜃讽因厚绿艾群股本\n",
      "学日眈遂禁愎歧噤聊丽夏随境山穷苟校兵容陇涌复渝半颖宣射政喘阋捭滥坤晕舟贻旷亭生荣鸠豁腕望满尺柴止懈字香求缨鹊徙竹骨戚差遥前古谢族窕锦乱\n"
     ]
    }
   ],
   "source": [
    "def get_ch_table(line):\n",
    "    ch_table = []\n",
    "    for ch in line:\n",
    "        if ch not in ch_table:\n",
    "            ch_table.append(ch)\n",
    "    return ch_table\n",
    "\n",
    "import random\n",
    "\n",
    "def ran(n):\n",
    "    ran=get_ch_table(text)\n",
    "    ran1=random.sample(ran, k=n)\n",
    "    ran1=''.join(ran1)\n",
    "    return ran1\n",
    "\n",
    "# 主程序\n",
    "\n",
    "fh = open(r'c:\\temp\\1.txt', 'w')\n",
    "fh.write(ran(10))\n",
    "print(ran(10))\n",
    "fh.close()\n",
    "\n",
    "fh = open(r'c:\\temp\\2.txt', 'w')\n",
    "fh.write(ran(20))\n",
    "print(ran(20))\n",
    "fh.close()\n",
    "\n",
    "fh = open(r'c:\\temp\\3.txt', 'w')\n",
    "fh.write(ran(30))\n",
    "print(ran(30))\n",
    "fh.close()\n",
    "\n",
    "fh = open(r'c:\\temp\\4.txt', 'w')\n",
    "fh.write(ran(40))\n",
    "print(ran(40))\n",
    "fh.close()\n",
    "\n",
    "fh = open(r'c:\\temp\\5.txt', 'w')\n",
    "fh.write(ran(50))\n",
    "print(ran(50))\n",
    "fh.close()\n",
    "\n",
    "fh = open(r'c:\\temp\\6.txt', 'w')\n",
    "fh.write(ran(60))\n",
    "print(ran(60))\n",
    "fh.close()\n",
    "\n",
    "fh = open(r'c:\\temp\\7.txt', 'w')\n",
    "fh.write(ran(70))\n",
    "print(ran(70))\n",
    "fh.close()\n",
    "\n",
    "fh = open(r'c:\\temp\\8.txt', 'w')\n",
    "fh.write(ran(80))\n",
    "print(ran(80))\n",
    "fh.close()\n",
    "\n",
    "fh = open(r'c:\\temp\\9.txt', 'w')\n",
    "fh.write(ran(90))\n",
    "print(ran(90))\n",
    "fh.close()\n",
    "\n",
    "fh = open(r'c:\\temp\\10.txt', 'w')\n",
    "fh.write(ran(100))\n",
    "print(ran(100))\n",
    "fh.close()\n"
   ]
  },
  {
   "cell_type": "code",
   "execution_count": null,
   "metadata": {
    "collapsed": true
   },
   "outputs": [],
   "source": []
  }
 ],
 "metadata": {
  "kernelspec": {
   "display_name": "Python 3",
   "language": "python",
   "name": "python3"
  },
  "language_info": {
   "codemirror_mode": {
    "name": "ipython",
    "version": 3
   },
   "file_extension": ".py",
   "mimetype": "text/x-python",
   "name": "python",
   "nbconvert_exporter": "python",
   "pygments_lexer": "ipython3",
   "version": "3.6.2"
  }
 },
 "nbformat": 4,
 "nbformat_minor": 2
}
