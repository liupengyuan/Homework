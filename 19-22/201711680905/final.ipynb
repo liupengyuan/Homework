{
 "cells": [
  {
   "cell_type": "code",
   "execution_count": 8,
   "metadata": {},
   "outputs": [
    {
     "name": "stdout",
     "output_type": "stream",
     "text": [
      "        * ***** *\n",
      "      * * ***** * *\n",
      "    * * * ***** * * *\n",
      "  * * * * ***** * * * *\n",
      "* * * * * ***** * * * * *\n"
     ]
    }
   ],
   "source": [
    "def pic(sym,n):\n",
    "    line = sym*n\n",
    "    for i in range(1, len(line)+1):\n",
    "        print(((n-i)*2)*' '+(sym+' ')*i+sym*n+(' '+ sym)*i)\n",
    "        \n",
    "# 主程序\n",
    "pic('*',5)\n"
   ]
  },
  {
   "cell_type": "code",
   "execution_count": 1,
   "metadata": {},
   "outputs": [],
   "source": [
    "def A(m,n):\n",
    "    if m == 0:\n",
    "        a = n+1\n",
    "    if n == 0 and m > 0:\n",
    "        n = 1\n",
    "        m = m-1\n",
    "    if m > 0 and n > 0:\n",
    "        m = m-1\n",
    "        n = n-1\n",
    "        \n",
    "# 主程序\n",
    "A(3,4)        "
   ]
  },
  {
   "cell_type": "code",
   "execution_count": 2,
   "metadata": {},
   "outputs": [
    {
     "name": "stdout",
     "output_type": "stream",
     "text": [
      "22 + 19 = \n",
      "\n",
      "25 / 21 = \n",
      "\n",
      "16 - 9 = \n",
      "\n",
      "15 / 14 = \n",
      "\n",
      "4 / 4 = \n",
      "\n",
      "10 + 6 = \n",
      "\n",
      "3 - 17 = \n",
      "\n",
      "17 / 12 = \n",
      "\n",
      "24 / 7 = \n",
      "\n",
      "19 + 8 = \n",
      "\n",
      "11 / 14 = \n",
      "\n",
      "6 * 13 = \n",
      "\n",
      "4 / 3 = \n",
      "\n",
      "9 + 7 = \n",
      "\n",
      "13 - 7 = \n",
      "\n"
     ]
    }
   ],
   "source": [
    "import random\n",
    "\n",
    "def test(n,a,b):\n",
    "    for i in range(n):\n",
    "        x = random.randint(a,b)\n",
    "        y = random.randint(a,b)\n",
    "        f = random.choice(['+','-','*','/'])\n",
    "        print(x,f,y,'=','\\n')\n",
    "    \n",
    "# 主程序\n",
    "test(15,3,25)"
   ]
  },
  {
   "cell_type": "code",
   "execution_count": 4,
   "metadata": {},
   "outputs": [
    {
     "name": "stdout",
     "output_type": "stream",
     "text": [
      "9 - 24 = \n",
      "\n",
      "7 / 24 = \n",
      "\n",
      "17 / 23 = \n",
      "\n",
      "25 - 9 = \n",
      "\n",
      "9 - 23 = \n",
      "\n",
      "12 / 21 = \n",
      "\n",
      "19 + 7 = \n",
      "\n",
      "3 - 20 = \n",
      "\n",
      "3 + 18 = \n",
      "\n",
      "18 - 18 = \n",
      "\n",
      "21 * 5 = \n",
      "\n",
      "5 * 18 = \n",
      "\n",
      "22 - 5 = \n",
      "\n",
      "23 / 9 = \n",
      "\n",
      "17 + 7 = \n",
      "\n",
      "6\n",
      "3\n",
      "5\n",
      "77\n",
      "345\n",
      "65\n",
      "83\n",
      "76\n",
      "765\n",
      "457\n",
      "45\n",
      "467\n",
      "346\n",
      "467\n",
      "3\n",
      "3\n"
     ]
    },
    {
     "ename": "NameError",
     "evalue": "name 'f' is not defined",
     "output_type": "error",
     "traceback": [
      "\u001b[1;31m---------------------------------------------------------------------------\u001b[0m",
      "\u001b[1;31mNameError\u001b[0m                                 Traceback (most recent call last)",
      "\u001b[1;32m<ipython-input-4-a90dc5dfedbb>\u001b[0m in \u001b[0;36m<module>\u001b[1;34m()\u001b[0m\n\u001b[0;32m     28\u001b[0m \u001b[1;31m# 主程序\u001b[0m\u001b[1;33m\u001b[0m\u001b[1;33m\u001b[0m\u001b[0m\n\u001b[0;32m     29\u001b[0m \u001b[0mans\u001b[0m\u001b[1;33m(\u001b[0m\u001b[1;36m15\u001b[0m\u001b[1;33m)\u001b[0m\u001b[1;33m\u001b[0m\u001b[0m\n\u001b[1;32m---> 30\u001b[1;33m \u001b[0mmark\u001b[0m\u001b[1;33m(\u001b[0m\u001b[1;33m)\u001b[0m\u001b[1;33m\u001b[0m\u001b[0m\n\u001b[0m",
      "\u001b[1;32m<ipython-input-4-a90dc5dfedbb>\u001b[0m in \u001b[0;36mmark\u001b[1;34m()\u001b[0m\n\u001b[0;32m      6\u001b[0m \u001b[1;32mdef\u001b[0m \u001b[0mmark\u001b[0m\u001b[1;33m(\u001b[0m\u001b[1;33m)\u001b[0m\u001b[1;33m:\u001b[0m\u001b[1;33m\u001b[0m\u001b[0m\n\u001b[0;32m      7\u001b[0m     \u001b[0mt\u001b[0m \u001b[1;33m=\u001b[0m \u001b[1;36m0\u001b[0m\u001b[1;33m\u001b[0m\u001b[0m\n\u001b[1;32m----> 8\u001b[1;33m     \u001b[1;32mif\u001b[0m \u001b[0mf\u001b[0m \u001b[1;33m==\u001b[0m \u001b[1;34m'*'\u001b[0m\u001b[1;33m:\u001b[0m\u001b[1;33m\u001b[0m\u001b[0m\n\u001b[0m\u001b[0;32m      9\u001b[0m         \u001b[0man\u001b[0m \u001b[1;33m=\u001b[0m \u001b[0mx\u001b[0m\u001b[1;33m*\u001b[0m\u001b[0my\u001b[0m\u001b[1;33m\u001b[0m\u001b[0m\n\u001b[0;32m     10\u001b[0m     \u001b[1;32mif\u001b[0m \u001b[0mf\u001b[0m \u001b[1;33m==\u001b[0m \u001b[1;34m'/'\u001b[0m\u001b[1;33m:\u001b[0m\u001b[1;33m\u001b[0m\u001b[0m\n",
      "\u001b[1;31mNameError\u001b[0m: name 'f' is not defined"
     ]
    }
   ],
   "source": [
    "test(15,3,25)\n",
    "def ans(n):\n",
    "    for i in range(n):\n",
    "        a = input()\n",
    "    print(a,sep = ',')\n",
    "def mark():\n",
    "    t = 0\n",
    "    if f == '*':\n",
    "        an = x*y\n",
    "    if f == '/':\n",
    "        an = x/y\n",
    "    if f == '-':\n",
    "        an = x-y\n",
    "    if f == '+':\n",
    "        an = x=y\n",
    "    if f == '*' or f == '/':\n",
    "        if a == an:\n",
    "            t+=10\n",
    "        else:\n",
    "            t = t\n",
    "    if f == '-' or f == '+':\n",
    "        if a == an:\n",
    "            t+=5\n",
    "        else:\n",
    "            t = t\n",
    "    print(t)\n",
    "    \n",
    "# 主程序\n",
    "ans(15)\n",
    "mark()"
   ]
  },
  {
   "cell_type": "code",
   "execution_count": null,
   "metadata": {},
   "outputs": [],
   "source": [
    "n = int(input())\n",
    "i = 0\n",
    "t = 0\n",
    "while i < n:\n",
    "    x = int(input())\n",
    "    y = int(input())\n",
    "    f = str(input())\n",
    "    if f == '*':\n",
    "        an = x*y\n",
    "    if f == '/':\n",
    "        an = x/y\n",
    "    if f == '-':\n",
    "        an = x-y\n",
    "    if f == '+':\n",
    "        an = x=y\n",
    "    if f == '*' or f == '/':\n",
    "        if a == an:\n",
    "            t+=10\n",
    "        else:\n",
    "            t = t\n",
    "    if f == '-' or f == '+':\n",
    "        if a == an:\n",
    "            t+=5\n",
    "        else:\n",
    "            t = t\n",
    "    print(x,f,y,'=',an,'\\n')\n",
    "    "
   ]
  },
  {
   "cell_type": "code",
   "execution_count": 11,
   "metadata": {},
   "outputs": [
    {
     "ename": "TypeError",
     "evalue": "'_io.TextIOWrapper' object is not subscriptable",
     "output_type": "error",
     "traceback": [
      "\u001b[1;31m---------------------------------------------------------------------------\u001b[0m",
      "\u001b[1;31mTypeError\u001b[0m                                 Traceback (most recent call last)",
      "\u001b[1;32m<ipython-input-11-81a1e3a4314f>\u001b[0m in \u001b[0;36m<module>\u001b[1;34m()\u001b[0m\n\u001b[0;32m      2\u001b[0m     \u001b[0mA\u001b[0m \u001b[1;33m=\u001b[0m \u001b[1;33m[\u001b[0m\u001b[1;33m]\u001b[0m\u001b[1;33m\u001b[0m\u001b[0m\n\u001b[0;32m      3\u001b[0m     \u001b[0mfreq\u001b[0m \u001b[1;33m=\u001b[0m \u001b[1;33m[\u001b[0m\u001b[1;33m]\u001b[0m\u001b[1;33m\u001b[0m\u001b[0m\n\u001b[1;32m----> 4\u001b[1;33m     \u001b[1;32mif\u001b[0m \u001b[0mf\u001b[0m\u001b[1;33m[\u001b[0m\u001b[1;33m-\u001b[0m\u001b[1;36m1\u001b[0m\u001b[1;33m]\u001b[0m \u001b[1;33m==\u001b[0m \u001b[1;34m' '\u001b[0m \u001b[1;32mand\u001b[0m \u001b[0mlen\u001b[0m\u001b[1;33m(\u001b[0m\u001b[0mf\u001b[0m\u001b[1;33m)\u001b[0m \u001b[1;33m==\u001b[0m \u001b[1;36m4\u001b[0m\u001b[1;33m:\u001b[0m\u001b[1;33m\u001b[0m\u001b[0m\n\u001b[0m\u001b[0;32m      5\u001b[0m         \u001b[0mA\u001b[0m\u001b[1;33m.\u001b[0m\u001b[0mappend\u001b[0m\u001b[1;33m(\u001b[0m\u001b[0mf\u001b[0m\u001b[1;33m[\u001b[0m\u001b[1;33m:\u001b[0m\u001b[1;33m-\u001b[0m\u001b[1;36m1\u001b[0m\u001b[1;33m:\u001b[0m\u001b[1;33m]\u001b[0m\u001b[1;33m)\u001b[0m\u001b[1;33m\u001b[0m\u001b[0m\n\u001b[0;32m      6\u001b[0m     \u001b[1;32mfor\u001b[0m \u001b[0ma\u001b[0m \u001b[1;32min\u001b[0m \u001b[0mA\u001b[0m\u001b[1;33m:\u001b[0m\u001b[1;33m\u001b[0m\u001b[0m\n",
      "\u001b[1;31mTypeError\u001b[0m: '_io.TextIOWrapper' object is not subscriptable"
     ]
    }
   ],
   "source": [
    "with open (r'C:\\Users\\Anastasia\\Desktop\\成语大全(含成语解释)_utf8.txt',encoding = 'utf-8') as f:\n",
    "    A = []\n",
    "    freq = []\n",
    "    if f[-1] == ' ' and len(f) == 4:\n",
    "        A.append(f[:-1:])\n",
    "    for a in A:\n",
    "        num = A.count(a)\n",
    "        freq.append([a, num])\n",
    "    freq.sort()\n",
    "    print(freq[:20:])\n",
    "    "
   ]
  },
  {
   "cell_type": "code",
   "execution_count": null,
   "metadata": {
    "collapsed": true
   },
   "outputs": [],
   "source": []
  },
  {
   "cell_type": "raw",
   "metadata": {},
   "source": [
    "fh = open(r'c:\\temp\\成语大全.txt')\n",
    "text = fh.read()\n",
    "fh.close()\n",
    "text = text.replace('、', '')\n",
    "idioms = text.split('\\n')\n",
    "freq = []\n",
    "for idiom in idioms:\n",
    "    num = idioms.count(idiom)\n",
    "    freq.append([idiom, num])\n",
    "freq.sort()\n",
    "print(freq[:20:])\n",
    "    \n"
   ]
  },
  {
   "cell_type": "code",
   "execution_count": 19,
   "metadata": {},
   "outputs": [
    {
     "ename": "TypeError",
     "evalue": "unhashable type: 'list'",
     "output_type": "error",
     "traceback": [
      "\u001b[1;31m---------------------------------------------------------------------------\u001b[0m",
      "\u001b[1;31mTypeError\u001b[0m                                 Traceback (most recent call last)",
      "\u001b[1;32m<ipython-input-19-0c101a34b22d>\u001b[0m in \u001b[0;36m<module>\u001b[1;34m()\u001b[0m\n\u001b[0;32m      5\u001b[0m         \u001b[1;32mfor\u001b[0m \u001b[0mword\u001b[0m \u001b[1;32min\u001b[0m \u001b[0mwords\u001b[0m\u001b[1;33m:\u001b[0m\u001b[1;33m\u001b[0m\u001b[0m\n\u001b[0;32m      6\u001b[0m             \u001b[0mword_pos\u001b[0m \u001b[1;33m=\u001b[0m \u001b[0mword\u001b[0m\u001b[1;33m.\u001b[0m\u001b[0msplit\u001b[0m\u001b[1;33m(\u001b[0m\u001b[1;34m'/'\u001b[0m\u001b[1;33m)\u001b[0m\u001b[1;33m\u001b[0m\u001b[0m\n\u001b[1;32m----> 7\u001b[1;33m             \u001b[1;32mif\u001b[0m \u001b[0mword_pos\u001b[0m \u001b[1;32min\u001b[0m \u001b[0mresult\u001b[0m\u001b[1;33m:\u001b[0m\u001b[1;33m\u001b[0m\u001b[0m\n\u001b[0m\u001b[0;32m      8\u001b[0m                 \u001b[1;32mfor\u001b[0m \u001b[0mindex\u001b[0m\u001b[1;33m,\u001b[0m\u001b[0mword_fre\u001b[0m \u001b[1;32min\u001b[0m \u001b[0menumerate\u001b[0m\u001b[1;33m(\u001b[0m\u001b[0mresult\u001b[0m\u001b[1;33m[\u001b[0m\u001b[0mword_pos\u001b[0m\u001b[1;33m[\u001b[0m\u001b[1;36m0\u001b[0m\u001b[1;33m]\u001b[0m\u001b[1;33m]\u001b[0m\u001b[1;33m)\u001b[0m\u001b[1;33m:\u001b[0m\u001b[1;33m\u001b[0m\u001b[0m\n\u001b[0;32m      9\u001b[0m                     \u001b[1;32mif\u001b[0m \u001b[0mpos_fre\u001b[0m \u001b[1;33m==\u001b[0m \u001b[0mword_pos\u001b[0m\u001b[1;33m[\u001b[0m\u001b[1;36m1\u001b[0m\u001b[1;33m]\u001b[0m\u001b[1;33m:\u001b[0m\u001b[1;33m\u001b[0m\u001b[0m\n",
      "\u001b[1;31mTypeError\u001b[0m: unhashable type: 'list'"
     ]
    }
   ],
   "source": [
    "result = {}\n",
    "with open(r'C:\\Users\\Anastasia\\Desktop\\test_re_gbk.txt') as f :\n",
    "    for line in f :\n",
    "        words = line.split()\n",
    "        for word in words:\n",
    "            word_pos = word.split('/')\n",
    "            if word_pos in result:\n",
    "                for index,word_fre in enumerate(result[word_pos[0]]):\n",
    "                    if pos_fre == word_pos[1]:\n",
    "                        result[word_pos[0]][index][1]+=1\n",
    "                        break\n",
    "                else:\n",
    "                    result[word_pos[0]].append([word_pos[1],1])\n",
    "            else:\n",
    "                result[word_pos[0]] = []\n",
    "                result[word-pos[0]].append([word_pos[1],1])\n",
    "                \n",
    "list(result,items())\n",
    "         \n",
    "                "
   ]
  },
  {
   "cell_type": "code",
   "execution_count": 21,
   "metadata": {},
   "outputs": [
    {
     "ename": "IndentationError",
     "evalue": "unexpected indent (<ipython-input-21-879eb9f7f7c5>, line 4)",
     "output_type": "error",
     "traceback": [
      "\u001b[1;36m  File \u001b[1;32m\"<ipython-input-21-879eb9f7f7c5>\"\u001b[1;36m, line \u001b[1;32m4\u001b[0m\n\u001b[1;33m    if index == 'nr':\u001b[0m\n\u001b[1;37m    ^\u001b[0m\n\u001b[1;31mIndentationError\u001b[0m\u001b[1;31m:\u001b[0m unexpected indent\n"
     ]
    }
   ],
   "source": [
    "with open(r'C:\\Users\\Anastasia\\Desktop\\test_re_gbk.txt') as f :\n",
    "    for line in f :\n",
    "        words = line.split()\n",
    "         if index == 'nr':\n",
    "                print(word)"
   ]
  },
  {
   "cell_type": "code",
   "execution_count": null,
   "metadata": {
    "collapsed": true
   },
   "outputs": [],
   "source": [
    "fh = open(r'c:\\temp\\成语大全.txt')\n",
    "text = fh.read()\n",
    "fh.close()\n",
    "text = text.replace('、', '')\n",
    "idioms = text.split('\\n')\n",
    "with open(r'C:\\Users\\Anastasia\\Desktop\\test_re_gbk.txt') as f :\n",
    "    for line in f :\n",
    "        words = line.split()\n",
    "        for word in words:\n",
    "            word_pos = word.split('/')\n",
    "            \n",
    "a = len(idioms)\n",
    "b = len(words)\n",
    "c = len(text)\n",
    "d = len(f)\n",
    "    "
   ]
  },
  {
   "cell_type": "code",
   "execution_count": null,
   "metadata": {
    "collapsed": true
   },
   "outputs": [],
   "source": [
    "import random\n",
    "\n",
    "def game():\n",
    "    fh = open(r'c:\\temp\\成语大全.txt')\n",
    "    text = fh.read()\n",
    "    fh.close()\n",
    "    text = text.replace('、', '')\n",
    "    idioms = text.split('\\n')\n",
    "    p = 0\n",
    "    c = 0\n",
    "    idiom = random.choice(idioms)\n",
    "    print(idiom)\n",
    "    your = input('接龙：')\n",
    "    if your in idioms and your[0] == idiom[-1]:\n",
    "        p+=10\n",
    "        for x in idioms:\n",
    "            if x[0] == your[-1]:\n",
    "                c+=10\n",
    "                print(x)\n",
    "                your = input('接龙：')\n",
    "            else:\n",
    "                print('win!','your score:',p,'computer score:',c)\n",
    "    else:\n",
    "        print('lose...','your score:',p,'computer score:',c)\n",
    "        \n",
    "        \n",
    "# 主程序\n",
    "game()\n"
   ]
  }
 ],
 "metadata": {
  "kernelspec": {
   "display_name": "Python 3",
   "language": "python",
   "name": "python3"
  }
 },
 "nbformat": 4,
 "nbformat_minor": 2
}
