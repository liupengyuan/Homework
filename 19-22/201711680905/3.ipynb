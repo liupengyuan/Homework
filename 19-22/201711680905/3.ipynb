{
 "cells": [
  {
   "cell_type": "code",
   "execution_count": 2,
   "metadata": {},
   "outputs": [
    {
     "name": "stdout",
     "output_type": "stream",
     "text": [
      "ann\n",
      "4\n",
      "26\n",
      "ann 你是非常有性格的金牛座！\n"
     ]
    }
   ],
   "source": [
    "# 练习 1：写程序，可由键盘读入用户姓名例如Mr. right，让用户输入出生的月份与日期，判断用户星座，假设用户是金牛座，则输出，Mr. right，你是非常有性格的金牛座！。\n",
    "name = input()\n",
    "m = int(input())\n",
    "d = int(input())\n",
    "if m==4 and 21<=d<=30:\n",
    "    print(name,'你是非常有性格的金牛座！')\n",
    "if m==5 and 1<=d<=20:\n",
    "    print(name,'你是非常有性格的金牛座！')\n",
    "    "
   ]
  },
  {
   "cell_type": "code",
   "execution_count": 4,
   "metadata": {},
   "outputs": [
    {
     "name": "stdout",
     "output_type": "stream",
     "text": [
      "4\n",
      "9\n",
      "求和，乘积，求余数,其他:规定\n",
      "整除为 0\n"
     ]
    }
   ],
   "source": [
    "# 练习 2：写程序，可由键盘读入两个整数m与n(n不等于0)，询问用户意图，如果要求和则计算从m到n的和输出，如果要乘积则计算从m到n的积并输出，如果要求余数则计算m除以n的余数的值并输出，否则则计算m整除n的值并输出。\n",
    "m = int(input())\n",
    "n = int(input())\n",
    "order = str(input('求和，乘积，求余数,其他:'))\n",
    "i = m\n",
    "total = 0\n",
    "mul = 1\n",
    "if order==str('求和'):\n",
    "    while m<=i<=n:\n",
    "        total=total+i\n",
    "        i=i+1\n",
    "    print(total)\n",
    "elif order==str('乘积'):\n",
    "    while m<=i<=n:\n",
    "        mul*=i\n",
    "        i+=1\n",
    "    print(mul)\n",
    "elif order==str('求余数'):\n",
    "    print('余数为',m%n)\n",
    "else :\n",
    "    print('整除为',m//n)\n",
    "    "
   ]
  },
  {
   "cell_type": "code",
   "execution_count": 3,
   "metadata": {},
   "outputs": [
    {
     "name": "stdout",
     "output_type": "stream",
     "text": [
      "wash\n",
      "washes\n"
     ]
    }
   ],
   "source": [
    "# 练习 4：英文单词单数转复数，要求输入一个英文动词（单数形式），能够得到其复数形式，或给出单数转复数形式的建议（提示，some_string.endswith(some_letter)函数可以判断某字符串结尾字符，可尝试运行：'myname'.endswith('me')，liupengyuan'.endswith('n')）。\n",
    "word = str(input())\n",
    "if word.endswith('h'):\n",
    "    print(word,'es',sep = '')\n",
    "elif word.endswith('y'):\n",
    "    print(将y改为ies)\n",
    "else:\n",
    "    print(word,'s',sep = '')"
   ]
  },
  {
   "cell_type": "code",
   "execution_count": 2,
   "metadata": {},
   "outputs": [
    {
     "name": "stdout",
     "output_type": "stream",
     "text": [
      "显示空行，输入00\n",
      "                                                                                                                                   \n"
     ]
    }
   ],
   "source": [
    "# 尝试性练习：写程序，能够在屏幕上显示空行。\n",
    "\n",
    "n = int(input('显示空行，输入0:'))\n",
    "if n==0:\n",
    "    print('                                                                                                                                   ')\n"
   ]
  },
  {
   "cell_type": "code",
   "execution_count": 6,
   "metadata": {},
   "outputs": [
    {
     "name": "stdout",
     "output_type": "stream",
     "text": [
      "输入三个以上整数个数4\n",
      "输入任一想输入的整数6\n",
      "输入另一想输入的整数7\n",
      "输入整数9\n",
      "4\n",
      "7\n",
      "8\n",
      "5\n",
      "7\n"
     ]
    }
   ],
   "source": [
    "# 挑战性练习：写程序，由用户输入一些整数，能够得到几个整数中的次大值(第二大的值)并输出。\n",
    "n =int(input('输入整数个数'))\n",
    "a = int(input('输入任一想输入的整数'))\n",
    "b = int(input('输入另一想输入的整数'))\n",
    "c = int(input('输入整数'))\n",
    "i = 1\n",
    "while i<=n:\n",
    "    i+=1\n",
    "    x = int(input())\n",
    "    if c<=a<=b or b<=a<=c:\n",
    "        x=a\n",
    "    elif a<=b<=c or c<=b<=a:\n",
    "        x=b\n",
    "    else:\n",
    "        x=c\n",
    "print(x)        \n",
    "        \n",
    "\n"
   ]
  },
  {
   "cell_type": "code",
   "execution_count": null,
   "metadata": {
    "collapsed": true
   },
   "outputs": [],
   "source": []
  }
 ],
 "metadata": {
  "kernelspec": {
   "display_name": "Python 3",
   "language": "python",
   "name": "python3"
  },
  "language_info": {
   "codemirror_mode": {
    "name": "ipython",
    "version": 3
   },
   "file_extension": ".py",
   "mimetype": "text/x-python",
   "name": "python",
   "nbconvert_exporter": "python",
   "pygments_lexer": "ipython3",
   "version": "3.6.2"
  }
 },
 "nbformat": 4,
 "nbformat_minor": 2
}
