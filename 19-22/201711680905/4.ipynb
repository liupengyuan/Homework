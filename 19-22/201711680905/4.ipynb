{
 "cells": [
  {
   "cell_type": "code",
   "execution_count": 1,
   "metadata": {},
   "outputs": [
    {
     "name": "stdout",
     "output_type": "stream",
     "text": [
      "请输入第1个整数，以回车结束。5\n",
      "请输入第2个整数，以回车结束。7\n",
      "请输入第3个整数，以回车结束。2\n",
      "最终的和是： 5162\n"
     ]
    }
   ],
   "source": [
    "# 练习 1：仿照求的完整代码，写程序，可求m!+n!+k!\n",
    "def compute_mul(end):\n",
    "    i = 1\n",
    "    total_n = 1\n",
    "\n",
    "    while i < end:\n",
    "        i = i + 1\n",
    "        total_n = total_n * i\n",
    "\n",
    "    return total_n\n",
    "\n",
    "n = int(input('请输入第1个整数，以回车结束。'))\n",
    "m = int(input('请输入第2个整数，以回车结束。'))\n",
    "k = int(input('请输入第3个整数，以回车结束。'))\n",
    "\n",
    "print('最终的和是：', compute_mul(m) + compute_mul(n) + compute_mul(k))"
   ]
  },
  {
   "cell_type": "code",
   "execution_count": 2,
   "metadata": {},
   "outputs": [
    {
     "name": "stdout",
     "output_type": "stream",
     "text": [
      "3.140592653839794\n",
      "3.1415826535897198\n"
     ]
    }
   ],
   "source": [
    " # 练习 2：写函数可返回1 - 1/3 + 1/5 - 1/7...的前n项的和。在主程序中，分别令n=1000及100000，打印4倍该函数的和。\n",
    "def sum(n):\n",
    "    i=1\n",
    "    m=1\n",
    "    total=0\n",
    "    while i<=n:\n",
    "        a=(-1)**(i-1)\n",
    "        total=total+a*(1/m)\n",
    "        i+=1\n",
    "        m+=2\n",
    "    return total    \n",
    "# 主程序\n",
    "print(sum(1000)*4)\n",
    "print(sum(100000)*4)\n",
    "\n",
    "\n"
   ]
  },
  {
   "cell_type": "code",
   "execution_count": 2,
   "metadata": {},
   "outputs": [
    {
     "name": "stdout",
     "output_type": "stream",
     "text": [
      "name:lu\n",
      "month:4\n",
      "day:6\n",
      "lu ，你是非常有性格的白羊座！\n"
     ]
    }
   ],
   "source": [
    "# 练习 3：将task3中的练习1及练习4改写为函数，并进行调。\n",
    "def date(month,day):\n",
    "    if (month==3 and day>=21 and day<=31) or (month==4 and day>=1 and day<=19):\n",
    "        print(name,'，你是非常有性格的白羊座！')\n",
    "    elif (month==4 and day>=20 and day<=28) or (month==5 and day>=1 and day<=20):\n",
    "        print(name,'，你是非常有性格的金牛座！')\n",
    "    elif (month==5 and day>=21 and day<=31) or (month==6 and day>=1 and day<=21):\n",
    "        print(name,'，你是非常有性格的双子座！')\n",
    "    elif (month==6 and day>=22 and day<=30) or (month==7 and day>=1 and day<=22):\n",
    "        print(name,'，你是非常有性格的巨蟹座！')\n",
    "    elif (month==7 and day>=23 and day<=31) or (month==8 and day>=1 and day<=22):\n",
    "        print(name,'，你是非常有性格的狮子座！')\n",
    "    elif (month==8 and day>=23 and day<=31) or (month==9 and day>=1 and day<=22):\n",
    "        print(name,'，你是非常有性格的处女座！')\n",
    "    elif (month==9 and day>=22 and day<=30) or (month==10 and day>=1 and day<=23):\n",
    "        print(name,'，你是非常有性格的天秤座！')\n",
    "    elif (month==10 and day>=22 and day<=31) or (month==11 and day>=1 and day<=22):\n",
    "        print(name,'，你是非常有性格的天蝎座！')\n",
    "    elif (month==11 and day>=22 and day<=30) or (month==12 and day>=1 and day<=21):\n",
    "        print(name,'，你是非常有性格的射手座！')\n",
    "    elif (month==1 and day>=20 and day<=31) or (month==2 and day>=1 and day<=18):\n",
    "        print(name,'，你是非常有性格的水瓶座！')\n",
    "    elif (month==2 and day>=19 and day<=29) or (month==3 and day>=1 and day<=20):\n",
    "        print(name,'，你是非常有性格的双鱼座！')\n",
    "    elif (month==12 and day>=22 and day<=31) or (month==1 and day>=1 and day<=19):\n",
    "        print(name,'，你是非常有性格的摩羯座！')\n",
    "    else:\n",
    "        print('error!')\n",
    "        \n",
    "# 主程序  \n",
    "\n",
    "name=input('name:')\n",
    "month=int(input('month:'))\n",
    "day=int(input('day:'))\n",
    "date(month,day)"
   ]
  },
  {
   "cell_type": "code",
   "execution_count": 3,
   "metadata": {},
   "outputs": [
    {
     "name": "stdout",
     "output_type": "stream",
     "text": [
      "look\n",
      "looks\n"
     ]
    }
   ],
   "source": [
    "def rec(word):\n",
    "    if word.endswith('h'):\n",
    "        print(word,'es',sep = '')\n",
    "    elif word.endswith('y'):\n",
    "        print(将y改为ies)\n",
    "    else:\n",
    "        print(word,'s',sep = '')\n",
    "\n",
    "# 主程序\n",
    "\n",
    "word=str(input())\n",
    "rec(word)"
   ]
  },
  {
   "cell_type": "code",
   "execution_count": 18,
   "metadata": {},
   "outputs": [
    {
     "name": "stdout",
     "output_type": "stream",
     "text": [
      "输入整数3\n",
      "输入整数6\n",
      "输入间隔数1\n",
      "wrong 3\n"
     ]
    },
    {
     "data": {
      "text/plain": [
       "18"
      ]
     },
     "execution_count": 18,
     "metadata": {},
     "output_type": "execute_result"
    }
   ],
   "source": [
    "# 挑战性练习：写程序，可以求从整数m到整数n累加的和，间隔为k，求和部分需用函数实现，主程序中由用户输入m，n，k调用函数验证正确性。\n",
    "def su(m,n):\n",
    "    a=0\n",
    "    b=0\n",
    "    total=0\n",
    "    if m<n:\n",
    "        a=m\n",
    "        b=n\n",
    "    else: \n",
    "        a=n\n",
    "        b=m\n",
    "    while a<=b:\n",
    "        total+=a\n",
    "        a+=1\n",
    "    return total\n",
    "    print(total)\n",
    "    \n",
    "    \n",
    "# 主程序\n",
    "m=int(input('输入整数'))\n",
    "n=int(input('输入整数'))\n",
    "k=int(input('输入间隔数'))\n",
    "    \n",
    "a=0\n",
    "b=0\n",
    "total=0\n",
    "if m<n:\n",
    "    a=m\n",
    "    b=n\n",
    "else: \n",
    "    a=n\n",
    "    b=m\n",
    "if k==b-a:\n",
    "    print('right')\n",
    "else:\n",
    "    print('wrong',b-a)\n",
    "su(m,n)\n",
    "\n",
    "\n",
    "\n",
    "        \n",
    "        \n",
    "    \n",
    "    "
   ]
  }
 ],
 "metadata": {
  "kernelspec": {
   "display_name": "Python 3",
   "language": "python",
   "name": "python3"
  },
  "language_info": {
   "codemirror_mode": {
    "name": "ipython",
    "version": 3
   },
   "file_extension": ".py",
   "mimetype": "text/x-python",
   "name": "python",
   "nbconvert_exporter": "python",
   "pygments_lexer": "ipython3",
   "version": "3.6.2"
  }
 },
 "nbformat": 4,
 "nbformat_minor": 2
}
