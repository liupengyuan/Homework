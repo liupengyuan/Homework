{
 "cells": [
  {
   "cell_type": "code",
   "execution_count": 1,
   "metadata": {},
   "outputs": [
    {
     "name": "stdout",
     "output_type": "stream",
     "text": [
      "输入个数：4\n",
      "20\n"
     ]
    }
   ],
   "source": [
    "# 1\n",
    "def sun_m():\n",
    "    i=1\n",
    "    a=0\n",
    "    m=int(input('输入个数：'))\n",
    "    total=0\n",
    "    while i<=m:\n",
    "        a+=i\n",
    "        total+=a\n",
    "        i+=1\n",
    "    print(total)\n",
    "    return\n",
    "# 主程序\n",
    "sun_m()\n",
    "        "
   ]
  },
  {
   "cell_type": "code",
   "execution_count": 4,
   "metadata": {},
   "outputs": [
    {
     "name": "stdout",
     "output_type": "stream",
     "text": [
      "输入行数：2\n",
      "输入图形：*\n"
     ]
    },
    {
     "ename": "TypeError",
     "evalue": "object of type 'int' has no len()",
     "output_type": "error",
     "traceback": [
      "\u001b[1;31m---------------------------------------------------------------------------\u001b[0m",
      "\u001b[1;31mTypeError\u001b[0m                                 Traceback (most recent call last)",
      "\u001b[1;32m<ipython-input-4-3a17b3da9dab>\u001b[0m in \u001b[0;36m<module>\u001b[1;34m()\u001b[0m\n\u001b[0;32m     10\u001b[0m \u001b[1;33m\u001b[0m\u001b[0m\n\u001b[0;32m     11\u001b[0m \u001b[1;31m# 主程序\u001b[0m\u001b[1;33m\u001b[0m\u001b[1;33m\u001b[0m\u001b[0m\n\u001b[1;32m---> 12\u001b[1;33m \u001b[0mpic\u001b[0m\u001b[1;33m(\u001b[0m\u001b[1;33m)\u001b[0m\u001b[1;33m\u001b[0m\u001b[0m\n\u001b[0m",
      "\u001b[1;32m<ipython-input-4-3a17b3da9dab>\u001b[0m in \u001b[0;36mpic\u001b[1;34m()\u001b[0m\n\u001b[0;32m      5\u001b[0m     \u001b[1;32mfor\u001b[0m \u001b[0mi\u001b[0m \u001b[1;32min\u001b[0m \u001b[0mrange\u001b[0m\u001b[1;33m(\u001b[0m\u001b[0mn\u001b[0m\u001b[1;33m)\u001b[0m\u001b[1;33m:\u001b[0m\u001b[1;33m\u001b[0m\u001b[0m\n\u001b[0;32m      6\u001b[0m         \u001b[1;32mfor\u001b[0m \u001b[0mj\u001b[0m \u001b[1;32min\u001b[0m \u001b[0mrange\u001b[0m\u001b[1;33m(\u001b[0m\u001b[1;36m2\u001b[0m\u001b[1;33m*\u001b[0m\u001b[0mn\u001b[0m\u001b[1;33m-\u001b[0m\u001b[1;36m1\u001b[0m\u001b[1;33m)\u001b[0m\u001b[1;33m:\u001b[0m\u001b[1;33m\u001b[0m\u001b[0m\n\u001b[1;32m----> 7\u001b[1;33m             \u001b[0mprint\u001b[0m\u001b[1;33m(\u001b[0m\u001b[0mx\u001b[0m\u001b[1;33m,\u001b[0m\u001b[0mlen\u001b[0m\u001b[1;33m(\u001b[0m\u001b[0mj\u001b[0m\u001b[1;33m)\u001b[0m\u001b[1;33m)\u001b[0m\u001b[1;33m\u001b[0m\u001b[0m\n\u001b[0m\u001b[0;32m      8\u001b[0m \u001b[1;33m\u001b[0m\u001b[0m\n\u001b[0;32m      9\u001b[0m \u001b[1;33m\u001b[0m\u001b[0m\n",
      "\u001b[1;31mTypeError\u001b[0m: object of type 'int' has no len()"
     ]
    }
   ],
   "source": [
    "# 2\n",
    "def pic():\n",
    "    n=int(input('输入行数：'))\n",
    "    x=str(input('输入图形：'))\n",
    "    for i in range(n):\n",
    "        for j in range(2*n-1):\n",
    "            print(x,len(j))\n",
    "        \n",
    "        \n",
    "        \n",
    "# 主程序\n",
    "pic()"
   ]
  },
  {
   "cell_type": "code",
   "execution_count": 5,
   "metadata": {},
   "outputs": [
    {
     "name": "stdout",
     "output_type": "stream",
     "text": [
      "输入正整数：2345\n"
     ]
    },
    {
     "ename": "TypeError",
     "evalue": "object of type 'int' has no len()",
     "output_type": "error",
     "traceback": [
      "\u001b[1;31m---------------------------------------------------------------------------\u001b[0m",
      "\u001b[1;31mTypeError\u001b[0m                                 Traceback (most recent call last)",
      "\u001b[1;32m<ipython-input-5-5b301b31045d>\u001b[0m in \u001b[0;36m<module>\u001b[1;34m()\u001b[0m\n\u001b[0;32m     10\u001b[0m \u001b[1;33m\u001b[0m\u001b[0m\n\u001b[0;32m     11\u001b[0m \u001b[1;31m# 主程序\u001b[0m\u001b[1;33m\u001b[0m\u001b[1;33m\u001b[0m\u001b[0m\n\u001b[1;32m---> 12\u001b[1;33m \u001b[0mfir\u001b[0m\u001b[1;33m(\u001b[0m\u001b[1;33m)\u001b[0m\u001b[1;33m\u001b[0m\u001b[0m\n\u001b[0m\u001b[0;32m     13\u001b[0m \u001b[1;33m\u001b[0m\u001b[0m\n",
      "\u001b[1;32m<ipython-input-5-5b301b31045d>\u001b[0m in \u001b[0;36mfir\u001b[1;34m()\u001b[0m\n\u001b[0;32m      2\u001b[0m \u001b[1;32mdef\u001b[0m \u001b[0mfir\u001b[0m\u001b[1;33m(\u001b[0m\u001b[1;33m)\u001b[0m\u001b[1;33m:\u001b[0m\u001b[1;33m\u001b[0m\u001b[0m\n\u001b[0;32m      3\u001b[0m     \u001b[0mn\u001b[0m\u001b[1;33m=\u001b[0m\u001b[0mint\u001b[0m\u001b[1;33m(\u001b[0m\u001b[0minput\u001b[0m\u001b[1;33m(\u001b[0m\u001b[1;34m'输入正整数：'\u001b[0m\u001b[1;33m)\u001b[0m\u001b[1;33m)\u001b[0m\u001b[1;33m\u001b[0m\u001b[0m\n\u001b[1;32m----> 4\u001b[1;33m     \u001b[0mx\u001b[0m\u001b[1;33m=\u001b[0m\u001b[0mlen\u001b[0m\u001b[1;33m(\u001b[0m\u001b[0mn\u001b[0m\u001b[1;33m)\u001b[0m\u001b[1;33m\u001b[0m\u001b[0m\n\u001b[0m\u001b[0;32m      5\u001b[0m     \u001b[0ma\u001b[0m\u001b[1;33m=\u001b[0m\u001b[1;33m[\u001b[0m\u001b[1;33m]\u001b[0m\u001b[1;33m\u001b[0m\u001b[0m\n\u001b[0;32m      6\u001b[0m     \u001b[1;32mfor\u001b[0m \u001b[0mi\u001b[0m \u001b[1;32min\u001b[0m \u001b[0mx\u001b[0m\u001b[1;33m:\u001b[0m\u001b[1;33m\u001b[0m\u001b[0m\n",
      "\u001b[1;31mTypeError\u001b[0m: object of type 'int' has no len()"
     ]
    }
   ],
   "source": [
    "# 3\n",
    "def fir():\n",
    "    n=int(input('输入正整数：'))\n",
    "    x=len(n)\n",
    "    a=[]\n",
    "    for i in x:\n",
    "        print(a[0])\n",
    "    \n",
    "    \n",
    "    \n",
    "# 主程序\n",
    "fir()\n",
    "    "
   ]
  },
  {
   "cell_type": "code",
   "execution_count": 13,
   "metadata": {},
   "outputs": [
    {
     "name": "stdout",
     "output_type": "stream",
     "text": [
      "输入人数：9\n",
      "输入身高：183\n",
      "输入身高：185\n",
      "输入身高：183\n",
      "输入身高：187\n",
      "输入身高：178\n",
      "输入身高：175\n",
      "输入身高：177\n",
      "输入身高：190\n",
      "输入身高：172\n",
      "平均身高为： 181.11111111111111\n",
      "超出的身高为： [183.0, 185.0, 183.0, 187.0, 178.0, 175.0, 177.0, 190.0]\n"
     ]
    }
   ],
   "source": [
    "# 4\n",
    "def man():\n",
    "    n=int(input('输入人数：'))\n",
    "    total=0\n",
    "    i=0\n",
    "    xs=[]\n",
    "    while i<n:\n",
    "        lon=float(input('输入身高：'))\n",
    "        total+=lon\n",
    "        i+=1\n",
    "        if lon>(total/n):\n",
    "            x=lon\n",
    "            xs.append(x)\n",
    "    print('平均身高为：',total/n)\n",
    "    print('超出的身高为：',xs)\n",
    "    \n",
    "    \n",
    "# 主程序\n",
    "man()\n",
    "            \n",
    "        "
   ]
  },
  {
   "cell_type": "code",
   "execution_count": 1,
   "metadata": {},
   "outputs": [
    {
     "name": "stdout",
     "output_type": "stream",
     "text": [
      "5 + 6\n",
      "=11\n",
      "7 + 10\n",
      "=17\n",
      "9 + 10\n",
      "=19\n",
      "9 + 0\n",
      "=9\n",
      "5 + 10\n",
      "=15\n",
      "得分为： 100\n"
     ]
    }
   ],
   "source": [
    "# 5\n",
    "import random\n",
    "def gra():\n",
    "    i=1\n",
    "    mark=0\n",
    "    while i<=5:\n",
    "        x=random.randint(0,10)\n",
    "        y=random.randint(0,10)\n",
    "        s=x+y\n",
    "        print(x,'+',y)\n",
    "        a=float(input('='))\n",
    "        if a==s:\n",
    "            mark=mark+20\n",
    "        else:\n",
    "            mark=mark+0\n",
    "        i+=1\n",
    "    print('得分为：',mark)\n",
    "    return\n",
    "\n",
    "# 主程序\n",
    "gra()\n",
    "    "
   ]
  },
  {
   "cell_type": "code",
   "execution_count": 2,
   "metadata": {},
   "outputs": [
    {
     "name": "stdout",
     "output_type": "stream",
     "text": [
      "输入个数：7\n",
      "输入第一个数：3\n",
      "输入第二个数：-5\n",
      "9\n",
      "108\n",
      "34\n",
      "-76\n",
      "88\n",
      "108.0 [9.0, 108.0, 34.0, -76.0, 88.0] -76.0\n"
     ]
    }
   ],
   "source": [
    "# 6\n",
    "def orde():\n",
    "    nums=[]\n",
    "    n=int(input('输入个数：'))\n",
    "    a=float(input('输入第一个数：'))\n",
    "    b=float(input('输入第二个数：'))\n",
    "    for i in range(n-2):\n",
    "        num=float(input())\n",
    "        nums.append(num)\n",
    "    for num in nums:\n",
    "        if num>a:\n",
    "            a=num\n",
    "        if num<b:\n",
    "            b=num\n",
    "    print(a,nums,b)\n",
    "    return\n",
    "\n",
    "# 主程序\n",
    "orde()\n",
    "        \n"
   ]
  }
 ],
 "metadata": {
  "kernelspec": {
   "display_name": "Python 3",
   "language": "python",
   "name": "python3"
  },
  "language_info": {
   "codemirror_mode": {
    "name": "ipython",
    "version": 3
   },
   "file_extension": ".py",
   "mimetype": "text/x-python",
   "name": "python",
   "nbconvert_exporter": "python",
   "pygments_lexer": "ipython3",
   "version": "3.6.2"
  }
 },
 "nbformat": 4,
 "nbformat_minor": 2
}
