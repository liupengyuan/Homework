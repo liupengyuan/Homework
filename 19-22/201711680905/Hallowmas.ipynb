{
 "cells": [
  {
   "cell_type": "code",
   "execution_count": 1,
   "metadata": {},
   "outputs": [
    {
     "name": "stdout",
     "output_type": "stream",
     "text": [
      "<function my_sum at 0x000001837AC8FEA0>\n",
      "<function my_mul at 0x000001837AC36158>\n"
     ]
    }
   ],
   "source": [
    "def my_sum(n):\n",
    "    i=1\n",
    "    total_n=0\n",
    "    while i<n:\n",
    "        total_n+=i\n",
    "        i+=1\n",
    "    return total_n\n",
    "print(my_sum)\n",
    "\n",
    "def my_mul(n):\n",
    "    i=1\n",
    "    mul_n=1\n",
    "    while i<n:\n",
    "        mul_n*=i\n",
    "        i+=1\n",
    "    return mul_n\n",
    "print(my_mul)\n",
    "    "
   ]
  },
  {
   "cell_type": "code",
   "execution_count": 2,
   "metadata": {},
   "outputs": [
    {
     "name": "stdout",
     "output_type": "stream",
     "text": [
      "7\n",
      "3\n",
      "24\n"
     ]
    }
   ],
   "source": [
    "m=int(input())\n",
    "n=int(input())\n",
    "if m>n:\n",
    "    print(my_sum(m)+my_sum(n))\n",
    "else:\n",
    "    print(my_mul(m)+my_mul(n))"
   ]
  }
 ],
 "metadata": {
  "kernelspec": {
   "display_name": "Python 3",
   "language": "python",
   "name": "python3"
  },
  "language_info": {
   "codemirror_mode": {
    "name": "ipython",
    "version": 3
   },
   "file_extension": ".py",
   "mimetype": "text/x-python",
   "name": "python",
   "nbconvert_exporter": "python",
   "pygments_lexer": "ipython3",
   "version": "3.6.2"
  }
 },
 "nbformat": 4,
 "nbformat_minor": 2
}
