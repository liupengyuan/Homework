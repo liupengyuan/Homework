{
 "cells": [
  {
   "cell_type": "code",
   "execution_count": 2,
   "metadata": {},
   "outputs": [
    {
     "name": "stdout",
     "output_type": "stream",
     "text": [
      "5\n",
      "10\n",
      "500\n"
     ]
    },
    {
     "data": {
      "text/plain": [
       "322"
      ]
     },
     "execution_count": 2,
     "metadata": {},
     "output_type": "execute_result"
    }
   ],
   "source": [
    "import random\n",
    "def num():\n",
    "    m=int(input())\n",
    "    n=int(input())\n",
    "    k=int(input())\n",
    "    i=1\n",
    "    total=0\n",
    "    if n>k:\n",
    "        a=n\n",
    "        n=k\n",
    "        k=a\n",
    "    while i<=m:\n",
    "        s=random.randint(n,k)\n",
    "        total+=s\n",
    "        i+=1\n",
    "        return total\n",
    "    print(total**(1/2))\n",
    "# 主程序\n",
    "num()"
   ]
  }
 ],
 "metadata": {
  "kernelspec": {
   "display_name": "Python 3",
   "language": "python",
   "name": "python3"
  },
  "language_info": {
   "codemirror_mode": {
    "name": "ipython",
    "version": 3
   },
   "file_extension": ".py",
   "mimetype": "text/x-python",
   "name": "python",
   "nbconvert_exporter": "python",
   "pygments_lexer": "ipython3",
   "version": "3.6.2"
  }
 },
 "nbformat": 4,
 "nbformat_minor": 2
}
