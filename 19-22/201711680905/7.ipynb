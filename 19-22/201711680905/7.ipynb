{
 "cells": [
  {
   "cell_type": "code",
   "execution_count": 4,
   "metadata": {},
   "outputs": [
    {
     "name": "stdout",
     "output_type": "stream",
     "text": [
      "jhzdkagfauh\n",
      "huafgakdzh\n"
     ]
    }
   ],
   "source": [
    "# 练习一：自己定义一个reverse(s)函数，功能返回字符串s的倒序字符串。\n",
    "def reverse(s):\n",
    "    print(s[len(s):0:-1])\n",
    "\n",
    "# 主程序\n",
    "s=str(input())\n",
    "reverse(s)"
   ]
  },
  {
   "cell_type": "code",
   "execution_count": 3,
   "metadata": {},
   "outputs": [
    {
     "name": "stdout",
     "output_type": "stream",
     "text": [
      "符号：^\n",
      "行数：5\n",
      "不规则度：2\n",
      "^\n",
      "^^\n",
      "^^^\n",
      "^^^^\n",
      "^^^^^\n",
      "     \n",
      "    ^ \n",
      "   ^ ^ \n",
      "  ^ ^ ^ \n",
      " ^ ^ ^ ^ \n",
      "     \n",
      "    ^  \n",
      "   ^  ^  \n",
      "  ^  ^  ^  \n",
      " ^  ^  ^  ^  \n"
     ]
    }
   ],
   "source": [
    "# 练习二：写函数，根据给定符号和行数，打印相应直角三角形，等腰三角形及其他形式的三角形。\n",
    "def tri():\n",
    "    sym = str(input('符号：'))\n",
    "    n = int(input('行数：'))\n",
    "    m = int(input('不规则度：'))\n",
    "    for i in range(n):\n",
    "        print(sym*(i+1))\n",
    "        \n",
    "    for j in range(n):\n",
    "        print((n-j)*' ' + (sym+' ')*j, end='')\n",
    "        print()\n",
    "    \n",
    "    for k in range(n):\n",
    "        print((n-k)*' ' + (sym+' '*m)*k, end='')\n",
    "        print()\n",
    "        \n",
    "# 主程序\n",
    "tri()"
   ]
  },
  {
   "cell_type": "code",
   "execution_count": 7,
   "metadata": {},
   "outputs": [
    {
     "name": "stdout",
     "output_type": "stream",
     "text": [
      "符号：#\n",
      "边长：4\n",
      "    \n",
      "   # \n",
      "  # # \n",
      " # # # \n",
      "# # # # \n",
      " # # # \n",
      "  # # \n",
      "   # \n"
     ]
    }
   ],
   "source": [
    "# 练习五：写函数，根据给定符号，打印各种菱形。\n",
    "def pic():\n",
    "    sym = str(input('符号：'))\n",
    "    n = int(input('边长：'))\n",
    "    \n",
    "    for i in range(n):\n",
    "        print((n-i)*' ' + (sym+' ')*i, end='')\n",
    "        print()\n",
    "        \n",
    "    for j in range(n):\n",
    "        print(j*' ' + (n-j)*(sym+' '), end='')\n",
    "        print()\n",
    "        \n",
    "# 主程序\n",
    "pic()"
   ]
  }
 ],
 "metadata": {
  "kernelspec": {
   "display_name": "Python 3",
   "language": "python",
   "name": "python3"
  },
  "language_info": {
   "codemirror_mode": {
    "name": "ipython",
    "version": 3
   },
   "file_extension": ".py",
   "mimetype": "text/x-python",
   "name": "python",
   "nbconvert_exporter": "python",
   "pygments_lexer": "ipython3",
   "version": "3.6.2"
  }
 },
 "nbformat": 4,
 "nbformat_minor": 2
}
