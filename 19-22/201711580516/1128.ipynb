{
 "cells": [
  {
   "cell_type": "code",
   "execution_count": 8,
   "metadata": {
    "collapsed": false
   },
   "outputs": [
    {
     "name": "stdout",
     "output_type": "stream",
     "text": [
      "a\n",
      "ab\n",
      "abc\n",
      "abcd\n",
      "abcde\n",
      "abcdef\n",
      "abcdefg\n",
      "abcdefgh\n",
      "abcdefghi\n",
      "abcdefghig\n",
      "abcdefghigk\n",
      "abcdefghigkl\n",
      "abcdefghigklm\n",
      "abcdefghigklmn\n",
      "abcdefghigklmno\n",
      "abcdefghigklmnop\n",
      "abcdefghigklmnopq\n",
      "abcdefghigklmnopqr\n",
      "abcdefghigklmnopqrs\n",
      "abcdefghigklmnopqrst\n",
      "abcdefghigklmnopqrstu\n",
      "abcdefghigklmnopqrstuv\n",
      "abcdefghigklmnopqrstuvw\n",
      "abcdefghigklmnopqrstuvwx\n",
      "abcdefghigklmnopqrstuvwxy\n",
      "abcdefghigklmnopqrstuvwxyz\n"
     ]
    }
   ],
   "source": [
    "line='abcdefghigklmnopqrstuvwxyz'\n",
    "for i in range(0,len(line)):\n",
    "    for k in range(0,i+1):\n",
    "        print(line[k],end='')\n",
    "    print()"
   ]
  }
 ],
 "metadata": {
  "kernelspec": {
   "display_name": "Python 3",
   "language": "python",
   "name": "python3"
  },
  "language_info": {
   "codemirror_mode": {
    "name": "ipython",
    "version": 3
   },
   "file_extension": ".py",
   "mimetype": "text/x-python",
   "name": "python",
   "nbconvert_exporter": "python",
   "pygments_lexer": "ipython3",
   "version": "3.6.0"
  }
 },
 "nbformat": 4,
 "nbformat_minor": 2
}
