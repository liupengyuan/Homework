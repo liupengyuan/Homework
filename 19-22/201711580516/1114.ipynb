{
 "cells": [
  {
   "cell_type": "code",
   "execution_count": 2,
   "metadata": {
    "collapsed": false
   },
   "outputs": [
    {
     "data": {
      "text/plain": [
       "(899, -10, 106.63)"
      ]
     },
     "execution_count": 2,
     "metadata": {},
     "output_type": "execute_result"
    }
   ],
   "source": [
    "#写函数，返回一个list中的最大值，最小值，平均值。（不用内置的求和求函数）\n",
    "def compute():\n",
    "    numbers=[1,2,-1,55,100,899,-10,3,12.5,5.8]\n",
    "    i=1\n",
    "    M=numbers[0]\n",
    "    m=numbers[0]\n",
    "    total=0\n",
    "    while i<10:\n",
    "        number=numbers[i]\n",
    "        if number>M:\n",
    "            M=number\n",
    "        elif number<m:\n",
    "            m=number\n",
    "        total+=number\n",
    "        i+=1\n",
    "    s=total/10\n",
    "    return M,m,s\n",
    "compute()\n",
    "        \n",
    "        \n",
    "        \n",
    "    \n",
    "        \n",
    "  \n",
    "    \n",
    "\n",
    "        \n",
    "        "
   ]
  },
  {
   "cell_type": "code",
   "execution_count": null,
   "metadata": {
    "collapsed": true
   },
   "outputs": [],
   "source": []
  }
 ],
 "metadata": {
  "kernelspec": {
   "display_name": "Python 3",
   "language": "python",
   "name": "python3"
  },
  "language_info": {
   "codemirror_mode": {
    "name": "ipython",
    "version": 3
   },
   "file_extension": ".py",
   "mimetype": "text/x-python",
   "name": "python",
   "nbconvert_exporter": "python",
   "pygments_lexer": "ipython3",
   "version": "3.6.0"
  }
 },
 "nbformat": 4,
 "nbformat_minor": 2
}
