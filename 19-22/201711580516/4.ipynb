{
 "cells": [
  {
   "cell_type": "code",
   "execution_count": 2,
   "metadata": {},
   "outputs": [
    {
     "name": "stdout",
     "output_type": "stream",
     "text": [
      "请输入第一个整数2\n",
      "请输入第二个整数1\n",
      "请输入第三个整数3\n",
      "9\n"
     ]
    }
   ],
   "source": [
    "#练习 1：写程序，可求m!+n!+k!\n",
    "def mul(n):\n",
    "    i=0\n",
    "    t=1\n",
    "    while i<n:\n",
    "        i=i+1\n",
    "        t=t*i\n",
    "    return t\n",
    "#主程序\n",
    "m=int(input('请输入第一个整数'))\n",
    "n=int(input('请输入第二个整数'))\n",
    "k=int(input('请输入第三个整数'))\n",
    "print(mul(m)+mul(n)+mul(k))"
   ]
  },
  {
   "cell_type": "code",
   "execution_count": 4,
   "metadata": {},
   "outputs": [
    {
     "name": "stdout",
     "output_type": "stream",
     "text": [
      "3.140592653839794\n",
      "3.1415826535897198\n"
     ]
    }
   ],
   "source": [
    "#练习 2：写函数可返回1 - 1/3 + 1/5 - 1/7...的前n项的和。在主程序中，分别令n=1000及100000，打印4倍该函数的和\n",
    "def two(n):\n",
    "    i=-1\n",
    "    t=0\n",
    "    while (i+1)/2<n:\n",
    "        i=i+2\n",
    "        a=i+1\n",
    "        if a%4!=0:\n",
    "            t=t+1/i\n",
    "        else:\n",
    "            t=t-1/i\n",
    "            \n",
    "    return t\n",
    "#主程序\n",
    "print(two(1000)*4)\n",
    "print(two(100000)*4)\n",
    "    "
   ]
  },
  {
   "cell_type": "code",
   "execution_count": 8,
   "metadata": {},
   "outputs": [
    {
     "name": "stdout",
     "output_type": "stream",
     "text": [
      "请输入您的姓名Albert\n",
      "请输入您的出生月份11\n",
      "请输入您的出生日期26\n",
      "Albert ,你是很有个性的 射手座 !\n"
     ]
    }
   ],
   "source": [
    "def con(a):\n",
    "    \n",
    "    if n==1:\n",
    "        if i<=19:\n",
    "            a=('摩羯座')\n",
    "        else:\n",
    "            a=('水瓶座') \n",
    "    if n==2:\n",
    "        if i<=18:\n",
    "            a=('水瓶座')\n",
    "        else:\n",
    "            a=('双鱼座')\n",
    "    if n==3:\n",
    "        if i<=20:\n",
    "            a=('双鱼座')\n",
    "        else:\n",
    "            a=('白羊座')\n",
    "    if n==4:\n",
    "        if i<=19:\n",
    "            a=('白羊座')\n",
    "        else:\n",
    "            a=('金牛座')\n",
    "    if n==5:\n",
    "        if i<=20:\n",
    "            a=('金牛座')\n",
    "        else:\n",
    "            a=('双子座')\n",
    "    if n==6:\n",
    "        if i<=21:\n",
    "            a=('双子座')\n",
    "        else:\n",
    "            a=('巨蟹座')\n",
    "    if n==7:\n",
    "        if i<=22:\n",
    "            a=('巨蟹座')\n",
    "        else:\n",
    "            a=('狮子座')\n",
    "    if n==8:\n",
    "        if i<=22:\n",
    "            a=('狮子座')\n",
    "        else:\n",
    "            a=('处女座')\n",
    "    if n==9:\n",
    "        if i<=22:\n",
    "            a=('处女座')\n",
    "        else:\n",
    "            a=('天秤座')\n",
    "    if n==10:\n",
    "        if i<=23:\n",
    "            a=('天秤座')\n",
    "        else:\n",
    "            a=('天蝎座')\n",
    "    if n==11:\n",
    "        if i<=22:\n",
    "            a=('天蝎座')\n",
    "        else:    \n",
    "            a=('射手座')\n",
    "    if n==12:\n",
    "        if i<=21:\n",
    "            a=('射手座')\n",
    "        else:\n",
    "            a=('摩羯座')\n",
    "    return a\n",
    "# 主程序 \n",
    "\n",
    "m=input('请输入您的姓名')\n",
    "n=int(input('请输入您的出生月份'))\n",
    "i=int(input('请输入您的出生日期'))\n",
    "a=True\n",
    "print(m,',你是很有个性的',con(a),'!')\n",
    "\n",
    "   \n",
    "    \n",
    "   "
   ]
  },
  {
   "cell_type": "code",
   "execution_count": 42,
   "metadata": {},
   "outputs": [
    {
     "name": "stdout",
     "output_type": "stream",
     "text": [
      "请输入一个英文动词的单数形式runs\n",
      "去掉s\n"
     ]
    }
   ],
   "source": [
    "def end(n):\n",
    "\n",
    "    if i==True:\n",
    "        a=('去掉es')\n",
    "    else:\n",
    "        a=('去掉s')\n",
    "    return a\n",
    "#\n",
    "i=(input('请输入一个英文动词的单数形式').endswith('es'))\n",
    "a=True\n",
    "print(end(a))"
   ]
  },
  {
   "cell_type": "code",
   "execution_count": 44,
   "metadata": {},
   "outputs": [
    {
     "name": "stdout",
     "output_type": "stream",
     "text": [
      "请输入一个整数1\n",
      "请输入一个更大的整数5\n",
      "请输入求和间隔2\n",
      "9\n"
     ]
    }
   ],
   "source": [
    "def compute_sum(m):\n",
    "    t=m\n",
    "    while m+k<=n:\n",
    "        m=m+k\n",
    "    \n",
    "        t=t+m\n",
    "      \n",
    "    return t\n",
    "#\n",
    "m=int(input('请输入一个整数'))\n",
    "n=int(input('请输入一个更大的整数'))\n",
    "k=int(input('请输入求和间隔'))\n",
    "\n",
    "print(compute_sum(t))"
   ]
  },
  {
   "cell_type": "code",
   "execution_count": null,
   "metadata": {},
   "outputs": [],
   "source": []
  },
  {
   "cell_type": "code",
   "execution_count": null,
   "metadata": {},
   "outputs": [],
   "source": []
  },
  {
   "cell_type": "code",
   "execution_count": null,
   "metadata": {},
   "outputs": [],
   "source": []
  }
 ],
 "metadata": {
  "kernelspec": {
   "display_name": "Python 3",
   "language": "python",
   "name": "python3"
  }
 },
 "nbformat": 4,
 "nbformat_minor": 2
}
