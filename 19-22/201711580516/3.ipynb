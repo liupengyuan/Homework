{
 "cells": [
  {
   "cell_type": "code",
   "execution_count": 8,
   "metadata": {},
   "outputs": [
    {
     "name": "stdout",
     "output_type": "stream",
     "text": [
      "请输入您的姓名Albert\n",
      "请输入您的出生月份11\n",
      "请输入您的出生日期26\n",
      "Albert ,你是很有个性的 射手座 !\n"
     ]
    }
   ],
   "source": [
    "m=input('请输入您的姓名')\n",
    "n=int(input('请输入您的出生月份'))\n",
    "i=int(input('请输入您的出生日期'))\n",
    "if n==1:\n",
    "    if i<=19:\n",
    "        a=('摩羯座')\n",
    "    else:\n",
    "        a=('水瓶座') \n",
    "if n==2:\n",
    "    if i<=18:\n",
    "        a=('水瓶座')\n",
    "    else:\n",
    "        a=('双鱼座')\n",
    "if n==3:\n",
    "    if i<=20:\n",
    "        a=('双鱼座')\n",
    "    else:\n",
    "        a=('白羊座')\n",
    "if n==4:\n",
    "    if i<=19:\n",
    "        a=('白羊座')\n",
    "    else:\n",
    "        a=('金牛座')\n",
    "if n==5:\n",
    "    if i<=20:\n",
    "        a=('金牛座')\n",
    "    else:\n",
    "        a=('双子座')\n",
    "if n==6:\n",
    "    if i<=21:\n",
    "        a=('双子座')\n",
    "    else:\n",
    "        a=('巨蟹座')\n",
    "if n==7:\n",
    "    if i<=22:\n",
    "        a=('巨蟹座')\n",
    "    else:\n",
    "        a=('狮子座')\n",
    "if n==8:\n",
    "    if i<=22:\n",
    "        a=('狮子座')\n",
    "    else:\n",
    "        a=('处女座')\n",
    "if n==9:\n",
    "    if i<=22:\n",
    "        a=('处女座')\n",
    "    else:\n",
    "        a=('天秤座')\n",
    "if n==10:\n",
    "    if i<=23:\n",
    "        a=('天秤座')\n",
    "    else:\n",
    "        a=('天蝎座')\n",
    "if n==11:\n",
    "    if i<=22:\n",
    "        a=('天蝎座')\n",
    "    else:\n",
    "        a=('射手座')\n",
    "if n==12:\n",
    "    if i<=21:\n",
    "        a=('射手座')\n",
    "    else:\n",
    "        a=('摩羯座')\n",
    "print(m,',你是很有个性的',a,'!')\n"
   ]
  },
  {
   "cell_type": "code",
   "execution_count": 14,
   "metadata": {},
   "outputs": [
    {
     "name": "stdout",
     "output_type": "stream",
     "text": [
      "请输入第一个数8\n",
      "请输入与第一个数不同的第二个数，且不能为05\n",
      "若要求和，请输入1；求积，请输入2；求余数，请输入3；求m整除n,请输入43\n",
      "3\n"
     ]
    }
   ],
   "source": [
    "m=int(input('请输入第一个数'))\n",
    "n=int(input('请输入与第一个数不同的第二个数，且不能为0'))\n",
    "i=int(input('若要求和，请输入1；求积，请输入2；求余数，请输入3；求m整除n,请输入4'))\n",
    "if i==1:\n",
    "    print(m+n)\n",
    "elif i==2:\n",
    "    print(m*n)\n",
    "elif i==3:\n",
    "    print(m%n)\n",
    "elif i==4:\n",
    "    print(m/n)"
   ]
  },
  {
   "cell_type": "code",
   "execution_count": 34,
   "metadata": {},
   "outputs": [
    {
     "name": "stdout",
     "output_type": "stream",
     "text": [
      "请输入一个英文单词的单数形式catches\n",
      "去掉es\n"
     ]
    }
   ],
   "source": [
    "i=(input('请输入一个英文单词的单数形式').endswith('es'))\n",
    "if i==True:\n",
    "    print('去掉es')\n",
    "else:\n",
    "    print('去掉s')"
   ]
  },
  {
   "cell_type": "code",
   "execution_count": 37,
   "metadata": {},
   "outputs": [
    {
     "name": "stdout",
     "output_type": "stream",
     "text": [
      "你想要显示几行空行5\n",
      " \n",
      " \n",
      " \n",
      " \n",
      " \n",
      "以上是 5 行空行\n"
     ]
    }
   ],
   "source": [
    "i=int(input('你想要显示几行空行'))\n",
    "a=0\n",
    "while a<i:\n",
    "    print(' ')\n",
    "    a=a+1\n",
    "print('以上是',i,'行空行')    "
   ]
  },
  {
   "cell_type": "code",
   "execution_count": 2,
   "metadata": {},
   "outputs": [
    {
     "name": "stdout",
     "output_type": "stream",
     "text": [
      "请输入第一个整数3\n",
      "请输入第二个整数6\n",
      "请输入第三个整数9\n",
      "6\n",
      "6\n",
      "6\n",
      "6\n",
      "6\n"
     ]
    }
   ],
   "source": [
    "a=int(input('请输入第一个整数'))\n",
    "b=int(input('请输入第二个整数'))\n",
    "c=int(input('请输入第三个整数'))\n",
    "if a<=b:\n",
    "    if b<=c:\n",
    "        print(b)\n",
    "    else:\n",
    "        if c<=a:\n",
    "            print(a)\n",
    "        else:\n",
    "            print(c)\n",
    "else:\n",
    "    if c>=a:\n",
    "        print(a)\n",
    "    else:\n",
    "        if c<=b:\n",
    "            print(b)\n",
    "        else:\n",
    "            print(c)"
   ]
  }
 ],
 "metadata": {
  "kernelspec": {
   "display_name": "Python 3",
   "language": "python",
   "name": "python3"
  },
  "language_info": {
   "codemirror_mode": {
    "name": "ipython",
    "version": 3
   },
   "file_extension": ".py",
   "mimetype": "text/x-python",
   "name": "python",
   "nbconvert_exporter": "python",
   "pygments_lexer": "ipython3",
   "version": "3.6.0"
  }
 },
 "nbformat": 4,
 "nbformat_minor": 2
}
