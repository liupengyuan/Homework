{
 "cells": [
  {
   "cell_type": "code",
   "execution_count": 2,
   "metadata": {},
   "outputs": [
    {
     "name": "stdout",
     "output_type": "stream",
     "text": [
      "请输入一个整数2\n",
      "请输入一个整数3\n",
      "8\n"
     ]
    }
   ],
   "source": [
    "def my_sum(n):\n",
    "    i=0\n",
    "    t=0\n",
    "    while i<n:\n",
    "        i=i+1\n",
    "        t=t+i\n",
    "    return t\n",
    "def my_mul(n):\n",
    "    i=0\n",
    "    s=1\n",
    "    while i<n:\n",
    "        i=i+1\n",
    "        s=s*i\n",
    "    return s\n",
    "#\n",
    "m=int(input('请输入一个整数'))\n",
    "n=int(input('请输入一个整数'))\n",
    "if m>n:\n",
    "    print(my_sum(m)+my_sum(n))\n",
    "else:\n",
    "    print(my_mul(m)+my_mul(n))"
   ]
  },
  {
   "cell_type": "code",
   "execution_count": null,
   "metadata": {},
   "outputs": [],
   "source": []
  },
  {
   "cell_type": "code",
   "execution_count": null,
   "metadata": {},
   "outputs": [],
   "source": []
  }
 ],
 "metadata": {
  "kernelspec": {
   "display_name": "Python 3",
   "language": "python",
   "name": "python3"
  },
  "language_info": {
   "codemirror_mode": {
    "name": "ipython",
    "version": 3
   },
   "file_extension": ".py",
   "mimetype": "text/x-python",
   "name": "python",
   "nbconvert_exporter": "python",
   "pygments_lexer": "ipython3",
   "version": "3.6.0"
  }
 },
 "nbformat": 4,
 "nbformat_minor": 2
}
