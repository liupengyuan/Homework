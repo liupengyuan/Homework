{
 "cells": [
  {
   "cell_type": "code",
   "execution_count": 8,
   "metadata": {},
   "outputs": [
    {
     "name": "stdout",
     "output_type": "stream",
     "text": [
      "第一种方法用了 0.935659646987915 seconds\n",
      "第二种方法用了 0.0005018711090087891 seconds\n"
     ]
    }
   ],
   "source": [
    "import random,time,bisect\n",
    "A=[]\n",
    "B=[]\n",
    "N=[]\n",
    "one=[]\n",
    "two=[]\n",
    "for i in range(1,100001):\n",
    "    A.append(i)\n",
    "a=A[:]\n",
    "random.shuffle(a)\n",
    "B=a\n",
    "for i in range(1,1001):\n",
    "    N.append(random.randint(1,110000))\n",
    "S1=time.time()\n",
    "for i in N:\n",
    "    if i in B:\n",
    "        one.append(i)\n",
    "E1=time.time()\n",
    "S2=time.time()\n",
    "for i in N:\n",
    "    two.append(bisect.bisect_left(A,i))\n",
    "E2=time.time()\n",
    "print('第一种方法用了',E1-S1,'seconds')\n",
    "print('第二种方法用了',E2-S2,'seconds')"
   ]
  }
 ],
 "metadata": {
  "kernelspec": {
   "display_name": "Python 3",
   "language": "python",
   "name": "python3"
  },
  "language_info": {
   "codemirror_mode": {
    "name": "ipython",
    "version": 3
   },
   "file_extension": ".py",
   "mimetype": "text/x-python",
   "name": "python",
   "nbconvert_exporter": "python",
   "pygments_lexer": "ipython3",
   "version": "3.6.0"
  }
 },
 "nbformat": 4,
 "nbformat_minor": 2
}
