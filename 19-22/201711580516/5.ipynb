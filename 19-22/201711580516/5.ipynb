{
 "cells": [
  {
   "cell_type": "code",
   "execution_count": 18,
   "metadata": {},
   "outputs": [
    {
     "name": "stdout",
     "output_type": "stream",
     "text": [
      "请输入整数个数20\n",
      "请输入整数下限5\n",
      "请输入整数上限1000\n",
      "98.96464014990404\n"
     ]
    }
   ],
   "source": [
    "#写函数，求n个随机整数均值的平方根，整数范围在m与k之间（n,m,k由用户输入）\n",
    "import random,math\n",
    "def compute():\n",
    "    n=int(input('请输入整数个数'))\n",
    "    m=int(input('请输入整数下限'))\n",
    "    k=int(input('请输入整数上限'))\n",
    "    i=0\n",
    "    total=0\n",
    "    while i<n:\n",
    "        i+=1\n",
    "        number=random.randint(m,k)\n",
    "        total+=number\n",
    "    s=math.sqrt(total)\n",
    "    print(s)\n",
    "compute()"
   ]
  },
  {
   "cell_type": "code",
   "execution_count": 4,
   "metadata": {},
   "outputs": [
    {
     "name": "stdout",
     "output_type": "stream",
     "text": [
      "请输入整数个数10\n",
      "请输入整数下限5\n",
      "请输入整数上限100\n",
      "36.09995588496166\n",
      "2.8401303176547086\n"
     ]
    }
   ],
   "source": [
    "#练习 2：写函数，共n个随机整数，整数范围在m与k之间，（n,m,k由用户输入）\n",
    "#求1：西格玛log(随机整数)，2：西格玛1/log(随机整数)\n",
    "import random,math\n",
    "def compute_1():\n",
    "    n=int(input('请输入整数个数'))\n",
    "    m=int(input('请输入整数下限'))\n",
    "    k=int(input('请输入整数上限'))\n",
    "    i=0\n",
    "    total_1=0\n",
    "    total_2=0\n",
    "    while i<n:\n",
    "        i=i+1\n",
    "        number=random.randint(m,k)\n",
    "        total_1+=math.log(number)\n",
    "        total_2+=1/math.log(number)\n",
    "    print(total_1)\n",
    "    print(total_2)\n",
    "compute_1() \n",
    "        \n",
    "        "
   ]
  },
  {
   "cell_type": "code",
   "execution_count": 15,
   "metadata": {},
   "outputs": [
    {
     "name": "stdout",
     "output_type": "stream",
     "text": [
      "你想要几个数相加呢?4\n",
      "9872\n"
     ]
    }
   ],
   "source": [
    "#写函数，求s=a+aa+aaa+aaaa+aa...a的值，其中a是[1,9]之间的随机整数。\n",
    "#例如2+22+222+2222+22222(此时共有5个数相加)，几个数相加由键盘输入。\n",
    "import random\n",
    "def compute_2():\n",
    "    n=int(input('你想要几个数相加呢?'))\n",
    "    a=random.randint(1,9)\n",
    "    i=1\n",
    "    s=a\n",
    "    K=1\n",
    "    while i<n:\n",
    "        K+=10**i\n",
    "        i+=1\n",
    "        s+=a*K\n",
    "    print(s)\n",
    "compute_2()\n",
    "    "
   ]
  }
 ],
 "metadata": {
  "kernelspec": {
   "display_name": "Python 3",
   "language": "python",
   "name": "python3"
  },
  "language_info": {
   "codemirror_mode": {
    "name": "ipython",
    "version": 3
   },
   "file_extension": ".py",
   "mimetype": "text/x-python",
   "name": "python",
   "nbconvert_exporter": "python",
   "pygments_lexer": "ipython3",
   "version": "3.6.0"
  }
 },
 "nbformat": 4,
 "nbformat_minor": 2
}
