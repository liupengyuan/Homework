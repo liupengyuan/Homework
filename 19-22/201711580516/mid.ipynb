{
 "cells": [
  {
   "cell_type": "code",
   "execution_count": 7,
   "metadata": {
    "collapsed": false
   },
   "outputs": [
    {
     "name": "stdout",
     "output_type": "stream",
     "text": [
      "请输入数列项数4\n"
     ]
    },
    {
     "data": {
      "text/plain": [
       "20"
      ]
     },
     "execution_count": 7,
     "metadata": {},
     "output_type": "execute_result"
    }
   ],
   "source": [
    "#1\n",
    "def function1():\n",
    "    m=int(input('请输入数列项数'))\n",
    "    a=1\n",
    "    k=0\n",
    "    total=0\n",
    "    while a<(m+1):\n",
    "        k=k+a\n",
    "        a=a+1\n",
    "        total=total+k\n",
    "    return total\n",
    "function1()\n",
    "        \n",
    "        \n",
    "    "
   ]
  },
  {
   "cell_type": "code",
   "execution_count": null,
   "metadata": {
    "collapsed": false
   },
   "outputs": [
    {
     "name": "stdout",
     "output_type": "stream",
     "text": [
      "请输入图形行数2\n",
      "*\n",
      "*\n"
     ]
    }
   ],
   "source": [
    "#2\n",
    "def function2():\n",
    "    n=int(input('请输入图形行数'))\n",
    "    i=0\n",
    "    k=0\n",
    "    m=0\n",
    "    while i<n:\n",
    "        k=2*i+1\n",
    "        while m<k:\n",
    "            print('*',)\n",
    "            m=m+k\n",
    "        \n",
    "        \n",
    "    \n",
    "        i=i+1\n",
    "    return\n",
    "function2()"
   ]
  },
  {
   "cell_type": "code",
   "execution_count": null,
   "metadata": {
    "collapsed": false
   },
   "outputs": [],
   "source": [
    "#3\n",
    "def function3():\n",
    "    number=int(input('请输入一个正整数'))\n",
    "    i=1\n",
    "    k=0\n",
    "    while number/i>=10:\n",
    "        k=number/i\n",
    "        i=i*10\n",
    "    print(int(k/10))\n",
    "    return\n",
    "function3()\n",
    "        \n",
    "        "
   ]
  },
  {
   "cell_type": "code",
   "execution_count": 19,
   "metadata": {
    "collapsed": false
   },
   "outputs": [
    {
     "name": "stdout",
     "output_type": "stream",
     "text": [
      "请输入各队员的身高183\n",
      "请输入各队员的身高185\n",
      "请输入各队员的身高183\n",
      "请输入各队员的身高187\n",
      "请输入各队员的身高178\n",
      "请输入各队员的身高175\n",
      "请输入各队员的身高177\n",
      "请输入各队员的身高190\n",
      "请输入各队员的身高172\n"
     ]
    },
    {
     "data": {
      "text/plain": [
       "(181.11111111111111, [183, 185, 183, 187, 190])"
      ]
     },
     "execution_count": 19,
     "metadata": {},
     "output_type": "execute_result"
    }
   ],
   "source": [
    "#4\n",
    "def function4():\n",
    "    Height=[]\n",
    "    high=[]\n",
    "    n=0\n",
    "    total=0\n",
    "    while n<9:\n",
    "        height=int(input('请输入各队员的身高'))\n",
    "        Height.append(height)\n",
    "        n+=1\n",
    "        total+=height\n",
    "    i=0\n",
    "    while i<9:\n",
    "    \n",
    "        if Height[i]>(total/9):\n",
    "            h=Height[i]\n",
    "            high.append(h)\n",
    "        i+=1\n",
    "    return total/9,high\n",
    "function4()\n",
    "    \n",
    "    \n",
    "        \n",
    "    "
   ]
  },
  {
   "cell_type": "code",
   "execution_count": 3,
   "metadata": {
    "collapsed": false
   },
   "outputs": [
    {
     "name": "stdout",
     "output_type": "stream",
     "text": [
      "6 + 6 =\n",
      "7 + 8 =\n",
      "6 + 9 =\n",
      "2 + 8 =\n",
      "1 + 2 =\n",
      "请依次输入答案12\n",
      "请依次输入答案15\n",
      "请依次输入答案15\n",
      "请依次输入答案10\n",
      "请依次输入答案3\n"
     ]
    },
    {
     "data": {
      "text/plain": [
       "100"
      ]
     },
     "execution_count": 3,
     "metadata": {},
     "output_type": "execute_result"
    }
   ],
   "source": [
    "#5\n",
    "import random\n",
    "def function5():\n",
    "    n=0\n",
    "    i=0\n",
    "    S=[]\n",
    "    mark=0\n",
    "    while n<5:\n",
    "        a=random.randint(1,9)\n",
    "        b=random.randint(1,9)\n",
    "        print(a,'+',b,'=')\n",
    "        s=a+b\n",
    "        S.append(s)\n",
    "        n=n+1\n",
    "    while i<5:\n",
    "        an=int(input('请依次输入答案'))\n",
    "        if an==S[i]:\n",
    "            mark+=20\n",
    "            \n",
    "        i+=1\n",
    "    \n",
    "    return mark\n",
    "        \n",
    "function5()        \n",
    "        "
   ]
  },
  {
   "cell_type": "code",
   "execution_count": 12,
   "metadata": {
    "collapsed": false
   },
   "outputs": [
    {
     "data": {
      "text/plain": [
       "[108, 3, -5, 9, 34, 88, -76]"
      ]
     },
     "execution_count": 12,
     "metadata": {},
     "output_type": "execute_result"
    }
   ],
   "source": [
    "#6\n",
    "def function6():\n",
    "    numbers=[3,-5,9,108,34,-76,88]\n",
    "    \n",
    "    \n",
    "    max=numbers[0]\n",
    "    min=numbers[0]\n",
    "    i=0\n",
    "    while i<len(numbers):\n",
    "        if numbers[i]>max:\n",
    "            max=numbers[i]\n",
    "            M=i\n",
    "        elif numbers[i]<min:\n",
    "            min=numbers[i]\n",
    "            m=i\n",
    "        i=i+1\n",
    "    new=[max,numbers[0],numbers[1],numbers[2],numbers[4],numbers[6],min]\n",
    "    \n",
    "    \n",
    "    return new\n",
    "    \n",
    "    \n",
    "function6()\n"
   ]
  },
  {
   "cell_type": "code",
   "execution_count": null,
   "metadata": {
    "collapsed": true
   },
   "outputs": [],
   "source": []
  }
 ],
 "metadata": {
  "kernelspec": {
   "display_name": "Python 3",
   "language": "python",
   "name": "python3"
  },
  "language_info": {
   "codemirror_mode": {
    "name": "ipython",
    "version": 3
   },
   "file_extension": ".py",
   "mimetype": "text/x-python",
   "name": "python",
   "nbconvert_exporter": "python",
   "pygments_lexer": "ipython3",
   "version": "3.6.0"
  }
 },
 "nbformat": 4,
 "nbformat_minor": 2
}
