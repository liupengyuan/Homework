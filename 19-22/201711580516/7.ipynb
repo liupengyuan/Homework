{
 "cells": [
  {
   "cell_type": "code",
   "execution_count": 27,
   "metadata": {},
   "outputs": [
    {
     "name": "stdout",
     "output_type": "stream",
     "text": [
      "apple\n",
      "elppa\n"
     ]
    }
   ],
   "source": [
    "#自己定义一个reverse(s)函数，功能返回字符串s的倒序字符串\n",
    "def f1():\n",
    "    s=input()\n",
    "    print(s[-1:-len(s)-1:-1])\n",
    "f1()"
   ]
  },
  {
   "cell_type": "code",
   "execution_count": 61,
   "metadata": {},
   "outputs": [
    {
     "name": "stdout",
     "output_type": "stream",
     "text": [
      "请输入你想要的符号*\n",
      "请输入你想得到的行数5\n",
      "*\n",
      "**\n",
      "***\n",
      "****\n",
      "*****\n",
      "     *\n",
      "    * *\n",
      "   * * *\n",
      "  * * * *\n",
      " * * * * *\n"
     ]
    }
   ],
   "source": [
    "#写函数，根据给定符号和行数，打印相应直角三角形，等腰三角形及其他形式的三角形\n",
    "def f2():\n",
    "    s=input('请输入你想要的符号')\n",
    "    n=int(input('请输入你想得到的行数'))\n",
    "    line=s*n\n",
    "    for i in range(1, len(line)+1):\n",
    "        for j in range(1,i+1):\n",
    "            print(line[0], end='')\n",
    "        print()\n",
    "    for i in range(1, len(line)+1):\n",
    "        for k in range(len(line)-i,0,-1):\n",
    "            print(' ', end='')\n",
    "        for j in range(1,i+1):\n",
    "            print('',line[0], end='')\n",
    "        print() \n",
    "\n",
    "f2()"
   ]
  },
  {
   "cell_type": "code",
   "execution_count": null,
   "metadata": {},
   "outputs": [],
   "source": [
    "#写函数，根据给定符号，打印各种菱形\n",
    "def f3():\n",
    "    s=input('请输入你想要的符号')\n",
    "    n=int(input('请输入你想得到的行数'))\n",
    "    line=s*n\n",
    "    for i in range(1, len(line)+1):\n",
    "        print(' '*(len(line)-i))\n",
    "        \n",
    "        for j in range(1,i+1):\n",
    "            print(line[0], end='')\n",
    "        print()\n",
    "f3()"
   ]
  }
 ],
 "metadata": {
  "kernelspec": {
   "display_name": "Python 3",
   "language": "python",
   "name": "python3"
  },
  "language_info": {
   "codemirror_mode": {
    "name": "ipython",
    "version": 3
   },
   "file_extension": ".py",
   "mimetype": "text/x-python",
   "name": "python",
   "nbconvert_exporter": "python",
   "pygments_lexer": "ipython3",
   "version": "3.6.0"
  }
 },
 "nbformat": 4,
 "nbformat_minor": 2
}
