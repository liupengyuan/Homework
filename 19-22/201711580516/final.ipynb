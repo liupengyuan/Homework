{
 "cells": [
  {
   "cell_type": "code",
   "execution_count": 1,
   "metadata": {
    "collapsed": false
   },
   "outputs": [
    {
     "name": "stdout",
     "output_type": "stream",
     "text": [
      "请输入图形*\n",
      "请输入行数5\n",
      "        * ***** *        \n",
      "      * * ***** * *      \n",
      "    * * * ***** * * *    \n",
      "  * * * * ***** * * * *  \n",
      "* * * * * ***** * * * * *\n"
     ]
    }
   ],
   "source": [
    "#1\n",
    "def f_1(sym,n):\n",
    "    for i in range(n):\n",
    "        print(' '*(8-2*i)+(sym+' ')*(i+1)+sym*5+(' '+sym)*(i+1)+' '*(8-2*i))\n",
    "    \n",
    "sym=input('请输入图形')\n",
    "n=int(input('请输入行数'))\n",
    "f_1(sym,n)"
   ]
  },
  {
   "cell_type": "code",
   "execution_count": 2,
   "metadata": {
    "collapsed": false
   },
   "outputs": [
    {
     "name": "stdout",
     "output_type": "stream",
     "text": [
      "请输入m的值3\n",
      "请输入n的值4\n"
     ]
    },
    {
     "data": {
      "text/plain": [
       "125"
      ]
     },
     "execution_count": 2,
     "metadata": {},
     "output_type": "execute_result"
    }
   ],
   "source": [
    "#2\n",
    "def A(m,n):\n",
    "    if m==0:\n",
    "        return n+1\n",
    "    elif m>0 and n==0:\n",
    "        return A(m-1,1)\n",
    "    elif m>0 and n>0:\n",
    "        return A(m-1,A(m,n-1))\n",
    "m=int(input('请输入m的值'))\n",
    "n=int(input('请输入n的值'))\n",
    "A(m,n)"
   ]
  },
  {
   "cell_type": "code",
   "execution_count": 3,
   "metadata": {
    "collapsed": false,
    "scrolled": true
   },
   "outputs": [
    {
     "name": "stdout",
     "output_type": "stream",
     "text": [
      "请输入题目个数15\n",
      "请输入整数下限3\n",
      "请输入整数上限25\n",
      "6 * 22\n",
      "18 - 14\n",
      "8 + 6\n",
      "5 * 19\n",
      "13 * 16\n",
      "20 * 8\n",
      "16 - 11\n",
      "23 * 18\n",
      "16 - 14\n",
      "25 - 13\n",
      "18 * 20\n",
      "16 - 8\n",
      "9 + 10\n",
      "4 * 12\n",
      "14 - 13\n"
     ]
    }
   ],
   "source": [
    "#3a\n",
    "import random\n",
    "n=int(input('请输入题目个数'))\n",
    "a=int(input('请输入整数下限'))\n",
    "b=int(input('请输入整数上限'))\n",
    "T=['+','-','*','/']\n",
    "T_1=[]\n",
    "nums=[]\n",
    "que=[]\n",
    "for i in range(b*b-1):\n",
    "    num=i+1\n",
    "    nums.append(num)\n",
    "for i in range(n*n):\n",
    "    X=random.randint(a,b)\n",
    "    Y=random.randint(a,b)\n",
    "    K=random.choice(T)\n",
    "    if K=='+':\n",
    "        t=X+Y\n",
    "    elif K=='-':\n",
    "        t=X-Y\n",
    "    elif K=='*':\n",
    "        t=X*Y\n",
    "    elif K=='/':\n",
    "        t=X/Y\n",
    "    if t>0 and (t in nums):\n",
    "        T_1.append(t)\n",
    "        print(X,K,Y)\n",
    "        Q=(X,K,Y)\n",
    "        que.append(Q)\n",
    "    if len(T_1)==n:\n",
    "        break\n"
   ]
  },
  {
   "cell_type": "code",
   "execution_count": 4,
   "metadata": {
    "collapsed": false,
    "scrolled": true
   },
   "outputs": [
    {
     "name": "stdout",
     "output_type": "stream",
     "text": [
      "请输入你的答案，用‘，’隔开1\n"
     ]
    },
    {
     "ename": "ValueError",
     "evalue": "invalid literal for int() with base 10: \"['1']\"",
     "output_type": "error",
     "traceback": [
      "\u001b[1;31m---------------------------------------------------------------------------\u001b[0m",
      "\u001b[1;31mValueError\u001b[0m                                Traceback (most recent call last)",
      "\u001b[1;32m<ipython-input-4-8ab64752c19c>\u001b[0m in \u001b[0;36m<module>\u001b[1;34m()\u001b[0m\n\u001b[0;32m     12\u001b[0m             \u001b[0mmark\u001b[0m\u001b[1;33m+=\u001b[0m\u001b[1;36m5\u001b[0m\u001b[1;33m\u001b[0m\u001b[0m\n\u001b[0;32m     13\u001b[0m     \u001b[1;32mif\u001b[0m \u001b[0mque\u001b[0m\u001b[1;33m[\u001b[0m\u001b[0mi\u001b[0m\u001b[1;33m]\u001b[0m\u001b[1;33m[\u001b[0m\u001b[1;36m1\u001b[0m\u001b[1;33m]\u001b[0m\u001b[1;33m==\u001b[0m\u001b[1;34m'*'\u001b[0m\u001b[1;33m:\u001b[0m\u001b[1;33m\u001b[0m\u001b[0m\n\u001b[1;32m---> 14\u001b[1;33m         \u001b[1;32mif\u001b[0m \u001b[0mint\u001b[0m\u001b[1;33m(\u001b[0m\u001b[0mAN\u001b[0m\u001b[1;33m[\u001b[0m\u001b[0mi\u001b[0m\u001b[1;33m]\u001b[0m\u001b[1;33m)\u001b[0m\u001b[1;33m==\u001b[0m\u001b[1;33m(\u001b[0m\u001b[0mint\u001b[0m\u001b[1;33m(\u001b[0m\u001b[1;33m(\u001b[0m\u001b[0mque\u001b[0m\u001b[1;33m[\u001b[0m\u001b[0mi\u001b[0m\u001b[1;33m]\u001b[0m\u001b[1;33m[\u001b[0m\u001b[1;36m0\u001b[0m\u001b[1;33m]\u001b[0m\u001b[1;33m)\u001b[0m\u001b[1;33m*\u001b[0m\u001b[0mint\u001b[0m\u001b[1;33m(\u001b[0m\u001b[0mque\u001b[0m\u001b[1;33m[\u001b[0m\u001b[0mi\u001b[0m\u001b[1;33m]\u001b[0m\u001b[1;33m[\u001b[0m\u001b[1;36m2\u001b[0m\u001b[1;33m]\u001b[0m\u001b[1;33m)\u001b[0m\u001b[1;33m)\u001b[0m\u001b[1;33m)\u001b[0m\u001b[1;33m:\u001b[0m\u001b[1;33m\u001b[0m\u001b[0m\n\u001b[0m\u001b[0;32m     15\u001b[0m             \u001b[0mmark\u001b[0m\u001b[1;33m+=\u001b[0m\u001b[1;36m10\u001b[0m\u001b[1;33m\u001b[0m\u001b[0m\n\u001b[0;32m     16\u001b[0m     \u001b[1;32mif\u001b[0m \u001b[0mque\u001b[0m\u001b[1;33m[\u001b[0m\u001b[0mi\u001b[0m\u001b[1;33m]\u001b[0m\u001b[1;33m[\u001b[0m\u001b[1;36m1\u001b[0m\u001b[1;33m]\u001b[0m\u001b[1;33m==\u001b[0m\u001b[1;34m'/'\u001b[0m\u001b[1;33m:\u001b[0m\u001b[1;33m\u001b[0m\u001b[0m\n",
      "\u001b[1;31mValueError\u001b[0m: invalid literal for int() with base 10: \"['1']\""
     ]
    }
   ],
   "source": [
    "#3b\n",
    "an=[input('请输入你的答案，用‘，’隔开')]\n",
    "an=str(an)\n",
    "AN=an.split(',')\n",
    "mark=0\n",
    "for i in range(n):\n",
    "    if que[i][1]=='+':\n",
    "        if int(AN[i])==(int((que[i][0])+int(que[i][2]))):\n",
    "            mark+=5\n",
    "    if que[i][1]=='-':\n",
    "        if int(AN[i])==(int((que[i][0])-int(que[i][2]))):\n",
    "            mark+=5\n",
    "    if que[i][1]=='*':\n",
    "        if int(AN[i])==(int((que[i][0])*int(que[i][2]))):\n",
    "            mark+=10\n",
    "    if que[i][1]=='/':\n",
    "        if int(AN[i])==(int((que[i][0])/int(que[i][2]))):\n",
    "            mark+=10\n",
    "print('最终得分为',mark)\n"
   ]
  },
  {
   "cell_type": "code",
   "execution_count": 10,
   "metadata": {
    "collapsed": false
   },
   "outputs": [
    {
     "name": "stdout",
     "output_type": "stream",
     "text": [
      "请输入题目个数10\n",
      "2+3=\n",
      "3*6\n",
      "9-5\n",
      "6+4\n",
      "2-1\n",
      "5*5\n",
      "4*7\n",
      "6+9\n",
      "5-4\n",
      "6-9\n",
      "答案分别为 [5, 18, 4, 10, 1, 25, 28, 15, 1, -3]\n",
      "总分为 65\n"
     ]
    }
   ],
   "source": [
    "#3c\n",
    "n=int(input('请输入题目个数'))\n",
    "ques=[]\n",
    "for  i in range(n):\n",
    "    que=input()\n",
    "    ques.append(que)\n",
    "ans=[]\n",
    "Marks=0\n",
    "for i in range(n):\n",
    "    if ques[i][1]=='+':\n",
    "        an=int(ques[i][0])+int(ques[i][2])\n",
    "        ans.append(an)\n",
    "        Marks+=5\n",
    "    if ques[i][1]=='-':\n",
    "        an=int(ques[i][0])-int(ques[i][2])\n",
    "        ans.append(an)\n",
    "        Marks+=5\n",
    "    if ques[i][1]=='*':\n",
    "        an=int(ques[i][0])*int(ques[i][2])\n",
    "        ans.append(an)\n",
    "        Marks+=10\n",
    "    if ques[i][1]=='/':\n",
    "        an=int(ques[i][0])/int(ques[i][2])\n",
    "        ans.append(an)\n",
    "        Marks+=10\n",
    "print('答案分别为',ans)\n",
    "print('总分为',Marks)\n",
    "\n"
   ]
  },
  {
   "cell_type": "code",
   "execution_count": 11,
   "metadata": {
    "collapsed": true
   },
   "outputs": [],
   "source": [
    "#4a\n",
    "with open(r'd:\\temp\\idioms.txt') as fh:\n",
    "    text=fh.read()\n",
    "    fh.close()\n",
    "text = text.replace('、', '')\n",
    "idioms = text.split('\\n')\n",
    "n=len(idioms)\n",
    "A=[]\n",
    "for i in range(n):\n",
    "    if len(idioms[i])==4:\n",
    "        A.append(idioms[i])\n"
   ]
  },
  {
   "cell_type": "code",
   "execution_count": 12,
   "metadata": {
    "collapsed": false
   },
   "outputs": [
    {
     "name": "stdout",
     "output_type": "stream",
     "text": [
      "所有词的长度之和为 732\n",
      "所有字的长度之和为 2928\n",
      "词表长度与字表长度的比值为 0.25\n"
     ]
    }
   ],
   "source": [
    "#4e\n",
    "B=[]\n",
    "for idiom in A:\n",
    "    for ch in idiom:\n",
    "        B.append(ch)\n",
    "a=len(A)\n",
    "b=len(B)\n",
    "print('所有词的长度之和为',a)\n",
    "print('所有字的长度之和为',b)\n",
    "print('词表长度与字表长度的比值为',a/b)"
   ]
  },
  {
   "cell_type": "code",
   "execution_count": null,
   "metadata": {
    "collapsed": true
   },
   "outputs": [],
   "source": []
  }
 ],
 "metadata": {
  "kernelspec": {
   "display_name": "Python 3",
   "language": "python",
   "name": "python3"
  },
  "language_info": {
   "codemirror_mode": {
    "name": "ipython",
    "version": 3
   },
   "file_extension": ".py",
   "mimetype": "text/x-python",
   "name": "python",
   "nbconvert_exporter": "python",
   "pygments_lexer": "ipython3",
   "version": "3.4.3"
  }
 },
 "nbformat": 4,
 "nbformat_minor": 0
}
