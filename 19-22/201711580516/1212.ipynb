{
 "cells": [
  {
   "cell_type": "code",
   "execution_count": 34,
   "metadata": {},
   "outputs": [
    {
     "name": "stdout",
     "output_type": "stream",
     "text": [
      "['地', '入', '之', '还', '无', '造', '人', '著', '晷', '目']\n"
     ]
    }
   ],
   "source": [
    "fh = open(r'd:\\temp\\idioms.txt')\n",
    "text = fh.read()\n",
    "fh.close()\n",
    "text = text.replace('、', '')\n",
    "idioms = text.split('\\n')\n",
    "chs=[]\n",
    "for idiom in idioms:\n",
    "    for ch in idiom:\n",
    "        chs.append(ch)\n",
    "import random\n",
    "txt1=[]\n",
    "for i in range(10):\n",
    "    txt1.append(random.choice(chs))\n",
    "print(txt1)\n",
    "fh=open(r'd:\\temp\\text1','w')\n",
    "fh.writelines(txt1)\n",
    "fh.close()"
   ]
  },
  {
   "cell_type": "code",
   "execution_count": null,
   "metadata": {},
   "outputs": [],
   "source": []
  },
  {
   "cell_type": "code",
   "execution_count": null,
   "metadata": {},
   "outputs": [],
   "source": []
  }
 ],
 "metadata": {
  "kernelspec": {
   "display_name": "Python 3",
   "language": "python",
   "name": "python3"
  },
  "language_info": {
   "codemirror_mode": {
    "name": "ipython",
    "version": 3
   },
   "file_extension": ".py",
   "mimetype": "text/x-python",
   "name": "python",
   "nbconvert_exporter": "python",
   "pygments_lexer": "ipython3",
   "version": "3.6.0"
  }
 },
 "nbformat": 4,
 "nbformat_minor": 2
}
