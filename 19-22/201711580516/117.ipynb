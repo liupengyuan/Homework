{
 "cells": [
  {
   "cell_type": "code",
   "execution_count": 4,
   "metadata": {
    "collapsed": false
   },
   "outputs": [
    {
     "name": "stdout",
     "output_type": "stream",
     "text": [
      "请输入你想得到几个随机整数5\n",
      "请输入整数下限10\n",
      "请输入整数上限500\n",
      "32.64965543462902\n"
     ]
    }
   ],
   "source": [
    "import random,math\n",
    "def compute():\n",
    "    m=int(input('请输入你想得到几个随机整数'))\n",
    "    n=int(input('请输入整数下限'))\n",
    "    k=int(input('请输入整数上限'))\n",
    "    i=0\n",
    "    total=0\n",
    "    while i<m:\n",
    "        i=i+1\n",
    "        number=random.randint(n,k)\n",
    "        total=total+number\n",
    "    s=math.sqrt(total)\n",
    "    print(s)\n",
    "compute()\n",
    "        "
   ]
  },
  {
   "cell_type": "code",
   "execution_count": null,
   "metadata": {
    "collapsed": true
   },
   "outputs": [],
   "source": []
  },
  {
   "cell_type": "code",
   "execution_count": null,
   "metadata": {
    "collapsed": true
   },
   "outputs": [],
   "source": []
  },
  {
   "cell_type": "code",
   "execution_count": null,
   "metadata": {
    "collapsed": true
   },
   "outputs": [],
   "source": []
  },
  {
   "cell_type": "code",
   "execution_count": null,
   "metadata": {
    "collapsed": true
   },
   "outputs": [],
   "source": []
  }
 ],
 "metadata": {
  "kernelspec": {
   "display_name": "Python 3",
   "language": "python",
   "name": "python3"
  },
  "language_info": {
   "codemirror_mode": {
    "name": "ipython",
    "version": 3
   },
   "file_extension": ".py",
   "mimetype": "text/x-python",
   "name": "python",
   "nbconvert_exporter": "python",
   "pygments_lexer": "ipython3",
   "version": "3.6.0"
  }
 },
 "nbformat": 4,
 "nbformat_minor": 2
}
