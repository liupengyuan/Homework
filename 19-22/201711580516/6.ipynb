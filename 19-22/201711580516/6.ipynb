{
 "cells": [
  {
   "cell_type": "code",
   "execution_count": 8,
   "metadata": {},
   "outputs": [
    {
     "name": "stdout",
     "output_type": "stream",
     "text": [
      "请输入你想输入几个元素6\n",
      "请输入一个元素aa\n",
      "请输入一个元素bb\n",
      "请输入一个元素cc\n",
      "请输入一个元素dd\n",
      "请输入一个元素ee\n",
      "请输入一个元素ff\n",
      "请输入刚刚输入的元素中的一个ee\n"
     ]
    },
    {
     "data": {
      "text/plain": [
       "5"
      ]
     },
     "execution_count": 8,
     "metadata": {},
     "output_type": "execute_result"
    }
   ],
   "source": [
    "#写函数，返回某个元素/对象在一个list中的位置，如果不在，则返回-1.\n",
    "def function1():\n",
    "    elements=[]\n",
    "    n=int(input('请输入你想输入几个元素'))\n",
    "    i=0\n",
    "    while i<n:\n",
    "        element=input('请输入一个元素')\n",
    "        elements.append(element)\n",
    "        i+=1\n",
    "    a=input('请输入刚刚输入的元素中的一个')\n",
    "    k=1\n",
    "    for j in range(n):\n",
    "        \n",
    "        if a==elements[j]:\n",
    "            x=k\n",
    "        elif a!=elements[j]:\n",
    "            k+=1\n",
    "    return x\n",
    "function1()\n",
    "        "
   ]
  },
  {
   "cell_type": "code",
   "execution_count": 16,
   "metadata": {},
   "outputs": [
    {
     "data": {
      "text/plain": [
       "[1, 5, 2, 6, 3, 7, 4, 8]"
      ]
     },
     "execution_count": 16,
     "metadata": {},
     "output_type": "execute_result"
    }
   ],
   "source": [
    "#写函数，可将两个相同长度的list，间隔插入，生成新的list\n",
    "#例如：给两个list，a=[1,2,3,4], b=[5,6,7,8]。则可以生成：[1,5,2,6,3,7,4,8]\n",
    "def function2():\n",
    "    a=[1,2,3,4]\n",
    "    b=[5,6,7,8]\n",
    "    newlist=[]\n",
    "    i=0\n",
    "    for i in range(len(a)) :\n",
    "        newlist.append(a[i])\n",
    "        newlist.append(b[i])\n",
    "    return newlist\n",
    "function2()\n",
    "    "
   ]
  },
  {
   "cell_type": "code",
   "execution_count": 21,
   "metadata": {},
   "outputs": [
    {
     "name": "stdout",
     "output_type": "stream",
     "text": [
      "请输入向量a的横坐标12\n",
      "请输入向量a的纵坐标7\n",
      "请输入向量b的横坐标6\n",
      "请输入向量b的纵坐标-5\n"
     ]
    },
    {
     "data": {
      "text/plain": [
       "(['12', '7'], ['6', '-5'], 0.3410029625539465)"
      ]
     },
     "execution_count": 21,
     "metadata": {},
     "output_type": "execute_result"
    }
   ],
   "source": [
    "#写函数，可求两个向量的夹角余弦值，向量可放在list中。主程序调用该函数\n",
    "def function3():\n",
    "    a=[]\n",
    "    b=[]\n",
    "    a.append(input('请输入向量a的横坐标'))\n",
    "    a.append(input('请输入向量a的纵坐标'))\n",
    "    b.append(input('请输入向量b的横坐标'))\n",
    "    b.append(input('请输入向量b的纵坐标'))\n",
    "    x1=int(a[0])\n",
    "    y1=int(a[1])\n",
    "    x2=int(b[0])\n",
    "    y2=int(b[1])\n",
    "    cos=(x1**2+y1**2+x2**2+y2**2-(x1-x2)**2-(y1-y2)**2)/(2*(x1**2+y1**2)**(1/2)*(x2**2+y2**2)**(1/2))\n",
    "    return a,b,cos\n",
    "function3()\n"
   ]
  },
  {
   "cell_type": "code",
   "execution_count": null,
   "metadata": {},
   "outputs": [],
   "source": [
    "#python语言老师为了激励学生学python，自费买了100个完全相同的Macbook Pro，分给三个班级，每个班级至少分5个，用穷举法计算共有多少种分法？\n"
   ]
  }
 ],
 "metadata": {
  "kernelspec": {
   "display_name": "Python 3",
   "language": "python",
   "name": "python3"
  },
  "language_info": {
   "codemirror_mode": {
    "name": "ipython",
    "version": 3
   },
   "file_extension": ".py",
   "mimetype": "text/x-python",
   "name": "python",
   "nbconvert_exporter": "python",
   "pygments_lexer": "ipython3",
   "version": "3.6.0"
  }
 },
 "nbformat": 4,
 "nbformat_minor": 2
}
