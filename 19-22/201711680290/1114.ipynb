{
 "cells": [
  {
   "cell_type": "code",
   "execution_count": 20,
   "metadata": {},
   "outputs": [
    {
     "name": "stdout",
     "output_type": "stream",
     "text": [
      "899 -10 \n",
      "\n",
      "106.72999999999999\n"
     ]
    }
   ],
   "source": [
    "# 写函数，返回一个list中的最大值，最小值，平均值。（不用内置的求和求函数），以[1,2,-1,55,100,899,-10,3,12.5,5.8]为例。\n",
    "def text(num):\n",
    "    print(max(num), min(num), '\\n') \n",
    "    total = 0\n",
    "    for number in num:\n",
    "        total = total + number\n",
    "    n=len(num)\n",
    "    mus=total/n\n",
    "    print(mus)\n",
    "\n",
    "numbers=[1,2,-1,55,100,899,-10,3,12.5,5.8]\n",
    "text(numbers)    "
   ]
  }
 ],
 "metadata": {
  "kernelspec": {
   "display_name": "Python 3",
   "language": "python",
   "name": "python3"
  },
  "language_info": {
   "codemirror_mode": {
    "name": "ipython",
    "version": 3
   },
   "file_extension": ".py",
   "mimetype": "text/x-python",
   "name": "python",
   "nbconvert_exporter": "python",
   "pygments_lexer": "ipython3",
   "version": "3.6.2"
  }
 },
 "nbformat": 4,
 "nbformat_minor": 2
}
