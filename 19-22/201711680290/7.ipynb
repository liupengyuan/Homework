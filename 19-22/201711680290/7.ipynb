{
 "cells": [
  {
   "cell_type": "markdown",
   "metadata": {
    "collapsed": true
   },
   "source": [
    "### 练习一：自己定义一个reverse(s)函数，功能返回字符串s的倒序字符串。"
   ]
  },
  {
   "cell_type": "code",
   "execution_count": 10,
   "metadata": {},
   "outputs": [
    {
     "name": "stdout",
     "output_type": "stream",
     "text": [
      "87654321\n"
     ]
    }
   ],
   "source": [
    "def reverse(s):\n",
    "    n=len(s)\n",
    "    print(s[n::-1])\n",
    "\n",
    "line='12345678'\n",
    "reverse(line)    "
   ]
  },
  {
   "cell_type": "markdown",
   "metadata": {},
   "source": [
    "### 练习二：写函数，根据给定符号和行数，打印相应直角三角形，等腰三角形及其他形式的三角形"
   ]
  },
  {
   "cell_type": "code",
   "execution_count": 1,
   "metadata": {},
   "outputs": [
    {
     "name": "stdout",
     "output_type": "stream",
     "text": [
      "*\n",
      "**\n",
      "***\n",
      "****\n",
      "*****\n",
      "******\n",
      "     * \n",
      "    * * \n",
      "   * * * \n",
      "  * * * * \n",
      " * * * * * \n",
      "* * * * * * \n",
      "     *\n",
      "    ****\n",
      "   *******\n",
      "  **********\n",
      " *************\n",
      "****************\n",
      "     *\n",
      "    *********\n",
      "   *****************\n",
      "  *************************\n",
      " *********************************\n",
      "*****************************************\n"
     ]
    }
   ],
   "source": [
    "def trangle():\n",
    "    line = '*'*6\n",
    "    for i in range(1,7):\n",
    "        print(line[0]*i)\n",
    "    for i in range(1,7):    \n",
    "        print((len(line)-i)*' ' +(line[0]+' ')*i)\n",
    "    for i in range(1,7):     \n",
    "        print((len(line)-i)*' ' +line[0]*i+line[0]*2*(i-1))\n",
    "    for i in range(1,7):\n",
    "        print((len(line)-i)*' ' + line[0]*i+line[0]*7*(i-1))\n",
    "\n",
    "trangle()"
   ]
  },
  {
   "cell_type": "markdown",
   "metadata": {},
   "source": [
    "## 练习五：写函数，根据给定符号，打印各种菱形。"
   ]
  },
  {
   "cell_type": "code",
   "execution_count": 3,
   "metadata": {},
   "outputs": [
    {
     "name": "stdout",
     "output_type": "stream",
     "text": [
      "* * * * * * \n",
      "* * * * * * \n",
      "* * * * * * \n",
      "* * * * * * \n",
      "* * * * * * \n",
      "* * * * * * \n",
      "     * \n",
      "    * * \n",
      "   * * * \n",
      "  * * * * \n",
      " * * * * * \n",
      "* * * * * * \n",
      " * * * * * \n",
      "  * * * * \n",
      "   * * * \n",
      "    * * \n",
      "     * \n",
      "      \n",
      "     * * * * * * * \n",
      "    * * * * * * * \n",
      "   * * * * * * * \n",
      "  * * * * * * * \n",
      " * * * * * * * \n",
      "* * * * * * * \n"
     ]
    }
   ],
   "source": [
    "def ling():\n",
    "    line = '*'*6\n",
    "    for i in range(1,7):\n",
    "            print((line[0]+' ')*6)\n",
    "    for i in range(1,7):  \n",
    "            print((len(line)-i)*' ' +(line[0]+' ')*i)\n",
    "    for i in range(1,7):\n",
    "            print(i*' ' +(line[0]+' ')*(len(line)-i))\n",
    "    for i in range(1,7):     \n",
    "            print((len(line)-i)*' ' +(line[0]+' ')*i+(line[0]+' ')*(7-i))\n",
    "        \n",
    "ling()"
   ]
  },
  {
   "cell_type": "code",
   "execution_count": null,
   "metadata": {
    "collapsed": true
   },
   "outputs": [],
   "source": []
  }
 ],
 "metadata": {
  "kernelspec": {
   "display_name": "Python 3",
   "language": "python",
   "name": "python3"
  },
  "language_info": {
   "codemirror_mode": {
    "name": "ipython",
    "version": 3
   },
   "file_extension": ".py",
   "mimetype": "text/x-python",
   "name": "python",
   "nbconvert_exporter": "python",
   "pygments_lexer": "ipython3",
   "version": "3.6.2"
  }
 },
 "nbformat": 4,
 "nbformat_minor": 2
}
