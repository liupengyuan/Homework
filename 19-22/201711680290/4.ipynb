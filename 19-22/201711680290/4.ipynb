{
 "cells": [
  {
   "cell_type": "markdown",
   "metadata": {
    "collapsed": true
   },
   "source": [
    "### 练习 1：仿照求 ∑mi=1i+∑ni=1i+∑ki=1i∑i=1mi+∑i=1ni+∑i=1ki 的完整代码，写程序，可求m!+n!+k!"
   ]
  },
  {
   "cell_type": "code",
   "execution_count": 25,
   "metadata": {},
   "outputs": [
    {
     "name": "stdout",
     "output_type": "stream",
     "text": [
      "2\n",
      "3\n",
      "4\n",
      "32\n"
     ]
    }
   ],
   "source": [
    "def my_sum(n):\n",
    "    i=0\n",
    "    total=1\n",
    "    while i<n:\n",
    "        i+=1\n",
    "        total=total*i\n",
    "    return total\n",
    "m=int(input())\n",
    "n=int(input())\n",
    "k=int(input())\n",
    "print(my_sum(m)+my_sum(n)+my_sum(k))"
   ]
  },
  {
   "cell_type": "markdown",
   "metadata": {},
   "source": [
    "### 练习 2：写函数可返回1 - 1/3 + 1/5 - 1/7...的前n项的和。在主程序中，分别令n=1000及100000，打印4倍该函数的和"
   ]
  },
  {
   "cell_type": "code",
   "execution_count": 11,
   "metadata": {},
   "outputs": [
    {
     "name": "stdout",
     "output_type": "stream",
     "text": [
      "3.140592653839794\n",
      "3.1415826535897198\n"
     ]
    }
   ],
   "source": [
    "def com(n):\n",
    "    i=1\n",
    "    total=0\n",
    "    while i<=n:\n",
    "        total = total + (-1)**(i+1)*(1/(2*i-1))\n",
    "        i=i+1\n",
    "    return total\n",
    "\n",
    "print(4*com(1000))\n",
    "print(4*com(100000))"
   ]
  },
  {
   "cell_type": "markdown",
   "metadata": {},
   "source": [
    "### 练习 3：将task3中的练习1及练习4改写为函数，并进行调用。"
   ]
  },
  {
   "cell_type": "code",
   "execution_count": 2,
   "metadata": {},
   "outputs": [
    {
     "name": "stdout",
     "output_type": "stream",
     "text": [
      "胡爽\n",
      "出生月份9\n",
      "出生日期23\n",
      "胡爽 你是一个没啥缺点的天秤座\n",
      "9.23\n"
     ]
    }
   ],
   "source": [
    "# 任务三练习一\n",
    "def birthday(i):\n",
    "    if 1.20<=i<=1.31 or 2.01<=i<=2.18:\n",
    "        print(name,'你是一个缺乏安全感的水瓶座')\n",
    "    elif 2.19<=i<=2.29 or 3.01<=i<=3.20:\n",
    "        print(name,'你是一个天真爽朗的双鱼座')\n",
    "    elif 3.21<=i<=3.31 or 4.01<=i<=4.19:\n",
    "        print(name,'你是一个注重公平的白羊座')\n",
    "    elif 4.20<=i<=4.30 or 5.01<=i<=5.20:\n",
    "        print(name,'你是一个随遇而安的金牛座')\n",
    "    elif 5.12<=i<=5.31 or 6.01<=i<=6.21:\n",
    "        print(name,'你是一个内心细腻的双子座')\n",
    "    elif 6.22<=i<=6.30 or 7.01<=i<=7.22:\n",
    "        print(name,'你是一个外冷内热的巨蟹座')\n",
    "    elif 7.23<=i<=7.31 or 8.01<=i<=8.22:\n",
    "        print(name,'你是一个很有气场和爆发力的狮子座')\n",
    "    elif 8.23<=i<=8.31 or 9.01<=i<=9.22:\n",
    "        print(name,'你是一个善解人意的处女座')\n",
    "    elif 9.23<=i<=9.30 or 10.01<=i<=10.23:\n",
    "        print(name,'你是一个没啥缺点的天秤座')\n",
    "    elif 10.24<=i<=10.31 or 11.01<=i<=11.22:\n",
    "        print(name,'你是一个执着极端的天蝎座')\n",
    "    elif 11.23<=i<=11.30 or 12.01<=i<=12.21:\n",
    "        print(name,'你是一个有心机的射手座')\n",
    "    elif 12.22<=i<=12.31 or 1.01<=i<=1.19:\n",
    "        print(name,'你是一个注重义气的摩羯座')\n",
    "    else:\n",
    "        print('输入非法')\n",
    "    return i\n",
    "        \n",
    "name=input('')\n",
    "n=int(input('出生月份'))\n",
    "m=int(input('出生日期'))\n",
    "i=n+m/100\n",
    "print(birthday(i))"
   ]
  },
  {
   "cell_type": "code",
   "execution_count": 8,
   "metadata": {},
   "outputs": [
    {
     "name": "stdout",
     "output_type": "stream",
     "text": [
      "请输入一个动词love\n",
      "在动词后加s\n",
      "love\n"
     ]
    }
   ],
   "source": [
    "# 任务三练习四\n",
    "def endswith(n):\n",
    "    if n.endswith('s'):\n",
    "        print('在动词后加es')              \n",
    "    elif n.endswith('sh'):\n",
    "        print('在动词后加es')\n",
    "    elif n.endswith('ch'):\n",
    "        print('在动词后加es')\n",
    "    elif n.endswith('x'):\n",
    "        print('在动词后加es')\n",
    "    elif n.endswith('o'):\n",
    "        print('在动词后加es')\n",
    "    elif n.endswith('y'):\n",
    "        print('在动词后变y为ies')\n",
    "    else:\n",
    "        print('在动词后加s')\n",
    "    return n\n",
    "\n",
    "n=input('请输入一个动词')\n",
    "print(endswith(n))"
   ]
  },
  {
   "cell_type": "markdown",
   "metadata": {},
   "source": [
    "### 挑战性练习：写程序，可以求从整数m到整数n累加的和，间隔为k，求和部分需用函数实现，主程序中由用户输入m，n，k调用函数验证正确性。"
   ]
  },
  {
   "cell_type": "code",
   "execution_count": 16,
   "metadata": {},
   "outputs": [
    {
     "name": "stdout",
     "output_type": "stream",
     "text": [
      "2\n",
      "8\n",
      "2\n",
      "20\n"
     ]
    }
   ],
   "source": [
    "def my_sum(end):\n",
    "    if m>n:\n",
    "        a=n\n",
    "        b=m\n",
    "    else:\n",
    "        a=m\n",
    "        b=n\n",
    "    total=a\n",
    "    while a<b:\n",
    "        a=a+k\n",
    "        total=total+a\n",
    "    return total\n",
    "m=int(input())\n",
    "n=int(input())\n",
    "k=int(input())\n",
    "print(my_sum(end))       "
   ]
  },
  {
   "cell_type": "code",
   "execution_count": null,
   "metadata": {
    "collapsed": true
   },
   "outputs": [],
   "source": []
  }
 ],
 "metadata": {
  "kernelspec": {
   "display_name": "Python 3",
   "language": "python",
   "name": "python3"
  },
  "language_info": {
   "codemirror_mode": {
    "name": "ipython",
    "version": 3
   },
   "file_extension": ".py",
   "mimetype": "text/x-python",
   "name": "python",
   "nbconvert_exporter": "python",
   "pygments_lexer": "ipython3",
   "version": "3.6.2"
  }
 },
 "nbformat": 4,
 "nbformat_minor": 2
}
