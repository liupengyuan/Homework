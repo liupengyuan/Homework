{
 "cells": [
  {
   "cell_type": "markdown",
   "metadata": {},
   "source": [
    "### 1"
   ]
  },
  {
   "cell_type": "code",
   "execution_count": 1,
   "metadata": {},
   "outputs": [
    {
     "name": "stdout",
     "output_type": "stream",
     "text": [
      "5\n",
      "35\n"
     ]
    }
   ],
   "source": [
    "def text(x):\n",
    "    i=1\n",
    "    t=0\n",
    "    total=0\n",
    "    while i<=m:\n",
    "        t=t+i\n",
    "        total=total+t\n",
    "        i=i+1\n",
    "    return total\n",
    "\n",
    "m=int(input())\n",
    "print(text(m))    "
   ]
  },
  {
   "cell_type": "markdown",
   "metadata": {},
   "source": [
    "### 2"
   ]
  },
  {
   "cell_type": "code",
   "execution_count": 3,
   "metadata": {},
   "outputs": [
    {
     "name": "stdout",
     "output_type": "stream",
     "text": [
      "5\n",
      "*\n",
      "*\n",
      "*\n",
      "*\n",
      "*\n"
     ]
    }
   ],
   "source": [
    "def text():\n",
    "    n=int(input())\n",
    "    i=1\n",
    "    while i<=n:\n",
    "        print('*')\n",
    "        i+=1\n",
    "text()"
   ]
  },
  {
   "cell_type": "markdown",
   "metadata": {},
   "source": [
    "### 3"
   ]
  },
  {
   "cell_type": "code",
   "execution_count": 5,
   "metadata": {},
   "outputs": [
    {
     "name": "stdout",
     "output_type": "stream",
     "text": [
      "14\n",
      "4\n",
      "8\n",
      "7\n",
      "2\n",
      "3\n",
      "4\n",
      "7\n",
      "8\n",
      "2\n",
      "3\n",
      "4\n",
      "4\n",
      "3\n",
      "2\n",
      "4\n"
     ]
    }
   ],
   "source": [
    "def text():\n",
    "    n=int(input())\n",
    "    num=[]\n",
    "    i=1\n",
    "    while i<=n:\n",
    "        m=int(input())\n",
    "        i+=1\n",
    "        num.append(m)\n",
    "    print(num[0])  \n",
    "text()"
   ]
  },
  {
   "cell_type": "markdown",
   "metadata": {},
   "source": [
    "### 4"
   ]
  },
  {
   "cell_type": "code",
   "execution_count": 5,
   "metadata": {},
   "outputs": [
    {
     "name": "stdout",
     "output_type": "stream",
     "text": [
      "9\n",
      "183\n",
      "185\n",
      "187\n",
      "183\n",
      "178\n",
      "175\n",
      "177\n",
      "190\n",
      "172\n",
      "181.11111111111111\n",
      "183\n",
      "185\n",
      "187\n",
      "183\n",
      "190\n"
     ]
    }
   ],
   "source": [
    "numbers=[]\n",
    "n=int(input())\n",
    "i=1\n",
    "while i<=n:\n",
    "    m=int(input())\n",
    "    numbers.append(m)\n",
    "    i+=1\n",
    "total=0\n",
    "for t in numbers:\n",
    "    total=total+t\n",
    "mun=total/n\n",
    "print(mun)\n",
    "for t in numbers:    \n",
    "    if t>mun:\n",
    "        print(t)    "
   ]
  },
  {
   "cell_type": "markdown",
   "metadata": {},
   "source": [
    "### 5"
   ]
  },
  {
   "cell_type": "code",
   "execution_count": 1,
   "metadata": {},
   "outputs": [
    {
     "name": "stdout",
     "output_type": "stream",
     "text": [
      "1 + 9 =\n",
      "4 + 6 =\n",
      "3 + 6 =\n",
      "7 + 2 =\n",
      "8 + 6 =\n",
      "请依次输入你求得的答案10\n",
      "请依次输入你求得的答案10\n",
      "请依次输入你求得的答案9\n",
      "请依次输入你求得的答案9\n",
      "请依次输入你求得的答案14\n",
      "100\n"
     ]
    }
   ],
   "source": [
    "import random\n",
    "def text():\n",
    "    i=1\n",
    "    num1=[]\n",
    "    while i<=5:\n",
    "        a=random.randint(1,10)\n",
    "        b=random.randint(1,10)\n",
    "        t=a+b\n",
    "        num1.append(t)\n",
    "        print(a,'+',b,'=')\n",
    "        i=i+1\n",
    "    num2=[]\n",
    "    x=1\n",
    "    while x<=5:\n",
    "        n=int(input('请依次输入你求得的答案'))\n",
    "        num2.append(t)\n",
    "        x+=1\n",
    "    total=0\n",
    "    for q in num1:\n",
    "        for p in num2:\n",
    "            if q==p:\n",
    "                gor=20\n",
    "            else:\n",
    "                gor=0\n",
    "            total+=gor\n",
    "    print(total)\n",
    "text()            "
   ]
  },
  {
   "cell_type": "markdown",
   "metadata": {},
   "source": [
    "### 6"
   ]
  },
  {
   "cell_type": "code",
   "execution_count": 1,
   "metadata": {},
   "outputs": [
    {
     "name": "stdout",
     "output_type": "stream",
     "text": [
      "7\n",
      "3\n",
      "-5\n",
      "9\n",
      "108\n",
      "34\n",
      "-76\n",
      "88\n",
      "[108, -5, 9, 108, 34, -76, -76]\n"
     ]
    }
   ],
   "source": [
    "import math\n",
    "numbers=[]\n",
    "n=int(input())\n",
    "i=1\n",
    "while i<=n:\n",
    "    number=int(input())\n",
    "    numbers.append(number)\n",
    "    i+=1\n",
    "a=max(numbers)\n",
    "b=min(numbers)\n",
    "numbers[0]=a\n",
    "numbers[n-1]=b\n",
    "\n",
    "print(numbers)"
   ]
  },
  {
   "cell_type": "markdown",
   "metadata": {},
   "source": []
  },
  {
   "cell_type": "code",
   "execution_count": null,
   "metadata": {
    "collapsed": true
   },
   "outputs": [],
   "source": []
  }
 ],
 "metadata": {
  "kernelspec": {
   "display_name": "Python 3",
   "language": "python",
   "name": "python3"
  },
  "language_info": {
   "codemirror_mode": {
    "name": "ipython",
    "version": 3
   },
   "file_extension": ".py",
   "mimetype": "text/x-python",
   "name": "python",
   "nbconvert_exporter": "python",
   "pygments_lexer": "ipython3",
   "version": "3.6.2"
  }
 },
 "nbformat": 4,
 "nbformat_minor": 2
}
