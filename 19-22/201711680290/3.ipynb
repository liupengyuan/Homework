{
 "cells": [
  {
   "cell_type": "code",
   "execution_count": 1,
   "metadata": {},
   "outputs": [
    {
     "name": "stdout",
     "output_type": "stream",
     "text": [
      "胡爽\n",
      "出生月份9\n",
      "出生日期23\n",
      "胡爽 你是一个没啥缺点的天秤座\n"
     ]
    }
   ],
   "source": [
    "name=input('')\n",
    "n=int(input('出生月份'))\n",
    "m=int(input('出生日期'))\n",
    "i=n+m/100\n",
    "if  i>=1.01 and i<=1.19:\n",
    "    print(name,'你是一个注重义气的摩羯座')\n",
    "elif i>=1.20 and i<=2.18:\n",
    "    print(name,'你是一个缺乏安全感的水瓶座')\n",
    "elif i>=2.19 and i<=3.20:\n",
    "    print(name,'你是一个天真爽朗的双鱼座')\n",
    "elif i>=3.21 and i<=4.19:\n",
    "    print(name,'你是一个注重公平的白羊座')\n",
    "elif i>=4.20 and i<=5.20:\n",
    "    print(name,'你是一个随遇而安的金牛座')\n",
    "elif i>=5.12 and i<=6.21:\n",
    "    print(name,'你是一个内心细腻的双子座')\n",
    "elif i>=6.22 and i<=7.22:\n",
    "    print(name,'你是一个外冷内热的巨蟹座')\n",
    "elif i>=7.23 and i<=8.22:\n",
    "    print(name,'你是一个很有气场和爆发力的狮子座')\n",
    "elif i>=8.23 and i<=9.22:\n",
    "    print(name,'你是一个善解人意的处女座')\n",
    "elif i>=9.23 and i<=10.23:\n",
    "    print(name,'你是一个没啥缺点的天秤座')\n",
    "elif i>=10.24 and i<=11.22:\n",
    "    print(name,'你是一个执着极端的天蝎座')\n",
    "elif i>=11.23 and i<=12.21:\n",
    "    print(name,'你是一个有心机的射手座')\n",
    "else :\n",
    "    print(name,'你是一个注重义气的摩羯座')"
   ]
  },
  {
   "cell_type": "code",
   "execution_count": 2,
   "metadata": {},
   "outputs": [
    {
     "name": "stdout",
     "output_type": "stream",
     "text": [
      "请输入一个整数5\n",
      "请输入一个不为0的整数且大于m10\n",
      "求和输入1 求积输入2 求余输入3 求整输入41\n",
      "56\n"
     ]
    }
   ],
   "source": [
    "m=int(input('请输入一个整数'))\n",
    "n=int(input('请输入一个不为0的整数且大于m'))\n",
    "order=int(input('求和输入1 求积输入2 求余输入3 求整输入4'))\n",
    "a=m\n",
    "b=m\n",
    "c=m//n\n",
    "d=m%n\n",
    "while m<=n:\n",
    "    m=m+1\n",
    "    a=a+m\n",
    "while m<=n:\n",
    "    m=m+1\n",
    "    b=b*m\n",
    "if 0<order<2:\n",
    "    print(a)\n",
    "elif 1<order<3:\n",
    "    print(b)\n",
    "elif 2<order<4:\n",
    "    print(c)\n",
    "else:\n",
    "    print(d)"
   ]
  },
  {
   "cell_type": "code",
   "execution_count": 3,
   "metadata": {},
   "outputs": [
    {
     "name": "stdout",
     "output_type": "stream",
     "text": [
      "请输入一个单数的英文动词photo\n",
      "在名词后面加es\n"
     ]
    }
   ],
   "source": [
    "n=input('请输入一个单数的英文动词')\n",
    "if n.endswith('s'):\n",
    "    print('在名词后加es')\n",
    "elif n.endswith('sh'):\n",
    "    print('在名词后加es')\n",
    "elif n.endswith('ch'):\n",
    "    print('在名词后加es')\n",
    "elif n.endswith('x'):\n",
    "    print('在名词后面加es')\n",
    "elif n.endswith('y'):\n",
    "    print('在名词后面变y为ies')\n",
    "elif n.endswith('o'):\n",
    "    print('在名词后面加es')\n",
    "else:\n",
    "    print('在名词后面加s')"
   ]
  },
  {
   "cell_type": "code",
   "execution_count": 4,
   "metadata": {},
   "outputs": [
    {
     "name": "stdout",
     "output_type": "stream",
     "text": [
      "                                                                               这是空行\n"
     ]
    }
   ],
   "source": [
    "print('                                                                               这是空行')"
   ]
  }
 ],
 "metadata": {
  "kernelspec": {
   "display_name": "Python 3",
   "language": "python",
   "name": "python3"
  },
  "language_info": {
   "codemirror_mode": {
    "name": "ipython",
    "version": 3
   },
   "file_extension": ".py",
   "mimetype": "text/x-python",
   "name": "python",
   "nbconvert_exporter": "python",
   "pygments_lexer": "ipython3",
   "version": "3.6.2"
  }
 },
 "nbformat": 4,
 "nbformat_minor": 2
}
