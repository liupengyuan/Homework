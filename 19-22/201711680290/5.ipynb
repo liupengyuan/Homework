{
 "cells": [
  {
   "cell_type": "markdown",
   "metadata": {},
   "source": [
    "### 练习 1：写函数，求n个随机整数均值的平方根，整数范围在m与k之间（n,m,k由用户输入）。"
   ]
  },
  {
   "cell_type": "code",
   "execution_count": 4,
   "metadata": {},
   "outputs": [
    {
     "name": "stdout",
     "output_type": "stream",
     "text": [
      "请输入一个整数2\n",
      "请输入一个整数8\n",
      "请输入一个比m大的整数10\n",
      "3.0\n"
     ]
    }
   ],
   "source": [
    "import random\n",
    "\n",
    "def text(a,b,c):\n",
    "    i=1\n",
    "    total=0\n",
    "    while i<=a:\n",
    "        i=i+1\n",
    "        number = random.randint(b,c)\n",
    "        total=total+number\n",
    "\n",
    "    mul=total/a\n",
    "    mus=mul**(1/2)\n",
    "    return mus\n",
    "\n",
    "n=int(input('请输入一个整数'))   \n",
    "m=int(input('请输入一个整数'))\n",
    "k=int(input('请输入一个比m大的整数'))\n",
    "print(text(n,m,k))"
   ]
  },
  {
   "cell_type": "markdown",
   "metadata": {
    "collapsed": true
   },
   "source": [
    "### 练习 2：写函数，共n个随机整数，整数范围在m与k之间，（n,m,k由用户输入）。求1：西格玛log(随机整数)，2：西格玛1/log(随机整数)"
   ]
  },
  {
   "cell_type": "code",
   "execution_count": 2,
   "metadata": {
    "scrolled": true
   },
   "outputs": [
    {
     "name": "stdout",
     "output_type": "stream",
     "text": [
      "请输入一个整数2\n",
      "请输入一个整数66\n",
      "请输入一个比m大的整数88\n",
      "8.72290570100077 0.3469791917860986\n"
     ]
    }
   ],
   "source": [
    "import random,math\n",
    "def text(a,b,c):\n",
    "    i=1\n",
    "    mun=0\n",
    "    mus=0\n",
    "    while i<=a:\n",
    "        i=i+1\n",
    "        number = random.randint(b,c)\n",
    "        mun=mun+math.log(number)\n",
    "        mus=mus+1/mun\n",
    "    print(mun,mus)\n",
    "\n",
    "n=int(input('请输入一个整数'))   \n",
    "m=int(input('请输入一个整数'))\n",
    "k=int(input('请输入一个比m大的整数'))  \n",
    "text(n,m,k)"
   ]
  },
  {
   "cell_type": "markdown",
   "metadata": {},
   "source": [
    "### 练习 3：写函数，求s=a+aa+aaa+aaaa+aa...a的值，其中a是[1,9]之间的随机整数。例如2+22+222+2222+22222(此时共有5个数相加)，几个数相加由键盘输入。\n"
   ]
  },
  {
   "cell_type": "code",
   "execution_count": 7,
   "metadata": {},
   "outputs": [
    {
     "name": "stdout",
     "output_type": "stream",
     "text": [
      "请输入一个整数2\n",
      "36\n"
     ]
    }
   ],
   "source": [
    "import random\n",
    "def text(b):\n",
    "    a= random.randint(1,9)\n",
    "    i=1\n",
    "    t=0\n",
    "    s=0\n",
    "    while i<=b:\n",
    "        t=t*10+a\n",
    "        i+=1\n",
    "        s=s+t\n",
    "    print(s)\n",
    "\n",
    "n=int(input('请输入一个整数'))\n",
    "text(n)"
   ]
  },
  {
   "cell_type": "markdown",
   "metadata": {},
   "source": [
    "### 挑战性练习：仿照task5，将猜数游戏改成由用户随便选择一个整数，让计算机来猜测的猜数游戏，要求和task5中人猜测的方法类似，但是人机角色对换，由人来判断猜测是大、小还是相等，请写出完整的猜数游戏。"
   ]
  },
  {
   "cell_type": "code",
   "execution_count": 1,
   "metadata": {},
   "outputs": [
    {
     "name": "stdout",
     "output_type": "stream",
     "text": [
      "=====游戏菜单=====\n",
      "                1. 游戏说明\n",
      "                2. 开始游戏\n",
      "                3. 退出游戏\n",
      "                4. 制作团队\n",
      "             =====游戏菜单=====\n",
      "请输入你的选择1\n",
      "\n",
      "    \n",
      "    ***你想数字我来猜***\n",
      "    \n",
      "    \n",
      "=====游戏菜单=====\n",
      "                1. 游戏说明\n",
      "                2. 开始游戏\n",
      "                3. 退出游戏\n",
      "                4. 制作团队\n",
      "             =====游戏菜单=====\n",
      "请输入你的选择2\n",
      "请输入一个大于0的整数，作为你想的整数的上界，回车结束。100\n",
      "请输入你想让我猜的次数5\n",
      "50\n",
      "一共可以猜 5 次\n",
      "我已经猜了 1 次\n",
      "我猜对了你就输入1，我猜大了你就输入2，我猜小了你就输入32\n",
      "抱歉，我猜大了\n",
      "25\n",
      "一共可以猜 5 次\n",
      "我已经猜了 2 次\n",
      "我猜对了你就输入1，我猜大了你就输入2，我猜小了你就输入33\n",
      "抱歉，我猜小了\n",
      "13\n",
      "一共可以猜 5 次\n",
      "我已经猜了 3 次\n",
      "我猜对了你就输入1，我猜大了你就输入2，我猜小了你就输入31\n",
      "\n",
      "    \n",
      "    **** I win **** \n",
      "    \n",
      "    \n",
      "神秘数字是： 13\n",
      "我比标准次数少 2 次\n",
      "=====游戏菜单=====\n",
      "                1. 游戏说明\n",
      "                2. 开始游戏\n",
      "                3. 退出游戏\n",
      "                4. 制作团队\n",
      "             =====游戏菜单=====\n",
      "请输入你的选择4\n",
      "\n",
      "    \n",
      "    $$$made by 胡爽 $$$\n",
      "    \n",
      "    \n",
      "=====游戏菜单=====\n",
      "                1. 游戏说明\n",
      "                2. 开始游戏\n",
      "                3. 退出游戏\n",
      "                4. 制作团队\n",
      "             =====游戏菜单=====\n",
      "请输入你的选择3\n",
      "\n",
      "    \n",
      "    ***alright game over***\n",
      "    \n",
      "    \n"
     ]
    }
   ],
   "source": [
    "import random, math\n",
    "\n",
    "\n",
    "def win():\n",
    "    print('''\n",
    "    \n",
    "    **** I win **** \n",
    "    \n",
    "    ''')\n",
    "    \n",
    "def lose():\n",
    "    print('''\n",
    "    \n",
    "    **** I lose ****\n",
    "    \n",
    "    ''')\n",
    "\n",
    "def game_over():\n",
    "    print('''\n",
    "    \n",
    "    ***alright game over***\n",
    "    \n",
    "    ''')\n",
    "\n",
    "def show_team():\n",
    "    print('''\n",
    "    \n",
    "    $$$made by 胡爽 $$$\n",
    "    \n",
    "    ''')\n",
    "\n",
    "def show_instruction():\n",
    "    print('''\n",
    "    \n",
    "    ***你想数字我来猜***\n",
    "    \n",
    "    ''')\n",
    "\n",
    "def menu():\n",
    "    print('''=====游戏菜单=====\n",
    "                1. 游戏说明\n",
    "                2. 开始游戏\n",
    "                3. 退出游戏\n",
    "                4. 制作团队\n",
    "             =====游戏菜单=====''')\n",
    "             \n",
    "def guess_game():\n",
    "    n = int(input('请输入一个大于0的整数，作为你想的整数的上界，回车结束。'))\n",
    "    max_times = int(input('请输入你想让我猜的次数'))\n",
    "    guess_times = 0\n",
    "    \n",
    "    while guess_times < max_times:\n",
    "        guess =math.ceil(n/2)\n",
    "        guess_times += 1\n",
    "        n=guess\n",
    "        print(guess)\n",
    "        print('一共可以猜', max_times, '次')\n",
    "        print('我已经猜了', guess_times, '次')\n",
    "        \n",
    "        t=int(input('我猜对了你就输入1，我猜大了你就输入2，我猜小了你就输入3'))\n",
    "        if 0<t<2:\n",
    "            win()\n",
    "            print('神秘数字是：', guess)\n",
    "            print('我比标准次数少', max_times-guess_times, '次')\n",
    "            break\n",
    "        elif 1<t<3:\n",
    "            print('抱歉，我猜大了')\n",
    "        else:\n",
    "            print('抱歉，我猜小了')\n",
    "            \n",
    "    else:\n",
    "        lose()\n",
    "\n",
    "# 主函数\n",
    "def main():\n",
    "    while True:\n",
    "        menu()\n",
    "        choice = int(input('请输入你的选择'))\n",
    "        if choice == 1:\n",
    "            show_instruction()\n",
    "        elif choice == 2:\n",
    "            guess_game()\n",
    "        elif choice == 3:\n",
    "            game_over()\n",
    "            break\n",
    "        else:\n",
    "            show_team()\n",
    "\n",
    "\n",
    "if __name__ == '__main__':\n",
    "    main()"
   ]
  },
  {
   "cell_type": "code",
   "execution_count": null,
   "metadata": {
    "collapsed": true
   },
   "outputs": [],
   "source": []
  }
 ],
 "metadata": {
  "kernelspec": {
   "display_name": "Python 3",
   "language": "python",
   "name": "python3"
  },
  "language_info": {
   "codemirror_mode": {
    "name": "ipython",
    "version": 3
   },
   "file_extension": ".py",
   "mimetype": "text/x-python",
   "name": "python",
   "nbconvert_exporter": "python",
   "pygments_lexer": "ipython3",
   "version": "3.6.2"
  }
 },
 "nbformat": 4,
 "nbformat_minor": 2
}
