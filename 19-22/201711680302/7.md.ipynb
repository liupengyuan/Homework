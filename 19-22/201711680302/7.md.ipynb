{
 "cells": [
  {
   "cell_type": "code",
   "execution_count": 15,
   "metadata": {},
   "outputs": [
    {
     "data": {
      "text/plain": [
       "'6,5,4,3,2,1'"
      ]
     },
     "execution_count": 15,
     "metadata": {},
     "output_type": "execute_result"
    }
   ],
   "source": [
    "#1.自己定义一个reverse(s)函数，功能返回字符串s的倒序字符串。\n",
    "def reverse(s):\n",
    "    \n",
    "    s='1,2,3,4,5,6'\n",
    "    \n",
    "    return(s[::-1])\n",
    "\n",
    "reverse(s)"
   ]
  },
  {
   "cell_type": "code",
   "execution_count": 21,
   "metadata": {},
   "outputs": [
    {
     "name": "stdout",
     "output_type": "stream",
     "text": [
      "*\n",
      "**\n",
      "***\n",
      "****\n",
      "*****\n",
      "******\n"
     ]
    }
   ],
   "source": [
    "#2.1打印直角三角形\n",
    "def tri(sym,row):\n",
    "\n",
    "    for i in range(1,row+1):\n",
    "        print(sym*i)\n",
    "        \n",
    "tri('*',6)"
   ]
  },
  {
   "cell_type": "code",
   "execution_count": 32,
   "metadata": {},
   "outputs": [
    {
     "name": "stdout",
     "output_type": "stream",
     "text": [
      "     * \n",
      "    * * \n",
      "   * * * \n",
      "  * * * * \n",
      " * * * * * \n",
      "* * * * * * \n"
     ]
    }
   ],
   "source": [
    "#2.2打印等边角形\n",
    "def tri(sym,row):\n",
    "    \n",
    "    for i in range(1,row+1):\n",
    "        print(' '*(row-i)+(sym+' ')*i)\n",
    "        \n",
    "tri('*',6)"
   ]
  },
  {
   "cell_type": "code",
   "execution_count": 47,
   "metadata": {},
   "outputs": [
    {
     "name": "stdout",
     "output_type": "stream",
     "text": [
      "       * \n",
      "      * * * \n",
      "     * * * * * \n",
      "    * * * * * * * \n",
      "   * * * * * * * * * \n"
     ]
    }
   ],
   "source": [
    "#2.3打印不规则三角形\n",
    "def tri(sym,row):\n",
    "    \n",
    "    for i in range(1,row):\n",
    "        print(' '*(row-i+2)+(sym+' ')*(2*i-1))\n",
    "        \n",
    "tri('*',6)"
   ]
  },
  {
   "cell_type": "code",
   "execution_count": 54,
   "metadata": {},
   "outputs": [
    {
     "name": "stdout",
     "output_type": "stream",
     "text": [
      "        * \n",
      "      * * * \n",
      "    * * * * * \n",
      "  * * * * * * * \n",
      "* * * * * * * * * \n"
     ]
    }
   ],
   "source": [
    "#2.4打印等腰三角形\n",
    "def tri(sym,row):\n",
    "    \n",
    "    for i in range(1,row):\n",
    "        print(' '*(row-2*i+4)+(sym+' ')*(2*i-1))\n",
    "        \n",
    "tri('*',6)"
   ]
  },
  {
   "cell_type": "code",
   "execution_count": 63,
   "metadata": {},
   "outputs": [
    {
     "name": "stdout",
     "output_type": "stream",
     "text": [
      "        * \n",
      "      * * * \n",
      "    * * * * * \n",
      "  * * * * * * * \n",
      "* * * * * * * * * \n",
      "  * * * * * * * \n",
      "    * * * * * \n",
      "      * * * \n",
      "        * \n"
     ]
    }
   ],
   "source": [
    "#3.1打印普通菱形\n",
    "def dia(sym,row):\n",
    "    \n",
    "    for i in range(1,row):\n",
    "        print(' '*(row-2*i+4)+(sym+' ')*(2*i-1))\n",
    "    for i in range(row-2, 0, -1):\n",
    "         print(' '*(row-2*i+4)+(sym+' ')*(2*i-1))\n",
    "            \n",
    "tri('*',6)"
   ]
  },
  {
   "cell_type": "code",
   "execution_count": 69,
   "metadata": {},
   "outputs": [
    {
     "name": "stdout",
     "output_type": "stream",
     "text": [
      "     * \n",
      "    * * \n",
      "   * * * \n",
      "  * * * * \n",
      " * * * * * \n",
      "* * * * * * \n",
      " * * * * * \n",
      "  * * * * \n",
      "   * * * \n",
      "    * * \n",
      "     * \n"
     ]
    }
   ],
   "source": [
    "#3.2打印由两个等边三角形组成的菱形\n",
    "def tri(sym,row):\n",
    "    \n",
    "    for i in range(1,row+1):\n",
    "        print(' '*(row-i)+(sym+' ')*i)\n",
    "    for i in range(row-1,0,-1):\n",
    "         print(' '*(row-i)+(sym+' ')*i)\n",
    "        \n",
    "tri('*',6)"
   ]
  },
  {
   "cell_type": "code",
   "execution_count": null,
   "metadata": {
    "collapsed": true
   },
   "outputs": [],
   "source": []
  }
 ],
 "metadata": {
  "kernelspec": {
   "display_name": "Python 3",
   "language": "python",
   "name": "python3"
  },
  "language_info": {
   "codemirror_mode": {
    "name": "ipython",
    "version": 3
   },
   "file_extension": ".py",
   "mimetype": "text/x-python",
   "name": "python",
   "nbconvert_exporter": "python",
   "pygments_lexer": "ipython3",
   "version": "3.6.2"
  }
 },
 "nbformat": 4,
 "nbformat_minor": 2
}
