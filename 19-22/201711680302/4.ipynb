{
 "cells": [
  {
   "cell_type": "code",
   "execution_count": 6,
   "metadata": {},
   "outputs": [
    {
     "name": "stdout",
     "output_type": "stream",
     "text": [
      "请输入第一个整数，回车结束。6\n",
      "请输入第二个整数，回车结束。6\n",
      "请输入第三个整数，回车结束。6\n",
      "2160\n"
     ]
    }
   ],
   "source": [
    "def mul(end):\n",
    "    i=0\n",
    "    total=1\n",
    "    \n",
    "    while i<end:\n",
    "        i=i+1\n",
    "        total=total*i\n",
    "    \n",
    "    return total\n",
    "n=int(input(\"请输入第一个整数，回车结束。\"))\n",
    "m=int(input(\"请输入第二个整数，回车结束。\"))\n",
    "k=int(input(\"请输入第三个整数，回车结束。\"))\n",
    "\n",
    "print(mul(m)+mul(n)+mul(k))"
   ]
  },
  {
   "cell_type": "code",
   "execution_count": 3,
   "metadata": {},
   "outputs": [
    {
     "name": "stdout",
     "output_type": "stream",
     "text": [
      "3.143588659585789 3.141612653189785\n"
     ]
    }
   ],
   "source": [
    "def sum(end):\n",
    "    i=1\n",
    "    n=1\n",
    "    total=1\n",
    "    \n",
    "    while n<end:\n",
    "        i=i+1\n",
    "        n=n+2\n",
    "        m=1/n\n",
    "        x=m*(-1)**(i+1)\n",
    "        total=total+x\n",
    "        \n",
    "    return total\n",
    "\n",
    "print(4*sum(1000),4*sum(100000))"
   ]
  },
  {
   "cell_type": "code",
   "execution_count": null,
   "metadata": {},
   "outputs": [
    {
     "name": "stdout",
     "output_type": "stream",
     "text": [
      "请输入您的姓名，回车结束。柯彩钰\n",
      "请输入您的生日，回车结束。103\n"
     ]
    },
    {
     "data": {
      "text/plain": [
       "('柯彩钰', '你是一个一顾倾人城，再顾倾人国，智商和居里夫人一个级别的热情大方，优雅高贵，温柔体贴，浪漫十足的完美摩羯座。')"
      ]
     },
     "execution_count": 8,
     "metadata": {},
     "output_type": "execute_result"
    }
   ],
   "source": [
    "name=input(\"请输入您的姓名，回车结束。\")\n",
    "m=int(input(\"请输入您的生日，回车结束。\"))\n",
    "def compute_sum(m):\n",
    "    if 321<=m<=419:\n",
    "        return(name,\"你是一个神经冲动的白羊座。\")\n",
    "    elif 521<=m<=621:\n",
    "        return(name,\"你是一个机智善变的双子座。\")\n",
    "    elif 622<=m<=722:\n",
    "        return(name,\"你是一个忠实持家的巨蟹座。\")\n",
    "    elif 723<=m<=822:\n",
    "         return(name,\"你是一个热情大方的狮子座。\")\n",
    "    elif 823<=m<=922:\n",
    "         return(name,\"你是一个追求完美的处女座。\")\n",
    "    elif 923<=m<=1023:\n",
    "        return(name,\"你是一个犹豫不决的天秤座。\")\n",
    "    elif 1024<=m<=1122:\n",
    "        return(name,\"你是一个善妒，占有欲极强的天蝎座。\")\n",
    "    elif 1123<=m<=1221:\n",
    "        return(name,\"你是爱自由爱冒险的射手座。\")\n",
    "    elif 1222<=m<=1231 or 101<=m<=119:\n",
    "        return(name,\"你是一个一顾倾人城，再顾倾人国，智商和居里夫人一个级别的热情大方，优雅高贵，温柔体贴，浪漫十足的完美摩羯座。\")\n",
    "    elif 120<=m<=218:\n",
    "        return(name,\"你是一个聪明伶俐的水瓶座。\")\n",
    "    elif 218<=m<=320:\n",
    "        return(name,\"你是一个多愁善感的双鱼座。\")\n",
    "    else:\n",
    "         return(\"输入非法\")\n",
    "    \n",
    "compute_sum(m)"
   ]
  },
  {
   "cell_type": "code",
   "execution_count": 1,
   "metadata": {},
   "outputs": [
    {
     "name": "stdout",
     "output_type": "stream",
     "text": [
      "请输入一个单数名词，回车结束。box\n",
      "boxes\n"
     ]
    }
   ],
   "source": [
    "n=input(\"请输入一个单数名词，回车结束。\")\n",
    "def pl(n):\n",
    "    \n",
    "    if n.endswith(\"ch\"):\n",
    "        return(n.replace(\"ch\",\"ches\"))\n",
    "    elif n.endswith(\"sh\"):\n",
    "        return(n.replace(\"sh\",\"shes\"))\n",
    "    elif n.endswith(\"x\"):\n",
    "        return(n.replace(\"x\",\"xes\"))\n",
    "    else:\n",
    "        return(n.replace(\"n\",\"ns\"))\n",
    "    \n",
    "print(pl(n))"
   ]
  },
  {
   "cell_type": "code",
   "execution_count": 8,
   "metadata": {},
   "outputs": [
    {
     "name": "stdout",
     "output_type": "stream",
     "text": [
      "请输入第一个整数，回车结束。1\n",
      "请输入第二个整数，回车结束。6\n",
      "请输入间隔数，回车结束。1\n"
     ]
    }
   ],
   "source": [
    "m=int(input(\"请输入第一个整数，回车结束。\"))\n",
    "n=int(input(\"请输入第二个整数，回车结束。\"))\n",
    "k=int(input(\"请输入间隔数，回车结束。\"))\n",
    "total=0\n",
    "if m<n:\n",
    "    def compute_sum(end):\n",
    "        total=total+m\n",
    "        m=m+k+1\n",
    "        \n",
    "        return total"
   ]
  },
  {
   "cell_type": "code",
   "execution_count": null,
   "metadata": {
    "collapsed": true
   },
   "outputs": [],
   "source": []
  }
 ],
 "metadata": {
  "kernelspec": {
   "display_name": "Python 3",
   "language": "python",
   "name": "python3"
  },
  "language_info": {
   "codemirror_mode": {
    "name": "ipython",
    "version": 3
   },
   "file_extension": ".py",
   "mimetype": "text/x-python",
   "name": "python",
   "nbconvert_exporter": "python",
   "pygments_lexer": "ipython3",
   "version": "3.6.2"
  }
 },
 "nbformat": 4,
 "nbformat_minor": 2
}
