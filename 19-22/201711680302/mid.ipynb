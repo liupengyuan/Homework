{
 "cells": [
  {
   "cell_type": "code",
   "execution_count": 8,
   "metadata": {},
   "outputs": [
    {
     "name": "stdout",
     "output_type": "stream",
     "text": [
      "请输入求和项数，回车结束。2\n",
      "4\n"
     ]
    }
   ],
   "source": [
    "#1.\n",
    "def sum(m):\n",
    "    m=int(input(\"请输入求和项数，回车结束。\"))\n",
    "    i=1\n",
    "    a=1\n",
    "    total=1\n",
    "    \n",
    "    while i<m:\n",
    "        i+=1\n",
    "        a=a+i\n",
    "        total=total+a\n",
    "        \n",
    "        return(total)\n",
    "    \n",
    "\n",
    "print(sum(m))"
   ]
  },
  {
   "cell_type": "code",
   "execution_count": 11,
   "metadata": {},
   "outputs": [
    {
     "ename": "SyntaxError",
     "evalue": "invalid character in identifier (<ipython-input-11-34b0239c912d>, line 6)",
     "output_type": "error",
     "traceback": [
      "\u001b[1;36m  File \u001b[1;32m\"<ipython-input-11-34b0239c912d>\"\u001b[1;36m, line \u001b[1;32m6\u001b[0m\n\u001b[1;33m    while n<m：\u001b[0m\n\u001b[1;37m             ^\u001b[0m\n\u001b[1;31mSyntaxError\u001b[0m\u001b[1;31m:\u001b[0m invalid character in identifier\n"
     ]
    }
   ],
   "source": [
    "#2.\n",
    "def ke(str):\n",
    "    n=0\n",
    "    i=str(input(\"请输入符号，回车结束。\"))\n",
    "    m=int(input(\"请输入打印行数，回车结束。\"))\n",
    "    while n<m：\n",
    "        numbers.append(i)\n",
    "        n=n+1\n",
    "    \n",
    "        return\n",
    "        print(ke(str))"
   ]
  },
  {
   "cell_type": "code",
   "execution_count": 12,
   "metadata": {},
   "outputs": [
    {
     "name": "stdout",
     "output_type": "stream",
     "text": [
      "5\n"
     ]
    }
   ],
   "source": [
    "#3.\n",
    "def ke(int):\n",
    "    n=int(input(\"请输入你想输入的数字的位数，回车结束。\"))\n",
    "    i=0\n",
    "    if i<n:\n",
    "        i+=1\n",
    "        m=int(input(\"请输入你想输入的数字的第一位数，回车结束。\"))\n",
    "        \n",
    "print(m)"
   ]
  },
  {
   "cell_type": "code",
   "execution_count": 1,
   "metadata": {},
   "outputs": [
    {
     "name": "stdout",
     "output_type": "stream",
     "text": [
      "请输入队员总数，回车结束。9\n",
      "请输入队员身高，回车结束。183\n",
      "请输入队员身高，回车结束。185\n",
      "请输入队员身高，回车结束。183\n",
      "请输入队员身高，回车结束。187\n",
      "请输入队员身高，回车结束。178\n",
      "请输入队员身高，回车结束。175\n",
      "请输入队员身高，回车结束。177\n",
      "请输入队员身高，回车结束。190\n",
      "请输入队员身高，回车结束。172\n",
      "181.11111111111111 [183, 185, 183, 187, 190]\n"
     ]
    }
   ],
   "source": [
    "#4.\n",
    "m=int(input(\"请输入队员总数，回车结束。\"))\n",
    "numbers=[]\n",
    "list=[]\n",
    "i=1\n",
    "total=0\n",
    "avg=0\n",
    "while i<=m:\n",
    "    n=int(input(\"请输入队员身高，回车结束。\"))\n",
    "    numbers.append(n)\n",
    "    i+=1\n",
    "    total=total+n\n",
    "    \n",
    "avg=total/m\n",
    "for n in numbers:\n",
    "    if n>avg:\n",
    "        list.append(n)\n",
    "\n",
    "print(avg,list)"
   ]
  },
  {
   "cell_type": "code",
   "execution_count": 3,
   "metadata": {},
   "outputs": [
    {
     "name": "stdout",
     "output_type": "stream",
     "text": [
      "1\n",
      "1\n",
      "请输入a+b的结果，回车结束。2\n",
      "7\n",
      "6\n",
      "请输入a+b的结果，回车结束。13\n",
      "1\n",
      "2\n",
      "请输入a+b的结果，回车结束。3\n",
      "9\n",
      "3\n",
      "请输入a+b的结果，回车结束。12\n",
      "10\n",
      "5\n",
      "请输入a+b的结果，回车结束。15\n",
      "100\n"
     ]
    }
   ],
   "source": [
    "#5.\n",
    "m=0\n",
    "n=0\n",
    "point=0\n",
    "import random\n",
    "\n",
    "while m<5 and n<5:\n",
    "    m=m+1\n",
    "    n=n+1\n",
    "    a=random.randint(1,10)\n",
    "    print(a)\n",
    "    b=random.randint(1,10)\n",
    "    print(b)\n",
    "    y=a+b\n",
    "    ans=int(input(\"请输入a+b的结果，回车结束。\"))\n",
    "    \n",
    "    if ans==y:\n",
    "        point=point+20\n",
    "        \n",
    "print(point)"
   ]
  },
  {
   "cell_type": "code",
   "execution_count": null,
   "metadata": {
    "collapsed": true
   },
   "outputs": [],
   "source": [
    "#6.\n",
    "list_x=[3,-5,9,108,34,-76,88]\n",
    "list_y=[]\n",
    "i=0\n",
    "m=list[i]\n",
    "max_num=m\n",
    "for i in list:\n",
    "    if i>max_num:\n",
    "        "
   ]
  }
 ],
 "metadata": {
  "kernelspec": {
   "display_name": "Python 3",
   "language": "python",
   "name": "python3"
  },
  "language_info": {
   "codemirror_mode": {
    "name": "ipython",
    "version": 3
   },
   "file_extension": ".py",
   "mimetype": "text/x-python",
   "name": "python",
   "nbconvert_exporter": "python",
   "pygments_lexer": "ipython3",
   "version": "3.6.2"
  }
 },
 "nbformat": 4,
 "nbformat_minor": 2
}
