{
 "cells": [
  {
   "cell_type": "code",
   "execution_count": 34,
   "metadata": {},
   "outputs": [
    {
     "name": "stdout",
     "output_type": "stream",
     "text": [
      "[71753, 'none'] 0.0003535747528076172\n",
      "[71753, 83874] 0.0015037059783935547\n"
     ]
    }
   ],
   "source": [
    "import random,time,bisect\n",
    "\n",
    "A=[]\n",
    "B=[]\n",
    "list=[]\n",
    "i=0\n",
    "m=1\n",
    "\n",
    "while m<=100000:\n",
    "    A.append(m)\n",
    "    m=m+1\n",
    "\n",
    "random.shuffle(A)\n",
    "B.append(A)\n",
    "\n",
    "a=0\n",
    "while a<1000:\n",
    "    n=random.randint(1,110000)\n",
    "    list.append(n)\n",
    "    a=a+1\n",
    "\n",
    "start_timeB = time.time()\n",
    "for x in list:\n",
    "    C=[]\n",
    "    C.append(x)\n",
    "    if x in B:\n",
    "        k=B.index(x)\n",
    "        C.append(k)\n",
    "    else:\n",
    "        C.append('none')\n",
    "    end_timeB=time.time()\n",
    "print(C,end_timeB-start_timeB)\n",
    "\n",
    "\n",
    "start_timeA = time.time()\n",
    "for y in list:\n",
    "    D=[]\n",
    "    n=bisect.bisect_left(A, y)\n",
    "    D.append(y)\n",
    "    if n==0 and A[0]==y:\n",
    "        D.append(n)\n",
    "    elif n==len(A):\n",
    "        D.append('none')\n",
    "    else:\n",
    "        D.append(n)\n",
    "    end_timeA=time.time()\n",
    "print(D,end_timeA-start_timeA)\n"
   ]
  },
  {
   "cell_type": "code",
   "execution_count": null,
   "metadata": {
    "collapsed": true
   },
   "outputs": [],
   "source": []
  }
 ],
 "metadata": {
  "kernelspec": {
   "display_name": "Python 3",
   "language": "python",
   "name": "python3"
  },
  "language_info": {
   "codemirror_mode": {
    "name": "ipython",
    "version": 3
   },
   "file_extension": ".py",
   "mimetype": "text/x-python",
   "name": "python",
   "nbconvert_exporter": "python",
   "pygments_lexer": "ipython3",
   "version": "3.6.2"
  }
 },
 "nbformat": 4,
 "nbformat_minor": 2
}
