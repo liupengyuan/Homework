{
 "cells": [
  {
   "cell_type": "code",
   "execution_count": 10,
   "metadata": {},
   "outputs": [
    {
     "name": "stdout",
     "output_type": "stream",
     "text": [
      "请输入一个正整数，回车结束。6\n",
      "请输入一个正整数，回车结束。9\n",
      "363600\n"
     ]
    }
   ],
   "source": [
    "m=int(input(\"请输入一个正整数，回车结束。\"))\n",
    "n=int(input(\"请输入一个正整数，回车结束。\"))\n",
    "\n",
    "if m>n:\n",
    "    def my_sum(end):\n",
    "        i=0\n",
    "        total=0\n",
    "        while i<end:\n",
    "            i=i+1\n",
    "            total=total+i\n",
    "        return total\n",
    "    print(my_sum(m)+my_sum(n))\n",
    "else:\n",
    "    def my_mul(end):\n",
    "        i=0\n",
    "        total=1\n",
    "        while i<end:\n",
    "            i=i+1\n",
    "            total=total*i\n",
    "        return total\n",
    "    print(my_mul(m)+my_mul(n))"
   ]
  },
  {
   "cell_type": "code",
   "execution_count": null,
   "metadata": {
    "collapsed": true
   },
   "outputs": [],
   "source": []
  }
 ],
 "metadata": {
  "kernelspec": {
   "display_name": "Python 3",
   "language": "python",
   "name": "python3"
  },
  "language_info": {
   "codemirror_mode": {
    "name": "ipython",
    "version": 3
   },
   "file_extension": ".py",
   "mimetype": "text/x-python",
   "name": "python",
   "nbconvert_exporter": "python",
   "pygments_lexer": "ipython3",
   "version": "3.6.2"
  }
 },
 "nbformat": 4,
 "nbformat_minor": 2
}
