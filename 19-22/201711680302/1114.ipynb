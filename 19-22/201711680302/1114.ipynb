{
 "cells": [
  {
   "cell_type": "code",
   "execution_count": 12,
   "metadata": {},
   "outputs": [
    {
     "name": "stdout",
     "output_type": "stream",
     "text": [
      "最大值为 899\n",
      "最小值为 -10\n",
      "平均值为 106.72999999999999\n"
     ]
    }
   ],
   "source": [
    "def kcy(numbers):\n",
    "    numbers=[1,2,-1,55,100,899,-10,3,12.5,5.8]\n",
    "    n=len(numbers)\n",
    "    i=0\n",
    "    total=0\n",
    "    avg=0\n",
    "\n",
    "    for number in numbers:\n",
    "        total += number\n",
    "        avg=total/n\n",
    "   \n",
    "    max_number=numbers[i]\n",
    "    min_number=numbers[i]\n",
    "\n",
    "    while i<n-1:\n",
    "        i+=1\n",
    "        \n",
    "        if numbers[i]<=min_number:\n",
    "            min_number=numbers[i]\n",
    "        \n",
    "        elif numbers[i]>max_number:\n",
    "            max_number=numbers[i]\n",
    "            \n",
    "    print('最大值为',max_number)\n",
    "    print('最小值为',min_number)\n",
    "    print('平均值为',avg)\n",
    "    \n",
    "\n",
    "kcy(numbers)"
   ]
  },
  {
   "cell_type": "code",
   "execution_count": null,
   "metadata": {
    "collapsed": true
   },
   "outputs": [],
   "source": []
  }
 ],
 "metadata": {
  "kernelspec": {
   "display_name": "Python 3",
   "language": "python",
   "name": "python3"
  },
  "language_info": {
   "codemirror_mode": {
    "name": "ipython",
    "version": 3
   },
   "file_extension": ".py",
   "mimetype": "text/x-python",
   "name": "python",
   "nbconvert_exporter": "python",
   "pygments_lexer": "ipython3",
   "version": "3.6.2"
  }
 },
 "nbformat": 4,
 "nbformat_minor": 2
}
