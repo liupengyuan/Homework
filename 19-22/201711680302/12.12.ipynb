{
 "cells": [
  {
   "cell_type": "code",
   "execution_count": 1,
   "metadata": {},
   "outputs": [
    {
     "name": "stdout",
     "output_type": "stream",
     "text": [
      "请输入一个十的倍数，回车结束60\n",
      "['相', '夜', '不', '心', '天', '分', '马', '寡', '而', '清', '永', '茧', '骑', '度', '起', '持', '旁', '观', '面', '祥', '归', '石', '谢', '喜', '石', '则', '穷', '缘', '濡', '驹', '目', '黄', '固', '膏', '业', '中', '恐', '醉', '情', '破', '飞', '回', '犀', '造', '无', '不', '己', '对', '喻', '向', '地', '一', '人', '簇', '鸡', '惊', '心', '才', '下', '必']\n"
     ]
    }
   ],
   "source": [
    "fh = open(r'd:\\temp\\idioms.txt')\n",
    "text=fh.read()\n",
    "fh.close()\n",
    "text=text.replace('、','')\n",
    "text=text.replace('\\n','')\n",
    "chs=[]\n",
    "\n",
    "m=int(input('请输入一个十的倍数，回车结束'))\n",
    "import random\n",
    "\n",
    "for i in range(m):\n",
    "    idiom = random.choice(text)\n",
    "    chs.append(idiom)\n",
    "    \n",
    "print(chs)\n",
    "file=open(r'd:\\temp\\1.txt','w')\n",
    "file.writelines(idiom)"
   ]
  },
  {
   "cell_type": "code",
   "execution_count": null,
   "metadata": {
    "collapsed": true
   },
   "outputs": [],
   "source": []
  }
 ],
 "metadata": {
  "kernelspec": {
   "display_name": "Python 3",
   "language": "python",
   "name": "python3"
  },
  "language_info": {
   "codemirror_mode": {
    "name": "ipython",
    "version": 3
   },
   "file_extension": ".py",
   "mimetype": "text/x-python",
   "name": "python",
   "nbconvert_exporter": "python",
   "pygments_lexer": "ipython3",
   "version": "3.6.2"
  }
 },
 "nbformat": 4,
 "nbformat_minor": 2
}
