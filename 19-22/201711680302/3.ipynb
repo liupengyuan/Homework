{
 "cells": [
  {
   "cell_type": "code",
   "execution_count": 5,
   "metadata": {},
   "outputs": [
    {
     "name": "stdout",
     "output_type": "stream",
     "text": [
      "请输入您的姓名，回车结束。柯彩钰\n",
      "你好！ 柯彩钰\n",
      "请输入您的生日，回车结束。1.03\n",
      "柯彩钰 你是一个一顾倾人城，再顾倾人国，智商和居里夫人一个级别的热情大方，优雅高贵，温柔体贴，浪漫十足的完美摩羯座。\n"
     ]
    }
   ],
   "source": [
    "name=input(\"请输入您的姓名，回车结束。\")\n",
    "print(\"你好！\",name)\n",
    "m=float(input(\"请输入您的生日，回车结束。\"))\n",
    "if 3.21<=m<=4.19:\n",
    "    print(name,\"你是一个神经冲动的白羊座。\")\n",
    "elif 4.20<=m<=5.20:\n",
    "    print(name,\"你是一个保守爱财的金牛座。\")\n",
    "elif 5.21<=m<=6.21:\n",
    "    print(name,\"你是一个机智善变的双子座。\")\n",
    "elif 6.22<=m<=7.22:\n",
    "    print(name,\"你是一个忠实持家的巨蟹座。\")\n",
    "elif 7.23<=m<=8.22:\n",
    "    print(name,\"你是一个热情大方的狮子座。\")\n",
    "elif 8.23<=m<=9.22:\n",
    "    print(name,\"你是一个追求完美的处女座。\")\n",
    "elif 9.23<=m<=10.23:\n",
    "    print(name,\"你是一个犹豫不决的天秤座。\")\n",
    "elif 10.24<=m<=11.22:\n",
    "    print(name,\"你是一个善妒，占有欲极强的天蝎座。\")\n",
    "elif 11.23<=m<=12.21:\n",
    "    print(name,\"你是爱自由爱冒险的射手座。\")\n",
    "elif 12.22<=m or m<=1.19:\n",
    "    print(name,\"你是一个一顾倾人城，再顾倾人国，智商和居里夫人一个级别的热情大方，优雅高贵，温柔体贴，浪漫十足的完美摩羯座。\")\n",
    "elif 1.20<=m<=2.18:\n",
    "    print(name,\"你是一个聪明伶俐的水瓶座。\")\n",
    "else:\n",
    "    print(name,\"你是一个多愁善感的双鱼座。\")"
   ]
  },
  {
   "cell_type": "code",
   "execution_count": 17,
   "metadata": {},
   "outputs": [
    {
     "name": "stdout",
     "output_type": "stream",
     "text": [
      "请输入第一个整数，回车结束。6\n",
      "请输入第二个整数，回车结束。6\n",
      "请输入1或2或3，其中1是求和，2是求积，3是作商求余数，回车结束。2\n",
      "36\n"
     ]
    }
   ],
   "source": [
    "m=int(input(\"请输入第一个整数，回车结束。\"))\n",
    "n=int(input(\"请输入第二个整数，回车结束。\"))\n",
    "y=m\n",
    "x=int(input(\"请输入1或2或3，其中1是求和，2是求积，3是作商求余数，回车结束。\"))\n",
    "if x<=1:\n",
    "    y=m+n\n",
    "elif x<=2:\n",
    "    y=m*n\n",
    "elif x<=3:\n",
    "    y=m%n\n",
    "else:\n",
    "    y=m/n\n",
    "print(y)"
   ]
  },
  {
   "cell_type": "code",
   "execution_count": 18,
   "metadata": {},
   "outputs": [
    {
     "name": "stdout",
     "output_type": "stream",
     "text": [
      "请输入一个单数动词，回车结束。touch\n",
      "touches\n"
     ]
    }
   ],
   "source": [
    "v=input(\"请输入一个单数动词，回车结束。\")\n",
    "if v.endswith(\"ch\"):\n",
    "    print(v.replace(\"ch\",\"ches\"))\n",
    "elif v.endswith(\"sh\"):\n",
    "    print(v.replace(\"sh\",\"shes\"))\n",
    "elif v.endswith(\"x\"):\n",
    "    print(v.replace(\"x\",\"xes\"))\n",
    "else:\n",
    "    print(v.replace(\"v\",\"vs\"))"
   ]
  },
  {
   "cell_type": "code",
   "execution_count": 19,
   "metadata": {},
   "outputs": [
    {
     "name": "stdout",
     "output_type": "stream",
     "text": [
      " \n"
     ]
    }
   ],
   "source": [
    "print(\" \")"
   ]
  },
  {
   "cell_type": "code",
   "execution_count": 31,
   "metadata": {},
   "outputs": [
    {
     "name": "stdout",
     "output_type": "stream",
     "text": [
      "请输入要输入的整数个数，回车结束。6\n",
      "请输入一个整数，回车结束。8\n",
      "请输入一个比a小的整数，回车结束。7\n",
      "请输入一个正整数，回车结束。9\n",
      "请输入一个正整数，回车结束。6\n",
      "请输入一个正整数，回车结束。5\n",
      "请输入一个正整数，回车结束。3\n",
      "请输入一个正整数，回车结束。4\n",
      "请输入一个正整数，回车结束。5\n",
      "8\n"
     ]
    }
   ],
   "source": [
    "m=int(input(\"请输入要输入的整数个数，回车结束。\"))\n",
    "\n",
    "a=int(input(\"请输入一个整数，回车结束。\"))\n",
    "b=int(input(\"请输入一个比a小的整数，回车结束。\"))\n",
    "i=1\n",
    "while i<=m:\n",
    "    i+=1\n",
    "    x=int(input(\"请输入一个正整数，回车结束。\"))\n",
    "    if x<max and x>n:\n",
    "        n=x\n",
    "print(n)"
   ]
  },
  {
   "cell_type": "code",
   "execution_count": null,
   "metadata": {
    "collapsed": true
   },
   "outputs": [],
   "source": []
  }
 ],
 "metadata": {
  "kernelspec": {
   "display_name": "Python 3",
   "language": "python",
   "name": "python3"
  },
  "language_info": {
   "codemirror_mode": {
    "name": "ipython",
    "version": 3
   },
   "file_extension": ".py",
   "mimetype": "text/x-python",
   "name": "python",
   "nbconvert_exporter": "python",
   "pygments_lexer": "ipython3",
   "version": "3.6.2"
  }
 },
 "nbformat": 4,
 "nbformat_minor": 2
}
