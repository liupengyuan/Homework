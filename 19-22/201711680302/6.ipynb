{
 "cells": [
  {
   "cell_type": "code",
   "execution_count": 3,
   "metadata": {},
   "outputs": [
    {
     "name": "stdout",
     "output_type": "stream",
     "text": [
      "请输入列表中元素的个数，回车结束6\n",
      "请输入一个整数，回车结束5\n",
      "请输入一个整数，回车结束2\n",
      "请输入一个整数，回车结束3\n",
      "请输入一个整数，回车结束7\n",
      "请输入一个整数，回车结束9\n",
      "请输入一个整数，回车结束6\n",
      "[5, 2, 3, 7, 9, 6]\n",
      "请输入你想要查找的数字，回车结束6\n",
      "该数的位置是： 5\n"
     ]
    }
   ],
   "source": [
    "def ke():\n",
    "    list = []\n",
    "    n = int(input(\"请输入列表中元素的个数，回车结束\"))\n",
    "    \n",
    "    for i in range(n):\n",
    "        number = int(input(\"请输入一个整数，回车结束\"))\n",
    "        list.append(number)\n",
    "        \n",
    "    print(list)\n",
    "    \n",
    "    m = int(input(\"请输入你想要查找的数字，回车结束\"))\n",
    "    \n",
    "    if m in list:\n",
    "        for i in range(n+1):\n",
    "            if m == list[i]:\n",
    "                print(\"该数的位置是：\",i)\n",
    "                \n",
    "                break        \n",
    "    else:\n",
    "        return(\"-1\")\n",
    "    \n",
    "ke()"
   ]
  },
  {
   "cell_type": "code",
   "execution_count": 6,
   "metadata": {},
   "outputs": [
    {
     "name": "stdout",
     "output_type": "stream",
     "text": [
      "[6, 3, 16, 13, 26, 23, 36, 33, 66, 63]\n"
     ]
    }
   ],
   "source": [
    "def cai():\n",
    "    m = []\n",
    "    i = 0\n",
    "    j = 0\n",
    "    while i<len(a) and j<len(b):\n",
    "        m.append(a[i])\n",
    "        i = i+1\n",
    "        m.append(b[j])\n",
    "        j = j+1\n",
    "        \n",
    "    print(m)\n",
    "    \n",
    "a = [6,16,26,36,66]\n",
    "b = [3,13,23,33,63]\n",
    "\n",
    "cai()"
   ]
  },
  {
   "cell_type": "code",
   "execution_count": 17,
   "metadata": {},
   "outputs": [
    {
     "name": "stdout",
     "output_type": "stream",
     "text": [
      "0.5\n"
     ]
    }
   ],
   "source": [
    "a = [1,0]\n",
    "b = [1,3**0.5]  \n",
    "\n",
    "def cos(a,b):\n",
    "    R = 0\n",
    "    m = 0\n",
    "    n = 0\n",
    "    x = 0\n",
    "    y = 0\n",
    "    \n",
    "    for i in range(len(a)):\n",
    "        R =R+ a[i]*b[i]\n",
    "        m += a[i]**2\n",
    "        n += b[i]**2\n",
    "        x = m**0.5 \n",
    "        y = n**0.5\n",
    "        \n",
    "    print(R/(x*y))\n",
    "        \n",
    "cos(a,b)"
   ]
  },
  {
   "cell_type": "code",
   "execution_count": 22,
   "metadata": {},
   "outputs": [
    {
     "name": "stdout",
     "output_type": "stream",
     "text": [
      "共有 3741 种分法\n"
     ]
    }
   ],
   "source": [
    "total=0\n",
    "for i in range(87):\n",
    "    total=total+i\n",
    "    \n",
    "print(\"共有\",total,\"种分法\")"
   ]
  },
  {
   "cell_type": "code",
   "execution_count": null,
   "metadata": {
    "collapsed": true
   },
   "outputs": [],
   "source": []
  }
 ],
 "metadata": {
  "kernelspec": {
   "display_name": "Python 3",
   "language": "python",
   "name": "python3"
  },
  "language_info": {
   "codemirror_mode": {
    "name": "ipython",
    "version": 3
   },
   "file_extension": ".py",
   "mimetype": "text/x-python",
   "name": "python",
   "nbconvert_exporter": "python",
   "pygments_lexer": "ipython3",
   "version": "3.6.2"
  }
 },
 "nbformat": 4,
 "nbformat_minor": 2
}
