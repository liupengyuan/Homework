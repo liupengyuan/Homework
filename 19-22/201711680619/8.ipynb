{
 "cells": [
  {
   "cell_type": "code",
   "execution_count": 1,
   "metadata": {
    "scrolled": true
   },
   "outputs": [
    {
     "name": "stdout",
     "output_type": "stream",
     "text": [
      "'不吐不快',\n",
      "请输入一个成语快刀斩麻\n",
      "over\n",
      "你的得分为 0\n",
      "电脑得分为 0\n"
     ]
    }
   ],
   "source": [
    "import random\n",
    "with open(r'c:\\temp\\成语大全.txt') as fl:\n",
    "    text=fl.read()\n",
    "    idioms = text.split()\n",
    "def select_idiom(peo_idiom):\n",
    "    list_idiom=[]\n",
    "    for idiom in idioms:\n",
    "        \n",
    "        if idiom[0]==peo_idiom[-1]:\n",
    "            list_idiom.append(idiom)\n",
    "    return list_idiom\n",
    "ur_score=0\n",
    "c_score=0  \n",
    "a=random.choice(idioms)\n",
    "print(a)\n",
    "\n",
    "b=input('请输入一个成语')\n",
    "if b[0]==a[-1]and b in idioms:\n",
    "    select_idiom(b)\n",
    "    ur_score+=10\n",
    "    if select_idiom(b)==[]:\n",
    "        print('over')\n",
    "        \n",
    "        \n",
    "    else:\n",
    "        com_idiom=random.choice(select_idiom(b))\n",
    "        print(com_idiom)\n",
    "        c_score+=10\n",
    "        while 1<2:\n",
    "       \n",
    "     \n",
    "\n",
    "\n",
    "            b=input('请输入一个成语')\n",
    "            if b[0]==com_idiom[-1]and b in idioms:\n",
    "                ur_score+=10\n",
    "                select_idiom(b)\n",
    "                if select_idiom(b)==[]:\n",
    "                    print('over')\n",
    "                    break\n",
    "                \n",
    "                else:    \n",
    "                    com_idiom=random.choice(select_idiom(b))\n",
    "                    print(com_idiom)\n",
    "                    c_score+=10\n",
    "            else:\n",
    "                print('over')\n",
    "                break\n",
    "else:\n",
    "    print('over')\n",
    "    \n",
    "print('你的得分为',ur_score)\n",
    "print('电脑得分为',c_score)"
   ]
  },
  {
   "cell_type": "code",
   "execution_count": null,
   "metadata": {},
   "outputs": [],
   "source": []
  }
 ],
 "metadata": {
  "kernelspec": {
   "display_name": "Python 3",
   "language": "python",
   "name": "python3"
  },
  "language_info": {
   "codemirror_mode": {
    "name": "ipython",
    "version": 3
   },
   "file_extension": ".py",
   "mimetype": "text/x-python",
   "name": "python",
   "nbconvert_exporter": "python",
   "pygments_lexer": "ipython3",
   "version": "3.6.3"
  }
 },
 "nbformat": 4,
 "nbformat_minor": 2
}
