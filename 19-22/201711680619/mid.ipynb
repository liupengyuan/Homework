{
 "cells": [
  {
   "cell_type": "code",
   "execution_count": null,
   "metadata": {},
   "outputs": [
    {
     "name": "stdout",
     "output_type": "stream",
     "text": [
      "请输入：3\n"
     ]
    }
   ],
   "source": [
    "#第一题\n",
    "def sum_a(m):\n",
    "    i = 0\n",
    "    total = 0\n",
    "    a = 0\n",
    "    while i < m:\n",
    "        a += 1\n",
    "        total += a\n",
    "    return total\n",
    "\n",
    "b = int(input('请输入：'))\n",
    "print(sum_a(b))"
   ]
  },
  {
   "cell_type": "code",
   "execution_count": 14,
   "metadata": {},
   "outputs": [
    {
     "name": "stdout",
     "output_type": "stream",
     "text": [
      "5\n",
      "*\n",
      "***\n",
      "*****\n",
      "*******\n",
      "*********\n"
     ]
    }
   ],
   "source": [
    "#第二题\n",
    "n = int(input())\n",
    "i = 0\n",
    "m = -1\n",
    "while i < n:\n",
    "    i += 1\n",
    "    m += 2\n",
    "    print('*'*m)\n",
    "    \n"
   ]
  },
  {
   "cell_type": "code",
   "execution_count": 15,
   "metadata": {},
   "outputs": [
    {
     "name": "stdout",
     "output_type": "stream",
     "text": [
      "<class 'list'>\n"
     ]
    }
   ],
   "source": [
    "#第三题\n",
    "list_1 = [0,1,2,3,4]\n",
    "print(list)"
   ]
  },
  {
   "cell_type": "code",
   "execution_count": null,
   "metadata": {},
   "outputs": [],
   "source": [
    "#第四题\n",
    "\n",
    "a = int(input('队员个数：'))\n",
    "i = 0\n",
    "m = 0\n",
    "n = 0\n",
    "while i < a:\n",
    "    shengao = int(input())\n",
    "    i += 1\n",
    "    m += shengao\n",
    "    high_ba = m/a\n",
    "if shengao > high_ba:\n",
    "    print('超过平均身高的是：'shengao)\n",
    "print(high_ba)        "
   ]
  },
  {
   "cell_type": "code",
   "execution_count": null,
   "metadata": {},
   "outputs": [],
   "source": []
  },
  {
   "cell_type": "code",
   "execution_count": 5,
   "metadata": {},
   "outputs": [
    {
     "ename": "SyntaxError",
     "evalue": "invalid syntax (<ipython-input-5-443572ac99db>, line 17)",
     "output_type": "error",
     "traceback": [
      "\u001b[1;36m  File \u001b[1;32m\"<ipython-input-5-443572ac99db>\"\u001b[1;36m, line \u001b[1;32m17\u001b[0m\n\u001b[1;33m    print('最后得分为：'score)\u001b[0m\n\u001b[1;37m                      ^\u001b[0m\n\u001b[1;31mSyntaxError\u001b[0m\u001b[1;31m:\u001b[0m invalid syntax\n"
     ]
    }
   ],
   "source": [
    "#第五题\n",
    "import random,math\n",
    "i = 0\n",
    "m = 5\n",
    "while i < m:\n",
    "    a = random.randint(0,10)\n",
    "#    print('本次随机数a为：’a)\n",
    "    b = random.randint(0,10)\n",
    "#    print('本次随机数b为：’b)\n",
    "    c = a + b\n",
    "    n = int(input('请求出a加b的和：'))\n",
    "    score = 0\n",
    "    if c == a:\n",
    "        score += 20\n",
    "    elif c != a:\n",
    "        score += 0\n",
    "print('最后得分为：'score)    \n",
    "    \n"
   ]
  },
  {
   "cell_type": "code",
   "execution_count": 7,
   "metadata": {},
   "outputs": [
    {
     "ename": "TypeError",
     "evalue": "int() argument must be a string, a bytes-like object or a number, not 'range'",
     "output_type": "error",
     "traceback": [
      "\u001b[1;31m---------------------------------------------------------------------------\u001b[0m",
      "\u001b[1;31mTypeError\u001b[0m                                 Traceback (most recent call last)",
      "\u001b[1;32m<ipython-input-7-0d0865617fb2>\u001b[0m in \u001b[0;36m<module>\u001b[1;34m()\u001b[0m\n\u001b[0;32m      6\u001b[0m \u001b[0mmax_num\u001b[0m \u001b[1;33m=\u001b[0m \u001b[1;36m0\u001b[0m\u001b[1;33m\u001b[0m\u001b[0m\n\u001b[0;32m      7\u001b[0m \u001b[1;32mwhile\u001b[0m \u001b[0mi\u001b[0m \u001b[1;33m<\u001b[0m \u001b[0mlen\u001b[0m\u001b[1;33m(\u001b[0m\u001b[0mlist\u001b[0m\u001b[1;33m)\u001b[0m\u001b[1;33m:\u001b[0m\u001b[1;33m\u001b[0m\u001b[0m\n\u001b[1;32m----> 8\u001b[1;33m     \u001b[0ma\u001b[0m \u001b[1;33m=\u001b[0m \u001b[0mint\u001b[0m\u001b[1;33m(\u001b[0m\u001b[0mrange\u001b[0m\u001b[1;33m(\u001b[0m\u001b[0mi\u001b[0m\u001b[1;33m)\u001b[0m\u001b[1;33m)\u001b[0m\u001b[1;33m\u001b[0m\u001b[0m\n\u001b[0m\u001b[0;32m      9\u001b[0m     \u001b[1;32mif\u001b[0m \u001b[0ma\u001b[0m \u001b[1;33m>\u001b[0m \u001b[0mmax_num\u001b[0m\u001b[1;33m:\u001b[0m\u001b[1;33m\u001b[0m\u001b[0m\n\u001b[0;32m     10\u001b[0m         \u001b[0mmax_num\u001b[0m \u001b[1;33m=\u001b[0m \u001b[0ma\u001b[0m\u001b[1;33m\u001b[0m\u001b[0m\n",
      "\u001b[1;31mTypeError\u001b[0m: int() argument must be a string, a bytes-like object or a number, not 'range'"
     ]
    }
   ],
   "source": [
    "#第六题\n",
    "list = [3,-5,9,108,34,-76,88]\n",
    "#new = []\n",
    "i = 0\n",
    "min_num = 0\n",
    "max_num = 0\n",
    "while i < len(list):\n",
    "    a = range(i)\n",
    "    if a > max_num:\n",
    "        max_num = a\n",
    "    elif a < min_num:\n",
    "        min_num = a\n",
    "    i += 1"
   ]
  }
 ],
 "metadata": {
  "kernelspec": {
   "display_name": "Python 3",
   "language": "python",
   "name": "python3"
  },
  "language_info": {
   "codemirror_mode": {
    "name": "ipython",
    "version": 3
   },
   "file_extension": ".py",
   "mimetype": "text/x-python",
   "name": "python",
   "nbconvert_exporter": "python",
   "pygments_lexer": "ipython3",
   "version": "3.6.3"
  }
 },
 "nbformat": 4,
 "nbformat_minor": 2
}
