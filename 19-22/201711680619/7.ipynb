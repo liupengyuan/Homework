{
 "cells": [
  {
   "cell_type": "code",
   "execution_count": 25,
   "metadata": {},
   "outputs": [
    {
     "name": "stdout",
     "output_type": "stream",
     "text": [
      "7,6,5,4,3,2,1\n"
     ]
    }
   ],
   "source": [
    "#练习一：自己定义一个reverse(s)函数，功能返回字符串s的倒序字符串。\n",
    "def reverse(s):\n",
    "    print(s[::-1])\n",
    "\n",
    "list = '1,2,3,4,5,6,7'\n",
    "reverse(list)"
   ]
  },
  {
   "cell_type": "code",
   "execution_count": 41,
   "metadata": {},
   "outputs": [
    {
     "name": "stdout",
     "output_type": "stream",
     "text": [
      "6\n",
      "*\n",
      "**\n",
      "***\n",
      "****\n",
      "*****\n",
      "******\n",
      "     正\n",
      "    正正\n",
      "   正正正\n",
      "  正正正正\n",
      " 正正正正正\n",
      "正正正正正正\n"
     ]
    }
   ],
   "source": [
    "#练习二：写函数，根据给定符号和行数，打印相应直角三角形，等腰三角形及其他形式的三角形。\n",
    "def triangle_1(num):\n",
    "    line = '*'\n",
    "    for i in range(1,num+1):\n",
    "        print(line*i)\n",
    "def triangle_2(num):\n",
    "    line = '正'\n",
    "    for i in range(1,num+1):\n",
    "        print((num-i)*' '+line*i)\n",
    "number = int(input())\n",
    "triangle_1(number)\n",
    "triangle_2(number)"
   ]
  },
  {
   "cell_type": "code",
   "execution_count": 48,
   "metadata": {},
   "outputs": [
    {
     "name": "stdout",
     "output_type": "stream",
     "text": [
      "6\n",
      "     * \n",
      "    * * \n",
      "   * * * \n",
      "  * * * * \n",
      " * * * * * \n",
      "* * * * * * \n",
      " * * * * * \n",
      "  * * * * \n",
      "   * * * \n",
      "    * * \n",
      "     * \n",
      "      \n"
     ]
    }
   ],
   "source": [
    "#练习五：写函数，根据给定符号，打印各种菱形。\n",
    "def diamond(num):\n",
    "    line = '* '\n",
    "    for i in range(1,num+1):\n",
    "        print((num-i)*' ' + line*i)\n",
    "    for i in range(1,num+1):\n",
    "        print(' '*i + line*(num-i))\n",
    "n = int(input())\n",
    "diamond(n)"
   ]
  }
 ],
 "metadata": {
  "kernelspec": {
   "display_name": "Python 3",
   "language": "python",
   "name": "python3"
  },
  "language_info": {
   "codemirror_mode": {
    "name": "ipython",
    "version": 3
   },
   "file_extension": ".py",
   "mimetype": "text/x-python",
   "name": "python",
   "nbconvert_exporter": "python",
   "pygments_lexer": "ipython3",
   "version": "3.6.3"
  }
 },
 "nbformat": 4,
 "nbformat_minor": 2
}
