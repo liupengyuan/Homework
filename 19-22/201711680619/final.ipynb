{
 "cells": [
  {
   "cell_type": "code",
   "execution_count": 13,
   "metadata": {},
   "outputs": [
    {
     "name": "stdout",
     "output_type": "stream",
     "text": [
      "           *  *****   * \n",
      "\n",
      "         * *  *****   * * \n",
      "\n",
      "       * * *  *****   * * * \n",
      "\n",
      "     * * * *  *****   * * * * \n",
      "\n",
      "   * * * * *  *****   * * * * * \n",
      "\n"
     ]
    }
   ],
   "source": [
    "#1、（10 分）写函数，有两个形式参数: 符号和行数，可打印多行字符图形。如\n",
    "def f_print(line_num,item):\n",
    "    for i in range(line_num):\n",
    "        print(' '* ((line_num-i)*2),'* '* (i+1),item,' ','* '*(i+1))\n",
    "        print()\n",
    "#\n",
    "item = '*****'\n",
    "f_print(5,item)"
   ]
  },
  {
   "cell_type": "code",
   "execution_count": 4,
   "metadata": {},
   "outputs": [
    {
     "data": {
      "text/plain": [
       "(2, (3, 3))"
      ]
     },
     "execution_count": 4,
     "metadata": {},
     "output_type": "execute_result"
    }
   ],
   "source": [
    "#2、（10 分）Ackermann 函数定义如下，请实现该函数，并计算 A(3,4)。\n",
    "def ack(m,n):\n",
    "    if m == 0:\n",
    "        n +=1\n",
    "    elif m > 0 and n == 0:\n",
    "        m -= 1\n",
    "        n = 1\n",
    "    elif m > 0 and n > 0:\n",
    "        n = (m,n-1)\n",
    "        m -= 1\n",
    "    return m,n\n",
    "ack(3,4)"
   ]
  },
  {
   "cell_type": "code",
   "execution_count": 14,
   "metadata": {},
   "outputs": [
    {
     "name": "stdout",
     "output_type": "stream",
     "text": [
      "请输入一个a与b之中较小的数,且ab皆为正整数：3\n",
      "请输入一个a与b之中较大的数,且ab皆为正整数：25\n",
      "请输入题数：15\n",
      "19 - 25 =\n",
      "请输入你的答案：0\n",
      "12 + 6 =\n",
      "请输入你的答案：18\n",
      "23 - 6 =\n",
      "请输入你的答案：217\n",
      "13 - 21 =\n",
      "请输入你的答案：0\n",
      "6 x 9 =\n",
      "请输入你的答案：54\n",
      "9 + 11 =\n",
      "请输入你的答案：20\n",
      "21 - 12 =\n",
      "请输入你的答案：9\n",
      "19 + 10 =\n",
      "请输入你的答案：29\n",
      "15 ÷ 15 =\n",
      "请输入你的答案：1\n",
      "10 ÷ 24 =\n",
      "请输入你的答案：0\n",
      "8 + 22 =\n",
      "请输入你的答案：30\n",
      "24 - 18 =\n",
      "请输入你的答案：6\n",
      "8 ÷ 4 =\n",
      "请输入你的答案：2\n",
      "15 + 4 =\n",
      "请输入你的答案：19\n",
      "25 x 6 =\n",
      "请输入你的答案：0\n",
      "最后得分为: 65\n"
     ]
    }
   ],
   "source": [
    "#3、某小学一年级期末考试，请你编程随机出 n 道四则运算题目，每题只有两个数字和一个运算符号，数字均为 a 到 b 之间的整数， 整数是随机的， 加减乘除也是随机的，要保证每个题目的结果必须是正整数。\n",
    "import random\n",
    "a = int(input('请输入一个a与b之中较小的数,且ab皆为正整数：'))\n",
    "b = int(input('请输入一个a与b之中较大的数,且ab皆为正整数：'))\n",
    "n = int(input('请输入题数：'))\n",
    "i = 0\n",
    "score = 0\n",
    "while i < n:\n",
    "    j = random.randint(a,b)\n",
    "    k = random.randint(a,b)\n",
    "    fuhao = random.choice(['+', '-', 'x','÷'])\n",
    "    print(j,fuhao,k,'=')\n",
    "    result = int(input('请输入你的答案：'))\n",
    "    c = j + k\n",
    "    d = j - k\n",
    "    e = j * k\n",
    "    f = j / k\n",
    "    if c >= 1 and fuhao == '+':\n",
    "        if c == result:\n",
    "            score += 5\n",
    "        else:\n",
    "            score +=0\n",
    "    elif d >= 1 and fuhao == '-':\n",
    "        if d == result:\n",
    "            score += 5\n",
    "        else:\n",
    "            score +=0\n",
    "    elif e >= 1 and fuhao == 'x':\n",
    "        if e == result:\n",
    "            score += 10\n",
    "        else:\n",
    "            score +=0\n",
    "    elif f >= 1 and fuhao == '÷':\n",
    "        if f == result:\n",
    "            score += 10\n",
    "        else:\n",
    "            score +=0\n",
    "#    else:\n",
    "#        print('本题作废')\n",
    "    i += 1\n",
    "print('最后得分为:',score)"
   ]
  },
  {
   "cell_type": "code",
   "execution_count": 21,
   "metadata": {},
   "outputs": [
    {
     "name": "stderr",
     "output_type": "stream",
     "text": [
      "IOPub data rate exceeded.\n",
      "The notebook server will temporarily stop sending output\n",
      "to the client in order to avoid crashing it.\n",
      "To change this limit, set the config variable\n",
      "`--NotebookApp.iopub_data_rate_limit`.\n",
      "\n",
      "Current values:\n",
      "NotebookApp.iopub_data_rate_limit=1000000.0 (bytes/sec)\n",
      "NotebookApp.rate_limit_window=3.0 (secs)\n",
      "\n"
     ]
    }
   ],
   "source": [
    "#第四题\n",
    "#filename = r'e:\\temp\\成语大全(含成语解释)_utf8.txt'\n",
    "with open(r'e:\\temp\\成语大全(含成语解释)_utf8.txt', encoding = 'utf-8') as f:\n",
    "    word_table = set()\n",
    "    i = 0\n",
    "    for line in f:\n",
    "        if i < 4:\n",
    "            i += 1\n",
    "            word_table |= {word.split('/')[0] for word in line.split()}\n",
    "print(word_table)\n",
    "        \n",
    "\n"
   ]
  },
  {
   "cell_type": "code",
   "execution_count": 22,
   "metadata": {},
   "outputs": [
    {
     "name": "stdout",
     "output_type": "stream",
     "text": [
      "[('行尸走肉', 1), ('金蝉脱壳', 1), ('百里挑一', 1), ('金玉满堂', 1), ('背水一战', 1), ('霸王别姬', 1), ('天上人间', 1), ('不吐不快', 1), ('海阔天空', 1), ('情非得已', 1), ('满腹经纶', 1), ('兵临城下', 1), ('春暖花开', 1), ('插翅难逃', 1), ('黄道吉日', 1), ('天下无双', 1), ('偷天换日', 1), ('两小无猜', 1), ('卧虎藏龙', 1), ('珠光宝气', 1)]\n"
     ]
    }
   ],
   "source": [
    "#b）统计 A 中所有成语在语料库文件中出现的频次。输出频次最高的 20 个成语及其频次\n",
    "from collections import Counter\n",
    "\n",
    "def count_words_freq_dict(filename):\n",
    "    words_freq_dict = Counter()\n",
    "    \n",
    "    with open(filename) as f:\n",
    "        for line in f:\n",
    "            words_freq_dict.update([word.split('/')[0] for word in line.split()])\n",
    "    return words_freq_dict\n",
    "\n",
    "def main():\n",
    "    filename = r'e:\\temp\\idioms_correct.txt'\n",
    "    table = count_words_freq_dict(filename)\n",
    "    print(table.most_common(20))\n",
    "\n",
    "if __name__ == '__main__':\n",
    "    main()\n",
    "\n",
    "    "
   ]
  },
  {
   "cell_type": "code",
   "execution_count": null,
   "metadata": {},
   "outputs": [],
   "source": [
    "#c）挑战性开放式题目。新型接龙，方式为：一个成语，接一个二字词，接一个成语...例如：千钧一发 发生 生生不息 息影 影只形单 单飞 飞珠溅玉 玉石 石破天惊...。成语在 A 中，二字词由统计语料库词表中得到。要求键盘输入一个成语，计算机能给出接龙序列（不产生回路）\n",
    "\n"
   ]
  }
 ],
 "metadata": {
  "kernelspec": {
   "display_name": "Python 3",
   "language": "python",
   "name": "python3"
  },
  "language_info": {
   "codemirror_mode": {
    "name": "ipython",
    "version": 3
   },
   "file_extension": ".py",
   "mimetype": "text/x-python",
   "name": "python",
   "nbconvert_exporter": "python",
   "pygments_lexer": "ipython3",
   "version": "3.6.3"
  }
 },
 "nbformat": 4,
 "nbformat_minor": 2
}
