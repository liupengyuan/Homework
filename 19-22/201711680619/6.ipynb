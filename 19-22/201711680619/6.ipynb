{
 "cells": [
  {
   "cell_type": "code",
   "execution_count": 1,
   "metadata": {},
   "outputs": [
    {
     "name": "stdout",
     "output_type": "stream",
     "text": [
      "第一个向量的第一个值1\n",
      "第一个向量的第二个值2\n",
      "第二个向量的第一个值1\n",
      "第二个向量的第二个值2\n",
      "0.9999999999999998\n"
     ]
    }
   ],
   "source": [
    "#写函数，可求两个向量的夹角余弦值，向量可放在list中。主程序调用该函数。\n",
    "import math\n",
    "def a():\n",
    "    li = []\n",
    "    l_2=[]\n",
    "    a = int(input(\"第一个向量的第一个值\"))\n",
    "    b = int(input(\"第一个向量的第二个值\"))\n",
    "    c = int(input(\"第二个向量的第一个值\"))\n",
    "    d = int(input(\"第二个向量的第二个值\"))\n",
    "    li.append(a)\n",
    "    li.append(b)\n",
    "    l_2.append(c)\n",
    "    l_2.append(d)\n",
    "    ademo = math.sqrt((li[0] ** 2 + li[1] ** 2))\n",
    "    bdemo = math.sqrt((l_2[0] ** 2 + l_2[1] ** 2))\n",
    "    a = (li[0]*l_2[0]+li[1]*l_2[1])/(ademo * bdemo)\n",
    "    print(a)\n",
    "if __name__ == '__main__':\n",
    "    a()\n"
   ]
  },
  {
   "cell_type": "code",
   "execution_count": 12,
   "metadata": {},
   "outputs": [
    {
     "name": "stdout",
     "output_type": "stream",
     "text": [
      "以下输出a列表的最大值\n",
      "899\n",
      "以下输出a列表的最xiao值\n",
      "-10\n",
      "106.6\n"
     ]
    }
   ],
   "source": [
    "#写函数，返回一个list中的最大值，最小值，平均值。（不用内置的求和求函数），以[1,2,-1,55,100,899,-10,3,12.5,5.8]为例。\n",
    "def zuixiaozhi(a):\n",
    "    \n",
    "        for i in range(0, len(a)):\n",
    "            for j in range(i + 1, len(a)):\n",
    "                first = int(a[i])\n",
    "                second = int(a[j])\n",
    "                if first > second:\n",
    "                    a[i] = a[j]\n",
    "                    a[j] = first\n",
    "        return  a[0]\n",
    "\n",
    "\n",
    "def zuidazhi(a):\n",
    "    for i in range(0, len(a)):\n",
    "        for j in range(i + 1, len(a)):\n",
    "            first = int(a[i])\n",
    "            second = int(a[j])\n",
    "            if first < second:\n",
    "                a[i] = a[j]\n",
    "                a[j] = first\n",
    "    return a[0]\n",
    "def xba(n):\n",
    "    a = 0\n",
    "    for x in n:\n",
    "        a+= x\n",
    "    return a/len(n)\n",
    "a=[1,2,-1,55,100,899,-10,3,12.5,5.8]\n",
    "c=zuidazhi(a)\n",
    "print('以下输出a列表的最大值')\n",
    "print(c)\n",
    "print('以下输出a列表的最xiao值')\n",
    "d=zuixiaozhi(a)\n",
    "print(d)\n",
    "print(xba(a))"
   ]
  },
  {
   "cell_type": "code",
   "execution_count": 16,
   "metadata": {},
   "outputs": [
    {
     "name": "stdout",
     "output_type": "stream",
     "text": [
      "3\n",
      "3\n"
     ]
    }
   ],
   "source": [
    "#写函数，返回某个元素/对象在一个list中的位置，如果不在，则返回-1.\n",
    "list_1 = [0,1,2,3,4]\n",
    "def a(y):\n",
    "\n",
    "    for a,b in enumerate(list_1):\n",
    "        if y == b:\n",
    "            return a\n",
    "\n",
    "    if y not in list_1:\n",
    "        return -1\n",
    "\n",
    "if __name__ == '__main__':\n",
    "    c = int(input())\n",
    "    print(c)\n"
   ]
  },
  {
   "cell_type": "code",
   "execution_count": 5,
   "metadata": {},
   "outputs": [
    {
     "name": "stdout",
     "output_type": "stream",
     "text": [
      "result [1, 5, 2, 6, 3, 7, 4, 8]\n"
     ]
    }
   ],
   "source": [
    "#写函数，可将两个相同长度的list，间隔插入，生成新的list。例如：给两个list，a=[1,2,3,4], b=[5,6,7,8]。则可以生成：[1,5,2,6,3,7,4,8]。\n",
    "a = [1, 2, 3, 4]\n",
    "b = [5, 6, 7, 8]\n",
    "# result = [1, 5, 2, 6, 3, 7, 4, 8]\n",
    "result = a\n",
    "for x in range(len(b)):\n",
    "    i = x * 2 + 1\n",
    "    result.insert(i, b[x])\n",
    "\n",
    "print(\"result\",result)\n"
   ]
  },
  {
   "cell_type": "code",
   "execution_count": null,
   "metadata": {},
   "outputs": [],
   "source": []
  }
 ],
 "metadata": {
  "kernelspec": {
   "display_name": "Python 3",
   "language": "python",
   "name": "python3"
  },
  "language_info": {
   "codemirror_mode": {
    "name": "ipython",
    "version": 3
   },
   "file_extension": ".py",
   "mimetype": "text/x-python",
   "name": "python",
   "nbconvert_exporter": "python",
   "pygments_lexer": "ipython3",
   "version": "3.6.3"
  }
 },
 "nbformat": 4,
 "nbformat_minor": 2
}
