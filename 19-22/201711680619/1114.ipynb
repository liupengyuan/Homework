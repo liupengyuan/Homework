{
 "cells": [
  {
   "cell_type": "markdown",
   "metadata": {},
   "source": [
    "# 写函数，返回一个list中的最大值，最小值，平均值。（不用内置的求和求函数），以[1,2,-1,55,100,899,-10,3,12.5,5.8]为例。"
   ]
  },
  {
   "cell_type": "code",
   "execution_count": 7,
   "metadata": {},
   "outputs": [
    {
     "name": "stdout",
     "output_type": "stream",
     "text": [
      "106.72999999999999\n"
     ]
    }
   ],
   "source": [
    "def xba(n):\n",
    "    c = 0\n",
    "    for x in n:\n",
    "        c+= x\n",
    "    print(c/len(n))\n",
    "xba([1,2,-1,55,100,899,-10,3,12.5,5.8])"
   ]
  },
  {
   "cell_type": "code",
   "execution_count": null,
   "metadata": {},
   "outputs": [],
   "source": []
  },
  {
   "cell_type": "code",
   "execution_count": 5,
   "metadata": {},
   "outputs": [
    {
     "name": "stdout",
     "output_type": "stream",
     "text": [
      "以下输出a列表的最大值\n",
      "899\n",
      "以下输出a列表的最xiao值\n",
      "-10\n"
     ]
    }
   ],
   "source": [
    "def zuixiaozhi(a):\n",
    "    \n",
    "        for i in range(0, len(a)):\n",
    "            for j in range(i + 1, len(a)):\n",
    "                first = int(a[i])\n",
    "                second = int(a[j])\n",
    "                if first > second:\n",
    "                    a[i] = a[j]\n",
    "                    a[j] = first\n",
    "        return  a[0]\n",
    "\n",
    "\n",
    "def zuidazhi(a):\n",
    "    for i in range(0, len(a)):\n",
    "        for j in range(i + 1, len(a)):\n",
    "            first = int(a[i])\n",
    "            second = int(a[j])\n",
    "            if first < second:\n",
    "                a[i] = a[j]\n",
    "                a[j] = first\n",
    "    return a[0]\n",
    "a=[1,2,-1,55,100,899,-10,3,12.5,5.8]\n",
    "c=zuidazhi(a)\n",
    "print('以下输出a列表的最大值')\n",
    "print(c)\n",
    "print('以下输出a列表的最xiao值')\n",
    "d=zuixiaozhi(a)\n",
    "print(d)"
   ]
  },
  {
   "cell_type": "code",
   "execution_count": null,
   "metadata": {},
   "outputs": [],
   "source": []
  },
  {
   "cell_type": "code",
   "execution_count": null,
   "metadata": {},
   "outputs": [],
   "source": []
  }
 ],
 "metadata": {
  "kernelspec": {
   "display_name": "Python 3",
   "language": "python",
   "name": "python3"
  },
  "language_info": {
   "codemirror_mode": {
    "name": "ipython",
    "version": 3
   },
   "file_extension": ".py",
   "mimetype": "text/x-python",
   "name": "python",
   "nbconvert_exporter": "python",
   "pygments_lexer": "ipython3",
   "version": "3.6.3"
  }
 },
 "nbformat": 4,
 "nbformat_minor": 2
}
