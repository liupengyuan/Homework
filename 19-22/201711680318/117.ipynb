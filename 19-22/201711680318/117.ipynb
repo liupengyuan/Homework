{
 "cells": [
  {
   "cell_type": "code",
   "execution_count": 14,
   "metadata": {},
   "outputs": [
    {
     "name": "stdout",
     "output_type": "stream",
     "text": [
      "请输入整数个数:5\n",
      "请输入范围内的下界:10\n",
      "请输入范围内的上届:500\n",
      "454\n",
      "276\n",
      "436\n",
      "212\n",
      "346\n",
      "41.52107898405339\n"
     ]
    }
   ],
   "source": [
    "import random\n",
    "\n",
    "def word():\n",
    "    m = int(input('请输入整数个数:'))\n",
    "    n = int(input('请输入范围内的下界:'))\n",
    "    k = int(input('请输入范围内的上届:'))\n",
    "    \n",
    "\n",
    "    i = 0\n",
    "    total = 0\n",
    "    \n",
    "    while i < m:\n",
    "        \n",
    "        number = random.randint(n,k) \n",
    "        i += 1\n",
    "        total = total + number\n",
    "        end = total**(1/2)\n",
    "        print(number)\n",
    "    return end\n",
    "\n",
    "print(word())     \n",
    "   \n",
    "    "
   ]
  }
 ],
 "metadata": {
  "kernelspec": {
   "display_name": "Python 3",
   "language": "python",
   "name": "python3"
  },
  "language_info": {
   "codemirror_mode": {
    "name": "ipython",
    "version": 3
   },
   "file_extension": ".py",
   "mimetype": "text/x-python",
   "name": "python",
   "nbconvert_exporter": "python",
   "pygments_lexer": "ipython3",
   "version": "3.6.3"
  }
 },
 "nbformat": 4,
 "nbformat_minor": 2
}
