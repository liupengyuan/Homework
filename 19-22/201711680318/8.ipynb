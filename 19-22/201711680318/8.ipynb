{
 "cells": [
  {
   "cell_type": "code",
   "execution_count": 12,
   "metadata": {},
   "outputs": [
    {
     "name": "stdout",
     "output_type": "stream",
     "text": [
      "夫子自道\n",
      "请输入成语：道不拾遗\n",
      "遗臭万年\n",
      "请输入成语：年年有余\n",
      "10 10\n"
     ]
    }
   ],
   "source": [
    "import random\n",
    "\n",
    "\n",
    "n = ''                                                                                                                                                                                                 \n",
    "computer = 0\n",
    "u = 0\n",
    "ch = ''\n",
    "\n",
    "fh=open(r'c:\\temp\\成语大全.txt')\n",
    "\n",
    "text = fh.read()\n",
    "\n",
    "fh.close()\n",
    "ch = ''\n",
    "成语大全 = text.split()\n",
    "ch = random.choice(成语大全)\n",
    "print(ch)\n",
    "\n",
    "for i in range(len(成语大全)):\n",
    "    n=input('请输入成语：')\n",
    "    \n",
    "    if ch[3]== n[0] and n in text:    \n",
    "            u += 10\n",
    "            for j in range(len(成语大全)):\n",
    "                ch = random.choice(成语大全) \n",
    "                if ch[0]==n[3]:\n",
    "                    computer += 10 \n",
    "                    print(ch)\n",
    "    else:\n",
    "        break\n",
    "        \n",
    "print(u,computer)        \n",
    "        "
   ]
  },
  {
   "cell_type": "code",
   "execution_count": null,
   "metadata": {},
   "outputs": [],
   "source": []
  }
 ],
 "metadata": {
  "kernelspec": {
   "display_name": "Python 3",
   "language": "python",
   "name": "python3"
  },
  "language_info": {
   "codemirror_mode": {
    "name": "ipython",
    "version": 3
   },
   "file_extension": ".py",
   "mimetype": "text/x-python",
   "name": "python",
   "nbconvert_exporter": "python",
   "pygments_lexer": "ipython3",
   "version": "3.6.3"
  }
 },
 "nbformat": 4,
 "nbformat_minor": 2
}
