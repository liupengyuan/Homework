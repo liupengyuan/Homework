{
 "cells": [
  {
   "cell_type": "code",
   "execution_count": null,
   "metadata": {},
   "outputs": [],
   "source": [
    "练习 1：写程序，可由键盘读入用户姓名例如Mr. right，让用户输入出生的月份与日期，判断用户星座，\n",
    "假设用户是金牛座，\n",
    "则输出，Mr. right，你是非常有性格的金牛座！。"
   ]
  },
  {
   "cell_type": "code",
   "execution_count": 29,
   "metadata": {},
   "outputs": [
    {
     "name": "stdout",
     "output_type": "stream",
     "text": [
      "请输入你的姓名:牟童\n",
      "请输入你的出生月份and日期:429\n",
      "牟童 你是非常有性格的金牛座\n"
     ]
    }
   ],
   "source": [
    "n=input('请输入你的姓名:')\n",
    "m=int(input('请输入你的出生月份and日期:'))\n",
    "\n",
    "if 321<=m<=419:\n",
    "    print(n,'你是非常有性格的白羊座')\n",
    "elif 421<=m<=520:\n",
    "    print(n,'你是非常有性格的金牛座')\n",
    "elif 521<=m<=621:\n",
    "    print(n,'你是非常有性格的双子座')\n",
    "elif 622<=m<=722:\n",
    "    print(n,'你是非常有性格的巨蟹座')\n",
    "elif 723<=m<=822:\n",
    "    print(n,'你是非常有性格的狮子座') \n",
    "elif 823<=m<=922:\n",
    "    print(n,'你是非常有性格的处女座')\n",
    "elif 923<=m<=1023:\n",
    "    print(n,'你是非常有性格的天秤座')\n",
    "elif 1024<=m<=1122:\n",
    "    print(n,'你是非常有性格的天蝎座')\n",
    "elif 1123<=m<=1221:\n",
    "    print(n,'你是非常有性格的射手座')\n",
    "elif 120<=m<=218:\n",
    "    print(n,'你是非常有性格的水瓶座')\n",
    "elif 219<=m<=320:\n",
    "    print(n,'你是非常有性格的双鱼座')\n",
    "else:\n",
    "    print(n,'你是非常有性格的魔蝎座')\n",
    "    "
   ]
  },
  {
   "cell_type": "code",
   "execution_count": null,
   "metadata": {},
   "outputs": [],
   "source": [
    "练习 2：写程序，可由键盘读入两个整数m与n(n不等于0)，询问用户意图，\n",
    "如果要求和则计算从m到n的和输出，如果要乘积则计算从m到n的积并输出，\n",
    "如果要求余数则计算m除以n的余数的值并输出，否则则计算m整除n的值并输出。"
   ]
  },
  {
   "cell_type": "code",
   "execution_count": 2,
   "metadata": {},
   "outputs": [
    {
     "name": "stdout",
     "output_type": "stream",
     "text": [
      "30\n",
      "6\n",
      "是否求和：1，是否求积：2，是否求余数：3,是否求整：44\n",
      "5.0\n"
     ]
    }
   ],
   "source": [
    "m=int(input())\n",
    "n=int(input())\n",
    "\n",
    "A=0\n",
    "i=int(input('是否求和：1，是否求积：2，是否求余数：3,是否求整：4'))\n",
    "\n",
    "\n",
    "if    i<2:\n",
    "    A = m+n\n",
    "elif  1<i<3:\n",
    "    A = m*n\n",
    "elif  2<i<4:\n",
    "    A = m%n\n",
    "elif  3<i<5:\n",
    "    A = m/n\n",
    "    \n",
    "print(A)\n",
    "    "
   ]
  },
  {
   "cell_type": "code",
   "execution_count": null,
   "metadata": {},
   "outputs": [],
   "source": [
    "练习 4：英文单词单数转复数，要求输入一个英文动词（单数形式），\n",
    "能够得到其复数形式\n",
    "或给出单数转复数形式的建议（提示，some_string.endswith(some_letter)函数可以判断某字符串结尾字符，\n",
    "可尝试运行：'myname'.endswith('me')，liupengyuan'.endswith('n')）。"
   ]
  },
  {
   "cell_type": "code",
   "execution_count": 27,
   "metadata": {},
   "outputs": [
    {
     "name": "stdout",
     "output_type": "stream",
     "text": [
      "请输入一个英文单词：watch\n",
      "watches\n"
     ]
    }
   ],
   "source": [
    "n=str(input('请输入一个英文单词：'))\n",
    "\n",
    "if 'n'.endswith('y'):\n",
    "     n=n[:-1]+'ies'\n",
    "elif 'n'[-1]in'sx' or n[-2:]in['sh','ch']:\n",
    "    n=n+'es'\n",
    "elif 'n'.endswith('an'):\n",
    "    n=n[:-2]+'en'\n",
    "else:\n",
    "    n=n+'s'\n",
    "\n",
    "print(n)"
   ]
  },
  {
   "cell_type": "code",
   "execution_count": null,
   "metadata": {},
   "outputs": [],
   "source": [
    "尝试性练习：写程序，能够在屏幕上显示空行。。"
   ]
  },
  {
   "cell_type": "code",
   "execution_count": 6,
   "metadata": {},
   "outputs": [
    {
     "name": "stdout",
     "output_type": "stream",
     "text": [
      "\n",
      "\n"
     ]
    }
   ],
   "source": [
    "print('\\n')"
   ]
  },
  {
   "cell_type": "code",
   "execution_count": null,
   "metadata": {},
   "outputs": [],
   "source": []
  }
 ],
 "metadata": {
  "kernelspec": {
   "display_name": "Python 3",
   "language": "python",
   "name": "python3"
  },
  "language_info": {
   "codemirror_mode": {
    "name": "ipython",
    "version": 3
   },
   "file_extension": ".py",
   "mimetype": "text/x-python",
   "name": "python",
   "nbconvert_exporter": "python",
   "pygments_lexer": "ipython3",
   "version": "3.6.3"
  }
 },
 "nbformat": 4,
 "nbformat_minor": 2
}
