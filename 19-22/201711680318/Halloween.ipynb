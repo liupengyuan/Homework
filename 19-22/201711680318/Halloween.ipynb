{
 "cells": [
  {
   "cell_type": "code",
   "execution_count": 57,
   "metadata": {},
   "outputs": [
    {
     "name": "stdout",
     "output_type": "stream",
     "text": [
      "请输入一个数5\n",
      "请输入一个数4\n",
      "25\n"
     ]
    }
   ],
   "source": [
    "def my_sum(end):\n",
    "    i = 0\n",
    "    total_n = 0\n",
    "\n",
    "    while i < end:\n",
    "        i = i + 1\n",
    "        total_n = total_n + i\n",
    "\n",
    "    return total_n\n",
    "\n",
    "def my_mul(end):\n",
    "    i = 0\n",
    "    mul = 1\n",
    "    \n",
    "    while i < end:\n",
    "        i = i + 1\n",
    "        mul = mul * i\n",
    "        \n",
    "    return mul\n",
    "\n",
    "m=int(input('请输入一个数'))\n",
    "n=int(input('请输入一个数'))\n",
    "\n",
    "if m > n:\n",
    "    print(my_sum(n)+my_sum(m))\n",
    "else:\n",
    "    print(my_mul(n)+my_mul(m))\n",
    "    "
   ]
  },
  {
   "cell_type": "code",
   "execution_count": null,
   "metadata": {},
   "outputs": [],
   "source": []
  }
 ],
 "metadata": {
  "kernelspec": {
   "display_name": "Python 3",
   "language": "python",
   "name": "python3"
  },
  "language_info": {
   "codemirror_mode": {
    "name": "ipython",
    "version": 3
   },
   "file_extension": ".py",
   "mimetype": "text/x-python",
   "name": "python",
   "nbconvert_exporter": "python",
   "pygments_lexer": "ipython3",
   "version": "3.6.3"
  }
 },
 "nbformat": 4,
 "nbformat_minor": 2
}
