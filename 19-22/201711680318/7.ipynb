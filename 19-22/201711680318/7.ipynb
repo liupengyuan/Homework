{
 "cells": [
  {
   "cell_type": "code",
   "execution_count": null,
   "metadata": {},
   "outputs": [],
   "source": [
    "自己定义一个reverse(s)函数，功能返回字符串s的倒序字符串。"
   ]
  },
  {
   "cell_type": "code",
   "execution_count": 110,
   "metadata": {},
   "outputs": [
    {
     "name": "stdout",
     "output_type": "stream",
     "text": [
      "年五的进奋砺砥\n"
     ]
    },
    {
     "data": {
      "text/plain": [
       "'砥砺奋进的五年'"
      ]
     },
     "execution_count": 110,
     "metadata": {},
     "output_type": "execute_result"
    }
   ],
   "source": [
    "def reverse(s):\n",
    "  \n",
    "    m = len(s)\n",
    "    print(s[m-1::-1])\n",
    "    return s\n",
    "    \n",
    "reverse('砥砺奋进的五年')\n",
    "       "
   ]
  },
  {
   "cell_type": "code",
   "execution_count": null,
   "metadata": {},
   "outputs": [],
   "source": [
    "练习二：写函数，根据给定符号和行数，打印相应直角三角形，等腰三角形及其他形式的三角形。"
   ]
  },
  {
   "cell_type": "code",
   "execution_count": 116,
   "metadata": {},
   "outputs": [
    {
     "name": "stdout",
     "output_type": "stream",
     "text": [
      "\n",
      "一\n",
      "一一\n",
      "一一一\n",
      "一一一一\n",
      "一一一一一\n",
      "一一一一一一\n",
      "一一一一一一一\n",
      "      一 \n",
      "     一一 \n",
      "    一一一 \n",
      "   一一一一 \n",
      "  一一一一一 \n",
      " 一一一一一一 \n",
      "一一一一一一一 \n",
      "   \n",
      "  一   \n",
      "   一一    \n",
      "    一一一     \n",
      "     一一一一      \n",
      "      一一一一一       \n",
      "       一一一一一一        \n",
      "        一一一一一一一         \n"
     ]
    }
   ],
   "source": [
    "def run(): \n",
    "    line = '一'*6\n",
    "    lines=7\n",
    "    for i in range(lines+1):\n",
    "        if i == 1:\n",
    "            print(line[0])\n",
    "        elif i<i+1:\n",
    "            print(line[0]*i)\n",
    "    \n",
    "   \n",
    "    for k in range(1,lines+1):\n",
    "        print((lines-k)*' ' + line[0]*k, end=' ')\n",
    "        print()\n",
    "    \n",
    "    \n",
    "    \n",
    "    m = lines-1\n",
    "    for j in range(lines+1):\n",
    "        \n",
    "        \n",
    "            print(' '*(lines-m)+line[0]*j+' '*(lines-m),end=' ')\n",
    "            m -= 1\n",
    "    \n",
    "            print()\n",
    "        \n",
    "     \n",
    "            \n",
    "            \n",
    "run()"
   ]
  },
  {
   "cell_type": "code",
   "execution_count": null,
   "metadata": {},
   "outputs": [],
   "source": [
    "练习五：写函数，根据给定符号，打印各种菱形。"
   ]
  },
  {
   "cell_type": "code",
   "execution_count": 156,
   "metadata": {},
   "outputs": [
    {
     "name": "stdout",
     "output_type": "stream",
     "text": [
      "       一一一一一一一 \n",
      "      一一一一一一一 \n",
      "     一一一一一一一 \n",
      "    一一一一一一一 \n",
      "   一一一一一一一 \n",
      "  一一一一一一一 \n",
      " 一一一一一一一 \n",
      "         一一一一一一一                \n",
      "          一一一一一一一                \n",
      "           一一一一一一一                \n",
      "            一一一一一一一                \n",
      "             一一一一一一一                \n",
      "              一一一一一一一                \n",
      "               一一一一一一一                \n"
     ]
    }
   ],
   "source": [
    "def run():\n",
    "    line = '一'\n",
    "    lines = 7\n",
    "    for i in range(lines):\n",
    "        print(' '*(lines-i)+lines*line[0],end=' ')\n",
    "        print()\n",
    "    \n",
    "    n = lines-1\n",
    "    for j in range(lines):\n",
    "        n -= 1\n",
    "        print(' '*(2*lines-n) + lines*line[0]+' '*(3*lines-i),end=' ')\n",
    "        \n",
    "        print()\n",
    "    \n",
    "    \n",
    "run()"
   ]
  }
 ],
 "metadata": {
  "kernelspec": {
   "display_name": "Python 3",
   "language": "python",
   "name": "python3"
  },
  "language_info": {
   "codemirror_mode": {
    "name": "ipython",
    "version": 3
   },
   "file_extension": ".py",
   "mimetype": "text/x-python",
   "name": "python",
   "nbconvert_exporter": "python",
   "pygments_lexer": "ipython3",
   "version": "3.6.3"
  }
 },
 "nbformat": 4,
 "nbformat_minor": 2
}
