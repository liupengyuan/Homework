{
 "cells": [
  {
   "cell_type": "code",
   "execution_count": null,
   "metadata": {},
   "outputs": [],
   "source": [
    "练习 1：仿照求$ \\sum_{i=1}^mi + \\sum_{i=1}^ni  + \\sum_{i=1}^ki$的完整代码，写程序，可求m!+n!+k!"
   ]
  },
  {
   "cell_type": "code",
   "execution_count": 12,
   "metadata": {},
   "outputs": [
    {
     "name": "stdout",
     "output_type": "stream",
     "text": [
      "请输入第1个整数，以回车结束。5\n",
      "请输入第2个整数，以回车结束。6\n",
      "请输入第3个整数，以回车结束。4\n",
      "864\n"
     ]
    }
   ],
   "source": [
    "def compute_sum(end):\n",
    "    i = 0\n",
    "    total_n =1\n",
    "\n",
    "    while i < end:\n",
    "        i = i + 1\n",
    "        total_n = total_n * i\n",
    "\n",
    "    return total_n\n",
    "\n",
    "n = int(input('请输入第1个整数，以回车结束。'))\n",
    "m = int(input('请输入第2个整数，以回车结束。'))\n",
    "k = int(input('请输入第3个整数，以回车结束。'))\n",
    "\n",
    "print(compute_sum(m) + compute_sum(n) + compute_sum(k))"
   ]
  },
  {
   "cell_type": "code",
   "execution_count": null,
   "metadata": {},
   "outputs": [],
   "source": [
    "练习 2：写函数可返回1 - 1/3 + 1/5 - 1/7...的前n项的和。在主程序中，分别令n=1000及100000，打印4倍该函数的和。"
   ]
  },
  {
   "cell_type": "code",
   "execution_count": 12,
   "metadata": {},
   "outputs": [
    {
     "name": "stdout",
     "output_type": "stream",
     "text": [
      "3.140592653839794\n",
      "3.1415826535897198\n"
     ]
    }
   ],
   "source": [
    "def my_sum(end):\n",
    "\n",
    "    i = 1\n",
    "    total = 1\n",
    "    n = 1\n",
    "    \n",
    "    while n < end:\n",
    "        i = i + 2\n",
    "        n = n + 1\n",
    "        y = (-1)**(n-1)/i\n",
    "        total = total + y\n",
    "        \n",
    "    return total\n",
    "    \n",
    "print(4*my_sum(1000))\n",
    "print(4*my_sum(100000))\n",
    "      "
   ]
  },
  {
   "cell_type": "code",
   "execution_count": null,
   "metadata": {},
   "outputs": [],
   "source": [
    "练习 3：将task3中的练习1及练习4改写为函数，并进行调用。"
   ]
  },
  {
   "cell_type": "code",
   "execution_count": 26,
   "metadata": {},
   "outputs": [
    {
     "name": "stdout",
     "output_type": "stream",
     "text": [
      "请输入你的名字：牟童\n",
      "请输入你的出生月份，回车结束:4\n",
      "请输入你的出生日期，回车结束:29\n",
      "你是非常有个性的金牛座\n"
     ]
    }
   ],
   "source": [
    "def my_date(name,month,day):\n",
    "    \n",
    "    if(month == 3 and 21<=day<=31) or (month == 4 and 1<=day<=19):\n",
    "        so=('你是非常有个性的白羊座')  \n",
    "    elif(month == 4 and 20<=day<=30) or (month == 5 and 1<=day<=20):\n",
    "        so=('你是非常有个性的金牛座')  \n",
    "    elif(month == 5 and 21<=day<=31) or (month == 6 and 1<=day<=21):\n",
    "        so=('你是非常有个性的双子座')      \n",
    "    elif(month == 6 and 22<=day<=30) or (month == 7 and 1<=day<=22):\n",
    "        so=('你是非常有个性的巨蟹座')  \n",
    "    elif(month == 7 and 23<=day<=31) or (month == 8and 1<=day<=22):\n",
    "        so=('你是非常有个性的狮子座')  \n",
    "    elif(month == 8 and 23<=day<=31) or (month == 9 and 1<=day<=22):\n",
    "        so=('你是非常有个性的处女座')  \n",
    "    elif(month == 9 and 23<=day<=30) or (month == 10 and 1<=day<=23):\n",
    "        so=('你是非常有个性的天秤座')  \n",
    "    elif(month == 10 and 24<=day<=31) or (month == 11 and 1<=day<=22):\n",
    "        so=('你是非常有个性的天蝎座')  \n",
    "    elif(month == 11 and 23<=day<=30) or (month == 12 and 1<=day<=21):    \n",
    "        so=('你是非常有个性的射手座')  \n",
    "    elif(month == 12 and 22<=day<=31) or (month == 1 and 1<=day<=19):\n",
    "        so=('你是非常有个性的魔蝎座')  \n",
    "    elif(month == 1 and 20<=day<=31) or (month == 2 and 1<=day<=18):\n",
    "        so=('你是非常有个性的水瓶座')  \n",
    "    elif(month == 2 and 19<=d<=29) or (month == 3 and 1<=day<=20):    \n",
    "        so=('你是非常有个性的双鱼座')\n",
    "    return so\n",
    "    \n",
    "name=input('请输入你的名字：')\n",
    "month=int(input('请输入你的出生月份，回车结束:'))\n",
    "day=int(input('请输入你的出生日期，回车结束:')) \n",
    "\n",
    "\n",
    "print(my_date(name,month,day))\n",
    "     "
   ]
  },
  {
   "cell_type": "code",
   "execution_count": 22,
   "metadata": {},
   "outputs": [
    {
     "name": "stdout",
     "output_type": "stream",
     "text": [
      "请输入一个英语单词，回车结束:library\n",
      "libraries\n"
     ]
    }
   ],
   "source": [
    "def word(n):  \n",
    "\n",
    "    if n.endswith('y'):  \n",
    "        n = n[:-1]+'ies'\n",
    "        return n\n",
    "    elif n[-1] in 'sx' or n[-2:] in ['sh','ch']:  \n",
    "        n = n + 'es'\n",
    "        return n\n",
    "    elif n.endswith('s' or 'z'):\n",
    "        n = n + 'es'\n",
    "    else:\n",
    "        n = n + 's'\n",
    "        return n  \n",
    "    \n",
    "n=input('请输入一个英语单词，回车结束:')\n",
    "\n",
    "print(word(n))"
   ]
  },
  {
   "cell_type": "code",
   "execution_count": null,
   "metadata": {},
   "outputs": [],
   "source": [
    "挑战性练习：写程序，可以求从整数m到整数n累加的和，间隔为k，求和部分需用函数实现，\n",
    "主程序中由用户输入m，n，k调用函数验证正确性。"
   ]
  },
  {
   "cell_type": "code",
   "execution_count": 7,
   "metadata": {},
   "outputs": [
    {
     "name": "stdout",
     "output_type": "stream",
     "text": [
      "请输入一个数:3\n",
      "请输入一个数:9\n",
      "请输入一个间隔数:3\n",
      "18\n"
     ]
    }
   ],
   "source": [
    "def my_sum(n):  \n",
    "    i = m  \n",
    "    total = 0  \n",
    "    \n",
    "    while  m <= i <= n:  \n",
    "        total += i  \n",
    "        i = i + k  \n",
    "         \n",
    "    return total  \n",
    "    \n",
    "m=int(input('请输入一个数:'))\n",
    "n=int(input('请输入一个数:'))\n",
    "k=int(input('请输入一个间隔数:'))\n",
    "\n",
    "if m > n and  k > n - m:\n",
    "    print('输入非法')\n",
    "else:\n",
    "    print(my_sum(n))"
   ]
  }
 ],
 "metadata": {
  "kernelspec": {
   "display_name": "Python 3",
   "language": "python",
   "name": "python3"
  },
  "language_info": {
   "codemirror_mode": {
    "name": "ipython",
    "version": 3
   },
   "file_extension": ".py",
   "mimetype": "text/x-python",
   "name": "python",
   "nbconvert_exporter": "python",
   "pygments_lexer": "ipython3",
   "version": "3.6.3"
  }
 },
 "nbformat": 4,
 "nbformat_minor": 2
}
