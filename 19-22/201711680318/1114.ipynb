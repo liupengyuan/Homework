{
 "cells": [
  {
   "cell_type": "code",
   "execution_count": null,
   "metadata": {},
   "outputs": [],
   "source": [
    "写函数，返回一个list中的最大值，最小值，平均值。（不用内置的求和求函数）"
   ]
  },
  {
   "cell_type": "code",
   "execution_count": 62,
   "metadata": {},
   "outputs": [
    {
     "data": {
      "text/plain": [
       "(899, -10, 106.72999999999999)"
      ]
     },
     "execution_count": 62,
     "metadata": {},
     "output_type": "execute_result"
    }
   ],
   "source": [
    "def ex1114(numbers):\n",
    "       \n",
    "        total = 0\n",
    "        i = 0\n",
    "        max_number = min_number = numbers[0]\n",
    "      \n",
    "       \n",
    "        for i in range(len(numbers)):\n",
    "            total += numbers[i]\n",
    "            i += 1\n",
    "            average =total/len(numbers)\n",
    "        \n",
    "        for n in numbers:\n",
    "            if max_number < n:\n",
    "                max_number = n\n",
    "        for n in numbers:\n",
    "            if min_number > n:\n",
    "                min_number = n\n",
    "        return max_number,min_number,average\n",
    "\n",
    "    \n",
    "    \n",
    "numbers = [1,2,-1,55,100,899,-10,3,12.5,5.8]\n",
    "        \n",
    "        \n",
    "ex1114(numbers)\n",
    "\n",
    "\n",
    "\n",
    "\n",
    "\n",
    "  \n",
    "        \n",
    "\n",
    "\n",
    "\n",
    "\n",
    "\n",
    "\n",
    "  \n",
    "        "
   ]
  }
 ],
 "metadata": {
  "kernelspec": {
   "display_name": "Python 3",
   "language": "python",
   "name": "python3"
  },
  "language_info": {
   "codemirror_mode": {
    "name": "ipython",
    "version": 3
   },
   "file_extension": ".py",
   "mimetype": "text/x-python",
   "name": "python",
   "nbconvert_exporter": "python",
   "pygments_lexer": "ipython3",
   "version": "3.6.3"
  }
 },
 "nbformat": 4,
 "nbformat_minor": 2
}
