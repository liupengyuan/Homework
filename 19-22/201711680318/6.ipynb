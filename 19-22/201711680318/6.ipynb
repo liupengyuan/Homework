{
 "cells": [
  {
   "cell_type": "code",
   "execution_count": null,
   "metadata": {},
   "outputs": [],
   "source": [
    "写函数，返回某个元素/对象在一个list中的位置，如果不在，则返回-1."
   ]
  },
  {
   "cell_type": "code",
   "execution_count": 11,
   "metadata": {},
   "outputs": [
    {
     "name": "stdout",
     "output_type": "stream",
     "text": [
      "请输入元素个数；3\n",
      "请输入元素:a\n",
      "请输入元素:b\n",
      "请输入元素:c\n",
      "请输入你想输入的元素:a\n",
      "0\n"
     ]
    }
   ],
   "source": [
    "def word():\n",
    "    numbers=[]\n",
    "    n=int(input('请输入元素个数；'))\n",
    "\n",
    "    \n",
    "    for i in range(n):\n",
    "            number = input('请输入元素:')\n",
    "            numbers.append(number)\n",
    "        \n",
    "           \n",
    "    number_m=input('请输入你想输入的元素:')\n",
    "    \n",
    "    if number_m in numbers:\n",
    "        i=numbers.index(number_m)\n",
    "        print(i)\n",
    "    else:\n",
    "        print(-1)\n",
    "    \n",
    "word()    "
   ]
  },
  {
   "cell_type": "code",
   "execution_count": null,
   "metadata": {},
   "outputs": [],
   "source": [
    "写函数，可将两个相同长度的list，间隔插入，生成新的list。例如：给两个list，a=[1,2,3,4], b=[5,6,7,8]。则可以生成：[1,5,2,6,3,7,4,8]。"
   ]
  },
  {
   "cell_type": "code",
   "execution_count": 4,
   "metadata": {},
   "outputs": [
    {
     "name": "stdout",
     "output_type": "stream",
     "text": [
      "[23, 34, 24, 35, 25, 36, 26, 37]\n"
     ]
    }
   ],
   "source": [
    "def Run():\n",
    "    \n",
    "    a=[23,24,25,26]\n",
    "    b=[34,35,36,37]\n",
    "    c=[]\n",
    "   \n",
    "  \n",
    "    for i in range(len(a)):\n",
    "        w1=a[i]\n",
    "        w2=b[i]\n",
    "        c.append(w1)\n",
    "        c.append(w2)\n",
    "       \n",
    "    return c\n",
    "           \n",
    "Run()\n",
    "print(Run())"
   ]
  },
  {
   "cell_type": "code",
   "execution_count": null,
   "metadata": {},
   "outputs": [],
   "source": [
    "写函数，可求两个向量的夹角余弦值，向量可放在list中。主程序调用该函数。"
   ]
  },
  {
   "cell_type": "code",
   "execution_count": 6,
   "metadata": {},
   "outputs": [
    {
     "name": "stdout",
     "output_type": "stream",
     "text": [
      "请输入元素个数：3\n",
      "请输入第一个list的元素:1\n",
      "请输入第一个list的元素:2\n",
      "请输入第一个list的元素:3\n",
      "请输入第二个list的元素：4\n",
      "请输入第二个list的元素：5\n",
      "请输入第二个list的元素：6\n",
      "0.9746318461970762\n"
     ]
    }
   ],
   "source": [
    "def run():\n",
    "    x=[]\n",
    "    y=[]\n",
    "    n=int(input('请输入元素个数：'))\n",
    "    \n",
    "    \n",
    "   \n",
    "    for i in range(n):\n",
    "            A=int(input('请输入第一个list的元素:'))\n",
    "            x.append(A)\n",
    "    for j in range(n):\n",
    "            B=int(input('请输入第二个list的元素：'))\n",
    "            y.append(B)\n",
    "    a=0\n",
    "    b=0\n",
    "    c=0\n",
    "    for i in range(n):\n",
    "        a+=x[i]*y[i]   \n",
    "        b+=x[i]**2    \n",
    "        c+=y[i]**2     \n",
    "    \n",
    "    print(str(a/((b*c)**0.5))) \n",
    "run()"
   ]
  },
  {
   "cell_type": "code",
   "execution_count": null,
   "metadata": {},
   "outputs": [],
   "source": [
    "挑战性习题：python语言老师为了激励学生学python，自费买了100个完全相同的Macbook Pro，\n",
    "分给三个班级，每个班级至少分5个，用穷举法计算共有多少种分法？"
   ]
  },
  {
   "cell_type": "code",
   "execution_count": 27,
   "metadata": {},
   "outputs": [
    {
     "name": "stdout",
     "output_type": "stream",
     "text": [
      "3741\n"
     ]
    }
   ],
   "source": [
    "i=0\n",
    "for a in range(5,91):\n",
    "    for b in range(5,91):\n",
    "        for c in range(5,91):\n",
    "            \n",
    "            if a+b+c==100:\n",
    "                i=i+1\n",
    "                \n",
    "print(i)"
   ]
  },
  {
   "cell_type": "code",
   "execution_count": null,
   "metadata": {},
   "outputs": [],
   "source": []
  }
 ],
 "metadata": {
  "kernelspec": {
   "display_name": "Python 3",
   "language": "python",
   "name": "python3"
  },
  "language_info": {
   "codemirror_mode": {
    "name": "ipython",
    "version": 3
   },
   "file_extension": ".py",
   "mimetype": "text/x-python",
   "name": "python",
   "nbconvert_exporter": "python",
   "pygments_lexer": "ipython3",
   "version": "3.6.3"
  }
 },
 "nbformat": 4,
 "nbformat_minor": 2
}
