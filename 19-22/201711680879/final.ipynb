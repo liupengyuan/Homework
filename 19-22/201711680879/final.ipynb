{
 "cells": [
  {
   "cell_type": "code",
   "execution_count": 1,
   "metadata": {},
   "outputs": [
    {
     "name": "stdout",
     "output_type": "stream",
     "text": [
      "请输入符号*\n",
      "请输入行数5\n",
      "    *******\n",
      "\n",
      "   *********\n",
      "\n",
      "  ***********\n",
      "\n",
      " *************\n",
      "\n",
      "***************\n",
      "\n"
     ]
    }
   ],
   "source": [
    "#1\n",
    "def tixing():\n",
    "    a=input('请输入符号')\n",
    "    n=int(input('请输入行数'))\n",
    "    for i in range(1,n+1):\n",
    "        print(' '*(n-i)+a*i+n*a+a*i)\n",
    "        print()\n",
    "tixing()"
   ]
  },
  {
   "cell_type": "code",
   "execution_count": 2,
   "metadata": {},
   "outputs": [
    {
     "data": {
      "text/plain": [
       "125"
      ]
     },
     "execution_count": 2,
     "metadata": {},
     "output_type": "execute_result"
    }
   ],
   "source": [
    "#2\n",
    "def Ackermann(m,n):\n",
    "    if m==0:\n",
    "        return n+1\n",
    "    elif m>0 and n==0:\n",
    "        return Ackermann(m-1,1)\n",
    "    elif m>0 and n>0:\n",
    "        return Ackermann(m-1,Ackermann(m,n-1))\n",
    "    \n",
    "Ackermann(3,4)"
   ]
  },
  {
   "cell_type": "code",
   "execution_count": 3,
   "metadata": {},
   "outputs": [
    {
     "name": "stdout",
     "output_type": "stream",
     "text": [
      "8-5=\n",
      "24-12=\n",
      "13+11=\n",
      "21-6=\n",
      "25+7=\n",
      "23+13=\n",
      "12*5=\n",
      "13*10=\n",
      "25*6=\n",
      "12*10=\n",
      "9*3=\n",
      "19-16=\n",
      "13+3=\n",
      "15*5=\n",
      "21-3=\n",
      "请输入15道题答案，用英文逗号分隔。3,12,24,1,32,46,60,130,1,120,27,3,16,1,1\n",
      "最终得分为 0\n"
     ]
    }
   ],
   "source": [
    "#3\n",
    "#a\n",
    "import random\n",
    "for i in range(15):\n",
    "    line=['+','-','*','/']\n",
    "    x=random.randint(3,25)\n",
    "    y=random.randint(3,25)\n",
    "    if x<y:\n",
    "        x,y=y,x\n",
    "    s=random.choice(line)\n",
    "    question=str(x)+s+str(y)+'='\n",
    "    if s=='/':\n",
    "        if x%y==0:\n",
    "            print(question)\n",
    "        else:\n",
    "            line2=['+','-','*']\n",
    "            x=random.randint(3,25)\n",
    "            y=random.randint(3,25)\n",
    "            if x<y:\n",
    "                x,y=y,x\n",
    "            s=random.choice(line2)\n",
    "            question=str(x)+s+str(y)+'='\n",
    "            print(question)\n",
    "    else:\n",
    "        print(question)\n",
    "\n",
    "#b\n",
    "answer=[input('请输入15道题答案，用英文逗号分隔。')]\n",
    "for i in range(15):\n",
    "    score=0\n",
    "    if s=='+':\n",
    "        if x+y==answer[0][i]:\n",
    "            score+=5\n",
    "    elif s=='-':\n",
    "        if x-y==answer[0][i]:\n",
    "            score+=5\n",
    "    elif s=='*':\n",
    "        if x*y==answer[0][i]:\n",
    "            score+=10\n",
    "    else:\n",
    "        if x/y==answer[0][i]:\n",
    "            score+=10\n",
    "            \n",
    "print('最终得分为',score)"
   ]
  },
  {
   "cell_type": "code",
   "execution_count": null,
   "metadata": {},
   "outputs": [],
   "source": [
    "#c\n",
    "n=int(input('请输入题目个数'))\n",
    "score=0\n",
    "for i in range(n):\n",
    "    x=int(input('请输入第一个数字'))\n",
    "    s=input('请输入符号')\n",
    "    y=int(input('请输入第二个数字，要求比第一个数字小'))\n",
    "    print('问题为：',str(x)+s+str(y)+'=')\n",
    "    if s=='+':\n",
    "        answer=x+y\n",
    "        score+=5\n",
    "    if s=='-':\n",
    "        answer=x-y\n",
    "        score+=5\n",
    "    if s=='*':\n",
    "        answer=x*y\n",
    "        score+=10\n",
    "    if s=='/':\n",
    "        answer=x/y\n",
    "        score+=10\n",
    "    print(answer)\n",
    "print(score)"
   ]
  },
  {
   "cell_type": "code",
   "execution_count": null,
   "metadata": {
    "collapsed": true
   },
   "outputs": [],
   "source": [
    "#4\n",
    "#a\n",
    "with open(filename,encoding='utf-8') as f:\n",
    "    text=f.read()\n",
    "    idioms = text.split('\\n')"
   ]
  },
  {
   "cell_type": "code",
   "execution_count": null,
   "metadata": {
    "collapsed": true
   },
   "outputs": [],
   "source": [
    "#b\n",
    "def count_words_freq_dict(filename):\n",
    "    words_freq_dict = {}\n",
    "    with open(filename,encoding='utf-8') as f:\n",
    "        text=f.read()\n",
    "        idioms = text.split('\\n')\n",
    "        for line in f:\n",
    "            for word in idioms:\n",
    "                if word in words_freq_dict: \n",
    "                    words_freq_dict[word] += 1\n",
    "                else:                       \n",
    "                    words_freq_dict[word] = 1\n",
    "                    \n",
    "    return words_freq_dict\n",
    "\n",
    "#测试用\n",
    "\n",
    "filename = r'c:\\temp\\语料.txt'\n",
    "table = count_words_freq_dict(filename)\n",
    "\n",
    "for i, item in enumerate(table):\n",
    "    print(item, table[item])"
   ]
  },
  {
   "cell_type": "code",
   "execution_count": null,
   "metadata": {
    "collapsed": true
   },
   "outputs": [],
   "source": [
    "#c\n",
    "def count_words_freq_dict(filename):\n",
    "    words_freq_dict = {}\n",
    "    \n",
    "    with open(filename) as f:\n",
    "        for line in f:\n",
    "            words = [for word in line.split()]\n",
    "            for word in words:\n",
    "                if word in words_freq_dict: \n",
    "                    words_freq_dict[word] += 1\n",
    "                else:\n",
    "                    words_freq_dict[word] = 1\n",
    "                    \n",
    "    return words_freq_dict\n",
    "\n",
    "#测试用\n",
    "\n",
    "filename = r'c:\\temp\\test.txt'\n",
    "table = count_words_freq_dict(filename)\n",
    "\n",
    "for i, item in enumerate(table):\n",
    "    print('/', table[item])\n",
    "    if i==20:\n",
    "        break"
   ]
  }
 ],
 "metadata": {
  "kernelspec": {
   "display_name": "Python 3",
   "language": "python",
   "name": "python3"
  },
  "language_info": {
   "codemirror_mode": {
    "name": "ipython",
    "version": 3
   },
   "file_extension": ".py",
   "mimetype": "text/x-python",
   "name": "python",
   "nbconvert_exporter": "python",
   "pygments_lexer": "ipython3",
   "version": "3.6.2"
  }
 },
 "nbformat": 4,
 "nbformat_minor": 2
}
