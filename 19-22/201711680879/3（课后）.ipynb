{
 "cells": [
  {
   "cell_type": "code",
   "execution_count": 18,
   "metadata": {},
   "outputs": [],
   "source": [
    "#1写程序，可由键盘读入用户姓名例如Mr. right，让用户输入出生的月份与日期，判断用户星座，假设用户是金牛座，则输出，Mr. right，你是非常有性格的金牛座！。"
   ]
  },
  {
   "cell_type": "code",
   "execution_count": 2,
   "metadata": {},
   "outputs": [
    {
     "name": "stdout",
     "output_type": "stream",
     "text": [
      "请输入你的名字，以回车结束。刘婉伊\n",
      "你好 刘婉伊\n",
      "请以数字形式输入你的出生日期，以回车结束。207\n",
      "刘婉伊 你是非常有性格的水瓶座！\n"
     ]
    }
   ],
   "source": [
    "name=input('请输入你的名字，以回车结束。')\n",
    "print('你好',name)\n",
    "\n",
    "date=int(input('请以数字形式输入你的出生日期，以回车结束。'))\n",
    "\n",
    "if 321<=date<=419:\n",
    "    print(name,'你是非常有性格的白羊座！')\n",
    "if 420<=date<=520:\n",
    "    print(name,'你是非常有性格的金牛座！')\n",
    "if 521<=date<=621:\n",
    "    print(name,'你是非常有性格的双子座！')\n",
    "if 622<=date<=722:\n",
    "    print(name,'你是非常有性格的巨蟹座！')\n",
    "if 723<=date<=822:\n",
    "    print(name,'你是非常有性格的狮子座！')\n",
    "if 823<=date<=922:\n",
    "    print(name,'你是非常有性格的处女座！')\n",
    "if 923<=date<=1023:\n",
    "    print(name,'你是非常有性格的天秤座！')\n",
    "if 1024<=date<=1122:\n",
    "    print(name,'你是非常有性格的天蝎座！')\n",
    "if 1123<=date<=1221:\n",
    "    print(name,'你是非常有性格的射手座！')\n",
    "if 1222<=date<=1231 or 101<=date<=119:\n",
    "    print(name,'你是非常有性格的摩羯座！')\n",
    "if 120<=date<=218:\n",
    "    print(name,'你是非常有性格的水瓶座！')\n",
    "if 219<=date<=320:\n",
    "    print(name,'你是非常有性格的双鱼座！')"
   ]
  },
  {
   "cell_type": "code",
   "execution_count": null,
   "metadata": {
    "collapsed": true
   },
   "outputs": [],
   "source": [
    "#2写程序，可由键盘读入两个整数m与n(n不等于0)，询问用户意图，如果要求和则计算从m到n的和输出，如果要乘积则计算从m到n的积并输出，如果要求余数则计算m除以n的余数的值并输出，否则则计算m整除n的值并输出。"
   ]
  },
  {
   "cell_type": "code",
   "execution_count": 3,
   "metadata": {},
   "outputs": [
    {
     "name": "stdout",
     "output_type": "stream",
     "text": [
      "请输入一个整数，以回车结束。10\n",
      "请输入一个不为0的整数，以回车结束。3\n",
      "你想怎么处理这两个数？如求和/乘积/求余等。其他\n",
      "3\n"
     ]
    }
   ],
   "source": [
    "m=int(input('请输入一个整数，以回车结束。'))\n",
    "n=int(input('请输入一个不为0的整数，以回车结束。'))\n",
    "\n",
    "purpose=input('你想怎么处理这两个数？如求和/乘积/求余等。')\n",
    "\n",
    "if purpose=='求和':\n",
    "    print(m+n)\n",
    "elif purpose=='乘积':\n",
    "    print(m*n)\n",
    "elif purpose=='求余':\n",
    "    print(m%n)\n",
    "else:\n",
    "    print(m//n)"
   ]
  },
  {
   "cell_type": "code",
   "execution_count": null,
   "metadata": {
    "collapsed": true
   },
   "outputs": [],
   "source": [
    "#3 英文单词单数转复数，要求输入一个英文动词（单数形式），能够得到其复数形式，或给出单数转复数形式的建议"
   ]
  },
  {
   "cell_type": "code",
   "execution_count": 2,
   "metadata": {},
   "outputs": [
    {
     "name": "stdout",
     "output_type": "stream",
     "text": [
      "请输入一个英文动词。bus\n",
      "词尾加es\n"
     ]
    }
   ],
   "source": [
    "verb=input('请输入一个英文动词。')\n",
    "if verb.endswith('ch') or verb.endswith('sh') or verb.endswith('s') or verb.endswith('x') or verb=='potato' or verb=='tomato':\n",
    "    print('词尾加es')\n",
    "elif verb.endswith('y'):\n",
    "    print('把y改为i，加es')\n",
    "elif verb.endswith('f') or verb.endswith('fe'):\n",
    "    print('把f/fe改为v，加es')\n",
    "else:\n",
    "    print('直接加s')"
   ]
  }
 ],
 "metadata": {
  "kernelspec": {
   "display_name": "Python 3",
   "language": "python",
   "name": "python3"
  },
  "language_info": {
   "codemirror_mode": {
    "name": "ipython",
    "version": 3
   },
   "file_extension": ".py",
   "mimetype": "text/x-python",
   "name": "python",
   "nbconvert_exporter": "python",
   "pygments_lexer": "ipython3",
   "version": "3.6.2"
  }
 },
 "nbformat": 4,
 "nbformat_minor": 2
}
