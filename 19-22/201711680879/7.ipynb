{
 "cells": [
  {
   "cell_type": "code",
   "execution_count": null,
   "metadata": {
    "collapsed": true
   },
   "outputs": [],
   "source": [
    "#1 自己定义一个reverse(s)函数，功能返回字符串s的倒序字符串。"
   ]
  },
  {
   "cell_type": "code",
   "execution_count": 35,
   "metadata": {},
   "outputs": [
    {
     "name": "stdout",
     "output_type": "stream",
     "text": [
      "gfedcba"
     ]
    }
   ],
   "source": [
    "def reverse(s):\n",
    "    line='abcdefg'\n",
    "    n=len(line)\n",
    "    i=n\n",
    "    for i in range(n-1,-1,-1):\n",
    "        print(line[i],end='')\n",
    "        i-=1\n",
    "reverse(line)"
   ]
  },
  {
   "cell_type": "code",
   "execution_count": null,
   "metadata": {
    "collapsed": true
   },
   "outputs": [],
   "source": [
    "#2 写函数，根据给定符号和行数，打印相应直角三角形，等腰三角形及其他形式的三角形。"
   ]
  },
  {
   "cell_type": "code",
   "execution_count": 49,
   "metadata": {},
   "outputs": [
    {
     "name": "stdout",
     "output_type": "stream",
     "text": [
      "请输入符号#\n",
      "请输入行数5\n",
      "直角三角形为\n",
      "# # # # # \n",
      "  # # # # \n",
      "    # # # \n",
      "      # # \n",
      "        # \n",
      "          \n",
      "        # \n",
      "      # # \n",
      "    # # # \n",
      "  # # # # \n",
      "# # # # # \n",
      "\n",
      "等腰三角形为\n",
      "     \n",
      "    # \n",
      "   # # \n",
      "  # # # \n",
      " # # # # \n",
      "# # # # # \n",
      "\n",
      "# # # # # \n",
      " # # # # \n",
      "  # # # \n",
      "   # # \n",
      "    # \n"
     ]
    }
   ],
   "source": [
    "def triangle():\n",
    "    a=input('请输入符号')\n",
    "    n=int(input('请输入行数'))\n",
    "    print('直角三角形为')\n",
    "    for i in range(n):\n",
    "        for j in range(0,i):\n",
    "            print(' ',end=' ')\n",
    "        for j in range(i,n):\n",
    "            print(a, end=' ')\n",
    "        print()\n",
    "\n",
    "    for i in range(n+1):\n",
    "        for j in range(0, n - i):\n",
    "            print(' ', end=' ')\n",
    "        for k in range(n - i, n):\n",
    "            print(a, end=' ')\n",
    "        print()\n",
    "        \n",
    "    print()\n",
    "        \n",
    "    print('等腰三角形为')\n",
    "    for i in range(n+1):\n",
    "        for j in range(0, n - i):\n",
    "            print(end=' ')\n",
    "        for k in range(n - i, n):\n",
    "            print(a, end=' ')\n",
    "        print()\n",
    "        \n",
    "    print()\n",
    "    for i in range(n):\n",
    "        for j in range(0,i):\n",
    "            print(end=' ')\n",
    "        for j in range(i,n):\n",
    "            print(a, end=' ')\n",
    "        print()\n",
    "\n",
    "triangle()"
   ]
  },
  {
   "cell_type": "code",
   "execution_count": null,
   "metadata": {
    "collapsed": true
   },
   "outputs": [],
   "source": [
    "#5 写函数，根据给定符号，打印各种菱形。"
   ]
  },
  {
   "cell_type": "code",
   "execution_count": 51,
   "metadata": {},
   "outputs": [
    {
     "name": "stdout",
     "output_type": "stream",
     "text": [
      "请输入符号*\n",
      "请输入中间行符号个数6\n",
      "      \n",
      "     * \n",
      "    * * \n",
      "   * * * \n",
      "  * * * * \n",
      " * * * * * \n",
      "* * * * * * \n",
      " * * * * * \n",
      "  * * * * \n",
      "   * * * \n",
      "    * * \n",
      "     * \n"
     ]
    }
   ],
   "source": [
    "def diamond():\n",
    "    a=input('请输入符号')\n",
    "    n=int(input('请输入中间行符号个数'))\n",
    "    for i in range(n):\n",
    "        for j in range(0, n - i):\n",
    "            print(end=' ')\n",
    "        for k in range(n - i, n):\n",
    "            print(a, end=' ')\n",
    "        print()\n",
    "    for i in range(n):\n",
    "        for j in range(0,i):\n",
    "            print(end=' ')\n",
    "        for j in range(i,n):\n",
    "            print(a, end=' ')\n",
    "        print()\n",
    "diamond()"
   ]
  }
 ],
 "metadata": {
  "kernelspec": {
   "display_name": "Python 3",
   "language": "python",
   "name": "python3"
  },
  "language_info": {
   "codemirror_mode": {
    "name": "ipython",
    "version": 3
   },
   "file_extension": ".py",
   "mimetype": "text/x-python",
   "name": "python",
   "nbconvert_exporter": "python",
   "pygments_lexer": "ipython3",
   "version": "3.6.2"
  }
 },
 "nbformat": 4,
 "nbformat_minor": 2
}
