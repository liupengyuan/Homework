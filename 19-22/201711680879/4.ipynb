{
 "cells": [
  {
   "cell_type": "code",
   "execution_count": 2,
   "metadata": {
    "collapsed": true
   },
   "outputs": [],
   "source": [
    "#1 仿照求和的完整代码，写程序，可求m!+n!+k!"
   ]
  },
  {
   "cell_type": "code",
   "execution_count": 3,
   "metadata": {},
   "outputs": [
    {
     "name": "stdout",
     "output_type": "stream",
     "text": [
      "请输入一个整数，以回车结束。2\n",
      "请输入一个整数，以回车结束。3\n",
      "请输入一个整数，以回车结束。4\n",
      "32\n"
     ]
    }
   ],
   "source": [
    "def my_mul(n):\n",
    "    i=1\n",
    "    total=1\n",
    "    \n",
    "    while i<n:\n",
    "        i=i+1\n",
    "        total=total*i\n",
    "        \n",
    "    return total\n",
    "\n",
    "m=int(input('请输入一个整数，以回车结束。'))\n",
    "n=int(input('请输入一个整数，以回车结束。'))\n",
    "k=int(input('请输入一个整数，以回车结束。'))\n",
    "\n",
    "print(my_mul(m)+my_mul(n)+my_mul(k))"
   ]
  },
  {
   "cell_type": "code",
   "execution_count": null,
   "metadata": {
    "collapsed": true
   },
   "outputs": [],
   "source": [
    "#2 写函数可返回1 - 1/3 + 1/5 - 1/7...的前n项的和。在主程序中，分别令n=1000及100000，打印4倍该函数的和。"
   ]
  },
  {
   "cell_type": "code",
   "execution_count": 1,
   "metadata": {},
   "outputs": [
    {
     "name": "stdout",
     "output_type": "stream",
     "text": [
      "当n=1000时 3.140592653839794\n",
      "当n=10000时 3.1414926535900345\n"
     ]
    }
   ],
   "source": [
    "def lwy(n):\n",
    "    i=0\n",
    "    total=0\n",
    "    while i<n:\n",
    "        i=i+1\n",
    "        total=total+((-1)**(i+1))*(1/(2*i-1))\n",
    "    return total\n",
    "\n",
    "print('当n=1000时',4*lwy(1000))\n",
    "print('当n=10000时',4*lwy(10000))"
   ]
  },
  {
   "cell_type": "code",
   "execution_count": null,
   "metadata": {
    "collapsed": true
   },
   "outputs": [],
   "source": [
    "#3 将task3中的练习1及练习4改写为函数，并进行调用。\n",
    "   #写程序，可由键盘读入用户姓名例如Mr. right，让用户输入出生的月份与日期，判断用户星座，假设用户是金牛座，则输出，Mr. right，你是非常有性格的金牛座！。"
   ]
  },
  {
   "cell_type": "code",
   "execution_count": 2,
   "metadata": {},
   "outputs": [
    {
     "name": "stdout",
     "output_type": "stream",
     "text": [
      "请输入你的名字，以回车结束。lwy\n",
      "请以数字形式输入你的出生日期，以回车结束。207\n",
      "lwy 你是非常有性格的水瓶座！\n"
     ]
    }
   ],
   "source": [
    "def pdxz(date):\n",
    "    if 321<=date<=419:\n",
    "        print(name,'你是非常有性格的白羊座！')\n",
    "    if 420<=date<=520:\n",
    "        print(name,'你是非常有性格的金牛座！')\n",
    "    if 521<=date<=621:\n",
    "        print(name,'你是非常有性格的双子座！')\n",
    "    if 622<=date<=722:\n",
    "        print(name,'你是非常有性格的巨蟹座！')\n",
    "    if 723<=date<=822:\n",
    "        print(name,'你是非常有性格的狮子座！')\n",
    "    if 823<=date<=922:\n",
    "        print(name,'你是非常有性格的处女座！')\n",
    "    if 923<=date<=1023:\n",
    "        print(name,'你是非常有性格的天秤座！')\n",
    "    if 1024<=date<=1122:\n",
    "        print(name,'你是非常有性格的天蝎座！')\n",
    "    if 1123<=date<=1221:\n",
    "        print(name,'你是非常有性格的射手座！')\n",
    "    if 1222<=date<=1231 or 101<=date<=119:\n",
    "        print(name,'你是非常有性格的摩羯座！')\n",
    "    if 120<=date<=218:\n",
    "        print(name,'你是非常有性格的水瓶座！')\n",
    "    if 219<=date<=320:\n",
    "        print(name,'你是非常有性格的双鱼座！')\n",
    "        \n",
    "name=input('请输入你的名字，以回车结束。')\n",
    "date=int(input('请以数字形式输入你的出生日期，以回车结束。'))\n",
    "\n",
    "pdxz(date)"
   ]
  },
  {
   "cell_type": "code",
   "execution_count": null,
   "metadata": {
    "collapsed": true
   },
   "outputs": [],
   "source": [
    "#3' 英文单词单数转复数，要求输入一个英文动词（单数形式），能够得到其复数形式，或给出单数转复数形式的建议"
   ]
  },
  {
   "cell_type": "code",
   "execution_count": 4,
   "metadata": {},
   "outputs": [
    {
     "name": "stdout",
     "output_type": "stream",
     "text": [
      "请输入一个英文动词，以回车结束。bus\n",
      "词尾加es\n"
     ]
    }
   ],
   "source": [
    "def bfs(verb):\n",
    "    if verb.endswith('ch') or verb.endswith('sh') or verb.endswith('s') or verb.endswith('x') or verb=='potato' or verb=='tomato':\n",
    "        print('词尾加es')\n",
    "    elif verb.endswith('y'):\n",
    "        print('把y改为i，加es')\n",
    "    elif verb.endswith('f') or verb.endswith('fe'):\n",
    "        print('把f/fe改为v，加es')\n",
    "    else:\n",
    "        print('直接加s')\n",
    "        \n",
    "verb=input('请输入一个英文动词，以回车结束。')\n",
    "bfs(verb)"
   ]
  },
  {
   "cell_type": "code",
   "execution_count": null,
   "metadata": {
    "collapsed": true
   },
   "outputs": [],
   "source": [
    "#挑战性练习：写程序，可以求从整数m到n累加的和，间隔为k，求和部分需用函数实现，主程序中用户输入m,n,k调用函数验证正确性"
   ]
  },
  {
   "cell_type": "code",
   "execution_count": 8,
   "metadata": {},
   "outputs": [
    {
     "name": "stdout",
     "output_type": "stream",
     "text": [
      "请输入一个整数m，以回车结束。2\n",
      "请输入一个整数n，以回车结束。7\n",
      "请输入一个不为0的整数，以回车结束。3\n",
      "7\n"
     ]
    }
   ],
   "source": [
    "def leihe(m,n,k):\n",
    "    if m>=n:\n",
    "        summ=0\n",
    "        while n<=m:\n",
    "            summ=summ+n\n",
    "            if k!=0:\n",
    "                n=n+k\n",
    "            else:\n",
    "                print('k不能为0')\n",
    "                n=m+1\n",
    "                summ=' '\n",
    "        print(summ)\n",
    "    else:\n",
    "        summ=0\n",
    "        while m<=n:\n",
    "            summ=summ+m\n",
    "            if k!=0:\n",
    "                m=m+k\n",
    "            else:\n",
    "                print('k不能为0')\n",
    "                m=n+1\n",
    "                summ=' '\n",
    "        print(summ)\n",
    "        \n",
    "m=int(input('请输入一个整数m，以回车结束。'))\n",
    "n=int(input('请输入一个整数n，以回车结束。'))\n",
    "k=int(input('请输入一个不为0的整数，以回车结束。'))\n",
    "leihe(m,n,k)       "
   ]
  }
 ],
 "metadata": {
  "kernelspec": {
   "display_name": "Python 3",
   "language": "python",
   "name": "python3"
  },
  "language_info": {
   "codemirror_mode": {
    "name": "ipython",
    "version": 3
   },
   "file_extension": ".py",
   "mimetype": "text/x-python",
   "name": "python",
   "nbconvert_exporter": "python",
   "pygments_lexer": "ipython3",
   "version": "3.6.2"
  }
 },
 "nbformat": 4,
 "nbformat_minor": 2
}
