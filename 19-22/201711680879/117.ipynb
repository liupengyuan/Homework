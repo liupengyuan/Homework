{
 "cells": [
  {
   "cell_type": "code",
   "execution_count": 3,
   "metadata": {
    "collapsed": false
   },
   "outputs": [
    {
     "name": "stdout",
     "output_type": "stream",
     "text": [
      "5\n",
      "10\n",
      "500\n",
      "32.55764119219941\n"
     ]
    }
   ],
   "source": [
    "def test():\n",
    "    import random,math\n",
    "    m=int(input('请输入一个整数m，回车结束。'))\n",
    "    n=int(input('请输入一个整数n，回车结束。'))\n",
    "    k=int(input('请输入一个大于n的整数k，回车结束。'))\n",
    "    i=0\n",
    "    total=0\n",
    "    number = random.randint(n, k)\n",
    "    while i<m:\n",
    "        i=i+1\n",
    "        total=total+number\n",
    "    print(math.sqrt(total))\n",
    "    \n",
    "test()"
   ]
  }
 ],
 "metadata": {
  "kernelspec": {
   "display_name": "Python 3",
   "language": "python",
   "name": "python3"
  },
  "language_info": {
   "codemirror_mode": {
    "name": "ipython",
    "version": 3
   },
   "file_extension": ".py",
   "mimetype": "text/x-python",
   "name": "python",
   "nbconvert_exporter": "python",
   "pygments_lexer": "ipython3",
   "version": "3.6.0"
  }
 },
 "nbformat": 4,
 "nbformat_minor": 2
}
