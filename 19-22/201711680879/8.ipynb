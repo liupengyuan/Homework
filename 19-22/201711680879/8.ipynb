{
 "cells": [
  {
   "cell_type": "code",
   "execution_count": 1,
   "metadata": {},
   "outputs": [
    {
     "name": "stdout",
     "output_type": "stream",
     "text": [
      "一见钟情\n",
      "请进行接龙，#结束情深潭水\n",
      "水落石出\n",
      "请进行接龙，#结束出口伤人\n",
      "人来人往\n",
      "请进行接龙，#结束#\n",
      "游戏结束。\n",
      "你的成绩为 20\n",
      "计算机的成绩为 30\n"
     ]
    }
   ],
   "source": [
    "import random\n",
    "fh=open(r'c:\\temp\\成语大全.txt')\n",
    "text=fh.read()\n",
    "text=text.replace('、','')\n",
    "idioms=text.split('\\n')\n",
    "def cyjl():\n",
    "    score1=0\n",
    "    score2=10\n",
    "    i=1\n",
    "    m=random.choice(idioms)\n",
    "    print(m)\n",
    "    while i==1:\n",
    "        n=input('请进行接龙，#结束')\n",
    "        \n",
    "        if n[0]==m[len(m)-1] and i==1:\n",
    "            i==1\n",
    "            score1+=10\n",
    "            for m in idioms:\n",
    "                m=random.choice(idioms)\n",
    "                if m[0]==n[len(n)-1]:\n",
    "                    score2+=10\n",
    "                    print(m)\n",
    "                    break\n",
    "                    \n",
    "        elif n=='#':\n",
    "            i==0\n",
    "            print('游戏结束。')\n",
    "            print('你的成绩为',score1)\n",
    "            print('计算机的成绩为',score2)\n",
    "            break\n",
    "            \n",
    "        else:\n",
    "            i==0\n",
    "            print('游戏结束。')\n",
    "            print('你的成绩为',score1)\n",
    "            print('计算机的成绩为',score2)\n",
    "cyjl()"
   ]
  }
 ],
 "metadata": {
  "kernelspec": {
   "display_name": "Python 3",
   "language": "python",
   "name": "python3"
  },
  "language_info": {
   "codemirror_mode": {
    "name": "ipython",
    "version": 3
   },
   "file_extension": ".py",
   "mimetype": "text/x-python",
   "name": "python",
   "nbconvert_exporter": "python",
   "pygments_lexer": "ipython3",
   "version": "3.6.2"
  }
 },
 "nbformat": 4,
 "nbformat_minor": 2
}
