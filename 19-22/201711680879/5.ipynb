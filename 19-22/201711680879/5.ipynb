{
 "cells": [
  {
   "cell_type": "code",
   "execution_count": null,
   "metadata": {
    "collapsed": true
   },
   "outputs": [],
   "source": [
    "#练习 1：写函数，求n个随机整数均值的平方根，整数范围在m与k之间（n,m,k由用户输入）。"
   ]
  },
  {
   "cell_type": "code",
   "execution_count": 26,
   "metadata": {},
   "outputs": [
    {
     "name": "stdout",
     "output_type": "stream",
     "text": [
      "请输入一个正整数n，回车结束。3\n",
      "请输入一个正整数m，回车结束。2\n",
      "请输入一个大于m的正整数k，回车结束。8\n"
     ]
    },
    {
     "data": {
      "text/plain": [
       "2.23606797749979"
      ]
     },
     "execution_count": 26,
     "metadata": {},
     "output_type": "execute_result"
    }
   ],
   "source": [
    "import random,math\n",
    "def lwy():\n",
    "    n=int(input('请输入一个正整数n，回车结束。'))\n",
    "    m=int(input('请输入一个正整数m，回车结束。'))\n",
    "    k=int(input('请输入一个大于m的正整数k，回车结束。'))\n",
    "    i=0\n",
    "    total=0\n",
    "    while i<n:\n",
    "        i+=1\n",
    "        number = random.randint(m, k)\n",
    "        total+=number\n",
    "    avr=total/n\n",
    "    result=math.sqrt(avr)\n",
    "    return result\n",
    "lwy()"
   ]
  },
  {
   "cell_type": "code",
   "execution_count": null,
   "metadata": {
    "collapsed": true
   },
   "outputs": [],
   "source": [
    "#练习 2：写函数，共n个随机整数，整数范围在m与k之间，（n,m,k由用户输入）。求1：西格玛log(随机整数)，2：西格玛1/log(随机整数)"
   ]
  },
  {
   "cell_type": "code",
   "execution_count": 27,
   "metadata": {},
   "outputs": [
    {
     "name": "stdout",
     "output_type": "stream",
     "text": [
      "请输入一个正整数n，回车结束。2\n",
      "请输入一个正整数m，回车结束。1\n",
      "请输入一个大于m的正整数k，回车结束。6\n"
     ]
    },
    {
     "data": {
      "text/plain": [
       "(2.8903717578961645, 1.4683498531780845)"
      ]
     },
     "execution_count": 27,
     "metadata": {},
     "output_type": "execute_result"
    }
   ],
   "source": [
    "import random,math\n",
    "def mul():\n",
    "    n=int(input('请输入一个正整数n，回车结束。'))\n",
    "    m=int(input('请输入一个正整数m，回车结束。'))\n",
    "    k=int(input('请输入一个大于m的正整数k，回车结束。'))\n",
    "    i=0\n",
    "    total_1=0\n",
    "    total_2=0\n",
    "    while i<n:\n",
    "        number=random.randint(m,k)\n",
    "        res_1=math.log(number)\n",
    "        res_2=1/math.log(number)\n",
    "        i+=1\n",
    "        total_1+=res_1\n",
    "        total_2+=res_2\n",
    "    return total_1,total_2\n",
    "mul()"
   ]
  },
  {
   "cell_type": "code",
   "execution_count": null,
   "metadata": {
    "collapsed": true
   },
   "outputs": [],
   "source": [
    "#练习 3：写函数，求s=a+aa+aaa+aaaa+aa...a的值，其中a是[1,9]之间的随机整数。例如2+22+222+2222+22222(此时共有5个数相加)，几个数相加由键盘输入。"
   ]
  },
  {
   "cell_type": "code",
   "execution_count": 28,
   "metadata": {},
   "outputs": [
    {
     "name": "stdout",
     "output_type": "stream",
     "text": [
      "请输入一个正整数，回车结束。4\n"
     ]
    },
    {
     "data": {
      "text/plain": [
       "8638"
      ]
     },
     "execution_count": 28,
     "metadata": {},
     "output_type": "execute_result"
    }
   ],
   "source": [
    "import random\n",
    "def mul():\n",
    "    n=int(input('请输入一个正整数，回车结束。'))\n",
    "    a=random.randint(1,9)\n",
    "    i=1\n",
    "    num=a\n",
    "    s=a\n",
    "    while i<n:\n",
    "        i+=1\n",
    "        num=num*10+a\n",
    "        s+=num\n",
    "    return s\n",
    "mul()"
   ]
  },
  {
   "cell_type": "code",
   "execution_count": null,
   "metadata": {
    "collapsed": true
   },
   "outputs": [],
   "source": [
    "#挑战性练习：仿照task5，将猜数游戏改成由用户随便选择一个整数，让计算机来猜测的猜数游戏，要求和task5中人猜测的方法类似，但是人机角色对换，由人来判断猜测是大、小还是相等，请写出完整的猜数游戏。"
   ]
  },
  {
   "cell_type": "code",
   "execution_count": 1,
   "metadata": {},
   "outputs": [
    {
     "name": "stdout",
     "output_type": "stream",
     "text": [
      "计算机猜测的结果为: 25\n",
      "请判断计算机猜测结果，猜大请输入1，猜小请输入2，猜对请输入0。2\n",
      "计算机猜测的结果为: 29\n",
      "请判断计算机猜测结果，猜大请输入1，猜小请输入2，猜对请输入0。2\n",
      "计算机猜测的结果为: 41\n",
      "请判断计算机猜测结果，猜大请输入1，猜小请输入2，猜对请输入0。1\n",
      "计算机猜测的结果为: 26\n",
      "请判断计算机猜测结果，猜大请输入1，猜小请输入2，猜对请输入0。2\n",
      "计算机猜测的结果为: 22\n",
      "请判断计算机猜测结果，猜大请输入1，猜小请输入2，猜对请输入0。2\n",
      "计算机猜测的结果为: 38\n",
      "请判断计算机猜测结果，猜大请输入1，猜小请输入2，猜对请输入0。2\n",
      "请用户输入心中所想数字，回车结束。40\n",
      "Lose!\n"
     ]
    }
   ],
   "source": [
    "import random, math\n",
    "\n",
    "def win():\n",
    "    print('Win!')\n",
    "    \n",
    "def lose():\n",
    "    print('Lose!')\n",
    "\n",
    "#用户在心中想一个0到50之间的数\n",
    "def guess_game():\n",
    "    max_times = math.ceil(math.log(50, 5))\n",
    "    guess_times = 0\n",
    "    while guess_times < max_times:\n",
    "        num = random.randint(1, 50)\n",
    "        print('计算机猜测的结果为:',num)\n",
    "        judge=int(input('请判断计算机猜测结果，猜大请输入1，猜小请输入2，猜对请输入0。'))\n",
    "        \n",
    "        if judge==0:\n",
    "            win()\n",
    "        elif judge==1:\n",
    "            guess_times+=1\n",
    "            num=random.randint(1,num)\n",
    "            print('计算机猜测的结果为:',num)\n",
    "            judge=int(input('请判断计算机猜测结果，猜大请输入1，猜小请输入2，猜对请输入0。'))\n",
    "        elif judge==2:\n",
    "            guess_times+=1\n",
    "            num=random.randint(num,50)\n",
    "            print('计算机猜测的结果为:',num)\n",
    "            judge=int(input('请判断计算机猜测结果，猜大请输入1，猜小请输入2，猜对请输入0。'))\n",
    "    else:\n",
    "        sec=int(input('请用户输入心中所想数字，回车结束。'))\n",
    "        lose()  \n",
    "guess_game()"
   ]
  }
 ],
 "metadata": {
  "kernelspec": {
   "display_name": "Python 3",
   "language": "python",
   "name": "python3"
  },
  "language_info": {
   "codemirror_mode": {
    "name": "ipython",
    "version": 3
   },
   "file_extension": ".py",
   "mimetype": "text/x-python",
   "name": "python",
   "nbconvert_exporter": "python",
   "pygments_lexer": "ipython3",
   "version": "3.6.2"
  }
 },
 "nbformat": 4,
 "nbformat_minor": 2
}
