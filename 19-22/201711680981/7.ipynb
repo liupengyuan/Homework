{
 "cells": [
  {
   "cell_type": "code",
   "execution_count": 55,
   "metadata": {},
   "outputs": [
    {
     "name": "stdout",
     "output_type": "stream",
     "text": [
      "123\n",
      "321\n"
     ]
    }
   ],
   "source": [
    "#练习一：自己定义一个reverse(s)函数，功能返回字符串s的倒序字符串。\n",
    "\n",
    "def reverse(s):\n",
    "    s = input()\n",
    "    c = ''\n",
    "    for i in range(len(s)):\n",
    "        c = c + s[len(s)-i-1]\n",
    "    print(c)\n",
    "        \n",
    "reverse(s)"
   ]
  },
  {
   "cell_type": "code",
   "execution_count": 38,
   "metadata": {},
   "outputs": [
    {
     "name": "stdout",
     "output_type": "stream",
     "text": [
      " *\n",
      " * *\n",
      " * * *\n",
      " * * * *\n",
      "\n",
      "    *\n",
      "   * *\n",
      "  * * *\n",
      " * * * *\n",
      "\n",
      " * * * *\n",
      "  * * *\n",
      "   * *\n",
      "    *\n"
     ]
    }
   ],
   "source": [
    "#练习二：写函数，根据给定符号和行数，打印相应直角三角形，等腰三角形及其他形式的三角形。\n",
    "def fun(symbol,line):\n",
    "    for i in range(1,line+1):\n",
    "        print(symbol*i)\n",
    "    print()\n",
    "    \n",
    "    for i in range(1,line+1):\n",
    "        print((line-i)*' ' + symbol*i)\n",
    "    print()\n",
    "        \n",
    "    for i in range(1,line+1):\n",
    "        print((i-1)*' ' + symbol*(line+1-i))\n",
    "\n",
    "fun(' *',4)"
   ]
  },
  {
   "cell_type": "code",
   "execution_count": 36,
   "metadata": {},
   "outputs": [
    {
     "name": "stdout",
     "output_type": "stream",
     "text": [
      "    *\n",
      "   * *\n",
      "  * * *\n",
      " * * * *\n",
      " * * * *\n",
      "  * * *\n",
      "   * *\n",
      "    *\n"
     ]
    }
   ],
   "source": [
    "#练习五：写函数，根据给定符号，打印各种菱形。\n",
    "def fun(symbol,line):\n",
    "    for i in range(1,line+1):\n",
    "        print((line-i)*' ' + symbol*i)\n",
    "    for i in range(1,line+1):\n",
    "        print((i-1)*' ' + symbol*(line+1-i))\n",
    "        \n",
    "fun(' *',4)"
   ]
  },
  {
   "cell_type": "code",
   "execution_count": null,
   "metadata": {},
   "outputs": [],
   "source": []
  }
 ],
 "metadata": {
  "kernelspec": {
   "display_name": "Python 3",
   "language": "python",
   "name": "python3"
  },
  "language_info": {
   "codemirror_mode": {
    "name": "ipython",
    "version": 3
   },
   "file_extension": ".py",
   "mimetype": "text/x-python",
   "name": "python",
   "nbconvert_exporter": "python",
   "pygments_lexer": "ipython3",
   "version": "3.6.0"
  }
 },
 "nbformat": 4,
 "nbformat_minor": 2
}
