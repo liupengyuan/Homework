{
 "cells": [
  {
   "cell_type": "markdown",
   "metadata": {},
   "source": [
    "# 写函数，返回一个list中的最大值，最小值，平均值。（不用内置的求和求函数）"
   ]
  },
  {
   "cell_type": "code",
   "execution_count": 12,
   "metadata": {},
   "outputs": [
    {
     "name": "stdout",
     "output_type": "stream",
     "text": [
      "106.72999999999999 899 -10\n"
     ]
    }
   ],
   "source": [
    "numbers = [1,2,-1,55,100,899,-10,3,12.5,5.8]\n",
    "\n",
    "total = 0\n",
    "number_max = 0\n",
    "number_min = 0\n",
    "\n",
    "for number in numbers:\n",
    "    total += number\n",
    "    \n",
    "for number in numbers:    \n",
    "    if numbers[0]>numbers[1]:\n",
    "        number_max = numbers[0]\n",
    "        number_min = numbers[1]\n",
    "    else:\n",
    "        number_max = numbers[1]\n",
    "        number_min = numbers[0]\n",
    "for i in range(2,10):          \n",
    "    if number_max < numbers[i]:\n",
    "        number_max = numbers[i]\n",
    "    if number_min > numbers[i]:\n",
    "        number_min = numbers[i]\n",
    "print(total/10,number_max,number_min)\n",
    "    "
   ]
  },
  {
   "cell_type": "code",
   "execution_count": null,
   "metadata": {},
   "outputs": [],
   "source": []
  }
 ],
 "metadata": {
  "kernelspec": {
   "display_name": "Python 3",
   "language": "python",
   "name": "python3"
  }
 },
 "nbformat": 4,
 "nbformat_minor": 2
}
