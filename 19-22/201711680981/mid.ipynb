{
 "cells": [
  {
   "cell_type": "code",
   "execution_count": 6,
   "metadata": {},
   "outputs": [
    {
     "name": "stdout",
     "output_type": "stream",
     "text": [
      "4\n"
     ]
    },
    {
     "data": {
      "text/plain": [
       "20"
      ]
     },
     "execution_count": 6,
     "metadata": {},
     "output_type": "execute_result"
    }
   ],
   "source": [
    "# 1\n",
    "def fun(m):\n",
    "    i = 0\n",
    "    l = 0\n",
    "    n = 0\n",
    "    total = 0\n",
    "    while i < m:\n",
    "        i += 1\n",
    "        while l < i:\n",
    "            l += 1\n",
    "            n += l\n",
    "            total += n\n",
    "    return total\n",
    "\n",
    "m = int(input())\n",
    "fun(m)"
   ]
  },
  {
   "cell_type": "code",
   "execution_count": 4,
   "metadata": {},
   "outputs": [
    {
     "name": "stdout",
     "output_type": "stream",
     "text": [
      "456\n",
      "4\n"
     ]
    }
   ],
   "source": [
    "# 3\n",
    "list = input()\n",
    "n = list[0]\n",
    "print(n)"
   ]
  },
  {
   "cell_type": "code",
   "execution_count": 7,
   "metadata": {},
   "outputs": [
    {
     "name": "stdout",
     "output_type": "stream",
     "text": [
      "请输入队员人数9\n",
      "183\n",
      "185\n",
      "183\n",
      "187\n",
      "178\n",
      "175\n",
      "177\n",
      "190\n",
      "172\n",
      "181.11111111111111\n",
      "183\n",
      "185\n",
      "183\n",
      "187\n",
      "190\n"
     ]
    }
   ],
   "source": [
    "# 4\n",
    "list = []\n",
    "n = int(input('请输入队员人数'))\n",
    "for i in range(n):\n",
    "    high = int(input())\n",
    "    list.append(high)\n",
    "    \n",
    "total = 0\n",
    "\n",
    "for j in range(n):\n",
    "    total += list[j]\n",
    "print(total/n)\n",
    "\n",
    "for k in range(n):\n",
    "    if list[k] > total/n:\n",
    "        print(list[k])\n"
   ]
  },
  {
   "cell_type": "code",
   "execution_count": 24,
   "metadata": {},
   "outputs": [
    {
     "name": "stdout",
     "output_type": "stream",
     "text": [
      "1+7\n",
      "请输入结果8\n",
      "4+8\n",
      "请输入结果12\n",
      "1+10\n",
      "请输入结果11\n",
      "4+3\n",
      "请输入结果7\n",
      "2+9\n",
      "请输入结果11\n",
      "100\n"
     ]
    }
   ],
   "source": [
    "# 5\n",
    "import random\n",
    "\n",
    "total = 0\n",
    "for i in range(5):\n",
    "    m = random.randint(1,10)\n",
    "    n = random.randint(1,10)\n",
    "    print('{}+{}'.format(m,n))\n",
    "    l = int(input('请输入结果'))\n",
    "    if l == m+n:\n",
    "        total += 20\n",
    "    else:\n",
    "        total += 0\n",
    "print(total)\n",
    "        "
   ]
  },
  {
   "cell_type": "code",
   "execution_count": 26,
   "metadata": {},
   "outputs": [
    {
     "name": "stdout",
     "output_type": "stream",
     "text": [
      "108 -76\n"
     ]
    }
   ],
   "source": [
    "# 5\n",
    "numbers = [3,-5,9,108,34,-76,88]\n",
    "max_num = 0\n",
    "min_num = 0\n",
    "for i in range(len(numbers)):\n",
    "    if numbers[i] > max_num:\n",
    "        max_num = numbers[i]\n",
    "    if numbers[i] < min_num:\n",
    "        min_num = numbers[i]\n",
    "print(max_num,min_num)"
   ]
  }
 ],
 "metadata": {
  "kernelspec": {
   "display_name": "Python 3",
   "language": "python",
   "name": "python3"
  },
  "language_info": {
   "codemirror_mode": {
    "name": "ipython",
    "version": 3
   },
   "file_extension": ".py",
   "mimetype": "text/x-python",
   "name": "python",
   "nbconvert_exporter": "python",
   "pygments_lexer": "ipython3",
   "version": "3.6.0"
  }
 },
 "nbformat": 4,
 "nbformat_minor": 2
}
