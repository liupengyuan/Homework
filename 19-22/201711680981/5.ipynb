{
 "cells": [
  {
   "cell_type": "markdown",
   "metadata": {},
   "source": [
    "# 练习 1：写函数，求n个随机整数均值的平方根，整数范围在m与k之间（n,m,k由用户输入）。"
   ]
  },
  {
   "cell_type": "code",
   "execution_count": 53,
   "metadata": {},
   "outputs": [
    {
     "name": "stdout",
     "output_type": "stream",
     "text": [
      "3\n",
      "1\n",
      "10\n",
      "10\n",
      "6\n",
      "5\n",
      "7.847835380451347\n"
     ]
    }
   ],
   "source": [
    "import random,math\n",
    "\n",
    "def fun(n,m,k):\n",
    "    i = 0\n",
    "    total = 0\n",
    "    while i < n:\n",
    "        i += 1\n",
    "        number = random.randint(m,k)\n",
    "        print(number)\n",
    "        total += math.sqrt(number)\n",
    "    return total\n",
    "\n",
    "n=int(input())\n",
    "m=int(input())\n",
    "k=int(input())\n",
    "if m > k:\n",
    "    m,k = k,m\n",
    "\n",
    "\n",
    "print(fun(n,m,k))"
   ]
  },
  {
   "cell_type": "markdown",
   "metadata": {},
   "source": [
    "# 练习 2：写函数，共n个随机整数，整数范围在m与k之间，（n,m,k由用户输入）。求1：西格玛log(随机整数)，2：西格玛1/log(随机整数)"
   ]
  },
  {
   "cell_type": "code",
   "execution_count": 2,
   "metadata": {},
   "outputs": [
    {
     "name": "stdout",
     "output_type": "stream",
     "text": [
      "3\n",
      "1\n",
      "10\n",
      "10\n",
      "9\n",
      "6\n",
      "6.2915691395583195 1.4475247217679177\n"
     ]
    }
   ],
   "source": [
    "n = int(input())\n",
    "m = int(input())\n",
    "k = int(input())\n",
    "if m > k:\n",
    "    m,k = k,m\n",
    "\n",
    "import math, random\n",
    "\n",
    "i = 0\n",
    "sum1 = 0\n",
    "sum2 = 0\n",
    "while i < n:\n",
    "    number = random.randint(m,k)\n",
    "    i += 1\n",
    "    print (number)\n",
    "    sum1 += math.log(number)\n",
    "    sum2 += 1/math.log(number)\n",
    "print (sum1,sum2)"
   ]
  },
  {
   "cell_type": "markdown",
   "metadata": {},
   "source": [
    "# 练习 3：写函数，求s=a+aa+aaa+aaaa+aa...a的值，其中a是[1,9]之间的随机整数。例如2+22+222+2222+22222(此时共有5个数相加)，几个数相加由键盘输入。"
   ]
  },
  {
   "cell_type": "code",
   "execution_count": 6,
   "metadata": {},
   "outputs": [
    {
     "name": "stdout",
     "output_type": "stream",
     "text": [
      "8\n",
      "3\n",
      "984\n"
     ]
    }
   ],
   "source": [
    "import random\n",
    "\n",
    "a=random.randint(1,9)\n",
    "print(a)\n",
    "n=int(input())\n",
    "i=0\n",
    "total=a\n",
    "s=a\n",
    "while i<n-1:\n",
    "    i += 1\n",
    "    total += a*10**i\n",
    "    s += total\n",
    "    \n",
    "print(s)\n",
    "    "
   ]
  }
 ],
 "metadata": {
  "kernelspec": {
   "display_name": "Python 3",
   "language": "python",
   "name": "python3"
  },
  "language_info": {
   "codemirror_mode": {
    "name": "ipython",
    "version": 3
   },
   "file_extension": ".py",
   "mimetype": "text/x-python",
   "name": "python",
   "nbconvert_exporter": "python",
   "pygments_lexer": "ipython3",
   "version": "3.6.0"
  }
 },
 "nbformat": 4,
 "nbformat_minor": 2
}
