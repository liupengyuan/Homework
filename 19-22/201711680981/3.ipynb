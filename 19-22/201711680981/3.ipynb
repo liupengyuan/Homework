{
 "cells": [
  {
   "cell_type": "markdown",
   "metadata": {},
   "source": [
    "# 练习1"
   ]
  },
  {
   "cell_type": "code",
   "execution_count": 7,
   "metadata": {},
   "outputs": [
    {
     "name": "stdout",
     "output_type": "stream",
     "text": [
      "请输入你的姓名，回车结束吕露\n",
      "请输入一个数，回车结束11.08\n",
      "吕露,你是非常有性格的天蝎座！\n"
     ]
    }
   ],
   "source": [
    "n = input('请输入你的姓名，回车结束')\n",
    "m = float(input('请输入一个数，回车结束'))\n",
    "if 3.21 <= m <=4.19:\n",
    "    print(n,'你是非常有性格的白羊座！',sep=',')\n",
    "if 4.20 <= m <=5.20:\n",
    "    print(n,'你是非常有性格的金牛座！',sep=',')\n",
    "if 5.21 <= m <=6.21:\n",
    "    print(n,'你是非常有性格的双子座！',sep=',')\n",
    "if 6.22 <= m <=7.22:\n",
    "    print(n,'你是非常有性格的巨蟹座！',sep=',')\n",
    "if 7.23 <= m <=8.22:\n",
    "    print(n,'你是非常有性格的狮子座！',sep=',')\n",
    "if 8.23 <= m <=9.22:\n",
    "    print(n,'你是非常有性格的处女座！',sep=',')\n",
    "if 9.23 <= m <=10.23:\n",
    "    print(n,'你是非常有性格的天秤座！',sep=',')\n",
    "if 10.24 <= m <=11.22:\n",
    "    print(n,'你是非常有性格的天蝎座！',sep=',')\n",
    "if 11.23 <= m <=12.21:\n",
    "    print(n,'你是非常有性格的射手座！',sep=',')\n",
    "if 12.22 <= m <=12.31:\n",
    "    print(n,'你是非常有性格的摩羯座！',sep=',')\n",
    "if 1.01 <= m <=1.19:\n",
    "    print(n,'你是非常有性格的摩羯座！',sep=',')\n",
    "if 1.20 <= m <=2.18:\n",
    "    print(n,'你是非常有性格的水瓶座！',sep=',')\n",
    "if 2.19 <= m <=3.20:\n",
    "    print(n,'你是非常有性格的双鱼座！',sep=',')"
   ]
  },
  {
   "cell_type": "markdown",
   "metadata": {},
   "source": [
    "# 练习2"
   ]
  },
  {
   "cell_type": "code",
   "execution_count": 24,
   "metadata": {},
   "outputs": [
    {
     "name": "stdout",
     "output_type": "stream",
     "text": [
      "请输入一个整数，回车结束。1\n",
      "请输入一个非零整数，回车结束。2\n",
      "请输入1或2或3，1表示求和，2表示乘积，3表示求余数，回车结束3\n",
      "1\n"
     ]
    }
   ],
   "source": [
    "m = int(input('请输入一个整数，回车结束。'))\n",
    "n = int(input('请输入一个非零整数，回车结束。'))\n",
    "l = int(input('请输入1或2或3，1表示求和，2表示乘积，3表示求余数，回车结束'))\n",
    "if l == 1:\n",
    "    print(m+n)\n",
    "if l == 2:\n",
    "    print(m*n)\n",
    "if l == 3:\n",
    "    print(m%n)\n",
    "else:\n",
    "    print(m//n)"
   ]
  },
  {
   "cell_type": "markdown",
   "metadata": {},
   "source": [
    "# 练习4"
   ]
  },
  {
   "cell_type": "code",
   "execution_count": 38,
   "metadata": {},
   "outputs": [
    {
     "name": "stdout",
     "output_type": "stream",
     "text": [
      "请输入一个想要转换复数形式的英文名词原形：thelf\n",
      "变f/fe为v加es\n"
     ]
    }
   ],
   "source": [
    "word = input('请输入一个单词')\n",
    "\n",
    "if word.endswith('s') or word.endswith('ch') or word.endswith('sh') or word.endswith('x'):\n",
    "    print (word + 'es')\n",
    "elif word.endswith('y'):\n",
    "    print ('变y为i加es')\n",
    "elif word.endswith('f') or word.endswith('fe'):\n",
    "    print ('变f/fe为v加es')\n",
    "else:\n",
    "    print (word + 's')"
   ]
  },
  {
   "cell_type": "markdown",
   "metadata": {},
   "source": [
    "# 尝试性练习"
   ]
  },
  {
   "cell_type": "markdown",
   "metadata": {},
   "source": [
    "#                                                                                     "
   ]
  },
  {
   "cell_type": "code",
   "execution_count": 47,
   "metadata": {},
   "outputs": [
    {
     "name": "stdout",
     "output_type": "stream",
     "text": [
      "请按回车\n",
      "\n",
      "\n"
     ]
    }
   ],
   "source": [
    "if input('请按回车') == '':\n",
    "    print ('\\n'*1)"
   ]
  },
  {
   "cell_type": "code",
   "execution_count": null,
   "metadata": {},
   "outputs": [],
   "source": []
  }
 ],
 "metadata": {
  "kernelspec": {
   "display_name": "Python 3",
   "language": "python",
   "name": "python3"
  },
  "language_info": {
   "codemirror_mode": {
    "name": "ipython",
    "version": 3
   },
   "file_extension": ".py",
   "mimetype": "text/x-python",
   "name": "python",
   "nbconvert_exporter": "python",
   "pygments_lexer": "ipython3",
   "version": "3.6.0"
  }
 },
 "nbformat": 4,
 "nbformat_minor": 2
}
