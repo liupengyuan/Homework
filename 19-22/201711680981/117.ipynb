{
 "cells": [
  {
   "cell_type": "code",
   "execution_count": 1,
   "metadata": {},
   "outputs": [
    {
     "name": "stdout",
     "output_type": "stream",
     "text": [
      "5\n",
      "10\n",
      "500\n",
      "76\n",
      "278\n",
      "217\n",
      "382\n",
      "72\n",
      "68.15215141020128\n"
     ]
    }
   ],
   "source": [
    "import random,math\n",
    "def fun(m,n,k):\n",
    "    i=0\n",
    "    total=0\n",
    "    while i<m:\n",
    "        i += 1\n",
    "        j=random.randint(n,k)\n",
    "        print(j)\n",
    "        t=math.sqrt(j)\n",
    "        total += t\n",
    "    return total\n",
    "m=int(input())\n",
    "n=int(input())\n",
    "k=int(input())\n",
    "print(fun(m,n,k))"
   ]
  },
  {
   "cell_type": "code",
   "execution_count": null,
   "metadata": {},
   "outputs": [],
   "source": []
  }
 ],
 "metadata": {
  "kernelspec": {
   "display_name": "Python 3",
   "language": "python",
   "name": "python3"
  },
  "language_info": {
   "codemirror_mode": {
    "name": "ipython",
    "version": 3
   },
   "file_extension": ".py",
   "mimetype": "text/x-python",
   "name": "python",
   "nbconvert_exporter": "python",
   "pygments_lexer": "ipython3",
   "version": "3.6.0"
  }
 },
 "nbformat": 4,
 "nbformat_minor": 2
}
