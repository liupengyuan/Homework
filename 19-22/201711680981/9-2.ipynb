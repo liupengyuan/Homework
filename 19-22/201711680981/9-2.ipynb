{
 "cells": [
  {
   "cell_type": "code",
   "execution_count": 25,
   "metadata": {},
   "outputs": [
    {
     "data": {
      "text/plain": [
       "Counter({6: 1, 19: 1, 23: 1, 27: 1, 33: 1, 34: 1, 54: 1, 69: 1, 85: 1, 99: 1})"
      ]
     },
     "execution_count": 25,
     "metadata": {},
     "output_type": "execute_result"
    }
   ],
   "source": [
    "# 随机生成1万个整数，范围在0-10万之间，求其中每个整数出现的次数。并按照整数大小排序输出整数及出现次数。\n",
    "\n",
    "import random\n",
    "from collections import Counter\n",
    "\n",
    "a = []\n",
    "for i in range(10):\n",
    "    a.append(random.randint(0,100))\n",
    "Counter(a)"
   ]
  },
  {
   "cell_type": "code",
   "execution_count": 3,
   "metadata": {},
   "outputs": [
    {
     "ename": "TypeError",
     "evalue": "unsupported operand type(s) for &: 'list' and 'list'",
     "output_type": "error",
     "traceback": [
      "\u001b[1;31m---------------------------------------------------------------------------\u001b[0m",
      "\u001b[1;31mTypeError\u001b[0m                                 Traceback (most recent call last)",
      "\u001b[1;32m<ipython-input-3-eb4b27a0f791>\u001b[0m in \u001b[0;36m<module>\u001b[1;34m()\u001b[0m\n\u001b[0;32m     23\u001b[0m \u001b[0mb\u001b[0m \u001b[1;33m=\u001b[0m \u001b[0mget_word_table\u001b[0m\u001b[1;33m(\u001b[0m\u001b[1;34mr'C:\\Users\\18813\\Desktop\\test1.txt'\u001b[0m\u001b[1;33m)\u001b[0m\u001b[1;33m\u001b[0m\u001b[0m\n\u001b[0;32m     24\u001b[0m \u001b[1;33m\u001b[0m\u001b[0m\n\u001b[1;32m---> 25\u001b[1;33m \u001b[0mprint\u001b[0m\u001b[1;33m(\u001b[0m\u001b[0ma\u001b[0m\u001b[1;33m&\u001b[0m\u001b[0mb\u001b[0m\u001b[1;33m)\u001b[0m\u001b[1;33m\u001b[0m\u001b[0m\n\u001b[0m\u001b[0;32m     26\u001b[0m \u001b[0mprint\u001b[0m\u001b[1;33m(\u001b[0m\u001b[0ma\u001b[0m\u001b[1;33m-\u001b[0m\u001b[0mb\u001b[0m\u001b[1;33m)\u001b[0m\u001b[1;33m\u001b[0m\u001b[0m\n",
      "\u001b[1;31mTypeError\u001b[0m: unsupported operand type(s) for &: 'list' and 'list'"
     ]
    }
   ],
   "source": [
    "# 对本任务中的语料.txt文件，抽取其5001-10000行存为test1.txt文件，写函数，可得到其与本任务中test.txt文件的共用字以及独用字。\n",
    "\n",
    "with open(r'C:\\Users\\18813\\Desktop\\test1.txt', 'w') as fw, open(r'C:\\Users\\18813\\Desktop\\语料.txt') as fr:\n",
    "    line_number = 0\n",
    "    for line in fr:\n",
    "        if line_number >5000 <10000 :\n",
    "            fw.write(line)\n",
    "            line_number += 1\n",
    "        else:\n",
    "            break\n",
    "            \n",
    "def get_word_table(filename):\n",
    "    word_table = []\n",
    "    with open(filename) as f:\n",
    "        text = f.read()\n",
    "    words = [word.split('/')[0] for word in text.split()]\n",
    "    for word in words:\n",
    "        if word not in word_table:\n",
    "            word_table.append(word)\n",
    "    return word_table\n",
    "\n",
    "a = get_word_table(r'C:\\Users\\18813\\Desktop\\test.txt')\n",
    "b = get_word_table(r'C:\\Users\\18813\\Desktop\\test1.txt')\n",
    "\n",
    "print(a&b)\n",
    "print(a-b)"
   ]
  },
  {
   "cell_type": "code",
   "execution_count": null,
   "metadata": {},
   "outputs": [],
   "source": [
    "# 统计语料.txt文件，得到每一个词对应不同词性的频次，可表示为：{词:[('n',1000), ('v', 98)...],...}，即在dict对象中，key为词，value为列表，输出词频最高的50个条目。"
   ]
  }
 ],
 "metadata": {
  "kernelspec": {
   "display_name": "Python 3",
   "language": "python",
   "name": "python3"
  },
  "language_info": {
   "codemirror_mode": {
    "name": "ipython",
    "version": 3
   },
   "file_extension": ".py",
   "mimetype": "text/x-python",
   "name": "python",
   "nbconvert_exporter": "python",
   "pygments_lexer": "ipython3",
   "version": "3.6.0"
  }
 },
 "nbformat": 4,
 "nbformat_minor": 2
}
