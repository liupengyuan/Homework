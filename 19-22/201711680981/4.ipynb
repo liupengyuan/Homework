{
 "cells": [
  {
   "cell_type": "markdown",
   "metadata": {},
   "source": [
    "# 练习 1：仿照求的完整代码，写程序，可求m!+n!+k!"
   ]
  },
  {
   "cell_type": "code",
   "execution_count": 1,
   "metadata": {},
   "outputs": [
    {
     "name": "stdout",
     "output_type": "stream",
     "text": [
      "请输入第一个整数，回车结束1\n",
      "请输入第二个整数，回车结束3\n",
      "请输入第三个整数，回车结束5\n",
      "127\n"
     ]
    }
   ],
   "source": [
    "def mul(n):\n",
    "    i = 1\n",
    "    total = 1\n",
    "    while i < n:\n",
    "        i = i + 1\n",
    "        total= total * i\n",
    "    return total\n",
    "\n",
    "m=int(input('请输入第一个整数，回车结束'))\n",
    "n=int(input('请输入第二个整数，回车结束'))\n",
    "k=int(input('请输入第三个整数，回车结束'))\n",
    "print(mul(m)+mul(n)+mul(k))"
   ]
  },
  {
   "cell_type": "markdown",
   "metadata": {},
   "source": [
    "# 练习 2：写函数可返回1 - 1/3 + 1/5 - 1/7...的前n项的和。在主程序中，分别令n=1000及100000，打印4倍该函数的和。"
   ]
  },
  {
   "cell_type": "code",
   "execution_count": 2,
   "metadata": {},
   "outputs": [
    {
     "name": "stdout",
     "output_type": "stream",
     "text": [
      "3.140592653839794\n",
      "3.1415826535897198\n"
     ]
    }
   ],
   "source": [
    "def fun(end):\n",
    "    j=-1\n",
    "    i=0\n",
    "    total=0\n",
    "    while i<end:\n",
    "        i=i+1\n",
    "        j=j*(-1)\n",
    "        m=i*2-1\n",
    "        total=total+j/m\n",
    "    return total\n",
    "\n",
    "n=1000\n",
    "print(fun(n)*4)\n",
    "\n",
    "n=100000\n",
    "print(fun(n)*4)\n",
    "        \n"
   ]
  },
  {
   "cell_type": "markdown",
   "metadata": {},
   "source": [
    "# 练习 3：将task3中的练习1及练习4改写为函数，并进行调用。"
   ]
  },
  {
   "cell_type": "markdown",
   "metadata": {},
   "source": [
    "###### 练习 1：写程序，可由键盘读入用户姓名例如Mr. right，让用户输入出生的月份与日期，判断用户星座，假设用户是金牛座，则输出，Mr. right，你是非常有性格的金牛座！。"
   ]
  },
  {
   "cell_type": "code",
   "execution_count": 5,
   "metadata": {},
   "outputs": [
    {
     "name": "stdout",
     "output_type": "stream",
     "text": [
      "请输入你的名字吕露\n",
      "请输入你的生日月份11\n",
      "请输入你的生日日期8\n",
      "吕露,你是非常有性格的天蝎座!\n"
     ]
    }
   ],
   "source": [
    "def fun(month,date):\n",
    "    if month==3:\n",
    "        if date>20 and date<=31:\n",
    "            constellation=\"白羊座\"\n",
    "        elif date<=20 and date>0:\n",
    "            constellation=\"双鱼座\"\n",
    "        else:\n",
    "            print(\"Invalid input\")\n",
    "    elif month==4:\n",
    "        if date>19 and date<=30:\n",
    "            constellation=\"金牛座\"\n",
    "        elif date<19 and date>0:\n",
    "            constellation=\"白羊座\"\n",
    "        else:\n",
    "            print(\"Invalid input\")\n",
    "    elif month==5:\n",
    "        if date>20 and date<=31:\n",
    "            constellation=\"双子座\"\n",
    "        elif date<=20 and date>0:\n",
    "            constellation=\"金牛座\"\n",
    "        else:\n",
    "            print(\"Invalid input\")\n",
    "    elif month==6:\n",
    "        if date>21 and date<=30:\n",
    "            constellation=\"巨蟹座\"\n",
    "        elif date<=21 and date>0:\n",
    "            constellation=\"双子座\"\n",
    "        else:\n",
    "            print(\"Invalid input\")\n",
    "    elif month==7:\n",
    "        if date>22 and date<=31:\n",
    "            constellation=\"狮子座\"\n",
    "        elif date<=22 and date>0:\n",
    "            constellation=\"巨蟹座\"\n",
    "        else:\n",
    "            print(\"Invalid input\")\n",
    "    elif month==8:\n",
    "        if date>22 and date<=31:\n",
    "            constellation=\"处女座\"\n",
    "        elif date<=22 and date>0:\n",
    "            constellation=\"狮子座\"\n",
    "        else:\n",
    "            print(\"Invalid input\")\n",
    "    elif month==9:\n",
    "        if date>22 and date<=30:\n",
    "            constellation=\"天秤座\"\n",
    "        elif date<=22 and date>0:\n",
    "            constellation=\"处女座\"\n",
    "        else:\n",
    "            print(\"Invalid input\")\n",
    "    elif month==10:\n",
    "        if date>23 and date<=31:\n",
    "            constellation=\"天蝎座\"\n",
    "        elif date<=23 and date>0:\n",
    "            constellation=\"天秤座\"\n",
    "        else:\n",
    "            print(\"Invalid input\")\n",
    "    elif month==11:\n",
    "        if date>22 and date<=30:\n",
    "            constellation=\"射手座\"\n",
    "        elif date<=22 and date>0:\n",
    "            constellation=\"天蝎座\"\n",
    "        else:\n",
    "            print(\"Invalid input\")\n",
    "    elif month==12:\n",
    "        if date>21 and date<=31:\n",
    "            constellation=\"摩羯座\"\n",
    "        elif date<=21 and date>0:\n",
    "            constellation=\"射手座\"\n",
    "        else:\n",
    "            print(\"Invalid input\")\n",
    "    elif month==1:\n",
    "        if date>19 and date<=31:\n",
    "            constellation=\"水瓶座\"\n",
    "        elif date<=19 and date>0:\n",
    "            constellation=\"摩羯座\"\n",
    "        else:\n",
    "            print(\"Invalid input\")\n",
    "    elif month==2:\n",
    "        if date>18 and date<=29:\n",
    "            constellation=\"双鱼座\"\n",
    "        elif date<=18 and date>0:\n",
    "            constellation=\"水瓶座\"\n",
    "        else:\n",
    "            print(\"Invalid input\")\n",
    "    else:\n",
    "            print(\"Invalid input\")\n",
    "    return constellation\n",
    "\n",
    "name=input('请输入你的名字')\n",
    "month=int(input('请输入你的生日月份'))\n",
    "date=int(input('请输入你的生日日期'))\n",
    "print(name,',你是非常有性格的',fun(month,date),'!',sep='')"
   ]
  },
  {
   "cell_type": "markdown",
   "metadata": {},
   "source": [
    "##### 练习 4：英文单词单数转复数，要求输入一个英文动词（单数形式），能够得到其复数形式，或给出单数转复数形式的建议（提示，some_string.endswith(some_letter)函数可以判断某字符串结尾字符，可尝试运行：'myname'.endswith('me')，liupengyuan'.endswith('n')）。"
   ]
  },
  {
   "cell_type": "code",
   "execution_count": 12,
   "metadata": {},
   "outputs": [
    {
     "name": "stdout",
     "output_type": "stream",
     "text": [
      "请输入一个想要转换复数形式的英文名词原形thelf\n",
      "变f/fe为v加es\n"
     ]
    }
   ],
   "source": [
    "def fun(n):\n",
    "    if n.endswith('s') or n.endswith('x') or n.endswith('z') or n.endswith('ch') or n.endswith('sh') or n.endswith('o'):\n",
    "        pl=('加es')\n",
    "    elif n.endswith('f') or n.endswith('fe'):\n",
    "        pl=('变f/fe为v加es')\n",
    "    elif n.endswith('y'):\n",
    "        pl=('变y为i加es')\n",
    "    else:\n",
    "        pl=('加s')\n",
    "    return pl\n",
    "\n",
    "n=input('请输入一个想要转换复数形式的英文名词原形')\n",
    "print(fun(n))"
   ]
  }
 ],
 "metadata": {
  "kernelspec": {
   "display_name": "Python 3",
   "language": "python",
   "name": "python3"
  }
 },
 "nbformat": 4,
 "nbformat_minor": 2
}
