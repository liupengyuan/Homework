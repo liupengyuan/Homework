{
 "cells": [
  {
   "cell_type": "code",
   "execution_count": 1,
   "metadata": {},
   "outputs": [
    {
     "name": "stdout",
     "output_type": "stream",
     "text": [
      "独一无二\n",
      "请输入你要接的成语:二龙戏珠\n",
      "珠宫贝阙\n",
      "请输入你要接的成语:去邪归正\n",
      "人类得分： 10\n",
      "计算机得分： 10\n"
     ]
    }
   ],
   "source": [
    "import random\n",
    "\n",
    "with open(r'C:\\temp\\成语大全.text.txt') as fh:\n",
    "    text = fh.read()\n",
    "    idioms = text.split()\n",
    "    \n",
    "    \n",
    "man_score = 0\n",
    "com_score = 0\n",
    "\n",
    "idiom = random.choice(idioms)\n",
    "print(idiom)\n",
    "\n",
    "while True:\n",
    "    answer = input('请输入你要接的成语:')\n",
    "    if idiom[3] == answer[0]:\n",
    "        if answer in idioms:\n",
    "            man_score += 10\n",
    "            for idiom in idioms:\n",
    "                if answer[3] == idiom[0]:\n",
    "                    print(idiom)\n",
    "                    com_score += 10\n",
    "                    break\n",
    "                \n",
    "        else:\n",
    "            print('人类得分：',man_score)\n",
    "            print('计算机得分：',com_score)\n",
    "            break\n",
    "        \n",
    "    else:\n",
    "        print('人类得分：',man_score)\n",
    "        print('计算机得分：',com_score)\n",
    "        break\n"
   ]
  },
  {
   "cell_type": "code",
   "execution_count": null,
   "metadata": {},
   "outputs": [],
   "source": []
  }
 ],
 "metadata": {
  "kernelspec": {
   "display_name": "Python 3",
   "language": "python",
   "name": "python3"
  },
  "language_info": {
   "codemirror_mode": {
    "name": "ipython",
    "version": 3
   },
   "file_extension": ".py",
   "mimetype": "text/x-python",
   "name": "python",
   "nbconvert_exporter": "python",
   "pygments_lexer": "ipython3",
   "version": "3.6.0"
  }
 },
 "nbformat": 4,
 "nbformat_minor": 2
}
