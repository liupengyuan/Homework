{
 "cells": [
  {
   "cell_type": "code",
   "execution_count": 2,
   "metadata": {
    "collapsed": false
   },
   "outputs": [
    {
     "name": "stdout",
     "output_type": "stream",
     "text": [
      "5\n",
      "120\n"
     ]
    }
   ],
   "source": [
    "# n!\n",
    "n =int(input())\n",
    "\n",
    "mul=1\n",
    "i=1\n",
    "\n",
    "while i<=n:\n",
    "    mul = mul * i\n",
    "    i+=1\n",
    "print(mul)"
   ]
  },
  {
   "cell_type": "code",
   "execution_count": 3,
   "metadata": {
    "collapsed": false
   },
   "outputs": [
    {
     "name": "stdout",
     "output_type": "stream",
     "text": [
      "5\n",
      "7\n",
      "17\n",
      "4\n",
      "15\n",
      "9\n",
      "52\n"
     ]
    }
   ],
   "source": [
    "n=int(input())\n",
    "\n",
    "total=0\n",
    "i=0\n",
    "\n",
    "while i<n:\n",
    "    num=int(input())\n",
    "    total+=num\n",
    "    i+=1\n",
    "print(total)\n"
   ]
  },
  {
   "cell_type": "code",
   "execution_count": 1,
   "metadata": {
    "collapsed": false
   },
   "outputs": [
    {
     "name": "stdout",
     "output_type": "stream",
     "text": [
      "输入数字,#结束:8\n",
      "输入数字,#结束:#\n"
     ]
    }
   ],
   "source": [
    "num=input(\"输入数字,#结束:\")\n",
    "while num !=\"#\":\n",
    "    num=input(\"输入数字,#结束:\")\n",
    "    \n",
    "    "
   ]
  },
  {
   "cell_type": "code",
   "execution_count": 1,
   "metadata": {
    "collapsed": false
   },
   "outputs": [
    {
     "name": "stdout",
     "output_type": "stream",
     "text": [
      "5\n",
      "15\n",
      "25\n",
      "50\n",
      "45\n",
      "1875\n"
     ]
    }
   ],
   "source": [
    "# 用户可以输入的任意多个数字，直到: 输入所有数字的和比当前输入数字小，且输入所有数字的积大于500。\n",
    "num = int(input())\n",
    "\n",
    "total =num\n",
    "mul = num\n",
    "\n",
    "while total >= num or mul<=500 :\n",
    "    total = total+num\n",
    "    mul = mul * num\n",
    "    num=int(input())\n",
    "print(total)\n",
    "print(mul)\n",
    "\n",
    "    "
   ]
  },
  {
   "cell_type": "code",
   "execution_count": 10,
   "metadata": {
    "collapsed": false
   },
   "outputs": [
    {
     "name": "stdout",
     "output_type": "stream",
     "text": [
      "请输入第一个数，回车结束8\n",
      "请输入第二个数，回车结束9\n",
      "8 < 9\n",
      "++++++++++++++\n"
     ]
    }
   ],
   "source": [
    "m = int(input('请输入第一个数，回车结束'))\n",
    "n = int(input('请输入第二个数，回车结束'))\n",
    "if m > n:\n",
    "    print(m, '>', n)\n",
    "elif m < n:\n",
    "    print(m, '<', n)\n",
    "elif m < 100:\n",
    "    print(m, '<', n)\n",
    "elif 100 < n:\n",
    "    print(m, '<', n)\n",
    "else:\n",
    "    print(m, '=', n)\n",
    "    \n",
    "print('++++++++++++++')"
   ]
  },
  {
   "cell_type": "code",
   "execution_count": 15,
   "metadata": {
    "collapsed": false
   },
   "outputs": [
    {
     "name": "stdout",
     "output_type": "stream",
     "text": [
      "请输入一个整数，回车结束565\n",
      "请输入一个整数，回车结束45456\n",
      "请输入一个整数，回车结束4\n",
      "请输入一个整数，回车结束141441\n",
      "请输入一个整数，回车结束11\n",
      "请输入一个整数，回车结束22\n",
      "最大值是： 141441\n"
     ]
    }
   ],
   "source": [
    "max_number = int(input('请输入一个整数，回车结束'))\n",
    "\n",
    "i = 0\n",
    "while i < 5:\n",
    "    i += 1\n",
    "    n = int(input('请输入一个整数，回车结束'))\n",
    "    if n > max_number:\n",
    "        max_number = n\n",
    "\n",
    "print('最大值是：', max_number)"
   ]
  },
  {
   "cell_type": "code",
   "execution_count": 17,
   "metadata": {
    "collapsed": false
   },
   "outputs": [
    {
     "name": "stdout",
     "output_type": "stream",
     "text": [
      "多个参数 5 69 1.0\n"
     ]
    }
   ],
   "source": [
    "print('多个参数', 5, 4078%211, 407.8//211)"
   ]
  },
  {
   "cell_type": "code",
   "execution_count": 20,
   "metadata": {
    "collapsed": false
   },
   "outputs": [
    {
     "name": "stdout",
     "output_type": "stream",
     "text": [
      "多个参数==== 5==== 69==== 1.0\n"
     ]
    }
   ],
   "source": [
    "print('多个参数', 5, 4078%211, 407.8//211, sep = '==== ')"
   ]
  },
  {
   "cell_type": "code",
   "execution_count": 22,
   "metadata": {
    "collapsed": false
   },
   "outputs": [
    {
     "name": "stdout",
     "output_type": "stream",
     "text": [
      "多个参数,5,69,1.0\n"
     ]
    }
   ],
   "source": [
    "print('多个参数', 5, 4078%211, 407.8//211, sep = ',')"
   ]
  },
  {
   "cell_type": "code",
   "execution_count": 23,
   "metadata": {
    "collapsed": false
   },
   "outputs": [
    {
     "name": "stdout",
     "output_type": "stream",
     "text": [
      "请输入一个整数，回车结束。555\n",
      "False\n"
     ]
    }
   ],
   "source": [
    "print(4078//211 > int(input('请输入一个整数，回车结束。')))"
   ]
  },
  {
   "cell_type": "code",
   "execution_count": null,
   "metadata": {
    "collapsed": true
   },
   "outputs": [],
   "source": [
    "i,j,k"
   ]
  }
 ],
 "metadata": {
  "kernelspec": {
   "display_name": "Python 3",
   "language": "python",
   "name": "python3"
  },
  "language_info": {
   "codemirror_mode": {
    "name": "ipython",
    "version": 3
   },
   "file_extension": ".py",
   "mimetype": "text/x-python",
   "name": "python",
   "nbconvert_exporter": "python",
   "pygments_lexer": "ipython3",
   "version": "3.6.0"
  }
 },
 "nbformat": 4,
 "nbformat_minor": 2
}
