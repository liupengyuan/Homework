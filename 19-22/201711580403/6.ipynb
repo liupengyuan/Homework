{
 "cells": [
  {
   "cell_type": "code",
   "execution_count": 10,
   "metadata": {},
   "outputs": [
    {
     "name": "stdout",
     "output_type": "stream",
     "text": [
      "请输入一个0-9之间的整数，以回车结束3\n",
      "2\n"
     ]
    }
   ],
   "source": [
    "q=[1,2,3]\n",
    "n=int(input('请输入一个0-9之间的整数，以回车结束'))\n",
    "\n",
    "      \n",
    "if n in q:\n",
    "   \n",
    "    print (q.index(n))\n",
    "    \n",
    "else:\n",
    "    print('-1')"
   ]
  },
  {
   "cell_type": "code",
   "execution_count": 5,
   "metadata": {},
   "outputs": [
    {
     "name": "stdout",
     "output_type": "stream",
     "text": [
      "[1, 4, 2, 5, 3, 6]\n"
     ]
    }
   ],
   "source": [
    "#写函数，可将两个相同长度的list，间隔插入，生成新的list。例如：给两个list，a=[1,2,3,4], b=[5,6,7,8]。则可以生成：[1,5,2,6,3,7,4,8]。\n",
    "a = [1,2,3]\n",
    "b = [4,5,6]\n",
    "s = []\n",
    "for i in zip (a,b):\n",
    "    s.extend(i)\n",
    "print(s)\n",
    "\n",
    "# 由于不知道怎样间隔插入，所以上网查了zip与extend的用法"
   ]
  },
  {
   "cell_type": "code",
   "execution_count": 56,
   "metadata": {},
   "outputs": [
    {
     "name": "stdout",
     "output_type": "stream",
     "text": [
      "0.924678098474716\n"
     ]
    }
   ],
   "source": [
    "#  写函数，可求两个向量的夹角余弦值，向量可放在list中。主程序调用该函数。\n",
    "a=[1,5]\n",
    "b=[2,3]\n",
    "\n",
    "def ljh():\n",
    "    m=1*2+5*3\n",
    "    n=(1**2+5**2)**(1/2)\n",
    "    k=(2**2+3**2)**(1/2)\n",
    "    c=m/(n*k)\n",
    "    print(c)\n",
    "    \n",
    "ljh()"
   ]
  },
  {
   "cell_type": "code",
   "execution_count": 1,
   "metadata": {},
   "outputs": [
    {
     "name": "stdout",
     "output_type": "stream",
     "text": [
      "3741\n"
     ]
    }
   ],
   "source": [
    "n=0\n",
    "for i in range(5,91):\n",
    "    for k in range(5,91):\n",
    "        for j in range(5,91):\n",
    "            s=i+j+k\n",
    "            if s==100:\n",
    "                n+=1  \n",
    "print(n)\n",
    "       \n",
    "            "
   ]
  }
 ],
 "metadata": {
  "kernelspec": {
   "display_name": "Python 3",
   "language": "python",
   "name": "python3"
  },
  "language_info": {
   "codemirror_mode": {
    "name": "ipython",
    "version": 3
   },
   "file_extension": ".py",
   "mimetype": "text/x-python",
   "name": "python",
   "nbconvert_exporter": "python",
   "pygments_lexer": "ipython3",
   "version": "3.6.2"
  }
 },
 "nbformat": 4,
 "nbformat_minor": 2
}
