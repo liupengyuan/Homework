{
 "cells": [
  {
   "cell_type": "code",
   "execution_count": 9,
   "metadata": {},
   "outputs": [
    {
     "name": "stdout",
     "output_type": "stream",
     "text": [
      "[]\n"
     ]
    }
   ],
   "source": [
    "import random\n",
    "i=1\n",
    "A=''\n",
    "B=[]\n",
    "while i <=1000:\n",
    "    A=random.randint(1,10000)\n",
    "    i+=1\n",
    "from collections import Counter\n",
    "def count_words_freq_dict(A):\n",
    "    words_freq_dict = Counter()\n",
    "    with open(A) as B:\n",
    "        for line in B:\n",
    "            words_freq_dict.update([word.split('/')[0] for word in line.split()])\n",
    "            sort_simple_selection(B)\n",
    "    return words_freq_dict\n",
    "print(B)\n",
    "\n"
   ]
  },
  {
   "cell_type": "code",
   "execution_count": null,
   "metadata": {
    "collapsed": true
   },
   "outputs": [],
   "source": [
    "#3、对本任务中的语料.txt文件，抽取其5001-10000行存为test1.txt文件，写函数，可得到其与本任务中test.\n",
    "#txt文件的共用字以及独用字（相关概念自行百度）。\n",
    "import linecache\n",
    "fh_1 = open(r'c:\\temp\\语料.txt')\n",
    "text = fh_1.read()\n",
    "count = linecache.getline(text,5001,10000)\n",
    "\n",
    "fh_2 = open(r'c:\\temp\\test1.txt', 'w')\n",
    "fh_2.writelines(count)\n",
    "fh_2.close()\n"
   ]
  },
  {
   "cell_type": "code",
   "execution_count": null,
   "metadata": {
    "collapsed": true
   },
   "outputs": [],
   "source": []
  }
 ],
 "metadata": {
  "kernelspec": {
   "display_name": "Python 3",
   "language": "python",
   "name": "python3"
  },
  "language_info": {
   "codemirror_mode": {
    "name": "ipython",
    "version": 3
   },
   "file_extension": ".py",
   "mimetype": "text/x-python",
   "name": "python",
   "nbconvert_exporter": "python",
   "pygments_lexer": "ipython3",
   "version": "3.6.2"
  }
 },
 "nbformat": 4,
 "nbformat_minor": 2
}
