{
 "cells": [
  {
   "cell_type": "code",
   "execution_count": 1,
   "metadata": {},
   "outputs": [
    {
     "name": "stdout",
     "output_type": "stream",
     "text": [
      "李金滔\n",
      "310\n",
      "李金滔 你是最有性格的双鱼座\n"
     ]
    }
   ],
   "source": [
    "name=input()\n",
    "n=int(input())\n",
    "if 120<=n<=218:\n",
    "    print(name,\"你是最有性格的水瓶座\")\n",
    "elif 219<=n<=320:\n",
    "    print(name,\"你是最有性格的双鱼座\")\n",
    "elif 312<=n<=419:\n",
    "    print(name,\"你是最有性格的白羊座\")\n",
    "elif 420<=n<=520:\n",
    "    print(name,\"你是最有性格的金牛座\")\n",
    "elif 521<=n<=621:\n",
    "    print(name,\"你是最有性格的双子座\")\n",
    "elif 622<=n<=722:\n",
    "    print(name,\"你是最有性格的巨蟹座\")\n",
    "elif 723<=n<=822:\n",
    "    print(name,\"你是最有性格的狮子座\")\n",
    "elif 823<=n<=922:\n",
    "    print(name,\"你是最有性格的处女座\")\n",
    "elif 923<=n<=1023:\n",
    "    print(name,\"你是最有性格的天秤座\")\n",
    "elif 1024<=n<=1122:\n",
    "    print(name,\"你是最有性格的天蝎座\")\n",
    "elif 1123<=n<=1221:\n",
    "    print(name,\"你是最有性格的射手座\")\n",
    "elif n:\n",
    "    print(name,\"你是最有性格的摩羯座\")"
   ]
  },
  {
   "cell_type": "code",
   "execution_count": 1,
   "metadata": {},
   "outputs": [
    {
     "name": "stdout",
     "output_type": "stream",
     "text": [
      "3\n",
      "5\n",
      "用户所要进行的运算，1为求和，2为乘积，3为求余数，其他则为求整数后的值2\n",
      "60\n",
      "60\n"
     ]
    }
   ],
   "source": [
    "n=int(input())\n",
    "m=int(input())\n",
    "x=int(input(\"用户所要进行的运算，1为求和，2为乘积，3为求余数，其他则为求整数后的值\"))\n",
    "total=0\n",
    "product=1\n",
    "a=0\n",
    "b=0\n",
    "if x==1:\n",
    "    if m>n:\n",
    "        total=total+n\n",
    "        n=n+1\n",
    "    print(total+m)\n",
    "    if m<=n:\n",
    "        while m<n:\n",
    "            total=total+n\n",
    "            m=m+1\n",
    "        print(total+n)\n",
    "elif x==2:\n",
    "    if m>n:\n",
    "        while m>n:\n",
    "            product=product*n\n",
    "            n=n+1\n",
    "        print(product*m)\n",
    "    if m<=n:\n",
    "        while m<n:\n",
    "            product=product*m\n",
    "            m=m+1\n",
    "        print(product*n)\n",
    "elif x==3:\n",
    "    a=m%n\n",
    "    print(a)\n",
    "else:\n",
    "    b=m//n\n",
    "    print(b)\n",
    "    \n",
    "            "
   ]
  },
  {
   "cell_type": "code",
   "execution_count": 1,
   "metadata": {},
   "outputs": [
    {
     "name": "stdout",
     "output_type": "stream",
     "text": [
      "fish\n",
      "fishes\n"
     ]
    }
   ],
   "source": [
    "word=input()\n",
    "if word.endswith(\"s\")or(\"sh\")or(\"x\")or(\"ch\"):\n",
    "    print(word+\"es\")\n",
    "elif word.endswith(\"f\"):\n",
    "    a=word.replace(\"f\",\"ves\")\n",
    "    print(a)\n",
    "elif word.endswith(\"fe\"):\n",
    "    b=word.replace(\"fe\",\"ves\")\n",
    "    print(b)\n",
    "else:\n",
    "    print(word+\"s\")"
   ]
  },
  {
   "cell_type": "code",
   "execution_count": 1,
   "metadata": {},
   "outputs": [
    {
     "name": "stdout",
     "output_type": "stream",
     "text": [
      "用户输入空行行数6\n",
      "\n",
      "\n",
      "\n",
      "\n",
      "\n",
      "\n",
      "\n"
     ]
    }
   ],
   "source": [
    "x=int(input(\"用户输入空行行数\"))\n",
    "print(\"\\n\"*x)"
   ]
  },
  {
   "cell_type": "code",
   "execution_count": null,
   "metadata": {
    "collapsed": true
   },
   "outputs": [],
   "source": []
  }
 ],
 "metadata": {
  "kernelspec": {
   "display_name": "Python 3",
   "language": "python",
   "name": "python3"
  },
  "language_info": {
   "codemirror_mode": {
    "name": "ipython",
    "version": 3
   },
   "file_extension": ".py",
   "mimetype": "text/x-python",
   "name": "python",
   "nbconvert_exporter": "python",
   "pygments_lexer": "ipython3",
   "version": "3.6.2"
  }
 },
 "nbformat": 4,
 "nbformat_minor": 2
}
