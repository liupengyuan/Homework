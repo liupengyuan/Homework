{
 "cells": [
  {
   "cell_type": "code",
   "execution_count": 11,
   "metadata": {},
   "outputs": [
    {
     "name": "stdout",
     "output_type": "stream",
     "text": [
      "4\n",
      "6\n",
      "31\n"
     ]
    }
   ],
   "source": [
    "def my_sum(n):\n",
    "    i=0\n",
    "    total_n=0\n",
    "    while i<n:\n",
    "        i=i+1\n",
    "        total_n=total_n+i\n",
    "    \n",
    "    return total_n\n",
    "\n",
    "def my_mul(n):\n",
    "    i=0\n",
    "    product_n=1\n",
    "    while i<n:\n",
    "        i=i+1\n",
    "        product_n=product_n*i\n",
    "    return product_n\n",
    "n=int(input())\n",
    "m=int(input())\n",
    "if m>n:\n",
    "    print(my_sum(n)+my_sum(m))\n",
    "else:\n",
    "    print(my_mul(n)+my_mul(m))"
   ]
  },
  {
   "cell_type": "code",
   "execution_count": null,
   "metadata": {
    "collapsed": true
   },
   "outputs": [],
   "source": []
  }
 ],
 "metadata": {
  "kernelspec": {
   "display_name": "Python 3",
   "language": "python",
   "name": "python3"
  },
  "language_info": {
   "codemirror_mode": {
    "name": "ipython",
    "version": 3
   },
   "file_extension": ".py",
   "mimetype": "text/x-python",
   "name": "python",
   "nbconvert_exporter": "python",
   "pygments_lexer": "ipython3",
   "version": "3.6.2"
  }
 },
 "nbformat": 4,
 "nbformat_minor": 2
}
