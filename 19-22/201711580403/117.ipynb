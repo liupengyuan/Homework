{
 "cells": [
  {
   "cell_type": "code",
   "execution_count": 2,
   "metadata": {},
   "outputs": [
    {
     "name": "stdout",
     "output_type": "stream",
     "text": [
      "请输入随机整数的个数5\n",
      "请输入随机数所在区间较小的数10\n",
      "请输入随机数所在区间较大的数500\n",
      "30.93541659651604\n"
     ]
    }
   ],
   "source": [
    "import random\n",
    "\n",
    "def my_fx():\n",
    "    m=int(input('请输入随机整数的个数'))\n",
    "    n=int(input('请输入随机数所在区间较小的数'))\n",
    "    k=int(input('请输入随机数所在区间较大的数'))\n",
    "    total=0\n",
    "    i=1\n",
    "    while i<m:\n",
    "        \n",
    "        import random\n",
    "        number = random.randint(n, k)\n",
    "        total=total+number\n",
    "        i=i+1\n",
    "        b=total**(1/2)\n",
    "    print(b)                  \n",
    "                            \n",
    "\n",
    "\n",
    "my_fx()"
   ]
  },
  {
   "cell_type": "code",
   "execution_count": null,
   "metadata": {
    "collapsed": true
   },
   "outputs": [],
   "source": []
  }
 ],
 "metadata": {
  "kernelspec": {
   "display_name": "Python 3",
   "language": "python",
   "name": "python3"
  },
  "language_info": {
   "codemirror_mode": {
    "name": "ipython",
    "version": 3
   },
   "file_extension": ".py",
   "mimetype": "text/x-python",
   "name": "python",
   "nbconvert_exporter": "python",
   "pygments_lexer": "ipython3",
   "version": "3.6.2"
  }
 },
 "nbformat": 4,
 "nbformat_minor": 2
}
