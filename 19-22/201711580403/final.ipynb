{
 "cells": [
  {
   "cell_type": "code",
   "execution_count": 23,
   "metadata": {},
   "outputs": [
    {
     "name": "stdout",
     "output_type": "stream",
     "text": [
      "          \n",
      "         **\n",
      "        ****\n",
      "       ******\n",
      "      ********\n",
      "     **********\n"
     ]
    }
   ],
   "source": [
    "def my_fx(simble,line):\n",
    "    \n",
    "    for i in range (1,line+2):\n",
    "        for k in range (line*2-i,-1,-1):\n",
    "            print(' ',end='')\n",
    "        for j in range (2+line,2*i+line):\n",
    "            print(simble[0],end='')\n",
    "        print()\n",
    "my_fx('*',5)"
   ]
  },
  {
   "cell_type": "code",
   "execution_count": 20,
   "metadata": {},
   "outputs": [
    {
     "ename": "SyntaxError",
     "evalue": "invalid syntax (<ipython-input-20-71a0cd49f2c3>, line 4)",
     "output_type": "error",
     "traceback": [
      "\u001b[1;36m  File \u001b[1;32m\"<ipython-input-20-71a0cd49f2c3>\"\u001b[1;36m, line \u001b[1;32m4\u001b[0m\n\u001b[1;33m    if m=0:\u001b[0m\n\u001b[1;37m        ^\u001b[0m\n\u001b[1;31mSyntaxError\u001b[0m\u001b[1;31m:\u001b[0m invalid syntax\n"
     ]
    }
   ],
   "source": [
    "def my_fx(m,n):\n",
    "    A=(m,n)\n",
    "    while m!=0 and n!=0:\n",
    "        if m=0:\n",
    "            s=n+1\n",
    "            print(s)\n",
    "        elif m>0 and n=0:\n",
    "            s=A(m-1,1)\n",
    "        elif m>0 and n>0:\n",
    "            s=A(m-1,A(m,n-1))\n",
    "        \n"
   ]
  },
  {
   "cell_type": "code",
   "execution_count": 25,
   "metadata": {},
   "outputs": [
    {
     "ename": "TypeError",
     "evalue": "choice() takes 2 positional arguments but 5 were given",
     "output_type": "error",
     "traceback": [
      "\u001b[1;31m---------------------------------------------------------------------------\u001b[0m",
      "\u001b[1;31mTypeError\u001b[0m                                 Traceback (most recent call last)",
      "\u001b[1;32m<ipython-input-25-be3030e03b00>\u001b[0m in \u001b[0;36m<module>\u001b[1;34m()\u001b[0m\n\u001b[0;32m     14\u001b[0m             \u001b[0mi\u001b[0m\u001b[1;33m+=\u001b[0m\u001b[1;36m1\u001b[0m\u001b[1;33m\u001b[0m\u001b[0m\n\u001b[0;32m     15\u001b[0m         \u001b[0mprint\u001b[0m\u001b[1;33m(\u001b[0m\u001b[1;33m)\u001b[0m\u001b[1;33m\u001b[0m\u001b[0m\n\u001b[1;32m---> 16\u001b[1;33m \u001b[0mlll\u001b[0m\u001b[1;33m(\u001b[0m\u001b[1;33m)\u001b[0m\u001b[1;33m\u001b[0m\u001b[0m\n\u001b[0m\u001b[0;32m     17\u001b[0m \u001b[1;33m\u001b[0m\u001b[0m\n\u001b[0;32m     18\u001b[0m \u001b[1;33m\u001b[0m\u001b[0m\n",
      "\u001b[1;32m<ipython-input-25-be3030e03b00>\u001b[0m in \u001b[0;36mlll\u001b[1;34m()\u001b[0m\n\u001b[0;32m      6\u001b[0m     \u001b[0mM\u001b[0m\u001b[1;33m=\u001b[0m\u001b[0mrandom\u001b[0m\u001b[1;33m.\u001b[0m\u001b[0mrandint\u001b[0m\u001b[1;33m(\u001b[0m\u001b[0ma\u001b[0m\u001b[1;33m,\u001b[0m\u001b[0mb\u001b[0m\u001b[1;33m)\u001b[0m\u001b[1;33m\u001b[0m\u001b[0m\n\u001b[0;32m      7\u001b[0m     \u001b[0mN\u001b[0m\u001b[1;33m=\u001b[0m\u001b[0mrandom\u001b[0m\u001b[1;33m.\u001b[0m\u001b[0mrandint\u001b[0m\u001b[1;33m(\u001b[0m\u001b[0ma\u001b[0m\u001b[1;33m,\u001b[0m\u001b[0mb\u001b[0m\u001b[1;33m)\u001b[0m\u001b[1;33m\u001b[0m\u001b[0m\n\u001b[1;32m----> 8\u001b[1;33m     \u001b[0mQ\u001b[0m\u001b[1;33m=\u001b[0m\u001b[0mrandom\u001b[0m\u001b[1;33m.\u001b[0m\u001b[0mchoice\u001b[0m\u001b[1;33m(\u001b[0m\u001b[1;34m'+'\u001b[0m\u001b[1;33m,\u001b[0m\u001b[1;34m'-'\u001b[0m\u001b[1;33m,\u001b[0m\u001b[1;34m'*'\u001b[0m\u001b[1;33m,\u001b[0m\u001b[1;34m'/'\u001b[0m\u001b[1;33m)\u001b[0m\u001b[1;33m\u001b[0m\u001b[0m\n\u001b[0m\u001b[0;32m      9\u001b[0m     \u001b[0mi\u001b[0m\u001b[1;33m=\u001b[0m\u001b[1;36m1\u001b[0m\u001b[1;33m\u001b[0m\u001b[0m\n\u001b[0;32m     10\u001b[0m     \u001b[1;32mwhile\u001b[0m \u001b[0mi\u001b[0m \u001b[1;33m<\u001b[0m\u001b[0mn\u001b[0m\u001b[1;33m:\u001b[0m\u001b[1;33m\u001b[0m\u001b[0m\n",
      "\u001b[1;31mTypeError\u001b[0m: choice() takes 2 positional arguments but 5 were given"
     ]
    }
   ],
   "source": [
    "import random\n",
    "def lll():\n",
    "    a=3\n",
    "    b=25\n",
    "    n=15\n",
    "    M=random.randint(a,b)\n",
    "    N=random.randint(a,b)\n",
    "    Q=random.choice('+','-','*','/')\n",
    "    i=1\n",
    "    while i <=n:\n",
    "        K=MQN\n",
    "        if K>0 and K%1==0:\n",
    "            print('题目为:',MQN,'=')\n",
    "            i+=1\n",
    "        print()\n",
    "lll()\n",
    "def ljy():\n",
    "    score=0\n",
    "    ans=int(input('请输入各题答案'，sep=','))\n",
    "    if ans==K and (K=M+N or M-N):\n",
    "        score+=5\n",
    "    elif ans==K and (K=M*N or M/N):\n",
    "        score+=10\n",
    "    else ans!=K:\n",
    "        score+=0\n",
    "        \n",
    "    print(score)\n",
    "\n",
    "            \n",
    "        "
   ]
  },
  {
   "cell_type": "code",
   "execution_count": null,
   "metadata": {
    "collapsed": true
   },
   "outputs": [],
   "source": [
    "def ljy():\n",
    "    score=0\n",
    "    ans=int(input('请输入各题答案,以逗号为间隔'))\n",
    "    if ans==K and (K==M+N or M-N):\n",
    "        score+=5\n",
    "    elif ans==K and (K==M*N or M/N):\n",
    "        score+=10\n",
    "    else :\n",
    "        score+=0\n",
    "        \n",
    "    print(score)\n",
    "ljy()"
   ]
  },
  {
   "cell_type": "code",
   "execution_count": null,
   "metadata": {
    "collapsed": true
   },
   "outputs": [],
   "source": [
    "def hd():\n",
    "    n=10\n",
    "    for i in range (1,n+1):\n",
    "       \n",
    "        a=('请输入一个3到15之间的整数，以回车结束')\n",
    "        b=('请输入一个3到15之间的整数，以回车结束')\n",
    "        Q=a*b\n",
    "        if Q>0 and Q%1==0:\n",
    "            print(Q)\n",
    "        if ans==Q and (Q==a+b or a-b):\n",
    "            score+=5\n",
    "        elif ans==Q and (Q==a*b or a/b):\n",
    "            score+=10\n",
    "        else :\n",
    "            score+=0\n",
    "        \n",
    "        print(score)\n",
    "hd()"
   ]
  },
  {
   "cell_type": "code",
   "execution_count": null,
   "metadata": {
    "collapsed": true
   },
   "outputs": [],
   "source": [
    "with open (r'c:\\temp\\utf-8.txt', encoding = 'utf-8') as f:\n",
    "    text = f.read()\n",
    "    idioms=text\n",
    "    for idiom in idioms:\n",
    "        B.append(idiom+'\\n')\n",
    "        A=set(B)"
   ]
  },
  {
   "cell_type": "code",
   "execution_count": 3,
   "metadata": {},
   "outputs": [
    {
     "name": "stdout",
     "output_type": "stream",
     "text": [
      "[['行尸走肉、', 1], ['金蝉脱壳、', 1], ['百里挑一、', 1], ['金玉满堂、', 1], ['背水一战、', 1], ['霸王别姬、', 1], ['天上人间、', 1], ['不吐不快、', 1], ['海阔天空、', 1], ['情非得已、', 1], ['满腹经纶、', 1], ['兵临城下、', 1], ['春暖花开、', 1], ['插翅难逃、', 1], ['黄道吉日、', 1], ['天下无双、', 1], ['偷天换日、', 1], ['两小无猜、', 1], ['卧虎藏龙、', 1], ['珠光宝气、', 1]]\n"
     ]
    }
   ],
   "source": [
    "#（10 分）统计 A 中所有成语在语料库文件中出现的频次。输出频次最高的 20 个成语及其频次。\n",
    "#（如第一问没有做出，可用之前教程 8.md 中的成语库）\n",
    "def count(filename):\n",
    "    \n",
    "    word_freq = []\n",
    "    \n",
    "    with open(filename) as f:\n",
    "        text = f.read()\n",
    "        \n",
    "    words = [word for word in text.split()]\n",
    "    for word in words:\n",
    "        for item in word_freq:\n",
    "            if word == item[0]:\n",
    "                item[1] += 1\n",
    "                break\n",
    "        else:\n",
    "            word_freq.append([word, 1])\n",
    "            \n",
    "    return word_freq\n",
    "\n",
    "filename = r'c:\\temp\\idioms.txt'\n",
    "table = count(filename)\n",
    "print(table[:20])"
   ]
  },
  {
   "cell_type": "code",
   "execution_count": null,
   "metadata": {
    "collapsed": true
   },
   "outputs": [],
   "source": [
    "#（5 分）统计语料库得到每个词类的词的总频次（如 ns 算一类，v 算一类..）\n",
    "#并输出到屏幕。\n",
    "def count():\n",
    "    with open(r'c:\\temp\\语料.txt')as f:\n",
    "        text=f.read()\n",
    "    for word in text :\n",
    "        number=text.count()"
   ]
  },
  {
   "cell_type": "code",
   "execution_count": 8,
   "metadata": {},
   "outputs": [
    {
     "ename": "TypeError",
     "evalue": "must be str, not bool",
     "output_type": "error",
     "traceback": [
      "\u001b[1;31m---------------------------------------------------------------------------\u001b[0m",
      "\u001b[1;31mTypeError\u001b[0m                                 Traceback (most recent call last)",
      "\u001b[1;32m<ipython-input-8-21fef25313e0>\u001b[0m in \u001b[0;36m<module>\u001b[1;34m()\u001b[0m\n\u001b[0;32m     10\u001b[0m         \u001b[0mword_count\u001b[0m\u001b[1;33m.\u001b[0m\u001b[0mappend\u001b[0m\u001b[1;33m(\u001b[0m\u001b[1;33m[\u001b[0m\u001b[0mword\u001b[0m\u001b[1;33m,\u001b[0m \u001b[0mnumber\u001b[0m\u001b[1;33m]\u001b[0m\u001b[1;33m)\u001b[0m\u001b[1;33m\u001b[0m\u001b[0m\n\u001b[0;32m     11\u001b[0m     \u001b[1;32mreturn\u001b[0m \u001b[0mword_count\u001b[0m\u001b[1;33m\u001b[0m\u001b[0m\n\u001b[1;32m---> 12\u001b[1;33m \u001b[0mcount\u001b[0m\u001b[1;33m(\u001b[0m\u001b[1;33m)\u001b[0m\u001b[1;33m\u001b[0m\u001b[0m\n\u001b[0m\u001b[0;32m     13\u001b[0m \u001b[1;33m\u001b[0m\u001b[0m\n\u001b[0;32m     14\u001b[0m \u001b[1;33m\u001b[0m\u001b[0m\n",
      "\u001b[1;32m<ipython-input-8-21fef25313e0>\u001b[0m in \u001b[0;36mcount\u001b[1;34m()\u001b[0m\n\u001b[0;32m      7\u001b[0m         \u001b[0mtext\u001b[0m \u001b[1;33m=\u001b[0m \u001b[0mf\u001b[0m\u001b[1;33m.\u001b[0m\u001b[0mread\u001b[0m\u001b[1;33m(\u001b[0m\u001b[1;33m)\u001b[0m\u001b[1;33m\u001b[0m\u001b[0m\n\u001b[0;32m      8\u001b[0m     \u001b[1;32mfor\u001b[0m \u001b[0mword\u001b[0m \u001b[1;32min\u001b[0m \u001b[0mtext\u001b[0m\u001b[1;33m:\u001b[0m\u001b[1;33m\u001b[0m\u001b[0m\n\u001b[1;32m----> 9\u001b[1;33m         \u001b[0mnumber\u001b[0m \u001b[1;33m=\u001b[0m \u001b[0mtext\u001b[0m\u001b[1;33m.\u001b[0m\u001b[0mcount\u001b[0m\u001b[1;33m(\u001b[0m\u001b[0mword\u001b[0m\u001b[1;33m.\u001b[0m\u001b[0mendswith\u001b[0m\u001b[1;33m(\u001b[0m\u001b[1;34m'nr'\u001b[0m\u001b[1;33m)\u001b[0m\u001b[1;33m)\u001b[0m\u001b[1;33m\u001b[0m\u001b[0m\n\u001b[0m\u001b[0;32m     10\u001b[0m         \u001b[0mword_count\u001b[0m\u001b[1;33m.\u001b[0m\u001b[0mappend\u001b[0m\u001b[1;33m(\u001b[0m\u001b[1;33m[\u001b[0m\u001b[0mword\u001b[0m\u001b[1;33m,\u001b[0m \u001b[0mnumber\u001b[0m\u001b[1;33m]\u001b[0m\u001b[1;33m)\u001b[0m\u001b[1;33m\u001b[0m\u001b[0m\n\u001b[0;32m     11\u001b[0m     \u001b[1;32mreturn\u001b[0m \u001b[0mword_count\u001b[0m\u001b[1;33m\u001b[0m\u001b[0m\n",
      "\u001b[1;31mTypeError\u001b[0m: must be str, not bool"
     ]
    }
   ],
   "source": [
    "#（5 分）统计语料库得到所有词类为 nr 的词（不重复），并输出到屏幕。\n",
    "\n",
    "def count():\n",
    "    word_count = []\n",
    "    number=0\n",
    "    with open(r'c:\\temp\\语料.txt')as f:\n",
    "        text = f.read()\n",
    "    for word in text:\n",
    "        number = text.count(word.endswith('nr'))\n",
    "        word_count.append([word, number])\n",
    "    return word_count\n",
    "count()\n",
    "\n",
    "\n",
    "\n",
    "   "
   ]
  },
  {
   "cell_type": "code",
   "execution_count": 18,
   "metadata": {},
   "outputs": [],
   "source": [
    "#（e）（5 分）统计语料库及 A，得到词（成语）表及字表，打印语料库词表中所有词的长度之和/语料库字表长度；\n",
    "#打印 A 的所有词的长度之和/A 的字表长度。\n",
    "#（如第一问没有做出，可用之前教程 8.md 中的成语库）\n",
    "def len():\n",
    "    with open(r'c:\\temp\\语料.txt')as f,open(r'c:\\temp\\idioms.txt')as fs:\n",
    "        text_1=f.read()\n",
    "        text_2=fs.read()\n",
    "        A=len(text_1)\n",
    "        B=len(text_2)\n",
    "        return A , B"
   ]
  },
  {
   "cell_type": "code",
   "execution_count": null,
   "metadata": {
    "collapsed": true
   },
   "outputs": [],
   "source": [
    "#（f）（5 分）挑战性开放式题目。新型接龙，方式为：一个成语，接一个二字词，接一个成语...\n",
    "#例如：千钧一发发生生生不息息影影只形单单飞飞珠溅玉玉石石破天惊...。\n",
    "#成语在 A 中，二字词由统计语料库词表中得到。要求键盘输入一个成语，计算机能给出接龙序列（不产生回路），\n",
    "#思考并实现一种使该序列尽可能长（无需确实是最长序列）的方法。成语以万马奔腾为例。（如第一问\n",
    "#没有做出，可用之前教程 8.md 中的成语库\n",
    "def idioms():\n",
    "    A=str(input('请输入一个成语，以回车结束'))\n",
    "    with open(r'c:\\temp\\语料.txt')as f\n",
    "    text=f.read()\n",
    "    for word in text:\n",
    "        if A.endswith==word.startswith():\n",
    "            continue\n",
    "            if A.startswith==word.endswith():\n",
    "                continue\n",
    "        else:\n",
    "            break\n",
    "        \n",
    "    "
   ]
  }
 ],
 "metadata": {
  "kernelspec": {
   "display_name": "Python 3",
   "language": "python",
   "name": "python3"
  },
  "language_info": {
   "codemirror_mode": {
    "name": "ipython",
    "version": 3
   },
   "file_extension": ".py",
   "mimetype": "text/x-python",
   "name": "python",
   "nbconvert_exporter": "python",
   "pygments_lexer": "ipython3",
   "version": "3.6.2"
  }
 },
 "nbformat": 4,
 "nbformat_minor": 2
}
