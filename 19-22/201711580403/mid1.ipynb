{
 "cells": [
  {
   "cell_type": "code",
   "execution_count": 8,
   "metadata": {
    "collapsed": false
   },
   "outputs": [
    {
     "name": "stdout",
     "output_type": "stream",
     "text": [
      "请输入一个数，以回车结束2\n",
      "4\n"
     ]
    }
   ],
   "source": [
    "def li():\n",
    "    i=1\n",
    "    total=0\n",
    "    m=int(input('请输入一个数，以回车结束'))\n",
    "    while i <=m:\n",
    "        total=total+(total+i)\n",
    "        i+=1\n",
    "        \n",
    "    print(total)\n",
    "    \n",
    "    \n",
    "li()"
   ]
  },
  {
   "cell_type": "code",
   "execution_count": 7,
   "metadata": {
    "collapsed": false
   },
   "outputs": [
    {
     "name": "stdout",
     "output_type": "stream",
     "text": [
      "5\n"
     ]
    }
   ],
   "source": [
    "a='5473543'\n",
    "print(a[0])"
   ]
  },
  {
   "cell_type": "code",
   "execution_count": 13,
   "metadata": {
    "collapsed": false,
    "scrolled": true
   },
   "outputs": [
    {
     "name": "stdout",
     "output_type": "stream",
     "text": [
      "181.11111111111111\n",
      "183\n",
      "185\n",
      "183\n",
      "187\n",
      "190\n"
     ]
    }
   ],
   "source": [
    "h=[183,185,183,187,178,175,177,190,172]\n",
    "total=0\n",
    "for i in h:\n",
    "    total+=i\n",
    "print(total/len(h))\n",
    "\n",
    "for a in h:\n",
    "    if a>(total/len(h)):\n",
    "        print(a)"
   ]
  },
  {
   "cell_type": "code",
   "execution_count": 1,
   "metadata": {
    "collapsed": false
   },
   "outputs": [
    {
     "name": "stdout",
     "output_type": "stream",
     "text": [
      "10 + 0\n",
      "请输入计算结果10\n",
      "本轮得分为20\n",
      "5 + 0\n",
      "请输入计算结果12\n",
      "本轮得分为0\n",
      "10 + 9\n",
      "请输入计算结果6\n",
      "本轮得分为0\n",
      "5 + 2\n",
      "请输入计算结果232\n",
      "本轮得分为0\n",
      "2 + 9\n",
      "请输入计算结果23\n",
      "本轮得分为0\n",
      "4 + 10\n",
      "请输入计算结果3\n",
      "本轮得分为0\n"
     ]
    }
   ],
   "source": [
    "import random\n",
    "def lij():\n",
    "    \n",
    "    i=0\n",
    "    k=5\n",
    "    while i<=k:\n",
    "        i+=1\n",
    "        num1 =  random.randint(0,10)\n",
    "        num2 =  random.randint(0,10)\n",
    "        s=num1+num2\n",
    "        print(num1, '+', num2)\n",
    "        n=int(input('请输入计算结果'))\n",
    "        if n==s:\n",
    "            print('本轮得分为20')\n",
    "    \n",
    "        else:\n",
    "            print('本轮得分为0')\n",
    "       \n",
    "lij()    "
   ]
  },
  {
   "cell_type": "code",
   "execution_count": null,
   "metadata": {
    "collapsed": true
   },
   "outputs": [],
   "source": [
    "n=[3,-5,9,108,34,-76,88]\n",
    "m=[]\n",
    "max=3\n",
    "min=3\n",
    "for a in n:\n",
    "    if max<a:\n",
    "        max=a\n",
    "        prin(max)\n",
    "    "
   ]
  },
  {
   "cell_type": "code",
   "execution_count": null,
   "metadata": {
    "collapsed": true
   },
   "outputs": [],
   "source": []
  }
 ],
 "metadata": {
  "kernelspec": {
   "display_name": "Python 3",
   "language": "python",
   "name": "python3"
  },
  "language_info": {
   "codemirror_mode": {
    "name": "ipython",
    "version": 3
   },
   "file_extension": ".py",
   "mimetype": "text/x-python",
   "name": "python",
   "nbconvert_exporter": "python",
   "pygments_lexer": "ipython3",
   "version": "3.6.0"
  }
 },
 "nbformat": 4,
 "nbformat_minor": 2
}
