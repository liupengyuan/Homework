{
 "cells": [
  {
   "cell_type": "code",
   "execution_count": 30,
   "metadata": {},
   "outputs": [
    {
     "name": "stdout",
     "output_type": "stream",
     "text": [
      "请用户输入一段字符串，以回车结束123ljy\n",
      "yjl321\n"
     ]
    }
   ],
   "source": [
    "s=str(input('请用户输入一段字符串，以回车结束'))\n",
    "def fx():\n",
    "    line=''\n",
    "    a=len(s)\n",
    "    \n",
    "    for i in range(a-1,-1,-1):\n",
    "        line+=s[i]\n",
    "    print(line)\n",
    "fx()"
   ]
  },
  {
   "cell_type": "code",
   "execution_count": 75,
   "metadata": {},
   "outputs": [
    {
     "name": "stdout",
     "output_type": "stream",
     "text": [
      "请输入一个符号，以回车结束*\n",
      "请输入要打印的行数，以回车结束5\n",
      "\n",
      "*\n",
      "**\n",
      "***\n",
      "****\n",
      "*****\n",
      "------------------------------\n",
      "         * \n",
      "        * * \n",
      "       * * * \n",
      "      * * * * \n",
      "     * * * * * \n",
      "------------------------------\n",
      "     *   \n",
      "    *   *   \n",
      "   *   *   *   \n",
      "  *   *   *   *   \n",
      " *   *   *   *   *   \n"
     ]
    }
   ],
   "source": [
    "a=str(input('请输入一个符号，以回车结束'))\n",
    "b=int(input('请输入要打印的行数，以回车结束'))\n",
    "def kk():\n",
    "    for i in range(b+1):\n",
    "        for j in range(0,i):\n",
    "            print(a,end='')\n",
    "        print()\n",
    "    print('-'*30)    \n",
    "\n",
    "    for i in range(1,b+1):\n",
    "        for j in range(b*2-i,0,-1):\n",
    "            print(' ',end='')\n",
    "        for k in range(0,i):\n",
    "            print(a,end=' ')\n",
    "        print()\n",
    "    \n",
    "    print('-'*30) \n",
    "       \n",
    "    for i in range(1,b+1):\n",
    "        for j in range(b-i+1,0,-1):\n",
    "            print(' ',end='')\n",
    "        for k in range(0,i):\n",
    "            print(a,end='   ')\n",
    "        print()\n",
    "        \n",
    "kk()"
   ]
  },
  {
   "cell_type": "code",
   "execution_count": 111,
   "metadata": {},
   "outputs": [
    {
     "name": "stdout",
     "output_type": "stream",
     "text": [
      "请输入一个符号@\n",
      "请用户输入一个数，以回车结束8\n",
      "        @\n",
      "       @@@\n",
      "      @@@@@\n",
      "     @@@@@@@\n",
      "    @@@@@@@@@\n",
      "   @@@@@@@@@@@\n",
      "  @@@@@@@@@@@@@\n",
      " @@@@@@@@@@@@@@@\n",
      "@@@@@@@@@@@@@@@@@\n",
      " @@@@@@@@@@@@@@@\n",
      "  @@@@@@@@@@@@@\n",
      "   @@@@@@@@@@@\n",
      "    @@@@@@@@@\n",
      "     @@@@@@@\n",
      "      @@@@@\n",
      "       @@@\n",
      "        @\n"
     ]
    }
   ],
   "source": [
    "S=str(input('请输入一个符号'))\n",
    "def rhombus(N):\n",
    "   \n",
    "   for i in range(N):\n",
    "       print( ' '*(N-i) + S*(2*i+1))\n",
    "   \n",
    "   print (S*(2*N+1))\n",
    "   \n",
    "   for i in range(N):\n",
    "       print (' '*(i+1) + S*(2*(N-i-1)+1))\n",
    "N=int(input('请用户输入一个数，以回车结束'))\n",
    "rhombus(N)"
   ]
  },
  {
   "cell_type": "code",
   "execution_count": null,
   "metadata": {
    "collapsed": true
   },
   "outputs": [],
   "source": []
  }
 ],
 "metadata": {
  "kernelspec": {
   "display_name": "Python 3",
   "language": "python",
   "name": "python3"
  },
  "language_info": {
   "codemirror_mode": {
    "name": "ipython",
    "version": 3
   },
   "file_extension": ".py",
   "mimetype": "text/x-python",
   "name": "python",
   "nbconvert_exporter": "python",
   "pygments_lexer": "ipython3",
   "version": "3.6.2"
  }
 },
 "nbformat": 4,
 "nbformat_minor": 2
}
