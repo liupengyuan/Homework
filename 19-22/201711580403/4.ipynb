{
 "cells": [
  {
   "cell_type": "code",
   "execution_count": 1,
   "metadata": {},
   "outputs": [
    {
     "name": "stdout",
     "output_type": "stream",
     "text": [
      "请输入第一个整数，以回车结束4\n",
      "请输入第二个整数，以回车结束5\n",
      "请输入第三个整数，以回车结束6\n",
      "最终的结果是: 864\n"
     ]
    }
   ],
   "source": [
    "def my_mul(end):\n",
    "    i=0\n",
    "    total=1\n",
    "    while i<end:\n",
    "        i=i+1\n",
    "        total=total*i\n",
    "    return total\n",
    "\n",
    "n=int(input(\"请输入第一个整数，以回车结束\"))\n",
    "m=int(input(\"请输入第二个整数，以回车结束\"))\n",
    "k=int(input(\"请输入第三个整数，以回车结束\"))\n",
    "\n",
    "print(\"最终的结果是:\",my_mul(n)+my_mul(m)+my_mul(k))"
   ]
  },
  {
   "cell_type": "code",
   "execution_count": 11,
   "metadata": {},
   "outputs": [
    {
     "name": "stdout",
     "output_type": "stream",
     "text": [
      "3.140592653839794\n",
      "3.1415826535897198\n"
     ]
    }
   ],
   "source": [
    "def my_fx(n):\n",
    "    i=0\n",
    "    total=0\n",
    "    while i<n:\n",
    "        i=i+1\n",
    "        x=(1/(2*i-1))*(-1)**(i+1)\n",
    "        total=total+x\n",
    "    return total\n",
    "print(my_fx(1000)*4)\n",
    "print(my_fx(100000)*4)\n",
    "        "
   ]
  },
  {
   "cell_type": "code",
   "execution_count": 3,
   "metadata": {},
   "outputs": [
    {
     "name": "stdout",
     "output_type": "stream",
     "text": [
      "请输入月份3\n",
      "请输入日期10\n",
      "双鱼座\n"
     ]
    }
   ],
   "source": [
    "def lhd(n):\n",
    "    if n==3 and 21<=b<=31 or n==4 and 1<=b<=20:\n",
    "        h=(\"白羊座\")\n",
    "    elif n==4 and 21<=b<=30 or n==5 and 1<=b<=21:\n",
    "        h=(\"金牛座\")\n",
    "    elif n==5 and 22<=b<=31 or n==6 and 1<=b<=21:\n",
    "        h=(\"双子座\")\n",
    "    elif n==6 and 22<=b<=30 or n==7 and 1<=b<=22:\n",
    "        h=(\"巨蟹座\")\n",
    "    elif n==7 and 23<=b<=31 or n==8 and 1<=b<=22:\n",
    "        h=(\"狮子座\")\n",
    "    elif n==8 and 23<=b<=31 or n==9 and 1<=b<=23:\n",
    "        h=(\"处女座\")\n",
    "    elif n==9 and 24<=b<=30 or n==10 and 1<=b<=22:\n",
    "        h=(\"天秤座\")\n",
    "    elif n==10 and 23<=b<=31 or n==11 and 1<=b<=22:\n",
    "        h=(\"天蝎座\")\n",
    "    elif n==11 and 23<=b<=30 or n==12 and 1<=b<=21:\n",
    "        h=(\"射手座\")\n",
    "    elif n==12 and 22<=b<=31 or n==1 and 1<=b<=20:\n",
    "        h=(\"摩羯座\")\n",
    "    elif n==1 and 21<=b<=31 or n==2 and 1<=b<=19:\n",
    "        h=(\"水瓶座\")\n",
    "    elif n==2 and 20<=b<=28 or n==3 and 1<=b<=20:\n",
    "        h=(\"双鱼座\")\n",
    "    return h\n",
    "n=int(input(\"请输入月份\"))\n",
    "b=int(input(\"请输入日期\"))\n",
    "\n",
    "print(lhd(n))"
   ]
  },
  {
   "cell_type": "code",
   "execution_count": 3,
   "metadata": {},
   "outputs": [
    {
     "name": "stdout",
     "output_type": "stream",
     "text": [
      "请输入一个名词fish\n",
      "fishes\n"
     ]
    }
   ],
   "source": [
    "def my_fx(w):\n",
    "    if w.endswith(\"ch\") or (\"sh\") or (\"x\") or (\"o\") or (\"s\"):\n",
    "        h=(w+\"es\")\n",
    "    elif w.endswith(\"y\"):\n",
    "        h=(w.replace(\"y\",\"ies\"))\n",
    "    else:\n",
    "        h=(w+\"s\")\n",
    "    return h\n",
    "w=input(\"请输入一个名词\")\n",
    "\n",
    "print(my_fx(w))"
   ]
  },
  {
   "cell_type": "code",
   "execution_count": 4,
   "metadata": {},
   "outputs": [
    {
     "name": "stdout",
     "output_type": "stream",
     "text": [
      "请输入一个整数4\n",
      "请输入一个整数10\n",
      "请输入一个整数2\n",
      "28\n"
     ]
    }
   ],
   "source": [
    "def my_sum(m):\n",
    "    i=m\n",
    "    total=m\n",
    "    \n",
    "    while i<n:\n",
    "        i=i+k\n",
    "        total=total+i\n",
    "        \n",
    "    return total\n",
    "m=int(input(\"请输入一个整数\"))\n",
    "n=int(input(\"请输入一个整数\"))\n",
    "k=int(input(\"请输入一个整数\"))\n",
    "\n",
    "print(my_sum(m))"
   ]
  },
  {
   "cell_type": "code",
   "execution_count": null,
   "metadata": {
    "collapsed": true
   },
   "outputs": [],
   "source": []
  }
 ],
 "metadata": {
  "kernelspec": {
   "display_name": "Python 3",
   "language": "python",
   "name": "python3"
  },
  "language_info": {
   "codemirror_mode": {
    "name": "ipython",
    "version": 3
   },
   "file_extension": ".py",
   "mimetype": "text/x-python",
   "name": "python",
   "nbconvert_exporter": "python",
   "pygments_lexer": "ipython3",
   "version": "3.6.2"
  }
 },
 "nbformat": 4,
 "nbformat_minor": 2
}
