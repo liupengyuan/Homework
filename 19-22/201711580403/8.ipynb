{
 "cells": [
  {
   "cell_type": "code",
   "execution_count": 10,
   "metadata": {},
   "outputs": [
    {
     "ename": "SyntaxError",
     "evalue": "invalid syntax (<ipython-input-10-3c26113f1a91>, line 25)",
     "output_type": "error",
     "traceback": [
      "\u001b[1;36m  File \u001b[1;32m\"<ipython-input-10-3c26113f1a91>\"\u001b[1;36m, line \u001b[1;32m25\u001b[0m\n\u001b[1;33m    if idiom.endswith() = n.startswith():\u001b[0m\n\u001b[1;37m                        ^\u001b[0m\n\u001b[1;31mSyntaxError\u001b[0m\u001b[1;31m:\u001b[0m invalid syntax\n"
     ]
    }
   ],
   "source": [
    "import random\n",
    "def win():\n",
    "    return\n",
    "    \n",
    "def lose():\n",
    "    \n",
    "    return\n",
    "\n",
    "    \n",
    "def get_ch_table(line):\n",
    "    ch_table = []\n",
    "    for ch in line:\n",
    "        if ch not in ch_table:\n",
    "            ch_table.append(ch)\n",
    "    return ch_table\n",
    "def idiom_robot():\n",
    "    with open(r'c:\\temp\\'idioms.txt') as fh:\n",
    "        text = fh.read()\n",
    "    idioms = text.split()\n",
    "    idiom = random.choice(idioms)\n",
    "    m=10\n",
    "    n=str(input('请用户输入一个成语'))\n",
    "    while m>=0:\n",
    "        for idiom in idioms:\n",
    "            if idiom.endswith() = n.startswith():#这样表示不可以吗？\n",
    "                print('回答正确，加10分')\n",
    "                m+=10\n",
    "                if m==100:\n",
    "                    win()\n",
    "                    return \n",
    "            else:\n",
    "                print('回答错误，减10分')\n",
    "                m-=10\n",
    "                if m==0:\n",
    "                    lose()\n",
    "                    return\n",
    "            for idiom in idioms:\n",
    "                idiom = random.choice(idioms)\n",
    "                if n.endswith() = idiom.startswith():\n",
    "                    continue\n",
    "                else:\n",
    "                    print('你赢了！')\n",
    "                    m+=10\n",
    "                    print(m)\n",
    "                    break\n",
    "            \n",
    "idiom_robot()\n",
    "    \n",
    "   \n"
   ]
  },
  {
   "cell_type": "code",
   "execution_count": null,
   "metadata": {
    "collapsed": true
   },
   "outputs": [],
   "source": []
  }
 ],
 "metadata": {
  "kernelspec": {
   "display_name": "Python 3",
   "language": "python",
   "name": "python3"
  },
  "language_info": {
   "codemirror_mode": {
    "name": "ipython",
    "version": 3
   },
   "file_extension": ".py",
   "mimetype": "text/x-python",
   "name": "python",
   "nbconvert_exporter": "python",
   "pygments_lexer": "ipython3",
   "version": "3.6.2"
  }
 },
 "nbformat": 4,
 "nbformat_minor": 2
}
