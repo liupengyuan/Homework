{
 "cells": [
  {
   "cell_type": "code",
   "execution_count": 2,
   "metadata": {},
   "outputs": [
    {
     "name": "stdout",
     "output_type": "stream",
     "text": [
      "请输入随机整数的个数5\n",
      "请输入随机数所在区间较小的数10\n",
      "请输入随机数所在区间较大的数50\n",
      "5.176871642217914\n"
     ]
    }
   ],
   "source": [
    "import random\n",
    "\n",
    "def my_fx():\n",
    "    n=int(input('请输入随机整数的个数'))\n",
    "    m=int(input('请输入随机数所在区间较小的数'))\n",
    "    k=int(input('请输入随机数所在区间较大的数'))\n",
    "    total=0\n",
    "    i=1\n",
    "    while i<n:\n",
    "        \n",
    "        import random\n",
    "        number = random.randint(m, k)\n",
    "        total=total+number\n",
    "        i=i+1\n",
    "        b=total/n\n",
    "        a=b**(1/2)\n",
    "    print(a)                  \n",
    "                            \n",
    "\n",
    "\n",
    "my_fx()"
   ]
  },
  {
   "cell_type": "code",
   "execution_count": 3,
   "metadata": {},
   "outputs": [
    {
     "name": "stdout",
     "output_type": "stream",
     "text": [
      "请输入随机整数的个数5\n",
      "请输入随机数所在区间较小的数15\n",
      "请输入随机数所在区间较大的数20\n",
      "14.259888639571038\n",
      "请输入随机整数的个数3\n",
      "请输入随机数所在区间较小的数20\n",
      "请输入随机数所在区间较大的数50\n",
      "0.8520310605270772\n"
     ]
    }
   ],
   "source": [
    "import random,math\n",
    "\n",
    "def lll():\n",
    "    n=int(input('请输入随机整数的个数'))\n",
    "    m=int(input('请输入随机数所在区间较小的数'))\n",
    "    k=int(input('请输入随机数所在区间较大的数'))\n",
    "    total=0\n",
    "    i=0\n",
    "    while i<n:\n",
    "        import random\n",
    "        number = random.randint(m, k)\n",
    "        a=math.log(number)\n",
    "        total=total+a\n",
    "        i=i+1\n",
    "    print(total)\n",
    "    \n",
    "def hhh():\n",
    "    n=int(input('请输入随机整数的个数'))\n",
    "    m=int(input('请输入随机数所在区间较小的数'))\n",
    "    k=int(input('请输入随机数所在区间较大的数'))\n",
    "    total=0\n",
    "    i=0\n",
    "    while i<n:\n",
    "        import random\n",
    "        number = random.randint(m, k)\n",
    "        b=math.log(number)\n",
    "        total=total+(1/b)\n",
    "        i=i+1\n",
    "    print(total)\n",
    "lll()\n",
    "hhh()"
   ]
  },
  {
   "cell_type": "code",
   "execution_count": 8,
   "metadata": {},
   "outputs": [
    {
     "name": "stdout",
     "output_type": "stream",
     "text": [
      "用户输入需要相加的个数4\n",
      "6170\n"
     ]
    }
   ],
   "source": [
    "import random\n",
    "def hdl():\n",
    "    n=int(input('用户输入需要相加的个数'))\n",
    "    m=1\n",
    "    k=9\n",
    "    s=0\n",
    "    i=1\n",
    "    b=0\n",
    "    import random\n",
    "    a=random.randint(m,k)\n",
    "    while i<=n:\n",
    "        s=s+(a*10**(i-1)+b)\n",
    "        b=(a*10**(i-1)+b)\n",
    "        i=i+1\n",
    "       \n",
    "    print(s)\n",
    "    \n",
    "hdl()"
   ]
  },
  {
   "cell_type": "code",
   "execution_count": 2,
   "metadata": {},
   "outputs": [
    {
     "name": "stdout",
     "output_type": "stream",
     "text": [
      "请输入一个电脑要猜测的整数整数，回车结束。25\n",
      "请输入一个大于0的整数，作为神秘整数的上界，回车结束。50\n",
      "一共可以猜 6 次\n",
      "你已经猜了 1 次\n",
      "抱歉，你猜大了\n",
      "一共可以猜 6 次\n",
      "你已经猜了 2 次\n",
      "抱歉，你猜大了\n",
      "一共可以猜 6 次\n",
      "你已经猜了 3 次\n",
      "抱歉，你猜大了\n",
      "一共可以猜 6 次\n",
      "你已经猜了 4 次\n",
      "抱歉，你猜大了\n",
      "一共可以猜 6 次\n",
      "你已经猜了 5 次\n",
      "抱歉，你猜大了\n",
      "一共可以猜 6 次\n",
      "你已经猜了 6 次\n",
      "抱歉，你猜大了\n",
      "神秘数字是： 25\n",
      "Lose!\n"
     ]
    }
   ],
   "source": [
    "import random, math\n",
    "\n",
    "  \n",
    "\n",
    "def win():\n",
    "    print('Win!')\n",
    "    \n",
    "def lose():\n",
    "    print('Lose!')\n",
    "\n",
    "def guess_game():\n",
    "    guess = int(input('请输入一个电脑要猜测的整数整数，回车结束。'))    \n",
    "\n",
    "    n = int(input('请输入一个大于0的整数，作为神秘整数的上界，回车结束。'))\n",
    "    number = random.randint(1, n)\n",
    "    max_times = math.ceil(math.log2(n))\n",
    "    guess_times = 0\n",
    "    while guess_times < max_times:\n",
    "        \n",
    "        guess_times += 1\n",
    "        print('一共可以猜', max_times, '次')\n",
    "        print('你已经猜了', guess_times, '次')\n",
    "        \n",
    "        if guess == number:\n",
    "            win()\n",
    "            print('神秘数字是：', guess)\n",
    "            print('你比标准次数少', max_times-guess_times, '次')\n",
    "            break\n",
    "        elif guess > number:\n",
    "            print('抱歉，你猜大了')\n",
    "        else:\n",
    "            print('抱歉，你猜小了')\n",
    "    else:\n",
    "        print('神秘数字是：', guess)\n",
    "        lose()\n",
    "\n",
    "\n",
    "guess_game()\n"
   ]
  },
  {
   "cell_type": "code",
   "execution_count": null,
   "metadata": {
    "collapsed": true
   },
   "outputs": [],
   "source": []
  }
 ],
 "metadata": {
  "kernelspec": {
   "display_name": "Python 3",
   "language": "python",
   "name": "python3"
  },
  "language_info": {
   "codemirror_mode": {
    "name": "ipython",
    "version": 3
   },
   "file_extension": ".py",
   "mimetype": "text/x-python",
   "name": "python",
   "nbconvert_exporter": "python",
   "pygments_lexer": "ipython3",
   "version": "3.6.2"
  }
 },
 "nbformat": 4,
 "nbformat_minor": 2
}
