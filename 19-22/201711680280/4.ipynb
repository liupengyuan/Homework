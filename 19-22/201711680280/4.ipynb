{
 "cells": [
  {
   "cell_type": "code",
   "execution_count": 1,
   "metadata": {},
   "outputs": [
    {
     "name": "stdout",
     "output_type": "stream",
     "text": [
      "请输入第1个整数，以回车结束。5\n",
      "请输入第2个整数，以回车结束。4\n",
      "请输入第3个整数，以回车结束。9\n",
      "最终的和是： 363024\n"
     ]
    }
   ],
   "source": [
    "n=int(input('请输入第1个整数，以回车结束。'))\n",
    "i=1\n",
    "total_n=1\n",
    "while i<n:\n",
    "    i=i+1\n",
    "    total_n=total_n*i\n",
    "m=int(input('请输入第2个整数，以回车结束。'))\n",
    "i=1\n",
    "total_m=1\n",
    "while i<m:\n",
    "    i=i+1\n",
    "    total_m=total_m*i\n",
    "k=int(input('请输入第3个整数，以回车结束。'))\n",
    "i=1\n",
    "total_k=1\n",
    "while i<k: \n",
    "    i=i+1\n",
    "    total_k=total_k*i\n",
    "print('最终的和是：',total_n+total_m+total_k)    \n",
    "    "
   ]
  },
  {
   "cell_type": "code",
   "execution_count": 19,
   "metadata": {},
   "outputs": [
    {
     "name": "stdout",
     "output_type": "stream",
     "text": [
      "4*total\n"
     ]
    }
   ],
   "source": [
    "def compute_t(n):\n",
    "    i=1\n",
    "    m=1\n",
    "    total=1 \n",
    "    n=int(input('请输入一个正整数，以回车结束。'))    \n",
    "    while i<n:\n",
    "        i+=1\n",
    "        m+=2\n",
    "    if m%4==0:\n",
    "        m=-m\n",
    "    else:\n",
    "        m=m\n",
    "    return m     \n",
    "    total=total+1/m\n",
    "        \n",
    "    return total\n",
    "\n",
    "print('4*total')\n",
    "    "
   ]
  },
  {
   "cell_type": "code",
   "execution_count": 3,
   "metadata": {},
   "outputs": [
    {
     "ename": "IndentationError",
     "evalue": "unexpected indent (<ipython-input-3-953c05c28287>, line 13)",
     "output_type": "error",
     "traceback": [
      "\u001b[1;36m  File \u001b[1;32m\"<ipython-input-3-953c05c28287>\"\u001b[1;36m, line \u001b[1;32m13\u001b[0m\n\u001b[1;33m    total=total+1/m\u001b[0m\n\u001b[1;37m    ^\u001b[0m\n\u001b[1;31mIndentationError\u001b[0m\u001b[1;31m:\u001b[0m unexpected indent\n"
     ]
    }
   ],
   "source": [
    "def compute_t(n):\n",
    "    i=1\n",
    "    m=1\n",
    "    total=1\n",
    "    while i<n:\n",
    "        i+=1\n",
    "        m+=2\n",
    "    if m%4==0:\n",
    "        m=-m\n",
    "    else:\n",
    "        m=m\n",
    "    return m     \n",
    "        total=total+1/m\n",
    "        \n",
    "    return total\n",
    "n=int(input('请输入一个正整数，以回车结束。'))\n",
    "print('4*total')\n",
    "    \n",
    "    "
   ]
  },
  {
   "cell_type": "code",
   "execution_count": 9,
   "metadata": {},
   "outputs": [
    {
     "name": "stdout",
     "output_type": "stream",
     "text": [
      "请输入你的名字kkk\n",
      "请输入你的月份8\n",
      "请输入你的日期6\n"
     ]
    },
    {
     "ename": "UnboundLocalError",
     "evalue": "local variable 'x' referenced before assignment",
     "output_type": "error",
     "traceback": [
      "\u001b[1;31m---------------------------------------------------------------------------\u001b[0m",
      "\u001b[1;31mUnboundLocalError\u001b[0m                         Traceback (most recent call last)",
      "\u001b[1;32m<ipython-input-9-edee77f87188>\u001b[0m in \u001b[0;36m<module>\u001b[1;34m()\u001b[0m\n\u001b[0;32m     28\u001b[0m \u001b[0mn\u001b[0m\u001b[1;33m=\u001b[0m\u001b[0minput\u001b[0m\u001b[1;33m(\u001b[0m\u001b[1;34m'请输入你的月份'\u001b[0m\u001b[1;33m)\u001b[0m\u001b[1;33m\u001b[0m\u001b[0m\n\u001b[0;32m     29\u001b[0m \u001b[0mt\u001b[0m\u001b[1;33m=\u001b[0m\u001b[0minput\u001b[0m\u001b[1;33m(\u001b[0m\u001b[1;34m'请输入你的日期'\u001b[0m\u001b[1;33m)\u001b[0m\u001b[1;33m\u001b[0m\u001b[0m\n\u001b[1;32m---> 30\u001b[1;33m \u001b[0mfx\u001b[0m\u001b[1;33m(\u001b[0m\u001b[1;33m)\u001b[0m\u001b[1;33m\u001b[0m\u001b[0m\n\u001b[0m\u001b[0;32m     31\u001b[0m \u001b[0mprint\u001b[0m\u001b[1;33m(\u001b[0m\u001b[0mfx\u001b[0m\u001b[1;33m(\u001b[0m\u001b[1;33m)\u001b[0m\u001b[1;33m)\u001b[0m\u001b[1;33m\u001b[0m\u001b[0m\n\u001b[0;32m     32\u001b[0m \u001b[1;33m\u001b[0m\u001b[0m\n",
      "\u001b[1;32m<ipython-input-9-edee77f87188>\u001b[0m in \u001b[0;36mfx\u001b[1;34m()\u001b[0m\n\u001b[0;32m     24\u001b[0m     \u001b[1;32melif\u001b[0m\u001b[1;33m(\u001b[0m\u001b[0mn\u001b[0m\u001b[1;33m==\u001b[0m\u001b[1;36m12\u001b[0m \u001b[1;32mand\u001b[0m \u001b[1;36m22\u001b[0m\u001b[1;33m<=\u001b[0m\u001b[0mt\u001b[0m\u001b[1;33m<=\u001b[0m\u001b[1;36m31\u001b[0m\u001b[1;33m)\u001b[0m \u001b[1;32mor\u001b[0m \u001b[1;33m(\u001b[0m\u001b[0mn\u001b[0m\u001b[1;33m==\u001b[0m\u001b[1;36m1\u001b[0m \u001b[1;32mand\u001b[0m \u001b[1;36m1\u001b[0m\u001b[1;33m<=\u001b[0m\u001b[0mt\u001b[0m\u001b[1;33m<=\u001b[0m\u001b[1;36m20\u001b[0m\u001b[1;33m)\u001b[0m\u001b[1;33m:\u001b[0m\u001b[1;33m\u001b[0m\u001b[0m\n\u001b[0;32m     25\u001b[0m         \u001b[0mx\u001b[0m\u001b[1;33m=\u001b[0m\u001b[1;33m(\u001b[0m\u001b[1;34m'你是非常有性格的摩羯座！'\u001b[0m\u001b[1;33m)\u001b[0m\u001b[1;33m\u001b[0m\u001b[0m\n\u001b[1;32m---> 26\u001b[1;33m     \u001b[1;32mreturn\u001b[0m \u001b[0mx\u001b[0m\u001b[1;33m\u001b[0m\u001b[0m\n\u001b[0m\u001b[0;32m     27\u001b[0m \u001b[0mm\u001b[0m\u001b[1;33m=\u001b[0m\u001b[0minput\u001b[0m\u001b[1;33m(\u001b[0m\u001b[1;34m'请输入你的名字'\u001b[0m\u001b[1;33m)\u001b[0m\u001b[1;33m\u001b[0m\u001b[0m\n\u001b[0;32m     28\u001b[0m \u001b[0mn\u001b[0m\u001b[1;33m=\u001b[0m\u001b[0minput\u001b[0m\u001b[1;33m(\u001b[0m\u001b[1;34m'请输入你的月份'\u001b[0m\u001b[1;33m)\u001b[0m\u001b[1;33m\u001b[0m\u001b[0m\n",
      "\u001b[1;31mUnboundLocalError\u001b[0m: local variable 'x' referenced before assignment"
     ]
    }
   ],
   "source": [
    "def fx():\n",
    "    if (n==1 and 21<=t<=31) or (n==2 and 1<=t<=19):\n",
    "        x=('你是非常有性格的水瓶座！')\n",
    "    elif(n==2 and 20<=t<=29) or (n==3 and 1<=t<=20):\n",
    "        x=('你是非常有性格的双鱼座！')\n",
    "    elif(n==3 and 21<=t<=31) or (n==4 and 1<=t<=20):\n",
    "        x=('你是非常有性格的白羊座！')\n",
    "    elif(n==4 and 21<=t<=30) or (n==5 and 1<=t<=21):\n",
    "        x=('你是非常有性格的金牛座！')\n",
    "    elif(n==5 and 22<=t<=31) or (n==6 and 1<=t<=21):\n",
    "        x=('你是非常有性格的双子座！')\n",
    "    elif(n==6 and 22<=t<=30) or (n==7 and 1<=t<=22):\n",
    "        x=('你是非常有性格的巨蟹座！')\n",
    "    elif(n==7 and 23<=t<=31) or (n==8 and 1<=t<=23):\n",
    "        x=('你是非常有性格的狮子座！')\n",
    "    elif(n==8 and 24<=t<=31) or (n==9 and 1<=t<=23):\n",
    "        x=('你是非常有性格的处女座！')\n",
    "    elif(n==9 and 24<=t<=30) or (n==10 and 1<=t<=23):\n",
    "        x=('你是非常有性格的天秤座！')\n",
    "    elif(n==10 and 24<=t<=31) or (n==11 and 1<=t<=22):\n",
    "        x=('你是非常有性格的天蝎座！')\n",
    "    elif(n==11 and 23<=t<=30) or (n==12 and 1<=t<=21):\n",
    "        x=('你是非常有性格的射手座！')\n",
    "    elif(n==12 and 22<=t<=31) or (n==1 and 1<=t<=20):\n",
    "        x=('你是非常有性格的摩羯座！')\n",
    "    return x\n",
    "m=input('请输入你的名字')\n",
    "n=input('请输入你的月份')\n",
    "t=input('请输入你的日期')\n",
    "fx()\n",
    "print(fx())\n",
    "        "
   ]
  },
  {
   "cell_type": "code",
   "execution_count": 10,
   "metadata": {},
   "outputs": [
    {
     "name": "stdout",
     "output_type": "stream",
     "text": [
      "请输入北京雾霾PM2.5数值，以回车结束。289\n",
      "重度污染，请避免外出。\n"
     ]
    }
   ],
   "source": [
    "def fx():\n",
    "    if 0<=M<=50:\n",
    "        Q=('天气这么好，出去逛逛吧！')  \n",
    "    elif 50<=M<=100:\n",
    "        Q=('天气好棒啊!')\n",
    "    elif 100<=M<=150:\n",
    "        Q=('轻度污染，可以外出。')\n",
    "    elif 150<=M<=200:\n",
    "        Q=('中度污染，注意保护自己。')\n",
    "    elif 200<=M<=300:\n",
    "        Q=('重度污染，请避免外出。')\n",
    "    elif M>=300:\n",
    "        Q=('空气严重污染，为了你的健康，请打开空气净化器，尽量不要外出！')\n",
    "    return Q\n",
    "M=int(input('请输入北京雾霾PM2.5数值，以回车结束。'))\n",
    "print(fx())"
   ]
  },
  {
   "cell_type": "code",
   "execution_count": 11,
   "metadata": {},
   "outputs": [
    {
     "name": "stdout",
     "output_type": "stream",
     "text": [
      "请输入第一个整数，以回车结束。6\n",
      "请输入第二个整数，要求它比第一个输入的整数小，以回车结束。4\n",
      "请输入第三个整数，要求其比输入的前两个数值之差要小，以回车结束。0\n",
      "6\n"
     ]
    }
   ],
   "source": [
    "def my_sum():\n",
    "    i=m\n",
    "    total=i\n",
    "    while m<=i<=n:\n",
    "        i=i+k\n",
    "        total=total+i\n",
    "    return total\n",
    "\n",
    "#主程序\n",
    "m=int(input('请输入第一个整数，以回车结束。'))\n",
    "n=int(input('请输入第二个整数，要求它比第一个输入的整数小，以回车结束。'))\n",
    "k=int(input('请输入第三个整数，要求其比输入的前两个数值之差要小，以回车结束。'))\n",
    "print(my_sum())"
   ]
  },
  {
   "cell_type": "code",
   "execution_count": null,
   "metadata": {
    "collapsed": true
   },
   "outputs": [],
   "source": []
  }
 ],
 "metadata": {
  "kernelspec": {
   "display_name": "Python 3",
   "language": "python",
   "name": "python3"
  },
  "language_info": {
   "codemirror_mode": {
    "name": "ipython",
    "version": 3
   },
   "file_extension": ".py",
   "mimetype": "text/x-python",
   "name": "python",
   "nbconvert_exporter": "python",
   "pygments_lexer": "ipython3",
   "version": "3.6.2"
  }
 },
 "nbformat": 4,
 "nbformat_minor": 2
}
