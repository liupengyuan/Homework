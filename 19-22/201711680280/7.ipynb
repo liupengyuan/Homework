{
 "cells": [
  {
   "cell_type": "code",
   "execution_count": 20,
   "metadata": {},
   "outputs": [
    {
     "name": "stdout",
     "output_type": "stream",
     "text": [
      "None\n"
     ]
    }
   ],
   "source": [
    "def reverse(s):\n",
    "    s=[1,2,3,4,5]\n",
    "    s.reverse()\n",
    "print(reverse(s))  "
   ]
  },
  {
   "cell_type": "code",
   "execution_count": 6,
   "metadata": {},
   "outputs": [
    {
     "name": "stdout",
     "output_type": "stream",
     "text": [
      "请输入行数6\n",
      "\n",
      "*\n",
      "**\n",
      "***\n",
      "****\n",
      "*****\n",
      "******\n"
     ]
    }
   ],
   "source": [
    "line='*'\n",
    "n=int(input('请输入行数'))\n",
    "for i in range(1,n+2):\n",
    "    for j in range(1,i):\n",
    "        print(line[0],end='')\n",
    "    print() \n",
    "    "
   ]
  },
  {
   "cell_type": "code",
   "execution_count": 7,
   "metadata": {},
   "outputs": [
    {
     "name": "stdout",
     "output_type": "stream",
     "text": [
      "请输入行数8\n",
      "        \n",
      "       &\n",
      "      &&\n",
      "     &&&\n",
      "    &&&&\n",
      "   &&&&&\n",
      "  &&&&&&\n",
      " &&&&&&&\n",
      "&&&&&&&&\n"
     ]
    }
   ],
   "source": [
    "line='&'\n",
    "m=int(input('请输入行数'))  \n",
    "for a in range(1,m+2):\n",
    "    for b in range(m+1-a,0,-1):\n",
    "        print(' ',end='')\n",
    "    for c in range(1,a):\n",
    "        print(line[0],end='')\n",
    "    print()    \n"
   ]
  },
  {
   "cell_type": "code",
   "execution_count": 19,
   "metadata": {},
   "outputs": [
    {
     "name": "stdout",
     "output_type": "stream",
     "text": [
      "请输入行数5\n",
      "     \n",
      "    角\n",
      "   角角\n",
      "  角角角\n",
      " 角角角角\n",
      "角角角角角\n"
     ]
    }
   ],
   "source": [
    "line='角'\n",
    "m=int(input('请输入行数'))  \n",
    "for a in range(1,m+2):\n",
    "    for b in range(m+1-a,0,-1):\n",
    "        print(' ',end='')\n",
    "    for c in range(1,a):\n",
    "        print(line[0],end='')\n",
    "    print()    \n"
   ]
  },
  {
   "cell_type": "code",
   "execution_count": 8,
   "metadata": {},
   "outputs": [
    {
     "name": "stdout",
     "output_type": "stream",
     "text": [
      "\n",
      "\n",
      "\n",
      "\n",
      "\n",
      "\n",
      "\n",
      "\n",
      "\n",
      "\n",
      "\n",
      "\n",
      "\n",
      "\n",
      "\n",
      "\n",
      "\n",
      "\n",
      "\n",
      "\n"
     ]
    }
   ],
   "source": [
    "line='#' \n",
    "for i in range(10):\n",
    "    for j in range(0,10-i):\n",
    "        print(end='')\n",
    "    for k in range(10-i,10):\n",
    "        print('',end='')\n",
    "    print() \n",
    "for i in range(10):\n",
    "    for j in range(0,i):\n",
    "        print(end='')\n",
    "    for j in range(i,10):\n",
    "        print('',end='')\n",
    "    print()"
   ]
  },
  {
   "cell_type": "code",
   "execution_count": null,
   "metadata": {
    "collapsed": true
   },
   "outputs": [],
   "source": [
    "   \n"
   ]
  },
  {
   "cell_type": "code",
   "execution_count": null,
   "metadata": {
    "collapsed": true
   },
   "outputs": [],
   "source": []
  },
  {
   "cell_type": "code",
   "execution_count": null,
   "metadata": {
    "collapsed": true
   },
   "outputs": [],
   "source": []
  },
  {
   "cell_type": "code",
   "execution_count": null,
   "metadata": {
    "collapsed": true
   },
   "outputs": [],
   "source": []
  },
  {
   "cell_type": "code",
   "execution_count": null,
   "metadata": {
    "collapsed": true
   },
   "outputs": [],
   "source": []
  },
  {
   "cell_type": "code",
   "execution_count": null,
   "metadata": {
    "collapsed": true
   },
   "outputs": [],
   "source": []
  }
 ],
 "metadata": {
  "kernelspec": {
   "display_name": "Python 3",
   "language": "python",
   "name": "python3"
  },
  "language_info": {
   "codemirror_mode": {
    "name": "ipython",
    "version": 3
   },
   "file_extension": ".py",
   "mimetype": "text/x-python",
   "name": "python",
   "nbconvert_exporter": "python",
   "pygments_lexer": "ipython3",
   "version": "3.6.2"
  }
 },
 "nbformat": 4,
 "nbformat_minor": 2
}
