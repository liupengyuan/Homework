{
 "cells": [
  {
   "cell_type": "code",
   "execution_count": 3,
   "metadata": {},
   "outputs": [
    {
     "name": "stdout",
     "output_type": "stream",
     "text": [
      "27\n"
     ]
    }
   ],
   "source": [
    "#练习2：仿照实践1，写出由用户指定整数个数，并由用户输入多个整数，并求和的代码\n",
    "numbers=[4,6,8,9]\n",
    "total=0\n",
    "for number in numbers: \n",
    "    total+=number\n",
    "print(total)      \n",
    "      \n",
    "\n",
    "\n",
    "\n",
    "\n"
   ]
  },
  {
   "cell_type": "code",
   "execution_count": 6,
   "metadata": {},
   "outputs": [
    {
     "name": "stdout",
     "output_type": "stream",
     "text": [
      "最终的和是： 630\n"
     ]
    }
   ],
   "source": [
    "n=[1,2,3]\n",
    "total_n=1\n",
    "for e in n:\n",
    "    total_n=total_n*e\n",
    "m=[4,5,6]\n",
    "total_m=1\n",
    "for f in m:\n",
    "    total_m=total_m*f\n",
    "k=[7,8,9]\n",
    "total_k=1\n",
    "for g in k:\n",
    "    total_k=total_k*g\n",
    "print('最终的和是：',total_n+total_m+total_k)    \n",
    "    "
   ]
  },
  {
   "cell_type": "code",
   "execution_count": null,
   "metadata": {
    "collapsed": true
   },
   "outputs": [],
   "source": []
  },
  {
   "cell_type": "code",
   "execution_count": 7,
   "metadata": {},
   "outputs": [
    {
     "name": "stdout",
     "output_type": "stream",
     "text": [
      "请输入一个整数，回车结束。6\n",
      "-1\n"
     ]
    }
   ],
   "source": [
    "#写函数，返回某个元素/对象在一个list中的位置，如果不在，则返回-1\n",
    "numbers=[]  \n",
    "n=int(input('请输入一个整数，回车结束。'))\n",
    "\n",
    "if n in numbers:\n",
    "    print('n={位置}'.format(变量))\n",
    "else:\n",
    "    print (-1)\n",
    "    "
   ]
  },
  {
   "cell_type": "code",
   "execution_count": 14,
   "metadata": {},
   "outputs": [
    {
     "name": "stdout",
     "output_type": "stream",
     "text": [
      "请输入一个整数，以回车结束。2\n",
      "请输入一个整数，以回车结束。4\n",
      "请输入一个整数，以回车结束。6\n",
      "请输入一个整数，以回车结束。9\n",
      "a=0,c=1,b=2,d=3\n",
      "a=0,c=1,b=2,d=3\n",
      "a=0,c=1,b=2,d=3\n",
      "numbers3=[a,c,b,d]\n",
      "a=0,c=1,b=2,d=3\n",
      "a=0,c=1,b=2,d=3\n",
      "a=0,c=1,b=2,d=3\n",
      "numbers3=[a,c,b,d]\n"
     ]
    }
   ],
   "source": [
    "#写函数，可将两个相同长度的list，间隔插入，生成新的list。例如：给两个list，a=[1,2,3,4], b=[5,6,7,8]。则可以生成：[1,5,2,6,3,7,4,8]。\n",
    "a=int(input('请输入一个整数，以回车结束。'))\n",
    "b=int(input('请输入一个整数，以回车结束。'))\n",
    "c=int(input('请输入一个整数，以回车结束。'))\n",
    "d=int(input('请输入一个整数，以回车结束。'))\n",
    "numbers1=[a,b]\n",
    "numbers2=[c,d]\n",
    "for i in range(a,b):\n",
    "    for j in range(c,d):\n",
    "        print('a={0},c={1},b={2},d={3}'.format(0,1,2,3))\n",
    "    print('numbers3=[a,c,b,d]')   \n",
    "\n",
    "        \n"
   ]
  },
  {
   "cell_type": "code",
   "execution_count": 33,
   "metadata": {},
   "outputs": [
    {
     "name": "stdout",
     "output_type": "stream",
     "text": [
      "请输入一个整数2\n",
      "请输入一个整数5\n",
      "请输入一个整数7\n",
      "请输入一个整数6\n",
      "-1.5577565614007716\n"
     ]
    }
   ],
   "source": [
    "#写函数，可求两个向量的夹角余弦值，向量可放在list中。主程序调用该函数。\n",
    "a=int(input('请输入一个整数'))\n",
    "b=int(input('请输入一个整数'))\n",
    "c=int(input('请输入一个整数'))\n",
    "d=int(input('请输入一个整数'))\n",
    "n=(a,b)\n",
    "m=(c,d)\n",
    "t=a*d-b*c\n",
    "f=((a+b)**2+(c+d)**2)**(1/2)\n",
    "cos=t/f\n",
    "print(cos)\n",
    "                        "
   ]
  },
  {
   "cell_type": "code",
   "execution_count": 34,
   "metadata": {},
   "outputs": [
    {
     "name": "stdout",
     "output_type": "stream",
     "text": [
      "12\n"
     ]
    }
   ],
   "source": [
    "#挑战性习题：python语言老师为了激励学生学python，自费买了100个完全相同的Macbook Pro，分给三个班级，每个班级至少分5个，用穷举法计算共有多少种分\n",
    "class1=m\n",
    "class2=n\n",
    "class3=k\n",
    "i=0\n",
    "total=0\n",
    "m=5\n",
    "n=5\n",
    "k=5\n",
    "k=100-m-n\n",
    "m+=1\n",
    "n=5\n",
    "k=5\n",
    "i+=1\n",
    "t=3*i\n",
    "m+=1\n",
    "n+=1\n",
    "k=5\n",
    "i+=1\n",
    "f=3*i\n",
    "m+=1\n",
    "n+=1\n",
    "k+=1\n",
    "i+=1\n",
    "g=i\n",
    "num=t+f+g\n",
    "print(num)\n",
    "    \n",
    "    \n",
    "\n"
   ]
  },
  {
   "cell_type": "code",
   "execution_count": null,
   "metadata": {
    "collapsed": true
   },
   "outputs": [],
   "source": []
  },
  {
   "cell_type": "code",
   "execution_count": null,
   "metadata": {
    "collapsed": true
   },
   "outputs": [],
   "source": []
  },
  {
   "cell_type": "code",
   "execution_count": null,
   "metadata": {
    "collapsed": true
   },
   "outputs": [],
   "source": []
  }
 ],
 "metadata": {
  "kernelspec": {
   "display_name": "Python 3",
   "language": "python",
   "name": "python3"
  },
  "language_info": {
   "codemirror_mode": {
    "name": "ipython",
    "version": 3
   },
   "file_extension": ".py",
   "mimetype": "text/x-python",
   "name": "python",
   "nbconvert_exporter": "python",
   "pygments_lexer": "ipython3",
   "version": "3.6.2"
  }
 },
 "nbformat": 4,
 "nbformat_minor": 2
}
