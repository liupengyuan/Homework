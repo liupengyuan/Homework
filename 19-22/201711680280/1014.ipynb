{
 "cells": [
  {
   "cell_type": "code",
   "execution_count": 6,
   "metadata": {},
   "outputs": [
    {
     "name": "stdout",
     "output_type": "stream",
     "text": [
      "5.8\n",
      "5.8\n",
      "106.72999999999999\n"
     ]
    }
   ],
   "source": [
    "numbers=[1,2,-1,55,100,899,-10,3,12.5,5.8]\n",
    "\n",
    "# for循环实现累加\n",
    "total = 0\n",
    "\n",
    "for number in numbers:\n",
    "    total += number\n",
    "    m=number\n",
    "    n=number\n",
    "while m>n:\n",
    "    max_number=m\n",
    "    min_number=n\n",
    "print(m)\n",
    "print(n)\n",
    "print(total/10)\n",
    "         "
   ]
  },
  {
   "cell_type": "code",
   "execution_count": null,
   "metadata": {
    "collapsed": true
   },
   "outputs": [],
   "source": []
  },
  {
   "cell_type": "code",
   "execution_count": null,
   "metadata": {
    "collapsed": true
   },
   "outputs": [],
   "source": []
  }
 ],
 "metadata": {
  "kernelspec": {
   "display_name": "Python 3",
   "language": "python",
   "name": "python3"
  },
  "language_info": {
   "codemirror_mode": {
    "name": "ipython",
    "version": 3
   },
   "file_extension": ".py",
   "mimetype": "text/x-python",
   "name": "python",
   "nbconvert_exporter": "python",
   "pygments_lexer": "ipython3",
   "version": "3.6.2"
  }
 },
 "nbformat": 4,
 "nbformat_minor": 2
}
