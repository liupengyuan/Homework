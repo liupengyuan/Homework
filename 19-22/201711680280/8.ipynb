{
 "cells": [
  {
   "cell_type": "code",
   "execution_count": 12,
   "metadata": {},
   "outputs": [
    {
     "name": "stdout",
     "output_type": "stream",
     "text": [
      "\n"
     ]
    }
   ],
   "source": [
    "def main():\n",
    "    filename = r'c:\\idioms_correct.txt\\idioms_correct.txt.txt'\n",
    "    s=0\n",
    "    idioms=[]\n",
    "    while s<=10:\n",
    "        real_idiom=idiom_robot(filename_name)\n",
    "        first.idiom_people=m\n",
    "        m=int(input('请输入一个成语'))\n",
    "        second.idiom_robot=n\n",
    "        for n in filename:\n",
    "            m[3]==n[0]\n",
    "            s+=1\n",
    "        break\n",
    "print()\n",
    "       \n",
    "        \n",
    "    "
   ]
  },
  {
   "cell_type": "code",
   "execution_count": null,
   "metadata": {
    "collapsed": true
   },
   "outputs": [],
   "source": []
  }
 ],
 "metadata": {
  "kernelspec": {
   "display_name": "Python 3",
   "language": "python",
   "name": "python3"
  },
  "language_info": {
   "codemirror_mode": {
    "name": "ipython",
    "version": 3
   },
   "file_extension": ".py",
   "mimetype": "text/x-python",
   "name": "python",
   "nbconvert_exporter": "python",
   "pygments_lexer": "ipython3",
   "version": "3.6.2"
  }
 },
 "nbformat": 4,
 "nbformat_minor": 2
}
