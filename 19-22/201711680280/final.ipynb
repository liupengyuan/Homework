{
 "cells": [
  {
   "cell_type": "code",
   "execution_count": null,
   "metadata": {},
   "outputs": [],
   "source": [
    "line = '*****'\n",
    "for i in range(1, len(line)*2+1):\n",
    "    for k in range(len(line)*2-i,0,-1):\n",
    "        print(' ', end='')\n",
    "    for j in range(1,i):\n",
    "        print(line[0], end='')\n",
    "        for m in range(1,len(line)):\n",
    "            for n in range(1,len(line)):\n",
    "                m=n\n",
    "                print('',end='')\n",
    "                for t in range(1,len(line)*2+1):\n",
    "                    for f in range(len(line)*2,-i,-1):\n",
    "                        print('',end='')\n",
    "                        for b in range(i,1,-1):\n",
    "                            print(line[0],end='')\n",
    "            print()\n",
    "    "
   ]
  },
  {
   "cell_type": "code",
   "execution_count": 1,
   "metadata": {},
   "outputs": [
    {
     "ename": "SyntaxError",
     "evalue": "can't assign to function call (<ipython-input-1-95e205525630>, line 7)",
     "output_type": "error",
     "traceback": [
      "\u001b[1;36m  File \u001b[1;32m\"<ipython-input-1-95e205525630>\"\u001b[1;36m, line \u001b[1;32m7\u001b[0m\n\u001b[1;33m    A(m,n)=A(m-1,1)\u001b[0m\n\u001b[1;37m    ^\u001b[0m\n\u001b[1;31mSyntaxError\u001b[0m\u001b[1;31m:\u001b[0m can't assign to function call\n"
     ]
    }
   ],
   "source": [
    "  def A(m,n):  \n",
    "    m=int(input('请输入一个整数，回车结束。'))\n",
    "    n=int(input('请输入一个整数，回车结束。'))\n",
    "    if m==0:\n",
    "        A(m,n)=n+1\n",
    "    elif m>0 and n==0:\n",
    "        A(m,n)=A(m-1,1)\n",
    "    else:\n",
    "        m>0 and n>0\n",
    "        A(m,n)=A(m-1,A(m,n-1))\n",
    "        print(A(m,n))\n",
    "        \n",
    "        "
   ]
  },
  {
   "cell_type": "code",
   "execution_count": 2,
   "metadata": {},
   "outputs": [
    {
     "name": "stdout",
     "output_type": "stream",
     "text": [
      "请用户输入所有答案23,43,45,56,78,89,121,23,46,86,66,49,19,23,42\n"
     ]
    },
    {
     "ename": "ValueError",
     "evalue": "invalid literal for int() with base 10: '23,43,45,56,78,89,121,23,46,86,66,49,19,23,42'",
     "output_type": "error",
     "traceback": [
      "\u001b[1;31m---------------------------------------------------------------------------\u001b[0m",
      "\u001b[1;31mValueError\u001b[0m                                Traceback (most recent call last)",
      "\u001b[1;32m<ipython-input-2-b296a824cba3>\u001b[0m in \u001b[0;36m<module>\u001b[1;34m()\u001b[0m\n\u001b[0;32m     13\u001b[0m         \u001b[0mprint\u001b[0m\u001b[1;33m(\u001b[0m\u001b[0mf\u001b[0m\u001b[1;33m)\u001b[0m\u001b[1;33m\u001b[0m\u001b[0m\n\u001b[0;32m     14\u001b[0m \u001b[1;33m\u001b[0m\u001b[0m\n\u001b[1;32m---> 15\u001b[1;33m \u001b[0mm\u001b[0m\u001b[1;33m=\u001b[0m\u001b[0mint\u001b[0m\u001b[1;33m(\u001b[0m\u001b[0minput\u001b[0m\u001b[1;33m(\u001b[0m\u001b[1;34m'请用户输入所有答案'\u001b[0m\u001b[1;33m)\u001b[0m\u001b[1;33m)\u001b[0m\u001b[1;33m\u001b[0m\u001b[0m\n\u001b[0m\u001b[0;32m     16\u001b[0m \u001b[0mtotal\u001b[0m\u001b[1;33m=\u001b[0m\u001b[1;36m0\u001b[0m\u001b[1;33m\u001b[0m\u001b[0m\n\u001b[0;32m     17\u001b[0m \u001b[1;32mwhile\u001b[0m \u001b[1;36m0\u001b[0m\u001b[1;33m<=\u001b[0m\u001b[0mt\u001b[0m\u001b[1;33m<=\u001b[0m\u001b[1;36m15\u001b[0m\u001b[1;33m:\u001b[0m\u001b[1;33m\u001b[0m\u001b[0m\n",
      "\u001b[1;31mValueError\u001b[0m: invalid literal for int() with base 10: '23,43,45,56,78,89,121,23,46,86,66,49,19,23,42'"
     ]
    }
   ],
   "source": [
    "import random\n",
    "\n",
    "def test():\n",
    "    i=0\n",
    "    while i<15:\n",
    "        number1 = random.randint(3, 25)\n",
    "        number2=random.randint(3,25)\n",
    "        n=random.randint('+','-')\n",
    "        m=random.randint('*','/')\n",
    "        t=number1+'n'+number2\n",
    "        f=number1+'m'+number2\n",
    "        print(t)\n",
    "        print(f)\n",
    "\n",
    "m=int(input('请用户输入所有答案'))\n",
    "total=0\n",
    "while 0<=t<=15:\n",
    "    total=total+5*t\n",
    "while 0<=f<=15:\n",
    "    total=total+10*t\n",
    "    print(total)\n",
    "    "
   ]
  },
  {
   "cell_type": "code",
   "execution_count": 3,
   "metadata": {},
   "outputs": [
    {
     "ename": "SyntaxError",
     "evalue": "invalid syntax (<ipython-input-3-333c7a89fb85>, line 2)",
     "output_type": "error",
     "traceback": [
      "\u001b[1;36m  File \u001b[1;32m\"<ipython-input-3-333c7a89fb85>\"\u001b[1;36m, line \u001b[1;32m2\u001b[0m\n\u001b[1;33m    with  open(C:\\idioms_correct.txt) as f:\u001b[0m\n\u001b[1;37m                ^\u001b[0m\n\u001b[1;31mSyntaxError\u001b[0m\u001b[1;31m:\u001b[0m invalid syntax\n"
     ]
    }
   ],
   "source": [
    "\n",
    "with  open(C:\\idioms_correct.txt) as f:\n",
    "    A=[]\n",
    "    for i in f:\n",
    "        if len(i)==4:\n",
    "            A.append(i)\n",
    "            print(A)\n",
    "def count_words_freq(utf_8, words):\n",
    "    word_freq_pairs = []\n",
    "    with open(utf_8) as f:\n",
    "        text = f.read()\n",
    "    for word in words:\n",
    "        number = text.count(word)\n",
    "        word_freq_pairs.append([word, number])\n",
    "    return word_freq_pairs\n",
    "\n",
    "words_freq = count_words_freq(f, words)\n",
    "\n",
    "print(words_freq[:20])\n",
    "\n",
    "def count_words_freq(f, words):\n",
    "    word_freq_pairs = []\n",
    "    with open(utf_8) as f:\n",
    "        text = f.read()\n",
    "    for word in words:\n",
    "        number = text.count(ns)\n",
    "        word_freq_pairs.append([word, number])\n",
    "    return word_freq_pairs\n",
    "def count_words_freq(utf_8, words):\n",
    "    word_freq_pairs = []\n",
    "    with open(C:\\idioms_correct.txt) as f:\n",
    "        text = f.read()\n",
    "    for word in words:\n",
    "        number = text.count(v)\n",
    "        word_freq_pairs.append([word, number])\n",
    "    return word_freq_pairs\n",
    "    print(word_freq_pairs)\n",
    "    \n",
    "from collections import defaultdict\n",
    "\n",
    "ch_table = defaultdict(nr)\n",
    "for word, f in word_table.items():\n",
    "    for ch in word:\n",
    "        ch_table[ch] += f\n",
    "\n",
    "for ch, f in ch_table.items():\n",
    "    print(ch, f, sep=':', end='|')\n",
    "\n",
    "with  open(r'd:\\temp\\语料库.txt') as fw:\n",
    "    B=[]\n",
    "    for n in f:\n",
    "        B=B.append(n)\n",
    "        a=len(f)\n",
    "        b=len(A)\n",
    "        c=len(fw)\n",
    "        d=len(B)\n",
    "        print(a)\n",
    "        print(b)\n",
    "        print(c)\n",
    "        print(d)"
   ]
  },
  {
   "cell_type": "code",
   "execution_count": 4,
   "metadata": {},
   "outputs": [
    {
     "ename": "SyntaxError",
     "evalue": "invalid syntax (<ipython-input-4-8446cffd3e81>, line 6)",
     "output_type": "error",
     "traceback": [
      "\u001b[1;36m  File \u001b[1;32m\"<ipython-input-4-8446cffd3e81>\"\u001b[1;36m, line \u001b[1;32m6\u001b[0m\n\u001b[1;33m    fh= open(C:\\idioms_correct.txt)\u001b[0m\n\u001b[1;37m              ^\u001b[0m\n\u001b[1;31mSyntaxError\u001b[0m\u001b[1;31m:\u001b[0m invalid syntax\n"
     ]
    }
   ],
   "source": [
    "\n",
    "import random\n",
    "\n",
    "idiom = '万马奔腾'          \n",
    "\n",
    "fh= open(C:\\idioms_correct.txt)\n",
    "A=f\n",
    "text = fh.read()\n",
    "chs = get_ch_table(text.replace('\\n', ''))\n",
    "\n",
    "guess_ch_table = [ch for ch in idiom]\n",
    "while len(guess_ch_table) <=2:\n",
    "    ch = random.choice(ch)\n",
    "\n",
    "    guess_ch_table = [ch for ch in idiom]\n",
    "    while 3<len(guess_ch_table)<5:\n",
    "        ch = random.choice(chs)\n",
    "        if ch not in guess_ch_table:\n",
    "            guess_ch_table.append(ch)\n",
    "    \n",
    "    random.shuffle(guess_ch_table)\n",
    "    return idiom\n",
    "\n",
    "def main():\n",
    "    filename = C:\\idioms_correct.txt\n",
    "    answer_people=int(input('请用户输入一个成语'))\n",
    "    len(answer_people)=4\n",
    "    for answer_robot in fh:\n",
    "        len(answer_robot)=2\n",
    "        answer_people[3]=answer_robot[0]\n",
    "        answer_robot[1]=answer_people[0]\n",
    "        while len(answer_people)==len(answer_robot):\n",
    "            break\n",
    "        \n",
    "        "
   ]
  },
  {
   "cell_type": "code",
   "execution_count": null,
   "metadata": {
    "collapsed": true
   },
   "outputs": [],
   "source": []
  }
 ],
 "metadata": {
  "kernelspec": {
   "display_name": "Python 3",
   "language": "python",
   "name": "python3"
  },
  "language_info": {
   "codemirror_mode": {
    "name": "ipython",
    "version": 3
   },
   "file_extension": ".py",
   "mimetype": "text/x-python",
   "name": "python",
   "nbconvert_exporter": "python",
   "pygments_lexer": "ipython3",
   "version": "3.6.2"
  }
 },
 "nbformat": 4,
 "nbformat_minor": 2
}
