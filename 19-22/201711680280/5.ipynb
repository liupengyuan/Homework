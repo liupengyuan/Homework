{
 "cells": [
  {
   "cell_type": "code",
   "execution_count": 60,
   "metadata": {},
   "outputs": [
    {
     "name": "stdout",
     "output_type": "stream",
     "text": [
      "请输入一个整数，以回车结束。3\n",
      "请输入一个整数，以回车结束。2\n",
      "请输入一个整数，以回车结束。6\n",
      "3\n",
      "3\n",
      "3\n",
      "1.7320508075688772\n"
     ]
    }
   ],
   "source": [
    "n=int(input('请输入一个整数，以回车结束。'))\n",
    "m=int(input('请输入一个整数，以回车结束。'))\n",
    "k=int(input('请输入一个整数，以回车结束。'))\n",
    "import random\n",
    "number=random.randint(m,k)\n",
    "sum_times=n\n",
    "guess_times=0\n",
    "total=0\n",
    "while guess_times<n:\n",
    "    guess_times+=1\n",
    "    print(number)\n",
    "    total=total+number\n",
    "    t=total/n\n",
    "    a=t**(1/2)\n",
    "    \n",
    "print (a)\n",
    "\n",
    "    "
   ]
  },
  {
   "cell_type": "code",
   "execution_count": 7,
   "metadata": {},
   "outputs": [
    {
     "name": "stdout",
     "output_type": "stream",
     "text": [
      "请输入一个随机整数2\n",
      "请输入一个随机整数3\n",
      "请输入一个随机整数9\n",
      "4\n",
      "4\n",
      "4\n",
      "1.3862943611198906\n",
      "0.7213475204444817\n"
     ]
    }
   ],
   "source": [
    "m=int(input('请输入一个随机整数'))\n",
    "n=int(input('请输入一个随机整数'))\n",
    "k=int(input('请输入一个随机整数'))\n",
    "import random,math\n",
    "num=random.randint(m,k)\n",
    "sum_times=n\n",
    "guess_times=0\n",
    "while guess_times<n:\n",
    "    guess_times+=1\n",
    "    print(num)\n",
    "a=math.log(num) \n",
    "b=1/math.log(num)\n",
    "\n",
    "print(a)\n",
    "print(b)"
   ]
  },
  {
   "cell_type": "code",
   "execution_count": 62,
   "metadata": {},
   "outputs": [
    {
     "name": "stdout",
     "output_type": "stream",
     "text": [
      "4\n",
      "请输入随机整数个数8\n",
      "444444\n"
     ]
    }
   ],
   "source": [
    "\n",
    "import random\n",
    "a=random.randint(1,9)\n",
    "print(a)\n",
    "number=m\n",
    "i=0\n",
    "s=0\n",
    "while i<=m:\n",
    "    i+=1\n",
    "    s=s+a*(10**(i-1))\n",
    "m=int(input('请输入随机整数个数'))\n",
    "print(s)\n",
    "    \n",
    "    \n",
    "    "
   ]
  },
  {
   "cell_type": "markdown",
   "metadata": {
    "collapsed": true
   },
   "source": []
  },
  {
   "cell_type": "code",
   "execution_count": null,
   "metadata": {
    "collapsed": true
   },
   "outputs": [],
   "source": []
  }
 ],
 "metadata": {
  "kernelspec": {
   "display_name": "Python 3",
   "language": "python",
   "name": "python3"
  },
  "language_info": {
   "codemirror_mode": {
    "name": "ipython",
    "version": 3
   },
   "file_extension": ".py",
   "mimetype": "text/x-python",
   "name": "python",
   "nbconvert_exporter": "python",
   "pygments_lexer": "ipython3",
   "version": "3.6.2"
  }
 },
 "nbformat": 4,
 "nbformat_minor": 2
}
