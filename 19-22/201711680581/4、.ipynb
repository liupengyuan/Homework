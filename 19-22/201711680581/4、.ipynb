{
 "cells": [
  {
   "cell_type": "code",
   "execution_count": 4,
   "metadata": {},
   "outputs": [
    {
     "name": "stdout",
     "output_type": "stream",
     "text": [
      "请输入一个整数，回车结束。2\n",
      "请输入另一个整数，回车结束。3\n",
      "请输入另另个整数，回车结束。4\n",
      "他们的和为 32\n"
     ]
    }
   ],
   "source": [
    "def my_mul(emmm):\n",
    "    i=0\n",
    "    total=1\n",
    "    \n",
    "    while i<emmm:\n",
    "        i=i+1\n",
    "        total=total*i\n",
    "    \n",
    "    return total\n",
    "\n",
    "m=int(input('请输入一个整数，回车结束。'))\n",
    "n=int(input('请输入另一个整数，回车结束。'))\n",
    "k=int(input('请输入另另个整数，回车结束。'))\n",
    "\n",
    "print('他们的和为',my_mul(m)+my_mul(n)+my_mul(k))"
   ]
  },
  {
   "cell_type": "code",
   "execution_count": 1,
   "metadata": {},
   "outputs": [
    {
     "name": "stdout",
     "output_type": "stream",
     "text": [
      "3.140592653839794\n",
      "3.1414926535900345\n"
     ]
    }
   ],
   "source": [
    "def my_max(n):\n",
    "    i=0\n",
    "    total=0\n",
    "    while i<n:\n",
    "        i=i+1\n",
    "        if i%2==1:\n",
    "            total=total+1/(2*i-1)\n",
    "        elif i%2==0:\n",
    "            total=total-1/(2*i-1)\n",
    "    return total\n",
    "print(4*my_max(1000))\n",
    "print(4*my_max(10000))\n",
    "            "
   ]
  },
  {
   "cell_type": "code",
   "execution_count": 6,
   "metadata": {},
   "outputs": [
    {
     "name": "stdout",
     "output_type": "stream",
     "text": [
      "请输入你的名字:hk\n",
      "请输入你的出生月:10\n",
      "请输入你的出生日:18\n",
      "hk ，你是非常有性格的天秤座！\n"
     ]
    }
   ],
   "source": [
    "def birthday(month,day):\n",
    "    if (month==3 and day>=21 and day<=31) or (month==4 and day>=1 and day<=19):\n",
    "        print(name,'，你是非常有性格的白羊座！')\n",
    "    elif (month==4 and day>=20 and day<=28) or (month==5 and day>=1 and day<=20):\n",
    "        print(name,'，你是非常有性格的金牛座！')\n",
    "    elif (month==5 and day>=21 and day<=31) or (month==6 and day>=1 and day<=21):\n",
    "        print(name,'，你是非常有性格的双子座！')\n",
    "    elif (month==6 and day>=22 and day<=30) or (month==7 and day>=1 and day<=22):\n",
    "        print(name,'，你是非常有性格的巨蟹座！')\n",
    "    elif (month==7 and day>=23 and day<=31) or (month==8 and day>=1 and day<=22):\n",
    "        print(name,'，你是非常有性格的狮子座！')\n",
    "    elif (month==8 and day>=23 and day<=31) or (month==9 and day>=1 and day<=22):\n",
    "        print(name,'，你是非常有性格的处女座！')\n",
    "    elif (month==9 and day>=22 and day<=30) or (month==10 and day>=1 and day<=23):\n",
    "        print(name,'，你是非常有性格的天秤座！')\n",
    "    elif (month==10 and day>=22 and day<=31) or (month==11 and day>=1 and day<=22):\n",
    "        print(name,'，你是非常有性格的天蝎座！')\n",
    "    elif (month==11 and day>=22 and day<=30) or (month==12 and day>=1 and day<=21):\n",
    "         print(name,'，你是非常有性格的射手座！')\n",
    "    elif (month==1 and day>=20 and day<=31) or (month==2 and day>=1 and day<=18):\n",
    "         print(name,'，你是非常有性格的水瓶座！')\n",
    "    elif (month==2 and day>=19 and day<=30) or (month==3 and day>=1 and day<=20):\n",
    "         print(name,'，你是非常有性格的双鱼座！')\n",
    "    elif (month==12 and day>=22 and day<=31) or (month==1 and day>=1 and day<=19):\n",
    "         print(name,'，你是非常有性格的摩羯座！')\n",
    "    else:\n",
    "         print('非法输入')\n",
    "            \n",
    "name=input('请输入你的名字:')\n",
    "month=int(input('请输入你的出生月:'))\n",
    "day=int(input('请输入你的出生日:'))\n",
    "birthday(month,day)"
   ]
  },
  {
   "cell_type": "code",
   "execution_count": 5,
   "metadata": {},
   "outputs": [
    {
     "name": "stdout",
     "output_type": "stream",
     "text": [
      "请输入一个单词leaf\n",
      "去f或fe加ves\n"
     ]
    }
   ],
   "source": [
    "def some_letter(emmm):\n",
    "    if emmm.endswith('s'or'ch'or'sh'or'x'):\n",
    "        print (emmm+'es')\n",
    "    elif emmm.endswith('f'or'fe'):\n",
    "        print('去f或fe加ves')\n",
    "    elif emmm.endswith('y'):\n",
    "        print('去y加ies')\n",
    "    else:\n",
    "        print(emmm+'s')\n",
    "emmm=input('请输入一个单词')\n",
    "some_letter(emmm)\n"
   ]
  },
  {
   "cell_type": "code",
   "execution_count": 2,
   "metadata": {},
   "outputs": [
    {
     "name": "stdout",
     "output_type": "stream",
     "text": [
      "请输入一个整数5\n",
      "输入另一个整数20\n",
      "再输一个整数5\n"
     ]
    },
    {
     "data": {
      "text/plain": [
       "50"
      ]
     },
     "execution_count": 2,
     "metadata": {},
     "output_type": "execute_result"
    }
   ],
   "source": [
    "def my_com(end):\n",
    "    i=m\n",
    "    total=m\n",
    "    while i<n:\n",
    "        i=i+k\n",
    "        total=total+i\n",
    "    if i+k>n:\n",
    "        total=total\n",
    "    elif i+k==n:\n",
    "        total=total+n\n",
    "    elif i+k<n:\n",
    "        total=total+i\n",
    "    return total\n",
    "    \n",
    "m=int(input('请输入一个整数'))\n",
    "n=int(input('输入另一个整数'))\n",
    "k=int(input('再输一个整数'))\n",
    "my_com(m)"
   ]
  },
  {
   "cell_type": "code",
   "execution_count": null,
   "metadata": {},
   "outputs": [],
   "source": []
  }
 ],
 "metadata": {
  "kernelspec": {
   "display_name": "Python 3",
   "language": "python",
   "name": "python3"
  },
  "language_info": {
   "codemirror_mode": {
    "name": "ipython",
    "version": 3
   },
   "file_extension": ".py",
   "mimetype": "text/x-python",
   "name": "python",
   "nbconvert_exporter": "python",
   "pygments_lexer": "ipython3",
   "version": "3.5.2"
  }
 },
 "nbformat": 4,
 "nbformat_minor": 2
}
