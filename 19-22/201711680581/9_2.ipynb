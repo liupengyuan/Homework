{
 "cells": [
  {
   "cell_type": "code",
   "execution_count": null,
   "metadata": {},
   "outputs": [],
   "source": [
    "#随机生成1万个整数，范围在0-10万之间，求其中每个整数出现的次数。并按照整数大小排序输出整数及出现次数。\n",
    "import random\n",
    "num_1=[]\n",
    "for i in range(10000):\n",
    "    number=random.randint(0,100000)\n",
    "    num_1.append(number)\n",
    "num_1.sort()\n",
    "num_2={}\n",
    "for i in num_1:\n",
    "    if i in num_2:\n",
    "        num_2[i]=num_2[i]+1\n",
    "    else:\n",
    "        num_2[i]=1\n",
    "print(i,num_2)\n"
   ]
  },
  {
   "cell_type": "code",
   "execution_count": 16,
   "metadata": {},
   "outputs": [
    {
     "ename": "IndentationError",
     "evalue": "expected an indented block (<ipython-input-16-42f17213fc46>, line 4)",
     "output_type": "error",
     "traceback": [
      "\u001b[1;36m  File \u001b[1;32m\"<ipython-input-16-42f17213fc46>\"\u001b[1;36m, line \u001b[1;32m4\u001b[0m\n\u001b[1;33m    def result(filename1):\u001b[0m\n\u001b[1;37m      ^\u001b[0m\n\u001b[1;31mIndentationError\u001b[0m\u001b[1;31m:\u001b[0m expected an indented block\n"
     ]
    }
   ],
   "source": [
    "#对本任务中的语料.txt文件，抽取其5001-10000行存为test1.txt文件，写函数，\n",
    "#可得到其与本任务中test.txt文件的共用字以及独用字（相关概念自行百度）。\n",
    "with open(r'C:\\temp\\语料.txt') as x,open(r'C:\\temp\\test1.txt') as y:\n",
    "def result(filename1):\n",
    "    words=[]\n",
    "    with open(filename1) as a:\n",
    "        for line in a:\n",
    "             words = {word.split('/')[0] for word in line.split()}\n",
    "    return words\n",
    "def result(filename2):\n",
    "    words=[]\n",
    "    with open(filename2) as b:\n",
    "        for line in b:\n",
    "            words = {word.split('/')[0] for word in line.split()}\n",
    "    return words\n",
    "filename1 = r'd:\\temp\\语料.txt'\n",
    "filename2 = r'd:\\temp\\test1.txt'\n",
    "print('共用字为',result2(filename2) &compute(filename))\n",
    "print('独用字为',result1(filename1)-compute(filename))"
   ]
  }
 ],
 "metadata": {
  "kernelspec": {
   "display_name": "Python 3",
   "language": "python",
   "name": "python3"
  }
 },
 "nbformat": 4,
 "nbformat_minor": 2
}
