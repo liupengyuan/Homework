{
 "cells": [
  {
   "cell_type": "code",
   "execution_count": 3,
   "metadata": {
    "collapsed": false
   },
   "outputs": [
    {
     "name": "stdout",
     "output_type": "stream",
     "text": [
      "请输入一个整数5\n",
      "请输入另一个整数2\n",
      "27\n"
     ]
    }
   ],
   "source": [
    "def my_sum(emmm):\n",
    "    i=0\n",
    "    total=0\n",
    "    while i<=emmm:\n",
    "        i=i+1\n",
    "        total=total+i\n",
    "    return total\n",
    "def my_mul(emmm):\n",
    "    i=0\n",
    "    total=1\n",
    "    while i<=emmm:\n",
    "        i=i+1\n",
    "        total=total*i\n",
    "    return total\n",
    "m=int(input('请输入一个整数'))\n",
    "n=int(input('请输入另一个整数'))\n",
    "if m>n:\n",
    "    print(my_sum(m)+my_sum(n))\n",
    "if m<=n:\n",
    "    print(my_mul(m)+my_mul(n))\n"
   ]
  },
  {
   "cell_type": "code",
   "execution_count": null,
   "metadata": {
    "collapsed": true
   },
   "outputs": [],
   "source": []
  }
 ],
 "metadata": {
  "kernelspec": {
   "display_name": "Python 3",
   "language": "python",
   "name": "python3"
  }
 },
 "nbformat": 4,
 "nbformat_minor": 2
}
