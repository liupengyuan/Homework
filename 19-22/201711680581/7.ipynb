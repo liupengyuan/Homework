{
 "cells": [
  {
   "cell_type": "code",
   "execution_count": 4,
   "metadata": {},
   "outputs": [
    {
     "name": "stdout",
     "output_type": "stream",
     "text": [
      "请输入你想颠倒的字符串123\n",
      "321\n"
     ]
    }
   ],
   "source": [
    "#练习一：自己定义一个reverse(s)函数，功能返回字符串s的倒序字符串。\n",
    "s=input('请输入你想颠倒的字符串')\n",
    "def reverse(s):\n",
    "    print(s[len(s)::-1])    \n",
    "reverse(s)\n"
   ]
  },
  {
   "cell_type": "code",
   "execution_count": 27,
   "metadata": {},
   "outputs": [
    {
     "name": "stdout",
     "output_type": "stream",
     "text": [
      "请输入你想要的符号3\n",
      "请输入你想要的行数3\n",
      "这是您要的直角三角形图案\n",
      " 3  \n",
      " 3 3 \n",
      " 3 3 3\n",
      "这是您要的等腰三角形图案\n",
      "   3\n",
      "  3 3\n",
      " 3 3 3\n",
      "这是您要的其他三角形图案\n",
      "      3\n",
      "    3  3\n",
      "  3  3  3\n"
     ]
    }
   ],
   "source": [
    "#练习二：写函数，根据给定符号和行数，打印相应直角三角形，等腰三角形及其他形式的三角形。\n",
    "x=input('请输入你想要的符号')\n",
    "y=int(input('请输入你想要的行数'))\n",
    "\n",
    "def emm(x,y):\n",
    "    print('这是您要的直角三角形图案')\n",
    "    i=0\n",
    "    for i in range(1,y+1):\n",
    "        print((' ' +x)*i + ' '* (y-i))\n",
    "        \n",
    "    print('这是您要的等腰三角形图案')\n",
    "    for i in range(1,y+1):\n",
    "        print(' '*(y-i) +  (' ' +x)*i)\n",
    "    print('这是您要的其他三角形图案')\n",
    "    for i in range(1,y+1):\n",
    "        print('  '* (y-i) + ('  ' + x )*i)\n",
    "    \n",
    "\n",
    "emm(x,y)\n",
    "\n",
    "    \n",
    "    "
   ]
  },
  {
   "cell_type": "code",
   "execution_count": 12,
   "metadata": {},
   "outputs": [
    {
     "name": "stdout",
     "output_type": "stream",
     "text": [
      "请输入你想要的菱形图案符号1\n",
      "请输入你想要的行数3\n",
      "   \n",
      "  1 \n",
      " 1 1 \n",
      "1 1 1 \n",
      " 1 1 \n",
      "  1 \n"
     ]
    }
   ],
   "source": [
    "#练习五：写函数，根据给定符号，打印各种菱形。\n",
    "def my():\n",
    "    m=input('请输入你想要的菱形图案符号')\n",
    "    n=int(input('请输入你想要的行数'))\n",
    "    for i in range(n):\n",
    "        for x in range(0, n-i):\n",
    "            print(end=' ')\n",
    "        for y in range(n-i, n):\n",
    "            print(m, end=' ')\n",
    "        print()\n",
    "    for i in range(n):\n",
    "        for x in range(0,i):\n",
    "            print(end=' ')\n",
    "        for x in range(i,n):\n",
    "            print(m, end=' ')\n",
    "        print()\n",
    "my()    \n"
   ]
  },
  {
   "cell_type": "code",
   "execution_count": null,
   "metadata": {
    "collapsed": true
   },
   "outputs": [],
   "source": []
  }
 ],
 "metadata": {
  "kernelspec": {
   "display_name": "Python 3",
   "language": "python",
   "name": "python3"
  },
  "language_info": {
   "codemirror_mode": {
    "name": "ipython",
    "version": 3
   },
   "file_extension": ".py",
   "mimetype": "text/x-python",
   "name": "python",
   "nbconvert_exporter": "python",
   "pygments_lexer": "ipython3",
   "version": "3.6.3"
  }
 },
 "nbformat": 4,
 "nbformat_minor": 2
}
