{
 "cells": [
  {
   "cell_type": "code",
   "execution_count": null,
   "metadata": {},
   "outputs": [],
   "source": [
    "import bisect,time,random\n",
    "\n",
    "B=[]\n",
    "for i in range(1,100001):\n",
    "    B.append(i)\n",
    "A=B.copy()\n",
    "random.shuffle(B)\n",
    "\n",
    "C=[]\n",
    "for i in range(1000):\n",
    "    C.append(random.randint(1,110000))\n",
    "    \n",
    "def start_ya(one,two):\n",
    "    start_two=time.time()\n",
    "    c=[]\n",
    "    for a in one:\n",
    "        for i in range(len(two)):\n",
    "            if a==two[i]:\n",
    "                c.append(a)\n",
    "    print('1',c) \n",
    "    \n",
    "def second_emm(list1,list2):\n",
    "    start_two=time.time()\n",
    "    c=[]\n",
    "    for a in list1:\n",
    "        b=bisect.bisect_left(list2,a)\n",
    "        c.append(b)\n",
    "    print('2',c)\n",
    "\n",
    "start_ya(C,B)\n",
    "second_emm(C,A)\n",
    "\n",
    "print()"
   ]
  },
  {
   "cell_type": "code",
   "execution_count": null,
   "metadata": {
    "collapsed": true
   },
   "outputs": [],
   "source": []
  }
 ],
 "metadata": {
  "kernelspec": {
   "display_name": "Python 3",
   "language": "python",
   "name": "python3"
  },
  "language_info": {
   "codemirror_mode": {
    "name": "ipython",
    "version": 3
   },
   "file_extension": ".py",
   "mimetype": "text/x-python",
   "name": "python",
   "nbconvert_exporter": "python",
   "pygments_lexer": "ipython3",
   "version": "3.6.3"
  }
 },
 "nbformat": 4,
 "nbformat_minor": 2
}
