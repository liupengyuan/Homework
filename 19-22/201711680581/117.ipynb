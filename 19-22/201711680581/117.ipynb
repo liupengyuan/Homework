{
 "cells": [
  {
   "cell_type": "code",
   "execution_count": 2,
   "metadata": {
    "collapsed": false
   },
   "outputs": [
    {
     "name": "stdout",
     "output_type": "stream",
     "text": [
      "请输入一个整数10\n",
      "再输入一个比刚才输入的大的数500\n",
      "输入一个比刚才两数之差小的数5\n",
      "38.379682124790975\n"
     ]
    }
   ],
   "source": [
    "import random,math\n",
    "def my():\n",
    "    i=0\n",
    "    total=0\n",
    "\n",
    "    while i<m:\n",
    "        number = random.randint(n,k)\n",
    "        i+=1\n",
    "        total+=number\n",
    "    print(math.sqrt(total)) \n",
    "\n",
    "n=int(input('请输入一个整数'))\n",
    "k=int(input('再输入一个比刚才输入的大的数'))\n",
    "m=int(input('输入一个比刚才两数之差小的数'))\n",
    "\n",
    "my()\n",
    "\n",
    " "
   ]
  },
  {
   "cell_type": "code",
   "execution_count": null,
   "metadata": {
    "collapsed": true
   },
   "outputs": [],
   "source": []
  }
 ],
 "metadata": {
  "kernelspec": {
   "display_name": "Python 3",
   "language": "python",
   "name": "python3"
  },
  "language_info": {
   "codemirror_mode": {
    "name": "ipython",
    "version": 3
   },
   "file_extension": ".py",
   "mimetype": "text/x-python",
   "name": "python",
   "nbconvert_exporter": "python",
   "pygments_lexer": "ipython3",
   "version": "3.6.0"
  }
 },
 "nbformat": 4,
 "nbformat_minor": 2
}
