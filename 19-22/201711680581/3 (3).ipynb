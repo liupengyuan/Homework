{
 "cells": [
  {
   "cell_type": "code",
   "execution_count": 1,
   "metadata": {},
   "outputs": [
    {
     "name": "stdout",
     "output_type": "stream",
     "text": [
      "主人，请输入你的名字,回车结束。韩开\n",
      "主人，请输入你的生日，回车结束。1018\n",
      "韩开 你是非常有性格的天秤座\n"
     ]
    }
   ],
   "source": [
    "m=input(\"主人，请输入你的名字,回车结束。\")\n",
    "n=int(input(\"主人，请输入你的生日，回车结束。\"))\n",
    "if 321<=n<=419:\n",
    "    print(m,\"你是非常有性格的白羊座\")\n",
    "elif 420<=n<=520:\n",
    "    print(m,\"你是非常有性格的金牛座\")\n",
    "elif 521<=n<=621:\n",
    "    print(m,\"你是非常有性格的双子座\")\n",
    "elif 622<=n<=722:\n",
    "    print(m,\"你是非常有性格的巨蟹座\")\n",
    "elif 723<=n<=822:\n",
    "    print(m,\"你是非常有性格的狮子座\")\n",
    "elif 823<=n<=922:\n",
    "    print(m,\"你是非常有性格的处女座\")\n",
    "elif 923<=n<=1023:\n",
    "    print(m,\"你是非常有性格的天秤座\")\n",
    "elif 1024<=n<=1122:\n",
    "    print(m,\"你是非常有性格的天蝎座\")\n",
    "elif 1123<=n<=1221:\n",
    "    print(m,\"你是非常有性格的射手座\")\n",
    "elif n>=1222 or n<=119:\n",
    "    print(m,\"你是非常有性格的摩羯座\")\n",
    "elif 120<=n<=218:\n",
    "    print(m,\"你是非常有性格的水瓶座\")\n",
    "elif 219<=n<=320:\n",
    "    print(m,\"你是非常有性格的双鱼座\")"
   ]
  },
  {
   "cell_type": "code",
   "execution_count": 1,
   "metadata": {},
   "outputs": [
    {
     "name": "stdout",
     "output_type": "stream",
     "text": [
      "请输入一个数字5\n",
      "请输入一个数字，不接受02\n",
      "请输入1到4任意一个数字，1为计算从m到n的和，2为上两个数乘积，3为计算m除以n的余数的值，4为计算m整除n的值4\n",
      "2\n"
     ]
    }
   ],
   "source": [
    "m=int(input('请输入一个数字'))\n",
    "n=int(input('请输入一个数字，不接受0'))\n",
    "i=int(input('请输入1到4任意一个数字，1为计算从m到n的和，2为上两个数乘积，3为计算m除以n的余数的值，4为计算m整除n的值'))\n",
    "if 1<=i<2:\n",
    "    print(m+n)\n",
    "elif 2<=i<3:\n",
    "    print(m*n)\n",
    "elif 3<=i<4:\n",
    "    print(m%n)\n",
    "elif 4<=i:\n",
    "    print(m//n)"
   ]
  },
  {
   "cell_type": "code",
   "execution_count": 3,
   "metadata": {},
   "outputs": [
    {
     "name": "stdout",
     "output_type": "stream",
     "text": [
      "请输入一个英语单词单数pig\n",
      "pigs\n"
     ]
    }
   ],
   "source": [
    "m=input('请输入一个英语单词单数')\n",
    "print(m+'s')"
   ]
  },
  {
   "cell_type": "code",
   "execution_count": 1,
   "metadata": {},
   "outputs": [
    {
     "name": "stdout",
     "output_type": "stream",
     "text": [
      "请输入一个整数5\n",
      "再输入一个整数6\n",
      "再输入一个整数7\n",
      "6\n"
     ]
    }
   ],
   "source": [
    "m=int(input('请输入一个整数'))\n",
    "n=int(input('再输入一个整数'))\n",
    "i=int(input('再输入一个整数'))\n",
    "if m<n<i:\n",
    "    print(n)\n",
    "if m<i<n:\n",
    "    print(i)\n",
    "if i<m<n:\n",
    "    print(m)\n",
    "if i<n<m:\n",
    "    print(n)\n",
    "if n<m<i:\n",
    "    print(m)\n",
    "if n<i<m:\n",
    "    print(i)"
   ]
  },
  {
   "cell_type": "code",
   "execution_count": null,
   "metadata": {},
   "outputs": [],
   "source": []
  }
 ],
 "metadata": {
  "kernelspec": {
   "display_name": "Python 3",
   "language": "python",
   "name": "python3"
  },
  "language_info": {
   "codemirror_mode": {
    "name": "ipython",
    "version": 3
   },
   "file_extension": ".py",
   "mimetype": "text/x-python",
   "name": "python",
   "nbconvert_exporter": "python",
   "pygments_lexer": "ipython3",
   "version": "3.5.2"
  }
 },
 "nbformat": 4,
 "nbformat_minor": 2
}
