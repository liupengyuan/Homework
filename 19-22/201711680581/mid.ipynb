{
 "cells": [
  {
   "cell_type": "code",
   "execution_count": 17,
   "metadata": {
    "collapsed": false
   },
   "outputs": [
    {
     "name": "stdout",
     "output_type": "stream",
     "text": [
      "你想求几个数的和5\n",
      "35\n"
     ]
    }
   ],
   "source": [
    "#1\n",
    "\n",
    "m=int(input('你想求几个数的和'))\n",
    "total=0\n",
    "mum=0\n",
    "for num in range (1,m+1):\n",
    "    mum=mum+num\n",
    "    total=total+mum\n",
    "print(total)"
   ]
  },
  {
   "cell_type": "code",
   "execution_count": 15,
   "metadata": {
    "collapsed": false
   },
   "outputs": [
    {
     "name": "stdout",
     "output_type": "stream",
     "text": [
      "你想画什么图形@\n",
      "想画几行5\n",
      "@\n",
      "@@\n",
      "@@@\n",
      "@@@@\n",
      "@@@@@\n"
     ]
    }
   ],
   "source": [
    "#2\n",
    "def emm():\n",
    "    m=input('你想画什么图形')\n",
    "    n=int(input('想画几行'))\n",
    "    k=m\n",
    "    i=0\n",
    "    while i<n:\n",
    "        i=i+1\n",
    "        print(m)\n",
    "        m=m+k\n",
    "emm()\n",
    "    "
   ]
  },
  {
   "cell_type": "code",
   "execution_count": null,
   "metadata": {
    "collapsed": true
   },
   "outputs": [],
   "source": [
    "#3\n",
    "def end():\n",
    "    m=int(input('你想输入的是几位数'))\n",
    "    n=int(input('输入你想输入的整数'))\n",
    "    i=1\n",
    "    while i<m:\n",
    "        k=\n",
    "        \n",
    "        \n",
    "        \n",
    "        print('输入整数的第一位是'，k)\n",
    "    "
   ]
  },
  {
   "cell_type": "code",
   "execution_count": 7,
   "metadata": {
    "collapsed": false
   },
   "outputs": [
    {
     "name": "stdout",
     "output_type": "stream",
     "text": [
      "181.11111111111111\n"
     ]
    }
   ],
   "source": [
    "#4\n",
    "def com(list):\n",
    "    total=0\n",
    "    for num in list:\n",
    "        total=total+num\n",
    "    m=total/len(list) \n",
    "    print(m)\n",
    "    return\n",
    "list=[183,185,183,187,178,175,177,190,172]\n",
    "\n",
    "com(list)"
   ]
  },
  {
   "cell_type": "code",
   "execution_count": 4,
   "metadata": {
    "collapsed": false
   },
   "outputs": [
    {
     "name": "stdout",
     "output_type": "stream",
     "text": [
      "8 + 4\n",
      "答案是12\n",
      "正确\n",
      "8 + 4\n",
      "答案是12\n",
      "正确\n",
      "4 + 2\n",
      "答案是6\n",
      "正确\n",
      "4 + 1\n",
      "答案是5\n",
      "正确\n",
      "8 + 4\n",
      "答案是12\n",
      "正确\n",
      "恭喜你的最终得分是 100\n"
     ]
    }
   ],
   "source": [
    "#5\n",
    "import random\n",
    "i=0\n",
    "total=0\n",
    "while i<5:\n",
    "    i=i+1\n",
    "    m=random.randint(1,10)\n",
    "    n=random.randint(1,10)\n",
    "    print( m,'+',n)\n",
    "    k=int(input('答案是'))\n",
    "    if k==m+n:\n",
    "        print('正确')\n",
    "        total=total+20\n",
    "    else :\n",
    "        print('错误')\n",
    "print('恭喜你的最终得分是',total)\n",
    "        \n",
    "    "
   ]
  },
  {
   "cell_type": "code",
   "execution_count": 5,
   "metadata": {
    "collapsed": false
   },
   "outputs": [
    {
     "ename": "ValueError",
     "evalue": "min() arg is an empty sequence",
     "output_type": "error",
     "traceback": [
      "\u001b[0;31m---------------------------------------------------------------------------\u001b[0m",
      "\u001b[0;31mValueError\u001b[0m                                Traceback (most recent call last)",
      "\u001b[0;32m<ipython-input-5-8d5240ee6a02>\u001b[0m in \u001b[0;36m<module>\u001b[0;34m()\u001b[0m\n\u001b[1;32m      3\u001b[0m \u001b[0mlistn\u001b[0m\u001b[1;33m=\u001b[0m\u001b[1;33m[\u001b[0m\u001b[1;33m]\u001b[0m\u001b[1;33m\u001b[0m\u001b[0m\n\u001b[1;32m      4\u001b[0m \u001b[0mmax_num\u001b[0m\u001b[1;33m=\u001b[0m\u001b[0mmax\u001b[0m\u001b[1;33m(\u001b[0m\u001b[0mlistm\u001b[0m\u001b[1;33m)\u001b[0m\u001b[1;33m\u001b[0m\u001b[0m\n\u001b[0;32m----> 5\u001b[0;31m \u001b[0mmin_num\u001b[0m\u001b[1;33m=\u001b[0m\u001b[0mmin\u001b[0m\u001b[1;33m(\u001b[0m\u001b[0mlistn\u001b[0m\u001b[1;33m)\u001b[0m\u001b[1;33m\u001b[0m\u001b[0m\n\u001b[0m\u001b[1;32m      6\u001b[0m \u001b[0mlistn\u001b[0m\u001b[1;33m.\u001b[0m\u001b[0mappend\u001b[0m\u001b[1;33m(\u001b[0m\u001b[0mmax_num\u001b[0m\u001b[1;33m)\u001b[0m\u001b[1;33m\u001b[0m\u001b[0m\n\u001b[1;32m      7\u001b[0m \u001b[0mlistx\u001b[0m\u001b[1;33m=\u001b[0m\u001b[1;33m[\u001b[0m\u001b[1;33m]\u001b[0m\u001b[1;33m\u001b[0m\u001b[0m\n",
      "\u001b[0;31mValueError\u001b[0m: min() arg is an empty sequence"
     ]
    }
   ],
   "source": [
    "#6\n",
    "listm=[3,-5,9,108,34,-76,88]\n",
    "listn=[]\n",
    "max_num=max(listm)\n",
    "min_num=min(listn)\n",
    "listn.append(max_num)\n",
    "listx=[]\n",
    "for num in listm:\n",
    "    if num>min_num or num<max_num:\n",
    "        listx.append(num)\n",
    "listx.append(min_num)\n",
    "listend=listn+listx\n",
    "print(listend)"
   ]
  },
  {
   "cell_type": "code",
   "execution_count": null,
   "metadata": {
    "collapsed": true
   },
   "outputs": [],
   "source": []
  },
  {
   "cell_type": "code",
   "execution_count": null,
   "metadata": {
    "collapsed": true
   },
   "outputs": [],
   "source": []
  },
  {
   "cell_type": "code",
   "execution_count": null,
   "metadata": {
    "collapsed": true
   },
   "outputs": [],
   "source": []
  },
  {
   "cell_type": "code",
   "execution_count": null,
   "metadata": {
    "collapsed": true
   },
   "outputs": [],
   "source": []
  },
  {
   "cell_type": "code",
   "execution_count": null,
   "metadata": {
    "collapsed": true
   },
   "outputs": [],
   "source": []
  },
  {
   "cell_type": "code",
   "execution_count": null,
   "metadata": {
    "collapsed": true
   },
   "outputs": [],
   "source": []
  },
  {
   "cell_type": "code",
   "execution_count": null,
   "metadata": {
    "collapsed": true
   },
   "outputs": [],
   "source": []
  },
  {
   "cell_type": "code",
   "execution_count": null,
   "metadata": {
    "collapsed": true
   },
   "outputs": [],
   "source": []
  }
 ],
 "metadata": {
  "kernelspec": {
   "display_name": "Python 3",
   "language": "python",
   "name": "python3"
  }
 },
 "nbformat": 4,
 "nbformat_minor": 2
}
