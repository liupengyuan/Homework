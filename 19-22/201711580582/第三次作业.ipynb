{
 "cells": [
  {
   "cell_type": "code",
   "execution_count": null,
   "metadata": {},
   "outputs": [],
   "source": [
    "练习 1：写程序，可由键盘读入用户姓名例如Mr. right，让用户输入出生的月份与日期，判断用户星座，假设用户是金牛座，则输出，Mr. right，你是非常有性格的金牛座！。"
   ]
  },
  {
   "cell_type": "code",
   "execution_count": 1,
   "metadata": {},
   "outputs": [
    {
     "name": "stdout",
     "output_type": "stream",
     "text": [
      "请输入你的名字lwd\n",
      "你好 lwd\n",
      "请输入你的生日日期，例如09240924\n",
      "lwd 你是天秤座\n"
     ]
    }
   ],
   "source": [
    "name=input('请输入你的名字')\n",
    "print('你好',name)\n",
    "n=int(input('请输入你的生日日期，例如0924'))\n",
    "if 321<=n<=419:\n",
    "    print(name,'你是白羊座')\n",
    "elif 420<=n<=520:\n",
    "    print(name,'你是金牛座')\n",
    "elif 521<=n<=621:\n",
    "    print(name,'你是双子座')\n",
    "elif 622<=n<=722:\n",
    "    print(name,'你是巨蟹座')\n",
    "elif 723<=n<=822:\n",
    "    print(name,'你是狮子座')\n",
    "elif 823<=n<=922:\n",
    "    print(name,'你是处女座')\n",
    "elif 923<=n<=1023:\n",
    "    print(name,'你是天秤座')\n",
    "elif 1024<=n<=1122:\n",
    "    print(name,'你是天蝎座')\n",
    "elif 1123<=n<=1221:\n",
    "    print(name,'你是射手座')\n",
    "elif 120<=n<=218:\n",
    "    print(name,'你是水瓶座')\n",
    "elif 219<=n<=320:\n",
    "    print(name,'你是双鱼座')\n",
    "else:\n",
    "    print(name,'你是摩羯座')"
   ]
  },
  {
   "cell_type": "code",
   "execution_count": null,
   "metadata": {},
   "outputs": [],
   "source": [
    "练习 2：写程序，可由键盘读入两个整数m与n(n不等于0)，询问用户意图，如果要求和则计算从m到n的和输出，如果要乘积则计算从m到n的积并输出，如果要求余数则计算m除以n的余数的值并输出，否则则计算m整除n的值并输出。"
   ]
  },
  {
   "cell_type": "code",
   "execution_count": 2,
   "metadata": {},
   "outputs": [
    {
     "name": "stdout",
     "output_type": "stream",
     "text": [
      "请输入一个整数m9\n",
      "请输入一个不等于零的整数n2\n",
      "求两数的和请输入1，求两数的积请输入2，求m除以n的余数请输入3，若m能被n整除则输出m除以n的值3\n",
      "余数为 1\n"
     ]
    }
   ],
   "source": [
    "m=int(input('请输入一个整数m'))\n",
    "n=int(input('请输入一个不等于零的整数n'))\n",
    "x=int(input('求两数的和请输入1，求两数的积请输入2，求m除以n的余数请输入3，若m能被n整除则输出m除以n的值'))\n",
    "if x==1:\n",
    "    print('和为',m+n)\n",
    "if x==2:\n",
    "    print('积为',m*n)\n",
    "if x==3:\n",
    "    y=m%n\n",
    "    z=m/n\n",
    "    if y==0:\n",
    "        print('m除以n为',z)\n",
    "    else:\n",
    "        print('余数为',y) "
   ]
  },
  {
   "cell_type": "code",
   "execution_count": null,
   "metadata": {},
   "outputs": [],
   "source": [
    "练习 4：英文单词单数转复数，要求输入一个英文动词（单数形式），能够得到其复数形式，或给出单数转复数形式的建议（提示，some_string.endswith(some_letter)函数可以判断某字符串结尾字符，可尝试运行：'myname'.endswith('me')，liupengyuan'.endswith('n')）。"
   ]
  },
  {
   "cell_type": "code",
   "execution_count": 3,
   "metadata": {},
   "outputs": [
    {
     "name": "stdout",
     "output_type": "stream",
     "text": [
      "请输入一个英文单词，我将给你它的复数形式tomato\n",
      "tomatoes\n"
     ]
    }
   ],
   "source": [
    "v=input('请输入一个英文单词，我将给你它的复数形式')\n",
    "if v.endswith('s'):\n",
    "    print(v+'es')\n",
    "elif v.endswith('to'):\n",
    "    print(v+'es')\n",
    "else:\n",
    "    print(v+'s')"
   ]
  },
  {
   "cell_type": "code",
   "execution_count": null,
   "metadata": {},
   "outputs": [],
   "source": [
    "尝试性练习：写程序，能够在屏幕上显示空行。"
   ]
  },
  {
   "cell_type": "code",
   "execution_count": 4,
   "metadata": {},
   "outputs": [
    {
     "name": "stdout",
     "output_type": "stream",
     "text": [
      "\n"
     ]
    }
   ],
   "source": [
    "print('')\n"
   ]
  },
  {
   "cell_type": "code",
   "execution_count": null,
   "metadata": {},
   "outputs": [],
   "source": []
  }
 ],
 "metadata": {
  "kernelspec": {
   "display_name": "Python 3",
   "language": "python",
   "name": "python3"
  },
  "language_info": {
   "codemirror_mode": {
    "name": "ipython",
    "version": 3
   },
   "file_extension": ".py",
   "mimetype": "text/x-python",
   "name": "python",
   "nbconvert_exporter": "python",
   "pygments_lexer": "ipython3",
   "version": "3.6.3"
  }
 },
 "nbformat": 4,
 "nbformat_minor": 2
}
