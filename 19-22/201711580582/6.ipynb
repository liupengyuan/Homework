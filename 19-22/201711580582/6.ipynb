{
 "cells": [
  {
   "cell_type": "code",
   "execution_count": null,
   "metadata": {},
   "outputs": [],
   "source": [
    "写函数，返回某个元素/对象在一个list中的位置，如果不在，则返回-1."
   ]
  },
  {
   "cell_type": "code",
   "execution_count": 4,
   "metadata": {},
   "outputs": [
    {
     "name": "stdout",
     "output_type": "stream",
     "text": [
      "请输入你想输入整数的个数5\n",
      "请往序列中输入一个整数2\n",
      "请往序列中输入一个整数4\n",
      "请往序列中输入一个整数6\n",
      "请往序列中输入一个整数8\n",
      "请往序列中输入一个整数10\n",
      "['2', '4', '6', '8', '10']\n",
      "请输入一个整数6\n",
      "3\n"
     ]
    }
   ],
   "source": [
    "def tesk_1():\n",
    "    numbers=[]\n",
    "    n=int(input('请输入你想输入整数的个数'))\n",
    "    for number in range(n):\n",
    "        number=input('请往序列中输入一个整数')\n",
    "        numbers.append(number)\n",
    "    print(numbers)\n",
    "    i=input('请输入一个整数')\n",
    "    a=0\n",
    "    for number in numbers:\n",
    "        if numbers[a]==i:\n",
    "            b=a+1\n",
    "            break\n",
    "        else:\n",
    "            b=-1\n",
    "        a+=1\n",
    "    print(b)\n",
    "tesk_1()\n",
    "    \n",
    "    "
   ]
  },
  {
   "cell_type": "code",
   "execution_count": null,
   "metadata": {},
   "outputs": [],
   "source": [
    "写函数，可将两个相同长度的list，间隔插入，生成新的list。例如：给两个list，a=[1,2,3,4], b=[5,6,7,8]。则可以生成：[1,5,2,6,3,7,4,8]。"
   ]
  },
  {
   "cell_type": "code",
   "execution_count": 5,
   "metadata": {},
   "outputs": [
    {
     "name": "stdout",
     "output_type": "stream",
     "text": [
      "[1, 2, 3, 4, 5, 6, 7, 8, 9, 10]\n"
     ]
    }
   ],
   "source": [
    "def tesk_2():\n",
    "    a=[1,3,5,7,9]\n",
    "    b=[2,4,6,8,10]\n",
    "    final=[]\n",
    "    n=len(a)\n",
    "    i=0\n",
    "    for q in range(n):\n",
    "        final.append(a[i])\n",
    "        final.append(b[i])\n",
    "        i+=1\n",
    "    print(final)\n",
    "tesk_2()"
   ]
  },
  {
   "cell_type": "code",
   "execution_count": null,
   "metadata": {},
   "outputs": [],
   "source": [
    "写函数，可求两个向量的夹角余弦值，向量可放在list中。主程序调用该函数。"
   ]
  },
  {
   "cell_type": "code",
   "execution_count": 6,
   "metadata": {},
   "outputs": [
    {
     "name": "stdout",
     "output_type": "stream",
     "text": [
      "请输入向量a1\n",
      "请输入向量a1\n",
      "向量a为 [1, 1]\n",
      "请输入向量b1\n",
      "请输入向量b0\n",
      "向量b为 [1, 0]\n"
     ]
    },
    {
     "data": {
      "text/plain": [
       "0.7071067811865475"
      ]
     },
     "execution_count": 6,
     "metadata": {},
     "output_type": "execute_result"
    }
   ],
   "source": [
    "def tesk_3():\n",
    "    a=[]\n",
    "    b=[]\n",
    "    for q in range(2):\n",
    "        i=int(input('请输入向量a'))\n",
    "        a.append(i)\n",
    "    print('向量a为',a)\n",
    "    for w in range(2):\n",
    "        j=int(input('请输入向量b'))\n",
    "        b.append(j)\n",
    "    print('向量b为',b)\n",
    "    final=(a[0]*b[0]+a[1]*b[1])/((a[0]**2+a[1]**2)**0.5)*((b[0]**2+b[1]**2)**0.5)\n",
    "    return final\n",
    "tesk_3()"
   ]
  },
  {
   "cell_type": "code",
   "execution_count": null,
   "metadata": {},
   "outputs": [],
   "source": []
  },
  {
   "cell_type": "code",
   "execution_count": null,
   "metadata": {},
   "outputs": [],
   "source": []
  }
 ],
 "metadata": {
  "kernelspec": {
   "display_name": "Python 3",
   "language": "python",
   "name": "python3"
  }
 },
 "nbformat": 4,
 "nbformat_minor": 2
}
