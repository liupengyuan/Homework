{
 "cells": [
  {
   "cell_type": "code",
   "execution_count": 2,
   "metadata": {},
   "outputs": [
    {
     "name": "stdout",
     "output_type": "stream",
     "text": [
      "请输入一个整数10\n",
      "请输入一个比刚才的数大的整数500\n",
      "请输入你想得到的随机数的个数5\n",
      "266\n",
      "498\n",
      "422\n",
      "301\n",
      "288\n",
      "42.13074886588179\n"
     ]
    }
   ],
   "source": [
    "import random\n",
    "\n",
    "    \n",
    "    \n",
    "n=int(input('请输入一个整数'))\n",
    "k=int(input('请输入一个比刚才的数大的整数'))\n",
    "m=int(input('请输入你想得到的随机数的个数'))\n",
    "i=0\n",
    "total=0\n",
    "while i<m:\n",
    "    number=random.randint(n,k)\n",
    "    i+=1\n",
    "    total=number+total\n",
    "    print(number)\n",
    "print(total**0.5)\n",
    "\n",
    "    "
   ]
  },
  {
   "cell_type": "code",
   "execution_count": null,
   "metadata": {},
   "outputs": [],
   "source": []
  }
 ],
 "metadata": {
  "kernelspec": {
   "display_name": "Python 3",
   "language": "python",
   "name": "python3"
  },
  "language_info": {
   "codemirror_mode": {
    "name": "ipython",
    "version": 3
   },
   "file_extension": ".py",
   "mimetype": "text/x-python",
   "name": "python",
   "nbconvert_exporter": "python",
   "pygments_lexer": "ipython3",
   "version": "3.6.3"
  }
 },
 "nbformat": 4,
 "nbformat_minor": 2
}
