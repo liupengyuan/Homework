{
 "cells": [
  {
   "cell_type": "code",
   "execution_count": 33,
   "metadata": {},
   "outputs": [
    {
     "name": "stdout",
     "output_type": "stream",
     "text": [
      "358\n"
     ]
    }
   ],
   "source": [
    "import random\n",
    "fh = open(r'd:\\idioms.txt')\n",
    "text=fh.read()\n",
    "text=text.replace('，','')\n",
    "\n",
    "print(len(text))\n",
    "def lll(n):\n",
    "    \n",
    "    a=''\n",
    "    while len(a)<10*n:\n",
    "        b=random.choice(text)\n",
    "        if b not in a:\n",
    "            a+=b\n",
    "        \n",
    "    return a\n",
    "fh=open(r'd:\\1.txt','w')\n",
    "fh.write(lll(1))\n",
    "fh.close()\n",
    "fh=open(r'd:\\2.txt','w')\n",
    "fh.write(lll(2))\n",
    "fh.close()\n",
    "fh=open(r'd:\\3.txt','w')\n",
    "fh.write(lll(3))\n",
    "fh.close()\n",
    "fh=open(r'd:\\4.txt','w')\n",
    "fh.write(lll(4))\n",
    "fh.close()\n",
    "fh=open(r'd:\\5.txt','w')\n",
    "fh.write(lll(5))\n",
    "fh.close()\n",
    "fh=open(r'd:\\6.txt','w')\n",
    "fh.write(lll(6))\n",
    "fh.close()\n",
    "fh=open(r'd:\\7.txt','w')\n",
    "fh.write(lll(7))\n",
    "fh.close()\n",
    "fh=open(r'd:\\8.txt','w')\n",
    "fh.write(lll(8))\n",
    "fh.close()\n",
    "fh=open(r'd:\\9.txt','w')\n",
    "fh.write(lll(9))\n",
    "fh.close()\n",
    "fh=open(r'd:\\10.txt','w')\n",
    "fh.write(lll(10))\n",
    "fh.close()"
   ]
  },
  {
   "cell_type": "code",
   "execution_count": null,
   "metadata": {},
   "outputs": [],
   "source": []
  }
 ],
 "metadata": {
  "kernelspec": {
   "display_name": "Python 3",
   "language": "python",
   "name": "python3"
  },
  "language_info": {
   "codemirror_mode": {
    "name": "ipython",
    "version": 3
   },
   "file_extension": ".py",
   "mimetype": "text/x-python",
   "name": "python",
   "nbconvert_exporter": "python",
   "pygments_lexer": "ipython3",
   "version": "3.6.3"
  }
 },
 "nbformat": 4,
 "nbformat_minor": 2
}
