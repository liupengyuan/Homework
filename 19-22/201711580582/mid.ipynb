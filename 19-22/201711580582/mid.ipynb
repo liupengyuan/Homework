{
 "cells": [
  {
   "cell_type": "code",
   "execution_count": null,
   "metadata": {
    "collapsed": true
   },
   "outputs": [],
   "source": [
    "1"
   ]
  },
  {
   "cell_type": "code",
   "execution_count": 10,
   "metadata": {
    "collapsed": false
   },
   "outputs": [
    {
     "name": "stdout",
     "output_type": "stream",
     "text": [
      "请输入m5\n"
     ]
    },
    {
     "data": {
      "text/plain": [
       "35"
      ]
     },
     "execution_count": 10,
     "metadata": {},
     "output_type": "execute_result"
    }
   ],
   "source": [
    "def yi():\n",
    "    a=1\n",
    "    b=1\n",
    "    i=1\n",
    "    m=int(input('请输入m'))\n",
    "    total=1\n",
    "    while i<m:\n",
    "        i+=1\n",
    "        a+=1\n",
    "        b=b+a\n",
    "        total+=b\n",
    "    return total\n",
    "yi()"
   ]
  },
  {
   "cell_type": "code",
   "execution_count": null,
   "metadata": {
    "collapsed": false
   },
   "outputs": [],
   "source": [
    "2"
   ]
  },
  {
   "cell_type": "code",
   "execution_count": 27,
   "metadata": {
    "collapsed": false,
    "scrolled": true
   },
   "outputs": [
    {
     "name": "stdout",
     "output_type": "stream",
     "text": [
      "&\n",
      "6\n",
      "\n",
      "&\n",
      "&&\n",
      "&&&\n",
      "&&&&\n",
      "&&&&&\n",
      "&&&&&&\n"
     ]
    }
   ],
   "source": [
    "def we(line,n):  \n",
    "\n",
    "    for i in range(1, n+2):\n",
    "        for j in range(1,i):\n",
    "            print(line[0], end='')\n",
    "        print()\n",
    "line = input('')\n",
    "n=int(input(''))        \n",
    "\n",
    "we(line,n)"
   ]
  },
  {
   "cell_type": "code",
   "execution_count": null,
   "metadata": {
    "collapsed": false
   },
   "outputs": [],
   "source": [
    "3"
   ]
  },
  {
   "cell_type": "code",
   "execution_count": 5,
   "metadata": {
    "collapsed": false
   },
   "outputs": [
    {
     "name": "stdout",
     "output_type": "stream",
     "text": [
      "shu ru ni de shu zi de wei shu 6\n",
      "依次输入你想要的数的每一位的数9\n",
      "依次输入你想要的数的每一位的数8\n",
      "依次输入你想要的数的每一位的数7\n",
      "依次输入你想要的数的每一位的数6\n",
      "依次输入你想要的数的每一位的数5\n",
      "依次输入你想要的数的每一位的数4\n",
      "你想要的数 [9, 8, 7, 6, 5, 4]\n"
     ]
    },
    {
     "data": {
      "text/plain": [
       "9"
      ]
     },
     "execution_count": 5,
     "metadata": {},
     "output_type": "execute_result"
    }
   ],
   "source": [
    "def san():\n",
    "    numbers=[]\n",
    "    m=int(input('shu ru ni de shu zi de wei shu '))\n",
    "    \n",
    "    for num in range(m):\n",
    "        \n",
    "    \n",
    "        number=int(input('依次输入你想要的数的每一位的数'))\n",
    "        numbers.append(number)\n",
    "    print('你想要的数',numbers)\n",
    "    return numbers[0]\n",
    "san()\n",
    "    \n",
    "    \n",
    "    "
   ]
  },
  {
   "cell_type": "code",
   "execution_count": null,
   "metadata": {
    "collapsed": true
   },
   "outputs": [],
   "source": [
    "4"
   ]
  },
  {
   "cell_type": "code",
   "execution_count": 4,
   "metadata": {
    "collapsed": false
   },
   "outputs": [
    {
     "name": "stdout",
     "output_type": "stream",
     "text": [
      "183\n",
      "185\n",
      "183\n",
      "187\n",
      "178\n",
      "175\n",
      "177\n",
      "190\n",
      "172\n",
      "平均值 181.11111111111111\n",
      "183\n",
      "185\n",
      "183\n",
      "187\n",
      "190\n"
     ]
    }
   ],
   "source": [
    "def ball():\n",
    "    line=[]\n",
    "    total=0\n",
    "    for i in range(9):\n",
    "        \n",
    "        num=int(input(''))\n",
    "        line.append(num)\n",
    "        total+=line[i]\n",
    "    x=total/9\n",
    "    print('平均值',x)\n",
    "    for a in line:\n",
    "        if a>x:\n",
    "            print(a)\n",
    "            \n",
    "        \n",
    "ball()\n",
    "    "
   ]
  },
  {
   "cell_type": "code",
   "execution_count": null,
   "metadata": {
    "collapsed": true
   },
   "outputs": [],
   "source": [
    "5"
   ]
  },
  {
   "cell_type": "code",
   "execution_count": 2,
   "metadata": {
    "collapsed": false
   },
   "outputs": [
    {
     "name": "stdout",
     "output_type": "stream",
     "text": [
      "1 + 0 =?\n",
      "1\n",
      "3 + 3 =?\n",
      "6\n",
      "6 + 4 =?\n",
      "2\n",
      "u wrong\n",
      "9 + 10 =?\n",
      "19\n",
      "9 + 0 =?\n",
      "9\n",
      "80\n"
     ]
    }
   ],
   "source": [
    "import random\n",
    "\n",
    "k=5\n",
    "i=0\n",
    "total=0\n",
    "while i<k:\n",
    "    a=random.randint(0,10)\n",
    "    b=random.randint(0,10)\n",
    "    print(a,'+',b,'=?')\n",
    "    num=int(input(''))\n",
    "    i+=1\n",
    "    if num==a+b:\n",
    "        total+=20\n",
    "    else:\n",
    "        print('u wrong')\n",
    "print(total)\n",
    "        "
   ]
  },
  {
   "cell_type": "code",
   "execution_count": null,
   "metadata": {
    "collapsed": true
   },
   "outputs": [],
   "source": [
    "6"
   ]
  },
  {
   "cell_type": "code",
   "execution_count": 11,
   "metadata": {
    "collapsed": false
   },
   "outputs": [
    {
     "name": "stdout",
     "output_type": "stream",
     "text": [
      "[108, 88, 3, 9, 34, -5, -76]\n"
     ]
    }
   ],
   "source": [
    "numbers=[3,-5,9,108,34,-76,88]\n",
    "max_=numbers[0]\n",
    "min_=numbers[0]\n",
    "for i in numbers:\n",
    "    if i>max_:\n",
    "        \n",
    "        max_=i\n",
    "        n=numbers.index(max_)\n",
    "        a=numbers[0]\n",
    "        numbers[0]=max_\n",
    "        numbers[n]=a\n",
    "        \n",
    "        \n",
    "    if i<min_:\n",
    "        min_=i\n",
    "        x=numbers.index(min_)\n",
    "        b=numbers[6]\n",
    "        numbers[6]=min_\n",
    "        numbers[x]=b\n",
    "print(numbers)\n",
    "\n",
    "\n",
    "\n",
    "    \n"
   ]
  },
  {
   "cell_type": "code",
   "execution_count": null,
   "metadata": {
    "collapsed": true
   },
   "outputs": [],
   "source": []
  },
  {
   "cell_type": "code",
   "execution_count": null,
   "metadata": {
    "collapsed": true
   },
   "outputs": [],
   "source": []
  }
 ],
 "metadata": {
  "kernelspec": {
   "display_name": "Python 3",
   "language": "python",
   "name": "python3"
  },
  "language_info": {
   "codemirror_mode": {
    "name": "ipython",
    "version": 3
   },
   "file_extension": ".py",
   "mimetype": "text/x-python",
   "name": "python",
   "nbconvert_exporter": "python",
   "pygments_lexer": "ipython3",
   "version": "3.6.0"
  }
 },
 "nbformat": 4,
 "nbformat_minor": 2
}
