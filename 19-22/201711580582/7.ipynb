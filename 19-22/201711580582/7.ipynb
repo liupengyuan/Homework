{
 "cells": [
  {
   "cell_type": "code",
   "execution_count": null,
   "metadata": {},
   "outputs": [],
   "source": [
    "练习一：自己定义一个reverse(s)函数，功能返回字符串s的倒序字符串。"
   ]
  },
  {
   "cell_type": "code",
   "execution_count": 13,
   "metadata": {},
   "outputs": [
    {
     "name": "stdout",
     "output_type": "stream",
     "text": [
      "123456789\n",
      "987654321\n"
     ]
    }
   ],
   "source": [
    "def reverse(s):\n",
    "    n=len(s)\n",
    "    print(s[n-1::-1])\n",
    "s=input('')\n",
    "reverse(s)"
   ]
  },
  {
   "cell_type": "code",
   "execution_count": null,
   "metadata": {},
   "outputs": [],
   "source": [
    "练习二：写函数，根据给定符号和行数，打印相应直角三角形，等腰三角形及其他形式的三角形。"
   ]
  },
  {
   "cell_type": "code",
   "execution_count": 40,
   "metadata": {},
   "outputs": [
    {
     "name": "stdout",
     "output_type": "stream",
     "text": [
      "*\n",
      "10\n",
      "*\n",
      "**\n",
      "***\n",
      "****\n",
      "*****\n",
      "******\n",
      "*******\n",
      "********\n",
      "*********\n",
      "**********\n",
      "           *\n",
      "          * *\n",
      "         * * *\n",
      "        * * * *\n",
      "       * * * * *\n",
      "      * * * * * *\n",
      "     * * * * * * *\n",
      "    * * * * * * * *\n",
      "   * * * * * * * * *\n",
      "  * * * * * * * * * *\n",
      "            *\n",
      "           *  *\n",
      "          *  *  *\n",
      "         *  *  *  *\n",
      "        *  *  *  *  *\n",
      "       *  *  *  *  *  *\n",
      "      *  *  *  *  *  *  *\n",
      "     *  *  *  *  *  *  *  *\n",
      "    *  *  *  *  *  *  *  *  *\n",
      "   *  *  *  *  *  *  *  *  *  *\n"
     ]
    }
   ],
   "source": [
    "def er():\n",
    "    sign=input('')\n",
    "    n=int(input(''))\n",
    "    for i in range(n):\n",
    "        print(sign*(i+1))\n",
    "\n",
    "    for k in range(n):\n",
    "        print(' '*(n-k)+(' '+sign)*(k+1))\n",
    "    \n",
    "    for j in range(n):\n",
    "        print(' '*(n-j)+('  '+sign)*(j+1))\n",
    "        \n",
    "er()\n"
   ]
  },
  {
   "cell_type": "code",
   "execution_count": null,
   "metadata": {},
   "outputs": [],
   "source": [
    "练习五：写函数，根据给定符号，打印各种菱形。"
   ]
  },
  {
   "cell_type": "code",
   "execution_count": 1,
   "metadata": {},
   "outputs": [
    {
     "name": "stdout",
     "output_type": "stream",
     "text": [
      "5\n",
      "*\n",
      "     *\n",
      "    * *\n",
      "   * * *\n",
      "  * * * *\n",
      " * * * * *\n",
      "  * * * *\n",
      "   * * *\n",
      "    * *\n",
      "     *\n",
      "     \n",
      "10\n",
      "$\n",
      "          $\n",
      "         $ $\n",
      "        $ $ $\n",
      "       $ $ $ $\n",
      "      $ $ $ $ $\n",
      "     $ $ $ $ $ $\n",
      "    $ $ $ $ $ $ $\n",
      "   $ $ $ $ $ $ $ $\n",
      "  $ $ $ $ $ $ $ $ $\n",
      " $ $ $ $ $ $ $ $ $ $\n",
      "  $ $ $ $ $ $ $ $ $\n",
      "   $ $ $ $ $ $ $ $\n",
      "    $ $ $ $ $ $ $\n",
      "     $ $ $ $ $ $\n",
      "      $ $ $ $ $\n",
      "       $ $ $ $\n",
      "        $ $ $\n",
      "         $ $\n",
      "          $\n",
      "          \n"
     ]
    }
   ],
   "source": [
    "def three(n):\n",
    "    sign=input('')\n",
    "    \n",
    "    for i in range(n):\n",
    "        print(' '*(n-i-1)+(' '+sign)*(i+1))\n",
    "    \n",
    "    for k in range(n):\n",
    "        print(' '*(k+1)+(' '+sign)*(n-k-1))\n",
    "a=int(input(''))\n",
    "three(a)\n",
    "b=int(input(''))\n",
    "three(b)\n",
    "        \n",
    "    "
   ]
  },
  {
   "cell_type": "code",
   "execution_count": null,
   "metadata": {},
   "outputs": [],
   "source": []
  }
 ],
 "metadata": {
  "kernelspec": {
   "display_name": "Python 3",
   "language": "python",
   "name": "python3"
  },
  "language_info": {
   "codemirror_mode": {
    "name": "ipython",
    "version": 3
   },
   "file_extension": ".py",
   "mimetype": "text/x-python",
   "name": "python",
   "nbconvert_exporter": "python",
   "pygments_lexer": "ipython3",
   "version": "3.6.3"
  }
 },
 "nbformat": 4,
 "nbformat_minor": 2
}
