{
 "cells": [
  {
   "cell_type": "code",
   "execution_count": 5,
   "metadata": {},
   "outputs": [],
   "source": [
    "练习 1：仿照求的完整代码，写程序，可求m!+n!+k!"
   ]
  },
  {
   "cell_type": "code",
   "execution_count": 2,
   "metadata": {
    "scrolled": true
   },
   "outputs": [],
   "source": [
    "def jiecheng(n):\n",
    "    i=0\n",
    "    total=1\n",
    "    while i<n:\n",
    "        i=i+1\n",
    "        total=total*i\n",
    "    return total"
   ]
  },
  {
   "cell_type": "code",
   "execution_count": 3,
   "metadata": {},
   "outputs": [
    {
     "name": "stdout",
     "output_type": "stream",
     "text": [
      "输入第一个整数2\n",
      "输入第二个整数2\n",
      "输入第三个整数3\n",
      "10\n"
     ]
    }
   ],
   "source": [
    "m=int(input('输入第一个整数'))\n",
    "n=int(input('输入第二个整数'))\n",
    "k=int(input('输入第三个整数'))\n",
    "print(jiecheng(m)+jiecheng(n)+jiecheng(k))"
   ]
  },
  {
   "cell_type": "markdown",
   "metadata": {},
   "source": [
    "练习 2：写函数可返回1 - 1/3 + 1/5 - 1/7...的前n项的和。在主程序中，分别令n=1000及100000，打印4倍该函数的和。"
   ]
  },
  {
   "cell_type": "code",
   "execution_count": 9,
   "metadata": {},
   "outputs": [],
   "source": [
    "def biantai(n):\n",
    "    i=1\n",
    "    total=0\n",
    "    while i<=n:\n",
    "        x=2*i-1\n",
    "        i=i+1\n",
    "        if x%4==3:\n",
    "            x=-x\n",
    "        else:\n",
    "            x=x\n",
    "        total=total+1/x\n",
    "    return total\n",
    "            \n",
    "        \n",
    "        "
   ]
  },
  {
   "cell_type": "code",
   "execution_count": 16,
   "metadata": {},
   "outputs": [
    {
     "name": "stdout",
     "output_type": "stream",
     "text": [
      "3.140592653839794\n",
      "3.1415826535897198\n"
     ]
    }
   ],
   "source": [
    "print(biantai(1000)*4)\n",
    "print(biantai(100000)*4)\n"
   ]
  },
  {
   "cell_type": "code",
   "execution_count": null,
   "metadata": {},
   "outputs": [],
   "source": [
    "练习 3：将task3中的练习1及练习4改写为函数，并进行调用。"
   ]
  },
  {
   "cell_type": "code",
   "execution_count": 19,
   "metadata": {},
   "outputs": [],
   "source": [
    "def xingzuo():\n",
    "    name=input('请输入你的名字')\n",
    "    print('你好',name)\n",
    "    n=int(input('请输入你的生日日期，例如0924'))\n",
    "    if 321<=n<=419:\n",
    "        print(name,'你是白羊座')\n",
    "    elif 420<=n<=520:\n",
    "        print(name,'你是金牛座')\n",
    "    elif 521<=n<=621:\n",
    "        print(name,'你是双子座')\n",
    "    elif 622<=n<=722:\n",
    "        print(name,'你是巨蟹座')\n",
    "    elif 723<=n<=822:\n",
    "        print(name,'你是狮子座')\n",
    "    elif 823<=n<=922:\n",
    "        print(name,'你是处女座')\n",
    "    elif 923<=n<=1023:\n",
    "        print(name,'你是天秤座')\n",
    "    elif 1024<=n<=1122:\n",
    "        print(name,'你是天蝎座')\n",
    "    elif 1123<=n<=1221:\n",
    "        print(name,'你是射手座')\n",
    "    elif 120<=n<=218:\n",
    "        print(name,'你是水瓶座')\n",
    "    elif 219<=n<=320:\n",
    "        nprint(name,'你是双鱼座')\n",
    "    else:\n",
    "        print(name,'你是摩羯座')"
   ]
  },
  {
   "cell_type": "code",
   "execution_count": 23,
   "metadata": {},
   "outputs": [
    {
     "name": "stdout",
     "output_type": "stream",
     "text": [
      "请输入你的名字lwd\n",
      "你好 lwd\n",
      "请输入你的生日日期，例如09240924\n",
      "lwd 你是天秤座\n"
     ]
    }
   ],
   "source": [
    "xingzuo()"
   ]
  },
  {
   "cell_type": "code",
   "execution_count": 25,
   "metadata": {},
   "outputs": [],
   "source": [
    "def yingwenfuzhu():\n",
    "    v=input('请输入一个英文单词，我将给你它的复数形式')\n",
    "    if v.endswith('s'):\n",
    "        print(v+'es')\n",
    "    elif v.endswith('to'):\n",
    "        print(v+'es')\n",
    "    else:\n",
    "        print(v+'s')"
   ]
  },
  {
   "cell_type": "code",
   "execution_count": 26,
   "metadata": {},
   "outputs": [
    {
     "name": "stdout",
     "output_type": "stream",
     "text": [
      "请输入一个英文单词，我将给你它的复数形式wood\n",
      "woods\n"
     ]
    }
   ],
   "source": [
    "yingwenfuzhu()"
   ]
  },
  {
   "cell_type": "code",
   "execution_count": null,
   "metadata": {},
   "outputs": [],
   "source": [
    "挑战性练习：写程序，可以求从整数m到整数n累加的和，间隔为k，求和部分需用函数实现，主程序中由用户输入m，n，k调用函数验证正确性。"
   ]
  },
  {
   "cell_type": "code",
   "execution_count": 39,
   "metadata": {},
   "outputs": [
    {
     "name": "stdout",
     "output_type": "stream",
     "text": [
      "输入较小的整数m1\n",
      "输入较大的整数n5\n",
      "输入间隔k1\n"
     ]
    },
    {
     "data": {
      "text/plain": [
       "15"
      ]
     },
     "execution_count": 39,
     "metadata": {},
     "output_type": "execute_result"
    }
   ],
   "source": [
    "def lalala(m,n,k):\n",
    "    total=0\n",
    "    while m<=n:\n",
    "        total=total+m\n",
    "        m=m+k\n",
    "    return total\n",
    "m=int(input('输入较小的整数m'))\n",
    "n=int(input('输入较大的整数n'))\n",
    "k=int(input('输入间隔k'))\n",
    "lalala(m,n,k)\n",
    "    "
   ]
  },
  {
   "cell_type": "code",
   "execution_count": null,
   "metadata": {},
   "outputs": [],
   "source": []
  }
 ],
 "metadata": {
  "kernelspec": {
   "display_name": "Python 3",
   "language": "python",
   "name": "python3"
  },
  "language_info": {
   "codemirror_mode": {
    "name": "ipython",
    "version": 3
   },
   "file_extension": ".py",
   "mimetype": "text/x-python",
   "name": "python",
   "nbconvert_exporter": "python",
   "pygments_lexer": "ipython3",
   "version": "3.6.3"
  }
 },
 "nbformat": 4,
 "nbformat_minor": 2
}
