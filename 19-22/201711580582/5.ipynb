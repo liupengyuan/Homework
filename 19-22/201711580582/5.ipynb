{
 "cells": [
  {
   "cell_type": "code",
   "execution_count": null,
   "metadata": {},
   "outputs": [],
   "source": [
    "练习 1：写函数，求n个随机整数均值的平方根，整数范围在m与k之间（n,m,k由用户输入）。"
   ]
  },
  {
   "cell_type": "code",
   "execution_count": 3,
   "metadata": {},
   "outputs": [
    {
     "name": "stdout",
     "output_type": "stream",
     "text": [
      "请输入一个整数3\n",
      "请输入一个比刚才的数大的整数5\n",
      "请输入你想得到的随机数的个数3\n",
      "5\n",
      "3\n",
      "3\n",
      "1.9148542155126762\n"
     ]
    }
   ],
   "source": [
    "import random\n",
    "def lianxiyi():\n",
    "    m=int(input('请输入一个整数'))\n",
    "    k=int(input('请输入一个比刚才的数大的整数'))\n",
    "    n=int(input('请输入你想得到的随机数的个数'))\n",
    "    i=0 \n",
    "    total=0\n",
    "    while i<n:\n",
    "        number=random.randint(m,k)\n",
    "        i+=1\n",
    "        total+=number\n",
    "        print(number)\n",
    "    return((total/n)**0.5)\n",
    "print(lianxiyi())"
   ]
  },
  {
   "cell_type": "code",
   "execution_count": null,
   "metadata": {},
   "outputs": [],
   "source": [
    "练习 2：写函数，共n个随机整数，整数范围在m与k之间，（n,m,k由用户输入）。求1：西格玛log(随机整数)，2：西格玛1/log(随机整数)"
   ]
  },
  {
   "cell_type": "code",
   "execution_count": 4,
   "metadata": {},
   "outputs": [
    {
     "name": "stdout",
     "output_type": "stream",
     "text": [
      "请输入一个整数,最好大于1：2\n",
      "请输入一个比刚才的数大的整数：10\n",
      "请输入你想得到的随机数的个数：3\n",
      "2\n",
      "6\n",
      "3\n",
      "西格玛log= 3.58351893845611\n",
      "西格玛1/log= 2.9110448940670475\n"
     ]
    }
   ],
   "source": [
    "import random,math\n",
    "\n",
    "def lianxier():\n",
    "    m=int(input('请输入一个整数,最好大于1：'))\n",
    "    k=int(input('请输入一个比刚才的数大的整数：'))\n",
    "    n=int(input('请输入你想得到的随机数的个数：'))\n",
    "    i=0\n",
    "    total1=0\n",
    "    total2=0\n",
    "    while i<n:\n",
    "        number=random.randint(m,k)\n",
    "        print(number)\n",
    "    \n",
    "        i+=1\n",
    "        total1=total1+math.log(number)\n",
    "        total2=total2+1/math.log(number)\n",
    "    print('西格玛log=',total1)\n",
    "    print('西格玛1/log=',total2)\n",
    "lianxier()"
   ]
  },
  {
   "cell_type": "code",
   "execution_count": null,
   "metadata": {},
   "outputs": [],
   "source": [
    "练习 3：写函数，求s=a+aa+aaa+aaaa+aa...a的值，其中a是[1,9]之间的随机整数。例如2+22+222+2222+22222(此时共有5个数相加)，几个数相加由键盘输入。"
   ]
  },
  {
   "cell_type": "code",
   "execution_count": 6,
   "metadata": {},
   "outputs": [
    {
     "name": "stdout",
     "output_type": "stream",
     "text": [
      "输入你想要加的数的个数6\n",
      "4\n",
      "493824\n"
     ]
    }
   ],
   "source": [
    "import random\n",
    "def lianxisan():\n",
    "    m=int(input('输入你想要加的数的个数'))\n",
    "    i=0\n",
    "    total=0\n",
    "    end=0\n",
    "    number=random.randint(1,9)\n",
    "    print(number)\n",
    "    while i<m:\n",
    "        n=number*10**(i)\n",
    "        total=total+n\n",
    "        end=total+end\n",
    "        i=i+1\n",
    "        \n",
    "    return end\n",
    "print(lianxisan())"
   ]
  },
  {
   "cell_type": "code",
   "execution_count": null,
   "metadata": {},
   "outputs": [],
   "source": [
    "挑战性练习：仿照task5，将猜数游戏改成由用户随便选择一个整数，让计算机来猜测的猜数游戏，要求和task5中人猜测的方法类似，但是人机角色对换，由人来判断猜测是大、小还是相等，请写出完整的猜数游戏。"
   ]
  },
  {
   "cell_type": "code",
   "execution_count": 2,
   "metadata": {
    "scrolled": true
   },
   "outputs": [
    {
     "name": "stdout",
     "output_type": "stream",
     "text": [
      "请输入一个你喜欢的整数6\n",
      "请输入输入整数的下限1\n",
      "请输入输入整数的上限100\n",
      "81\n",
      "输入1表示大了，输入2表示小了1\n",
      "30\n",
      "输入1表示大了，输入2表示小了1\n",
      "10\n",
      "输入1表示大了，输入2表示小了1\n",
      "3\n",
      "输入1表示大了，输入2表示小了2\n",
      "4\n",
      "输入1表示大了，输入2表示小了2\n",
      "9\n",
      "输入1表示大了，输入2表示小了1\n",
      "6\n",
      "电脑太机智了猜对了你的数字\n"
     ]
    }
   ],
   "source": [
    "import random,math\n",
    "l=int(input('请输入一个你喜欢的整数'))\n",
    "m=int(input('请输入输入整数的下限'))\n",
    "n=int(input('请输入输入整数的上限'))\n",
    "number=random.randint(m,n)\n",
    "print(number)\n",
    "max = n\n",
    "min = m\n",
    "\n",
    "\n",
    "\n",
    "\n",
    "\n",
    "    \n",
    "while  number!=l:\n",
    "    q=int(input('输入1表示大了，输入2表示小了'))\n",
    "   \n",
    "    while q==1:\n",
    "        max = number\n",
    "        number=random.randint(min,max-1)\n",
    "        print(number)\n",
    "        break\n",
    "    while q==2:\n",
    "        min = number\n",
    "        number=random.randint(min+1,max)  \n",
    "        print(number)\n",
    "        break\n",
    "print('电脑太机智了猜对了你的数字')\n",
    "\n",
    "        \n",
    "    \n",
    "    \n",
    "    \n",
    "        \n",
    "    \n",
    "        \n",
    "    \n",
    "    \n",
    "    \n",
    "    \n",
    "    \n",
    "    \n",
    "\n",
    "\n"
   ]
  },
  {
   "cell_type": "code",
   "execution_count": null,
   "metadata": {},
   "outputs": [],
   "source": []
  }
 ],
 "metadata": {
  "kernelspec": {
   "display_name": "Python 3",
   "language": "python",
   "name": "python3"
  },
  "language_info": {
   "codemirror_mode": {
    "name": "ipython",
    "version": 3
   },
   "file_extension": ".py",
   "mimetype": "text/x-python",
   "name": "python",
   "nbconvert_exporter": "python",
   "pygments_lexer": "ipython3",
   "version": "3.6.3"
  }
 },
 "nbformat": 4,
 "nbformat_minor": 2
}
