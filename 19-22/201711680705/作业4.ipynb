{
 "cells": [
  {
   "cell_type": "code",
   "execution_count": 6,
   "metadata": {},
   "outputs": [
    {
     "name": "stdout",
     "output_type": "stream",
     "text": [
      "请输入第1个整数，以回车结束。3\n",
      "请输入第2个整数，以回车结束。2\n",
      "请输入第3个整数，以回车结束。1\n",
      "9\n"
     ]
    }
   ],
   "source": [
    "#练习 1：仿照求写程序，可求m!+n!+k!\n",
    "def my_mul(end):\n",
    "    i=0\n",
    "    mul=1\n",
    "    while i<end:\n",
    "        i+=1\n",
    "        mul=mul*i\n",
    "    return mul\n",
    "#主程序\n",
    "m =int(input('请输入第1个整数，以回车结束。'))\n",
    "n = int(input('请输入第2个整数，以回车结束。'))\n",
    "k = int(input('请输入第3个整数，以回车结束。'))\n",
    "\n",
    "print(my_mul(m)+my_mul(n)+my_mul(k))"
   ]
  },
  {
   "cell_type": "code",
   "execution_count": 31,
   "metadata": {},
   "outputs": [
    {
     "name": "stdout",
     "output_type": "stream",
     "text": [
      "3.140592653839794 3.1415826535897198\n"
     ]
    }
   ],
   "source": [
    "#练习 2：写函数可返1 - 1/3 + 1/5 - 1/7...的前n项的和。在主程序中，分别令n=1000及100000，打印4倍该函数的和\n",
    "def my_sum(n):\n",
    "    i=0\n",
    "    sum=0\n",
    "    while i<n:\n",
    "        i+=1\n",
    "        x=2*i-1\n",
    "        sum=sum+(-1)**(i-1)*(1/x)\n",
    "    return sum\n",
    "#主程序\n",
    "print(4*my_sum(1000) ,4*my_sum(100000))"
   ]
  },
  {
   "cell_type": "code",
   "execution_count": 33,
   "metadata": {},
   "outputs": [
    {
     "name": "stdout",
     "output_type": "stream",
     "text": [
      "请输入您的姓名，回车结束s\n",
      "请输入您的出生月份，回车结束12\n",
      "请输入您出生的日期，回车结束29\n",
      "s 你是个非常有个性的摩羯座\n"
     ]
    }
   ],
   "source": [
    "# 练习3：将task3中的练习1及练习4改写为函数，并进行调试\n",
    "name=input('请输入您的姓名，回车结束')\n",
    "month=int(input('请输入您的出生月份，回车结束'))\n",
    "day=int(input('请输入您出生的日期，回车结束'))\n",
    "def constellation():\n",
    "    \n",
    "    \n",
    "    \n",
    "    if (month == 3 and 21<=day<=31)or(month == 4 and 1<=day<=19):\n",
    "        return'你是个非常有个性的白羊座'\n",
    "    if (month==4 and 20<=day<=30)or(month==5 and 1<=day<=20):\n",
    "        return'你是个非常有个性的金牛座'\n",
    "    if (month==5 and 21<=day<=31)or(month==6 and 1<=day<=21):\n",
    "        return'你是个非常有个性的双子座'\n",
    "    if (month==6 and 22<=day<=30)or(month==7 and 1<=day<=22):\n",
    "        return'你是个非常有个性的巨蟹座'\n",
    "    if (month==7 and 23<=day<=31)or(month==8 and 1<=day<=22):\n",
    "        return'你是个非常有个性的狮子座'\n",
    "    if (month==8 and 23<=day<=31)or(month==9 and 1<=day<=22):\n",
    "        return'你是个非常有个性的处女座'\n",
    "    if (month==9 and 23<=day<=30)or(month==10 and 1<=day<=23):\n",
    "        return'你是个非常有个性的天秤座'\n",
    "    if (month==10 and 24<=day<=31)or(month==11 and 1<=day<=22):\n",
    "        return'你是个非常有个性的天蝎座'\n",
    "    if (month==11 and 23<=day<=30)or(month==12 and 1<=day<=21):\n",
    "        return'你是个非常有个性的射手座'\n",
    "    if (month==12 and 22<=day<=31)or(month==1 and 1<=day<=19):\n",
    "        return'你是个非常有个性的摩羯座'\n",
    "    if (month==1 and 20<=day<=31)or(month==2 and 1<=day<=18):\n",
    "        return'你是个非常有个性的水瓶座'\n",
    "    if (month==2 and 19<=day<=29)or(month==3 and 1<=day<=20):\n",
    "        return'你是个非常有个性的双鱼座'\n",
    "    else:\n",
    "        return'输入非法'\n",
    "    \n",
    "print(name,constellation())"
   ]
  },
  {
   "cell_type": "code",
   "execution_count": 34,
   "metadata": {},
   "outputs": [
    {
     "name": "stdout",
     "output_type": "stream",
     "text": [
      "请输入一个英文单词，回车结束:\n",
      "ps\n",
      "+es\n"
     ]
    }
   ],
   "source": [
    "def word():\n",
    "    n=input('请输入一个英文单词，回车结束:\\n')\n",
    "    \n",
    "    if n.endswith ('s'):\n",
    "        return '+es'\n",
    "    \n",
    "    \n",
    "    elif n.endswith ('f'):\n",
    "        return '去f加ves'\n",
    "    \n",
    "    elif n.endswith ('fe'):\n",
    "        return '去fe加ves'\n",
    "    else:\n",
    "        return '+s'\n",
    "    \n",
    "print(word())"
   ]
  },
  {
   "cell_type": "code",
   "execution_count": 30,
   "metadata": {},
   "outputs": [
    {
     "name": "stdout",
     "output_type": "stream",
     "text": [
      "请输入一个整数，回车结束2\n",
      "请输入一个大于m的整数，回车结束7\n",
      "请输入一个整数，回车结束1\n",
      "12\n"
     ]
    }
   ],
   "source": [
    "def tot():\n",
    "\n",
    "    m=int(input('请输入一个整数，回车结束'))\n",
    "    n=int(input('请输入一个大于m的整数，回车结束'))\n",
    "    k=int(input('请输入一个整数，回车结束'))\n",
    "    total=0\n",
    "    while m<=n:\n",
    "        total=total+m\n",
    "        m=m+k+1\n",
    "    return total\n",
    "print(tot())\n"
   ]
  },
  {
   "cell_type": "markdown",
   "metadata": {},
   "source": []
  },
  {
   "cell_type": "code",
   "execution_count": null,
   "metadata": {
    "collapsed": true
   },
   "outputs": [],
   "source": []
  }
 ],
 "metadata": {
  "kernelspec": {
   "display_name": "Python 3",
   "language": "python",
   "name": "python3"
  },
  "language_info": {
   "codemirror_mode": {
    "name": "ipython",
    "version": 3
   },
   "file_extension": ".py",
   "mimetype": "text/x-python",
   "name": "python",
   "nbconvert_exporter": "python",
   "pygments_lexer": "ipython3",
   "version": "3.6.2"
  }
 },
 "nbformat": 4,
 "nbformat_minor": 2
}
