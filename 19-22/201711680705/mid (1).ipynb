{
 "cells": [
  {
   "cell_type": "code",
   "execution_count": 4,
   "metadata": {
    "collapsed": false
   },
   "outputs": [
    {
     "name": "stdout",
     "output_type": "stream",
     "text": [
      "请输入项数m=3\n",
      "和为 10.0\n"
     ]
    }
   ],
   "source": [
    "#1.\n",
    "def answer():\n",
    "    m=int(input('请输入项数m='))\n",
    "    i=0\n",
    "    total=0\n",
    "    while i<m:\n",
    "        i+=1\n",
    "        total=total+(1+i)*i/2\n",
    "    return total\n",
    "print('和为',answer())\n",
    "\n",
    "    \n",
    "    "
   ]
  },
  {
   "cell_type": "code",
   "execution_count": 3,
   "metadata": {
    "collapsed": false
   },
   "outputs": [
    {
     "name": "stdout",
     "output_type": "stream",
     "text": [
      "\n"
     ]
    }
   ],
   "source": [
    "#2.\n",
    "def line(x,y):\n",
    "    x=input('请输入符号x=')\n",
    "    \n",
    "    y=int(input('请输入行数y='))\n",
    "    line='x'\n",
    "    for i in range(1,y+1):\n",
    "        for j in range(1,i):\n",
    "            print(line[0],end='')\n",
    "    return x,y\n",
    "print()"
   ]
  },
  {
   "cell_type": "code",
   "execution_count": 13,
   "metadata": {
    "collapsed": false
   },
   "outputs": [
    {
     "name": "stdout",
     "output_type": "stream",
     "text": [
      "请输入一个任意正整数，回车结束。912\n",
      "请输入此正整数位数3\n",
      "9\n"
     ]
    }
   ],
   "source": [
    "#3\n",
    "def answer():\n",
    "    m=int(input('请输入一个任意正整数，回车结束。'))\n",
    "    n=int(input('请输入此正整数位数'))\n",
    "    x=m//(10**(n-1))\n",
    "    return x\n",
    "print(answer())"
   ]
  },
  {
   "cell_type": "code",
   "execution_count": 1,
   "metadata": {
    "collapsed": false
   },
   "outputs": [
    {
     "name": "stdout",
     "output_type": "stream",
     "text": [
      "请输入队员的身高183\n",
      "请输入队员的身高185\n",
      "请输入队员的身高183\n",
      "请输入队员的身高187\n",
      "请输入队员的身高178\n",
      "请输入队员的身高175\n",
      "请输入队员的身高177\n",
      "请输入队员的身高190\n",
      "请输入队员的身高172\n",
      "181.11111111111111\n",
      "高于平均身高的 190\n",
      "高于平均身高的 187\n",
      "高于平均身高的 183\n",
      "高于平均身高的 185\n",
      "高于平均身高的 183\n"
     ]
    }
   ],
   "source": [
    "#4\n",
    "\n",
    "    \n",
    "list=[]\n",
    "n=0\n",
    "while n<9:\n",
    "    n+=1\n",
    "    h=int(input('请输入队员的身高'))\n",
    "    list.append(h)\n",
    "    \n",
    "    \n",
    "t=len(list)-1\n",
    "i=0\n",
    "total=list[0]\n",
    "while i<t:\n",
    "    i+=1\n",
    "    total+=list[i]\n",
    "average=total/9\n",
    "print(average)\n",
    "while i>0:\n",
    "    i-=1\n",
    "    if list[i]>average:\n",
    "        print('高于平均身高的',list[i])\n",
    "       \n"
   ]
  },
  {
   "cell_type": "code",
   "execution_count": 2,
   "metadata": {
    "collapsed": false
   },
   "outputs": [
    {
     "name": "stdout",
     "output_type": "stream",
     "text": [
      "x1= 2 x2= 9\n",
      "请输入x1+x2的和11\n",
      "x1= 7 x2= 2\n",
      "请输入x1+x2的和9\n",
      "x1= 8 x2= 3\n",
      "请输入x1+x2的和11\n",
      "x1= 9 x2= 7\n",
      "请输入x1+x2的和16\n",
      "x1= 1 x2= 1\n",
      "请输入x1+x2的和2\n",
      "最终得分 100\n"
     ]
    }
   ],
   "source": [
    "#5\n",
    "import random\n",
    "def game():\n",
    "    grades=0\n",
    "    i=0\n",
    "    answer=0\n",
    "    while i<5:\n",
    "        i+=1\n",
    "        x1=random.randint(1,9)\n",
    "        x2=random.randint(1,9)\n",
    "        print('x1=',x1,'x2=',x2)\n",
    "        answer=int(input('请输入x1+x2的和'))\n",
    "        if answer==x1+x2:\n",
    "            grades+=20\n",
    "    return grades\n",
    "print('最终得分',game())\n",
    "        \n",
    "    "
   ]
  },
  {
   "cell_type": "code",
   "execution_count": 1,
   "metadata": {
    "collapsed": false
   },
   "outputs": [
    {
     "name": "stdout",
     "output_type": "stream",
     "text": [
      "[108, [3, -5, 9, 108, 34, -76, 88], -76]\n"
     ]
    }
   ],
   "source": [
    "#6\n",
    "\n",
    "list1=[3,-5,9,108,34,-76,88]\n",
    "list2=[]\n",
    "max_num=list1[0]\n",
    "min_num=list1[0]\n",
    "i=0\n",
    "while i<len(list1)-1:\n",
    "    i+=1\n",
    "    if list1[i]>max_num:\n",
    "        max_num=list1[i]\n",
    "    elif list1[i]<min_num:\n",
    "        min_num=list1[i]\n",
    "    \n",
    "list2.append(max_num)\n",
    "list2.append(list1)\n",
    "list2.append(min_num)\n",
    "print(list2)\n",
    "\n"
   ]
  },
  {
   "cell_type": "code",
   "execution_count": null,
   "metadata": {
    "collapsed": true
   },
   "outputs": [],
   "source": []
  }
 ],
 "metadata": {
  "kernelspec": {
   "display_name": "Python 3",
   "language": "python",
   "name": "python3"
  },
  "language_info": {
   "codemirror_mode": {
    "name": "ipython",
    "version": 3
   },
   "file_extension": ".py",
   "mimetype": "text/x-python",
   "name": "python",
   "nbconvert_exporter": "python",
   "pygments_lexer": "ipython3",
   "version": "3.6.0"
  }
 },
 "nbformat": 4,
 "nbformat_minor": 2
}
