{
 "cells": [
  {
   "cell_type": "code",
   "execution_count": 30,
   "metadata": {},
   "outputs": [
    {
     "name": "stdout",
     "output_type": "stream",
     "text": [
      "字表 1251\n",
      "请输入想查看的文件名1\n",
      "10 伥补座手位蜃彰影虫制\n",
      "请输入想查看的文件名2\n",
      "20 界斩放复滥续名膺鼓诱宾安残鸠进紫起贯是月\n",
      "请输入想查看的文件名3\n",
      "30 言眼驰腾凉唇迹齐掩俊红提欲上韵梁峰逑敏默到盗默汗仁夕随讳问瓴\n",
      "请输入想查看的文件名4\n",
      "40 抗发荦聊患贵狼好吹价赶骜鞠怒锦竽尸芙庖全急昔丝得盗矛没钟骨噤晷目卷怪单一踏耻昙俎\n",
      "请输入想查看的文件名5\n",
      "50 座迫卧悔聋吞内画行命燎奔向界补乱锤斩赶穴北腋阋衣克吞腕艾桑挂友仪首前纵粟磨窟迹不字班沽岳击居蜀合踌峰\n",
      "请输入想查看的文件名6\n",
      "60 骄道政童富锤裘餐沙熙远答仁恃朵薪滔非又指退突建踽桑艾铁糊败鬼尸掩扑云镜孑直箭涛市乱沁交帷悸位智涯错窕逢逍箭息豁宝海仁齿僵\n",
      "请输入想查看的文件名7\n",
      "70 股让烟情猫鹏急涂扮解涂过唇谁凰兔露睫犀栋顺二丹故杏燎能覆敬指巷踌败驰击治甜助盖忘晷正正简迷孤载我乎致草白良仆岸郸求虚筚炙涯愿落暮间指谈扮思目\n",
      "请输入想查看的文件名8\n",
      "80 生编齐誉电余阖喜苛郑魑沙拔目令韬始卧遥裘应充横面肝朗泰故黩碑说待讳林念彰衰凌立凌捉炎放老薄请沽外筚斯柔燕志鲤素卫吃右静箭茂观益患茕光问明言目愿聊迟杜应黄国唯已浪\n",
      "请输入想查看的文件名9\n",
      "90 荫兴眩技致玑丧余迹泾泰负底夺智苗亡朝和象步言市辟科勿阋地喻荼锁栗苒络小顺雷绕灵心帷迷吐糊姬鹰往掣容桑永弥鹿蝉斑问温秣科魉柯翻戛备遇杯瑜联思皆蹴船古炎狮效帆驴上甘弓盲娇誉借府涂锋名场\n",
      "请输入想查看的文件名10\n",
      "100 义途窍凤逝红吼由蒂运绝犀落粉维豹惜年汹狼怙天休会微精挂暴加逢脱凿昔栩底貌喑股羁童驴杯夺舌令往恭桀胆己绕向去风偷僵石横经则厚满七兽泪屋遇竽优晦真楼辱到花让僵秋晷发养林军陇报砥咤倦树牢泾象见歧绘绎盖瀣凤枉\n"
     ]
    }
   ],
   "source": [
    "import random\n",
    "def get_ch_table(line):\n",
    "    ch_table = []\n",
    "    for ch in line:\n",
    "        if ch not in ch_table:\n",
    "            ch_table.append(ch)\n",
    "    return ch_table\n",
    "print('字表',len(chs))\n",
    "fh = open(r'c:\\temp\\idioms.txt')\n",
    "text = fh.read()\n",
    "chs = get_ch_table(text.replace('\\n', ''))\n",
    "\n",
    "for i in range(10):\n",
    "    x=[]\n",
    "    n=int(input('请输入想查看的文件名'))\n",
    "    while len(x)<n*10:\n",
    "        ch=random.choice(chs)\n",
    "        x.append(ch)\n",
    "        m=[r'c:\\temp\\i','i','.txt']\n",
    "        m[0]=m[0][:-1]\n",
    "        m[1]=str(n)\n",
    "        m=''.join(m)\n",
    "        fh=open(m,'w')\n",
    "        fh.writelines(x)\n",
    "        fh.close()\n",
    "        fh=open(m)\n",
    "        j=fh.read()\n",
    "        fh.close()\n",
    "    print(len(j),j)"
   ]
  },
  {
   "cell_type": "code",
   "execution_count": null,
   "metadata": {
    "collapsed": true
   },
   "outputs": [],
   "source": []
  }
 ],
 "metadata": {
  "kernelspec": {
   "display_name": "Python 3",
   "language": "python",
   "name": "python3"
  },
  "language_info": {
   "codemirror_mode": {
    "name": "ipython",
    "version": 3
   },
   "file_extension": ".py",
   "mimetype": "text/x-python",
   "name": "python",
   "nbconvert_exporter": "python",
   "pygments_lexer": "ipython3",
   "version": "3.6.2"
  }
 },
 "nbformat": 4,
 "nbformat_minor": 2
}
