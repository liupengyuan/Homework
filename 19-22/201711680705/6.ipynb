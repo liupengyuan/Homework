{
 "cells": [
  {
   "cell_type": "code",
   "execution_count": 1,
   "metadata": {},
   "outputs": [
    {
     "name": "stdout",
     "output_type": "stream",
     "text": [
      "[1, 2, -3, 5, 9, 12, 29, 521, 11]\n",
      "元素个数 9\n",
      "请输入元素位置9\n",
      "-1\n"
     ]
    }
   ],
   "source": [
    "#写函数，返回某个对象/元素在一个list中的位置，如果不在则返回-1.\n",
    "def question():\n",
    "    lists=[1,2,-3,5,9,12,29,521,11]\n",
    "    print(lists)\n",
    "    print('元素个数',len(lists))\n",
    "    n=int(input('请输入元素位置'))\n",
    "    answer=0\n",
    "    if n<=(len(lists)-1):\n",
    "        answer=list[n]\n",
    "    elif n>=len(lists) or n<0:\n",
    "        answer=-1\n",
    "    return answer\n",
    "print(question())"
   ]
  },
  {
   "cell_type": "code",
   "execution_count": 34,
   "metadata": {},
   "outputs": [
    {
     "name": "stdout",
     "output_type": "stream",
     "text": [
      "[1, 5, 2, 6, 3, 7, 4, 8]\n"
     ]
    }
   ],
   "source": [
    "#写函数，可将两个相同长度的list,间隔插入，生成新的list。例如：给两个list，a=[1,2,3,4],b=[5,6,7,8]。则可生成：[1,5,2,6,3,7,4,8].\n",
    "def list():\n",
    "    list=[]\n",
    "    list1=[1,2,3,4]\n",
    "    list2=[5,6,7,8]\n",
    "    list=[list1[0],list2[0]]\n",
    "    n=0\n",
    "    while n<(len(list1)-1):\n",
    "        n+=1\n",
    "        list.append(list1[n])\n",
    "        list.append(list2[n])\n",
    "    return list\n",
    "\n",
    "print(list())\n"
   ]
  },
  {
   "cell_type": "code",
   "execution_count": 41,
   "metadata": {},
   "outputs": [
    {
     "name": "stdout",
     "output_type": "stream",
     "text": [
      "请输入一个向量的水平分量3\n",
      "请输入另一个向量的水平分量5\n",
      "请输入一个向量的竖直分量4\n",
      "请输入另一个向量的竖直分量12\n",
      "0.9692307692307692\n"
     ]
    }
   ],
   "source": [
    "#写函数，可求两个向量的夹角余弦值，向量可放在list中.主程序调用该函数\n",
    "def cos():\n",
    "    \n",
    "    x=[]\n",
    "    y=[]\n",
    "    result1=0\n",
    "    result2=0\n",
    "    result3=0\n",
    "    \n",
    "    \n",
    "    x1=int(input('请输入一个向量的水平分量'))\n",
    "    x2=int(input('请输入另一个向量的水平分量'))\n",
    "    y1=int(input('请输入一个向量的竖直分量'))\n",
    "    y2=int(input('请输入另一个向量的竖直分量'))\n",
    "    x.append(x1)\n",
    "    x.append(x2)\n",
    "    y.append(y1)  \n",
    "    y.append(y2)\n",
    "    \n",
    "    result1=x1*x2+y1*y2\n",
    "    result2=(x1**2+y1**2)**(1/2)\n",
    "    result3=(x2**2+y2**2)**(1/2)\n",
    "        \n",
    "    return result1/((result2*result3))\n",
    "    \n",
    "    \n",
    "\n",
    "print(cos())\n",
    "\n",
    "    "
   ]
  },
  {
   "cell_type": "code",
   "execution_count": 26,
   "metadata": {},
   "outputs": [
    {
     "name": "stdout",
     "output_type": "stream",
     "text": [
      "共有 86 种不同分法\n"
     ]
    }
   ],
   "source": [
    "#python老师为了激励学生学python,自费买了100个完全相同的Macbook Pro,分给三个班级，每个班级至少分5个，用穷举法计算共有多少种分法？\n",
    "def result():\n",
    "    x=5\n",
    "    y=5\n",
    "    z=90\n",
    "    i=1\n",
    "    while z>6:\n",
    "        x+=1\n",
    "        z-=1\n",
    "        i+=1\n",
    "        y+=1\n",
    "        z-=1\n",
    "        i+=1\n",
    "    return i\n",
    "print('共有',result()+1,'种不同分法')#最后一组48,47,5，所以加1"
   ]
  }
 ],
 "metadata": {
  "kernelspec": {
   "display_name": "Python 3",
   "language": "python",
   "name": "python3"
  },
  "language_info": {
   "codemirror_mode": {
    "name": "ipython",
    "version": 3
   },
   "file_extension": ".py",
   "mimetype": "text/x-python",
   "name": "python",
   "nbconvert_exporter": "python",
   "pygments_lexer": "ipython3",
   "version": "3.6.2"
  }
 },
 "nbformat": 4,
 "nbformat_minor": 2
}
