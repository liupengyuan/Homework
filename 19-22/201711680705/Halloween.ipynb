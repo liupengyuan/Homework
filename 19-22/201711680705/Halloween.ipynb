{
 "cells": [
  {
   "cell_type": "code",
   "execution_count": 5,
   "metadata": {},
   "outputs": [
    {
     "name": "stdout",
     "output_type": "stream",
     "text": [
      "请输入一个整数，回车结束2\n",
      "请输入一个整数，回车结束3\n",
      "8\n"
     ]
    }
   ],
   "source": [
    "def my_sum(n):\n",
    "    i=0\n",
    "    total=0\n",
    "    while i<n:\n",
    "        i+=1\n",
    "        total=total+i\n",
    "    return total\n",
    "    \n",
    "def my_mul(n):\n",
    "    k=0\n",
    "    ji=1\n",
    "    while k<n:\n",
    "        k+=1\n",
    "        ji=ji*k\n",
    "    return ji    \n",
    "    \n",
    "    \n",
    "    \n",
    "m=int(input('请输入一个整数，回车结束'))\n",
    "n=int(input('请输入一个整数，回车结束'))\n",
    "\n",
    "if m>n:\n",
    "    print(my_sum(m)+my_sum(n))\n",
    "    \n",
    "else :\n",
    "    print(my_mul(m)+my_mul(n))\n",
    "#主程序\n"
   ]
  },
  {
   "cell_type": "code",
   "execution_count": null,
   "metadata": {
    "collapsed": true
   },
   "outputs": [],
   "source": []
  },
  {
   "cell_type": "code",
   "execution_count": null,
   "metadata": {
    "collapsed": true
   },
   "outputs": [],
   "source": []
  }
 ],
 "metadata": {
  "kernelspec": {
   "display_name": "Python 3",
   "language": "python",
   "name": "python3"
  },
  "language_info": {
   "codemirror_mode": {
    "name": "ipython",
    "version": 3
   },
   "file_extension": ".py",
   "mimetype": "text/x-python",
   "name": "python",
   "nbconvert_exporter": "python",
   "pygments_lexer": "ipython3",
   "version": "3.6.2"
  }
 },
 "nbformat": 4,
 "nbformat_minor": 2
}
