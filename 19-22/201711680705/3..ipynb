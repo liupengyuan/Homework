{
 "cells": [
  {
   "cell_type": "code",
   "execution_count": 4,
   "metadata": {},
   "outputs": [
    {
     "name": "stdout",
     "output_type": "stream",
     "text": [
      "输入您的姓名，回车结束s\n",
      "请输入您出生的月份，回车结束12\n",
      "请输入您出生的日子，回车结束29\n",
      "s 你是个非常有个性的摩羯座\n",
      "结束，谢谢使用。\n"
     ]
    }
   ],
   "source": [
    "#星座查询\n",
    "\n",
    "n=input('输入您的姓名，回车结束')\n",
    "m=int(input('请输入您出生的月份，回车结束'))\n",
    "d=int(input('请输入您出生的日子，回车结束'))\n",
    "if m==3:\n",
    "    if d<21:\n",
    "        print(n,'你是个非常有个性的双鱼座')\n",
    "    else: \n",
    "        print(n,'你是个非常有个性的白羊座')\n",
    "if m==4:\n",
    "    if d<20:\n",
    "        print(n,'你是个非常有个性的白羊座')\n",
    "    else:\n",
    "        print(n,'你是个非常有个性的金牛座')\n",
    "if m==5:\n",
    "    if d<21:\n",
    "        print(n,'你是个非常有个性的金牛座')\n",
    "    else:\n",
    "        print(n,'你是个非常有个性的双子座')\n",
    "if m==6:\n",
    "    if d<22:\n",
    "        print(n,'你是个非常有个性的双子座')\n",
    "    else:\n",
    "        print(n,'你是个非常有个性的巨蟹座')\n",
    "if m==7:\n",
    "    if d<23:\n",
    "        print(n,'你是个非常有个性的巨蟹座')\n",
    "    else:\n",
    "        print(n,'你是个非常有个性的狮子座')\n",
    "if m==8:\n",
    "    if d<23:\n",
    "        print(n,'你是个非常有个性的狮子座')\n",
    "    else:\n",
    "        print(n,'你是个非常有个性的处女座')\n",
    "if m==9:\n",
    "    if d<23:\n",
    "        print(n,'你是个非常有个性的处女座')\n",
    "    else :\n",
    "        print(n,'你是个非常有个性的天秤座')\n",
    "if m==10:\n",
    "    if d<24:\n",
    "        print(n,'你是个非常有个性的天秤座')\n",
    "    else:\n",
    "        print(n,'你是个非常有个性的天蝎座')\n",
    "if m==11:\n",
    "    if d<23:\n",
    "        print(n,'你是个非常有个性的天蝎座')\n",
    "    else:\n",
    "        print(n,'你是个非常有个性的射手座')\n",
    "if m==12:\n",
    "    if d<22:\n",
    "        print(n,'你是个非常有个性的射手座')\n",
    "    else:\n",
    "        print(n,'你是个非常有个性的摩羯座')\n",
    "if m==1:\n",
    "    if d<20:\n",
    "        print(n,'你是个非常有个性的摩羯座')\n",
    "    else:\n",
    "        print(n,'你是个非常有个性的水瓶座')\n",
    "if m==2:\n",
    "    if d<19:\n",
    "        print(n,'你是个非常有个性的水瓶座')\n",
    "    else:\n",
    "        print(n,'你是个非常有个性的双鱼座')\n",
    "print('结束，谢谢使用。')\n"
   ]
  },
  {
   "cell_type": "code",
   "execution_count": 20,
   "metadata": {},
   "outputs": [
    {
     "name": "stdout",
     "output_type": "stream",
     "text": [
      "输入一个整数，回车结束2\n",
      "输入一个非零整数，回车结束5\n",
      "求和请输+，求积请输*，求余数请输%，求整除请输//*\n",
      "积为 24\n"
     ]
    }
   ],
   "source": [
    "#m与n之间的计算\n",
    "\n",
    "m=int(input('输入一个整数，回车结束'))\n",
    "n=int(input('输入一个非零整数，回车结束'))\n",
    "intention=input('求和请输+，求积请输*，求余数请输%，求整除请输//')\n",
    "total=1\n",
    "if intention=='+':\n",
    "    if m>=n:\n",
    "        total=(m+n)*(m-n+1)*0.5\n",
    "    else:\n",
    "        total=(m+n)*(n-m+1)*0.5\n",
    "    print('和为',total)\n",
    "    \n",
    "if intention=='*':\n",
    "    if m>=n:\n",
    "        while m>=n:\n",
    "            m=m-1\n",
    "            total=total*m\n",
    "    else:\n",
    "        while n>=m:\n",
    "            n=n-1\n",
    "            total=total*n\n",
    "\n",
    "    print('积为',total)\n",
    "    \n",
    "if intention=='%':\n",
    "    total=m%n\n",
    "    print('m除以n的余数为',total)\n",
    "    \n",
    "if intention=='//':\n",
    "    total=m//n\n",
    "    print('m整除n的值为',total)\n"
   ]
  },
  {
   "cell_type": "code",
   "execution_count": 10,
   "metadata": {},
   "outputs": [
    {
     "name": "stdout",
     "output_type": "stream",
     "text": [
      "输入一个英文动词，单数形式，回车结束jump\n",
      "jump 加s\n"
     ]
    }
   ],
   "source": [
    "#英文动词变复数\n",
    "\n",
    "n=input('输入一个英文动词，单数形式，回车结束')\n",
    "if n.endswith ('s'):\n",
    "    print(n,'加es')\n",
    "    \n",
    "elif n.endswith ('sh'):\n",
    "    print(n,'加es')\n",
    "    \n",
    "elif n.endswith ('ch'):\n",
    "    print(n,'加es')\n",
    "    \n",
    "elif n.endswith ('x'):\n",
    "    print(n,'加es')\n",
    "    \n",
    "elif n.endswith ('f'):\n",
    "    print(n,'去f加ves')\n",
    "    \n",
    "elif n.endswith ('fe'):\n",
    "    print(n,'去fe加ves')\n",
    "else:\n",
    "    print(n,'加s')\n"
   ]
  },
  {
   "cell_type": "code",
   "execution_count": 7,
   "metadata": {},
   "outputs": [
    {
     "name": "stdout",
     "output_type": "stream",
     "text": [
      "\n"
     ]
    }
   ],
   "source": [
    "#打印空行\n",
    "print()\n"
   ]
  },
  {
   "cell_type": "code",
   "execution_count": null,
   "metadata": {
    "collapsed": true
   },
   "outputs": [],
   "source": []
  }
 ],
 "metadata": {
  "kernelspec": {
   "display_name": "Python 3",
   "language": "python",
   "name": "python3"
  },
  "language_info": {
   "codemirror_mode": {
    "name": "ipython",
    "version": 3
   },
   "file_extension": ".py",
   "mimetype": "text/x-python",
   "name": "python",
   "nbconvert_exporter": "python",
   "pygments_lexer": "ipython3",
   "version": "3.6.2"
  }
 },
 "nbformat": 4,
 "nbformat_minor": 2
}
