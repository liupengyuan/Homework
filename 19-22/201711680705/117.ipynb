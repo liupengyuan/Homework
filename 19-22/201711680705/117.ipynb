{
 "cells": [
  {
   "cell_type": "code",
   "execution_count": 2,
   "metadata": {
    "collapsed": false
   },
   "outputs": [
    {
     "name": "stdout",
     "output_type": "stream",
     "text": [
      "请输入个数m5\n",
      "请输入一个整数n10\n",
      "请输入一个大于n的整数k500\n",
      "34.17601498127012\n"
     ]
    }
   ],
   "source": [
    "import random\n",
    "def sum():\n",
    "    m=int(input('请输入个数m'))\n",
    "    n=int(input('请输入一个整数n'))\n",
    "    k=int(input('请输入一个大于n的整数k'))\n",
    "    \n",
    "    \n",
    "    i=0\n",
    "    x=0\n",
    "    total=0\n",
    "    while i<m:\n",
    "        i+=1\n",
    "        x=random.randint(n,k)\n",
    "        total+=x\n",
    "        answer=total**(1/2)\n",
    "    return answer\n",
    "print(sum())"
   ]
  },
  {
   "cell_type": "code",
   "execution_count": null,
   "metadata": {
    "collapsed": true
   },
   "outputs": [],
   "source": []
  }
 ],
 "metadata": {
  "kernelspec": {
   "display_name": "Python 3",
   "language": "python",
   "name": "python3"
  },
  "language_info": {
   "codemirror_mode": {
    "name": "ipython",
    "version": 3
   },
   "file_extension": ".py",
   "mimetype": "text/x-python",
   "name": "python",
   "nbconvert_exporter": "python",
   "pygments_lexer": "ipython3",
   "version": "3.6.0"
  }
 },
 "nbformat": 4,
 "nbformat_minor": 2
}
