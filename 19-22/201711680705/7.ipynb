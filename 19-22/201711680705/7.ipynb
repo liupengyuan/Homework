{
 "cells": [
  {
   "cell_type": "code",
   "execution_count": 28,
   "metadata": {},
   "outputs": [
    {
     "name": "stdout",
     "output_type": "stream",
     "text": [
      "输入字符串912\n",
      "219\n"
     ]
    }
   ],
   "source": [
    "#练习一\n",
    "def rev():\n",
    "    line=input('输入字符串')\n",
    "    print(line[::-1])\n",
    "    \n",
    "rev()"
   ]
  },
  {
   "cell_type": "code",
   "execution_count": 10,
   "metadata": {},
   "outputs": [
    {
     "name": "stdout",
     "output_type": "stream",
     "text": [
      "输入行数r6\n",
      "输入符号s*\n",
      "\n",
      "*\n",
      "**\n",
      "***\n",
      "****\n",
      "*****\n",
      "******\n",
      "        *\n",
      "       * *\n",
      "      * * *\n",
      "     * * * *\n",
      "    * * * * *\n",
      "   * * * * * *\n",
      " *\n",
      "  ***\n",
      "   *****\n",
      "    *******\n",
      "     *********\n",
      "      ***********\n"
     ]
    }
   ],
   "source": [
    "#练习二：\n",
    "def triangle():\n",
    "    for i in range(0,len(line)+1):\n",
    "        print(line[0]*i,end='')\n",
    "        print()\n",
    "     \n",
    "    for i in range(0,len(line)):\n",
    "        print(' '*(len(line)-i) ,(' '+line[0])*(i+1),end='')\n",
    "        print()\n",
    "    \n",
    "    for i in range(0,len(line)):\n",
    "        print(' '*i ,(line[0])*(2*i+1),end='')\n",
    "        print()     \n",
    "    \n",
    "r=int(input('输入行数r'))\n",
    "line=input('输入符号s')*r\n",
    "triangle()           "
   ]
  },
  {
   "cell_type": "code",
   "execution_count": 26,
   "metadata": {},
   "outputs": [
    {
     "name": "stdout",
     "output_type": "stream",
     "text": [
      "请输入打印菱形棱长6\n",
      "请输入构成菱形的符号s*\n",
      "  * * * * * *\n",
      "   * * * * * *\n",
      "    * * * * * *\n",
      "     * * * * * *\n",
      "      * * * * * *\n",
      "       * * * * * *\n",
      "\n",
      "\n",
      "        *\n",
      "       * *\n",
      "      * * *\n",
      "     * * * *\n",
      "    * * * * *\n",
      "   * * * * * *\n",
      "    * * * * *\n",
      "     * * * *\n",
      "      * * *\n",
      "       * *\n",
      "        *\n",
      "        \n"
     ]
    }
   ],
   "source": [
    "#练习三\n",
    "def lingxing():\n",
    "    for i in range(0,len(line)):\n",
    "        print(' '*i ,(' '+line[0])*x,end='')\n",
    "        print()  \n",
    "    \n",
    "    print('\\n')\n",
    "    for i in range(0,len(line)):\n",
    "        print(' '*(len(line)-i) ,(' '+line[0])*(i+1),end='')\n",
    "        print()\n",
    "    for i in range(len(line),len(line)*2):\n",
    "        print(' '*(i-len(line)+2) ,(' '+line[0])*(2*len(line)-i-1),end='')\n",
    "        print()\n",
    "              \n",
    "x=int(input('请输入打印菱形棱长'))\n",
    "line=input('请输入构成菱形的符号s')*x\n",
    "lingxing()"
   ]
  },
  {
   "cell_type": "code",
   "execution_count": null,
   "metadata": {
    "collapsed": true
   },
   "outputs": [],
   "source": []
  }
 ],
 "metadata": {
  "kernelspec": {
   "display_name": "Python 3",
   "language": "python",
   "name": "python3"
  },
  "language_info": {
   "codemirror_mode": {
    "name": "ipython",
    "version": 3
   },
   "file_extension": ".py",
   "mimetype": "text/x-python",
   "name": "python",
   "nbconvert_exporter": "python",
   "pygments_lexer": "ipython3",
   "version": "3.6.2"
  }
 },
 "nbformat": 4,
 "nbformat_minor": 2
}
