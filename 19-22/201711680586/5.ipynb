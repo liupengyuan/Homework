{
 "cells": [
  {
   "cell_type": "code",
   "execution_count": 1,
   "metadata": {
    "collapsed": true
   },
   "outputs": [],
   "source": [
    "#写函数，求n个随机整数均值的平方根，整数范围在m与k之间（n,m,k由用户输入）。\n",
    "import random,math\n",
    "\n",
    "def pingfanggen():\n",
    "    n=int(input('请输入一个整数，以回车结束。'))\n",
    "    m=int(input('请输入一个较小的整数，以回车结束。'))\n",
    "    k=int(input('请输入一个较大的整数，以回车结束。'))\n",
    "\n",
    "    i=1\n",
    "    total=0\n",
    "\n",
    "    while i<n:\n",
    "        number=random.randint(m,k)\n",
    "        total=total+number\n",
    "        average=total/i\n",
    "        i=i+1\n",
    "    \n",
    "    end=math.sqrt(average)\n",
    "    print(end)"
   ]
  },
  {
   "cell_type": "code",
   "execution_count": 2,
   "metadata": {},
   "outputs": [
    {
     "name": "stdout",
     "output_type": "stream",
     "text": [
      "请输入一个整数，以回车结束。6\n",
      "请输入一个较小的整数，以回车结束。8\n",
      "请输入一个较大的整数，以回车结束。10\n",
      "2.9664793948382653\n",
      "None\n"
     ]
    }
   ],
   "source": [
    "print(pingfanggen())"
   ]
  },
  {
   "cell_type": "code",
   "execution_count": 3,
   "metadata": {
    "collapsed": true
   },
   "outputs": [],
   "source": [
    "#写函数，共n个随机整数，整数范围在m与k之间，（n,m,k由用户输入）。求1：西格玛log(随机整数)，2：西格玛1/log(随机整数)\n",
    "import random,math\n",
    "\n",
    "def xigema():\n",
    "    n=int(input('请输入一个整数，以回车结束。'))\n",
    "    m=int(input('请输入一个较小的整数，以回车结束。'))\n",
    "    k=int(input('请输入一个较大的整数，以回车结束。'))\n",
    "    \n",
    "    i=1\n",
    "    total1=0\n",
    "    total2=0\n",
    "    \n",
    "    while i<n:\n",
    "        number=random.randint(m,k)\n",
    "        total1=total1+math.log(number)\n",
    "        total2=total2+1/math.log(number)\n",
    "        i=i+1\n",
    "        \n",
    "    print('西格玛log是：',total1)\n",
    "    print('西格玛1/log是：',total2)"
   ]
  },
  {
   "cell_type": "code",
   "execution_count": 5,
   "metadata": {},
   "outputs": [
    {
     "name": "stdout",
     "output_type": "stream",
     "text": [
      "请输入一个整数，以回车结束。6\n",
      "请输入一个较小的整数，以回车结束。8\n",
      "请输入一个较大的整数，以回车结束。10\n",
      "西格玛log是： 10.855917331026157\n",
      "西格玛1/log是： 2.306330402456065\n",
      "None\n"
     ]
    }
   ],
   "source": [
    "print(xigema())"
   ]
  },
  {
   "cell_type": "code",
   "execution_count": 29,
   "metadata": {
    "collapsed": true
   },
   "outputs": [],
   "source": [
    "#写函数，求s=a+aa+aaa+aaaa+aa...a的值，其中a是[1,9]之间的随机整数。例如2+22+222+2222+22222(此时共有5个数相加)，几个数相加由键盘输入。\n",
    "import random,math\n",
    "\n",
    "def qiuhe():\n",
    "    n=int(input('请输入想要相加的个数，以回车结束。'))\n",
    "    \n",
    "    a=random.randint(1,9)\n",
    "    total=0\n",
    "    i=1\n",
    "    \n",
    "    while i<=n:\n",
    "        total=total+(a/9)*(10**i-1)\n",
    "        i=i+1\n",
    "    print(total)"
   ]
  },
  {
   "cell_type": "code",
   "execution_count": 30,
   "metadata": {},
   "outputs": [
    {
     "name": "stdout",
     "output_type": "stream",
     "text": [
      "请输入想要相加的个数，以回车结束。3\n",
      "492.0\n",
      "None\n"
     ]
    }
   ],
   "source": [
    "print(qiuhe())"
   ]
  },
  {
   "cell_type": "code",
   "execution_count": 7,
   "metadata": {},
   "outputs": [],
   "source": [
    "#仿照task5，将猜数游戏改成由用户随便选择一个整数，让计算机来猜测的猜数游戏，\n",
    "#要求和task5中人猜测的方法类似，但是人机角色对换，由人来判断猜测是大、小还是相等，请写出完整的猜数游戏。\n",
    "import random\n",
    "\n",
    "def guess_game():\n",
    "    max_times=5\n",
    "    guess_times=0\n",
    "    guess=random.randint(1,1000)\n",
    "    print(guess)\n",
    "    \n",
    "    while guess_times<max_times:\n",
    "        guess_times+=1\n",
    "        n=int(input('是否正确，正确请输入1，猜大了请输入2，猜小了请输入3，以回车结束。'))\n",
    "        \n",
    "        if n==1:\n",
    "            print('end')\n",
    "            break\n",
    "        elif n==2:\n",
    "            guess=random.randint(1,guess)\n",
    "            print(guess)\n",
    "        elif n==3:\n",
    "            guess=random.randint(guess,1000)\n",
    "            print(guess)\n",
    "        else:\n",
    "            print('wrong')\n",
    "            \n",
    "    else:\n",
    "        print('你赢了')"
   ]
  },
  {
   "cell_type": "code",
   "execution_count": 9,
   "metadata": {},
   "outputs": [
    {
     "name": "stdout",
     "output_type": "stream",
     "text": [
      "272\n",
      "是否正确，正确请输入1，猜大了请输入2，猜小了请输入3，以回车结束。6\n",
      "wrong\n",
      "是否正确，正确请输入1，猜大了请输入2，猜小了请输入3，以回车结束。3\n",
      "408\n",
      "是否正确，正确请输入1，猜大了请输入2，猜小了请输入3，以回车结束。3\n",
      "813\n",
      "是否正确，正确请输入1，猜大了请输入2，猜小了请输入3，以回车结束。2\n",
      "74\n",
      "是否正确，正确请输入1，猜大了请输入2，猜小了请输入3，以回车结束。3\n",
      "256\n",
      "你赢了\n",
      "None\n"
     ]
    }
   ],
   "source": [
    "print(guess_game())"
   ]
  }
 ],
 "metadata": {
  "kernelspec": {
   "display_name": "Python 3",
   "language": "python",
   "name": "python3"
  }
 },
 "nbformat": 4,
 "nbformat_minor": 2
}
