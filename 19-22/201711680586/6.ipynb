{
 "cells": [
  {
   "cell_type": "code",
   "execution_count": 7,
   "metadata": {},
   "outputs": [],
   "source": [
    "#1.写函数，返回某个元素/对象在一个list中的位置，如果不在，则返回-1.\n",
    "def return_():\n",
    "    line1=[1,2,3,-1,10,6,0,0.3]\n",
    "    \n",
    "    for i in range(10):\n",
    "        line1.append(i)\n",
    "    else:\n",
    "        line1.append('-1')\n",
    "    print(line1)"
   ]
  },
  {
   "cell_type": "code",
   "execution_count": 8,
   "metadata": {},
   "outputs": [
    {
     "name": "stdout",
     "output_type": "stream",
     "text": [
      "[1, 2, 3, -1, 10, 6, 0, 0.3, 0, 1, 2, 3, 4, 5, 6, 7, 8, 9, '-1']\n",
      "None\n"
     ]
    }
   ],
   "source": [
    "print(return_())"
   ]
  },
  {
   "cell_type": "code",
   "execution_count": 17,
   "metadata": {},
   "outputs": [],
   "source": [
    "#2.写函数，可将两个相同长度的list，间隔插入，生成新的list。例如：给两个list，a=[1,2,3,4], b=[5,6,7,8]。则可以生成：[1,5,2,6,3,7,4,8]。\n",
    "def plus():\n",
    "    line2=[1,2,3,4]\n",
    "    line3=[5,6,7,8]\n",
    "    line_plus=[]\n",
    "    j=0\n",
    "    \n",
    "    for i in line2:\n",
    "        line_plus.append(i)\n",
    "        line_plus.append(line3[j])\n",
    "        j=j+1\n",
    "                    \n",
    "    print(line_plus)"
   ]
  },
  {
   "cell_type": "code",
   "execution_count": 18,
   "metadata": {},
   "outputs": [
    {
     "name": "stdout",
     "output_type": "stream",
     "text": [
      "[1, 5, 2, 6, 3, 7, 4, 8]\n",
      "None\n"
     ]
    }
   ],
   "source": [
    "print(plus())"
   ]
  },
  {
   "cell_type": "code",
   "execution_count": 36,
   "metadata": {},
   "outputs": [],
   "source": [
    "#3.写函数，可求两个向量的夹角余弦值，向量可放在list中。主程序调用该函数。\n",
    "def cos():\n",
    "    line4=[]\n",
    "    x=int(input(\"请输入第一个向量的横坐标，以回车结束\"))\n",
    "    y=int(input(\"请输入第一个向量的纵坐标，以回车结束\"))\n",
    "    m=int(input(\"请输入第二个向量的横坐标，以回车结束\"))\n",
    "    n=int(input(\"请输入第二个向量的纵坐标，以回车结束\"))\n",
    "    \n",
    "    cos=(x*m+y*n)/(((x*x+y*y)**(1/2))*((m*m+n*n)**(1/2)))\n",
    "    line4.append(cos)\n",
    "    \n",
    "    print(line4)"
   ]
  },
  {
   "cell_type": "code",
   "execution_count": 37,
   "metadata": {},
   "outputs": [
    {
     "name": "stdout",
     "output_type": "stream",
     "text": [
      "请输入第一个向量的横坐标，以回车结束1\n",
      "请输入第一个向量的纵坐标，以回车结束2\n",
      "请输入第二个向量的横坐标，以回车结束-4\n",
      "请输入第二个向量的纵坐标，以回车结束3\n",
      "[0.17888543819998318]\n",
      "None\n"
     ]
    }
   ],
   "source": [
    "print(cos())"
   ]
  },
  {
   "cell_type": "code",
   "execution_count": 48,
   "metadata": {},
   "outputs": [
    {
     "name": "stdout",
     "output_type": "stream",
     "text": [
      "3655\n"
     ]
    }
   ],
   "source": [
    "#4.python语言老师为了激励学生学python，自费买了100个完全相同的Macbook Pro，分给三个班级，每个班级至少分5个，用穷举法计算共有多少种分法？\n",
    "list1=[]\n",
    "list2=[]\n",
    "list3=[]\n",
    "\n",
    "for i in range(85):\n",
    "    list1.append(i)\n",
    "    for j in range(85-i):\n",
    "        list2.append(j)\n",
    "            \n",
    "print(len(list2))"
   ]
  }
 ],
 "metadata": {
  "kernelspec": {
   "display_name": "Python 3",
   "language": "python",
   "name": "python3"
  },
  "language_info": {
   "codemirror_mode": {
    "name": "ipython",
    "version": 3
   },
   "file_extension": ".py",
   "mimetype": "text/x-python",
   "name": "python",
   "nbconvert_exporter": "python",
   "pygments_lexer": "ipython3",
   "version": "3.6.2"
  }
 },
 "nbformat": 4,
 "nbformat_minor": 2
}
