{
 "cells": [
  {
   "cell_type": "code",
   "execution_count": 3,
   "metadata": {},
   "outputs": [
    {
     "name": "stdout",
     "output_type": "stream",
     "text": [
      "请输入一个正整数，以回车结束。6\n",
      "720\n"
     ]
    }
   ],
   "source": [
    "#练习1：仿照任务2完整代码，打印n!。\n",
    "n=int(input('请输入一个正整数，以回车结束。'))\n",
    "\n",
    "i=1\n",
    "total=1\n",
    "\n",
    "while i<n:\n",
    "    i=i+1\n",
    "    total=total*i\n",
    "    \n",
    "print(total)"
   ]
  },
  {
   "cell_type": "code",
   "execution_count": 11,
   "metadata": {},
   "outputs": [
    {
     "name": "stdout",
     "output_type": "stream",
     "text": [
      "请输入你的姓名，以回车结束。python\n",
      "你好 python\n",
      "请输入你想要计算的个数，以回车结束。3\n",
      "请输入一个正整数，以回车结束。987\n",
      "请输入一个正整数，以回车结束。654\n",
      "请输入一个正整数，以回车结束。321\n",
      "这些数的和是： 1962\n",
      "再见 python\n"
     ]
    }
   ],
   "source": [
    "#练习2：仿照实践1，写出由用户指定整数个数，并由用户输入多个整数，并求和的代码。\n",
    "name=input('请输入你的姓名，以回车结束。')\n",
    "print('你好',name)\n",
    "\n",
    "a=int(input('请输入你想要计算的个数，以回车结束。'))\n",
    "i=0\n",
    "total=0\n",
    "\n",
    "while i<a:\n",
    "    i=i+1\n",
    "    n=int(input('请输入一个正整数，以回车结束。'))\n",
    "    total=total+n\n",
    "    \n",
    "print('这些数的和是：',total)\n",
    "print('再见',name)"
   ]
  },
  {
   "cell_type": "code",
   "execution_count": 6,
   "metadata": {},
   "outputs": [
    {
     "name": "stdout",
     "output_type": "stream",
     "text": [
      "请输入一个数字，以回车结束，直到你不想输入为止，如果你想要停止，请输入end.1\n",
      "2\n",
      "3\n",
      "4\n",
      "5\n",
      "6\n",
      "end\n"
     ]
    }
   ],
   "source": [
    "#练习3：用户可以输入的任意多个数字，直到用户不想输入为止。\n",
    "n=input('请输入一个数字，以回车结束，直到你不想输入为止，如果你想要停止，请输入end.')\n",
    "a=str('end')\n",
    "m=input()\n",
    "\n",
    "while m!=a:\n",
    "    m=input()"
   ]
  },
  {
   "cell_type": "code",
   "execution_count": 5,
   "metadata": {},
   "outputs": [
    {
     "name": "stdout",
     "output_type": "stream",
     "text": [
      "请输入一个数字，以回车结束。987654321\n",
      "-123456789\n",
      "-987654321\n",
      "23\n"
     ]
    }
   ],
   "source": [
    "#练习4：用户可以输入的任意多个数字，直到: 输入所有数字的和比当前输入数字小，且输入所有数字的积大于500。\n",
    "n=input('请输入一个数字，以回车结束。')\n",
    "m=0\n",
    "a=1\n",
    "m=m+int(n)\n",
    "a=a*int(n)\n",
    "\n",
    "while m>=int(n) or a<=500:\n",
    "    n=input()\n",
    "    m=m+int(n)\n",
    "    a=a*int(n)"
   ]
  }
 ],
 "metadata": {
  "kernelspec": {
   "display_name": "Python 3",
   "language": "python",
   "name": "python3"
  }
 },
 "nbformat": 4,
 "nbformat_minor": 2
}
