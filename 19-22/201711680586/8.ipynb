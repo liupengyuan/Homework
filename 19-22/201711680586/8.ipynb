{
 "cells": [
  {
   "cell_type": "code",
   "execution_count": 16,
   "metadata": {
    "collapsed": true
   },
   "outputs": [],
   "source": [
    "def idiom():\n",
    "    fh=open(r'C:\\temp\\成语大全.txt')\n",
    "    text=fh.read()\n",
    "    text=text.replace('、'and' ','')\n",
    "    idioms=text.split('\\n')\n",
    "    fh.close()\n",
    "    cfirst_score=0\n",
    "    pfirst_score=0\n",
    "    \n",
    "    import random\n",
    "    m=random.choice(idioms)\n",
    "    print(m)\n",
    "    \n",
    "    for i in range(1,100):\n",
    "        n=input('请输入下一个成语')\n",
    "        if n in idioms and n[0]==m[-1]:\n",
    "            pfirst_score+=10\n",
    "            for p in idioms:\n",
    "                if n in idioms and n[0]==m[-1]:\n",
    "                    if p[0]==n[-1]:\n",
    "                        print(p)\n",
    "                        cfirst_score+=10\n",
    "                        n=input('请输入下一个成语')\n",
    "            else:\n",
    "                print('恭喜，你赢了')\n",
    "                break\n",
    "        else:\n",
    "            print('抱歉，你输了')\n",
    "            cfirst_score+=10\n",
    "            break\n",
    "        \n",
    "    print('计算机最终分数是：',cfirst_score)\n",
    "    print('你的最终分数是：',pfirst_score)"
   ]
  },
  {
   "cell_type": "code",
   "execution_count": 19,
   "metadata": {},
   "outputs": [
    {
     "name": "stdout",
     "output_type": "stream",
     "text": [
      "若有所思\n",
      "请输入下一个成语思前想后\n",
      "后发制人\n",
      "请输入下一个成语人来人往\n",
      "恭喜，你赢了\n",
      "计算机最终分数是： 10\n",
      "你的最终分数是： 10\n",
      "None\n"
     ]
    }
   ],
   "source": [
    "print(idiom())"
   ]
  }
 ],
 "metadata": {
  "kernelspec": {
   "display_name": "Python 3",
   "language": "python",
   "name": "python3"
  },
  "language_info": {
   "codemirror_mode": {
    "name": "ipython",
    "version": 3
   },
   "file_extension": ".py",
   "mimetype": "text/x-python",
   "name": "python",
   "nbconvert_exporter": "python",
   "pygments_lexer": "ipython3",
   "version": "3.6.2"
  }
 },
 "nbformat": 4,
 "nbformat_minor": 2
}
