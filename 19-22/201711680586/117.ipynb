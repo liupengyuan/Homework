{
 "cells": [
  {
   "cell_type": "code",
   "execution_count": 1,
   "metadata": {},
   "outputs": [],
   "source": [
    "import random,math\n",
    "\n",
    "def pingfanggen():\n",
    "    m=int(input('请输入一个整数，以回车结束。'))\n",
    "    n=int(input('请输入一个较小的整数，以回车结束。'))\n",
    "    k=int(input('请输入一个较大的整数，以回车结束。'))\n",
    "\n",
    "    i=1\n",
    "    total=0\n",
    "\n",
    "    while i<m:\n",
    "        number=random.randint(n,k)\n",
    "        total=total+number\n",
    "        i=i+1\n",
    "\n",
    "    end=math.sqrt(total)\n",
    "    print(end)"
   ]
  },
  {
   "cell_type": "code",
   "execution_count": 2,
   "metadata": {},
   "outputs": [
    {
     "name": "stdout",
     "output_type": "stream",
     "text": [
      "请输入一个整数，以回车结束。5\n",
      "请输入一个较小的整数，以回车结束。10\n",
      "请输入一个较大的整数，以回车结束。500\n",
      "27.313000567495326\n",
      "None\n"
     ]
    }
   ],
   "source": [
    "print(pingfanggen())"
   ]
  }
 ],
 "metadata": {
  "kernelspec": {
   "display_name": "Python 3",
   "language": "python",
   "name": "python3"
  },
  "language_info": {
   "codemirror_mode": {
    "name": "ipython",
    "version": 3
   },
   "file_extension": ".py",
   "mimetype": "text/x-python",
   "name": "python",
   "nbconvert_exporter": "python",
   "pygments_lexer": "ipython3",
   "version": "3.6.2"
  }
 },
 "nbformat": 4,
 "nbformat_minor": 2
}
