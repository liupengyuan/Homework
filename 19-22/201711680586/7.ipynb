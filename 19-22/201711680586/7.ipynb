{
 "cells": [
  {
   "cell_type": "code",
   "execution_count": 2,
   "metadata": {},
   "outputs": [
    {
     "name": "stdout",
     "output_type": "stream",
     "text": [
      "请输入字符串，以回车结束abcde\n",
      "edcba\n",
      "None\n"
     ]
    }
   ],
   "source": [
    "#练习一：自己定义一个reverse(s)函数，功能返回字符串s的倒序字符串。\n",
    "def reverse():\n",
    "    s = str(input('请输入字符串，以回车结束'))\n",
    "    \n",
    "    print(s[len(s)::-1])\n",
    "    \n",
    "print(reverse())"
   ]
  },
  {
   "cell_type": "code",
   "execution_count": 3,
   "metadata": {},
   "outputs": [
    {
     "name": "stdout",
     "output_type": "stream",
     "text": [
      "请输入符号，以回车结束*\n",
      "请输入行数，以回车结束6\n",
      "     *\n",
      "    **\n",
      "   ***\n",
      "  ****\n",
      " *****\n",
      "******\n",
      "----------------------------------------------\n",
      "     *\n",
      "    ***\n",
      "   *****\n",
      "  *******\n",
      " *********\n",
      "***********\n",
      "None\n"
     ]
    }
   ],
   "source": [
    "#练习二：写函数，根据给定符号和行数，打印相应直角三角形，等腰三角形及其他形式的三角形。\n",
    "def sanjiao():\n",
    "    m = str(input('请输入符号，以回车结束'))\n",
    "    n = int(input('请输入行数，以回车结束'))\n",
    "    \n",
    "    for i in range(1,n+1):\n",
    "        print(' '*(n-i) + m*i)\n",
    "        \n",
    "    print('----------------------------------------------')\n",
    "    \n",
    "    for i in range(1,n+1):\n",
    "        if i == 1:\n",
    "            print(' '*(2*n//2-1) + m)\n",
    "        elif i%2 == 1:\n",
    "            print(' '*((2*n-i)//2-i//2) + m*(2*i-1))\n",
    "        else:\n",
    "            print(' '*(2*n//2-i) + m*(2*i-1))\n",
    "\n",
    "print(sanjiao())"
   ]
  },
  {
   "cell_type": "code",
   "execution_count": 8,
   "metadata": {},
   "outputs": [
    {
     "name": "stdout",
     "output_type": "stream",
     "text": [
      "请输入符号，以回车结束*\n",
      "请输入行数，以回车结束6\n",
      "      *\n",
      "     ***\n",
      "    *****\n",
      "   *******\n",
      "  *********\n",
      " ***********\n",
      "*************\n",
      " ***********\n",
      "  *********\n",
      "   *******\n",
      "    *****\n",
      "     ***\n",
      "      *\n",
      "None\n"
     ]
    }
   ],
   "source": [
    "#练习五：写函数，根据给定符号，打印各种菱形。\n",
    "def lingxing():\n",
    "    m = str(input('请输入符号，以回车结束'))\n",
    "    n = int(input('请输入行数，以回车结束'))\n",
    "    \n",
    "    for i in range(1,n+1):\n",
    "        if i == 1:\n",
    "            print(' '*(2*n//2) + m)\n",
    "        elif i%2 == 1:\n",
    "            print(' '*((2*n-i)//2-i//2+1) + m*(2*i-1))\n",
    "        else:\n",
    "            print(' '*(2*n//2-i+1) + m*(2*i-1))\n",
    "    for i in range(n+1,0,-1):\n",
    "        if i%2 == 1:\n",
    "            print(' '*((2*n-i)//2-i//2+1) + m*(2*i-1))\n",
    "        else:\n",
    "            print(' '*(2*n//2-i+1) + m*(2*i-1))\n",
    "    \n",
    "print(lingxing())"
   ]
  }
 ],
 "metadata": {
  "kernelspec": {
   "display_name": "Python 3",
   "language": "python",
   "name": "python3"
  },
  "language_info": {
   "codemirror_mode": {
    "name": "ipython",
    "version": 3
   },
   "file_extension": ".py",
   "mimetype": "text/x-python",
   "name": "python",
   "nbconvert_exporter": "python",
   "pygments_lexer": "ipython3",
   "version": "3.6.2"
  }
 },
 "nbformat": 4,
 "nbformat_minor": 2
}
