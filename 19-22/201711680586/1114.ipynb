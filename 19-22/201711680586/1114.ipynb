{
 "cells": [
  {
   "cell_type": "code",
   "execution_count": 7,
   "metadata": {},
   "outputs": [],
   "source": [
    "#写函数，返回一个list中的最大值，最小值，平均值。（不用内置的求和求函数），以[1,2,-1,55,100,899,-10,3,12.5,5.8]为例。\n",
    "def max_():\n",
    "    numbers=[1,2,-1,55,100,899,-10,3,12.5,5.8]\n",
    "    m=numbers[0]\n",
    "    for a in numbers:\n",
    "        if m<a:\n",
    "            m=a\n",
    "            print(m)"
   ]
  },
  {
   "cell_type": "code",
   "execution_count": 8,
   "metadata": {},
   "outputs": [
    {
     "name": "stdout",
     "output_type": "stream",
     "text": [
      "2\n",
      "55\n",
      "100\n",
      "899\n",
      "None\n"
     ]
    }
   ],
   "source": [
    "print(max_())"
   ]
  },
  {
   "cell_type": "code",
   "execution_count": 9,
   "metadata": {},
   "outputs": [],
   "source": [
    "def min_():\n",
    "    numbers=[1,2,-1,55,100,899,-10,3,12.5,5.8]\n",
    "    m=numbers[0]\n",
    "    for b in numbers:\n",
    "        if m>b:\n",
    "            m=b\n",
    "            print(m)"
   ]
  },
  {
   "cell_type": "code",
   "execution_count": 10,
   "metadata": {},
   "outputs": [
    {
     "name": "stdout",
     "output_type": "stream",
     "text": [
      "-1\n",
      "-10\n",
      "None\n"
     ]
    }
   ],
   "source": [
    "print(min_())"
   ]
  },
  {
   "cell_type": "code",
   "execution_count": 11,
   "metadata": {},
   "outputs": [],
   "source": [
    "def ave_():\n",
    "    numbers=[1,2,-1,55,100,899,-10,3,12.5,5.8]\n",
    "    m=len(numbers)\n",
    "    total=0\n",
    "    for n in numbers:\n",
    "        total=total+n\n",
    "        print(total/m)"
   ]
  },
  {
   "cell_type": "code",
   "execution_count": 13,
   "metadata": {},
   "outputs": [
    {
     "name": "stdout",
     "output_type": "stream",
     "text": [
      "0.1\n",
      "0.3\n",
      "0.2\n",
      "5.7\n",
      "15.7\n",
      "105.6\n",
      "104.6\n",
      "104.9\n",
      "106.15\n",
      "106.72999999999999\n",
      "None\n"
     ]
    }
   ],
   "source": [
    "print(ave_())"
   ]
  }
 ],
 "metadata": {
  "kernelspec": {
   "display_name": "Python 3",
   "language": "python",
   "name": "python3"
  }
 },
 "nbformat": 4,
 "nbformat_minor": 2
}
