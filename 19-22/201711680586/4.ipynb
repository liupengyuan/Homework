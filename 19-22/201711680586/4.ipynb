{
 "cells": [
  {
   "cell_type": "code",
   "execution_count": 1,
   "metadata": {
    "collapsed": true
   },
   "outputs": [],
   "source": [
    "#仿照求的完整代码，写程序，可求m!+n!+k!\n",
    "def my_mul(a):\n",
    "    i=1\n",
    "    total=1\n",
    "    while i<a:\n",
    "        i=i+1\n",
    "        total=total*i\n",
    "    return total"
   ]
  },
  {
   "cell_type": "code",
   "execution_count": 2,
   "metadata": {},
   "outputs": [
    {
     "name": "stdout",
     "output_type": "stream",
     "text": [
      "请输入一个整数，以回车结束。3\n",
      "请输入一个整数，以回车结束。3\n",
      "请输入一个整数，以回车结束。3\n",
      "18\n"
     ]
    }
   ],
   "source": [
    "m=int(input('请输入一个整数，以回车结束。'))\n",
    "n=int(input('请输入一个整数，以回车结束。'))\n",
    "k=int(input('请输入一个整数，以回车结束。'))\n",
    "\n",
    "print(my_mul(m)+my_mul(n)+my_mul(k))"
   ]
  },
  {
   "cell_type": "code",
   "execution_count": 9,
   "metadata": {},
   "outputs": [],
   "source": [
    "#写函数可返回1 - 1/3 + 1/5 - 1/7...的前n项的和。在主程序中，分别令n=1000及100000，打印4倍该函数的和。\n",
    "def fenshi(b):\n",
    "    i=0\n",
    "    total=0\n",
    "    while i<b:\n",
    "        i=i+1\n",
    "        total=total+((-1)**(i+1))/(2*i-1)\n",
    "    return total"
   ]
  },
  {
   "cell_type": "code",
   "execution_count": 12,
   "metadata": {},
   "outputs": [
    {
     "name": "stdout",
     "output_type": "stream",
     "text": [
      "3.140592653839794\n",
      "3.1415826535897198\n"
     ]
    }
   ],
   "source": [
    "print(fenshi(1000)*4)\n",
    "print(fenshi(100000)*4)"
   ]
  },
  {
   "cell_type": "code",
   "execution_count": 37,
   "metadata": {
    "collapsed": true
   },
   "outputs": [],
   "source": [
    "#将task3中的练习1及练习4改写为函数，并进行调用。\n",
    "def birth():\n",
    "    m=input('请输入你的姓名，以回车结束。')\n",
    "    n=float(input('请输入你出生的月份，以回车结束。'))\n",
    "    p=float(input('请输入你出生的日期，以回车结束。'))\n",
    "\n",
    "    if n==3 and p>=21 and p<=31:\n",
    "        print(m,'你的星座是：白羊座。')\n",
    "    elif n==4 and p>=1 and p<=19:\n",
    "        print(m,'你的星座是：白羊座。')\n",
    "    elif n==4 and p>=20 and p<=30:\n",
    "        print(m,'你的星座是：金牛座。')\n",
    "    elif n==5 and p>=1 and p<=20:\n",
    "        print(m,'你的星座是：金牛座。')\n",
    "    elif n==5 and p>=21 and p<=31:\n",
    "        print(m,'你的星座是：双子座。')\n",
    "    elif n==6 and p>=1 and p<=21:\n",
    "        print(m,'你的星座是：双子座。')\n",
    "    elif n==6 and p>=22 and p<=30:\n",
    "        print(m,'你的星座是：巨蟹座。')\n",
    "    elif n==7 and p>=1 and p<=22:\n",
    "        print(m,'你的星座是：巨蟹座。')\n",
    "    elif n==7 and p>=23 and p<=31:\n",
    "        print(m,'你的星座是：狮子座。')\n",
    "    elif n==8 and p>=1 and p<=22:\n",
    "        print(m,'你的星座是：狮子座。')\n",
    "    elif n==8 and p>=23 and p<=31:\n",
    "        print(m,'你的星座是：处女座。')\n",
    "    elif n==9 and p>=1 and p<=22:\n",
    "        print(m,'你的星座是：处女座。')\n",
    "    elif n==9 and p>=23 and p<=30:\n",
    "        print(m,'你的星座是：天秤座。')\n",
    "    elif n==10 and p>=1 and p<=23:\n",
    "        print(m,'你的星座是：天秤座。')\n",
    "    elif n==10 and p>=24 and p<=31:\n",
    "        print(m,'你的星座是：天蝎座。')\n",
    "    elif n==11and p>=1 and p<=22:\n",
    "        print(m,'你的星座是：天蝎座。')\n",
    "    elif n==11 and p>=23 and p<=30:\n",
    "        print(m,'你的星座是：射手座。')\n",
    "    elif n==12 and p>=1 and p<=21:\n",
    "        print(m,'你的星座是：射手座。')\n",
    "    elif n==12 and p>=22 and p<=31:\n",
    "        print(m,'你的星座是：摩羯座。')\n",
    "    elif n==1 and p>=1 and p<=19:\n",
    "        print(m,'你的星座是：摩羯座。')\n",
    "    elif n==1 and p>=20 and p<=31:\n",
    "        print(m,'你的星座是：水瓶座。')\n",
    "    elif n==2 and p>=1 and p<=18:\n",
    "        print(m,'你的星座是：水瓶座。')\n",
    "    elif n==2 and p>=19 and p<=29:\n",
    "        print(m,'你的星座是：双鱼座。')\n",
    "    elif n==3 and p>=1 and p<=20:\n",
    "        print(m,'你的星座是：双鱼座。')\n",
    "    else:\n",
    "        print('wrong')"
   ]
  },
  {
   "cell_type": "code",
   "execution_count": 38,
   "metadata": {},
   "outputs": [
    {
     "name": "stdout",
     "output_type": "stream",
     "text": [
      "请输入你的姓名，以回车结束。name\n",
      "请输入你出生的月份，以回车结束。1\n",
      "请输入你出生的日期，以回车结束。1\n",
      "name 你的星座是：摩羯座。\n",
      "None\n"
     ]
    }
   ],
   "source": [
    "print(birth())"
   ]
  },
  {
   "cell_type": "code",
   "execution_count": 39,
   "metadata": {
    "collapsed": true
   },
   "outputs": [],
   "source": [
    "def pl(n):\n",
    "    n=str(input('请输入一个英文名词的单数形式，以回车结束。'))\n",
    "\n",
    "    if n.endswith('s') or n.endswith('ch') or n.endswith('sh') or n.endswith('x'):\n",
    "        print('-es')\n",
    "    elif n.endswith('f') or n.endswith('fe'):\n",
    "        print('去掉f、fe,-ves')\n",
    "    else:\n",
    "        print('-s')"
   ]
  },
  {
   "cell_type": "code",
   "execution_count": 40,
   "metadata": {},
   "outputs": [
    {
     "name": "stdout",
     "output_type": "stream",
     "text": [
      "请输入一个英文名词的单数形式，以回车结束。apple\n",
      "-s\n",
      "None\n"
     ]
    }
   ],
   "source": [
    "print(pl(n))"
   ]
  },
  {
   "cell_type": "code",
   "execution_count": 45,
   "metadata": {},
   "outputs": [],
   "source": [
    "#写程序，可以求从整数m到整数n累加的和，间隔为k，求和部分需用函数实现，主程序中由用户输入m，n，k调用函数验证正确性。\n",
    "def qiuhe():\n",
    "    m=int(input('请输入一个较小的整数，以回车结束。'))\n",
    "    n=int(input('请输入一个较大的整数，以回车结束。'))\n",
    "    k=int(input('请输入间隔，以回车结束。'))\n",
    "    total=0\n",
    "    \n",
    "    while m<=n:\n",
    "        total=total+m\n",
    "        m=m+k\n",
    "    print(total)"
   ]
  },
  {
   "cell_type": "code",
   "execution_count": 47,
   "metadata": {},
   "outputs": [
    {
     "name": "stdout",
     "output_type": "stream",
     "text": [
      "请输入一个较小的整数，以回车结束。3\n",
      "请输入一个较大的整数，以回车结束。9\n",
      "请输入间隔，以回车结束。2\n",
      "24\n",
      "None\n"
     ]
    }
   ],
   "source": [
    "print(qiuhe())"
   ]
  }
 ],
 "metadata": {
  "kernelspec": {
   "display_name": "Python 3",
   "language": "python",
   "name": "python3"
  },
  "language_info": {
   "codemirror_mode": {
    "name": "ipython",
    "version": 3
   },
   "file_extension": ".py",
   "mimetype": "text/x-python",
   "name": "python",
   "nbconvert_exporter": "python",
   "pygments_lexer": "ipython3",
   "version": "3.6.2"
  }
 },
 "nbformat": 4,
 "nbformat_minor": 2
}
