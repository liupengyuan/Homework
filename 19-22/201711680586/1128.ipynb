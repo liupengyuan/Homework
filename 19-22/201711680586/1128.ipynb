{
 "cells": [
  {
   "cell_type": "code",
   "execution_count": 2,
   "metadata": {},
   "outputs": [
    {
     "name": "stdout",
     "output_type": "stream",
     "text": [
      "                                                   a\n",
      "                                                  aa\n",
      "                                                 aba\n",
      "                                                abba\n",
      "                                               abcba\n",
      "                                              abccba\n",
      "                                             abcdcba\n",
      "                                            abcddcba\n",
      "                                           abcdedcba\n",
      "                                          abcdeedcba\n",
      "                                         abcdefedcba\n",
      "                                        abcdeffedcba\n",
      "                                       abcdefgfedcba\n",
      "                                      abcdefggfedcba\n",
      "                                     abcdefghgfedcba\n",
      "                                    abcdefghhgfedcba\n",
      "                                   abcdefghihgfedcba\n",
      "                                  abcdefghiihgfedcba\n",
      "                                 abcdefghijihgfedcba\n",
      "                                abcdefghijjihgfedcba\n",
      "                               abcdefghijkjihgfedcba\n",
      "                              abcdefghijkkjihgfedcba\n",
      "                             abcdefghijklkjihgfedcba\n",
      "                            abcdefghijkllkjihgfedcba\n",
      "                           abcdefghijklmlkjihgfedcba\n",
      "                          abcdefghijklmmlkjihgfedcba\n",
      "                         abcdefghijklmnmlkjihgfedcba\n",
      "                        abcdefghijklmnnmlkjihgfedcba\n",
      "                       abcdefghijklmnonmlkjihgfedcba\n",
      "                      abcdefghijklmnoonmlkjihgfedcba\n",
      "                     abcdefghijklmnoponmlkjihgfedcba\n",
      "                    abcdefghijklmnopponmlkjihgfedcba\n",
      "                   abcdefghijklmnopqponmlkjihgfedcba\n",
      "                  abcdefghijklmnopqqponmlkjihgfedcba\n",
      "                 abcdefghijklmnopqrqponmlkjihgfedcba\n",
      "                abcdefghijklmnopqrrqponmlkjihgfedcba\n",
      "               abcdefghijklmnopqrsrqponmlkjihgfedcba\n",
      "              abcdefghijklmnopqrssrqponmlkjihgfedcba\n",
      "             abcdefghijklmnopqrstsrqponmlkjihgfedcba\n",
      "            abcdefghijklmnopqrsttsrqponmlkjihgfedcba\n",
      "           abcdefghijklmnopqrstutsrqponmlkjihgfedcba\n",
      "          abcdefghijklmnopqrstuutsrqponmlkjihgfedcba\n",
      "         abcdefghijklmnopqrstuvutsrqponmlkjihgfedcba\n",
      "        abcdefghijklmnopqrstuvvutsrqponmlkjihgfedcba\n",
      "       abcdefghijklmnopqrstuvwvutsrqponmlkjihgfedcba\n",
      "      abcdefghijklmnopqrstuvwwvutsrqponmlkjihgfedcba\n",
      "     abcdefghijklmnopqrstuvwxwvutsrqponmlkjihgfedcba\n",
      "    abcdefghijklmnopqrstuvwxxwvutsrqponmlkjihgfedcba\n",
      "   abcdefghijklmnopqrstuvwxyxwvutsrqponmlkjihgfedcba\n",
      "  abcdefghijklmnopqrstuvwxyyxwvutsrqponmlkjihgfedcba\n",
      " abcdefghijklmnopqrstuvwxyzyxwvutsrqponmlkjihgfedcba\n",
      "None\n"
     ]
    }
   ],
   "source": [
    "def zimu():\n",
    "    line='abcdefghijklmnopqrstuvwxyz'\n",
    "    for i in range(1,len(line)*2):\n",
    "        if i == 1:\n",
    "            print(' '*(len(line)*2-1) + line[0])\n",
    "        elif i%2 == 1:\n",
    "            print(' '*(len(line)*2-i) + line[:i//2] + line[i//2] + line[i//2-1::-1])\n",
    "        else:\n",
    "            print(' '*(len(line)*2-i) + line[:i//2] + line[i//2-1::-1])\n",
    "print(zimu())"
   ]
  },
  {
   "cell_type": "code",
   "execution_count": 10,
   "metadata": {},
   "outputs": [
    {
     "name": "stdout",
     "output_type": "stream",
     "text": [
      "请输入行数6\n",
      "   * \n",
      "   * * \n",
      "   * * * \n",
      "   * * * * \n",
      "   * * * * * \n",
      "   * * * * * * \n",
      "None\n"
     ]
    }
   ],
   "source": [
    "def sanjiao():\n",
    "    n=int(input('请输入行数'))\n",
    "    line='*'*n\n",
    "    for i in range(1,len(line)+1):\n",
    "        print(' '*(len(line)//2)+'* '*i)\n",
    "print(sanjiao())"
   ]
  }
 ],
 "metadata": {
  "kernelspec": {
   "display_name": "Python 3",
   "language": "python",
   "name": "python3"
  },
  "language_info": {
   "codemirror_mode": {
    "name": "ipython",
    "version": 3
   },
   "file_extension": ".py",
   "mimetype": "text/x-python",
   "name": "python",
   "nbconvert_exporter": "python",
   "pygments_lexer": "ipython3",
   "version": "3.6.2"
  }
 },
 "nbformat": 4,
 "nbformat_minor": 2
}
