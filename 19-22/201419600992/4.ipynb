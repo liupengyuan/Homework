{
 "cells": [
  {
   "cell_type": "code",
   "execution_count": 1,
   "metadata": {},
   "outputs": [
    {
     "name": "stdout",
     "output_type": "stream",
     "text": [
      "pls input the 1st integer, end with enter: 3\n",
      "pls input the 2nd integer, end with enter: 4\n",
      "pls input the 3rd integer, end with enter: 5\n",
      "the final sum is:  150\n"
     ]
    }
   ],
   "source": [
    "#compute factorial m!+n!+k!\n",
    "\n",
    "def compute_fact(end):\n",
    "\ti=0\n",
    "\ttotal_n=1\n",
    "\n",
    "\twhile i<end:\n",
    "\t\ti=i+1\n",
    "\t\ttotal_n=total_n*i\n",
    "\n",
    "\treturn total_n\n",
    "\n",
    "n=int(input('pls input the 1st integer, end with enter: '))\n",
    "m=int(input('pls input the 2nd integer, end with enter: '))\n",
    "k=int(input('pls input the 3rd integer, end with enter: '))\n",
    "\n",
    "print('the final sum is: ', compute_fact(m)+compute_fact(n)+compute_fact(k))\n"
   ]
  },
  {
   "cell_type": "code",
   "execution_count": 2,
   "metadata": {},
   "outputs": [
    {
     "name": "stdout",
     "output_type": "stream",
     "text": [
      "3.140592653839794\n",
      "3.1415826535897198\n"
     ]
    }
   ],
   "source": [
    "def compute_sum(end):\n",
    "\tnume=-1\n",
    "\ti=0\n",
    "\ttotal=0\n",
    "\n",
    "\twhile i<end:\n",
    "\t\ti=i+1\n",
    "\t\tnume=nume*(-1)\n",
    "\t\tdeno=i*2-1\n",
    "\t\tfrac=nume/deno\n",
    "\t\ttotal=total+frac\n",
    "\n",
    "\treturn total\n",
    "\n",
    "n=1000\n",
    "print(4*compute_sum(n))\n",
    "\n",
    "n=100000\n",
    "print(4*compute_sum(n))\n"
   ]
  },
  {
   "cell_type": "code",
   "execution_count": 5,
   "metadata": {},
   "outputs": [
    {
     "name": "stdout",
     "output_type": "stream",
     "text": [
      "pls input your name: olly\n",
      "pls input the month of your birthday(in term of number): 8\n",
      "pls input the date of your birthday(in term of number): 24\n",
      "olly , You are Virgo  !\n",
      "\n"
     ]
    }
   ],
   "source": [
    "def constellation_check(umonth,udate):\n",
    "\tif umonth==3:\n",
    "\t\tif udate>20 and udate<=31:\n",
    "\t\t\tuconstel=\"Aries\"\n",
    "\t\telif udate<=20 and udate>0:\n",
    "\t\t\tuconstel=\"Pisces\"\n",
    "\t\telse:\n",
    "\t\t\tprint(\"Invalid input!\")\n",
    "\telif umonth==4:\n",
    "\t\tif udate>19 and udate<=30:\n",
    "\t\t\tuconstel=\"Taurus\"\n",
    "\t\telif udate<=19 and udate>0:\n",
    "\t\t\tuconstel=\"Aries\"\n",
    "\t\telse:\n",
    "\t\t\tprint(\"Invalid input!\")\n",
    "\telif umonth==5:\n",
    "\t\tif udate>20 and udate<=31:\n",
    "\t\t\tuconstel=\"Gemini\"\n",
    "\t\telif udate<=20 and udate>0:\n",
    "\t\t\tuconstel=\"Taurus\"\n",
    "\t\telse:\n",
    "\t\t\tprint(\"Invalid input!\")\n",
    "\telif umonth==6:\n",
    "\t\tif udate>21 and udate<=30:\n",
    "\t\t\tuconstel=\"Cancer\"\n",
    "\t\telif udate<=21 and udate>0:\n",
    "\t\t\tuconstel=\"Gemini\"\n",
    "\t\telse:\n",
    "\t\t\tprint(\"Invalid input!\")\n",
    "\telif umonth==7:\n",
    "\t\tif udate>22 and udate<=31:\n",
    "\t\t\tuconstel=\"Leo\"\n",
    "\t\telif udate<=21 and udate>0:\n",
    "\t\t\tuconstel=\"Cancer\"\n",
    "\t\telse:\n",
    "\t\t\tprint(\"Invalid input!\")\n",
    "\telif umonth==8:\n",
    "\t\tif udate>22 and udate<=31:\n",
    "\t\t\tuconstel=\"Virgo\"\n",
    "\t\telif udate<=22 and udate>0:\n",
    "\t\t\tuconstel=\"Leo\"\n",
    "\t\telse:\n",
    "\t\t\tprint(\"Invalid input!\")\n",
    "\telif umonth==9:\n",
    "\t\tif udate>22 and udate<=30:\n",
    "\t\t\tuconstel=\"Libra\"\n",
    "\t\telif udate<=22 and udate>0:\n",
    "\t\t\tuconstel=\"Virgo\"\n",
    "\t\telse:\n",
    "\t\t\tprint(\"Invalid input!\")\n",
    "\telif umonth==10:\n",
    "\t\tif udate>23 and udate<=31:\n",
    "\t\t\tuconstel=\"Scorpio\"\n",
    "\t\telif udate<=23 and udate>0:\n",
    "\t\t\tuconstel=\"Libra\"\n",
    "\t\telse:\n",
    "\t\t\tprint(\"Invalid input!\")\n",
    "\telif umonth==11:\n",
    "\t\tif udate>21 and udate<=30:\n",
    "\t\t\tuconstel=\"Sagittarius\"\n",
    "\t\telif udate<=21 and udate>0:\n",
    "\t\t\tuconstel=\"Scorpio\"\n",
    "\t\telse:\n",
    "\t\t\tprint(\"Invalid input!\")\n",
    "\telif umonth==12:\n",
    "\t\tif udate>21 and udate<=31:\n",
    "\t\t\tuconstel=\"Capricorn\"\n",
    "\t\telif udate<=21 and udate>0:\n",
    "\t\t\tuconstel=\"Sagittarius\"\n",
    "\t\telse:\n",
    "\t\t\tprint(\"Invalid input!\")\n",
    "\telif umonth==1:\n",
    "\t\tif udate>19 and udate<=31:\n",
    "\t\t\tuconstel=\"Aquarius\"\n",
    "\t\telif udate<=19 and udate>0:\n",
    "\t\t\tuconstel=\"Capricorn\"\n",
    "\t\telse:\n",
    "\t\t\tprint(\"Invalid input!\")\n",
    "\telif umonth==2:\n",
    "\t\tif udate>18 and udate<=29:\n",
    "\t\t\tuconstel=\"Pisces\"\n",
    "\t\telif udate<=18 and udate>0:\n",
    "\t\t\tuconstel=\"Aquarius\"\n",
    "\t\telse:\n",
    "\t\t\tprint(\"Invalid input!\")\n",
    "\telse:\n",
    "\t\tprint(\"Invalid input!\")\n",
    "\t\n",
    "\treturn uconstel\n",
    "\n",
    "uname=input(\"pls input your name: \")\n",
    "um=int(input(\"pls input the month of your birthday(in term of number): \"))\n",
    "ud=int(input(\"pls input the date of your birthday(in term of number): \"))\n",
    "\n",
    "print(uname,\", You are\",constellation_check(um,ud),\" !\\n\")\n"
   ]
  },
  {
   "cell_type": "code",
   "execution_count": 6,
   "metadata": {},
   "outputs": [
    {
     "name": "stdout",
     "output_type": "stream",
     "text": [
      "pls input an English Noun: tomato\n",
      "tomatoes\n",
      "suggestion: add 'es' to be plural form\n"
     ]
    }
   ],
   "source": [
    "def plural_change(noun):\n",
    "\tif noun.endswith('s') or noun.endswith('x') or noun.endswith('z') or noun.endswith('ch') or noun.endswith('sh') or noun.endswith('o'):\n",
    "\t\tprint(noun,'es',sep='')\n",
    "\t\tprint(\"suggestion: add 'es' to be plural form\")\n",
    "\t\n",
    "\telif noun.endswith('f') or noun.endswith('fe'):\n",
    "\t\tprint(\"suggestion: turn 'f' into 've' and then add 's' to be plural form\")\n",
    "\t\n",
    "\telif noun.endswith('y'):\n",
    "\t\tprint(\"suggestion: turn 'y' into 'i' and then add 'es' to be plural form\")\n",
    "\t\t\n",
    "\telse:\n",
    "\t\tprint(noun,'s',sep='')\n",
    "\t\tprint(\"suggestion: add 's' to be plural form\")\n",
    "\n",
    "w=input(\"pls input an English Noun: \")\n",
    "\n",
    "plural_change(w)\n",
    "\n"
   ]
  },
  {
   "cell_type": "code",
   "execution_count": 10,
   "metadata": {},
   "outputs": [
    {
     "name": "stdout",
     "output_type": "stream",
     "text": [
      "pls input m: 12\n",
      "pls input n(no less than m): 20\n",
      "pls input interval k: 3\n",
      "sum from m to n with interval k is 45\n"
     ]
    }
   ],
   "source": [
    "def compute_csum(m,n,k):\n",
    "\tif m<=n:\n",
    "\t\ti=m\n",
    "\t\ttotal=0\n",
    "\t\twhile i<=n:\n",
    "\t\t\ttotal+=i\n",
    "\t\t\ti+=k\n",
    "\telse:\n",
    "\t\tprint(\"Invalid input!\")\n",
    "\n",
    "\treturn total\n",
    "\n",
    "#main program\n",
    "inputm=int(input(\"pls input m: \"))\n",
    "inputn=int(input(\"pls input n(no less than m): \"))\n",
    "inputk=int(input(\"pls input interval k: \"))\n",
    "\n",
    "print(\"sum from m to n with interval k is\",compute_csum(inputm,inputn,inputk))"
   ]
  },
  {
   "cell_type": "code",
   "execution_count": null,
   "metadata": {
    "collapsed": true
   },
   "outputs": [],
   "source": []
  }
 ],
 "metadata": {
  "kernelspec": {
   "display_name": "Python 3",
   "language": "python",
   "name": "python3"
  },
  "language_info": {
   "codemirror_mode": {
    "name": "ipython",
    "version": 3
   },
   "file_extension": ".py",
   "mimetype": "text/x-python",
   "name": "python",
   "nbconvert_exporter": "python",
   "pygments_lexer": "ipython3",
   "version": "3.6.2"
  }
 },
 "nbformat": 4,
 "nbformat_minor": 2
}
