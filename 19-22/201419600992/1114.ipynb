{
 "cells": [
  {
   "cell_type": "code",
   "execution_count": 5,
   "metadata": {},
   "outputs": [
    {
     "name": "stdout",
     "output_type": "stream",
     "text": [
      "the max number of the list is: 899\n",
      "the min number of the list is: -10\n",
      "the average of the list is: 106.72999999999999\n"
     ]
    }
   ],
   "source": [
    "def deflist(numbers):\n",
    "    n_max=numbers[0]\n",
    "    n_min=numbers[0]\n",
    "    tot=0\n",
    "    \n",
    "    for i in range(len(numbers)):\n",
    "        if n_max<numbers[i]:\n",
    "            n_max=numbers[i]\n",
    "            \n",
    "        if n_min>numbers[i]:\n",
    "            n_min=numbers[i]\n",
    "            \n",
    "        tot+=numbers[i]\n",
    "\n",
    "    print(\"the max number of the list is:\",n_max)\n",
    "    print(\"the min number of the list is:\",n_min)\n",
    "    print(\"the average of the list is:\",tot/(len(numbers)))\n",
    "\n",
    "mynumbers=[1,2,-1,55,100,899,-10,3,12.5,5.8]\n",
    "deflist(mynumbers)"
   ]
  },
  {
   "cell_type": "code",
   "execution_count": null,
   "metadata": {
    "collapsed": true
   },
   "outputs": [],
   "source": []
  }
 ],
 "metadata": {
  "kernelspec": {
   "display_name": "Python 3",
   "language": "python",
   "name": "python3"
  },
  "language_info": {
   "codemirror_mode": {
    "name": "ipython",
    "version": 3
   },
   "file_extension": ".py",
   "mimetype": "text/x-python",
   "name": "python",
   "nbconvert_exporter": "python",
   "pygments_lexer": "ipython3",
   "version": "3.6.2"
  }
 },
 "nbformat": 4,
 "nbformat_minor": 2
}
