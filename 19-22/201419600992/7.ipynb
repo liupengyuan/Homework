{
 "cells": [
  {
   "cell_type": "code",
   "execution_count": 3,
   "metadata": {},
   "outputs": [
    {
     "name": "stdout",
     "output_type": "stream",
     "text": [
      "pls input a str: this is a str\n",
      "rts a si siht"
     ]
    }
   ],
   "source": [
    "#第一题\n",
    "def reverse(s):\n",
    "    i=len(s)\n",
    "    while i>0:\n",
    "        i-=1\n",
    "        print(s[i], end='')\n",
    "instr=input(\"pls input a str: \")\n",
    "reverse(instr)"
   ]
  },
  {
   "cell_type": "code",
   "execution_count": 2,
   "metadata": {},
   "outputs": [
    {
     "name": "stdout",
     "output_type": "stream",
     "text": [
      "pls input a pattern: &\n",
      "numbers of rows: 6\n",
      "&\n",
      "&&\n",
      "&&&\n",
      "&&&&\n",
      "&&&&&\n",
      "&&&&&&\n",
      "pls input a pattern: *\n",
      "numbers of rows: 5\n",
      "    *\n",
      "   ***\n",
      "  *****\n",
      " *******\n",
      "*********\n",
      "pls input a pattern: ?\n",
      "numbers of rows: 10\n",
      "                  ?\n",
      "                ????\n",
      "              ???????\n",
      "            ??????????\n",
      "          ?????????????\n",
      "        ????????????????\n",
      "      ???????????????????\n",
      "    ??????????????????????\n",
      "  ?????????????????????????\n",
      "????????????????????????????\n"
     ]
    }
   ],
   "source": [
    "#第二题\n",
    "def printRTtri(rtpatt,rtl):\n",
    "    for row in range(rtl):\n",
    "        print(rtpatt*(row+1))\n",
    "\n",
    "def printIsotri(isopatt,isol):\n",
    "    for row in range(isol):\n",
    "        print(' '*(isol-row-1), end='')\n",
    "        print(isopatt*(2*row+1))\n",
    "def printOthtri(otherpatt,ol):\n",
    "    for row in range(ol):\n",
    "        print(' '*(ol-(row+1))*2, end='')\n",
    "        print(otherpatt*(3*row+1))\n",
    "\n",
    "\n",
    "tripatt1=input(\"pls input a pattern: \")\n",
    "trirow1=int(input(\"numbers of rows: \"))\n",
    "printRTtri(tripatt1,trirow1)\n",
    "\n",
    "tripatt2=input(\"pls input a pattern: \")\n",
    "trirow2=int(input(\"numbers of rows: \"))\n",
    "printIsotri(tripatt2,trirow2)\n",
    "\n",
    "tripatt3=input(\"pls input a pattern: \")\n",
    "trirow3=int(input(\"numbers of rows: \"))\n",
    "printOthtri(tripatt3,trirow3)\n"
   ]
  },
  {
   "cell_type": "code",
   "execution_count": 14,
   "metadata": {},
   "outputs": [
    {
     "name": "stdout",
     "output_type": "stream",
     "text": [
      "pls input an English Noun: knife\n",
      "knives\n"
     ]
    }
   ],
   "source": [
    "#第三题\n",
    "def convertToPlural(noun):\n",
    "    l=len(noun)\n",
    "    if noun.endswith('s') or noun.endswith('x') or noun.endswith('z') or noun.endswith('ch') or noun.endswith('sh') or noun.endswith('o'):\n",
    "        print(noun+'es')\n",
    "    elif noun.endswith('f'):\n",
    "        print(noun[:l-1]+'ves')\n",
    "    elif noun.endswith('y'):\n",
    "        print(noun[:l-1]+'ies')\n",
    "    elif noun.endswith('fe'):\n",
    "        print(noun[:l-2]+'ves')\n",
    "    else:\n",
    "        print(noun+'s')\n",
    "\n",
    "in_noun=input(\"pls input an English Noun: \")\n",
    "convertToPlural(in_noun)"
   ]
  },
  {
   "cell_type": "code",
   "execution_count": 4,
   "metadata": {},
   "outputs": [
    {
     "name": "stdout",
     "output_type": "stream",
     "text": [
      "pls input the pattern: *\n",
      "     *\n",
      "    ***\n",
      "   *****\n",
      "  *******\n",
      " *********\n",
      "***********\n",
      " *********\n",
      "  *******\n",
      "   *****\n",
      "    ***\n",
      "     *\n",
      "                      *\n",
      "                    *   *\n",
      "                  *       *\n",
      "                *           *\n",
      "              *               *\n",
      "            *                   *\n",
      "          *                       *\n",
      "        *                           *\n",
      "      *                               *\n",
      "    *                                   *\n",
      "      *                               *\n",
      "        *                           *\n",
      "          *                       *\n",
      "            *                   *\n",
      "              *               *\n",
      "                *           *\n",
      "                  *       *\n",
      "                    *   *\n",
      "                      *\n",
      "The third diamond is not allowed to use the given pattern, in order to print a 'square'\n",
      "\n",
      "╋╋╋╋╋\n",
      "╋╋╋╋╋\n",
      "╋╋╋╋╋\n",
      "╋╋╋╋╋\n",
      "╋╋╋╋╋\n"
     ]
    }
   ],
   "source": [
    "#第五题\n",
    "def printDiamond(diapatt):\n",
    "    storediamond=[]\n",
    "    for row in range(6):\n",
    "        sp=' '*(6-row-1)\n",
    "        dp=diapatt*(2*row+1)\n",
    "        linepatt=sp+dp\n",
    "        storediamond.append(linepatt)\n",
    "        print(linepatt)\n",
    "    for i in range(len(storediamond)-2,-1,-1):\n",
    "        print(storediamond[i])\n",
    "\n",
    "def printOLDiamond(diapatt):\n",
    "    storediamond=[]\n",
    "    print(' '*((10+1)*2),end='')\n",
    "    print(diapatt)\n",
    "    for row in range(1,10):\n",
    "        sp=' '*((10-row+1)*2)\n",
    "        oll=diapatt\n",
    "        mid=' '*(4*row-1)\n",
    "        olr=diapatt\n",
    "        linepatt=sp+oll+mid+olr\n",
    "        storediamond.append(linepatt)\n",
    "        print(linepatt)\n",
    "    for i in range(len(storediamond)-2,-1,-1):\n",
    "        print(storediamond[i])\n",
    "    print(' '*((10+1)*2),end='')\n",
    "    print(diapatt)\n",
    "\n",
    "def printRTDiamond(diapatt):\n",
    "    for i in range(5):\n",
    "        print(5*diapatt)\n",
    "patt=input(\"pls input the pattern: \")\n",
    "printDiamond(patt)\n",
    "printOLDiamond(patt)\n",
    "print(\"The third diamond is not allowed to use the given pattern, in order to print a 'square'\\n\")\n",
    "printRTDiamond(\"╋\")"
   ]
  },
  {
   "cell_type": "code",
   "execution_count": 16,
   "metadata": {},
   "outputs": [
    {
     "name": "stdout",
     "output_type": "stream",
     "text": [
      "赏花归去马如飞飞如马去归花赏\n",
      " 赏花归去马如飞如马去归花赏\n",
      "  赏花归去马如如马去归花赏\n",
      "   赏花归去马如马去归花赏\n",
      "    赏花归去马马去归花赏\n",
      "     赏花归去马去归花赏\n",
      "      赏花归去去归花赏\n",
      "       赏花归去归花赏\n",
      "        赏花归归花赏\n",
      "         赏花归花赏\n",
      "          赏花花赏\n",
      "           赏花赏\n",
      "            赏赏\n",
      "             赏\n"
     ]
    }
   ],
   "source": [
    "#第六题\n",
    "\n",
    "def plalindrome(line):\n",
    "    for i in range(len(line)*2,0,-1):\n",
    "        if i == 1:\n",
    "            print(' '*(len(line)*2-1) +line[0])\n",
    "        elif i%2 == 1:\n",
    "            print(' '*(len(line)*2-i) + line[:i//2] + line[i//2] + line[i//2-1::-1])\n",
    "        else:\n",
    "            print(' '*(len(line)*2-i) + line[:i//2] + line[i//2-1::-1])\n",
    "\n",
    "def main():\n",
    "    text = '赏花归去马如飞'\n",
    "    plalindrome(text)\n",
    "    \n",
    "\n",
    "if __name__ == '__main__':\n",
    "    main()"
   ]
  },
  {
   "cell_type": "code",
   "execution_count": null,
   "metadata": {
    "collapsed": true
   },
   "outputs": [],
   "source": []
  }
 ],
 "metadata": {
  "kernelspec": {
   "display_name": "Python 3",
   "language": "python",
   "name": "python3"
  },
  "language_info": {
   "codemirror_mode": {
    "name": "ipython",
    "version": 3
   },
   "file_extension": ".py",
   "mimetype": "text/x-python",
   "name": "python",
   "nbconvert_exporter": "python",
   "pygments_lexer": "ipython3",
   "version": "3.6.2"
  }
 },
 "nbformat": 4,
 "nbformat_minor": 2
}
