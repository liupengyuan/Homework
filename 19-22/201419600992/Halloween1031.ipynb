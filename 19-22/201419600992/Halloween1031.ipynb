{
 "cells": [
  {
   "cell_type": "code",
   "execution_count": 1,
   "metadata": {},
   "outputs": [
    {
     "name": "stdout",
     "output_type": "stream",
     "text": [
      "pls input integer m: 5\n",
      "pls input integer n: 4\n",
      "sum of sum is:  25\n"
     ]
    }
   ],
   "source": [
    "def my_sum(end):\n",
    "\ti=0\n",
    "\ttotal_s=0\n",
    "\n",
    "\twhile i<end:\n",
    "\t\ti=i+1\n",
    "\t\ttotal_s=total_s+i\n",
    "\n",
    "\treturn total_s\n",
    "\n",
    "def my_mul(n):\n",
    "\tj=0\n",
    "\ttotal=1\n",
    "\n",
    "\twhile j<n:\n",
    "\t\tj=j+1\n",
    "\t\ttotal=total*j\n",
    "\n",
    "\treturn total\n",
    "\n",
    "m=int(input('pls input integer m: '))\n",
    "n=int(input('pls input integer n: '))\n",
    "\n",
    "if m>n:\n",
    "\tprint('sum of sum is: ',my_sum(m)+my_sum(n))\n",
    "else:\n",
    "\tprint('sum of factorial is: ',my_mul(m)+my_mul(n))\n"
   ]
  },
  {
   "cell_type": "code",
   "execution_count": null,
   "metadata": {
    "collapsed": true
   },
   "outputs": [],
   "source": []
  }
 ],
 "metadata": {
  "kernelspec": {
   "display_name": "Python 3",
   "language": "python",
   "name": "python3"
  },
  "language_info": {
   "codemirror_mode": {
    "name": "ipython",
    "version": 3
   },
   "file_extension": ".py",
   "mimetype": "text/x-python",
   "name": "python",
   "nbconvert_exporter": "python",
   "pygments_lexer": "ipython3",
   "version": "3.6.2"
  }
 },
 "nbformat": 4,
 "nbformat_minor": 2
}
