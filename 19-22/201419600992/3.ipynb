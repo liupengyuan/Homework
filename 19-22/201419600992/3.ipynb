{
 "cells": [
  {
   "cell_type": "code",
   "execution_count": 1,
   "metadata": {},
   "outputs": [
    {
     "name": "stdout",
     "output_type": "stream",
     "text": [
      "pls input your name: Olly\n",
      "pls input the month of your birthday(in term of number): 8\n",
      "pls input the date of your birthday(in term of number): 24\n",
      "Olly , You are Virgo  !\n",
      "\n"
     ]
    }
   ],
   "source": [
    "uname=input(\"pls input your name: \")\n",
    "umonth=int(input(\"pls input the month of your birthday(in term of number): \"))\n",
    "udate=int(input(\"pls input the date of your birthday(in term of number): \"))\n",
    "\n",
    "if umonth==3:\n",
    "\tif udate>20:\n",
    "\t\tuconstel=\"Aries\"\n",
    "\telse:\n",
    "\t\tuconstel=\"Pisces\"\n",
    "elif umonth==4:\n",
    "\tif udate>19:\n",
    "\t\tuconstel=\"Taurus\"\n",
    "\telse:\n",
    "\t\tuconstel=\"Aries\"\n",
    "elif umonth==5:\n",
    "\tif udate>20:\n",
    "\t\tuconstel=\"Gemini\"\n",
    "\telse:\n",
    "\t\tuconstel=\"Taurus\"\n",
    "elif umonth==6:\n",
    "\tif udate>21:\n",
    "\t\tuconstel=\"Cancer\"\n",
    "\telse:\n",
    "\t\tuconstel=\"Gemini\"\n",
    "elif umonth==7:\n",
    "\tif udate>22:\n",
    "\t\tuconstel=\"Leo\"\n",
    "\telse:\n",
    "\t\tuconstel=\"Cancer\"\n",
    "elif umonth==8:\n",
    "\tif udate>22:\n",
    "\t\tuconstel=\"Virgo\"\n",
    "\telse:\n",
    "\t\tuconstel=\"Leo\"\n",
    "elif umonth==9:\n",
    "\tif udate>22:\n",
    "\t\tuconstel=\"Libra\"\n",
    "\telse:\n",
    "\t\tuconstel=\"Virgo\"\n",
    "elif umonth==10:\n",
    "\tif udate>23:\n",
    "\t\tuconstel=\"Scorpio\"\n",
    "\telse:\n",
    "\t\tuconstel=\"Libra\"\n",
    "elif umonth==11:\n",
    "\tif udate>21:\n",
    "\t\tuconstel=\"Sagittarius\"\n",
    "\telse:\n",
    "\t\tuconstel=\"Scorpio\"\n",
    "elif umonth==12:\n",
    "\tif udate>21:\n",
    "\t\tuconstel=\"Capricorn\"\n",
    "\telse:\n",
    "\t\tuconstel=\"Sagittarius\"\n",
    "elif umonth==1:\n",
    "\tif udate>19:\n",
    "\t\tuconstel=\"Aquarius\"\n",
    "\telse:\n",
    "\t\tuconstel=\"Capricorn\"\n",
    "elif umonth==2:\n",
    "\tif udate>18:\n",
    "\t\tuconstel=\"Pisces\"\n",
    "\telse:\n",
    "\t\tuconstel=\"Aquarius\"\n",
    "\n",
    "print(uname,\", You are\",uconstel,\" !\\n\")\n"
   ]
  },
  {
   "cell_type": "code",
   "execution_count": 2,
   "metadata": {},
   "outputs": [
    {
     "name": "stdout",
     "output_type": "stream",
     "text": [
      "pls input m: 1\n",
      "pls input n (dont equal to 0): 10\n",
      "What do you want to do with these two numbers?\n",
      "(only choose from: add/product/mod/divide)\n",
      "Type here: add\n",
      "addition is 55\n"
     ]
    }
   ],
   "source": [
    "m=int(input(\"pls input m: \"))\n",
    "n=int(input(\"pls input n (dont equal to 0): \"))\n",
    "\n",
    "stat=input(\"What do you want to do with these two numbers?\\n(only choose from: add/product/mod/divide)\\nType here: \")\n",
    "\n",
    "if stat==\"add\":\n",
    "\ta=0\n",
    "\tif n>m:\n",
    "\t\ti=m\n",
    "\t\twhile i<=n:\n",
    "\t\t\ta+=i\n",
    "\t\t\ti+=1\n",
    "\telif n<m:\n",
    "\t\ti=n\n",
    "\t\twhile i<=m:\n",
    "\t\t\ta+=i\n",
    "\t\t\ti+=1\n",
    "\telse:\n",
    "\t\ta=m+n\n",
    "\tprint(\"addition is\",a)\n",
    "\n",
    "elif stat==\"product\":\n",
    "\tp=1\n",
    "\tif n>m:\n",
    "\t\ti=m\n",
    "\t\twhile i<=n:\n",
    "\t\t\tp*=i\n",
    "\t\t\ti+=1\n",
    "\telif n<m:\n",
    "\t\ti=n\n",
    "\t\twhile i<=m:\n",
    "\t\t\tp*=i\n",
    "\t\t\ti+=1\n",
    "\telse:\n",
    "\t\tp=m*n\n",
    "\tprint(\"product is\",p)\n",
    "\n",
    "elif stat==\"mod\":\n",
    "\tmod=m%n\n",
    "\tprint(\"mod is\",mod)\n",
    "\n",
    "elif stat==\"divide\":\n",
    "\td=m/n\n",
    "\tprint(\"division is\",int(d))\n",
    "\n"
   ]
  },
  {
   "cell_type": "code",
   "execution_count": 12,
   "metadata": {},
   "outputs": [
    {
     "name": "stdout",
     "output_type": "stream",
     "text": [
      "pls input an English Noun: tomato\n",
      "tomatoes\n",
      "suggestion: add 'es' to be plural form\n"
     ]
    }
   ],
   "source": [
    "noun=input(\"pls input an English Noun: \")\n",
    "\n",
    "if noun.endswith('s') or noun.endswith('x') or noun.endswith('z') or noun.endswith('ch') or noun.endswith('sh') or noun.endswith('o'):\n",
    "\tprint(noun,'es',sep='')\n",
    "\tprint(\"suggestion: add 'es' to be plural form\")\n",
    "\t\n",
    "elif noun.endswith('f') or noun.endswith('fe'):\n",
    "\tprint(\"suggestion: turn 'f' into 've' and then add 's' to be plural form\")\n",
    "\t\n",
    "elif noun.endswith('y'):\n",
    "\tprint(\"suggestion: turn 'y' into 'i' and then add 'es' to be plural form\")\n",
    "\t\n",
    "else:\n",
    "\tprint(noun,'s',sep='')\n",
    "\tprint(\"suggestion: add 's' to be plural form\")"
   ]
  },
  {
   "cell_type": "code",
   "execution_count": 7,
   "metadata": {},
   "outputs": [
    {
     "name": "stdout",
     "output_type": "stream",
     "text": [
      "How many blank lines do you want to print?\n",
      "10\n",
      "\n",
      "\n",
      "\n",
      "\n",
      "\n",
      "\n",
      "\n",
      "\n",
      "\n",
      "\n",
      "\n"
     ]
    }
   ],
   "source": [
    "n=int(input(\"How many blank lines do you want to print?\\n\"))\n",
    "print('\\n'*n)"
   ]
  },
  {
   "cell_type": "code",
   "execution_count": 27,
   "metadata": {},
   "outputs": [
    {
     "name": "stdout",
     "output_type": "stream",
     "text": [
      "How many numbers do you want to input?\n",
      "10\n",
      "Now pls input number: 5\n",
      "Now pls input number: 4\n",
      "Now pls input number: 6\n",
      "Now pls input number: 7\n",
      "Now pls input number: 9\n",
      "Now pls input number: 10\n",
      "Now pls input number: 1\n",
      "Now pls input number: 2\n",
      "Now pls input number: 3\n",
      "Now pls input number: 8\n",
      "5\n",
      "4\n",
      "6\n",
      "7\n",
      "9\n",
      "10\n",
      "1\n",
      "2\n",
      "3\n",
      "8\n",
      "---THE END OF SORTING--\n",
      "9\n"
     ]
    }
   ],
   "source": [
    "numbers=[]\n",
    "n=int(input(\"How many numbers do you want to input?\\n\"))\n",
    "i=0\n",
    "while i<n:\n",
    "\tm=int(input(\"Now pls input number: \"))\n",
    "\tnumbers.append(m)\n",
    "\ti+=1\n",
    "for num in numbers:\n",
    "\tprint(num)\n",
    "\n",
    "for j in range(0,len(numbers)):\n",
    "\tfor k in range(0,len(numbers)):\n",
    "\t\tif numbers[k]<numbers[j]:\n",
    "\t\t\ttmp=numbers[j]\n",
    "\t\t\tnumbers[j]=numbers[k]\n",
    "\t\t\tnumbers[k]=tmp\n",
    "print(\"---THE END OF SORTING--\")\n",
    "#for num in numbers:\n",
    "\t#print(num)\n",
    "print(numbers[1])\n",
    "\n",
    "\n"
   ]
  },
  {
   "cell_type": "code",
   "execution_count": null,
   "metadata": {
    "collapsed": true
   },
   "outputs": [],
   "source": []
  }
 ],
 "metadata": {
  "kernelspec": {
   "display_name": "Python 3",
   "language": "python",
   "name": "python3"
  },
  "language_info": {
   "codemirror_mode": {
    "name": "ipython",
    "version": 3
   },
   "file_extension": ".py",
   "mimetype": "text/x-python",
   "name": "python",
   "nbconvert_exporter": "python",
   "pygments_lexer": "ipython3",
   "version": "3.6.2"
  }
 },
 "nbformat": 4,
 "nbformat_minor": 2
}
