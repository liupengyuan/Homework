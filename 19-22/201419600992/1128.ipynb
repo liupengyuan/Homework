{
 "cells": [
  {
   "cell_type": "code",
   "execution_count": 1,
   "metadata": {},
   "outputs": [
    {
     "name": "stdout",
     "output_type": "stream",
     "text": [
      "a\n",
      "ab\n",
      "abc\n",
      "abcd\n",
      "abcde\n",
      "abcdef\n",
      "abcdefg\n",
      "abcdefgh\n",
      "abcdefghi\n",
      "abcdefghig\n",
      "abcdefghigk\n",
      "abcdefghigkl\n",
      "abcdefghigklm\n",
      "abcdefghigklmn\n",
      "abcdefghigklmno\n",
      "abcdefghigklmnop\n",
      "abcdefghigklmnopq\n",
      "abcdefghigklmnopqr\n",
      "abcdefghigklmnopqrs\n",
      "abcdefghigklmnopqrst\n",
      "abcdefghigklmnopqrstu\n",
      "abcdefghigklmnopqrstuv\n",
      "abcdefghigklmnopqrstuvw\n",
      "abcdefghigklmnopqrstuvwx\n",
      "abcdefghigklmnopqrstuvwxy\n",
      "abcdefghigklmnopqrstuvwxyz\n"
     ]
    }
   ],
   "source": [
    "line='abcdefghigklmnopqrstuvwxyz'\n",
    "i=0\n",
    "while i<26:\n",
    "    i+=1\n",
    "    print(line[:i])"
   ]
  },
  {
   "cell_type": "code",
   "execution_count": 16,
   "metadata": {},
   "outputs": [
    {
     "name": "stdout",
     "output_type": "stream",
     "text": [
      "input number of rows: 10\n",
      "         *\n",
      "        * *\n",
      "       * * *\n",
      "      * * * *\n",
      "     * * * * *\n",
      "    * * * * * *\n",
      "   * * * * * * *\n",
      "  * * * * * * * *\n",
      " * * * * * * * * *\n",
      "* * * * * * * * * *\n"
     ]
    }
   ],
   "source": [
    "def printTri(anyl):\n",
    "    lpat='* '\n",
    "    rpat=' *'\n",
    "    for row in range(1,anyl+1):\n",
    "        if row%2 == 1:\n",
    "            print(' '*(anyl-row), end='')\n",
    "            print(lpat*(row//2), end ='')\n",
    "            print('*', end='')\n",
    "            print(rpat*(row//2))\n",
    "        elif row%2 == 0:\n",
    "            print(' '*(anyl-row), end='')\n",
    "            print(lpat*((row-2)//2), end='')\n",
    "            print('* *', end='')\n",
    "            print(rpat*((row-2)//2))\n",
    "n=int(input('input number of rows: '))\n",
    "printTri(n)"
   ]
  },
  {
   "cell_type": "code",
   "execution_count": null,
   "metadata": {
    "collapsed": true
   },
   "outputs": [],
   "source": []
  }
 ],
 "metadata": {
  "kernelspec": {
   "display_name": "Python 3",
   "language": "python",
   "name": "python3"
  },
  "language_info": {
   "codemirror_mode": {
    "name": "ipython",
    "version": 3
   },
   "file_extension": ".py",
   "mimetype": "text/x-python",
   "name": "python",
   "nbconvert_exporter": "python",
   "pygments_lexer": "ipython3",
   "version": "3.6.2"
  }
 },
 "nbformat": 4,
 "nbformat_minor": 2
}
