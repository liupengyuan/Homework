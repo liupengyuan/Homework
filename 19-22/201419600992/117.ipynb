{
 "cells": [
  {
   "cell_type": "code",
   "execution_count": 4,
   "metadata": {},
   "outputs": [
    {
     "name": "stdout",
     "output_type": "stream",
     "text": [
      "pls input m: 5\n",
      "pls input n: 10\n",
      "pls input k: 500\n",
      "The square root of these integer is:  19.748417658131498\n"
     ]
    }
   ],
   "source": [
    "import math\n",
    "import random\n",
    "\n",
    "m=int(input('pls input m: '))\n",
    "n=int(input('pls input n: '))\n",
    "k=int(input('pls input k: '))\n",
    "\n",
    "if n>k:\n",
    "    tmp=n\n",
    "    n=k\n",
    "    k=tmp\n",
    "\n",
    "i=0\n",
    "tot=0\n",
    "while i<m:\n",
    "    random.seed(1)\n",
    "    tot+=random.randint(n,k)\n",
    "    i+=1\n",
    "print('The square root of these integer is: ',math.sqrt(tot))"
   ]
  },
  {
   "cell_type": "code",
   "execution_count": null,
   "metadata": {
    "collapsed": true
   },
   "outputs": [],
   "source": []
  }
 ],
 "metadata": {
  "kernelspec": {
   "display_name": "Python 3",
   "language": "python",
   "name": "python3"
  },
  "language_info": {
   "codemirror_mode": {
    "name": "ipython",
    "version": 3
   },
   "file_extension": ".py",
   "mimetype": "text/x-python",
   "name": "python",
   "nbconvert_exporter": "python",
   "pygments_lexer": "ipython3",
   "version": "3.6.2"
  }
 },
 "nbformat": 4,
 "nbformat_minor": 2
}
