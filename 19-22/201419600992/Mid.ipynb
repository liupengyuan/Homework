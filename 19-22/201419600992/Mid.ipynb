{
 "cells": [
  {
   "cell_type": "code",
   "execution_count": 3,
   "metadata": {},
   "outputs": [
    {
     "name": "stdout",
     "output_type": "stream",
     "text": [
      "pls input the number of items: 6\n",
      "56\n"
     ]
    }
   ],
   "source": [
    "#第一题\n",
    "def computeSum(m):\n",
    "    tot=0\n",
    "    nt=0\n",
    "    for i in range(m):\n",
    "        nt+=i+1\n",
    "        #print(nt)\n",
    "        tot+=nt\n",
    "    return tot\n",
    "\n",
    "m=int(input(\"pls input the number of items: \"))\n",
    "print(computeSum(m))"
   ]
  },
  {
   "cell_type": "code",
   "execution_count": 4,
   "metadata": {},
   "outputs": [
    {
     "name": "stdout",
     "output_type": "stream",
     "text": [
      "*\n",
      "***\n",
      "*****\n",
      "*******\n",
      "*********\n"
     ]
    }
   ],
   "source": [
    "#第二题\n",
    "def printStar(spat,nl):\n",
    "    for row in range(nl):\n",
    "        print(spat*(2*row+1))\n",
    "\n",
    "printStar('*',5)"
   ]
  },
  {
   "cell_type": "code",
   "execution_count": 5,
   "metadata": {},
   "outputs": [
    {
     "name": "stdout",
     "output_type": "stream",
     "text": [
      "input an integer: 48723487234904358008\n",
      "4\n"
     ]
    }
   ],
   "source": [
    "#第三题\n",
    "def theFirst(anyInt):\n",
    "    if anyInt//10==0:\n",
    "        return anyInt\n",
    "    else:\n",
    "        while anyInt//10!=0:\n",
    "            anyInt//=10\n",
    "        return anyInt\n",
    "\n",
    "n=int(input(\"input an integer: \"))\n",
    "print(theFirst(n))"
   ]
  },
  {
   "cell_type": "code",
   "execution_count": 6,
   "metadata": {},
   "outputs": [
    {
     "name": "stdout",
     "output_type": "stream",
     "text": [
      "how many people?: 9\n",
      "input the height: 183\n",
      "input the height: 185\n",
      "input the height: 183\n",
      "input the height: 187\n",
      "input the height: 178\n",
      "input the height: 175\n",
      "input the height: 177\n",
      "input the height: 190\n",
      "input the height: 172\n",
      "the average height is:  181.11111111111111\n",
      "the heights higher than average are: \n",
      "183\n",
      "185\n",
      "183\n",
      "187\n",
      "190\n"
     ]
    }
   ],
   "source": [
    "#第四题\n",
    "n=int(input(\"how many people?: \"))\n",
    "perheights=[]\n",
    "totheight=0\n",
    "for pi in range(n):\n",
    "    ph=int(input(\"input the height: \"))\n",
    "    perheights.append(ph);\n",
    "    totheight+=ph\n",
    "avgheight=totheight/n\n",
    "print(\"the average height is: \",avgheight)\n",
    "print(\"the heights higher than average are: \")\n",
    "\n",
    "for i in range(n):\n",
    "    if perheights[i]>avgheight:\n",
    "        print(perheights[i])\n"
   ]
  },
  {
   "cell_type": "code",
   "execution_count": 7,
   "metadata": {},
   "outputs": [
    {
     "name": "stdout",
     "output_type": "stream",
     "text": [
      "1 . 7 + 8 =\n",
      "15\n",
      "2 . 1 + 2 =\n",
      "3\n",
      "3 . 8 + 2 =\n",
      "10\n",
      "4 . 3 + 6 =\n",
      "9\n",
      "5 . 5 + 4 =\n",
      "0\n",
      "80\n"
     ]
    }
   ],
   "source": [
    "#第五题\n",
    "import random,math\n",
    "score=0\n",
    "for i in range(5):\n",
    "    add1=random.randint(1,10)\n",
    "    add2=random.randint(1,10)\n",
    "    tans=add1+add2\n",
    "    print(i+1,\".\",add1,\"+\",add2,\"=\")\n",
    "    ans=int(input())\n",
    "    if ans==tans:\n",
    "        score+=20\n",
    "print(score)"
   ]
  },
  {
   "cell_type": "code",
   "execution_count": 8,
   "metadata": {},
   "outputs": [
    {
     "name": "stdout",
     "output_type": "stream",
     "text": [
      "[108, 88, 34, 9, 3, -5, -76]\n"
     ]
    }
   ],
   "source": [
    "#第六题\n",
    "def reArrangeList(anylist):\n",
    "    for i in range(len(anylist)):\n",
    "        for j in range(len(anylist)):\n",
    "            if anylist[i]>anylist[j]:\n",
    "                tmp=anylist[i]\n",
    "                anylist[i]=anylist[j]\n",
    "                anylist[j]=tmp\n",
    "    return anylist\n",
    "\n",
    "theList=[3,-5,9,108,34,-76,88]\n",
    "reArrangeList(theList)\n",
    "print(theList)"
   ]
  },
  {
   "cell_type": "code",
   "execution_count": null,
   "metadata": {
    "collapsed": true
   },
   "outputs": [],
   "source": []
  }
 ],
 "metadata": {
  "kernelspec": {
   "display_name": "Python 3",
   "language": "python",
   "name": "python3"
  },
  "language_info": {
   "codemirror_mode": {
    "name": "ipython",
    "version": 3
   },
   "file_extension": ".py",
   "mimetype": "text/x-python",
   "name": "python",
   "nbconvert_exporter": "python",
   "pygments_lexer": "ipython3",
   "version": "3.6.2"
  }
 },
 "nbformat": 4,
 "nbformat_minor": 2
}
