{
 "cells": [
  {
   "cell_type": "code",
   "execution_count": 2,
   "metadata": {},
   "outputs": [
    {
     "name": "stdout",
     "output_type": "stream",
     "text": [
      "请输入m: 4\n",
      "请输入n: 3\n",
      "16\n"
     ]
    }
   ],
   "source": [
    "def my_sum(n):\n",
    "    i=1\n",
    "    total=0\n",
    "    while i<=n:\n",
    "        total=total+i\n",
    "        i=i+1\n",
    "    return total\n",
    "def my_mul(n):\n",
    "    i=1\n",
    "    total=1\n",
    "    while i<=n:\n",
    "        total=total*i\n",
    "        i=i+1\n",
    "    return total\n",
    "m=int(input(\"请输入m: \"))\n",
    "n=int(input(\"请输入n: \"))\n",
    "if m>n:\n",
    "    print(my_sum(m)+my_sum(n))\n",
    "else:\n",
    "    print(my_mul(m)+my_mul(n))"
   ]
  }
 ],
 "metadata": {
  "kernelspec": {
   "display_name": "Python 3",
   "language": "python",
   "name": "python3"
  },
  "language_info": {
   "codemirror_mode": {
    "name": "ipython",
    "version": 3
   },
   "file_extension": ".py",
   "mimetype": "text/x-python",
   "name": "python",
   "nbconvert_exporter": "python",
   "pygments_lexer": "ipython3",
   "version": "3.6.2"
  }
 },
 "nbformat": 4,
 "nbformat_minor": 2
}
