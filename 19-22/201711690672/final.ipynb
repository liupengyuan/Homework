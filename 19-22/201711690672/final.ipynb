{
 "cells": [
  {
   "cell_type": "code",
   "execution_count": null,
   "metadata": {
    "collapsed": true
   },
   "outputs": [],
   "source": [
    "1.#写函数，有两个形式参数：符号和行数，可打印多行字符图形。如主程序给定：‘*’，5，调用该函数，可打印相应行数的如下图形"
   ]
  },
  {
   "cell_type": "code",
   "execution_count": 8,
   "metadata": {},
   "outputs": [
    {
     "name": "stdout",
     "output_type": "stream",
     "text": [
      "请输入你想要打印的符号：*\n",
      "请输入你想要打印的行数： 5\n",
      "             * ***** * \n",
      "          *  * ***** *  * \n",
      "       *  *  * ***** *  *  * \n",
      "    *  *  *  * ***** *  *  *  * \n",
      " *  *  *  *  * ***** *  *  *  *  * \n"
     ]
    }
   ],
   "source": [
    "def test(symble,line):\n",
    "    for i in range(1,line+1):\n",
    "        print(' '*3*(line-i)+(' '+ symble+' ')*i+symble*5+(' '+symble+' ')*i)\n",
    "   \n",
    "symble=input('请输入你想要打印的符号：')\n",
    "line=int(input('请输入你想要打印的行数： '))\n",
    "test(symble,line)"
   ]
  },
  {
   "cell_type": "code",
   "execution_count": null,
   "metadata": {
    "collapsed": true
   },
   "outputs": [],
   "source": [
    "#第二题"
   ]
  },
  {
   "cell_type": "code",
   "execution_count": 20,
   "metadata": {},
   "outputs": [
    {
     "name": "stdout",
     "output_type": "stream",
     "text": [
      "125\n"
     ]
    }
   ],
   "source": [
    "def A(m,n):\n",
    "    if m == 0:\n",
    "        return n+1\n",
    "    elif m>0 and n == 0:\n",
    "        return A(m-1,1)\n",
    "    elif m>0 and n>0:\n",
    "        return A(m-1,A(m,n-1))\n",
    "print(A(3,4))"
   ]
  },
  {
   "cell_type": "code",
   "execution_count": null,
   "metadata": {
    "collapsed": true
   },
   "outputs": [],
   "source": [
    "#第三题"
   ]
  },
  {
   "cell_type": "code",
   "execution_count": 4,
   "metadata": {},
   "outputs": [
    {
     "name": "stdout",
     "output_type": "stream",
     "text": [
      "请输入你想要给定的题目个数：15\n",
      "请输入一个数字作为下界: 3\n",
      "请输入一个数字作为上界: 25\n",
      "21 × 6\n",
      "24 ÷ 12\n",
      "17 - 18\n",
      "11 - 10\n",
      "22 + 22\n",
      "24 × 18\n",
      "8 ÷ 14\n",
      "16 + 14\n",
      "6 - 22\n",
      "18 + 3\n",
      "19 - 13\n",
      "14 × 6\n",
      "19 ÷ 15\n",
      "19 + 6\n",
      "18 × 13\n"
     ]
    }
   ],
   "source": [
    "import random,math\n",
    "#(a)\n",
    "n=int(input('请输入你想要给定的题目个数：'))\n",
    "a=int(input('请输入一个数字作为下界: '))\n",
    "b=int(input('请输入一个数字作为上界: '))\n",
    "for i in range(n):\n",
    "    A= ['+','-','×','÷']\n",
    "    x=random.randint(a,b)\n",
    "    y=random.randint(a,b)\n",
    "    symble=random.choice(A)\n",
    "    print(x,symble,y)\n",
    "\n",
    "answer=int(input('由用户输出答案：'))\n",
    "total=0\n",
    "if symble=='+' or symble=='-':\n",
    "    total +=5\n",
    "if symble=='×'or symble=='÷'：\n",
    "    total +=10\n",
    "    \n",
    "    "
   ]
  },
  {
   "cell_type": "code",
   "execution_count": 22,
   "metadata": {},
   "outputs": [
    {
     "name": "stdout",
     "output_type": "stream",
     "text": [
      "23 - 11 =\n",
      "16 + 3 =\n",
      "17 - 9 =\n",
      "4 * 4 =\n",
      "14 + 9 =\n",
      "17 - 4 =\n",
      "21 - 23 =\n",
      "7 - 19 =\n",
      "3 - 9 =\n",
      "9 + 20 =\n",
      "25 + 4 =\n",
      "6 * 15 =\n",
      "19 - 22 =\n",
      "22 - 9 =\n",
      "4 + 17 =\n",
      "[12, 19, 8, 16, 23, 13, -2, -12, -6, 29, 29, 90, -3, 13, 21]\n",
      "[12, 19, 8, -100, 23, 13, -2, -12, -6, 29, 29, -100, -3, 13, 21]\n",
      "[-100, -100, -100, 16, -100, -100, -100, -100, -100, -100, -100, 90, -100, -100, -100]\n",
      "输入所有答案，用逗号隔开25,26,27,16,23,13,-2,16,16,16,16,16,16,16,16\n",
      "['25', '26', '27', '16', '23', '13', '-2', '16', '16', '16', '16', '16', '16', '16', '16']\n",
      "您的成绩为 25\n"
     ]
    }
   ],
   "source": [
    "#b\n",
    "import random\n",
    "i=0\n",
    "symbol = ['+','-','*','/']\n",
    "total = []\n",
    "jiajian =[]\n",
    "chengchu =[]\n",
    "while i<15:\n",
    "    x = random.randint(3,25)\n",
    "    y = random.randint(3,25)\n",
    "    sign = random.choice(symbol)\n",
    "    if sign =='/':\n",
    "        if x%y==0 :\n",
    "            i +=1\n",
    "            print(x,sign,y,'=')  \n",
    "            total.append(x/y)\n",
    "            chengchu.append(x/y)\n",
    "            jiajian.append(-100)\n",
    "    else:\n",
    "        i +=1\n",
    "        print(x,sign,y,'=')\n",
    "        if sign =='+':\n",
    "            total.append(x+y) \n",
    "            jiajian.append(x+y)\n",
    "            chengchu.append(-100)\n",
    "        elif sign =='-':\n",
    "            total.append(x-y)\n",
    "            jiajian.append(x-y)\n",
    "            chengchu.append(-100)\n",
    "        elif sign =='*':\n",
    "            total.append(x*y)\n",
    "            chengchu.append(x*y)\n",
    "            jiajian.append(-100)\n",
    "print(total)\n",
    "print(jiajian)\n",
    "print(chengchu)\n",
    "\n",
    "number=input('输入所有答案，用逗号隔开')\n",
    "num=number.split(',')\n",
    "print(num)\n",
    "\n",
    "score=0\n",
    "for i in range(0,15):\n",
    "    if int(num[i])==total[i]:\n",
    "        if int(num[i])==chengchu[i]:\n",
    "            score+=10\n",
    "        else:\n",
    "            score+=5\n",
    "    else:\n",
    "        score+=0\n",
    "print('您的成绩为',score)"
   ]
  },
  {
   "cell_type": "code",
   "execution_count": 23,
   "metadata": {
    "collapsed": true
   },
   "outputs": [],
   "source": [
    "#第四题"
   ]
  },
  {
   "cell_type": "code",
   "execution_count": 19,
   "metadata": {},
   "outputs": [
    {
     "ename": "TypeError",
     "evalue": "count_words_freq() missing 1 required positional argument: 'words'",
     "output_type": "error",
     "traceback": [
      "\u001b[1;31m---------------------------------------------------------------------------\u001b[0m",
      "\u001b[1;31mTypeError\u001b[0m                                 Traceback (most recent call last)",
      "\u001b[1;32m<ipython-input-19-98fbdc0adfa3>\u001b[0m in \u001b[0;36m<module>\u001b[1;34m()\u001b[0m\n\u001b[0;32m     24\u001b[0m     \u001b[1;32mreturn\u001b[0m \u001b[0mword_freq_pairs\u001b[0m\u001b[1;33m\u001b[0m\u001b[0m\n\u001b[0;32m     25\u001b[0m \u001b[0mfilename1\u001b[0m\u001b[1;33m=\u001b[0m\u001b[1;34mr'F:\\test_re_gbk(4).txt'\u001b[0m\u001b[1;33m\u001b[0m\u001b[0m\n\u001b[1;32m---> 26\u001b[1;33m \u001b[0mtable\u001b[0m \u001b[1;33m=\u001b[0m \u001b[0mcount_words_freq\u001b[0m\u001b[1;33m(\u001b[0m\u001b[0mfilename1\u001b[0m\u001b[1;33m)\u001b[0m\u001b[1;33m\u001b[0m\u001b[0m\n\u001b[0m\u001b[0;32m     27\u001b[0m \u001b[0mprint\u001b[0m\u001b[1;33m(\u001b[0m\u001b[0mtable\u001b[0m\u001b[1;33m[\u001b[0m\u001b[1;33m:\u001b[0m\u001b[1;36m20\u001b[0m\u001b[1;33m]\u001b[0m\u001b[1;33m)\u001b[0m\u001b[1;33m\u001b[0m\u001b[0m\n\u001b[0;32m     28\u001b[0m \u001b[1;33m\u001b[0m\u001b[0m\n",
      "\u001b[1;31mTypeError\u001b[0m: count_words_freq() missing 1 required positional argument: 'words'"
     ]
    }
   ],
   "source": [
    "#(a)\n",
    "def get_A():\n",
    "    with open(filename,encoding ='ut-8')as f: \n",
    "        text=f.read()\n",
    "        A=[]\n",
    "        words=[word.split('/')[0]for word in text.split()]\n",
    "        for word in words:\n",
    "            if len(word)==4:\n",
    "                A.append(word)\n",
    "    return get_A\n",
    "filename=r'E:\\成语大全(含成语解释)_utf8.txt'\n",
    "\n",
    "#(b)\n",
    "def count_words_freq(filename1, words):\n",
    "    word_freq_pairs = []\n",
    "    with open(filename1) as f:\n",
    "        text1 = f.read()\n",
    "        B=[]\n",
    "        words1=[word.split('/')[0]for word in text1.split()]\n",
    "        for word in words1:\n",
    "            for word in A:\n",
    "                number = text.count(word)\n",
    "                word_freq_pairs.append([word, number])\n",
    "    return word_freq_pairs\n",
    "filename1=r'F:\\test_re_gbk(4).txt'\n",
    "table = count_words_freq(filename1)\n",
    "print(table[:20])\n",
    "\n",
    "#(c)\n",
    "result={}\n",
    "with open(r'F:\\test_re_gbk(4).txt') as f:\n",
    "    for line in f:\n",
    "        words=line.split()\n",
    "        for word in words:\n",
    "            word_pos=word.split('/')\n",
    "            if word_pos[0] in result:\n",
    "                for index, pos_freq in enumerate(result[word_pos[0]]):\n",
    "                    if pos_freq[0]==word_pos[1]:\n",
    "                        result[word_pos[0]][index][1]+=1\n",
    "                        break\n",
    "                    else:\n",
    "                        result[word_pos[0]].append([word_pos[1],1])\n",
    "            else:\n",
    "                result[word_pos[0]]=[]\n",
    "                result[word_pos[0]].append([word_pos[1],1])\n",
    "list(result.items())\n",
    "#(d)\n",
    "\n",
    "#(e)\n",
    "def len():\n",
    "    with open(r'F:\\test_re_gbk(4).txt')as f:\n",
    "        text3 = f.read()\n",
    "        print(len(text3))\n",
    "def get_A():\n",
    "    with open(filename,encoding ='ut-8')as f: \n",
    "        text=f.read()\n",
    "        A=[]\n",
    "        words=[word.split('/')[0]for word in text.split()]\n",
    "        for word in words:\n",
    "            if len(word)==4:\n",
    "                A.append(word)\n",
    "    return get_A\n",
    "filename=r'E:\\成语大全(含成语解释)_utf8.txt'\n",
    "print(len(A))"
   ]
  },
  {
   "cell_type": "code",
   "execution_count": null,
   "metadata": {
    "collapsed": true
   },
   "outputs": [],
   "source": []
  }
 ],
 "metadata": {
  "kernelspec": {
   "display_name": "Python 3",
   "language": "python",
   "name": "python3"
  },
  "language_info": {
   "codemirror_mode": {
    "name": "ipython",
    "version": 3
   },
   "file_extension": ".py",
   "mimetype": "text/x-python",
   "name": "python",
   "nbconvert_exporter": "python",
   "pygments_lexer": "ipython3",
   "version": "3.6.2"
  }
 },
 "nbformat": 4,
 "nbformat_minor": 2
}
