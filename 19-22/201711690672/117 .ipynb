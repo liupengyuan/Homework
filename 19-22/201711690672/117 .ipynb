{
 "cells": [
  {
   "cell_type": "code",
   "execution_count": 8,
   "metadata": {},
   "outputs": [
    {
     "name": "stdout",
     "output_type": "stream",
     "text": [
      "请输入起始值：10\n",
      "请输入终止值：500\n",
      "请输入随机数的个数：5\n",
      "结果为: 10.677078252031311\n"
     ]
    }
   ],
   "source": [
    "def main():\n",
    "    import random\n",
    "    n=int(input('请输入起始值：'))\n",
    "    k=int(input('请输入终止值：'))\n",
    "    m=int(input('请输入随机数的个数：'))\n",
    "    i=0\n",
    "    total=0\n",
    "    while i<m:\n",
    "        i+=1\n",
    "        number=random.randint(n,k)\n",
    "        total+=number\n",
    "        break\n",
    "    import math\n",
    "    a = math.sqrt(total)\n",
    "    print('结果为:',a)\n",
    "main()"
   ]
  }
 ],
 "metadata": {
  "kernelspec": {
   "display_name": "Python 3",
   "language": "python",
   "name": "python3"
  },
  "language_info": {
   "codemirror_mode": {
    "name": "ipython",
    "version": 3
   },
   "file_extension": ".py",
   "mimetype": "text/x-python",
   "name": "python",
   "nbconvert_exporter": "python",
   "pygments_lexer": "ipython3",
   "version": "3.6.2"
  }
 },
 "nbformat": 4,
 "nbformat_minor": 2
}
