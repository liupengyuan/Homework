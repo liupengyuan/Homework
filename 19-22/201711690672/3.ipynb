{
 "cells": [
  {
   "cell_type": "code",
   "execution_count": null,
   "metadata": {
    "collapsed": true
   },
   "outputs": [],
   "source": [
    "#由键盘读入用户姓名例如 MR.right,让用户输入出生的月份和日期，判断用户星座，假设用户是金牛座，则输出，MR. right,你是非常有性格的金牛座！。"
   ]
  },
  {
   "cell_type": "code",
   "execution_count": 11,
   "metadata": {},
   "outputs": [
    {
     "name": "stdout",
     "output_type": "stream",
     "text": [
      "请输入你的姓名：王雯\n",
      "请输入你出生的月份和日期，如1.20：5.26\n",
      "王雯 你是非常机灵的双子座！\n"
     ]
    }
   ],
   "source": [
    "name =str(input('请输入你的姓名：'))\n",
    "md = float(input('请输入你出生的月份和日期，如1.20：'))\n",
    "\n",
    "if  1.20< md<=2.19 :\n",
    "    print(name,'你是非常自由的水瓶座！')\n",
    "elif  2.19< md<=3.21 :\n",
    "    print(name,'你是非常爱幻想的双鱼座！')\n",
    "elif  3.21< md<=4.19 :\n",
    "    print(name,'你是非常活泼的白羊座！')\n",
    "elif  4.19< md<=5.20 :\n",
    "    print(name,'你是非常稳重的金牛座！')\n",
    "elif  5.20< md<=6.21 :\n",
    "    print(name,'你是非常机灵的双子座！')\n",
    "elif  6.21< md<=7.22 :\n",
    "    print(name,'你是非常敏锐的巨蟹座！')\n",
    "elif  7.22< md<=8.22 :\n",
    "    print(name,'你是非常义气的狮子座！')\n",
    "elif  8.22< md<=9.22 :\n",
    "    print(name,'你是追求完美的处女座！')\n",
    "elif  9.22< md<=10.22 :\n",
    "    print(name,'你是非常爱美的天秤座！')\n",
    "elif  10.22< md<11.21 :\n",
    "    print(name,'你是非常神秘的天蝎座！')\n",
    "elif  11.22< md<=12.21 :\n",
    "    print(name,'你是非常浪漫的射手座！')\n",
    "elif  12.21< md<=1.20 :\n",
    "    print(name,'你是非常严谨的摩羯座！')\n"
   ]
  },
  {
   "cell_type": "code",
   "execution_count": null,
   "metadata": {
    "collapsed": true
   },
   "outputs": [],
   "source": [
    "#由键盘读入两个整数m与n(n不等于0)，询问用户意图，如果要求和则计算从m到n 的和的输出，如果要乘积则计算从m到n的积并输出，如果要求余数则计算m除以n\n",
    "#的余数的值并输出，否则则计算m整除n的值并输出"
   ]
  },
  {
   "cell_type": "code",
   "execution_count": 15,
   "metadata": {},
   "outputs": [
    {
     "name": "stdout",
     "output_type": "stream",
     "text": [
      "请输入一个数：5\n",
      "请输入一个数（注意n不等于0）：2\n",
      "请问你想进行什么操作?如 +，*，%:*\n",
      "120\n"
     ]
    }
   ],
   "source": [
    "m=int(input(\"请输入一个数：\"))\n",
    "n=int(input(\"请输入一个数（注意n不等于0）：\"))\n",
    "if m>n:\n",
    "    a=m\n",
    "    b=n\n",
    "else:\n",
    "    c=n\n",
    "    d=m\n",
    "i=n\n",
    "w=str(input(\"请问你想进行什么操作?如 +，*，%:\"))\n",
    "if w==\"+\":\n",
    "    total=0\n",
    "    while i<=a: \n",
    "            total=total+i\n",
    "            i=i+1\n",
    "    print(total)\n",
    "elif w==\"*\":\n",
    "    total=1\n",
    "    while i<=a:\n",
    "            total=total*i\n",
    "            i=i+1\n",
    "    print(total)\n",
    "elif w==\"%\":\n",
    "    print(m%n)\n",
    "else:\n",
    "    print(\"因为你没有选择进行求和，乘积，取余数的计算，所以直接计算m整除n的结果：\",m//n)"
   ]
  },
  {
   "cell_type": "code",
   "execution_count": null,
   "metadata": {
    "collapsed": true
   },
   "outputs": [],
   "source": [
    "#英文单词单数转复数，要求输入一个英文单词（单数形式），能够得到其复数形式，或给出单数转复数形式的建议（提示，some_string.endswith(some_letter)\n",
    "#函数可以判断某字符串结尾字符，可尝试运行：\"myname'.endswith(\"me\"),liupengyuan'.endswith(\"n\")"
   ]
  },
  {
   "cell_type": "code",
   "execution_count": 31,
   "metadata": {},
   "outputs": [
    {
     "name": "stdout",
     "output_type": "stream",
     "text": [
      "请输入单词：flower\n",
      "复数形式为：flowers\n"
     ]
    }
   ],
   "source": [
    "n=str(input(\"请输入单词：\"))\n",
    "if n.endswith('sh')or n.endswith('ch')or n.endswith('s'):\n",
    "    print('复数形式为：',n,\"es\",sep='')\n",
    "else:\n",
    "    print('复数形式为：',n,\"s\",sep = '')"
   ]
  },
  {
   "cell_type": "code",
   "execution_count": null,
   "metadata": {
    "collapsed": true
   },
   "outputs": [],
   "source": [
    "#能够在屏幕上显示空行"
   ]
  },
  {
   "cell_type": "code",
   "execution_count": 32,
   "metadata": {},
   "outputs": [
    {
     "name": "stdout",
     "output_type": "stream",
     "text": [
      "下面会有空格\n",
      "\n",
      "\n",
      "上面有空格了吧\n"
     ]
    }
   ],
   "source": [
    "print('下面会有空格')\n",
    "print('\\n')\n",
    "print('上面有空格了吧')"
   ]
  }
 ],
 "metadata": {
  "kernelspec": {
   "display_name": "Python 3",
   "language": "python",
   "name": "python3"
  },
  "language_info": {
   "codemirror_mode": {
    "name": "ipython",
    "version": 3
   },
   "file_extension": ".py",
   "mimetype": "text/x-python",
   "name": "python",
   "nbconvert_exporter": "python",
   "pygments_lexer": "ipython3",
   "version": "3.6.2"
  }
 },
 "nbformat": 4,
 "nbformat_minor": 2
}
