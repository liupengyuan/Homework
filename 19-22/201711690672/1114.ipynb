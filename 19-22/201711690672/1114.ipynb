{
 "cells": [
  {
   "cell_type": "code",
   "execution_count": 19,
   "metadata": {},
   "outputs": [
    {
     "name": "stdout",
     "output_type": "stream",
     "text": [
      "list中的最大值 899\n",
      "list中的最小值 -10\n",
      "list中的平均值 106.72999999999999\n"
     ]
    }
   ],
   "source": [
    "#写函数，返回一个list中的最大值，最小值，平均值。（不用内置的求和求函数），以[1,2,-1,55,100,899,-10,3,12.5,5.8]为例。\n",
    "def my(numbers):\n",
    "    max_number=numbers[0]\n",
    "    min_number=numbers[0]\n",
    "    total=0\n",
    "    \n",
    "    for i in range(len(numbers)):\n",
    "        if max_number<numbers[i]:\n",
    "            max_number=numbers[i]\n",
    "        if min_number>numbers[i]:\n",
    "            min_number=numbers[i]\n",
    "        total +=numbers[i]\n",
    "\n",
    "    print(\"list中的最大值\",max_number)\n",
    "    print(\"list中的最小值\",min_number)\n",
    "    print(\"list中的平均值\",total/(len(numbers)))\n",
    "\n",
    "numbers=[1,2,-1,55,100,899,-10,3,12.5,5.8]\n",
    "my(numbers)"
   ]
  },
  {
   "cell_type": "code",
   "execution_count": null,
   "metadata": {
    "collapsed": true
   },
   "outputs": [],
   "source": []
  }
 ],
 "metadata": {
  "kernelspec": {
   "display_name": "Python 3",
   "language": "python",
   "name": "python3"
  },
  "language_info": {
   "codemirror_mode": {
    "name": "ipython",
    "version": 3
   },
   "file_extension": ".py",
   "mimetype": "text/x-python",
   "name": "python",
   "nbconvert_exporter": "python",
   "pygments_lexer": "ipython3",
   "version": "3.6.2"
  }
 },
 "nbformat": 4,
 "nbformat_minor": 2
}
