{
 "cells": [
  {
   "cell_type": "code",
   "execution_count": 13,
   "metadata": {},
   "outputs": [
    {
     "name": "stdout",
     "output_type": "stream",
     "text": [
      "请任意输入一个整数为n: 5\n",
      "请任意输入一个整数为m：1\n",
      "请任意输入一个整数为k: 50\n",
      "5.385164807134504\n"
     ]
    }
   ],
   "source": [
    "#练习 1：写函数，求n个随机整数均值的平方根，整数范围在m与k之间（n,m,k由用户输入）\n",
    "import random\n",
    "n=int(input('请任意输入一个整数为n: '))\n",
    "m=int(input('请任意输入一个整数为m：'))\n",
    "k=int(input('请任意输入一个整数为k: '))\n",
    "i=0\n",
    "total=0\n",
    "while i<n:\n",
    "        number=random.randint(m,k)\n",
    "        total=total+number\n",
    "        i=i+1\n",
    "        q=(total/n)**0.5\n",
    "print(q)"
   ]
  },
  {
   "cell_type": "code",
   "execution_count": 19,
   "metadata": {},
   "outputs": [
    {
     "name": "stdout",
     "output_type": "stream",
     "text": [
      "请任意输入一个整数为n: 5\n",
      "请任意输入一个整数为m：1\n",
      "请任意输入一个整数为k: 10\n",
      "8.594154232552366\n",
      "3.6766428446357233\n"
     ]
    }
   ],
   "source": [
    "#练习 2：写函数，共n个随机整数，整数范围在m与k之间，（n,m,k由用户输入）。求1：西格玛log(随机整数)，2：西格玛1/log(随机整数)\n",
    "import random math\n",
    "n=int(input('请任意输入一个整数为n: '))\n",
    "m=int(input('请任意输入一个整数为m：'))\n",
    "k=int(input('请任意输入一个整数为k: '))\n",
    "i=0\n",
    "a=0\n",
    "b=0\n",
    "while i<n:\n",
    "    number=random.randint(m,k)\n",
    "    a=a+math.log(number)\n",
    "    b=b+1/math.log(number)\n",
    "    i=i+1\n",
    "print(a)\n",
    "print(b)"
   ]
  },
  {
   "cell_type": "code",
   "execution_count": 20,
   "metadata": {},
   "outputs": [
    {
     "name": "stdout",
     "output_type": "stream",
     "text": [
      "请输入你想要几个数相加：5\n",
      "74070.0\n"
     ]
    }
   ],
   "source": [
    "#练习 3：写函数，求s=a+aa+aaa+aaaa+aa...a的值，其中a是[1,9]之间的随机整数。例如2+22+222+2222+22222(此时共有5个数相加)，几个数相加由键盘输入\n",
    "import random\n",
    "a=random.randint(1,9)\n",
    "n=int(input('请输入你想要几个数相加：'))\n",
    "i=0\n",
    "s=0\n",
    "q=10\n",
    "while i<n:\n",
    "    s=s+a*((q-1)/9)\n",
    "    q=q*10\n",
    "    i=i+1\n",
    "print(s)"
   ]
  },
  {
   "cell_type": "code",
   "execution_count": 1,
   "metadata": {},
   "outputs": [
    {
     "name": "stdout",
     "output_type": "stream",
     "text": [
      "请输入一个大于0的整数，作为神秘整数的下界，回车结束。1\n",
      "请输入一个大于0的整数，作为神秘整数的上界，回车结束。100\n",
      "请在(a,b)中选择任意一个整数并输入: 50\n",
      "我猜： 60\n",
      "根据你的判断，猜的数是大了还是小了：大\n",
      "我猜： 38\n",
      "根据你的判断，猜的数是大了还是小了：小\n",
      "我猜： 47\n",
      "根据你的判断，猜的数是大了还是小了：小\n",
      "我猜： 53\n",
      "根据你的判断，猜的数是大了还是小了：大\n",
      "我猜： 48\n",
      "根据你的判断，猜的数是大了还是小了：小\n",
      "我猜： 51\n",
      "根据你的判断，猜的数是大了还是小了：大\n",
      "我猜： 49\n",
      "根据你的判断，猜的数是大了还是小了：小\n",
      "恭喜电脑猜对了 50\n"
     ]
    }
   ],
   "source": [
    "#挑战性练习：仿照task5，将猜数游戏改成由用户随便选择一个整数，让计算机来猜测的猜数游戏，要求和task5中人猜测的方法类似，但是人机角色对换\n",
    "#由人来判断猜测是大、小还是相等，请写出完整的猜数游戏。\n",
    "\n",
    "import  random,math\n",
    "\n",
    "a= int(input('请输入一个大于0的整数，作为神秘整数的下界，回车结束。'))\n",
    "b= int(input('请输入一个大于0的整数，作为神秘整数的上界，回车结束。'))\n",
    "n=int(input('请在(a,b)中选择任意一个整数并输入: '))\n",
    "number=random.randint(a,b)\n",
    "\n",
    "while number== n:\n",
    "        print(number)\n",
    "while number!=n:\n",
    "    print(\"我猜：\",number)\n",
    "    h=str(input(\"根据你的判断，猜的数是大了还是小了：\"))\n",
    "    if(h==\"小\"):\n",
    "        a=number\n",
    "    if(h==\"大\"):\n",
    "        b=number\n",
    "    number=random.randint(a+1,b-1)\n",
    "print('恭喜电脑猜对了',number)"
   ]
  }
 ],
 "metadata": {
  "kernelspec": {
   "display_name": "Python 3",
   "language": "python",
   "name": "python3"
  },
  "language_info": {
   "codemirror_mode": {
    "name": "ipython",
    "version": 3
   },
   "file_extension": ".py",
   "mimetype": "text/x-python",
   "name": "python",
   "nbconvert_exporter": "python",
   "pygments_lexer": "ipython3",
   "version": "3.6.2"
  }
 },
 "nbformat": 4,
 "nbformat_minor": 2
}
