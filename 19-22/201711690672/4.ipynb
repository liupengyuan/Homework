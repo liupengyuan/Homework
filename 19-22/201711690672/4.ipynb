{
 "cells": [
  {
   "cell_type": "code",
   "execution_count": null,
   "metadata": {
    "collapsed": true
   },
   "outputs": [],
   "source": [
    "#练习 1：仿照求$ \\sum_{i=1}^mi + \\sum_{i=1}^ni  + \\sum_{i=1}^ki$的完整代码，写程序，可求m!+n!+k!"
   ]
  },
  {
   "cell_type": "code",
   "execution_count": 3,
   "metadata": {},
   "outputs": [
    {
     "name": "stdout",
     "output_type": "stream",
     "text": [
      "请输入第1个整数，以回车结束。2\n",
      "请输入第2个整数，以回车结束。3\n",
      "请输入第3个整数，以回车结束。4\n",
      "最终的和是： 19\n"
     ]
    }
   ],
   "source": [
    "def compute_sum(end):\n",
    "    i = 0\n",
    "    total_n = 0\n",
    "    while i < end:\n",
    "        i = i + 1\n",
    "        total_n = total_n + i\n",
    "    return total_n\n",
    "n = int(input('请输入第1个整数，以回车结束。'))\n",
    "m = int(input('请输入第2个整数，以回车结束。'))\n",
    "k = int(input('请输入第3个整数，以回车结束。'))\n",
    "\n",
    "print('最终的和是：', compute_sum(m) + compute_sum(n) + compute_sum(k))"
   ]
  },
  {
   "cell_type": "code",
   "execution_count": 2,
   "metadata": {
    "scrolled": true
   },
   "outputs": [
    {
     "name": "stdout",
     "output_type": "stream",
     "text": [
      "请输入第1个整数，以回车结束。5\n",
      "请输入第2个整数，以回车结束。2\n",
      "请输入第3个整数，以回车结束。4\n",
      "最终的和是： 146\n"
     ]
    }
   ],
   "source": [
    "def mul(end):\n",
    "    i = 0\n",
    "    total_n = 1\n",
    "    while i < end:\n",
    "        i = i + 1\n",
    "        total_n = total_n *i\n",
    "    return total_n\n",
    "n = int(input('请输入第1个整数，以回车结束。'))\n",
    "m = int(input('请输入第2个整数，以回车结束。'))\n",
    "k = int(input('请输入第3个整数，以回车结束。'))\n",
    "\n",
    "print('最终的和是：', mul(m) + mul(n) + mul(k))\n"
   ]
  },
  {
   "cell_type": "code",
   "execution_count": null,
   "metadata": {
    "collapsed": true
   },
   "outputs": [],
   "source": [
    "#写函数可返回1 - 1/3 + 1/5 - 1/7...的前n项的和。在主程序中，分别令n=1000及100000，打印4倍该函数的和。"
   ]
  },
  {
   "cell_type": "code",
   "execution_count": 6,
   "metadata": {},
   "outputs": [
    {
     "name": "stdout",
     "output_type": "stream",
     "text": [
      "3.140592653839794\n",
      "3.1415826535897198\n"
     ]
    }
   ],
   "source": [
    "def number_sum(end):\n",
    "    i = 0\n",
    "    n = 0\n",
    "    total=0\n",
    "    while i < end:\n",
    "        i = i+1\n",
    "        q=1/(2*i-1)*(-1)**(i-1)\n",
    "        n = n+q\n",
    "    total=n*4\n",
    "    return total\n",
    "print(number_sum(1000))\n",
    "print(number_sum(100000))"
   ]
  },
  {
   "cell_type": "code",
   "execution_count": 1,
   "metadata": {},
   "outputs": [
    {
     "name": "stdout",
     "output_type": "stream",
     "text": [
      "请输入你的姓名：王雯\n",
      "请输入你出生的月份和日期，如1.20：5.26\n",
      "王雯 你是非常机灵的双子座！\n",
      "请输入一个英语单词：try\n",
      "复数形式为: try去掉y加ies\n"
     ]
    }
   ],
   "source": [
    "#将task3中的练习1及练习4改写为函数，并进行调用\n",
    "\n",
    "#练习一\n",
    "def birthday(md):\n",
    "    if  1.20< md<=2.19 :\n",
    "        print(name,'你是非常自由的水瓶座！')\n",
    "    elif  2.19< md<=3.21 :\n",
    "        print(name,'你是非常爱幻想的双鱼座！')\n",
    "    elif  3.21< md<=4.19 :\n",
    "        print(name,'你是非常活泼的白羊座！')\n",
    "    elif  4.19< md<=5.20 :\n",
    "        print(name,'你是非常稳重的金牛座！')\n",
    "    elif  5.20< md<=6.21 :\n",
    "        print(name,'你是非常机灵的双子座！')\n",
    "    elif  6.21< md<=7.22 :\n",
    "        print(name,'你是非常敏锐的巨蟹座！')\n",
    "    elif  7.22< md<=8.22 :\n",
    "        print(name,'你是非常义气的狮子座！')\n",
    "    elif  8.22< md<=9.22 :\n",
    "        print(name,'你是追求完美的处女座！')\n",
    "    elif  9.22< md<=10.22 :\n",
    "        print(name,'你是非常爱美的天秤座！')\n",
    "    elif  10.22< md<11.21 :\n",
    "        print(name,'你是非常神秘的天蝎座！')\n",
    "    elif  11.22< md<=12.21 :\n",
    "        print(name,'你是非常浪漫的射手座！')\n",
    "    elif  12.21< md<=1.20 :\n",
    "        print(name,'你是非常严谨的摩羯座！')\n",
    "    else:\n",
    "        print('输入错误')\n",
    "        \n",
    "name =str(input('请输入你的姓名：'))\n",
    "md = float(input('请输入你出生的月份和日期，如1.20：'))\n",
    "birthday(md)\n",
    "#练习4\n",
    "def define(n):\n",
    "    if n.endswith('sh')or n.endswith('ch')or n.endswith('s'):\n",
    "        print('复数形式为：',n,\"es\",sep='')\n",
    "    elif n.endswith('y'):\n",
    "        print('复数形式为: ',n,\"去掉y加ies\",sep='')\n",
    "    else:\n",
    "        print('复数形式为：',n,\"s\",sep = '')\n",
    "n=input('请输入一个英语单词：')\n",
    "define(n)"
   ]
  },
  {
   "cell_type": "code",
   "execution_count": 8,
   "metadata": {},
   "outputs": [
    {
     "name": "stdout",
     "output_type": "stream",
     "text": [
      "请输入一个整数：2\n",
      "请再输入一个整数：3\n",
      "输入间隔数：5\n"
     ]
    },
    {
     "data": {
      "text/plain": [
       "2"
      ]
     },
     "execution_count": 8,
     "metadata": {},
     "output_type": "execute_result"
    }
   ],
   "source": [
    "#挑战性练习：写程序，可以求从整数m到整数n累加的和，间隔为k，求和部分需用函数实现，主程序中由用户输入m，n，k调用函数验证正确性。\n",
    "def number_sum(m,n,k):\n",
    "    q=0\n",
    "    if m<n:\n",
    "        i=m\n",
    "        while i<=n:\n",
    "            q=q+i\n",
    "            i=i+k\n",
    "    else:\n",
    "        i=n\n",
    "        while i<=n:\n",
    "            q=q+i\n",
    "            i=i+k\n",
    "    return q\n",
    "m=int(input('请输入一个整数：'))\n",
    "n=int(input('请再输入一个整数：'))\n",
    "k=int(input('输入间隔数：'))\n",
    "number_sum(m,n,k)  "
   ]
  }
 ],
 "metadata": {
  "kernelspec": {
   "display_name": "Python 3",
   "language": "python",
   "name": "python3"
  },
  "language_info": {
   "codemirror_mode": {
    "name": "ipython",
    "version": 3
   },
   "file_extension": ".py",
   "mimetype": "text/x-python",
   "name": "python",
   "nbconvert_exporter": "python",
   "pygments_lexer": "ipython3",
   "version": "3.6.2"
  }
 },
 "nbformat": 4,
 "nbformat_minor": 2
}
