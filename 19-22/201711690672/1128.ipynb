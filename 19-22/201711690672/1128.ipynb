{
 "cells": [
  {
   "cell_type": "code",
   "execution_count": 31,
   "metadata": {},
   "outputs": [
    {
     "name": "stdout",
     "output_type": "stream",
     "text": [
      "a\n",
      "ab\n",
      "abc\n",
      "abcd\n",
      "abcde\n",
      "abcdef\n",
      "abcdefg\n",
      "abcdefgh\n",
      "abcdefghj\n",
      "abcdefghjk\n",
      "abcdefghjkl\n",
      "abcdefghjklm\n",
      "abcdefghjklmn\n",
      "abcdefghjklmno\n",
      "abcdefghjklmnop\n",
      "abcdefghjklmnopq\n",
      "abcdefghjklmnopqr\n",
      "abcdefghjklmnopqrs\n",
      "abcdefghjklmnopqrst\n",
      "abcdefghjklmnopqrstu\n",
      "abcdefghjklmnopqrstuv\n",
      "abcdefghjklmnopqrstuvw\n",
      "abcdefghjklmnopqrstuvwx\n",
      "abcdefghjklmnopqrstuvwxy\n",
      "abcdefghjklmnopqrstuvwxyz\n"
     ]
    }
   ],
   "source": [
    "line='abcdefghjklmnopqrstuvwxyz'\n",
    "for i in range(0,len(line)):\n",
    "    for k in range(0,i+1):\n",
    "        print(line[k],end='')\n",
    "    print()"
   ]
  },
  {
   "cell_type": "code",
   "execution_count": null,
   "metadata": {
    "collapsed": true
   },
   "outputs": [],
   "source": []
  }
 ],
 "metadata": {
  "kernelspec": {
   "display_name": "Python 3",
   "language": "python",
   "name": "python3"
  },
  "language_info": {
   "codemirror_mode": {
    "name": "ipython",
    "version": 3
   },
   "file_extension": ".py",
   "mimetype": "text/x-python",
   "name": "python",
   "nbconvert_exporter": "python",
   "pygments_lexer": "ipython3",
   "version": "3.6.2"
  }
 },
 "nbformat": 4,
 "nbformat_minor": 2
}
