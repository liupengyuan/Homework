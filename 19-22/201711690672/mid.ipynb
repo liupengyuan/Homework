{
 "cells": [
  {
   "cell_type": "code",
   "execution_count": 6,
   "metadata": {},
   "outputs": [
    {
     "name": "stdout",
     "output_type": "stream",
     "text": [
      "请输入你想要相加的项数： 5\n",
      "最后的和是: 35\n"
     ]
    }
   ],
   "source": [
    "#第一题\n",
    "def test(m):\n",
    "    total=0\n",
    "    x=0\n",
    "    for i in range(m):\n",
    "        x=x+(i+1)\n",
    "        total=total+x\n",
    "    return total\n",
    "\n",
    "m=int(input(\"请输入你想要相加的项数： \"))\n",
    "print('最后的和是:',test(m))"
   ]
  },
  {
   "cell_type": "code",
   "execution_count": 2,
   "metadata": {},
   "outputs": [
    {
     "name": "stdout",
     "output_type": "stream",
     "text": [
      "*\n",
      "***\n",
      "*****\n",
      "*******\n",
      "*********\n"
     ]
    }
   ],
   "source": [
    "#第二题\n",
    "#第二题\n",
    "def test(a,b):\n",
    "    for i in range(b):\n",
    "        print(a*(2*i+1))\n",
    "test('*',5)"
   ]
  },
  {
   "cell_type": "code",
   "execution_count": 3,
   "metadata": {},
   "outputs": [
    {
     "name": "stdout",
     "output_type": "stream",
     "text": [
      "请用户输入任意正整数: 123456789\n",
      "1\n"
     ]
    }
   ],
   "source": [
    "#第三题\n",
    "def test(a):\n",
    "    if a//10==0:\n",
    "        return a\n",
    "    else:\n",
    "        while a//10!=0:\n",
    "            a//=10\n",
    "        return a\n",
    "\n",
    "n=int(input(\"请用户输入任意正整数: \"))\n",
    "print(test(n))"
   ]
  },
  {
   "cell_type": "code",
   "execution_count": 4,
   "metadata": {},
   "outputs": [
    {
     "name": "stdout",
     "output_type": "stream",
     "text": [
      "人数有多少: 9\n",
      "体重: 183\n",
      "体重: 185\n",
      "体重: 183\n",
      "体重: 187\n",
      "体重: 178\n",
      "体重: 175\n",
      "体重: 177\n",
      "体重: 190\n",
      "体重: 172\n",
      "平均值  181.11111111111111\n",
      "高于平均值的身高: \n",
      "183\n",
      "185\n",
      "183\n",
      "187\n",
      "190\n"
     ]
    }
   ],
   "source": [
    "#第四题\n",
    "n=int(input(\"人数有多少: \"))\n",
    "x=[]\n",
    "q=0\n",
    "for i in range(n):\n",
    "    a=int(input(\"体重: \"))\n",
    "    x.append(a);\n",
    "    q=q+a\n",
    "v=q/n\n",
    "print(\"平均值 \",v)\n",
    "print(\"高于平均值的身高: \")\n",
    "\n",
    "for i in range(n):\n",
    "    if x[i]>v:\n",
    "        print(x[i])"
   ]
  },
  {
   "cell_type": "code",
   "execution_count": 16,
   "metadata": {},
   "outputs": [
    {
     "name": "stdout",
     "output_type": "stream",
     "text": [
      "题的次数 1 计算 4 + 10 =\n",
      "计算结果:14\n",
      "题的次数 2 计算 2 + 7 =\n",
      "计算结果:9\n",
      "题的次数 3 计算 5 + 6 =\n",
      "计算结果:11\n",
      "题的次数 4 计算 9 + 5 =\n",
      "计算结果:14\n",
      "题的次数 5 计算 7 + 3 =\n",
      "计算结果:10\n",
      "100\n"
     ]
    }
   ],
   "source": [
    "#第五题\n",
    "import random,math\n",
    "total=0\n",
    "for i in range(5):\n",
    "    a=random.randint(1,10)\n",
    "    b=random.randint(1,10)\n",
    "    s=a+b\n",
    "    print(\"题的次数\",i+1,\"计算\",a,\"+\",b,\"=\")\n",
    "    x=int(input('计算结果:'))\n",
    "    if x==s:\n",
    "        total=total+20\n",
    "print(total)"
   ]
  },
  {
   "cell_type": "code",
   "execution_count": 13,
   "metadata": {},
   "outputs": [
    {
     "name": "stdout",
     "output_type": "stream",
     "text": [
      "[108, 88, 34, 9, 3, -5, -76]\n"
     ]
    }
   ],
   "source": [
    "#第六题\n",
    "def test(a):\n",
    "    for i in range(len(a)):\n",
    "        for j in range(len(a)):\n",
    "            if a[i]>a[j]:\n",
    "                x=a[i]\n",
    "                a[i]=a[j]\n",
    "                a[j]=x\n",
    "    return a\n",
    "\n",
    "List=[3,-5,9,108,34,-76,88]\n",
    "test(List)\n",
    "print(List)"
   ]
  }
 ],
 "metadata": {
  "kernelspec": {
   "display_name": "Python 3",
   "language": "python",
   "name": "python3"
  },
  "language_info": {
   "codemirror_mode": {
    "name": "ipython",
    "version": 3
   },
   "file_extension": ".py",
   "mimetype": "text/x-python",
   "name": "python",
   "nbconvert_exporter": "python",
   "pygments_lexer": "ipython3",
   "version": "3.6.2"
  }
 },
 "nbformat": 4,
 "nbformat_minor": 2
}
