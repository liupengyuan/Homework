{
 "cells": [
  {
   "cell_type": "code",
   "execution_count": 4,
   "metadata": {},
   "outputs": [
    {
     "name": "stdout",
     "output_type": "stream",
     "text": [
      "请输入字符串：123abc\n",
      "cba321\n"
     ]
    }
   ],
   "source": [
    "#练习一：自己定义一个reverse(s)函数，功能返回字符串s的倒序字符串。\n",
    "def reverse(s):\n",
    "    a=len(s)\n",
    "    print(s[a::-1])\n",
    "line=input('请输入字符串：')\n",
    "reverse(line)"
   ]
  },
  {
   "cell_type": "code",
   "execution_count": null,
   "metadata": {
    "collapsed": true
   },
   "outputs": [],
   "source": [
    "#练习二：写函数，根据给定符号和行数，打印相应直角三角形，等腰三角形及其他形式的三角形"
   ]
  },
  {
   "cell_type": "code",
   "execution_count": 34,
   "metadata": {},
   "outputs": [
    {
     "name": "stdout",
     "output_type": "stream",
     "text": [
      "请输入你想要打印的符号：*\n",
      "请输入你想要打印的行数: 5\n",
      "直角三角形\n",
      "*\n",
      "**\n",
      "***\n",
      "****\n",
      "*****\n",
      "等腰三角形\n",
      "     *\n",
      "    * *\n",
      "   * * *\n",
      "  * * * *\n",
      " * * * * *\n",
      "钝角三角形\n",
      "            *\n",
      "         ***\n",
      "      *****\n",
      "   *******\n",
      "*********\n"
     ]
    }
   ],
   "source": [
    "def test(symble,line):\n",
    "    print('直角三角形')\n",
    "    for a in range(1,n+1):\n",
    "        print(symble*a)\n",
    "    print('等腰三角形')\n",
    "    for b in range(1,n+1):\n",
    "        print(' '*(n-b)+(' '+symble)*b)\n",
    "    print('钝角三角形')\n",
    "    for c in range(1,n+1):\n",
    "        print(' '*(3*(n-c))+(symble*(2*c-1)))\n",
    "symble=input('请输入你想要打印的符号：')\n",
    "n=int(input('请输入你想要打印的行数: '))\n",
    "test(symble,line)            "
   ]
  },
  {
   "cell_type": "code",
   "execution_count": 58,
   "metadata": {},
   "outputs": [
    {
     "name": "stdout",
     "output_type": "stream",
     "text": [
      "请输入你想要打印的符号: *\n",
      "          *\n",
      "         * *\n",
      "        * * *\n",
      "       * * * *\n",
      "      * * * * *\n",
      "     * * * * * *\n",
      "      * * * * *\n",
      "       * * * *\n",
      "        * * *\n",
      "         * *\n",
      "          *\n",
      "\n",
      "\n",
      "\n",
      "\n",
      "          *\n",
      "         ***\n",
      "        *****\n",
      "       *******\n",
      "      *********\n",
      "     ***********\n",
      "      *********\n",
      "       *******\n",
      "        *****\n",
      "         ***\n",
      "          *\n",
      "\n",
      "\n",
      "\n",
      "\n",
      " * * * * * * * * * * \n",
      "\n",
      "  * * * * * * * * * * \n",
      "\n",
      "   * * * * * * * * * * \n",
      "\n",
      "    * * * * * * * * * * \n",
      "\n"
     ]
    }
   ],
   "source": [
    "#练习五：写函数，根据给定符号，打印各种菱形。\n",
    "def test():\n",
    "    symble=input('请输入你想要打印的符号: ')\n",
    "    line=10\n",
    "    i=1\n",
    "    for a in range(1,line//2+1):\n",
    "        print(' '*(line-a) + (' '+ symble)*a)\n",
    "    for b in range(line//2+1,0,-1):\n",
    "        print(' '*(line-b) + (' '+ symble)*b)#第一种菱形\n",
    "    print('\\n')\n",
    "    print('\\n')\n",
    "    for c in range(1,line//2+1):\n",
    "        print(' '*(line-c) + (' '+ symble*(2*c-1)))\n",
    "    for d in range(line//2+1,0,-1):\n",
    "        print(' '*(line-d) + (' '+ symble*(2*d-1)))#第二种菱形\n",
    "    print('\\n')\n",
    "    print('\\n')\n",
    "    while i<5:\n",
    "        print(' '*i+(symble+' ')*10)\n",
    "        i=i+1\n",
    "        print()#第三种菱形\n",
    "test()    "
   ]
  },
  {
   "cell_type": "code",
   "execution_count": null,
   "metadata": {
    "collapsed": true
   },
   "outputs": [],
   "source": []
  }
 ],
 "metadata": {
  "kernelspec": {
   "display_name": "Python 3",
   "language": "python",
   "name": "python3"
  },
  "language_info": {
   "codemirror_mode": {
    "name": "ipython",
    "version": 3
   },
   "file_extension": ".py",
   "mimetype": "text/x-python",
   "name": "python",
   "nbconvert_exporter": "python",
   "pygments_lexer": "ipython3",
   "version": "3.6.2"
  }
 },
 "nbformat": 4,
 "nbformat_minor": 2
}
