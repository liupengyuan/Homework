{
 "cells": [
  {
   "cell_type": "code",
   "execution_count": 1,
   "metadata": {},
   "outputs": [
    {
     "name": "stdout",
     "output_type": "stream",
     "text": [
      "随机给出的成语是： 峥嵘岁月                        \n",
      "请输入你接出的成语: 月光如水\n",
      "现在你的分数是： 10\n",
      "计算机接出的成语是:  水到渠成                       \n",
      "现在计算机的分数是 10\n",
      "请输入你接出的成语: 成千上万\n",
      "现在你的分数是： 20\n",
      "计算机接出的成语是:  万般无奈                    \n",
      "现在计算机的分数是 20\n",
      "请输入你接出的成语: 奈何\n",
      "game over\n",
      "这不是标准的四字成语\n",
      "----------------------------------------\n",
      "你的分数是： 20\n",
      "计算机的分数是： 20\n"
     ]
    }
   ],
   "source": [
    "#成语接龙\n",
    "import random\n",
    "\n",
    "def win():\n",
    "    print('you are winner')\n",
    "def lose():\n",
    "    print('game over')\n",
    "    \n",
    "fh = open(r'c:\\temp\\成语大全.txt')\n",
    "text = fh.read()\n",
    "fh.close()\n",
    "idioms=text.split('\\n')\n",
    "\n",
    "idiom=random.choice(idioms)\n",
    "print('随机给出的成语是：',idiom)\n",
    "\n",
    "com_score=0\n",
    "you_score=0\n",
    "i=1\n",
    "while you_score>=0 and com_score>=0:\n",
    "    you_idiom=input('请输入你接出的成语: ')\n",
    "    if idiom[3]!=you_idiom[0]:\n",
    "            lose()\n",
    "            print('你接的成语错误')\n",
    "            break\n",
    "    elif len(you_idiom)!=4:\n",
    "        lose()\n",
    "        print('这不是标准的四字成语')\n",
    "        break\n",
    "            \n",
    "    elif idiom[3]==you_idiom[0]:\n",
    "        you_score+=10\n",
    "        print('现在你的分数是：',you_score)\n",
    "            \n",
    "        for idiom in idioms:\n",
    "            i=1\n",
    "            if idiom[0] == you_idiom[-1]:\n",
    "                com_score += 10\n",
    "                print('计算机接出的成语是: ',idiom)\n",
    "                print('现在计算机的分数是',com_score)\n",
    "                break\n",
    "            else:\n",
    "                i += 1\n",
    "                if i == len(idioms):\n",
    "                    lose()\n",
    "                    print('现在计算机的分数是',com_score)  \n",
    "                    break\n",
    "    \n",
    "print('-'*40)\n",
    "print('你的分数是：',you_score)\n",
    "print('计算机的分数是：',com_score)"
   ]
  }
 ],
 "metadata": {
  "kernelspec": {
   "display_name": "Python 3",
   "language": "python",
   "name": "python3"
  },
  "language_info": {
   "codemirror_mode": {
    "name": "ipython",
    "version": 3
   },
   "file_extension": ".py",
   "mimetype": "text/x-python",
   "name": "python",
   "nbconvert_exporter": "python",
   "pygments_lexer": "ipython3",
   "version": "3.6.2"
  }
 },
 "nbformat": 4,
 "nbformat_minor": 2
}
