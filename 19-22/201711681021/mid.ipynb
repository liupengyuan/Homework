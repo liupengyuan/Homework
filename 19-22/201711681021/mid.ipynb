{
 "cells": [
  {
   "cell_type": "markdown",
   "metadata": {},
   "source": [
    "# 1."
   ]
  },
  {
   "cell_type": "code",
   "execution_count": 1,
   "metadata": {},
   "outputs": [
    {
     "name": "stdout",
     "output_type": "stream",
     "text": [
      "请输入项数m：5\n",
      "35\n"
     ]
    }
   ],
   "source": [
    "def add(m):\n",
    "    total_2 = 0\n",
    "    total_1 = 1\n",
    "    total = 0\n",
    "    i = 0\n",
    "    while i < m:\n",
    "        total = total_1 + total\n",
    "        i = i + 1\n",
    "        total_2 = total_1\n",
    "        total_1 = total_2 + i + 1\n",
    "        \n",
    "    return total\n",
    "m = int(input('请输入项数m：'))\n",
    "print(add(m))"
   ]
  },
  {
   "cell_type": "markdown",
   "metadata": {},
   "source": [
    "# 2."
   ]
  },
  {
   "cell_type": "code",
   "execution_count": 2,
   "metadata": {},
   "outputs": [
    {
     "name": "stdout",
     "output_type": "stream",
     "text": [
      "请输入你想输入的符号：*\n",
      "请输入你想输入的行数：5\n",
      "*\n",
      "***\n",
      "*****\n",
      "*******\n",
      "*********\n"
     ]
    }
   ],
   "source": [
    "def tri(m,n):\n",
    "    i = 0\n",
    "    while i < n:\n",
    "        h = 2 * i + 1\n",
    "        print(h*m,sep = '')\n",
    "        i = i + 1\n",
    "        \n",
    "m = str(input('请输入你想输入的符号：'))\n",
    "n = int(input('请输入你想输入的行数：'))\n",
    "tri(m,n)"
   ]
  },
  {
   "cell_type": "markdown",
   "metadata": {},
   "source": [
    "# 3."
   ]
  },
  {
   "cell_type": "code",
   "execution_count": 7,
   "metadata": {},
   "outputs": [
    {
     "name": "stdout",
     "output_type": "stream",
     "text": [
      "请输入你想输入的正整数：234\n",
      "None\n"
     ]
    }
   ],
   "source": [
    "def first(n):\n",
    "    i = 0\n",
    "    if 10 ** i < n:\n",
    "        i = i + 1\n",
    "    else:\n",
    "        print(n // (10 ** i) )\n",
    "        \n",
    "    \n",
    "\n",
    "        \n",
    "n = int(input('请输入你想输入的正整数：'))\n",
    "print(first(n))\n"
   ]
  },
  {
   "cell_type": "markdown",
   "metadata": {},
   "source": [
    "# 4."
   ]
  },
  {
   "cell_type": "code",
   "execution_count": null,
   "metadata": {},
   "outputs": [],
   "source": [
    "height = []\n",
    "p = int(input('请输入队员人数：'))\n",
    "total = 0\n",
    "i = 1\n",
    "while i < p:\n",
    "    n = int(input())\n",
    "    height.append(n)\n",
    "    total = total + n\n",
    "m = total / p\n",
    "print('平均值为：',m)\n",
    "for n in height:\n",
    "    if n > m:\n",
    "        print(n)"
   ]
  },
  {
   "cell_type": "markdown",
   "metadata": {},
   "source": [
    "# 5."
   ]
  },
  {
   "cell_type": "code",
   "execution_count": 3,
   "metadata": {},
   "outputs": [
    {
     "name": "stdout",
     "output_type": "stream",
     "text": [
      "4 + 8 = ?\n",
      "请输入得数：12\n",
      "6 + 3 = ?\n",
      "请输入得数：9\n",
      "10 + 9 = ?\n",
      "请输入得数：19\n",
      "6 + 7 = ?\n",
      "请输入得数：13\n",
      "9 + 4 = ?\n",
      "请输入得数：13\n",
      "100\n"
     ]
    }
   ],
   "source": [
    "import random\n",
    "def add():\n",
    "    \n",
    "    n = random.randint(1,10)\n",
    "    m = random.randint(1,10)\n",
    "    d = n + m \n",
    "    print(n,'+',m,'=','?')\n",
    "    c = int(input('请输入得数：'))\n",
    "    if c == d:\n",
    "        gain = 20\n",
    "    else:\n",
    "        gain = 0\n",
    "    return gain \n",
    "    \n",
    "\n",
    "\n",
    "total = 0\n",
    "i = 0\n",
    "while i < 5:\n",
    "    i = i + 1\n",
    "    \n",
    "\n",
    "    total = total + add()\n",
    "print(total)"
   ]
  },
  {
   "cell_type": "markdown",
   "metadata": {},
   "source": [
    "# 6."
   ]
  },
  {
   "cell_type": "code",
   "execution_count": null,
   "metadata": {},
   "outputs": [],
   "source": [
    "n = []\n",
    "q = int(input('请输入序列中数字的个数'))\n",
    "i = 1\n",
    "while i < q:\n",
    "\n",
    "    m = int(input())\n",
    "    n.append(m)\n",
    "max_num = n[0]\n",
    "p = 1\n",
    "while p < q:\n",
    "    num = n[p - 1]"
   ]
  }
 ],
 "metadata": {
  "kernelspec": {
   "display_name": "Python 3",
   "language": "python",
   "name": "python3"
  },
  "language_info": {
   "codemirror_mode": {
    "name": "ipython",
    "version": 3
   },
   "file_extension": ".py",
   "mimetype": "text/x-python",
   "name": "python",
   "nbconvert_exporter": "python",
   "pygments_lexer": "ipython3",
   "version": "3.6.3"
  }
 },
 "nbformat": 4,
 "nbformat_minor": 2
}
