{
 "cells": [
  {
   "cell_type": "markdown",
   "metadata": {},
   "source": [
    "# 练习一：自己定义一个reverse(s)函数，功能返回字符串s的倒序字符串。"
   ]
  },
  {
   "cell_type": "code",
   "execution_count": 1,
   "metadata": {},
   "outputs": [
    {
     "name": "stdout",
     "output_type": "stream",
     "text": [
      "abcdefghi\n",
      "ihgfedcba"
     ]
    }
   ],
   "source": [
    "def reverse(s):\n",
    "    n = len(s)\n",
    "    for i in range(n-1,-1,-1):\n",
    "        print(s[i],end='')\n",
    "        \n",
    "s = str(input())\n",
    "reverse(s)"
   ]
  },
  {
   "cell_type": "markdown",
   "metadata": {},
   "source": [
    "# 练习二：写函数，根据给定符号和行数，打印相应直角三角形，等腰三角形及其他形式的三角形。"
   ]
  },
  {
   "cell_type": "code",
   "execution_count": 3,
   "metadata": {},
   "outputs": [
    {
     "name": "stdout",
     "output_type": "stream",
     "text": [
      "请输入符号：*\n",
      "请输入行数：5\n",
      "直角三角形如下：\n",
      "*\n",
      "**\n",
      "***\n",
      "****\n",
      "*****\n",
      "等腰三角形如下：\n",
      "     *\n",
      "    ***\n",
      "   *****\n",
      "  *******\n",
      " *********\n",
      "其他随便哪种形式的三角形如下：\n",
      "            *\n",
      "         ***\n",
      "      *****\n",
      "   *******\n",
      "*********\n"
     ]
    }
   ],
   "source": [
    "def triangle_1(s,r):\n",
    "    for i in range(1,r+1):\n",
    "        print(s*i)\n",
    "def triangle_2(s,r):\n",
    "    for i in range(1,r+1):\n",
    "        print(' '*(r-i+1)+s*(2*i-1))\n",
    "def triangle_3(s,r):\n",
    "    for i in range(1,r+1):\n",
    "        print(' '*(3*r-i*3)+s*(2*i-1))\n",
    "    \n",
    "s = str(input('请输入符号：'))\n",
    "r = int(input('请输入行数：'))\n",
    "print('直角三角形如下：')\n",
    "triangle_1(s,r)\n",
    "print('等腰三角形如下：')\n",
    "triangle_2(s,r)\n",
    "print('其他随便哪种形式的三角形如下：')\n",
    "triangle_3(s,r)"
   ]
  },
  {
   "cell_type": "markdown",
   "metadata": {},
   "source": [
    "# 练习五：写函数，根据给定符号，打印各种菱形。"
   ]
  },
  {
   "cell_type": "code",
   "execution_count": 7,
   "metadata": {},
   "outputs": [
    {
     "name": "stdout",
     "output_type": "stream",
     "text": [
      "请输入符号：-\n",
      "      -\n",
      "   -------\n",
      "-------------\n",
      "   -------\n",
      "      -\n"
     ]
    }
   ],
   "source": [
    "#这个才是作业答案\n",
    "def diamond(s):\n",
    "    for i in range(1,6):\n",
    "        if i < 3:\n",
    "            print(' '*(9-i*3)+s*(1+2*(i-1)*3))\n",
    "        if i == 3:\n",
    "            print(s*13)\n",
    "        if i > 3:\n",
    "            print(' '*(i-3)*3+s*(1+2*(5-i)*3))\n",
    "s = str(input('请输入符号：'))\n",
    "diamond(s)\n"
   ]
  },
  {
   "cell_type": "code",
   "execution_count": null,
   "metadata": {},
   "outputs": [],
   "source": [
    "#这个不是真正的作业答案我试了下用户输入不过为啥冒号不对啊迷茫\n",
    "#好吧我发现式子也列错了我就是放上来存一下您就，别看了…………\n",
    "\n",
    "def diamond(s,h,r):\n",
    "    for i in range(1,h+1):\n",
    "        if h % 2 == 0:\n",
    "            print('赋值错误，菱形高必为奇数。')\n",
    "        else:\n",
    "            if r % 2 != 0:\n",
    "                if i < (h+1)/2:\n",
    "                    print(' '*((r-1)/2 - i*((r-1)/((h-1)/2))+s*(1+2*(i-1)*((r-1)/((h-1)/2))))\n",
    "                if i == (h+1)/2:\n",
    "                    print(s*r)\n",
    "                else:\n",
    "                    print(' '*((i-(h+1)/2)*((r-1)/((h-1)/2)))+s*(1+2*((r-1)/((h-1)/2))*((h-i)/2)))\n",
    "            else:\n",
    "                print('……………………………………')\n",
    "                          \n",
    "s = str(input('请输入符号：'))\n",
    "h = int(input('请输入菱形的高：'))\n",
    "r = int(input('请输入菱形的宽：'))\n",
    "diamond(s,h,r)"
   ]
  },
  {
   "cell_type": "code",
   "execution_count": null,
   "metadata": {},
   "outputs": [],
   "source": []
  },
  {
   "cell_type": "code",
   "execution_count": null,
   "metadata": {},
   "outputs": [],
   "source": []
  }
 ],
 "metadata": {
  "kernelspec": {
   "display_name": "Python 3",
   "language": "python",
   "name": "python3"
  },
  "language_info": {
   "codemirror_mode": {
    "name": "ipython",
    "version": 3
   },
   "file_extension": ".py",
   "mimetype": "text/x-python",
   "name": "python",
   "nbconvert_exporter": "python",
   "pygments_lexer": "ipython3",
   "version": "3.6.3"
  }
 },
 "nbformat": 4,
 "nbformat_minor": 2
}
