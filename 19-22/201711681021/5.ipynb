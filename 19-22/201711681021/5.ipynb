{
 "cells": [
  {
   "cell_type": "markdown",
   "metadata": {},
   "source": [
    "# 练习 1：写函数，求n个随机整数均值的平方根，整数范围在m与k之间（n,m,k由用户输入）。"
   ]
  },
  {
   "cell_type": "code",
   "execution_count": 2,
   "metadata": {},
   "outputs": [
    {
     "name": "stdout",
     "output_type": "stream",
     "text": [
      "请输入整数个数5\n",
      "1\n",
      "5\n"
     ]
    },
    {
     "data": {
      "text/plain": [
       "1.61245154965971"
      ]
     },
     "execution_count": 2,
     "metadata": {},
     "output_type": "execute_result"
    }
   ],
   "source": [
    "import random, math\n",
    "def end(n,m,k):\n",
    "    i = 1\n",
    "    total = 0\n",
    "    while i < n:\n",
    "        i += 1\n",
    "        number = random.randint(m,k)\n",
    "        total += number\n",
    "    total = total / n\n",
    "    total = math.sqrt(total)\n",
    "    return total\n",
    "n = int(input('请输入整数个数'))\n",
    "m = int(input())\n",
    "k = int(input())\n",
    "end(n,m,k)"
   ]
  },
  {
   "cell_type": "markdown",
   "metadata": {},
   "source": [
    "# 练习 2：写函数，共n个随机整数，整数范围在m与k之间，（n,m,k由用户输入）。求1：西格玛log(随机整数)，2：西格玛1/log(随机整数)"
   ]
  },
  {
   "cell_type": "code",
   "execution_count": 3,
   "metadata": {},
   "outputs": [
    {
     "name": "stdout",
     "output_type": "stream",
     "text": [
      "请输入整数个数5\n",
      "1\n",
      "5\n",
      "1: 1.0986122886681098\n",
      "2: 0.7213475204444817\n"
     ]
    }
   ],
   "source": [
    "import random, math\n",
    "def end(n,m,k):\n",
    "    i = 1\n",
    "    while i < n:\n",
    "        i += 1\n",
    "        number = random.randint(m,k)\n",
    "    return number\n",
    "def one(n,m,k):\n",
    "    total_1 = 0\n",
    "    total_1 += math.log(end(n,m,k))\n",
    "    return total_1\n",
    "def two(n,m,k):\n",
    "    total_2 = 0\n",
    "    total_2 += 1 / math.log(end(n,m,k))\n",
    "    return total_2\n",
    "\n",
    "n = int(input('请输入整数个数'))\n",
    "m = int(input())\n",
    "k = int(input())\n",
    "print('1:',one(n,m,k))\n",
    "print('2:',two(n,m,k))"
   ]
  },
  {
   "cell_type": "markdown",
   "metadata": {},
   "source": [
    "# 练习 3：写函数，求s=a+aa+aaa+aaaa+aa...a的值，其中a是[1,9]之间的随机整数。例如2+22+222+2222+22222(此时共有5个数相加)，几个数相加由键盘输入。"
   ]
  },
  {
   "cell_type": "code",
   "execution_count": 5,
   "metadata": {},
   "outputs": [
    {
     "name": "stdout",
     "output_type": "stream",
     "text": [
      "你想让几个数想相加3\n"
     ]
    },
    {
     "data": {
      "text/plain": [
       "984"
      ]
     },
     "execution_count": 5,
     "metadata": {},
     "output_type": "execute_result"
    }
   ],
   "source": [
    "import random\n",
    "def end(m):\n",
    "    a = random.randint(1,9)\n",
    "    i = 1\n",
    "    number = a\n",
    "    total = number\n",
    "    while i < m:\n",
    "        i = i + 1\n",
    "        number = number + a * (10 ** (i - 1))\n",
    "        total += number\n",
    "    return total\n",
    "m = int(input('你想让几个数想相加'))\n",
    "end(m)"
   ]
  },
  {
   "cell_type": "markdown",
   "metadata": {},
   "source": [
    "# 挑战性练习：仿照task5，将猜数游戏改成由用户随便选择一个整数，让计算机来猜测的猜数游戏，要求和task5中人猜测的方法类似，但是人机角色对换，由人来判断猜测是大、小还是相等，请写出完整的猜数游戏。"
   ]
  },
  {
   "cell_type": "code",
   "execution_count": 1,
   "metadata": {},
   "outputs": [
    {
     "name": "stdout",
     "output_type": "stream",
     "text": [
      "=====游戏菜单=====\n",
      "                1. 游戏说明\n",
      "                2. 开始游戏\n",
      "                3. 退出游戏\n",
      "                4. 制作团队\n",
      "             =====游戏菜单=====\n",
      "请输入你的选择1\n",
      "你输入一个数，计算机猜，你看它猜得对不对，不对的话大了还是小了……\n",
      "=====游戏菜单=====\n",
      "                1. 游戏说明\n",
      "                2. 开始游戏\n",
      "                3. 退出游戏\n",
      "                4. 制作团队\n",
      "             =====游戏菜单=====\n",
      "请输入你的选择4\n",
      "大半夜不睡觉编程的学生。\n",
      "=====游戏菜单=====\n",
      "                1. 游戏说明\n",
      "                2. 开始游戏\n",
      "                3. 退出游戏\n",
      "                4. 制作团队\n",
      "             =====游戏菜单=====\n",
      "请输入你的选择2\n",
      "请你输入一个正整数。10\n",
      "计算机可以运行的次数为 5 次\n",
      "计算机已经猜测 1 次\n",
      "4\n",
      "计算机得出的数字与你输入的数相比是大是小或是相等？小\n",
      "判断正确，游戏继续！\n",
      "计算机可以运行的次数为 5 次\n",
      "计算机已经猜测 2 次\n",
      "5\n",
      "计算机得出的数字与你输入的数相比是大是小或是相等？小\n",
      "判断正确，游戏继续！\n",
      "计算机可以运行的次数为 5 次\n",
      "计算机已经猜测 3 次\n",
      "7\n",
      "计算机得出的数字与你输入的数相比是大是小或是相等？小\n",
      "判断正确，游戏继续！\n",
      "计算机可以运行的次数为 5 次\n",
      "计算机已经猜测 4 次\n",
      "17\n",
      "计算机得出的数字与你输入的数相比是大是小或是相等？大\n",
      "判断正确，游戏继续！\n",
      "计算机可以运行的次数为 5 次\n",
      "计算机已经猜测 5 次\n",
      "2\n",
      "计算机得出的数字与你输入的数相比是大是小或是相等？小\n",
      "判断正确，游戏继续！\n",
      "次数结束，游戏失败！\n",
      "=====游戏菜单=====\n",
      "                1. 游戏说明\n",
      "                2. 开始游戏\n",
      "                3. 退出游戏\n",
      "                4. 制作团队\n",
      "             =====游戏菜单=====\n",
      "请输入你的选择3\n",
      "游戏结束。\n"
     ]
    }
   ],
   "source": [
    "import random,math\n",
    "def win():\n",
    "    print('计算机成功！')\n",
    "    \n",
    "def lose():\n",
    "    print('计算机失败！')\n",
    "\n",
    "def game_over():\n",
    "    print('游戏结束。')\n",
    "\n",
    "def show_team():\n",
    "    print('大半夜不睡觉编程的学生。')\n",
    "\n",
    "def show_instruction():\n",
    "    print('你输入一个数，计算机猜，你看它猜得对不对，不对的话大了还是小了……')\n",
    "def menu():\n",
    "    print('''=====游戏菜单=====\n",
    "                1. 游戏说明\n",
    "                2. 开始游戏\n",
    "                3. 退出游戏\n",
    "                4. 制作团队\n",
    "             =====游戏菜单=====''')\n",
    "\n",
    "\n",
    "def end(m):\n",
    "    \n",
    "    guess_time = 0\n",
    "    max_time = math.ceil(math.log(2 * m,2))\n",
    "    while guess_time < max_time:\n",
    "        guess_time += 1\n",
    "        number = random.randint(0,2 * m)\n",
    "        print('计算机可以运行的次数为',max_time,'次')\n",
    "        print('计算机已经猜测',guess_time,'次')\n",
    "        print(number)\n",
    "        n = str(input('计算机得出的数字与你输入的数相比是大是小或是相等？'))\n",
    "        \n",
    "            \n",
    "        if number == m and n == '相等':\n",
    "            print('判断正确，游戏结束！')\n",
    "            game_over()\n",
    "            break\n",
    "        elif number > m and n == '大':\n",
    "            print('判断正确，游戏继续！')\n",
    "        elif number < m and n == '小':\n",
    "            print('判断正确，游戏继续！')\n",
    "        else:\n",
    "            print('判断错误，请重新输入！')\n",
    "            game_over()\n",
    "            break\n",
    "        \n",
    "        \n",
    "    else:\n",
    "        print('次数结束，游戏失败！')\n",
    "        \n",
    "def main():\n",
    "    while True:\n",
    "        menu()\n",
    "        choice = int(input('请输入你的选择'))\n",
    "        if choice == 1:\n",
    "            show_instruction()\n",
    "        elif choice == 2:\n",
    "            m = int(input('请你输入一个正整数。'))\n",
    "            end(m)\n",
    "        elif choice == 3:\n",
    "            game_over()\n",
    "            break\n",
    "        else:\n",
    "            show_team()\n",
    "            \n",
    "main()\n"
   ]
  },
  {
   "cell_type": "code",
   "execution_count": null,
   "metadata": {},
   "outputs": [],
   "source": []
  }
 ],
 "metadata": {
  "kernelspec": {
   "display_name": "Python 3",
   "language": "python",
   "name": "python3"
  },
  "language_info": {
   "codemirror_mode": {
    "name": "ipython",
    "version": 3
   },
   "file_extension": ".py",
   "mimetype": "text/x-python",
   "name": "python",
   "nbconvert_exporter": "python",
   "pygments_lexer": "ipython3",
   "version": "3.6.3"
  }
 },
 "nbformat": 4,
 "nbformat_minor": 2
}
