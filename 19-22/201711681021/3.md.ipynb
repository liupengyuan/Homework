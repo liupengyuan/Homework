{
 "cells": [
  {
   "cell_type": "markdown",
   "metadata": {},
   "source": [
    "# 练习 1：写程序，可由键盘读入用户姓名例如Mr. right，让用户输入出生的月份与日期，判断用户星座，假设用户是金牛座，则输出，Mr. right，你是非常有性格的金牛座！。"
   ]
  },
  {
   "cell_type": "code",
   "execution_count": 2,
   "metadata": {},
   "outputs": [
    {
     "name": "stdout",
     "output_type": "stream",
     "text": [
      "请输入您的姓名张小爽\n",
      "请输入您的出生月份4\n",
      "请输入您的出生日期11\n",
      "张小爽 ，你是非常有性格的白羊座！\n"
     ]
    }
   ],
   "source": [
    "name = input('请输入您的姓名')\n",
    "m = int(input('请输入您的出生月份'))\n",
    "n = int(input('请输入您的出生日期'))\n",
    "\n",
    "if 100 * m + n >= 321 and 100 * m + n <= 419:\n",
    "    print(name,'，你是非常有性格的白羊座！')\n",
    "    \n",
    "elif 100 * m + n >= 420 and 100 * m + n <= 520:\n",
    "    print(name,'，你是非常有性格的金牛座！')\n",
    "    \n",
    "elif 100 * m + n >= 521 and 100 * m + n <= 621:\n",
    "    print(name,'，你是非常有性格的双子座！')\n",
    "    \n",
    "elif 100 * m + n >= 622 and 100 * m + n <= 722:\n",
    "    print(name,'，你是非常有性格的巨蟹座！')\n",
    "    \n",
    "elif 100 * m + n >= 723 and 100 * m + n <= 822:\n",
    "    print(name,'，你是非常有性格的狮子座！')\n",
    "    \n",
    "elif 100 * m + n >= 823 and 100 * m + n <= 922:\n",
    "    print(name,'，你是非常有性格的处女座！')\n",
    "    \n",
    "elif 100 * m + n >= 923 and 100 * m + n <= 1023:\n",
    "    print(name,'，你是非常有性格的天秤座！')\n",
    "    \n",
    "elif 100 * m + n >= 1024 and 100 * m + n <= 1122:\n",
    "    print(name,'，你是非常有性格的天蝎座！')\n",
    "    \n",
    "elif 100 * m + n >= 1123 and 100 * m + n <= 1221:\n",
    "    print(name,'，你是非常有性格的射手座！')\n",
    "    \n",
    "elif 100 * m + n >= 1222 and 100 * m + n <= 119:\n",
    "    print(name,'，你是非常有性格的摩羯座！')\n",
    "    \n",
    "elif 100 * m + n >= 120 and 100 * m + n <= 218:\n",
    "    print(name,'，你是非常有性格的水瓶座！')\n",
    "    \n",
    "elif 100 * m + n >= 219 and 100 * m + n <= 320:\n",
    "    print(name,'，你是非常有性格的金牛座！')\n"
   ]
  },
  {
   "cell_type": "markdown",
   "metadata": {},
   "source": [
    "# 练习 2：写程序，可由键盘读入两个整数m与n(n不等于0)，询问用户意图，如果要求和则计算从m到n的和输出，如果要乘积则计算从m到n的积并输出，如果要求余数则计算m除以n的余数的值并输出，否则则计算m整除n的值并输出。"
   ]
  },
  {
   "cell_type": "code",
   "execution_count": 4,
   "metadata": {},
   "outputs": [
    {
     "name": "stdout",
     "output_type": "stream",
     "text": [
      "请输入一个整数5\n",
      "请输入一个整数3\n",
      "请输入你的目的（求和、乘积或取余数）求和\n",
      "8\n"
     ]
    }
   ],
   "source": [
    "m = int(input('请输入一个整数'))\n",
    "n = int(input('请输入一个整数'))\n",
    "aim = str(input('请输入你的目的（求和、乘积或取余数）'))\n",
    "\n",
    "if aim == '求和':\n",
    "    print(m+n)\n",
    "    \n",
    "elif aim == '乘积':\n",
    "    print(m*n)\n",
    "    \n",
    "elif aim == '取余数':\n",
    "    print(m%n)\n",
    "    \n",
    "else:\n",
    "    print(m//n)"
   ]
  },
  {
   "cell_type": "code",
   "execution_count": 5,
   "metadata": {},
   "outputs": [
    {
     "name": "stdout",
     "output_type": "stream",
     "text": [
      "请输入一个整数5\n",
      "请输入一个整数3\n",
      "请输入你的目的（求和、乘积或取余数）乘积\n",
      "15\n"
     ]
    }
   ],
   "source": [
    "m = int(input('请输入一个整数'))\n",
    "n = int(input('请输入一个整数'))\n",
    "aim = str(input('请输入你的目的（求和、乘积或取余数）'))\n",
    "\n",
    "if aim == '求和':\n",
    "    print(m+n)\n",
    "    \n",
    "elif aim == '乘积':\n",
    "    print(m*n)\n",
    "    \n",
    "elif aim == '取余数':\n",
    "    print(m%n)\n",
    "    \n",
    "else:\n",
    "    print(m//n)"
   ]
  },
  {
   "cell_type": "code",
   "execution_count": 6,
   "metadata": {},
   "outputs": [
    {
     "name": "stdout",
     "output_type": "stream",
     "text": [
      "请输入一个整数5\n",
      "请输入一个整数3\n",
      "请输入你的目的（求和、乘积或取余数）取余数\n",
      "2\n"
     ]
    }
   ],
   "source": [
    "m = int(input('请输入一个整数'))\n",
    "n = int(input('请输入一个整数'))\n",
    "aim = str(input('请输入你的目的（求和、乘积或取余数）'))\n",
    "\n",
    "if aim == '求和':\n",
    "    print(m+n)\n",
    "    \n",
    "elif aim == '乘积':\n",
    "    print(m*n)\n",
    "    \n",
    "elif aim == '取余数':\n",
    "    print(m%n)\n",
    "    \n",
    "else:\n",
    "    print(m//n)"
   ]
  },
  {
   "cell_type": "code",
   "execution_count": 7,
   "metadata": {},
   "outputs": [
    {
     "name": "stdout",
     "output_type": "stream",
     "text": [
      "请输入一个整数5\n",
      "请输入一个整数3\n",
      "请输入你的目的（求和、乘积或取余数）呃\n",
      "1\n"
     ]
    }
   ],
   "source": [
    "m = int(input('请输入一个整数'))\n",
    "n = int(input('请输入一个整数'))\n",
    "aim = str(input('请输入你的目的（求和、乘积或取余数）'))\n",
    "\n",
    "if aim == '求和':\n",
    "    print(m+n)\n",
    "    \n",
    "elif aim == '乘积':\n",
    "    print(m*n)\n",
    "    \n",
    "elif aim == '取余数':\n",
    "    print(m%n)\n",
    "    \n",
    "else:\n",
    "    print(m//n)"
   ]
  },
  {
   "cell_type": "markdown",
   "metadata": {},
   "source": [
    "# 练习 4：英文单词单数转复数，要求输入一个英文动词（单数形式），能够得到其复数形式，或给出单数转复数形式的建议（提示，some_string.endswith(some_letter)函数可以判断某字符串结尾字符，可尝试运行：'myname'.endswith('me')，liupengyuan'.endswith('n')）。"
   ]
  },
  {
   "cell_type": "code",
   "execution_count": 1,
   "metadata": {},
   "outputs": [
    {
     "name": "stdout",
     "output_type": "stream",
     "text": [
      "请输入一个英文单词pig\n",
      "pigs\n"
     ]
    }
   ],
   "source": [
    "word = str(input('请输入一个英文单词'))\n",
    "\n",
    "if word.endswith('ch') or word.endswith('sh') or word.endswith('s') or word.endswith('x'):\n",
    "    print(word,'es',sep ='')\n",
    "    \n",
    "else:\n",
    "    print(word,'s',sep='')"
   ]
  },
  {
   "cell_type": "code",
   "execution_count": 11,
   "metadata": {},
   "outputs": [
    {
     "name": "stdout",
     "output_type": "stream",
     "text": [
      "请输入一个英文单词rubbish\n",
      "rubbishes\n"
     ]
    }
   ],
   "source": [
    "word = str(input('请输入一个英文单词'))\n",
    "\n",
    "if word.endswith('ch') or word.endswith('sh') or word.endswith('s') or word.endswith('x'):\n",
    "    print(word,'es',sep ='')\n",
    "    \n",
    "else:\n",
    "    print(word,'s',sep='')"
   ]
  },
  {
   "cell_type": "markdown",
   "metadata": {},
   "source": [
    "# 尝试性练习：写程序，能够在屏幕上显示空行。"
   ]
  },
  {
   "cell_type": "code",
   "execution_count": 1,
   "metadata": {},
   "outputs": [
    {
     "name": "stdout",
     "output_type": "stream",
     "text": [
      "以下会有个空行\n",
      "            \n",
      "是不是这个意思啊\n",
      "算了我觉得不是\n"
     ]
    }
   ],
   "source": [
    "print('以下会有个空行')\n",
    "print('            ')\n",
    "print('是不是这个意思啊')\n",
    "print('算了我觉得不是')"
   ]
  },
  {
   "cell_type": "code",
   "execution_count": null,
   "metadata": {},
   "outputs": [
    {
     "name": "stdout",
     "output_type": "stream",
     "text": [
      "我觉得是这个意思\n",
      "我觉得是这个意思\n",
      "\n",
      "\n",
      "我觉得也是\n",
      "我觉得也是\n",
      "\n",
      "\n",
      "\n",
      "\n",
      "空了两行了够不够啊\n",
      "空了两行了够不够啊\n",
      "\n",
      "\n",
      "\n",
      "\n",
      "\n",
      "\n",
      "再来几行嘻嘻\n",
      "再来几行嘻嘻\n",
      "\n",
      "\n",
      "\n",
      "\n"
     ]
    }
   ],
   "source": [
    "n = str()\n",
    "i = 1\n",
    "while i >= 1:\n",
    "    i = i + 1\n",
    "    n = str(input())\n",
    "    print(n)"
   ]
  },
  {
   "cell_type": "markdown",
   "metadata": {},
   "source": [
    "# 挑战性练习：写程序，由用户输入一些整数，能够得到几个整数中的次大值(第二大的值)并输出。"
   ]
  },
  {
   "cell_type": "code",
   "execution_count": null,
   "metadata": {},
   "outputs": [],
   "source": [
    "m = int(input('请输入你想输入的数字的个数。'))\n",
    "max_number = int(input('请输入一个整数，回车结束'))\n",
    "s = int()\n",
    "i = 1\n",
    "while i < m:\n",
    "    i += 1\n",
    "    n = int(input('请输入一个整数，回车结束'))\n",
    "    if n > max_number:\n",
    "        s = n\n",
    "        max_number = n\n",
    "    else:\n",
    "        if \n",
    "        max_number = n\n",
    "print('次大值是：', s)"
   ]
  },
  {
   "cell_type": "code",
   "execution_count": null,
   "metadata": {},
   "outputs": [],
   "source": []
  }
 ],
 "metadata": {
  "kernelspec": {
   "display_name": "Python 3",
   "language": "python",
   "name": "python3"
  },
  "language_info": {
   "codemirror_mode": {
    "name": "ipython",
    "version": 3
   },
   "file_extension": ".py",
   "mimetype": "text/x-python",
   "name": "python",
   "nbconvert_exporter": "python",
   "pygments_lexer": "ipython3",
   "version": "3.6.3"
  }
 },
 "nbformat": 4,
 "nbformat_minor": 2
}
