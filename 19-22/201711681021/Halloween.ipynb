{
 "cells": [
  {
   "cell_type": "code",
   "execution_count": 3,
   "metadata": {
    "collapsed": false
   },
   "outputs": [
    {
     "name": "stdout",
     "output_type": "stream",
     "text": [
      "请输入一个整数m:4\n",
      "请输入一个整数n:5\n",
      "144\n"
     ]
    }
   ],
   "source": [
    "def my_sum(n):\n",
    "    i = 1\n",
    "    total_sum = 1\n",
    "    while i < n:\n",
    "        i = i + 1\n",
    "        total_sum += i\n",
    "    return total_sum\n",
    "\n",
    "def my_mul(n):\n",
    "    i = 1\n",
    "    total_mul = 1\n",
    "    while i < n:\n",
    "        i = i + 1\n",
    "        total_mul *= i\n",
    "    return total_mul\n",
    "\n",
    "m = int(input('请输入一个整数m:'))\n",
    "n = int(input('请输入一个整数n:'))\n",
    "if m > n:\n",
    "    print(my_sum(m)+my_sum(n))\n",
    "    \n",
    "else:\n",
    "    print(my_mul(m)+my_mul(n))"
   ]
  },
  {
   "cell_type": "code",
   "execution_count": 4,
   "metadata": {
    "collapsed": false
   },
   "outputs": [
    {
     "name": "stdout",
     "output_type": "stream",
     "text": [
      "请输入一个整数m:5\n",
      "请输入一个整数n:4\n",
      "25\n"
     ]
    }
   ],
   "source": [
    "def my_sum(n):\n",
    "    i = 1\n",
    "    total_sum = 1\n",
    "    while i < n:\n",
    "        i = i + 1\n",
    "        total_sum += i\n",
    "    return total_sum\n",
    "\n",
    "def my_mul(n):\n",
    "    i = 1\n",
    "    total_mul = 1\n",
    "    while i < n:\n",
    "        i = i + 1\n",
    "        total_mul *= i\n",
    "    return total_mul\n",
    "\n",
    "m = int(input('请输入一个整数m:'))\n",
    "n = int(input('请输入一个整数n:'))\n",
    "if m > n:\n",
    "    print(my_sum(m)+my_sum(n))\n",
    "    \n",
    "else:\n",
    "    print(my_mul(m)+my_mul(n))"
   ]
  },
  {
   "cell_type": "code",
   "execution_count": null,
   "metadata": {
    "collapsed": true
   },
   "outputs": [],
   "source": []
  }
 ],
 "metadata": {
  "kernelspec": {
   "display_name": "Python 3",
   "language": "python",
   "name": "python3"
  },
  "language_info": {
   "codemirror_mode": {
    "name": "ipython",
    "version": 3
   },
   "file_extension": ".py",
   "mimetype": "text/x-python",
   "name": "python",
   "nbconvert_exporter": "python",
   "pygments_lexer": "ipython3",
   "version": "3.6.0"
  }
 },
 "nbformat": 4,
 "nbformat_minor": 2
}
