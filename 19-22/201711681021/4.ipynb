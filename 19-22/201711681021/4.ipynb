{
 "cells": [
  {
   "cell_type": "markdown",
   "metadata": {},
   "source": [
    "# 练习 1：仿照求$ \\sum_{i=1}^mi + \\sum_{i=1}^ni  + \\sum_{i=1}^ki$的完整代码，写程序，可求m!+n!+k!v"
   ]
  },
  {
   "cell_type": "code",
   "execution_count": 1,
   "metadata": {},
   "outputs": [
    {
     "name": "stdout",
     "output_type": "stream",
     "text": [
      "请输入第1个整数，以回车结束。4\n",
      "请输入第2个整数，以回车结束。4\n",
      "请输入第3个整数，以回车结束。4\n",
      "最终的和是： 72\n"
     ]
    }
   ],
   "source": [
    "def my_mul(n):\n",
    "    i = 1\n",
    "    total_mul = 1\n",
    "    while i < n:\n",
    "        i = i + 1\n",
    "        total_mul *= i\n",
    "    return total_mul\n",
    "\n",
    "n = int(input('请输入第1个整数，以回车结束。'))\n",
    "m = int(input('请输入第2个整数，以回车结束。'))\n",
    "k = int(input('请输入第3个整数，以回车结束。'))\n",
    "\n",
    "print('最终的和是：', my_mul(m) + my_mul(n) + my_mul(k))"
   ]
  },
  {
   "cell_type": "markdown",
   "metadata": {},
   "source": [
    "# 练习 2：写函数可返回1 - 1/3 + 1/5 - 1/7...的前n项的和。在主程序中，分别令n=1000及100000，打印4倍该函数的和。"
   ]
  },
  {
   "cell_type": "code",
   "execution_count": 2,
   "metadata": {},
   "outputs": [
    {
     "name": "stdout",
     "output_type": "stream",
     "text": [
      "请输入一个数n1000\n",
      "3.142593654340044\n"
     ]
    }
   ],
   "source": [
    "\n",
    "def result(m):\n",
    "    i = 1\n",
    "    s = 2\n",
    "    total = 1\n",
    "    while s < m:\n",
    "        i = i + 2\n",
    "        s = s + 1\n",
    "        total = total + (-1)**s / i\n",
    "        \n",
    "    return total\n",
    "n = int(input('请输入一个数n'))\n",
    "print(result(n)*4)"
   ]
  },
  {
   "cell_type": "code",
   "execution_count": 3,
   "metadata": {},
   "outputs": [
    {
     "name": "stdout",
     "output_type": "stream",
     "text": [
      "请输入一个数n100000\n",
      "3.1416026536897204\n"
     ]
    }
   ],
   "source": [
    "\n",
    "def result(m):\n",
    "    i = 1\n",
    "    s = 2\n",
    "    total = 1\n",
    "    while s < m:\n",
    "        i = i + 2\n",
    "        s = s + 1\n",
    "        total = total + (-1)**s / i\n",
    "        \n",
    "    return total\n",
    "n = int(input('请输入一个数n'))\n",
    "print(result(n)*4)"
   ]
  },
  {
   "cell_type": "markdown",
   "metadata": {},
   "source": [
    "# 练习 3：将task3中的练习1及练习4改写为函数，并进行调用。"
   ]
  },
  {
   "cell_type": "code",
   "execution_count": 22,
   "metadata": {},
   "outputs": [
    {
     "name": "stdout",
     "output_type": "stream",
     "text": [
      "请输入您的姓名luke\n",
      "请输入您的出生月份10\n",
      "请输入您的出生日期19\n",
      "luke , 你是非常有性格的天秤座！\n"
     ]
    }
   ],
   "source": [
    "def out(c):\n",
    "     \n",
    "    if c >= 321 and c <= 331 or c >= 401 and c <= 419:\n",
    "        result = str('你是非常有性格的白羊座！')\n",
    "    elif c >= 420 and c <= 430 or c >= 501 and c <= 520:\n",
    "        result = str('你是非常有性格的金牛座！')\n",
    "    elif c >= 521 and c <= 530 or c >= 601 and c <= 621:\n",
    "        result = str('你是非常有性格的双子座！')\n",
    "    elif c >= 622 and c <= 631 or c >= 701 and c <= 722:\n",
    "        result = str('你是非常有性格的巨蟹座！')\n",
    "    elif c >= 723 and c <= 731 or c >= 801 and c <= 822:\n",
    "        result = str('你是非常有性格的狮子座！')\n",
    "    elif c >= 823 and c <= 831 or c >= 901 and c <= 922:\n",
    "        result = str('你是非常有性格的处女座！')\n",
    "    elif c >= 923 and c <= 930 or c >= 1001 and c <= 1023:\n",
    "        result = str('你是非常有性格的天秤座！')\n",
    "    elif c >= 1024 and c <= 1031 or c >= 1101 and c <= 1122:\n",
    "        result = str('你是非常有性格的天蝎座！')\n",
    "    elif c >= 1123 and c <= 1130 or c >= 1201 and c <= 1221:\n",
    "        result = str('你是非常有性格的射手座！')\n",
    "    elif c >= 1222 and c <= 1231 or c >= 101 and c <= 119:\n",
    "        result = str('你是非常有性格的摩羯座！')\n",
    "    elif c >= 120 and c <= 131 or c >= 201 and c <= 218:\n",
    "        result = str('你是非常有性格的水瓶座！')\n",
    "    elif c >= 219 and c <= 229 or c >= 301 and c <= 320:\n",
    "        result = str('你是非常有性格的金牛座！')\n",
    "    else:\n",
    "        result = str('输入错误！')\n",
    "        \n",
    "    return result\n",
    "    \n",
    "name = input('请输入您的姓名')\n",
    "m = int(input('请输入您的出生月份'))\n",
    "n = int(input('请输入您的出生日期'))\n",
    "c = 100 * m + n\n",
    "print(name,',',out(c))"
   ]
  },
  {
   "cell_type": "code",
   "execution_count": 24,
   "metadata": {},
   "outputs": [
    {
     "name": "stdout",
     "output_type": "stream",
     "text": [
      "请输入一个英文单词rubbish\n",
      "rubbishes\n"
     ]
    }
   ],
   "source": [
    "def result(c):\n",
    "    if word.endswith('ch') or word.endswith('sh') or word.endswith('s') or word.endswith('x'):\n",
    "        end = str('es')\n",
    "    else:\n",
    "        end = str('s')\n",
    "        \n",
    "    return end\n",
    "word = str(input('请输入一个英文单词'))\n",
    "print(word,result(word),sep='')"
   ]
  },
  {
   "cell_type": "markdown",
   "metadata": {},
   "source": [
    "# 挑战性练习：写程序，可以求从整数m到整数n累加的和，间隔为k，求和部分需用函数实现，主程序中由用户输入m，n，k调用函数验证正确性。"
   ]
  },
  {
   "cell_type": "code",
   "execution_count": 32,
   "metadata": {},
   "outputs": [
    {
     "name": "stdout",
     "output_type": "stream",
     "text": [
      "请输入一个整数5\n",
      "请输入结束的整数10\n",
      "请输入两者的叠加间隔1\n"
     ]
    },
    {
     "ename": "UnboundLocalError",
     "evalue": "local variable 'm' referenced before assignment",
     "output_type": "error",
     "traceback": [
      "\u001b[1;31m---------------------------------------------------------------------------\u001b[0m",
      "\u001b[1;31mUnboundLocalError\u001b[0m                         Traceback (most recent call last)",
      "\u001b[1;32m<ipython-input-32-4c5a3c382ac9>\u001b[0m in \u001b[0;36m<module>\u001b[1;34m()\u001b[0m\n\u001b[0;32m     10\u001b[0m     \u001b[1;32mreturn\u001b[0m \u001b[0mtotal\u001b[0m\u001b[1;33m\u001b[0m\u001b[0m\n\u001b[0;32m     11\u001b[0m \u001b[1;33m\u001b[0m\u001b[0m\n\u001b[1;32m---> 12\u001b[1;33m \u001b[0mprint\u001b[0m\u001b[1;33m(\u001b[0m\u001b[0mend\u001b[0m\u001b[1;33m(\u001b[0m\u001b[0md\u001b[0m\u001b[1;33m)\u001b[0m\u001b[1;33m)\u001b[0m\u001b[1;33m\u001b[0m\u001b[0m\n\u001b[0m",
      "\u001b[1;32m<ipython-input-32-4c5a3c382ac9>\u001b[0m in \u001b[0;36mend\u001b[1;34m(c)\u001b[0m\n\u001b[0;32m      5\u001b[0m \u001b[1;32mdef\u001b[0m \u001b[0mend\u001b[0m\u001b[1;33m(\u001b[0m\u001b[0mc\u001b[0m\u001b[1;33m)\u001b[0m\u001b[1;33m:\u001b[0m\u001b[1;33m\u001b[0m\u001b[0m\n\u001b[0;32m      6\u001b[0m     \u001b[0mtotal\u001b[0m \u001b[1;33m=\u001b[0m \u001b[0md\u001b[0m\u001b[1;33m\u001b[0m\u001b[0m\n\u001b[1;32m----> 7\u001b[1;33m     \u001b[1;32mif\u001b[0m \u001b[0mm\u001b[0m \u001b[1;33m<\u001b[0m \u001b[0mn\u001b[0m\u001b[1;33m:\u001b[0m\u001b[1;33m\u001b[0m\u001b[0m\n\u001b[0m\u001b[0;32m      8\u001b[0m         \u001b[0mm\u001b[0m \u001b[1;33m=\u001b[0m \u001b[0mn\u001b[0m \u001b[1;33m+\u001b[0m \u001b[0mk\u001b[0m\u001b[1;33m\u001b[0m\u001b[0m\n\u001b[0;32m      9\u001b[0m         \u001b[0mtotal\u001b[0m \u001b[1;33m=\u001b[0m \u001b[0mtotal\u001b[0m \u001b[1;33m+\u001b[0m \u001b[0mm\u001b[0m\u001b[1;33m\u001b[0m\u001b[0m\n",
      "\u001b[1;31mUnboundLocalError\u001b[0m: local variable 'm' referenced before assignment"
     ]
    }
   ],
   "source": [
    "m = int(input('请输入一个整数'))\n",
    "n = int(input('请输入结束的整数'))\n",
    "k = int(input('请输入两者的叠加间隔'))\n",
    "d = m\n",
    "def end(c):\n",
    "    total = d\n",
    "    if m < n:\n",
    "        m = n + k\n",
    "        total = total + m\n",
    "    return total\n",
    "\n",
    "print(end(d))"
   ]
  },
  {
   "cell_type": "code",
   "execution_count": null,
   "metadata": {},
   "outputs": [],
   "source": []
  }
 ],
 "metadata": {
  "kernelspec": {
   "display_name": "Python 3",
   "language": "python",
   "name": "python3"
  },
  "language_info": {
   "codemirror_mode": {
    "name": "ipython",
    "version": 3
   },
   "file_extension": ".py",
   "mimetype": "text/x-python",
   "name": "python",
   "nbconvert_exporter": "python",
   "pygments_lexer": "ipython3",
   "version": "3.6.3"
  }
 },
 "nbformat": 4,
 "nbformat_minor": 2
}
