{
 "cells": [
  {
   "cell_type": "markdown",
   "metadata": {},
   "source": [
    "# 练习 1：仿照求$ \\sum_{i=1}^mi + \\sum_{i=1}^ni  + \\sum_{i=1}^ki$的完整代码，写程序，可求m!+n!+k!"
   ]
  },
  {
   "cell_type": "code",
   "execution_count": 1,
   "metadata": {
    "collapsed": false
   },
   "outputs": [
    {
     "name": "stdout",
     "output_type": "stream",
     "text": [
      "请输入第1个整数，以回车结束。4\n",
      "请输入第2个整数，以回车结束。4\n",
      "请输入第3个整数，以回车结束。4\n",
      "最终的和是： 72\n"
     ]
    }
   ],
   "source": [
    "def my_mul(n):\n",
    "    i = 1\n",
    "    total_mul = 1\n",
    "    while i < n:\n",
    "        i = i + 1\n",
    "        total_mul *= i\n",
    "    return total_mul\n",
    "\n",
    "n = int(input('请输入第1个整数，以回车结束。'))\n",
    "m = int(input('请输入第2个整数，以回车结束。'))\n",
    "k = int(input('请输入第3个整数，以回车结束。'))\n",
    "\n",
    "print('最终的和是：', my_mul(m) + my_mul(n) + my_mul(k))"
   ]
  },
  {
   "cell_type": "markdown",
   "metadata": {},
   "source": [
    "# 练习 2：写函数可返回1 - 1/3 + 1/5 - 1/7...的前n项的和。在主程序中，分别令n=1000及100000，打印4倍该函数的和。"
   ]
  },
  {
   "cell_type": "code",
   "execution_count": 6,
   "metadata": {
    "collapsed": false
   },
   "outputs": [
    {
     "name": "stdout",
     "output_type": "stream",
     "text": [
      "请输入一个数n1000\n",
      "3.142593654340044\n"
     ]
    }
   ],
   "source": [
    "def result(m):\n",
    "    i = 1\n",
    "    s = 2\n",
    "    total = 1\n",
    "    while s < m:\n",
    "        i = i + 2\n",
    "        s = s + 1\n",
    "        total = total + (-1)**s / i\n",
    "        \n",
    "    return total\n",
    "n = int(input('请输入一个数n'))\n",
    "print(result(n)*4)"
   ]
  },
  {
   "cell_type": "code",
   "execution_count": 7,
   "metadata": {
    "collapsed": false
   },
   "outputs": [
    {
     "name": "stdout",
     "output_type": "stream",
     "text": [
      "请输入一个数n100000\n",
      "3.1416026536897204\n"
     ]
    }
   ],
   "source": [
    "def result(m):\n",
    "    i = 1\n",
    "    s = 2\n",
    "    total = 1\n",
    "    while s < m:\n",
    "        i = i + 2\n",
    "        s = s + 1\n",
    "        total = total + (-1)**s / i\n",
    "        \n",
    "    return total\n",
    "n = int(input('请输入一个数n'))\n",
    "print(result(n)*4)"
   ]
  },
  {
   "cell_type": "markdown",
   "metadata": {},
   "source": [
    "# 练习 3：将task3中的练习1及练习4改写为函数，并进行调用。"
   ]
  },
  {
   "cell_type": "code",
   "execution_count": null,
   "metadata": {
    "collapsed": true
   },
   "outputs": [],
   "source": []
  },
  {
   "cell_type": "markdown",
   "metadata": {},
   "source": [
    "# 挑战性练习：写程序，可以求从整数m到整数n累加的和，间隔为k，求和部分需用函数实现，主程序中由用户输入m，n，k调用函数验证正确性。"
   ]
  },
  {
   "cell_type": "code",
   "execution_count": null,
   "metadata": {
    "collapsed": true
   },
   "outputs": [],
   "source": []
  }
 ],
 "metadata": {
  "kernelspec": {
   "display_name": "Python 3",
   "language": "python",
   "name": "python3"
  },
  "language_info": {
   "codemirror_mode": {
    "name": "ipython",
    "version": 3
   },
   "file_extension": ".py",
   "mimetype": "text/x-python",
   "name": "python",
   "nbconvert_exporter": "python",
   "pygments_lexer": "ipython3",
   "version": "3.6.0"
  }
 },
 "nbformat": 4,
 "nbformat_minor": 2
}
