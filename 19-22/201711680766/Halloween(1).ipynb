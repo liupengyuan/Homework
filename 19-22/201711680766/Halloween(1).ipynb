{
 "cells": [
  {
   "cell_type": "code",
   "execution_count": 10,
   "metadata": {},
   "outputs": [
    {
     "name": "stdout",
     "output_type": "stream",
     "text": [
      "请输入一个数字4\n",
      "和为 10\n",
      "请输入一个数，以回车结束5\n",
      "阶乘为 120\n"
     ]
    }
   ],
   "source": [
    "def my_sum(end):\n",
    "    total_n=0\n",
    "    i=0\n",
    "    while i<end:\n",
    "        i=i+1\n",
    "        total_n=total_n+i\n",
    "    return total_n\n",
    "\n",
    "n=int(input('请输入一个数字'))\n",
    "print('和为',my_sum(n))\n",
    "\n",
    "def my_mul(e):\n",
    "    t=0\n",
    "    total=1\n",
    "    while t<e:\n",
    "        t+=1\n",
    "        total=total*t\n",
    "    return total\n",
    "\n",
    "m=int(input('请输入一个数，以回车结束'))\n",
    "print('阶乘为',my_mul(m))\n"
   ]
  },
  {
   "cell_type": "code",
   "execution_count": 11,
   "metadata": {},
   "outputs": [
    {
     "name": "stdout",
     "output_type": "stream",
     "text": [
      "请输入一个整数5\n",
      "请输入一个整数6\n",
      "840\n"
     ]
    }
   ],
   "source": [
    "m=int(input('请输入一个整数'))\n",
    "n=int(input('请输入一个整数'))\n",
    "if m>n:\n",
    "    my_sum(m)\n",
    "    my_sum(n)\n",
    "    print(my_sum(m)+my_sum(n))\n",
    "else:\n",
    "    my_mul(m)\n",
    "    my_mul(n)\n",
    "    print(my_mul(n)+my_mul(m))\n",
    "    "
   ]
  },
  {
   "cell_type": "code",
   "execution_count": null,
   "metadata": {
    "collapsed": true
   },
   "outputs": [],
   "source": []
  }
 ],
 "metadata": {
  "kernelspec": {
   "display_name": "Python 3",
   "language": "python",
   "name": "python3"
  },
  "language_info": {
   "codemirror_mode": {
    "name": "ipython",
    "version": 3
   },
   "file_extension": ".py",
   "mimetype": "text/x-python",
   "name": "python",
   "nbconvert_exporter": "python",
   "pygments_lexer": "ipython3",
   "version": "3.6.2"
  }
 },
 "nbformat": 4,
 "nbformat_minor": 2
}
