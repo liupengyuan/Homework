{
 "cells": [
  {
   "cell_type": "markdown",
   "metadata": {},
   "source": [
    "练习 1：仿照求$ \\sum_{i=1}^mi + \\sum_{i=1}^ni  + \\sum_{i=1}^ki$的完整代码，写程序，可求m!+n!+k!"
   ]
  },
  {
   "cell_type": "code",
   "execution_count": 4,
   "metadata": {},
   "outputs": [
    {
     "name": "stdout",
     "output_type": "stream",
     "text": [
      "请输入一个数字3\n",
      "请输入一个数字4\n",
      "请输入一个数字5\n",
      "150\n"
     ]
    }
   ],
   "source": [
    "def compute_sum(e):\n",
    "    t=0\n",
    "    total=1\n",
    "    while t<e:\n",
    "        t+=1\n",
    "        total=total*t\n",
    "    return total\n",
    "\n",
    "m=int(input('请输入一个数字'))\n",
    "n=int(input('请输入一个数字'))\n",
    "k=int(input('请输入一个数字'))\n",
    "print(compute_sum(m)+compute_sum(n)+compute_sum(k))\n",
    "\n"
   ]
  },
  {
   "cell_type": "markdown",
   "metadata": {},
   "source": [
    "练习 2：写函数可返回1 - 1/3 + 1/5 - 1/7...的前n项的和。在主程序中，分别令n=1000及100000，打印4倍该函数的和。"
   ]
  },
  {
   "cell_type": "code",
   "execution_count": 11,
   "metadata": {},
   "outputs": [
    {
     "name": "stdout",
     "output_type": "stream",
     "text": [
      "请输入一个整数1000\n",
      "3.140592653839794\n"
     ]
    }
   ],
   "source": [
    "def sum(e):\n",
    "    i=0\n",
    "    total=0\n",
    "    while i<e:\n",
    "        i+=1\n",
    "        if i%2==0:\n",
    "            k=-1\n",
    "        else:\n",
    "            k=1\n",
    "        total=total+k/(2*i-1)\n",
    "    return total\n",
    "n=int(input('请输入一个整数'))\n",
    "print(4*sum(n))"
   ]
  },
  {
   "cell_type": "code",
   "execution_count": 12,
   "metadata": {},
   "outputs": [
    {
     "name": "stdout",
     "output_type": "stream",
     "text": [
      "请输入一个整数10000\n",
      "3.1414926535900345\n"
     ]
    }
   ],
   "source": [
    "def sum(e):\n",
    "    i=0\n",
    "    total=0\n",
    "    while i<e:\n",
    "        i+=1\n",
    "        if i%2==0:\n",
    "            k=-1\n",
    "        else:\n",
    "            k=1\n",
    "        total=total+k/(2*i-1)\n",
    "    return total\n",
    "n=int(input('请输入一个整数'))\n",
    "print(4*sum(n))"
   ]
  },
  {
   "cell_type": "markdown",
   "metadata": {},
   "source": [
    "练习 3：将task3中的练习1及练习4改写为函数，并进行调用。"
   ]
  },
  {
   "cell_type": "code",
   "execution_count": 9,
   "metadata": {
    "scrolled": true
   },
   "outputs": [
    {
     "name": "stdout",
     "output_type": "stream",
     "text": [
      "请输入你的名字田梦影\n",
      "田梦影 你是天蝎座\n"
     ]
    }
   ],
   "source": [
    "def star(num):\n",
    "    m=0\n",
    "    if 321<=num<=420:\n",
    "        m=print(name,'你是白羊座')\n",
    "    elif 421<=num<=521:\n",
    "        m=print(name,'你是金牛座')\n",
    "    elif 522<=num<=621:\n",
    "        m=print(name,'你是双子座')\n",
    "    elif 622<=num<=721:\n",
    "        m=print(name,'你是巨蟹座')\n",
    "    elif 722<=num<=821:\n",
    "        m=print(name,'你是狮子座')\n",
    "    elif 822<=num<=921:\n",
    "        m=print(name,'你是处女座')\n",
    "    elif 922<=num<=1021:\n",
    "        m=print(name,'你是天秤座')\n",
    "    elif 1022<=num<=1121:\n",
    "        m=print(name,'你是天蝎座')\n",
    "    elif 1122<=num<=121:\n",
    "        m=print(name,'你是射手座')\n",
    "    elif 1222<=num<=1231 or 11<=num<=120:\n",
    "        m=print(name,'你是摩羯座')\n",
    "    elif 121<=num<=219:\n",
    "        m=print(name,'你是水瓶座')\n",
    "    elif 220<=num<=320:\n",
    "        m=print(name,'你是双鱼座')\n",
    "    else:\n",
    "        m=print('输入错误')\n",
    "    return m\n",
    "\n",
    "name=input('请输入你的名字')\n",
    "star(1120)"
   ]
  },
  {
   "cell_type": "code",
   "execution_count": 34,
   "metadata": {},
   "outputs": [
    {
     "name": "stdout",
     "output_type": "stream",
     "text": [
      "请输入一个单词bus\n",
      "buses\n"
     ]
    }
   ],
   "source": [
    "def plur(string):\n",
    "    if string.endswith('s'or'sh'or'ch'):\n",
    "        n=(string+'es')\n",
    "    elif string.endswith('x'):\n",
    "        n=(string+'ves')\n",
    "    elif string.endswith('f'or'fe'):\n",
    "        n=(string[:-1]+'ves')\n",
    "    elif string.endswith('y'):\n",
    "        n=(string[:-1]+'ies')\n",
    "    else:\n",
    "        print(string+'s')\n",
    "    return n\n",
    "    \n",
    "string=input('请输入一个单词')\n",
    "print(plur(string))"
   ]
  },
  {
   "cell_type": "markdown",
   "metadata": {},
   "source": [
    "挑战性练习：写程序，可以求从整数m到整数n累加的和，间隔为k，求和部分需用函数实现，主程序中由用户输入m，n，k调用函数验证正确性。"
   ]
  },
  {
   "cell_type": "code",
   "execution_count": 3,
   "metadata": {},
   "outputs": [
    {
     "name": "stdout",
     "output_type": "stream",
     "text": [
      "请输入一个整数10\n",
      "请再输入一个整数50\n",
      "请输入间隔2\n",
      "630\n"
     ]
    }
   ],
   "source": [
    "def mul(m,n,k):\n",
    "    total=0\n",
    "    i=0\n",
    "    while m+k*i<=n:\n",
    "        x=m+k*i\n",
    "        total=total+x\n",
    "        i=i+1\n",
    "    return total\n",
    "\n",
    "m=int(input('请输入一个整数'))\n",
    "n=int(input('请再输入一个整数'))\n",
    "k=int(input('请输入间隔'))\n",
    "\n",
    "print(mul(m,n,k))"
   ]
  },
  {
   "cell_type": "code",
   "execution_count": null,
   "metadata": {
    "collapsed": true
   },
   "outputs": [],
   "source": []
  },
  {
   "cell_type": "code",
   "execution_count": null,
   "metadata": {
    "collapsed": true
   },
   "outputs": [],
   "source": []
  },
  {
   "cell_type": "code",
   "execution_count": null,
   "metadata": {
    "collapsed": true
   },
   "outputs": [],
   "source": []
  },
  {
   "cell_type": "code",
   "execution_count": null,
   "metadata": {
    "collapsed": true
   },
   "outputs": [],
   "source": []
  },
  {
   "cell_type": "code",
   "execution_count": null,
   "metadata": {
    "collapsed": true
   },
   "outputs": [],
   "source": []
  },
  {
   "cell_type": "code",
   "execution_count": null,
   "metadata": {
    "collapsed": true
   },
   "outputs": [],
   "source": []
  },
  {
   "cell_type": "code",
   "execution_count": null,
   "metadata": {
    "collapsed": true
   },
   "outputs": [],
   "source": []
  },
  {
   "cell_type": "code",
   "execution_count": null,
   "metadata": {
    "collapsed": true
   },
   "outputs": [],
   "source": []
  },
  {
   "cell_type": "code",
   "execution_count": null,
   "metadata": {
    "collapsed": true
   },
   "outputs": [],
   "source": []
  },
  {
   "cell_type": "code",
   "execution_count": null,
   "metadata": {
    "collapsed": true
   },
   "outputs": [],
   "source": []
  },
  {
   "cell_type": "code",
   "execution_count": null,
   "metadata": {
    "collapsed": true
   },
   "outputs": [],
   "source": []
  },
  {
   "cell_type": "code",
   "execution_count": null,
   "metadata": {
    "collapsed": true
   },
   "outputs": [],
   "source": []
  },
  {
   "cell_type": "code",
   "execution_count": null,
   "metadata": {
    "collapsed": true
   },
   "outputs": [],
   "source": []
  },
  {
   "cell_type": "code",
   "execution_count": null,
   "metadata": {
    "collapsed": true
   },
   "outputs": [],
   "source": []
  },
  {
   "cell_type": "code",
   "execution_count": null,
   "metadata": {
    "collapsed": true
   },
   "outputs": [],
   "source": []
  },
  {
   "cell_type": "code",
   "execution_count": null,
   "metadata": {
    "collapsed": true
   },
   "outputs": [],
   "source": []
  },
  {
   "cell_type": "code",
   "execution_count": null,
   "metadata": {
    "collapsed": true
   },
   "outputs": [],
   "source": []
  }
 ],
 "metadata": {
  "kernelspec": {
   "display_name": "Python 3",
   "language": "python",
   "name": "python3"
  },
  "language_info": {
   "codemirror_mode": {
    "name": "ipython",
    "version": 3
   },
   "file_extension": ".py",
   "mimetype": "text/x-python",
   "name": "python",
   "nbconvert_exporter": "python",
   "pygments_lexer": "ipython3",
   "version": "3.6.2"
  }
 },
 "nbformat": 4,
 "nbformat_minor": 2
}
