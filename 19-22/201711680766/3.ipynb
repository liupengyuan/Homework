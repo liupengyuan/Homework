{
 "cells": [
  {
   "cell_type": "code",
   "execution_count": 1,
   "metadata": {},
   "outputs": [
    {
     "name": "stdout",
     "output_type": "stream",
     "text": [
      "请输入你的名字田梦影\n",
      "请输入你的生日1120\n",
      "田梦影 你是天蝎座\n"
     ]
    }
   ],
   "source": [
    "name=input('请输入你的名字')\n",
    "num=int(input('请输入你的生日'))\n",
    "if 321<=num<=420:\n",
    "    print(name,'你是白羊座')\n",
    "elif 421<=num<=521:\n",
    "    print(name,'你是金牛座')\n",
    "elif 522<=num<=621:\n",
    "    print(name,'你是双子座')\n",
    "elif 622<=num<=721:\n",
    "    print(name,'你是巨蟹座')\n",
    "elif 722<=num<=821:\n",
    "    print(name,'你是狮子座')\n",
    "elif 822<=num<=921:\n",
    "    print(name,'你是处女座')\n",
    "elif 922<=num<=1021:\n",
    "    print(name,'你是天秤座')\n",
    "elif 1022<=num<=1121:\n",
    "    print(name,'你是天蝎座')\n",
    "elif 1122<=num<=121:\n",
    "    print(name,'你是射手座')\n",
    "elif 1222<=num<=1231 or 11<=num<=120:\n",
    "    print(name,'你是摩羯座')\n",
    "elif 121<=num<=219:\n",
    "    print(name,'你是水瓶座')\n",
    "elif 220<=num<=320:\n",
    "    print(name,'你是双鱼座')"
   ]
  },
  {
   "cell_type": "code",
   "execution_count": 1,
   "metadata": {},
   "outputs": [
    {
     "name": "stdout",
     "output_type": "stream",
     "text": [
      "请输入任意数字3\n",
      "请输入0以外的数字4\n",
      "求和请输入1,乘积请输入2，求余数请输入3，否侧将计算m整除n的值1\n",
      "7\n"
     ]
    }
   ],
   "source": [
    "m=int(input('请输入任意数字'))\n",
    "n=int(input('请输入0以外的数字'))\n",
    "total=0\n",
    "mul=1\n",
    "a=int(input('求和请输入1,乘积请输入2，求余数请输入3，否侧将计算m整除n的值'))\n",
    "if a==1:\n",
    "    if m<n:\n",
    "        while m<=n:\n",
    "            total=total+m\n",
    "            m=m+1\n",
    "        print(total)\n",
    "    elif m>n:\n",
    "        while n<=m:\n",
    "            total=total+n\n",
    "        print(total)\n",
    "    else:\n",
    "        print(m+n)\n",
    "elif a==2:\n",
    "    if m<n:\n",
    "        while m<=n:\n",
    "            mul*m\n",
    "            m=m+1\n",
    "        print(mul)\n",
    "    elif m>n:\n",
    "        while n<=m:\n",
    "            mul*=n\n",
    "            n=n+1\n",
    "        print(mul)\n",
    "    else:\n",
    "        print(m*n)\n",
    "elif a==3:\n",
    "    print(m%n)\n",
    "else:\n",
    "    print(m//n)"
   ]
  },
  {
   "cell_type": "code",
   "execution_count": 8,
   "metadata": {},
   "outputs": [
    {
     "name": "stdout",
     "output_type": "stream",
     "text": [
      "随意输入数字打印空行8\n",
      "\n"
     ]
    }
   ],
   "source": [
    "m=int(input('随意输入数字打印空行'))\n",
    "print()"
   ]
  },
  {
   "cell_type": "code",
   "execution_count": 3,
   "metadata": {},
   "outputs": [
    {
     "name": "stdout",
     "output_type": "stream",
     "text": [
      "请输入要输入的整数个数4\n",
      "请输入一个整数1\n",
      "请输入一个整数3\n",
      "请输入一个整数4\n",
      "请输入一个整数5\n"
     ]
    }
   ],
   "source": [
    "m=int(input('请输入要输入的整数个数'))\n",
    "i=1\n",
    "a=int(input('请输入一个整数'))\n",
    "max_1=0\n",
    "max_2=0\n",
    "while i<m:\n",
    "    b=int(input('请输入一个整数'))\n",
    "    i+=1\n",
    "    if i%2==0 and a>b:\n",
    "        max_1=a\n",
    "    if i%2==0 and b>a:\n",
    "        max_1=b\n",
    "    if i%2!=0 and a>b:\n",
    "        max_2=a\n",
    "    if i%2==0 and b>a:\n",
    "        max_2=b\n",
    "if max_1>max_2:\n",
    "    print(max_2)\n",
    "if max_1<max_2:\n",
    "    print(max_1)"
   ]
  },
  {
   "cell_type": "code",
   "execution_count": 4,
   "metadata": {},
   "outputs": [
    {
     "name": "stdout",
     "output_type": "stream",
     "text": [
      "请输入一个英文单词（单数形式）bus\n"
     ]
    },
    {
     "ename": "AttributeError",
     "evalue": "'str' object has no attribute 'endwith'",
     "output_type": "error",
     "traceback": [
      "\u001b[1;31m---------------------------------------------------------------------------\u001b[0m",
      "\u001b[1;31mAttributeError\u001b[0m                            Traceback (most recent call last)",
      "\u001b[1;32m<ipython-input-4-ffce82b0ac54>\u001b[0m in \u001b[0;36m<module>\u001b[1;34m()\u001b[0m\n\u001b[0;32m      1\u001b[0m \u001b[0mstring\u001b[0m\u001b[1;33m=\u001b[0m\u001b[0minput\u001b[0m\u001b[1;33m(\u001b[0m\u001b[1;34m'请输入一个英文单词（单数形式）'\u001b[0m\u001b[1;33m)\u001b[0m\u001b[1;33m\u001b[0m\u001b[0m\n\u001b[1;32m----> 2\u001b[1;33m \u001b[1;32mif\u001b[0m \u001b[0mstring\u001b[0m\u001b[1;33m.\u001b[0m\u001b[0mendwith\u001b[0m\u001b[1;33m(\u001b[0m\u001b[1;34m's'\u001b[0m\u001b[1;32mor\u001b[0m\u001b[1;34m'sh'\u001b[0m\u001b[1;32mor\u001b[0m\u001b[1;34m'ch'\u001b[0m\u001b[1;33m)\u001b[0m\u001b[1;33m:\u001b[0m\u001b[1;33m\u001b[0m\u001b[0m\n\u001b[0m\u001b[0;32m      3\u001b[0m     \u001b[0mprint\u001b[0m\u001b[1;33m(\u001b[0m\u001b[0mstring\u001b[0m\u001b[1;33m+\u001b[0m\u001b[1;34m'es'\u001b[0m\u001b[1;33m)\u001b[0m\u001b[1;33m\u001b[0m\u001b[0m\n\u001b[0;32m      4\u001b[0m \u001b[1;32melif\u001b[0m \u001b[0mstring\u001b[0m\u001b[1;33m.\u001b[0m\u001b[0mendwith\u001b[0m\u001b[1;33m(\u001b[0m\u001b[1;34m'x'\u001b[0m\u001b[1;33m)\u001b[0m\u001b[1;33m:\u001b[0m\u001b[1;33m\u001b[0m\u001b[0m\n\u001b[0;32m      5\u001b[0m     \u001b[0mprint\u001b[0m\u001b[1;33m(\u001b[0m\u001b[0mstring\u001b[0m\u001b[1;33m+\u001b[0m\u001b[1;34m'ves'\u001b[0m\u001b[1;33m)\u001b[0m\u001b[1;33m\u001b[0m\u001b[0m\n",
      "\u001b[1;31mAttributeError\u001b[0m: 'str' object has no attribute 'endwith'"
     ]
    }
   ],
   "source": [
    "string=input('请输入一个英文单词（单数形式）')\n",
    "if string.endwith('s'or'sh'or'ch'):\n",
    "    print(string+'es')\n",
    "elif string.endwith('x'):\n",
    "    print(string+'ves')\n",
    "elif string.endwith('f'or'fe'):\n",
    "    print(string[:-1]+'ves')\n",
    "elif string.endwith('y'):\n",
    "    print(string[:-1]+'ies')\n",
    "else:\n",
    "    print(string+'s')"
   ]
  },
  {
   "cell_type": "code",
   "execution_count": null,
   "metadata": {
    "collapsed": true
   },
   "outputs": [],
   "source": []
  }
 ],
 "metadata": {
  "kernelspec": {
   "display_name": "Python 3",
   "language": "python",
   "name": "python3"
  },
  "language_info": {
   "codemirror_mode": {
    "name": "ipython",
    "version": 3
   },
   "file_extension": ".py",
   "mimetype": "text/x-python",
   "name": "python",
   "nbconvert_exporter": "python",
   "pygments_lexer": "ipython3",
   "version": "3.6.2"
  }
 },
 "nbformat": 4,
 "nbformat_minor": 2
}
