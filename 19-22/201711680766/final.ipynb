{
 "cells": [
  {
   "cell_type": "code",
   "execution_count": 26,
   "metadata": {},
   "outputs": [
    {
     "name": "stdout",
     "output_type": "stream",
     "text": [
      "    * ***** *     \n",
      "   * * ***** * *    \n",
      "  * * * ***** * * *   \n",
      " * * * * ***** * * * *  \n",
      "* * * * * ***** * * * * * \n"
     ]
    }
   ],
   "source": [
    "def picture(x,y):\n",
    "    for i in range(y+1):\n",
    "        if i==0:\n",
    "            pass\n",
    "        else:\n",
    "            print(' '*(y-i)+(x+' ')*i+(x*5)+' '+(x+' ')*i+' '*(y-i),end='')\n",
    "            print()\n",
    "picture('*',5)"
   ]
  },
  {
   "cell_type": "code",
   "execution_count": 38,
   "metadata": {},
   "outputs": [
    {
     "name": "stdout",
     "output_type": "stream",
     "text": [
      "[[[5, [4, [3, [2, [1, 1]]]]], [[4, [3, [2, [1, 1]]]], [[3, [2, [1, 1]]], [[2, [1, 1]], [[1, 1], 1]]]]], [[[4, [3, [2, [1, 1]]]], [[3, [2, [1, 1]]], [[2, [1, 1]], [[1, 1], 1]]]], [[[3, [2, [1, 1]]], [[2, [1, 1]], [[1, 1], 1]]], [[[2, [1, 1]], [[1, 1], 1]], [[[1, 1], 1], 1]]]]]\n"
     ]
    }
   ],
   "source": [
    "def Ackermann(m,n):\n",
    "    A=[]\n",
    "    if m==0:\n",
    "        n+=1\n",
    "        return n\n",
    "    elif m>0 and n ==0:\n",
    "        A=[Ackermann(m-1,n),1]\n",
    "        return A\n",
    "    elif m>0  and n>0:\n",
    "        A=[Ackermann(m-1,n),Ackermann(m,n-1)]\n",
    "        return A\n",
    "    \n",
    "print(Ackermann(3,4))\n",
    "        \n",
    "        \n",
    "    "
   ]
  },
  {
   "cell_type": "code",
   "execution_count": 4,
   "metadata": {},
   "outputs": [
    {
     "name": "stdout",
     "output_type": "stream",
     "text": [
      "22*8\n",
      "13*3\n",
      "3*18\n",
      "15+16\n"
     ]
    }
   ],
   "source": [
    "import random\n",
    "i=0\n",
    "result_list=[]\n",
    "while i<4:\n",
    "    first_number=random.randint(3,26)\n",
    "    second_number=random.randint(3,26)\n",
    "    line='+-*/'\n",
    "    rule=random.choice(line)\n",
    "    print(first_number,end='')\n",
    "    print(rule,end='')\n",
    "    print(second_number)\n",
    "    if rule=='+':\n",
    "        result=(first_number+second_number)\n",
    "    elif rule=='*':\n",
    "        result=(first_number*second_number)\n",
    "    elif rule=='/':\n",
    "        result=(first_number/second_number)\n",
    "        if float(result)==False:\n",
    "            print('请重试')\n",
    "    else:\n",
    "        result=(first_number-second_number)\n",
    "        if result<0:\n",
    "            print('请重试')\n",
    "    i+=1\n",
    "    result_list.append(result)"
   ]
  },
  {
   "cell_type": "code",
   "execution_count": 6,
   "metadata": {},
   "outputs": [
    {
     "name": "stdout",
     "output_type": "stream",
     "text": [
      "请输入四道题的答案1,2,3,4\n",
      "0\n"
     ]
    }
   ],
   "source": [
    "score=0\n",
    "answer=list(input('请输入四道题的答案'))\n",
    "if result_list[0]==answer[0]:\n",
    "    score+=10\n",
    "    if result_list[1]==answer[1]:\n",
    "        score+=10\n",
    "        if result_list[2]==answer[2]:\n",
    "            score+=10\n",
    "            if result_list[3]==answer[3]:\n",
    "                score+=31\n",
    "print(score)"
   ]
  },
  {
   "cell_type": "code",
   "execution_count": 5,
   "metadata": {},
   "outputs": [
    {
     "name": "stdout",
     "output_type": "stream",
     "text": [
      "请输入想输入的题目个数10\n",
      "请输入第一个数字1\n",
      "请输入运算法则+\n",
      "请输入第二个数字2\n",
      "3\n",
      "请输入第一个数字9\n",
      "请输入运算法则*\n",
      "请输入第二个数字9\n",
      "81\n",
      "请输入第一个数字10\n",
      "请输入运算法则-1\n",
      "请输入第二个数字-1\n",
      "11\n",
      "请输入第一个数字2\n",
      "请输入运算法则/\n",
      "请输入第二个数字2\n",
      "1.0\n",
      "请输入第一个数字9\n",
      "请输入运算法则+\n",
      "请输入第二个数字2\n",
      "11\n",
      "请输入第一个数字99\n",
      "请输入运算法则-\n",
      "请输入第二个数字11\n",
      "88\n",
      "请输入第一个数字99\n",
      "请输入运算法则+1\n",
      "请输入第二个数字1\n",
      "98\n",
      "请输入第一个数字87\n",
      "请输入运算法则+\n",
      "请输入第二个数字1\n",
      "88\n",
      "请输入第一个数字0\n",
      "请输入运算法则+\n",
      "请输入第二个数字2\n",
      "2\n",
      "请输入第一个数字3\n",
      "请输入运算法则+\n",
      "请输入第二个数字2\n",
      "5\n",
      "60\n"
     ]
    }
   ],
   "source": [
    "n=int(input('请输入想输入的题目个数'))\n",
    "score=0\n",
    "for i in range(n):\n",
    "    first_number=int(input('请输入第一个数字'))\n",
    "    rule=str(input('请输入运算法则'))\n",
    "    second_number=int(input('请输入第二个数字'))\n",
    "    if rule=='+':\n",
    "        result=(first_number+second_number)\n",
    "        print(result)\n",
    "        score+=5\n",
    "    elif rule=='*':\n",
    "        result=(first_number*second_number)\n",
    "        print(result)\n",
    "        score+=10\n",
    "    elif rule=='/':\n",
    "        result=(first_number/second_number)\n",
    "        print(result)\n",
    "        score+=10\n",
    "        if float(result)==False:\n",
    "            print('请重试')\n",
    "    else:\n",
    "        result=(first_number-second_number)\n",
    "        print(result)\n",
    "        score+=5\n",
    "        if result<0:\n",
    "            print('请重试')\n",
    "print(score)\n",
    "    \n",
    "    "
   ]
  },
  {
   "cell_type": "code",
   "execution_count": 26,
   "metadata": {},
   "outputs": [
    {
     "name": "stdout",
     "output_type": "stream",
     "text": [
      "{'风华绝代、', '火中取栗、', '蛛丝马迹、', '狡兔三窟、', '无与伦比、', '文过饰非、', '亡羊补牢、', '树欲静而风不止、', '天府之国、', '无可厚非、', '百里挑一、', '踌躇满志、', '插翅难逃、', '遇人不淑', '阳春白雪、', '望穿秋水、', '买椟还珠、', '自相矛盾、', '哭笑不得、', '衣香鬓影、', '饮食男女、', '万马齐喑、', '阿猫阿狗、', '钟鸣鼎食、', '而立之年、', '名副其实、', '小时了了、', '有的放矢、', '梨花带雨、', '大智若愚', '单刀直入、', '难兄难弟、', '小家碧玉、', '安步当车、', '荦荦大端、', '舍我其谁、', '以儆效尤、', '心照不宣、', '酸甜苦辣、', '逃之夭夭、', '马到功成、', '甘心情愿、', '飞蛾扑火、', '天之骄子、', '戛然而止、', '迷途知返', '不可名状、', '鹤立鸡群、', '鬼迷心窍、', '杯水车薪、', '登峰造极、', '参差不齐', '三教九流、', '滥竽充数、', '风声鹤唳、', '鹏程万里、', '觥筹交错、', '干柴烈火、', '高朋满座、', '狭路相逢、', '宁缺毋滥、', '赤子之心', '血战到底、', '物极必反、', '插科打诨、', '颠倒乾坤、', '长生不死、', '重见天日、', '甚嚣尘上、', '数典忘祖、', '待字闺中、', '乐不思蜀、', '外强中干、', '日日夜夜、', '勇往直前、', '吹毛求疵、', '叶公好龙、', '毛遂自荐、', '人情世故、', '一生一世、', '振聋发聩、', '亢龙有悔、', '温文尔雅、', '女娲补天、', '盲人摸象、', '海枯石烂、', '愚公移山、', '墨守成规、', '两小无猜、', '一飞冲天、', '燕雀安知鸿鹄之志、', '众志成城、', '铩羽而归、', '一石二鸟、', '极乐世界、', '天涯海角、', '一丝不挂、', '循循善诱、', '不亦乐乎、', '无可奈何花落去、', '物竞天择', '青天白日、', '丧心病狂、', '形影不离、', '举重若轻、', '借刀杀人、', '空城计、', '嗤之以鼻、', '情非得已、', '坐井观天、', '纵横天下、', '天方夜谭、', '没完没了、', '相得益彰、', '丹凤朝阳、', '义无反顾、', '分道扬镳、', '好好先生、', '闭门造车、', '里程碑、', '万家灯火、', '青山不老、', '天作之合、', '川流不息、', '香草美人、', '无忧无虑、', '水至清则无鱼、', '草木皆兵、', '千钧一发、', '绿树成荫、', '朝令夕改、', '锲而不舍、', '马首是瞻、', '魑魅魍魉、', '锱铢必较、', '盘古开天地、', '谈笑风生、', '琴棋书画、', '明日黄花、', '秀色可餐、', '出水芙蓉', '大器晚成、', '瓜田李下、', '四面楚歌、', '惊弓之鸟、', '亦步亦趋、', '张灯结彩、', '首鼠两端、', '色厉内荏、', '七情六欲、', '耳提面命、', '鞠躬尽瘁、', '五子登科、', '飞龙在天、', '刚愎自用、', '安居乐业、', '空穴来风、', '花花公子、', '白云苍狗、', '九关虎豹、', '琳琅满目、', '画地为牢、', '东山再起、', '九五之尊、', '巫山云雨、', '群雄逐鹿、', '行尸走肉、', '水漫金山、', '白手起家、', '大快朵颐、', '道貌岸然、', '名扬四海、', '迫在眉睫、', '口是心非、', '不卑不亢、', '花容月貌、', '心如刀割、', '天下为公、', '豁然开朗、', '事半功倍、', '偷天换日、', '春暖花开、', '垂帘听政、', '断章取义、', '行百里者半九十、', '沽名钓誉、', '周瑜打黄盖', '闻过则喜、', '名胜古迹、', '见微知著、', '金玉良缘、', '苛政猛于虎、', '人来人往、', '甜言蜜语、', '河东狮吼、', '精忠报国、', '想入非非、', '落叶归根、', '世外桃源、', '喜闻乐见', '至理名言、', '穿针引线、', '莫衷一是、', '诸子百家、', '周而复始、', '耿耿于怀、', '回光返照、', '筚路蓝缕、', '金刚怒目、', '虚与委蛇、', '持之以恒、', '战无不胜、', '王侯将相、', '高楼大厦、', '围魏救赵、', '人琴俱亡、', '前仆后继、', '破釜沉舟、', '九九归一、', '龙潭虎穴、', '无为而治、', '醉生梦死、', '学富五车、', '金蝉脱壳、', '后会无期、', '知法犯法、', '暗度陈仓、', '牛郎织女、', '为虎作伥、', '鹤唳华亭、', '欲擒故纵、', '耳濡目染、', '谢天谢地、', '五花大绑、', '叱咤风云、', '龙飞凤舞、', '五十步笑百步、', '左右逢源、', '不惑之年', '水性杨花', '擎天柱、', '风花雪月、', '春风化雨、', '东张西望、', '龙虎风云、', '江山如画、', '天伦之乐、', '此地无银三百两、', '时过境迁、', '以德服人、', '潜移默化', '左道旁门、', '十字路口、', '异想天开、', '壮士断腕、', '身体力行、', '过犹不及、', '卧薪尝胆、', '鬼哭神嚎、', '望尘莫及、', '烟雨蒙蒙、', '杞人忧天、', '差强人意、', '不以为然、', '簪缨世族、', '叹为观止、', '集腋成裘、', '奇货可居、', '相亲相爱、', '风驰电掣、', '大开眼界、', '班门弄斧、', '铁树开花、', '优柔寡断、', '天高地厚、', '风卷残云、', '声名狼藉、', '今生今世、', '三皇五帝、', '金戈铁马、', '君子之交淡如水、', '本末倒置、', '泾渭分明、', '络绎不绝、', '牛头马面、', '逐鹿中原、', '狗尾续貂、', '天下无双、', '千军万马、', '萍水相逢、', '栉风沐雨、', '柳暗花明、', '白驹过隙、', '自惭形秽、', '随心所欲、', '颐指气使、', '吴下阿蒙', '无法无天、', '浪子回头金不换、', '雷霆万钧、', '枪林弹雨、', '绘声绘色、', '以德报怨、', '国士无双、', '头晕目眩、', '天罗地网、', '三位一体、', '黄金时代、', '一马平川、', '百年好合、', '逝者如斯、', '胡服骑射、', '棋逢对手、', '天上人间、', '宠辱不惊、', '孟母三迁、', '四海一家、', '矢志不渝、', '不落窠臼、', '龙马精神、', '不言而喻、', '弄假成真、', '飘飘欲仙、', '水木清华、', '捉襟见肘、', '相见恨晚、', '锦上添花、', '蔚然成风、', '亭亭玉立、', '好事多磨、', '爱屋及乌、', '退避三舍、', '回眸一笑、', '一叶知秋、', '风起云涌、', '踽踽独行、', '相濡以沫、', '新亭对泣、', '焚膏继晷、', '风和日丽、', '守株待兔、', '乐此不疲、', '图穷匕见、', '峰回路转、', '有凤来仪、', '出神入化、', '青梅竹马、', '不知所措、', '藕断丝连、', '龙争虎斗、', '汗牛充栋、', '聊胜于无、', '文不加点、', '自由自在、', '巴山夜雨、', '咫尺天涯、', '窈窕淑女', '炙手可热、', '姗姗来迟、', '义薄云天、', '气喘吁吁、', '兵临城下、', '如履薄冰、', '连锁反应、', '背水一战、', '万里长城、', '可见一斑、', '龙凤呈祥、', '沧海一粟、', '生财有道、', '按图索骥、', '贻笑大方、', '男大当婚、', '对牛弹琴、', '鞭长莫及、', '尽善尽美、', '大江东去、', '昙花一现、', '劝百讽一、', '一丘之貉、', '浮光掠影、', '不绝如缕、', '救世主、', '掩耳盗铃、', '矫枉过正、', '一鸣惊人、', '神机妙算、', '欲盖弥彰、', '绘声绘影、', '自欺欺人、', '千方百计、', '别来无恙、', '历历在目、', '人山人海、', '唇亡齿寒、', '肝胆相照、', '釜底抽薪、', '三从四德', '掌上明珠、', '舌战群儒、', '喜出望外、', '欣欣向荣、', '牝鸡司晨、', '风尘仆仆、', '涸辙之鲋、', '侃侃而谈、', '天下无敌、', '尸位素餐、', '一马当先、', '妄自菲薄、', '雨过天晴、', '金风玉露、', '放荡不羁', '厚德载物、', '欢聚一堂、', '勿谓言之不预也、', '一事无成、', '时光荏苒、', '唯我独尊、', '庖丁解牛、', '纸醉金迷、', '鞭辟入里、', '断袖之癖、', '今非昔比、', '横扫千军、', '惊鸿一瞥、', '自怨自艾、', '三人成虎、', '当仁不让、', '二桃杀三士', '鬼话连篇、', '凤凰于飞、', '精卫填海、', '竭泽而渔、', '惊涛骇浪、', '巾帼英雄、', '程门立雪、', '病入膏肓、', '万箭穿心、', '斗酒学士、', '将心比心、', '卧虎藏龙、', '安然无恙、', '风华正茂、', '鸠占鹊巢、', '殊途同归、', '平步青云、', '相敬如宾、', '金童玉女、', '山雨欲来风满楼、', '忍俊不禁、', '一路顺风、', '三阳开泰、', '丑八怪、', '霸王别姬、', '干将莫邪、', '南辕北辙、', '壮志凌云、', '随波逐流、', '老马识途、', '不吐不快、', '塞翁失马、', '红颜知己、', '过五关斩六将、', '白虹贯日、', '金枝玉叶、', '一见钟情、', '斗转星移、', '如火如荼、', '声色犬马、', '乘风破浪、', '迫不及待、', '全力以赴、', '睚眦必报', '岂有此理、', '门可罗雀、', '六道轮回、', '君子好逑、', '贤妻良母、', '覆雨翻云、', '眼花缭乱、', '礼仪之邦、', '画蛇添足、', '言简意赅、', '车水马龙、', '金玉满堂、', '苦心孤诣、', '曾几何时、', '不一而足、', '李代桃僵、', '白马非马、', '歧路亡羊、', '眉飞色舞、', '一蹴而就、', '粉墨登场、', '惺惺相惜、', '义愤填膺、', '分庭抗礼、', '龙生九子、', '纷至沓来、', '司空见惯、', '悬梁刺股、', '众矢之的、', '养生之道、', '赶尽杀绝、', '风月无边、', '克己复礼、', '厉兵秣马、', '绕梁三日、', '点石成金、', '念念不忘、', '衣冠楚楚、', '皆大欢喜、', '望洋兴叹、', '心力衰竭、', '挑肥拣瘦、', '笑逐颜开、', '纸上谈兵、', '岁寒三友、', '心有余悸、', '镜花水月、', '有恃无恐、', '沆瀣一气、', '树大根深、', '旗鼓相当、', '马到成功、', '移花接木、', '无动于衷、', '花团锦簇、', '衣冠禽兽、', '夜郎自大、', '节哀顺变、', '开源节流', '毛骨悚然、', '难得糊涂、', '劫后余生、', '飞黄腾达、', '千锤百炼、', '出生入死、', '目无全牛、', '进退维谷、', '人心不足蛇吞象', '沉鱼落雁、', '人心不古、', '吃喝玩乐、', '空谷幽兰、', '朝三暮四、', '云淡风轻、', '石破天惊、', '孜孜不倦、', '蝇营狗苟、', '郑人买履', '开门见山、', '马踏飞燕、', '杏雨梨云、', '插翅难飞、', '柳暗花明又一村、', '惊天动地、', '诚惶诚恐、', '星火燎原、', '囊萤映雪、', '曲突徙薪、', '夏虫不可以语冰、', '风雨无阻、', '望其项背、', '所向披靡、', '杯弓蛇影、', '海阔天空、', '女扮男装、', '三山五岳、', '有问必答、', '因果报应、', '落花流水、', '来历不明、', '穷兵黩武、', '字字珠玑、', '阿鼻地狱、', '满腹经纶、', '情不自禁、', '百鸟朝凤、', '凤毛麟角、', '波涛汹涌、', '韬光养晦、', '多多益善、', '海市蜃楼、', '患得患失、', '约法三章、', '江郎才尽、', '求全责备、', '冲锋陷阵、', '饮鸩止渴、', '五湖四海、', '万马奔腾、', '大禹治水、', '韦编三绝、', '入木三分、', '居安思危、', '缘木求鱼、', '投鼠忌器、', '回心转意、', '高屋建瓴、', '肆无忌惮、', '天衣无缝、', '浮生若梦、', '钟灵毓秀、', '绝处逢生、', '若即若离、', '指鹿为马、', '沐猴而冠、', '无价之宝、', '栩栩如生、', '黔驴技穷、', '黄道吉日、', '逍遥法外', '高山流水、', '步步为营、', '甘之如饴、', '朝秦暮楚、', '门当户对、', '敬谢不敏、', '国色天香、', '金屋藏娇、', '翩翩公子、', '不法之徒、', '能说会道、', '鹰击长空、', '秦晋之好、', '秋风落叶、', '心有灵犀一点通、', '中庸之道、', '马革裹尸、', '相形见绌、', '十万火急、', '不求甚解、', '兔死狐悲、', '天网恢恢、', '妙手空空、', '完璧归赵、', '一帆风顺、', '富贵不能淫', '心如止水、', '桃之夭夭、', '运筹帷幄、', '紫气东来、', '不约而同', '返璞归真、', '春华秋实、', '水落石出、', '珠光宝气、', '噤若寒蝉、', '浪迹天涯、', '一网打尽、', '露水夫妻、', '虎视眈眈、', '贼眉鼠眼、', '随遇而安、', '一往无前、', '倾国倾城、', '讳莫如深、', '败家子、', '拔苗助长、', '永无止境、', '花好月圆、', '凿壁偷光、', '骇人听闻、', '茕茕孑立、', '兄弟阋墙、', '九死一生、', '身不由己、', '心猿意马、', '万人空巷、', '花花世界、', '大浪淘沙、', '负荆请罪、', '上下其手、', '闻鸡起舞、', '纵横捭阖、', '一诺千金、', '春秋笔法', '怙恶不悛、', '淋漓尽致、', '监守自盗、', '天马行空、', '殚精竭虑、', '见贤思齐、', '天长地久、', '因地制宜、', '自强不息、', '狐假虎威、', '再接再厉、', '福星高照、', '休戚相关、', '鳞次栉比、', '争分夺秒、', '总而言之、', '越俎代庖、', '铁石心肠、', '未雨绸缪、', '从善如流、', '桀骜不驯、', '英雄豪杰、', '沧海桑田、', '水滴石穿、', '同仇敌忾、', '草船借箭、', '欢天喜地、', '冠冕堂皇、', '滔滔不绝、', '根深蒂固、', '雾里看花、', '南柯一梦', '任重道远、', '一叶障目、', '中流砥柱、', '沁人心脾、', '画龙点睛、', '邯郸学步、', '防微杜渐、', '暴殄天物、', '美人计、', '虚怀若谷、', '不耻下问、', '出人头地、', '抛砖引玉、', '面面相觑、', '和光同尘、', '走马观花、', '井底之蛙、', '无懈可击、', '八仙过海、', '无地自容、', '卧冰求鲤、', '原来如此、', '袖手旁观、', '玩世不恭、', '不可一世、', '鬼斧神工、', '称心如意、', '摸金校尉、', '脱颖而出、', '得陇望蜀、', '小心翼翼、', '珠联璧合、', '时来运转、', '高山仰止、', '望梅止渴、', '世态炎凉、', '美轮美奂、', '心旷神怡、', '人生如梦、', '兢兢业业、', '作茧自缚、', '人面桃花、', '横行霸道、', '登堂入室、', '一丝不苟、', '风流韵事、', '人浮于事、', '熙熙攘攘、', '潸然泪下、'}\n"
     ]
    }
   ],
   "source": [
    "with open(r'd:\\temp\\idioms.txt') as f:\n",
    "    A= set()\n",
    "    for line in f:\n",
    "        A |= {word.split('/')[0] for word in line.split()}\n",
    "print(A)"
   ]
  },
  {
   "cell_type": "code",
   "execution_count": 25,
   "metadata": {},
   "outputs": [
    {
     "name": "stdout",
     "output_type": "stream",
     "text": [
      "['不一而足、', '庖丁解牛、', '十万火急、', '朝三暮四、', '天上人间、', '掌上明珠、', '纸上谈兵、', '锦上添花、', '天下无双、', '天下无敌、', '上下其手、', '天下为公、', '吴下阿蒙', '情不自禁、', '乐不思蜀、', '身不由己、', '文不加点、', '迫不及待、', '虚与委蛇、', '无与伦比、']\n"
     ]
    }
   ],
   "source": [
    "from collections import Counter\n",
    "\n",
    "def count_words_freq_dict(filename):\n",
    "    words_freq_dict = Counter()\n",
    "    \n",
    "    with open(filename) as f:\n",
    "        for line in f:\n",
    "            words_freq_dict.update([word.split('/')[0] for word in line.split()])\n",
    "    return words_freq_dict\n",
    "\n",
    "filename=r'd:\\temp\\idioms.txt'\n",
    "table=count_words_freq_dict(filename)\n",
    "\n",
    "from operator import itemgetter\n",
    "x=sorted(table,key=itemgetter(1))\n",
    "print(x[:20])\n"
   ]
  },
  {
   "cell_type": "code",
   "execution_count": 32,
   "metadata": {},
   "outputs": [
    {
     "ename": "TypeError",
     "evalue": "'builtin_function_or_method' object is not subscriptable",
     "output_type": "error",
     "traceback": [
      "\u001b[1;31m---------------------------------------------------------------------------\u001b[0m",
      "\u001b[1;31mTypeError\u001b[0m                                 Traceback (most recent call last)",
      "\u001b[1;32m<ipython-input-32-9f1a5811c8a7>\u001b[0m in \u001b[0;36m<module>\u001b[1;34m()\u001b[0m\n\u001b[0;32m      6\u001b[0m         \u001b[0mc\u001b[0m\u001b[1;33m=\u001b[0m\u001b[1;33m[\u001b[0m\u001b[1;33m]\u001b[0m\u001b[1;33m\u001b[0m\u001b[0m\n\u001b[0;32m      7\u001b[0m     \u001b[1;32mfor\u001b[0m \u001b[0mcx\u001b[0m \u001b[1;32min\u001b[0m  \u001b[0mkind\u001b[0m\u001b[1;33m:\u001b[0m\u001b[1;33m\u001b[0m\u001b[0m\n\u001b[1;32m----> 8\u001b[1;33m         \u001b[0md\u001b[0m\u001b[1;33m=\u001b[0m\u001b[0mcx\u001b[0m\u001b[1;33m,\u001b[0m\u001b[0mall\u001b[0m\u001b[1;33m.\u001b[0m\u001b[0mcount\u001b[0m\u001b[1;33m[\u001b[0m\u001b[0mcx\u001b[0m\u001b[1;33m]\u001b[0m\u001b[1;33m\u001b[0m\u001b[0m\n\u001b[0m\u001b[0;32m      9\u001b[0m         \u001b[0mc\u001b[0m\u001b[1;33m.\u001b[0m\u001b[0mappend\u001b[0m\u001b[1;33m(\u001b[0m\u001b[0md\u001b[0m\u001b[1;33m)\u001b[0m\u001b[1;33m\u001b[0m\u001b[0m\n\u001b[0;32m     10\u001b[0m \u001b[1;33m\u001b[0m\u001b[0m\n",
      "\u001b[1;31mTypeError\u001b[0m: 'builtin_function_or_method' object is not subscriptable"
     ]
    }
   ],
   "source": [
    "with open(r'd:\\temp\\test.txt') as fh:\n",
    "    kind=set()\n",
    "    for line in fh:\n",
    "        all= [word.split('/')[1] for word in line.split()]\n",
    "        kind=set(all)\n",
    "        c=[]\n",
    "    for cx in  kind:\n",
    "        d=cx,all.count[cx]\n",
    "        c.append(d)\n",
    "        print(c)\n",
    "        "
   ]
  },
  {
   "cell_type": "code",
   "execution_count": 40,
   "metadata": {},
   "outputs": [
    {
     "ename": "IndentationError",
     "evalue": "unexpected indent (<ipython-input-40-fa7559f04b91>, line 7)",
     "output_type": "error",
     "traceback": [
      "\u001b[1;36m  File \u001b[1;32m\"<ipython-input-40-fa7559f04b91>\"\u001b[1;36m, line \u001b[1;32m7\u001b[0m\n\u001b[1;33m    if cx=='nr':\u001b[0m\n\u001b[1;37m    ^\u001b[0m\n\u001b[1;31mIndentationError\u001b[0m\u001b[1;31m:\u001b[0m unexpected indent\n"
     ]
    }
   ],
   "source": [
    "with open(r'd:\\temp\\test.txt') as fh:\n",
    "    table=[]\n",
    "    for line in fh:\n",
    "        words=[[word.split( ) for word in line.split()]]\n",
    "    for item in words:\n",
    "        cx=[item.split('/')[1]]\n",
    "            if cx=='nr':\n",
    "                table.append(item[0])\n",
    "print(table)\n",
    "            "
   ]
  },
  {
   "cell_type": "code",
   "execution_count": 32,
   "metadata": {},
   "outputs": [
    {
     "ename": "ValueError",
     "evalue": "I/O operation on closed file.",
     "output_type": "error",
     "traceback": [
      "\u001b[1;31m---------------------------------------------------------------------------\u001b[0m",
      "\u001b[1;31mValueError\u001b[0m                                Traceback (most recent call last)",
      "\u001b[1;32m<ipython-input-32-05250a253dc1>\u001b[0m in \u001b[0;36m<module>\u001b[1;34m()\u001b[0m\n\u001b[0;32m      1\u001b[0m \u001b[0mch_table2\u001b[0m \u001b[1;33m=\u001b[0m\u001b[1;33m[\u001b[0m\u001b[1;33m]\u001b[0m\u001b[1;33m\u001b[0m\u001b[0m\n\u001b[0;32m      2\u001b[0m \u001b[1;32mwith\u001b[0m \u001b[0mopen\u001b[0m\u001b[1;33m(\u001b[0m\u001b[1;34mr'd:\\temp\\test.txt'\u001b[0m\u001b[1;33m,\u001b[0m \u001b[1;34m'w'\u001b[0m\u001b[1;33m)\u001b[0m \u001b[1;32mas\u001b[0m \u001b[0mfw\u001b[0m\u001b[1;33m:\u001b[0m\u001b[1;33m\u001b[0m\u001b[0m\n\u001b[1;32m----> 3\u001b[1;33m     \u001b[0mtext\u001b[0m \u001b[1;33m=\u001b[0m \u001b[0mf\u001b[0m\u001b[1;33m.\u001b[0m\u001b[0mread\u001b[0m\u001b[1;33m(\u001b[0m\u001b[1;33m)\u001b[0m\u001b[1;33m\u001b[0m\u001b[0m\n\u001b[0m\u001b[0;32m      4\u001b[0m     \u001b[0mwords\u001b[0m \u001b[1;33m=\u001b[0m \u001b[1;33m[\u001b[0m\u001b[0mword\u001b[0m\u001b[1;33m.\u001b[0m\u001b[0msplit\u001b[0m\u001b[1;33m(\u001b[0m\u001b[1;34m'/'\u001b[0m\u001b[1;33m)\u001b[0m\u001b[1;33m[\u001b[0m\u001b[1;36m0\u001b[0m\u001b[1;33m]\u001b[0m \u001b[1;32mfor\u001b[0m \u001b[0mword\u001b[0m \u001b[1;32min\u001b[0m \u001b[0mtext\u001b[0m\u001b[1;33m.\u001b[0m\u001b[0msplit\u001b[0m\u001b[1;33m(\u001b[0m\u001b[1;33m)\u001b[0m\u001b[1;33m]\u001b[0m\u001b[1;33m\u001b[0m\u001b[0m\n\u001b[0;32m      5\u001b[0m     \u001b[1;32mfor\u001b[0m \u001b[0mchs\u001b[0m \u001b[1;32min\u001b[0m \u001b[0mwords\u001b[0m\u001b[1;33m:\u001b[0m\u001b[1;33m\u001b[0m\u001b[0m\n",
      "\u001b[1;31mValueError\u001b[0m: I/O operation on closed file."
     ]
    }
   ],
   "source": [
    "ch_table2 =[]\n",
    "with open(r'd:\\temp\\test.txt', 'w') as fw:\n",
    "    text = f.read()\n",
    "    words = [word.split('/')[0] for word in text.split()]\n",
    "    for chs in words:\n",
    "        ch_table1+=chs\n",
    "print(ch_table1)\n",
    "        \n",
    "        \n",
    "ch_table2 =[]\n",
    "for word in A():\n",
    "    for ch in word:\n",
    "        ch_table2 +=ch\n",
    "print(ch_table2)"
   ]
  },
  {
   "cell_type": "code",
   "execution_count": 34,
   "metadata": {},
   "outputs": [
    {
     "name": "stdout",
     "output_type": "stream",
     "text": [
      "第一个成语: 借刀杀人、\n",
      "你:人生\n",
      "对不起,你接龙错误\n",
      "你的得分: 0 电脑的得分: 0\n"
     ]
    }
   ],
   "source": [
    "import random   \n",
    "def game():\n",
    "    computer_score=0\n",
    "    your_score=0\n",
    "    i=1\n",
    "    idiom0=random.choice(idioms)\n",
    "    print('第一个成语:',idiom0)\n",
    "    while i>0:\n",
    "        your_answer=input('你:')\n",
    "        m=len(idiom0)\n",
    "        n=len(your_answer)\n",
    "        x=your_answer[n-1]\n",
    "        y=your_answer[0]\n",
    "        z=idiom0[m-1]\n",
    "        \n",
    "        if your_answer in idioms and y==z :\n",
    "            your_score+=10\n",
    "            computer_idiom=[100]\n",
    "            for idiom in idioms:\n",
    "                if idiom[0]==x:\n",
    "                    computer_idiom.append(idiom)\n",
    "            a=len(computer_idiom)\n",
    "            if a>1:\n",
    "                computer_answer=random.choice(computer_idiom[1:a+1])\n",
    "                computer_score+=10\n",
    "                idiom0=computer_answer\n",
    "                print('电脑:',computer_answer)\n",
    "            else:\n",
    "                i=-1\n",
    "                print('电脑,你输了')\n",
    "        else:\n",
    "            print('对不起,你接龙错误')\n",
    "            i=-1\n",
    "    \n",
    "    print('你的得分:',your_score,'电脑的得分:',computer_score)    \n",
    "#主函数\n",
    "fh=open(r'c:\\temp\\idioms.txt')\n",
    "text=fh.read()\n",
    "idioms = text.split()\n",
    "fh.close() \n",
    "game()"
   ]
  },
  {
   "cell_type": "code",
   "execution_count": null,
   "metadata": {
    "collapsed": true
   },
   "outputs": [],
   "source": []
  },
  {
   "cell_type": "code",
   "execution_count": null,
   "metadata": {
    "collapsed": true
   },
   "outputs": [],
   "source": []
  },
  {
   "cell_type": "code",
   "execution_count": null,
   "metadata": {
    "collapsed": true
   },
   "outputs": [],
   "source": []
  },
  {
   "cell_type": "code",
   "execution_count": null,
   "metadata": {
    "collapsed": true
   },
   "outputs": [],
   "source": []
  },
  {
   "cell_type": "code",
   "execution_count": null,
   "metadata": {
    "collapsed": true
   },
   "outputs": [],
   "source": []
  },
  {
   "cell_type": "code",
   "execution_count": null,
   "metadata": {
    "collapsed": true
   },
   "outputs": [],
   "source": []
  },
  {
   "cell_type": "code",
   "execution_count": null,
   "metadata": {
    "collapsed": true
   },
   "outputs": [],
   "source": []
  },
  {
   "cell_type": "code",
   "execution_count": null,
   "metadata": {
    "collapsed": true
   },
   "outputs": [],
   "source": []
  },
  {
   "cell_type": "code",
   "execution_count": null,
   "metadata": {
    "collapsed": true
   },
   "outputs": [],
   "source": []
  },
  {
   "cell_type": "code",
   "execution_count": null,
   "metadata": {
    "collapsed": true
   },
   "outputs": [],
   "source": []
  },
  {
   "cell_type": "code",
   "execution_count": null,
   "metadata": {
    "collapsed": true
   },
   "outputs": [],
   "source": []
  },
  {
   "cell_type": "code",
   "execution_count": null,
   "metadata": {
    "collapsed": true
   },
   "outputs": [],
   "source": []
  },
  {
   "cell_type": "code",
   "execution_count": null,
   "metadata": {
    "collapsed": true
   },
   "outputs": [],
   "source": []
  },
  {
   "cell_type": "code",
   "execution_count": null,
   "metadata": {
    "collapsed": true
   },
   "outputs": [],
   "source": []
  },
  {
   "cell_type": "code",
   "execution_count": null,
   "metadata": {
    "collapsed": true
   },
   "outputs": [],
   "source": []
  },
  {
   "cell_type": "code",
   "execution_count": null,
   "metadata": {
    "collapsed": true
   },
   "outputs": [],
   "source": []
  },
  {
   "cell_type": "code",
   "execution_count": null,
   "metadata": {
    "collapsed": true
   },
   "outputs": [],
   "source": []
  },
  {
   "cell_type": "code",
   "execution_count": null,
   "metadata": {
    "collapsed": true
   },
   "outputs": [],
   "source": []
  },
  {
   "cell_type": "code",
   "execution_count": null,
   "metadata": {
    "collapsed": true
   },
   "outputs": [],
   "source": []
  },
  {
   "cell_type": "code",
   "execution_count": null,
   "metadata": {
    "collapsed": true
   },
   "outputs": [],
   "source": []
  },
  {
   "cell_type": "code",
   "execution_count": null,
   "metadata": {
    "collapsed": true
   },
   "outputs": [],
   "source": []
  },
  {
   "cell_type": "code",
   "execution_count": null,
   "metadata": {
    "collapsed": true
   },
   "outputs": [],
   "source": []
  },
  {
   "cell_type": "code",
   "execution_count": null,
   "metadata": {
    "collapsed": true
   },
   "outputs": [],
   "source": []
  },
  {
   "cell_type": "code",
   "execution_count": null,
   "metadata": {
    "collapsed": true
   },
   "outputs": [],
   "source": []
  },
  {
   "cell_type": "code",
   "execution_count": null,
   "metadata": {
    "collapsed": true
   },
   "outputs": [],
   "source": []
  },
  {
   "cell_type": "code",
   "execution_count": null,
   "metadata": {
    "collapsed": true
   },
   "outputs": [],
   "source": []
  },
  {
   "cell_type": "code",
   "execution_count": null,
   "metadata": {
    "collapsed": true
   },
   "outputs": [],
   "source": []
  },
  {
   "cell_type": "code",
   "execution_count": null,
   "metadata": {
    "collapsed": true
   },
   "outputs": [],
   "source": []
  },
  {
   "cell_type": "code",
   "execution_count": null,
   "metadata": {
    "collapsed": true
   },
   "outputs": [],
   "source": []
  },
  {
   "cell_type": "code",
   "execution_count": null,
   "metadata": {
    "collapsed": true
   },
   "outputs": [],
   "source": []
  },
  {
   "cell_type": "code",
   "execution_count": null,
   "metadata": {
    "collapsed": true
   },
   "outputs": [],
   "source": []
  },
  {
   "cell_type": "code",
   "execution_count": null,
   "metadata": {
    "collapsed": true
   },
   "outputs": [],
   "source": []
  },
  {
   "cell_type": "code",
   "execution_count": null,
   "metadata": {
    "collapsed": true
   },
   "outputs": [],
   "source": []
  },
  {
   "cell_type": "code",
   "execution_count": null,
   "metadata": {
    "collapsed": true
   },
   "outputs": [],
   "source": []
  },
  {
   "cell_type": "code",
   "execution_count": null,
   "metadata": {
    "collapsed": true
   },
   "outputs": [],
   "source": []
  },
  {
   "cell_type": "code",
   "execution_count": null,
   "metadata": {
    "collapsed": true
   },
   "outputs": [],
   "source": []
  },
  {
   "cell_type": "code",
   "execution_count": null,
   "metadata": {
    "collapsed": true
   },
   "outputs": [],
   "source": []
  },
  {
   "cell_type": "code",
   "execution_count": null,
   "metadata": {
    "collapsed": true
   },
   "outputs": [],
   "source": []
  },
  {
   "cell_type": "code",
   "execution_count": null,
   "metadata": {
    "collapsed": true
   },
   "outputs": [],
   "source": []
  },
  {
   "cell_type": "code",
   "execution_count": null,
   "metadata": {
    "collapsed": true
   },
   "outputs": [],
   "source": []
  },
  {
   "cell_type": "code",
   "execution_count": null,
   "metadata": {
    "collapsed": true
   },
   "outputs": [],
   "source": []
  },
  {
   "cell_type": "code",
   "execution_count": null,
   "metadata": {
    "collapsed": true
   },
   "outputs": [],
   "source": []
  },
  {
   "cell_type": "markdown",
   "metadata": {},
   "source": [
    "## "
   ]
  },
  {
   "cell_type": "code",
   "execution_count": null,
   "metadata": {
    "collapsed": true
   },
   "outputs": [],
   "source": []
  },
  {
   "cell_type": "code",
   "execution_count": null,
   "metadata": {
    "collapsed": true
   },
   "outputs": [],
   "source": []
  },
  {
   "cell_type": "code",
   "execution_count": null,
   "metadata": {
    "collapsed": true
   },
   "outputs": [],
   "source": []
  },
  {
   "cell_type": "code",
   "execution_count": null,
   "metadata": {
    "collapsed": true
   },
   "outputs": [],
   "source": []
  },
  {
   "cell_type": "code",
   "execution_count": null,
   "metadata": {
    "collapsed": true
   },
   "outputs": [],
   "source": []
  },
  {
   "cell_type": "code",
   "execution_count": null,
   "metadata": {
    "collapsed": true
   },
   "outputs": [],
   "source": []
  },
  {
   "cell_type": "code",
   "execution_count": null,
   "metadata": {
    "collapsed": true
   },
   "outputs": [],
   "source": []
  },
  {
   "cell_type": "code",
   "execution_count": null,
   "metadata": {
    "collapsed": true
   },
   "outputs": [],
   "source": []
  },
  {
   "cell_type": "code",
   "execution_count": null,
   "metadata": {
    "collapsed": true
   },
   "outputs": [],
   "source": []
  },
  {
   "cell_type": "code",
   "execution_count": null,
   "metadata": {
    "collapsed": true
   },
   "outputs": [],
   "source": []
  },
  {
   "cell_type": "code",
   "execution_count": null,
   "metadata": {
    "collapsed": true
   },
   "outputs": [],
   "source": []
  },
  {
   "cell_type": "code",
   "execution_count": null,
   "metadata": {
    "collapsed": true
   },
   "outputs": [],
   "source": []
  },
  {
   "cell_type": "code",
   "execution_count": null,
   "metadata": {
    "collapsed": true
   },
   "outputs": [],
   "source": []
  },
  {
   "cell_type": "code",
   "execution_count": null,
   "metadata": {
    "collapsed": true
   },
   "outputs": [],
   "source": []
  },
  {
   "cell_type": "code",
   "execution_count": null,
   "metadata": {
    "collapsed": true
   },
   "outputs": [],
   "source": []
  },
  {
   "cell_type": "code",
   "execution_count": null,
   "metadata": {
    "collapsed": true
   },
   "outputs": [],
   "source": []
  },
  {
   "cell_type": "code",
   "execution_count": null,
   "metadata": {
    "collapsed": true
   },
   "outputs": [],
   "source": []
  },
  {
   "cell_type": "code",
   "execution_count": null,
   "metadata": {
    "collapsed": true
   },
   "outputs": [],
   "source": []
  },
  {
   "cell_type": "code",
   "execution_count": null,
   "metadata": {
    "collapsed": true
   },
   "outputs": [],
   "source": []
  },
  {
   "cell_type": "code",
   "execution_count": null,
   "metadata": {
    "collapsed": true
   },
   "outputs": [],
   "source": []
  },
  {
   "cell_type": "code",
   "execution_count": null,
   "metadata": {
    "collapsed": true
   },
   "outputs": [],
   "source": []
  },
  {
   "cell_type": "code",
   "execution_count": null,
   "metadata": {
    "collapsed": true
   },
   "outputs": [],
   "source": []
  },
  {
   "cell_type": "code",
   "execution_count": null,
   "metadata": {
    "collapsed": true
   },
   "outputs": [],
   "source": []
  },
  {
   "cell_type": "code",
   "execution_count": null,
   "metadata": {
    "collapsed": true
   },
   "outputs": [],
   "source": []
  },
  {
   "cell_type": "code",
   "execution_count": null,
   "metadata": {
    "collapsed": true
   },
   "outputs": [],
   "source": []
  },
  {
   "cell_type": "code",
   "execution_count": null,
   "metadata": {
    "collapsed": true
   },
   "outputs": [],
   "source": []
  },
  {
   "cell_type": "code",
   "execution_count": null,
   "metadata": {
    "collapsed": true
   },
   "outputs": [],
   "source": []
  },
  {
   "cell_type": "code",
   "execution_count": null,
   "metadata": {
    "collapsed": true
   },
   "outputs": [],
   "source": []
  },
  {
   "cell_type": "code",
   "execution_count": null,
   "metadata": {
    "collapsed": true
   },
   "outputs": [],
   "source": []
  },
  {
   "cell_type": "code",
   "execution_count": null,
   "metadata": {
    "collapsed": true
   },
   "outputs": [],
   "source": []
  },
  {
   "cell_type": "code",
   "execution_count": null,
   "metadata": {
    "collapsed": true
   },
   "outputs": [],
   "source": []
  },
  {
   "cell_type": "code",
   "execution_count": null,
   "metadata": {
    "collapsed": true
   },
   "outputs": [],
   "source": []
  },
  {
   "cell_type": "code",
   "execution_count": null,
   "metadata": {
    "collapsed": true
   },
   "outputs": [],
   "source": []
  },
  {
   "cell_type": "code",
   "execution_count": null,
   "metadata": {
    "collapsed": true
   },
   "outputs": [],
   "source": []
  },
  {
   "cell_type": "code",
   "execution_count": null,
   "metadata": {
    "collapsed": true
   },
   "outputs": [],
   "source": []
  },
  {
   "cell_type": "code",
   "execution_count": null,
   "metadata": {
    "collapsed": true
   },
   "outputs": [],
   "source": []
  },
  {
   "cell_type": "code",
   "execution_count": null,
   "metadata": {
    "collapsed": true
   },
   "outputs": [],
   "source": []
  },
  {
   "cell_type": "code",
   "execution_count": null,
   "metadata": {
    "collapsed": true
   },
   "outputs": [],
   "source": []
  },
  {
   "cell_type": "code",
   "execution_count": null,
   "metadata": {
    "collapsed": true
   },
   "outputs": [],
   "source": []
  },
  {
   "cell_type": "code",
   "execution_count": null,
   "metadata": {
    "collapsed": true
   },
   "outputs": [],
   "source": []
  },
  {
   "cell_type": "code",
   "execution_count": null,
   "metadata": {
    "collapsed": true
   },
   "outputs": [],
   "source": []
  },
  {
   "cell_type": "code",
   "execution_count": null,
   "metadata": {
    "collapsed": true
   },
   "outputs": [],
   "source": []
  },
  {
   "cell_type": "code",
   "execution_count": null,
   "metadata": {
    "collapsed": true
   },
   "outputs": [],
   "source": []
  },
  {
   "cell_type": "code",
   "execution_count": null,
   "metadata": {
    "collapsed": true
   },
   "outputs": [],
   "source": []
  },
  {
   "cell_type": "code",
   "execution_count": null,
   "metadata": {
    "collapsed": true
   },
   "outputs": [],
   "source": []
  },
  {
   "cell_type": "code",
   "execution_count": null,
   "metadata": {
    "collapsed": true
   },
   "outputs": [],
   "source": []
  },
  {
   "cell_type": "code",
   "execution_count": null,
   "metadata": {
    "collapsed": true
   },
   "outputs": [],
   "source": []
  },
  {
   "cell_type": "code",
   "execution_count": null,
   "metadata": {
    "collapsed": true
   },
   "outputs": [],
   "source": []
  },
  {
   "cell_type": "code",
   "execution_count": null,
   "metadata": {
    "collapsed": true
   },
   "outputs": [],
   "source": []
  },
  {
   "cell_type": "code",
   "execution_count": null,
   "metadata": {
    "collapsed": true
   },
   "outputs": [],
   "source": []
  },
  {
   "cell_type": "code",
   "execution_count": null,
   "metadata": {
    "collapsed": true
   },
   "outputs": [],
   "source": []
  },
  {
   "cell_type": "code",
   "execution_count": null,
   "metadata": {
    "collapsed": true
   },
   "outputs": [],
   "source": []
  },
  {
   "cell_type": "code",
   "execution_count": null,
   "metadata": {
    "collapsed": true
   },
   "outputs": [],
   "source": []
  },
  {
   "cell_type": "code",
   "execution_count": null,
   "metadata": {
    "collapsed": true
   },
   "outputs": [],
   "source": []
  },
  {
   "cell_type": "code",
   "execution_count": null,
   "metadata": {
    "collapsed": true
   },
   "outputs": [],
   "source": []
  },
  {
   "cell_type": "code",
   "execution_count": null,
   "metadata": {
    "collapsed": true
   },
   "outputs": [],
   "source": []
  },
  {
   "cell_type": "code",
   "execution_count": null,
   "metadata": {
    "collapsed": true
   },
   "outputs": [],
   "source": []
  },
  {
   "cell_type": "code",
   "execution_count": null,
   "metadata": {
    "collapsed": true
   },
   "outputs": [],
   "source": []
  },
  {
   "cell_type": "code",
   "execution_count": null,
   "metadata": {
    "collapsed": true
   },
   "outputs": [],
   "source": []
  },
  {
   "cell_type": "code",
   "execution_count": null,
   "metadata": {
    "collapsed": true
   },
   "outputs": [],
   "source": []
  },
  {
   "cell_type": "code",
   "execution_count": null,
   "metadata": {
    "collapsed": true
   },
   "outputs": [],
   "source": []
  },
  {
   "cell_type": "code",
   "execution_count": null,
   "metadata": {
    "collapsed": true
   },
   "outputs": [],
   "source": []
  },
  {
   "cell_type": "code",
   "execution_count": null,
   "metadata": {
    "collapsed": true
   },
   "outputs": [],
   "source": []
  },
  {
   "cell_type": "code",
   "execution_count": null,
   "metadata": {
    "collapsed": true
   },
   "outputs": [],
   "source": []
  },
  {
   "cell_type": "code",
   "execution_count": null,
   "metadata": {
    "collapsed": true
   },
   "outputs": [],
   "source": []
  },
  {
   "cell_type": "code",
   "execution_count": 20,
   "metadata": {},
   "outputs": [
    {
     "name": "stdout",
     "output_type": "stream",
     "text": [
      "     *****     \n",
      "    *******     \n",
      "   ******** *    \n",
      "  ********* * *   \n",
      " ********** * * *  \n"
     ]
    }
   ],
   "source": [
    "def picture(x,y):\n",
    "    for i in range(y):\n",
    "        print(' '*(y-i)+x*i+(x*5)+(x+' ')*i+' '*(y-i),end='')\n",
    "        print()\n",
    "picture('*',5)"
   ]
  },
  {
   "cell_type": "code",
   "execution_count": null,
   "metadata": {
    "collapsed": true
   },
   "outputs": [],
   "source": []
  },
  {
   "cell_type": "code",
   "execution_count": null,
   "metadata": {
    "collapsed": true
   },
   "outputs": [],
   "source": []
  },
  {
   "cell_type": "code",
   "execution_count": null,
   "metadata": {
    "collapsed": true
   },
   "outputs": [],
   "source": []
  },
  {
   "cell_type": "code",
   "execution_count": null,
   "metadata": {
    "collapsed": true
   },
   "outputs": [],
   "source": []
  },
  {
   "cell_type": "code",
   "execution_count": null,
   "metadata": {
    "collapsed": true
   },
   "outputs": [],
   "source": []
  },
  {
   "cell_type": "code",
   "execution_count": null,
   "metadata": {
    "collapsed": true
   },
   "outputs": [],
   "source": []
  },
  {
   "cell_type": "code",
   "execution_count": null,
   "metadata": {
    "collapsed": true
   },
   "outputs": [],
   "source": []
  },
  {
   "cell_type": "code",
   "execution_count": null,
   "metadata": {
    "collapsed": true
   },
   "outputs": [],
   "source": []
  },
  {
   "cell_type": "code",
   "execution_count": null,
   "metadata": {
    "collapsed": true
   },
   "outputs": [],
   "source": []
  },
  {
   "cell_type": "code",
   "execution_count": null,
   "metadata": {
    "collapsed": true
   },
   "outputs": [],
   "source": []
  },
  {
   "cell_type": "code",
   "execution_count": null,
   "metadata": {
    "collapsed": true
   },
   "outputs": [],
   "source": []
  },
  {
   "cell_type": "code",
   "execution_count": null,
   "metadata": {
    "collapsed": true
   },
   "outputs": [],
   "source": []
  },
  {
   "cell_type": "code",
   "execution_count": null,
   "metadata": {
    "collapsed": true
   },
   "outputs": [],
   "source": []
  },
  {
   "cell_type": "code",
   "execution_count": 5,
   "metadata": {},
   "outputs": [
    {
     "ename": "NameError",
     "evalue": "name 'y' is not defined",
     "output_type": "error",
     "traceback": [
      "\u001b[1;31m---------------------------------------------------------------------------\u001b[0m",
      "\u001b[1;31mNameError\u001b[0m                                 Traceback (most recent call last)",
      "\u001b[1;32m<ipython-input-5-52f6daa7a925>\u001b[0m in \u001b[0;36m<module>\u001b[1;34m()\u001b[0m\n\u001b[1;32m----> 1\u001b[1;33m \u001b[1;32mfor\u001b[0m \u001b[0mi\u001b[0m \u001b[1;32min\u001b[0m \u001b[0mrange\u001b[0m\u001b[1;33m(\u001b[0m\u001b[0my\u001b[0m\u001b[1;33m+\u001b[0m\u001b[1;36m1\u001b[0m\u001b[1;33m)\u001b[0m\u001b[1;33m:\u001b[0m\u001b[1;33m\u001b[0m\u001b[0m\n\u001b[0m\u001b[0;32m      2\u001b[0m         \u001b[0mprint\u001b[0m\u001b[1;33m(\u001b[0m\u001b[1;34m' '\u001b[0m\u001b[1;33m*\u001b[0m\u001b[1;33m(\u001b[0m\u001b[0my\u001b[0m\u001b[1;33m-\u001b[0m\u001b[0mi\u001b[0m\u001b[1;33m)\u001b[0m\u001b[1;33m+\u001b[0m\u001b[1;33m(\u001b[0m\u001b[0mx\u001b[0m\u001b[1;33m+\u001b[0m\u001b[1;34m' '\u001b[0m\u001b[1;33m)\u001b[0m\u001b[1;33m*\u001b[0m\u001b[0mi\u001b[0m\u001b[1;33m,\u001b[0m\u001b[0mend\u001b[0m\u001b[1;33m=\u001b[0m\u001b[1;34m''\u001b[0m\u001b[1;33m)\u001b[0m\u001b[1;33m\u001b[0m\u001b[0m\n\u001b[0;32m      3\u001b[0m         \u001b[0mprint\u001b[0m\u001b[1;33m(\u001b[0m\u001b[1;33m)\u001b[0m\u001b[1;33m\u001b[0m\u001b[0m\n",
      "\u001b[1;31mNameError\u001b[0m: name 'y' is not defined"
     ]
    }
   ],
   "source": [
    "for i in range(y+1):\n",
    "        print(' '*(y-i)+(x+' ')*i,end='')\n",
    "        print()"
   ]
  },
  {
   "cell_type": "code",
   "execution_count": null,
   "metadata": {
    "collapsed": true
   },
   "outputs": [],
   "source": []
  },
  {
   "cell_type": "code",
   "execution_count": null,
   "metadata": {
    "collapsed": true
   },
   "outputs": [],
   "source": []
  }
 ],
 "metadata": {
  "kernelspec": {
   "display_name": "Python 3",
   "language": "python",
   "name": "python3"
  },
  "language_info": {
   "codemirror_mode": {
    "name": "ipython",
    "version": 3
   },
   "file_extension": ".py",
   "mimetype": "text/x-python",
   "name": "python",
   "nbconvert_exporter": "python",
   "pygments_lexer": "ipython3",
   "version": "3.6.2"
  }
 },
 "nbformat": 4,
 "nbformat_minor": 2
}
