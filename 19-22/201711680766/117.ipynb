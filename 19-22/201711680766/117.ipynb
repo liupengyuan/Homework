{
 "cells": [
  {
   "cell_type": "code",
   "execution_count": 6,
   "metadata": {},
   "outputs": [
    {
     "name": "stdout",
     "output_type": "stream",
     "text": [
      "请输入整数个数5\n",
      "请输入一个整数10\n",
      "请输入另一个整数500\n",
      "611.5\n"
     ]
    }
   ],
   "source": [
    "import random\n",
    "def squ(m,n,k):\n",
    "    if n>k:\n",
    "        (n,k)=(k,n)\n",
    "    i=0\n",
    "    total=0\n",
    "    square=0\n",
    "    while i<m:\n",
    "        number=random.randint(n,k)\n",
    "        i+=1\n",
    "        total+=number\n",
    "        square=total**1/2\n",
    "    return square\n",
    " \n",
    "m=int(input('请输入整数个数'))\n",
    "n=int(input('请输入一个整数'))\n",
    "k=int(input('请输入另一个整数'))       \n",
    "\n",
    "print(squ(m,n,k))   "
   ]
  },
  {
   "cell_type": "code",
   "execution_count": null,
   "metadata": {
    "collapsed": true
   },
   "outputs": [],
   "source": []
  },
  {
   "cell_type": "code",
   "execution_count": null,
   "metadata": {
    "collapsed": true
   },
   "outputs": [],
   "source": []
  },
  {
   "cell_type": "code",
   "execution_count": null,
   "metadata": {
    "collapsed": true
   },
   "outputs": [],
   "source": []
  },
  {
   "cell_type": "code",
   "execution_count": null,
   "metadata": {
    "collapsed": true
   },
   "outputs": [],
   "source": []
  },
  {
   "cell_type": "code",
   "execution_count": null,
   "metadata": {
    "collapsed": true
   },
   "outputs": [],
   "source": []
  },
  {
   "cell_type": "code",
   "execution_count": null,
   "metadata": {
    "collapsed": true
   },
   "outputs": [],
   "source": []
  }
 ],
 "metadata": {
  "kernelspec": {
   "display_name": "Python 3",
   "language": "python",
   "name": "python3"
  },
  "language_info": {
   "codemirror_mode": {
    "name": "ipython",
    "version": 3
   },
   "file_extension": ".py",
   "mimetype": "text/x-python",
   "name": "python",
   "nbconvert_exporter": "python",
   "pygments_lexer": "ipython3",
   "version": "3.6.2"
  }
 },
 "nbformat": 4,
 "nbformat_minor": 2
}
