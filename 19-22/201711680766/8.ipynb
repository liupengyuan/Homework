{
 "cells": [
  {
   "cell_type": "code",
   "execution_count": 3,
   "metadata": {},
   "outputs": [
    {
     "name": "stdout",
     "output_type": "stream",
     "text": [
      "扶危定乱\n",
      "输入成语乱世佳人\n"
     ]
    },
    {
     "data": {
      "text/plain": [
       "10"
      ]
     },
     "execution_count": 3,
     "metadata": {},
     "output_type": "execute_result"
    }
   ],
   "source": [
    "import random \n",
    "def idiom_in(x):\n",
    "    with open(r'c:\\temp\\成语大全.txt') as fh:\n",
    "        for i in set(fh.readlines()):\n",
    "            if x==i.strip():\n",
    "                return True\n",
    "            return False\n",
    "fh=open(r'c:\\temp\\成语大全.txt')\n",
    "text=fh.read()\n",
    "text=text.split()\n",
    "def idiom_select():\n",
    "    score=10\n",
    "    idiom1=random.choice(text)\n",
    "    print(idiom1)\n",
    "    idiom2=str(input('输入成语'))\n",
    "    if idiom1[-1]==idiom2[0]:\n",
    "        for idiom in text:\n",
    "            if idiom[0]==idiom2[-1]:\n",
    "                print(idiom)\n",
    "                idiom3=str(input('继续接'))\n",
    "                score+=10\n",
    "            if idiom_in==False:\n",
    "                print('游戏结束')\n",
    "            return score\n",
    "        print('你的总分是',score)\n",
    "idiom_select()"
   ]
  },
  {
   "cell_type": "code",
   "execution_count": null,
   "metadata": {
    "collapsed": true
   },
   "outputs": [],
   "source": []
  },
  {
   "cell_type": "code",
   "execution_count": null,
   "metadata": {
    "collapsed": true
   },
   "outputs": [],
   "source": []
  },
  {
   "cell_type": "code",
   "execution_count": null,
   "metadata": {
    "collapsed": true
   },
   "outputs": [],
   "source": []
  }
 ],
 "metadata": {
  "kernelspec": {
   "display_name": "Python 3",
   "language": "python",
   "name": "python3"
  },
  "language_info": {
   "codemirror_mode": {
    "name": "ipython",
    "version": 3
   },
   "file_extension": ".py",
   "mimetype": "text/x-python",
   "name": "python",
   "nbconvert_exporter": "python",
   "pygments_lexer": "ipython3",
   "version": "3.6.2"
  }
 },
 "nbformat": 4,
 "nbformat_minor": 2
}
