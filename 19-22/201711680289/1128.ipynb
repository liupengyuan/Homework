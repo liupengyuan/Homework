{
 "cells": [
  {
   "cell_type": "code",
   "execution_count": 28,
   "metadata": {},
   "outputs": [
    {
     "name": "stdout",
     "output_type": "stream",
     "text": [
      "a\n",
      "aa\n",
      "aba\n",
      "abba\n",
      "abcba\n",
      "abccba\n",
      "abcdcba\n",
      "abcddcba\n",
      "abcdedcba\n",
      "abcdeedcba\n"
     ]
    }
   ],
   "source": [
    "line = 'abcde'\n",
    "for i in range(1,len(line)*2+1):\n",
    "    if i == 1:\n",
    "        print(line[0])\n",
    "    elif i%2 == 1:\n",
    "        print(line[:i//2] + line[i//2] + line[i//2-1::-1])\n",
    "    else:\n",
    "        print(line[:i//2] + line[i//2-1::-1])"
   ]
  },
  {
   "cell_type": "code",
   "execution_count": null,
   "metadata": {
    "collapsed": true
   },
   "outputs": [],
   "source": []
  }
 ],
 "metadata": {
  "kernelspec": {
   "display_name": "Python 3",
   "language": "python",
   "name": "python3"
  },
  "language_info": {
   "codemirror_mode": {
    "name": "ipython",
    "version": 3
   },
   "file_extension": ".py",
   "mimetype": "text/x-python",
   "name": "python",
   "nbconvert_exporter": "python",
   "pygments_lexer": "ipython3",
   "version": "3.6.2"
  }
 },
 "nbformat": 4,
 "nbformat_minor": 2
}
