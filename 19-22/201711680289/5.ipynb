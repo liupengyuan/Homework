{
 "cells": [
  {
   "cell_type": "code",
   "execution_count": null,
   "metadata": {
    "collapsed": true
   },
   "outputs": [],
   "source": [
    "写函数，求n个随机整数均值的平方根，整数范围在m与k之间（n,m,k由用户输入）。"
   ]
  },
  {
   "cell_type": "code",
   "execution_count": 4,
   "metadata": {},
   "outputs": [
    {
     "name": "stdout",
     "output_type": "stream",
     "text": [
      "1\n",
      "16\n",
      "整数个数4\n",
      "4.415880433163924\n"
     ]
    }
   ],
   "source": [
    "m=int(input())\n",
    "k=int(input())\n",
    "n=int(input('整数个数'))\n",
    "total=0\n",
    "i=0\n",
    "\n",
    "import random\n",
    "\n",
    "number= random.randint(m,k)\n",
    "\n",
    "while i < number:\n",
    "    i=i+1\n",
    "    total=total+i\n",
    "print((total/n) **(1/2)) "
   ]
  },
  {
   "cell_type": "code",
   "execution_count": null,
   "metadata": {
    "collapsed": true
   },
   "outputs": [],
   "source": [
    "写函数，共n个随机整数，整数范围在m与k之间，（n,m,k由用户输入）。求1：西格玛log(随机整数)，2：西格玛1/log(随机整数)"
   ]
  },
  {
   "cell_type": "code",
   "execution_count": 13,
   "metadata": {},
   "outputs": [
    {
     "name": "stdout",
     "output_type": "stream",
     "text": [
      "整数个数4\n",
      "2\n",
      "36\n",
      "10.60460290274525 0.09429867475199157\n"
     ]
    }
   ],
   "source": [
    "n=int(input('整数个数'))\n",
    "m=int(input())\n",
    "k=int(input())\n",
    "i=0\n",
    "mul=1\n",
    "\n",
    "import random\n",
    "number=random.randint(m,k)\n",
    "\n",
    "while i<number:\n",
    "    i=i+1\n",
    "    mul=mul*i\n",
    "\n",
    "import math\n",
    "a=math.log(mul)\n",
    "b=a**(-1)\n",
    "print(a,b)"
   ]
  },
  {
   "cell_type": "code",
   "execution_count": null,
   "metadata": {
    "collapsed": true
   },
   "outputs": [],
   "source": [
    "写函数，求s=a+aa+aaa+aaaa+aa...a的值，其中a是[1,9]之间的随机整数。例如2+22+222+2222+22222(此时共有5个数相加)，几个数相加由键盘输入。"
   ]
  },
  {
   "cell_type": "code",
   "execution_count": 4,
   "metadata": {},
   "outputs": [
    {
     "name": "stdout",
     "output_type": "stream",
     "text": [
      "4\n",
      "4672\n"
     ]
    }
   ],
   "source": [
    "n=int(input())\n",
    "s=0\n",
    "i=1\n",
    "\n",
    "import random\n",
    "a=random.randint(1,9)\n",
    "\n",
    "while i<n:\n",
    "    i=i+1\n",
    "    s=s+a**(i)\n",
    "print(s)"
   ]
  }
 ],
 "metadata": {
  "kernelspec": {
   "display_name": "Python 3",
   "language": "python",
   "name": "python3"
  },
  "language_info": {
   "codemirror_mode": {
    "name": "ipython",
    "version": 3
   },
   "file_extension": ".py",
   "mimetype": "text/x-python",
   "name": "python",
   "nbconvert_exporter": "python",
   "pygments_lexer": "ipython3",
   "version": "3.6.2"
  }
 },
 "nbformat": 4,
 "nbformat_minor": 2
}
