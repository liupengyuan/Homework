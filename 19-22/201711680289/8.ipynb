{
 "cells": [
  {
   "cell_type": "code",
   "execution_count": null,
   "metadata": {},
   "outputs": [
    {
     "name": "stdout",
     "output_type": "stream",
     "text": [
      "输入一个成语：八仙过海\n",
      "输入一个成语：五光十色\n",
      "输入一个成语：五彩缤纷\n"
     ]
    }
   ],
   "source": [
    "import random \n",
    "def win():\n",
    "    print('恭喜你赢了！')\n",
    "    return\n",
    "def lose():\n",
    "    print('抱歉你输了。')\n",
    "    return\n",
    "def get_ch_table(line):\n",
    "    ch_table = []\n",
    "    for ch in line:\n",
    "        if ch not in ch_table:\n",
    "            ch_table.append(ch)\n",
    "    return ch_table\n",
    "\n",
    "def idiom_robot(file_name):\n",
    "    with open(file_name) as fh:\n",
    "        text = fh.read()\n",
    "    idioms = text.split()\n",
    "    idiom = random.choice(idioms)\n",
    "    chs = get_ch_table(text.replace('\\n', ''))\n",
    "\n",
    "    print(idiom)\n",
    "    m = get_ch_table(idiom)\n",
    "    n = len(m)\n",
    "    idiombefore_last = m[n-1]\n",
    "    idiomafter_first = idiombefore_last\n",
    "    for idiom in idioms:   \n",
    "        if idiom.startswith(idiomafter_first):\n",
    "            end = idiom\n",
    "            return end\n",
    "        else:\n",
    "            print('电脑失败！')\n",
    "            win()\n",
    "    x = get_ch_table(idiom)      \n",
    "    y = len(x)\n",
    "    idiombefore_last_1=x[y-1]\n",
    "    idiomafter_first_1=idiombefore_last_1\n",
    "    for idiom in idioms:\n",
    "        if idiom.startswith(idiomafter_first_1):\n",
    "            end_1 = idiom\n",
    "    return end_1\n",
    "            \n",
    "fh =open(r'C:/temp/成语大全.txt')\n",
    "text=fh.read().split()\n",
    "fh.close()\n",
    "score_1 = 0\n",
    "score_2 = 0\n",
    "n=1\n",
    "while n>0:\n",
    "    real_idiom=text\n",
    "    answer_idiom=input('输入一个成语：')\n",
    "if answer_idiom==real_idiom:\n",
    "    print('答对，加十分')\n",
    "    score_1+=10\n",
    "    print(score_1)\n",
    "    process(answer_idiom)\n",
    "    score_2+=10\n",
    "elif answer_idiom == '':\n",
    "        print('退出游戏。')\n",
    "        print('你最后的分数是：', score_1)\n",
    "        return\n",
    "else:\n",
    "        print('答错了，游戏结束')\n",
    "        print('你最后的分数是：', score_1)\n",
    "        lose()\n",
    "        return\n",
    "        \n",
    "        \n",
    "        \n",
    "        \n",
    "    \n",
    "\n"
   ]
  },
  {
   "cell_type": "code",
   "execution_count": null,
   "metadata": {
    "collapsed": true
   },
   "outputs": [],
   "source": []
  },
  {
   "cell_type": "code",
   "execution_count": null,
   "metadata": {
    "collapsed": true
   },
   "outputs": [],
   "source": []
  }
 ],
 "metadata": {
  "kernelspec": {
   "display_name": "Python 3",
   "language": "python",
   "name": "python3"
  }
 },
 "nbformat": 4,
 "nbformat_minor": 2
}
