{
 "cells": [
  {
   "cell_type": "code",
   "execution_count": null,
   "metadata": {
    "collapsed": true
   },
   "outputs": [],
   "source": [
    "练习一：自己定义一个reverse(s)函数，功能返回字符串s的倒序字符串。"
   ]
  },
  {
   "cell_type": "code",
   "execution_count": 5,
   "metadata": {},
   "outputs": [
    {
     "name": "stdout",
     "output_type": "stream",
     "text": [
      "abcdefg\n"
     ]
    },
    {
     "data": {
      "text/plain": [
       "'gfedcba'"
      ]
     },
     "execution_count": 5,
     "metadata": {},
     "output_type": "execute_result"
    }
   ],
   "source": [
    "s = str(input())\n",
    "def reverse(s):\n",
    "    n = len(s)\n",
    "    for i in range(n):\n",
    "        m = s[n::-1]\n",
    "        return m\n",
    "\n",
    "reverse(s)\n",
    "    "
   ]
  },
  {
   "cell_type": "code",
   "execution_count": null,
   "metadata": {
    "collapsed": true
   },
   "outputs": [],
   "source": [
    "练习二：写函数，根据给定符号和行数，打印相应直角三角形，等腰三角形及其他形式的三角形。"
   ]
  },
  {
   "cell_type": "code",
   "execution_count": 3,
   "metadata": {},
   "outputs": [
    {
     "name": "stdout",
     "output_type": "stream",
     "text": [
      "符号#\n",
      "行数4\n",
      "#\n",
      "##\n",
      "###\n",
      "####\n",
      "    #\n",
      "   ###\n",
      "  #####\n",
      " #######\n",
      "    ###\n",
      "   ######\n",
      "  #########\n",
      " ############\n"
     ]
    }
   ],
   "source": [
    "def s(m,n):\n",
    "    for i in range(1,n+1):\n",
    "        print(i*m)\n",
    "    for i in range(1,n+1):\n",
    "        print((n-i)*' ',m*(2*i-1))\n",
    "    for i in range(1,n+1):\n",
    "        print((n-i)*' ',m*i,m*(3*i-1))\n",
    "        \n",
    "m=input('符号')\n",
    "n=int(input('行数'))\n",
    "s(m,n)"
   ]
  },
  {
   "cell_type": "code",
   "execution_count": null,
   "metadata": {
    "collapsed": true
   },
   "outputs": [],
   "source": [
    "练习三：写函数，根据给定符号，打印各种菱形。"
   ]
  },
  {
   "cell_type": "code",
   "execution_count": 28,
   "metadata": {},
   "outputs": [
    {
     "name": "stdout",
     "output_type": "stream",
     "text": [
      "#\n",
      "5\n",
      "      \n",
      "     #\n",
      "    ###\n",
      "   #####\n",
      "  #######\n",
      " #########\n",
      " #########\n",
      "  #######\n",
      "   #####\n",
      "    ###\n",
      "     #\n"
     ]
    }
   ],
   "source": [
    "def s(m,n):\n",
    "    for i in range(n+1):\n",
    "        print((n-i)*' ',m*(2*i-1))\n",
    "    for j in range(n+1,2*n+1):\n",
    "        print((j-n-1)*' ',m*(2*(2*n-j+1)-1))\n",
    "m=input()\n",
    "n=int(input())\n",
    "s(m,n)"
   ]
  },
  {
   "cell_type": "code",
   "execution_count": null,
   "metadata": {
    "collapsed": true
   },
   "outputs": [],
   "source": []
  }
 ],
 "metadata": {
  "kernelspec": {
   "display_name": "Python 3",
   "language": "python",
   "name": "python3"
  },
  "language_info": {
   "codemirror_mode": {
    "name": "ipython",
    "version": 3
   },
   "file_extension": ".py",
   "mimetype": "text/x-python",
   "name": "python",
   "nbconvert_exporter": "python",
   "pygments_lexer": "ipython3",
   "version": "3.6.2"
  }
 },
 "nbformat": 4,
 "nbformat_minor": 2
}
