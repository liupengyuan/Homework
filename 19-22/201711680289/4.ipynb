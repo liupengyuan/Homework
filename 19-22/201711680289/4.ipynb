{
 "cells": [
  {
   "cell_type": "code",
   "execution_count": null,
   "metadata": {
    "collapsed": true
   },
   "outputs": [],
   "source": [
    "仿照求$ \\sum_{i=1}^mi + \\sum_{i=1}^ni  + \\sum_{i=1}^ki$的完整代码，写程序，可求m!+n!+k!"
   ]
  },
  {
   "cell_type": "code",
   "execution_count": 1,
   "metadata": {},
   "outputs": [
    {
     "name": "stdout",
     "output_type": "stream",
     "text": [
      "3\n",
      "4\n",
      "5\n",
      "150\n"
     ]
    }
   ],
   "source": [
    "def my_mul(m):\n",
    "    i=1\n",
    "    mul=1\n",
    "    while i<m:\n",
    "        i=i+1\n",
    "        mul=mul*i\n",
    "    return mul\n",
    "m = int(input())\n",
    "n = int(input())\n",
    "k = int(input())\n",
    "\n",
    "print(my_mul(m) + my_mul(n) + my_mul(k))\n"
   ]
  },
  {
   "cell_type": "code",
   "execution_count": null,
   "metadata": {
    "collapsed": true
   },
   "outputs": [],
   "source": [
    "写函数可返回1 - 1/3 + 1/5 - 1/7...的前n项的和。在主程序中，分别令n=1000及100000，打印4倍该函数的和。"
   ]
  },
  {
   "cell_type": "code",
   "execution_count": 6,
   "metadata": {},
   "outputs": [
    {
     "name": "stdout",
     "output_type": "stream",
     "text": [
      "3.140592653839794\n",
      "3.1415826535897198\n"
     ]
    }
   ],
   "source": [
    "def my_sum(n):\n",
    "    i=1\n",
    "    m=1\n",
    "    total=0\n",
    "    while i<=n:\n",
    "        a=(-1)**(i+1)\n",
    "        total=total+a*(1/m)\n",
    "        i=i+1\n",
    "        m=m+2\n",
    "    return total\n",
    "\n",
    "print(my_sum(1000)*4)\n",
    "print(my_sum(100000)*4)         "
   ]
  },
  {
   "cell_type": "code",
   "execution_count": null,
   "metadata": {
    "collapsed": true
   },
   "outputs": [],
   "source": [
    "将task3中的练习1及练习4改写为函数，并进行调用。"
   ]
  },
  {
   "cell_type": "code",
   "execution_count": 7,
   "metadata": {},
   "outputs": [
    {
     "name": "stdout",
     "output_type": "stream",
     "text": [
      "name:didi\n",
      "4.24\n"
     ]
    }
   ],
   "source": [
    "def compute_sum(m):\n",
    "    if 3.21<=m<=4.20:\n",
    "        print(name,'你是非常有性格的白羊座！')\n",
    "    elif 4.21<=m<=5.21:\n",
    "        print(name,'你是非常有性格的金牛座！')\n",
    "    elif 5.22<=m<=6.21:\n",
    "        print(name,'你是非常有性格的双子座！')\n",
    "    elif 6.22<=m<=7.22:\n",
    "        print(name,'你是非常有性格的巨蟹座！')\n",
    "    elif 7.23<=m<=8.22:\n",
    "        print(name,'你是非常有性格的狮子座！')\n",
    "    elif 8.23<=m<=9.23:\n",
    "        print(name,'你是非常有性格的处女座！')\n",
    "    elif 9.24<=m<=10.23:\n",
    "        print(name,'你是非常有性格的天秤座！')\n",
    "    elif 10.24<=m<=11.22:\n",
    "        print(name,'你是非常有性格的天蝎座！')\n",
    "    elif 11.23<=m<=12.21:\n",
    "        print(name,'你是非常有性格的射手座！')\n",
    "    elif 12.22<=m<=1.20:\n",
    "        print(name,'你是非常有性格的摩羯座！')\n",
    "    elif 1.21<=m<=2.19:\n",
    "        print(name,'你是非常有性格的水瓶座！')\n",
    "    elif 2.20<=m<=3.20:\n",
    "        print(name,'你是非常有性格的双鱼座！')\n",
    "    else:\n",
    "        print('错误！')\n",
    "        \n",
    "        \n",
    "name=input('name:')\n",
    "m=input()"
   ]
  },
  {
   "cell_type": "code",
   "execution_count": 5,
   "metadata": {},
   "outputs": [
    {
     "name": "stdout",
     "output_type": "stream",
     "text": [
      "请输入一个英文单词，回车结束friend\n",
      "该名词变复数时直接加s\n"
     ]
    }
   ],
   "source": [
    "def compute_sum(noun):\n",
    "    if noun.endswith('s'):\n",
    "        print('该名词变复数时直接在末尾加es')\n",
    "    elif noun.endswith('z'):\n",
    "        print('该名词变复数时直接在末尾加es')\n",
    "    elif noun.endswith('x'):\n",
    "        print('该名词变复数时直接在末尾加es')\n",
    "    elif noun.endswith('sh'):\n",
    "        print('该名词变复数时直接在末尾加es')\n",
    "    elif noun.endswith('ch'):\n",
    "        print('该名词变复数时直接在末尾加es')\n",
    "    elif noun.endswith('y'):\n",
    "        print('该名词变复数时大多数变y为ies')\n",
    "    elif noun.endswith('o'):\n",
    "        print('该名词变复数时大多数在末尾加es')\n",
    "    elif noun.endswith('f'):\n",
    "        print('该名词变复数时变f为v加es')\n",
    "    else:\n",
    "        print('该名词变复数时直接加s')\n",
    "        \n",
    "noun=input('请输入一个英文单词，回车结束')\n",
    "compute_sum(noun)"
   ]
  },
  {
   "cell_type": "code",
   "execution_count": null,
   "metadata": {
    "collapsed": true
   },
   "outputs": [],
   "source": [
    "写程序，可以求从整数m到整数n累加的和，间隔为k，求和部分需用函数实现，主程序中由用户输入m，n，k调用函数验证正确性。"
   ]
  },
  {
   "cell_type": "code",
   "execution_count": 10,
   "metadata": {},
   "outputs": [
    {
     "name": "stdout",
     "output_type": "stream",
     "text": [
      "输入一个整数，回车结束2\n",
      "再输入一个整数，回车结束6\n",
      "输入间隔数4\n",
      "right\n"
     ]
    },
    {
     "data": {
      "text/plain": [
       "25"
      ]
     },
     "execution_count": 10,
     "metadata": {},
     "output_type": "execute_result"
    }
   ],
   "source": [
    "def my_sum(m,n):\n",
    "    a=0\n",
    "    b=0\n",
    "    total=0\n",
    "    if m<n:\n",
    "        a=m\n",
    "        b=n\n",
    "    else:\n",
    "        a=n\n",
    "        b=m\n",
    "    while a<=b:\n",
    "        a=a+1\n",
    "        total=total+a\n",
    "    return total\n",
    "    print(total)\n",
    "    \n",
    "#主程序\n",
    "m=int(input('输入一个整数，回车结束'))\n",
    "n=int(input('再输入一个整数，回车结束'))  \n",
    "k=int(input('输入间隔数'))\n",
    "\n",
    "a=0\n",
    "b=0\n",
    "total=0\n",
    "if m<n:\n",
    "    a=m\n",
    "    b=n\n",
    "else:\n",
    "    a=n\n",
    "    b=m\n",
    "if k==b-a:\n",
    "    print('right')\n",
    "else:\n",
    "    print('fault')\n",
    "\n",
    "my_sum(m,n)"
   ]
  },
  {
   "cell_type": "code",
   "execution_count": null,
   "metadata": {
    "collapsed": true
   },
   "outputs": [],
   "source": []
  }
 ],
 "metadata": {
  "kernelspec": {
   "display_name": "Python 3",
   "language": "python",
   "name": "python3"
  }
 },
 "nbformat": 4,
 "nbformat_minor": 2
}
