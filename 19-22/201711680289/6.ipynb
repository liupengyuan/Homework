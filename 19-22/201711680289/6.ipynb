{
 "cells": [
  {
   "cell_type": "code",
   "execution_count": null,
   "metadata": {
    "collapsed": true
   },
   "outputs": [],
   "source": [
    "写函数，返回某个元素/对象在一个list中的位置，如果不在，则返回-1."
   ]
  },
  {
   "cell_type": "code",
   "execution_count": 1,
   "metadata": {},
   "outputs": [
    {
     "name": "stdout",
     "output_type": "stream",
     "text": [
      "55\n",
      "55\n"
     ]
    }
   ],
   "source": [
    "def position():\n",
    "    numbers=[11,22,33,44,55]\n",
    "    n = int(input())\n",
    "    if n in numbers:\n",
    "        print(n)\n",
    "    else:\n",
    "        print(-1)\n",
    "position()"
   ]
  },
  {
   "cell_type": "code",
   "execution_count": null,
   "metadata": {
    "collapsed": true
   },
   "outputs": [],
   "source": [
    "写函数，可将两个相同长度的list，间隔插入，生成新的list。例如：给两个list，a=[1,2,3,4], b=[5,6,7,8]。则可以生成：[1,5,2,6,3,7,4,8]。"
   ]
  },
  {
   "cell_type": "code",
   "execution_count": 14,
   "metadata": {},
   "outputs": [],
   "source": [
    "def computer(a,b):\n",
    "    m=[]\n",
    "    i=0\n",
    "    n=len(a)\n",
    "    while i<n:\n",
    "        i=i+1\n",
    "        n.append(a[i])\n",
    "        n.append(b[i])\n",
    "    print(m)\n",
    "a=[1,2,3,4]\n",
    "b=[5,6,7,8]\n",
    "computer(a,b)"
   ]
  },
  {
   "cell_type": "code",
   "execution_count": null,
   "metadata": {
    "collapsed": true
   },
   "outputs": [],
   "source": [
    "写函数，可求两个向量的夹角余弦值，向量可放在list中。主程序调用该函数"
   ]
  },
  {
   "cell_type": "code",
   "execution_count": 4,
   "metadata": {},
   "outputs": [
    {
     "name": "stdout",
     "output_type": "stream",
     "text": [
      "第一个向量的横坐标,回车结束2\n",
      "第一个向量的纵坐标,回车结束3\n",
      "第二个向量的横坐标,回车结束1\n",
      "第二个向量的纵坐标,回车结束4\n",
      "[2, 3] [1, 4]\n"
     ]
    },
    {
     "data": {
      "text/plain": [
       "0.9417419115948376"
      ]
     },
     "execution_count": 4,
     "metadata": {},
     "output_type": "execute_result"
    }
   ],
   "source": [
    "def compute():\n",
    "    return (a[0]*b[0]+a[1]*b[1])/((a[0]**2+a[1]**2)**(1/2)*(b[0]**2+b[1]**2)**(1/2))\n",
    "m=int(input('第一个向量的横坐标,回车结束'))\n",
    "n=int(input('第一个向量的纵坐标,回车结束'))\n",
    "x=int(input('第二个向量的横坐标,回车结束'))\n",
    "y=int(input('第二个向量的纵坐标,回车结束'))\n",
    "a=[m,n]\n",
    "b=[x,y]\n",
    "print(a,b)\n",
    "compute()"
   ]
  }
 ],
 "metadata": {
  "kernelspec": {
   "display_name": "Python 3",
   "language": "python",
   "name": "python3"
  }
 },
 "nbformat": 4,
 "nbformat_minor": 2
}
