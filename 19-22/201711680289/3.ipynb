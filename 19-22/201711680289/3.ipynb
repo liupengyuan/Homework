{
 "cells": [
  {
   "cell_type": "code",
   "execution_count": null,
   "metadata": {
    "collapsed": true
   },
   "outputs": [],
   "source": [
    "：写程序，可由键盘读入用户姓名例如Mr. right，让用户输入出生的月份与日期，判断用户星座，假设用户是金牛座，\n",
    "则输出，Mr. right，你是非常有性格的金牛座！。"
   ]
  },
  {
   "cell_type": "code",
   "execution_count": 3,
   "metadata": {},
   "outputs": [
    {
     "name": "stdout",
     "output_type": "stream",
     "text": [
      "弟弟\n",
      "输入出生的月份与日期，回车结束4月24日\n",
      "4月21日\n",
      "5月20日\n",
      "弟弟 你是很有性格的金牛座！\n"
     ]
    }
   ],
   "source": [
    "name = input()\n",
    "n = input('输入出生的月份与日期，回车结束')\n",
    "a =input ()\n",
    "b =input ()\n",
    "if a < n < b:\n",
    "       print(name,'你是很有性格的金牛座！')"
   ]
  },
  {
   "cell_type": "code",
   "execution_count": null,
   "metadata": {
    "collapsed": true
   },
   "outputs": [],
   "source": [
    "写程序，可由键盘读入两个整数m与n(n不等于0)，询问用户意图，如果要求和则计算从m到n的和输出，如果要乘积则计算从m到n的积并输出\n",
    "如果要求余数则计算m除以n的余数的值并输出，否则则计算m整除n的值并输出。"
   ]
  },
  {
   "cell_type": "code",
   "execution_count": 22,
   "metadata": {},
   "outputs": [
    {
     "name": "stdout",
     "output_type": "stream",
     "text": [
      "4\n",
      "2\n",
      "求和，乘积，求余数,其他:意图\n",
      "整除为 2\n"
     ]
    }
   ],
   "source": [
    "m = int(input())\n",
    "n = int(input())\n",
    "order = str(input('求和，乘积，求余数,其他:'))\n",
    "i = m\n",
    "total = 0\n",
    "mul = 1\n",
    "if order==str('求和'):\n",
    "    while m<=i<=n:\n",
    "        total=total+i\n",
    "        i=i+1\n",
    "    print(total)\n",
    "elif order==str('乘积'):\n",
    "    while m<=i<=n:\n",
    "        mul*=i\n",
    "        i+=1\n",
    "    print(mul)\n",
    "elif order==str('求余数'):\n",
    "    print('余数为',m%n)\n",
    "else :\n",
    "    print('整除为',m//n)\n",
    "    "
   ]
  },
  {
   "cell_type": "code",
   "execution_count": null,
   "metadata": {
    "collapsed": true
   },
   "outputs": [],
   "source": [
    "英文单词单数转复数，要求输入一个英文动词（单数形式），能够得到其复数形式，或给出单数转复数形式的建议\n",
    "（提示，some_string.endswith(some_letter)函数可以判断某字符串结尾字符，\n",
    "可尝试运行：'myname'.endswith('me')，liupengyuan'.endswith('n')）。"
   ]
  },
  {
   "cell_type": "code",
   "execution_count": 9,
   "metadata": {},
   "outputs": [
    {
     "name": "stdout",
     "output_type": "stream",
     "text": [
      "请输入一个英文单数形式动词，回车结束start\n",
      "starts\n"
     ]
    }
   ],
   "source": [
    "n = input('请输入一个英文单数形式动词，回车结束')\n",
    "\n",
    "if n.endswith('t'):\n",
    "    print(n,'s',sep='')\n",
    "elif n.endswith('f'):\n",
    "    print('变f为ves')"
   ]
  },
  {
   "cell_type": "code",
   "execution_count": null,
   "metadata": {
    "collapsed": true
   },
   "outputs": [],
   "source": [
    "尝试性练习：写程序，能够在屏幕上显示空行。"
   ]
  },
  {
   "cell_type": "code",
   "execution_count": 10,
   "metadata": {},
   "outputs": [
    {
     "name": "stdout",
     "output_type": "stream",
     "text": [
      "显示空行，输入6：6\n",
      "\n"
     ]
    }
   ],
   "source": [
    "n = int(input('显示空行，输入6：'))\n",
    "if n==6:\n",
    "    print()"
   ]
  }
 ],
 "metadata": {
  "kernelspec": {
   "display_name": "Python 3",
   "language": "python",
   "name": "python3"
  },
  "language_info": {
   "codemirror_mode": {
    "name": "ipython",
    "version": 3
   },
   "file_extension": ".py",
   "mimetype": "text/x-python",
   "name": "python",
   "nbconvert_exporter": "python",
   "pygments_lexer": "ipython3",
   "version": "3.6.2"
  }
 },
 "nbformat": 4,
 "nbformat_minor": 2
}
