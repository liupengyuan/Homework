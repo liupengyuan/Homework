{
 "cells": [
  {
   "cell_type": "code",
   "execution_count": 4,
   "metadata": {
    "collapsed": true
   },
   "outputs": [],
   "source": [
    "A=[]\n",
    "i=0\n",
    "while i<100000:\n",
    "    i+=1\n",
    "    A.append(i)\n",
    "import random\n",
    "B=random.sample(range(0,100000),100000)\n",
    "\n",
    "import random,time\n",
    "B=random.sample(range(0,100000),100000)\n",
    "C=random.sample(range(0,110000),1000)\n",
    "m=0\n",
    "start_time=time.time()\n",
    "list1=[]\n",
    "while m<100000:\n",
    "    element1=B[m]\n",
    "    m+=1\n",
    "    for i in range(len(C)):\n",
    "        list1.append(element1)\n",
    "    end_time=time.time()\n",
    "print(list1)\n",
    "print(end_time - start_time)\n"
   ]
  },
  {
   "cell_type": "code",
   "execution_count": null,
   "metadata": {},
   "outputs": [],
   "source": [
    "import random,time\n",
    "A=[]\n",
    "i=0\n",
    "while i<100000:\n",
    "    i+=1\n",
    "    A.append(i)\n",
    "C=random.sample(range(0,110000),1000)\n",
    "start_time=time.time()\n",
    "list2=[]\n",
    "n=0\n",
    "begin=0\n",
    "end=len(A)\n",
    "while n<100000:\n",
    "    element2=A[n]\n",
    "    n+=1\n",
    "    while begin<end:\n",
    "        mid = begin+(end - begin)/2\n",
    "    if element2 == C[mid]:\n",
    "            list2.append(element2)\n",
    "            end_time=time.time()\n",
    "    elif C[mid] < element2:\n",
    "            begin = mid+1\n",
    "            end=end\n",
    "    else:\n",
    "            end=mid-1\n",
    "            begin=begin\n",
    "print(end_time - start_time)\n",
    "    "
   ]
  },
  {
   "cell_type": "code",
   "execution_count": null,
   "metadata": {
    "collapsed": true
   },
   "outputs": [],
   "source": []
  }
 ],
 "metadata": {
  "kernelspec": {
   "display_name": "Python 3",
   "language": "python",
   "name": "python3"
  },
  "language_info": {
   "codemirror_mode": {
    "name": "ipython",
    "version": 3
   },
   "file_extension": ".py",
   "mimetype": "text/x-python",
   "name": "python",
   "nbconvert_exporter": "python",
   "pygments_lexer": "ipython3",
   "version": "3.6.2"
  }
 },
 "nbformat": 4,
 "nbformat_minor": 2
}
