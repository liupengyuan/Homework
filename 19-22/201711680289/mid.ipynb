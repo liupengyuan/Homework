{
 "cells": [
  {
   "cell_type": "code",
   "execution_count": 3,
   "metadata": {},
   "outputs": [
    {
     "name": "stdout",
     "output_type": "stream",
     "text": [
      "项数5\n",
      "35\n"
     ]
    }
   ],
   "source": [
    "第1题\n",
    "def com():\n",
    "    i=0\n",
    "    n=0\n",
    "    total=0\n",
    "    while i<m:\n",
    "        i += 1\n",
    "        n += i\n",
    "        total += n\n",
    "    print(total)\n",
    "m=int(input('项数'))\n",
    "com()"
   ]
  },
  {
   "cell_type": "code",
   "execution_count": null,
   "metadata": {
    "collapsed": true
   },
   "outputs": [],
   "source": [
    "def com():\n",
    "    m=int(input('任意整数'))\n",
    "    for n in m:\n",
    "        print(n)\n",
    "com()"
   ]
  },
  {
   "cell_type": "code",
   "execution_count": 22,
   "metadata": {},
   "outputs": [
    {
     "name": "stdout",
     "output_type": "stream",
     "text": [
      "183.0\n",
      "185\n",
      "187\n",
      "190\n"
     ]
    }
   ],
   "source": [
    "第4题\n",
    "numbers=[183,185,183,187,178,175,177,190,172]\n",
    "total=0\n",
    "i=0\n",
    "for number in numbers:\n",
    "    while i<9:\n",
    "        i+=1\n",
    "        total += number\n",
    "print(total/9) \n",
    "for num in numbers:\n",
    "    if num > total/9:\n",
    "        print(num)\n",
    "    "
   ]
  },
  {
   "cell_type": "code",
   "execution_count": 5,
   "metadata": {},
   "outputs": [
    {
     "name": "stdout",
     "output_type": "stream",
     "text": [
      "计算机随机给出5道加数题，并且加数在10以内\n",
      "键入结果7\n",
      "加数题结果6\n",
      "0\n"
     ]
    }
   ],
   "source": [
    "第五题\n",
    "print('计算机随机给出5道加数题，并且加数在10以内')\n",
    "n = int(input('键入结果'))\n",
    "right=int(input('加数题结果'))\n",
    "m=0\n",
    "if n is right:\n",
    "    m += 20\n",
    "else:\n",
    "    m += 0\n",
    "print(m)"
   ]
  },
  {
   "cell_type": "code",
   "execution_count": null,
   "metadata": {},
   "outputs": [
    {
     "name": "stdout",
     "output_type": "stream",
     "text": [
      "3\n",
      "88\n",
      "[88, 3, 3]\n",
      "34\n",
      "-76\n",
      "[34, -5, -76]\n",
      "-5\n",
      "9\n",
      "[9, 9, -5]\n"
     ]
    }
   ],
   "source": [
    "def com(list):\n",
    "    for nums in list:\n",
    "        max_num=int(input())\n",
    "        min_num=int(input())\n",
    "        if max_num>nums>min_num:\n",
    "            print([max_num,nums,min_num])\n",
    "        else:\n",
    "            print([min_num,nums,max_num])\n",
    "list=[3,-5,9,108,34,-76,88]\n",
    "com(list)\n",
    "            \n",
    "        "
   ]
  },
  {
   "cell_type": "code",
   "execution_count": null,
   "metadata": {
    "collapsed": true
   },
   "outputs": [],
   "source": []
  }
 ],
 "metadata": {
  "kernelspec": {
   "display_name": "Python 3",
   "language": "python",
   "name": "python3"
  }
 },
 "nbformat": 4,
 "nbformat_minor": 2
}
