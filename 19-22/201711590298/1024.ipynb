{
 "cells": [
  {
   "cell_type": "code",
   "execution_count": 17,
   "metadata": {},
   "outputs": [
    {
     "name": "stdout",
     "output_type": "stream",
     "text": [
      "1到1024间所有能被7整除的偶数的和 37814\n"
     ]
    }
   ],
   "source": [
    "total = 0\n",
    "for n in range(1024):\n",
    "    if n % 2 == 0 and n % 7 == 0:\n",
    "        total = total + n\n",
    "\n",
    "print('1到1024间所有能被7整除的偶数的和', total)"
   ]
  }
 ],
 "metadata": {
  "kernelspec": {
   "display_name": "Python 3",
   "language": "python",
   "name": "python3"
  },
  "language_info": {
   "codemirror_mode": {
    "name": "ipython",
    "version": 3
   },
   "file_extension": ".py",
   "mimetype": "text/x-python",
   "name": "python",
   "nbconvert_exporter": "python",
   "pygments_lexer": "ipython3",
   "version": "3.6.2"
  }
 },
 "nbformat": 4,
 "nbformat_minor": 2
}
