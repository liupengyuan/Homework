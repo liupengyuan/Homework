{
 "cells": [
  {
   "cell_type": "code",
   "execution_count": 30,
   "metadata": {},
   "outputs": [
    {
     "name": "stdout",
     "output_type": "stream",
     "text": [
      "请输入字符串，以回车结束asjfhkjFDSKJFKJDF\n",
      "它的倒序字符串是 FDJKFJKSDFjkhfjsa\n"
     ]
    }
   ],
   "source": [
    "#练习一：自己定义一个reverse(s)函数，功能返回字符串s的倒序字符串。\n",
    "\n",
    "def reverse(s):\n",
    "    s=str(input('请输入字符串，以回车结束'))\n",
    "    print('它的倒序字符串是',s[::-1])\n",
    "\n",
    "reverse(s)"
   ]
  },
  {
   "cell_type": "code",
   "execution_count": 6,
   "metadata": {},
   "outputs": [
    {
     "name": "stdout",
     "output_type": "stream",
     "text": [
      "请给定符号*\n",
      "请给定行数5\n",
      "          \n",
      "         * \n",
      "        * * \n",
      "       * * * \n",
      "      * * * * \n",
      "     * * * * * \n",
      "\n",
      "*\n",
      "**\n",
      "***\n",
      "****\n",
      "*****\n",
      "          \n",
      "         *        \n",
      "        *        *        \n",
      "       *        *        *        \n",
      "      *        *        *        *        \n",
      "     *        *        *        *        *        \n"
     ]
    }
   ],
   "source": [
    "#练习二：写函数，根据给定符号和行数，打印相应直角三角形，等腰三角形及其他形式的三角形。\n",
    "\n",
    "def triangle():\n",
    "    x=str(input('请给定符号'))\n",
    "    n=int(input('请给定行数'))\n",
    "    for i in range(n+1):\n",
    "        for k in range(n*2-i,0,-1):\n",
    "            print('', end=' ')\n",
    "        for j in range(0,i):\n",
    "            print(x,end=' ')\n",
    "        print()\n",
    "    for i in range(n+1):\n",
    "        for k in range(n*2-i,0,-1):\n",
    "            print('', end='')\n",
    "        for j in range(0,i):\n",
    "            print(x,end='')\n",
    "        print()\n",
    "    for i in range(n+1):\n",
    "        for k in range(n*2-i,0,-1):\n",
    "            print(' ', end='')\n",
    "        for j in range(0,i):\n",
    "            print(x,end='        ')\n",
    "        print()\n",
    "    \n",
    "triangle()"
   ]
  },
  {
   "cell_type": "code",
   "execution_count": 4,
   "metadata": {
    "scrolled": true
   },
   "outputs": [
    {
     "name": "stdout",
     "output_type": "stream",
     "text": [
      "请给定符号+\n",
      "请输入行数5\n",
      "     +\n",
      "    +++\n",
      "   +++++\n",
      "  +++++++\n",
      " +++++++++\n",
      "+++++++++++\n",
      " +++++++++\n",
      "  +++++++\n",
      "   +++++\n",
      "    +++\n",
      "     +\n"
     ]
    }
   ],
   "source": [
    "#练习五：写函数，根据给定符号，打印各种菱形。\n",
    "\n",
    "def dimond():\n",
    "    x=str(input('请给定符号'))\n",
    "    n=int(input('请输入行数'))\n",
    "    for i in range(n):\n",
    "        print (' '*(n-i) + x*(2*i+1))\n",
    "    print (x*(2*n+1))\n",
    "    for i in range(n):\n",
    "        print (' '*(i+1) + x*(2*(n-i-1)+1))\n",
    "\n",
    "dimond()"
   ]
  }
 ],
 "metadata": {
  "kernelspec": {
   "display_name": "Python 3",
   "language": "python",
   "name": "python3"
  }
 },
 "nbformat": 4,
 "nbformat_minor": 2
}
