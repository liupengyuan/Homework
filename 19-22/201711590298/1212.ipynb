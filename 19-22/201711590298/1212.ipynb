{
 "cells": [
  {
   "cell_type": "code",
   "execution_count": 65,
   "metadata": {},
   "outputs": [],
   "source": [
    "import random\n",
    "fh = open(r'c:\\temp\\idioms.txt')\n",
    "text = fh.read()\n",
    "text = text.replace('\\n', '')\n",
    "text = text.replace('、', '')\n",
    "line=[]\n",
    "for m in range(1,11):\n",
    "    for i in range(1,10*m+1):\n",
    "        x=random.choice(text)\n",
    "        line.append(x)\n",
    "    n=str(m)\n",
    "    fh =open('c:/temp/'+n+'.text','w')\n",
    "    fh.write('\\n'.join(line))\n",
    "    fh.close()"
   ]
  }
 ],
 "metadata": {
  "kernelspec": {
   "display_name": "Python 3",
   "language": "python",
   "name": "python3"
  },
  "language_info": {
   "codemirror_mode": {
    "name": "ipython",
    "version": 3
   },
   "file_extension": ".py",
   "mimetype": "text/x-python",
   "name": "python",
   "nbconvert_exporter": "python",
   "pygments_lexer": "ipython3",
   "version": "3.6.2"
  }
 },
 "nbformat": 4,
 "nbformat_minor": 2
}
