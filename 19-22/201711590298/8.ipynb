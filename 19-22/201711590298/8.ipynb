{
 "cells": [
  {
   "cell_type": "code",
   "execution_count": 26,
   "metadata": {},
   "outputs": [
    {
     "name": "stdout",
     "output_type": "stream",
     "text": [
      "义薄云天\n",
      "请输入接下去的成语     天府之国\n",
      "国色天香\n",
      "请输入接下去的成语     香草美人\n",
      "人来人往\n",
      "请输入接下去的成语     往来翕忽\n",
      "输入成语库中不存在，游戏结束 你的得分是 20 计算机得分是 20\n"
     ]
    }
   ],
   "source": [
    "import random\n",
    "def idiom_exists(x):\n",
    "    with open(r'c:\\temp\\成语大全.txt') as f:\n",
    "        for i in set(f.readlines()):\n",
    "            if x == i.strip():\n",
    "                return True\n",
    "        return False\n",
    "def main():\n",
    "    fh = open(r'c:\\temp\\成语大全.txt')\n",
    "    text = fh.read()\n",
    "    text = text.replace('、','')\n",
    "    text = text.split()\n",
    "    score_man = 0\n",
    "    score_computer = 0\n",
    "    x1=random.choice(text)\n",
    "    print(x1)\n",
    "    y=str(input('请输入接下去的成语     '))\n",
    "    if x1[-1]==y[0]:\n",
    "        for x in text:\n",
    "            if x[0]==y[-1]:\n",
    "                print(x)\n",
    "                y=str(input('请输入接下去的成语     '))\n",
    "                score_man+=10\n",
    "                score_computer+=10\n",
    "        if idiom_exists(y) == False:\n",
    "            print('输入成语库中不存在，游戏结束',\n",
    "             '你的得分是',score_man,\n",
    "             '计算机得分是',score_computer\n",
    "             )\n",
    "\n",
    "    else:\n",
    "        print('成语库中不存在，游戏结束',\n",
    "             '你的得分是',score_man,\n",
    "             '计算机得分是',score_computer\n",
    "             )\n",
    "\n",
    "main()\n"
   ]
  }
 ],
 "metadata": {
  "kernelspec": {
   "display_name": "Python 3",
   "language": "python",
   "name": "python3"
  },
  "language_info": {
   "codemirror_mode": {
    "name": "ipython",
    "version": 3
   },
   "file_extension": ".py",
   "mimetype": "text/x-python",
   "name": "python",
   "nbconvert_exporter": "python",
   "pygments_lexer": "ipython3",
   "version": "3.6.2"
  }
 },
 "nbformat": 4,
 "nbformat_minor": 2
}
