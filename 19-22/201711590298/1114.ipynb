{
 "cells": [
  {
   "cell_type": "code",
   "execution_count": 1,
   "metadata": {},
   "outputs": [
    {
     "name": "stdout",
     "output_type": "stream",
     "text": [
      "平均值是 106.72999999999999\n",
      "最大值是 899\n",
      "最小值是 -10\n"
     ]
    }
   ],
   "source": [
    "#写函数，返回一个list中的最大值，最小值，平均值。（不用内置的求和求函数）\n",
    "\n",
    "def ex1114():\n",
    "    numbers=[1,2,-1,55,100,899,-10,3,12.5,5.8]\n",
    "    n=len(numbers)\n",
    "    total=0\n",
    "    i=0\n",
    "    for number in numbers:\n",
    "        total=total+number\n",
    "    print('平均值是',total/n)\n",
    "    \n",
    "    max_number=numbers[i]\n",
    "    min_number=numbers[i]\n",
    "    while i<len(numbers)-1:\n",
    "        i=i+1\n",
    "        if numbers[i]>max_number:\n",
    "            max_number=numbers[i]\n",
    "        elif numbers[i]<=min_number:\n",
    "            min_number=numbers[i]\n",
    "    print('最大值是',max_number)\n",
    "    print('最小值是',min_number)\n",
    "        \n",
    "\n",
    "ex1114()"
   ]
  }
 ],
 "metadata": {
  "kernelspec": {
   "display_name": "Python 3",
   "language": "python",
   "name": "python3"
  },
  "language_info": {
   "codemirror_mode": {
    "name": "ipython",
    "version": 3
   },
   "file_extension": ".py",
   "mimetype": "text/x-python",
   "name": "python",
   "nbconvert_exporter": "python",
   "pygments_lexer": "ipython3",
   "version": "3.6.2"
  }
 },
 "nbformat": 4,
 "nbformat_minor": 2
}
