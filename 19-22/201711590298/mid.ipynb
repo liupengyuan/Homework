{
 "cells": [
  {
   "cell_type": "code",
   "execution_count": 7,
   "metadata": {
    "collapsed": false
   },
   "outputs": [
    {
     "name": "stdout",
     "output_type": "stream",
     "text": [
      "10\n"
     ]
    }
   ],
   "source": [
    "#1\n",
    "def sum(m):\n",
    "    total=0\n",
    "    i=0\n",
    "    sum=0\n",
    "    while i<m:\n",
    "        i += 1\n",
    "        total += i\n",
    "        sum += total\n",
    "    print(sum)\n",
    "    \n",
    "sum(3)"
   ]
  },
  {
   "cell_type": "code",
   "execution_count": 31,
   "metadata": {
    "collapsed": false
   },
   "outputs": [
    {
     "name": "stdout",
     "output_type": "stream",
     "text": [
      "*\n",
      "***\n",
      "*****\n",
      "*******\n",
      "*********\n"
     ]
    }
   ],
   "source": [
    "#2\n",
    "def f(x,n):\n",
    "    for i in range(1,2*n+1,2):\n",
    "        print(x*i)\n",
    "            \n",
    "f('*',5)"
   ]
  },
  {
   "cell_type": "code",
   "execution_count": 3,
   "metadata": {
    "collapsed": false
   },
   "outputs": [
    {
     "ename": "IndentationError",
     "evalue": "expected an indented block (<ipython-input-3-ea814ad5a289>, line 3)",
     "output_type": "error",
     "traceback": [
      "\u001b[0;36m  File \u001b[0;32m\"<ipython-input-3-ea814ad5a289>\"\u001b[0;36m, line \u001b[0;32m3\u001b[0m\n\u001b[0;31m    for i in n:\u001b[0m\n\u001b[0m      ^\u001b[0m\n\u001b[0;31mIndentationError\u001b[0m\u001b[0;31m:\u001b[0m expected an indented block\n"
     ]
    }
   ],
   "source": [
    "#3\n",
    "def g(n):\n",
    "for i in n:\n",
    "    print('这个正整数的第一位数是',n[1])\n",
    "        \n",
    "g(45543156463)"
   ]
  },
  {
   "cell_type": "code",
   "execution_count": 2,
   "metadata": {
    "collapsed": false
   },
   "outputs": [
    {
     "name": "stdout",
     "output_type": "stream",
     "text": [
      "请输入人数，以回车结束9\n",
      "请输入身高，以回车结束183\n",
      "请输入身高，以回车结束185\n",
      "请输入身高，以回车结束183\n",
      "请输入身高，以回车结束187\n",
      "请输入身高，以回车结束178\n",
      "请输入身高，以回车结束175\n",
      "请输入身高，以回车结束177\n",
      "请输入身高，以回车结束190\n",
      "请输入身高，以回车结束172\n",
      "平均值是 181.11111111111111\n",
      "高于平均值的有 183\n",
      "高于平均值的有 185\n",
      "高于平均值的有 183\n",
      "高于平均值的有 187\n",
      "高于平均值的有 190\n"
     ]
    }
   ],
   "source": [
    "#4\n",
    "n= int(input('请输入人数，以回车结束'))\n",
    "i=0\n",
    "total=0\n",
    "x=[]\n",
    "while i<n:\n",
    "    height=int(input('请输入身高，以回车结束'))\n",
    "    total += height\n",
    "    i=i+1\n",
    "    x.append(height)\n",
    "average=total/n\n",
    "print('平均值是',average)\n",
    "for it in x:\n",
    "    if it>average:\n",
    "        print('高于平均值的有',it)"
   ]
  },
  {
   "cell_type": "code",
   "execution_count": 2,
   "metadata": {
    "collapsed": false
   },
   "outputs": [
    {
     "name": "stdout",
     "output_type": "stream",
     "text": [
      "7 1\n",
      "请输入两个数的和8\n",
      "2 7\n",
      "请输入两个数的和9\n",
      "2 1\n",
      "请输入两个数的和3\n",
      "7 8\n",
      "请输入两个数的和15\n",
      "5 1\n",
      "请输入两个数的和6\n",
      "最终得分是 100\n"
     ]
    }
   ],
   "source": [
    "#5\n",
    "import random\n",
    "\n",
    "a=0\n",
    "i=0\n",
    "while i<5:\n",
    "    m=random.randint(1,10)\n",
    "    n=random.randint(1,10)\n",
    "    x=m+n\n",
    "    print(m,n)\n",
    "    y=int(input('请输入两个数的和'))\n",
    "    if y==x:\n",
    "        a=a+1\n",
    "    else:\n",
    "        a=a\n",
    "    i=i+1\n",
    "print('最终得分是',20*a)\n"
   ]
  },
  {
   "cell_type": "code",
   "execution_count": 6,
   "metadata": {
    "collapsed": false
   },
   "outputs": [
    {
     "name": "stdout",
     "output_type": "stream",
     "text": [
      "[108, 3, -5, 9, 34, 88, -76]\n"
     ]
    }
   ],
   "source": [
    "numbers=[3,-5,9,108,34,-76,88]\n",
    "n=max(numbers)\n",
    "m=min(numbers)\n",
    "x=[]\n",
    "x.append(n)\n",
    "for number in numbers:\n",
    "    if m<number<n:\n",
    "        x.append(number)\n",
    "x.append(m)\n",
    "print(x)"
   ]
  }
 ],
 "metadata": {
  "kernelspec": {
   "display_name": "Python 3",
   "language": "python",
   "name": "python3"
  },
  "language_info": {
   "codemirror_mode": {
    "name": "ipython",
    "version": 3
   },
   "file_extension": ".py",
   "mimetype": "text/x-python",
   "name": "python",
   "nbconvert_exporter": "python",
   "pygments_lexer": "ipython3",
   "version": "3.6.0"
  }
 },
 "nbformat": 4,
 "nbformat_minor": 2
}
