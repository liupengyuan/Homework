{
 "cells": [
  {
   "cell_type": "code",
   "execution_count": null,
   "metadata": {
    "collapsed": true
   },
   "outputs": [],
   "source": [
    "#练习 1：写程序，可由键盘读入用户姓名例如Mr. right，让用户输入出生的月份与日期，判断用户星座."
   ]
  },
  {
   "cell_type": "code",
   "execution_count": 1,
   "metadata": {},
   "outputs": [
    {
     "name": "stdout",
     "output_type": "stream",
     "text": [
      "请输入您的姓名，以回车结束小米\n",
      "请输入您的生日如0102，以回车结束118\n",
      "小米 您是脚踏实地的摩羯座\n"
     ]
    }
   ],
   "source": [
    "name=input('请输入您的姓名，以回车结束')\n",
    "date=int(input('请输入您的生日如0102，以回车结束'))\n",
    "if 321<date<419:\n",
    "    print(name,'您是爱冒险的白羊座')\n",
    "elif 420<date<520:\n",
    "    print(name,'您是吃苦耐劳的金牛座')\n",
    "elif 521<date<621:\n",
    "    print(name,'您是理性的双子座')\n",
    "elif 622<date<722:\n",
    "    print(name,'您是充满爱心的巨蟹座')\n",
    "elif 723<date<822:\n",
    "    print(name,'您是阳光热情的狮子座')\n",
    "elif 823<date<922:\n",
    "    print(name,'您是谦虚的处女座')\n",
    "elif 923<date<1023:\n",
    "    print(name,'您是优雅善良的天秤座')\n",
    "elif 1024<date>1122:\n",
    "    print(name,'您是精力旺盛的天蝎座')\n",
    "elif 1123<date<1221:\n",
    "    print(name,'您是乐观诚实的射手座')\n",
    "elif 120<date<218:\n",
    "    print(name,'您是倔强的水瓶座')\n",
    "elif 219<date<320:\n",
    "    print(name,'您是想象力丰富的双鱼座')\n",
    "else:\n",
    "    print(name,'您是脚踏实地的摩羯座')"
   ]
  },
  {
   "cell_type": "code",
   "execution_count": null,
   "metadata": {
    "collapsed": true
   },
   "outputs": [],
   "source": [
    "#练习 2：写程序，可由键盘读入两个整数m与n(n不等于0)，询问用户意图，如果要求和则计算从m到n的和输出，\n",
    "#如果要乘积则计算从m到n的积并输出，如果要求余数则计算m除以n的余数的值并输出，否则则计算m整除n的值并输出。"
   ]
  },
  {
   "cell_type": "code",
   "execution_count": 1,
   "metadata": {},
   "outputs": [
    {
     "name": "stdout",
     "output_type": "stream",
     "text": [
      "请输入一个整数，以回车结束3\n",
      "请输入一个非零整数，以回车结束2\n",
      "请输入所要进行的运算，1为求和，2为乘积，3为求余数，其他则为求整除后的值3\n",
      "1\n"
     ]
    }
   ],
   "source": [
    "m=int(input('请输入一个整数，以回车结束'))\n",
    "n=int(input('请输入一个非零整数，以回车结束'))\n",
    "x=int(input('请输入所要进行的运算，1为求和，2为乘积，3为求余数，其他则为求整除后的值'))\n",
    "\n",
    "total=0\n",
    "product=1\n",
    "a=0\n",
    "b=0\n",
    "if x==1:\n",
    "    if m>n:\n",
    "        while m>n:\n",
    "            total=total+n\n",
    "            n=n+1\n",
    "        print(total+m)\n",
    "    if m<=n:\n",
    "        while m<n:\n",
    "            total=total+m\n",
    "            m=m+1\n",
    "        print(total+n)\n",
    "elif x==2:\n",
    "    if m>n:\n",
    "        while m>n:\n",
    "            product=product*n\n",
    "            n=n+1\n",
    "        print(product*m)\n",
    "    if m<=n:\n",
    "        while m<n:\n",
    "            product=product*m\n",
    "            m=m=1\n",
    "        print(product*n)\n",
    "elif x==3:\n",
    "    a=m%n\n",
    "    print(a)\n",
    "else:\n",
    "    b=m//n\n",
    "    print(b)"
   ]
  },
  {
   "cell_type": "code",
   "execution_count": null,
   "metadata": {
    "collapsed": true
   },
   "outputs": [],
   "source": [
    "#练习 4：英文单词单数转复数，要求输入一个英文动词（单数形式），能够得到其复数形式，或给出单数转复数形式的建议"
   ]
  },
  {
   "cell_type": "code",
   "execution_count": 2,
   "metadata": {},
   "outputs": [
    {
     "name": "stdout",
     "output_type": "stream",
     "text": [
      "请输入一个英文动词(单数形式)，以回车结束box\n",
      "boxes\n"
     ]
    }
   ],
   "source": [
    "word=input('请输入一个英文动词(单数形式)，以回车结束')\n",
    "if word.endswith('sh')or('ch')or('x')or('s'):\n",
    "    print(word+'es')\n",
    "elif word.endswith('f'):\n",
    "    a=word.replace('f','ves')  \n",
    "    print(a)\n",
    "elif word.endswith('fe'):\n",
    "    b=word.replace('fe','ves')\n",
    "    print(b)\n",
    "else:\n",
    "    print(word+'s')"
   ]
  },
  {
   "cell_type": "code",
   "execution_count": 3,
   "metadata": {},
   "outputs": [],
   "source": [
    "#尝试性练习：写程序，能够在屏幕上显示空行。"
   ]
  },
  {
   "cell_type": "code",
   "execution_count": 12,
   "metadata": {},
   "outputs": [
    {
     "name": "stdout",
     "output_type": "stream",
     "text": [
      "请输入显示的空行行数，以回车结束9\n",
      "\n",
      "\n",
      "\n",
      "\n",
      "\n",
      "\n",
      "\n",
      "\n",
      "\n",
      "\n"
     ]
    }
   ],
   "source": [
    "x=int(input('请输入显示的空行行数，以回车结束'))\n",
    "print('\\n'*x)"
   ]
  }
 ],
 "metadata": {
  "kernelspec": {
   "display_name": "Python 3",
   "language": "python",
   "name": "python3"
  },
  "language_info": {
   "codemirror_mode": {
    "name": "ipython",
    "version": 3
   },
   "file_extension": ".py",
   "mimetype": "text/x-python",
   "name": "python",
   "nbconvert_exporter": "python",
   "pygments_lexer": "ipython3",
   "version": "3.6.2"
  }
 },
 "nbformat": 4,
 "nbformat_minor": 2
}
