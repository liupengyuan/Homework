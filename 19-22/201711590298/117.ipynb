{
 "cells": [
  {
   "cell_type": "code",
   "execution_count": 3,
   "metadata": {},
   "outputs": [],
   "source": [
    "#练习 1：写函数，求n个随机整数均值的平方根，整数范围在m与k之间（n,m,k由用户输入）。"
   ]
  },
  {
   "cell_type": "code",
   "execution_count": 16,
   "metadata": {},
   "outputs": [
    {
     "name": "stdout",
     "output_type": "stream",
     "text": [
      "请输入随机整数的个数，以回车结束5\n",
      "请输入随机整数的下界，以回车结束10\n",
      "请输入随机整数的上界，以回车结束500\n",
      "38.8587184554509\n"
     ]
    }
   ],
   "source": [
    "import random\n",
    "\n",
    "def f():\n",
    "    m=int(input('请输入随机整数的个数，以回车结束'))\n",
    "    n=int(input('请输入随机整数的下界，以回车结束'))\n",
    "    k=int(input('请输入随机整数的上界，以回车结束'))\n",
    "    total=0\n",
    "    i=0\n",
    "    while i<m:\n",
    "        num=random.randint(n,k)\n",
    "        total=total+num\n",
    "        i=i+1\n",
    "    print(total**(1/2))\n",
    "    \n",
    "f()"
   ]
  }
 ],
 "metadata": {
  "kernelspec": {
   "display_name": "Python 3",
   "language": "python",
   "name": "python3"
  },
  "language_info": {
   "codemirror_mode": {
    "name": "ipython",
    "version": 3
   },
   "file_extension": ".py",
   "mimetype": "text/x-python",
   "name": "python",
   "nbconvert_exporter": "python",
   "pygments_lexer": "ipython3",
   "version": "3.6.2"
  }
 },
 "nbformat": 4,
 "nbformat_minor": 2
}
