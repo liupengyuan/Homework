{
 "cells": [
  {
   "cell_type": "code",
   "execution_count": 2,
   "metadata": {},
   "outputs": [
    {
     "name": "stdout",
     "output_type": "stream",
     "text": [
      "*******游戏菜单********\n",
      "             1.游戏说明。\n",
      "             2.开始游戏。\n",
      "             3.退出游戏\n",
      "             4.制作团队\n",
      "             *******游戏菜单********\n",
      "请输入你的选择，回车结束2\n",
      "\n",
      "随波逐流\n",
      "请输入你所接成语，回车结束流水落花\n",
      "流水落花\n",
      "游戏结束\n",
      "person: 0 computer: 0\n",
      "*******游戏菜单********\n",
      "             1.游戏说明。\n",
      "             2.开始游戏。\n",
      "             3.退出游戏\n",
      "             4.制作团队\n",
      "             *******游戏菜单********\n",
      "请输入你的选择，回车结束3\n",
      "游戏结束\n"
     ]
    }
   ],
   "source": [
    "import random\n",
    "\n",
    "def game_over():\n",
    "    print('游戏结束')\n",
    "def show_team():\n",
    "    print('cyz')\n",
    "    \n",
    "def show_instruction():\n",
    "    print('计算机随机出一个成语，人类进行接龙，然后交替。程序自动判断接龙是否正确，对一个加10分，错误则游戏结束。')\n",
    "    \n",
    "def menu():\n",
    "    print('''*******游戏菜单********\n",
    "             1.游戏说明。\n",
    "             2.开始游戏。\n",
    "             3.退出游戏\n",
    "             4.制作团队\n",
    "             *******游戏菜单********''')\n",
    "def idiom_game():\n",
    "    computer=0\n",
    "    person=0\n",
    "    fh=open(r'c:\\temp\\成语大全.txt')\n",
    "    text=fh.read()\n",
    "    fh.close()\n",
    "    idioms=text.split('、')\n",
    "    start=random.choice(idioms)\n",
    "    new=[]\n",
    "    print(start)\n",
    "    answer=input('请输入你所接成语，回车结束')\n",
    "    n=answer[len(answer)-2:len(answer)-1:-1]\n",
    "    print(answer)\n",
    "    for idiom in idioms:\n",
    "        m=idiom[:1]\n",
    "        if m==n:\n",
    "            new.append(idiom)\n",
    "    if len(new)==0:\n",
    "        p=answer[:1]\n",
    "        q=start[len(start)-2:len(start)-1:-1]\n",
    "        if p==q:\n",
    "            person=person+10\n",
    "        game_over()\n",
    "        print('person:',person,'computer:',computer)\n",
    "    else:\n",
    "\n",
    "        while p==q:\n",
    "            person=person+10\n",
    "            start=random.choice(new)\n",
    "            print(start)\n",
    "            computer=computer+10\n",
    "            answer=input()\n",
    "\n",
    "def main():\n",
    "    while True:\n",
    "        menu()\n",
    "        choice=int(input('请输入你的选择，回车结束'))\n",
    "        if choice==1:\n",
    "            show_instruction()\n",
    "        elif choice==2:\n",
    "            idiom_game()\n",
    "        elif choice==3:\n",
    "            game_over()\n",
    "            break\n",
    "        else:\n",
    "            show_team()\n",
    "            \n",
    "if __name__ == '__main__':\n",
    "    main()\n"
   ]
  },
  {
   "cell_type": "code",
   "execution_count": null,
   "metadata": {
    "collapsed": true
   },
   "outputs": [],
   "source": []
  },
  {
   "cell_type": "code",
   "execution_count": null,
   "metadata": {
    "collapsed": true
   },
   "outputs": [],
   "source": []
  },
  {
   "cell_type": "code",
   "execution_count": null,
   "metadata": {
    "collapsed": true
   },
   "outputs": [],
   "source": []
  },
  {
   "cell_type": "code",
   "execution_count": null,
   "metadata": {
    "collapsed": true
   },
   "outputs": [],
   "source": []
  },
  {
   "cell_type": "code",
   "execution_count": null,
   "metadata": {
    "collapsed": true
   },
   "outputs": [],
   "source": []
  },
  {
   "cell_type": "code",
   "execution_count": null,
   "metadata": {
    "collapsed": true
   },
   "outputs": [],
   "source": []
  },
  {
   "cell_type": "code",
   "execution_count": null,
   "metadata": {
    "collapsed": true
   },
   "outputs": [],
   "source": []
  }
 ],
 "metadata": {
  "kernelspec": {
   "display_name": "Python 3",
   "language": "python",
   "name": "python3"
  },
  "language_info": {
   "codemirror_mode": {
    "name": "ipython",
    "version": 3
   },
   "file_extension": ".py",
   "mimetype": "text/x-python",
   "name": "python",
   "nbconvert_exporter": "python",
   "pygments_lexer": "ipython3",
   "version": "3.6.2"
  }
 },
 "nbformat": 4,
 "nbformat_minor": 2
}
