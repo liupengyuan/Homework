{
 "cells": [
  {
   "cell_type": "code",
   "execution_count": 1,
   "metadata": {},
   "outputs": [
    {
     "name": "stdout",
     "output_type": "stream",
     "text": [
      "请输入您想输入的数字的个数4\n",
      "请输入一个数字5\n",
      "请输入一个数字6\n",
      "请输入一个数字7\n",
      "请输入一个数字8\n",
      "请输入一个元素，将判定它在列表中的位置，如果不在则返回-17\n",
      "3\n"
     ]
    }
   ],
   "source": [
    "def x():\n",
    "    numbers=[]\n",
    "    n=int(input('请输入您想输入的数字的个数'))\n",
    "    i=0\n",
    "    k=0\n",
    "    while i<n:\n",
    "        numbers.append(int(input('请输入一个数字')))\n",
    "        i+=1\n",
    "    l=int(input('请输入一个元素，将判定它在列表中的位置，如果不在则返回-1'))\n",
    "    \n",
    "    while k<n:\n",
    "        if l==numbers[k]:\n",
    "            print(k+1)\n",
    "        else:\n",
    "            pass\n",
    "        k+=1\n",
    "    while k>n:\n",
    "        print(-1)\n",
    "    \n",
    "x()"
   ]
  },
  {
   "cell_type": "code",
   "execution_count": 18,
   "metadata": {},
   "outputs": [
    {
     "name": "stdout",
     "output_type": "stream",
     "text": [
      "请输入您想为每个列表单独输入的数字的个数2\n",
      "请为列表一添加一个数字1\n",
      "请为列表二添加一个数字2\n",
      "请为列表一添加一个数字3\n",
      "请为列表二添加一个数字4\n",
      "根据列表一和列表二生成的列表三为： [1, 2, 3, 4]\n"
     ]
    }
   ],
   "source": [
    "def y():\n",
    "    numbers_1=[]\n",
    "    numbers_2=[]\n",
    "    numbers_3=[]\n",
    "    n=int(input('请输入您想为每个列表单独输入的数字的个数'))\n",
    "    i=0\n",
    "    while i<n:\n",
    "        numbers_1.append(int(input('请为列表一添加一个数字')))\n",
    "        numbers_2.append(int(input('请为列表二添加一个数字')))\n",
    "        i+=1\n",
    "  \n",
    "        numbers_3.append(numbers_1[i-1])\n",
    "        numbers_3.append(numbers_2[i-1])\n",
    "\n",
    "    print('根据列表一和列表二生成的列表三为：',numbers_3)\n",
    "y()"
   ]
  },
  {
   "cell_type": "code",
   "execution_count": 28,
   "metadata": {},
   "outputs": [
    {
     "name": "stdout",
     "output_type": "stream",
     "text": [
      "请用数字键入向量的维度2\n",
      "请输入向量a的横坐标1\n",
      "请输入向量b的横坐标2\n",
      "请输入向量a的横坐标3\n",
      "请输入向量b的横坐标4\n",
      "1.1666666666666667\n"
     ]
    }
   ],
   "source": [
    "import math\n",
    "def cos():\n",
    "    n=int(input('请用数字键入向量的维度'))\n",
    "    a=[]\n",
    "    b=[]\n",
    "    i=0\n",
    "    total_1=0\n",
    "    total_2=0\n",
    "    while i<n:\n",
    "        a.append(int(input('请输入向量a的横坐标')))\n",
    "        b.append(int(input('请输入向量b的横坐标')))\n",
    "        total_1+=a[i]*b[i]\n",
    "        i+=1\n",
    "    for o in a:\n",
    "        x=math.sqrt(o*o)\n",
    "    for j in b:\n",
    "        y=math.sqrt(j*j)\n",
    "    total_2=x*y\n",
    "    print(total_1/total_2)\n",
    "cos()"
   ]
  },
  {
   "cell_type": "code",
   "execution_count": 6,
   "metadata": {},
   "outputs": [
    {
     "ename": "SyntaxError",
     "evalue": "invalid syntax (<ipython-input-6-66aa101304a6>, line 4)",
     "output_type": "error",
     "traceback": [
      "\u001b[1;36m  File \u001b[1;32m\"<ipython-input-6-66aa101304a6>\"\u001b[1;36m, line \u001b[1;32m4\u001b[0m\n\u001b[1;33m    while i+k+j=100:\u001b[0m\n\u001b[1;37m               ^\u001b[0m\n\u001b[1;31mSyntaxError\u001b[0m\u001b[1;31m:\u001b[0m invalid syntax\n"
     ]
    }
   ],
   "source": [
    "#给每个Macbook Pro都编号，从1到100\n",
    "\n",
    "      "
   ]
  }
 ],
 "metadata": {
  "kernelspec": {
   "display_name": "Python 3",
   "language": "python",
   "name": "python3"
  },
  "language_info": {
   "codemirror_mode": {
    "name": "ipython",
    "version": 3
   },
   "file_extension": ".py",
   "mimetype": "text/x-python",
   "name": "python",
   "nbconvert_exporter": "python",
   "pygments_lexer": "ipython3",
   "version": "3.6.2"
  }
 },
 "nbformat": 4,
 "nbformat_minor": 2
}
