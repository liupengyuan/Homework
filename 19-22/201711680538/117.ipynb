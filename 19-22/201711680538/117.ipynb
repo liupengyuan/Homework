{
 "cells": [
  {
   "cell_type": "code",
   "execution_count": 1,
   "metadata": {
    "collapsed": false
   },
   "outputs": [
    {
     "name": "stdout",
     "output_type": "stream",
     "text": [
      "请输入您想要的随机整数的个数5\n",
      "请输入一个值作为整数的下界10\n",
      "请输入一个值作为整数的上界500\n",
      "38.47076812334269\n"
     ]
    }
   ],
   "source": [
    "import random\n",
    "def ave():\n",
    "    m=int(input('请输入您想要的随机整数的个数'))\n",
    "    n=int(input('请输入一个值作为整数的下界'))\n",
    "    k=int(input('请输入一个值作为整数的上界'))\n",
    "    number=random.randint(n,k)\n",
    "    i=0\n",
    "    total=0\n",
    "    while i<m:\n",
    "        i+=1\n",
    "        total+=number\n",
    "        number=random.randint(n,k)\n",
    "    ave=total**(0.5)\n",
    "    return ave\n",
    "print (ave())\n",
    "        "
   ]
  }
 ],
 "metadata": {
  "kernelspec": {
   "display_name": "Python 3",
   "language": "python",
   "name": "python3"
  },
  "language_info": {
   "codemirror_mode": {
    "name": "ipython",
    "version": 3
   },
   "file_extension": ".py",
   "mimetype": "text/x-python",
   "name": "python",
   "nbconvert_exporter": "python",
   "pygments_lexer": "ipython3",
   "version": "3.6.0"
  }
 },
 "nbformat": 4,
 "nbformat_minor": 2
}
