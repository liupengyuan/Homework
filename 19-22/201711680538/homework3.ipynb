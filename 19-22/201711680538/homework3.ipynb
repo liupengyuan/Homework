{
 "cells": [
  {
   "cell_type": "code",
   "execution_count": 1,
   "metadata": {},
   "outputs": [
    {
     "name": "stdout",
     "output_type": "stream",
     "text": [
      "请输入您的姓名l\n",
      "您好 l\n",
      "请输入您的生日，格式为412:321\n",
      "l 白羊座冲动偏执狂你好\n"
     ]
    }
   ],
   "source": [
    "n=input('请输入您的姓名')\n",
    "print('您好',n)\n",
    "m=int(input('请输入您的生日，格式为412:'))\n",
    "if 321<=m<=419:\n",
    "    print(n,'白羊座冲动偏执狂你好')\n",
    "elif 420<=m<=520:\n",
    "    print(n,'顽固的金牛座老干部你好')\n",
    "elif 521<=m<=621:\n",
    "    print(n,'双子座精神分裂症你好')\n",
    "elif 622<=m<=722:\n",
    "    print(n,'情绪化玻璃心巨蟹座你好')\n",
    "elif 723<=m<822:\n",
    "    print(n,'七月份的尾巴，你是狮子座~八月份的前奏，你是狮子座~')\n",
    "elif 823<=m<=922:\n",
    "    print(n,'我不想和你们处女座的人说话')\n",
    "elif 923<=m<=1023:\n",
    "    print(n,'亲切善良的天枰座你好')\n",
    "elif 1024<=m<=1122:\n",
    "    print(n,'天蝎座厚黑学大佬你好')\n",
    "elif 1123<=m<=1221:\n",
    "    print(n,'热情的射手座冒险家你好')\n",
    "elif m>=1222 or m<=119:\n",
    "    print(n,'稳重的摩羯座你好')\n",
    "elif 120<=m<=218:\n",
    "    print(n,'追求革新的水瓶座你好')\n",
    "elif 219<=m<=320:\n",
    "    print(n,'多愁善感的双鱼座你好')"
   ]
  },
  {
   "cell_type": "code",
   "execution_count": null,
   "metadata": {},
   "outputs": [],
   "source": [
    "n=int(input('请输入一个整数'))\n",
    "m=int(input('请再输入一个整数，这个整数不为零'))\n",
    "q=int(input('请选择您想对这两个整数进行的运算，求和输1，求乘积输2，求余数输3，否则输出相除值。回车键结束。'))\n",
    "if q==1:\n",
    "    print(m+n)\n",
    "elif q==2:\n",
    "    print(m*n)\n",
    "elif q==3:\n",
    "    print(m%n)\n",
    "else:\n",
    "    print(m/n)\n",
    "    "
   ]
  },
  {
   "cell_type": "code",
   "execution_count": 19,
   "metadata": {},
   "outputs": [
    {
     "name": "stdout",
     "output_type": "stream",
     "text": [
      "请输入一个英文单词的单数形式，将给出将其转变为复数的建议love\n",
      "直接加s\n"
     ]
    }
   ],
   "source": [
    "n=input('请输入一个英文单词的单数形式，将给出将其转变为复数的建议')\n",
    "if n.endswith('s') or n.endswith('sh') or n.endswith('ch') or  n.endswith('x'):\n",
    "    print('结尾加es')\n",
    "elif n.endswith('f'):\n",
    "    print('去f加ves')\n",
    "elif n.endswith('ef'):\n",
    "    print('去ef加ves')\n",
    "else:\n",
    "    print('直接加s')\n",
    "    "
   ]
  },
  {
   "cell_type": "code",
   "execution_count": 3,
   "metadata": {},
   "outputs": [
    {
     "name": "stdout",
     "output_type": "stream",
     "text": [
      "\n"
     ]
    }
   ],
   "source": [
    "print(                                                                              )"
   ]
  },
  {
   "cell_type": "code",
   "execution_count": 12,
   "metadata": {},
   "outputs": [
    {
     "name": "stdout",
     "output_type": "stream",
     "text": [
      "请输入您想要输入的整数的个数,至少三个5\n",
      "请输入一个整数5\n",
      "请输入一个整数4\n",
      "请输入一个整数3\n",
      "请输入一个整数4\n",
      "请输入一个整数5\n",
      "这些数的次大值是 4\n"
     ]
    }
   ],
   "source": [
    "m=int(input('请输入您想要输入的整数的个数,至少三个'))\n",
    "max=int(input('请输入一个整数'))\n",
    "n=int(input('请输入一个整数'))\n",
    "i=2\n",
    "if n>max:\n",
    "    sec=max\n",
    "    max=n\n",
    "else:\n",
    "    sec=n\n",
    "while i<m:\n",
    "    i=i+1\n",
    "    q=int(input('请输入一个整数'))\n",
    "    if q>max:\n",
    "        sec=max\n",
    "        max=q\n",
    "    elif sec<q<max:\n",
    "        sec=q\n",
    "print('这些数的次大值是',sec)\n"
   ]
  }
 ],
 "metadata": {
  "kernelspec": {
   "display_name": "Python 3",
   "language": "python",
   "name": "python3"
  },
  "language_info": {
   "codemirror_mode": {
    "name": "ipython",
    "version": 3
   },
   "file_extension": ".py",
   "mimetype": "text/x-python",
   "name": "python",
   "nbconvert_exporter": "python",
   "pygments_lexer": "ipython3",
   "version": "3.6.2"
  }
 },
 "nbformat": 4,
 "nbformat_minor": 2
}
