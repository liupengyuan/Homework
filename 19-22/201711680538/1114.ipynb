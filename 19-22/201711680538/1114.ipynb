{
 "cells": [
  {
   "cell_type": "code",
   "execution_count": 8,
   "metadata": {},
   "outputs": [
    {
     "data": {
      "text/plain": [
       "(1067.3, 899, -10, 106.72999999999999)"
      ]
     },
     "execution_count": 8,
     "metadata": {},
     "output_type": "execute_result"
    }
   ],
   "source": [
    "def po():\n",
    "    numbers=[1,2,-1,55,100,899,-10,3,12.5,5.8]\n",
    "    total=0\n",
    "    max=min=numbers[0]\n",
    "    for number in numbers:\n",
    "        total+=number\n",
    "\n",
    "    for i in numbers:\n",
    "        for j in numbers:\n",
    "           \n",
    "            if i<min:\n",
    "                min=i\n",
    "            if j>max:\n",
    "                max=j\n",
    "    return(total,max,min,total/10)\n",
    "\n",
    "po()"
   ]
  }
 ],
 "metadata": {
  "kernelspec": {
   "display_name": "Python 3",
   "language": "python",
   "name": "python3"
  },
  "language_info": {
   "codemirror_mode": {
    "name": "ipython",
    "version": 3
   },
   "file_extension": ".py",
   "mimetype": "text/x-python",
   "name": "python",
   "nbconvert_exporter": "python",
   "pygments_lexer": "ipython3",
   "version": "3.6.2"
  }
 },
 "nbformat": 4,
 "nbformat_minor": 2
}
