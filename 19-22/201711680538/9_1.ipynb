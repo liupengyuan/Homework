{
 "cells": [
  {
   "cell_type": "code",
   "execution_count": 2,
   "metadata": {},
   "outputs": [
    {
     "name": "stdout",
     "output_type": "stream",
     "text": [
      "顺序查找法：\n",
      "0.025097131729125977\n",
      "二分查找法：\n",
      "0.003980159759521484\n"
     ]
    }
   ],
   "source": [
    "import random,time\n",
    "\n",
    "a=[i for i in range(1,100001)]\n",
    "\n",
    "b=[]\n",
    "random.shuffle(a)\n",
    "for i in range (0,100000):\n",
    "    b.append(a[i])\n",
    "\n",
    "c=[]\n",
    "d=[]\n",
    "for i in range(0,1000):\n",
    "    num=random.randint(1,110000)\n",
    "    c.append(num)\n",
    "\n",
    "print('顺序查找法：')\n",
    "start_time = time.time()\n",
    "for i in range (0,1000):\n",
    "    if  c[i] in b:\n",
    "        d.append(c[i])\n",
    "    else:\n",
    "        break\n",
    "end_time = time.time()\n",
    "print(end_time-start_time)\n",
    "\n",
    "print('二分查找法：')\n",
    "def bi_search(number, numbers, low, high):\n",
    "    if low > high:\n",
    "        return c[i],'不在序列中'\n",
    "    else:\n",
    "        mid = (low+high)//2\n",
    "        if number == mid:\n",
    "            return '找到',c[i]\n",
    "        elif number > mid:\n",
    "            return bi_search(number, numbers, mid+1, high)\n",
    "        else:\n",
    "            return bi_search(number, numbers, low, mid-1)\n",
    "start = time.time()\n",
    "for i in range (0,1000):\n",
    "    bi_search(c[i],a,0,99999)\n",
    "end = time.time()\n",
    "print(end-start)"
   ]
  }
 ],
 "metadata": {
  "kernelspec": {
   "display_name": "Python 3",
   "language": "python",
   "name": "python3"
  },
  "language_info": {
   "codemirror_mode": {
    "name": "ipython",
    "version": 3
   },
   "file_extension": ".py",
   "mimetype": "text/x-python",
   "name": "python",
   "nbconvert_exporter": "python",
   "pygments_lexer": "ipython3",
   "version": "3.6.2"
  }
 },
 "nbformat": 4,
 "nbformat_minor": 2
}
