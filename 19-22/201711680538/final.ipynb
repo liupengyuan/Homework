{
 "cells": [
  {
   "cell_type": "code",
   "execution_count": 12,
   "metadata": {},
   "outputs": [
    {
     "name": "stdout",
     "output_type": "stream",
     "text": [
      "请输入您想要打印多少行~5\n",
      "请输入您想要打印的符号*\n",
      "        * ***** *\n",
      "      * * ***** * *\n",
      "    * * * ***** * * *\n",
      "  * * * * ***** * * * *\n",
      "* * * * * ***** * * * * *\n"
     ]
    }
   ],
   "source": [
    "def flower(fuhao,n):\n",
    "    n=int(input('请输入您想要打印多少行~'))\n",
    "    fuhao=input('请输入您想要打印的符号')\n",
    "    i=1\n",
    "    while i<=n:\n",
    "        l=(fuhao+' ')*i\n",
    "        m=(' '+fuhao)*i\n",
    "        print(' '*(n*2-2*i) +l+fuhao*5+m)\n",
    "        i+=1\n",
    "flower(1,1)"
   ]
  },
  {
   "cell_type": "code",
   "execution_count": 19,
   "metadata": {},
   "outputs": [
    {
     "data": {
      "text/plain": [
       "125"
      ]
     },
     "execution_count": 19,
     "metadata": {},
     "output_type": "execute_result"
    }
   ],
   "source": [
    "def A(m,n):\n",
    "\n",
    "    if m==0:\n",
    "        return n+1\n",
    "    elif m>0 and n==0:\n",
    "        return A(m-1,1)\n",
    "    elif m>0 and n>0:\n",
    "        return A(m-1,A(m,n-1))\n",
    "    else:\n",
    "        print('此数据不能用该函数计算')\n",
    "A(3,4)"
   ]
  },
  {
   "cell_type": "code",
   "execution_count": null,
   "metadata": {},
   "outputs": [
    {
     "name": "stdout",
     "output_type": "stream",
     "text": [
      "请输入要打印多少道题目15\n",
      "请输入整数下限3\n",
      "请输入整数上限25\n",
      "22 * 11\n",
      "20 / 10\n",
      "21 / 3\n",
      "9 / 3\n",
      "24 + 4\n",
      "24 * 8\n",
      "8 / 4\n",
      "21 / 3\n",
      "15 + 5\n",
      "14 + 7\n",
      "24 / 3\n",
      "24 / 3\n",
      "16 * 8\n",
      "24 + 3\n",
      "24 - 8\n"
     ]
    }
   ],
   "source": [
    "import random\n",
    "def game():\n",
    "    n=int(input('请输入要打印多少道题目'))\n",
    "    a=int(input('请输入整数下限'))\n",
    "    b=int(input('请输入整数上限'))\n",
    "    score=0\n",
    "    right_answer=[]\n",
    "    user_answer=[]\n",
    "    i=1\n",
    "\n",
    "    while i<=n:\n",
    "        number_1=random.randint(a,b)\n",
    "        number_2=random.randint(a,b)\n",
    "        ds=('+','-','*','/')\n",
    "        d=random.choice(ds)\n",
    "        if int(number_1/number_2)==number_1/number_2 and number_1 - number_2>0:\n",
    "            \n",
    "            print(number_1,d,number_2)\n",
    "\n",
    "            right_answer.append(number_1)\n",
    "            i+=1\n",
    "        \n",
    "    user_answer.append(input())\n",
    "    for k in range (n):\n",
    "        if user_answer[k]==right_answer[k] :\n",
    "            if d=='-'or d=='+':\n",
    "                score+=5\n",
    "            if d=='*'or d=='/':\n",
    "                score+=10\n",
    "     \n",
    "    print(score)        \n",
    "game()    "
   ]
  },
  {
   "cell_type": "code",
   "execution_count": 1,
   "metadata": {},
   "outputs": [
    {
     "name": "stdout",
     "output_type": "stream",
     "text": [
      "请问您想输入多少道题目1\n",
      "请输入题目，格式为5*14=2+3=\n"
     ]
    },
    {
     "ename": "ValueError",
     "evalue": "not enough values to unpack (expected 2, got 1)",
     "output_type": "error",
     "traceback": [
      "\u001b[1;31m---------------------------------------------------------------------------\u001b[0m",
      "\u001b[1;31mValueError\u001b[0m                                Traceback (most recent call last)",
      "\u001b[1;32m<ipython-input-1-0ff6c1af0d20>\u001b[0m in \u001b[0;36m<module>\u001b[1;34m()\u001b[0m\n\u001b[0;32m      9\u001b[0m         \u001b[0mf\u001b[0m\u001b[1;33m=\u001b[0m\u001b[0mm\u001b[0m\u001b[1;33m[\u001b[0m\u001b[1;36m0\u001b[0m\u001b[1;33m]\u001b[0m\u001b[1;33m,\u001b[0m\u001b[0ms\u001b[0m\u001b[1;33m=\u001b[0m\u001b[0mm\u001b[0m\u001b[1;33m[\u001b[0m\u001b[1;36m1\u001b[0m\u001b[1;33m]\u001b[0m\u001b[1;33m,\u001b[0m\u001b[0mt\u001b[0m\u001b[1;33m=\u001b[0m\u001b[0mm\u001b[0m\u001b[1;33m[\u001b[0m\u001b[1;36m2\u001b[0m\u001b[1;33m]\u001b[0m\u001b[1;33m\u001b[0m\u001b[0m\n\u001b[0;32m     10\u001b[0m         \u001b[0mprint\u001b[0m\u001b[1;33m(\u001b[0m\u001b[0mf\u001b[0m\u001b[1;33m*\u001b[0m\u001b[0ms\u001b[0m\u001b[1;33m*\u001b[0m\u001b[0mt\u001b[0m\u001b[1;33m)\u001b[0m\u001b[1;33m\u001b[0m\u001b[0m\n\u001b[1;32m---> 11\u001b[1;33m \u001b[0manswer_game\u001b[0m\u001b[1;33m(\u001b[0m\u001b[1;33m)\u001b[0m\u001b[1;33m\u001b[0m\u001b[0m\n\u001b[0m",
      "\u001b[1;32m<ipython-input-1-0ff6c1af0d20>\u001b[0m in \u001b[0;36manswer_game\u001b[1;34m()\u001b[0m\n\u001b[0;32m      7\u001b[0m         \u001b[0mm\u001b[0m\u001b[1;33m=\u001b[0m\u001b[0minput\u001b[0m\u001b[1;33m(\u001b[0m\u001b[1;34m'请输入题目，格式为5*14='\u001b[0m\u001b[1;33m)\u001b[0m\u001b[1;33m\u001b[0m\u001b[0m\n\u001b[0;32m      8\u001b[0m         \u001b[0mn\u001b[0m\u001b[1;33m.\u001b[0m\u001b[0mappend\u001b[0m\u001b[1;33m(\u001b[0m\u001b[0mm\u001b[0m\u001b[1;33m)\u001b[0m\u001b[1;33m\u001b[0m\u001b[0m\n\u001b[1;32m----> 9\u001b[1;33m         \u001b[0mf\u001b[0m\u001b[1;33m=\u001b[0m\u001b[0mm\u001b[0m\u001b[1;33m[\u001b[0m\u001b[1;36m0\u001b[0m\u001b[1;33m]\u001b[0m\u001b[1;33m,\u001b[0m\u001b[0ms\u001b[0m\u001b[1;33m=\u001b[0m\u001b[0mm\u001b[0m\u001b[1;33m[\u001b[0m\u001b[1;36m1\u001b[0m\u001b[1;33m]\u001b[0m\u001b[1;33m,\u001b[0m\u001b[0mt\u001b[0m\u001b[1;33m=\u001b[0m\u001b[0mm\u001b[0m\u001b[1;33m[\u001b[0m\u001b[1;36m2\u001b[0m\u001b[1;33m]\u001b[0m\u001b[1;33m\u001b[0m\u001b[0m\n\u001b[0m\u001b[0;32m     10\u001b[0m         \u001b[0mprint\u001b[0m\u001b[1;33m(\u001b[0m\u001b[0mf\u001b[0m\u001b[1;33m*\u001b[0m\u001b[0ms\u001b[0m\u001b[1;33m*\u001b[0m\u001b[0mt\u001b[0m\u001b[1;33m)\u001b[0m\u001b[1;33m\u001b[0m\u001b[0m\n\u001b[0;32m     11\u001b[0m \u001b[0manswer_game\u001b[0m\u001b[1;33m(\u001b[0m\u001b[1;33m)\u001b[0m\u001b[1;33m\u001b[0m\u001b[0m\n",
      "\u001b[1;31mValueError\u001b[0m: not enough values to unpack (expected 2, got 1)"
     ]
    }
   ],
   "source": [
    "def answer_game():\n",
    "    n=int(input('请问您想输入多少道题目'))\n",
    "    score=0\n",
    "    i=1\n",
    "    while i <=n :\n",
    "        n=[]\n",
    "        m=input('请输入题目，格式为5*14=,请保证答案是正整数')\n",
    "        n.append(m)\n",
    "        f=m[0],s=m[1],t=m[2]\n",
    "        print(f*s*t)\n",
    "        i+=1\n",
    "        if d=='-'or d=='+':\n",
    "            score+=5\n",
    "        if d=='*'or d=='/':\n",
    "            score+=10\n",
    "     \n",
    "    print(score)        \n",
    "answer_game()"
   ]
  },
  {
   "cell_type": "code",
   "execution_count": null,
   "metadata": {},
   "outputs": [],
   "source": [
    "filename = r'd:\\temp\\成语大全(含成语解释)_utf8.txt'\n",
    "A=set()\n",
    "with open (filename,encoding='utf-8') as f:\n",
    "    for line in f:\n",
    "        A .add(word[0] for word in line.split())\n",
    "#(b)\n",
    "word_freq_pairs = []\n",
    "for a in A:\n",
    "    for item in word_freq_pairs:\n",
    "        if a == item[0]:\n",
    "            item[1] += 1\n",
    "            break\n",
    "    else:\n",
    "        word_freq_pairs.append([a, 1])\n",
    "B=sorted(word_freq_pairs,key=item[1])\n",
    "print(B[len(B):lenB-20:-1])\n",
    "#(c)\n",
    "C={}\n",
    "with open (r'd:\\temp\\test_re_gbk.txt') as g:\n",
    "    for line in f:\n",
    "        words = [word.split('/')[1] for word in line.split()]\n",
    "        for word in words:\n",
    "            if word in C: \n",
    "                C[word] += 1\n",
    "            else:                     \n",
    "                C[word] = 1\n",
    "\n",
    "print(C)                   "
   ]
  }
 ],
 "metadata": {
  "kernelspec": {
   "display_name": "Python 3",
   "language": "python",
   "name": "python3"
  },
  "language_info": {
   "codemirror_mode": {
    "name": "ipython",
    "version": 3
   },
   "file_extension": ".py",
   "mimetype": "text/x-python",
   "name": "python",
   "nbconvert_exporter": "python",
   "pygments_lexer": "ipython3",
   "version": "3.6.2"
  }
 },
 "nbformat": 4,
 "nbformat_minor": 2
}
