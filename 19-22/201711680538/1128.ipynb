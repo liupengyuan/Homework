{
 "cells": [
  {
   "cell_type": "code",
   "execution_count": 4,
   "metadata": {},
   "outputs": [
    {
     "name": "stdout",
     "output_type": "stream",
     "text": [
      "a\n",
      "ab\n",
      "abc\n",
      "abcd\n",
      "abcde\n",
      "abcdef\n",
      "abcdefg\n",
      "abcdefgh\n",
      "abcdefghi\n",
      "abcdefghij\n",
      "abcdefghijk\n",
      "abcdefghijkl\n",
      "abcdefghijklm\n",
      "abcdefghijklmn\n",
      "abcdefghijklmno\n",
      "abcdefghijklmnop\n",
      "abcdefghijklmnopq\n",
      "abcdefghijklmnopqr\n",
      "abcdefghijklmnopqrs\n",
      "abcdefghijklmnopqrst\n",
      "abcdefghijklmnopqrstu\n",
      "abcdefghijklmnopqrstuv\n",
      "abcdefghijklmnopqrstuvw\n",
      "abcdefghijklmnopqrstuvwx\n",
      "abcdefghijklmnopqrstuvwxy\n",
      "abcdefghijklmnopqrstuvwxyz\n"
     ]
    }
   ],
   "source": [
    "line='abcdefghijklmnopqrstuvwxyz'\n",
    "i=0\n",
    "for j in line:\n",
    "    i+=1\n",
    "    print(line[0:i])"
   ]
  },
  {
   "cell_type": "code",
   "execution_count": 12,
   "metadata": {},
   "outputs": [
    {
     "name": "stdout",
     "output_type": "stream",
     "text": [
      "6\n",
      "      * \n",
      "     * * \n",
      "    * * * \n",
      "   * * * * \n",
      "  * * * * * \n",
      " * * * * * * \n"
     ]
    }
   ],
   "source": [
    "def stars(n):\n",
    "    i=0\n",
    "    while i <n:\n",
    "        print((n-i)*' ',end='')\n",
    "        for a in range(i+1):\n",
    "            print('*',end='')\n",
    "            print(' ',end='')\n",
    "        print()\n",
    "        i+=1\n",
    "n=int(input())\n",
    "stars(n)"
   ]
  },
  {
   "cell_type": "code",
   "execution_count": null,
   "metadata": {
    "collapsed": true
   },
   "outputs": [],
   "source": []
  }
 ],
 "metadata": {
  "kernelspec": {
   "display_name": "Python 3",
   "language": "python",
   "name": "python3"
  },
  "language_info": {
   "codemirror_mode": {
    "name": "ipython",
    "version": 3
   },
   "file_extension": ".py",
   "mimetype": "text/x-python",
   "name": "python",
   "nbconvert_exporter": "python",
   "pygments_lexer": "ipython3",
   "version": "3.6.2"
  }
 },
 "nbformat": 4,
 "nbformat_minor": 2
}
