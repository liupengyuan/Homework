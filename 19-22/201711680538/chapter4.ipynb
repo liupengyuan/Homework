{
 "cells": [
  {
   "cell_type": "code",
   "execution_count": null,
   "metadata": {},
   "outputs": [],
   "source": [
    "def c(z):\n",
    "    i=0\n",
    "    total=1\n",
    "    while i<z:\n",
    "        i+=1\n",
    "        total*=1\n",
    "    return total\n",
    "\n",
    "m=int(input('请输入一个正整数'))\n",
    "n=int(input('请输入第二个正整数'))\n",
    "k=int(input('请输入第三个正整数'))\n",
    "print (c(m)+c(n)+c(k))"
   ]
  },
  {
   "cell_type": "code",
   "execution_count": 1,
   "metadata": {},
   "outputs": [
    {
     "name": "stdout",
     "output_type": "stream",
     "text": [
      "6.284196308029765\n"
     ]
    }
   ],
   "source": [
    "def sum(q):\n",
    "    i=1\n",
    "    total=0\n",
    "    w=(-1)\n",
    "    while i<q:\n",
    "        w=(-1)*w\n",
    "        e=2*i-1\n",
    "        total+=1/e*w\n",
    "        i+=1\n",
    "    return total\n",
    "\n",
    "print(4*sum(1000)+4*sum(100000))"
   ]
  },
  {
   "cell_type": "code",
   "execution_count": 6,
   "metadata": {},
   "outputs": [
    {
     "name": "stdout",
     "output_type": "stream",
     "text": [
      "请输入您的姓名d\n",
      "d 您好\n",
      "请输入您的生日，格式为416，1001等416\n",
      "d 白羊座冲动偏执狂你好\n"
     ]
    }
   ],
   "source": [
    "def con(s):\n",
    "    if 321<=s<=331 or 401<=s<=419:\n",
    "        return ('白羊座冲动偏执狂你好')\n",
    "    elif 421<=s<=430 or 501<=s<=521:\n",
    "        return ('顽固的金牛座老干部你好')\n",
    "    elif 522<=s<=530 or 601<=s<=621:\n",
    "        return ('双子座精神分裂症你好')\n",
    "    elif 622<=s<=630 or 701<=s<=722:\n",
    "        return ('情绪化玻璃心巨蟹座你好')\n",
    "    elif 723<=s<=730 or 801<=s<=823:\n",
    "        return ('七月份的尾巴，你是狮子座~八月份的前奏，你是狮子座~')\n",
    "    elif 824<=s<=831 or 901<=s<=923:\n",
    "        return ('我不想和你们处女座的人说话')\n",
    "    elif 924<=s<=930 or 1001<=s<=1023:\n",
    "        return ('亲切善良的天枰座你好')\n",
    "    elif 1024<=s<=1031 or 1101<=s<=1122:\n",
    "        return ('天蝎座厚黑学大佬你好')\n",
    "    elif 1123<=s<=1130 or 1201<=s<=1221:\n",
    "        return ('热情的射手座冒险家你好')\n",
    "    elif 1222<=s<=1231 or 101<=s<=119:\n",
    "        return ('稳重的摩羯座你好')\n",
    "    elif 120<=s<=131 or 201<=s<=218:\n",
    "        return ('追求革新的水瓶座你好')\n",
    "    elif 219<=s<=230 or 301<=s<=320:\n",
    "        return ('多愁善感的双鱼座你好')\n",
    "    else :\n",
    "        return ('这个日期不存在哟~')\n",
    "    \n",
    "    \n",
    "v=input('请输入您的姓名')\n",
    "print(v,'您好')\n",
    "s=int(input('请输入您的生日，格式为416，1001等'))\n",
    "print(v,con(s))"
   ]
  },
  {
   "cell_type": "code",
   "execution_count": 7,
   "metadata": {},
   "outputs": [
    {
     "name": "stdout",
     "output_type": "stream",
     "text": [
      "请输入一个英语单词，系统将给出将其转变为复数形式的建议love\n",
      "直接加s\n"
     ]
    }
   ],
   "source": [
    "def word(u):\n",
    "    if u.endswith('s') or u.endswith('sh') or u.endswith('ch') or  u.endswith('x'):\n",
    "        return('结尾加es')\n",
    "    elif u.endswith('f'):\n",
    "        return('去f加ves')\n",
    "    elif u.endswith('ef'):\n",
    "        return('去ef加ves')\n",
    "    else:\n",
    "        return('直接加s')\n",
    "    \n",
    "    \n",
    "t=input('请输入一个英语单词，系统将给出将其转变为复数形式的建议')\n",
    "print(word(t))\n",
    "    "
   ]
  },
  {
   "cell_type": "code",
   "execution_count": 12,
   "metadata": {},
   "outputs": [
    {
     "name": "stdout",
     "output_type": "stream",
     "text": [
      "请输入一个正整数4\n",
      "请输入另一个正整数8\n",
      "请输入第三个正整数，确保它能整除前两个正整数的差2\n",
      "18\n"
     ]
    }
   ],
   "source": [
    "def sum(min,max,bla):\n",
    "    \n",
    "    \n",
    "    total=0\n",
    "    while min<=max:\n",
    "        total+=min\n",
    "        min+=bla\n",
    "    return total\n",
    "\n",
    "fir=int(input('请输入一个正整数'))\n",
    "sec=int(input('请输入另一个正整数'))\n",
    "thi=int(input('请输入第三个正整数，确保它能整除前两个正整数的差'))\n",
    "if fir<sec:\n",
    "    min=fir\n",
    "    max=sec\n",
    "else:\n",
    "    min=sec\n",
    "    max=fir\n",
    "print(sum(min,max,thi))"
   ]
  }
 ],
 "metadata": {
  "kernelspec": {
   "display_name": "Python 3",
   "language": "python",
   "name": "python3"
  },
  "language_info": {
   "codemirror_mode": {
    "name": "ipython",
    "version": 3
   },
   "file_extension": ".py",
   "mimetype": "text/x-python",
   "name": "python",
   "nbconvert_exporter": "python",
   "pygments_lexer": "ipython3",
   "version": "3.6.2"
  }
 },
 "nbformat": 4,
 "nbformat_minor": 2
}
