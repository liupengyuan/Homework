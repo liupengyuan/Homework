{
 "cells": [
  {
   "cell_type": "code",
   "execution_count": 1,
   "metadata": {},
   "outputs": [
    {
     "name": "stdout",
     "output_type": "stream",
     "text": [
      "huwiea\n"
     ]
    },
    {
     "data": {
      "text/plain": [
       "'aeiwuh'"
      ]
     },
     "execution_count": 1,
     "metadata": {},
     "output_type": "execute_result"
    }
   ],
   "source": [
    "def re():\n",
    "    s=input()\n",
    "    n=len(s)\n",
    "    o=s[n:0:-1]+s[0]\n",
    "    return o\n",
    "    \n",
    "re()"
   ]
  },
  {
   "cell_type": "code",
   "execution_count": 16,
   "metadata": {},
   "outputs": [
    {
     "name": "stdout",
     "output_type": "stream",
     "text": [
      "请输入您喜欢的符号~*\n",
      "请输入您想要的行数6\n",
      "*\n",
      "**\n",
      "***\n",
      "****\n",
      "*****\n",
      "******\n",
      "            \n",
      "           *\n",
      "          ***\n",
      "         *****\n",
      "        *******\n",
      "       *********\n",
      "      ***********\n",
      "            \n",
      "             *\n",
      "              **\n",
      "               ***\n",
      "                ****\n",
      "                 *****\n",
      "                  ******\n"
     ]
    }
   ],
   "source": [
    "def t():\n",
    "    s=input('请输入您喜欢的符号~')\n",
    "    n=int(input('请输入您想要的行数'))\n",
    "    line=s*n\n",
    "    #直角三角形\n",
    "    for i in range(len(line)):\n",
    "        for j in range(i+1):\n",
    "            print(line[0],end='')\n",
    "        print()\n",
    "    #等腰三角形\n",
    "    for k in range(len(line)+1):\n",
    "        print(' '*(len(line)*2-k)+line[0]*(k*2-1),end='')\n",
    "        print()\n",
    "    #奇奇怪怪的三角形\n",
    "    for l in range(len(line)+1):\n",
    "        print(' '*(len(line)*2+l)+line[0]*l,end='')\n",
    "        print()\n",
    "t()"
   ]
  },
  {
   "cell_type": "code",
   "execution_count": 17,
   "metadata": {},
   "outputs": [
    {
     "name": "stdout",
     "output_type": "stream",
     "text": [
      "请输入您喜欢的符号~*\n",
      "请输入您想要的行数6\n",
      "            \n",
      "           *\n",
      "          ***\n",
      "         *****\n",
      "        *******\n",
      "       *********\n",
      "      ***********\n",
      "       *********\n",
      "        *******\n",
      "         *****\n",
      "          ***\n",
      "           *\n",
      "            \n",
      "             \n"
     ]
    }
   ],
   "source": [
    "def f():\n",
    "    s=input('请输入您喜欢的符号~')\n",
    "    n=int(input('请输入您想要的行数'))\n",
    "    line=s*n\n",
    "    #一个正常的菱形\n",
    "    for k in range(len(line)+1):\n",
    "        print(' '*(len(line)*2-k)+line[0]*(k*2-1),end='')\n",
    "        print()\n",
    "    while 0<=k<=len(line):\n",
    "        k-=1\n",
    "        print(' '*(len(line)*2-k)+line[0]*(k*2-1),end='')\n",
    "        print()\n",
    "f()"
   ]
  }
 ],
 "metadata": {
  "kernelspec": {
   "display_name": "Python 3",
   "language": "python",
   "name": "python3"
  },
  "language_info": {
   "codemirror_mode": {
    "name": "ipython",
    "version": 3
   },
   "file_extension": ".py",
   "mimetype": "text/x-python",
   "name": "python",
   "nbconvert_exporter": "python",
   "pygments_lexer": "ipython3",
   "version": "3.6.2"
  }
 },
 "nbformat": 4,
 "nbformat_minor": 2
}
