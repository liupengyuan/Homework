{
 "cells": [
  {
   "cell_type": "code",
   "execution_count": 38,
   "metadata": {},
   "outputs": [
    {
     "name": "stdout",
     "output_type": "stream",
     "text": [
      "10\n",
      "鸿桃戛转晷一国夭浪\n",
      "\n",
      "20\n",
      "\n",
      "多字见来鞭风\n",
      "花风鲋鱼风\n",
      "耳涌人\n",
      "良\n",
      "\n",
      "30\n",
      "\n",
      "群假\n",
      "\n",
      "两\n",
      "\n",
      "世阿手晚水境大言豪食膏玑道不四提因怪子春女\n",
      "\n",
      "40\n",
      "卑\n",
      "万\n",
      "血国之我绝情竽戛横了\n",
      "竭里熙\n",
      "玩地赴生田人\n",
      "火益静三羁盲欺志骨往火飞椟猿\n",
      "50\n",
      "趋百\n",
      "人\n",
      "怙入风风服犹翻寒国叶一晴牝残聊尽学生玉敏鞭刀九三可噤水子杰同欺节眈天弹无亡魉\n",
      "\n",
      "烟义不草万\n",
      "60\n",
      "相\n",
      "同步\n",
      "针岳\n",
      "\n",
      "以飘帼迹白琴长\n",
      "下马四无地必借渭投满唇舞朗\n",
      "仙隙亢翅盲血为里岁不孜足斯先见\n",
      "\n",
      "凤完花投仪辕云不虑非其之\n",
      "70\n",
      "离五祖容火故缝\n",
      "\n",
      "政儒楚志涛过\n",
      "艾境之\n",
      "能落本一翼\n",
      "族端月\n",
      "借源\n",
      "之\n",
      "\n",
      "\n",
      "\n",
      "侃逢神德生滥过风一不望犬\n",
      "口沧金负发相心一纵\n",
      "貌苟家不报穷富分望\n",
      "80\n",
      "杀天来道画移恐法一世守雨淋\n",
      "膏水\n",
      "\n",
      "服不可一蔚叹\n",
      "今心功子\n",
      "不不虑\n",
      "丝君程柳计死肓过\n",
      "此火荏井雨千立盗破斧\n",
      "到天淡言马正子目木放大完来矫水总殄\n",
      "下龙\n",
      "\n",
      "生雀直锤\n",
      "90\n",
      "远\n",
      "山出淋算\n",
      "迷\n",
      "\n",
      "应\n",
      "龙拣吁人金流万皆\n",
      "车马穴地态马\n",
      "其盾\n",
      "对意世滔彰朵人耳\n",
      "百\n",
      "相来\n",
      "通颠五驴之不春胜得\n",
      "横\n",
      "如点去阿魏风\n",
      "昙窕路古\n",
      "惺\n",
      "云假天苍竽瑜花\n",
      "郎转薄甜淑驴芙兰\n",
      "草法\n",
      "100\n",
      "\n",
      "营精\n",
      "飞饮\n",
      "国相虎\n",
      "羊秋如群生新沫世蛙斗\n",
      "比装三星石相裘\n",
      "海振牛\n",
      "事晕云笔黄万亲一九善一喜谢食\n",
      "寒高暖迹不牛谷萍狂\n",
      "安衣无鳞珠明\n",
      "\n",
      "璧往木\n",
      "开角淋尽流谷\n",
      "月如让满纶登甘龙自饮舞不\n",
      "\n",
      "薪割如雨建彩惊罗\n"
     ]
    }
   ],
   "source": [
    "fh = open(r'C:\\temp\\成语大全.txt')\n",
    "text = fh.read()\n",
    "text = text.replace('、','')\n",
    "fh.close()\n",
    "\n",
    "\n",
    "import random\n",
    "idioms = text.split()\n",
    "n=10\n",
    "while 1<=n<=100:\n",
    "    print(n)\n",
    "    for m in range(n):\n",
    "        idiom = random.choice(text)\n",
    "        print(idiom,end='')\n",
    "        ch = open(r'C:\\temp\\成语大全.txt')\n",
    "        ch.close()\n",
    "    print()\n",
    "    n=n+10\n",
    "    \n",
    "    \n",
    "def save_file(file_name, contents):\n",
    "    fh = open(file_name, 'w')\n",
    "    fh.write(contents)\n",
    "    fh.close()\n",
    "\n",
    "save_file('n.txt', 'idiom')\n",
    "\n"
   ]
  },
  {
   "cell_type": "code",
   "execution_count": null,
   "metadata": {
    "collapsed": true
   },
   "outputs": [],
   "source": []
  },
  {
   "cell_type": "code",
   "execution_count": null,
   "metadata": {
    "collapsed": true
   },
   "outputs": [],
   "source": []
  },
  {
   "cell_type": "code",
   "execution_count": null,
   "metadata": {
    "collapsed": true
   },
   "outputs": [],
   "source": []
  },
  {
   "cell_type": "code",
   "execution_count": null,
   "metadata": {
    "collapsed": true
   },
   "outputs": [],
   "source": []
  },
  {
   "cell_type": "code",
   "execution_count": null,
   "metadata": {
    "collapsed": true
   },
   "outputs": [],
   "source": []
  },
  {
   "cell_type": "code",
   "execution_count": null,
   "metadata": {
    "collapsed": true
   },
   "outputs": [],
   "source": []
  },
  {
   "cell_type": "code",
   "execution_count": null,
   "metadata": {
    "collapsed": true
   },
   "outputs": [],
   "source": []
  },
  {
   "cell_type": "code",
   "execution_count": null,
   "metadata": {
    "collapsed": true
   },
   "outputs": [],
   "source": []
  },
  {
   "cell_type": "code",
   "execution_count": null,
   "metadata": {
    "collapsed": true
   },
   "outputs": [],
   "source": []
  },
  {
   "cell_type": "code",
   "execution_count": null,
   "metadata": {
    "collapsed": true
   },
   "outputs": [],
   "source": []
  },
  {
   "cell_type": "code",
   "execution_count": null,
   "metadata": {
    "collapsed": true
   },
   "outputs": [],
   "source": []
  },
  {
   "cell_type": "code",
   "execution_count": null,
   "metadata": {
    "collapsed": true
   },
   "outputs": [],
   "source": []
  },
  {
   "cell_type": "code",
   "execution_count": null,
   "metadata": {
    "collapsed": true
   },
   "outputs": [],
   "source": []
  },
  {
   "cell_type": "code",
   "execution_count": null,
   "metadata": {
    "collapsed": true
   },
   "outputs": [],
   "source": []
  },
  {
   "cell_type": "code",
   "execution_count": null,
   "metadata": {
    "collapsed": true
   },
   "outputs": [],
   "source": []
  },
  {
   "cell_type": "code",
   "execution_count": null,
   "metadata": {
    "collapsed": true
   },
   "outputs": [],
   "source": []
  },
  {
   "cell_type": "code",
   "execution_count": null,
   "metadata": {
    "collapsed": true
   },
   "outputs": [],
   "source": []
  },
  {
   "cell_type": "code",
   "execution_count": null,
   "metadata": {
    "collapsed": true
   },
   "outputs": [],
   "source": []
  },
  {
   "cell_type": "code",
   "execution_count": null,
   "metadata": {
    "collapsed": true
   },
   "outputs": [],
   "source": []
  },
  {
   "cell_type": "code",
   "execution_count": null,
   "metadata": {
    "collapsed": true
   },
   "outputs": [],
   "source": []
  },
  {
   "cell_type": "code",
   "execution_count": null,
   "metadata": {
    "collapsed": true
   },
   "outputs": [],
   "source": []
  },
  {
   "cell_type": "code",
   "execution_count": null,
   "metadata": {
    "collapsed": true
   },
   "outputs": [],
   "source": []
  },
  {
   "cell_type": "code",
   "execution_count": null,
   "metadata": {
    "collapsed": true
   },
   "outputs": [],
   "source": []
  },
  {
   "cell_type": "code",
   "execution_count": null,
   "metadata": {
    "collapsed": true
   },
   "outputs": [],
   "source": []
  },
  {
   "cell_type": "code",
   "execution_count": null,
   "metadata": {
    "collapsed": true
   },
   "outputs": [],
   "source": []
  },
  {
   "cell_type": "code",
   "execution_count": null,
   "metadata": {
    "collapsed": true
   },
   "outputs": [],
   "source": []
  },
  {
   "cell_type": "code",
   "execution_count": null,
   "metadata": {
    "collapsed": true
   },
   "outputs": [],
   "source": []
  },
  {
   "cell_type": "code",
   "execution_count": null,
   "metadata": {
    "collapsed": true
   },
   "outputs": [],
   "source": []
  },
  {
   "cell_type": "code",
   "execution_count": null,
   "metadata": {
    "collapsed": true
   },
   "outputs": [],
   "source": []
  },
  {
   "cell_type": "code",
   "execution_count": null,
   "metadata": {
    "collapsed": true
   },
   "outputs": [],
   "source": []
  },
  {
   "cell_type": "code",
   "execution_count": null,
   "metadata": {
    "collapsed": true
   },
   "outputs": [],
   "source": []
  },
  {
   "cell_type": "code",
   "execution_count": null,
   "metadata": {
    "collapsed": true
   },
   "outputs": [],
   "source": []
  },
  {
   "cell_type": "code",
   "execution_count": null,
   "metadata": {
    "collapsed": true
   },
   "outputs": [],
   "source": []
  },
  {
   "cell_type": "code",
   "execution_count": null,
   "metadata": {
    "collapsed": true
   },
   "outputs": [],
   "source": []
  },
  {
   "cell_type": "code",
   "execution_count": null,
   "metadata": {
    "collapsed": true
   },
   "outputs": [],
   "source": []
  },
  {
   "cell_type": "code",
   "execution_count": null,
   "metadata": {
    "collapsed": true
   },
   "outputs": [],
   "source": []
  },
  {
   "cell_type": "code",
   "execution_count": null,
   "metadata": {
    "collapsed": true
   },
   "outputs": [],
   "source": []
  }
 ],
 "metadata": {
  "kernelspec": {
   "display_name": "Python 3",
   "language": "python",
   "name": "python3"
  },
  "language_info": {
   "codemirror_mode": {
    "name": "ipython",
    "version": 3
   },
   "file_extension": ".py",
   "mimetype": "text/x-python",
   "name": "python",
   "nbconvert_exporter": "python",
   "pygments_lexer": "ipython3",
   "version": "3.6.2"
  }
 },
 "nbformat": 4,
 "nbformat_minor": 2
}
