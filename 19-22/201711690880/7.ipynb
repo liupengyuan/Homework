{
 "cells": [
  {
   "cell_type": "code",
   "execution_count": 59,
   "metadata": {},
   "outputs": [
    {
     "name": "stdout",
     "output_type": "stream",
     "text": [
      "12345678"
     ]
    }
   ],
   "source": [
    "#练习一：自己定义一个reverse(s)函数，功能返回字符串s的倒序字符串。\n",
    "def daoguolai():\n",
    "    s=[8,7,6,5,4,3,2,1]\n",
    "    n=len(s)\n",
    "\n",
    "    for j in range(n-1, -1,-1):\n",
    "        print(s[j],end='')\n",
    "        \n",
    "daoguolai()"
   ]
  },
  {
   "cell_type": "code",
   "execution_count": 72,
   "metadata": {},
   "outputs": [
    {
     "name": "stdout",
     "output_type": "stream",
     "text": [
      "          \n",
      "         $ \n",
      "        $ $ \n",
      "       $ $ $ \n",
      "      $ $ $ $ \n",
      "     $ $ $ $ $ \n",
      "    $ $ $ $ $ $ \n",
      "   $ $ $ $ $ $ $ \n",
      "  $ $ $ $ $ $ $ $ \n",
      " $ $ $ $ $ $ $ $ $ \n",
      "--------------------\n",
      "$ $ $ $ $ $ $ $ $ $ \n",
      " $ $ $ $ $ $ $ $ $ \n",
      "  $ $ $ $ $ $ $ $ \n",
      "   $ $ $ $ $ $ $ \n",
      "    $ $ $ $ $ $ \n",
      "     $ $ $ $ $ \n",
      "      $ $ $ $ \n",
      "       $ $ $ \n",
      "        $ $ \n",
      "         $ \n",
      "--------------------\n",
      "$ $ $ $ $ $ $ $ $ $ \n",
      "  $ $ $ $ $ $ $ $ $ \n",
      "    $ $ $ $ $ $ $ $ \n",
      "      $ $ $ $ $ $ $ \n",
      "        $ $ $ $ $ $ \n",
      "          $ $ $ $ $ \n",
      "            $ $ $ $ \n",
      "              $ $ $ \n",
      "                $ $ \n",
      "                  $ \n"
     ]
    }
   ],
   "source": [
    "#练习二：写函数，根据给定符号和行数，打印相应直角三角形，等腰三角形及其他形式的三角形。\n",
    "\n",
    "for i in range(10):\n",
    "    for j in range(0, 10 - i):\n",
    "        print(end=\" \")\n",
    "    for k in range(10 - i, 10):\n",
    "        print(\"$\", end=\" \")\n",
    "\n",
    "    print(\"\")\n",
    "    \n",
    "print('-'*20)\n",
    "    \n",
    "for i in range(10):\n",
    "    for j in range(0,i):\n",
    "        print(end=\" \")\n",
    "\n",
    "    for j in range(i,10):\n",
    "        print(\"$\", end=\" \")\n",
    "\n",
    "    print(\"\")\n",
    "    \n",
    "print('-'*20)\n",
    "\n",
    "for i in range(10):\n",
    "    for j in range(0,i):\n",
    "        print(\" \",end=\" \")\n",
    "\n",
    "    for j in range(i,10):\n",
    "        print(\"$\", end=\" \")\n",
    "\n",
    "    print(\"\")\n",
    "\n",
    "    \n",
    "    \n"
   ]
  },
  {
   "cell_type": "code",
   "execution_count": 77,
   "metadata": {},
   "outputs": [
    {
     "name": "stdout",
     "output_type": "stream",
     "text": [
      "******--------------------\n"
     ]
    }
   ],
   "source": [
    "#练习五：写函数，根据给定符号，打印各种菱形。\n",
    "\n",
    "for i in range(4):\n",
    "    for j in range(2 - i + 1):\n",
    "        print(\"\",end='')\n",
    "    for k in range(2 - i + 1):\n",
    "        print('*',end='')\n",
    "        \n",
    "print('-'*20)"
   ]
  },
  {
   "cell_type": "code",
   "execution_count": 94,
   "metadata": {},
   "outputs": [
    {
     "name": "stdout",
     "output_type": "stream",
     "text": [
      "          \n",
      "         *\n",
      "        * *\n",
      "       *   *\n",
      "      *     *\n",
      "     *       *\n",
      "    *         *\n",
      "   *           *\n",
      "  *             *\n",
      " *               *\n",
      "*                 *                    \n",
      " *               *                    \n",
      "  *             *                    \n",
      "   *           *                    \n",
      "    *         *                    \n",
      "     *       *                    \n",
      "      *     *                    \n",
      "       *   *                    \n",
      "        * *                    \n",
      "         *                    \n"
     ]
    }
   ],
   "source": [
    "for i in range(10):\n",
    "    for j in range(10 - i):\n",
    "        print (\" \",end='')\n",
    "        j += 1\n",
    "    for k in range(2 * i - 1):\n",
    "        if k == 0 or k == 2 * i - 2:\n",
    "            print (\"*\",end='')\n",
    "        else:\n",
    "            print(\" \",end='')\n",
    "        k += 1\n",
    "    print()\n",
    "    i += 1\n",
    "for i in range(10):\n",
    "    for j in range(i):\n",
    "        print (\" \",end='')\n",
    "        j += 1\n",
    "    for k in range(2 * (10 - i) - 1):\n",
    "        if k == 0 or k == 2 * (10 - i) - 2:\n",
    "            print (\"*\",end='')\n",
    "        else:\n",
    "            print (\" \",end='')\n",
    "        k += 1\n",
    "    print(' '*20)\n",
    "    i += 1\n"
   ]
  }
 ],
 "metadata": {
  "kernelspec": {
   "display_name": "Python 3",
   "language": "python",
   "name": "python3"
  },
  "language_info": {
   "codemirror_mode": {
    "name": "ipython",
    "version": 3
   },
   "file_extension": ".py",
   "mimetype": "text/x-python",
   "name": "python",
   "nbconvert_exporter": "python",
   "pygments_lexer": "ipython3",
   "version": "3.6.2"
  }
 },
 "nbformat": 4,
 "nbformat_minor": 2
}
