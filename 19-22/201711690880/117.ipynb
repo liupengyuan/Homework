{
 "cells": [
  {
   "cell_type": "code",
   "execution_count": 6,
   "metadata": {},
   "outputs": [
    {
     "name": "stdout",
     "output_type": "stream",
     "text": [
      "请输入想输入的整数个数4\n",
      "请输入想输入数字的左边界1\n",
      "请输入想输入数字的右边界5\n",
      "3.3166247903554\n"
     ]
    }
   ],
   "source": [
    "#练习 1：求m个整数和的平方根，整数范围在n与k之间（n,m,k由用户输入）。\n",
    "import random, math\n",
    "i=0\n",
    "p=0\n",
    "m=int(input('请输入想输入的整数个数'))\n",
    "n=int(input('请输入想输入数字的左边界'))\n",
    "k=int(input('请输入想输入数字的右边界'))\n",
    "if n > k:\n",
    "    n,k=k,n\n",
    "while i < m:\n",
    "    i += 1\n",
    "    number_l = random.randint(n, k)\n",
    "    p += number_l\n",
    "print(math.sqrt(p))"
   ]
  },
  {
   "cell_type": "code",
   "execution_count": null,
   "metadata": {
    "collapsed": true
   },
   "outputs": [],
   "source": []
  },
  {
   "cell_type": "code",
   "execution_count": null,
   "metadata": {
    "collapsed": true
   },
   "outputs": [],
   "source": []
  },
  {
   "cell_type": "code",
   "execution_count": null,
   "metadata": {
    "collapsed": true
   },
   "outputs": [],
   "source": []
  },
  {
   "cell_type": "code",
   "execution_count": null,
   "metadata": {
    "collapsed": true
   },
   "outputs": [],
   "source": []
  },
  {
   "cell_type": "code",
   "execution_count": null,
   "metadata": {
    "collapsed": true
   },
   "outputs": [],
   "source": []
  },
  {
   "cell_type": "code",
   "execution_count": null,
   "metadata": {
    "collapsed": true
   },
   "outputs": [],
   "source": []
  },
  {
   "cell_type": "code",
   "execution_count": null,
   "metadata": {
    "collapsed": true
   },
   "outputs": [],
   "source": []
  }
 ],
 "metadata": {
  "kernelspec": {
   "display_name": "Python 3",
   "language": "python",
   "name": "python3"
  }
 },
 "nbformat": 4,
 "nbformat_minor": 2
}
