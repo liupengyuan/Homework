{
 "cells": [
  {
   "cell_type": "code",
   "execution_count": 6,
   "metadata": {},
   "outputs": [
    {
     "name": "stdout",
     "output_type": "stream",
     "text": [
      "5\n",
      "2\n",
      "6\n"
     ]
    },
    {
     "data": {
      "text/plain": [
       "1.2"
      ]
     },
     "execution_count": 6,
     "metadata": {},
     "output_type": "execute_result"
    }
   ],
   "source": [
    "#练习 1：写函数，求n个随机整数均值的平方根，整数范围在m与k之间（n,m,k由用户输入）。\n",
    "import random, math\n",
    "def beauty(a,b,c):\n",
    "    i=0\n",
    "    q=0\n",
    "    while i<a:\n",
    "        i += 1\n",
    "        number = random.randint(b, c)\n",
    "        if b > c:\n",
    "            b,c=c,b\n",
    "        q+=number\n",
    "        k=q/n\n",
    "        math.sqrt(k)\n",
    "        return k\n",
    "n=int(input())\n",
    "m=int(input())\n",
    "k=int(input())\n",
    "beauty(m,n,k) "
   ]
  },
  {
   "cell_type": "code",
   "execution_count": 5,
   "metadata": {},
   "outputs": [
    {
     "name": "stdout",
     "output_type": "stream",
     "text": [
      "5\n",
      "3\n",
      "9\n",
      "13.39231742277876 1.9097266610092303\n"
     ]
    }
   ],
   "source": [
    "#练习 2：写函数，共n个随机整数，整数范围在m与k之间，（n,m,k由用户输入）。求1：西格玛log(随机整数)，2：西格玛1/log(随机整数)\n",
    "n=int(input())\n",
    "m=int(input())\n",
    "k=int(input())\n",
    "import random,math\n",
    "i=0\n",
    "total_1=0\n",
    "total_2=0\n",
    "while i < n:\n",
    "    i+=1\n",
    "    if m>k:\n",
    "        m,k=k,m\n",
    "    number = random.randint(m, k)\n",
    "    total_1+=math.log2(number)\n",
    "    total_2+=1/(math.log2(number))\n",
    "    \n",
    "print(total_1,total_2)\n",
    "\n",
    "    \n",
    "    \n"
   ]
  },
  {
   "cell_type": "code",
   "execution_count": 11,
   "metadata": {},
   "outputs": [
    {
     "name": "stdout",
     "output_type": "stream",
     "text": [
      "请输入随机整数的个数6\n",
      "370368\n"
     ]
    }
   ],
   "source": [
    "#练习 3：写函数，求s=a+aa+aaa+aaaa+aa...a的值，其中a是[1,9]之间的随机整数。例如2+22+222+2222+22222(此时共有5个数相加)，几个数相加由键盘输入。\n",
    "import random, math\n",
    "n=int(input('请输入随机整数的个数'))\n",
    "i=0\n",
    "m=0\n",
    "total=0\n",
    "number = random.randint(1,9)\n",
    "while i < n:\n",
    "    i+=1\n",
    "    m=m*10\n",
    "    m=m+number\n",
    "    total=total+m\n",
    "print(total)\n",
    "    \n",
    "    \n",
    "    \n",
    "\n"
   ]
  },
  {
   "cell_type": "code",
   "execution_count": 31,
   "metadata": {},
   "outputs": [
    {
     "name": "stdout",
     "output_type": "stream",
     "text": [
      "请输入一个大于0小于5的整数，让计算机来猜----3\n",
      "3\n",
      "judge high:1 or low:2 or correct:3----3\n",
      "Win!\n"
     ]
    }
   ],
   "source": [
    "#挑战性练习：仿照task5，将猜数游戏改成由用户随便选择一个整数，让计算机来猜测的猜数游戏，要求和task5中人猜测的方法类似，但是人机角色对换，由人来判断猜测是大、小还是相等，请写出完整的猜数游戏。\n",
    "import random\n",
    "\n",
    "def win():\n",
    "    print('Win!')\n",
    "\n",
    "def guess_game():\n",
    "    n = int(input('请输入一个大于0小于5的整数，让计算机来猜----'))\n",
    "    number_1 = random.randint(1, 5)\n",
    "    print(number_1)\n",
    "    m=int(input('judge high:1 or low:2 or correct:3----'))\n",
    "    if m == 1:\n",
    "        number_2 = random.randint(1, 4)\n",
    "        print(number_2)\n",
    "    elif m == 2:\n",
    "        number_2 = random.randint(2, 5)\n",
    "        print(number_2)\n",
    "    else:\n",
    "        win()\n",
    "            \n",
    "\n",
    "guess_game()"
   ]
  },
  {
   "cell_type": "code",
   "execution_count": null,
   "metadata": {
    "collapsed": true
   },
   "outputs": [],
   "source": [
    "#助教看到我的作业别生气，祝你天天开心！  ：）"
   ]
  }
 ],
 "metadata": {
  "kernelspec": {
   "display_name": "Python 3",
   "language": "python",
   "name": "python3"
  },
  "language_info": {
   "codemirror_mode": {
    "name": "ipython",
    "version": 3
   },
   "file_extension": ".py",
   "mimetype": "text/x-python",
   "name": "python",
   "nbconvert_exporter": "python",
   "pygments_lexer": "ipython3",
   "version": "3.6.2"
  }
 },
 "nbformat": 4,
 "nbformat_minor": 2
}
