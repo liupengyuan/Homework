{
 "cells": [
  {
   "cell_type": "code",
   "execution_count": 12,
   "metadata": {},
   "outputs": [
    {
     "name": "stdout",
     "output_type": "stream",
     "text": [
      "请输入一个数m5\n",
      "请输入一个数n2\n",
      "请输入一个数k8\n",
      "40442\n"
     ]
    }
   ],
   "source": [
    "#练习 1：仿照求***的完整代码，写程序，可求m!+n!+k!\n",
    "def compute_mul(end):\n",
    "    i = 1\n",
    "    total_n = 1\n",
    "\n",
    "    while i < end:\n",
    "        i = i + 1\n",
    "        total_n = total_n * i\n",
    "\n",
    "    return total_n\n",
    "m=int(input('请输入一个数m'))\n",
    "n=int(input('请输入一个数n'))\n",
    "k=int(input('请输入一个数k'))\n",
    "\n",
    "print(compute_mul(m)+compute_mul(n)+compute_mul(k))"
   ]
  },
  {
   "cell_type": "code",
   "execution_count": 27,
   "metadata": {},
   "outputs": [
    {
     "name": "stdout",
     "output_type": "stream",
     "text": [
      "3.140592653839794\n",
      "3.1415826535897198\n"
     ]
    }
   ],
   "source": [
    "#练习 2：写函数可求出1 - 1/3 + 1/5 - 1/7...的前n项的和。在主程序中，分别令n=1000及100000，打印4倍该函数的和。\n",
    "def compute_sum(end):\n",
    "    i=-1\n",
    "    m=1\n",
    "    n=0\n",
    "    total=0\n",
    "    while n< end:\n",
    "        n+=1\n",
    "        m=2*n-1 \n",
    "        i=-i\n",
    "        total=total+i/m\n",
    "    return total\n",
    "print(compute_sum(1000)*4)\n",
    "print(compute_sum(100000)*4)\n",
    "   "
   ]
  },
  {
   "cell_type": "code",
   "execution_count": null,
   "metadata": {
    "collapsed": true
   },
   "outputs": [],
   "source": [
    "#练习 3：将task3中的练习1改写为函数，并进行调用。"
   ]
  },
  {
   "cell_type": "code",
   "execution_count": 34,
   "metadata": {},
   "outputs": [
    {
     "name": "stdout",
     "output_type": "stream",
     "text": [
      "输入您的名字shine\n",
      "出生日期是1101\n",
      "shine 朋友，你是一个有个性的天蝎座\n",
      "None\n"
     ]
    }
   ],
   "source": [
    "def hulala(num):\n",
    "    if 120<=num<=218:\n",
    "        print(name,'朋友，你是一个有个性的水瓶座')\n",
    "    elif 219<=num<=320:\n",
    "        print(name,'朋友，你是一个有个性的双鱼座')\n",
    "    elif 321<=num<=419:\n",
    "        print(name,'朋友，你是一个有个性的白羊座')\n",
    "    elif 420<=num<=520:\n",
    "        print(name,'朋友，你是一个有个性的金牛座')\n",
    "    elif 521<=num<=621:\n",
    "        print(name,'朋友，你是一个有个性的双子座')\n",
    "    elif 622<=num<=722:\n",
    "        print(name,'朋友，你是一个有个性的巨蟹座')\n",
    "    elif 723<=num<=822:\n",
    "        print(name,'朋友，你是一个有个性的狮子座')\n",
    "    elif 823<=num<=922:\n",
    "        print(name,'朋友，你是一个有个性的处女座')\n",
    "    elif 923<=num<=1023:\n",
    "        print(name,'朋友，你是一个有个性的天秤座')\n",
    "    elif 1024<=num<=1122:\n",
    "        print(name,'朋友，你是一个有个性的天蝎座')\n",
    "    elif 1123<=num<=1223:\n",
    "        print(name,'朋友，你是一个有个性的射手座')\n",
    "    else:\n",
    "        print(name,'朋友，你是一个有个性的摩羯座')\n",
    "        return mum\n",
    "name=input('输入您的名字')\n",
    "m=input('出生日期是')\n",
    "\n",
    "print(hulala(num))\n"
   ]
  },
  {
   "cell_type": "code",
   "execution_count": 41,
   "metadata": {},
   "outputs": [
    {
     "name": "stdout",
     "output_type": "stream",
     "text": [
      "请输入单数单词see\n",
      "是这个啦 sees\n"
     ]
    }
   ],
   "source": [
    "#练习 3：将task3中的练习4改写为函数，并进行调用。\n",
    "def hululu(a):\n",
    "   \n",
    "    \n",
    "\n",
    "    if a.endswith('s'or'sh'or'ch'):\n",
    "\n",
    "        a+='es'\n",
    "\n",
    "        p=a\n",
    "\n",
    "        print('这就是复数啦',p)\n",
    "\n",
    "    elif a.endswith('e'):\n",
    "\n",
    "        a+='s'\n",
    "\n",
    "        p=a\n",
    "\n",
    "        print('是这个啦',p)\n",
    "\n",
    "    elif a.endswith('y'):\n",
    "\n",
    "        p=a.replace('y','ies')\n",
    "\n",
    "        print('这个要记住啊',p)\n",
    "\n",
    "    elif a.endswith('s'):\n",
    "\n",
    "        print('是复数吧',a)\n",
    "\n",
    "    else:\n",
    "\n",
    "        a+='s'\n",
    "\n",
    "        print('是这个吧',a)\n",
    "a=input('请输入单数单词')\n",
    "hululu(a)\n"
   ]
  },
  {
   "cell_type": "code",
   "execution_count": 6,
   "metadata": {},
   "outputs": [
    {
     "name": "stdout",
     "output_type": "stream",
     "text": [
      "请输入整数m1\n",
      "请输入整数n6\n",
      "请输入间隔k，k不为零2\n",
      "1\n",
      "4\n",
      "9\n"
     ]
    }
   ],
   "source": [
    "#挑战性练习：写程序，可以求从整数m到整数n累加的和，间隔为k，求和部分需用函数实现，主程序中由用户输入m，n，k调用函数验证正确性。\n",
    "def leihe(m,n,k):\n",
    "    a=0\n",
    "    if m>=n:\n",
    "        sum=0\n",
    "        while n<=m:\n",
    "            sum=sum+n\n",
    "            if k!=0:\n",
    "                n=n+k\n",
    "            else:\n",
    "                print('k不等于零')\n",
    "                n=m+1\n",
    "                sum=''\n",
    "        print(sum)\n",
    "    else:\n",
    "        sum=0\n",
    "        while m<=n:\n",
    "            sum=sum+m\n",
    "            if k!=0:\n",
    "                m=m+k\n",
    "            else:\n",
    "                print('k不等于零')\n",
    "                m=n+1\n",
    "                sum=''\n",
    "            print(sum)\n",
    "m=int(input('请输入整数m'))\n",
    "n=int(input('请输入整数n'))\n",
    "k=int(input('请输入间隔k，k不为零'))\n",
    "leihe(m,n,k)"
   ]
  },
  {
   "cell_type": "code",
   "execution_count": null,
   "metadata": {
    "collapsed": true
   },
   "outputs": [],
   "source": []
  },
  {
   "cell_type": "code",
   "execution_count": null,
   "metadata": {
    "collapsed": true
   },
   "outputs": [],
   "source": []
  },
  {
   "cell_type": "code",
   "execution_count": null,
   "metadata": {
    "collapsed": true
   },
   "outputs": [],
   "source": []
  },
  {
   "cell_type": "code",
   "execution_count": null,
   "metadata": {
    "collapsed": true
   },
   "outputs": [],
   "source": []
  },
  {
   "cell_type": "code",
   "execution_count": null,
   "metadata": {
    "collapsed": true
   },
   "outputs": [],
   "source": []
  },
  {
   "cell_type": "code",
   "execution_count": null,
   "metadata": {
    "collapsed": true
   },
   "outputs": [],
   "source": []
  },
  {
   "cell_type": "code",
   "execution_count": null,
   "metadata": {
    "collapsed": true
   },
   "outputs": [],
   "source": []
  },
  {
   "cell_type": "code",
   "execution_count": null,
   "metadata": {
    "collapsed": true
   },
   "outputs": [],
   "source": []
  }
 ],
 "metadata": {
  "kernelspec": {
   "display_name": "Python 3",
   "language": "python",
   "name": "python3"
  },
  "language_info": {
   "codemirror_mode": {
    "name": "ipython",
    "version": 3
   },
   "file_extension": ".py",
   "mimetype": "text/x-python",
   "name": "python",
   "nbconvert_exporter": "python",
   "pygments_lexer": "ipython3",
   "version": "3.6.2"
  }
 },
 "nbformat": 4,
 "nbformat_minor": 2
}
