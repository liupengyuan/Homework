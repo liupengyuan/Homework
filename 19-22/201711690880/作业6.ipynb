{
 "cells": [
  {
   "cell_type": "code",
   "execution_count": 2,
   "metadata": {},
   "outputs": [
    {
     "name": "stdout",
     "output_type": "stream",
     "text": [
      "输入查询对象4\n",
      "5\n"
     ]
    }
   ],
   "source": [
    "#1.写函数，返回某个元素/对象在一个list中的位置，如果不在，则返回-1\n",
    "def find():\n",
    "    numbers = [5,2,0,1,3,4]\n",
    "    num=int(input('输入查询对象'))\n",
    "    if num in numbers:\n",
    "        print(numbers.index(num))\n",
    "    else:\n",
    "        print(-1)\n",
    "    \n",
    "find( )"
   ]
  },
  {
   "cell_type": "code",
   "execution_count": 8,
   "metadata": {},
   "outputs": [
    {
     "name": "stdout",
     "output_type": "stream",
     "text": [
      "[1, 5, 2, 6, 3, 7, 4, 8]\n"
     ]
    }
   ],
   "source": [
    "#2.写函数，可将两个相同长度的list，间隔插入，生成新的list。例如：给两个list，a=[1,2,3,4], b=[5,6,7,8]。则可以生成：[1,5,2,6,3,7,4,8]。\n",
    "\n",
    "a=[1,2,3,4]\n",
    "b=[5,6,7,8]\n",
    "team_1=[]\n",
    "team_2=[]\n",
    "team=[]\n",
    "m=0\n",
    "n=0\n",
    "while m<len(a) and n<len(b):\n",
    "    team.append(a[m])\n",
    "    team.append(b[n])\n",
    "    m+=1\n",
    "    n+=1\n",
    "print(team)\n",
    "    "
   ]
  },
  {
   "cell_type": "code",
   "execution_count": 19,
   "metadata": {},
   "outputs": [
    {
     "name": "stdout",
     "output_type": "stream",
     "text": [
      "向量1横坐标8\n",
      "向量1纵坐标9\n",
      "向量2横坐标6\n",
      "向量2纵坐标5\n",
      "向量为 [[8], [9]] [[6], [5]]\n",
      "余弦值为 1.86\n"
     ]
    }
   ],
   "source": [
    "#3.写函数，可求两个向量的夹角余弦值，向量可放在list中。主程序调用该函数。\n",
    "a=[]\n",
    "b=[]\n",
    "x1=int(input('向量1横坐标'))\n",
    "y1=int(input('向量1纵坐标'))\n",
    "x2=int(input('向量2横坐标'))\n",
    "y2=int(input('向量2纵坐标'))\n",
    "a.append([x1])\n",
    "a.append([y1])\n",
    "b.append([x2])\n",
    "b.append([y2])\n",
    "print('向量为',a,b)\n",
    "i=x1*x2+y1*y2\n",
    "j=(x1**2+x2**2)**1/2\n",
    "print('余弦值为',i/j)"
   ]
  },
  {
   "cell_type": "code",
   "execution_count": 44,
   "metadata": {},
   "outputs": [
    {
     "name": "stdout",
     "output_type": "stream",
     "text": [
      "3486\n"
     ]
    }
   ],
   "source": [
    "#挑战性习题：python老师买了100个book，分给三个班级，每个班级至少分5个，用穷举法计算共有多少种分法？\n",
    "\n",
    "\n",
    "times=0\n",
    "\n",
    "\n",
    "for a in range(100):\n",
    "    for b in range(100):\n",
    "        for c in range(100):\n",
    "\n",
    "            if a>5 and b>5 and c>5 and a+b+c == 100:\n",
    "    \n",
    "                times += 1\n",
    "print(times)\n",
    "\n",
    "\n",
    "\n",
    "\n",
    "\n",
    "\n",
    "\n"
   ]
  }
 ],
 "metadata": {
  "kernelspec": {
   "display_name": "Python 3",
   "language": "python",
   "name": "python3"
  },
  "language_info": {
   "codemirror_mode": {
    "name": "ipython",
    "version": 3
   },
   "file_extension": ".py",
   "mimetype": "text/x-python",
   "name": "python",
   "nbconvert_exporter": "python",
   "pygments_lexer": "ipython3",
   "version": "3.6.2"
  }
 },
 "nbformat": 4,
 "nbformat_minor": 2
}
