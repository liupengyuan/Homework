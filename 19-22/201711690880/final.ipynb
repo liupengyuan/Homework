{
 "cells": [
  {
   "cell_type": "code",
   "execution_count": 28,
   "metadata": {},
   "outputs": [
    {
     "name": "stdout",
     "output_type": "stream",
     "text": [
      "    *******\n",
      "   *********\n",
      "  ***********\n",
      " *************\n",
      "***************\n"
     ]
    }
   ],
   "source": [
    "#1，写函数，画图形\n",
    "def tuxing(symbol,row):\n",
    "    \n",
    "    for i in range(1,row+1):\n",
    "        print((row-i)*' '+symbol*i + symbol*row+symbol*i,end='')\n",
    "        print()\n",
    "       \n",
    "tuxing('*',5)\n",
    "    "
   ]
  },
  {
   "cell_type": "code",
   "execution_count": null,
   "metadata": {
    "collapsed": true
   },
   "outputs": [],
   "source": []
  },
  {
   "cell_type": "code",
   "execution_count": null,
   "metadata": {
    "collapsed": true
   },
   "outputs": [],
   "source": []
  },
  {
   "cell_type": "code",
   "execution_count": 1,
   "metadata": {},
   "outputs": [
    {
     "name": "stdout",
     "output_type": "stream",
     "text": [
      "2\n",
      "5\n",
      "13\n"
     ]
    }
   ],
   "source": [
    "#2实现函数\n",
    "\n",
    "def A(m,n):\n",
    "   \n",
    "    if m == 0:\n",
    "        return n+1\n",
    "    elif m > 0 and n == 0:\n",
    "        return A(m-1,1)\n",
    "    elif m>0 and n >0:\n",
    "        return A(m-1,A(m,n-1))\n",
    "    \n",
    "    \n",
    "m = int(input())\n",
    "n = int(input())\n",
    "print(A(m,n))\n"
   ]
  },
  {
   "cell_type": "code",
   "execution_count": null,
   "metadata": {
    "collapsed": true
   },
   "outputs": [],
   "source": []
  },
  {
   "cell_type": "code",
   "execution_count": 9,
   "metadata": {},
   "outputs": [
    {
     "name": "stdout",
     "output_type": "stream",
     "text": [
      "15\n",
      "3\n",
      "25\n",
      "24 + 21 =?\n",
      "21 * 9 =?\n",
      "5 / 19 =?\n",
      "16 * 10 =?\n",
      "14 * 9 =?\n",
      "5 / 15 =?\n",
      "11 + 18 =?\n",
      "18 / 11 =?\n",
      "6 + 13 =?\n",
      "18 / 20 =?\n",
      "10 + 11 =?\n",
      "5 - 11 =?\n",
      "13 - 12 =?\n",
      "14 / 22 =?\n",
      "10 * 16 =?\n"
     ]
    }
   ],
   "source": [
    "#3考试\n",
    "#(a)\n",
    "n = int(input())\n",
    "a = int(input())\n",
    "b = int(input())\n",
    "\n",
    "import random\n",
    "for i in range(n):\n",
    "    c=random.randint(a,b)\n",
    "    d=random.randint(a,b)\n",
    "    e=['+','-','*','/']\n",
    "    m=random.choice(e)\n",
    "    \n",
    "    \n",
    "    print(c,m,d,'=?')\n",
    "\n",
    "    \n",
    "\n",
    "\n"
   ]
  },
  {
   "cell_type": "code",
   "execution_count": null,
   "metadata": {
    "collapsed": true
   },
   "outputs": [],
   "source": []
  },
  {
   "cell_type": "code",
   "execution_count": 1,
   "metadata": {},
   "outputs": [
    {
     "name": "stdout",
     "output_type": "stream",
     "text": [
      "输入答案45\n",
      "输入答案189\n",
      "输入答案1\n",
      "输入答案160\n",
      "输入答案126\n",
      "输入答案1\n",
      "输入答案29\n",
      "输入答案4\n",
      "输入答案15\n",
      "输入答案6\n",
      "输入答案6\n",
      "输入答案6\n",
      "输入答案6\n",
      "输入答案6\n",
      "输入答案6\n",
      "35\n"
     ]
    }
   ],
   "source": [
    "#3(b)\n",
    "list = [int(input('输入答案')),int(input('输入答案')),int(input('输入答案')),int(input('输入答案')),int(input('输入答案')),int(input('输入答案')),int(input('输入答案')),int(input('输入答案')),int(input('输入答案')),int(input('输入答案')),int(input('输入答案')),int(input('输入答案')),int(input('输入答案')),int(input('输入答案')),int(input('输入答案'))]\n",
    "scores=0\n",
    "if list[0]==45:\n",
    "    scores += 5\n",
    "if list[1]==189:\n",
    "    scores += 10\n",
    "if list[2]==5/19:\n",
    "    scores += 10\n",
    "if list[3]==160:\n",
    "    scores += 10\n",
    "if list[4]==14 * 9:\n",
    "    scores += 10\n",
    "if list[5]==11 + 18 :\n",
    "    scores += 10\n",
    "if list[6]==18 / 11 :\n",
    "    scores += 5\n",
    "if list[7]==6 + 13 :\n",
    "    scores += 10\n",
    "if list[8]==18 / 20 :\n",
    "    scores += 10\n",
    "if list[9]==10 + 11 :\n",
    "    scores += 10\n",
    "if list[10]==5 - 11 :\n",
    "    scores += 5\n",
    "if list[11]==13 - 12 :\n",
    "    scores += 5\n",
    "if list[12]==13 - 12 :\n",
    "    scores += 5\n",
    "if list[13]==14 / 22 :\n",
    "    scores += 10\n",
    "if list[14]==10 * 16 :\n",
    "    scores += 10\n",
    "print(scores)\n",
    "\n",
    "    \n",
    "\n",
    "\n"
   ]
  },
  {
   "cell_type": "code",
   "execution_count": null,
   "metadata": {
    "collapsed": true
   },
   "outputs": [],
   "source": []
  },
  {
   "cell_type": "code",
   "execution_count": 1,
   "metadata": {},
   "outputs": [
    {
     "name": "stdout",
     "output_type": "stream",
     "text": [
      "输入题数3\n",
      "输入第一个数6\n",
      "输入第二个数8\n",
      "输入运算符号+\n",
      "6 + 8 =?\n",
      "打印两个数的和为：14\n",
      "打印第一个数减去第二个数的差为：-2\n",
      "打印第一个数除以第二个数的差商为：0\n",
      "打印两个数的乘积为：48\n",
      "输入第一个数4\n",
      "输入第二个数5\n",
      "输入运算符号-\n",
      "4 - 5 =?\n",
      "打印两个数的和为：9\n",
      "打印第一个数减去第二个数的差为：-1\n",
      "打印第一个数除以第二个数的差商为：0\n",
      "打印两个数的乘积为：20\n",
      "输入第一个数9\n",
      "输入第二个数8\n",
      "输入运算符号*\n",
      "9 * 8 =?\n",
      "打印两个数的和为：17\n",
      "打印第一个数减去第二个数的差为：1\n",
      "打印第一个数除以第二个数的差商为：1\n",
      "打印两个数的乘积为：72\n"
     ]
    }
   ],
   "source": [
    "#3(c)\n",
    "n = int(input('输入题数'))\n",
    "\n",
    "for i in range(n):\n",
    "    a = int(input('输入第一个数'))\n",
    "    b = int(input('输入第二个数'))\n",
    "    m = input('输入运算符号')\n",
    "    print(a,m,b,'=?')\n",
    "    print(\"打印两个数的和为：%d\"%(a+b))\n",
    "    print(\"打印第一个数减去第二个数的差为：%d\"%(a-b))\n",
    "\n",
    "    print(\"打印第一个数除以第二个数的差商为：%d\"%(a/b))\n",
    "\n",
    "\n",
    "    print(\"打印两个数的乘积为：%d\"%(a*b))\n",
    "   \n",
    "    \n"
   ]
  },
  {
   "cell_type": "code",
   "execution_count": null,
   "metadata": {
    "collapsed": true
   },
   "outputs": [],
   "source": []
  },
  {
   "cell_type": "code",
   "execution_count": null,
   "metadata": {
    "collapsed": true
   },
   "outputs": [],
   "source": [
    "#4(a)提取四字成语\n",
    "\n",
    "#电脑很卡文件不能下载     :( \n",
    "A = {}\n",
    "with open ('filename',encoding = 'utf-8') as f:\n",
    "    for line in f: \n",
    "        words = line.split()\n",
    "        for word in words:\n",
    "            word_pos = word.split('\\')\n",
    "                if len(word_pos[0]) = 4\n",
    "                    A.append(word_pos)\n",
    "                break                 \n",
    "print(A)\n",
    "    "
   ]
  },
  {
   "cell_type": "code",
   "execution_count": null,
   "metadata": {
    "collapsed": true
   },
   "outputs": [],
   "source": []
  },
  {
   "cell_type": "code",
   "execution_count": null,
   "metadata": {
    "collapsed": true
   },
   "outputs": [],
   "source": [
    "#4(b)统计频次\n",
    "\n",
    "\n",
    "if word_pos[0] in A:\n",
    "    for index, pos_freq in enumerate(A[word_pos[0]]):\n",
    "        if pos_freq[0]==word_pos[1]:\n",
    "            A[word_pos[0]]index[1] +=1\n",
    "            break\n",
    "        else:\n",
    "            A[word_pos[0]].append([word_pos[1],1])"
   ]
  },
  {
   "cell_type": "code",
   "execution_count": null,
   "metadata": {
    "collapsed": true
   },
   "outputs": [],
   "source": []
  },
  {
   "cell_type": "code",
   "execution_count": null,
   "metadata": {
    "collapsed": true
   },
   "outputs": [],
   "source": [
    "#4(c)统计总频次\n",
    "result={}\n",
    "with open (r'd:\\temp\\idioms.txt') as f:\n",
    "    for line in f: \n",
    "        words = line.split()\n",
    "        for word in words:\n",
    "            word_pos = word.split('\\')\n",
    "            if word_pos[0] in result:\n",
    "                for index, pos_freq in enumerate(result[word_pos[0]]):\n",
    "                    if pos_freq[0]==word_pos[1]:\n",
    "                        result[word_pos[0]]index[1] +=1\n",
    "                        break\n",
    "                    else:\n",
    "                        result[word_pos[0]].append([word_pos[1],1])"
   ]
  },
  {
   "cell_type": "code",
   "execution_count": null,
   "metadata": {
    "collapsed": true
   },
   "outputs": [],
   "source": []
  },
  {
   "cell_type": "code",
   "execution_count": 17,
   "metadata": {},
   "outputs": [],
   "source": [
    "#4(d)\n",
    "fr=open(r'd:\\temp\\idioms.txt')\n",
    "text = fr.read()\n",
    "fr.close\n",
    "text = text.replace('、','')\n",
    "idioms = text.split('\\n')\n",
    "idioms = text.split()\n",
    "if idioms[1] == 'nr':\n",
    "    print(idioms)\n",
    "    "
   ]
  },
  {
   "cell_type": "code",
   "execution_count": null,
   "metadata": {
    "collapsed": true
   },
   "outputs": [],
   "source": []
  },
  {
   "cell_type": "code",
   "execution_count": 24,
   "metadata": {},
   "outputs": [
    {
     "ename": "FileNotFoundError",
     "evalue": "[Errno 2] No such file or directory: 'filename'",
     "output_type": "error",
     "traceback": [
      "\u001b[1;31m---------------------------------------------------------------------------\u001b[0m",
      "\u001b[1;31mFileNotFoundError\u001b[0m                         Traceback (most recent call last)",
      "\u001b[1;32m<ipython-input-24-caf2e22cbbbe>\u001b[0m in \u001b[0;36m<module>\u001b[1;34m()\u001b[0m\n\u001b[0;32m      2\u001b[0m \u001b[1;33m\u001b[0m\u001b[0m\n\u001b[0;32m      3\u001b[0m \u001b[0mA\u001b[0m \u001b[1;33m=\u001b[0m \u001b[1;33m{\u001b[0m\u001b[1;33m}\u001b[0m\u001b[1;33m\u001b[0m\u001b[0m\n\u001b[1;32m----> 4\u001b[1;33m \u001b[1;32mwith\u001b[0m \u001b[0mopen\u001b[0m \u001b[1;33m(\u001b[0m\u001b[1;34m'filename'\u001b[0m\u001b[1;33m,\u001b[0m\u001b[0mencoding\u001b[0m \u001b[1;33m=\u001b[0m \u001b[1;34m'utf-8'\u001b[0m\u001b[1;33m)\u001b[0m \u001b[1;32mas\u001b[0m \u001b[0mf\u001b[0m\u001b[1;33m:\u001b[0m\u001b[1;33m\u001b[0m\u001b[0m\n\u001b[0m\u001b[0;32m      5\u001b[0m     \u001b[1;32mfor\u001b[0m \u001b[0mline\u001b[0m \u001b[1;32min\u001b[0m \u001b[0mf\u001b[0m\u001b[1;33m:\u001b[0m\u001b[1;33m\u001b[0m\u001b[0m\n\u001b[0;32m      6\u001b[0m         \u001b[0mwords\u001b[0m \u001b[1;33m=\u001b[0m \u001b[0mline\u001b[0m\u001b[1;33m.\u001b[0m\u001b[0msplit\u001b[0m\u001b[1;33m(\u001b[0m\u001b[1;33m)\u001b[0m\u001b[1;33m\u001b[0m\u001b[0m\n",
      "\u001b[1;31mFileNotFoundError\u001b[0m: [Errno 2] No such file or directory: 'filename'"
     ]
    }
   ],
   "source": [
    "#4(e)\n",
    "\n",
    "A = {}\n",
    "with open ('filename',encoding = 'utf-8') as f:\n",
    "    for line in f: \n",
    "        words = line.split()\n",
    "        for word in words:\n",
    "            word_pos = word.split()\n",
    "            if len(word_pos[0]) == 4:\n",
    "                A.append(word_pos)\n",
    "            break                 \n",
    "print(len(A))\n",
    " \n",
    "                                  \n",
    "print('*'*20)\n",
    "                                  \n",
    "with open (r'filename') as f:\n",
    "    for line in f: \n",
    "        words = line.split()\n",
    "        for word in words:\n",
    "            word_pos = word.split()\n",
    "                                  \n",
    "                                  \n",
    "print(len(words))\n"
   ]
  },
  {
   "cell_type": "code",
   "execution_count": null,
   "metadata": {
    "collapsed": true
   },
   "outputs": [],
   "source": []
  },
  {
   "cell_type": "code",
   "execution_count": 4,
   "metadata": {},
   "outputs": [
    {
     "ename": "FileNotFoundError",
     "evalue": "[Errno 2] No such file or directory: 'filename'",
     "output_type": "error",
     "traceback": [
      "\u001b[1;31m---------------------------------------------------------------------------\u001b[0m",
      "\u001b[1;31mFileNotFoundError\u001b[0m                         Traceback (most recent call last)",
      "\u001b[1;32m<ipython-input-4-1626b3f63e50>\u001b[0m in \u001b[0;36m<module>\u001b[1;34m()\u001b[0m\n\u001b[0;32m     17\u001b[0m \u001b[0mcomputer\u001b[0m \u001b[1;33m=\u001b[0m \u001b[1;36m0\u001b[0m\u001b[1;33m\u001b[0m\u001b[0m\n\u001b[0;32m     18\u001b[0m \u001b[1;33m\u001b[0m\u001b[0m\n\u001b[1;32m---> 19\u001b[1;33m \u001b[0mfh\u001b[0m \u001b[1;33m=\u001b[0m \u001b[0mopen\u001b[0m\u001b[1;33m(\u001b[0m\u001b[1;34mr'filename'\u001b[0m\u001b[1;33m)\u001b[0m\u001b[1;33m\u001b[0m\u001b[0m\n\u001b[0m\u001b[0;32m     20\u001b[0m \u001b[0mtext\u001b[0m \u001b[1;33m=\u001b[0m \u001b[0mfh\u001b[0m\u001b[1;33m.\u001b[0m\u001b[0mread\u001b[0m\u001b[1;33m(\u001b[0m\u001b[1;33m)\u001b[0m\u001b[1;33m\u001b[0m\u001b[0m\n\u001b[0;32m     21\u001b[0m \u001b[0midioms\u001b[0m \u001b[1;33m=\u001b[0m \u001b[0mtext\u001b[0m\u001b[1;33m.\u001b[0m\u001b[0msplit\u001b[0m\u001b[1;33m(\u001b[0m\u001b[1;33m)\u001b[0m\u001b[1;33m\u001b[0m\u001b[0m\n",
      "\u001b[1;31mFileNotFoundError\u001b[0m: [Errno 2] No such file or directory: 'filename'"
     ]
    }
   ],
   "source": [
    "#4(f)\n",
    "import random\n",
    "\n",
    "\n",
    "def end():\n",
    "    print('游戏结束')\n",
    "    print('你的分数是'%player)\n",
    "    print('计算机的分数是'%computer)\n",
    "    if player > computer:\n",
    "        print('win!')\n",
    "    elif player < computer:\n",
    "        print ('lose.')\n",
    "    else:\n",
    "        print('233333')\n",
    "\n",
    "player = 0\n",
    "computer = 0\n",
    "\n",
    "fh = open(r'filename')\n",
    "text = fh.read()\n",
    "idioms = text.split()\n",
    "idiom_a=[]\n",
    "fh.close()\n",
    "\n",
    "idiom = random.choice(idioms)\n",
    "print(idiom)\n",
    "while True:\n",
    "    answer = input('请输入一个成语')\n",
    "    if answer in idioms and answer[0] == idiom[-1]:\n",
    "        player +=1\n",
    "        \n",
    "        for idiom in idioms:\n",
    "            if answer[-1] == idiom[0]:\n",
    "                print('计算机接龙',idiom)\n",
    "                computer += 1\n",
    "                break\n",
    "            else:\n",
    "                idiom_a.append(idiom)\n",
    "    else:\n",
    "        computer += 10\n",
    "        end()\n",
    "        break\n"
   ]
  },
  {
   "cell_type": "code",
   "execution_count": null,
   "metadata": {
    "collapsed": true
   },
   "outputs": [],
   "source": []
  },
  {
   "cell_type": "code",
   "execution_count": null,
   "metadata": {
    "collapsed": true
   },
   "outputs": [],
   "source": []
  },
  {
   "cell_type": "code",
   "execution_count": null,
   "metadata": {
    "collapsed": true
   },
   "outputs": [],
   "source": []
  }
 ],
 "metadata": {
  "kernelspec": {
   "display_name": "Python 3",
   "language": "python",
   "name": "python3"
  },
  "language_info": {
   "codemirror_mode": {
    "name": "ipython",
    "version": 3
   },
   "file_extension": ".py",
   "mimetype": "text/x-python",
   "name": "python",
   "nbconvert_exporter": "python",
   "pygments_lexer": "ipython3",
   "version": "3.6.2"
  }
 },
 "nbformat": 4,
 "nbformat_minor": 2
}
