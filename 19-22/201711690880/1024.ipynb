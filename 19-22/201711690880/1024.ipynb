{
 "cells": [
  {
   "cell_type": "code",
   "execution_count": 3,
   "metadata": {},
   "outputs": [
    {
     "name": "stdout",
     "output_type": "stream",
     "text": [
      "1-1024之间所有被7整除的偶数和 37814\n"
     ]
    }
   ],
   "source": [
    "total = 0\n",
    "for m in range(1024):\n",
    "    \n",
    "    if m % 2== 0 and m % 7 == 0:\n",
    "        total = total + m\n",
    "print('1-1024之间所有被7整除的偶数和', total)"
   ]
  }
 ],
 "metadata": {
  "kernelspec": {
   "display_name": "Python 3",
   "language": "python",
   "name": "python3"
  },
  "language_info": {
   "codemirror_mode": {
    "name": "ipython",
    "version": 3
   },
   "file_extension": ".py",
   "mimetype": "text/x-python",
   "name": "python",
   "nbconvert_exporter": "python",
   "pygments_lexer": "ipython3",
   "version": "3.6.2"
  }
 },
 "nbformat": 4,
 "nbformat_minor": 2
}
