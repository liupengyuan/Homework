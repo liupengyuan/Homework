{
 "cells": [
  {
   "cell_type": "code",
   "execution_count": 27,
   "metadata": {},
   "outputs": [
    {
     "name": "stdout",
     "output_type": "stream",
     "text": [
      "-10 899 106.72999999999999\n"
     ]
    }
   ],
   "source": [
    "#写函数，返回一个list中的最大值，最小值，平均值。（不用内置的求和求函数）\n",
    "def hulala(my_list):\n",
    "    min = my_list[0]\n",
    "    for i in my_list:\n",
    "        if i < min:\n",
    "            min = i\n",
    "    return min\n",
    "def hululu(my_list):\n",
    "    max = my_list[0]\n",
    "    for p in my_list:\n",
    "        if p > max:\n",
    "            max = p\n",
    "    return max\n",
    "def average(my_list):\n",
    "    sum=0\n",
    "    for i in my_list:\n",
    "        sum += i\n",
    "        f=sum/10\n",
    "    return f\n",
    "a = [1,2,-1,55,100,899,-10,3,12.5,5.8]\n",
    "print(hulala(a),   hululu(a),   average(a))"
   ]
  }
 ],
 "metadata": {
  "kernelspec": {
   "display_name": "Python 3",
   "language": "python",
   "name": "python3"
  },
  "language_info": {
   "codemirror_mode": {
    "name": "ipython",
    "version": 3
   },
   "file_extension": ".py",
   "mimetype": "text/x-python",
   "name": "python",
   "nbconvert_exporter": "python",
   "pygments_lexer": "ipython3",
   "version": "3.6.2"
  }
 },
 "nbformat": 4,
 "nbformat_minor": 2
}
