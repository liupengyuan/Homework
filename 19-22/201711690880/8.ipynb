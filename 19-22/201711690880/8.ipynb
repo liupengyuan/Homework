{
 "cells": [
  {
   "cell_type": "code",
   "execution_count": 1,
   "metadata": {},
   "outputs": [
    {
     "name": "stdout",
     "output_type": "stream",
     "text": [
      "游戏开始\n",
      "游戏规则：成语的第一个字必须要与前一个成语结尾的字相同，成语必须是四字成语，电脑先手\n",
      "电脑给出的成语是： 杏腮桃脸\n",
      "请接成语：脸红耳赤\n",
      "赤壁鏖战\n",
      "10 10\n",
      "请接成语：战无不克\n",
      "克传弓冶\n",
      "10 10\n",
      "请接成语：治国安邦\n",
      "对不起，你错了\n"
     ]
    }
   ],
   "source": [
    "import random\n",
    "\n",
    "fh=open(r'c:\\temp\\成语大全.txt')\n",
    "text=fh.read()   \n",
    "fh.close()\n",
    "idioms=text.split()\n",
    "m = random.choice(idioms)\n",
    "\n",
    "\n",
    "print('游戏开始')\n",
    "print('游戏规则：成语的第一个字必须要与前一个成语结尾的字相同，成语必须是四字成语，电脑先手')\n",
    "print('电脑给出的成语是：',m)\n",
    "\n",
    "i=0\n",
    "while i==0:\n",
    "    n=input('请接成语：')\n",
    "\n",
    "    score_n=0\n",
    "    score_m=0\n",
    "\n",
    "    if n[0] != m[3] or len(n) != 4:\n",
    "        print('对不起，你错了')\n",
    "        break\n",
    "    elif n not in idioms:\n",
    "        print('对不起，你错了')\n",
    "        break\n",
    "    else:\n",
    "        score_n+=10\n",
    "        for m in idioms:\n",
    "            if m[0]==n[3]:\n",
    "                score_m+=10\n",
    "                print(m)\n",
    "                break\n",
    "    print(score_m,score_n)\n",
    "\n",
    "                    "
   ]
  }
 ],
 "metadata": {
  "kernelspec": {
   "display_name": "Python 3",
   "language": "python",
   "name": "python3"
  },
  "language_info": {
   "codemirror_mode": {
    "name": "ipython",
    "version": 3
   },
   "file_extension": ".py",
   "mimetype": "text/x-python",
   "name": "python",
   "nbconvert_exporter": "python",
   "pygments_lexer": "ipython3",
   "version": "3.6.2"
  }
 },
 "nbformat": 4,
 "nbformat_minor": 2
}
