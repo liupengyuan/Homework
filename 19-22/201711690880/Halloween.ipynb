{
 "cells": [
  {
   "cell_type": "code",
   "execution_count": 1,
   "metadata": {},
   "outputs": [
    {
     "name": "stdout",
     "output_type": "stream",
     "text": [
      "输入一个m2\n",
      "输入一个n5\n",
      "240\n"
     ]
    }
   ],
   "source": [
    "def my_sum(end):\n",
    "    i=0\n",
    "    total_n=0\n",
    "    \n",
    "    while i<end:\n",
    "        i=i+1\n",
    "        total_n+=i\n",
    "        \n",
    "    return total_n\n",
    "\n",
    "def my_mul(q):\n",
    "    j=0\n",
    "    total=1\n",
    "    \n",
    "    while j<n:\n",
    "        j=j+1\n",
    "        total=total*j\n",
    "        \n",
    "    return total\n",
    "\n",
    "m=int(input('输入一个m'))\n",
    "n=int(input('输入一个n'))\n",
    "\n",
    "\n",
    "if m>n:\n",
    "    print(my_sum(m)+my_sum(n))\n",
    "else:\n",
    "    print(my_mul(m)+my_mul(n))\n"
   ]
  }
 ],
 "metadata": {
  "kernelspec": {
   "display_name": "Python 3",
   "language": "python",
   "name": "python3"
  },
  "language_info": {
   "codemirror_mode": {
    "name": "ipython",
    "version": 3
   },
   "file_extension": ".py",
   "mimetype": "text/x-python",
   "name": "python",
   "nbconvert_exporter": "python",
   "pygments_lexer": "ipython3",
   "version": "3.6.2"
  }
 },
 "nbformat": 4,
 "nbformat_minor": 2
}
