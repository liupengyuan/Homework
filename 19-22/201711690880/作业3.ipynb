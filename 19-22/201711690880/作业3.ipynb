{
 "cells": [
  {
   "cell_type": "code",
   "execution_count": 17,
   "metadata": {},
   "outputs": [
    {
     "name": "stdout",
     "output_type": "stream",
     "text": [
      "请输入您的姓名孙晨菲\n",
      "请输入出生的月份和日期组合起来的数字1011\n",
      "你好天蝎座\n"
     ]
    }
   ],
   "source": [
    "name=input('请输入您的姓名')\n",
    "m=int(input('请输入出生的月份和日期组合起来的数字'))\n",
    "if 321<= m <=419:\n",
    "    print('你好白羊座')\n",
    "elif 420<= m <=520:\n",
    "    print('你好金牛座')\n",
    "elif 521<= m <=621:    \n",
    "    print('你好双子座')\n",
    "elif 622<= m <=722:\n",
    "    print('你好巨蟹座')\n",
    "elif 723<= m <=822:\n",
    "    print('你好狮子座')\n",
    "elif 823<= m <=922:\n",
    "    print('你好处女座')\n",
    "elif 923<= m <=1023:\n",
    "    print('你好天蝎座')\n",
    "elif 1123<= m <=1222:\n",
    "    print('你好射手座')\n",
    "elif 120<= m <=218:\n",
    "    print('你好水瓶座')\n",
    "elif 219<= m <=320:\n",
    "    print('你好双鱼座')\n",
    "elif n:\n",
    "    print('你好摩羯座')"
   ]
  },
  {
   "cell_type": "code",
   "execution_count": 5,
   "metadata": {},
   "outputs": [
    {
     "name": "stdout",
     "output_type": "stream",
     "text": [
      "请输入一个整数m2\n",
      "请输入一个整数n,n不为零4\n",
      "你想把他们怎么样？求和求积还是求商的余数？求积\n",
      "8\n",
      "0\n"
     ]
    }
   ],
   "source": [
    "m = int(input('请输入一个整数m'))\n",
    "n = int(input('请输入一个整数n,n不为零'))\n",
    "p = input('你想把他们怎么样？求和求积还是求商的余数？')\n",
    "\n",
    "if p=='求和':\n",
    "    print(m+n)\n",
    "if p== '求积':\n",
    "    print(m*n)\n",
    "if p== '求商的余数':\n",
    "    print(m%n)\n",
    "else:\n",
    "    print(m//n)"
   ]
  },
  {
   "cell_type": "code",
   "execution_count": 3,
   "metadata": {},
   "outputs": [
    {
     "name": "stdout",
     "output_type": "stream",
     "text": [
      "请输入一个单词的单数形式cake\n",
      "这是她的复数 cakes\n"
     ]
    }
   ],
   "source": [
    "a = input('请输入一个单词的单数形式')\n",
    "if a.endswith('s'or'sh'or'ch'):\n",
    "    a+='es'\n",
    "    p=a\n",
    "    print('这是她的复数',p)\n",
    "elif a.endswith('e'):\n",
    "    a+='s'\n",
    "    p=a\n",
    "    print('这是她的复数',p)\n",
    "elif a.endswith('y'):\n",
    "    p=a.replace('y','ies')\n",
    "    \n",
    "    print('这是她的复数',p)\n",
    "elif a.endswith('s'):\n",
    "    print('这是她的复数',a)\n",
    "else:\n",
    "    a+='s'\n",
    "    print('这是她的复数',a)"
   ]
  },
  {
   "cell_type": "code",
   "execution_count": 12,
   "metadata": {},
   "outputs": [
    {
     "name": "stdout",
     "output_type": "stream",
     "text": [
      "\n",
      "\n"
     ]
    }
   ],
   "source": [
    "print('\\n')"
   ]
  }
 ],
 "metadata": {
  "kernelspec": {
   "display_name": "Python 3",
   "language": "python",
   "name": "python3"
  }
 },
 "nbformat": 4,
 "nbformat_minor": 2
}
