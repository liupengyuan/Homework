{
 "cells": [
  {
   "cell_type": "markdown",
   "metadata": {},
   "source": [
    "练习 1：写程序，可由键盘读入用户姓名例如Mr. right，让用户输入出生的月份与日期，判断用户星座，假设用户是金牛座，则输出，Mr. right，你是非常有性格的金牛座！。"
   ]
  },
  {
   "cell_type": "code",
   "execution_count": 1,
   "metadata": {},
   "outputs": [
    {
     "name": "stdout",
     "output_type": "stream",
     "text": [
      "输入姓名啦啦啦\n",
      "出生月4\n",
      "出生日23\n",
      "Mr. 啦啦啦 你是非常有性格的金牛座！\n"
     ]
    }
   ],
   "source": [
    "name=input('输入姓名')\n",
    "m=int(input('出生月'))\n",
    "d=int(input('出生日'))\n",
    "if d<=20 and m==3:\n",
    "    print('Mr.',name,'你是非常有性格的双鱼座！')    \n",
    "elif d>=21 and m==3:\n",
    "    print('Mr.',name,'你是非常有性格的白羊座！')    \n",
    "elif d<=19 and m==4:\n",
    "    print('Mr.',name,'你是非常有性格的白羊座！')    \n",
    "elif d>=20 and m==4:\n",
    "    print('Mr.',name,'你是非常有性格的金牛座！')\n",
    "elif d<=20 and m==5:\n",
    "    print('Mr.',name,'你是非常有性格的金牛座！')\n",
    "elif d>=21 and m==5:\n",
    "    print('Mr.',name,'你是非常有性格的双子座！')\n",
    "elif d<=21 and m==6:\n",
    "    print('Mr.',name,'你是非常有性格的双子座！')\n",
    "elif d>=22 and m==6:\n",
    "    print('Mr.',name,'你是非常有性格的巨蟹座！')\n",
    "elif d<=22 and m==7:\n",
    "    print('Mr.',name,'你是非常有性格的巨蟹座！')\n",
    "elif d>=23 and m==7:\n",
    "    print('Mr.',name,'你是非常有性格的狮子座！')\n",
    "elif d<=22 and m==8:\n",
    "    print('Mr.',name,'你是非常有性格的狮子座！')\n",
    "elif d>=23 and m==8:\n",
    "    print('Mr.',name,'你是非常有性格的处女座！')\n",
    "elif d<=22 and m==9:\n",
    "    print('Mr.',name,'你是非常有性格的处女座！')\n",
    "elif d>=23 and m==9:\n",
    "    print('Mr.',name,'你是非常有性格的天枰座！')\n",
    "elif d<=23 and m==10:\n",
    "    print('Mr.',name,'你是非常有性格的天枰座！')\n",
    "elif d>=24 and m==10:\n",
    "    print('Mr.',name,'你是非常有性格的天蝎座！')\n",
    "elif d<=22 and m==11:\n",
    "    print('Mr.',name,'你是非常有性格的天蝎座！')\n",
    "elif d>=23 and m==11:\n",
    "    print('Mr.',name,'你是非常有性格的射手座！')\n",
    "elif d<=21 and m==12:\n",
    "    print('Mr.',name,'你是非常有性格的射手座！')\n",
    "elif d>=22 and m==12:\n",
    "    print('Mr.',name,'你是非常有性格的摩羯座！')\n",
    "elif d<=19 and m==1:\n",
    "    print('Mr.',name,'你是非常有性格的摩羯座！')\n",
    "elif d>=20 and m==1:\n",
    "    print('Mr.',name,'你是非常有性格的水瓶座！')\n",
    "elif d<=18 and m==2:\n",
    "    print('Mr.',name,'你是非常有性格的水瓶座！')\n",
    "elif d>=19 and m==2:\n",
    "    print('Mr.',name,'你是非常有性格的双鱼座！')"
   ]
  },
  {
   "cell_type": "markdown",
   "metadata": {},
   "source": [
    "练习 2：写程序，可由键盘读入两个整数m与n(n不等于0)，询问用户意图，如果要求和则计算从m到n的和输出，如果要乘积则计算从m到n的积并输出，如果要求余数则计算m除以n的余数的值并输出，否则则计算m整除n的值并输出。"
   ]
  },
  {
   "cell_type": "code",
   "execution_count": 2,
   "metadata": {},
   "outputs": [
    {
     "name": "stdout",
     "output_type": "stream",
     "text": [
      "m=3\n",
      "n，不等于0：7\n",
      "你想干啥？求和输入1，乘积输入2，求余数输入3:4\n",
      "0\n"
     ]
    }
   ],
   "source": [
    "m=int(input('m='))\n",
    "n=int(input('n，不等于0：'))\n",
    "x=int(input('你想干啥？求和输入1，乘积输入2，求余数输入3:'))\n",
    "if x==1 or x==2 or x==3:\n",
    "    if x==1:\n",
    "        if m>n:\n",
    "            t=n\n",
    "            while m>n:\n",
    "                n+=1\n",
    "                t=t+n\n",
    "        elif m<n:\n",
    "            t=m\n",
    "            while m<n:\n",
    "                m+=1\n",
    "                t=t+m\n",
    "        elif m==n:\n",
    "            t=m+n\n",
    "    elif x==2:\n",
    "        if m>n:\n",
    "            t=n\n",
    "            while m>n:\n",
    "                n+=1\n",
    "                t=t*n\n",
    "        elif m<n:\n",
    "            t=m\n",
    "            while m<n:\n",
    "                m+=1\n",
    "                t=t*m\n",
    "        elif m==n:\n",
    "            t=m*n\n",
    "    elif x==3:\n",
    "        t=m%n\n",
    "else:\n",
    "    t=m//n\n",
    "print(t)"
   ]
  },
  {
   "cell_type": "markdown",
   "metadata": {},
   "source": [
    "练习 4：英文单词单数转复数，要求输入一个英文动词（单数形式），能够得到其复数形式，或给出单数转复数形式的建议（提示，some_string.endswith(some_letter)函数可以判断某字符串结尾字符，可尝试运行：'myname'.endswith('me')，liupengyuan'.endswith('n')）。"
   ]
  },
  {
   "cell_type": "code",
   "execution_count": 3,
   "metadata": {},
   "outputs": [
    {
     "name": "stdout",
     "output_type": "stream",
     "text": [
      "leaf\n",
      "变f为ves\n"
     ]
    }
   ],
   "source": [
    "n=input('')\n",
    "if n.endswith('s'):\n",
    "    print(n,'es')\n",
    "elif n.endswith('th'):\n",
    "    print(n,'es')\n",
    "elif n.endswith('sh'):\n",
    "    print(n,'es')\n",
    "elif n.endswith('ch'):\n",
    "    print(n,'es')\n",
    "elif n.endswith('f'):\n",
    "    print('变f为ves')\n",
    "elif n.endswith('fe'):\n",
    "    print('变fe为ves')\n",
    "else:\n",
    "    print(n,'s')"
   ]
  },
  {
   "cell_type": "markdown",
   "metadata": {},
   "source": [
    "尝试性练习：写程序，能够在屏幕上显示空行。"
   ]
  },
  {
   "cell_type": "code",
   "execution_count": 4,
   "metadata": {},
   "outputs": [
    {
     "name": "stdout",
     "output_type": "stream",
     "text": [
      "啦啦啦\n",
      "   \n",
      "啦啦啦\n"
     ]
    }
   ],
   "source": [
    "print('啦啦啦')\n",
    "print('   ')\n",
    "print('啦啦啦')"
   ]
  },
  {
   "cell_type": "markdown",
   "metadata": {},
   "source": [
    "挑战性练习：写程序，由用户输入一些整数，能够得到几个整数中的次大值(第二大的值)并输出。"
   ]
  },
  {
   "cell_type": "code",
   "execution_count": 5,
   "metadata": {},
   "outputs": [
    {
     "name": "stdout",
     "output_type": "stream",
     "text": [
      "输入9\n",
      "你的6\n",
      "整数35\n",
      "9\n"
     ]
    }
   ],
   "source": [
    "b=int(input('输入'))\n",
    "c=int(input('你的'))\n",
    "d=int(input('整数'))\n",
    "if b>c>d or d>c>b:\n",
    "    print(c)\n",
    "elif c>b>d or d>b>c:\n",
    "    print(b)\n",
    "elif b>d>c or c>b>d:\n",
    "    print(d)\n"
   ]
  }
 ],
 "metadata": {
  "kernelspec": {
   "display_name": "Python 3",
   "language": "python",
   "name": "python3"
  },
  "language_info": {
   "codemirror_mode": {
    "name": "ipython",
    "version": 3
   },
   "file_extension": ".py",
   "mimetype": "text/x-python",
   "name": "python",
   "nbconvert_exporter": "python",
   "pygments_lexer": "ipython3",
   "version": "3.6.0"
  }
 },
 "nbformat": 4,
 "nbformat_minor": 2
}
