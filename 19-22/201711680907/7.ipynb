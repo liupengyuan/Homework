{
 "cells": [
  {
   "cell_type": "markdown",
   "metadata": {},
   "source": [
    "练习一：自己定义一个reverse(s)函数，功能返回字符串s的倒序字符串。"
   ]
  },
  {
   "cell_type": "code",
   "execution_count": 16,
   "metadata": {},
   "outputs": [
    {
     "name": "stdout",
     "output_type": "stream",
     "text": [
      "abc\n",
      "cba\n"
     ]
    }
   ],
   "source": [
    "def rev(s):\n",
    "    n=len(s)\n",
    "    print(s[n::-1])\n",
    "    return\n",
    "s=input()\n",
    "rev(s)"
   ]
  },
  {
   "cell_type": "markdown",
   "metadata": {},
   "source": [
    "练习二：写函数，根据给定符号和行数，打印相应直角三角形，等腰三角形及其他形式的三角形。"
   ]
  },
  {
   "cell_type": "code",
   "execution_count": 32,
   "metadata": {},
   "outputs": [
    {
     "name": "stdout",
     "output_type": "stream",
     "text": [
      "行数=6\n",
      "符号为d\n",
      "           d \n",
      "          d d \n",
      "         d d d \n",
      "        d d d d \n",
      "       d d d d d \n",
      "      d d d d d d \n",
      "d\n",
      "dd\n",
      "ddd\n",
      "dddd\n",
      "ddddd\n",
      "dddddd\n"
     ]
    }
   ],
   "source": [
    "def sanjiao(m,n):\n",
    "    for i in range(1,n+1):\n",
    "        print((n*2-i)*' '+(m[:]+' ')*i)\n",
    "    for i in range(1,n+1):\n",
    "        print(m[:]*i)\n",
    "    return\n",
    "    \n",
    "n=int(input('行数='))\n",
    "m=input('符号为')\n",
    "sanjiao(m,n)"
   ]
  },
  {
   "cell_type": "markdown",
   "metadata": {},
   "source": [
    "练习五：写函数，根据给定符号，打印各种菱形。"
   ]
  },
  {
   "cell_type": "code",
   "execution_count": 41,
   "metadata": {},
   "outputs": [
    {
     "name": "stdout",
     "output_type": "stream",
     "text": [
      "行数=8\n",
      "符号为s\n",
      "               s \n",
      "              s s \n",
      "             s s s \n",
      "            s s s s \n",
      "           s s s s s \n",
      "          s s s s s s \n",
      "         s s s s s s s \n",
      "        s s s s s s s s \n",
      "         s s s s s s s \n",
      "          s s s s s s \n",
      "           s s s s s \n",
      "            s s s s \n",
      "             s s s \n",
      "              s s \n",
      "               s \n",
      "                \n"
     ]
    }
   ],
   "source": [
    "def lingxing(m,n):\n",
    "    for i in range(1,n+1):\n",
    "        print((n*2-i)*' '+(m[:]+' ')*i)\n",
    "    for i in range(1,n+1):\n",
    "        print((n+i)*' '+(m[:]+' ')*(n-i))\n",
    "    return\n",
    "\n",
    "n=int(input('行数='))\n",
    "m=input('符号为')\n",
    "lingxing(m,n)"
   ]
  }
 ],
 "metadata": {
  "kernelspec": {
   "display_name": "Python 3",
   "language": "python",
   "name": "python3"
  },
  "language_info": {
   "codemirror_mode": {
    "name": "ipython",
    "version": 3
   },
   "file_extension": ".py",
   "mimetype": "text/x-python",
   "name": "python",
   "nbconvert_exporter": "python",
   "pygments_lexer": "ipython3",
   "version": "3.6.3"
  }
 },
 "nbformat": 4,
 "nbformat_minor": 2
}
