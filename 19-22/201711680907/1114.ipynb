{
 "cells": [
  {
   "cell_type": "code",
   "execution_count": 13,
   "metadata": {},
   "outputs": [
    {
     "name": "stdout",
     "output_type": "stream",
     "text": [
      "(899, -10, 106.72999999999999)\n"
     ]
    }
   ],
   "source": [
    "def zhy(numbers):\n",
    "    \n",
    "    n=len(numbers)\n",
    "    \n",
    "    total=0\n",
    "    for number in numbers:\n",
    "        total+=number\n",
    "    average=total/n\n",
    "    \n",
    "    i = 0\n",
    "    max_number=0\n",
    "    min_number=0\n",
    "    for i in range(n):\n",
    "        for number in numbers:\n",
    "            if number > max_number:\n",
    "                max_number = number\n",
    "            elif number < min_number:\n",
    "                min_number = number\n",
    "            \n",
    "    return max_number,min_number,average\n",
    "\n",
    "numbers=[1,2,-1,55,100,899,-10,3,12.5,5.8]\n",
    "print(zhy(numbers))"
   ]
  }
 ],
 "metadata": {
  "kernelspec": {
   "display_name": "Python 3",
   "language": "python",
   "name": "python3"
  },
  "language_info": {
   "codemirror_mode": {
    "name": "ipython",
    "version": 3
   },
   "file_extension": ".py",
   "mimetype": "text/x-python",
   "name": "python",
   "nbconvert_exporter": "python",
   "pygments_lexer": "ipython3",
   "version": "3.6.0"
  }
 },
 "nbformat": 4,
 "nbformat_minor": 2
}
