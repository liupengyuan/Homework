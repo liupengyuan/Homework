{
 "cells": [
  {
   "cell_type": "markdown",
   "metadata": {},
   "source": [
    "练习 1：仿照求$ \\sum_{i=1}^mi + \\sum_{i=1}^ni + \\sum_{i=1}^ki$的完整代码，写程序，可求m!+n!+k!"
   ]
  },
  {
   "cell_type": "code",
   "execution_count": 1,
   "metadata": {},
   "outputs": [
    {
     "name": "stdout",
     "output_type": "stream",
     "text": [
      "m=3\n",
      "n=4\n",
      "k=8\n",
      "40350\n"
     ]
    }
   ],
   "source": [
    "def my_mul(n):\n",
    "    i=0\n",
    "    total_mul=1\n",
    "    while i<n:\n",
    "        i+=1\n",
    "        total_mul=total_mul*i\n",
    "    return total_mul\n",
    "m=int(input('m='))\n",
    "n=int(input('n='))\n",
    "k=int(input('k='))\n",
    "print(my_mul(n)+my_mul(m)+my_mul(k))"
   ]
  },
  {
   "cell_type": "markdown",
   "metadata": {},
   "source": [
    "练习 2：写函数可返回1 - 1/3 + 1/5 - 1/7...的前n项的和。在主程序中，分别令n=1000及100000，打印4倍该函数的和。"
   ]
  },
  {
   "cell_type": "code",
   "execution_count": 8,
   "metadata": {},
   "outputs": [
    {
     "name": "stdout",
     "output_type": "stream",
     "text": [
      "6.281173278083215\n"
     ]
    }
   ],
   "source": [
    "def zhy(n):\n",
    "    \n",
    "    s=-3\n",
    "    t=-1\n",
    "    total=0\n",
    "    while t<n:\n",
    "        \n",
    "        s+=4\n",
    "        t+=4\n",
    "        total=total+1/s-1/t\n",
    "    return total\n",
    "n=1000\n",
    "m=100000\n",
    "print(zhy(n)*4+zhy(m)*4)"
   ]
  },
  {
   "cell_type": "markdown",
   "metadata": {},
   "source": [
    "练习 3：将task3中的练习1及练习4改写为函数，并进行调用。"
   ]
  },
  {
   "cell_type": "code",
   "execution_count": 4,
   "metadata": {},
   "outputs": [
    {
     "name": "stdout",
     "output_type": "stream",
     "text": [
      "nameeee\n",
      "month4\n",
      "day24\n",
      "Mr eee 你是非常有性格的金牛座！\n"
     ]
    }
   ],
   "source": [
    "def zhy(n,m):\n",
    "    if n==1:\n",
    "        if 1<=m<=19:\n",
    "            f='你是非常有性格的摩羯座！'\n",
    "        elif 20<=m<=31:\n",
    "            f='你是非常有性格的水瓶座！'\n",
    "    elif n==2:\n",
    "        if 1<=m<=18:\n",
    "            f='你是非常有性格的水瓶座！'\n",
    "        elif 19<=m<=29:\n",
    "            f='你是非常有性格的双鱼座！'\n",
    "    elif n==3:\n",
    "        if 1<=m<=20:\n",
    "            f='你是非常有性格的双鱼座！'\n",
    "        elif 21<=m<=31:\n",
    "            f='你是非常有性格的白羊座！'\n",
    "    elif n==4:\n",
    "        if 1<=m<=19:\n",
    "            f='你是非常有性格的白羊座！'\n",
    "        elif 20<=m<=30:\n",
    "            f='你是非常有性格的金牛座！'\n",
    "    elif n==5:\n",
    "        if 1<=m<=20:\n",
    "            f='你是非常有性格的金牛座！'\n",
    "        elif 21<=m<=31:\n",
    "            f='你是非常有性格的双子座！'\n",
    "    elif n==6:\n",
    "        if 1<=m<=21:\n",
    "            f='你是非常有性格的双子座！'\n",
    "        elif 22<=m<=30:\n",
    "            f='你是非常有性格的巨蟹座！'\n",
    "    elif n==7:\n",
    "        if 1<=m<=22:\n",
    "            f='你是非常有性格的巨蟹座！'\n",
    "        elif 23<=m<=31:\n",
    "            f='你是非常有性格的狮子座！'\n",
    "    elif n==8:\n",
    "        if 1<=m<=22:\n",
    "            f='你是非常有性格的狮子座！'\n",
    "        elif 23<=m<=31:\n",
    "            f='你是非常有性格的处女座！'\n",
    "    elif n==9:\n",
    "        if 1<=m<=22:\n",
    "            f='你是非常有性格的处女座！'\n",
    "        elif 23<=m<=30:\n",
    "            f='你是非常有性格的天枰座！'\n",
    "    elif n==10:\n",
    "        if 1<=m<=23:\n",
    "            f='你是非常有性格的天枰座！'\n",
    "        elif 24<=m<=31:\n",
    "            f='你是非常有性格的天蝎座！'\n",
    "    elif n==11:\n",
    "        if 1<=m<=22:\n",
    "            f='你是非常有性格的天蝎座！'\n",
    "        elif 23<=m<=30:\n",
    "            f='你是非常有性格的射手座！'\n",
    "    elif n==12:\n",
    "        if 1<=m<=23:\n",
    "            f='你是非常有性格的射手座！'\n",
    "        elif 24<=m<=31:\n",
    "            f='你是非常有性格的摩羯座！'\n",
    "    else :\n",
    "        f='日期输入错误'\n",
    "    return f\n",
    "name=input('name')\n",
    "n=int(input('month'))\n",
    "m=int(input('day'))\n",
    "print('Mr',name,zhy(n,m))"
   ]
  },
  {
   "cell_type": "code",
   "execution_count": 12,
   "metadata": {},
   "outputs": [
    {
     "name": "stdout",
     "output_type": "stream",
     "text": [
      "leaf\n",
      "变f为ves\n"
     ]
    }
   ],
   "source": [
    "def zhy(n):\n",
    "    if n.endswith('s'):\n",
    "        t=n,'es'\n",
    "    elif n.endswith('sh'):\n",
    "        t=n,'es'\n",
    "    elif n.endswith('ch'):\n",
    "        t=n,'es'\n",
    "    elif n.endswith('f'):\n",
    "        t='变f为ves'\n",
    "    elif n.endswith('fe'):\n",
    "        t='变fe为ves'\n",
    "    else :\n",
    "        t=n,\"s\"\n",
    "    return t\n",
    "n=input('')\n",
    "print(zhy(n))"
   ]
  },
  {
   "cell_type": "markdown",
   "metadata": {},
   "source": [
    "挑战性练习：写程序，可以求从整数m到整数n累加的和，间隔为k，求和部分需用函数实现，主程序中由用户输入m，n，k调用函数验证正确性。"
   ]
  },
  {
   "cell_type": "code",
   "execution_count": 14,
   "metadata": {},
   "outputs": [
    {
     "name": "stdout",
     "output_type": "stream",
     "text": [
      "m=1\n",
      "n=3\n",
      "k=2\n",
      "4\n"
     ]
    }
   ],
   "source": [
    "def zhy(m,n,k):\n",
    "    total=m\n",
    "    while m+k<=n:\n",
    "        m+=k\n",
    "        total=total+m\n",
    "    return total\n",
    "m=int(input('m='))\n",
    "n=int(input('n='))\n",
    "k=int(input('k='))\n",
    "print(zhy(m,n,k))"
   ]
  }
 ],
 "metadata": {
  "kernelspec": {
   "display_name": "Python 3",
   "language": "python",
   "name": "python3"
  }
 },
 "nbformat": 4,
 "nbformat_minor": 2
}
