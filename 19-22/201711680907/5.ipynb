{
 "cells": [
  {
   "cell_type": "markdown",
   "metadata": {},
   "source": [
    "练习 1：写函数，求n个随机整数均值的平方根，整数范围在m与k之间（n,m,k由用户输入）。"
   ]
  },
  {
   "cell_type": "code",
   "execution_count": 10,
   "metadata": {
    "scrolled": true
   },
   "outputs": [
    {
     "name": "stdout",
     "output_type": "stream",
     "text": [
      "n=2\n",
      "m=1\n",
      "k=(k>m)5\n",
      "1.8708286933869707\n"
     ]
    }
   ],
   "source": [
    "n=int(input('n='))\n",
    "m=int(input('m='))\n",
    "k=int(input('k=(k>m)'))\n",
    "import math,random\n",
    "def zhy(n,m,k):\n",
    "    i=0\n",
    "    \n",
    "    total=0\n",
    "    while i<n:\n",
    "        i+=1\n",
    "        a=random.randint(m,k)\n",
    "        total=total+a\n",
    "    ave=total/n\n",
    "    return ave\n",
    "print(math.sqrt(zhy(n,m,k)))"
   ]
  },
  {
   "cell_type": "code",
   "execution_count": 8,
   "metadata": {},
   "outputs": [
    {
     "name": "stdout",
     "output_type": "stream",
     "text": [
      "None\n"
     ]
    }
   ],
   "source": [
    "import math\n",
    "def sq(l):\n",
    "    a=math.sqrt(l)\n",
    "print(sq(4))\n"
   ]
  },
  {
   "cell_type": "markdown",
   "metadata": {},
   "source": [
    "练习 2：写函数，共n个随机整数，整数范围在m与k之间，（n,m,k由用户输入）。求1：西格玛log(随机整数)，2：西格玛1/log(随机整数)"
   ]
  },
  {
   "cell_type": "code",
   "execution_count": 11,
   "metadata": {},
   "outputs": [
    {
     "name": "stdout",
     "output_type": "stream",
     "text": [
      "n=2\n",
      "m=1\n",
      "k=(k>m)5\n",
      "1.791759469228055\n",
      "0.5581106265512472\n"
     ]
    }
   ],
   "source": [
    "import math,random\n",
    "n=int(input('n='))\n",
    "m=int(input('m='))\n",
    "k=int(input('k=(k>m)'))\n",
    "def zhy(n,m,k):\n",
    "    i=0\n",
    "    total=0\n",
    "    while i<n:\n",
    "        i+=1\n",
    "        a=random.randint(m,k)\n",
    "        total=total+a\n",
    "    return math.log(total)\n",
    "print(zhy(n,m,k))\n",
    "print(1/zhy(n,m,k))"
   ]
  },
  {
   "cell_type": "markdown",
   "metadata": {},
   "source": [
    "练习 3：写函数，求s=a+aa+aaa+aaaa+aa...a的值，其中a是[1,9]之间的随机整数。例如2+22+222+2222+22222(此时共有5个数相加)，几个数相加由键盘输入。"
   ]
  },
  {
   "cell_type": "code",
   "execution_count": 19,
   "metadata": {
    "scrolled": true
   },
   "outputs": [
    {
     "name": "stdout",
     "output_type": "stream",
     "text": [
      "n=2\n",
      "96.0\n"
     ]
    }
   ],
   "source": [
    "n=int(input('n='))\n",
    "import random,math\n",
    "def zhy(n):\n",
    "    a=random.randint(1,9)\n",
    "    s=0\n",
    "    i=0\n",
    "    while i<n:\n",
    "        i+=1\n",
    "        x=a/9*(10**i-1)\n",
    "        s=s+x\n",
    "    return s\n",
    "print(zhy(n))"
   ]
  },
  {
   "cell_type": "markdown",
   "metadata": {},
   "source": [
    "挑战性练习：仿照task5，将猜数游戏改成由用户随便选择一个整数，让计算机来猜测的猜数游戏，要求和task5中人猜测的方法类似，但是人机角色对换，由人来判断猜测是大、小还是相等，请写出完整的猜数游戏。"
   ]
  },
  {
   "cell_type": "code",
   "execution_count": 22,
   "metadata": {},
   "outputs": [
    {
     "ename": "SyntaxError",
     "evalue": "invalid character in identifier (<ipython-input-22-ea0312ee5a41>, line 34)",
     "output_type": "error",
     "traceback": [
      "\u001b[1;36m  File \u001b[1;32m\"<ipython-input-22-ea0312ee5a41>\"\u001b[1;36m, line \u001b[1;32m34\u001b[0m\n\u001b[1;33m    print('共可猜'，max_times,'次')\u001b[0m\n\u001b[1;37m                        ^\u001b[0m\n\u001b[1;31mSyntaxError\u001b[0m\u001b[1;31m:\u001b[0m invalid character in identifier\n"
     ]
    }
   ],
   "source": [
    "import random,math\n",
    "\n",
    "def menu():\n",
    "    print('''=====游戏菜单=====\n",
    "                1. 游戏说明\n",
    "                2. 开始游戏\n",
    "                3. 退出游戏\n",
    "                4. 制作团队\n",
    "             =====游戏菜单=====''')\n",
    "    \n",
    "def show_instruction():\n",
    "    print('选择一个整数，由计算机猜测一个数字，用户判断猜测大、小或相等')\n",
    "    \n",
    "def show_team():\n",
    "    print('made by zhy')\n",
    "    \n",
    "def win():\n",
    "    print('计算机猜对了数字，好玩吗？')\n",
    "    \n",
    "def lose():\n",
    "    print('猜测次数用完了，计算机太笨了')\n",
    "    \n",
    "def game_over():\n",
    "    print('游戏结束')\n",
    "    \n",
    "def guess_game():\n",
    "    n=int(input('输入一个数字作为上界,并在范围内选择一个数字'))\n",
    "    max_times=math.ceil(math.log2(n))\n",
    "    guess_times=0\n",
    "    \n",
    "    while guess_times<max_times:\n",
    "        guess_times+=1 \n",
    "        x=random.randint(1,n)\n",
    "        print('共可猜'，max_times,'次')\n",
    "        print('计算机已猜'，guess_times,'次')\n",
    "        print(x)\n",
    "        judge=int(input('''计算机猜测的数字：\n",
    "                             过大输入1\n",
    "                             过小输入2\n",
    "                             相等输入3''')\n",
    "        \n",
    "        if judge == 3：\n",
    "            win()\n",
    "            print('计算机比标准次数少猜了'，max_times-guess_times,'次！')\n",
    "            break\n",
    "                  \n",
    "        elif judge==2:\n",
    "            x=random.randint(x,n)\n",
    "            \n",
    "        else :\n",
    "            x=random.randint(1,x)\n",
    "                  \n",
    "    else :\n",
    "        lose()\n",
    "                  \n",
    "def main():\n",
    "    while True:\n",
    "        menu()\n",
    "        choice = int(input'输入选择序号')\n",
    "        if choice == 1:\n",
    "            show_instruction()\n",
    "        elif choice == 2:\n",
    "            guess_game()\n",
    "        elif choice == 3:\n",
    "            game_over()\n",
    "            break\n",
    "        else:\n",
    "            show_team()\n",
    "                  \n",
    "if __name__ == '__main__':\n",
    "    main()"
   ]
  }
 ],
 "metadata": {
  "kernelspec": {
   "display_name": "Python 3",
   "language": "python",
   "name": "python3"
  },
  "language_info": {
   "codemirror_mode": {
    "name": "ipython",
    "version": 3
   },
   "file_extension": ".py",
   "mimetype": "text/x-python",
   "name": "python",
   "nbconvert_exporter": "python",
   "pygments_lexer": "ipython3",
   "version": "3.6.0"
  }
 },
 "nbformat": 4,
 "nbformat_minor": 2
}
