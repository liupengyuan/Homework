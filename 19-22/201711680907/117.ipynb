{
 "cells": [
  {
   "cell_type": "code",
   "execution_count": 1,
   "metadata": {
    "collapsed": false
   },
   "outputs": [
    {
     "name": "stdout",
     "output_type": "stream",
     "text": [
      "m=5\n",
      "n=10\n",
      "k=,k>n500\n",
      "35.35533905932738\n"
     ]
    }
   ],
   "source": [
    "\n",
    "m=int(input('m='))\n",
    "n=int(input('n='))\n",
    "k=int(input('k=,k>n'))\n",
    "\n",
    "import random,math\n",
    "\n",
    "def num(n,k):\n",
    "    number=random.randint(n,k)\n",
    "    return number\n",
    "\n",
    "times=0\n",
    "total=0\n",
    "while times<m:\n",
    "    times+=1\n",
    "    total=total+num(n,k)\n",
    "\n",
    "def number(x):\n",
    "    final=math.sqrt(x)\n",
    "    return final\n",
    "    \n",
    "\n",
    "print(number(total))"
   ]
  }
 ],
 "metadata": {
  "kernelspec": {
   "display_name": "Python 3",
   "language": "python",
   "name": "python3"
  },
  "language_info": {
   "codemirror_mode": {
    "name": "ipython",
    "version": 3
   },
   "file_extension": ".py",
   "mimetype": "text/x-python",
   "name": "python",
   "nbconvert_exporter": "python",
   "pygments_lexer": "ipython3",
   "version": "3.6.0"
  }
 },
 "nbformat": 4,
 "nbformat_minor": 2
}
