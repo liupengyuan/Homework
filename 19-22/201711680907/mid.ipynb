{
 "cells": [
  {
   "cell_type": "code",
   "execution_count": 4,
   "metadata": {},
   "outputs": [
    {
     "name": "stdout",
     "output_type": "stream",
     "text": [
      "m=5\n",
      "35\n"
     ]
    }
   ],
   "source": [
    "def sum_number(m):\n",
    "    i=0\n",
    "    n=0\n",
    "    total=0\n",
    "    while i<m:\n",
    "        i+=1\n",
    "        n=n+i\n",
    "        total=total+n\n",
    "    return total\n",
    "\n",
    "m=int(input('m='))\n",
    "print(sum_number(m))"
   ]
  },
  {
   "cell_type": "code",
   "execution_count": 6,
   "metadata": {},
   "outputs": [
    {
     "name": "stdout",
     "output_type": "stream",
     "text": [
      "给定符号w\n",
      "给定行数4\n",
      "w\n",
      "None\n"
     ]
    }
   ],
   "source": [
    "def image(m):\n",
    "    n=input('给定符号')\n",
    "    m=int(input('给定行数'))\n",
    "    i=0\n",
    "    a=-1\n",
    "    while i<m:\n",
    "        i+=1\n",
    "        a=a+2\n",
    "        for t in range(a):\n",
    "            print(n)\n",
    "            return\n",
    "\n",
    "print(image(m))"
   ]
  },
  {
   "cell_type": "code",
   "execution_count": 4,
   "metadata": {},
   "outputs": [
    {
     "name": "stdout",
     "output_type": "stream",
     "text": [
      "23415\n"
     ]
    }
   ],
   "source": [
    "def first(n):\n",
    "    a=str(n)\n",
    "    numbers=[n]\n",
    "   "
   ]
  },
  {
   "cell_type": "code",
   "execution_count": 7,
   "metadata": {},
   "outputs": [
    {
     "name": "stdout",
     "output_type": "stream",
     "text": [
      "输入身高(cm)183\n",
      "输入身高(cm)185\n",
      "输入身高(cm)183\n",
      "输入身高(cm)187\n",
      "输入身高(cm)178\n",
      "输入身高(cm)175\n",
      "输入身高(cm)177\n",
      "输入身高(cm)190\n",
      "输入身高(cm)172\n",
      "181.11111111111111\n",
      "[183, 185, 183, 187, 190]\n"
     ]
    }
   ],
   "source": [
    "def hei():\n",
    "    heights=[]\n",
    "    highers=[]\n",
    "    for i in range(9):\n",
    "        n=int(input('输入身高(cm)'))\n",
    "        heights.append(n)\n",
    "    average=sum(heights)/len(heights)\n",
    "    print(average)\n",
    "    for height in heights:\n",
    "        if height > average:\n",
    "            highers.append(height)\n",
    "    return highers\n",
    "        \n",
    "\n",
    "print(hei())"
   ]
  },
  {
   "cell_type": "code",
   "execution_count": 7,
   "metadata": {},
   "outputs": [
    {
     "name": "stdout",
     "output_type": "stream",
     "text": [
      "10 + 10 =\n",
      "结果等于20\n",
      "10 + 2 =\n",
      "结果等于2\n",
      "0 + 3 =\n",
      "结果等于45\n",
      "7 + 5 =\n",
      "结果等于12\n",
      "8 + 0 =\n",
      "结果等于8\n",
      "最终得分为 60\n"
     ]
    }
   ],
   "source": [
    "import random\n",
    "def que():\n",
    "    a=random.randint(0,10)\n",
    "    b=random.randint(0,10)\n",
    "    n=a+b\n",
    "    print(a,'+',b,'=')\n",
    "    return n\n",
    "\n",
    "score=0\n",
    "i=0\n",
    "while i<5:\n",
    "    i+=1\n",
    "    a=random.randint(0,10)\n",
    "    b=random.randint(0,10)\n",
    "    n=a+b\n",
    "    print(a,'+',b,'=')\n",
    "    m=int(input('结果等于'))\n",
    "    if m==n:\n",
    "        score=score+20\n",
    "    else:\n",
    "        score=score\n",
    "print('最终得分为',score)\n",
    "        "
   ]
  },
  {
   "cell_type": "code",
   "execution_count": 12,
   "metadata": {},
   "outputs": [
    {
     "name": "stdout",
     "output_type": "stream",
     "text": [
      "[108, 3, -5, 9, 108, 34, -76, 88, -76]\n"
     ]
    }
   ],
   "source": [
    "list1=[3,-5,9,108,34,-76,88]\n",
    "list2=[]\n",
    "a=max(list1)\n",
    "b=min(list1)\n",
    "n=len(list1)\n",
    "list2.append(a)\n",
    "\n",
    "x=0\n",
    "while x<n:\n",
    "    x+=1\n",
    "    if list1[x-1]==a:\n",
    "        ma=x\n",
    "    elif list1[x-1]==b:\n",
    "        mi=x\n",
    "for i in range(n):\n",
    "    if i+1==ma:\n",
    "        list2.append(list1[i])\n",
    "    elif i+1==mi:\n",
    "        list2.append(list1[i])\n",
    "    else:\n",
    "        list2.append(list1[i])\n",
    "\n",
    "list2.append(b)\n",
    "print(list2)"
   ]
  }
 ],
 "metadata": {
  "kernelspec": {
   "display_name": "Python 3",
   "language": "python",
   "name": "python3"
  },
  "language_info": {
   "codemirror_mode": {
    "name": "ipython",
    "version": 3
   },
   "file_extension": ".py",
   "mimetype": "text/x-python",
   "name": "python",
   "nbconvert_exporter": "python",
   "pygments_lexer": "ipython3",
   "version": "3.6.3"
  }
 },
 "nbformat": 4,
 "nbformat_minor": 2
}
