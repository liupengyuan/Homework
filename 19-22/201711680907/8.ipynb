{
 "cells": [
  {
   "cell_type": "code",
   "execution_count": 4,
   "metadata": {},
   "outputs": [],
   "source": [
    "fh=open(r'c:\\temp\\idioms.txt')\n",
    "text=fh.read()\n",
    "fh.close()\n",
    "text=text.replace('、','')\n",
    "idioms=text.split('\\n')\n",
    "fh=open(r'c:\\temp\\成语大全.txt','w')\n",
    "fh.write('\\n'.join(idioms))\n",
    "fh.close()\n"
   ]
  },
  {
   "cell_type": "code",
   "execution_count": 5,
   "metadata": {},
   "outputs": [],
   "source": [
    "def menu():\n",
    "    print('''=====游戏菜单=====\n",
    "                1. 游戏说明\n",
    "                2. 开始游戏\n",
    "                3. 退出游戏\n",
    "                4. 制作团队\n",
    "             =====游戏菜单=====''')\n",
    "    \n",
    "def show_instructions():\n",
    "    print('''初始人类与计算机得分为0\n",
    "             计算机随机给出一个成语，人类进行接龙，然后交替\n",
    "             程序自动判断接龙是否正确\n",
    "             每接对一个成语加十分，错误则游戏结束\n",
    "             最后给出人类与计算机的得分''')\n",
    "    \n",
    "def game_over():\n",
    "    print('游戏结束')\n",
    "    \n",
    "def show_team():\n",
    "    print('made by zhy')\n"
   ]
  },
  {
   "cell_type": "code",
   "execution_count": 6,
   "metadata": {},
   "outputs": [],
   "source": [
    "def game():\n",
    "    import random\n",
    "    score_human=0\n",
    "    score_computer=0\n",
    "    answer_computer=random.choice(idioms)\n",
    "    print(answer_computer)\n",
    "    while True:\n",
    "        answer_human=input('')\n",
    "        if answer_human.startswith(answer_computer[len(answer_computer)-1]):\n",
    "            score_human+=10\n",
    "            answer=[]\n",
    "            for i in range(len(idioms)):\n",
    "                idiom=idioms[i]\n",
    "                if idiom.startswith(answer_human[len(answer_human)-1]):\n",
    "                    answer.append(idiom)\n",
    "            if answer==[]:\n",
    "                game_over()\n",
    "                print('你的得分为',score_human)\n",
    "                print('计算机的得分为',score_computer)\n",
    "            else:\n",
    "                answer_computer=answer[0]\n",
    "                print(answer_computer)\n",
    "                score_computer+=10   \n",
    "        else:\n",
    "            game_over()\n",
    "            print('你的得分为',score_human)\n",
    "            print('计算机的得分为',score_computer)\n",
    "            break\n",
    "        answer_computer=answer[0]"
   ]
  },
  {
   "cell_type": "code",
   "execution_count": 7,
   "metadata": {
    "collapsed": true
   },
   "outputs": [],
   "source": [
    "def main():\n",
    "    while True:\n",
    "        menu()\n",
    "        choice=int(input('输入你选择的序号'))\n",
    "        if choice==1:\n",
    "            show_instructions()\n",
    "        elif choice==2:\n",
    "            game()\n",
    "        elif choice==3:\n",
    "            game_over()\n",
    "            break\n",
    "        elif choice==4:\n",
    "            show_team()\n",
    "        else:\n",
    "            print('没有这个选项哦')"
   ]
  },
  {
   "cell_type": "code",
   "execution_count": 8,
   "metadata": {},
   "outputs": [
    {
     "name": "stdout",
     "output_type": "stream",
     "text": [
      "=====游戏菜单=====\n",
      "                1. 游戏说明\n",
      "                2. 开始游戏\n",
      "                3. 退出游戏\n",
      "                4. 制作团队\n",
      "             =====游戏菜单=====\n",
      "输入你选择的序号2\n",
      "杞人忧天\n",
      "天天向上\n",
      "上下其手\n",
      "手忙脚乱\n",
      "游戏结束\n",
      "你的得分为 20\n",
      "计算机的得分为 10\n"
     ]
    },
    {
     "ename": "IndexError",
     "evalue": "list index out of range",
     "output_type": "error",
     "traceback": [
      "\u001b[1;31m---------------------------------------------------------------------------\u001b[0m",
      "\u001b[1;31mIndexError\u001b[0m                                Traceback (most recent call last)",
      "\u001b[1;32m<ipython-input-8-58ca95c5b364>\u001b[0m in \u001b[0;36m<module>\u001b[1;34m()\u001b[0m\n\u001b[1;32m----> 1\u001b[1;33m \u001b[0mmain\u001b[0m\u001b[1;33m(\u001b[0m\u001b[1;33m)\u001b[0m\u001b[1;33m\u001b[0m\u001b[0m\n\u001b[0m",
      "\u001b[1;32m<ipython-input-7-d5f725edd567>\u001b[0m in \u001b[0;36mmain\u001b[1;34m()\u001b[0m\n\u001b[0;32m      6\u001b[0m             \u001b[0mshow_instructions\u001b[0m\u001b[1;33m(\u001b[0m\u001b[1;33m)\u001b[0m\u001b[1;33m\u001b[0m\u001b[0m\n\u001b[0;32m      7\u001b[0m         \u001b[1;32melif\u001b[0m \u001b[0mchoice\u001b[0m\u001b[1;33m==\u001b[0m\u001b[1;36m2\u001b[0m\u001b[1;33m:\u001b[0m\u001b[1;33m\u001b[0m\u001b[0m\n\u001b[1;32m----> 8\u001b[1;33m             \u001b[0mgame\u001b[0m\u001b[1;33m(\u001b[0m\u001b[1;33m)\u001b[0m\u001b[1;33m\u001b[0m\u001b[0m\n\u001b[0m\u001b[0;32m      9\u001b[0m         \u001b[1;32melif\u001b[0m \u001b[0mchoice\u001b[0m\u001b[1;33m==\u001b[0m\u001b[1;36m3\u001b[0m\u001b[1;33m:\u001b[0m\u001b[1;33m\u001b[0m\u001b[0m\n\u001b[0;32m     10\u001b[0m             \u001b[0mgame_over\u001b[0m\u001b[1;33m(\u001b[0m\u001b[1;33m)\u001b[0m\u001b[1;33m\u001b[0m\u001b[0m\n",
      "\u001b[1;32m<ipython-input-6-99107340a751>\u001b[0m in \u001b[0;36mgame\u001b[1;34m()\u001b[0m\n\u001b[0;32m     27\u001b[0m             \u001b[0mprint\u001b[0m\u001b[1;33m(\u001b[0m\u001b[1;34m'计算机的得分为'\u001b[0m\u001b[1;33m,\u001b[0m\u001b[0mscore_computer\u001b[0m\u001b[1;33m)\u001b[0m\u001b[1;33m\u001b[0m\u001b[0m\n\u001b[0;32m     28\u001b[0m             \u001b[1;32mbreak\u001b[0m\u001b[1;33m\u001b[0m\u001b[0m\n\u001b[1;32m---> 29\u001b[1;33m         \u001b[0manswer_computer\u001b[0m\u001b[1;33m=\u001b[0m\u001b[0manswer\u001b[0m\u001b[1;33m[\u001b[0m\u001b[1;36m0\u001b[0m\u001b[1;33m]\u001b[0m\u001b[1;33m\u001b[0m\u001b[0m\n\u001b[0m",
      "\u001b[1;31mIndexError\u001b[0m: list index out of range"
     ]
    }
   ],
   "source": [
    "main()"
   ]
  }
 ],
 "metadata": {
  "kernelspec": {
   "display_name": "Python 3",
   "language": "python",
   "name": "python3"
  },
  "language_info": {
   "codemirror_mode": {
    "name": "ipython",
    "version": 3
   },
   "file_extension": ".py",
   "mimetype": "text/x-python",
   "name": "python",
   "nbconvert_exporter": "python",
   "pygments_lexer": "ipython3",
   "version": "3.6.3"
  }
 },
 "nbformat": 4,
 "nbformat_minor": 2
}
