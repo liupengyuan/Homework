{
 "cells": [
  {
   "cell_type": "code",
   "execution_count": null,
   "metadata": {},
   "outputs": [],
   "source": [
    "def get_ch_table(line,n):\n",
    "    import random\n",
    "    ch_table = []\n",
    "    text=[]\n",
    "    for ch in line:\n",
    "        if ch not in ch_table:\n",
    "            ch_table.append(ch)\n",
    "    idioms=ch_table.split()\n",
    "    for i in range(n*10):\n",
    "        idiom=random.choice(idioms)\n",
    "        text.append(idiom)\n",
    "    return text\n",
    "    \n",
    "line=open(r'c:\\temp\\idioms.txt')\n",
    "n=int(input())\n",
    "name=n+'.txt'\n",
    "fh=open(r'(c:\\temp\\)+name','w')\n",
    "fh.writelines(get_ch_table(line,n))\n",
    "fh.close\n",
    "print(fh)"
   ]
  }
 ],
 "metadata": {
  "kernelspec": {
   "display_name": "Python 3",
   "language": "python",
   "name": "python3"
  },
  "language_info": {
   "codemirror_mode": {
    "name": "ipython",
    "version": 3
   },
   "file_extension": ".py",
   "mimetype": "text/x-python",
   "name": "python",
   "nbconvert_exporter": "python",
   "pygments_lexer": "ipython3",
   "version": "3.6.3"
  }
 },
 "nbformat": 4,
 "nbformat_minor": 2
}
