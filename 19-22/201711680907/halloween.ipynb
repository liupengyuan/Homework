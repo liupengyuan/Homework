{
 "cells": [
  {
   "cell_type": "code",
   "execution_count": 18,
   "metadata": {
    "collapsed": false
   },
   "outputs": [
    {
     "name": "stdout",
     "output_type": "stream",
     "text": [
      "m=4\n",
      "n=2\n",
      "13\n"
     ]
    }
   ],
   "source": [
    "def my_sum(n):\n",
    "    i=0\n",
    "    total_sum=0\n",
    "    while i<n:\n",
    "        i+=1\n",
    "        total_sum=total_sum+i\n",
    "    return total_sum\n",
    "def my_mul(n):\n",
    "    i=0\n",
    "    total_mul=1\n",
    "    while i<n:\n",
    "        i+=1\n",
    "        total_mul=total_mul*i\n",
    "    return total_mul\n",
    "m=int(input('m='))\n",
    "n=int(input('n='))\n",
    "if m>n:\n",
    "    print(my_sum(m)+my_sum(n))\n",
    "else :\n",
    "    print(my_mul(m)+my_mul(n))"
   ]
  },
  {
   "cell_type": "code",
   "execution_count": null,
   "metadata": {
    "collapsed": true
   },
   "outputs": [],
   "source": []
  }
 ],
 "metadata": {
  "kernelspec": {
   "display_name": "Python 3",
   "language": "python",
   "name": "python3"
  },
  "language_info": {
   "codemirror_mode": {
    "name": "ipython",
    "version": 3
   },
   "file_extension": ".py",
   "mimetype": "text/x-python",
   "name": "python",
   "nbconvert_exporter": "python",
   "pygments_lexer": "ipython3",
   "version": "3.6.0"
  }
 },
 "nbformat": 4,
 "nbformat_minor": 2
}
