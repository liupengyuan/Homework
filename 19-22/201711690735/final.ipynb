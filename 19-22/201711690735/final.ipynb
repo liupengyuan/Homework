{
 "cells": [
  {
   "cell_type": "code",
   "execution_count": 20,
   "metadata": {},
   "outputs": [
    {
     "name": "stdout",
     "output_type": "stream",
     "text": [
      "请输入一个符号，回车结束*\n",
      "请输入行数5\n",
      "           * ***** * \n",
      "         * * ***** * * \n",
      "       * * * ***** * * * \n",
      "     * * * * ***** * * * * \n",
      "   * * * * * ***** * * * * * \n"
     ]
    }
   ],
   "source": [
    "#第一题\n",
    "def m(a,b):\n",
    "\n",
    "    for i in range(b):\n",
    "        print(' '*2*(b-i)+(' '+ a)* (i+1) +' '+ a*b +' '+ (a+' ')*(i+1))\n",
    "    \n",
    "a = str(input('请输入一个符号，回车结束'))\n",
    "b = int(input('请输入行数'))\n",
    "m(a,b)\n",
    "    "
   ]
  },
  {
   "cell_type": "code",
   "execution_count": 24,
   "metadata": {},
   "outputs": [
    {
     "data": {
      "text/plain": [
       "125"
      ]
     },
     "execution_count": 24,
     "metadata": {},
     "output_type": "execute_result"
    }
   ],
   "source": [
    "#第二题\n",
    "def A(m,n):\n",
    "    if m ==0:\n",
    "        result = n+1\n",
    "    elif m>0 and n == 0:\n",
    "        result = A(m-1,1)\n",
    "    elif m>0 and n>0:\n",
    "        result = A(m-1,A(m,n-1))\n",
    " \n",
    "    return result\n",
    "A(3,4)"
   ]
  },
  {
   "cell_type": "code",
   "execution_count": 1,
   "metadata": {},
   "outputs": [
    {
     "name": "stdout",
     "output_type": "stream",
     "text": [
      "输入一个整数，作为题目的个数15\n",
      "输入一个整数，作为随机整数的下限3\n",
      "输入一个整数，作为随机整数的上限,b>a25\n",
      "q= 10 - 3\n",
      "q= 25 * 24\n",
      "q= 4 + 17\n",
      "q= 15 * 18\n",
      "q= 12 / 6\n",
      "q= 7 + 25\n",
      "q= 13 * 25\n",
      "q= 25 - 13\n",
      "q= 14 * 23\n",
      "q= 18 + 7\n",
      "q= 7 + 6\n",
      "q= 20 - 11\n",
      "q= 7 * 17\n",
      "q= 18 + 23\n",
      "q= 5 + 23\n"
     ]
    }
   ],
   "source": [
    "#第三题(a)\n",
    "import random\n",
    "n = int(input('输入一个整数，作为题目的个数'))\n",
    "a = int(input('输入一个整数，作为随机整数的下限'))\n",
    "b = int(input('输入一个整数，作为随机整数的上限,b>a'))\n",
    "\n",
    "def m():\n",
    "    s=0\n",
    "    scores = 0\n",
    "    while s<n:\n",
    "        \n",
    "    \n",
    "        k = random.randint(1,4)\n",
    "        i = random.randint(a,b)\n",
    "        j = random.randint(a,b)\n",
    "  \n",
    "        if k == 1:\n",
    "            print('q=',i ,'+', j)\n",
    "            s+=1\n",
    "        elif k==2:\n",
    "            q = i-j\n",
    "            s+=1\n",
    "            if q<=0:\n",
    "                print('q=',j, '-', i)\n",
    "            else:\n",
    "                print('q=',i, '-', j)\n",
    "                \n",
    "        elif k==3:\n",
    "            print('q=',i ,'*', j)\n",
    "            s+=1\n",
    "        else:\n",
    "            q = i/j\n",
    "            if q > 0 and q%1==0:\n",
    "                print('q=',i ,'/',j)\n",
    "                s+=1\n",
    "            else:\n",
    "                s=s\n",
    "           \n",
    "m()\n",
    "        \n",
    "            \n",
    "    \n",
    "    "
   ]
  },
  {
   "cell_type": "code",
   "execution_count": null,
   "metadata": {},
   "outputs": [],
   "source": [
    "#3(b)\n",
    "list = []\n",
    "scores = 0\n",
    "for i in range(n):\n",
    "    a = int(input('请输入以上题目的全部答案,中间用逗号隔开'))\n",
    "    list.append(a)\n",
    "    if list[0]==7:\n",
    "        scores += 5\n",
    "    elif list[1]==20000:\n",
    "        scores += 10\n",
    "    elif list[2]== 21:\n",
    "        scores +=5\n",
    "    elif list[3] == 1200:\n",
    "        scores += 10\n",
    "    elif list[4] == 2:\n",
    "        scores += 10\n",
    "    elif list[5] == 32:\n",
    "        scores += 5\n",
    "    elif list[6] == 13*25:\n",
    "        scores += 10\n",
    "    elif list[7] == 25 - 13:\n",
    "        scores += 5\n",
    "    elif list[8] ==14 * 23:\n",
    "        scores +=10\n",
    "    elif list[9] == 18 + 7:\n",
    "        scores += 5\n",
    "    elif list[10] == 7 + 6:\n",
    "        scores += 5\n",
    "    elif list[11] == 20 - 11:\n",
    "        scores +=5\n",
    "    elif list[12] == 7 * 17:\n",
    "        scores +=10\n",
    "    elif list[13] == 18 + 23:\n",
    "        scores +=5\n",
    "    elif list[14] ==  5 + 23:\n",
    "        scores +=5\n",
    "print(scores)\n",
    "    \n",
    "      \n",
    "\n",
    "    \n",
    "    \n",
    "    "
   ]
  },
  {
   "cell_type": "code",
   "execution_count": 3,
   "metadata": {},
   "outputs": [
    {
     "name": "stdout",
     "output_type": "stream",
     "text": [
      "题目个数10\n",
      "请输入四则运算题目1+2=\n",
      "3\n",
      "请输入四则运算题目1+3=\n",
      "4\n",
      "请输入四则运算题目1+4=\n",
      "5\n",
      "请输入四则运算题目1+5=\n",
      "6\n",
      "请输入四则运算题目1*1=\n",
      "1\n",
      "请输入四则运算题目1-1=\n",
      "0\n",
      "请输入四则运算题目1/1=\n",
      "1.0\n",
      "请输入四则运算题目1+9=\n",
      "10\n",
      "请输入四则运算题目2*8=\n",
      "16\n",
      "请输入四则运算题目9/3=\n",
      "3.0\n",
      "70\n"
     ]
    }
   ],
   "source": [
    "#第三题(c)\n",
    "n = int(input('题目个数'))\n",
    "score=0\n",
    "for i in range (n):\n",
    "    q = str(input('请输入四则运算题目'))\n",
    "    a = int(q[0])\n",
    "    b = int(q[2])\n",
    "    c = str(q[1])\n",
    "    if c == '+':\n",
    "        s = a+b\n",
    "        print(s)\n",
    "        score+=5\n",
    "    elif c =='-':\n",
    "        s=a-b\n",
    "        print(s)\n",
    "        score+=5\n",
    "    elif c=='*':\n",
    "        s=a*b\n",
    "        print(s)\n",
    "        score+=10\n",
    "    else:\n",
    "        s=a/b\n",
    "        print(s)\n",
    "        score+=10\n",
    "print(score)"
   ]
  },
  {
   "cell_type": "code",
   "execution_count": 13,
   "metadata": {},
   "outputs": [
    {
     "ename": "FileNotFoundError",
     "evalue": "[Errno 2] No such file or directory: 'd:\\\\temp\\\\test2_utf8(1).txt'",
     "output_type": "error",
     "traceback": [
      "\u001b[1;31m---------------------------------------------------------------------------\u001b[0m",
      "\u001b[1;31mFileNotFoundError\u001b[0m                         Traceback (most recent call last)",
      "\u001b[1;32m<ipython-input-13-d5a80fbce567>\u001b[0m in \u001b[0;36m<module>\u001b[1;34m()\u001b[0m\n\u001b[0;32m     11\u001b[0m \u001b[1;33m\u001b[0m\u001b[0m\n\u001b[0;32m     12\u001b[0m \u001b[0mfilename\u001b[0m \u001b[1;33m=\u001b[0m \u001b[1;34mr'd:\\temp\\test2_utf8(1).txt'\u001b[0m\u001b[1;33m\u001b[0m\u001b[0m\n\u001b[1;32m---> 13\u001b[1;33m \u001b[0mn\u001b[0m\u001b[1;33m(\u001b[0m\u001b[0mfilename\u001b[0m\u001b[1;33m)\u001b[0m\u001b[1;33m\u001b[0m\u001b[0m\n\u001b[0m",
      "\u001b[1;32m<ipython-input-13-d5a80fbce567>\u001b[0m in \u001b[0;36mn\u001b[1;34m(filename)\u001b[0m\n\u001b[0;32m      2\u001b[0m \u001b[1;32mdef\u001b[0m \u001b[0mn\u001b[0m\u001b[1;33m(\u001b[0m\u001b[0mfilename\u001b[0m\u001b[1;33m)\u001b[0m\u001b[1;33m:\u001b[0m\u001b[1;33m\u001b[0m\u001b[0m\n\u001b[0;32m      3\u001b[0m \u001b[1;33m\u001b[0m\u001b[0m\n\u001b[1;32m----> 4\u001b[1;33m     \u001b[1;32mwith\u001b[0m \u001b[0mopen\u001b[0m\u001b[1;33m(\u001b[0m\u001b[0mfilename\u001b[0m\u001b[1;33m)\u001b[0m \u001b[1;32mas\u001b[0m \u001b[0mf\u001b[0m\u001b[1;33m:\u001b[0m\u001b[1;33m\u001b[0m\u001b[0m\n\u001b[0m\u001b[0;32m      5\u001b[0m         \u001b[0mtext\u001b[0m \u001b[1;33m=\u001b[0m \u001b[0mf\u001b[0m\u001b[1;33m.\u001b[0m\u001b[0mread\u001b[0m\u001b[1;33m(\u001b[0m\u001b[1;33m)\u001b[0m\u001b[1;33m\u001b[0m\u001b[0m\n\u001b[0;32m      6\u001b[0m         \u001b[1;32mfor\u001b[0m \u001b[0mline\u001b[0m \u001b[1;32min\u001b[0m \u001b[0mtext\u001b[0m\u001b[1;33m:\u001b[0m\u001b[1;33m\u001b[0m\u001b[0m\n",
      "\u001b[1;31mFileNotFoundError\u001b[0m: [Errno 2] No such file or directory: 'd:\\\\temp\\\\test2_utf8(1).txt'"
     ]
    }
   ],
   "source": [
    "#第四题（a）\n",
    "def n(filename):\n",
    "    \n",
    "    with open(filename) as f:\n",
    "        text = f.read()\n",
    "        for line in text:\n",
    "            A = [word.split('/')[0] for word in line.split()]\n",
    "            if len(word)!=4:\n",
    "                words.remove(word)\n",
    "        return A\n",
    "\n",
    "filename = r'd:\\temp\\test2_utf8(1).txt' \n",
    "n(filename)"
   ]
  },
  {
   "cell_type": "code",
   "execution_count": 18,
   "metadata": {},
   "outputs": [
    {
     "ename": "NameError",
     "evalue": "name 'word' is not defined",
     "output_type": "error",
     "traceback": [
      "\u001b[1;31m---------------------------------------------------------------------------\u001b[0m",
      "\u001b[1;31mNameError\u001b[0m                                 Traceback (most recent call last)",
      "\u001b[1;32m<ipython-input-18-8cf19184d8b3>\u001b[0m in \u001b[0;36m<module>\u001b[1;34m()\u001b[0m\n\u001b[0;32m     13\u001b[0m \u001b[1;33m\u001b[0m\u001b[0m\n\u001b[0;32m     14\u001b[0m \u001b[0mfilename\u001b[0m \u001b[1;33m=\u001b[0m\u001b[1;34mr'd:\\temp\\test.txt'\u001b[0m\u001b[1;33m\u001b[0m\u001b[0m\n\u001b[1;32m---> 15\u001b[1;33m \u001b[0ms\u001b[0m\u001b[1;33m(\u001b[0m\u001b[0mfilename\u001b[0m\u001b[1;33m)\u001b[0m\u001b[1;33m\u001b[0m\u001b[0m\n\u001b[0m\u001b[0;32m     16\u001b[0m \u001b[0mtable\u001b[0m \u001b[1;33m=\u001b[0m \u001b[0ms\u001b[0m\u001b[1;33m(\u001b[0m\u001b[0mfilename\u001b[0m\u001b[1;33m)\u001b[0m\u001b[1;33m\u001b[0m\u001b[0m\n\u001b[0;32m     17\u001b[0m \u001b[0mtable\u001b[0m\u001b[1;33m.\u001b[0m\u001b[0msort\u001b[0m\u001b[1;33m(\u001b[0m\u001b[1;33m)\u001b[0m\u001b[1;33m\u001b[0m\u001b[0m\n",
      "\u001b[1;32m<ipython-input-18-8cf19184d8b3>\u001b[0m in \u001b[0;36ms\u001b[1;34m(filename)\u001b[0m\n\u001b[0;32m      5\u001b[0m         \u001b[0mwords\u001b[0m \u001b[1;33m=\u001b[0m \u001b[1;33m[\u001b[0m\u001b[0mword\u001b[0m\u001b[1;33m.\u001b[0m\u001b[0msplit\u001b[0m\u001b[1;33m(\u001b[0m\u001b[1;34m'/'\u001b[0m\u001b[1;33m)\u001b[0m\u001b[1;33m[\u001b[0m\u001b[1;36m0\u001b[0m\u001b[1;33m]\u001b[0m \u001b[1;32mfor\u001b[0m \u001b[0mword\u001b[0m \u001b[1;32min\u001b[0m \u001b[0mtext\u001b[0m\u001b[1;33m.\u001b[0m\u001b[0msplit\u001b[0m\u001b[1;33m(\u001b[0m\u001b[1;33m)\u001b[0m\u001b[1;33m]\u001b[0m\u001b[1;33m\u001b[0m\u001b[0m\n\u001b[0;32m      6\u001b[0m         \u001b[0mword_freq_pairs\u001b[0m \u001b[1;33m=\u001b[0m \u001b[1;33m[\u001b[0m\u001b[1;33m]\u001b[0m\u001b[1;33m\u001b[0m\u001b[0m\n\u001b[1;32m----> 7\u001b[1;33m         \u001b[0mn\u001b[0m\u001b[1;33m(\u001b[0m\u001b[0mfilename\u001b[0m\u001b[1;33m)\u001b[0m\u001b[1;33m\u001b[0m\u001b[0m\n\u001b[0m\u001b[0;32m      8\u001b[0m \u001b[1;33m\u001b[0m\u001b[0m\n\u001b[0;32m      9\u001b[0m         \u001b[1;32mfor\u001b[0m \u001b[0mword\u001b[0m \u001b[1;32min\u001b[0m \u001b[0mA\u001b[0m\u001b[1;33m:\u001b[0m\u001b[1;33m\u001b[0m\u001b[0m\n",
      "\u001b[1;32m<ipython-input-13-d5a80fbce567>\u001b[0m in \u001b[0;36mn\u001b[1;34m(filename)\u001b[0m\n\u001b[0;32m      6\u001b[0m         \u001b[1;32mfor\u001b[0m \u001b[0mline\u001b[0m \u001b[1;32min\u001b[0m \u001b[0mtext\u001b[0m\u001b[1;33m:\u001b[0m\u001b[1;33m\u001b[0m\u001b[0m\n\u001b[0;32m      7\u001b[0m             \u001b[0mA\u001b[0m \u001b[1;33m=\u001b[0m \u001b[1;33m[\u001b[0m\u001b[0mword\u001b[0m\u001b[1;33m.\u001b[0m\u001b[0msplit\u001b[0m\u001b[1;33m(\u001b[0m\u001b[1;34m'/'\u001b[0m\u001b[1;33m)\u001b[0m\u001b[1;33m[\u001b[0m\u001b[1;36m0\u001b[0m\u001b[1;33m]\u001b[0m \u001b[1;32mfor\u001b[0m \u001b[0mword\u001b[0m \u001b[1;32min\u001b[0m \u001b[0mline\u001b[0m\u001b[1;33m.\u001b[0m\u001b[0msplit\u001b[0m\u001b[1;33m(\u001b[0m\u001b[1;33m)\u001b[0m\u001b[1;33m]\u001b[0m\u001b[1;33m\u001b[0m\u001b[0m\n\u001b[1;32m----> 8\u001b[1;33m             \u001b[1;32mif\u001b[0m \u001b[0mlen\u001b[0m\u001b[1;33m(\u001b[0m\u001b[0mword\u001b[0m\u001b[1;33m)\u001b[0m\u001b[1;33m!=\u001b[0m\u001b[1;36m4\u001b[0m\u001b[1;33m:\u001b[0m\u001b[1;33m\u001b[0m\u001b[0m\n\u001b[0m\u001b[0;32m      9\u001b[0m                 \u001b[0mwords\u001b[0m\u001b[1;33m.\u001b[0m\u001b[0mremove\u001b[0m\u001b[1;33m(\u001b[0m\u001b[0mword\u001b[0m\u001b[1;33m)\u001b[0m\u001b[1;33m\u001b[0m\u001b[0m\n\u001b[0;32m     10\u001b[0m         \u001b[1;32mreturn\u001b[0m \u001b[0mA\u001b[0m\u001b[1;33m\u001b[0m\u001b[0m\n",
      "\u001b[1;31mNameError\u001b[0m: name 'word' is not defined"
     ]
    }
   ],
   "source": [
    "#第四题(b)\n",
    "def s(filename):\n",
    "    with open(filename)as fr:\n",
    "        text = fr.read()\n",
    "        words = [word.split('/')[0] for word in text.split()]\n",
    "        word_freq_pairs = []\n",
    "        \n",
    "        n(filename)\n",
    "    \n",
    "        for word in A:\n",
    "            number = words.count(word)\n",
    "            word_freq_pairs.append([word,number])\n",
    "        return word_freq_pairs\n",
    "    \n",
    "filename =r'd:\\temp\\test.txt'\n",
    "s(filename)\n",
    "table = s(filename)\n",
    "table.sort()\n",
    "print(table[:20])"
   ]
  },
  {
   "cell_type": "code",
   "execution_count": 6,
   "metadata": {},
   "outputs": [
    {
     "data": {
      "text/plain": [
       "Counter({'': 226,\n",
       "         'a': 4048,\n",
       "         'ad': 412,\n",
       "         'ag': 39,\n",
       "         'an': 150,\n",
       "         'b': 822,\n",
       "         'c': 4298,\n",
       "         'd': 8680,\n",
       "         'df': 23,\n",
       "         'dg': 2,\n",
       "         'e': 27,\n",
       "         'eng': 679,\n",
       "         'f': 2527,\n",
       "         'g': 39,\n",
       "         'h': 50,\n",
       "         'i': 878,\n",
       "         'j': 701,\n",
       "         'k': 189,\n",
       "         'l': 1197,\n",
       "         'm': 12343,\n",
       "         'mq': 87,\n",
       "         'n': 35162,\n",
       "         'ng': 255,\n",
       "         'nr': 4936,\n",
       "         'nrfg': 62,\n",
       "         'nrt': 442,\n",
       "         'ns': 3973,\n",
       "         'nt': 831,\n",
       "         'nz': 1190,\n",
       "         'o': 14,\n",
       "         'p': 6091,\n",
       "         'q': 620,\n",
       "         'r': 5551,\n",
       "         'rg': 2,\n",
       "         'rr': 2,\n",
       "         'rz': 21,\n",
       "         's': 560,\n",
       "         't': 2872,\n",
       "         'tg': 36,\n",
       "         'u': 698,\n",
       "         'ud': 113,\n",
       "         'ug': 111,\n",
       "         'uj': 7451,\n",
       "         'ul': 1742,\n",
       "         'uv': 167,\n",
       "         'uz': 214,\n",
       "         'v': 27980,\n",
       "         'vd': 32,\n",
       "         'vg': 102,\n",
       "         'vi': 1,\n",
       "         'vn': 3200,\n",
       "         'vq': 4,\n",
       "         'x': 29769,\n",
       "         'y': 183,\n",
       "         'z': 149,\n",
       "         'zg': 358})"
      ]
     },
     "execution_count": 6,
     "metadata": {},
     "output_type": "execute_result"
    }
   ],
   "source": [
    "#第四题(c)\n",
    "from collections import Counter\n",
    "\n",
    "def a(filename):\n",
    "    pop_freq_dict = Counter()\n",
    "    \n",
    "    with open(filename)as f:\n",
    "        for line in f:\n",
    "            pop_freq_dict.update([word.split('/')[1] for word in line.split()])\n",
    "            \n",
    "            \n",
    "    return pop_freq_dict\n",
    "\n",
    "filename = r'd:\\temp\\test.txt'\n",
    "a(filename)\n",
    "    "
   ]
  },
  {
   "cell_type": "code",
   "execution_count": null,
   "metadata": {},
   "outputs": [],
   "source": []
  },
  {
   "cell_type": "code",
   "execution_count": null,
   "metadata": {},
   "outputs": [],
   "source": []
  },
  {
   "cell_type": "code",
   "execution_count": null,
   "metadata": {},
   "outputs": [],
   "source": []
  },
  {
   "cell_type": "code",
   "execution_count": null,
   "metadata": {},
   "outputs": [],
   "source": []
  },
  {
   "cell_type": "code",
   "execution_count": null,
   "metadata": {},
   "outputs": [],
   "source": []
  },
  {
   "cell_type": "code",
   "execution_count": null,
   "metadata": {},
   "outputs": [],
   "source": []
  },
  {
   "cell_type": "code",
   "execution_count": null,
   "metadata": {},
   "outputs": [],
   "source": []
  },
  {
   "cell_type": "code",
   "execution_count": null,
   "metadata": {},
   "outputs": [],
   "source": []
  },
  {
   "cell_type": "code",
   "execution_count": null,
   "metadata": {},
   "outputs": [],
   "source": []
  },
  {
   "cell_type": "code",
   "execution_count": null,
   "metadata": {},
   "outputs": [],
   "source": []
  },
  {
   "cell_type": "code",
   "execution_count": null,
   "metadata": {},
   "outputs": [],
   "source": []
  },
  {
   "cell_type": "code",
   "execution_count": null,
   "metadata": {},
   "outputs": [],
   "source": []
  },
  {
   "cell_type": "code",
   "execution_count": null,
   "metadata": {},
   "outputs": [],
   "source": []
  },
  {
   "cell_type": "code",
   "execution_count": null,
   "metadata": {},
   "outputs": [],
   "source": []
  },
  {
   "cell_type": "code",
   "execution_count": null,
   "metadata": {},
   "outputs": [],
   "source": []
  },
  {
   "cell_type": "code",
   "execution_count": null,
   "metadata": {},
   "outputs": [],
   "source": []
  },
  {
   "cell_type": "code",
   "execution_count": null,
   "metadata": {},
   "outputs": [],
   "source": []
  },
  {
   "cell_type": "code",
   "execution_count": null,
   "metadata": {},
   "outputs": [],
   "source": []
  },
  {
   "cell_type": "code",
   "execution_count": null,
   "metadata": {},
   "outputs": [],
   "source": []
  },
  {
   "cell_type": "code",
   "execution_count": null,
   "metadata": {},
   "outputs": [],
   "source": []
  },
  {
   "cell_type": "code",
   "execution_count": null,
   "metadata": {},
   "outputs": [],
   "source": []
  },
  {
   "cell_type": "code",
   "execution_count": null,
   "metadata": {},
   "outputs": [],
   "source": []
  },
  {
   "cell_type": "code",
   "execution_count": null,
   "metadata": {},
   "outputs": [],
   "source": []
  },
  {
   "cell_type": "code",
   "execution_count": null,
   "metadata": {},
   "outputs": [],
   "source": []
  },
  {
   "cell_type": "code",
   "execution_count": null,
   "metadata": {},
   "outputs": [],
   "source": []
  },
  {
   "cell_type": "code",
   "execution_count": null,
   "metadata": {},
   "outputs": [],
   "source": []
  },
  {
   "cell_type": "code",
   "execution_count": null,
   "metadata": {},
   "outputs": [],
   "source": []
  },
  {
   "cell_type": "code",
   "execution_count": null,
   "metadata": {},
   "outputs": [],
   "source": []
  },
  {
   "cell_type": "code",
   "execution_count": null,
   "metadata": {},
   "outputs": [],
   "source": []
  },
  {
   "cell_type": "code",
   "execution_count": null,
   "metadata": {},
   "outputs": [],
   "source": []
  },
  {
   "cell_type": "code",
   "execution_count": null,
   "metadata": {},
   "outputs": [],
   "source": []
  },
  {
   "cell_type": "code",
   "execution_count": null,
   "metadata": {},
   "outputs": [],
   "source": []
  },
  {
   "cell_type": "code",
   "execution_count": null,
   "metadata": {},
   "outputs": [],
   "source": []
  },
  {
   "cell_type": "code",
   "execution_count": null,
   "metadata": {},
   "outputs": [],
   "source": []
  },
  {
   "cell_type": "code",
   "execution_count": null,
   "metadata": {},
   "outputs": [],
   "source": []
  },
  {
   "cell_type": "code",
   "execution_count": null,
   "metadata": {},
   "outputs": [],
   "source": []
  },
  {
   "cell_type": "code",
   "execution_count": null,
   "metadata": {},
   "outputs": [],
   "source": []
  },
  {
   "cell_type": "code",
   "execution_count": null,
   "metadata": {},
   "outputs": [],
   "source": []
  },
  {
   "cell_type": "code",
   "execution_count": null,
   "metadata": {},
   "outputs": [],
   "source": []
  },
  {
   "cell_type": "code",
   "execution_count": null,
   "metadata": {},
   "outputs": [],
   "source": []
  },
  {
   "cell_type": "code",
   "execution_count": null,
   "metadata": {},
   "outputs": [],
   "source": []
  },
  {
   "cell_type": "code",
   "execution_count": null,
   "metadata": {},
   "outputs": [],
   "source": []
  },
  {
   "cell_type": "code",
   "execution_count": null,
   "metadata": {},
   "outputs": [],
   "source": []
  },
  {
   "cell_type": "code",
   "execution_count": null,
   "metadata": {},
   "outputs": [],
   "source": []
  },
  {
   "cell_type": "code",
   "execution_count": null,
   "metadata": {},
   "outputs": [],
   "source": []
  },
  {
   "cell_type": "code",
   "execution_count": null,
   "metadata": {},
   "outputs": [],
   "source": []
  },
  {
   "cell_type": "code",
   "execution_count": null,
   "metadata": {},
   "outputs": [],
   "source": []
  },
  {
   "cell_type": "code",
   "execution_count": null,
   "metadata": {},
   "outputs": [],
   "source": []
  },
  {
   "cell_type": "code",
   "execution_count": null,
   "metadata": {},
   "outputs": [],
   "source": []
  },
  {
   "cell_type": "code",
   "execution_count": null,
   "metadata": {},
   "outputs": [],
   "source": []
  },
  {
   "cell_type": "code",
   "execution_count": null,
   "metadata": {},
   "outputs": [],
   "source": []
  },
  {
   "cell_type": "code",
   "execution_count": null,
   "metadata": {},
   "outputs": [],
   "source": []
  },
  {
   "cell_type": "code",
   "execution_count": null,
   "metadata": {},
   "outputs": [],
   "source": []
  },
  {
   "cell_type": "code",
   "execution_count": null,
   "metadata": {},
   "outputs": [],
   "source": []
  },
  {
   "cell_type": "code",
   "execution_count": null,
   "metadata": {},
   "outputs": [],
   "source": []
  },
  {
   "cell_type": "code",
   "execution_count": null,
   "metadata": {},
   "outputs": [],
   "source": []
  },
  {
   "cell_type": "code",
   "execution_count": null,
   "metadata": {},
   "outputs": [],
   "source": []
  },
  {
   "cell_type": "code",
   "execution_count": null,
   "metadata": {},
   "outputs": [],
   "source": []
  },
  {
   "cell_type": "code",
   "execution_count": null,
   "metadata": {},
   "outputs": [],
   "source": []
  }
 ],
 "metadata": {
  "kernelspec": {
   "display_name": "Python 3",
   "language": "python",
   "name": "python3"
  },
  "language_info": {
   "codemirror_mode": {
    "name": "ipython",
    "version": 3
   },
   "file_extension": ".py",
   "mimetype": "text/x-python",
   "name": "python",
   "nbconvert_exporter": "python",
   "pygments_lexer": "ipython3",
   "version": "3.6.3"
  }
 },
 "nbformat": 4,
 "nbformat_minor": 2
}
