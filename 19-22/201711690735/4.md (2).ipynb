{
 "cells": [
  {
   "cell_type": "code",
   "execution_count": 7,
   "metadata": {},
   "outputs": [
    {
     "name": "stdout",
     "output_type": "stream",
     "text": [
      "请输入第一个整数，以回车结束。1\n",
      "请输入第二个整数，以回车结束。2\n",
      "请输入第三个整数，以回车结束。3\n",
      "它们阶乘的和为： 9\n"
     ]
    }
   ],
   "source": [
    "#写程序，可求m!+n!+k!\n",
    "def compute_mul(end):\n",
    "    i=0\n",
    "    total_n=1\n",
    "    \n",
    "    while i<end:\n",
    "        i=i+1\n",
    "        total_n*=i\n",
    "        \n",
    "    return total_n\n",
    "\n",
    "m=int(input('请输入第一个整数，以回车结束。'))\n",
    "n=int(input('请输入第二个整数，以回车结束。'))\n",
    "k=int(input('请输入第三个整数，以回车结束。'))\n",
    "\n",
    "print('它们阶乘的和为：',compute_mul(m)+compute_mul(n)+compute_mul(k))"
   ]
  },
  {
   "cell_type": "code",
   "execution_count": 16,
   "metadata": {},
   "outputs": [
    {
     "name": "stdout",
     "output_type": "stream",
     "text": [
      "3.140592653839794\n",
      "3.1414926535900345\n"
     ]
    }
   ],
   "source": [
    "#写函数可返回1 - 1/3 + 1/5 - 1/7...的前n项的和。在主程序中，分别令n=1000及100000，打印4倍该函数的和。\n",
    "def compute_sum(end):\n",
    "    i = 0\n",
    "    total_n=0\n",
    "    \n",
    "    while i < end:\n",
    "        i = i + 1\n",
    "        n = 2*i - 1\n",
    "        if i%2==0:\n",
    "            m=-1/n\n",
    "        else:\n",
    "            m=1/n\n",
    "        total_n=total_n+m\n",
    "        \n",
    "    return total_n\n",
    "\n",
    "print(4*compute_sum(1000))\n",
    "print(4*compute_sum(10000))"
   ]
  },
  {
   "cell_type": "code",
   "execution_count": 23,
   "metadata": {},
   "outputs": [],
   "source": [
    "#练习 3：将task3中的练习1及练习4改写为函数，并进行调用。\n",
    "#练习 1：写程序，可由键盘读入用户姓名例如Mr. right，让用户输入出生的月份与日期，判断用户星座，\n",
    "#        假设用户是金牛座，则输出，Mr. right，你是非常有性格的金牛座！。\n",
    "\n",
    "def my_birthday(m,n):\n",
    "    \n",
    "    if m==3 and 20<n<32 or m==4 and 0<n<20:\n",
    "        print(name,'你是很有个性的白羊座。')\n",
    "    elif m==4 and 19<n<31 or m==5 and 0<n<21:\n",
    "         print(name,'你是很有个性的金牛座。')\n",
    "    elif m==5 and 20<n<32 or m==6 and 0<n<22: \n",
    "         print(name,'你是很有个性的双子座。')\n",
    "    elif m==6 and 21<n<31 or m==7 and n<23:\n",
    "        print(name,'你是很温柔的巨蟹座。')\n",
    "    elif m==7 and n>=23 or m==8 and n<=22:\n",
    "        print(name,'你是很有个性的狮子座。')\n",
    "    elif m==8 and n>=23 or m==9 and n<=22:\n",
    "        print(name,'你是一丝不苟的处女座。')\n",
    "    elif m==9 and n>=23 or m==10 and n<=23:\n",
    "        print(name,'你是很有个性的天秤座。')\n",
    "    elif m==10 and n>=24 or m==11 and n<=22:\n",
    "        print(name,'你是腹黑的天蝎座。')\n",
    "    elif m==11 and n>=23 or m==12 and n<=21:\n",
    "        print(name,'你是很有个性的射手座。')\n",
    "    elif m==12 and n>=22 or m==1 and n<=19:\n",
    "        print(name,'你是很有个性的摩羯座。')\n",
    "    elif m==1 and n>=20 or m==2 and n<=18:\n",
    "        print(name,'你是很有个性的水瓶座。')\n",
    "    else:\n",
    "        print(name,'你是温柔似水的双鱼座。')\n",
    "        \n",
    "\n",
    "    \n",
    "\n",
    "    \n",
    "\n",
    "\n"
   ]
  },
  {
   "cell_type": "code",
   "execution_count": 22,
   "metadata": {},
   "outputs": [],
   "source": [
    "#练习 4：英文单词单数转复数，要求输入一个英文动词（单数形式），能够得到其复数形式，或给出单数转复数形式的建议\n",
    "#      （提示，some_string.endswith(some_letter)函数可以判断某字符串结尾字符\n",
    "def my_complex(word):\n",
    "    \n",
    "    if 'word'.endswith('y'):\n",
    "        print('将y变i再加es')\n",
    "    elif 'word'.endswith('s'):\n",
    "        print(word+'es')\n",
    "    else:\n",
    "        print(word+'s')"
   ]
  },
  {
   "cell_type": "code",
   "execution_count": 27,
   "metadata": {},
   "outputs": [
    {
     "name": "stdout",
     "output_type": "stream",
     "text": [
      "请输入你的出生月份2\n",
      "请输入你的出生日期19\n",
      "请输入你的名字，以回车结束。sally\n",
      "你好 sally\n",
      "sally 你是温柔似水的双鱼座。\n",
      "None\n"
     ]
    }
   ],
   "source": [
    "m=int(input('请输入你的出生月份'))\n",
    "n=int(input('请输入你的出生日期'))\n",
    "\n",
    "print(my_birthday(m,n))"
   ]
  },
  {
   "cell_type": "code",
   "execution_count": 31,
   "metadata": {},
   "outputs": [
    {
     "name": "stdout",
     "output_type": "stream",
     "text": [
      "请输入一个英文动词的单数形式play\n",
      "plays\n",
      "None\n"
     ]
    }
   ],
   "source": [
    "word=str(input('请输入一个英文动词的单数形式'))\n",
    "\n",
    "print(my_complex(word))"
   ]
  },
  {
   "cell_type": "code",
   "execution_count": 5,
   "metadata": {},
   "outputs": [
    {
     "name": "stdout",
     "output_type": "stream",
     "text": [
      "m=2\n",
      "n>m,n= 20\n",
      "n>k,且n-m%k=0,k= 2\n",
      "110\n"
     ]
    }
   ],
   "source": [
    "#挑战性练习：写程序，可以求从整数m到整数n累加的和，间隔为k，求和部分需用函数实现，主程序中由用户输入m，n，k调用函数验证正确性。\n",
    "def my_sum(m,n,k):\n",
    "    total=m\n",
    "    while m<n:\n",
    "        m=m+k\n",
    "        total+=m\n",
    "    return total\n",
    "m=int(input('m='))\n",
    "n=int(input('n>m,n= '))\n",
    "k=int(input('n>k,且n-m%k=0,k= '))\n",
    "print(my_sum(m,n,k))\n",
    "    "
   ]
  },
  {
   "cell_type": "code",
   "execution_count": null,
   "metadata": {},
   "outputs": [],
   "source": []
  },
  {
   "cell_type": "code",
   "execution_count": null,
   "metadata": {},
   "outputs": [],
   "source": []
  },
  {
   "cell_type": "code",
   "execution_count": null,
   "metadata": {},
   "outputs": [],
   "source": []
  },
  {
   "cell_type": "code",
   "execution_count": null,
   "metadata": {},
   "outputs": [],
   "source": []
  },
  {
   "cell_type": "code",
   "execution_count": null,
   "metadata": {},
   "outputs": [],
   "source": []
  },
  {
   "cell_type": "code",
   "execution_count": null,
   "metadata": {},
   "outputs": [],
   "source": []
  },
  {
   "cell_type": "code",
   "execution_count": null,
   "metadata": {},
   "outputs": [],
   "source": []
  },
  {
   "cell_type": "code",
   "execution_count": null,
   "metadata": {},
   "outputs": [],
   "source": []
  },
  {
   "cell_type": "code",
   "execution_count": null,
   "metadata": {},
   "outputs": [],
   "source": []
  },
  {
   "cell_type": "code",
   "execution_count": null,
   "metadata": {},
   "outputs": [],
   "source": []
  },
  {
   "cell_type": "code",
   "execution_count": null,
   "metadata": {},
   "outputs": [],
   "source": []
  },
  {
   "cell_type": "code",
   "execution_count": null,
   "metadata": {},
   "outputs": [],
   "source": []
  },
  {
   "cell_type": "code",
   "execution_count": null,
   "metadata": {},
   "outputs": [],
   "source": []
  },
  {
   "cell_type": "code",
   "execution_count": null,
   "metadata": {},
   "outputs": [],
   "source": []
  },
  {
   "cell_type": "code",
   "execution_count": null,
   "metadata": {},
   "outputs": [],
   "source": []
  },
  {
   "cell_type": "code",
   "execution_count": null,
   "metadata": {},
   "outputs": [],
   "source": []
  },
  {
   "cell_type": "code",
   "execution_count": null,
   "metadata": {},
   "outputs": [],
   "source": []
  },
  {
   "cell_type": "code",
   "execution_count": null,
   "metadata": {},
   "outputs": [],
   "source": []
  },
  {
   "cell_type": "code",
   "execution_count": null,
   "metadata": {},
   "outputs": [],
   "source": []
  },
  {
   "cell_type": "code",
   "execution_count": null,
   "metadata": {},
   "outputs": [],
   "source": []
  },
  {
   "cell_type": "code",
   "execution_count": null,
   "metadata": {},
   "outputs": [],
   "source": []
  },
  {
   "cell_type": "code",
   "execution_count": null,
   "metadata": {},
   "outputs": [],
   "source": []
  },
  {
   "cell_type": "code",
   "execution_count": null,
   "metadata": {},
   "outputs": [],
   "source": []
  },
  {
   "cell_type": "code",
   "execution_count": null,
   "metadata": {},
   "outputs": [],
   "source": []
  },
  {
   "cell_type": "code",
   "execution_count": null,
   "metadata": {},
   "outputs": [],
   "source": []
  },
  {
   "cell_type": "code",
   "execution_count": null,
   "metadata": {},
   "outputs": [],
   "source": []
  },
  {
   "cell_type": "code",
   "execution_count": null,
   "metadata": {},
   "outputs": [],
   "source": []
  },
  {
   "cell_type": "code",
   "execution_count": null,
   "metadata": {},
   "outputs": [],
   "source": []
  },
  {
   "cell_type": "code",
   "execution_count": null,
   "metadata": {},
   "outputs": [],
   "source": []
  },
  {
   "cell_type": "code",
   "execution_count": null,
   "metadata": {},
   "outputs": [],
   "source": []
  },
  {
   "cell_type": "code",
   "execution_count": null,
   "metadata": {},
   "outputs": [],
   "source": []
  },
  {
   "cell_type": "code",
   "execution_count": null,
   "metadata": {},
   "outputs": [],
   "source": []
  },
  {
   "cell_type": "code",
   "execution_count": null,
   "metadata": {},
   "outputs": [],
   "source": []
  },
  {
   "cell_type": "code",
   "execution_count": null,
   "metadata": {},
   "outputs": [],
   "source": []
  },
  {
   "cell_type": "code",
   "execution_count": null,
   "metadata": {},
   "outputs": [],
   "source": []
  },
  {
   "cell_type": "code",
   "execution_count": null,
   "metadata": {},
   "outputs": [],
   "source": []
  },
  {
   "cell_type": "code",
   "execution_count": null,
   "metadata": {},
   "outputs": [],
   "source": []
  },
  {
   "cell_type": "code",
   "execution_count": 1,
   "metadata": {},
   "outputs": [
    {
     "name": "stdout",
     "output_type": "stream",
     "text": [
      "1+2+...+ 1000 = 500500\n"
     ]
    }
   ],
   "source": [
    "def my_abs(number):\n",
    "    if number < 0:\n",
    "        number = -number\n",
    "\n",
    "    return number\n",
    "\n",
    "def compute_sum(end):\n",
    "    i = 0\n",
    "    total_n = 0\n",
    "    number = my_abs(end)\n",
    "\n",
    "    while i < number:\n",
    "        i = i + 1\n",
    "        total_n = total_n + i\n",
    "\n",
    "    return total_n\n",
    "\n",
    "\n",
    "# 主程序\n",
    "i=1000\n",
    "print('1+2+...+', i, '=',compute_sum(i))"
   ]
  },
  {
   "cell_type": "code",
   "execution_count": null,
   "metadata": {},
   "outputs": [],
   "source": []
  },
  {
   "cell_type": "code",
   "execution_count": null,
   "metadata": {},
   "outputs": [],
   "source": []
  },
  {
   "cell_type": "code",
   "execution_count": null,
   "metadata": {},
   "outputs": [],
   "source": []
  },
  {
   "cell_type": "code",
   "execution_count": null,
   "metadata": {},
   "outputs": [],
   "source": []
  },
  {
   "cell_type": "code",
   "execution_count": null,
   "metadata": {},
   "outputs": [],
   "source": []
  },
  {
   "cell_type": "code",
   "execution_count": null,
   "metadata": {},
   "outputs": [],
   "source": []
  },
  {
   "cell_type": "code",
   "execution_count": null,
   "metadata": {},
   "outputs": [],
   "source": []
  },
  {
   "cell_type": "code",
   "execution_count": null,
   "metadata": {},
   "outputs": [],
   "source": []
  },
  {
   "cell_type": "code",
   "execution_count": null,
   "metadata": {},
   "outputs": [],
   "source": []
  },
  {
   "cell_type": "code",
   "execution_count": null,
   "metadata": {},
   "outputs": [],
   "source": []
  },
  {
   "cell_type": "code",
   "execution_count": null,
   "metadata": {},
   "outputs": [],
   "source": []
  },
  {
   "cell_type": "code",
   "execution_count": null,
   "metadata": {},
   "outputs": [],
   "source": []
  },
  {
   "cell_type": "code",
   "execution_count": null,
   "metadata": {},
   "outputs": [],
   "source": []
  },
  {
   "cell_type": "code",
   "execution_count": null,
   "metadata": {},
   "outputs": [],
   "source": []
  },
  {
   "cell_type": "code",
   "execution_count": null,
   "metadata": {},
   "outputs": [],
   "source": []
  },
  {
   "cell_type": "code",
   "execution_count": null,
   "metadata": {},
   "outputs": [],
   "source": []
  },
  {
   "cell_type": "code",
   "execution_count": null,
   "metadata": {},
   "outputs": [],
   "source": []
  },
  {
   "cell_type": "code",
   "execution_count": null,
   "metadata": {},
   "outputs": [],
   "source": []
  },
  {
   "cell_type": "code",
   "execution_count": null,
   "metadata": {},
   "outputs": [],
   "source": []
  },
  {
   "cell_type": "code",
   "execution_count": null,
   "metadata": {},
   "outputs": [],
   "source": []
  },
  {
   "cell_type": "code",
   "execution_count": null,
   "metadata": {},
   "outputs": [],
   "source": []
  },
  {
   "cell_type": "code",
   "execution_count": null,
   "metadata": {},
   "outputs": [],
   "source": []
  },
  {
   "cell_type": "code",
   "execution_count": null,
   "metadata": {},
   "outputs": [],
   "source": []
  },
  {
   "cell_type": "code",
   "execution_count": null,
   "metadata": {},
   "outputs": [],
   "source": []
  },
  {
   "cell_type": "code",
   "execution_count": null,
   "metadata": {},
   "outputs": [],
   "source": []
  }
 ],
 "metadata": {
  "kernelspec": {
   "display_name": "Python 3",
   "language": "python",
   "name": "python3"
  },
  "language_info": {
   "codemirror_mode": {
    "name": "ipython",
    "version": 3
   },
   "file_extension": ".py",
   "mimetype": "text/x-python",
   "name": "python",
   "nbconvert_exporter": "python",
   "pygments_lexer": "ipython3",
   "version": "3.6.3"
  }
 },
 "nbformat": 4,
 "nbformat_minor": 2
}
