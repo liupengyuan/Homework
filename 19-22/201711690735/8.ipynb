{
 "cells": [
  {
   "cell_type": "code",
   "execution_count": 1,
   "metadata": {},
   "outputs": [
    {
     "name": "stdout",
     "output_type": "stream",
     "text": [
      "飘蓬断梗\n",
      "梗\n",
      "成语接龙，请根据上个成语输入一个成语。不知道\n",
      "你的回答错误，本局结束，下一局\n",
      "你的得分是： 0 ,机器人的得分是： 10\n",
      "引经据典\n",
      "成语接龙，请根据上个成语输入一个成语。不知道。。\n",
      "你的回答错误，本局结束，下一局\n",
      "你的得分是： 0 ,机器人的得分是： 20\n",
      "铁树花开\n",
      "成语接龙，请根据上个成语输入一个成语。开诚布公\n",
      "回答正确，你的得分是： 10\n",
      "机器人的得分是： 20\n",
      "公事公办\n",
      "办\n",
      "机器人的得分是： 30 你的得分是： 10\n",
      "成语接龙，请根据上个成语输入一个成语。不会\n",
      "你的回答错误，本局结束，下一局\n",
      "你的得分是： 10 ,机器人的得分是： 40\n",
      "独辟蹊径\n",
      "成语接龙，请根据上个成语输入一个成语。径情直遂\n",
      "回答正确，你的得分是： 20\n",
      "机器人的得分是： 40\n",
      "遂心如意\n",
      "意\n",
      "机器人的得分是： 50 你的得分是： 20\n",
      "成语接龙，请根据上个成语输入一个成语。意气风发\n",
      "回答正确，你的得分是： 30\n",
      "机器人的得分是： 50\n",
      "发言盈庭\n",
      "庭\n",
      "机器人的得分是： 60 你的得分是： 30\n",
      "成语接龙，请根据上个成语输入一个成语。不会\n",
      "你的回答错误，本局结束，下一局\n",
      "你的得分是： 30 ,机器人的得分是： 70\n",
      "排山倒海\n",
      "成语接龙，请根据上个成语输入一个成语。海纳百川\n",
      "回答正确，你的得分是： 40\n",
      "机器人的得分是： 70\n",
      "川流不息\n",
      "息\n",
      "机器人的得分是： 80 你的得分是： 40\n",
      "成语接龙，请根据上个成语输入一个成语。息息相关\n",
      "回答正确，你的得分是： 50\n",
      "机器人的得分是： 80\n",
      "关门落闩\n",
      "闩\n",
      "机器人的得分是： 90 你的得分是： 50\n",
      "成语接龙，请根据上个成语输入一个成语。不知道\n",
      "你的回答错误，本局结束，下一局\n",
      "你的得分是： 50 ,机器人的得分是： 100\n",
      "假仁假义\n",
      "\n",
      "           ======YOU LOSE=======\n",
      "        \n",
      "    \n",
      "                \n",
      "\n",
      "                   .-\"      \"-.\n",
      "                  /                             |              |\n",
      "                 |,  .-.  .-.  ,|\n",
      "                 | )(__/  \\__)( |\n",
      "                 |/     /\\     \\|\n",
      "       (@_       (_     ^^     _)\n",
      "  _     ) \\_______\\__|IIIIII|__/__________________________\n",
      " (_)@8@8{}<________|-\\IIIIII/-|___________________________>\n",
      "        )_/        \\          /\n",
      "       (@           `--------`\n",
      "       \n",
      "       \n",
      "       \n",
      "          ======YOU LOSE=======\n",
      "        \n"
     ]
    }
   ],
   "source": [
    "def welcome():\n",
    "    print(\n",
    "        '''\n",
    "           ======欢迎来到猜数游戏=======\n",
    "        \n",
    "                     /  \\     ,    ,\n",
    "           _._     _ |oo| _  / \\__/ \\\n",
    "    \n",
    "          _||||   ((/ () \\))   /   \\\n",
    "    \n",
    "          |||||/|  ( ==== )    |oo|    \n",
    "           \\____/  _`\\  /'_    /   \\\n",
    "    \n",
    "           /   /.-' /\\<>/\\ `\\.( () )_._      \n",
    "           |    `  /  \\/  \\  /`'--'////)\n",
    "            \\__,-'`|  |.  |\\/ |/\\/\\|\"\\\"` \n",
    "                   |  |.  | \\___/\\___/  \n",
    "                   |  |.  |   |    |\n",
    "          \n",
    "          ======欢迎来到猜数游戏=======\n",
    "        '''\n",
    "    )\n",
    "    \n",
    "def win():\n",
    "    print(\n",
    "        '''\n",
    "           ======恭喜你，你赢了=======\n",
    "        \n",
    "    \n",
    "                .\"\".    .\"\",\n",
    "                |  |   /  /\n",
    "                |  |  /  /\n",
    "                |  | /  /\n",
    "                |  |/  ;-._ \n",
    "                }  ` _/  / ;\n",
    "                |  /` ) /  /\n",
    "                | /  /_/\\_/\\\n",
    "                |/  /      |\n",
    "                (  ' \\ '-  |\n",
    "                 \\    `.  /\n",
    "                  |      |\n",
    "                  |      |\n",
    "          \n",
    "          ======恭喜你，你赢了=======\n",
    "        '''\n",
    "    )\n",
    "    \n",
    "def lose():\n",
    "    print(\n",
    "        '''\n",
    "           ======YOU LOSE=======\n",
    "        \n",
    "    \n",
    "                \n",
    "\n",
    "                   .-\"      \"-.\n",
    "                  /            \\\n",
    "                 |              |\n",
    "                 |,  .-.  .-.  ,|\n",
    "                 | )(__/  \\__)( |\n",
    "                 |/     /\\     \\|\n",
    "       (@_       (_     ^^     _)\n",
    "  _     ) \\_______\\__|IIIIII|__/__________________________\n",
    " (_)@8@8{}<________|-\\IIIIII/-|___________________________>\n",
    "        )_/        \\          /\n",
    "       (@           `--------`\n",
    "       \n",
    "       \n",
    "       \n",
    "          ======YOU LOSE=======\n",
    "        '''\n",
    "    )\n",
    "    \n",
    "def game_over():\n",
    "    print(\n",
    "        '''\n",
    "           ======GAME OVER=======\n",
    "        \n",
    "             _________ \n",
    "            / ======= \\ \n",
    "           / __________\\ \n",
    "          | ___________ | \n",
    "          | | -       | | \n",
    "          | |         | | \n",
    "          | |_________| |________________ \n",
    "          \\=____________/                ) \n",
    "          / \"\"\"\"\"\"\"\"\"\"\" \\               / \n",
    "         / ::::::::::::: \\          =D-' \n",
    "        (_________________) \n",
    "\n",
    "       \n",
    "          ======GAME OVER=======\n",
    "        '''\n",
    "    )\n",
    "import random\n",
    "\n",
    "def guess_game():\n",
    "\n",
    "    fh=open(r'c:\\temp\\成语大全.txt')\n",
    "    text = fh.read()\n",
    "    fh.close()\n",
    "    idioms = text.split()\n",
    "    \n",
    "    \n",
    "    sco_computer = 0\n",
    "    sco_human = 0\n",
    "    \n",
    "    A = random.choice(idioms)\n",
    "    print(A)\n",
    "    print(A[-1])\n",
    "    \n",
    "    \n",
    "    for i in range(10):\n",
    "        \n",
    "        B = str(input('成语接龙，请根据上个成语输入一个成语。'))\n",
    "        if A[-1]==B[0]:\n",
    "            if B in idioms:\n",
    "                sco_human += 10\n",
    "                print('回答正确，你的得分是：' ,sco_human )\n",
    "                print('机器人的得分是：' ,sco_computer )\n",
    "                A=random.choice(idioms)\n",
    "                \n",
    "                while A[0]!=B[-1]:\n",
    "                    A=random.choice(idioms)\n",
    "                    \n",
    "                if A[0]==B[-1]:\n",
    "                    print(A)\n",
    "                    print(A[-1])\n",
    "                    sco_computer+=10\n",
    "                    print('机器人的得分是：',sco_computer, '你的得分是：',sco_human)\n",
    "                else:\n",
    "                    print('机器人接不上来，本局结束，下一局')\n",
    "                    sco_computer+=0\n",
    "                    sco_human+=10\n",
    "                    print('机器人的得分是：',sco_computer)\n",
    "                    print('你的得分是：',sco_human)\n",
    "                    A = random.choice(idioms)\n",
    "                    print(A)\n",
    "            else:\n",
    "                sco_human += 0\n",
    "                sco_computer+=10\n",
    "                print('你的回答错误，本局结束，下一局')\n",
    "                print('你的得分是：', sco_human ,',机器人的得分是：', sco_computer )\n",
    "                A = random.choice(idioms)\n",
    "                print(A,A[-1])\n",
    "        else:\n",
    "            sco_human+=0\n",
    "            sco_computer+=10\n",
    "            print('你的回答错误，本局结束，下一局')\n",
    "            print('你的得分是：', sco_human ,',机器人的得分是：', sco_computer )\n",
    "            A=random.choice(idioms)\n",
    "            print(A)\n",
    "    if sco_human>sco_computer:\n",
    "        win()\n",
    "    elif sco_human<sco_computer:\n",
    "        lose()\n",
    "    else:\n",
    "        game_over()\n",
    "            \n",
    "            \n",
    "guess_game()      \n",
    "        \n",
    "    \n",
    "    \n",
    "    \n"
   ]
  },
  {
   "cell_type": "code",
   "execution_count": null,
   "metadata": {},
   "outputs": [],
   "source": []
  },
  {
   "cell_type": "code",
   "execution_count": null,
   "metadata": {},
   "outputs": [],
   "source": []
  },
  {
   "cell_type": "code",
   "execution_count": null,
   "metadata": {},
   "outputs": [],
   "source": []
  },
  {
   "cell_type": "code",
   "execution_count": null,
   "metadata": {},
   "outputs": [],
   "source": []
  },
  {
   "cell_type": "code",
   "execution_count": null,
   "metadata": {},
   "outputs": [],
   "source": []
  },
  {
   "cell_type": "code",
   "execution_count": null,
   "metadata": {},
   "outputs": [],
   "source": []
  },
  {
   "cell_type": "code",
   "execution_count": null,
   "metadata": {},
   "outputs": [],
   "source": []
  },
  {
   "cell_type": "code",
   "execution_count": null,
   "metadata": {},
   "outputs": [],
   "source": []
  },
  {
   "cell_type": "code",
   "execution_count": null,
   "metadata": {},
   "outputs": [],
   "source": []
  },
  {
   "cell_type": "code",
   "execution_count": null,
   "metadata": {},
   "outputs": [],
   "source": []
  },
  {
   "cell_type": "code",
   "execution_count": null,
   "metadata": {},
   "outputs": [],
   "source": []
  },
  {
   "cell_type": "code",
   "execution_count": null,
   "metadata": {},
   "outputs": [],
   "source": []
  },
  {
   "cell_type": "code",
   "execution_count": null,
   "metadata": {},
   "outputs": [],
   "source": []
  },
  {
   "cell_type": "code",
   "execution_count": null,
   "metadata": {},
   "outputs": [],
   "source": []
  },
  {
   "cell_type": "code",
   "execution_count": null,
   "metadata": {},
   "outputs": [],
   "source": []
  },
  {
   "cell_type": "code",
   "execution_count": null,
   "metadata": {},
   "outputs": [],
   "source": []
  },
  {
   "cell_type": "code",
   "execution_count": null,
   "metadata": {},
   "outputs": [],
   "source": []
  },
  {
   "cell_type": "code",
   "execution_count": null,
   "metadata": {},
   "outputs": [],
   "source": []
  },
  {
   "cell_type": "code",
   "execution_count": null,
   "metadata": {},
   "outputs": [],
   "source": []
  },
  {
   "cell_type": "code",
   "execution_count": null,
   "metadata": {},
   "outputs": [],
   "source": []
  },
  {
   "cell_type": "code",
   "execution_count": null,
   "metadata": {},
   "outputs": [],
   "source": []
  },
  {
   "cell_type": "code",
   "execution_count": null,
   "metadata": {},
   "outputs": [],
   "source": []
  },
  {
   "cell_type": "code",
   "execution_count": null,
   "metadata": {},
   "outputs": [],
   "source": []
  },
  {
   "cell_type": "code",
   "execution_count": null,
   "metadata": {},
   "outputs": [],
   "source": []
  },
  {
   "cell_type": "code",
   "execution_count": null,
   "metadata": {},
   "outputs": [],
   "source": []
  },
  {
   "cell_type": "code",
   "execution_count": null,
   "metadata": {},
   "outputs": [],
   "source": []
  },
  {
   "cell_type": "code",
   "execution_count": null,
   "metadata": {},
   "outputs": [],
   "source": []
  },
  {
   "cell_type": "code",
   "execution_count": null,
   "metadata": {},
   "outputs": [],
   "source": []
  },
  {
   "cell_type": "code",
   "execution_count": null,
   "metadata": {},
   "outputs": [],
   "source": []
  },
  {
   "cell_type": "code",
   "execution_count": null,
   "metadata": {},
   "outputs": [],
   "source": []
  },
  {
   "cell_type": "code",
   "execution_count": null,
   "metadata": {},
   "outputs": [],
   "source": []
  },
  {
   "cell_type": "code",
   "execution_count": null,
   "metadata": {},
   "outputs": [],
   "source": []
  },
  {
   "cell_type": "code",
   "execution_count": null,
   "metadata": {},
   "outputs": [],
   "source": []
  },
  {
   "cell_type": "code",
   "execution_count": null,
   "metadata": {},
   "outputs": [],
   "source": []
  },
  {
   "cell_type": "code",
   "execution_count": null,
   "metadata": {},
   "outputs": [],
   "source": []
  },
  {
   "cell_type": "code",
   "execution_count": null,
   "metadata": {},
   "outputs": [],
   "source": []
  },
  {
   "cell_type": "code",
   "execution_count": 3,
   "metadata": {},
   "outputs": [
    {
     "name": "stdout",
     "output_type": "stream",
     "text": [
      "谦虚谨慎\n",
      "慷慨激昂\n",
      "深恶痛疾\n",
      "冠冕堂皇\n",
      "斩钉截铁\n",
      "家累千金\n",
      "盖棺论定\n",
      "浮光掠影\n",
      "耳提面训\n",
      "仙山琼阁\n",
      "不时之需\n",
      "鱼游釜底\n",
      "以古为镜\n",
      "惊弓之鸟\n",
      "大有可观\n"
     ]
    }
   ],
   "source": [
    "import random\n",
    "fh=open(r'c:\\temp\\成语大全.txt')\n",
    "text = fh.read()\n",
    "fh.close()\n",
    "idioms = text.split()\n",
    "for i in range(15):\n",
    "    idiom = random.choice(idioms)\n",
    "    print(idiom)"
   ]
  },
  {
   "cell_type": "code",
   "execution_count": null,
   "metadata": {},
   "outputs": [],
   "source": []
  },
  {
   "cell_type": "code",
   "execution_count": null,
   "metadata": {},
   "outputs": [],
   "source": []
  },
  {
   "cell_type": "code",
   "execution_count": null,
   "metadata": {},
   "outputs": [],
   "source": []
  },
  {
   "cell_type": "code",
   "execution_count": null,
   "metadata": {},
   "outputs": [],
   "source": []
  },
  {
   "cell_type": "code",
   "execution_count": null,
   "metadata": {},
   "outputs": [],
   "source": []
  },
  {
   "cell_type": "code",
   "execution_count": null,
   "metadata": {},
   "outputs": [],
   "source": []
  },
  {
   "cell_type": "code",
   "execution_count": null,
   "metadata": {},
   "outputs": [],
   "source": []
  },
  {
   "cell_type": "code",
   "execution_count": null,
   "metadata": {},
   "outputs": [],
   "source": []
  },
  {
   "cell_type": "code",
   "execution_count": null,
   "metadata": {},
   "outputs": [],
   "source": []
  },
  {
   "cell_type": "code",
   "execution_count": null,
   "metadata": {},
   "outputs": [],
   "source": []
  },
  {
   "cell_type": "code",
   "execution_count": null,
   "metadata": {},
   "outputs": [],
   "source": []
  },
  {
   "cell_type": "code",
   "execution_count": null,
   "metadata": {},
   "outputs": [],
   "source": []
  },
  {
   "cell_type": "code",
   "execution_count": null,
   "metadata": {},
   "outputs": [],
   "source": []
  },
  {
   "cell_type": "code",
   "execution_count": null,
   "metadata": {},
   "outputs": [],
   "source": []
  },
  {
   "cell_type": "code",
   "execution_count": null,
   "metadata": {},
   "outputs": [],
   "source": []
  },
  {
   "cell_type": "code",
   "execution_count": null,
   "metadata": {},
   "outputs": [],
   "source": []
  },
  {
   "cell_type": "code",
   "execution_count": null,
   "metadata": {},
   "outputs": [],
   "source": []
  },
  {
   "cell_type": "code",
   "execution_count": null,
   "metadata": {},
   "outputs": [],
   "source": []
  },
  {
   "cell_type": "code",
   "execution_count": null,
   "metadata": {},
   "outputs": [],
   "source": []
  },
  {
   "cell_type": "code",
   "execution_count": null,
   "metadata": {},
   "outputs": [],
   "source": []
  }
 ],
 "metadata": {
  "kernelspec": {
   "display_name": "Python 3",
   "language": "python",
   "name": "python3"
  },
  "language_info": {
   "codemirror_mode": {
    "name": "ipython",
    "version": 3
   },
   "file_extension": ".py",
   "mimetype": "text/x-python",
   "name": "python",
   "nbconvert_exporter": "python",
   "pygments_lexer": "ipython3",
   "version": "3.6.3"
  }
 },
 "nbformat": 4,
 "nbformat_minor": 2
}
