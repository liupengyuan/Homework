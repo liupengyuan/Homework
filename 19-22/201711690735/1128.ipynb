{
 "cells": [
  {
   "cell_type": "code",
   "execution_count": 8,
   "metadata": {},
   "outputs": [
    {
     "name": "stdout",
     "output_type": "stream",
     "text": [
      "a\n",
      "ab\n",
      "abc\n",
      "abcd\n",
      "abcde\n",
      "abcdef\n",
      "abcdefg\n",
      "abcdefgh\n",
      "abcdefghi\n",
      "abcdefghig\n",
      "abcdefghigk\n",
      "abcdefghigkl\n",
      "abcdefghigklm\n",
      "abcdefghigklmn\n",
      "abcdefghigklmno\n",
      "abcdefghigklmnop\n",
      "abcdefghigklmnopq\n",
      "abcdefghigklmnopqr\n",
      "abcdefghigklmnopqra\n",
      "abcdefghigklmnopqrat\n",
      "abcdefghigklmnopqratu\n",
      "abcdefghigklmnopqratuv\n",
      "abcdefghigklmnopqratuvw\n",
      "abcdefghigklmnopqratuvwx\n",
      "abcdefghigklmnopqratuvwxy\n",
      "abcdefghigklmnopqratuvwxyz\n"
     ]
    }
   ],
   "source": [
    "line = 'abcdefghigklmnopqratuvwxyz'\n",
    "for i in range(1,len(line)+1):\n",
    "    print(line[:i],end='')\n",
    "    print()"
   ]
  },
  {
   "cell_type": "code",
   "execution_count": null,
   "metadata": {},
   "outputs": [],
   "source": []
  },
  {
   "cell_type": "code",
   "execution_count": null,
   "metadata": {},
   "outputs": [],
   "source": []
  },
  {
   "cell_type": "code",
   "execution_count": null,
   "metadata": {},
   "outputs": [],
   "source": []
  },
  {
   "cell_type": "code",
   "execution_count": null,
   "metadata": {},
   "outputs": [],
   "source": []
  },
  {
   "cell_type": "code",
   "execution_count": null,
   "metadata": {},
   "outputs": [],
   "source": []
  },
  {
   "cell_type": "code",
   "execution_count": null,
   "metadata": {},
   "outputs": [],
   "source": []
  },
  {
   "cell_type": "code",
   "execution_count": null,
   "metadata": {},
   "outputs": [],
   "source": []
  },
  {
   "cell_type": "code",
   "execution_count": null,
   "metadata": {},
   "outputs": [],
   "source": []
  }
 ],
 "metadata": {
  "kernelspec": {
   "display_name": "Python 3",
   "language": "python",
   "name": "python3"
  },
  "language_info": {
   "codemirror_mode": {
    "name": "ipython",
    "version": 3
   },
   "file_extension": ".py",
   "mimetype": "text/x-python",
   "name": "python",
   "nbconvert_exporter": "python",
   "pygments_lexer": "ipython3",
   "version": "3.6.3"
  }
 },
 "nbformat": 4,
 "nbformat_minor": 2
}
