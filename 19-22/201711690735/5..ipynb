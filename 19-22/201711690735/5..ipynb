{
 "cells": [
  {
   "cell_type": "code",
   "execution_count": 1,
   "metadata": {},
   "outputs": [
    {
     "name": "stdout",
     "output_type": "stream",
     "text": [
      "请输入一个整数，作为随机数的个数。3\n",
      "请输入一个整数，作为随机数值的下线。1\n",
      "请输入一个整数，作为随机数值的上线。10\n",
      "3.0\n"
     ]
    }
   ],
   "source": [
    "#练习 1：写函数，求n个随机整数均值的平方根，整数范围在m与k之间（n,m,k由用户输入）。\n",
    "import random,math\n",
    "\n",
    "n=int(input('请输入一个整数，作为随机数的个数。'))\n",
    "m=int(input('请输入一个整数，作为随机数值的下线。'))\n",
    "k=int(input('请输入一个整数，作为随机数值的上线。'))\n",
    "\n",
    "number=random.randint(m,k)\n",
    "total=0\n",
    "times=0\n",
    "\n",
    "while times<n:\n",
    "    times+=1\n",
    "    total+=math.sqrt(number)\n",
    "    \n",
    "print(total)\n",
    "    "
   ]
  },
  {
   "cell_type": "code",
   "execution_count": 1,
   "metadata": {},
   "outputs": [
    {
     "name": "stdout",
     "output_type": "stream",
     "text": [
      "请输入一个正整数，作为随机数的个数3\n",
      "请输入一个正整数，作为随机数的下线1\n",
      "请输入一个正整数，作为随机数的上线10\n",
      "3.58351893845611\n",
      "1.5352707961636547\n"
     ]
    }
   ],
   "source": [
    "#练习 2：写函数，共n个随机整数，整数范围在m与k之间，（n,m,k由用户输入）。求1：西格玛log(随机整数)，2：西格玛1/log(随机整数)\n",
    "import random,math\n",
    "\n",
    "n=int(input('请输入一个正整数，作为随机数的个数'))\n",
    "m=int(input('请输入一个正整数，作为随机数的下线'))\n",
    "k=int(input('请输入一个正整数，作为随机数的上线'))\n",
    "\n",
    "times=0\n",
    "sum=0\n",
    "total=0\n",
    "\n",
    "while times<n:\n",
    "    times+=1\n",
    "    number=random.randint(m,k)\n",
    "    sum+=math.log(number)\n",
    "    total += 1/sum\n",
    "    \n",
    "print(sum)\n",
    "print(total)"
   ]
  },
  {
   "cell_type": "code",
   "execution_count": 6,
   "metadata": {},
   "outputs": [
    {
     "name": "stdout",
     "output_type": "stream",
     "text": [
      "输入一个整数，作为相加的个数2\n",
      "246\n"
     ]
    }
   ],
   "source": [
    "#练习 3：写函数，求s=a+aa+aaa+aaaa+aa...a的值，其中a是[1,9]之间的随机整数。例如2+22+222+2222+22222(此时共有5个数相加)，几个数相加由键盘输入。\n",
    "import random\n",
    "\n",
    "a=random.randint(1,9)\n",
    "k=a\n",
    "n=int(input('输入一个整数，作为相加的个数'))\n",
    "m=0\n",
    "s=a\n",
    "while m<n:\n",
    "    m+=1\n",
    "    a+=k*10**m\n",
    "    s=s+a\n",
    "print(s)\n"
   ]
  },
  {
   "cell_type": "code",
   "execution_count": null,
   "metadata": {},
   "outputs": [
    {
     "name": "stdout",
     "output_type": "stream",
     "text": [
      "=====游戏菜单=====\n",
      "                1.游戏说明\n",
      "                2.开始游戏\n",
      "                3.退出游戏\n",
      "                4.制作团队\n",
      "             =====游戏菜单=====\n",
      "请输入你的选择2\n",
      "请输入一个大于0的整数，作为神秘整数的上界。100\n",
      "请输入一个大于0的整数，作为神秘整数。20\n",
      "一共可以猜 7 次\n",
      "你已经猜了 1 次\n",
      "84 抱歉，你猜大了。\n",
      "一共可以猜 7 次\n",
      "你已经猜了 2 次\n",
      "57 抱歉，你猜大了。\n",
      "一共可以猜 7 次\n",
      "你已经猜了 3 次\n",
      "45 抱歉，你猜大了。\n",
      "一共可以猜 7 次\n",
      "你已经猜了 4 次\n",
      "18 抱歉，你猜小了。\n",
      "一共可以猜 7 次\n",
      "你已经猜了 5 次\n",
      "37 抱歉，你猜大了。\n",
      "一共可以猜 7 次\n",
      "你已经猜了 6 次\n",
      "yeah!you are so smart!\n",
      "神秘数字是： 20\n",
      "你比标准次数少 1\n",
      "=====游戏菜单=====\n",
      "                1.游戏说明\n",
      "                2.开始游戏\n",
      "                3.退出游戏\n",
      "                4.制作团队\n",
      "             =====游戏菜单=====\n"
     ]
    }
   ],
   "source": [
    "#挑战性练习：仿照task5，将猜数游戏改成由用户随便选择一个整数，让计算机来猜测的猜数游戏，\n",
    "#要求和task5中人猜测的方法类似，但是人机角色对换，由人来判断猜测是大、小还是相等，请写出完整的猜数游戏。\n",
    "import random,math\n",
    "\n",
    "def win():\n",
    "    print('yeah!you are so smart!')\n",
    "\n",
    "def lose():\n",
    "    print('donnot worry,try it again!')\n",
    "          \n",
    "def game_over():\n",
    "    print('game_over,thank you')\n",
    "          \n",
    "def show_team():\n",
    "          print('Elk')\n",
    "\n",
    "def show_instruction():\n",
    "          print('Elk')\n",
    "          \n",
    "def menu():\n",
    "    print('''=====游戏菜单=====\n",
    "                1.游戏说明\n",
    "                2.开始游戏\n",
    "                3.退出游戏\n",
    "                4.制作团队\n",
    "             =====游戏菜单=====''')\n",
    "          \n",
    "def guess_game():\n",
    "    n=int(input('请输入一个大于0的整数，作为神秘整数的上界。'))\n",
    "    number=int(input('请输入一个大于0的整数，作为神秘整数。'))\n",
    "    max_times = math.ceil(math.log(n,2))\n",
    "    guess_times = 0\n",
    "    guess=random.randint(1,n)\n",
    "          \n",
    "    while guess_times < max_times:\n",
    "        guess_times+=1\n",
    "        print('一共可以猜',max_times,'次')\n",
    "        print('你已经猜了',guess_times,'次')\n",
    "              \n",
    "        if guess==number:\n",
    "            win()\n",
    "            print('神秘数字是：',guess)\n",
    "            print('你比标准次数少',max_times-guess_times)\n",
    "            break\n",
    "        elif guess > number:\n",
    "            print(guess,'抱歉，你猜大了。')\n",
    "            guess = random.randint(1,guess)\n",
    "        else:\n",
    "            print(guess,'抱歉，你猜小了。')\n",
    "            guess = random.randint(guess,n)\n",
    "          \n",
    "    else:\n",
    "          print('神秘数字是:',number)\n",
    "          lose()\n",
    "          \n",
    "          \n",
    "def main():\n",
    "    while True:\n",
    "        menu()\n",
    "        choice = int(input('请输入你的选择'))\n",
    "        if choice == 1:\n",
    "            show_instruction()\n",
    "        elif choice == 2:\n",
    "            guess_game()\n",
    "        elif choice == 3:\n",
    "            game_over()\n",
    "            break\n",
    "        else:\n",
    "            show_team()\n",
    "\n",
    "\n",
    "#主程序\n",
    "if __name__ == '__main__':\n",
    "    main()\n",
    "          \n",
    "             \n",
    "              \n",
    "          "
   ]
  },
  {
   "cell_type": "code",
   "execution_count": null,
   "metadata": {},
   "outputs": [],
   "source": []
  },
  {
   "cell_type": "code",
   "execution_count": null,
   "metadata": {},
   "outputs": [],
   "source": []
  },
  {
   "cell_type": "code",
   "execution_count": null,
   "metadata": {},
   "outputs": [],
   "source": []
  },
  {
   "cell_type": "code",
   "execution_count": null,
   "metadata": {},
   "outputs": [],
   "source": []
  },
  {
   "cell_type": "code",
   "execution_count": null,
   "metadata": {},
   "outputs": [],
   "source": []
  },
  {
   "cell_type": "code",
   "execution_count": null,
   "metadata": {},
   "outputs": [],
   "source": []
  },
  {
   "cell_type": "code",
   "execution_count": null,
   "metadata": {},
   "outputs": [],
   "source": []
  },
  {
   "cell_type": "code",
   "execution_count": null,
   "metadata": {},
   "outputs": [],
   "source": []
  },
  {
   "cell_type": "code",
   "execution_count": null,
   "metadata": {},
   "outputs": [],
   "source": []
  },
  {
   "cell_type": "code",
   "execution_count": null,
   "metadata": {},
   "outputs": [],
   "source": []
  },
  {
   "cell_type": "code",
   "execution_count": null,
   "metadata": {},
   "outputs": [],
   "source": []
  },
  {
   "cell_type": "code",
   "execution_count": null,
   "metadata": {},
   "outputs": [],
   "source": []
  },
  {
   "cell_type": "code",
   "execution_count": null,
   "metadata": {},
   "outputs": [],
   "source": []
  },
  {
   "cell_type": "code",
   "execution_count": null,
   "metadata": {},
   "outputs": [],
   "source": []
  },
  {
   "cell_type": "code",
   "execution_count": null,
   "metadata": {},
   "outputs": [],
   "source": []
  },
  {
   "cell_type": "code",
   "execution_count": null,
   "metadata": {},
   "outputs": [],
   "source": []
  },
  {
   "cell_type": "code",
   "execution_count": null,
   "metadata": {},
   "outputs": [],
   "source": []
  },
  {
   "cell_type": "code",
   "execution_count": null,
   "metadata": {},
   "outputs": [],
   "source": []
  },
  {
   "cell_type": "code",
   "execution_count": null,
   "metadata": {},
   "outputs": [],
   "source": []
  },
  {
   "cell_type": "code",
   "execution_count": null,
   "metadata": {},
   "outputs": [],
   "source": []
  },
  {
   "cell_type": "code",
   "execution_count": null,
   "metadata": {},
   "outputs": [],
   "source": []
  },
  {
   "cell_type": "code",
   "execution_count": null,
   "metadata": {},
   "outputs": [],
   "source": []
  },
  {
   "cell_type": "code",
   "execution_count": null,
   "metadata": {},
   "outputs": [],
   "source": []
  },
  {
   "cell_type": "code",
   "execution_count": null,
   "metadata": {},
   "outputs": [],
   "source": []
  },
  {
   "cell_type": "code",
   "execution_count": null,
   "metadata": {},
   "outputs": [],
   "source": []
  },
  {
   "cell_type": "code",
   "execution_count": null,
   "metadata": {},
   "outputs": [],
   "source": []
  },
  {
   "cell_type": "code",
   "execution_count": null,
   "metadata": {},
   "outputs": [],
   "source": []
  },
  {
   "cell_type": "code",
   "execution_count": null,
   "metadata": {},
   "outputs": [],
   "source": []
  },
  {
   "cell_type": "code",
   "execution_count": null,
   "metadata": {},
   "outputs": [],
   "source": []
  },
  {
   "cell_type": "code",
   "execution_count": null,
   "metadata": {},
   "outputs": [],
   "source": []
  },
  {
   "cell_type": "code",
   "execution_count": null,
   "metadata": {},
   "outputs": [],
   "source": []
  },
  {
   "cell_type": "code",
   "execution_count": null,
   "metadata": {},
   "outputs": [],
   "source": []
  },
  {
   "cell_type": "code",
   "execution_count": null,
   "metadata": {},
   "outputs": [],
   "source": []
  },
  {
   "cell_type": "code",
   "execution_count": null,
   "metadata": {},
   "outputs": [],
   "source": []
  },
  {
   "cell_type": "code",
   "execution_count": null,
   "metadata": {},
   "outputs": [],
   "source": []
  },
  {
   "cell_type": "code",
   "execution_count": null,
   "metadata": {},
   "outputs": [],
   "source": []
  },
  {
   "cell_type": "code",
   "execution_count": null,
   "metadata": {},
   "outputs": [],
   "source": []
  },
  {
   "cell_type": "code",
   "execution_count": null,
   "metadata": {},
   "outputs": [],
   "source": []
  },
  {
   "cell_type": "code",
   "execution_count": null,
   "metadata": {},
   "outputs": [],
   "source": []
  },
  {
   "cell_type": "code",
   "execution_count": null,
   "metadata": {},
   "outputs": [],
   "source": []
  }
 ],
 "metadata": {
  "kernelspec": {
   "display_name": "Python 3",
   "language": "python",
   "name": "python3"
  },
  "language_info": {
   "codemirror_mode": {
    "name": "ipython",
    "version": 3
   },
   "file_extension": ".py",
   "mimetype": "text/x-python",
   "name": "python",
   "nbconvert_exporter": "python",
   "pygments_lexer": "ipython3",
   "version": "3.6.3"
  }
 },
 "nbformat": 4,
 "nbformat_minor": 2
}
