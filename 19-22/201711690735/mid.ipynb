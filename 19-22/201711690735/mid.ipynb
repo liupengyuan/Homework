{
 "cells": [
  {
   "cell_type": "code",
   "execution_count": 10,
   "metadata": {},
   "outputs": [
    {
     "name": "stdout",
     "output_type": "stream",
     "text": [
      "输入一个整数，作为项数。3\n"
     ]
    },
    {
     "data": {
      "text/plain": [
       "10"
      ]
     },
     "execution_count": 10,
     "metadata": {},
     "output_type": "execute_result"
    }
   ],
   "source": [
    "#1\n",
    "def sum():\n",
    "    a=0\n",
    "    m=int(input('输入一个整数，作为项数。'))\n",
    "    i=0\n",
    "    total=0\n",
    "    while i<m:\n",
    "        i=i+1\n",
    "        a=a+i\n",
    "        total+=a\n",
    "    \n",
    "    return(total)\n",
    "sum()\n",
    "        \n",
    "        "
   ]
  },
  {
   "cell_type": "code",
   "execution_count": 18,
   "metadata": {},
   "outputs": [
    {
     "name": "stdout",
     "output_type": "stream",
     "text": [
      "请输入一个符号*\n",
      "请输入要打印的行数。5\n",
      "*\n",
      "***\n",
      "*****\n",
      "*******\n",
      "*********\n",
      "\n"
     ]
    }
   ],
   "source": [
    "#2\n",
    "def m():\n",
    "    \n",
    "    a=str(input('请输入一个符号'))\n",
    "    b=int(input('请输入要打印的行数。'))\n",
    "    i=1\n",
    "    while i<=b:\n",
    "        print(a*(2*i-1))\n",
    "        i=i+1\n",
    "    return print()\n",
    "\n",
    "m()\n",
    "    "
   ]
  },
  {
   "cell_type": "code",
   "execution_count": 58,
   "metadata": {},
   "outputs": [
    {
     "name": "stdout",
     "output_type": "stream",
     "text": [
      "请输入一个正整数，回车结束48723478234432\n",
      "所输入正整数的位数14\n",
      "4\n",
      "8\n",
      "7\n",
      "2\n",
      "3\n",
      "4\n",
      "7\n",
      "8\n",
      "2\n",
      "3\n",
      "4\n",
      "4\n",
      "3\n",
      "2\n"
     ]
    },
    {
     "data": {
      "text/plain": [
       "4"
      ]
     },
     "execution_count": 58,
     "metadata": {},
     "output_type": "execute_result"
    }
   ],
   "source": [
    "#3\n",
    "def k():\n",
    "    a=int(input('请输入一个正整数，回车结束'))\n",
    "    b=[]\n",
    "    n=int(input('所输入正整数的位数'))\n",
    "    i=0\n",
    "    while i<n:\n",
    "        i+=1\n",
    "        b.append(int(input()))\n",
    "    return(b[0])\n",
    "\n",
    "k()\n",
    "    "
   ]
  },
  {
   "cell_type": "code",
   "execution_count": 26,
   "metadata": {},
   "outputs": [
    {
     "name": "stdout",
     "output_type": "stream",
     "text": [
      "输入信科院男子篮球队人数。9\n",
      "输入队员身高183\n",
      "输入队员身高185\n",
      "输入队员身高183\n",
      "输入队员身高187\n",
      "输入队员身高178\n",
      "输入队员身高175\n",
      "输入队员身高177\n",
      "输入队员身高190\n",
      "输入队员身高172\n",
      "[183, 185, 183, 187, 178, 175, 177, 190, 172]\n",
      "181.11111111111111\n",
      "183\n",
      "185\n",
      "183\n",
      "187\n",
      "190\n"
     ]
    }
   ],
   "source": [
    "#4\n",
    "def h():\n",
    "    n = int(input('输入信科院男子篮球队人数。'))\n",
    "    total=0\n",
    "    list=[]\n",
    "    for i in range(1,n+1):\n",
    "        a=int(input('输入队员身高'))\n",
    "        total+=a\n",
    "        list.append(a)\n",
    "    m=total/n\n",
    "    print(list)\n",
    "    print(m)\n",
    "    \n",
    "    for s in list:\n",
    "        if s>m:\n",
    "            print(s)\n",
    "        \n",
    "h()        \n",
    "\n",
    "        \n",
    "    "
   ]
  },
  {
   "cell_type": "code",
   "execution_count": 51,
   "metadata": {},
   "outputs": [
    {
     "name": "stdout",
     "output_type": "stream",
     "text": [
      "6\n",
      "4\n",
      "输入a与b的和0\n",
      "10\n",
      "1\n",
      "输入a与b的和0\n",
      "3\n",
      "3\n",
      "输入a与b的和0\n",
      "6\n",
      "3\n",
      "输入a与b的和0\n",
      "4\n",
      "3\n",
      "输入a与b的和0\n",
      "你的得分是: 0\n"
     ]
    }
   ],
   "source": [
    "#5\n",
    "import random\n",
    "\n",
    "scores=0\n",
    "i=0\n",
    "while i<5:\n",
    "    i+=1\n",
    "    a=random.randint(1,10)\n",
    "    b=random.randint(1,10)\n",
    "    d=a+b\n",
    "    print(a)\n",
    "    print(b)\n",
    "    c=str(input('输入a与b的和'))\n",
    "    if c==d:\n",
    "        scores=scores+20\n",
    "    \n",
    "        \n",
    "print('你的得分是:', scores)\n",
    "\n",
    "\n",
    "    "
   ]
  },
  {
   "cell_type": "code",
   "execution_count": null,
   "metadata": {},
   "outputs": [],
   "source": []
  },
  {
   "cell_type": "code",
   "execution_count": 46,
   "metadata": {},
   "outputs": [
    {
     "name": "stdout",
     "output_type": "stream",
     "text": [
      "108\n",
      "-76\n",
      "[108, [3, -5, 9, 34, 88], -76]\n"
     ]
    }
   ],
   "source": [
    "#6\n",
    "numbers_1=[3,-5,9,108,34,-76,88]\n",
    "a=max(numbers_1)\n",
    "b=min(numbers_1)\n",
    "print(a)\n",
    "print(b)\n",
    "\n",
    "x=[a]\n",
    "y=[3,-5,9,34,88]\n",
    "x.append(y)\n",
    "x.append(b)\n",
    "print(x)"
   ]
  },
  {
   "cell_type": "code",
   "execution_count": null,
   "metadata": {},
   "outputs": [],
   "source": []
  },
  {
   "cell_type": "code",
   "execution_count": null,
   "metadata": {},
   "outputs": [],
   "source": []
  },
  {
   "cell_type": "code",
   "execution_count": null,
   "metadata": {},
   "outputs": [],
   "source": []
  },
  {
   "cell_type": "code",
   "execution_count": null,
   "metadata": {},
   "outputs": [],
   "source": []
  },
  {
   "cell_type": "code",
   "execution_count": null,
   "metadata": {},
   "outputs": [],
   "source": []
  },
  {
   "cell_type": "code",
   "execution_count": null,
   "metadata": {},
   "outputs": [],
   "source": []
  },
  {
   "cell_type": "code",
   "execution_count": null,
   "metadata": {},
   "outputs": [],
   "source": []
  },
  {
   "cell_type": "code",
   "execution_count": null,
   "metadata": {},
   "outputs": [],
   "source": []
  },
  {
   "cell_type": "code",
   "execution_count": null,
   "metadata": {},
   "outputs": [],
   "source": []
  },
  {
   "cell_type": "code",
   "execution_count": null,
   "metadata": {},
   "outputs": [],
   "source": []
  },
  {
   "cell_type": "code",
   "execution_count": null,
   "metadata": {},
   "outputs": [],
   "source": []
  },
  {
   "cell_type": "code",
   "execution_count": null,
   "metadata": {},
   "outputs": [],
   "source": []
  },
  {
   "cell_type": "code",
   "execution_count": null,
   "metadata": {},
   "outputs": [],
   "source": []
  },
  {
   "cell_type": "code",
   "execution_count": null,
   "metadata": {},
   "outputs": [],
   "source": []
  },
  {
   "cell_type": "code",
   "execution_count": null,
   "metadata": {},
   "outputs": [],
   "source": []
  },
  {
   "cell_type": "code",
   "execution_count": null,
   "metadata": {},
   "outputs": [],
   "source": []
  },
  {
   "cell_type": "code",
   "execution_count": null,
   "metadata": {},
   "outputs": [],
   "source": []
  },
  {
   "cell_type": "code",
   "execution_count": null,
   "metadata": {},
   "outputs": [],
   "source": []
  },
  {
   "cell_type": "code",
   "execution_count": null,
   "metadata": {},
   "outputs": [],
   "source": []
  },
  {
   "cell_type": "code",
   "execution_count": null,
   "metadata": {},
   "outputs": [],
   "source": []
  },
  {
   "cell_type": "code",
   "execution_count": null,
   "metadata": {},
   "outputs": [],
   "source": []
  },
  {
   "cell_type": "code",
   "execution_count": null,
   "metadata": {},
   "outputs": [],
   "source": []
  },
  {
   "cell_type": "code",
   "execution_count": null,
   "metadata": {},
   "outputs": [],
   "source": []
  },
  {
   "cell_type": "code",
   "execution_count": null,
   "metadata": {},
   "outputs": [],
   "source": []
  },
  {
   "cell_type": "code",
   "execution_count": null,
   "metadata": {},
   "outputs": [],
   "source": []
  },
  {
   "cell_type": "code",
   "execution_count": null,
   "metadata": {},
   "outputs": [],
   "source": []
  },
  {
   "cell_type": "code",
   "execution_count": null,
   "metadata": {},
   "outputs": [],
   "source": []
  },
  {
   "cell_type": "code",
   "execution_count": null,
   "metadata": {},
   "outputs": [],
   "source": []
  },
  {
   "cell_type": "code",
   "execution_count": null,
   "metadata": {},
   "outputs": [],
   "source": []
  },
  {
   "cell_type": "code",
   "execution_count": null,
   "metadata": {},
   "outputs": [],
   "source": []
  },
  {
   "cell_type": "code",
   "execution_count": null,
   "metadata": {},
   "outputs": [],
   "source": []
  },
  {
   "cell_type": "code",
   "execution_count": null,
   "metadata": {},
   "outputs": [],
   "source": []
  },
  {
   "cell_type": "code",
   "execution_count": null,
   "metadata": {},
   "outputs": [],
   "source": []
  },
  {
   "cell_type": "code",
   "execution_count": null,
   "metadata": {},
   "outputs": [],
   "source": []
  },
  {
   "cell_type": "code",
   "execution_count": null,
   "metadata": {},
   "outputs": [],
   "source": []
  },
  {
   "cell_type": "code",
   "execution_count": null,
   "metadata": {},
   "outputs": [],
   "source": []
  },
  {
   "cell_type": "code",
   "execution_count": null,
   "metadata": {},
   "outputs": [],
   "source": []
  },
  {
   "cell_type": "code",
   "execution_count": null,
   "metadata": {},
   "outputs": [],
   "source": []
  },
  {
   "cell_type": "code",
   "execution_count": null,
   "metadata": {},
   "outputs": [],
   "source": []
  },
  {
   "cell_type": "code",
   "execution_count": null,
   "metadata": {},
   "outputs": [],
   "source": []
  }
 ],
 "metadata": {
  "kernelspec": {
   "display_name": "Python 3",
   "language": "python",
   "name": "python3"
  },
  "language_info": {
   "codemirror_mode": {
    "name": "ipython",
    "version": 3
   },
   "file_extension": ".py",
   "mimetype": "text/x-python",
   "name": "python",
   "nbconvert_exporter": "python",
   "pygments_lexer": "ipython3",
   "version": "3.6.3"
  }
 },
 "nbformat": 4,
 "nbformat_minor": 2
}
