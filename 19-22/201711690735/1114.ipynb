{
 "cells": [
  {
   "cell_type": "code",
   "execution_count": 16,
   "metadata": {},
   "outputs": [
    {
     "name": "stdout",
     "output_type": "stream",
     "text": [
      "10\n",
      "请输入一个数，回车结束。1\n",
      "请输入一个数，回车结束。2\n",
      "请输入一个数，回车结束。-1\n",
      "请输入一个数，回车结束。55\n",
      "请输入一个数，回车结束。100\n",
      "请输入一个数，回车结束。899\n",
      "请输入一个数，回车结束。-10\n",
      "请输入一个数，回车结束。3\n",
      "请输入一个数，回车结束。12.5\n",
      "请输入一个数，回车结束。5.8\n",
      "899.0\n",
      "-10.0\n",
      "549.98\n"
     ]
    }
   ],
   "source": [
    "#写函数，返回一个list中的最大值，最小值，平均值。（不用内置的求和求函数）\n",
    "numbers=[]\n",
    "n=int(input())\n",
    "i=0\n",
    "total=0\n",
    "\n",
    "while i<n:\n",
    "    i=i+1\n",
    "    number=float(input('请输入一个数，回车结束。'))\n",
    "    numbers.append(number)\n",
    "    for number in numbers:\n",
    "        total=total+number\n",
    "        \n",
    "max_number=numbers[i-1]\n",
    "min_number=numbers[i-1]    \n",
    "while i>0:\n",
    "    i=i-1\n",
    "    if numbers[i-1]> max_number:\n",
    "        max_number=numbers[i-1]\n",
    "    \n",
    "    elif numbers[i-1]< min_number:\n",
    "        min_number=numbers[i-1]\n",
    "            \n",
    "ave_number=total/n    \n",
    "print(max_number)\n",
    "print(min_number)\n",
    "print(ave_number)\n",
    "        \n",
    "    \n",
    "\n",
    "    "
   ]
  },
  {
   "cell_type": "code",
   "execution_count": null,
   "metadata": {},
   "outputs": [],
   "source": []
  },
  {
   "cell_type": "code",
   "execution_count": null,
   "metadata": {},
   "outputs": [],
   "source": []
  },
  {
   "cell_type": "code",
   "execution_count": null,
   "metadata": {},
   "outputs": [],
   "source": []
  },
  {
   "cell_type": "code",
   "execution_count": null,
   "metadata": {},
   "outputs": [],
   "source": []
  },
  {
   "cell_type": "code",
   "execution_count": null,
   "metadata": {},
   "outputs": [],
   "source": []
  },
  {
   "cell_type": "code",
   "execution_count": null,
   "metadata": {},
   "outputs": [],
   "source": []
  },
  {
   "cell_type": "code",
   "execution_count": null,
   "metadata": {},
   "outputs": [],
   "source": []
  },
  {
   "cell_type": "code",
   "execution_count": null,
   "metadata": {},
   "outputs": [],
   "source": []
  },
  {
   "cell_type": "code",
   "execution_count": null,
   "metadata": {},
   "outputs": [],
   "source": []
  },
  {
   "cell_type": "code",
   "execution_count": null,
   "metadata": {},
   "outputs": [],
   "source": []
  },
  {
   "cell_type": "code",
   "execution_count": null,
   "metadata": {},
   "outputs": [],
   "source": []
  }
 ],
 "metadata": {
  "kernelspec": {
   "display_name": "Python 3",
   "language": "python",
   "name": "python3"
  },
  "language_info": {
   "codemirror_mode": {
    "name": "ipython",
    "version": 3
   },
   "file_extension": ".py",
   "mimetype": "text/x-python",
   "name": "python",
   "nbconvert_exporter": "python",
   "pygments_lexer": "ipython3",
   "version": "3.6.3"
  }
 },
 "nbformat": 4,
 "nbformat_minor": 2
}
