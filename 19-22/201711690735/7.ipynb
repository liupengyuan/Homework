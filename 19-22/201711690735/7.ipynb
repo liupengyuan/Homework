{
 "cells": [
  {
   "cell_type": "code",
   "execution_count": 14,
   "metadata": {},
   "outputs": [
    {
     "name": "stdout",
     "output_type": "stream",
     "text": [
      "请输入一串字符串：拿破仑真好吃\n",
      "吃好真仑破拿\n"
     ]
    }
   ],
   "source": [
    "#练习一：自己定义一个reverse(s)函数，功能返回字符串s的倒序字符串。\n",
    "def reverse(s):\n",
    "    \n",
    "    line=str(input('请输入一串字符串：'))\n",
    "    print(line[::-1])\n",
    "    \n",
    "reverse(s)\n"
   ]
  },
  {
   "cell_type": "code",
   "execution_count": 3,
   "metadata": {},
   "outputs": [
    {
     "name": "stdout",
     "output_type": "stream",
     "text": [
      "输入一个空格和一个符号 &\n",
      "输入行数10\n",
      " &\n",
      " & &\n",
      " & & &\n",
      " & & & &\n",
      " & & & & &\n",
      " & & & & & &\n",
      " & & & & & & &\n",
      " & & & & & & & &\n",
      " & & & & & & & & &\n",
      " & & & & & & & & & &\n",
      "           &\n",
      "          & &\n",
      "         & & &\n",
      "        & & & &\n",
      "       & & & & &\n",
      "      & & & & & &\n",
      "     & & & & & & &\n",
      "    & & & & & & & &\n",
      "   & & & & & & & & &\n",
      "  & & & & & & & & & &\n",
      "            & & & & & & & & & &\n",
      "           & & & & & & & & &\n",
      "          & & & & & & & &\n",
      "         & & & & & & &\n",
      "        & & & & & &\n",
      "       & & & & &\n",
      "      & & & &\n",
      "     & & &\n",
      "    & &\n",
      "   &\n"
     ]
    }
   ],
   "source": [
    "#练习二：写函数，根据给定符号和行数，打印相应直角三角形，等腰三角形及其他形式的三角形\n",
    "def sti(line):\n",
    "    for i in range(1,m+1):\n",
    "            print((line[0]+line[1])*i,end='')\n",
    "            print()\n",
    "    for i in range(1,m+1):\n",
    "            print((m-i)*' ',(line[0]+line[1])*i,end='')\n",
    "            print()\n",
    "    for i in range(1,m+1):\n",
    "            print((m+1-i)*' ',(line[0]+line[1])*(m+1-i),end='')\n",
    "            print()\n",
    "           \n",
    "line=str(input('输入一个空格和一个符号'))\n",
    "m=int(input('输入行数'))\n",
    "sti(line)\n",
    "        "
   ]
  },
  {
   "cell_type": "code",
   "execution_count": 15,
   "metadata": {},
   "outputs": [
    {
     "name": "stdout",
     "output_type": "stream",
     "text": [
      "请输入行数：10\n",
      "请输入一个空格和一个符号 *\n",
      "            \n",
      "            *\n",
      "           * *\n",
      "          * * *\n",
      "         * * * *\n",
      "        * * * * *\n",
      "       * * * * * *\n",
      "      * * * * * * *\n",
      "     * * * * * * * *\n",
      "    * * * * * * * * *\n",
      "   * * * * * * * * * *\n",
      "  * * * * * * * * * * *\n",
      "   * * * * * * * * * *\n",
      "    * * * * * * * * *\n",
      "     * * * * * * * *\n",
      "      * * * * * * *\n",
      "       * * * * * *\n",
      "        * * * * *\n",
      "         * * * *\n",
      "          * * *\n",
      "           * *\n",
      "            *\n",
      "            \n",
      "           *\n",
      "          **\n",
      "         ***\n",
      "        ****\n",
      "       *****\n",
      "      ******\n",
      "     *******\n",
      "    ********\n",
      "   *********\n",
      "  **********\n",
      "  *********\n",
      "  ********\n",
      "  *******\n",
      "  ******\n",
      "  *****\n",
      "  ****\n",
      "  ***\n",
      "  **\n",
      "  *\n"
     ]
    }
   ],
   "source": [
    "#练习五：写函数，根据给定符号，打印各种菱形。\n",
    "def Rho(m):\n",
    "    \n",
    "    for i in range(m+1):\n",
    "        print((m+1-i)*' ',(line[0]+line[1])*i,end='')\n",
    "        print()\n",
    "    for i in range(m+1):\n",
    "        print(i*' ',(line[0]+line[1])*(m+1-i),end='')\n",
    "        print()\n",
    "    for i in range(m+1):\n",
    "        print((m+1-i)*' ',(line[1])*i,end='')\n",
    "        print()\n",
    "    for i in range(1,m):\n",
    "        print(' ',line[1]*(m-i),end='')\n",
    "        print()\n",
    "        \n",
    "m=int(input('请输入行数：'))\n",
    "line=str(input('请输入一个空格和一个符号'))\n",
    "Rho(m)\n",
    "        "
   ]
  },
  {
   "cell_type": "code",
   "execution_count": null,
   "metadata": {},
   "outputs": [],
   "source": []
  },
  {
   "cell_type": "code",
   "execution_count": null,
   "metadata": {},
   "outputs": [],
   "source": []
  },
  {
   "cell_type": "code",
   "execution_count": null,
   "metadata": {},
   "outputs": [],
   "source": []
  },
  {
   "cell_type": "code",
   "execution_count": null,
   "metadata": {},
   "outputs": [],
   "source": []
  },
  {
   "cell_type": "code",
   "execution_count": null,
   "metadata": {},
   "outputs": [],
   "source": []
  },
  {
   "cell_type": "code",
   "execution_count": null,
   "metadata": {},
   "outputs": [],
   "source": []
  },
  {
   "cell_type": "code",
   "execution_count": null,
   "metadata": {},
   "outputs": [],
   "source": []
  },
  {
   "cell_type": "code",
   "execution_count": null,
   "metadata": {},
   "outputs": [],
   "source": []
  },
  {
   "cell_type": "code",
   "execution_count": null,
   "metadata": {},
   "outputs": [],
   "source": []
  },
  {
   "cell_type": "code",
   "execution_count": null,
   "metadata": {},
   "outputs": [],
   "source": []
  },
  {
   "cell_type": "code",
   "execution_count": null,
   "metadata": {},
   "outputs": [],
   "source": []
  },
  {
   "cell_type": "code",
   "execution_count": null,
   "metadata": {},
   "outputs": [],
   "source": []
  },
  {
   "cell_type": "code",
   "execution_count": null,
   "metadata": {},
   "outputs": [],
   "source": []
  },
  {
   "cell_type": "code",
   "execution_count": null,
   "metadata": {},
   "outputs": [],
   "source": []
  },
  {
   "cell_type": "code",
   "execution_count": null,
   "metadata": {},
   "outputs": [],
   "source": []
  }
 ],
 "metadata": {
  "kernelspec": {
   "display_name": "Python 3",
   "language": "python",
   "name": "python3"
  },
  "language_info": {
   "codemirror_mode": {
    "name": "ipython",
    "version": 3
   },
   "file_extension": ".py",
   "mimetype": "text/x-python",
   "name": "python",
   "nbconvert_exporter": "python",
   "pygments_lexer": "ipython3",
   "version": "3.6.3"
  }
 },
 "nbformat": 4,
 "nbformat_minor": 2
}
