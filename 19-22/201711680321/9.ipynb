{
 "cells": [
  {
   "cell_type": "code",
   "execution_count": 16,
   "metadata": {},
   "outputs": [
    {
     "name": "stdout",
     "output_type": "stream",
     "text": [
      "顺序查找：元素和位置分别为[[88001, 78452]]经过0.0秒\n",
      "二分查找：元素和位置分别为[[88001, 96875]]经过0.0秒\n"
     ]
    }
   ],
   "source": [
    "import random,time,bisect\n",
    "A=[]\n",
    "B=[]\n",
    "C=[]\n",
    "for i in range (1,100001):\n",
    "    A.append(i)\n",
    "\n",
    "B=A\n",
    "random.shuffle(B)\n",
    "x=0\n",
    "if x<1000:\n",
    "    m=random.randint(1,110001)\n",
    "    C.append(m)\n",
    "    x+=1\n",
    "\n",
    "start_timeB=time.time()\n",
    "M1=[]\n",
    "for j in C:\n",
    "    N=[]\n",
    "    N.append(j) \n",
    "    if j in B:\n",
    "        m=B.index(j)\n",
    "        N.append(m)\n",
    "    else:\n",
    "        N.append('none')\n",
    "           \n",
    "    M1.append(N)\n",
    "    end_timeB=time.time()\n",
    "print('顺序查找：元素和位置分别为{}经过{}秒'.format(M1,end_timeB-start_timeB))\n",
    "start_timeA=time.time()\n",
    "M2=[]\n",
    "for k in C:\n",
    "    N=[]\n",
    "    n=bisect.bisect_left(A, k)\n",
    "    N.append(k)\n",
    "    if n==0 and A[0]==k:\n",
    "        N.append(n)\n",
    "    elif n==len(A):\n",
    "        N.append('none')\n",
    "    else:\n",
    "        N.append(n)\n",
    "    M2.append(N)\n",
    "    end_timeA=time.time()\n",
    "print('二分查找：元素和位置分别为{}经过{}秒'.format(M2,end_timeA-start_timeA))\n"
   ]
  },
  {
   "cell_type": "code",
   "execution_count": null,
   "metadata": {
    "collapsed": true
   },
   "outputs": [],
   "source": []
  },
  {
   "cell_type": "code",
   "execution_count": null,
   "metadata": {
    "collapsed": true
   },
   "outputs": [],
   "source": []
  }
 ],
 "metadata": {
  "kernelspec": {
   "display_name": "Python 3",
   "language": "python",
   "name": "python3"
  },
  "language_info": {
   "codemirror_mode": {
    "name": "ipython",
    "version": 3
   },
   "file_extension": ".py",
   "mimetype": "text/x-python",
   "name": "python",
   "nbconvert_exporter": "python",
   "pygments_lexer": "ipython3",
   "version": "3.6.2"
  }
 },
 "nbformat": 4,
 "nbformat_minor": 2
}
