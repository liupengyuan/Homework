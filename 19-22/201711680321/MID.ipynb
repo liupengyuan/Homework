{
 "cells": [
  {
   "cell_type": "code",
   "execution_count": null,
   "metadata": {},
   "outputs": [],
   "source": [
    "#第一题：写函数参数为m,可求1+3+6+10+15+22..共m项的和。\n",
    "def ab():\n",
    "    i=0\n",
    "    s=0\n",
    "    total=0\n",
    "    while i<m:\n",
    "        s=s+i \n",
    "        total+=s\n",
    "        i=i+1\n",
    "    return total\n",
    "m=int(input('求和的项数：')\n",
    "ab(m)\n",
    "\n",
    "      \n"
   ]
  },
  {
   "cell_type": "code",
   "execution_count": null,
   "metadata": {
    "collapsed": true
   },
   "outputs": [],
   "source": [
    "#第二题\n",
    "def a():\n",
    "    print(a)\n",
    "def b():\n",
    "    n=0\n",
    "    s=1\n",
    "    while n<5:\n",
    "        s=s+2*(n-1)\n",
    "        n+=1\n",
    "a(*)\n",
    "b(5)\n",
    "    "
   ]
  },
  {
   "cell_type": "code",
   "execution_count": null,
   "metadata": {
    "collapsed": true
   },
   "outputs": [],
   "source": [
    "#第三题\n",
    "def s():\n",
    "    a=0\n",
    "    num=int(input('请输入任意正整数'))\n",
    "    x=[num]\n",
    "    while num!=0:\n",
    "        a=num/10*len(x)\n",
    "    print(a)\n",
    "s()\n",
    "    "
   ]
  },
  {
   "cell_type": "code",
   "execution_count": null,
   "metadata": {},
   "outputs": [],
   "source": [
    "#第四题\n",
    "i=0\n",
    "total=0\n",
    "x=0\n",
    "while i<9:\n",
    "    tall=int(input('输入身高cm:'))\n",
    "    i+=1\n",
    "    x=total/9\n",
    "print(x)\n",
    "    if  tall>x:\n",
    "    print(tall)\n",
    "\n",
    "    "
   ]
  },
  {
   "cell_type": "code",
   "execution_count": 1,
   "metadata": {},
   "outputs": [
    {
     "name": "stdout",
     "output_type": "stream",
     "text": [
      "6\n",
      "3\n",
      "请输入计算结果：i+j=9\n",
      "10\n",
      "5\n",
      "请输入计算结果：i+j=15\n",
      "5\n",
      "1\n",
      "请输入计算结果：i+j=6\n",
      "1\n",
      "6\n",
      "请输入计算结果：i+j=7\n",
      "11\n",
      "9\n",
      "请输入计算结果：i+j=20\n",
      "最终得分： 100\n"
     ]
    }
   ],
   "source": [
    "#第五题\n",
    "import random\n",
    "m=0\n",
    "n=0\n",
    "k=0\n",
    "\n",
    "while m<5:\n",
    "    i=random.randint(1,11)\n",
    "    print(i)\n",
    "    j=random.randint(1,11)\n",
    "    print(j)\n",
    "    sum_num=int(input('请输入计算结果：i+j=')) \n",
    "           \n",
    "    n=i+j\n",
    "    m+=1\n",
    "    if sum_num==n:\n",
    "        k+=20\n",
    "    else:\n",
    "        k=k\n",
    "print('最终得分：',k)\n"
   ]
  },
  {
   "cell_type": "code",
   "execution_count": null,
   "metadata": {
    "collapsed": true
   },
   "outputs": [],
   "source": [
    "#第六题\n",
    "a=[3,-5,9,108,34,-76,88]\n",
    "i=0\n",
    "x=[]\n",
    "while i<7:\n",
    "    if a[i]>x:\n",
    "        x.append(a[i])\n",
    "        i+=1\n",
    "print(x)\n",
    "        "
   ]
  },
  {
   "cell_type": "code",
   "execution_count": null,
   "metadata": {
    "collapsed": true
   },
   "outputs": [],
   "source": []
  }
 ],
 "metadata": {
  "kernelspec": {
   "display_name": "Python 3",
   "language": "python",
   "name": "python3"
  },
  "language_info": {
   "codemirror_mode": {
    "name": "ipython",
    "version": 3
   },
   "file_extension": ".py",
   "mimetype": "text/x-python",
   "name": "python",
   "nbconvert_exporter": "python",
   "pygments_lexer": "ipython3",
   "version": "3.6.2"
  }
 },
 "nbformat": 4,
 "nbformat_minor": 2
}
