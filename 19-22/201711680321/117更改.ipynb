{
 "cells": [
  {
   "cell_type": "code",
   "execution_count": 3,
   "metadata": {},
   "outputs": [
    {
     "name": "stdout",
     "output_type": "stream",
     "text": [
      "请输入一个整数,表示你要取m个整数5\n",
      "请输入一个正数10\n",
      "请输入一个大于n的正数500\n",
      "34.713109915419565\n"
     ]
    }
   ],
   "source": [
    "import random,math\n",
    "m=int(input('请输入一个整数,表示你要取m个整数'))\n",
    "n=int(input('请输入一个正数'))\n",
    "k=int(input('请输入一个大于n的正数'))\n",
    "def a(m,n,k):\n",
    "    i=0\n",
    "    total=0\n",
    "    \n",
    "    while i<m:\n",
    "        number=random.randint(n,k)\n",
    "        total=total+number\n",
    "        i=i+1\n",
    "        \n",
    "    x=total**(1/2)\n",
    "    print(x)\n",
    "    \n",
    "\n",
    "a(5,10,500)"
   ]
  },
  {
   "cell_type": "code",
   "execution_count": null,
   "metadata": {
    "collapsed": true
   },
   "outputs": [],
   "source": []
  },
  {
   "cell_type": "code",
   "execution_count": null,
   "metadata": {
    "collapsed": true
   },
   "outputs": [],
   "source": []
  }
 ],
 "metadata": {
  "kernelspec": {
   "display_name": "Python 3",
   "language": "python",
   "name": "python3"
  }
 },
 "nbformat": 4,
 "nbformat_minor": 2
}
