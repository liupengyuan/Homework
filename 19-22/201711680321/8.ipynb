{
 "cells": [
  {
   "cell_type": "code",
   "execution_count": 3,
   "metadata": {},
   "outputs": [],
   "source": [
    "import random\n",
    "\n",
    "def win():\n",
    "    return win\n",
    "    \n",
    "def lose():\n",
    "    return lose\n",
    "\n",
    "def idiom_robot(file_name):\n",
    "    with open(file_name) as fh:\n",
    "        text = fh.read()\n",
    "    idioms = text.split()\n",
    "    idiom = random.choice(idioms)\n",
    "    \n",
    "    print(idiom)\n",
    "    com=0\n",
    "    hum=0\n",
    "    start_idiom=idiom\n",
    "    \n",
    "def main():\n",
    "    while True:\n",
    "        filename = r'c:\\temp\\成语大全.txt'\n",
    "        answer_idiom = input('请输入成语，回车结束，直接回车表示退出游戏：')\n",
    "        if answer_idiom [0] == start_idiom[-1]:\n",
    "            print('答对了，加十分')\n",
    "            hum+= 10\n",
    "            print('你现在的分数是：', hum)\n",
    "            last_idiom=answer_idiom\n",
    "            \n",
    "        elif answer_idiom[0]!=start_idiom[-1]:\n",
    "            print('答错了')\n",
    "            print('你的分数是：',hum)\n",
    "        \n",
    "        elif answer_idiom == '':\n",
    "            print('退出游戏。')\n",
    "            print('你最后的分数是：', hum)\n",
    "            return\n",
    "    \n",
    "        else:\n",
    "            lose()\n",
    "            return\n",
    "        \n",
    "        com_idioms=[]\n",
    "\n",
    "        for idiom in idioms:\n",
    "            if idiom.startswith(last_idiom):\n",
    "                com_idioms.append(idiom)\n",
    "\n",
    "        if len(com_idioms)==0:\n",
    "            print('找不到结果.')\n",
    "            print('最后分数:','电脑：'com,'你：'hum)\n",
    "            break\n",
    "\n",
    "        else:\n",
    "            cans_idiom=random.choice(com_idioms)\n",
    "            print(cans_idiom)\n",
    "            com+=10\n",
    "            start_idiom=cans_idiom[-1]\n",
    "\n",
    "if __name__ == '__main()__':\n",
    "    main()\n",
    "##实在不会了TAT"
   ]
  },
  {
   "cell_type": "code",
   "execution_count": null,
   "metadata": {
    "collapsed": true
   },
   "outputs": [],
   "source": []
  }
 ],
 "metadata": {
  "kernelspec": {
   "display_name": "Python 3",
   "language": "python",
   "name": "python3"
  },
  "language_info": {
   "codemirror_mode": {
    "name": "ipython",
    "version": 3
   },
   "file_extension": ".py",
   "mimetype": "text/x-python",
   "name": "python",
   "nbconvert_exporter": "python",
   "pygments_lexer": "ipython3",
   "version": "3.6.2"
  }
 },
 "nbformat": 4,
 "nbformat_minor": 2
}
