{
 "cells": [
  {
   "cell_type": "code",
   "execution_count": 16,
   "metadata": {},
   "outputs": [
    {
     "name": "stdout",
     "output_type": "stream",
     "text": [
      "平均值 106.72999999999999\n",
      "最小值 -10\n",
      "最大值 899\n"
     ]
    }
   ],
   "source": [
    "def cs(numbers):\n",
    "    \n",
    "    i=0\n",
    "    total=0\n",
    "    max_num=numbers[i]\n",
    "    min_num=numbers[i]\n",
    "    for number in numbers:\n",
    "        total+=number\n",
    "\n",
    "    while i<9:\n",
    "        i+=1\n",
    "        if numbers[i]<min_num:\n",
    "            min_num=numbers[i]\n",
    "        elif numbers[i]>max_num:\n",
    "            max_num=numbers[i]\n",
    "    print('平均值',total/10)\n",
    "    print('最小值',min_num)\n",
    "    print('最大值',max_num)\n",
    "\n",
    "cs(numbers)\n",
    "numbers=[1,2,-1,55,100,899,-10,3,12.5,5.8]"
   ]
  }
 ],
 "metadata": {
  "kernelspec": {
   "display_name": "Python 3",
   "language": "python",
   "name": "python3"
  },
  "language_info": {
   "codemirror_mode": {
    "name": "ipython",
    "version": 3
   },
   "file_extension": ".py",
   "mimetype": "text/x-python",
   "name": "python",
   "nbconvert_exporter": "python",
   "pygments_lexer": "ipython3",
   "version": "3.6.2"
  }
 },
 "nbformat": 4,
 "nbformat_minor": 2
}
