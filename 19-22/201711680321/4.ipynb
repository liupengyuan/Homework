{
 "cells": [
  {
   "cell_type": "code",
   "execution_count": 5,
   "metadata": {},
   "outputs": [
    {
     "name": "stdout",
     "output_type": "stream",
     "text": [
      "请输入第一个整数，以回车结束2\n",
      "请输入第二个整数，以回车结束3\n",
      "请输入第三个整数，以回车结束4\n",
      "最终的和是: 32\n"
     ]
    }
   ],
   "source": [
    "def my_mul(end):\n",
    "    i=0\n",
    "    total=1\n",
    "    while i<end:\n",
    "        i=i+1\n",
    "        total=total*i\n",
    "    return total\n",
    "m=int(input('请输入第一个整数，以回车结束'))\n",
    "n=int(input('请输入第二个整数，以回车结束'))\n",
    "k=int(input('请输入第三个整数，以回车结束'))\n",
    "\n",
    "print('最终的和是:',my_mul(m)+my_mul(n)+my_mul(k))\n",
    "    \n",
    "    "
   ]
  },
  {
   "cell_type": "code",
   "execution_count": 10,
   "metadata": {
    "scrolled": true
   },
   "outputs": [
    {
     "name": "stdout",
     "output_type": "stream",
     "text": [
      "最终和的四倍是： 3.140592653839794\n",
      "最终和的四倍是： 3.1415826535897198\n"
     ]
    }
   ],
   "source": [
    "def my_sum(end):\n",
    "    n=0\n",
    "    total=0\n",
    "    while n<end:\n",
    "        n=n+1\n",
    "        total=total+(-1)**(n+1)*1/(2*n-1)\n",
    "    return total\n",
    "print('最终和的四倍是：',my_sum(1000)*4)\n",
    "print('最终和的四倍是：',my_sum(100000)*4)"
   ]
  },
  {
   "cell_type": "code",
   "execution_count": 5,
   "metadata": {},
   "outputs": [
    {
     "name": "stdout",
     "output_type": "stream",
     "text": [
      "请输入您的姓名，以回车结束colleen\n",
      "请输入您的出生月日，例如4.293.25\n",
      "('colleen', '你是非常有个性的白羊座！')\n"
     ]
    }
   ],
   "source": [
    "name=input('请输入您的姓名，以回车结束')\n",
    "x=float(input('请输入您的出生月日，例如4.29'))\n",
    "def xz(x): \n",
    "    \n",
    "    if 3.21<=x<=4.19:\n",
    "        return(name,'你是非常有个性的白羊座！')\n",
    "\n",
    "    elif 4.20<=x<=5.20:\n",
    "        return(name,'你是非常有个性的金牛座！')\n",
    "\n",
    "    elif 5.21<=x<=6.21:\n",
    "        return(name,'你是非常有个性的双子座！')\n",
    "    \n",
    "    elif 6.22<=x<=7.22:\n",
    "        return(name,'你是非常有个性的巨蟹座！')\n",
    "     \n",
    "    elif 7.23<=x<=8.22:\n",
    "        return(name,'你是非常有个性的狮子座！')\n",
    "    \n",
    "    elif 8.23<=x<=9.22:\n",
    "        return(name,'你是非常有个性的处女座！')\n",
    "    \n",
    "    elif 9.23<=x<=10.23:\n",
    "        return(name,'你是非常有个性的天秤座！')\n",
    "    \n",
    "    elif 10.24<=x<=11.22:\n",
    "        return(name,'你是非常有个性的天蝎座！')\n",
    "    \n",
    "    elif 11.23<=x<=12.21:\n",
    "        return(name,'你是非常有个性的射手座！')\n",
    "    \n",
    "    elif 12.22<=x<=1.19:\n",
    "        return(name,'你是非常有个性的摩羯座！')\n",
    "    \n",
    "    elif 1.20<=x<=2.18:\n",
    "        return(name,'你是非常有个性的水瓶座！')\n",
    "    \n",
    "    elif 2.19<=x<=3.20:\n",
    "        return(name,'你是非常有个性的双鱼座！')\n",
    "    else:\n",
    "        return('输入非法！')\n",
    "        \n",
    "\n",
    "print(xz(x))\n"
   ]
  },
  {
   "cell_type": "code",
   "execution_count": 7,
   "metadata": {},
   "outputs": [
    {
     "name": "stdout",
     "output_type": "stream",
     "text": [
      "输入一个英文单数形式名词，以回车结束。church\n",
      "复数直接加es\n"
     ]
    }
   ],
   "source": [
    "m=input('输入一个英文单数形式名词，以回车结束。')\n",
    "def lol(m):\n",
    "    if m.endswith(('s','sh','ch')):\n",
    "        return('复数直接加es')\n",
    "    \n",
    "    elif m.endswith('x'):  \n",
    "        return('复数直接加es')\n",
    "    \n",
    "    elif m.endswith(('f','fe')):\n",
    "        return('复数去f,fe变ves')\n",
    "    \n",
    "    else :\n",
    "        return('复数直接加s')\n",
    "    \n",
    "print(lol(m))"
   ]
  },
  {
   "cell_type": "code",
   "execution_count": null,
   "metadata": {},
   "outputs": [],
   "source": [
    "def inner():\n",
    "    i=m\n",
    "    total=m\n",
    "    while i<n:\n",
    "        i=i+k\n",
    "        total=total+i\n",
    "        print('inner',total)\n",
    "        \n",
    "    \n",
    "m=int(input('请输入一个整数'))\n",
    "n=int(input('请输入一个大于m的整数'))\n",
    "k=int(input('请输入一个数'))\n",
    "print('outer',total)\n",
    "#不会\n",
    "    "
   ]
  },
  {
   "cell_type": "code",
   "execution_count": null,
   "metadata": {
    "collapsed": true
   },
   "outputs": [],
   "source": []
  }
 ],
 "metadata": {
  "kernelspec": {
   "display_name": "Python 3",
   "language": "python",
   "name": "python3"
  },
  "language_info": {
   "codemirror_mode": {
    "name": "ipython",
    "version": 3
   },
   "file_extension": ".py",
   "mimetype": "text/x-python",
   "name": "python",
   "nbconvert_exporter": "python",
   "pygments_lexer": "ipython3",
   "version": "3.6.2"
  }
 },
 "nbformat": 4,
 "nbformat_minor": 2
}
