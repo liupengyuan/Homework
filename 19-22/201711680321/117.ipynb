{
 "cells": [
  {
   "cell_type": "code",
   "execution_count": null,
   "metadata": {},
   "outputs": [],
   "source": [
    "import random,math\n",
    "m=int(input('请输入一个整数,表示你要取m个整数'))\n",
    "n=int(input('请输入一个正数'))\n",
    "k=int(input('请输入一个大于n的正数'))\n",
    "def a(m,n,k):\n",
    "    i=0\n",
    "    total=0\n",
    "    \n",
    "    while i<m:\n",
    "        number=random.randint(n,k)\n",
    "        total+=number\n",
    "        x=math.sqrt(total)\n",
    "    print(x)\n",
    "    \n",
    "\n",
    "a(5,10,500)"
   ]
  },
  {
   "cell_type": "code",
   "execution_count": null,
   "metadata": {
    "collapsed": true
   },
   "outputs": [],
   "source": []
  }
 ],
 "metadata": {
  "kernelspec": {
   "display_name": "Python 3",
   "language": "python",
   "name": "python3"
  },
  "language_info": {
   "codemirror_mode": {
    "name": "ipython",
    "version": 3
   },
   "file_extension": ".py",
   "mimetype": "text/x-python",
   "name": "python",
   "nbconvert_exporter": "python",
   "pygments_lexer": "ipython3",
   "version": "3.6.2"
  }
 },
 "nbformat": 4,
 "nbformat_minor": 2
}
