{
 "cells": [
  {
   "cell_type": "code",
   "execution_count": 19,
   "metadata": {},
   "outputs": [
    {
     "name": "stdout",
     "output_type": "stream",
     "text": [
      "请输入一个整数，回车结束3\n",
      "2\n"
     ]
    }
   ],
   "source": [
    "n=int(input('请输入一个整数，回车结束'))\n",
    "\n",
    "def num():\n",
    "    list=[1,2,3,4,5]\n",
    "    if n in list:\n",
    "        x=list.index(n)\n",
    "        print(x)\n",
    "    \n",
    "    if n not in list:\n",
    "        print(-1)\n",
    "num()\n",
    "        "
   ]
  },
  {
   "cell_type": "code",
   "execution_count": 27,
   "metadata": {},
   "outputs": [
    {
     "name": "stdout",
     "output_type": "stream",
     "text": [
      "[1, 5, 2, 6, 3, 7, 4, 8]\n"
     ]
    }
   ],
   "source": [
    "#写函数，可将两个相同长度的list，间隔插入，生成新的list。例如：给两个list，a=[1,2,3,4], b=[5,6,7,8]。则可以生成：[1,5,2,6,3,7,4,8]。\n",
    "a=[1,2,3,4]\n",
    "b=[5,6,7,8]\n",
    "c=[]\n",
    "\n",
    "def TAT():\n",
    "    m=0\n",
    "    n=4\n",
    "    for i in a:\n",
    "        for j in b:\n",
    "            while m<n:\n",
    "                c.append(a[m])\n",
    "                c.append(b[m])\n",
    "                m+=1\n",
    "    print(c)\n",
    "TAT()\n",
    "    "
   ]
  },
  {
   "cell_type": "code",
   "execution_count": 33,
   "metadata": {},
   "outputs": [
    {
     "name": "stdout",
     "output_type": "stream",
     "text": [
      "输入一个数1\n",
      "输入一个数1\n",
      "输入一个数2\n",
      "输入一个数2\n",
      "0.9999999999999998\n"
     ]
    }
   ],
   "source": [
    "#写函数，可求两个向量的夹角余弦值，向量可放在list中。主程序调用该函数。\n",
    "\n",
    "x1=int(input('输入一个数'))\n",
    "y1=int(input('输入一个数'))\n",
    "x2=int(input('输入一个数'))\n",
    "y2=int(input('输入一个数'))\n",
    "xl1=[x1,y1]\n",
    "xl2=[x2,y2]\n",
    "def TAT():\n",
    "    x=x1*x2+y1*y2\n",
    "    y=((x1)**2+(y1)**2)**(1/2)*((x2)**2+(y2)**2)**(1/2)\n",
    "    cos=x/y\n",
    "    print(cos)\n",
    "TAT()"
   ]
  },
  {
   "cell_type": "code",
   "execution_count": 39,
   "metadata": {},
   "outputs": [
    {
     "name": "stdout",
     "output_type": "stream",
     "text": [
      "3741\n"
     ]
    }
   ],
   "source": [
    "#挑战性习题：python语言老师为了激励学生学python，自费买了100个完全相同的Macbook Pro，分给三个班级，每个班级至少分5个，\n",
    "#穷举法计算共有多少种分法？\n",
    "m=100\n",
    "n=3\n",
    "x=0\n",
    "for i in range(5,98):\n",
    "    for j in range(5,98):\n",
    "        for k in range(5,98):\n",
    "            s=i+j+k\n",
    "            if m==s:\n",
    "                x+=1\n",
    "                \n",
    "print(x)"
   ]
  },
  {
   "cell_type": "code",
   "execution_count": null,
   "metadata": {
    "collapsed": true
   },
   "outputs": [],
   "source": []
  }
 ],
 "metadata": {
  "kernelspec": {
   "display_name": "Python 3",
   "language": "python",
   "name": "python3"
  },
  "language_info": {
   "codemirror_mode": {
    "name": "ipython",
    "version": 3
   },
   "file_extension": ".py",
   "mimetype": "text/x-python",
   "name": "python",
   "nbconvert_exporter": "python",
   "pygments_lexer": "ipython3",
   "version": "3.6.2"
  }
 },
 "nbformat": 4,
 "nbformat_minor": 2
}
