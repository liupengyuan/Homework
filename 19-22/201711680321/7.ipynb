{
 "cells": [
  {
   "cell_type": "code",
   "execution_count": 1,
   "metadata": {
    "scrolled": true
   },
   "outputs": [
    {
     "name": "stdout",
     "output_type": "stream",
     "text": [
      "654321\n"
     ]
    }
   ],
   "source": [
    "#自己定义一个reverse(s)函数，功能返回字符串s的倒序字符串。\n",
    "def f(s):\n",
    "    for i in range(len(s)):\n",
    "        x=s[i::-1]\n",
    "    print(x)\n",
    "text = '123456'\n",
    "f(text)\n",
    "\n",
    "\n"
   ]
  },
  {
   "cell_type": "code",
   "execution_count": 2,
   "metadata": {},
   "outputs": [
    {
     "name": "stdout",
     "output_type": "stream",
     "text": [
      "输入行数3\n",
      "符号*\n",
      "\n",
      "*\n",
      "**\n",
      "***\n"
     ]
    }
   ],
   "source": [
    "#练习二：写函数，根据给定符号和行数，打印相应直角三角形，等腰三角形及其他形式的三角形\n",
    "def f(s):\n",
    "    for i in range(m+1):\n",
    "        for j in range(m-i,m):\n",
    "            print(x,end='')\n",
    "        print()\n",
    "m=int(input('输入行数'))\n",
    "x=input('符号')\n",
    "f(x)"
   ]
  },
  {
   "cell_type": "code",
   "execution_count": 3,
   "metadata": {},
   "outputs": [
    {
     "name": "stdout",
     "output_type": "stream",
     "text": [
      "输入行数4\n",
      "符号*\n",
      "    \n",
      "   * \n",
      "  * * \n",
      " * * * \n",
      "* * * * \n"
     ]
    }
   ],
   "source": [
    "#练习二：写函数，根据给定符号和行数，打印相应直角三角形，等腰三角形及其他形式的三角形\n",
    "def f(s):\n",
    "    for i in range(m+1):\n",
    "        for j in range(0,m-i):\n",
    "            print(end=' ')\n",
    "        for k in range(m-i,m):\n",
    "            print(x,end=' ')\n",
    "        print()\n",
    "m=int(input('输入行数'))\n",
    "x=input('符号')\n",
    "f(x)"
   ]
  },
  {
   "cell_type": "code",
   "execution_count": 4,
   "metadata": {},
   "outputs": [
    {
     "name": "stdout",
     "output_type": "stream",
     "text": [
      "输入行数3\n",
      "符号：*\n",
      "     **\n",
      "    ****\n",
      "   ******\n"
     ]
    }
   ],
   "source": [
    "#练习二：写函数，根据给定符号和行数，打印相应直角三角形，等腰三角形及其他形式的三角形\n",
    "def f(s):\n",
    "    for i in range(1, m+1):\n",
    "        print((m*2-i)*' ' + x*i+i*x, end='')\n",
    "        print()\n",
    "    \n",
    "m=int(input('输入行数'))\n",
    "x=input('符号：')\n",
    "f(x)\n",
    "            \n",
    "    "
   ]
  },
  {
   "cell_type": "code",
   "execution_count": 5,
   "metadata": {},
   "outputs": [
    {
     "name": "stdout",
     "output_type": "stream",
     "text": [
      "4\n",
      "    \n",
      "   *\n",
      "  ***\n",
      " *****\n",
      "*******\n",
      " *****\n",
      "  ***\n",
      "   *\n"
     ]
    }
   ],
   "source": [
    "rows=int(input())\n",
    "def hh():\n",
    "    for i in range(rows):\n",
    "        for j in range(rows - i):\n",
    "            print (' ',end='')\n",
    "            j += 1\n",
    "        for k in range(2 * i - 1):\n",
    "            print ('*',end='')\n",
    "            k += 1\n",
    "        print ()\n",
    "        i += 1\n",
    "    for i in range(rows):\n",
    "        for j in range(i):\n",
    "            print (' ',end='')\n",
    "            j += 1\n",
    "        for k in range(2 * (rows - i) - 1):\n",
    "            print ('*',end='')\n",
    "        print ()\n",
    "        i += 1\n",
    "\n",
    "hh()"
   ]
  },
  {
   "cell_type": "code",
   "execution_count": 6,
   "metadata": {},
   "outputs": [
    {
     "name": "stdout",
     "output_type": "stream",
     "text": [
      "4\n",
      "    \n",
      "   *\n",
      "  * *\n",
      " *   *\n",
      "*     *\n",
      " *   *\n",
      "  * *\n",
      "   *\n"
     ]
    }
   ],
   "source": [
    "def mm(rows):\n",
    "\n",
    "    for i in range(rows):\n",
    "        for j in range(rows - i):\n",
    "            print (' ',end='')\n",
    "            j += 1\n",
    "        for k in range(2 * i - 1):\n",
    "            if k == 0 or k == 2 * i - 2:\n",
    "                print ('*',end='')\n",
    "            else:\n",
    "                print (' ',end='')\n",
    "            k += 1\n",
    "        print ()\n",
    "        i += 1\n",
    "    \n",
    "    for i in range(rows):\n",
    "        for j in range(i):\n",
    "            print (' ',end='')\n",
    "            j += 1\n",
    "        for k in range(2 * (rows - i) - 1):\n",
    "            if k == 0 or k == 2 * (rows - i) - 2:\n",
    "                print ('*',end='')\n",
    "            else:\n",
    "                print (' ',end='')\n",
    "            k += 1\n",
    "        print ()\n",
    "        i += 1  \n",
    "rows=int(input())\n",
    "mm(rows)\n"
   ]
  },
  {
   "cell_type": "code",
   "execution_count": null,
   "metadata": {
    "collapsed": true
   },
   "outputs": [],
   "source": []
  }
 ],
 "metadata": {
  "kernelspec": {
   "display_name": "Python 3",
   "language": "python",
   "name": "python3"
  },
  "language_info": {
   "codemirror_mode": {
    "name": "ipython",
    "version": 3
   },
   "file_extension": ".py",
   "mimetype": "text/x-python",
   "name": "python",
   "nbconvert_exporter": "python",
   "pygments_lexer": "ipython3",
   "version": "3.6.2"
  }
 },
 "nbformat": 4,
 "nbformat_minor": 2
}
