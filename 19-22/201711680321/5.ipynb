{
 "cells": [
  {
   "cell_type": "code",
   "execution_count": 3,
   "metadata": {},
   "outputs": [
    {
     "name": "stdout",
     "output_type": "stream",
     "text": [
      "请输入一个整数，表示你要取n个整数5\n",
      "请输入一个整数10\n",
      "请输入一个大于m的整数500\n",
      "16.25423021862309\n"
     ]
    }
   ],
   "source": [
    "import random\n",
    "n=int(input('请输入一个整数，表示你要取n个整数'))\n",
    "m=int(input('请输入一个整数'))\n",
    "k=int(input('请输入一个大于m的整数'))\n",
    "def a(n,m,k):\n",
    "    i=0\n",
    "    total=0\n",
    "    \n",
    "    while i<n:\n",
    "        number=random.randint(m,k)\n",
    "        total=total+number\n",
    "        i=i+1\n",
    "    x=(total/n)**(1/2)\n",
    "    print(x)\n",
    "a(5,10,500)"
   ]
  },
  {
   "cell_type": "code",
   "execution_count": 6,
   "metadata": {},
   "outputs": [
    {
     "name": "stdout",
     "output_type": "stream",
     "text": [
      "请输入一个整数，表示你要取n个整数5\n",
      "请输入一个整数10\n",
      "请输入一个大于m的整数500\n",
      "27.036530994518618\n"
     ]
    }
   ],
   "source": [
    "import random,math\n",
    "n=int(input('请输入一个整数，表示你要取n个整数'))\n",
    "m=int(input('请输入一个整数'))\n",
    "k=int(input('请输入一个大于m的整数'))\n",
    "def a(n,m,k):\n",
    "    i=0\n",
    "    total=0\n",
    "    while i<n:\n",
    "        number=random.randint(m,k)\n",
    "        total+=math.log(number)\n",
    "        i=i+1\n",
    "    print(total)\n",
    "a(5,10,500)"
   ]
  },
  {
   "cell_type": "code",
   "execution_count": 7,
   "metadata": {},
   "outputs": [
    {
     "name": "stdout",
     "output_type": "stream",
     "text": [
      "请输入一个整数，表示你要取n个整数5\n",
      "请输入一个整数10\n",
      "请输入一个比m大的整数500\n",
      "0.9269722434393148\n"
     ]
    }
   ],
   "source": [
    "import random,math\n",
    "n=int(input('请输入一个整数，表示你要取n个整数'))\n",
    "m=int(input('请输入一个整数'))\n",
    "k=int(input('请输入一个比m大的整数'))\n",
    "def a(n,m,k):\n",
    "    i=0\n",
    "    total=0\n",
    "    while i<n:\n",
    "        number=random.randint(m,k)\n",
    "        total+=1/(math.log(number))\n",
    "        i=i+1\n",
    "    print(total)\n",
    "a(5,10,500)"
   ]
  },
  {
   "cell_type": "code",
   "execution_count": 15,
   "metadata": {},
   "outputs": [
    {
     "name": "stdout",
     "output_type": "stream",
     "text": [
      "请输入一个整数，表示你要取n个数相加:3\n"
     ]
    },
    {
     "data": {
      "text/plain": [
       "615"
      ]
     },
     "execution_count": 15,
     "metadata": {},
     "output_type": "execute_result"
    }
   ],
   "source": [
    "import random\n",
    "\n",
    "def x():\n",
    "    i=0\n",
    "    s=0\n",
    "    a=random.randint(1,9)\n",
    "    while i<n:\n",
    "        i=i+1\n",
    "        s=s+a*(10**(n-i))*i\n",
    "    return s\n",
    "n=int(input('请输入一个整数，表示你要取n个数相加:'))\n",
    "x()"
   ]
  },
  {
   "cell_type": "code",
   "execution_count": 35,
   "metadata": {
    "scrolled": false
   },
   "outputs": [
    {
     "name": "stdout",
     "output_type": "stream",
     "text": [
      "请输入一个大于0的整数，作为神秘整数的上界，回车结束:64\n",
      "请输入一个正整数,作为神秘数字52\n",
      "guess number: 37\n",
      "抱歉，猜小了\n",
      "guess number: 55\n",
      "抱歉，猜大了\n",
      "guess number: 55\n",
      "抱歉，猜大了\n",
      "guess number: 34\n",
      "抱歉，猜小了\n",
      "guess number: 54\n",
      "抱歉，猜大了\n",
      "guess number: 8\n",
      "抱歉，猜小了\n",
      "神秘数字是： 52\n",
      "Lose!\n"
     ]
    },
    {
     "data": {
      "text/plain": [
       "41"
      ]
     },
     "execution_count": 35,
     "metadata": {},
     "output_type": "execute_result"
    }
   ],
   "source": [
    "def win():\n",
    "    print('Win!')\n",
    "    \n",
    "def lose():\n",
    "    print('Lose!')\n",
    "    \n",
    "n=int(input('请输入一个大于0的整数，作为神秘整数的上界，回车结束:')) \n",
    "x=int(input('请输入一个正整数,作为神秘数字'))\n",
    "import math\n",
    "def guess_game():\n",
    "    number = random.randint(1, n)\n",
    "    max_times = math.ceil(math.log2(n))\n",
    "    guess_times = 0\n",
    "       \n",
    "    while guess_times < max_times:\n",
    "        \n",
    "        guess_times += 1    \n",
    "       \n",
    "        print('guess number:',number)\n",
    "\n",
    "        \n",
    "        if x == number:\n",
    "            win()\n",
    "            print('神秘数字是：', x)\n",
    "            print('比标准次数少', max_times-guess_times, '次')\n",
    "            break\n",
    "        elif x > number:\n",
    "            print('抱歉，猜小了')\n",
    "            number=random.randint(number,n)\n",
    "        else:\n",
    "            print('抱歉，猜大了')\n",
    "            number=random.randint(1,number)\n",
    "    else:\n",
    "        print('神秘数字是：',x)\n",
    "        lose()\n",
    "    return number\n",
    "guess_game()\n"
   ]
  }
 ],
 "metadata": {
  "kernelspec": {
   "display_name": "Python 3",
   "language": "python",
   "name": "python3"
  },
  "language_info": {
   "codemirror_mode": {
    "name": "ipython",
    "version": 3
   },
   "file_extension": ".py",
   "mimetype": "text/x-python",
   "name": "python",
   "nbconvert_exporter": "python",
   "pygments_lexer": "ipython3",
   "version": "3.6.2"
  }
 },
 "nbformat": 4,
 "nbformat_minor": 2
}
