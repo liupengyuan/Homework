{
 "cells": [
  {
   "cell_type": "code",
   "execution_count": 4,
   "metadata": {},
   "outputs": [
    {
     "name": "stdout",
     "output_type": "stream",
     "text": [
      "请输入您的姓名，以回车结束。colleen\n",
      "请输入您的出生月份和日期，例如：4.294.29\n",
      "colleen 你是非常可爱帅气迷人完美的最好诠释的金牛座！\n"
     ]
    }
   ],
   "source": [
    "name = input('请输入您的姓名，以回车结束。')\n",
    "x = float(input('请输入您的出生月份和日期，例如：4.29'))\n",
    "\n",
    "if 3.21<=x<=4.19:\n",
    "    print(name,'你是非常有有完没完啊的白羊座！')\n",
    "\n",
    "elif 4.20<=x<=5.20:\n",
    "    print(name,'你是非常可爱帅气迷人完美的最好诠释的金牛座！')\n",
    "\n",
    "elif 5.21<=x<=6.21:\n",
    "    print(name,'你是非常有有完没完啊的双子座！')\n",
    "    \n",
    "elif 6.22<=x<=7.22:\n",
    "    print(name,'你是非常有有完没完啊的巨蟹座！')\n",
    "     \n",
    "elif 7.23<=x<=8.22:\n",
    "    print(name,'你是非常有有完没完啊的狮子座！')\n",
    "    \n",
    "elif 8.23<=x<=9.22:\n",
    "    print(name,'你是非常有有完没完啊的处女座！')\n",
    "    \n",
    "elif 9.23<=x<=10.23:\n",
    "    print(name,'你是非常有有完没完啊的天秤座！')\n",
    "    \n",
    "elif 10.24<=x<=11.22:\n",
    "    print(name,'你是非常有有完没完啊的天蝎座！')\n",
    "    \n",
    "elif 11.23<=x<=12.21:\n",
    "    print(name,'你是非常有有完没完啊的射手座！')\n",
    "    \n",
    "elif 12.22<=x<=1.19:\n",
    "    print(name,'你是非常有有完没完啊的摩羯座！')\n",
    "    \n",
    "elif 1.20<=x<=2.18:\n",
    "    print(name,'你是非常有有完没完啊的水瓶座！')\n",
    "    \n",
    "elif 2.19<=x<=3.20:\n",
    "    print(name,'你是非常终于完了啊啊的双鱼座！')\n",
    "#助教不要打我扣我分啊~\n",
    "#脸是什么我不要的：）\n",
    "\n"
   ]
  },
  {
   "cell_type": "code",
   "execution_count": 8,
   "metadata": {},
   "outputs": [
    {
     "name": "stdout",
     "output_type": "stream",
     "text": [
      "请输入一个整数，以回车结束。48\n",
      "请输入一个非零整数，以回车结束。21\n",
      "你想求啥玩意？求和填1 积填2 余数填3 其他填44\n",
      "2\n"
     ]
    }
   ],
   "source": [
    "m = int(input('请输入一个整数，以回车结束。'))\n",
    "n = int(input('请输入一个非零整数，以回车结束。'))\n",
    "Y = int(input('你想求啥玩意？求和填1 积填2 余数填3 其他填4'))\n",
    "\n",
    "if 0<Y<=1:\n",
    "    x=m+n\n",
    "    print(x)\n",
    "elif 1<Y<=2:\n",
    "    x=m*n\n",
    "    print(x)\n",
    "elif 2<Y<=3 and m>n:\n",
    "    x=m%n\n",
    "    print(x)\n",
    "elif 3<Y:\n",
    "    x=m//n\n",
    "    print(x)\n",
    "    \n"
   ]
  },
  {
   "cell_type": "code",
   "execution_count": 33,
   "metadata": {},
   "outputs": [
    {
     "name": "stdout",
     "output_type": "stream",
     "text": [
      "请输入一个英文单数形式名词，以回车结束。knife\n",
      "复数去f,fe变ves\n"
     ]
    }
   ],
   "source": [
    "m=input('请输入一个英文单数形式名词，以回车结束。')\n",
    "\n",
    "if m.endswith(('s','sh','ch')):\n",
    "    print('复数直接加es')\n",
    "    \n",
    "elif m.endswith('x'):  \n",
    "    print('复数直接加es')\n",
    "    \n",
    "elif m.endswith(('f','fe')):\n",
    "    print('复数去f,fe变ves')\n",
    "    \n",
    "else :\n",
    "    print('复数直接加s')\n",
    "   \n",
    "\n"
   ]
  },
  {
   "cell_type": "code",
   "execution_count": 43,
   "metadata": {
    "scrolled": true
   },
   "outputs": [
    {
     "name": "stdout",
     "output_type": "stream",
     "text": [
      "请输入一个英文单数形式名词，以回车结束。feoff\n",
      "veseovesves\n"
     ]
    }
   ],
   "source": [
    "m=input('请输入一个英文单数形式名词，以回车结束。')\n",
    "\n",
    "if m.endswith('f'):\n",
    "    print(m.replace('f','ves'))\n",
    "#助教，请问这个怎么才能在指定位置replace？\n"
   ]
  },
  {
   "cell_type": "code",
   "execution_count": 63,
   "metadata": {
    "scrolled": false
   },
   "outputs": [
    {
     "name": "stdout",
     "output_type": "stream",
     "text": [
      "5                                                                                                                                                                                                                                                             8\n"
     ]
    }
   ],
   "source": [
    "print('5','8', sep='                                                                                                                                                                                                                                                             ')\n",
    "#显示空行 是这个意思吗"
   ]
  }
 ],
 "metadata": {
  "kernelspec": {
   "display_name": "Python 3",
   "language": "python",
   "name": "python3"
  },
  "language_info": {
   "codemirror_mode": {
    "name": "ipython",
    "version": 3
   },
   "file_extension": ".py",
   "mimetype": "text/x-python",
   "name": "python",
   "nbconvert_exporter": "python",
   "pygments_lexer": "ipython3",
   "version": "3.6.2"
  }
 },
 "nbformat": 4,
 "nbformat_minor": 2
}
