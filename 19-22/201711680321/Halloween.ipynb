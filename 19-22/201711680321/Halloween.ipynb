{
 "cells": [
  {
   "cell_type": "code",
   "execution_count": 2,
   "metadata": {},
   "outputs": [
    {
     "name": "stdout",
     "output_type": "stream",
     "text": [
      "请输入一个数,以回车结束4\n",
      "请输入一个数,以回车结束3\n",
      "16\n"
     ]
    }
   ],
   "source": [
    "m=int(input('请输入一个数,以回车结束'))\n",
    "n=int(input('请输入一个数,以回车结束'))\n",
    "\n",
    "def my_sum(end):\n",
    "        i=0\n",
    "        total=0\n",
    "        while i<end:\n",
    "            i=i+1\n",
    "            total=total+i\n",
    "            \n",
    "        return total\n",
    "\n",
    "    \n",
    "\n",
    "def my_mul(end):\n",
    "        i=0\n",
    "        total_n=1\n",
    "        while i<end:\n",
    "            i=i+1\n",
    "            total_n=total_n*i\n",
    "        \n",
    "        return total_n\n",
    "if m>n:\n",
    "    print(my_sum(n)+my_sum(m))\n",
    "else:\n",
    "    print(my_mul(n)+my_mul(m))\n",
    "\n",
    "        "
   ]
  }
 ],
 "metadata": {
  "kernelspec": {
   "display_name": "Python 3",
   "language": "python",
   "name": "python3"
  },
  "language_info": {
   "codemirror_mode": {
    "name": "ipython",
    "version": 3
   },
   "file_extension": ".py",
   "mimetype": "text/x-python",
   "name": "python",
   "nbconvert_exporter": "python",
   "pygments_lexer": "ipython3",
   "version": "3.6.2"
  }
 },
 "nbformat": 4,
 "nbformat_minor": 2
}
