{
 "cells": [
  {
   "cell_type": "code",
   "execution_count": 1,
   "metadata": {
    "scrolled": true
   },
   "outputs": [
    {
     "name": "stdout",
     "output_type": "stream",
     "text": [
      "输入行数5\n",
      "符号*\n",
      "          *****\n",
      "        * *****\n",
      "      * * *****\n",
      "    * * * *****\n",
      "  * * * * *****\n",
      "* * * * * *****\n"
     ]
    }
   ],
   "source": [
    "def f(s):\n",
    "    for i in range(m+1):\n",
    "        for k in range(0,m-i):\n",
    "            print(' ',end=' ')\n",
    "        for l in range(m-i,m):\n",
    "            print(x,end=' ')\n",
    "    \n",
    "        print(x*m,end='')\n",
    "        print()\n",
    "        \n",
    "m=int(input('输入行数'))\n",
    "x=input('符号')\n",
    "f(x)"
   ]
  },
  {
   "cell_type": "code",
   "execution_count": 2,
   "metadata": {},
   "outputs": [
    {
     "name": "stdout",
     "output_type": "stream",
     "text": [
      "输入行数5\n",
      "符号*\n",
      "\n",
      "* \n",
      "* * \n",
      "* * * \n",
      "* * * * \n",
      "* * * * * \n"
     ]
    }
   ],
   "source": [
    "def f(s):\n",
    "    for i in range(m+1):\n",
    "        for j in range(m-i,m):\n",
    "            print(x,end=' ')\n",
    "        print()\n",
    "m=int(input('输入行数'))\n",
    "x=input('符号')\n",
    "f(x)"
   ]
  },
  {
   "cell_type": "code",
   "execution_count": 3,
   "metadata": {},
   "outputs": [
    {
     "name": "stdout",
     "output_type": "stream",
     "text": [
      "输入行数5\n",
      "符号*\n",
      "*****\n",
      "*****\n",
      "*****\n",
      "*****\n",
      "*****\n"
     ]
    }
   ],
   "source": [
    "def f(s):\n",
    "    for i in range(m):\n",
    "        print(x*m,end='')\n",
    "        print()\n",
    "        \n",
    "m=int(input('输入行数'))\n",
    "x=input('符号')\n",
    "f(x)"
   ]
  },
  {
   "cell_type": "code",
   "execution_count": 4,
   "metadata": {},
   "outputs": [
    {
     "ename": "SyntaxError",
     "evalue": "invalid syntax (<ipython-input-4-e8766961a672>, line 4)",
     "output_type": "error",
     "traceback": [
      "\u001b[1;36m  File \u001b[1;32m\"<ipython-input-4-e8766961a672>\"\u001b[1;36m, line \u001b[1;32m4\u001b[0m\n\u001b[1;33m    n=\u001b[0m\n\u001b[1;37m      ^\u001b[0m\n\u001b[1;31mSyntaxError\u001b[0m\u001b[1;31m:\u001b[0m invalid syntax\n"
     ]
    }
   ],
   "source": [
    "def A(m,n):\n",
    "    while m>=0:\n",
    "        m=m-1\n",
    "        n=1\n",
    "    while m=0:\n",
    "        A=n+1\n",
    "    break\n",
    "m=int(input())\n",
    "n=int(input())"
   ]
  },
  {
   "cell_type": "code",
   "execution_count": null,
   "metadata": {},
   "outputs": [],
   "source": [
    "import random\n",
    "n=int(input('一共出的题数'))\n",
    "a=int(input('下限'))\n",
    "b=int(input('上限'))\n",
    "\n",
    "i=0\n",
    "while i<n:\n",
    "    x=random.randint(a,b+1)\n",
    "    y=random.randint(a,b+1)\n",
    "    m=random.randint(1,6)\n",
    "    print(m)\n",
    "    if 1<m<=2:\n",
    "        while x+y>0:\n",
    "            print('求',x,'+',y,'=')\n",
    "    if 2<m<=3:\n",
    "        while x-y>0:\n",
    "            print('求',x,'-',y,'=')\n",
    "    if 3<m<=4:\n",
    "        while x*y>0:\n",
    "            print('求',x,'x',y,'=')\n",
    "    if 4<m<=5:\n",
    "        while x%y>=0 and x>y:\n",
    "            print('求',x,'/',y,'=')\n",
    "    i+=1\n",
    "            \n",
    "            \n"
   ]
  },
  {
   "cell_type": "code",
   "execution_count": null,
   "metadata": {},
   "outputs": [],
   "source": [
    "\n",
    "i1=x+y\n",
    "i2=x-y\n",
    "i3=x*y\n",
    "i4=x/y\n",
    "\n",
    "while 1<m<=3:\n",
    "    if ans==i1 or ans==i2:\n",
    "        score1+=5\n",
    "    else:\n",
    "        score1+=0\n",
    "while 3<m<=5:\n",
    "    if ans==i3 or ans==i4:\n",
    "        score2+=10\n",
    "    else:\n",
    "        score2+=0\n",
    "score=sum(score1,score2)\n",
    "print(score)\n",
    "ans=int(input('你所有的答案：'))  "
   ]
  },
  {
   "cell_type": "code",
   "execution_count": null,
   "metadata": {
    "scrolled": true
   },
   "outputs": [],
   "source": [
    "import random\n",
    "n=int(input('一共出的题数'))\n",
    "i=0\n",
    "score1=0\n",
    "score2=0\n",
    "\n",
    "while i<n:\n",
    "    m=int(input('你要算？'))\n",
    "    x=int(input(''))\n",
    "    y=int(input(''))\n",
    "\n",
    "    if 1<m<=2:\n",
    "        print('x+y=',x+y)\n",
    "    if 2<m<=3:\n",
    "        print('x-y=',x-y)\n",
    "    if 3<m<=4:\n",
    "        print('x*y=',x*y)\n",
    "    if 4<m<=5:\n",
    "        print('x÷y=',x/y)\n",
    "    i+=1\n",
    "        \n",
    "i1=x+y\n",
    "i2=x-y\n",
    "i3=x*y\n",
    "i4=x/y\n",
    "\n",
    "while 1<m<=3:\n",
    "    if x+y==i1 or x-y==i2:\n",
    "        score1+=5\n",
    "    else:\n",
    "        score1+=0\n",
    "while 3<m<=5:\n",
    "    if x*y==i3 or x/y==i4:\n",
    "        score2+=10\n",
    "    else:\n",
    "        score2+=0\n",
    "score=sum(score1,score2)\n",
    "print(score)    "
   ]
  },
  {
   "cell_type": "code",
   "execution_count": null,
   "metadata": {},
   "outputs": [],
   "source": [
    "A=[]\n",
    "with open (r'd:\\temp\\成语大全(含成语解释)',encoding='utf-8') as f:\n",
    "    for line in f:\n",
    "        words=[word.split('拼音')[0] for word in line.split()]\n",
    "        for word in words:\n",
    "            if len(word)==4:\n",
    "                A.append(item)\n",
    "                break\n",
    "                \n",
    "print(A)"
   ]
  },
  {
   "cell_type": "code",
   "execution_count": null,
   "metadata": {},
   "outputs": [],
   "source": [
    "def count_words_freq(filename):\n",
    "    word_freq_pairs = []\n",
    "    \n",
    "    with open(filename) as f:\n",
    "        for line in f:\n",
    "            words = [word.split('/')[0] for word in line.split()]\n",
    "            for word in words:\n",
    "                for item in word_freq_pairs:\n",
    "                    if word == item[0]:\n",
    "                        item[1] += 1\n",
    "                        break\n",
    "                else:\n",
    "                    word_freq_pairs.append([word, 1])\n",
    "                    \n",
    "    return word_freq_pairs\n",
    "\n",
    "filename = r'd:\\temp\\test.txt'\n",
    "table = count_words_freq(filename)\n",
    "print(table[:20:-1])\n",
    "    \n"
   ]
  },
  {
   "cell_type": "code",
   "execution_count": null,
   "metadata": {},
   "outputs": [],
   "source": [
    "def count_cxs_freq(filename):\n",
    "    cx_freq_pairs = []\n",
    "    \n",
    "    with open(filename) as f:\n",
    "        for line in f:\n",
    "            cxs = [cx.split('/')[-1] for cx in line.split()]\n",
    "            for cx in cxs:\n",
    "                for item in cx_freq_pairs:\n",
    "                    if cx == item[0]:\n",
    "                        item[1] += 1\n",
    "                        break\n",
    "                else:\n",
    "                    cx_freq_pairs.append([cx, 1])\n",
    "                    \n",
    "    return cx_freq_pairs\n",
    "\n",
    "filename = r'd:\\temp\\test.txt'\n",
    "table = count_cxs_freq(filename)\n",
    "print(table)\n",
    "    "
   ]
  },
  {
   "cell_type": "code",
   "execution_count": null,
   "metadata": {},
   "outputs": [],
   "source": [
    "def count_words(filename):\n",
    "    word_pairs = []\n",
    "    \n",
    "    with open(filename) as f:\n",
    "        for line in f:\n",
    "            words= [word.split('/')[-1] for word in line.split()]\n",
    "            if 'nr'==words:\n",
    "                for word in words:\n",
    "                    for item in word_pairs:\n",
    "                        if word == item[0]:\n",
    "                            item[1] += 1\n",
    "                            break\n",
    "                    else:\n",
    "                        word_pairs.append([word])\n",
    "                    \n",
    "    return word_pairs\n",
    "\n",
    "filename = r'd:\\temp\\test.txt'\n",
    "table = count_words(filename)\n",
    "print(table)\n",
    "    "
   ]
  },
  {
   "cell_type": "code",
   "execution_count": null,
   "metadata": {
    "collapsed": true
   },
   "outputs": [],
   "source": []
  },
  {
   "cell_type": "code",
   "execution_count": null,
   "metadata": {
    "collapsed": true
   },
   "outputs": [],
   "source": []
  },
  {
   "cell_type": "code",
   "execution_count": null,
   "metadata": {
    "collapsed": true
   },
   "outputs": [],
   "source": []
  }
 ],
 "metadata": {
  "kernelspec": {
   "display_name": "Python 3",
   "language": "python",
   "name": "python3"
  },
  "language_info": {
   "codemirror_mode": {
    "name": "ipython",
    "version": 3
   },
   "file_extension": ".py",
   "mimetype": "text/x-python",
   "name": "python",
   "nbconvert_exporter": "python",
   "pygments_lexer": "ipython3",
   "version": "3.6.2"
  }
 },
 "nbformat": 4,
 "nbformat_minor": 2
}
