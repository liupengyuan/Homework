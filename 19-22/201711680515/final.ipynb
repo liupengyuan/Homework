{
 "cells": [
  {
   "cell_type": "code",
   "execution_count": 1,
   "metadata": {},
   "outputs": [
    {
     "name": "stdout",
     "output_type": "stream",
     "text": [
      "请输入一个符号:*\n",
      "请输入行数：5\n",
      "        * ***** *\n",
      "      * * ***** * *\n",
      "    * * * ***** * * *\n",
      "  * * * * ***** * * * *\n",
      "* * * * * ***** * * * * *\n"
     ]
    }
   ],
   "source": [
    "def a():\n",
    "    n=input('请输入一个符号:')\n",
    "    m=int(input('请输入行数：'))\n",
    "    i=1\n",
    "    while i<=m:\n",
    "        print(' '*(m - i)*2 + (n +' ')*i + n * m +(' '+ n)*i)\n",
    "        i=i+1\n",
    "a()"
   ]
  },
  {
   "cell_type": "code",
   "execution_count": null,
   "metadata": {},
   "outputs": [
    {
     "name": "stdout",
     "output_type": "stream",
     "text": [
      "请输入一个数3\n",
      "请输入一个数4\n"
     ]
    }
   ],
   "source": [
    "def A(m,n):\n",
    "    m=int(input('请输入一个数'))\n",
    "    n=int(input('请输入一个数'))\n",
    "    if m==0:\n",
    "        end=n+1\n",
    "    elif m>0 and n==0:\n",
    "        while m>0:\n",
    "            m=m-1\n",
    "            n=1\n",
    "        end=n+1\n",
    "    elif m>0 and n>0:\n",
    "        while m>0:\n",
    "            m=m-1\n",
    "            n=love(m,n-1)\n",
    "    print(end)\n",
    "love(3,4)"
   ]
  },
  {
   "cell_type": "code",
   "execution_count": 1,
   "metadata": {},
   "outputs": [
    {
     "name": "stdout",
     "output_type": "stream",
     "text": [
      "请输入题目的个数15\n",
      "请输入题目的上限25\n",
      "请输入题目的下限3\n",
      "11 * 13 =\n",
      "请输入您的答案120\n",
      "24 + 22 =\n",
      "请输入您的答案46\n",
      "18 / 16 =\n",
      "请输入您的答案1\n",
      "14 / 17 =\n",
      "请输入您的答案0\n",
      "12 - 11 =\n",
      "请输入您的答案1\n",
      "18 * 20 =\n",
      "请输入您的答案360\n",
      "16 - 4 =\n",
      "请输入您的答案12\n",
      "45\n"
     ]
    }
   ],
   "source": [
    "import random\n",
    "n=int(input('请输入题目的个数'))\n",
    "b=int(input('请输入题目的上限'))\n",
    "a=int(input('请输入题目的下限'))\n",
    "end=0\n",
    "total=0\n",
    "while end<n:\n",
    "    m=random.randint(a,b)\n",
    "    n=random.randint(a,b)\n",
    "    p=random.randint(1,4)\n",
    "    end+=1\n",
    "    if 1<=p<2:\n",
    "        out1=m+n\n",
    "        print(m,'+',n,'=')\n",
    "        answer=int(input('请输入您的答案'))\n",
    "        if answer==out1:\n",
    "            total+=5\n",
    "    if 2<=p<3:\n",
    "        out2=m-n\n",
    "        print(m,'-',n,'=')\n",
    "        answer=int(input('请输入您的答案'))\n",
    "        if answer==out2:\n",
    "            total+=5                    \n",
    "    if 3<=p<4:\n",
    "        out3=m*n\n",
    "        print(m,'*',n,'=')\n",
    "        answer=int(input('请输入您的答案'))\n",
    "        if answer==out3:\n",
    "            total+=10   \n",
    "    if 4<=p<5:\n",
    "        out4=int(m/n)\n",
    "        print(m,'/',n,'=')\n",
    "        answer=int(input('请输入您的答案'))\n",
    "        if answer==out4:\n",
    "            total+=10  \n",
    "print(total)    "
   ]
  },
  {
   "cell_type": "code",
   "execution_count": 2,
   "metadata": {},
   "outputs": [
    {
     "name": "stdout",
     "output_type": "stream",
     "text": [
      "请输入题目的个数15\n",
      "请输入一个在3和25之间的正整数4\n",
      "请输入一个在3和25之间的正整数6\n",
      "请输入1到4之间的一个整数,1代表m+n,2代表m*n，3代表m/n，4代表m-n4\n",
      "-2\n",
      "请输入一个在3和25之间的正整数22\n",
      "请输入一个在3和25之间的正整数12\n",
      "请输入1到4之间的一个整数,1代表m+n,2代表m*n，3代表m/n，4代表m-n2\n",
      "264\n",
      "请输入一个在3和25之间的正整数23\n",
      "请输入一个在3和25之间的正整数1\n",
      "请输入1到4之间的一个整数,1代表m+n,2代表m*n，3代表m/n，4代表m-n2\n",
      "23\n",
      "请输入一个在3和25之间的正整数3\n",
      "请输入一个在3和25之间的正整数2\n",
      "请输入1到4之间的一个整数,1代表m+n,2代表m*n，3代表m/n，4代表m-n4\n",
      "1\n",
      "请输入一个在3和25之间的正整数1\n",
      "请输入一个在3和25之间的正整数3\n",
      "请输入1到4之间的一个整数,1代表m+n,2代表m*n，3代表m/n，4代表m-n2\n",
      "3\n",
      "请输入一个在3和25之间的正整数3\n",
      "请输入一个在3和25之间的正整数4\n",
      "请输入1到4之间的一个整数,1代表m+n,2代表m*n，3代表m/n，4代表m-n4\n",
      "-1\n",
      "请输入一个在3和25之间的正整数12\n",
      "请输入一个在3和25之间的正整数3\n",
      "请输入1到4之间的一个整数,1代表m+n,2代表m*n，3代表m/n，4代表m-n2\n",
      "36\n",
      "请输入一个在3和25之间的正整数12\n",
      "请输入一个在3和25之间的正整数133\n",
      "请输入1到4之间的一个整数,1代表m+n,2代表m*n，3代表m/n，4代表m-n2\n",
      "1596\n",
      "65\n"
     ]
    }
   ],
   "source": [
    "import random\n",
    "p=int(input('请输入题目的个数'))\n",
    "total=0\n",
    "while end<p:\n",
    "    m=int(input('请输入一个在3和25之间的正整数'))\n",
    "    n=int(input('请输入一个在3和25之间的正整数'))\n",
    "    i=int(input(\"请输入1到4之间的一个整数,1代表m+n,2代表m*n，3代表m/n，4代表m-n\"))\n",
    "    end+=1\n",
    "    if 1<=i<2:\n",
    "        print(m+n)\n",
    "        total+=5\n",
    "    elif 2<=i<3:\n",
    "        print(m*n)\n",
    "        total+=10\n",
    "    elif 3<=i<4:\n",
    "        print(m/n)\n",
    "        total+=10\n",
    "    elif 4<=i:\n",
    "        print(m-n)\n",
    "        total+=5\n",
    "print(total)"
   ]
  },
  {
   "cell_type": "code",
   "execution_count": 3,
   "metadata": {},
   "outputs": [
    {
     "ename": "SyntaxError",
     "evalue": "invalid syntax (<ipython-input-3-cb41fcf2783a>, line 1)",
     "output_type": "error",
     "traceback": [
      "\u001b[1;36m  File \u001b[1;32m\"<ipython-input-3-cb41fcf2783a>\"\u001b[1;36m, line \u001b[1;32m1\u001b[0m\n\u001b[1;33m    with open(r'C:\\Users\\HP\\Desktop\\成语大全.txt,encoding = 'utf-8') as f:\u001b[0m\n\u001b[1;37m                                                           ^\u001b[0m\n\u001b[1;31mSyntaxError\u001b[0m\u001b[1;31m:\u001b[0m invalid syntax\n"
     ]
    }
   ],
   "source": [
    "with open(r'C:\\Users\\HP\\Desktop\\成语大全.txt,encoding = 'utf-8') as f:\n",
    "    fh=open(r'C:\\Users\\HP\\Desktop\\成语大全.txt,encoding = 'utf-8', 'w')\n",
    "    text = fh.read()\n",
    "    fh.close()\n",
    "    text = text.replace('、', '')\n",
    "    listA= text.split('\\\\n')"
   ]
  },
  {
   "cell_type": "code",
   "execution_count": null,
   "metadata": {
    "collapsed": true
   },
   "outputs": [],
   "source": [
    "with open(r'C:\\Users\\HP\\Desktop\\成语大全.txt,encoding = 'utf-8') as f:\n",
    "    fh=open(r'C:\\Users\\HP\\Desktop\\成语大全.txt,encoding = 'utf-8', 'w')\n",
    "    text = fh.read()\n",
    "    fh.close()\n",
    "    text = text.replace('、', '')\n",
    "    listA= text.split('\\\\n')\n",
    "dict={}\n",
    "for m in listA:\n",
    "    if m not in dict:\n",
    "        dict[m]=1\n",
    "    else:\n",
    "        dict[m]+=1\n",
    "\n",
    "for key in sorted(dict.keys()):\n",
    "    print(key, dict[key])"
   ]
  },
  {
   "cell_type": "code",
   "execution_count": null,
   "metadata": {
    "collapsed": true
   },
   "outputs": [],
   "source": [
    "from collections import defaultdict\n",
    "with open(r'C:\\Users\\HP\\Desktop\\语料.txt') as fh:\n",
    "    text = fh.read()\n",
    "    words = [word.split('/') for word in text.split()]\n",
    "    table=[word[0] for word in words]\n",
    "    words_freq_dict = defaultdict(int)\n",
    "for word in table:\n",
    "    words_freq_dict[word] += 1\n",
    "print(words_freq_dict)"
   ]
  },
  {
   "cell_type": "code",
   "execution_count": null,
   "metadata": {
    "collapsed": true
   },
   "outputs": [],
   "source": [
    "from collections import defaultdict\n",
    "with open(r'C:\\Users\\HP\\Desktop\\语料.txt') as fh:\n",
    "    text = fh.read()\n",
    "    words = [word.split('/') for word in text.split()]\n",
    "    table=[word[0] for word in words]\n",
    "    words_freq_dict = defaultdict(int)\n",
    "for word in table:\n",
    "    words_freq_dict[word] += 1\n",
    "print(words_freq_dict)\n",
    "def get_word_table(filename):\n",
    "    word_table = []\n",
    "    with open(filename) as f:\n",
    "        text = f.read()\n",
    "    words = [word.split('/')[0] for word in text.split()]\n",
    "    for word in words:\n",
    "        if word not in word_table:\n",
    "            word_table.append(word)\n",
    "    return word_table\n",
    "\n",
    "filename = r'C:\\Users\\HP\\Desktop\\语料.txt'\n",
    "table = get_word_table(filename)\n",
    "print(table[:100])"
   ]
  },
  {
   "cell_type": "code",
   "execution_count": null,
   "metadata": {
    "collapsed": true
   },
   "outputs": [],
   "source": [
    "def get_word_table(filename):\n",
    "    word_table = []\n",
    "    with open(filename) as f:\n",
    "        text = f.read()\n",
    "    words = [word.split('/')[0] for word in text.split()]\n",
    "    for word in words:\n",
    "        if word not in word_table:\n",
    "            word_table.append(word)\n",
    "    return word_table\n",
    "\n",
    "filename = C:\\Users\\HP\\Desktop\\成语大全.txt,encoding = 'utf-8'\n",
    "table = get_word_table(filename)\n",
    "print(table[:100])\n",
    "def count_words_freq(filename):\n",
    "  \n",
    "    word_freq_pairs = []\n",
    "    \n",
    "    with open(filename) as f:\n",
    "        text = f.read()\n",
    "        \n",
    "    words = [word.split('/')[0] for word in text.split()]\n",
    "    for word in words:\n",
    "        for item in word_freq_pairs:\n",
    "            if word == item[0]:\n",
    "                item[1] += 1\n",
    "                break\n",
    "        else:\n",
    "            word_freq_pairs.append([word, 1])\n",
    "            \n",
    "    return word_freq_pairs\n",
    "filename = r'C:\\Users\\HP\\Desktop\\语料.txt'\n",
    "table = count_words_freq(filename)\n",
    "print(len(table[:100]))\n"
   ]
  },
  {
   "cell_type": "code",
   "execution_count": null,
   "metadata": {
    "collapsed": true
   },
   "outputs": [],
   "source": [
    "import random\n",
    "fh = open(r'C:\\Users\\HP\\Desktop\\成语大全.txt,encoding = 'utf-8')\n",
    "text = fh.read()\n",
    "fh.close()\n",
    "text = text.replace('、', '')\n",
    "chengyudaquan = text.split('\\\\n')\n",
    "chengyu= random.choice(chengyudaquan)\n",
    "print(chengyu)\n",
    "with open(r'C:\\Users\\HP\\Desktop\\语料.txt') as fh1:\n",
    "    text1 = fh1.read()\n",
    "    words = [word.split('/') for word in text1.split()]\n",
    "\n",
    "def chengyujielong(chengyu):\n",
    "    scorehuman=0\n",
    "    scorecomputer=0\n",
    "    final=chengyu[len(chengyu)-1:len(chengyu)+1]\n",
    "    i=0\n",
    "    human=str(input('请输入一个成语'))\n",
    "    while i<=30:\n",
    "        if human[0:1:1]==final:\n",
    "            print('恭喜您！接对了！')\n",
    "            scorehuman+=10\n",
    "            line=[]\n",
    "            for computer in words:\n",
    "                if computer[0:1:1]==people[len(people)-1:len(people)+1]:\n",
    "                    final=computer[len(computer)-1:len(computer)+1]\n",
    "                    line.append(computer)\n",
    "            if len(line)!=0:\n",
    "                print(line[-1])\n",
    "                scorecomputer+=10\n",
    "                human=str(input('请输入一个成语'))\n",
    "            elif len(line)==0:\n",
    "                human='error'\n",
    "                print('计算机答错了！游戏结束！')\n",
    "                print('计算机得分为：',scorecomputer,'您的得分为：',scorehuman)\n",
    "        elif human=='error':\n",
    "            print()\n",
    "        else:\n",
    "            print('您答错了！游戏结束！')\n",
    "            print('计算机得分为：',scorecomputer,'您的得分为：',scorehuman)\n",
    "            break\n",
    "        i+=1\n",
    "        \n",
    "chengyujielong(chengyu)\n"
   ]
  }
 ],
 "metadata": {
  "kernelspec": {
   "display_name": "Python 3",
   "language": "python",
   "name": "python3"
  },
  "language_info": {
   "codemirror_mode": {
    "name": "ipython",
    "version": 3
   },
   "file_extension": ".py",
   "mimetype": "text/x-python",
   "name": "python",
   "nbconvert_exporter": "python",
   "pygments_lexer": "ipython3",
   "version": "3.6.2"
  }
 },
 "nbformat": 4,
 "nbformat_minor": 2
}
