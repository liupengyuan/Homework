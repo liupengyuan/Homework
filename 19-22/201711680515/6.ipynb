{
 "cells": [
  {
   "cell_type": "code",
   "execution_count": 3,
   "metadata": {},
   "outputs": [
    {
     "name": "stdout",
     "output_type": "stream",
     "text": [
      "请输入你想输入数字的个数3\n",
      "请输入你想输入的数字4\n",
      "请输入你想输入的数字5\n",
      "请输入你想输入的数字6\n",
      "[4, 5, 6]\n",
      "请输入一个元素4\n",
      "位置是： 1\n"
     ]
    }
   ],
   "source": [
    "def love():\n",
    "    numbers=[]\n",
    "    i=0\n",
    "    n=int(input('请输入你想输入数字的个数'))\n",
    "    \n",
    "    while i<n:\n",
    "        number=int(input('请输入你想输入的数字'))\n",
    "        numbers.append(number)\n",
    "        i+=1\n",
    "    print(numbers)\n",
    "    pkq=int(input('请输入一个元素'))\n",
    "    if pkq in numbers:\n",
    "        m= numbers.index(pkq)\n",
    "        print('位置是：',m+1)\n",
    "    elif pkq not in numbers:\n",
    "        print(-1)           \n",
    "love()                "
   ]
  },
  {
   "cell_type": "code",
   "execution_count": 6,
   "metadata": {},
   "outputs": [
    {
     "name": "stdout",
     "output_type": "stream",
     "text": [
      "请输入你想输入的数字的个数3\n",
      "请输入你想输入第一个数列的数字2\n",
      "请输入你想输入第一个数列的数字4\n",
      "请输入你想输入第一个数列的数字5\n",
      "请输入你想输入第二个数列的数字6\n",
      "请输入你想输入第二个数列的数字7\n",
      "请输入你想输入第二个数列的数字1\n",
      "[2, 6, 4, 7, 5, 1]\n"
     ]
    }
   ],
   "source": [
    "def pkq():\n",
    "    numbers1=[]\n",
    "    numbers2=[]\n",
    "    numbers=[]\n",
    "    i=0\n",
    "    m=0\n",
    "    n=int(input('请输入你想输入的数字的个数'))\n",
    "    while i<n:\n",
    "        number1=int(input('请输入你想输入第一个数列的数字'))\n",
    "        numbers1.append(number1)\n",
    "        i+=1\n",
    "    while m<n:\n",
    "        number2=int(input('请输入你想输入第二个数列的数字'))\n",
    "        numbers2.append(number2)\n",
    "        m+=1\n",
    "    i=0\n",
    "    m=0\n",
    "    while i<n and m<n:\n",
    "        numbers.append(numbers1[i])\n",
    "        numbers.append(numbers2[m])\n",
    "        m+=1\n",
    "        i+=1\n",
    "    print(numbers)\n",
    "pkq()"
   ]
  },
  {
   "cell_type": "code",
   "execution_count": 7,
   "metadata": {},
   "outputs": [
    {
     "name": "stdout",
     "output_type": "stream",
     "text": [
      "x1=3\n",
      "y1=4\n",
      "x2=5\n",
      "y2=6\n",
      "0.9986876634765887\n"
     ]
    }
   ],
   "source": [
    "def dear():\n",
    "    x1=int(input('x1='))\n",
    "    y1=int(input('y1='))\n",
    "    x2=int(input('x2='))\n",
    "    y2=int(input('y2='))\n",
    "    n=x1*x2+y1*y2\n",
    "    m=(x1**2+y1**2)**(1/2)\n",
    "    i=(x2**2+y2**2)**(1/2)\n",
    "    cos=n/(m*i)\n",
    "    print(cos)\n",
    "dear()"
   ]
  },
  {
   "cell_type": "code",
   "execution_count": 25,
   "metadata": {},
   "outputs": [
    {
     "name": "stdout",
     "output_type": "stream",
     "text": [
      "3741\n"
     ]
    }
   ],
   "source": [
    "i=0\n",
    "for a in range(100):\n",
    "    for b in range(100):\n",
    "        c=100-a-b\n",
    "        if a+b+c==100 and a>=5 and b>=5 and c>=5:\n",
    "            i+=1\n",
    "print(i)\n",
    "            "
   ]
  }
 ],
 "metadata": {
  "kernelspec": {
   "display_name": "Python 3",
   "language": "python",
   "name": "python3"
  },
  "language_info": {
   "codemirror_mode": {
    "name": "ipython",
    "version": 3
   },
   "file_extension": ".py",
   "mimetype": "text/x-python",
   "name": "python",
   "nbconvert_exporter": "python",
   "pygments_lexer": "ipython3",
   "version": "3.6.2"
  }
 },
 "nbformat": 4,
 "nbformat_minor": 2
}
