{
 "cells": [
  {
   "cell_type": "code",
   "execution_count": 1,
   "metadata": {},
   "outputs": [
    {
     "name": "stdout",
     "output_type": "stream",
     "text": [
      "请输入你的名字jane\n",
      "请输入你的生日，格式例如06010601\n",
      "jane 你是双子座\n"
     ]
    }
   ],
   "source": [
    "n=input(\"请输入你的名字\")\n",
    "m=int(input(\"请输入你的生日，格式例如0601\"))\n",
    "if 321<=m<=419:\n",
    "    print(n,\"你是白羊座\")\n",
    "elif 420<=m<=520:\n",
    "    print(n,\"你是金牛座\")\n",
    "elif 521<=m<=621:\n",
    "    print(n,\"你是双子座\")\n",
    "elif 622<=m<=722:\n",
    "    print(n,\"你是巨蟹座\")\n",
    "elif 723<=m<=822:\n",
    "    print(n,\"你是狮子座\")\n",
    "elif 823<=m<=922:\n",
    "    print(n,\"你是处女座\")\n",
    "elif 923<=m<=1023:\n",
    "    print(n,\"你是天秤座\")\n",
    "elif 1024<=m<=1122:\n",
    "    print(n,\"你是天蝎座\")\n",
    "elif 1123<=m<=1221:\n",
    "    print(n,\"你是射手座\")\n",
    "elif m>=1222 or m<=119:\n",
    "    print(n,\"你是摩羯座\")\n",
    "elif 120<=m<=218:\n",
    "    print(n,\"你是水瓶座\")\n",
    "elif 219<=m<=320:\n",
    "    print(n,\"你是双鱼座\")"
   ]
  },
  {
   "cell_type": "code",
   "execution_count": 2,
   "metadata": {},
   "outputs": [
    {
     "name": "stdout",
     "output_type": "stream",
     "text": [
      "7\n",
      "n不等于08\n",
      "请输入1到4之间的一个整数,1代表m+n,2代表m*n，3代表m除以n的余数，4代表m整除n的值1\n",
      "15\n"
     ]
    }
   ],
   "source": [
    "m=int(input())\n",
    "n=int(input(\"n不等于0\"))\n",
    "i=int(input(\"请输入1到4之间的一个整数,1代表m+n,2代表m*n，3代表m除以n的余数，4代表m整除n的值\"))\n",
    "if 1<=i<2:\n",
    "    print(m+n)\n",
    "elif 2<=i<3:\n",
    "    print(m*n)\n",
    "elif 3<=i<4:\n",
    "    print(m%n)\n",
    "elif 4<=i:\n",
    "    print(m//n)"
   ]
  },
  {
   "cell_type": "code",
   "execution_count": 22,
   "metadata": {},
   "outputs": [
    {
     "name": "stdout",
     "output_type": "stream",
     "text": [
      "请输入一个单词单数pumpkin\n",
      "pumpkins\n"
     ]
    }
   ],
   "source": [
    "n=input('请输入一个单词单数')\n",
    "print(n+'s')"
   ]
  },
  {
   "cell_type": "code",
   "execution_count": 20,
   "metadata": {},
   "outputs": [
    {
     "name": "stdout",
     "output_type": "stream",
     "text": [
      "\n",
      "\n",
      "\n",
      "\n",
      "\n"
     ]
    }
   ],
   "source": [
    "print('\\n'*4)"
   ]
  }
 ],
 "metadata": {
  "kernelspec": {
   "display_name": "Python 3",
   "language": "python",
   "name": "python3"
  },
  "language_info": {
   "codemirror_mode": {
    "name": "ipython",
    "version": 3
   },
   "file_extension": ".py",
   "mimetype": "text/x-python",
   "name": "python",
   "nbconvert_exporter": "python",
   "pygments_lexer": "ipython3",
   "version": "3.5.2"
  }
 },
 "nbformat": 4,
 "nbformat_minor": 2
}
