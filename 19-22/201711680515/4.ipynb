{
 "cells": [
  {
   "cell_type": "code",
   "execution_count": 2,
   "metadata": {},
   "outputs": [
    {
     "name": "stdout",
     "output_type": "stream",
     "text": [
      "请输入第1个整数，以回车结束。5\n",
      "请输入第2个整数，以回车结束。2\n",
      "请输入第3个整数，以回车结束。3\n",
      "128\n"
     ]
    }
   ],
   "source": [
    "def compute_sum(end):\n",
    "    i = 0\n",
    "    total_n = 1\n",
    "\n",
    "    while i < end:\n",
    "        i = i + 1\n",
    "        total_n = total_n * i\n",
    "\n",
    "    return total_n\n",
    "n = int(input('请输入第1个整数，以回车结束。'))\n",
    "m = int(input('请输入第2个整数，以回车结束。'))\n",
    "k = int(input('请输入第3个整数，以回车结束。'))\n",
    "print(compute_sum(m) + compute_sum(n) + compute_sum(k))"
   ]
  },
  {
   "cell_type": "code",
   "execution_count": 14,
   "metadata": {},
   "outputs": [
    {
     "name": "stdout",
     "output_type": "stream",
     "text": [
      "3.140592653839794\n",
      "3.1415826535897198\n"
     ]
    }
   ],
   "source": [
    "def compute_sum(end):\n",
    "    i = 0\n",
    "    total_n = 0\n",
    "\n",
    "    while i < end:\n",
    "        i = i + 1\n",
    "        if i % 2 ==1:\n",
    "            total_n = total_n +1/(2*i-1)\n",
    "        elif i%2==0:\n",
    "            total_n = total_n -1/(2*i-1)\n",
    "    return 4*total_n\n",
    "\n",
    "print(compute_sum(1000))\n",
    "print(compute_sum(100000))"
   ]
  },
  {
   "cell_type": "code",
   "execution_count": 24,
   "metadata": {},
   "outputs": [
    {
     "name": "stdout",
     "output_type": "stream",
     "text": [
      "请输入你的名字:jane\n",
      "请输入你的出生月份:6\n",
      "请输入你的出生日期:1\n",
      "jane ，你是非常有性格的双子座！\n"
     ]
    }
   ],
   "source": [
    "def birthday(month,day):\n",
    "    if (month==3 and day>=21 and day<=31) or (month==4 and day>=1 and day<=19):\n",
    "        print(name,'，你是非常有性格的白羊座！')\n",
    "    elif (month==4 and day>=20 and day<=28) or (month==5 and day>=1 and day<=20):\n",
    "        print(name,'，你是非常有性格的金牛座！')\n",
    "    elif (month==5 and day>=21 and day<=31) or (month==6 and day>=1 and day<=21):\n",
    "        print(name,'，你是非常有性格的双子座！')\n",
    "    elif (month==6 and day>=22 and day<=30) or (month==7 and day>=1 and day<=22):\n",
    "        print(name,'，你是非常有性格的巨蟹座！')\n",
    "    elif (month==7 and day>=23 and day<=31) or (month==8 and day>=1 and day<=22):\n",
    "        print(name,'，你是非常有性格的狮子座！')\n",
    "    elif (month==8 and day>=23 and day<=31) or (month==9 and day>=1 and day<=22):\n",
    "        print(name,'，你是非常有性格的处女座！')\n",
    "    elif (month==9 and day>=22 and day<=30) or (month==10 and day>=1 and day<=23):\n",
    "        print(name,'，你是非常有性格的天秤座！')\n",
    "    elif (month==10 and day>=22 and day<=31) or (month==11 and day>=1 and day<=22):\n",
    "        print(name,'，你是非常有性格的天蝎座！')\n",
    "    elif (month==11 and day>=22 and day<=30) or (month==12 and day>=1 and day<=21):\n",
    "         print(name,'，你是非常有性格的射手座！')\n",
    "    elif (month==1 and day>=20 and day<=31) or (month==2 and day>=1 and day<=18):\n",
    "         print(name,'，你是非常有性格的水瓶座！')\n",
    "    elif (month==2 and day>=19 and day<=30) or (month==3 and day>=1 and day<=20):\n",
    "         print(name,'，你是非常有性格的双鱼座！')\n",
    "    elif (month==12 and day>=22 and day<=31) or (month==1 and day>=1 and day<=19):\n",
    "         print(name,'，你是非常有性格的摩羯座！')\n",
    "    else:\n",
    "         print('非法输入')\n",
    "            \n",
    "name=input('请输入你的名字:')\n",
    "month=int(input('请输入你的出生月份:'))\n",
    "day=int(input('请输入你的出生日期:'))\n",
    "birthday(month,day)       "
   ]
  },
  {
   "cell_type": "code",
   "execution_count": 14,
   "metadata": {},
   "outputs": [
    {
     "name": "stdout",
     "output_type": "stream",
     "text": [
      "请输入一个单词:tree\n",
      "trees\n"
     ]
    }
   ],
   "source": [
    "def compute_sum(n):\n",
    "    if n.endswith('s' or 'sh' or 'ch' or 'x'):\n",
    "        print(n+ 'es')\n",
    "    elif n.endswith('y'):    \n",
    "        print('去掉y加上ies')\n",
    "    elif n.endswith('f' or 'fe'):\n",
    "        print('去掉f加上ies')\n",
    "    else: \n",
    "        print(n+'s')\n",
    "        \n",
    "n=input('请输入一个单词:')\n",
    "compute_sum(n)"
   ]
  },
  {
   "cell_type": "code",
   "execution_count": null,
   "metadata": {
    "collapsed": true
   },
   "outputs": [],
   "source": []
  }
 ],
 "metadata": {
  "kernelspec": {
   "display_name": "Python 3",
   "language": "python",
   "name": "python3"
  },
  "language_info": {
   "codemirror_mode": {
    "name": "ipython",
    "version": 3
   },
   "file_extension": ".py",
   "mimetype": "text/x-python",
   "name": "python",
   "nbconvert_exporter": "python",
   "pygments_lexer": "ipython3",
   "version": "3.6.2"
  }
 },
 "nbformat": 4,
 "nbformat_minor": 2
}
