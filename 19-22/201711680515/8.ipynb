{
 "cells": [
  {
   "cell_type": "code",
   "execution_count": 1,
   "metadata": {},
   "outputs": [
    {
     "name": "stdout",
     "output_type": "stream",
     "text": [
     ]
    },
    {
     "name": "stdout",
     "output_type": "stream",
     "text": [
      "请输入一个成语唉声叹气\n",
      "您答错了！游戏结束！\n",
      "计算机得分为： 0 您的得分为： 0\n"
     ]
    }
   ],
   "source": [
    "import random\n",
    "fh = open(r'c:\\\\temp\\\\成语大全.txt')\n",
    "text = fh.read()\n",
    "fh.close()\n",
    "text = text.replace('、', '')\n",
    "chengyudaquan = text.split('\\\\n')\n",
    "chengyu= random.choice(chengyudaquan)\n",
    "print(chengyu)\n",
    "\n",
    "def chengyujielong(chengyu):\n",
    "    scorehuman=0\n",
    "    scorecomputer=0\n",
    "    final=chengyu[len(chengyu)-1:len(chengyu)+1]\n",
    "    i=0\n",
    "    human=str(input('请输入一个成语'))\n",
    "    while i<=30:\n",
    "        if human[0:1:1]==final:\n",
    "            print('恭喜您！接对了！')\n",
    "            scorehuman+=10\n",
    "            line=[]\n",
    "            for computer in chengyudaquan:\n",
    "                if computer[0:1:1]==people[len(people)-1:len(people)+1]:\n",
    "                    final=computer[len(computer)-1:len(computer)+1]\n",
    "                    line.append(computer)\n",
    "            if len(line)!=0:\n",
    "                print(line[-1])\n",
    "                scorecomputer+=10\n",
    "                human=str(input('请输入一个成语'))\n",
    "            elif len(line)==0:\n",
    "                human='error'\n",
    "                print('计算机答错了！游戏结束！')\n",
    "                print('计算机得分为：',scorecomputer,'您的得分为：',scorehuman)\n",
    "        elif human=='error':\n",
    "            print()\n",
    "        else:\n",
    "            print('您答错了！游戏结束！')\n",
    "            print('计算机得分为：',scorecomputer,'您的得分为：',scorehuman)\n",
    "            break\n",
    "        i+=1\n",
    "        \n",
    "chengyujielong(chengyu)               "
   ]
  },
  {
   "cell_type": "code",
   "execution_count": null,
   "metadata": {
    "collapsed": true
   },
   "outputs": [],
   "source": []
  },
  {
   "cell_type": "code",
   "execution_count": null,
   "metadata": {
    "collapsed": true
   },
   "outputs": [],
   "source": []
  },
  {
   "cell_type": "code",
   "execution_count": null,
   "metadata": {
    "collapsed": true
   },
   "outputs": [],
   "source": []
  }
 ],
 "metadata": {
  "kernelspec": {
   "display_name": "Python 3",
   "language": "python",
   "name": "python3"
  },
  "language_info": {
   "codemirror_mode": {
    "name": "ipython",
    "version": 3
   },
   "file_extension": ".py",
   "mimetype": "text/x-python",
   "name": "python",
   "nbconvert_exporter": "python",
   "pygments_lexer": "ipython3",
   "version": "3.6.2"
  }
 },
 "nbformat": 4,
 "nbformat_minor": 2
}
