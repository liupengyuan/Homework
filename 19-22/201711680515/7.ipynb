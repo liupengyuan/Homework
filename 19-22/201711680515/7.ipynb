{
 "cells": [
  {
   "cell_type": "code",
   "execution_count": 1,
   "metadata": {},
   "outputs": [
    {
     "name": "stdout",
     "output_type": "stream",
     "text": [
      "123456\n",
      "654321\n"
     ]
    }
   ],
   "source": [
    "def reverse(s):\n",
    "    line=s\n",
    "    print(line[::-1])\n",
    "s=str(input())\n",
    "reverse(s)"
   ]
  },
  {
   "cell_type": "code",
   "execution_count": 11,
   "metadata": {},
   "outputs": [
    {
     "name": "stdout",
     "output_type": "stream",
     "text": [
      "请输入您想要的符号：*\n",
      "请输入三角形的行数3\n",
      "直角三角形\n",
      "*\n",
      "**\n",
      "***\n",
      "等腰三角形\n",
      "  *\n",
      " ***\n",
      "*****\n",
      "其他三角形\n",
      "  *\n",
      " **\n",
      "***\n"
     ]
    }
   ],
   "source": [
    "def triangle(m,n):\n",
    "    i=0\n",
    "    print('直角三角形')\n",
    "    for i in range(1,n+1):\n",
    "        print(m*i)\n",
    "    print('等腰三角形')\n",
    "    for i in range(1,n+1):\n",
    "        print((n-i)*' '+m*(2*i-1))\n",
    "    print('其他三角形')\n",
    "    for i in range(1,n+1):\n",
    "        print((n-i)*' '+m*i)\n",
    "\n",
    "m=input('请输入您想要的符号：')\n",
    "n=int(input('请输入三角形的行数'))\n",
    "      \n",
    "triangle(m,n)          "
   ]
  },
  {
   "cell_type": "code",
   "execution_count": 14,
   "metadata": {},
   "outputs": [
    {
     "name": "stdout",
     "output_type": "stream",
     "text": [
      "请输入您想要的符号：*\n",
      "请输入菱形的行数4\n",
      "   *\n",
      "  ***\n",
      " *****\n",
      "*******\n",
      " *****\n",
      "  ***\n",
      "   *\n",
      "    \n"
     ]
    }
   ],
   "source": [
    "def diamond(m,n):\n",
    "    i=0\n",
    "    j=0\n",
    "    for i in range(1,n+1):\n",
    "        print((n-i)*' '+m*(2*i-1))\n",
    "    for j in range(n+1,2*n+1):\n",
    "        print((j-n)*' '+m*(2*(2*n-j)-1))\n",
    "m=input('请输入您想要的符号：')\n",
    "n=int(input('请输入菱形的行数'))\n",
    "diamond(m,n)"
   ]
  },
  {
   "cell_type": "code",
   "execution_count": null,
   "metadata": {
    "collapsed": true
   },
   "outputs": [],
   "source": []
  }
 ],
 "metadata": {
  "kernelspec": {
   "display_name": "Python 3",
   "language": "python",
   "name": "python3"
  },
  "language_info": {
   "codemirror_mode": {
    "name": "ipython",
    "version": 3
   },
   "file_extension": ".py",
   "mimetype": "text/x-python",
   "name": "python",
   "nbconvert_exporter": "python",
   "pygments_lexer": "ipython3",
   "version": "3.6.2"
  }
 },
 "nbformat": 4,
 "nbformat_minor": 2
}
