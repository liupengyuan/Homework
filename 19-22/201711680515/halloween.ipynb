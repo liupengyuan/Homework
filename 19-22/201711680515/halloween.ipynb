{
 "cells": [
  {
   "cell_type": "code",
   "execution_count": 3,
   "metadata": {
    "collapsed": false
   },
   "outputs": [
    {
     "name": "stdout",
     "output_type": "stream",
     "text": [
      "请输入一个数字5\n",
      "15\n"
     ]
    }
   ],
   "source": [
    "n=int(input('请输入一个数字'))\n",
    "def my_sum(n):\n",
    "    i = 0\n",
    "    total_n = 0\n",
    "    while i < n:\n",
    "        i = i + 1\n",
    "        total_n = total_n + i\n",
    "    return total_n  \n",
    "print(my_sum(n))"
   ]
  },
  {
   "cell_type": "code",
   "execution_count": 7,
   "metadata": {
    "collapsed": false
   },
   "outputs": [
    {
     "name": "stdout",
     "output_type": "stream",
     "text": [
      "请输入一个数字5\n",
      "120\n"
     ]
    }
   ],
   "source": [
    "n=int(input('请输入一个数字'))\n",
    "def my_mul(n):\n",
    "    i = 1\n",
    "    total_n = 1\n",
    "    while i < n:\n",
    "        i = i + 1\n",
    "        total_n = total_n * i\n",
    "    return total_n \n",
    "print(my_mul(n))"
   ]
  },
  {
   "cell_type": "code",
   "execution_count": 2,
   "metadata": {
    "collapsed": false
   },
   "outputs": [
    {
     "name": "stdout",
     "output_type": "stream",
     "text": [
      "请输入一个数字4\n",
      "请输入一个数字5\n",
      "144\n"
     ]
    }
   ],
   "source": [
    "m=int(input('请输入一个数字'))\n",
    "n=int(input('请输入一个数字'))\n",
    "if m > n:\n",
    "    def my_sum(n):\n",
    "        i = 0\n",
    "        total_n = 0\n",
    "        while i < n:\n",
    "            i = i + 1\n",
    "            total_n = total_n + i\n",
    "        return total_n  \n",
    "    def my_sum(m):\n",
    "        i = 0\n",
    "        total_m = 0\n",
    "        while i < m:\n",
    "            i = i + 1\n",
    "            total_m = total_m + i\n",
    "        return total_m\n",
    "    print(my_sum(n) + my_sum(m))\n",
    "elif m <= n:\n",
    "    def my_mul(n):\n",
    "        i = 1\n",
    "        total_n = 1\n",
    "        while i < n:\n",
    "            i = i + 1\n",
    "            total_n = total_n * i\n",
    "        return total_n   \n",
    "    def my_mul(m):\n",
    "        i = 1\n",
    "        total_m = 1\n",
    "        while i < m:\n",
    "            i = i + 1\n",
    "            total_m = total_m * i\n",
    "        return total_m \n",
    "    print(my_mul(n) + my_mul(m))"
   ]
  },
  {
   "cell_type": "code",
   "execution_count": null,
   "metadata": {
    "collapsed": true
   },
   "outputs": [],
   "source": []
  }
 ],
 "metadata": {
  "kernelspec": {
   "display_name": "Python 3",
   "language": "python",
   "name": "python3"
  },
  "language_info": {
   "codemirror_mode": {
    "name": "ipython",
    "version": 3
   },
   "file_extension": ".py",
   "mimetype": "text/x-python",
   "name": "python",
   "nbconvert_exporter": "python",
   "pygments_lexer": "ipython3",
   "version": "3.6.0"
  }
 },
 "nbformat": 4,
 "nbformat_minor": 2
}
