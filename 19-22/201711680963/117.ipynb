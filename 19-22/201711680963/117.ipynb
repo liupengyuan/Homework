{
 "cells": [
  {
   "cell_type": "markdown",
   "metadata": {},
   "source": [
    "#### 用户从键盘输入数m,n,k,写函数，可利用计算机得到m个从n到k的随机整数。求这m个数的和的平方根。\n",
    "#### m,n,k用5，10，500进行验证函数的正确性"
   ]
  },
  {
   "cell_type": "code",
   "execution_count": 18,
   "metadata": {},
   "outputs": [
    {
     "name": "stdout",
     "output_type": "stream",
     "text": [
      "输入一个正整数。5\n",
      "输入一个正整数。10\n",
      "输入一个正整数。500\n",
      "36.45545226711637\n"
     ]
    }
   ],
   "source": [
    "m=int(input('输入一个正整数。'))\n",
    "n=int(input('输入一个正整数。'))\n",
    "k=int(input('输入一个正整数。'))\n",
    "\n",
    "def num():\n",
    "    import random\n",
    "    if n<k:\n",
    "        number=random.randint(n,k)\n",
    "    else:\n",
    "        number=random.randint(k,n)\n",
    "    return number\n",
    "\n",
    "i=0    \n",
    "total=0\n",
    "while i<=m:\n",
    "    i=i+1\n",
    "    num()\n",
    "    total=total+num()\n",
    "\n",
    "def a():\n",
    "    import math\n",
    "    b=math.sqrt(total)\n",
    "    return b\n",
    "print(a())"
   ]
  }
 ],
 "metadata": {
  "kernelspec": {
   "display_name": "Python 3",
   "language": "python",
   "name": "python3"
  },
  "language_info": {
   "codemirror_mode": {
    "name": "ipython",
    "version": 3
   },
   "file_extension": ".py",
   "mimetype": "text/x-python",
   "name": "python",
   "nbconvert_exporter": "python",
   "pygments_lexer": "ipython3",
   "version": "3.6.0"
  }
 },
 "nbformat": 4,
 "nbformat_minor": 2
}
