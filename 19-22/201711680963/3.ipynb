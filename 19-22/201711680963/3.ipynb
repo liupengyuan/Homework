{
 "cells": [
  {
   "cell_type": "markdown",
   "metadata": {},
   "source": [
    "#### 练习 1：写程序，可由键盘读入用户姓名例如Mr. right，让用户输入出生的月份与日期，判断用户星座，假设用户是金牛座，则输出，Mr. right，你是非常有性格的金牛座！"
   ]
  },
  {
   "cell_type": "code",
   "execution_count": 18,
   "metadata": {},
   "outputs": [
    {
     "name": "stdout",
     "output_type": "stream",
     "text": [
      "请输入您的姓名。aa\n",
      "请输入您出生的月份。4\n",
      "请输入您出生的日期。29\n",
      "您是金牛座。\n",
      "aa 你是非常有性格的金牛座！\n"
     ]
    }
   ],
   "source": [
    "m = input('请输入您的姓名。')\n",
    "n = int(input('请输入您出生的月份。'))\n",
    "i = int(input('请输入您出生的日期。'))\n",
    "if n==3:\n",
    "    if i>20:\n",
    "        print('您是白羊座。')\n",
    "    else:\n",
    "        print('您是双鱼座。')\n",
    "if n==4:\n",
    "    if i>19:\n",
    "        print('您是金牛座。')\n",
    "        print(m,'你是非常有性格的金牛座！')\n",
    "    else:\n",
    "        print('您是白羊座。')\n",
    "if n==5:\n",
    "    if i>20:\n",
    "        print('您是双子座。')\n",
    "    else:\n",
    "        print('您是金牛座。')\n",
    "if n==6:\n",
    "    if i>21:\n",
    "        print('您是巨蟹座。')\n",
    "    else:\n",
    "        print('您是双子座。')\n",
    "if n==7:\n",
    "    if i>22:\n",
    "        print('您是狮子座。')\n",
    "    else:\n",
    "        print('您是巨蟹座。')\n",
    "if n==8:\n",
    "    if i>22:\n",
    "        print('您是处女座。')\n",
    "    else:\n",
    "        print('您是狮子座。')\n",
    "if n==9:\n",
    "    if i>22:\n",
    "        print('您是天秤座。')\n",
    "    else:\n",
    "        print('您是处女座。')\n",
    "if n==10:\n",
    "    if i>23:\n",
    "        print('您是天蝎座。')\n",
    "    else:\n",
    "        print('您是天秤座。')\n",
    "if n==11:\n",
    "    if i>22:\n",
    "        print('您是射手座。')\n",
    "    else:\n",
    "        print('您是天蝎座。')\n",
    "if n==12:\n",
    "    if i>21:\n",
    "        print('您是摩羯座。')\n",
    "    else:\n",
    "        print('您是射手座。')\n",
    "if n==1:\n",
    "    if i>19:\n",
    "        print('您是水瓶座。')\n",
    "    else:\n",
    "        print('您是摩羯座。')\n",
    "if n==2:\n",
    "    if i>18:\n",
    "        print('您是双鱼座。')\n",
    "    else:\n",
    "        print('您是水瓶座。')"
   ]
  },
  {
   "cell_type": "markdown",
   "metadata": {},
   "source": [
    "#### 练习 2：写程序，可由键盘读入两个整数m与n(n不等于0)，询问用户意图，如果要求和则计算从m到n的和输出，如果要乘积则计算从m到n的积并输出，如果要求余数则计算m除以n的余数的值并输出，否则则计算m整除n的值并输出。"
   ]
  },
  {
   "cell_type": "code",
   "execution_count": 20,
   "metadata": {},
   "outputs": [
    {
     "name": "stdout",
     "output_type": "stream",
     "text": [
      "输入一个整数。123\n",
      "输入一个整数且不等于0 。235\n",
      "您的意图,求和为1，乘积为2，求余数为3。1\n",
      "358\n"
     ]
    }
   ],
   "source": [
    "m=int(input('输入一个整数。'))\n",
    "n=int(input('输入一个整数且不等于0 。'))\n",
    "i=int(input('您的意图,求和为1，乘积为2，求余数为3。'))\n",
    "if i==1:\n",
    "    print(m+n)\n",
    "elif i==2:\n",
    "    print(m*n)\n",
    "elif i==3:\n",
    "    print(m%n)\n",
    "else:\n",
    "    print(m//n)"
   ]
  },
  {
   "cell_type": "markdown",
   "metadata": {},
   "source": [
    "#### 练习 4：英文单词单数转复数，要求输入一个英文动词（单数形式），能够得到其复数形式，或给出单数转复数形式的建议（提示，some_string.endswith(some_letter)函数可以判断某字符串结尾字符，可尝试运行：'myname'.endswith('me')，liupengyuan'.endswith('n')）。"
   ]
  },
  {
   "cell_type": "code",
   "execution_count": 30,
   "metadata": {},
   "outputs": [
    {
     "name": "stdout",
     "output_type": "stream",
     "text": [
      "输入一个英文动词（单数形式）。apple\n",
      "apple s\n"
     ]
    }
   ],
   "source": [
    "n=input('输入一个英文动词（单数形式）。')\n",
    "if n.endswith(\"s\"):\n",
    "    print(n,'es')\n",
    "elif n.endswith(\"x\"):\n",
    "    print(n,'es')\n",
    "elif n.endswith(\"sh\"):\n",
    "    print(n,'es')\n",
    "elif n.endswith(\"ch\"):\n",
    "    print(n,'es')\n",
    "elif n.endswith(\"f\"):\n",
    "    print('变f为v,再加-es.')\n",
    "elif n.endswith(\"fe\"):\n",
    "    print('变fe为v,再加-es.')\n",
    "else:\n",
    "    print(n,'s')"
   ]
  },
  {
   "cell_type": "markdown",
   "metadata": {},
   "source": [
    "#### 尝试性练习：写程序，能够在屏幕上显示空行。"
   ]
  },
  {
   "cell_type": "code",
   "execution_count": 36,
   "metadata": {
    "scrolled": true
   },
   "outputs": [
    {
     "name": "stdout",
     "output_type": "stream",
     "text": [
      "空行是啥，第二行算吗？？？\n",
      "\n",
      "\n",
      "空行是啥，第三行算吗？？？\n"
     ]
    }
   ],
   "source": [
    "print('空行是啥，第二行算吗？？？')\n",
    "print(    )\n",
    "print(    )\n",
    "print('空行是啥，第三行算吗？？？')"
   ]
  },
  {
   "cell_type": "markdown",
   "metadata": {},
   "source": [
    "#### 挑战性练习：写程序，由用户输入一些整数，能够得到几个整数中的次大值(第二大的值)并输出。"
   ]
  },
  {
   "cell_type": "code",
   "execution_count": 3,
   "metadata": {},
   "outputs": [
    {
     "name": "stdout",
     "output_type": "stream",
     "text": [
      "请输入要输入的整数个数，回车结束。4\n",
      "请输入一个整数，回车结束。123\n",
      "请输入一个整数，回车结束。123456\n",
      "请输入一个整数，回车结束。1278\n",
      "请输入一个整数，回车结束。1256\n",
      "请输入一个整数，回车结束。1296\n",
      "123\n"
     ]
    }
   ],
   "source": [
    "m=int(input('请输入要输入的整数个数，回车结束。'))\n",
    "max_number=int(input('请输入一个整数，回车结束。'))\n",
    "secmax=int(input('请输入一个整数，回车结束。'))\n",
    "\n",
    "if max_number>secmax:\n",
    "    i=1\n",
    "    while i<m:\n",
    "        i=i+1\n",
    "        n=int(input('请输入一个整数，回车结束。'))\n",
    "        if n>max_number:\n",
    "            secmax=max_number\n",
    "            max_number=n\n",
    "    print(secmax)\n",
    "else:\n",
    "    i=1\n",
    "    while i<m:\n",
    "        i=i+1\n",
    "        n=int(input('请输入一个整数，回车结束。'))\n",
    "        if n>secmax:\n",
    "            max_number=n\n",
    "            secmax=max_number\n",
    "    print(secmax)"
   ]
  }
 ],
 "metadata": {
  "kernelspec": {
   "display_name": "Python 3",
   "language": "python",
   "name": "python3"
  },
  "language_info": {
   "codemirror_mode": {
    "name": "ipython",
    "version": 3
   },
   "file_extension": ".py",
   "mimetype": "text/x-python",
   "name": "python",
   "nbconvert_exporter": "python",
   "pygments_lexer": "ipython3",
   "version": "3.6.0"
  }
 },
 "nbformat": 4,
 "nbformat_minor": 2
}
