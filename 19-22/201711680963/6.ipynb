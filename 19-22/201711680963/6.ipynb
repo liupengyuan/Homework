{
 "cells": [
  {
   "cell_type": "markdown",
   "metadata": {},
   "source": [
    "#### 写函数，返回某个元素/对象在一个list中的位置，如果不在，则返回-1."
   ]
  },
  {
   "cell_type": "code",
   "execution_count": 2,
   "metadata": {},
   "outputs": [
    {
     "name": "stdout",
     "output_type": "stream",
     "text": [
      "输入一个整数。3\n",
      "4\n"
     ]
    },
    {
     "data": {
      "text/plain": [
       "4"
      ]
     },
     "execution_count": 2,
     "metadata": {},
     "output_type": "execute_result"
    }
   ],
   "source": [
    "number = [1,2,3,4,5,6]\n",
    "\n",
    "def wlm():\n",
    "    i=int(input('输入一个整数。'))\n",
    "    if i in number:\n",
    "        b=number[i]\n",
    "        print(b)\n",
    "    else:\n",
    "        b=-1\n",
    "        print(b)\n",
    "    return b\n",
    "\n",
    "wlm()"
   ]
  },
  {
   "cell_type": "markdown",
   "metadata": {},
   "source": [
    "#### 写函数，可将两个相同长度的list，间隔插入，生成新的list。例如：给两个list，a=[1,2,3,4], b=[5,6,7,8]。则可以生成：[1,5,2,6,3,7,4,8]。"
   ]
  },
  {
   "cell_type": "code",
   "execution_count": 14,
   "metadata": {},
   "outputs": [
    {
     "name": "stdout",
     "output_type": "stream",
     "text": [
      "[1, 5, 2, 6, 3, 7, 4, 8]\n"
     ]
    }
   ],
   "source": [
    "a=[1,2,3,4]\n",
    "b=[5,6,7,8]\n",
    "num=[]\n",
    "def wlm():\n",
    "    i=0\n",
    "    for m in a:\n",
    "        for n in b:\n",
    "            if i<4:\n",
    "                num.append(a[i])\n",
    "                num.append(b[i])\n",
    "                i=i+1\n",
    "    print(num)\n",
    "\n",
    "wlm()"
   ]
  },
  {
   "cell_type": "markdown",
   "metadata": {},
   "source": [
    "#### 写函数，可求两个向量的夹角余弦值，向量可放在list中。主程序调用该函数。"
   ]
  },
  {
   "cell_type": "code",
   "execution_count": 15,
   "metadata": {},
   "outputs": [
    {
     "name": "stdout",
     "output_type": "stream",
     "text": [
      "请输入您要输入的第一点的横坐标。2\n",
      "请输入您要输入的第一点的纵坐标。3\n",
      "请输入您要输入的第二点的横坐标。1\n",
      "请输入您要输入的第二点的纵坐标。5\n",
      "0.924678098474716\n"
     ]
    },
    {
     "data": {
      "text/plain": [
       "0.924678098474716"
      ]
     },
     "execution_count": 15,
     "metadata": {},
     "output_type": "execute_result"
    }
   ],
   "source": [
    "import math\n",
    "\n",
    "def cos():\n",
    "    m=int(input('请输入您要输入的第一点的横坐标。'))\n",
    "    n=int(input('请输入您要输入的第一点的纵坐标。'))\n",
    "    k=int(input('请输入您要输入的第二点的横坐标。'))\n",
    "    z=int(input('请输入您要输入的第二点的纵坐标。'))\n",
    "    a=[m,n]\n",
    "    b=[k,z]\n",
    "    \n",
    "    a=m*m+n*n\n",
    "    b=k*k+z*z\n",
    "    a1=math.sqrt(a)\n",
    "    b1=math.sqrt(b)\n",
    "    \n",
    "    cita=(m*k+n*z)/(a1*b1)\n",
    "    \n",
    "    print(cita)\n",
    "    \n",
    "    return cita\n",
    "cos()"
   ]
  },
  {
   "cell_type": "markdown",
   "metadata": {},
   "source": [
    "#### 挑战性习题：python语言老师为了激励学生学python，自费买了100个完全相同的Macbook Pro，分给三个班级，每个班级至少分5个，用穷举法计算共有多少种分法？"
   ]
  },
  {
   "cell_type": "code",
   "execution_count": null,
   "metadata": {},
   "outputs": [],
   "source": [
    "a=[100,3,5]\n",
    "def wlm():\n",
    "    for i in range(99):\n",
    "        "
   ]
  }
 ],
 "metadata": {
  "kernelspec": {
   "display_name": "Python 3",
   "language": "python",
   "name": "python3"
  }
 },
 "nbformat": 4,
 "nbformat_minor": 2
}
