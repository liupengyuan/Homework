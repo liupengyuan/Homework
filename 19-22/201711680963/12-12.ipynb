{
 "cells": [
  {
   "cell_type": "code",
   "execution_count": 16,
   "metadata": {},
   "outputs": [
    {
     "name": "stdout",
     "output_type": "stream",
     "text": [
      "由\n",
      "湖\n",
      "宁\n",
      "形\n",
      "狐\n",
      "枪\n",
      "直\n",
      "衷\n",
      "瓜\n",
      "梅\n"
     ]
    }
   ],
   "source": [
    "list=[10,20,30,40,50,60,70,80,90,100]\n",
    "\n",
    "\n",
    "\n",
    "def get_ch_table(line):\n",
    "    ch_table = []\n",
    "    for ch in line:\n",
    "        if ch not in ch_table:\n",
    "            ch_table.append(ch)\n",
    "    return ch_table\n",
    "\n",
    "fh = open(r'C:\\Users\\w\\Desktop\\idioms.txt')\n",
    "text = fh.read()\n",
    "chs = get_ch_table(text.replace('\\n', ''))\n",
    "\n",
    "\n",
    "\n",
    "import random\n",
    "\n",
    "idioms = chs\n",
    "for i in range(10):\n",
    "    idiom = random.choice(idioms)\n",
    "    print(idiom)\n",
    "    \n",
    "    \n",
    "a = open(r'C:\\Users\\w\\Desktop\\文件1.txt', 'w')\n",
    "a.writelines(idiom)\n",
    "a.close()\n",
    "\n"
   ]
  },
  {
   "cell_type": "code",
   "execution_count": null,
   "metadata": {},
   "outputs": [],
   "source": []
  }
 ],
 "metadata": {
  "kernelspec": {
   "display_name": "Python 3",
   "language": "python",
   "name": "python3"
  },
  "language_info": {
   "codemirror_mode": {
    "name": "ipython",
    "version": 3
   },
   "file_extension": ".py",
   "mimetype": "text/x-python",
   "name": "python",
   "nbconvert_exporter": "python",
   "pygments_lexer": "ipython3",
   "version": "3.6.0"
  }
 },
 "nbformat": 4,
 "nbformat_minor": 2
}
