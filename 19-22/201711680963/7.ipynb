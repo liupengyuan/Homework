{
 "cells": [
  {
   "cell_type": "markdown",
   "metadata": {},
   "source": [
    "#### 自己定义一个reverse(s)函数，功能返回字符串s的倒序字符串。"
   ]
  },
  {
   "cell_type": "code",
   "execution_count": 8,
   "metadata": {},
   "outputs": [
    {
     "name": "stdout",
     "output_type": "stream",
     "text": [
      "请输入字符串abcde\n",
      "edcba"
     ]
    }
   ],
   "source": [
    "s=input('请输入字符串')\n",
    "def wlm(s):\n",
    "        for i in range(len(s),0,-1):\n",
    "            print(s[i-1],end='')\n",
    "            \n",
    "wlm(s)"
   ]
  },
  {
   "cell_type": "markdown",
   "metadata": {},
   "source": [
    "#### 写函数，根据给定符号和行数，打印相应直角三角形，等腰三角形及其他形式的三角形。"
   ]
  },
  {
   "cell_type": "code",
   "execution_count": 1,
   "metadata": {},
   "outputs": [
    {
     "name": "stdout",
     "output_type": "stream",
     "text": [
      "给出一个符号*\n",
      "给出你想要的行数5\n",
      "*\n",
      "**\n",
      "***\n",
      "****\n",
      "*****\n",
      "    * \n",
      "   * * \n",
      "  * * * \n",
      " * * * * \n",
      "* * * * * \n"
     ]
    }
   ],
   "source": [
    "m=input('给出一个符号')\n",
    "n=int(input('给出你想要的行数'))\n",
    "\n",
    "def zhijiao():\n",
    "    for i in range(1,n+1):\n",
    "        print(m*i)\n",
    "        \n",
    "zhijiao()\n",
    "\n",
    "def dengyao():\n",
    "    for i in range(1,n+1):\n",
    "        print(' '*(n-i)+'* '*i)\n",
    "dengyao()"
   ]
  },
  {
   "cell_type": "markdown",
   "metadata": {},
   "source": [
    "#### 写函数，根据给定符号，打印各种菱形。"
   ]
  },
  {
   "cell_type": "code",
   "execution_count": 14,
   "metadata": {},
   "outputs": [
    {
     "name": "stdout",
     "output_type": "stream",
     "text": [
      "给出一个符号*\n",
      "给出你想要的行数5\n",
      "    * \n",
      "   * * \n",
      "  * * * \n",
      " * * * * \n",
      "* * * * * \n"
     ]
    }
   ],
   "source": [
    "m=input('给出一个符号')\n",
    "n=int(input('给出你想要的行数'))\n",
    "\n",
    "    \n",
    "def wlm():\n",
    "    for i in range(1,n+1):\n",
    "        print(' '*(n-i)+'* '*i)\n",
    "    for k in range(1,n+1,-1):\n",
    "        print(' '*(n-k)+'* '*k)\n",
    "wlm()\n",
    "\n",
    "#我尽力了"
   ]
  },
  {
   "cell_type": "code",
   "execution_count": null,
   "metadata": {},
   "outputs": [],
   "source": []
  }
 ],
 "metadata": {
  "kernelspec": {
   "display_name": "Python 3",
   "language": "python",
   "name": "python3"
  },
  "language_info": {
   "codemirror_mode": {
    "name": "ipython",
    "version": 3
   },
   "file_extension": ".py",
   "mimetype": "text/x-python",
   "name": "python",
   "nbconvert_exporter": "python",
   "pygments_lexer": "ipython3",
   "version": "3.6.0"
  }
 },
 "nbformat": 4,
 "nbformat_minor": 2
}
