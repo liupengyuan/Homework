{
 "cells": [
  {
   "cell_type": "markdown",
   "metadata": {},
   "source": [
    "#### 练习 1：写函数，求n个随机整数均值的平方根，整数范围在m与k之间（n,m,k由用户输入）。"
   ]
  },
  {
   "cell_type": "code",
   "execution_count": 6,
   "metadata": {},
   "outputs": [
    {
     "name": "stdout",
     "output_type": "stream",
     "text": [
      "请输入随机整数的个数。3\n",
      "请输入一个整数。1\n",
      "请输入另一个整数。9\n",
      "1.632993161855452\n"
     ]
    }
   ],
   "source": [
    "import random ,math\n",
    "n=int(input('请输入随机整数的个数。'))\n",
    "m=int(input('请输入一个整数。'))\n",
    "k=int(input('请输入另一个整数。'))\n",
    "\n",
    "if m<k:\n",
    "    m,k=m,k\n",
    "else:\n",
    "    m,k=k,m\n",
    "def ran(m,k):\n",
    "    a=random.randint(m,k)\n",
    "    return a\n",
    "\n",
    "\n",
    "i=0\n",
    "total=0\n",
    "while i<=n:\n",
    "    i=i+1\n",
    "    ran(m,k)\n",
    "    total=total+ran(m,k)\n",
    "\n",
    "sun=total/n\n",
    "\n",
    "def b():\n",
    "    c=math.sqrt(sun)\n",
    "    return c\n",
    "\n",
    "\n",
    "print(b())\n",
    "\n",
    "\n",
    "    "
   ]
  },
  {
   "cell_type": "markdown",
   "metadata": {},
   "source": [
    "#### 练习 2：写函数，共n个随机整数，整数范围在m与k之间，（n,m,k由用户输入）。求1：西格玛log(随机整数)，2：西格玛1/log(随机整数)"
   ]
  },
  {
   "cell_type": "code",
   "execution_count": 17,
   "metadata": {},
   "outputs": [
    {
     "name": "stdout",
     "output_type": "stream",
     "text": [
      "请输入随机整数的个数。3\n",
      "请输入一个整数。1\n",
      "请输入另一个整数。9\n",
      "5.991464547107982\n"
     ]
    }
   ],
   "source": [
    "#西格玛 log(随机整数)\n",
    "\n",
    "import random ,math\n",
    "n=int(input('请输入随机整数的个数。'))\n",
    "m=int(input('请输入一个整数。'))\n",
    "k=int(input('请输入另一个整数。'))\n",
    "\n",
    "if m<k:\n",
    "    m,k=m,k\n",
    "else:\n",
    "    m,k=k,m\n",
    "def ran(m,k):\n",
    "    a=random.randint(m,k)\n",
    "    return a\n",
    "def log():\n",
    "    b=math.log(ran(m,k))\n",
    "    return b\n",
    "\n",
    "i=0\n",
    "total=0\n",
    "while i<=n:\n",
    "    i=i+1\n",
    "    ran(m,k)\n",
    "    log()\n",
    "    total=total+log()\n",
    "    \n",
    "print(total)"
   ]
  },
  {
   "cell_type": "code",
   "execution_count": 19,
   "metadata": {},
   "outputs": [
    {
     "name": "stdout",
     "output_type": "stream",
     "text": [
      "请输入随机整数的个数。3\n",
      "请输入一个整数。1\n",
      "请输入另一个整数。9\n",
      "3.1258392552594207\n"
     ]
    }
   ],
   "source": [
    "#西格玛1/log(随机整数)\n",
    "\n",
    "import random ,math\n",
    "n=int(input('请输入随机整数的个数。'))\n",
    "m=int(input('请输入一个整数。'))\n",
    "k=int(input('请输入另一个整数。'))\n",
    "\n",
    "if m<k:\n",
    "    m,k=m,k\n",
    "else:\n",
    "    m,k=k,m\n",
    "def ran(m,k):\n",
    "    a=random.randint(m,k)\n",
    "    return a\n",
    "def log():\n",
    "    b=math.log(ran(m,k))\n",
    "    return b\n",
    "i=0\n",
    "total=0\n",
    "while i<=n:\n",
    "    i=i+1\n",
    "    ran(m,k)\n",
    "    1/log()\n",
    "    total=total+1/log()\n",
    "print(total)"
   ]
  },
  {
   "cell_type": "markdown",
   "metadata": {},
   "source": [
    "#### 练习 3：写函数，求s=a+aa+aaa+aaaa+aa...a的值，其中a是[1,9]之间的随机整数。例如2+22+222+2222+22222(此时共有5个数相加)，几个数相加由键盘输入。"
   ]
  },
  {
   "cell_type": "code",
   "execution_count": 46,
   "metadata": {},
   "outputs": [
    {
     "name": "stdout",
     "output_type": "stream",
     "text": [
      "几个数相加。3\n",
      "662\n"
     ]
    }
   ],
   "source": [
    "import random\n",
    "def ran():\n",
    "    a=random.randint(1,9)\n",
    "    return a\n",
    "n=int(input('几个数相加。'))\n",
    "\n",
    "if n==1:\n",
    "    print(ran())\n",
    "else:\n",
    "    i=0\n",
    "    ran()\n",
    "    a=ran()\n",
    "    s=a\n",
    "    while i<(n-1):\n",
    "        i=i+1\n",
    "        b=a*(10**i)\n",
    "        s=s+d\n",
    "    print(s)"
   ]
  },
  {
   "cell_type": "markdown",
   "metadata": {},
   "source": [
    "#### 挑战性练习：仿照task5，将猜数游戏改成由用户随便选择一个整数，让计算机来猜测的猜数游戏，要求和task5中人猜测的方法类似，但是人机角色对换，由人来判断猜测是大、小还是相等，请写出完整的猜数游戏。"
   ]
  },
  {
   "cell_type": "code",
   "execution_count": 51,
   "metadata": {},
   "outputs": [
    {
     "name": "stdout",
     "output_type": "stream",
     "text": [
      "用户随便输入一个整数。3\n",
      "数字上限5\n",
      "小了\n"
     ]
    }
   ],
   "source": [
    "\n",
    "\n",
    "import random\n",
    "n=int(input('用户随便输入一个整数。'))\n",
    "m=int(input('数字上限'))\n",
    "\n",
    "def ran():\n",
    "    a=random.randint(1,m)\n",
    "    return a\n",
    "\n",
    "ran()\n",
    "\n",
    "if ran()<n:\n",
    "    print('小了')\n",
    "elif ran()>n:\n",
    "    print('大了')\n",
    "else:\n",
    "    print('对了')\n",
    "    "
   ]
  }
 ],
 "metadata": {
  "kernelspec": {
   "display_name": "Python 3",
   "language": "python",
   "name": "python3"
  },
  "language_info": {
   "codemirror_mode": {
    "name": "ipython",
    "version": 3
   },
   "file_extension": ".py",
   "mimetype": "text/x-python",
   "name": "python",
   "nbconvert_exporter": "python",
   "pygments_lexer": "ipython3",
   "version": "3.6.0"
  }
 },
 "nbformat": 4,
 "nbformat_minor": 2
}
