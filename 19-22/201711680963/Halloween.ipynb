{
 "cells": [
  {
   "cell_type": "markdown",
   "metadata": {},
   "source": [
    "# 写求和函数my_sum(n),求阶乘函数my_mul(n)，请用户输入m与n，如果m>n则输出\n",
    "\n",
    "# 1+...m+1。。。+n的和，否则输出m!+n！"
   ]
  },
  {
   "cell_type": "code",
   "execution_count": 16,
   "metadata": {
    "collapsed": false
   },
   "outputs": [],
   "source": [
    "def my_sum(n):\n",
    "    i=1\n",
    "    total=0\n",
    "    while i<=n:\n",
    "        total=total+i\n",
    "        i=i+1\n",
    "    return total\n",
    "def my_mul(m):\n",
    "    i=1\n",
    "    total=1\n",
    "    while i<=m:\n",
    "        total=total*i\n",
    "        i=i+1\n",
    "    return total"
   ]
  },
  {
   "cell_type": "code",
   "execution_count": 19,
   "metadata": {
    "collapsed": false
   },
   "outputs": [
    {
     "name": "stdout",
     "output_type": "stream",
     "text": [
      "请 输入一个数。3\n",
      "请输入一个数。2\n",
      "9\n"
     ]
    }
   ],
   "source": [
    "m=int(input('请 输入一个数。'))\n",
    "n=int(input('请输入一个数。'))\n",
    "if m>n:\n",
    "    a=my_sum(m)\n",
    "    b=my_sum(n)\n",
    "    print(a+b)\n",
    "else:\n",
    "    c=my_mul(m)\n",
    "    d=my_mul(n)\n",
    "    print(c+d)"
   ]
  }
 ],
 "metadata": {
  "kernelspec": {
   "display_name": "Python 3",
   "language": "python",
   "name": "python3"
  },
  "language_info": {
   "codemirror_mode": {
    "name": "ipython",
    "version": 3
   },
   "file_extension": ".py",
   "mimetype": "text/x-python",
   "name": "python",
   "nbconvert_exporter": "python",
   "pygments_lexer": "ipython3",
   "version": "3.6.0"
  }
 },
 "nbformat": 4,
 "nbformat_minor": 2
}
