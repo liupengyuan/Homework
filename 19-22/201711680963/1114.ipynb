{
 "cells": [
  {
   "cell_type": "markdown",
   "metadata": {},
   "source": [
    "#### 写函数，返回一个list中的最大值，最小值，平均值。（不用内置的求和求函数），以[1,2,-1,55,100,899,-10,3,12.5,5.8]为例。"
   ]
  },
  {
   "cell_type": "code",
   "execution_count": 19,
   "metadata": {},
   "outputs": [
    {
     "name": "stdout",
     "output_type": "stream",
     "text": [
      "('平均值为:', 106.72999999999999, '最大值为：', 899, '最小值为：', -10)\n"
     ]
    }
   ],
   "source": [
    "def sd(numbers = [1,2,-1,55,100,899,-10,3,12.5,5.8]):\n",
    "    total = 0\n",
    "    for i in numbers:\n",
    "        total=total+i\n",
    "    \n",
    "    a=1\n",
    "    b=1\n",
    "    for i in numbers:\n",
    "        if i>a:\n",
    "            a=i\n",
    "\n",
    "        if i<b:\n",
    "            b=i\n",
    "    \n",
    "        \n",
    "    return '平均值为:',total/10,'最大值为：',a,'最小值为：',b\n",
    "print(sd())"
   ]
  },
  {
   "cell_type": "code",
   "execution_count": null,
   "metadata": {},
   "outputs": [],
   "source": []
  }
 ],
 "metadata": {
  "kernelspec": {
   "display_name": "Python 3",
   "language": "python",
   "name": "python3"
  },
  "language_info": {
   "codemirror_mode": {
    "name": "ipython",
    "version": 3
   },
   "file_extension": ".py",
   "mimetype": "text/x-python",
   "name": "python",
   "nbconvert_exporter": "python",
   "pygments_lexer": "ipython3",
   "version": "3.6.0"
  }
 },
 "nbformat": 4,
 "nbformat_minor": 2
}
