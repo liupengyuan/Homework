{
 "cells": [
  {
   "cell_type": "code",
   "execution_count": null,
   "metadata": {},
   "outputs": [],
   "source": [
    "fh=open(r'c:\\temp\\成语大全.txt')\n",
    "text=fh.read()\n",
    "fh.close()\n",
    "\n",
    "\n",
    "a=0   #计算机的分数\n",
    "b=0   #人类的分数\n",
    "\n",
    "def wel(line):\n",
    "    cht=[]\n",
    "    for ch in line:\n",
    "        if ch not in cht:\n",
    "            cht.append(ch)\n",
    "    return cht\n",
    "\n",
    "\n",
    "import random\n",
    "\n",
    "\n",
    "i=1 \n",
    "m=input('请输入成语与给出成语接龙。')   \n",
    "while i>0:\n",
    "    for k in range(len(text)):\n",
    "        idiom = random.choice(text)\n",
    "        d=idiom.split(',')\n",
    "        print(idiom)    #随机取\n",
    "        m=input('请输入成语与给出成语接龙。') \n",
    "        c=m.split(',')\n",
    "        if c[0]==d[0]:\n",
    "            b=b+10        \n",
    "            idioms=random.choice(text) \n",
    "            e=idioms.split(',') and e[0]==c[3]\n",
    "            print(idioms)\n",
    "            a=a+10\n",
    "            \n",
    "        else:\n",
    "            break\n",
    "            print('GAME OVER')\n",
    "\n",
    "        print('您的分数是',b)\n",
    "        print('机器人的分数是',a)\n",
    "\n"
   ]
  },
  {
   "cell_type": "code",
   "execution_count": null,
   "metadata": {},
   "outputs": [],
   "source": []
  }
 ],
 "metadata": {
  "kernelspec": {
   "display_name": "Python 3",
   "language": "python",
   "name": "python3"
  },
  "language_info": {
   "codemirror_mode": {
    "name": "ipython",
    "version": 3
   },
   "file_extension": ".py",
   "mimetype": "text/x-python",
   "name": "python",
   "nbconvert_exporter": "python",
   "pygments_lexer": "ipython3",
   "version": "3.6.0"
  }
 },
 "nbformat": 4,
 "nbformat_minor": 2
}
