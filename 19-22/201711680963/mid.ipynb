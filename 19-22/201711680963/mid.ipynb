{
 "cells": [
  {
   "cell_type": "markdown",
   "metadata": {},
   "source": [
    "#### 1"
   ]
  },
  {
   "cell_type": "code",
   "execution_count": 7,
   "metadata": {
    "collapsed": false
   },
   "outputs": [
    {
     "name": "stdout",
     "output_type": "stream",
     "text": [
      "输入参数，共m项5\n",
      "35\n"
     ]
    }
   ],
   "source": [
    "m=int(input('输入参数，共m项'))\n",
    "total=0\n",
    "i=0\n",
    "k=1\n",
    "while i<m:\n",
    "    total=total+k\n",
    "    i=i+1\n",
    "    k=k+i+1\n",
    "print(total)"
   ]
  },
  {
   "cell_type": "markdown",
   "metadata": {},
   "source": [
    "#### 2"
   ]
  },
  {
   "cell_type": "code",
   "execution_count": 12,
   "metadata": {
    "collapsed": false
   },
   "outputs": [
    {
     "name": "stdout",
     "output_type": "stream",
     "text": [
      "请输入行数。3\n"
     ]
    },
    {
     "ename": "TypeError",
     "evalue": "append() takes no keyword arguments",
     "output_type": "error",
     "traceback": [
      "\u001b[0;31m---------------------------------------------------------------------------\u001b[0m",
      "\u001b[0;31mTypeError\u001b[0m                                 Traceback (most recent call last)",
      "\u001b[0;32m<ipython-input-12-9678efdc642d>\u001b[0m in \u001b[0;36m<module>\u001b[0;34m()\u001b[0m\n\u001b[1;32m      7\u001b[0m     \u001b[1;32mreturn\u001b[0m \u001b[0mx\u001b[0m\u001b[1;33m\u001b[0m\u001b[0m\n\u001b[1;32m      8\u001b[0m \u001b[1;33m\u001b[0m\u001b[0m\n\u001b[0;32m----> 9\u001b[0;31m \u001b[0mwlm\u001b[0m\u001b[1;33m(\u001b[0m\u001b[1;33m)\u001b[0m\u001b[1;33m\u001b[0m\u001b[0m\n\u001b[0m",
      "\u001b[0;32m<ipython-input-12-9678efdc642d>\u001b[0m in \u001b[0;36mwlm\u001b[0;34m()\u001b[0m\n\u001b[1;32m      4\u001b[0m     \u001b[0mx\u001b[0m\u001b[1;33m=\u001b[0m\u001b[1;33m[\u001b[0m\u001b[1;34m'*'\u001b[0m\u001b[1;33m]\u001b[0m\u001b[1;33m\u001b[0m\u001b[0m\n\u001b[1;32m      5\u001b[0m     \u001b[1;32mwhile\u001b[0m \u001b[0mi\u001b[0m\u001b[1;33m<\u001b[0m\u001b[0my\u001b[0m\u001b[1;33m:\u001b[0m\u001b[1;33m\u001b[0m\u001b[0m\n\u001b[0;32m----> 6\u001b[0;31m         \u001b[0mx\u001b[0m\u001b[1;33m.\u001b[0m\u001b[0mappend\u001b[0m\u001b[1;33m(\u001b[0m\u001b[1;34m'**'\u001b[0m\u001b[1;33m,\u001b[0m\u001b[0msep\u001b[0m\u001b[1;33m=\u001b[0m\u001b[1;34m''\u001b[0m\u001b[1;33m)\u001b[0m\u001b[1;33m\u001b[0m\u001b[0m\n\u001b[0m\u001b[1;32m      7\u001b[0m     \u001b[1;32mreturn\u001b[0m \u001b[0mx\u001b[0m\u001b[1;33m\u001b[0m\u001b[0m\n\u001b[1;32m      8\u001b[0m \u001b[1;33m\u001b[0m\u001b[0m\n",
      "\u001b[0;31mTypeError\u001b[0m: append() takes no keyword arguments"
     ]
    }
   ],
   "source": [
    "def wlm():\n",
    "    y=int(input('请输入行数。'))\n",
    "    i=0\n",
    "    x=['*']\n",
    "    while i<y:\n",
    "        x.append('**',sep='')\n",
    "    return x\n",
    "\n",
    "wlm()"
   ]
  },
  {
   "cell_type": "markdown",
   "metadata": {},
   "source": [
    "#### 3"
   ]
  },
  {
   "cell_type": "code",
   "execution_count": 1,
   "metadata": {
    "collapsed": false
   },
   "outputs": [
    {
     "name": "stdout",
     "output_type": "stream",
     "text": [
      "请输入一个正整数。48723478234432\n"
     ]
    },
    {
     "data": {
      "text/plain": [
       "5"
      ]
     },
     "execution_count": 1,
     "metadata": {},
     "output_type": "execute_result"
    }
   ],
   "source": [
    "import math\n",
    "def wlm():\n",
    "    m=int(input('请输入一个正整数。'))\n",
    "    while m>10:\n",
    "        m=m/10\n",
    "        m=math.ceil(m)\n",
    "    return m\n",
    "wlm()"
   ]
  },
  {
   "cell_type": "markdown",
   "metadata": {},
   "source": [
    "#### 4"
   ]
  },
  {
   "cell_type": "code",
   "execution_count": 1,
   "metadata": {
    "collapsed": false
   },
   "outputs": [
    {
     "name": "stdout",
     "output_type": "stream",
     "text": [
      "请输入队员的人数。9\n",
      "请输入队员的身高183\n",
      "请输入队员的身高185\n",
      "请输入队员的身高183\n",
      "请输入队员的身高187\n",
      "请输入队员的身高178\n",
      "请输入队员的身高175\n",
      "请输入队员的身高177\n",
      "请输入队员的身高190\n",
      "请输入队员的身高172\n",
      "181.11111111111111\n",
      "输入队员的身高。183\n",
      "输入队员的身高。185\n",
      "输入队员的身高。183\n",
      "输入队员的身高。187\n",
      "输入队员的身高。178\n",
      "输入队员的身高。175\n",
      "输入队员的身高。177\n",
      "输入队员的身高。190\n",
      "输入队员的身高。172\n",
      "[183, 185, 183, 187, 190]\n"
     ]
    }
   ],
   "source": [
    "def wlm():\n",
    "    m=int(input('请输入队员的人数。'))\n",
    "    i=0\n",
    "    total=0\n",
    "    while i<m:\n",
    "        a=int(input('请输入队员的身高'))\n",
    "        total+=a\n",
    "        i=i+1\n",
    "    print(total/m)\n",
    "    \n",
    "    numbers=[]\n",
    "    b=0\n",
    "    while b<m:\n",
    "        n=int(input('输入队员的身高。'))\n",
    "        b=b+1\n",
    "        if n>(total/m):\n",
    "            numbers.append(n)\n",
    "    print(numbers)\n",
    "    \n",
    "    \n",
    "wlm()"
   ]
  },
  {
   "cell_type": "markdown",
   "metadata": {},
   "source": [
    "#### 5"
   ]
  },
  {
   "cell_type": "code",
   "execution_count": 1,
   "metadata": {
    "collapsed": false
   },
   "outputs": [
    {
     "name": "stdout",
     "output_type": "stream",
     "text": [
      "2 + 4 =\n",
      "请输入你得出的结果。6\n",
      "5 + 7 =\n",
      "请输入你得出的结果。12\n",
      "3 + 6 =\n",
      "请输入你得出的结果。9\n",
      "10 + 5 =\n",
      "请输入你得出的结果。15\n",
      "3 + 4 =\n",
      "请输入你得出的结果。7\n",
      "20\n"
     ]
    }
   ],
   "source": [
    "import random\n",
    "def wlm():\n",
    "    i=0\n",
    "    k=5\n",
    "    a=0\n",
    "    while i <k:\n",
    "        number1=random.randint(1,10)\n",
    "        number2=random.randint(1,10)\n",
    "        a=number1+number2\n",
    "        i=i+1\n",
    "        print(number1,'+',number2,'=')\n",
    "        b=int(input('请输入你得出的结果。'))\n",
    "        c=0\n",
    "        if b==a:\n",
    "            c=c+20\n",
    "        else:\n",
    "            c=c\n",
    "        \n",
    "    print(c)\n",
    "        \n",
    "        \n",
    "wlm()"
   ]
  },
  {
   "cell_type": "markdown",
   "metadata": {},
   "source": [
    "#### 6"
   ]
  },
  {
   "cell_type": "code",
   "execution_count": 6,
   "metadata": {
    "collapsed": false
   },
   "outputs": [
    {
     "name": "stdout",
     "output_type": "stream",
     "text": [
      "-76 [3, -5, 9, 108, 34, -76, 88] 108\n"
     ]
    }
   ],
   "source": [
    "numbers=[3,-5,9,108,34,-76,88]\n",
    "max1=0\n",
    "min2=0\n",
    "\n",
    "for i in numbers:\n",
    "    if i>max1:\n",
    "        max1=i\n",
    "    elif i<min2:\n",
    "        min2=i\n",
    "     \n",
    "        \n",
    "print(min2,numbers,max1)"
   ]
  }
 ],
 "metadata": {
  "kernelspec": {
   "display_name": "Python 3",
   "language": "python",
   "name": "python3"
  },
  "language_info": {
   "codemirror_mode": {
    "name": "ipython",
    "version": 3
   },
   "file_extension": ".py",
   "mimetype": "text/x-python",
   "name": "python",
   "nbconvert_exporter": "python",
   "pygments_lexer": "ipython3",
   "version": "3.6.0"
  }
 },
 "nbformat": 4,
 "nbformat_minor": 2
}
