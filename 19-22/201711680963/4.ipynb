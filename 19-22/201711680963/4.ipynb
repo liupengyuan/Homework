{
 "cells": [
  {
   "cell_type": "markdown",
   "metadata": {},
   "source": [
    "#### 练习 1：仿照求。。。的完整代码，写程序，可求m!+n!+k!"
   ]
  },
  {
   "cell_type": "code",
   "execution_count": 2,
   "metadata": {},
   "outputs": [
    {
     "name": "stdout",
     "output_type": "stream",
     "text": [
      "请输入第1个整数，以回车结束。1\n",
      "请输入第2个整数，以回车结束。2\n",
      "请输入第3个整数，以回车结束。3\n",
      "最终的和是： 9\n"
     ]
    }
   ],
   "source": [
    "def compute_sum(end):\n",
    "    i=0\n",
    "    total=1\n",
    "    \n",
    "    while i<end:\n",
    "        i=i+1\n",
    "        total=total*i\n",
    "        \n",
    "    return total\n",
    "\n",
    "m=int(input('请输入第1个整数，以回车结束。'))\n",
    "n=int(input('请输入第2个整数，以回车结束。'))\n",
    "k=int(input('请输入第3个整数，以回车结束。'))\n",
    "\n",
    "print('最终的和是：',compute_sum(m)+compute_sum(n)+compute_sum(k))"
   ]
  },
  {
   "cell_type": "markdown",
   "metadata": {},
   "source": [
    "#### 练习 2：写函数可返回1 - 1/3 + 1/5 - 1/7...的前n项的和。在主程序中，分别令n=1000及100000，打印4倍该函数的和。"
   ]
  },
  {
   "cell_type": "code",
   "execution_count": 25,
   "metadata": {},
   "outputs": [
    {
     "name": "stdout",
     "output_type": "stream",
     "text": [
      "请输入一个整数。5\n",
      "0.7238095238095239\n"
     ]
    }
   ],
   "source": [
    "def compute_sum(end):\n",
    "    i=0\n",
    "    total_n=0\n",
    "    n=1\n",
    "    \n",
    "    while n<end:\n",
    "        i=(-1)**(n-1)/(2*n-1)\n",
    "        n=n+1\n",
    "        total_n=total_n+i\n",
    "    return total_n\n",
    "\n",
    "m=int(input('请输入一个整数。'))\n",
    "\n",
    "print(compute_sum(m))"
   ]
  },
  {
   "cell_type": "markdown",
   "metadata": {},
   "source": [
    "#### 练习 3：将task3中的练习1及练习4改写为函数，并进行调用。"
   ]
  },
  {
   "cell_type": "markdown",
   "metadata": {},
   "source": [
    "###### 练习 1：写程序，可由键盘读入用户姓名例如Mr. right，让用户输入出生的月份与日期，判断用户星座，假设用户是金牛座，则输出，Mr. right，你是非常有性格的金牛座！。"
   ]
  },
  {
   "cell_type": "code",
   "execution_count": 2,
   "metadata": {},
   "outputs": [
    {
     "name": "stdout",
     "output_type": "stream",
     "text": [
      "您的姓名。me right\n",
      "请输入您的出生月份。5\n",
      "请输入您的出生日期。4\n",
      "me right 你是非常有性格的金牛座。\n"
     ]
    }
   ],
   "source": [
    "def compute_sum(i,a):\n",
    "    if i==3:\n",
    "        if 20<a<32:\n",
    "            p=('你是白羊座。')\n",
    "        if 0<a<21:\n",
    "            p=('你是双鱼座。')\n",
    "    elif i==4:\n",
    "        if 19<a<31:\n",
    "            p=('你是非常有性格的金牛座。')\n",
    "        if 0<a<20:\n",
    "            p=('你是白羊座。')\n",
    "    elif i==5:\n",
    "        if 20<a<32:\n",
    "            p=('你是双子座。')\n",
    "        if 0<a<21:\n",
    "            p=('你是非常有性格的金牛座。')\n",
    "    elif i==6:\n",
    "        if 21<a<31:\n",
    "            p=('你是巨蟹座。')\n",
    "        if 0<a<22:\n",
    "            p=('你是双子座。')\n",
    "    elif i==7:\n",
    "        if 22<a<32:\n",
    "            p=('你是狮子座。')\n",
    "        if 0<a<23:\n",
    "            p=('你是巨蟹座。')\n",
    "    elif i==8:\n",
    "        if 22<a<32:\n",
    "            p=('你是处女座。')\n",
    "        if 0<a<23:\n",
    "            p=('你是狮子座。')\n",
    "    elif i==9:\n",
    "        if 22<a<31:\n",
    "            p=('你是天秤座。')\n",
    "        if 0<a<23:\n",
    "            p=('你是处女座。')\n",
    "    elif i==10:\n",
    "        if 23<a<32:\n",
    "            p=('你是天蝎座。')\n",
    "        if 0<a<24:\n",
    "            p=('你是天秤座。')\n",
    "    elif i==11:\n",
    "        if 22<a<31:\n",
    "            p=('你是射手座。')\n",
    "        if 0<a<23:\n",
    "            p=('你是天蝎座。')\n",
    "    elif i==12:\n",
    "        if 21<a<32:\n",
    "            p=('你是摩羯座。')\n",
    "        if 0<a<22:\n",
    "            p=('你是射手座。')\n",
    "    elif i==1:\n",
    "        if 19<a<32:\n",
    "            p=('你是水瓶座。')\n",
    "        if 0<a<20:\n",
    "            p=('你是摩羯座。')\n",
    "    elif i==2:\n",
    "        if 18<a<30:\n",
    "            p=('你是双鱼座。')\n",
    "        if 0<a<19:\n",
    "            p=('你是水瓶座。')\n",
    "    else:\n",
    "        p=('出生日期不符合事实。')\n",
    "    \n",
    "    return p\n",
    "    \n",
    "k=input('您的姓名。')\n",
    "m=int(input('请输入您的出生月份。'))\n",
    "n=int(input('请输入您的出生日期。'))\n",
    "\n",
    "print(k,compute_sum(m,n))"
   ]
  },
  {
   "cell_type": "markdown",
   "metadata": {},
   "source": [
    "##### 练习 4：英文单词单数转复数，要求输入一个英文名词（单数形式），能够得到其复数形式，或给出单数转复数形式的建议（提示，some_string.endswith(some_letter)函数可以判断某字符串结尾字符，可尝试运行：'myname'.endswith('me')，liupengyuan'.endswith('n')）。"
   ]
  },
  {
   "cell_type": "code",
   "execution_count": 5,
   "metadata": {},
   "outputs": [
    {
     "name": "stdout",
     "output_type": "stream",
     "text": [
      "输入一个英文名词的单数形式。bus\n",
      "bus es\n"
     ]
    }
   ],
   "source": [
    "n=input('输入一个英文名词的单数形式。')\n",
    "def compute_sum(n):\n",
    "    if n.endswith('s'):\n",
    "        p=('es')\n",
    "    elif n.endswith('x'):\n",
    "        p=('es')\n",
    "    elif n.endswith('sh'):\n",
    "        p=('es')\n",
    "    elif n.endswith('ch'):\n",
    "        p=('es')\n",
    "    elif n.endswith('f'):\n",
    "        p=('变f为v，再加es')\n",
    "    elif n.endswith('fe'):\n",
    "        p=('变fe为v，再加es')\n",
    "    else:\n",
    "        p=('s')\n",
    "    return p\n",
    "\n",
    "print(n,compute_sum(n))"
   ]
  },
  {
   "cell_type": "markdown",
   "metadata": {},
   "source": [
    "#### 挑战性练习：写程序，可以求从整数m到整数n累加的和，间隔为k，求和部分需用函数实现，主程序中由用户输入m，n，k调用函数验证正确性。"
   ]
  },
  {
   "cell_type": "code",
   "execution_count": 13,
   "metadata": {},
   "outputs": [
    {
     "name": "stdout",
     "output_type": "stream",
     "text": [
      "输入一个整数。5\n",
      "输入另一个整数。15\n",
      "输入一个数。3\n",
      "9\n"
     ]
    }
   ],
   "source": [
    "def leijia(m,n,k):\n",
    "    a=0\n",
    "    totalone=0\n",
    "    b=0\n",
    "    totaltwo=0\n",
    "    if m<n:\n",
    "        while a<m:\n",
    "            a=a+k\n",
    "            totalone=totalone+a\n",
    "        while b<n:\n",
    "            b=b+k\n",
    "            totaltwo=totaltwo+b\n",
    "        p=b-a\n",
    "    elif n<m:\n",
    "        while a<m:\n",
    "            a=a+k\n",
    "            totalone=totalone+a\n",
    "        while b<n:\n",
    "            b=b+k\n",
    "            totaltwo=totaltwo+b\n",
    "        p=a-b\n",
    "    return p\n",
    "m=int(input('输入一个整数。'))\n",
    "n=int(input('输入另一个整数。'))\n",
    "k=int(input('输入一个数。'))\n",
    "\n",
    "print(leijia(m,n,k))"
   ]
  }
 ],
 "metadata": {
  "kernelspec": {
   "display_name": "Python 3",
   "language": "python",
   "name": "python3"
  },
  "language_info": {
   "codemirror_mode": {
    "name": "ipython",
    "version": 3
   },
   "file_extension": ".py",
   "mimetype": "text/x-python",
   "name": "python",
   "nbconvert_exporter": "python",
   "pygments_lexer": "ipython3",
   "version": "3.6.0"
  }
 },
 "nbformat": 4,
 "nbformat_minor": 2
}
