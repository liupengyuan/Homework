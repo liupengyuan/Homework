{
 "cells": [
  {
   "cell_type": "code",
   "execution_count": 24,
   "metadata": {},
   "outputs": [
    {
     "name": "stdout",
     "output_type": "stream",
     "text": [
      "146\n",
      "109\n",
      "357\n",
      "183\n",
      "444\n",
      "这m个数和的平方根是 35.199431813596085\n"
     ]
    }
   ],
   "source": [
    "import random\n",
    "def main(m,n,k):\n",
    "    i=0\n",
    "    total=0\n",
    "    while i<m:\n",
    "        number=random.randint(n,k)\n",
    "        i+=1\n",
    "        total+=number\n",
    "        result=total**(1/2)\n",
    "        print(number)\n",
    "    print('这m个数和的平方根是',result)\n",
    "    \n",
    "   \n",
    "main(5,10,500)"
   ]
  }
 ],
 "metadata": {
  "kernelspec": {
   "display_name": "Python 3",
   "language": "python",
   "name": "python3"
  },
  "language_info": {
   "codemirror_mode": {
    "name": "ipython",
    "version": 3
   },
   "file_extension": ".py",
   "mimetype": "text/x-python",
   "name": "python",
   "nbconvert_exporter": "python",
   "pygments_lexer": "ipython3",
   "version": "3.6.3"
  }
 },
 "nbformat": 4,
 "nbformat_minor": 2
}
