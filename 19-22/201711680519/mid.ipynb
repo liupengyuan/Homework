{
 "cells": [
  {
   "cell_type": "code",
   "execution_count": 8,
   "metadata": {},
   "outputs": [
    {
     "name": "stdout",
     "output_type": "stream",
     "text": [
      "56\n"
     ]
    }
   ],
   "source": [
    "#T1\n",
    "def num(m):\n",
    "    i=0\n",
    "    a=1\n",
    "    b=1\n",
    "    sum=0\n",
    "    while i<m:\n",
    "        sum+=b\n",
    "        i+=1\n",
    "        a+=1\n",
    "        b+=a\n",
    "    print(sum)\n",
    "    \n",
    "num(6)"
   ]
  },
  {
   "cell_type": "code",
   "execution_count": 2,
   "metadata": {},
   "outputs": [],
   "source": [
    "#T2\n",
    "def compute(f,n):\n",
    "    i=0\n",
    "    while i<n:\n",
    "        i+=1\n",
    "        for i in range(2*i-1):\n",
    "            print(f)    \n"
   ]
  },
  {
   "cell_type": "code",
   "execution_count": 17,
   "metadata": {},
   "outputs": [
    {
     "name": "stdout",
     "output_type": "stream",
     "text": [
      "4\n"
     ]
    }
   ],
   "source": [
    "#T3\n",
    "def num(n):\n",
    "    while n//10>10:\n",
    "        n=n//10\n",
    "    print(n//10)\n",
    "        \n",
    "num(48723478234432)\n"
   ]
  },
  {
   "cell_type": "code",
   "execution_count": null,
   "metadata": {},
   "outputs": [
    {
     "name": "stdout",
     "output_type": "stream",
     "text": [
      "请输入队员个数9\n",
      "请输入队员的身高183\n",
      "请输入队员的身高185\n",
      "请输入队员的身高183\n",
      "请输入队员的身高187\n",
      "请输入队员的身高178\n",
      "请输入队员的身高175\n",
      "请输入队员的身高177\n",
      "请输入队员的身高190\n",
      "请输入队员的身高172\n",
      "181.11111111111111\n",
      "请输入队员的身高183\n",
      "183\n",
      "请输入队员的身高185\n",
      "185\n",
      "请输入队员的身高183\n",
      "183\n",
      "请输入队员的身高187\n",
      "187\n",
      "请输入队员的身高178\n",
      "请输入队员的身高175\n",
      "请输入队员的身高177\n",
      "请输入队员的身高190\n",
      "190\n",
      "请输入队员的身高172\n",
      "请输入队员的身高172\n"
     ]
    }
   ],
   "source": [
    "#T4\n",
    "n=int(input('请输入队员个数'))\n",
    "i=0\n",
    "total=0\n",
    "while i<n:\n",
    "    m=int(input('请输入队员的身高'))\n",
    "    i+=1\n",
    "    total+=m\n",
    "    ave=total/n \n",
    "print(ave)\n",
    "\n",
    "N=n\n",
    "j=0\n",
    "while j<N:\n",
    "    M=int(input('请输入队员的身高'))\n",
    "    if M>ave:\n",
    "        print(M)\n",
    "        "
   ]
  },
  {
   "cell_type": "code",
   "execution_count": 3,
   "metadata": {},
   "outputs": [
    {
     "ename": "TypeError",
     "evalue": "randint() missing 1 required positional argument: 'b'",
     "output_type": "error",
     "traceback": [
      "\u001b[0;31m---------------------------------------------------------------------------\u001b[0m",
      "\u001b[0;31mTypeError\u001b[0m                                 Traceback (most recent call last)",
      "\u001b[0;32m<ipython-input-3-bf6ae4f4f495>\u001b[0m in \u001b[0;36m<module>\u001b[0;34m()\u001b[0m\n\u001b[1;32m      5\u001b[0m \u001b[0;32mwhile\u001b[0m \u001b[0mi\u001b[0m\u001b[0;34m<\u001b[0m\u001b[0;36m5\u001b[0m\u001b[0;34m:\u001b[0m\u001b[0;34m\u001b[0m\u001b[0m\n\u001b[1;32m      6\u001b[0m     \u001b[0mi\u001b[0m\u001b[0;34m+=\u001b[0m\u001b[0;36m1\u001b[0m\u001b[0;34m\u001b[0m\u001b[0m\n\u001b[0;32m----> 7\u001b[0;31m     \u001b[0mx\u001b[0m\u001b[0;34m=\u001b[0m\u001b[0mrandom\u001b[0m\u001b[0;34m.\u001b[0m\u001b[0mrandint\u001b[0m\u001b[0;34m(\u001b[0m\u001b[0;36m10\u001b[0m\u001b[0;34m)\u001b[0m\u001b[0;34m\u001b[0m\u001b[0m\n\u001b[0m\u001b[1;32m      8\u001b[0m     \u001b[0my\u001b[0m\u001b[0;34m=\u001b[0m\u001b[0mrandom\u001b[0m\u001b[0;34m.\u001b[0m\u001b[0mrandint\u001b[0m\u001b[0;34m(\u001b[0m\u001b[0;36m10\u001b[0m\u001b[0;34m)\u001b[0m\u001b[0;34m\u001b[0m\u001b[0m\n\u001b[1;32m      9\u001b[0m     \u001b[0mM\u001b[0m\u001b[0;34m=\u001b[0m\u001b[0mx\u001b[0m\u001b[0;34m+\u001b[0m\u001b[0my\u001b[0m\u001b[0;34m\u001b[0m\u001b[0m\n",
      "\u001b[0;31mTypeError\u001b[0m: randint() missing 1 required positional argument: 'b'"
     ]
    }
   ],
   "source": [
    "#T5\n",
    "import random\n",
    "i=0\n",
    "s=0\n",
    "while i<5:\n",
    "    i+=1\n",
    "    x=random.randint(10)\n",
    "    y=random.randint(10)\n",
    "    M=x+y\n",
    "    print(x+y)\n",
    "    m=int(input(''))\n",
    "    if m+M:\n",
    "        score+=20\n",
    "    print(score)"
   ]
  },
  {
   "cell_type": "code",
   "execution_count": null,
   "metadata": {
    "collapsed": true
   },
   "outputs": [],
   "source": [
    "#6\n",
    "def list[]:"
   ]
  }
 ],
 "metadata": {
  "kernelspec": {
   "display_name": "Python 3",
   "language": "python",
   "name": "python3"
  },
  "language_info": {
   "codemirror_mode": {
    "name": "ipython",
    "version": 3
   },
   "file_extension": ".py",
   "mimetype": "text/x-python",
   "name": "python",
   "nbconvert_exporter": "python",
   "pygments_lexer": "ipython3",
   "version": "3.6.3"
  }
 },
 "nbformat": 4,
 "nbformat_minor": 2
}
