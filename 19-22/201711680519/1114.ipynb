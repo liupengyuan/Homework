{
 "cells": [
  {
   "cell_type": "code",
   "execution_count": 26,
   "metadata": {},
   "outputs": [
    {
     "name": "stdout",
     "output_type": "stream",
     "text": [
      "106.72999999999999\n",
      "-10\n",
      "899\n"
     ]
    }
   ],
   "source": [
    "i=0\n",
    "total=0\n",
    "for number in numbers:\n",
    "    total+=number\n",
    "    result=total/10\n",
    "print(result)\n",
    "\n",
    "\n",
    "\n",
    "def computer1(numbers):\n",
    "    min = numbers[0]\n",
    "    for number in numbers:\n",
    "        if number < min:\n",
    "            min = number\n",
    "    return min\n",
    "    print(min)\n",
    "\n",
    "def computer2(numbers): \n",
    "    max = numbers[0]\n",
    "    for number in numbers:\n",
    "        if number > max:\n",
    "            max = number\n",
    "    return max\n",
    "    print(max)\n",
    "\n",
    "numbers=[1,2,-1,55,100,899,-10,3,12.5,5.8]\n",
    "print(computer1(numbers))\n",
    "print(computer2(numbers))\n",
    "\n"
   ]
  },
  {
   "cell_type": "code",
   "execution_count": null,
   "metadata": {
    "collapsed": true
   },
   "outputs": [],
   "source": []
  }
 ],
 "metadata": {
  "kernelspec": {
   "display_name": "Python 3",
   "language": "python",
   "name": "python3"
  },
  "language_info": {
   "codemirror_mode": {
    "name": "ipython",
    "version": 3
   },
   "file_extension": ".py",
   "mimetype": "text/x-python",
   "name": "python",
   "nbconvert_exporter": "python",
   "pygments_lexer": "ipython3",
   "version": "3.6.2"
  }
 },
 "nbformat": 4,
 "nbformat_minor": 2
}
