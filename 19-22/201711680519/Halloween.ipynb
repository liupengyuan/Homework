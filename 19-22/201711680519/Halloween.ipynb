{
 "cells": [
  {
   "cell_type": "code",
   "execution_count": 1,
   "metadata": {},
   "outputs": [
    {
     "name": "stdout",
     "output_type": "stream",
     "text": [
      "请输入一个正整数，以回车结束2\n",
      "请输入一个正整数，以回车结束6\n",
      "722\n"
     ]
    }
   ],
   "source": [
    "m=int(input('请输入一个正整数，以回车结束'))\n",
    "n=int(input('请输入一个正整数，以回车结束'))\n",
    "def my_sum(n):\n",
    "    i=0\n",
    "    total_n=0\n",
    "    while i<n:\n",
    "        i=i+1\n",
    "        total_n=total_n+i\n",
    "    return total_n\n",
    "def my_mul(n):\n",
    "    i=1\n",
    "    total_n=1\n",
    "    while i<n:\n",
    "        i=i+1\n",
    "        total_n=total_n*i\n",
    "    return total_n\n",
    "def my_sum(m):\n",
    "    i=0\n",
    "    total_m=0\n",
    "    while i<m:\n",
    "        i=i+1\n",
    "        total_m=total_m+i\n",
    "    return total_m\n",
    "def my_mul(m):\n",
    "    i=1\n",
    "    total_m=1\n",
    "    while i<m:\n",
    "        i=i+1\n",
    "        total_m=total_m*i\n",
    "    return total_m\n",
    "        \n",
    "if m > n:\n",
    "    print(my_sum(m)+my_sum(n))\n",
    "else:\n",
    "    my_mul(m)\n",
    "    my_mul(n)\n",
    "    print(my_mul(m)+my_mul(n))\n",
    "\n"
   ]
  }
 ],
 "metadata": {
  "kernelspec": {
   "display_name": "Python 3",
   "language": "python",
   "name": "python3"
  },
  "language_info": {
   "codemirror_mode": {
    "name": "ipython",
    "version": 3
   },
   "file_extension": ".py",
   "mimetype": "text/x-python",
   "name": "python",
   "nbconvert_exporter": "python",
   "pygments_lexer": "ipython3",
   "version": "3.6.3"
  }
 },
 "nbformat": 4,
 "nbformat_minor": 2
}
