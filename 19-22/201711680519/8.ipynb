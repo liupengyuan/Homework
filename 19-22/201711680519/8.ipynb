{
 "cells": [
  {
   "cell_type": "code",
   "execution_count": 1,
   "metadata": {},
   "outputs": [
    {
     "name": "stdout",
     "output_type": "stream",
     "text": [
      "上下其手\n",
      "手足之情\n",
      "情不自禁\n",
      "浸润之谮\n",
      "10 10\n"
     ]
    }
   ],
   "source": [
    "import random \n",
    "def main():\n",
    "    fh = open(r'/Users/apple/Desktop/idioms.txt',encoding='gbk')\n",
    "    text = fh.read()\n",
    "    text = text.replace('、', '')\n",
    "    idioms = text.split('\\n')\n",
    "    ch1=random.choice(idioms)\n",
    "    print(ch1)\n",
    "    score_h=0\n",
    "    score_c=0\n",
    "    while True:\n",
    "        ch2=input(str())\n",
    "        if ch1[-1] == ch2[0]:\n",
    "            score_h+=10\n",
    "            while True:\n",
    "                ch3=random.choice(idioms)\n",
    "                if ch3[0] == ch2[-1]:\n",
    "                    score_c+=10\n",
    "                    print(ch3)\n",
    "                    break    \n",
    "        else:\n",
    "            break\n",
    "    \n",
    "    print(score_h,score_c)\n",
    "            \n",
    "            \n",
    "\n",
    "main()"
   ]
  }
 ],
 "metadata": {
  "kernelspec": {
   "display_name": "Python 3",
   "language": "python",
   "name": "python3"
  },
  "language_info": {
   "codemirror_mode": {
    "name": "ipython",
    "version": 3
   },
   "file_extension": ".py",
   "mimetype": "text/x-python",
   "name": "python",
   "nbconvert_exporter": "python",
   "pygments_lexer": "ipython3",
   "version": "3.6.3"
  }
 },
 "nbformat": 4,
 "nbformat_minor": 2
}
