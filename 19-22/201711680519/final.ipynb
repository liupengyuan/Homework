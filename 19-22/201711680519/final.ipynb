{
 "cells": [
  {
   "cell_type": "code",
   "execution_count": 55,
   "metadata": {},
   "outputs": [
    {
     "name": "stdout",
     "output_type": "stream",
     "text": [
      "          * *****  * \n",
      "        * * *****  * * \n",
      "      * * * *****  * * * \n",
      "    * * * * *****  * * * * \n",
      "  * * * * * *****  * * * * * \n"
     ]
    }
   ],
   "source": [
    "#T1\n",
    "def compute(m,n):\n",
    "    for i in range(0,n):\n",
    "        for j in range(2*(n-i),0,-1):\n",
    "            print(' ',end='' )\n",
    "            \n",
    "        for a in range(i+1):\n",
    "            print(m ,'',end='' )\n",
    "            \n",
    "        print(m * 5,end='' )\n",
    "        \n",
    "        print(' ',end= ' ')    \n",
    "        \n",
    "        for c in range(i+1):\n",
    "            print(m ,'',end='' )\n",
    "        \n",
    "        print()    \n",
    "   \n",
    "     \n",
    "    \n",
    "m='*' \n",
    "n=5\n",
    "compute(m,n)"
   ]
  },
  {
   "cell_type": "code",
   "execution_count": 58,
   "metadata": {},
   "outputs": [
    {
     "data": {
      "text/plain": [
       "125"
      ]
     },
     "execution_count": 58,
     "metadata": {},
     "output_type": "execute_result"
    }
   ],
   "source": [
    "#T2\n",
    "def A(m,n):\n",
    "    if m == 0:\n",
    "        result = n + 1\n",
    "    \n",
    "    elif m > 0 and n == 0:\n",
    "        result = A(m-1,1)\n",
    "    \n",
    "    elif m > 0 and n > 0:\n",
    "        result = A(m-1,A(m,n-1))\n",
    "    \n",
    "    return result\n",
    "\n",
    "A(3,4)"
   ]
  },
  {
   "cell_type": "code",
   "execution_count": 8,
   "metadata": {},
   "outputs": [
    {
     "name": "stdout",
     "output_type": "stream",
     "text": [
      "21 * 7 = ?\n",
      "145\n",
      "22 + 11 = ?\n",
      "33\n",
      "18 - 9 = ?\n",
      "9\n",
      "12 - 3 = ?\n",
      "9\n",
      "18 / 6 = ?\n",
      "2\n",
      "12 - 4 = ?\n",
      "8\n",
      "22 * 11 = ?\n",
      "2\n",
      "12 + 3 = ?\n",
      "15\n",
      "22 / 11 = ?\n",
      "2\n",
      "18 + 3 = ?\n",
      "21\n",
      "18 + 6 = ?\n",
      "24\n",
      "24 * 3 = ?\n",
      "567\n",
      "24 / 8 = ?\n",
      "3\n",
      "24 * 6 = ?\n",
      "456\n",
      "12 - 4 = ?\n",
      "8\n",
      "总得分为: 70\n"
     ]
    }
   ],
   "source": [
    "#T3\n",
    "import random\n",
    "F=['+','-','*','/']\n",
    "\n",
    "def compute(a,b,n):\n",
    "    i=0\n",
    "    score=0\n",
    "    while i < n:\n",
    "        x=random.randint(a,b)\n",
    "        y=random.randint(a,b)\n",
    "        f=random.choice(F)\n",
    "        z=x+y\n",
    "        v=x-y\n",
    "        w=x*y\n",
    "        m=x/y\n",
    "        if x > y and m in range(15) :\n",
    "            i+=1\n",
    "            print (x , f , y ,'= ?')\n",
    "            answer=int(input())\n",
    "            if answer==z or answer==v:\n",
    "                score+=5\n",
    "            elif answer==w or answer==m:\n",
    "                score+=10\n",
    "    print('总得分为:',score)\n",
    "                \n",
    "answer_correct=[]            \n",
    "score=0\n",
    "compute(3,25,15)\n",
    "\n",
    "\n"
   ]
  },
  {
   "cell_type": "code",
   "execution_count": 8,
   "metadata": {
    "scrolled": true
   },
   "outputs": [
    {
     "name": "stdout",
     "output_type": "stream",
     "text": [
      "请输入答题个数，以回车结束10\n",
      "输入一个题目，以回车结束1+1\n",
      "总得分为: 5\n",
      "输入一个题目，以回车结束1+2\n",
      "总得分为: 10\n",
      "输入一个题目，以回车结束1+4\n",
      "总得分为: 15\n",
      "输入一个题目，以回车结束5+8\n",
      "总得分为: 20\n",
      "输入一个题目，以回车结束9+12\n",
      "总得分为: 25\n",
      "输入一个题目，以回车结束9+3\n",
      "总得分为: 30\n",
      "输入一个题目，以回车结束9+22\n",
      "总得分为: 35\n",
      "输入一个题目，以回车结束8*1\n",
      "总得分为: 45\n",
      "输入一个题目，以回车结束8*2\n",
      "总得分为: 55\n",
      "输入一个题目，以回车结束8/2\n",
      "总得分为: 65\n"
     ]
    }
   ],
   "source": [
    "#T3 (3)\n",
    "import random\n",
    "F=['+','-','*','/']\n",
    "\n",
    "score=0\n",
    "n=int(input('请输入答题个数，以回车结束'))\n",
    "for i in range(n):\n",
    "    \n",
    "    question=input('输入一个题目，以回车结束')\n",
    "    x=int(question[0])\n",
    "    f=question[1]\n",
    "    y=int(question[2])\n",
    "    \n",
    "    if f=='+' or f=='-':\n",
    "        score+=5\n",
    "    elif f=='*' or f=='/':\n",
    "        score+=10\n",
    "    print('总得分为:',score)\n",
    "               \n"
   ]
  },
  {
   "cell_type": "code",
   "execution_count": 6,
   "metadata": {},
   "outputs": [
    {
     "ename": "AttributeError",
     "evalue": "'_io.TextIOWrapper' object has no attribute 'count'",
     "output_type": "error",
     "traceback": [
      "\u001b[0;31m---------------------------------------------------------------------------\u001b[0m",
      "\u001b[0;31mAttributeError\u001b[0m                            Traceback (most recent call last)",
      "\u001b[0;32m<ipython-input-6-f3b277875fd6>\u001b[0m in \u001b[0;36m<module>\u001b[0;34m()\u001b[0m\n\u001b[1;32m      9\u001b[0m \u001b[0;34m\u001b[0m\u001b[0m\n\u001b[1;32m     10\u001b[0m             \u001b[0;32mfor\u001b[0m \u001b[0ma\u001b[0m \u001b[0;32min\u001b[0m \u001b[0mA\u001b[0m\u001b[0;34m:\u001b[0m\u001b[0;34m\u001b[0m\u001b[0m\n\u001b[0;32m---> 11\u001b[0;31m                 \u001b[0mnumber\u001b[0m\u001b[0;34m=\u001b[0m\u001b[0mf\u001b[0m\u001b[0;34m.\u001b[0m\u001b[0mcount\u001b[0m\u001b[0;34m(\u001b[0m\u001b[0ma\u001b[0m\u001b[0;34m)\u001b[0m\u001b[0;34m\u001b[0m\u001b[0m\n\u001b[0m\u001b[1;32m     12\u001b[0m                 \u001b[0mM\u001b[0m\u001b[0;34m.\u001b[0m\u001b[0mappend\u001b[0m\u001b[0;34m(\u001b[0m\u001b[0mm\u001b[0m\u001b[0;34m)\u001b[0m\u001b[0;34m\u001b[0m\u001b[0m\n\u001b[1;32m     13\u001b[0m \u001b[0;34m\u001b[0m\u001b[0m\n",
      "\u001b[0;31mAttributeError\u001b[0m: '_io.TextIOWrapper' object has no attribute 'count'"
     ]
    }
   ],
   "source": [
    "#T4 (a) (b)\n",
    "filename = r'/Users/apple/Downloads/idioms.txt'\n",
    "A = []\n",
    "M = []\n",
    "with open(filename , encoding='gbk') as f:\n",
    "    for word in f:\n",
    "        if len(word)==4:\n",
    "            A.append(word)\n",
    "            \n",
    "            for a in A:\n",
    "                number=f.count(a)\n",
    "                M.append(m)\n",
    "                \n",
    "            M.sort()\n",
    "            M.reverse()\n",
    "            for i in range(20):\n",
    "                print(M[i])\n",
    "\n",
    "(e)                \n",
    "s1=0\n",
    "for word in A:\n",
    "    s1+=len(word)\n",
    "    \n",
    "                   "
   ]
  },
  {
   "cell_type": "code",
   "execution_count": 7,
   "metadata": {},
   "outputs": [
    {
     "ename": "NameError",
     "evalue": "name 'fw' is not defined",
     "output_type": "error",
     "traceback": [
      "\u001b[0;31m---------------------------------------------------------------------------\u001b[0m",
      "\u001b[0;31mNameError\u001b[0m                                 Traceback (most recent call last)",
      "\u001b[0;32m<ipython-input-7-90927b9ae6eb>\u001b[0m in \u001b[0;36m<module>\u001b[0;34m()\u001b[0m\n\u001b[1;32m     21\u001b[0m \u001b[0;34m\u001b[0m\u001b[0m\n\u001b[1;32m     22\u001b[0m \u001b[0ms2\u001b[0m\u001b[0;34m=\u001b[0m\u001b[0;36m0\u001b[0m\u001b[0;34m\u001b[0m\u001b[0m\n\u001b[0;32m---> 23\u001b[0;31m \u001b[0;32mfor\u001b[0m \u001b[0mwords_dic\u001b[0m \u001b[0;32min\u001b[0m \u001b[0mfw\u001b[0m\u001b[0;34m:\u001b[0m\u001b[0;34m\u001b[0m\u001b[0m\n\u001b[0m\u001b[1;32m     24\u001b[0m     \u001b[0ms2\u001b[0m \u001b[0;34m+=\u001b[0m \u001b[0mlen\u001b[0m\u001b[0;34m(\u001b[0m\u001b[0mwords_dic\u001b[0m\u001b[0;34m)\u001b[0m\u001b[0;34m\u001b[0m\u001b[0m\n",
      "\u001b[0;31mNameError\u001b[0m: name 'fw' is not defined"
     ]
    }
   ],
   "source": [
    "#T4 (c) (d)   \n",
    "from collections import Counter\n",
    "\n",
    "def count_words(filename):\n",
    "    words_dict = Counter()\n",
    "    \n",
    "    with open(filename , encoding='gbk') as fw:\n",
    "        for line in fw:\n",
    "            words_dict.update([word.split('/')[0] for word in line.split()])\n",
    "    return words_dict\n",
    "\n",
    "def main():\n",
    "    filename =  r'/Users/apple/Desktop/语料.txt'\n",
    "    table = count_words(filename)\n",
    "    \n",
    "\n",
    "if __name__ == '__main__':\n",
    "    main()\n",
    "\n",
    "    \n",
    "    \n",
    "s2=0\n",
    "for words_dic in fw:\n",
    "    s2 += len(words_dic)"
   ]
  },
  {
   "cell_type": "code",
   "execution_count": null,
   "metadata": {
    "collapsed": true
   },
   "outputs": [],
   "source": [
    "#(f)\n",
    "import random \n",
    "\n",
    "\n",
    "A = []\n",
    "M = []\n",
    "with open(r'/Users/apple/Downloads/idioms.txt' , encoding='gbk') as fw and with open( r'/Users/apple/Desktop/语料.txt', encoding='gbk') as fr:\n",
    "    for word in fw:\n",
    "        if len(word)==4:\n",
    "            A.append(word)\n",
    "    \n",
    "    text = fr.read()\n",
    "    text = text.replace('、', '')\n",
    "    B = text.split('\\n')\n",
    "    \n",
    "              \n",
    "\n",
    "new=[]\n",
    "for j in range(len(A)):\n",
    "    ch_human = input(str())\n",
    "    ch_compute = random.choice(B)\n",
    "\n",
    "    if ch_compute in A and ch_human[-1] == ch_compute[0] and len(ch_compute)=2:\n",
    "        print(ch_compute)\n",
    "        new.append(ch_compute,ch_human)\n",
    "        A.remove(ch_compute,ch_human)   \n",
    "    \n",
    "    else:\n",
    "        break\n",
    "    \n",
    "  \n",
    "\n"
   ]
  }
 ],
 "metadata": {
  "kernelspec": {
   "display_name": "Python 3",
   "language": "python",
   "name": "python3"
  },
  "language_info": {
   "codemirror_mode": {
    "name": "ipython",
    "version": 3
   },
   "file_extension": ".py",
   "mimetype": "text/x-python",
   "name": "python",
   "nbconvert_exporter": "python",
   "pygments_lexer": "ipython3",
   "version": "3.6.3"
  }
 },
 "nbformat": 4,
 "nbformat_minor": 2
}
