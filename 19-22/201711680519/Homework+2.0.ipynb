{
 "cells": [
  {
   "cell_type": "code",
   "execution_count": 63,
   "metadata": {},
   "outputs": [
    {
     "name": "stdout",
     "output_type": "stream",
     "text": [
      "请输入你的姓名，以回车结束li\n",
      "你的姓名为: li\n",
      "请输入你的出生月份7\n",
      "请输入你的出生日期24\n",
      "您的是出生月份和日期为: (7, 24)\n",
      "狮子座\n"
     ]
    }
   ],
   "source": [
    "n=input('请输入你的姓名，以回车结束')\n",
    "print('你的姓名为:',n)\n",
    "m=int(input('请输入你的出生月份'))\n",
    "d=int(input('请输入你的出生日期'))\n",
    "print('您的是出生月份和日期为:',(m,d))\n",
    "if m==12 and 22<=d<=31 or m==1 and 1<=d<=19:\n",
    "    print('摩羯座')\n",
    "elif m==1 and 20<=d<=30 or m==2 and 1<=d<=18:\n",
    "    print('水瓶座')\n",
    "elif m==2 and 19<=d<=30 or m==3 and 1<=d<=20:\n",
    "    print('双鱼座')\n",
    "elif m==3 and 21<=d<=31 or m==4 and 1<=d<=19:\n",
    "    print('白羊座')\n",
    "elif m==4 and 20<=d<=30 or m==5 and 1<=d<=20:\n",
    "    print('金牛座')\n",
    "elif m==5 and 21<=d<=31 or m==6 and 1<=d<=21:\n",
    "    print('双子座')\n",
    "elif m==6 and 22<=d<=30 or m==7 and 1<=d<=22:\n",
    "    print('巨蟹座')\n",
    "elif m==7 and 23<=d<=31 or m==8 and 1<=d<=22:\n",
    "    print('狮子座')\n",
    "elif m==8 and 23<=d<=31 or m==9 and 1<=d<=22:\n",
    "    print('处女座')\n",
    "elif m==9 and 23<=d<=30 or m==10 and 1<=d<=23:\n",
    "    print('天枰座')\n",
    "elif m==10 and 24<=d<=31 or m==11 and 1<=d<=22:\n",
    "    print('天蝎座')\n",
    "elif m==11 and 23<=d<=30 or m==12 and 1<=d<=21:\n",
    "    print('射手座')"
   ]
  },
  {
   "cell_type": "code",
   "execution_count": 62,
   "metadata": {},
   "outputs": [
    {
     "name": "stdout",
     "output_type": "stream",
     "text": [
      "请输入一个整数5\n",
      "请输入一个不为0的整数8\n",
      "用户的意图:求乘积\n",
      "40\n"
     ]
    }
   ],
   "source": [
    "m=int(input('请输入一个整数'))\n",
    "n=int(input('请输入一个不为0的整数'))\n",
    "a=input('用户的意图:')\n",
    "if a=='求和':\n",
    "    total=m+n\n",
    "    print(total)\n",
    "elif a=='求乘积':\n",
    "    mul=m*n\n",
    "    print(mul)\n",
    "elif a=='求余数':\n",
    "    yu=m%n\n",
    "    print(yu)\n",
    "else:\n",
    "    zheng=m//n\n",
    "    print(zheng)"
   ]
  },
  {
   "cell_type": "code",
   "execution_count": 1,
   "metadata": {},
   "outputs": [
    {
     "name": "stdout",
     "output_type": "stream",
     "text": [
      "输入一个单数形式的英语动词watch\n",
      "watches\n"
     ]
    }
   ],
   "source": [
    "n=input('输入一个单数形式的英语单词')\n",
    "\n",
    "if n.endswith('ch'or'sh'or's'or'x'):\n",
    "    print(n+'es')\n",
    "else:\n",
    "    print(n+'s')"
   ]
  },
  {
   "cell_type": "code",
   "execution_count": 4,
   "metadata": {},
   "outputs": [
    {
     "name": "stdout",
     "output_type": "stream",
     "text": [
      "\n",
      "\n"
     ]
    }
   ],
   "source": [
    "print('\\n')"
   ]
  }
 ],
 "metadata": {
  "kernelspec": {
   "display_name": "Python 3",
   "language": "python",
   "name": "python3"
  },
  "language_info": {
   "codemirror_mode": {
    "name": "ipython",
    "version": 3
   },
   "file_extension": ".py",
   "mimetype": "text/x-python",
   "name": "python",
   "nbconvert_exporter": "python",
   "pygments_lexer": "ipython3",
   "version": "3.6.3"
  }
 },
 "nbformat": 4,
 "nbformat_minor": 2
}
