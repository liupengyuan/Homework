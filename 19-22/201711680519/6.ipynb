{
 "cells": [
  {
   "cell_type": "code",
   "execution_count": 78,
   "metadata": {},
   "outputs": [
    {
     "name": "stdout",
     "output_type": "stream",
     "text": [
      "请输入一个元素，以回车结束ee\n",
      "元素在list中的位置为： 4\n",
      "4\n"
     ]
    }
   ],
   "source": [
    "#写函数，返回某个元素/对象在一个list中的位置，如果不在，则返回-1.\n",
    "def compute(lines):\n",
    "    n=input('请输入一个元素，以回车结束')\n",
    "    if n in lines:\n",
    "        print('元素在list中的位置为：',lines.index(n))\n",
    "    else :\n",
    "        print(-1)\n",
    "    return lines.index(n)\n",
    "        \n",
    "\n",
    "lines=[2,'car',9,18,'ee','abc']        \n",
    "print(compute(lines))      "
   ]
  },
  {
   "cell_type": "code",
   "execution_count": 75,
   "metadata": {},
   "outputs": [
    {
     "name": "stdout",
     "output_type": "stream",
     "text": [
      "[1, 5, 2, 6, 3, 7, 4, 8]\n",
      "[1, 5, 2, 6, 3, 7, 4, 8]\n"
     ]
    }
   ],
   "source": [
    "#写函数，可将两个相同长度的list，间隔插入，生成新的list。例如：给两个list，a=[1,2,3,4], b=[5,6,7,8]。则可以生成：[1,5,2,6,3,7,4,8]。\n",
    "def compute(line):\n",
    "    i=0\n",
    "    j=0\n",
    "    n=len(I)\n",
    "    B=[]\n",
    "    while i<n and j<n:\n",
    "        p=a[i] \n",
    "        q=b[j]\n",
    "        i+=1\n",
    "        j+=1\n",
    "        A=[p,q]\n",
    "        B=B+A\n",
    "    return B\n",
    "    \n",
    "\n",
    "a=[1,2,3,4]\n",
    "b=[5,6,7,8]\n",
    "print(compute(I))\n",
    "print(compute(J))"
   ]
  },
  {
   "cell_type": "code",
   "execution_count": 33,
   "metadata": {},
   "outputs": [
    {
     "name": "stdout",
     "output_type": "stream",
     "text": [
      "两个向量的夹角余弦值为 1.0\n"
     ]
    }
   ],
   "source": [
    "#写函数，可求两个向量的夹角余弦值，向量可放在list中。主程序调用该函数。\n",
    "def cos(x,y):\n",
    "    a=0\n",
    "    b=0\n",
    "    c=0\n",
    "    for i in range(len(x)):\n",
    "        a+=x[i]*y[i]   \n",
    "        b+=x[i]**2     \n",
    "        c+=y[i]**2     \n",
    "        result=a/((b*c)**(1/2))\n",
    "    print('两个向量的夹角余弦值为',result) \n",
    "\n",
    "    \n",
    "cos([1,1],[1,1])"
   ]
  },
  {
   "cell_type": "code",
   "execution_count": 145,
   "metadata": {},
   "outputs": [
    {
     "name": "stdout",
     "output_type": "stream",
     "text": [
      "5 5 90\n",
      "5 10 85\n",
      "5 15 80\n",
      "5 20 75\n",
      "5 25 70\n",
      "5 30 65\n",
      "5 35 60\n",
      "5 40 55\n",
      "5 45 50\n",
      "5 50 45\n",
      "5 55 40\n",
      "5 60 35\n",
      "5 65 30\n",
      "5 70 25\n",
      "5 75 20\n",
      "5 80 15\n",
      "5 85 10\n",
      "5 90 5\n",
      "-------------------\n",
      "90 5 5\n",
      "5 5 10\n",
      "90 5 15\n",
      "5 5 20\n",
      "90 5 25\n",
      "5 5 30\n",
      "90 5 35\n",
      "5 5 40\n",
      "90 5 45\n",
      "5 5 50\n",
      "90 5 55\n",
      "5 5 60\n",
      "90 5 65\n",
      "5 5 70\n",
      "90 5 75\n",
      "5 5 80\n",
      "90 5 85\n",
      "5 5 90\n",
      "-------------------\n",
      "5 90 5\n",
      "10 85 5\n",
      "15 80 5\n",
      "20 75 5\n",
      "25 70 5\n",
      "30 65 5\n",
      "35 60 5\n",
      "40 55 5\n",
      "45 50 5\n",
      "50 45 5\n",
      "55 40 5\n",
      "60 35 5\n",
      "65 30 5\n",
      "70 25 5\n",
      "75 20 5\n",
      "80 15 5\n",
      "85 10 5\n",
      "90 5 5\n",
      "共有 54 种分法\n"
     ]
    }
   ],
   "source": [
    "#挑战性习题：python语言老师为了激励学生学python，自费买了100个完全相同的Macbook Pro，分给三个班级，每个班级至少分5个，用穷举法计算共有多少种分法？\n",
    "a=5\n",
    "b=0\n",
    "while b<90:\n",
    "    b+=5\n",
    "    c=100-a-b\n",
    "    print(a,b,c)\n",
    "print('-------------------')\n",
    "b=5\n",
    "c=0\n",
    "while c<90:\n",
    "    c+=5\n",
    "    a=100-a-b\n",
    "    print(a,b,c)\n",
    "print('-------------------')\n",
    "c=5\n",
    "a=0\n",
    "while a<90:\n",
    "    a+=5\n",
    "    b=100-a-c\n",
    "    print(a,b,c)\n",
    "\n",
    "n=18\n",
    "sum=n*3\n",
    "print('共有',sum,'种分法')"
   ]
  }
 ],
 "metadata": {
  "kernelspec": {
   "display_name": "Python 3",
   "language": "python",
   "name": "python3"
  },
  "language_info": {
   "codemirror_mode": {
    "name": "ipython",
    "version": 3
   },
   "file_extension": ".py",
   "mimetype": "text/x-python",
   "name": "python",
   "nbconvert_exporter": "python",
   "pygments_lexer": "ipython3",
   "version": "3.6.2"
  }
 },
 "nbformat": 4,
 "nbformat_minor": 2
}
