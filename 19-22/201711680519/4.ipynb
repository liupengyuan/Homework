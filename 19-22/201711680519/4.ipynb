{
 "cells": [
  {
   "cell_type": "code",
   "execution_count": 14,
   "metadata": {},
   "outputs": [
    {
     "name": "stdout",
     "output_type": "stream",
     "text": [
      "41160\n"
     ]
    }
   ],
   "source": [
    "#仿照求$ \\sum_{i=1}^mi + \\sum_{i=1}^ni  + \\sum_{i=1}^ki$的完整代码，写程序，可求m!+n!+k!\n",
    "def my_mul(a):\n",
    "    i=1\n",
    "    total_a=1\n",
    "    while i<a:\n",
    "        i=i+1\n",
    "        total_a=total_a*i\n",
    "    return total_a\n",
    "\n",
    "#主函数\n",
    "m=5\n",
    "n=6\n",
    "k=8\n",
    "print(my_mul(m)+my_mul(n)+my_mul(k))"
   ]
  },
  {
   "cell_type": "code",
   "execution_count": 8,
   "metadata": {},
   "outputs": [
    {
     "name": "stdout",
     "output_type": "stream",
     "text": [
      "6.2821753074295135\n"
     ]
    }
   ],
   "source": [
    "#写函数可返回1 - 1/3 + 1/5 - 1/7...的前n项的和。在主程序中，分别令n=1000及100000，打印4倍该函数的和。\n",
    "def compute_sum(n):\n",
    "    i=0\n",
    "    total_n=0\n",
    "    while i<n:\n",
    "        i=i+1\n",
    "        total_n=total_n+(-1)**(i-1)/(2*i-1)\n",
    "    return total_n\n",
    "\n",
    "    \n",
    "#主函数    \n",
    "compute_sum(1000)\n",
    "compute_sum(100000)\n",
    "print(4*(compute_sum(1000)+compute_sum(100000)))"
   ]
  },
  {
   "cell_type": "code",
   "execution_count": 10,
   "metadata": {
    "scrolled": true
   },
   "outputs": [
    {
     "name": "stdout",
     "output_type": "stream",
     "text": [
      "你是一个非常有个性的狮子座\n"
     ]
    }
   ],
   "source": [
    "#将task3中的练习1改写为函数，并进行调用。\n",
    "def date(m): \n",
    "    if 12.22<=m<=1.9:\n",
    "        print('你是一个非常有个性的摩羯座')\n",
    "    elif 1.20<=m<=2.18:\n",
    "        print('你是一个非常有个性的水瓶座')\n",
    "    elif 2.19<=m<=3.20:\n",
    "        print('你是一个非常有个性的双鱼座')\n",
    "    elif 3.21<=m<=4.19:\n",
    "        print('你是一个非常有个性的白羊座')\n",
    "    elif 4.20<=m<=5.20:\n",
    "        print('你是一个非常有个性的金牛座')\n",
    "    elif 5.21<=m<=6.21:\n",
    "        print('你是一个非常有个性的双子座')\n",
    "    elif 6.22<=m<=7.22:\n",
    "        print('你是一个非常有个性的巨蟹座')\n",
    "    elif 7.23<=m<=8.22:\n",
    "        print('你是一个非常有个性的狮子座')\n",
    "    elif 8.23<=m<=9.22:\n",
    "        print('你是一个非常有个性的处女座')\n",
    "    elif 9.23<=m<=10.23:\n",
    "        print('你是一个非常有个性的天枰座')\n",
    "    elif 10.24<=m<=11.22:\n",
    "        print('你是一个非常有个性的天蝎座')\n",
    "    elif 11.23<=m<=12.21:\n",
    "        print('你是一个非常有个性的射手座')\n",
    "    else:\n",
    "        print('输入非法！')\n",
    "        \n",
    "#主函数\n",
    "date(8.18)"
   ]
  },
  {
   "cell_type": "code",
   "execution_count": 29,
   "metadata": {},
   "outputs": [
    {
     "data": {
      "text/plain": [
       "'watches'"
      ]
     },
     "execution_count": 29,
     "metadata": {},
     "output_type": "execute_result"
    }
   ],
   "source": [
    "#将task3中的练习4改写为函数，并进行调用。\n",
    "def word(m):\n",
    "    if m.endswith('ch'):\n",
    "        m=m+'es'\n",
    "    elif m.endswith('sh'):\n",
    "        m=m+'es'\n",
    "    elif m.endswith('x'):\n",
    "        m=m+'es'\n",
    "    elif m.endswith('s'):\n",
    "        m=m+'es'\n",
    "    elif m.endswith('y'):\n",
    "        m=('变y为i加es')\n",
    "    elif m.endswith('f'):\n",
    "        m=('变f为v加es')\n",
    "    else:\n",
    "        m=m+'s'\n",
    "    return m\n",
    "\n",
    "#主函数\n",
    "word('watch')"
   ]
  },
  {
   "cell_type": "code",
   "execution_count": 22,
   "metadata": {
    "scrolled": true
   },
   "outputs": [
    {
     "data": {
      "text/plain": [
       "15"
      ]
     },
     "execution_count": 22,
     "metadata": {},
     "output_type": "execute_result"
    }
   ],
   "source": [
    "#写程序，可以求从整数m到整数n累加的和，间隔为k，求和部分需用函数实现，主程序中由用户输入m，n，k调用函数验证正确性。\n",
    "def compute_sum(m,n,k):\n",
    "    \n",
    "    total=0\n",
    "    if (n-m)%k==0:\n",
    "        while m <=n:\n",
    "            total=total+m\n",
    "            m=m+k\n",
    "    else:\n",
    "        while m <= (n-((n-m)%k)):\n",
    "            total=total+m\n",
    "            m=m+k\n",
    "    return total\n",
    "\n",
    "#主函数\n",
    "compute_sum(2,10,3)\n"
   ]
  }
 ],
 "metadata": {
  "kernelspec": {
   "display_name": "Python 3",
   "language": "python",
   "name": "python3"
  },
  "language_info": {
   "codemirror_mode": {
    "name": "ipython",
    "version": 3
   },
   "file_extension": ".py",
   "mimetype": "text/x-python",
   "name": "python",
   "nbconvert_exporter": "python",
   "pygments_lexer": "ipython3",
   "version": "3.6.3"
  }
 },
 "nbformat": 4,
 "nbformat_minor": 2
}
