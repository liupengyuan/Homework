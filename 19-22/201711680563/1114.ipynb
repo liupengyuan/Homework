{
 "cells": [
  {
   "cell_type": "code",
   "execution_count": null,
   "metadata": {
    "collapsed": true
   },
   "outputs": [],
   "source": [
    "写函数，返回一个list中的最大值，最小值，平均值。（不用内置的求和求函数）"
   ]
  },
  {
   "cell_type": "code",
   "execution_count": 2,
   "metadata": {},
   "outputs": [
    {
     "name": "stdout",
     "output_type": "stream",
     "text": [
      "899 是最大值\n",
      "-10 是最小值\n",
      "106.72999999999999 是平均值\n"
     ]
    }
   ],
   "source": [
    "def list_n():\n",
    "    numbers=[1,2,-1,55,100,899,-10,3,12.5,5.8]\n",
    "    total=1+2+(-1)+55+100+899+(-10)+3+12.5+5.8\n",
    "    for i in range(len(numbers)):\n",
    "        for j in range(i+1,len(numbers)):\n",
    "            number_1=numbers[i]\n",
    "            number_2=numbers[j]\n",
    "            \n",
    "            \n",
    "            if number_1<number_2:\n",
    "                numbers[i]=numbers[j]\n",
    "                numbers[j]=number_1\n",
    "                \n",
    "    sum_=total/10 \n",
    "    print(numbers[0],'是最大值')\n",
    "    print(numbers[9],'是最小值')\n",
    "    print(sum_,'是平均值')\n",
    "list_n()"
   ]
  },
  {
   "cell_type": "code",
   "execution_count": 5,
   "metadata": {},
   "outputs": [
    {
     "ename": "IndentationError",
     "evalue": "expected an indented block (<ipython-input-5-3bf120b35275>, line 13)",
     "output_type": "error",
     "traceback": [
      "\u001b[1;36m  File \u001b[1;32m\"<ipython-input-5-3bf120b35275>\"\u001b[1;36m, line \u001b[1;32m13\u001b[0m\n\u001b[1;33m    for j in range(i+1,len(numbers)):\u001b[0m\n\u001b[1;37m      ^\u001b[0m\n\u001b[1;31mIndentationError\u001b[0m\u001b[1;31m:\u001b[0m expected an indented block\n"
     ]
    }
   ],
   "source": [
    "def list_n():\n",
    "    numbers=[]\n",
    "    n = int(input('请输入一个整数，表示将要输入的数目，回车结束。'))\n",
    "    i=0\n",
    "    total=0\n",
    "    while i<n:\n",
    "        number=input('请输入一个数字，回车结束。')\n",
    "        numbers.append(number)\n",
    "        i=i+1\n",
    "        total=total+number\n",
    "    print(numbers)\n",
    "    for i in range(len(numbers)):\n",
    "    for j in range(i+1,len(numbers)):\n",
    "        number_1=numbers[i]\n",
    "        number_2=numbers[j]\n",
    "    sum_=total/n\n",
    "    print(sum_,'是平均值',min_,'是最小值',max_,'是最大值')\n",
    "    \n",
    "list_n()\n",
    "        "
   ]
  },
  {
   "cell_type": "code",
   "execution_count": null,
   "metadata": {
    "collapsed": true
   },
   "outputs": [],
   "source": []
  },
  {
   "cell_type": "code",
   "execution_count": null,
   "metadata": {
    "collapsed": true
   },
   "outputs": [],
   "source": []
  },
  {
   "cell_type": "code",
   "execution_count": null,
   "metadata": {
    "collapsed": true
   },
   "outputs": [],
   "source": []
  }
 ],
 "metadata": {
  "kernelspec": {
   "display_name": "Python 3",
   "language": "python",
   "name": "python3"
  },
  "language_info": {
   "codemirror_mode": {
    "name": "ipython",
    "version": 3
   },
   "file_extension": ".py",
   "mimetype": "text/x-python",
   "name": "python",
   "nbconvert_exporter": "python",
   "pygments_lexer": "ipython3",
   "version": "3.6.3"
  }
 },
 "nbformat": 4,
 "nbformat_minor": 2
}
