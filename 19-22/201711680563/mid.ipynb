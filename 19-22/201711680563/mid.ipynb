{
 "cells": [
  {
   "cell_type": "code",
   "execution_count": null,
   "metadata": {
    "collapsed": true
   },
   "outputs": [],
   "source": [
    "1"
   ]
  },
  {
   "cell_type": "code",
   "execution_count": 2,
   "metadata": {
    "collapsed": false,
    "scrolled": true
   },
   "outputs": [
    {
     "name": "stdout",
     "output_type": "stream",
     "text": [
      "3\n",
      "10\n"
     ]
    }
   ],
   "source": [
    "def num():\n",
    "    m=int(input())\n",
    "    i=1\n",
    "    total=0\n",
    "    last=1\n",
    "    while i<=m:\n",
    "        total+=last\n",
    "        i+=1\n",
    "        last+=i\n",
    "    print(total)\n",
    "num()\n",
    "        \n",
    "        \n",
    "        \n",
    "        "
   ]
  },
  {
   "cell_type": "code",
   "execution_count": null,
   "metadata": {
    "collapsed": true
   },
   "outputs": [],
   "source": [
    "2"
   ]
  },
  {
   "cell_type": "code",
   "execution_count": 1,
   "metadata": {
    "collapsed": false
   },
   "outputs": [
    {
     "name": "stdout",
     "output_type": "stream",
     "text": [
      "行数3\n",
      "*\n",
      "['*', '*']\n",
      "['*', '*', '*', '*']\n",
      "['*', '*', '*', '*', '*', '*']\n"
     ]
    }
   ],
   "source": [
    "def fi():\n",
    "    n=int(input('行数'))\n",
    "    m=[]\n",
    "    a=str(input())\n",
    "    for i in range(n):\n",
    "        m.append(a)\n",
    "        m.append(a)\n",
    "        print(m)\n",
    "fi()\n",
    "        "
   ]
  },
  {
   "cell_type": "code",
   "execution_count": null,
   "metadata": {
    "collapsed": true
   },
   "outputs": [],
   "source": [
    "3"
   ]
  },
  {
   "cell_type": "code",
   "execution_count": 4,
   "metadata": {
    "collapsed": false
   },
   "outputs": [
    {
     "ename": "SyntaxError",
     "evalue": "invalid syntax (<ipython-input-4-e36720d5ec00>, line 1)",
     "output_type": "error",
     "traceback": [
      "\u001b[0;36m  File \u001b[0;32m\"<ipython-input-4-e36720d5ec00>\"\u001b[0;36m, line \u001b[0;32m1\u001b[0m\n\u001b[0;31m    import\u001b[0m\n\u001b[0m           ^\u001b[0m\n\u001b[0;31mSyntaxError\u001b[0m\u001b[0;31m:\u001b[0m invalid syntax\n"
     ]
    }
   ],
   "source": [
    "import \n",
    "def first():\n",
    "    n=int(input('输入一位正整数'))\n",
    "    m=start(n)\n",
    "    print(m)\n",
    "first()"
   ]
  },
  {
   "cell_type": "code",
   "execution_count": null,
   "metadata": {
    "collapsed": true
   },
   "outputs": [],
   "source": [
    "4"
   ]
  },
  {
   "cell_type": "code",
   "execution_count": 7,
   "metadata": {
    "collapsed": false
   },
   "outputs": [
    {
     "name": "stdout",
     "output_type": "stream",
     "text": [
      "队员人数9\n",
      "身高183\n",
      "身高185\n",
      "身高183\n",
      "身高187\n",
      "身高178\n",
      "身高175\n",
      "身高177\n",
      "身高190\n",
      "身高172\n",
      "181.11111111111111\n",
      "183\n",
      "185\n",
      "183\n",
      "187\n",
      "190\n"
     ]
    }
   ],
   "source": [
    "import math\n",
    "def sh():\n",
    "    n=[]\n",
    "    m=int(input('队员人数'))\n",
    "    for i in range(m):\n",
    "        l=int(input('身高'))\n",
    "        n.append(l)\n",
    "    s=sum(n)\n",
    "    total=s/m\n",
    "    print(total)\n",
    "    for i in range(len(n)):\n",
    "        if n[i] > total:\n",
    "            print(n[i])\n",
    "sh()\n",
    "        "
   ]
  },
  {
   "cell_type": "code",
   "execution_count": null,
   "metadata": {
    "collapsed": true
   },
   "outputs": [],
   "source": [
    "5"
   ]
  },
  {
   "cell_type": "code",
   "execution_count": 1,
   "metadata": {
    "collapsed": false
   },
   "outputs": [
    {
     "name": "stdout",
     "output_type": "stream",
     "text": [
      "10\n",
      "9\n",
      "计算上面两数字之和 输入得数19\n",
      "7\n",
      "9\n",
      "计算上面两数字之和 输入得数16\n",
      "0\n",
      "0\n",
      "计算上面两数字之和 输入得数0\n",
      "8\n",
      "8\n",
      "计算上面两数字之和 输入得数16\n",
      "5\n",
      "2\n",
      "计算上面两数字之和 输入得数7\n",
      "100\n"
     ]
    }
   ],
   "source": [
    "import random\n",
    "def summary():\n",
    "    i=0\n",
    "    total=0\n",
    "    \n",
    "    while i<5:\n",
    "        j=random.randint(0,10)\n",
    "        b=random.randint(0,10)\n",
    "        print(j)\n",
    "        print(b)\n",
    "        n=int(input('计算上面两数字之和 输入得数'))\n",
    "        i=i+1\n",
    "        if n==j+b:\n",
    "            total+=20\n",
    "    print(total)\n",
    "summary()\n",
    "    \n",
    "            \n",
    "    \n",
    "    "
   ]
  },
  {
   "cell_type": "code",
   "execution_count": null,
   "metadata": {
    "collapsed": true
   },
   "outputs": [],
   "source": [
    "6"
   ]
  },
  {
   "cell_type": "code",
   "execution_count": 3,
   "metadata": {
    "collapsed": false
   },
   "outputs": [
    {
     "name": "stdout",
     "output_type": "stream",
     "text": [
      "7\n",
      "3\n",
      "-5\n",
      "9\n",
      "108\n",
      "34\n",
      "-76\n",
      "88\n",
      "[3, -5, 9, 108, 34, -76, 88]\n",
      "-76 108\n",
      "[-76, 3, -5, 9, 108, 34, -76, 108, 88]\n"
     ]
    }
   ],
   "source": [
    "import math\n",
    "def ch():\n",
    "    n=[]\n",
    "    m=int(input())\n",
    "    for i in range(m):\n",
    "        a=int(input())\n",
    "        n.append(a)\n",
    "    print(n)\n",
    "    m1=min(n)\n",
    "    m2=max(n)\n",
    "    print(m1,m2)\n",
    "    n.insert(0,m1)\n",
    "    n.insert(m,m2)\n",
    "    print(n)\n",
    "ch()\n",
    "    "
   ]
  },
  {
   "cell_type": "code",
   "execution_count": null,
   "metadata": {
    "collapsed": true
   },
   "outputs": [],
   "source": []
  }
 ],
 "metadata": {
  "kernelspec": {
   "display_name": "Python 3",
   "language": "python",
   "name": "python3"
  },
  "language_info": {
   "codemirror_mode": {
    "name": "ipython",
    "version": 3
   },
   "file_extension": ".py",
   "mimetype": "text/x-python",
   "name": "python",
   "nbconvert_exporter": "python",
   "pygments_lexer": "ipython3",
   "version": "3.6.0"
  }
 },
 "nbformat": 4,
 "nbformat_minor": 2
}
