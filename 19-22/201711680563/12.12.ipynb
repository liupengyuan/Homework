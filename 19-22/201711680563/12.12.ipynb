{
 "cells": [
  {
   "cell_type": "code",
   "execution_count": 28,
   "metadata": {
    "scrolled": false
   },
   "outputs": [
    {
     "name": "stdout",
     "output_type": "stream",
     "text": [
      "10\n",
      "<built-in method read of _io.TextIOWrapper object at 0x00000217BC2827E0>\n",
      "<built-in method read of _io.TextIOWrapper object at 0x00000217BC282480>\n",
      "<built-in method read of _io.TextIOWrapper object at 0x00000217BC2827E0>\n",
      "<built-in method read of _io.TextIOWrapper object at 0x00000217BC282480>\n",
      "<built-in method read of _io.TextIOWrapper object at 0x00000217BC2827E0>\n",
      "<built-in method read of _io.TextIOWrapper object at 0x00000217BC282480>\n",
      "<built-in method read of _io.TextIOWrapper object at 0x00000217BC2827E0>\n",
      "<built-in method read of _io.TextIOWrapper object at 0x00000217BC282480>\n",
      "<built-in method read of _io.TextIOWrapper object at 0x00000217BC2827E0>\n",
      "<built-in method read of _io.TextIOWrapper object at 0x00000217BC282480>\n"
     ]
    }
   ],
   "source": [
    "import random\n",
    "fh = open(r'E:\\idioms.txt')\n",
    "text = fh.read()\n",
    "fh.close()\n",
    "text = text.replace('、', '')\n",
    "idioms = text.split('\\n')\n",
    "fh = open(r'E:\\idioms_correct.txt', 'w')\n",
    "fh.writelines(idioms)\n",
    "fh.close()\n",
    "def get_ch_table(line):\n",
    "    ch_table = []\n",
    "    for ch in line:\n",
    "        if ch not in ch_table:\n",
    "            ch_table.append(ch)\n",
    "    return ch_table\n",
    "def cy(n):\n",
    "    chs = get_ch_table(idioms)\n",
    "    n=str(1)\n",
    "    for i in range(1,11):\n",
    "        ran=random.sample( chs , k=i*10 )\n",
    "        fh = open( n + \".txt\", 'w')\n",
    "        fh.write('\\n'.join(ran))\n",
    "        text_n=fh.read\n",
    "        fh.close()\n",
    "        n=str(i+1)\n",
    "        print(text_n)\n",
    "n=str(input())\n",
    "get_ch_table(idioms)\n",
    "cy(n)"
   ]
  },
  {
   "cell_type": "code",
   "execution_count": null,
   "metadata": {
    "collapsed": true
   },
   "outputs": [],
   "source": []
  }
 ],
 "metadata": {
  "kernelspec": {
   "display_name": "Python 3",
   "language": "python",
   "name": "python3"
  },
  "language_info": {
   "codemirror_mode": {
    "name": "ipython",
    "version": 3
   },
   "file_extension": ".py",
   "mimetype": "text/x-python",
   "name": "python",
   "nbconvert_exporter": "python",
   "pygments_lexer": "ipython3",
   "version": "3.6.3"
  }
 },
 "nbformat": 4,
 "nbformat_minor": 2
}
