{
 "cells": [
  {
   "cell_type": "code",
   "execution_count": null,
   "metadata": {
    "collapsed": true
   },
   "outputs": [],
   "source": [
    "练习一：自己定义一个reverse(s)函数，功能返回字符串s的倒序字符串。"
   ]
  },
  {
   "cell_type": "code",
   "execution_count": 78,
   "metadata": {},
   "outputs": [
    {
     "name": "stdout",
     "output_type": "stream",
     "text": [
      "输入序列内个数4\n",
      "输入序列 1\n",
      "输入序列 2\n",
      "输入序列 3\n",
      "输入序列 4\n",
      "[1, 2, 3, 4]\n",
      "[4, 3, 2, 1]\n"
     ]
    }
   ],
   "source": [
    "def re():\n",
    "    s1=[]\n",
    "    n=int(input('输入序列内个数'))\n",
    "    for i in range(n):\n",
    "        a=int(input('输入序列 '))\n",
    "        s1.append(a)\n",
    "    print(s1)\n",
    "    s2=s1[n-1::-1]\n",
    "    print(s2)\n",
    "re()\n",
    "        \n",
    "    "
   ]
  },
  {
   "cell_type": "code",
   "execution_count": null,
   "metadata": {
    "collapsed": true
   },
   "outputs": [],
   "source": [
    "练习二：写函数，根据给定符号和行数，打印相应直角三角形，等腰三角形及其他形式的三角形。"
   ]
  },
  {
   "cell_type": "code",
   "execution_count": 2,
   "metadata": {},
   "outputs": [
    {
     "name": "stdout",
     "output_type": "stream",
     "text": [
      "输入符号*\n",
      "输入行数4\n",
      "*\n",
      "**\n",
      "***\n",
      "****\n",
      "    \n",
      "   * \n",
      "  * * \n",
      " * * * \n",
      "* * * * \n",
      "  *\n",
      "   **\n",
      "    ***\n",
      "     ****\n"
     ]
    }
   ],
   "source": [
    "def right_angled(a,b):\n",
    "    for i in range(1,b+1):\n",
    "        print(a*i,end='')\n",
    "        print()\n",
    "def regular(a,b):\n",
    "    for i in range(b+1):\n",
    "        print((b-i)*' ', end='' )\n",
    "        for m in range(i):\n",
    "            print(a, end='')\n",
    "            print(' ',end='')\n",
    "        print()\n",
    "def dun(a,b):\n",
    "    for i in range(1,b+1):\n",
    "        print(' '*i,end=' ')\n",
    "        print(a*i,end='')\n",
    "        print()\n",
    "a=str(input('输入符号'))\n",
    "b=int(input('输入行数'))\n",
    "right_angled(a,b)\n",
    "regular(a,b)\n",
    "dun(a,b)    "
   ]
  },
  {
   "cell_type": "code",
   "execution_count": null,
   "metadata": {
    "collapsed": true
   },
   "outputs": [],
   "source": [
    "练习五：写函数，根据给定符号，打印各种菱形。"
   ]
  },
  {
   "cell_type": "code",
   "execution_count": 19,
   "metadata": {},
   "outputs": [
    {
     "name": "stdout",
     "output_type": "stream",
     "text": [
      "输入符号*\n",
      "输入行数5\n",
      "     *\n",
      "    ***\n",
      "   *****\n",
      "  *******\n",
      " *********\n",
      "***********\n",
      " *********\n",
      "  *******\n",
      "   *****\n",
      "    ***\n",
      "     *\n"
     ]
    }
   ],
   "source": [
    "def lin(a,b):\n",
    "    for i in range(b):\n",
    "        print (' '*(b-i) + a*(2*i+1))\n",
    "    print (a*(2*b+1))\n",
    "    for i in range(b):\n",
    "        print (' '*(i+1) + a*(2*(b-i-1)+1))\n",
    "a=str(input('输入符号'))\n",
    "b=int(input('输入行数'))\n",
    "        \n",
    "lin(a,b)"
   ]
  }
 ],
 "metadata": {
  "kernelspec": {
   "display_name": "Python 3",
   "language": "python",
   "name": "python3"
  },
  "language_info": {
   "codemirror_mode": {
    "name": "ipython",
    "version": 3
   },
   "file_extension": ".py",
   "mimetype": "text/x-python",
   "name": "python",
   "nbconvert_exporter": "python",
   "pygments_lexer": "ipython3",
   "version": "3.6.3"
  }
 },
 "nbformat": 4,
 "nbformat_minor": 2
}
