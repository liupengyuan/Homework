{
 "cells": [
  {
   "cell_type": "code",
   "execution_count": null,
   "metadata": {
    "collapsed": true
   },
   "outputs": [],
   "source": [
    "# 写函数，返回某个元素/对象在一个list中的位置，如果不在，则返回-1."
   ]
  },
  {
   "cell_type": "code",
   "execution_count": 3,
   "metadata": {},
   "outputs": [
    {
     "name": "stdout",
     "output_type": "stream",
     "text": [
      "输入你想输入的整数个数 回车键结束3\n",
      "输入序列内元素 回车键结束a\n",
      "输入序列内元素 回车键结束d\n",
      "输入序列内元素 回车键结束f\n",
      "['a', 'd', 'f']\n",
      "输入你想返回的数 回车键结束w\n",
      "-1\n"
     ]
    }
   ],
   "source": [
    "def find():\n",
    "    num=[]\n",
    "    n=int(input('输入你想输入的整数个数 回车键结束'))\n",
    "    i=0\n",
    "    while i<n:\n",
    "        m=input('输入序列内元素 回车键结束')\n",
    "        num.append(m)\n",
    "        i=i+1\n",
    "    print(num)\n",
    "    f=input('输入你想返回的数 回车键结束')\n",
    "    if f in num:\n",
    "        print(f)\n",
    "    else:\n",
    "        print(-1)\n",
    "    \n",
    "find()"
   ]
  },
  {
   "cell_type": "code",
   "execution_count": null,
   "metadata": {
    "collapsed": true
   },
   "outputs": [],
   "source": [
    "#写函数，可将两个相同长度的list，间隔插入，生成新的list。\n",
    "例如：给两个list，a=[1,2,3,4], b=[5,6,7,8]。则可以生成：[1,5,2,6,3,7,4,8]。"
   ]
  },
  {
   "cell_type": "code",
   "execution_count": 4,
   "metadata": {},
   "outputs": [
    {
     "name": "stdout",
     "output_type": "stream",
     "text": [
      "输入你希望的list长度 回车键结束.2\n",
      "请输入一个数字，回车结束。1\n",
      "请输入一个数字，回车结束。2\n",
      "请输入一个数字，回车结束。3\n",
      "请输入一个数字，回车结束。4\n",
      "num_1= ['1', '2'] num_2= ['3', '4']\n",
      "['1', '3', '2', '4']\n"
     ]
    }
   ],
   "source": [
    "def xin():\n",
    "    n=int(input('输入你希望的list长度 回车键结束.'))\n",
    "    num_1=[]\n",
    "    num_2=[]\n",
    "    d=[]\n",
    "    for m1 in range(n):\n",
    "        m1 = input('请输入一个数字，回车结束。')\n",
    "        num_1.append(m1)\n",
    "    for m2 in range(n):\n",
    "        m2 = input('请输入一个数字，回车结束。')\n",
    "        num_2.append(m2)\n",
    "    print('num_1=',num_1   ,'num_2=',num_2)\n",
    "    for i in range (len(num_1)):\n",
    "        \n",
    "        d.append(num_1[i])\n",
    "        d.append(num_2[i])\n",
    "        \n",
    "    print(d)\n",
    "xin()"
   ]
  },
  {
   "cell_type": "code",
   "execution_count": 8,
   "metadata": {
    "collapsed": true
   },
   "outputs": [],
   "source": [
    "#写函数，可求两个向量的夹角余弦值，向量可放在list中。主程序调用该函数。"
   ]
  },
  {
   "cell_type": "code",
   "execution_count": 18,
   "metadata": {},
   "outputs": [
    {
     "name": "stdout",
     "output_type": "stream",
     "text": [
      "输入序列元素个数2\n",
      "1\n",
      "2\n",
      "[1, 2]\n",
      "3\n",
      "4\n",
      "[3, 4]\n",
      "11\n",
      "11.180339887498949\n",
      "0.9838699100999074\n"
     ]
    }
   ],
   "source": [
    "def cos():\n",
    "    x=[]\n",
    "    y=[]\n",
    "    type(x)\n",
    "    type(y)\n",
    "    a=int(input('输入序列元素个数'))\n",
    "    total_1=0\n",
    "    total_2=0\n",
    "    total=1\n",
    "    for i in range(a):\n",
    "        i=int(input())\n",
    "        x.append(i)\n",
    "    print(x)\n",
    "    for o in range(a):\n",
    "        o=int(input())\n",
    "        y.append(o)\n",
    "    print(y)\n",
    "    for i in range(len(x)):\n",
    "        sum_1=x[i]*y[i]\n",
    "        total_1=total_1+sum_1\n",
    "    print(total_1)\n",
    "    total_21=sum(i*i for i in x)                                 \n",
    "    total_22=sum(o*o for o in y)\n",
    "    \n",
    "    \n",
    "    total_2=(total_21**(0.5))*(total_22**(0.5))\n",
    "    print(total_2)\n",
    "    total=total_1/total_2\n",
    "    print(total)\n",
    "cos()"
   ]
  },
  {
   "cell_type": "code",
   "execution_count": 7,
   "metadata": {
    "collapsed": true
   },
   "outputs": [],
   "source": [
    "#挑战性习题：python语言老师为了激励学生学python，\n",
    "#自费买了100个完全相同的Macbook Pro，分给三个班级，每个班级至少分5个，用穷举法计算共有多少种分法？"
   ]
  },
  {
   "cell_type": "code",
   "execution_count": null,
   "metadata": {
    "scrolled": true
   },
   "outputs": [],
   "source": [
    "def pai():\n",
    "    n=[]\n",
    "    a=5\n",
    "    b=5\n",
    "    c=5\n",
    "    n.append(a)\n",
    "    n.append(b)\n",
    "    n.append(c)\n",
    "    while a<100:\n",
    "        while b<100:\n",
    "            while c<100:\n",
    "                if a+b+c==100:\n",
    "                    print(n)\n",
    "                    a=a+1\n",
    "                    b=b+1\n",
    "                    c=c+1\n",
    "                                            \n",
    "pai()\n",
    "    \n",
    "    "
   ]
  },
  {
   "cell_type": "code",
   "execution_count": null,
   "metadata": {
    "collapsed": true
   },
   "outputs": [],
   "source": [
    "qaq 一直busy中。。。"
   ]
  }
 ],
 "metadata": {
  "kernelspec": {
   "display_name": "Python 3",
   "language": "python",
   "name": "python3"
  },
  "language_info": {
   "codemirror_mode": {
    "name": "ipython",
    "version": 3
   },
   "file_extension": ".py",
   "mimetype": "text/x-python",
   "name": "python",
   "nbconvert_exporter": "python",
   "pygments_lexer": "ipython3",
   "version": "3.6.3"
  }
 },
 "nbformat": 4,
 "nbformat_minor": 2
}
