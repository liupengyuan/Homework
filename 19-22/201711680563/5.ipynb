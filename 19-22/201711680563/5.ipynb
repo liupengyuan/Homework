{
 "cells": [
  {
   "cell_type": "code",
   "execution_count": null,
   "metadata": {
    "collapsed": true
   },
   "outputs": [],
   "source": [
    "练习 1：写函数，求n个随机整数均值的平方根，整数范围在m与k之间（n,m,k由用户输入）。"
   ]
  },
  {
   "cell_type": "code",
   "execution_count": 2,
   "metadata": {},
   "outputs": [
    {
     "name": "stdout",
     "output_type": "stream",
     "text": [
      "输入整数个数n=5\n",
      "输入取值范围的左边界 m=3\n",
      "输入取值范围的右边界 k=22\n",
      "3.255764119219941\n"
     ]
    }
   ],
   "source": [
    "import math\n",
    "import random\n",
    "def ave(m,n,k):\n",
    "    i=0\n",
    "    total=0\n",
    "    while i<n:\n",
    "        i=i+1\n",
    "        n_1=random.randint(m,k)\n",
    "        total=n_1+total\n",
    "    n_2=total/n\n",
    "    n_0=math.sqrt(n_2)\n",
    "    \n",
    "    print(n_0)\n",
    "    return\n",
    "n=int(input('输入整数个数n='))\n",
    "m=int(input('输入取值范围的左边界 m='))\n",
    "k=int(input('输入取值范围的右边界 k='))\n",
    "ave(m,n,k)\n"
   ]
  },
  {
   "cell_type": "code",
   "execution_count": null,
   "metadata": {
    "collapsed": true
   },
   "outputs": [],
   "source": [
    "练习 2：写函数，共n个随机整数，整数范围在m与k之间，（n,m,k由用户输入）。求1：西格玛log(随机整数)，2：西格玛1/log(随机整数)"
   ]
  },
  {
   "cell_type": "code",
   "execution_count": 3,
   "metadata": {},
   "outputs": [
    {
     "name": "stdout",
     "output_type": "stream",
     "text": [
      "输入整数个数n=5\n",
      "输入取值范围的左边界 m=2\n",
      "输入取值范围的右边界 k=11\n",
      "10.181119289134408\n",
      "3.1072817833670454\n"
     ]
    }
   ],
   "source": [
    "import math\n",
    "import random\n",
    "def sgm_1(m,n,k):\n",
    "    i=0\n",
    "    total=0\n",
    "    while i<n:\n",
    "        i=i+1\n",
    "        n_1=random.randint(m,k)\n",
    "        n_2=math.log(n_1)\n",
    "        total=n_2+total\n",
    "    \n",
    "    \n",
    "    print(total)\n",
    "    return\n",
    "def sgm_2(m,n,k):\n",
    "    i=0\n",
    "    total=0\n",
    "    while i<n:\n",
    "        i=i+1\n",
    "        n_1=random.randint(m,k)\n",
    "        n_2=math.log(n_1)\n",
    "        n_3=1/n_2\n",
    "        total=n_3+total\n",
    "    \n",
    "    \n",
    "    print(total)\n",
    "    return\n",
    "n=int(input('输入整数个数n='))\n",
    "m=int(input('输入取值范围的左边界 m='))\n",
    "k=int(input('输入取值范围的右边界 k='))\n",
    "sgm_1(m,n,k)\n",
    "sgm_2(m,n,k)"
   ]
  },
  {
   "cell_type": "code",
   "execution_count": null,
   "metadata": {
    "collapsed": true
   },
   "outputs": [],
   "source": [
    "练习 3：写函数，求s=a+aa+aaa+aaaa+aa...a的值，其中a是[1,9]之间的随机整数。\n",
    "例如2+22+222+2222+22222(此时共有5个数相加)，几个数相加由键盘输入。"
   ]
  },
  {
   "cell_type": "code",
   "execution_count": 1,
   "metadata": {},
   "outputs": [
    {
     "name": "stdout",
     "output_type": "stream",
     "text": [
      "输入整数个数n=5\n",
      "98760\n"
     ]
    }
   ],
   "source": [
    "import random\n",
    "def nh(n):\n",
    "    a=random.randint(1,9)\n",
    "    s=0\n",
    "    i=0\n",
    "    m=0    \n",
    "    while i<n:\n",
    "        i=i+1\n",
    "        m = m*10 + a\n",
    "        s=s+m\n",
    "    print(s)\n",
    "    return\n",
    "n=int(input('输入整数个数n='))\n",
    "nh(n)"
   ]
  },
  {
   "cell_type": "code",
   "execution_count": null,
   "metadata": {
    "collapsed": true
   },
   "outputs": [],
   "source": [
    "挑战性练习：仿照task5，将猜数游戏改成由用户随便选择一个整数，让计算机来猜测的猜数游戏，\n",
    "要求和task5中人猜测的方法类似，但是人机角色对换，由人来判断猜测是大、小还是相等，请写出完整的猜数游戏。"
   ]
  },
  {
   "cell_type": "code",
   "execution_count": 10,
   "metadata": {},
   "outputs": [
    {
     "ename": "NameError",
     "evalue": "name 'guess_time' is not defined",
     "output_type": "error",
     "traceback": [
      "\u001b[1;31m---------------------------------------------------------------------------\u001b[0m",
      "\u001b[1;31mNameError\u001b[0m                                 Traceback (most recent call last)",
      "\u001b[1;32m<ipython-input-10-07b9a5d4d375>\u001b[0m in \u001b[0;36m<module>\u001b[1;34m()\u001b[0m\n\u001b[0;32m     37\u001b[0m     \u001b[0mguess_time\u001b[0m\u001b[1;33m=\u001b[0m\u001b[1;36m0\u001b[0m\u001b[1;33m\u001b[0m\u001b[0m\n\u001b[0;32m     38\u001b[0m     \u001b[0mmax_times\u001b[0m \u001b[1;33m=\u001b[0m \u001b[0mmath\u001b[0m\u001b[1;33m.\u001b[0m\u001b[0mceil\u001b[0m\u001b[1;33m(\u001b[0m\u001b[0mmath\u001b[0m\u001b[1;33m.\u001b[0m\u001b[0mlog\u001b[0m\u001b[1;33m(\u001b[0m\u001b[0mn\u001b[0m\u001b[1;33m,\u001b[0m \u001b[1;36m2\u001b[0m\u001b[1;33m)\u001b[0m\u001b[1;33m)\u001b[0m\u001b[1;33m\u001b[0m\u001b[0m\n\u001b[1;32m---> 39\u001b[1;33m \u001b[1;32mwhile\u001b[0m \u001b[0mguess_time\u001b[0m \u001b[1;33m<\u001b[0m \u001b[0mmax_times\u001b[0m\u001b[1;33m:\u001b[0m\u001b[1;33m\u001b[0m\u001b[0m\n\u001b[0m\u001b[0;32m     40\u001b[0m     \u001b[0mguess\u001b[0m \u001b[1;33m=\u001b[0m \u001b[0mrandom\u001b[0m\u001b[1;33m.\u001b[0m\u001b[0mrandint\u001b[0m\u001b[1;33m(\u001b[0m\u001b[1;36m1\u001b[0m\u001b[1;33m,\u001b[0m \u001b[0mn\u001b[0m\u001b[1;33m)\u001b[0m\u001b[1;33m\u001b[0m\u001b[0m\n\u001b[0;32m     41\u001b[0m     \u001b[0mprint\u001b[0m\u001b[1;33m(\u001b[0m\u001b[0mguess\u001b[0m\u001b[1;33m)\u001b[0m\u001b[1;33m\u001b[0m\u001b[0m\n",
      "\u001b[1;31mNameError\u001b[0m: name 'guess_time' is not defined"
     ]
    }
   ],
   "source": [
    "import random, math \n",
    "def win():\n",
    "    print('hahahaha') \n",
    "def lose(): \n",
    "    print('hahahaha') \n",
    "def game_over(): \n",
    "    print('hahahaha') \n",
    "def show_team(): \n",
    "    print('hahahaha') \n",
    "def show_instruction(): \n",
    "    print('hahahaha')\n",
    "def judge(a):\n",
    "    a=int(input('''输入数字1代表计算机猜测数字>你所给数字\n",
    "                   输入数字2代表计算机猜测数字<你所给数字\n",
    "                   输入数字3代表计算机猜测正确'''))\n",
    "    if a==1:\n",
    "        guess=random.randint(1,guess)\n",
    "        print(guess)\n",
    "    elif a==2:\n",
    "        guess=random.randint(guess,n)\n",
    "        print(guess)\n",
    "        \n",
    "    else:\n",
    "        win()\n",
    "    \n",
    "    \n",
    "def menu(): \n",
    "    print('''=====游戏菜单=====\n",
    "            1. 游戏说明\n",
    "            2. 开始游戏\n",
    "            3. 退出游戏\n",
    "            4. 制作团队\n",
    "         =====游戏菜单=====''')\n",
    "def guess_game(): \n",
    "    n = int(input('请输入一个大于0的整数，作为神秘整数的上界，回车结束。')) \n",
    "    m = int(input('请输入一个数字，作为你想让计算机猜测的数字 '))\n",
    "    guess_time=0\n",
    "    max_times = math.ceil(math.log(n, 2)) \n",
    "while guess_time < max_times:\n",
    "    guess = random.randint(1, n)\n",
    "    print(guess)\n",
    "    judge(a)\n",
    "    guess_time += 1\n",
    "    print('一共可以猜', max_times, '次')\n",
    "    print('你已经猜了', guess_time, '次')\n",
    "\n",
    "else:\n",
    "    print('神秘数字是：', m)\n",
    "    lose()\n",
    "def main(): \n",
    "    while True:\n",
    "        menu() \n",
    "        choice = random.randint(1,4) \n",
    "        print(choice) \n",
    "        if choice == 1: \n",
    "            show_instruction() \n",
    "        elif choice == 2: \n",
    "            guess_game()\n",
    "        elif choice == 3: \n",
    "            game_over() \n",
    "            break \n",
    "        else: show_team()\n",
    "main()"
   ]
  },
  {
   "cell_type": "code",
   "execution_count": null,
   "metadata": {
    "collapsed": true
   },
   "outputs": [],
   "source": [
    "不会qaq"
   ]
  }
 ],
 "metadata": {
  "kernelspec": {
   "display_name": "Python 3",
   "language": "python",
   "name": "python3"
  },
  "language_info": {
   "codemirror_mode": {
    "name": "ipython",
    "version": 3
   },
   "file_extension": ".py",
   "mimetype": "text/x-python",
   "name": "python",
   "nbconvert_exporter": "python",
   "pygments_lexer": "ipython3",
   "version": "3.6.3"
  }
 },
 "nbformat": 4,
 "nbformat_minor": 2
}
