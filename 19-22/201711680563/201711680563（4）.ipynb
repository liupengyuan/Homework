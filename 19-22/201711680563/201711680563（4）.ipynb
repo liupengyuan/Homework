{
 "cells": [
  {
   "cell_type": "code",
   "execution_count": null,
   "metadata": {},
   "outputs": [],
   "source": [
    "练习 1：仿照求$ \\sum_{i=1}^mi + \\sum_{i=1}^ni  + \\sum_{i=1}^ki$的完整代码，\n",
    "写程序，可求m!+n!+k!"
   ]
  },
  {
   "cell_type": "code",
   "execution_count": 16,
   "metadata": {},
   "outputs": [
    {
     "name": "stdout",
     "output_type": "stream",
     "text": [
      "请输入第1个整数，以回车结束。3\n",
      "请输入第2个整数，以回车结束。4\n",
      "请输入第3个整数，以回车结束。2\n",
      "最终的和是： 32\n"
     ]
    }
   ],
   "source": [
    "def compute_sul(end):\n",
    "    i = 0\n",
    "    total_n = 1\n",
    "\n",
    "    while i < end:\n",
    "        i = i + 1\n",
    "        total_n = total_n * i\n",
    "\n",
    "    return total_n\n",
    "\n",
    "n = int(input('请输入第1个整数，以回车结束。'))\n",
    "m = int(input('请输入第2个整数，以回车结束。'))\n",
    "k = int(input('请输入第3个整数，以回车结束。'))\n",
    "\n",
    "print('最终的和是：', compute_sul(m) + compute_sul(n) + compute_sul(k))"
   ]
  },
  {
   "cell_type": "code",
   "execution_count": null,
   "metadata": {},
   "outputs": [],
   "source": [
    "练习 2：写函数可返回1 - 1/3 + 1/5 - 1/7...的前n项的和。在主程序中，\n",
    "分别令n=1000及100000，打印4倍该函数的和。"
   ]
  },
  {
   "cell_type": "code",
   "execution_count": 1,
   "metadata": {},
   "outputs": [
    {
     "name": "stdout",
     "output_type": "stream",
     "text": [
      "3.2329543411920967 3.2319818317849034\n"
     ]
    }
   ],
   "source": [
    "def numb(n):\n",
    "    i=0\n",
    "    total_0=0\n",
    "    while i<n:\n",
    "        i=i+1\n",
    "        if (i % 2) == 0:\n",
    "            i=2*i-1\n",
    "            i=-i\n",
    "        else:\n",
    "            i=2*i-1\n",
    "        total_0=total_0+1/i\n",
    "    total=4*total_0\n",
    "    return total\n",
    "    \n",
    "a=numb(1000)\n",
    "b=numb(100000)\n",
    "print(a,b)\n",
    "    "
   ]
  },
  {
   "cell_type": "code",
   "execution_count": null,
   "metadata": {},
   "outputs": [],
   "source": [
    "练习 3：将task3中的练习1及练习4改写为函数，并进行调用。"
   ]
  },
  {
   "cell_type": "code",
   "execution_count": null,
   "metadata": {},
   "outputs": [],
   "source": [
    "可由键盘读入用户姓名例如Mr. right，让用户输入出生的月份与日期，判断用户星座，\n",
    "假设用户是金牛座，则输出，Mr. right，你是非常有性格的金牛座！"
   ]
  },
  {
   "cell_type": "code",
   "execution_count": 13,
   "metadata": {
    "scrolled": true
   },
   "outputs": [
    {
     "name": "stdout",
     "output_type": "stream",
     "text": [
      "输入你的名字 以回车结束fgh\n",
      "输入你的出生的月份与日期 如1月2日输入为102 以回车结束222\n",
      "fgh 你是非常有性格的双鱼座！\n"
     ]
    }
   ],
   "source": [
    "def date(d):\n",
    "    n=input('输入你的名字 以回车结束')\n",
    "    m=int(input('输入你的出生的月份与日期 如1月2日输入为102 以回车结束'))\n",
    "    if 321<=m<=419:\n",
    "        print(n,'你是非常有性格的白羊座！')\n",
    "    elif 420<=m<=520:\n",
    "        print(n,'你是非常有性格的金牛座！')\n",
    "    elif 521<=m<=621:\n",
    "        print(n,'你是非常有性格的双子座！')\n",
    "    elif 622<=m<=722:\n",
    "        print(n,'你是非常有性格的巨蟹座！')\n",
    "    elif 723<=m<=822:\n",
    "        print(n,'你是非常有性格的狮子座！')\n",
    "    elif 823<=m<=922:\n",
    "        print(n,'你是非常有性格的处女座！')\n",
    "    elif 923<=m<=1023:\n",
    "        print(n,'你是非常有性格的天秤座！')\n",
    "    elif 1024<=m<=1122:\n",
    "        print(n,'你是非常有性格的天蝎座！')\n",
    "    elif 1123<=m<=1221:\n",
    "        print(n,'你是非常有性格的射手座！')\n",
    "    elif 1222<=m<=1231 or 101<=m<=119:\n",
    "        print(n,'你是非常有性格的摩羯座！')\n",
    "    elif 120<=m<=218:\n",
    "        print(n,'你是非常有性格的水瓶座！')\n",
    "    elif 219<=m<=320:\n",
    "        print(n,'你是非常有性格的双鱼座！')\n",
    "    else:\n",
    "        m=int(input('输入格式错误'))\n",
    "    return \n",
    "\n",
    "date(m)"
   ]
  },
  {
   "cell_type": "code",
   "execution_count": null,
   "metadata": {},
   "outputs": [],
   "source": [
    "英文单词单数转复数，要求输入一个英文单词（单数形式），能够得到其复数形式，\n",
    "或给出单数转复数形式的建议"
   ]
  },
  {
   "cell_type": "code",
   "execution_count": 14,
   "metadata": {},
   "outputs": [
    {
     "name": "stdout",
     "output_type": "stream",
     "text": [
      "输入一个英文单词（单数形式）以回车结束。fjfd\n",
      "词尾加s\n"
     ]
    }
   ],
   "source": [
    "def change(n):\n",
    "    n=input('输入一个英文单词（单数形式）以回车结束。')\n",
    "    if n .endswith('o'):\n",
    "        print('词尾加es')\n",
    "    elif n.endswith('y'):\n",
    "        print('变y为i加es')\n",
    "    elif n.endswith('f'):\n",
    "        print('词尾加ves')\n",
    "    else:\n",
    "        print('词尾加s')\n",
    "    return \n",
    "\n",
    "change(n)"
   ]
  },
  {
   "cell_type": "code",
   "execution_count": null,
   "metadata": {},
   "outputs": [],
   "source": [
    "挑战性练习：写程序，可以求从整数m到整数n累加的和，\n",
    "间隔为k，求和部分需用函数实现，主程序中由用户输入m，n，k调用函数验证正确性。"
   ]
  },
  {
   "cell_type": "code",
   "execution_count": 9,
   "metadata": {},
   "outputs": [
    {
     "name": "stdout",
     "output_type": "stream",
     "text": [
      "输入一个整数作为第一个数4\n",
      "输入一个整数作为最后一个数12\n",
      "输入一个整数作为间隔4\n",
      "24\n"
     ]
    }
   ],
   "source": [
    "def k_sum(nunber):\n",
    "    \n",
    "    m=int(input('输入一个整数作为第一个数'))\n",
    "    n=int(input('输入一个整数作为最后一个数'))\n",
    "    k=int(input('输入一个整数作为间隔'))\n",
    "    a=n-m\n",
    "    total=0\n",
    "    if a%k==0:\n",
    "        while m<=n:\n",
    "            total=total+m\n",
    "            m=m+k\n",
    "    else:\n",
    "        k=int(input('请重新输入一个整数作为间隔'))\n",
    "    print(total)\n",
    "    return total\n",
    "total=k_sum(total)\n",
    "   "
   ]
  }
 ],
 "metadata": {
  "kernelspec": {
   "display_name": "Python 3",
   "language": "python",
   "name": "python3"
  },
  "language_info": {
   "codemirror_mode": {
    "name": "ipython",
    "version": 3
   },
   "file_extension": ".py",
   "mimetype": "text/x-python",
   "name": "python",
   "nbconvert_exporter": "python",
   "pygments_lexer": "ipython3",
   "version": "3.6.3"
  }
 },
 "nbformat": 4,
 "nbformat_minor": 2
}
