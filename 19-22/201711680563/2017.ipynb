{
 "cells": [
  {
   "cell_type": "code",
   "execution_count": null,
   "metadata": {},
   "outputs": [],
   "source": [
    "写程序，可由键盘读入用户姓名例如Mr. right，让用户输入出生的月份与日期，判断用户星座，\n",
    "假设用户是金牛座，则输出，Mr. right，你是非常有性格的金牛座！"
   ]
  },
  {
   "cell_type": "code",
   "execution_count": 5,
   "metadata": {},
   "outputs": [
    {
     "name": "stdout",
     "output_type": "stream",
     "text": [
      "输入你的名字 以回车结束hh\n",
      "输入你的出生的月份与日期 如1月2日输入为102 以回车结束515\n",
      "hh 你是非常有性格的金牛座！\n"
     ]
    }
   ],
   "source": [
    "n=input('输入你的名字 以回车结束')\n",
    "m=int(input('输入你的出生的月份与日期 如1月2日输入为102 以回车结束'))\n",
    "if 321<=m<=419:\n",
    "    print(n,'你是非常有性格的白羊座！')\n",
    "elif 420<=m<=520:\n",
    "    print(n,'你是非常有性格的金牛座！')\n",
    "elif 521<=m<=621:\n",
    "    print(n,'你是非常有性格的双子座！')\n",
    "elif 622<=m<=722:\n",
    "    print(n,'你是非常有性格的巨蟹座！')\n",
    "elif 723<=m<=822:\n",
    "    print(n,'你是非常有性格的狮子座！')\n",
    "elif 823<=m<=922:\n",
    "    print(n,'你是非常有性格的处女座！')\n",
    "elif 923<=m<=1023:\n",
    "    print(n,'你是非常有性格的天秤座！')\n",
    "elif 1024<=m<=1122:\n",
    "    print(n,'你是非常有性格的天蝎座！')\n",
    "elif 1123<=m<=1221:\n",
    "    print(n,'你是非常有性格的射手座！')\n",
    "elif 1222<=m<=1231 or 101<=m<=119:\n",
    "    print(n,'你是非常有性格的摩羯座！')\n",
    "elif 120<=m<=218:\n",
    "    print(n,'你是非常有性格的水瓶座！')\n",
    "elif 219<=m<=320:\n",
    "    print(n,'你是非常有性格的双鱼座！')\n"
   ]
  },
  {
   "cell_type": "code",
   "execution_count": null,
   "metadata": {},
   "outputs": [],
   "source": [
    "写程序，可由键盘读入两个整数m与n(n不等于0)，询问用户意图，如果要求和则计算从m到n的和输出，如果要乘积则计算从m到n的积并输出，\n",
    "如果要求余数则计算m除以n的余数的值并输出，否则则计算m整除n的值并输出。"
   ]
  },
  {
   "cell_type": "code",
   "execution_count": 2,
   "metadata": {},
   "outputs": [
    {
     "name": "stdout",
     "output_type": "stream",
     "text": [
      "输入一个不为0整数，以回车结束100\n",
      "输入一个整数，以回车结束200\n",
      "输入1或者2或者3，1代表从m到n的和，2代表从m到n的积，3代表m除以n的余数的值，4代表m整除n的值以回车结束1\n",
      "300\n"
     ]
    }
   ],
   "source": [
    "n=int(input('输入一个不为0整数，以回车结束'))\n",
    "m=int(input('输入一个整数，以回车结束'))\n",
    "a=int(input('输入1或者2或者3，1代表从m到n的和，2代表从m到n的积，3代表m除以n的余数的值，4代表m整除n的值以回车结束'))\n",
    "if a==1:\n",
    "    total=m+n\n",
    "elif a==2:\n",
    "    total=m*n\n",
    "elif a==3:\n",
    "    total=m%n\n",
    "else:\n",
    "    total=m/n\n",
    "print(total)\n",
    "\n"
   ]
  },
  {
   "cell_type": "code",
   "execution_count": null,
   "metadata": {},
   "outputs": [],
   "source": [
    "英文单词单数转复数，要求输入一个英文单词（单数形式），能够得到其复数形式，\n",
    "或给出单数转复数形式的建议（提示，some_string.endswith(some_letter)函数可以判断某字符串结尾字符，\n",
    "可尝试运行：'myname'.endswith('me')，liupengyuan'.endswith('n')）。"
   ]
  },
  {
   "cell_type": "code",
   "execution_count": 1,
   "metadata": {},
   "outputs": [
    {
     "name": "stdout",
     "output_type": "stream",
     "text": [
      "输入一个英文单词（单数形式）以回车结束。gde\n",
      "词尾加s\n"
     ]
    }
   ],
   "source": [
    "n=input('输入一个英文单词（单数形式）以回车结束。')\n",
    "if ('n').endswith('o'):\n",
    "    print('词尾加es')\n",
    "elif ('n').endswith('y'):\n",
    "    print('变y为i加es')\n",
    "elif ('n').endswith('f'):\n",
    "    print('词尾加ves')\n",
    "else:\n",
    "    print('词尾加s')\n",
    "    "
   ]
  },
  {
   "cell_type": "code",
   "execution_count": null,
   "metadata": {},
   "outputs": [],
   "source": [
    "尝试性练习：写程序，能够在屏幕上显示空行"
   ]
  },
  {
   "cell_type": "code",
   "execution_count": 6,
   "metadata": {},
   "outputs": [
    {
     "name": "stdout",
     "output_type": "stream",
     "text": [
      "\n",
      "\n"
     ]
    }
   ],
   "source": [
    "print('\\n')\n"
   ]
  }
 ],
 "metadata": {
  "kernelspec": {
   "display_name": "Python 3",
   "language": "python",
   "name": "python3"
  },
  "language_info": {
   "codemirror_mode": {
    "name": "ipython",
    "version": 3
   },
   "file_extension": ".py",
   "mimetype": "text/x-python",
   "name": "python",
   "nbconvert_exporter": "python",
   "pygments_lexer": "ipython3",
   "version": "3.6.3"
  }
 },
 "nbformat": 4,
 "nbformat_minor": 2
}
