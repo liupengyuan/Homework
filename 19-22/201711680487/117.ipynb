{
 "cells": [
  {
   "cell_type": "code",
   "execution_count": 8,
   "metadata": {},
   "outputs": [
    {
     "name": "stdout",
     "output_type": "stream",
     "text": [
      "输入一个较小的数1\n",
      "输入一个较大的数10\n",
      "输入相加随机数的个数5\n",
      "6.164414002968976\n"
     ]
    }
   ],
   "source": [
    "import random\n",
    "def total(m,n,k):\n",
    "    total=0\n",
    "    i=1\n",
    "    while i<=m:    \n",
    "        i=i+1\n",
    "        number = random.randint(n,k)\n",
    "        total=total+number\n",
    "    return total\n",
    "\n",
    "n=int(input('输入一个较小的数'))\n",
    "k=int(input('输入一个较大的数'))\n",
    "m=int(input('输入相加随机数的个数'))\n",
    "\n",
    "print(total(m,n,k)**(1/2))\n",
    " "
   ]
  },
  {
   "cell_type": "code",
   "execution_count": null,
   "metadata": {
    "collapsed": true
   },
   "outputs": [],
   "source": []
  }
 ],
 "metadata": {
  "kernelspec": {
   "display_name": "Python 3",
   "language": "python",
   "name": "python3"
  },
  "language_info": {
   "codemirror_mode": {
    "name": "ipython",
    "version": 3
   },
   "file_extension": ".py",
   "mimetype": "text/x-python",
   "name": "python",
   "nbconvert_exporter": "python",
   "pygments_lexer": "ipython3",
   "version": "3.6.2"
  }
 },
 "nbformat": 4,
 "nbformat_minor": 2
}
