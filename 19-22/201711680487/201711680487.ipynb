{
 "cells": [
  {
   "cell_type": "code",
   "execution_count": null,
   "metadata": {
    "collapsed": true
   },
   "outputs": [],
   "source": [
    "练习 1：写程序，可由键盘读入用户姓名例如Mr. right，让用户输入出生的月份与日期，判断用户星座，假设用户是金牛座\n",
    "，则输出，Mr. right，你是非常有性格的金牛座！。"
   ]
  },
  {
   "cell_type": "code",
   "execution_count": 17,
   "metadata": {},
   "outputs": [
    {
     "name": "stdout",
     "output_type": "stream",
     "text": [
      "请输入你的姓名王丹\n",
      "请输入你的出生月份3\n",
      "请输入你的出生日期22\n",
      "王丹 你是非常有性格的白羊座！\n"
     ]
    }
   ],
   "source": [
    "name = input('请输入你的姓名')\n",
    "month = int(input('请输入你的出生月份'))\n",
    "day = int(input('请输入你的出生日期'))\n",
    "if month==3 and day>=21: \n",
    "    print(name,'你是非常有性格的白羊座！')\n",
    "elif month==4 and day<=19: \n",
    "    print(name,'你是非常有性格的白羊座！')\n",
    "elif month==4 and day>=20: \n",
    "    print(name,'你是非常有性格的金牛座！')\n",
    "elif month==5 and day<=20: \n",
    "    print(name,'你是非常有性格的金牛座！')\n",
    "elif month==5 and day>=21: \n",
    "    print(name,'你是非常有性格的双子座！')\n",
    "elif month==6 and day<=21: \n",
    "    print(name,'你是非常有性格的双子座！')\n",
    "elif month==6 and day>=22: \n",
    "    print(name,'你是非常有性格的巨蟹座！')\n",
    "elif month==7 and day<=22: \n",
    "    print(name,'你是非常有性格的巨蟹座！')\n",
    "elif month==7 and day>=23: \n",
    "    print(name,'你是非常有性格的狮子座！')\n",
    "elif month==8 and day<=22: \n",
    "    print(name,'你是非常有性格的狮子座！')\n",
    "elif month==8 and day>=23: \n",
    "    print(name,'你是非常有性格的处女座！')\n",
    "elif month==9 and day<=22: \n",
    "    print(name,'你是非常有性格的处女座！')\n",
    "elif month==9 and day>=23: \n",
    "    print(name,'你是非常有性格的天秤座！')\n",
    "elif month==10 and day<=23: \n",
    "    print(name,'你是非常有性格的天秤座！')\n",
    "elif month==10 and day>=24: \n",
    "    print(name,'你是非常有性格的天蝎座！')\n",
    "elif month==11 and day<=22: \n",
    "    print(name,'你是非常有性格的天蝎座！')\n",
    "elif month==11 and day>=23: \n",
    "    print(name,'你是非常有性格的射手座！')\n",
    "elif month==12 and day<=21: \n",
    "    print(name,'你是非常有性格的射手座！')\n",
    "elif month==12 and day>=22: \n",
    "    print(name,'你是非常有性格的摩羯座！')\n",
    "elif month==1 and day<=19: \n",
    "    print(name,'你是非常有性格的摩羯座！')\n",
    "elif month==1 and day>=20: \n",
    "    print(name,'你是非常有性格的水瓶座！')\n",
    "elif month==2 and day<=18: \n",
    "    print(name,'你是非常有性格的水瓶座！')\n",
    "elif month==2 and day>=19: \n",
    "    print(name,'你是非常有性格的双鱼座！')\n",
    "elif month==3 and day<=20: \n",
    "    print(name,'你是非常有性格的双鱼座！')"
   ]
  },
  {
   "cell_type": "code",
   "execution_count": null,
   "metadata": {
    "collapsed": true
   },
   "outputs": [],
   "source": [
    "练习 2：写程序，可由键盘读入两个整数m与n(n不等于0)，询问用户意图，如果要求和则计算从m到n的和输出，如果要乘积\n",
    "则计算从m到n的积并输出，如果要求余数则计算m除以n的余数的值并输出，否则则计算m整除n的值并输出。"
   ]
  },
  {
   "cell_type": "code",
   "execution_count": 6,
   "metadata": {
    "scrolled": true
   },
   "outputs": [
    {
     "name": "stdout",
     "output_type": "stream",
     "text": [
      "请输入一个整数555\n",
      "请输入一个整数3\n",
      "求m到n的和输入1，求m到n的乘积输入2，求m除以n的余数输入3，其他输入4\n",
      "4\n",
      "185\n"
     ]
    }
   ],
   "source": [
    "m = int(input('请输入一个整数'))\n",
    "n = int(input('请输入一个整数'))\n",
    "print('求m到n的和输入1，求m到n的乘积输入2，求m除以n的余数输入3，其他输入4')\n",
    "num = int(input(''))\n",
    "if num == 1:\n",
    "    i = m\n",
    "    total = 0\n",
    "    while i <= n:\n",
    "        total = total + i\n",
    "        i = i + 1\n",
    "    print(total)\n",
    "elif num == 2:\n",
    "    i = m\n",
    "    mul = 1\n",
    "    while i <= n:\n",
    "        mul = mul * i\n",
    "        i = i +1\n",
    "    print(mul)\n",
    "elif num == 3:\n",
    "    print(m % n)\n",
    "else:\n",
    "    print(m//n)\n"
   ]
  },
  {
   "cell_type": "code",
   "execution_count": null,
   "metadata": {
    "collapsed": true
   },
   "outputs": [],
   "source": [
    "练习 4：英文单词单数转复数，要求输入一个英文单词（单数形式），能够得到其复数形式，或给出单数转复数形式的建议"
   ]
  },
  {
   "cell_type": "code",
   "execution_count": 78,
   "metadata": {},
   "outputs": [
    {
     "name": "stdout",
     "output_type": "stream",
     "text": [
      "输入一个单数形式的英文单词fish\n",
      "结尾加es\n"
     ]
    }
   ],
   "source": [
    "text = input('输入一个单数形式的英文单词')\n",
    "a=text.endswith('s')or text.endswith('sh')or text.endswith('ch')or text.endswith('x')\n",
    "b=text.endswith('f')or text.endswith('fe')\n",
    "c=text.endswith('y')\n",
    "if a==True and b==c==False:\n",
    "    print('结尾加es')\n",
    "elif b==True and a==c==False:\n",
    "    print('去f,fe加ves')\n",
    "elif c==True and a==b==False:\n",
    "    print('把y变i加es')\n",
    "else:\n",
    "    print('结尾加s')\n"
   ]
  },
  {
   "cell_type": "code",
   "execution_count": null,
   "metadata": {
    "collapsed": true
   },
   "outputs": [],
   "source": [
    "尝试性练习：写程序，能够在屏幕上显示空行。"
   ]
  },
  {
   "cell_type": "code",
   "execution_count": 79,
   "metadata": {},
   "outputs": [
    {
     "name": "stdout",
     "output_type": "stream",
     "text": [
      "                                                                           \n"
     ]
    }
   ],
   "source": [
    "print('                                                                           ')"
   ]
  },
  {
   "cell_type": "code",
   "execution_count": null,
   "metadata": {
    "collapsed": true
   },
   "outputs": [],
   "source": []
  }
 ],
 "metadata": {
  "kernelspec": {
   "display_name": "Python 3",
   "language": "python",
   "name": "python3"
  },
  "language_info": {
   "codemirror_mode": {
    "name": "ipython",
    "version": 3
   },
   "file_extension": ".py",
   "mimetype": "text/x-python",
   "name": "python",
   "nbconvert_exporter": "python",
   "pygments_lexer": "ipython3",
   "version": "3.6.2"
  }
 },
 "nbformat": 4,
 "nbformat_minor": 2
}
