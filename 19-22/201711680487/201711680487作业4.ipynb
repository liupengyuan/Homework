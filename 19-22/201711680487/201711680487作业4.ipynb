{
 "cells": [
  {
   "cell_type": "code",
   "execution_count": 1,
   "metadata": {},
   "outputs": [
    {
     "name": "stdout",
     "output_type": "stream",
     "text": [
      "请输入第1个整数3\n",
      "请输入第2个整数4\n",
      "请输入第3个整数5\n",
      "m!+n!+k!= 150\n"
     ]
    }
   ],
   "source": [
    "#练习 1：仿照求$ \\sum_{i=1}^mi + \\sum_{i=1}^ni + \\sum_{i=1}^ki$的完整代码，写程序，可求m!+n!+k!\n",
    "\n",
    "def my_mul(a):\n",
    "    i=1\n",
    "    mul=1\n",
    "    while i<a:\n",
    "        i=i+1\n",
    "        mul=mul*i\n",
    "    return mul\n",
    "\n",
    "n = int(input('请输入第1个整数'))\n",
    "m = int(input('请输入第2个整数'))\n",
    "k = int(input('请输入第3个整数'))\n",
    "\n",
    "print('m!+n!+k!=',my_mul(n) + my_mul(m) + my_mul(k))"
   ]
  },
  {
   "cell_type": "code",
   "execution_count": 3,
   "metadata": {},
   "outputs": [
    {
     "name": "stdout",
     "output_type": "stream",
     "text": [
      "3.140592653839794\n",
      "3.1415826535897198\n"
     ]
    }
   ],
   "source": [
    "#练习 2：写函数可返回1 - 1/3 + 1/5 - 1/7...的前n项的和。在主程序中，分别令n=1000及100000，打印4倍该函数的和。\n",
    "\n",
    "def total(a):\n",
    "    i=1\n",
    "    total=0\n",
    "    while i<=a:\n",
    "        k=i+1\n",
    "        m=2*i-1\n",
    "        t=((-1)**k)*(1/m)\n",
    "        i=i+1\n",
    "        total= total+t\n",
    "    return total\n",
    "\n",
    "print(4*(total(1000)))\n",
    "print(4*(total(100000)))"
   ]
  },
  {
   "cell_type": "code",
   "execution_count": 12,
   "metadata": {},
   "outputs": [
    {
     "name": "stdout",
     "output_type": "stream",
     "text": [
      "请输入你的姓名王丹\n",
      "请输入你的出生月份11\n",
      "请输入你的出生日期5\n",
      "王丹 你是非常有性格的天蝎座！\n"
     ]
    }
   ],
   "source": [
    "#练习 3：将task3中的练习1及练习4改写为函数，并进行调用。\n",
    "#练习 1：写程序，可由键盘读入用户姓名例如Mr. right，让用户输入出生的月份与日期，判断用户星座，假设用户是金牛\n",
    "#座，则输出，Mr. right，你是非常有性格的金牛座！\n",
    "\n",
    "def birthday(month,day):\n",
    "    if (month==3 and day>=21)or(month==4 and day<=19): \n",
    "        a=('你是非常有性格的白羊座！')\n",
    "    elif (month==4 and day>=20)or(month==5 and day<=20): \n",
    "        a=('你是非常有性格的金牛座！')\n",
    "    elif (month==5 and day>=21)or(month==6 and day<=21): \n",
    "        a=('你是非常有性格的双子座！')\n",
    "    elif (month==6 and day>=22)or(month==7 and day<=22): \n",
    "        a=('你是非常有性格的巨蟹座！')\n",
    "    elif (month==7 and day>=23)or(month==8 and day<=22): \n",
    "        a=('你是非常有性格的狮子座！')\n",
    "    elif (month==8 and day>=23)or(month==9 and day<=22): \n",
    "        a=('你是非常有性格的处女座！')\n",
    "    elif (month==9 and day>=23)or(month==10 and day<=23): \n",
    "        a=('你是非常有性格的天秤座！')\n",
    "    elif (month==10 and day>=24)or(month==11 and day<=22): \n",
    "        a=('你是非常有性格的天蝎座！')\n",
    "    elif (month==11 and day>=23)or(month==12 and day<=21): \n",
    "        a=('你是非常有性格的射手座！')\n",
    "    elif (month==12 and day>=22)or(month==1 and day<=19): \n",
    "        a=('你是非常有性格的摩羯座！')\n",
    "    elif (month==1 and day>=20)or(month==2 and day<=18): \n",
    "        a=('你是非常有性格的水瓶座！')\n",
    "    elif (month==2 and day>=19)or(month==3 and day<=20): \n",
    "        a=('你是非常有性格的双鱼座！')\n",
    "    return a\n",
    "\n",
    "name = input('请输入你的姓名')\n",
    "month = int(input('请输入你的出生月份'))\n",
    "day = int(input('请输入你的出生日期'))\n",
    "print(name,birthday(month,day))"
   ]
  },
  {
   "cell_type": "code",
   "execution_count": 10,
   "metadata": {},
   "outputs": [
    {
     "name": "stdout",
     "output_type": "stream",
     "text": [
      "输入一个单数形式的英文单词knife\n",
      "去f,fe加ves\n"
     ]
    }
   ],
   "source": [
    "#练习 4：英文单词单数转复数，要求输入一个英文动词（单数形式），能够得到其复数形式，或给出单数转复数形式的建\n",
    "#议（提示，some_string.endswith(some_letter)函数可以判断某字符串结尾字符，可尝试运行：'myname'.endswith('me')\n",
    "#，liupengyuan'.endswith('n')）。\n",
    "\n",
    "def check(text):\n",
    "    a=text.endswith('s')or text.endswith('sh')or text.endswith('ch')or text.endswith('x')\n",
    "    b=text.endswith('f')or text.endswith('fe')\n",
    "    c=text.endswith('y')\n",
    "    if a==True and b==c==False:\n",
    "        a=('结尾加es')\n",
    "    elif b==True and a==c==False:\n",
    "        a=('去f,fe加ves')\n",
    "    elif c==True and a==b==False:\n",
    "        a=('把y变i加es')\n",
    "    else:\n",
    "        a=('结尾加s')\n",
    "    return a\n",
    "\n",
    "text = input('输入一个单数形式的英文单词')\n",
    "print(check(text))"
   ]
  },
  {
   "cell_type": "code",
   "execution_count": 19,
   "metadata": {},
   "outputs": [
    {
     "name": "stdout",
     "output_type": "stream",
     "text": [
      "输入m1\n",
      "输入n10\n",
      "输入k3\n",
      "15\n"
     ]
    }
   ],
   "source": [
    "#挑战性练习：写程序，可以求从整数m到整数n累加的和，间隔为k，求和部分需用函数实现，主程序中由用户输入m，n，k\n",
    "#调用函数验证正确性。\n",
    "\n",
    "def my_sum(m,n,k):\n",
    "    if m<=n:\n",
    "        i=0\n",
    "        total=m\n",
    "        y=m\n",
    "        t=m\n",
    "        while y<=n:\n",
    "            t=t+k+1\n",
    "            total=total+t\n",
    "            y=t+k+1\n",
    "    else:\n",
    "        i=0\n",
    "        total=n\n",
    "        y=n\n",
    "        t=n\n",
    "        while y<=m:\n",
    "            t=t+k+1\n",
    "            total=total+t\n",
    "            y=t+k+1\n",
    "    return total\n",
    "\n",
    "m=int(input('输入m'))\n",
    "n=int(input('输入n'))\n",
    "k=int(input('输入k'))\n",
    "print(my_sum(m,n,k))\n",
    "            "
   ]
  },
  {
   "cell_type": "code",
   "execution_count": null,
   "metadata": {
    "collapsed": true
   },
   "outputs": [],
   "source": []
  },
  {
   "cell_type": "code",
   "execution_count": null,
   "metadata": {
    "collapsed": true
   },
   "outputs": [],
   "source": []
  }
 ],
 "metadata": {
  "kernelspec": {
   "display_name": "Python 3",
   "language": "python",
   "name": "python3"
  },
  "language_info": {
   "codemirror_mode": {
    "name": "ipython",
    "version": 3
   },
   "file_extension": ".py",
   "mimetype": "text/x-python",
   "name": "python",
   "nbconvert_exporter": "python",
   "pygments_lexer": "ipython3",
   "version": "3.6.2"
  }
 },
 "nbformat": 4,
 "nbformat_minor": 2
}
