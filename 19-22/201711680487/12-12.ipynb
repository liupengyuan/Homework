{
 "cells": [
  {
   "cell_type": "code",
   "execution_count": 34,
   "metadata": {},
   "outputs": [
    {
     "name": "stdout",
     "output_type": "stream",
     "text": [
      "逑战绌苗能朋吁泽栉即\n",
      "线天仪微蜜渐河摸蛾瀣一卷乾肥蓉血裘厚炎圆\n",
      "月东竞娇尝谷银唯雷睚唯帷庖翩造矢请不齐现任步祖到鸠韬悛下忌蛇\n",
      "娇开尘二姗攘魑维纵淘苟诱穷惊翅树犬王聋合牛皇前尊残忌英愿叶山尔王春深家待就价工吉\n",
      "理笑壁虫项瓜火鸿叱出振忧衣腹戛阖辱苦谈晚晨纶睛裹今卑萍阋琴栋惯阋臼兵滔字政虹映衰铁童狐助暖禹胜藏数突\n",
      "彰趋裘喻置侃斩蝇井洋姗血念阔兔覆事冠邦鲋玩冰临晴鲤悲章蓉亡赅徙肉黄角宁酒潭守肉殚迁骄桀带克魅颜金吃备凉烈急雷望牝缨幽柯两\n",
      "久断较余仇著责状美杯涯从益用口肥披雄惊暴临返祖有海鼎楼金天躬犹情致尸灯蜃惊掣垂动唳数歧以再杞新淋癖狡错血懈惜戈睛晨两尤久乾上仆争答缪甘状科沓\n",
      "逃途诸雀尊锦续好貌凌果我惜飞如兢谓听没蝇衰晦瞻通威寡翼度捭嚣著巢指淘悛杯戛乘室曾经诨井绕鼓用渭秽齿脱戚股障古尤厉邦尉叱兢月障破向辙命又友则膺动场绌秣张二枪团仓末\n",
      "饮齿众网任王笑怀头之烂顾王路奈主颖梁垂旗荫簇玑问沧助鹏备即仪秒沓接极热患玑泾争默占临恐恨明苍仪热尤姗日心打预讳入图未吹英书明眩临反线怪路山玉交蜃旷连技砖及提泽襟编尾履割辙暮关脱蓝位\n",
      "猿蛛群滔磨黔怨总九为电荆蜃眸惶持瑜忾擎神杞舞嗤雀失德虎说真事尾叶回联尸贼逃永好防荦凤滴骨到鬓到程直危尺连渐打里李涛驴筚象插功藏枝阋仙养眉负中豹急谓柔虚所志贤巷中璞复尔恐清技狼蔚异聩古还镳舌惜补态凿灯科\n"
     ]
    }
   ],
   "source": [
    "import random\n",
    "\n",
    "def get_ch_table(line):\n",
    "    ch_table = []\n",
    "    for ch in line:\n",
    "        if ch not in ch_table:\n",
    "            ch_table.append(ch)\n",
    "    return ch_table\n",
    "\n",
    "with open(r'F:\\桌面\\idioms.txt') as fh:\n",
    "    text = fh.read()\n",
    "chs = get_ch_table(text.replace('\\n', ''))\n",
    "\n",
    "i=1\n",
    "j=1\n",
    "list=[]\n",
    "while i<=10:\n",
    "    n=i*10\n",
    "    while j<=n:\n",
    "        ch = random.choice(chs)\n",
    "        list.append(ch)\n",
    "        j+=1\n",
    "    res=(''.join(list))\n",
    "    while j>n:\n",
    "        j=1\n",
    "        list=[]\n",
    "        print(res)\n",
    "        fh = open(r'F:\\桌面\\i.txt', 'w') #文件命名有误，会改好之后再发一次\n",
    "        fh.writelines(res)\n",
    "        fh.close()\n",
    "    i+=1"
   ]
  },
  {
   "cell_type": "code",
   "execution_count": null,
   "metadata": {
    "collapsed": true
   },
   "outputs": [],
   "source": []
  },
  {
   "cell_type": "code",
   "execution_count": null,
   "metadata": {
    "collapsed": true
   },
   "outputs": [],
   "source": []
  }
 ],
 "metadata": {
  "kernelspec": {
   "display_name": "Python 3",
   "language": "python",
   "name": "python3"
  },
  "language_info": {
   "codemirror_mode": {
    "name": "ipython",
    "version": 3
   },
   "file_extension": ".py",
   "mimetype": "text/x-python",
   "name": "python",
   "nbconvert_exporter": "python",
   "pygments_lexer": "ipython3",
   "version": "3.6.2"
  }
 },
 "nbformat": 4,
 "nbformat_minor": 2
}
