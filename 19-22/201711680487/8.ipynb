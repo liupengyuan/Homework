{
 "cells": [
  {
   "cell_type": "code",
   "execution_count": 4,
   "metadata": {},
   "outputs": [
    {
     "name": "stdout",
     "output_type": "stream",
     "text": [
      "随机选择的成语是：口蜜腹剑 \n",
      "请您输入一个成语：剑胆琴心\n",
      "您的得分为:10分\n",
      "计算机给出的成语：心猿意马 \n",
      "计算机得分:10分\n",
      "请您输入一个成语：马放南山\n",
      "您的得分为:20分\n",
      "计算机给出的成语：山高水长 \n",
      "计算机得分:20分\n",
      "请您输入一个成语：长生不老\n",
      "您的得分为:30分\n",
      "计算机给出的成语：老气横秋 \n",
      "计算机得分:30分\n",
      "请您输入一个成语：秋高气爽\n",
      "您的得分为:40分\n",
      "计算机给出的成语：爽心悦目 \n",
      "计算机得分:40分\n",
      "请您输入一个成语：一心一意\n",
      "GAME OVER\n",
      "------------------------------\n",
      "您的总成绩为：40分\n",
      "计算机的总成绩为：40分\n"
     ]
    }
   ],
   "source": [
    "#成语接龙游戏\n",
    "import random\n",
    "    \n",
    "def lose():\n",
    "    print('GAME OVER')\n",
    "    return\n",
    "\n",
    "#读取\n",
    "fh = open(r'C:\\temp\\成语大全.txt')\n",
    "text = fh.read()\n",
    "fh.close()\n",
    "\n",
    "#打散\n",
    "text = text.replace('、', '')\n",
    "idioms = text.split('\\n')\n",
    "\n",
    "#随机选\n",
    "word=random.choice(idioms)\n",
    "letter=list(word)\n",
    "print('随机选择的成语是：',word,sep='')\n",
    "\n",
    "#游戏\n",
    "i=0\n",
    "a=0\n",
    "score_c=0\n",
    "score_p=0\n",
    "while score_c>=0 and score_p>=0:\n",
    "    if i==0:  #人\n",
    "        word=input('请您输入一个成语：')\n",
    "        s=list(word)\n",
    "        if s[0]==letter[3]:\n",
    "            i=1  \n",
    "            score_p+=10\n",
    "            print('您的得分为:',score_p,'分',sep='')\n",
    "        else:\n",
    "            lose()  \n",
    "            score_pp=score_p\n",
    "            score_p=-1\n",
    "    elif i==1: #计算机\n",
    "        for i in range(0,len(idioms)):\n",
    "            letter=idioms[i]\n",
    "            if letter[0]==s[3]:\n",
    "                print('计算机给出的成语：',letter,sep='')\n",
    "                score_c+=10\n",
    "                print('计算机得分:',score_c,'分',sep='')\n",
    "                i=0\n",
    "                break\n",
    "\n",
    "print('-'*30)\n",
    "print('您的总成绩为：',score_pp,'分',sep='')\n",
    "print('计算机的总成绩为：',score_c,'分',sep='')"
   ]
  },
  {
   "cell_type": "code",
   "execution_count": null,
   "metadata": {
    "collapsed": true
   },
   "outputs": [],
   "source": []
  }
 ],
 "metadata": {
  "kernelspec": {
   "display_name": "Python 3",
   "language": "python",
   "name": "python3"
  },
  "language_info": {
   "codemirror_mode": {
    "name": "ipython",
    "version": 3
   },
   "file_extension": ".py",
   "mimetype": "text/x-python",
   "name": "python",
   "nbconvert_exporter": "python",
   "pygments_lexer": "ipython3",
   "version": "3.6.2"
  }
 },
 "nbformat": 4,
 "nbformat_minor": 2
}
