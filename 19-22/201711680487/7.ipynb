{
 "cells": [
  {
   "cell_type": "code",
   "execution_count": 1,
   "metadata": {},
   "outputs": [
    {
     "name": "stdout",
     "output_type": "stream",
     "text": [
      "[9, 8, 7, 6, 5, 4, 3, 2, 1]\n"
     ]
    }
   ],
   "source": [
    "#练习一：自己定义一个reverse(s)函数，功能返回字符串s的倒序字符串。\n",
    "def reverse(numbers):\n",
    "    x=len(numbers)\n",
    "    print(numbers[x::-1])\n",
    "\n",
    "numbers=[1,2,3,4,5,6,7,8,9]\n",
    "reverse(numbers)"
   ]
  },
  {
   "cell_type": "code",
   "execution_count": 17,
   "metadata": {},
   "outputs": [
    {
     "name": "stdout",
     "output_type": "stream",
     "text": [
      "输入行数10\n",
      "输入符号*\n",
      "直角三角形：\n",
      "         *\n",
      "        **\n",
      "       ***\n",
      "      ****\n",
      "     *****\n",
      "    ******\n",
      "   *******\n",
      "  ********\n",
      " *********\n",
      "**********\n",
      "---------------分隔线---------------\n",
      "等腰三角形：\n",
      "         *\n",
      "        ***\n",
      "       *****\n",
      "      *******\n",
      "     *********\n",
      "    ***********\n",
      "   *************\n",
      "  ***************\n",
      " *****************\n",
      "*******************\n",
      "---------------分隔线---------------\n",
      "锐角三角形：\n",
      "         *\n",
      "        *****\n",
      "       *********\n",
      "      *************\n",
      "     *****************\n",
      "    *********************\n",
      "   *************************\n",
      "  *****************************\n",
      " *********************************\n",
      "*************************************\n",
      "---------------分隔线---------------\n",
      "钝角三角形：\n",
      "         *\n",
      "        **********\n",
      "       *******************\n",
      "      ****************************\n",
      "     *************************************\n",
      "    **********************************************\n",
      "   *******************************************************\n",
      "  ****************************************************************\n",
      " *************************************************************************\n",
      "**********************************************************************************\n"
     ]
    }
   ],
   "source": [
    "#练习二：写函数，根据给定符号和行数，打印相应直角三角形，等腰三角形及其他形式的三角形。\n",
    "def triangle(symbol,line):\n",
    "    print('直角三角形：')\n",
    "    for i in range(1,line+1):\n",
    "        print(' '*(line-i)+symbol*i)\n",
    "    print('-'*15 + '分隔线' + '-' *15)\n",
    "    print('等腰三角形：')\n",
    "    for i in range(1,line+1):\n",
    "        print(' '*(line-i)+symbol*(i*2-1))\n",
    "    print('-'*15 + '分隔线' + '-' *15)\n",
    "    print('锐角三角形：')\n",
    "    for i in range(1,line+1):\n",
    "        print(' '*(line-i)+symbol*(4*i-3))  \n",
    "    print('-'*15 + '分隔线' + '-' *15)\n",
    "    print('钝角三角形：')\n",
    "    for i in range(1,line+1):\n",
    "        print(' '*(line-i)+symbol*(9*i-8))\n",
    "line=int(input('输入行数'))\n",
    "symbol=input('输入符号')\n",
    "triangle(symbol,line)      "
   ]
  },
  {
   "cell_type": "code",
   "execution_count": 46,
   "metadata": {},
   "outputs": [
    {
     "name": "stdout",
     "output_type": "stream",
     "text": [
      "输入符号*\n",
      "                 *\n",
      "                ***\n",
      "               *****\n",
      "                ***\n",
      "                 *\n",
      "---------------分隔线---------------\n",
      "                    *   \n",
      "                *   *   *   \n",
      "            *   *   *   *   *   \n",
      "        *   *   *   *   *   *   *   \n",
      "    *   *   *   *   *   *   *   *   *   \n",
      "*   *   *   *   *   *   *   *   *   *   *   \n",
      "    *   *   *   *   *   *   *   *   *   \n",
      "        *   *   *   *   *   *   *   \n",
      "            *   *   *   *   *   \n",
      "                *   *   *   \n",
      "                    *   \n"
     ]
    }
   ],
   "source": [
    "#练习五：写函数，根据给定符号，打印各种菱形。\n",
    "def rhombus(symbol):\n",
    "    for i in range(1,3):\n",
    "        print(' '*(18-i)+symbol*(i*2-1))\n",
    "    for i in range(3,6):\n",
    "        print(' '*(i+12)+symbol*(11-2*i))\n",
    "    print('-'*15 + '分隔线' + '-' *15)\n",
    "    for i in range(1,6):\n",
    "        print('    '*(6-i)+(symbol+'   ')*(i*2-1))\n",
    "    for i in range(6,12):\n",
    "        print('    '*(i-6)+(symbol+'   ')*(23-2*i))\n",
    "m=input('输入符号')\n",
    "rhombus(m)"
   ]
  }
 ],
 "metadata": {
  "kernelspec": {
   "display_name": "Python 3",
   "language": "python",
   "name": "python3"
  },
  "language_info": {
   "codemirror_mode": {
    "name": "ipython",
    "version": 3
   },
   "file_extension": ".py",
   "mimetype": "text/x-python",
   "name": "python",
   "nbconvert_exporter": "python",
   "pygments_lexer": "ipython3",
   "version": "3.6.2"
  }
 },
 "nbformat": 4,
 "nbformat_minor": 2
}
