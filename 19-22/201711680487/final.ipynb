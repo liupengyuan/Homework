{
 "cells": [
  {
   "cell_type": "code",
   "execution_count": 1,
   "metadata": {},
   "outputs": [
    {
     "name": "stdout",
     "output_type": "stream",
     "text": [
      "输入行数5\n",
      "输入符号*\n",
      "        * ***** * \n",
      "      * * ***** * * \n",
      "    * * * ***** * * * \n",
      "  * * * * ***** * * * * \n",
      "* * * * * ***** * * * * * \n"
     ]
    }
   ],
   "source": [
    "#1\n",
    "def picture(symbol,line):\n",
    "    for i in range(1,line+1):\n",
    "        print((line*2-i*2)*' '+(symbol+' ')*i+symbol*line+' '+(symbol+' ')*i)\n",
    "line=int(input('输入行数'))\n",
    "symbol=input('输入符号')\n",
    "picture(symbol,line)"
   ]
  },
  {
   "cell_type": "code",
   "execution_count": 2,
   "metadata": {},
   "outputs": [
    {
     "name": "stdout",
     "output_type": "stream",
     "text": [
      "125\n"
     ]
    }
   ],
   "source": [
    "#2\n",
    "def A(m,n):\n",
    "    if m == 0:\n",
    "        return n+1\n",
    "    elif m>0 and n == 0:\n",
    "        return A(m-1,1)\n",
    "    elif m>0 and n>0:\n",
    "        return A(m-1,A(m,n-1))\n",
    "print(A(3,4))"
   ]
  },
  {
   "cell_type": "code",
   "execution_count": 3,
   "metadata": {},
   "outputs": [
    {
     "name": "stdout",
     "output_type": "stream",
     "text": [
      "12 - 15 =\n",
      "11 * 9 =\n",
      "12 * 19 =\n",
      "25 * 10 =\n",
      "22 * 16 =\n",
      "24 - 11 =\n",
      "4 * 14 =\n",
      "20 * 14 =\n",
      "18 - 22 =\n",
      "17 + 18 =\n",
      "12 + 19 =\n",
      "25 + 25 =\n",
      "3 + 17 =\n",
      "23 * 4 =\n",
      "9 - 8 =\n"
     ]
    }
   ],
   "source": [
    "#3\n",
    "#a\n",
    "import random\n",
    "i=0\n",
    "symbol = ['+','-','*','/']\n",
    "while i<15:\n",
    "    x = random.randint(3,25)\n",
    "    y = random.randint(3,25)\n",
    "    sign = random.choice(symbol)\n",
    "    if sign =='/':\n",
    "        if x%y==0 :\n",
    "            i +=1\n",
    "            print(x,sign,y,'=')   \n",
    "    else:\n",
    "        i +=1\n",
    "        print(x,sign,y,'=')"
   ]
  },
  {
   "cell_type": "code",
   "execution_count": 4,
   "metadata": {},
   "outputs": [
    {
     "name": "stdout",
     "output_type": "stream",
     "text": [
      "20 * 8 =\n",
      "11 - 10 =\n",
      "5 + 4 =\n",
      "14 - 15 =\n",
      "7 + 16 =\n",
      "11 - 18 =\n",
      "7 + 19 =\n",
      "22 - 7 =\n",
      "3 * 6 =\n",
      "12 * 25 =\n",
      "12 * 12 =\n",
      "24 - 21 =\n",
      "15 - 15 =\n",
      "9 - 3 =\n",
      "16 - 17 =\n",
      "[160, 1, 9, -1, 23, -7, 26, 15, 18, 300, 144, 3, 0, 6, -1]\n",
      "[-100, 1, 9, -1, 23, -7, 26, 15, -100, -100, -100, 3, 0, 6, -1]\n",
      "[160, -100, -100, -100, -100, -100, -100, -100, 18, 300, 144, -100, -100, -100, -100]\n",
      "输入所有答案，用逗号隔开160, 1, 9, -1, 23, -7, 26, 15, 18, 300, 144, 3, 0, 6, -1\n",
      "['160', ' 1', ' 9', ' -1', ' 23', ' -7', ' 26', ' 15', ' 18', ' 300', ' 144', ' 3', ' 0', ' 6', ' -1']\n",
      "您的成绩为 95\n"
     ]
    }
   ],
   "source": [
    "#3\n",
    "#b\n",
    "import random\n",
    "i=0\n",
    "symbol = ['+','-','*','/']\n",
    "total = []\n",
    "jiajian =[]\n",
    "chengchu =[]\n",
    "while i<15:\n",
    "    x = random.randint(3,25)\n",
    "    y = random.randint(3,25)\n",
    "    sign = random.choice(symbol)\n",
    "    if sign =='/':\n",
    "        if x%y==0 :\n",
    "            i +=1\n",
    "            print(x,sign,y,'=')  \n",
    "            total.append(x/y)\n",
    "            chengchu.append(x/y)\n",
    "            jiajian.append(-100)\n",
    "    else:\n",
    "        i +=1\n",
    "        print(x,sign,y,'=')\n",
    "        if sign =='+':\n",
    "            total.append(x+y) \n",
    "            jiajian.append(x+y)\n",
    "            chengchu.append(-100)\n",
    "        elif sign =='-':\n",
    "            total.append(x-y)\n",
    "            jiajian.append(x-y)\n",
    "            chengchu.append(-100)\n",
    "        elif sign =='*':\n",
    "            total.append(x*y)\n",
    "            chengchu.append(x*y)\n",
    "            jiajian.append(-100)\n",
    "print(total)\n",
    "print(jiajian)\n",
    "print(chengchu)\n",
    "\n",
    "number=input('输入所有答案，用逗号隔开')\n",
    "num=number.split(',')\n",
    "print(num)\n",
    "\n",
    "score=0\n",
    "for i in range(0,15):\n",
    "    if int(num[i])==total[i]:\n",
    "        if int(num[i])==chengchu[i]:\n",
    "            score+=10\n",
    "        else:\n",
    "            score+=5\n",
    "    else:\n",
    "        score+=0\n",
    "print('您的成绩为',score)"
   ]
  },
  {
   "cell_type": "code",
   "execution_count": 5,
   "metadata": {},
   "outputs": [
    {
     "name": "stdout",
     "output_type": "stream",
     "text": [
      "输入题目个数10\n",
      "输入题目15+6=\n",
      "输入题目3+5=\n",
      "结果为 8\n",
      "输入题目5-4=\n",
      "结果为 1\n",
      "输入题目5/5=\n",
      "结果为 1.0\n",
      "输入题目4*7=\n",
      "结果为 28\n",
      "输入题目3+5=\n",
      "结果为 8\n",
      "输入题目5-6=\n",
      "结果为 -1\n",
      "输入题目4+4\n",
      "结果为 8\n",
      "输入题目5*5=\n",
      "结果为 25\n",
      "输入题目8/4=\n",
      "结果为 2.0\n",
      "计算机的成绩为 65\n"
     ]
    }
   ],
   "source": [
    "#3\n",
    "#c\n",
    "number=int(input('输入题目个数'))\n",
    "j=0\n",
    "score2=0\n",
    "while j<number:\n",
    "    question=input('输入题目')\n",
    "    part=[]\n",
    "    for i in question:\n",
    "        part.append(i)\n",
    "    if part[1]=='+':\n",
    "        print('结果为',int(part[0])+int(part[2]))\n",
    "        score2+=5\n",
    "    elif part[1]=='-':\n",
    "        print('结果为',int(part[0])-int(part[2]))\n",
    "        score2+=5\n",
    "    elif part[1]=='*':\n",
    "        print('结果为',int(part[0])*int(part[2]))\n",
    "        score2+=10\n",
    "    elif part[1]=='/':\n",
    "        print('结果为',int(part[0])/int(part[2]))\n",
    "        score2+=10\n",
    "    j+=1\n",
    "print('计算机的成绩为',score2)"
   ]
  },
  {
   "cell_type": "code",
   "execution_count": null,
   "metadata": {
    "collapsed": true
   },
   "outputs": [],
   "source": [
    "#4\n",
    "#a\n",
    "with open(r'd:\\temp\\成语大全(含成语解释)_utf8.txt',encoding='utf-8') as fh:\n",
    "    text = fh.read()\n",
    "#print(text)    \n"
   ]
  },
  {
   "cell_type": "code",
   "execution_count": 9,
   "metadata": {},
   "outputs": [
    {
     "name": "stdout",
     "output_type": "stream",
     "text": [
      "{'满腹经纶': 1, '卧虎藏龙': 1, '花花公子': 1, '掌上明珠': 1, '逍遥法外': 1, '生财有道': 1, '擎天柱': 1, '三位一体': 1, '天涯海角': 1, '妄自菲薄': 1, '黄金时代': 1, '千军万马': 1, '棋逢对手': 1, '后会无期': 1, '韬光养晦': 1, '无懈可击': 1, '袖手旁观': 1, '喜闻乐见': 1, '笑逐颜开': 1, '纸上谈兵': 1, '风和日丽': 1, '大开眼界': 1, '汗牛充栋': 1, '声色犬马': 1, '而立之年': 1, '龙凤呈祥': 1, '鳞次栉比': 1, '美轮美奂': 1, '迫在眉睫': 1, '纵横捭阖': 1, '沧海桑田': 1, '人来人往': 1, '千方百计': 1, '如火如荼': 1, '大智若愚': 1, '斗转星移': 1, '相得益彰': 1, '叱咤风云': 1, '殊途同归': 1, '有问必答': 1, '吹毛求疵': 1, '忍俊不禁': 1, '叹为观止': 1, '讳莫如深': 1, '可见一斑': 1, '五湖四海': 1, '蛛丝马迹': 1, '竭泽而渔': 1, '运筹帷幄': 1, '一鸣惊人': 1, '孜孜不倦': 1, '盲人摸象': 1, '高楼大厦': 1, '高山仰止': 1, '小心翼翼': 1, '不卑不亢': 1, '因地制宜': 1, '一蹴而就': 1, '持之以恒': 1, '潜移默化': 1, '昙花一现': 1, '脱颖而出': 1, '不以为然': 1, '名副其实': 1, '天衣无缝': 1, '浮光掠影': 1, '泾渭分明': 1, '监守自盗': 1, '不约而同': 1, '栩栩如生': 1, '人山人海': 1, '纷至沓来': 1, '见微知著': 1, '无与伦比': 1, '凤毛麟角': 1, '难得糊涂': 1, '里程碑': 1, '十字路口': 1, '矢志不渝': 1, '不一而足': 1, '周而复始': 1, '身体力行': 1, '天之骄子': 1, '左右逢源': 1, '举重若轻': 1, '络绎不绝': 1, '戛然而止': 1, '望尘莫及': 1, '亦步亦趋': 1, '耿耿于怀': 1, '兢兢业业': 1, '克己复礼': 1, '风起云涌': 1, '义愤填膺': 1, '时过境迁': 1, '念念不忘': 1, '鞠躬尽瘁': 1, '全力以赴': 1, '熙熙攘攘': 1, '绝处逢生': 1, '分道扬镳': 1, '云淡风轻': 1, '眼花缭乱': 1, '侃侃而谈': 1, '潸然泪下': 1, '和光同尘': 1, '心力衰竭': 1, '哭笑不得': 1, '乐此不疲': 1, '咫尺天涯': 1, '一事无成': 1, '以儆效尤': 1, '根深蒂固': 1, '历历在目': 1, '参差不齐': 1, '心有余悸': 1, '登峰造极': 1, '众志成城': 1, '风尘仆仆': 1, '一网打尽': 1, '移花接木': 1, '不知所措': 1, '金童玉女': 1, '锦上添花': 1}\n"
     ]
    }
   ],
   "source": [
    "#4\n",
    "#b\n",
    "fh = open(r'd:\\temp\\idioms.txt')\n",
    "text = fh.read()\n",
    "fh.close()\n",
    "text = text.replace('、', '')\n",
    "idioms = text.split('\\n')\n",
    "#print(idioms)\n",
    "\n",
    "def get_word_table(filename):\n",
    "    word_table = []\n",
    "    with open(filename) as f:\n",
    "        text = f.read()\n",
    "    words = [word.split('/')[0] for word in text.split()]\n",
    "    for word in words:\n",
    "        if word not in word_table:\n",
    "            word_table.append(word)\n",
    "    return word_table\n",
    "filename = r'd:\\temp\\test_re_gbk.txt'\n",
    "table = get_word_table(filename)\n",
    "\n",
    "dic={}\n",
    "for idiom in idioms:\n",
    "    if idiom in table:\n",
    "        dic[idiom] =+1\n",
    "print(dic)"
   ]
  },
  {
   "cell_type": "code",
   "execution_count": null,
   "metadata": {
    "collapsed": true
   },
   "outputs": [],
   "source": [
    "#4\n",
    "#d\n",
    "result=[]\n",
    "with open(r'd:\\temp\\test_re_gbk.txt') as f:\n",
    "    for line in f:\n",
    "        words = line.split()\n",
    "        for word in words:\n",
    "            word_pos = word.split('/')\n",
    "            if word_pos[1]=='nr'\n",
    "                result.append(word_pos[0])\n",
    "print(result)"
   ]
  },
  {
   "cell_type": "code",
   "execution_count": null,
   "metadata": {
    "collapsed": true
   },
   "outputs": [],
   "source": [
    "#4\n",
    "#e\n",
    "fh = open(r'd:\\temp\\idioms.txt')\n",
    "text = fh.read()\n",
    "fh.close()\n",
    "text = text.replace('、', '')\n",
    "idioms = text.split('\\n')\n",
    "print(idioms)\n",
    "\n"
   ]
  }
 ],
 "metadata": {
  "kernelspec": {
   "display_name": "Python 3",
   "language": "python",
   "name": "python3"
  },
  "language_info": {
   "codemirror_mode": {
    "name": "ipython",
    "version": 3
   },
   "file_extension": ".py",
   "mimetype": "text/x-python",
   "name": "python",
   "nbconvert_exporter": "python",
   "pygments_lexer": "ipython3",
   "version": "3.6.2"
  }
 },
 "nbformat": 4,
 "nbformat_minor": 2
}
