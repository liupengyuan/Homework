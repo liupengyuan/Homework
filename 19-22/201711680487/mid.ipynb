{
 "cells": [
  {
   "cell_type": "code",
   "execution_count": 10,
   "metadata": {},
   "outputs": [
    {
     "name": "stdout",
     "output_type": "stream",
     "text": [
      "输入m4\n",
      "20\n"
     ]
    }
   ],
   "source": [
    "#1\n",
    "def add(m):\n",
    "    total=0\n",
    "    i=1\n",
    "    while i<=m:\n",
    "        for i in range (i+1):\n",
    "            total=total+i\n",
    "            i=i+1\n",
    "    print(total)\n",
    "\n",
    "m=int(input('输入m'))\n",
    "add(m)\n"
   ]
  },
  {
   "cell_type": "code",
   "execution_count": 16,
   "metadata": {},
   "outputs": [
    {
     "name": "stdout",
     "output_type": "stream",
     "text": [
      "输入符号*\n",
      "输入行数5\n",
      "\n",
      "*\n",
      "**\n",
      "***\n",
      "****\n",
      "*****\n"
     ]
    }
   ],
   "source": [
    "#2\n",
    "def pro(m):\n",
    "    line = '*****'\n",
    "    for i in range(1, m+2):\n",
    "        for j in range(1,i):\n",
    "             print(line[0],end='')\n",
    "        print()\n",
    "        \n",
    "n=input('输入符号')\n",
    "m=int(input('输入行数'))\n",
    "pro(m)"
   ]
  },
  {
   "cell_type": "code",
   "execution_count": 12,
   "metadata": {},
   "outputs": [
    {
     "name": "stdout",
     "output_type": "stream",
     "text": [
      "输入一个正整数48723478234432\n",
      "4\n"
     ]
    }
   ],
   "source": [
    "#3\n",
    "def pro(number):\n",
    "    x=1\n",
    "    while number/x>1:\n",
    "        x=x*10\n",
    "    else:\n",
    "        a=int(number//(x/10))\n",
    "    return a\n",
    "\n",
    "number=int(input('输入一个正整数'))\n",
    "print(pro(number))"
   ]
  },
  {
   "cell_type": "code",
   "execution_count": 13,
   "metadata": {},
   "outputs": [
    {
     "name": "stdout",
     "output_type": "stream",
     "text": [
      "输入数据的个数9\n",
      "输入身高（单位：cm）183\n",
      "输入身高（单位：cm）185\n",
      "输入身高（单位：cm）183\n",
      "输入身高（单位：cm）187\n",
      "输入身高（单位：cm）178\n",
      "输入身高（单位：cm）175\n",
      "输入身高（单位：cm）177\n",
      "输入身高（单位：cm）190\n",
      "输入身高（单位：cm）172\n",
      "平均身高为 181.11111111111111\n",
      "高出平均值的有：\n",
      "183\n",
      "185\n",
      "183\n",
      "187\n",
      "190\n"
     ]
    }
   ],
   "source": [
    "#4\n",
    "list=[]\n",
    "listlen=int(input('输入数据的个数'))\n",
    "for i in range(listlen):\n",
    "    a=int(input('输入身高（单位：cm）'))\n",
    "    list.append(a)\n",
    "total = 0\n",
    "for i in list:\n",
    "    total += i\n",
    "    average=total/len(list)\n",
    "print('平均身高为',average)\n",
    "print('高出平均值的有：')\n",
    "for i in list:\n",
    "    if  i>average:\n",
    "        print(i)"
   ]
  },
  {
   "cell_type": "code",
   "execution_count": 14,
   "metadata": {},
   "outputs": [
    {
     "name": "stdout",
     "output_type": "stream",
     "text": [
      "2 7\n",
      "两数的和为9\n",
      "3 2\n",
      "两数的和为5\n",
      "9 6\n",
      "两数的和为15\n",
      "10 3\n",
      "两数的和为13\n",
      "8 1\n",
      "两数的和为9\n",
      "最终得分为： 100\n"
     ]
    }
   ],
   "source": [
    "#5\n",
    "import random\n",
    "i=1\n",
    "total=0\n",
    "while i<=5:\n",
    "    m=random.randint(1,10)\n",
    "    n=random.randint(1,10)\n",
    "    print(m,n)\n",
    "    ans=int(input('两数的和为'))\n",
    "    i=i+1\n",
    "    if ans==m+n:\n",
    "        total+=20\n",
    "print('最终得分为：',total)"
   ]
  },
  {
   "cell_type": "code",
   "execution_count": 15,
   "metadata": {},
   "outputs": [
    {
     "name": "stdout",
     "output_type": "stream",
     "text": [
      "[108, 3, -5, 9, 34, 88, -76]\n"
     ]
    }
   ],
   "source": [
    "6#\n",
    "list=[3,-5,9,108,34,-76,88]\n",
    "max_mun=list[0]\n",
    "min_mun=list[0]\n",
    "for i in range(7):\n",
    "    if list[i]>max_mun:\n",
    "        max_mun=list[i]\n",
    "for i in range(7):\n",
    "    if list[i]<min_mun:\n",
    "        min_mun=list[i]\n",
    "\n",
    "list2=[]\n",
    "list2.append(max_mun)\n",
    "for i in range(7):\n",
    "    if list[i]!=max_mun and list[i]!=min_mun:\n",
    "        list2.append(list[i])\n",
    "list2.append(min_mun)\n",
    "print(list2)"
   ]
  }
 ],
 "metadata": {
  "kernelspec": {
   "display_name": "Python 3",
   "language": "python",
   "name": "python3"
  },
  "language_info": {
   "codemirror_mode": {
    "name": "ipython",
    "version": 3
   },
   "file_extension": ".py",
   "mimetype": "text/x-python",
   "name": "python",
   "nbconvert_exporter": "python",
   "pygments_lexer": "ipython3",
   "version": "3.6.2"
  }
 },
 "nbformat": 4,
 "nbformat_minor": 2
}
