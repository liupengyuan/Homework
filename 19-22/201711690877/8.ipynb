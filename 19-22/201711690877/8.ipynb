{
 "cells": [
  {
   "cell_type": "code",
   "execution_count": 5,
   "metadata": {},
   "outputs": [
    {
     "name": "stdout",
     "output_type": "stream",
     "text": [
      "百鸟朝凤\n",
      "凤凰于飞\n",
      "正确，你的分数为: 10\n",
      "狭路相逢\n",
      "逢场作戏\n",
      "game over,score: 10\n"
     ]
    }
   ],
   "source": [
    "import random\n",
    "\n",
    "\n",
    "\n",
    "fh = open(r'C:\\Users\\Cyy19990311\\Desktop\\idioms.txt')\n",
    "text = fh.read()\n",
    "text = text.replace('、', '')\n",
    "fh.close()\n",
    "idioms = text.split('\\n')\n",
    "def idiom_goon():\n",
    "    score_p = 0\n",
    "    score_e = 0\n",
    "    while score_p>=score_e:\n",
    "        input_e = random.choice(idioms)\n",
    "        print(input_e)\n",
    "        fh = open(r'c:\\temp\\成语大全.txt', 'w')\n",
    "        fh.writelines(input_e)\n",
    "        fh.close()        \n",
    "        input_p = str(input())\n",
    "        list1= list(input_e)\n",
    "        last1= list1[3]\n",
    "        list2= list(input_p)\n",
    "        last2= list2[3]\n",
    "        score_e = score_e+10\n",
    "        if input_p in idioms:\n",
    "            if input_p.startswith(last1):\n",
    "                score_p = score_p+10\n",
    "                print('正确，你的分数为:',score_p)\n",
    "                fh = open(r'c:\\temp\\成语大全.txt', 'w')\n",
    "                fh.writelines(input_p)\n",
    "                fh.close()\n",
    "            else:\n",
    "                score_p = score_p \n",
    "                print('game over,score:',score_p)\n",
    "        if input_p not in idioms:\n",
    "            score_p = score_p\n",
    "            print('game over,score:',score_p)\n",
    "        \n",
    "\n",
    "idiom_goon()\n"
   ]
  },
  {
   "cell_type": "code",
   "execution_count": null,
   "metadata": {},
   "outputs": [],
   "source": []
  },
  {
   "cell_type": "code",
   "execution_count": null,
   "metadata": {},
   "outputs": [],
   "source": []
  },
  {
   "cell_type": "code",
   "execution_count": null,
   "metadata": {},
   "outputs": [],
   "source": []
  },
  {
   "cell_type": "code",
   "execution_count": null,
   "metadata": {},
   "outputs": [],
   "source": []
  },
  {
   "cell_type": "code",
   "execution_count": null,
   "metadata": {},
   "outputs": [],
   "source": []
  },
  {
   "cell_type": "code",
   "execution_count": null,
   "metadata": {},
   "outputs": [],
   "source": []
  }
 ],
 "metadata": {
  "kernelspec": {
   "display_name": "Python 3",
   "language": "python",
   "name": "python3"
  },
  "language_info": {
   "codemirror_mode": {
    "name": "ipython",
    "version": 3
   },
   "file_extension": ".py",
   "mimetype": "text/x-python",
   "name": "python",
   "nbconvert_exporter": "python",
   "pygments_lexer": "ipython3",
   "version": "3.6.0"
  }
 },
 "nbformat": 4,
 "nbformat_minor": 2
}
