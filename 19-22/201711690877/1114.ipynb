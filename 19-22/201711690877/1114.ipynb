{
 "cells": [
  {
   "cell_type": "code",
   "execution_count": 6,
   "metadata": {},
   "outputs": [
    {
     "name": "stdout",
     "output_type": "stream",
     "text": [
      "平均值为： 106.72999999999999\n",
      "最大值为： 899\n",
      "最小值为： -10\n"
     ]
    }
   ],
   "source": [
    "numbers = [1,2,-1,55,100,899,-10,3,12.5,5.8]\n",
    "\n",
    "def list():\n",
    "   \n",
    "    total = 0\n",
    "    mix_n =max_n = numbers[0]\n",
    "    for number in numbers:\n",
    "        total = total + number\n",
    "        ave = total /len(numbers)\n",
    "        \n",
    "    \n",
    "    print('平均值为：',ave)\n",
    "    print('最大值为：',max(numbers))\n",
    "    print('最小值为：',min(numbers))\n",
    "            \n",
    "\n",
    "list()\n",
    "    \n",
    "\n"
   ]
  },
  {
   "cell_type": "code",
   "execution_count": null,
   "metadata": {},
   "outputs": [],
   "source": []
  }
 ],
 "metadata": {
  "kernelspec": {
   "display_name": "Python 3",
   "language": "python",
   "name": "python3"
  },
  "language_info": {
   "codemirror_mode": {
    "name": "ipython",
    "version": 3
   },
   "file_extension": ".py",
   "mimetype": "text/x-python",
   "name": "python",
   "nbconvert_exporter": "python",
   "pygments_lexer": "ipython3",
   "version": "3.6.0"
  }
 },
 "nbformat": 4,
 "nbformat_minor": 2
}
