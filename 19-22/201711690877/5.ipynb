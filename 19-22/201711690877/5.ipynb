{
 "cells": [
  {
   "cell_type": "code",
   "execution_count": null,
   "metadata": {},
   "outputs": [],
   "source": [
    "n=int(input('整数的个数'))\n",
    "m=int(input('请输入一个较小的整数'))\n",
    "k=int(input('请输入一个较大的整数'))\n",
    "\n",
    "import random\n",
    "\n",
    "def test1():\n",
    "    i=0\n",
    "    total=0\n",
    "    while i<n:\n",
    "        i=i+1\n",
    "        number = random.randint(m,k)\n",
    "        total = number+total\n",
    "        \n",
    "        p=(total/n)**(1/2)\n",
    "        \n",
    "    return p\n",
    "    print(p)\n",
    "\n",
    "\n",
    "\n",
    "test1()\n"
   ]
  },
  {
   "cell_type": "code",
   "execution_count": null,
   "metadata": {},
   "outputs": [],
   "source": [
    "n=int(input('整数的个数'))\n",
    "m=int(input('请输入一个较小的整数'))\n",
    "k=int(input('请输入一个较大的整数'))\n",
    "\n",
    "import random,math\n",
    "\n",
    "def test1():\n",
    "    i=0\n",
    "    total_1=0\n",
    "    while i<n:\n",
    "        i=i+1\n",
    "        number = random.randint(m,k)\n",
    "        p=math.log(number,)\n",
    "        total_1 = p+total_1   \n",
    "        \n",
    "    return p\n",
    "    print(p)\n",
    "\n",
    "def test2():\n",
    "     i=0\n",
    "     total_2=0\n",
    "     while i<n:\n",
    "         i=i+1\n",
    "         number = random.randint(m,k)\n",
    "         q=1/math.log(number,)\n",
    "         total_2= q+total_2  \n",
    "        \n",
    "     return q\n",
    "     print(q)\n",
    "\n",
    "test1()\n",
    "test2()"
   ]
  },
  {
   "cell_type": "code",
   "execution_count": 2,
   "metadata": {},
   "outputs": [
    {
     "name": "stdout",
     "output_type": "stream",
     "text": [
      "有m个数相加2\n",
      "60\n"
     ]
    }
   ],
   "source": [
    "import random\n",
    "a=random.randint(1,9)\n",
    "m=int(input('有m个数相加'))\n",
    "\n",
    "i=0\n",
    "s=0\n",
    "while i<m:\n",
    "    i=i+1\n",
    "    p=10**(i-1)\n",
    "    q=m-i+1\n",
    "    s=s+a*q*p\n",
    "    \n",
    "print(s)"
   ]
  },
  {
   "cell_type": "code",
   "execution_count": 8,
   "metadata": {},
   "outputs": [
    {
     "name": "stdout",
     "output_type": "stream",
     "text": [
      "=====游戏菜单=====\n",
      "                1. 游戏说明\n",
      "                2. 开始游戏\n",
      "                3. 退出游戏\n",
      "                4. 制作团队\n",
      "             =====游戏菜单=====\n",
      "请输入你的选择3\n",
      "\n",
      "          さよなら！\n",
      "          再见！\n",
      "          Goodbye！\n",
      "          \n"
     ]
    }
   ],
   "source": [
    "import random, math\n",
    "\n",
    "\n",
    "def win():\n",
    "    print('!!!win!!!')\n",
    "    \n",
    "def lose():\n",
    "    print('???lose???')\n",
    "\n",
    "def game_over():\n",
    "    print('''\n",
    "          さよなら！\n",
    "          再见！\n",
    "          Goodbye！\n",
    "          '''\n",
    "         )\n",
    "\n",
    "def show_team():\n",
    "    print('王者青铜小队')\n",
    "\n",
    "def show_instruction():\n",
    "    print('电脑猜数游戏')\n",
    "\n",
    "def menu():\n",
    "    print('''=====游戏菜单=====\n",
    "                1. 游戏说明\n",
    "                2. 开始游戏\n",
    "                3. 退出游戏\n",
    "                4. 制作团队\n",
    "             =====游戏菜单=====''')\n",
    "             \n",
    "def guess_game():\n",
    "    n = int(input('请输入一个大于0的整数，作为神秘整数的上界，回车结束。'))\n",
    "    number = int(input('用户所选数字'))\n",
    "    max_times = math.ceil(math.log(n, 2))\n",
    "    guess_times = 0\n",
    "    \n",
    "    while guess_times < max_times:\n",
    "        guess = random.randint(1, n)\n",
    "        guess_times += 1\n",
    "        print('一共可以猜', max_times, '次')\n",
    "        print('电脑已经猜了', guess_times, '次')\n",
    "        print(guess)\n",
    "        \n",
    "        key=int(input('数值正确输入1，偏大输入2，偏小输入3'))\n",
    "        if key == 1:\n",
    "            win()\n",
    "            print('神秘数字是：', guess)\n",
    "            print('你比标准次数少', max_times-guess_times, '次')\n",
    "            break\n",
    "        elif key==2:\n",
    "            print('抱歉，你猜大了')\n",
    "        elif key==3:\n",
    "            print('抱歉，你猜小了')\n",
    "            \n",
    "    else:\n",
    "        print('神秘数字是：', number)\n",
    "        lose()\n",
    "\n",
    "# 主函数\n",
    "def main():\n",
    "    while True:\n",
    "        menu()\n",
    "        choice = int(input('请输入你的选择'))\n",
    "        if choice == 1:\n",
    "            show_instruction()\n",
    "        elif choice == 2:\n",
    "            guess_game()\n",
    "        elif choice == 3:\n",
    "            game_over()\n",
    "            break\n",
    "        else:\n",
    "            show_team()\n",
    "\n",
    "\n",
    "#主程序\n",
    "if __name__ == '__main__':\n",
    "    main()"
   ]
  },
  {
   "cell_type": "code",
   "execution_count": null,
   "metadata": {},
   "outputs": [],
   "source": []
  },
  {
   "cell_type": "code",
   "execution_count": null,
   "metadata": {},
   "outputs": [],
   "source": []
  },
  {
   "cell_type": "code",
   "execution_count": null,
   "metadata": {},
   "outputs": [],
   "source": []
  },
  {
   "cell_type": "code",
   "execution_count": null,
   "metadata": {},
   "outputs": [],
   "source": []
  },
  {
   "cell_type": "code",
   "execution_count": null,
   "metadata": {},
   "outputs": [],
   "source": []
  },
  {
   "cell_type": "code",
   "execution_count": null,
   "metadata": {},
   "outputs": [],
   "source": []
  },
  {
   "cell_type": "code",
   "execution_count": null,
   "metadata": {},
   "outputs": [],
   "source": []
  },
  {
   "cell_type": "code",
   "execution_count": null,
   "metadata": {},
   "outputs": [],
   "source": []
  },
  {
   "cell_type": "code",
   "execution_count": null,
   "metadata": {},
   "outputs": [],
   "source": []
  }
 ],
 "metadata": {
  "kernelspec": {
   "display_name": "Python 3",
   "language": "python",
   "name": "python3"
  },
  "language_info": {
   "codemirror_mode": {
    "name": "ipython",
    "version": 3
   },
   "file_extension": ".py",
   "mimetype": "text/x-python",
   "name": "python",
   "nbconvert_exporter": "python",
   "pygments_lexer": "ipython3",
   "version": "3.6.0"
  }
 },
 "nbformat": 4,
 "nbformat_minor": 2
}
