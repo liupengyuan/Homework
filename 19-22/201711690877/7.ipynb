{
 "cells": [
  {
   "cell_type": "code",
   "execution_count": 1,
   "metadata": {},
   "outputs": [
    {
     "name": "stdout",
     "output_type": "stream",
     "text": [
      "输入字符small\n",
      "llams\n"
     ]
    }
   ],
   "source": [
    "#1自己定义一个reverse(s)函数，功能返回字符串s的倒序字符串。\n",
    "s=input('输入字符')\n",
    "\n",
    "def reverse(s):\n",
    "    line=str(s)\n",
    "    print(line[len(s)::-1])\n",
    "    \n",
    "reverse(s)\n"
   ]
  },
  {
   "cell_type": "code",
   "execution_count": 36,
   "metadata": {},
   "outputs": [
    {
     "name": "stdout",
     "output_type": "stream",
     "text": [
      "输入符号$\n",
      "输入行数5\n",
      "$ \n",
      "$ $ \n",
      "$ $ $ \n",
      "$ $ $ $ \n",
      "$ $ $ $ $ \n",
      "------------------------------------------\n",
      "    $ \n",
      "   $ $ \n",
      "  $ $ $ \n",
      " $ $ $ $ \n",
      "$ $ $ $ $ \n",
      "------------------------------------------\n",
      "    $ $ $ $ \n",
      "   $ $ $ \n",
      "  $ $ \n",
      " $ \n",
      "\n"
     ]
    }
   ],
   "source": [
    "#2写函数，根据给定符号和行数，打印相应直角三角形，等腰三角形及其他形式的三角形。\n",
    "symbol=str(input('输入符号'))\n",
    "line=int(input('输入行数'))\n",
    "def triangle(symbol,line):\n",
    "    m=symbol+' '\n",
    "   \n",
    "    list=m*line\n",
    "    for i in range(1,line+1):\n",
    "        print(m*i,end='')\n",
    "        print()\n",
    "    print('------------------------------------------')\n",
    "    for i in range(1,line+1):\n",
    "        print((line-i)*' '+m*i,end='')\n",
    "        print()\n",
    "    print('------------------------------------------')    \n",
    "    for i in range(1,line+1):\n",
    "        print((line-i)*' '+m*(line-i),end='')\n",
    "        print()\n",
    "triangle(symbol,line)    "
   ]
  },
  {
   "cell_type": "code",
   "execution_count": 62,
   "metadata": {},
   "outputs": [
    {
     "name": "stdout",
     "output_type": "stream",
     "text": [
      "输入符号*\n",
      "输入行数5\n",
      "    *\n",
      "   ***\n",
      "  *****\n",
      " *******\n",
      "*********\n",
      " *******\n",
      "  *****\n",
      "   ***\n",
      "    *\n",
      "     \n",
      "------------------------------------------\n",
      "    * \n",
      "   * * \n",
      "  * * * \n",
      " * * * * \n",
      "* * * * * \n",
      " * * * * \n",
      "  * * * \n",
      "   * * \n",
      "    * \n",
      "     \n"
     ]
    }
   ],
   "source": [
    "#3写函数，根据给定符号，打印各种菱形。\n",
    "symbol=str(input('输入符号'))\n",
    "line=int(input('输入行数'))\n",
    "def rhombus(symbol,line):\n",
    "    m=symbol+' '\n",
    "   \n",
    "    \n",
    "    for i in range(1,line+1):\n",
    "        print((line-i)*' '+symbol*(2*i-1),end='')\n",
    "        print()\n",
    "    for i in range(1,line+1):\n",
    "        print(i*' '+symbol*(2*(line-i)-1),end='')\n",
    "        print()\n",
    "    print('------------------------------------------')\n",
    "    for i in range(1,line+1):\n",
    "        print((line-i)*' '+m*i,end='')\n",
    "        print()\n",
    "    for i in range(1,line+1):\n",
    "        print(i*' '+m*(line-i),end='')\n",
    "        print()\n",
    "    \n",
    "rhombus(symbol,line)    "
   ]
  },
  {
   "cell_type": "code",
   "execution_count": null,
   "metadata": {},
   "outputs": [],
   "source": []
  }
 ],
 "metadata": {
  "kernelspec": {
   "display_name": "Python 3",
   "language": "python",
   "name": "python3"
  },
  "language_info": {
   "codemirror_mode": {
    "name": "ipython",
    "version": 3
   },
   "file_extension": ".py",
   "mimetype": "text/x-python",
   "name": "python",
   "nbconvert_exporter": "python",
   "pygments_lexer": "ipython3",
   "version": "3.6.0"
  }
 },
 "nbformat": 4,
 "nbformat_minor": 2
}
