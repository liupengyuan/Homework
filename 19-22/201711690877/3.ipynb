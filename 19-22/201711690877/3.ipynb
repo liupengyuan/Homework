{
 "cells": [
  {
   "cell_type": "code",
   "execution_count": 19,
   "metadata": {},
   "outputs": [
    {
     "name": "stdout",
     "output_type": "stream",
     "text": [
      "请输入您的名字，并以回车结束。朱艳红\n",
      "name\n",
      "请输入您的出生日期，以回车结束。如：3.0110.03\n",
      "朱艳红,你是非常有性格的天秤座！\n"
     ]
    }
   ],
   "source": [
    "name=input('请输入您的名字，并以回车结束。')\n",
    "print ('name')\n",
    "\n",
    "bir=float(input('请输入您的出生日期，以回车结束。如：3.01'))\n",
    "if bir<=4.19 and bir>=3.21:\n",
    "   print(name,'你是非常有性格的白羊座！',sep=',')\n",
    "if bir<=5.20 and bir>=4.20:\n",
    "   print(name,'你是非常有性格的金牛座！',sep=',')\n",
    "if bir<=6.21 and bir>=5.21:\n",
    "   print(name,'你是非常有性格的双子座！',sep=',')\n",
    "if bir<=7.22 and bir>=6.22:\n",
    "   print(name,'你是非常有性格的巨蟹座！',sep=',')\n",
    "if bir<=8.22 and bir>=7.23:\n",
    "   print(name,'你是非常有性格的狮子座！',sep=',')\n",
    "if bir<=9.22 and bir>=8.23:\n",
    "   print(name,'你是非常有性格的处女座！',sep=',')\n",
    "if bir<=10.23 and bir>=9.23:\n",
    "   print(name,'你是非常有性格的天秤座！',sep=',')\n",
    "if bir<=11.21 and bir>=10.24:\n",
    "   print(name,'你是非常有性格的天蝎座！',sep=',')\n",
    "if bir<=12.21 and bir>=11.22:\n",
    "   print(name,'你是非常有性格的射手座！',sep=',')\n",
    "if 1.01<=bir and bir<=1.19 or 12.22<=bir and bir<=12.30:\n",
    "   print(name,'你是非常有性格的摩羯座！',sep=',')\n",
    "if bir<=2.18 and bir>=1.20:\n",
    "   print(name,'你是非常有性格的水瓶座！',sep=',')\n",
    "if bir<=3.20 and bir>=2.19:\n",
    "   print(name,'你是非常有性格的双鱼座！',sep=',')"
   ]
  },
  {
   "cell_type": "code",
   "execution_count": 7,
   "metadata": {},
   "outputs": [
    {
     "name": "stdout",
     "output_type": "stream",
     "text": [
      "请输入一个较大的整数5\n",
      "请输入一个较小的整数2\n",
      "您想怎样处理这两个数据？求和请输入1，求积请输入2，求余数请输入3,整除请输入44\n",
      "2\n"
     ]
    }
   ],
   "source": [
    "m = int(input('请输入一个较大的整数'))\n",
    "n = int(input('请输入一个较小的整数'))\n",
    "\n",
    "i = int(input('您想怎样处理这两个数据？求和请输入1，求积请输入2，求余数请输入3,整除请输入4'))\n",
    "mul=1\n",
    "\n",
    "if i==1:\n",
    "   total=(m+n)*(m-n+1)/2\n",
    "   print(total)\n",
    "\n",
    "if i==2:\n",
    "   while m-n>=0:\n",
    "    mul*=n\n",
    "    n=n+1\n",
    "   print(mul)\n",
    "\n",
    "if i==3:\n",
    "   a=m%n\n",
    "   print(a)\n",
    "\n",
    "else:\n",
    "    b=m//n\n",
    "    print(b)"
   ]
  },
  {
   "cell_type": "code",
   "execution_count": 3,
   "metadata": {},
   "outputs": [
    {
     "name": "stdout",
     "output_type": "stream",
     "text": [
      "请输入一个英文动词watch\n",
      "watches\n"
     ]
    }
   ],
   "source": [
    "word=input('请输入一个英文动词')\n",
    "\n",
    "if word.endswith ('ch'):\n",
    "   n=word+'es'\n",
    "   print (n)\n",
    "elif word.endswith ('sh'):\n",
    "   n=word+'es'\n",
    "   print (n)\n",
    "elif word.endswith ('s'):\n",
    "   n=word+'es'\n",
    "   print (n)\n",
    "elif word.endswith ('x'):\n",
    "   n=word+'es'\n",
    "   print (n)\n",
    "elif word.endswith('y'):\n",
    "    print ('以辅音字母＋y结尾的词,变y为i加es;以元音字母＋ y结尾的名词变复数时,直接加s变复数 ')\n",
    "elif word.endswith('o'):\n",
    "    n=word+'es'\n",
    "    print (n)\n",
    "else:\n",
    "    n=word+'s'\n",
    "    print(n)"
   ]
  },
  {
   "cell_type": "code",
   "execution_count": null,
   "metadata": {},
   "outputs": [],
   "source": []
  },
  {
   "cell_type": "code",
   "execution_count": null,
   "metadata": {},
   "outputs": [],
   "source": []
  }
 ],
 "metadata": {
  "kernelspec": {
   "display_name": "Python 3",
   "language": "python",
   "name": "python3"
  },
  "language_info": {
   "codemirror_mode": {
    "name": "ipython",
    "version": 3
   },
   "file_extension": ".py",
   "mimetype": "text/x-python",
   "name": "python",
   "nbconvert_exporter": "python",
   "pygments_lexer": "ipython3",
   "version": "3.6.0"
  }
 },
 "nbformat": 4,
 "nbformat_minor": 2
}
