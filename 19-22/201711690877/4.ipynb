{
 "cells": [
  {
   "cell_type": "code",
   "execution_count": 3,
   "metadata": {},
   "outputs": [
    {
     "name": "stdout",
     "output_type": "stream",
     "text": [
      "请输入第1个整数，以回车结束。3\n",
      "请输入第2个整数，以回车结束。2\n",
      "请输入第3个整数，以回车结束。1\n",
      "最终的和是： 9\n"
     ]
    }
   ],
   "source": [
    "n = int(input('请输入第1个整数，以回车结束。'))\n",
    "i = 0\n",
    "mul_n = 1\n",
    "while i < n:\n",
    "    i = i + 1\n",
    "    mul_n = mul_n * i\n",
    "\n",
    "m = int(input('请输入第2个整数，以回车结束。'))\n",
    "i = 0\n",
    "mul_m = 1\n",
    "while i < m:\n",
    "    i = i + 1\n",
    "    mul_m = mul_m * i\n",
    "\n",
    "k = int(input('请输入第3个整数，以回车结束。'))\n",
    "i = 0\n",
    "mul_k = 1\n",
    "while i < k:\n",
    "    i = i + 1\n",
    "    mul_k = mul_k * i\n",
    "\n",
    "print('最终的和是：', mul_n + mul_m + mul_k)"
   ]
  },
  {
   "cell_type": "code",
   "execution_count": 2,
   "metadata": {},
   "outputs": [
    {
     "name": "stdout",
     "output_type": "stream",
     "text": [
      "3.140592653839794\n",
      "3.1415826535897198\n"
     ]
    }
   ],
   "source": [
    "def my_sum(n):\n",
    "    total_n = 0\n",
    "    i = 0\n",
    "    m = -1\n",
    "    while i < n:\n",
    "        i = i+1\n",
    "        m = m*(-1)\n",
    "        k = 2*i-1\n",
    "        total_n = total_n + m/k\n",
    "\n",
    "    return total_n\n",
    "\n",
    "\n",
    "print(my_sum(1000)*4)\n",
    "print(my_sum(100000)*4)"
   ]
  },
  {
   "cell_type": "code",
   "execution_count": 14,
   "metadata": {},
   "outputs": [
    {
     "name": "stdout",
     "output_type": "stream",
     "text": [
      "请输入您的名字cyy\n",
      "请输入生日日期，如3.013.11\n",
      "cyy,你是非常有性格的双鱼座\n"
     ]
    }
   ],
   "source": [
    "name=input('请输入您的名字') \n",
    "\n",
    "def star(bir):\n",
    "    if bir<=4.19 and bir>=3.21:\n",
    "     s=('白羊座')\n",
    "    elif bir<=5.20 and bir>=4.20:\n",
    "     s=('金牛座')\n",
    "    elif bir<=6.21 and bir>=5.21:\n",
    "     s=('双子座')\n",
    "    elif bir<=7.22 and bir>=6.22:\n",
    "     s=('巨蟹座')\n",
    "    elif bir<=8.22 and bir>=7.23:\n",
    "     s=('狮子座')\n",
    "    elif bir<=9.22 and bir>=8.23:\n",
    "     s=('处女座')\n",
    "    elif bir<=10.23 and bir>=9.23:\n",
    "     s=('天秤座')\n",
    "    elif bir<=11.21 and bir>=10.24:\n",
    "     s=('天蝎座')\n",
    "    elif bir<=12.21 and bir>=11.22:\n",
    "     s=('射手座')\n",
    "    elif 1.01<=bir and bir<=1.19 or 12.22<=bir and bir<=12.30:\n",
    "     s=('摩羯座')\n",
    "    elif bir<=2.18 and bir>=1.20:\n",
    "     s=('水瓶座')\n",
    "    elif bir<=3.20 and bir>=2.19:\n",
    "     s=('双鱼座')\n",
    "    return s\n",
    "    \n",
    "\n",
    "bir=float(input('请输入生日日期，如3.01'))\n",
    "print(name,',你是非常有性格的',star(bir),sep='')"
   ]
  },
  {
   "cell_type": "code",
   "execution_count": 13,
   "metadata": {},
   "outputs": [
    {
     "name": "stdout",
     "output_type": "stream",
     "text": [
      "请输入一个名词boy\n",
      "以辅音字母＋y结尾的词,变y为i加es;以元音字母＋ y结尾的名词变复数时,直接加s变复数 \n"
     ]
    }
   ],
   "source": [
    "def n_s(word):\n",
    "\n",
    "    if word.endswith ('ch'):\n",
    "       n=word+'es'\n",
    "    elif word.endswith ('sh'):\n",
    "       n=word+'es'\n",
    "    elif word.endswith ('s'):\n",
    "       n=word+'es'\n",
    "    elif word.endswith ('x'):\n",
    "       n=word+'es'\n",
    "    elif word.endswith('y'):\n",
    "       n=('以辅音字母＋y结尾的词,变y为i加es;以元音字母＋ y结尾的名词变复数时,直接加s变复数 ')\n",
    "    elif word.endswith('o'):\n",
    "       n=word+'es'\n",
    "    else:\n",
    "       n=word+'s'\n",
    "        \n",
    "    return n  \n",
    "\n",
    "word = input('请输入一个名词')\n",
    "print(n_s(word))"
   ]
  },
  {
   "cell_type": "code",
   "execution_count": 22,
   "metadata": {},
   "outputs": [
    {
     "name": "stdout",
     "output_type": "stream",
     "text": [
      "请输入第1个整数，以回车结束。1\n",
      "请输入第2个整数，以回车结束。10\n",
      "请输入间隔数，以回车结束。3\n",
      "间隔数有误\n",
      "最终的和是： none\n"
     ]
    }
   ],
   "source": [
    "def k_sum(k):\n",
    "  \n",
    "    if n < m:\n",
    "        total = n\n",
    "        i = n\n",
    "        while i < m:\n",
    "              i = i + k + 1\n",
    "              total = total + i\n",
    "        if i>m:\n",
    "         print('间隔数有误')\n",
    "         total = ('none')\n",
    "    elif n > m:\n",
    "          total = m\n",
    "          i = m\n",
    "          while i < n:\n",
    "                i = i + k + 1\n",
    "                total = total + i\n",
    "          if i>n:\n",
    "           print('间隔数有误')\n",
    "           total = ('none')\n",
    "    return total\n",
    "\n",
    "n = int(input('请输入第1个整数，以回车结束。'))\n",
    "m = int(input('请输入第2个整数，以回车结束。'))\n",
    "k = int(input('请输入间隔数，以回车结束。'))\n",
    "\n",
    "print('最终的和是：',k_sum(k))"
   ]
  },
  {
   "cell_type": "code",
   "execution_count": null,
   "metadata": {},
   "outputs": [],
   "source": []
  },
  {
   "cell_type": "code",
   "execution_count": null,
   "metadata": {},
   "outputs": [],
   "source": []
  },
  {
   "cell_type": "code",
   "execution_count": null,
   "metadata": {},
   "outputs": [],
   "source": []
  },
  {
   "cell_type": "code",
   "execution_count": null,
   "metadata": {},
   "outputs": [],
   "source": []
  },
  {
   "cell_type": "code",
   "execution_count": null,
   "metadata": {},
   "outputs": [],
   "source": []
  },
  {
   "cell_type": "code",
   "execution_count": null,
   "metadata": {},
   "outputs": [],
   "source": []
  },
  {
   "cell_type": "code",
   "execution_count": null,
   "metadata": {},
   "outputs": [],
   "source": []
  },
  {
   "cell_type": "code",
   "execution_count": null,
   "metadata": {},
   "outputs": [],
   "source": []
  },
  {
   "cell_type": "code",
   "execution_count": null,
   "metadata": {},
   "outputs": [],
   "source": []
  },
  {
   "cell_type": "code",
   "execution_count": null,
   "metadata": {},
   "outputs": [],
   "source": []
  },
  {
   "cell_type": "code",
   "execution_count": null,
   "metadata": {},
   "outputs": [],
   "source": []
  },
  {
   "cell_type": "code",
   "execution_count": null,
   "metadata": {},
   "outputs": [],
   "source": []
  }
 ],
 "metadata": {
  "kernelspec": {
   "display_name": "Python 3",
   "language": "python",
   "name": "python3"
  },
  "language_info": {
   "codemirror_mode": {
    "name": "ipython",
    "version": 3
   },
   "file_extension": ".py",
   "mimetype": "text/x-python",
   "name": "python",
   "nbconvert_exporter": "python",
   "pygments_lexer": "ipython3",
   "version": "3.6.0"
  }
 },
 "nbformat": 4,
 "nbformat_minor": 2
}
