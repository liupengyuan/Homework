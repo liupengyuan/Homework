{
 "cells": [
  {
   "cell_type": "code",
   "execution_count": 14,
   "metadata": {
    "collapsed": false,
    "scrolled": true
   },
   "outputs": [
    {
     "name": "stdout",
     "output_type": "stream",
     "text": [
      "请输入项数5\n",
      "35\n"
     ]
    }
   ],
   "source": [
    "#1\n",
    "def my_sum(m):\n",
    "    n=1\n",
    "    i=1\n",
    "    total=1\n",
    "    sum=1\n",
    "    while i<m:\n",
    "        i=i+1\n",
    "        n=n+1\n",
    "        total=total+n\n",
    "        sum=sum+total\n",
    "    return sum\n",
    "m=int(input('请输入项数'))\n",
    "print(my_sum(m))"
   ]
  },
  {
   "cell_type": "code",
   "execution_count": 4,
   "metadata": {
    "collapsed": false
   },
   "outputs": [
    {
     "name": "stdout",
     "output_type": "stream",
     "text": [
      "请输入符号*\n",
      "请输入行数3\n",
      "\n",
      "        a\n",
      "        aaa\n",
      "        aaaaa\n",
      "\n",
      "        a\n",
      "        aaa\n",
      "        aaaaa\n",
      "\n",
      "        a\n",
      "        aaa\n",
      "        aaaaa\n"
     ]
    }
   ],
   "source": [
    "#2\n",
    "def tri(a,b):\n",
    "    \n",
    "    for i in range(b):\n",
    "        print('''\n",
    "        a\n",
    "        aaa\n",
    "        aaaaa''')\n",
    "a=input('请输入符号')\n",
    "b=int(input('请输入行数'))        \n",
    "\n",
    "tri(a,b)\n"
   ]
  },
  {
   "cell_type": "code",
   "execution_count": 5,
   "metadata": {
    "collapsed": false
   },
   "outputs": [
    {
     "ename": "NameError",
     "evalue": "name 'm' is not defined",
     "output_type": "error",
     "traceback": [
      "\u001b[0;31m---------------------------------------------------------------------------\u001b[0m",
      "\u001b[0;31mNameError\u001b[0m                                 Traceback (most recent call last)",
      "\u001b[0;32m<ipython-input-5-36414ab07174>\u001b[0m in \u001b[0;36m<module>\u001b[0;34m()\u001b[0m\n\u001b[1;32m      5\u001b[0m     \u001b[0mtop\u001b[0m\u001b[1;33m=\u001b[0m\u001b[0mmath\u001b[0m\u001b[1;33m.\u001b[0m\u001b[0mtop\u001b[0m\u001b[1;33m(\u001b[0m\u001b[0mm\u001b[0m\u001b[1;33m)\u001b[0m\u001b[1;33m\u001b[0m\u001b[0m\n\u001b[1;32m      6\u001b[0m     \u001b[1;32mreturn\u001b[0m \u001b[0mtop\u001b[0m\u001b[1;33m\u001b[0m\u001b[0m\n\u001b[0;32m----> 7\u001b[0;31m \u001b[0mprint\u001b[0m\u001b[1;33m(\u001b[0m\u001b[0mtop\u001b[0m\u001b[1;33m(\u001b[0m\u001b[0mm\u001b[0m\u001b[1;33m)\u001b[0m\u001b[1;33m)\u001b[0m\u001b[1;33m\u001b[0m\u001b[0m\n\u001b[0m",
      "\u001b[0;31mNameError\u001b[0m: name 'm' is not defined"
     ]
    }
   ],
   "source": [
    "#3\n",
    "import math\n",
    "def top(m):\n",
    "    m=int(input('请输入一个整数'))\n",
    "    top=math.top(m)\n",
    "    return top\n",
    "print(top(m))"
   ]
  },
  {
   "cell_type": "code",
   "execution_count": 3,
   "metadata": {
    "collapsed": false
   },
   "outputs": [
    {
     "name": "stdout",
     "output_type": "stream",
     "text": [
      "队员人数9\n",
      "请输入身高，单位厘米183\n",
      "请输入身高，单位厘米185\n",
      "请输入身高，单位厘米183\n",
      "请输入身高，单位厘米187\n",
      "请输入身高，单位厘米178\n",
      "请输入身高，单位厘米175\n",
      "请输入身高，单位厘米177\n",
      "请输入身高，单位厘米190\n",
      "请输入身高，单位厘米172\n",
      "平均身高为： 181.11111111111111\n",
      "183\n",
      "185\n",
      "183\n",
      "187\n",
      "190\n"
     ]
    }
   ],
   "source": [
    "#4\n",
    "n=int(input('队员人数'))\n",
    "i=0\n",
    "total=0\n",
    "list=[]\n",
    "while i<n:\n",
    "    height=int(input('请输入身高，单位厘米'))\n",
    "    total=total+height\n",
    "    list.append(height)\n",
    "    i=i+1\n",
    "ave=total/n\n",
    "print('平均身高为：',ave)\n",
    "\n",
    "k=0\n",
    "while k<n:\n",
    "    if list[k]>ave:\n",
    "        print(list[k])\n",
    "        k=k+1\n",
    "    elif list[k]<=ave:\n",
    "        k=k+1\n",
    "   "
   ]
  },
  {
   "cell_type": "code",
   "execution_count": 2,
   "metadata": {
    "collapsed": false
   },
   "outputs": [
    {
     "name": "stdout",
     "output_type": "stream",
     "text": [
      "3 + 1\n",
      "请输入你的答案4\n",
      "正确\n",
      "7 + 3\n",
      "请输入你的答案10\n",
      "正确\n",
      "0 + 7\n",
      "请输入你的答案7\n",
      "正确\n",
      "10 + 4\n",
      "请输入你的答案14\n",
      "正确\n",
      "5 + 10\n",
      "请输入你的答案15\n",
      "正确\n"
     ]
    },
    {
     "data": {
      "text/plain": [
       "20"
      ]
     },
     "execution_count": 2,
     "metadata": {},
     "output_type": "execute_result"
    }
   ],
   "source": [
    "#5\n",
    "\n",
    "def test(a,b):\n",
    "    import random\n",
    "    a=random.randint(0,10)\n",
    "    b=random.randint(0,10)\n",
    "    print(a,'+',b)\n",
    "    answer=int(input('请输入你的答案'))\n",
    "    total=0\n",
    "    if answer==a+b:\n",
    "        total=total+20\n",
    "        print('正确')\n",
    "    else:\n",
    "        total=total+0\n",
    "        print('错误')\n",
    "    return total\n",
    "    print(total)\n",
    "import random\n",
    "a=random.randint(0,10)\n",
    "b=random.randint(0,10)        \n",
    "test(a,b)\n",
    "test(a,b)\n",
    "test(a,b)\n",
    "test(a,b)\n",
    "test(a,b)\n",
    "\n"
   ]
  },
  {
   "cell_type": "code",
   "execution_count": null,
   "metadata": {
    "collapsed": false
   },
   "outputs": [],
   "source": [
    "#6\n",
    "\n",
    "def rank(max,min):\n",
    "    list=[3,-5,9,108,34,-76,88]\n",
    "    i=0\n",
    "    max=list[0]\n",
    "    min=list[0]\n",
    "    while i<7:\n",
    "        if list[i]<min:\n",
    "           min=list[i]\n",
    "           i=i+1\n",
    "        elif list[i]>max:\n",
    "           max=list[i]\n",
    "           i=i+1\n",
    "    \n",
    "    print('top',max,'bottom',min) \n",
    "    \n",
    "rank(max,min)"
   ]
  },
  {
   "cell_type": "code",
   "execution_count": null,
   "metadata": {
    "collapsed": true
   },
   "outputs": [],
   "source": []
  },
  {
   "cell_type": "code",
   "execution_count": null,
   "metadata": {
    "collapsed": true
   },
   "outputs": [],
   "source": []
  }
 ],
 "metadata": {
  "kernelspec": {
   "display_name": "Python 3",
   "language": "python",
   "name": "python3"
  },
  "language_info": {
   "codemirror_mode": {
    "name": "ipython",
    "version": 3
   },
   "file_extension": ".py",
   "mimetype": "text/x-python",
   "name": "python",
   "nbconvert_exporter": "python",
   "pygments_lexer": "ipython3",
   "version": "3.6.0"
  }
 },
 "nbformat": 4,
 "nbformat_minor": 2
}
