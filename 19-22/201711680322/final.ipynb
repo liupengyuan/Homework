{
 "cells": [
  {
   "cell_type": "code",
   "execution_count": 7,
   "metadata": {},
   "outputs": [
    {
     "name": "stdout",
     "output_type": "stream",
     "text": [
      "输入个数5\n",
      "输入符号*\n",
      "    * ****** \n",
      "   * * ****** * \n",
      "  * * * ****** * * \n",
      " * * * * ****** * * * \n",
      "* * * * * ****** * * * * \n"
     ]
    }
   ],
   "source": [
    "#1.\n",
    "def fx(n):\n",
    "    for i in range(1,n+1):\n",
    "        print(' '*(n-i)+(m+' ')*i+m*n+(m+' ')*i)\n",
    "    \n",
    "\n",
    "        \n",
    "n=int(input('输入个数'))\n",
    "m=str(input('输入符号'))\n",
    "fx(n)\n",
    "\n"
   ]
  },
  {
   "cell_type": "code",
   "execution_count": 8,
   "metadata": {},
   "outputs": [
    {
     "name": "stdout",
     "output_type": "stream",
     "text": [
      "0\n"
     ]
    }
   ],
   "source": [
    "#2.\n",
    "def fx(m,n):\n",
    "    h=0\n",
    "    i=0\n",
    "    if m==0:\n",
    "        h=n+1\n",
    "        print(h)\n",
    "    elif m>0 and n==0:\n",
    "        while i <m:\n",
    "            m=m-1\n",
    "            n=1\n",
    "            i+=1\n",
    "        print(h)\n",
    "    if m>0 and n>0:\n",
    "        while i < m:\n",
    "            m=m-1\n",
    "            n=n-1\n",
    "            i+=1\n",
    "        print(h)\n",
    "fx(3,4)\n",
    "        \n",
    "    \n"
   ]
  },
  {
   "cell_type": "code",
   "execution_count": 4,
   "metadata": {},
   "outputs": [
    {
     "name": "stdout",
     "output_type": "stream",
     "text": [
      "出的题目的个数15\n",
      "输入0或1或2或32\n",
      "21 + 14\n",
      "25 + 14\n",
      "13 + 17\n",
      "6 + 7\n",
      "23 + 10\n",
      "23 + 22\n",
      "24 + 25\n",
      "12 + 5\n",
      "12 + 22\n",
      "18 + 16\n",
      "16 + 12\n",
      "6 + 7\n",
      "22 + 11\n",
      "5 + 19\n",
      "9 + 25\n",
      "None\n",
      "请输入你的答案：35\n",
      "请输入你的答案：39\n",
      "请输入你的答案：30\n",
      "请输入你的答案：13\n",
      "请输入你的答案：33\n",
      "请输入你的答案：45\n",
      "请输入你的答案：49\n",
      "请输入你的答案：17\n",
      "请输入你的答案：34\n",
      "请输入你的答案：34\n",
      "请输入你的答案：28\n",
      "请输入你的答案：13\n",
      "请输入你的答案：33\n",
      "请输入你的答案：24\n",
      "请输入你的答案：34\n"
     ]
    },
    {
     "ename": "NameError",
     "evalue": "name 'f' is not defined",
     "output_type": "error",
     "traceback": [
      "\u001b[1;31m---------------------------------------------------------------------------\u001b[0m",
      "\u001b[1;31mNameError\u001b[0m                                 Traceback (most recent call last)",
      "\u001b[1;32m<ipython-input-4-6c7e1be76fe3>\u001b[0m in \u001b[0;36m<module>\u001b[1;34m()\u001b[0m\n\u001b[0;32m     28\u001b[0m     \u001b[1;32mfor\u001b[0m \u001b[0mu\u001b[0m \u001b[1;32min\u001b[0m \u001b[0mrange\u001b[0m\u001b[1;33m(\u001b[0m\u001b[1;36m15\u001b[0m\u001b[1;33m)\u001b[0m\u001b[1;33m:\u001b[0m\u001b[1;33m\u001b[0m\u001b[0m\n\u001b[0;32m     29\u001b[0m         \u001b[0manswer\u001b[0m\u001b[1;33m=\u001b[0m\u001b[0minput\u001b[0m\u001b[1;33m(\u001b[0m\u001b[1;34m'请输入你的答案：'\u001b[0m\u001b[1;33m)\u001b[0m\u001b[1;33m\u001b[0m\u001b[0m\n\u001b[1;32m---> 30\u001b[1;33m     \u001b[0mfinal1\u001b[0m\u001b[1;33m=\u001b[0m\u001b[0mf\u001b[0m\u001b[1;33m+\u001b[0m\u001b[0ms\u001b[0m\u001b[1;33m\u001b[0m\u001b[0m\n\u001b[0m\u001b[0;32m     31\u001b[0m     \u001b[0mfinal2\u001b[0m\u001b[1;33m=\u001b[0m\u001b[0mf\u001b[0m\u001b[1;33m-\u001b[0m\u001b[0ms\u001b[0m\u001b[1;33m\u001b[0m\u001b[0m\n\u001b[0;32m     32\u001b[0m     \u001b[0mfinal3\u001b[0m\u001b[1;33m=\u001b[0m\u001b[0mf\u001b[0m\u001b[1;33m*\u001b[0m\u001b[0ms\u001b[0m\u001b[1;33m\u001b[0m\u001b[0m\n",
      "\u001b[1;31mNameError\u001b[0m: name 'f' is not defined"
     ]
    }
   ],
   "source": [
    "#3.某小学一年级期末考试，请你编程随机出 n 道四则运算题目，每题只有两个数字和一个运算符号，数字均为 a 到 b 之间的整数，整数是随机的，加减乘除也是随机的，要保证每个题目的结果必须是正整数。\n",
    "\n",
    "#（a）（15 分）打印所有题目，每行一道题（给定参数 n=15, a=3, b= 25）。\n",
    "#（b）（10 分）用户键盘输入答案，答对一道加减法题目得 5 分，答对一道乘除法题目得 10 分，答错不得分，程序自动计算并输出最终得分。限定用户一次输入所有答案，逗号分隔，\n",
    "def fx():\n",
    "    m=int(input('出的题目的个数'))\n",
    "    i=int(input('输入0或1或2或3'))\n",
    "    w='*'\n",
    "    r='%'\n",
    "    t='+'\n",
    "    y='-' \n",
    "    if i ==0:\n",
    "        n=w\n",
    "    elif i==1:\n",
    "        n=r\n",
    "    elif i==2:\n",
    "        n=t\n",
    "    elif i==3:\n",
    "        n=y\n",
    "    for u in range(15):\n",
    "        f=random.randint(a,b)\n",
    "        s=random.randint(a,b)\n",
    "        print(f,n,s)\n",
    "a=3\n",
    "b=25\n",
    "print(fx())\n",
    "        \n",
    "while True:\n",
    "    for u in range(15):\n",
    "        answer=input('请输入你的答案：')\n",
    "    final1=f+s\n",
    "    final2=f-s\n",
    "    final3=f*s\n",
    "    final4=f%s\n",
    "    if i==t:\n",
    "        if answer==final1:\n",
    "            score+=5\n",
    "        else:\n",
    "            print('不得分')\n",
    "    elif i==y:\n",
    "        if answer==final2:\n",
    "            score+=5\n",
    "        else:\n",
    "            print('不得分')\n",
    "    elif i==w:\n",
    "        if answer==final3:\n",
    "            score+=10\n",
    "        else:\n",
    "            print('不得分')\n",
    "    if i==r:\n",
    "        if answer==final4:\n",
    "            score+=10\n",
    "        else:\n",
    "            print('不得分')\n",
    "    break\n"
   ]
  },
  {
   "cell_type": "code",
   "execution_count": 9,
   "metadata": {
    "scrolled": true
   },
   "outputs": [
    {
     "ename": "NameError",
     "evalue": "name 'words' is not defined",
     "output_type": "error",
     "traceback": [
      "\u001b[1;31m---------------------------------------------------------------------------\u001b[0m",
      "\u001b[1;31mNameError\u001b[0m                                 Traceback (most recent call last)",
      "\u001b[1;32m<ipython-input-9-7272a37b7a92>\u001b[0m in \u001b[0;36m<module>\u001b[1;34m()\u001b[0m\n\u001b[0;32m      4\u001b[0m \u001b[1;32mwith\u001b[0m \u001b[0mopen\u001b[0m\u001b[1;33m(\u001b[0m\u001b[0mfilename\u001b[0m\u001b[1;33m,\u001b[0m\u001b[0mencoding\u001b[0m \u001b[1;33m=\u001b[0m \u001b[1;34m'utf-8'\u001b[0m\u001b[1;33m)\u001b[0m \u001b[1;32mas\u001b[0m \u001b[0mf\u001b[0m\u001b[1;33m:\u001b[0m\u001b[1;33m\u001b[0m\u001b[0m\n\u001b[0;32m      5\u001b[0m     \u001b[1;32mfor\u001b[0m \u001b[0mline\u001b[0m \u001b[1;32min\u001b[0m \u001b[0mf\u001b[0m\u001b[1;33m:\u001b[0m\u001b[1;33m\u001b[0m\u001b[0m\n\u001b[1;32m----> 6\u001b[1;33m         \u001b[0mwords\u001b[0m \u001b[1;33m|=\u001b[0m\u001b[1;33m{\u001b[0m\u001b[0mword\u001b[0m\u001b[1;33m[\u001b[0m\u001b[1;36m0\u001b[0m\u001b[1;33m]\u001b[0m \u001b[1;32mfor\u001b[0m \u001b[0mword\u001b[0m \u001b[1;32min\u001b[0m \u001b[0mline\u001b[0m\u001b[1;33m.\u001b[0m\u001b[0msplit\u001b[0m\u001b[1;33m(\u001b[0m\u001b[1;34m''\u001b[0m\u001b[1;33m)\u001b[0m\u001b[1;33m}\u001b[0m\u001b[1;33m\u001b[0m\u001b[0m\n\u001b[0m\u001b[0;32m      7\u001b[0m         \u001b[1;32mfor\u001b[0m \u001b[0mword\u001b[0m \u001b[1;32min\u001b[0m \u001b[0mwords\u001b[0m\u001b[1;33m:\u001b[0m\u001b[1;33m\u001b[0m\u001b[0m\n\u001b[0;32m      8\u001b[0m \u001b[1;33m\u001b[0m\u001b[0m\n",
      "\u001b[1;31mNameError\u001b[0m: name 'words' is not defined"
     ]
    }
   ],
   "source": [
    "#4.a.写程序，读入成语文件，并提取出所有四字成语，形成集合 A。\n",
    "filename=r'c:\\temp\\成语大全.txt'\n",
    "A=set()\n",
    "with open(filename,encoding = 'utf-8') as f:\n",
    "    for line in f:\n",
    "        words |={word[0] for word in line.split('')}\n",
    "        for word in words:\n",
    "            \n",
    "            if len(word) ==4:\n",
    "                A.append(word)\n",
    "print(A)\n",
    "\n",
    "\n"
   ]
  },
  {
   "cell_type": "code",
   "execution_count": null,
   "metadata": {},
   "outputs": [],
   "source": [
    "##老师，我下面的语料库是那个10G的语料库的一部分，因为怕电脑死机，所以提取了一部分！"
   ]
  },
  {
   "cell_type": "code",
   "execution_count": 30,
   "metadata": {},
   "outputs": [],
   "source": [
    "#4.（b）统计 A 中所有成语在语料库文件中出现的频次。输出频次最高的 20 个成语及其频次。（如第一问没有做出，可用之前教程 8.md 中的成语库）\n",
    "from collections import Counter\n",
    "def count_words_freq_dict(filename):\n",
    "    \n",
    "    with open(filename) as f:\n",
    "        for line in f:      \n",
    "            words_freq_dict.update([word.split('/')[0] for word in line.split()])\n",
    "            \n",
    "    return words_freq_dict\n",
    "\n"
   ]
  },
  {
   "cell_type": "code",
   "execution_count": 40,
   "metadata": {},
   "outputs": [
    {
     "name": "stdout",
     "output_type": "stream",
     "text": [
      "[('n', 41208), ('x', 33687), ('v', 31479), ('m', 13494), ('d', 9475), ('uj', 8107), ('p', 7094), ('nr', 5543), ('r', 5367), ('c', 4983), ('vn', 4503), ('a', 4182), ('ns', 4144), ('t', 3160), ('f', 2646), ('ul', 1533), ('nz', 1411), ('l', 1359), ('j', 1000), ('eng', 935)]\n"
     ]
    }
   ],
   "source": [
    "words_freq_dict = Counter()\n",
    "count_words_freq_dict(r'c:\\temp\\test1.txt')\n",
    "print(words_freq_dict.most_common(20))"
   ]
  },
  {
   "cell_type": "code",
   "execution_count": 32,
   "metadata": {},
   "outputs": [],
   "source": [
    "#（c）（5 分）统计语料库得到每个词类的词的总频次（如 ns 算一类，v 算一类..）\n",
    "from collections import Counter\n",
    "def count_words_freq_dict(filename):\n",
    "    \n",
    "    with open(filename) as f:\n",
    "        for line in f:      \n",
    "            words_freq_dict.update([word.split('/')[1] for word in line.split()])\n",
    "            \n",
    "    return words_freq_dict\n",
    "\n"
   ]
  },
  {
   "cell_type": "code",
   "execution_count": 33,
   "metadata": {},
   "outputs": [
    {
     "name": "stdout",
     "output_type": "stream",
     "text": [
      "Counter({'n': 41208, 'x': 33687, 'v': 31479, 'm': 13494, 'd': 9475, 'uj': 8107, 'p': 7094, 'nr': 5543, 'r': 5367, 'c': 4983, 'vn': 4503, 'a': 4182, 'ns': 4144, 't': 3160, 'f': 2646, 'ul': 1533, 'nz': 1411, 'l': 1359, 'j': 1000, 'eng': 935, 'b': 913, 'nt': 888, 'u': 878, 'i': 845, 's': 717, 'q': 716, 'nrt': 544, 'ad': 517, 'zg': 396, 'ng': 317, 'uz': 193, 'k': 182, 'uv': 177, 'z': 173, '': 157, 'an': 152, 'vg': 136, 'mq': 132, 'ug': 127, 'y': 124, 'ud': 92, 'nrfg': 70, 'vd': 60, 'h': 40, 'g': 37, 'ag': 36, 'df': 32, 'tg': 28, 'o': 26, 'rz': 15, 'rg': 6, 'yg': 6, 'dg': 5, 'vi': 5, 'e': 4, 'rr': 3, 'vq': 2})\n"
     ]
    }
   ],
   "source": [
    "words_freq_dict = Counter()\n",
    "count_words_freq_dict(r'c:\\temp\\test1.txt')\n",
    "print(words_freq_dict)"
   ]
  },
  {
   "cell_type": "code",
   "execution_count": 44,
   "metadata": {},
   "outputs": [
    {
     "ename": "IndexError",
     "evalue": "list index out of range",
     "output_type": "error",
     "traceback": [
      "\u001b[1;31m---------------------------------------------------------------------------\u001b[0m",
      "\u001b[1;31mIndexError\u001b[0m                                Traceback (most recent call last)",
      "\u001b[1;32m<ipython-input-44-1784d09826d5>\u001b[0m in \u001b[0;36m<module>\u001b[1;34m()\u001b[0m\n\u001b[0;32m      8\u001b[0m             \u001b[0mword_table\u001b[0m\u001b[1;33m=\u001b[0m\u001b[1;33m[\u001b[0m\u001b[0mline\u001b[0m\u001b[1;33m.\u001b[0m\u001b[0msplit\u001b[0m\u001b[1;33m(\u001b[0m\u001b[1;33m)\u001b[0m\u001b[1;33m]\u001b[0m\u001b[1;33m\u001b[0m\u001b[0m\n\u001b[0;32m      9\u001b[0m             \u001b[1;32mfor\u001b[0m \u001b[0mword\u001b[0m \u001b[1;32min\u001b[0m \u001b[0mword_table\u001b[0m\u001b[1;33m:\u001b[0m\u001b[1;33m\u001b[0m\u001b[0m\n\u001b[1;32m---> 10\u001b[1;33m                 \u001b[1;32mif\u001b[0m \u001b[0mword_table\u001b[0m\u001b[1;33m[\u001b[0m\u001b[1;36m1\u001b[0m\u001b[1;33m]\u001b[0m\u001b[1;33m==\u001b[0m\u001b[0mn\u001b[0m\u001b[1;33m:\u001b[0m\u001b[1;33m\u001b[0m\u001b[0m\n\u001b[0m\u001b[0;32m     11\u001b[0m                     \u001b[0mprint\u001b[0m\u001b[1;33m(\u001b[0m\u001b[0mword\u001b[0m\u001b[1;33m)\u001b[0m\u001b[1;33m\u001b[0m\u001b[0m\n\u001b[0;32m     12\u001b[0m \u001b[1;33m\u001b[0m\u001b[0m\n",
      "\u001b[1;31mIndexError\u001b[0m: list index out of range"
     ]
    }
   ],
   "source": [
    "#（d）统计语料库得到所有词类为 nr 的词（不重复），并输出到屏幕。\n",
    "word_table={}\n",
    "ch_table={}\n",
    "list=['nr']\n",
    "n=list[0]\n",
    "with open(r'c:\\temp\\test1.txt') as f:\n",
    "        for line in f:\n",
    "            word_table=[line.split()]\n",
    "            for word in word_table:\n",
    "                if word_table[1]==n:\n",
    "                    print(word)\n",
    "                    \n",
    "        "
   ]
  },
  {
   "cell_type": "code",
   "execution_count": 9,
   "metadata": {},
   "outputs": [
    {
     "name": "stdout",
     "output_type": "stream",
     "text": [
      "194061\n",
      "128\n"
     ]
    }
   ],
   "source": [
    "#(e)统计语料库及 A，得到词（成语）表及字表，打印语料库词表中所有词的长度之和/语料库字表长度；打印 A 的所有词的长度之和/A 的字表长度。\n",
    "def get_ch_table(filename):\n",
    "    ch_table={}\n",
    "    word_table={}\n",
    "    total1=0\n",
    "    total2=0\n",
    "    with open(filename) as f:\n",
    "        for line in f:\n",
    "            word_table=[word.split('/')[0] for word in line.split()]\n",
    "            total1=total1+len(word_table)\n",
    "        print(total1)\n",
    "        for words in word_table:\n",
    "            ch_table=[ch for ch in words]\n",
    "            total2=total2+len(ch_table)\n",
    "        print(total2)\n",
    "        \n",
    "\n",
    "\n",
    "\n",
    "        \n",
    "filename=r'c:\\temp\\test1.txt'\n",
    "get_ch_table(filename) \n",
    "        \n"
   ]
  },
  {
   "cell_type": "code",
   "execution_count": 10,
   "metadata": {},
   "outputs": [
    {
     "name": "stdout",
     "output_type": "stream",
     "text": [
      "请输入一个成语：万马奔腾\n",
      "游戏结束\n",
      "你的分数： 20\n",
      "电脑得分： 0\n",
      "你赢了\n"
     ]
    }
   ],
   "source": [
    "#（f）\n",
    "import random\n",
    "def end():\n",
    "    print('游戏结束')\n",
    "    print('你的分数：',player)\n",
    "    print('电脑得分：',computer)\n",
    "    if player > computer:\n",
    "        print('你赢了')\n",
    "    elif player < computer:\n",
    "        print('你输了')\n",
    "    else:\n",
    "        print('平局')\n",
    "        \n",
    "player = 0\n",
    "computer = 0\n",
    "fh = open(r'c:\\temp\\成语库.txt')\n",
    "text = fh.read()\n",
    "idioms = text.split('\\n')\n",
    "idioms_2 = []\n",
    "fh.close()\n",
    "\n",
    "\n",
    "while True:\n",
    "    answer = input('请输入一个成语：')\n",
    "    if answer in idioms :\n",
    "        player += 10      \n",
    "       \n",
    "        for idiom in idioms:\n",
    "            if answer[-1] == idiom[0]:\n",
    "                print('计算机接龙：',idiom)\n",
    "                computer += 10\n",
    "                break\n",
    "            else:\n",
    "                idioms_2.append(idiom)\n",
    "        if len(idioms_2) == len(idioms):\n",
    "            player += 10\n",
    "            end()\n",
    "            break\n",
    "        \n",
    "    else:\n",
    "        computer += 10\n",
    "        end()\n",
    "        break"
   ]
  }
 ],
 "metadata": {
  "kernelspec": {
   "display_name": "Python 3",
   "language": "python",
   "name": "python3"
  },
  "language_info": {
   "codemirror_mode": {
    "name": "ipython",
    "version": 3
   },
   "file_extension": ".py",
   "mimetype": "text/x-python",
   "name": "python",
   "nbconvert_exporter": "python",
   "pygments_lexer": "ipython3",
   "version": "3.6.3"
  }
 },
 "nbformat": 4,
 "nbformat_minor": 2
}
