{
 "cells": [
  {
   "cell_type": "code",
   "execution_count": null,
   "metadata": {},
   "outputs": [],
   "source": [
    "import random,math\n",
    "def fx(m,n,k):\n",
    "    m=int(input())\n",
    "    n=int(input())\n",
    "    k=int(input())\n",
    "    i=0\n",
    "    while i<m:\n",
    "        number=random.randint(n,k)\n",
    "        print(number)\n",
    "        i=i+1       \n",
    "\n",
    "    \n",
    "def pfg():\n",
    "    total=n**1/2\n",
    "    print(total)\n",
    "    \n",
    "    \n",
    "m=int(input('m='))\n",
    "n=int(input('n='))\n",
    "k=int(input('k='))\n",
    "      \n",
    "\n",
    "pfg()\n"
   ]
  }
 ],
 "metadata": {
  "kernelspec": {
   "display_name": "Python 3",
   "language": "python",
   "name": "python3"
  },
  "language_info": {
   "codemirror_mode": {
    "name": "ipython",
    "version": 3
   },
   "file_extension": ".py",
   "mimetype": "text/x-python",
   "name": "python",
   "nbconvert_exporter": "python",
   "pygments_lexer": "ipython3",
   "version": "3.6.3"
  }
 },
 "nbformat": 4,
 "nbformat_minor": 2
}
