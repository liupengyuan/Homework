{
 "cells": [
  {
   "cell_type": "code",
   "execution_count": 1,
   "metadata": {},
   "outputs": [
    {
     "name": "stdout",
     "output_type": "stream",
     "text": [
      "\n",
      "a\n",
      "ab\n",
      "abc\n",
      "abcd\n",
      "abcde\n",
      "abcdef\n",
      "abcdefg\n",
      "abcdefgh\n",
      "abcdefghi\n",
      "abcdefghij\n",
      "abcdefghijk\n",
      "abcdefghijkl\n",
      "abcdefghijklm\n",
      "abcdefghijklmn\n",
      "abcdefghijklmno\n",
      "abcdefghijklmnop\n",
      "abcdefghijklmnopq\n",
      "abcdefghijklmnopqr\n",
      "abcdefghijklmnopqrs\n",
      "abcdefghijklmnopqrst\n",
      "abcdefghijklmnopqrstu\n",
      "abcdefghijklmnopqrstuv\n",
      "abcdefghijklmnopqrstuvw\n",
      "abcdefghijklmnopqrstuvwx\n",
      "abcdefghijklmnopqrstuvwxy\n",
      "abcdefghijklmnopqrstuvwxyz\n"
     ]
    }
   ],
   "source": [
    "line='abcdefghijklmnopqrstuvwxyz'\n",
    "for i in range(len(line)+1):\n",
    "    print(line[:i])"
   ]
  },
  {
   "cell_type": "code",
   "execution_count": 2,
   "metadata": {},
   "outputs": [
    {
     "name": "stdout",
     "output_type": "stream",
     "text": [
      "请输入要打印的个数6\n",
      "      \n",
      "     * \n",
      "    * * \n",
      "   * * * \n",
      "  * * * * \n",
      " * * * * * \n"
     ]
    }
   ],
   "source": [
    "def fx(n):\n",
    "    for i in range(n):\n",
    "        for j in range(0,n-i):\n",
    "            print(end=' ')\n",
    "        for k in range(n-i,n):\n",
    "            print('*',end=' ')\n",
    "        print()\n",
    "\n",
    "        \n",
    "n=int(input('请输入要打印的个数'))\n",
    "fx(n)\n"
   ]
  },
  {
   "cell_type": "code",
   "execution_count": null,
   "metadata": {},
   "outputs": [],
   "source": []
  }
 ],
 "metadata": {
  "kernelspec": {
   "display_name": "Python 3",
   "language": "python",
   "name": "python3"
  },
  "language_info": {
   "codemirror_mode": {
    "name": "ipython",
    "version": 3
   },
   "file_extension": ".py",
   "mimetype": "text/x-python",
   "name": "python",
   "nbconvert_exporter": "python",
   "pygments_lexer": "ipython3",
   "version": "3.6.3"
  }
 },
 "nbformat": 4,
 "nbformat_minor": 2
}
