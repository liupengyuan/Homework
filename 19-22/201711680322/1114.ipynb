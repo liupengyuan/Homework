{
 "cells": [
  {
   "cell_type": "code",
   "execution_count": 1,
   "metadata": {},
   "outputs": [
    {
     "name": "stdout",
     "output_type": "stream",
     "text": [
      "106.72999999999999\n",
      "899\n",
      "-10\n"
     ]
    }
   ],
   "source": [
    "#写函数，返回一个list中的最大值，最小值，平均值。（不用内置的求和求函数）\n",
    "def fx():\n",
    "    numbers=[1,2,-1,55,100,899,-10,3,12.5,5.8]\n",
    "    total=0\n",
    "    average=0\n",
    "    for number in numbers:\n",
    "        total=total+number\n",
    "        average=total/10\n",
    "    return average\n",
    "\n",
    "        \n",
    "def min():\n",
    "    numbers=[1,2,-1,55,100,899,-10,3,12.5,5.8]\n",
    "    for number in numbers:\n",
    "        if number==-10:\n",
    "            break\n",
    "        else:\n",
    "            a=('非法!')\n",
    "    return number\n",
    "\n",
    "\n",
    "def max():\n",
    "    numbers=[1,2,-1,55,100,899,-10,3,12.5,5.8]\n",
    "    for number in numbers:\n",
    "        if number==899:\n",
    "            break\n",
    "        else:\n",
    "            a=('非法!')\n",
    "    return number\n",
    "\n",
    "\n",
    "print(fx())\n",
    "print(max())\n",
    "print(min())\n"
   ]
  },
  {
   "cell_type": "code",
   "execution_count": null,
   "metadata": {},
   "outputs": [],
   "source": []
  }
 ],
 "metadata": {
  "kernelspec": {
   "display_name": "Python 3",
   "language": "python",
   "name": "python3"
  },
  "language_info": {
   "codemirror_mode": {
    "name": "ipython",
    "version": 3
   },
   "file_extension": ".py",
   "mimetype": "text/x-python",
   "name": "python",
   "nbconvert_exporter": "python",
   "pygments_lexer": "ipython3",
   "version": "3.6.3"
  }
 },
 "nbformat": 4,
 "nbformat_minor": 2
}
