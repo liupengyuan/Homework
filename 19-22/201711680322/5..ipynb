{
 "cells": [
  {
   "cell_type": "code",
   "execution_count": 1,
   "metadata": {},
   "outputs": [
    {
     "name": "stdout",
     "output_type": "stream",
     "text": [
      "请输入左界1\n",
      "请输入整数个数8\n",
      "请输入右界80\n"
     ]
    },
    {
     "data": {
      "text/plain": [
       "5.968668193156661"
      ]
     },
     "execution_count": 1,
     "metadata": {},
     "output_type": "execute_result"
    }
   ],
   "source": [
    "#练习 1：写函数，求n个随机整数均值的平方根，整数范围在m与k之间（n,m,k由用户输入）。\n",
    "import random\n",
    "def fx(m,n,k):\n",
    "    i=0\n",
    "    total=0\n",
    "    while i<n:\n",
    "        number=random.randint(m,k)\n",
    "        total=total+number\n",
    "        i=i+1\n",
    "    a=total/n\n",
    "    f=a**0.5\n",
    "    return f\n",
    "\n",
    "    \n",
    "\n",
    " \n",
    "        \n",
    "m=int(input('请输入左界'))\n",
    "n=int(input('请输入整数个数'))\n",
    "k=int(input('请输入右界'))\n",
    "fx(m,n,k)"
   ]
  },
  {
   "cell_type": "code",
   "execution_count": 2,
   "metadata": {},
   "outputs": [
    {
     "name": "stdout",
     "output_type": "stream",
     "text": [
      "请输入左界1\n",
      "请输入整数个数5\n",
      "请输入右界80\n"
     ]
    },
    {
     "data": {
      "text/plain": [
       "14.03642763251759"
      ]
     },
     "execution_count": 2,
     "metadata": {},
     "output_type": "execute_result"
    }
   ],
   "source": [
    "#练习 2：写函数，共n个随机整数，整数范围在m与k之间，（n,m,k由用户输入）。求1：西格玛log(随机整数)，2：西格玛1/log(随机整数)\n",
    "#1.\n",
    "import random,math\n",
    "def first(m,n,k):\n",
    "    i=0\n",
    "    total1=0\n",
    "    while i<n:\n",
    "        number=random.randint(m,k)\n",
    "        a=math.log(number)\n",
    "        total1=total1+a\n",
    "        i=i+1\n",
    "    \n",
    "    return total1\n",
    "\n",
    "m=int(input('请输入左界'))\n",
    "n=int(input('请输入整数个数'))\n",
    "k=int(input('请输入右界'))\n",
    "first(m,n,k)\n"
   ]
  },
  {
   "cell_type": "code",
   "execution_count": 3,
   "metadata": {},
   "outputs": [
    {
     "name": "stdout",
     "output_type": "stream",
     "text": [
      "请输入左界1\n",
      "请输入整数个数5\n",
      "请输入右界80\n"
     ]
    },
    {
     "data": {
      "text/plain": [
       "1.432232902613014"
      ]
     },
     "execution_count": 3,
     "metadata": {},
     "output_type": "execute_result"
    }
   ],
   "source": [
    "#练习 2：写函数，共n个随机整数，整数范围在m与k之间，（n,m,k由用户输入）。求1：西格玛log(随机整数)，2：西格玛1/log(随机整数)\n",
    "#2.\n",
    "import random,math\n",
    "def second(m,n,k):\n",
    "    i=0\n",
    "    total2=0\n",
    "    while i<n:\n",
    "        number=random.randint(m,k)\n",
    "        b=1/math.log(number)\n",
    "        total2=total2+b\n",
    "        i=i+1\n",
    "    return total2\n",
    "\n",
    "m=int(input('请输入左界'))\n",
    "n=int(input('请输入整数个数'))\n",
    "k=int(input('请输入右界'))\n",
    "second(m,n,k)\n"
   ]
  },
  {
   "cell_type": "code",
   "execution_count": 4,
   "metadata": {},
   "outputs": [
    {
     "data": {
      "text/plain": [
       "5287650"
      ]
     },
     "execution_count": 4,
     "metadata": {},
     "output_type": "execute_result"
    }
   ],
   "source": [
    "#练习 3：写函数，求s=a+aa+aaa+aaaa+aa...a的值，其中a是[1,9]之间的随机整数。例如2+22+222+2222+22222，几个数相加由键盘输入。\n",
    "import random\n",
    "def fx(n):\n",
    "    i=0\n",
    "    total=0\n",
    "    while i<=n:\n",
    "        a=random.randint(1,9)\n",
    "        b=a+a*(10**(i+1))\n",
    "        total=total+b\n",
    "        i=i+1\n",
    "        \n",
    "    return total\n",
    "\n",
    "\n",
    "fx(5)"
   ]
  },
  {
   "cell_type": "code",
   "execution_count": null,
   "metadata": {},
   "outputs": [],
   "source": [
    "#挑战性练习：仿照task5，将猜数游戏改成由用户随便选择一个整数，让计算机来猜测的猜数游戏，要求和task5中人猜测的方法类似，但是人机角色对换，由人来判断猜测是大、小还是相等，请写出完整的猜数游戏。\n",
    "m=input('请随便输入一个数字')\n",
    "import random\n",
    "def guess_game():\n",
    "    number=random.randint(1,100)\n",
    "    guess_times=0\n",
    "    max_times=3\n",
    "    while guess_times<max_times:\n",
    "        guess=number\n",
    "        guess_times+=1\n",
    "        print('电脑一共猜了',guess_times,'次')\n",
    "        print('电脑一共可以猜',max_times,'次')\n",
    "        if guess<m:\n",
    "            print('抱歉，电脑猜小了')\n",
    "        elif guess>m:\n",
    "            print('抱歉，电脑猜大了')\n",
    "        else:\n",
    "            print('恭喜电脑赢了！')\n",
    "    else:\n",
    "        print('我设的数字是:',m)\n",
    "    \n",
    "guess_game()\n"
   ]
  },
  {
   "cell_type": "code",
   "execution_count": null,
   "metadata": {},
   "outputs": [],
   "source": []
  }
 ],
 "metadata": {
  "kernelspec": {
   "display_name": "Python 3",
   "language": "python",
   "name": "python3"
  },
  "language_info": {
   "codemirror_mode": {
    "name": "ipython",
    "version": 3
   },
   "file_extension": ".py",
   "mimetype": "text/x-python",
   "name": "python",
   "nbconvert_exporter": "python",
   "pygments_lexer": "ipython3",
   "version": "3.6.3"
  }
 },
 "nbformat": 4,
 "nbformat_minor": 2
}
