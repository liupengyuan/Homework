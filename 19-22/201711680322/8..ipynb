{
 "cells": [
  {
   "cell_type": "code",
   "execution_count": null,
   "metadata": {},
   "outputs": [
    {
     "name": "stdout",
     "output_type": "stream",
     "text": [
      "风和日丽\n",
      "请玩家接一个成语：丽句清辞\n",
      "losing!\n",
      "玩家得分： 0\n",
      "电脑得分： 0\n"
     ]
    }
   ],
   "source": [
    "fh = open(r'C:\\temp\\成语大全.txt')\n",
    "text = fh.read()\n",
    "fh.close()\n",
    "text = text.replace('、', '')\n",
    "idioms = text.split()\n",
    "\n",
    "\n",
    "\n",
    "import random\n",
    "def game():\n",
    "    player_score=0\n",
    "    computer_score=0\n",
    "    i=1\n",
    "    idiom=random.choice(idioms)\n",
    "    print(idiom)\n",
    "\n",
    "    while i>0:   \n",
    "        player=str(input('请玩家接一个成语：'))\n",
    "        a=player[3]\n",
    "        b=idiom[0]\n",
    "        if a==b and a in idioms:\n",
    "            player_score+=10\n",
    "\n",
    "            for i in range(len(idioms)):\n",
    "                idiomx=idiom[i]\n",
    "                if idiomx[0]==a:\n",
    "                    print(idiomx)\n",
    "                    computer_score+=10\n",
    "                    break\n",
    "                else:\n",
    "                    continue\n",
    "                    \n",
    "                    \n",
    "        if a not in idioms:\n",
    "            print('losing!')\n",
    "            \n",
    "            print('玩家得分：',player_score)\n",
    "            print('电脑得分：',computer_score)\n",
    "\n",
    " \n",
    "                    \n",
    "\n",
    "game()\n",
    "\n",
    "                    \n",
    "                    \n",
    "        \n",
    "\n",
    "    "
   ]
  },
  {
   "cell_type": "code",
   "execution_count": null,
   "metadata": {},
   "outputs": [],
   "source": []
  }
 ],
 "metadata": {
  "kernelspec": {
   "display_name": "Python 3",
   "language": "python",
   "name": "python3"
  },
  "language_info": {
   "codemirror_mode": {
    "name": "ipython",
    "version": 3
   },
   "file_extension": ".py",
   "mimetype": "text/x-python",
   "name": "python",
   "nbconvert_exporter": "python",
   "pygments_lexer": "ipython3",
   "version": "3.6.3"
  }
 },
 "nbformat": 4,
 "nbformat_minor": 2
}
