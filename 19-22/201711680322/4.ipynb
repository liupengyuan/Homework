{
 "cells": [
  {
   "cell_type": "code",
   "execution_count": 3,
   "metadata": {},
   "outputs": [
    {
     "name": "stdout",
     "output_type": "stream",
     "text": [
      "请输入第1个整数，以回车结束。5\n",
      "请输入第2个整数，以回车结束。5\n",
      "请输入第3个整数，以回车结束。5\n",
      "累乘的和是: 360\n"
     ]
    }
   ],
   "source": [
    "#练习 1：仿照求的完整代码，写程序，可求m!+n!+k!\n",
    "def my_mul(n):\n",
    "    i=0\n",
    "    total=1\n",
    "    while i<n:\n",
    "        i=i+1\n",
    "        total=total*i\n",
    "    return total\n",
    "def my_sum(n):\n",
    "    i=0\n",
    "    total=1\n",
    "    while i<n:\n",
    "        i=i+1\n",
    "        total=total*i\n",
    "    return total\n",
    "def you_sum(n):\n",
    "    i=0\n",
    "    total=1\n",
    "    while i<n:\n",
    "        i=i+1\n",
    "        total=total*i\n",
    "    return total\n",
    "n = int(input('请输入第1个整数，以回车结束。'))\n",
    "m = int(input('请输入第2个整数，以回车结束。'))\n",
    "k = int(input('请输入第3个整数，以回车结束。'))\n",
    "print('累乘的和是:',my_mul(n)+my_sum(n)+you_sum(n))\n"
   ]
  },
  {
   "cell_type": "code",
   "execution_count": 3,
   "metadata": {},
   "outputs": [
    {
     "name": "stdout",
     "output_type": "stream",
     "text": [
      "4.0\n",
      "4.0\n",
      "32.0\n"
     ]
    }
   ],
   "source": [
    "#练习 2：写函数可返回1 - 1/3 + 1/5 - 1/7...的前n项的和。在主程序中，分别令n=1000及100000，打印4倍该函数的和。\n",
    "def fx(n):\n",
    "    i=0\n",
    "    e=1/(2**n-1)\n",
    "    total1=1\n",
    "    total2=1\n",
    "    while i<=n:\n",
    "        i=i+1\n",
    "        if i%2==0:\n",
    "            e=-e\n",
    "        else:\n",
    "            e=e\n",
    "        total1=total1+e\n",
    "        total2=4*total1\n",
    "    return total2\n",
    "n=1000\n",
    "print(fx(n))\n",
    "m=100000\n",
    "print(fx(m))\n",
    "print(4*fx(m)+4*fx(n))\n",
    "\n",
    "\n",
    "    "
   ]
  },
  {
   "cell_type": "code",
   "execution_count": 1,
   "metadata": {},
   "outputs": [
    {
     "name": "stdout",
     "output_type": "stream",
     "text": [
      "请输入一个单词:run\n",
      "('run', '+es')\n"
     ]
    }
   ],
   "source": [
    "#练习 3：将task3中的练习1及练习4改写为函数，并进行调用。\n",
    "#task3练习四：\n",
    "def pls(n):\n",
    "    if n.endswith('e' or'p' or'n'):\n",
    "        m=(n,'+s')\n",
    "    else:\n",
    "        m=(n,'+es')\n",
    "    return m\n",
    "n=input('请输入一个单词:')\n",
    "print(pls(n))"
   ]
  },
  {
   "cell_type": "code",
   "execution_count": 1,
   "metadata": {},
   "outputs": [
    {
     "name": "stdout",
     "output_type": "stream",
     "text": [
      "请输入你的名字钱可盈\n",
      "请输入你的月份10\n",
      "请输入你的日期12\n"
     ]
    },
    {
     "ename": "UnboundLocalError",
     "evalue": "local variable 'a' referenced before assignment",
     "output_type": "error",
     "traceback": [
      "\u001b[1;31m---------------------------------------------------------------------------\u001b[0m",
      "\u001b[1;31mUnboundLocalError\u001b[0m                         Traceback (most recent call last)",
      "\u001b[1;32m<ipython-input-1-17ffb2d8d13f>\u001b[0m in \u001b[0;36m<module>\u001b[1;34m()\u001b[0m\n\u001b[0;32m     32\u001b[0m \u001b[0mn\u001b[0m\u001b[1;33m=\u001b[0m\u001b[0minput\u001b[0m\u001b[1;33m(\u001b[0m\u001b[1;34m'请输入你的月份'\u001b[0m\u001b[1;33m)\u001b[0m\u001b[1;33m\u001b[0m\u001b[0m\n\u001b[0;32m     33\u001b[0m \u001b[0mp\u001b[0m\u001b[1;33m=\u001b[0m\u001b[0minput\u001b[0m\u001b[1;33m(\u001b[0m\u001b[1;34m'请输入你的日期'\u001b[0m\u001b[1;33m)\u001b[0m\u001b[1;33m\u001b[0m\u001b[0m\n\u001b[1;32m---> 34\u001b[1;33m \u001b[0mfx\u001b[0m\u001b[1;33m(\u001b[0m\u001b[1;33m)\u001b[0m\u001b[1;33m\u001b[0m\u001b[0m\n\u001b[0m\u001b[0;32m     35\u001b[0m \u001b[0mprint\u001b[0m \u001b[1;33m(\u001b[0m\u001b[0mfx\u001b[0m\u001b[1;33m(\u001b[0m\u001b[1;33m)\u001b[0m\u001b[1;33m)\u001b[0m\u001b[1;33m\u001b[0m\u001b[0m\n",
      "\u001b[1;32m<ipython-input-1-17ffb2d8d13f>\u001b[0m in \u001b[0;36mfx\u001b[1;34m()\u001b[0m\n\u001b[0;32m     27\u001b[0m         \u001b[0ma\u001b[0m\u001b[1;33m=\u001b[0m\u001b[1;33m(\u001b[0m\u001b[1;34m'你是非常有性格的摩羯座！'\u001b[0m\u001b[1;33m)\u001b[0m\u001b[1;33m\u001b[0m\u001b[0m\n\u001b[0;32m     28\u001b[0m \u001b[1;33m\u001b[0m\u001b[0m\n\u001b[1;32m---> 29\u001b[1;33m     \u001b[1;32mreturn\u001b[0m \u001b[0ma\u001b[0m\u001b[1;33m\u001b[0m\u001b[0m\n\u001b[0m\u001b[0;32m     30\u001b[0m \u001b[1;33m\u001b[0m\u001b[0m\n\u001b[0;32m     31\u001b[0m \u001b[0mm\u001b[0m\u001b[1;33m=\u001b[0m\u001b[0minput\u001b[0m\u001b[1;33m(\u001b[0m\u001b[1;34m'请输入你的名字'\u001b[0m\u001b[1;33m)\u001b[0m\u001b[1;33m\u001b[0m\u001b[0m\n",
      "\u001b[1;31mUnboundLocalError\u001b[0m: local variable 'a' referenced before assignment"
     ]
    }
   ],
   "source": [
    "#练习 3：将task3中的练习1及练习4改写为函数，并进行调用。\n",
    "#task3练习一：\n",
    "def fx():\n",
    "    if (n==1 and 21<=p<=31) or (n==2 and 1<=p<=19):\n",
    "        a=('你是非常有性格的水瓶座！')\n",
    "    elif(n==2 and 20<=p<=29) or (n==3 and 1<=p<=20):\n",
    "        a=('你是非常有性格的双鱼座！')\n",
    "    elif(n==3 and 21<=p<=31) or (n==4 and 1<=p<=20):\n",
    "        a=('你是非常有性格的白羊座！')\n",
    "    elif(n==4 and 21<=p<=30) or (n==5 and 1<=p<=21):\n",
    "        a=('你是非常有性格的金牛座！')\n",
    "    elif(n==5 and 22<=p<=31) or (n==6 and 1<=p<=21):\n",
    "        a=('你是非常有性格的双子座！')\n",
    "    elif(n==6 and 22<=p<=30) or (n==7 and 1<=p<=22):\n",
    "        a=('你是非常有性格的巨蟹座！')\n",
    "    elif(n==7 and 23<=p<=31) or (n==8 and 1<=p<=23):\n",
    "        a=('你是非常有性格的狮子座！')\n",
    "    elif(n==8 and 24<=p<=31) or (n==9 and 1<=p<=23):\n",
    "        a=('你是非常有性格的处女座！')\n",
    "    elif(n==9 and 24<=p<=30) or (n==10 and 1<=p<=23):\n",
    "        a=('你是非常有性格的天枰座！')\n",
    "    elif(n==10 and 24<=p<=31) or (n==11 and 1<=p<=22):\n",
    "        a=('你是非常有性格的天蝎座！')\n",
    "    elif(n==11 and 23<=p<=30) or (n==12 and 1<=p<=21):\n",
    "        a=('你是非常有性格的射手座！')\n",
    "    elif(n==12 and 22<=p<=31) or (n==1 and 1<=p<=20):\n",
    "        a=('你是非常有性格的摩羯座！')\n",
    "        \n",
    "    return a\n",
    "\n",
    "m=input('请输入你的名字')\n",
    "n=input('请输入你的月份')\n",
    "p=input('请输入你的日期')\n",
    "fx()\n",
    "print (fx())"
   ]
  },
  {
   "cell_type": "code",
   "execution_count": null,
   "metadata": {},
   "outputs": [],
   "source": [
    "#挑战性练习：写程序，可以求从整数m到整数n累加的和，间隔为k，求和部分需用函数实现，主程序中由用户输入m，n，k调用函数验证正确性。\n",
    "def fx():\n",
    "    m=('')\n",
    "    n=('')\n",
    "    k=2\n",
    "    i=0\n",
    "    total=0\n",
    "    while i<n:\n",
    "        if m<n and (n-m)%k==0:\n",
    "            m=m+k\n",
    "            total=m+n\n",
    "            i=i+1\n",
    "        elif m==n:\n",
    "            total=m+n    \n",
    "        if m>n and (m-n)%k==0:\n",
    "            n=n+k\n",
    "            total=m+n\n",
    "            i=i+1\n",
    "        \n",
    "    return total\n",
    "\n",
    "m=input('请输入第一个数子')\n",
    "n=input('请输入第二个数子')\n",
    "print(fx())"
   ]
  },
  {
   "cell_type": "code",
   "execution_count": null,
   "metadata": {},
   "outputs": [],
   "source": []
  }
 ],
 "metadata": {
  "kernelspec": {
   "display_name": "Python 3",
   "language": "python",
   "name": "python3"
  },
  "language_info": {
   "codemirror_mode": {
    "name": "ipython",
    "version": 3
   },
   "file_extension": ".py",
   "mimetype": "text/x-python",
   "name": "python",
   "nbconvert_exporter": "python",
   "pygments_lexer": "ipython3",
   "version": "3.6.3"
  }
 },
 "nbformat": 4,
 "nbformat_minor": 2
}
