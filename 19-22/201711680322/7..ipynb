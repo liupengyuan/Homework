{
 "cells": [
  {
   "cell_type": "code",
   "execution_count": 6,
   "metadata": {},
   "outputs": [
    {
     "name": "stdout",
     "output_type": "stream",
     "text": [
      "请输入一串字符:12345678\n",
      "12345678\n",
      "87654321\n"
     ]
    }
   ],
   "source": [
    "#练习一：自己定义一个reverse(s)函数，功能返回字符串s的倒序字符串。\n",
    "def fx():\n",
    "    line =input('请输入一串字符:')\n",
    "    x = len(line)\n",
    "    sub_line = ''\n",
    "    for i in range(x):\n",
    "        sub_line += line[i]\n",
    "    print(sub_line)\n",
    "\n",
    "    for i in range(x-1, -1, -1):\n",
    "        print(sub_line[i],end='')  \n",
    "    print()\n",
    "    \n",
    "fx()"
   ]
  },
  {
   "cell_type": "code",
   "execution_count": 8,
   "metadata": {},
   "outputs": [
    {
     "name": "stdout",
     "output_type": "stream",
     "text": [
      "10\n",
      "\n",
      "！ \n",
      "！ ！ \n",
      "！ ！ ！ \n",
      "！ ！ ！ ！ \n",
      "！ ！ ！ ！ ！ \n",
      "！ ！ ！ ！ ！ ！ \n",
      "！ ！ ！ ！ ！ ！ ！ \n",
      "！ ！ ！ ！ ！ ！ ！ ！ \n",
      "！ ！ ！ ！ ！ ！ ！ ！ ！ \n",
      "10\n",
      "         \n",
      "        % \n",
      "       % % \n",
      "      % % % \n",
      "     % % % % \n",
      "    % % % % % \n",
      "   % % % % % % \n",
      "  % % % % % % % \n",
      " % % % % % % % % \n",
      "% % % % % % % % % \n"
     ]
    }
   ],
   "source": [
    "#练习二：写函数，根据给定符号和行数，打印相应直角三角形，等腰三角形及其他形式的三角形。\n",
    "def fx(n):\n",
    "    for i in range(n):\n",
    "        for k in range(n-i,n):\n",
    "            print('！',end=' ')\n",
    "        print()\n",
    "\n",
    "        \n",
    "n=int(input())\n",
    "fx(n)\n",
    "\n",
    "\n",
    "def gx(n):\n",
    "    for i in range(n):\n",
    "        for j in range(1,n-i):\n",
    "            print(' ',end='')\n",
    "        for k in range(n-i,n):\n",
    "            print('%',end=' ')\n",
    "        print()\n",
    "\n",
    "        \n",
    "n=int(input())\n",
    "gx(n)"
   ]
  },
  {
   "cell_type": "code",
   "execution_count": 15,
   "metadata": {},
   "outputs": [
    {
     "name": "stdout",
     "output_type": "stream",
     "text": [
      "!\n",
      "6\n",
      "      \n",
      "     ! \n",
      "    ! ! \n",
      "   ! ! ! \n",
      "  ! ! ! ! \n",
      " ! ! ! ! ! \n",
      " ! ! ! ! ! !\n",
      " ! ! ! ! ! \n",
      " ! ! ! !  \n",
      " ! ! !   \n",
      " ! !    \n",
      " !     \n"
     ]
    }
   ],
   "source": [
    "#练习五：写函数，根据给定符号，打印各种菱形。\n",
    "\n",
    "def gx():\n",
    "    for i in range(m):\n",
    "        print((m-i)*' '+i*(n+' '))\n",
    "    for i in range(m):\n",
    "        print((' '+n)*(m-i)+i*' ')\n",
    "        \n",
    "n=str(input())\n",
    "m=int(input())\n",
    "gx()\n"
   ]
  },
  {
   "cell_type": "code",
   "execution_count": null,
   "metadata": {},
   "outputs": [],
   "source": []
  }
 ],
 "metadata": {
  "kernelspec": {
   "display_name": "Python 3",
   "language": "python",
   "name": "python3"
  },
  "language_info": {
   "codemirror_mode": {
    "name": "ipython",
    "version": 3
   },
   "file_extension": ".py",
   "mimetype": "text/x-python",
   "name": "python",
   "nbconvert_exporter": "python",
   "pygments_lexer": "ipython3",
   "version": "3.6.3"
  }
 },
 "nbformat": 4,
 "nbformat_minor": 2
}
