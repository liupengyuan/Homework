{
 "cells": [
  {
   "cell_type": "code",
   "execution_count": 4,
   "metadata": {},
   "outputs": [
    {
     "data": {
      "text/plain": [
       "0"
      ]
     },
     "execution_count": 4,
     "metadata": {},
     "output_type": "execute_result"
    }
   ],
   "source": [
    "#1.\n",
    "def fx():\n",
    "    total=0\n",
    "    i=0\n",
    "    list=[]\n",
    "    for n in list:\n",
    "        n.append(total)\n",
    "        total=total+n\n",
    "        i=i+1\n",
    "    return total\n",
    "\n",
    "list=[1,2,3,4,5]\n",
    "fx()\n",
    "        \n",
    "    "
   ]
  },
  {
   "cell_type": "code",
   "execution_count": 47,
   "metadata": {},
   "outputs": [
    {
     "name": "stdout",
     "output_type": "stream",
     "text": [
      "* 5\n"
     ]
    }
   ],
   "source": [
    "#2.\n",
    "def fx():\n",
    "    i=('请输入符号个数')\n",
    "    n=('*')\n",
    "    while len(n)!=i:\n",
    "        i+=2\n",
    "        \n",
    "    return\n",
    "\n",
    "\n",
    "print('*',5)"
   ]
  },
  {
   "cell_type": "code",
   "execution_count": 57,
   "metadata": {},
   "outputs": [
    {
     "name": "stdout",
     "output_type": "stream",
     "text": [
      "23456\n",
      "3\n"
     ]
    }
   ],
   "source": [
    "#3.\n",
    "list=[2,3,4,5,6]\n",
    "def fx():\n",
    "    n=input()\n",
    "    i=len(list)\n",
    "    m=list.index(i)\n",
    "    print(m)\n",
    "\n",
    "    \n",
    "    \n",
    "fx()\n",
    "    \n",
    "    "
   ]
  },
  {
   "cell_type": "code",
   "execution_count": 1,
   "metadata": {
    "scrolled": true
   },
   "outputs": [
    {
     "name": "stdout",
     "output_type": "stream",
     "text": [
      "183\n",
      "185\n",
      "183\n",
      "187\n",
      "178\n",
      "175\n",
      "177\n",
      "190\n",
      "172\n"
     ]
    },
    {
     "ename": "TypeError",
     "evalue": "unsupported operand type(s) for /: 'str' and 'int'",
     "output_type": "error",
     "traceback": [
      "\u001b[1;31m---------------------------------------------------------------------------\u001b[0m",
      "\u001b[1;31mTypeError\u001b[0m                                 Traceback (most recent call last)",
      "\u001b[1;32m<ipython-input-1-f64568d8d94a>\u001b[0m in \u001b[0;36m<module>\u001b[1;34m()\u001b[0m\n\u001b[0;32m     20\u001b[0m \u001b[1;33m\u001b[0m\u001b[0m\n\u001b[0;32m     21\u001b[0m \u001b[1;33m\u001b[0m\u001b[0m\n\u001b[1;32m---> 22\u001b[1;33m \u001b[0mfx\u001b[0m\u001b[1;33m(\u001b[0m\u001b[1;33m)\u001b[0m\u001b[1;33m\u001b[0m\u001b[0m\n\u001b[0m\u001b[0;32m     23\u001b[0m \u001b[1;33m\u001b[0m\u001b[0m\n\u001b[0;32m     24\u001b[0m \u001b[1;33m\u001b[0m\u001b[0m\n",
      "\u001b[1;32m<ipython-input-1-f64568d8d94a>\u001b[0m in \u001b[0;36mfx\u001b[1;34m()\u001b[0m\n\u001b[0;32m     13\u001b[0m     \u001b[0mtotal\u001b[0m\u001b[1;33m=\u001b[0m\u001b[0ma\u001b[0m\u001b[1;33m+\u001b[0m\u001b[0mb\u001b[0m\u001b[1;33m+\u001b[0m\u001b[0mc\u001b[0m\u001b[1;33m+\u001b[0m\u001b[0md\u001b[0m\u001b[1;33m+\u001b[0m\u001b[0me\u001b[0m\u001b[1;33m+\u001b[0m\u001b[0mf\u001b[0m\u001b[1;33m+\u001b[0m\u001b[0mg\u001b[0m\u001b[1;33m+\u001b[0m\u001b[0mh\u001b[0m\u001b[1;33m+\u001b[0m\u001b[0mi\u001b[0m\u001b[1;33m\u001b[0m\u001b[0m\n\u001b[0;32m     14\u001b[0m     \u001b[0mn\u001b[0m\u001b[1;33m=\u001b[0m\u001b[0mlen\u001b[0m\u001b[1;33m(\u001b[0m\u001b[0mlist\u001b[0m\u001b[1;33m)\u001b[0m\u001b[1;33m\u001b[0m\u001b[0m\n\u001b[1;32m---> 15\u001b[1;33m     \u001b[0maverage\u001b[0m\u001b[1;33m=\u001b[0m\u001b[0mtotal\u001b[0m\u001b[1;33m/\u001b[0m\u001b[0mn\u001b[0m\u001b[1;33m\u001b[0m\u001b[0m\n\u001b[0m\u001b[0;32m     16\u001b[0m     \u001b[0mprint\u001b[0m\u001b[1;33m(\u001b[0m\u001b[0maverage\u001b[0m\u001b[1;33m)\u001b[0m\u001b[1;33m\u001b[0m\u001b[0m\n\u001b[0;32m     17\u001b[0m     \u001b[1;32mfor\u001b[0m \u001b[0mm\u001b[0m \u001b[1;32min\u001b[0m \u001b[0mlist\u001b[0m\u001b[1;33m:\u001b[0m\u001b[1;33m\u001b[0m\u001b[0m\n",
      "\u001b[1;31mTypeError\u001b[0m: unsupported operand type(s) for /: 'str' and 'int'"
     ]
    }
   ],
   "source": [
    "#4.\n",
    "\n",
    "a=input()\n",
    "b=input()\n",
    "c=input()\n",
    "d=input()\n",
    "e=input()\n",
    "f=input()\n",
    "g=input()\n",
    "h=input()\n",
    "i=input()\n",
    "list=[a,b,c,d,e,f,g,h,i]\n",
    "total=a+b+c+d+e+f+g+h+i\n",
    "n=len(list)\n",
    "average=total/n\n",
    "print(average)\n",
    "for m in list:\n",
    "    if m>average:\n",
    "        print(m)\n",
    "\n",
    "\n",
    "\n",
    "    \n",
    "    "
   ]
  },
  {
   "cell_type": "code",
   "execution_count": 10,
   "metadata": {},
   "outputs": [
    {
     "name": "stdout",
     "output_type": "stream",
     "text": [
      "7 + 9\n",
      "请输入你的答案:23\n",
      "很遗憾！不得分！\n",
      "正确答案是: 16\n"
     ]
    }
   ],
   "source": [
    "#5.\n",
    "import random\n",
    "num1=random.randint(1,10)\n",
    "num2=random.randint(1,10)\n",
    "print(num1,'+',num2)\n",
    "total=num1+num2\n",
    "answer=input('请输入你的答案:')\n",
    "if answer==total:\n",
    "    print('恭喜你！得二十分！')\n",
    "else:\n",
    "    print('很遗憾！不得分！')\n",
    "print('正确答案是:',total)"
   ]
  },
  {
   "cell_type": "code",
   "execution_count": 14,
   "metadata": {},
   "outputs": [
    {
     "name": "stdout",
     "output_type": "stream",
     "text": [
      "非法！\n",
      "非法！\n",
      "非法！\n",
      "3\n",
      "非法！\n",
      "5\n",
      "非法！\n"
     ]
    }
   ],
   "source": [
    "#6.\n",
    "list=[3,-5,9,108,34,-76,88]\n",
    "for i in list:\n",
    "    if i==max(list):\n",
    "        i=list.index(max(list))\n",
    "        print(i)\n",
    "        \n",
    "    elif i==min(list):\n",
    "        i=list.index(min(list))\n",
    "        print(i)\n",
    "    else:\n",
    "        print('非法！')\n",
    "    \n",
    "\n"
   ]
  },
  {
   "cell_type": "code",
   "execution_count": null,
   "metadata": {},
   "outputs": [],
   "source": []
  },
  {
   "cell_type": "code",
   "execution_count": null,
   "metadata": {},
   "outputs": [],
   "source": []
  }
 ],
 "metadata": {
  "kernelspec": {
   "display_name": "Python 3",
   "language": "python",
   "name": "python3"
  },
  "language_info": {
   "codemirror_mode": {
    "name": "ipython",
    "version": 3
   },
   "file_extension": ".py",
   "mimetype": "text/x-python",
   "name": "python",
   "nbconvert_exporter": "python",
   "pygments_lexer": "ipython3",
   "version": "3.6.3"
  }
 },
 "nbformat": 4,
 "nbformat_minor": 2
}
