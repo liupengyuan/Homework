{
 "cells": [
  {
   "cell_type": "markdown",
   "metadata": {},
   "source": [
    "# 第一题"
   ]
  },
  {
   "cell_type": "code",
   "execution_count": 12,
   "metadata": {},
   "outputs": [
    {
     "name": "stdout",
     "output_type": "stream",
     "text": [
      "一个整数：5\n"
     ]
    },
    {
     "data": {
      "text/plain": [
       "35"
      ]
     },
     "execution_count": 12,
     "metadata": {},
     "output_type": "execute_result"
    }
   ],
   "source": [
    "def sun_num():\n",
    "    m = int(input('一个整数：'))\n",
    "    i = 0\n",
    "    total = 0\n",
    "    a = 0\n",
    "    b = 0\n",
    "    while i<m:\n",
    "        a +=1\n",
    "        b +=a\n",
    "        total +=b\n",
    "        i +=1\n",
    "    return total\n",
    "\n",
    "sun_num()"
   ]
  },
  {
   "cell_type": "markdown",
   "metadata": {},
   "source": [
    "# 第二题"
   ]
  },
  {
   "cell_type": "code",
   "execution_count": null,
   "metadata": {},
   "outputs": [],
   "source": [
    "def sjx(sign,n):\n",
    "    i = 1\n",
    "    while i < n:\n",
    "        a = 2*i - 1\n",
    "        m = a * sign\n",
    "        print(m)\n",
    "    return\n",
    "\n",
    "sign = input('符号')\n",
    "n = int(input('行数'))\n",
    "sjx(sign,n)"
   ]
  },
  {
   "cell_type": "markdown",
   "metadata": {},
   "source": [
    "# 第三题"
   ]
  },
  {
   "cell_type": "code",
   "execution_count": 1,
   "metadata": {},
   "outputs": [
    {
     "name": "stdout",
     "output_type": "stream",
     "text": [
      "377882732\n"
     ]
    },
    {
     "data": {
      "text/plain": [
       "3"
      ]
     },
     "execution_count": 1,
     "metadata": {},
     "output_type": "execute_result"
    }
   ],
   "source": [
    "def dyw(n):\n",
    "    i = 0\n",
    "    a = n//(10**i)\n",
    "    while a!=0:\n",
    "        i +=1\n",
    "        a = n//(10**i)\n",
    "    m = n//(10**(i-1))\n",
    "    return m\n",
    "\n",
    "n = int(input(''))\n",
    "dyw(n)"
   ]
  },
  {
   "cell_type": "markdown",
   "metadata": {},
   "source": [
    "# 第四题"
   ]
  },
  {
   "cell_type": "code",
   "execution_count": 15,
   "metadata": {},
   "outputs": [
    {
     "name": "stdout",
     "output_type": "stream",
     "text": [
      "总人数：4\n",
      "111\n",
      "111\n",
      "111\n",
      "111\n"
     ]
    },
    {
     "ename": "IndexError",
     "evalue": "list index out of range",
     "output_type": "error",
     "traceback": [
      "\u001b[1;31m---------------------------------------------------------------------------\u001b[0m",
      "\u001b[1;31mIndexError\u001b[0m                                Traceback (most recent call last)",
      "\u001b[1;32m<ipython-input-15-03343c5b75fb>\u001b[0m in \u001b[0;36m<module>\u001b[1;34m()\u001b[0m\n\u001b[0;32m     11\u001b[0m     \u001b[0mtotal\u001b[0m \u001b[1;33m=\u001b[0m \u001b[1;36m0\u001b[0m\u001b[1;33m\u001b[0m\u001b[0m\n\u001b[0;32m     12\u001b[0m     \u001b[1;32mwhile\u001b[0m \u001b[0mj\u001b[0m \u001b[1;33m<\u001b[0m \u001b[0mn\u001b[0m\u001b[1;33m:\u001b[0m\u001b[1;33m\u001b[0m\u001b[0m\n\u001b[1;32m---> 13\u001b[1;33m         \u001b[0mp\u001b[0m \u001b[1;33m=\u001b[0m \u001b[0mlis\u001b[0m\u001b[1;33m[\u001b[0m\u001b[0mi\u001b[0m\u001b[1;33m]\u001b[0m\u001b[1;33m\u001b[0m\u001b[0m\n\u001b[0m\u001b[0;32m     14\u001b[0m         \u001b[0mtotal\u001b[0m \u001b[1;33m+=\u001b[0m\u001b[0mp\u001b[0m\u001b[1;33m\u001b[0m\u001b[0m\n\u001b[0;32m     15\u001b[0m         \u001b[0mi\u001b[0m \u001b[1;33m+=\u001b[0m\u001b[1;36m1\u001b[0m\u001b[1;33m\u001b[0m\u001b[0m\n",
      "\u001b[1;31mIndexError\u001b[0m: list index out of range"
     ]
    }
   ],
   "source": [
    "lis = []\n",
    "h = []\n",
    "listLen = int(input('总人数：'))\n",
    "for i in range(listLen):\n",
    "    ob = int(input())\n",
    "    lis.append(ob)\n",
    "    \n",
    "for i in range(listLen):\n",
    "    n = len(lis) \n",
    "    j = 1\n",
    "    total = 0\n",
    "    while j < n:\n",
    "        total += lis[i]\n",
    "        i +=1\n",
    "        j +=1\n",
    "    a = total/(n-1)\n",
    "    \n",
    "for i in range(listLen):\n",
    "    n = len(lis)\n",
    "    j = 1\n",
    "    while j < n:\n",
    "        if lis[i] < a:\n",
    "            pass\n",
    "        else:\n",
    "            h.append(lis[i])\n",
    "        j +=1\n",
    "        i +=1\n",
    "        \n",
    "print(a,h)"
   ]
  },
  {
   "cell_type": "markdown",
   "metadata": {},
   "source": [
    "## 第五题"
   ]
  },
  {
   "cell_type": "code",
   "execution_count": 9,
   "metadata": {},
   "outputs": [
    {
     "name": "stdout",
     "output_type": "stream",
     "text": [
      "1 + 6\n",
      "7\n",
      "10 + 1\n",
      "1\n",
      "7 + 10\n",
      "1\n",
      "5 + 2\n",
      "1\n",
      "3 + 5\n",
      "1\n"
     ]
    },
    {
     "data": {
      "text/plain": [
       "20"
      ]
     },
     "execution_count": 9,
     "metadata": {},
     "output_type": "execute_result"
    }
   ],
   "source": [
    "import random\n",
    "\n",
    "def sum():\n",
    "    total = 0\n",
    "    n=5\n",
    "    i = 1\n",
    "    while i<=n:\n",
    "        num1 = random.randint(1, 10)\n",
    "        num2 = random.randint(1, 10)\n",
    "        num3 = num1 + num2\n",
    "        print(num1,'+',num2)\n",
    "        num4 = int(input())\n",
    "        if num4 == num1 + num2:\n",
    "            total += 20\n",
    "        else:\n",
    "            pass\n",
    "        i +=1\n",
    "    return total\n",
    "\n",
    "sum()"
   ]
  },
  {
   "cell_type": "markdown",
   "metadata": {},
   "source": [
    "# 第六题"
   ]
  },
  {
   "cell_type": "code",
   "execution_count": null,
   "metadata": {},
   "outputs": [],
   "source": [
    "list=[]\n",
    "listLen = int(input())\n",
    "for i in range(listLen):\n",
    "    ob = int(input())\n",
    "    lis.append(ob)\n",
    "    \n",
    "for i in range(listLen):\n",
    "    "
   ]
  }
 ],
 "metadata": {
  "kernelspec": {
   "display_name": "Python 3",
   "language": "python",
   "name": "python3"
  },
  "language_info": {
   "codemirror_mode": {
    "name": "ipython",
    "version": 3
   },
   "file_extension": ".py",
   "mimetype": "text/x-python",
   "name": "python",
   "nbconvert_exporter": "python",
   "pygments_lexer": "ipython3",
   "version": "3.6.3"
  }
 },
 "nbformat": 4,
 "nbformat_minor": 2
}
