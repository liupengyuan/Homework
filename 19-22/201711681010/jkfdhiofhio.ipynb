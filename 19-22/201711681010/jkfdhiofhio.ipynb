{
 "cells": [
  {
   "cell_type": "code",
   "execution_count": 4,
   "metadata": {
    "collapsed": false
   },
   "outputs": [
    {
     "name": "stdout",
     "output_type": "stream",
     "text": [
      "请输入一个整数6\n",
      "请输入一个整数3\n",
      "请输入一个整数8\n",
      "41046\n"
     ]
    }
   ],
   "source": [
    "#练习 1：仿照求$ \\sum_{i=1}^mi + \\sum_{i=1}^ni + \\sum_{i=1}^ki$的完整代码，写程序，可求m!+n!+k!\n",
    "def my_mul(n):\n",
    "    i = 0\n",
    "    total_n = 1\n",
    "    while i < n:\n",
    "        i = i + 1\n",
    "        total_n = total_n * i\n",
    "    return total_n\n",
    "\n",
    "m = int(input('请输入一个整数'))\n",
    "n = int(input('请输入一个整数'))\n",
    "k = int(input('请输入一个整数'))\n",
    "\n",
    "print(my_mul(m)+my_mul(n)+my_mul(k))"
   ]
  },
  {
   "cell_type": "code",
   "execution_count": 14,
   "metadata": {
    "collapsed": false
   },
   "outputs": [
    {
     "name": "stdout",
     "output_type": "stream",
     "text": [
      "请输入一个整数4\n",
      "0.7238095238095239\n",
      "0.7851481634599485\n",
      "0.7853956633974299\n",
      "2.8952380952380956\n"
     ]
    }
   ],
   "source": [
    "#练习 2：写函数可返回1 - 1/3 + 1/5 - 1/7...的前n项的和。在主程序中，分别令n=1000及100000，打印4倍该函数的和。\n",
    "def my_cou(n):\n",
    "    i = 0\n",
    "    total_n = 0\n",
    "    while i < n:\n",
    "        i = i + 1\n",
    "        a = (-1)**(i+1)\n",
    "        b = 1/(2*i-1)\n",
    "        total_n = total_n + a*b\n",
    "    return total_n\n",
    "\n",
    "n = int(input('请输入一个整数'))\n",
    "print(my_cou(n))\n",
    "print(my_cou(1000))\n",
    "print(my_cou(100000))\n",
    "print(my_cou(n)*4)"
   ]
  },
  {
   "cell_type": "code",
   "execution_count": null,
   "metadata": {
    "collapsed": true
   },
   "outputs": [],
   "source": [
    "#练习 3：将task3中的练习1及练习4改写为函数，并进行调用。\n"
   ]
  }
 ],
 "metadata": {
  "kernelspec": {
   "display_name": "Python 3",
   "language": "python",
   "name": "python3"
  },
  "language_info": {
   "codemirror_mode": {
    "name": "ipython",
    "version": 3
   },
   "file_extension": ".py",
   "mimetype": "text/x-python",
   "name": "python",
   "nbconvert_exporter": "python",
   "pygments_lexer": "ipython3",
   "version": "3.6.0"
  }
 },
 "nbformat": 4,
 "nbformat_minor": 2
}
