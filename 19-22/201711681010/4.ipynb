{
 "cells": [
  {
   "cell_type": "markdown",
   "metadata": {},
   "source": [
    "# •练习 1：仿照求$ \\sum_{i=1}^mi + \\sum_{i=1}^ni + \\sum_{i=1}^ki$的完整代码，写程序，可求m!+n!+k!"
   ]
  },
  {
   "cell_type": "code",
   "execution_count": 2,
   "metadata": {},
   "outputs": [
    {
     "name": "stdout",
     "output_type": "stream",
     "text": [
      "请输入一个整数8\n",
      "请输入一个整数4\n",
      "请输入一个整数2\n",
      "40346\n"
     ]
    }
   ],
   "source": [
    "def my_mul(n):\n",
    "    i = 0\n",
    "    total_n = 1\n",
    "    while i < n:\n",
    "        i = i + 1\n",
    "        total_n = total_n * i\n",
    "    return total_n\n",
    "\n",
    "m = int(input('请输入一个整数'))\n",
    "n = int(input('请输入一个整数'))\n",
    "k = int(input('请输入一个整数'))\n",
    "\n",
    "print(my_mul(m)+my_mul(n)+my_mul(k))\n"
   ]
  },
  {
   "cell_type": "markdown",
   "metadata": {},
   "source": [
    "# •练习 2：写函数可返回1 - 1/3 + 1/5 - 1/7...的前n项的和。在主程序中，分别令n=1000及100000，打印4倍该函数的和。"
   ]
  },
  {
   "cell_type": "code",
   "execution_count": 4,
   "metadata": {},
   "outputs": [
    {
     "name": "stdout",
     "output_type": "stream",
     "text": [
      "3.140592653839794\n",
      "3.1415826535897198\n"
     ]
    }
   ],
   "source": [
    "def my_cou(n):\n",
    "    i = 0\n",
    "    total_n = 0\n",
    "    while i < n:\n",
    "        i = i + 1\n",
    "        a = (-1)**(i+1)\n",
    "        b = 1/(2*i-1)\n",
    "        total_n = total_n + a*b\n",
    "    return 4*total_n\n",
    "\n",
    "#主程序\n",
    "print(my_cou(1000))\n",
    "print(my_cou(100000))"
   ]
  },
  {
   "cell_type": "markdown",
   "metadata": {},
   "source": [
    "# •练习 3：将task3中的练习1及练习4改写为函数，并进行调用。"
   ]
  },
  {
   "cell_type": "markdown",
   "metadata": {},
   "source": [
    "## •练习 1：写程序，可由键盘读入用户姓名例如 Mr. right ，# 让用户输入出生的月份与日期，判断用户星座，假设用户是金牛座，则输出， Mr. right，你是非常有性格的金牛座！ 。"
   ]
  },
  {
   "cell_type": "code",
   "execution_count": 26,
   "metadata": {},
   "outputs": [
    {
     "name": "stdout",
     "output_type": "stream",
     "text": [
      "请输入你的姓名，以回车结束。ww\n",
      "请输入你的出生月份，以回车结束4\n",
      "请输入你的出生日期，以回车结束11\n",
      "ww,你是非常有性格的白羊座!\n",
      "None\n"
     ]
    }
   ],
   "source": [
    "def you_con(name,a,c):\n",
    "    print(name,c,sep = '')\n",
    "     \n",
    "def fei_fa(hh):\n",
    "    return hh\n",
    "\n",
    "name = input('请输入你的姓名，以回车结束。')\n",
    "birthmonth = input('请输入你的出生月份，以回车结束')\n",
    "birthday = input('请输入你的出生日期，以回车结束')\n",
    "a = int(birthmonth+birthday)\n",
    "\n",
    "if 321<=a>=331 and 401<=a<=419:\n",
    "    c = ',你是非常有性格的白羊座!'\n",
    "    print(you_con(name,a,c))\n",
    "    \n",
    "elif 420<=a<=430 and 501<=a<=520:\n",
    "    c= ',你是非常有性格的金牛座!'\n",
    "    print(you_con(name,a,c))\n",
    "    \n",
    "elif 521<=a<=531 and 601<=a<=621:\n",
    "    c= ',你是非常有性格的双子座!'\n",
    "    print(you_con(name,a,c))\n",
    "    \n",
    "elif 601<=a<=630 and a<=722:\n",
    "    c= ',你是非常有性格的巨蟹座!'\n",
    "    print(you_con(name,a,c))\n",
    "    \n",
    "elif a>=723 and a<=822:\n",
    "    c= ',你是非常有性格的狮子座!'\n",
    "    print(you_con(name,a,c))\n",
    "    \n",
    "elif a>=823 and a<=922:\n",
    "    c= ',你是非常有性格的处女座'\n",
    "    print(you_con(name,a,c))\n",
    "    \n",
    "elif a>=923 and a<=1023:\n",
    "    c= ',你是非常有性格的天枰座!'\n",
    "    print(you_con(name,a,c))\n",
    "    \n",
    "elif a>=1024 and a<=1122:\n",
    "    c= ',你是非常有性格的天蝎座'\n",
    "    print(you_con(name,a,c))\n",
    "    \n",
    "elif a>=1123 and a<=1221:\n",
    "    c= ',你是非常有性格的射手座'\n",
    "    print(you_con(name,a,c))\n",
    "    \n",
    "elif a>=1222 and a<=1231 or a>=101 and a<=119:\n",
    "    c= ',你是非常有性格的摩羯座'\n",
    "    print(you_con(name,a,c))\n",
    "    \n",
    "elif a>=120 and a<=218:\n",
    "    c= ',你是非常有性格的水瓶座!'\n",
    "    print(you_con(name,a,c))\n",
    "    \n",
    "elif a>=219 and a<=320:\n",
    "    c= ',你是非常有性格的双鱼座!'\n",
    "    print(you_con(name,a,c))\n",
    "else:\n",
    "    hh='非法输入'\n",
    "    print(fei_fa(hh))\n"
   ]
  },
  {
   "cell_type": "markdown",
   "metadata": {},
   "source": [
    "## •练习 4：英文单词单数转复数，要求输入一个英文动词（单数形式），能够得到其复数形式，或给出单数转复数形式的建议（提示，some_string.endswith(some_letter)函数可以判断某字符串结尾字符，可尝试运行： 'myname'.endswith('me') ， liupengyuan'.endswith('n') ）。"
   ]
  },
  {
   "cell_type": "code",
   "execution_count": 4,
   "metadata": {},
   "outputs": [
    {
     "name": "stdout",
     "output_type": "stream",
     "text": [
      "请输入一个英文单词sleep\n",
      "建议加s\n"
     ]
    }
   ],
   "source": [
    "def non_com(n):\n",
    "    if 'n'.endswith('s') or 'n'.endswith('sh') or 'n'.endswith('ch') or 'n'.endswith('z') or 'n'.endswith('x'):\n",
    "        return'建议加es'\n",
    "    elif 'n'.endswith('y'):\n",
    "        return'建议变y为i加es'\n",
    "    else :\n",
    "        return'建议加s'\n",
    "    \n",
    "n=str(input('请输入一个英文单词'))\n",
    "print(non_com(n))\n",
    "    "
   ]
  },
  {
   "cell_type": "markdown",
   "metadata": {},
   "source": [
    "# •挑战性练习：写程序，可以求从整数m到整数n累加的和，间隔为k，求和部分需用函数实现，主程序中由用户输入m，n，k调用函数验证正确性。"
   ]
  },
  {
   "cell_type": "code",
   "execution_count": 10,
   "metadata": {},
   "outputs": [
    {
     "name": "stdout",
     "output_type": "stream",
     "text": [
      "请输入一个整数9\n",
      "请输入一个整数3\n",
      "请输入一个整数1\n",
      "39\n"
     ]
    }
   ],
   "source": [
    "def my_mul(n,m):\n",
    "    i = m\n",
    "    total_n = 0\n",
    "    while i < n:\n",
    "        i = i + k\n",
    "        total_n = total_n + i\n",
    "    return total_n\n",
    "\n",
    "n = int(input('请输入一个整数'))\n",
    "m = int(input('请输入一个整数'))\n",
    "k = int(input('请输入一个整数'))\n",
    "\n",
    "if m>=n:\n",
    "    print('非法输入')\n",
    "elif (n-m)%k==0:\n",
    "    print(my_mul(n,m))\n",
    "else:\n",
    "    print('非法输入')"
   ]
  }
 ],
 "metadata": {
  "kernelspec": {
   "display_name": "Python 3",
   "language": "python",
   "name": "python3"
  },
  "language_info": {
   "codemirror_mode": {
    "name": "ipython",
    "version": 3
   },
   "file_extension": ".py",
   "mimetype": "text/x-python",
   "name": "python",
   "nbconvert_exporter": "python",
   "pygments_lexer": "ipython3",
   "version": "3.6.3"
  }
 },
 "nbformat": 4,
 "nbformat_minor": 2
}
