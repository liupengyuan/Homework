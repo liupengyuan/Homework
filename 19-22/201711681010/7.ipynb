{
 "cells": [
  {
   "cell_type": "markdown",
   "metadata": {},
   "source": [
    "# 练习一：自己定义一个reverse(s)函数，功能返回字符串s的倒序字符串。"
   ]
  },
  {
   "cell_type": "code",
   "execution_count": 4,
   "metadata": {},
   "outputs": [
    {
     "name": "stdout",
     "output_type": "stream",
     "text": [
      "esrever\n"
     ]
    }
   ],
   "source": [
    "def rev(s):\n",
    "    n = len(s)\n",
    "    print(s[n::-1])\n",
    "    return\n",
    "\n",
    "s = 'reverse'\n",
    "rev(s)"
   ]
  },
  {
   "cell_type": "markdown",
   "metadata": {},
   "source": [
    "# 练习二：写函数，根据给定符号和行数，打印相应直角三角形，等腰三角形及其他形式的三角形。"
   ]
  },
  {
   "cell_type": "code",
   "execution_count": 9,
   "metadata": {},
   "outputs": [
    {
     "name": "stdout",
     "output_type": "stream",
     "text": [
      "请输入数字6\n",
      "请输入字符6\n",
      "------------------------------\n",
      "6\n",
      "66\n",
      "666\n",
      "6666\n",
      "66666\n",
      "666666\n",
      "------------------------------\n",
      "     6\n",
      "    66\n",
      "   666\n",
      "  6666\n",
      " 66666\n",
      "666666\n",
      "------------------------------\n",
      "     6\n",
      "    666\n",
      "   66666\n",
      "  6666666\n",
      " 666666666\n",
      "66666666666\n",
      "------------------------------\n",
      "6\n",
      "  66\n",
      "    666\n",
      "      6666\n",
      "        66666\n",
      "          666666\n"
     ]
    }
   ],
   "source": [
    "def rig_tri1():\n",
    "    line = a * n\n",
    "    for i in range(1, n+1):\n",
    "        for j in range(1,i+1):\n",
    "            print(line[0], end='')\n",
    "        print()\n",
    "    return\n",
    "\n",
    "def rig_tri2():\n",
    "    line = a * n\n",
    "    for i in range(1, n+1):\n",
    "        print((n-i)*' ' + line[0]*i, end='')\n",
    "        print()\n",
    "    return\n",
    "\n",
    "def iso_tri():\n",
    "    line = a * n\n",
    "    for i in range(1, n+1):\n",
    "        print((n-i)*' ' + line[0]*(i*2-1), end='')\n",
    "        print()\n",
    "    return\n",
    "\n",
    "def oth_tri():\n",
    "    line = a * n\n",
    "    for i in range(1,n+1):\n",
    "        print((2*i-2)*' '+line[0]*i,end = '')\n",
    "        print()\n",
    "    return\n",
    "    \n",
    "   \n",
    "n = int(input('请输入数字'))\n",
    "a = input('请输入字符')\n",
    "print('-'*30)\n",
    "rig_tri1()\n",
    "print('-'*30)\n",
    "rig_tri2()\n",
    "print('-'*30)\n",
    "iso_tri()\n",
    "print('-'*30)\n",
    "oth_tri()"
   ]
  },
  {
   "cell_type": "markdown",
   "metadata": {},
   "source": [
    "# 练习五：写函数，根据给定符号，打印各种菱形。"
   ]
  },
  {
   "cell_type": "code",
   "execution_count": 6,
   "metadata": {},
   "outputs": [
    {
     "name": "stdout",
     "output_type": "stream",
     "text": [
      "请输入数字4\n",
      "请输入字符4\n",
      "   4\n",
      "  444\n",
      " 44444\n",
      "4444444\n",
      " 44444\n",
      "  444\n",
      "   4\n",
      "    \n"
     ]
    }
   ],
   "source": [
    "def dia():\n",
    "    line = a * n\n",
    "    for i in range(1, n+1):\n",
    "        print((n-i)*' ' + line[0]*(i*2-1), end='')\n",
    "        print()\n",
    "    for i in range(1, n+1):\n",
    "        print(i*' ' + line[0]*((n-i)*2-1), end='')\n",
    "        print()\n",
    "    return\n",
    "\n",
    "n = int(input('请输入数字'))\n",
    "a = input('请输入字符')\n",
    "dia()"
   ]
  }
 ],
 "metadata": {
  "kernelspec": {
   "display_name": "Python 3",
   "language": "python",
   "name": "python3"
  },
  "language_info": {
   "codemirror_mode": {
    "name": "ipython",
    "version": 3
   },
   "file_extension": ".py",
   "mimetype": "text/x-python",
   "name": "python",
   "nbconvert_exporter": "python",
   "pygments_lexer": "ipython3",
   "version": "3.6.3"
  }
 },
 "nbformat": 4,
 "nbformat_minor": 2
}
