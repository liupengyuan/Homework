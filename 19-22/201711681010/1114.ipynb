{
 "cells": [
  {
   "cell_type": "code",
   "execution_count": 1,
   "metadata": {},
   "outputs": [
    {
     "data": {
      "text/plain": [
       "(899, -10, 1.0)"
      ]
     },
     "execution_count": 1,
     "metadata": {},
     "output_type": "execute_result"
    }
   ],
   "source": [
    "def max_min_sum():\n",
    "    a=number[0]\n",
    "    b=number[0]\n",
    "    n=len(number)\n",
    "    total=0\n",
    "    for i in number:\n",
    "        total+=1\n",
    "        c=total/n\n",
    "        \n",
    "    for i in number:\n",
    "        if a<i:\n",
    "            a=i\n",
    "            \n",
    "    for i in number:\n",
    "        if b>i:\n",
    "            b=i\n",
    "    return a,b,c\n",
    "\n",
    "number=[1,2,-1,55,100,899,-10,3,12.5,5.8]\n",
    "max_min_sum()"
   ]
  },
  {
   "cell_type": "code",
   "execution_count": null,
   "metadata": {},
   "outputs": [],
   "source": []
  }
 ],
 "metadata": {
  "kernelspec": {
   "display_name": "Python 3",
   "language": "python",
   "name": "python3"
  },
  "language_info": {
   "codemirror_mode": {
    "name": "ipython",
    "version": 3
   },
   "file_extension": ".py",
   "mimetype": "text/x-python",
   "name": "python",
   "nbconvert_exporter": "python",
   "pygments_lexer": "ipython3",
   "version": "3.6.3"
  }
 },
 "nbformat": 4,
 "nbformat_minor": 2
}
