{
 "cells": [
  {
   "cell_type": "markdown",
   "metadata": {},
   "source": [
    "# •练习 1：写程序，可由键盘读入用户姓名例如 Mr. right ，# 让用户输入出生的月份与日期，判断用户星座，假设用户是金牛座，则输出， Mr. right，你是非常有性格的金牛座！ 。"
   ]
  },
  {
   "cell_type": "code",
   "execution_count": 1,
   "metadata": {},
   "outputs": [
    {
     "name": "stdout",
     "output_type": "stream",
     "text": [
      "请输入你的姓名，以回车结束。刘雅萱\n",
      "请输入你的出生月份，以回车结束10\n",
      "请输入你的出生日期，以回车结束19\n",
      "刘雅萱 ,你是非常有性格的天枰座！\n"
     ]
    }
   ],
   "source": [
    "name = input('请输入你的姓名，以回车结束。')\n",
    "birthmonth = input('请输入你的出生月份，以回车结束')\n",
    "birthday = input('请输入你的出生日期，以回车结束')\n",
    "a = int(birthmonth+birthday)\n",
    "\n",
    "if a>=321 and a<=419:\n",
    "    print(name,'你是非常有性格的白羊座！',sep = ' ,')\n",
    "    \n",
    "if a>=420 and a<=520:\n",
    "    print(name,'你是非常有性格的金牛座！',sep = ' ,')   \n",
    "    \n",
    "if a>=521 and a<=621:\n",
    "    print(name,'你是非常有性格的双子座！',sep = ' ,')\n",
    "    \n",
    "if a>=622 and a<=722:\n",
    "    print(name,'你是非常有性格的巨蟹座！',sep = ' ,')\n",
    "    \n",
    "if a>=723 and a<=822:\n",
    "    print(name,'你是非常有性格的狮子座！',sep = ' ,')\n",
    "    \n",
    "if a>=823 and a<=922:\n",
    "    print(name,'你是非常有性格的处女座！',sep = ' ,')\n",
    "    \n",
    "if a>=923 and a<=1023:\n",
    "    print(name,'你是非常有性格的天枰座！',sep = ' ,')\n",
    "    \n",
    "if a>=1024 and a<=1122:\n",
    "    print(name,'你是非常有性格的天蝎座！',sep = ' ,')\n",
    "    \n",
    "if a>=1123 and a<=1221:\n",
    "    print(name,'你是非常有性格的射手座！',sep = ' ,')\n",
    "    \n",
    "if a>=1222 or a<=119:\n",
    "    print(name,'你是非常有性格的摩羯座！',sep = ' ,')\n",
    "    \n",
    "if a>=120 and a<=218:\n",
    "    print(name,'你是非常有性格的水瓶座！',sep = ' ,')\n",
    "    \n",
    "if a>=219 and a<=320:\n",
    "    print(name,'你是非常有性格的双鱼座！',sep = ' ,')\n"
   ]
  },
  {
   "cell_type": "markdown",
   "metadata": {},
   "source": [
    "# •练习 2：写程序，可由键盘读入两个整数m与n(n不等于0)，询问用户意图，如果要求和则计算从m到n的和输出，如果要乘积则计算从m到n的积并输出，如果要求余数则计算m除以n的余数的值并输出，否则则计算m整除n的值并输出。"
   ]
  },
  {
   "cell_type": "code",
   "execution_count": 29,
   "metadata": {},
   "outputs": [
    {
     "name": "stdout",
     "output_type": "stream",
     "text": [
      "请输入一个整，以回车结束5\n",
      "请输入一个非零整数，以回车结束3\n",
      "1为求和 2为求积 3为求余\n",
      "请输入您的意图3\n",
      "2\n"
     ]
    }
   ],
   "source": [
    "m = int(input('请输入一个整，以回车结束'))\n",
    "n = int(input('请输入一个非零整数，以回车结束'))\n",
    "print('1为求和 2为求积 3为求余')\n",
    "i = int(input('请输入您的意图'))\n",
    "\n",
    "if i == 1:\n",
    "    print(m+n)\n",
    "elif i == 2:\n",
    "    print(m*n)\n",
    "elif i == 3:\n",
    "    print(m%n)\n",
    "else:\n",
    "    print(m//n)"
   ]
  },
  {
   "cell_type": "markdown",
   "metadata": {},
   "source": [
    "# •练习 4：英文单词单数转复数，要求输入一个英文动词（单数形式），能够得到其复数形式，或给出单数转复数形式的建议（提示，some_string.endswith(some_letter)函数可以判断某字符串结尾字符，可尝试运行： 'myname'.endswith('me') ， liupengyuan'.endswith('n') ）。"
   ]
  },
  {
   "cell_type": "code",
   "execution_count": 1,
   "metadata": {},
   "outputs": [
    {
     "name": "stdout",
     "output_type": "stream",
     "text": [
      "请输入一个英文单词sheep\n",
      "sheeps\n"
     ]
    }
   ],
   "source": [
    "n=str(input('请输入一个英文单词'))\n",
    "\n",
    "if 'n'.endswith('s') or 'n'.endswith('sh') or 'n'.endswith('ch') or 'n'.endswith('z') or 'n'.endswith('x'):\n",
    "    print(n,'es',sep='')\n",
    "else :\n",
    "    print(n,'s',sep='')\n",
    "    "
   ]
  },
  {
   "cell_type": "markdown",
   "metadata": {},
   "source": [
    "# •尝试性练习：写程序，能够在屏幕上显示空行。"
   ]
  },
  {
   "cell_type": "code",
   "execution_count": 2,
   "metadata": {},
   "outputs": [
    {
     "name": "stdout",
     "output_type": "stream",
     "text": [
      "\n"
     ]
    }
   ],
   "source": [
    "print('')"
   ]
  },
  {
   "cell_type": "markdown",
   "metadata": {},
   "source": [
    "# •挑战性练习：写程序，由用户输入一些整数，能够得到几个整数中的次大值(第二大的值)并输出。"
   ]
  },
  {
   "cell_type": "code",
   "execution_count": null,
   "metadata": {},
   "outputs": [],
   "source": []
  }
 ],
 "metadata": {
  "kernelspec": {
   "display_name": "Python 3",
   "language": "python",
   "name": "python3"
  },
  "language_info": {
   "codemirror_mode": {
    "name": "ipython",
    "version": 3
   },
   "file_extension": ".py",
   "mimetype": "text/x-python",
   "name": "python",
   "nbconvert_exporter": "python",
   "pygments_lexer": "ipython3",
   "version": "3.6.3"
  }
 },
 "nbformat": 4,
 "nbformat_minor": 2
}
