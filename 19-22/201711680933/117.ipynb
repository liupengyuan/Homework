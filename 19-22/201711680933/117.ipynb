{
 "cells": [
  {
   "cell_type": "code",
   "execution_count": 12,
   "metadata": {
    "scrolled": true
   },
   "outputs": [
    {
     "name": "stdout",
     "output_type": "stream",
     "text": [
      "请输入一个较小整数10\n",
      "请输入一个较大整数500\n",
      "请输入一个整数5\n",
      "38.948684188300895\n"
     ]
    }
   ],
   "source": [
    "import random\n",
    "\n",
    "def test():\n",
    "    n = int(input('请输入一个较小整数'))\n",
    "    k = int(input('请输入一个较大整数'))\n",
    "    m = int(input('请输入一个整数'))\n",
    "    i=1\n",
    "    total=0\n",
    "    while i<=m:\n",
    "        number = random.randint(n, k)\n",
    "        i=i+1\n",
    "        total=total+number\n",
    "        t=total**0.5\n",
    "    print(t)\n",
    "\n",
    "test()"
   ]
  },
  {
   "cell_type": "code",
   "execution_count": null,
   "metadata": {
    "collapsed": true
   },
   "outputs": [],
   "source": []
  },
  {
   "cell_type": "code",
   "execution_count": null,
   "metadata": {
    "collapsed": true
   },
   "outputs": [],
   "source": []
  }
 ],
 "metadata": {
  "kernelspec": {
   "display_name": "Python 3",
   "language": "python",
   "name": "python3"
  },
  "language_info": {
   "codemirror_mode": {
    "name": "ipython",
    "version": 3
   },
   "file_extension": ".py",
   "mimetype": "text/x-python",
   "name": "python",
   "nbconvert_exporter": "python",
   "pygments_lexer": "ipython3",
   "version": "3.6.2"
  }
 },
 "nbformat": 4,
 "nbformat_minor": 2
}
