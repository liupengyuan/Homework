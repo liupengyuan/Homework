{
 "cells": [
  {
   "cell_type": "code",
   "execution_count": 1,
   "metadata": {},
   "outputs": [
    {
     "name": "stdout",
     "output_type": "stream",
     "text": [
      "请输入第1个整数，以回车结束12\n",
      "请输入第2个整数，以回车结束3\n",
      "请输入第3个整数，以回车结束6\n",
      "最终的和是： 105\n"
     ]
    }
   ],
   "source": [
    "#练习 1：仿照求$ \\sum_{i=1}^mi + \\sum_{i=1}^ni  + \\sum_{i=1}^ki$的完整代码，写程序，可求m!+n!+k!\n",
    "m= int(input('请输入第1个整数，以回车结束'))\n",
    "n= int(input('请输入第2个整数，以回车结束'))\n",
    "k = int(input('请输入第3个整数，以回车结束'))\n",
    "def compute_sum(m):\n",
    "    i=0\n",
    "    total_m=0\n",
    "    while i < m:\n",
    "        i = i + 1\n",
    "        total_m = total_m + i\n",
    "    return total_m\n",
    "\n",
    "def compute_sum(n):\n",
    "    i=0\n",
    "    total_n=0\n",
    "    while i < n:\n",
    "        i = i + 1\n",
    "        total_n = total_n + i\n",
    "    return total_n\n",
    "\n",
    "def compute_sum(k):\n",
    "    i=0\n",
    "    total_k=0\n",
    "    while i < k:\n",
    "        i = i + 1\n",
    "        total_k = total_k + i\n",
    "    return total_k\n",
    "\n",
    "print('最终的和是：', compute_sum(m) + compute_sum(n) + compute_sum(k))"
   ]
  },
  {
   "cell_type": "code",
   "execution_count": 2,
   "metadata": {},
   "outputs": [
    {
     "name": "stdout",
     "output_type": "stream",
     "text": [
      "3.140592653839794\n",
      "3.1415826535897198\n"
     ]
    }
   ],
   "source": [
    "#练习 2：写函数可返回1 - 1/3 + 1/5 - 1/7...的前n项的和。在主程序中，分别令n=1000及100000，打印4倍该函数的和。\n",
    "def compute_sum(n):\n",
    "    i=0\n",
    "    total=0\n",
    "    x=1\n",
    "    while i<n:\n",
    "        i=i+1\n",
    "        x=1/(2*i-1)*(-1)**(i+1)\n",
    "        total=total+x\n",
    "    return total\n",
    "print(4*compute_sum(1000))\n",
    "print(4*compute_sum(100000))"
   ]
  },
  {
   "cell_type": "code",
   "execution_count": 3,
   "metadata": {},
   "outputs": [
    {
     "name": "stdout",
     "output_type": "stream",
     "text": [
      "请输入你的姓名王蕾蕾\n",
      "请输入你的出生月份，回车结束。4\n",
      "请输入你的出生日期，回车结束。23\n",
      "王蕾蕾 你是非常有性格的金牛座！\n"
     ]
    }
   ],
   "source": [
    "#练习 3(1)：将task3中的练习1改写为函数，并进行调用。\n",
    "name=input('请输入你的姓名')\n",
    "m=int(input('请输入你的出生月份，回车结束。'))\n",
    "n=int(input('请输入你的出生日期，回车结束。'))\n",
    "def f(m,n):\n",
    "    if (m==3 and 20<n<32) or (m==4 and 0<n<20):\n",
    "        return('你是非常有性格的白羊座！')\n",
    "    elif (m==4 and 19<n<31) or (m==5 and 0<n<21):\n",
    "        return('你是非常有性格的金牛座！')\n",
    "    elif (m==5 and 20<n<32) or (m==6 and 0<n<22):\n",
    "        return('你是非常有性格的双子座！')\n",
    "    elif (m==6 and 21<n<31) or (m==7 and 0<n<23): \n",
    "        return('你是非常有性格的巨蟹座！')\n",
    "    elif (m==7 and 22<n<32) or (m==8 and 0<n<23):\n",
    "        return('你是非常有性格的狮子座！')\n",
    "    elif (m==8 and 22<n<32) or (m==9 and 0<n<23):\n",
    "        return('你是非常有性格的处女座！')\n",
    "    elif (m==9 and 22<n<31) or (m==10 and 0<n<24):\n",
    "        return('你是非常有性格的天枰座！')\n",
    "    elif (m==10 and 23<n<32) or (m==11 and 0<n<25):\n",
    "        return('你是非常有性格的天蝎座！')\n",
    "    elif (m==11 and 24<n<31) or (m==12 and 0<n<22):\n",
    "        return('你是非常有性格的射手座！')\n",
    "    elif (m==12 and 21<n<32) or (m==1 and 0<n<20):\n",
    "        return('你是非常有性格的摩羯座！')\n",
    "    elif (m==1 and 19<n<32) or (m==2 and 0<n<19):\n",
    "        return('你是非常有性格的水瓶座！')\n",
    "    elif (m==2 and 18<n<31) or (m==3 and 0<n<21):\n",
    "        return('你是非常有性格的双鱼座！')\n",
    "    else:\n",
    "        return('输入非法！')\n",
    "        \n",
    "print(name,f(m,n))"
   ]
  },
  {
   "cell_type": "code",
   "execution_count": 4,
   "metadata": {},
   "outputs": [
    {
     "name": "stdout",
     "output_type": "stream",
     "text": [
      "请输入一个英语名词，以回车结束。girl\n",
      "请输入这个英文单词中末尾的字母或字母组合l\n",
      "该名词变为复数时直接加s\n"
     ]
    }
   ],
   "source": [
    "#练习 3(2)：将task3中的练习4改写为函数，并进行调用。\n",
    "noun=input('请输入一个英语名词，以回车结束。')\n",
    "n=input('请输入这个英文单词中末尾的字母或字母组合')\n",
    "def endwith(n):\n",
    "    if n==('s'):\n",
    "        return('该名词变为复数时直接在末尾加es')\n",
    "    elif n==('x'):\n",
    "        return('该名词变为复数时直接在末尾加es')\n",
    "    elif n==('z'):\n",
    "        return('该名词变为复数时直接在末尾加es')\n",
    "    elif n==('sh'):\n",
    "        return('该名词变为复数时直接在末尾加es')\n",
    "    elif n==('ch'):\n",
    "        return('该名词变为复数时直接在末尾加es')\n",
    "    elif n==('y'):\n",
    "        return('该名词变为复数时大多把y变为ies')\n",
    "    elif n==('o'):\n",
    "        return('该名词变为复数时大多直接在末尾加es')\n",
    "    elif n==('f'):\n",
    "        return('该名词变为复数时大多把f变为ves')\n",
    "    elif n==('fe'):\n",
    "        return('该名词变为复数时大多把f变为ves')\n",
    "    else:\n",
    "        return('该名词变为复数时直接加s')\n",
    "    \n",
    "print(endwith(n))"
   ]
  },
  {
   "cell_type": "code",
   "execution_count": 7,
   "metadata": {},
   "outputs": [
    {
     "name": "stdout",
     "output_type": "stream",
     "text": [
      "请输入此次求和中的首项数字，回车结束。3\n",
      "请输入此次求和中的公差，回车结束。9\n",
      "请输入此次求和中的末项数字，回车结束。12\n",
      "48\n"
     ]
    }
   ],
   "source": [
    "#挑战性练习：写程序，可以求从整数m到整数n累加的和，间隔为k，求和部分需用函数实现，主程序中由用户输入m，n，k调用函数验证正确性。\n",
    "m=int(input('请输入此次求和中的首项数字，回车结束。'))\n",
    "k=int(input('请输入此次求和中的公差，回车结束。'))\n",
    "n=int(input('请输入此次求和中的末项数字，回车结束。'))\n",
    "\n",
    "def compute_sum(x):\n",
    "    i=0\n",
    "    x=m\n",
    "    total=m\n",
    "    while i<=(n-m)/k:\n",
    "        i=i+1\n",
    "        x=i*k+m\n",
    "        total=total+x\n",
    "        if (n-m)/k//i==0:\n",
    "            total=total\n",
    "        else:\n",
    "            total=total+n\n",
    "    return total\n",
    "\n",
    "print(compute_sum(m))"
   ]
  },
  {
   "cell_type": "code",
   "execution_count": null,
   "metadata": {
    "collapsed": true
   },
   "outputs": [],
   "source": []
  }
 ],
 "metadata": {
  "kernelspec": {
   "display_name": "Python 3",
   "language": "python",
   "name": "python3"
  },
  "language_info": {
   "codemirror_mode": {
    "name": "ipython",
    "version": 3
   },
   "file_extension": ".py",
   "mimetype": "text/x-python",
   "name": "python",
   "nbconvert_exporter": "python",
   "pygments_lexer": "ipython3",
   "version": "3.6.2"
  }
 },
 "nbformat": 4,
 "nbformat_minor": 2
}
