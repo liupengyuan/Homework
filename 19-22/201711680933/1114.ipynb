{
 "cells": [
  {
   "cell_type": "code",
   "execution_count": 1,
   "metadata": {},
   "outputs": [
    {
     "name": "stdout",
     "output_type": "stream",
     "text": [
      "最大值是 899\n",
      "最小值是 -10\n",
      "平均值是 106.72999999999999\n"
     ]
    }
   ],
   "source": [
    "#写函数，返回一个list中的最大值，最小值，平均值。（不用内置的求和求函数），以[1,2,-1,55,100,899,-10,3,12.5,5.8]为例。\n",
    "numbers=[1,2,-1,55,100,899,-10,3,12.5,5.8]\n",
    "def bnu(numbers):\n",
    "    i=0\n",
    "    total=0\n",
    "    max_bnu=numbers[i]\n",
    "    min_bnu=numbers[i]\n",
    "    while i<=9:\n",
    "        total=total+numbers[i]\n",
    "        if numbers[i]>max_bnu:\n",
    "            max_bnu=numbers[i]\n",
    "        elif numbers[i]<min_bnu:\n",
    "            min_bnu=numbers[i]\n",
    "        i=i+1\n",
    "    k=total/10\n",
    "    print ('最大值是',max_bnu)\n",
    "    print ('最小值是',min_bnu)\n",
    "    print ('平均值是',k)\n",
    "        \n",
    "bnu(numbers)"
   ]
  },
  {
   "cell_type": "code",
   "execution_count": null,
   "metadata": {
    "collapsed": true
   },
   "outputs": [],
   "source": []
  }
 ],
 "metadata": {
  "kernelspec": {
   "display_name": "Python 3",
   "language": "python",
   "name": "python3"
  },
  "language_info": {
   "codemirror_mode": {
    "name": "ipython",
    "version": 3
   },
   "file_extension": ".py",
   "mimetype": "text/x-python",
   "name": "python",
   "nbconvert_exporter": "python",
   "pygments_lexer": "ipython3",
   "version": "3.6.2"
  }
 },
 "nbformat": 4,
 "nbformat_minor": 2
}
