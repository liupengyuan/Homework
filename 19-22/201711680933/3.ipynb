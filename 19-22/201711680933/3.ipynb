{
 "cells": [
  {
   "cell_type": "code",
   "execution_count": 3,
   "metadata": {},
   "outputs": [
    {
     "name": "stdout",
     "output_type": "stream",
     "text": [
      "请输入你的姓名Mr. Right\n",
      "请用整数表示输入你的出生月份和日期423\n",
      "Mr. Right ，你是非常有性格的金牛座！\n"
     ]
    }
   ],
   "source": [
    "name=input('请输入你的姓名')\n",
    "n=int(input('请用整数表示输入你的出生月份和日期'))\n",
    "if n >320 and n<420:\n",
    "    print('白羊座')\n",
    "elif n<521 and n>419:\n",
    "    print(name,'，你是非常有性格的金牛座！')\n",
    "elif n<622 and n>520:\n",
    "    print('双子座')\n",
    "elif 723 and n>621:\n",
    "    print('巨蟹座')\n",
    "elif n<823 and n>722:\n",
    "    print('狮子座')\n",
    "elif n<923 and n>822:\n",
    "    print('处女座')\n",
    "elif n<1024 and n>922:\n",
    "    print('天枰座')\n",
    "elif n<1125 and n>1023:\n",
    "    print('天蝎座')\n",
    "elif n<1222 and n>1022:\n",
    "    print('射手座')\n",
    "elif n<1232 and n>1221:\n",
    "    print('摩羯座')\n",
    "elif n<120 and n>100:\n",
    "    print('摩羯座')\n",
    "elif n<219 and n>119:\n",
    "    print('水瓶座')\n",
    "elif n<321 and n>218:\n",
    "    print('双鱼座')"
   ]
  },
  {
   "cell_type": "code",
   "execution_count": 4,
   "metadata": {},
   "outputs": [
    {
     "name": "stdout",
     "output_type": "stream",
     "text": [
      "请输入一个整数12\n",
      "请输入一个不为零的整数3\n",
      "若要求和，输入1;若求乘积，输入2；若要求余，输入3；其他要求，输入43\n",
      "0\n"
     ]
    }
   ],
   "source": [
    "m=int(input('请输入一个整数'))\n",
    "n=int(input('请输入一个不为零的整数'))\n",
    "z=int(input('若要求和，输入1;若求乘积，输入2；若要求余，输入3；其他要求，输入4'))\n",
    "if z==1:\n",
    "    sum=m+n\n",
    "    print(sum)\n",
    "elif z==2:\n",
    "    u=m*n\n",
    "    print(u)\n",
    "elif z==3:\n",
    "    k=m%n\n",
    "    print(k)\n",
    "elif z==4:\n",
    "    i=m//n\n",
    "    print(i)"
   ]
  },
  {
   "cell_type": "code",
   "execution_count": 11,
   "metadata": {},
   "outputs": [
    {
     "name": "stdout",
     "output_type": "stream",
     "text": [
      "请输入一个单词woman\n"
     ]
    },
    {
     "ename": "SyntaxError",
     "evalue": "'return' outside function (<ipython-input-11-e690caef0091>, line 3)",
     "output_type": "error",
     "traceback": [
      "\u001b[1;36m  File \u001b[1;32m\"<ipython-input-11-e690caef0091>\"\u001b[1;36m, line \u001b[1;32m3\u001b[0m\n\u001b[1;33m    return word[:-1] + 'ves'\u001b[0m\n\u001b[1;37m    ^\u001b[0m\n\u001b[1;31mSyntaxError\u001b[0m\u001b[1;31m:\u001b[0m 'return' outside function\n"
     ]
    }
   ],
   "source": [
    "word=input('请输入一个单词')\n",
    "if 'word'.endwith('f'):\n",
    "    return word[:-1] + 'ves'\n",
    "if 'word'.endwith('y'):\n",
    "    return word[:-1] + 'ies'\n",
    "if 'word'.endwith('an'):\n",
    "    return word[:-2] + 'en'"
   ]
  },
  {
   "cell_type": "code",
   "execution_count": 12,
   "metadata": {},
   "outputs": [
    {
     "name": "stdout",
     "output_type": "stream",
     "text": [
      "\n",
      "\n",
      "\n",
      "\n"
     ]
    }
   ],
   "source": [
    "print('\\n'*3)"
   ]
  },
  {
   "cell_type": "code",
   "execution_count": null,
   "metadata": {
    "collapsed": true
   },
   "outputs": [],
   "source": []
  }
 ],
 "metadata": {
  "kernelspec": {
   "display_name": "Python 3",
   "language": "python",
   "name": "python3"
  },
  "language_info": {
   "codemirror_mode": {
    "name": "ipython",
    "version": 3
   },
   "file_extension": ".py",
   "mimetype": "text/x-python",
   "name": "python",
   "nbconvert_exporter": "python",
   "pygments_lexer": "ipython3",
   "version": "3.6.2"
  }
 },
 "nbformat": 4,
 "nbformat_minor": 2
}
