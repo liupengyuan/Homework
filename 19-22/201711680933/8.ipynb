{
 "cells": [
  {
   "cell_type": "code",
   "execution_count": null,
   "metadata": {},
   "outputs": [
    {
     "name": "stdout",
     "output_type": "stream",
     "text": [
      "亲爱的用户，计算机给出的第一个成语是: 病入膏肓、\n",
      "请接龙写出你的成语盲人把烛\n"
     ]
    }
   ],
   "source": [
    "import random\n",
    "\n",
    "fh = open(r'c:\\temp\\idioms.txt')\n",
    "text = fh.read()\n",
    "fh.close()\n",
    "text = text.split()\n",
    "score1=0\n",
    "score2=0\n",
    "idiom = random.choice(text)\n",
    "print(\"亲爱的用户，计算机给出的第一个成语是:\",idiom)\n",
    "\n",
    "def ttttt(idiom,score1,score2):\n",
    "    fh = open(r'c:\\temp\\idioms.txt')\n",
    "    text = fh.read()\n",
    "    fh.close()\n",
    "    text = text.split()\n",
    "    while True:\n",
    "        x = input('请接龙写出你的成语')\n",
    "        if x[0] == idiom[3]:\n",
    "            if x in text:\n",
    "                score1 += 10\n",
    "                print(\"现在你现在的分数是:\",score1)\n",
    "                for i in text:\n",
    "                    if i[0] == x[3]:\n",
    "                        print(\"计算机给出的答案是\",i)\n",
    "                        score2 += 10\n",
    "                        idiom = i\n",
    "                        t = 0\n",
    "                        break\n",
    "                    else:\n",
    "                        t = 1\n",
    "                \n",
    "                if t == 1:\n",
    "                    print(\"恭喜你取得胜利，你的总得分是\",score1,\"计算机的总得分是\",score2)\n",
    "                    return\n",
    "            else:\n",
    "                print(\"很抱歉，你未能取得胜利，你的总得分是\",score1,\"计算机的总得分是\",score2)\n",
    "                return\n",
    "            \n",
    "ttttt(idiom,score1,score2)"
   ]
  },
  {
   "cell_type": "code",
   "execution_count": null,
   "metadata": {
    "collapsed": true
   },
   "outputs": [],
   "source": []
  }
 ],
 "metadata": {
  "kernelspec": {
   "display_name": "Python 3",
   "language": "python",
   "name": "python3"
  },
  "language_info": {
   "codemirror_mode": {
    "name": "ipython",
    "version": 3
   },
   "file_extension": ".py",
   "mimetype": "text/x-python",
   "name": "python",
   "nbconvert_exporter": "python",
   "pygments_lexer": "ipython3",
   "version": "3.6.2"
  }
 },
 "nbformat": 4,
 "nbformat_minor": 2
}
