{
 "cells": [
  {
   "cell_type": "code",
   "execution_count": 2,
   "metadata": {},
   "outputs": [
    {
     "name": "stdout",
     "output_type": "stream",
     "text": [
      "23456\n",
      "65432\n"
     ]
    }
   ],
   "source": [
    "#练习一自己定义一个reverse(s)函数，功能返回字符串s的倒序字符串。\n",
    "def reverse(s):\n",
    "    t=''\n",
    "    for x in range (len(s)):\n",
    "        t=t+s[len(s)-(x+1)]\n",
    "    print (t)\n",
    "s=str(input())\n",
    "reverse(s)"
   ]
  },
  {
   "cell_type": "code",
   "execution_count": 3,
   "metadata": {},
   "outputs": [
    {
     "name": "stdout",
     "output_type": "stream",
     "text": [
      "请问需要几行6\n",
      "输入符号*\n",
      "*\n",
      "**\n",
      "***\n",
      "****\n",
      "*****\n",
      "******\n"
     ]
    }
   ],
   "source": [
    "#练习二之写函数，根据给定符号和行数，打印相应直角三角形。\n",
    "n=int(input('请问需要几行'))\n",
    "x=str(input('输入符号'))\n",
    "def triangle(n,x):\n",
    "    for i in range(n):\n",
    "        print (x*(i+1))\n",
    "        \n",
    "triangle(n,x)"
   ]
  },
  {
   "cell_type": "code",
   "execution_count": 7,
   "metadata": {},
   "outputs": [
    {
     "name": "stdout",
     "output_type": "stream",
     "text": [
      "请问需要几行5\n",
      "输入符号*\n",
      "     *\n",
      "    ***\n",
      "   *****\n",
      "  *******\n",
      " *********\n"
     ]
    }
   ],
   "source": [
    "#练习二之写函数，根据给定符号和行数，打印相应等腰三角形。\n",
    "n=int(input('请问需要几行'))\n",
    "x=str(input('输入符号'))\n",
    "def triangle(n,x):\n",
    "    for i in range(n):\n",
    "        if i==0:\n",
    "            print ((n-i)*' '+x)\n",
    "        else:\n",
    "            print ((n-i)*' '+x*(i*2+1))\n",
    "        \n",
    "        \n",
    "triangle(n,x)"
   ]
  },
  {
   "cell_type": "code",
   "execution_count": 10,
   "metadata": {},
   "outputs": [
    {
     "name": "stdout",
     "output_type": "stream",
     "text": [
      "输入n值，满足行数公式2n+14\n",
      "输入符号*\n",
      "    *\n",
      "   ***\n",
      "  *****\n",
      " *******\n",
      "*********\n",
      " *******\n",
      "  *****\n",
      "   ***\n",
      "    *\n"
     ]
    }
   ],
   "source": [
    "#写函数，根据给定符号，打印菱形。\n",
    "n=int(input('输入n值，满足行数公式2n+1'))\n",
    "x=str(input('输入符号'))\n",
    "def lll(n,x):\n",
    "    for i in range(n):\n",
    "        print ((n-i)*' '+x*(i*2+1))\n",
    "    print(x*(2*n+1))\n",
    "    for t in range((n-1),-1,-1):\n",
    "        print ((n-t)*' '+x*(2*t+1))\n",
    "        \n",
    "lll(n,x)"
   ]
  },
  {
   "cell_type": "code",
   "execution_count": null,
   "metadata": {
    "collapsed": true
   },
   "outputs": [],
   "source": []
  }
 ],
 "metadata": {
  "kernelspec": {
   "display_name": "Python 3",
   "language": "python",
   "name": "python3"
  }
 },
 "nbformat": 4,
 "nbformat_minor": 2
}
