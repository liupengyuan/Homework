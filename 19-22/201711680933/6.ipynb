{
 "cells": [
  {
   "cell_type": "code",
   "execution_count": 8,
   "metadata": {},
   "outputs": [
    {
     "name": "stdout",
     "output_type": "stream",
     "text": [
      "<function tit at 0x0000000005513B70>\n",
      "请输入一个数字23\n"
     ]
    },
    {
     "data": {
      "text/plain": [
       "1"
      ]
     },
     "execution_count": 8,
     "metadata": {},
     "output_type": "execute_result"
    }
   ],
   "source": [
    "#写函数，返回某个元素/对象在一个list中的位置，如果不在，则返回-1\n",
    "def tit(list):\n",
    "    list=[7,23,4,9,19,11]\n",
    "    n=int(input('请输入一个数字'))\n",
    "    if n==7:\n",
    "        i=0\n",
    "    elif n==23:\n",
    "        i=1\n",
    "    elif n==4:\n",
    "        i=2\n",
    "    elif n==9:\n",
    "        i=3\n",
    "    elif n==19:\n",
    "        i=4\n",
    "    elif n==11:\n",
    "        i=5\n",
    "    else:\n",
    "        i=-1\n",
    "    return i\n",
    "\n",
    "print(tit)\n",
    "\n",
    "tit(list)"
   ]
  },
  {
   "cell_type": "code",
   "execution_count": 33,
   "metadata": {},
   "outputs": [
    {
     "name": "stdout",
     "output_type": "stream",
     "text": [
      "<function mama at 0x0000000005513D08>\n"
     ]
    },
    {
     "data": {
      "text/plain": [
       "[1, 5, 2, 6, 3, 7, 4, 8]"
      ]
     },
     "execution_count": 33,
     "metadata": {},
     "output_type": "execute_result"
    }
   ],
   "source": [
    "#写函数，可将两个相同长度的list，间隔插入，生成新的list。例如：给两个list，a=[1,2,3,4], b=[5,6,7,8]。则可以生成：[1,5,2,6,3,7,4,8]\n",
    "def mama(c):\n",
    "    a=[1,2,3,4]\n",
    "    b=[5,6,7,8]\n",
    "    c=[]\n",
    "    i=0\n",
    "    while i<4:\n",
    "        c.append(a[i])\n",
    "        c.append(b[i])\n",
    "        i=i+1       \n",
    "    return c\n",
    "\n",
    "print (mama)\n",
    "mama(c)"
   ]
  },
  {
   "cell_type": "code",
   "execution_count": 42,
   "metadata": {},
   "outputs": [
    {
     "name": "stdout",
     "output_type": "stream",
     "text": [
      "<function hhh at 0x00000000055032F0>\n",
      "请输入第一个向量的横坐标2\n",
      "请输入第一个向量的纵坐标2\n",
      "请输入第二个向量的横坐标2\n",
      "请输入第二个向量的纵坐标2\n"
     ]
    },
    {
     "data": {
      "text/plain": [
       "0.9999999999999998"
      ]
     },
     "execution_count": 42,
     "metadata": {},
     "output_type": "execute_result"
    }
   ],
   "source": [
    "#写函数，可求两个向量的夹角余弦值，向量可放在list中。主程序调用该函数\n",
    "def hhh():\n",
    "    a=int(input('请输入第一个向量的横坐标'))\n",
    "    b=int(input('请输入第一个向量的纵坐标'))\n",
    "    c=int(input('请输入第二个向量的横坐标'))\n",
    "    d=int(input('请输入第二个向量的纵坐标'))\n",
    "    list=[a,b,c,d]\n",
    "    t=a*c+b*d\n",
    "    x=(a**2+b**2)**(1/2)*(c**2+d**2)**(1/2)\n",
    "    y=t/x\n",
    "    return y\n",
    "\n",
    "print(hhh)\n",
    "hhh()\n",
    "    "
   ]
  },
  {
   "cell_type": "code",
   "execution_count": 1,
   "metadata": {},
   "outputs": [
    {
     "name": "stdout",
     "output_type": "stream",
     "text": [
      "有 3741 种方法\n"
     ]
    }
   ],
   "source": [
    "a=0\n",
    "b=0\n",
    "c=0\n",
    "i=0\n",
    "for x in range(96):\n",
    "    a=x+5\n",
    "    for y in range(96):\n",
    "        b=y+5\n",
    "        for t in range(96):\n",
    "            c=t+5\n",
    "            if a+b+c==100:\n",
    "                i=i+1\n",
    "print(\"有\",i,\"种方法\")"
   ]
  },
  {
   "cell_type": "code",
   "execution_count": null,
   "metadata": {
    "collapsed": true
   },
   "outputs": [],
   "source": []
  }
 ],
 "metadata": {
  "kernelspec": {
   "display_name": "Python 3",
   "language": "python",
   "name": "python3"
  },
  "language_info": {
   "codemirror_mode": {
    "name": "ipython",
    "version": 3
   },
   "file_extension": ".py",
   "mimetype": "text/x-python",
   "name": "python",
   "nbconvert_exporter": "python",
   "pygments_lexer": "ipython3",
   "version": "3.6.2"
  }
 },
 "nbformat": 4,
 "nbformat_minor": 2
}
