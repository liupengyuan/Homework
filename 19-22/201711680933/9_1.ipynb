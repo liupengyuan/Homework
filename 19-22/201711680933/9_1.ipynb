{
 "cells": [
  {
   "cell_type": "code",
   "execution_count": 1,
   "metadata": {},
   "outputs": [
    {
     "name": "stdout",
     "output_type": "stream",
     "text": [
      "3.0581746101379395\n"
     ]
    }
   ],
   "source": [
    "import random\n",
    "import time\n",
    "import datetime\n",
    "A=[]\n",
    "B=[]\n",
    "C=[]\n",
    "\n",
    "for x in range(100000):\n",
    "    A.append(x+1)\n",
    "indexA=[i for i in range(len(A))]\n",
    "random.shuffle(indexA)\n",
    "for x in range(100000):\n",
    "    B.append(A[indexA[x]])\n",
    "    for x in range(1000):\n",
    "        C.append(random.randint(1,110000))\n",
    "\n",
    "def caster(n,la):\n",
    "    for x in range(len(la)):\n",
    "        if n == la[x]:\n",
    "            return True\n",
    "        return False\n",
    "\n",
    "def casterB(n,lb):\n",
    "    left=0\n",
    "    right=len(lb)-1\n",
    "    while left<=right:\n",
    "        mid = (left+right)//2\n",
    "        if lb[mid]==n:\n",
    "            return True\n",
    "        if n<lb[mid]:\n",
    "            right=mid-1\n",
    "        else:\n",
    "            left=mid+1\n",
    "    return False\n",
    "\n",
    "def rtfunction():\n",
    "    for x in range(len(A)):\n",
    "        caster(x,C)\n",
    "    for x in range(len(B)):\n",
    "        casterB(x,C)\n",
    "start = time.time()\n",
    "rtfunction()\n",
    "end = time.time()\n",
    "print(end-start)"
   ]
  },
  {
   "cell_type": "code",
   "execution_count": null,
   "metadata": {
    "collapsed": true
   },
   "outputs": [],
   "source": []
  }
 ],
 "metadata": {
  "kernelspec": {
   "display_name": "Python 3",
   "language": "python",
   "name": "python3"
  },
  "language_info": {
   "codemirror_mode": {
    "name": "ipython",
    "version": 3
   },
   "file_extension": ".py",
   "mimetype": "text/x-python",
   "name": "python",
   "nbconvert_exporter": "python",
   "pygments_lexer": "ipython3",
   "version": "3.6.2"
  }
 },
 "nbformat": 4,
 "nbformat_minor": 2
}
