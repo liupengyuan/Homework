{
 "cells": [
  {
   "cell_type": "code",
   "execution_count": 1,
   "metadata": {},
   "outputs": [
    {
     "name": "stdout",
     "output_type": "stream",
     "text": [
      "请输入一个较小整数3\n",
      "请输入一个较大整数8\n",
      "请输入一个整数2\n",
      "4.123105625617661\n"
     ]
    }
   ],
   "source": [
    "#练习 1：写函数，求n个随机整数均值的平方根，整数范围在m与k之间（n,m,k由用户输入）。\n",
    "import random\n",
    "\n",
    "def test():\n",
    "    m = int(input('请输入一个较小整数'))\n",
    "    k = int(input('请输入一个较大整数'))\n",
    "    n = int(input('请输入一个整数'))\n",
    "    i=1\n",
    "    total=0\n",
    "    while i<=m:\n",
    "        number = random.randint(m, k)\n",
    "        i=i+1\n",
    "        total=total+number\n",
    "        t=total**0.5\n",
    "    print(t)\n",
    "\n",
    "test()"
   ]
  },
  {
   "cell_type": "code",
   "execution_count": 2,
   "metadata": {},
   "outputs": [
    {
     "name": "stdout",
     "output_type": "stream",
     "text": [
      "请输入一个较小的正整数4\n",
      "请输入一个较大的正整数10\n",
      "请输入一个正整数5\n",
      "3.924279286061882\n",
      "6.5600324769104805\n"
     ]
    }
   ],
   "source": [
    "#练习 2：写函数，共n个随机整数，整数范围在m与k之间，（n,m,k由用户输入）。求1：西格玛log(随机整数)，2：西格玛1/log(随机整数)\n",
    "import random\n",
    "import math\n",
    "def test():\n",
    "    m=int(input('请输入一个较小的正整数'))\n",
    "    k=int(input('请输入一个较大的正整数'))\n",
    "    n=int(input('请输入一个正整数'))\n",
    "    i=1\n",
    "    total=0\n",
    "    pro=0\n",
    "    while i<=n:\n",
    "        num = random.randint(m, k)\n",
    "        t = math.log10(num)\n",
    "        z = 1/t\n",
    "        i=i+1\n",
    "        total=total+t\n",
    "        pro=pro+z\n",
    "    print(total)\n",
    "    print(pro)\n",
    "\n",
    "test()"
   ]
  },
  {
   "cell_type": "code",
   "execution_count": 3,
   "metadata": {},
   "outputs": [
    {
     "name": "stdout",
     "output_type": "stream",
     "text": [
      "请输入你需要几个数，回车结束4\n",
      "6\n",
      "7404\n"
     ]
    }
   ],
   "source": [
    "#练习 3：写函数，求s=a+aa+aaa+aaaa+aa...a的值，其中a是[1,9]之间的随机整数。例如2+22+222+2222+22222(此时共有5个数相加)，几个数相加由键盘输入。\n",
    "import random\n",
    "def test():\n",
    "    x=int(input('请输入你需要几个数，回车结束'))\n",
    "    a=random.randint(1,9)\n",
    "    print(a)\n",
    "    i=0\n",
    "    s=0\n",
    "    t=0\n",
    "    while i<x:\n",
    "        t=(x-i)*a*10**i\n",
    "        i=i+1\n",
    "        s=s+t\n",
    "    print(s)\n",
    "test()"
   ]
  },
  {
   "cell_type": "code",
   "execution_count": 4,
   "metadata": {},
   "outputs": [
    {
     "name": "stdout",
     "output_type": "stream",
     "text": [
      "请输入一个正整数作为范围的上界，回车结束。50\n",
      "请输入你想让计算机猜测的数字23\n",
      "计算机猜测是 42\n",
      "是否正确？若正确，请输入正确；若不正确，请问是大了还是小了 ？大了\n",
      "计算机猜测是 28\n",
      "是否正确？若正确，请输入正确；若不正确，请问是大了还是小了 ？大了\n",
      "计算机猜测是 1\n",
      "是否正确？若正确，请输入正确；若不正确，请问是大了还是小了 ？小了\n",
      "计算机猜测是 6\n",
      "是否正确？若正确，请输入正确；若不正确，请问是大了还是小了 ？小了\n",
      "计算机猜测是 18\n",
      "是否正确？若正确，请输入正确；若不正确，请问是大了还是小了 ？小了\n",
      "计算机猜测是 24\n",
      "是否正确？若正确，请输入正确；若不正确，请问是大了还是小了 ？大了\n",
      "计算机猜测是 23\n",
      "是否正确？若正确，请输入正确；若不正确，请问是大了还是小了 ？正确\n",
      "计算机猜中了您想的数字，您想的数字是 23\n"
     ]
    }
   ],
   "source": [
    "#挑战性练习：仿照task5，将猜数游戏改成由用户随便选择一个整数，让计算机来猜测的猜数游戏，要求和task5中人猜测的方法类似，但是人机角色对换,\n",
    "#由人来判断猜测是大、小还是相等，请写出完整的猜数游戏。\n",
    "import random\n",
    "n = int(input('请输入一个正整数作为范围的上界，回车结束。'))\n",
    "m = int(input('请输入你想让计算机猜测的数字'))\n",
    "x=1   \n",
    "num=random.randint(x,n)\n",
    "print('计算机猜测是',num)\n",
    "t=str(input('是否正确？若正确，请输入正确；若不正确，请问是大了还是小了 ？'))\n",
    "while (t==\"大了\"or\"小了\"):\n",
    "    if (t==\"大了\"):\n",
    "        n=num\n",
    "        num=random.randint(x,n)\n",
    "        print('计算机猜测是',num)\n",
    "        t=str(input('是否正确？若正确，请输入正确；若不正确，请问是大了还是小了 ？'))\n",
    "    elif (t==\"小了\"):\n",
    "        x=num\n",
    "        num=random.randint(x,n)\n",
    "        print('计算机猜测是',num)\n",
    "        t=str(input('是否正确？若正确，请输入正确；若不正确，请问是大了还是小了 ？'))\n",
    "    elif (t==\"正确\"):\n",
    "        print('计算机猜中了您想的数字，您想的数字是',m)\n",
    "        break"
   ]
  },
  {
   "cell_type": "code",
   "execution_count": null,
   "metadata": {
    "collapsed": true
   },
   "outputs": [],
   "source": []
  }
 ],
 "metadata": {
  "kernelspec": {
   "display_name": "Python 3",
   "language": "python",
   "name": "python3"
  },
  "language_info": {
   "codemirror_mode": {
    "name": "ipython",
    "version": 3
   },
   "file_extension": ".py",
   "mimetype": "text/x-python",
   "name": "python",
   "nbconvert_exporter": "python",
   "pygments_lexer": "ipython3",
   "version": "3.6.2"
  }
 },
 "nbformat": 4,
 "nbformat_minor": 2
}
