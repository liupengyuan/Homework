{
 "cells": [
  {
   "cell_type": "code",
   "execution_count": 9,
   "metadata": {
    "collapsed": false
   },
   "outputs": [
    {
     "name": "stdout",
     "output_type": "stream",
     "text": [
      "请输入第一个正整数12\n",
      "请输入第二个正整数3\n",
      "6227020824\n"
     ]
    }
   ],
   "source": [
    "n=int(input('请输入第一个正整数'))\n",
    "m=int(input('请输入第二个正整数'))\n",
    "def my_sum(n):\n",
    "    i=0\n",
    "    total_n=0\n",
    "    while i<n:\n",
    "        i=i+1\n",
    "        total_n=total_n+i\n",
    "    return total_n\n",
    "def my_sum(m):\n",
    "    i=0\n",
    "    total_m=0\n",
    "    while i<m:\n",
    "        i=i+1\n",
    "        total_m=total_m+i\n",
    "    return total_m\n",
    "def my_mul(n):\n",
    "    i=1\n",
    "    mul_n=1\n",
    "    while i<=n:\n",
    "        i=i+1\n",
    "        mul_n= mul_n*i\n",
    "    return mul_n\n",
    "def my_mul(m):\n",
    "    i=1\n",
    "    mul_m=1\n",
    "    while i<=m:\n",
    "        i=i+1\n",
    "        mul_m= mul_m*i\n",
    "    return mul_m\n",
    "\n",
    "if m>n:\n",
    "    print(my_sum(n) +  my_sum(m))\n",
    "else:\n",
    "    print(my_mul(n)+my_mul(m))"
   ]
  },
  {
   "cell_type": "code",
   "execution_count": null,
   "metadata": {
    "collapsed": true
   },
   "outputs": [],
   "source": []
  }
 ],
 "metadata": {
  "kernelspec": {
   "display_name": "Python 3",
   "language": "python",
   "name": "python3"
  },
  "language_info": {
   "codemirror_mode": {
    "name": "ipython",
    "version": 3
   },
   "file_extension": ".py",
   "mimetype": "text/x-python",
   "name": "python",
   "nbconvert_exporter": "python",
   "pygments_lexer": "ipython3",
   "version": "3.6.0"
  }
 },
 "nbformat": 4,
 "nbformat_minor": 2
}
