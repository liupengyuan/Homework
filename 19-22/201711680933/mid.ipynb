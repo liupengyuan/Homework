{
 "cells": [
  {
   "cell_type": "code",
   "execution_count": 13,
   "metadata": {},
   "outputs": [
    {
     "name": "stdout",
     "output_type": "stream",
     "text": [
      "185 高于平均身高\n",
      "183 高于平均身高\n",
      "187 高于平均身高\n",
      "190 高于平均身高\n",
      "平均值是 181.11111111111111\n"
     ]
    }
   ],
   "source": [
    "#第四题\n",
    "numbers=[183,185,183,187,178,175,177,190,172]\n",
    "total = 0\n",
    "t=0\n",
    "while t < 9:\n",
    "    total += numbers[t]\n",
    "    t += 1\n",
    "    ave=total/9\n",
    "\n",
    "i=0\n",
    "while i<8:\n",
    "    i=i+1\n",
    "    if list[i]>ave:\n",
    "        print(numbers[i],'高于平均身高')\n",
    "\n",
    "\n",
    "print ('平均值是',ave)\n",
    "\n"
   ]
  },
  {
   "cell_type": "code",
   "execution_count": 1,
   "metadata": {},
   "outputs": [
    {
     "name": "stdout",
     "output_type": "stream",
     "text": [
      "10\n",
      "9\n",
      "a+b=19\n",
      "0\n",
      "3\n",
      "a+b=3\n",
      "0\n",
      "2\n",
      "a+b=2\n",
      "3\n",
      "6\n",
      "a+b=9\n",
      "7\n",
      "2\n",
      "a+b=9\n",
      "100\n"
     ]
    }
   ],
   "source": [
    "#第五题\n",
    "import random\n",
    "i=0\n",
    "score = 0\n",
    "while i<5:\n",
    "    a=random.randint(0,10)\n",
    "    print (a)\n",
    "    b=random.randint(0,10)\n",
    "    print (b)\n",
    "    m=a+b\n",
    "    x=int(input('a+b='))\n",
    "    if x==m:\n",
    "        score = score + 20\n",
    "    i=i+1\n",
    "\n",
    "print (score)"
   ]
  },
  {
   "cell_type": "code",
   "execution_count": 1,
   "metadata": {},
   "outputs": [
    {
     "name": "stdout",
     "output_type": "stream",
     "text": [
      "<function my_com at 0x00000000034F2F28>\n",
      "请输入你将要输入的整数的位数，回车结束。4\n",
      "请由高到低（百分位、十分位）输入数字1\n",
      "请由高到低（百分位、十分位）输入数字2\n",
      "请由高到低（百分位、十分位）输入数字3\n",
      "请由高到低（百分位、十分位）输入数字4\n",
      "1\n"
     ]
    }
   ],
   "source": [
    "#第三题\n",
    "def my_com(list):\n",
    "\n",
    "    list = []\n",
    "    n = int(input('请输入你将要输入的整数的位数，回车结束。'))\n",
    "    i = 0\n",
    "    while i < n:\n",
    "        x = int(input('请由高到低（百分位、十分位）输入数字'))\n",
    "        list.append(x)\n",
    "        i += 1\n",
    "    print (list[0])\n",
    "    return \n",
    "\n",
    "print (my_com)\n",
    "my_com(list)"
   ]
  },
  {
   "cell_type": "code",
   "execution_count": 2,
   "metadata": {},
   "outputs": [
    {
     "name": "stdout",
     "output_type": "stream",
     "text": [
      "请输入需要的个数4\n"
     ]
    },
    {
     "data": {
      "text/plain": [
       "30"
      ]
     },
     "execution_count": 2,
     "metadata": {},
     "output_type": "execute_result"
    }
   ],
   "source": [
    "#第一题\n",
    "def my_com(m):\n",
    "    list=[]\n",
    "    i=1\n",
    "    total=0\n",
    "    x=0\n",
    "    while i<=m:\n",
    "        list.append(i)\n",
    "        for number in list:\n",
    "             total += number\n",
    "             i=i+1\n",
    "             x+=total\n",
    "    return x\n",
    "\n",
    "m=int(input('请输入需要的个数'))\n",
    "my_com(m)"
   ]
  },
  {
   "cell_type": "code",
   "execution_count": 9,
   "metadata": {},
   "outputs": [
    {
     "name": "stdout",
     "output_type": "stream",
     "text": [
      "最大值是 88\n",
      "最小值是 -76\n"
     ]
    },
    {
     "data": {
      "text/plain": [
       "<function print>"
      ]
     },
     "execution_count": 9,
     "metadata": {},
     "output_type": "execute_result"
    }
   ],
   "source": [
    "#第六题\n",
    "numbers=[3,-5,9,108,34,-76,88]\n",
    "i=0\n",
    "while i<6:\n",
    "    max_numbers = numbers[i]\n",
    "    min_numbers = numbers[i]\n",
    "    if numbers[i+1]>numbers[i]:\n",
    "        max_numbers = numbers[i+1]\n",
    "\n",
    "    elif numbers[i]<numbers[i+1]:\n",
    "        min_numbers = numbers[i]\n",
    "        \n",
    "    i=i+1\n",
    "print ('最大值是', max_numbers)\n",
    "print ('最小值是', min_numbers)\n",
    "print\n",
    "        \n",
    "    "
   ]
  },
  {
   "cell_type": "code",
   "execution_count": null,
   "metadata": {
    "collapsed": true
   },
   "outputs": [],
   "source": []
  }
 ],
 "metadata": {
  "kernelspec": {
   "display_name": "Python 3",
   "language": "python",
   "name": "python3"
  },
  "language_info": {
   "codemirror_mode": {
    "name": "ipython",
    "version": 3
   },
   "file_extension": ".py",
   "mimetype": "text/x-python",
   "name": "python",
   "nbconvert_exporter": "python",
   "pygments_lexer": "ipython3",
   "version": "3.6.2"
  }
 },
 "nbformat": 4,
 "nbformat_minor": 2
}
