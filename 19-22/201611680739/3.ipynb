{
 "cells": [
  {
   "cell_type": "code",
   "execution_count": 3,
   "metadata": {},
   "outputs": [
    {
     "name": "stdout",
     "output_type": "stream",
     "text": [
      "请输入您的姓名:唐寿鸿\n",
      "请输入您的出生日期(形如3.22的格式):7.01\n",
      "唐寿鸿 你是非常有性格的巨蟹座\n"
     ]
    }
   ],
   "source": [
    "#由键盘读入用户姓名例如Mr. right，让用户输入出生的月份与日期，判断用户星座，假设用户是金牛座，则输出，Mr. right，你是非常有性格的金牛座！。\n",
    "\n",
    "name = input(\"请输入您的姓名:\")\n",
    "data = float(input(\"请输入您的出生日期(形如3.22的格式):\"))\n",
    "if data > 1 and data <13:    \n",
    "    if (data  >= 1.20 and data <= 1.31) or (data <= 2.18 and data >2.00):\n",
    "        print(name,\"你是非常有性格的水瓶座\")\n",
    "    elif (data >=2.19 and data <= 2.29) or (data >=3.01 and data <= 3.20):\n",
    "        print(name,\"你是非常有性格的双鱼座\")\n",
    "    elif (data >=3.21 and data <= 3.31) or (data >=4.01 and data <= 4.19):\n",
    "        print(name,\"你是非常有性格的白羊座\")\n",
    "    elif (data >=4.20 and data <= 4.30) or (data >=5.01 and data <= 5.20):\n",
    "        print(name,\"你是非常有性格的金牛座\")\n",
    "    elif (data >=5.21 and data <= 5.31) or (data >=6.01 and data <= 6.21):\n",
    "        print(name,\"你是非常有性格的双子座\")\n",
    "    elif (data >=6.22 and data <= 6.30) or (data >=7.01 and data <= 7.22):\n",
    "        print(name,\"你是非常有性格的巨蟹座\")\n",
    "    elif (data >=7.23 and data <= 7.31) or (data >=8.01 and data <= 8.22):\n",
    "        print(name,\"你是非常有性格的狮子座\")\n",
    "    elif (data >=8.23 and data <= 8.31) or (data >=9.01 and data <= 9.22):\n",
    "        print(name,\"你是非常有性格的处女座\")\n",
    "    elif (data >=9.23 and data <= 9.30) or (data >=10.01 and data <= 10.23):\n",
    "        print(name,\"你是非常有性格的天枰座\")\n",
    "    elif (data >=10.24 and data <= 10.31) or (data >=11.01 and data <= 11.22):\n",
    "        print(name,\"你是非常有性格的天蝎座\")\n",
    "    elif (data >=11.23 and data <= 11.30) or (data >=12.01 and data <= 12.21):\n",
    "        print(name,\"你是非常有性格的射手座\")\n",
    "    elif (data >=12.22 and data <= 12.31) or (data >=1.01 and data <= 1.19):\n",
    "        print(name,\"你是非常有性格的摩羯座\")\n",
    "    else :\n",
    "        print(\"日期输入有误\")\n",
    "else :\n",
    "    print(\"日期输入有误\")\n"
   ]
  },
  {
   "cell_type": "code",
   "execution_count": 10,
   "metadata": {},
   "outputs": [
    {
     "name": "stdout",
     "output_type": "stream",
     "text": [
      "请输入整数m2\n",
      "请输入整数n4\n",
      "请输入整数1，2，3，求和输入1，求积输入2，求余输入32\n",
      "从m到n的积为: 24\n"
     ]
    }
   ],
   "source": [
    "#由键盘读入两个整数m与n(n不等于0)，询问用户意图，如果要求和则计算从m到n的和输出，如果要乘积则计算从m到n的积并输出，如果要求余数则计算m除以n的余数的值并输出，否则则计算m整除n的值并输出。\n",
    "\n",
    "m=int(input('请输入整数m'))\n",
    "n=int(input('请输入整数n'))\n",
    "t=int(input('请输入整数1，2，3，求和输入1，求积输入2，求余输入3'))\n",
    "\n",
    "x = n\n",
    "y = m\n",
    "s = 0\n",
    "data = 1\n",
    "if t == 1:\n",
    "    while m >= n:\n",
    "        s = s + m\n",
    "        m = m - 1\n",
    "    while y <= x:\n",
    "        s = s + y\n",
    "        y = y + 1\n",
    "    print('从m到n的和为:',s)\n",
    "elif t == 2:\n",
    "    while m >= n:\n",
    "        data = data * m\n",
    "        m = m - 1\n",
    "    while m <= n:\n",
    "        data = data * m\n",
    "        m = m + 1\n",
    "    print('从m到n的积为:',data)\n",
    "elif t == 3:\n",
    "    data = m % n\n",
    "    print('m除以n的余数为：',data)\n",
    "else :\n",
    "    data = m / n\n",
    "    print('m整除n为：',data)\n",
    "            "
   ]
  },
  {
   "cell_type": "code",
   "execution_count": 21,
   "metadata": {},
   "outputs": [
    {
     "name": "stdout",
     "output_type": "stream",
     "text": [
      "请输入:does\n",
      "do\n"
     ]
    }
   ],
   "source": [
    "#英文单词单数转复数，要求输入一个英文动词（单数形式），能够得到其复数形式，或给出单数转复数形式的建议（提示，some_string.endswith(some_letter)函数可以判断某字符串结尾字符，可尝试运行：'myname'.endswith('me')，liupengyuan'.endswith('n')）。\n",
    "\n",
    "some_string = input(\"请输入:\")\n",
    "if  some_string.endswith('es') == True and (some_string[-3] == 'a' or some_string[-3] == 'e' or some_string[-3] == 'i' or some_string[-3] == 'o' or some_string[-3] == 'u') :\n",
    "    print(some_string[0:-2])\n",
    "elif  some_string.endswith('s') == True:\n",
    "    print(some_string[0:-1])\n",
    "elif  some_string.endswith('ies') == True:\n",
    "    print(some_string[0:-3],'y')\n",
    "else  :\n",
    "    print(some_string)\n",
    "\n",
    "\n"
   ]
  },
  {
   "cell_type": "code",
   "execution_count": 22,
   "metadata": {},
   "outputs": [
    {
     "name": "stdout",
     "output_type": "stream",
     "text": [
      "空行上\n",
      "\n",
      "空行下\n"
     ]
    }
   ],
   "source": [
    "#写程序，能够在屏幕上显示空行\n",
    "\n",
    "print(\"空行上\")\n",
    "print(\"\")\n",
    "print(\"空行下\")\n",
    "\n"
   ]
  },
  {
   "cell_type": "code",
   "execution_count": null,
   "metadata": {},
   "outputs": [],
   "source": []
  }
 ],
 "metadata": {
  "kernelspec": {
   "display_name": "Python 3",
   "language": "python",
   "name": "python3"
  }
 },
 "nbformat": 4,
 "nbformat_minor": 2
}
