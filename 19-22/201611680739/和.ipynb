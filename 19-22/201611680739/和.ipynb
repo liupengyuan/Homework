{
 "cells": [
  {
   "cell_type": "code",
   "execution_count": 3,
   "metadata": {},
   "outputs": [
    {
     "name": "stdout",
     "output_type": "stream",
     "text": [
      "1到1025之间所有能被7整除的偶数的和为： 37814\n"
     ]
    }
   ],
   "source": [
    "total = 0\n",
    "m = 1\n",
    "\n",
    "while m < 1025:\n",
    "    if m%2 == 0 and m%7 == 0:\n",
    "      total = total +m\n",
    "    m=m+1\n",
    "print('1到1025之间所有能被7整除的偶数的和为：',total)"
   ]
  },
  {
   "cell_type": "code",
   "execution_count": null,
   "metadata": {},
   "outputs": [],
   "source": []
  }
 ],
 "metadata": {
  "kernelspec": {
   "display_name": "Python 3",
   "language": "python",
   "name": "python3"
  },
  "language_info": {
   "codemirror_mode": {
    "name": "ipython",
    "version": 3
   },
   "file_extension": ".py",
   "mimetype": "text/x-python",
   "name": "python",
   "nbconvert_exporter": "python",
   "pygments_lexer": "ipython3",
   "version": "3.6.3"
  }
 },
 "nbformat": 4,
 "nbformat_minor": 2
}
