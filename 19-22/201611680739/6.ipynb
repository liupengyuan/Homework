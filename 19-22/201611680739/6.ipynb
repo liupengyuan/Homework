{
 "cells": [
  {
   "cell_type": "code",
   "execution_count": 1,
   "metadata": {},
   "outputs": [
    {
     "name": "stdout",
     "output_type": "stream",
     "text": [
      "请输入列表元素个数4\n",
      "请输入元素或者对象My\n",
      "请输入元素或者对象name\n",
      "请输入元素或者对象is\n",
      "请输入元素或者对象Luree\n",
      "请输入要查找的元素或者对象is\n"
     ]
    },
    {
     "data": {
      "text/plain": [
       "2"
      ]
     },
     "execution_count": 1,
     "metadata": {},
     "output_type": "execute_result"
    }
   ],
   "source": [
    "#写函数，返回某个元素/对象在一个list中的位置，如果不在，则返回-1.\n",
    "def abc():\n",
    "    n = int(input(\"请输入列表元素个数\"))\n",
    "    lists = []\n",
    "    while n:\n",
    "        cell = input(\"请输入元素或者对象\")\n",
    "        lists.append(cell)\n",
    "        n = n -1\n",
    "    m = input(\"请输入要查找的元素或者对象\")\n",
    "    i = 0 \n",
    "    for n in lists:\n",
    "        if m == n:\n",
    "            return i\n",
    "        i = i + 1\n",
    "    i = -1\n",
    "    return i\n",
    "abc()"
   ]
  },
  {
   "cell_type": "code",
   "execution_count": 2,
   "metadata": {},
   "outputs": [
    {
     "name": "stdout",
     "output_type": "stream",
     "text": [
      "请输入列表元素个数4\n",
      "请输入第一个列表的元素或者对象1\n",
      "请输入第一个列表的元素或者对象2\n",
      "请输入第一个列表的元素或者对象3\n",
      "请输入第一个列表的元素或者对象4\n",
      "请输入第二个列表的元素或者对象5\n",
      "请输入第二个列表的元素或者对象6\n",
      "请输入第二个列表的元素或者对象7\n",
      "请输入第二个列表的元素或者对象8\n",
      "['1', '5', '2', '6', '3', '7', '4', '8']\n"
     ]
    }
   ],
   "source": [
    "#写函数，可将两个相同长度的list，间隔插入，生成新的list。\n",
    "def abc():\n",
    "    n = int(input(\"请输入列表元素个数\"))\n",
    "    number1 = []\n",
    "    number2 = []\n",
    "    lists = []\n",
    "    m = n\n",
    "    k = m\n",
    "    while n:\n",
    "        cell = input(\"请输入第一个列表的元素或者对象\")\n",
    "        number1.append(cell)\n",
    "        n = n -1\n",
    "    while m:\n",
    "        cell = input(\"请输入第二个列表的元素或者对象\")\n",
    "        number2.append(cell)\n",
    "        m = m -1\n",
    "    i = 0\n",
    "    while i<k:\n",
    "        lists.append(number1[i])\n",
    "        lists.append(number2[i])\n",
    "        i = i + 1\n",
    "    print(lists)\n",
    "#主程序\n",
    "abc()"
   ]
  },
  {
   "cell_type": "code",
   "execution_count": 7,
   "metadata": {},
   "outputs": [
    {
     "name": "stdout",
     "output_type": "stream",
     "text": [
      "请输入第一个向量的横坐标1\n",
      "请输入第一个向量的纵坐标0\n",
      "请输入第二个向量的横坐标0\n",
      "请输入第二个向量的纵坐标1\n",
      "0.0\n"
     ]
    }
   ],
   "source": [
    "#写函数，可求两个向量的夹角余弦值，向量可放在list中。主程序调用该函数。\n",
    "def abc():\n",
    "    a = eval(input('请输入第一个向量的横坐标'))\n",
    "    b = eval(input('请输入第一个向量的纵坐标'))\n",
    "    c = eval(input('请输入第二个向量的横坐标'))\n",
    "    d = eval(input('请输入第二个向量的纵坐标'))\n",
    "    lists = {(a,b),(c,d)}\n",
    "    m = (a*a+b*b)**0.5\n",
    "    n = (c*c+d*d)**0.5\n",
    "    cosA =(a*c+b*d)/(m*n)\n",
    "    print(cosA)\n",
    "#主程序\n",
    "abc()\n",
    "    "
   ]
  },
  {
   "cell_type": "code",
   "execution_count": null,
   "metadata": {},
   "outputs": [],
   "source": []
  }
 ],
 "metadata": {
  "kernelspec": {
   "display_name": "Python 3",
   "language": "python",
   "name": "python3"
  },
  "language_info": {
   "codemirror_mode": {
    "name": "ipython",
    "version": 3
   },
   "file_extension": ".py",
   "mimetype": "text/x-python",
   "name": "python",
   "nbconvert_exporter": "python",
   "pygments_lexer": "ipython3",
   "version": "3.6.3"
  }
 },
 "nbformat": 4,
 "nbformat_minor": 2
}
