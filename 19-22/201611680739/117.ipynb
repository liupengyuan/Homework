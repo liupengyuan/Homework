{
 "cells": [
  {
   "cell_type": "code",
   "execution_count": 8,
   "metadata": {},
   "outputs": [
    {
     "name": "stdout",
     "output_type": "stream",
     "text": [
      "请输入你要求的数的个数m5\n",
      "请输入最小的数为n10\n",
      "请输入最大的数为k500\n",
      "383\n",
      "212\n",
      "320\n",
      "388\n",
      "310\n",
      "40.162171256046406\n"
     ]
    }
   ],
   "source": [
    "#用户从键盘输入数m,n,k，写函数，可利用计算机得到m个从n到k的随机整数，求m个数和的平方根\n",
    "import random\n",
    "\n",
    "def root():\n",
    "    m = int(input('请输入你要求的数的个数m'))\n",
    "    n = int(input('请输入最小的数为n'))\n",
    "    k = int(input('请输入最大的数为k'))\n",
    "    data = 0\n",
    "    i=1\n",
    "    while i<=m:\n",
    "        i+=1\n",
    "        t= random.randint(n,k)\n",
    "        data = data + t\n",
    "        print(t)\n",
    "    data =data**(0.5)\n",
    "    return data\n",
    "#主程序\n",
    "print(root())\n",
    "\n"
   ]
  },
  {
   "cell_type": "code",
   "execution_count": null,
   "metadata": {},
   "outputs": [],
   "source": []
  },
  {
   "cell_type": "code",
   "execution_count": null,
   "metadata": {},
   "outputs": [],
   "source": []
  }
 ],
 "metadata": {
  "kernelspec": {
   "display_name": "Python 3",
   "language": "python",
   "name": "python3"
  }
 },
 "nbformat": 4,
 "nbformat_minor": 2
}
