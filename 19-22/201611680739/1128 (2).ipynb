{
 "cells": [
  {
   "cell_type": "code",
   "execution_count": 11,
   "metadata": {},
   "outputs": [
    {
     "name": "stdout",
     "output_type": "stream",
     "text": [
      "a\n",
      "ab\n",
      "abc\n",
      "abcd\n",
      "abcde\n",
      "abcdef\n",
      "abcdefg\n",
      "abcdefgh\n",
      "abcdefghi\n",
      "abcdefghij\n",
      "abcdefghijk\n",
      "abcdefghijkl\n",
      "abcdefghijklm\n",
      "abcdefghijklmn\n",
      "abcdefghijklmno\n",
      "abcdefghijklmnop\n",
      "abcdefghijklmnopq\n",
      "abcdefghijklmnopqr\n",
      "abcdefghijklmnopqrs\n",
      "abcdefghijklmnopqrst\n",
      "abcdefghijklmnopqrstu\n",
      "abcdefghijklmnopqrstuv\n",
      "abcdefghijklmnopqrstuvw\n",
      "abcdefghijklmnopqrstuvwx\n",
      "abcdefghijklmnopqrstuvwxy\n",
      "abcdefghijklmnopqrstuvwxyz\n"
     ]
    }
   ],
   "source": [
    "def abc():\n",
    "    lists = 'abcdefghijklmnopqrstuvwxyz'\n",
    "    for i in range(1,27):\n",
    "        if i == 1:\n",
    "            print(lists[0])\n",
    "        elif i< i+1:\n",
    "            print(lists[:i])\n",
    "abc()\n",
    "    "
   ]
  },
  {
   "cell_type": "code",
   "execution_count": 19,
   "metadata": {},
   "outputs": [
    {
     "name": "stdout",
     "output_type": "stream",
     "text": [
      "请输入行数4\n",
      "                         ['*']\n",
      "                    ['*', '*', '*']\n",
      "               ['*', '*', '*', '*', '*']\n",
      "          ['*', '*', '*', '*', '*', '*', '*']\n"
     ]
    }
   ],
   "source": [
    "def plalindrome(line,n):\n",
    "    for i in range(n):\n",
    "        for j in range(5-i):  \n",
    "            print(\" \",end=\"    \")\n",
    "        print(line[0:(2*i+1)])\n",
    "\n",
    "def main():\n",
    "    n = int(input('请输入行数'))\n",
    "    line = []\n",
    "    t = 0\n",
    "    while t < (2*n+1):\n",
    "        line.append('*')\n",
    "        t = t + 1\n",
    "    plalindrome(line,n)\n",
    "    \n",
    "\n",
    "main()\n"
   ]
  },
  {
   "cell_type": "code",
   "execution_count": null,
   "metadata": {},
   "outputs": [],
   "source": []
  }
 ],
 "metadata": {
  "kernelspec": {
   "display_name": "Python 3",
   "language": "python",
   "name": "python3"
  },
  "language_info": {
   "codemirror_mode": {
    "name": "ipython",
    "version": 3
   },
   "file_extension": ".py",
   "mimetype": "text/x-python",
   "name": "python",
   "nbconvert_exporter": "python",
   "pygments_lexer": "ipython3",
   "version": "3.6.3"
  }
 },
 "nbformat": 4,
 "nbformat_minor": 2
}
