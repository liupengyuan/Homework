{
 "cells": [
  {
   "cell_type": "code",
   "execution_count": 2,
   "metadata": {},
   "outputs": [
    {
     "name": "stdout",
     "output_type": "stream",
     "text": [
      "请输入第1个整数，以回车结束。1\n",
      "请输入第2个整数，以回车结束。2\n",
      "请输入第3个整数，以回车结束。3\n",
      "9\n"
     ]
    }
   ],
   "source": [
    "def my_sum(n):\n",
    "    i = 0\n",
    "    total = 1\n",
    "    while i < n:\n",
    "        i = i + 1\n",
    "        total = total * i\n",
    "    return total\n",
    "#主程序\n",
    "n = int(input('请输入第1个整数，以回车结束。'))\n",
    "m = int(input('请输入第2个整数，以回车结束。'))\n",
    "k = int(input('请输入第3个整数，以回车结束。'))\n",
    "print(my_sum(n)+my_sum(m)+my_sum(k))\n",
    "\n"
   ]
  },
  {
   "cell_type": "code",
   "execution_count": 7,
   "metadata": {},
   "outputs": [
    {
     "name": "stdout",
     "output_type": "stream",
     "text": [
      "1000的四倍为 3.140592653839794\n",
      "\n",
      "100000的四倍为 3.1415826535897198\n"
     ]
    }
   ],
   "source": [
    "def my_sum(n):\n",
    "    i = 0\n",
    "    m = 0\n",
    "    s = 0\n",
    "    while m < n:\n",
    "        m = m + 1\n",
    "        i = (-1)**(m+1)/(2*m-1)\n",
    "        s = s + i\n",
    "    return s\n",
    "#主程序\n",
    "s = my_sum(1000)\n",
    "t = 4 * s\n",
    "print('1000的四倍为',t)\n",
    "print('')\n",
    "s = my_sum(100000)\n",
    "t = 4 * s\n",
    "print('100000的四倍为',t)"
   ]
  },
  {
   "cell_type": "code",
   "execution_count": 2,
   "metadata": {},
   "outputs": [
    {
     "name": "stdout",
     "output_type": "stream",
     "text": [
      "请输入您的姓名:唐寿鸿\n",
      "请输入您的出生日期(形如3.22的格式):7.01\n",
      "唐寿鸿 你是非常有性格的巨蟹座\n"
     ]
    },
    {
     "data": {
      "text/plain": [
       "7.01"
      ]
     },
     "execution_count": 2,
     "metadata": {},
     "output_type": "execute_result"
    }
   ],
   "source": [
    "def cba():\n",
    "\n",
    "#由键盘读入用户姓名例如Mr. right，让用户输入出生的月份与日期，判断用户星座，假设用户是金牛座，则输出，Mr. right，你是非常有性格的金牛座！。\n",
    "\n",
    "    name = input(\"请输入您的姓名:\")\n",
    "    data = float(input(\"请输入您的出生日期(形如3.22的格式):\"))\n",
    "    if data > 1 and data <13:    \n",
    "        if (data  >= 1.20 and data <= 1.31) or (data <= 2.18 and data >2.00):\n",
    "            print(name,\"你是非常有性格的水瓶座\")\n",
    "        elif (data >=2.19 and data <= 2.29) or (data >=3.01 and data <= 3.20):\n",
    "            print(name,\"你是非常有性格的双鱼座\")\n",
    "        elif (data >=3.21 and data <= 3.31) or (data >=4.01 and data <= 4.19):\n",
    "            print(name,\"你是非常有性格的白羊座\")\n",
    "        elif (data >=4.20 and data <= 4.30) or (data >=5.01 and data <= 5.20):\n",
    "            print(name,\"你是非常有性格的金牛座\")\n",
    "        elif (data >=5.21 and data <= 5.31) or (data >=6.01 and data <= 6.21):\n",
    "            print(name,\"你是非常有性格的双子座\")\n",
    "        elif (data >=6.22 and data <= 6.30) or (data >=7.01 and data <= 7.22):\n",
    "            print(name,\"你是非常有性格的巨蟹座\")\n",
    "        elif (data >=7.23 and data <= 7.31) or (data >=8.01 and data <= 8.22):\n",
    "            print(name,\"你是非常有性格的狮子座\")\n",
    "        elif (data >=8.23 and data <= 8.31) or (data >=9.01 and data <= 9.22):\n",
    "            print(name,\"你是非常有性格的处女座\")\n",
    "        elif (data >=9.23 and data <= 9.30) or (data >=10.01 and data <= 10.23):\n",
    "            print(name,\"你是非常有性格的天枰座\")\n",
    "        elif (data >=10.24 and data <= 10.31) or (data >=11.01 and data <= 11.22):\n",
    "            print(name,\"你是非常有性格的天蝎座\")\n",
    "        elif (data >=11.23 and data <= 11.30) or (data >=12.01 and data <= 12.21):\n",
    "            print(name,\"你是非常有性格的射手座\")\n",
    "        elif (data >=12.22 and data <= 12.31) or (data >=1.01 and data <= 1.19):\n",
    "            print(name,\"你是非常有性格的摩羯座\")\n",
    "        else :\n",
    "            print(\"日期输入有误\")\n",
    "    else :\n",
    "        print(\"日期输入有误\")\n",
    "    return data\n",
    "#主程序\n",
    "cba()"
   ]
  },
  {
   "cell_type": "code",
   "execution_count": 3,
   "metadata": {},
   "outputs": [
    {
     "name": "stdout",
     "output_type": "stream",
     "text": [
      "请输入:does\n",
      "do\n"
     ]
    },
    {
     "data": {
      "text/plain": [
       "'does'"
      ]
     },
     "execution_count": 3,
     "metadata": {},
     "output_type": "execute_result"
    }
   ],
   "source": [
    "def end_with():\n",
    "    \n",
    "#英文单词单数转复数，要求输入一个英文动词（单数形式），能够得到其复数形式，或给出单数转复数形式的建议（提示，some_string.endswith(some_letter)函数可以判断某字符串结尾字符，可尝试运行：'myname'.endswith('me')，liupengyuan'.endswith('n')）。\n",
    "\n",
    "    some_string = input(\"请输入:\")\n",
    "    if  some_string.endswith('es') == True and (some_string[-3] == 'a' or some_string[-3] == 'e' or some_string[-3] == 'i' or some_string[-3] == 'o' or some_string[-3] == 'u') :\n",
    "        print(some_string[0:-2])\n",
    "    elif  some_string.endswith('s') == True:\n",
    "        print(some_string[0:-1])\n",
    "    elif  some_string.endswith('ies') == True:\n",
    "        print(some_string[0:-3],'y')\n",
    "    else  :\n",
    "        print(some_string)\n",
    "    return some_string\n",
    "#主程序\n",
    "end_with()"
   ]
  },
  {
   "cell_type": "code",
   "execution_count": 4,
   "metadata": {},
   "outputs": [
    {
     "name": "stdout",
     "output_type": "stream",
     "text": [
      "请输入m1\n",
      "请输入n9\n",
      "请输入k3\n",
      "12\n"
     ]
    }
   ],
   "source": [
    "#写程序，可以求从整数m到整数n累加的和，间隔为k，求和部分需用函数实现，主程序中由用户输入m，n，k调用函数验证正确性。\n",
    "def my_sum(m,n,k):\n",
    "    total = 0\n",
    "    while m <= n:\n",
    "        total = total + m\n",
    "        m = m + k\n",
    "    return total\n",
    "#主程序\n",
    "m = int(input('请输入m'))\n",
    "n = int(input('请输入n'))\n",
    "k = int(input('请输入k'))\n",
    "print(my_sum(m,n,k))\n",
    "    "
   ]
  },
  {
   "cell_type": "code",
   "execution_count": null,
   "metadata": {},
   "outputs": [],
   "source": []
  }
 ],
 "metadata": {
  "kernelspec": {
   "display_name": "Python 3",
   "language": "python",
   "name": "python3"
  },
  "language_info": {
   "codemirror_mode": {
    "name": "ipython",
    "version": 3
   },
   "file_extension": ".py",
   "mimetype": "text/x-python",
   "name": "python",
   "nbconvert_exporter": "python",
   "pygments_lexer": "ipython3",
   "version": "3.6.3"
  }
 },
 "nbformat": 4,
 "nbformat_minor": 2
}
