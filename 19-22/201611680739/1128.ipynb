{
 "cells": [
  {
   "cell_type": "code",
   "execution_count": 11,
   "metadata": {},
   "outputs": [
    {
     "name": "stdout",
     "output_type": "stream",
     "text": [
      "a\n",
      "ab\n",
      "abc\n",
      "abcd\n",
      "abcde\n",
      "abcdef\n",
      "abcdefg\n",
      "abcdefgh\n",
      "abcdefghi\n",
      "abcdefghij\n",
      "abcdefghijk\n",
      "abcdefghijkl\n",
      "abcdefghijklm\n",
      "abcdefghijklmn\n",
      "abcdefghijklmno\n",
      "abcdefghijklmnop\n",
      "abcdefghijklmnopq\n",
      "abcdefghijklmnopqr\n",
      "abcdefghijklmnopqrs\n",
      "abcdefghijklmnopqrst\n",
      "abcdefghijklmnopqrstu\n",
      "abcdefghijklmnopqrstuv\n",
      "abcdefghijklmnopqrstuvw\n",
      "abcdefghijklmnopqrstuvwx\n",
      "abcdefghijklmnopqrstuvwxy\n",
      "abcdefghijklmnopqrstuvwxyz\n"
     ]
    }
   ],
   "source": [
    "def abc():\n",
    "    lists = 'abcdefghijklmnopqrstuvwxyz'\n",
    "    for i in range(1,27):\n",
    "        if i == 1:\n",
    "            print(lists[0])\n",
    "        elif i< i+1:\n",
    "            print(lists[:i])\n",
    "abc()\n",
    "    "
   ]
  },
  {
   "cell_type": "code",
   "execution_count": 15,
   "metadata": {},
   "outputs": [
    {
     "ename": "SyntaxError",
     "evalue": "invalid syntax (<ipython-input-15-668273c57de1>, line 15)",
     "output_type": "error",
     "traceback": [
      "\u001b[1;36m  File \u001b[1;32m\"<ipython-input-15-668273c57de1>\"\u001b[1;36m, line \u001b[1;32m15\u001b[0m\n\u001b[1;33m    line.append(*)\u001b[0m\n\u001b[1;37m                 ^\u001b[0m\n\u001b[1;31mSyntaxError\u001b[0m\u001b[1;31m:\u001b[0m invalid syntax\n"
     ]
    }
   ],
   "source": [
    "def plalindrome(line):\n",
    "    for i in range(1, len(line)*2):\n",
    "        if i == 1:\n",
    "            print(' '*(len(line)*2-1) +line[0])\n",
    "        elif i%2 == 1:\n",
    "            print(' '*(len(line)*2-i) + line[:i//2] + line[i//2] + line[i//2-1::-1])\n",
    "        else:\n",
    "            print(' '*(len(line)*2-i) + line[:i//2] + line[i//2-1::-1])\n",
    "\n",
    "def main():\n",
    "    n = int(input('请输入行数'))\n",
    "    line = []\n",
    "    t = 0\n",
    "    if t < n:\n",
    "        line.append(*)\n",
    "        t = t + 1\n",
    "    plalindrome(line)\n",
    "    \n",
    "\n",
    "if __name__ == '__main__':\n",
    "    main()"
   ]
  },
  {
   "cell_type": "code",
   "execution_count": null,
   "metadata": {},
   "outputs": [],
   "source": []
  }
 ],
 "metadata": {
  "kernelspec": {
   "display_name": "Python 3",
   "language": "python",
   "name": "python3"
  },
  "language_info": {
   "codemirror_mode": {
    "name": "ipython",
    "version": 3
   },
   "file_extension": ".py",
   "mimetype": "text/x-python",
   "name": "python",
   "nbconvert_exporter": "python",
   "pygments_lexer": "ipython3",
   "version": "3.6.3"
  }
 },
 "nbformat": 4,
 "nbformat_minor": 2
}
