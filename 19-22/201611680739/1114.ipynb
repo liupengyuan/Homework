{
 "cells": [
  {
   "cell_type": "code",
   "execution_count": 6,
   "metadata": {},
   "outputs": [
    {
     "data": {
      "text/plain": [
       "[899, -10, 106.72999999999999]"
      ]
     },
     "execution_count": 6,
     "metadata": {},
     "output_type": "execute_result"
    }
   ],
   "source": [
    "def ex1114(numbers):\n",
    "    s = 0\n",
    "    ma = mi = numbers[0]\n",
    "    for i in range(len(numbers)):\n",
    "        s = s+numbers[i]\n",
    "    s = s/len(numbers)\n",
    "    for n in numbers:\n",
    "        if ma<n:\n",
    "            ma = n\n",
    "    for n in numbers:\n",
    "        if mi>n:\n",
    "            mi = n\n",
    "    consequence = [ma,mi,s]\n",
    "    return consequence\n",
    "\n",
    "A = [1,2,-1,55,100,899,-10,3,12.5,5.8]\n",
    "ex1114(A)\n"
   ]
  },
  {
   "cell_type": "code",
   "execution_count": null,
   "metadata": {},
   "outputs": [],
   "source": []
  }
 ],
 "metadata": {
  "kernelspec": {
   "display_name": "Python 3",
   "language": "python",
   "name": "python3"
  },
  "language_info": {
   "codemirror_mode": {
    "name": "ipython",
    "version": 3
   },
   "file_extension": ".py",
   "mimetype": "text/x-python",
   "name": "python",
   "nbconvert_exporter": "python",
   "pygments_lexer": "ipython3",
   "version": "3.6.3"
  }
 },
 "nbformat": 4,
 "nbformat_minor": 2
}
