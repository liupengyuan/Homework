{
 "cells": [
  {
   "cell_type": "code",
   "execution_count": 25,
   "metadata": {},
   "outputs": [
    {
     "name": "stdout",
     "output_type": "stream",
     "text": [
      "请输入字符串12345\n"
     ]
    },
    {
     "data": {
      "text/plain": [
       "'54321'"
      ]
     },
     "execution_count": 25,
     "metadata": {},
     "output_type": "execute_result"
    }
   ],
   "source": [
    "#定义一个reverse(s)函数，功能返回字符串s的倒序字符串。\n",
    "def reverse(s):\n",
    "    s = s[len(s)-1::-1]\n",
    "    return s\n",
    "#主程序\n",
    "s = input('请输入字符串')\n",
    "reverse(s)"
   ]
  },
  {
   "cell_type": "code",
   "execution_count": 38,
   "metadata": {},
   "outputs": [
    {
     "name": "stdout",
     "output_type": "stream",
     "text": [
      "打印直角三角形输入1，等腰三角形输入2，其他形式的三角形输入3  ：1\n",
      "请输入行数3\n",
      "请输入构建符号*\n",
      "\n",
      "*\n",
      "**\n",
      "***\n"
     ]
    }
   ],
   "source": [
    "#写函数，根据给定符号和行数，打印相应直角三角形，等腰三角形及其他形式的三角形。\n",
    "def tringle():\n",
    "    choice = int(input(\"打印直角三角形输入1，等腰三角形输入2，其他形式的三角形输入3  ：\"))\n",
    "    if choice == 1:\n",
    "        rows1 = int(input(\"请输入行数\"))+1\n",
    "        ch = input(\"请输入构建符号\")\n",
    "        for i in range(rows1):\n",
    "            print(ch*i)\n",
    "    elif choice ==2:\n",
    "        rows = int(input(\"请输入行数\"))+1\n",
    "        ch = input(\"请输入符号(仅支持汉字)\")\n",
    "        length = int(input(\"请输入底边长\"))\n",
    "        for j in range(1, rows+1):\n",
    "            print((length-j)*' ' + ch*j)\n",
    "    elif choice ==3:\n",
    "        rows = int(input(\"请输入行数\"))+1\n",
    "        ch = input(\"请输入符号\")\n",
    "        length = int(input(\"请输入底边长\"))\n",
    "        for j in range(1, rows+1):\n",
    "            print((length-j)*'  ' + ch*j)\n",
    "    else:\n",
    "        print(\"输入有误\")\n",
    "        \n",
    "tringle()\n"
   ]
  },
  {
   "cell_type": "code",
   "execution_count": 42,
   "metadata": {},
   "outputs": [
    {
     "name": "stdout",
     "output_type": "stream",
     "text": [
      "请输入四分之一行n:3\n",
      "     天\n",
      "    天天\n",
      "   天天天\n",
      "  天天天天\n",
      " 天天天天天\n",
      "天天天天天天\n",
      "天天天天天天\n",
      " 天天天天天\n",
      "  天天天天\n",
      "   天天天\n",
      "    天天\n",
      "     天\n",
      "6\n"
     ]
    }
   ],
   "source": [
    "#写函数，根据给定符号，打印各种菱形\n",
    "def abc():\n",
    "    n = int(input('请输入四分之一行n:'))\n",
    "    line = '天'*n\n",
    "    for i in range(1, len(line)*2+1):\n",
    "        print((len(line)*2-i)*' ' + line[0]*i)\n",
    "    for j in range(len(line)*2,0,-1):\n",
    "        print((len(line)*2-j)*' ' + line[0]*j)\n",
    "    print(len(line)*2)\n",
    "#主程序\n",
    "abc()\n"
   ]
  },
  {
   "cell_type": "code",
   "execution_count": null,
   "metadata": {},
   "outputs": [],
   "source": []
  }
 ],
 "metadata": {
  "kernelspec": {
   "display_name": "Python 3",
   "language": "python",
   "name": "python3"
  },
  "language_info": {
   "codemirror_mode": {
    "name": "ipython",
    "version": 3
   },
   "file_extension": ".py",
   "mimetype": "text/x-python",
   "name": "python",
   "nbconvert_exporter": "python",
   "pygments_lexer": "ipython3",
   "version": "3.6.3"
  }
 },
 "nbformat": 4,
 "nbformat_minor": 2
}
