{
 "cells": [
  {
   "cell_type": "markdown",
   "metadata": {},
   "source": [
    "# 练习一：自己定义一个reverse(s)函数，功能返回字符串s的倒序字符串。"
   ]
  },
  {
   "cell_type": "code",
   "execution_count": 35,
   "metadata": {},
   "outputs": [
    {
     "name": "stdout",
     "output_type": "stream",
     "text": [
      "请输入一串字符，回车结束我有一只小毛驴我从来也不骑\n",
      "骑不也来从我驴毛小只一有我\n"
     ]
    }
   ],
   "source": [
    "def mine():\n",
    "    n=input('请输入一串字符，回车结束')\n",
    "    print(n[len(n)::-1])\n",
    "mine()"
   ]
  },
  {
   "cell_type": "markdown",
   "metadata": {},
   "source": [
    "# 练习二：写函数，根据给定符号和行数，打印相应直角三角形，等腰三角形及其他形式的三角形。"
   ]
  },
  {
   "cell_type": "code",
   "execution_count": 16,
   "metadata": {},
   "outputs": [
    {
     "name": "stdout",
     "output_type": "stream",
     "text": [
      "等腰三角形\n",
      "请输入想打印三角形的行数9\n",
      "请输入一个想打印的汉字哈\n",
      "                 哈 \n",
      "                哈哈 \n",
      "               哈哈哈 \n",
      "              哈哈哈哈 \n",
      "             哈哈哈哈哈 \n",
      "            哈哈哈哈哈哈 \n",
      "           哈哈哈哈哈哈哈 \n",
      "          哈哈哈哈哈哈哈哈 \n",
      "         哈哈哈哈哈哈哈哈哈 \n",
      "直角三角形\n",
      "哈\n",
      "哈哈\n",
      "哈哈哈\n",
      "哈哈哈哈\n",
      "哈哈哈哈哈\n",
      "哈哈哈哈哈哈\n",
      "哈哈哈哈哈哈哈\n",
      "哈哈哈哈哈哈哈哈\n",
      "哈哈哈哈哈哈哈哈哈\n",
      "倒三角形\n",
      "哈哈哈哈哈哈哈哈哈\n",
      "哈哈哈哈哈哈哈哈\n",
      "哈哈哈哈哈哈哈\n",
      "哈哈哈哈哈哈\n",
      "哈哈哈哈哈\n",
      "哈哈哈哈\n",
      "哈哈哈\n",
      "哈哈\n",
      "哈\n",
      "直角三角形\n",
      "                哈\n",
      "              哈哈\n",
      "            哈哈哈\n",
      "          哈哈哈哈\n",
      "        哈哈哈哈哈\n",
      "      哈哈哈哈哈哈\n",
      "    哈哈哈哈哈哈哈\n",
      "  哈哈哈哈哈哈哈哈\n",
      "哈哈哈哈哈哈哈哈哈\n"
     ]
    }
   ],
   "source": [
    "print('等腰三角形')\n",
    "l=int(input('请输入想打印三角形的行数'))\n",
    "n=(input('请输入一个想打印的汉字'))*l\n",
    "for i in range(1,len(n)+1):\n",
    "    print((len(n)*2-i)*' '+n[0]*i ,end=' ')\n",
    "    print()\n",
    "print('直角三角形')\n",
    "for i in range(1,len(n)+1):\n",
    "    print(n[0]*i)\n",
    "print('倒三角形')\n",
    "for i in range(1,len(n)+1):\n",
    "    print(n[0]*((len(n)+1)-i))\n",
    "print('直角三角形')\n",
    "for i in range(1,len(n)+1):\n",
    "    print((len(n)*2-i*2)*' '+n[0]*i,end='')\n",
    "    print()\n",
    "    "
   ]
  },
  {
   "cell_type": "markdown",
   "metadata": {},
   "source": [
    "# 练习五：写函数，根据给定符号，打印各种菱形。"
   ]
  },
  {
   "cell_type": "code",
   "execution_count": 14,
   "metadata": {},
   "outputs": [
    {
     "name": "stdout",
     "output_type": "stream",
     "text": [
      "菱形1\n",
      "输入想要打印符号，回车结束*\n",
      "     *\n",
      "    ***\n",
      "   *****\n",
      "  *******\n",
      " *********\n",
      "  *******\n",
      "   *****\n",
      "    ***\n",
      "     *\n",
      "菱形2\n",
      "输入想要打印的符号，回车结束*\n",
      "     *\n",
      "    * *\n",
      "   *   *\n",
      "  *     *\n",
      " *       *\n",
      "  *     *\n",
      "   *   *\n",
      "    * *\n",
      "     *\n"
     ]
    }
   ],
   "source": [
    "print('菱形1')\n",
    "n=input('输入想要打印符号，回车结束')\n",
    "for i in range(1,6):\n",
    "    print((6-i)*' '+ n*(i*2-1), end='')\n",
    "    print()\n",
    "for i in range(1,5):\n",
    "    print((i+1)*' '+ n*((5-i)*2-1), end='')\n",
    "    print()\n",
    "    \n",
    "print('菱形2')\n",
    "n=input('输入想要打印的符号，回车结束')\n",
    "print(5*' '+ n*1,end='')\n",
    "print()\n",
    "for i in range(2,6):\n",
    "    print((6-i)*' '+ n+((i-1)*2-1)*' '+n,end='')\n",
    "    print()\n",
    "for i in range(1,4):\n",
    "    print((i+1)*' '+n+' '*((5-i-1)*2-1)+n,end='')\n",
    "    print()\n",
    "print(5*' '+ n*1)"
   ]
  },
  {
   "cell_type": "code",
   "execution_count": null,
   "metadata": {},
   "outputs": [],
   "source": []
  }
 ],
 "metadata": {
  "kernelspec": {
   "display_name": "Python 3",
   "language": "python",
   "name": "python3"
  },
  "language_info": {
   "codemirror_mode": {
    "name": "ipython",
    "version": 3
   },
   "file_extension": ".py",
   "mimetype": "text/x-python",
   "name": "python",
   "nbconvert_exporter": "python",
   "pygments_lexer": "ipython3",
   "version": "3.6.0"
  }
 },
 "nbformat": 4,
 "nbformat_minor": 2
}
