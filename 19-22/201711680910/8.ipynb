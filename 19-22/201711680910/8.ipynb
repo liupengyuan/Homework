{
 "cells": [
  {
   "cell_type": "code",
   "execution_count": 1,
   "metadata": {},
   "outputs": [
    {
     "name": "stdout",
     "output_type": "stream",
     "text": [
      "登峰造极\n",
      "请进行成语接龙极乐世界\n",
      "风尘仆仆\n",
      "10 0\n"
     ]
    }
   ],
   "source": [
    "import random\n",
    "fh = open(r'c:\\temp\\成语大全.txt')\n",
    "text = fh.read()\n",
    "fh.close()\n",
    "text = text.replace('、','')\n",
    "start = 0\n",
    "end = 0\n",
    "idioms = []\n",
    "while end < len(text):\n",
    "    if text[end] == '\\n':\n",
    "        idioms.append(text[start:end])\n",
    "        start = end + 1\n",
    "    end += 1\n",
    "def game():\n",
    "    grade_p = 0\n",
    "    grade_c = 0\n",
    "    idioms = text.split()\n",
    "    for i in range(len(idioms)):\n",
    "        idiom = random.choice(idioms)\n",
    "    print(idiom)\n",
    "    pass_idiom=input('请进行成语接龙') \n",
    "    if pass_idiom[0] == idiom[len(idiom)-1] and pass_idiom in idioms:\n",
    "        grade_p+=10\n",
    "        for i in range(len(idioms)):\n",
    "            idiom=random.choice(idioms)\n",
    "            print(idiom)\n",
    "            if idiom[len(idiom)-1] == pass_idiom[0]:\n",
    "                grade_c+=10\n",
    "                return game()\n",
    "            else :\n",
    "                break\n",
    "    print(grade_p,grade_c)\n",
    "game()"
   ]
  },
  {
   "cell_type": "code",
   "execution_count": null,
   "metadata": {},
   "outputs": [],
   "source": []
  },
  {
   "cell_type": "code",
   "execution_count": null,
   "metadata": {},
   "outputs": [],
   "source": []
  },
  {
   "cell_type": "code",
   "execution_count": null,
   "metadata": {},
   "outputs": [],
   "source": []
  },
  {
   "cell_type": "code",
   "execution_count": null,
   "metadata": {},
   "outputs": [],
   "source": []
  },
  {
   "cell_type": "code",
   "execution_count": null,
   "metadata": {},
   "outputs": [],
   "source": []
  }
 ],
 "metadata": {
  "kernelspec": {
   "display_name": "Python 3",
   "language": "python",
   "name": "python3"
  },
  "language_info": {
   "codemirror_mode": {
    "name": "ipython",
    "version": 3
   },
   "file_extension": ".py",
   "mimetype": "text/x-python",
   "name": "python",
   "nbconvert_exporter": "python",
   "pygments_lexer": "ipython3",
   "version": "3.6.0"
  }
 },
 "nbformat": 4,
 "nbformat_minor": 2
}
