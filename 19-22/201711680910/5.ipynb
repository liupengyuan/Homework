{
 "cells": [
  {
   "cell_type": "markdown",
   "metadata": {},
   "source": [
    "# 练习 1：写函数，求n个随机整数均值的平方根，整数范围在m与k之间（n,m,k由用户输入）。"
   ]
  },
  {
   "cell_type": "code",
   "execution_count": 3,
   "metadata": {},
   "outputs": [
    {
     "name": "stdout",
     "output_type": "stream",
     "text": [
      "请输入整数下限，回车结束10\n",
      "请输入整数上限，回车结束100\n",
      "输入整数个数5\n",
      "3.8987177379235853\n"
     ]
    }
   ],
   "source": [
    "m=int(input(\"请输入整数下限，回车结束\"))\n",
    "k=int(input(\"请输入整数上限，回车结束\"))\n",
    "def sum(e):\n",
    "    import random\n",
    "    number=random.randint(m,k)\n",
    "    i=0\n",
    "    total=0\n",
    "    if i<e:\n",
    "        i+=1\n",
    "        total+=number\n",
    "    return total\n",
    "n=int(input(\"输入整数个数\"))\n",
    "print((sum(n)/n)**(1/2))\n",
    "    \n",
    "    "
   ]
  },
  {
   "cell_type": "markdown",
   "metadata": {},
   "source": [
    "# 练习 2：写函数，共n个随机整数，整数范围在m与k之间，（n,m,k由用户输入）。求1：西格玛log(随机整数)，2：西格玛1/log(随机整数)"
   ]
  },
  {
   "cell_type": "code",
   "execution_count": 11,
   "metadata": {},
   "outputs": [
    {
     "name": "stdout",
     "output_type": "stream",
     "text": [
      "请输入整数下限，回车结束10\n",
      "请输入整数上限，回车结束100\n",
      "输入整数个数5\n",
      "(3.6109179126442243, 0.2769378934088574)\n"
     ]
    }
   ],
   "source": [
    "m=int(input(\"请输入整数下限，回车结束\"))\n",
    "k=int(input(\"请输入整数上限，回车结束\"))\n",
    "def new(e):\n",
    "    import random\n",
    "    import math\n",
    "    number=random.randint(m,k)\n",
    "    num=math.log(number)\n",
    "    total=0\n",
    "    t=0\n",
    "    i=0\n",
    "    nu=1/num\n",
    "    if i<e:\n",
    "        i+=1\n",
    "        total+=num\n",
    "        t+=nu\n",
    "    return total,t\n",
    "n=int(input(\"输入整数个数\"))\n",
    "print(new(n))\n",
    "    \n"
   ]
  },
  {
   "cell_type": "markdown",
   "metadata": {},
   "source": [
    "# 练习 3：写函数，求s=a+aa+aaa+aaaa+aa...a的值，其中a是[1,9]之间的随机整数。例如2+22+222+2222+22222(此时共有5个数相加)，几个数相加由键盘输入。"
   ]
  },
  {
   "cell_type": "code",
   "execution_count": 17,
   "metadata": {},
   "outputs": [
    {
     "name": "stdout",
     "output_type": "stream",
     "text": [
      "输入整数个数4\n",
      "2468\n"
     ]
    }
   ],
   "source": [
    "import random\n",
    "def mine(e):\n",
    "    a=random.randint(1,9)\n",
    "    i=0\n",
    "    k=0\n",
    "    total=0\n",
    "    while i<e:\n",
    "        \n",
    "        i+=1\n",
    "        k+=10**(i-1)\n",
    "        total+=a*k\n",
    "    return total\n",
    "\n",
    "n=int(input(\"输入整数个数\"))\n",
    "print(mine(n))\n",
    "        \n",
    "        \n",
    "        \n",
    "    "
   ]
  },
  {
   "cell_type": "markdown",
   "metadata": {},
   "source": [
    "# 挑战性练习：仿照task5，将猜数游戏改成由用户随便选择一个整数，让计算机来猜测的猜数游戏，要求和task5中人猜测的方法类似，但是人机角色对换，由人来判断猜测是大、小还是相等，请写出完整的猜数游戏。"
   ]
  },
  {
   "cell_type": "code",
   "execution_count": 26,
   "metadata": {},
   "outputs": [
    {
     "name": "stdout",
     "output_type": "stream",
     "text": [
      "请输入一个数作为神秘整数，回车结束5\n",
      "请输入一个整数作为下限，回车结束2\n",
      "请输入一个整数作为上限，回车结束10\n",
      "写出你想猜的最大次数5\n",
      "猜想是1大于、2小于还是3等于3\n",
      "一共可猜 5 次\n",
      "你已经猜了 1 次\n",
      "win!\n"
     ]
    }
   ],
   "source": [
    "def guess_game():\n",
    "    import random\n",
    "    n=int(input(\"请输入一个数作为神秘整数，回车结束\"))\n",
    "    m=int(input(\"请输入一个整数作为下限，回车结束\"))\n",
    "    k=int(input(\"请输入一个整数作为上限，回车结束\"))\n",
    "    guess_number=random.randint(m,k)\n",
    "    maxt=int(input(\"写出你想猜的最大次数\"))\n",
    "    guess_times=0\n",
    "    while guess_times<maxt:\n",
    "        guess=int(input(\"猜想是1大于、2小于还是3等于\"))\n",
    "        guess_times +=1\n",
    "        print(\"一共可猜\",maxt,\"次\")\n",
    "        print(\"你已经猜了\",guess_times,\"次\")\n",
    "        if guess_number == n and guess==3:\n",
    "            print(\"win!\")\n",
    "            break\n",
    "        elif guess_number<n and guess==2:\n",
    "            print(\"win!\")\n",
    "            break\n",
    "        elif guess_number>n and guess==3:\n",
    "            print(\"win!\")\n",
    "            break\n",
    "        else:\n",
    "            print(\"错误\")\n",
    "guess_game()\n",
    "    \n",
    "        \n",
    "    "
   ]
  },
  {
   "cell_type": "code",
   "execution_count": null,
   "metadata": {},
   "outputs": [],
   "source": []
  }
 ],
 "metadata": {
  "kernelspec": {
   "display_name": "Python 3",
   "language": "python",
   "name": "python3"
  },
  "language_info": {
   "codemirror_mode": {
    "name": "ipython",
    "version": 3
   },
   "file_extension": ".py",
   "mimetype": "text/x-python",
   "name": "python",
   "nbconvert_exporter": "python",
   "pygments_lexer": "ipython3",
   "version": "3.6.0"
  }
 },
 "nbformat": 4,
 "nbformat_minor": 2
}
