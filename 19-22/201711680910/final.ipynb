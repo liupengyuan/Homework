{
 "cells": [
  {
   "cell_type": "code",
   "execution_count": 15,
   "metadata": {},
   "outputs": [
    {
     "name": "stdout",
     "output_type": "stream",
     "text": [
      "                  * ***** *\n",
      "                * * ***** * *\n",
      "              * * * ***** * * *\n",
      "            * * * * ***** * * * *\n",
      "          * * * * * ***** * * * * *\n"
     ]
    }
   ],
   "source": [
    "#1\n",
    "for i in range(1,6):\n",
    "    print('  '*(10-i) + '* '*i + '*'*5 + ' *'*i,end = '')\n",
    "    print()"
   ]
  },
  {
   "cell_type": "code",
   "execution_count": 23,
   "metadata": {},
   "outputs": [
    {
     "name": "stdout",
     "output_type": "stream",
     "text": [
      "请输入m的值3\n",
      "请输入n的值4\n",
      "2\n"
     ]
    }
   ],
   "source": [
    "#2    \n",
    "m = int(input('请输入m的值'))\n",
    "n = int(input('请输入n的值'))\n",
    "def A(m,n):\n",
    "    if m == 0:\n",
    "        print(n+1)\n",
    "    elif m > 0 and n == 0:\n",
    "        m = m -1\n",
    "        return A(m,n)\n",
    "    elif m > 0 and n > 0:\n",
    "        m = m-1\n",
    "        n = A(m,n-1)\n",
    "\n",
    "A(m,n)\n",
    "        \n",
    "        \n",
    "    "
   ]
  },
  {
   "cell_type": "code",
   "execution_count": 36,
   "metadata": {},
   "outputs": [
    {
     "name": "stdout",
     "output_type": "stream",
     "text": [
      "1 * 21 =\n",
      "1 * 11 =\n",
      "1 * 22 =\n",
      "2 * 17 =\n",
      "2 + 13 =\n",
      "3 + 22 =\n",
      "3 * 15 =\n",
      "3 + 17 =\n",
      "2 + 19 =\n",
      "2 + 14 =\n",
      "2 * 21 =\n",
      "1 + 21 =\n",
      "3 + 8 =\n",
      "1 + 18 =\n",
      "1 * 1 =\n",
      "1 * 12 =\n"
     ]
    }
   ],
   "source": [
    "#3 (a)\n",
    "import random\n",
    "def exam():\n",
    "    sin = ['+','-','*','/']\n",
    "    n = 0\n",
    "    while n <= 15:\n",
    "        a = random.randint(1,3)\n",
    "        b = random.randint(1,25)\n",
    "        sy = random.choice(sin)\n",
    "        if sy == sin[1]:\n",
    "            result = a - b\n",
    "            if result > 0:\n",
    "                print(a,sy,b,'=')\n",
    "            else:\n",
    "                n -= 1\n",
    "        elif sy == sin[3]:\n",
    "            result = a/b\n",
    "            if result % 1 == 0:\n",
    "                print(a,sy,b,'=')\n",
    "            else:\n",
    "                n -= 1\n",
    "        else:\n",
    "            print(a,sy,b,'=')\n",
    "        n+=1\n",
    "        \n",
    "exam()\n",
    "    "
   ]
  },
  {
   "cell_type": "code",
   "execution_count": 6,
   "metadata": {},
   "outputs": [
    {
     "ename": "IndentationError",
     "evalue": "expected an indented block (<ipython-input-6-b67c96f65e47>, line 41)",
     "output_type": "error",
     "traceback": [
      "\u001b[1;36m  File \u001b[1;32m\"<ipython-input-6-b67c96f65e47>\"\u001b[1;36m, line \u001b[1;32m41\u001b[0m\n\u001b[1;33m    total += 5\u001b[0m\n\u001b[1;37m        ^\u001b[0m\n\u001b[1;31mIndentationError\u001b[0m\u001b[1;31m:\u001b[0m expected an indented block\n"
     ]
    }
   ],
   "source": [
    "#3 (b)\n",
    "import random\n",
    "def exam():\n",
    "    sin = ['+','-','*','/']\n",
    "    n = 0\n",
    "    list = []\n",
    "    while n <= 15:\n",
    "        a = random.randint(1,3)\n",
    "        b = random.randint(1,25)\n",
    "        sy = random.choice(sin)\n",
    "        if sy == sin[1]:\n",
    "            result = a - b\n",
    "            if result > 0:\n",
    "                list.append[result]\n",
    "                print(a,sy,b,'=')\n",
    "            else:\n",
    "                n -= 1\n",
    "        elif sy == sin[3]:\n",
    "            result = a/b\n",
    "            if result % 1 == 0:\n",
    "                list.append[result]\n",
    "                print(a,sy,b,'=')\n",
    "            else:\n",
    "                n -= 1\n",
    "        elif sy == sin[0]:\n",
    "            result = a + b\n",
    "            list.append[result]\n",
    "            print(a,sy,b,'=')\n",
    "        else:\n",
    "            result = a * b\n",
    "            list.append[result]\n",
    "            print(a,sy,b,'=')\n",
    "        n+=1\n",
    "    res = input('请一次性输入答案，并用逗号间隔开')\n",
    "    numbers = text.replace('、','')\n",
    "    number = text.split('\\n')\n",
    "    total = 0\n",
    "    i = 0\n",
    "    while i <=15:\n",
    "        if  res[i] == list[i]:\n",
    "        total += 5\n",
    "        i+=1\n",
    "    print('最终得分是：',total)        \n",
    "exam()"
   ]
  },
  {
   "cell_type": "code",
   "execution_count": 3,
   "metadata": {},
   "outputs": [
    {
     "name": "stdout",
     "output_type": "stream",
     "text": [
      "请输入题目数量4\n",
      "请输入第一个数字2\n",
      "请从上表中选择运算符号并输入+\n",
      "请输入第二个数字2\n",
      "2 + 2 =\n",
      "结果是: 4\n",
      "请输入第一个数字3\n",
      "请从上表中选择运算符号并输入-\n",
      "请输入第二个数字1\n",
      "3 - 1 =\n",
      "结果是: 2\n",
      "请输入第一个数字3\n",
      "请从上表中选择运算符号并输入*\n",
      "请输入第二个数字4\n",
      "3 * 4 =\n",
      "结果是: 12\n",
      "请输入第一个数字4\n",
      "请从上表中选择运算符号并输入\\\n",
      "请输入第二个数字2\n",
      "4 \\ 2 =\n",
      "结果是： 2.0\n",
      "最终得分： 30\n"
     ]
    }
   ],
   "source": [
    "#3 (c)\n",
    "n = int(input('请输入题目数量'))\n",
    "i = 0\n",
    "total = 0\n",
    "sin = ['+','-','*','/']\n",
    "while i < n:\n",
    "    a = int(input('请输入第一个数字'))\n",
    "    sy = input('请从上表中选择运算符号并输入')\n",
    "    b = int(input('请输入第二个数字'))\n",
    "    if sy == sin[0]:\n",
    "        print(a,sy,b,'=')\n",
    "        print('结果是:',a+b)\n",
    "        total+=5\n",
    "        i+=1\n",
    "    elif sy == sin[1]:\n",
    "        result = a-b\n",
    "        if result - 1 > 0:\n",
    "            print(a,sy,b,'=')\n",
    "            print('结果是:',a-b)\n",
    "            total += 5\n",
    "            i+=1\n",
    "        else:\n",
    "            i -= 1\n",
    "    elif sy == sin[2]:\n",
    "        print(a,sy,b,'=')\n",
    "        print('结果是:',a*b)\n",
    "        total += 10\n",
    "        i+=1\n",
    "    else:\n",
    "        result = a/b\n",
    "        if result%1 == 0:\n",
    "            print(a,sy,b,'=')\n",
    "            print('结果是：',a/b)\n",
    "            total += 10\n",
    "            i+=1\n",
    "        else:\n",
    "            i -= 1\n",
    "print('最终得分：',total)"
   ]
  },
  {
   "cell_type": "code",
   "execution_count": 8,
   "metadata": {},
   "outputs": [
    {
     "ename": "TypeError",
     "evalue": "object of type '_io.TextIOWrapper' has no len()",
     "output_type": "error",
     "traceback": [
      "\u001b[1;31m---------------------------------------------------------------------------\u001b[0m",
      "\u001b[1;31mTypeError\u001b[0m                                 Traceback (most recent call last)",
      "\u001b[1;32m<ipython-input-8-0da0302fc741>\u001b[0m in \u001b[0;36m<module>\u001b[1;34m()\u001b[0m\n\u001b[0;32m      2\u001b[0m \u001b[1;32mwith\u001b[0m \u001b[0mopen\u001b[0m\u001b[1;33m(\u001b[0m\u001b[1;34mr'e:\\temp\\成语大全_utf8.txt'\u001b[0m\u001b[1;33m,\u001b[0m\u001b[0mencoding\u001b[0m \u001b[1;33m=\u001b[0m \u001b[1;34m'utf-8'\u001b[0m\u001b[1;33m)\u001b[0m \u001b[1;32mas\u001b[0m \u001b[0mf\u001b[0m\u001b[1;33m:\u001b[0m\u001b[1;33m\u001b[0m\u001b[0m\n\u001b[0;32m      3\u001b[0m     \u001b[0mA\u001b[0m \u001b[1;33m=\u001b[0m \u001b[1;33m[\u001b[0m\u001b[1;33m]\u001b[0m\u001b[1;33m\u001b[0m\u001b[0m\n\u001b[1;32m----> 4\u001b[1;33m     \u001b[0mprint\u001b[0m\u001b[1;33m(\u001b[0m\u001b[0mlen\u001b[0m\u001b[1;33m(\u001b[0m\u001b[0mf\u001b[0m\u001b[1;33m)\u001b[0m\u001b[1;33m)\u001b[0m\u001b[1;33m\u001b[0m\u001b[0m\n\u001b[0m",
      "\u001b[1;31mTypeError\u001b[0m: object of type '_io.TextIOWrapper' has no len()"
     ]
    }
   ],
   "source": [
    "#4 (a)\n",
    "with open(r'e:\\temp\\成语大全_utf8.txt',encoding = 'utf-8') as f:\n",
    "    A = []\n",
    "    \n"
   ]
  },
  {
   "cell_type": "code",
   "execution_count": 1,
   "metadata": {},
   "outputs": [
    {
     "ename": "KeyError",
     "evalue": "'满腹经纶'",
     "output_type": "error",
     "traceback": [
      "\u001b[1;31m---------------------------------------------------------------------------\u001b[0m",
      "\u001b[1;31mKeyError\u001b[0m                                  Traceback (most recent call last)",
      "\u001b[1;32m<ipython-input-1-9e66ccbb5f21>\u001b[0m in \u001b[0;36m<module>\u001b[1;34m()\u001b[0m\n\u001b[0;32m     35\u001b[0m     \u001b[1;32mreturn\u001b[0m \u001b[0midioms_freq_dict\u001b[0m\u001b[1;33m\u001b[0m\u001b[0m\n\u001b[0;32m     36\u001b[0m \u001b[0midioms_freq_dict\u001b[0m \u001b[1;33m=\u001b[0m \u001b[1;33m{\u001b[0m\u001b[1;33m}\u001b[0m\u001b[1;33m\u001b[0m\u001b[0m\n\u001b[1;32m---> 37\u001b[1;33m \u001b[0mcount_idioms_freq_dict\u001b[0m\u001b[1;33m(\u001b[0m\u001b[0midioms\u001b[0m\u001b[1;33m)\u001b[0m\u001b[1;33m\u001b[0m\u001b[0m\n\u001b[0m",
      "\u001b[1;32m<ipython-input-1-9e66ccbb5f21>\u001b[0m in \u001b[0;36mcount_idioms_freq_dict\u001b[1;34m(numbers)\u001b[0m\n\u001b[0;32m     29\u001b[0m     \u001b[1;32mfor\u001b[0m \u001b[0midiom\u001b[0m \u001b[1;32min\u001b[0m \u001b[0midioms\u001b[0m\u001b[1;33m:\u001b[0m\u001b[1;33m\u001b[0m\u001b[0m\n\u001b[0;32m     30\u001b[0m         \u001b[1;32mif\u001b[0m \u001b[0midiom\u001b[0m \u001b[1;32min\u001b[0m \u001b[0mtable\u001b[0m\u001b[1;33m:\u001b[0m\u001b[1;33m\u001b[0m\u001b[0m\n\u001b[1;32m---> 31\u001b[1;33m             \u001b[0midioms_freq_dict\u001b[0m\u001b[1;33m[\u001b[0m\u001b[0midiom\u001b[0m\u001b[1;33m]\u001b[0m \u001b[1;33m+=\u001b[0m \u001b[1;36m1\u001b[0m\u001b[1;33m\u001b[0m\u001b[0m\n\u001b[0m\u001b[0;32m     32\u001b[0m         \u001b[1;32melse\u001b[0m\u001b[1;33m:\u001b[0m\u001b[1;33m\u001b[0m\u001b[0m\n\u001b[0;32m     33\u001b[0m             \u001b[0midioms_freq_dict\u001b[0m\u001b[1;33m[\u001b[0m\u001b[0midiom\u001b[0m\u001b[1;33m]\u001b[0m \u001b[1;33m=\u001b[0m \u001b[1;36m1\u001b[0m\u001b[1;33m\u001b[0m\u001b[0m\n",
      "\u001b[1;31mKeyError\u001b[0m: '满腹经纶'"
     ]
    }
   ],
   "source": [
    "#4 (b)\n",
    "def get_word_table(filename):\n",
    "    word_table = []\n",
    "    with open(filename) as f:\n",
    "        text = f.read()\n",
    "    words = [word.split('/')[0] for word in text.split()]\n",
    "    for word in words:\n",
    "        if word not in word_table :\n",
    "            word_table.append(word)\n",
    "    return word_table\n",
    "filename = r'e:\\temp\\test_re_gbk.txt'\n",
    "table = get_word_table(filename)\n",
    "fh = open(r'e:\\temp\\成语.txt')\n",
    "text = fh.read()\n",
    "fh.close()\n",
    "text = text.replace('、','')\n",
    "start = 0\n",
    "end = 0\n",
    "\n",
    "idioms = []\n",
    "while end < len(text):\n",
    "    if text[end] == '\\n':\n",
    "        idioms.append(text[start:end])\n",
    "        start = end + 1\n",
    "    end += 1\n",
    "def count_idioms_freq_dict(numbers):\n",
    "    numbers_freq_dict = {}\n",
    "    \n",
    "    for idiom in idioms:\n",
    "        if idiom in table: \n",
    "            idioms_freq_dict[idiom] += 1\n",
    "        else:                       \n",
    "            idioms_freq_dict[idiom] = 1\n",
    "                    \n",
    "    return idioms_freq_dict\n",
    "idioms_freq_dict = {}\n",
    "count_idioms_freq_dict(idioms)"
   ]
  },
  {
   "cell_type": "code",
   "execution_count": 7,
   "metadata": {},
   "outputs": [],
   "source": [
    "#4 (c)\n",
    "def get_word_table(filename):\n",
    "    word_table = []\n",
    "    with open(filename) as f:\n",
    "        text = f.read()\n",
    "    words = [word.split('/')[0] for word in text.split()]\n",
    "    for word in words:\n",
    "        if word not in word_table :\n",
    "            word_table.append(word)\n",
    "    return word_table\n",
    "filename = r'e:\\temp\\test_re_gbk.txt'\n",
    "table = get_word_table(filename)\n",
    "\n",
    "from collections import Counter\n",
    "\n",
    "def count_words_freq_dict(filename):\n",
    "    words_freq_dict = Counter()\n",
    "    \n",
    "    with open(filename) as f:\n",
    "        for line in f:\n",
    "            words_freq_dict.update([word.split('/')[0] for word in line.split()])\n",
    "    return words_freq_dict\n",
    "filename = r'e:\\temp\\test_re_gbk.txt'"
   ]
  },
  {
   "cell_type": "code",
   "execution_count": null,
   "metadata": {},
   "outputs": [],
   "source": [
    "#(d)\n"
   ]
  },
  {
   "cell_type": "code",
   "execution_count": 15,
   "metadata": {},
   "outputs": [
    {
     "name": "stdout",
     "output_type": "stream",
     "text": [
      "37802\n",
      "759\n"
     ]
    }
   ],
   "source": [
    "#4(e)\n",
    "def get_word_table(filename):\n",
    "    word_table = []\n",
    "    with open(filename) as f:\n",
    "        text = f.read()\n",
    "    words = [word.split('/')[0] for word in text.split()]\n",
    "    for word in words:\n",
    "        if word not in word_table:\n",
    "            word_table.append(word)\n",
    "    return word_table\n",
    "filename = r'e:\\temp\\test_re_gbk.txt'\n",
    "table = get_word_table(filename)\n",
    "print(len(table))\n",
    "fh = open(r'e:\\temp\\成语.txt')\n",
    "text = fh.read()\n",
    "fh.close()\n",
    "text = text.replace('、','')\n",
    "start = 0\n",
    "end = 0\n",
    "idioms = []\n",
    "while end < len(text):\n",
    "    if text[end] == '\\n':\n",
    "        idioms.append(text[start:end])\n",
    "        start = end + 1\n",
    "    end += 1\n",
    "print(len(idioms))"
   ]
  },
  {
   "cell_type": "code",
   "execution_count": 8,
   "metadata": {},
   "outputs": [
    {
     "ename": "FileNotFoundError",
     "evalue": "[Errno 2] No such file or directory: 'c:\\\\temp\\\\成语大全.txt'",
     "output_type": "error",
     "traceback": [
      "\u001b[1;31m---------------------------------------------------------------------------\u001b[0m",
      "\u001b[1;31mFileNotFoundError\u001b[0m                         Traceback (most recent call last)",
      "\u001b[1;32m<ipython-input-8-c97d8bfe15e5>\u001b[0m in \u001b[0;36m<module>\u001b[1;34m()\u001b[0m\n\u001b[0;32m     14\u001b[0m \u001b[0mtable\u001b[0m \u001b[1;33m=\u001b[0m \u001b[0mget_word_table\u001b[0m\u001b[1;33m(\u001b[0m\u001b[0mfilename\u001b[0m\u001b[1;33m)\u001b[0m\u001b[1;33m\u001b[0m\u001b[0m\n\u001b[0;32m     15\u001b[0m \u001b[1;33m\u001b[0m\u001b[0m\n\u001b[1;32m---> 16\u001b[1;33m \u001b[0mfh\u001b[0m \u001b[1;33m=\u001b[0m \u001b[0mopen\u001b[0m\u001b[1;33m(\u001b[0m\u001b[1;34mr'c:\\temp\\成语大全.txt'\u001b[0m\u001b[1;33m)\u001b[0m\u001b[1;33m\u001b[0m\u001b[0m\n\u001b[0m\u001b[0;32m     17\u001b[0m \u001b[0mtext\u001b[0m \u001b[1;33m=\u001b[0m \u001b[0mfh\u001b[0m\u001b[1;33m.\u001b[0m\u001b[0mread\u001b[0m\u001b[1;33m(\u001b[0m\u001b[1;33m)\u001b[0m\u001b[1;33m\u001b[0m\u001b[0m\n\u001b[0;32m     18\u001b[0m \u001b[0mfh\u001b[0m\u001b[1;33m.\u001b[0m\u001b[0mclose\u001b[0m\u001b[1;33m(\u001b[0m\u001b[1;33m)\u001b[0m\u001b[1;33m\u001b[0m\u001b[0m\n",
      "\u001b[1;31mFileNotFoundError\u001b[0m: [Errno 2] No such file or directory: 'c:\\\\temp\\\\成语大全.txt'"
     ]
    }
   ],
   "source": [
    "#4 (f)\n",
    "import random\n",
    "def get_word_table(filename):\n",
    "    word_table = []\n",
    "    with open(filename) as f:\n",
    "        text = f.read()\n",
    "    words = [word.split('/')[0] for word in text.split()]\n",
    "    for word in words:\n",
    "        if word not in word_table and len(word) == 2:\n",
    "            word_table.append(word)\n",
    "    return word_table\n",
    "\n",
    "filename = r'e:\\temp\\test_re_gbk.txt'\n",
    "table = get_word_table(filename)\n",
    "\n",
    "fh = open(r'c:\\temp\\成语大全.txt')\n",
    "text = fh.read()\n",
    "fh.close()\n",
    "text = text.replace('、','')\n",
    "start = 0\n",
    "end = 0\n",
    "idioms = []\n",
    "while end < len(text):\n",
    "    if text[end] == '\\n':\n",
    "        idioms.append(text[start:end])\n",
    "        start = end + 1\n",
    "    end += 1\n",
    "def game():\n",
    "    idioms = text.split()\n",
    "    idiom_p = input('请输入一个成语库中的成语进行接龙') \n",
    "    word = random.choice(table)\n",
    "    if word[0] == idiom_p[len(idiom_p)-1] :\n",
    "        print (word)\n",
    "    else:\n",
    "        return\n",
    "    idiom_p = input('请输入一个成语库中的成语进行接龙') \n",
    "    if idiom_p[0] == word[1]:\n",
    "        return game()\n",
    "    else:\n",
    "        break\n",
    "game()"
   ]
  },
  {
   "cell_type": "code",
   "execution_count": null,
   "metadata": {},
   "outputs": [],
   "source": []
  }
 ],
 "metadata": {
  "kernelspec": {
   "display_name": "Python 3",
   "language": "python",
   "name": "python3"
  },
  "language_info": {
   "codemirror_mode": {
    "name": "ipython",
    "version": 3
   },
   "file_extension": ".py",
   "mimetype": "text/x-python",
   "name": "python",
   "nbconvert_exporter": "python",
   "pygments_lexer": "ipython3",
   "version": "3.6.0"
  }
 },
 "nbformat": 4,
 "nbformat_minor": 2
}
