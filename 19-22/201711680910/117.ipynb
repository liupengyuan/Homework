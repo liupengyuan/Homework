{
 "cells": [
  {
   "cell_type": "code",
   "execution_count": 9,
   "metadata": {
    "collapsed": false
   },
   "outputs": [
    {
     "name": "stdout",
     "output_type": "stream",
     "text": [
      "输入数字个数5\n",
      "输入一个比n大的整数500\n",
      "输入一个整数10\n",
      "7.0710678118654755\n"
     ]
    }
   ],
   "source": [
    "import random\n",
    "m=int(input(\"输入数字个数\"))\n",
    "k=int(input(\"输入一个比n大的整数\"))\n",
    "def star(e):\n",
    "    i=0\n",
    "    t=0\n",
    "    a=0\n",
    "    while i<m:\n",
    "        a=random.randint(n,e)\n",
    "        t+=a\n",
    "        i+=1 \n",
    "    return t\n",
    "n=int(input(\"输入一个整数\"))\n",
    "\n",
    "print(star(n)**(1/2))"
   ]
  },
  {
   "cell_type": "code",
   "execution_count": null,
   "metadata": {
    "collapsed": true
   },
   "outputs": [],
   "source": []
  }
 ],
 "metadata": {
  "kernelspec": {
   "display_name": "Python 3",
   "language": "python",
   "name": "python3"
  }
 },
 "nbformat": 4,
 "nbformat_minor": 2
}
