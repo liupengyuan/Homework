{
 "cells": [
  {
   "cell_type": "markdown",
   "metadata": {},
   "source": [
    "# 写函数，返回某个元素/对象在一个list中的位置，如果不在，则返回-1."
   ]
  },
  {
   "cell_type": "code",
   "execution_count": 2,
   "metadata": {},
   "outputs": [
    {
     "name": "stdout",
     "output_type": "stream",
     "text": [
      "请输入一个整数5\n",
      "位置为 4\n"
     ]
    }
   ],
   "source": [
    "number=[1,2,3,4,5,6,7,8]\n",
    "n=int(input('请输入一个整数'))\n",
    "if n in number:\n",
    "    i=0\n",
    "    while i<len(number):\n",
    "        if n==number[i]:\n",
    "            print(\"位置为\",i)\n",
    "            break\n",
    "        else:\n",
    "            i+=1\n",
    "else:\n",
    "    print('-1')"
   ]
  },
  {
   "cell_type": "markdown",
   "metadata": {},
   "source": [
    "# 写函数，可将两个相同长度的list，间隔插入，生成新的list。例如：给两个list，a=[1,2,3,4], b=[5,6,7,8]。则可以生成：[1,5,2,6,3,7,4,8]。"
   ]
  },
  {
   "cell_type": "code",
   "execution_count": 20,
   "metadata": {},
   "outputs": [
    {
     "name": "stdout",
     "output_type": "stream",
     "text": [
      "[1, 5, 2, 6, 3, 7, 4, 8]\n"
     ]
    }
   ],
   "source": [
    "number=[1,2,3,4]\n",
    "num=[5,6,7,8]\n",
    "numbers=[]\n",
    "i=0\n",
    "n=0\n",
    "while i<len(number) and n<len(num):\n",
    "    numbers.append(number[i])\n",
    "    numbers.append(num[n])\n",
    "    i+=1\n",
    "    n+=1\n",
    "print(numbers)"
   ]
  },
  {
   "cell_type": "markdown",
   "metadata": {},
   "source": [
    "# 写函数，可求两个向量的夹角余弦值，向量可放在list中。主程序调用该函数。"
   ]
  },
  {
   "cell_type": "code",
   "execution_count": 4,
   "metadata": {},
   "outputs": [
    {
     "name": "stdout",
     "output_type": "stream",
     "text": [
      "请输入一个整数作为第一个横坐标，回车结束2\n",
      "请输入一个整数作为第一个纵坐标，回车结束3\n",
      "请输入一个整数作为第二个横坐标，回车结束4\n",
      "请输入一个整数作为第二个纵坐标，回车结束5\n",
      "余弦为： 0.882009737174476\n"
     ]
    }
   ],
   "source": [
    "x=int(input('请输入一个整数作为第一个横坐标，回车结束'))\n",
    "y=int(input('请输入一个整数作为第一个纵坐标，回车结束'))\n",
    "list1=[x,y]\n",
    "m=int(input('请输入一个整数作为第二个横坐标，回车结束'))\n",
    "n=int(input('请输入一个整数作为第二个纵坐标，回车结束'))\n",
    "list2=[m,n]\n",
    "\n",
    "i=x*m+y*n\n",
    "j=(x**2+m**2)**(1/2)\n",
    "k=(y**2+n**2)**(1/2)\n",
    "print('余弦为：',i/(j*k))"
   ]
  },
  {
   "cell_type": "markdown",
   "metadata": {},
   "source": [
    "# 挑战性习题：python语言老师为了激励学生学python，自费买了100个完全相同的Macbook Pro，分给三个班级，每个班级至少分5个，用穷举法计算共有多少种分法？"
   ]
  },
  {
   "cell_type": "code",
   "execution_count": 13,
   "metadata": {},
   "outputs": [
    {
     "name": "stdout",
     "output_type": "stream",
     "text": [
      "0\n"
     ]
    }
   ],
   "source": [
    "def mine():\n",
    "    n=0\n",
    "    for i in (5,91):\n",
    "        for j in (5,91):\n",
    "            for k in (5,91):\n",
    "                if i+j+k==100:\n",
    "                    n+=1\n",
    "mine()\n",
    "print(n)"
   ]
  },
  {
   "cell_type": "code",
   "execution_count": null,
   "metadata": {},
   "outputs": [],
   "source": []
  }
 ],
 "metadata": {
  "kernelspec": {
   "display_name": "Python 3",
   "language": "python",
   "name": "python3"
  },
  "language_info": {
   "codemirror_mode": {
    "name": "ipython",
    "version": 3
   },
   "file_extension": ".py",
   "mimetype": "text/x-python",
   "name": "python",
   "nbconvert_exporter": "python",
   "pygments_lexer": "ipython3",
   "version": "3.6.0"
  }
 },
 "nbformat": 4,
 "nbformat_minor": 2
}
