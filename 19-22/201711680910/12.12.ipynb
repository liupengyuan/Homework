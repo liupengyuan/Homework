{
 "cells": [
  {
   "cell_type": "code",
   "execution_count": 6,
   "metadata": {},
   "outputs": [
    {
     "name": "stdout",
     "output_type": "stream",
     "text": [
      "庭富丁叶亦小子雨非露 \n",
      "丧其炼虫从夜居发娲桀内之雁形愎玉筹梁巾淑 \n",
      "花睛泰任能竽沓醉冰克高冲食豹穷塞荆眸扮典谈罪燕铩愚择渔万踏阿 \n",
      "若刺儆梁颖话备燎狂色噤尘翩盲占意雷去狐树猜侃夫唳非子乐魉皆纵锦优刺肉贻猴学身青异 \n",
      "睚凉囊若林岂舟禹倦庭斯建维寒用侃牛于气荆占插耿韦镜粉克乘校所络渝九可狱蹴舌菲会枯黄逑衷璞璞打生威头十 \n",
      "戛处向之婚位黔趋同波永柔割中委岸男瘁凉置场天焚诚囊唯黄裹泾帝体猴回乾苦惮倾童也围穴永逝加幽高听噤偷唯绝境破聚名饴昙绑藉湖 \n",
      "泰货图齿犹惶泪境者逐负岸辣仆填狗择娇点犀龙殄明首逐红仆喘走扮罗栋户辟六界竞陷如虑蛙川蓉抛沁婚陈焚雨避财司素柔窠偷甘巫洋狭缺胆亢逑恃懈报提草预 \n",
      "亲竽续楼讽枪约翅头聋因价曾本锦锲交矫梅枉翩皆禽血果汗突战加妻巢悛念锦饴穴豁唯惑鼓掠楼萍沙上呈窕按所篇反争借沉鬓吹苗立杜诚枯贤莫丝电新虚关青筚胡临满别简缨豹暮移赤 \n",
      "友禹觥阔母箭春竭夺打头晋几侃身数漓擒梁羊尾黔渭斧己诨回兵益宾所回白晚鸡及渐图瓴君中蝉欣爱臼鹰颠迹胆淘真四纸维缝循杞狮乾及欢鬓杯舌碑犀箭忧犬敏花长劫丘悛突铃说兽渝侯苗永鸡愚天刺离晷尤 \n",
      "屋踌本五放筚嗤窠汗琅焚原于恭闻南尽忾祖殄外玑肓了用玉强耻边脱效败刺穷雪教障亲智填穿噤货相卷晴蒙金桀鹤苒遇柔电合魉破倾栉靡插斧窠尉舟凿郑霆纸腕欲没寡雨圆卷吞烈西点喝负逑晕为怡盖迷得潭与缘虹室角衰舞惭缺正 \n"
     ]
    }
   ],
   "source": [
    "import random\n",
    "fh = open(r'c:\\temp\\成语大全.txt')\n",
    "text = fh.read()\n",
    "fh.close()\n",
    "text = text.replace('、', '')\n",
    "start = 0\n",
    "end = 0\n",
    "idioms = []\n",
    "\n",
    "while end < len(text):\n",
    "    if text[end] == '\\n':\n",
    "        idioms.append(text[start:end])\n",
    "        start = end + 1\n",
    "    end += 1\n",
    "    \n",
    "def get_ch_table(line):\n",
    "    ch_table = []\n",
    "    for ch in line:\n",
    "        if ch not in ch_table:\n",
    "            ch_table.append(ch)\n",
    "    return ch_table\n",
    "fh = open(r'c:\\temp\\成语大全.txt')\n",
    "text = fh.read()\n",
    "chs = get_ch_table(text.replace('\\n', ''))\n",
    "idioms = text.split()\n",
    "\n",
    "def mine(m):\n",
    "    list=[]    \n",
    "    for i in range(m):\n",
    "        idiom = random.choice (chs)\n",
    "        list.append(idiom)\n",
    "        print(idiom,end='')\n",
    "    print(' ')\n",
    "    fh = open(r'c:\\temp\\text'+str(m/10)+'.txt', 'w')\n",
    "    fh.write('\\n'.join(idioms))\n",
    "    fh.close()\n",
    "mine(10)\n",
    "mine(20)\n",
    "mine(30)\n",
    "mine(40)\n",
    "mine(50)\n",
    "mine(60)\n",
    "mine(70)\n",
    "mine(80)\n",
    "mine(90)\n",
    "mine(100)"
   ]
  },
  {
   "cell_type": "code",
   "execution_count": null,
   "metadata": {},
   "outputs": [],
   "source": []
  },
  {
   "cell_type": "code",
   "execution_count": null,
   "metadata": {},
   "outputs": [],
   "source": []
  },
  {
   "cell_type": "code",
   "execution_count": null,
   "metadata": {},
   "outputs": [],
   "source": []
  },
  {
   "cell_type": "code",
   "execution_count": null,
   "metadata": {},
   "outputs": [],
   "source": []
  },
  {
   "cell_type": "code",
   "execution_count": null,
   "metadata": {},
   "outputs": [],
   "source": []
  },
  {
   "cell_type": "code",
   "execution_count": null,
   "metadata": {},
   "outputs": [],
   "source": []
  },
  {
   "cell_type": "code",
   "execution_count": null,
   "metadata": {},
   "outputs": [],
   "source": []
  }
 ],
 "metadata": {
  "kernelspec": {
   "display_name": "Python 3",
   "language": "python",
   "name": "python3"
  },
  "language_info": {
   "codemirror_mode": {
    "name": "ipython",
    "version": 3
   },
   "file_extension": ".py",
   "mimetype": "text/x-python",
   "name": "python",
   "nbconvert_exporter": "python",
   "pygments_lexer": "ipython3",
   "version": "3.6.0"
  }
 },
 "nbformat": 4,
 "nbformat_minor": 2
}
