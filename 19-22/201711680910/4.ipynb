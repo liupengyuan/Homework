{
 "cells": [
  {
   "cell_type": "markdown",
   "metadata": {},
   "source": [
    "# 练习1：仿照求···的完整代码，写程序，可求m!+n!+k!"
   ]
  },
  {
   "cell_type": "code",
   "execution_count": 1,
   "metadata": {},
   "outputs": [
    {
     "name": "stdout",
     "output_type": "stream",
     "text": [
      "请输入一个数，以回车结束4\n",
      "请输入一个数，以回车结束3\n",
      "请输入一个数，以回车结束4\n",
      "54\n"
     ]
    }
   ],
   "source": [
    "def my_mul(e):\n",
    "    i=1\n",
    "    t=1\n",
    "    while i<e:\n",
    "        i+=1\n",
    "        t*=i\n",
    "    return t\n",
    "m=int(input(\"请输入一个数，以回车结束\"))\n",
    "n=int(input(\"请输入一个数，以回车结束\"))\n",
    "k=int(input(\"请输入一个数，以回车结束\"))\n",
    "my_mul(m)\n",
    "my_mul(n)\n",
    "my_mul(k)\n",
    "print(my_mul(m)+my_mul(n)+my_mul(k))"
   ]
  },
  {
   "cell_type": "markdown",
   "metadata": {},
   "source": [
    "# 练习2：写函数可返回1-1/3+1/5-1/7···的前n项的和。在主程序中，分别令n=1000及100000，打印4倍该函数的和。"
   ]
  },
  {
   "cell_type": "code",
   "execution_count": 4,
   "metadata": {},
   "outputs": [
    {
     "name": "stdout",
     "output_type": "stream",
     "text": [
      "请输入第一个数，并以回车结束1000\n",
      "请输入第二个数，并以回车结束100000\n",
      "3.140592653839794\n",
      "3.1415826535897198\n"
     ]
    }
   ],
   "source": [
    "def my_sum(e):\n",
    "    i=0\n",
    "    total=0\n",
    "    while i<e:\n",
    "        i+=1\n",
    "        if i%2==0:\n",
    "            k=-1\n",
    "        else:\n",
    "            k=1\n",
    "        total=total+k/(2*i-1)\n",
    "    return total\n",
    "n=int(input(\"请输入第一个数，并以回车结束\"))\n",
    "m=int(input(\"请输入第二个数，并以回车结束\"))\n",
    "\n",
    "print(4*my_sum(n))\n",
    "print(4*my_sum(m))\n",
    "            "
   ]
  },
  {
   "cell_type": "markdown",
   "metadata": {},
   "source": [
    "# 将task3中的练习1及练习4改写为函数，并进行调用。"
   ]
  },
  {
   "cell_type": "code",
   "execution_count": null,
   "metadata": {},
   "outputs": [
    {
     "name": "stdout",
     "output_type": "stream",
     "text": [
      "亲爱的用户您好，请输入您的姓名，并以回车结束hehe\n",
      "hehe\n",
      "请输入您的出生月份及日期，例如07.2406.01\n",
      "hehe 你是足智多谋的双子座！\n"
     ]
    }
   ],
   "source": [
    "n=input(\"亲爱的用户您好，请输入您的姓名，并以回车结束\")\n",
    "print(n)\n",
    "def star(m):\n",
    "    s=0\n",
    "    if 3.21<= m<= 4.19:\n",
    "        s=print(n,\"你是火象星座白羊座！\")\n",
    "    elif 4.20<= m<= 5.20:\n",
    "        s=print(n,\"你是爱财的金牛座！\")\n",
    "    elif 5.21<=m<=6.20:\n",
    "        s=print(n,\"你是足智多谋的双子座！\")\n",
    "    elif 6.21<=m<=7.21:\n",
    "        s=print(n,\"你是有领导力的巨蟹座！\")\n",
    "    elif 7.22<=m<=8.22:\n",
    "        s=print(n,\"你是成熟慷慨的狮子座！\")\n",
    "    elif 8.23<=m<=9.22:\n",
    "        s=print(n,\"你是有强迫症的处女座！\")\n",
    "    elif 9.23<=m<=10.22:\n",
    "        s=print(n,\"你是爱好和平的天秤座！\")\n",
    "    elif 10.23<=m<=11.21:\n",
    "        s=print(n,\"你是深谋远虑的天蝎座！\")\n",
    "    elif 11.22<=m<=12.21:\n",
    "        s=print(n,\"你是花心的射手座！\")\n",
    "    elif 12.22<=m<=12.31 or 01.01<=m<=3.20:\n",
    "        s=print(n,\"你是睿智的摩羯座！\")\n",
    "    else :\n",
    "        s=print(n,\"你的生日不存在！\")\n",
    "    return s\n",
    "e= float(input(\"请输入您的出生月份及日期，例如07.24\"))\n",
    "star(e)\n",
    "def end(e):\n",
    "    if n.endswith(\"y\"):\n",
    "        print(n,\"变y为i加es\")\n",
    "    elif n.endswith(\"sh\"):\n",
    "        print(n,\"es\")\n",
    "    elif n.endswith(\"ch\"):\n",
    "        print(n,\"es\")\n",
    "    elif n.endswith(\"o\"):\n",
    "        print(n,\"es\")\n",
    "    elif n.endswith(\"x\"):\n",
    "        print(n,\"es\")\n",
    "    elif n.endswith(\"s\"):\n",
    "        print(n,\"es\")\n",
    "    elif n.endswith(\"fe\"):\n",
    "        print(n,\"变fe为ve加s\")\n",
    "    else :\n",
    "        print(n,\"s\")\n",
    "n=str(input(\"请输入一个英语名词的单数形式\"))\n",
    "end(n)\n"
   ]
  },
  {
   "cell_type": "markdown",
   "metadata": {},
   "source": [
    "挑战性练习：写程序，可以求从整数m到整数n累加的和，间隔为k，求和部分需用函数实现，主程序中由用户输入m,n，k，调用函数验证正确性。"
   ]
  },
  {
   "cell_type": "code",
   "execution_count": 8,
   "metadata": {},
   "outputs": [
    {
     "name": "stdout",
     "output_type": "stream",
     "text": [
      "请输入一个间隔数，以回车结束2\n",
      "请输入末位整数，以回车结束5\n",
      "请输入首位整数，以回车结束1\n",
      "9\n"
     ]
    }
   ],
   "source": [
    "def new(e):\n",
    "    total=e\n",
    "    while e<n:\n",
    "        e=e+k\n",
    "        total=total+e\n",
    "    return total\n",
    "\n",
    "k=int(input(\"请输入一个间隔数，以回车结束\"))\n",
    "n=int(input(\"请输入末位整数，以回车结束\"))\n",
    "m=int(input(\"请输入首位整数，以回车结束\"))\n",
    "\n",
    "print(new(m))\n",
    "        \n",
    "    "
   ]
  },
  {
   "cell_type": "code",
   "execution_count": null,
   "metadata": {},
   "outputs": [],
   "source": []
  },
  {
   "cell_type": "code",
   "execution_count": null,
   "metadata": {},
   "outputs": [],
   "source": []
  }
 ],
 "metadata": {
  "kernelspec": {
   "display_name": "Python 3",
   "language": "python",
   "name": "python3"
  },
  "language_info": {
   "codemirror_mode": {
    "name": "ipython",
    "version": 3
   },
   "file_extension": ".py",
   "mimetype": "text/x-python",
   "name": "python",
   "nbconvert_exporter": "python",
   "pygments_lexer": "ipython3",
   "version": "3.6.0"
  }
 },
 "nbformat": 4,
 "nbformat_minor": 2
}
