{
 "cells": [
  {
   "cell_type": "markdown",
   "metadata": {},
   "source": [
    "练习 1：写程序，可由键盘读入用户姓名例如Mr. right，让用户输入出生的月份与日期，判断用户星座，假设用户是金牛座，则输出，Mr. right，你是非常有性格的金牛座！。"
   ]
  },
  {
   "cell_type": "code",
   "execution_count": 15,
   "metadata": {},
   "outputs": [
    {
     "name": "stdout",
     "output_type": "stream",
     "text": [
      "亲爱的用户您好，请输入您的姓名，并以回车结束haha\n",
      "haha\n",
      "请输入您的出生月份及日期，例如07.2409.09\n",
      "haha 你是有强迫症的处女座！\n"
     ]
    }
   ],
   "source": [
    "n=input(\"亲爱的用户您好，请输入您的姓名，并以回车结束\")\n",
    "print(n)\n",
    "m= float(input(\"请输入您的出生月份及日期，例如07.24\"))\n",
    "if 3.21<= m<= 4.19:\n",
    "    print(n,\"你是火象星座白羊座！\")\n",
    "elif 4.20<= m<= 5.20:\n",
    "    print(n,\"你是爱财的金牛座！\")\n",
    "elif 5.21<=m<=6.20:\n",
    "    print(n,\"你是足智多谋的双子座！\")\n",
    "elif 6.21<=m<=7.21:\n",
    "    print(n,\"你是有领导力的巨蟹座！\")\n",
    "elif 7.22<=m<=8.22:\n",
    "    print(n,\"你是成熟慷慨的狮子座！\")\n",
    "elif 8.23<=m<=9.22:\n",
    "    print(n,\"你是有强迫症的处女座！\")\n",
    "elif 9.23<=m<=10.22:\n",
    "    print(n,\"你是爱好和平的天秤座！\")\n",
    "elif 10.23<=m<=11.21:\n",
    "    print(n,\"你是深谋远虑的天蝎座！\")\n",
    "elif 11.22<=m<=12.21:\n",
    "    print(n,\"你是花心的射手座！\")\n",
    "else :\n",
    "    print(n,\"你是睿智的摩羯座！\")"
   ]
  },
  {
   "cell_type": "markdown",
   "metadata": {},
   "source": [
    "练习 2：写程序，可由键盘读入两个整数m与n(n不等于0)，询问用户意图，如果要求和则计算从m到n的和输出，如果要乘积则计算从m到n的积并输出，如果要求余数则计算m除以n的余数的值并输出，否则则计算m整除n的值并输出。"
   ]
  },
  {
   "cell_type": "code",
   "execution_count": 24,
   "metadata": {},
   "outputs": [
    {
     "name": "stdout",
     "output_type": "stream",
     "text": [
      "请输入一个整数5\n",
      "请再输入一个整数（0除外）2\n",
      "求和请输入1,乘积请输入2，余数计算请输入3，整除计算请输入4，回车结束4\n",
      "2\n"
     ]
    }
   ],
   "source": [
    "m=int(input(\"请输入一个整数\"))\n",
    "n=int(input(\"请再输入一个整数（0除外）\"))\n",
    "t=int(input(\"求和请输入1,乘积请输入2，余数计算请输入3，整除计算请输入4，回车结束\"))\n",
    "if t==1:\n",
    "    print(m+n)\n",
    "elif t==2:\n",
    "    print(m*n)\n",
    "elif t==3:\n",
    "    print(m%n)\n",
    "else :\n",
    "    print(m//n)"
   ]
  },
  {
   "cell_type": "markdown",
   "metadata": {},
   "source": [
    "练习 3：写程序，能够根据北京雾霾PM2.5数值给出对应的防护建议。如当PM2.5数值大于500，则应该打开空气净化器，戴防雾霾口罩等。"
   ]
  },
  {
   "cell_type": "code",
   "execution_count": 2,
   "metadata": {},
   "outputs": [
    {
     "name": "stdout",
     "output_type": "stream",
     "text": [
      "请输入北京雾霾PM2.5数值700\n",
      "应打开空气净化器，戴防雾霾口罩\n"
     ]
    }
   ],
   "source": [
    "m=float(input(\"请输入北京雾霾PM2.5数值\"))\n",
    "if m>500:\n",
    "    print(\"应打开空气净化器，戴防雾霾口罩\")"
   ]
  },
  {
   "cell_type": "markdown",
   "metadata": {},
   "source": [
    "练习 4：英文单词单数转复数，要求输入一个英文动词（单数形式），能够得到其复数形式，或给出单数转复数形式的建议（提示，some_string.endswith(some_letter)函数可以判断某字符串结尾字符，可尝试运行：'myname'.endswith('me')，liupengyuan'.endswith('n')）。"
   ]
  },
  {
   "cell_type": "code",
   "execution_count": 11,
   "metadata": {},
   "outputs": [
    {
     "name": "stdout",
     "output_type": "stream",
     "text": [
      "请输入一个英语动词的单数形式fox\n",
      "fox es\n"
     ]
    }
   ],
   "source": [
    "n=str(input(\"请输入一个英语动词的单数形式\"))\n",
    "if n.endswith(\"y\"):\n",
    "    print(n,\"变y为i加es\")\n",
    "elif n.endswith(\"sh\"):\n",
    "    print(n,\"es\")\n",
    "elif n.endswith(\"ch\"):\n",
    "    print(n,\"es\")\n",
    "elif n.endswith(\"o\"):\n",
    "    print(n,\"es\")\n",
    "elif n.endswith(\"x\"):\n",
    "    print(n,\"es\")\n",
    "elif n.endswith(\"s\"):\n",
    "    print(n,\"es\")\n",
    "elif n.endswith(\"fe\"):\n",
    "    print(n,\"变fe为ve加s\")\n",
    "else :\n",
    "    print(n,\"s\")"
   ]
  },
  {
   "cell_type": "code",
   "execution_count": null,
   "metadata": {},
   "outputs": [],
   "source": []
  }
 ],
 "metadata": {
  "kernelspec": {
   "display_name": "Python 3",
   "language": "python",
   "name": "python3"
  },
  "language_info": {
   "codemirror_mode": {
    "name": "ipython",
    "version": 3
   },
   "file_extension": ".py",
   "mimetype": "text/x-python",
   "name": "python",
   "nbconvert_exporter": "python",
   "pygments_lexer": "ipython3",
   "version": "3.6.0"
  }
 },
 "nbformat": 4,
 "nbformat_minor": 2
}
