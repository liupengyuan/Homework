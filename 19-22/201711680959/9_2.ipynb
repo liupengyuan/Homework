{
 "cells": [
  {
   "cell_type": "code",
   "execution_count": 18,
   "metadata": {
    "collapsed": true,
    "scrolled": false
   },
   "outputs": [],
   "source": [
    "#2、随机生成1万个整数，范围在0-10万之间，求其中每个整数出现的次数。并按照整数大小排序输出整数及出现次数。\n",
    "import random,bisect\n",
    "def quick_sort(seq):\n",
    "    left_seq =  []\n",
    "    right_seq = []\n",
    "    p=seq[0]\n",
    "    for number in seq[1:]:\n",
    "        if number <= p:\n",
    "            left_seq.append(number)\n",
    "        else:\n",
    "            right_seq.append(number)\n",
    "    if left_seq:\n",
    "        left_seq = quick_sort(left_seq)\n",
    "    if right_seq:\n",
    "        right_seq = quick_sort(right_seq)\n",
    "    return  left_seq + [p] + right_seq\n",
    "numbers=[]\n",
    "for i in range(1,10001):\n",
    "    numbers.append(random.randint(0,100001))\n",
    "#print(numbers)\n",
    "sorted_numbers = quick_sort(numbers)\n",
    "#print(sorted_numbers)\n",
    "numbers=[]\n",
    "for number in sorted_numbers:\n",
    "    i = bisect.bisect_left(numbers,[number])\n",
    "    if i != len(numbers) and numbers[i][0] == number:\n",
    "        numbers[i][1] += 1\n",
    "    else:\n",
    "        numbers.insert(i, [number,1])\n",
    "print(numbers)\n"
   ]
  },
  {
   "cell_type": "code",
   "execution_count": 42,
   "metadata": {},
   "outputs": [
    {
     "name": "stdout",
     "output_type": "stream",
     "text": [
      "共用字为： [] 独用字为： ['习', '近', '平', '/', 'n', 'r', 'f', 'g', ' ', '新', '年', '贺', '词', 'l', '为', 'p', '人', '民', '点', 'm', '赞', 'v', '发', '表', '二', '〇', 'x', '一', '五', 't', '提', '出', '开', '弓', 'z', '没', '有', '回', '头', '箭', '改', '革', '关', '勇', '者', '胜', 'i', '好', '“', '5', '、', '4', '3', '2', '1', '，', '快', '乐', '！', '”', '今', '天', '零', '时', 'd', '奥', '林', '匹', '克', '中', '心', '区', 's', '主', '会', '场', '梦', '想', '辉', '映', '冰', '雪', '北', '京', '同', '欢', '聚', '诚', '邀', '环', '0', '倒', '计', '活', '动', '举', '行', '。', '与', '此', 'c', '延', '庆', '八', '达', '岭', '长', '城', '分', '和', '张', '家', '口', '崇', '礼', '步', '联', '汇', '起', '三', '地', 'j', '万', '众', '对', '申', '办', '冬', '的', 'u', '热', '情', '期', '待', '首', '席', '摄', '影', '记', '蔡', '代', '征', 'A', 'e', '版', '·', '要', '闻', '事', '公', '积', '金', '贷', '款', '上', '限', '调', '至', '6', '呼', '格', '吉', '勒', '图', '父', '母', '获', '赔', '偿', '元', '国', '内', '大', 'a', '涨', '千', '股', '完', '美', '收', '官', '经', '济', '我', '们', '各', '级', '干', '部', '也', '是', '蛮', '拼', '●', '向', '南', '水', '移', '致', '敬', '伟', '间', '过', '得', '真', '就', '去', '了', '正', '在', '走', '来', '这', '辞', '旧', '迎', '刻', '全', '族', '香', '港', '特', '别', '政', '胞', '澳', '门', '台', '湾', '海', '外', '侨', '世', '界', '朋', '友', 'k', '以', '祝', '福', '令', '难', '忘', '锐', '意', '推', '进', '啃', '下', '不', '少', '硬', '骨', '系', '列', '重', '措', '许', '多', '老', '百', '姓', '利', '益', '密', '切', '相', '适', '应', '展', '常', '态', '极', '社', '生', '善', '月', '日', '线', '工', '程', '式', '通', '沿', '搬', '迁', '个', '作', '无', '私', '奉', '献', '他', '示', '希', '望', '园', '幸', '着', '力', '风', '肃', '纪', '反', '形', '义', '僚', '享', '奢', '靡', '之', '况', '很', '观', '加', '腐', '败', '斗', '争', '度', '容', '忍', '严', '惩', '子', '显', '恶', '坚', '定', '决', '强', '合', '交', '往', 'b', '亚', '太', '组', '织', '领', '导', '非', '议', '次', '访', '量', '些', '让', '更', '认', '识', '做', '当', '然', '支', '持', '立', '法', '确', '抗', '战', '念', '烈', '士', '屠', '杀', '死', '祭', '隆', '付', '宝', '贵', '命', '管', '怎', '样', '变', '化', '都', '永', '远', '铭', '牺', '牲', '历', '悲', '伤', '马', '航', 'M', 'H', '7', '班', '失', '踪', '名', '落', '明', '续', '努', '方', '设', '找', '到', '自', '灾', '害', '安', '故', '离', '云', '鲁', '甸', '震', '造', '成', '遇', '怀', '愿', '亲', '钟', '声', '即', '将', '敲', '响', '继', '把', '现', '实', '面', '深', '依', '治', '用', '保', '障', '权', '维', '护', '促', '如', '鸟', '两', '翼', '车', '双', '轮', '建', '小', '康', '目', '标', '总', '体', '越', '但', '那', '还', '处', '群', '满', '腔', '扶', '贫', '基', '本', '农', '村', '困', '市', '等', '所', '需', '帮', '助', '能', '灵', '充', '温', '暖', '从', '党', '毫', '摇', '转', '高', '剑', '扎', '牢', '制', '笼', '共', '产', '里', '查', '必', '贪', '业', '拔', '才', '半', '途', '而', '废', '蓝', '宏', '奋', '艰', '巨', '团', '结', '集', '思', '广', '机', '志', '挑', '破', '解', '题', '创', '比', '注', '己', '前', '洲', '埃', '博', '拉', '疫', '给', '予', '；', '尔', '夫', '遭', '断', '援', '吸', '运', '仍', '宁', '唤', '免', '于', '饥', '寒', '煎', '熬', '庭', '火', '威', '胁', '孩', '阳', '光', '茁', '壮', '谢', '孙', '春', '兰', '兼', '任', '统', '华', '电', '央', '：', '划', '职', '务', '简', '女', '汉', '9']\n"
     ]
    }
   ],
   "source": [
    "#3、对本任务中的语料.txt文件，抽取其5001-10000行存为test1.txt文件，写函数，\n",
    "#可得到其与本任务中test.txt文件的共用字以及独用字（相关概念自行百度）。\n",
    "line_number=0\n",
    "with open(r'd:\\temp\\test.txt','w') as fw,open(r'd:\\temp\\语料.txt') as f:\n",
    "    text=f.read()\n",
    "    f=text.replace('\\n','')\n",
    "    for line in f:\n",
    "        if line_number<5000:\n",
    "            \n",
    "            fw.write(line)\n",
    "            ch_table1 = []\n",
    "            for ch in line:\n",
    "                if ch not in ch_table1:\n",
    "                    ch_table1.append(ch)\n",
    "        line_number +=1\n",
    "line_number=5000\n",
    "with open(r'd:\\temp\\test2.txt','w') as fw,open(r'd:\\temp\\语料.txt') as f:\n",
    "    text=f.read()\n",
    "    f=text.replace('\\n','')\n",
    "    for line in f:\n",
    "        if line_number>=5000 and line_number<10000:\n",
    "            \n",
    "            fw.write(line)\n",
    "            ch_table1 = []\n",
    "            for ch in line:\n",
    "                if ch not in ch_table2:\n",
    "                    ch_table2.append(ch)\n",
    "        line_number +=1\n",
    "a=[]\n",
    "b=[]\n",
    "def t(table1,table2):\n",
    "    for word in table1:\n",
    "        if word in table2:\n",
    "            a.append(word)\n",
    "        else:\n",
    "            b.append(word)\n",
    "    for word in table2:\n",
    "        if word not in table1:\n",
    "            b.append(word)\n",
    "t(ch_table1,ch_table2)\n",
    "print('共用字为：',a,'独用字为：',b)\n",
    "        \n",
    "\n"
   ]
  },
  {
   "cell_type": "code",
   "execution_count": 44,
   "metadata": {},
   "outputs": [
    {
     "ename": "AttributeError",
     "evalue": "'list' object has no attribute 'values'",
     "output_type": "error",
     "traceback": [
      "\u001b[1;31m---------------------------------------------------------------------------\u001b[0m",
      "\u001b[1;31mAttributeError\u001b[0m                            Traceback (most recent call last)",
      "\u001b[1;32m<ipython-input-44-0533df8b0dc0>\u001b[0m in \u001b[0;36m<module>\u001b[1;34m()\u001b[0m\n\u001b[0;32m     20\u001b[0m     \u001b[1;32mreturn\u001b[0m \u001b[0mwords_freq_dict\u001b[0m\u001b[1;33m\u001b[0m\u001b[0m\n\u001b[0;32m     21\u001b[0m \u001b[0mfilename\u001b[0m \u001b[1;33m=\u001b[0m \u001b[1;34mr'd:\\temp\\语料.txt'\u001b[0m\u001b[1;33m\u001b[0m\u001b[0m\n\u001b[1;32m---> 22\u001b[1;33m \u001b[0mcount_words_freq_dict\u001b[0m\u001b[1;33m(\u001b[0m\u001b[0mfilename\u001b[0m\u001b[1;33m)\u001b[0m\u001b[1;33m\u001b[0m\u001b[0m\n\u001b[0m\u001b[0;32m     23\u001b[0m \u001b[1;32mfor\u001b[0m \u001b[0mi\u001b[0m\u001b[1;33m,\u001b[0m \u001b[0mvalue\u001b[0m \u001b[1;32min\u001b[0m \u001b[0menumerate\u001b[0m\u001b[1;33m(\u001b[0m\u001b[0mtable\u001b[0m\u001b[1;33m)\u001b[0m\u001b[1;33m:\u001b[0m\u001b[1;33m\u001b[0m\u001b[0m\n\u001b[0;32m     24\u001b[0m     \u001b[0mprint\u001b[0m\u001b[1;33m(\u001b[0m\u001b[0mvalue\u001b[0m\u001b[1;33m,\u001b[0m \u001b[0mtable\u001b[0m\u001b[1;33m[\u001b[0m\u001b[0mvalue\u001b[0m\u001b[1;33m]\u001b[0m\u001b[1;33m)\u001b[0m\u001b[1;33m\u001b[0m\u001b[0m\n",
      "\u001b[1;32m<ipython-input-44-0533df8b0dc0>\u001b[0m in \u001b[0;36mcount_words_freq_dict\u001b[1;34m(filename)\u001b[0m\n\u001b[0;32m     14\u001b[0m \u001b[1;33m\u001b[0m\u001b[0m\n\u001b[0;32m     15\u001b[0m \u001b[1;33m\u001b[0m\u001b[0m\n\u001b[1;32m---> 16\u001b[1;33m             \u001b[0mvalues\u001b[0m \u001b[1;33m=\u001b[0m \u001b[0mlist\u001b[0m\u001b[1;33m(\u001b[0m\u001b[0mwords\u001b[0m\u001b[1;33m.\u001b[0m\u001b[0mvalues\u001b[0m\u001b[1;33m(\u001b[0m\u001b[1;33m)\u001b[0m\u001b[1;33m)\u001b[0m\u001b[1;33m\u001b[0m\u001b[0m\n\u001b[0m\u001b[0;32m     17\u001b[0m \u001b[1;33m\u001b[0m\u001b[0m\n\u001b[0;32m     18\u001b[0m             \u001b[1;32mfor\u001b[0m \u001b[0mkey\u001b[0m\u001b[1;33m,\u001b[0m\u001b[0mvalue\u001b[0m \u001b[1;32min\u001b[0m \u001b[0mword_freq_dict\u001b[0m\u001b[1;33m:\u001b[0m\u001b[1;33m\u001b[0m\u001b[0m\n",
      "\u001b[1;31mAttributeError\u001b[0m: 'list' object has no attribute 'values'"
     ]
    }
   ],
   "source": [
    "#4、挑战性任务：统计本任务中的语料.txt文件，得到每一个词对应不同词性的频次，\n",
    "#可表示为：{词:[('n',1000), ('v', 98)...],...}，即在dict对象中，key为词，value为列表，输出词频最高的50个条目。\n",
    "def count_words_freq_dict(filename):\n",
    "    words_freq_dict = {}\n",
    "    line_number=0\n",
    "    with open(filename) as f:\n",
    "        for line in f:\n",
    "            words = [word.split('/')[0] for word in line.split()]\n",
    "            for word in words:\n",
    "                if word in words_freq_dict:\n",
    "                    words_freq_dict[word] += 1\n",
    "                else:                       \n",
    "                    words_freq_dict[word] = 1\n",
    "                    \n",
    "\n",
    "            values = list(words.values())\n",
    "\n",
    "            for key,value in word_freq_dict: \n",
    "                print(key,value)\n",
    "    return words_freq_dict\n",
    "filename = r'd:\\temp\\语料.txt'\n",
    "count_words_freq_dict(filename)\n",
    "for i, value in enumerate(table):\n",
    "    print(value, table[value])\n",
    "    if i==50:\n",
    "        break\n",
    "\n",
    "\n",
    "\n",
    "\n",
    "\n",
    "\n",
    "\n",
    "\n",
    "\n",
    "\n",
    "\n",
    "\n",
    "\n",
    "\n",
    "\n",
    "\n",
    "\n",
    "\n",
    "\n",
    "\n"
   ]
  },
  {
   "cell_type": "code",
   "execution_count": null,
   "metadata": {
    "collapsed": true
   },
   "outputs": [],
   "source": []
  },
  {
   "cell_type": "code",
   "execution_count": null,
   "metadata": {
    "collapsed": true
   },
   "outputs": [],
   "source": []
  },
  {
   "cell_type": "code",
   "execution_count": null,
   "metadata": {
    "collapsed": true
   },
   "outputs": [],
   "source": []
  }
 ],
 "metadata": {
  "kernelspec": {
   "display_name": "Python 3",
   "language": "python",
   "name": "python3"
  },
  "language_info": {
   "codemirror_mode": {
    "name": "ipython",
    "version": 3
   },
   "file_extension": ".py",
   "mimetype": "text/x-python",
   "name": "python",
   "nbconvert_exporter": "python",
   "pygments_lexer": "ipython3",
   "version": "3.6.2"
  }
 },
 "nbformat": 4,
 "nbformat_minor": 2
}
