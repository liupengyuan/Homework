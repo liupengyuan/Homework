{
 "cells": [
  {
   "cell_type": "code",
   "execution_count": 7,
   "metadata": {},
   "outputs": [
    {
     "name": "stdout",
     "output_type": "stream",
     "text": [
      "your name:孙嘉黛\n",
      "your birthday(for example:10.16）:10.16\n",
      "孙嘉黛 ，你是非常有性格的天秤座！\n"
     ]
    }
   ],
   "source": [
    "#练习 1：写程序，可由键盘读入用户姓名例如Mr. right，让用户输入出生的月份与日期，\n",
    "#判断用户星座，假设用户是金牛座，则输出，Mr. right，你是非常有性格的金牛座！。\n",
    "name=input('your name:')\n",
    "birthday=float(input('your birthday(for example:10.16）:'))\n",
    "if birthday>=3.21 and birthday<=4.19:\n",
    "    print(name,'，你是非常有性格的白羊座！')\n",
    "elif birthday>=4.20 and birthday<=5.20:\n",
    "    print(name,'，你是非常有性格的金牛座！')\n",
    "elif birthday>=5.21 and birthday<=6.21:\n",
    "    print(name,'，你是非常有性格的双子座！')\n",
    "elif birthday>=6.22 and birthday<=7.22:\n",
    "    print(name,'，你是非常有性格的巨蟹座！')\n",
    "elif birthday>=7.23 and birthday<=8.22:\n",
    "    print(name,'，你是非常有性格的狮子座！')\n",
    "elif birthday>=8.23 and birthday<=9.22:\n",
    "    print(name,'，你是非常有性格的处女座！')\n",
    "elif birthday>=9.23 and birthday<=10.23:\n",
    "    print(name,'，你是非常有性格的天秤座！')\n",
    "elif birthday>=10.24 and birthday<=11.22:\n",
    "    print(name,'，你是非常有性格的天蝎座！')\n",
    "elif birthday>=11.23 and birthday<=12.21:\n",
    "    print(name,'，你是非常有性格的射手座！')\n",
    "elif birthday>=6.22 and birthday<=7.22:\n",
    "    print(name,'，你是非常有性格的巨蟹座！')\n",
    "elif birthday>=1.20 and birthday<=2.18:\n",
    "    print(name,'，你是非常有性格的水瓶座！')\n",
    "elif birthday>=2.19 and birthday<=3.20:\n",
    "    print(name,'，你是非常有性格的双鱼座！')\n",
    "else:\n",
    "    print(name,'，你是非常有性格的摩羯座！')\n"
   ]
  },
  {
   "cell_type": "code",
   "execution_count": 1,
   "metadata": {},
   "outputs": [
    {
     "name": "stdout",
     "output_type": "stream",
     "text": [
      "请输入一个整数3\n",
      "请再输入一个整数7\n",
      "请输入您想要执行的运算：*\n",
      "2520\n"
     ]
    }
   ],
   "source": [
    "#练习 2：写程序，可由键盘读入两个整数m与n(n不等于0)，询问用户意图，如果要求和则计算从m到n的和输出，\n",
    "#如果要乘积则计算从m到n的积并输出，如果要求余数则计算m除以n的余数的值并输出，否则则计算m整除n的值并输出。\n",
    "m=int(input('请输入一个整数'))\n",
    "n=int(input('请再输入一个整数'))\n",
    "y=str(input('请输入您想要执行的运算：'))\n",
    "x=0\n",
    "s=0\n",
    "q=1\n",
    "c=str('%')\n",
    "a=str('+')\n",
    "b=str('*')\n",
    "if m<n:\n",
    "    x=m\n",
    "    m=n\n",
    "    n=x\n",
    "if y==c:\n",
    "    print(m%n)\n",
    "elif y!=c and y!=a and y!=b:\n",
    "    print(m//n)\n",
    "while m>=n:\n",
    "    s=s+m\n",
    "    q=q*m\n",
    "    m=m-1\n",
    "if y==a:\n",
    "        print(s)\n",
    "elif y==b:\n",
    "        print(q)\n",
    "        \n",
    "\n"
   ]
  },
  {
   "cell_type": "code",
   "execution_count": 3,
   "metadata": {},
   "outputs": [
    {
     "name": "stdout",
     "output_type": "stream",
     "text": [
      "please input an English word:touch\n",
      "touches\n"
     ]
    }
   ],
   "source": [
    "#练习 4：英文单词单数转复数，要求输入一个英文动词（单数形式），能够得到其复数形式，\n",
    "#或给出单数转复数形式的建议（提示，some_string.endswith(some_letter)函数可以判断某字符串结尾字符，\n",
    "#可尝试运行：'myname'.endswith('me')，liupengyuan'.endswith('n')）。\n",
    "str=input('please input an English word:')\n",
    "if str.endswith('h')==True:\n",
    "    print(str,'es',sep='')\n",
    "elif str.endswith('y')==True:\n",
    "    print('将此单词去掉y加上ies')\n",
    "else:\n",
    "    print(str,'s',sep='')"
   ]
  },
  {
   "cell_type": "code",
   "execution_count": null,
   "metadata": {},
   "outputs": [
    {
     "name": "stdout",
     "output_type": "stream",
     "text": [
      "如果您想显示空行，请输入0并回车0\n",
      "0\n",
      "          \n",
      "0\n",
      "          \n",
      "0\n",
      "          \n",
      "0\n",
      "          \n",
      "0\n",
      "          \n",
      "0\n",
      "          \n"
     ]
    }
   ],
   "source": [
    "#尝试性练习：写程序，能够在屏幕上显示空行。\n",
    "n=0\n",
    "m=int(input('如果您想显示空行，请输入0并回车'))\n",
    "while n!=1:\n",
    "    m=int(input())\n",
    "    if m==n:\n",
    "        print('          ',sep='                                    ')\n",
    "\n"
   ]
  },
  {
   "cell_type": "code",
   "execution_count": 24,
   "metadata": {},
   "outputs": [
    {
     "name": "stdout",
     "output_type": "stream",
     "text": [
      "please input the number of the numbers:9\n",
      "2\n",
      "11\n",
      "3\n",
      "4\n",
      "2\n",
      "56\n",
      "43\n",
      "26\n",
      "35\n",
      "几个整数中次大值是： 43\n"
     ]
    }
   ],
   "source": [
    "4##### 挑战性练习：写程序，由用户输入一些整数，能够得到几个整数中的次大值(第二大的值)并输出。\n",
    "m=int(input('please input the number of the numbers:'))\n",
    "i=2\n",
    "n=int(input())\n",
    "l=int(input())\n",
    "if n<l:\n",
    "      max1=l\n",
    "      max2=n\n",
    "else:\n",
    "      max2=l\n",
    "      max1=n\n",
    "while i<m:\n",
    "      i=i+1\n",
    "      o=int(input())\n",
    "      if o>=max1:\n",
    "            max1=o\n",
    "      elif o<max1 and o>=max2:\n",
    "            max2=o\n",
    "      else:\n",
    "            max2=max2\n",
    "            max1=max1\n",
    "print('几个整数中次大值是：',max2)"
   ]
  }
 ],
 "metadata": {
  "kernelspec": {
   "display_name": "Python 3",
   "language": "python",
   "name": "python3"
  },
  "language_info": {
   "codemirror_mode": {
    "name": "ipython",
    "version": 3
   },
   "file_extension": ".py",
   "mimetype": "text/x-python",
   "name": "python",
   "nbconvert_exporter": "python",
   "pygments_lexer": "ipython3",
   "version": "3.6.2"
  }
 },
 "nbformat": 4,
 "nbformat_minor": 2
}
