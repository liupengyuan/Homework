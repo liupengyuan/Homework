{
 "cells": [
  {
   "cell_type": "code",
   "execution_count": 6,
   "metadata": {},
   "outputs": [
    {
     "name": "stdout",
     "output_type": "stream",
     "text": [
      "请输入您需要的整数个数：4\n",
      "请输入整数下限：1\n",
      "请输入整数上限：5\n",
      "这些整数均值的平方根是： 1.224744871391589\n"
     ]
    }
   ],
   "source": [
    "#练习 1：写函数，求n个随机整数均值的平方根，整数范围在m与k之间（n,m,k由用户输入）。\n",
    "import random,math\n",
    "i=0\n",
    "s=0\n",
    "n=int(input('请输入您需要的整数个数：'))\n",
    "m=int(input('请输入整数下限：'))\n",
    "k=int(input('请输入整数上限：'))\n",
    "while i<=n:\n",
    "            i=i+1\n",
    "            a=random.randint(m,k)\n",
    "            s=s+a\n",
    "b=math.sqrt(s/n)\n",
    "print('这些整数均值的平方根是：',b)"
   ]
  },
  {
   "cell_type": "code",
   "execution_count": 4,
   "metadata": {},
   "outputs": [
    {
     "name": "stdout",
     "output_type": "stream",
     "text": [
      "请输入您所需整数个数：3\n",
      "请输入整数下限：1\n",
      "请输入整数上限：5\n",
      "西格玛log= 4.787491742782046 西格玛1/log= 3.6956167225198944\n"
     ]
    }
   ],
   "source": [
    "#练习 2：写函数，共n个随机整数，整数范围在m与k之间，（n,m,k由用户输入）。求1：西格玛log(随机整数)，2：西格玛1/log(随机整数)\n",
    "import random,math\n",
    "n=int(input('请输入您所需整数个数：'))\n",
    "m=int(input('请输入整数下限：'))\n",
    "k=int(input('请输入整数上限：'))\n",
    "i=0\n",
    "s=0\n",
    "u=0\n",
    "while i<=n:\n",
    "    i=i+1\n",
    "    a=random.randint(m,k)\n",
    "    s=s+math.log(a)\n",
    "    u=u+1/math.log(a)\n",
    "\n",
    "print('西格玛log=',s,'西格玛1/log=',u)"
   ]
  },
  {
   "cell_type": "code",
   "execution_count": 27,
   "metadata": {},
   "outputs": [
    {
     "name": "stdout",
     "output_type": "stream",
     "text": [
      "请输入相加数字的个数：3\n",
      "1\n",
      "total= 123\n"
     ]
    }
   ],
   "source": [
    "#练习 3：写函数，求s=a+aa+aaa+aaaa+aa...a的值，其中a是[1,9]之间的随机整数。例如2+22+222+2222+22222(此时共有5个数相加)，\n",
    "#几个数相加由键盘输入。\n",
    "import random\n",
    "n=int(input('请输入相加数字的个数：'))\n",
    "s=0\n",
    "i=0\n",
    "total=0\n",
    "a=random.randint(1,9)\n",
    "while i<n:\n",
    "    i=i+1 \n",
    "    v=a+s\n",
    "    s=s+a*10**(i-1)\n",
    "    total=s+v\n",
    "print(a)\n",
    "print('total=',total)\n"
   ]
  },
  {
   "cell_type": "code",
   "execution_count": null,
   "metadata": {
    "scrolled": true
   },
   "outputs": [
    {
     "name": "stdout",
     "output_type": "stream",
     "text": [
      " ======欢迎来到猜数游戏=======\n",
      "=====游戏菜单=====\n",
      "                1. 游戏说明\n",
      "                2. 开始游戏\n",
      "                3. 退出游戏\n",
      "                4. 制作团队\n",
      "             =====游戏菜单=====\n",
      "请输入你的选择2\n",
      "请输入一个大于0的整数，作为计算猜测次数的上界，回车结束。8\n",
      "请输入一个大于0的整数，作为神秘整数3\n",
      "一共可以猜 3 次\n",
      "你已经猜了 1 次\n",
      "抱歉，你猜大了\n",
      "一共可以猜 3 次\n",
      "你已经猜了 2 次\n",
      "抱歉，你猜小了\n",
      "一共可以猜 3 次\n",
      "你已经猜了 3 次\n",
      "抱歉，你猜大了\n",
      "神秘数字是： 3\n",
      "======YOU LOSE=======\n",
      "=====游戏菜单=====\n",
      "                1. 游戏说明\n",
      "                2. 开始游戏\n",
      "                3. 退出游戏\n",
      "                4. 制作团队\n",
      "             =====游戏菜单=====\n"
     ]
    }
   ],
   "source": [
    "#挑战性练习：仿照task5，将猜数游戏改成由用户随便选择一个整数，让计算机来猜测的猜数游戏，\n",
    "#要求和task5中人猜测的方法类似，但是人机角色对换，由人来判断猜测是大、小还是相等，请写出完整的猜数游戏。\n",
    "import random, math\n",
    "print(' ======欢迎来到猜数游戏=======')\n",
    "\n",
    "def win():\n",
    "    print('======恭喜你，你赢了=======')\n",
    "\n",
    "def lose():\n",
    "     print('======YOU LOSE=======')\n",
    "    \n",
    "def game_over():\n",
    "     print('======YOU LOSE=======')\n",
    "    \n",
    "def show_team():\n",
    "    print('孙嘉黛制作')\n",
    "\n",
    "def show_instruction():\n",
    "    print('请输入一个数字并让计算机猜测，请帮助判断计算机所猜数字与您输入数字的大小关系，以帮助计算机获取正确答案')\n",
    "\n",
    "def menu():\n",
    "    print('''=====游戏菜单=====\n",
    "                1. 游戏说明\n",
    "                2. 开始游戏\n",
    "                3. 退出游戏\n",
    "                4. 制作团队\n",
    "             =====游戏菜单=====''')\n",
    "def guess_game():\n",
    "    n = int(input('请输入一个大于0的整数，作为计算猜测次数的上界，回车结束。'))\n",
    "    number = int(input('请输入一个大于0的整数，作为神秘整数'))\n",
    "    max_times = math.ceil(math.log(n, 2))\n",
    "    guess_times = 0\n",
    "    guess = random.randint(1, n)\n",
    "    while guess_times < max_times: \n",
    "        guess_times += 1\n",
    "        print('一共可以猜', max_times, '次')\n",
    "        print('你已经猜了', guess_times, '次')\n",
    "        \n",
    "        if guess == number:\n",
    "            win()\n",
    "            print('神秘数字是：', guess)\n",
    "            print('你比标准次数少', max_times-guess_times, '次')\n",
    "            break\n",
    "        elif guess > number:\n",
    "            print('抱歉，你猜大了')\n",
    "            guess=random.randint(1,guess)\n",
    "        else:\n",
    "            print('抱歉，你猜小了')\n",
    "            guess=random.randint(guess,n)\n",
    "    else:\n",
    "        print('神秘数字是：', number)\n",
    "        lose()\n",
    "\n",
    "def main():\n",
    "    while True:\n",
    "        menu()\n",
    "        choice = int(input('请输入你的选择'))\n",
    "        if choice == 1:\n",
    "            show_instruction()\n",
    "        elif choice == 2:\n",
    "            guess_game()\n",
    "        elif choice == 3:\n",
    "            game_over()\n",
    "            break\n",
    "        else:\n",
    "            show_team()\n",
    "\n",
    "main()\n"
   ]
  },
  {
   "cell_type": "code",
   "execution_count": null,
   "metadata": {
    "collapsed": true
   },
   "outputs": [],
   "source": []
  }
 ],
 "metadata": {
  "kernelspec": {
   "display_name": "Python 3",
   "language": "python",
   "name": "python3"
  },
  "language_info": {
   "codemirror_mode": {
    "name": "ipython",
    "version": 3
   },
   "file_extension": ".py",
   "mimetype": "text/x-python",
   "name": "python",
   "nbconvert_exporter": "python",
   "pygments_lexer": "ipython3",
   "version": "3.6.2"
  }
 },
 "nbformat": 4,
 "nbformat_minor": 2
}
