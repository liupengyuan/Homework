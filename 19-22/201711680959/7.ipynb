{
 "cells": [
  {
   "cell_type": "code",
   "execution_count": 74,
   "metadata": {},
   "outputs": [
    {
     "name": "stdout",
     "output_type": "stream",
     "text": [
      "abcdefghijklmnopqrstuvwxyz\n"
     ]
    },
    {
     "data": {
      "text/plain": [
       "'zyxwvutsrqponmlkjihgfedcba'"
      ]
     },
     "execution_count": 74,
     "metadata": {},
     "output_type": "execute_result"
    }
   ],
   "source": [
    "#练习一：自己定义一个reverse(s)函数，功能返回字符串s的倒序字符串。\n",
    "def reverse(s):\n",
    "    return(s[len(s)::-1])\n",
    "    \n",
    "s=str(input())\n",
    "reverse(s)\n",
    "    "
   ]
  },
  {
   "cell_type": "code",
   "execution_count": 73,
   "metadata": {},
   "outputs": [
    {
     "name": "stdout",
     "output_type": "stream",
     "text": [
      "请输入您想要的符号：*\n",
      "请输入菱形中上三角的行数：9\n",
      "直角三角形\n",
      "*\n",
      "**\n",
      "***\n",
      "****\n",
      "*****\n",
      "******\n",
      "*******\n",
      "********\n",
      "等腰三角形\n",
      "        *\n",
      "       ***\n",
      "      *****\n",
      "     *******\n",
      "    *********\n",
      "   ***********\n",
      "  *************\n",
      " ***************\n",
      "其他三角形\n",
      "         *\n",
      "        ***\n",
      "       ******\n",
      "      *********\n",
      "     ************\n",
      "    ***************\n",
      "   ******************\n",
      "  *********************\n",
      " ************************\n"
     ]
    }
   ],
   "source": [
    "#练习二：写函数，根据给定符号和行数，打印相应直角三角形，等腰三角形及其他形式的三角形。\n",
    "def t(m,n):\n",
    "    i=0\n",
    "    print('直角三角形')\n",
    "    for i in range(1,n):\n",
    "        print(m*i)\n",
    "    print('等腰三角形')\n",
    "    for i in range(1,n):\n",
    "        print((n-i)*' '+m*(2*i-1))\n",
    "    print('其他三角形')\n",
    "    print((n*' '+m))\n",
    "    for i in range(1,n):\n",
    "        print((n-i)*' '+m*(3*i))\n",
    "m=input('请输入您想要的符号：')\n",
    "n=int(input('请输入菱形中上三角的行数：'))\n",
    "t(m,n)"
   ]
  },
  {
   "cell_type": "code",
   "execution_count": 70,
   "metadata": {},
   "outputs": [
    {
     "name": "stdout",
     "output_type": "stream",
     "text": [
      "请输入您想要的符号：*\n",
      "请输入菱形中上三角的行数：8\n",
      "       *\n",
      "      ***\n",
      "     *****\n",
      "    *******\n",
      "   *********\n",
      "  ***********\n",
      " *************\n",
      "***************\n",
      " *************\n",
      "  ***********\n",
      "   *********\n",
      "    *******\n",
      "     *****\n",
      "      ***\n",
      "       *\n"
     ]
    }
   ],
   "source": [
    "#练习五：写函数，根据给定符号，打印各种菱形。\n",
    "def ling(m,n):\n",
    "    i=0\n",
    "    j=0\n",
    "    for i in range(1,n+1):\n",
    "        print((n-i)*' '+m*(2*i-1))\n",
    "    for j in range(n+2,2*n+1):\n",
    "        print((j-n-1)*' '+m*(2*(2*n-j+1)-1))\n",
    "m=input('请输入您想要的符号：')\n",
    "n=int(input('请输入菱形中上三角的行数：'))\n",
    "ling(m,n)\n",
    "        "
   ]
  },
  {
   "cell_type": "code",
   "execution_count": null,
   "metadata": {
    "collapsed": true
   },
   "outputs": [],
   "source": []
  },
  {
   "cell_type": "code",
   "execution_count": null,
   "metadata": {
    "collapsed": true
   },
   "outputs": [],
   "source": []
  },
  {
   "cell_type": "code",
   "execution_count": null,
   "metadata": {
    "collapsed": true
   },
   "outputs": [],
   "source": []
  }
 ],
 "metadata": {
  "kernelspec": {
   "display_name": "Python 3",
   "language": "python",
   "name": "python3"
  },
  "language_info": {
   "codemirror_mode": {
    "name": "ipython",
    "version": 3
   },
   "file_extension": ".py",
   "mimetype": "text/x-python",
   "name": "python",
   "nbconvert_exporter": "python",
   "pygments_lexer": "ipython3",
   "version": "3.6.2"
  }
 },
 "nbformat": 4,
 "nbformat_minor": 2
}
