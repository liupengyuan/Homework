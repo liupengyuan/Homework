{
 "cells": [
  {
   "cell_type": "code",
   "execution_count": 11,
   "metadata": {
    "scrolled": false
   },
   "outputs": [
    {
     "name": "stdout",
     "output_type": "stream",
     "text": [
      "1251\n",
      "插凉暗优合河村翼非淋\n",
      "好帘言眈裘杯心高时窍治蝇仰冲沓心藏真鲤叱\n",
      "华团主藏境绿造怡鲤真偷雅卧请逐仰动肠错宾幽冰旗雄盖绎簇错莫蜜\n",
      "砖钓则屋欲盾魉阵丘座惺惮舌乎指物面尊起上不玩柔韬故砥身食嚎缪路渐斩禽会孜毋鹄万烂\n",
      "靡饴补腕厚得船郑下朵七惑袖骇椟锲本瞻往弄悲算舍割呈盗雷辱生缺曲营友卫装奈眦劝度梦庸居拔转魉根惜德狐价\n",
      "夭冲贵枝帼古赶舍随邪骇绸尽襟两境编弹朝柔舌充人堂君清缝讳老真殊捭辙株俎吴伦体蜀里处克此任皇驹惶张韵残臼鼻如沽晴敏妻胡赵耻\n",
      "烟司颖往影缪尘振茕技伥情捉丘地我眸怒和方铩居步根政渝养口月服苗索夫惺忘喻顺仇立肉壳开徙惮睚岸连妻夏聊书取凿鹰张披间犹无载肥江悚坐侃驴藏止翁百\n",
      "苟照迟窈尽渔再夭田巫里南刚击名参取闭暖断效叹冠饮放炙治藉宜姬强容龙猿悬女海结柳临蛛空烂用雄覆璧登南左能鹿返秣因桀唳躬东铩欣吐轻击犀淋巷天参鳞底面所栗持法柳使伥吹\n",
      "帆巴伥祥南居能镳吃城投比姗秒炎意态披凤沉盘炼璞箭平冕袖可僵谁络则俱诣殄其颠了屋荐去反黄还狭缝无赅腾擎报冰轮章后项任烈忍和维膏悬星斧染侃尽故瞥烂晨素粟问鹄郎帝忘来说鳞钧雨琅唳狗船谈结\n",
      "学忌事真沫醉成界沫文舟陷合斯簇流楚冲愚弓插晦即琳九叶鬼雅弥贵豁镜敏碑择约俊猛鳞语半宝闺插伥覆蜀浪姗视竹到按俊离渝遂虹抛偷蛾绑蒙虫露顺狐枉财国叱亦遇杰救黩涸理河釜捭缕燕梨涌惜驹绌叹程聩娲刺赴欲右滴由族夜\n"
     ]
    }
   ],
   "source": [
    "import random\n",
    "def get_ch_table(line):\n",
    "    ch_table = []\n",
    "    for ch in line:\n",
    "        if ch not in ch_table:\n",
    "            ch_table.append(ch)\n",
    "    return ch_table\n",
    "\n",
    "fh = open(r'd:\\temp\\a.txt')\n",
    "text = fh.read()\n",
    "chs = get_ch_table(text.replace('\\n', ''))\n",
    "\n",
    "print(len(chs))    \n",
    "\n",
    "def sss(n):\n",
    "    a=''\n",
    "    i=0\n",
    "    while i<10*n:\n",
    "        k = random.choice(chs)\n",
    "        a=a+k\n",
    "        i=i+1\n",
    "    print(a)\n",
    "    return a\n",
    "fh = open(r'd:\\temp\\1.txt','w')\n",
    "fh.write(sss(1))\n",
    "fh.close()\n",
    "fh = open(r'd:\\temp\\2.txt','w')\n",
    "fh.write(sss(2))\n",
    "fh.close()\n",
    "fh = open(r'd:\\temp\\3.txt','w')\n",
    "fh.write(sss(3))\n",
    "fh.close()\n",
    "fh = open(r'd:\\temp\\4.txt','w')\n",
    "fh.write(sss(4))\n",
    "fh.close()\n",
    "fh = open(r'd:\\temp\\5.txt','w')\n",
    "fh.write(sss(5))\n",
    "fh = open(r'd:\\temp\\6.txt','w')\n",
    "fh.write(sss(6))\n",
    "fh.close()\n",
    "fh = open(r'd:\\temp\\7.txt','w')\n",
    "fh.write(sss(7))\n",
    "fh.close()\n",
    "fh = open(r'd:\\temp\\8.txt','w')\n",
    "fh.write(sss(8))\n",
    "fh.close()\n",
    "fh = open(r'd:\\temp\\9.txt','w')\n",
    "fh.write(sss(9))\n",
    "fh.close()\n",
    "fh = open(r'd:\\temp\\10.txt','w')\n",
    "fh.write(sss(10))\n",
    "fh.close()"
   ]
  },
  {
   "cell_type": "code",
   "execution_count": null,
   "metadata": {
    "collapsed": true
   },
   "outputs": [],
   "source": []
  },
  {
   "cell_type": "code",
   "execution_count": null,
   "metadata": {
    "collapsed": true
   },
   "outputs": [],
   "source": []
  },
  {
   "cell_type": "code",
   "execution_count": null,
   "metadata": {
    "collapsed": true
   },
   "outputs": [],
   "source": []
  }
 ],
 "metadata": {
  "kernelspec": {
   "display_name": "Python 3",
   "language": "python",
   "name": "python3"
  },
  "language_info": {
   "codemirror_mode": {
    "name": "ipython",
    "version": 3
   },
   "file_extension": ".py",
   "mimetype": "text/x-python",
   "name": "python",
   "nbconvert_exporter": "python",
   "pygments_lexer": "ipython3",
   "version": "3.6.2"
  }
 },
 "nbformat": 4,
 "nbformat_minor": 2
}
