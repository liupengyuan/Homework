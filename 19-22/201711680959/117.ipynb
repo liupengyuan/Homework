{
 "cells": [
  {
   "cell_type": "code",
   "execution_count": 1,
   "metadata": {},
   "outputs": [
    {
     "name": "stdout",
     "output_type": "stream",
     "text": [
      "请输入您需要的整数个数：5\n",
      "请输入整数下限：10\n",
      "请输入整数上限：500\n",
      "随机数和的平方根是： 17.406895185529212\n"
     ]
    }
   ],
   "source": [
    "import random,math\n",
    "i=0\n",
    "s=0\n",
    "m=int(input('请输入您需要的整数个数：'))\n",
    "n=int(input('请输入整数下限：'))\n",
    "k=int(input('请输入整数上限：'))\n",
    "while i<=m:\n",
    "    i=i+1\n",
    "    a=random.randint(n,k)\n",
    "    s=s+a\n",
    "result=math.sqrt(a)\n",
    "print('随机数和的平方根是：',result)\n"
   ]
  }
 ],
 "metadata": {
  "kernelspec": {
   "display_name": "Python 3",
   "language": "python",
   "name": "python3"
  },
  "language_info": {
   "codemirror_mode": {
    "name": "ipython",
    "version": 3
   },
   "file_extension": ".py",
   "mimetype": "text/x-python",
   "name": "python",
   "nbconvert_exporter": "python",
   "pygments_lexer": "ipython3",
   "version": "3.6.2"
  }
 },
 "nbformat": 4,
 "nbformat_minor": 2
}
