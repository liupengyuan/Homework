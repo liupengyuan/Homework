{
 "cells": [
  {
   "cell_type": "code",
   "execution_count": 18,
   "metadata": {},
   "outputs": [
    {
     "name": "stdout",
     "output_type": "stream",
     "text": [
      "请输入list中数字的个数：10\n",
      "请输入数字：1\n",
      "请输入数字：2\n",
      "请输入数字：-1\n",
      "请输入数字：55\n",
      "请输入数字：100\n",
      "请输入数字：899\n",
      "请输入数字：-10\n",
      "请输入数字：3\n",
      "请输入数字：12.5\n",
      "请输入数字：5.8\n",
      "[1.0, 2.0, -1.0, 55.0, 100.0, 899.0, -10.0, 3.0, 12.5, 5.8]\n",
      "最小值为： -10.0 最大值为： 899.0 平均值为： 106.6\n"
     ]
    }
   ],
   "source": [
    "##### 2.写函数，返回一个list中所有数字的和\n",
    "def fff(n):\n",
    "    numbers=[]\n",
    "    total=0\n",
    "    i=0\n",
    "    j=0\n",
    "    number_min=0\n",
    "    number_max=0\n",
    "    while i<n:\n",
    "        number=float(input('请输入数字：'))\n",
    "        numbers.append(number)\n",
    "        i=i+1\n",
    "    print(numbers)\n",
    "    for number in numbers:\n",
    "        total=total+int(number)\n",
    "        if number<number_min:\n",
    "            number_min=number\n",
    "        elif number>number_max:\n",
    "            number_max=number\n",
    "            \n",
    "    print('最小值为：',number_min,'最大值为：',number_max,'平均值为：',total/n)\n",
    "    return\n",
    "n=int(input('请输入list中数字的个数：'))\n",
    "fff(n)"
   ]
  }
 ],
 "metadata": {
  "kernelspec": {
   "display_name": "Python 3",
   "language": "python",
   "name": "python3"
  },
  "language_info": {
   "codemirror_mode": {
    "name": "ipython",
    "version": 3
   },
   "file_extension": ".py",
   "mimetype": "text/x-python",
   "name": "python",
   "nbconvert_exporter": "python",
   "pygments_lexer": "ipython3",
   "version": "3.6.2"
  }
 },
 "nbformat": 4,
 "nbformat_minor": 2
}
