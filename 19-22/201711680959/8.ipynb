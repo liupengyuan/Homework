{
 "cells": [
  {
   "cell_type": "code",
   "execution_count": 12,
   "metadata": {},
   "outputs": [
    {
     "name": "stdout",
     "output_type": "stream",
     "text": [
      "功德无量\n",
      "请您接龙：量体裁衣\n",
      "恭喜您！接对了！\n",
      "衣绣夜游\n",
      "请您接龙：游山玩水\n",
      "恭喜您！接对了！\n",
      "水中捞月\n",
      "请您接龙：月上柳梢\n",
      "恭喜您！接对了！\n",
      "计算机答错了！游戏结束！\n",
      "计算机得分为： 20 您的得分为： 30\n",
      "\n",
      "\n",
      "\n",
      "\n",
      "\n",
      "\n",
      "\n",
      "\n",
      "\n",
      "\n",
      "\n",
      "\n",
      "\n",
      "\n",
      "\n",
      "\n",
      "\n",
      "\n",
      "\n",
      "\n",
      "\n",
      "\n",
      "\n",
      "\n",
      "\n",
      "\n",
      "\n",
      "\n"
     ]
    }
   ],
   "source": [
    "#成语接龙游戏（习题课）\n",
    "fh = open(r'd:\\temp\\成语大全.txt')\n",
    "text = fh.read()\n",
    "fh.close()\n",
    "text = text.replace('、', '')\n",
    "chengyus = text.split('\\n')\n",
    "\n",
    "import random\n",
    "def chengyujielong(chengyu):\n",
    "\n",
    "    final=chengyu[len(chengyu)-1:len(chengyu)+1]\n",
    "    i=0\n",
    "    people=str(input('请您接龙：'))\n",
    "    scorepeople=0\n",
    "    scorecomputer=0\n",
    "    \n",
    "    while i<=30:\n",
    "        if people[0:1:1]==final:\n",
    "                print('恭喜您！接对了！')\n",
    "                scorepeople=scorepeople+10\n",
    "                go=[]\n",
    "                for com in chengyus:\n",
    "                    if com[0:1:1]==people[len(people)-1:len(people)+1]:\n",
    "                        final=com[len(com)-1:len(com)+1]\n",
    "                        go.append(com)\n",
    "                \n",
    "                if len(go)!=0:\n",
    "                    print(go[-1])\n",
    "                    scorecomputer=scorecomputer+10\n",
    "                    people=str(input('请您接龙：'))\n",
    "                elif len(go)==0:\n",
    "                    people='廆'\n",
    "                    print('计算机答错了！游戏结束！')\n",
    "                    print('计算机得分为：',scorecomputer,'您的得分为：',scorepeople)\n",
    "            \n",
    "        elif people=='廆':\n",
    "            print()\n",
    "        else:\n",
    "            print('您答错了！游戏结束！')\n",
    "            print('计算机得分为：',scorecomputer,'您的得分为：',scorepeople)\n",
    "            break\n",
    "        i=i+1\n",
    "chengyu= random.choice(chengyus)\n",
    "print(chengyu)\n",
    "chengyujielong(chengyu)\n",
    "                    "
   ]
  },
  {
   "cell_type": "code",
   "execution_count": null,
   "metadata": {
    "collapsed": true
   },
   "outputs": [],
   "source": []
  },
  {
   "cell_type": "code",
   "execution_count": null,
   "metadata": {
    "collapsed": true
   },
   "outputs": [],
   "source": []
  }
 ],
 "metadata": {
  "kernelspec": {
   "display_name": "Python 3",
   "language": "python",
   "name": "python3"
  },
  "language_info": {
   "codemirror_mode": {
    "name": "ipython",
    "version": 3
   },
   "file_extension": ".py",
   "mimetype": "text/x-python",
   "name": "python",
   "nbconvert_exporter": "python",
   "pygments_lexer": "ipython3",
   "version": "3.6.2"
  }
 },
 "nbformat": 4,
 "nbformat_minor": 2
}
