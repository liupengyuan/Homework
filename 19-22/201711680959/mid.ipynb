{
 "cells": [
  {
   "cell_type": "code",
   "execution_count": 11,
   "metadata": {},
   "outputs": [
    {
     "name": "stdout",
     "output_type": "stream",
     "text": [
      "请输入项数：5\n"
     ]
    },
    {
     "data": {
      "text/plain": [
       "35"
      ]
     },
     "execution_count": 11,
     "metadata": {},
     "output_type": "execute_result"
    }
   ],
   "source": [
    "#1.\n",
    "def www(m):\n",
    "    i=0\n",
    "    n=0\n",
    "    total=0\n",
    "    while i<m:\n",
    "        i=i+1\n",
    "        n=n+i\n",
    "        total=total+n\n",
    "    return total\n",
    "m=int(input('请输入项数：'))\n",
    "www(m)"
   ]
  },
  {
   "cell_type": "code",
   "execution_count": 4,
   "metadata": {},
   "outputs": [
    {
     "name": "stdout",
     "output_type": "stream",
     "text": [
      "请输入字符：*\n",
      "请输入行数：5\n",
      "*\n",
      "*\n",
      "*\n",
      "*\n",
      "*\n"
     ]
    }
   ],
   "source": [
    "#2.\n",
    "def tri(a,b):\n",
    "    i=0\n",
    "    j=0\n",
    "    for j in range(b):\n",
    "        while i<=j:\n",
    "            print(a,sep='')\n",
    "            i=i+1\n",
    "        j=j+1\n",
    "a=str(input('请输入字符：'))\n",
    "b=int(input('请输入行数：'))\n",
    "tri(a,b)\n",
    "    "
   ]
  },
  {
   "cell_type": "code",
   "execution_count": 29,
   "metadata": {},
   "outputs": [
    {
     "name": "stdout",
     "output_type": "stream",
     "text": [
      "请输入整数：48723478234432\n"
     ]
    },
    {
     "data": {
      "text/plain": [
       "4"
      ]
     },
     "execution_count": 29,
     "metadata": {},
     "output_type": "execute_result"
    }
   ],
   "source": [
    "#3.\n",
    "def first(n):\n",
    "    s=str(n)\n",
    "    l=len(s)\n",
    "    a=0\n",
    "    a=n//(10**(l-1))\n",
    "    return a\n",
    "n=int(input('请输入整数：'))\n",
    "first(n)\n",
    "    "
   ]
  },
  {
   "cell_type": "code",
   "execution_count": 2,
   "metadata": {},
   "outputs": [
    {
     "name": "stdout",
     "output_type": "stream",
     "text": [
      "请输入身高：183\n",
      "请输入身高：185\n",
      "请输入身高：183\n",
      "请输入身高：187\n",
      "请输入身高：178\n",
      "请输入身高：175\n",
      "请输入身高：177\n",
      "请输入身高：190\n",
      "请输入身高：172\n",
      "[183, 185, 183, 187, 178, 175, 177, 190, 172]\n",
      "183\n",
      "185\n",
      "183\n",
      "187\n",
      "190\n",
      "181.11111111111111\n"
     ]
    }
   ],
   "source": [
    "#4.\n",
    "numbers=[]\n",
    "i=0\n",
    "n=9\n",
    "a=0\n",
    "while i<n:\n",
    "    number=int(input('请输入身高：'))\n",
    "    numbers.append(number)\n",
    "    i=i+1\n",
    "print(numbers)\n",
    "for number in numbers:\n",
    "    a=a+number\n",
    "a=a/n\n",
    "for number in numbers:\n",
    "    if number>a:\n",
    "        print(number)\n",
    "print(a)\n",
    "    "
   ]
  },
  {
   "cell_type": "code",
   "execution_count": null,
   "metadata": {},
   "outputs": [
    {
     "name": "stdout",
     "output_type": "stream",
     "text": [
      "5 + 4 =\n",
      "答案是：9\n",
      "答对了！\n",
      "20\n",
      "5 + 9 =\n",
      "答案是：14\n",
      "答对了！\n",
      "40\n",
      "7 + 0 =\n",
      "答案是：7\n",
      "答对了！\n",
      "60\n",
      "2 + 3 =\n",
      "答案是：5\n",
      "答对了！\n",
      "80\n",
      "3 + 4 =\n",
      "答案是：7\n",
      "答对了！\n",
      "100\n"
     ]
    }
   ],
   "source": [
    "#5.\n",
    "import random,math\n",
    "i=0\n",
    "score=0\n",
    "while i<5:\n",
    "    m=random.randint(0,11)\n",
    "    n=random.randint(0,11)\n",
    "    print(m,'+',n,'=')\n",
    "    total=m+n\n",
    "    n=int(input('答案是：'))\n",
    "    if n==total:\n",
    "        score=score+20\n",
    "        print('答对了！')\n",
    "    else:\n",
    "        print('答错了！')\n",
    "    i=i+1\n",
    "    print(score)\n",
    "        "
   ]
  },
  {
   "cell_type": "code",
   "execution_count": 9,
   "metadata": {},
   "outputs": [
    {
     "name": "stdout",
     "output_type": "stream",
     "text": [
      "请输入序列长度：7\n",
      "请输入序列：3\n",
      "请输入序列：-5\n",
      "请输入序列：9\n",
      "请输入序列：108\n",
      "请输入序列：34\n",
      "请输入序列：-76\n",
      "请输入序列：88\n",
      "[3, -5, 9, 108, 34, -76, 88]\n",
      "[-76]\n"
     ]
    }
   ],
   "source": [
    "### 6.\n",
    "numbers1=[]\n",
    "numbers2=[]\n",
    "n=int(input('请输入序列长度：'))\n",
    "i=0\n",
    "j=0\n",
    "a=0\n",
    "while i<n:\n",
    "    number=int(input('请输入序列：'))\n",
    "    numbers1.append(number)\n",
    "    i=i+1\n",
    "print(numbers1)\n",
    "m=numbers1[1]\n",
    "for number in numbers1:\n",
    "    if number<m:\n",
    "        numbers2.append(number)\n",
    "print(numbers2)\n",
    "\n",
    "        "
   ]
  }
 ],
 "metadata": {
  "kernelspec": {
   "display_name": "Python 3",
   "language": "python",
   "name": "python3"
  },
  "language_info": {
   "codemirror_mode": {
    "name": "ipython",
    "version": 3
   },
   "file_extension": ".py",
   "mimetype": "text/x-python",
   "name": "python",
   "nbconvert_exporter": "python",
   "pygments_lexer": "ipython3",
   "version": "3.6.2"
  }
 },
 "nbformat": 4,
 "nbformat_minor": 2
}
