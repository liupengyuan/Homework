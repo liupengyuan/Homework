{
 "cells": [
  {
   "cell_type": "code",
   "execution_count": 42,
   "metadata": {},
   "outputs": [
    {
     "name": "stdout",
     "output_type": "stream",
     "text": [
      "请输入list中数字的个数：7\n",
      "请输入数字：5\n",
      "请输入数字：7\n",
      "请输入数字：8\n",
      "请输入数字：34\n",
      "请输入数字：2\n",
      "请输入数字：55\n",
      "请输入数字：23\n",
      "[5, 7, 8, 34, 2, 55, 23]\n",
      "请输入元素：55\n",
      "6\n"
     ]
    }
   ],
   "source": [
    "#1.写函数，返回某个元素/对象在一个list中的位置，如果不在，则返回-1.\n",
    "numbers=[]\n",
    "i=0\n",
    "j=0\n",
    "number_min=0\n",
    "number_max=0\n",
    "n=int(input('请输入list中数字的个数：'))\n",
    "while i<n:\n",
    "    number=int(input('请输入数字：'))\n",
    "    numbers.append(number)\n",
    "    i=i+1\n",
    "print(numbers)\n",
    "m=int(input('请输入元素：'))\n",
    "if m in numbers:\n",
    "    loc=numbers.index(m)+1\n",
    "else:\n",
    "    loc=-1\n",
    "print(loc)"
   ]
  },
  {
   "cell_type": "code",
   "execution_count": 17,
   "metadata": {},
   "outputs": [
    {
     "name": "stdout",
     "output_type": "stream",
     "text": [
      "请输入list中数字的个数：4\n",
      "请输入数字list1中的数字：1\n",
      "请输入数字list1中的数字：3\n",
      "请输入数字list1中的数字：5\n",
      "请输入数字list1中的数字：7\n",
      "请输入数字list2中的数字：2\n",
      "请输入数字list2中的数字：4\n",
      "请输入数字list2中的数字：6\n",
      "请输入数字list2中的数字：8\n",
      "[1, 3, 5, 7] [2, 4, 6, 8] [1, 2, 3, 4, 5, 6, 7, 8]\n"
     ]
    }
   ],
   "source": [
    "#2.写函数，可将两个相同长度的list，间隔插入，生成新的list。例如：给两个list，a=[1,2,3,4], b=[5,6,7,8]。则可以生成：[1,5,2,6,3,7,4,8]。\n",
    "numbers1=[]\n",
    "numbers2=[]\n",
    "numbers=[]\n",
    "i=0\n",
    "j=0\n",
    "k=0\n",
    "l=0\n",
    "n=int(input('请输入list中数字的个数：'))\n",
    "while i<n:\n",
    "    number1=int(input('请输入数字list1中的数字：'))\n",
    "    numbers1.append(number1)\n",
    "    i=i+1\n",
    "while j<n:\n",
    "    number2=int(input('请输入数字list2中的数字：'))\n",
    "    numbers2.append(number2)\n",
    "    j=j+1\n",
    "i=0\n",
    "j=0\n",
    "while i<len(numbers1) and j<len(numbers2):\n",
    "    numbers.append(numbers1[i])\n",
    "    numbers.append(numbers2[j])\n",
    "    i += 1\n",
    "    j += 1\n",
    "print(numbers1,numbers2,numbers)"
   ]
  },
  {
   "cell_type": "code",
   "execution_count": 46,
   "metadata": {},
   "outputs": [
    {
     "name": "stdout",
     "output_type": "stream",
     "text": [
      "请输入第一个向量坐标\n",
      "x1=0\n",
      "y1=1\n",
      "请输入第二个向量坐标\n",
      "x2=3\n",
      "y2=3\n",
      "vector1= [0, 1] vector2= [3, 3]\n",
      "cos=0.7071067811865476\n"
     ]
    }
   ],
   "source": [
    "#3.写函数，可求两个向量的夹角余弦值，向量可放在list中。主程序调用该函数。\n",
    "def sue(x1,x2,y1,y2):\n",
    "    vector1=[]\n",
    "    vector2=[]\n",
    "    cosv=0\n",
    "    son=0\n",
    "    mother1=0\n",
    "    mother2=0\n",
    "    mother=0\n",
    "    vector1.append(x1)\n",
    "    vector1.append(y1)\n",
    "    vector2.append(x2)\n",
    "    vector2.append(y2)\n",
    "    son=x1*x2+y1*y2\n",
    "    mother1=(x1**2+y1**2)**(1/2)\n",
    "    mother2=(x2**2+y2**2)**(1/2)\n",
    "    mother=mother1*mother2\n",
    "    cosv=son/mother\n",
    "    print('vector1=',vector1,'vector2=',vector2)\n",
    "    print('cos=',cosv,sep='')\n",
    "print('请输入第一个向量坐标')\n",
    "x1=int(input('x1='))\n",
    "y1=int(input('y1='))\n",
    "print('请输入第二个向量坐标')\n",
    "x2=int(input('x2='))\n",
    "y2=int(input('y2='))\n",
    "sue(x1,x2,y1,y2)"
   ]
  },
  {
   "cell_type": "code",
   "execution_count": 50,
   "metadata": {},
   "outputs": [
    {
     "name": "stdout",
     "output_type": "stream",
     "text": [
      "一共有3741种分法\n"
     ]
    }
   ],
   "source": [
    "#4.挑战性习题：python语言老师为了激励学生学python，自费买了100个完全相同的Macbook Pro，\n",
    "#分给三个班级，每个班级至少分5个，用穷举法计算共有多少种分法？\n",
    "method=0\n",
    "numbers=[]\n",
    "for i in range(100):\n",
    "    for j in range(100):\n",
    "        k=100-i-j\n",
    "        if i+j+k==100 and i>=5 and j>=5 and k>=5:\n",
    "            method=method+1\n",
    "print('一共有',method,'种分法',sep='')\n",
    "\n",
    "###备注：此处我把三个班级看作三个不同元素，故答案为进行排列后的方法数。"
   ]
  }
 ],
 "metadata": {
  "kernelspec": {
   "display_name": "Python 3",
   "language": "python",
   "name": "python3"
  },
  "language_info": {
   "codemirror_mode": {
    "name": "ipython",
    "version": 3
   },
   "file_extension": ".py",
   "mimetype": "text/x-python",
   "name": "python",
   "nbconvert_exporter": "python",
   "pygments_lexer": "ipython3",
   "version": "3.6.2"
  }
 },
 "nbformat": 4,
 "nbformat_minor": 2
}
