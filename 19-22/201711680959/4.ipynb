{
 "cells": [
  {
   "cell_type": "code",
   "execution_count": 34,
   "metadata": {},
   "outputs": [
    {
     "name": "stdout",
     "output_type": "stream",
     "text": [
      "请输入第一个数字3\n",
      "请输入第二个数字2\n",
      "请输入第三个数字5\n",
      "m!+n!+k!= 128\n"
     ]
    }
   ],
   "source": [
    "#练习 1：仿照求的完整代码，写程序，可求m!+n!+k!\n",
    "def mul(a):\n",
    "    i=0\n",
    "    s=1\n",
    "    while i<a:\n",
    "        i=i+1\n",
    "        s=s*i\n",
    "    return s\n",
    "m=int(input('请输入第一个数字'))\n",
    "n=int(input('请输入第二个数字'))\n",
    "k=int(input('请输入第三个数字'))\n",
    "print('m!+n!+k!=',mul(m)+mul(n)+mul(k))\n"
   ]
  },
  {
   "cell_type": "code",
   "execution_count": 41,
   "metadata": {},
   "outputs": [
    {
     "name": "stdout",
     "output_type": "stream",
     "text": [
      "3.1315929035585537\n",
      "3.1415826535897198\n"
     ]
    }
   ],
   "source": [
    "#练习 2：写函数可返回1 - 1/3 + 1/5 - 1/7...的前n项的和。在主程序中，分别令n=1000及100000，打印4倍该函数的和。\n",
    "def number_sum(n):\n",
    "    i=0\n",
    "    s=0\n",
    "    sig=1\n",
    "    while i<n:\n",
    "        i=i+1\n",
    "        if i%2==1:\n",
    "            sig=1\n",
    "        elif i%2==0:\n",
    "            sig=-1\n",
    "        s=s+sig/(2*i-1)\n",
    "    return s*4\n",
    "print(number_sum(100))\n",
    "print(number_sum(100000))"
   ]
  },
  {
   "cell_type": "code",
   "execution_count": 12,
   "metadata": {},
   "outputs": [
    {
     "name": "stdout",
     "output_type": "stream",
     "text": [
      "your name:孙嘉黛\n",
      "your birthday month:10\n",
      "your birthday day:16\n",
      "孙嘉黛 ，你是非常有性格的天秤座！\n",
      "please input an English word:watch\n",
      "watches\n"
     ]
    }
   ],
   "source": [
    "#练习 3：将task3中的练习1及练习4改写为函数，并进行调用。\n",
    "def birthday(month,day):\n",
    "    if (month==3 and day>=21 and day<=31) or (month==4 and day>=1 and day<=19):\n",
    "        print(name,'，你是非常有性格的白羊座！')\n",
    "    elif (month==4 and day>=20 and day<=28) or (month==5 and day>=1 and day<=20):\n",
    "        print(name,'，你是非常有性格的金牛座！')\n",
    "    elif (month==5 and day>=21 and day<=31) or (month==6 and day>=1 and day<=21):\n",
    "        print(name,'，你是非常有性格的双子座！')\n",
    "    elif (month==6 and day>=22 and day<=30) or (month==7 and day>=1 and day<=22):\n",
    "        print(name,'，你是非常有性格的巨蟹座！')\n",
    "    elif (month==7 and day>=23 and day<=31) or (month==8 and day>=1 and day<=22):\n",
    "        print(name,'，你是非常有性格的狮子座！')\n",
    "    elif (month==8 and day>=23 and day<=31) or (month==9 and day>=1 and day<=22):\n",
    "        print(name,'，你是非常有性格的处女座！')\n",
    "    elif (month==9 and day>=22 and day<=30) or (month==10 and day>=1 and day<=23):\n",
    "        print(name,'，你是非常有性格的天秤座！')\n",
    "    elif (month==10 and day>=22 and day<=31) or (month==11 and day>=1 and day<=22):\n",
    "        print(name,'，你是非常有性格的天蝎座！')\n",
    "    elif (month==11 and day>=22 and day<=30) or (month==12 and day>=1 and day<=21):\n",
    "        print(name,'，你是非常有性格的射手座！')\n",
    "    elif (month==1 and day>=20 and day<=31) or (month==2 and day>=1 and day<=18):\n",
    "        print(name,'，你是非常有性格的水瓶座！')\n",
    "    elif (month==2 and day>=19 and day<=30) or (month==3 and day>=1 and day<=20):\n",
    "        print(name,'，你是非常有性格的双鱼座！')\n",
    "    elif (month==12 and day>=22 and day<=31) or (month==1 and day>=1 and day<=19):\n",
    "        print(name,'，你是非常有性格的摩羯座！')\n",
    "    else:\n",
    "        print('NONE')\n",
    "    \n",
    "name=input('your name:')\n",
    "month=int(input('your birthday month:'))\n",
    "day=int(input('your birthday day:'))\n",
    "birthday(month,day)\n",
    "\n",
    "#练习4\n",
    "def define(at):    \n",
    "    if at.endswith('h')==True:\n",
    "        print(at,'es',sep='')\n",
    "    elif at.endswith('y')==True:\n",
    "        print('将此单词去掉y加上ies')\n",
    "    else:\n",
    "        print(at,'s',sep='')\n",
    "at=input('please input an English word:')\n",
    "define(at)\n",
    "\n"
   ]
  },
  {
   "cell_type": "code",
   "execution_count": 30,
   "metadata": {},
   "outputs": [
    {
     "name": "stdout",
     "output_type": "stream",
     "text": [
      "请输入一个整数：6\n",
      "请再输入一个整数：3\n",
      "输入间隔数：2\n"
     ]
    },
    {
     "data": {
      "text/plain": [
       "8"
      ]
     },
     "execution_count": 30,
     "metadata": {},
     "output_type": "execute_result"
    }
   ],
   "source": [
    "#挑战性练习：写程序，可以求从整数m到整数n累加的和，间隔为k，求和部分需用函数实现，主程序中由用户输入m，n，k调用函数验证正确性。\n",
    "def number_sum(m,n,k):\n",
    "    s=0\n",
    "    a=0\n",
    "    b=0\n",
    "    if n<m:\n",
    "        a=m\n",
    "        m=n\n",
    "        n=a\n",
    "        i=m\n",
    "        while i<=n:\n",
    "            s=s+i\n",
    "            i=i+k\n",
    "    else:\n",
    "        i=m\n",
    "        while i<=n:\n",
    "            s=s+i\n",
    "            i=i+k\n",
    "    return s\n",
    "m=int(input('请输入一个整数：'))\n",
    "n=int(input('请再输入一个整数：'))\n",
    "k=int(input('输入间隔数：'))\n",
    "number_sum(m,n,k)\n",
    "        "
   ]
  }
 ],
 "metadata": {
  "kernelspec": {
   "display_name": "Python 3",
   "language": "python",
   "name": "python3"
  },
  "language_info": {
   "codemirror_mode": {
    "name": "ipython",
    "version": 3
   },
   "file_extension": ".py",
   "mimetype": "text/x-python",
   "name": "python",
   "nbconvert_exporter": "python",
   "pygments_lexer": "ipython3",
   "version": "3.6.2"
  }
 },
 "nbformat": 4,
 "nbformat_minor": 2
}
