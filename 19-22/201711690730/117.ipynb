{
 "cells": [
  {
   "cell_type": "code",
   "execution_count": 1,
   "metadata": {
    "collapsed": false
   },
   "outputs": [
    {
     "name": "stdout",
     "output_type": "stream",
     "text": [
      "5\n",
      "10\n",
      "500\n"
     ]
    },
    {
     "data": {
      "text/plain": [
       "30.24896692450835"
      ]
     },
     "execution_count": 1,
     "metadata": {},
     "output_type": "execute_result"
    }
   ],
   "source": [
    "#利用计算机得到m个从n到k的随机整数,求这些数的和的平方根\n",
    "import math,random\n",
    "def game():\n",
    "    m=int(input())\n",
    "    n=int(input())\n",
    "    k=int(input())\n",
    "\n",
    "    i=0\n",
    "    total=0\n",
    "    while i<m:\n",
    "        a=random.randint(n,k)\n",
    "        total=total+a\n",
    "        i=i+1\n",
    "    return math.sqrt(total)\n",
    "    \n",
    "game()"
   ]
  }
 ],
 "metadata": {
  "kernelspec": {
   "display_name": "Python 3",
   "language": "python",
   "name": "python3"
  },
  "language_info": {
   "codemirror_mode": {
    "name": "ipython",
    "version": 3
   },
   "file_extension": ".py",
   "mimetype": "text/x-python",
   "name": "python",
   "nbconvert_exporter": "python",
   "pygments_lexer": "ipython3",
   "version": "3.6.0"
  }
 },
 "nbformat": 4,
 "nbformat_minor": 2
}
