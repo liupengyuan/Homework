{
 "cells": [
  {
   "cell_type": "code",
   "execution_count": 8,
   "metadata": {
    "collapsed": true
   },
   "outputs": [],
   "source": [
    "def my_sum(n):\n",
    "    i=0\n",
    "    total_a=0\n",
    "    x=1\n",
    "    while i<n:\n",
    "        total_a=total_a+x\n",
    "        x=x+1\n",
    "        i=i+1\n",
    "    return total_a"
   ]
  },
  {
   "cell_type": "code",
   "execution_count": 17,
   "metadata": {
    "collapsed": true
   },
   "outputs": [],
   "source": [
    "def my_mul(n):\n",
    "    i=0\n",
    "    total_b=1\n",
    "    x=1\n",
    "    while i<n:\n",
    "        total_b=total_b*x\n",
    "        x=x+1\n",
    "        i=i+1\n",
    "    return total_b"
   ]
  },
  {
   "cell_type": "code",
   "execution_count": 18,
   "metadata": {
    "collapsed": false
   },
   "outputs": [
    {
     "name": "stdout",
     "output_type": "stream",
     "text": [
      "请输入一个整数2\n",
      "请输入一个整数3\n",
      "8\n"
     ]
    }
   ],
   "source": [
    "m=int(input(\"请输入一个整数\"))\n",
    "n=int(input(\"请输入一个整数\"))\n",
    "if m>n:\n",
    "    print(my_sum(m)+my_sum(n))\n",
    "else:\n",
    "    print(my_mul(m)+my_mul(n))"
   ]
  }
 ],
 "metadata": {
  "kernelspec": {
   "display_name": "Python 3",
   "language": "python",
   "name": "python3"
  },
  "language_info": {
   "codemirror_mode": {
    "name": "ipython",
    "version": 3
   },
   "file_extension": ".py",
   "mimetype": "text/x-python",
   "name": "python",
   "nbconvert_exporter": "python",
   "pygments_lexer": "ipython3",
   "version": "3.6.0"
  }
 },
 "nbformat": 4,
 "nbformat_minor": 2
}
