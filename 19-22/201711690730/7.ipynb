{
 "cells": [
  {
   "cell_type": "code",
   "execution_count": 9,
   "metadata": {},
   "outputs": [
    {
     "data": {
      "text/plain": [
       "[8, 7, 6, 5, 4, 3, 2, 1]"
      ]
     },
     "execution_count": 9,
     "metadata": {},
     "output_type": "execute_result"
    }
   ],
   "source": [
    "#练习一：自己定义一个reverse(s)函数，功能返回字符串s的倒序字符串。\n",
    "def rev(line):\n",
    "    a=len(line)\n",
    "    line=line[a::-1]\n",
    "    return line\n",
    "rev([1,2,3,4,5,6,7,8])"
   ]
  },
  {
   "cell_type": "code",
   "execution_count": 16,
   "metadata": {},
   "outputs": [
    {
     "name": "stdout",
     "output_type": "stream",
     "text": [
      "^\n",
      "^^\n",
      "^^^\n",
      "^^^^\n",
      "^^^^^\n",
      "    m \n",
      "   m m \n",
      "  m m m \n",
      " m m m m \n",
      "m m m m m \n",
      "m \n",
      " m m \n",
      "  m m m \n",
      "   m m m m \n",
      "    m m m m m \n"
     ]
    }
   ],
   "source": [
    "#练习二：写函数，根据给定符号和行数，打印相应直角三角形，等腰三角形及其他形式的三角形。\n",
    "def triangle(m,n):\n",
    "    for i in range(n):\n",
    "        print(m*(i+1))\n",
    "    for i in range(n):\n",
    "        print(\" \"*(n-1-i),\"m \"*(i+1),sep=\"\")\n",
    "    for i in range(n):\n",
    "        print(\" \"*i,\"m \"*(i+1),sep=\"\")\n",
    "triangle(\"^\",5)"
   ]
  },
  {
   "cell_type": "code",
   "execution_count": 18,
   "metadata": {},
   "outputs": [
    {
     "name": "stdout",
     "output_type": "stream",
     "text": [
      "     m \n",
      "    m m \n",
      "   m m m \n",
      "  m m m m \n",
      " m m m m m \n",
      "m m m m m m \n",
      " m m m m m \n",
      "  m m m m \n",
      "   m m m \n",
      "    m m \n",
      "     m \n"
     ]
    }
   ],
   "source": [
    "#练习五：写函数，根据给定符号，打印各种菱形。\n",
    "def rhombus(m,n):\n",
    "    for i in range(n):\n",
    "        print(\" \"*(n-1-i),\"m \"*(i+1),sep=\"\")\n",
    "    for i in range(n-1):\n",
    "        print(\" \"*(i+1),\"m \"*(n-1-i),sep=\"\")\n",
    "rhombus(\"#\",6)"
   ]
  }
 ],
 "metadata": {
  "kernelspec": {
   "display_name": "Python 3",
   "language": "python",
   "name": "python3"
  },
  "language_info": {
   "codemirror_mode": {
    "name": "ipython",
    "version": 3
   },
   "file_extension": ".py",
   "mimetype": "text/x-python",
   "name": "python",
   "nbconvert_exporter": "python",
   "pygments_lexer": "ipython3",
   "version": "3.6.2"
  }
 },
 "nbformat": 4,
 "nbformat_minor": 2
}
