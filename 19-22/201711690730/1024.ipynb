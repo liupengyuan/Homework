{
 "cells": [
  {
   "cell_type": "code",
   "execution_count": 12,
   "metadata": {},
   "outputs": [
    {
     "name": "stdout",
     "output_type": "stream",
     "text": [
      "[1,1024]之间所有能被7整除的偶数的和 37814\n"
     ]
    }
   ],
   "source": [
    "i=1\n",
    "total=0\n",
    "while i<1025:\n",
    "    n=i%2\n",
    "    m=i%7\n",
    "    if m==0 and n==0:\n",
    "        total=total+i\n",
    "    i=i+1\n",
    "print(\"[1,1024]之间所有能被7整除的偶数的和\",total)\n",
    "        "
   ]
  }
 ],
 "metadata": {
  "kernelspec": {
   "display_name": "Python 3",
   "language": "python",
   "name": "python3"
  },
  "language_info": {
   "codemirror_mode": {
    "name": "ipython",
    "version": 3
   },
   "file_extension": ".py",
   "mimetype": "text/x-python",
   "name": "python",
   "nbconvert_exporter": "python",
   "pygments_lexer": "ipython3",
   "version": "3.6.2"
  }
 },
 "nbformat": 4,
 "nbformat_minor": 2
}
