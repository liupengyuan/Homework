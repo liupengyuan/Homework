{
 "cells": [
  {
   "cell_type": "code",
   "execution_count": 2,
   "metadata": {
    "collapsed": true
   },
   "outputs": [],
   "source": [
    "fh = open(r'c:\\temp\\成语大全.txt')\n",
    "text = fh.read()\n",
    "fh.close()\n",
    "text = text.replace('、', '')\n",
    "idioms = text.split('\\n')\n",
    "fh = open(r'c:\\temp\\成语大全新.txt', 'w')\n",
    "fh.writelines(idioms)\n",
    "fh.close()"
   ]
  },
  {
   "cell_type": "code",
   "execution_count": 3,
   "metadata": {},
   "outputs": [],
   "source": [
    "fh = open(r'c:\\temp\\成语大全新.txt')\n",
    "idioms = fh.read()\n",
    "fh.close()\n",
    "idiom = text.split('\\n')\n",
    "\n",
    "\n"
   ]
  },
  {
   "cell_type": "code",
   "execution_count": null,
   "metadata": {},
   "outputs": [
    {
     "name": "stdout",
     "output_type": "stream",
     "text": [
      "请输入一个成语开始游戏，以回车结束千钧一发\n"
     ]
    }
   ],
   "source": [
    "\n",
    "\n",
    "def play():\n",
    "    word_you=input(\"请输入一个成语开始游戏，以回车结束\")\n",
    "    you=0\n",
    "    pc=0\n",
    "    while 1<2:\n",
    "        if word_you in idiom:\n",
    "            you+=10\n",
    "            i=0\n",
    "            while i<2945:\n",
    "                if idioms[0]==word_you[3]:\n",
    "                    word_pc=idioms[i,i+4]\n",
    "                    print(word_pc)\n",
    "                    pc+=10\n",
    "                    word_you=input(\"请输入符合要求的四字成语\")\n",
    "                    break\n",
    "                    if word_you[0]==word_pc[3]:\n",
    "                        pass\n",
    "                    else:\n",
    "                        return print(\"GAME OVER!玩家分数与pc分数依次是\",you,pc)\n",
    "                        \n",
    "                else:\n",
    "                    i+=4\n",
    "play()\n",
    "            \n",
    "                \n",
    "                \n",
    "            \n",
    "            \n",
    "            \n",
    "    \n",
    "    "
   ]
  }
 ],
 "metadata": {
  "kernelspec": {
   "display_name": "Python 3",
   "language": "python",
   "name": "python3"
  },
  "language_info": {
   "codemirror_mode": {
    "name": "ipython",
    "version": 3
   },
   "file_extension": ".py",
   "mimetype": "text/x-python",
   "name": "python",
   "nbconvert_exporter": "python",
   "pygments_lexer": "ipython3",
   "version": "3.6.2"
  }
 },
 "nbformat": 4,
 "nbformat_minor": 2
}
