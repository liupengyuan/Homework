{
 "cells": [
  {
   "cell_type": "code",
   "execution_count": 2,
   "metadata": {},
   "outputs": [
    {
     "name": "stdout",
     "output_type": "stream",
     "text": [
      "请输入任意一个整数2\n",
      "请输入任意一个整数3\n",
      "请输入任意一个整数5\n",
      "128\n"
     ]
    }
   ],
   "source": [
    "m=int(input(\"请输入任意一个整数\"))\n",
    "n=int(input(\"请输入任意一个整数\"))\n",
    "k=int(input(\"请输入任意一个整数\"))\n",
    "def my_mul(a):\n",
    "    i=0\n",
    "    total=1\n",
    "    x=1\n",
    "    while i<a:\n",
    "        total=total*x\n",
    "        x=x+1\n",
    "        i=i+1\n",
    "    return total\n",
    "print(my_mul(m)+my_mul(n)+my_mul(k))"
   ]
  },
  {
   "cell_type": "code",
   "execution_count": 4,
   "metadata": {},
   "outputs": [
    {
     "name": "stdout",
     "output_type": "stream",
     "text": [
      "3.140592653839794\n",
      "3.1415826535897198\n"
     ]
    }
   ],
   "source": [
    "def fx(n):\n",
    "    total=0\n",
    "    i=0\n",
    "    b=1\n",
    "    while i<n:\n",
    "        a=2*b-1\n",
    "        if (i+2)%2==0:\n",
    "            total=total+1/a\n",
    "        else:\n",
    "            total=total-1/a\n",
    "        i=i+1\n",
    "        b=b+1\n",
    "    return total*4\n",
    "print(fx(1000))\n",
    "print(fx(100000))"
   ]
  },
  {
   "cell_type": "code",
   "execution_count": 11,
   "metadata": {},
   "outputs": [
    {
     "name": "stdout",
     "output_type": "stream",
     "text": [
      "请输入你的名字。南柱赫\n",
      "请输入你的出生日期2.22\n",
      "('南柱赫', '你是非常有性格的双鱼座！')\n"
     ]
    }
   ],
   "source": [
    "name=input(\"请输入你的名字。\")\n",
    "n=float(input(\"请输入你的出生日期\"))\n",
    "\n",
    "def pro(n):\n",
    "    if 3.20<n<4.21:\n",
    "        return name,\"你是非常有性格的白羊座！\"\n",
    "    elif 4.20<n<5.22:\n",
    "        return name,\"你是非常有性格的金牛座！\"\n",
    "    elif 5.21<n<6.22:\n",
    "        return name,\"你是非常有性格的双子座！\"\n",
    "    elif 6.21<n<7.23:\n",
    "        return name,\"你是非常有性格的巨蟹座！\"\n",
    "    elif 7.22<n<8.23:\n",
    "        return name,\"你是非常有性格的狮子座！\"\n",
    "    elif 8.22<n<9.24:\n",
    "        return name,\"你是非常有性格的处女座！\"\n",
    "    elif 9.23<n<10.24:\n",
    "        return name,\"你是非常有性格的天秤座！\"\n",
    "    elif 10.23<n<11.23:\n",
    "        return name,\"你是非常有性格的天蝎座！\"\n",
    "    elif 11.22<n<12.22:\n",
    "        return name,\"你是非常有性格的射手座！\"\n",
    "    elif n>12.21 or n<1.21:\n",
    "        return name,\"你是非常有性格的摩羯座！\"\n",
    "    elif 1.20<n<2.20:\n",
    "        return name,\"你是非常有性格的水瓶座！\"\n",
    "    else :\n",
    "        return name,\"你是非常有性格的双鱼座！\"\n",
    "print(pro(n))\n",
    "    "
   ]
  },
  {
   "cell_type": "code",
   "execution_count": 13,
   "metadata": {},
   "outputs": [
    {
     "name": "stdout",
     "output_type": "stream",
     "text": [
      "请输入一个可数名词wife\n",
      "单词结尾加es\n"
     ]
    }
   ],
   "source": [
    "def cha(n):\n",
    "    if n.endswith(\"s\")or(\"sh\")or(\"ch\")or(\"x\"):\n",
    "        return \"单词结尾加es\"\n",
    "    elif n.endswith(\"f\")or(\"fe\"):\n",
    "        return \"变f，fe为ves\"\n",
    "    else:\n",
    "        return \"加s\"\n",
    "n=input(\"请输入一个可数名词\")\n",
    "print(cha(n))\n",
    "    \n",
    "    "
   ]
  },
  {
   "cell_type": "code",
   "execution_count": 2,
   "metadata": {},
   "outputs": [],
   "source": [
    "#挑战性练习：写程序，可以求从整数m到整数n累加的和，间隔为k，求和部分需用函数实现，主程序中由用户输入m，n，k调用函数验证正确性。\n",
    "def sum(m,n,k):\n",
    "    total=n\n",
    "    a=(m-n)%k\n",
    "    if a==0:\n",
    "        while m!=n:\n",
    "            total=total+m\n",
    "            m=m+k\n",
    "        return total\n",
    "    else:\n",
    "        return \"函数不正确。\"\n",
    "        \n",
    "        \n",
    "    \n",
    "        "
   ]
  },
  {
   "cell_type": "code",
   "execution_count": 3,
   "metadata": {},
   "outputs": [
    {
     "name": "stdout",
     "output_type": "stream",
     "text": [
      "30\n"
     ]
    }
   ],
   "source": [
    "print(sum(2,10,2))"
   ]
  }
 ],
 "metadata": {
  "kernelspec": {
   "display_name": "Python 3",
   "language": "python",
   "name": "python3"
  },
  "language_info": {
   "codemirror_mode": {
    "name": "ipython",
    "version": 3
   },
   "file_extension": ".py",
   "mimetype": "text/x-python",
   "name": "python",
   "nbconvert_exporter": "python",
   "pygments_lexer": "ipython3",
   "version": "3.6.2"
  }
 },
 "nbformat": 4,
 "nbformat_minor": 2
}
