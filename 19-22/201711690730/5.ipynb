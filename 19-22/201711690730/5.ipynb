{
 "cells": [
  {
   "cell_type": "code",
   "execution_count": 3,
   "metadata": {},
   "outputs": [
    {
     "data": {
      "text/plain": [
       "4.636809247747852"
      ]
     },
     "execution_count": 3,
     "metadata": {},
     "output_type": "execute_result"
    }
   ],
   "source": [
    "#练习 1：写函数，求n个随机整数均值的平方根，整数范围在m与k之间（n,m,k由用户输入)\n",
    "import random,math\n",
    "def main(n,m,k):\n",
    "    i=0\n",
    "    total=0\n",
    "    if m>k:\n",
    "        m=m\n",
    "        k=k\n",
    "    else:\n",
    "        a=m\n",
    "        m=k\n",
    "        k=a\n",
    "    while i<n:\n",
    "        number = random.randint(k,m)\n",
    "        total=total+number\n",
    "        i=i+1\n",
    "    res=total/n\n",
    "    return math.sqrt(res)\n",
    "main(8,7,37)\n",
    "        \n",
    "    \n",
    "    "
   ]
  },
  {
   "cell_type": "code",
   "execution_count": 12,
   "metadata": {},
   "outputs": [
    {
     "name": "stdout",
     "output_type": "stream",
     "text": [
      "4.021189299069938\n",
      "5.457207839017005\n"
     ]
    }
   ],
   "source": [
    "#练习 2：写函数，共n个随机整数，整数范围在m与k之间，（n,m,k由用户输入）。求1：西格玛log(随机整数)，2：西格玛1/log(随机整数)\n",
    "import random,math\n",
    "def sig_1(n,m,k):\n",
    "    if m>k:\n",
    "        m=m\n",
    "        k=k\n",
    "    else:\n",
    "        a=m\n",
    "        m=k\n",
    "        k=a\n",
    "    i=0\n",
    "    total=0\n",
    "    while i<n:\n",
    "        number=random.randint(k,m)\n",
    "        total=total+math.log10(number)\n",
    "        i=i+1\n",
    "    return total\n",
    "\n",
    "\n",
    "\n",
    "\n",
    "def sig_2(n,m,k):\n",
    "    if m>k:\n",
    "        m=m\n",
    "        k=k\n",
    "    else:\n",
    "        a=m\n",
    "        m=k\n",
    "        k=a\n",
    "    i=0\n",
    "    total=0\n",
    "    while i<n:\n",
    "        number=random.randint(k,m)\n",
    "        total=total+1/(math.log10(number))\n",
    "        i=i+1\n",
    "    return total\n",
    "print(sig_1(5,1,10))\n",
    "print(sig_2(9,2,100))\n",
    "\n"
   ]
  },
  {
   "cell_type": "code",
   "execution_count": 13,
   "metadata": {},
   "outputs": [
    {
     "data": {
      "text/plain": [
       "864192.0"
      ]
     },
     "execution_count": 13,
     "metadata": {},
     "output_type": "execute_result"
    }
   ],
   "source": [
    "#练习 3：写函数，求s=a+aa+aaa+aaaa+aa...a的值，其中a是[1,9]之间的随机整数。例如2+22+222+2222+22222(此时共有5个数相加)，几个数相加由键盘输入。\n",
    "import random\n",
    "def result(n):\n",
    "    i=0\n",
    "    total=0\n",
    "    a=random.randint(1,9)\n",
    "    b=1\n",
    "    while i<n:\n",
    "        total=total+(10**b-1)/9*a\n",
    "        b=b+1\n",
    "        i=i+1\n",
    "    return total\n",
    "result(6)\n"
   ]
  },
  {
   "cell_type": "code",
   "execution_count": 1,
   "metadata": {},
   "outputs": [
    {
     "name": "stdout",
     "output_type": "stream",
     "text": [
      "请输入一至一千任意整数200\n",
      "609\n",
      "判断数字是否正确，如果正确扣1 猜大了扣2 猜小了扣32\n",
      "334\n",
      "判断数字是否正确，如果正确扣1 猜大了扣2 猜小了扣32\n",
      "325\n",
      "判断数字是否正确，如果正确扣1 猜大了扣2 猜小了扣32\n",
      "323\n",
      "判断数字是否正确，如果正确扣1 猜大了扣2 猜小了扣32\n",
      "83\n",
      "判断数字是否正确，如果正确扣1 猜大了扣2 猜小了扣33\n",
      "312\n",
      "判断数字是否正确，如果正确扣1 猜大了扣2 猜小了扣32\n",
      "126\n",
      "判断数字是否正确，如果正确扣1 猜大了扣2 猜小了扣33\n",
      "274\n",
      "判断数字是否正确，如果正确扣1 猜大了扣2 猜小了扣32\n",
      "224\n",
      "判断数字是否正确，如果正确扣1 猜大了扣2 猜小了扣32\n",
      "216\n",
      "判断数字是否正确，如果正确扣1 猜大了扣2 猜小了扣32\n",
      "188\n",
      "判断数字是否正确，如果正确扣1 猜大了扣2 猜小了扣33\n",
      "199\n",
      "判断数字是否正确，如果正确扣1 猜大了扣2 猜小了扣33\n",
      "207\n",
      "判断数字是否正确，如果正确扣1 猜大了扣2 猜小了扣32\n",
      "206\n",
      "判断数字是否正确，如果正确扣1 猜大了扣2 猜小了扣32\n",
      "202\n",
      "判断数字是否正确，如果正确扣1 猜大了扣2 猜小了扣32\n",
      "202\n",
      "判断数字是否正确，如果正确扣1 猜大了扣2 猜小了扣32\n",
      "202\n",
      "判断数字是否正确，如果正确扣1 猜大了扣2 猜小了扣32\n",
      "201\n",
      "判断数字是否正确，如果正确扣1 猜大了扣2 猜小了扣32\n",
      "200\n",
      "判断数字是否正确，如果正确扣1 猜大了扣2 猜小了扣31\n",
      "Win!\n"
     ]
    }
   ],
   "source": [
    "#挑战性练习：仿照task5，将猜数游戏改成由用户随便选择一个整数，让计算机来猜测的猜数游戏，要求和task5中人猜测的方法类似，但是人机角色对换，由人来\n",
    "#判断猜测是大、小还是相等，请写出完整的猜数游戏。\n",
    "import math,random\n",
    "def win():\n",
    "    print('Win!')\n",
    "    \n",
    "def lose():\n",
    "    print('Lose!')\n",
    "    \n",
    "def guess_game():\n",
    "    n=int(input(\"请输入一至一千任意整数\"))\n",
    "    c=1\n",
    "    d=1000\n",
    "    a=random.randint(c,d)\n",
    "    print(a)\n",
    "    m=int(input(\"判断数字是否正确，如果正确扣1 猜大了扣2 猜小了扣3\"))\n",
    "    while m!=1:\n",
    "        \n",
    "        if m==2:\n",
    "            d=a\n",
    "            a=random.randint(c,d)\n",
    "            \n",
    "        else:\n",
    "            c=a\n",
    "            a=random.randint(c,d)\n",
    "        print(a)\n",
    "        m=int(input(\"判断数字是否正确，如果正确扣1 猜大了扣2 猜小了扣3\"))\n",
    "        \n",
    "    win()\n",
    "guess_game()\n",
    "\n",
    "\n",
    "\n",
    "\n",
    "\n",
    "\n",
    "\n",
    "\n",
    "\n",
    "\n"
   ]
  }
 ],
 "metadata": {
  "kernelspec": {
   "display_name": "Python 3",
   "language": "python",
   "name": "python3"
  },
  "language_info": {
   "codemirror_mode": {
    "name": "ipython",
    "version": 3
   },
   "file_extension": ".py",
   "mimetype": "text/x-python",
   "name": "python",
   "nbconvert_exporter": "python",
   "pygments_lexer": "ipython3",
   "version": "3.6.2"
  }
 },
 "nbformat": 4,
 "nbformat_minor": 2
}
