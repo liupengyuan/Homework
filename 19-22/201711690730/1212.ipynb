{
 "cells": [
  {
   "cell_type": "code",
   "execution_count": 50,
   "metadata": {},
   "outputs": [],
   "source": [
    "\n",
    "fh = open(r'c:\\temp\\成语大全.txt')\n",
    "text = fh.read()\n",
    "fh.close()\n",
    "text = text.replace('、', '')\n",
    "idioms = text.split('\\n')\n",
    "fh = open(r'c:\\temp\\成语大全新.txt', 'w')\n",
    "fh.writelines(idioms)\n",
    "fh.close()"
   ]
  },
  {
   "cell_type": "code",
   "execution_count": 24,
   "metadata": {},
   "outputs": [
    {
     "name": "stdout",
     "output_type": "stream",
     "text": [
      "望使浮谈代杏沉半华九\n"
     ]
    }
   ],
   "source": [
    "fh = open(r'c:\\temp\\成语大全新.txt')\n",
    "idioms = fh.read()\n",
    "fh.close()\n",
    "import random\n",
    "id1=\"\"\n",
    "for i in range(10):\n",
    "    id = random.choice(idioms)\n",
    "    id1=id1+id\n",
    "print(id1)\n",
    "fh = open(r'c:\\temp\\1.txt', 'w')\n",
    "fh.writelines(id1)\n",
    "fh.close()"
   ]
  },
  {
   "cell_type": "code",
   "execution_count": 23,
   "metadata": {},
   "outputs": [
    {
     "name": "stdout",
     "output_type": "stream",
     "text": [
      "甚落咤诸腾徒快恐花栋历心猴天甜斧马说伥象\n"
     ]
    }
   ],
   "source": [
    "id2=\"\"\n",
    "for i in range(20):\n",
    "    id = random.choice(idioms)\n",
    "    id2=id2+id\n",
    "print(id2)\n",
    "fh = open(r'c:\\temp\\2.txt', 'w')\n",
    "fh.writelines(id2)\n",
    "fh.close()"
   ]
  },
  {
   "cell_type": "code",
   "execution_count": 25,
   "metadata": {},
   "outputs": [
    {
     "name": "stdout",
     "output_type": "stream",
     "text": [
      "斗入鬼边天锦数衣平欣壮缚价以芙巢鹏狐无闻语道瀣衷砥巷天天花镳\n"
     ]
    }
   ],
   "source": [
    "id3=\"\"\n",
    "for i in range(30):\n",
    "    id = random.choice(idioms)\n",
    "    id3=id3+id\n",
    "print(id3)\n",
    "fh = open(r'c:\\temp\\3.txt', 'w')\n",
    "fh.writelines(id3)\n",
    "fh.close()"
   ]
  },
  {
   "cell_type": "code",
   "execution_count": 26,
   "metadata": {},
   "outputs": [
    {
     "name": "stdout",
     "output_type": "stream",
     "text": [
      "华兄亡万无飞沓双毛语自涂即笑照乐蒙水节惊目家蓉半儒斯鹤矢与愚堂惊光百巢约马辕过生\n"
     ]
    }
   ],
   "source": [
    "id4=\"\"\n",
    "for i in range(40):\n",
    "    id = random.choice(idioms)\n",
    "    id4=id4+id\n",
    "print(id4)\n",
    "fh = open(r'c:\\temp\\4.txt', 'w')\n",
    "fh.writelines(id4)\n",
    "fh.close()"
   ]
  },
  {
   "cell_type": "code",
   "execution_count": 27,
   "metadata": {},
   "outputs": [
    {
     "name": "stdout",
     "output_type": "stream",
     "text": [
      "大不水鸿三情返千之及突魏天刀羁楼鸣我真一夭随了绌涌无掌兵挑插风无荆己绝穿色中政亦明道言事贵无效人族暮\n"
     ]
    }
   ],
   "source": [
    "id5=\"\"\n",
    "for i in range(50):\n",
    "    id = random.choice(idioms)\n",
    "    id5=id5+id\n",
    "print(id5)\n",
    "fh = open(r'c:\\temp\\5.txt', 'w')\n",
    "fh.writelines(id5)\n",
    "fh.close()"
   ]
  },
  {
   "cell_type": "code",
   "execution_count": 28,
   "metadata": {},
   "outputs": [
    {
     "name": "stdout",
     "output_type": "stream",
     "text": [
      "倾雨心腕琴猴仆无子公尽川世怨学蓝止迹阳之斩春见马娇营所开醉骨入颖中恢法明相尘文之摸纶十羊如锋荏之大壳涸默成海海万于长荣窠\n"
     ]
    }
   ],
   "source": [
    "id6=\"\"\n",
    "for i in range(60):\n",
    "    id = random.choice(idioms)\n",
    "    id6=id6+id\n",
    "print(id6)\n",
    "fh = open(r'c:\\temp\\6.txt', 'w')\n",
    "fh.writelines(id6)\n",
    "fh.close()"
   ]
  },
  {
   "cell_type": "code",
   "execution_count": 29,
   "metadata": {},
   "outputs": [
    {
     "name": "stdout",
     "output_type": "stream",
     "text": [
      "眦弹左之人暗养人对不以成扫自人春一后九十天待之来渴梨风同再惯无安副造心流海一人对秋机知网责一金向虎之椟为风怨于穷仆鬼见花辙怨根李无哭而相睚恢\n"
     ]
    }
   ],
   "source": [
    "id7=\"\"\n",
    "for i in range(70):\n",
    "    id = random.choice(idioms)\n",
    "    id7=id7+id\n",
    "print(id7)\n",
    "fh = open(r'c:\\temp\\7.txt', 'w')\n",
    "fh.writelines(id7)\n",
    "fh.close()"
   ]
  },
  {
   "cell_type": "code",
   "execution_count": 30,
   "metadata": {},
   "outputs": [
    {
     "name": "stdout",
     "output_type": "stream",
     "text": [
      "计公衰望填极铩小择在诺绝墨左大孜蛾云肝一寒全首喑一万没风群今阿邪臼亭死让惊誉作男欢水人两一座得色打箭于情之风反七醉虫喘前过单两志晷深闻独因求机抽鱼城弹不口造欣海\n"
     ]
    }
   ],
   "source": [
    "id8=\"\"\n",
    "for i in range(80):\n",
    "    id = random.choice(idioms)\n",
    "    id8=id8+id\n",
    "print(id8)\n",
    "fh = open(r'c:\\temp\\8.txt', 'w')\n",
    "fh.writelines(id8)\n",
    "fh.close()"
   ]
  },
  {
   "cell_type": "code",
   "execution_count": 31,
   "metadata": {},
   "outputs": [
    {
     "name": "stdout",
     "output_type": "stream",
     "text": [
      "体草千无晕缨今生走了东五言从怡男彰阿涛可子兔鼎口火踽车五青于宝凉白现凤欲南远枪狐心无万步三韬叹不忌过死食一从浪敏不绑著肥百将惺鼓心自南莫和惺城栗假喜无长功庭炼此风火措手惑莫无吁镳年\n"
     ]
    }
   ],
   "source": [
    "id9=\"\"\n",
    "for i in range(90):\n",
    "    id = random.choice(idioms)\n",
    "    id9=id9+id\n",
    "print(id9)\n",
    "fh = open(r'c:\\temp\\9.txt', 'w')\n",
    "fh.writelines(id9)\n",
    "fh.close()"
   ]
  },
  {
   "cell_type": "code",
   "execution_count": 32,
   "metadata": {},
   "outputs": [
    {
     "name": "stdout",
     "output_type": "stream",
     "text": [
      "百及不肓盲十如自家心聋解入如李月翼三德渴金无干于窟苦海醉望仇百不空骄栗恶照返舟言羽反邪照怒薄门仙恢下直树弄空风海梦下聋纸尸黔约安必邦斧索勿之明僵理由而腋蓉尽眉恨仙皆不嚣学涂香填雄赵奇而网科求遂用人瑜东\n"
     ]
    }
   ],
   "source": [
    "id10=\"\"\n",
    "for i in range(100):\n",
    "    id = random.choice(idioms)\n",
    "    id10=id10+id\n",
    "print(id10)\n",
    "fh = open(r'c:\\temp\\10.txt', 'w')\n",
    "fh.writelines(id10)\n",
    "fh.close()"
   ]
  }
 ],
 "metadata": {
  "kernelspec": {
   "display_name": "Python 3",
   "language": "python",
   "name": "python3"
  },
  "language_info": {
   "codemirror_mode": {
    "name": "ipython",
    "version": 3
   },
   "file_extension": ".py",
   "mimetype": "text/x-python",
   "name": "python",
   "nbconvert_exporter": "python",
   "pygments_lexer": "ipython3",
   "version": "3.6.2"
  }
 },
 "nbformat": 4,
 "nbformat_minor": 2
}
