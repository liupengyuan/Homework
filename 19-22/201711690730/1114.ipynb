{
 "cells": [
  {
   "cell_type": "code",
   "execution_count": 2,
   "metadata": {},
   "outputs": [
    {
     "data": {
      "text/plain": [
       "(899, -10, 106.72999999999999)"
      ]
     },
     "execution_count": 2,
     "metadata": {},
     "output_type": "execute_result"
    }
   ],
   "source": [
    "\n",
    "\n",
    "def play():\n",
    "    total=0\n",
    "    numbers=[1,2,-1,55,100,899,-10,3,12.5,5.8]\n",
    "    number_1=1\n",
    "    number_2=1\n",
    "    i=0\n",
    "    for number in numbers:\n",
    "        \n",
    "\n",
    "        total+=numbers[i]\n",
    "        if numbers[i]>number_1:\n",
    "            number_1=numbers[i]\n",
    "        elif numbers[i]<number_2:\n",
    "            number_2=numbers[i]\n",
    "        else:\n",
    "            number_1=number_1\n",
    "        i+=1\n",
    "        \n",
    "    return number_1,number_2,total/10\n",
    "play()\n",
    "\n",
    "\n",
    "\n"
   ]
  }
 ],
 "metadata": {
  "kernelspec": {
   "display_name": "Python 3",
   "language": "python",
   "name": "python3"
  },
  "language_info": {
   "codemirror_mode": {
    "name": "ipython",
    "version": 3
   },
   "file_extension": ".py",
   "mimetype": "text/x-python",
   "name": "python",
   "nbconvert_exporter": "python",
   "pygments_lexer": "ipython3",
   "version": "3.6.2"
  }
 },
 "nbformat": 4,
 "nbformat_minor": 2
}
