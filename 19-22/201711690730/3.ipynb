{
 "cells": [
  {
   "cell_type": "code",
   "execution_count": 4,
   "metadata": {},
   "outputs": [
    {
     "name": "stdout",
     "output_type": "stream",
     "text": [
      "请输入你的名字宇宙无敌小可爱\n",
      "请输入你的出生月份10\n",
      "请输入你的出生日期26\n",
      "宇宙无敌小可爱,你是非常有性格的天蝎座！\n"
     ]
    }
   ],
   "source": [
    "name=input(\"请输入你的名字\")\n",
    "m=int(input(\"请输入你的出生月份\"))\n",
    "n=int(input(\"请输入你的出生日期\"))\n",
    "if m==1:\n",
    "    if n>20:\n",
    "        print(name,\"你是非常有性格的水瓶座！\",sep=\",\")\n",
    "    else:\n",
    "        print(name,\"你是非常有性格的摩羯座！\",sep=\",\")\n",
    "elif m==2:\n",
    "    if n>19:\n",
    "        print(name,\"你是非常有性格的双鱼座！\",sep=\",\")\n",
    "    else:\n",
    "        print(name,\"你是非常有性格的水瓶座！\",sep=\",\")\n",
    "elif m==3:\n",
    "    if n>20:\n",
    "        print(name,\"你是非常有性格的白羊座！\",sep=\",\")\n",
    "    else:\n",
    "        print(name,\"你是非常有性格的双鱼座！\",sep=\",\")\n",
    "        \n",
    "elif m==4:\n",
    "    if n>20:\n",
    "        print(name,\"你是非常有性格的金牛座！\",sep=\",\")\n",
    "    else:\n",
    "        print(name,\"你是非常有性格的白羊座！\",sep=\",\")\n",
    "elif m==5:\n",
    "    if n>21:\n",
    "        print(name,\"你是非常有性格的双子座！\",sep=\",\")\n",
    "    else:\n",
    "        print(name,\"你是非常有性格的金牛座！\",sep=\",\")\n",
    "elif m==6:\n",
    "    if n>21:\n",
    "        print(name,\"你是非常有性格的巨蟹座！\",sep=\",\")\n",
    "    else:\n",
    "        print(name,\"你是非常有性格的双子座！\",sep=\",\")\n",
    "elif m==7:\n",
    "    if n>22:\n",
    "        print(name,\"你是非常有性格的狮子座！\",sep=\",\")\n",
    "    else:\n",
    "        print(name,\"你是非常有性格的巨蟹座！\",sep=\",\")\n",
    "elif m==8:\n",
    "    if n>22:\n",
    "        print(name,\"你是非常有性格的处女座！\",sep=\",\")\n",
    "    else:\n",
    "        print(name,\"你是非常有性格的狮子座！\",sep=\",\")\n",
    "elif m==9:\n",
    "    if n>23:\n",
    "        print(name,\"你是非常有性格的天秤座！\",sep=\",\")\n",
    "    else:\n",
    "        print(name,\"你是非常有性格的处女座！\",sep=\",\")\n",
    "elif m==10:\n",
    "    if n>23:\n",
    "        print(name,\"你是非常有性格的天蝎座！\",sep=\",\")\n",
    "    else:\n",
    "        print(name,\"你是非常有性格的天秤座！\",sep=\",\")\n",
    "elif m==11:\n",
    "    if n>22:\n",
    "        print(name,\"你是非常有性格的射手座！\",sep=\",\")\n",
    "    else:\n",
    "        print(name,\"你是非常有性格的天蝎座！\",sep=\",\")\n",
    "elif m==12:\n",
    "    if n>21:\n",
    "        print(name,\"你是非常有性格的摩羯座！\",sep=\",\")\n",
    "    else:\n",
    "        print(name,\"你是非常有性格的射手座！\",sep=\",\")\n",
    "        \n",
    "    \n",
    "        "
   ]
  },
  {
   "cell_type": "code",
   "execution_count": 8,
   "metadata": {},
   "outputs": [
    {
     "name": "stdout",
     "output_type": "stream",
     "text": [
      "请输入一个整数90\n",
      "请输入一个不为0的整数30\n",
      "如果想要求和请输入1  如果想要得乘积请输入2  如果想要求余数请输入3 其他请输入02\n",
      "2700\n"
     ]
    }
   ],
   "source": [
    "m=int(input(\"请输入一个整数\"))\n",
    "n=int(input(\"请输入一个不为0的整数\"))\n",
    "a=int(input(\"如果想要求和请输入1  如果想要得乘积请输入2  如果想要求余数请输入3 其他请输入0\"))\n",
    "if a==1:\n",
    "    result=m+n\n",
    "elif a==2:\n",
    "    result=m*n\n",
    "elif a==3:\n",
    "    result=m%n\n",
    "else:\n",
    "    result=m//n\n",
    "print(result)"
   ]
  },
  {
   "cell_type": "code",
   "execution_count": 11,
   "metadata": {},
   "outputs": [
    {
     "name": "stdout",
     "output_type": "stream",
     "text": [
      "请输入一个可数名词knife\n",
      "单词结尾加es\n"
     ]
    }
   ],
   "source": [
    "word=input(\"请输入一个可数名词\")\n",
    "if word.endswith(\"s\") or (\"sh\") or(\"ch\") or(\"x\"):\n",
    "    print(\"单词结尾加es\")\n",
    "elif word.endswith(\"f\") or (\"fe\"):\n",
    "    print(\"变f，fe为ves\")\n",
    "else:\n",
    "    print(\"加s\")"
   ]
  },
  {
   "cell_type": "code",
   "execution_count": 18,
   "metadata": {},
   "outputs": [
    {
     "name": "stdout",
     "output_type": "stream",
     "text": [
      "\n"
     ]
    }
   ],
   "source": [
    "print()"
   ]
  },
  {
   "cell_type": "code",
   "execution_count": 6,
   "metadata": {},
   "outputs": [
    {
     "name": "stdout",
     "output_type": "stream",
     "text": [
      "想要输入整数的个数6\n",
      "2\n",
      "7\n",
      "输入一个整数67\n",
      "输入一个整数789\n",
      "输入一个整数12\n",
      "输入一个整数63\n",
      "次最大数为 67\n"
     ]
    }
   ],
   "source": [
    "d=int(input(\"想要输入整数的个数\"))\n",
    "a=int(input())\n",
    "b=int(input())\n",
    "if a>b:\n",
    "    max=a \n",
    "    min=b\n",
    "else:\n",
    "    max=b\n",
    "    min=a\n",
    "c=0\n",
    "i=2\n",
    "\n",
    "while i<d:\n",
    "    c=int(input(\"输入一个整数\"))\n",
    "    if c>max:\n",
    "        min=max\n",
    "        max=c\n",
    "    elif c>min:\n",
    "        min=c\n",
    "    i=i+1\n",
    "    \n",
    "print(\"次最大数为\",min)"
   ]
  }
 ],
 "metadata": {
  "kernelspec": {
   "display_name": "Python 3",
   "language": "python",
   "name": "python3"
  },
  "language_info": {
   "codemirror_mode": {
    "name": "ipython",
    "version": 3
   },
   "file_extension": ".py",
   "mimetype": "text/x-python",
   "name": "python",
   "nbconvert_exporter": "python",
   "pygments_lexer": "ipython3",
   "version": "3.6.2"
  }
 },
 "nbformat": 4,
 "nbformat_minor": 2
}
