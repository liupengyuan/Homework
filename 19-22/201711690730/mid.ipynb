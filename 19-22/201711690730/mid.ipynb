{
 "cells": [
  {
   "cell_type": "code",
   "execution_count": 8,
   "metadata": {},
   "outputs": [
    {
     "data": {
      "text/plain": [
       "35"
      ]
     },
     "execution_count": 8,
     "metadata": {},
     "output_type": "execute_result"
    }
   ],
   "source": [
    "#1\n",
    "def play(m):\n",
    "    total=0\n",
    "    i=0\n",
    "    a=1\n",
    "    b=0\n",
    "    while i<m:\n",
    "        b=b+a\n",
    "        a=a+1\n",
    "        i=i+1\n",
    "        total=total+b\n",
    "    return total\n",
    "play(5)\n",
    "        \n",
    "    "
   ]
  },
  {
   "cell_type": "code",
   "execution_count": 17,
   "metadata": {},
   "outputs": [
    {
     "name": "stdout",
     "output_type": "stream",
     "text": [
      "*\n",
      "***\n",
      "*****\n",
      "*******\n",
      "*********\n"
     ]
    }
   ],
   "source": [
    "#2\n",
    "def play_1(m,n):\n",
    "    \n",
    "    a=1\n",
    "    i=0\n",
    "    for i in range(n):\n",
    "        print(m*a)\n",
    "        a=a+2\n",
    "    \n",
    "play_1(\"*\",5)"
   ]
  },
  {
   "cell_type": "code",
   "execution_count": 27,
   "metadata": {},
   "outputs": [
    {
     "data": {
      "text/plain": [
       "2"
      ]
     },
     "execution_count": 27,
     "metadata": {},
     "output_type": "execute_result"
    }
   ],
   "source": [
    "#3\n",
    "def play_2(a):\n",
    "    total=a\n",
    "    total_1=a\n",
    "    i=0\n",
    "    b=0\n",
    "    while total>=0:\n",
    "        total=total-10**i\n",
    "        i=i+1\n",
    "    while total_1>0:\n",
    "        b=b+1\n",
    "        total_1=total_1-(10**(i-2))*b\n",
    "        \n",
    "    return b\n",
    "play_2(23874672937488290)\n",
    "        \n",
    "    "
   ]
  },
  {
   "cell_type": "code",
   "execution_count": 1,
   "metadata": {},
   "outputs": [
    {
     "name": "stdout",
     "output_type": "stream",
     "text": [
      "请输入成员人数9\n",
      "请输入男篮成员身高183\n",
      "请输入男篮成员身高185\n",
      "请输入男篮成员身高183\n",
      "请输入男篮成员身高187\n",
      "请输入男篮成员身高178\n",
      "请输入男篮成员身高175\n",
      "请输入男篮成员身高177\n",
      "请输入男篮成员身高190\n",
      "请输入男篮成员身高172\n",
      "181.11111111111111 [183, 185, 183, 187]\n"
     ]
    }
   ],
   "source": [
    "#4\n",
    "list_1=[]\n",
    "list_2=[]\n",
    "n=int(input(\"请输入成员人数\"))\n",
    "i=0\n",
    "total=0\n",
    "while i<n:\n",
    "    length=int(input(\"请输入男篮成员身高\"))\n",
    "    list_1.append(length)\n",
    "    total=total+length\n",
    "    i=i+1\n",
    "aver=total/len(list_1)\n",
    "for d in list_1:\n",
    "    if d>aver:\n",
    "        list_2.append(d)\n",
    "    else:\n",
    "        break\n",
    "print(aver,list_2)"
   ]
  },
  {
   "cell_type": "code",
   "execution_count": 6,
   "metadata": {},
   "outputs": [
    {
     "name": "stdout",
     "output_type": "stream",
     "text": [
      "9 + 6\n",
      "请输入结果14\n",
      "5 + 6\n",
      "请输入结果11\n",
      "1 + 4\n",
      "请输入结果5\n",
      "8 + 3\n",
      "请输入结果11\n",
      "10 + 10\n",
      "请输入结果20\n",
      "80\n"
     ]
    }
   ],
   "source": [
    "#5\n",
    "import random\n",
    "i=0\n",
    "total=0\n",
    "while i<5:\n",
    "    a=random.randint(1,10)\n",
    "    b=random.randint(1,10)\n",
    "    c=a+b\n",
    "    print(a,\"+\",b)\n",
    "    d=int(input(\"请输入结果\"))\n",
    "    if d==c:\n",
    "        total=total+20\n",
    "    else:\n",
    "        total=total\n",
    "    i=i+1\n",
    "print(total)\n",
    "        \n",
    "    "
   ]
  },
  {
   "cell_type": "code",
   "execution_count": 4,
   "metadata": {},
   "outputs": [
    {
     "ename": "ValueError",
     "evalue": "list.remove(x): x not in list",
     "output_type": "error",
     "traceback": [
      "\u001b[1;31m---------------------------------------------------------------------------\u001b[0m",
      "\u001b[1;31mValueError\u001b[0m                                Traceback (most recent call last)",
      "\u001b[1;32m<ipython-input-4-732865e3884a>\u001b[0m in \u001b[0;36m<module>\u001b[1;34m()\u001b[0m\n\u001b[0;32m     11\u001b[0m         \u001b[1;32mbreak\u001b[0m\u001b[1;33m\u001b[0m\u001b[0m\n\u001b[0;32m     12\u001b[0m \u001b[0mlis\u001b[0m\u001b[1;33m.\u001b[0m\u001b[0mremove\u001b[0m\u001b[1;33m(\u001b[0m\u001b[0mc\u001b[0m\u001b[1;33m)\u001b[0m\u001b[1;33m\u001b[0m\u001b[0m\n\u001b[1;32m---> 13\u001b[1;33m \u001b[0mlis\u001b[0m\u001b[1;33m.\u001b[0m\u001b[0mremove\u001b[0m\u001b[1;33m(\u001b[0m\u001b[0md\u001b[0m\u001b[1;33m)\u001b[0m\u001b[1;33m\u001b[0m\u001b[0m\n\u001b[0m\u001b[0;32m     14\u001b[0m \u001b[0mlis\u001b[0m\u001b[1;33m.\u001b[0m\u001b[0minsert\u001b[0m\u001b[1;33m(\u001b[0m\u001b[1;36m0\u001b[0m\u001b[1;33m,\u001b[0m\u001b[0mc\u001b[0m\u001b[1;33m)\u001b[0m\u001b[1;33m\u001b[0m\u001b[0m\n\u001b[0;32m     15\u001b[0m \u001b[0mlis\u001b[0m\u001b[1;33m.\u001b[0m\u001b[0mappend\u001b[0m\u001b[1;33m(\u001b[0m\u001b[0md\u001b[0m\u001b[1;33m)\u001b[0m\u001b[1;33m\u001b[0m\u001b[0m\n",
      "\u001b[1;31mValueError\u001b[0m: list.remove(x): x not in list"
     ]
    }
   ],
   "source": [
    "#6\n",
    "lis=[3,-5,9,108,34,-76,88]\n",
    "c=lis[0]\n",
    "d=lis[0]\n",
    "for number in lis:\n",
    "    if number>c:\n",
    "        c=number\n",
    "    elif number<d:\n",
    "        d=number\n",
    "    else:\n",
    "        break\n",
    "lis.remove(c)\n",
    "lis.remove(d)\n",
    "lis.insert(0,c)\n",
    "lis.append(d)\n",
    "print(lis)\n",
    "\n",
    "        \n",
    "    \n",
    "    "
   ]
  }
 ],
 "metadata": {
  "kernelspec": {
   "display_name": "Python 3",
   "language": "python",
   "name": "python3"
  },
  "language_info": {
   "codemirror_mode": {
    "name": "ipython",
    "version": 3
   },
   "file_extension": ".py",
   "mimetype": "text/x-python",
   "name": "python",
   "nbconvert_exporter": "python",
   "pygments_lexer": "ipython3",
   "version": "3.6.2"
  }
 },
 "nbformat": 4,
 "nbformat_minor": 2
}
