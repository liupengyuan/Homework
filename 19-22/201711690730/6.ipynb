{
 "cells": [
  {
   "cell_type": "code",
   "execution_count": 6,
   "metadata": {},
   "outputs": [
    {
     "name": "stdout",
     "output_type": "stream",
     "text": [
      "输入一个元素或对象9\n"
     ]
    },
    {
     "data": {
      "text/plain": [
       "6"
      ]
     },
     "execution_count": 6,
     "metadata": {},
     "output_type": "execute_result"
    }
   ],
   "source": [
    "#写函数，返回某个元素/对象在一个list中的位置，如果不在，则返回-1.\n",
    "def play(numbers):\n",
    "    a=int(input(\"输入一个元素或对象\"))\n",
    "    if a in numbers:\n",
    "        return numbers.index(a)\n",
    "        \n",
    "    else:\n",
    "        return -1\n",
    "play([1,2,3,45,4,53,9])"
   ]
  },
  {
   "cell_type": "code",
   "execution_count": 5,
   "metadata": {},
   "outputs": [
    {
     "data": {
      "text/plain": [
       "[1, 2, 2, 1, 7, 7]"
      ]
     },
     "execution_count": 5,
     "metadata": {},
     "output_type": "execute_result"
    }
   ],
   "source": [
    "#写函数，可将两个相同长度的list，间隔插入，生成新的list。例如：给两个list，a=[1,2,3,4], b=[5,6,7,8]。则可以生成：[1,5,2,6,3,7,4,8]。\n",
    "def play_2(lis_1,lis_2):\n",
    "    a=len(lis_1)\n",
    "    b=2*a\n",
    "    i=0\n",
    "    lis_3=[]\n",
    "    m=0\n",
    "    while i<b:\n",
    "    \n",
    "        lis_3.append(lis_1[m])\n",
    "        lis_3.append(lis_2[m])\n",
    "        m+=1\n",
    "        i+=2\n",
    "    return lis_3\n",
    "play_2([1,2,7],[2,1,7])\n",
    "\n",
    "\n",
    "\n",
    "            \n",
    "            \n",
    "            "
   ]
  },
  {
   "cell_type": "code",
   "execution_count": 14,
   "metadata": {},
   "outputs": [
    {
     "data": {
      "text/plain": [
       "1.3694832979641995"
      ]
     },
     "execution_count": 14,
     "metadata": {},
     "output_type": "execute_result"
    }
   ],
   "source": [
    "#写函数，可求两个向量的夹角余弦值，向量可放在list中。主程序调用该函数。\n",
    "def play_3(xiang_1,xiang_2):\n",
    "    a=xiang_1[0]*xiang_2[0]+xiang_1[1]*xiang_2[1]\n",
    "    b=xiang_1[0]**2+xiang_1[1]**2\n",
    "    c=xiang_2[0]**2+xiang_2[1]**2\n",
    "    d=b**0.5+c**0.5\n",
    "    cosxiang=a/d\n",
    "    return cosxiang\n",
    "play_3([1,2],[2,3])\n",
    "    "
   ]
  },
  {
   "cell_type": "code",
   "execution_count": 7,
   "metadata": {},
   "outputs": [
    {
     "name": "stdout",
     "output_type": "stream",
     "text": [
      "3741\n"
     ]
    }
   ],
   "source": [
    "#挑战性习题：python语言老师为了激励学生学python，自费买了100个完全相同的Macbook Pro，\n",
    "#分给三个班级，每个班级至少分5个，用穷举法计算共有多少种分法？\n",
    "i=0\n",
    "for a in range(5,91):\n",
    "    for b in range(5,96-a):\n",
    "        c=100-a-b\n",
    "        \n",
    "        i+=1\n",
    "            \n",
    "print(i)"
   ]
  }
 ],
 "metadata": {
  "kernelspec": {
   "display_name": "Python 3",
   "language": "python",
   "name": "python3"
  },
  "language_info": {
   "codemirror_mode": {
    "name": "ipython",
    "version": 3
   },
   "file_extension": ".py",
   "mimetype": "text/x-python",
   "name": "python",
   "nbconvert_exporter": "python",
   "pygments_lexer": "ipython3",
   "version": "3.6.2"
  }
 },
 "nbformat": 4,
 "nbformat_minor": 2
}
