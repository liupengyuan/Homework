{
 "cells": [
  {
   "cell_type": "code",
   "execution_count": 18,
   "metadata": {},
   "outputs": [
    {
     "name": "stdout",
     "output_type": "stream",
     "text": [
      "最大值为： 899\n",
      "最小值为： -10\n",
      "平均值为:  106.72999999999999\n"
     ]
    }
   ],
   "source": [
    "def e1114():\n",
    "    numbers=[1,2,-1,55,100,899,-10,3,12.5,5.8]\n",
    "    n=len(numbers)\n",
    "    max_number=1\n",
    "    min_number=1\n",
    "    i=0\n",
    "    total=0\n",
    "    for number1 in numbers:\n",
    "        if numbers[i]>max_number:\n",
    "            max_number=numbers[i]\n",
    "        elif numbers[i]<min_number:\n",
    "            min_number=numbers[i]\n",
    "        \n",
    "        total+=numbers[i]\n",
    "        i+=1\n",
    "    sum_number=total/n\n",
    "    \n",
    "    print('最大值为：',max_number)\n",
    "    print('最小值为：',min_number)\n",
    "    print('平均值为: ',sum_number)\n",
    "e1114()\n",
    "              \n",
    "          \n"
   ]
  },
  {
   "cell_type": "code",
   "execution_count": null,
   "metadata": {},
   "outputs": [],
   "source": []
  }
 ],
 "metadata": {
  "kernelspec": {
   "display_name": "Python 3",
   "language": "python",
   "name": "python3"
  },
  "language_info": {
   "codemirror_mode": {
    "name": "ipython",
    "version": 3
   },
   "file_extension": ".py",
   "mimetype": "text/x-python",
   "name": "python",
   "nbconvert_exporter": "python",
   "pygments_lexer": "ipython3",
   "version": "3.6.3"
  }
 },
 "nbformat": 4,
 "nbformat_minor": 2
}
