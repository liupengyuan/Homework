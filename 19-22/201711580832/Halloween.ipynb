{
 "cells": [
  {
   "cell_type": "code",
   "execution_count": 7,
   "metadata": {},
   "outputs": [],
   "source": [
    "def my_sum(n):\n",
    "    i=0\n",
    "    total_n=0\n",
    "    while i<n:\n",
    "        i=i+1\n",
    "        total_n=total_n+i\n",
    "    return total_n\n",
    "def my_mul(m):\n",
    "    i=0\n",
    "    total_m=1\n",
    "    while i<m:\n",
    "        i=i+1\n",
    "        total_m=total_m*i\n",
    "    return total_m\n",
    "        "
   ]
  },
  {
   "cell_type": "code",
   "execution_count": 8,
   "metadata": {},
   "outputs": [
    {
     "name": "stdout",
     "output_type": "stream",
     "text": [
      "请输入一个整数6\n",
      "请输入一个整数7\n",
      "5760\n"
     ]
    }
   ],
   "source": [
    "a=int(input('请输入一个整数'))\n",
    "b=int(input('请输入一个整数'))\n",
    "if a>b:\n",
    "    print (my_sum(a)+my_sum(b))\n",
    "else :\n",
    "    print (my_mul(a)+my_mul(b))\n",
    "    "
   ]
  },
  {
   "cell_type": "code",
   "execution_count": null,
   "metadata": {},
   "outputs": [],
   "source": []
  }
 ],
 "metadata": {
  "kernelspec": {
   "display_name": "Python 3",
   "language": "python",
   "name": "python3"
  },
  "language_info": {
   "codemirror_mode": {
    "name": "ipython",
    "version": 3
   },
   "file_extension": ".py",
   "mimetype": "text/x-python",
   "name": "python",
   "nbconvert_exporter": "python",
   "pygments_lexer": "ipython3",
   "version": "3.6.3"
  }
 },
 "nbformat": 4,
 "nbformat_minor": 2
}
