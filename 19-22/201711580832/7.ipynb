{
 "cells": [
  {
   "cell_type": "code",
   "execution_count": 4,
   "metadata": {},
   "outputs": [
    {
     "data": {
      "text/plain": [
       "['g', 'f', 'e', 'd', 'c', 'b', 'a']"
      ]
     },
     "execution_count": 4,
     "metadata": {},
     "output_type": "execute_result"
    }
   ],
   "source": [
    "#练习一：自己定义一个reverse(s)函数，功能返回字符串s的倒序字符串。\n",
    "def reverse(s):\n",
    "    list=[]\n",
    "    for i in range(len(s),0,-1):\n",
    "        list.append(s[i-1])\n",
    "    return list\n",
    "reverse('abcdefg')\n",
    "        "
   ]
  },
  {
   "cell_type": "code",
   "execution_count": 29,
   "metadata": {},
   "outputs": [
    {
     "name": "stdout",
     "output_type": "stream",
     "text": [
      "请输入行数：6\n",
      "\n",
      "* \n",
      "* * \n",
      "* * * \n",
      "* * * * \n",
      "* * * * * \n",
      "* * * * * * \n",
      "      \n",
      "     * \n",
      "    * * \n",
      "   * * * \n",
      "  * * * * \n",
      " * * * * * \n",
      "* * * * * * \n",
      "      \n",
      "     *  \n",
      "    *  *  \n",
      "   *  *  *  \n",
      "  *  *  *  *  \n",
      " *  *  *  *  *  \n",
      "*  *  *  *  *  *  \n"
     ]
    }
   ],
   "source": [
    "#练习二：写函数，根据给定符号和行数，打印相应直角三角形，等腰三角形及其他形式的三角形。\n",
    "n=int(input('请输入行数：'))\n",
    "for i in range(n+1):\n",
    "    for j in range(i):\n",
    "        print('*',end=' ')\n",
    "    print()\n",
    "for a in range(0, n+1):\n",
    "    for k in range(n-a,0,-1):\n",
    "        print(' ', end='')\n",
    "    for b in range(1,a+1):\n",
    "        print('* ', end='')\n",
    "    print()\n",
    "for c in range(0, n+1):\n",
    "    for d in range(n-c,0,-1):\n",
    "        print(' ', end='')\n",
    "    for e in range(1,c+1):\n",
    "        print('*  ', end='')\n",
    "    print()\n",
    "\n",
    "\n"
   ]
  },
  {
   "cell_type": "code",
   "execution_count": 72,
   "metadata": {},
   "outputs": [
    {
     "name": "stdout",
     "output_type": "stream",
     "text": [
      "请输入一个数：5\n",
      "     \n",
      "    * \n",
      "   * * \n",
      "  * * * \n",
      " * * * * \n",
      "* * * * * \n",
      " * * * * \n",
      "  * * * \n",
      "   * * \n",
      "    * \n",
      "     \n"
     ]
    }
   ],
   "source": [
    "#练习五：写函数，根据给定符号，打印各种菱形。\n",
    "m=int(input('请输入一个数：'))\n",
    "n=m+1\n",
    "for i in range(1, n+1):\n",
    "    for k in range(n-i,0,-1):\n",
    "        print(' ', end='')\n",
    "    for j in range(1,i):\n",
    "        print('* ', end='')\n",
    "    print()\n",
    "for x in range(1, m+1):\n",
    "    print(x*' ' + (m-x)*'* ', end='')\n",
    "    print()\n",
    "        \n",
    "        "
   ]
  },
  {
   "cell_type": "code",
   "execution_count": null,
   "metadata": {},
   "outputs": [],
   "source": []
  }
 ],
 "metadata": {
  "kernelspec": {
   "display_name": "Python 3",
   "language": "python",
   "name": "python3"
  },
  "language_info": {
   "codemirror_mode": {
    "name": "ipython",
    "version": 3
   },
   "file_extension": ".py",
   "mimetype": "text/x-python",
   "name": "python",
   "nbconvert_exporter": "python",
   "pygments_lexer": "ipython3",
   "version": "3.6.3"
  }
 },
 "nbformat": 4,
 "nbformat_minor": 2
}
