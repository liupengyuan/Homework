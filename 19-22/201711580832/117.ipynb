{
 "cells": [
  {
   "cell_type": "code",
   "execution_count": 3,
   "metadata": {},
   "outputs": [
    {
     "name": "stdout",
     "output_type": "stream",
     "text": [
      "请输入起始值：10\n",
      "请输入终止值：500\n",
      "请输入随机数的个数：5\n",
      "结果为: 49.122296363260546\n"
     ]
    }
   ],
   "source": [
    "#用户从键盘输入m，n，k，写函数，可利用计算机得到m个从n到k的随机整数，求这m个数和的平方根\n",
    "def main():\n",
    "    import random\n",
    "    n=int(input('请输入起始值：'))\n",
    "    k=int(input('请输入终止值：'))\n",
    "    m=int(input('请输入随机数的个数：'))\n",
    "    i=0\n",
    "    total=0\n",
    "    while i<n:\n",
    "        i+=1\n",
    "        number=random.randint(m,k)\n",
    "        total+=number\n",
    "    import math\n",
    "    a = math.sqrt(total)\n",
    "    print('结果为:',a)\n",
    "main()\n",
    "    \n"
   ]
  },
  {
   "cell_type": "code",
   "execution_count": null,
   "metadata": {},
   "outputs": [],
   "source": []
  }
 ],
 "metadata": {
  "kernelspec": {
   "display_name": "Python 3",
   "language": "python",
   "name": "python3"
  },
  "language_info": {
   "codemirror_mode": {
    "name": "ipython",
    "version": 3
   },
   "file_extension": ".py",
   "mimetype": "text/x-python",
   "name": "python",
   "nbconvert_exporter": "python",
   "pygments_lexer": "ipython3",
   "version": "3.6.3"
  }
 },
 "nbformat": 4,
 "nbformat_minor": 2
}
