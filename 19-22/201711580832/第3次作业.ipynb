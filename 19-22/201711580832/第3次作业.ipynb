{
 "cells": [
  {
   "cell_type": "code",
   "execution_count": 2,
   "metadata": {},
   "outputs": [
    {
     "name": "stdout",
     "output_type": "stream",
     "text": [
      "请输入你的名字牟景\n",
      "请输入你出生月日，月日中间用\".\"隔开4.17\n",
      "牟景 你是非常有性格的白羊座！\n"
     ]
    }
   ],
   "source": [
    "name=input('请输入你的名字')\n",
    "n=float(input('请输入你出生月日，月日中间用\".\"隔开'))\n",
    "if 1.21<=n<=2.19:\n",
    "    print(name,'你是非常有性格的水瓶座！')\n",
    "elif 2.20<=n<=3.20:\n",
    "    print(name,'你是非常有性格的双鱼座！')\n",
    "elif 3.21<=n<=4.20:\n",
    "    print(name,'你是非常有性格的白羊座！')\n",
    "elif 4.21<=n<=5.21:\n",
    "    print(name,'你是非常有性格的金牛座！')\n",
    "elif 5.22<=n<=6.21:\n",
    "    print(name,'你是非常有性格的双子座！')\n",
    "elif 6.22<=n<=7.22:\n",
    "    print(name,'你是非常有性格的巨蟹座！')\n",
    "elif 7.23<=n<=8.22:\n",
    "    print(name,'你是非常有性格的狮子座！')\n",
    "elif 8.23<=n<=9.23:\n",
    "    print(name,'你是非常有性格的处女座！')\n",
    "elif 9.24<=n<=10.23:\n",
    "    print(name,'你是非常有性格的天秤座！')\n",
    "elif 10.24<=n<=11.22:\n",
    "    print(name,'你是非常有性格的天蝎座！')\n",
    "elif 11.23<=n<=12.21:\n",
    "    print(name,'你是非常有性格的射手座！')\n",
    "elif 12.22<=n<=12.31 and 1.01<=date<=1.20:\n",
    "    print(name,'你是非常有性格的摩羯座！')\n",
    "\n",
    "\n"
   ]
  },
  {
   "cell_type": "code",
   "execution_count": 3,
   "metadata": {},
   "outputs": [
    {
     "name": "stdout",
     "output_type": "stream",
     "text": [
      "请输入一个整数2\n",
      "请再输入一个不为零的整数3\n",
      "请输入运算法则,1,2,3,4,分别代表加减乘除3\n",
      "6\n"
     ]
    }
   ],
   "source": [
    "m=int(input('请输入一个整数'))\n",
    "n=int(input('请再输入一个不为零的整数'))\n",
    "h=int(input('请输入运算法则,1,2,3,4,分别代表加减乘除'))\n",
    "if h==1:\n",
    "    print(m+n)\n",
    "elif h==1:\n",
    "    print(m-n)\n",
    "elif h==3:\n",
    "    print(m*n)\n",
    "elif h==4:\n",
    "    if m%n==0:\n",
    "        print(m/n)\n",
    "    elif m%n!=0:\n",
    "        print(m%n)\n"
   ]
  },
  {
   "cell_type": "code",
   "execution_count": 4,
   "metadata": {},
   "outputs": [
    {
     "name": "stdout",
     "output_type": "stream",
     "text": [
      "请输入一个英文单词的单数形式leaf\n",
      "leaves\n"
     ]
    }
   ],
   "source": [
    "m=input('请输入一个英文单词的单数形式')\n",
    "if m.endswith('f'):\n",
    "    print(m.replace('f','ves'))\n",
    "elif m.endswith('s'or'sh'or'ch'or'x'):\n",
    "    print('直接加es')\n",
    "elif m.endswith('y'):\n",
    "    print(m.replace('y','ies'))\n",
    "elif m==('hero'or'negro'or'tomato'or'potato'or'zero'):\n",
    "    print('直接加es')\n",
    "else:\n",
    "    print('直接加s')\n",
    "        \n"
   ]
  },
  {
   "cell_type": "code",
   "execution_count": 5,
   "metadata": {},
   "outputs": [
    {
     "name": "stdout",
     "output_type": "stream",
     "text": [
      " \n"
     ]
    }
   ],
   "source": [
    "print(' ')"
   ]
  },
  {
   "cell_type": "code",
   "execution_count": null,
   "metadata": {},
   "outputs": [],
   "source": []
  }
 ],
 "metadata": {
  "kernelspec": {
   "display_name": "Python 3",
   "language": "python",
   "name": "python3"
  },
  "language_info": {
   "codemirror_mode": {
    "name": "ipython",
    "version": 3
   },
   "file_extension": ".py",
   "mimetype": "text/x-python",
   "name": "python",
   "nbconvert_exporter": "python",
   "pygments_lexer": "ipython3",
   "version": "3.6.3"
  }
 },
 "nbformat": 4,
 "nbformat_minor": 2
}
