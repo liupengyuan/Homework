{
 "cells": [
  {
   "cell_type": "code",
   "execution_count": 1,
   "metadata": {},
   "outputs": [
    {
     "name": "stdout",
     "output_type": "stream",
     "text": [
      "请输入第一个整数，以回车结束。2\n",
      "请输入第二个整数，以回车结束。5\n",
      "请输入第三个整数，以回车结束。4\n",
      "结果为： 146\n"
     ]
    }
   ],
   "source": [
    "# 仿照求$ \\sum_{i=1}^mi + \\sum_{i=1}^ni  + \\sum_{i=1}^ki$的完整代码，写程序，可求m!+n!+k!\n",
    "def compute_mul(n):\n",
    "    i=0\n",
    "    total_n=1\n",
    "    while i<n:\n",
    "        i=i+1\n",
    "        total_n=total_n*i\n",
    "    return total_n\n",
    "#主程序\n",
    "a=int(input('请输入第一个整数，以回车结束。'))\n",
    "b=int(input('请输入第二个整数，以回车结束。'))\n",
    "c=int(input('请输入第三个整数，以回车结束。'))\n",
    "print('结果为：',compute_mul(a)+compute_mul(b)+compute_mul(c))\n"
   ]
  },
  {
   "cell_type": "code",
   "execution_count": 2,
   "metadata": {},
   "outputs": [
    {
     "name": "stdout",
     "output_type": "stream",
     "text": [
      "请输入一个正整数5\n",
      "最终和为 0.8349206349206351\n",
      "3.140592653839794 3.1415826535897198\n"
     ]
    }
   ],
   "source": [
    "#练习 2：写函数可返回1 - 1/3 + 1/5 - 1/7...的前n项的和。在主程序中，分别令n=1000及100000，打印4倍该函数的和。\n",
    "def compute_sum(end):\n",
    "    i=0\n",
    "    total=0\n",
    "    while i<end:\n",
    "        i=i+1\n",
    "        m=((-1)**(i+1))/(i*2-1)\n",
    "        total=total+m\n",
    "    return total\n",
    "#主程序\n",
    "n=int(input('请输入一个正整数'))\n",
    "print('最终和为',compute_sum(n))\n",
    "print(4*compute_sum(1000),4*compute_sum(100000))\n"
   ]
  },
  {
   "cell_type": "code",
   "execution_count": 3,
   "metadata": {},
   "outputs": [
    {
     "name": "stdout",
     "output_type": "stream",
     "text": [
      "请输入你的名字：牟景\n",
      "请输入你出生月日，月日中间用\".\"隔开：4.17\n",
      "牟景 你是非常有性格的白羊座！\n",
      "None\n"
     ]
    }
   ],
   "source": [
    "#练习 3：将task3中的练习1及练习4改写为函数，并进行调用。\n",
    "#练习 1：写程序，可由键盘读入用户姓名例如Mr. right，让用户输入出生的月份与日期，判断用户星座，假设用户是金牛座，则输出，Mr. right，你是非常有性格的金牛座！。\n",
    "def xingzuo(n):\n",
    "    if 1.21<=n<=2.19:\n",
    "        print(name,'你是非常有性格的水瓶座！')\n",
    "    elif 2.20<=n<=3.20:\n",
    "        print(name,'你是非常有性格的双鱼座！')\n",
    "    elif 3.21<=n<=4.20:\n",
    "        print(name,'你是非常有性格的白羊座！')\n",
    "    elif 4.21<=n<=5.21:\n",
    "        print(name,'你是非常有性格的金牛座！')\n",
    "    elif 5.22<=n<=6.21:\n",
    "        print(name,'你是非常有性格的双子座！')\n",
    "    elif 6.22<=n<=7.22:\n",
    "        print(name,'你是非常有性格的巨蟹座！')\n",
    "    elif 7.23<=n<=8.22:\n",
    "        print(name,'你是非常有性格的狮子座！')\n",
    "    elif 8.23<=n<=9.23:\n",
    "        print(name,'你是非常有性格的处女座！')\n",
    "    elif 9.24<=n<=10.23:\n",
    "        print(name,'你是非常有性格的天秤座！')\n",
    "    elif 10.24<=n<=11.22:\n",
    "        print(name,'你是非常有性格的天蝎座！')\n",
    "    elif 11.23<=n<=12.21:\n",
    "        print(name,'你是非常有性格的射手座！')\n",
    "    elif 12.22<=n<=12.31 and 1.01<=date<=1.20:\n",
    "        print(name,'你是非常有性格的摩羯座！')\n",
    "name=input('请输入你的名字：')\n",
    "n=float(input('请输入你出生月日，月日中间用\".\"隔开：'))\n",
    "print(xingzuo(n))\n"
   ]
  },
  {
   "cell_type": "code",
   "execution_count": 4,
   "metadata": {},
   "outputs": [
    {
     "name": "stdout",
     "output_type": "stream",
     "text": [
      "请输入一个英文单词的单数形式leaf\n",
      "leaves\n",
      "None\n"
     ]
    }
   ],
   "source": [
    "#练习 4：英文单词单数转复数，要求输入一个英文动词（单数形式），能够得到其复数形式，或给出单数转复数形式的建议\n",
    "def pl(m):\n",
    "    if m.endswith('f'):\n",
    "        print(m.replace('f','ves'))\n",
    "    elif m.endswith('s'or'sh'or'ch'or'x'):\n",
    "        print('直接加es')\n",
    "    elif m.endswith('y'):\n",
    "        print(m.replace('y','ies'))\n",
    "    elif m==('hero'or'negro'or'tomato'or'potato'or'zero'):\n",
    "        print('直接加es')\n",
    "    else:\n",
    "        print('直接加s')\n",
    "m=input('请输入一个英文单词的单数形式')\n",
    "print(pl(m))\n",
    "\n"
   ]
  },
  {
   "cell_type": "code",
   "execution_count": 5,
   "metadata": {},
   "outputs": [
    {
     "name": "stdout",
     "output_type": "stream",
     "text": [
      "请输入起始值4\n",
      "请输入间隔值5\n",
      "和为 39\n"
     ]
    }
   ],
   "source": [
    "#挑战性练习：写程序，可以求从整数m到整数n累加的和，间隔为k，求和部分需用函数实现，主程序中由用户输入m，n，k调用函数验证正确性。\n",
    "def compute_sum(m,k):\n",
    "    n=m+k\n",
    "    i=m-1\n",
    "    total=0\n",
    "    while i<n:\n",
    "        i=i+1\n",
    "        total=total+i\n",
    "    return total\n",
    "m=int(input('请输入起始值'))\n",
    "k=int(input('请输入间隔值'))\n",
    "print('和为',compute_sum(m,k))\n",
    "    \n"
   ]
  },
  {
   "cell_type": "code",
   "execution_count": null,
   "metadata": {},
   "outputs": [],
   "source": []
  }
 ],
 "metadata": {
  "kernelspec": {
   "display_name": "Python 3",
   "language": "python",
   "name": "python3"
  },
  "language_info": {
   "codemirror_mode": {
    "name": "ipython",
    "version": 3
   },
   "file_extension": ".py",
   "mimetype": "text/x-python",
   "name": "python",
   "nbconvert_exporter": "python",
   "pygments_lexer": "ipython3",
   "version": "3.6.3"
  }
 },
 "nbformat": 4,
 "nbformat_minor": 2
}
