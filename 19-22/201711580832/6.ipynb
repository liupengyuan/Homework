{
 "cells": [
  {
   "cell_type": "code",
   "execution_count": 12,
   "metadata": {},
   "outputs": [
    {
     "name": "stdout",
     "output_type": "stream",
     "text": [
      "请输入一个元素：10\n",
      "位置为: 1\n"
     ]
    }
   ],
   "source": [
    "#写函数，返回某个元素/对象在一个list中的位置，如果不在，则返回-1.\n",
    "list = [10,9,8,7,6,5,4,3,2,1]\n",
    "m=int(input('请输入一个元素：'))\n",
    "if m in list:\n",
    "    print ('位置为:',list.index(m)+1)\n",
    "else:\n",
    "    print('位置为:',-1)"
   ]
  },
  {
   "cell_type": "code",
   "execution_count": 7,
   "metadata": {},
   "outputs": [
    {
     "name": "stdout",
     "output_type": "stream",
     "text": [
      "请输入list中数的个数:4\n",
      "[1, 5, 2, 6, 3, 7, 4, 8]\n"
     ]
    }
   ],
   "source": [
    "#写函数，可将两个相同长度的list，间隔插入，生成新的list。例如：给两个list，a=[1,2,3,4], b=[5,6,7,8]。则可以生成：[1,5,2,6,3,7,4,8]。\n",
    "a=[1,2,3,4]\n",
    "b=[5,6,7,8]\n",
    "c=[]\n",
    "n=int(input('请输入list中数的个数:'))\n",
    "i=0\n",
    "while i<n:\n",
    "    c.append(a[i])\n",
    "    c.append(b[i])\n",
    "    i+=1\n",
    "print(c)"
   ]
  },
  {
   "cell_type": "code",
   "execution_count": 11,
   "metadata": {},
   "outputs": [
    {
     "name": "stdout",
     "output_type": "stream",
     "text": [
      "请输入第一个向量的横坐标：1\n",
      "请输入第一个向量的纵坐标：2\n",
      "请输入第二个向量的横坐标：3\n",
      "请输入第二个向量的纵坐标：4\n",
      "两个向量为： (1.0, 2.0, 3.0, 4.0)\n",
      "它们夹角余弦值为： -0.4472135954999579\n"
     ]
    }
   ],
   "source": [
    "#写函数，可求两个向量的夹角余弦值，向量可放在list中。主程序调用该函数。\n",
    "\n",
    "a=float(input('请输入第一个向量的横坐标：'))\n",
    "b=float(input('请输入第一个向量的纵坐标：'))\n",
    "c=float(input('请输入第二个向量的横坐标：'))\n",
    "d=float(input('请输入第二个向量的纵坐标：'))\n",
    "list=(a,b,c,d)\n",
    "print('两个向量为：',list)\n",
    "print('它们夹角余弦值为：',(a*c-b*d)/(((a*a+b*b)**(1/2))*((c*c+d*d)**(1/2))))\n",
    "\n"
   ]
  },
  {
   "cell_type": "code",
   "execution_count": null,
   "metadata": {},
   "outputs": [],
   "source": []
  }
 ],
 "metadata": {
  "kernelspec": {
   "display_name": "Python 3",
   "language": "python",
   "name": "python3"
  },
  "language_info": {
   "codemirror_mode": {
    "name": "ipython",
    "version": 3
   },
   "file_extension": ".py",
   "mimetype": "text/x-python",
   "name": "python",
   "nbconvert_exporter": "python",
   "pygments_lexer": "ipython3",
   "version": "3.6.3"
  }
 },
 "nbformat": 4,
 "nbformat_minor": 2
}
