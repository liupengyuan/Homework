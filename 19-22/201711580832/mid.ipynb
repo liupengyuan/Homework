{
 "cells": [
  {
   "cell_type": "code",
   "execution_count": 3,
   "metadata": {},
   "outputs": [
    {
     "name": "stdout",
     "output_type": "stream",
     "text": [
      "请输入一个数：10\n",
      "和为: 220\n"
     ]
    }
   ],
   "source": [
    "#第一题\n",
    "m=int(input('请输入一个数：'))\n",
    "total1=0\n",
    "total2=0\n",
    "for i in range(m+1):\n",
    "    total1+=i\n",
    "    total2+=total1\n",
    "print('和为:',total2)"
   ]
  },
  {
   "cell_type": "code",
   "execution_count": 10,
   "metadata": {},
   "outputs": [
    {
     "name": "stdout",
     "output_type": "stream",
     "text": [
      "请输入三角形行数：5\n",
      "请输入一个字符：*\n",
      "*\n",
      "***\n",
      "*****\n",
      "*******\n",
      "*********\n"
     ]
    }
   ],
   "source": [
    "#第二题\n",
    "m=int(input('请输入三角形行数：'))\n",
    "n=input('请输入一个字符：')\n",
    "for i in range(1,m+1):\n",
    "    for j in range(1,2*i):\n",
    "        \n",
    "        print(n,end='')\n",
    "    print()\n",
    "        \n",
    "    "
   ]
  },
  {
   "cell_type": "code",
   "execution_count": 11,
   "metadata": {},
   "outputs": [
    {
     "name": "stdout",
     "output_type": "stream",
     "text": [
      "请输入一个整数：678668\n",
      "6\n"
     ]
    }
   ],
   "source": [
    "#第三题\n",
    "def mou():\n",
    "    i=input('请输入一个整数：')\n",
    "    print(i[0])\n",
    "mou()"
   ]
  },
  {
   "cell_type": "code",
   "execution_count": 3,
   "metadata": {},
   "outputs": [
    {
     "name": "stdout",
     "output_type": "stream",
     "text": [
      "请输入运动员身高：183\n",
      "请输入运动员身高：185\n",
      "请输入运动员身高：183\n",
      "请输入运动员身高：187\n",
      "请输入运动员身高：178\n",
      "请输入运动员身高：175\n",
      "请输入运动员身高：177\n",
      "请输入运动员身高：190\n",
      "请输入运动员身高：172\n",
      "平均值为： 181.11111111111111\n",
      "183\n",
      "185\n",
      "183\n",
      "187\n",
      "190\n"
     ]
    }
   ],
   "source": [
    "#第四题\n",
    "total=0\n",
    "a=[]\n",
    "for i in range(9):\n",
    "    m=int(input('请输入运动员身高：'))\n",
    "    a.append(m)\n",
    "    total+=m\n",
    "pjz=total/9\n",
    "print('平均值为：',pjz)\n",
    "for b in range(9):\n",
    "    if a[b]>pjz:\n",
    "        print('高于平均的为：',a[b])\n",
    "    "
   ]
  },
  {
   "cell_type": "code",
   "execution_count": 5,
   "metadata": {},
   "outputs": [
    {
     "name": "stdout",
     "output_type": "stream",
     "text": [
      "请输入 2 + 7 的值\n",
      "9\n",
      "请输入 5 + 5 的值\n",
      "10\n",
      "请输入 0 + 2 的值\n",
      "2\n",
      "请输入 5 + 1 的值\n",
      "6\n",
      "请输入 8 + 7 的值\n",
      "15\n",
      "得分为： 100\n"
     ]
    }
   ],
   "source": [
    "#第五题\n",
    "import random\n",
    "num=0\n",
    "for i in range(5):\n",
    "    m=random.randint(0,10)\n",
    "    n=random.randint(0,10)\n",
    "    h=m+n\n",
    "    print('请输入',m,'+',n,'的值')\n",
    "    a=int(input())\n",
    "    if a==h:\n",
    "        num+=1\n",
    "print('得分为：',num*20)\n"
   ]
  },
  {
   "cell_type": "code",
   "execution_count": 13,
   "metadata": {},
   "outputs": [
    {
     "ename": "IndentationError",
     "evalue": "unexpected indent (<ipython-input-13-304bd34d5e30>, line 4)",
     "output_type": "error",
     "traceback": [
      "\u001b[1;36m  File \u001b[1;32m\"<ipython-input-13-304bd34d5e30>\"\u001b[1;36m, line \u001b[1;32m4\u001b[0m\n\u001b[1;33m    m=max(list)\u001b[0m\n\u001b[1;37m    ^\u001b[0m\n\u001b[1;31mIndentationError\u001b[0m\u001b[1;31m:\u001b[0m unexpected indent\n"
     ]
    }
   ],
   "source": [
    "#第六题\n",
    "a=int(input('请输入list中数的个数：'))\n",
    "list=[3,-5,9,108,34,-76,88]\n",
    "    m=max(list)\n",
    "    n=min(list)\n",
    "new_list=[]\n",
    "new_list.append(m)\n",
    "i=0\n",
    "while i<a:\n",
    "    if list[i]!=m and list[i]!=n:\n",
    "        new_list.append(list[i])\n",
    "new_list.append(n) \n",
    "print(new_list)\n",
    "\n"
   ]
  },
  {
   "cell_type": "code",
   "execution_count": null,
   "metadata": {},
   "outputs": [],
   "source": []
  }
 ],
 "metadata": {
  "kernelspec": {
   "display_name": "Python 3",
   "language": "python",
   "name": "python3"
  }
 },
 "nbformat": 4,
 "nbformat_minor": 2
}
