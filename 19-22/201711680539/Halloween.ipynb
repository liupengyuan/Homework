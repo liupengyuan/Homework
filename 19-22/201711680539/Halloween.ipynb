{
 "cells": [
  {
   "cell_type": "code",
   "execution_count": 1,
   "metadata": {
    "collapsed": false
   },
   "outputs": [
    {
     "name": "stdout",
     "output_type": "stream",
     "text": [
      "plz print a num10\n",
      "plz print a num5\n",
      "3628920\n"
     ]
    }
   ],
   "source": [
    "def my_sum(n):\n",
    "    i=0\n",
    "    total=0\n",
    "    while i<n:\n",
    "        i=i+1\n",
    "        total=total+i\n",
    "    return total\n",
    "def my_mul(n):\n",
    "    i=1\n",
    "    mul=1\n",
    "    while i<n:\n",
    "        i=i+1\n",
    "        mul=mul*i\n",
    "    return mul\n",
    "n=int(input('plz print a num'))\n",
    "m=int(input('plz print a num'))\n",
    "if m>n:\n",
    "    print(my_sum(m)+my_sum(n))\n",
    "else :\n",
    "    print(my_mul(n)+my_mul(m))"
   ]
  }
 ],
 "metadata": {
  "kernelspec": {
   "display_name": "Python 3",
   "language": "python",
   "name": "python3"
  },
  "language_info": {
   "codemirror_mode": {
    "name": "ipython",
    "version": 3
   },
   "file_extension": ".py",
   "mimetype": "text/x-python",
   "name": "python",
   "nbconvert_exporter": "python",
   "pygments_lexer": "ipython3",
   "version": "3.6.0"
  }
 },
 "nbformat": 4,
 "nbformat_minor": 2
}
