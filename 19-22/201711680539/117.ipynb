{
 "cells": [
  {
   "cell_type": "code",
   "execution_count": 1,
   "metadata": {
    "collapsed": false
   },
   "outputs": [
    {
     "name": "stdout",
     "output_type": "stream",
     "text": [
      "5\n",
      "10\n",
      "500\n",
      "293\n",
      "174\n",
      "151\n",
      "408\n",
      "188\n",
      "34.84250278036869\n"
     ]
    }
   ],
   "source": [
    "import random,math\n",
    "def sqrt(n,m,k):\n",
    "    i=0\n",
    "    total=0\n",
    "    while i<m:\n",
    "        i=i+1\n",
    "        j=random.randint(n,k)\n",
    "        print(j)\n",
    "        total=total+j\n",
    "        t=math.sqrt(total)\n",
    "    return t\n",
    "m=int(input())\n",
    "n=int(input())\n",
    "k=int(input())\n",
    "print(sqrt(n,m,k))    "
   ]
  },
  {
   "cell_type": "code",
   "execution_count": 2,
   "metadata": {
    "collapsed": false
   },
   "outputs": [
    {
     "name": "stdout",
     "output_type": "stream",
     "text": [
      "34.84250278036869\n"
     ]
    }
   ],
   "source": [
    "#验证当m=5,n=10,k=500时函数正确性\n",
    "import math\n",
    "\n",
    "j_1=293\n",
    "j_2=174\n",
    "j_3=151\n",
    "j_4=408\n",
    "j_5=188\n",
    "total=j_1+j_2+j_3+j_4+j_5\n",
    "x=math.sqrt(total)\n",
    "print(x)"
   ]
  }
 ],
 "metadata": {
  "kernelspec": {
   "display_name": "Python 3",
   "language": "python",
   "name": "python3"
  },
  "language_info": {
   "codemirror_mode": {
    "name": "ipython",
    "version": 3
   },
   "file_extension": ".py",
   "mimetype": "text/x-python",
   "name": "python",
   "nbconvert_exporter": "python",
   "pygments_lexer": "ipython3",
   "version": "3.6.0"
  }
 },
 "nbformat": 4,
 "nbformat_minor": 2
}
