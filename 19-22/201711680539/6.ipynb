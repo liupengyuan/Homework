{
 "cells": [
  {
   "cell_type": "markdown",
   "metadata": {},
   "source": [
    "写函数，返回某个元素/对象在一个list中的位置，如果不在，则返回-1."
   ]
  },
  {
   "cell_type": "code",
   "execution_count": 1,
   "metadata": {},
   "outputs": [
    {
     "name": "stdout",
     "output_type": "stream",
     "text": [
      "请输入想要知道位置的元素。6\n",
      "-1\n"
     ]
    }
   ],
   "source": [
    "def list_1():\n",
    "    numbers=[1,2,3,4,5]\n",
    "    n=int(input('请输入想要知道位置的元素。'))\n",
    "    for i in range(5):\n",
    "        if n==numbers[i]:\n",
    "            print(i)\n",
    "            break\n",
    "        if n!=numbers[i]:\n",
    "            i=i+1\n",
    "            if i>4:\n",
    "                print(-1)\n",
    "list_1()"
   ]
  },
  {
   "cell_type": "markdown",
   "metadata": {},
   "source": [
    "写函数，可将两个相同长度的list，间隔插入，生成新的list。例如：给两个list，a=[1,2,3,4], b=[5,6,7,8]。则可以生成：[1,5,2,6,3,7,4,8]。"
   ]
  },
  {
   "cell_type": "code",
   "execution_count": 2,
   "metadata": {},
   "outputs": [
    {
     "name": "stdout",
     "output_type": "stream",
     "text": [
      "[1, 5, 2, 6, 3, 7, 4, 8]\n"
     ]
    }
   ],
   "source": [
    "def list_2():\n",
    "    a=[1,2,3,4]\n",
    "    b=[5,6,7,8]\n",
    "    c=[]\n",
    "    j=0\n",
    "    for i in range(1,2*len(a)+1):\n",
    "        if i%2!=0:\n",
    "            c.append(a[j])\n",
    "        if i%2==0:\n",
    "            c.append(b[j])\n",
    "            j=j+1\n",
    "    print(c)\n",
    "list_2()"
   ]
  },
  {
   "cell_type": "markdown",
   "metadata": {},
   "source": [
    "写函数，可求两个向量的夹角余弦值，向量可放在list中。主程序调用该函数。"
   ]
  },
  {
   "cell_type": "code",
   "execution_count": 3,
   "metadata": {},
   "outputs": [
    {
     "name": "stdout",
     "output_type": "stream",
     "text": [
      "请输入第一个向量的x值。1\n",
      "请输入第一个向量的y值。3\n",
      "请输入第二个向量的x值。5\n",
      "请输入第二个向量的y值。-1\n",
      "0.12403473458920847\n"
     ]
    }
   ],
   "source": [
    "def list_3():\n",
    "    a=int(input('请输入第一个向量的x值。'))\n",
    "    c=int(input('请输入第一个向量的y值。'))\n",
    "    b=int(input('请输入第二个向量的x值。'))\n",
    "    d=int(input('请输入第二个向量的y值。'))\n",
    "    x=[a,b]\n",
    "    y=[c,d]\n",
    "    m=(x[0]**2+y[0]**2)**(1/2)\n",
    "    n=(x[1]**2+y[1]**2)**(1/2)\n",
    "    k=x[0]*x[1]+y[0]*y[1]\n",
    "    cos=k/(m*n)\n",
    "    print(cos)\n",
    "list_3()"
   ]
  },
  {
   "cell_type": "markdown",
   "metadata": {},
   "source": [
    "挑战性习题：python语言老师为了激励学生学python，自费买了100个完全相同的Macbook Pro，分给三个班级，每个班级至少分5个，用穷举法计算共有多少种分法？"
   ]
  },
  {
   "cell_type": "code",
   "execution_count": 4,
   "metadata": {},
   "outputs": [
    {
     "name": "stdout",
     "output_type": "stream",
     "text": [
      "3741\n"
     ]
    }
   ],
   "source": [
    "n=100\n",
    "t=0\n",
    "for i in range(5,91):\n",
    "    for j in range(5,91):\n",
    "        for k in range(5,91):\n",
    "            if i+j+k==100:\n",
    "                t=t+1\n",
    "print(t)"
   ]
  }
 ],
 "metadata": {
  "kernelspec": {
   "display_name": "Python 3",
   "language": "python",
   "name": "python3"
  },
  "language_info": {
   "codemirror_mode": {
    "name": "ipython",
    "version": 3
   },
   "file_extension": ".py",
   "mimetype": "text/x-python",
   "name": "python",
   "nbconvert_exporter": "python",
   "pygments_lexer": "ipython3",
   "version": "3.6.2"
  }
 },
 "nbformat": 4,
 "nbformat_minor": 2
}
