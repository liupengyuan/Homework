{
 "cells": [
  {
   "cell_type": "code",
   "execution_count": 1,
   "metadata": {},
   "outputs": [
    {
     "name": "stdout",
     "output_type": "stream",
     "text": [
      "请输入相加的整数个数。5\n"
     ]
    },
    {
     "data": {
      "text/plain": [
       "35"
      ]
     },
     "execution_count": 1,
     "metadata": {},
     "output_type": "execute_result"
    }
   ],
   "source": [
    "def sum_1(m):\n",
    "    j=0\n",
    "    total=0\n",
    "    for i in range(1,m+1):\n",
    "        j=j+i\n",
    "        total=total+j\n",
    "    return total\n",
    "m=int(input('请输入相加的整数个数。'))\n",
    "sum_1(m)"
   ]
  },
  {
   "cell_type": "code",
   "execution_count": 12,
   "metadata": {},
   "outputs": [
    {
     "name": "stdout",
     "output_type": "stream",
     "text": [
      "请输入你想要打印的字符三角形的层数。5\n",
      "请输入想要使用的字符。*\n",
      "*\n",
      "***\n",
      "*****\n",
      "*******\n",
      "*********\n"
     ]
    }
   ],
   "source": [
    "def print_1():\n",
    "    m=int(input('请输入你想要打印的字符三角形的层数。'))\n",
    "    n=str(input('请输入想要使用的字符。'))\n",
    "    for i in range(1,m+5,2):\n",
    "        print(n*i)       \n",
    "print_1()"
   ]
  },
  {
   "cell_type": "code",
   "execution_count": 1,
   "metadata": {},
   "outputs": [
    {
     "name": "stdout",
     "output_type": "stream",
     "text": [
      "请输入任意正整数。416516\n"
     ]
    },
    {
     "data": {
      "text/plain": [
       "4"
      ]
     },
     "execution_count": 1,
     "metadata": {},
     "output_type": "execute_result"
    }
   ],
   "source": [
    "import math\n",
    "def first_num():\n",
    "    m=int(input('请输入任意正整数。'))\n",
    "    n=0\n",
    "    i=1\n",
    "    while i>0:\n",
    "        i=i+1\n",
    "        if m/(10**(i-1))<1:\n",
    "            n=math.floor(m/(10**(i-2)))\n",
    "            i=0\n",
    "    return n\n",
    "first_num()"
   ]
  },
  {
   "cell_type": "code",
   "execution_count": 2,
   "metadata": {},
   "outputs": [
    {
     "name": "stdout",
     "output_type": "stream",
     "text": [
      "请输入计算的队员个数。9\n",
      "请依次输入队员身高。183\n",
      "请依次输入队员身高。185\n",
      "请依次输入队员身高。183\n",
      "请依次输入队员身高。187\n",
      "请依次输入队员身高。178\n",
      "请依次输入队员身高。175\n",
      "请依次输入队员身高。177\n",
      "请依次输入队员身高。190\n",
      "请依次输入队员身高。172\n"
     ]
    },
    {
     "data": {
      "text/plain": [
       "(181.11111111111111, [183, 185, 183, 187, 190])"
      ]
     },
     "execution_count": 2,
     "metadata": {},
     "output_type": "execute_result"
    }
   ],
   "source": [
    "def num():\n",
    "    numbers=[]\n",
    "    m=int(input('请输入计算的队员个数。'))\n",
    "    num_1=0\n",
    "    num_2=[]\n",
    "    for i in range(1,m+1):\n",
    "        n=int(input('请依次输入队员身高。'))\n",
    "        numbers.append(n)\n",
    "    num_1=sum(numbers)/m\n",
    "    for j in range(len(numbers)):\n",
    "        if numbers[j]>num_1:\n",
    "            num_2.append(numbers[j])\n",
    "    return num_1,num_2\n",
    "num()"
   ]
  },
  {
   "cell_type": "code",
   "execution_count": 1,
   "metadata": {},
   "outputs": [
    {
     "name": "stdout",
     "output_type": "stream",
     "text": [
      "3 + 6 = ?\n",
      "请输入答案。9\n",
      "4 + 7 = ?\n",
      "请输入答案。11\n",
      "0 + 1 = ?\n",
      "请输入答案。1\n",
      "7 + 6 = ?\n",
      "请输入答案。13\n",
      "1 + 5 = ?\n",
      "请输入答案。5\n",
      "80\n"
     ]
    }
   ],
   "source": [
    "import random\n",
    "def sum_2():\n",
    "    j=0\n",
    "    for i in range(5):\n",
    "        m=random.randint(0,10)\n",
    "        n=random.randint(0,10)\n",
    "        print(m,'+',n,'= ?')\n",
    "        k=int(input('请输入答案。'))\n",
    "        total=m+n\n",
    "        if k==total:\n",
    "            j=j+20\n",
    "    print(j)\n",
    "sum_2()"
   ]
  },
  {
   "cell_type": "code",
   "execution_count": 1,
   "metadata": {},
   "outputs": [],
   "source": [
    "def change():\n",
    "    a=[3,-5,9,108,34,-76,88]\n",
    "    b=[]\n",
    "    c=[]\n",
    "    max_num=max(a)\n",
    "    b.append(max_num)\n",
    "    for i in range(len(a)-1):\n",
    "        for j in range(len(a)):\n",
    "            if a[j]<max_num:\n",
    "                c.append(a[j])    \n",
    "        max_num=max(c)\n",
    "        b.append(max_num)\n",
    "        c=[]\n",
    "    print（b）\n",
    "change()"
   ]
  },
  {
   "cell_type": "code",
   "execution_count": null,
   "metadata": {
    "collapsed": true
   },
   "outputs": [],
   "source": []
  }
 ],
 "metadata": {
  "kernelspec": {
   "display_name": "Python 3",
   "language": "python",
   "name": "python3"
  },
  "language_info": {
   "codemirror_mode": {
    "name": "ipython",
    "version": 3
   },
   "file_extension": ".py",
   "mimetype": "text/x-python",
   "name": "python",
   "nbconvert_exporter": "python",
   "pygments_lexer": "ipython3",
   "version": "3.6.2"
  }
 },
 "nbformat": 4,
 "nbformat_minor": 2
}
