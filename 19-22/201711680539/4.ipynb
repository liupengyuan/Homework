{
 "cells": [
  {
   "cell_type": "markdown",
   "metadata": {},
   "source": [
    "练习 1：仿照求$ \\sum_{i=1}^mi + \\sum_{i=1}^ni + \\sum_{i=1}^ki$的完整代码，写程序，可求m!+n!+k!"
   ]
  },
  {
   "cell_type": "code",
   "execution_count": 1,
   "metadata": {},
   "outputs": [
    {
     "name": "stdout",
     "output_type": "stream",
     "text": [
      "请输入一个数5\n",
      "请输入一个数6\n",
      "请输入一个数8\n",
      "72\n"
     ]
    }
   ],
   "source": [
    "def sum_1(n):\n",
    "    i=0\n",
    "    total=0\n",
    "    while i<n:\n",
    "        i=i+1\n",
    "        total=total+i\n",
    "    return total\n",
    "m=int(input('请输入一个数'))\n",
    "n=int(input('请输入一个数'))\n",
    "k=int(input('请输入一个数'))\n",
    "print(sum_1(m)+sum_1(n)+sum_1(k))"
   ]
  },
  {
   "cell_type": "markdown",
   "metadata": {},
   "source": [
    "练习 2：写函数可返回1 - 1/3 + 1/5 - 1/7...的前n项的和。在主程序中，分别令n=1000及100000，打印4倍该函数的和。"
   ]
  },
  {
   "cell_type": "code",
   "execution_count": 2,
   "metadata": {},
   "outputs": [
    {
     "name": "stdout",
     "output_type": "stream",
     "text": [
      "3.140592653839794\n",
      "3.1415826535897198\n"
     ]
    }
   ],
   "source": [
    "def sum_2(n):\n",
    "    i=0\n",
    "    k=0\n",
    "    total=0\n",
    "    while i<n:\n",
    "        k=i*2+1\n",
    "        i=i+1\n",
    "        if i%2!=0:\n",
    "            total=total+1/k\n",
    "        if i%2==0:\n",
    "            total=total-1/k\n",
    "    return total\n",
    "#主程序\n",
    "n=1000\n",
    "m=100000\n",
    "print(sum_2(n)*4)\n",
    "print(sum_2(m)*4)"
   ]
  },
  {
   "cell_type": "markdown",
   "metadata": {},
   "source": [
    "练习 3：将task3中的练习1及练习4改写为函数，并进行调用。"
   ]
  },
  {
   "cell_type": "code",
   "execution_count": 3,
   "metadata": {},
   "outputs": [
    {
     "name": "stdout",
     "output_type": "stream",
     "text": [
      "请输入你的名字邓逸\n",
      "请输入你的生日,用.隔开月份和日期4.22\n",
      "邓逸 你是非常有性格的金牛座\n"
     ]
    }
   ],
   "source": [
    "#练习1\n",
    "def judge_1(n):\n",
    "    if 3.20<n<3.32 or 4<n<4.21:\n",
    "        m=str('你是非常有性格的白羊座')\n",
    "    if 4.20<n<4.31 or 5<n<5.22:\n",
    "        m=str('你是非常有性格的金牛座')\n",
    "    if 5.21<n<5.32 or 6<n<6.22:\n",
    "        m=str('你是非常有性格的双子座')\n",
    "    if 6.21<n<6.31 or 7<n<7.23:\n",
    "        m=str('你是非常有性格的巨蟹座')\n",
    "    if 7.21<n<7.32 or 8<n<8.23:\n",
    "        m=str('你是非常有性格的狮子座')\n",
    "    if 8.22<n<8.32 or 9<n<9.24:\n",
    "        m=str('你是非常有性格的处女座')\n",
    "    if 9.23<n<9.31 or 10<n<10.24:\n",
    "        m=str('你是非常有性格的天秤座')\n",
    "    if 10.23<n<10.32 or 11<n<11.23:\n",
    "        m=str('你是非常有性格的天蝎座')\n",
    "    if 11.22<n<11.31 or 12<n<12.22:\n",
    "        m=str('你是非常有性格的射手座')\n",
    "    if 12.21<n<12.32 or 1<n<1.21:\n",
    "        m=str('你是非常有性格的摩羯座')\n",
    "    if 1.20<n<1.32 or 2<n<2.20:\n",
    "        m=str('你是非常有性格的水瓶座')\n",
    "    if 2.19<n<2.30 or 3<n<3.21:\n",
    "        m=str('你是非常有性格的双鱼座')\n",
    "    return m\n",
    "name=str(input('请输入你的名字'))\n",
    "n=float(input('请输入你的生日,用.隔开月份和日期'))\n",
    "print(name,judge_1(n))"
   ]
  },
  {
   "cell_type": "code",
   "execution_count": 4,
   "metadata": {},
   "outputs": [
    {
     "name": "stdout",
     "output_type": "stream",
     "text": [
      "请输入一个单词wife\n",
      "wives\n"
     ]
    }
   ],
   "source": [
    "#练习4\n",
    "def judge_2(word):\n",
    "    if word.endswith('s'):\n",
    "        n=(word+'es')\n",
    "    if word.endswith('sh'):\n",
    "        n=(word+'es')\n",
    "    if word.endswith('ch'):\n",
    "        n=(word+'es')\n",
    "    if word.endswith('x'):\n",
    "        n=(word+'es')\n",
    "    if word.endswith('f'):\n",
    "        n=(word[:-1]+'ves')\n",
    "    if word.endswith('fe'):\n",
    "        n=(word[:-2]+'ves')\n",
    "    else:\n",
    "        n=(word+'s')\n",
    "    return n\n",
    "word=str(input('请输入一个单词'))\n",
    "print(judge_2(word))"
   ]
  },
  {
   "cell_type": "markdown",
   "metadata": {},
   "source": [
    "挑战性练习：写程序，可以求从整数m到整数n累加的和，间隔为k，求和部分需用函数实现，主程序中由用户输入m，n，k调用函数验证正确性。"
   ]
  },
  {
   "cell_type": "code",
   "execution_count": 5,
   "metadata": {},
   "outputs": [
    {
     "name": "stdout",
     "output_type": "stream",
     "text": [
      "请输入一个数字1\n",
      "请输入一个数字10\n",
      "请输入累加的间隔1\n",
      "25\n",
      "true\n"
     ]
    }
   ],
   "source": [
    "def sum_3(n,m):\n",
    "    total=0\n",
    "    if n>m:\n",
    "        while m<=n:\n",
    "            total=total+m\n",
    "            m=m+k+1\n",
    "    if m>n:\n",
    "        while n<=m:\n",
    "            total=total+n\n",
    "            n=n+k+1\n",
    "    return total\n",
    "n=int(input('请输入一个数字'))\n",
    "m=int(input('请输入一个数字'))\n",
    "k=int(input('请输入累加的间隔'))\n",
    "print(sum_3(n,m))\n",
    "#判断当n=1,m=0,k=1时函数结果是否正确\n",
    "def judge_3(total):\n",
    "    if total!=25:\n",
    "        j=str('false')\n",
    "    else:\n",
    "        j=str('true')\n",
    "    return j\n",
    "total=sum_3(n,m)\n",
    "print(judge_3(total))"
   ]
  }
 ],
 "metadata": {
  "kernelspec": {
   "display_name": "Python 3",
   "language": "python",
   "name": "python3"
  },
  "language_info": {
   "codemirror_mode": {
    "name": "ipython",
    "version": 3
   },
   "file_extension": ".py",
   "mimetype": "text/x-python",
   "name": "python",
   "nbconvert_exporter": "python",
   "pygments_lexer": "ipython3",
   "version": "3.6.2"
  }
 },
 "nbformat": 4,
 "nbformat_minor": 2
}
