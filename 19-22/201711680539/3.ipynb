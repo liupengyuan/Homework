{
 "cells": [
  {
   "cell_type": "code",
   "execution_count": 1,
   "metadata": {},
   "outputs": [
    {
     "name": "stdout",
     "output_type": "stream",
     "text": [
      "请输入你的姓名邓逸\n",
      "你好 邓逸\n",
      "请输入你的生日,用.隔开月份和日期4.22\n",
      "邓逸 你是非常有性格的金牛座\n"
     ]
    }
   ],
   "source": [
    "#练习1\n",
    "name=str(input('请输入你的姓名'))\n",
    "print('你好',name)\n",
    "n=float(input('请输入你的生日,用.隔开月份和日期'))\n",
    "if 3.20<n<4.21:\n",
    "    print(name,'你是非常有性格的白羊座')\n",
    "if 4.20<n<5.22:\n",
    "    print(name,'你是非常有性格的金牛座')\n",
    "if 5.21<n<6.22:\n",
    "    print(name,'你是非常有性格的双子座')\n",
    "if 6.21<n<7.23:\n",
    "    print(name,'你是非常有性格的巨蟹座')\n",
    "if 7.21<n<8.23:\n",
    "    print(name,'你是非常有性格的狮子座')\n",
    "if 8.22<n<9.24:\n",
    "    print(name,'你是非常有性格的处女座')\n",
    "if 9.23<n<10.24:\n",
    "    print(name,'你是非常有性格的天秤座')\n",
    "if 10.23<n<11.23:\n",
    "    print(name,'你是非常有性格的天蝎座')\n",
    "if 11.22<n<12.22:\n",
    "    print(name,'你是非常有性格的射手座')\n",
    "if 12.21<n<1.21:\n",
    "    print(name,'你是非常有性格的摩羯座')\n",
    "if 1.20<n<2.20:\n",
    "    print(name,'你是非常有性格的水瓶座')\n",
    "if 2.19<n<3.21:\n",
    "    print(name,'你是非常有性格的双鱼座')"
   ]
  },
  {
   "cell_type": "code",
   "execution_count": 2,
   "metadata": {},
   "outputs": [
    {
     "name": "stdout",
     "output_type": "stream",
     "text": [
      "请输入你的姓名邓逸\n",
      "你好 邓逸\n",
      "请输入一个整数4\n",
      "请输入一个整数2\n",
      "请在求和，乘积，余数,整除中选择一个求和\n",
      "6\n"
     ]
    }
   ],
   "source": [
    "#练习2\n",
    "name=str(input('请输入你的姓名'))\n",
    "print('你好',name)\n",
    "m=int(input('请输入一个整数'))\n",
    "n=int(input('请输入一个整数'))\n",
    "want=str(input('请在求和，乘积，余数,整除中选择一个'))\n",
    "if want==str('求和'):\n",
    "    print(m+n)\n",
    "if want==str('乘积'):\n",
    "    print(m*n)\n",
    "if want==str('余数'):\n",
    "    print(m/n)\n",
    "if want==str('整除'):\n",
    "    print(m%n)"
   ]
  },
  {
   "cell_type": "code",
   "execution_count": 3,
   "metadata": {},
   "outputs": [
    {
     "name": "stdout",
     "output_type": "stream",
     "text": [
      "请输入想要转化为复数的单词wife\n",
      "wives\n"
     ]
    }
   ],
   "source": [
    "#练习4\n",
    "word=input('请输入想要转化为复数的单词')\n",
    "if word.endswith('s'):\n",
    "    print(word+'es')\n",
    "if word.endswith('sh'):\n",
    "    print(word+'es')\n",
    "if word.endswith('ch'):\n",
    "    print(word+'es')\n",
    "if word.endswith('x'):\n",
    "    print(word+'es')\n",
    "if word.endswith('f'):\n",
    "    print(word[:-1]+'ves')\n",
    "if word.endswith('fe'):\n",
    "    print(word[:-2]+'ves')\n",
    "else:\n",
    "    print(word+'s')"
   ]
  },
  {
   "cell_type": "code",
   "execution_count": 4,
   "metadata": {},
   "outputs": [
    {
     "name": "stdout",
     "output_type": "stream",
     "text": [
      "2\n",
      "\n",
      "2\n"
     ]
    }
   ],
   "source": [
    "#尝试性练习\n",
    "print(1+1)\n",
    "print()\n",
    "print(1+1)"
   ]
  },
  {
   "cell_type": "code",
   "execution_count": 5,
   "metadata": {},
   "outputs": [
    {
     "name": "stdout",
     "output_type": "stream",
     "text": [
      "请输入要输入的整数个数5\n",
      "请输入一个整数6\n",
      "请输入一个整数7\n",
      "请输入一个整数8\n",
      "请输入一个整数9\n",
      "请输入一个整数10\n",
      "9\n"
     ]
    }
   ],
   "source": [
    "#挑战性练习\n",
    "m=int(input('请输入要输入的整数个数'))\n",
    "i=1\n",
    "a=int(input('请输入一个整数'))\n",
    "max_1=0\n",
    "max_2=0\n",
    "while i<m:\n",
    "    b=int(input('请输入一个整数'))\n",
    "    i=i+1\n",
    "    if i%2==0 and a>b:\n",
    "        max_1=a\n",
    "    if i%2==0 and b>a:\n",
    "        max_1=b\n",
    "    if i%2!=0 and a>b:\n",
    "        max_2=a\n",
    "    if i%2!=0 and b>a:\n",
    "        max_2=b\n",
    "if max_1>max_2:\n",
    "    print(max_2)\n",
    "if max_1<max_2:\n",
    "    print(max_1)        "
   ]
  }
 ],
 "metadata": {
  "kernelspec": {
   "display_name": "Python 3",
   "language": "python",
   "name": "python3"
  },
  "language_info": {
   "codemirror_mode": {
    "name": "ipython",
    "version": 3
   },
   "file_extension": ".py",
   "mimetype": "text/x-python",
   "name": "python",
   "nbconvert_exporter": "python",
   "pygments_lexer": "ipython3",
   "version": "3.6.2"
  }
 },
 "nbformat": 4,
 "nbformat_minor": 2
}
