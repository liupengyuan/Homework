{
 "cells": [
  {
   "cell_type": "code",
   "execution_count": 1,
   "metadata": {
    "scrolled": true
   },
   "outputs": [
    {
     "data": {
      "text/plain": [
       "(106.72999999999999, 899, -10)"
      ]
     },
     "execution_count": 1,
     "metadata": {},
     "output_type": "execute_result"
    }
   ],
   "source": [
    "def list():\n",
    "    numbers=[1,2,-1,55,100,899,-10,3,12.5,5.8]\n",
    "    total=0\n",
    "    max_number=0\n",
    "    min_number=0\n",
    "    for number in numbers:\n",
    "        total=total+number\n",
    "    if numbers[0]>numbers[1]:\n",
    "        max_number=numbers[0]\n",
    "        min_number=numbers[1]\n",
    "    else:\n",
    "        max_number=numbers[1]\n",
    "        min_number=numbers[0]\n",
    "    for i in range(2,10):\n",
    "        if max_number<numbers[i]:\n",
    "            max_number=numbers[i]\n",
    "        if min_number>numbers[i]:\n",
    "            min_number=numbers[i]\n",
    "    return total/10,max_number,min_number\n",
    "list()"
   ]
  }
 ],
 "metadata": {
  "kernelspec": {
   "display_name": "Python 3",
   "language": "python",
   "name": "python3"
  },
  "language_info": {
   "codemirror_mode": {
    "name": "ipython",
    "version": 3
   },
   "file_extension": ".py",
   "mimetype": "text/x-python",
   "name": "python",
   "nbconvert_exporter": "python",
   "pygments_lexer": "ipython3",
   "version": "3.6.2"
  }
 },
 "nbformat": 4,
 "nbformat_minor": 2
}
