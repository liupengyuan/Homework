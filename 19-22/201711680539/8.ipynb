{
 "cells": [
  {
   "cell_type": "code",
   "execution_count": 1,
   "metadata": {},
   "outputs": [
    {
     "name": "stdout",
     "output_type": "stream",
     "text": [
      "燕雀安知鸿鹄之志\n",
      "\n",
      "请输入接上的成语。0\n",
      "如果想换词，请输入0；如果想结束游戏，输入1。0\n",
      "惊鸿一瞥\n",
      "\n",
      "请输入接上的成语。0\n",
      "如果想换词，请输入0；如果想结束游戏，输入1。0\n",
      "水滴石穿\n",
      "\n",
      "请输入接上的成语。穿针引线\n",
      "风月无边\n",
      "\n",
      "请输入接上的成语。0\n",
      "如果想换词，请输入0；如果想结束游戏，输入1。0\n",
      "不知所措\n",
      "\n",
      "请输入接上的成语。0\n",
      "如果想换词，请输入0；如果想结束游戏，输入1。0\n",
      "游戏结束。\n"
     ]
    },
    {
     "data": {
      "text/plain": [
       "(0, 10)"
      ]
     },
     "execution_count": 1,
     "metadata": {},
     "output_type": "execute_result"
    }
   ],
   "source": [
    "fh=open(r'c:\\temp\\成语大全.txt')\n",
    "text=fh.read()\n",
    "fh.close()\n",
    "text=text.replace('、','')\n",
    "idioms=text.split('\\n')\n",
    "c=[]\n",
    "for idiom in idioms:\n",
    "    if len(idiom)>3:\n",
    "        c.append(idiom)\n",
    "fh=open(r'c:\\temp\\成语大全.txt','w')\n",
    "idioms=[i+'\\n' for i in c] \n",
    "fh.writelines(idioms)\n",
    "fh.close()    \n",
    "import random\n",
    "def sum():\n",
    "    mark_1=0\n",
    "    mark_2=0   #1为电脑分数，2为玩家分数\n",
    "    i=1\n",
    "    j=0\n",
    "    k=0\n",
    "    m=0\n",
    "    idiom=random.choice(idioms)\n",
    "    print(idiom)\n",
    "    while i>0:\n",
    "        if i%2==1:\n",
    "            guess=str(input('请输入接上的成语。'))\n",
    "            if guess[0]==idiom[-2] and guess in c:\n",
    "                    i=i+1\n",
    "                    mark_2=mark_2+10\n",
    "            else:\n",
    "                n=int(input('如果想换词，请输入0；如果想结束游戏，输入1。'))\n",
    "                if guess==str('0') and j<3: #给予玩家三次机会换词，下同\n",
    "                    j=j+1\n",
    "                    idiom=random.choice(idioms)\n",
    "                    print(idiom)\n",
    "                else:\n",
    "                    i=0\n",
    "                    print('游戏结束。')\n",
    "                    break\n",
    "        if i%2==0:\n",
    "            i=i+1\n",
    "            for idiom in idioms:\n",
    "                if idiom[0]==guess[-2]:\n",
    "                    print(idiom)\n",
    "                    mark_1=mark_1+10\n",
    "                    break\n",
    "                else:\n",
    "                    m=m+1\n",
    "                    if m<len(idioms):\n",
    "                        continue\n",
    "                    else:    \n",
    "                        if k<3:\n",
    "                            k=k+1\n",
    "                            idiom=random.choice(idioms)\n",
    "                            print(idiom)\n",
    "                            break\n",
    "                        else:\n",
    "                            i=0\n",
    "                            print('游戏结束。')\n",
    "                            break\n",
    "    return mark_1,mark_2\n",
    "sum()"
   ]
  }
 ],
 "metadata": {
  "kernelspec": {
   "display_name": "Python 3",
   "language": "python",
   "name": "python3"
  },
  "language_info": {
   "codemirror_mode": {
    "name": "ipython",
    "version": 3
   },
   "file_extension": ".py",
   "mimetype": "text/x-python",
   "name": "python",
   "nbconvert_exporter": "python",
   "pygments_lexer": "ipython3",
   "version": "3.6.2"
  }
 },
 "nbformat": 4,
 "nbformat_minor": 2
}
