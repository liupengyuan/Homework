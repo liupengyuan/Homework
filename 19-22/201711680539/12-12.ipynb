{
 "cells": [
  {
   "cell_type": "code",
   "execution_count": 1,
   "metadata": {},
   "outputs": [
    {
     "name": "stdout",
     "output_type": "stream",
     "text": [
      "请输入文件名。1\n",
      "10 唳生炙手铁惑睫湖扑市\n",
      "请输入文件名。2\n",
      "20 称掠营苒好萍荐取翅货一绿龙听盘渝铁夫疵栗\n",
      "请输入文件名。3\n",
      "30 赤抽斩颐矛雄倒效生伦牢巢危反纵枯阋解蓝荫虹黩潸悚复恐旁责泽烟\n",
      "请输入文件名。4\n",
      "40 亦囊巫刺锋荆主城泣虫监鬼凉奇阵烂逐灵离襟实喻改艾壁孤运癖阔惯联倍殚乾形满度琳娇踌\n",
      "请输入文件名。5\n",
      "50 鸣豹湖圆沆识充朗谢狡聋殄接唳藕中室薄戛尽齐有结铃出里胡解襟久牢殚肉唇悲乘英固钟黔食士平绝釜沽优恒菲开\n",
      "请输入文件名。6\n",
      "60 萤围狱颐结嚣倦朵皇鹊针淡器教光罪砥泾梁完齿能汗钓秒壳微入侃思梅踽添宜莫盘阖发渭簪孜视殄花戛愎补电从宣蓝金障看邯默照猫曲十\n",
      "请输入文件名。7\n",
      "70 鲤门任应较错登会未旗落十周潜服引荐病邯危仁城波司同参泾会逝旷猫己田犯涌视淡达屋监唇变遂勿然卧悲莫睫哀爱引离琅臼象态海阋失卫唳乘乎沧庖怀逑晋缕\n",
      "请输入文件名。8\n",
      "80 接裹五择约现船美芙悬鹄翻秣来喝则黔盗竭酒假丘此甜栗合下安熙使琴斯钧相觑礼永择丧逝尘愚眉岁帼交夕林盖话舟艾孟顺处此迷肆阻魍联飘恶实沉副犯壮绕阻脱悲虚江陈惊帷丹枪犬\n",
      "请输入文件名。9\n",
      "90 监愤应满棋干骨手由陇闺惯影诨真缨惊界睫编恒绸源外曲顺魉狼指缕逑相捉鸠歌双宝业骨亲烂潭诸联循祖室竹饰漓手鹄著恃攘恒凉美恭粟场鬓致则菲颜魑典井戈齐比单意诚淋女填路士性睛座焚倒防怡贯鱼苗\n",
      "请输入文件名。10\n",
      "100 度垂相善云蜃茧市尽秒此狡经场陷毋备笔盲行悚阿群左起尘口染冠咫及武血宜工狗俊会病敌原鸠涌雁泣芙沐窍思腕腹倾猿燎出行陇炼诸彩班株躇贻血理迷衰晷愤朋祥虎觥邪萍壮怀旗魑奇焚迷宣狼蜜狂吼酒由僵秋态十霆周摸先肆花\n"
     ]
    }
   ],
   "source": [
    "import random\n",
    "def get_ch_table(line):\n",
    "    ch_table=[]\n",
    "    for ch in line:\n",
    "        if ch not in ch_table:\n",
    "            ch_table.append(ch)\n",
    "    return ch_table\n",
    "fh=open(r'c:\\temp\\idioms.txt')\n",
    "text=fh.read()\n",
    "chs=get_ch_table(text.replace('\\n', ''))\n",
    "for i in range(10):\n",
    "    m=[]\n",
    "    n=int(input('请输入文件名。'))\n",
    "    while len(m)<n*10:\n",
    "        ch=random.choice(chs)\n",
    "        m.append(ch)\n",
    "        j=[r'c:\\temp\\i','i','.txt']\n",
    "        j[0]=j[0][:-1]\n",
    "        j[1]=str(n)\n",
    "        j=''.join(j)\n",
    "        fh=open(j, 'w')\n",
    "        fh.writelines(m)\n",
    "        fh.close()\n",
    "        fh=open(j)\n",
    "        t=fh.read()\n",
    "        fh.close()\n",
    "    print(len(t),t)"
   ]
  }
 ],
 "metadata": {
  "kernelspec": {
   "display_name": "Python 3",
   "language": "python",
   "name": "python3"
  },
  "language_info": {
   "codemirror_mode": {
    "name": "ipython",
    "version": 3
   },
   "file_extension": ".py",
   "mimetype": "text/x-python",
   "name": "python",
   "nbconvert_exporter": "python",
   "pygments_lexer": "ipython3",
   "version": "3.6.2"
  }
 },
 "nbformat": 4,
 "nbformat_minor": 2
}
