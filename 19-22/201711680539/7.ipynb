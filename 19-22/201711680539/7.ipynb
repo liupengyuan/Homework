{
 "cells": [
  {
   "cell_type": "markdown",
   "metadata": {},
   "source": [
    "练习一：自己定义一个reverse(s)函数，功能返回字符串s的倒序字符串。"
   ]
  },
  {
   "cell_type": "code",
   "execution_count": 1,
   "metadata": {},
   "outputs": [
    {
     "name": "stdout",
     "output_type": "stream",
     "text": [
      "请输入字符串。465156581\n",
      "185651564\n"
     ]
    }
   ],
   "source": [
    "def reverse(s):\n",
    "    t=s[-1:-len(s)-1:-1]\n",
    "    print(t)\n",
    "s=str(input('请输入字符串。'))\n",
    "reverse(s)"
   ]
  },
  {
   "cell_type": "markdown",
   "metadata": {},
   "source": [
    "练习二：写函数，根据给定符号和行数，打印相应直角三角形，等腰三角形及其他形式的三角形。"
   ]
  },
  {
   "cell_type": "code",
   "execution_count": 2,
   "metadata": {},
   "outputs": [
    {
     "name": "stdout",
     "output_type": "stream",
     "text": [
      "请输入组成三角形的符号。*\n",
      "请输入三角形的行数。5\n",
      "*\n",
      "**\n",
      "***\n",
      "****\n",
      "*****\n",
      "\n",
      "    *\n",
      "   ***\n",
      "  *****\n",
      " *******\n",
      "*********\n",
      "\n",
      "********* \n",
      " ******* \n",
      "  ***** \n",
      "   *** \n",
      "    * \n",
      "\n",
      "    *\n",
      "   * * \n",
      "  *   * \n",
      " *     * \n",
      "*********\n"
     ]
    }
   ],
   "source": [
    "def triangle():\n",
    "    m=str(input('请输入组成三角形的符号。'))\n",
    "    n=int(input('请输入三角形的行数。'))\n",
    "    for i in range(1,n+1):\n",
    "        print(m*i,end='')\n",
    "        print()\n",
    "    print()\n",
    "    for i in range(1,n+1):\n",
    "        print((n-i)*' '+m*(2*i-1),end='')\n",
    "        print()\n",
    "    print()\n",
    "    for i in range(1,n+1):\n",
    "        print((i-1)*' '+m*(2*(n-i)+1),end=' ')\n",
    "        print()\n",
    "    print()\n",
    "    print((n-1)*' '+m)\n",
    "    for i in range(1,n-1):\n",
    "        print((n-i-1)*' '+m+(2*i-1)*' '+m,end=' ')\n",
    "        print()\n",
    "    print((2*n-1)*m)\n",
    "triangle()"
   ]
  },
  {
   "cell_type": "markdown",
   "metadata": {},
   "source": [
    "练习五：写函数，根据给定符号，打印各种菱形。"
   ]
  },
  {
   "cell_type": "code",
   "execution_count": 4,
   "metadata": {},
   "outputs": [
    {
     "name": "stdout",
     "output_type": "stream",
     "text": [
      "请输入组成菱形的符号。*\n",
      "请输入菱形面积开平方的结果。5\n",
      "***** \n",
      "***** \n",
      "***** \n",
      "***** \n",
      "***** \n",
      "\n",
      "    * \n",
      "   *** \n",
      "  ***** \n",
      " ******* \n",
      "********* \n",
      " ******* \n",
      "  ***** \n",
      "   *** \n",
      "    * \n",
      "      \n",
      "\n",
      "    *\n",
      "   * * \n",
      "  *   * \n",
      " *     * \n",
      "*       * \n",
      " *     * \n",
      "  *   * \n",
      "   * * \n",
      "    *\n"
     ]
    }
   ],
   "source": [
    "def diamond():\n",
    "    m=str(input('请输入组成菱形的符号。'))\n",
    "    n=int(input('请输入菱形面积开平方的结果。'))\n",
    "    for i in range(1,n+1):\n",
    "        print(m*n,end=' ')\n",
    "        print()\n",
    "    print()\n",
    "    for i in range(1,2*n+1):\n",
    "        if i<n+1:\n",
    "            print((n-i)*' '+m*(2*i-1),end=' ')\n",
    "            print()\n",
    "        else:\n",
    "            print((i-n)*' '+m*(2*(2*n-i)-1),end=' ')\n",
    "            print()\n",
    "    print()\n",
    "    print((n-1)*' '+m)\n",
    "    for i in range(1,2*(n-1)):\n",
    "        if i<n:\n",
    "            print((n-i-1)*' '+m+(2*i-1)*' '+m,end=' ')\n",
    "            print()\n",
    "        else:\n",
    "            print((i-n+1)*' '+m+(3*n-2*i)*' '+m,end=' ')\n",
    "            print()\n",
    "    print((n-1)*' '+m)\n",
    "diamond()"
   ]
  }
 ],
 "metadata": {
  "kernelspec": {
   "display_name": "Python 3",
   "language": "python",
   "name": "python3"
  },
  "language_info": {
   "codemirror_mode": {
    "name": "ipython",
    "version": 3
   },
   "file_extension": ".py",
   "mimetype": "text/x-python",
   "name": "python",
   "nbconvert_exporter": "python",
   "pygments_lexer": "ipython3",
   "version": "3.6.2"
  }
 },
 "nbformat": 4,
 "nbformat_minor": 2
}
