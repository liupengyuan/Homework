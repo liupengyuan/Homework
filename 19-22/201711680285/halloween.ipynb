{
 "cells": [
  {
   "cell_type": "code",
   "execution_count": 32,
   "metadata": {},
   "outputs": [
    {
     "name": "stdout",
     "output_type": "stream",
     "text": [
      "56\n",
      "33\n",
      "2157\n"
     ]
    }
   ],
   "source": [
    "#写求和函数my_sum(n),求积函数my_mul(n)\n",
    "#请用户输入m和n,如果m>n则输出1+...m+1...+n的和，否则输出m!+n！\n",
    "def my_sum(n):\n",
    "    i=0\n",
    "    total_n =0\n",
    "    while i<n :\n",
    "        i=i+1\n",
    "        total_n = total_n + i\n",
    "    return  total_n \n",
    "def my_mul(n):\n",
    "    i=0\n",
    "    al=1\n",
    "    while i<n:\n",
    "        i=i+1\n",
    "        al=al*i\n",
    "    return al\n",
    "m = int(input())\n",
    "n = int(input())\n",
    "if m>n:\n",
    "    print(my_sum(n)+my_sum(m))\n",
    "elif m<n:\n",
    "    print(my_sul(n)+my_sul(m))\n",
    "else:\n",
    "    print('m,n不符合条件')"
   ]
  }
 ],
 "metadata": {
  "kernelspec": {
   "display_name": "Python 3",
   "language": "python",
   "name": "python3"
  },
  "language_info": {
   "codemirror_mode": {
    "name": "ipython",
    "version": 3
   },
   "file_extension": ".py",
   "mimetype": "text/x-python",
   "name": "python",
   "nbconvert_exporter": "python",
   "pygments_lexer": "ipython3",
   "version": "3.6.0"
  }
 },
 "nbformat": 4,
 "nbformat_minor": 2
}
