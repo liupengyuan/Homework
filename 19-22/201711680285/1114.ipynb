{
 "cells": [
  {
   "cell_type": "code",
   "execution_count": 19,
   "metadata": {
    "collapsed": false
   },
   "outputs": [
    {
     "name": "stdout",
     "output_type": "stream",
     "text": [
      "最大值是： 899\n",
      "最小值是： -10\n",
      "平均值是： 97.43636363636364\n"
     ]
    }
   ],
   "source": [
    "#写函数，返回一个list中的最大值，最小值，平均值。（不用内置的求和求函数），以[1,2,-1,55,100,899,-10,3,12.5,5.8]为例。\n",
    "numbers=[1,2,-1,55,100,899,-10,3,12,5,5.8]\n",
    "i = 0\n",
    "total = 0\n",
    "while i < len(numbers):\n",
    "    max_number = numbers[i]\n",
    "    min_number = numbers[i]\n",
    "    total +=numbers[i]\n",
    "    for number in numbers:\n",
    "    \n",
    "        if number > max_number:\n",
    "            max_number = number\n",
    "        if number < min_number:\n",
    "            min_number = number\n",
    "    i=i+1\n",
    "print('最大值是：', max_number)\n",
    "print('最小值是：', min_number)\n",
    "print('平均值是：',total/len(numbers))"
   ]
  },
  {
   "cell_type": "code",
   "execution_count": null,
   "metadata": {
    "collapsed": true
   },
   "outputs": [],
   "source": []
  }
 ],
 "metadata": {
  "kernelspec": {
   "display_name": "Python 3",
   "language": "python",
   "name": "python3"
  },
  "language_info": {
   "codemirror_mode": {
    "name": "ipython",
    "version": 3
   },
   "file_extension": ".py",
   "mimetype": "text/x-python",
   "name": "python",
   "nbconvert_exporter": "python",
   "pygments_lexer": "ipython3",
   "version": "3.6.0"
  }
 },
 "nbformat": 4,
 "nbformat_minor": 2
}
