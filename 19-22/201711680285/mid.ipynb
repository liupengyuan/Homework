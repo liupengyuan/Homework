{
 "cells": [
  {
   "cell_type": "code",
   "execution_count": 3,
   "metadata": {
    "collapsed": false
   },
   "outputs": [
    {
     "name": "stdout",
     "output_type": "stream",
     "text": [
      "3\n"
     ]
    },
    {
     "data": {
      "text/plain": [
       "10"
      ]
     },
     "execution_count": 3,
     "metadata": {},
     "output_type": "execute_result"
    }
   ],
   "source": [
    "#1\n",
    "def add(m):\n",
    "    a=0\n",
    "    b=0\n",
    "    c=0\n",
    "    while a<m:\n",
    "        a +=1\n",
    "        b +=a\n",
    "        c +=b\n",
    "    return c\n",
    "\n",
    "m=int(input())\n",
    "add(m)"
   ]
  },
  {
   "cell_type": "code",
   "execution_count": 48,
   "metadata": {
    "collapsed": false
   },
   "outputs": [
    {
     "name": "stdout",
     "output_type": "stream",
     "text": [
      "['*']\n",
      "['*', '**']\n",
      "['*', '**', '**']\n",
      "['*', '**', '**', '**']\n"
     ]
    }
   ],
   "source": [
    "#2\n",
    "def pec(fuhao,n):\n",
    "    number=['*']\n",
    "    print(number)\n",
    "    for fuhao in range(n-1):\n",
    "        fuhao='*' '*'\n",
    "        number.append(fuhao)\n",
    "        print(number)\n",
    "    return\n",
    "\n",
    "    \n",
    "pec('*',4)\n",
    "   "
   ]
  },
  {
   "cell_type": "code",
   "execution_count": 49,
   "metadata": {
    "collapsed": false
   },
   "outputs": [
    {
     "data": {
      "text/plain": [
       "4"
      ]
     },
     "execution_count": 49,
     "metadata": {},
     "output_type": "execute_result"
    }
   ],
   "source": [
    "#3\n",
    "def first(number):\n",
    "    for i in number:\n",
    "        return number[0]\n",
    "\n",
    "    \n",
    "number=[4,8,7,2,3,4,7,8,2,3,4,4,3,2]\n",
    "first(number)"
   ]
  },
  {
   "cell_type": "code",
   "execution_count": 1,
   "metadata": {
    "collapsed": false,
    "scrolled": false
   },
   "outputs": [
    {
     "name": "stdout",
     "output_type": "stream",
     "text": [
      "183\n",
      "185\n",
      "183\n",
      "187\n",
      "178\n",
      "175\n",
      "177\n",
      "190\n",
      "172\n",
      "平均值是: 172.0\n",
      "183 ,高于平均值\n",
      "185 ,高于平均值\n",
      "183 ,高于平均值\n",
      "187 ,高于平均值\n",
      "178 ,高于平均值\n",
      "175 ,高于平均值\n",
      "177 ,高于平均值\n",
      "190 ,高于平均值\n"
     ]
    }
   ],
   "source": [
    "#4\n",
    "list=[]\n",
    "n=0\n",
    "while n<9:\n",
    "    i=int(input())\n",
    "    list.append(i)\n",
    "    n+=1\n",
    "total=0\n",
    "for j in list:\n",
    "     total+=i\n",
    "ping=total/len(list)\n",
    "print('平均值是:',ping)\n",
    "for k in list:\n",
    "    if k>ping:\n",
    "        print(k,',高于平均值')"
   ]
  },
  {
   "cell_type": "code",
   "execution_count": 1,
   "metadata": {
    "collapsed": false,
    "scrolled": true
   },
   "outputs": [
    {
     "name": "stdout",
     "output_type": "stream",
     "text": [
      "1\n",
      "10 + 2 =\n",
      "12\n",
      "2\n",
      "9 + 5 =\n",
      "14\n",
      "3\n",
      "9 + 6 =\n",
      "15\n",
      "4\n",
      "8 + 2 =\n",
      "10\n",
      "5\n",
      "2 + 2 =\n",
      "4\n",
      "100\n"
     ]
    }
   ],
   "source": [
    "#5\n",
    "import random\n",
    "def num():\n",
    "    number = random.randint(1, 10)\n",
    "    return number\n",
    "def ad(n):\n",
    "    print(n)\n",
    "    i=0\n",
    "    a=num()\n",
    "    b=num()\n",
    "    print(a,'+',b,'=')\n",
    "    c=int(input())\n",
    "    if c==a+b:\n",
    "        i=i+20\n",
    "    else:\n",
    "        i=i\n",
    "    return i\n",
    "\n",
    "\n",
    "\n",
    "print(ad(1)+ad(2)+ad(3)+ad(4)+ad(5))\n",
    "    \n",
    "    "
   ]
  },
  {
   "cell_type": "code",
   "execution_count": 6,
   "metadata": {
    "collapsed": false
   },
   "outputs": [
    {
     "name": "stdout",
     "output_type": "stream",
     "text": [
      "3\n",
      "-5\n",
      "9\n",
      "108\n",
      "34\n",
      "-76\n",
      "88\n",
      "[108, -5, 9, 108, 34, -76, -76]\n"
     ]
    }
   ],
   "source": [
    "#6\n",
    "lit=[]\n",
    "n=0\n",
    "while n<7:\n",
    "    i=int(input())\n",
    "    lit.append(i)\n",
    "    n+=1\n",
    "max=lit[0]\n",
    "min=lit[0]\n",
    "for i in lit:\n",
    "    if max<i:\n",
    "        max=i\n",
    "    if min>i:\n",
    "        min=i\n",
    "lit[0]=max\n",
    "lit[6]=min\n",
    "print(lit)"
   ]
  },
  {
   "cell_type": "code",
   "execution_count": null,
   "metadata": {
    "collapsed": true
   },
   "outputs": [],
   "source": []
  },
  {
   "cell_type": "code",
   "execution_count": null,
   "metadata": {
    "collapsed": true
   },
   "outputs": [],
   "source": []
  }
 ],
 "metadata": {
  "kernelspec": {
   "display_name": "Python 3",
   "language": "python",
   "name": "python3"
  },
  "language_info": {
   "codemirror_mode": {
    "name": "ipython",
    "version": 3
   },
   "file_extension": ".py",
   "mimetype": "text/x-python",
   "name": "python",
   "nbconvert_exporter": "python",
   "pygments_lexer": "ipython3",
   "version": "3.6.0"
  }
 },
 "nbformat": 4,
 "nbformat_minor": 2
}
