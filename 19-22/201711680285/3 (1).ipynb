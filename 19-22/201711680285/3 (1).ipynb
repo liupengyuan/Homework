{
 "cells": [
  {
   "cell_type": "code",
   "execution_count": 9,
   "metadata": {},
   "outputs": [
    {
     "name": "stdout",
     "output_type": "stream",
     "text": [
      "请输入你的名字，以回车结束Anna\n",
      "请输入你的出生月份，以回车结束 “注意：13>month>0”5\n",
      "请输入你的出生日 “注意：32>day>0”12\n",
      "Anna 你是非常慎重的金牛座\n"
     ]
    }
   ],
   "source": [
    "#练习 1：写程序，可由键盘读入用户姓名例如Mr. right，让用户输入出生的月份与日期，判断用户星座，假设用户是金牛座，则输出，Mr. right，你是非常有性格的金牛座！\n",
    "name = input('请输入你的名字，以回车结束')\n",
    "month = int(input('请输入你的出生月份，以回车结束 “注意：13>month>0”'))\n",
    "day = int(input('请输入你的出生日 “注意：32>day>0”'))\n",
    "a = 100*month+day\n",
    "if 320<a<420:\n",
    "    print(name,'你是非常坚强的白羊座')\n",
    "elif 419<a<521:\n",
    "    print(name,'你是非常慎重的金牛座')\n",
    "elif 520<a<622:\n",
    "    print(name,'你是非常敏锐的双子座')\n",
    "elif 621<a<723:\n",
    "    print(name,'你是充满感情的巨蟹座')\n",
    "elif 722<a<823:\n",
    "    print(name,'你是诚实可靠的狮子座')\n",
    "elif 822<a<923:\n",
    "    print(name,'你是与正义感的处女座')\n",
    "elif 922<a<1023:\n",
    "    print(name,'你是生活快乐的天秤座')\n",
    "elif 1022<a<1123:\n",
    "    print(name,'你是充满耐力的天蝎座')\n",
    "elif 1122<a<1222:\n",
    "    print(name,'你是忠心爱国的射手座')\n",
    "elif 1221<a<1232 or 0<a<120:\n",
    "    print(name,'你是脚踏实地的摩羯座')\n",
    "elif 119<a<219:\n",
    "    print(name,'你是颇富知性的水瓶座')\n",
    "else:\n",
    "    print(name,'你是拥有梦想的双鱼座')\n",
    "    "
   ]
  },
  {
   "cell_type": "code",
   "execution_count": 17,
   "metadata": {},
   "outputs": [
    {
     "name": "stdout",
     "output_type": "stream",
     "text": [
      "请输入第一个数，回车结束33\n",
      "请输入第二个数，回车结束 ‘注意：，第二的数不为零’10\n",
      "如果要求和则输入1，如果要乘积则输入2，如果要求余数则输入33\n",
      "3\n"
     ]
    }
   ],
   "source": [
    "#练习 2：写程序，可由键盘读入两个整数m与n(n不等于0)，询问用户意图，如果要求和则计算从m到n的和输出，如果要乘积则计算从m到n的积并输出，如果要求余数则计算m除以n的余数的值并输出，否则则计算m整除n的值并输出。\n",
    "m = int(input('请输入第一个数，回车结束'))\n",
    "n = int(input('请输入第二个数，回车结束 ‘注意：，第二的数不为零’'))\n",
    "a = int(input('如果要求和则输入1，如果要乘积则输入2，如果要求余数则输入3'))\n",
    "if a == 1:\n",
    "    end = m+n\n",
    "elif a == 2:\n",
    "    end = m*n\n",
    "elif a == 3:\n",
    "    end = m%n\n",
    "else:\n",
    "    end == m//n\n",
    "print(end)"
   ]
  },
  {
   "cell_type": "code",
   "execution_count": 52,
   "metadata": {},
   "outputs": [
    {
     "name": "stdout",
     "output_type": "stream",
     "text": [
      "输入一个英文单词（单数形式）,回车结束appple\n"
     ]
    },
    {
     "ename": "ValueError",
     "evalue": "invalid literal for int() with base 10: 'appple'",
     "output_type": "error",
     "traceback": [
      "\u001b[1;31m---------------------------------------------------------------------------\u001b[0m",
      "\u001b[1;31mValueError\u001b[0m                                Traceback (most recent call last)",
      "\u001b[1;32m<ipython-input-52-5ae242675570>\u001b[0m in \u001b[0;36m<module>\u001b[1;34m()\u001b[0m\n\u001b[0;32m      1\u001b[0m \u001b[1;31m#练习 4：英文单词单数转复数，要求输入一个英文单词（单数形式），能够得到其复数形式，或给出单数转复数形式的建议（提示，some_string.endswith(some_letter)函数可以判断某字符串结尾字符，可尝试运行：'myname'.endswith('me')，liupengyuan'.endswith('n')）。\u001b[0m\u001b[1;33m\u001b[0m\u001b[1;33m\u001b[0m\u001b[0m\n\u001b[1;32m----> 2\u001b[1;33m \u001b[0mword\u001b[0m \u001b[1;33m=\u001b[0m \u001b[0mint\u001b[0m\u001b[1;33m(\u001b[0m\u001b[0minput\u001b[0m\u001b[1;33m(\u001b[0m\u001b[1;34m'输入一个英文单词（单数形式）,回车结束'\u001b[0m\u001b[1;33m)\u001b[0m\u001b[1;33m)\u001b[0m\u001b[1;33m\u001b[0m\u001b[0m\n\u001b[0m\u001b[0;32m      3\u001b[0m \u001b[1;32mif\u001b[0m \u001b[1;34m'word'\u001b[0m\u001b[1;33m.\u001b[0m\u001b[0mendswith\u001b[0m\u001b[1;33m(\u001b[0m\u001b[1;34m's'\u001b[0m\u001b[1;33m)\u001b[0m \u001b[1;32mor\u001b[0m \u001b[1;34m'word'\u001b[0m\u001b[1;33m.\u001b[0m\u001b[0mendswith\u001b[0m\u001b[1;33m(\u001b[0m\u001b[1;34m'sh'\u001b[0m\u001b[1;33m)\u001b[0m \u001b[1;32mor\u001b[0m \u001b[1;34m'word'\u001b[0m\u001b[1;33m.\u001b[0m\u001b[0mendswith\u001b[0m\u001b[1;33m(\u001b[0m\u001b[1;34m'ch'\u001b[0m\u001b[1;33m)\u001b[0m \u001b[1;32mor\u001b[0m \u001b[1;34m'word'\u001b[0m\u001b[1;33m.\u001b[0m\u001b[0mendswith\u001b[0m\u001b[1;33m(\u001b[0m\u001b[1;34m'x'\u001b[0m\u001b[1;33m)\u001b[0m\u001b[1;33m:\u001b[0m\u001b[1;33m\u001b[0m\u001b[0m\n\u001b[0;32m      4\u001b[0m     \u001b[0mprint\u001b[0m\u001b[1;33m(\u001b[0m\u001b[0mword\u001b[0m\u001b[1;33m,\u001b[0m\u001b[1;33m(\u001b[0m\u001b[0m变为复数应加es\u001b[0m\u001b[1;33m)\u001b[0m\u001b[1;33m)\u001b[0m\u001b[1;33m\u001b[0m\u001b[0m\n\u001b[0;32m      5\u001b[0m \u001b[1;32melif\u001b[0m \u001b[1;34m'word'\u001b[0m\u001b[1;33m.\u001b[0m\u001b[0mendswith\u001b[0m\u001b[1;33m(\u001b[0m\u001b[1;34m'f'\u001b[0m\u001b[1;33m)\u001b[0m\u001b[1;32mor\u001b[0m\u001b[1;34m'word'\u001b[0m\u001b[1;33m.\u001b[0m\u001b[0mendswith\u001b[0m\u001b[1;33m(\u001b[0m\u001b[1;34m'fe'\u001b[0m\u001b[1;33m)\u001b[0m\u001b[1;33m:\u001b[0m\u001b[1;33m\u001b[0m\u001b[0m\n",
      "\u001b[1;31mValueError\u001b[0m: invalid literal for int() with base 10: 'appple'"
     ]
    }
   ],
   "source": [
    "#练习 4：英文单词单数转复数，要求输入一个英文单词（单数形式），能够得到其复数形式，或给出单数转复数形式的建议（提示，some_string.endswith(some_letter)函数可以判断某字符串结尾字符，可尝试运行：'myname'.endswith('me')，liupengyuan'.endswith('n')）。\n",
    "word = int(input('输入一个英文单词（单数形式）,回车结束'))\n",
    "if 'word'.endswith('s') or 'word'.endswith('sh') or 'word'.endswith('ch') or 'word'.endswith('x'):\n",
    "    print(word,(变为复数应加es))\n",
    "elif 'word'.endswith('f')or'word'.endswith('fe'):\n",
    "    print(word,(变为复数应去f,fe加ves))\n",
    "else:\n",
    "    print(word,(变为复数应加s))"
   ]
  },
  {
   "cell_type": "code",
   "execution_count": 61,
   "metadata": {},
   "outputs": [
    {
     "name": "stdout",
     "output_type": "stream",
     "text": [
      "请输入第一个数，回车结束45\n",
      "\n",
      "请输入第二个数，回车结束55\n",
      "\n",
      "100\n"
     ]
    }
   ],
   "source": [
    "#尝试性练习：写程序，能够在屏幕上显示空行。\n",
    "m = int(input('请输入第一个数，回车结束'))\n",
    "print()\n",
    "n = int(input('请输入第二个数，回车结束'))\n",
    "print()\n",
    "total = m+n\n",
    "/\n",
    "print(total)"
   ]
  },
  {
   "cell_type": "code",
   "execution_count": 64,
   "metadata": {},
   "outputs": [
    {
     "name": "stdout",
     "output_type": "stream",
     "text": [
      "请输入第一个整数，回车结束12\n",
      "请输入第二个整数，回车结束 \"注意：b与a不相等\"66\n",
      "请输入一个整数，回车结束89\n",
      "请输入一个整数，回车结束4\n",
      "请输入一个整数，回车结束12\n",
      "请输入一个整数，回车结束66\n",
      "请输入一个整数，回车结束19\n",
      "请输入一个整数，回车结束30\n",
      "请输入一个整数，回车结束20\n",
      "请输入一个整数，回车结束41\n",
      "请输入一个整数，回车结束84\n",
      "请输入一个整数，回车结束46\n",
      "第二最大值是： 84\n"
     ]
    }
   ],
   "source": [
    "#挑战性练习：写程序，由用户输入一些整数，能够得到几个整数中的次大值(第二大的值)并输出。\n",
    "a = int(input('请输入第一个整数，回车结束'))\n",
    "b = int(input('请输入第二个整数，回车结束 \"注意：b与a不相等\"'))\n",
    "if a<b:\n",
    "    a = a\n",
    "    b = b\n",
    "else:\n",
    "    a=b\n",
    "    b=a\n",
    "i = 0\n",
    "while i < 8:\n",
    "    i += 1\n",
    "    c = int(input('请输入一个整数，回车结束'))\n",
    "    if c<=a:\n",
    "        a=a\n",
    "        b=b\n",
    "    elif a<c<b:\n",
    "        a=c\n",
    "        b=b\n",
    "    else:\n",
    "        a=b\n",
    "        b=c\n",
    "print('第二最大值是：', a)"
   ]
  }
 ],
 "metadata": {
  "kernelspec": {
   "display_name": "Python 3",
   "language": "python",
   "name": "python3"
  },
  "language_info": {
   "codemirror_mode": {
    "name": "ipython",
    "version": 3
   },
   "file_extension": ".py",
   "mimetype": "text/x-python",
   "name": "python",
   "nbconvert_exporter": "python",
   "pygments_lexer": "ipython3",
   "version": "3.6.0"
  }
 },
 "nbformat": 4,
 "nbformat_minor": 2
}
