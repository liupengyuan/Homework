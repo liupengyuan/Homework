{
 "cells": [
  {
   "cell_type": "code",
   "execution_count": 1,
   "metadata": {},
   "outputs": [
    {
     "name": "stdout",
     "output_type": "stream",
     "text": [
      "请输入一个整数，表示将要输入的字符个数，回车结束。4\n",
      "请输入一个字符，回车结束。fdz\n",
      "请输入一个字符，回车结束。ht\n",
      "请输入一个字符，回车结束。54t\n",
      "请输入一个字符，回车结束。t6\n",
      "['t6', '54t', 'ht', 'fdz']\n"
     ]
    }
   ],
   "source": [
    "#练习一：自己定义一个reverse(s)函数，功能返回字符串s的倒序字符串。\n",
    "def reverse(s):\n",
    "    s_=[]\n",
    "    i = len(s)\n",
    "    while i > 0:\n",
    "        i -= 1\n",
    "        s_.append(s[i])\n",
    "    return s_\n",
    "        \n",
    "\n",
    "s = []\n",
    "n = int(input('请输入一个整数，表示将要输入的字符个数，回车结束。'))\n",
    "\n",
    "i = 0\n",
    "while i < n:\n",
    "    word = input('请输入一个字符，回车结束。')\n",
    "    s.append(word)\n",
    "    i += 1\n",
    "print(reverse(s))"
   ]
  },
  {
   "cell_type": "code",
   "execution_count": 3,
   "metadata": {},
   "outputs": [
    {
     "name": "stdout",
     "output_type": "stream",
     "text": [
      "请输入字符：&\n",
      "4\n",
      "&\n",
      "&&\n",
      "&&&\n",
      "&&&&\n",
      "   &\n",
      "  &&&\n",
      " &&&&&\n",
      "&&&&&&&\n",
      "   &\n",
      "      &&\n",
      "         &&&\n",
      "            &&&&\n",
      "        &\n",
      "      &&\n",
      "    &&&\n",
      "  &&&&\n"
     ]
    }
   ],
   "source": [
    "#练习二：写函数，根据给定符号和行数，打印相应直角三角形，等腰三角形及其他形式的三角形。\n",
    "\n",
    "def a():\n",
    "    t=input('请输入字符：')\n",
    "    n=int(input())\n",
    "    line = t \n",
    "    \n",
    "    for i in range(1, n+1):\n",
    "        for j in range(1,i+1):\n",
    "            print(line[0], end='')\n",
    "        print()\n",
    "\n",
    "    for k in range(1, n+1):\n",
    "        print((n-k)*' ' + line[0]*(2*k-1), end='')\n",
    "        print()        \n",
    "            \n",
    "    for l in range(1, n+1):\n",
    "        print((l*3)*' ' + line[0]*l, end='')\n",
    "        print()\n",
    "        \n",
    "    for m in range(1, n+1):\n",
    "        print((n+1-m)*2*' ' + line[0]*m, end='')\n",
    "        print()    \n",
    "        \n",
    "a()"
   ]
  },
  {
   "cell_type": "code",
   "execution_count": 6,
   "metadata": {},
   "outputs": [
    {
     "name": "stdout",
     "output_type": "stream",
     "text": [
      "请输入字符：&\n",
      "4\n",
      "   &\n",
      "  &&&\n",
      " &&&&&\n",
      "&&&&&&&\n",
      " &&&&&\n",
      "  &&&\n",
      "   &\n",
      "    \n",
      "       &\n",
      "      &&&\n",
      "    &&&&&&&\n",
      "  &&&&&&&&&&&\n",
      "&&&&&&&&&&&&&&&\n",
      "  &&&&&&&&&&&\n",
      "    &&&&&&&\n",
      "      &&&\n",
      "       &\n"
     ]
    }
   ],
   "source": [
    "#练习五：写函数，根据给定符号，打印各种菱形。\n",
    "def b1(s,n):\n",
    "    line=s*n\n",
    "    for k in range(1, n+1):\n",
    "        print((n-k)*' ' + line[0]*(2*k-1), end='')\n",
    "        print()\n",
    "    for k in range(1, n+1):\n",
    "        print((k)*' ' + line[0]*(2*(n-k)-1), end='')    \n",
    "        print()\n",
    "    \n",
    "def b2(s,n):\n",
    "    line=s*n\n",
    "    print((2*n-1)*' ' +line[0]*1, end='')\n",
    "    print()\n",
    "    for k in range(1, n+1):\n",
    "        print(2*(n-k)*' ' + line[0]*(4*k-1), end='')\n",
    "        print()\n",
    "    for k in range(1, n):\n",
    "        print(2*(k)*' ' + line[0]*(4*(n-k)-1), end='')  \n",
    "        print()\n",
    "    print((2*n-1)*' ' +line[0]*1, end='')\n",
    "    print()\n",
    "    \n",
    "s=input('请输入字符：')\n",
    "n=int(input())\n",
    "b1(s,n)\n",
    "b2(s,n)\n",
    "\n",
    "    "
   ]
  },
  {
   "cell_type": "code",
   "execution_count": null,
   "metadata": {},
   "outputs": [],
   "source": []
  },
  {
   "cell_type": "code",
   "execution_count": null,
   "metadata": {},
   "outputs": [],
   "source": []
  },
  {
   "cell_type": "code",
   "execution_count": null,
   "metadata": {},
   "outputs": [],
   "source": []
  },
  {
   "cell_type": "code",
   "execution_count": null,
   "metadata": {},
   "outputs": [],
   "source": []
  },
  {
   "cell_type": "code",
   "execution_count": null,
   "metadata": {},
   "outputs": [],
   "source": []
  }
 ],
 "metadata": {
  "kernelspec": {
   "display_name": "Python 3",
   "language": "python",
   "name": "python3"
  },
  "language_info": {
   "codemirror_mode": {
    "name": "ipython",
    "version": 3
   },
   "file_extension": ".py",
   "mimetype": "text/x-python",
   "name": "python",
   "nbconvert_exporter": "python",
   "pygments_lexer": "ipython3",
   "version": "3.6.0"
  }
 },
 "nbformat": 4,
 "nbformat_minor": 2
}
