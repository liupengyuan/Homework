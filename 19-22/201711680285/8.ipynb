{
 "cells": [
  {
   "cell_type": "code",
   "execution_count": 1,
   "metadata": {},
   "outputs": [
    {
     "name": "stdout",
     "output_type": "stream",
     "text": [
      "游戏开始\n",
      "第一个成语： 不一而足、\n",
      "人接龙：\n",
      "足 不 出 户\n"
     ]
    },
    {
     "ename": "IndexError",
     "evalue": "list index out of range",
     "output_type": "error",
     "traceback": [
      "\u001b[1;31m---------------------------------------------------------------------------\u001b[0m",
      "\u001b[1;31mIndexError\u001b[0m                                Traceback (most recent call last)",
      "\u001b[1;32m<ipython-input-1-e66565cbdae8>\u001b[0m in \u001b[0;36m<module>\u001b[1;34m()\u001b[0m\n\u001b[0;32m     31\u001b[0m \u001b[0mtwo\u001b[0m\u001b[1;33m=\u001b[0m\u001b[0minput\u001b[0m\u001b[1;33m(\u001b[0m\u001b[1;33m)\u001b[0m\u001b[1;33m\u001b[0m\u001b[0m\n\u001b[0;32m     32\u001b[0m \u001b[1;32mwhile\u001b[0m \u001b[0mm\u001b[0m\u001b[1;33m<=\u001b[0m\u001b[1;36m100\u001b[0m \u001b[1;32mand\u001b[0m \u001b[0mn\u001b[0m\u001b[1;33m<=\u001b[0m\u001b[1;36m100\u001b[0m\u001b[1;33m:\u001b[0m\u001b[1;33m\u001b[0m\u001b[0m\n\u001b[1;32m---> 33\u001b[1;33m     \u001b[1;32mif\u001b[0m \u001b[0mb\u001b[0m\u001b[1;33m(\u001b[0m\u001b[0mtwo\u001b[0m\u001b[1;33m)\u001b[0m\u001b[1;33m==\u001b[0m\u001b[0mc\u001b[0m\u001b[1;33m(\u001b[0m\u001b[0mone\u001b[0m\u001b[1;33m)\u001b[0m\u001b[1;33m:\u001b[0m\u001b[1;33m\u001b[0m\u001b[0m\n\u001b[0m\u001b[0;32m     34\u001b[0m         \u001b[0mtwo\u001b[0m\u001b[1;33m=\u001b[0m\u001b[0mone\u001b[0m\u001b[1;33m\u001b[0m\u001b[0m\n\u001b[0;32m     35\u001b[0m         \u001b[0mi\u001b[0m\u001b[1;33m+=\u001b[0m\u001b[1;36m1\u001b[0m\u001b[1;33m\u001b[0m\u001b[0m\n",
      "\u001b[1;32m<ipython-input-1-e66565cbdae8>\u001b[0m in \u001b[0;36mc\u001b[1;34m(li)\u001b[0m\n\u001b[0;32m     17\u001b[0m     \u001b[0mtext\u001b[0m \u001b[1;33m=\u001b[0m \u001b[0mli\u001b[0m\u001b[1;33m\u001b[0m\u001b[0m\n\u001b[0;32m     18\u001b[0m     \u001b[0mword\u001b[0m \u001b[1;33m=\u001b[0m \u001b[0mtext\u001b[0m\u001b[1;33m.\u001b[0m\u001b[0msplit\u001b[0m\u001b[1;33m(\u001b[0m\u001b[1;33m)\u001b[0m\u001b[1;33m\u001b[0m\u001b[0m\n\u001b[1;32m---> 19\u001b[1;33m     \u001b[1;32mreturn\u001b[0m \u001b[0mword\u001b[0m\u001b[1;33m[\u001b[0m\u001b[1;36m3\u001b[0m\u001b[1;33m]\u001b[0m\u001b[1;33m\u001b[0m\u001b[0m\n\u001b[0m\u001b[0;32m     20\u001b[0m \u001b[1;33m\u001b[0m\u001b[0m\n\u001b[0;32m     21\u001b[0m \u001b[1;33m\u001b[0m\u001b[0m\n",
      "\u001b[1;31mIndexError\u001b[0m: list index out of range"
     ]
    }
   ],
   "source": [
    "import random\n",
    "\n",
    "fh = open(r'C:\\temp\\成语大全.txt')\n",
    "text = fh.read()\n",
    "fh.close()\n",
    "idioms = text.split()\n",
    "def a():   \n",
    "    idiom = random.choice(idioms)\n",
    "    return idiom\n",
    "\n",
    "def b(li):\n",
    "    text = li\n",
    "    word = text.split()\n",
    "    return word[0]\n",
    "\n",
    "def c(li):\n",
    "    text = li\n",
    "    word = text.split()\n",
    "    return word[3]\n",
    "\n",
    "\n",
    "#主程序\n",
    "m=0\n",
    "n=0\n",
    "i=0\n",
    "print('游戏开始')\n",
    "one=a()\n",
    "print('第一个成语：',one)\n",
    "\n",
    "print('人接龙：')\n",
    "two=input()\n",
    "while m<=100 and n<=100:\n",
    "    if b(two)==c(one):\n",
    "        two=one\n",
    "        i+=1\n",
    "        if i%2==0:\n",
    "            print('人接龙：')\n",
    "            one=input()\n",
    "            n+=10\n",
    "        else:\n",
    "            print('电脑接龙：')\n",
    "            one=a()\n",
    "            m+=10\n",
    "            \n",
    "    else:\n",
    "        two=one\n",
    "        print('人接龙;')\n",
    "        one=input() \n",
    "        \n",
    "print('电脑得分：',n,';人得分：',m)\n",
    "if m<n:\n",
    "    print('电脑胜利。')\n",
    "else:\n",
    "    print('人胜利')"
   ]
  }
 ],
 "metadata": {
  "kernelspec": {
   "display_name": "Python 3",
   "language": "python",
   "name": "python3"
  },
  "language_info": {
   "codemirror_mode": {
    "name": "ipython",
    "version": 3
   },
   "file_extension": ".py",
   "mimetype": "text/x-python",
   "name": "python",
   "nbconvert_exporter": "python",
   "pygments_lexer": "ipython3",
   "version": "3.6.0"
  }
 },
 "nbformat": 4,
 "nbformat_minor": 2
}
