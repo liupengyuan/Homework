{
 "cells": [
  {
   "cell_type": "code",
   "execution_count": 1,
   "metadata": {},
   "outputs": [
    {
     "name": "stdout",
     "output_type": "stream",
     "text": [
      "5.354126134736337\n"
     ]
    }
   ],
   "source": [
    "#练习 1：写函数，求n个随机整数均值的平方根，整数范围在m与k之间（n,m,k由用户输入）。\n",
    "import random\n",
    "def a(n,m,k):\n",
    "    i=0\n",
    "    total=0\n",
    "    if m>k:\n",
    "        (m,k)=(k,m)\n",
    "    while i<n:\n",
    "        number = random.randint(m,k)\n",
    "        i+=1\n",
    "        total+=number\n",
    "    end=(total/n)**(1/2)\n",
    "    print(end)\n",
    "    \n",
    "#主程序\n",
    "a(6,50,1)"
   ]
  },
  {
   "cell_type": "code",
   "execution_count": 2,
   "metadata": {},
   "outputs": [
    {
     "name": "stdout",
     "output_type": "stream",
     "text": [
      "26\n",
      "1.4333333333333331\n"
     ]
    }
   ],
   "source": [
    "#练习 2：写函数，共n个随机整数，整数范围在m与k之间，（n,m,k由用户输入）。求1：西格玛log(随机整数)，2：西格玛1/log(随机整数)\n",
    "import random,math\n",
    "def b(n,m,k):\n",
    "    i=0\n",
    "    total1=0\n",
    "    total2=0\n",
    "    if m>k:\n",
    "        (m,k)=(k,m)\n",
    "    while i<n:\n",
    "        number = random.randint(m,k)\n",
    "        max_times = math.ceil(math.log(number))\n",
    "        i+=1\n",
    "        total1+=max_times\n",
    "        total2+=1/max_times\n",
    "    print(total1)\n",
    "    print(total2)\n",
    "    \n",
    "#主程序\n",
    "b(6,1,99)"
   ]
  },
  {
   "cell_type": "code",
   "execution_count": 4,
   "metadata": {},
   "outputs": [
    {
     "name": "stdout",
     "output_type": "stream",
     "text": [
      "请输入一个数字，以决定几个数相加2\n",
      "24\n"
     ]
    }
   ],
   "source": [
    "#练习 3：写函数，求s=a+aa+aaa+aaaa+aa...a的值，其中a是[1,9]之间的随机整数。例如2+22+222+2222+22222(此时共有5个数相加)，几个数相加由键盘输入。\n",
    "import random\n",
    "def c():\n",
    "    n = int(input('请输入一个数字，以决定几个数相加'))\n",
    "    number=random.randint(1,9)\n",
    "    one=number\n",
    "    s=0\n",
    "    i=0\n",
    "    while i<n:\n",
    "        one+=(10**i)*number\n",
    "        s+=one\n",
    "        i+=1\n",
    "    print(one)\n",
    "\n",
    "#主程序\n",
    "c()"
   ]
  },
  {
   "cell_type": "code",
   "execution_count": null,
   "metadata": {},
   "outputs": [],
   "source": [
    "#挑战性练习：仿照task5，将猜数游戏改成由用户随便选择一个整数，让计算机来猜测的猜数游戏，要求和task5中人猜测的方法类似，但是人机角色对换，由人来判断猜测是大、小还是相等，请写出完整的猜数游戏。\n"
   ]
  }
 ],
 "metadata": {
  "kernelspec": {
   "display_name": "Python 3",
   "language": "python",
   "name": "python3"
  },
  "language_info": {
   "codemirror_mode": {
    "name": "ipython",
    "version": 3
   },
   "file_extension": ".py",
   "mimetype": "text/x-python",
   "name": "python",
   "nbconvert_exporter": "python",
   "pygments_lexer": "ipython3",
   "version": "3.6.0"
  }
 },
 "nbformat": 4,
 "nbformat_minor": 2
}
