{
 "cells": [
  {
   "cell_type": "code",
   "execution_count": 3,
   "metadata": {
    "collapsed": false
   },
   "outputs": [
    {
     "name": "stdout",
     "output_type": "stream",
     "text": [
      "10.63014581273465\n"
     ]
    }
   ],
   "source": [
    "def test(m,n,k): \n",
    "    i=0\n",
    "    total=0\n",
    "    if i<m:\n",
    "        import random\n",
    "        number = random.randint(n,k)\n",
    "        i=i+1\n",
    "        total=total+number\n",
    "        end=total**(1/2)\n",
    "    print(end)\n",
    "\n",
    "\n",
    "test(5,10,500)"
   ]
  }
 ],
 "metadata": {
  "kernelspec": {
   "display_name": "Python 3",
   "language": "python",
   "name": "python3"
  },
  "language_info": {
   "codemirror_mode": {
    "name": "ipython",
    "version": 3
   },
   "file_extension": ".py",
   "mimetype": "text/x-python",
   "name": "python",
   "nbconvert_exporter": "python",
   "pygments_lexer": "ipython3",
   "version": "3.6.0"
  }
 },
 "nbformat": 4,
 "nbformat_minor": 2
}
