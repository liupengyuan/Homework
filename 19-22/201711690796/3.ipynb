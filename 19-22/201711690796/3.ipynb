{
 "cells": [
  {
   "cell_type": "code",
   "execution_count": null,
   "metadata": {
    "collapsed": true
   },
   "outputs": [],
   "source": [
    "#1：写程序，可由键盘读入用户姓名例如Mr. right，让用户输入出生的月份与日期，判断用户星座，假设用户是金牛座，则输出，Mr. right，你是非常有性格的金牛座！。"
   ]
  },
  {
   "cell_type": "code",
   "execution_count": null,
   "metadata": {
    "collapsed": true
   },
   "outputs": [],
   "source": [
    "n=input('请输入您的姓名:')\n",
    "m=float(input('请输入您的生日，如1.1：'))\n",
    "if 1.1<=m<=1.20:\n",
    "    print(n,'你是非常有性格的摩羯座！')\n",
    "elif 1.21<=m<=2.19:\n",
    "    print(n,'你是非常有性格的水瓶座！')\n",
    "elif 2.20<=m<=3.20:\n",
    "    print(n,'你是非常有性格的双鱼座！')\n",
    "elif 3.21<=m<=4.20:\n",
    "    print(n,'你是非常有性格的白羊座！')\n",
    "elif 4.21<=m<=5.21:\n",
    "    print(n,'你是非常有性格的金牛座！')\n",
    "elif 5.22<=m<=6.21:\n",
    "    print(n,'你是非常有性格的双子座！')\n",
    "elif 6.22<=m<=7.22:\n",
    "    print(n,'你是非常有性格的巨蟹座！')\n",
    "elif 7.23<=m<=8.23:\n",
    "    print(n,'你是非常有性格的狮子座！')\n",
    "elif 8.24<=m<=9.23:\n",
    "    print(n,'你是非常有性格的处女座！')\n",
    "elif 9.24<=m<=10.23:\n",
    "    print(n,'你是非常有性格的天秤座！')\n",
    "elif 10.24<=m<=11.22:\n",
    "    print(n,'你是非常有性格的天蝎座！')\n",
    "elif 11.23<=m<=12.21:\n",
    "    print(n,'你是非常有性格的射手座！')\n",
    "elif 12.22<=m<=12.30:\n",
    "    print(n,'你是非常有性格的摩羯座！')"
   ]
  },
  {
   "cell_type": "code",
   "execution_count": null,
   "metadata": {
    "collapsed": true
   },
   "outputs": [],
   "source": [
    "#2：写程序，可由键盘读入两个整数m与n(n不等于0)，询问用户意图，如果要求和则计算从m到n的和输出，如果要乘积则计算从m到n的积并输出，如果要求余数则计算m除以n的余数的值并输出，否则则计算m整除n的值并输出。"
   ]
  },
  {
   "cell_type": "code",
   "execution_count": null,
   "metadata": {
    "collapsed": true
   },
   "outputs": [],
   "source": [
    "m=int(input('请输入一个整数：'))\n",
    "n=int(input('请输入一个不为0的整数：'))\n",
    "x=int(input('若您需要求和则输入1,若您需要求积则输入2，如果需要余数则输入3'))\n",
    "if x==1:\n",
    "    x=m+n\n",
    "    print(x)\n",
    "elif x==2:\n",
    "    x=m*n\n",
    "    print(x)\n",
    "elif x==3:\n",
    "    x=m%n\n",
    "    print(x)\n",
    "else:\n",
    "    x=m//n\n",
    "    print(x)"
   ]
  },
  {
   "cell_type": "code",
   "execution_count": null,
   "metadata": {
    "collapsed": true
   },
   "outputs": [],
   "source": [
    "#3：写程序，能够根据北京雾霾PM2.5数值给出对应的防护建议。如当PM2.5数值大于500，则应该打开空气净化器，戴防雾霾口罩等。"
   ]
  },
  {
   "cell_type": "code",
   "execution_count": null,
   "metadata": {
    "collapsed": true
   },
   "outputs": [],
   "source": [
    "m=int(input('请输入今天pm2.5的值'))\n",
    "if m>500:\n",
    "    print('您应该打开空气净化器，戴防雾霾口罩等')"
   ]
  },
  {
   "cell_type": "code",
   "execution_count": null,
   "metadata": {
    "collapsed": true
   },
   "outputs": [],
   "source": [
    " #4：英文单词单数转复数，要求输入一个英文动词（单数形式），能够得到其复数形式，或给出单数转复数形式的建议"
   ]
  },
  {
   "cell_type": "code",
   "execution_count": null,
   "metadata": {
    "collapsed": true
   },
   "outputs": [],
   "source": [
    "m=str(input('请输入一个单数单词'))\n",
    "s=str('s')\n",
    "es=str('es')\n",
    "if m.endswith('e'):\n",
    "    print(m+s)\n",
    "elif m.endswith('o'):\n",
    "    print(m+es)"
   ]
  },
  {
   "cell_type": "code",
   "execution_count": null,
   "metadata": {
    "collapsed": true
   },
   "outputs": [],
   "source": [
    "#尝试性练习：写程序，能够在屏幕上显示空行。"
   ]
  },
  {
   "cell_type": "code",
   "execution_count": null,
   "metadata": {
    "collapsed": true
   },
   "outputs": [],
   "source": [
    "n=0\n",
    "m=int(input('如果您想显示空行，请输入0'))\n",
    "while n!=1:\n",
    "    if m==n:\n",
    "        print(' ',sep=' ')"
   ]
  },
  {
   "cell_type": "code",
   "execution_count": null,
   "metadata": {
    "collapsed": true
   },
   "outputs": [],
   "source": [
    "#挑战性练习：写程序，由用户输入一些整数，能够得到几个整数中的次大值(第二大的值)并输出。"
   ]
  },
  {
   "cell_type": "code",
   "execution_count": null,
   "metadata": {
    "collapsed": true
   },
   "outputs": [],
   "source": [
    "m=int(input('请输入所需数字个数:'))\n",
    "i=2\n",
    "n=int(input())\n",
    "x=int(input())\n",
    "if x>n:\n",
    "    max1=x\n",
    "    max2=n\n",
    "    print(n)\n",
    "elif n>x:\n",
    "    max1=n\n",
    "    max2=x\n",
    "    print(x)\n",
    "else:\n",
    "    while i<m:\n",
    "    i=i+1\n",
    "    a=int(input())\n",
    "    if a>max1:\n",
    "        max2=max1\n",
    "        max1=a\n",
    "    elif a>max2 and a<max1:\n",
    "        max2=a\n",
    "    else:\n",
    "        max2=max2\n",
    "        max1=max1\n",
    "print('几个整数中次大值是',max2)"
   ]
  }
 ],
 "metadata": {
  "kernelspec": {
   "display_name": "Python 3",
   "language": "python",
   "name": "python3"
  },
  "language_info": {
   "codemirror_mode": {
    "name": "ipython",
    "version": 3
   },
   "file_extension": ".py",
   "mimetype": "text/x-python",
   "name": "python",
   "nbconvert_exporter": "python",
   "pygments_lexer": "ipython3",
   "version": "3.6.2"
  }
 },
 "nbformat": 4,
 "nbformat_minor": 2
}
