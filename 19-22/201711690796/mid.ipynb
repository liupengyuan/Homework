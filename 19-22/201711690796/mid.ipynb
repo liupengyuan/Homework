{
 "cells": [
  {
   "cell_type": "code",
   "execution_count": null,
   "metadata": {
    "collapsed": true
   },
   "outputs": [],
   "source": [
    "#写函数,参数为 m,可求 1+3+6+10+15+22.....共 m 项的和。提示:该数 列可表示为 1,1+2,1+2+3,1+2+3+4...."
   ]
  },
  {
   "cell_type": "code",
   "execution_count": 5,
   "metadata": {},
   "outputs": [
    {
     "name": "stdout",
     "output_type": "stream",
     "text": [
      "请输入您想要的项数3\n",
      "10\n"
     ]
    }
   ],
   "source": [
    "def my_mul(m):\n",
    "    i=0\n",
    "    total=0\n",
    "    n=0\n",
    "    while i<m:\n",
    "        i+=1\n",
    "        n+=i\n",
    "        total+=n\n",
    "    return total\n",
    "m=int(input('请输入您想要的项数'))\n",
    "print(my_mul(m))"
   ]
  },
  {
   "cell_type": "code",
   "execution_count": 11,
   "metadata": {
    "collapsed": true
   },
   "outputs": [],
   "source": [
    "#写函数,有两个形式参数,分别如符号和行数,可打印多行字符三角形。如 主程序给定:‘*’,调用该函数,可打印相应行数的如下图形。"
   ]
  },
  {
   "cell_type": "code",
   "execution_count": null,
   "metadata": {
    "collapsed": true
   },
   "outputs": [],
   "source": [
    "#写函数,参数为任意正整数(注意,不是字符串),函数能够给出其第一位数, 如给函数一个整数:48723478234432,则函数给出 4。"
   ]
  },
  {
   "cell_type": "code",
   "execution_count": 8,
   "metadata": {},
   "outputs": [
    {
     "name": "stdout",
     "output_type": "stream",
     "text": [
      "请输入整数48723478234432\n",
      "4\n"
     ]
    }
   ],
   "source": [
    "def first(n):\n",
    "    s=str(n)\n",
    "    l=len(s)\n",
    "    a=0\n",
    "    a=n//(10**(l-1))\n",
    "    return a\n",
    "n=int(input('请输入整数'))\n",
    "print(first(n))"
   ]
  },
  {
   "cell_type": "code",
   "execution_count": null,
   "metadata": {
    "collapsed": true
   },
   "outputs": [],
   "source": [
    "#信息科学学院男子篮球队经理统计各位队员的身高。在键盘输入各位队员的 身高(单位:厘米):183,185,183,187,178,175,177,190,172。 编程求各位队员身高的平均值和高于平均值的身高。"
   ]
  },
  {
   "cell_type": "code",
   "execution_count": 1,
   "metadata": {},
   "outputs": [
    {
     "name": "stdout",
     "output_type": "stream",
     "text": [
      "请输入队员人数9\n",
      "请输入身高183\n",
      "请输入身高185\n",
      "请输入身高187\n",
      "请输入身高178\n",
      "请输入身高175\n",
      "请输入身高177\n",
      "请输入身高190\n",
      "请输入身高172\n",
      "请输入身高183\n",
      "[183, 185, 187, 178, 175, 177, 190, 172, 183]\n",
      "181.11111111111111\n"
     ]
    }
   ],
   "source": [
    "numbers=[]\n",
    "m=int(input('请输入队员人数'))\n",
    "n=0\n",
    "total=0\n",
    "while n<m:\n",
    "    number=int(input('请输入身高'))\n",
    "    numbers.append(number)\n",
    "    n=n+1\n",
    "    total=total+number\n",
    "    avr=total/m\n",
    "if number>avr:\n",
    "    print(numbers)\n",
    "print(avr)"
   ]
  },
  {
   "cell_type": "code",
   "execution_count": null,
   "metadata": {
    "collapsed": true
   },
   "outputs": [],
   "source": [
    "#计算机随机出 5 道加数被加数均为 10 以内的加法题目,用户在键盘输入计 算结果,答对一题得 20 分,答错不得分,最后输出最终得分。"
   ]
  },
  {
   "cell_type": "code",
   "execution_count": 1,
   "metadata": {},
   "outputs": [
    {
     "name": "stdout",
     "output_type": "stream",
     "text": [
      "6\n",
      "6\n",
      "请输入答案12\n",
      "0\n",
      "7\n",
      "请输入答案7\n",
      "4\n",
      "10\n",
      "请输入答案14\n",
      "2\n",
      "4\n",
      "请输入答案6\n",
      "5\n",
      "10\n",
      "请输入答案15\n",
      "100\n"
     ]
    }
   ],
   "source": [
    "n=0\n",
    "total=0\n",
    "while n<5:\n",
    "    n+=1\n",
    "    import random\n",
    "    number1 = random.randint(0,10)\n",
    "    print(number1)\n",
    "    number2 = random.randint(0,10)\n",
    "    print(number2)\n",
    "    r=number1+number2\n",
    "    m=int(input('请输入答案'))\n",
    "    if m==r:\n",
    "        total+=20\n",
    "print(total)"
   ]
  },
  {
   "cell_type": "code",
   "execution_count": null,
   "metadata": {
    "collapsed": true
   },
   "outputs": [],
   "source": [
    "#编程实现:将一个序列的最大值排在序列首位,最小值排在序列末尾。测试 序列:[3,-5,9,108,34,-76,88]。"
   ]
  },
  {
   "cell_type": "code",
   "execution_count": null,
   "metadata": {
    "collapsed": true
   },
   "outputs": [],
   "source": [
    "numbers=[]\n",
    "m=int(input('请输入序列中数字个数'))\n",
    "n=0\n",
    "while n<m:\n",
    "    n=n+1\n",
    "    number=int(input('请输入数字'))\n",
    "    numbers.append(number)\n",
    "    "
   ]
  }
 ],
 "metadata": {
  "kernelspec": {
   "display_name": "Python 3",
   "language": "python",
   "name": "python3"
  },
  "language_info": {
   "codemirror_mode": {
    "name": "ipython",
    "version": 3
   },
   "file_extension": ".py",
   "mimetype": "text/x-python",
   "name": "python",
   "nbconvert_exporter": "python",
   "pygments_lexer": "ipython3",
   "version": "3.6.2"
  }
 },
 "nbformat": 4,
 "nbformat_minor": 2
}
