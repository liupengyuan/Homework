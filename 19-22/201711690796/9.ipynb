{
 "cells": [
  {
   "cell_type": "code",
   "execution_count": 16,
   "metadata": {},
   "outputs": [],
   "source": [
    "import random,time,bisect\n",
    "\n",
    "numbers1=[]\n",
    "for i in range(1,100001):\n",
    "    numbers1.append(i)\n",
    "A=numbers1\n",
    "B=A\n",
    "random.shuffle(B)\n",
    "\n",
    "numbers2=[]\n",
    "for r in range(1,110001):\n",
    "    numbers2.append(r)\n",
    "R=numbers2\n",
    "\n",
    "def my_number():\n",
    "    numbers3=[]\n",
    "    j=0\n",
    "    while j<1000:\n",
    "        j+=1\n",
    "        m=random.choice(R)\n",
    "        numbers3.append(m)\n",
    "        M=numbers3\n",
    "    return M\n",
    "Q=my_number()\n",
    "\n",
    "def countb():\n",
    "    number_freq1=[]\n",
    "    for number in numbers1:\n",
    "        number=text.count(word)\n",
    "        number_freq.append([word, number])\n",
    "    return number_freq\n",
    "\n",
    "def counta():\n",
    "    number_freq2= []\n",
    "    linenum =0\n",
    "    total_line_number = 0\n",
    "    for line in A:\n",
    "        total_line_number += 1\n",
    "    print('总行数为：', total_line_number)\n",
    "    f.seek(0)   #重新回到文件起始位置(即0位置)\n",
    "    start_time = time.time()\n",
    "    for line in f:\n",
    "        for number in numbers:\n",
    "            i = bisect.bisect_left(number_freq2, [number])\n",
    "            if linenum % 1000 == 0:\n",
    "                end_time = time.time()\n",
    "                print('...当前已经处理到第{}行...已经处理了{:.2f}秒...'.format(linenum, end_time - start_time))\n",
    "                linenum += 1\n",
    "                    \n",
    "    return word_freq_pairs"
   ]
  },
  {
   "cell_type": "code",
   "execution_count": null,
   "metadata": {
    "collapsed": true
   },
   "outputs": [],
   "source": []
  }
 ],
 "metadata": {
  "kernelspec": {
   "display_name": "Python 3",
   "language": "python",
   "name": "python3"
  },
  "language_info": {
   "codemirror_mode": {
    "name": "ipython",
    "version": 3
   },
   "file_extension": ".py",
   "mimetype": "text/x-python",
   "name": "python",
   "nbconvert_exporter": "python",
   "pygments_lexer": "ipython3",
   "version": "3.6.2"
  }
 },
 "nbformat": 4,
 "nbformat_minor": 2
}
