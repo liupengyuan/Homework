{
 "cells": [
  {
   "cell_type": "code",
   "execution_count": 1,
   "metadata": {},
   "outputs": [
    {
     "name": "stdout",
     "output_type": "stream",
     "text": [
      "请输入您想要的数字个数5\n",
      "请输入您想要的最小界限10\n",
      "请输入您想要的最大界限500\n",
      "387\n"
     ]
    }
   ],
   "source": [
    "m=int(input('请输入您想要的数字个数'))\n",
    "n=int(input('请输入您想要的最小界限'))\n",
    "k=int(input('请输入您想要的最大界限'))\n",
    "import random\n",
    "number = random.randint(n,k)\n",
    "i=0\n",
    "total=0\n",
    "while i<m:\n",
    "    i=i+1\n",
    "    total=total+number\n",
    "    break\n",
    "import math\n",
    "w = math.sqrt(total)\n",
    "print(total)"
   ]
  },
  {
   "cell_type": "code",
   "execution_count": null,
   "metadata": {
    "collapsed": true
   },
   "outputs": [],
   "source": []
  }
 ],
 "metadata": {
  "kernelspec": {
   "display_name": "Python 3",
   "language": "python",
   "name": "python3"
  },
  "language_info": {
   "codemirror_mode": {
    "name": "ipython",
    "version": 3
   },
   "file_extension": ".py",
   "mimetype": "text/x-python",
   "name": "python",
   "nbconvert_exporter": "python",
   "pygments_lexer": "ipython3",
   "version": "3.6.2"
  }
 },
 "nbformat": 4,
 "nbformat_minor": 2
}
