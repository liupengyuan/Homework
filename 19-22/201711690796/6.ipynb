{
 "cells": [
  {
   "cell_type": "code",
   "execution_count": null,
   "metadata": {
    "collapsed": true
   },
   "outputs": [],
   "source": [
    "#1.写函数，返回某个元素/对象在一个list中的位置，如果不在，则返回-1"
   ]
  },
  {
   "cell_type": "code",
   "execution_count": 1,
   "metadata": {},
   "outputs": [
    {
     "name": "stdout",
     "output_type": "stream",
     "text": [
      "请输入您想要的数字个数5\n",
      "请输入数字1\n",
      "请输入数字2\n",
      "请输入数字3\n",
      "请输入数字4\n",
      "请输入数字5\n",
      "[1, 2, 3, 4, 5]\n",
      "请输入元素：6\n",
      "-1\n"
     ]
    }
   ],
   "source": [
    "numbers=[]\n",
    "i=0\n",
    "n=int(input('请输入您想要的数字个数'))\n",
    "while i<n:\n",
    "    number=int(input('请输入数字'))\n",
    "    numbers.append(number)\n",
    "    i+=1\n",
    "print(numbers)\n",
    "m=int(input('请输入元素：'))\n",
    "if m in numbers:\n",
    "    u=numbers.index(m)+1\n",
    "else:\n",
    "    u=-1\n",
    "print(u)"
   ]
  },
  {
   "cell_type": "code",
   "execution_count": null,
   "metadata": {
    "collapsed": true
   },
   "outputs": [],
   "source": [
    "#2.写函数，可将两个相同长度的list，间隔插入，生成新的list。例如：给两个list，a=[1,2,3,4], b=[5,6,7,8]。则可以生成：[1,5,2,6,3,7,4,8]。"
   ]
  },
  {
   "cell_type": "code",
   "execution_count": 5,
   "metadata": {},
   "outputs": [
    {
     "name": "stdout",
     "output_type": "stream",
     "text": [
      "请输入您想要的各list中的数字个数4\n",
      "请输入list1中的数字1\n",
      "请输入list1中的数字2\n",
      "请输入list1中的数字3\n",
      "请输入list1中的数字4\n",
      "[1, 2, 3, 4]\n",
      "请输入list2中的数字5\n",
      "请输入list2中的数字6\n",
      "请输入list2中的数字7\n",
      "请输入list2中的数字8\n",
      "[5, 6, 7, 8]\n",
      "最后的结果是 [1, 5, 2, 6, 3, 7, 4, 8]\n"
     ]
    }
   ],
   "source": [
    "numbers=[]\n",
    "numbers1=[]\n",
    "numbers2=[]\n",
    "n=int(input('请输入您想要的各list中的数字个数'))\n",
    "i=0\n",
    "u=0\n",
    "while i<n:\n",
    "    number1=int(input('请输入list1中的数字'))\n",
    "    numbers1.append(number1)\n",
    "    i+=1\n",
    "print(numbers1)\n",
    "while u<n:\n",
    "    number2=int(input('请输入list2中的数字'))\n",
    "    numbers2.append(number2)\n",
    "    u+=1\n",
    "print(numbers2)\n",
    "i=0\n",
    "u=0\n",
    "while i<len(numbers1) and u<len(numbers2):\n",
    "    numbers.append(numbers1[i])\n",
    "    numbers.append(numbers2[u])\n",
    "    i+=1\n",
    "    u+=1\n",
    "print('最后的结果是',numbers)"
   ]
  },
  {
   "cell_type": "code",
   "execution_count": null,
   "metadata": {
    "collapsed": true
   },
   "outputs": [],
   "source": [
    "#3.写函数，可求两个向量的夹角余弦值，向量可放在list中。主程序调用该函数。"
   ]
  },
  {
   "cell_type": "code",
   "execution_count": 13,
   "metadata": {},
   "outputs": [
    {
     "name": "stdout",
     "output_type": "stream",
     "text": [
      "请输入第一个向量横坐标1\n",
      "请输入第一个向量纵坐标1\n",
      "请输入第二个向量横坐标-1\n",
      "请输入第二个向量纵坐标1\n",
      "[1, 1] [-1, 1]\n",
      "两个坐标的余弦值为 0.0\n"
     ]
    }
   ],
   "source": [
    "x1=int(input('请输入第一个向量横坐标'))\n",
    "y1=int(input('请输入第一个向量纵坐标'))\n",
    "x2=int(input('请输入第二个向量横坐标'))\n",
    "y2=int(input('请输入第二个向量纵坐标'))\n",
    "cosx=0\n",
    "def coordinate(x1,x2,y1,y2):\n",
    "    number1=[]\n",
    "    number1.append(x1)\n",
    "    number1.append(y1)\n",
    "    denominator1=(x1**2+y1**2)**(1/2)\n",
    "    number2=[]\n",
    "    number2.append(x2)\n",
    "    number2.append(y2)\n",
    "    denominator2=(x2**2+y2**2)**(1/2)\n",
    "    denominator=denominator1*denominator2\n",
    "    cosx=(x1*x2+y1*y2)/denominator\n",
    "    print(number1,number2)\n",
    "    print('两个坐标的余弦值为',cosx)\n",
    "coordinate(x1,x2,y1,y2)"
   ]
  },
  {
   "cell_type": "code",
   "execution_count": null,
   "metadata": {
    "collapsed": true
   },
   "outputs": [],
   "source": [
    "#4.挑战性习题：python语言老师为了激励学生学python，自费买了100个完全相同的Macbook Pro，分给三个班级，每个班级至少分5个，用穷举法计算共有多少种分法？"
   ]
  },
  {
   "cell_type": "code",
   "execution_count": null,
   "metadata": {
    "collapsed": true
   },
   "outputs": [],
   "source": []
  }
 ],
 "metadata": {
  "kernelspec": {
   "display_name": "Python 3",
   "language": "python",
   "name": "python3"
  }
 },
 "nbformat": 4,
 "nbformat_minor": 2
}
