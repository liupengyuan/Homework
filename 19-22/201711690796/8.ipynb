{
 "cells": [
  {
   "cell_type": "code",
   "execution_count": null,
   "metadata": {
    "scrolled": true
   },
   "outputs": [
    {
     "name": "stdout",
     "output_type": "stream",
     "text": [
      "杯弓蛇影\n"
     ]
    }
   ],
   "source": [
    "import random\n",
    "fh=open('/Users/YOUYOUZIII/Downloads/idioms.txt',encoding='gbk')\n",
    "text=fh.read()\n",
    "text = text.replace('、', '')\n",
    "idioms = text.split()\n",
    "def select_idiom():\n",
    "    list_idiom=[]\n",
    "    for idiom in idioms:\n",
    "        if idiom[0]==user_idiom[-1]:\n",
    "            list_idiom.append(idiom)\n",
    "        return list_idiom\n",
    "u=0\n",
    "c=0  \n",
    "m=random.choice(idioms)\n",
    "print(m)\n",
    "n=input('请输入一个成语')\n",
    "if m[0]==n[-1] and n in idioms:\n",
    "    select_idiom(n)\n",
    "    u+=10\n",
    "elif select_idiom(n)==[]:\n",
    "    print('over')\n",
    "break\n",
    "c_idiom=random.choice(select_idiom(n))\n",
    "print(c_idiom)\n",
    "c+=10\n",
    "while 1<2:\n",
    "    n=input('请输入一个成语')\n",
    "    if n[0]==c_idiom[-1]and n in idioms:\n",
    "        u+=10\n",
    "        select_idiom(b)\n",
    "    else:    \n",
    "        c+=10\n",
    "print('你的得分为',u)\n",
    "print('电脑得分为',c)"
   ]
  },
  {
   "cell_type": "code",
   "execution_count": null,
   "metadata": {
    "collapsed": true
   },
   "outputs": [],
   "source": []
  }
 ],
 "metadata": {
  "kernelspec": {
   "display_name": "Python 3",
   "language": "python",
   "name": "python3"
  }
 },
 "nbformat": 4,
 "nbformat_minor": 2
}
