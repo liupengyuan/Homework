{
 "cells": [
  {
   "cell_type": "code",
   "execution_count": null,
   "metadata": {
    "collapsed": true
   },
   "outputs": [],
   "source": [
    " #1：仿照求$ \\sum_{i=1}^mi + \\sum_{i=1}^ni  + \\sum_{i=1}^ki$的完整代码，写程序，可求m!+n!+k!"
   ]
  },
  {
   "cell_type": "code",
   "execution_count": 3,
   "metadata": {},
   "outputs": [
    {
     "name": "stdout",
     "output_type": "stream",
     "text": [
      "请输入一个整数2\n",
      "请输入一个整数3\n",
      "请输入一个整数4\n",
      "最后的结果为 32\n"
     ]
    }
   ],
   "source": [
    "def my_mul(end):\n",
    "    i=0\n",
    "    total=1\n",
    "    while i<end:\n",
    "        i=i+1\n",
    "        total=total*i\n",
    "    return total\n",
    "m=int(input('请输入一个整数'))\n",
    "n=int(input('请输入一个整数'))\n",
    "k=int(input('请输入一个整数'))\n",
    "print('最后的结果为',my_mul(m) + my_mul(n) + my_mul(k))"
   ]
  },
  {
   "cell_type": "code",
   "execution_count": 4,
   "metadata": {
    "collapsed": true
   },
   "outputs": [],
   "source": [
    "#2：写函数可返回1 - 1/3 + 1/5 - 1/7...的前n项的和。在主程序中，分别令n=1000及100000，打印4倍该函数的和。"
   ]
  },
  {
   "cell_type": "code",
   "execution_count": 3,
   "metadata": {},
   "outputs": [
    {
     "name": "stdout",
     "output_type": "stream",
     "text": [
      "请输入一个整数1000\n",
      "3.140592653839794\n"
     ]
    }
   ],
   "source": [
    "def my_mul(n):\n",
    "    i=0\n",
    "    total=0\n",
    "    while i<n:\n",
    "        i=i+1\n",
    "        total=total+1/(2*i-1)*(-1)**(i-1)\n",
    "        m=total*4\n",
    "    return m\n",
    "n=int(input('请输入一个整数'))\n",
    "print(my_mul(n))"
   ]
  },
  {
   "cell_type": "code",
   "execution_count": 4,
   "metadata": {},
   "outputs": [
    {
     "name": "stdout",
     "output_type": "stream",
     "text": [
      "请输入一个整数10000\n",
      "3.1414926535900345\n"
     ]
    }
   ],
   "source": [
    "def my_mul(n):\n",
    "    i=0\n",
    "    total=0\n",
    "    while i<n:\n",
    "        i=i+1\n",
    "        total=total+1/(2*i-1)*(-1)**(i-1)\n",
    "        m=total*4\n",
    "    return m\n",
    "n=int(input('请输入一个整数'))\n",
    "print(my_mul(n))"
   ]
  },
  {
   "cell_type": "code",
   "execution_count": null,
   "metadata": {
    "collapsed": true
   },
   "outputs": [],
   "source": [
    " #3：将task3中的练习1及练习4改写为函数，并进行调用。"
   ]
  },
  {
   "cell_type": "code",
   "execution_count": null,
   "metadata": {
    "collapsed": true
   },
   "outputs": [],
   "source": [
    "#task3练习1"
   ]
  },
  {
   "cell_type": "code",
   "execution_count": 42,
   "metadata": {},
   "outputs": [
    {
     "name": "stdout",
     "output_type": "stream",
     "text": [
      "请输入您的姓名:zhy\n",
      "请输入您的生日，如1.1：10.30\n",
      "zhy 你是非常有性格的天蝎座！\n"
     ]
    }
   ],
   "source": [
    "def my_star(m):\n",
    "    n=input('请输入您的姓名:')\n",
    "    m=float(input('请输入您的生日，如1.1：'))\n",
    "    if 1.1<=m<=1.20:\n",
    "        a=print(n,'你是非常有性格的摩羯座！')\n",
    "        return a\n",
    "    elif 2.20<=m<=3.20:\n",
    "        a=print(n,'你是非常有性格的水瓶座！')\n",
    "        return a\n",
    "    elif 2.20<=m<=3.20:\n",
    "        a=print(n,'你是非常有性格的双鱼座！')\n",
    "        return a\n",
    "    elif 3.21<=m<=4.20:\n",
    "        a=print(n,'你是非常有性格的白羊座！')\n",
    "        return a\n",
    "    elif 4.21<=m<=5.21:\n",
    "        a=print(n,'你是非常有性格的金牛座！')\n",
    "        return a\n",
    "    elif 5.22<=m<=6.21:\n",
    "        a=print(n,'你是非常有性格的双子座！')\n",
    "        return a\n",
    "    elif 6.22<=m<=7.22:\n",
    "        a=print(n,'你是非常有性格的巨蟹座！')\n",
    "        return a\n",
    "    elif 7.23<=m<=8.23:\n",
    "        a=print(n,'你是非常有性格的狮子座！')\n",
    "        return a\n",
    "    elif 8.24<=m<=9.23:\n",
    "        a=print(n,'你是非常有性格的处女座！')\n",
    "        return a\n",
    "    elif 9.24<=m<=10.23:\n",
    "        a=print(n,'你是非常有性格的天秤座！')\n",
    "        return a\n",
    "    elif 10.24<=m<=11.22:\n",
    "        a=print(n,'你是非常有性格的天蝎座！')\n",
    "        return a\n",
    "    elif 11.23<=m<=12.21:\n",
    "        a=print(n,'你是非常有性格的射手座！')\n",
    "        return a\n",
    "    elif 12.22<=m<=12.30:\n",
    "        a=print(n,'你是非常有性格的摩羯座！')\n",
    "        return a\n",
    "my_star(a)"
   ]
  },
  {
   "cell_type": "code",
   "execution_count": null,
   "metadata": {
    "collapsed": true
   },
   "outputs": [],
   "source": [
    "#task3练习4"
   ]
  },
  {
   "cell_type": "code",
   "execution_count": 44,
   "metadata": {},
   "outputs": [
    {
     "name": "stdout",
     "output_type": "stream",
     "text": [
      "请输入一个单数单词tomato\n",
      "tomatoes\n"
     ]
    }
   ],
   "source": [
    "def my_plural(b):\n",
    "    m=str(input('请输入一个单数单词'))\n",
    "    s=str('s')\n",
    "    es=str('es')\n",
    "    if m.endswith('e'):\n",
    "        a=print(m+s)\n",
    "        return a\n",
    "    elif m.endswith('o'):\n",
    "        a=print(m+es)\n",
    "        return a\n",
    "my_plural(a)"
   ]
  },
  {
   "cell_type": "code",
   "execution_count": 21,
   "metadata": {
    "collapsed": true
   },
   "outputs": [],
   "source": [
    "#挑战性练习：写程序，可以求从整数m到整数n累加的和，间隔为k，求和部分需用函数实现，主程序中由用户输入m，n，k调用函数验证正确性。"
   ]
  },
  {
   "cell_type": "code",
   "execution_count": null,
   "metadata": {},
   "outputs": [],
   "source": [
    "def my_sum(w):\n",
    "    total=0\n",
    "    a=0\n",
    "    if m<n:\n",
    "        total=total+m\n",
    "        m=m+k\n",
    "        b=print(total)\n",
    "        return b\n",
    "    elif m>n:\n",
    "        a=n\n",
    "        n=m\n",
    "        m=a\n",
    "        while m<n:\n",
    "            total=total+m\n",
    "            m=m+k\n",
    "            b=print(total)\n",
    "        return b\n",
    "m=int(input('请输入一个整数'))\n",
    "n=int(input('请输入一个整数'))\n",
    "k=int(input('请输入您想要的间隔'))\n",
    "my_sum(b)"
   ]
  }
 ],
 "metadata": {
  "kernelspec": {
   "display_name": "Python 3",
   "language": "python",
   "name": "python3"
  },
  "language_info": {
   "codemirror_mode": {
    "name": "ipython",
    "version": 3
   },
   "file_extension": ".py",
   "mimetype": "text/x-python",
   "name": "python",
   "nbconvert_exporter": "python",
   "pygments_lexer": "ipython3",
   "version": "3.6.2"
  }
 },
 "nbformat": 4,
 "nbformat_minor": 2
}
