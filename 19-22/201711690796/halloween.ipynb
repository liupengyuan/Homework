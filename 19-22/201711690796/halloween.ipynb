{
 "cells": [
  {
   "cell_type": "code",
   "execution_count": null,
   "metadata": {
    "collapsed": true
   },
   "outputs": [],
   "source": [
    "#输入求和函数my_sum(n),求积函数my_mul(n),请用户输入m与n，如果m>n则输出1+……＋m＋1+……＋n的和，否则输出m!+n!"
   ]
  },
  {
   "cell_type": "code",
   "execution_count": 24,
   "metadata": {},
   "outputs": [
    {
     "name": "stdout",
     "output_type": "stream",
     "text": [
      "请输入一个数字3\n",
      "请输入一个数字4\n",
      "最终的结果是 30\n"
     ]
    }
   ],
   "source": [
    "def my_sum(n):\n",
    "    i=0\n",
    "    total=0\n",
    "    while i<n:\n",
    "        i=i+1\n",
    "        total=total+i\n",
    "    return total\n",
    "def my_mul(n):\n",
    "    a=0\n",
    "    total=1\n",
    "    while a<n:\n",
    "        a=a+1\n",
    "        total=total*a\n",
    "    return total\n",
    "m=int(input('请输入一个数字'))\n",
    "n=int(input('请输入一个数字'))\n",
    "if m>n:\n",
    "    print('最终的结果是',my_sum(m) + my_sum(n))\n",
    "else:\n",
    "    print('最终的结果是',my_mul(m) + my_mul(n))"
   ]
  }
 ],
 "metadata": {
  "kernelspec": {
   "display_name": "Python 3",
   "language": "python",
   "name": "python3"
  },
  "language_info": {
   "codemirror_mode": {
    "name": "ipython",
    "version": 3
   },
   "file_extension": ".py",
   "mimetype": "text/x-python",
   "name": "python",
   "nbconvert_exporter": "python",
   "pygments_lexer": "ipython3",
   "version": "3.6.2"
  }
 },
 "nbformat": 4,
 "nbformat_minor": 2
}
