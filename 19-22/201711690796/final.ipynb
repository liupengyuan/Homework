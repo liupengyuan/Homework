{
 "cells": [
  {
   "cell_type": "code",
   "execution_count": 10,
   "metadata": {},
   "outputs": [
    {
     "name": "stdout",
     "output_type": "stream",
     "text": [
      "请输入您想要的符号*\n",
      "请输入您想要的行数5\n",
      "    ******\n",
      "   ********\n",
      "  **********\n",
      " ************\n",
      "**************\n"
     ]
    }
   ],
   "source": [
    "#1\n",
    "def my_pattern():\n",
    "    m=str(input('请输入您想要的符号'))\n",
    "    n=int(input('请输入您想要的行数'))\n",
    "    line=m\n",
    "    for i in range(1,n+1):\n",
    "        print(' '*(n-i)+line[0]*n+line[0]*(2*i-1))\n",
    "my_pattern()"
   ]
  },
  {
   "cell_type": "code",
   "execution_count": 12,
   "metadata": {},
   "outputs": [
    {
     "data": {
      "text/plain": [
       "125"
      ]
     },
     "execution_count": 12,
     "metadata": {},
     "output_type": "execute_result"
    }
   ],
   "source": [
    "#2\n",
    "def acker(m,n):\n",
    "    if m==0:\n",
    "        return n+1\n",
    "    elif m>0 and n==0:\n",
    "        return acker(m-1,1)\n",
    "    elif m>0 and n>0:\n",
    "        return acker(m-1,acker(m,n-1))\n",
    "acker(3,4)"
   ]
  },
  {
   "cell_type": "code",
   "execution_count": 6,
   "metadata": {},
   "outputs": [
    {
     "name": "stdout",
     "output_type": "stream",
     "text": [
      "请输入题目数15\n",
      "题目为： 20 - 7\n",
      "您的答案13\n",
      "题目为： 25 / 24\n",
      "您的答案1\n",
      "题目为： 24 + 21\n",
      "您的答案45\n",
      "题目为： 21 * 10\n",
      "您的答案210\n",
      "题目为： 14 * 8\n",
      "您的答案1\n",
      "题目为： 24 * 13\n",
      "您的答案1\n",
      "题目为： 24 + 14\n",
      "您的答案1\n",
      "题目为： 14 + 14\n",
      "您的答案1\n",
      "题目为： 20 * 12\n",
      "您的答案1\n",
      "题目为： 23 * 12\n",
      "您的答案1\n",
      "题目为： 25 * 22\n",
      "您的答案1\n",
      "题目为： 18 + 6\n",
      "您的答案1\n",
      "题目为： 17 - 17\n",
      "您的答案1\n",
      "题目为： 23 - 18\n",
      "您的答案1\n",
      "题目为： 14 * 6\n",
      "您的答案1\n",
      "最终得分为 20\n"
     ]
    }
   ],
   "source": [
    "#3(a)(b)\n",
    "n=int(input('请输入题目数'))\n",
    "i=0\n",
    "d=0\n",
    "p=0\n",
    "total=0\n",
    "import random\n",
    "while i<n:\n",
    "    i+=1\n",
    "    m=random.choice(['+', '-', '*','/'])\n",
    "    b=random.randint(3,25)\n",
    "    a=random.randint(b,25)\n",
    "    print('题目为：',a,m,b)\n",
    "    c=int(input('您的答案'))\n",
    "    if m=='+':\n",
    "        d=a+b\n",
    "        if d==c:\n",
    "            total+=5\n",
    "    \n",
    "    elif m=='-':\n",
    "        d=a-b\n",
    "        if d==c:\n",
    "            total+=5\n",
    "    \n",
    "    elif m=='*':\n",
    "        d=a*b\n",
    "        if d==c:\n",
    "            total+=10\n",
    "    \n",
    "    elif m=='/':\n",
    "        d=a/b\n",
    "        if d==c:\n",
    "            total+=10\n",
    "\n",
    "print('最终得分为',total)"
   ]
  },
  {
   "cell_type": "code",
   "execution_count": 7,
   "metadata": {},
   "outputs": [
    {
     "name": "stdout",
     "output_type": "stream",
     "text": [
      "请输入题目数10\n",
      "第一个数1\n",
      "第二个数1\n",
      "四则运算符号+\n",
      "1 + 1\n",
      "2\n",
      "第一个数2\n",
      "第二个数2\n",
      "四则运算符号*\n",
      "2 * 2\n",
      "4\n",
      "第一个数3\n",
      "第二个数3\n",
      "四则运算符号/\n",
      "3 / 3\n",
      "1.0\n",
      "第一个数4\n",
      "第二个数4\n",
      "四则运算符号+\n",
      "4 + 4\n",
      "8\n",
      "第一个数5\n",
      "第二个数5\n",
      "四则运算符号/\n",
      "5 / 5\n",
      "1.0\n",
      "第一个数6\n",
      "第二个数6\n",
      "四则运算符号/\n",
      "6 / 6\n",
      "1.0\n",
      "第一个数7\n",
      "第二个数7\n",
      "四则运算符号/\n",
      "7 / 7\n",
      "1.0\n",
      "第一个数8\n",
      "第二个数8\n",
      "四则运算符号+\n",
      "8 + 8\n",
      "16\n",
      "第一个数9\n",
      "第二个数9\n",
      "四则运算符号*\n",
      "9 * 9\n",
      "81\n",
      "第一个数2\n",
      "第二个数2\n",
      "四则运算符号/\n",
      "2 / 2\n",
      "1.0\n",
      "最终得分为 85\n"
     ]
    }
   ],
   "source": [
    "#3(c)\n",
    "n=int(input('请输入题目数'))\n",
    "i=0\n",
    "d=0\n",
    "p=0\n",
    "total=0\n",
    "while i<n:\n",
    "    i+=1\n",
    "    a=int(input('第一个数'))\n",
    "    b=int(input('第二个数'))\n",
    "    m=str(input('四则运算符号'))\n",
    "    print(a,m,b)\n",
    "    \n",
    "    if m=='+':\n",
    "        d=a+b\n",
    "        print(d)\n",
    "        if d==a+b:\n",
    "            total+=5\n",
    "    \n",
    "    elif m=='-':\n",
    "        d=a-b\n",
    "        print(d)\n",
    "        if d==a-b:\n",
    "            total+=5\n",
    "    \n",
    "    elif m=='*':\n",
    "        d=a*b\n",
    "        print(d)\n",
    "        if d==a*b:\n",
    "            total+=10\n",
    "    \n",
    "    elif m=='/':\n",
    "        d=a/b\n",
    "        print(d)\n",
    "        if d==a/b:\n",
    "            total+=10\n",
    "\n",
    "print('最终得分为',total)"
   ]
  },
  {
   "cell_type": "code",
   "execution_count": 2,
   "metadata": {},
   "outputs": [],
   "source": [
    "#4(a)\n",
    "A=[]\n",
    "fh = open('/Users/YOUYOUZIII/Downloads/idioms.txt',encoding='gbk')\n",
    "text = fh.read()\n",
    "fh.close()\n",
    "text = text.replace('、', '')\n",
    "chengyus = text.split('\\n')\n",
    "a=open('/Users/YOUYOUZIII/Downloads/idioms_correct.txt', 'w')\n",
    "a.writelines(text)\n",
    "a.close()\n",
    "a=open('/Users/YOUYOUZIII/Downloads/idioms_correct.txt',encoding='utf-8')\n",
    "text=a.read()\n",
    "for idiom in text:\n",
    "    if len(idiom)==4:\n",
    "        A.append(idiom)\n",
    "        print(A)\n",
    "fh.close()"
   ]
  },
  {
   "cell_type": "code",
   "execution_count": 14,
   "metadata": {},
   "outputs": [
    {
     "ename": "IndentationError",
     "evalue": "unexpected indent (<ipython-input-14-f662e6f5a007>, line 4)",
     "output_type": "error",
     "traceback": [
      "\u001b[0;36m  File \u001b[0;32m\"<ipython-input-14-f662e6f5a007>\"\u001b[0;36m, line \u001b[0;32m4\u001b[0m\n\u001b[0;31m    for line in f:\u001b[0m\n\u001b[0m    ^\u001b[0m\n\u001b[0;31mIndentationError\u001b[0m\u001b[0;31m:\u001b[0m unexpected indent\n"
     ]
    }
   ],
   "source": [
    "#4(b)\n",
    "def count_words_freq(filename):\n",
    "    word_freq_pairs = []\n",
    "    f = open('/Users/YOUYOUZIII/Downloads/idioms.txt',encoding='gbk')\n",
    "        for line in f:\n",
    "            words = [word.split('/')[0] for word in line.split()]\n",
    "            for word in words:\n",
    "                for item in word_freq_pairs:\n",
    "                    if word == item[0]:\n",
    "                        item[1] += 1\n",
    "                        break\n",
    "                else:\n",
    "                    word_freq_pairs.append([word, 1])\n",
    "                    \n",
    "    return word_freq_pairs\n",
    "table = count_words_freq(filename)\n",
    "print(table[:100])"
   ]
  },
  {
   "cell_type": "code",
   "execution_count": null,
   "metadata": {
    "collapsed": true
   },
   "outputs": [],
   "source": [
    "#4(c)\n",
    "def count_words_freq(filename):\n",
    "    word_freq_pairs = []\n",
    "    f = open('/Users/YOUYOUZIII/Downloads/idioms.txt',encoding='gbk')\n",
    "        for line in f:\n",
    "            words = [word.split('/')[0] for word in line.split()]\n",
    "            for word in words:\n",
    "                for item in word_freq_pairs:\n",
    "                    if word == item[0]:\n",
    "                        item[1] += 1\n",
    "                        break\n",
    "                else:\n",
    "                    word_freq_pairs.append([word, 1])\n",
    "                    \n",
    "    return word_freq_pairs\n",
    "table = count_words_freq(filename)\n",
    "print(table[:100])"
   ]
  },
  {
   "cell_type": "code",
   "execution_count": null,
   "metadata": {
    "collapsed": true
   },
   "outputs": [],
   "source": [
    "#4(d)\n",
    "fh = open('/Users/YOUYOUZIII/Downloads/idioms.txt',encoding='gbk')\n",
    "text = fh.read()\n",
    "fh.close()\n",
    "text = text.replace('、', '')\n",
    "chengyus = text.split('\\n')\n",
    "a=open('/Users/YOUYOUZIII/Downloads/idioms_correct.txt', 'w')\n",
    "a.writelines(text)\n",
    "a.close()\n",
    "a=open('/Users/YOUYOUZIII/Downloads/idioms_correct.txt',encoding='utf-8')\n",
    "text=a.read()"
   ]
  },
  {
   "cell_type": "code",
   "execution_count": 3,
   "metadata": {},
   "outputs": [
    {
     "name": "stdout",
     "output_type": "stream",
     "text": [
      "4577\n"
     ]
    }
   ],
   "source": [
    "#4(e)\n",
    "fh = open('/Users/YOUYOUZIII/Downloads/idioms.txt',encoding='gbk')\n",
    "\n",
    "text = fh.read()\n",
    "\n",
    "fh.close()\n",
    "\n",
    "print(len(text))"
   ]
  },
  {
   "cell_type": "code",
   "execution_count": 21,
   "metadata": {},
   "outputs": [
    {
     "name": "stdout",
     "output_type": "stream",
     "text": [
      "万马奔腾\n",
      "请您接龙：腾飞\n",
      "恭喜您！接对了！\n",
      "飞蛾扑火\n",
      "请您接龙：火花\n",
      "恭喜您！接对了！\n",
      "花团锦簇\n",
      "请您接龙：不会\n",
      "您答错了！游戏结束！\n"
     ]
    }
   ],
   "source": [
    "#4(f)\n",
    "fh = open('/Users/YOUYOUZIII/Downloads/idioms.txt',encoding='gbk')\n",
    "text = fh.read()\n",
    "fh.close()\n",
    "text = text.replace('、', '')\n",
    "chengyus = text.split('\\n')\n",
    "\n",
    "def chengyujielong(chengyu):\n",
    "\n",
    "    final=chengyu[len(chengyu)-1:len(chengyu)+1]\n",
    "    i=0\n",
    "    people=str(input('请您接龙：'))\n",
    "    \n",
    "    while i<=30:\n",
    "        if people[0:1:1]==final:\n",
    "                print('恭喜您！接对了！')\n",
    "                go=[]\n",
    "                for com in chengyus:\n",
    "                    if com[0:1:1]==people[len(people)-1:len(people)+1]:\n",
    "                        final=com[len(com)-1:len(com)+1]\n",
    "                        go.append(com)\n",
    "                \n",
    "                if len(go)!=0:\n",
    "                    print(go[-1])\n",
    "                    people=str(input('请您接龙：'))\n",
    "                elif len(go)==0:\n",
    "                    people='廆'\n",
    "                    print('计算机答错了！游戏结束！')\n",
    "            \n",
    "        elif people=='廆':\n",
    "            print()\n",
    "        else:\n",
    "            print('您答错了！游戏结束！')\n",
    "            break\n",
    "        i=i+1\n",
    "chengyu='万马奔腾'\n",
    "print(chengyu)\n",
    "chengyujielong(chengyu)"
   ]
  },
  {
   "cell_type": "code",
   "execution_count": null,
   "metadata": {
    "collapsed": true
   },
   "outputs": [],
   "source": []
  }
 ],
 "metadata": {
  "kernelspec": {
   "display_name": "Python 3",
   "language": "python",
   "name": "python3"
  },
  "language_info": {
   "codemirror_mode": {
    "name": "ipython",
    "version": 3
   },
   "file_extension": ".py",
   "mimetype": "text/x-python",
   "name": "python",
   "nbconvert_exporter": "python",
   "pygments_lexer": "ipython3",
   "version": "3.6.2"
  }
 },
 "nbformat": 4,
 "nbformat_minor": 2
}
