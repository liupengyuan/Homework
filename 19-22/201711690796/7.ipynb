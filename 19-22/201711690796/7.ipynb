{
 "cells": [
  {
   "cell_type": "code",
   "execution_count": null,
   "metadata": {
    "collapsed": true
   },
   "outputs": [],
   "source": [
    "#自己定义一个reverse(s)函数，功能返回字符串s的倒序字符串。"
   ]
  },
  {
   "cell_type": "code",
   "execution_count": 15,
   "metadata": {},
   "outputs": [
    {
     "name": "stdout",
     "output_type": "stream",
     "text": [
      "dcba\n"
     ]
    }
   ],
   "source": [
    "def my_reverse(s):\n",
    "    s='abcd'\n",
    "    i=print(s[4::-1])\n",
    "    return i\n",
    "reverse(i)"
   ]
  },
  {
   "cell_type": "code",
   "execution_count": null,
   "metadata": {
    "collapsed": true
   },
   "outputs": [],
   "source": [
    "#写函数，根据给定符号和行数，打印相应直角三角形，等腰三角形及其他形式的三角形。"
   ]
  },
  {
   "cell_type": "code",
   "execution_count": 13,
   "metadata": {
    "collapsed": true
   },
   "outputs": [],
   "source": [
    "#直角三角形"
   ]
  },
  {
   "cell_type": "code",
   "execution_count": 1,
   "metadata": {},
   "outputs": [
    {
     "name": "stdout",
     "output_type": "stream",
     "text": [
      "请输入您想要的符号*\n",
      "请输入您想要的行数5\n",
      "*\n",
      "**\n",
      "***\n",
      "****\n",
      "*****\n"
     ]
    }
   ],
   "source": [
    "m=str(input('请输入您想要的符号'))\n",
    "n=int(input('请输入您想要的行数'))\n",
    "line=m\n",
    "for i in range(0, n):\n",
    "    for j in range(0,i+1):\n",
    "        print(line[0], end='')\n",
    "    print()"
   ]
  },
  {
   "cell_type": "code",
   "execution_count": null,
   "metadata": {
    "collapsed": true
   },
   "outputs": [],
   "source": [
    "#等腰三角形"
   ]
  },
  {
   "cell_type": "code",
   "execution_count": 18,
   "metadata": {
    "scrolled": true
   },
   "outputs": [
    {
     "name": "stdout",
     "output_type": "stream",
     "text": [
      "请输入您想要的符号*\n",
      "请输入您想要的行数5\n",
      "     * \n",
      "    * * \n",
      "   * * * \n",
      "  * * * * \n",
      " * * * * * \n"
     ]
    }
   ],
   "source": [
    "m=str(input('请输入您想要的符号'))\n",
    "n=int(input('请输入您想要的行数'))\n",
    "line=m\n",
    "for i in range(0,n):\n",
    "    for j in range(0,n-i):\n",
    "        print(' ',end='')\n",
    "    for j in range(0,i+1):\n",
    "        print(line[0],end=' ')\n",
    "    print()"
   ]
  },
  {
   "cell_type": "code",
   "execution_count": null,
   "metadata": {
    "collapsed": true
   },
   "outputs": [],
   "source": [
    "#其它三角形"
   ]
  },
  {
   "cell_type": "code",
   "execution_count": 24,
   "metadata": {},
   "outputs": [
    {
     "name": "stdout",
     "output_type": "stream",
     "text": [
      "请输入你想要的符号*\n",
      "请输入您想要的行数5\n",
      "*\n",
      " **\n",
      "  ***\n",
      "   ****\n",
      "    *****\n"
     ]
    }
   ],
   "source": [
    "m=str(input('请输入你想要的符号'))\n",
    "n=int(input('请输入您想要的行数'))\n",
    "line=m\n",
    "for i in range(0,n):\n",
    "    for j in range(0,i):\n",
    "            print(' ',end='')\n",
    "    for j in range(0,i+1):\n",
    "            print(line[0],end='')\n",
    "    print()"
   ]
  },
  {
   "cell_type": "code",
   "execution_count": null,
   "metadata": {
    "collapsed": true
   },
   "outputs": [],
   "source": [
    "#写函数，根据给定符号，打印各种菱形。"
   ]
  },
  {
   "cell_type": "code",
   "execution_count": 1,
   "metadata": {},
   "outputs": [
    {
     "name": "stdout",
     "output_type": "stream",
     "text": [
      "请输入你想要的符号*\n",
      "请输入您想要的行数5\n",
      "    \n",
      "   * \n",
      "  * * \n",
      " * * * \n",
      "  * * \n",
      "   * \n"
     ]
    }
   ],
   "source": [
    "a=str(input('请输入你想要的符号'))\n",
    "n=int(input('请输入您想要的行数'))\n",
    "m=(n+1)//2\n",
    "line=a\n",
    "for i in range(m):\n",
    "    for j in range(m-i+1):\n",
    "        print(' ',end=''),\n",
    "    for k in range(i):\n",
    "        print(line[0],end=' '),\n",
    "    print()\n",
    "for i in range(m):\n",
    "    for j in range(i+1):\n",
    "        print(' ',end=''),\n",
    "    for k in range(m-i):\n",
    "        print(line[0],end=' '),\n",
    "    print()"
   ]
  },
  {
   "cell_type": "code",
   "execution_count": null,
   "metadata": {
    "collapsed": true
   },
   "outputs": [],
   "source": []
  }
 ],
 "metadata": {
  "kernelspec": {
   "display_name": "Python 3",
   "language": "python",
   "name": "python3"
  },
  "language_info": {
   "codemirror_mode": {
    "name": "ipython",
    "version": 3
   },
   "file_extension": ".py",
   "mimetype": "text/x-python",
   "name": "python",
   "nbconvert_exporter": "python",
   "pygments_lexer": "ipython3",
   "version": "3.6.2"
  }
 },
 "nbformat": 4,
 "nbformat_minor": 2
}
