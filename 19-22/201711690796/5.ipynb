{
 "cells": [
  {
   "cell_type": "code",
   "execution_count": null,
   "metadata": {
    "collapsed": true
   },
   "outputs": [],
   "source": [
    "#练习 1：写函数，求n个随机整数均值的平方根，整数范围在m与k之间（n,m,k由用户输入）。"
   ]
  },
  {
   "cell_type": "code",
   "execution_count": 11,
   "metadata": {},
   "outputs": [
    {
     "name": "stdout",
     "output_type": "stream",
     "text": [
      "请输入您想要的整数个数3\n",
      "请输入您想要的最小数字1\n",
      "请输入您想要的最大数字6\n",
      "1.2909944487358056\n"
     ]
    }
   ],
   "source": [
    "n=int(input('请输入您想要的整数个数'))\n",
    "m=int(input('请输入您想要的最小数字'))\n",
    "k=int(input('请输入您想要的最大数字'))\n",
    "i=0\n",
    "total=0\n",
    "import random\n",
    "number = random.randint(m,k)\n",
    "while i<n:\n",
    "    i=i+1\n",
    "    total=total+number\n",
    "    break\n",
    "q=total/n\n",
    "import math\n",
    "w = math.sqrt(q)\n",
    "print(w)"
   ]
  },
  {
   "cell_type": "code",
   "execution_count": null,
   "metadata": {
    "collapsed": true
   },
   "outputs": [],
   "source": [
    "#练习 2：写函数，共n个随机整数，整数范围在m与k之间，（n,m,k由用户输入）。求1：西格玛log(随机整数)，2：西格玛1/log(随机整数)"
   ]
  },
  {
   "cell_type": "code",
   "execution_count": 12,
   "metadata": {},
   "outputs": [
    {
     "name": "stdout",
     "output_type": "stream",
     "text": [
      "请输入您想要的整数个数3\n",
      "请输入您想要的最小数字1\n",
      "请输入您想要的最大数字6\n",
      "1.3862943611198906\n"
     ]
    }
   ],
   "source": [
    "n=int(input('请输入您想要的整数个数'))\n",
    "m=int(input('请输入您想要的最小数字'))\n",
    "k=int(input('请输入您想要的最大数字'))\n",
    "i=0\n",
    "total=0\n",
    "import random\n",
    "number = random.randint(m,k)\n",
    "import math\n",
    "w = math.log(number)\n",
    "while i<n:\n",
    "    i=i+1\n",
    "    total=total+w\n",
    "    break\n",
    "print(total)"
   ]
  },
  {
   "cell_type": "code",
   "execution_count": 1,
   "metadata": {},
   "outputs": [
    {
     "name": "stdout",
     "output_type": "stream",
     "text": [
      "请输入您想要的整数个数3\n",
      "请输入您想要的最小数字1\n",
      "请输入您想要的最大数字6\n",
      "0.7213475204444817\n"
     ]
    }
   ],
   "source": [
    "n=int(input('请输入您想要的整数个数'))\n",
    "m=int(input('请输入您想要的最小数字'))\n",
    "k=int(input('请输入您想要的最大数字'))\n",
    "i=0\n",
    "total=0\n",
    "import random\n",
    "number = random.randint(m,k)\n",
    "import math\n",
    "w = 1/math.log(number)\n",
    "while i<n:\n",
    "    i=i+1\n",
    "    total=total+w\n",
    "    break\n",
    "print(total)"
   ]
  },
  {
   "cell_type": "code",
   "execution_count": null,
   "metadata": {
    "collapsed": true
   },
   "outputs": [],
   "source": [
    "#练习 3：写函数，求s=a+aa+aaa+aaaa+aa...a的值，其中a是[1,9]之间的随机整数。例如2+22+222+2222+22222(此时共有5个数相加)，几个数相加由键盘输入。"
   ]
  },
  {
   "cell_type": "code",
   "execution_count": 3,
   "metadata": {},
   "outputs": [
    {
     "name": "stdout",
     "output_type": "stream",
     "text": [
      "请输入您想要的所加整数个数2\n",
      "107\n"
     ]
    }
   ],
   "source": [
    "n=int(input('请输入您想要的所加整数个数'))\n",
    "import random\n",
    "a=random.randint(1,9)\n",
    "i=0\n",
    "b=a\n",
    "total=0\n",
    "c=0\n",
    "if n==1:\n",
    "    print(b)\n",
    "else:\n",
    "    while i<n:\n",
    "        i=i+1\n",
    "        a=a*10\n",
    "        c=b*10**(i-1)\n",
    "        total=total+b+a+c\n",
    "        break\n",
    "s=total-1\n",
    "print(s)"
   ]
  },
  {
   "cell_type": "code",
   "execution_count": null,
   "metadata": {
    "collapsed": true
   },
   "outputs": [],
   "source": [
    "#挑战性练习：仿照task5，将猜数游戏改成由用户随便选择一个整数，让计算机来猜测的猜数游戏，要求和task5中人猜测的方法类似，但是人机角色对换，由人来判断猜测是大、小还是相等，请写出完整的猜数游戏。"
   ]
  },
  {
   "cell_type": "code",
   "execution_count": null,
   "metadata": {
    "collapsed": true
   },
   "outputs": [],
   "source": [
    "import random, math\n",
    "def menu():\n",
    "    print('''=====游戏菜单=====\n",
    "                1. 游戏说明\n",
    "                2. 开始游戏\n",
    "                3. 退出游戏\n",
    "                4. 制作团队\n",
    "             =====游戏菜单=====''')\n",
    "def win():\n",
    "    computerwin\n",
    "def lose():\n",
    "    computerlose\n",
    "def game_over():\n",
    "    gameover\n",
    "def show_team():\n",
    "    zhy\n",
    "def show_instruction():\n",
    "    print('由您想一个正整数，计算机随机猜测，请您判断是大、小还是相等')\n",
    "def menu():\n",
    "    print('''=====游戏菜单=====\n",
    "                1. 游戏说明\n",
    "                2. 开始游戏\n",
    "                3. 退出游戏\n",
    "                4. 制作团队\n",
    "             =====游戏菜单=====''')\n",
    "def main():\n",
    "    while True:\n",
    "        menu()\n",
    "        choice = int(input('请输入你的选择'))\n",
    "        if choice == 1:\n",
    "            show_instruction()\n",
    "        elif choice == 2:\n",
    "            guess_game()\n",
    "        elif choice == 3:\n",
    "            game_over()\n",
    "        elif choice == 4:\n",
    "            show_team()\n",
    "             \n",
    "def guess_game():\n",
    "    a=float('inf')\n",
    "    number = random.randint(1, a)\n",
    "    max_times = 5\n",
    "    guess_times = 0\n",
    "    \n",
    "    while guess_times < max_times:\n",
    "        guess_times += 1\n",
    "        max_time-=1\n",
    "        m=int(input('如果电脑给出的数小于您心中所想的数请按5，如果电脑给出的数大于您心中所想的数请按6，如果相等请按7')\n",
    "        if m == 7:\n",
    "            win()\n",
    "        elif m == 5:\n",
    "            number = random.randint(number, a)\n",
    "        elif m == 6:\n",
    "            number = random.randint(1, number)\n",
    "    else:\n",
    "        lose()"
   ]
  }
 ],
 "metadata": {
  "kernelspec": {
   "display_name": "Python 3",
   "language": "python",
   "name": "python3"
  },
  "language_info": {
   "codemirror_mode": {
    "name": "ipython",
    "version": 3
   },
   "file_extension": ".py",
   "mimetype": "text/x-python",
   "name": "python",
   "nbconvert_exporter": "python",
   "pygments_lexer": "ipython3",
   "version": "3.6.2"
  }
 },
 "nbformat": 4,
 "nbformat_minor": 2
}
