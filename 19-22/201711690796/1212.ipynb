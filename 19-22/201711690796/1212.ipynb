{
 "cells": [
  {
   "cell_type": "code",
   "execution_count": 52,
   "metadata": {},
   "outputs": [
    {
     "name": "stdout",
     "output_type": "stream",
     "text": [
      "['乘', '一', '科', '步', '颜', '谢', '天', '九', '地', '亢']\n"
     ]
    }
   ],
   "source": [
    "import random\n",
    "fh=open('/Users/YOUYOUZIII/Downloads/idioms.txt',encoding='gbk')\n",
    "fh.close()\n",
    "text = text.replace('、', '')\n",
    "idioms = text.split('\\n')\n",
    "a=open('/Users/YOUYOUZIII/Downloads/idioms_correct.txt', 'w')\n",
    "a.writelines(idioms)\n",
    "a.close()\n",
    "a=open('/Users/YOUYOUZIII/Downloads/idioms_correct.txt',)\n",
    "text=a.read()\n",
    "a.close()\n",
    "m=str(text)\n",
    "n=10\n",
    "c=random.sample(m,n)\n",
    "print(c)\n",
    "c=open('/Users/YOUYOUZIII/Downloads/1.txt', 'w')"
   ]
  },
  {
   "cell_type": "code",
   "execution_count": 53,
   "metadata": {},
   "outputs": [
    {
     "name": "stdout",
     "output_type": "stream",
     "text": [
      "['车', '鬼', '容', '漓', '不', '差', '张', '翩', '化', '耻', '忌', '对', '丑', '穷', '意', '鹿', '肆', '攘', '三', '金']\n"
     ]
    }
   ],
   "source": [
    "import random\n",
    "fh=open('/Users/YOUYOUZIII/Downloads/idioms.txt',encoding='gbk')\n",
    "fh.close()\n",
    "text = text.replace('、', '')\n",
    "idioms = text.split('\\n')\n",
    "a=open('/Users/YOUYOUZIII/Downloads/idioms_correct.txt', 'w')\n",
    "a.writelines(idioms)\n",
    "a.close()\n",
    "a=open('/Users/YOUYOUZIII/Downloads/idioms_correct.txt',)\n",
    "text=a.read()\n",
    "a.close()\n",
    "m=str(text)\n",
    "n=20\n",
    "c=random.sample(m,n)\n",
    "print(c)\n",
    "c=open('/Users/YOUYOUZIII/Downloads/2.txt', 'w')"
   ]
  },
  {
   "cell_type": "code",
   "execution_count": 54,
   "metadata": {},
   "outputs": [
    {
     "name": "stdout",
     "output_type": "stream",
     "text": [
      "['地', '鸩', '目', '鸟', '霸', '克', '滥', '惊', '躬', '冠', '亦', '衰', '滥', '首', '魍', '风', '之', '无', '法', '之', '流', '裹', '花', '今', '天', '障', '平', '天', '魑', '自']\n"
     ]
    }
   ],
   "source": [
    "import random\n",
    "fh=open('/Users/YOUYOUZIII/Downloads/idioms.txt',encoding='gbk')\n",
    "fh.close()\n",
    "text = text.replace('、', '')\n",
    "idioms = text.split('\\n')\n",
    "a=open('/Users/YOUYOUZIII/Downloads/idioms_correct.txt', 'w')\n",
    "a.writelines(idioms)\n",
    "a.close()\n",
    "a=open('/Users/YOUYOUZIII/Downloads/idioms_correct.txt',)\n",
    "text=a.read()\n",
    "a.close()\n",
    "m=str(text)\n",
    "n=30\n",
    "c=random.sample(m,n)\n",
    "print(c)\n",
    "c=open('/Users/YOUYOUZIII/Downloads/3.txt', 'w')"
   ]
  },
  {
   "cell_type": "code",
   "execution_count": 55,
   "metadata": {},
   "outputs": [
    {
     "name": "stdout",
     "output_type": "stream",
     "text": [
      "['花', '明', '小', '按', '金', '欲', '将', '吉', '而', '濡', '步', '言', '石', '得', '相', '海', '欲', '觑', '千', '反', '力', '言', '纸', '三', '国', '屋', '绸', '刀', '挂', '缭', '倍', '往', '夕', '不', '龙', '取', '一', '图', '及', '肥']\n"
     ]
    }
   ],
   "source": [
    "import random\n",
    "fh=open('/Users/YOUYOUZIII/Downloads/idioms.txt',encoding='gbk')\n",
    "fh.close()\n",
    "text = text.replace('、', '')\n",
    "idioms = text.split('\\n')\n",
    "a=open('/Users/YOUYOUZIII/Downloads/idioms_correct.txt', 'w')\n",
    "a.writelines(idioms)\n",
    "a.close()\n",
    "a=open('/Users/YOUYOUZIII/Downloads/idioms_correct.txt',)\n",
    "text=a.read()\n",
    "a.close()\n",
    "m=str(text)\n",
    "n=40\n",
    "c=random.sample(m,n)\n",
    "print(c)\n",
    "c=open('/Users/YOUYOUZIII/Downloads/4.txt', 'w')"
   ]
  },
  {
   "cell_type": "code",
   "execution_count": 56,
   "metadata": {},
   "outputs": [
    {
     "name": "stdout",
     "output_type": "stream",
     "text": [
      "['牢', '兵', '雀', '能', '世', '玩', '科', '好', '淫', '裹', '好', '苍', '抽', '天', '云', '世', '之', '自', '刀', '主', '来', '赤', '衷', '道', '先', '邯', '不', '一', '一', '荐', '情', '聊', '落', '齐', '知', '乾', '无', '海', '落', '醉', '在', '马', '满', '十', '力', '精', '礼', '过', '不', '如']\n"
     ]
    }
   ],
   "source": [
    "import random\n",
    "fh=open('/Users/YOUYOUZIII/Downloads/idioms.txt',encoding='gbk')\n",
    "fh.close()\n",
    "text = text.replace('、', '')\n",
    "idioms = text.split('\\n')\n",
    "a=open('/Users/YOUYOUZIII/Downloads/idioms_correct.txt', 'w')\n",
    "a.writelines(idioms)\n",
    "a.close()\n",
    "a=open('/Users/YOUYOUZIII/Downloads/idioms_correct.txt',)\n",
    "text=a.read()\n",
    "a.close()\n",
    "m=str(text)\n",
    "n=50\n",
    "c=random.sample(m,n)\n",
    "print(c)\n",
    "c=open('/Users/YOUYOUZIII/Downloads/5.txt', 'w')"
   ]
  },
  {
   "cell_type": "code",
   "execution_count": 57,
   "metadata": {},
   "outputs": [
    {
     "name": "stdout",
     "output_type": "stream",
     "text": [
      "['笑', '穿', '鸠', '云', '及', '室', '喻', '连', '缚', '一', '甜', '回', '丝', '毛', '满', '成', '登', '花', '孑', '春', '心', '纵', '喜', '风', '动', '一', '雨', '柱', '手', '点', '百', '蛾', '耿', '手', '亡', '变', '里', '计', '及', '不', '金', '差', '闻', '齐', '开', '珠', '天', '罗', '亦', '缝', '殊', '公', '急', '美', '月', '应', '王', '绝', '画', '闻']\n"
     ]
    }
   ],
   "source": [
    "import random\n",
    "fh=open('/Users/YOUYOUZIII/Downloads/idioms.txt',encoding='gbk')\n",
    "fh.close()\n",
    "text = text.replace('、', '')\n",
    "idioms = text.split('\\n')\n",
    "a=open('/Users/YOUYOUZIII/Downloads/idioms_correct.txt', 'w')\n",
    "a.writelines(idioms)\n",
    "a.close()\n",
    "a=open('/Users/YOUYOUZIII/Downloads/idioms_correct.txt',)\n",
    "text=a.read()\n",
    "a.close()\n",
    "m=str(text)\n",
    "n=60\n",
    "c=random.sample(m,n)\n",
    "print(c)\n",
    "c=open('/Users/YOUYOUZIII/Downloads/6.txt', 'w')"
   ]
  },
  {
   "cell_type": "code",
   "execution_count": 58,
   "metadata": {},
   "outputs": [
    {
     "name": "stdout",
     "output_type": "stream",
     "text": [
      "['首', '地', '王', '风', '天', '神', '再', '毛', '经', '萤', '法', '志', '蹴', '与', '上', '瞥', '骨', '百', '马', '而', '狡', '逐', '斯', '沧', '节', '云', '风', '木', '渴', '投', '逐', '云', '败', '东', '有', '卑', '马', '虎', '可', '人', '雨', '腋', '未', '谈', '逑', '乐', '滔', '科', '尘', '解', '无', '祖', '渔', '后', '纸', '天', '过', '接', '声', '观', '乎', '百', '若', '之', '波', '开', '沐', '车', '镳', '无']\n"
     ]
    }
   ],
   "source": [
    "import random\n",
    "fh=open('/Users/YOUYOUZIII/Downloads/idioms.txt',encoding='gbk')\n",
    "fh.close()\n",
    "text = text.replace('、', '')\n",
    "idioms = text.split('\\n')\n",
    "a=open('/Users/YOUYOUZIII/Downloads/idioms_correct.txt', 'w')\n",
    "a.writelines(idioms)\n",
    "a.close()\n",
    "a=open('/Users/YOUYOUZIII/Downloads/idioms_correct.txt',)\n",
    "text=a.read()\n",
    "a.close()\n",
    "m=str(text)\n",
    "n=70\n",
    "c=random.sample(m,n)\n",
    "print(c)\n",
    "c=open('/Users/YOUYOUZIII/Downloads/7.txt', 'w')"
   ]
  },
  {
   "cell_type": "code",
   "execution_count": 59,
   "metadata": {},
   "outputs": [
    {
     "name": "stdout",
     "output_type": "stream",
     "text": [
      "['回', '义', '大', '淡', '一', '石', '以', '荡', '人', '铁', '班', '禹', '吼', '人', '三', '以', '世', '金', '丝', '日', '心', '绎', '地', '阳', '魑', '海', '瑜', '郎', '心', '蛙', '涯', '山', '黄', '色', '添', '丝', '淡', '字', '衰', '斗', '堂', '人', '女', '周', '甚', '会', '六', '天', '声', '驰', '茕', '想', '亡', '之', '梁', '弟', '六', '春', '节', '九', '小', '钟', '草', '己', '直', '夜', '白', '政', '绘', '逐', '尘', '乌', '智', '分', '乐', '若', '婚', '己', '比', '刀']\n"
     ]
    }
   ],
   "source": [
    "import random\n",
    "fh=open('/Users/YOUYOUZIII/Downloads/idioms.txt',encoding='gbk')\n",
    "fh.close()\n",
    "text = text.replace('、', '')\n",
    "idioms = text.split('\\n')\n",
    "a=open('/Users/YOUYOUZIII/Downloads/idioms_correct.txt', 'w')\n",
    "a.writelines(idioms)\n",
    "a.close()\n",
    "a=open('/Users/YOUYOUZIII/Downloads/idioms_correct.txt',)\n",
    "text=a.read()\n",
    "a.close()\n",
    "m=str(text)\n",
    "n=80\n",
    "c=random.sample(m,n)\n",
    "print(c)\n",
    "c=open('/Users/YOUYOUZIII/Downloads/8.txt', 'w')"
   ]
  },
  {
   "cell_type": "code",
   "execution_count": 60,
   "metadata": {},
   "outputs": [
    {
     "name": "stdout",
     "output_type": "stream",
     "text": [
      "['荆', '应', '觑', '雀', '已', '一', '阳', '步', '炙', '懈', '二', '黄', '三', '幄', '母', '政', '色', '春', '乐', '患', '雨', '云', '杀', '之', '海', '光', '谷', '闻', '瘁', '总', '途', '如', '循', '计', '惺', '投', '草', '燕', '治', '觥', '水', '轮', '诣', '见', '潜', '宜', '旷', '三', '沓', '茧', '伦', '天', '三', '淑', '乱', '出', '开', '帷', '涌', '实', '委', '舞', '忍', '厦', '奈', '归', '千', '金', '逢', '牛', '本', '代', '相', '索', '不', '相', '四', '凤', '九', '衷', '达', '复', '履', '围', '十', '生', '立', '春', '为', '颜']\n"
     ]
    }
   ],
   "source": [
    "import random\n",
    "fh=open('/Users/YOUYOUZIII/Downloads/idioms.txt',encoding='gbk')\n",
    "fh.close()\n",
    "text = text.replace('、', '')\n",
    "idioms = text.split('\\n')\n",
    "a=open('/Users/YOUYOUZIII/Downloads/idioms_correct.txt', 'w')\n",
    "a.writelines(idioms)\n",
    "a.close()\n",
    "a=open('/Users/YOUYOUZIII/Downloads/idioms_correct.txt',)\n",
    "text=a.read()\n",
    "a.close()\n",
    "m=str(text)\n",
    "n=90\n",
    "c=random.sample(m,n)\n",
    "print(c)\n",
    "c=open('/Users/YOUYOUZIII/Downloads/9.txt', 'w')"
   ]
  },
  {
   "cell_type": "code",
   "execution_count": 61,
   "metadata": {},
   "outputs": [
    {
     "name": "stdout",
     "output_type": "stream",
     "text": [
      "['霆', '日', '头', '望', '天', '一', '月', '薪', '欺', '枪', '离', '开', '空', '扬', '不', '鸠', '梁', '地', '服', '虎', '全', '雪', '何', '矢', '缘', '马', '沉', '不', '友', '校', '门', '境', '子', '光', '重', '相', '落', '途', '充', '义', '无', '点', '退', '知', '语', '肝', '赤', '而', '风', '华', '占', '鹤', '狗', '人', '骄', '人', '不', '夭', '玉', '生', '大', '风', '添', '三', '颜', '然', '求', '豪', '制', '尽', '效', '下', '公', '弄', '深', '兽', '色', '家', '天', '女', '为', '马', '分', '柱', '纸', '风', '淑', '名', '衷', '断', '三', '者', '鸡', '欢', '命', '华', '反', '于', '牛', '侯']\n"
     ]
    }
   ],
   "source": [
    "import random\n",
    "fh=open('/Users/YOUYOUZIII/Downloads/idioms.txt',encoding='gbk')\n",
    "fh.close()\n",
    "text = text.replace('、', '')\n",
    "idioms = text.split('\\n')\n",
    "a=open('/Users/YOUYOUZIII/Downloads/idioms_correct.txt', 'w')\n",
    "a.writelines(idioms)\n",
    "a.close()\n",
    "a=open('/Users/YOUYOUZIII/Downloads/idioms_correct.txt',)\n",
    "text=a.read()\n",
    "a.close()\n",
    "m=str(text)\n",
    "n=100\n",
    "c=random.sample(m,n)\n",
    "print(c)\n",
    "c=open('/Users/YOUYOUZIII/Downloads/10.txt', 'w')"
   ]
  },
  {
   "cell_type": "code",
   "execution_count": null,
   "metadata": {
    "collapsed": true
   },
   "outputs": [],
   "source": []
  }
 ],
 "metadata": {
  "kernelspec": {
   "display_name": "Python 3",
   "language": "python",
   "name": "python3"
  },
  "language_info": {
   "codemirror_mode": {
    "name": "ipython",
    "version": 3
   },
   "file_extension": ".py",
   "mimetype": "text/x-python",
   "name": "python",
   "nbconvert_exporter": "python",
   "pygments_lexer": "ipython3",
   "version": "3.6.2"
  }
 },
 "nbformat": 4,
 "nbformat_minor": 2
}
