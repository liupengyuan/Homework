{
 "cells": [
  {
   "cell_type": "code",
   "execution_count": null,
   "metadata": {
    "collapsed": true
   },
   "outputs": [],
   "source": [
    "#写函数，返回一个list中的最大值，最小值，平均值。（不用内置的求和求函数），以[1,2,-1,55,100,899,-10,3,12.5,5.8]为例。"
   ]
  },
  {
   "cell_type": "code",
   "execution_count": 1,
   "metadata": {},
   "outputs": [
    {
     "name": "stdout",
     "output_type": "stream",
     "text": [
      "请输入您想要的所有数字个数10\n",
      "请输入数字1\n",
      "请输入数字2\n",
      "请输入数字-1\n",
      "请输入数字55\n",
      "请输入数字100\n",
      "请输入数字899\n",
      "请输入数字-10\n",
      "请输入数字3\n",
      "请输入数字12.5\n",
      "请输入数字5.8\n",
      "[1.0, 2.0, -1.0, 55.0, 100.0, 899.0, -10.0, 3.0, 12.5, 5.8]\n",
      "最大值为 899.0 最小值为 -10.0 平均值为 106.6\n"
     ]
    }
   ],
   "source": [
    "numbers=[]\n",
    "n=int(input('请输入您想要的所有数字个数'))\n",
    "i=0\n",
    "total=0\n",
    "maxx=0\n",
    "minn=0\n",
    "while i<n:\n",
    "    number=float(input('请输入数字'))\n",
    "    numbers.append(number)\n",
    "    i+=1\n",
    "print(numbers)\n",
    "for number in numbers:\n",
    "    total+=int(number)\n",
    "    avr=total/n\n",
    "    if number>maxx:\n",
    "        maxx=number\n",
    "    elif number<minn:\n",
    "        minn=number\n",
    "    \n",
    "print('最大值为',maxx,'最小值为',minn,'平均值为',avr)"
   ]
  },
  {
   "cell_type": "code",
   "execution_count": null,
   "metadata": {
    "collapsed": true
   },
   "outputs": [],
   "source": []
  }
 ],
 "metadata": {
  "kernelspec": {
   "display_name": "Python 3",
   "language": "python",
   "name": "python3"
  },
  "language_info": {
   "codemirror_mode": {
    "name": "ipython",
    "version": 3
   },
   "file_extension": ".py",
   "mimetype": "text/x-python",
   "name": "python",
   "nbconvert_exporter": "python",
   "pygments_lexer": "ipython3",
   "version": "3.6.2"
  }
 },
 "nbformat": 4,
 "nbformat_minor": 2
}
