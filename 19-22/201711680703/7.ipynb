{
 "cells": [
  {
   "cell_type": "code",
   "execution_count": 2,
   "metadata": {},
   "outputs": [
    {
     "name": "stdout",
     "output_type": "stream",
     "text": [
      "kris\n",
      "sirk\n"
     ]
    }
   ],
   "source": [
    "#自己定义一个reverse(s)函数，功能返回字符串s的倒序字符串。\n",
    "def reverse(s):\n",
    "    line=s\n",
    "    print(line[::-1])\n",
    "s=str(input())\n",
    "reverse(s)"
   ]
  },
  {
   "cell_type": "code",
   "execution_count": 8,
   "metadata": {},
   "outputs": [
    {
     "name": "stdout",
     "output_type": "stream",
     "text": [
      "请输入组成三角形的符号：*\n",
      "请输入三角形的行数6\n",
      "直角三角形\n",
      "*\n",
      "**\n",
      "***\n",
      "****\n",
      "*****\n",
      "******\n",
      "等腰三角形\n",
      "     *\n",
      "    ***\n",
      "   *****\n",
      "  *******\n",
      " *********\n",
      "***********\n",
      "其他三角形\n",
      "     *\n",
      "    **\n",
      "   ***\n",
      "  ****\n",
      " *****\n",
      "******\n"
     ]
    }
   ],
   "source": [
    "#写函数，根据给定符号和行数，打印相应直角三角形，等腰三角形及其他形式的三角形。\n",
    "def triangle(m,n):\n",
    "    i=0\n",
    "    print('直角三角形')\n",
    "    for i in range(1,n+1):\n",
    "        print(m*i)\n",
    "    print('等腰三角形')\n",
    "    for i in range(1,n+1):\n",
    "        print((n-i)*' '+m*(2*i-1))\n",
    "    print('其他三角形')\n",
    "    for i in range(1,n+1):\n",
    "        print((n-i)*' '+m*i)\n",
    "\n",
    "m=input('请输入组成三角形的符号：')\n",
    "n=int(input('请输入三角形的行数'))\n",
    "      \n",
    "triangle(m,n)          "
   ]
  },
  {
   "cell_type": "code",
   "execution_count": 9,
   "metadata": {},
   "outputs": [
    {
     "name": "stdout",
     "output_type": "stream",
     "text": [
      "请输入组成菱形的符号：*\n",
      "请输入菱形的行数6\n",
      "     *\n",
      "    ***\n",
      "   *****\n",
      "  *******\n",
      " *********\n",
      "***********\n",
      " *********\n",
      "  *******\n",
      "   *****\n",
      "    ***\n",
      "     *\n",
      "      \n"
     ]
    }
   ],
   "source": [
    "#写函数，根据给定符号，打印各种菱形。\n",
    "def diamond(m,n):\n",
    "    i=0\n",
    "    j=0\n",
    "    for i in range(1,n+1):\n",
    "        print((n-i)*' '+m*(2*i-1))\n",
    "    for j in range(n+1,2*n+1):\n",
    "        print((j-n)*' '+m*(2*(2*n-j)-1))\n",
    "m=input('请输入组成菱形的符号：')\n",
    "n=int(input('请输入菱形的行数'))\n",
    "diamond(m,n)"
   ]
  }
 ],
 "metadata": {
  "kernelspec": {
   "display_name": "Python 3",
   "language": "python",
   "name": "python3"
  },
  "language_info": {
   "codemirror_mode": {
    "name": "ipython",
    "version": 3
   },
   "file_extension": ".py",
   "mimetype": "text/x-python",
   "name": "python",
   "nbconvert_exporter": "python",
   "pygments_lexer": "ipython3",
   "version": "3.6.2"
  }
 },
 "nbformat": 4,
 "nbformat_minor": 2
}
