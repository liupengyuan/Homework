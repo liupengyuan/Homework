{
 "cells": [
  {
   "cell_type": "code",
   "execution_count": 86,
   "metadata": {},
   "outputs": [
    {
     "name": "stdout",
     "output_type": "stream",
     "text": [
      "    ******\n",
      "   ********\n",
      "  **********\n",
      " ************\n",
      "**************\n"
     ]
    }
   ],
   "source": [
    "#1.写函数，打印相应图形\n",
    "\n",
    "def picture(m,n):    #m为符号，n为行数\n",
    "    i=0\n",
    "    j=0\n",
    "    for i in range(1,n+1):\n",
    "        print((n-i)*' '+m*5+m*(2*i-1))     \n",
    "m='*'\n",
    "n=5\n",
    "picture(m,n)"
   ]
  },
  {
   "cell_type": "code",
   "execution_count": 90,
   "metadata": {},
   "outputs": [
    {
     "name": "stdout",
     "output_type": "stream",
     "text": [
      "3\n",
      "4\n",
      "2 (3, 2)\n"
     ]
    }
   ],
   "source": [
    "#2.实现函数，并计算A（3,4）\n",
    "m=int(input())\n",
    "n=int(input())\n",
    "def hanshu(m,n):\n",
    "    if m==0:\n",
    "        print(n+1)\n",
    "    if m>0 and n==0:\n",
    "        print(m-1,1)\n",
    "            \n",
    "    if m>0 and n>0:\n",
    "        print(m-1,(m,m-1))\n",
    "\n",
    "                \n",
    "hanshu(m,n)        "
   ]
  },
  {
   "cell_type": "code",
   "execution_count": 59,
   "metadata": {},
   "outputs": [
    {
     "name": "stdout",
     "output_type": "stream",
     "text": [
      "23 / 7 =\n",
      "22 + 6 =\n",
      "4 + 23 =\n",
      "5 * 5 =\n",
      "6 / 10 =\n",
      "6 * 10 =\n",
      "13 + 16 =\n",
      "18 + 23 =\n",
      "8 / 10 =\n",
      "4 / 18 =\n",
      "12 + 12 =\n",
      "8 / 18 =\n",
      "14 * 19 =\n",
      "21 - 20 =\n",
      "19 / 24 =\n"
     ]
    }
   ],
   "source": [
    "#3(1)打印所有题目，每行一道题\n",
    "import random\n",
    "import math\n",
    "i=0\n",
    "while i< 15:\n",
    "    i+=1\n",
    "    c=random.randint(3,25)\n",
    "    d=random.randint(3,25)\n",
    "    e=random.choice(['+','-','*','/'])\n",
    "    g=str(e)\n",
    "    print(c,g,d,'=')\n",
    "\n"
   ]
  },
  {
   "cell_type": "code",
   "execution_count": null,
   "metadata": {
    "collapsed": true
   },
   "outputs": [],
   "source": [
    "#3(2)用户键盘输入答案\n"
   ]
  },
  {
   "cell_type": "code",
   "execution_count": 95,
   "metadata": {},
   "outputs": [
    {
     "ename": "ValueError",
     "evalue": "I/O operation on closed file.",
     "output_type": "error",
     "traceback": [
      "\u001b[1;31m---------------------------------------------------------------------------\u001b[0m",
      "\u001b[1;31mValueError\u001b[0m                                Traceback (most recent call last)",
      "\u001b[1;32m<ipython-input-95-fa331e342041>\u001b[0m in \u001b[0;36m<module>\u001b[1;34m()\u001b[0m\n\u001b[0;32m     16\u001b[0m \u001b[1;33m\u001b[0m\u001b[0m\n\u001b[0;32m     17\u001b[0m \u001b[0mfilename\u001b[0m\u001b[1;33m=\u001b[0m\u001b[1;34mr'd:\\temp\\成语大全(含成语解释)_utf8.txt'\u001b[0m\u001b[1;33m\u001b[0m\u001b[0m\n\u001b[1;32m---> 18\u001b[1;33m \u001b[0mtable\u001b[0m \u001b[1;33m=\u001b[0m \u001b[0msub\u001b[0m\u001b[1;33m(\u001b[0m\u001b[0mfilename\u001b[0m\u001b[1;33m)\u001b[0m\u001b[1;33m\u001b[0m\u001b[0m\n\u001b[0m\u001b[0;32m     19\u001b[0m \u001b[0mprint\u001b[0m\u001b[1;33m(\u001b[0m\u001b[0mtable\u001b[0m\u001b[1;33m)\u001b[0m\u001b[1;33m\u001b[0m\u001b[0m\n\u001b[0;32m     20\u001b[0m \u001b[1;33m\u001b[0m\u001b[0m\n",
      "\u001b[1;32m<ipython-input-95-fa331e342041>\u001b[0m in \u001b[0;36msub\u001b[1;34m(filename)\u001b[0m\n\u001b[0;32m      7\u001b[0m     \u001b[1;32mwith\u001b[0m \u001b[0mopen\u001b[0m \u001b[1;33m(\u001b[0m\u001b[1;34mr'd:\\temp\\成语大全(含成语解释)_utf8.txt'\u001b[0m\u001b[1;33m,\u001b[0m\u001b[0mencoding\u001b[0m \u001b[1;33m=\u001b[0m\u001b[1;34m'utf-8'\u001b[0m\u001b[1;33m)\u001b[0m \u001b[1;32mas\u001b[0m \u001b[0mf\u001b[0m\u001b[1;33m:\u001b[0m\u001b[1;33m\u001b[0m\u001b[0m\n\u001b[0;32m      8\u001b[0m         \u001b[0mtext\u001b[0m\u001b[1;33m=\u001b[0m\u001b[0mf\u001b[0m\u001b[1;33m.\u001b[0m\u001b[0mread\u001b[0m\u001b[1;33m\u001b[0m\u001b[0m\n\u001b[1;32m----> 9\u001b[1;33m     \u001b[1;32mfor\u001b[0m \u001b[0mline\u001b[0m \u001b[1;32min\u001b[0m \u001b[0mf\u001b[0m\u001b[1;33m:\u001b[0m\u001b[1;33m\u001b[0m\u001b[0m\n\u001b[0m\u001b[0;32m     10\u001b[0m         \u001b[0mwords\u001b[0m \u001b[1;33m=\u001b[0m \u001b[1;33m[\u001b[0m\u001b[0mword\u001b[0m\u001b[1;33m.\u001b[0m\u001b[0msplit\u001b[0m\u001b[1;33m(\u001b[0m\u001b[1;34m'/'\u001b[0m\u001b[1;33m)\u001b[0m\u001b[1;33m[\u001b[0m\u001b[1;36m0\u001b[0m\u001b[1;33m]\u001b[0m \u001b[1;32mfor\u001b[0m \u001b[0mword\u001b[0m \u001b[1;32min\u001b[0m \u001b[0mline\u001b[0m\u001b[1;33m.\u001b[0m\u001b[0msplit\u001b[0m\u001b[1;33m(\u001b[0m\u001b[1;33m)\u001b[0m\u001b[1;33m]\u001b[0m\u001b[1;33m\u001b[0m\u001b[0m\n\u001b[0;32m     11\u001b[0m         \u001b[1;32mfor\u001b[0m \u001b[0mword\u001b[0m \u001b[1;32min\u001b[0m \u001b[0mwords\u001b[0m\u001b[1;33m:\u001b[0m\u001b[1;33m\u001b[0m\u001b[0m\n",
      "\u001b[1;31mValueError\u001b[0m: I/O operation on closed file."
     ]
    }
   ],
   "source": [
    "#4（1）写程序，读入成语文件，并提取出所有四字成语，形成集合A。\n",
    "\n",
    "def sub(filename):\n",
    "    sub_m=[]\n",
    "    \n",
    "\n",
    "    with open (r'd:\\temp\\成语大全(含成语解释)_utf8.txt',encoding ='utf-8') as f:\n",
    "        text=f.read\n",
    "    for line in f:\n",
    "        words = [word.split('/')[0] for word in line.split()]\n",
    "        for word in words:\n",
    "            if len(word)<4:\n",
    "                words.append(word+'\\n')\n",
    "    return sub_m      \n",
    "            \n",
    "                \n",
    "filename=r'd:\\temp\\成语大全(含成语解释)_utf8.txt' \n",
    "table = sub(filename)\n",
    "print(table)\n",
    "    \n",
    "   "
   ]
  },
  {
   "cell_type": "code",
   "execution_count": null,
   "metadata": {},
   "outputs": [],
   "source": [
    "#4(2)统计A 中所有成语在语料库文件中出现的频次。输出频次最高的20个成语及其频次\n",
    "def count_words_freq(filename):\n",
    "    word_freq_pairs = []\n",
    "    \n",
    "    with open(r'd:\\temp\\成语大全(含成语解释)_utf8.txt',encoding ='utf-8') as f:\n",
    "        text = f.read()\n",
    "        \n",
    "    words = [word.split('/')[0] for word in text.split()]\n",
    "    for word in words:\n",
    "        for item in word_freq_pairs:\n",
    "            if word == item[0]:\n",
    "                item[1] += 1\n",
    "                break\n",
    "        else:\n",
    "            word_freq_pairs.append([word, 1])\n",
    "            \n",
    "    return word_freq_pairs\n",
    "\n",
    "\n",
    "filename = r'd:\\temp\\成语大全(含成语解释)_utf8.txt'\n",
    "count_words_freq(filename)"
   ]
  },
  {
   "cell_type": "code",
   "execution_count": null,
   "metadata": {
    "collapsed": true
   },
   "outputs": [],
   "source": []
  }
 ],
 "metadata": {
  "kernelspec": {
   "display_name": "Python 3",
   "language": "python",
   "name": "python3"
  },
  "language_info": {
   "codemirror_mode": {
    "name": "ipython",
    "version": 3
   },
   "file_extension": ".py",
   "mimetype": "text/x-python",
   "name": "python",
   "nbconvert_exporter": "python",
   "pygments_lexer": "ipython3",
   "version": "3.6.2"
  }
 },
 "nbformat": 4,
 "nbformat_minor": 2
}
