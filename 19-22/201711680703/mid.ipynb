{
 "cells": [
  {
   "cell_type": "code",
   "execution_count": 1,
   "metadata": {},
   "outputs": [
    {
     "name": "stdout",
     "output_type": "stream",
     "text": [
      "请输入一个整数3\n",
      "10\n"
     ]
    }
   ],
   "source": [
    "def com():\n",
    "    m=int(input('请输入一个整数'))\n",
    "    total=0\n",
    "    x=0\n",
    "    for number in range(1,m+1):\n",
    "        x+=number\n",
    "        total+=x\n",
    "    print(total)\n",
    "com()"
   ]
  },
  {
   "cell_type": "code",
   "execution_count": null,
   "metadata": {},
   "outputs": [
    {
     "name": "stdout",
     "output_type": "stream",
     "text": [
      "请输入一个整数5\n",
      "*\n",
      "*\n",
      "*\n",
      "*\n",
      "*\n",
      "*\n",
      "*\n",
      "*\n",
      "*\n",
      "*\n",
      "*\n",
      "*\n",
      "*\n",
      "*\n",
      "*\n",
      "\n",
      ":\n"
     ]
    }
   ],
   "source": [
    "m=int(input('请输入一个整数'))\n",
    "i=j=k=1\n",
    "for i in range(0,m):\n",
    "    for k in range(0,m-i):\n",
    "        print('*')\n",
    "        k+=1\n",
    "    i+=1\n",
    "print ('\\n:')   "
   ]
  },
  {
   "cell_type": "code",
   "execution_count": null,
   "metadata": {},
   "outputs": [],
   "source": [
    "m=int(input('请输入一个整数'))\n",
    "b=len(str(m))\n"
   ]
  },
  {
   "cell_type": "code",
   "execution_count": 3,
   "metadata": {},
   "outputs": [
    {
     "name": "stdout",
     "output_type": "stream",
     "text": [
      "请输入数字的个数9\n",
      "请输入一个数字183\n",
      "请输入一个数字185\n",
      "请输入一个数字183\n",
      "请输入一个数字187\n",
      "请输入一个数字178\n",
      "请输入一个数字175\n",
      "请输入一个数字177\n",
      "请输入一个数字190\n",
      "请输入一个数字172\n",
      "181.11111111111111\n"
     ]
    }
   ],
   "source": [
    "list=[]\n",
    "m=int(input('请输入数字的个数'))\n",
    "i=0\n",
    "total=0\n",
    "while i<m:\n",
    "    number=int(input('请输入一个数字'))172\n",
    "    list.append(number)\n",
    "    total+=number\n",
    "    i+=1\n",
    "    n=total/len(list)\n",
    "print(n)"
   ]
  },
  {
   "cell_type": "code",
   "execution_count": 1,
   "metadata": {},
   "outputs": [
    {
     "name": "stdout",
     "output_type": "stream",
     "text": [
      "9 + 10 =\n",
      "请输入答案19\n",
      "10 + 1 =\n",
      "请输入答案11\n",
      "2 + 5 =\n",
      "请输入答案7\n",
      "4 + 5 =\n",
      "请输入答案9\n",
      "6 + 4 =\n",
      "请输入答案10\n",
      "100\n"
     ]
    }
   ],
   "source": [
    "import random\n",
    "i=0\n",
    "total=0\n",
    "while i<5:\n",
    "    m=random.randint(0,10)\n",
    "    n=random.randint(0,10)\n",
    "    plus=m+n\n",
    "    i+=1\n",
    "    print(m,'+',n,'=')\n",
    "    p=int(input('请输入答案'))\n",
    "    if p == plus:\n",
    "        total+=20\n",
    "    else:\n",
    "        total+=0\n",
    "print(total)"
   ]
  },
  {
   "cell_type": "code",
   "execution_count": null,
   "metadata": {},
   "outputs": [],
   "source": [
    "a=[3,-5,9,108,34,-76,88]\n",
    "def list_1(a):\n",
    "    for a in list_1:\n",
    "        max_num=0\n",
    "        min_num=0\n",
    "        if min_num>a:\n",
    "            min_num=a\n",
    "        if max_num<a:\n",
    "            max_num=a\n",
    "            \n",
    "            "
   ]
  }
 ],
 "metadata": {
  "kernelspec": {
   "display_name": "Python 3",
   "language": "python",
   "name": "python3"
  },
  "language_info": {
   "codemirror_mode": {
    "name": "ipython",
    "version": 3
   },
   "file_extension": ".py",
   "mimetype": "text/x-python",
   "name": "python",
   "nbconvert_exporter": "python",
   "pygments_lexer": "ipython3",
   "version": "3.6.2"
  }
 },
 "nbformat": 4,
 "nbformat_minor": 2
}
