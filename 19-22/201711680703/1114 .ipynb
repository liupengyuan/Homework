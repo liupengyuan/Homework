{
 "cells": [
  {
   "cell_type": "code",
   "execution_count": 10,
   "metadata": {},
   "outputs": [
    {
     "name": "stdout",
     "output_type": "stream",
     "text": [
      "最大值:  899\n",
      "最小值： -10\n",
      "平均值： 106.72999999999999\n"
     ]
    }
   ],
   "source": [
    "def exam():\n",
    "    numbers = [1,2,-1,55,100,899,-10,3,12.5,5.8]\n",
    "    total=0\n",
    "    max_number=0\n",
    "    min_number=0\n",
    "    for number in numbers:\n",
    "            total+=number\n",
    "            if number > max_number:\n",
    "                max_number = number\n",
    "            elif number < min_number:\n",
    "                min_number = number\n",
    "                \n",
    "    print('最大值: ',max_number)\n",
    "    print('最小值：',min_number)\n",
    "    print('平均值：',total/10)\n",
    "exam()"
   ]
  },
  {
   "cell_type": "code",
   "execution_count": null,
   "metadata": {},
   "outputs": [],
   "source": []
  }
 ],
 "metadata": {
  "kernelspec": {
   "display_name": "Python 3",
   "language": "python",
   "name": "python3"
  },
  "language_info": {
   "codemirror_mode": {
    "name": "ipython",
    "version": 3
   },
   "file_extension": ".py",
   "mimetype": "text/x-python",
   "name": "python",
   "nbconvert_exporter": "python",
   "pygments_lexer": "ipython3",
   "version": "3.6.2"
  }
 },
 "nbformat": 4,
 "nbformat_minor": 2
}
