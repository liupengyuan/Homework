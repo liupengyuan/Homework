{
 "cells": [
  {
   "cell_type": "code",
   "execution_count": 1,
   "metadata": {},
   "outputs": [
    {
     "name": "stdout",
     "output_type": "stream",
     "text": [
      "请输入第一个整数m1\n",
      "请输入第二个整数n10\n",
      "请输入第三个整数k6\n",
      "3629521\n"
     ]
    }
   ],
   "source": [
    "m=int(input('请输入第一个整数m'))\n",
    "n=int(input('请输入第二个整数n'))\n",
    "k=int(input('请输入第三个整数k'))\n",
    "def my_mul(m):\n",
    "    i=1\n",
    "    total_m=1\n",
    "    while i<m:\n",
    "        i=i+1\n",
    "        total_m=total_m*i\n",
    "    return total_m\n",
    "def my_mul(n):\n",
    "    i=1\n",
    "    total_n=1\n",
    "    while i<n:\n",
    "        i=i+1\n",
    "        total_n=total_n*i\n",
    "    return total_n\n",
    "def my_mul(k):\n",
    "    i=1\n",
    "    total_k=1\n",
    "    while i<k:\n",
    "        i=i+1\n",
    "        total_k=total_k*i\n",
    "    return total_k\n",
    "print(my_mul(m)+my_mul(n)+my_mul(k))\n"
   ]
  },
  {
   "cell_type": "code",
   "execution_count": 1,
   "metadata": {},
   "outputs": [
    {
     "name": "stdout",
     "output_type": "stream",
     "text": [
      "3.140592653839794\n",
      "3.1415826535897198\n"
     ]
    }
   ],
   "source": [
    "def compute_sum(end):\n",
    "    i = 0\n",
    "    total_n = 0\n",
    "\n",
    "    while i < end:\n",
    "        i = i + 1\n",
    "        if i % 2 ==1:\n",
    "            total_n = total_n +1/(2*i-1)\n",
    "        elif i%2==0:\n",
    "            total_n = total_n -1/(2*i-1)\n",
    "    return 4*total_n\n",
    "\n",
    "print(compute_sum(1000))\n",
    "print(compute_sum(100000))"
   ]
  },
  {
   "cell_type": "code",
   "execution_count": 2,
   "metadata": {},
   "outputs": [
    {
     "name": "stdout",
     "output_type": "stream",
     "text": [
      "请输入你的名字:Amber\n",
      "请输入你的出生月份:10\n",
      "请输入你的出生日期:14\n",
      "Amber ，你是非常有性格的天秤座！\n"
     ]
    }
   ],
   "source": [
    "def birthday(month,day):\n",
    "    if (month==3 and day>=21 and day<=31) or (month==4 and day>=1 and day<=19):\n",
    "        print(name,'，你是非常有性格的白羊座！')\n",
    "    elif (month==4 and day>=20 and day<=28) or (month==5 and day>=1 and day<=20):\n",
    "        print(name,'，你是非常有性格的金牛座！')\n",
    "    elif (month==5 and day>=21 and day<=31) or (month==6 and day>=1 and day<=21):\n",
    "        print(name,'，你是非常有性格的双子座！')\n",
    "    elif (month==6 and day>=22 and day<=30) or (month==7 and day>=1 and day<=22):\n",
    "        print(name,'，你是非常有性格的巨蟹座！')\n",
    "    elif (month==7 and day>=23 and day<=31) or (month==8 and day>=1 and day<=22):\n",
    "        print(name,'，你是非常有性格的狮子座！')\n",
    "    elif (month==8 and day>=23 and day<=31) or (month==9 and day>=1 and day<=22):\n",
    "        print(name,'，你是非常有性格的处女座！')\n",
    "    elif (month==9 and day>=22 and day<=30) or (month==10 and day>=1 and day<=23):\n",
    "        print(name,'，你是非常有性格的天秤座！')\n",
    "    elif (month==10 and day>=22 and day<=31) or (month==11 and day>=1 and day<=22):\n",
    "        print(name,'，你是非常有性格的天蝎座！')\n",
    "    elif (month==11 and day>=22 and day<=30) or (month==12 and day>=1 and day<=21):\n",
    "         print(name,'，你是非常有性格的射手座！')\n",
    "    elif (month==1 and day>=20 and day<=31) or (month==2 and day>=1 and day<=18):\n",
    "         print(name,'，你是非常有性格的水瓶座！')\n",
    "    elif (month==2 and day>=19 and day<=30) or (month==3 and day>=1 and day<=20):\n",
    "         print(name,'，你是非常有性格的双鱼座！')\n",
    "    elif (month==12 and day>=22 and day<=31) or (month==1 and day>=1 and day<=19):\n",
    "         print(name,'，你是非常有性格的摩羯座！')\n",
    "    else:\n",
    "         print('非法输入')\n",
    "            \n",
    "name=input('请输入你的名字:')\n",
    "month=int(input('请输入你的出生月份:'))\n",
    "day=int(input('请输入你的出生日期:'))\n",
    "birthday(month,day)       "
   ]
  },
  {
   "cell_type": "code",
   "execution_count": 2,
   "metadata": {},
   "outputs": [
    {
     "name": "stdout",
     "output_type": "stream",
     "text": [
      "请输入一个单词:shelf\n",
      "shelves\n"
     ]
    }
   ],
   "source": [
    "def compute_sum(n):\n",
    "    if n.endswith('s' or 'sh' or 'ch' or 'x'):\n",
    "        print(n+ 'es')\n",
    "    elif n.endswith('y'):    \n",
    "        print(n[:-1]+'ies')\n",
    "    elif n.endswith('f' or 'fe'):\n",
    "        print(n[:-1]+'ves')\n",
    "    else: \n",
    "        print(n+'s')\n",
    "        \n",
    "n=input('请输入一个单词:')\n",
    "compute_sum(n)"
   ]
  },
  {
   "cell_type": "code",
   "execution_count": 1,
   "metadata": {},
   "outputs": [
    {
     "name": "stdout",
     "output_type": "stream",
     "text": [
      "请输入开始数字:3\n",
      "请输入结束数字:6\n",
      "请输入间隔数字:2\n"
     ]
    },
    {
     "data": {
      "text/plain": [
       "8"
      ]
     },
     "execution_count": 1,
     "metadata": {},
     "output_type": "execute_result"
    }
   ],
   "source": [
    "def pkq(m,n,k):\n",
    "        i=m\n",
    "        total=0\n",
    "        while i<=n:\n",
    "            total=total+i\n",
    "            i=i+k\n",
    "        return total\n",
    "m=int(input('请输入第一个数字:'))\n",
    "n=int(input('请输入第二个数字:')) \n",
    "k=int(input('请输入间隔数字:')) \n",
    "pkq(m,n,k)  "
   ]
  },
  {
   "cell_type": "code",
   "execution_count": null,
   "metadata": {},
   "outputs": [],
   "source": []
  }
 ],
 "metadata": {
  "kernelspec": {
   "display_name": "Python 3",
   "language": "python",
   "name": "python3"
  },
  "language_info": {
   "codemirror_mode": {
    "name": "ipython",
    "version": 3
   },
   "file_extension": ".py",
   "mimetype": "text/x-python",
   "name": "python",
   "nbconvert_exporter": "python",
   "pygments_lexer": "ipython3",
   "version": "3.6.2"
  }
 },
 "nbformat": 4,
 "nbformat_minor": 2
}
