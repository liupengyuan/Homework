{
 "cells": [
  {
   "cell_type": "code",
   "execution_count": 1,
   "metadata": {},
   "outputs": [
    {
     "name": "stdout",
     "output_type": "stream",
     "text": [
      "请输入一个你喜欢的数字6\n",
      "5\n"
     ]
    }
   ],
   "source": [
    "#写函数，返回某个元素/对象在一个list中的位置，如果不在，则返回-1.\n",
    "\n",
    "def k_w(k):\n",
    "    list=[1,2,3,4,5,6,7,8,9]\n",
    "    if k in list:\n",
    "        print(list.index(k))\n",
    "    else:\n",
    "        print('-1')  \n",
    "k_w(int(input('请输入一个你喜欢的数字')))    "
   ]
  },
  {
   "cell_type": "code",
   "execution_count": 2,
   "metadata": {},
   "outputs": [
    {
     "name": "stdout",
     "output_type": "stream",
     "text": [
      "[1, 5, 2, 6, 3, 7, 4, 8]\n"
     ]
    }
   ],
   "source": [
    "#写函数，可将两个相同长度的list，间隔插入，生成新的list。例如：给两个list，a=[1,2,3,4], b=[5,6,7,8]。则可以生成：[1,5,2,6,3,7,4,8]。\n",
    "\n",
    "def list_new():\n",
    "    list_1=[1,2,3,4]\n",
    "    list_2=[5,6,7,8]\n",
    "    a=[]\n",
    "    b=0\n",
    "    for i in range(1,2*len(list_1)+1):\n",
    "        if i%2!=0:\n",
    "            a.append(list_1[b])\n",
    "        if i%2==0:\n",
    "            a.append(list_2[b])\n",
    "            b+=1\n",
    "    print(a)\n",
    "list_new()\n"
   ]
  },
  {
   "cell_type": "code",
   "execution_count": 3,
   "metadata": {},
   "outputs": [
    {
     "name": "stdout",
     "output_type": "stream",
     "text": [
      "请输入一个整数1\n",
      "请输入一个整数1\n",
      "请输入一个整数1\n",
      "请输入一个整数1\n",
      "0.9999999999999998\n"
     ]
    }
   ],
   "source": [
    "#写函数，可求两个向量的夹角余弦值，向量可放在list中。主程序调用该函数。\n",
    "\n",
    "def cos():\n",
    "    a=(int(input('请输入一个整数')))\n",
    "    b=(int(input('请输入一个整数')))\n",
    "    c=(int(input('请输入一个整数')))\n",
    "    d=(int(input('请输入一个整数')))\n",
    "    x=[a,b]\n",
    "    y=[c,d]\n",
    "    m=(x[0]**2+y[0]**2)**(1/2)\n",
    "    n=(x[1]**2+y[1]**2)**(1/2)\n",
    "    k=x[0]*x[1]+y[0]*y[1]\n",
    "    cos=k/(m*n)\n",
    "    print(cos)\n",
    "cos()   "
   ]
  },
  {
   "cell_type": "code",
   "execution_count": 2,
   "metadata": {},
   "outputs": [
    {
     "name": "stdout",
     "output_type": "stream",
     "text": [
      "3741\n"
     ]
    }
   ],
   "source": [
    "#python语言老师为了激励学生学python，自费买了100个完全相同的Macbook Pro，分给三个班级，每个班级至少分5个，用穷举法计算共有多少种分法？\n",
    "\n",
    "i=0\n",
    "for a in range(100):\n",
    "    for b in range(100):\n",
    "        c=100-a-b\n",
    "        if a+b+c==100 and a>=5 and b>=5 and c>=5:\n",
    "            i+=1\n",
    "print(i)"
   ]
  },
  {
   "cell_type": "code",
   "execution_count": null,
   "metadata": {},
   "outputs": [],
   "source": []
  }
 ],
 "metadata": {
  "kernelspec": {
   "display_name": "Python 3",
   "language": "python",
   "name": "python3"
  },
  "language_info": {
   "codemirror_mode": {
    "name": "ipython",
    "version": 3
   },
   "file_extension": ".py",
   "mimetype": "text/x-python",
   "name": "python",
   "nbconvert_exporter": "python",
   "pygments_lexer": "ipython3",
   "version": "3.6.2"
  }
 },
 "nbformat": 4,
 "nbformat_minor": 2
}
