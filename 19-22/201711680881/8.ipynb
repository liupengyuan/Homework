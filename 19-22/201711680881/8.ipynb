{
 "cells": [
  {
   "cell_type": "code",
   "execution_count": 1,
   "metadata": {},
   "outputs": [
    {
     "name": "stdout",
     "output_type": "stream",
     "text": [
      "我的成语是： 蛟龙得水\n",
      "你的成语呢？水到渠成\n",
      "我的成语是： 成竹在胸\n",
      "你的成语呢？胸有成竹\n",
      "我的成语是： 竹报平安\n",
      "你的成语呢？安邦定国\n",
      "我的成语是： 国泰民安\n",
      "你的成语呢？安家立业\n",
      "我的成语是： 业精于勤\n",
      "你的成语呢？勤俭节约\n",
      "我的成语是： 约法三章\n",
      "你的成语呢？章没有了\n",
      "你输了\n",
      "你的分数是： 50 我的分数是： 60\n"
     ]
    }
   ],
   "source": [
    "file=open(r'c:\\temp\\成语大全.txt')\n",
    "text=file.read()\n",
    "text=text.replace('、','')\n",
    "text=text.replace(' ','')\n",
    "file.close()\n",
    "chengyu=text.split('\\n')\n",
    "\n",
    "import random\n",
    "cheng=random.choice(chengyu)\n",
    "print('我的成语是：',cheng)\n",
    "mark1=10\n",
    "mark2=0\n",
    "while 0<1:\n",
    "    guess=input('你的成语呢？')\n",
    "    if not guess[0]==cheng[-1]:\n",
    "        break\n",
    "    if guess in chengyu:\n",
    "        mark2 =mark2+10\n",
    "    elif guess not in chengyu:\n",
    "        print('你输了')\n",
    "        break\n",
    "    x=guess[-1]\n",
    "    for cheng in chengyu:\n",
    "        if cheng[0]==x:\n",
    "            choose=[]\n",
    "            choose.append(cheng)\n",
    "    if choose==[]:\n",
    "        print('我输了')\n",
    "        break\n",
    "    cheng=random.choice(choose)\n",
    "    print('我的成语是：',cheng)\n",
    "    mark1=mark1+10\n",
    "    \n",
    "print('你的分数是：',mark2,'我的分数是：',mark1)  "
   ]
  },
  {
   "cell_type": "code",
   "execution_count": null,
   "metadata": {},
   "outputs": [],
   "source": []
  }
 ],
 "metadata": {
  "kernelspec": {
   "display_name": "Python 3",
   "language": "python",
   "name": "python3"
  },
  "language_info": {
   "codemirror_mode": {
    "name": "ipython",
    "version": 3
   },
   "file_extension": ".py",
   "mimetype": "text/x-python",
   "name": "python",
   "nbconvert_exporter": "python",
   "pygments_lexer": "ipython3",
   "version": "3.6.3"
  }
 },
 "nbformat": 4,
 "nbformat_minor": 2
}
