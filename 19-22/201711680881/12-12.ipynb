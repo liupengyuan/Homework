{
 "cells": [
  {
   "cell_type": "code",
   "execution_count": 5,
   "metadata": {},
   "outputs": [
    {
     "name": "stdout",
     "output_type": "stream",
     "text": [
      "仓节变彰怡菲海破空犹\n",
      "引云真苛饮瞥草昙喻锱乾联左斩青餐擎绌眈装\n",
      "右鸠汗绸罗魏方淑风郸迹及实舍聊拣里市永寒绝世唳颠自茧引雾荆颐\n",
      "革阔别语始鸡鼎择船救聚吹乎擒象骄卧染藉吁而好欢梅周界坤鸟战沧遇尾遥计兵至无革殊张\n",
      "狗悛驰恭牢沙纸王纷狂颜病火卧故染萍川缪底体使图五漓扬逑竭淋极神君奔有家掠霆及掣月甜奔高烂厉侃先向看清\n",
      "柯碧勿淋衰谷潜璞添永仙武缪因直颐敬患恐想麟冰鹰井项电蝉助星鳞众踽千恢巾臼滴轮豹窍韦臼余知令肝卫功魅笑僵寡温左次犬木缝义荣\n",
      "火故眸仇艾薄周矢荆藏沐贼悛电动蛾王丁鹰敌舟祥夕鱼遥粉差戛气逑饴化亲烟悚渐挑射孤璞往益关日丑拔倦首牝治下家绕离兢砥缭马约惶态骄主乐惶府班远添没\n",
      "虚云于革危染尤九晚走场仇效罪养冲颜回字赶备柴仆彩角蝇公本南络始怨牛豪饮李方惶浪雅建参李进镳成性绕沆班副遇阵沆中之较盲苒缘负射代改齐深远神倒织秒赅英绌态蔚窈魍怡移\n",
      "置财户筚毛帘病弓春沆养箭尊饮天直弹弄邪谢夭滔节筚花孤粟鹏哭谭至淡镳蔚黩江放朗筹腾背载柱勿肓镜君瓴仓霸抗钓源魅针惊城铢缭扬窟是旷晋日肝室肉郸骄黩惜破狱仪纵贯瞻上财宾称欺乘影了退愿与暮\n",
      "割北缭徙草糊丹亡萤恃怨河回股肆荫直迫朋按臼凌覆德点益蒙窈帷簪去参非班开休足魉绘义身期接横状向项弥角没言冰达期好五孟喻暴科奂禽哭青迹寡难难始化深倒照涌绕离吁放波微闻滔母为弥迁漫鸡期制原孜点山敏帼置夏祥喑\n"
     ]
    }
   ],
   "source": [
    "#成语转成字\n",
    "fh=open(r'c:\\temp\\idioms.txt')\n",
    "text=fh.read()\n",
    "fh.close()\n",
    "text=text.replace('、\\n','')\n",
    "\n",
    "#字变成序列\n",
    "zis=[]\n",
    "for zi in text:\n",
    "    if zi not in zis:\n",
    "        zis.append(zi)\n",
    "\n",
    "#序列中抽取\n",
    "import random\n",
    "n=0\n",
    "while n<10:\n",
    "    n+=1\n",
    "    x=1\n",
    "    list=[]\n",
    "    while x<=10*n:\n",
    "        list.append(random.choice(zis))\n",
    "        allzi=''.join(list)\n",
    "        x+=1\n",
    "    if n==1:\n",
    "        pt=open(r'c:\\temp\\1.txt','w')\n",
    "    if n==2:\n",
    "        pt=open(r'c:\\temp\\2.txt','w')\n",
    "    if n==3:\n",
    "        pt=open(r'c:\\temp\\3.txt','w')\n",
    "    if n==4:\n",
    "        pt=open(r'c:\\temp\\4.txt','w')\n",
    "    if n==5:\n",
    "        pt=open(r'c:\\temp\\5.txt','w')\n",
    "    if n==6:\n",
    "        pt=open(r'c:\\temp\\6.txt','w')\n",
    "    if n==7:\n",
    "        pt=open(r'c:\\temp\\7.txt','w')\n",
    "    if n==8:\n",
    "        pt=open(r'c:\\temp\\8.txt','w')\n",
    "    if n==9:\n",
    "        pt=open(r'c:\\temp\\9.txt','w')\n",
    "    if n==10:\n",
    "        pt=open(r'c:\\temp\\10.txt','w')\n",
    "    pt.write(allzi)\n",
    "    pt.close()\n",
    "    print(allzi)"
   ]
  }
 ],
 "metadata": {
  "kernelspec": {
   "display_name": "Python 3",
   "language": "python",
   "name": "python3"
  },
  "language_info": {
   "codemirror_mode": {
    "name": "ipython",
    "version": 3
   },
   "file_extension": ".py",
   "mimetype": "text/x-python",
   "name": "python",
   "nbconvert_exporter": "python",
   "pygments_lexer": "ipython3",
   "version": "3.6.3"
  }
 },
 "nbformat": 4,
 "nbformat_minor": 2
}
