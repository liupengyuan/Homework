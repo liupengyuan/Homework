{
 "cells": [
  {
   "cell_type": "code",
   "execution_count": 8,
   "metadata": {},
   "outputs": [
    {
     "name": "stdout",
     "output_type": "stream",
     "text": [
      "请问你想输入几个数呢？3\n",
      "10\n"
     ]
    }
   ],
   "source": [
    "#第一题\n",
    "m=int(input('请问你想输入几个数呢？'))\n",
    "total=0\n",
    "x=0\n",
    "for num in range(1,m+1):\n",
    "    x=x+num\n",
    "    total=total+x\n",
    "print(total)"
   ]
  },
  {
   "cell_type": "code",
   "execution_count": 3,
   "metadata": {},
   "outputs": [
    {
     "name": "stdout",
     "output_type": "stream",
     "text": [
      "你想画什么呢？$\n",
      "画几行呢?3\n",
      "$\n",
      "$$\n",
      "$$$\n"
     ]
    }
   ],
   "source": [
    "#第二题\n",
    "def picture():\n",
    "    a=input('你想画什么呢？')\n",
    "    b=int(input('画几行呢?'))\n",
    "    x=a\n",
    "    i=0\n",
    "    while i<b:\n",
    "        i+=1\n",
    "        print(a)\n",
    "        a=x+a\n",
    "        \n",
    "picture()"
   ]
  },
  {
   "cell_type": "code",
   "execution_count": 10,
   "metadata": {},
   "outputs": [
    {
     "name": "stdout",
     "output_type": "stream",
     "text": [
      "你有一个多大的数呢？215895976939726407\n",
      "它的第一位是 2\n"
     ]
    }
   ],
   "source": [
    "#第三题\n",
    "number=input('你有一个多大的数呢？')\n",
    "print('它的第一位是',number[0:1])"
   ]
  },
  {
   "cell_type": "code",
   "execution_count": 20,
   "metadata": {},
   "outputs": [
    {
     "name": "stdout",
     "output_type": "stream",
     "text": [
      "身高是？183\n",
      "身高是？185\n",
      "身高是？183\n",
      "身高是？187\n",
      "身高是？178\n",
      "身高是？175\n",
      "身高是？177\n",
      "身高是？190\n",
      "身高是？172\n",
      "平均身高是: 181.11111111111111\n",
      "高于平均身高的是：\n",
      "183\n",
      "185\n",
      "183\n",
      "187\n",
      "190\n"
     ]
    }
   ],
   "source": [
    "#第四题\n",
    "i=0\n",
    "height=[]\n",
    "while i<9:\n",
    "    i+=1\n",
    "    a=int(input('身高是？'))\n",
    "    height.append(a)\n",
    "average=sum(height)/9\n",
    "print('平均身高是:',average)\n",
    "print('高于平均身高的是：')\n",
    "for hei in height:\n",
    "    if hei>average:\n",
    "        print(hei)"
   ]
  },
  {
   "cell_type": "code",
   "execution_count": 16,
   "metadata": {},
   "outputs": [
    {
     "name": "stdout",
     "output_type": "stream",
     "text": [
      "8 + 3 =？\n",
      "答案是？11\n",
      "答对了你真棒！哈哈哈哈哈\n",
      "5 + 3 =？\n",
      "答案是？8\n",
      "答对了你真棒！哈哈哈哈哈\n",
      "3 + 1 =？\n",
      "答案是？3\n",
      "很抱歉小朋友你答错了\n",
      "9 + 9 =？\n",
      "答案是？4\n",
      "很抱歉小朋友你答错了\n",
      "8 + 8 =？\n",
      "答案是？16\n",
      "答对了你真棒！哈哈哈哈哈\n",
      "你的最终得分是： 60\n"
     ]
    }
   ],
   "source": [
    "#第五题\n",
    "import random\n",
    "i=0\n",
    "total=0\n",
    "while i<5:\n",
    "    i+=1\n",
    "    a=random.randint(1,10)\n",
    "    b=random.randint(1,10)\n",
    "    print(a,'+',b,'=？')\n",
    "    x=int(input('答案是？'))\n",
    "    if x==a+b:\n",
    "        print('答对了你真棒！哈哈哈哈哈')\n",
    "        total=total+20\n",
    "    else:\n",
    "        print('很抱歉小朋友你答错了')\n",
    "        \n",
    "print('你的最终得分是：',total)\n"
   ]
  },
  {
   "cell_type": "code",
   "execution_count": 18,
   "metadata": {},
   "outputs": [
    {
     "name": "stdout",
     "output_type": "stream",
     "text": [
      "[108, 3, -5, 9, 108, 34, -76, 88, -76]\n"
     ]
    }
   ],
   "source": [
    "#第六题\n",
    "list1=[3,-5,9,108,34,-76,88]\n",
    "list2=[]\n",
    "zuida=max(list1)\n",
    "zuixiao=min(list1)\n",
    "list2.append(zuida)\n",
    "listlist=[]\n",
    "for number in list1:\n",
    "    if number>zuixiao or number<zuida:\n",
    "        listlist.append(number)\n",
    "listlist.append(zuixiao)        \n",
    "listfinal=list2+listlist\n",
    "print(listfinal)\n"
   ]
  }
 ],
 "metadata": {
  "kernelspec": {
   "display_name": "Python 3",
   "language": "python",
   "name": "python3"
  },
  "language_info": {
   "codemirror_mode": {
    "name": "ipython",
    "version": 3
   },
   "file_extension": ".py",
   "mimetype": "text/x-python",
   "name": "python",
   "nbconvert_exporter": "python",
   "pygments_lexer": "ipython3",
   "version": "3.6.2"
  }
 },
 "nbformat": 4,
 "nbformat_minor": 2
}
