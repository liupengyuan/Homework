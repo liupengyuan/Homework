{
 "cells": [
  {
   "cell_type": "code",
   "execution_count": 33,
   "metadata": {},
   "outputs": [
    {
     "name": "stdout",
     "output_type": "stream",
     "text": [
      "你想让n为几呢?3\n",
      "你想让m为几呢?4\n",
      "你想让k为几呢?5\n",
      "m!+n!+k!= 150\n"
     ]
    }
   ],
   "source": [
    "#题目一\n",
    "\n",
    "def mul(n):\n",
    "    i=0\n",
    "    total=1\n",
    "    while i<n:\n",
    "        i+=1\n",
    "        total=total*i\n",
    "    return total\n",
    "\n",
    "#主程序\n",
    "n=int(input('你想让n为几呢?'))\n",
    "m=int(input('你想让m为几呢?'))\n",
    "k=int(input('你想让k为几呢?'))\n",
    "print('m!+n!+k!=',mul(n)+mul(m)+mul(k))"
   ]
  },
  {
   "cell_type": "code",
   "execution_count": 34,
   "metadata": {},
   "outputs": [
    {
     "name": "stdout",
     "output_type": "stream",
     "text": [
      "3.140592653839794\n",
      "3.1414926535900345\n"
     ]
    }
   ],
   "source": [
    "#题目二\n",
    "def wired(n):\n",
    "    i=0\n",
    "    total=0\n",
    "    while i<n:\n",
    "        i+=1\n",
    "        if i%2==1:\n",
    "            a=1/(2*i-1)\n",
    "        elif i%2==0:\n",
    "            a=-1/(2*i-1)\n",
    "        total=total+a\n",
    "    return total\n",
    "\n",
    "#主程序\n",
    "n=1000\n",
    "print(4*wired(n))\n",
    "n=10000\n",
    "print(4*wired(n))\n"
   ]
  },
  {
   "cell_type": "code",
   "execution_count": 24,
   "metadata": {},
   "outputs": [
    {
     "name": "stdout",
     "output_type": "stream",
     "text": [
      "请问你的名字是什么？pt\n",
      "请输入你的生日。如4.263.11\n",
      "pt 你是可爱的双鱼座\n"
     ]
    }
   ],
   "source": [
    "#题目三1\n",
    "def judge(n):\n",
    "    if 1.21<n<=2.18:\n",
    "        return'你是可爱的水瓶座'\n",
    "    if 2.18<n<=3.20:\n",
    "        return'你是可爱的双鱼座'\n",
    "    if 3.20<n<=4.19:\n",
    "        return'你是可爱的白羊座'\n",
    "    if 4.19<n<=5.20:\n",
    "        return'你是可爱的金牛座'\n",
    "    if 5.20<n<=6.20:\n",
    "        return'你是可爱的双子座'\n",
    "    if 6.20<n<=7.21:\n",
    "        return'你是可爱的巨蟹座'\n",
    "    if 7.21<n<=8.22:\n",
    "        return'你是可爱的狮子座'\n",
    "    if 8.22<n<=9.22:\n",
    "        return'你是可爱的处女座'\n",
    "    if 9.22<n<=10.22:\n",
    "        return'你是可爱的天秤座'\n",
    "    if 10.22<n<=11.21:\n",
    "        return'你是可爱的天蝎座'  \n",
    "    if 11.21<n<=12.21:\n",
    "        return'你是可爱的射手座'\n",
    "    if n<1.21 or n>12.21:\n",
    "        return'你是可爱的摩羯座'\n",
    "    \n",
    "#主程序\n",
    "name=input('请问你的名字是什么？')\n",
    "n=float(input('请输入你的生日。如4.26'))\n",
    "print(name,judge(n))"
   ]
  },
  {
   "cell_type": "code",
   "execution_count": 27,
   "metadata": {},
   "outputs": [
    {
     "name": "stdout",
     "output_type": "stream",
     "text": [
      "what is the word?fish\n",
      "fish es\n"
     ]
    }
   ],
   "source": [
    "#题目三2\n",
    "def plural(a):\n",
    "    if a.endswith('s') or a.endswith('sh') or a.endswith('x') or a.endswith('ch'):\n",
    "        print(a,'es') \n",
    "    elif a.endswith('f'):\n",
    "        print(a[:-1],'ves')\n",
    "    elif a.endswith('fe'):\n",
    "        print(a[:-2],'ves')\n",
    "    else:\n",
    "        print(a,'s')\n",
    "        \n",
    "#主程序：\n",
    "n=input('what is the word?')\n",
    "plural(n)\n",
    "    "
   ]
  },
  {
   "cell_type": "code",
   "execution_count": 32,
   "metadata": {},
   "outputs": [
    {
     "name": "stdout",
     "output_type": "stream",
     "text": [
      "请输入一个数8\n",
      "请再输入一个数吧2\n",
      "间隔是多少呢？2\n",
      "20\n"
     ]
    }
   ],
   "source": [
    "#挑战性练习\n",
    "def sum_between(m,n,k):\n",
    "    total=0\n",
    "    if m<n:\n",
    "        while m<=n:\n",
    "            total=total+m\n",
    "            m=m+k\n",
    "    \n",
    "    elif m>n:\n",
    "        while n<=m:\n",
    "            total=total+n\n",
    "            n=n+k\n",
    "    print(total)\n",
    "    \n",
    "#主程序\n",
    "m=int(input('请输入一个数'))\n",
    "n=int(input('请再输入一个数吧'))\n",
    "k=int(input('间隔是多少呢？'))\n",
    "sum_between(m,n,k)\n",
    "            \n",
    "        "
   ]
  }
 ],
 "metadata": {
  "kernelspec": {
   "display_name": "Python 3",
   "language": "python",
   "name": "python3"
  },
  "language_info": {
   "codemirror_mode": {
    "name": "ipython",
    "version": 3
   },
   "file_extension": ".py",
   "mimetype": "text/x-python",
   "name": "python",
   "nbconvert_exporter": "python",
   "pygments_lexer": "ipython3",
   "version": "3.6.2"
  }
 },
 "nbformat": 4,
 "nbformat_minor": 2
}
