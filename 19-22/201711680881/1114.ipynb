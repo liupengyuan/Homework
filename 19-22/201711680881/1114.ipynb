{
 "cells": [
  {
   "cell_type": "code",
   "execution_count": 1,
   "metadata": {},
   "outputs": [
    {
     "name": "stdout",
     "output_type": "stream",
     "text": [
      "106.72999999999999 899 -10\n"
     ]
    }
   ],
   "source": [
    "listlist=[1,2,-1,55,100,899,-10,3,12.5,5.8]\n",
    "num1=num2=listlist[0]\n",
    "total=0\n",
    "for num in listlist:\n",
    "    if num1<num:\n",
    "        num1=num\n",
    "    if num2>num:\n",
    "        num2=num\n",
    "    total=total+num\n",
    "\n",
    "average=total/len(listlist)\n",
    "print(average,num1,num2)\n",
    "    "
   ]
  },
  {
   "cell_type": "code",
   "execution_count": null,
   "metadata": {},
   "outputs": [],
   "source": []
  }
 ],
 "metadata": {
  "kernelspec": {
   "display_name": "Python 3",
   "language": "python",
   "name": "python3"
  },
  "language_info": {
   "codemirror_mode": {
    "name": "ipython",
    "version": 3
   },
   "file_extension": ".py",
   "mimetype": "text/x-python",
   "name": "python",
   "nbconvert_exporter": "python",
   "pygments_lexer": "ipython3",
   "version": "3.6.2"
  }
 },
 "nbformat": 4,
 "nbformat_minor": 2
}
