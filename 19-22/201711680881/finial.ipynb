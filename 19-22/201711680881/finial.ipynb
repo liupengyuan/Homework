{
 "cells": [
  {
   "cell_type": "code",
   "execution_count": 1,
   "metadata": {},
   "outputs": [
    {
     "name": "stdout",
     "output_type": "stream",
     "text": [
      "         *    *****   * \n",
      "       * *    *****   * * \n",
      "     * * *    *****   * * * \n",
      "   * * * *    *****   * * * * \n",
      " * * * * *    *****   * * * * * \n"
     ]
    }
   ],
   "source": [
    "#第一题\n",
    "def tu(a,x):\n",
    "    for i in range(1,x+1):\n",
    "        b=a+' '\n",
    "        print(' '*2*(x-i),b*i,' ',a*x,' ',b*i)\n",
    "\n",
    "#主程序\n",
    "tu('*',5)"
   ]
  },
  {
   "cell_type": "code",
   "execution_count": 2,
   "metadata": {},
   "outputs": [
    {
     "name": "stdout",
     "output_type": "stream",
     "text": [
      "125\n"
     ]
    }
   ],
   "source": [
    "#第二题\n",
    "def A(m,n):\n",
    "    if m==0:\n",
    "        answer=n+1\n",
    "    elif m>0 and n==0:\n",
    "        answer=A(m-1,1)\n",
    "    elif m>0 and n>0:\n",
    "        answer=A(m-1,A(m,n-1))\n",
    "    return answer    \n",
    "\n",
    "#主程序\n",
    "print(A(3,4))"
   ]
  },
  {
   "cell_type": "code",
   "execution_count": null,
   "metadata": {},
   "outputs": [],
   "source": [
    "#第三题\n",
    "#a小题\n",
    "import random\n",
    "def cul():\n",
    "    a=random.randint(3,25)\n",
    "    b=random.randint(3,25)\n",
    "    choice=['+','-','*','/']\n",
    "    i=random.randint(0,3)\n",
    "    x=choice[i]\n",
    "    print(a,x,b,'=?')\n",
    "\n",
    "\n",
    "#主程序    \n",
    "n=0\n",
    "while n<15:    \n",
    "    cul()\n",
    "    n+=1"
   ]
  },
  {
   "cell_type": "code",
   "execution_count": null,
   "metadata": {},
   "outputs": [],
   "source": [
    "#第三题\n",
    "#b小题\n",
    "import random\n",
    "def cul():\n",
    "    n=0\n",
    "    answers=[]\n",
    "    while n<15:\n",
    "        a=random.randint(3,25)\n",
    "        b=random.randint(3,25)\n",
    "        choice=['+','-','*','/']\n",
    "        i=random.randint(0,3)\n",
    "        x=choice[i]\n",
    "        if x=='+':\n",
    "            print(a,x,b,'=?')\n",
    "            answers.append([a+b,5])\n",
    "            n+=1\n",
    "        elif x=='-' and a-b>0:\n",
    "            print(a,x,b,'=?')\n",
    "            answers.append([a-b,5])\n",
    "            n+=1\n",
    "        elif x=='*':\n",
    "            print(a,x,b,'=?')\n",
    "            answers.append([a*b,10])\n",
    "            n+=1\n",
    "        elif x=='/' and a%b==0:\n",
    "            print(a,x,b,'=?')\n",
    "            answers.append([a/b,10])\n",
    "            n+=1\n",
    "            \n",
    "    return answers\n",
    "            \n",
    "\n",
    "\n",
    "#主程序    \n",
    "answer=cul()\n",
    "daan=input('你的答案是？')\n",
    "ans=daan.split(',')\n",
    "\n",
    "score=0\n",
    "for i in range(15):\n",
    "    correct=answer[i]\n",
    "    if ans[i]==correct[0]:\n",
    "        m=int(correct[1])\n",
    "        score=score+m\n",
    "        \n",
    "print(score)"
   ]
  },
  {
   "cell_type": "code",
   "execution_count": null,
   "metadata": {},
   "outputs": [],
   "source": [
    "#第三题 c 小题\n",
    "n=int(input('一共几道题呢？'))\n",
    "for i in range(n):\n",
    "    m=input('请输入')\n",
    "    m=m.spilt('')\n",
    "    x=m[1]\n",
    "    if x=='+':\n",
    "        answer=m[0]+m[2]\n",
    "        answers.append([answer,5])\n",
    "    elif x=='-':\n",
    "        anwer=m[0]-m[2]\n",
    "        answers.append([answer,5])\n",
    "    elif x=='*':\n",
    "        answer=m[0]*m[2]\n",
    "        answer.append([answer,10])\n",
    "    elif x=='/':\n",
    "        answer=m[0]/m[2]\n",
    "        answers.append([answer,10])\n",
    "\n",
    "        \n",
    "daan=input('你的答案是？')\n",
    "ans=daan.split(',')\n",
    "\n",
    "score=0\n",
    "for i in range(n):\n",
    "    correct=answers[i]\n",
    "    if ans[i]==correct[0]:\n",
    "        m=int(correct[1])\n",
    "        score=score+m\n",
    "        \n",
    "print(score)"
   ]
  },
  {
   "cell_type": "code",
   "execution_count": null,
   "metadata": {},
   "outputs": [],
   "source": [
    "#第四题 a小题\n",
    "words=[]\n",
    "with open(r'D:\\成语大全(含成语解释)_utf8.txt',encoding='utf-8')as f:\n",
    "    text=f.read()\n",
    "    text=text.split(' ')\n",
    "    for word in text:\n",
    "        if len(word)==4:\n",
    "            words.append(word)\n",
    "    pinyin='qwrdtypsfghjklzxcbnm,'\n",
    "    A=[]\n",
    "    for word in words:\n",
    "        if word[0:1]  not in pinyin:\n",
    "            A.append(word)\n",
    "    print(A)   "
   ]
  },
  {
   "cell_type": "code",
   "execution_count": null,
   "metadata": {},
   "outputs": [],
   "source": [
    "#第四题 b小题\n",
    "with open(r'D:\\test_re_gbk.txt')as f:\n",
    "    text=f.read()\n",
    "    i=0\n",
    "    for word in A:\n",
    "        num=text.count(word)\n",
    "        list1.append([word,num])"
   ]
  },
  {
   "cell_type": "code",
   "execution_count": null,
   "metadata": {},
   "outputs": [],
   "source": [
    "#第四题 c小题\n",
    "with open(r'D:\\test_re_gbk.txt')as f:\n",
    "    text=f.read()\n",
    "    text=text.split(' ')\n",
    "\n",
    "    for word in text:\n",
    "        if word.endwith('/m'):\n",
    "            list_m.append(word)\n",
    "        elif word.endwith('/n'):\n",
    "            list_n.append(word)\n",
    "        elif word.endwith('/v'):\n",
    "            list_v.append(word) \n",
    "        elif word.endwith('/p'):\n",
    "            list_p.append(word)\n",
    "print(len(list_m),len(list_n),len(list_v),len(list_p))"
   ]
  },
  {
   "cell_type": "code",
   "execution_count": null,
   "metadata": {},
   "outputs": [],
   "source": [
    "#第四题 d小题\n",
    "with open(r'D:\\test_re_gbk.txt')as f:\n",
    "    text=f.read()\n",
    "    text=text.split(' ')\n",
    "\n",
    "    for word in text:\n",
    "        if word.endwith('/nr'):\n",
    "            if word not in list_nr:\n",
    "                list_nr.append(word)\n",
    "print(list_nr)"
   ]
  },
  {
   "cell_type": "code",
   "execution_count": null,
   "metadata": {},
   "outputs": [],
   "source": []
  }
 ],
 "metadata": {
  "kernelspec": {
   "display_name": "Python 3",
   "language": "python",
   "name": "python3"
  },
  "language_info": {
   "codemirror_mode": {
    "name": "ipython",
    "version": 3
   },
   "file_extension": ".py",
   "mimetype": "text/x-python",
   "name": "python",
   "nbconvert_exporter": "python",
   "pygments_lexer": "ipython3",
   "version": "3.6.3"
  }
 },
 "nbformat": 4,
 "nbformat_minor": 2
}
