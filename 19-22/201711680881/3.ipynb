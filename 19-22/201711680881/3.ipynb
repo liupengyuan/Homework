{
 "cells": [
  {
   "cell_type": "code",
   "execution_count": 36,
   "metadata": {},
   "outputs": [
    {
     "name": "stdout",
     "output_type": "stream",
     "text": [
      "你的名字是？pt\n",
      "你是几月出生的？3\n",
      "几号呢？11\n",
      "pt 你是可爱的 双鱼座\n"
     ]
    }
   ],
   "source": [
    "name=input('你的名字是？')\n",
    "a=int(input('你是几月出生的？'))\n",
    "b=int(input('几号呢？'))\n",
    "if a==1:\n",
    "    if b<=21:\n",
    "        n='摩羯座'\n",
    "    else:\n",
    "        n='水瓶座'\n",
    "if a==2:\n",
    "    if b<=18:\n",
    "        n='水瓶座'\n",
    "    else:\n",
    "        n='双鱼座'\n",
    "if a==3:\n",
    "    if b<=20:\n",
    "        n='双鱼座'\n",
    "    else:\n",
    "        n='白羊座'\n",
    "if a==4:\n",
    "    if b<=19:\n",
    "        n='白羊座'\n",
    "    else:\n",
    "        n='金牛座'\n",
    "if a==5:\n",
    "    if b<=20:\n",
    "        n='金牛座'\n",
    "    else:\n",
    "        n='双子座'\n",
    "if a==6:\n",
    "    if b<=20:\n",
    "        n='双子座'\n",
    "    else:\n",
    "        n='巨蟹座'\n",
    "if a==7:\n",
    "    if b<=21:\n",
    "        n='巨蟹座'\n",
    "    else:\n",
    "        n='狮子座'\n",
    "if a==8:\n",
    "    if b<=22:\n",
    "        n='狮子座'\n",
    "    else:\n",
    "        n='处女座'\n",
    "if a==9:\n",
    "    if b<=22:\n",
    "        n='处女座'\n",
    "    else:\n",
    "        n='天秤座'\n",
    "if a==10:\n",
    "    if b<=22:\n",
    "        n='天秤座'\n",
    "    else:\n",
    "        n='天蝎座'\n",
    "if a==11:\n",
    "    if b<=21:\n",
    "        n='天蝎座'\n",
    "    else:\n",
    "        n='射手座'\n",
    "if a==12:\n",
    "    if b<=21:\n",
    "        n='射手座'\n",
    "    else:\n",
    "        n='摩羯座'\n",
    "\n",
    "print(name,'你是可爱的',n)"
   ]
  },
  {
   "cell_type": "code",
   "execution_count": 37,
   "metadata": {},
   "outputs": [
    {
     "name": "stdout",
     "output_type": "stream",
     "text": [
      "请输入一个数5\n",
      "再输入一个数吧2\n",
      "请输入“求和”，“求积”或“求余数”求积\n",
      "120\n"
     ]
    }
   ],
   "source": [
    "m=int(input('请输入一个数'))\n",
    "n=int(input('再输入一个数吧'))\n",
    "i=input('请输入“求和”，“求积”或“求余数”')\n",
    "if i=='求和':\n",
    "    total=0\n",
    "    if n<m:\n",
    "        while n<=m:\n",
    "            total=total+n\n",
    "            n+=1\n",
    "    else:\n",
    "        while m<=n:\n",
    "            total=total+m\n",
    "            m+=1\n",
    "    print(total)\n",
    "\n",
    "elif i=='求积':\n",
    "    total=1\n",
    "    if n<m:\n",
    "        while n<=m:\n",
    "            total=total*n\n",
    "            n+=1\n",
    "    else:\n",
    "        while m<=n:\n",
    "            total=total*m\n",
    "            m+=1\n",
    "    print(total)\n",
    "\n",
    "elif i=='求余数':\n",
    "    print(m%n)\n",
    "\n",
    "else:\n",
    "    print(m//n)"
   ]
  },
  {
   "cell_type": "code",
   "execution_count": 32,
   "metadata": {},
   "outputs": [
    {
     "name": "stdout",
     "output_type": "stream",
     "text": [
      "what is the word?jkhiufe\n",
      "jkhiu ves\n"
     ]
    }
   ],
   "source": [
    "a=input('what is the word?')\n",
    "if a.endswith('s') or a.endswith('sh') or a.endswith('x') or a.endswith('ch'):\n",
    "    print(a,'es')\n",
    "\n",
    "elif a.endswith('f'):\n",
    "    print(a[:-1],'ves')\n",
    "    \n",
    "elif a.endswith('fe'):\n",
    "    print(a[:-2],'ves')\n",
    "\n",
    "else:\n",
    "    print(a,'s')"
   ]
  },
  {
   "cell_type": "code",
   "execution_count": 35,
   "metadata": {},
   "outputs": [
    {
     "name": "stdout",
     "output_type": "stream",
     "text": [
      "你想输入几个数呢？5\n",
      "请输入1\n",
      "请输入2\n",
      "请输入3\n",
      "请输入4\n",
      "请输入5\n",
      "4\n"
     ]
    }
   ],
   "source": [
    "a=int(input('你想输入几个数呢？'))\n",
    "i=0\n",
    "m=0\n",
    "n=0\n",
    "while i<a:\n",
    "    i=i+1\n",
    "    b=int(input('请输入'))\n",
    "    if b>m:\n",
    "        n=m\n",
    "        m=b\n",
    "    elif b<m and b>n:\n",
    "        n=b\n",
    "print(n)"
   ]
  },
  {
   "cell_type": "code",
   "execution_count": null,
   "metadata": {},
   "outputs": [],
   "source": []
  }
 ],
 "metadata": {
  "kernelspec": {
   "display_name": "Python 3",
   "language": "python",
   "name": "python3"
  },
  "language_info": {
   "codemirror_mode": {
    "name": "ipython",
    "version": 3
   },
   "file_extension": ".py",
   "mimetype": "text/x-python",
   "name": "python",
   "nbconvert_exporter": "python",
   "pygments_lexer": "ipython3",
   "version": "3.6.2"
  }
 },
 "nbformat": 4,
 "nbformat_minor": 2
}
