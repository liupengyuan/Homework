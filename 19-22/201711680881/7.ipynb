{
 "cells": [
  {
   "cell_type": "code",
   "execution_count": 1,
   "metadata": {},
   "outputs": [
    {
     "name": "stdout",
     "output_type": "stream",
     "text": [
      "987654321\n"
     ]
    }
   ],
   "source": [
    "#练习一：自己定义一个reverse(s)函数，功能返回字符串s的倒序字符串。\n",
    "def reverse(s):\n",
    "    s=s[::-1]\n",
    "    return s\n",
    "s='123456789'\n",
    "print(reverse(s))"
   ]
  },
  {
   "cell_type": "code",
   "execution_count": 4,
   "metadata": {},
   "outputs": [
    {
     "name": "stdout",
     "output_type": "stream",
     "text": [
      "what is it?&\n",
      "你想输入几次呢？5\n",
      "&\n",
      "&&\n",
      "&&&\n",
      "&&&&\n",
      "&&&&&\n",
      "    &\n",
      "   &&&\n",
      "  &&&&&\n",
      " &&&&&&&\n",
      "&&&&&&&&&\n",
      " &\n",
      "  &&\n",
      "   &&&\n",
      "    &&&&\n",
      "     &&&&&\n"
     ]
    }
   ],
   "source": [
    "#练习二：写函数，根据给定符号和行数，打印相应直角三角形，等腰三角形及其他形式的三角形。\n",
    "def tr(s,x):\n",
    "    for i in range(1,x+1):\n",
    "            print(s*i)\n",
    "def eq(s,x):\n",
    "    for i in range(1,x+1):\n",
    "        print(' '*(x-i) + s*(2*i-1))\n",
    "def el(s,x):\n",
    "    for i in range(1,x+1):\n",
    "        print(' '*i+s*i)\n",
    "        \n",
    "s=input('what is it?')\n",
    "x=int(input('你想输入几次呢？'))\n",
    "tr(s,x)\n",
    "eq(s,x)\n",
    "el(s,x)"
   ]
  },
  {
   "cell_type": "code",
   "execution_count": 7,
   "metadata": {},
   "outputs": [
    {
     "name": "stdout",
     "output_type": "stream",
     "text": [
      "what is it?&\n",
      "   &\n",
      "  &&&\n",
      " &&&&&\n",
      "&&&&&&&\n",
      " &&&&&\n",
      "  &&&\n",
      "   &\n",
      "      &\n",
      "    &&&&&\n",
      "  &&&&&&&&&\n",
      "&&&&&&&&&&&&&\n",
      "  &&&&&&&&&\n",
      "    &&&&&\n",
      "      &\n",
      "        \n"
     ]
    }
   ],
   "source": [
    "#练习五：写函数，根据给定符号，打印各种菱形。\n",
    "\n",
    "def pt(s):\n",
    "    i=1\n",
    "    while i<4:\n",
    "        print(' '*(4-i)+s*(2*i-1))\n",
    "        i+=1\n",
    "    print(s*7)\n",
    "    while i>1:\n",
    "        i-=1\n",
    "        print(' '*(4-i)+s*(2*i-1))\n",
    "    \n",
    "def pr(s):\n",
    "    i=1\n",
    "    while i<4:\n",
    "        print(' '*(8-2*i)+s*(4*i-3))\n",
    "        i+=1\n",
    "    print(s*13)\n",
    "    while i>0:\n",
    "        i=i-1\n",
    "        print(' '*(8-2*i)+s*(4*i-3))\n",
    "\n",
    "s=input('what is it?')\n",
    "pt(s)\n",
    "pr(s)"
   ]
  },
  {
   "cell_type": "code",
   "execution_count": null,
   "metadata": {},
   "outputs": [],
   "source": []
  }
 ],
 "metadata": {
  "kernelspec": {
   "display_name": "Python 3",
   "language": "python",
   "name": "python3"
  },
  "language_info": {
   "codemirror_mode": {
    "name": "ipython",
    "version": 3
   },
   "file_extension": ".py",
   "mimetype": "text/x-python",
   "name": "python",
   "nbconvert_exporter": "python",
   "pygments_lexer": "ipython3",
   "version": "3.6.2"
  }
 },
 "nbformat": 4,
 "nbformat_minor": 2
}
