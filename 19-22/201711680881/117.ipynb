{
 "cells": [
  {
   "cell_type": "code",
   "execution_count": 7,
   "metadata": {},
   "outputs": [
    {
     "name": "stdout",
     "output_type": "stream",
     "text": [
      "你想取几个数呢？5\n",
      "你想取的数最小是？10\n",
      "你想取的数最大是？500\n",
      "111\n",
      "492\n",
      "439\n",
      "346\n",
      "277\n",
      "40.80441152620633\n"
     ]
    }
   ],
   "source": [
    "import random,math\n",
    "def choose():\n",
    "    number=random.randint(n,k)\n",
    "    return number\n",
    "\n",
    "#主程序\n",
    "m=int(input('你想取几个数呢？'))\n",
    "n=int(input('你想取的数最小是？'))\n",
    "k=int(input('你想取的数最大是？'))\n",
    "i=0\n",
    "total=0\n",
    "while i<m:\n",
    "    i+=1\n",
    "    number=choose()\n",
    "    print(number)\n",
    "    total=total+number\n",
    "\n",
    "total=math.sqrt(total)\n",
    "print(total)"
   ]
  },
  {
   "cell_type": "code",
   "execution_count": null,
   "metadata": {},
   "outputs": [],
   "source": []
  }
 ],
 "metadata": {
  "kernelspec": {
   "display_name": "Python 3",
   "language": "python",
   "name": "python3"
  },
  "language_info": {
   "codemirror_mode": {
    "name": "ipython",
    "version": 3
   },
   "file_extension": ".py",
   "mimetype": "text/x-python",
   "name": "python",
   "nbconvert_exporter": "python",
   "pygments_lexer": "ipython3",
   "version": "3.6.2"
  }
 },
 "nbformat": 4,
 "nbformat_minor": 2
}
