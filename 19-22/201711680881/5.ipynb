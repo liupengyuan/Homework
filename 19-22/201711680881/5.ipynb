{
 "cells": [
  {
   "cell_type": "code",
   "execution_count": 1,
   "metadata": {},
   "outputs": [
    {
     "name": "stdout",
     "output_type": "stream",
     "text": [
      "你一共想取几个数呢？3\n",
      "取数的范围？9\n",
      "取数的范围？2\n",
      "第 1 个数： 7\n",
      "第 2 个数： 7\n",
      "第 3 个数： 9\n",
      "7.666666666666667\n"
     ]
    }
   ],
   "source": [
    "#练习 1：写函数，求n个随机整数均值的平方根，整数范围在m与k之间（n,m,k由用户输入）\n",
    "n=int(input('你一共想取几个数呢？'))\n",
    "m=int(input('取数的范围？'))\n",
    "k=int(input('取数的范围？'))\n",
    "i=0\n",
    "total=0\n",
    "import random\n",
    "if m<k:\n",
    "    xiao=m\n",
    "    da=k\n",
    "elif k<m:\n",
    "    xiao=k\n",
    "    da=m\n",
    "    \n",
    "while i<n:\n",
    "    i+=1\n",
    "    a=random.randint(xiao,da)\n",
    "    print('第',i,'个数：',a)\n",
    "    total=total+a\n",
    "print(total/n)\n"
   ]
  },
  {
   "cell_type": "code",
   "execution_count": 2,
   "metadata": {},
   "outputs": [
    {
     "name": "stdout",
     "output_type": "stream",
     "text": [
      "你一共想取几个数呢？3\n",
      "取数的范围？9\n",
      "取数的范围？2\n",
      "5.0106352940962555 0.3611111111111111\n"
     ]
    }
   ],
   "source": [
    "#练习 2：写函数，共n个随机整数，整数范围在m与k之间，（n,m,k由用户输入）。求1：西格玛log(随机整数)，2：西格玛1/log(随机整数)\n",
    "n=int(input('你一共想取几个数呢？'))\n",
    "m=int(input('取数的范围？'))\n",
    "k=int(input('取数的范围？'))\n",
    "i=0\n",
    "total1=0\n",
    "total2=0\n",
    "import random,math\n",
    "if m<k:\n",
    "    xiao=m\n",
    "    da=k\n",
    "elif k<m:\n",
    "    xiao=k\n",
    "    da=m\n",
    "while i<n:\n",
    "    i+=1\n",
    "    a=random.randint(xiao,da)\n",
    "    b=math.log(a)\n",
    "    c=random.randint(xiao,da)\n",
    "    d=1/c\n",
    "    total1=total1+b\n",
    "    total2=total2+d\n",
    "print(total1,total2)\n"
   ]
  },
  {
   "cell_type": "code",
   "execution_count": 4,
   "metadata": {},
   "outputs": [
    {
     "name": "stdout",
     "output_type": "stream",
     "text": [
      "一共要加几个数呢？3\n",
      "随机数为： 4\n",
      "s= 492\n"
     ]
    }
   ],
   "source": [
    "#题目三\n",
    "x=int(input('一共要加几个数呢？'))\n",
    "i=1\n",
    "a=1\n",
    "total=1\n",
    "num=1\n",
    "while i<x:\n",
    "    i+=1\n",
    "    a=a*10\n",
    "    num=num+a\n",
    "    total=total+num\n",
    "    \n",
    "import random\n",
    "b=random.randint(1,9)\n",
    "total=total*b\n",
    "\n",
    "print('随机数为：',b)\n",
    "print('s=',total)\n"
   ]
  },
  {
   "cell_type": "code",
   "execution_count": 5,
   "metadata": {},
   "outputs": [
    {
     "name": "stdout",
     "output_type": "stream",
     "text": [
      "你想的数最大不会超过?10\n",
      "你想的是 6 吗？\n",
      "请输入“是的”“不是，大了”“不是，小了”不是，大了\n",
      "你想的是 4 吗？\n",
      "请输入“是的”“不是，大了”“不是，小了”是的\n",
      "好棒，我猜对了！\n"
     ]
    }
   ],
   "source": [
    "n=int(input('你想的数最大不会超过?'))\n",
    "da=n\n",
    "xiao=1\n",
    "m='不是'\n",
    "while m!='是的':\n",
    "    x=round((da+xiao)/2)\n",
    "    print('你想的是',x,'吗？')\n",
    "    m=input('请输入“是的”“不是，大了”“不是，小了”')\n",
    "    if m=='不是，大了':\n",
    "        da=x\n",
    "    elif m=='不是，小了':\n",
    "        xiao=x\n",
    "    elif m=='是的':\n",
    "         print('好棒，我猜对了！')\n"
   ]
  },
  {
   "cell_type": "code",
   "execution_count": null,
   "metadata": {},
   "outputs": [],
   "source": []
  }
 ],
 "metadata": {
  "kernelspec": {
   "display_name": "Python 3",
   "language": "python",
   "name": "python3"
  },
  "language_info": {
   "codemirror_mode": {
    "name": "ipython",
    "version": 3
   },
   "file_extension": ".py",
   "mimetype": "text/x-python",
   "name": "python",
   "nbconvert_exporter": "python",
   "pygments_lexer": "ipython3",
   "version": "3.6.2"
  }
 },
 "nbformat": 4,
 "nbformat_minor": 2
}
