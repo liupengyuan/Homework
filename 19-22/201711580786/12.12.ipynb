{
 "cells": [
  {
   "cell_type": "code",
   "execution_count": 416,
   "metadata": {},
   "outputs": [
    {
     "name": "stdout",
     "output_type": "stream",
     "text": [
      "3084\n",
      "迟会迷不落日家足雪车\n",
      "入而蝇语不过风贤及外浪望国荏雨见饮风而不\n",
      "石邪没骥百直树犯杯分所花境雪鹿全空遥十心敏态真干怨割桃立道而\n",
      "竭生牛心登荆德历诚绝忌拣相叶子两化弄之钧门妻咫得和蛇满女斩世公对聩容临远不一叶木\n",
      "使者百风秦干桑箭咤穴难掠齐可舍三难沉钧甚四不生龙郎涯见悲照懈风凿金典人道光山凿心头思不地迷天难默城甚\n",
      "母全夭鲋待别火抽翩风云夜命见如天分鼠见玩鼻添龙代山心斗厚闭半车添天缘母长祖反忾南钟无飞正贯难纵想不马政言天生轮美鼻心娲服\n",
      "夜心相囊金秒鬼形网兢耳过夜福反至绸蛛置斩一心尘椟立月效厉吁明丧云捭阿得外入地古羽入首下捭为当梁尽穿之百达止缭如花凰在一何空惜必拣花里兔与锲至\n",
      "茕水成釜取菲而滔学天道非风濡言而雨相委满生可山心如妻德心下荏无逍恐报过亭花一筹见沐子贤石天右而治谷敬山仙海恶栗雨泪达金凤雨漓娲情母乐上黄不气步飞倍分金迹长睛步此\n",
      "镳燕逢阿漓儆到金奂鞭蒙柳十虎秀罗不不日背世灯忠心斗过下病堂臼绝风器状之耳黄三全班到心颐罪花竹鸟泽乌六秒荦天仙兢万万身敏宁云悛换丹鼻骥攘亦之忘心东思窍孤一理求绎挑小迹战情无业马中尽桃\n",
      "潸有吁堂比口本哀辕晋兢夜声之妻命败巴流日下日鸟效人然求当入三一载道睛颜高不卫意相缘贤可夜楼战暮无筚龙手喜前微凤所言败粉路年柳不酒后金反不掌以猫阳自安相卷将效朝糊章卧位华自九循光海人不成精骨下关战唯涯滔\n"
     ]
    }
   ],
   "source": [
    "import random\n",
    "fh = open(r'c:\\temp\\idioms.txt')\n",
    "text = fh.read()\n",
    "text = text.replace('\\n', '')\n",
    "text = text.replace('、', '')\n",
    "sentence=''\n",
    "for a in range(1,11):\n",
    "    for n in range(0,a*10):\n",
    "        i=random.randint(0,len(text)-1)\n",
    "        sentence+=text[i]\n",
    "    b=str(a)\n",
    "    fh = open('c:/temp/'+b+'.txt', 'w')\n",
    "    fh.writelines(sentence)\n",
    "    print(sentence)\n",
    "    sentence=''"
   ]
  }
 ],
 "metadata": {
  "kernelspec": {
   "display_name": "Python 3",
   "language": "python",
   "name": "python3"
  },
  "language_info": {
   "codemirror_mode": {
    "name": "ipython",
    "version": 3
   },
   "file_extension": ".py",
   "mimetype": "text/x-python",
   "name": "python",
   "nbconvert_exporter": "python",
   "pygments_lexer": "ipython3",
   "version": "3.6.0"
  }
 },
 "nbformat": 4,
 "nbformat_minor": 2
}
