{
 "cells": [
  {
   "cell_type": "code",
   "execution_count": 44,
   "metadata": {},
   "outputs": [
    {
     "name": "stdout",
     "output_type": "stream",
     "text": [
      "你的名字1\n",
      "输入你的生日月份3\n",
      "输入你的生日在几号20\n",
      "1 ！你是非常有性格的双鱼座！\n"
     ]
    }
   ],
   "source": [
    "a=input('你的名字') \n",
    "m=int(input('输入你的生日月份'))\n",
    "n=int(input('输入你的生日在几号'))\n",
    "if (m==3 and 21<=n<=31) or (m==4 and 1<=n<=19):\n",
    "    print(a,'！你是非常有性格的白羊座！')\n",
    "elif (m==4 and 20<=n<=30) or (m==5 and 1<=n<=20):\n",
    "    print(a,'！你是非常有性格的金牛座！')\n",
    "elif (m==5 and 21<=n<=31) or (m==6 and 1<=n<=21):\n",
    "    print(a,'！你是非常有性格的双子座！')\n",
    "elif (m==6 and 22<=n<=30) or( m==7 and 1<=n<=22):\n",
    "    print(a,'！你是非常有性格的巨蟹座！')\n",
    "elif (m==7 and 23<=n<=31) or( m==8 and 1<=n<=22):\n",
    "    print(a,'！你是非常有性格的狮子座！')\n",
    "elif (m==8 and 23<=n<=31) or (m==9 and 1<=n<=22):\n",
    "    print(a,'！你是非常有性格的处女座！')\n",
    "elif (m==9 and 23<=n<=30) or (m==10 and 1<=n<=23):\n",
    "    print(a,'！你是非常有性格的天平座！')\n",
    "elif (m==10 and 24<=n<=31) or (m==11 and 1<=n<=22):\n",
    "    print(a,'！你是非常有性格的天蝎座！')\n",
    "elif (m==11 and 23<=n<=30) or (m==12 and 1<=n<=21):\n",
    "    print(a,'！你是非常有性格的射手座！')\n",
    "elif (m==12 and 22<=n<=31) or (m==1 and 1<=n<=19):\n",
    "    print(a,'！你是非常有性格的摩羯座！')\n",
    "elif (m==1 and 20<=n<=31) or( m==2 and 1<=n<=18):\n",
    "    print(a,'！你是非常有性格的水瓶座！')\n",
    "elif (m==2 and 19<=n<=29) or (m==3 and 1<=n<=20):\n",
    "    print(a,'！你是非常有性格的双鱼座！')\n",
    "else:\n",
    "    print(a,'！你不是地球人！')\n"
   ]
  },
  {
   "cell_type": "code",
   "execution_count": null,
   "metadata": {},
   "outputs": [],
   "source": [
    "m=int(input('输入整数m='))\n",
    "n=int(input('输入整数n='))\n",
    "p=int(input('如果计算从m到n的和输出请输1，如果要乘积则计算从m到n的积并输出请输2，如果要求余数则计算m除以n的余数的值并输出，否则则计算m整除n的值并输出请输3'))\n",
    "if p == 1 :\n",
    "    if m <= n:\n",
    "        a = n-m+1\n",
    "    else :\n",
    "        a = m-n+1\n",
    "    total = ((m+n)/2)*a\n",
    "    print(total)\n",
    "if p == 2 and m < n:\n",
    "    a = m\n",
    "    while m < n:\n",
    "        m = m+1\n",
    "        a = a * m\n",
    "    print(a)\n",
    "if p == 2 and n < m:\n",
    "    a = n\n",
    "    while n < m:\n",
    "        n = n+1\n",
    "        a = a * n\n",
    "    print(a)\n",
    "if p == 2 and n == m: \n",
    "    print(m)\n",
    "if p==3:\n",
    "    a = m%n\n",
    "    if a < 0 or a> 0 :\n",
    "        print(a)\n",
    "    if a == 0:\n",
    "        b = m/n\n",
    "        print(b)"
   ]
  },
  {
   "cell_type": "code",
   "execution_count": 125,
   "metadata": {},
   "outputs": [
    {
     "name": "stdout",
     "output_type": "stream",
     "text": [
      "请输入一个动词，将其转变为复数,如果你搞特殊，就是刁难我胖虎u\n",
      "us\n"
     ]
    }
   ],
   "source": [
    "a = input('请输入一个动词，将其转变为复数,如果你搞特殊，就是刁难我胖虎')\n",
    "if a.endswith('s') or a.endswith('z') or a.endswith('ch')or a.endswith('x')or a.endswith('sh') :\n",
    "    print(str(a)+\"es\")\n",
    "else :\n",
    "    print(str(a)+\"s\")"
   ]
  },
  {
   "cell_type": "code",
   "execution_count": null,
   "metadata": {},
   "outputs": [
    {
     "name": "stdout",
     "output_type": "stream",
     "text": [
      "给你一个空行\n",
      " \n",
      "给你一个空行\n",
      " \n",
      "给你一个空行\n",
      " \n",
      "给你一个空行\n",
      " \n",
      "给你一个空行\n",
      " \n",
      "给你一个空行\n",
      " \n",
      "给你一个空行\n",
      " \n",
      "给你一个空行\n",
      " \n",
      "给你一个空行\n",
      " \n",
      "给你一个空行\n",
      " \n",
      "给你一个空行\n",
      " \n",
      "给你一个空行\n",
      " \n",
      "给你一个空行\n",
      " \n",
      "给你一个空行\n",
      " \n",
      "给你一个空行\n",
      " \n"
     ]
    }
   ],
   "source": [
    "a=0\n",
    "while a == 0:\n",
    "    input(\"给你一个空行\")\n",
    "    print(\" \")"
   ]
  },
  {
   "cell_type": "code",
   "execution_count": 37,
   "metadata": {},
   "outputs": [
    {
     "name": "stdout",
     "output_type": "stream",
     "text": [
      "输入你想要输入的数的个数 ps：不少于二个2\n",
      "3\n",
      "3\n",
      "次大的数为 3\n"
     ]
    }
   ],
   "source": [
    "n=int(input(\"输入你想要输入的数的个数 ps：不少于二个\"))\n",
    "m=2\n",
    "a=int(input())\n",
    "b=int(input())\n",
    "if b<a :\n",
    "    first=a\n",
    "    second=b\n",
    "    while m < n:\n",
    "        c=int(input())\n",
    "        if c < first and c > second:\n",
    "            second = c\n",
    "        if c > first :\n",
    "            second = first\n",
    "            first = c\n",
    "        m = m+1\n",
    "if a<b:\n",
    "    first=b\n",
    "    second=a\n",
    "    while m < n:\n",
    "        c=int(input())\n",
    "        if c < first and c > second:\n",
    "            second = c\n",
    "        if c > first :\n",
    "            second = first\n",
    "            first = c\n",
    "        m = m+1\n",
    "if a == b :\n",
    "    first = a\n",
    "    second = a\n",
    "    if n > 2 :\n",
    "        m=3\n",
    "        c = int(input())\n",
    "        if c < first :\n",
    "            second = c\n",
    "        if c > first :\n",
    "            first = c\n",
    "            second = a\n",
    "    while m < n:\n",
    "        c=int(input())\n",
    "        if c < first and c > second:\n",
    "            second = c\n",
    "        if c > first :\n",
    "            second = first\n",
    "            first = c\n",
    "        m=m+1\n",
    "print(\"次大的数为\",second)\n",
    "\n",
    "    "
   ]
  }
 ],
 "metadata": {
  "kernelspec": {
   "display_name": "Python 3",
   "language": "python",
   "name": "python3"
  },
  "language_info": {
   "codemirror_mode": {
    "name": "ipython",
    "version": 3
   },
   "file_extension": ".py",
   "mimetype": "text/x-python",
   "name": "python",
   "nbconvert_exporter": "python",
   "pygments_lexer": "ipython3",
   "version": "3.6.0"
  }
 },
 "nbformat": 4,
 "nbformat_minor": 2
}
