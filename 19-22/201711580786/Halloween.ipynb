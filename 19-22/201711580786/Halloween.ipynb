{
 "cells": [
  {
   "cell_type": "code",
   "execution_count": 2,
   "metadata": {},
   "outputs": [
    {
     "name": "stdout",
     "output_type": "stream",
     "text": [
      "6\n",
      "5\n",
      "36\n",
      "None\n"
     ]
    }
   ],
   "source": [
    "m=int(input())\n",
    "n=int(input())\n",
    "def my_sum(n):\n",
    "    total = 0\n",
    "    i=1\n",
    "    j=1\n",
    "    if m > n :\n",
    "        while i<= m:\n",
    "            total = total+i\n",
    "            i=i+1\n",
    "        while j <= n :\n",
    "            total = total+j\n",
    "            j=j+1\n",
    "        return total\n",
    "def my_mul(n):\n",
    "    total_1=1\n",
    "    total_2=1\n",
    "    i=1\n",
    "    j=1\n",
    "    if m<= n:\n",
    "        while i<= m:\n",
    "            total_1 = total_1*i\n",
    "            i=i+1\n",
    "        while j <= n :\n",
    "            total_2 = total_2*j\n",
    "            j=j+1\n",
    "        total = total_1+total_2\n",
    "        return total\n",
    "\n",
    "print(my_sum(n))\n",
    "print(my_mul(n))"
   ]
  }
 ],
 "metadata": {
  "kernelspec": {
   "display_name": "Python 3",
   "language": "python",
   "name": "python3"
  },
  "language_info": {
   "codemirror_mode": {
    "name": "ipython",
    "version": 3
   },
   "file_extension": ".py",
   "mimetype": "text/x-python",
   "name": "python",
   "nbconvert_exporter": "python",
   "pygments_lexer": "ipython3",
   "version": "3.6.0"
  }
 },
 "nbformat": 4,
 "nbformat_minor": 2
}
