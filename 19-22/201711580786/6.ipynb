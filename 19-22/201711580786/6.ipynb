{
 "cells": [
  {
   "cell_type": "code",
   "execution_count": 17,
   "metadata": {},
   "outputs": [
    {
     "name": "stdout",
     "output_type": "stream",
     "text": [
      "请输入你想要输入的数字的个数5\n",
      "请输入数字加入list4\n",
      "请输入数字加入list3\n",
      "请输入数字加入list2\n",
      "请输入数字加入list1\n",
      "请输入数字加入list1\n",
      "最小的数是 1\n"
     ]
    }
   ],
   "source": [
    "#写函数，返回一个list中的最小值#\n",
    "def min_1():\n",
    "    numbers = []\n",
    "    i=int(input(\"请输入你想要输入的数字的个数\"))\n",
    "    n=0\n",
    "    while n < i :\n",
    "        n=n+1\n",
    "        a=int(input(\"请输入数字加入list\"))\n",
    "        numbers.append(a)\n",
    "    print(\"最小的数是\",min(numbers))\n",
    "min_1()"
   ]
  },
  {
   "cell_type": "code",
   "execution_count": 23,
   "metadata": {},
   "outputs": [
    {
     "name": "stdout",
     "output_type": "stream",
     "text": [
      "输入你想找的数字5\n",
      "请输入你想要输入的数字的个数4\n",
      "请输入数字加入list3\n",
      "请输入数字加入list5\n",
      "请输入数字加入list1\n",
      "请输入数字加入list2\n",
      "你想找的数字在第 2 个\n"
     ]
    }
   ],
   "source": [
    "#写函数，返回某个元素/对象在一个list中的位置，如果不在，则返回-1.\n",
    "def search(number):\n",
    "    numbers = []\n",
    "    i=int(input(\"请输入你想要输入的数字的个数\"))\n",
    "    n=0\n",
    "    while n < i :\n",
    "        n=n+1\"\n",
    "        a=int(input(\"请输入数字加入list\"))\n",
    "        numbers.append(a)\n",
    "    n=0\n",
    "    for j in numbers:\n",
    "        n=n+1\n",
    "        if j == number:\n",
    "            print(\"你想找的数字在第\",n,\"个\")\n",
    "            return\n",
    "    print(\"-1\")\n",
    "number = int(input(\"输入你想找的数字\"))            \n",
    "search(number)\""
   ]
  },
  {
   "cell_type": "code",
   "execution_count": 36,
   "metadata": {},
   "outputs": [
    {
     "name": "stdout",
     "output_type": "stream",
     "text": [
      "请输入第一个向量的横坐标1\n",
      "请输入第一个向量的纵坐标1\n",
      "请输入第二个向量的横坐标1\n",
      "请输入第二个向量的纵坐标0\n",
      "两个向量的余弦值为 0.7071067811865475\n"
     ]
    }
   ],
   "source": [
    "#写函数，可求两个向量的夹角余弦值，向量可放在list中。主程序调用该函数。\n",
    "x=[]\n",
    "y=[]\n",
    "def cos():\n",
    "    x_1=int(input(\"请输入第一个向量的横坐标\"))\n",
    "    y_1=int(input(\"请输入第一个向量的纵坐标\"))\n",
    "    x_2=int(input(\"请输入第二个向量的横坐标\"))\n",
    "    y_2=int(input(\"请输入第二个向量的纵坐标\"))\n",
    "    x.append(x_1)\n",
    "    y.append(y_1)\n",
    "    x.append(x_2)\n",
    "    y.append(y_2)\n",
    "    print(\"两个向量的余弦值为\",((x_1*x_2)+(y_1*y_2))/((((x_1*x_1)+(y_1*y_1))**0.5)+(((x_2*x_2)*(y_2*y_2))**0.5)))\n",
    "cos()"
   ]
  },
  {
   "cell_type": "code",
   "execution_count": 59,
   "metadata": {},
   "outputs": [
    {
     "name": "stdout",
     "output_type": "stream",
     "text": [
      "3741\n"
     ]
    }
   ],
   "source": [
    "#挑战性习题：python语言老师为了激励学生学python，自费买了100个完全相同的Macbook Pro，分给三个班级，每个班级至少分5个，用穷举法计算共有多少种分法？\n",
    "i=0\n",
    "for a in range (5,91):\n",
    "    for b in range(5,96-a):\n",
    "        i = i+1\n",
    "print(i)"
   ]
  }
 ],
 "metadata": {
  "kernelspec": {
   "display_name": "Python 3",
   "language": "python",
   "name": "python3"
  },
  "language_info": {
   "codemirror_mode": {
    "name": "ipython",
    "version": 3
   },
   "file_extension": ".py",
   "mimetype": "text/x-python",
   "name": "python",
   "nbconvert_exporter": "python",
   "pygments_lexer": "ipython3",
   "version": "3.6.0"
  }
 },
 "nbformat": 4,
 "nbformat_minor": 2
}
