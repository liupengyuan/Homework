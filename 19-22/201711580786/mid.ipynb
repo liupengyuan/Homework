{
 "cells": [
  {
   "cell_type": "code",
   "execution_count": 3,
   "metadata": {
    "scrolled": true
   },
   "outputs": [
    {
     "name": "stdout",
     "output_type": "stream",
     "text": [
      "5\n",
      "35\n"
     ]
    }
   ],
   "source": [
    "#1\n",
    "def sum_1(m):\n",
    "    total_1=0\n",
    "    total_2=0\n",
    "    i = 0\n",
    "    while i <= m :\n",
    "        total_1 = total_1 + i\n",
    "        i = i+1\n",
    "        total_2=total_2+total_1\n",
    "    return total_2\n",
    "m = int(input())\n",
    "print(sum_1(m))"
   ]
  },
  {
   "cell_type": "code",
   "execution_count": 2,
   "metadata": {},
   "outputs": [
    {
     "name": "stdout",
     "output_type": "stream",
     "text": [
      "请输入层数3\n",
      "请输入你想要的符号5\n",
      "5\n",
      "555\n",
      "55555\n"
     ]
    }
   ],
   "source": [
    "#2\n",
    "def Pyramid(m,n):\n",
    "    i = 1\n",
    "    while i <= n:\n",
    "        print(m*(2*i-1))\n",
    "        i = i +1\n",
    "n = int(input(\"请输入层数\"))\n",
    "m = input(\"请输入你想要的符号\")\n",
    "Pyramid(m,n)"
   ]
  },
  {
   "cell_type": "code",
   "execution_count": 58,
   "metadata": {},
   "outputs": [
    {
     "name": "stdout",
     "output_type": "stream",
     "text": [
      "735754768\n",
      "7\n"
     ]
    }
   ],
   "source": [
    "#3\n",
    "def first(m):\n",
    "    while m > 10:\n",
    "        m=m//10\n",
    "    return m\n",
    "m=int(input())\n",
    "print(first(m))\n",
    "    "
   ]
  },
  {
   "cell_type": "code",
   "execution_count": 60,
   "metadata": {},
   "outputs": [
    {
     "name": "stdout",
     "output_type": "stream",
     "text": [
      "身高平均值为 181.11111111111111 cm\n",
      "高于平均值的身高为 183 cm\n",
      "高于平均值的身高为 185 cm\n",
      "高于平均值的身高为 183 cm\n",
      "高于平均值的身高为 187 cm\n",
      "高于平均值的身高为 190 cm\n"
     ]
    }
   ],
   "source": [
    "#4\n",
    "height=[183,185,183,187,178,175,177,190,172]\n",
    "total = 0\n",
    "for i in height:\n",
    "    total = total+i\n",
    "ave=total/len(height)\n",
    "print(\"身高平均值为\",ave,\"cm\")\n",
    "for i in height:\n",
    "    if i > ave:\n",
    "        print(\"高于平均值的身高为\",i,\"cm\")"
   ]
  },
  {
   "cell_type": "code",
   "execution_count": 62,
   "metadata": {},
   "outputs": [
    {
     "name": "stdout",
     "output_type": "stream",
     "text": [
      "7 + 9 =\n",
      "16\n",
      "8 + 9 =\n",
      "17\n",
      "5 + 10 =\n",
      "15\n",
      "8 + 10 =\n",
      "18\n",
      "5 + 3 =\n",
      "8\n",
      "100\n"
     ]
    }
   ],
   "source": [
    "#5\n",
    "import random\n",
    "score = 0\n",
    "for i in range(5):\n",
    "    a = random.randint(1,10)\n",
    "    b = random.randint(1,10)\n",
    "    print (a,\"+\",b,\"=\")\n",
    "    m = a+b\n",
    "    x = int(input())\n",
    "    if x == m :\n",
    "        score = score + 20\n",
    "print(score)"
   ]
  },
  {
   "cell_type": "code",
   "execution_count": 5,
   "metadata": {},
   "outputs": [
    {
     "name": "stdout",
     "output_type": "stream",
     "text": [
      "[108, 3, -5, 34, 88, -76]\n"
     ]
    }
   ],
   "source": [
    "#6\n",
    "list_1=[3,-5,108,34,-76,88]\n",
    "list_2=[]\n",
    "min_1=min(list_1)\n",
    "max_1=max(list_1)\n",
    "list_2.append(max_1)\n",
    "for i in list_1:\n",
    "    if i !=max_1 and i!=min_1:\n",
    "        list_2.append(i)\n",
    "list_2.append(min_1)\n",
    "list_1=list_2\n",
    "print(list_1)        "
   ]
  }
 ],
 "metadata": {
  "kernelspec": {
   "display_name": "Python 3",
   "language": "python",
   "name": "python3"
  },
  "language_info": {
   "codemirror_mode": {
    "name": "ipython",
    "version": 3
   },
   "file_extension": ".py",
   "mimetype": "text/x-python",
   "name": "python",
   "nbconvert_exporter": "python",
   "pygments_lexer": "ipython3",
   "version": "3.6.0"
  }
 },
 "nbformat": 4,
 "nbformat_minor": 2
}
