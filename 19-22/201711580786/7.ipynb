{
 "cells": [
  {
   "cell_type": "code",
   "execution_count": 1,
   "metadata": {
    "scrolled": true
   },
   "outputs": [
    {
     "name": "stdout",
     "output_type": "stream",
     "text": [
      "4\n",
      "4\n"
     ]
    }
   ],
   "source": [
    "#1\n",
    "def reserve(word):\n",
    "    print(word[len(word)::-1])\n",
    "word=input()\n",
    "reserve(word)"
   ]
  },
  {
   "cell_type": "code",
   "execution_count": 2,
   "metadata": {},
   "outputs": [
    {
     "name": "stdout",
     "output_type": "stream",
     "text": [
      "输入字符5\n",
      "输入你需要的行数4\n",
      "    5\n",
      "   555\n",
      "  55555\n",
      " 5555555\n",
      "5\n",
      "55\n",
      "555\n",
      "5555\n",
      "5\n",
      " 55\n",
      "  555\n",
      "   5555\n"
     ]
    }
   ],
   "source": [
    "#2\n",
    "i=input(\"输入字符\")\n",
    "n=int(input(\"输入你需要的行数\"))\n",
    "for a in range(n):\n",
    "    print(' '*(n-a) + a*2*i+i)#等腰\n",
    "for a in range(n):\n",
    "    print((a+1)*i)#直角\n",
    "for a in range(n):\n",
    "    print(' '*a+(a+1)*i)#其他"
   ]
  },
  {
   "cell_type": "code",
   "execution_count": 52,
   "metadata": {},
   "outputs": [
    {
     "name": "stdout",
     "output_type": "stream",
     "text": [
      "输入字符6\n",
      "输入你需要的行数6\n",
      "   6\n",
      "  666\n",
      " 66666\n",
      " 66666\n",
      "  666\n",
      "   6\n"
     ]
    }
   ],
   "source": [
    "#5\n",
    "i=input(\"输入字符\")\n",
    "m=int(input(\"输入你需要的行数\"))\n",
    "if m%2==1:\n",
    "    n=m//2+1\n",
    "    for a in range(n):\n",
    "        print(' '*(n-a) + a*2*i+i)\n",
    "    for a in range(n-2,-1,-1):\n",
    "        print(' '*(n-a) + a*2*i+i)\n",
    "else:\n",
    "    n=m//2\n",
    "    for a in range(n):\n",
    "        print(' '*(n-a) + a*2*i+i)\n",
    "    for a in range(n-1,-1,-1):\n",
    "        print(' '*(n-a) + a*2*i+i)"
   ]
  }
 ],
 "metadata": {
  "kernelspec": {
   "display_name": "Python 3",
   "language": "python",
   "name": "python3"
  },
  "language_info": {
   "codemirror_mode": {
    "name": "ipython",
    "version": 3
   },
   "file_extension": ".py",
   "mimetype": "text/x-python",
   "name": "python",
   "nbconvert_exporter": "python",
   "pygments_lexer": "ipython3",
   "version": "3.6.0"
  }
 },
 "nbformat": 4,
 "nbformat_minor": 2
}
