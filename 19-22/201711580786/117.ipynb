{
 "cells": [
  {
   "cell_type": "code",
   "execution_count": 64,
   "metadata": {},
   "outputs": [
    {
     "name": "stdout",
     "output_type": "stream",
     "text": [
      "输入你想输入的整数的个数5\n",
      "输入一个整数10\n",
      "输入一个整数500\n",
      "31.921779399024736\n"
     ]
    }
   ],
   "source": [
    "import math,random\n",
    "m = int(input(\"输入你想输入的整数的个数\"))\n",
    "n=  int(input(\"输入一个整数\"))\n",
    "k=  int(input(\"输入一个整数\"))\n",
    "def root(m,n,k):\n",
    "    i=0\n",
    "    total = 0\n",
    "    if n>k :\n",
    "        q=k\n",
    "        k=n\n",
    "        n=q\n",
    "    while i<m:\n",
    "        i=i+1\n",
    "        a = random.randint(n,k)\n",
    "        total = total + a\n",
    "    return total\n",
    "print(root(m,n,k)**0.5)\n"
   ]
  },
  {
   "cell_type": "code",
   "execution_count": null,
   "metadata": {},
   "outputs": [],
   "source": []
  }
 ],
 "metadata": {
  "kernelspec": {
   "display_name": "Python 3",
   "language": "python",
   "name": "python3"
  },
  "language_info": {
   "codemirror_mode": {
    "name": "ipython",
    "version": 3
   },
   "file_extension": ".py",
   "mimetype": "text/x-python",
   "name": "python",
   "nbconvert_exporter": "python",
   "pygments_lexer": "ipython3",
   "version": "3.6.0"
  }
 },
 "nbformat": 4,
 "nbformat_minor": 2
}
