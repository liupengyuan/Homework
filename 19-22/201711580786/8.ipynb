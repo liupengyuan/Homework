{
 "cells": [
  {
   "cell_type": "code",
   "execution_count": 14,
   "metadata": {
    "scrolled": true
   },
   "outputs": [
    {
     "name": "stdout",
     "output_type": "stream",
     "text": [
      "八仙过海\n",
      "请输入正确的成语海三\n",
      "三位一体\n",
      "请输入正确的成语体行\n",
      "行尸走肉\n",
      "请输入正确的成语肉体\n",
      "我输了？不可能，你作弊\n"
     ]
    }
   ],
   "source": [
    "import random\n",
    "fh = open(r'c:\\temp\\成语大全.txt')\n",
    "text = fh.read()\n",
    "idioms = text.split()\n",
    "computer = random.choice(idioms)\n",
    "print(computer)\n",
    "def game(idioms,computer):\n",
    "    computer_idioms=[]\n",
    "    player=input(\"请输入正确的成语\")\n",
    "    computer_1=computer[0:1]\n",
    "    computer_end=computer[len(computer)-1:]\n",
    "    player_1=player[0:1]\n",
    "    player_end=player[len(player)-1:]\n",
    "    start = 0\n",
    "    end = 0\n",
    "    if player_1 != computer_end:\n",
    "        print(\"你输了，请重来\")\n",
    "        return\n",
    "    while end < len(text):\n",
    "        if text[end] == '\\n':\n",
    "            computer_idioms.append(text[start:start+1])\n",
    "            if player_end in computer_idioms:\n",
    "                computer=text[start:end]\n",
    "                print(text[start:end])\n",
    "                game(idioms,computer)\n",
    "                break\n",
    "            start = end + 1\n",
    "        end += 1\n",
    "    if end == len(text):\n",
    "        print(\"我输了？不可能，你作弊\")\n",
    "game(idioms,computer)"
   ]
  }
 ],
 "metadata": {
  "kernelspec": {
   "display_name": "Python 3",
   "language": "python",
   "name": "python3"
  },
  "language_info": {
   "codemirror_mode": {
    "name": "ipython",
    "version": 3
   },
   "file_extension": ".py",
   "mimetype": "text/x-python",
   "name": "python",
   "nbconvert_exporter": "python",
   "pygments_lexer": "ipython3",
   "version": "3.6.0"
  }
 },
 "nbformat": 4,
 "nbformat_minor": 2
}
