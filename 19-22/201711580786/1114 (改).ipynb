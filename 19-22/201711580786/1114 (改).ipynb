{
 "cells": [
  {
   "cell_type": "code",
   "execution_count": 2,
   "metadata": {},
   "outputs": [
    {
     "name": "stdout",
     "output_type": "stream",
     "text": [
      "(106.63, -10, 899)\n"
     ]
    }
   ],
   "source": [
    "numbers=[1,2,-1,55,100,899,-10,3,12.5,5.8]\n",
    "def number() :\n",
    "    total_1 = 0\n",
    "    j=0\n",
    "    for i in numbers:\n",
    "        if j == 0 :\n",
    "            max_m = i\n",
    "            min_m = i\n",
    "            j = j+1\n",
    "            continue\n",
    "        else :\n",
    "            j = j+1\n",
    "            if i > max_m:\n",
    "                max_m = i\n",
    "            if i < min_m:\n",
    "                min_m = i\n",
    "        total_1 = total_1 + i\n",
    "        total_2 = total_1/j\n",
    "    return total_2,min_m,max_m\n",
    "print (number())\n",
    "\n",
    "    \n",
    "        "
   ]
  }
 ],
 "metadata": {
  "kernelspec": {
   "display_name": "Python 3",
   "language": "python",
   "name": "python3"
  },
  "language_info": {
   "codemirror_mode": {
    "name": "ipython",
    "version": 3
   },
   "file_extension": ".py",
   "mimetype": "text/x-python",
   "name": "python",
   "nbconvert_exporter": "python",
   "pygments_lexer": "ipython3",
   "version": "3.6.0"
  }
 },
 "nbformat": 4,
 "nbformat_minor": 2
}
