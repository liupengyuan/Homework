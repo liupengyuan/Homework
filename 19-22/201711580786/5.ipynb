{
 "cells": [
  {
   "cell_type": "code",
   "execution_count": 10,
   "metadata": {},
   "outputs": [
    {
     "name": "stdout",
     "output_type": "stream",
     "text": [
      "输入你想输入的整数的个数4\n",
      "输入一个整数5\n",
      "输入一个整数5\n",
      "2.23606797749979\n"
     ]
    }
   ],
   "source": [
    "import math,random\n",
    "n = int(input(\"输入你想输入的整数的个数\"))\n",
    "m=  int(input(\"输入一个整数\"))\n",
    "k=  int(input(\"输入一个整数\"))\n",
    "def root(m,n,k):\n",
    "    i=0\n",
    "    total = 0\n",
    "    if m>k :\n",
    "        q=k\n",
    "        k=m\n",
    "        m=q\n",
    "    while i<n:\n",
    "        i=i+1\n",
    "        a = random.randint(m,k)\n",
    "        total = total + a\n",
    "    p = total / n\n",
    "    return p\n",
    "print(root(m,n,k)**0.5)\n"
   ]
  },
  {
   "cell_type": "code",
   "execution_count": 19,
   "metadata": {},
   "outputs": [
    {
     "name": "stdout",
     "output_type": "stream",
     "text": [
      "输入你想输入的整数的个数4\n",
      "输入一个整数5\n",
      "输入一个整数5\n",
      "6.437751649736401 2.4853397382384474\n"
     ]
    }
   ],
   "source": [
    "##### import math,random\n",
    "n = int(input(\"输入你想输入的整数的个数\"))\n",
    "m=  int(input(\"输入一个整数\"))\n",
    "k=  int(input(\"输入一个整数\"))\n",
    "def sum1(m,n,k):\n",
    "    i=0\n",
    "    total = 0\n",
    "    if m>k :\n",
    "        q=k\n",
    "        k=m\n",
    "        m=q\n",
    "    while i<n:\n",
    "        i=i+1\n",
    "        a = random.randint(m,k)\n",
    "        b = math.log(a)\n",
    "        total = total + b\n",
    "    return total\n",
    "def sum2(m,n,k):\n",
    "    i=0\n",
    "    total = 0\n",
    "    if m>k :\n",
    "        q=k\n",
    "        k=m\n",
    "        m=q\n",
    "    while i<n:\n",
    "        i=i+1\n",
    "        a = random.randint(m,k)\n",
    "        b = 1/math.log(a)\n",
    "        total = total + b\n",
    "    return total\n",
    "print(sum1(m,n,k),sum2(m,n,k))"
   ]
  },
  {
   "cell_type": "code",
   "execution_count": 22,
   "metadata": {},
   "outputs": [
    {
     "name": "stdout",
     "output_type": "stream",
     "text": [
      "请输入一个整数6\n",
      "888888\n"
     ]
    }
   ],
   "source": [
    "import math,random\n",
    "a = random.randint(1,9)\n",
    "n = int(input(\"请输入一个整数\"))\n",
    "def sum(a,n):\n",
    "    i = 0\n",
    "    total = 0\n",
    "    while i< n:\n",
    "        i=i+1\n",
    "        total = total + a\n",
    "        a = a* 10\n",
    "    return total\n",
    "print(sum(a,n))"
   ]
  },
  {
   "cell_type": "code",
   "execution_count": 1,
   "metadata": {},
   "outputs": [
    {
     "name": "stdout",
     "output_type": "stream",
     "text": [
      "请输入一个0至100的整数，由电脑猜测5\n",
      "57\n",
      "请输入大或小大\n",
      "1\n",
      "请输入大或小小\n",
      "20\n",
      "请输入大或小大\n",
      "你猜的数是 5\n"
     ]
    }
   ],
   "source": [
    "import random\n",
    "a= 0\n",
    "b =100\n",
    "n = int(input(\"请输入一个0至100的整数，由电脑猜测\"))\n",
    "m = random.randint(a,b)\n",
    "while m!=n:\n",
    "    print(m)\n",
    "    k=input(\"请输入大或小\")\n",
    "    if k ==\"大\":\n",
    "        b = m\n",
    "        m = random.randint(a,b)\n",
    "    if k == \"小\":\n",
    "        a = m\n",
    "        m = random.randint(a,b)\n",
    "print(\"你猜的数是\",m)\n",
    "       \n",
    "    "
   ]
  }
 ],
 "metadata": {
  "kernelspec": {
   "display_name": "Python 3",
   "language": "python",
   "name": "python3"
  },
  "language_info": {
   "codemirror_mode": {
    "name": "ipython",
    "version": 3
   },
   "file_extension": ".py",
   "mimetype": "text/x-python",
   "name": "python",
   "nbconvert_exporter": "python",
   "pygments_lexer": "ipython3",
   "version": "3.6.0"
  }
 },
 "nbformat": 4,
 "nbformat_minor": 2
}
