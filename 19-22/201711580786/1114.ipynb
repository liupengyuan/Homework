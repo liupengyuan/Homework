{
 "cells": [
  {
   "cell_type": "code",
   "execution_count": 36,
   "metadata": {},
   "outputs": [
    {
     "name": "stdout",
     "output_type": "stream",
     "text": [
      "(1066.3, -10, 899)\n"
     ]
    }
   ],
   "source": [
    "numbers=[1,2,-1,55,100,899,-10,3,12.5,5.8]\n",
    "def number() :\n",
    "    total = 0\n",
    "    j=0\n",
    "    for i in numbers:\n",
    "        if j == 0 :\n",
    "            max_m = i\n",
    "            min_m = i\n",
    "            j = j+1\n",
    "            continue\n",
    "        else :\n",
    "            if i > max_m:\n",
    "                max_m = i\n",
    "            if i < min_m:\n",
    "                min_m = i\n",
    "        total = total + i\n",
    "    return total,min_m,max_m\n",
    "print (number())\n",
    "\n",
    "    \n",
    "        "
   ]
  }
 ],
 "metadata": {
  "kernelspec": {
   "display_name": "Python 3",
   "language": "python",
   "name": "python3"
  },
  "language_info": {
   "codemirror_mode": {
    "name": "ipython",
    "version": 3
   },
   "file_extension": ".py",
   "mimetype": "text/x-python",
   "name": "python",
   "nbconvert_exporter": "python",
   "pygments_lexer": "ipython3",
   "version": "3.6.0"
  }
 },
 "nbformat": 4,
 "nbformat_minor": 2
}
