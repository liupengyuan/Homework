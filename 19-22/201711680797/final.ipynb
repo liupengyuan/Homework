{
 "cells": [
  {
   "cell_type": "code",
   "execution_count": 35,
   "metadata": {},
   "outputs": [
    {
     "name": "stdout",
     "output_type": "stream",
     "text": [
      "请输入你想打印的行数5\n",
      "请输入你想打印的图案*\n",
      "        * ***** *                 \n",
      "      * * ***** * *             \n",
      "    * * * ***** * * *         \n",
      "  * * * * ***** * * * *     \n",
      "* * * * * ***** * * * * * \n"
     ]
    }
   ],
   "source": [
    "#1、（10分）写函数，有两个形式参数: 符号和行数，可打印多行字符图形。\n",
    "l=int(input('请输入你想打印的行数'))\n",
    "s=input('请输入你想打印的图案')\n",
    "line=s*l\n",
    "for i in range(1, l+1):\n",
    "    for k in range(l-i,0,-1):\n",
    "        print('  ', end='')\n",
    "    for j in range(1,i+1):\n",
    "        print(s, end=' ')\n",
    "    print(s*l, end=' ')\n",
    "    for j in range(1,i+1):\n",
    "        print(s, end=' ')\n",
    "    for k in range(l-i,0,-1):\n",
    "        print('   ', end=' ')\n",
    "    print()"
   ]
  },
  {
   "cell_type": "code",
   "execution_count": 55,
   "metadata": {},
   "outputs": [
    {
     "name": "stdout",
     "output_type": "stream",
     "text": [
      "请输入m的值3\n",
      "请输入n的值4\n",
      "None\n",
      "None\n",
      "None\n",
      "None\n",
      "None\n"
     ]
    }
   ],
   "source": [
    "#2、（10分）Ackermann函数定义如下，请实现该函数，并计算A(3,4)。\n",
    "m=int(input('请输入m的值'))\n",
    "n=int(input('请输入n的值'))\n",
    "end=0\n",
    "def Ackermann_1(m,n):\n",
    "    if m>0 and n==0:\n",
    "        m=m-1\n",
    "        n=1\n",
    "        return\n",
    "    elif m>0 and n>0:\n",
    "        n=n-1\n",
    "        print(Ackermann(m,n))\n",
    "        m=m-1\n",
    "        return\n",
    "    elif m==0:\n",
    "        end=n+1\n",
    "def Ackermann(m,n):\n",
    "    if m>0 and n==0:\n",
    "        m=m-1\n",
    "        n=1\n",
    "        return\n",
    "    elif m>0 and n>0:\n",
    "        m=m-1\n",
    "        n=n-1\n",
    "        print(Ackermann_1(m,n))\n",
    "        return\n",
    "    elif m==0:\n",
    "        end=n+1\n",
    "        \n",
    "print(Ackermann(m,n))    "
   ]
  },
  {
   "cell_type": "code",
   "execution_count": 11,
   "metadata": {},
   "outputs": [
    {
     "name": "stdout",
     "output_type": "stream",
     "text": [
      "11 - 10 =\n",
      "10 / 9 =\n",
      "23 - 14 =\n",
      "25 - 14 =\n",
      "24 * 8 =\n",
      "24 / 15 =\n",
      "13 / 8 =\n",
      "26 / 21 =\n",
      "23 * 15 =\n",
      "19 + 8 =\n",
      "13 * 5 =\n",
      "20 * 9 =\n",
      "22 - 17 =\n",
      "21 - 6 =\n",
      "20 - 17 =\n"
     ]
    }
   ],
   "source": [
    "#（a）（15分）打印所有题目，每行一道题（给定参数n=15, a=3, b= 25）。\n",
    "for i in range(0,15):\n",
    "    import math,random\n",
    "    f=['+','-','*','/']\n",
    "    t=random.randint(0,3)\n",
    "    k=f[t]       #随机出加减乘除符号\n",
    "    m=random.randint(3,26)\n",
    "    n=random.randint(3,26)\n",
    "    if m<n:\n",
    "        m,n=n,m  #让大的数永远在前面，这样保证结果一定大于0\n",
    "    print(m,k,n,'=')\n",
    "\n"
   ]
  },
  {
   "cell_type": "code",
   "execution_count": 56,
   "metadata": {},
   "outputs": [
    {
     "ename": "SyntaxError",
     "evalue": "invalid syntax (<ipython-input-56-ba15234cf222>, line 14)",
     "output_type": "error",
     "traceback": [
      "\u001b[1;36m  File \u001b[1;32m\"<ipython-input-56-ba15234cf222>\"\u001b[1;36m, line \u001b[1;32m14\u001b[0m\n\u001b[1;33m    if answer_p=mkn:\u001b[0m\n\u001b[1;37m               ^\u001b[0m\n\u001b[1;31mSyntaxError\u001b[0m\u001b[1;31m:\u001b[0m invalid syntax\n"
     ]
    }
   ],
   "source": [
    "'''\n",
    "（b）（10 分）用户键盘输入答案，答对一道加减法题目得 5 分，答对一道乘\n",
    "除法题目得10分，答错不得分，程序自动计算并输出最终得分。限定用户一次\n",
    "输入所有答案，逗号分隔，示意如下：12,34,22,....21\n",
    "'''\n",
    "#用户一次性输入答案保存在列表中\n",
    "answer_p=[]\n",
    "answer_p=[input('请一次输入所有答案，逗号分隔')]\n",
    "print(answer_p)\n",
    "#以上程序可正常输出\n",
    "\n",
    "score=0\n",
    "import math,random\n",
    "if answer_p=mkn:\n",
    "    print('加5分')\n",
    "    score=score+5\n",
    "elif answer_p==mkn:\n",
    "    print('加10分')\n",
    "    score=score+10\n",
    "else:\n",
    "    score==score\n",
    "print('得分:',score)\n",
    "\n"
   ]
  },
  {
   "cell_type": "code",
   "execution_count": null,
   "metadata": {},
   "outputs": [],
   "source": [
    "'''\n",
    "（c）（15分）答题机器人，可以接受从键盘输入的n道四则运算题目（题目要\n",
    "求与前类似，用户来出题），用户首先输入题目个数n，然后用户每输入一个题\n",
    "目，机器人将自动运算得出结果。n道题输入完毕后，根据（b）中的分数规则，\n",
    "计算总得分输出。令n=10,四则运算都有，用户输入的题目格式示例为：5*14=\n",
    "'''\n",
    "n=int(input('请输入题目的个数'))\n",
    "q=input('请输入一道四则运算题')\n",
    "q=\n",
    "score=0\n",
    "while i<5:\n",
    "    import math,random\n",
    "    m=random.randint(1,10)\n",
    "    n=random.randint(1,10)\n",
    "    print(m,'+',n,'=')\n",
    "    end=int(input('请输入答案'))\n",
    "    if end==m+n:\n",
    "        score=score+5\n",
    "    else:\n",
    "        print()\n",
    "    i+=5\n",
    "print('得分',score)\n"
   ]
  },
  {
   "cell_type": "code",
   "execution_count": 14,
   "metadata": {},
   "outputs": [
    {
     "ename": "NameError",
     "evalue": "name 'fr' is not defined",
     "output_type": "error",
     "traceback": [
      "\u001b[1;31m---------------------------------------------------------------------------\u001b[0m",
      "\u001b[1;31mNameError\u001b[0m                                 Traceback (most recent call last)",
      "\u001b[1;32m<ipython-input-14-b0e4001caf79>\u001b[0m in \u001b[0;36m<module>\u001b[1;34m()\u001b[0m\n\u001b[0;32m      7\u001b[0m \u001b[1;32mwith\u001b[0m \u001b[0mopen\u001b[0m\u001b[1;33m(\u001b[0m\u001b[1;34mr'd:\\temp\\utf-8'\u001b[0m\u001b[1;33m,\u001b[0m \u001b[1;34m'w'\u001b[0m\u001b[1;33m)\u001b[0m \u001b[1;32mas\u001b[0m \u001b[0mf\u001b[0m\u001b[1;33m:\u001b[0m\u001b[1;33m\u001b[0m\u001b[0m\n\u001b[0;32m      8\u001b[0m     \u001b[0mA\u001b[0m\u001b[1;33m=\u001b[0m\u001b[1;33m[\u001b[0m\u001b[1;33m]\u001b[0m\u001b[1;33m\u001b[0m\u001b[0m\n\u001b[1;32m----> 9\u001b[1;33m     \u001b[1;32mfor\u001b[0m \u001b[0mline\u001b[0m \u001b[1;32min\u001b[0m \u001b[0mfr\u001b[0m\u001b[1;33m:\u001b[0m\u001b[1;33m\u001b[0m\u001b[0m\n\u001b[0m\u001b[0;32m     10\u001b[0m         \u001b[1;32mif\u001b[0m \u001b[0mlen\u001b[0m\u001b[1;33m(\u001b[0m\u001b[0mword\u001b[0m\u001b[1;33m)\u001b[0m \u001b[1;33m==\u001b[0m \u001b[1;36m4\u001b[0m\u001b[1;33m:\u001b[0m\u001b[1;33m\u001b[0m\u001b[0m\n\u001b[0;32m     11\u001b[0m             \u001b[0mA\u001b[0m\u001b[1;33m.\u001b[0m\u001b[0mappend\u001b[0m\u001b[1;33m(\u001b[0m\u001b[0mword\u001b[0m\u001b[1;33m)\u001b[0m\u001b[1;33m\u001b[0m\u001b[0m\n",
      "\u001b[1;31mNameError\u001b[0m: name 'fr' is not defined"
     ]
    }
   ],
   "source": [
    "'''\n",
    "（a）（10分）写程序，读入成语文件，并提取出所有四字成语，形成集合A。\n",
    "（ 由 于 成 语 文 件 编 码 为 u t f - 8 因 此 ：\n",
    "用 w i t h o p e n ( f il e n a m e , e n c o d i n g = ' u t f - 8 ' ) a s f : 来 打 开 文 件 ， 其 中\n",
    "fil e n a m e 是 路 径 及 文 件 全 名 。 ）\n",
    "'''\n",
    "with open(r'd:\\temp\\utf-8', 'w') as f:\n",
    "    A=[]\n",
    "    for line in fr:\n",
    "        if len(word) == 4:\n",
    "            A.append(word)\n",
    "    print(A)"
   ]
  },
  {
   "cell_type": "code",
   "execution_count": null,
   "metadata": {},
   "outputs": [],
   "source": [
    "'''\n",
    "（b）（10分）统计A 中所有成语在语料库文件中出现的频次。输出频次最高\n",
    "的20个成语及其频次。（如第一问没有做出，可用之前教程8.md中的成语库）\n",
    "'''\n",
    "def count_ping(utf-8, words):\n",
    "    word_f = []\n",
    "    with open(utf-8) as f:\n",
    "        text = f.read()\n",
    "    for word in A:\n",
    "        number = text.count(word)\n",
    "        word_f.append([word, number])\n",
    "    return word_f\n",
    "\n",
    "words_freq = count_ping(filename, table)\n",
    "\n",
    "print(count_ping())"
   ]
  },
  {
   "cell_type": "code",
   "execution_count": 54,
   "metadata": {},
   "outputs": [
    {
     "ename": "IndentationError",
     "evalue": "unexpected indent (<ipython-input-54-b224c51bd630>, line 6)",
     "output_type": "error",
     "traceback": [
      "\u001b[1;36m  File \u001b[1;32m\"<ipython-input-54-b224c51bd630>\"\u001b[1;36m, line \u001b[1;32m6\u001b[0m\n\u001b[1;33m    words = [word.split('/')[0] for word in text.split()]\u001b[0m\n\u001b[1;37m    ^\u001b[0m\n\u001b[1;31mIndentationError\u001b[0m\u001b[1;31m:\u001b[0m unexpected indent\n"
     ]
    }
   ],
   "source": [
    "'''\n",
    "（c）（5分）统计语料库得到每个词类的词的总频次（如ns算一类， v算一类..）\n",
    "并输出到屏幕。\n",
    "\n",
    "'''\n",
    "def count_words_freq_dict(filename):\n",
    "    words_freq_dict = {}\n",
    "    \n",
    "    with open(filename) as f:\n",
    "        for line in f:\n",
    "            words = [word.split('/')[0] for word in line.split()]\n",
    "            for word in words:\n",
    "                if word in words_freq_dict: \n",
    "                    words_freq_dict[word] += 1\n",
    "                else:                     \n",
    "                    words_freq_dict[word] = 1\n",
    "                    \n",
    "    return words_freq_dict\n",
    "\n",
    "filename = r'd:\\temp\\语料.txt'\n",
    "table = count_words_freq_dict(filename)\n",
    "\n",
    "for i, item in enumerate(table):\n",
    "    print(item, table[item])\n",
    "    if i==20:\n",
    "        break"
   ]
  },
  {
   "cell_type": "code",
   "execution_count": null,
   "metadata": {},
   "outputs": [],
   "source": [
    "'''\n",
    "（d）（5分）统计语料库得到所有词类为nr的词（不重复），并输出到屏幕。\n",
    "\n",
    "'''\n",
    "words = [word.split('/')[0] for word in text.split()]\n",
    "for word in words:\n",
    "    for item in word_freq_pairs:\n",
    "    if word == item[0]:\n",
    "        item[1] += 1\n",
    "        break\n",
    "    else:\n",
    "        word_freq_pairs.append([word, 1])\n",
    "        return word_freq_pairs\n",
    "filename = r'd:\\temp\\成语.txt'\n",
    "table = count_words_freq()\n",
    "print(table)"
   ]
  },
  {
   "cell_type": "code",
   "execution_count": null,
   "metadata": {},
   "outputs": [],
   "source": [
    "'''\n",
    "（e）（5 分）统计语料库及 A，得到词（成语）表及字表，打印语料库词表中\n",
    "所有词的长度之和/语料库字表长度；打印 A 的所有词的长度之和/A 的字表长\n",
    "度。（如第一问没有做出，可用之前教程8.md中的成语库）\n",
    "'''\n",
    "import Counter\n",
    "\n",
    "def count_words_freq_dict(utf-8):\n",
    "    words_freq_dict = Counter(utf-8)\n",
    "    \n",
    "    with open(utf-8) as f:\n",
    "        for line in f:\n",
    "            words_freq_dict.update([word.split('/')[0] for word in line.split()])\n",
    "    return words_freq_dict\n",
    "\n",
    "def main():\n",
    "    filename = r'd:\\temp\\成语.txt'\n",
    "    table = count_words_freq_dict(filename)\n",
    "    print(table.most_common())\n",
    "\n",
    "if __name__ == '__main__':\n",
    "    print(main())"
   ]
  },
  {
   "cell_type": "code",
   "execution_count": null,
   "metadata": {},
   "outputs": [],
   "source": [
    "'''\n",
    "（f）（5 分）挑战性开放式题目。新型接龙，方式为：一个成语，接一个二字\n",
    "词，接一个成语...例如：千钧一发 发生 生生不息 息影 影只形单 单飞 飞珠溅\n",
    "玉 玉石 石破天惊...。成语在A中，二字词由统计语料库词表中得到。要求键盘\n",
    "输入一个成语，计算机能给出接龙序列（不产生回路），思考并实现一种使该序\n",
    "列尽可能长（无需确实是最长序列）的方法。成语以万马奔腾为例。（如第一问\n",
    "没有做出，可用之前教程8.md中的成语库）\n",
    "'''\n",
    "import random\n",
    "    \n",
    "def get_ch_table(line):\n",
    "    ch_table = []\n",
    "    for ch in line:\n",
    "        if ch not in ch_table:\n",
    "            ch_table.append(ch)\n",
    "    return ch_table\n",
    "\n",
    "def idiom_robot(file_name):\n",
    "    with open(file_name) as fh:\n",
    "        text = fh.read()\n",
    "    idioms = text.split()\n",
    "    idiom = random.choice(idioms)\n",
    "    chs = get_ch_table(text.replace('\\n', ''))\n",
    "\n",
    "    guess_ch_table = [ch for ch in idiom]\n",
    "    while len(guess_ch_table) < 6:\n",
    "        ch = random.choice(chs)\n",
    "        if ch not in guess_ch_table:\n",
    "            guess_ch_table.append(ch)\n",
    "    \n",
    "    random.shuffle(guess_ch_table)\n",
    "    \n",
    "    for i in range(0,6,2):\n",
    "        print(guess_ch_table[i], guess_ch_table[i+1])\n",
    "    \n",
    "    return idiom\n",
    "\n",
    "def main():\n",
    "    filename = r'd:\\temp\\idioms_correct.txt'\n",
    "    score = 10\n",
    "    while score >= 0:\n",
    "        real_idiom = idiom_robot(filename)\n",
    "        answer_idiom = input('请输入猜测成语，回车结束，直接回车表示退出游戏：')\n",
    "        if answer_idiom == real_idiom:\n",
    "                return\n",
    "        elif answer_idiom == '':\n",
    "            return\n",
    "    "
   ]
  },
  {
   "cell_type": "code",
   "execution_count": null,
   "metadata": {},
   "outputs": [],
   "source": []
  }
 ],
 "metadata": {
  "kernelspec": {
   "display_name": "Python 3",
   "language": "python",
   "name": "python3"
  },
  "language_info": {
   "codemirror_mode": {
    "name": "ipython",
    "version": 3
   },
   "file_extension": ".py",
   "mimetype": "text/x-python",
   "name": "python",
   "nbconvert_exporter": "python",
   "pygments_lexer": "ipython3",
   "version": "3.6.0"
  }
 },
 "nbformat": 4,
 "nbformat_minor": 2
}
