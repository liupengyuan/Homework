{
 "cells": [
  {
   "cell_type": "code",
   "execution_count": 23,
   "metadata": {},
   "outputs": [
    {
     "ename": "TypeError",
     "evalue": "count() takes exactly one argument (0 given)",
     "output_type": "error",
     "traceback": [
      "\u001b[1;31m---------------------------------------------------------------------------\u001b[0m",
      "\u001b[1;31mTypeError\u001b[0m                                 Traceback (most recent call last)",
      "\u001b[1;32m<ipython-input-23-7d94638f399a>\u001b[0m in \u001b[0;36m<module>\u001b[1;34m()\u001b[0m\n\u001b[0;32m     10\u001b[0m     \u001b[0ms\u001b[0m\u001b[1;33m.\u001b[0m\u001b[0mappend\u001b[0m\u001b[1;33m(\u001b[0m\u001b[0mnum\u001b[0m\u001b[1;33m)\u001b[0m\u001b[1;33m\u001b[0m\u001b[0m\n\u001b[0;32m     11\u001b[0m \u001b[1;31m#求其中每个整数出现的次数\u001b[0m\u001b[1;33m\u001b[0m\u001b[1;33m\u001b[0m\u001b[0m\n\u001b[1;32m---> 12\u001b[1;33m \u001b[0mprint\u001b[0m\u001b[1;33m(\u001b[0m\u001b[0ms\u001b[0m\u001b[1;33m.\u001b[0m\u001b[0mcount\u001b[0m\u001b[1;33m(\u001b[0m\u001b[1;33m)\u001b[0m\u001b[1;33m)\u001b[0m\u001b[1;33m\u001b[0m\u001b[0m\n\u001b[0m\u001b[0;32m     13\u001b[0m \u001b[1;31m#并按照整数大小排序输出整数及出现次数\u001b[0m\u001b[1;33m\u001b[0m\u001b[1;33m\u001b[0m\u001b[0m\n\u001b[0;32m     14\u001b[0m \u001b[1;33m\u001b[0m\u001b[0m\n",
      "\u001b[1;31mTypeError\u001b[0m: count() takes exactly one argument (0 given)"
     ]
    }
   ],
   "source": [
    "'''\n",
    "2、随机生成1万个整数，范围在0-10万之间，求其中每个整数出现的次数。\n",
    "并按照整数大小排序输出整数及出现次数。\n",
    "'''\n",
    "#随机生成1万个整数，范围在0-10万之间\n",
    "import random\n",
    "s=[]\n",
    "for i in range(1,10001):\n",
    "    num=random.randint(1,100001)\n",
    "    s.append(num)\n",
    "#求其中每个整数出现的次数\n",
    "print(s.count())\n",
    "#并按照整数大小排序输出整数及出现次数\n",
    "    "
   ]
  },
  {
   "cell_type": "code",
   "execution_count": 11,
   "metadata": {},
   "outputs": [
    {
     "ename": "IndentationError",
     "evalue": "unindent does not match any outer indentation level (<tokenize>, line 14)",
     "output_type": "error",
     "traceback": [
      "\u001b[1;36m  File \u001b[1;32m\"<tokenize>\"\u001b[1;36m, line \u001b[1;32m14\u001b[0m\n\u001b[1;33m    if i == \"b\":\u001b[0m\n\u001b[1;37m    ^\u001b[0m\n\u001b[1;31mIndentationError\u001b[0m\u001b[1;31m:\u001b[0m unindent does not match any outer indentation level\n"
     ]
    }
   ],
   "source": [
    "'''\n",
    "3、对本任务中的语料.txt文件，抽取其5001-10000行存为test1.txt文件，写函数，\n",
    "可得到其与本任务中test.txt文件的共用字以及独用字（相关概念自行百度）。\n",
    "'''\n",
    "with open (r'd:\\temp\\语料.txt') as f:\n",
    "    for i in range(5001,10001):\n",
    "    content = f.read()\n",
    "    aCounter = 0\n",
    "    bCounter = 0\n",
    "    for i in content:\n",
    "         if i == \"a\":\n",
    "            aCounter += 1\n",
    "            print \"1\"\n",
    "        if i == \"b\":\n",
    "            bCounter += 1\n",
    "            print \"2\"\n",
    "    print \"a的个数\"+str(aCounter)\n",
    "    print \"b的个数\"+str(bCounter)"
   ]
  },
  {
   "cell_type": "code",
   "execution_count": null,
   "metadata": {},
   "outputs": [],
   "source": [
    "'''\n",
    "4、挑战性任务：统计本任务中的语料.txt文件，得到每一个词对应不同词性的频次，可表示为：\n",
    "{词:[['n',1000], ['v', 98]...],...}，即在dict对象中，key为词，value为列表，\n",
    "输出词频最高的50个条目。\n",
    "'''\n",
    "def count_words_freq_dict(filename):\n",
    "    words_freq_dict = {}\n",
    "    \n",
    "    with open(filename) as f:\n",
    "        for line in f:\n",
    "            words = [word.split('/')[0] for word in line.split()]\n",
    "            for word in words:\n",
    "                if word in words_freq_dict: \n",
    "                    words_freq_dict[word] += 1\n",
    "                else:                     \n",
    "                    words_freq_dict[word] = 1\n",
    "                    \n",
    "    return words_freq_dict\n",
    "\n",
    "filename = r'd:\\temp\\语料.txt'\n",
    "table = count_words_freq_dict(filename)\n",
    "\n",
    "for i, item in enumerate(table):\n",
    "    print(item, table[item])\n",
    "    if i==20:\n",
    "        break"
   ]
  }
 ],
 "metadata": {
  "kernelspec": {
   "display_name": "Python 3",
   "language": "python",
   "name": "python3"
  },
  "language_info": {
   "codemirror_mode": {
    "name": "ipython",
    "version": 3
   },
   "file_extension": ".py",
   "mimetype": "text/x-python",
   "name": "python",
   "nbconvert_exporter": "python",
   "pygments_lexer": "ipython3",
   "version": "3.6.0"
  }
 },
 "nbformat": 4,
 "nbformat_minor": 2
}
