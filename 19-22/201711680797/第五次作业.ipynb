{
 "cells": [
  {
   "cell_type": "code",
   "execution_count": 10,
   "metadata": {},
   "outputs": [
    {
     "name": "stdout",
     "output_type": "stream",
     "text": [
      "请输入一个正整数2\n",
      "请输入一个正整数10\n",
      "请输入一个正整数5\n",
      "第 1 个随机整数为 8\n",
      "第 2 个随机整数为 9\n",
      "这 2 个随机整数均值的平方根为 2.9154759474226504\n"
     ]
    }
   ],
   "source": [
    "#写函数，求n个随机整数均值的平方根，整数范围在m与k之间（n,m,k由用户输入）#\n",
    "n=int(input('请输入一个正整数'))\n",
    "m=int(input('请输入一个正整数'))\n",
    "k=int(input('请输入一个正整数'))\n",
    "if m>k:\n",
    "    m,k=k,m\n",
    "    import random,math\n",
    "    total=0\n",
    "    i=0\n",
    "    while i<n:\n",
    "        num=random.randint(m,k)\n",
    "        total=total+num\n",
    "        print('第',i+1,'个随机整数为',num)\n",
    "        i=i+1\n",
    "    print('这',n,'个随机整数均值的平方根为',math.sqrt(total/n))\n",
    "else:\n",
    "    import random,math\n",
    "    total=0\n",
    "    i=0\n",
    "    while i<n:\n",
    "        num=random.randint(m,k)\n",
    "        total=total+num\n",
    "        print('第',i+1,'个随机整数为',num)\n",
    "        i=i+1\n",
    "    print('这',n,'个随机整数均值的平方根为',math.sqrt(total/n))"
   ]
  },
  {
   "cell_type": "code",
   "execution_count": 3,
   "metadata": {},
   "outputs": [
    {
     "name": "stdout",
     "output_type": "stream",
     "text": [
      "请输入一个正整数2\n",
      "请输入一个正整数10\n",
      "请输入一个正整数5\n",
      "这 2 个随机整数对数的和为 4.382026634673881 对数倒数的和为 2.5649289173434875\n"
     ]
    }
   ],
   "source": [
    "#写函数，共n个随机整数，整数范围在m与k之间，（n,m,k由用户输入）。求1：西格玛log(随机整数)，2：西格玛1/log(随机整数)#\n",
    "n=int(input('请输入一个正整数'))\n",
    "m=int(input('请输入一个正整数'))\n",
    "k=int(input('请输入一个正整数'))\n",
    "import random,math\n",
    "if m>k:\n",
    "    m,k=k,m\n",
    "    import random,math\n",
    "    total=0\n",
    "    tol=0\n",
    "    i=0\n",
    "    while i<n:\n",
    "        num=math.log(random.randint(m,k))\n",
    "        total=total+num\n",
    "        tol=tol+math.log(num)**(-1)\n",
    "        i=i+1\n",
    "    print('这',n,'个随机整数对数的和为',total,'对数倒数的和为',tol)\n",
    "else:\n",
    "    import random,math\n",
    "    total=0\n",
    "    tol=0\n",
    "    i=0\n",
    "    while i<n:\n",
    "        num=math.log(random.randint(m,k))\n",
    "        total=total+num\n",
    "        tol=tol+math.log(num)**(-1)\n",
    "        i=i+1\n",
    "    print('这',n,'个随机整数对数的和为',total,'对数倒数的和为',tol)"
   ]
  },
  {
   "cell_type": "code",
   "execution_count": 43,
   "metadata": {},
   "outputs": [
    {
     "name": "stdout",
     "output_type": "stream",
     "text": [
      "输入你想相加的数的个数3\n",
      "a的值为 7\n",
      "s的值为 861\n"
     ]
    }
   ],
   "source": [
    "#写函数，求s=a+aa+aaa+aaaa+aa...a的值，其中a是[1,9]之间的随机整数。例如2+22+222+2222+22222(此时共有5个数相加)，几个数相加由键盘输入#\n",
    "n=int(input('输入你想相加的数的个数'))\n",
    "import random\n",
    "a=random.randint(1,9)\n",
    "print('a的值为',a)\n",
    "s=0\n",
    "i=0\n",
    "time=0\n",
    "while i<n:\n",
    "    time=a*10**(i)+time\n",
    "    s=s+time\n",
    "    i=i+1\n",
    "print('s的值为',s)"
   ]
  },
  {
   "cell_type": "code",
   "execution_count": null,
   "metadata": {},
   "outputs": [],
   "source": [
    "#仿照task5，将猜数游戏改成由用户随便选择一个整数，让计算机来猜测的猜数游戏，要求和task5中人猜测的方法类似，但是人机角色对换，由人来判断猜测是大、小还是相等，请写出完整的猜数游戏#\n",
    "print('亲!你的电脑想和你玩猜数游戏呢~')\n",
    "k=int(input('请输入猜数范围的下界'))\n",
    "t=int(input('请输入猜数范围的上界'))\n",
    "m=int(input('请输入一个数让你的电脑来猜~'))\n",
    "print('好啦，电脑要开始猜数啦~')\n",
    "import random\n",
    "n=random.randint(k,t)\n",
    "if n>m:\n",
    "    print\n"
   ]
  },
  {
   "cell_type": "code",
   "execution_count": null,
   "metadata": {},
   "outputs": [],
   "source": []
  }
 ],
 "metadata": {
  "kernelspec": {
   "display_name": "Python 3",
   "language": "python",
   "name": "python3"
  },
  "language_info": {
   "codemirror_mode": {
    "name": "ipython",
    "version": 3
   },
   "file_extension": ".py",
   "mimetype": "text/x-python",
   "name": "python",
   "nbconvert_exporter": "python",
   "pygments_lexer": "ipython3",
   "version": "3.6.0"
  }
 },
 "nbformat": 4,
 "nbformat_minor": 2
}
