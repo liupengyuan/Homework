{
 "cells": [
  {
   "cell_type": "code",
   "execution_count": 2,
   "metadata": {},
   "outputs": [
    {
     "name": "stdout",
     "output_type": "stream",
     "text": [
      "请输入一个正整数3\n",
      "和为 10\n"
     ]
    }
   ],
   "source": [
    "#第一题\n",
    "def com_han(m):\n",
    "    i=1\n",
    "    n=0\n",
    "    total_n=0\n",
    "    while i<=m:\n",
    "        n=n+i\n",
    "        total_n=total_n+n\n",
    "        i+=1\n",
    "    print('和为',total_n)\n",
    "        \n",
    "\n",
    "m=int(input('请输入一个正整数'))\n",
    "com_han(m)"
   ]
  },
  {
   "cell_type": "code",
   "execution_count": null,
   "metadata": {},
   "outputs": [],
   "source": [
    "#第二题\n",
    "\n",
    "def com_qu(m,n):\n",
    "    m=int(input('请输入你想打印的图案'))\n",
    "    n=int(input('请输入你想打印的行数'))\n",
    "    end=(print())\n",
    "    \n",
    "    "
   ]
  },
  {
   "cell_type": "code",
   "execution_count": null,
   "metadata": {},
   "outputs": [],
   "source": [
    "#第三题\n",
    "\n",
    "def com_1(n):\n",
    "    int(input('请输入一个整数'))\n",
    "    "
   ]
  },
  {
   "cell_type": "code",
   "execution_count": 6,
   "metadata": {},
   "outputs": [
    {
     "name": "stdout",
     "output_type": "stream",
     "text": [
      "请输入队员的人数9\n",
      "请输入队员的身高183\n",
      "请输入队员的身高185\n",
      "请输入队员的身高183\n",
      "请输入队员的身高187\n",
      "请输入队员的身高178\n",
      "请输入队员的身高175\n",
      "请输入队员的身高177\n",
      "请输入队员的身高190\n",
      "请输入队员的身高172\n",
      "[183, 185, 183, 187, 178, 175, 177, 190, 172]\n",
      "高于平均值的身高为 183\n",
      "高于平均值的身高为 185\n",
      "高于平均值的身高为 183\n",
      "高于平均值的身高为 187\n",
      "高于平均值的身高为 190\n",
      "平均身高为 181.11111111111111\n"
     ]
    }
   ],
   "source": [
    "#第四题\n",
    "numbers=[]\n",
    "n=int(input('请输入队员的人数'))\n",
    "i=0\n",
    "while i<n:\n",
    "    hi=int(input('请输入队员的身高'))\n",
    "    numbers.append(hi)\n",
    "    i+=1\n",
    "print(numbers)\n",
    "total = 0\n",
    "for number in numbers:\n",
    "    total += number\n",
    "ave=total/n\n",
    "for number in numbers:\n",
    "    if number>ave:\n",
    "        print('高于平均值的身高为',number)\n",
    "print('平均身高为',ave)"
   ]
  },
  {
   "cell_type": "code",
   "execution_count": 9,
   "metadata": {},
   "outputs": [
    {
     "name": "stdout",
     "output_type": "stream",
     "text": [
      "8 + 5 =\n",
      "请输入答案13\n",
      "你做对啦\n",
      "3 + 10 =\n",
      "请输入答案13\n",
      "你做对啦\n",
      "5 + 1 =\n",
      "请输入答案6\n",
      "你做对啦\n",
      "9 + 5 =\n",
      "请输入答案14\n",
      "你做对啦\n",
      "7 + 8 =\n",
      "请输入答案15\n",
      "你做对啦\n",
      "得分 100\n"
     ]
    }
   ],
   "source": [
    "#第五题\n",
    "i=0\n",
    "score=0\n",
    "while i<5:\n",
    "    import math,random\n",
    "    m=random.randint(1,10)\n",
    "    n=random.randint(1,10)\n",
    "    print(m,'+',n,'=')\n",
    "    end=int(input('请输入答案'))\n",
    "    if end==m+n:\n",
    "        print('你做对啦')\n",
    "        score=score+20\n",
    "    else:\n",
    "        print('你做错啦')\n",
    "    i+=1\n",
    "print('得分',score)"
   ]
  },
  {
   "cell_type": "code",
   "execution_count": 12,
   "metadata": {},
   "outputs": [
    {
     "name": "stdout",
     "output_type": "stream",
     "text": [
      "108 88\n"
     ]
    }
   ],
   "source": [
    "#第六题\n",
    "\n",
    "words=[3,-5,9,108,34,-76,88]\n",
    "m=words[0]\n",
    "n=words[0]\n",
    "i=1\n",
    "while i<len(words):\n",
    "    if words[i]>m:\n",
    "        m=words[i]\n",
    "    elif words[i]<m:\n",
    "        n=words[i]\n",
    "    i+=1\n",
    "        \n",
    "print(m,n)"
   ]
  }
 ],
 "metadata": {
  "kernelspec": {
   "display_name": "Python 3",
   "language": "python",
   "name": "python3"
  },
  "language_info": {
   "codemirror_mode": {
    "name": "ipython",
    "version": 3
   },
   "file_extension": ".py",
   "mimetype": "text/x-python",
   "name": "python",
   "nbconvert_exporter": "python",
   "pygments_lexer": "ipython3",
   "version": "3.6.0"
  }
 },
 "nbformat": 4,
 "nbformat_minor": 2
}
