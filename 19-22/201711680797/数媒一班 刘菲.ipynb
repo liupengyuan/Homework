{
 "cells": [
  {
   "cell_type": "code",
   "execution_count": 2,
   "metadata": {},
   "outputs": [
    {
     "name": "stdout",
     "output_type": "stream",
     "text": [
      "请输入你的名字，以回车结束liu\n",
      "请输入你的出生月份，以回车结束7\n",
      "请输入你的出生日期，以回车结束6\n",
      "liu 你是个巨蟹宝宝！\n"
     ]
    }
   ],
   "source": [
    "name=input('请输入你的名字，以回车结束')\n",
    "m=int(input('请输入你的出生月份，以回车结束'))\n",
    "n=int(input('请输入你的出生日期，以回车结束'))\n",
    "if m==2 and n>=19  or  m==3 and n<=20:\n",
    "    print(name,'你是个双鱼宝宝！')\n",
    "elif m==3 and n>=21  or  m==4 and n<=19:\n",
    "    print(name,'你是个白羊宝宝！')\n",
    "elif m==4 and n>=20  or  m==5 and n<=20:\n",
    "    print(name,'你是个金牛宝宝！')\n",
    "elif m==5 and n>=21  or  m==6 and n<=21:\n",
    "    print(name,'你是个双子宝宝！')\n",
    "elif m==6 and n>=22  or  m==7 and n<=22:\n",
    "    print(name,'你是个巨蟹宝宝！')\n",
    "elif m==7 and n>=23  or  m==8 and n<=22:\n",
    "    print(name,'你是个狮子宝宝！')\n",
    "elif m==8 and n>=23  or  m==9 and n<=22:\n",
    "    print(name,'你是个处女宝宝！')\n",
    "elif m==9 and n>=23  or  m==10 and n<=23:\n",
    "    print(name,'你是个天秤宝宝！')\n",
    "elif m==10 and n>=24  or  m==11 and n<=22:\n",
    "    print(name,'你是个天蝎宝宝！')\n",
    "elif m==11 and n>=23  or  m==12 and n<=21:\n",
    "    print(name,'你是个射手宝宝！')\n",
    "elif m==12 and n>=22  or  m==1 and n<=19:\n",
    "    print(name,'你是个摩羯宝宝！')\n",
    "elif m==1 and n>=20  or  m==2 and n<=18:\n",
    "    print(name,'你是个水瓶宝宝！')"
   ]
  },
  {
   "cell_type": "code",
   "execution_count": 7,
   "metadata": {},
   "outputs": [
    {
     "name": "stdout",
     "output_type": "stream",
     "text": [
      "请输入一个整数8\n",
      "请输入一个不为零的整数3\n",
      "请根据需求输入句子前的数字：1 计算从m到n的和 2 计算从m到n的积 3 计算m除以n的余数的值 4 计算m整除n的值4\n",
      "2\n"
     ]
    }
   ],
   "source": [
    "m=int(input('请输入一个整数'))\n",
    "n=int(input('请输入一个不为零的整数'))\n",
    "i=int(input('请根据需求输入句子前的数字：1 计算从m到n的和 2 计算从m到n的积 3 计算m除以n的余数的值 4 计算m整除n的值'))\n",
    "if i==1:\n",
    "    print(m+n)\n",
    "elif i==2:\n",
    "    print(m*n)\n",
    "elif i==3:\n",
    "    print(m%n)\n",
    "elif i==4:\n",
    "    print(m//n)"
   ]
  },
  {
   "cell_type": "code",
   "execution_count": 2,
   "metadata": {},
   "outputs": [
    {
     "name": "stdout",
     "output_type": "stream",
     "text": [
      "请输入一个英语单词的单数形式picture\n",
      "pictures\n"
     ]
    }
   ],
   "source": [
    "i=input('请输入一个英语单词的单数形式')\n",
    "if i.endswith('s') or i.endswith('sh') or i.endswith('ch') or i.endswith('x'):\n",
    "    print(i,'es',sep='')\n",
    "else:\n",
    "    print(i,'s',sep='')"
   ]
  },
  {
   "cell_type": "code",
   "execution_count": null,
   "metadata": {},
   "outputs": [],
   "source": []
  }
 ],
 "metadata": {
  "kernelspec": {
   "display_name": "Python 3",
   "language": "python",
   "name": "python3"
  },
  "language_info": {
   "codemirror_mode": {
    "name": "ipython",
    "version": 3
   },
   "file_extension": ".py",
   "mimetype": "text/x-python",
   "name": "python",
   "nbconvert_exporter": "python",
   "pygments_lexer": "ipython3",
   "version": "3.6.0"
  }
 },
 "nbformat": 4,
 "nbformat_minor": 2
}
