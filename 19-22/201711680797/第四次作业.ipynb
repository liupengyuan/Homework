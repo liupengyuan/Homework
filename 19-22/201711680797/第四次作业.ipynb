{
 "cells": [
  {
   "cell_type": "code",
   "execution_count": 1,
   "metadata": {},
   "outputs": [
    {
     "name": "stdout",
     "output_type": "stream",
     "text": [
      "请输入第一个正整数2\n",
      "请输入第二个正整数3\n",
      "请输入第三个正整数4\n",
      "32\n"
     ]
    }
   ],
   "source": [
    "def com_cheng(end):\n",
    "    i=1\n",
    "    total_m=1\n",
    "    while i<end:\n",
    "        i=i+1\n",
    "        total_m=total_m*i\n",
    "    return total_m\n",
    "\n",
    "m=int(input('请输入第一个正整数'))\n",
    "n=int(input('请输入第二个正整数'))\n",
    "k=int(input('请输入第三个正整数'))\n",
    "print(com_cheng(m)+com_cheng(n)+com_cheng(k))"
   ]
  },
  {
   "cell_type": "code",
   "execution_count": null,
   "metadata": {},
   "outputs": [],
   "source": []
  },
  {
   "cell_type": "code",
   "execution_count": null,
   "metadata": {},
   "outputs": [],
   "source": []
  },
  {
   "cell_type": "code",
   "execution_count": 8,
   "metadata": {},
   "outputs": [
    {
     "name": "stdout",
     "output_type": "stream",
     "text": [
      "3.140592653839794\n",
      "3.1415826535897198\n"
     ]
    }
   ],
   "source": [
    "def com_han(end):\n",
    "    i=1\n",
    "    total_n=1\n",
    "    while i<end:\n",
    "        i=i+1\n",
    "        total_n=total_n+((-1)**(i-1))*(1/(2*i-1))\n",
    "    return total_n\n",
    "\n",
    "n=1000\n",
    "print(4*com_han(n)) \n",
    "\n",
    "n=100000\n",
    "print(4*com_han(n))"
   ]
  },
  {
   "cell_type": "code",
   "execution_count": 10,
   "metadata": {},
   "outputs": [
    {
     "name": "stdout",
     "output_type": "stream",
     "text": [
      "请输入你的名字，以回车结束liu\n",
      "请输入你的出生月份，以回车结束7\n",
      "请输入你的出生日期，以回车结束6\n",
      "liu 你是个巨蟹宝宝！\n",
      "None\n"
     ]
    }
   ],
   "source": [
    "def com_xing(m,n):\n",
    "    if m==2 and n>=19  or  m==3 and n<=20:\n",
    "        print(name,'你是个双鱼宝宝！')\n",
    "    elif m==3 and n>=21  or  m==4 and n<=19:\n",
    "        print(name,'你是个白羊宝宝！')\n",
    "    elif m==4 and n>=20  or  m==5 and n<=20:\n",
    "        print(name,'你是个金牛宝宝！')\n",
    "    elif m==5 and n>=21  or  m==6 and n<=21:\n",
    "        print(name,'你是个双子宝宝！')\n",
    "    elif m==6 and n>=22  or  m==7 and n<=22:\n",
    "        print(name,'你是个巨蟹宝宝！')\n",
    "    elif m==7 and n>=23  or  m==8 and n<=22:\n",
    "        print(name,'你是个狮子宝宝！')\n",
    "    elif m==8 and n>=23  or  m==9 and n<=22:\n",
    "        print(name,'你是个处女宝宝！')\n",
    "    elif m==9 and n>=23  or  m==10 and n<=23:\n",
    "        print(name,'你是个天秤宝宝！')\n",
    "    elif m==10 and n>=24  or  m==11 and n<=22:\n",
    "        print(name,'你是个天蝎宝宝！')\n",
    "    elif m==11 and n>=23  or  m==12 and n<=21:\n",
    "        print(name,'你是个射手宝宝！')\n",
    "    elif m==12 and n>=22  or  m==1 and n<=19:\n",
    "        print(name,'你是个摩羯宝宝！')\n",
    "    elif m==1 and n>=20  or  m==2 and n<=18:\n",
    "        print(name,'你是个水瓶宝宝！')\n",
    "\n",
    "name=input('请输入你的名字，以回车结束')\n",
    "m=int(input('请输入你的出生月份，以回车结束'))\n",
    "n=int(input('请输入你的出生日期，以回车结束'))\n",
    "print(com_xing(m,n))"
   ]
  },
  {
   "cell_type": "code",
   "execution_count": 12,
   "metadata": {},
   "outputs": [
    {
     "name": "stdout",
     "output_type": "stream",
     "text": [
      "请输入一个英语单词的单数形式picture\n",
      "pictures\n",
      "None\n"
     ]
    }
   ],
   "source": [
    "def com_eng(i):\n",
    "    if i.endswith('s') or i.endswith('sh') or i.endswith('ch') or i.endswith('x'):\n",
    "        print(i,'es',sep='')\n",
    "    else:\n",
    "        print(i,'s',sep='')\n",
    "\n",
    "i=input('请输入一个英语单词的单数形式')\n",
    "print(com_eng(i))"
   ]
  }
 ],
 "metadata": {
  "kernelspec": {
   "display_name": "Python 3",
   "language": "python",
   "name": "python3"
  },
  "language_info": {
   "codemirror_mode": {
    "name": "ipython",
    "version": 3
   },
   "file_extension": ".py",
   "mimetype": "text/x-python",
   "name": "python",
   "nbconvert_exporter": "python",
   "pygments_lexer": "ipython3",
   "version": "3.6.0"
  }
 },
 "nbformat": 4,
 "nbformat_minor": 2
}
