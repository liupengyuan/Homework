{
 "cells": [
  {
   "cell_type": "code",
   "execution_count": 17,
   "metadata": {},
   "outputs": [
    {
     "name": "stdout",
     "output_type": "stream",
     "text": [
      "平均值为 106.72999999999999\n"
     ]
    }
   ],
   "source": [
    "#写函数，返回一个list中的最大值，最小值，平均值。（不用内置的求和求函数）\n",
    "numbers=[1,2,-1,55,100,899,-10,3,12.5,5.8]\n",
    "total=0\n",
    "for number in numbers:\n",
    "    total += number\n",
    "print('平均值为',total/len(numbers))"
   ]
  },
  {
   "cell_type": "code",
   "execution_count": null,
   "metadata": {},
   "outputs": [],
   "source": []
  },
  {
   "cell_type": "code",
   "execution_count": 16,
   "metadata": {},
   "outputs": [
    {
     "name": "stdout",
     "output_type": "stream",
     "text": [
      "最大值为 899 最小值为 -10\n"
     ]
    }
   ],
   "source": [
    "numbers=[1,2,-1,55,100,899,-10,3,12.5,5.8]\n",
    "a=numbers[0]\n",
    "b=numbers[0]\n",
    "for number in numbers:\n",
    "    if number>a:\n",
    "        a=number\n",
    "    elif number<b:\n",
    "        b=number\n",
    "print('最大值为',a,'最小值为',b)"
   ]
  },
  {
   "cell_type": "code",
   "execution_count": 15,
   "metadata": {},
   "outputs": [
    {
     "name": "stdout",
     "output_type": "stream",
     "text": [
      "平均值为 106.72999999999999\n",
      "最大值为 899 最小值为 -10\n",
      "None\n"
     ]
    }
   ],
   "source": [
    "def com_da(numbers):\n",
    "    numbers=[1,2,-1,55,100,899,-10,3,12.5,5.8]\n",
    "    total=0\n",
    "    for number in numbers:\n",
    "        total += number\n",
    "    print('平均值为',total/len(numbers))\n",
    "    numbers=[1,2,-1,55,100,899,-10,3,12.5,5.8]\n",
    "    a=numbers[0]\n",
    "    b=numbers[0]\n",
    "    for number in numbers:\n",
    "        if number>a:\n",
    "            a=number\n",
    "        elif number<b:\n",
    "            b=number\n",
    "    print('最大值为',a,'最小值为',b)\n",
    "\n",
    "print(com_da(numbers))"
   ]
  }
 ],
 "metadata": {
  "kernelspec": {
   "display_name": "Python 3",
   "language": "python",
   "name": "python3"
  }
 },
 "nbformat": 4,
 "nbformat_minor": 2
}
