{
 "cells": [
  {
   "cell_type": "code",
   "execution_count": 17,
   "metadata": {},
   "outputs": [
    {
     "name": "stdout",
     "output_type": "stream",
     "text": [
      "请输入字符串zxcvbnmm\n",
      "\n",
      "该字符串的倒序字符串为 mmnbvcxz\n"
     ]
    }
   ],
   "source": [
    "#练习一：自己定义一个reverse(s)函数，功能返回字符串s的倒序字符串。\n",
    "s=str()\n",
    "def reverse(s):\n",
    "    l=input(prompt='请输入字符串')\n",
    "    x=len(l)\n",
    "    s=l[x-1::-1]\n",
    "    print()\n",
    "    return s\n",
    "print('该字符串的倒序字符串为',reverse(s))"
   ]
  },
  {
   "cell_type": "code",
   "execution_count": 23,
   "metadata": {},
   "outputs": [
    {
     "name": "stdout",
     "output_type": "stream",
     "text": [
      "请输入你想打印的符号*\n",
      "请输入你想打印的行数9\n",
      "请输入你想打印的三角形类型前的数字 1.直角三角形 2.等腰三角形 3.钝角三角形2\n",
      "        * \n",
      "       * * \n",
      "      * * * \n",
      "     * * * * \n",
      "    * * * * * \n",
      "   * * * * * * \n",
      "  * * * * * * * \n",
      " * * * * * * * * \n",
      "* * * * * * * * * \n"
     ]
    }
   ],
   "source": [
    "#练习二：写函数，根据给定符号和行数，打印相应直角三角形，等腰三角形及其他形式的三角形。\n",
    "s=input(prompt='请输入你想打印的符号')\n",
    "l=int(input('请输入你想打印的行数'))\n",
    "def san_jiao(s,l):\n",
    "    a=int(input('请输入你想打印的三角形类型前的数字 1.直角三角形 2.等腰三角形 3.钝角三角形'))\n",
    "    if a==1:\n",
    "        for i in range(1, l+1):\n",
    "            for j in range(1,i+1):\n",
    "                print(s, end=' ')\n",
    "            print()\n",
    "    elif a==2:\n",
    "        for i in range(1, l+1):\n",
    "            for k in range(l-i,0,-1):\n",
    "                print(' ', end='')\n",
    "            for j in range(1,i+1):\n",
    "                print(s, end=' ')\n",
    "            print()\n",
    "    else:\n",
    "        l=9\n",
    "        for i in range(1, l+1):\n",
    "            for k in range(l-i,0,-1):\n",
    "                print('  ', end='  ')\n",
    "            for j in range(1,i+1):\n",
    "                print(s, end='  ')\n",
    "            print()\n",
    "\n",
    "        \n",
    "san_jiao(s,l)\n"
   ]
  },
  {
   "cell_type": "code",
   "execution_count": 46,
   "metadata": {},
   "outputs": [
    {
     "name": "stdout",
     "output_type": "stream",
     "text": [
      "请输入你想打印的符号*\n",
      "请输入你想打印的菱形的类型前的数字 1.实心菱形 2.空心菱形1\n",
      "   *   \n",
      "  ***  \n",
      " ***** \n",
      "*******\n",
      " ***** \n",
      "  ***  \n",
      "   *   \n"
     ]
    }
   ],
   "source": [
    "#练习五：写函数，根据给定符号，打印各种菱形。\n",
    "s=input(prompt='请输入你想打印的符号')\n",
    "def ling_xing(s):\n",
    "    a=int(input('请输入你想打印的菱形的类型前的数字 1.实心菱形 2.空心菱形'))\n",
    "    if a==1:\n",
    "        for i in range(1, 8, 2):\n",
    "            print((s*i).center(9))\n",
    "        for i in reversed(range(1, 6, 2)):\n",
    "            print((s*i).center(9))\n",
    "    else:\n",
    "        print('空心的菱形我不会啊啊啊啊啊啊啊')\n",
    "ling_xing(s)"
   ]
  },
  {
   "cell_type": "code",
   "execution_count": null,
   "metadata": {},
   "outputs": [],
   "source": []
  },
  {
   "cell_type": "code",
   "execution_count": null,
   "metadata": {},
   "outputs": [],
   "source": []
  }
 ],
 "metadata": {
  "kernelspec": {
   "display_name": "Python 3",
   "language": "python",
   "name": "python3"
  },
  "language_info": {
   "codemirror_mode": {
    "name": "ipython",
    "version": 3
   },
   "file_extension": ".py",
   "mimetype": "text/x-python",
   "name": "python",
   "nbconvert_exporter": "python",
   "pygments_lexer": "ipython3",
   "version": "3.6.0"
  }
 },
 "nbformat": 4,
 "nbformat_minor": 2
}
