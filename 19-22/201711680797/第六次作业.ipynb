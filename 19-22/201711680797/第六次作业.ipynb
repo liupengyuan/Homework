{
 "cells": [
  {
   "cell_type": "code",
   "execution_count": 8,
   "metadata": {},
   "outputs": [
    {
     "name": "stdout",
     "output_type": "stream",
     "text": [
      "请输入元素或对象4\n",
      "3\n"
     ]
    }
   ],
   "source": [
    "#写函数，返回某个元素/对象在一个list中的位置，如果不在，则返回-1.\n",
    "words = [1, 2, 3, 4, 5]\n",
    "n = int(input('请输入元素或对象'))\n",
    "if n in words:\n",
    "    i=0\n",
    "    while i<len(words):\n",
    "        m=words[i]\n",
    "        i+=1\n",
    "        if m==n:\n",
    "            print(i-1)\n",
    "else:\n",
    "    print(-1)"
   ]
  },
  {
   "cell_type": "code",
   "execution_count": 7,
   "metadata": {},
   "outputs": [
    {
     "name": "stdout",
     "output_type": "stream",
     "text": [
      "[1, 5, 2, 6, 3, 7, 4, 8]\n"
     ]
    }
   ],
   "source": [
    "#写函数，可将两个相同长度的list，间隔插入，生成新的list。例如：给两个list，a=[1,2,3,4], b=[5,6,7,8]。则可以生成：[1,5,2,6,3,7,4,8]。\n",
    "a=[1,2,3,4]\n",
    "b=[5,6,7,8]\n",
    "i=0\n",
    "m=[]\n",
    "while i<len(a):\n",
    "    n=m.append(a[i])\n",
    "    n=m.append(b[i])\n",
    "    i+=1\n",
    "print(m)"
   ]
  },
  {
   "cell_type": "code",
   "execution_count": 19,
   "metadata": {},
   "outputs": [
    {
     "name": "stdout",
     "output_type": "stream",
     "text": [
      "请输入一个整数1\n",
      "请输入一个整数2\n",
      "请输入一个整数3\n",
      "请输入一个整数4\n",
      "0.9838699100999074\n"
     ]
    }
   ],
   "source": [
    "#写函数，可求两个向量的夹角余弦值，向量可放在list中。主程序调用该函数。\n",
    "x=int(input('请输入一个整数'))\n",
    "y=int(input('请输入一个整数'))\n",
    "z=int(input('请输入一个整数'))\n",
    "w=int(input('请输入一个整数'))\n",
    "a=[(x,y)]\n",
    "b=[(z,w)]\n",
    "\n",
    "def com_x(n):\n",
    "    j=x*z+y*w\n",
    "    q1=(x**2+y**2)**(1/2)\n",
    "    q2=(z**2+w**2)**(1/2)\n",
    "    n=j/(q1*q2)\n",
    "    return n\n",
    "\n",
    "\n",
    "print(com_x(n))"
   ]
  },
  {
   "cell_type": "code",
   "execution_count": 20,
   "metadata": {},
   "outputs": [
    {
     "data": {
      "text/plain": [
       "'\\n挑战性习题：python语言老师为了激励学生学python，自费买了100个完全相同的Macbook Pro，分给三个班级，\\n每个班级至少分5个，用穷举法计算共有多少种分法？\\n'"
      ]
     },
     "execution_count": 20,
     "metadata": {},
     "output_type": "execute_result"
    }
   ],
   "source": [
    "'''\n",
    "挑战性习题：python语言老师为了激励学生学python，\n",
    "自费买了100个完全相同的Macbook Pro，分给三个班级，\n",
    "每个班级至少分5个，用穷举法计算共有多少种分法？\n",
    "'''"
   ]
  },
  {
   "cell_type": "code",
   "execution_count": null,
   "metadata": {},
   "outputs": [],
   "source": []
  },
  {
   "cell_type": "code",
   "execution_count": null,
   "metadata": {},
   "outputs": [],
   "source": []
  }
 ],
 "metadata": {
  "kernelspec": {
   "display_name": "Python 3",
   "language": "python",
   "name": "python3"
  }
 },
 "nbformat": 4,
 "nbformat_minor": 2
}
