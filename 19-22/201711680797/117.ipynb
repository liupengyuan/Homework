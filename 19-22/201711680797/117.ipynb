{
 "cells": [
  {
   "cell_type": "code",
   "execution_count": 3,
   "metadata": {},
   "outputs": [
    {
     "name": "stdout",
     "output_type": "stream",
     "text": [
      "write a number5\n",
      "write a number10\n",
      "write a number500\n",
      "16.1245154965971\n"
     ]
    }
   ],
   "source": [
    "\n",
    "m=int(input('write a number'))\n",
    "n=int(input('write a number'))\n",
    "k=int(input('write a number'))\n",
    "\n",
    "import random\n",
    "\n",
    "number = random.randint(n, k)\n",
    "\n",
    "i=0\n",
    "total=0\n",
    "while i<m:\n",
    "    total=total+number\n",
    "    i=i+1\n",
    "print(total**0.5)\n",
    "\n"
   ]
  },
  {
   "cell_type": "code",
   "execution_count": null,
   "metadata": {},
   "outputs": [],
   "source": []
  }
 ],
 "metadata": {
  "kernelspec": {
   "display_name": "Python 3",
   "language": "python",
   "name": "python3"
  },
  "language_info": {
   "codemirror_mode": {
    "name": "ipython",
    "version": 3
   },
   "file_extension": ".py",
   "mimetype": "text/x-python",
   "name": "python",
   "nbconvert_exporter": "python",
   "pygments_lexer": "ipython3",
   "version": "3.6.0"
  }
 },
 "nbformat": 4,
 "nbformat_minor": 2
}
