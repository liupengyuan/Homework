{
 "cells": [
  {
   "cell_type": "code",
   "execution_count": 1,
   "metadata": {},
   "outputs": [],
   "source": [
    "#第一题"
   ]
  },
  {
   "cell_type": "code",
   "execution_count": 8,
   "metadata": {},
   "outputs": [
    {
     "name": "stdout",
     "output_type": "stream",
     "text": [
      "输入项数5\n",
      "35\n"
     ]
    }
   ],
   "source": [
    "def fx(numbers,a):\n",
    "    i=0\n",
    "    total=0\n",
    "    n=0\n",
    "    while i<a:\n",
    "        i+=1\n",
    "        total+=i\n",
    "    numbers.append(total)\n",
    "    for o in range(a):\n",
    "        total=total-i\n",
    "        i-=1\n",
    "        numbers.append(total)\n",
    "    \n",
    "    for total in numbers:\n",
    "        n+=total\n",
    "    return n\n",
    "    \n",
    "numbers=[]\n",
    "m=int(input('输入项数'))\n",
    "\n",
    "print(fx(numbers,m))"
   ]
  },
  {
   "cell_type": "code",
   "execution_count": 7,
   "metadata": {},
   "outputs": [],
   "source": [
    "#第二题"
   ]
  },
  {
   "cell_type": "code",
   "execution_count": 22,
   "metadata": {},
   "outputs": [
    {
     "name": "stdout",
     "output_type": "stream",
     "text": [
      "输入5\n",
      "*\n",
      "**\n",
      "***\n",
      "****\n",
      "*****\n"
     ]
    }
   ],
   "source": [
    "def fx(m,n):\n",
    "    i=0\n",
    "    while i<n:\n",
    "        \n",
    "        i+=1\n",
    "        print(m*i)\n",
    "        \n",
    "n=int(input('输入'))\n",
    "fx('*',n)"
   ]
  },
  {
   "cell_type": "code",
   "execution_count": 23,
   "metadata": {},
   "outputs": [],
   "source": [
    "#第三题"
   ]
  },
  {
   "cell_type": "code",
   "execution_count": 2,
   "metadata": {},
   "outputs": [
    {
     "name": "stdout",
     "output_type": "stream",
     "text": [
      "48723478234432\n"
     ]
    },
    {
     "data": {
      "text/plain": [
       "4"
      ]
     },
     "execution_count": 2,
     "metadata": {},
     "output_type": "execute_result"
    }
   ],
   "source": [
    "def fx(a):\n",
    "    a=str(a)\n",
    "    n=len(a)\n",
    "    a=int(a)\n",
    "   \n",
    "    t=a//(10**(n-1))\n",
    "    return t\n",
    "m=int(input())\n",
    "fx(m)"
   ]
  },
  {
   "cell_type": "code",
   "execution_count": 40,
   "metadata": {},
   "outputs": [],
   "source": [
    "#第四题"
   ]
  },
  {
   "cell_type": "code",
   "execution_count": 45,
   "metadata": {},
   "outputs": [
    {
     "name": "stdout",
     "output_type": "stream",
     "text": [
      "183\n",
      "185\n",
      "183\n",
      "187\n",
      "178\n",
      "175\n",
      "177\n",
      "190\n",
      "172\n",
      "平均值是 181.11111111111111\n",
      "183\n",
      "185\n",
      "183\n",
      "187\n",
      "190\n"
     ]
    }
   ],
   "source": [
    "numbers=[]\n",
    "i=0\n",
    "total=0\n",
    "while i<9:\n",
    "    m=int(input())\n",
    "    numbers.append(m)\n",
    "    i+=1\n",
    "for number in numbers:\n",
    "    total+=number\n",
    "n=total/9\n",
    "print('平均值是',n)\n",
    "\n",
    "for number in numbers:\n",
    "    if number>n:\n",
    "        print(number)\n",
    "    "
   ]
  },
  {
   "cell_type": "code",
   "execution_count": 46,
   "metadata": {},
   "outputs": [],
   "source": [
    "#第五题"
   ]
  },
  {
   "cell_type": "code",
   "execution_count": 1,
   "metadata": {},
   "outputs": [
    {
     "name": "stdout",
     "output_type": "stream",
     "text": [
      "2 + 9\n",
      "写出你的计算结果11\n",
      "9 + 5\n",
      "写出你的计算结果14\n",
      "1 + 9\n",
      "写出你的计算结果10\n",
      "5 + 0\n",
      "写出你的计算结果5\n",
      "5 + 0\n",
      "写出你的计算结果0\n",
      "你的分数是 80\n"
     ]
    }
   ],
   "source": [
    "import random\n",
    "f=0\n",
    "i=0\n",
    "while i<5:\n",
    "    m=random.randint(0,10)\n",
    "    n=random.randint(0,10)\n",
    "    print(m,'+',n)\n",
    "    t=m+n\n",
    "    \n",
    "    \n",
    "    x=int(input('写出你的计算结果'))\n",
    "    if x==t:\n",
    "        f+=20\n",
    "    else:\n",
    "        f=f\n",
    "    i+=1\n",
    "print('你的分数是',f)"
   ]
  },
  {
   "cell_type": "code",
   "execution_count": 1,
   "metadata": {},
   "outputs": [],
   "source": [
    "#第六题"
   ]
  },
  {
   "cell_type": "code",
   "execution_count": 27,
   "metadata": {},
   "outputs": [
    {
     "name": "stdout",
     "output_type": "stream",
     "text": [
      "[3, 9, 108, 34, -5, -76, 88]\n"
     ]
    }
   ],
   "source": [
    "def fx(numbers):\n",
    "    \n",
    "    for i in range(len(numbers)-2):\n",
    "        if numbers[i]<numbers[i+1]:\n",
    "            numbers[i],numbers[i+1]=numbers[i+1],numbers[i]\n",
    "            \n",
    "    \n",
    "    return numbers\n",
    "\n",
    "numbers=[3,-5,9,108,34,-76,88]\n",
    "print(fx(numbers))\n"
   ]
  },
  {
   "cell_type": "code",
   "execution_count": null,
   "metadata": {},
   "outputs": [],
   "source": []
  }
 ],
 "metadata": {
  "kernelspec": {
   "display_name": "Python 3",
   "language": "python",
   "name": "python3"
  },
  "language_info": {
   "codemirror_mode": {
    "name": "ipython",
    "version": 3
   },
   "file_extension": ".py",
   "mimetype": "text/x-python",
   "name": "python",
   "nbconvert_exporter": "python",
   "pygments_lexer": "ipython3",
   "version": "3.6.3"
  }
 },
 "nbformat": 4,
 "nbformat_minor": 2
}
