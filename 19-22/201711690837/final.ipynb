{
 "cells": [
  {
   "cell_type": "code",
   "execution_count": 14,
   "metadata": {},
   "outputs": [
    {
     "name": "stdout",
     "output_type": "stream",
     "text": [
      "*\n",
      "5\n",
      "         * ***** * \n",
      "       * * ***** * * \n",
      "     * * * ***** * * * \n",
      "   * * * * ***** * * * * \n",
      " * * * * * ***** * * * * * \n"
     ]
    }
   ],
   "source": [
    "def fx(a,b):\n",
    "    for i in range(b):\n",
    "        print(' '*(2*(b-i)-2)+(' '+a)*(i+1)+' '+a*b+' '+(a+' ')*(i+1))\n",
    "\n",
    "a=input()\n",
    "b=int(input())\n",
    "fx(a,b)"
   ]
  },
  {
   "cell_type": "code",
   "execution_count": 16,
   "metadata": {},
   "outputs": [
    {
     "ename": "SyntaxError",
     "evalue": "unexpected EOF while parsing (<ipython-input-16-172d097fe03d>, line 2)",
     "output_type": "error",
     "traceback": [
      "\u001b[1;36m  File \u001b[1;32m\"<ipython-input-16-172d097fe03d>\"\u001b[1;36m, line \u001b[1;32m2\u001b[0m\n\u001b[1;33m    if m==0:\u001b[0m\n\u001b[1;37m            ^\u001b[0m\n\u001b[1;31mSyntaxError\u001b[0m\u001b[1;31m:\u001b[0m unexpected EOF while parsing\n"
     ]
    }
   ],
   "source": [
    "def A():\n",
    "    if m==0:\n",
    "        return n+1\n",
    "    elif m>0 and n==0:\n",
    "        while m!=0:\n",
    "            m-=1\n",
    "            n=1\n",
    "            \n",
    "    elif m>0 and n>0:\n",
    "        m-=1\n",
    "        n=A(m,n-1)\n",
    "    "
   ]
  },
  {
   "cell_type": "code",
   "execution_count": 11,
   "metadata": {},
   "outputs": [
    {
     "name": "stdout",
     "output_type": "stream",
     "text": [
      "[15, '-', 7]\n",
      "[16, '+', 25]\n",
      "[7, '-', 4]\n",
      "[25, '-', 20]\n",
      "[21, '+', 8]\n",
      "[19, '+', 12]\n",
      "[23, '+', 8]\n",
      "[18, '*', 5]\n",
      "[7, '+', 19]\n",
      "[3, '+', 20]\n",
      "[22, '*', 25]\n",
      "[17, '*', 18]\n",
      "[15, '+', 16]\n",
      "[9, '-', 4]\n",
      "[10, '+', 25]\n"
     ]
    }
   ],
   "source": [
    "import random\n",
    "def sx(x,a,b): \n",
    "    list3=[]\n",
    "    while len(list3)<x:\n",
    "        m=random.randint(a,b)\n",
    "        n=random.randint(a,b)\n",
    "        list1=[m*n,m+n,m-n,m/n]\n",
    "        list2=[[m,'*',n],[m,'+',n],[m,'-',n],[m,'/',n]]\n",
    "        q=random.randint(0,3)\n",
    "        if list1[q]>0 and list1[q]%1==0:\n",
    "            if list2[q] not in list3:\n",
    "                list3.append(list2[q])\n",
    "                print(list2[q])\n",
    "            else:\n",
    "                pass\n",
    "sx(15,3,25)"
   ]
  },
  {
   "cell_type": "code",
   "execution_count": 20,
   "metadata": {},
   "outputs": [
    {
     "name": "stdout",
     "output_type": "stream",
     "text": [
      "[4, '*', 4]\n",
      "[13, '-', 3]\n",
      "[5, '+', 21]\n",
      "[17, '-', 7]\n",
      "[14, '+', 7]\n",
      "[8, '+', 20]\n",
      "[19, '*', 14]\n",
      "[18, '+', 19]\n",
      "[23, '*', 12]\n",
      "[14, '*', 4]\n",
      "[23, '-', 11]\n",
      "[16, '+', 6]\n",
      "[7, '*', 3]\n",
      "[13, '+', 6]\n",
      "[19, '*', 25]\n"
     ]
    }
   ],
   "source": [
    "import random\n",
    "def sx(x,a,b): \n",
    "    list3=[]\n",
    "    list4=[]\n",
    "    N=0\n",
    "    while len(list3)<x:\n",
    "        m=random.randint(a,b)\n",
    "        n=random.randint(a,b)\n",
    "        list1=[m*n,m+n,m-n,m/n]\n",
    "        list2=[[m,'*',n],[m,'+',n],[m,'-',n],[m,'/',n]]\n",
    "        q=random.randint(0,3)\n",
    "        if list1[q]>0 and list1[q]%1==0:\n",
    "            if list2[q] not in list3:\n",
    "                list3.append(list2[q])\n",
    "                if q=list4.append(list1[q])\n",
    "                print(list2[q])\n",
    "                        \n",
    "            else:\n",
    "                pass\n",
    "sx(15,3,25)"
   ]
  },
  {
   "cell_type": "code",
   "execution_count": null,
   "metadata": {},
   "outputs": [],
   "source": [
    "A=int(input())\n",
    "A1=list(A)\n",
    "for i in range(n):\n",
    "    if A[i]==list4[i]\n",
    "        N+=5\n",
    "print('分数是',A)"
   ]
  },
  {
   "cell_type": "code",
   "execution_count": 21,
   "metadata": {},
   "outputs": [
    {
     "name": "stdout",
     "output_type": "stream",
     "text": [
      "2*3\n"
     ]
    }
   ],
   "source": [
    "for i in range(n):\n",
    "    e=input()\n",
    "    lista=[]\n",
    "\n",
    "    if '*' in e:\n",
    "        e=list(e)\n",
    "        lista.append(int(e[0])*int(e[2]))\n",
    "        u+=10\n",
    "    if '/' in e:\n",
    "    "
   ]
  },
  {
   "cell_type": "code",
   "execution_count": null,
   "metadata": {},
   "outputs": [],
   "source": [
    "list1=[]\n",
    "with open(r'C:\\Users\\成语大全(含成语解释)_utf8.txt',encoding='utf-8') as f:\n",
    "    text=f.read()\n",
    "    for line in text:\n",
    "        words=[word.split('') for word in line.split()]\n",
    "        words.split('')"
   ]
  },
  {
   "cell_type": "code",
   "execution_count": 16,
   "metadata": {},
   "outputs": [],
   "source": [
    "with open(r'C:\\Users\\Administrator\\Desktop\\idioms.txt') as f:\n",
    "    text=f.read()\n",
    "    text = text.replace('、', '')\n",
    "    idioms = text.split('\\n')\n",
    "with open(r'C:\\Users\\Administrator\\Desktop\\test_re_gbk.txt') as fh:\n",
    "    text2=fh.read()\n",
    "    words = [word.split('/')[0] for word in text2.split()]\n",
    "idioms=list(idioms)\n",
    "words=list(words)\n",
    "dict={}\n",
    "for i in range(len(idioms)):\n",
    "    n=words.count(idioms[i])\n",
    "    dict[idioms[i]]=n\n",
    "            "
   ]
  },
  {
   "cell_type": "code",
   "execution_count": null,
   "metadata": {},
   "outputs": [],
   "source": []
  }
 ],
 "metadata": {
  "kernelspec": {
   "display_name": "Python 3",
   "language": "python",
   "name": "python3"
  },
  "language_info": {
   "codemirror_mode": {
    "name": "ipython",
    "version": 3
   },
   "file_extension": ".py",
   "mimetype": "text/x-python",
   "name": "python",
   "nbconvert_exporter": "python",
   "pygments_lexer": "ipython3",
   "version": "3.6.3"
  }
 },
 "nbformat": 4,
 "nbformat_minor": 2
}
