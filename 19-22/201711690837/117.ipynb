{
 "cells": [
  {
   "cell_type": "code",
   "execution_count": 14,
   "metadata": {
    "collapsed": false
   },
   "outputs": [
    {
     "name": "stdout",
     "output_type": "stream",
     "text": [
      "5\n",
      "10\n",
      "500\n",
      "35.679125549822544\n"
     ]
    }
   ],
   "source": [
    "import random,math\n",
    "def fx(a,b,c):\n",
    "    i=0\n",
    "    total=0\n",
    "    if b>c:\n",
    "        t=b\n",
    "        b=c\n",
    "        c=t\n",
    "        \n",
    "    while i<a:\n",
    "        number=random.randint(b,c)\n",
    "        i+=1\n",
    "        total=total+number\n",
    "        \n",
    "   \n",
    "    return math.sqrt(total)\n",
    "\n",
    "m=int(input())\n",
    "n=int(input())\n",
    "k=int(input())\n",
    "print(fx(m,n,k))\n",
    "    \n",
    "    "
   ]
  },
  {
   "cell_type": "code",
   "execution_count": null,
   "metadata": {
    "collapsed": true
   },
   "outputs": [],
   "source": []
  }
 ],
 "metadata": {
  "kernelspec": {
   "display_name": "Python 3",
   "language": "python",
   "name": "python3"
  },
  "language_info": {
   "codemirror_mode": {
    "name": "ipython",
    "version": 3
   },
   "file_extension": ".py",
   "mimetype": "text/x-python",
   "name": "python",
   "nbconvert_exporter": "python",
   "pygments_lexer": "ipython3",
   "version": "3.6.0"
  }
 },
 "nbformat": 4,
 "nbformat_minor": 2
}
