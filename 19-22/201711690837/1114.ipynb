{
 "cells": [
  {
   "cell_type": "code",
   "execution_count": 14,
   "metadata": {},
   "outputs": [
    {
     "name": "stdout",
     "output_type": "stream",
     "text": [
      "10\n",
      "1\n",
      "2\n",
      "-1\n",
      "55\n",
      "899\n",
      "100\n",
      "-10\n",
      "12.5\n",
      "5.8\n",
      "3\n",
      "(899.0, -10.0, 106.72999999999999, 1067.3)\n"
     ]
    }
   ],
   "source": [
    "def fx(numbers,n):\n",
    "    \n",
    "    m=int(input())\n",
    "    numbers.append(m)\n",
    "    s=m\n",
    "    total=m\n",
    "    for i in range(n-1):\n",
    "        number=float(input())\n",
    "        numbers.append(number)\n",
    "        if number>m:\n",
    "            m=number\n",
    "        if number<s:\n",
    "            s=number\n",
    "        \n",
    "        total+=number\n",
    "    pingjun=total/10.0\n",
    "    return m,s,pingjun,total\n",
    "n=int(input())    \n",
    "numbers=[]\n",
    "print(fx(numbers,n))\n",
    "\n",
    "\n",
    "   "
   ]
  }
 ],
 "metadata": {
  "kernelspec": {
   "display_name": "Python 3",
   "language": "python",
   "name": "python3"
  },
  "language_info": {
   "codemirror_mode": {
    "name": "ipython",
    "version": 3
   },
   "file_extension": ".py",
   "mimetype": "text/x-python",
   "name": "python",
   "nbconvert_exporter": "python",
   "pygments_lexer": "ipython3",
   "version": "3.6.3"
  }
 },
 "nbformat": 4,
 "nbformat_minor": 2
}
