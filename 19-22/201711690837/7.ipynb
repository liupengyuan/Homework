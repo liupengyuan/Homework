{
 "cells": [
  {
   "cell_type": "code",
   "execution_count": 1,
   "metadata": {},
   "outputs": [],
   "source": [
    "#自己定义一个reverse(s)函数，功能返回字符串s的倒序字符串。"
   ]
  },
  {
   "cell_type": "code",
   "execution_count": 2,
   "metadata": {},
   "outputs": [
    {
     "data": {
      "text/plain": [
       "'1,2,3,6,5,4,'"
      ]
     },
     "execution_count": 2,
     "metadata": {},
     "output_type": "execute_result"
    }
   ],
   "source": [
    "def reverse(s):\n",
    "    for i in range(len(s)+1):\n",
    "        return s[len(s):0:-1]\n",
    "a='3,4,5,6,3,2,1'\n",
    "reverse(a)"
   ]
  },
  {
   "cell_type": "code",
   "execution_count": 3,
   "metadata": {},
   "outputs": [],
   "source": [
    "#写函数，根据给定符号和行数，打印相应直角三角形，等腰三角形及其他形式的三角形。"
   ]
  },
  {
   "cell_type": "code",
   "execution_count": 4,
   "metadata": {},
   "outputs": [
    {
     "name": "stdout",
     "output_type": "stream",
     "text": [
      "4\n",
      "直角三角形\n",
      "\n",
      "*\n",
      "**\n",
      "***\n",
      "****\n",
      "等腰三角形\n",
      "      *\n",
      "     ***\n",
      "    *****\n",
      "   *******\n",
      "  *********\n",
      "其他三角形\n",
      "           \n",
      "         *\n",
      "       **\n",
      "     ***\n",
      "   ****\n"
     ]
    }
   ],
   "source": [
    "def fx(s,h):\n",
    "    print('直角三角形')\n",
    "    for a in range(h+1):\n",
    "            print(s*a)\n",
    "    print('等腰三角形')\n",
    "    for a in range(h+1):\n",
    "            print(' '*(h+1-a),s*(2*a+1))\n",
    "    print('其他三角形')\n",
    "    for a in range(h+1):\n",
    "        print('  '*(h+1-a),s*a)\n",
    "   \n",
    "    \n",
    "s='*'\n",
    "h=int(input())\n",
    "fx(s,h)"
   ]
  },
  {
   "cell_type": "code",
   "execution_count": 5,
   "metadata": {},
   "outputs": [],
   "source": [
    "#写函数，根据给定符号，打印各种菱形。"
   ]
  },
  {
   "cell_type": "code",
   "execution_count": 6,
   "metadata": {},
   "outputs": [
    {
     "name": "stdout",
     "output_type": "stream",
     "text": [
      "4\n",
      "实心菱形\n",
      "    \n",
      "   *\n",
      "  ***\n",
      " *****\n",
      "*******\n",
      " *****\n",
      "  ***\n",
      "   *\n",
      "    \n",
      "     \n",
      "空心菱形\n",
      "    *\n",
      "   * *\n",
      "  *   *\n",
      " *     *\n",
      "*       *\n",
      " *     *\n",
      "  *   *\n",
      "   * *\n",
      "    *\n"
     ]
    }
   ],
   "source": [
    "def fx(a,s):\n",
    "    print('实心菱形')\n",
    "    for i in range(s+1):\n",
    "        print(' '*(s-i)+a*(2*i-1))\n",
    "        \n",
    "    h=2*(i-1)-1\n",
    "    for i in range(s+1):\n",
    "        print(' '*(i+1)+a*h)\n",
    "        h-=2\n",
    "        \n",
    "    \n",
    "        \n",
    "        \n",
    "    print('空心菱形')\n",
    "    for u in range(s+1):\n",
    "        if u==0:\n",
    "            print(' '*(s-u)+a)\n",
    "        else:\n",
    "            print(' '*(s-u)+a+' '*(2*u-1)+a)\n",
    "    h=2*(u-1)-1\n",
    "    for o in range(s):\n",
    "        if o==s-1:\n",
    "            print(' '*s+a)\n",
    "        else:\n",
    "            print(' '*(o+1)+a+' '*h+a)\n",
    "        h-=2\n",
    "   \n",
    "    \n",
    "\n",
    "a='*'\n",
    "s=int(input())\n",
    "fx(a,s)"
   ]
  }
 ],
 "metadata": {
  "kernelspec": {
   "display_name": "Python 3",
   "language": "python",
   "name": "python3"
  },
  "language_info": {
   "codemirror_mode": {
    "name": "ipython",
    "version": 3
   },
   "file_extension": ".py",
   "mimetype": "text/x-python",
   "name": "python",
   "nbconvert_exporter": "python",
   "pygments_lexer": "ipython3",
   "version": "3.6.3"
  }
 },
 "nbformat": 4,
 "nbformat_minor": 2
}
