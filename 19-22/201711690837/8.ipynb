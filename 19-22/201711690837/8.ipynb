{
 "cells": [
  {
   "cell_type": "code",
   "execution_count": 1,
   "metadata": {},
   "outputs": [],
   "source": [
    "#成语接龙游戏"
   ]
  },
  {
   "cell_type": "code",
   "execution_count": 13,
   "metadata": {},
   "outputs": [
    {
     "name": "stdout",
     "output_type": "stream",
     "text": [
      "金玉良缘\n",
      "缘木求鱼\n",
      "Win!\n"
     ]
    }
   ],
   "source": [
    "import random\n",
    "\n",
    "\n",
    "def win():\n",
    "    print('Win!')\n",
    "    \n",
    "def lose():\n",
    "    print('Lose!')\n",
    "\n",
    "def game_over():\n",
    "    print(\n",
    "        '''规则被破坏\n",
    "           ======GAME OVER=======''')\n",
    "\n",
    "\n",
    "fh = open(r'C:\\Users\\idioms.txt')\n",
    "text=fh.read()\n",
    "text = text.replace('、', '')\n",
    "idioms = text.split('\\n')\n",
    "\n",
    "idiom = random.choice(idioms)\n",
    "print(idiom)\n",
    "list=[]\n",
    "i=input()\n",
    "\n",
    "\n",
    "while i not in idioms:\n",
    "    print('不在成语库，重新输')\n",
    "    i=input()\n",
    "\n",
    "while i in idioms:\n",
    "    list.append(i)\n",
    "    if i[0]==idiom[-1]:\n",
    "        for b in range(761):\n",
    "            for a in idioms:\n",
    "                if a[0]==i[-1] and a not in list:\n",
    "                    print(a)\n",
    "                    break\n",
    "                    \n",
    "        if a[0]!=i[-1] or a in list:\n",
    "            win()\n",
    "            break\n",
    "        else:\n",
    "            list.append(a)\n",
    "            i=input()\n",
    "            if i in list:\n",
    "                game_over()\n",
    "                break\n",
    "            else:\n",
    "                while i not in idioms:\n",
    "                    print('不在成语库，重新输')\n",
    "                    i=input()\n",
    "                    \n",
    "            \n",
    "        \n",
    "        \n",
    "    else:\n",
    "        lose()\n",
    "        break\n"
   ]
  },
  {
   "cell_type": "code",
   "execution_count": null,
   "metadata": {},
   "outputs": [],
   "source": []
  }
 ],
 "metadata": {
  "kernelspec": {
   "display_name": "Python 3",
   "language": "python",
   "name": "python3"
  },
  "language_info": {
   "codemirror_mode": {
    "name": "ipython",
    "version": 3
   },
   "file_extension": ".py",
   "mimetype": "text/x-python",
   "name": "python",
   "nbconvert_exporter": "python",
   "pygments_lexer": "ipython3",
   "version": "3.6.3"
  }
 },
 "nbformat": 4,
 "nbformat_minor": 2
}
