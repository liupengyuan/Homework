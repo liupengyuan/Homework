{
 "cells": [
  {
   "cell_type": "code",
   "execution_count": 3,
   "metadata": {},
   "outputs": [],
   "source": [
    "#仿照求$ \\sum_{i=1}^mi + \\sum_{i=1}^ni  + \\sum_{i=1}^ki$的完整代码，写程序，可求m!+n!+k!"
   ]
  },
  {
   "cell_type": "code",
   "execution_count": 5,
   "metadata": {},
   "outputs": [
    {
     "name": "stdout",
     "output_type": "stream",
     "text": [
      "4\n",
      "3\n",
      "2\n",
      "和是 32\n"
     ]
    }
   ],
   "source": [
    "def Y(a):\n",
    "    i=0\n",
    "    mul=1\n",
    "    while i<a:\n",
    "        i=i+1\n",
    "        mul=mul*i\n",
    "    return mul\n",
    "m=int(input())\n",
    "n=int(input())\n",
    "k=int(input())\n",
    "\n",
    "print('和是',Y(m)+Y(n)+Y(k))"
   ]
  },
  {
   "cell_type": "code",
   "execution_count": 4,
   "metadata": {},
   "outputs": [],
   "source": [
    "#写函数可返回1 - 1/3 + 1/5 - 1/7...的前n项的和。在主程序中，分别令n=1000及100000，打印4倍该函数的和。"
   ]
  },
  {
   "cell_type": "code",
   "execution_count": 9,
   "metadata": {},
   "outputs": [
    {
     "name": "stdout",
     "output_type": "stream",
     "text": [
      "3.140592653839794\n",
      "3.1415826535897198\n"
     ]
    }
   ],
   "source": [
    "def Z(n):\n",
    "    i=1\n",
    "    total=0\n",
    "    a=0\n",
    "    while a<n:\n",
    "        a=a+1\n",
    "        if a%2==0:\n",
    "            i=-(2*a-1)\n",
    "        else:\n",
    "            i=2*a-1\n",
    "        total=total+1/i\n",
    "    return total\n",
    "    \n",
    "n=1000\n",
    "m=100000\n",
    "Z(n)\n",
    "print(4*Z(n))\n",
    "print(4*Z(m))"
   ]
  },
  {
   "cell_type": "code",
   "execution_count": 10,
   "metadata": {},
   "outputs": [],
   "source": [
    "#将task3中的练习1及练习4改写为函数，并进行调用。"
   ]
  },
  {
   "cell_type": "code",
   "execution_count": 28,
   "metadata": {},
   "outputs": [
    {
     "name": "stdout",
     "output_type": "stream",
     "text": [
      "RL\n",
      "10\n",
      "22\n",
      "RL 你是理想主义的天秤座\n"
     ]
    }
   ],
   "source": [
    "name=input()\n",
    "def H(a,b):\n",
    "    if (n==3 and 21<=m<=31) or (n==4 and 1<=m<=19): \n",
    "        X='你是勇敢的白羊座'\n",
    "    elif (n==4 and 20<=m<=30) or (n==5 and 1<=m<=20):\n",
    "        X='你是非常有性格的金牛座'\n",
    "    elif (n==5 and 21<=m<=31) or (n==6 and 1<=m<=21):\n",
    "        X='你是开朗的双子座'\n",
    "    elif (n==6 and 22<=m<=30) or (n==7 and 1<=m<=22):\n",
    "        X='你是毅力惊人的巨蟹座'\n",
    "    elif (n==7 and 23<=m<=31) or (n==8 and 1<=m<=22):\n",
    "        X='你是善于思考的狮子座'\n",
    "    elif (n==8 and 23<=m<=31) or (n==9 and 1<=m<=22):\n",
    "        X='你是完美主义的处女座'\n",
    "    elif (n==9 and 23<=m<=30) or (n==10 and 1<=m<=23):\n",
    "        X='你是理想主义的天秤座'\n",
    "    elif (n==10 and 24<=m<=31) or (n==11 and 1<=m<=22):\n",
    "        X='你是神秘理性的天蝎座'\n",
    "    elif (n==11 and 23<=m<=30) or (n==12 and 1<=m<=21):\n",
    "        X='你是细心活泼的射手座'\n",
    "    elif (n==12 and 22<=m<=31) or (n==1 and 1<=m<=19):\n",
    "        X='你是聪明可靠的摩羯座'\n",
    "    elif (n==1 and 20<=m<=31) or (n==2 and 1<=m<=18):\n",
    "        X='你是具有独创力的水瓶座'\n",
    "    elif (n==2 and 19<=m<=29) or (n==3 and 1<=m<=20):\n",
    "        X='你是爱幻想的双鱼座'\n",
    "    return X\n",
    "n=int(input())\n",
    "m=int(input())\n",
    "print(name,H(m,n))\n",
    "  "
   ]
  },
  {
   "cell_type": "code",
   "execution_count": 12,
   "metadata": {},
   "outputs": [],
   "source": [
    "#写程序，可以求从整数m到整数n累加的和，间隔为k，求和部分需用函数实现，主程序中由用户输入m，n，k调用函数验证正确性。"
   ]
  },
  {
   "cell_type": "code",
   "execution_count": 7,
   "metadata": {},
   "outputs": [
    {
     "name": "stdout",
     "output_type": "stream",
     "text": [
      "4\n",
      "7\n",
      "1\n",
      "22\n"
     ]
    }
   ],
   "source": [
    "def S(m,n,k):\n",
    "    if m>=n and m-n>=k:\n",
    "        i=n\n",
    "        total=0\n",
    "        while i<=m:\n",
    "            total=total+i\n",
    "            i=i+k\n",
    "        return total\n",
    "    elif m<n and n-m>k:\n",
    "        i=m\n",
    "        total=0\n",
    "        while i<=n:\n",
    "            total=total+i\n",
    "            i=i+k\n",
    "        return total\n",
    "    else:\n",
    "        s='error'\n",
    "        return s\n",
    "m=int(input())\n",
    "n=int(input())\n",
    "k=int(input())\n",
    "\n",
    "print(S(m,n,k))\n",
    "        \n",
    "    "
   ]
  }
 ],
 "metadata": {
  "kernelspec": {
   "display_name": "Python 3",
   "language": "python",
   "name": "python3"
  },
  "language_info": {
   "codemirror_mode": {
    "name": "ipython",
    "version": 3
   },
   "file_extension": ".py",
   "mimetype": "text/x-python",
   "name": "python",
   "nbconvert_exporter": "python",
   "pygments_lexer": "ipython3",
   "version": "3.6.3"
  }
 },
 "nbformat": 4,
 "nbformat_minor": 2
}
