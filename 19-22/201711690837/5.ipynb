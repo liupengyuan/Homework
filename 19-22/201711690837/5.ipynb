{
 "cells": [
  {
   "cell_type": "code",
   "execution_count": null,
   "metadata": {},
   "outputs": [],
   "source": [
    "#写函数，求n个随机整数均值的平方根，整数范围在m与k之间（n,m,k由用户输入）。"
   ]
  },
  {
   "cell_type": "code",
   "execution_count": 25,
   "metadata": {},
   "outputs": [
    {
     "name": "stdout",
     "output_type": "stream",
     "text": [
      "个数5\n",
      "10\n",
      "500\n",
      "19.183326093250876\n"
     ]
    }
   ],
   "source": [
    "import random,math\n",
    "def x(a,b,c):\n",
    "    i=0\n",
    "    total=0\n",
    "    if b>c:\n",
    "        t=b\n",
    "        b=c\n",
    "        c=t\n",
    "        \n",
    "    while i<a:\n",
    "        number=random.randint(b,c)\n",
    "        i+=1\n",
    "        total=total+number\n",
    "        x=total/a\n",
    "   \n",
    "    return math.sqrt(x)\n",
    "\n",
    "n=int(input('个数'))\n",
    "m=int(input())\n",
    "k=int(input())\n",
    "print(x(n,m,k))\n",
    "    \n",
    "    "
   ]
  },
  {
   "cell_type": "code",
   "execution_count": null,
   "metadata": {},
   "outputs": [],
   "source": [
    "#写函数，共n个随机整数，整数范围在m与k之间，（n,m,k由用户输入）。求1：西格玛log(随机整数)，2：西格玛1/log(随机整数)"
   ]
  },
  {
   "cell_type": "code",
   "execution_count": 8,
   "metadata": {},
   "outputs": [
    {
     "name": "stdout",
     "output_type": "stream",
     "text": [
      "4\n",
      "4\n",
      "5\n",
      "(5.991464547107982, 0.16690410034766703)\n"
     ]
    }
   ],
   "source": [
    "import random,math\n",
    "def fx(a,b,c):\n",
    "    i=0\n",
    "    mul=1\n",
    "    if b>c:\n",
    "        t=b\n",
    "        b=c\n",
    "        c=t\n",
    "        \n",
    "    while i<a:\n",
    "        number=random.randint(b,c)\n",
    "        i+=1\n",
    "        mul=mul*number\n",
    "        f=math.log(mul)\n",
    "    return f,1/f\n",
    "    \n",
    "n=int(input())\n",
    "m=int(input())\n",
    "k=int(input())\n",
    "print(fx(n,m,k))"
   ]
  },
  {
   "cell_type": "code",
   "execution_count": null,
   "metadata": {},
   "outputs": [],
   "source": [
    "#写函数，求s=a+aa+aaa+aaaa+aa...a的值，其中a是[1,9]之间的随机整数。例如2+22+222+2222+22222(此时共有5个数相加)，几个数相加由键盘输入。"
   ]
  },
  {
   "cell_type": "code",
   "execution_count": 24,
   "metadata": {},
   "outputs": [
    {
     "name": "stdout",
     "output_type": "stream",
     "text": [
      "4\n",
      "6170.0\n"
     ]
    }
   ],
   "source": [
    "import random\n",
    "def hx(a):\n",
    "    i=0\n",
    "    total=0\n",
    "    e=random.randint(0,10)\n",
    "    while i<a:\n",
    "        i+=1\n",
    "        total=((10**i-1)/9)*e+total\n",
    "    return total\n",
    "m=int(input())\n",
    "print(hx(m))\n",
    "\n",
    "        \n",
    "    \n",
    "    "
   ]
  },
  {
   "cell_type": "code",
   "execution_count": 8,
   "metadata": {},
   "outputs": [],
   "source": [
    "#仿照task5，将猜数游戏改成由用户随便选择一个整数，让计算机来猜测的猜数游戏，要求和task5中人猜测的方法类似，但是人机角色对换，由人来判断猜测是大、小还是相等，请写出完整的猜数游戏。"
   ]
  },
  {
   "cell_type": "code",
   "execution_count": 1,
   "metadata": {},
   "outputs": [
    {
     "name": "stdout",
     "output_type": "stream",
     "text": [
      "输上界12\n",
      "8\n",
      "可猜 4 次\n",
      "计算机猜了 1 次\n",
      "2\n",
      "6\n",
      "可猜 4 次\n",
      "计算机猜了 2 次\n",
      "1\n",
      "7\n",
      "可猜 4 次\n",
      "计算机猜了 3 次\n",
      "3\n",
      "输入正确数字7\n",
      "我猜对了!是 7\n",
      "7\n"
     ]
    }
   ],
   "source": [
    "#i=1:猜小了\n",
    "#i=2:猜大了\n",
    "#i=3:猜对了\n",
    "import random,math\n",
    "def Rx(m):\n",
    "    T=math.ceil(math.log2(m))\n",
    "    min=0\n",
    "    max=m\n",
    "    n=random.randint(min,max)\n",
    "    print(n)\n",
    "    guess=1\n",
    "    print('可猜',T,'次')\n",
    "    print('计算机猜了',guess,'次')\n",
    "    i=int(input())\n",
    "    while guess<T:\n",
    "        if i==1:\n",
    "            min=n\n",
    "            n=random.randint(min,max)\n",
    "            guess+=1\n",
    "            print(n)\n",
    "            print('可猜',T,'次')\n",
    "            print('计算机猜了',guess,'次')\n",
    "            i=int(input())\n",
    "              \n",
    "        if i==2:\n",
    "            max=n\n",
    "            n=random.randint(min,max)\n",
    "            print(n)\n",
    "            guess+=1\n",
    "            print('可猜',T,'次')\n",
    "            print('计算机猜了',guess,'次')\n",
    "            i=int(input()) \n",
    "        if i==3:\n",
    "            d=int(input('输入正确数字'))\n",
    "            print('我猜对了!是',d)\n",
    "            break\n",
    "    else:\n",
    "        d=int(input('输入正确数字'))\n",
    "        print('我没猜到...居然是',d)\n",
    "    return d\n",
    "\n",
    "        \n",
    "a=int(input('输上界'))\n",
    "print(Rx(a))\n"
   ]
  }
 ],
 "metadata": {
  "kernelspec": {
   "display_name": "Python 3",
   "language": "python",
   "name": "python3"
  },
  "language_info": {
   "codemirror_mode": {
    "name": "ipython",
    "version": 3
   },
   "file_extension": ".py",
   "mimetype": "text/x-python",
   "name": "python",
   "nbconvert_exporter": "python",
   "pygments_lexer": "ipython3",
   "version": "3.6.3"
  }
 },
 "nbformat": 4,
 "nbformat_minor": 2
}
