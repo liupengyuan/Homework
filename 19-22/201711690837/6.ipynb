{
 "cells": [
  {
   "cell_type": "code",
   "execution_count": 1,
   "metadata": {},
   "outputs": [],
   "source": [
    "#写函数，返回某个元素/对象在一个list中的位置，如果不在，则返回-1."
   ]
  },
  {
   "cell_type": "code",
   "execution_count": 3,
   "metadata": {},
   "outputs": [
    {
     "name": "stdout",
     "output_type": "stream",
     "text": [
      "输入元素个数12\n",
      "你想查找4\n",
      "位置是 0\n",
      "位置是 9\n",
      "[4, 6, 7, 7, 7, 10, 10, 10, 10, 4, 0, 2]\n"
     ]
    }
   ],
   "source": [
    "import random\n",
    "def fx(list):\n",
    "    for i in range(n):\n",
    "        w = random.randint(0,10)\n",
    "        list.append(w)\n",
    "    t=int(input('你想查找'))\n",
    "    \n",
    "\n",
    "    \n",
    "    i=0\n",
    "    while i<n:\n",
    "        if t==list[i]:\n",
    "            print('位置是',i)  \n",
    "        i+=1\n",
    "            \n",
    "        \n",
    "    if t not in list:\n",
    "            print(-1)\n",
    "    print(list)\n",
    "list=[]\n",
    "n=int(input('输入元素个数'))\n",
    "fx(list)"
   ]
  },
  {
   "cell_type": "code",
   "execution_count": 4,
   "metadata": {},
   "outputs": [],
   "source": [
    "#写函数，可将两个相同长度的list，间隔插入，生成新的list。例如：给两个list，a=[1,2,3,4], b=[5,6,7,8]。则可以生成：[1,5,2,6,3,7,4,8]。"
   ]
  },
  {
   "cell_type": "code",
   "execution_count": 5,
   "metadata": {},
   "outputs": [
    {
     "name": "stdout",
     "output_type": "stream",
     "text": [
      "输入两list中元素个数8\n",
      "[2, 1, 9, 3, 2, 2, 0, 3]\n",
      "[7, 4, 2, 6, 0, 9, 6, 3]\n",
      "[2, 7, 1, 4, 9, 2, 3, 6, 2, 0, 2, 9, 0, 6, 3, 3]\n"
     ]
    }
   ],
   "source": [
    "def fx(list1,list2):\n",
    "    for i in range(n):\n",
    "        w = random.randint(0,10)\n",
    "        s=random.randint(0,10)\n",
    "        list1.append(w)\n",
    "        list2.append(s)\n",
    "    print(list1)\n",
    "    print(list2)\n",
    "    i=0\n",
    "    list=[]\n",
    "    while i<n:\n",
    "        list.append(list1[i])\n",
    "        list.append(list2[i])\n",
    "        i+=1\n",
    "    return list\n",
    "\n",
    "list1=[]\n",
    "list2=[]\n",
    "n=int(input('输入两list中元素个数'))\n",
    "\n",
    "print(fx(list1,list2))\n",
    "        "
   ]
  },
  {
   "cell_type": "code",
   "execution_count": 6,
   "metadata": {},
   "outputs": [],
   "source": [
    "#写函数，可求两个向量的夹角余弦值，向量可放在list中。主程序调用该函数。"
   ]
  },
  {
   "cell_type": "code",
   "execution_count": 7,
   "metadata": {},
   "outputs": [
    {
     "data": {
      "text/plain": [
       "0.7142857142857143"
      ]
     },
     "execution_count": 7,
     "metadata": {},
     "output_type": "execute_result"
    }
   ],
   "source": [
    "def cos(x,y):\n",
    "    if len(x)!=len(y):\n",
    "        print('无法计算')\n",
    "    a=0\n",
    "    b=0        \n",
    "    c=0\n",
    "    for i in range(len(x)):\n",
    "        a+=x[i]*y[i]\n",
    "        b+=x[i]**2\n",
    "        c+=y[i]**2\n",
    "    return a/(b*c)**(1/2)\n",
    "\n",
    "cos([1,2,3],[3,2,1])"
   ]
  },
  {
   "cell_type": "code",
   "execution_count": 8,
   "metadata": {},
   "outputs": [],
   "source": [
    "#python语言老师为了激励学生学python，自费买了100个完全相同的Macbook Pro，分给三个班级，每个班级至少分5个，用穷举法计算共有多少种分法？"
   ]
  },
  {
   "cell_type": "code",
   "execution_count": 9,
   "metadata": {},
   "outputs": [
    {
     "name": "stdout",
     "output_type": "stream",
     "text": [
      "有 3741 种分法\n"
     ]
    }
   ],
   "source": [
    "numbers=[]\n",
    "for i in range(5,91):\n",
    "    numbers.append(i)\n",
    "\n",
    "t=0\n",
    "b=5\n",
    "c=6\n",
    "i=0\n",
    "\n",
    "for i in range(86):\n",
    "    a=numbers[i]\n",
    "    for n in range(86-i):\n",
    "        b=numbers[n]\n",
    "        c=100-a-b\n",
    "        t+=1\n",
    "            \n",
    "print('有',t,'种分法')"
   ]
  }
 ],
 "metadata": {
  "kernelspec": {
   "display_name": "Python 3",
   "language": "python",
   "name": "python3"
  },
  "language_info": {
   "codemirror_mode": {
    "name": "ipython",
    "version": 3
   },
   "file_extension": ".py",
   "mimetype": "text/x-python",
   "name": "python",
   "nbconvert_exporter": "python",
   "pygments_lexer": "ipython3",
   "version": "3.6.3"
  }
 },
 "nbformat": 4,
 "nbformat_minor": 2
}
