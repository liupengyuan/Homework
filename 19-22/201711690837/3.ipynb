{
 "cells": [
  {
   "cell_type": "code",
   "execution_count": 18,
   "metadata": {},
   "outputs": [
    {
     "name": "stdout",
     "output_type": "stream",
     "text": [
      "日立\n",
      "10.22\n",
      "日立,你是理想主义的天秤座\n"
     ]
    }
   ],
   "source": [
    "#星座\n",
    "name=input()\n",
    "n=float(input())\n",
    "if 3.21<=n<=4.19:\n",
    "    print(name ,'你是勇敢的白羊座',sep=',')\n",
    "elif 4.20<=n<=5.20:\n",
    "    print(name,'你是非常有性格的金牛座',sep=',')\n",
    "elif 5.21<=n<=6.21:\n",
    "    print(name,'你是开朗的双子座',sep=',')\n",
    "elif 6.22<=n<=7.22:\n",
    "    print(name,'你是毅力惊人的巨蟹座',sep=',')\n",
    "elif 7.23<=n<=8.22:\n",
    "    print(name,'你是善于思考的狮子座',sep=',')\n",
    "elif 8.23<=n<=9.22:\n",
    "    print(name,'你是完美主义的处女座',sep=',')\n",
    "elif 9.23<=n<=10.23:\n",
    "    print(name,'你是理想主义的天秤座',sep=',')\n",
    "elif 10.24<=n<=11.22:\n",
    "    print(name,'你是神秘理性的天蝎座',sep=',')\n",
    "elif 11.23<=n<=12.21:\n",
    "    print(name,'你是细心活泼的射手座',sep=',')\n",
    "elif 12.22<=n<=1.19:\n",
    "    print(name,'你是聪明可靠的摩羯座',sep=',')\n",
    "elif 1.20<=n<=2.18:\n",
    "    print(name,'你是具有独创力的水瓶座',sep=',')\n",
    "elif 2.19<=n<=3.20:\n",
    "    print(name,'你是爱幻想的双鱼座',sep=',')"
   ]
  },
  {
   "cell_type": "code",
   "execution_count": 17,
   "metadata": {},
   "outputs": [
    {
     "name": "stdout",
     "output_type": "stream",
     "text": [
      "2\n",
      "3\n",
      "1\n",
      "乘积=6\n"
     ]
    }
   ],
   "source": [
    "#计算 输出\n",
    "m=int(input())\n",
    "n=int(input())\n",
    "1#乘积\n",
    "2#加和\n",
    "3#余数\n",
    "A=int(input())\n",
    "if A==1:\n",
    "    print('乘积',m*n,sep='=')\n",
    "elif A==2:\n",
    "    print('和',m+n,sep='=')\n",
    "elif A==3:\n",
    "    print('余数',m%n,sep='=')\n",
    "else:\n",
    "    print('整除',m//n,sep='=')"
   ]
  },
  {
   "cell_type": "code",
   "execution_count": 16,
   "metadata": {},
   "outputs": [
    {
     "name": "stdout",
     "output_type": "stream",
     "text": [
      "life\n",
      "改f为ve再加s\n"
     ]
    }
   ],
   "source": [
    "#单复数变化\n",
    "n=input()\n",
    "if n .endswith('f'and'fe'):\n",
    "    print('改f为ve再加s')\n",
    "elif n .endswith('ty'and'ry'and'by'and'ly'and'dy'and'cy'and'ey'and'fy'and'gy'and'hy'and'jy'and'ky'and'my'and'ny'and'py'and'qy'and'sy'and'vy'and'wy'and'xy'and'zy'):\n",
    "    print('改y为i再加es')\n",
    "elif n .endswith('ro'and'to'):\n",
    "    print('直接加s')\n",
    "elif n .endswith('s'and'sh'and'ch'and'x'and'o'):\n",
    "    print('直接加es')\n",
    "else:\n",
    "    print('直接加s')"
   ]
  },
  {
   "cell_type": "code",
   "execution_count": 15,
   "metadata": {},
   "outputs": [
    {
     "name": "stdout",
     "output_type": "stream",
     "text": [
      "     \n"
     ]
    }
   ],
   "source": [
    "# 显示空行\n",
    "print(' ',' ',' ', sep=' ')\n"
   ]
  },
  {
   "cell_type": "code",
   "execution_count": 38,
   "metadata": {},
   "outputs": [
    {
     "name": "stdout",
     "output_type": "stream",
     "text": [
      "确定输入整数个数4\n",
      "3\n",
      "2\n",
      "5\n",
      "6\n",
      "次大值是 5\n"
     ]
    }
   ],
   "source": [
    "n=int(input('确定输入整数个数'))\n",
    "max=int(input())\n",
    "min=int(input())\n",
    "p=1\n",
    "i=1\n",
    "while i<n-1:\n",
    "    i=i+1\n",
    "    m=int(input())\n",
    "    if m>max:\n",
    "        p=max\n",
    "        max=m\n",
    "    else :\n",
    "        min=m\n",
    "if p>min:\n",
    "    print('次大值是',p)\n",
    "if p<=min:\n",
    "    print('次大值是',m)\n",
    "    \n",
    "    \n",
    "    \n"
   ]
  },
  {
   "cell_type": "code",
   "execution_count": null,
   "metadata": {},
   "outputs": [],
   "source": []
  }
 ],
 "metadata": {
  "kernelspec": {
   "display_name": "Python 3",
   "language": "python",
   "name": "python3"
  },
  "language_info": {
   "codemirror_mode": {
    "name": "ipython",
    "version": 3
   },
   "file_extension": ".py",
   "mimetype": "text/x-python",
   "name": "python",
   "nbconvert_exporter": "python",
   "pygments_lexer": "ipython3",
   "version": "3.6.3"
  }
 },
 "nbformat": 4,
 "nbformat_minor": 2
}
