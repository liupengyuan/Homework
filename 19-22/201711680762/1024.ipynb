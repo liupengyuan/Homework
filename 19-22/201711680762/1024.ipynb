{
 "cells": [
  {
   "cell_type": "code",
   "execution_count": 1,
   "metadata": {},
   "outputs": [
    {
     "name": "stdout",
     "output_type": "stream",
     "text": [
      "14\n",
      "42\n",
      "84\n",
      "140\n",
      "210\n",
      "294\n",
      "392\n",
      "504\n",
      "630\n",
      "770\n",
      "924\n",
      "1092\n",
      "1274\n",
      "1470\n",
      "1680\n",
      "1904\n",
      "2142\n",
      "2394\n",
      "2660\n",
      "2940\n",
      "3234\n",
      "3542\n",
      "3864\n",
      "4200\n",
      "4550\n",
      "4914\n",
      "5292\n",
      "5684\n",
      "6090\n",
      "6510\n",
      "6944\n",
      "7392\n",
      "7854\n",
      "8330\n",
      "8820\n",
      "9324\n",
      "9842\n",
      "10374\n",
      "10920\n",
      "11480\n",
      "12054\n",
      "12642\n",
      "13244\n",
      "13860\n",
      "14490\n",
      "15134\n",
      "15792\n",
      "16464\n",
      "17150\n",
      "17850\n",
      "18564\n",
      "19292\n",
      "20034\n",
      "20790\n",
      "21560\n",
      "22344\n",
      "23142\n",
      "23954\n",
      "24780\n",
      "25620\n",
      "26474\n",
      "27342\n",
      "28224\n",
      "29120\n",
      "30030\n",
      "30954\n",
      "31892\n",
      "32844\n",
      "33810\n",
      "34790\n",
      "35784\n",
      "36792\n",
      "37814\n"
     ]
    }
   ],
   "source": [
    "i=1\n",
    "T=0\n",
    "while i<=1024:\n",
    "    i+=1\n",
    "    if i%7==0 and i%2==0:\n",
    "        T+=i\n",
    "        print(T)"
   ]
  },
  {
   "cell_type": "code",
   "execution_count": null,
   "metadata": {},
   "outputs": [],
   "source": []
  }
 ],
 "metadata": {
  "kernelspec": {
   "display_name": "Python 3",
   "language": "python",
   "name": "python3"
  },
  "language_info": {
   "codemirror_mode": {
    "name": "ipython",
    "version": 3
   },
   "file_extension": ".py",
   "mimetype": "text/x-python",
   "name": "python",
   "nbconvert_exporter": "python",
   "pygments_lexer": "ipython3",
   "version": "3.6.3"
  }
 },
 "nbformat": 4,
 "nbformat_minor": 2
}
