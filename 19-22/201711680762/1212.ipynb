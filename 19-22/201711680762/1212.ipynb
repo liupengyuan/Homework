{
 "cells": [
  {
   "cell_type": "code",
   "execution_count": null,
   "metadata": {},
   "outputs": [],
   "source": [
    "#D:\\idioms.txt"
   ]
  },
  {
   "cell_type": "code",
   "execution_count": 16,
   "metadata": {},
   "outputs": [
    {
     "name": "stdout",
     "output_type": "stream",
     "text": [
      "['风声鹤唳', '大器晚成', '不言而喻', '借刀杀人', '颐指气使', '纸上谈兵', '不一而足', '返璞归真', '杯弓蛇影', '龙生九子']\n"
     ]
    }
   ],
   "source": [
    "import random\n",
    "with open(r'D:\\idioms.txt') as ph:\n",
    "    text=ph.read()\n",
    "    text = text.replace('、', '')\n",
    "\n",
    "    start = 0\n",
    "    end = 0\n",
    "\n",
    "    idioms = []\n",
    "    while end < len(text):\n",
    "        if text[end] == '\\n':\n",
    "            idioms.append(text[start:end])\n",
    "            start = end + 1\n",
    "        end += 1\n",
    "        \n",
    "    line=[]\n",
    "    for i in range(10):\n",
    "        line.append(random.choice(idioms))\n",
    "    print(line)\n",
    "        \n",
    "    "
   ]
  },
  {
   "cell_type": "code",
   "execution_count": null,
   "metadata": {},
   "outputs": [],
   "source": []
  }
 ],
 "metadata": {
  "kernelspec": {
   "display_name": "Python 3",
   "language": "python",
   "name": "python3"
  },
  "language_info": {
   "codemirror_mode": {
    "name": "ipython",
    "version": 3
   },
   "file_extension": ".py",
   "mimetype": "text/x-python",
   "name": "python",
   "nbconvert_exporter": "python",
   "pygments_lexer": "ipython3",
   "version": "3.6.3"
  }
 },
 "nbformat": 4,
 "nbformat_minor": 2
}
