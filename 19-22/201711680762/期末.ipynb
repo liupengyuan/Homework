{
 "cells": [
  {
   "cell_type": "code",
   "execution_count": 6,
   "metadata": {
    "collapsed": true
   },
   "outputs": [],
   "source": [
    "def main(word,num):\n",
    "    for i in range(1,6):\n",
    "        print(\" \"*(num-i)+ word*i +word*5+word*i+\" \"*(num-i))\n",
    "    \n",
    "    \n",
    "    "
   ]
  },
  {
   "cell_type": "code",
   "execution_count": 7,
   "metadata": {
    "collapsed": false
   },
   "outputs": [
    {
     "name": "stdout",
     "output_type": "stream",
     "text": [
      "    *******    \n",
      "   *********   \n",
      "  ***********  \n",
      " ************* \n",
      "***************\n"
     ]
    }
   ],
   "source": [
    "main(\"*\",5)"
   ]
  },
  {
   "cell_type": "code",
   "execution_count": null,
   "metadata": {
    "collapsed": true
   },
   "outputs": [],
   "source": [
    "#2"
   ]
  },
  {
   "cell_type": "code",
   "execution_count": 8,
   "metadata": {
    "collapsed": false
   },
   "outputs": [],
   "source": [
    "def A(m,n):\n",
    "    if m==0:\n",
    "        return n+1\n",
    "    elif m>0:\n",
    "        if n==0:\n",
    "            return A(m-1,1)\n",
    "        elif n<0:\n",
    "            return 0\n",
    "        else:\n",
    "            return A(m-1,A(m,n-1))\n",
    "    else:\n",
    "        return 0\n",
    "        \n",
    "    "
   ]
  },
  {
   "cell_type": "code",
   "execution_count": 9,
   "metadata": {
    "collapsed": false
   },
   "outputs": [
    {
     "data": {
      "text/plain": [
       "125"
      ]
     },
     "execution_count": 9,
     "metadata": {},
     "output_type": "execute_result"
    }
   ],
   "source": [
    "A(3,4)"
   ]
  },
  {
   "cell_type": "code",
   "execution_count": null,
   "metadata": {
    "collapsed": true
   },
   "outputs": [],
   "source": [
    "#3(a)"
   ]
  },
  {
   "cell_type": "code",
   "execution_count": 1,
   "metadata": {
    "collapsed": false
   },
   "outputs": [],
   "source": [
    "import random\n",
    "def work(n,a,b):\n",
    "   \n",
    "    for i in range(n):\n",
    "        m1=random.randint(a,b)\n",
    "        m2=random.randint(a,b)\n",
    "        k=input()\n",
    "        print(\"请输入一个运算符号：\"+k)\n",
    "        print(m1,k,m2,'=')\n",
    "       \n",
    "        "
   ]
  },
  {
   "cell_type": "code",
   "execution_count": 2,
   "metadata": {
    "collapsed": false
   },
   "outputs": [
    {
     "name": "stdout",
     "output_type": "stream",
     "text": [
      "+\n",
      "请输入一个运算符号：+\n",
      "23 + 6 =\n",
      "-\n",
      "请输入一个运算符号：-\n",
      "4 - 10 =\n",
      "*\n",
      "请输入一个运算符号：*\n",
      "16 * 16 =\n",
      "+\n",
      "请输入一个运算符号：+\n",
      "22 + 17 =\n",
      "/\n",
      "请输入一个运算符号：/\n",
      "12 / 18 =\n",
      "+\n",
      "请输入一个运算符号：+\n",
      "8 + 19 =\n",
      "-\n",
      "请输入一个运算符号：-\n",
      "15 - 15 =\n",
      "*\n",
      "请输入一个运算符号：*\n",
      "15 * 8 =\n",
      "/\n",
      "请输入一个运算符号：/\n",
      "25 / 22 =\n",
      "+\n",
      "请输入一个运算符号：+\n",
      "16 + 18 =\n",
      "/\n",
      "请输入一个运算符号：/\n",
      "9 / 20 =\n",
      "-\n",
      "请输入一个运算符号：-\n",
      "10 - 9 =\n",
      "*\n",
      "请输入一个运算符号：*\n",
      "24 * 3 =\n",
      "+\n",
      "请输入一个运算符号：+\n",
      "4 + 21 =\n",
      "-\n",
      "请输入一个运算符号：-\n",
      "8 - 14 =\n"
     ]
    }
   ],
   "source": [
    "work(15,3,25)"
   ]
  },
  {
   "cell_type": "code",
   "execution_count": null,
   "metadata": {
    "collapsed": true
   },
   "outputs": [],
   "source": [
    "#3(b)"
   ]
  },
  {
   "cell_type": "code",
   "execution_count": null,
   "metadata": {
    "collapsed": true
   },
   "outputs": [],
   "source": [
    "work(15,3,25)\n",
    "workout()\n",
    "def workout():\n",
    "    answers=[]\n",
    "    for i in range (15):\n",
    "        answers.append(m1+k+m2)\n",
    "        \n",
    "\n",
    "    "
   ]
  },
  {
   "cell_type": "code",
   "execution_count": null,
   "metadata": {
    "collapsed": true
   },
   "outputs": [],
   "source": [
    "work(15,3,25)\n",
    "workout()\n",
    "m=input()\n",
    "print(\"请一次性输入所有答案，请用逗号隔开：\"+m)\n",
    "k=0\n",
    "for i in range(15):\n",
    "    if answers[i]==m[i]:\n",
    "        if k==\"+\"or\"-\":\n",
    "            k+=5\n",
    "        else:\n",
    "            k+=10\n",
    "    else:\n",
    "        k+=0\n",
    "print(k)\n",
    "        "
   ]
  },
  {
   "cell_type": "code",
   "execution_count": null,
   "metadata": {
    "collapsed": true
   },
   "outputs": [],
   "source": [
    "#3(c)"
   ]
  },
  {
   "cell_type": "code",
   "execution_count": 3,
   "metadata": {
    "collapsed": false
   },
   "outputs": [
    {
     "name": "stdout",
     "output_type": "stream",
     "text": [
      "3+4=\n",
      "3*4=\n",
      "9/3\n",
      "5+9=\n",
      "7+8=\n",
      "9+10=\n",
      "4*2=\n",
      "5/1=\n",
      "8/4=\n",
      "2*8=\n",
      "7\n",
      "12\n",
      "3\n",
      "14\n",
      "15\n",
      "19\n",
      "8\n",
      "5\n",
      "2\n",
      "16\n",
      "[7, 12, 3, 14, 15, 19, 8, 5, 2, 16]\n"
     ]
    }
   ],
   "source": [
    "def main(n):\n",
    "    for i in range(n):\n",
    "        sen=input()\n",
    "    right_answers=[]\n",
    "    for i in range(n):\n",
    "        m=int(input())\n",
    "        right_answers.append(m)\n",
    "    print(right_answers)\n",
    "       \n",
    "   \n",
    "       \n",
    "main(10)"
   ]
  },
  {
   "cell_type": "code",
   "execution_count": null,
   "metadata": {
    "collapsed": false
   },
   "outputs": [],
   "source": [
    "import random\n",
    "ans=[]\n",
    "for i in range(10):\n",
    "    k=random.randint(1,20)\n",
    "    ans.append(k)\n",
    "main(10)\n",
    "k=0\n",
    "for i in range(10):\n",
    "    if answers[i]==ans[i]:\n",
    "        if k==\"+\"or\"-\":\n",
    "            k+=5\n",
    "        else:\n",
    "            k+=10\n",
    "    else:\n",
    "        k+=0\n",
    "print(k)"
   ]
  },
  {
   "cell_type": "code",
   "execution_count": null,
   "metadata": {
    "collapsed": true
   },
   "outputs": [],
   "source": [
    "#4(a)"
   ]
  },
  {
   "cell_type": "code",
   "execution_count": 3,
   "metadata": {
    "collapsed": false
   },
   "outputs": [
    {
     "ename": "SyntaxError",
     "evalue": "invalid syntax (<ipython-input-3-56ab7fb7cf2e>, line 1)",
     "output_type": "error",
     "traceback": [
      "\u001b[1;36m  File \u001b[1;32m\"<ipython-input-3-56ab7fb7cf2e>\"\u001b[1;36m, line \u001b[1;32m1\u001b[0m\n\u001b[1;33m    with open(filename,encoding='utf-8')as f and open(filename_A,\"w\") as ph:\u001b[0m\n\u001b[1;37m                                               ^\u001b[0m\n\u001b[1;31mSyntaxError\u001b[0m\u001b[1;31m:\u001b[0m invalid syntax\n"
     ]
    }
   ],
   "source": [
    "with open(filename,encoding='utf-8')as f and open(filename_A,\"w\") as ph:\n",
    "    for line in f:\n",
    "        text=f.split('/')\n",
    "    for word in text:\n",
    "        if len(word)==4:\n",
    "            ph.write(word)\n",
    "            "
   ]
  },
  {
   "cell_type": "code",
   "execution_count": null,
   "metadata": {
    "collapsed": true
   },
   "outputs": [],
   "source": [
    "(b)"
   ]
  },
  {
   "cell_type": "code",
   "execution_count": 5,
   "metadata": {
    "collapsed": false
   },
   "outputs": [
    {
     "ename": "FileNotFoundError",
     "evalue": "[Errno 2] No such file or directory: 'C:\\\\Users\\\\Administrator\\\\Downloads\\\\idioms.'",
     "output_type": "error",
     "traceback": [
      "\u001b[1;31m---------------------------------------------------------------------------\u001b[0m",
      "\u001b[1;31mFileNotFoundError\u001b[0m                         Traceback (most recent call last)",
      "\u001b[1;32m<ipython-input-5-2e9ac0e170b7>\u001b[0m in \u001b[0;36m<module>\u001b[1;34m()\u001b[0m\n\u001b[1;32m----> 1\u001b[1;33m \u001b[1;32mwith\u001b[0m \u001b[0mopen\u001b[0m\u001b[1;33m(\u001b[0m\u001b[1;34mr'C:\\Users\\Administrator\\Downloads\\idioms.'\u001b[0m\u001b[1;33m)\u001b[0m \u001b[1;32mas\u001b[0m \u001b[0mph\u001b[0m\u001b[1;33m:\u001b[0m\u001b[1;33m\u001b[0m\u001b[0m\n\u001b[0m\u001b[0;32m      2\u001b[0m     \u001b[0mph\u001b[0m\u001b[1;33m.\u001b[0m\u001b[0mreplace\u001b[0m\u001b[1;33m(\u001b[0m\u001b[1;34m\"、\"\u001b[0m\u001b[1;33m,\u001b[0m\u001b[1;34m\" \"\u001b[0m\u001b[1;33m)\u001b[0m\u001b[1;33m\u001b[0m\u001b[0m\n\u001b[0;32m      3\u001b[0m     \u001b[0mn\u001b[0m\u001b[1;33m=\u001b[0m\u001b[1;36m0\u001b[0m\u001b[1;33m\u001b[0m\u001b[0m\n\u001b[0;32m      4\u001b[0m     \u001b[0mnum\u001b[0m\u001b[1;33m=\u001b[0m\u001b[1;33m[\u001b[0m\u001b[1;33m]\u001b[0m\u001b[1;33m\u001b[0m\u001b[0m\n\u001b[0;32m      5\u001b[0m     \u001b[1;32mfor\u001b[0m \u001b[0mword\u001b[0m \u001b[1;32min\u001b[0m \u001b[0mph\u001b[0m\u001b[1;33m:\u001b[0m\u001b[1;33m\u001b[0m\u001b[0m\n",
      "\u001b[1;31mFileNotFoundError\u001b[0m: [Errno 2] No such file or directory: 'C:\\\\Users\\\\Administrator\\\\Downloads\\\\idioms.'"
     ]
    }
   ],
   "source": [
    "with open(r'C:\\Users\\Administrator\\Downloads\\idioms.') as ph:\n",
    "    ph.replace(\"、\",\" \")\n",
    "    n=0\n",
    "    num=[]\n",
    "    for word in ph:\n",
    "        n=ph.count(word)\n",
    "        num.append([word,n])\n",
    "        num.sort()\n",
    "    print(num[:19])\n",
    "  \n",
    "    \n",
    "    \n",
    "    \n",
    "    "
   ]
  },
  {
   "cell_type": "code",
   "execution_count": null,
   "metadata": {
    "collapsed": true
   },
   "outputs": [],
   "source": [
    "(c)"
   ]
  },
  {
   "cell_type": "code",
   "execution_count": 1,
   "metadata": {
    "collapsed": false
   },
   "outputs": [
    {
     "ename": "FileNotFoundError",
     "evalue": "[Errno 2] No such file or directory: 'C:\\\\Users\\\\Administrator\\\\Downloads\\\\idioms '",
     "output_type": "error",
     "traceback": [
      "\u001b[1;31m---------------------------------------------------------------------------\u001b[0m",
      "\u001b[1;31mFileNotFoundError\u001b[0m                         Traceback (most recent call last)",
      "\u001b[1;32m<ipython-input-1-1012f604d955>\u001b[0m in \u001b[0;36m<module>\u001b[1;34m()\u001b[0m\n\u001b[0;32m      1\u001b[0m \u001b[1;32mfrom\u001b[0m \u001b[0mcollections\u001b[0m \u001b[1;32mimport\u001b[0m \u001b[0mCounter\u001b[0m\u001b[1;33m\u001b[0m\u001b[0m\n\u001b[1;32m----> 2\u001b[1;33m \u001b[1;32mwith\u001b[0m \u001b[0mopen\u001b[0m\u001b[1;33m(\u001b[0m\u001b[1;34mr'C:\\Users\\Administrator\\Downloads\\idioms '\u001b[0m\u001b[1;33m)\u001b[0m \u001b[1;32mas\u001b[0m \u001b[0mfh\u001b[0m\u001b[1;33m:\u001b[0m\u001b[1;33m\u001b[0m\u001b[0m\n\u001b[0m\u001b[0;32m      3\u001b[0m     \u001b[0mtext\u001b[0m\u001b[1;33m=\u001b[0m\u001b[0mfh\u001b[0m\u001b[1;33m.\u001b[0m\u001b[0msplit\u001b[0m\u001b[1;33m(\u001b[0m\u001b[1;33m)\u001b[0m\u001b[1;33m\u001b[0m\u001b[0m\n\u001b[0;32m      4\u001b[0m     \u001b[0mtext_n\u001b[0m\u001b[1;33m=\u001b[0m\u001b[0mCounter\u001b[0m\u001b[1;33m(\u001b[0m\u001b[1;33m)\u001b[0m\u001b[1;33m\u001b[0m\u001b[0m\n\u001b[0;32m      5\u001b[0m     \u001b[1;32mfor\u001b[0m \u001b[0mword\u001b[0m \u001b[1;32min\u001b[0m \u001b[0mtext\u001b[0m\u001b[1;33m:\u001b[0m\u001b[1;33m\u001b[0m\u001b[0m\n",
      "\u001b[1;31mFileNotFoundError\u001b[0m: [Errno 2] No such file or directory: 'C:\\\\Users\\\\Administrator\\\\Downloads\\\\idioms '"
     ]
    }
   ],
   "source": [
    "from collections import Counter\n",
    "with open(r'C:\\Users\\Administrator\\Downloads\\idioms ') as fh:\n",
    "    text=fh.split()\n",
    "    text_n=Counter()\n",
    "    for word in text:\n",
    "        text_n[word]+=1\n",
    "    print(text_n)\n",
    "        \n",
    "        \n",
    "        \n",
    "    "
   ]
  },
  {
   "cell_type": "code",
   "execution_count": null,
   "metadata": {
    "collapsed": true
   },
   "outputs": [],
   "source": [
    "(e)"
   ]
  },
  {
   "cell_type": "code",
   "execution_count": null,
   "metadata": {
    "collapsed": true
   },
   "outputs": [],
   "source": [
    "with open(r'C:\\Users\\Administrator\\Downloads\\idioms ') as hp:\n",
    "    print(len(hp))"
   ]
  },
  {
   "cell_type": "code",
   "execution_count": null,
   "metadata": {
    "collapsed": true
   },
   "outputs": [],
   "source": [
    "(f)"
   ]
  },
  {
   "cell_type": "code",
   "execution_count": 6,
   "metadata": {
    "collapsed": true
   },
   "outputs": [],
   "source": [
    "def main(n):\n",
    "    for word in text1:\n",
    "        if word[0]==n[-1]:\n",
    "            print(word)\n",
    "            k=input()\n",
    "            print(\"请输入一个成语：\"+k)\n",
    "            if k[0]==word[-1]:\n",
    "                main(n)\n",
    "            else:\n",
    "                print(\"游戏\")\n",
    "    "
   ]
  },
  {
   "cell_type": "code",
   "execution_count": 7,
   "metadata": {
    "collapsed": false
   },
   "outputs": [
    {
     "ename": "SyntaxError",
     "evalue": "invalid syntax (<ipython-input-7-3b2fd962dbcd>, line 1)",
     "output_type": "error",
     "traceback": [
      "\u001b[1;36m  File \u001b[1;32m\"<ipython-input-7-3b2fd962dbcd>\"\u001b[1;36m, line \u001b[1;32m1\u001b[0m\n\u001b[1;33m    with open(r'C:\\Users\\Administrator\\Downloads\\idioms.') as fh and open(r'语料.txt') as fr:\u001b[0m\n\u001b[1;37m                                                                   ^\u001b[0m\n\u001b[1;31mSyntaxError\u001b[0m\u001b[1;31m:\u001b[0m invalid syntax\n"
     ]
    }
   ],
   "source": [
    "with open(r'C:\\Users\\Administrator\\Downloads\\idioms ') as fh and open(r'语料.txt') as fr:\n",
    "    text=fh.split('/')\n",
    "    text1=fr.split('/')\n",
    "    m=input()\n",
    "    print(\"请输入一个成语：\"+m)\n",
    "    main(m)\n",
    "    \n",
    "    \n",
    "    "
   ]
  },
  {
   "cell_type": "code",
   "execution_count": null,
   "metadata": {
    "collapsed": true
   },
   "outputs": [],
   "source": []
  }
 ],
 "metadata": {
  "kernelspec": {
   "display_name": "Python 3",
   "language": "python",
   "name": "python3"
  },
  "language_info": {
   "codemirror_mode": {
    "name": "ipython",
    "version": 3
   },
   "file_extension": ".py",
   "mimetype": "text/x-python",
   "name": "python",
   "nbconvert_exporter": "python",
   "pygments_lexer": "ipython3",
   "version": "3.4.3"
  }
 },
 "nbformat": 4,
 "nbformat_minor": 0
}
