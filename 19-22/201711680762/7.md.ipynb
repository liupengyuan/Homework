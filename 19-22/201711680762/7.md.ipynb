{
 "cells": [
  {
   "cell_type": "code",
   "execution_count": 22,
   "metadata": {},
   "outputs": [
    {
     "name": "stdout",
     "output_type": "stream",
     "text": [
      "fghj\n",
      "\n"
     ]
    }
   ],
   "source": [
    "def back():\n",
    "    line=input()\n",
    "    line=str()\n",
    "    n=len(line)\n",
    "    for i in range(n):\n",
    "        print(line[n-i])\n",
    "    print()\n",
    "    \n",
    "    \n",
    "back()\n",
    "    \n",
    "    \n",
    "    "
   ]
  },
  {
   "cell_type": "code",
   "execution_count": null,
   "metadata": {},
   "outputs": [],
   "source": [
    "#2"
   ]
  },
  {
   "cell_type": "code",
   "execution_count": 11,
   "metadata": {},
   "outputs": [],
   "source": [
    "def ran(n,m):\n",
    "    for i in range(m+1):\n",
    "        print((m-i)*' ' + n*i, end=\"\")\n",
    "        print()\n",
    "        \n",
    "    \n",
    "    "
   ]
  },
  {
   "cell_type": "code",
   "execution_count": 12,
   "metadata": {},
   "outputs": [
    {
     "name": "stdout",
     "output_type": "stream",
     "text": [
      "*\n",
      "4\n",
      "    \n",
      "   *\n",
      "  **\n",
      " ***\n",
      "****\n"
     ]
    }
   ],
   "source": [
    "n=input()\n",
    "m=int(input())\n",
    "ran(n,m)"
   ]
  },
  {
   "cell_type": "code",
   "execution_count": null,
   "metadata": {},
   "outputs": [],
   "source": [
    "#3将任务4中的英语名词单数变复数的函数，尽可能的考虑多种情况，重新进行实现。"
   ]
  },
  {
   "cell_type": "code",
   "execution_count": 15,
   "metadata": {},
   "outputs": [],
   "source": [
    "def word(n):\n",
    "    if n.endswith(\"ch\" or \"sh\" or \"x\" or \"s\"):\n",
    "        print(n+\"es\")\n",
    "    elif n.endswith(\"y\"):\n",
    "        print(n[:-1]+\"ies\")\n",
    "    else:\n",
    "        print(n+\"s\")"
   ]
  },
  {
   "cell_type": "code",
   "execution_count": 16,
   "metadata": {},
   "outputs": [
    {
     "name": "stdout",
     "output_type": "stream",
     "text": [
      "study\n",
      "studies\n"
     ]
    }
   ],
   "source": [
    "n=input()\n",
    "word(n)"
   ]
  },
  {
   "cell_type": "code",
   "execution_count": null,
   "metadata": {},
   "outputs": [],
   "source": [
    "#4写函数，根据给定符号，上底、下底、高，打印各种梯形。"
   ]
  },
  {
   "cell_type": "code",
   "execution_count": 24,
   "metadata": {},
   "outputs": [],
   "source": [
    "def tkl(m,n,l,k):\n",
    "    for i in range(1,k+1):\n",
    "        if i==1:\n",
    "            print(m*n)\n",
    "        elif i==k:\n",
    "            print(l*m)\n",
    "        else:\n",
    "            print(m*(n-i))\n",
    "    "
   ]
  },
  {
   "cell_type": "code",
   "execution_count": 27,
   "metadata": {},
   "outputs": [
    {
     "name": "stdout",
     "output_type": "stream",
     "text": [
      "*\n",
      "*********\n",
      "*******\n",
      "******\n",
      "*****\n",
      "****\n",
      "***\n"
     ]
    }
   ],
   "source": [
    "m=input()\n",
    "tkl(m,9,3,6)"
   ]
  },
  {
   "cell_type": "code",
   "execution_count": null,
   "metadata": {},
   "outputs": [],
   "source": [
    "#5写函数，根据给定符号，打印各种菱形。"
   ]
  },
  {
   "cell_type": "code",
   "execution_count": 41,
   "metadata": {},
   "outputs": [],
   "source": [
    "def lin(m,k):\n",
    "    for i in range(1,k+1):\n",
    "        print((k-i)*' '+m*i,end='')\n",
    "        print()\n",
    "    for i in range(1,k+1):\n",
    "        print((k-i)*m+i*' ',end='')\n",
    "        print()"
   ]
  },
  {
   "cell_type": "code",
   "execution_count": 42,
   "metadata": {},
   "outputs": [
    {
     "name": "stdout",
     "output_type": "stream",
     "text": [
      "*\n",
      "     *\n",
      "    **\n",
      "   ***\n",
      "  ****\n",
      " *****\n",
      "******\n",
      "***** \n",
      "****  \n",
      "***   \n",
      "**    \n",
      "*     \n",
      "      \n"
     ]
    }
   ],
   "source": [
    "m=input()\n",
    "lin(m,6)"
   ]
  },
  {
   "cell_type": "code",
   "execution_count": null,
   "metadata": {},
   "outputs": [],
   "source": [
    "#6与本小节任务基本相同，但要求打印回文字符倒三角形。"
   ]
  },
  {
   "cell_type": "code",
   "execution_count": null,
   "metadata": {},
   "outputs": [],
   "source": [
    "for i in range(1, len(line)*2):\n",
    "        if i == 1:\n",
    "            print(' '*(len(line)*2-1) +line[0])\n",
    "        elif i%2 == 1:\n",
    "            print(' '*(len(line)*2-i) + line[:i//2] + line[i//2] + line[i//2-1::-1])\n",
    "        else:\n",
    "            print(' '*(len(line)*2-i) + line[:i//2] + line[i//2-1::-1])\n"
   ]
  },
  {
   "cell_type": "code",
   "execution_count": 10,
   "metadata": {},
   "outputs": [
    {
     "name": "stdout",
     "output_type": "stream",
     "text": [
      "飞花青丝雨雨丝青花飞\n",
      "  飞花青丝丝青花飞\n",
      "   飞花青丝青花飞\n",
      "    飞花青青花飞\n",
      "     飞花青花飞\n",
      "      飞花花飞\n",
      "       飞花飞\n",
      "        飞飞\n",
      "         飞\n"
     ]
    }
   ],
   "source": [
    "def tsl(line):\n",
    "    n=len(line)\n",
    "    for i in range(1,n*2):\n",
    "        if i==1:\n",
    "            print(line[::]+line[n*2::-1])\n",
    "        elif i%2!=1:\n",
    "            print(' '*i +line[:(n*2-i)//2]+line[(n*2-i-1)//2::-1])\n",
    "        else:\n",
    "            print(' '*i+line[:(n*2-i)//2]+line[(n*2-i-1)//2::-1])\n",
    "                        \n",
    "txt=\"飞花青丝雨\"\n",
    "tsl(txt)              \n",
    "        \n",
    "    "
   ]
  },
  {
   "cell_type": "code",
   "execution_count": null,
   "metadata": {},
   "outputs": [],
   "source": []
  },
  {
   "cell_type": "code",
   "execution_count": null,
   "metadata": {},
   "outputs": [],
   "source": []
  }
 ],
 "metadata": {
  "kernelspec": {
   "display_name": "Python 3",
   "language": "python",
   "name": "python3"
  },
  "language_info": {
   "codemirror_mode": {
    "name": "ipython",
    "version": 3
   },
   "file_extension": ".py",
   "mimetype": "text/x-python",
   "name": "python",
   "nbconvert_exporter": "python",
   "pygments_lexer": "ipython3",
   "version": "3.6.3"
  }
 },
 "nbformat": 4,
 "nbformat_minor": 2
}
