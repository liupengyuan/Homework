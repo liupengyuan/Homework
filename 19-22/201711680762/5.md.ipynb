{
 "cells": [
  {
   "cell_type": "code",
   "execution_count": null,
   "metadata": {},
   "outputs": [],
   "source": [
    "#练习1 "
   ]
  },
  {
   "cell_type": "code",
   "execution_count": 1,
   "metadata": {},
   "outputs": [],
   "source": [
    "def my_work(m,n,k):\n",
    "    import random ,math\n",
    "    l=random.randint(m,k)\n",
    "    i=0\n",
    "    \n",
    "    total=0\n",
    "    while i<n:\n",
    "        i+=1\n",
    "        total+=l\n",
    "    print(math.sqrt(total/n))"
   ]
  },
  {
   "cell_type": "code",
   "execution_count": 2,
   "metadata": {},
   "outputs": [
    {
     "name": "stdout",
     "output_type": "stream",
     "text": [
      "7\n",
      "10\n",
      "20\n",
      "3.605551275463989\n"
     ]
    }
   ],
   "source": [
    "n=int(input())\n",
    "m=int(input())\n",
    "k=int(input())\n",
    "my_work(m,n,k)"
   ]
  },
  {
   "cell_type": "code",
   "execution_count": null,
   "metadata": {},
   "outputs": [],
   "source": [
    "#练习3"
   ]
  },
  {
   "cell_type": "code",
   "execution_count": 42,
   "metadata": {},
   "outputs": [],
   "source": [
    "def my_work(m,n):\n",
    "    import random\n",
    "    n=random.randint(1,9)\n",
    "    i=0\n",
    "    l=0\n",
    "    k=0\n",
    "    total=0\n",
    "    while i<m:\n",
    "        i+=1\n",
    "        k=10**(i-1)*n\n",
    "        l+=k\n",
    "        total+=l\n",
    "    print(total)\n"
   ]
  },
  {
   "cell_type": "code",
   "execution_count": 43,
   "metadata": {},
   "outputs": [
    {
     "name": "stdout",
     "output_type": "stream",
     "text": [
      "4\n",
      "2468\n"
     ]
    }
   ],
   "source": [
    "m=int(input())\n",
    "my_work(m,n)"
   ]
  },
  {
   "cell_type": "code",
   "execution_count": null,
   "metadata": {},
   "outputs": [],
   "source": [
    "#挑战性练习"
   ]
  },
  {
   "cell_type": "code",
   "execution_count": 1,
   "metadata": {},
   "outputs": [
    {
     "name": "stdout",
     "output_type": "stream",
     "text": [
      "请输入正确数字：32\n",
      "一共可以猜 5 次\n",
      "计算机已猜了 1 次\n",
      "计算机比标准数字大\n",
      "一共可以猜 5 次\n",
      "计算机已猜了 2 次\n",
      "计算机比标准数字小\n",
      "一共可以猜 5 次\n",
      "计算机已猜了 3 次\n",
      "计算机比标准数字大\n",
      "一共可以猜 5 次\n",
      "计算机已猜了 4 次\n",
      "计算机比标准数字小\n",
      "一共可以猜 5 次\n",
      "计算机已猜了 5 次\n",
      "计算机比标准数字大\n",
      "正确数字是 32 计算机输了，( •̀ ω •́ )y\n"
     ]
    }
   ],
   "source": [
    "def guess_game():\n",
    "    import random ,math\n",
    "    n=int(input(\"请输入正确数字：\"))\n",
    "    max_times=math.ceil(math.log2(n))\n",
    "    guess_times=0\n",
    "    while guess_times<max_times:\n",
    "        number=random.randint(1,100)\n",
    "        k=random.randint(1,n+number)\n",
    "        guess_times+=1\n",
    "        print(\"一共可以猜\",max_times,\"次\")\n",
    "        print(\"计算机已猜了\",guess_times,\"次\")\n",
    "        if k==n:\n",
    "            print(\"计算机赢了，/(ㄒoㄒ)/~~\")\n",
    "            print(\"神秘数字是：\",n)\n",
    "            print(\"计算机猜的次数比标准次数少\",max_times-guess_times,\"次\")\n",
    "            break\n",
    "        elif k>n:\n",
    "            print(\"计算机比标准数字大\")\n",
    "        else:\n",
    "            print(\"计算机比标准数字小\")\n",
    "    else:\n",
    "        print(\"正确数字是\",n ,\"计算机输了，( •̀ ω •́ )y\")\n",
    "\n",
    "        \n",
    "guess_game()"
   ]
  },
  {
   "cell_type": "code",
   "execution_count": null,
   "metadata": {},
   "outputs": [],
   "source": []
  },
  {
   "cell_type": "code",
   "execution_count": null,
   "metadata": {},
   "outputs": [],
   "source": []
  }
 ],
 "metadata": {
  "kernelspec": {
   "display_name": "Python 3",
   "language": "python",
   "name": "python3"
  },
  "language_info": {
   "codemirror_mode": {
    "name": "ipython",
    "version": 3
   },
   "file_extension": ".py",
   "mimetype": "text/x-python",
   "name": "python",
   "nbconvert_exporter": "python",
   "pygments_lexer": "ipython3",
   "version": "3.6.3"
  }
 },
 "nbformat": 4,
 "nbformat_minor": 2
}
