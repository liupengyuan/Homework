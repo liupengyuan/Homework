{
 "cells": [
  {
   "cell_type": "code",
   "execution_count": null,
   "metadata": {},
   "outputs": [],
   "source": [
    "import random\n",
    "ph=open(r'‪D:\\idioms.txt')\n",
    "text=ph.read()\n",
    "ph.close()\n",
    "idiom=text.split()\n",
    "i=0\n",
    "m=0\n",
    "n=0\n",
    "while i<len(text):\n",
    "    word1=random.choice(idiom)\n",
    "    print(word1)\n",
    "    word2=input()\n",
    "    if word1[-1]==word2[0]:\n",
    "        m=m+10\n",
    "    else:\n",
    "        m=m+0\n",
    "    word3=random.choice(idiom)\n",
    "    print(word3)\n",
    "    if word3[0]==word2[-1]:\n",
    "        n=n+10\n",
    "    else:\n",
    "        n=n+0\n",
    "    i+=1\n",
    "    if word1[-1]!=word2[0] or word2[-1]!=word3[0]:\n",
    "        print(m,n)\n",
    "    break"
   ]
  },
  {
   "cell_type": "code",
   "execution_count": null,
   "metadata": {},
   "outputs": [],
   "source": []
  },
  {
   "cell_type": "code",
   "execution_count": null,
   "metadata": {},
   "outputs": [],
   "source": []
  }
 ],
 "metadata": {
  "kernelspec": {
   "display_name": "Python 3",
   "language": "python",
   "name": "python3"
  },
  "language_info": {
   "codemirror_mode": {
    "name": "ipython",
    "version": 3
   },
   "file_extension": ".py",
   "mimetype": "text/x-python",
   "name": "python",
   "nbconvert_exporter": "python",
   "pygments_lexer": "ipython3",
   "version": "3.6.3"
  }
 },
 "nbformat": 4,
 "nbformat_minor": 2
}
