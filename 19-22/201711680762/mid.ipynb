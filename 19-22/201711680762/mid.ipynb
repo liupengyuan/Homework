{
 "cells": [
  {
   "cell_type": "code",
   "execution_count": null,
   "metadata": {},
   "outputs": [],
   "source": [
    "# 1"
   ]
  },
  {
   "cell_type": "code",
   "execution_count": 28,
   "metadata": {},
   "outputs": [],
   "source": [
    "def sum(m):\n",
    "    i=0\n",
    "    total=0\n",
    "    while i<m:\n",
    "        i=i+1\n",
    "        total+=i*m\n",
    "        m=m-1\n",
    "    print(total)\n",
    "\n",
    "    \n",
    "    "
   ]
  },
  {
   "cell_type": "code",
   "execution_count": 29,
   "metadata": {},
   "outputs": [
    {
     "name": "stdout",
     "output_type": "stream",
     "text": [
      "14\n",
      "280\n"
     ]
    }
   ],
   "source": [
    "n=int(input())\n",
    "sum(n)"
   ]
  },
  {
   "cell_type": "code",
   "execution_count": null,
   "metadata": {},
   "outputs": [],
   "source": [
    "# 2"
   ]
  },
  {
   "cell_type": "code",
   "execution_count": 32,
   "metadata": {},
   "outputs": [],
   "source": [
    "def pic():\n",
    "    m=input()\n",
    "    l=0\n",
    "    i=0\n",
    "    k=0\n",
    "    while i<n:\n",
    "        i+=1\n",
    "        k=2*i-1\n",
    "        l=k*m\n",
    "        print(l)\n",
    "        \n",
    "        \n",
    "        \n",
    "        \n",
    "    \n",
    "    "
   ]
  },
  {
   "cell_type": "code",
   "execution_count": 34,
   "metadata": {},
   "outputs": [
    {
     "name": "stdout",
     "output_type": "stream",
     "text": [
      "5\n",
      "*\n",
      "*\n",
      "***\n",
      "*****\n",
      "*******\n",
      "*********\n"
     ]
    }
   ],
   "source": [
    "n=int(input())\n",
    "pic()"
   ]
  },
  {
   "cell_type": "code",
   "execution_count": null,
   "metadata": {},
   "outputs": [],
   "source": [
    "* 3"
   ]
  },
  {
   "cell_type": "code",
   "execution_count": 56,
   "metadata": {},
   "outputs": [],
   "source": [
    "def fir(num):\n",
    "    n=len(num)\n",
    "    print(num[0])\n",
    "    \n",
    "    "
   ]
  },
  {
   "cell_type": "code",
   "execution_count": 57,
   "metadata": {},
   "outputs": [
    {
     "name": "stdout",
     "output_type": "stream",
     "text": [
      "789090\n"
     ]
    }
   ],
   "source": [
    "n=[789090]\n",
    "fir(n)"
   ]
  },
  {
   "cell_type": "code",
   "execution_count": null,
   "metadata": {},
   "outputs": [],
   "source": [
    "* 4"
   ]
  },
  {
   "cell_type": "code",
   "execution_count": 51,
   "metadata": {},
   "outputs": [],
   "source": [
    "def lis(num):\n",
    "    l=0\n",
    "    total=0\n",
    "    k=0\n",
    "  \n",
    "    n=len(num)\n",
    "    for i in range(n):\n",
    "        total+=num[i]\n",
    "        \n",
    "    \n",
    "    k=total/n\n",
    "    for i in range(n):\n",
    "        if num[i]>k:\n",
    "            l=num[i]-k\n",
    "    \n",
    "    print(k,l)\n",
    "    \n",
    "   \n",
    "   \n",
    "   "
   ]
  },
  {
   "cell_type": "code",
   "execution_count": 52,
   "metadata": {},
   "outputs": [
    {
     "name": "stdout",
     "output_type": "stream",
     "text": [
      "181.11111111111111 8.888888888888886\n"
     ]
    }
   ],
   "source": [
    "n=[183,185,183,187,178,175,177,190,172]\n",
    "lis(n)"
   ]
  },
  {
   "cell_type": "code",
   "execution_count": null,
   "metadata": {},
   "outputs": [],
   "source": [
    "* 5"
   ]
  },
  {
   "cell_type": "code",
   "execution_count": 24,
   "metadata": {},
   "outputs": [],
   "source": [
    "def game():\n",
    "    import random\n",
    "    i=0\n",
    "    k=0\n",
    "    l=0\n",
    "    total=0\n",
    "   \n",
    "    while i<5:\n",
    "        m=int(input())\n",
    "        i+=1\n",
    "        k=random.randint(0,10)\n",
    "        l=random.randint(0,10)\n",
    "        if m==k+l:\n",
    "            total+=20\n",
    "        else:\n",
    "            total+=0\n",
    "    print(total)\n",
    "            \n",
    "        \n",
    "        "
   ]
  },
  {
   "cell_type": "code",
   "execution_count": 25,
   "metadata": {},
   "outputs": [
    {
     "name": "stdout",
     "output_type": "stream",
     "text": [
      "12\n",
      "14\n",
      "8\n",
      "14\n",
      "9\n",
      "20\n"
     ]
    }
   ],
   "source": [
    "game()"
   ]
  },
  {
   "cell_type": "code",
   "execution_count": null,
   "metadata": {},
   "outputs": [],
   "source": [
    "* 6"
   ]
  },
  {
   "cell_type": "code",
   "execution_count": 26,
   "metadata": {},
   "outputs": [],
   "source": [
    "def com():\n",
    "    num=[]\n",
    "    \n",
    "    n=int(input())\n",
    "    for i in range(n):\n",
    "        k=int(input())\n",
    "        num.append(k)\n",
    "    \n",
    "    num[0]=max(num)\n",
    "    num[n-1]=min(num)\n",
    "    \n",
    "    print(num)\n",
    "    \n",
    "    \n",
    "    \n",
    "    \n",
    "    "
   ]
  },
  {
   "cell_type": "code",
   "execution_count": 27,
   "metadata": {},
   "outputs": [
    {
     "name": "stdout",
     "output_type": "stream",
     "text": [
      "7\n",
      "3\n",
      "-5\n",
      "9\n",
      "108\n",
      "34\n",
      "-76\n",
      "88\n",
      "[108, -5, 9, 108, 34, -76, -76]\n"
     ]
    }
   ],
   "source": [
    "com()"
   ]
  },
  {
   "cell_type": "code",
   "execution_count": null,
   "metadata": {},
   "outputs": [],
   "source": []
  }
 ],
 "metadata": {
  "kernelspec": {
   "display_name": "Python 3",
   "language": "python",
   "name": "python3"
  },
  "language_info": {
   "codemirror_mode": {
    "name": "ipython",
    "version": 3
   },
   "file_extension": ".py",
   "mimetype": "text/x-python",
   "name": "python",
   "nbconvert_exporter": "python",
   "pygments_lexer": "ipython3",
   "version": "3.6.3"
  }
 },
 "nbformat": 4,
 "nbformat_minor": 2
}
