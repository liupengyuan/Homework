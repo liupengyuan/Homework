{
 "cells": [
  {
   "cell_type": "code",
   "execution_count": null,
   "metadata": {},
   "outputs": [],
   "source": [
    "import random , time ,bisect\n",
    "with open(r'‪E:\\语料.txt') as ph:\n",
    "    A=[]\n",
    "    B=[]\n",
    "    C=[]\n",
    "    D=[]\n",
    "    k=0\n",
    "    b=0\n",
    "    n=0\n",
    "    for line in ph:\n",
    "        if n <=100000:\n",
    "            m=A.append(line)\n",
    "            print(m.sort())\n",
    "            k=random.choice(A)\n",
    "            if k not in B:\n",
    "                a=B.append(k)\n",
    "            print(a)\n",
    "            n=len(A)\n",
    "        if d<=110000:\n",
    "            f=C.append(line)\n",
    "        for i in range(1000):\n",
    "            ys=random.choice(f)\n",
    "            D=D.append(ys)\n",
    "        for line in a:\n",
    "            start_time =time.time()\n",
    "            words=[word.split('/')[0] for word in line.split()]\n",
    "            for word in words:\n",
    "                for item in D:\n",
    "                    if word==item[0]:\n",
    "                        pass\n",
    "                    else:\n",
    "                        break\n",
    "                    end_time =time.time()\n",
    "        print(end_time-start_time)\n",
    "        for line in m.sort():\n",
    "            start_time =time.time()\n",
    "            for word in D:\n",
    "                bisect.bisect_left(m.sort(),word)\n",
    "            end_time=time.time()\n",
    "        print(start_time-end_time)\n",
    "            \n",
    "                    \n",
    "        "
   ]
  },
  {
   "cell_type": "code",
   "execution_count": null,
   "metadata": {},
   "outputs": [],
   "source": []
  }
 ],
 "metadata": {
  "kernelspec": {
   "display_name": "Python 3",
   "language": "python",
   "name": "python3"
  },
  "language_info": {
   "codemirror_mode": {
    "name": "ipython",
    "version": 3
   },
   "file_extension": ".py",
   "mimetype": "text/x-python",
   "name": "python",
   "nbconvert_exporter": "python",
   "pygments_lexer": "ipython3",
   "version": "3.6.3"
  }
 },
 "nbformat": 4,
 "nbformat_minor": 2
}
