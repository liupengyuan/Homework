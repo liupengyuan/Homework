{
 "cells": [
  {
   "cell_type": "code",
   "execution_count": 19,
   "metadata": {},
   "outputs": [
    {
     "name": "stdout",
     "output_type": "stream",
     "text": [
      "请决定计算多少个随机整数的均值的平方根并输入3\n",
      "请输入一个正整数1\n",
      "请输入一个正整数（大于上一个数且两者之差不小于第一个数）10\n",
      "随机整数是： 4\n",
      "随机整数是： 10\n",
      "随机整数是： 5\n",
      "这些随机整数的均值是： 6.333333333333333\n",
      "这些随机整数均值的平方根是： 2.516611478423583\n"
     ]
    }
   ],
   "source": [
    "#1写函数，求n个随机整数均值的平方根，整数范围在m与k之间（n,m,k由用户输入）。\n",
    "n=int(input('请决定计算多少个随机整数的均值的平方根并输入'))\n",
    "m=int(input('请输入一个正整数'))\n",
    "k=int(input('请输入一个正整数（大于上一个数且两者之差不小于第一个数）'))\n",
    "def test():\n",
    "    i=0\n",
    "    total=0\n",
    "    import random,math\n",
    "    while  i<n:\n",
    "        num=random.randint(m,k)\n",
    "        print('随机整数是：',num)\n",
    "        total=total+num\n",
    "        i=i+1\n",
    "    print ('这些随机整数的均值是：',total/n)\n",
    "    b=math.sqrt(total/n)\n",
    "    print('这些随机整数均值的平方根是：',b)\n",
    "test()\n"
   ]
  },
  {
   "cell_type": "code",
   "execution_count": 1,
   "metadata": {},
   "outputs": [
    {
     "name": "stdout",
     "output_type": "stream",
     "text": [
      "请决定计算多少个随机整数的相关运算并输入3\n",
      "请输入一个正整数(不包括1)2\n",
      "请输入一个正整数（大于上一个数且两者之差不小于第一个数）10\n",
      "随机整数是： 6\n",
      "log(i)= 1.791759469228055\n",
      "1/log(i)= 0.5581106265512472\n",
      "随机整数是： 9\n",
      "log(i)= 2.1972245773362196\n",
      "1/log(i)= 0.45511961331341866\n",
      "随机整数是： 2\n",
      "log(i)= 0.6931471805599453\n",
      "1/log(i)= 1.4426950408889634\n",
      "∑log(随机整数)= 4.68213122712422\n",
      "∑1/log(随机整数)= 2.4559252807536294\n"
     ]
    }
   ],
   "source": [
    "#2写函数，共n个随机整数，整数范围在m与k之间，（n,m,k由用户输入）。求1：西格玛log(随机整数)，2：西格玛1/log(随机整数)\n",
    "n=int(input('请决定计算多少个随机整数的相关运算并输入'))\n",
    "m=int(input('请输入一个正整数(不包括1)'))\n",
    "k=int(input('请输入一个正整数（大于上一个数且两者之差不小于第一个数）'))\n",
    "def con():\n",
    "    total1=0\n",
    "    total2=0\n",
    "    w=0\n",
    "    import random,math\n",
    "    while w<n:\n",
    "        i=random.randint( m,k)\n",
    "        print('随机整数是：',i)\n",
    "        w=w+1\n",
    "        a=math.log(i)\n",
    "        b=1/math.log(i)\n",
    "        print ('log(i)=',a)\n",
    "        print('1/log(i)=',b)\n",
    "        total1=total1+a\n",
    "        total2=total2+b\n",
    "        \n",
    "    print('∑log(随机整数)=',total1)\n",
    "    print('∑1/log(随机整数)=',total2)\n",
    "con()"
   ]
  },
  {
   "cell_type": "code",
   "execution_count": 31,
   "metadata": {},
   "outputs": [
    {
     "name": "stdout",
     "output_type": "stream",
     "text": [
      "请输入一个正整数以确定几个数相加并以回车结束5\n",
      "这个随机数是: 3\n",
      "s= 37035\n"
     ]
    }
   ],
   "source": [
    "#3写函数，求s=a+aa+aaa+aaaa+aa...a的值，其中a是[1,9]之间的随机整数。例如2+22+222+2222+22222(此时共有5个数相加)，几个数相加由键盘输入。\n",
    "n=int(input('请输入一个正整数以确定几个数相加并以回车结束'))\n",
    "def add():\n",
    "    m=1\n",
    "    s=0\n",
    "    i=0\n",
    "    import random\n",
    "    a=random.randint(1,9)\n",
    "    print('这个随机数是:',a)\n",
    "    b=a\n",
    "    if n==1:\n",
    "        print('s=',a)\n",
    "    else:\n",
    "        while m<n :\n",
    "            i=b+10*a\n",
    "            a=i\n",
    "            s=s+i\n",
    "            m=m+1\n",
    "        print('s=',s+b)\n",
    "add()"
   ]
  },
  {
   "cell_type": "code",
   "execution_count": null,
   "metadata": {},
   "outputs": [
    {
     "name": "stdout",
     "output_type": "stream",
     "text": [
      "请输入一个整数，作为神秘整数的上界。10\n",
      "计算机猜测的数是： 4\n",
      "请判断计算机所猜测的数与你选择的数相比是1.偏大2.偏小3.相等。1\n",
      "计算机猜测的数是： 3\n",
      "请判断计算机所猜测的数与你选择的数相比是1.偏大2.偏小3.相等。1\n",
      "计算机猜测的数是： 3\n",
      "请判断计算机所猜测的数与你选择的数相比是1.偏大2.偏小3.相等。1\n",
      "计算机猜测的数是： 3\n"
     ]
    }
   ],
   "source": [
    "#4挑战性练习：仿照task5，将猜数游戏改成由用户随便选择一个整数，让计算机来猜测的猜数游戏，要求和task5中人猜测的方法类似，但是人机角色对换，由人来判断猜测是大、小还是相等，请写出完\n",
    "1.\n",
    "def guess_game():\n",
    "    import random,math\n",
    "    n=int(input('请输入一个整数，作为神秘整数的上界。'))\n",
    "    number1=random.randint(1,n)\n",
    "    print ('计算机猜测的数是：',number1)\n",
    "    max_times=math.ceil(math.log2(n))\n",
    "    guess_times=0\n",
    "    \n",
    "  \n",
    "    while guess_times<max_times:\n",
    "        guess=int(input('请判断计算机所猜测的数与你选择的数相比是1.偏大2.偏小3.相等。'))\n",
    "        guess_times += 1\n",
    "        \n",
    "        if guess==1:\n",
    "            number2=random.randint(1,number1-1)\n",
    "            number2!=number1\n",
    "            print('计算机猜测的数是：',number2)\n",
    "        elif    guess==2:\n",
    "                number2=random.randint(number1+1,n)\n",
    "                number2!=number1\n",
    "                print('计算机猜测的数是：',number2)\n",
    "        elif guess==3:\n",
    "            print('计算机获胜！')\n",
    "            break\n",
    "    else:\n",
    "        print('恭喜你，你在与计算机的PK中获胜！')\n",
    "guess_game()\n",
    "\n",
    "\n"
   ]
  },
  {
   "cell_type": "code",
   "execution_count": 3,
   "metadata": {},
   "outputs": [
    {
     "name": "stdout",
     "output_type": "stream",
     "text": [
      "请输入一个整数(大于一)，作为神秘整数的上界。10\n",
      "计算机猜测的数是： 10\n",
      "请判断计算机所猜测的数与你选择的数相比是1.偏大2.偏小3.相等。1\n",
      "计算机猜测的数是： [0]\n",
      "请判断计算机所猜测的数与你选择的数相比是1.偏大2.偏小3.相等。2\n"
     ]
    },
    {
     "ename": "TypeError",
     "evalue": "can only concatenate list (not \"int\") to list",
     "output_type": "error",
     "traceback": [
      "\u001b[1;31m---------------------------------------------------------------------------\u001b[0m",
      "\u001b[1;31mTypeError\u001b[0m                                 Traceback (most recent call last)",
      "\u001b[1;32m<ipython-input-3-d0b67f966ae1>\u001b[0m in \u001b[0;36m<module>\u001b[1;34m()\u001b[0m\n\u001b[0;32m     31\u001b[0m     \u001b[1;32melse\u001b[0m\u001b[1;33m:\u001b[0m\u001b[1;33m\u001b[0m\u001b[0m\n\u001b[0;32m     32\u001b[0m         \u001b[0mprint\u001b[0m\u001b[1;33m(\u001b[0m\u001b[1;34m'恭喜你，你在与计算机的PK中获胜！'\u001b[0m\u001b[1;33m)\u001b[0m\u001b[1;33m\u001b[0m\u001b[0m\n\u001b[1;32m---> 33\u001b[1;33m \u001b[0mguess_game\u001b[0m\u001b[1;33m(\u001b[0m\u001b[1;33m)\u001b[0m\u001b[1;33m\u001b[0m\u001b[0m\n\u001b[0m",
      "\u001b[1;32m<ipython-input-3-d0b67f966ae1>\u001b[0m in \u001b[0;36mguess_game\u001b[1;34m()\u001b[0m\n\u001b[0;32m     20\u001b[0m                 \u001b[0mprint\u001b[0m\u001b[1;33m(\u001b[0m\u001b[1;34m'计算机猜测的数是：'\u001b[0m\u001b[1;33m,\u001b[0m\u001b[0mnumber\u001b[0m\u001b[1;33m)\u001b[0m\u001b[1;33m\u001b[0m\u001b[0m\n\u001b[0;32m     21\u001b[0m         \u001b[1;32melif\u001b[0m    \u001b[0mguess\u001b[0m\u001b[1;33m==\u001b[0m\u001b[1;36m2\u001b[0m\u001b[1;33m:\u001b[0m\u001b[1;33m\u001b[0m\u001b[0m\n\u001b[1;32m---> 22\u001b[1;33m                     \u001b[0mb\u001b[0m\u001b[1;33m==\u001b[0m\u001b[0mnumber\u001b[0m\u001b[1;33m+\u001b[0m\u001b[1;36m1\u001b[0m\u001b[1;33m\u001b[0m\u001b[0m\n\u001b[0m\u001b[0;32m     23\u001b[0m \u001b[1;33m\u001b[0m\u001b[0m\n\u001b[0;32m     24\u001b[0m                     \u001b[0ma\u001b[0m\u001b[1;33m=\u001b[0m\u001b[1;33m(\u001b[0m\u001b[0mb\u001b[0m\u001b[1;33m,\u001b[0m\u001b[0mn\u001b[0m\u001b[1;33m)\u001b[0m\u001b[1;33m\u001b[0m\u001b[0m\n",
      "\u001b[1;31mTypeError\u001b[0m: can only concatenate list (not \"int\") to list"
     ]
    }
   ],
   "source": [
    "2.\n",
    "def guess_game():\n",
    "    import random,math\n",
    "    n=int(input('请输入一个整数(大于一)，作为神秘整数的上界。'))\n",
    "    number=random.randint(1,n)\n",
    "    print ('计算机猜测的数是：',number)\n",
    "    max_times=math.ceil(math.log2(n))\n",
    "    guess_times=0\n",
    "    b=0\n",
    "  \n",
    "    while guess_times<max_times:\n",
    "        guess=int(input('请判断计算机所猜测的数与你选择的数相比是1.偏大2.偏小3.相等。'))\n",
    "        guess_times += 1\n",
    "        \n",
    "        if guess==1:\n",
    "                b==number-1\n",
    "                a =(1,b)\n",
    "                number=random.sample(a,1)                                       \n",
    "           \n",
    "                print('计算机猜测的数是：',number)\n",
    "        elif    guess==2:\n",
    "                    b=number+1\n",
    "                   \n",
    "                    a=(b,n)\n",
    "                    number=random.sample(a,1)\n",
    "           \n",
    "                    print('计算机猜测的数是：',number)\n",
    "        elif guess==3:\n",
    "            print('计算机获胜！')\n",
    "            break\n",
    "    else:\n",
    "        print('恭喜你，你在与计算机的PK中获胜！')\n",
    "guess_game()\n"
   ]
  },
  {
   "cell_type": "code",
   "execution_count": null,
   "metadata": {
    "collapsed": true
   },
   "outputs": [],
   "source": []
  }
 ],
 "metadata": {
  "kernelspec": {
   "display_name": "Python 3",
   "language": "python",
   "name": "python3"
  },
  "language_info": {
   "codemirror_mode": {
    "name": "ipython",
    "version": 3
   },
   "file_extension": ".py",
   "mimetype": "text/x-python",
   "name": "python",
   "nbconvert_exporter": "python",
   "pygments_lexer": "ipython3",
   "version": "3.6.2"
  }
 },
 "nbformat": 4,
 "nbformat_minor": 2
}
