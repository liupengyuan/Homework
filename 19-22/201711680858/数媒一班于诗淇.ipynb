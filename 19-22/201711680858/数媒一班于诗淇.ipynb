{
 "cells": [
  {
   "cell_type": "code",
   "execution_count": 1,
   "metadata": {},
   "outputs": [
    {
     "name": "stdout",
     "output_type": "stream",
     "text": [
      "请输入你的名字，以回车结束yushiqi\n",
      "请输入你的出生月份，以回车结束7\n",
      "请输入你的出生日期，以回车结束25\n",
      "yushiqi 你是狮子座\n"
     ]
    }
   ],
   "source": [
    "#1写程序，可由键盘读入用户姓名例如Mr. right，让用户输入出生的月份与日期，判断用户星座\n",
    "name=input('请输入你的名字，以回车结束')\n",
    "\n",
    "m=int(input('请输入你的出生月份，以回车结束'))\n",
    "d=int(input('请输入你的出生日期，以回车结束'))\n",
    "\n",
    "\n",
    "if m==1 and 1<=d<=19 or m==12 and 22<=d<=31:\n",
    "    print(name,'你是摩羯座')\n",
    "elif m==1 and 20 <=d<= 31 or m==2 and 1<=d<=18:\n",
    "    print(name,'你是水瓶座')\n",
    "elif m==2 and 19<=d<=29 or m==3 and 1<=d<=20:\n",
    "     print(name,'你是双鱼座')\n",
    "elif m==3 and 21<=d<=31 or m==4 and 1<=d<=19:\n",
    "     print(name,'你是白羊座')\n",
    "elif m==4 and 20<=d<=31 or m== 5 and 1<=d<=20:\n",
    "     print(name,'你是金牛座')\n",
    "elif m==5 and 21<=d<=30 or m==6 and 1<=d<=21:\n",
    "     print(name,'你是双子座')\n",
    "elif m==6 and 22<=d<=31 or m==7 and 1<=d<=22:\n",
    "     print(name,'你是巨蟹座')  \n",
    "elif m==7 and 23<=d<=31 or m==8 and 1<=d<=22:\n",
    "     print(name,'你是狮子座')  \n",
    "elif m==8 and 23<=d<=31 or m==9 and 1<=d<=22:\n",
    "     print(name,'你是处女座')\n",
    "elif m==9 and 23<=d<=30 or m==10 and 1<=d<=23:\n",
    "     print(name,'你是天秤座') \n",
    "elif m==10 and 24<=d<=31 or m==11 and 1<=d<=22:\n",
    "     print(name,'你是天蝎座')\n",
    "elif m==11 and 23<=d<=30 or m==12 and 1<=d<=21:\n",
    "     print(name,'你是射手座')"
   ]
  },
  {
   "cell_type": "code",
   "execution_count": 8,
   "metadata": {},
   "outputs": [
    {
     "name": "stdout",
     "output_type": "stream",
     "text": [
      "请输入一个整数6\n",
      "请输入一个不等于0的整数4\n",
      "请选择下一步操作：1.计算从m到n的和 2.计算从m到n的积 3.求m/n的商 4.求m/n的余数4\n",
      "2\n"
     ]
    }
   ],
   "source": [
    "#2写程序，可由键盘读入两个整数m与n(n不等于0)，询问用户意图，如果要求和则计算从m到n的和输出，如果要乘积则计算从m到n的积并输出，如果要求余数则计算m除以n的余数的值并输出，否则则计算m整除n的值并输出。\n",
    "m=int(input('请输入一个整数'))\n",
    "n=int(input('请输入一个不等于0的整数'))\n",
    "a=int(input('请选择下一步操作：1.计算从m到n的和 2.计算从m到n的积 3.求m/n的商 4.求m/n的余数'))\n",
    "total=m\n",
    "if a==1:\n",
    "    while m < n:\n",
    "        m=m+1\n",
    "        total=total+m\n",
    "    print(total)\n",
    "elif a==2:\n",
    "    while m<n:\n",
    "        m=m+1\n",
    "        total*=m\n",
    "    print(total)\n",
    "elif a==3:\n",
    "    i=m//n\n",
    "    print(i)\n",
    "elif a==4:\n",
    "    i=m%n\n",
    "    print(i)\n",
    "         \n"
   ]
  },
  {
   "cell_type": "code",
   "execution_count": 5,
   "metadata": {},
   "outputs": [
    {
     "name": "stdout",
     "output_type": "stream",
     "text": [
      "请入一个英文单词，以回车结束，dress\n",
      "dresses\n"
     ]
    }
   ],
   "source": [
    "#4：英文单词单数转复数，要求输入一个英文动词（单数形式），能够得到其复数形式，或给出单数转复数形式的建议\n",
    "n=input('请入一个英文单词，以回车结束，')\n",
    "if   n.endswith('s') or n.endswish('x')or n.endswish('ch'):\n",
    "    print(n,'es' ,sep='')\n",
    "    \n",
    "    \n",
    "    \n",
    "    "
   ]
  }
 ],
 "metadata": {
  "kernelspec": {
   "display_name": "Python 3",
   "language": "python",
   "name": "python3"
  },
  "language_info": {
   "codemirror_mode": {
    "name": "ipython",
    "version": 3
   },
   "file_extension": ".py",
   "mimetype": "text/x-python",
   "name": "python",
   "nbconvert_exporter": "python",
   "pygments_lexer": "ipython3",
   "version": "3.6.2"
  }
 },
 "nbformat": 4,
 "nbformat_minor": 2
}
