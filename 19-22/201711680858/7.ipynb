{
 "cells": [
  {
   "cell_type": "code",
   "execution_count": 1,
   "metadata": {},
   "outputs": [
    {
     "name": "stdout",
     "output_type": "stream",
     "text": [
      "123456789\n",
      "987654321\n"
     ]
    }
   ],
   "source": [
    "#练习一：自己定义一个reverse(s)函数，功能返回字符串s的倒序字符串。\n",
    "\n",
    "s=str(input())\n",
    "def reverse(s):\n",
    "    print(s[::-1])\n",
    "reverse(s)  "
   ]
  },
  {
   "cell_type": "code",
   "execution_count": 38,
   "metadata": {},
   "outputs": [
    {
     "name": "stdout",
     "output_type": "stream",
     "text": [
      "请给定打印行数5\n",
      "请给定打印字符*\n",
      "*\n",
      "**\n",
      "***\n",
      "****\n",
      "*****\n",
      "请给定打印行数6\n",
      "请给定打印字符*\n",
      "      * \n",
      "     * * \n",
      "    * * * \n",
      "   * * * * \n",
      "  * * * * * \n",
      " * * * * * * \n",
      "请给定打印行数7\n",
      "请给定打印字符*\n",
      "* * * * * * *  \n",
      " * * * * * *  \n",
      "  * * * * *  \n",
      "   * * * *  \n",
      "    * * *  \n",
      "     * *  \n",
      "      *  \n"
     ]
    }
   ],
   "source": [
    "#练习二：写函数，根据给定符号和行数，打印相应直角三角形，等腰三角形及其他形式的三角形。\n",
    "def copy1():\n",
    "    n=int(input('请给定打印行数'))\n",
    "    l= str(input('请给定打印字符'))\n",
    "    for i in range(n):\n",
    "        for k in range(n - i, n+1):\n",
    "            print(l, end='')\n",
    "        print('')\n",
    "        \n",
    "copy1()\n",
    "def copy2():\n",
    "    n=int(input('请给定打印行数'))\n",
    "    l= str(input('请给定打印字符'))\n",
    "    for i in range(n):\n",
    "        for j in range(0, n - i):\n",
    "            print(end=' ')\n",
    "        for k in range(n - i, n+1):\n",
    "            print(l, end=' ')\n",
    "        print('')\n",
    "copy2()\n",
    "def copy3():\n",
    "    n=int(input('请给定打印行数'))\n",
    "    l= str(input('请给定打印字符'))\n",
    "    for i in range(n):\n",
    "        for j in range(0,i):\n",
    "            print(end=' ')\n",
    "            \n",
    "        for k in range(i,n):\n",
    "            print(l, end=' ')\n",
    "\n",
    "        print(' ')\n",
    "copy3()"
   ]
  },
  {
   "cell_type": "code",
   "execution_count": 51,
   "metadata": {},
   "outputs": [
    {
     "name": "stdout",
     "output_type": "stream",
     "text": [
      "请给定打印行数5\n",
      "请给定打印字符*\n",
      "     *  \n",
      "    * *  \n",
      "   * * *  \n",
      "  * * * *  \n",
      " * * * * *  \n",
      "* * * * * *  \n",
      " * * * * *  \n",
      "  * * * *  \n",
      "   * * *  \n",
      "    * *  \n",
      "     *  \n",
      "       \n"
     ]
    }
   ],
   "source": [
    "#练习五：写函数，根据给定符号，打印各种菱形。\n",
    "def cir():\n",
    "    n=int(input('请给定打印行数'))\n",
    "    l= str(input('请给定打印字符'))\n",
    "    for i in range(n):\n",
    "        for j in range(0, n - i):\n",
    "            print(end=' ')\n",
    "        for k in range(n - i, n+1):\n",
    "            print(l, end=' ')\n",
    "        print(' ')\n",
    "    for i in range(n+2):\n",
    "        for m in range(0,i):\n",
    "            print(end=' ')\n",
    "        for n in range(i,n+1):\n",
    "            print(l, end=' ')\n",
    "\n",
    "        print(' ')\n",
    "cir()       "
   ]
  },
  {
   "cell_type": "code",
   "execution_count": null,
   "metadata": {
    "collapsed": true
   },
   "outputs": [],
   "source": []
  }
 ],
 "metadata": {
  "kernelspec": {
   "display_name": "Python 3",
   "language": "python",
   "name": "python3"
  },
  "language_info": {
   "codemirror_mode": {
    "name": "ipython",
    "version": 3
   },
   "file_extension": ".py",
   "mimetype": "text/x-python",
   "name": "python",
   "nbconvert_exporter": "python",
   "pygments_lexer": "ipython3",
   "version": "3.6.2"
  }
 },
 "nbformat": 4,
 "nbformat_minor": 2
}
