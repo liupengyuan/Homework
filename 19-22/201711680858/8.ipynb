{
 "cells": [
  {
   "cell_type": "code",
   "execution_count": 1,
   "metadata": {},
   "outputs": [
    {
     "name": "stdout",
     "output_type": "stream",
     "text": [
      "钟鸣鼎食\n",
      "敢接吗？(结束游戏请输入‘end’)食为民天\n",
      "天下为公\n",
      "敢接吗？(结束游戏请输入‘end’)公私分明\n",
      "明日黄花\n",
      "敢接吗？(结束游戏请输入‘end’)end\n",
      "game over\n",
      "your score 20\n",
      "computer's score 30\n"
     ]
    }
   ],
   "source": [
    "import random\n",
    "fh = open(r'c:\\temp\\成语大全.txt')\n",
    "text=fh.read()\n",
    "text = text.replace('、', '')\n",
    "idioms = text.split('\\n')\n",
    "def con():\n",
    "    i=1\n",
    "    \n",
    "    score1=0\n",
    "    score2=10\n",
    "    m=random.choice(idioms)\n",
    "    print(m)\n",
    "    while i==1:\n",
    "        n=input('敢接吗？(结束游戏请输入‘end’)')\n",
    "       \n",
    "        if  n[0]==m[len(m)-1] and i==1  :\n",
    "            i==1\n",
    "            score1+=10\n",
    "            for m in idioms:\n",
    "                m=random.choice(idioms)\n",
    "                if m[0]==n[len(n)-1]:\n",
    "                    score2+=10\n",
    "                    print(m)\n",
    "                    break\n",
    "        \n",
    "        elif n==\"end\":\n",
    "            i==0\n",
    "            print('game over')\n",
    "            print('your score',score1)       \n",
    "            print(\"computer's score\",score2)\n",
    "            break\n",
    "        else: \n",
    "            i==0\n",
    "            print('game over')\n",
    "            print('your score',score1)       \n",
    "            print(\"computer's score\",score2)\n",
    "            \n",
    "con()\n"
   ]
  }
 ],
 "metadata": {
  "kernelspec": {
   "display_name": "Python 3",
   "language": "python",
   "name": "python3"
  },
  "language_info": {
   "codemirror_mode": {
    "name": "ipython",
    "version": 3
   },
   "file_extension": ".py",
   "mimetype": "text/x-python",
   "name": "python",
   "nbconvert_exporter": "python",
   "pygments_lexer": "ipython3",
   "version": "3.6.2"
  }
 },
 "nbformat": 4,
 "nbformat_minor": 2
}
