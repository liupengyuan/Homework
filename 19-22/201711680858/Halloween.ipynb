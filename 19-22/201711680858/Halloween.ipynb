{
 "cells": [
  {
   "cell_type": "code",
   "execution_count": 11,
   "metadata": {
    "collapsed": false
   },
   "outputs": [
    {
     "name": "stdout",
     "output_type": "stream",
     "text": [
      "5050\n"
     ]
    }
   ],
   "source": [
    "#写求和函数my_sum(n)\n",
    "def my_sum(n):\n",
    "    i=0\n",
    "    total_n=0\n",
    "    while i<n:\n",
    "        i=i+1\n",
    "        total_n=total_n+i\n",
    "    return total_n\n",
    "print(my_sum(100))"
   ]
  },
  {
   "cell_type": "code",
   "execution_count": 13,
   "metadata": {
    "collapsed": false
   },
   "outputs": [
    {
     "name": "stdout",
     "output_type": "stream",
     "text": [
      "120\n"
     ]
    }
   ],
   "source": [
    "#求积函数my_mul(n)\n",
    "def my_mul(n):\n",
    "    i=1\n",
    "    total_n=1\n",
    "    while i<n:\n",
    "        i=i+1\n",
    "        total_n=total_n*i\n",
    "    return total_n\n",
    "print(my_mul(5))\n"
   ]
  },
  {
   "cell_type": "code",
   "execution_count": 26,
   "metadata": {
    "collapsed": false
   },
   "outputs": [
    {
     "name": "stdout",
     "output_type": "stream",
     "text": [
      "请输入一个数1\n",
      "请输入另外一个数2\n",
      "3\n"
     ]
    }
   ],
   "source": [
    "m=int(input('请输入一个数'))\n",
    "n=int(input('请输入另外一个数'))\n",
    "total1=1\n",
    "total2=1\n",
    "i=1\n",
    "a=1\n",
    "if m>n:\n",
    "    print(computer_sum(m)+computer_sum(n))\n",
    "else:\n",
    "    while i<m :\n",
    "          i=i+1\n",
    "    total1=total1*i\n",
    "    a<n\n",
    "    a=a+1\n",
    "    total2=total2*a\n",
    "print (total1+total2) \n",
    "    \n",
    "    \n",
    "    \n",
    "  \n",
    "    "
   ]
  },
  {
   "cell_type": "code",
   "execution_count": null,
   "metadata": {
    "collapsed": true
   },
   "outputs": [],
   "source": []
  }
 ],
 "metadata": {
  "kernelspec": {
   "display_name": "Python 3",
   "language": "python",
   "name": "python3"
  },
  "language_info": {
   "codemirror_mode": {
    "name": "ipython",
    "version": 3
   },
   "file_extension": ".py",
   "mimetype": "text/x-python",
   "name": "python",
   "nbconvert_exporter": "python",
   "pygments_lexer": "ipython3",
   "version": "3.6.0"
  }
 },
 "nbformat": 4,
 "nbformat_minor": 2
}
