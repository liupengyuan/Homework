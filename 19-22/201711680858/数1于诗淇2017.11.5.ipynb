{
 "cells": [
  {
   "cell_type": "code",
   "execution_count": 8,
   "metadata": {},
   "outputs": [
    {
     "name": "stdout",
     "output_type": "stream",
     "text": [
      "请输入一个数，以回车结束10\n",
      "请输入一个数，以回车结束3\n",
      "请输入一个数，以回车结束2\n",
      "m!+n!+k!= 3628808\n"
     ]
    }
   ],
   "source": [
    "#1求m!+n!+k!\n",
    "m=int(input('请输入一个数，以回车结束'))\n",
    "i=1\n",
    "total1=1\n",
    "while i<m:\n",
    "    i+=1\n",
    "    total1*=i\n",
    "n=int(input('请输入一个数，以回车结束'))\n",
    "a=1\n",
    "total2=1\n",
    "while a<n:\n",
    "    a+=1\n",
    "    total2*=a\n",
    "k=int(input('请输入一个数，以回车结束'))\n",
    "b=1\n",
    "total3=1\n",
    "while b<k:\n",
    "    b+=1\n",
    "    total3*=b\n",
    "print('m!+n!+k!=',total1+total2+total3)\n"
   ]
  },
  {
   "cell_type": "code",
   "execution_count": 58,
   "metadata": {},
   "outputs": [
    {
     "name": "stdout",
     "output_type": "stream",
     "text": [
      "3.140592653839794\n",
      "3.1415826535897198\n"
     ]
    }
   ],
   "source": [
    "#2写函数可返回1 - 1/3 + 1/5 - 1/7...的前n项的和。在主程序中，分别令n=1000及100000，打印4倍该函数的和。\n",
    "def compute_sum(end):\n",
    "    i = 0\n",
    "    total = 0\n",
    "    \n",
    "    while i< end:\n",
    "        i+=1\n",
    "        total=total+(1/(2*i-1))*((-1)**(i-1))\n",
    "       \n",
    "    return total\n",
    "print(4*compute_sum(1000))\n",
    "print(4*compute_sum(100000))"
   ]
  },
  {
   "cell_type": "code",
   "execution_count": 3,
   "metadata": {},
   "outputs": [
    {
     "name": "stdout",
     "output_type": "stream",
     "text": [
      "请输入你的名字，以回车结束yushiqi\n",
      "请输入你的出生月份，以回车结束1\n",
      "请输入你的出生日期，以回车结束11\n",
      "yushiqi 你是摩羯座\n"
     ]
    }
   ],
   "source": [
    "#3将task3中的练习1及练习4改写为函数，并进行调用。\n",
    "def inner(con):\n",
    "\n",
    "    if m==1 and 1<=d<=19 or m==12 and 22<=d<=31:\n",
    "        print(name,'你是摩羯座')\n",
    "    elif m==1 and 20 <=d<= 31 or m==2 and 1<=d<=18:\n",
    "        print(name,'你是水瓶座')\n",
    "    elif m==2 and 19<=d<=29 or m==3 and 1<=d<=20:\n",
    "        print(name,'你是双鱼座')\n",
    "    elif m==3 and 21<=d<=31 or m==4 and 1<=d<=19:\n",
    "        print(name,'你是白羊座')\n",
    "    elif m==4 and 20<=d<=31 or m== 5 and 1<=d<=20:\n",
    "        print(name,'你是金牛座')\n",
    "    elif m==5 and 21<=d<=30 or m==6 and 1<=d<=21:\n",
    "        print(name,'你是双子座')\n",
    "    elif m==6 and 22<=d<=31 or m==7 and 1<=d<=22:\n",
    "        print(name,'你是巨蟹座')  \n",
    "    elif m==7 and 23<=d<=31 or m==8 and 1<=d<=22:\n",
    "        print(name,'你是狮子座')  \n",
    "    elif m==8 and 23<=d<=31 or m==9 and 1<=d<=22:\n",
    "        print(name,'你是处女座')\n",
    "    elif m==9 and 23<=d<=30 or m==10 and 1<=d<=23:\n",
    "        print(name,'你是天秤座') \n",
    "    elif m==10 and 24<=d<=31 or m==11 and 1<=d<=22:\n",
    "        print(name,'你是天蝎座')\n",
    "    elif m==11 and 23<=d<=30 or m==12 and 1<=d<=21:\n",
    "        print(name,'你是射手座')\n",
    "name=input('请输入你的名字，以回车结束')\n",
    "m=int(input('请输入你的出生月份，以回车结束'))\n",
    "d=int(input('请输入你的出生日期，以回车结束'))\n",
    "inner('name,m,n')\n"
   ]
  },
  {
   "cell_type": "code",
   "execution_count": 13,
   "metadata": {},
   "outputs": [
    {
     "name": "stdout",
     "output_type": "stream",
     "text": [
      "请入一个英文单词，以回车结束，dress\n",
      "dresses\n"
     ]
    }
   ],
   "source": [
    "def sum(n):\n",
    "    \n",
    "    if   n.endswith('s') or n.endswish('x')or n.endswish('ch'):\n",
    "        print(n,'es' ,sep='')\n",
    "    \n",
    "    \n",
    "n=input('请入一个英文单词，以回车结束，')\n",
    "sum(n)\n"
   ]
  },
  {
   "cell_type": "code",
   "execution_count": 4,
   "metadata": {
    "collapsed": true
   },
   "outputs": [],
   "source": [
    "#4写程序，可以求从整数m到整数n累加的和，间隔为k，求和部分需用函数实现，主程序中由用户输入m，n，k调用函数验证正确性。\n",
    "def add_end(i)"
   ]
  }
 ],
 "metadata": {
  "kernelspec": {
   "display_name": "Python 3",
   "language": "python",
   "name": "python3"
  },
  "language_info": {
   "codemirror_mode": {
    "name": "ipython",
    "version": 3
   },
   "file_extension": ".py",
   "mimetype": "text/x-python",
   "name": "python",
   "nbconvert_exporter": "python",
   "pygments_lexer": "ipython3",
   "version": "3.6.2"
  }
 },
 "nbformat": 4,
 "nbformat_minor": 2
}
