{
 "cells": [
  {
   "cell_type": "code",
   "execution_count": 2,
   "metadata": {
    "collapsed": false
   },
   "outputs": [
    {
     "name": "stdout",
     "output_type": "stream",
     "text": [
      "请输入一个数5\n",
      "请输入一个数10\n",
      "请输入一个数500\n",
      "15\n",
      "387\n",
      "407\n",
      "417\n",
      "311\n",
      "39.20459156782532\n"
     ]
    }
   ],
   "source": [
    "m=int(input('请输入一个数'))\n",
    "n=int(input('请输入一个数'))\n",
    "k=int(input('请输入一个数'))\n",
    "import random,math\n",
    "i=0\n",
    "total=0\n",
    "while  i<m:\n",
    "    number=random.randint(n,k)\n",
    "    print(number)\n",
    "    total=total+number\n",
    "    i+=1\n",
    "print(math.sqrt(total))"
   ]
  },
  {
   "cell_type": "code",
   "execution_count": null,
   "metadata": {
    "collapsed": true
   },
   "outputs": [],
   "source": []
  }
 ],
 "metadata": {
  "kernelspec": {
   "display_name": "Python 3",
   "language": "python",
   "name": "python3"
  },
  "language_info": {
   "codemirror_mode": {
    "name": "ipython",
    "version": 3
   },
   "file_extension": ".py",
   "mimetype": "text/x-python",
   "name": "python",
   "nbconvert_exporter": "python",
   "pygments_lexer": "ipython3",
   "version": "3.6.0"
  }
 },
 "nbformat": 4,
 "nbformat_minor": 2
}


