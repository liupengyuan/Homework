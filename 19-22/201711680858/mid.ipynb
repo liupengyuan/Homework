{
 "cells": [
  {
   "cell_type": "code",
   "execution_count": 11,
   "metadata": {
    "collapsed": false
   },
   "outputs": [
    {
     "name": "stdout",
     "output_type": "stream",
     "text": [
      "请输入一个数10\n",
      "55\n"
     ]
    }
   ],
   "source": [
    "#1\n",
    "def con():\n",
    "    m=int(input('请输入一个数'))\n",
    "    a = 1 \n",
    "    b = 1\n",
    "    sum = 0\n",
    "    while a<=m:\n",
    "        sum += b \n",
    "        b += 1\n",
    "        a+=1\n",
    "    print(sum)\n",
    "con()"
   ]
  },
  {
   "cell_type": "code",
   "execution_count": 25,
   "metadata": {
    "collapsed": false
   },
   "outputs": [
    {
     "name": "stdout",
     "output_type": "stream",
     "text": [
      "请输入一个整数，表示将要打印的行数，回车结束。5\n",
      "['*', '*']\n",
      "['*', '*', '*']\n",
      "['*', '*', '*', '*']\n",
      "['*', '*', '*', '*', '*']\n",
      "['*', '*', '*', '*', '*', '*']\n"
     ]
    }
   ],
   "source": [
    "#2\n",
    "def con():\n",
    "    w=['*']\n",
    "    n = int(input('请输入一个整数，表示将要打印的行数，回车结束。')) \n",
    "    i = 1\n",
    "    while i <= n: \n",
    "        w.append('*') \n",
    "        i += 1 \n",
    "        print(w)\n",
    "con()"
   ]
  },
  {
   "cell_type": "code",
   "execution_count": 41,
   "metadata": {
    "collapsed": false
   },
   "outputs": [
    {
     "name": "stdout",
     "output_type": "stream",
     "text": [
      "please give a numbers:48723478234432\n",
      "4\n"
     ]
    }
   ],
   "source": [
    "#3\n",
    "def com():\n",
    "    \n",
    "    number = input('please give a numbers:')\n",
    "    list = []\n",
    "    for i in number:\n",
    "        list.append(i)\n",
    "    print(list[0])\n",
    "com()\n"
   ]
  },
  {
   "cell_type": "code",
   "execution_count": 20,
   "metadata": {
    "collapsed": false
   },
   "outputs": [
    {
     "name": "stdout",
     "output_type": "stream",
     "text": [
      "平均值是： 181.11111111111111\n",
      "大于平均值的身高有： 183\n",
      "大于平均值的身高有： 185\n",
      "大于平均值的身高有： 183\n",
      "大于平均值的身高有： 187\n",
      "大于平均值的身高有： 190\n"
     ]
    }
   ],
   "source": [
    "#4\n",
    "m=[183,185,183,187,178,175,177,190,172]\n",
    "def  ave(a):\n",
    "    n=sum(a)/len(a)\n",
    "    print('平均值是：',n)\n",
    "    for i in m:\n",
    "        if i>n:\n",
    "            print('大于平均值的身高有：',i)\n",
    "    \n",
    "ave(m)"
   ]
  },
  {
   "cell_type": "code",
   "execution_count": 53,
   "metadata": {
    "collapsed": false
   },
   "outputs": [
    {
     "name": "stdout",
     "output_type": "stream",
     "text": [
      "a= 1 b= 2 a+b =\n"
     ]
    }
   ],
   "source": [
    "#5\n",
    "import random\n",
    "a=random.randint(0,10)\n",
    "b=random.randint(0,10)\n",
    "print('a=',a,'b=',b,'a+b','=')\n",
    "if \n",
    "\n"
   ]
  },
  {
   "cell_type": "code",
   "execution_count": 34,
   "metadata": {
    "collapsed": false,
    "scrolled": true
   },
   "outputs": [
    {
     "name": "stdout",
     "output_type": "stream",
     "text": [
      "[108, 3, -5, 9, 34, 88, -76]\n"
     ]
    }
   ],
   "source": [
    "#6\n",
    "def con():\n",
    "        n=max(m)\n",
    "        i=min(m)\n",
    "        a=m.index(n)\n",
    "        b=m.index(i)\n",
    "        n=max(m)\n",
    "        i=min(m)\n",
    "        a=m.index(n)\n",
    "        b=m.index(i)\n",
    "        del m[a]\n",
    "        m.insert(0,n)\n",
    "        del m[b]\n",
    "        m.append(i)\n",
    "    \n",
    "        print(m)\n",
    "con()\n",
    "m=[3,-5,9,108,34,-76,88]"
   ]
  },
  {
   "cell_type": "code",
   "execution_count": null,
   "metadata": {
    "collapsed": true
   },
   "outputs": [],
   "source": []
  }
 ],
 "metadata": {
  "kernelspec": {
   "display_name": "Python 3",
   "language": "python",
   "name": "python3"
  },
  "language_info": {
   "codemirror_mode": {
    "name": "ipython",
    "version": 3
   },
   "file_extension": ".py",
   "mimetype": "text/x-python",
   "name": "python",
   "nbconvert_exporter": "python",
   "pygments_lexer": "ipython3",
   "version": "3.6.0"
  }
 },
 "nbformat": 4,
 "nbformat_minor": 2
}
