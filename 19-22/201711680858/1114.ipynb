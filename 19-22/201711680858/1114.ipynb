{
 "cells": [
  {
   "cell_type": "code",
   "execution_count": 31,
   "metadata": {},
   "outputs": [
    {
     "name": "stdout",
     "output_type": "stream",
     "text": [
      "最大值是： 899 最小值是： -10 平均值是： 106.72999999999999\n"
     ]
    }
   ],
   "source": [
    "#写函数，返回一个list中的最大值，最小值，平均值。（不用内置的求和求函数），\n",
    "def com(number):\n",
    "    max_number=number[0]\n",
    "    min_number=number[0]\n",
    "    total=0\n",
    "    for i in number:\n",
    "        total+=i\n",
    "        m=total/len(number)\n",
    "        if i> max_number:\n",
    "            max_number  = i\n",
    "        elif i < min_number:\n",
    "            min_number = i\n",
    "       \n",
    "\n",
    "       \n",
    "    print('最大值是：',max_number,'最小值是：', min_number,'平均值是：',m)\n",
    "number=[1,2,-1,55,100,899,-10,3,12.5,5.8]\n",
    "com(number)"
   ]
  }
 ],
 "metadata": {
  "kernelspec": {
   "display_name": "Python 3",
   "language": "python",
   "name": "python3"
  },
  "language_info": {
   "codemirror_mode": {
    "name": "ipython",
    "version": 3
   },
   "file_extension": ".py",
   "mimetype": "text/x-python",
   "name": "python",
   "nbconvert_exporter": "python",
   "pygments_lexer": "ipython3",
   "version": "3.6.2"
  }
 },
 "nbformat": 4,
 "nbformat_minor": 2
}
