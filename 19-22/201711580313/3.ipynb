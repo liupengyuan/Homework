{
 "cells": [
  {
   "cell_type": "code",
   "execution_count": 3,
   "metadata": {},
   "outputs": [
    {
     "name": "stdout",
     "output_type": "stream",
     "text": [
      "请输入你的姓名，以回车结束。Egbert\n",
      "你好， Egbert\n",
      "请输入你的生日,例如3.02，以回车结束。12.24\n",
      "Egbert 你是有耐心的摩羯座。\n"
     ]
    }
   ],
   "source": [
    "name = input(\"请输入你的姓名，以回车结束。\")\n",
    "print(\"你好，\" , name)\n",
    "m =float(input(\"请输入你的生日,例如3.02，以回车结束。\"))\n",
    "if 3.21 <= m <= 4.19 :\n",
    "    print(name,\",你是冲动，慷慨的白羊座。\") \n",
    "elif 1.20 <= m <= 2.18:\n",
    "    print(name,(\"你是独一无二的水瓶座。\"))\n",
    "elif 2.19 <= m <= 3.20:\n",
    "    print(name,\"你是复杂的双鱼座。\")\n",
    "elif 4.20 <= m <= 5.20:\n",
    "    print(name,\"你是非常有性格的金牛座。\")\n",
    "elif 5.21 <= m <= 6.20:\n",
    "    print(name,\"你是喜爱变化的双子座。\")\n",
    "elif 6.21 <= m <= 7.22:\n",
    "    print(name,\"你是充满爱心的巨蟹座。\")\n",
    "elif 7.23 <= m <=8.22:\n",
    "    print(name,\"你是热情，大方狮子座。\")\n",
    "elif 8.23 <= m <=9.22:\n",
    "    print(name,\"你是追求完美的处女座。\")\n",
    "elif 9.23 <= m <= 10.22:\n",
    "    print(name,\"你是优雅，善良的天枰座。\")\n",
    "elif 10.23 <=m <=11.21:\n",
    "    print(name,\"你是神秘的天蝎座。\")\n",
    "elif 11.22 <= m <=12.21:\n",
    "    print(name,\"你是乐观，诚实的射手座。\")\n",
    "elif 12.21 <=m <=12.31 or 1.01 <= m <= 1.19:\n",
    "    print(name,\"你是有耐心的摩羯座。\")"
   ]
  },
  {
   "cell_type": "code",
   "execution_count": 1,
   "metadata": {},
   "outputs": [
    {
     "name": "stdout",
     "output_type": "stream",
     "text": [
      "请输入一个整数，以回车结束。55\n",
      "请再输入一个整数，以回车结束。4\n",
      "如果你需要这两个数的和请按‘+’，乘积请按‘*’，求余请按‘%’，否则将计算它们的商。3\n",
      "13.75\n"
     ]
    }
   ],
   "source": [
    "m = int(input(\"请输入一个整数，以回车结束。\"))\n",
    "n = int(input(\"请再输入一个整数，以回车结束。\"))\n",
    "x = input(\"如果你需要这两个数的和请按‘+’，乘积请按‘*’，求余请按‘%’，否则将计算它们的商。\")\n",
    "if x ==\"+\":\n",
    "    print(m + n)\n",
    "elif x ==\"*\":\n",
    "    print(m * n)\n",
    "elif x ==\"%\":\n",
    "    print(m % n)\n",
    "else :\n",
    "    print(m / n)"
   ]
  },
  {
   "cell_type": "code",
   "execution_count": 5,
   "metadata": {},
   "outputs": [
    {
     "name": "stdout",
     "output_type": "stream",
     "text": [
      "请输入一个英文单词，计算机将把它转换为复数形式,以回车结束。fish\n",
      "fishes\n"
     ]
    }
   ],
   "source": [
    "word = input(\"请输入一个英文单词，计算机将把它转换为复数形式,以回车结束。\")\n",
    "if word.endswith(\"sh\"or\"ch\"or\"x\"):\n",
    "    print(word,\"es\",sep=\"\")\n",
    "else :\n",
    "    print(word,\"s\",sep=\"\")\n",
    "    "
   ]
  },
  {
   "cell_type": "code",
   "execution_count": 24,
   "metadata": {},
   "outputs": [
    {
     "name": "stdout",
     "output_type": "stream",
     "text": [
      "\n",
      "\n",
      "\n",
      "\n",
      "\n",
      "\n"
     ]
    }
   ],
   "source": [
    "print('\\n'*5)"
   ]
  },
  {
   "cell_type": "code",
   "execution_count": 3,
   "metadata": {
    "scrolled": false
   },
   "outputs": [
    {
     "name": "stdout",
     "output_type": "stream",
     "text": [
      "请输入要输入的整数个数。3\n",
      "请输入一个整数，回车结束。65\n",
      "请输入一个整数，回车结束。36\n",
      "请输入一个整数，回车结束。32\n",
      "65\n"
     ]
    }
   ],
   "source": [
    "m = int(input(\"请输入要输入的整数个数。\"))\n",
    "a = int(input(\"请输入一个整数，回车结束。\"))\n",
    "i = 1\n",
    "while i<m :\n",
    "    b = int(input(\"请输入一个整数，回车结束。\"))\n",
    "    if a < b :\n",
    "        a = b\n",
    "    i += 1\n",
    "print(a)\n",
    "        "
   ]
  },
  {
   "cell_type": "code",
   "execution_count": null,
   "metadata": {},
   "outputs": [],
   "source": []
  },
  {
   "cell_type": "code",
   "execution_count": null,
   "metadata": {},
   "outputs": [],
   "source": []
  }
 ],
 "metadata": {
  "kernelspec": {
   "display_name": "Python 3",
   "language": "python",
   "name": "python3"
  },
  "language_info": {
   "codemirror_mode": {
    "name": "ipython",
    "version": 3
   },
   "file_extension": ".py",
   "mimetype": "text/x-python",
   "name": "python",
   "nbconvert_exporter": "python",
   "pygments_lexer": "ipython3",
   "version": "3.6.0"
  }
 },
 "nbformat": 4,
 "nbformat_minor": 2
}
