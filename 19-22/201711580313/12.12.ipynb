{
 "cells": [
  {
   "cell_type": "code",
   "execution_count": 45,
   "metadata": {},
   "outputs": [
    {
     "name": "stdout",
     "output_type": "stream",
     "text": [
      "['移', '和', '天', '然', '破', '约', '道', '觥', '皇', '此']\n"
     ]
    }
   ],
   "source": [
    "with open(r'd:\\temp\\idioms.txt') as fh:\n",
    "    text = fh.read()\n",
    "text = text.replace('、','')\n",
    "idioms = text.split()\n",
    "ch_table = []\n",
    "for ch in idioms:\n",
    "    for chs in ch:\n",
    "        ch_table.append(chs)\n",
    "import random\n",
    "text1= []\n",
    "j = 10\n",
    "n = 1\n",
    "for i in range(1,j+1):\n",
    "        word = random.choice(ch_table)\n",
    "        text1.append(word)\n",
    "        fh = open(r'd:\\temp\\text1','w')\n",
    "        fh.writelines(text1)\n",
    "        fh.close()\n",
    "\n",
    " \n",
    "   \n",
    "print(text1)    \n",
    "        \n",
    "\n",
    "\n"
   ]
  },
  {
   "cell_type": "code",
   "execution_count": null,
   "metadata": {},
   "outputs": [],
   "source": []
  },
  {
   "cell_type": "code",
   "execution_count": null,
   "metadata": {},
   "outputs": [],
   "source": []
  },
  {
   "cell_type": "code",
   "execution_count": null,
   "metadata": {},
   "outputs": [],
   "source": []
  }
 ],
 "metadata": {
  "kernelspec": {
   "display_name": "Python 3",
   "language": "python",
   "name": "python3"
  },
  "language_info": {
   "codemirror_mode": {
    "name": "ipython",
    "version": 3
   },
   "file_extension": ".py",
   "mimetype": "text/x-python",
   "name": "python",
   "nbconvert_exporter": "python",
   "pygments_lexer": "ipython3",
   "version": "3.6.3"
  }
 },
 "nbformat": 4,
 "nbformat_minor": 2
}
