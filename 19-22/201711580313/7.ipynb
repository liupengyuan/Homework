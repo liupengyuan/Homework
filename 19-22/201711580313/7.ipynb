{
 "cells": [
  {
   "cell_type": "code",
   "execution_count": 5,
   "metadata": {},
   "outputs": [
    {
     "name": "stdout",
     "output_type": "stream",
     "text": [
      "学大言语京北\n"
     ]
    }
   ],
   "source": [
    "#练习一：自己定义一个reverse(s)函数，功能返回字符串s的倒序字符串。\n",
    "def reverse(s):\n",
    "    x = len(s)\n",
    "    print(s[x::-1])\n",
    "line = '北京语言大学'\n",
    "reverse(line)\n"
   ]
  },
  {
   "cell_type": "code",
   "execution_count": 48,
   "metadata": {},
   "outputs": [
    {
     "name": "stdout",
     "output_type": "stream",
     "text": [
      "请输入一个你想打印的字符5\n",
      "请输入你想打印多少行5\n",
      "5\n",
      "55\n",
      "555\n",
      "5555\n",
      "55555\n",
      "     5\n",
      "    5 5\n",
      "   5 5 5\n",
      "  5 5 5 5\n",
      " 5 5 5 5 5\n",
      "    5  \n",
      "   5  5  \n",
      "  5  5  5  \n",
      " 5  5  5  5  \n",
      "5  5  5  5  5  \n"
     ]
    }
   ],
   "source": [
    "#练习二：写函数，根据给定符号和行数，打印相应直角三角形，等腰三角形及其他形式的三角形。\n",
    "def triangle(s):\n",
    "    s = input(\"请输入一个你想打印的字符\")\n",
    "    n = int(input(\"请输入你想打印多少行\"))\n",
    "    for i in range(1,n+1):\n",
    "        print(s*i)\n",
    "    for j in range(1,n+1):\n",
    "        \n",
    "        print(' '*(n-j) +  (' ' +s)*j)\n",
    "    for k in range(1,n+1):\n",
    "        print(' '*(n-k) + ( s + '  ' )*k)\n",
    "        \n",
    "triangle(s)       "
   ]
  },
  {
   "cell_type": "code",
   "execution_count": 32,
   "metadata": {},
   "outputs": [
    {
     "name": "stdout",
     "output_type": "stream",
     "text": [
      "请输入你要打印的字符5\n",
      "          5\n",
      "         5 5\n",
      "        5 5 5\n",
      "       5 5 5 5\n",
      "      5 5 5 5 5\n",
      "     5 5 5 5 5 5\n",
      "      5 5 5 5 5\n",
      "       5 5 5 5\n",
      "        5 5 5\n",
      "         5 5\n",
      "          5\n",
      "                    5\n",
      "                   5 5\n",
      "                  5 5 5\n",
      "                 5 5 5 5\n",
      "                5 5 5 5 5\n",
      "             5 5 5 5 5 5\n",
      "           5 5 5 5 5\n",
      "         5 5 5 5\n",
      "       5 5 5\n",
      "     5 5\n",
      "   5\n"
     ]
    }
   ],
   "source": [
    "#练习五：写函数，根据给定符号，打印各种菱形。\n",
    "def rhombus():\n",
    "    s = input(\"请输入你要打印的字符\")\n",
    "    n = 10\n",
    "    for i in range(1,n//2+1):\n",
    "        print(' '*(n-i) + (' '+ s)*i)\n",
    "    for k in range(n//2+1,0,-1):\n",
    "        print(' '*(n-k) + (' '+ s)*k)\n",
    "    for m in range(1,n//2+1):\n",
    "        print(' '*(2*n-m) + (' '+s)*m)\n",
    "   \n",
    "    for j in range(n//2+1,0,-1):\n",
    "        print(' '*2*j +  (' '+s)*j)\n",
    "rhombus()        "
   ]
  },
  {
   "cell_type": "code",
   "execution_count": 30,
   "metadata": {},
   "outputs": [
    {
     "name": "stdout",
     "output_type": "stream",
     "text": [
      "北京语言言语京北\n"
     ]
    }
   ],
   "source": [
    "# 示例代码 9\n",
    "line = '北京语言大学信息科学学院'\n",
    "x = 4\n",
    "print(line[0:x] + line[x-1::-1])    # print(line[0:x] + line[x-1:0:-1] + line[0])"
   ]
  },
  {
   "cell_type": "code",
   "execution_count": 31,
   "metadata": {},
   "outputs": [
    {
     "name": "stdout",
     "output_type": "stream",
     "text": [
      "           \n",
      "          天\n",
      "         天天\n",
      "        天天天\n",
      "       天天天天\n",
      "      天天天天天\n",
      "     天天天天天天\n",
      "    天天天天天天天\n",
      "   天天天天天天天天\n",
      "  天天天天天天天天天\n",
      " 天天天天天天天天天天\n",
      "天天天天天天天天天天天\n"
     ]
    }
   ],
   "source": [
    "line = '天天天天天天'\n",
    "for i in range(1, len(line)*2+1):\n",
    "    for k in range(len(line)*2-i,0,-1):\n",
    "        print(' ', end='')\n",
    "    for j in range(1,i):\n",
    "        print(line[0], end='')\n",
    "    print()"
   ]
  },
  {
   "cell_type": "code",
   "execution_count": null,
   "metadata": {},
   "outputs": [],
   "source": []
  },
  {
   "cell_type": "code",
   "execution_count": null,
   "metadata": {},
   "outputs": [],
   "source": []
  }
 ],
 "metadata": {
  "kernelspec": {
   "display_name": "Python 3",
   "language": "python",
   "name": "python3"
  },
  "language_info": {
   "codemirror_mode": {
    "name": "ipython",
    "version": 3
   },
   "file_extension": ".py",
   "mimetype": "text/x-python",
   "name": "python",
   "nbconvert_exporter": "python",
   "pygments_lexer": "ipython3",
   "version": "3.6.0"
  }
 },
 "nbformat": 4,
 "nbformat_minor": 2
}
