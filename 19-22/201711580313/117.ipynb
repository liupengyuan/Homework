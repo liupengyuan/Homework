{
 "cells": [
  {
   "cell_type": "code",
   "execution_count": 5,
   "metadata": {},
   "outputs": [
    {
     "name": "stdout",
     "output_type": "stream",
     "text": [
      "请输入你想输入的整数个数，回车结束。5\n",
      "请输入一个数字区间(n,k)\n",
      "请输入区间起点，回车结束。10\n",
      "请输入区间终点，回车结束。500\n",
      "25.337718918639855\n"
     ]
    }
   ],
   "source": [
    "m = int(input(\"请输入你想输入的整数个数，回车结束。\"))\n",
    "print(\"请输入一个数字区间(n,k)\")\n",
    "n = int(input(\"请输入区间起点，回车结束。\"))\n",
    "k = int(input('请输入区间终点，回车结束。'))\n",
    "i = 1\n",
    "total = 0\n",
    "import random\n",
    "\n",
    "while i < m:\n",
    "    \n",
    "    j = random.randint(n,k)\n",
    "    total += j\n",
    "    i += 1\n",
    "s = (total)**(1/2)\n",
    "print(s)"
   ]
  },
  {
   "cell_type": "code",
   "execution_count": null,
   "metadata": {},
   "outputs": [],
   "source": []
  }
 ],
 "metadata": {
  "kernelspec": {
   "display_name": "Python 3",
   "language": "python",
   "name": "python3"
  }
 },
 "nbformat": 4,
 "nbformat_minor": 2
}
