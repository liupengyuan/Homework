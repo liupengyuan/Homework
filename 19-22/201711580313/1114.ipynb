{
 "cells": [
  {
   "cell_type": "code",
   "execution_count": 32,
   "metadata": {},
   "outputs": [
    {
     "data": {
      "text/plain": [
       "(899, -10, 106.72999999999999)"
      ]
     },
     "execution_count": 32,
     "metadata": {},
     "output_type": "execute_result"
    }
   ],
   "source": [
    "def ex1114():\n",
    "    numbers = [1,2,-1,55,100,899,-10,3,12.5,5.8]\n",
    "    i = 0\n",
    "    total = 0\n",
    "    n = len(numbers)\n",
    "    min_number = numbers[0]\n",
    "    max_number = numbers[0]\n",
    "    while i < n:\n",
    "        number=numbers[i]\n",
    "        if min_number > number:\n",
    "            min_number = number\n",
    "        elif max_number < number:\n",
    "            max_number = number\n",
    "        i += 1\n",
    "        total += number\n",
    "    return   max_number ,min_number  ,total/n\n",
    "\n",
    "ex1114()   "
   ]
  },
  {
   "cell_type": "code",
   "execution_count": null,
   "metadata": {},
   "outputs": [],
   "source": []
  }
 ],
 "metadata": {
  "kernelspec": {
   "display_name": "Python 3",
   "language": "python",
   "name": "python3"
  },
  "language_info": {
   "codemirror_mode": {
    "name": "ipython",
    "version": 3
   },
   "file_extension": ".py",
   "mimetype": "text/x-python",
   "name": "python",
   "nbconvert_exporter": "python",
   "pygments_lexer": "ipython3",
   "version": "3.6.0"
  }
 },
 "nbformat": 4,
 "nbformat_minor": 2
}
