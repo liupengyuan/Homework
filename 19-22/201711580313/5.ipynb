{
 "cells": [
  {
   "cell_type": "code",
   "execution_count": 1,
   "metadata": {},
   "outputs": [
    {
     "name": "stdout",
     "output_type": "stream",
     "text": [
      "请输入你想输入的整数个数，回车结束。5\n",
      "请输入一个数字区间(m,k)\n",
      "请输入区间起点，回车结束。10\n",
      "请输入区间终点，回车结束。100\n",
      "15.652475842498529\n"
     ]
    }
   ],
   "source": [
    "#练习 1：写函数，求n个随机整数均值的平方根，整数范围在m与k之间（n,m,k由用户输入）。\n",
    "n = int(input(\"请输入你想要的整数个数，回车结束。\"))\n",
    "print(\"请输入一个数字区间(m,k)\")\n",
    "m = int(input(\"请输入区间起点，回车结束。\"))\n",
    "k = int(input('请输入区间终点，回车结束。'))\n",
    "i = 0\n",
    "total = 0\n",
    "import random,math\n",
    "while i <= n:\n",
    "    j = random.randint(m,k)\n",
    "    i += 1\n",
    "    total = total + j\n",
    "print(math.sqrt(total))"
   ]
  },
  {
   "cell_type": "code",
   "execution_count": 3,
   "metadata": {},
   "outputs": [
    {
     "name": "stdout",
     "output_type": "stream",
     "text": [
      "请输入你想要的整数个数，回车结束。5\n",
      "请输入一个数字区间(m,k)\n",
      "请输入区间起点，回车结束。10\n",
      "请输入区间终点，回车结束。1000\n",
      "38.57458599791665\n",
      "0.9362256247004183\n"
     ]
    }
   ],
   "source": [
    "#练习 2：写函数，共n个随机整数，整数范围在m与k之间，（n,m,k由用户输入）。求1：西格玛log(随机整数)，2：西格玛1/log(随机整数)\n",
    "n = int(input(\"请输入你想要的整数个数，回车结束。\"))\n",
    "print(\"请输入一个数字区间(m,k)\")\n",
    "m = int(input(\"请输入区间起点，回车结束。\"))\n",
    "k = int(input('请输入区间终点，回车结束。'))\n",
    "import random,math\n",
    "i = 0\n",
    "total_1 =0\n",
    "total_2 = 0\n",
    "while i <= n:\n",
    "    x = random.randint(m,k)\n",
    "    i += 1\n",
    "    total_1 = total_1 + math.log(x)\n",
    "    total_2 = total_2 + 1/math.log(x)\n",
    "print(total_1)\n",
    "print(total_2)"
   ]
  },
  {
   "cell_type": "code",
   "execution_count": 6,
   "metadata": {},
   "outputs": [
    {
     "name": "stdout",
     "output_type": "stream",
     "text": [
      "请输入你需要的数字个数，回车结束。5\n",
      "123486\n"
     ]
    }
   ],
   "source": [
    "#练习 3：写函数，求s=a+aa+aaa+aaaa+aa...a的值，其中a是[1,9]之间的随机整数。例如2+22+222+2222+22222(此时共有5个数相加)，\n",
    "#几个数相加由键盘输入。\n",
    "import random\n",
    "a = random.randint(1,9)\n",
    "n = int(input(\"请输入你需要的数字个数，回车结束。\"))\n",
    "i = 0\n",
    "s = 0\n",
    "while i <= n:\n",
    "    s += a\n",
    "    i += 1\n",
    "    a = a + 10**i\n",
    "print(s)"
   ]
  },
  {
   "cell_type": "code",
   "execution_count": null,
   "metadata": {},
   "outputs": [],
   "source": [
    "#挑战性练习：仿照task5，将猜数游戏改成由用户随便选择一个整数，让计算机来猜测的猜数游戏，要求和task5中人猜测的方法类似，但是人机角色对换，\n",
    "#由人来判断猜测是大、小还是相等，请写出完整的猜数游戏。\n"
   ]
  }
 ],
 "metadata": {
  "kernelspec": {
   "display_name": "Python 3",
   "language": "python",
   "name": "python3"
  },
  "language_info": {
   "codemirror_mode": {
    "name": "ipython",
    "version": 3
   },
   "file_extension": ".py",
   "mimetype": "text/x-python",
   "name": "python",
   "nbconvert_exporter": "python",
   "pygments_lexer": "ipython3",
   "version": "3.6.0"
  }
 },
 "nbformat": 4,
 "nbformat_minor": 2
}
