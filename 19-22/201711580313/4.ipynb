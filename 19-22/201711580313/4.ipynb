{
 "cells": [
  {
   "cell_type": "code",
   "execution_count": 3,
   "metadata": {},
   "outputs": [
    {
     "name": "stdout",
     "output_type": "stream",
     "text": [
      "请输入一个整数，回车结束。6\n",
      "请输入一个整数，回车结束。5\n",
      "请输入一个整数，回车结束。4\n",
      "最终的和是: 864\n"
     ]
    }
   ],
   "source": [
    "#练习1\n",
    "def my_mul(n) :\n",
    "    i = 1\n",
    "    mul_n = 1\n",
    "    while i < n:\n",
    "        i += 1\n",
    "        mul_n = mul_n * i\n",
    "    return mul_n\n",
    "n = int(input('请输入一个整数，回车结束。'))\n",
    "m = int(input(\"请输入一个整数，回车结束。\"))\n",
    "k = int(input('请输入一个整数，回车结束。'))\n",
    "print(\"最终的和是:\",my_mul(m) + my_mul(n) + my_mul(k))"
   ]
  },
  {
   "cell_type": "code",
   "execution_count": 1,
   "metadata": {},
   "outputs": [
    {
     "name": "stdout",
     "output_type": "stream",
     "text": [
      "3.140592653839794\n",
      "3.1415826535897198\n"
     ]
    }
   ],
   "source": [
    "#练习2\n",
    "def sum(n):\n",
    "    sum = 1\n",
    "    j=1\n",
    "    while j < n :\n",
    "        j = j + 1\n",
    "        a = 2*j - 1\n",
    "        b = (-1)**(j-1)\n",
    "        i = b/a\n",
    "        sum = sum + i\n",
    "        \n",
    "    return sum\n",
    "n = 1000\n",
    "print(4*sum(n))\n",
    "n = 100000\n",
    "print(4*sum(n))\n"
   ]
  },
  {
   "cell_type": "code",
   "execution_count": 14,
   "metadata": {},
   "outputs": [
    {
     "name": "stdout",
     "output_type": "stream",
     "text": [
      "请输入你的名字，回车结束。Egbert\n",
      "请输入你的生日,例如3.02，以回车结束。12.24\n",
      "Egbert 你是有耐心的摩羯座。\n",
      "请输入一个英文单词，回车结束，系统将把它转换为复数形式。food\n",
      "foods\n"
     ]
    }
   ],
   "source": [
    "#练习3：将task3中的练习1及练习4改写为函数，并进行调用。\n",
    "def constellation(m):\n",
    "    if 3.21 <= m <= 4.19 :\n",
    "        print(name,(\"你是独一无二的水瓶座。\"))\n",
    "    elif 2.19 <= m <= 3.20:\n",
    "        print(name,\"你是复杂的双鱼座。\")\n",
    "    elif 4.20 <= m <= 5.20:\n",
    "        print(name,\"你是非常有性格的金牛座。\")\n",
    "    elif 5.21 <= m <= 6.20:\n",
    "        print(name,\"你是喜爱变化的双子座。\")\n",
    "    elif 6.21 <= m <= 7.22:\n",
    "        print(name,\"你是充满爱心的巨蟹座。\")\n",
    "    elif 7.23 <= m <=8.22:\n",
    "        print(name,\"你是热情，大方狮子座。\")\n",
    "    elif 8.23 <= m <=9.22:\n",
    "        print(name,\"你是追求完美的处女座。\")\n",
    "    elif 9.23 <= m <= 10.22:\n",
    "        print(name,\"你是优雅，善良的天枰座。\")\n",
    "    elif 10.23 <=m <=11.21:\n",
    "        print(name,\"你是神秘的天蝎座。\")\n",
    "    elif 11.22 <= m <=12.21:\n",
    "        print(name,\"你是乐观，诚实的射手座。\")\n",
    "    elif 12.21 <=m <=12.31 or 1.01 <= m <= 1.19:\n",
    "        print(name,\"你是有耐心的摩羯座。\")\n",
    "    else :\n",
    "        print(\"输入非法。\")\n",
    "def word(word):\n",
    "    if word.endswith(\"sh\"or\"ch\"or\"x\"):\n",
    "        print(word,\"es\",sep=\"\")\n",
    "    else :\n",
    "        print(word,\"s\",sep=\"\")\n",
    "\n",
    "name = input(\"请输入你的名字，回车结束。\")\n",
    "m =float(input(\"请输入你的生日,例如3.02，以回车结束。\"))\n",
    "constellation(m)\n",
    "\n",
    "w = input(\"请输入一个英文单词，回车结束，系统将把它转换为复数形式。\")\n",
    "word(w)"
   ]
  },
  {
   "cell_type": "code",
   "execution_count": 18,
   "metadata": {},
   "outputs": [
    {
     "name": "stdout",
     "output_type": "stream",
     "text": [
      "请输入一个正整数，回车结束。18\n",
      "请输入一个正整数，回车结束。3\n",
      "请输入m-n的值，回车结束。15\n",
      "168\n",
      "true\n"
     ]
    }
   ],
   "source": [
    "#挑战性练习：写程序，可以求从整数m到整数n累加的和，间隔为k，求和部分需用函数实现，主程序中由用户输入m，n，k调用函数验证正确性。\n",
    "def sum(m,n) :\n",
    "    sum = 0\n",
    "    if m < n:\n",
    "        while m <= n:\n",
    "            sum = sum + m\n",
    "            m += 1\n",
    "        return sum\n",
    "    elif m > n:\n",
    "        while n <= m:\n",
    "            sum =sum + n\n",
    "            n += 1\n",
    "        return sum\n",
    "m = int(input(\"请输入一个正整数，回车结束。\"))            \n",
    "n = int(input(\"请输入一个正整数，回车结束。\"))\n",
    "j = m-n\n",
    "k = int(input(\"请输入m-n的值，回车结束。\"))\n",
    "print(sum(m,n))\n",
    "if k == j:\n",
    "    print(\"true\")\n",
    "else:\n",
    "    print(\"false\")\n",
    "\n"
   ]
  },
  {
   "cell_type": "code",
   "execution_count": null,
   "metadata": {},
   "outputs": [],
   "source": []
  }
 ],
 "metadata": {
  "kernelspec": {
   "display_name": "Python 3",
   "language": "python",
   "name": "python3"
  },
  "language_info": {
   "codemirror_mode": {
    "name": "ipython",
    "version": 3
   },
   "file_extension": ".py",
   "mimetype": "text/x-python",
   "name": "python",
   "nbconvert_exporter": "python",
   "pygments_lexer": "ipython3",
   "version": "3.6.0"
  }
 },
 "nbformat": 4,
 "nbformat_minor": 2
}
