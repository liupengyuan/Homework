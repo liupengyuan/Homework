{
 "cells": [
  {
   "cell_type": "code",
   "execution_count": 9,
   "metadata": {},
   "outputs": [
    {
     "name": "stdout",
     "output_type": "stream",
     "text": [
      "请输入求到第多少项的和3\n"
     ]
    },
    {
     "data": {
      "text/plain": [
       "10"
      ]
     },
     "execution_count": 9,
     "metadata": {},
     "output_type": "execute_result"
    }
   ],
   "source": [
    "#第一题\n",
    "def total(m):\n",
    "    m = int(input(\"请输入求到第多少项的和\"))\n",
    "    i = 1\n",
    "    x = 0\n",
    "    total = 0\n",
    "    while i <= m:\n",
    "        x += i\n",
    "        total += x\n",
    "        i += 1\n",
    "    return total\n",
    "\n",
    "total(0)       "
   ]
  },
  {
   "cell_type": "code",
   "execution_count": 13,
   "metadata": {},
   "outputs": [
    {
     "name": "stdout",
     "output_type": "stream",
     "text": [
      "请输入你想打印多少行5\n",
      "请输入你想打印的字符*\n",
      "*\n",
      "**\n",
      "***\n",
      "****\n",
      "*****\n"
     ]
    }
   ],
   "source": [
    "#第二题\n",
    "def sh(x,n):\n",
    "    n = int(input('请输入你想打印多少行'))\n",
    "    x = input('请输入你想打印的字符')\n",
    "    i = 1\n",
    "    while i <= n :\n",
    "        print(x*i)\n",
    "        i += 1\n",
    "sh(x,n)"
   ]
  },
  {
   "cell_type": "code",
   "execution_count": 10,
   "metadata": {},
   "outputs": [
    {
     "ename": "SyntaxError",
     "evalue": "invalid syntax (<ipython-input-10-08aac5f307af>, line 3)",
     "output_type": "error",
     "traceback": [
      "\u001b[1;36m  File \u001b[1;32m\"<ipython-input-10-08aac5f307af>\"\u001b[1;36m, line \u001b[1;32m3\u001b[0m\n\u001b[1;33m    m =\u001b[0m\n\u001b[1;37m        ^\u001b[0m\n\u001b[1;31mSyntaxError\u001b[0m\u001b[1;31m:\u001b[0m invalid syntax\n"
     ]
    }
   ],
   "source": [
    "#第三题\n",
    "def first(m):\n",
    "    m = int(input('请输入一个整数'))\n",
    "    "
   ]
  },
  {
   "cell_type": "code",
   "execution_count": 14,
   "metadata": {},
   "outputs": [
    {
     "name": "stdout",
     "output_type": "stream",
     "text": [
      "183\n",
      "185\n",
      "183\n",
      "187\n",
      "190\n"
     ]
    },
    {
     "data": {
      "text/plain": [
       "181.11111111111111"
      ]
     },
     "execution_count": 14,
     "metadata": {},
     "output_type": "execute_result"
    }
   ],
   "source": [
    "#第四题\n",
    "def high(list):\n",
    "    list = [183,185,183,187,178,175,177,190,172]\n",
    "    total = 0\n",
    "    for num in list :\n",
    "        total += num\n",
    "        x = total/len(list)\n",
    "      \n",
    "    for num in list:\n",
    "        if num > x:\n",
    "            print (num)\n",
    "    return x\n",
    "\n",
    "high(list)"
   ]
  },
  {
   "cell_type": "code",
   "execution_count": 1,
   "metadata": {},
   "outputs": [
    {
     "name": "stdout",
     "output_type": "stream",
     "text": [
      "请问 7 + 3 =\n",
      "10\n",
      "请问 2 + 9 =\n",
      "11\n",
      "请问 4 + 6 =\n",
      "3\n",
      "请问 5 + 4 =\n",
      "2\n",
      "请问 10 + 9 =\n",
      "2\n",
      "0\n"
     ]
    }
   ],
   "source": [
    "#第五题\n",
    "import random\n",
    "i = 1\n",
    "grades = 0\n",
    "while i <= 5:\n",
    "    \n",
    "    n = random.randint(1,10)\n",
    "    m = random.randint(1,10)\n",
    "    print('请问',m,'+',n,'=')\n",
    "    x = input()\n",
    "    if x == m + n:\n",
    "        grades += 20\n",
    "    i += 1  \n",
    "print(grades)\n"
   ]
  },
  {
   "cell_type": "code",
   "execution_count": 8,
   "metadata": {},
   "outputs": [
    {
     "name": "stdout",
     "output_type": "stream",
     "text": [
      "108 -76\n"
     ]
    }
   ],
   "source": [
    "#第六题\n",
    "list =[3,-5,9,108,34,-76,88]\n",
    "max_num = list[0]\n",
    "min_num = list[0]\n",
    "i = 0\n",
    "while i < len(list):\n",
    "    if list[i] < min_num:\n",
    "        min_num = list[i]\n",
    "        x = i\n",
    "    if list[i] > max_num:\n",
    "        max_num = list[i]\n",
    "        s = i\n",
    "    i += 1\n",
    "print(list[s],list[x])"
   ]
  },
  {
   "cell_type": "code",
   "execution_count": null,
   "metadata": {},
   "outputs": [],
   "source": []
  }
 ],
 "metadata": {
  "kernelspec": {
   "display_name": "Python 3",
   "language": "python",
   "name": "python3"
  },
  "language_info": {
   "codemirror_mode": {
    "name": "ipython",
    "version": 3
   },
   "file_extension": ".py",
   "mimetype": "text/x-python",
   "name": "python",
   "nbconvert_exporter": "python",
   "pygments_lexer": "ipython3",
   "version": "3.6.0"
  }
 },
 "nbformat": 4,
 "nbformat_minor": 2
}
