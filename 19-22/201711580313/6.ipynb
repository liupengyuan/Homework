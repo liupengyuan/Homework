{
 "cells": [
  {
   "cell_type": "code",
   "execution_count": 1,
   "metadata": {},
   "outputs": [],
   "source": [
    "#写函数，返回某个元素/对象在一个list中的位置，如果不在，则返回-1.\n",
    "def position():\n",
    "    words=[]\n",
    "    n = int(input('请输入你想输入的单词数。'))\n",
    "    i = 0\n",
    "    while i < n:\n",
    "        word = input('请输入一个单词。')\n",
    "        words.append(word)\n",
    "        i += 1\n",
    "    m = input('请输入一个单词，计算机将判断它的位置。')\n",
    "    j = 0\n",
    "    x = 0\n",
    "    if m  in words:\n",
    " \n",
    "        while j < n :\n",
    "            if m == words[j]:\n",
    "                x = j+1\n",
    "            j += 1\n",
    "        return x\n",
    "    else :\n",
    "        return -1\n",
    "   "
   ]
  },
  {
   "cell_type": "code",
   "execution_count": 2,
   "metadata": {},
   "outputs": [
    {
     "name": "stdout",
     "output_type": "stream",
     "text": [
      "请输入你想输入的单词数。3\n",
      "请输入一个单词。pig\n",
      "请输入一个单词。dog\n",
      "请输入一个单词。cat\n",
      "请输入一个单词，计算机将判断它的位置。dog\n"
     ]
    },
    {
     "data": {
      "text/plain": [
       "2"
      ]
     },
     "execution_count": 2,
     "metadata": {},
     "output_type": "execute_result"
    }
   ],
   "source": [
    "position()"
   ]
  },
  {
   "cell_type": "code",
   "execution_count": 2,
   "metadata": {},
   "outputs": [],
   "source": [
    "#写函数，可将两个相同长度的list，间隔插入，生成新的list。例如：给两个list，a=[1,2,3,4], b=[5,6,7,8]。则可以生成：[1,5,2,6,3,7,4,8]。\n",
    "def append():\n",
    "    new = []\n",
    "    a = [1,2,3,4]\n",
    "    b = [5,6,7,8]\n",
    "    i = 0\n",
    "    n = len(a)\n",
    "    while i < n:\n",
    "        new.append(a[i])\n",
    "        new.append(b[i])\n",
    "        i += 1\n",
    "    return new"
   ]
  },
  {
   "cell_type": "code",
   "execution_count": 3,
   "metadata": {},
   "outputs": [
    {
     "data": {
      "text/plain": [
       "[1, 5, 2, 6, 3, 7, 4, 8]"
      ]
     },
     "execution_count": 3,
     "metadata": {},
     "output_type": "execute_result"
    }
   ],
   "source": [
    "append()"
   ]
  },
  {
   "cell_type": "code",
   "execution_count": 7,
   "metadata": {},
   "outputs": [
    {
     "name": "stdout",
     "output_type": "stream",
     "text": [
      "请依次输入第一个向量的坐标3\n",
      "请依次输入第二个向量的坐标6\n",
      "请依次输入第一个向量的坐标5\n",
      "请依次输入第二个向量的坐标2\n"
     ]
    },
    {
     "data": {
      "text/plain": [
       "([3, 5], [6, 2], 0.7592566023652965)"
      ]
     },
     "execution_count": 7,
     "metadata": {},
     "output_type": "execute_result"
    }
   ],
   "source": [
    "#写函数，可求两个向量的夹角余弦值，向量可放在list中。主程序调用该函数。\n",
    "def cos():\n",
    "    a = []\n",
    "    b = []\n",
    "    i = 0\n",
    "    while i < 2:\n",
    "        n = int(input('请依次输入第一个向量的坐标'))\n",
    "        a.append(n)\n",
    "        m = int(input('请依次输入第二个向量的坐标'))\n",
    "        b.append(m)\n",
    "        i += 1\n",
    "    cos = (a[0]*b[0]+a[1]*b[1])/((a[0]**2+a[1]**2)**(1/2)*(b[0]**2+b[1]**2)**(1/2))\n",
    "    return a,b, cos\n",
    "\n",
    "\n",
    "\n",
    "cos()\n"
   ]
  },
  {
   "cell_type": "code",
   "execution_count": 9,
   "metadata": {},
   "outputs": [
    {
     "name": "stdout",
     "output_type": "stream",
     "text": [
      "3741\n"
     ]
    }
   ],
   "source": [
    "#挑战性习题：python语言老师为了激励学生学python，自费买了100个完全相同的Macbook Pro，分给三个班级，每个班级至少分5个，\n",
    "#用穷举法计算共有多少种分法？\n",
    "i = 0\n",
    "for a in range(5,91):\n",
    "    d = 100 - a\n",
    "    for b in range(5,d-5+1):\n",
    "        c = d - 5\n",
    "        if c >= 5:\n",
    "            i +=1\n",
    "        else:\n",
    "            break\n",
    "print(i)\n",
    "    \n",
    "\n"
   ]
  },
  {
   "cell_type": "code",
   "execution_count": null,
   "metadata": {},
   "outputs": [],
   "source": []
  }
 ],
 "metadata": {
  "kernelspec": {
   "display_name": "Python 3",
   "language": "python",
   "name": "python3"
  }
 },
 "nbformat": 4,
 "nbformat_minor": 2
}
