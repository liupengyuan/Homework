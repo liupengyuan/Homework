{
 "cells": [
  {
   "cell_type": "code",
   "execution_count": 2,
   "metadata": {},
   "outputs": [
    {
     "name": "stdout",
     "output_type": "stream",
     "text": [
      "38.40572873934304\n"
     ]
    }
   ],
   "source": [
    "#用户从键盘输入数m，n，k，写函数，可利用计算机得到m个从n到k的随机整数。求这m个数的和的平方根。\n",
    "#m，n，k用5，10，500进行验证函数正确性。\n",
    "import random,math\n",
    "\n",
    "def a(m,n,k):\n",
    "    i=0\n",
    "    total=0\n",
    "    while i<m:\n",
    "        i+=1\n",
    "        number=random.randint(n,k)\n",
    "        total+=number\n",
    "        b=math.sqrt(total)\n",
    "    print(b)\n",
    "    \n",
    "a(5,10,500)"
   ]
  },
  {
   "cell_type": "code",
   "execution_count": null,
   "metadata": {},
   "outputs": [],
   "source": []
  },
  {
   "cell_type": "code",
   "execution_count": null,
   "metadata": {},
   "outputs": [],
   "source": []
  }
 ],
 "metadata": {
  "kernelspec": {
   "display_name": "Python 3",
   "language": "python",
   "name": "python3"
  },
  "language_info": {
   "codemirror_mode": {
    "name": "ipython",
    "version": 3
   },
   "file_extension": ".py",
   "mimetype": "text/x-python",
   "name": "python",
   "nbconvert_exporter": "python",
   "pygments_lexer": "ipython3",
   "version": "3.6.3"
  }
 },
 "nbformat": 4,
 "nbformat_minor": 2
}
