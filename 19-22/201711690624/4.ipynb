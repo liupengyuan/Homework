{
 "cells": [
  {
   "cell_type": "code",
   "execution_count": 4,
   "metadata": {},
   "outputs": [
    {
     "name": "stdout",
     "output_type": "stream",
     "text": [
      "请输入第一个整数，以回车结束。3\n",
      "请输入第二个整数，以回车结束。4\n",
      "请输入第三个整数，以回车结束。5\n",
      "最终的和是： 150\n"
     ]
    }
   ],
   "source": [
    "#练习 1：仿照求和的完整代码，写程序，可求m!+n!+k!\n",
    "n=int(input('请输入第一个整数，以回车结束。'))\n",
    "i=0\n",
    "total_n=1\n",
    "while i<n:\n",
    "    i=i+1\n",
    "    total_n=total_n*i\n",
    "    \n",
    "m=int(input('请输入第二个整数，以回车结束。'))\n",
    "i=0\n",
    "total_m=1\n",
    "while i<m:\n",
    "    i=i+1\n",
    "    total_m*=i\n",
    "    \n",
    "k=int(input('请输入第三个整数，以回车结束。'))\n",
    "i=0\n",
    "total_k=1\n",
    "while i<k:\n",
    "    i=i+1\n",
    "    total_k*=i\n",
    "    \n",
    "print('最终的和是：',total_n+total_m+total_k)"
   ]
  },
  {
   "cell_type": "code",
   "execution_count": 6,
   "metadata": {},
   "outputs": [
    {
     "name": "stdout",
     "output_type": "stream",
     "text": [
      "3.140592653839794\n",
      "3.1415826535897198\n"
     ]
    }
   ],
   "source": [
    "#练习 2：写函数可返回1 - 1/3 + 1/5 - 1/7...的前n项的和。在主程序中，分别令n=1000及100000，打印4倍该函数的和。\n",
    "def a(number):\n",
    "    if number<0:\n",
    "        number=-number\n",
    "        \n",
    "    return number\n",
    "\n",
    "def b(end):\n",
    "    i=0\n",
    "    total=0\n",
    "    number=a(end)\n",
    "    \n",
    "    while i<number:\n",
    "        i=i+1\n",
    "        c=1/(2*i-1)\n",
    "        if i%2==0:\n",
    "            c=-c\n",
    "        total=total+c\n",
    "    return total\n",
    "\n",
    "print(b(1000)*4)\n",
    "print(b(100000)*4)\n",
    "\n",
    "\n",
    "    "
   ]
  },
  {
   "cell_type": "code",
   "execution_count": 9,
   "metadata": {},
   "outputs": [
    {
     "name": "stdout",
     "output_type": "stream",
     "text": [
      "你是非常有个性的射手座\n"
     ]
    }
   ],
   "source": [
    "#练习 3：将task3中的练习1及练习4改写为函数，并进行调用。\n",
    "#练习1\n",
    "def a(number):\n",
    "    if number<101 and 132<number<201 and 230<number<301 and 332<number<401:\n",
    "        return '输入不为生日'\n",
    "    elif 431<number<501 and 532<number<601 and 631<number<701 and 732<number<801:\n",
    "        return '输入不为生日'\n",
    "    elif 832<number<901 and 931<number<1001 and 1032<number<1101 and 1131<number<1201 and number>1231:\n",
    "        return '输入不为生日'\n",
    "    elif 120<=number<=218:\n",
    "        return '你是非常有个性的水瓶座'\n",
    "    elif 219<=number<=320:\n",
    "        return '你是非常有个性的双鱼座'\n",
    "    elif 321<=number<=419:\n",
    "        return '你是非常有个性的白羊座'\n",
    "    elif 420<=number<=520:\n",
    "        return '你是非常有个性的金牛座'\n",
    "    elif 521<=number<=621:\n",
    "        return '你是非常有个性的双子座'\n",
    "    elif 622<=number<=722:\n",
    "        return '你是非常有个性的巨蟹座'\n",
    "    elif 723<=number<=822:\n",
    "        return '你是非常有个性的狮子座'\n",
    "    elif 823<=number<=922:\n",
    "        return '你是非常有个性的处女座'\n",
    "    elif 923<=number<=1023:\n",
    "        return '你是非常有个性的天秤座'\n",
    "    elif 1024<=number<=1122:\n",
    "        return '你是非常有个性的天蝎座'\n",
    "    elif 1123<=number<=1221:\n",
    "        return '你是非常有个性的射手座'\n",
    "    else:\n",
    "        return '你是非常有个性的摩羯座'\n",
    "    \n",
    "print(a(1128))"
   ]
  },
  {
   "cell_type": "code",
   "execution_count": 19,
   "metadata": {},
   "outputs": [
    {
     "name": "stdout",
     "output_type": "stream",
     "text": [
      "请输入一个整数9\n",
      "请输入一个小于n的整数2\n",
      "请输入一个小于n与m之差的整数1\n",
      "42\n"
     ]
    }
   ],
   "source": [
    "#挑战性练习：写程序，可以求从整数m到整数n累加的和，间隔为k，求和部分需用函数实现，主程序中由用户输入m，n，k调用函数验证正确性。\n",
    "n=int(input('请输入一个整数'))\n",
    "m=int(input('请输入一个小于n的整数'))\n",
    "k=int(input('请输入一个小于n与m之差的整数'))\n",
    "def a(number):\n",
    "    i=m\n",
    "    total=0\n",
    "    while i<n:\n",
    "        i=i+k\n",
    "        total=total+i\n",
    "    return total\n",
    "print(a(0))"
   ]
  }
 ],
 "metadata": {
  "kernelspec": {
   "display_name": "Python 3",
   "language": "python",
   "name": "python3"
  },
  "language_info": {
   "codemirror_mode": {
    "name": "ipython",
    "version": 3
   },
   "file_extension": ".py",
   "mimetype": "text/x-python",
   "name": "python",
   "nbconvert_exporter": "python",
   "pygments_lexer": "ipython3",
   "version": "3.6.3"
  }
 },
 "nbformat": 4,
 "nbformat_minor": 2
}
