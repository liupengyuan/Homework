{
 "cells": [
  {
   "cell_type": "code",
   "execution_count": 7,
   "metadata": {},
   "outputs": [
    {
     "name": "stdout",
     "output_type": "stream",
     "text": [
      "请接龙： 形影不离\n",
      "请输入接龙：离群索居\n",
      "game over 机器得分： 0 人类得分: 10\n"
     ]
    }
   ],
   "source": [
    "import random\n",
    "\n",
    "fh=open(r'c:\\temp\\成语大全.txt')\n",
    "text=fh.read()\n",
    "fh.close()\n",
    "\n",
    "machine=0\n",
    "human=0\n",
    "idioms=text.split()\n",
    "idiom=random.choice(idioms)\n",
    "print('请接龙：',idiom)\n",
    "\n",
    "i=1\n",
    "while i>0:\n",
    "    b=input('请输入接龙：')\n",
    "    c=list(idiom)\n",
    "    d=list(b)\n",
    "    if d[0]==c[3]:\n",
    "        human+=10\n",
    "    for e in idioms:\n",
    "        f=list(e)\n",
    "        if f[0]==d[3]:\n",
    "            print('机器接龙：',e)\n",
    "            machine+=10\n",
    "        else:\n",
    "            print('game over','机器得分：',machine,'人类得分:',human)\n",
    "            i=-1\n",
    "            break   \n",
    "       "
   ]
  },
  {
   "cell_type": "code",
   "execution_count": null,
   "metadata": {},
   "outputs": [],
   "source": []
  }
 ],
 "metadata": {
  "kernelspec": {
   "display_name": "Python 3",
   "language": "python",
   "name": "python3"
  }
 },
 "nbformat": 4,
 "nbformat_minor": 2
}
