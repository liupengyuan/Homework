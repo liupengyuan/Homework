{
 "cells": [
  {
   "cell_type": "code",
   "execution_count": 3,
   "metadata": {},
   "outputs": [
    {
     "name": "stdout",
     "output_type": "stream",
     "text": [
      "     ****** * \n",
      "    ******* * * \n",
      "   ******** * * * \n",
      "  ********* * * * * \n",
      " ********** * * * * * \n"
     ]
    }
   ],
   "source": [
    "#1.\n",
    "def a(b,c):\n",
    "    for i in range(1,c+1):\n",
    "        for k in range(c+1-i,0,-1):\n",
    "            print(' ',end='')\n",
    "        for o in range(1,i):\n",
    "            print(b,end='')\n",
    "        print(b*c,end='')\n",
    "        for j in range(2,i+3):\n",
    "            print(b,end=' ')\n",
    "        print()   \n",
    "a('*',5)\n",
    "            "
   ]
  },
  {
   "cell_type": "code",
   "execution_count": null,
   "metadata": {},
   "outputs": [],
   "source": [
    "#2.\n",
    "def Ackermann(m,n):\n",
    "    while m>0:\n",
    "        if n==0:\n",
    "            m=m-1\n",
    "            n=1\n",
    "    else:\n",
    "        b=n+1\n",
    "    print(b)\n",
    "Ackermann(3,0)\n",
    "    "
   ]
  },
  {
   "cell_type": "code",
   "execution_count": null,
   "metadata": {},
   "outputs": [
    {
     "name": "stdout",
     "output_type": "stream",
     "text": [
      "10 / 13 =\n",
      "5 + 3 =\n",
      "13 * 18 =\n",
      "7 + 13 =\n",
      "18 / 10 =\n",
      "22 - 11 =\n",
      "7 - 15 =\n",
      "20 + 14 =\n",
      "13 - 5 =\n",
      "6 + 17 =\n",
      "8 * 19 =\n",
      "24 + 12 =\n",
      "9 - 17 =\n",
      "23 - 25 =\n",
      "19 + 12 =\n",
      "----------------------------\n"
     ]
    }
   ],
   "source": [
    "#3.\n",
    "#(a)\n",
    "n=15\n",
    "list=['+','-','*','/']\n",
    "import random\n",
    "def m(a,b):\n",
    "    list1=[]\n",
    "    list3=[]\n",
    "    list4=[]\n",
    "    for i in range(n):\n",
    "        number1=random.randint(a,b)\n",
    "        number2=random.randint(a,b)\n",
    "        fuhao=random.choice(list)\n",
    "        print(number1,fuhao,number2,'=')\n",
    "        list1.append(fuhao)\n",
    "        list3.append(number1)\n",
    "        list4.append(number2)\n",
    "    return list1,list3,list4   \n",
    "        \n",
    "m(3,25)\n",
    "\n",
    "print('-'*28)\n",
    "\n",
    "#(b)\n",
    "ab=0\n",
    "list2=[]\n",
    "while ab<15:\n",
    "    daan=int(input('请输入答案'))\n",
    "    list2.append(daan)\n",
    "total=0\n",
    "for j,k in list1:\n",
    "    if k=='+':\n",
    "        c=list3[j]+list4[j]\n",
    "        if list2[j]==c:\n",
    "            total+=5\n",
    "    elif k=='*':\n",
    "        d=list3[j]*list4[j]\n",
    "        if list2[j]==d:\n",
    "            total+=10\n",
    "print(total)\n",
    "\n",
    "#(c)\n",
    "import random\n",
    "n=int(input('请输入题目个数'))\n",
    "cd=0\n",
    "while cd<n:\n",
    "    list5=[]\n",
    "    number3=random.randint(3,25)\n",
    "    number4=random.randint(3,25)\n",
    "    fuhao1=random.choice(list)\n",
    "    list5.append(fuhao1)\n",
    "    print(number3,fuhao1,number4,'=')\n",
    "    total=0\n",
    "    for j,k in list5:\n",
    "        if k=='+':\n",
    "            c=list3[j]+list4[j]\n",
    "            if list2[j]==c:\n",
    "                total1+=5\n",
    "        elif k=='*':\n",
    "            d=list3[j]*list4[j]\n",
    "            if list2[j]==d:\n",
    "                total1+=10\n",
    "print(total1)\n",
    "\n",
    "\n",
    "            \n"
   ]
  },
  {
   "cell_type": "code",
   "execution_count": null,
   "metadata": {},
   "outputs": [],
   "source": []
  },
  {
   "cell_type": "code",
   "execution_count": null,
   "metadata": {},
   "outputs": [],
   "source": []
  },
  {
   "cell_type": "code",
   "execution_count": null,
   "metadata": {
    "scrolled": true
   },
   "outputs": [],
   "source": [
    "#4.\n",
    "#(a)\n",
    "def get_word_table(filename):\n",
    "    word_table=[]\n",
    "    with open(filename,encoding='utf-8') as f:\n",
    "        text=f.read()\n",
    "    words=[word.split()[0] for word in text.split()]\n",
    "    for word in words:\n",
    "        if word not in word_table:\n",
    "            word_table.append(word)\n",
    "    return word_table\n",
    "\n",
    "filename=r'd:\\temp\\成语大全.txt'\n",
    "table=get_word_table(filename)\n",
    "print(table)\n",
    "    "
   ]
  },
  {
   "cell_type": "code",
   "execution_count": null,
   "metadata": {},
   "outputs": [],
   "source": []
  },
  {
   "cell_type": "code",
   "execution_count": null,
   "metadata": {},
   "outputs": [],
   "source": []
  },
  {
   "cell_type": "code",
   "execution_count": null,
   "metadata": {},
   "outputs": [],
   "source": []
  },
  {
   "cell_type": "code",
   "execution_count": null,
   "metadata": {},
   "outputs": [],
   "source": []
  },
  {
   "cell_type": "code",
   "execution_count": null,
   "metadata": {},
   "outputs": [],
   "source": []
  }
 ],
 "metadata": {
  "kernelspec": {
   "display_name": "Python 3",
   "language": "python",
   "name": "python3"
  },
  "language_info": {
   "codemirror_mode": {
    "name": "ipython",
    "version": 3
   },
   "file_extension": ".py",
   "mimetype": "text/x-python",
   "name": "python",
   "nbconvert_exporter": "python",
   "pygments_lexer": "ipython3",
   "version": "3.6.3"
  }
 },
 "nbformat": 4,
 "nbformat_minor": 2
}
