{
 "cells": [
  {
   "cell_type": "code",
   "execution_count": 31,
   "metadata": {},
   "outputs": [
    {
     "name": "stdout",
     "output_type": "stream",
     "text": [
      "eeynoskcaj"
     ]
    }
   ],
   "source": [
    "#练习一：自己定义一个reverse(s)函数，功能返回字符串s的倒序字符串。\n",
    "def reverse(s):\n",
    "    line=str(s)\n",
    "    for i in range(len(line),0,-1):\n",
    "        print(line[i-1],end='')\n",
    "        \n",
    "reverse('jacksonyee')"
   ]
  },
  {
   "cell_type": "code",
   "execution_count": 62,
   "metadata": {},
   "outputs": [
    {
     "name": "stdout",
     "output_type": "stream",
     "text": [
      "\n",
      "*\n",
      "**\n",
      "***\n",
      "****\n",
      "*****\n",
      "******\n",
      "*******\n",
      "********\n",
      "*********\n",
      "------分隔线---------\n",
      "          \n",
      "         \n",
      "        * \n",
      "       * * \n",
      "      * * * \n",
      "     * * * * \n",
      "    * * * * * \n",
      "   * * * * * * \n",
      "  * * * * * * * \n",
      " * * * * * * * * \n",
      "* * * * * * * * * \n",
      "------分隔线-------\n",
      "                  \n",
      "                *\n",
      "              **\n",
      "            ***\n",
      "          ****\n",
      "        *****\n",
      "      ******\n",
      "    *******\n",
      "  ********\n",
      "*********\n"
     ]
    }
   ],
   "source": [
    "#练习二：写函数，根据给定符号和行数，打印相应直角三角形，等腰三角形及其他形式的三角形。\n",
    "def a(s,t):\n",
    "    line=str(t)*s\n",
    "    for i in range(1,len(line)*2+1):\n",
    "        for j in range(1,i):\n",
    "            print(line[0],end='')\n",
    "        print()\n",
    "a(5,'*')       \n",
    "print('------分隔线---------')\n",
    "\n",
    "def b(u,v):\n",
    "    line=str(v)\n",
    "    for k in range(0,u*2+1):\n",
    "        for c in range(u*2-k,0,-1):\n",
    "            print(' ',end='')\n",
    "        for m in range(1,k):\n",
    "            print(line,end='')\n",
    "        print()\n",
    "        \n",
    "b(5,'* ')\n",
    "\n",
    "print('------分隔线-------')\n",
    "\n",
    "def d(x,y):\n",
    "    line=str(y)*x\n",
    "    for i in range(1, len(line)*2+1):\n",
    "        for k in range(len(line)*2-i,0,-1):\n",
    "            print('  ', end='')\n",
    "        for j in range(1,i):\n",
    "            print(line[0], end='')\n",
    "        print()\n",
    "        \n",
    "d(5,'*')"
   ]
  },
  {
   "cell_type": "code",
   "execution_count": 68,
   "metadata": {},
   "outputs": [
    {
     "name": "stdout",
     "output_type": "stream",
     "text": [
      "           \n",
      "          \n",
      "         * \n",
      "        * * \n",
      "       * * * \n",
      "      * * * * \n",
      "     * * * * * \n",
      "    * * * * * * \n",
      "   * * * * * * * \n",
      "  * * * * * * * * \n",
      " * * * * * * * * * \n",
      "* * * * * * * * * * \n",
      " * * * * * * * * * \n",
      "  * * * * * * * * \n",
      "   * * * * * * * \n",
      "    * * * * * * \n",
      "     * * * * * \n",
      "      * * * * \n",
      "       * * * \n",
      "        * * \n",
      "         * \n",
      "          \n"
     ]
    }
   ],
   "source": [
    "#练习五：写函数，根据给定符号，打印各种菱形。\n",
    "def a(m,n):\n",
    "    line=str(m)\n",
    "    for i in range(0,n*2+1):\n",
    "        for j in range(n*2-i+1,0,-1):\n",
    "            print(' ',end='')\n",
    "        for k in range(1,i):\n",
    "            print(line,end='')\n",
    "        print()\n",
    "    for l in range(n*2+1,0,-1):\n",
    "        for o in range(0,n*2-l+1):\n",
    "            print(' ',end='')\n",
    "        for p in range(1,l):\n",
    "            print(line,end='')\n",
    "        print()\n",
    "        \n",
    "a('* ',5)"
   ]
  },
  {
   "cell_type": "code",
   "execution_count": null,
   "metadata": {},
   "outputs": [],
   "source": []
  }
 ],
 "metadata": {
  "kernelspec": {
   "display_name": "Python 3",
   "language": "python",
   "name": "python3"
  },
  "language_info": {
   "codemirror_mode": {
    "name": "ipython",
    "version": 3
   },
   "file_extension": ".py",
   "mimetype": "text/x-python",
   "name": "python",
   "nbconvert_exporter": "python",
   "pygments_lexer": "ipython3",
   "version": "3.6.3"
  }
 },
 "nbformat": 4,
 "nbformat_minor": 2
}
