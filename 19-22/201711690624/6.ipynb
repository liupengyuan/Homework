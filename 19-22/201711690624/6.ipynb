{
 "cells": [
  {
   "cell_type": "code",
   "execution_count": 20,
   "metadata": {},
   "outputs": [
    {
     "name": "stdout",
     "output_type": "stream",
     "text": [
      "12\n",
      "-1\n"
     ]
    }
   ],
   "source": [
    "#写函数，返回某个元素/对象在一个list中的位置，如果不在，则返回-1\n",
    "numbers=[0,1,2,3,4,5,6,7,8,9,10,11,28,]\n",
    "def a(number):\n",
    "    if number in numbers:\n",
    "        i=numbers.index(number)\n",
    "        print(i)\n",
    "    else:\n",
    "        print(-1)\n",
    "a(28)\n",
    "a(30)"
   ]
  },
  {
   "cell_type": "code",
   "execution_count": 21,
   "metadata": {},
   "outputs": [
    {
     "name": "stdout",
     "output_type": "stream",
     "text": [
      "[1, 5, 2, 6, 3, 7, 4, 8]\n"
     ]
    }
   ],
   "source": [
    "#写函数，可将两个相同长度的list，间隔插入，生成新的list。例如：给两个list，a=[1,2,3,4], b=[5,6,7,8]。则可以生成：[1,5,2,6,3,7,4,8]。\n",
    "def a(list1,list2):\n",
    "    b=list1.insert(1,list2[0])\n",
    "    c=list1.insert(3,list2[1])\n",
    "    d=list1.insert(5,list2[2])\n",
    "    e=list1.insert(7,list2[3])\n",
    "    print(list1)\n",
    "\n",
    "a([1,2,3,4],[5,6,7,8])"
   ]
  },
  {
   "cell_type": "code",
   "execution_count": 22,
   "metadata": {},
   "outputs": [
    {
     "name": "stdout",
     "output_type": "stream",
     "text": [
      "1.5201626123751157\n"
     ]
    }
   ],
   "source": [
    "#写函数，可求两个向量的夹角余弦值，向量可放在list中。主程序调用该函数。\n",
    "import math\n",
    "def cos(a,b):\n",
    "    c=a[0]*b[0]\n",
    "    d=a[1]*b[1]\n",
    "    total1=c+d\n",
    "    e=a[0]**2+a[1]**2\n",
    "    f=math.sqrt(e)\n",
    "    g=b[0]**2+b[1]**2\n",
    "    h=math.sqrt(g)\n",
    "    total2=f+h\n",
    "    result=total1/total2\n",
    "    print(result)\n",
    "\n",
    "cos([1,2],[3,4])"
   ]
  },
  {
   "cell_type": "code",
   "execution_count": null,
   "metadata": {},
   "outputs": [],
   "source": [
    "#挑战性习题：python语言老师为了激励学生学pytho6n，自费买了100个完全相同的Macbook Pro，分给三个班级，每个班级至少分5个，用穷举法计算共有多少种分法？\n",
    "\n",
    "#真·不会写  写不出啊啊啊啊啊啊啊+_+"
   ]
  }
 ],
 "metadata": {
  "kernelspec": {
   "display_name": "Python 3",
   "language": "python",
   "name": "python3"
  },
  "language_info": {
   "codemirror_mode": {
    "name": "ipython",
    "version": 3
   },
   "file_extension": ".py",
   "mimetype": "text/x-python",
   "name": "python",
   "nbconvert_exporter": "python",
   "pygments_lexer": "ipython3",
   "version": "3.6.3"
  }
 },
 "nbformat": 4,
 "nbformat_minor": 2
}
