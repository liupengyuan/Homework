{
 "cells": [
  {
   "cell_type": "code",
   "execution_count": 1,
   "metadata": {},
   "outputs": [
    {
     "name": "stdout",
     "output_type": "stream",
     "text": [
      "请输入第一个整数，以回车结束。3\n",
      "请输入第二个整数，以回车结束。4\n",
      "30\n"
     ]
    }
   ],
   "source": [
    "#写出求和函数my_sum(n),求积函数my_mul(n),请用户输入m和n，如果m>n则输出1+...+m+1+...+n的和，否则输出m!+n!\n",
    "def my_sum(n):\n",
    "    i=0\n",
    "    total=0\n",
    "    \n",
    "    while i<n:\n",
    "        i=i+1\n",
    "        total=total+i\n",
    "        \n",
    "    return total\n",
    "\n",
    "def my_mul(n):\n",
    "    l=0\n",
    "    s=1\n",
    "    \n",
    "    while l<n:\n",
    "        l+=1\n",
    "        s*=l\n",
    "        \n",
    "    return s\n",
    "\n",
    "m=int(input('请输入第一个整数，以回车结束。'))\n",
    "n=int(input('请输入第二个整数，以回车结束。'))\n",
    "if m>n:\n",
    "    print(my_sum(n)+my_sum(m))\n",
    "else:\n",
    "    print(my_mul(n)+my_mul(m))"
   ]
  }
 ],
 "metadata": {
  "kernelspec": {
   "display_name": "Python 3",
   "language": "python",
   "name": "python3"
  },
  "language_info": {
   "codemirror_mode": {
    "name": "ipython",
    "version": 3
   },
   "file_extension": ".py",
   "mimetype": "text/x-python",
   "name": "python",
   "nbconvert_exporter": "python",
   "pygments_lexer": "ipython3",
   "version": "3.6.3"
  }
 },
 "nbformat": 4,
 "nbformat_minor": 2
}
