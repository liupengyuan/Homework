{
 "cells": [
  {
   "cell_type": "code",
   "execution_count": 5,
   "metadata": {},
   "outputs": [
    {
     "name": "stdout",
     "output_type": "stream",
     "text": [
      "35\n"
     ]
    }
   ],
   "source": [
    "#1.\n",
    "def a(m):\n",
    "    total=0\n",
    "    b=0\n",
    "    i=0\n",
    "    s=0\n",
    "    while i<m:\n",
    "        b+=1\n",
    "        s+=b\n",
    "        total+=s\n",
    "        i+=1\n",
    "    print(total)\n",
    "\n",
    "a(5)"
   ]
  },
  {
   "cell_type": "code",
   "execution_count": 6,
   "metadata": {},
   "outputs": [
    {
     "ename": "IndentationError",
     "evalue": "expected an indented block (<ipython-input-6-94111bc5fa93>, line 4)",
     "output_type": "error",
     "traceback": [
      "\u001b[1;36m  File \u001b[1;32m\"<ipython-input-6-94111bc5fa93>\"\u001b[1;36m, line \u001b[1;32m4\u001b[0m\n\u001b[1;33m    def b(n):\u001b[0m\n\u001b[1;37m      ^\u001b[0m\n\u001b[1;31mIndentationError\u001b[0m\u001b[1;31m:\u001b[0m expected an indented block\n"
     ]
    }
   ],
   "source": [
    "#2.\n",
    "def a(m):\n",
    "    c=m\n",
    "\n",
    "def b(n):\n",
    "    "
   ]
  },
  {
   "cell_type": "code",
   "execution_count": 7,
   "metadata": {},
   "outputs": [
    {
     "ename": "SyntaxError",
     "evalue": "unexpected EOF while parsing (<ipython-input-7-b57c02c4129c>, line 3)",
     "output_type": "error",
     "traceback": [
      "\u001b[1;36m  File \u001b[1;32m\"<ipython-input-7-b57c02c4129c>\"\u001b[1;36m, line \u001b[1;32m3\u001b[0m\n\u001b[1;33m    \u001b[0m\n\u001b[1;37m    ^\u001b[0m\n\u001b[1;31mSyntaxError\u001b[0m\u001b[1;31m:\u001b[0m unexpected EOF while parsing\n"
     ]
    }
   ],
   "source": [
    "#3.\n",
    "def a(m):\n",
    "    \n",
    "    \n",
    "    "
   ]
  },
  {
   "cell_type": "code",
   "execution_count": 22,
   "metadata": {},
   "outputs": [
    {
     "name": "stdout",
     "output_type": "stream",
     "text": [
      "181.11111111111111\n",
      "183\n",
      "185\n",
      "183\n",
      "187\n",
      "190\n"
     ]
    }
   ],
   "source": [
    "#4.\n",
    "a=[183,185,183,187,178,175,177,190,172]\n",
    "total=0\n",
    "for i in a:\n",
    "    total+=i\n",
    "    s=total/len(a)\n",
    "print(s)\n",
    "\n",
    "for i in a:\n",
    "    if i>s:\n",
    "        print(i)\n"
   ]
  },
  {
   "cell_type": "code",
   "execution_count": 4,
   "metadata": {},
   "outputs": [
    {
     "name": "stdout",
     "output_type": "stream",
     "text": [
      "number1= 5 number2= 2\n",
      "number1+number2=7\n",
      "20\n",
      "number1= 5 number2= 1\n",
      "number1+number2=6\n",
      "40\n",
      "number1= 9 number2= 2\n",
      "number1+number2=11\n",
      "60\n",
      "number1= 6 number2= 8\n",
      "number1+number2=14\n",
      "80\n",
      "number1= 9 number2= 9\n",
      "number1+number2=18\n",
      "100\n"
     ]
    }
   ],
   "source": [
    "#5.\n",
    "import random\n",
    "\n",
    "def a(i):\n",
    "    n=0\n",
    "    total1=0\n",
    "    total2=0\n",
    "    while n<i:\n",
    "        n+=1\n",
    "        number1=random.randint(0,10)\n",
    "        number2=random.randint(0,10)\n",
    "        total1=number1+number2\n",
    "        print('number1=',number1,'number2=',number2)\n",
    "        b=int(input('number1+number2='))\n",
    "        if b==total1:\n",
    "            c=20\n",
    "        else:\n",
    "            c=0\n",
    "        total2=total2+c\n",
    "\n",
    "        print(total2)\n",
    "\n",
    "a(5)"
   ]
  },
  {
   "cell_type": "code",
   "execution_count": 11,
   "metadata": {},
   "outputs": [
    {
     "name": "stdout",
     "output_type": "stream",
     "text": [
      "[3, [3, -5, 9, 108, 34, -76, 88], 0]\n",
      "[3, [3, -5, 9, 108, 34, -76, 88], 0]\n",
      "[9, [3, -5, 9, 108, 34, -76, 88], 0]\n",
      "[108, [3, -5, 9, 108, 34, -76, 88], 0]\n",
      "[34, [3, -5, 9, 108, 34, -76, 88], 0]\n",
      "[34, [3, -5, 9, 108, 34, -76, 88], 0]\n",
      "[88, [3, -5, 9, 108, 34, -76, 88], 0]\n"
     ]
    }
   ],
   "source": [
    "#6.\n",
    "list=[3,-5,9,108,34,-76,88]\n",
    "for i in list:\n",
    "    min_number=0\n",
    "    max_number=0\n",
    "    if min_number>i:\n",
    "        min_number=\n",
    "    elif max_number<i:\n",
    "        max_number=i\n",
    "        list1=[max_number,list,min_number]\n",
    "    print(list1)"
   ]
  },
  {
   "cell_type": "code",
   "execution_count": null,
   "metadata": {},
   "outputs": [],
   "source": []
  },
  {
   "cell_type": "code",
   "execution_count": null,
   "metadata": {},
   "outputs": [],
   "source": []
  },
  {
   "cell_type": "code",
   "execution_count": null,
   "metadata": {},
   "outputs": [],
   "source": []
  },
  {
   "cell_type": "code",
   "execution_count": null,
   "metadata": {},
   "outputs": [],
   "source": []
  },
  {
   "cell_type": "code",
   "execution_count": null,
   "metadata": {},
   "outputs": [],
   "source": []
  },
  {
   "cell_type": "code",
   "execution_count": null,
   "metadata": {},
   "outputs": [],
   "source": []
  },
  {
   "cell_type": "code",
   "execution_count": null,
   "metadata": {},
   "outputs": [],
   "source": []
  }
 ],
 "metadata": {
  "kernelspec": {
   "display_name": "Python 3",
   "language": "python",
   "name": "python3"
  },
  "language_info": {
   "codemirror_mode": {
    "name": "ipython",
    "version": 3
   },
   "file_extension": ".py",
   "mimetype": "text/x-python",
   "name": "python",
   "nbconvert_exporter": "python",
   "pygments_lexer": "ipython3",
   "version": "3.6.3"
  }
 },
 "nbformat": 4,
 "nbformat_minor": 2
}
