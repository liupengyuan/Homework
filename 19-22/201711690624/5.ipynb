{
 "cells": [
  {
   "cell_type": "code",
   "execution_count": 1,
   "metadata": {},
   "outputs": [
    {
     "name": "stdout",
     "output_type": "stream",
     "text": [
      "2.0816659994661326\n"
     ]
    }
   ],
   "source": [
    "#练习 1：写函数，求n个随机整数均值的平方根，整数范围在m与k之间（n,m,k由用户输入）。\n",
    "import random,math\n",
    "\n",
    "def a(n,m,k):\n",
    "    i=0\n",
    "    total=0\n",
    "    while i<n:\n",
    "        i+=1\n",
    "        number=random.randint(m,k)\n",
    "        total+=number\n",
    "        b=total/n\n",
    "        c=math.sqrt(b)\n",
    "    print(c)\n",
    "    \n",
    "a(3,1,10)\n",
    "        "
   ]
  },
  {
   "cell_type": "code",
   "execution_count": 4,
   "metadata": {},
   "outputs": [
    {
     "name": "stdout",
     "output_type": "stream",
     "text": [
      "5.493061443340549\n",
      "1.8204784532536746\n"
     ]
    }
   ],
   "source": [
    "#练习 2：写函数，共n个随机整数，整数范围在m与k之间，（n,m,k由用户输入）。求1：西格玛log(随机整数)，2：西格玛1/log(随机整数)\n",
    "import random,math\n",
    "\n",
    "def a(n,m,k):\n",
    "    i=0\n",
    "    total_1=0\n",
    "    total_2=0\n",
    "    while i<n:\n",
    "        i+=1\n",
    "        number=random.randint(m,k)\n",
    "        b=math.log(number)\n",
    "        total_1+=b\n",
    "        c=1/b\n",
    "        total_2+=c\n",
    "    print(total_1)\n",
    "    print(total_2)\n",
    "    \n",
    "a(3,1,10)"
   ]
  },
  {
   "cell_type": "code",
   "execution_count": 10,
   "metadata": {},
   "outputs": [
    {
     "name": "stdout",
     "output_type": "stream",
     "text": [
      "请输入一个正整数4\n",
      "6170\n"
     ]
    }
   ],
   "source": [
    "#练习 3：写函数，求s=a+aa+aaa+aaaa+aa...a的值，其中a是[1,9]之间的随机整数。例如2+22+222+2222+22222(此时共有5个数相加)，几个数相加由键盘输入。\n",
    "import random\n",
    "\n",
    "def number(a):\n",
    "    a=random.randint(1,9)\n",
    "    n=int(input('请输入一个正整数'))\n",
    "    i=0\n",
    "    total=0\n",
    "    c=0\n",
    "    while i<n:\n",
    "        b=total*10+a\n",
    "        total=b\n",
    "        i+=1\n",
    "        c+=b\n",
    "    print(c)\n",
    "    \n",
    "number(a)"
   ]
  },
  {
   "cell_type": "code",
   "execution_count": null,
   "metadata": {},
   "outputs": [],
   "source": [
    "#"
   ]
  }
 ],
 "metadata": {
  "kernelspec": {
   "display_name": "Python 3",
   "language": "python",
   "name": "python3"
  },
  "language_info": {
   "codemirror_mode": {
    "name": "ipython",
    "version": 3
   },
   "file_extension": ".py",
   "mimetype": "text/x-python",
   "name": "python",
   "nbconvert_exporter": "python",
   "pygments_lexer": "ipython3",
   "version": "3.6.3"
  }
 },
 "nbformat": 4,
 "nbformat_minor": 2
}
