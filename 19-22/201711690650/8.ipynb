{
 "cells": [
  {
   "cell_type": "markdown",
   "metadata": {},
   "source": [
    "成语接龙游戏"
   ]
  },
  {
   "cell_type": "code",
   "execution_count": null,
   "metadata": {},
   "outputs": [],
   "source": [
    "import random\n",
    "fh = open(r'C:\\temp\\成语大全.txt')\n",
    "text=fh.read()\n",
    "text = text.replace('、', '')\n",
    "idioms = text.split('\\n')\n",
    "\n",
    "idiom = random.choice(idioms)\n",
    "print(idiom)\n",
    "cy=0\n",
    "k=0\n",
    "dian=0\n",
    "ren=0\n",
    "m=idiom[len(idiom)-1]\n",
    "n=idiom[0]\n",
    "while cy != \"end\" and k==1:\n",
    "    cy=input(\"来接龙啊,结束游戏请输入'end'：\")\n",
    "    if cy in idioms and cy[0]==m:\n",
    "        ren+=10\n",
    "    else:\n",
    "        k=0\n",
    "        break\n",
    "    for idiom in idioms:\n",
    "        k=2\n",
    "    if n==cy[len(cy)-1]:\n",
    "        dian+=10\n",
    "        k=1\n",
    "        print(idiom)\n",
    "        break\n",
    "    \n",
    "    \n",
    "if k==0:\n",
    "    print(\"你输了^_^\")\n",
    "    print(\"电脑得分：\",dian)\n",
    "    print(\"玩家得分：\",ren)\n",
    "elif k==2:\n",
    "    print(\"你赢了qvq\")\n",
    "    print(\"电脑得分：\",dian)\n",
    "    print(\"玩家得分：\",ren)\n",
    "    "
   ]
  }
 ],
 "metadata": {
  "kernelspec": {
   "display_name": "Python 3",
   "language": "python",
   "name": "python3"
  },
  "language_info": {
   "codemirror_mode": {
    "name": "ipython",
    "version": 3
   },
   "file_extension": ".py",
   "mimetype": "text/x-python",
   "name": "python",
   "nbconvert_exporter": "python",
   "pygments_lexer": "ipython3",
   "version": "3.6.2"
  }
 },
 "nbformat": 4,
 "nbformat_minor": 2
}
