{
 "cells": [
  {
   "cell_type": "code",
   "execution_count": 5,
   "metadata": {
    "collapsed": true
   },
   "outputs": [],
   "source": [
    "#练习1\n",
    "def my_mul(end):\n",
    "    c=0\n",
    "    total_N=1\n",
    "    while c<end:\n",
    "        c+=1\n",
    "        total_N*=c\n",
    "    return total_N"
   ]
  },
  {
   "cell_type": "code",
   "execution_count": 6,
   "metadata": {},
   "outputs": [
    {
     "name": "stdout",
     "output_type": "stream",
     "text": [
      "请输入第1个整数，以回车结束。2\n",
      "请输入第2个整数，以回车结束。3\n",
      "请输入第3个整数，以回车结束。4\n",
      "最终的和是： 32\n"
     ]
    }
   ],
   "source": [
    "n = int(input('请输入第1个整数，以回车结束。'))\n",
    "m = int(input('请输入第2个整数，以回车结束。'))\n",
    "k = int(input('请输入第3个整数，以回车结束。'))\n",
    "\n",
    "print('最终的和是：',my_mul(n)+my_mul(m)+my_mul(k))"
   ]
  },
  {
   "cell_type": "code",
   "execution_count": 7,
   "metadata": {},
   "outputs": [
    {
     "name": "stdout",
     "output_type": "stream",
     "text": [
      "3.1405926538397777\n",
      "3.1415826535897065\n"
     ]
    }
   ],
   "source": [
    "#练习2\n",
    "\n",
    "def b(n):\n",
    "    i=0\n",
    "    total=0\n",
    "    total2=0\n",
    "   \n",
    "    while i<n:\n",
    "        i=i+1\n",
    "        c=1/(2*i-1)\n",
    "        if i%2==0:\n",
    "            total=total-c\n",
    "        else:\n",
    "            total2=total2+c\n",
    "    total3=total+total2\n",
    "    return total3\n",
    "print(b(1000)*4)\n",
    "print(b(100000)*4)"
   ]
  },
  {
   "cell_type": "code",
   "execution_count": 1,
   "metadata": {},
   "outputs": [
    {
     "name": "stdout",
     "output_type": "stream",
     "text": [
      "请输入用户名syq\n",
      "请输入你出生的月份与日期，如3.144.13\n",
      "syq 你是非常有性格的白羊座\n"
     ]
    }
   ],
   "source": [
    "#练习 3：将task3中的练习1及练习4改写为函数，并进行调用。\n",
    "#写程序，可由键盘读入用户姓名例如Mr. right，让用户输入出生的月份与日期，判断用户星座，\n",
    "#假设用户是金牛座，则输出，Mr. right，你是非常有性格的金牛座！。\n",
    "\n",
    "def compute(m):\n",
    "    m=float(input('请输入你出生的月份与日期，如3.14'))\n",
    "    return m\n",
    "\n",
    "n=input('请输入用户名')\n",
    "m=float(input('请输入你出生的月份与日期，如3.14'))\n",
    "if 3.21<=m<=4.19:\n",
    "    print(n,'你是非常有性格的白羊座')\n",
    "elif 4.20<=m<=5.20:\n",
    "    print(n,'你是非常有性格的金牛座')     \n",
    "elif 5.21<=m<=6.21:\n",
    "    print(n,'你是非常有性格的双子座')\n",
    "elif 6.22<=m<=7.22:\n",
    "    print(n,'你是非常有性格的巨蟹座')\n",
    "elif 7.23<=m<=8.22:\n",
    "    print(n,'你是非常有性格的狮子座')\n",
    "elif 8.23<=m<=9.22:\n",
    "    print(n,'你是非常有性格的处女座')\n",
    "elif 9.23<=m<=10.23:\n",
    "    print(n,'你是非常有性格的天秤座')\n",
    "elif 10.24<=m<=11.22:\n",
    "    print(n,'你是非常有性格的天蝎座')\n",
    "elif 11.23<=m<=12.21:\n",
    "    print(n,'你是非常有性格的射手座')\n",
    "elif 12.22<=m<=1.19:\n",
    "    print(n,'你是非常有性格的摩羯座')\n",
    "elif 1.20<=m<=2.18:\n",
    "    print(n,'你是非常有性格的水瓶座')\n",
    "elif 2.19<=m<=3.20:\n",
    "    print(n,'你是非常有性格的双鱼座')\n",
    "else:\n",
    "    print(\"输入非法！\")"
   ]
  },
  {
   "cell_type": "code",
   "execution_count": 14,
   "metadata": {},
   "outputs": [
    {
     "name": "stdout",
     "output_type": "stream",
     "text": [
      "请输入一个英文单词，回车结束。o\n",
      "请加es\n"
     ]
    }
   ],
   "source": [
    "def compute(n):\n",
    "    n=input('请输入一个英文单词，回车结束。')\n",
    "    return n\n",
    "\n",
    "n=input('请输入一个英文单词，回车结束。')\n",
    "if n.endswith(\"s\"):\n",
    "    print(\"请加es\")\n",
    "elif n.endswith(\"x\"):\n",
    "    print(\"请加es\")\n",
    "elif n.endswith(\"z\"):\n",
    "    print(\"请加es\")\n",
    "elif n.endswith(\"sh\"):\n",
    "    print(\"请加es\")\n",
    "elif n.endswith(\"ch\"):\n",
    "    print(\"请加es\")\n",
    "elif n.endswith(\"y\"):\n",
    "    print(\"请改y为i再加es\")\n",
    "elif n.endswith(\"o\"):\n",
    "    print(\"请加es\")\n",
    "elif n.endswith(\"f\"):\n",
    "    print(\"请改f为v再加es\")\n",
    "elif n.endswith(\"fe\"):\n",
    "    print(\"请改fe为v再加es\")\n",
    "else:\n",
    "    print(\"请加s\")"
   ]
  },
  {
   "cell_type": "code",
   "execution_count": 27,
   "metadata": {},
   "outputs": [
    {
     "name": "stdout",
     "output_type": "stream",
     "text": [
      "请输入一个整数为k3\n",
      "请输入一个整数3\n",
      "请输入另一个整数9\n",
      "18\n"
     ]
    }
   ],
   "source": [
    "def compute_nm(k):\n",
    "    n=int(input('请输入一个整数'))\n",
    "    m=int(input('请输入另一个整数'))\n",
    "   \n",
    "    if m<n:\n",
    "        total=m\n",
    "        while m<n:\n",
    "            m=m+k\n",
    "            total=total+m\n",
    "    elif m>n:\n",
    "        total=n\n",
    "        while m>n:\n",
    "            n=n+k\n",
    "            total=total+n\n",
    "    return total\n",
    "k=int(input('请输入一个整数为k'))\n",
    "print(compute_nm(k))"
   ]
  },
  {
   "cell_type": "code",
   "execution_count": null,
   "metadata": {
    "collapsed": true
   },
   "outputs": [],
   "source": []
  },
  {
   "cell_type": "code",
   "execution_count": null,
   "metadata": {
    "collapsed": true
   },
   "outputs": [],
   "source": []
  },
  {
   "cell_type": "code",
   "execution_count": null,
   "metadata": {
    "collapsed": true
   },
   "outputs": [],
   "source": []
  },
  {
   "cell_type": "code",
   "execution_count": null,
   "metadata": {
    "collapsed": true
   },
   "outputs": [],
   "source": []
  },
  {
   "cell_type": "code",
   "execution_count": null,
   "metadata": {
    "collapsed": true
   },
   "outputs": [],
   "source": []
  },
  {
   "cell_type": "code",
   "execution_count": null,
   "metadata": {
    "collapsed": true
   },
   "outputs": [],
   "source": []
  },
  {
   "cell_type": "code",
   "execution_count": null,
   "metadata": {
    "collapsed": true
   },
   "outputs": [],
   "source": []
  },
  {
   "cell_type": "code",
   "execution_count": null,
   "metadata": {
    "collapsed": true
   },
   "outputs": [],
   "source": []
  },
  {
   "cell_type": "code",
   "execution_count": null,
   "metadata": {
    "collapsed": true
   },
   "outputs": [],
   "source": []
  },
  {
   "cell_type": "code",
   "execution_count": null,
   "metadata": {
    "collapsed": true
   },
   "outputs": [],
   "source": []
  },
  {
   "cell_type": "code",
   "execution_count": null,
   "metadata": {
    "collapsed": true
   },
   "outputs": [],
   "source": []
  },
  {
   "cell_type": "code",
   "execution_count": null,
   "metadata": {
    "collapsed": true
   },
   "outputs": [],
   "source": []
  },
  {
   "cell_type": "code",
   "execution_count": null,
   "metadata": {
    "collapsed": true
   },
   "outputs": [],
   "source": []
  },
  {
   "cell_type": "code",
   "execution_count": null,
   "metadata": {
    "collapsed": true
   },
   "outputs": [],
   "source": []
  },
  {
   "cell_type": "code",
   "execution_count": null,
   "metadata": {
    "collapsed": true
   },
   "outputs": [],
   "source": []
  },
  {
   "cell_type": "code",
   "execution_count": null,
   "metadata": {
    "collapsed": true
   },
   "outputs": [],
   "source": []
  },
  {
   "cell_type": "code",
   "execution_count": null,
   "metadata": {
    "collapsed": true
   },
   "outputs": [],
   "source": []
  },
  {
   "cell_type": "code",
   "execution_count": null,
   "metadata": {
    "collapsed": true
   },
   "outputs": [],
   "source": []
  },
  {
   "cell_type": "code",
   "execution_count": null,
   "metadata": {
    "collapsed": true
   },
   "outputs": [],
   "source": []
  },
  {
   "cell_type": "code",
   "execution_count": null,
   "metadata": {
    "collapsed": true
   },
   "outputs": [],
   "source": []
  },
  {
   "cell_type": "code",
   "execution_count": null,
   "metadata": {
    "collapsed": true
   },
   "outputs": [],
   "source": []
  },
  {
   "cell_type": "code",
   "execution_count": null,
   "metadata": {
    "collapsed": true
   },
   "outputs": [],
   "source": []
  },
  {
   "cell_type": "code",
   "execution_count": null,
   "metadata": {
    "collapsed": true
   },
   "outputs": [],
   "source": []
  },
  {
   "cell_type": "code",
   "execution_count": null,
   "metadata": {
    "collapsed": true
   },
   "outputs": [],
   "source": []
  },
  {
   "cell_type": "code",
   "execution_count": null,
   "metadata": {
    "collapsed": true
   },
   "outputs": [],
   "source": []
  }
 ],
 "metadata": {
  "kernelspec": {
   "display_name": "Python 3",
   "language": "python",
   "name": "python3"
  },
  "language_info": {
   "codemirror_mode": {
    "name": "ipython",
    "version": 3
   },
   "file_extension": ".py",
   "mimetype": "text/x-python",
   "name": "python",
   "nbconvert_exporter": "python",
   "pygments_lexer": "ipython3",
   "version": "3.6.2"
  }
 },
 "nbformat": 4,
 "nbformat_minor": 2
}
