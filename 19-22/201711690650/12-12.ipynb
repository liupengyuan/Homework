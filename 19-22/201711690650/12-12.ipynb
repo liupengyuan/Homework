{
 "cells": [
  {
   "cell_type": "code",
   "execution_count": 13,
   "metadata": {},
   "outputs": [],
   "source": [
    "import random\n",
    "\n",
    "fh = open(r'C:\\temp\\idioms.txt')\n",
    "text = fh.read()\n",
    "text = text.replace('、', '')\n",
    "\n",
    "start = 0\n",
    "end = 0\n",
    "\n",
    "idioms = []\n",
    "while end < len(text):\n",
    "    if text[end] == '\\n':\n",
    "        idioms.append(text[start:end])\n",
    "        start = end + 1\n",
    "    end += 1\n",
    "\n",
    "\n",
    "text = text.replace('、', '')\n",
    "idioms = text.split('\\n')\n",
    "\n",
    "c=[]\n",
    "\n",
    "while len(c) < 10:\n",
    "    ch = random.choice(text)\n",
    "    c.append(ch)\n",
    "fh = open(r'C:\\temp\\1.txt', 'w')\n",
    "fh.writelines(c)\n",
    "fh.close()\n",
    "\n",
    "while len(c) < 20:\n",
    "    ch = random.choice(text)\n",
    "    c.append(ch)\n",
    "fh = open(r'C:\\temp\\2.txt', 'w')\n",
    "fh.writelines(c)\n",
    "fh.close()\n",
    "\n",
    "while len(c) < 30:\n",
    "    ch = random.choice(text)\n",
    "    c.append(ch)\n",
    "fh = open(r'C:\\temp\\3.txt', 'w')\n",
    "fh.writelines(c)\n",
    "fh.close()\n",
    "\n",
    "while len(c) < 40:\n",
    "    ch = random.choice(text)\n",
    "    c.append(ch)\n",
    "fh = open(r'C:\\temp\\4.txt', 'w')\n",
    "fh.writelines(c)\n",
    "fh.close()\n",
    "\n",
    "while len(c) < 50:\n",
    "    ch = random.choice(text)\n",
    "    c.append(ch)\n",
    "fh = open(r'C:\\temp\\5.txt', 'w')\n",
    "fh.writelines(c)\n",
    "fh.close()\n",
    "\n",
    "while len(c) < 60:\n",
    "    ch = random.choice(text)\n",
    "    c.append(ch)\n",
    "fh = open(r'C:\\temp\\6.txt', 'w')\n",
    "fh.writelines(c)\n",
    "fh.close()\n",
    "\n",
    "while len(c) < 70:\n",
    "    ch = random.choice(text)\n",
    "    c.append(ch)\n",
    "fh = open(r'C:\\temp\\7.txt', 'w')\n",
    "fh.writelines(c)\n",
    "fh.close()\n",
    "\n",
    "while len(c) < 80:\n",
    "    ch = random.choice(text)\n",
    "    c.append(ch)\n",
    "fh = open(r'C:\\temp\\8.txt', 'w')\n",
    "fh.writelines(c)\n",
    "fh.close()\n",
    "\n",
    "while len(c) < 90:\n",
    "    ch = random.choice(text)\n",
    "    c.append(ch)\n",
    "    \n",
    "fh = open(r'C:\\temp\\9.txt', 'w')\n",
    "fh.writelines(c)\n",
    "fh.close()\n",
    "\n",
    "while len(c) < 100:\n",
    "    ch = random.choice(text)\n",
    "    c.append(ch)\n",
    "    \n",
    "fh = open(r'C:\\temp\\10.txt', 'w')\n",
    "fh.writelines(c)\n",
    "fh.close()\n"
   ]
  },
  {
   "cell_type": "code",
   "execution_count": null,
   "metadata": {
    "collapsed": true
   },
   "outputs": [],
   "source": []
  },
  {
   "cell_type": "code",
   "execution_count": null,
   "metadata": {
    "collapsed": true
   },
   "outputs": [],
   "source": []
  },
  {
   "cell_type": "code",
   "execution_count": null,
   "metadata": {
    "collapsed": true
   },
   "outputs": [],
   "source": []
  },
  {
   "cell_type": "code",
   "execution_count": null,
   "metadata": {
    "collapsed": true
   },
   "outputs": [],
   "source": []
  },
  {
   "cell_type": "code",
   "execution_count": null,
   "metadata": {
    "collapsed": true
   },
   "outputs": [],
   "source": []
  },
  {
   "cell_type": "code",
   "execution_count": null,
   "metadata": {
    "collapsed": true
   },
   "outputs": [],
   "source": []
  },
  {
   "cell_type": "code",
   "execution_count": null,
   "metadata": {
    "collapsed": true
   },
   "outputs": [],
   "source": []
  },
  {
   "cell_type": "code",
   "execution_count": null,
   "metadata": {
    "collapsed": true
   },
   "outputs": [],
   "source": []
  },
  {
   "cell_type": "code",
   "execution_count": null,
   "metadata": {
    "collapsed": true
   },
   "outputs": [],
   "source": []
  },
  {
   "cell_type": "code",
   "execution_count": null,
   "metadata": {
    "collapsed": true
   },
   "outputs": [],
   "source": []
  },
  {
   "cell_type": "code",
   "execution_count": null,
   "metadata": {
    "collapsed": true
   },
   "outputs": [],
   "source": []
  },
  {
   "cell_type": "code",
   "execution_count": null,
   "metadata": {
    "collapsed": true
   },
   "outputs": [],
   "source": []
  },
  {
   "cell_type": "code",
   "execution_count": null,
   "metadata": {
    "collapsed": true
   },
   "outputs": [],
   "source": []
  },
  {
   "cell_type": "code",
   "execution_count": null,
   "metadata": {
    "collapsed": true
   },
   "outputs": [],
   "source": []
  }
 ],
 "metadata": {
  "kernelspec": {
   "display_name": "Python 3",
   "language": "python",
   "name": "python3"
  },
  "language_info": {
   "codemirror_mode": {
    "name": "ipython",
    "version": 3
   },
   "file_extension": ".py",
   "mimetype": "text/x-python",
   "name": "python",
   "nbconvert_exporter": "python",
   "pygments_lexer": "ipython3",
   "version": "3.6.2"
  }
 },
 "nbformat": 4,
 "nbformat_minor": 2
}
