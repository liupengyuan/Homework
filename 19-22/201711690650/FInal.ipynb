{
 "cells": [
  {
   "cell_type": "code",
   "execution_count": 3,
   "metadata": {},
   "outputs": [
    {
     "name": "stdout",
     "output_type": "stream",
     "text": [
      "请输入行数5\n",
      "请输入字符*\n",
      "    *******\n",
      "   *********\n",
      "  ***********\n",
      " *************\n",
      "***************\n"
     ]
    }
   ],
   "source": [
    "n=int(input('请输入行数'))\n",
    "m=str(input('请输入字符'))\n",
    "for i in range(1,n+1):\n",
    "    print((n-i)*' '+m*i+m*n+m*i,end='')\n",
    "    print()"
   ]
  },
  {
   "cell_type": "code",
   "execution_count": 4,
   "metadata": {},
   "outputs": [
    {
     "name": "stdout",
     "output_type": "stream",
     "text": [
      "125\n"
     ]
    }
   ],
   "source": [
    "def Ackermann(m,n):\n",
    "    if m==0:\n",
    "        return n+1\n",
    "    elif m>0 and n==0:\n",
    "        return Ackermann(m-1,1)\n",
    "    elif m>0 and n>0:\n",
    "        return Ackermann(m-1,Ackermann(m,n-1))\n",
    "print(Ackermann(3,4))"
   ]
  },
  {
   "cell_type": "code",
   "execution_count": 28,
   "metadata": {},
   "outputs": [
    {
     "name": "stdout",
     "output_type": "stream",
     "text": [
      "请输入你需要的题数15\n",
      "请输入数字下限3\n",
      "请输入数字上限25\n",
      "24 * 17\n",
      "14 * 11\n",
      "19 + 13\n",
      "25 + 4\n",
      "7 * 8\n",
      "16 + 6\n",
      "9 * 18\n",
      "9 * 12\n",
      "8 - 7\n",
      "21 + 10\n",
      "15 * 25\n",
      "请输入你的答案3,2,32,29\n"
     ]
    },
    {
     "ename": "TypeError",
     "evalue": "'type' object is not subscriptable",
     "output_type": "error",
     "traceback": [
      "\u001b[1;31m---------------------------------------------------------------------------\u001b[0m",
      "\u001b[1;31mTypeError\u001b[0m                                 Traceback (most recent call last)",
      "\u001b[1;32m<ipython-input-28-c4c54a193117>\u001b[0m in \u001b[0;36m<module>\u001b[1;34m()\u001b[0m\n\u001b[0;32m     15\u001b[0m         \u001b[0mprint\u001b[0m\u001b[1;33m(\u001b[0m\u001b[0mi\u001b[0m\u001b[1;33m,\u001b[0m\u001b[0mf\u001b[0m\u001b[1;33m,\u001b[0m\u001b[0mj\u001b[0m\u001b[1;33m)\u001b[0m\u001b[1;33m\u001b[0m\u001b[0m\n\u001b[0;32m     16\u001b[0m         \u001b[0mright_answer\u001b[0m\u001b[1;33m.\u001b[0m\u001b[0mappend\u001b[0m\u001b[1;33m(\u001b[0m\u001b[0mright\u001b[0m\u001b[1;33m)\u001b[0m\u001b[1;33m\u001b[0m\u001b[0m\n\u001b[1;32m---> 17\u001b[1;33m \u001b[0manswer\u001b[0m\u001b[1;33m=\u001b[0m\u001b[0mint\u001b[0m\u001b[1;33m[\u001b[0m\u001b[0minput\u001b[0m\u001b[1;33m(\u001b[0m\u001b[1;34m'请输入你的答案'\u001b[0m\u001b[1;33m)\u001b[0m\u001b[1;33m]\u001b[0m\u001b[1;33m\u001b[0m\u001b[0m\n\u001b[0m\u001b[0;32m     18\u001b[0m \u001b[0mmark\u001b[0m\u001b[1;33m=\u001b[0m\u001b[1;36m0\u001b[0m\u001b[1;33m\u001b[0m\u001b[0m\n\u001b[0;32m     19\u001b[0m \u001b[1;32mfor\u001b[0m \u001b[0mnum\u001b[0m \u001b[1;32min\u001b[0m \u001b[0mn\u001b[0m\u001b[1;33m:\u001b[0m\u001b[1;33m\u001b[0m\u001b[0m\n",
      "\u001b[1;31mTypeError\u001b[0m: 'type' object is not subscriptable"
     ]
    }
   ],
   "source": [
    "n=int(input('请输入你需要的题数'))\n",
    "a=int(input('请输入数字下限'))\n",
    "b=int(input('请输入数字上限'))\n",
    "\n",
    "import random\n",
    "right_answer=[]\n",
    "l=0\n",
    "while l<n:\n",
    "    l=l+1\n",
    "    i=random.randint(a,b)\n",
    "    j=random.randint(a,b)\n",
    "    f=random.choice(['+','-','*','/'])\n",
    "    str='i'+f+'j'\n",
    "    if isinstance(eval(str) ,int)and eval(str)>0:\n",
    "        print(i,f,j)\n",
    "        right_answer.append(right)\n",
    "answer=[input('请输入你的答案')]\n",
    "mark=0\n",
    "for num in n:\n",
    "    if f=='+' or '-':\n",
    "        if answer[num]==right_answer[num]:\n",
    "            mark+=5\n",
    "        else:\n",
    "            mark=mark\n",
    "    else:\n",
    "        if answer[num]==right[num]:\n",
    "            mark+=10\n",
    "        else:\n",
    "            mark=mark\n"
   ]
  },
  {
   "cell_type": "code",
   "execution_count": 58,
   "metadata": {},
   "outputs": [
    {
     "name": "stdout",
     "output_type": "stream",
     "text": [
      "请输入你需要的题数10\n",
      "请输入一个算式1+2\n",
      "请输入你的结果3\n",
      "请输入一个算式1+3\n",
      "请输入你的结果4\n",
      "请输入一个算式2*2\n",
      "请输入你的结果4\n",
      "请输入一个算式3*3\n",
      "请输入你的结果9\n",
      "请输入一个算式4/2\n",
      "请输入你的结果2\n",
      "请输入一个算式5*5\n",
      "请输入你的结果25\n",
      "请输入一个算式7*6\n",
      "请输入你的结果42\n",
      "请输入一个算式8-4\n",
      "请输入你的结果4\n",
      "请输入一个算式9*2\n",
      "请输入你的结果12\n",
      "请输入一个算式4-3\n",
      "请输入你的结果1\n",
      "45\n"
     ]
    }
   ],
   "source": [
    "def robot(n):\n",
    "    x=0\n",
    "    mark=0\n",
    "    while x<n:\n",
    "        x=x+1\n",
    "        i=input('请输入一个算式')\n",
    "        j=eval(i)\n",
    "        answer=int(input('请输入你的结果'))\n",
    "        if i[1]=='+' or '-':\n",
    "            if answer==j:\n",
    "                 mark+=5\n",
    "            else:\n",
    "                mark=mark\n",
    "        else:\n",
    "            if answer==j:\n",
    "                mark+=10\n",
    "            else:\n",
    "                mark=mark\n",
    "    return mark\n",
    "n=int(input('请输入你需要的题数'))\n",
    "print(robot(n))"
   ]
  },
  {
   "cell_type": "code",
   "execution_count": 44,
   "metadata": {},
   "outputs": [
    {
     "name": "stderr",
     "output_type": "stream",
     "text": [
      "IOPub data rate exceeded.\n",
      "The notebook server will temporarily stop sending output\n",
      "to the client in order to avoid crashing it.\n",
      "To change this limit, set the config variable\n",
      "`--NotebookApp.iopub_data_rate_limit`.\n"
     ]
    }
   ],
   "source": [
    "def compute(filename):\n",
    "    with open(filename,encoding='utf-8') as f:\n",
    "        A=set()\n",
    "        for line in f:\n",
    "            A |= {word.split('/')[0] for word in line.split()} \n",
    "        return A\n",
    "filename=r'd:\\temp\\成语大全.txt'\n",
    "print(compute(filename))"
   ]
  },
  {
   "cell_type": "code",
   "execution_count": null,
   "metadata": {
    "collapsed": true
   },
   "outputs": [],
   "source": [
    "with open(r'd:\\temp\\语料.txt') as fr:\n",
    "\n",
    "    def ch_table(filename):\n",
    "        words_table = set()\n",
    "        ch_table = set()\n",
    "        with open(filename)as f:\n",
    "            for line in f:\n",
    "                words_table |= {word.split('/')[0] for word in line.split()} \n",
    "                for word in words_table:\n",
    "                    ch_table |= {ch for ch in word}\n",
    "            return ch_table\n",
    "                    \n",
    "ch_test_table = ch_table(r'd:\\temp\\成语.txt')\n",
    "ch_test1_table = ch_table(r'd:\\temp\\语料.txt')\n",
    "\n",
    "def intersection(a,b):\n",
    "    return a & b\n",
    "\n",
    "print( intersection(ch_test_table, ch_test1_table)[:20])"
   ]
  },
  {
   "cell_type": "code",
   "execution_count": 67,
   "metadata": {},
   "outputs": [
    {
     "data": {
      "text/plain": [
       "[('n', 76628),\n",
       " ('x', 63637),\n",
       " ('v', 59686),\n",
       " ('m', 25920),\n",
       " ('d', 18225),\n",
       " ('uj', 15590),\n",
       " ('p', 13234),\n",
       " ('r', 10942),\n",
       " ('nr', 10531),\n",
       " ('c', 9321),\n",
       " ('a', 8249),\n",
       " ('ns', 8153),\n",
       " ('vn', 7722),\n",
       " ('t', 6063),\n",
       " ('f', 5197),\n",
       " ('ul', 3284),\n",
       " ('nz', 2603),\n",
       " ('l', 2561),\n",
       " ('b', 1743),\n",
       " ('i', 1729),\n",
       " ('nt', 1723),\n",
       " ('j', 1707),\n",
       " ('eng', 1616),\n",
       " ('u', 1580),\n",
       " ('q', 1339),\n",
       " ('s', 1281),\n",
       " ('nrt', 995),\n",
       " ('ad', 932),\n",
       " ('zg', 754),\n",
       " ('ng', 574),\n",
       " ('uz', 408),\n",
       " ('', 384),\n",
       " ('k', 371),\n",
       " ('uv', 344),\n",
       " ('z', 322),\n",
       " ('y', 308),\n",
       " ('an', 302),\n",
       " ('vg', 239),\n",
       " ('ug', 238),\n",
       " ('mq', 219),\n",
       " ('ud', 205),\n",
       " ('nrfg', 133),\n",
       " ('vd', 92),\n",
       " ('h', 90),\n",
       " ('g', 76),\n",
       " ('ag', 75),\n",
       " ('tg', 64),\n",
       " ('df', 55),\n",
       " ('o', 40),\n",
       " ('rz', 36),\n",
       " ('e', 31),\n",
       " ('rg', 8),\n",
       " ('dg', 7),\n",
       " ('vq', 6),\n",
       " ('vi', 6),\n",
       " ('yg', 6),\n",
       " ('rr', 5)]"
      ]
     },
     "execution_count": 67,
     "metadata": {},
     "output_type": "execute_result"
    }
   ],
   "source": [
    "def count_words_freq_dict(filename):\n",
    "    words_freq_dict = {}\n",
    "    \n",
    "    with open(filename) as f:\n",
    "        for line in f:\n",
    "            words = [word.split('/')[1] for word in line.split()]\n",
    "            for word in words:\n",
    "                if word in words_freq_dict: #如果词典中有键为word，则该word的value+1\n",
    "                    words_freq_dict[word] += 1\n",
    "                else:                       #否则，词典中加入键word，其value为1\n",
    "                    words_freq_dict[word] = 1\n",
    "                    \n",
    "    return words_freq_dict\n",
    "from operator import itemgetter\n",
    "filename = r'd:\\temp\\语料库.txt'\n",
    "table = count_words_freq_dict(filename)\n",
    "sorted(table.items(),key=lambda x:x[1],reverse=True)\n"
   ]
  },
  {
   "cell_type": "code",
   "execution_count": null,
   "metadata": {
    "collapsed": true
   },
   "outputs": [],
   "source": [
    "with open(r'd:\\temp\\语料库.txt') as f:\n",
    "    words_table = set()\n",
    "    nr=set()\n",
    "    for line in f:\n",
    "        words_table |= {word.split('/')[0] for word in line.split()} \n",
    "        for word in words_table:\n",
    "            if word.split('/')[0]=='nr':\n",
    "                nr|= {ch for ch in word}\n",
    "    print(nr)            "
   ]
  },
  {
   "cell_type": "code",
   "execution_count": null,
   "metadata": {
    "collapsed": true
   },
   "outputs": [],
   "source": [
    "def compute(n):\n",
    "   f=len(A)\n",
    "   return f"
   ]
  },
  {
   "cell_type": "code",
   "execution_count": null,
   "metadata": {
    "collapsed": true
   },
   "outputs": [],
   "source": []
  },
  {
   "cell_type": "code",
   "execution_count": null,
   "metadata": {
    "collapsed": true
   },
   "outputs": [],
   "source": []
  },
  {
   "cell_type": "code",
   "execution_count": null,
   "metadata": {
    "collapsed": true
   },
   "outputs": [],
   "source": []
  },
  {
   "cell_type": "code",
   "execution_count": null,
   "metadata": {
    "collapsed": true
   },
   "outputs": [],
   "source": []
  },
  {
   "cell_type": "code",
   "execution_count": null,
   "metadata": {
    "collapsed": true
   },
   "outputs": [],
   "source": []
  },
  {
   "cell_type": "code",
   "execution_count": null,
   "metadata": {
    "collapsed": true
   },
   "outputs": [],
   "source": []
  },
  {
   "cell_type": "code",
   "execution_count": null,
   "metadata": {
    "collapsed": true
   },
   "outputs": [],
   "source": []
  },
  {
   "cell_type": "code",
   "execution_count": null,
   "metadata": {
    "collapsed": true
   },
   "outputs": [],
   "source": []
  },
  {
   "cell_type": "code",
   "execution_count": null,
   "metadata": {
    "collapsed": true
   },
   "outputs": [],
   "source": []
  },
  {
   "cell_type": "code",
   "execution_count": null,
   "metadata": {
    "collapsed": true
   },
   "outputs": [],
   "source": []
  },
  {
   "cell_type": "code",
   "execution_count": null,
   "metadata": {
    "collapsed": true
   },
   "outputs": [],
   "source": []
  },
  {
   "cell_type": "code",
   "execution_count": null,
   "metadata": {
    "collapsed": true
   },
   "outputs": [],
   "source": []
  },
  {
   "cell_type": "code",
   "execution_count": null,
   "metadata": {
    "collapsed": true
   },
   "outputs": [],
   "source": []
  },
  {
   "cell_type": "code",
   "execution_count": null,
   "metadata": {
    "collapsed": true
   },
   "outputs": [],
   "source": []
  },
  {
   "cell_type": "code",
   "execution_count": null,
   "metadata": {
    "collapsed": true
   },
   "outputs": [],
   "source": []
  },
  {
   "cell_type": "code",
   "execution_count": null,
   "metadata": {
    "collapsed": true
   },
   "outputs": [],
   "source": []
  },
  {
   "cell_type": "code",
   "execution_count": null,
   "metadata": {
    "collapsed": true
   },
   "outputs": [],
   "source": []
  },
  {
   "cell_type": "code",
   "execution_count": null,
   "metadata": {
    "collapsed": true
   },
   "outputs": [],
   "source": []
  },
  {
   "cell_type": "code",
   "execution_count": null,
   "metadata": {
    "collapsed": true
   },
   "outputs": [],
   "source": []
  }
 ],
 "metadata": {
  "kernelspec": {
   "display_name": "Python 3",
   "language": "python",
   "name": "python3"
  },
  "language_info": {
   "codemirror_mode": {
    "name": "ipython",
    "version": 3
   },
   "file_extension": ".py",
   "mimetype": "text/x-python",
   "name": "python",
   "nbconvert_exporter": "python",
   "pygments_lexer": "ipython3",
   "version": "3.6.2"
  }
 },
 "nbformat": 4,
 "nbformat_minor": 2
}
