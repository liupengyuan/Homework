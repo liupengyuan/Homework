{
 "cells": [
  {
   "cell_type": "markdown",
   "metadata": {
    "collapsed": true
   },
   "source": [
    "练习一：自己定义一个reverse(s)函数，功能返回字符串s的倒序字符串。"
   ]
  },
  {
   "cell_type": "code",
   "execution_count": 30,
   "metadata": {},
   "outputs": [
    {
     "name": "stdout",
     "output_type": "stream",
     "text": [
      "请输入一个字符串abcd\n",
      "dcba\n"
     ]
    }
   ],
   "source": [
    "def reverse(s):\n",
    "    s=str(input('请输入一个字符串'))\n",
    "    return s[::-1]\n",
    "\n",
    "print(reverse(s))"
   ]
  },
  {
   "cell_type": "markdown",
   "metadata": {},
   "source": [
    "练习二：写函数，根据给定符号和行数，打印相应直角三角形，等腰三角形及其他形式的三角形。"
   ]
  },
  {
   "cell_type": "code",
   "execution_count": 53,
   "metadata": {},
   "outputs": [
    {
     "name": "stdout",
     "output_type": "stream",
     "text": [
      "请输入你想打印的字符*\n",
      "请输入你想打印的行数4\n",
      "    \n",
      "   *\n",
      "  **\n",
      " ***\n",
      "****\n",
      "    \n",
      "   * \n",
      "  * * \n",
      " * * * \n",
      "* * * * \n",
      "\n",
      " *\n",
      "  **\n",
      "   ***\n",
      "    ****\n"
     ]
    }
   ],
   "source": [
    "s=str(input('请输入你想打印的字符'))\n",
    "n=int(input('请输入你想打印的行数'))\n",
    "line=s*n\n",
    "for i in range(0,n+1):\n",
    "    print(' '*(len(line)-i)+line[0:i])\n",
    "for i in range(0,n+1):\n",
    "    print((len(line)-i)*' ' + (line[0]+' ')*i, end='')\n",
    "    print()\n",
    "for i in range (0,n+1):\n",
    "    print(' '*i+line[0:i])"
   ]
  },
  {
   "cell_type": "markdown",
   "metadata": {},
   "source": [
    "练习五：写函数，根据给定符号，打印各种菱形。"
   ]
  },
  {
   "cell_type": "code",
   "execution_count": 24,
   "metadata": {},
   "outputs": [
    {
     "name": "stdout",
     "output_type": "stream",
     "text": [
      "请输入一个整数4\n",
      "     \n",
      "    * \n",
      "   * * \n",
      "  * * * \n",
      " * * * * \n",
      "  * * * \n",
      "   * * \n",
      "    * \n",
      "     \n"
     ]
    }
   ],
   "source": [
    "m='*'\n",
    "n=int(input('请输入一个整数'))\n",
    "line=m*(n+1)\n",
    "    \n",
    "for i in range(0,len(line)):\n",
    "    print((len(line)-i)*' ' + (line[0]+' ')*i, end='')\n",
    "    print()\n",
    "for i in range (0,len(line)-1):\n",
    "    print((i+2)*' '+(line[0]+' ')*(n-i-1),end='')\n",
    "    print()"
   ]
  }
 ],
 "metadata": {
  "kernelspec": {
   "display_name": "Python 3",
   "language": "python",
   "name": "python3"
  },
  "language_info": {
   "codemirror_mode": {
    "name": "ipython",
    "version": 3
   },
   "file_extension": ".py",
   "mimetype": "text/x-python",
   "name": "python",
   "nbconvert_exporter": "python",
   "pygments_lexer": "ipython3",
   "version": "3.6.2"
  }
 },
 "nbformat": 4,
 "nbformat_minor": 2
}
