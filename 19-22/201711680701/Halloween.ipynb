{
 "cells": [
  {
   "cell_type": "code",
   "execution_count": 29,
   "metadata": {},
   "outputs": [
    {
     "name": "stdout",
     "output_type": "stream",
     "text": [
      "请输入一个整数3\n",
      "请输入一个整数2\n",
      "9\n"
     ]
    }
   ],
   "source": [
    "m = int(input ('请输入一个整数'))\n",
    "n = int(input ('请输入一个整数'))\n",
    "def my_sum(end):\n",
    "    total = 0\n",
    "    i = 1\n",
    "    while i<=end:\n",
    "        total = total + i\n",
    "        i=i+1\n",
    "    return total\n",
    "\n",
    "def my_mul(end):\n",
    "    product = 1\n",
    "    i =1 \n",
    "    while i<=end:\n",
    "        product = product * i\n",
    "        i = i + 1\n",
    "    return product\n",
    "if m>n:  \n",
    "    print(my_sum(n) + my_sum(m))\n",
    "else:\n",
    "    print(my_mul(n)+my_mul(m))\n",
    "    \n",
    "\n",
    "    \n",
    "    \n",
    "    \n"
   ]
  },
  {
   "cell_type": "code",
   "execution_count": null,
   "metadata": {},
   "outputs": [],
   "source": []
  },
  {
   "cell_type": "code",
   "execution_count": null,
   "metadata": {},
   "outputs": [],
   "source": []
  }
 ],
 "metadata": {
  "kernelspec": {
   "display_name": "Python 3",
   "language": "python",
   "name": "python3"
  },
  "language_info": {
   "codemirror_mode": {
    "name": "ipython",
    "version": 3
   },
   "file_extension": ".py",
   "mimetype": "text/x-python",
   "name": "python",
   "nbconvert_exporter": "python",
   "pygments_lexer": "ipython3",
   "version": "3.6.3"
  }
 },
 "nbformat": 4,
 "nbformat_minor": 2
}
