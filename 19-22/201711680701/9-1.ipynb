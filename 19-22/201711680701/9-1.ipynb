{
 "cells": [
  {
   "cell_type": "code",
   "execution_count": null,
   "metadata": {},
   "outputs": [],
   "source": [
    "A = []\n",
    "B = []\n",
    "for i in range(1,100001):\n",
    "    A.append(i)\n",
    "from random import choice\n",
    "for i in range(1,100001):\n",
    "    x = choice(A)\n",
    "    B.append(x)\n",
    "C = random.sample(list(range(1,110001)),1000)\n",
    "\n",
    "end_time1=0\n",
    "start_time1 = time.time()   \n",
    "for number in B:\n",
    "    if number in C:\n",
    "        D.append(number)\n",
    "        count=count+1\n",
    "        \n",
    "end_time1 = time.time()\n",
    "print(D)\n",
    "\n",
    "start_time2 = time.time()\n",
    "end_time2=0\n",
    "for number in C:\n",
    "    print(bisect.bisect_left(A, number))\n",
    "    \n",
    "end_time2 = time.time()\n",
    "\n",
    "print('顺序法已经处理了{:.2f}秒...'.format( end_time1 - start_time1))\n",
    "print('二分法已经处理了{:.2f}秒...'.format( end_time2 - start_time2))\n",
    "\n",
    "\n"
   ]
  },
  {
   "cell_type": "code",
   "execution_count": null,
   "metadata": {},
   "outputs": [],
   "source": []
  }
 ],
 "metadata": {
  "kernelspec": {
   "display_name": "Python 3",
   "language": "python",
   "name": "python3"
  },
  "language_info": {
   "codemirror_mode": {
    "name": "ipython",
    "version": 3
   },
   "file_extension": ".py",
   "mimetype": "text/x-python",
   "name": "python",
   "nbconvert_exporter": "python",
   "pygments_lexer": "ipython3",
   "version": "3.6.3"
  }
 },
 "nbformat": 4,
 "nbformat_minor": 2
}
