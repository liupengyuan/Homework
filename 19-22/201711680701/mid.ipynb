{
 "cells": [
  {
   "cell_type": "code",
   "execution_count": 4,
   "metadata": {},
   "outputs": [
    {
     "name": "stdout",
     "output_type": "stream",
     "text": [
      "输入m3\n",
      "10\n"
     ]
    }
   ],
   "source": [
    "def sum(m):\n",
    "    total=0\n",
    "    i=1\n",
    "    while i<=m:\n",
    "        for i in range (i+1):\n",
    "            total=total+i\n",
    "            i=i+1\n",
    "    return total\n",
    "m=int(input('输入m'))\n",
    "print(sum(m))\n",
    "\n"
   ]
  },
  {
   "cell_type": "code",
   "execution_count": null,
   "metadata": {},
   "outputs": [],
   "source": [
    "def pattern(n,m):\n",
    "    n = input('请输入一个图标')\n",
    "    m = int (input('请输入打印行数'))\n",
    "    print(n)\n",
    "    \n",
    "    \n",
    "    \n",
    "    \n",
    "\n",
    "\n",
    "\n",
    "\n"
   ]
  },
  {
   "cell_type": "code",
   "execution_count": null,
   "metadata": {},
   "outputs": [],
   "source": [
    "def first(n):\n",
    "    n = int(input('请输入一个整数'))\n",
    "    \n",
    "   \n",
    "    "
   ]
  },
  {
   "cell_type": "code",
   "execution_count": 1,
   "metadata": {},
   "outputs": [
    {
     "name": "stdout",
     "output_type": "stream",
     "text": [
      "请输入一个整数183\n",
      "183\n",
      "请输入一个整数185\n",
      "185\n",
      "请输入一个整数183\n",
      "183\n",
      "请输入一个整数187\n",
      "187\n",
      "请输入一个整数178\n",
      "178\n",
      "请输入一个整数175\n",
      "175\n",
      "请输入一个整数177\n",
      "177\n",
      "请输入一个整数190\n",
      "190\n",
      "请输入一个整数172\n",
      "181.11111111111111\n"
     ]
    }
   ],
   "source": [
    "total = 0\n",
    "i = 0\n",
    "while i < 9:\n",
    "    n = int (input('请输入一个整数'))\n",
    "    a = n\n",
    "    total += n\n",
    "    i = i+1\n",
    "    average = total/9\n",
    "    if a > average:\n",
    "        print (a)\n",
    "\n",
    "        \n",
    "        \n",
    "print(average)\n",
    "    \n",
    "    \n",
    "\n",
    "\n",
    "\n",
    "\n",
    "\n",
    "\n"
   ]
  },
  {
   "cell_type": "code",
   "execution_count": 2,
   "metadata": {},
   "outputs": [
    {
     "ename": "NameError",
     "evalue": "name 'b' is not defined",
     "output_type": "error",
     "traceback": [
      "\u001b[1;31m---------------------------------------------------------------------------\u001b[0m",
      "\u001b[1;31mNameError\u001b[0m                                 Traceback (most recent call last)",
      "\u001b[1;32m<ipython-input-2-73d89d4ddbd9>\u001b[0m in \u001b[0;36m<module>\u001b[1;34m()\u001b[0m\n\u001b[0;32m     15\u001b[0m \u001b[0mi\u001b[0m \u001b[1;33m=\u001b[0m \u001b[1;36m0\u001b[0m\u001b[1;33m\u001b[0m\u001b[0m\n\u001b[0;32m     16\u001b[0m \u001b[0mscore\u001b[0m \u001b[1;33m=\u001b[0m \u001b[1;36m0\u001b[0m\u001b[1;33m\u001b[0m\u001b[0m\n\u001b[1;32m---> 17\u001b[1;33m \u001b[0mprint\u001b[0m \u001b[1;33m(\u001b[0m\u001b[1;34m'您的得分是'\u001b[0m\u001b[1;33m,\u001b[0m \u001b[0mgame\u001b[0m\u001b[1;33m(\u001b[0m\u001b[0ma\u001b[0m\u001b[1;33m,\u001b[0m\u001b[0mb\u001b[0m\u001b[1;33m)\u001b[0m\u001b[1;33m)\u001b[0m\u001b[1;33m\u001b[0m\u001b[0m\n\u001b[0m\u001b[0;32m     18\u001b[0m \u001b[1;33m\u001b[0m\u001b[0m\n\u001b[0;32m     19\u001b[0m \u001b[1;33m\u001b[0m\u001b[0m\n",
      "\u001b[1;31mNameError\u001b[0m: name 'b' is not defined"
     ]
    }
   ],
   "source": [
    "import random\n",
    "def game(a,b):\n",
    "    while i < 5:\n",
    "        a = random.randint(0,10)\n",
    "        b = random.randint(0,10)\n",
    "        print (a,'+',b)\n",
    "        result = int(input('请输入结果'))\n",
    "        c = a + b\n",
    "        i += 1\n",
    "        if c == result:\n",
    "            score += 20\n",
    "        else:\n",
    "            score += 0\n",
    "    return score\n",
    "i = 0\n",
    "score = 0\n",
    "print ('您的得分是', game(a,b))\n",
    "        \n",
    "        \n",
    "        \n",
    "\n",
    "\n"
   ]
  },
  {
   "cell_type": "code",
   "execution_count": null,
   "metadata": {},
   "outputs": [],
   "source": [
    "list=[3,-5,9,108,34,-76,88]\n",
    "max_mun=list[0]\n",
    "min_mun=list[0]\n",
    "\n",
    "for i in range(7):\n",
    "    if list[i]>max_mun:\n",
    "        max_mun=list[i]\n",
    "for i in range(7):\n",
    "    if list[i]<min_mun:\n",
    "        min_mun=list[i]\n",
    "\n",
    "list2=[]\n",
    "list2.append(max_mun)\n",
    "for i in range(7):\n",
    "    if list[i]!=max_mun and list[i]!=min_mun:\n",
    "        list2.append(list[i])\n",
    "list2.append(min_mun)\n",
    "\n",
    "print(list2)\n",
    "\n",
    "    \n",
    "\n",
    "\n",
    "\n",
    "\n",
    "\n"
   ]
  }
 ],
 "metadata": {
  "kernelspec": {
   "display_name": "Python 3",
   "language": "python",
   "name": "python3"
  },
  "language_info": {
   "codemirror_mode": {
    "name": "ipython",
    "version": 3
   },
   "file_extension": ".py",
   "mimetype": "text/x-python",
   "name": "python",
   "nbconvert_exporter": "python",
   "pygments_lexer": "ipython3",
   "version": "3.6.3"
  }
 },
 "nbformat": 4,
 "nbformat_minor": 2
}
