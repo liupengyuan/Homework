{
 "cells": [
  {
   "cell_type": "code",
   "execution_count": 9,
   "metadata": {},
   "outputs": [
    {
     "name": "stdout",
     "output_type": "stream",
     "text": [
      "gfedcba\n"
     ]
    }
   ],
   "source": [
    "#自己定义一个reverse(s)函数，功能返回字符串s的倒序字符串。\n",
    "def reverse(s):\n",
    "    i = 7\n",
    "    x = s[i-1::-1]\n",
    "    return x\n",
    "s = 'abcdefg'\n",
    "print(reverse(s))\n"
   ]
  },
  {
   "cell_type": "code",
   "execution_count": 8,
   "metadata": {},
   "outputs": [
    {
     "name": "stdout",
     "output_type": "stream",
     "text": [
      "请输入一个符号*\n",
      "请输入打印行数6\n",
      "*\n",
      "**\n",
      "***\n",
      "****\n",
      "*****\n",
      "******\n",
      "     *\n",
      "    ***\n",
      "   *****\n",
      "  *******\n",
      " *********\n",
      "***********\n",
      " *\n",
      "  **\n",
      "   ***\n",
      "    ****\n",
      "     *****\n",
      "      ******\n"
     ]
    }
   ],
   "source": [
    "#写函数，根据给定符号和行数，打印相应直角三角形，等腰三角形及其他形式的三角形。\n",
    "p = input('请输入一个符号')\n",
    "r = int (input('请输入打印行数'))   \n",
    "def RTtriangle(p,r):\n",
    "    for i in range(1,r+1):\n",
    "        print(p*i)\n",
    "RTtriangle(p,r)\n",
    "\n",
    "def IStirangle(p,r):\n",
    "     for i in range(1,r+1):\n",
    "        print(' '*(r-i) + p*(2*i-1) )\n",
    "IStirangle(p,r)\n",
    "\n",
    "def OBtirangle(p,r):\n",
    "    for i in range(1,r+1):\n",
    "        print( ' '*i+p*i )\n",
    "OBtirangle(p,r)\n",
    "\n",
    "    \n",
    " "
   ]
  },
  {
   "cell_type": "code",
   "execution_count": 10,
   "metadata": {},
   "outputs": [
    {
     "name": "stdout",
     "output_type": "stream",
     "text": [
      "请输入一个符号*\n",
      "请输入打印行数4\n",
      "****\n",
      "****\n",
      "****\n",
      "****\n",
      "  *\n",
      " ***\n",
      "*****\n",
      " ***\n",
      "  *\n"
     ]
    }
   ],
   "source": [
    "#写函数，根据给定符号，打印各种菱形。\n",
    "p = input('请输入一个符号')\n",
    "r = int (input('请输入打印行数'))  \n",
    "def rhombus1(p,r):\n",
    "    for i in range(1,r+1):\n",
    "        print(p*r)\n",
    "rhombus1(p,r)\n",
    "\n",
    "def rhombus2(p):\n",
    "    for i in range(1,4):\n",
    "        print(' '*(3-i)+p*(2*i-1))\n",
    "    for i in range(4,5):\n",
    "        print(' '+p*(i-1))\n",
    "    for i in range(5,6):\n",
    "        print(' '*2+p)\n",
    "rhombus2(p)\n",
    "\n",
    "    \n",
    "    \n",
    "    \n",
    "\n",
    "\n",
    "\n"
   ]
  },
  {
   "cell_type": "code",
   "execution_count": null,
   "metadata": {},
   "outputs": [],
   "source": []
  }
 ],
 "metadata": {
  "kernelspec": {
   "display_name": "Python 3",
   "language": "python",
   "name": "python3"
  },
  "language_info": {
   "codemirror_mode": {
    "name": "ipython",
    "version": 3
   },
   "file_extension": ".py",
   "mimetype": "text/x-python",
   "name": "python",
   "nbconvert_exporter": "python",
   "pygments_lexer": "ipython3",
   "version": "3.6.3"
  }
 },
 "nbformat": 4,
 "nbformat_minor": 2
}
