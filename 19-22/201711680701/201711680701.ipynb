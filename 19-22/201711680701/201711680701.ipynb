{
 "cells": [
  {
   "cell_type": "code",
   "execution_count": 4,
   "metadata": {},
   "outputs": [
    {
     "name": "stdout",
     "output_type": "stream",
     "text": [
      "请输入您的名字Echo\n",
      "请输入您的出生月份5\n",
      "请输入您的出生日期10\n",
      "Echo 你是非常有性格的金牛座\n"
     ]
    }
   ],
   "source": [
    "name = input('请输入您的名字')\n",
    "n = int(input('请输入您的出生月份'))\n",
    "m = int(input('请输入您的出生日期'))\n",
    "if  n <2 and 1<= m <= 19:\n",
    "    print (name , '你是非常有性格的摩羯座')\n",
    "elif  n< 2 and 20<= m <= 31:\n",
    "    print (name , '你是非常有性格的水瓶座')\n",
    "elif  1< n< 3 and 1<= m <= 18:\n",
    "    print (name , '你是非常有性格的水瓶座')\n",
    "elif  1< n < 3 and 19<= m <= 29:\n",
    "    print (name , '你是非常有性格的双鱼座')\n",
    "elif  2< n < 4 and 1 <= m <=20 :\n",
    "    print (name , '你是非常有性格的双鱼座')\n",
    "elif  2< n < 4 and 21<= m <= 31:\n",
    "    print (name , '你是非常有性格的白羊座')\n",
    "elif  3< n < 5 and 1<= m <= 19:\n",
    "    print (name , '你是非常有性格的白羊座')\n",
    "elif  3< n < 5 and 20<= m <= 30:\n",
    "    print (name , '你是非常有性格的金牛座')\n",
    "elif  4< n < 6 and 1<= m <= 20:\n",
    "    print (name , '你是非常有性格的金牛座')\n",
    "elif  4< n < 6 and 21<= m <= 31:\n",
    "    print (name , '你是非常有性格的双子座')\n",
    "elif  5< n < 7 and 1<= m <= 21:\n",
    "    print (name , '你是非常有性格的双子座')\n",
    "elif  5< n < 7 and 22<= m <= 30:\n",
    "    print (name , '你是非常有性格的巨蟹座')\n",
    "elif  6< n < 8 and 1<= m <= 22:\n",
    "    print (name , '你是非常有性格的巨蟹座')\n",
    "elif  6< n < 8 and 23<= m <= 31:\n",
    "    print (name , '你是非常有性格的狮子座')\n",
    "elif  7< n < 9 and 1<= m <= 22:\n",
    "    print (name , '你是非常有性格的狮子座')\n",
    "elif  7< n < 9 and 23<= m <=31 :\n",
    "    print (name , '你是非常有性格的处女座')\n",
    "elif  8< n < 10 and 1<= m <= 22:\n",
    "    print (name , '你是非常有性格的处女座')\n",
    "elif  8< n < 10 and 23<= m <= 30:\n",
    "    print (name , '你是非常有性格的天秤座')\n",
    "elif  9< n < 11 and 1<= m <= 23:\n",
    "    print (name , '你是非常有性格的天秤座')\n",
    "elif  9< n < 11 and 24<= m <= 31:\n",
    "    print (name , '你是非常有性格的天蝎座')\n",
    "elif  10< n < 12 and 1<= m <= 22:\n",
    "    print (name , '你是非常有性格的天蝎座')\n",
    "elif  10< n < 12 and 23<= m <= 31:\n",
    "    print (name , '你是非常有性格的射手座')\n",
    "elif  n <= 12 and 1<= m <= 21:\n",
    "    print (name , '你是非常有性格的射手座')\n",
    "elif  n <= 12 and 22<= m <= 31:\n",
    "    print (name , '你是非常有性格的摩羯座')\n",
    "\n",
    "\n"
   ]
  },
  {
   "cell_type": "code",
   "execution_count": 5,
   "metadata": {},
   "outputs": [
    {
     "name": "stdout",
     "output_type": "stream",
     "text": [
      "请输入您的要求求和\n",
      "请输入一个不为零的整数1\n",
      "请输入一个整数100\n",
      "从n到m的和为 5050.0\n"
     ]
    }
   ],
   "source": [
    "i = input('请输入您的要求')\n",
    "n = int(input('请输入一个不为零的整数'))\n",
    "m = int(input('请输入一个整数'))\n",
    "a = '求和'\n",
    "b = '乘积'\n",
    "c = '求余'\n",
    "if i == a and n < m:\n",
    "    total = (m-n+1)*(m+n)/2\n",
    "    print ('从n到m的和为', total) \n",
    "elif i == a and m <n:\n",
    "    total = (n-m+1)*(m+n)/2\n",
    "    print ('从m到n的和为', total)\n",
    "elif i == a :\n",
    "    total = m + n\n",
    "    print ('两相等数和为', total)\n",
    "elif i == b and n< m:\n",
    "    mul = n\n",
    "    while n<m:\n",
    "        n = n + 1\n",
    "        mul = mul * n\n",
    "    print ('从n到m的积为', mul)\n",
    "elif i == b and m<n:\n",
    "    mul = n\n",
    "    while m<n:\n",
    "        m = n +1\n",
    "        mul = mul * n\n",
    "    print ('从n到m的积为', mul)\n",
    "elif  i == c:\n",
    "    ouput = m % n\n",
    "    print ('m除以n的余数为',output)\n",
    "else :\n",
    "    output = m // n\n",
    "    print ('m整除n结果为', output)\n",
    "\n",
    "    \n",
    "\n"
   ]
  },
  {
   "cell_type": "markdown",
   "metadata": {},
   "source": [
    "# "
   ]
  },
  {
   "cell_type": "code",
   "execution_count": 19,
   "metadata": {},
   "outputs": [
    {
     "name": "stdout",
     "output_type": "stream",
     "text": [
      "请输入一个英文单词shelf\n",
      "变f为v,再加es\n"
     ]
    }
   ],
   "source": [
    "word = input('请输入一个英文单词')\n",
    "if word.endswith('o'): \n",
    "    print(word ,'+es')\n",
    "elif  word.endswith('y'):\n",
    "    print ('变y为i,再加es')\n",
    "elif  word.endswith('f'):\n",
    "    print ('变f为v,再加es')\n",
    "else:\n",
    "    print (word ,'+s')\n"
   ]
  },
  {
   "cell_type": "code",
   "execution_count": 25,
   "metadata": {},
   "outputs": [
    {
     "name": "stdout",
     "output_type": "stream",
     "text": [
      "                                                                                                                                                                                                                                                                                                                                                                                                                                 world\n"
     ]
    }
   ],
   "source": [
    "print ( '                                                                                                                                                                                                                                                                                                                                                                                                                                ','world')"
   ]
  },
  {
   "cell_type": "code",
   "execution_count": null,
   "metadata": {},
   "outputs": [],
   "source": []
  }
 ],
 "metadata": {
  "kernelspec": {
   "display_name": "Python 3",
   "language": "python",
   "name": "python3"
  },
  "language_info": {
   "codemirror_mode": {
    "name": "ipython",
    "version": 3
   },
   "file_extension": ".py",
   "mimetype": "text/x-python",
   "name": "python",
   "nbconvert_exporter": "python",
   "pygments_lexer": "ipython3",
   "version": "3.6.3"
  }
 },
 "nbformat": 4,
 "nbformat_minor": 2
}
