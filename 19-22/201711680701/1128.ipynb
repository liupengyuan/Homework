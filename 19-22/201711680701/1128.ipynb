{
 "cells": [
  {
   "cell_type": "code",
   "execution_count": 11,
   "metadata": {},
   "outputs": [
    {
     "name": "stdout",
     "output_type": "stream",
     "text": [
      "a\n",
      "ab\n",
      "abc\n",
      "abcd\n",
      "abcde\n",
      "abcdef\n",
      "abcdefj\n",
      "abcdefjh\n",
      "abcdefjhi\n",
      "abcdefjhij\n",
      "abcdefjhijk\n",
      "abcdefjhijkl\n",
      "abcdefjhijklm\n",
      "abcdefjhijklmn\n",
      "abcdefjhijklmno\n",
      "abcdefjhijklmnop\n",
      "abcdefjhijklmnopq\n",
      "abcdefjhijklmnopqr\n",
      "abcdefjhijklmnopqrs\n",
      "abcdefjhijklmnopqrst\n",
      "abcdefjhijklmnopqrstu\n",
      "abcdefjhijklmnopqrstuv\n",
      "abcdefjhijklmnopqrstuvw\n",
      "abcdefjhijklmnopqrstuvwx\n",
      "abcdefjhijklmnopqrstuvwxy\n",
      "abcdefjhijklmnopqrstuvwxyz\n"
     ]
    }
   ],
   "source": [
    "line = 'abcdefjhijklmnopqrstuvwxyz'\n",
    "for i in range (1,27):\n",
    "    print(line[:i],end='')\n",
    "    print()\n",
    "        "
   ]
  },
  {
   "cell_type": "code",
   "execution_count": 12,
   "metadata": {},
   "outputs": [
    {
     "name": "stdout",
     "output_type": "stream",
     "text": [
      "请输入一个整数4\n",
      "    \n",
      "   *\n",
      "  **\n",
      " ***\n",
      "****\n"
     ]
    }
   ],
   "source": [
    "list = '*'\n",
    "n = int (input('请输入一个整数'))\n",
    "for i in range(n+1):\n",
    "    print((n-i)*' '+list*i )\n"
   ]
  },
  {
   "cell_type": "code",
   "execution_count": null,
   "metadata": {},
   "outputs": [],
   "source": []
  }
 ],
 "metadata": {
  "kernelspec": {
   "display_name": "Python 3",
   "language": "python",
   "name": "python3"
  },
  "language_info": {
   "codemirror_mode": {
    "name": "ipython",
    "version": 3
   },
   "file_extension": ".py",
   "mimetype": "text/x-python",
   "name": "python",
   "nbconvert_exporter": "python",
   "pygments_lexer": "ipython3",
   "version": "3.6.3"
  }
 },
 "nbformat": 4,
 "nbformat_minor": 2
}
