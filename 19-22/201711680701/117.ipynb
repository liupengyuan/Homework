{
 "cells": [
  {
   "cell_type": "code",
   "execution_count": 2,
   "metadata": {},
   "outputs": [
    {
     "name": "stdout",
     "output_type": "stream",
     "text": [
      "请输入大于零一个整数2\n",
      "请输入一个整数3\n",
      "请输入一个不等于上一个数的整数9\n",
      "3.7416573867739413\n"
     ]
    }
   ],
   "source": [
    "import random, math\n",
    "m = int(input('请输入大于零一个整数'))\n",
    "n = int(input('请输入一个整数'))\n",
    "k = int(input('请输入一个不等于上一个数的整数'))\n",
    "if n > k:\n",
    "    n,k = k,n\n",
    "else:\n",
    "    i = 1\n",
    "    total = 0\n",
    "    while i<=m:\n",
    "        number = random.randint(n, k)\n",
    "        total += number\n",
    "        i += 1\n",
    "    outcome = math.sqrt(total)\n",
    "print (outcome)"
   ]
  },
  {
   "cell_type": "code",
   "execution_count": null,
   "metadata": {},
   "outputs": [],
   "source": []
  }
 ],
 "metadata": {
  "kernelspec": {
   "display_name": "Python 3",
   "language": "python",
   "name": "python3"
  },
  "language_info": {
   "codemirror_mode": {
    "name": "ipython",
    "version": 3
   },
   "file_extension": ".py",
   "mimetype": "text/x-python",
   "name": "python",
   "nbconvert_exporter": "python",
   "pygments_lexer": "ipython3",
   "version": "3.6.3"
  }
 },
 "nbformat": 4,
 "nbformat_minor": 2
}
