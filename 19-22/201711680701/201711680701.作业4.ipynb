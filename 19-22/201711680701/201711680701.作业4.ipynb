{
 "cells": [
  {
   "cell_type": "code",
   "execution_count": 4,
   "metadata": {},
   "outputs": [
    {
     "name": "stdout",
     "output_type": "stream",
     "text": [
      "请输入一个整数1\n",
      "请输入一个整数2\n",
      "请输入一个整数3\n",
      "9\n"
     ]
    }
   ],
   "source": [
    "def my_mul(end):\n",
    "    product = 1 \n",
    "    i = 1\n",
    "    while i <=end:\n",
    "        product = product * i\n",
    "        i = i + 1\n",
    "    return product\n",
    "m = int (input('请输入一个整数'))\n",
    "n = int (input('请输入一个整数'))\n",
    "k = int (input('请输入一个整数'))\n",
    "print(my_mul(n)+my_mul(m)+my_mul(k))\n",
    "    "
   ]
  },
  {
   "cell_type": "code",
   "execution_count": 3,
   "metadata": {},
   "outputs": [
    {
     "name": "stdout",
     "output_type": "stream",
     "text": [
      "3.143588659585789\n",
      "3.141612653189785\n"
     ]
    }
   ],
   "source": [
    "def my_sum(end):\n",
    "    i = 1\n",
    "    total = 1\n",
    "    x = 1\n",
    "    while i <end:\n",
    "        i = i + 2\n",
    "        total = total + 1/i *(-1)**x\n",
    "        x = x + 1\n",
    "    return total\n",
    "print (my_sum(1000)*4 )\n",
    "print (my_sum(100000)*4)\n",
    "    \n"
   ]
  },
  {
   "cell_type": "code",
   "execution_count": 1,
   "metadata": {},
   "outputs": [
    {
     "name": "stdout",
     "output_type": "stream",
     "text": [
      "请输入您的姓名Echo\n",
      "请输入您的出生月份5\n",
      "请输入您的出生日期10\n",
      "('Echo', '你是非常有性格的金牛座')\n"
     ]
    }
   ],
   "source": [
    "def birthday(x,y):\n",
    "    if  (x==1 and 1<=y<=20) or (x==2 and 1<=y<=18):\n",
    "        n = (name , '你是非常有性格的水瓶座')\n",
    "    elif (x==2 and 19<=y<=29) or (x==3 and 1<=y<=20):\n",
    "        n = (name , '你是非常有性格的双鱼座')\n",
    "    elif (x==3 and 21<=y<=31) or (x==4 and 1<=y<=19):\n",
    "        n = (name , '你是非常有性格的白羊座')\n",
    "    elif (x==4 and 20<=y<=30) or (x==5 and 1<=y<=20):\n",
    "        n = (name , '你是非常有性格的金牛座')\n",
    "    elif (x==5 and 21<=y<=31) or (x==6 and 1<=y<=21):\n",
    "        n = (name , '你是非常有性格的双子座')\n",
    "    elif (x==6 and 22<=y<=30) or (x==7 and 1<=y<=23):\n",
    "        n= (name , '你是非常有性格的巨蟹座')\n",
    "    elif (x==7 and 24<=y<=31) or (x==8 and 1<=y<=22):\n",
    "        n =(name , '你是非常有性格的狮子座')\n",
    "    elif (x==8 and 23<=y<=31) or (x==9 and 1<=y<=22):\n",
    "        n = (name , '你是非常有性格的处女座')\n",
    "    elif (x==9 and 23<=y<=30) or (x==10 and 1<=y<=23):\n",
    "        n = (name , '你是非常有性格的天秤座')\n",
    "    elif (x==10 and 24<=y<=31) or (x==11 and 1<=y<=22):\n",
    "        n = (name , '你是非常有性格的天蝎座')\n",
    "    elif (x==11 and 23<=y<=30) or (x==12 and 1<=y<=21):\n",
    "        n = (name , '你是非常有性格的射手座')\n",
    "    elif (x==12 and 22<=y<=31) or (x==1 and 1<=y<=19):\n",
    "        n= (name , '你是非常有性格的摩羯座')\n",
    "    return  n\n",
    "name = input ('请输入您的姓名')\n",
    "x = int(input ('请输入您的出生月份'))\n",
    "y = int(input ('请输入您的出生日期'))\n",
    "\n",
    "print(birthday(x,y))\n"
   ]
  },
  {
   "cell_type": "code",
   "execution_count": 2,
   "metadata": {},
   "outputs": [
    {
     "name": "stdout",
     "output_type": "stream",
     "text": [
      "请输入一个英文单词shelf\n",
      "变f为v,再加es\n"
     ]
    }
   ],
   "source": [
    "def end(word):\n",
    "    if word.endswith('o'): \n",
    "        pls=(word ,'+es')\n",
    "    elif  word.endswith('y'):\n",
    "        pls=('变y为i,再加es')\n",
    "    elif  word.endswith('f'):\n",
    "        pls=('变f为v,再加es')\n",
    "    else:\n",
    "        pls=(word ,'+s')\n",
    "    return  pls   \n",
    "word=input('请输入一个英文单词')\n",
    "print(end(word))\n",
    "    "
   ]
  },
  {
   "cell_type": "code",
   "execution_count": 9,
   "metadata": {},
   "outputs": [
    {
     "name": "stdout",
     "output_type": "stream",
     "text": [
      "请输入一个整数3\n",
      "请输入一个更大的数9\n",
      "请输入一个间隔数3\n",
      "18\n"
     ]
    }
   ],
   "source": [
    "def my_sum(m,n,k):\n",
    "    total = 0\n",
    "    i = 0\n",
    "    if k <= (n-m):\n",
    "        while i <= (n-m)/k:\n",
    "            total = total + (m + i*k)\n",
    "            i = i + 1\n",
    "    else: \n",
    "        total = m + n\n",
    "    return total\n",
    "m = int (input('请输入一个整数'))\n",
    "n = int (input('请输入一个更大的数'))\n",
    "k = int(input('请输入一个间隔数'))\n",
    "print (my_sum(m,n,k))\n"
   ]
  },
  {
   "cell_type": "code",
   "execution_count": null,
   "metadata": {},
   "outputs": [],
   "source": []
  }
 ],
 "metadata": {
  "kernelspec": {
   "display_name": "Python 3",
   "language": "python",
   "name": "python3"
  },
  "language_info": {
   "codemirror_mode": {
    "name": "ipython",
    "version": 3
   },
   "file_extension": ".py",
   "mimetype": "text/x-python",
   "name": "python",
   "nbconvert_exporter": "python",
   "pygments_lexer": "ipython3",
   "version": "3.6.3"
  }
 },
 "nbformat": 4,
 "nbformat_minor": 2
}
