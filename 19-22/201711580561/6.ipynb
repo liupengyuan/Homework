{
 "cells": [
  {
   "cell_type": "code",
   "execution_count": 6,
   "metadata": {},
   "outputs": [
    {
     "name": "stdout",
     "output_type": "stream",
     "text": [
      "请输入第一个向量的横坐标2\n",
      "请输入第一个向量的纵坐标2\n",
      "请输入第二个向量的横坐标3\n",
      "请输入第二个向量的纵坐标3\n",
      "1.0\n"
     ]
    }
   ],
   "source": [
    "def my_fac():\n",
    "    vector_1=[]\n",
    "    vector_2=[]\n",
    "    a=int(input('请输入第一个向量横坐标:'))\n",
    "    b=int(input('请输入第一个向量纵坐标:'))\n",
    "    c=int(input('请输入第二个向量横坐标:'))\n",
    "    d=int(input('请输入第二个向量纵坐标:'))\n",
    "    vector_1.append(a)\n",
    "    vector_1.append(b)\n",
    "    vector_2.append(c)\n",
    "    vector_2.append(d)\n",
    "    m=(a*a+b*b)**(1/2)\n",
    "    n=(c*c+d*d)**(1/2)\n",
    "    my_cos=(a*c+b*d)/(m*n)\n",
    "    print(my_cos)\n",
    "my_fac()"
   ]
  },
  {
   "cell_type": "code",
   "execution_count": 6,
   "metadata": {},
   "outputs": [
    {
     "name": "stdout",
     "output_type": "stream",
     "text": [
      "请输入想要查找位置的元素或对象：15\n"
     ]
    }
   ],
   "source": [
    "def my_fac():\n",
    "    numbers=[1,2,3,4,5,6,7,8,9]\n",
    "    n=int(input('请输入想要查找位置的元素或对象：'))\n",
    "    for i in range(len(numbers)):\n",
    "        if numbers[i]==n:\n",
    "            print('位置为：',i)\n",
    "        else:\n",
    "            print(-1)\n",
    "my_fac()            "
   ]
  },
  {
   "cell_type": "code",
   "execution_count": null,
   "metadata": {},
   "outputs": [],
   "source": []
  },
  {
   "cell_type": "code",
   "execution_count": null,
   "metadata": {},
   "outputs": [],
   "source": []
  },
  {
   "cell_type": "code",
   "execution_count": null,
   "metadata": {},
   "outputs": [],
   "source": []
  },
  {
   "cell_type": "code",
   "execution_count": null,
   "metadata": {},
   "outputs": [],
   "source": []
  },
  {
   "cell_type": "code",
   "execution_count": 5,
   "metadata": {},
   "outputs": [
    {
     "name": "stdout",
     "output_type": "stream",
     "text": [
      "3741\n"
     ]
    }
   ],
   "source": [
    "i=0\n",
    "for a in range(5,91):\n",
    "    for b in range(5,91):\n",
    "        for c in range(5,91):\n",
    "            sum=a+b+c\n",
    "            if sum==100:\n",
    "                i+=1\n",
    "print(i)"
   ]
  },
  {
   "cell_type": "code",
   "execution_count": 15,
   "metadata": {},
   "outputs": [
    {
     "name": "stdout",
     "output_type": "stream",
     "text": [
      "[1, 5, 2, 6, 3, 7, 4, 8]\n"
     ]
    }
   ],
   "source": [
    "def my_fac():\n",
    "    list_1=[1,2,3,4]\n",
    "    list_2=[5,6,7,8]\n",
    "    new=[]\n",
    "    n=len(list_1)\n",
    "    for i in range(n):\n",
    "        new.append(list_1[i])\n",
    "        new.append(list_2[i])\n",
    "    print(new)\n",
    "my_fac()"
   ]
  },
  {
   "cell_type": "code",
   "execution_count": null,
   "metadata": {},
   "outputs": [],
   "source": []
  },
  {
   "cell_type": "code",
   "execution_count": null,
   "metadata": {},
   "outputs": [],
   "source": []
  },
  {
   "cell_type": "code",
   "execution_count": null,
   "metadata": {},
   "outputs": [],
   "source": []
  }
 ],
 "metadata": {
  "kernelspec": {
   "display_name": "Python 3",
   "language": "python",
   "name": "python3"
  }
 },
 "nbformat": 4,
 "nbformat_minor": 2
}
