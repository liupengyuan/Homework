{
 "cells": [
  {
   "cell_type": "code",
   "execution_count": null,
   "metadata": {
    "collapsed": true
   },
   "outputs": [],
   "source": [
    "def win():\n",
    "    print(\n",
    "        '''\n",
    "           ==========WIN=========\n",
    "        \n",
    "    \n",
    "                .\"\".    .\"\",\n",
    "                |  |   /  /\n",
    "                |  |  /  /\n",
    "                |  | /  /\n",
    "                |  |/  ;-._ \n",
    "                }  ` _/  / ;\n",
    "                |  /` ) /  /\n",
    "                | /  /_/\\_/\\\n",
    "                |/  /      |\n",
    "                (  ' \\ '-  |\n",
    "                 \\    `.  /\n",
    "                  |      |\n",
    "                  |      |\n",
    "          \n",
    "          ==========WIN==========\n",
    "        '''\n",
    "    )\n",
    "    \n",
    "def lose():\n",
    "    print(\n",
    "        '''\n",
    "           =========LOSE=========\n",
    "        \n",
    "    \n",
    "                \n",
    "\n",
    "                   .-\"      \"-.\n",
    "                  /            \\\n",
    "                 |              |\n",
    "                 |,  .-.  .-.  ,|\n",
    "                 | )(__/  \\__)( |\n",
    "                 |/     /\\     \\|\n",
    "       (@_       (_     ^^     _)\n",
    "  _     ) \\_______\\__|IIIIII|__/__________________________\n",
    " (_)@8@8{}<________|-\\IIIIII/-|___________________________>\n",
    "        )_/        \\          /\n",
    "       (@           `--------`\n",
    "       \n",
    "       \n",
    "       \n",
    "          ==========LOSE==========\n",
    "        '''\n",
    "    )\n"
   ]
  },
  {
   "cell_type": "code",
   "execution_count": 1,
   "metadata": {
    "collapsed": false
   },
   "outputs": [
    {
     "name": "stdout",
     "output_type": "stream",
     "text": [
      "计算机随机选出的成语为：正本清源                         \n",
      "请输入你所接的成语：源源不断\n",
      "你的得分为: 10\n",
      "计算机所接的成语为: 断壁残垣                      \n",
      "计算机的得分为: 10\n",
      "请输入你所接的成语：我不会啊\n",
      "挑战失败\n",
      "你的总成绩为：10分\n",
      "计算机的总成绩为：10分\n",
      "平局\n"
     ]
    }
   ],
   "source": [
    "import random\n",
    "\n",
    "fh=open(r'C:\\Temp\\成语大全.txt')\n",
    "text=fh.read()\n",
    "fh.close()\n",
    "\n",
    "text=text.replace('、', '')\n",
    "idioms=text.split('\\n')\n",
    "\n",
    "idiom=random.choice(idioms)\n",
    "idioms_solitaire=list(idiom)\n",
    "print('计算机随机选出的成语为：',idiom)\n",
    "\n",
    "i=1\n",
    "a=0\n",
    "score_me=0\n",
    "score_computer=0\n",
    "while i>0:\n",
    "    if a==0:\n",
    "        idiom_me=input('请输入你所接的成语：')\n",
    "        idiom_me=list(idiom_me)\n",
    "        if idiom_me[0]==idioms_solitaire[3]:\n",
    "            score_me+=10\n",
    "            print('你的得分为:',score_me)\n",
    "            a=1\n",
    "            i+=1\n",
    "        else:\n",
    "            print('挑战失败')\n",
    "            break\n",
    "    elif a==1:\n",
    "        for idiom_computer in idioms:\n",
    "            if idiom_computer[0]==idiom_me[3]:\n",
    "                print('计算机所接的成语为:',idiom_computer)\n",
    "                score_computer+=10\n",
    "                print('计算机的得分为:',score_computer)\n",
    "                idioms_solitaire=idiom_computer\n",
    "                a=0\n",
    "                i+=1\n",
    "                break\n",
    "\n",
    "print('你的总成绩为：',score_me,'分',sep='')\n",
    "print('计算机的总成绩为：',score_computer,'分',sep='')\n",
    "if score_me>score_computer:\n",
    "    print('你赢了')\n",
    "    win()\n",
    "elif score_me<score_computer:\n",
    "    print('计算机赢了')\n",
    "    lose()\n",
    "else:\n",
    "    print('平局')\n",
    "        "
   ]
  },
  {
   "cell_type": "code",
   "execution_count": null,
   "metadata": {
    "collapsed": true
   },
   "outputs": [],
   "source": []
  }
 ],
 "metadata": {
  "kernelspec": {
   "display_name": "Python 3",
   "language": "python",
   "name": "python3"
  },
  "language_info": {
   "codemirror_mode": {
    "name": "ipython",
    "version": 3
   },
   "file_extension": ".py",
   "mimetype": "text/x-python",
   "name": "python",
   "nbconvert_exporter": "python",
   "pygments_lexer": "ipython3",
   "version": "3.5.1"
  }
 },
 "nbformat": 4,
 "nbformat_minor": 0
}
