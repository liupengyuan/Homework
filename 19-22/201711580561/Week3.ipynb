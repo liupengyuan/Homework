{
 "cells": [
  {
   "cell_type": "code",
   "execution_count": 3,
   "metadata": {
    "collapsed": false
   },
   "outputs": [],
   "source": [
    "练习 1：写程序，可由键盘读入用户姓名例如Mr. right，\n",
    "让用户输入出生的月份与日期，判断用户星座，假设用户是金牛座，则输出，Mr. right，你是非常有性格的金牛座！。"
   ]
  },
  {
   "cell_type": "code",
   "execution_count": 1,
   "metadata": {
    "collapsed": false
   },
   "outputs": [
    {
     "name": "stdout",
     "output_type": "stream",
     "text": [
      "请输入你的名字：Cassidy\n",
      "请输入你出生的月份与日期：222\n",
      "Cassidy 你是非常cool的双鱼座！\n"
     ]
    }
   ],
   "source": [
    "name=input('请输入你的名字：')\n",
    "birthday=int(input('请输入你出生的月份与日期：'))#输入格式举例：1月1日为101；11月11日为1111\n",
    "if birthday>=321 and birthday<=419:\n",
    "    print(name,'你是非常cool的白羊座！')\n",
    "elif birthday>=420 and birthday<=520:\n",
    "    print(name,'你是非常cool的金牛座！')\n",
    "elif birthday>=521 and birthday<=621:\n",
    "    print(name,'你是非常cool的双子座！')\n",
    "elif birthday>=622 and birthday<=722:\n",
    "    print(name,'你是非常cool的巨蟹座！')\n",
    "elif birthday>=723 and birthday<=822:\n",
    "    print(name,'你是非常cool的狮子座！')\n",
    "elif birthday>=823 and birthday<=922:\n",
    "    print(name,'你是非常cool的处女座！')\n",
    "elif birthday>=923 and birthday<=1023:\n",
    "    print(name,'你是非常cool的天秤座！')\n",
    "elif birthday>=1024 and birthday<=1122:\n",
    "    print(name,'你是非常cool的天蝎座！')\n",
    "elif birthday>=1123 and birthday<=1221:\n",
    "    print(name,'你是非常cool的射手座！')\n",
    "elif birthday>=1222 or birthday<=119:\n",
    "    print(name,'你是非常cool的魔蝎座！')\n",
    "elif birthday>=120 and birthday<=218:\n",
    "    print(name,'你是非常cool的水瓶座！')\n",
    "else: \n",
    "    print(name,'你是非常cool的双鱼座！')"
   ]
  },
  {
   "cell_type": "code",
   "execution_count": null,
   "metadata": {
    "collapsed": true
   },
   "outputs": [],
   "source": [
    "练习 2：写程序，可由键盘读入两个整数m与n(n不等于0)，询问用户意图，如果要求和则计算从m到n的和输出，如果要乘积则计算从m到n的积并输出，\n",
    "如果要求余数则计算m除以n的余数的值并输出，否则则计算m整除n的值并输出。"
   ]
  },
  {
   "cell_type": "code",
   "execution_count": 19,
   "metadata": {
    "collapsed": false
   },
   "outputs": [
    {
     "name": "stdout",
     "output_type": "stream",
     "text": [
      "请输入一个整数：10\n",
      "请输入一个不为零的整数：5\n",
      "请输入一个指令，求和输入A，求积输入B，求m除以n的余数输入C，求m整除n的值输入D：D\n",
      "2\n"
     ]
    }
   ],
   "source": [
    "m=int(input('请输入一个整数：'))\n",
    "n=int(input('请输入一个不为零的整数：'))\n",
    "order=input('请输入一个指令，求和输入A，求积输入B，求m除以n的余数输入C，求m整除n的值输入D：')\n",
    "if order=='A':\n",
    "    print(m+n)\n",
    "elif order=='B':   \n",
    "    print(m*n)\n",
    "elif order=='C':\n",
    "    print(m/n)\n",
    "elif order=='D':\n",
    "    print(m//n)\n",
    "    "
   ]
  },
  {
   "cell_type": "code",
   "execution_count": null,
   "metadata": {
    "collapsed": true
   },
   "outputs": [],
   "source": [
    "练习 4：英文单词单数转复数，要求输入一个英文动词（单数形式），能够得到其复数形式，或给出单数转复数形式的建议\n",
    "（提示，some_string.endswith(some_letter)函数可以判断某字符串结尾字符，\n",
    "可尝试运行：'myname'.endswith('me')，liupengyuan'.endswith('n')）。"
   ]
  },
  {
   "cell_type": "code",
   "execution_count": 9,
   "metadata": {
    "collapsed": false
   },
   "outputs": [
    {
     "name": "stdout",
     "output_type": "stream",
     "text": [
      "请输入一个单数形式的英语动词：fox\n",
      "fox 词尾加es\n"
     ]
    }
   ],
   "source": [
    "word=input('请输入一个单数形式的英语动词：')#将给出您关于该词单数转复数形式的建议\n",
    "if word.endswith('s') or word.endswith('ch') or word.endswith('sh') or word.endswith('x'):\n",
    "    print(word,'词尾加es')\n",
    "elif word.endswith('f') or word.endswith('fe'):\n",
    "    print('f或者fe变为ves')\n",
    "elif word.endswith('ly') or word.endswith('ty') or word.endswith('cy') or word.endswith('dy') or word.endswith('vy'):\n",
    "    print('变y为i加es')\n",
    "else:\n",
    "    print('直接在词尾加s')\n"
   ]
  },
  {
   "cell_type": "code",
   "execution_count": null,
   "metadata": {
    "collapsed": true
   },
   "outputs": [],
   "source": [
    "尝试性练习：写程序，能够在屏幕上显示空行。"
   ]
  },
  {
   "cell_type": "code",
   "execution_count": 11,
   "metadata": {
    "collapsed": false
   },
   "outputs": [
    {
     "name": "stdout",
     "output_type": "stream",
     "text": [
      "\n"
     ]
    }
   ],
   "source": [
    "print('')"
   ]
  },
  {
   "cell_type": "code",
   "execution_count": 12,
   "metadata": {
    "collapsed": false
   },
   "outputs": [
    {
     "name": "stdout",
     "output_type": "stream",
     "text": [
      "\n",
      "\n"
     ]
    }
   ],
   "source": [
    "print('\\n')"
   ]
  },
  {
   "cell_type": "code",
   "execution_count": null,
   "metadata": {
    "collapsed": true
   },
   "outputs": [],
   "source": [
    "挑战性练习：写程序，由用户输入一些整数，能够得到几个整数中的次大值(第二大的值)并输出。"
   ]
  },
  {
   "cell_type": "code",
   "execution_count": 18,
   "metadata": {
    "collapsed": false
   },
   "outputs": [
    {
     "name": "stdout",
     "output_type": "stream",
     "text": [
      "请输入你想要输入的整数个数：6\n",
      "请输入一个整数：5\n",
      "请请再次输入一个整数：6\n",
      "请再次输入一个整数:7\n",
      "请再次输入一个整数:8\n",
      "请再次输入一个整数:9\n",
      "请再次输入一个整数:10\n",
      "9\n"
     ]
    }
   ],
   "source": [
    "num=int(input('请输入你想要输入的整数个数：'))#n>=2\n",
    "m=int(input('请输入一个整数：'))\n",
    "n=int(input('请请再次输入一个整数：'))\n",
    "if m>=n:\n",
    "    max_number=m\n",
    "    sec_number=n\n",
    "else:    \n",
    "    max_number=m\n",
    "    sec_number=n\n",
    "i=2\n",
    "while i<num:\n",
    "    i+=1\n",
    "    v=int(input('请再次输入一个整数:'))\n",
    "    if v>=max_number:\n",
    "        sec_number=max_number\n",
    "        max_number=v\n",
    "    elif sec_number<v<max_numebr:\n",
    "        sec_number=v\n",
    "print(sec_number)        \n",
    "        \n",
    "    \n",
    "        \n",
    "    "
   ]
  },
  {
   "cell_type": "code",
   "execution_count": null,
   "metadata": {
    "collapsed": true
   },
   "outputs": [],
   "source": []
  }
 ],
 "metadata": {
  "kernelspec": {
   "display_name": "Python 3",
   "language": "python",
   "name": "python3"
  },
  "language_info": {
   "codemirror_mode": {
    "name": "ipython",
    "version": 3
   },
   "file_extension": ".py",
   "mimetype": "text/x-python",
   "name": "python",
   "nbconvert_exporter": "python",
   "pygments_lexer": "ipython3",
   "version": "3.5.1"
  }
 },
 "nbformat": 4,
 "nbformat_minor": 0
}
