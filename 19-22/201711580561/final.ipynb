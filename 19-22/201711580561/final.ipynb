{
 "cells": [
  {
   "cell_type": "markdown",
   "metadata": {},
   "source": [
    "1  "
   ]
  },
  {
   "cell_type": "code",
   "execution_count": 3,
   "metadata": {
    "scrolled": true
   },
   "outputs": [
    {
     "name": "stdout",
     "output_type": "stream",
     "text": [
      "~\n",
      "5\n",
      "        ~ ~~~~~ ~\n",
      "      ~ ~ ~~~~~ ~ ~\n",
      "    ~ ~ ~ ~~~~~ ~ ~ ~\n",
      "  ~ ~ ~ ~ ~~~~~ ~ ~ ~ ~\n",
      "~ ~ ~ ~ ~ ~~~~~ ~ ~ ~ ~ ~\n"
     ]
    }
   ],
   "source": [
    "def picture(n,m):\n",
    "    i=1\n",
    "    while i<=m:\n",
    "        print(' '*(m - i)*2 + (n +' ')*i + n * m +(' '+ n)*i)\n",
    "        i += 1\n",
    "n=str(input())\n",
    "m=int(input())\n",
    "picture(n,m)"
   ]
  },
  {
   "cell_type": "markdown",
   "metadata": {},
   "source": [
    "2"
   ]
  },
  {
   "cell_type": "code",
   "execution_count": null,
   "metadata": {},
   "outputs": [],
   "source": [
    "def A(m,n):\n",
    "    if m==0:\n",
    "        k=n+1\n",
    "        print(k)\n",
    "    elif m>0 and n==0:\n",
    "        A(m-1,1)\n",
    "    elif m>0 and n>0:\n",
    "        A(m-1,A(m,n-1))\n",
    "    else:\n",
    "        print('错误')\n",
    "k=0\n",
    "m=int(input('输入数字：'))\n",
    "n=int(input('输入数字：'))\n",
    "A(m,n)"
   ]
  },
  {
   "cell_type": "code",
   "execution_count": null,
   "metadata": {
    "collapsed": true
   },
   "outputs": [],
   "source": []
  },
  {
   "cell_type": "markdown",
   "metadata": {},
   "source": [
    "3(a)"
   ]
  },
  {
   "cell_type": "code",
   "execution_count": 6,
   "metadata": {},
   "outputs": [
    {
     "name": "stdout",
     "output_type": "stream",
     "text": [
      "输入数字：15\n",
      "输入a：3\n",
      "输入b：25\n",
      "23*20=\n",
      "16*25=\n",
      "11+17=\n",
      "22+17=\n"
     ]
    }
   ],
   "source": [
    "import random\n",
    "def exam():\n",
    "    n=int(input('输入数字：'))\n",
    "    a=int(input('输入a：'))\n",
    "    b=int(input('输入b：'))\n",
    "    sign=['+', '-', '*', '/']  \n",
    "    for i in range(4):\n",
    "        number1=random.randint(a,b)\n",
    "        number2=random.randint(a,b)\n",
    "        k=random.randint(0,3)\n",
    "        compute=str(number1)+sign[k]+str(number2)+'='\n",
    "        print(compute)\n",
    "exam()"
   ]
  },
  {
   "cell_type": "markdown",
   "metadata": {},
   "source": [
    "3(b)"
   ]
  },
  {
   "cell_type": "code",
   "execution_count": null,
   "metadata": {},
   "outputs": [],
   "source": [
    "import random\n",
    "def exam():\n",
    "    n=int(input('输入数字：'))\n",
    "    a=int(input('输入a：'))\n",
    "    b=int(input('输入b：'))\n",
    "    sign=['+', '-', '*', '/'] \n",
    "    use=[]\n",
    "    ans=[]\n",
    "    score=0\n",
    "    for i in range(4):\n",
    "        number1=random.randint(a,b)\n",
    "        number2=random.randint(a,b)\n",
    "        k=random.randint(0,3)\n",
    "        compute=str(number1)+sign[k]+str(number2)+'='\n",
    "        use.append(eval(compute))\n",
    "        l=list(compute)\n",
    "        print(compute)\n",
    "    for i in range(4):\n",
    "        a=int(input('用户一次性输入答案：'))\n",
    "        ans.append(a)\n",
    "    for i in range(a):\n",
    "        if ans[i]==use[i]:\n",
    "            if l[1]=='+' or l[1]=='-':\n",
    "                score+=5\n",
    "            elif l[1]=='*' or l[1]=='/':\n",
    "                score+=10\n",
    "        else:\n",
    "            print('错误')\n",
    "    print(score)\n",
    "exam()"
   ]
  },
  {
   "cell_type": "markdown",
   "metadata": {},
   "source": [
    "3(c)"
   ]
  },
  {
   "cell_type": "code",
   "execution_count": 1,
   "metadata": {},
   "outputs": [
    {
     "name": "stdout",
     "output_type": "stream",
     "text": [
      "输入题目个数：3\n",
      "输入题目：1+3\n",
      "4\n",
      "输入题目：5*2\n",
      "10\n",
      "输入题目：1+1\n",
      "2\n",
      "总分为： 20\n"
     ]
    }
   ],
   "source": [
    "def me():\n",
    "    score=0\n",
    "    n=int(input('输入题目个数：'))\n",
    "    for i in range(n):\n",
    "        m=input('输入题目：')\n",
    "        l=list(m)\n",
    "        if l[1]=='+' or l[1]=='-':\n",
    "            score+=5\n",
    "            com=eval(m)\n",
    "            print(com)\n",
    "        elif l[1]=='*' or l[1]=='/':\n",
    "            score+=10\n",
    "            com=eval(m)\n",
    "            print(com)\n",
    "    print('总分为：',score)\n",
    "me()"
   ]
  },
  {
   "cell_type": "code",
   "execution_count": null,
   "metadata": {
    "collapsed": true
   },
   "outputs": [],
   "source": []
  },
  {
   "cell_type": "markdown",
   "metadata": {},
   "source": [
    "4"
   ]
  },
  {
   "cell_type": "code",
   "execution_count": null,
   "metadata": {
    "collapsed": true
   },
   "outputs": [],
   "source": [
    "with open(r'd:\\temp\\成语大全(含成语解释)_utf8,encoding=',utf_8') as f:\n",
    "    test=f.read\n",
    "    text=text.replace('、', '')\n",
    "    idioms = text.split('\\n')\n",
    "    A=set(idioms)"
   ]
  },
  {
   "cell_type": "markdown",
   "metadata": {},
   "source": [
    "4(b)"
   ]
  },
  {
   "cell_type": "code",
   "execution_count": 7,
   "metadata": {},
   "outputs": [
    {
     "name": "stdout",
     "output_type": "stream",
     "text": [
      "[['行尸走肉、', 1], ['金蝉脱壳、', 1], ['百里挑一、', 1], ['金玉满堂、', 1], ['背水一战、', 1], ['霸王别姬、', 1], ['天上人间、', 1], ['不吐不快、', 1], ['海阔天空、', 1], ['情非得已、', 1], ['满腹经纶、', 1], ['兵临城下、', 1], ['春暖花开、', 1], ['插翅难逃、', 1], ['黄道吉日、', 1], ['天下无双、', 1], ['偷天换日、', 1], ['两小无猜、', 1], ['卧虎藏龙、', 1], ['珠光宝气、', 1]]\n"
     ]
    }
   ],
   "source": [
    "def freq(filename):\n",
    "    word_freq=[]\n",
    "    with open(filename) as f:\n",
    "        for line in f:\n",
    "            words=[word.split('/')[0] for word in line.split()]\n",
    "            for word in words:\n",
    "                for item in word_freq:\n",
    "                    if word==item[0]:\n",
    "                        item[1]+=1\n",
    "                        break\n",
    "                else:\n",
    "                    word_freq.append([word, 1])\n",
    "    return word_freq\n",
    "filename = r'D:\\temp\\idioms.txt'\n",
    "table=freq(filename)\n",
    "print(table[:20])"
   ]
  },
  {
   "cell_type": "markdown",
   "metadata": {},
   "source": [
    "4(c)"
   ]
  },
  {
   "cell_type": "code",
   "execution_count": null,
   "metadata": {
    "collapsed": true
   },
   "outputs": [],
   "source": [
    "result={}\n",
    "with open(r'd:\\temp\\test_re_gbk.txt')as f:\n",
    "    for line in f:\n",
    "        words=line.split()\n",
    "        for word in words:\n",
    "            word_pos=word.split('/')\n",
    "            if word_pos[0] in result:\n",
    "                for index,pos_freq in enumerate(result[word_pos[0]]):\n",
    "                    if pos_freq[0]==word_pos[1]:\n",
    "                        result[word_pos[0]][index][1]+=1\n",
    "                        break\n",
    "                else:\n",
    "                    result[word_pos[0]].append([word_pos[1],1])\n",
    "            else:\n",
    "                result[word_pos[0]]=[]\n",
    "                result[word_pos[0]].append([word_pos[1],1])\n",
    "list(result.items())[:]"
   ]
  },
  {
   "cell_type": "markdown",
   "metadata": {},
   "source": [
    "4(d)"
   ]
  },
  {
   "cell_type": "code",
   "execution_count": null,
   "metadata": {
    "collapsed": true
   },
   "outputs": [],
   "source": [
    "\n",
    "from collections import Counter\n",
    "def get_word_table(filename):\n",
    "    word_table = []\n",
    "    with open(filename) as f:\n",
    "        text = f.read()\n",
    "    words = [word.split('/')[0] for word in text.split()]\n",
    "    for word in words:\n",
    "        if word not in word_table:\n",
    "            word_table.append(word)\n",
    "    return word_table\n",
    "def count_words_freq(filename, words):\n",
    "    word_freq_pairs = []\n",
    "    with open(filename) as f:\n",
    "        text = f.read()\n",
    "    for word in words:\n",
    "        number = text.count(word)\n",
    "        word_freq_pairs.append([word, number])\n",
    "    return word_freq_pairs\n",
    "\n",
    "filename = r'D:\\temp\\test.txt'"
   ]
  },
  {
   "cell_type": "markdown",
   "metadata": {},
   "source": [
    "4(e)"
   ]
  },
  {
   "cell_type": "code",
   "execution_count": null,
   "metadata": {
    "collapsed": true
   },
   "outputs": [],
   "source": [
    "with open(r'd:\\temp\\test_re_gbk.txt') as f:\n",
    "text=text.replace('、', '')\n",
    "text=text.split('\\n')\n",
    "start = 0\n",
    "end = 0\n",
    "idioms=[]\n",
    "while end < len(text):\n",
    "    if text[end]=='\\nr':\n",
    "        idioms.append(text[start:end])\n",
    "        start = end + 1\n",
    "    end += 1\n",
    "    idioms=set(idioms)\n",
    "print(idioms)"
   ]
  },
  {
   "cell_type": "code",
   "execution_count": null,
   "metadata": {
    "collapsed": true
   },
   "outputs": [],
   "source": []
  },
  {
   "cell_type": "code",
   "execution_count": null,
   "metadata": {
    "collapsed": true
   },
   "outputs": [],
   "source": []
  },
  {
   "cell_type": "code",
   "execution_count": null,
   "metadata": {
    "collapsed": true
   },
   "outputs": [],
   "source": []
  },
  {
   "cell_type": "code",
   "execution_count": null,
   "metadata": {
    "collapsed": true
   },
   "outputs": [],
   "source": []
  },
  {
   "cell_type": "code",
   "execution_count": null,
   "metadata": {
    "collapsed": true
   },
   "outputs": [],
   "source": []
  },
  {
   "cell_type": "code",
   "execution_count": null,
   "metadata": {
    "collapsed": true
   },
   "outputs": [],
   "source": []
  },
  {
   "cell_type": "code",
   "execution_count": null,
   "metadata": {
    "collapsed": true
   },
   "outputs": [],
   "source": []
  },
  {
   "cell_type": "code",
   "execution_count": null,
   "metadata": {
    "collapsed": true
   },
   "outputs": [],
   "source": []
  },
  {
   "cell_type": "code",
   "execution_count": null,
   "metadata": {
    "collapsed": true
   },
   "outputs": [],
   "source": []
  },
  {
   "cell_type": "code",
   "execution_count": null,
   "metadata": {
    "collapsed": true
   },
   "outputs": [],
   "source": []
  },
  {
   "cell_type": "code",
   "execution_count": null,
   "metadata": {
    "collapsed": true
   },
   "outputs": [],
   "source": []
  },
  {
   "cell_type": "code",
   "execution_count": null,
   "metadata": {
    "collapsed": true
   },
   "outputs": [],
   "source": []
  },
  {
   "cell_type": "code",
   "execution_count": null,
   "metadata": {
    "collapsed": true
   },
   "outputs": [],
   "source": []
  },
  {
   "cell_type": "code",
   "execution_count": null,
   "metadata": {
    "collapsed": true
   },
   "outputs": [],
   "source": []
  },
  {
   "cell_type": "code",
   "execution_count": null,
   "metadata": {
    "collapsed": true
   },
   "outputs": [],
   "source": []
  },
  {
   "cell_type": "code",
   "execution_count": null,
   "metadata": {
    "collapsed": true
   },
   "outputs": [],
   "source": []
  }
 ],
 "metadata": {
  "kernelspec": {
   "display_name": "Python 3",
   "language": "python",
   "name": "python3"
  },
  "language_info": {
   "codemirror_mode": {
    "name": "ipython",
    "version": 3
   },
   "file_extension": ".py",
   "mimetype": "text/x-python",
   "name": "python",
   "nbconvert_exporter": "python",
   "pygments_lexer": "ipython3",
   "version": "3.6.3"
  }
 },
 "nbformat": 4,
 "nbformat_minor": 2
}
