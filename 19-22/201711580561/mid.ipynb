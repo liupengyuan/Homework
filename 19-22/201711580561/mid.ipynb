{
 "cells": [
  {
   "cell_type": "code",
   "execution_count": 3,
   "metadata": {
    "collapsed": false
   },
   "outputs": [
    {
     "name": "stdout",
     "output_type": "stream",
     "text": [
      "请输入一个项数:3\n",
      "10\n"
     ]
    }
   ],
   "source": [
    "def sum(m):\n",
    "    i=0\n",
    "    m=int(input('请输入一个项数:'))\n",
    "    n=0\n",
    "    total=0\n",
    "    k=0\n",
    "    while i<m:\n",
    "        i+=1\n",
    "        n+=1\n",
    "        k+=n\n",
    "        total+=k\n",
    "    return total\n",
    "print(sum(100))\n",
    "        \n",
    "        "
   ]
  },
  {
   "cell_type": "code",
   "execution_count": null,
   "metadata": {
    "collapsed": true
   },
   "outputs": [],
   "source": []
  },
  {
   "cell_type": "code",
   "execution_count": null,
   "metadata": {
    "collapsed": true
   },
   "outputs": [],
   "source": []
  },
  {
   "cell_type": "code",
   "execution_count": 23,
   "metadata": {
    "collapsed": false
   },
   "outputs": [
    {
     "name": "stdout",
     "output_type": "stream",
     "text": [
      "请输入你想要打印出的行数：6\n",
      "~\n",
      "~~\n",
      "~~~\n",
      "~~~~\n",
      "~~~~~\n",
      "~~~~~~\n"
     ]
    }
   ],
   "source": [
    "def ztx(a,b):#m表示符号，n表示行数\n",
    "\n",
    "    i=0\n",
    "    while i<n:\n",
    "        i+=1\n",
    "        print(m*i)\n",
    "m=str('~')\n",
    "n=int(input('请输入你想要打印出的行数：'))\n",
    "ztx(m,n)\n",
    "    \n",
    "    "
   ]
  },
  {
   "cell_type": "code",
   "execution_count": null,
   "metadata": {
    "collapsed": true
   },
   "outputs": [],
   "source": []
  },
  {
   "cell_type": "code",
   "execution_count": null,
   "metadata": {
    "collapsed": true
   },
   "outputs": [],
   "source": []
  },
  {
   "cell_type": "code",
   "execution_count": null,
   "metadata": {
    "collapsed": true
   },
   "outputs": [],
   "source": []
  },
  {
   "cell_type": "code",
   "execution_count": null,
   "metadata": {
    "collapsed": true
   },
   "outputs": [],
   "source": []
  },
  {
   "cell_type": "code",
   "execution_count": 1,
   "metadata": {
    "collapsed": false
   },
   "outputs": [
    {
     "name": "stdout",
     "output_type": "stream",
     "text": [
      "请输入你想要输入整数的位数：4\n",
      "请依次输入该位次的整数：5\n",
      "请依次输入该位次的整数：7\n",
      "请依次输入该位次的整数：8\n",
      "请依次输入该位次的整数：9\n",
      "整数为： [5, 7, 8, 9]\n",
      "首位数字为： 5\n"
     ]
    }
   ],
   "source": [
    "def ztx():#n为正整数\n",
    "    i=0\n",
    "    list=[]\n",
    "    k=int(input('请输入你想要输入整数的位数：'))\n",
    "    while i<k:\n",
    "        i+=1\n",
    "        n=int(input('请依次输入该位次的整数：'))\n",
    "        list.append(n)\n",
    "    print('整数为：',list)#忽略逗号........\n",
    "   \n",
    "    m=list[0]\n",
    "    print('首位数字为：',m)\n",
    "ztx()\n",
    "    "
   ]
  },
  {
   "cell_type": "code",
   "execution_count": null,
   "metadata": {
    "collapsed": true
   },
   "outputs": [],
   "source": [
    "\n"
   ]
  },
  {
   "cell_type": "code",
   "execution_count": null,
   "metadata": {
    "collapsed": true
   },
   "outputs": [],
   "source": []
  },
  {
   "cell_type": "code",
   "execution_count": null,
   "metadata": {
    "collapsed": true
   },
   "outputs": [],
   "source": []
  },
  {
   "cell_type": "code",
   "execution_count": null,
   "metadata": {
    "collapsed": true
   },
   "outputs": [],
   "source": []
  },
  {
   "cell_type": "code",
   "execution_count": null,
   "metadata": {
    "collapsed": true
   },
   "outputs": [],
   "source": []
  },
  {
   "cell_type": "code",
   "execution_count": null,
   "metadata": {
    "collapsed": true
   },
   "outputs": [],
   "source": []
  },
  {
   "cell_type": "code",
   "execution_count": null,
   "metadata": {
    "collapsed": true
   },
   "outputs": [],
   "source": []
  },
  {
   "cell_type": "code",
   "execution_count": null,
   "metadata": {
    "collapsed": true
   },
   "outputs": [],
   "source": []
  },
  {
   "cell_type": "code",
   "execution_count": null,
   "metadata": {
    "collapsed": true
   },
   "outputs": [],
   "source": []
  },
  {
   "cell_type": "code",
   "execution_count": null,
   "metadata": {
    "collapsed": true
   },
   "outputs": [],
   "source": []
  },
  {
   "cell_type": "code",
   "execution_count": null,
   "metadata": {
    "collapsed": true
   },
   "outputs": [],
   "source": []
  },
  {
   "cell_type": "code",
   "execution_count": null,
   "metadata": {
    "collapsed": true
   },
   "outputs": [],
   "source": []
  },
  {
   "cell_type": "code",
   "execution_count": 3,
   "metadata": {
    "collapsed": false
   },
   "outputs": [
    {
     "name": "stdout",
     "output_type": "stream",
     "text": [
      "请输入信息科学学院篮球队队员人数：9\n",
      "请依次输入队员的身高：183\n",
      "请依次输入队员的身高：185\n",
      "请依次输入队员的身高：183\n",
      "请依次输入队员的身高：187\n",
      "请依次输入队员的身高：178\n",
      "请依次输入队员的身高：175\n",
      "请依次输入队员的身高：177\n",
      "请依次输入队员的身高：190\n",
      "请依次输入队员的身高：172\n",
      "181.11111111111111 [183, 185, 183, 187, 190]\n"
     ]
    }
   ],
   "source": [
    "def ztx():\n",
    "    n=int(input('请输入信息科学学院篮球队队员人数：'))\n",
    "    l=0\n",
    "    total=0\n",
    "    list1=[]\n",
    "    list2=[]\n",
    "    list3=[]#无用\n",
    "    i=0\n",
    "    while l<n:\n",
    "        l+=1\n",
    "        m=int(input('请依次输入队员的身高：'))\n",
    "        total+=m\n",
    "        list1.append(m)\n",
    "        a=total/n\n",
    "    for k in list1:\n",
    "        if k>a:\n",
    "            list2.append(k)\n",
    "        else:\n",
    "            list3.append(k)\n",
    "    print(a,list2)\n",
    "ztx()\n",
    "        \n",
    "    "
   ]
  },
  {
   "cell_type": "code",
   "execution_count": null,
   "metadata": {
    "collapsed": true
   },
   "outputs": [],
   "source": []
  },
  {
   "cell_type": "code",
   "execution_count": null,
   "metadata": {
    "collapsed": true
   },
   "outputs": [],
   "source": [
    "number = random.randint(1, n)"
   ]
  },
  {
   "cell_type": "code",
   "execution_count": 7,
   "metadata": {
    "collapsed": false
   },
   "outputs": [
    {
     "name": "stdout",
     "output_type": "stream",
     "text": [
      "4 + 1 =\n",
      "请输入您的答案：5\n",
      "恭喜您答对了，加20分\n",
      "10 + 0 =\n",
      "请输入您的答案：10\n",
      "恭喜您答对了，加20分\n",
      "4 + 1 =\n",
      "请输入您的答案：5\n",
      "恭喜您答对了，加20分\n",
      "10 + 3 =\n",
      "请输入您的答案：13\n",
      "恭喜您答对了，加20分\n",
      "2 + 8 =\n",
      "请输入您的答案：10\n",
      "恭喜您答对了，加20分\n",
      "100\n"
     ]
    }
   ],
   "source": [
    "import random\n",
    "def compute():\n",
    "    i=0\n",
    "    total=0\n",
    "    while i<5:\n",
    "        i+=1\n",
    "        number1=random.randint(0,10)\n",
    "        number2=random.randint(0,10)\n",
    "        sum=number1+number2\n",
    "        print(number1,'+',number2,'=')\n",
    "        n=int(input('请输入您的答案：'))\n",
    "        \n",
    "        if n==sum:\n",
    "            print('恭喜您答对了，加20分')\n",
    "            total+=20\n",
    "        else:\n",
    "            print('抱歉，答错了')\n",
    "            total+=0\n",
    "    print(total)\n",
    "compute()\n",
    "    \n",
    "    "
   ]
  },
  {
   "cell_type": "code",
   "execution_count": null,
   "metadata": {
    "collapsed": true
   },
   "outputs": [],
   "source": []
  },
  {
   "cell_type": "code",
   "execution_count": 11,
   "metadata": {
    "collapsed": false
   },
   "outputs": [
    {
     "name": "stdout",
     "output_type": "stream",
     "text": [
      "[108, 88, 3, 9, 34, -5, -76]\n"
     ]
    }
   ],
   "source": [
    "def ztx():\n",
    "    list=[3,-5,9,108,34,-76,88]\n",
    "    large=list[0]\n",
    "    little=list[0]\n",
    "    i=0\n",
    "    for number in list:\n",
    "        if list[i]>large:\n",
    "            k=i\n",
    "            large=list[i]\n",
    "            list[k]=list[0]\n",
    "            list[0]=large\n",
    "            \n",
    "        elif list[i]<little:\n",
    "            l=i\n",
    "            little=list[i]\n",
    "            list[l]=list[6]\n",
    "            list[6]=little\n",
    "            \n",
    "        i+=1\n",
    "    print(list)    \n",
    "ztx()\n",
    "            \n",
    "    \n",
    "    "
   ]
  },
  {
   "cell_type": "code",
   "execution_count": null,
   "metadata": {
    "collapsed": true
   },
   "outputs": [],
   "source": []
  },
  {
   "cell_type": "code",
   "execution_count": null,
   "metadata": {
    "collapsed": true
   },
   "outputs": [],
   "source": []
  },
  {
   "cell_type": "code",
   "execution_count": null,
   "metadata": {
    "collapsed": true
   },
   "outputs": [],
   "source": []
  },
  {
   "cell_type": "code",
   "execution_count": null,
   "metadata": {
    "collapsed": true
   },
   "outputs": [],
   "source": []
  },
  {
   "cell_type": "code",
   "execution_count": null,
   "metadata": {
    "collapsed": true
   },
   "outputs": [],
   "source": []
  },
  {
   "cell_type": "code",
   "execution_count": null,
   "metadata": {
    "collapsed": true
   },
   "outputs": [],
   "source": []
  },
  {
   "cell_type": "code",
   "execution_count": null,
   "metadata": {
    "collapsed": true
   },
   "outputs": [],
   "source": []
  },
  {
   "cell_type": "code",
   "execution_count": null,
   "metadata": {
    "collapsed": true
   },
   "outputs": [],
   "source": []
  },
  {
   "cell_type": "code",
   "execution_count": null,
   "metadata": {
    "collapsed": true
   },
   "outputs": [],
   "source": []
  },
  {
   "cell_type": "code",
   "execution_count": null,
   "metadata": {
    "collapsed": true
   },
   "outputs": [],
   "source": []
  },
  {
   "cell_type": "code",
   "execution_count": null,
   "metadata": {
    "collapsed": true
   },
   "outputs": [],
   "source": []
  },
  {
   "cell_type": "code",
   "execution_count": null,
   "metadata": {
    "collapsed": true
   },
   "outputs": [],
   "source": []
  },
  {
   "cell_type": "code",
   "execution_count": null,
   "metadata": {
    "collapsed": true
   },
   "outputs": [],
   "source": []
  },
  {
   "cell_type": "code",
   "execution_count": null,
   "metadata": {
    "collapsed": true
   },
   "outputs": [],
   "source": []
  },
  {
   "cell_type": "code",
   "execution_count": null,
   "metadata": {
    "collapsed": true
   },
   "outputs": [],
   "source": []
  },
  {
   "cell_type": "code",
   "execution_count": null,
   "metadata": {
    "collapsed": true
   },
   "outputs": [],
   "source": []
  },
  {
   "cell_type": "code",
   "execution_count": null,
   "metadata": {
    "collapsed": true
   },
   "outputs": [],
   "source": []
  },
  {
   "cell_type": "code",
   "execution_count": null,
   "metadata": {
    "collapsed": true
   },
   "outputs": [],
   "source": []
  },
  {
   "cell_type": "code",
   "execution_count": null,
   "metadata": {
    "collapsed": true
   },
   "outputs": [],
   "source": []
  },
  {
   "cell_type": "code",
   "execution_count": null,
   "metadata": {
    "collapsed": true
   },
   "outputs": [],
   "source": []
  },
  {
   "cell_type": "code",
   "execution_count": null,
   "metadata": {
    "collapsed": true
   },
   "outputs": [],
   "source": []
  },
  {
   "cell_type": "code",
   "execution_count": null,
   "metadata": {
    "collapsed": true
   },
   "outputs": [],
   "source": []
  },
  {
   "cell_type": "code",
   "execution_count": null,
   "metadata": {
    "collapsed": true
   },
   "outputs": [],
   "source": []
  },
  {
   "cell_type": "code",
   "execution_count": null,
   "metadata": {
    "collapsed": true
   },
   "outputs": [],
   "source": []
  },
  {
   "cell_type": "code",
   "execution_count": null,
   "metadata": {
    "collapsed": true
   },
   "outputs": [],
   "source": []
  },
  {
   "cell_type": "code",
   "execution_count": null,
   "metadata": {
    "collapsed": true
   },
   "outputs": [],
   "source": []
  },
  {
   "cell_type": "code",
   "execution_count": null,
   "metadata": {
    "collapsed": true
   },
   "outputs": [],
   "source": []
  },
  {
   "cell_type": "code",
   "execution_count": null,
   "metadata": {
    "collapsed": true
   },
   "outputs": [],
   "source": []
  },
  {
   "cell_type": "code",
   "execution_count": null,
   "metadata": {
    "collapsed": true
   },
   "outputs": [],
   "source": []
  },
  {
   "cell_type": "code",
   "execution_count": null,
   "metadata": {
    "collapsed": true
   },
   "outputs": [],
   "source": []
  },
  {
   "cell_type": "code",
   "execution_count": null,
   "metadata": {
    "collapsed": true
   },
   "outputs": [],
   "source": []
  },
  {
   "cell_type": "code",
   "execution_count": null,
   "metadata": {
    "collapsed": true
   },
   "outputs": [],
   "source": []
  },
  {
   "cell_type": "code",
   "execution_count": null,
   "metadata": {
    "collapsed": true
   },
   "outputs": [],
   "source": []
  }
 ],
 "metadata": {
  "kernelspec": {
   "display_name": "Python 3",
   "language": "python",
   "name": "python3"
  },
  "language_info": {
   "codemirror_mode": {
    "name": "ipython",
    "version": 3
   },
   "file_extension": ".py",
   "mimetype": "text/x-python",
   "name": "python",
   "nbconvert_exporter": "python",
   "pygments_lexer": "ipython3",
   "version": "3.6.0"
  }
 },
 "nbformat": 4,
 "nbformat_minor": 2
}
