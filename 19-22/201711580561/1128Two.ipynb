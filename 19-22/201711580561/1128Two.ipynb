{
 "cells": [
  {
   "cell_type": "code",
   "execution_count": 1,
   "metadata": {},
   "outputs": [
    {
     "name": "stdout",
     "output_type": "stream",
     "text": [
      "输入行数：6\n",
      "      ~\n",
      "     ~ ~\n",
      "    ~ ~ ~\n",
      "   ~ ~ ~ ~\n",
      "  ~ ~ ~ ~ ~\n",
      " ~ ~ ~ ~ ~ ~\n"
     ]
    }
   ],
   "source": [
    "def hhh():\n",
    "    n=int(input('输入行数：'))\n",
    "    for i in range(1,1+n):\n",
    "        print((n-i)*' '+' ~'*i,end='')\n",
    "        print()\n",
    "hhh()"
   ]
  },
  {
   "cell_type": "code",
   "execution_count": null,
   "metadata": {},
   "outputs": [],
   "source": []
  }
 ],
 "metadata": {
  "kernelspec": {
   "display_name": "Python 3",
   "language": "python",
   "name": "python3"
  },
  "language_info": {
   "codemirror_mode": {
    "name": "ipython",
    "version": 3
   },
   "file_extension": ".py",
   "mimetype": "text/x-python",
   "name": "python",
   "nbconvert_exporter": "python",
   "pygments_lexer": "ipython3",
   "version": "3.6.0"
  }
 },
 "nbformat": 4,
 "nbformat_minor": 2
}
