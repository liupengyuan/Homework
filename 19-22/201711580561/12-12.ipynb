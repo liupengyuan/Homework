{
 "cells": [
  {
   "cell_type": "code",
   "execution_count": null,
   "metadata": {
    "collapsed": false
   },
   "outputs": [],
   "source": [
    "fh = open(r'D:\\temp\\idioms.txt')\n",
    "text = fh.read()\n",
    "text = text.replace('、', '')\n",
    "idioms = text.split('\\n')\n",
    "fh = open(r'D:\\temp\\idioms_correct.txt', 'w')\n",
    "fh.writelines(idioms)\n",
    "fh.close()\n",
    "\n",
    "def get_ch_table(line):\n",
    "    ch_table = []\n",
    "    for ch in line:\n",
    "        if ch not in ch_table:\n",
    "            ch_table.append(ch)\n",
    "    return ch_table"
   ]
  },
  {
   "cell_type": "code",
   "execution_count": null,
   "metadata": {
    "collapsed": true
   },
   "outputs": [],
   "source": [
    "with open(r'D:\\temp\\idioms_correct.txt') as fh:\n",
    "    text = fh.read()\n",
    "chs = get_ch_table(text.replace('\\n', ''))"
   ]
  },
  {
   "cell_type": "code",
   "execution_count": null,
   "metadata": {
    "collapsed": true
   },
   "outputs": [],
   "source": [
    "import random\n",
    "def twelve(x):\n",
    "    n=''\n",
    "    while len(n)<x:\n",
    "        m=random.choice(chs)\n",
    "        n+=m\n",
    "    print(n)"
   ]
  },
  {
   "cell_type": "code",
   "execution_count": null,
   "metadata": {
    "collapsed": true
   },
   "outputs": [],
   "source": [
    "twelve(10)\n",
    "hcy = open(r'D:\\temp\\1.txt', 'w')\n",
    "hcy.writelines(n)\n",
    "hcy.close()\n",
    "\n",
    "twelve(20)\n",
    "hcy = open(r'D:\\temp\\2.txt', 'w')\n",
    "hcy.writelines(a)\n",
    "hcy.close()\n",
    "\n",
    "twelve(30)\n",
    "hcy = open(r'D:\\temp\\3.txt', 'w')\n",
    "hcy.writelines(n)\n",
    "hcy.close()\n",
    "\n",
    "twelve(30)\n",
    "hcy = open(r'D:\\temp\\3.txt', 'w')\n",
    "hcy.writelines(n)\n",
    "hcy.close()\n",
    "\n",
    "twelve(40)\n",
    "hcy = open(r'D:\\temp\\4.txt', 'w')\n",
    "hcy.writelines(n)\n",
    "hcy.close()\n",
    "\n",
    "twelve(50)\n",
    "hcy = open(r'D:\\temp\\5.txt', 'w')\n",
    "hcy.writelines(n)\n",
    "hcy.close()\n",
    "\n",
    "twelve(60)\n",
    "hcy = open(r'D:\\temp\\6.txt', 'w')\n",
    "hcy.writelines(n)\n",
    "hcy.close()\n",
    "\n",
    "twelve(70)\n",
    "hcy = open(r'D:\\temp\\7.txt', 'w')\n",
    "hcy.writelines(n)\n",
    "hcy.close()\n",
    "\n",
    "twelve(80)\n",
    "hcy = open(r'D:\\temp\\8.txt', 'w')\n",
    "hcy.writelines(n)\n",
    "hcy.close()\n",
    "\n",
    "twelve(90)\n",
    "hcy = open(r'D:\\temp\\9.txt', 'w')\n",
    "hcy.writelines(n)\n",
    "hcy.close()\n",
    "\n",
    "twelve(100)\n",
    "hcy = open(r'D:\\temp\\10.txt', 'w')\n",
    "hcy.writelines(n)\n",
    "hcy.close()"
   ]
  }
 ],
 "metadata": {
  "kernelspec": {
   "display_name": "Python 3",
   "language": "python",
   "name": "python3"
  },
  "language_info": {
   "codemirror_mode": {
    "name": "ipython",
    "version": 3
   },
   "file_extension": ".py",
   "mimetype": "text/x-python",
   "name": "python",
   "nbconvert_exporter": "python",
   "pygments_lexer": "ipython3",
   "version": "3.5.1"
  }
 },
 "nbformat": 4,
 "nbformat_minor": 0
}
