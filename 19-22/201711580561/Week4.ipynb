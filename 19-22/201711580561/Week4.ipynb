{
 "cells": [
  {
   "cell_type": "code",
   "execution_count": 1,
   "metadata": {},
   "outputs": [
    {
     "name": "stdout",
     "output_type": "stream",
     "text": [
      "请输入一个整数：5\n",
      "请输入一个整数：3\n",
      "请输入一个整数：2\n",
      "最终的和是： 128\n"
     ]
    }
   ],
   "source": [
    "def compute_sum(x):\n",
    "    i=0\n",
    "    total=1\n",
    "    while i<x:\n",
    "        i+=1\n",
    "        total=total*i\n",
    "    return total\n",
    "m=int(input('请输入一个整数：'))\n",
    "n=int(input('请输入一个整数：'))\n",
    "k=int(input('请输入一个整数：'))\n",
    "print('最终的和是：',compute_sum(m)+compute_sum(n)+compute_sum(k))"
   ]
  },
  {
   "cell_type": "code",
   "execution_count": 2,
   "metadata": {},
   "outputs": [
    {
     "name": "stdout",
     "output_type": "stream",
     "text": [
      "3.140592653839794\n",
      "3.1414926535900345\n"
     ]
    }
   ],
   "source": [
    "def compute_sum(n):\n",
    "    i=0\n",
    "    x=1\n",
    "    total=0\n",
    "    while i<n:\n",
    "        i+=1\n",
    "        x=2*i-1\n",
    "        if i%2==0:\n",
    "            x=-x\n",
    "        else:\n",
    "            x=x\n",
    "        total=total+1/x\n",
    "    return total\n",
    "print(compute_sum(1000)*4)\n",
    "print(compute_sum(10000)*4)"
   ]
  },
  {
   "cell_type": "code",
   "execution_count": 3,
   "metadata": {},
   "outputs": [
    {
     "name": "stdout",
     "output_type": "stream",
     "text": [
      "请输入你的名字：Cassidy\n",
      "请输入你出生的月份与日期：531\n",
      "Cassidy ,你是非常cool的双子座！\n"
     ]
    }
   ],
   "source": [
    "def constellation(birthday):\n",
    "    if birthday>=321 and birthday<=419:\n",
    "        result=print(name,',你是非常cool的白羊座！')\n",
    "    elif birthday>=420 and birthday<=520:\n",
    "        result=print(name,',你是非常cool的金牛座！')\n",
    "    elif birthday>=521 and birthday<=621:\n",
    "        result=print(name,',你是非常cool的双子座！')\n",
    "    elif birthday>=622 and birthday<=722:\n",
    "        result=print(name,',你是非常cool的巨蟹座！')\n",
    "    elif birthday>=723 and birthday<=822:\n",
    "        result=print(name,',你是非常cool的狮子座！')\n",
    "    elif birthday>=823 and birthday<=922:\n",
    "        result=print(name,',你是非常cool的处女座！')\n",
    "    elif birthday>=923 and birthday<=1023:\n",
    "        result=print(name,',你是非常cool的天秤座！')\n",
    "    elif birthday>=1024 and birthday<=1122:\n",
    "        result=print(name,',你是非常cool的天蝎座！')\n",
    "    elif birthday>=1123 and birthday<=1221:\n",
    "        result=print(name,',你是非常cool的射手座！')\n",
    "    elif birthday>=1222 or birthday<=119:\n",
    "        result=print(name,',你是非常cool的魔蝎座！')\n",
    "    elif birthday>=120 and birthday<=218:\n",
    "        result=print(name,',你是非常cool的水瓶座！')\n",
    "    elif birthday>=219 and birthday<=320: \n",
    "        result=print(name,',你是非常cool的双鱼座！')\n",
    "    else:\n",
    "        result=print('输入非法')\n",
    "    return result\n",
    "name=input('请输入你的名字：')\n",
    "birthday=int(input('请输入你出生的月份与日期：'))#输入格式举例：1月1日为101；11月11日为1111\n",
    "constellation(birthday)\n"
   ]
  },
  {
   "cell_type": "code",
   "execution_count": 4,
   "metadata": {},
   "outputs": [
    {
     "name": "stdout",
     "output_type": "stream",
     "text": [
      "请输入一个单数形式的英语单词：fox\n",
      "词尾加es\n"
     ]
    }
   ],
   "source": [
    "def change(word):\n",
    "    if word.endswith('s') or word.endswith('ch') or word.endswith('sh') or word.endswith('x'):\n",
    "        word= '词尾加es'\n",
    "    elif word.endswith('f') or word.endswith('fe'):\n",
    "        word='f或者fe变为ves'\n",
    "    elif word.endswith('ly') or word.endswith('ty') or word.endswith('cy') or word.endswith('dy') or word.endswith('vy'):\n",
    "        word='变y为i加es'\n",
    "    else:\n",
    "        word='直接在词尾加s'\n",
    "    return word\n",
    "word=input('请输入一个单数形式的英语单词：')#将给出您关于该词单数转复数形式的建议\n",
    "print(change(word))"
   ]
  },
  {
   "cell_type": "code",
   "execution_count": 5,
   "metadata": {},
   "outputs": [
    {
     "name": "stdout",
     "output_type": "stream",
     "text": [
      "请输入一个整数m：2\n",
      "请再次输入一个大于m的整数：8\n",
      "请输入一个间隔数：1\n",
      "35\n"
     ]
    }
   ],
   "source": [
    "def number_sum(m,n,k):\n",
    "    total=0\n",
    "    while m<=n:\n",
    "        total=total+m\n",
    "        m=m+k\n",
    "    return total\n",
    "m=int(input('请输入一个整数m：'))\n",
    "n=int(input('请再次输入一个大于m的整数：'))\n",
    "k=int(input('请输入一个间隔数：'))  \n",
    "print(number_sum(m,n,k))"
   ]
  },
  {
   "cell_type": "code",
   "execution_count": null,
   "metadata": {
    "collapsed": true
   },
   "outputs": [],
   "source": []
  }
 ],
 "metadata": {
  "kernelspec": {
   "display_name": "Python 3",
   "language": "python",
   "name": "python3"
  },
  "language_info": {
   "codemirror_mode": {
    "name": "ipython",
    "version": 3
   },
   "file_extension": ".py",
   "mimetype": "text/x-python",
   "name": "python",
   "nbconvert_exporter": "python",
   "pygments_lexer": "ipython3",
   "version": "3.6.3"
  }
 },
 "nbformat": 4,
 "nbformat_minor": 2
}
