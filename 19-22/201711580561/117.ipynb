{
 "cells": [
  {
   "cell_type": "code",
   "execution_count": 2,
   "metadata": {
    "collapsed": false
   },
   "outputs": [
    {
     "name": "stdout",
     "output_type": "stream",
     "text": [
      "请输入一个整数：5\n",
      "请输入一个整数：10\n",
      "请输入一个大于n的整数:500\n",
      "34.95711658589707\n"
     ]
    }
   ],
   "source": [
    "def my_fac():\n",
    "\n",
    "\n",
    "    import random\n",
    "    m=int(input('请输入一个整数：'))\n",
    "    n=int(input('请输入一个整数：'))\n",
    "    k=int(input('请输入一个大于n的整数:'))\n",
    "    i=0\n",
    "    total=0\n",
    "    \n",
    "    while i<m:\n",
    "        i+=1\n",
    "        number = random.randint(n,k)\n",
    "        total=total+number\n",
    "    print(total**(1/2))\n",
    "\n",
    "my_fac()    \n",
    "    \n",
    "    \n"
   ]
  },
  {
   "cell_type": "code",
   "execution_count": null,
   "metadata": {
    "collapsed": true
   },
   "outputs": [],
   "source": []
  },
  {
   "cell_type": "code",
   "execution_count": null,
   "metadata": {
    "collapsed": true
   },
   "outputs": [],
   "source": []
  },
  {
   "cell_type": "code",
   "execution_count": null,
   "metadata": {
    "collapsed": true
   },
   "outputs": [],
   "source": []
  },
  {
   "cell_type": "code",
   "execution_count": null,
   "metadata": {
    "collapsed": true
   },
   "outputs": [],
   "source": []
  },
  {
   "cell_type": "code",
   "execution_count": null,
   "metadata": {
    "collapsed": true
   },
   "outputs": [],
   "source": []
  }
 ],
 "metadata": {
  "kernelspec": {
   "display_name": "Python 3",
   "language": "python",
   "name": "python3"
  },
  "language_info": {
   "codemirror_mode": {
    "name": "ipython",
    "version": 3
   },
   "file_extension": ".py",
   "mimetype": "text/x-python",
   "name": "python",
   "nbconvert_exporter": "python",
   "pygments_lexer": "ipython3",
   "version": "3.6.0"
  }
 },
 "nbformat": 4,
 "nbformat_minor": 2
}
