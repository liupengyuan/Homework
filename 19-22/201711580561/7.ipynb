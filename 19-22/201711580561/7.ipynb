{
 "cells": [
  {
   "cell_type": "code",
   "execution_count": null,
   "metadata": {
    "collapsed": true
   },
   "outputs": [],
   "source": [
    "练习一：自己定义一个reverse(s)函数，功能返回字符串s的倒序字符串。"
   ]
  },
  {
   "cell_type": "code",
   "execution_count": 3,
   "metadata": {},
   "outputs": [
    {
     "name": "stdout",
     "output_type": "stream",
     "text": [
      "请输入字符串：456789\n",
      "987654\n"
     ]
    }
   ],
   "source": [
    "def reverse(s):\n",
    "    reverse_order=(s[len(s)::-1])\n",
    "    print(reverse_order)\n",
    "s=str(input('请输入字符串：'))\n",
    "reverse(s)"
   ]
  },
  {
   "cell_type": "code",
   "execution_count": null,
   "metadata": {
    "collapsed": true
   },
   "outputs": [],
   "source": [
    "练习二：写函数，根据给定符号和行数，打印相应直角三角形，等腰三角形及其他形式的三角形。"
   ]
  },
  {
   "cell_type": "code",
   "execution_count": 28,
   "metadata": {},
   "outputs": [
    {
     "name": "stdout",
     "output_type": "stream",
     "text": [
      "请输入一个符号：~\n",
      "请输入行数：6\n",
      "~\n",
      "~~\n",
      "~~~\n",
      "~~~~\n",
      "~~~~~\n",
      "~~~~~~\n",
      "      ~\n",
      "     ~ ~\n",
      "    ~ ~ ~\n",
      "   ~ ~ ~ ~\n",
      "  ~ ~ ~ ~ ~\n",
      " ~ ~ ~ ~ ~ ~\n",
      "  ~\n",
      "   ~ ~\n",
      "    ~ ~ ~\n",
      "     ~ ~ ~ ~\n",
      "      ~ ~ ~ ~ ~\n",
      "       ~ ~ ~ ~ ~ ~\n"
     ]
    }
   ],
   "source": [
    "def draw(m,n):\n",
    "    m=input('请输入一个符号：')\n",
    "    n=int(input('请输入行数：'))\n",
    "    for i in range(1,n+1):\n",
    "        print(m*i)\n",
    "    for j in range(1,n+1):\n",
    "        print((n-j)*' '+(' '+m)*j)\n",
    "    for k in range(1,n+1):\n",
    "        print(k*' '+(' '+m)*k)\n",
    "draw(m,n)"
   ]
  },
  {
   "cell_type": "code",
   "execution_count": null,
   "metadata": {
    "collapsed": true
   },
   "outputs": [],
   "source": [
    "练习五：写函数，根据给定符号，打印各种菱形。"
   ]
  },
  {
   "cell_type": "code",
   "execution_count": 1,
   "metadata": {},
   "outputs": [
    {
     "name": "stdout",
     "output_type": "stream",
     "text": [
      "请输入一个符号：~\n",
      "请输入一个行数：6\n",
      " ~~~~~~\n",
      "  ~~~~~~\n",
      "   ~~~~~~\n",
      "    ~~~~~~\n",
      "     ~~~~~~\n",
      "      ~~~~~~\n",
      "------------------------------\n",
      "      ~\n",
      "     ~ ~\n",
      "    ~ ~ ~\n",
      "   ~ ~ ~ ~\n",
      "  ~ ~ ~ ~ ~\n",
      " ~ ~ ~ ~ ~ ~\n",
      "  ~ ~ ~ ~ ~\n",
      "   ~ ~ ~ ~\n",
      "    ~ ~ ~\n",
      "     ~ ~\n",
      "      ~\n",
      "      \n"
     ]
    }
   ],
   "source": [
    "def draw():\n",
    "    m=input('请输入一个符号：')\n",
    "    n=int(input('请输入一个行数：'))\n",
    "    for i in  range(1,n+1):\n",
    "        print(' '*i+n*m)\n",
    "    print('-'*30)    \n",
    "    for j in range(1,n+1):\n",
    "        print((n-j)*' '+(' '+m)*j)\n",
    "    for k in range(1,n+1):\n",
    "        print(k*' '+(' '+m)*(n-k))\n",
    "draw() "
   ]
  },
  {
   "cell_type": "code",
   "execution_count": null,
   "metadata": {
    "collapsed": true
   },
   "outputs": [],
   "source": []
  }
 ],
 "metadata": {
  "kernelspec": {
   "display_name": "Python 3",
   "language": "python",
   "name": "python3"
  },
  "language_info": {
   "codemirror_mode": {
    "name": "ipython",
    "version": 3
   },
   "file_extension": ".py",
   "mimetype": "text/x-python",
   "name": "python",
   "nbconvert_exporter": "python",
   "pygments_lexer": "ipython3",
   "version": "3.6.3"
  }
 },
 "nbformat": 4,
 "nbformat_minor": 2
}
