{
 "cells": [
  {
   "cell_type": "code",
   "execution_count": 9,
   "metadata": {},
   "outputs": [
    {
     "name": "stdout",
     "output_type": "stream",
     "text": [
      "[]\n"
     ]
    }
   ],
   "source": [
    "import random\n",
    "i=1\n",
    "A=[]\n",
    "B=[]\n",
    "n=1000\n",
    "while i <=n:\n",
    "    A=random.randint(1,10000)\n",
    "    i+=1\n",
    "from collections import Counter\n",
    "def words_freq_dict(A):\n",
    "    words_freq_dict = Counter()\n",
    "    with open(A) as B:\n",
    "        for line in B:\n",
    "            words_freq_dict.update([word.split('/')[0] for word in line.split()])\n",
    "            sort_simple_selection(B)\n",
    "    \n",
    "print(B)\n",
    "\n"
   ]
  },
  {
   "cell_type": "code",
   "execution_count": null,
   "metadata": {
    "collapsed": true
   },
   "outputs": [],
   "source": [
    "\n",
    "import linecache\n",
    "N = open(r'c:\\temp\\语料.txt')\n",
    "text = N.read()\n",
    "count = linecache.getline(text,5001,10000)\n",
    "\n",
    "M = open(r'c:\\temp\\test1.txt', 'w')\n",
    "M.writelines(count)\n",
    "M.close()\n"
   ]
  },
  {
   "cell_type": "code",
   "execution_count": null,
   "metadata": {
    "collapsed": true
   },
   "outputs": [],
   "source": []
  }
 ],
 "metadata": {
  "kernelspec": {
   "display_name": "Python 3",
   "language": "python",
   "name": "python3"
  },
  "language_info": {
   "codemirror_mode": {
    "name": "ipython",
    "version": 3
   },
   "file_extension": ".py",
   "mimetype": "text/x-python",
   "name": "python",
   "nbconvert_exporter": "python",
   "pygments_lexer": "ipython3",
   "version": "3.6.2"
  }
 },
 "nbformat": 4,
 "nbformat_minor": 2
}
