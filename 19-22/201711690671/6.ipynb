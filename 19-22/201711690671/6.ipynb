{
 "cells": [
  {
   "cell_type": "code",
   "execution_count": null,
   "metadata": {},
   "outputs": [],
   "source": [
    "#写函数，返回某个元素/对象在一个list中的位置，如果不在，则返回-1."
   ]
  },
  {
   "cell_type": "code",
   "execution_count": 5,
   "metadata": {},
   "outputs": [
    {
     "name": "stdout",
     "output_type": "stream",
     "text": [
      "请输入一个整数7\n",
      "-1\n"
     ]
    }
   ],
   "source": [
    "numbers=[7,11,12,21,1071,50]\n",
    "\n",
    "def Object():\n",
    "    if i <= len(numbers):\n",
    "            print(numbers[i])  \n",
    "    \n",
    "    elif i > len(numbers):\n",
    "            print('-1')\n",
    "            \n",
    "i=int(input('请输入一个整数'))\n",
    "\n",
    "Object()"
   ]
  },
  {
   "cell_type": "code",
   "execution_count": null,
   "metadata": {},
   "outputs": [],
   "source": [
    "#写函数，可将两个相同长度的list，间隔插入，生成新的list。\n",
    "         #例如：给两个list，a=[1,2,3,4], b=[5,6,7,8]。则可以生成：[1,5,2,6,3,7,4,8]。"
   ]
  },
  {
   "cell_type": "code",
   "execution_count": 6,
   "metadata": {},
   "outputs": [
    {
     "name": "stdout",
     "output_type": "stream",
     "text": [
      "请输入你想输入的整数个数4\n",
      "请输入一个整数在第一个list中1\n",
      "请输入一个整数在第二个list中5\n",
      "请输入一个整数在第一个list中2\n",
      "请输入一个整数在第二个list中6\n",
      "请输入一个整数在第一个list中3\n",
      "请输入一个整数在第二个list中7\n",
      "请输入一个整数在第一个list中4\n",
      "请输入一个整数在第二个list中8\n",
      "[1, 5, 2, 6, 3, 7, 4, 8]\n"
     ]
    }
   ],
   "source": [
    "a=[]\n",
    "b=[]\n",
    "c=[]\n",
    "\n",
    "def lis():\n",
    "    i=0\n",
    "    while i<n:\n",
    "        num_a=int(input('请输入一个整数在第一个list中'))\n",
    "        a.append(num_a)\n",
    "        num_b=int(input('请输入一个整数在第二个list中'))\n",
    "        b.append(num_b)\n",
    "        i+=1\n",
    "\n",
    "def new_lis():\n",
    "    m=0\n",
    "    while m<n:\n",
    "        c.append(a[m])\n",
    "        c.append(b[m])\n",
    "        m+=1\n",
    "    print(c)\n",
    "\n",
    "n=int(input('请输入你想输入的整数个数'))\n",
    "\n",
    "lis()\n",
    "new_lis()"
   ]
  },
  {
   "cell_type": "code",
   "execution_count": null,
   "metadata": {},
   "outputs": [],
   "source": [
    "#写函数，可求两个向量的夹角余弦值，向量可放在list中。主程序调用该函数。"
   ]
  },
  {
   "cell_type": "code",
   "execution_count": 8,
   "metadata": {
    "scrolled": true
   },
   "outputs": [
    {
     "name": "stdout",
     "output_type": "stream",
     "text": [
      "请输入一个整数作为a的坐标1\n",
      "请输入一个整数作为b的坐标1\n",
      "请输入一个整数作为a的坐标0\n",
      "请输入一个整数作为b的坐标1\n",
      "cos<a,b>= 0.7071067811865475\n"
     ]
    }
   ],
   "source": [
    "a=[]\n",
    "b=[]\n",
    "\n",
    "def vec():\n",
    "    i=0\n",
    "    n=2\n",
    "    while i<n:\n",
    "        num_a=int(input('请输入一个整数作为a的坐标'))\n",
    "        a.append(num_a)\n",
    "        num_b=int(input('请输入一个整数作为b的坐标'))\n",
    "        b.append(num_b)\n",
    "        i+=1\n",
    "        \n",
    "def cos():\n",
    "    aa=(a[0]**2+a[1]**2)\n",
    "    bb=(b[0]**2+b[1]**2)\n",
    "    ab=(a[0]*b[0]+a[1]*b[1])\n",
    "    \n",
    "    cos=ab/((aa)**0.5*(bb)**0.5)\n",
    "            \n",
    "    print('cos<a,b>=',cos)\n",
    "    \n",
    "vec()\n",
    "cos()"
   ]
  },
  {
   "cell_type": "code",
   "execution_count": null,
   "metadata": {},
   "outputs": [],
   "source": [
    "#挑战性习题：python语言老师为了激励学生学python，自费买了100个完全相同的Macbook Pro，分给三个班级，每个班级至少分5个，  \n",
    "            #用穷举法计算共有多少种分法？"
   ]
  },
  {
   "cell_type": "code",
   "execution_count": 11,
   "metadata": {},
   "outputs": [
    {
     "name": "stdout",
     "output_type": "stream",
     "text": [
      "共有 3741 种方法\n"
     ]
    }
   ],
   "source": [
    "n=0\n",
    "for a in range(5,91):\n",
    "    for b in range(5,91):\n",
    "        for c in range(5,91):\n",
    "            sum=a+b+c\n",
    "            if sum==100:\n",
    "                n+=1\n",
    "print('共有',n,'种方法')"
   ]
  }
 ],
 "metadata": {
  "kernelspec": {
   "display_name": "Python 3",
   "language": "python",
   "name": "python3"
  },
  "language_info": {
   "codemirror_mode": {
    "name": "ipython",
    "version": 3
   },
   "file_extension": ".py",
   "mimetype": "text/x-python",
   "name": "python",
   "nbconvert_exporter": "python",
   "pygments_lexer": "ipython3",
   "version": "3.6.0"
  }
 },
 "nbformat": 4,
 "nbformat_minor": 2
}
