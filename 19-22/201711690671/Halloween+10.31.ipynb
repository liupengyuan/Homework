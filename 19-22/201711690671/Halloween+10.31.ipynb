{
 "cells": [
  {
   "cell_type": "code",
   "execution_count": 18,
   "metadata": {},
   "outputs": [],
   "source": [
    "def my_sum(n):\n",
    "    i = 0\n",
    "    total_n = 0\n",
    "    \n",
    "    while i<n:\n",
    "        i = i+1\n",
    "        total_n = total_n + i\n",
    "        \n",
    "    return total_n"
   ]
  },
  {
   "cell_type": "code",
   "execution_count": 21,
   "metadata": {},
   "outputs": [],
   "source": [
    "def my_mul(n):\n",
    "    i = 0\n",
    "    total_n = 1\n",
    "    \n",
    "    while i<n:\n",
    "        i = i+1\n",
    "        total_n = total_n * i\n",
    "        \n",
    "    return total_n"
   ]
  },
  {
   "cell_type": "code",
   "execution_count": 25,
   "metadata": {},
   "outputs": [
    {
     "name": "stdout",
     "output_type": "stream",
     "text": [
      "请输入一个整数2\n",
      "请输入一个整数1\n",
      "4\n"
     ]
    }
   ],
   "source": [
    "m = int(input('请输入一个整数'))\n",
    "n = int(input('请输入一个整数'))\n",
    "\n",
    "if m>n:\n",
    "    print(my_sum(n)+my_sum(m))\n",
    "    \n",
    "else:\n",
    "    print(my_mul(n)+my_mul(m))"
   ]
  },
  {
   "cell_type": "code",
   "execution_count": null,
   "metadata": {},
   "outputs": [],
   "source": []
  }
 ],
 "metadata": {
  "kernelspec": {
   "display_name": "Python 3",
   "language": "python",
   "name": "python3"
  },
  "language_info": {
   "codemirror_mode": {
    "name": "ipython",
    "version": 3
   },
   "file_extension": ".py",
   "mimetype": "text/x-python",
   "name": "python",
   "nbconvert_exporter": "python",
   "pygments_lexer": "ipython3",
   "version": "3.6.0"
  }
 },
 "nbformat": 4,
 "nbformat_minor": 2
}
