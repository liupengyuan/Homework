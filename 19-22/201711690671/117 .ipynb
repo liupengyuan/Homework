{
 "cells": [
  {
   "cell_type": "code",
   "execution_count": 1,
   "metadata": {},
   "outputs": [],
   "source": [
    "#用户从键盘输入数m,n,k,写函数，可利用计算机得到m个从n到k的随机整数。求这m个数和的平方根。\n",
    "#m,n,k用5,10,500进行验证函数的正确性。"
   ]
  },
  {
   "cell_type": "code",
   "execution_count": 32,
   "metadata": {},
   "outputs": [
    {
     "name": "stdout",
     "output_type": "stream",
     "text": [
      "请输入你想要相加的数字个数5\n",
      "请输入一个整数10\n",
      "请输入比第一个数大的整数500\n",
      "34.42382895611701\n"
     ]
    }
   ],
   "source": [
    "import random\n",
    "\n",
    "i=0\n",
    "my_sum=0\n",
    "\n",
    "m=int(input('请输入你想要相加的数字个数'))\n",
    "n=int(input('请输入一个整数'))\n",
    "k=int(input('请输入比第一个数大的整数'))\n",
    "while i<m:\n",
    "    i=i+1   \n",
    "    number = random.randint(n,k)\n",
    "    my_sum += number\n",
    "\n",
    "print(my_sum**0.5)"
   ]
  },
  {
   "cell_type": "markdown",
   "metadata": {},
   "source": []
  },
  {
   "cell_type": "code",
   "execution_count": null,
   "metadata": {},
   "outputs": [],
   "source": []
  }
 ],
 "metadata": {
  "kernelspec": {
   "display_name": "Python 3",
   "language": "python",
   "name": "python3"
  },
  "language_info": {
   "codemirror_mode": {
    "name": "ipython",
    "version": 3
   },
   "file_extension": ".py",
   "mimetype": "text/x-python",
   "name": "python",
   "nbconvert_exporter": "python",
   "pygments_lexer": "ipython3",
   "version": "3.6.0"
  }
 },
 "nbformat": 4,
 "nbformat_minor": 2
}
