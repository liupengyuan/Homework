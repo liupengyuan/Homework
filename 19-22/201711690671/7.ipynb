{
 "cells": [
  {
   "cell_type": "code",
   "execution_count": null,
   "metadata": {},
   "outputs": [],
   "source": [
    "#练习一：自己定义一个reverse(s)函数，功能返回字符串s的倒序字符串。"
   ]
  },
  {
   "cell_type": "code",
   "execution_count": 1,
   "metadata": {},
   "outputs": [
    {
     "name": "stdout",
     "output_type": "stream",
     "text": [
      "请输入一段字符串nxxshixiaokeai\n",
      "iaekoaixihsxxn\n"
     ]
    }
   ],
   "source": [
    "def reverse():\n",
    "    line=''\n",
    "    n=len(s)\n",
    "    \n",
    "    for i in range(n-1,-1,-1):\n",
    "        line+=s[i]\n",
    "    print(line)\n",
    "    \n",
    "s=str(input('请输入一段字符串'))\n",
    "reverse()"
   ]
  },
  {
   "cell_type": "code",
   "execution_count": null,
   "metadata": {},
   "outputs": [],
   "source": [
    "#练习二：写函数，根据给定符号和行数，打印相应直角三角形，等腰三角形及其他形式的三角形。"
   ]
  },
  {
   "cell_type": "code",
   "execution_count": 2,
   "metadata": {},
   "outputs": [
    {
     "name": "stdout",
     "output_type": "stream",
     "text": [
      "请输入你想要的形状*\n",
      "请输入你想要的行数7\n",
      "*\n",
      "**\n",
      "***\n",
      "****\n",
      "*****\n",
      "******\n",
      "\n",
      "\n",
      "      * \n",
      "     * * \n",
      "    * * * \n",
      "   * * * * \n",
      "  * * * * * \n",
      " * * * * * * \n",
      "\n",
      "\n",
      "      *\n",
      "     ****\n",
      "    *******\n",
      "   **********\n",
      "  *************\n",
      " ****************\n",
      "\n",
      "\n"
     ]
    }
   ],
   "source": [
    "def tri():\n",
    "    line=''*n\n",
    "    for i in range(1,n):\n",
    "        print(s*i)\n",
    "    print('\\n')\n",
    "    for i in range(1,n):\n",
    "        print((n-i)*' '+(s+' ')*i)\n",
    "    print('\\n')\n",
    "    for i in range(1,n):\n",
    "        print((n-i)*' '+s*i+s*2*(i-1))\n",
    "    print('\\n')\n",
    "    \n",
    "s=input('请输入你想要的形状')\n",
    "n=int(input('请输入你想要的行数'))\n",
    "tri()"
   ]
  },
  {
   "cell_type": "code",
   "execution_count": null,
   "metadata": {},
   "outputs": [],
   "source": [
    "#练习五：写函数，根据给定符号，打印各种菱形。"
   ]
  },
  {
   "cell_type": "code",
   "execution_count": 3,
   "metadata": {},
   "outputs": [
    {
     "name": "stdout",
     "output_type": "stream",
     "text": [
      "输入你想要的形状*\n",
      "输入你想要的行数7\n",
      "       *\n",
      "      ***\n",
      "     *****\n",
      "    *******\n",
      "   *********\n",
      "  ***********\n",
      " *************\n",
      " *************\n",
      "  ***********\n",
      "   *********\n",
      "    *******\n",
      "     *****\n",
      "      ***\n",
      "       *\n",
      "\n"
     ]
    }
   ],
   "source": [
    "def rhombus():\n",
    "    for i in range(n):\n",
    "        print( ' '*(n-i) + s*(2*i+1))\n",
    "    for i in range(n):\n",
    "        print (' '*(i+1) + s*(2*(n-i-1)+1))\n",
    "    print()\n",
    "    \n",
    "s=input('输入你想要的形状')\n",
    "n=int(input('输入你想要的行数'))\n",
    "rhombus()"
   ]
  },
  {
   "cell_type": "code",
   "execution_count": null,
   "metadata": {},
   "outputs": [],
   "source": []
  }
 ],
 "metadata": {
  "kernelspec": {
   "display_name": "Python 3",
   "language": "python",
   "name": "python3"
  },
  "language_info": {
   "codemirror_mode": {
    "name": "ipython",
    "version": 3
   },
   "file_extension": ".py",
   "mimetype": "text/x-python",
   "name": "python",
   "nbconvert_exporter": "python",
   "pygments_lexer": "ipython3",
   "version": "3.6.0"
  }
 },
 "nbformat": 4,
 "nbformat_minor": 2
}
