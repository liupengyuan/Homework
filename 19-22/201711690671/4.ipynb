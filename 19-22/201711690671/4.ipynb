{
 "cells": [
  {
   "cell_type": "code",
   "execution_count": null,
   "metadata": {},
   "outputs": [],
   "source": [
    "#练习 1：仿照求$ \\sum_{i=1}^mi + \\sum_{i=1}^ni  + \\sum_{i=1}^ki$的完整代码，写程序，可求m!+n!+k!"
   ]
  },
  {
   "cell_type": "code",
   "execution_count": 3,
   "metadata": {},
   "outputs": [
    {
     "name": "stdout",
     "output_type": "stream",
     "text": [
      "请输入第一个整数，以回车结束。2\n",
      "请输入第二个整数，以回车结束。3\n",
      "请输入第三个整数，以回车结束。4\n",
      "32\n"
     ]
    }
   ],
   "source": [
    "m = int(input('请输入第一个整数，以回车结束。'))\n",
    "i = 0\n",
    "total_m = 1\n",
    "while i < m:\n",
    "    i = i + 1\n",
    "    total_m = total_m * i\n",
    "    \n",
    "n = int(input('请输入第二个整数，以回车结束。'))\n",
    "i = 0\n",
    "total_n = 1\n",
    "while i < n:\n",
    "    i = i + 1\n",
    "    total_n = total_n * i\n",
    "    \n",
    "k = int(input('请输入第三个整数，以回车结束。'))\n",
    "i = 0\n",
    "total_k = 1\n",
    "while i < k:\n",
    "    i = i + 1\n",
    "    total_k = total_k * i\n",
    "    \n",
    "print(total_m + total_n + total_k)"
   ]
  },
  {
   "cell_type": "code",
   "execution_count": null,
   "metadata": {},
   "outputs": [],
   "source": [
    "#练习 2：写函数可返回1 - 1/3 + 1/5 - 1/7...的前n项的和。在主程序中，分别令n=1000及100000，打印4倍该函数的和。"
   ]
  },
  {
   "cell_type": "code",
   "execution_count": 27,
   "metadata": {
    "scrolled": true
   },
   "outputs": [
    {
     "name": "stdout",
     "output_type": "stream",
     "text": [
      "100\n"
     ]
    },
    {
     "data": {
      "text/plain": [
       "3.1315929035585537"
      ]
     },
     "execution_count": 27,
     "metadata": {},
     "output_type": "execute_result"
    }
   ],
   "source": [
    "def number(n):\n",
    "    i = 0\n",
    "    total = 0\n",
    "    while i<n:\n",
    "        i = i + 1\n",
    "        total = total+ (-1)*(-1)**i/(2*i-1)\n",
    "        \n",
    "    return total*4\n",
    "\n",
    "n=int(input())\n",
    "number(n)"
   ]
  },
  {
   "cell_type": "code",
   "execution_count": null,
   "metadata": {},
   "outputs": [],
   "source": [
    "#练习 3：将task3中的练习1及练习4改写为函数，并进行调用。"
   ]
  },
  {
   "cell_type": "code",
   "execution_count": null,
   "metadata": {},
   "outputs": [],
   "source": [
    "  #task3练习1：写程序，可由键盘读入用户姓名例如Mr. right.让用户输入出生的月份与日期，判断用户星座。\n",
    "            #假设用户是金牛座，则输出，Mr. right，你是非常有性格的金牛座！。"
   ]
  },
  {
   "cell_type": "code",
   "execution_count": 28,
   "metadata": {},
   "outputs": [
    {
     "name": "stdout",
     "output_type": "stream",
     "text": [
      "请输入你的出生日期（如果你是一月一日出生，请输入“0101”；如果你是十二月三十一日请输入“1231”）0711\n",
      "Mr. right，你是非常可爱的巨蟹座！\n"
     ]
    }
   ],
   "source": [
    "def n(bir):\n",
    "            \n",
    "    if bir>=321 and bir<=419:\n",
    "        print('Mr. right，你是非常有性格的白羊座！')\n",
    "    \n",
    "    elif bir>=420 and bir<=520:\n",
    "        print('Mr. right，你是非常有性格的金牛座！')\n",
    "    \n",
    "    elif bir>=521 and bir<=621:\n",
    "        print('Mr. right，你是非常有性格的双子座！')\n",
    "    \n",
    "    elif bir>=621 and bir<=722:\n",
    "        print('Mr. right，你是非常可爱的巨蟹座！')\n",
    "    \n",
    "    elif bir>=723 and bir<=822:\n",
    "        print('Mr. right，你是非常有性格的狮子座！')\n",
    "    \n",
    "    elif bir>=823 and bir<=922:\n",
    "        print('Mr. right，你是非常有性格的处女座！')\n",
    "\n",
    "    elif bir>=923 and bir<=1023:\n",
    "        print('Mr. right，你是非常有性格的天秤座！')\n",
    "    \n",
    "    elif bir>=1024 and bir<=1122:\n",
    "        print('Mr. right，你是非常有性格的天蝎座！')\n",
    "    \n",
    "    elif bir>=1123 and bir<=1221:\n",
    "        print('Mr. right，你是非常有性格的射手座！')\n",
    "    \n",
    "    elif bir>=1222 or bir<=119:\n",
    "        print('Mr. right，你是非常有性格的摩羯座！')\n",
    "    \n",
    "    elif bir>=120 and bir<=218:\n",
    "        print('Mr. right，你是非常有性格的水瓶座！')\n",
    "    \n",
    "    elif bir>=219 and bir<=320:\n",
    "        print('Mr. right，你是非常有性格的双鱼座！')\n",
    "\n",
    "bir = int(input('请输入你的出生日期（如果你是一月一日出生，请输入“0101”；如果你是十二月三十一日请输入“1231”）'))\n",
    "n(bir)"
   ]
  },
  {
   "cell_type": "code",
   "execution_count": null,
   "metadata": {},
   "outputs": [],
   "source": [
    "   #tast3练习4：英文单词单数转复数，要求输入一个英文单词（单数形式），\n",
    "               #能够得到其复数形式，或给出单数转复数形式的建议。"
   ]
  },
  {
   "cell_type": "code",
   "execution_count": 31,
   "metadata": {},
   "outputs": [
    {
     "name": "stdout",
     "output_type": "stream",
     "text": [
      "请输入一个英文单词book\n",
      "直接加s\n"
     ]
    }
   ],
   "source": [
    "def word(n):\n",
    "    if n.endswith('s'or'z'or'x'or'ch'or'sh'):\n",
    "        print('词末尾加es')\n",
    "    elif n.endswith('o'):\n",
    "        print('外来词或缩写加s,其余加es')\n",
    "    elif n.endswith('y'):\n",
    "        print('辅音+y结尾的单词改y为i再加es，元音+y的单词直接加s')\n",
    "    elif n.endswith('f'or'fe'):\n",
    "        print('将f或fe改为ves')\n",
    "    else :\n",
    "        print('直接加s')\n",
    "        \n",
    "n=input('请输入一个英文单词')\n",
    "word(n)"
   ]
  },
  {
   "cell_type": "code",
   "execution_count": null,
   "metadata": {},
   "outputs": [],
   "source": [
    "#挑战性练习：写程序，可以求从整数m到整数n累加的和，间隔为k，求和部分需用函数实现，\n",
    "            #主程序中由用户输入m，n，k调用函数验证正确性。"
   ]
  },
  {
   "cell_type": "code",
   "execution_count": 32,
   "metadata": {},
   "outputs": [
    {
     "name": "stdout",
     "output_type": "stream",
     "text": [
      "请输入一个整数1\n",
      "请再输入一个整数4\n",
      "请输入间隔数1\n"
     ]
    },
    {
     "data": {
      "text/plain": [
       "4"
      ]
     },
     "execution_count": 32,
     "metadata": {},
     "output_type": "execute_result"
    }
   ],
   "source": [
    "def number_sum(m,n,k):\n",
    "    a=0\n",
    "    total=0\n",
    "    if n<m:\n",
    "        a=m\n",
    "        m=n\n",
    "        n=a\n",
    "        i=m\n",
    "        while i<=n:\n",
    "            total=total+i\n",
    "            i=i+k+1\n",
    "\n",
    "    else:\n",
    "        i=m\n",
    "        while i<=n:\n",
    "            total=total+i\n",
    "            i=i+k+1\n",
    "    return total\n",
    "    \n",
    "m=int(input('请输入一个整数'))\n",
    "n=int(input('请再输入一个整数'))\n",
    "k=int(input('请输入间隔数'))\n",
    "number_sum(m,n,k)"
   ]
  },
  {
   "cell_type": "code",
   "execution_count": null,
   "metadata": {},
   "outputs": [],
   "source": []
  }
 ],
 "metadata": {
  "kernelspec": {
   "display_name": "Python 3",
   "language": "python",
   "name": "python3"
  },
  "language_info": {
   "codemirror_mode": {
    "name": "ipython",
    "version": 3
   },
   "file_extension": ".py",
   "mimetype": "text/x-python",
   "name": "python",
   "nbconvert_exporter": "python",
   "pygments_lexer": "ipython3",
   "version": "3.6.0"
  }
 },
 "nbformat": 4,
 "nbformat_minor": 2
}
