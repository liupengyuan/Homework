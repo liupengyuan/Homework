{
 "cells": [
  {
   "cell_type": "code",
   "execution_count": 2,
   "metadata": {},
   "outputs": [],
   "source": [
    "#练习 1：写函数，求n个随机整数均值的平方根，整数范围在m与k之间（n,m,k由用户输入）。"
   ]
  },
  {
   "cell_type": "code",
   "execution_count": 16,
   "metadata": {},
   "outputs": [
    {
     "name": "stdout",
     "output_type": "stream",
     "text": [
      "请输入你想要的整数个数3\n",
      "请输入一个整数7\n",
      "请输入一个更大的整数11\n",
      "3.1622776601683795\n"
     ]
    }
   ],
   "source": [
    "import random\n",
    "def Mua(n,m,k): \n",
    "    i=0 \n",
    "    number=0 \n",
    "    total=0\n",
    "    while i <= n:\n",
    "        i += 1 \n",
    "        num = random.randint (m,k) \n",
    "        number += num\n",
    "        total = number\n",
    "    print((total/n)**(1/2))\n",
    "\n",
    "n=int(input('请输入你想要的整数个数'))\n",
    "m=int(input('请输入一个整数'))\n",
    "k=int(input('请输入一个更大的整数'))\n",
    "\n",
    "Mua(n,m,k)\n"
   ]
  },
  {
   "cell_type": "code",
   "execution_count": null,
   "metadata": {},
   "outputs": [],
   "source": [
    "#练习 2：写函数，共n个随机整数，整数范围在m与k之间，（n,m,k由用户输入）。\n",
    "   #求1：西格玛log(随机整数)，\n",
    "   #2：西格玛1/log(随机整数)。"
   ]
  },
  {
   "cell_type": "code",
   "execution_count": 15,
   "metadata": {},
   "outputs": [
    {
     "name": "stdout",
     "output_type": "stream",
     "text": [
      "请输入你想要的随机整数个数3\n",
      "请输入一个整数7\n",
      "请输入一个更大的整数11\n",
      "4.1588830833596715\n",
      "0.9617966939259757\n"
     ]
    }
   ],
   "source": [
    "import math,random\n",
    "\n",
    "def Mua(n,m,k):\n",
    "    i=0\n",
    "    j=0\n",
    "    number1=0\n",
    "    nunmer2=0\n",
    "    while i<n:\n",
    "        i+=1\n",
    "        j=random.randint(m,k)\n",
    "        number1=math.log(j)\n",
    "        number2=1/(math.log(j))\n",
    "    number1+=number1\n",
    "    number2+=number2\n",
    "    print(number1)\n",
    "    print(number2)\n",
    "    \n",
    "n=int(input('请输入你想要的随机整数个数'))\n",
    "m=int(input('请输入一个整数'))\n",
    "k=int(input('请输入一个更大的整数'))\n",
    "\n",
    "Mua(n,m,k)"
   ]
  },
  {
   "cell_type": "code",
   "execution_count": null,
   "metadata": {},
   "outputs": [],
   "source": [
    "#练习 3：写函数，求s=a+aa+aaa+aaaa+aa...a的值，其中a是[1,9]之间的随机整数。\n",
    "        #例如2+22+222+2222+22222(此时共有5个数相加)，几个数相加由键盘输入。"
   ]
  },
  {
   "cell_type": "code",
   "execution_count": 1,
   "metadata": {},
   "outputs": [
    {
     "name": "stdout",
     "output_type": "stream",
     "text": [
      "请输入你想要的整数个数3\n",
      "请输入一个整数2\n",
      "246\n"
     ]
    }
   ],
   "source": [
    "import random\n",
    "\n",
    "def Mua(n,a):\n",
    "    i=0\n",
    "    t=0\n",
    "    s=0\n",
    "    total=0\n",
    "    while i<n:\n",
    "        i+=1\n",
    "        t=a*10**(i-1)   \n",
    "        s=s+t    \n",
    "        total+=s\n",
    "    print(total)\n",
    "\n",
    "        \n",
    "n=int(input('请输入你想要的整数个数'))\n",
    "a=int(input('请输入一个整数'))\n",
    "\n",
    "Mua(n,a)"
   ]
  },
  {
   "cell_type": "code",
   "execution_count": null,
   "metadata": {},
   "outputs": [],
   "source": [
    "#挑战性练习：仿照task5，将猜数游戏改成由用户随便选择一个整数，让计算机来猜测的猜数游戏，\n",
    "        #要求和task5中人猜测的方法类似，但是人机角色对换，由人来判断猜测是大、小还是相等，请写出完整的猜数游戏。"
   ]
  },
  {
   "cell_type": "code",
   "execution_count": 3,
   "metadata": {
    "scrolled": true
   },
   "outputs": [
    {
     "name": "stdout",
     "output_type": "stream",
     "text": [
      "\n",
      "              =====游戏菜单=====\n",
      "                1. 游戏说明\n",
      "                2. 开始游戏\n",
      "                3. 退出游戏\n",
      "                4. 制作团队\n",
      "              =====游戏菜单=====\n",
      "请输入你的选择2\n",
      "请输入一个大于0的整数，作为整数的上线，回车结束711\n",
      "346\n",
      "如果你认为这个数比神秘数字大请输入\"1\"，小请输入\"2\"，等于请输入任意整数2\n",
      "一共可以猜 10 次\n",
      "你已经猜了 1 次\n",
      "正确，请继续猜测直到猜出神秘数字或机会用完\n",
      "598\n",
      "如果你认为这个数比神秘数字大请输入\"1\"，小请输入\"2\"，等于请输入任意整数2\n",
      "一共可以猜 10 次\n",
      "你已经猜了 2 次\n",
      "正确，请继续猜测直到猜出神秘数字或机会用完\n",
      "554\n",
      "如果你认为这个数比神秘数字大请输入\"1\"，小请输入\"2\"，等于请输入任意整数2\n",
      "一共可以猜 10 次\n",
      "你已经猜了 3 次\n",
      "正确，请继续猜测直到猜出神秘数字或机会用完\n",
      "142\n",
      "如果你认为这个数比神秘数字大请输入\"1\"，小请输入\"2\"，等于请输入任意整数2\n",
      "一共可以猜 10 次\n",
      "你已经猜了 4 次\n",
      "正确，请继续猜测直到猜出神秘数字或机会用完\n",
      "674\n",
      "如果你认为这个数比神秘数字大请输入\"1\"，小请输入\"2\"，等于请输入任意整数2\n",
      "一共可以猜 10 次\n",
      "你已经猜了 5 次\n",
      "错误，请继续猜测直到猜出神秘数字或机会用完\n",
      "198\n",
      "如果你认为这个数比神秘数字大请输入\"1\"，小请输入\"2\"，等于请输入任意整数2\n",
      "一共可以猜 10 次\n",
      "你已经猜了 6 次\n",
      "正确，请继续猜测直到猜出神秘数字或机会用完\n",
      "221\n",
      "如果你认为这个数比神秘数字大请输入\"1\"，小请输入\"2\"，等于请输入任意整数23\n",
      "一共可以猜 10 次\n",
      "你已经猜了 7 次\n",
      "你比标准次数少 3 次\n",
      "214\n",
      "如果你认为这个数比神秘数字大请输入\"1\"，小请输入\"2\"，等于请输入任意整数3\n",
      "一共可以猜 10 次\n",
      "你已经猜了 8 次\n",
      "你比标准次数少 2 次\n",
      "196\n",
      "如果你认为这个数比神秘数字大请输入\"1\"，小请输入\"2\"，等于请输入任意整数2\n",
      "一共可以猜 10 次\n",
      "你已经猜了 9 次\n",
      "正确，请继续猜测直到猜出神秘数字或机会用完\n",
      "339\n",
      "如果你认为这个数比神秘数字大请输入\"1\"，小请输入\"2\"，等于请输入任意整数1\n",
      "一共可以猜 10 次\n",
      "你已经猜了 10 次\n",
      "错误，请继续猜测直到猜出神秘数字或机会用完\n",
      "你比标准次数少 0 次\n",
      "\n",
      "           ======YOU LOSE=======\n",
      "        \n",
      "\n",
      "           ======GAME OVER=======\n",
      "        \n"
     ]
    }
   ],
   "source": [
    "import random, math\n",
    "    \n",
    "def win():\n",
    "    print(\n",
    "        '''\n",
    "           ======恭喜你，你赢了=======\n",
    "        '''\n",
    "    )\n",
    "    \n",
    "def lose():\n",
    "    print(\n",
    "        '''\n",
    "           ======YOU LOSE=======\n",
    "        '''\n",
    "    )\n",
    "    \n",
    "def over():\n",
    "    print(\n",
    "        '''\n",
    "           ======GAME OVER=======\n",
    "        '''\n",
    "    )\n",
    "    \n",
    "def show_team():\n",
    "    print('小可爱')\n",
    "    \n",
    "def show_instruction():\n",
    "    print('玩家要在某个限定次数内,猜与所给数字的大小。')\n",
    "\n",
    "def menu():\n",
    "    print('''\n",
    "              =====游戏菜单=====\n",
    "                1. 游戏说明\n",
    "                2. 开始游戏\n",
    "                3. 退出游戏\n",
    "                4. 制作团队\n",
    "              =====游戏菜单=====''')\n",
    "    \n",
    "\n",
    "def guess_game():\n",
    "    n = int(input('请输入一个大于0的整数，作为整数的上线，回车结束'))\n",
    "    number = random.randint(1,n)\n",
    "    max_times = math.ceil(math.log2(n))\n",
    "    guess_times = 0\n",
    "\n",
    "    while guess_times <max_times:\n",
    "        j=random.randint(1,n)\n",
    "        print(j)\n",
    "        guess = int(input('如果你认为这个数比神秘数字大请输入\"1\"，小请输入\"2\"，等于请输入任意整数'))\n",
    "        guess_times += 1\n",
    "        print('一共可以猜', max_times, '次')\n",
    "        print('你已经猜了', guess_times, '次')\n",
    "        \n",
    "        if guess == 1:\n",
    "            if j>number:\n",
    "                print('正确，请继续猜测直到猜出神秘数字或机会用完')\n",
    "            else:\n",
    "                print('错误，请继续猜测直到猜出神秘数字或机会用完')\n",
    "        if guess == 2:\n",
    "            if j<number:\n",
    "                 print('正确，请继续猜测直到猜出神秘数字或机会用完')\n",
    "            else:\n",
    "                print('错误，请继续猜测直到猜出神秘数字或机会用完')\n",
    "        else:\n",
    "            if j==number:\n",
    "                print('恭喜你，猜对了')\n",
    "                win()\n",
    "                print('神秘数字是：', number)\n",
    "                break\n",
    "            print('你比标准次数少', max_times-guess_times, '次')\n",
    "\n",
    "            \n",
    "    else:\n",
    "        lose()\n",
    "        over()\n",
    "        \n",
    "def main():\n",
    "\n",
    "        menu()\n",
    "        choice = int(input('请输入你的选择'))\n",
    "        if choice == 1:\n",
    "            show_instruction()\n",
    "        elif choice == 2:\n",
    "            guess_game()\n",
    "        elif choice == 3:\n",
    "            game_over()\n",
    "\n",
    "        else:\n",
    "            show_team()\n",
    "main()"
   ]
  },
  {
   "cell_type": "markdown",
   "metadata": {},
   "source": []
  }
 ],
 "metadata": {
  "kernelspec": {
   "display_name": "Python 3",
   "language": "python",
   "name": "python3"
  },
  "language_info": {
   "codemirror_mode": {
    "name": "ipython",
    "version": 3
   },
   "file_extension": ".py",
   "mimetype": "text/x-python",
   "name": "python",
   "nbconvert_exporter": "python",
   "pygments_lexer": "ipython3",
   "version": "3.6.0"
  }
 },
 "nbformat": 4,
 "nbformat_minor": 2
}
