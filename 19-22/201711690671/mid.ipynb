{
 "cells": [
  {
   "cell_type": "code",
   "execution_count": null,
   "metadata": {},
   "outputs": [],
   "source": [
    "#1."
   ]
  },
  {
   "cell_type": "code",
   "execution_count": 1,
   "metadata": {},
   "outputs": [
    {
     "name": "stdout",
     "output_type": "stream",
     "text": [
      "请输入你想要相加的整数个数，回车3\n",
      "10\n"
     ]
    }
   ],
   "source": [
    "def total():\n",
    "    sum=1\n",
    "    i=1\n",
    "    j=2\n",
    "    while i<=m:\n",
    "        sum=sum+j\n",
    "        j+=1\n",
    "        i+=1\n",
    "\n",
    "    print(sum)\n",
    "    \n",
    "m=int(input('请输入你想要相加的整数个数，回车'))\n",
    "\n",
    "total()         "
   ]
  },
  {
   "cell_type": "code",
   "execution_count": null,
   "metadata": {},
   "outputs": [],
   "source": [
    "#2"
   ]
  },
  {
   "cell_type": "code",
   "execution_count": 3,
   "metadata": {},
   "outputs": [
    {
     "name": "stdout",
     "output_type": "stream",
     "text": [
      "请输入你想要的形状*\n",
      "请输入你想要的行数3\n",
      "['*', '*', '*']\n",
      "['*', '*', '*', '*', '*', '*']\n",
      "['*', '*', '*', '*', '*', '*', '*', '*', '*']\n"
     ]
    }
   ],
   "source": [
    "s=[]\n",
    "def a():\n",
    "    i=0\n",
    "    while i in range(n):\n",
    "        i+=1\n",
    "        j = 0\n",
    "        while j < n:\n",
    "            s.append(sh)\n",
    "            j += 1\n",
    "        print(s)\n",
    "\n",
    "sh=input('请输入你想要的形状')\n",
    "n=int(input('请输入你想要的行数'))   \n",
    "\n",
    "a()"
   ]
  },
  {
   "cell_type": "code",
   "execution_count": null,
   "metadata": {},
   "outputs": [],
   "source": [
    "#3"
   ]
  },
  {
   "cell_type": "code",
   "execution_count": null,
   "metadata": {},
   "outputs": [],
   "source": [
    "def fir():\n",
    "    n=0\n",
    "    print()\n",
    "    \n",
    "    \n",
    "n=int(input'请输入一个正整数')\n",
    "    \n",
    "fir()"
   ]
  },
  {
   "cell_type": "code",
   "execution_count": null,
   "metadata": {},
   "outputs": [],
   "source": [
    "#4"
   ]
  },
  {
   "cell_type": "code",
   "execution_count": 1,
   "metadata": {},
   "outputs": [
    {
     "name": "stdout",
     "output_type": "stream",
     "text": [
      "请输入球队人数9\n",
      "请输入队员的身高，eg.\"183\"183\n",
      "请输入队员的身高，eg.\"183\"185\n",
      "请输入队员的身高，eg.\"183\"183\n",
      "请输入队员的身高，eg.\"183\"187\n",
      "请输入队员的身高，eg.\"183\"178\n",
      "请输入队员的身高，eg.\"183\"175\n",
      "请输入队员的身高，eg.\"183\"177\n",
      "请输入队员的身高，eg.\"183\"190\n",
      "请输入队员的身高，eg.\"183\"172\n",
      "平均身高为 181.11111111111111\n"
     ]
    }
   ],
   "source": [
    "n=int(input('请输入球队人数'))\n",
    "def ave():\n",
    "    i=0\n",
    "    sum=0\n",
    "    while i<n:\n",
    "        m=int(input('请输入队员的身高，eg.\"183\"'))\n",
    "        sum += m\n",
    "        i+=1\n",
    "    print('平均身高为',(sum/n))\n",
    "    while m > (sum/n):\n",
    "        print(m)\n",
    "        break \n",
    "    \n",
    "          \n",
    "ave()"
   ]
  },
  {
   "cell_type": "code",
   "execution_count": null,
   "metadata": {},
   "outputs": [],
   "source": [
    "#5"
   ]
  },
  {
   "cell_type": "code",
   "execution_count": 5,
   "metadata": {},
   "outputs": [
    {
     "name": "stdout",
     "output_type": "stream",
     "text": [
      "请猜一个和5\n",
      "请猜一个和4\n",
      "请猜一个和5\n",
      "请猜一个和4\n",
      "请猜一个和3\n",
      "0\n"
     ]
    }
   ],
   "source": [
    "import random\n",
    "def equ():\n",
    "    i=0\n",
    "    sum=0\n",
    "    res=0\n",
    "    \n",
    "    while i<5:\n",
    "        a=random.randint(0,10)\n",
    "        b=random.randint(0,10)\n",
    "        if (a+b)<=10:\n",
    "            sum=a+b\n",
    "            i+=1\n",
    "            guess=int(input('请猜一个和'))\n",
    "            \n",
    "            if guess==sum:\n",
    "                res+=20\n",
    "            else:\n",
    "                res+=0\n",
    "    print(res)\n",
    "equ()"
   ]
  },
  {
   "cell_type": "code",
   "execution_count": null,
   "metadata": {},
   "outputs": [],
   "source": [
    "#6"
   ]
  },
  {
   "cell_type": "code",
   "execution_count": null,
   "metadata": {},
   "outputs": [],
   "source": [
    "lis=[]\n",
    "def aaa():\n",
    "    n=int(input('请输入序列个数'))\n",
    "    m=int(input('请输入一个整数'))\n",
    "    i=2\n",
    "    my_max=m\n",
    "    my_min=m\n",
    "\n",
    "    while i<n:\n",
    "        num=int(input('请输入一个整数'))\n",
    "        lis.append(num)\n",
    "\n",
    "        if num>my_max:\n",
    "            my_max=num\n",
    "        elif num<my_min:\n",
    "            my_min=num\n",
    "        i+=1\n",
    "        \n",
    "        lis[0]=my_max\n",
    "        lis[n]=my_min   \n",
    "    print(list)\n",
    "    \n",
    "aaa()"
   ]
  },
  {
   "cell_type": "code",
   "execution_count": null,
   "metadata": {},
   "outputs": [],
   "source": []
  }
 ],
 "metadata": {
  "kernelspec": {
   "display_name": "Python 3",
   "language": "python",
   "name": "python3"
  },
  "language_info": {
   "codemirror_mode": {
    "name": "ipython",
    "version": 3
   },
   "file_extension": ".py",
   "mimetype": "text/x-python",
   "name": "python",
   "nbconvert_exporter": "python",
   "pygments_lexer": "ipython3",
   "version": "3.6.0"
  }
 },
 "nbformat": 4,
 "nbformat_minor": 2
}
