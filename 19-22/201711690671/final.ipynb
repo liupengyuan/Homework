{
 "cells": [
  {
   "cell_type": "code",
   "execution_count": null,
   "metadata": {},
   "outputs": [],
   "source": [
    "#1、（10分）写函数，有两个形式参数: 符号和行数，可打印多行字符图形。如\n",
    "#主程序给定：‘*’，5, 调用该函数，可打印相应行数的如下图形"
   ]
  },
  {
   "cell_type": "code",
   "execution_count": null,
   "metadata": {},
   "outputs": [],
   "source": [
    "def tir(s,n):\n",
    "    for i in range(n):\n",
    "        print(((n-i)*' ' ,' ', s[0]*n,' ' , (s[0]+' ')*(i+1))\n",
    "s=input('请输入你想要的形状')\n",
    "n=int(input('请输入你想要的行数'))\n",
    "tri()"
   ]
  },
  {
   "cell_type": "code",
   "execution_count": null,
   "metadata": {},
   "outputs": [],
   "source": [
    "#2、（10分）Ackermann函数定义如下，请实现该函数，并计算A(3,4)。"
   ]
  },
  {
   "cell_type": "code",
   "execution_count": 1,
   "metadata": {},
   "outputs": [
    {
     "data": {
      "text/plain": [
       "2"
      ]
     },
     "execution_count": 1,
     "metadata": {},
     "output_type": "execute_result"
    }
   ],
   "source": [
    "def Ackermann(m,n):\n",
    "    if m==0:\n",
    "        return n+1\n",
    "    elif m>0 and n==0:\n",
    "        return Ackermann(m-1,1)\n",
    "    elif m>0 and n>0:\n",
    "        return Ackermann(m,n-1)\n",
    "    \n",
    "Ackermann(3,4)    "
   ]
  },
  {
   "cell_type": "code",
   "execution_count": null,
   "metadata": {},
   "outputs": [],
   "source": [
    "#3、某小学一年级期末考试，请你编程随机出n道四则运算题目，每题只有两个数字和一个运算符号，数字均为 a 到 b 之间的整数， 整数是随机的， 加减乘除也是随机的，要保证每个题目的结果必须是正整数。\n",
    "#（a）（15分）打印所有题目，每行一道题（给定参数n=15, a=3, b= 25）。"
   ]
  },
  {
   "cell_type": "code",
   "execution_count": 2,
   "metadata": {},
   "outputs": [
    {
     "name": "stdout",
     "output_type": "stream",
     "text": [
      "( 1 ) 13 - 8 =?\n",
      "( 2 ) 3 + 4 =?\n",
      "( 3 ) 20 - 7 =?\n",
      "( 4 ) 20 - 12 =?\n",
      "( 5 ) 16 * 18 =?\n",
      "( 6 ) 3 * 10 =?\n",
      "( 7 ) 14 - 4 =?\n",
      "( 8 ) 18 - 13 =?\n",
      "( 9 ) 22 + 15 =?\n",
      "( 10 ) 12 + 15 =?\n"
     ]
    }
   ],
   "source": [
    "import random\n",
    "def pro(n,a,b):\n",
    "    for i in range(n):\n",
    "        j=random.randrange(a,b)\n",
    "        k=random.randrange(a,b)\n",
    "        way=random.randrange(1,4)\n",
    "        if way==1:\n",
    "            qus='+'\n",
    "        elif way==2:\n",
    "            qus='-'\n",
    "            if j<k:               \n",
    "                j,k=k,j\n",
    "                qus1=j-k\n",
    "        elif way==3:\n",
    "            qus='*'\n",
    "        elif way==4:\n",
    "            qus='/'\n",
    "        print('(',i+1,')',j,qus,k,'=?')\n",
    "\n",
    "        \n",
    "pro(10,3,25)"
   ]
  },
  {
   "cell_type": "code",
   "execution_count": null,
   "metadata": {},
   "outputs": [],
   "source": [
    "#（b）（10 分）用户键盘输入答案，答对一道加减法题目得 5 分，答对一道乘除法题目得10分，答错不得分，程序自动计算并输出最终得分。限定用户一次输入所有答案，逗号分隔，示意如下：12,34,22,....21"
   ]
  },
  {
   "cell_type": "code",
   "execution_count": null,
   "metadata": {},
   "outputs": [],
   "source": [
    "import random\n",
    "def pro(n,a,b):\n",
    "    qus_1=[]\n",
    "    for i in range(n):\n",
    "        j=random.randrange(a,b)\n",
    "        k=random.randrange(a,b)\n",
    "        way=random.randrange(1,4)\n",
    "        if way==1:\n",
    "            qus='+'\n",
    "            qus1=j+k\n",
    "        elif way==2:\n",
    "            qus='-'\n",
    "            if j<k:               \n",
    "                j,k=k,j\n",
    "                qus1=j-k\n",
    "        elif way==3:\n",
    "            qus='*'\n",
    "            qus1=j*k\n",
    "        elif way==4:\n",
    "            qus='/'\n",
    "            qus1=j/k\n",
    "        print('(',i+1,')',j,qus,k,'=?')\n",
    "        qus_1.append(qus1)\n",
    "        \n",
    "        mark=0\n",
    "        for i in range(n):\n",
    "            if way==1 or way==2:\n",
    "                if qus_1[i]==ans_1[i]:\n",
    "                    mark+=5\n",
    "            if way==3 or way==4:\n",
    "                if qus_1[i]==ans_1[i]:\n",
    "                    mark+=10\n",
    "        print('你的总分为',mark)\n",
    "        \n",
    "ans1=input(('输入你的答案，用“,”隔开你的每一个答案,eg.12,34,22,....21'))\n",
    "ans1 = ans1.replace(',', '')\n",
    "start = 0\n",
    "end = 0\n",
    "while end < len(ans1):\n",
    "    if ans1[end] == '\\n':\n",
    "        ans_1 = []\n",
    "        ans_1.append(ans1[start:end])\n",
    "        start = end + 1\n",
    "    end += 1\n",
    "        \n",
    "pro(10,3,25)"
   ]
  },
  {
   "cell_type": "code",
   "execution_count": null,
   "metadata": {},
   "outputs": [],
   "source": [
    "#（c）（15分）答题机器人，可以接受从键盘输入的n道四则运算题目（题目要求与前类似，用户来出题），用户首先输入题目个数n，然后用户每输入一个题目，机器人将自动运算得出结果。n道题输入完毕后，根据（b）中的分数规则，计算总得分输出。令n=10,四则运算都有，用户输入的题目格式示例为：5*14="
   ]
  },
  {
   "cell_type": "code",
   "execution_count": null,
   "metadata": {},
   "outputs": [],
   "source": [
    "import random\n",
    "def pro(n,q):\n",
    "    n=int(input('请输入题目数'))\n",
    "    for i in range(n):\n",
    "        q=input('请输入题目,eg.5*14=')\n",
    "        print(q)\n",
    "        \n",
    "    for i in range(n):\n",
    "        if way==1 or way==2:\n",
    "            if qus_1[i]==ans_1[i]:\n",
    "                mark+=5\n",
    "        if way==3 or way==4:\n",
    "            if qus_1[i]==ans_1[i]:\n",
    "                mark+=10\n",
    "    print('电脑总分为',mark)\n",
    "\n",
    "        \n",
    "pro(10,)"
   ]
  },
  {
   "cell_type": "code",
   "execution_count": null,
   "metadata": {},
   "outputs": [],
   "source": [
    "#4.（a）（10分）写程序，读入成语文件，并提取出所有四字成语，形成集合A。（ 由 于 成 语 文 件 编 码 为 u t f - 8 因 此 ："
   ]
  },
  {
   "cell_type": "code",
   "execution_count": null,
   "metadata": {},
   "outputs": [],
   "source": [
    "filename = r'c:\\temp\\utf-8.txt'\n",
    "A = set()\n",
    "with open(filename) as f:\n",
    "    for line in f:\n",
    "        A |= {word.split('/')[0] for word in line.split()}\n",
    "print(A)"
   ]
  },
  {
   "cell_type": "code",
   "execution_count": null,
   "metadata": {},
   "outputs": [],
   "source": [
    "#（b）（10分）统计A 中所有成语在语料库文件中出现的频次。输出频次最高的20个成语及其频次。（如第一问没有做出，可用之前教程8.md中的成语库）"
   ]
  },
  {
   "cell_type": "code",
   "execution_count": null,
   "metadata": {},
   "outputs": [],
   "source": [
    "def get_word_table(filename):\n",
    "    word_table = []\n",
    "    with open(filename) as f:\n",
    "        text = f.read()\n",
    "    words = [word.split('/')[0] for word in text.split()]\n",
    "    for word in words:\n",
    "        if word not in word_table:\n",
    "            word_table.append(word)\n",
    "    return word_table\n",
    "\n",
    "def count_words_freq(A, words):\n",
    "    word_freq_pairs = []\n",
    "    for word in words:\n",
    "        number = text.count(word)\n",
    "        word_freq_pairs.append([word, number])\n",
    "    return word_freq_pairs\n",
    "\n",
    "words_freq = count_words_freq(A, table)\n",
    "\n",
    "filename = r'c:\\temp\\语料.txt'\n",
    "table = get_word_table(A)\n",
    "print(words_freq[:20])"
   ]
  },
  {
   "cell_type": "code",
   "execution_count": null,
   "metadata": {},
   "outputs": [],
   "source": [
    "#（c）（5分）统计语料库得到每个词类的词的总频次（如ns算一类， v算一类..）并输出到屏幕"
   ]
  },
  {
   "cell_type": "code",
   "execution_count": null,
   "metadata": {},
   "outputs": [],
   "source": [
    "def get_ch_table(line):\n",
    "    ch_table = []\n",
    "    for ch in line:\n",
    "        if ch not in ch_table:\n",
    "            ch_table.append(ch)\n",
    "    return ch_table\n",
    "\n",
    "fh = open(r'c:\\temp\\语料.txt')\n",
    "text = fh.read()\n",
    "chs = get_ch_table(text.replace('\\n', ''))"
   ]
  },
  {
   "cell_type": "code",
   "execution_count": null,
   "metadata": {},
   "outputs": [],
   "source": [
    "#（d）（5分）统计语料库得到所有词类为nr的词（不重复），并输出到屏幕。"
   ]
  },
  {
   "cell_type": "code",
   "execution_count": null,
   "metadata": {},
   "outputs": [],
   "source": [
    "def count():\n",
    "    word_count = []\n",
    "    number=0\n",
    "    with open(r'c:\\temp\\语料.txt')as f:\n",
    "        text = f.read()\n",
    "    for word in text:\n",
    "        number = text.count(word.endswith('nr'))\n",
    "        word_count.append([word, number])\n",
    "    return word_count\n",
    "\n",
    "count()"
   ]
  },
  {
   "cell_type": "code",
   "execution_count": null,
   "metadata": {},
   "outputs": [],
   "source": [
    "#（e）（5 分）统计语料库及 A，得到词（成语）表及字表，打印语料库词表中所有词的长度之和/语料库字表长度；打印 A 的所有词的长度之和/A 的字表长度。（如第一问没有做出，可用之前教程8.md中的成语库）"
   ]
  },
  {
   "cell_type": "code",
   "execution_count": null,
   "metadata": {},
   "outputs": [],
   "source": [
    "def len():\n",
    "    with open(r'c:\\temp\\语料.txt')as f,open(r'c:\\temp\\idioms.txt')as fs:\n",
    "        text_1=f1.read()\n",
    "        text_2=f2.read()\n",
    "        A=len(text_1)\n",
    "        B=len(text_2)\n",
    "        return A , B\n",
    "    \n",
    "    \n",
    "len()"
   ]
  },
  {
   "cell_type": "code",
   "execution_count": null,
   "metadata": {},
   "outputs": [],
   "source": [
    "#（f）（5 分）挑战性开放式题目。新型接龙，方式为：一个成语，接一个二字词，接一个成语...例如：千钧一发 发生 生生不息 息影 影只形单 单飞 飞珠溅玉 玉石 石破天惊...。成语在A中，二字词由统计语料库词表中得到。\n",
    "#要求键盘输入一个成语，计算机能给出接龙序列（不产生回路），思考并实现一种使该序列尽可能长（无需确实是最长序列）的方法。\n",
    "#成语以万马奔腾为例。（如第一问没有做出，可用之前教程8.md中的成语库）"
   ]
  },
  {
   "cell_type": "code",
   "execution_count": null,
   "metadata": {},
   "outputs": [],
   "source": [
    "def game():\n",
    "    fh1=open(r'c:\\temp\\utf-8.txt')\n",
    "    text1 = fh1.read()\n",
    "    idioms1 = text1.split()\n",
    "    fh2=open(r'c:\\temp\\语料.txt')\n",
    "     text2 = fh1.read()\n",
    "    idioms2 = text1.split()\n",
    "    \n",
    "    n=int(input('请输入一个成语'))\n",
    "    print(a)\n",
    "    time=1\n",
    "    while time>1:  \n",
    "        if time%2==0:\n",
    "                a1=[]\n",
    "                a=random.choice(idioms1)\n",
    "                a1.append(a)\n",
    "            if a[3]!=b[0]:\n",
    "                "
   ]
  }
 ],
 "metadata": {
  "kernelspec": {
   "display_name": "Python 3",
   "language": "python",
   "name": "python3"
  },
  "language_info": {
   "codemirror_mode": {
    "name": "ipython",
    "version": 3
   },
   "file_extension": ".py",
   "mimetype": "text/x-python",
   "name": "python",
   "nbconvert_exporter": "python",
   "pygments_lexer": "ipython3",
   "version": "3.6.0"
  }
 },
 "nbformat": 4,
 "nbformat_minor": 2
}
