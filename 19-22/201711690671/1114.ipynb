{
 "cells": [
  {
   "cell_type": "code",
   "execution_count": null,
   "metadata": {},
   "outputs": [],
   "source": [
    "#写函数，返回一个list中的最大值，最小值，平均值。（不用内置的求和求函数），以[1,2,-1,55,100,899,-10,3,12.5,5.8]为例。"
   ]
  },
  {
   "cell_type": "code",
   "execution_count": 5,
   "metadata": {},
   "outputs": [
    {
     "name": "stdout",
     "output_type": "stream",
     "text": [
      "最大值为 899\n",
      "最小值为 -10\n",
      "平均值为 106.72999999999999\n"
     ]
    }
   ],
   "source": [
    "def num():\n",
    "   \n",
    "    total=0\n",
    "    for number in numbers: \n",
    "        n=len(numbers)\n",
    "        total+=number\n",
    "    print('平均值为',total/n)\n",
    "\n",
    "numbers=[1,2,-1,55,100,899,-10,3,12.5,5.8]\n",
    "\n",
    "print('最大值为',max(numbers))\n",
    "print('最小值为',min(numbers))\n",
    "\n",
    "num()"
   ]
  },
  {
   "cell_type": "code",
   "execution_count": null,
   "metadata": {},
   "outputs": [],
   "source": []
  }
 ],
 "metadata": {
  "kernelspec": {
   "display_name": "Python 3",
   "language": "python",
   "name": "python3"
  },
  "language_info": {
   "codemirror_mode": {
    "name": "ipython",
    "version": 3
   },
   "file_extension": ".py",
   "mimetype": "text/x-python",
   "name": "python",
   "nbconvert_exporter": "python",
   "pygments_lexer": "ipython3",
   "version": "3.6.0"
  }
 },
 "nbformat": 4,
 "nbformat_minor": 2
}
