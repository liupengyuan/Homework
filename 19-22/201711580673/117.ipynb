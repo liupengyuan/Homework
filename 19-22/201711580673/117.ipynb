{
 "cells": [
  {
   "cell_type": "code",
   "execution_count": 1,
   "metadata": {},
   "outputs": [
    {
     "name": "stdout",
     "output_type": "stream",
     "text": [
      "请输入最小的一个整数，以回车结束10\n",
      "请输入最大的一个整数，以回车结束500\n",
      "请输入需要的整数数目，以回车结束5\n",
      "这m个随机整数均值的平方根是: 1590121\n"
     ]
    }
   ],
   "source": [
    "#课堂练习\n",
    "import random\n",
    "\n",
    "#函数\n",
    "def PFG(m,k,n):\n",
    "    \n",
    "    i=1\n",
    "    total=0\n",
    "    x=0\n",
    "    \n",
    "    if m>=1 and m<=k-n:\n",
    "        \n",
    "        while i<=m:\n",
    "            x=random.randint(m,k)\n",
    "            total=total+x\n",
    "            i=i+1\n",
    "        total=total*total\n",
    "    else:\n",
    "        total='error'\n",
    "    \n",
    "    return total\n",
    "\n",
    "#程序\n",
    "n=int(input('请输入最小的一个整数，以回车结束'))\n",
    "k=int(input('请输入最大的一个整数，以回车结束'))\n",
    "m=int(input('请输入需要的整数数目，以回车结束'))\n",
    "print('这m个随机整数均值的平方根是:',PFG(m,k,n))"
   ]
  }
 ],
 "metadata": {
  "kernelspec": {
   "display_name": "Python 3",
   "language": "python",
   "name": "python3"
  },
  "language_info": {
   "codemirror_mode": {
    "name": "ipython",
    "version": 3
   },
   "file_extension": ".py",
   "mimetype": "text/x-python",
   "name": "python",
   "nbconvert_exporter": "python",
   "pygments_lexer": "ipython3",
   "version": "3.6.2"
  }
 },
 "nbformat": 4,
 "nbformat_minor": 2
}
