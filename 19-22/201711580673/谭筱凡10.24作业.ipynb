{
 "cells": [
  {
   "cell_type": "code",
   "execution_count": null,
   "metadata": {},
   "outputs": [],
   "source": [
    "#练习1\n",
    "a= input('your name?')\n",
    "print('Hi,', a)\n",
    "\n",
    "b=float(input('your birthday?(type：month.day)'))\n",
    "\n",
    "if b>=4.2 and b<=5.2:\n",
    "    print(a,'你是非常有性格的金牛座！')\n",
    "else:\n",
    "    print(a,'你不是非常有性格的金牛座！')"
   ]
  },
  {
   "cell_type": "code",
   "execution_count": null,
   "metadata": {},
   "outputs": [],
   "source": [
    "#练习2\n",
    "m=int(input('import a number:'))\n",
    "n=int(input('import another number:'))\n",
    "answer=0\n",
    "\n",
    "a=int(input('需要求和请输入1，需要得乘积请输入2，需要求余数则输入3,其他请输入4:'))\n",
    "\n",
    "if a == 1:\n",
    "    answer=m+n\n",
    "elif a == 2:\n",
    "    answer=m*n\n",
    "elif a==3:\n",
    "    answer=m%n\n",
    "elif a==4:\n",
    "    answer=m//n\n",
    "    \n",
    "print(answer)"
   ]
  },
  {
   "cell_type": "code",
   "execution_count": null,
   "metadata": {},
   "outputs": [],
   "source": [
    "#练习3\n",
    "a= input('请输入一个单词：')\n",
    "\n",
    "if a. endswith('th') or a. endswith('ch') or a. endswith('o') or a. endswith('s'):\n",
    "    print(a,'es', sep = '')\n",
    "elif a. endswith('f'):\n",
    "    a=a[:-1]\n",
    "    print(a,'ves',sep = '')\n",
    "else:\n",
    "    print(a,'s',sep = '')\n",
    "    "
   ]
  },
  {
   "cell_type": "code",
   "execution_count": null,
   "metadata": {},
   "outputs": [],
   "source": [
    "#尝试性练习\n",
    "a = input()\n",
    "\n",
    "while a == '':\n",
    "    input()"
   ]
  }
 ],
 "metadata": {
  "kernelspec": {
   "display_name": "Python 3",
   "language": "python",
   "name": "python3"
  }
 },
 "nbformat": 4,
 "nbformat_minor": 2
}
