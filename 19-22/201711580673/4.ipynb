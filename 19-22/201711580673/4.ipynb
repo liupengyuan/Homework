{
 "cells": [
  {
   "cell_type": "code",
   "execution_count": 5,
   "metadata": {},
   "outputs": [
    {
     "name": "stdout",
     "output_type": "stream",
     "text": [
      "请输入第1个整数，以回车结束:2\n",
      "请输入第2个整数，以回车结束:3\n",
      "请输入第3个整数，以回车结束:4\n",
      "m!+n!+k!= 32\n"
     ]
    }
   ],
   "source": [
    "#练习1\n",
    "\n",
    "#函数\n",
    "def mul(n):\n",
    "    i=1\n",
    "    answer=1\n",
    "    \n",
    "    while i<n :\n",
    "        i=i+1\n",
    "        answer=answer*i\n",
    "    \n",
    "    return answer\n",
    "    \n",
    "#主程序\n",
    "n = int(input('请输入第1个整数，以回车结束:'))\n",
    "m = int(input('请输入第2个整数，以回车结束:'))\n",
    "k = int(input('请输入第3个整数，以回车结束:'))\n",
    "\n",
    "print('m!+n!+k!=',mul(n)+mul(m)+mul(k))"
   ]
  },
  {
   "cell_type": "code",
   "execution_count": 6,
   "metadata": {},
   "outputs": [
    {
     "name": "stdout",
     "output_type": "stream",
     "text": [
      "7.995955995595992\n"
     ]
    }
   ],
   "source": [
    "#练习2\n",
    "\n",
    "#函数\n",
    "def hey(n):\n",
    "    i=1\n",
    "    answer=0\n",
    "    \n",
    "    while i<(n-2) :\n",
    "        answer=answer+1/i\n",
    "        i=i+2\n",
    "        answer=answer-1/i\n",
    "        \n",
    "    return answer\n",
    "\n",
    "#主程序\n",
    "n=1000\n",
    "m=100000\n",
    "\n",
    "print(4*(hey(n)+hey(m)))"
   ]
  },
  {
   "cell_type": "code",
   "execution_count": 1,
   "metadata": {},
   "outputs": [
    {
     "name": "stdout",
     "output_type": "stream",
     "text": [
      "your name?li\n",
      "Hi, li\n",
      "your birthday?(type：month.day)4.20\n",
      "li 你是非常有性格的金牛座！\n",
      "('li', 4.2)\n",
      "请输入一个单词：leaf\n",
      "leaves\n",
      "None\n"
     ]
    }
   ],
   "source": [
    "#练习3\n",
    "\n",
    "#函数1\n",
    "def star(name,day):\n",
    "    if day>=4.2 and day<=5.2:\n",
    "        print(name,'你是非常有性格的金牛座！')\n",
    "    return name,day\n",
    "        \n",
    "#函数2\n",
    "def word(a):\n",
    "    if a. endswith('th') or a. endswith('ch') or a. endswith('o') or a. endswith('s'):\n",
    "        print(a,'es', sep = '')\n",
    "    elif a. endswith('f'):\n",
    "        a=a[:-1]\n",
    "        print(a,'ves',sep = '')\n",
    "    else:\n",
    "        print(a,'s',sep = '')\n",
    "        \n",
    "#主程序\n",
    "name= input('your name?')\n",
    "print('Hi,', name)\n",
    "day=float(input('your birthday?(type：month.day)'))\n",
    "print(star(name,day))\n",
    "\n",
    "a= input('请输入一个单词：')\n",
    "print(word(a))"
   ]
  },
  {
   "cell_type": "code",
   "execution_count": 9,
   "metadata": {},
   "outputs": [
    {
     "name": "stdout",
     "output_type": "stream",
     "text": [
      "请输入m:5\n",
      "请输入n:10\n",
      "请输入k:2\n",
      "21\n"
     ]
    }
   ],
   "source": [
    "#挑战性练习\n",
    "\n",
    "#函数\n",
    "def hi(x,k):\n",
    "    answer=1\n",
    "    i=1\n",
    "    while i<(x-k) :\n",
    "        i=i+k\n",
    "        answer = answer+i\n",
    "   \n",
    "    return answer\n",
    "\n",
    "#主程序\n",
    "m=int(input('请输入m:'))\n",
    "n=int(input('请输入n:'))\n",
    "k=int(input('请输入k:'))\n",
    "\n",
    "if n >= m :\n",
    "    print(hi(n,k)-hi(m,k))\n",
    "else :\n",
    "    print('error')"
   ]
  }
 ],
 "metadata": {
  "kernelspec": {
   "display_name": "Python 3",
   "language": "python",
   "name": "python3"
  },
  "language_info": {
   "codemirror_mode": {
    "name": "ipython",
    "version": 3
   },
   "file_extension": ".py",
   "mimetype": "text/x-python",
   "name": "python",
   "nbconvert_exporter": "python",
   "pygments_lexer": "ipython3",
   "version": "3.6.2"
  }
 },
 "nbformat": 4,
 "nbformat_minor": 2
}
