{
 "cells": [
  {
   "cell_type": "code",
   "execution_count": 9,
   "metadata": {},
   "outputs": [
    {
     "name": "stdout",
     "output_type": "stream",
     "text": [
      "n=1\n",
      "m=2\n",
      "6\n"
     ]
    }
   ],
   "source": [
    "def my_sum(answer):\n",
    "    answer = n+m\n",
    "    return answer\n",
    "\n",
    "def my_mul(y):\n",
    "    i=1\n",
    "    while i < y :\n",
    "        answer = i*(i+1)\n",
    "        i=i+1\n",
    "    return y\n",
    "\n",
    "n = int(input('n='))\n",
    "m = int(input('m='))\n",
    "i=0\n",
    "answer=0\n",
    "\n",
    "if m>n :\n",
    "    while i<= m :\n",
    "        i=i+1\n",
    "        answer=answer+i\n",
    "    print(answer)\n",
    "\n",
    "else :\n",
    "    m = my_mul(m)\n",
    "    n = my_mul(n)\n",
    "    print(m+n)\n",
    "    \n",
    "\n"
   ]
  },
  {
   "cell_type": "code",
   "execution_count": null,
   "metadata": {
    "collapsed": true
   },
   "outputs": [],
   "source": []
  }
 ],
 "metadata": {
  "kernelspec": {
   "display_name": "Python 3",
   "language": "python",
   "name": "python3"
  },
  "language_info": {
   "codemirror_mode": {
    "name": "ipython",
    "version": 3
   },
   "file_extension": ".py",
   "mimetype": "text/x-python",
   "name": "python",
   "nbconvert_exporter": "python",
   "pygments_lexer": "ipython3",
   "version": "3.6.2"
  }
 },
 "nbformat": 4,
 "nbformat_minor": 2
}
