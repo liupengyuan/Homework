{
 "cells": [
  {
   "cell_type": "code",
   "execution_count": 18,
   "metadata": {},
   "outputs": [
    {
     "name": "stdout",
     "output_type": "stream",
     "text": [
      "enter the num5\n",
      "* * \n",
      "          *\n",
      "         * *\n",
      "       * * * *\n",
      "     * * * * * *\n",
      "   * * * * * * * *\n"
     ]
    }
   ],
   "source": [
    "n = int(input('enter the num'))\n",
    "line = '* '\n",
    "line *= n\n",
    "\n",
    "for i in range(1, len(line)-1):\n",
    "    if i == 1:\n",
    "        print(' '*(len(line))+line[0])\n",
    "        print(' '*(len(line)-1) +line[0]+' '+line[0])\n",
    "    elif i%2 == 1:\n",
    "        print(' '*(len(line)-i) + line[:i//2] + line[i//2] + line[i//2-1::-1] + ' ' + line[:i//2]+line[i//2]+line[i//2-1::-1])\n",
    "    "
   ]
  }
 ],
 "metadata": {
  "kernelspec": {
   "display_name": "Python 3",
   "language": "python",
   "name": "python3"
  },
  "language_info": {
   "codemirror_mode": {
    "name": "ipython",
    "version": 3
   },
   "file_extension": ".py",
   "mimetype": "text/x-python",
   "name": "python",
   "nbconvert_exporter": "python",
   "pygments_lexer": "ipython3",
   "version": "3.6.2"
  }
 },
 "nbformat": 4,
 "nbformat_minor": 2
}
