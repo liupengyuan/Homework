{
 "cells": [
  {
   "cell_type": "code",
   "execution_count": 6,
   "metadata": {},
   "outputs": [
    {
     "name": "stdout",
     "output_type": "stream",
     "text": [
      "输入字符：#\n",
      "输入行数：3\n",
      "      ######\n",
      "    ##########\n",
      "  ##############\n"
     ]
    }
   ],
   "source": [
    "#1\n",
    "def one(m,n):\n",
    "    line = m*2+m\n",
    "    line *= n\n",
    "    for i in range(2, len(line)-1):\n",
    "        if i%2 == 1:\n",
    "            print(' '*(len(line)-i)+line[:i//2]+line[i//2]+line[i//2-1::-1]+line[:i//2]+line[i//2]+line[i//2-1::-1])\n",
    "            \n",
    "m=input('输入字符：')\n",
    "n=int(input('输入行数：'))\n",
    "one(m,n)"
   ]
  },
  {
   "cell_type": "code",
   "execution_count": 1,
   "metadata": {},
   "outputs": [
    {
     "name": "stdout",
     "output_type": "stream",
     "text": [
      "输入m：5\n",
      "输入n：0\n",
      "A( 4 ,1)\n"
     ]
    }
   ],
   "source": [
    "#2\n",
    "def two(m,n):\n",
    "    ans = 0\n",
    "    if m == 0:\n",
    "        print(n+1)\n",
    "    elif m>0 and n==0:\n",
    "        print('A(',m-1,',1)')\n",
    "    elif m>0 and n>0:\n",
    "        print('A(',m-1,',A(',m,',',n-1,'))')\n",
    "        \n",
    "m=int(input('输入m：'))\n",
    "n=int(input('输入n：'))\n",
    "two(m,n)"
   ]
  },
  {
   "cell_type": "code",
   "execution_count": 3,
   "metadata": {},
   "outputs": [
    {
     "name": "stdout",
     "output_type": "stream",
     "text": [
      "20 - 14 =?\n",
      "22 / 16 =?\n",
      "10 * 4 =?\n",
      "15 + 6 =?\n",
      "24 + 21 =?\n",
      "25 + 11 =?\n",
      "16 * 16 =?\n",
      "3 * 3 =?\n",
      "11 - 7 =?\n",
      "6 * 4 =?\n",
      "14 + 11 =?\n",
      "11 - 11 =?\n",
      "23 / 21 =?\n",
      "18 + 5 =?\n",
      "15 + 3 =?\n"
     ]
    }
   ],
   "source": [
    "#3.a\n",
    "import random\n",
    "\n",
    "n=15\n",
    "a=3\n",
    "b=25\n",
    "def threea(n,a,b):\n",
    "    line=['+','-','*','/']\n",
    "    for i in range(1,n+1):\n",
    "        q = random.randint(a,b)\n",
    "        p = random.randint(a,q)\n",
    "        o = random.choice(line)\n",
    "        if o == line[0]:\n",
    "            print(q,'+',p,'=?')\n",
    "        elif o == line[1]:\n",
    "            print(q,'-',p,'=?')\n",
    "        elif o == line[2]:\n",
    "            print(q,'*',p,'=?')\n",
    "        elif o == line[3]:\n",
    "            print(q,'/',p,'=?')\n",
    "\n",
    "threea(n,a,b)"
   ]
  },
  {
   "cell_type": "code",
   "execution_count": 4,
   "metadata": {},
   "outputs": [
    {
     "name": "stdout",
     "output_type": "stream",
     "text": [
      "12 / 8 =?\n",
      "输入答案：1\n",
      "23 - 6 =?\n",
      "输入答案：17\n",
      "6 - 5 =?\n",
      "输入答案：1\n",
      "10 * 3 =?\n",
      "输入答案：30\n",
      "13 / 10 =?\n",
      "输入答案：1\n",
      "24 + 4 =?\n",
      "输入答案：28\n",
      "24 / 18 =?\n",
      "输入答案：1\n",
      "7 / 5 =?\n",
      "输入答案：1\n",
      "9 * 3 =?\n",
      "输入答案：27\n",
      "3 - 3 =?\n",
      "输入答案：0\n",
      "24 / 22 =?\n",
      "输入答案：1\n",
      "20 / 19 =?\n",
      "输入答案：1\n",
      "19 / 16 =?\n",
      "输入答案：1\n",
      "10 + 8 =?\n",
      "输入答案：18\n",
      "17 * 9 =?\n",
      "输入答案：153\n",
      "分数是： 55\n"
     ]
    }
   ],
   "source": [
    "#3.b\n",
    "import random\n",
    "\n",
    "n=15\n",
    "a=3\n",
    "b=25\n",
    "def threeb(n,a,b):\n",
    "    x = 0\n",
    "    ans = 0\n",
    "    score = 0\n",
    "    line=['+','-','*','/']\n",
    "    for i in range(1,n+1):\n",
    "        q = random.randint(a,b)\n",
    "        p = random.randint(a,q)\n",
    "        o = random.choice(line)\n",
    "        if o == line[0]:\n",
    "            print(q,'+',p,'=?')\n",
    "            x =q+p\n",
    "            ans = int(input('输入答案：'))\n",
    "            if ans == x:\n",
    "                score += 5 \n",
    "        elif o == line[1]:\n",
    "            print(q,'-',p,'=?')\n",
    "            x =q-p\n",
    "            ans = int(input('输入答案：'))\n",
    "            if ans == x:\n",
    "                score += 5\n",
    "        elif o == line[2]:\n",
    "            print(q,'*',p,'=?')\n",
    "            x =q*p\n",
    "            ans = int(input('输入答案：'))\n",
    "            if ans == x:\n",
    "                score += 10\n",
    "        elif o == line[3]:\n",
    "            print(q,'/',p,'=?')\n",
    "            x =q/p\n",
    "            ans = int(input('输入答案：'))\n",
    "            if ans == x:\n",
    "                score += 10\n",
    "    print('分数是：',score)\n",
    "    \n",
    "threeb(n,a,b)"
   ]
  },
  {
   "cell_type": "code",
   "execution_count": 5,
   "metadata": {},
   "outputs": [
    {
     "ename": "SyntaxError",
     "evalue": "invalid syntax (<ipython-input-5-3e9b0e2cfbe4>, line 11)",
     "output_type": "error",
     "traceback": [
      "\u001b[1;36m  File \u001b[1;32m\"<ipython-input-5-3e9b0e2cfbe4>\"\u001b[1;36m, line \u001b[1;32m11\u001b[0m\n\u001b[1;33m    if line[1]== +:\u001b[0m\n\u001b[1;37m                  ^\u001b[0m\n\u001b[1;31mSyntaxError\u001b[0m\u001b[1;31m:\u001b[0m invalid syntax\n"
     ]
    }
   ],
   "source": [
    "#3.c\n",
    "def threec():\n",
    "    n=int(input('输入题目数：'))\n",
    "    for i in range(1,n):\n",
    "        line = input('输入题目：，示例：5*14')\n",
    "        q = int(line[0])\n",
    "        o = str(line[1])\n",
    "        p = int(line[2])\n",
    "        score = 0\n",
    "        print(ans)\n",
    "        if line[1]== +:\n",
    "            print(q+p)\n",
    "            score += 5 \n",
    "        elif line[1]== -:\n",
    "            print(q-p)\n",
    "            score += 5 \n",
    "        elif line[1]== *:\n",
    "            print(q*p)\n",
    "            score += 10\n",
    "        elif line[1]== /:\n",
    "            print(q/p)\n",
    "            score += 10 \n",
    "        print(score)\n",
    "\n",
    "threec()"
   ]
  },
  {
   "cell_type": "code",
   "execution_count": null,
   "metadata": {
    "collapsed": true
   },
   "outputs": [],
   "source": [
    "#4\n",
    "from collections import Counter\n",
    "\n",
    "#4.a\n",
    "def foura():\n",
    "with open(filename,encoding = 'utf-8') as f:\n",
    "    text = fh.read()\n",
    "    text = text.replace('、', '')\n",
    "    start = 0\n",
    "    end = 0\n",
    "    A = []\n",
    "    while end < len(text):\n",
    "        if text[end] == '\\n':\n",
    "            A.append(text[start:end])\n",
    "            start = end + 1\n",
    "        end += 1\n",
    "    print(A)\n",
    "\n",
    "#4.b\n",
    "def fourb(A):\n",
    "    A2 = Counter()\n",
    "    \n",
    "    with open(test_re_gbk) as f:\n",
    "        for line in f:\n",
    "            A2.update([word.split('/')[0] for word in line.split()])\n",
    "    return A2\n",
    "    table = fourb(A)\n",
    "    print(table.most_common(20))\n",
    "\n",
    "#4.c\n",
    "\n",
    "def fourc(test_re_gbk):\n",
    "    allwords = Counter()\n",
    "    with open(test_re_gbk) as f:\n",
    "        for line in f:\n",
    "            allwords.update([word.split('/')[0] for word in line.split()])\n",
    "    return allwords\n",
    "\n",
    "#4.d\n",
    "print(nr)\n",
    "\n",
    "#4.e\n",
    "ch_table = defaultdict(int)\n",
    "for word, freq in word_table.items():\n",
    "    for ch in word:\n",
    "        ch_table[ch] += freq\n",
    "\n",
    "for ch, freq in ch_table.items():\n",
    "    print(ch, freq, sep=':', end='|')\n",
    "    \n",
    "foura()\n",
    "fourb(A)\n",
    "fourc(test_re_gbk)\n"
   ]
  },
  {
   "cell_type": "code",
   "execution_count": null,
   "metadata": {
    "collapsed": true
   },
   "outputs": [],
   "source": []
  }
 ],
 "metadata": {
  "kernelspec": {
   "display_name": "Python 3",
   "language": "python",
   "name": "python3"
  },
  "language_info": {
   "codemirror_mode": {
    "name": "ipython",
    "version": 3
   },
   "file_extension": ".py",
   "mimetype": "text/x-python",
   "name": "python",
   "nbconvert_exporter": "python",
   "pygments_lexer": "ipython3",
   "version": "3.6.2"
  }
 },
 "nbformat": 4,
 "nbformat_minor": 2
}
