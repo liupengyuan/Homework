{
 "cells": [
  {
   "cell_type": "code",
   "execution_count": 11,
   "metadata": {},
   "outputs": [
    {
     "name": "stdout",
     "output_type": "stream",
     "text": [
      "请输入列表所含元素的数目，以回车结束：5\n",
      "请输入一个元素，回车结束。9\n",
      "请输入一个元素，回车结束。8\n",
      "请输入一个元素，回车结束。7\n",
      "请输入一个元素，回车结束。5\n",
      "请输入一个元素，回车结束。6\n",
      "请输入需要返回的数字位数,以回车结束：3\n",
      "第3位数是：7\n"
     ]
    }
   ],
   "source": [
    "#练习3\n",
    "\n",
    "#函数\n",
    "def A():\n",
    "    hey = []\n",
    "    n = int(input('请输入列表所含元素的数目，以回车结束：'))\n",
    "    i = 0\n",
    "    while i < n:\n",
    "        hi = input('请输入一个元素，回车结束。')\n",
    "        hey.append(hi)\n",
    "        i += 1\n",
    "    \n",
    "    x = int(input('请输入需要返回的数字位数,以回车结束：'))\n",
    "    if x <= n :\n",
    "        print('第',x,'位数是：',hey[x-1],sep = '')\n",
    "    else :\n",
    "        print('第',x,'位数是：',-1,sep = '')\n",
    "        \n",
    "#程序\n",
    "A()"
   ]
  },
  {
   "cell_type": "code",
   "execution_count": 7,
   "metadata": {},
   "outputs": [
    {
     "name": "stdout",
     "output_type": "stream",
     "text": [
      "请输入列表所含元素的数目，以回车结束：2\n",
      "请输入第一个列表一个元素，回车结束。1\n",
      "请输入第一个列表一个元素，回车结束。4\n",
      "请输入第二个列表一个元素，回车结束。3\n",
      "请输入第二个列表一个元素，回车结束。6\n",
      "1\n",
      "3\n",
      "6\n",
      "4\n",
      "3\n",
      "6\n"
     ]
    }
   ],
   "source": [
    "#练习4\n",
    "\n",
    "#函数\n",
    "def B():\n",
    "    n = int(input('请输入列表所含元素的数目，以回车结束：'))\n",
    "    \n",
    "    b1 = []\n",
    "    i = 0\n",
    "    while i < n:\n",
    "        hi = input('请输入第一个列表一个元素，回车结束。')\n",
    "        b1.append(hi)\n",
    "        i += 1\n",
    "        \n",
    "    b2 = []\n",
    "    i = 0\n",
    "    while i < n:\n",
    "        hi = input('请输入第二个列表一个元素，回车结束。')\n",
    "        b2.append(hi)\n",
    "        i += 1\n",
    "    \n",
    "    b3 = []\n",
    "    for x in b1:\n",
    "        b3.append(x)\n",
    "        for x in b2:\n",
    "            b3.append(x)\n",
    "            if x == 1:\n",
    "                break\n",
    "\n",
    "    for x in b3:\n",
    "        print(x)       \n",
    "\n",
    "#程序\n",
    "B()"
   ]
  },
  {
   "cell_type": "code",
   "execution_count": 10,
   "metadata": {},
   "outputs": [
    {
     "name": "stdout",
     "output_type": "stream",
     "text": [
      "请分别输入第一个向量的x,y值，回车结束。2\n",
      "请分别输入第一个向量的x,y值，回车结束。2\n",
      "请分别输入第一个向量的x,y值，回车结束。0\n",
      "请分别输入第一个向量的x,y值，回车结束。2\n",
      "余弦值为： 0.5\n"
     ]
    }
   ],
   "source": [
    "#练习5\n",
    "\n",
    "#函数\n",
    "def A():\n",
    "    a1 = []\n",
    "    i = 0\n",
    "    while i < 2:\n",
    "        a11 = int(input('请分别输入第一个向量的x,y值，回车结束。'))\n",
    "        a1.append(a11)\n",
    "        i += 1\n",
    "        \n",
    "    a2 = []\n",
    "    i = 0\n",
    "    while i < 2:\n",
    "        a21 = int(input('请分别输入第一个向量的x,y值，回车结束。'))\n",
    "        a2.append(a21)\n",
    "        i += 1\n",
    "        \n",
    "    print('余弦值为：',(a1[0]*a2[0]+a1[1]*a2[1])/(((a1[0]**2+a1[1]**2)**1/2)*((a2[0]**2+a2[1]**2)**1/2)))\n",
    "    \n",
    "#程序\n",
    "A()"
   ]
  }
 ],
 "metadata": {
  "kernelspec": {
   "display_name": "Python 3",
   "language": "python",
   "name": "python3"
  },
  "language_info": {
   "codemirror_mode": {
    "name": "ipython",
    "version": 3
   },
   "file_extension": ".py",
   "mimetype": "text/x-python",
   "name": "python",
   "nbconvert_exporter": "python",
   "pygments_lexer": "ipython3",
   "version": "3.6.2"
  }
 },
 "nbformat": 4,
 "nbformat_minor": 2
}
