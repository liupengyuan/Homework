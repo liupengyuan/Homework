{
 "cells": [
  {
   "cell_type": "code",
   "execution_count": 19,
   "metadata": {
    "collapsed": false
   },
   "outputs": [
    {
     "name": "stdout",
     "output_type": "stream",
     "text": [
      "最大值为： 899\n",
      "最小值为： -10.0\n",
      "平均值为： 106.72999999999999\n"
     ]
    }
   ],
   "source": [
    "#课堂练习\n",
    "\n",
    "#函数\n",
    "def cuc(n,nums):\n",
    "\n",
    "    \n",
    "    for i in range(0,len(nums)):\n",
    "        for j in range(i+1,len(nums)):\n",
    "            f = float(nums[i])\n",
    "            s = float(nums[j])\n",
    "            if f < s :\n",
    "                nums[i] = nums[j]\n",
    "                nums[j] = f\n",
    "    print('最大值为：',nums[0])\n",
    "    \n",
    "    for i in range(0,len(nums)):\n",
    "        for j in range(i+1,len(nums)):\n",
    "            f = float(nums[i])\n",
    "            s = float(nums[j])\n",
    "            if f > s :\n",
    "                nums[i] = nums[j]\n",
    "                nums[j] = f\n",
    "    print('最小值为：',nums[0])\n",
    "    \n",
    "    total=0\n",
    "    for num in nums:\n",
    "        total = total+num\n",
    "    total = total/n\n",
    "    print('平均值为：',total)\n",
    "\n",
    "#主干\n",
    "nums=[1,2,-1,55,100,899,-10,3,12.5,5.8]\n",
    "n=10\n",
    "cuc(n,nums)"
   ]
  },
  {
   "cell_type": "code",
   "execution_count": null,
   "metadata": {
    "collapsed": true
   },
   "outputs": [],
   "source": []
  }
 ],
 "metadata": {
  "kernelspec": {
   "display_name": "Python 3",
   "language": "python",
   "name": "python3"
  },
  "language_info": {
   "codemirror_mode": {
    "name": "ipython",
    "version": 3
   },
   "file_extension": ".py",
   "mimetype": "text/x-python",
   "name": "python",
   "nbconvert_exporter": "python",
   "pygments_lexer": "ipython3",
   "version": "3.6.0"
  }
 },
 "nbformat": 4,
 "nbformat_minor": 2
}
