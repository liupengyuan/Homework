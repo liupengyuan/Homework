{
 "cells": [
  {
   "cell_type": "code",
   "execution_count": 6,
   "metadata": {},
   "outputs": [
    {
     "name": "stdout",
     "output_type": "stream",
     "text": [
      "enter the\"m\":4\n"
     ]
    },
    {
     "data": {
      "text/plain": [
       "20"
      ]
     },
     "execution_count": 6,
     "metadata": {},
     "output_type": "execute_result"
    }
   ],
   "source": [
    "#test 1\n",
    "\n",
    "def one(m):\n",
    "    total1 = 0\n",
    "    total2 = 0\n",
    "    for i in range(m+1):\n",
    "        total1 += i\n",
    "        total2 += total1\n",
    "        \n",
    "    return total2\n",
    "\n",
    "m = int(input('enter the\"m\":'))\n",
    "one(m)"
   ]
  },
  {
   "cell_type": "code",
   "execution_count": 12,
   "metadata": {},
   "outputs": [
    {
     "name": "stdout",
     "output_type": "stream",
     "text": [
      "enter the symbol:@\n",
      "enter the number of lines:3\n",
      "['@']\n",
      "['@', '@']\n",
      "['@', '@', '@']\n"
     ]
    }
   ],
   "source": [
    "#test 2\n",
    "\n",
    "def two(x,y):\n",
    "    list = []\n",
    "    for i in range(y):\n",
    "        list.append(x)\n",
    "        print(list)\n",
    "        \n",
    "x = input('enter the symbol:')\n",
    "y = int(input('enter the number of lines:'))\n",
    "two(x,y)"
   ]
  },
  {
   "cell_type": "code",
   "execution_count": 13,
   "metadata": {},
   "outputs": [
    {
     "name": "stdout",
     "output_type": "stream",
     "text": [
      "enter the number:457\n"
     ]
    },
    {
     "ename": "AttributeError",
     "evalue": "'int' object has no attribute 'startwith'",
     "output_type": "error",
     "traceback": [
      "\u001b[1;31m---------------------------------------------------------------------------\u001b[0m",
      "\u001b[1;31mAttributeError\u001b[0m                            Traceback (most recent call last)",
      "\u001b[1;32m<ipython-input-13-20887b205fe1>\u001b[0m in \u001b[0;36m<module>\u001b[1;34m()\u001b[0m\n\u001b[0;32m      9\u001b[0m \u001b[1;33m\u001b[0m\u001b[0m\n\u001b[0;32m     10\u001b[0m \u001b[0mx\u001b[0m \u001b[1;33m=\u001b[0m \u001b[0mint\u001b[0m\u001b[1;33m(\u001b[0m\u001b[0minput\u001b[0m\u001b[1;33m(\u001b[0m\u001b[1;34m'enter the number:'\u001b[0m\u001b[1;33m)\u001b[0m\u001b[1;33m)\u001b[0m\u001b[1;33m\u001b[0m\u001b[0m\n\u001b[1;32m---> 11\u001b[1;33m \u001b[0mthree\u001b[0m\u001b[1;33m(\u001b[0m\u001b[0mx\u001b[0m\u001b[1;33m)\u001b[0m\u001b[1;33m\u001b[0m\u001b[0m\n\u001b[0m",
      "\u001b[1;32m<ipython-input-13-20887b205fe1>\u001b[0m in \u001b[0;36mthree\u001b[1;34m(x)\u001b[0m\n\u001b[0;32m      4\u001b[0m     \u001b[0mi\u001b[0m \u001b[1;33m=\u001b[0m \u001b[1;36m1\u001b[0m\u001b[1;33m\u001b[0m\u001b[0m\n\u001b[0;32m      5\u001b[0m     \u001b[1;32mwhile\u001b[0m \u001b[0mi\u001b[0m \u001b[1;33m<=\u001b[0m \u001b[1;36m9\u001b[0m\u001b[1;33m:\u001b[0m\u001b[1;33m\u001b[0m\u001b[0m\n\u001b[1;32m----> 6\u001b[1;33m         \u001b[1;32mif\u001b[0m \u001b[0mx\u001b[0m\u001b[1;33m.\u001b[0m\u001b[0mstartwith\u001b[0m\u001b[1;33m(\u001b[0m\u001b[0mi\u001b[0m\u001b[1;33m)\u001b[0m\u001b[1;33m:\u001b[0m\u001b[1;33m\u001b[0m\u001b[0m\n\u001b[0m\u001b[0;32m      7\u001b[0m             \u001b[0mprint\u001b[0m\u001b[1;33m(\u001b[0m\u001b[0mi\u001b[0m\u001b[1;33m)\u001b[0m\u001b[1;33m\u001b[0m\u001b[0m\n\u001b[0;32m      8\u001b[0m         \u001b[0mi\u001b[0m \u001b[1;33m+=\u001b[0m \u001b[1;36m1\u001b[0m\u001b[1;33m\u001b[0m\u001b[0m\n",
      "\u001b[1;31mAttributeError\u001b[0m: 'int' object has no attribute 'startwith'"
     ]
    }
   ],
   "source": [
    "#test 3\n",
    "\n",
    "def three(x):\n",
    "    i = 1\n",
    "    while i <= 9:\n",
    "        if x.startwith(i):\n",
    "            print(i)\n",
    "        i += 1\n",
    "    \n",
    "x = int(input('enter the number:'))\n",
    "three(x)"
   ]
  },
  {
   "cell_type": "code",
   "execution_count": 1,
   "metadata": {},
   "outputs": [
    {
     "name": "stdout",
     "output_type": "stream",
     "text": [
      "enter the number of members:9\n",
      "enter a members height:183\n",
      "enter a members height:185\n",
      "enter a members height:183\n",
      "enter a members height:187\n",
      "enter a members height:178\n",
      "enter a members height:175\n",
      "enter a members height:177\n",
      "enter a members height:190\n",
      "enter a members height:172\n",
      "181.11111111111111\n",
      "183\n",
      "185\n",
      "183\n",
      "187\n",
      "190\n"
     ]
    }
   ],
   "source": [
    "#test 4\n",
    "\n",
    "def four(n):\n",
    "    i = 0\n",
    "    list = []\n",
    "    while i < n:\n",
    "        x = int(input('enter a members height:'))\n",
    "        list.append(x)\n",
    "        i = i+1\n",
    "    total = 0\n",
    "    for y in list:\n",
    "        total += y\n",
    "    print(total/len(list))\n",
    "    for y in list:\n",
    "        if y >= (total/len(list)):\n",
    "            print(y)\n",
    "\n",
    "n = int(input('enter the number of members:'))\n",
    "four(n)"
   ]
  },
  {
   "cell_type": "code",
   "execution_count": 2,
   "metadata": {},
   "outputs": [
    {
     "name": "stdout",
     "output_type": "stream",
     "text": [
      "3 + 10 =?\n",
      "enter the answer of it:13\n",
      "10 + 4 =?\n",
      "enter the answer of it:14\n",
      "8 + 4 =?\n",
      "enter the answer of it:12\n",
      "1 + 3 =?\n",
      "enter the answer of it:4\n",
      "6 + 5 =?\n",
      "enter the answer of it:11\n"
     ]
    },
    {
     "data": {
      "text/plain": [
       "100"
      ]
     },
     "execution_count": 2,
     "metadata": {},
     "output_type": "execute_result"
    }
   ],
   "source": [
    "#test 5\n",
    "\n",
    "import random\n",
    "\n",
    "def five():\n",
    "    i = 1\n",
    "    total = 0\n",
    "    while i <= 5:\n",
    "        x = random.randint(1,10)\n",
    "        y = random.randint(1,10)\n",
    "        print(x,'+',y,'=?')\n",
    "        ans = int(input('enter the answer of it:'))\n",
    "        ans_true = x+y\n",
    "        if ans == ans_true:\n",
    "            total += 20\n",
    "        i += 1\n",
    "    return total\n",
    "\n",
    "five()"
   ]
  },
  {
   "cell_type": "code",
   "execution_count": 8,
   "metadata": {},
   "outputs": [
    {
     "name": "stdout",
     "output_type": "stream",
     "text": [
      "3 88\n",
      "[88, -5, 9, 108, 34, -76, 3]\n"
     ]
    }
   ],
   "source": [
    "#test 6\n",
    "\n",
    "def six(list):\n",
    "    list2 = []\n",
    "    for i in list:\n",
    "        min_i = list[0]\n",
    "        max_i = list[0]\n",
    "        if min_i > i:\n",
    "            min_i = i\n",
    "        if max_i < i:\n",
    "            max_i = i\n",
    "    print(min_i,max_i)\n",
    "    list2.append(max_i)\n",
    "    for i in list:\n",
    "        if i != min_i and i != max_i:\n",
    "            list2.append(i)\n",
    "    list2.append(min_i)\n",
    "    print(list2)\n",
    "    \n",
    "list = [3,-5,9,108,34,-76,88]\n",
    "six(list)"
   ]
  }
 ],
 "metadata": {
  "kernelspec": {
   "display_name": "Python 3",
   "language": "python",
   "name": "python3"
  },
  "language_info": {
   "codemirror_mode": {
    "name": "ipython",
    "version": 3
   },
   "file_extension": ".py",
   "mimetype": "text/x-python",
   "name": "python",
   "nbconvert_exporter": "python",
   "pygments_lexer": "ipython3",
   "version": "3.6.2"
  }
 },
 "nbformat": 4,
 "nbformat_minor": 2
}
