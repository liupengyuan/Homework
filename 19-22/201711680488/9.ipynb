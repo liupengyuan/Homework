{
 "cells": [
  {
   "cell_type": "code",
   "execution_count": 41,
   "metadata": {},
   "outputs": [
    {
     "ename": "IndentationError",
     "evalue": "expected an indented block (<ipython-input-41-eb55e660153f>, line 18)",
     "output_type": "error",
     "traceback": [
      "\u001b[1;36m  File \u001b[1;32m\"<ipython-input-41-eb55e660153f>\"\u001b[1;36m, line \u001b[1;32m18\u001b[0m\n\u001b[1;33m    word_freq_pairs = []\u001b[0m\n\u001b[1;37m                  ^\u001b[0m\n\u001b[1;31mIndentationError\u001b[0m\u001b[1;31m:\u001b[0m expected an indented block\n"
     ]
    }
   ],
   "source": [
    "import random bisect time\n",
    "\n",
    "\n",
    "\n",
    "word=[]\n",
    "for i in range(0,10001):\n",
    "    word.append(i)\n",
    "A=word\n",
    "print(A)\n",
    "\n",
    "\n",
    "from random import randint\n",
    "l=[randint(1,10000) for i in range(1000)]\n",
    "print(l)\n",
    "\n",
    "def count_words_freq(text, words):\n",
    "    with open(words) as f:   \n",
    "    word_freq_pairs = []\n",
    "    linenum = 0\n",
    "    total_line_number = 0 \n",
    "    print('总行数为：', total_line_number)\n",
    "        \n",
    "    for word in words:\n",
    "        total_line_number += 1\n",
    "        print('总行数为：', total_line_number)\n",
    "    f.seek(0)   \n",
    "    start_time = time.time()\n",
    "    \n",
    "    number = text.count(word)\n",
    "    word_freq_pairs.append([word, number]) \n",
    "   \n",
    "    \n",
    "    for word in words:\n",
    "        if linenum % 1000 == 0:\n",
    "            end_time = time.time()\n",
    "            print('...当前已经处理到第{}行...已经处理了{:.2f}秒...'.format(linenum, end_time - start_time))\n",
    "                \n",
    "        linenum += 1    \n",
    "    return word_freq_pairs\n",
    "count_words_freq(A, l)\n",
    "\n",
    "B=random.shuffle(A)\n",
    "print(bisect.bisect_left(B, l))\n"
   ]
  }
 ],
 "metadata": {
  "kernelspec": {
   "display_name": "Python 3",
   "language": "python",
   "name": "python3"
  },
  "language_info": {
   "codemirror_mode": {
    "name": "ipython",
    "version": 3
   },
   "file_extension": ".py",
   "mimetype": "text/x-python",
   "name": "python",
   "nbconvert_exporter": "python",
   "pygments_lexer": "ipython3",
   "version": "3.6.3"
  }
 },
 "nbformat": 4,
 "nbformat_minor": 2
}
