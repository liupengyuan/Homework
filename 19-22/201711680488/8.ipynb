{
 "cells": [
  {
   "cell_type": "code",
   "execution_count": null,
   "metadata": {},
   "outputs": [
    {
     "name": "stdout",
     "output_type": "stream",
     "text": [
      "无为而治\n",
      "计算机随机选出的成语为： 无为而治\n"
     ]
    }
   ],
   "source": [
    "import random\n",
    "fh = open(r'c:\\temp\\成语大全.txt')\n",
    "\n",
    "text = fh.read()\n",
    "text = text.replace('、', '')\n",
    "idioms = text.split()\n",
    "idiom = random.choice(idioms)\n",
    "\n",
    "print(idiom)\n",
    "print('计算机随机选出的成语为：',idiom)\n",
    "\n",
    "i=1\n",
    "a=0\n",
    "\n",
    "score_m=0\n",
    "score_c=0\n",
    "\n",
    "while i>0:\n",
    "    if a==0:\n",
    "        idiom_m=input('请输入你所接的成语：')\n",
    "        idiom_m=list(idiom_me)\n",
    "        if idiom_m[0]==text[3]:\n",
    "            score_m+=10\n",
    "            print('你的得分为:',score_m)\n",
    "            a=1\n",
    "            i+=1\n",
    "        else:\n",
    "            print('挑战失败')\n",
    "            break\n",
    "    elif a==1:\n",
    "        for idiom_c in idioms:\n",
    "            if idiom_c[0]==idiom_m[3]:\n",
    "                print('计算机所接的成语为:',idiom_c)\n",
    "                score_computer+=10\n",
    "                print('计算机的得分为:',score_c)\n",
    "                text=idiom_c\n",
    "                a=0\n",
    "                i+=1\n",
    "                break\n",
    "\n",
    "print('你的总成绩为：',score_m,'分',sep='')\n",
    "print('计算机的总成绩为：',score_c,'分',sep='')\n",
    "\n",
    "if score_m>score_c:\n",
    "    print('你赢了')\n",
    "    win()\n",
    "elif score_m<score_c:\n",
    "    print('计算机赢了')\n",
    "    lose()\n",
    "else:\n",
    "    print('平局')\n",
    "\n",
    "fh.close()\n"
   ]
  }
 ],
 "metadata": {
  "kernelspec": {
   "display_name": "Python 3",
   "language": "python",
   "name": "python3"
  },
  "language_info": {
   "codemirror_mode": {
    "name": "ipython",
    "version": 3
   },
   "file_extension": ".py",
   "mimetype": "text/x-python",
   "name": "python",
   "nbconvert_exporter": "python",
   "pygments_lexer": "ipython3",
   "version": "3.6.3"
  }
 },
 "nbformat": 4,
 "nbformat_minor": 2
}
