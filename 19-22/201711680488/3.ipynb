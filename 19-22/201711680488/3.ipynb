{
 "cells": [
  {
   "cell_type": "code",
   "execution_count": 1,
   "metadata": {},
   "outputs": [
    {
     "name": "stdout",
     "output_type": "stream",
     "text": [
      "请输入你的姓名,以回车结束。彭佩涵\n",
      "hello 彭佩涵\n",
      "请输入你的出生月份，以回车结束。12\n",
      "请输入你的出生日期，以回车结束。7\n",
      "彭佩涵 你是非常有性格的射手座！\n"
     ]
    }
   ],
   "source": [
    "#练习 1：写程序，可由键盘读入用户姓名例如Mr. right，让用户输入出生的月份与日期，判断用户星座，\n",
    "#假设用户是金牛座，则输出，Mr. right，你是非常有性格的金牛座！。\n",
    "name=input('请输入你的姓名,以回车结束。')\n",
    "print('hello',name)\n",
    "n=int(input('请输入你的出生月份，以回车结束。'))\n",
    "m=int(input('请输入你的出生日期，以回车结束。'))\n",
    "if 2<n<4 and 20<m<32:\n",
    "    print(name,'你是非常有性格的白羊座！')\n",
    "elif 3<n<5 and 0<m<20:   \n",
    "    print(name,'你是非常有性格的白羊座！')\n",
    "elif 3<n<6 and 0<m<21:\n",
    "    print(name,'你是非常有性格的金牛座！')\n",
    "elif 4<n<7 and 0<m<22:   \n",
    "    print(name,'你是非常有性格的双子座！')\n",
    "elif 5<n<8 and 0<m<23:\n",
    "    print(name,'你是非常有性格的巨蟹座！')\n",
    "elif 6<n<8 and 0<m<24:   \n",
    "    print(name,'你是非常有性格的狮子座！')\n",
    "elif 7<n<9 and 0<m<23:\n",
    "    print(name,'你是非常有性格的狮子座！')\n",
    "elif 7<n<9 and 0<m<24:   \n",
    "    print(name,'你是非常有性格的处女座！')\n",
    "elif 8<n<10 and 0<m<23:\n",
    "    print(name,'你是非常有性格的处女座！')\n",
    "elif 8<n<11 and 0<m<24:   \n",
    "    print(name,'你是非常有性格的天枰座！')\n",
    "elif 9<n<11 and 0<m<25:\n",
    "    print(name,'你是非常有性格的天蝎座！')\n",
    "elif 10<n<12 and 0<m<23:   \n",
    "    print(name,'你是非常有性格的天蝎座！')\n",
    "elif 10<n<12 and 0<m<24:\n",
    "    print(name,'你是非常有性格的射手座！')\n",
    "elif 11<n<13 and 0<m<22:   \n",
    "    print(name,'你是非常有性格的射手座！')\n",
    "elif 11<n<13 and 0<m<23:\n",
    "    print(name,'你是非常有性格的摩羯座！')\n",
    "elif 0<n<2 and 0<m<20:   \n",
    "    print(name,'你是非常有性格的摩羯座！')\n",
    "elif 0<n<2 and 0<m<21:\n",
    "    print(name,'你是非常有性格的水瓶座！')\n",
    "elif 1<n<3 and 0<m<19:   \n",
    "    print(name,'你是非常有性格的水瓶座！')\n",
    "elif 1<n<3 and 0<m<20:\n",
    "    print(name,'你是非常有性格的双鱼座！')\n",
    "elif 2<n<4 and 0<m<21:   \n",
    "    print(name,'你是非常有性格的双鱼座！')\n",
    "                                "
   ]
  },
  {
   "cell_type": "code",
   "execution_count": 2,
   "metadata": {},
   "outputs": [
    {
     "name": "stdout",
     "output_type": "stream",
     "text": [
      "请输入一个整数，以回车结束。5\n",
      "请输入一个非零整数，以回车结束。6\n",
      "请输入1到4之间的一个整数,1代表m+n,2代表m*n，3代表m除以n的余数，4代表m整除n的值4\n",
      "1\n"
     ]
    }
   ],
   "source": [
    "#练习 2：写程序，可由键盘读入两个整数m与n(n不等于0)，询问用户意图，\n",
    "#如果要求和则计算从m到n的和输出，如果要乘积则计算从m到n的积并输出，如果要求余数则计算m除以n的余数的值并输出，否则则计算m整除n的值并输出。\n",
    "n=int(input('请输入一个整数，以回车结束。'))\n",
    "m=int(input('请输入一个非零整数，以回车结束。'))\n",
    "i=int(input(\"请输入1到4之间的一个整数,1代表m+n,2代表m*n，3代表m除以n的余数，4代表m整除n的值\"))\n",
    "if i==1:\n",
    "    print(m+n)\n",
    "elif i==2:\n",
    "    print(m*n)\n",
    "elif i==3:\n",
    "    print(m%n)\n",
    "elif i==4:\n",
    "    print(m//n)"
   ]
  },
  {
   "cell_type": "code",
   "execution_count": 3,
   "metadata": {},
   "outputs": [
    {
     "name": "stdout",
     "output_type": "stream",
     "text": [
      "请输入一个英语名词单数，以回车结束。fish\n",
      "fish es\n"
     ]
    }
   ],
   "source": [
    "#练习 4：英文单词单数转复数，要求输入一个英文动词（单数形式），能够得到其复数形式，\n",
    "#或给出单数转复数形式的建议（提示，some_string.endswith(some_letter)函数可以判断某字符串结尾字符，可尝试运行：\n",
    "#'myname'.endswith('me')，liupengyuan'.endswith('n')）。\n",
    "m=input('请输入一个英语名词单数，以回车结束。')\n",
    "\n",
    "if m.endswith('ch'):\n",
    "    print(m,'es')\n",
    "elif m.endswith('sh'):\n",
    "    print(m,'es')\n",
    "elif m.endwith('s'):\n",
    "    print(m,'es')\n",
    "elif m.endswith('x'):\n",
    "    print(m,'es')\n",
    "else:\n",
    "    print(m,'s')"
   ]
  },
  {
   "cell_type": "code",
   "execution_count": 4,
   "metadata": {},
   "outputs": [
    {
     "name": "stdout",
     "output_type": "stream",
     "text": [
      "请输入显示的空行行数，以回车结束5\n",
      "\n",
      "\n",
      "\n",
      "\n",
      "\n",
      "\n"
     ]
    }
   ],
   "source": [
    "#尝试性练习：写程序，能够在屏幕上显示空行。\n",
    "x=int(input('请输入显示的空行行数，以回车结束'))\n",
    "print('\\n'*x)"
   ]
  }
 ],
 "metadata": {
  "kernelspec": {
   "display_name": "Python 3",
   "language": "python",
   "name": "python3"
  },
  "language_info": {
   "codemirror_mode": {
    "name": "ipython",
    "version": 3
   },
   "file_extension": ".py",
   "mimetype": "text/x-python",
   "name": "python",
   "nbconvert_exporter": "python",
   "pygments_lexer": "ipython3",
   "version": "3.6.3"
  }
 },
 "nbformat": 4,
 "nbformat_minor": 2
}
