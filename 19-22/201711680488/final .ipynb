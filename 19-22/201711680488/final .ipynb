{
 "cells": [
  {
   "cell_type": "code",
   "execution_count": 15,
   "metadata": {
    "collapsed": false
   },
   "outputs": [
    {
     "name": "stdout",
     "output_type": "stream",
     "text": [
      "         * ***** *\n",
      "       * * ***** * *\n",
      "     * * * ***** * * *\n",
      "   * * * * ***** * * * *\n",
      " * * * * * ***** * * * * *\n"
     ]
    }
   ],
   "source": [
    "#1、（10 分）写函数，有两个形式参数: 符号和行数，可打印多行字符图形。如\n",
    "#主程序给定：‘*’，5, 调用该函数，可打印相应行数的如下图形。\n",
    "def figure(sym,num):\n",
    "    for i in range(1, num+1):\n",
    "        print(' '*(num-i)*2+(' '+sym)*i+' '+sym*num+(' '+sym)*i)\n",
    "\n",
    "figure('*',5)"
   ]
  },
  {
   "cell_type": "code",
   "execution_count": 1,
   "metadata": {
    "collapsed": false
   },
   "outputs": [
    {
     "data": {
      "text/plain": [
       "1"
      ]
     },
     "execution_count": 1,
     "metadata": {},
     "output_type": "execute_result"
    }
   ],
   "source": [
    "#2、（10 分）Ackermann 函数定义如下，请实现该函数，并计算 A(3,4)。\n",
    "def Ackermann(m,n):\n",
    "    m=int()\n",
    "    n=int()\n",
    "    if m==0:\n",
    "        return n+1\n",
    "    elif m>0 and n==0:\n",
    "        return Ackermann(m-1,1)\n",
    "    elif m>0 and n>0:\n",
    "        return Ackermann(m-1,Ackermann(m,n-1))\n",
    "\n",
    "Ackermann(3,4)    "
   ]
  },
  {
   "cell_type": "code",
   "execution_count": null,
   "metadata": {
    "collapsed": true
   },
   "outputs": [],
   "source": [
    "#3、某小学一年级期末考试，请你编程随机出 n 道四则运算题目，每题只有两个\n",
    "#数字和一个运算符号，数字均为 a 到 b 之间的整数， 整数是随机的， 加减乘\n",
    "#除也是随机的，要保证每个题目的结果必须是正整数。"
   ]
  },
  {
   "cell_type": "code",
   "execution_count": 3,
   "metadata": {
    "collapsed": false
   },
   "outputs": [
    {
     "ename": "SyntaxError",
     "evalue": "invalid syntax (<ipython-input-3-5807c881005a>, line 11)",
     "output_type": "error",
     "traceback": [
      "\u001b[1;36m  File \u001b[1;32m\"<ipython-input-3-5807c881005a>\"\u001b[1;36m, line \u001b[1;32m11\u001b[0m\n\u001b[1;33m    if d>0 and d in range(0,a*b) is True:\u001b[0m\n\u001b[1;37m                                        ^\u001b[0m\n\u001b[1;31mSyntaxError\u001b[0m\u001b[1;31m:\u001b[0m invalid syntax\n"
     ]
    }
   ],
   "source": [
    "#（a）（15 分）打印所有题目，每行一道题（给定参数 n=15, a=3, b= 25）。\n",
    "import random\n",
    "\n",
    "def question(n,a,b):\n",
    "    for i in range(0,n):\n",
    "        num1=random.randint(a,b)\n",
    "        num2=random.randint(a,b)\n",
    "        sym=random.choice(['+','-','*','/'])\n",
    "        print(num1,sym,num2,'=')\n",
    "        d=int(input('请运算：')\n",
    "    if d>0 and d in range(0,a*b) is True:\n",
    "        return d\n",
    "    else:\n",
    "        return question(n,a,b)\n",
    "     \n",
    "            \n",
    "question(15,3,25)       \n",
    "    "
   ]
  },
  {
   "cell_type": "code",
   "execution_count": null,
   "metadata": {
    "collapsed": false
   },
   "outputs": [],
   "source": [
    "#（b）（10 分）用户键盘输入答案，答对一道加减法题目得 5 分，答对一道乘\n",
    "#除法题目得 10 分，答错不得分，程序自动计算并输出最终得分。限定用户一次\n",
    "#输入所有答案，逗号分隔，示意如下：12,34,22,....21\n",
    "import random\n",
    "\n",
    "def question(n,a,b):\n",
    "    score=0\n",
    "    for i in range(0,n):\n",
    "        num1=random.randint(a,b)\n",
    "        num2=random.randint(a,b)\n",
    "        sym=random.choice(['+','-','*','/'])\n",
    "        print(num1,sym,num2,'=')\n",
    "    d=int(input('请一次运算出所有上式的和，并一次输入所有答案，逗号分隔，示意如下：12,34,22,....21：'))\n",
    "    if d>0 and d in random.randint(0,a*b) is True:\n",
    "        return d\n",
    "    else:\n",
    "        return question(n,a,b)\n",
    "               \n",
    "    if sym=='*'or'/','num1,sym,num2,'=''is True:\n",
    "        score+=10\n",
    "        \n",
    "    elif sym=='+'or'-','num1,sym,num2,'=''is True:    \n",
    "         score+=5         \n",
    "    return score        \n",
    "question(15,3,25)       "
   ]
  },
  {
   "cell_type": "code",
   "execution_count": 2,
   "metadata": {
    "collapsed": false
   },
   "outputs": [
    {
     "ename": "SyntaxError",
     "evalue": "invalid syntax (<ipython-input-2-5b4f4b056d05>, line 14)",
     "output_type": "error",
     "traceback": [
      "\u001b[1;36m  File \u001b[1;32m\"<ipython-input-2-5b4f4b056d05>\"\u001b[1;36m, line \u001b[1;32m14\u001b[0m\n\u001b[1;33m    if sym=='*'or'/','num1,sym,num2,'=''is True:\u001b[0m\n\u001b[1;37m                    ^\u001b[0m\n\u001b[1;31mSyntaxError\u001b[0m\u001b[1;31m:\u001b[0m invalid syntax\n"
     ]
    }
   ],
   "source": [
    "#（c）（15 分）答题机器人，可以接受从键盘输入的 n 道四则运算题目（题目要\n",
    "#求与前类似，用户来出题），用户首先输入题目个数 n，然后用户每输入一个题\n",
    "#目，机器人将自动运算得出结果。n 道题输入完毕后，根据（b）中的分数规则，\n",
    "#计算总得分输出。令 n=10,四则运算都有，用户输入的题目格式示例为：5*14=\n",
    "def robot():\n",
    "    n=int(input('请用户输入题目个数：'))\n",
    "    for i in range(0,n):\n",
    "        print('请用户输入题目，每题只有两个数字和一个运算符号，数字均为 a 到 b 之间的整数， 整数是随机的， 加减乘除也是随机的，要保证每个题目的结果必须是正整数。')\n",
    "       \n",
    "        num1=int(input())\n",
    "        num2=int(input())\n",
    "        sym=int(input())\n",
    "        print(num1,sym,num2,'=')\n",
    "        if sym=='*'or'/','num1,sym,num2,'=''is True:\n",
    "            score+=10\n",
    "        \n",
    "        elif sym=='+'or'-','num1,sym,num2,'=''is True:    \n",
    "            score+=5         \n",
    "    return score        \n",
    "robot()    "
   ]
  },
  {
   "cell_type": "code",
   "execution_count": 4,
   "metadata": {
    "collapsed": false
   },
   "outputs": [
    {
     "name": "stdout",
     "output_type": "stream",
     "text": [
      "set()\n"
     ]
    }
   ],
   "source": [
    "#（a）（10 分）写程序，读入成语文件，并提取出所有四字成语，形成集合 A。\n",
    "#（由于成语文件编码为 utf-8 因此：用 with open (filename, encoding = 'utf-8') as f: 来打开文件，其中filename 是路径及文件全名。）\n",
    "filename=r'C:\\Users\\Administrator\\Downloads\\成语大全(含成语解释)_utf8.txt'\n",
    "word_table=set()\n",
    "with open (filename,encoding = 'utf-8') as f:\n",
    "    text = f.read()\n",
    "    fh=[]\n",
    "    for line in f:\n",
    "        fh.append([0,4])\n",
    "        \n",
    "    for line in fh:\n",
    "        word_table |= {word.split('/')[0] for word in line.split()}\n",
    "        \n",
    "        \n",
    "    print(word_table)\n"
   ]
  },
  {
   "cell_type": "code",
   "execution_count": 2,
   "metadata": {
    "collapsed": false
   },
   "outputs": [
    {
     "name": "stdout",
     "output_type": "stream",
     "text": [
      "望洋兴叹、 1\n",
      "琴棋书画、 1\n",
      "开源节流 1\n",
      "衣香鬓影、 1\n",
      "舍我其谁、 1\n",
      "贼眉鼠眼、 1\n",
      "风起云涌、 1\n",
      "红颜知己、 1\n",
      "鬼哭神嚎、 1\n",
      "谢天谢地、 1\n",
      "壮志凌云、 1\n",
      "胡服骑射、 1\n",
      "龙凤呈祥、 1\n",
      "玩世不恭、 1\n",
      "鹰击长空、 1\n",
      "焚膏继晷、 1\n",
      "男大当婚、 1\n",
      "行尸走肉、 1\n",
      "日日夜夜、 1\n",
      "无地自容、 1\n",
      "丑八怪、 1\n"
     ]
    }
   ],
   "source": [
    "#（b）（10 分）统计 A 中所有成语在语料库文件中出现的频次。输出频次最高\n",
    "#的 20 个成语及其频次。（如第一问没有做出，可用之前教程 8.md 中的成语库）\n",
    "from collections import Counter\n",
    " \n",
    "    \n",
    "def count_words_freq_dict(filename):\n",
    "    words_freq_dict = {}\n",
    "    words_freq_dict = Counter()\n",
    "    with open(filename) as f:\n",
    "        for line in f:\n",
    "            \n",
    "            words = [word.split('/')[0] for word in line.split()]\n",
    "            for word in words:\n",
    "                if word in words_freq_dict: \n",
    "                    words_freq_dict[word] += 1\n",
    "                else:                      \n",
    "                    words_freq_dict[word] = 1\n",
    "                    \n",
    "    return words_freq_dict\n",
    "\n",
    "#测试用\n",
    "\n",
    "filename = r'C:\\Users\\Administrator\\Downloads\\idioms.txt'\n",
    "table = count_words_freq_dict(filename)\n",
    "\n",
    "for i, item in enumerate(table):\n",
    "    print(item, table[item])\n",
    "    if i==20:\n",
    "        break                        "
   ]
  },
  {
   "cell_type": "code",
   "execution_count": 38,
   "metadata": {
    "collapsed": false
   },
   "outputs": [],
   "source": [
    "#（c）（5 分）统计语料库得到每个词类的词的总频次（如 ns 算一类，v 算一类..）\n",
    "#并输出到屏幕。\n",
    "big_list = [] #[[word,property],[...,..]...]\n",
    "word_table = set() #（word, word, ...）\n",
    "\n",
    "with open(r'C:\\Users\\Administrator\\Downloads\\test_re_gbk.txt') as f:\n",
    "    for line in f:\n",
    "        words = [word for word in line.split()]\n",
    "        word_table |= {word.split('/')[0] for word in line.split()}\n",
    "        for item in words:\n",
    "            word = []\n",
    "            word.append(item.split('/')[0])\n",
    "            word.append(item.split('/')[1])\n",
    "            big_list.append(word)\n",
    "        \n",
    "word_list = list(word_table)\n",
    "big_dict = {}\n",
    "\n",
    "for i in range(0, len(word_list)):\n",
    "    pro_count_dict = {}\n",
    "    for j in range(0, len(big_list)):\n",
    "        if word_list[i] == big_list[j][0]:\n",
    "            if big_list[j][1] in pro_count_dict:\n",
    "                pro_count_dict[big_list[j][1]] += 1\n",
    "            else:\n",
    "                pro_count_dict[big_list[j][1]] = 1\n",
    "    properties = (list(pro_count_dict.items()))\n",
    "    big_dict[word_list[i]] = properties\n",
    "\n",
    "\n",
    "words_freq_dict = {}\n",
    "with open(r'C:\\Users\\Administrator\\Downloads\\test_re_gbk.txt') as ff:\n",
    "    for line in ff:\n",
    "        words = [word.split('/')[0] for word in line.split()]\n",
    "        for word in words:\n",
    "            if word in words_freq_dict:\n",
    "                words_freq_dict[word] += 1\n",
    "            else:\n",
    "                words_freq_dict[word] = 1\n",
    "sorted_dict = sorted(words_freq_dict.items(), key = lambda item:item[1], reverse = True)\n",
    "sorted_list = sorted_dict[:50]\n",
    "small_words_list = []\n",
    "for item in sorted_list:\n",
    "    list_item = list(item)\n",
    "    small_words_list.append(list_item)\n",
    "\n",
    "\n",
    "small_dict = {}\n",
    "\n",
    "for item in small_words_list:\n",
    "    for key in big_dict.keys():\n",
    "        if item[0] == key:\n",
    "            small_dict[key] = big_dict[key]\n",
    "print(small_dict)\n",
    "\n",
    "\n",
    "\n",
    "\n",
    "filename = r'C:\\Users\\Administrator\\Downloads\\test_re_gbk.txt'\n",
    "table = count_words_freq_dict(filename)"
   ]
  },
  {
   "cell_type": "code",
   "execution_count": null,
   "metadata": {
    "collapsed": true
   },
   "outputs": [],
   "source": [
    "#（d）（5 分）统计语料库得到所有词类为 nr 的词（不重复），并输出到屏幕。\n"
   ]
  },
  {
   "cell_type": "code",
   "execution_count": 1,
   "metadata": {
    "collapsed": false
   },
   "outputs": [
    {
     "name": "stdout",
     "output_type": "stream",
     "text": [
      "760\n",
      "1250\n",
      "367589\n",
      "4039\n"
     ]
    }
   ],
   "source": [
    "#（e）（5 分）统计语料库及 A，得到词（成语）表及字表，打印语料库词表中\n",
    "#所有词的长度之和/语料库字表长度；打印 A 的所有词的长度之和/A 的字表长\n",
    "#度。（如第一问没有做出，可用之前教程 8.md 中的成语库）\n",
    "def get_ch_table(line):\n",
    "    ch_table = []\n",
    "    for ch in line:\n",
    "        if ch not in ch_table:\n",
    "            ch_table.append(ch)\n",
    "    return ch_table\n",
    "\n",
    "\n",
    "filename= r'C:\\Users\\Administrator\\Downloads\\idioms.txt'\n",
    "with open(filename) as fh:\n",
    "    text = fh.read()\n",
    "    text = text.replace('、', '')\n",
    "    idioms = text.split()\n",
    "       \n",
    "    chs = get_ch_table(text.replace('\\n', ''))\n",
    "print(len(idioms))\n",
    "print(len(chs))\n",
    "\n"
   ]
  }
 ],
 "metadata": {
  "kernelspec": {
   "display_name": "Python 3",
   "language": "python",
   "name": "python3"
  },
  "language_info": {
   "codemirror_mode": {
    "name": "ipython",
    "version": 3
   },
   "file_extension": ".py",
   "mimetype": "text/x-python",
   "name": "python",
   "nbconvert_exporter": "python",
   "pygments_lexer": "ipython3",
   "version": "3.4.3"
  }
 },
 "nbformat": 4,
 "nbformat_minor": 0
}
