{
 "cells": [
  {
   "cell_type": "code",
   "execution_count": 10,
   "metadata": {
    "collapsed": false
   },
   "outputs": [
    {
     "name": "stdout",
     "output_type": "stream",
     "text": [
      "请输入你想求和的项数3\n",
      "10\n"
     ]
    }
   ],
   "source": [
    "#1\n",
    "def sum():\n",
    "    m=int(input('请输入你想求和的项数'))\n",
    "    i=0\n",
    "    total2=0\n",
    "    k=1 \n",
    "    while i<m:\n",
    "        i+=1\n",
    "        total1=0\n",
    "        \n",
    "        k=k+1\n",
    "        for n in range(k):\n",
    "            total1+=n\n",
    "       \n",
    "        total2+=total1\n",
    "    return total2\n",
    "print(sum())"
   ]
  },
  {
   "cell_type": "code",
   "execution_count": null,
   "metadata": {
    "collapsed": false
   },
   "outputs": [],
   "source": [
    "#2\n",
    "def pic(f,h):       \n",
    "    f=*\n",
    "    h=5"
   ]
  },
  {
   "cell_type": "code",
   "execution_count": 4,
   "metadata": {
    "collapsed": false
   },
   "outputs": [
    {
     "name": "stdout",
     "output_type": "stream",
     "text": [
      "请输入任意正整数。48723478234432\n",
      "请输入你的正整数的位数。14\n",
      "请从前往后依次一个一个输入你的数字4\n",
      "请从前往后依次一个一个输入你的数字8\n",
      "请从前往后依次一个一个输入你的数字7\n",
      "请从前往后依次一个一个输入你的数字2\n",
      "请从前往后依次一个一个输入你的数字3\n",
      "请从前往后依次一个一个输入你的数字4\n",
      "请从前往后依次一个一个输入你的数字7\n",
      "请从前往后依次一个一个输入你的数字8\n",
      "请从前往后依次一个一个输入你的数字2\n",
      "请从前往后依次一个一个输入你的数字3\n",
      "请从前往后依次一个一个输入你的数字4\n",
      "请从前往后依次一个一个输入你的数字4\n",
      "请从前往后依次一个一个输入你的数字3\n",
      "请从前往后依次一个一个输入你的数字2\n"
     ]
    },
    {
     "data": {
      "text/plain": [
       "4"
      ]
     },
     "execution_count": 4,
     "metadata": {},
     "output_type": "execute_result"
    }
   ],
   "source": [
    "#3\n",
    "def first():\n",
    "    m=int(input('请输入任意正整数。'))\n",
    "    n=int(input('请输入你的正整数的位数。'))\n",
    "    list=[]\n",
    "    i=0\n",
    "    while i<n:\n",
    "        k=int(input('请从前往后依次一个一个输入你的数字'))\n",
    "        list.append(k)\n",
    "        i+=1\n",
    "    return list[0]\n",
    "first()"
   ]
  },
  {
   "cell_type": "code",
   "execution_count": 3,
   "metadata": {
    "collapsed": false
   },
   "outputs": [
    {
     "name": "stdout",
     "output_type": "stream",
     "text": [
      "队员人数9\n",
      "请依次输入身高数值，以厘米为单位183\n",
      "请依次输入身高数值，以厘米为单位185\n",
      "请依次输入身高数值，以厘米为单位183\n",
      "请依次输入身高数值，以厘米为单位187\n",
      "请依次输入身高数值，以厘米为单位178\n",
      "请依次输入身高数值，以厘米为单位175\n",
      "请依次输入身高数值，以厘米为单位177\n",
      "请依次输入身高数值，以厘米为单位190\n",
      "请依次输入身高数值，以厘米为单位172\n",
      "181.11111111111111 [183, 185, 183, 187, 190]\n"
     ]
    }
   ],
   "source": [
    "#4\n",
    "n=int(input('队员人数'))\n",
    "list=[]\n",
    "big=[]\n",
    "i=0\n",
    "total=0\n",
    "while i<n:\n",
    "    m=int(input('请依次输入身高数值，以厘米为单位'))\n",
    "    i+=1\n",
    "    list.append(m)\n",
    "for k in list:\n",
    "    total+=k\n",
    "a=total/n\n",
    "\n",
    "c=0\n",
    "b=0\n",
    "while c<n:\n",
    "    if list[b]>a:\n",
    "        big.append(list[b]) \n",
    "    c+=1\n",
    "    b+=1\n",
    "print(a,big)\n",
    "\n",
    "\n"
   ]
  },
  {
   "cell_type": "code",
   "execution_count": 1,
   "metadata": {
    "collapsed": false
   },
   "outputs": [
    {
     "name": "stdout",
     "output_type": "stream",
     "text": [
      "0\n",
      "3\n",
      " n1  +  n2 =\n",
      "计算上式结果3\n",
      "0\n",
      "7\n",
      " n1  +  n2 =\n",
      "计算上式结果7\n",
      "4\n",
      "4\n",
      " n1  +  n2 =\n",
      "计算上式结果8\n",
      "6\n",
      "2\n",
      " n1  +  n2 =\n",
      "计算上式结果8\n",
      "4\n",
      "7\n",
      " n1  +  n2 =\n",
      "计算上式结果11\n",
      "100\n"
     ]
    }
   ],
   "source": [
    "#5\n",
    "import random \n",
    "i=0\n",
    "s=0\n",
    "while i<5:\n",
    "    i+=1\n",
    "    n1=random.randint(0,10)\n",
    "    print(n1)\n",
    "    n2=random.randint(0,10)\n",
    "    print(n2)\n",
    "    h=int(n1+n2)\n",
    "    print( ' n1  +  n2 ='   )\n",
    "    a=int(input('计算上式结果'))\n",
    "    if a==h:\n",
    "        s+=20\n",
    "print(s)        "
   ]
  },
  {
   "cell_type": "code",
   "execution_count": 8,
   "metadata": {
    "collapsed": false
   },
   "outputs": [
    {
     "ename": "AttributeError",
     "evalue": "'builtin_function_or_method' object has no attribute 'list'",
     "output_type": "error",
     "traceback": [
      "\u001b[0;31m---------------------------------------------------------------------------\u001b[0m",
      "\u001b[0;31mAttributeError\u001b[0m                            Traceback (most recent call last)",
      "\u001b[0;32m<ipython-input-8-f620e4fa5d81>\u001b[0m in \u001b[0;36m<module>\u001b[0;34m()\u001b[0m\n\u001b[1;32m     20\u001b[0m     \u001b[0mlist\u001b[0m\u001b[1;33m[\u001b[0m\u001b[0mn\u001b[0m\u001b[1;33m]\u001b[0m\u001b[1;33m=\u001b[0m\u001b[0mmin\u001b[0m\u001b[1;33m\u001b[0m\u001b[0m\n\u001b[1;32m     21\u001b[0m     \u001b[1;32mreturn\u001b[0m \u001b[0mlist\u001b[0m\u001b[1;33m\u001b[0m\u001b[0m\n\u001b[0;32m---> 22\u001b[0;31m \u001b[0mlist\u001b[0m\u001b[1;33m(\u001b[0m\u001b[1;33m)\u001b[0m\u001b[1;33m\u001b[0m\u001b[0m\n\u001b[0m\u001b[1;32m     23\u001b[0m \u001b[1;33m\u001b[0m\u001b[0m\n",
      "\u001b[0;32m<ipython-input-8-f620e4fa5d81>\u001b[0m in \u001b[0;36mlist\u001b[0;34m()\u001b[0m\n\u001b[1;32m      4\u001b[0m     \u001b[0mi\u001b[0m\u001b[1;33m=\u001b[0m\u001b[1;36m0\u001b[0m\u001b[1;33m\u001b[0m\u001b[0m\n\u001b[1;32m      5\u001b[0m     \u001b[0mb\u001b[0m\u001b[1;33m=\u001b[0m\u001b[1;36m1\u001b[0m\u001b[1;33m\u001b[0m\u001b[0m\n\u001b[0;32m----> 6\u001b[0;31m     \u001b[0mn\u001b[0m\u001b[1;33m=\u001b[0m\u001b[0mlen\u001b[0m\u001b[1;33m.\u001b[0m\u001b[0mlist\u001b[0m\u001b[1;33m\u001b[0m\u001b[0m\n\u001b[0m\u001b[1;32m      7\u001b[0m     \u001b[0mmin\u001b[0m\u001b[1;33m=\u001b[0m\u001b[0mlist\u001b[0m\u001b[1;33m[\u001b[0m\u001b[1;36m0\u001b[0m\u001b[1;33m]\u001b[0m\u001b[1;33m\u001b[0m\u001b[0m\n\u001b[1;32m      8\u001b[0m     \u001b[0mmax\u001b[0m\u001b[1;33m=\u001b[0m\u001b[0mlist\u001b[0m\u001b[1;33m[\u001b[0m\u001b[0mn\u001b[0m\u001b[1;33m]\u001b[0m\u001b[1;33m\u001b[0m\u001b[0m\n",
      "\u001b[0;31mAttributeError\u001b[0m: 'builtin_function_or_method' object has no attribute 'list'"
     ]
    }
   ],
   "source": [
    "#6\n",
    "def list():\n",
    "    list=[3,-5,9,108,34,-76,88]\n",
    "    i=0\n",
    "    b=1\n",
    "    n=len.list\n",
    "    min=list[0]\n",
    "    max=list[n]\n",
    "    while i<n:\n",
    "        if list[b]<min :\n",
    "            min=list[b]\n",
    "            \n",
    "        elif list[b]>max:\n",
    "            max=list[b]\n",
    "            \n",
    "        else :\n",
    "            min=min\n",
    "            max=max\n",
    "    list[0]=max        \n",
    "    list[n]=min\n",
    "    return list\n",
    "list()\n",
    "\n"
   ]
  }
 ],
 "metadata": {
  "kernelspec": {
   "display_name": "Python 3",
   "language": "python",
   "name": "python3"
  },
  "language_info": {
   "codemirror_mode": {
    "name": "ipython",
    "version": 3
   },
   "file_extension": ".py",
   "mimetype": "text/x-python",
   "name": "python",
   "nbconvert_exporter": "python",
   "pygments_lexer": "ipython3",
   "version": "3.6.0"
  }
 },
 "nbformat": 4,
 "nbformat_minor": 2
}
