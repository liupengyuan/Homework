{
 "cells": [
  {
   "cell_type": "code",
   "execution_count": 2,
   "metadata": {},
   "outputs": [
    {
     "name": "stdout",
     "output_type": "stream",
     "text": [
      "请输入整数，以回车结束。1\n",
      "请输入整数，以回车结束。2\n",
      "请输入整数，以回车结束。3\n",
      "1 2 6\n"
     ]
    }
   ],
   "source": [
    "#仿照求$ \\sum_{i=1}^mi + \\sum_{i=1}^ni  + \\sum_{i=1}^ki$的完整代码，写程序，可求m!+n!+k!\n",
    "def compute_mul(end):\n",
    "    i=1\n",
    "    mul_n=i\n",
    "    \n",
    "    while i<end:\n",
    "        i=i+1\n",
    "        mul_n=mul_n*i\n",
    "        \n",
    "    return mul_n\n",
    "\n",
    "n=int(input('请输入整数，以回车结束。'))\n",
    "m=int(input('请输入整数，以回车结束。'))\n",
    "k=int(input('请输入整数，以回车结束。'))\n",
    "\n",
    "print(compute_mul(n) , compute_mul(m) , compute_mul(k))"
   ]
  },
  {
   "cell_type": "code",
   "execution_count": 22,
   "metadata": {},
   "outputs": [
    {
     "name": "stdout",
     "output_type": "stream",
     "text": [
      "-4.859407346160198 -4.858417346410116\n"
     ]
    }
   ],
   "source": [
    "#写函数可返回1 - 1/3 + 1/5 - 1/7...的前n项的和。在主程序中，分别令n=1000及100000，打印4倍该函数的和。\n",
    "def sum(m):\n",
    "    n=1\n",
    "    total=(-1)**n*n\n",
    "    while n<m:\n",
    "        n=n+1\n",
    "        total=total+(1/(2*n-1))*(-1)**(n-1)\n",
    "    return total \n",
    "print(4*sum(1000),4*sum(100000))"
   ]
  },
  {
   "cell_type": "code",
   "execution_count": 16,
   "metadata": {},
   "outputs": [
    {
     "name": "stdout",
     "output_type": "stream",
     "text": [
      "请输入您的姓名,以回车结束。mm\n",
      "请输入您的生日，如1.1，以回车结束。3.29\n",
      "mm 你是非常有性格的巨蟹座！\n"
     ]
    }
   ],
   "source": [
    "#将task3中的练习1及练习4改写为函数，并进行调用。\n",
    "def love(m):\n",
    "   \n",
    "    if 1.1<=m<=1.20:\n",
    "         print(n,'你是非常有性格的摩羯座！')\n",
    "    elif 1.21<=m<=2.19:\n",
    "         print(n,'你是非常有性格的水瓶座！')\n",
    "    elif 2.20<=m<=3.20:\n",
    "         print(n,'你是非常有性格的双鱼座！')\n",
    "    elif 3.21<=m<=4.20:\n",
    "         print(n,'你是非常有性格的白羊座！')\n",
    "    elif 4.21<=m<=5.21:\n",
    "        print(n,'你是非常有性格的金牛座！')\n",
    "    elif 5.22<=m<=6.21:\n",
    "        print(n,'你是非常有性格的双子座！')\n",
    "    elif 6.22<=m<=7.22:\n",
    "        print(n,'你是非常有性格的巨蟹座！')\n",
    "    elif 7.23<=m<=8.23:\n",
    "        print(n,'你是非常有性格的狮子座！')\n",
    "    elif 8.24<=m<=9.23:\n",
    "        print(n,'你是非常有性格的处女座！')\n",
    "    elif 9.24<=m<=10.23:\n",
    "        print(n,'你是非常有性格的天秤座！')\n",
    "    elif 10.24<=m<=11.22:\n",
    "        print(n,'你是非常有性格的天蝎座！')\n",
    "    elif 11.23<=m<=12.21:\n",
    "        print(n,'你是非常有性格的射手座！')\n",
    "    elif 12.22<=m<=12.30:\n",
    "        print(n,'你是非常有性格的摩羯座！')\n",
    "\n",
    "    \n",
    "\n",
    "n=input('请输入您的姓名,以回车结束。')\n",
    "m=float(input('请输入您的生日，如1.1，以回车结束。'))\n",
    "love(7)    "
   ]
  },
  {
   "cell_type": "code",
   "execution_count": 20,
   "metadata": {},
   "outputs": [
    {
     "name": "stdout",
     "output_type": "stream",
     "text": [
      "请输入一个英文单词，计算机将把它转换为复数形式,以回车结束。cat\n",
      "cats\n"
     ]
    }
   ],
   "source": [
    "def pl(word):\n",
    "   \n",
    "    if word.endswith(\"sh\"or\"ch\"or\"x\"):\n",
    "        print(word,\"es\",sep=\"\")\n",
    "   \n",
    "\n",
    "    else :\n",
    "        print(word,\"s\",sep=\"\")\n",
    "        \n",
    "        \n",
    "n = input(\"请输入一个英文单词，计算机将把它转换为复数形式,以回车结束。\")    \n",
    "pl(n)\n"
   ]
  },
  {
   "cell_type": "code",
   "execution_count": 13,
   "metadata": {},
   "outputs": [
    {
     "name": "stdout",
     "output_type": "stream",
     "text": [
      "请输入间隔，以回车结束。3\n",
      "请输入整数，以回车结束。1\n",
      "请输入整数n>m，注意保证间隔k,以回车结束。3\n",
      "6\n"
     ]
    }
   ],
   "source": [
    "def sum(k):\n",
    "    k=int(input('请输入间隔，以回车结束。'))\n",
    "    m=int(input('请输入整数，以回车结束。'))\n",
    "    n=int(input('请输入整数n>m，注意保证间隔k,以回车结束。'))\n",
    "    i=1\n",
    "    total=m\n",
    "    while i<k:\n",
    "          i=i+1\n",
    "          m=m+1\n",
    "          total=total+m\n",
    "    return total\n",
    "\n",
    "    \n",
    " \n",
    "\n",
    "print (sum(7))          \n",
    "          \n",
    "          "
   ]
  }
 ],
 "metadata": {
  "kernelspec": {
   "display_name": "Python 3",
   "language": "python",
   "name": "python3"
  }
 },
 "nbformat": 4,
 "nbformat_minor": 2
}
