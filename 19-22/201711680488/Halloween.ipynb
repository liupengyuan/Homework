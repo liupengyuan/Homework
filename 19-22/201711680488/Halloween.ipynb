{
 "cells": [
  {
   "cell_type": "code",
   "execution_count": 5,
   "metadata": {
    "collapsed": false
   },
   "outputs": [
    {
     "name": "stdout",
     "output_type": "stream",
     "text": [
      "请用户输入整数,以回车结束2\n",
      "请用户输入整数,以回车结束3\n",
      "8\n"
     ]
    }
   ],
   "source": [
    "def my_sum(n):\n",
    "    i=0\n",
    "    total=i\n",
    "    while i<n:\n",
    "        i=i+1\n",
    "        total=total+i\n",
    "  \n",
    "    return total\n",
    "def my_mul(m):\n",
    "    i=1\n",
    "    mul=i\n",
    "    while i<m:\n",
    "        i=i+1\n",
    "        mul=mul*i\n",
    "        \n",
    "    return mul\n",
    "\n",
    "\n",
    "m=int(input('请用户输入整数,以回车结束'))\n",
    "n=int(input('请用户输入整数,以回车结束'))\n",
    "\n",
    "if m>n:\n",
    "    print(my_sum(n) +  my_sum(m))\n",
    "elif m<n: \n",
    "    print(my_mul(n) +  my_mul(m))\n",
    "else:    \n",
    "    print()\n",
    "    "
   ]
  }
 ],
 "metadata": {
  "kernelspec": {
   "display_name": "Python 3",
   "language": "python",
   "name": "python3"
  }
 },
 "nbformat": 4,
 "nbformat_minor": 2
}
