{
 "cells": [
  {
   "cell_type": "code",
   "execution_count": 11,
   "metadata": {
    "collapsed": false
   },
   "outputs": [
    {
     "name": "stdout",
     "output_type": "stream",
     "text": [
      "请用户输入一个整数，以回车结束。5\n",
      "请用户输入一个整数，以回车结束。10\n",
      "请用户输入一个整数，以回车结束。500\n",
      "21.31853706570754\n"
     ]
    }
   ],
   "source": [
    "m=int(input('请用户输入一个整数，以回车结束。'))\n",
    "n=int(input('请用户输入一个整数，以回车结束。'))\n",
    "k=int(input('请用户输入一个整数，以回车结束。'))\n",
    "if n>k:\n",
    "    n,k=k,n\n",
    "import random \n",
    "i=0\n",
    "total=i**0.5\n",
    "while i<m:\n",
    "    \n",
    "    number = random.randint(n, k)\n",
    "    i+=1\n",
    "    total=(total+number)**0.5\n",
    "\n",
    "print(total)    \n",
    "    \n",
    "    \n"
   ]
  }
 ],
 "metadata": {
  "kernelspec": {
   "display_name": "Python 3",
   "language": "python",
   "name": "python3"
  }
 },
 "nbformat": 4,
 "nbformat_minor": 2
}
