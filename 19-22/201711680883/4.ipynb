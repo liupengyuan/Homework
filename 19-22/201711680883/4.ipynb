{
 "cells": [
  {
   "cell_type": "code",
   "execution_count": 2,
   "metadata": {},
   "outputs": [
    {
     "name": "stdout",
     "output_type": "stream",
     "text": [
      "请输入一个正整数，以回车结束。5\n",
      "请输入一个正整数，以回车结束。4\n",
      "请输入一个正整数，以回车结束。6\n",
      "864\n"
     ]
    }
   ],
   "source": [
    "def mul_n(end):\n",
    "    i=0\n",
    "    mul=1\n",
    "    while i<end:   \n",
    "        i=i+1    \n",
    "        mul=mul*i\n",
    "    \n",
    "    return mul\n",
    "\n",
    "m=int(input('请输入一个正整数，以回车结束。')) \n",
    "n=int(input('请输入一个正整数，以回车结束。'))\n",
    "k=int(input('请输入一个正整数，以回车结束。')) \n",
    "\n",
    "print(mul_n(m)+mul_n(n)+mul_n(k))\n",
    "    \n",
    "    "
   ]
  },
  {
   "cell_type": "code",
   "execution_count": 1,
   "metadata": {},
   "outputs": [
    {
     "name": "stdout",
     "output_type": "stream",
     "text": [
      "3.140592653839794\n",
      "3.1415826535897198\n"
     ]
    }
   ],
   "source": [
    "def total(end):\n",
    "    i=1\n",
    "    total=1\n",
    "    \n",
    "    \n",
    "    while i<end:\n",
    "        i=i+1\n",
    "        total=total+(-1)**(i+1)*1/(2*i-1)\n",
    "    return total\n",
    "\n",
    "print(total(1000)*4)\n",
    "print(total(100000)*4)"
   ]
  },
  {
   "cell_type": "code",
   "execution_count": 2,
   "metadata": {},
   "outputs": [
    {
     "name": "stdout",
     "output_type": "stream",
     "text": [
      "请输入你的名字，以回车结束。徐思卓\n",
      "徐思卓 你是白羊座。\n"
     ]
    }
   ],
   "source": [
    "def star(a):\n",
    "    name=input('请输入你的名字，以回车结束。')\n",
    "    sum=0\n",
    "    if 3.21<=a<=4.19:\n",
    "        sum=print(name,'你是白羊座。')\n",
    "    elif 4.20<=a<=5.20:\n",
    "        sum=print(name,'你是金牛座。')\n",
    "    elif 5.21<=a<=6.21:\n",
    "        sum=print(name,'你是双子座。')\n",
    "    elif 6.22<=a<=7.22:\n",
    "        sum=print(name,'你是巨蟹座。')\n",
    "    elif 7.23<=a<=8.22:\n",
    "        sum=print(name,'你是狮子座。')\n",
    "    elif 8.23<=a<=9.22:\n",
    "        sum=print(name,'你是处女座。')\n",
    "    elif 9.23<=a<=10.23:\n",
    "        sum=print(name,'你是天秤座。')\n",
    "    elif 10.24<=a<=11.22:\n",
    "        sum=print(name,'你是天蝎座。')\n",
    "    elif 11.23<=a<=12.21:\n",
    "        sum=print(name,'你是射手座。')\n",
    "    elif 1.20<=a<=2.18:\n",
    "        sum=print(name,'你是水瓶座。')\n",
    "    elif 2.19<=a<=3.20:\n",
    "        sum=print(name,'你是双鱼座。')\n",
    "    else:\n",
    "        sum=print(name,'你是摩羯座。')\n",
    "    return sum\n",
    "    \n",
    "star(3.24)"
   ]
  },
  {
   "cell_type": "code",
   "execution_count": 15,
   "metadata": {},
   "outputs": [
    {
     "name": "stdout",
     "output_type": "stream",
     "text": [
      "请输入一个单词bus\n",
      "请在单词后加es\n"
     ]
    }
   ],
   "source": [
    "def pl(m):\n",
    "    e=0\n",
    "    if m.endswith('ch'):\n",
    "        e=('请在单词后加es')\n",
    "    elif m.endswith('sh'):\n",
    "        e=('请在单词后加es')\n",
    "    elif m.endswith('s'):\n",
    "        e=('请在单词后加es')\n",
    "    elif m.endswith('x'):\n",
    "        e=('请在单词后加es')\n",
    "    elif m.endswith('v'):\n",
    "        e=('请把v变成i加es')\n",
    "    else:\n",
    "        e=('请直接在单词后加s')\n",
    "    return e\n",
    "n=input('请输入一个单词')\n",
    "print(pl(n))"
   ]
  },
  {
   "cell_type": "code",
   "execution_count": 4,
   "metadata": {},
   "outputs": [
    {
     "name": "stdout",
     "output_type": "stream",
     "text": [
      "请输入等差数列首项，以回车结束。1\n",
      "请输入等差数列末项，以回车结束。9\n",
      "请输入等差数列公差，以回车结束。2\n",
      "25\n"
     ]
    }
   ],
   "source": [
    "def plus(m):\n",
    "    m=int(input('请输入等差数列首项，以回车结束。'))\n",
    "    n=int(input('请输入等差数列末项，以回车结束。'))\n",
    "    k=int(input('请输入等差数列公差，以回车结束。'))\n",
    "    sum=m\n",
    "    \n",
    "    while m<n:\n",
    "        m=m+k\n",
    "        sum=sum+m\n",
    "    \n",
    "    return sum\n",
    "\n",
    "\n",
    "print(plus(m))"
   ]
  }
 ],
 "metadata": {
  "kernelspec": {
   "display_name": "Python 3",
   "language": "python",
   "name": "python3"
  },
  "language_info": {
   "codemirror_mode": {
    "name": "ipython",
    "version": 3
   },
   "file_extension": ".py",
   "mimetype": "text/x-python",
   "name": "python",
   "nbconvert_exporter": "python",
   "pygments_lexer": "ipython3",
   "version": "3.6.2"
  }
 },
 "nbformat": 4,
 "nbformat_minor": 2
}
