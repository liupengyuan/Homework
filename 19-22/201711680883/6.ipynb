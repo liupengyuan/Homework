{
 "cells": [
  {
   "cell_type": "code",
   "execution_count": 1,
   "metadata": {},
   "outputs": [
    {
     "name": "stdout",
     "output_type": "stream",
     "text": [
      "请输入一个整数，以回车结束。8\n",
      "-1\n"
     ]
    }
   ],
   "source": [
    "#写函数，返回某个元素/对象在一个list中的位置，如果不在，则返回-1.\n",
    "def location():\n",
    "    numbers = [34,29,846,73958,6,76,]\n",
    "    n=int(input('请输入一个整数，以回车结束。'))\n",
    "    i=0\n",
    "    if n in numbers:\n",
    "        while i<n:\n",
    "            if n==numbers[i]:\n",
    "                print('numbers[i]')\n",
    "                i+=1\n",
    "                \n",
    "            \n",
    "    if n not in numbers:\n",
    "        print (-1)\n",
    "\n",
    "location()"
   ]
  },
  {
   "cell_type": "code",
   "execution_count": 11,
   "metadata": {
    "collapsed": true
   },
   "outputs": [],
   "source": [
    "#写函数，可将两个相同长度的list，间隔插入，生成新的list。例如：给两个list，a=[1,2,3,4], b=[5,6,7,8]。则可以生成：[1,5,2,6,3,7,4,8]。\n",
    "def a():\n",
    "    list1=[]\n",
    "    list2=[]\n",
    "    list3=[]\n",
    "    n=int(input('请输入list中的元素个数，以回车结束。'))\n",
    "    i = 0\n",
    "    while i<n:\n",
    "        a=input('请输入一个数字，以回车结束。')\n",
    "        b=input('请输入一个数字，以回车结束。')\n",
    "        list1.append(a)\n",
    "        list2.append(b)\n",
    "        i+=1\n",
    "    \n",
    "    \n",
    "        "
   ]
  },
  {
   "cell_type": "code",
   "execution_count": 4,
   "metadata": {},
   "outputs": [
    {
     "name": "stdout",
     "output_type": "stream",
     "text": [
      "a3\n",
      "b2\n",
      "c4\n",
      "d1\n"
     ]
    },
    {
     "data": {
      "text/plain": [
       "0.9417419115948376"
      ]
     },
     "execution_count": 4,
     "metadata": {},
     "output_type": "execute_result"
    }
   ],
   "source": [
    "#写函数，可求两个向量的夹角余弦值，向量可放在list中。主程序调用该函数。\n",
    "def cos():\n",
    "    a=int(input('a'))\n",
    "    b=int(input('b'))\n",
    "    c=int(input('c'))\n",
    "    d=int(input('d'))\n",
    "    list1=[a,b]\n",
    "    list2=[c,d]\n",
    "    n=(a*c+b*d)/(((a**2+b**2)**0.5)*((c**2+d**2)**0.5))\n",
    "    \n",
    "    return n\n",
    "\n",
    "cos()"
   ]
  },
  {
   "cell_type": "code",
   "execution_count": null,
   "metadata": {
    "collapsed": true
   },
   "outputs": [],
   "source": []
  }
 ],
 "metadata": {
  "kernelspec": {
   "display_name": "Python 3",
   "language": "python",
   "name": "python3"
  },
  "language_info": {
   "codemirror_mode": {
    "name": "ipython",
    "version": 3
   },
   "file_extension": ".py",
   "mimetype": "text/x-python",
   "name": "python",
   "nbconvert_exporter": "python",
   "pygments_lexer": "ipython3",
   "version": "3.6.2"
  }
 },
 "nbformat": 4,
 "nbformat_minor": 2
}
