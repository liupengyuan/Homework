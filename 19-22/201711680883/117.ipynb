{
 "cells": [
  {
   "cell_type": "code",
   "execution_count": 7,
   "metadata": {},
   "outputs": [
    {
     "name": "stdout",
     "output_type": "stream",
     "text": [
      "请输入一个正整数，作为区间的下限，以回车结束。10\n",
      "请输入一个正整数，作为区间的上限，以回车结束。500\n",
      "请输入你想计算的数的个数，以回车结束。5\n"
     ]
    },
    {
     "data": {
      "text/plain": [
       "34.36568055487916"
      ]
     },
     "execution_count": 7,
     "metadata": {},
     "output_type": "execute_result"
    }
   ],
   "source": [
    "#用户从键盘输入数m,n,k,写函数，可利用计算机得到m个从n到k的随机整数。求这m个数和的平方根。m,n,k,用5,10,500进行验证函数正确性。\n",
    "import random,math\n",
    "\n",
    "def sum():\n",
    "    n=int(input('请输入一个正整数，作为区间的下限，以回车结束。'))\n",
    "    k=int(input('请输入一个正整数，作为区间的上限，以回车结束。'))\n",
    "    m=int(input('请输入你想计算的数的个数，以回车结束。'))\n",
    "    a=0\n",
    "    b=0\n",
    "    sum=0\n",
    "    \n",
    "    while a<=m:\n",
    "        a+=1\n",
    "        b=random.randint(n,k)\n",
    "        sum=sum+b\n",
    "        \n",
    "        if a==m:\n",
    "            sum=sum**0.5\n",
    "            break\n",
    "    return sum\n",
    "\n",
    "sum()"
   ]
  }
 ],
 "metadata": {
  "kernelspec": {
   "display_name": "Python 3",
   "language": "python",
   "name": "python3"
  },
  "language_info": {
   "codemirror_mode": {
    "name": "ipython",
    "version": 3
   },
   "file_extension": ".py",
   "mimetype": "text/x-python",
   "name": "python",
   "nbconvert_exporter": "python",
   "pygments_lexer": "ipython3",
   "version": "3.6.2"
  }
 },
 "nbformat": 4,
 "nbformat_minor": 2
}
