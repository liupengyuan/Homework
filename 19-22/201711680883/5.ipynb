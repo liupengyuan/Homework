{
 "cells": [
  {
   "cell_type": "code",
   "execution_count": 6,
   "metadata": {},
   "outputs": [
    {
     "name": "stdout",
     "output_type": "stream",
     "text": [
      "请输入想求和的整数个数，以回车结束。3\n",
      "请输入一个整数，作为区间的下限，以回车结束。5\n",
      "请输入一个整数，作为区间的上限，以回车结束。10\n"
     ]
    },
    {
     "data": {
      "text/plain": [
       "3.0550504633038935"
      ]
     },
     "execution_count": 6,
     "metadata": {},
     "output_type": "execute_result"
    }
   ],
   "source": [
    "#练习 1：写函数，求n个随机整数均值的平方根，整数范围在m与k之间（n,m,k由用户输入）。\n",
    "import random,math\n",
    "\n",
    "def squ():\n",
    "    n=int(input('请输入想求和的整数个数，以回车结束。'))\n",
    "    m=int(input('请输入一个整数，作为区间的下限，以回车结束。'))\n",
    "    k=int(input('请输入一个整数，作为区间的上限，以回车结束。'))\n",
    "    i=0\n",
    "    sum=0\n",
    "    a=0\n",
    "    \n",
    "    while i<n:\n",
    "        a=random.randint(m,k)\n",
    "        sum+=a\n",
    "        i+=1\n",
    "        \n",
    "    if i==n:\n",
    "        sum=(sum/n)**0.5\n",
    "        \n",
    "        \n",
    "    return sum\n",
    "\n",
    "squ()\n",
    "        \n",
    "        \n",
    "        \n",
    "        "
   ]
  },
  {
   "cell_type": "code",
   "execution_count": 6,
   "metadata": {},
   "outputs": [
    {
     "name": "stdout",
     "output_type": "stream",
     "text": [
      "请输入想求和的整数个数，以回车结束。2\n",
      "请输入一个整数，作为区间的下限，以回车结束。3\n",
      "请输入一个整数，作为区间的上限，以回车结束。5\n",
      "2.995732273553991\n",
      "请输入想求和的整数个数，以回车结束。2\n",
      "请输入一个整数，作为区间的下限，以回车结束。6\n",
      "请输入一个整数，作为区间的上限，以回车结束。8\n",
      "1.072008968920998\n"
     ]
    }
   ],
   "source": [
    "#练习 2：写函数，共n个随机整数，整数范围在m与k之间，（n,m,k由用户输入）。求1：西格玛log(随机整数)，2：西格玛1/log(随机整数)\n",
    "import random,math\n",
    "import math\n",
    "\n",
    "def one():\n",
    "    n=int(input('请输入想求和的整数个数，以回车结束。'))\n",
    "    m=int(input('请输入一个整数，作为区间的下限，以回车结束。'))\n",
    "    k=int(input('请输入一个整数，作为区间的上限，以回车结束。'))\n",
    "    i=0\n",
    "    sum=0\n",
    "    a=0\n",
    "    \n",
    "    while i<n:\n",
    "        a=random.randint(m,k)\n",
    "        sum+=math.log(a)\n",
    "        i+=1\n",
    "    return sum\n",
    "\n",
    "def two():\n",
    "    n=int(input('请输入想求和的整数个数，以回车结束。'))\n",
    "    m=int(input('请输入一个整数，作为区间的下限，以回车结束。'))\n",
    "    k=int(input('请输入一个整数，作为区间的上限，以回车结束。'))\n",
    "    i=0\n",
    "    sun=0\n",
    "    a=0\n",
    "    \n",
    "    while i<n:\n",
    "        a=random.randint(m,k)\n",
    "        sun+=1/math.log(a)\n",
    "        i+=1\n",
    "    return sun\n",
    "\n",
    "print(one())\n",
    "print(two())"
   ]
  },
  {
   "cell_type": "code",
   "execution_count": 1,
   "metadata": {},
   "outputs": [
    {
     "name": "stdout",
     "output_type": "stream",
     "text": [
      "请输入想求和的个数，以回车结束。3\n"
     ]
    },
    {
     "data": {
      "text/plain": [
       "738"
      ]
     },
     "execution_count": 1,
     "metadata": {},
     "output_type": "execute_result"
    }
   ],
   "source": [
    "#练习 3：写函数，求s=a+aa+aaa+aaaa+aa...a的值，其中a是[1,9]之间的随机整数。例如2+22+222+2222+22222(此时共有5个数相加)，几个数相加由键盘输入。\n",
    "import random,math\n",
    "def sun():\n",
    "    a=random.randint(1,9)\n",
    "    n=int(input('请输入想求和的个数，以回车结束。'))\n",
    "    i=1\n",
    "    s=0\n",
    "    while i<=n:\n",
    "        s+=10**(i-1)*a*(n-i+1)\n",
    "        i+=1\n",
    "    return s\n",
    "\n",
    "sun()"
   ]
  },
  {
   "cell_type": "code",
   "execution_count": null,
   "metadata": {
    "collapsed": true
   },
   "outputs": [],
   "source": [
    "#挑战性练习：仿照task5，将猜数游戏改成由用户随便选择一个整数，让计算机来猜测的猜数游戏，要求和task5中人猜测的方法类似，但是人机角色对换，由人来判断猜测是大、小还是相等，请写出完整的猜数游戏。\n"
   ]
  }
 ],
 "metadata": {
  "kernelspec": {
   "display_name": "Python 3",
   "language": "python",
   "name": "python3"
  },
  "language_info": {
   "codemirror_mode": {
    "name": "ipython",
    "version": 3
   },
   "file_extension": ".py",
   "mimetype": "text/x-python",
   "name": "python",
   "nbconvert_exporter": "python",
   "pygments_lexer": "ipython3",
   "version": "3.6.2"
  }
 },
 "nbformat": 4,
 "nbformat_minor": 2
}
