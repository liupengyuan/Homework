{
 "cells": [
  {
   "cell_type": "code",
   "execution_count": 13,
   "metadata": {},
   "outputs": [
    {
     "name": "stdout",
     "output_type": "stream",
     "text": [
      "治荡勿室荆错相失室忠 \n",
      "面鼓威军华而喑得纷持及笔闺骨张泣经肝映俱 \n",
      "芙釜嗤逑摸处渝政蜀腋殊帆睛流恒浪猜艾射肝杯蝉底晷貌让翁顺竭诺 \n",
      "以家至诺川才夕凿指竭其栩丹赵余持充士随杞躇涸双鲋艾报祖迷时惊喝贼先息晋靡用境望扮 \n",
      "碧舌孟竽里错毋砥又庭琴神力铩暮晦眦辣凉主磨主赤五我邦蝇韵避雪雁始勿听蒂宠索墨迟人路涂牝足兄哭猫从弄果 \n",
      "路走添亲迟瓴达尝象擎舍帘地魑刺亢的智惑丑奈齐仆桀弹涂宜会过万维君贼筚当伥枯食鹄矫绝鹿转盾败雀滥逍简理晴荣凤维躬装矛厚恐助 \n",
      "唇魏奂复绸分丁又翼路炼踌先骑亲肓刺缕好陇称聊向窠矫天艾蝇股孤技凌虑阔度冕貂粟深阖蜀韦晷豹缚政霸鹄铃藏赶暖平求则瀣理栗盗羁秒军濡也物欢雾又沙灵 \n",
      "火贵众里其则指固暗柳耿越迹晦瞻疲英妻言未窠蔚负后麟英别殄杀垂约栋负简高声熙喘命霆俎规美衷豹黄解运鸿言纵钟骜睚向望沧残外疲咤城悬带涂占孑问扑潭比泽峰陈惺又宠鲋丝来 \n",
      "望缕沐就聊缕徙壮枝宝不异临瞻嚎尺名墨篇暖亲迫座寒雀睚寡望沽俎哀负了臼炙荐兵皆新待忾营久聚雷争辣衣妄毓会青退次爱祖独劫貉金饰波伦鹤辟甘尸冕较往肥矢宝三满沆磨骑遥飞齿络蛛灵言户飞度戈循 \n",
      "空影船六典逐涌灯在首长耳璞身兢穷虚旗思器和聊旗豁鼻尘而北凰措横雨江良诸女蒂同双命桃燕沓窕蝉回夫举昙字香目、养木怒窍果玩摸差袖斩黩听接鞭迁郎前陷仆潭念涸火手非袖兰缝载娲话蜜古猴周蒂遂薄荆火丘以扬侃匕汹顾 \n"
     ]
    }
   ],
   "source": [
    "import random\n",
    "fh = open(r'c:\\temp\\成语大全.txt')\n",
    "text = fh.read()\n",
    "fh.close()\n",
    "text = text.replace('、','')\n",
    "start = 0\n",
    "end = 0\n",
    "idioms = []\n",
    "\n",
    "while end < len(text):\n",
    "    if text[end]=='\\n':\n",
    "        idioms.append(text[start:end])\n",
    "        start = end+1\n",
    "    end+=1\n",
    "    \n",
    "def get_ch_table(line):\n",
    "    ch_table = []\n",
    "    for ch in line:\n",
    "        if ch not in ch_table:\n",
    "            ch_table.append(ch)\n",
    "    return ch_table\n",
    "fh= open(r'c:\\temp\\成语大全.txt')\n",
    "text = fh.read()\n",
    "chs = get_ch_table(text.replace('\\n', ''))\n",
    "idioms=text.split()\n",
    "\n",
    "def suiji(n):\n",
    "    list=[]\n",
    "    for i in range(n):\n",
    "        idiom=random.choice(chs)\n",
    "        list.append(idiom)\n",
    "        print(idiom,end='')\n",
    "    print(' ')\n",
    "    fh = open(r'c:\\temp\\text'+str(n/10)+'.txt', 'w')\n",
    "    fh.write('\\n'.join(idioms))\n",
    "    fh.close()\n",
    "    \n",
    "suiji(10)\n",
    "suiji(20)\n",
    "suiji(30)\n",
    "suiji(40)\n",
    "suiji(50)\n",
    "suiji(60)\n",
    "suiji(70)\n",
    "suiji(80)\n",
    "suiji(90)\n",
    "suiji(100)"
   ]
  }
 ],
 "metadata": {
  "kernelspec": {
   "display_name": "Python 3",
   "language": "python",
   "name": "python3"
  },
  "language_info": {
   "codemirror_mode": {
    "name": "ipython",
    "version": 3
   },
   "file_extension": ".py",
   "mimetype": "text/x-python",
   "name": "python",
   "nbconvert_exporter": "python",
   "pygments_lexer": "ipython3",
   "version": "3.6.2"
  }
 },
 "nbformat": 4,
 "nbformat_minor": 2
}
