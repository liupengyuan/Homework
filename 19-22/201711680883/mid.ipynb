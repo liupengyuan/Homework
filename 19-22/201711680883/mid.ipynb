{
 "cells": [
  {
   "cell_type": "code",
   "execution_count": 11,
   "metadata": {
    "collapsed": false
   },
   "outputs": [
    {
     "name": "stdout",
     "output_type": "stream",
     "text": [
      "please input a number:3\n"
     ]
    },
    {
     "data": {
      "text/plain": [
       "10"
      ]
     },
     "execution_count": 11,
     "metadata": {},
     "output_type": "execute_result"
    }
   ],
   "source": [
    "#1\n",
    "def sum():\n",
    "    i=0\n",
    "    s=0\n",
    "    n=0\n",
    "    m=int(input('please input a number:'))\n",
    "    while i<m:\n",
    "        i+=1\n",
    "        s+=i\n",
    "        n+=s\n",
    "    return n\n",
    "\n",
    "sum()       "
   ]
  },
  {
   "cell_type": "code",
   "execution_count": 15,
   "metadata": {
    "collapsed": false
   },
   "outputs": [
    {
     "name": "stdout",
     "output_type": "stream",
     "text": [
      "please input something$\n",
      "please input a number5\n",
      "$\n",
      "$$$\n",
      "$$$$$\n",
      "$$$$$$$\n",
      "$$$$$$$$$\n"
     ]
    }
   ],
   "source": [
    "#2\n",
    "def out():\n",
    "    r=input('please input something')\n",
    "    n=int(input('please input a number'))\n",
    "    i=1\n",
    "    m=0\n",
    "    while m<n:\n",
    "        print (r*i)\n",
    "        i+=2\n",
    "        m+=1\n",
    "\n",
    "out()"
   ]
  },
  {
   "cell_type": "code",
   "execution_count": 6,
   "metadata": {
    "collapsed": false
   },
   "outputs": [
    {
     "name": "stdout",
     "output_type": "stream",
     "text": [
      "please input a number5\n",
      "8\n",
      "7\n",
      "2\n",
      "0\n",
      "1\n",
      "[8, 7, 2, 0, 1] 8\n"
     ]
    }
   ],
   "source": [
    "#3\n",
    "def first():\n",
    "    numbers=[]\n",
    "    n=int(input('please input a number'))\n",
    "    i=0\n",
    "    while i<n:\n",
    "        w=int(input())\n",
    "        numbers.append(w)\n",
    "        i+=1\n",
    "    print(numbers,numbers[0])\n",
    "    \n",
    "first()    "
   ]
  },
  {
   "cell_type": "code",
   "execution_count": 10,
   "metadata": {
    "collapsed": false
   },
   "outputs": [
    {
     "name": "stdout",
     "output_type": "stream",
     "text": [
      "please input the number of the team9\n",
      "please input a number183\n",
      "please input a number185\n",
      "please input a number183\n",
      "please input a number187\n",
      "please input a number178\n",
      "please input a number175\n",
      "please input a number177\n",
      "please input a number190\n",
      "please input a number172\n",
      "181.11111111111111\n",
      "183\n",
      "185\n",
      "183\n",
      "187\n",
      "190\n"
     ]
    }
   ],
   "source": [
    "#4\n",
    "alist=[]\n",
    "m=int(input('please input the number of the team'))\n",
    "i=0\n",
    "total=0\n",
    "u=0\n",
    "while i<m:\n",
    "    a=int(input('please input a number'))\n",
    "    alist.append(a)\n",
    "    total+=a\n",
    "    i+=1\n",
    "ave=total/m\n",
    "print(ave)\n",
    "for a in alist:\n",
    "    if a>ave:\n",
    "        print (alist[u])\n",
    "    u+=1\n"
   ]
  },
  {
   "cell_type": "code",
   "execution_count": 2,
   "metadata": {
    "collapsed": false
   },
   "outputs": [
    {
     "name": "stdout",
     "output_type": "stream",
     "text": [
      "10 10\n",
      "please input the anwser4\n",
      "6 9\n",
      "please input the anwser15\n",
      "7 9\n",
      "please input the anwser16\n",
      "9 10\n",
      "please input the anwser19\n",
      "4 3\n",
      "please input the anwser5\n",
      "60\n"
     ]
    }
   ],
   "source": [
    "#5\n",
    "import random\n",
    "i=0\n",
    "n=5\n",
    "score=0\n",
    "while i<n:\n",
    "    a=random.randint(1,10)\n",
    "    b=random.randint(1,10)\n",
    "    print(a,b)\n",
    "    s=a+b\n",
    "    guess=int(input('please input the anwser'))\n",
    "    if s==guess:\n",
    "        score+=20\n",
    "        i+=1\n",
    "    else:\n",
    "        i+=1\n",
    "print (score)"
   ]
  },
  {
   "cell_type": "code",
   "execution_count": null,
   "metadata": {
    "collapsed": true
   },
   "outputs": [],
   "source": [
    "#6\n",
    "alist=[3,-5,9,108,34,-76,88]\n",
    "blist=[]\n",
    "max_num=alist[0]\n",
    "min_num=alist[0]\n",
    "u=0\n",
    "i=0\n",
    "\n",
    "while i<7:\n",
    "    if alist[i]>max_num:\n",
    "        max_num=alist[i]\n",
    "    if alist[i]<min_num:\n",
    "        min_num=alist[i]\n",
    "    i+=1\n",
    "\n",
    "while u<7:\n",
    "    if alist[u]!=max_num and alist[u]!=min_num:\n",
    "        blist.append(alist[u])\n",
    "        u+=1\n",
    "\n",
    "print(max_num,blist,min_num)"
   ]
  },
  {
   "cell_type": "code",
   "execution_count": null,
   "metadata": {
    "collapsed": true
   },
   "outputs": [],
   "source": []
  }
 ],
 "metadata": {
  "kernelspec": {
   "display_name": "Python 3",
   "language": "python",
   "name": "python3"
  },
  "language_info": {
   "codemirror_mode": {
    "name": "ipython",
    "version": 3
   },
   "file_extension": ".py",
   "mimetype": "text/x-python",
   "name": "python",
   "nbconvert_exporter": "python",
   "pygments_lexer": "ipython3",
   "version": "3.6.0"
  }
 },
 "nbformat": 4,
 "nbformat_minor": 2
}
