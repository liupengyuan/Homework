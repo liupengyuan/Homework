{
 "cells": [
  {
   "cell_type": "code",
   "execution_count": 1,
   "metadata": {},
   "outputs": [
    {
     "name": "stdout",
     "output_type": "stream",
     "text": [
      "liacvtxj\n"
     ]
    }
   ],
   "source": [
    "#练习一：自己定义一个reverse(s)函数，功能返回字符串s的倒序字符串。\n",
    "\n",
    "def reverse(s):\n",
    "    print(s[len(s)::-1])\n",
    "\n",
    "lines='jxtvcail'\n",
    "reverse(lines)"
   ]
  },
  {
   "cell_type": "code",
   "execution_count": 39,
   "metadata": {},
   "outputs": [
    {
     "name": "stdout",
     "output_type": "stream",
     "text": [
      "请输入一个符号：^\n",
      "请输入一个整数，以回车结束：7\n",
      "             \n",
      "            ^ \n",
      "           ^ ^ \n",
      "          ^ ^ ^ \n",
      "         ^ ^ ^ ^ \n",
      "        ^ ^ ^ ^ ^ \n",
      "       ^ ^ ^ ^ ^ ^ \n",
      "      ^ ^ ^ ^ ^ ^ ^ \n",
      "     ^ ^ ^ ^ ^ ^ ^ ^ \n",
      "    ^ ^ ^ ^ ^ ^ ^ ^ ^ \n",
      "   ^ ^ ^ ^ ^ ^ ^ ^ ^ ^ \n",
      "  ^ ^ ^ ^ ^ ^ ^ ^ ^ ^ ^ \n",
      " ^ ^ ^ ^ ^ ^ ^ ^ ^ ^ ^ ^ \n",
      "^ ^ ^ ^ ^ ^ ^ ^ ^ ^ ^ ^ ^ \n",
      "             \n",
      "            ^\n",
      "           ^^\n",
      "          ^^^\n",
      "         ^^^^\n",
      "        ^^^^^\n",
      "       ^^^^^^\n",
      "      ^^^^^^^\n",
      "     ^^^^^^^^\n",
      "    ^^^^^^^^^\n",
      "   ^^^^^^^^^^\n",
      "  ^^^^^^^^^^^\n",
      " ^^^^^^^^^^^^\n",
      "^^^^^^^^^^^^^\n"
     ]
    }
   ],
   "source": [
    "#练习二：写函数，根据给定符号和行数，打印相应直角三角形，等腰三角形及其他形式的三角形。\n",
    "\n",
    "def l():\n",
    "    s=input('请输入一个符号：')\n",
    "    n=int(input('请输入一个整数，以回车结束：'))\n",
    "    line=s*n\n",
    "    for i in range(1,len(line)*2+1):\n",
    "        for k in range(len(line)*2-i,0,-1):\n",
    "            print(' ', end='')\n",
    "        for j in range(1,i):\n",
    "            print(line[0]+' ', end='')\n",
    "        print()\n",
    "    for i in range(1,len(line)*2+1):\n",
    "        for k in range(len(line)*2-i,0,-1):\n",
    "            print(' ', end='')\n",
    "        for j in range(1,i):\n",
    "            print(line[0], end='')\n",
    "        print()\n",
    "        \n",
    "l()"
   ]
  },
  {
   "cell_type": "code",
   "execution_count": 2,
   "metadata": {},
   "outputs": [
    {
     "name": "stdout",
     "output_type": "stream",
     "text": [
      "请输入一个符号：^\n",
      "请输入一个整数，以回车结束：5\n",
      "         \n",
      "        ^ \n",
      "       ^ ^ \n",
      "      ^ ^ ^ \n",
      "     ^ ^ ^ ^ \n",
      "    ^ ^ ^ ^ ^ \n",
      "   ^ ^ ^ ^ ^ ^ \n",
      "  ^ ^ ^ ^ ^ ^ ^ \n",
      " ^ ^ ^ ^ ^ ^ ^ ^ \n",
      "^ ^ ^ ^ ^ ^ ^ ^ ^ \n",
      " ^ ^ ^ ^ ^ ^ ^ ^ \n",
      "  ^ ^ ^ ^ ^ ^ ^ \n",
      "   ^ ^ ^ ^ ^ ^ \n",
      "    ^ ^ ^ ^ ^ \n",
      "     ^ ^ ^ ^ \n",
      "      ^ ^ ^ \n",
      "       ^ ^ \n",
      "        ^ \n",
      "         \n"
     ]
    }
   ],
   "source": [
    "#练习五：写函数，根据给定符号，打印各种菱形。\n",
    "\n",
    "def l():\n",
    "    s=input('请输入一个符号：')\n",
    "    n=int(input('请输入一个整数，以回车结束：'))\n",
    "    line=s*n\n",
    "    for i in range(1,len(line)*2):\n",
    "        for k in range(len(line)*2-i,0,-1):\n",
    "            print(' ',end='')\n",
    "        for j in range(1,i):\n",
    "            print(line[0]+' ',end='')\n",
    "        print()\n",
    "    for i in range(1,len(line)*2+1):\n",
    "        for j in range(1,i):\n",
    "            print(' ',end='')\n",
    "        for k in range(len(line)*2-i,0,-1):\n",
    "            print(line[0]+' ',end='')\n",
    "        \n",
    "        print()\n",
    "l()"
   ]
  }
 ],
 "metadata": {
  "kernelspec": {
   "display_name": "Python 3",
   "language": "python",
   "name": "python3"
  },
  "language_info": {
   "codemirror_mode": {
    "name": "ipython",
    "version": 3
   },
   "file_extension": ".py",
   "mimetype": "text/x-python",
   "name": "python",
   "nbconvert_exporter": "python",
   "pygments_lexer": "ipython3",
   "version": "3.6.2"
  }
 },
 "nbformat": 4,
 "nbformat_minor": 2
}
