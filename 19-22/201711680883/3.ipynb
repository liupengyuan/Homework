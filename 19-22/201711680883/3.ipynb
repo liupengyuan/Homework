{
 "cells": [
  {
   "cell_type": "code",
   "execution_count": 9,
   "metadata": {},
   "outputs": [
    {
     "name": "stdout",
     "output_type": "stream",
     "text": [
      "请输入你的姓名，以回车结束。徐思卓\n",
      "请输入你的生日，以回车结束。1.01\n",
      "徐思卓 你是摩羯座。\n"
     ]
    }
   ],
   "source": [
    "#练习 1：写程序，可由键盘读入用户姓名例如Mr. right，让用户输入出生的月份与日期，判断用户星座，假设用户是金牛座，则输出，Mr. right，你是非常有性格的金牛座！。\n",
    "name=input('请输入你的姓名，以回车结束。')\n",
    "a=float(input('请输入你的生日，以回车结束。'))\n",
    "\n",
    "if 3.21<=a<=4.19:\n",
    "    print(name,'你是白羊座。')\n",
    "elif 4.20<=a<=5.20:\n",
    "    print(name,'你是金牛座。')\n",
    "elif 5.21<=a<=6.21:\n",
    "    print(name,'你是双子座。')\n",
    "elif 6.22<=a<=7.22:\n",
    "    print(name,'你是巨蟹座。')\n",
    "elif 7.23<=a<=8.22:\n",
    "    print(name,'你是狮子座。')\n",
    "elif 8.23<=a<=9.22:\n",
    "    print(name,'你是处女座。')\n",
    "elif 9.23<=a<=10.23:\n",
    "    print(name,'你是天秤座。')\n",
    "elif 10.24<=a<=11.22:\n",
    "    print(name,'你是天蝎座。')\n",
    "elif 11.23<=a<=12.21:\n",
    "    print(name,'你是射手座。')\n",
    "elif 1.20<=a<=2.18:\n",
    "    print(name,'你是水瓶座。')\n",
    "elif 2.19<=a<=3.20:\n",
    "    print(name,'你是双鱼座。')\n",
    "else:\n",
    "    print(name,'你是摩羯座。')"
   ]
  },
  {
   "cell_type": "code",
   "execution_count": 1,
   "metadata": {},
   "outputs": [
    {
     "name": "stdout",
     "output_type": "stream",
     "text": [
      "请输入一个整数，以回车结束。17\n",
      "请输入一个整数，以回车结束。5\n",
      "求和输入1，求积输入2，求余数输入3，求整除结果输入43\n",
      "2\n"
     ]
    }
   ],
   "source": [
    "#练习 2：写程序，可由键盘读入两个整数m与n(n不等于0)，询问用户意图，如果要求和则计算从m到n的和输出，如果要乘积则计算从m到n的积并输出，如果要求余数则计算m除以n的余数的值并输出，否则则计算m整除n的值并输出。\n",
    "m=int(input('请输入一个整数，以回车结束。'))\n",
    "n=int(input('请输入一个整数，以回车结束。'))\n",
    "a=int(input('求和输入1，求积输入2，求余数输入3，求整除结果输入4'))\n",
    "\n",
    "if a==1:\n",
    "    print(m+n)\n",
    "elif a==2:\n",
    "    print(m*n)\n",
    "elif a==3:\n",
    "    print(m%n)\n",
    "else:\n",
    "    print(m/n)"
   ]
  },
  {
   "cell_type": "code",
   "execution_count": 8,
   "metadata": {},
   "outputs": [
    {
     "name": "stdout",
     "output_type": "stream",
     "text": [
      "请输入一个英语名词单数，以回车结束。inch\n",
      "inch es\n"
     ]
    }
   ],
   "source": [
    "#练习 4：英文单词单数转复数，要求输入一个英文动词（单数形式），能够得到其复数形式，或给出单数转复数形式的建议（提示，some_string.endswith(some_letter)函数可以判断某字符串结尾字符，可尝试运行：'myname'.endswith('me')，liupengyuan'.endswith('n')）。\n",
    "m=input('请输入一个英语名词单数，以回车结束。')\n",
    "\n",
    "if m.endswith('ch'):\n",
    "    print(m,'es')\n",
    "elif m.endswith('sh'):\n",
    "    print(m,'es')\n",
    "elif m.endwith('s'):\n",
    "    print(m,'es')\n",
    "elif m.endswith('x'):\n",
    "    print(m,'es')\n",
    "else:\n",
    "    print(m,'s')"
   ]
  },
  {
   "cell_type": "code",
   "execution_count": 11,
   "metadata": {},
   "outputs": [
    {
     "name": "stdout",
     "output_type": "stream",
     "text": [
      "请输入你的名字，以回车结束。徐思卓\n",
      "\n",
      "徐思卓 再见\n"
     ]
    }
   ],
   "source": [
    "#尝试性练习：写程序，能够在屏幕上显示空行。\n",
    "name=input('请输入你的名字，以回车结束。')\n",
    "print()\n",
    "\n",
    "print(name,'再见')\n"
   ]
  }
 ],
 "metadata": {
  "kernelspec": {
   "display_name": "Python 3",
   "language": "python",
   "name": "python3"
  },
  "language_info": {
   "codemirror_mode": {
    "name": "ipython",
    "version": 3
   },
   "file_extension": ".py",
   "mimetype": "text/x-python",
   "name": "python",
   "nbconvert_exporter": "python",
   "pygments_lexer": "ipython3",
   "version": "3.6.2"
  }
 },
 "nbformat": 4,
 "nbformat_minor": 2
}
