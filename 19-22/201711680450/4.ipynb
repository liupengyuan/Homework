{
 "cells": [
  {
   "cell_type": "code",
   "execution_count": 2,
   "metadata": {},
   "outputs": [
    {
     "name": "stdout",
     "output_type": "stream",
     "text": [
      "请输入一个整数3\n",
      "请输入一个整数4\n",
      "请输入一个整数5\n",
      "150\n"
     ]
    }
   ],
   "source": [
    "def cumpute_sum(end) :\n",
    "    i = 0\n",
    "    factorial = 1\n",
    "    while i < end :\n",
    "        i += 1\n",
    "        factorial *= i\n",
    "    return factorial\n",
    "\n",
    "m = int(input('请输入一个整数'))\n",
    "n = int(input('请输入一个整数'))\n",
    "k = int(input('请输入一个整数'))\n",
    "\n",
    "print(cumpute_sum(m)+cumpute_sum(n)+cumpute_sum(k))"
   ]
  },
  {
   "cell_type": "code",
   "execution_count": 3,
   "metadata": {},
   "outputs": [
    {
     "name": "stdout",
     "output_type": "stream",
     "text": [
      "6.2821753074295135\n"
     ]
    }
   ],
   "source": [
    "def cumpute_sum(end) :\n",
    "    n = 0\n",
    "    total = 0\n",
    "    while n < end :\n",
    "        n += 1\n",
    "        total = total + (-1)**(n-1)/(2*n-1)\n",
    "    return total\n",
    "\n",
    "n = 1000\n",
    "m = 100000\n",
    "\n",
    "print(4*(cumpute_sum(n)+cumpute_sum(m)))"
   ]
  },
  {
   "cell_type": "code",
   "execution_count": 9,
   "metadata": {},
   "outputs": [
    {
     "name": "stdout",
     "output_type": "stream",
     "text": [
      "请输入您的名字vivian\n",
      "请以小数形式输入您生日的月份和日期6.20\n",
      "vivian 您是非常有个性的双子座！\n"
     ]
    }
   ],
   "source": [
    "def cumpute_sum(m) :\n",
    "    if 1.20<=m<=2.18 :\n",
    "        return'您是非常有个性的水瓶座！' \n",
    "    elif 2.19<=m<=3.20 :\n",
    "        return'您是非常有个性的白羊座！'\n",
    "    elif 3.21<=m<=4.19 :\n",
    "        return'您是非常有个性的白羊座！'\n",
    "    elif 4.20<=m<=5.20 :\n",
    "        return'您是非常有个性的金牛座！' \n",
    "    elif 5.21<=m<=6.21 :\n",
    "        return'您是非常有个性的双子座！'\n",
    "    elif 6.22<=m<=7.22 :\n",
    "        return'您是非常有个性的巨蟹座！'\n",
    "    elif 7.23<=m<=8.22 :\n",
    "        return'您是非常有个性的狮子座！'\n",
    "    elif 8.23<=m<=9.22 :\n",
    "        return'您是非常有个性的处女座！'\n",
    "    elif 9.23<=m<=10.23 :\n",
    "        return'您是非常有个性的天秤座！'\n",
    "    elif 10.24<=m<=11.22 :\n",
    "        return'您是非常有个性的射手座！'\n",
    "    elif 111.23<=m<=12.21 :\n",
    "        return'您是非常有个性的天蝎座！'\n",
    "    elif 12.22<=m<=12.31 or 1.1<=m<=1.19 :\n",
    "        return'您是非常有个性的摩羯座！'\n",
    "    else :\n",
    "        return'输入错误'\n",
    "\n",
    "name = input('请输入您的名字')\n",
    "m = float(input('请以小数形式输入您生日的月份和日期'))\n",
    "\n",
    "print(name,cumpute_sum(m))"
   ]
  },
  {
   "cell_type": "code",
   "execution_count": 10,
   "metadata": {},
   "outputs": [
    {
     "name": "stdout",
     "output_type": "stream",
     "text": [
      "请输入一个英文名字的单数形式peach\n",
      "peaches\n"
     ]
    }
   ],
   "source": [
    "def cumpute_sum(w): \n",
    "    if w.endswith('ch'):\n",
    "        return w+'es'\n",
    "    elif w.endswith('sh'):\n",
    "        return w+'es'\n",
    "    elif w.endswith('x'):\n",
    "        return w+'es'\n",
    "    else :\n",
    "        return w+'s'\n",
    "\n",
    "w = input('请输入一个英文名字的单数形式')\n",
    "print(cumpute_sum(w))"
   ]
  },
  {
   "cell_type": "code",
   "execution_count": 2,
   "metadata": {},
   "outputs": [
    {
     "name": "stdout",
     "output_type": "stream",
     "text": [
      "请输入一个整数2\n",
      "请输入一个整数17\n",
      "请输入一个整数2\n",
      "89\n"
     ]
    }
   ],
   "source": [
    "#挑战性练习：写程序，可以求从整数m到整数n累加的和，间隔为k，求和部分需用函数实现，主程序中由用户输入m，n，k调用函数验证正确性\n",
    "def cumpute_sum(m,n,k) :\n",
    "    i = 1\n",
    "    total = m\n",
    "    a = m + i * k\n",
    "    while a < n :\n",
    "        i += 1\n",
    "        total += a\n",
    "        a = m + i *k\n",
    "    if a > n :\n",
    "        total += n\n",
    "    return total\n",
    "\n",
    "m = int(input('请输入一个整数'))\n",
    "n = int(input('请输入一个整数'))\n",
    "k = int(input('请输入一个整数'))\n",
    "\n",
    "print(cumpute_sum(m,n,k))"
   ]
  }
 ],
 "metadata": {
  "kernelspec": {
   "display_name": "Python 3",
   "language": "python",
   "name": "python3"
  },
  "language_info": {
   "codemirror_mode": {
    "name": "ipython",
    "version": 3
   },
   "file_extension": ".py",
   "mimetype": "text/x-python",
   "name": "python",
   "nbconvert_exporter": "python",
   "pygments_lexer": "ipython3",
   "version": "3.6.2"
  }
 },
 "nbformat": 4,
 "nbformat_minor": 2
}
