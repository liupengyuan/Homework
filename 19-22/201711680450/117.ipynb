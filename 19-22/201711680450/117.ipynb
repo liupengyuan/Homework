{
 "cells": [
  {
   "cell_type": "code",
   "execution_count": 2,
   "metadata": {
    "collapsed": false
   },
   "outputs": [
    {
     "name": "stdout",
     "output_type": "stream",
     "text": [
      "5\n",
      "10\n",
      "500\n",
      "35.63705936241092\n"
     ]
    }
   ],
   "source": [
    "def my_sum(m,n,k):\n",
    "    import random\n",
    "    i = 1\n",
    "    total = 0\n",
    "    while i <= m :\n",
    "        i += 1\n",
    "        number = random.randint(n,k)\n",
    "        total += number\n",
    "    return total\n",
    "\n",
    "m = int(input())\n",
    "n = int(input())\n",
    "k = int(input())\n",
    "a = 1/2\n",
    "print(my_sum(m,n,k)**a)"
   ]
  },
  {
   "cell_type": "code",
   "execution_count": null,
   "metadata": {
    "collapsed": true
   },
   "outputs": [],
   "source": []
  }
 ],
 "metadata": {
  "kernelspec": {
   "display_name": "Python 3",
   "language": "python",
   "name": "python3"
  },
  "language_info": {
   "codemirror_mode": {
    "name": "ipython",
    "version": 3
   },
   "file_extension": ".py",
   "mimetype": "text/x-python",
   "name": "python",
   "nbconvert_exporter": "python",
   "pygments_lexer": "ipython3",
   "version": "3.6.0"
  }
 },
 "nbformat": 4,
 "nbformat_minor": 2
}
