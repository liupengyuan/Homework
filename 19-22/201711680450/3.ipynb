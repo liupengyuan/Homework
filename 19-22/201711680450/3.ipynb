{
 "cells": [
  {
   "cell_type": "code",
   "execution_count": 1,
   "metadata": {},
   "outputs": [
    {
     "name": "stdout",
     "output_type": "stream",
     "text": [
      "请输入您的姓名，以回车键结束。vivian\n",
      "请输入您生日的月份6\n",
      "请输入您生日的日期20\n",
      "vivian 您是非常有个性的双子座！\n"
     ]
    }
   ],
   "source": [
    "#练习 1：写程序，可由键盘读入用户姓名例如Mr. right，让用户输入出生的月份与日期，判断用户星座，假设用户是金牛座，则输出，Mr. right，你是非常有性格的金牛座！。\n",
    "name = input('请输入您的姓名，以回车键结束。')\n",
    "m = int(input('请输入您生日的月份'))\n",
    "d = int(input('请输入您生日的日期'))\n",
    "\n",
    "if m == 1 and 18<=d<=31 :\n",
    "    print(name,'您是非常有个性的水瓶座！')\n",
    "elif m == 2 and 1<=d<=18 :\n",
    "    print(name,'您是非常有个性的水瓶座！')\n",
    "elif m == 2 and 19<=d<=29:\n",
    "    print(name,'您是非常有个性的双鱼座！')\n",
    "elif m == 3 and 1<=d<=20 :\n",
    "    print(name,'您是非常有个性的双鱼座！')\n",
    "elif m == 3 and 21<=d<=30 :\n",
    "    print(name,'您是非常有个性的白羊座！')\n",
    "elif m == 4 and 1<=d<=19 :\n",
    "    print(name,'您是非常有个性的白羊座！')\n",
    "elif m == 4 and 20<=d<=30 :\n",
    "    print(name,'您是非常有个性的金牛座！')\n",
    "elif m == 5 and 1<=d<=20 :\n",
    "    print(name,'您是非常有个性的金牛座！')\n",
    "elif m == 5 and 21<=d<=31 :\n",
    "    print(name,'您是非常有个性的双子座！')\n",
    "elif m == 6 and 1<=d<=21 :\n",
    "    print(name,'您是非常有个性的双子座！')\n",
    "elif m == 6 and 22<=d<=30 :\n",
    "    print(name,'您是非常有个性的巨蟹座！')\n",
    "elif m == 7 and 1<=d<=22 :\n",
    "    print(name,'您是非常有个性的巨蟹座！')\n",
    "elif m == 7 and 23<=d<=31 :\n",
    "    print(name,'您是非常有个性的狮子座！')\n",
    "elif m == 8 and 1<=d<=22 :\n",
    "    print(name,'您是非常有个性的狮子座！')\n",
    "elif m == 8 and 23<=d<=31 :\n",
    "    print(name,'您是非常有个性的处女座！')\n",
    "elif m == 9 and 1<=d<=22 :\n",
    "    print(name,'您是非常有个性的处女座！')\n",
    "elif m == 9 and 23<=d<=30 :\n",
    "    print(name,'您是非常有个性的天秤座！')\n",
    "elif m == 10 and 1<=d<=23 :\n",
    "    print(name,'您是非常有个性的天秤座！')\n",
    "elif m == 10 and 24<=d<=31 :\n",
    "    print(mame,'您是非常有个性的天蝎座！')\n",
    "elif m == 11 and 1<=d<=22 :\n",
    "    print(name,'您是非常有个性的天蝎座！')\n",
    "elif m == 11 and 23<=d<=30 :\n",
    "    print(name,'您是非常有个性的射手座！')\n",
    "elif m == 12 and 1<=d<=21 :\n",
    "    print(name,'您是非常有个性的射手座！')\n",
    "elif m == 12 and 22<=d<=31 :\n",
    "    print(name,'您是非常有个性的摩羯座！')\n",
    "else :\n",
    "    print(name,'您是非常有个性的摩羯座！')"
   ]
  },
  {
   "cell_type": "code",
   "execution_count": 3,
   "metadata": {},
   "outputs": [
    {
     "name": "stdout",
     "output_type": "stream",
     "text": [
      "请输入一个整数，以回车键结束。5\n",
      "请输入任意一个非零整数，以回车结束6\n",
      "运算法则代码,相加，相乘，相除，求余分别为1、2、3、4\n",
      "请输入您想运算的法则的代码2\n",
      "30\n"
     ]
    }
   ],
   "source": [
    "#练习 2：写程序，可由键盘读入两个整数m与n(n不等于0)，询问用户意图，如果要求和则计算从m到n的和输出，如果要乘积则计算从m到n的积并输出，如果要求余数则计算m除以n的余数的值并输出，否则则计算m整除n的值并输出。\n",
    "m = int(input('请输入一个整数，以回车键结束。'))\n",
    "n = int(input('请输入任意一个非零整数，以回车结束'))\n",
    "a = m + n\n",
    "b = m * n\n",
    "c = m / n\n",
    "d = m % n\n",
    "x = m // n\n",
    "print('运算法则代码,相加，相乘，相除，求余分别为1、2、3、4')\n",
    "\n",
    "e = 1\n",
    "f = 2\n",
    "g = 3\n",
    "h = 4\n",
    "w = int(input('请输入您想运算的法则的代码'))\n",
    "\n",
    "if w == e :\n",
    "    print(a)\n",
    "elif w == f :\n",
    "    print(b)\n",
    "elif w == g :\n",
    "    print(c)\n",
    "elif w == h :\n",
    "    print (d)\n",
    "else :\n",
    "    print(x)"
   ]
  },
  {
   "cell_type": "code",
   "execution_count": 22,
   "metadata": {
    "scrolled": true
   },
   "outputs": [
    {
     "name": "stdout",
     "output_type": "stream",
     "text": [
      "请输入一个英文名字的单数形式peach\n",
      "peaches\n"
     ]
    }
   ],
   "source": [
    "w = input('请输入一个英文名字的单数形式')\n",
    "if w.endswith('ch'):\n",
    "    print(w+'es')\n",
    "else :\n",
    "    print(w+'s')"
   ]
  },
  {
   "cell_type": "code",
   "execution_count": 32,
   "metadata": {},
   "outputs": [
    {
     "name": "stdout",
     "output_type": "stream",
     "text": [
      "\n",
      "\n",
      "\n",
      "\n"
     ]
    }
   ],
   "source": [
    "print ('\\n')\n",
    "print('\\n')\n"
   ]
  },
  {
   "cell_type": "code",
   "execution_count": null,
   "metadata": {
    "collapsed": true
   },
   "outputs": [],
   "source": []
  },
  {
   "cell_type": "code",
   "execution_count": null,
   "metadata": {
    "collapsed": true
   },
   "outputs": [],
   "source": []
  }
 ],
 "metadata": {
  "kernelspec": {
   "display_name": "Python 3",
   "language": "python",
   "name": "python3"
  },
  "language_info": {
   "codemirror_mode": {
    "name": "ipython",
    "version": 3
   },
   "file_extension": ".py",
   "mimetype": "text/x-python",
   "name": "python",
   "nbconvert_exporter": "python",
   "pygments_lexer": "ipython3",
   "version": "3.6.2"
  }
 },
 "nbformat": 4,
 "nbformat_minor": 2
}
