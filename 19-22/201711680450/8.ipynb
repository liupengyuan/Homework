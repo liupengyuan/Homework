{
 "cells": [
  {
   "cell_type": "code",
   "execution_count": 2,
   "metadata": {},
   "outputs": [],
   "source": [
    "def exist(x):\n",
    "    with open (r'C:\\temp\\成语大全.txt') as fh :\n",
    "        for i in set(f.readlines()) :\n",
    "            if x == i.strip :\n",
    "                return True\n",
    "        return False"
   ]
  },
  {
   "cell_type": "code",
   "execution_count": 1,
   "metadata": {},
   "outputs": [
    {
     "name": "stdout",
     "output_type": "stream",
     "text": [
      "相敬如宾\n",
      "请输入您接的成语宾客盈门\n",
      "您的得分是： 10\n",
      "电脑的得分是： 0\n"
     ]
    }
   ],
   "source": [
    "import random\n",
    "\n",
    "def game():\n",
    "    fh = open(r'C:\\temp\\成语大全.txt')\n",
    "    text = fh.read()\n",
    "    text = text.replace('、','')\n",
    "    text = text.split()\n",
    "    \n",
    "    man_grade = 0\n",
    "    computer_grade = 0\n",
    "   \n",
    "    idiom1 = random.choice(text)\n",
    "    print(idiom1)\n",
    "    idiom2 = str(input('请输入您接的成语'))\n",
    "    \n",
    "    if idiom1[-1] == idiom2[0] :\n",
    "        man_grade += 10\n",
    "        for idiom in text :\n",
    "            if idiom[0] == idiom2[-1]:\n",
    "                print('电脑接的成语：',idiom)\n",
    "                computer_grade += 10\n",
    "                idiom2 = str(input('请输入您接的成语:'))\n",
    "            else :\n",
    "                computer_grade += 0\n",
    "                break\n",
    "                print('电脑无法接龙您，电脑失败')\n",
    "        \n",
    "    else :\n",
    "        computer_grade += 10\n",
    "        print('输入的成语不在成语大全中')\n",
    "    \n",
    "    print('您的得分是：',man_grade)\n",
    "    print('电脑的得分是：',computer_grade)\n",
    "\n",
    "game()"
   ]
  }
 ],
 "metadata": {
  "kernelspec": {
   "display_name": "Python 3",
   "language": "python",
   "name": "python3"
  },
  "language_info": {
   "codemirror_mode": {
    "name": "ipython",
    "version": 3
   },
   "file_extension": ".py",
   "mimetype": "text/x-python",
   "name": "python",
   "nbconvert_exporter": "python",
   "pygments_lexer": "ipython3",
   "version": "3.6.3"
  }
 },
 "nbformat": 4,
 "nbformat_minor": 2
}
