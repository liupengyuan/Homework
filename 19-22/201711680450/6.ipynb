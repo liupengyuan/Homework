{
 "cells": [
  {
   "cell_type": "code",
   "execution_count": 7,
   "metadata": {},
   "outputs": [
    {
     "name": "stdout",
     "output_type": "stream",
     "text": [
      "请输入您要查询的对象h\n",
      "-1\n"
     ]
    }
   ],
   "source": [
    "#写函数，返回某个元素/对象在一个list中的位置，如果不在，则返回-1.\n",
    "def mine(_objects):\n",
    "    i = 0\n",
    "    n = input('请输入您要查询的对象')\n",
    "    if n in _objects :\n",
    "        i = _objects.index(n)\n",
    "    else :\n",
    "        i = -1\n",
    "    return i\n",
    "print(mine(_objects=['a','b','c','d','e','f','g']))"
   ]
  },
  {
   "cell_type": "code",
   "execution_count": 36,
   "metadata": {},
   "outputs": [
    {
     "name": "stdout",
     "output_type": "stream",
     "text": [
      "[1, 5, 2, 6, 3, 7, 4, 8]\n"
     ]
    }
   ],
   "source": [
    "#写函数，可将两个相同长度的list，间隔插入，生成新的list。例如：给两个list，a=[1,2,3,4], b=[5,6,7,8]。则可以生成：[1,5,2,6,3,7,4,8]。\n",
    "def mine(a_numbers,b_numbers) :\n",
    "    i = 0\n",
    "    numbers = []\n",
    "    while i < len(a_numbers) :\n",
    "        numbers.append(a_numbers[i])\n",
    "        numbers.append(b_numbers[i])\n",
    "        i += 1\n",
    "    return numbers\n",
    "print(mine(a_numbers=[1,2,3,4],b_numbers=[5,6,7,8]))"
   ]
  },
  {
   "cell_type": "code",
   "execution_count": 6,
   "metadata": {},
   "outputs": [
    {
     "name": "stdout",
     "output_type": "stream",
     "text": [
      "3.3333333333333335\n"
     ]
    }
   ],
   "source": [
    "#写函数，可求两个向量的夹角余弦值，向量可放在list中。主程序调用该函数。\n",
    "def mine(vectors):\n",
    "    a = vectors[0]\n",
    "    b = vectors[1]\n",
    "    c = vectors[2]\n",
    "    d = vectors[3]\n",
    "    e = (a**2+b**2)**(1/2)\n",
    "    f = (c**2+d**2)**(1/2)\n",
    "    g = a*c+b*d\n",
    "    cos = g/(e+f)\n",
    "    return cos\n",
    "print(mine(vectors =[6,8,3,4]))"
   ]
  }
 ],
 "metadata": {
  "kernelspec": {
   "display_name": "Python 3",
   "language": "python",
   "name": "python3"
  },
  "language_info": {
   "codemirror_mode": {
    "name": "ipython",
    "version": 3
   },
   "file_extension": ".py",
   "mimetype": "text/x-python",
   "name": "python",
   "nbconvert_exporter": "python",
   "pygments_lexer": "ipython3",
   "version": "3.6.3"
  }
 },
 "nbformat": 4,
 "nbformat_minor": 2
}
