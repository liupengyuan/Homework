{
 "cells": [
  {
   "cell_type": "code",
   "execution_count": 1,
   "metadata": {},
   "outputs": [
    {
     "name": "stdout",
     "output_type": "stream",
     "text": [
      "请输入所取随机整数的个数5\n",
      "请输入所取整数范围的下限10\n",
      "请输入所取整数范围的上限500\n",
      "319.8\n"
     ]
    }
   ],
   "source": [
    "#练习 1：写函数，求n个随机整数均值的平方根，整数范围在m与k之间（n,m,k由用户输入）。\n",
    "def my_sum(n,m,k):\n",
    "    import random\n",
    "    i = 1\n",
    "    total = 0\n",
    "    while i <= n :\n",
    "        i += 1\n",
    "        number = random.randint(m,k)\n",
    "        total += number\n",
    "    a = total/n\n",
    "    return a\n",
    "\n",
    "n = int(input('请输入所取随机整数的个数'))\n",
    "m = int(input('请输入所取整数范围的下限'))\n",
    "k = int(input('请输入所取整数范围的上限'))\n",
    "\n",
    "print(my_sum(n,m,k))"
   ]
  },
  {
   "cell_type": "code",
   "execution_count": 8,
   "metadata": {
    "scrolled": true
   },
   "outputs": [
    {
     "name": "stdout",
     "output_type": "stream",
     "text": [
      "请输入所取随机整数的个数5\n",
      "请输入所取整数范围的下限10\n",
      "请输入所取整数范围的上限500\n",
      "(27.28646987502957, 0.9299930717870287)\n"
     ]
    }
   ],
   "source": [
    "#练习 2：写函数，共n个随机整数，整数范围在m与k之间，（n,m,k由用户输入）。求1：西格玛log(随机整数)，2：西格玛1/log(随机整数)\n",
    "def my_sum(n,m,k):\n",
    "    import random , math\n",
    "    i = 1\n",
    "    total_a = 0\n",
    "    total_b = 0\n",
    "    while i <= n :\n",
    "        i += 1\n",
    "        number = random.randint(m,k)\n",
    "        num = math.log(number)\n",
    "        total_a += num\n",
    "        total_b += 1/num\n",
    "    return total_a , total_b\n",
    "        \n",
    "n = int(input('请输入所取随机整数的个数'))\n",
    "m = int(input('请输入所取整数范围的下限'))\n",
    "k = int(input('请输入所取整数范围的上限'))\n",
    "\n",
    "print(my_sum(n,m,k))"
   ]
  },
  {
   "cell_type": "code",
   "execution_count": 11,
   "metadata": {},
   "outputs": [
    {
     "name": "stdout",
     "output_type": "stream",
     "text": [
      "请输入所取随机整数的个数10\n",
      "12219876.0\n"
     ]
    }
   ],
   "source": [
    "#练习 3：写函数，求s=a+aa+aaa+aaaa+aa...a的值，其中a是[1,9]之间的随机整数。例如2+22+222+2222+22222(此时共有5个数相加)，几个数相加由键盘输入。\n",
    "def my_sum(n) :\n",
    "    import random\n",
    "    i = 1\n",
    "    s = 0\n",
    "    m = 0\n",
    "    num = random.randint(1,9)\n",
    "    k = 10 ** n\n",
    "    a = num\n",
    "    z = 0\n",
    "    while i <= n :\n",
    "        i += 1\n",
    "        z = (10**i-1)/9\n",
    "        if a < k :\n",
    "            s += a\n",
    "            a = a*z\n",
    "    return s\n",
    "\n",
    "n = int(input('请输入所取随机整数的个数'))\n",
    "\n",
    "print(my_sum(n))"
   ]
  }
 ],
 "metadata": {
  "kernelspec": {
   "display_name": "Python 3",
   "language": "python",
   "name": "python3"
  },
  "language_info": {
   "codemirror_mode": {
    "name": "ipython",
    "version": 3
   },
   "file_extension": ".py",
   "mimetype": "text/x-python",
   "name": "python",
   "nbconvert_exporter": "python",
   "pygments_lexer": "ipython3",
   "version": "3.6.2"
  }
 },
 "nbformat": 4,
 "nbformat_minor": 2
}
