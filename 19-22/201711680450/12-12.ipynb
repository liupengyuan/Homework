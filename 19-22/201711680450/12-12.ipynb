{
 "cells": [
  {
   "cell_type": "code",
   "execution_count": 20,
   "metadata": {},
   "outputs": [
    {
     "name": "stdout",
     "output_type": "stream",
     "text": [
      "驰\n",
      "病\n",
      "贤\n",
      "子\n",
      "何\n",
      "尾\n",
      "秦\n",
      "兵\n",
      "完\n",
      "荫\n"
     ]
    }
   ],
   "source": [
    "def get_ch_table(line):\n",
    "    ch_table = []\n",
    "    for ch in line:\n",
    "        if ch not in ch_table:\n",
    "            ch_table.append(ch)\n",
    "    return ch_table\n",
    "\n",
    "fh = open(r'C:\\temp\\idioms_correct.txt')\n",
    "text = fh.read()\n",
    "chs = get_ch_table(text.replace('\\n', ''))\n",
    "\n",
    "import random\n",
    "word1s = []\n",
    "for i in range(10):\n",
    "    word1 = random.choice(chs)\n",
    "    print(word1)\n",
    "    word1s.append(word1)\n",
    "    \n",
    "fho = open(r'C:\\temp\\1.txt','w')\n",
    "fho.writelines(word1s)\n",
    "fho.close()"
   ]
  },
  {
   "cell_type": "code",
   "execution_count": 21,
   "metadata": {},
   "outputs": [
    {
     "name": "stdout",
     "output_type": "stream",
     "text": [
      "村\n",
      "温\n",
      "虑\n",
      "六\n",
      "波\n",
      "公\n",
      "怨\n",
      "披\n",
      "轮\n",
      "放\n",
      "烈\n",
      "阿\n",
      "面\n",
      "蒂\n",
      "虚\n",
      "又\n",
      "始\n",
      "泪\n",
      "请\n",
      "翼\n"
     ]
    }
   ],
   "source": [
    "word2s = []\n",
    "for i in range(20):\n",
    "    word2 = random.choice(chs)\n",
    "    print(word2)\n",
    "    word1s.append(word2)\n",
    "    \n",
    "fho = open(r'C:\\temp\\2.txt','w')\n",
    "fho.writelines(word2s)\n",
    "fho.close()"
   ]
  },
  {
   "cell_type": "code",
   "execution_count": null,
   "metadata": {
    "collapsed": true
   },
   "outputs": [],
   "source": []
  },
  {
   "cell_type": "code",
   "execution_count": null,
   "metadata": {
    "collapsed": true
   },
   "outputs": [],
   "source": []
  },
  {
   "cell_type": "code",
   "execution_count": null,
   "metadata": {
    "collapsed": true
   },
   "outputs": [],
   "source": []
  }
 ],
 "metadata": {
  "kernelspec": {
   "display_name": "Python 3",
   "language": "python",
   "name": "python3"
  },
  "language_info": {
   "codemirror_mode": {
    "name": "ipython",
    "version": 3
   },
   "file_extension": ".py",
   "mimetype": "text/x-python",
   "name": "python",
   "nbconvert_exporter": "python",
   "pygments_lexer": "ipython3",
   "version": "3.6.3"
  }
 },
 "nbformat": 4,
 "nbformat_minor": 2
}
