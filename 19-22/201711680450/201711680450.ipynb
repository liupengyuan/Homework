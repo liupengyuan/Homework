{
 "cells": [
  {
   "cell_type": "code",
   "execution_count": null,
   "metadata": {},
   "outputs": [],
   "source": [
    "n = int(input('请输入一个整数，以回车键结束。'))\n",
    "\n",
    "i = 1\n",
    "total = 1\n",
    "\n",
    "while i < n :\n",
    "    i = i + 1\n",
    "    total = total * i\n",
    "    \n",
    "print(total)\n",
    "              "
   ]
  },
  {
   "cell_type": "code",
   "execution_count": null,
   "metadata": {},
   "outputs": [],
   "source": [
    "name = input('请输入你的姓名，以回车结束。')\n",
    "print('你好', name)\n",
    "\n",
    "n = int(input('请输入一个正整数，以回车结束。'))\n",
    "m = int(input('请输入一个正整数，以回车结束。'))\n",
    "\n",
    "print('两个数的和是：', m+n)\n",
    "print('再见！', name)"
   ]
  },
  {
   "cell_type": "code",
   "execution_count": null,
   "metadata": {},
   "outputs": [],
   "source": [
    "name = input('请输入你的姓名，以回车结束。')\n",
    "print('你好', name)\n",
    "\n",
    "i = 1\n",
    "n = int(input('请输入你要进行运算的数字的总个数，以回车键结束。'))\n",
    "a = int(input('请输入你要运算的第一个数，以回车键结束。'))\n",
    "total = 0\n",
    "\n",
    "while i < n :\n",
    "    i = i + 1\n",
    "    b = int(input('请输入一个整数，以回车键结束。'))\n",
    "    total = total + a + b\n",
    "\n",
    "print('这些数的和是：',total)\n",
    "print('再见！', name)"
   ]
  },
  {
   "cell_type": "code",
   "execution_count": null,
   "metadata": {},
   "outputs": [],
   "source": [
    "n = input('请输入任意一个数字，以回车键结束')\n",
    "\n",
    "while True :\n",
    "    n = input('请输入任意一个数字，以回车键结束。')"
   ]
  },
  {
   "cell_type": "code",
   "execution_count": null,
   "metadata": {},
   "outputs": [],
   "source": [
    "n = input('请输入一个数字，以回车键结束。')\n",
    "total1 = n\n",
    "total2 = 1\n",
    "\n",
    "while total1 <= n and total2 >500 :\n",
    "    n = input('请输入一个数字，以回车键结束')\n",
    "    total1 = total1 + n\n",
    "    total2 = total2 * n"
   ]
  },
  {
   "cell_type": "code",
   "execution_count": null,
   "metadata": {
    "collapsed": true
   },
   "outputs": [],
   "source": []
  }
 ],
 "metadata": {
  "kernelspec": {
   "display_name": "Python 3",
   "language": "python",
   "name": "python3"
  },
  "language_info": {
   "codemirror_mode": {
    "name": "ipython",
    "version": 3
   },
   "file_extension": ".py",
   "mimetype": "text/x-python",
   "name": "python",
   "nbconvert_exporter": "python",
   "pygments_lexer": "ipython3",
   "version": "3.6.2"
  }
 },
 "nbformat": 4,
 "nbformat_minor": 2
}
