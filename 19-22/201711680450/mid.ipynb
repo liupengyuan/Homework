{
 "cells": [
  {
   "cell_type": "code",
   "execution_count": 4,
   "metadata": {},
   "outputs": [
    {
     "data": {
      "text/plain": [
       "56"
      ]
     },
     "execution_count": 4,
     "metadata": {},
     "output_type": "execute_result"
    }
   ],
   "source": [
    "#第一题\n",
    "def mysum(m):\n",
    "    i = 0\n",
    "    n = 0\n",
    "    x = 0\n",
    "    total = 0\n",
    "    while i < m :\n",
    "        i += 1\n",
    "        n += 1\n",
    "        x += n\n",
    "        total += x\n",
    "    return total\n",
    "\n",
    "mysum(6)"
   ]
  },
  {
   "cell_type": "code",
   "execution_count": 15,
   "metadata": {},
   "outputs": [
    {
     "name": "stdout",
     "output_type": "stream",
     "text": [
      "['*']\n",
      "['*', '*']\n",
      "['*', '*', '*']\n",
      "['*', '*', '*', '*']\n",
      "['*', '*', '*', '*', '*']\n"
     ]
    }
   ],
   "source": [
    "#第二题\n",
    "def picture(n,m):\n",
    "    list = []\n",
    "    for i in range(m):\n",
    "        list.append('*')\n",
    "        print(list)\n",
    "    \n",
    "picture('*',5)"
   ]
  },
  {
   "cell_type": "code",
   "execution_count": 25,
   "metadata": {},
   "outputs": [
    {
     "ename": "TypeError",
     "evalue": "'int' object is not subscriptable",
     "output_type": "error",
     "traceback": [
      "\u001b[1;31m---------------------------------------------------------------------------\u001b[0m",
      "\u001b[1;31mTypeError\u001b[0m                                 Traceback (most recent call last)",
      "\u001b[1;32m<ipython-input-25-f06c3e7d3c2d>\u001b[0m in \u001b[0;36m<module>\u001b[1;34m()\u001b[0m\n\u001b[0;32m      3\u001b[0m     \u001b[0mprint\u001b[0m\u001b[1;33m(\u001b[0m\u001b[0mn\u001b[0m\u001b[1;33m[\u001b[0m\u001b[1;36m0\u001b[0m\u001b[1;33m]\u001b[0m\u001b[1;33m)\u001b[0m\u001b[1;33m\u001b[0m\u001b[0m\n\u001b[0;32m      4\u001b[0m \u001b[1;33m\u001b[0m\u001b[0m\n\u001b[1;32m----> 5\u001b[1;33m \u001b[0mmine\u001b[0m\u001b[1;33m(\u001b[0m\u001b[1;36m48723478234432\u001b[0m\u001b[1;33m)\u001b[0m\u001b[1;33m\u001b[0m\u001b[0m\n\u001b[0m\u001b[0;32m      6\u001b[0m \u001b[1;33m\u001b[0m\u001b[0m\n",
      "\u001b[1;32m<ipython-input-25-f06c3e7d3c2d>\u001b[0m in \u001b[0;36mmine\u001b[1;34m(n)\u001b[0m\n\u001b[0;32m      1\u001b[0m \u001b[1;31m#第三题\u001b[0m\u001b[1;33m\u001b[0m\u001b[1;33m\u001b[0m\u001b[0m\n\u001b[0;32m      2\u001b[0m \u001b[1;32mdef\u001b[0m \u001b[0mmine\u001b[0m\u001b[1;33m(\u001b[0m\u001b[0mn\u001b[0m\u001b[1;33m)\u001b[0m\u001b[1;33m:\u001b[0m\u001b[1;33m\u001b[0m\u001b[0m\n\u001b[1;32m----> 3\u001b[1;33m     \u001b[0mprint\u001b[0m\u001b[1;33m(\u001b[0m\u001b[0mn\u001b[0m\u001b[1;33m[\u001b[0m\u001b[1;36m0\u001b[0m\u001b[1;33m]\u001b[0m\u001b[1;33m)\u001b[0m\u001b[1;33m\u001b[0m\u001b[0m\n\u001b[0m\u001b[0;32m      4\u001b[0m \u001b[1;33m\u001b[0m\u001b[0m\n\u001b[0;32m      5\u001b[0m \u001b[0mmine\u001b[0m\u001b[1;33m(\u001b[0m\u001b[1;36m48723478234432\u001b[0m\u001b[1;33m)\u001b[0m\u001b[1;33m\u001b[0m\u001b[0m\n",
      "\u001b[1;31mTypeError\u001b[0m: 'int' object is not subscriptable"
     ]
    }
   ],
   "source": [
    "#第三题\n",
    "def mine(n):\n",
    "    print(n[0])\n",
    "    \n",
    "mine(48723478234432)\n",
    "    "
   ]
  },
  {
   "cell_type": "code",
   "execution_count": 18,
   "metadata": {},
   "outputs": [
    {
     "name": "stdout",
     "output_type": "stream",
     "text": [
      "[183, 185, 183, 187, 190]\n"
     ]
    }
   ],
   "source": [
    "#第四题\n",
    "list = [183,185,183,187,178,175,177,190,172]\n",
    "num = []\n",
    "ave = sum(list)/9\n",
    "i = 0\n",
    "for i in range(9):\n",
    "    if list[i] > ave :\n",
    "        num.append(list[i])\n",
    "print(num)"
   ]
  },
  {
   "cell_type": "code",
   "execution_count": 27,
   "metadata": {},
   "outputs": [
    {
     "name": "stdout",
     "output_type": "stream",
     "text": [
      "5 7\n",
      "请输入您计算的两数相加的结果12\n",
      "2 5\n",
      "请输入您计算的两数相加的结果7\n",
      "4 6\n",
      "请输入您计算的两数相加的结果10\n",
      "10 8\n",
      "请输入您计算的两数相加的结果18\n",
      "2 2\n",
      "请输入您计算的两数相加的结果4\n"
     ]
    },
    {
     "data": {
      "text/plain": [
       "100"
      ]
     },
     "execution_count": 27,
     "metadata": {},
     "output_type": "execute_result"
    }
   ],
   "source": [
    "#第五题\n",
    "import random \n",
    "def game():\n",
    "    i = 0\n",
    "    total = 0\n",
    "    while i < 5 :\n",
    "        i +=1\n",
    "        number1 = random.randint(1,10)\n",
    "        number2 = random.randint(1,10)\n",
    "        print(number1,number2)\n",
    "        result = number1 +number2\n",
    "        yrresult = int(input('请输入您计算的两数相加的结果'))\n",
    "        if yrresult == result :\n",
    "            total += 20\n",
    "        else :\n",
    "            total += 0\n",
    "    return total\n",
    "game()"
   ]
  },
  {
   "cell_type": "code",
   "execution_count": 14,
   "metadata": {},
   "outputs": [
    {
     "name": "stdout",
     "output_type": "stream",
     "text": [
      "[108, -76]\n"
     ]
    }
   ],
   "source": [
    "#第六题\n",
    "list = [3,-5,9,108,34,-76,88]\n",
    "list1 = []\n",
    "i = 0\n",
    "max_ = 3\n",
    "min_ = 3\n",
    "while i < 6 :\n",
    "    i += 1\n",
    "    if list[i] > max_:\n",
    "        max_ = list[i]\n",
    "    else :\n",
    "        max_ = max_\n",
    "    \n",
    "    if list[i] < min_:\n",
    "        min_ = list[i]\n",
    "    else :\n",
    "        min_ = min_\n",
    "\n",
    "list1 = [max_,min_]\n",
    "print(list1)"
   ]
  }
 ],
 "metadata": {
  "kernelspec": {
   "display_name": "Python 3",
   "language": "python",
   "name": "python3"
  },
  "language_info": {
   "codemirror_mode": {
    "name": "ipython",
    "version": 3
   },
   "file_extension": ".py",
   "mimetype": "text/x-python",
   "name": "python",
   "nbconvert_exporter": "python",
   "pygments_lexer": "ipython3",
   "version": "3.6.3"
  }
 },
 "nbformat": 4,
 "nbformat_minor": 2
}
