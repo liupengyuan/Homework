{
 "cells": [
  {
   "cell_type": "code",
   "execution_count": 10,
   "metadata": {},
   "outputs": [
    {
     "name": "stdout",
     "output_type": "stream",
     "text": [
      "请输入一个字符串123456abc\n",
      "该字符串的倒叙字符串是 cba654321\n"
     ]
    }
   ],
   "source": [
    "#练习一：自己定义一个reverse(s)函数，功能返回字符串s的倒序字符串。\n",
    "def reverse(s):\n",
    "    a = ''\n",
    "    a = s[-1:-len(s)-1:-1]\n",
    "    return a\n",
    "\n",
    "s = str(input('请输入一个字符串'))\n",
    "print('该字符串的倒叙字符串是',reverse(s))\n",
    "    "
   ]
  },
  {
   "cell_type": "code",
   "execution_count": 51,
   "metadata": {},
   "outputs": [
    {
     "name": "stdout",
     "output_type": "stream",
     "text": [
      "请输入您想打印的符号*\n",
      "请输入您想打印的行数5\n",
      "*\n",
      "**\n",
      "***\n",
      "****\n",
      "*****\n",
      "\n",
      "         *\n",
      "        ***\n",
      "       *****\n",
      "      *******\n",
      "     *********\n",
      "\n",
      "    *\n",
      "   *******\n",
      "  *************\n",
      " *******************\n",
      "*************************\n"
     ]
    }
   ],
   "source": [
    "#练习二：写函数，根据给定符号和行数，打印相应直角三角形，等腰三角形及其他形式的三角形。input('请输入一个字符串')\n",
    "def triangle(s,l):\n",
    "    a = ''\n",
    "    for i in range(1,l+1):\n",
    "        a += s\n",
    "        print(a)\n",
    "        \n",
    "    print( )\n",
    "    \n",
    "    for j in range(1,l+1):\n",
    "        if j == 1 :\n",
    "            print(' '*(l*2-1) + s)\n",
    "        else:\n",
    "            print(' '*(l*2-j) + s*(2*j-1))\n",
    "            \n",
    "    print(  )\n",
    "    \n",
    "    for k in range(1,l+1):\n",
    "        print(' '*(l-k) + s*(6*k-5))\n",
    "    \n",
    "        \n",
    "s = input('请输入您想打印的符号')\n",
    "l = int(input('请输入您想打印的行数'))\n",
    "\n",
    "triangle(s,l)"
   ]
  },
  {
   "cell_type": "code",
   "execution_count": 8,
   "metadata": {},
   "outputs": [
    {
     "name": "stdout",
     "output_type": "stream",
     "text": [
      "请输入您想打印的符号*\n",
      "请输入您想打印的菱形的边长5\n",
      "    *\n",
      "   ***\n",
      "  *****\n",
      " *******\n",
      "*********\n",
      " *******\n",
      "  *****\n",
      "   ***\n",
      "    *\n",
      "     \n"
     ]
    }
   ],
   "source": [
    "#练习五：写函数，根据给定符号，打印各种菱形。\n",
    "def rhombus(s,l):\n",
    "    for i in range(1,l+1):\n",
    "        print(' '*(l-i)+s*(2*i-1))\n",
    "    a = 0\n",
    "    b = l-1\n",
    "    while a < l :\n",
    "        print(' '*(a+1)+s*(2*b-1))\n",
    "        a += 1\n",
    "        b -= 1\n",
    "       \n",
    "    \n",
    "s = input('请输入您想打印的符号')\n",
    "l = int(input('请输入您想打印的菱形的边长'))\n",
    "rhombus(s,l)"
   ]
  }
 ],
 "metadata": {
  "kernelspec": {
   "display_name": "Python 3",
   "language": "python",
   "name": "python3"
  },
  "language_info": {
   "codemirror_mode": {
    "name": "ipython",
    "version": 3
   },
   "file_extension": ".py",
   "mimetype": "text/x-python",
   "name": "python",
   "nbconvert_exporter": "python",
   "pygments_lexer": "ipython3",
   "version": "3.6.3"
  }
 },
 "nbformat": 4,
 "nbformat_minor": 2
}
