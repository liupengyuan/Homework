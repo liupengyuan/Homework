{
 "cells": [
  {
   "cell_type": "code",
   "execution_count": 11,
   "metadata": {},
   "outputs": [
    {
     "name": "stdout",
     "output_type": "stream",
     "text": [
      "           * ***** *          \n",
      "         * * ***** * *        \n",
      "       * * * ***** * * *      \n",
      "     * * * * ***** * * * *    \n",
      "   * * * * * ***** * * * * *  \n"
     ]
    }
   ],
   "source": [
    "#1\n",
    "def picture(s,n):\n",
    "    for i in range(n):\n",
    "        print(' '*(10-2*i)+(' '+s)*(i+1)+' '+s*5 +''+(' '+'*')*(i+1)+' '*(10-2*i))\n",
    "s = '*'\n",
    "picture(s,5)"
   ]
  },
  {
   "cell_type": "code",
   "execution_count": 12,
   "metadata": {},
   "outputs": [
    {
     "name": "stdout",
     "output_type": "stream",
     "text": [
      "           * ***** *          \n",
      "         * * ***** * *        \n",
      "       * * * ***** * * *      \n",
      "     * * * * ***** * * * *    \n",
      "   * * * * * ***** * * * * *  \n"
     ]
    }
   ],
   "source": [
    "def picture(s,n):\n",
    "    for i in range(n):\n",
    "        print(' '*(10-2*i)+(' '+s)*(i+1)+' '+s*n +''+(' '+'*')*(i+1)+' '*(10-2*i))\n",
    "s = '*'\n",
    "picture(s,5)"
   ]
  },
  {
   "cell_type": "code",
   "execution_count": 27,
   "metadata": {},
   "outputs": [
    {
     "data": {
      "text/plain": [
       "125"
      ]
     },
     "execution_count": 27,
     "metadata": {},
     "output_type": "execute_result"
    }
   ],
   "source": [
    "#2\n",
    "def A(m,n):\n",
    "    if m == 0 :\n",
    "        return n + 1\n",
    "    elif m > 0 and n == 0 :\n",
    "        return A(m-1 , 1)\n",
    "    elif m >0 and n > 0 :\n",
    "        return A(m-1 , A(m , n-1 ))\n",
    "A(3,4)"
   ]
  },
  {
   "cell_type": "code",
   "execution_count": 57,
   "metadata": {},
   "outputs": [
    {
     "ename": "ValueError",
     "evalue": "invalid literal for int() with base 10: '-'",
     "output_type": "error",
     "traceback": [
      "\u001b[1;31m---------------------------------------------------------------------------\u001b[0m",
      "\u001b[1;31mValueError\u001b[0m                                Traceback (most recent call last)",
      "\u001b[1;32m<ipython-input-57-e27fe1102146>\u001b[0m in \u001b[0;36m<module>\u001b[1;34m()\u001b[0m\n\u001b[0;32m      5\u001b[0m \u001b[0mb\u001b[0m \u001b[1;33m=\u001b[0m \u001b[1;36m25\u001b[0m\u001b[1;33m\u001b[0m\u001b[0m\n\u001b[0;32m      6\u001b[0m \u001b[1;32mfor\u001b[0m \u001b[0mp\u001b[0m \u001b[1;32min\u001b[0m \u001b[0mrange\u001b[0m\u001b[1;33m(\u001b[0m\u001b[0mn\u001b[0m\u001b[1;33m)\u001b[0m\u001b[1;33m:\u001b[0m\u001b[1;33m\u001b[0m\u001b[0m\n\u001b[1;32m----> 7\u001b[1;33m         \u001b[0mj\u001b[0m \u001b[1;33m=\u001b[0m \u001b[0mrandom\u001b[0m\u001b[1;33m.\u001b[0m\u001b[0mrandint\u001b[0m\u001b[1;33m(\u001b[0m\u001b[0ma\u001b[0m\u001b[1;33m,\u001b[0m\u001b[0mb\u001b[0m\u001b[1;33m)\u001b[0m\u001b[1;33m\u001b[0m\u001b[0m\n\u001b[0m\u001b[0;32m      8\u001b[0m         \u001b[0mk\u001b[0m \u001b[1;33m=\u001b[0m \u001b[0mrandom\u001b[0m\u001b[1;33m.\u001b[0m\u001b[0mrandint\u001b[0m\u001b[1;33m(\u001b[0m\u001b[0ma\u001b[0m\u001b[1;33m,\u001b[0m\u001b[0mb\u001b[0m\u001b[1;33m)\u001b[0m\u001b[1;33m\u001b[0m\u001b[0m\n\u001b[0;32m      9\u001b[0m         \u001b[1;32mif\u001b[0m \u001b[0mj\u001b[0m \u001b[1;33m<\u001b[0m \u001b[0mk\u001b[0m \u001b[1;33m:\u001b[0m\u001b[1;33m\u001b[0m\u001b[0m\n",
      "\u001b[1;32mD:\\ana\\lib\\random.py\u001b[0m in \u001b[0;36mrandint\u001b[1;34m(self, a, b)\u001b[0m\n\u001b[0;32m    218\u001b[0m         \"\"\"\n\u001b[0;32m    219\u001b[0m \u001b[1;33m\u001b[0m\u001b[0m\n\u001b[1;32m--> 220\u001b[1;33m         \u001b[1;32mreturn\u001b[0m \u001b[0mself\u001b[0m\u001b[1;33m.\u001b[0m\u001b[0mrandrange\u001b[0m\u001b[1;33m(\u001b[0m\u001b[0ma\u001b[0m\u001b[1;33m,\u001b[0m \u001b[0mb\u001b[0m\u001b[1;33m+\u001b[0m\u001b[1;36m1\u001b[0m\u001b[1;33m)\u001b[0m\u001b[1;33m\u001b[0m\u001b[0m\n\u001b[0m\u001b[0;32m    221\u001b[0m \u001b[1;33m\u001b[0m\u001b[0m\n\u001b[0;32m    222\u001b[0m     def _randbelow(self, n, int=int, maxsize=1<<BPF, type=type,\n",
      "\u001b[1;32mD:\\ana\\lib\\random.py\u001b[0m in \u001b[0;36mrandrange\u001b[1;34m(self, start, stop, step, _int)\u001b[0m\n\u001b[0;32m    180\u001b[0m         \u001b[1;31m# This code is a bit messy to make it fast for the\u001b[0m\u001b[1;33m\u001b[0m\u001b[1;33m\u001b[0m\u001b[0m\n\u001b[0;32m    181\u001b[0m         \u001b[1;31m# common case while still doing adequate error checking.\u001b[0m\u001b[1;33m\u001b[0m\u001b[1;33m\u001b[0m\u001b[0m\n\u001b[1;32m--> 182\u001b[1;33m         \u001b[0mistart\u001b[0m \u001b[1;33m=\u001b[0m \u001b[0m_int\u001b[0m\u001b[1;33m(\u001b[0m\u001b[0mstart\u001b[0m\u001b[1;33m)\u001b[0m\u001b[1;33m\u001b[0m\u001b[0m\n\u001b[0m\u001b[0;32m    183\u001b[0m         \u001b[1;32mif\u001b[0m \u001b[0mistart\u001b[0m \u001b[1;33m!=\u001b[0m \u001b[0mstart\u001b[0m\u001b[1;33m:\u001b[0m\u001b[1;33m\u001b[0m\u001b[0m\n\u001b[0;32m    184\u001b[0m             \u001b[1;32mraise\u001b[0m \u001b[0mValueError\u001b[0m\u001b[1;33m(\u001b[0m\u001b[1;34m\"non-integer arg 1 for randrange()\"\u001b[0m\u001b[1;33m)\u001b[0m\u001b[1;33m\u001b[0m\u001b[0m\n",
      "\u001b[1;31mValueError\u001b[0m: invalid literal for int() with base 10: '-'"
     ]
    }
   ],
   "source": [
    "#3\n",
    "import random\n",
    "n = 15\n",
    "a = 3\n",
    "b = 25\n",
    "for p in range(n):\n",
    "        j = random.randint(a,b)\n",
    "        k = random.randint(a,b)\n",
    "        if j < k :\n",
    "            j,k = k,j\n",
    "        text = [j,k]\n",
    "        list = ['+','-','*','/']\n",
    "        a = random.choice(list)\n",
    "        if j//k == 0 :\n",
    "            print(text[0],a,text[1],'=')"
   ]
  },
  {
   "cell_type": "code",
   "execution_count": 43,
   "metadata": {},
   "outputs": [
    {
     "ename": "ValueError",
     "evalue": "invalid literal for int() with base 10: '-'",
     "output_type": "error",
     "traceback": [
      "\u001b[1;31m---------------------------------------------------------------------------\u001b[0m",
      "\u001b[1;31mValueError\u001b[0m                                Traceback (most recent call last)",
      "\u001b[1;32m<ipython-input-43-c5159a81c3d3>\u001b[0m in \u001b[0;36m<module>\u001b[1;34m()\u001b[0m\n\u001b[0;32m     14\u001b[0m             \u001b[0mprint\u001b[0m\u001b[1;33m(\u001b[0m\u001b[0mtext\u001b[0m\u001b[1;33m[\u001b[0m\u001b[1;36m0\u001b[0m\u001b[1;33m]\u001b[0m\u001b[1;33m,\u001b[0m\u001b[0ma\u001b[0m\u001b[1;33m,\u001b[0m\u001b[0mtext\u001b[0m\u001b[1;33m[\u001b[0m\u001b[1;36m1\u001b[0m\u001b[1;33m]\u001b[0m\u001b[1;33m)\u001b[0m\u001b[1;33m\u001b[0m\u001b[0m\n\u001b[0;32m     15\u001b[0m \u001b[1;33m\u001b[0m\u001b[0m\n\u001b[1;32m---> 16\u001b[1;33m \u001b[0mok\u001b[0m\u001b[1;33m(\u001b[0m\u001b[1;36m15\u001b[0m\u001b[1;33m,\u001b[0m\u001b[1;36m3\u001b[0m\u001b[1;33m,\u001b[0m\u001b[1;36m25\u001b[0m\u001b[1;33m)\u001b[0m\u001b[1;33m\u001b[0m\u001b[0m\n\u001b[0m",
      "\u001b[1;32m<ipython-input-43-c5159a81c3d3>\u001b[0m in \u001b[0;36mok\u001b[1;34m(n, a, b)\u001b[0m\n\u001b[0;32m      3\u001b[0m \u001b[1;32mdef\u001b[0m \u001b[0mok\u001b[0m\u001b[1;33m(\u001b[0m\u001b[0mn\u001b[0m\u001b[1;33m,\u001b[0m\u001b[0ma\u001b[0m\u001b[1;33m,\u001b[0m\u001b[0mb\u001b[0m\u001b[1;33m)\u001b[0m\u001b[1;33m:\u001b[0m\u001b[1;33m\u001b[0m\u001b[0m\n\u001b[0;32m      4\u001b[0m     \u001b[1;32mfor\u001b[0m \u001b[0mp\u001b[0m \u001b[1;32min\u001b[0m \u001b[0mrange\u001b[0m\u001b[1;33m(\u001b[0m\u001b[0mn\u001b[0m\u001b[1;33m)\u001b[0m\u001b[1;33m:\u001b[0m\u001b[1;33m\u001b[0m\u001b[0m\n\u001b[1;32m----> 5\u001b[1;33m         \u001b[0mj\u001b[0m \u001b[1;33m=\u001b[0m \u001b[0mrandom\u001b[0m\u001b[1;33m.\u001b[0m\u001b[0mrandint\u001b[0m\u001b[1;33m(\u001b[0m\u001b[0ma\u001b[0m\u001b[1;33m,\u001b[0m\u001b[0mb\u001b[0m\u001b[1;33m)\u001b[0m\u001b[1;33m\u001b[0m\u001b[0m\n\u001b[0m\u001b[0;32m      6\u001b[0m         \u001b[0mk\u001b[0m \u001b[1;33m=\u001b[0m \u001b[0mrandom\u001b[0m\u001b[1;33m.\u001b[0m\u001b[0mrandint\u001b[0m\u001b[1;33m(\u001b[0m\u001b[0ma\u001b[0m\u001b[1;33m,\u001b[0m\u001b[0mb\u001b[0m\u001b[1;33m)\u001b[0m\u001b[1;33m\u001b[0m\u001b[0m\n\u001b[0;32m      7\u001b[0m         \u001b[1;32mif\u001b[0m \u001b[0mj\u001b[0m \u001b[1;33m<\u001b[0m \u001b[0mk\u001b[0m \u001b[1;33m:\u001b[0m\u001b[1;33m\u001b[0m\u001b[0m\n",
      "\u001b[1;32mD:\\ana\\lib\\random.py\u001b[0m in \u001b[0;36mrandint\u001b[1;34m(self, a, b)\u001b[0m\n\u001b[0;32m    218\u001b[0m         \"\"\"\n\u001b[0;32m    219\u001b[0m \u001b[1;33m\u001b[0m\u001b[0m\n\u001b[1;32m--> 220\u001b[1;33m         \u001b[1;32mreturn\u001b[0m \u001b[0mself\u001b[0m\u001b[1;33m.\u001b[0m\u001b[0mrandrange\u001b[0m\u001b[1;33m(\u001b[0m\u001b[0ma\u001b[0m\u001b[1;33m,\u001b[0m \u001b[0mb\u001b[0m\u001b[1;33m+\u001b[0m\u001b[1;36m1\u001b[0m\u001b[1;33m)\u001b[0m\u001b[1;33m\u001b[0m\u001b[0m\n\u001b[0m\u001b[0;32m    221\u001b[0m \u001b[1;33m\u001b[0m\u001b[0m\n\u001b[0;32m    222\u001b[0m     def _randbelow(self, n, int=int, maxsize=1<<BPF, type=type,\n",
      "\u001b[1;32mD:\\ana\\lib\\random.py\u001b[0m in \u001b[0;36mrandrange\u001b[1;34m(self, start, stop, step, _int)\u001b[0m\n\u001b[0;32m    180\u001b[0m         \u001b[1;31m# This code is a bit messy to make it fast for the\u001b[0m\u001b[1;33m\u001b[0m\u001b[1;33m\u001b[0m\u001b[0m\n\u001b[0;32m    181\u001b[0m         \u001b[1;31m# common case while still doing adequate error checking.\u001b[0m\u001b[1;33m\u001b[0m\u001b[1;33m\u001b[0m\u001b[0m\n\u001b[1;32m--> 182\u001b[1;33m         \u001b[0mistart\u001b[0m \u001b[1;33m=\u001b[0m \u001b[0m_int\u001b[0m\u001b[1;33m(\u001b[0m\u001b[0mstart\u001b[0m\u001b[1;33m)\u001b[0m\u001b[1;33m\u001b[0m\u001b[0m\n\u001b[0m\u001b[0;32m    183\u001b[0m         \u001b[1;32mif\u001b[0m \u001b[0mistart\u001b[0m \u001b[1;33m!=\u001b[0m \u001b[0mstart\u001b[0m\u001b[1;33m:\u001b[0m\u001b[1;33m\u001b[0m\u001b[0m\n\u001b[0;32m    184\u001b[0m             \u001b[1;32mraise\u001b[0m \u001b[0mValueError\u001b[0m\u001b[1;33m(\u001b[0m\u001b[1;34m\"non-integer arg 1 for randrange()\"\u001b[0m\u001b[1;33m)\u001b[0m\u001b[1;33m\u001b[0m\u001b[0m\n",
      "\u001b[1;31mValueError\u001b[0m: invalid literal for int() with base 10: '-'"
     ]
    }
   ],
   "source": [
    "#3\n",
    "import random\n",
    "def ok(n,a,b):\n",
    "    for p in range(n):\n",
    "        j = random.randint(a,b)\n",
    "        k = random.randint(a,b)\n",
    "        if j < k :\n",
    "            j,k = j,k\n",
    "    \n",
    "        text = [j,k]\n",
    "        list = ['+','-','*','/']\n",
    "        a = random.choice(list)\n",
    "        if j//k == 0 :\n",
    "            print(text[0],a,text[1])\n",
    "            \n",
    "ok(15,3,25)"
   ]
  },
  {
   "cell_type": "code",
   "execution_count": 18,
   "metadata": {},
   "outputs": [],
   "source": [
    "#3\n",
    "import random\n",
    "def game(n,a,b):\n",
    "    for p in range(n):\n",
    "        j = random.randint(a,b)\n",
    "        k = random.randint(a,b)\n",
    "        if j < k :\n",
    "            j,k = j,k\n",
    "        text = [j,k]\n",
    "        list = ['+','-','*','/']\n",
    "        a = random.choice(list)\n",
    "        if j//k == 0 :\n",
    "            print(text[0],'a',text[1])\n",
    "            \n",
    "    man = [ int(input('请输入您的答案：')) for i in range(15)]\n",
    "    computer = []\n",
    "    num = 0\n",
    "    if 'a' == '+' :\n",
    "        num = j + k \n",
    "        computer.append(num)\n",
    "    elif 'a' == '-' :\n",
    "        num = j - k \n",
    "        computer.append(num)\n",
    "    elif 'a' == '*' :\n",
    "        num = j * k \n",
    "        computer.append(num)\n",
    "    else :\n",
    "        num = j / k \n",
    "        computer.append(num)\n",
    "    \n",
    "    score = 0\n",
    "    for g in range(n):\n",
    "        if 'a' == '+' or 'a' == '-':\n",
    "            if man[g] == computer[g]:\n",
    "                score += 5\n",
    "            else :\n",
    "                score += 0\n",
    "        else :\n",
    "            if man[g] == computer[g]:\n",
    "                score += 10\n",
    "            else :\n",
    "                score += 0\n",
    "    return socre\n",
    "\n",
    "n = 15\n",
    "game(15,3,25)\n",
    "            "
   ]
  },
  {
   "cell_type": "code",
   "execution_count": 31,
   "metadata": {},
   "outputs": [
    {
     "name": "stdout",
     "output_type": "stream",
     "text": [
      "请输入您想出的题目的个数：5\n",
      "请您输入您的题目：5+6\n",
      "请输入您题目的答案：11\n",
      "请输入您所出题的计算法则（+-*/）:+\n"
     ]
    },
    {
     "ename": "NameError",
     "evalue": "name 'j' is not defined",
     "output_type": "error",
     "traceback": [
      "\u001b[1;31m---------------------------------------------------------------------------\u001b[0m",
      "\u001b[1;31mNameError\u001b[0m                                 Traceback (most recent call last)",
      "\u001b[1;32m<ipython-input-31-02f49916cf89>\u001b[0m in \u001b[0;36m<module>\u001b[1;34m()\u001b[0m\n\u001b[0;32m     30\u001b[0m                 \u001b[0mscore\u001b[0m \u001b[1;33m+=\u001b[0m \u001b[1;36m0\u001b[0m\u001b[1;33m\u001b[0m\u001b[0m\n\u001b[0;32m     31\u001b[0m \u001b[0mm\u001b[0m \u001b[1;33m=\u001b[0m \u001b[0mint\u001b[0m\u001b[1;33m(\u001b[0m\u001b[0minput\u001b[0m\u001b[1;33m(\u001b[0m\u001b[1;34m'请输入您想出的题目的个数：'\u001b[0m\u001b[1;33m)\u001b[0m\u001b[1;33m)\u001b[0m\u001b[1;33m\u001b[0m\u001b[0m\n\u001b[1;32m---> 32\u001b[1;33m \u001b[0mmine\u001b[0m\u001b[1;33m(\u001b[0m\u001b[0mm\u001b[0m\u001b[1;33m)\u001b[0m\u001b[1;33m\u001b[0m\u001b[0m\n\u001b[0m",
      "\u001b[1;32m<ipython-input-31-02f49916cf89>\u001b[0m in \u001b[0;36mmine\u001b[1;34m(m)\u001b[0m\n\u001b[0;32m      6\u001b[0m         \u001b[0ma\u001b[0m \u001b[1;33m=\u001b[0m \u001b[0minput\u001b[0m\u001b[1;33m(\u001b[0m\u001b[1;34m'请输入您所出题的计算法则（+-*/）:'\u001b[0m\u001b[1;33m)\u001b[0m\u001b[1;33m\u001b[0m\u001b[0m\n\u001b[0;32m      7\u001b[0m         \u001b[1;32mif\u001b[0m \u001b[0ma\u001b[0m \u001b[1;33m==\u001b[0m \u001b[1;34m'+'\u001b[0m \u001b[1;33m:\u001b[0m\u001b[1;33m\u001b[0m\u001b[0m\n\u001b[1;32m----> 8\u001b[1;33m             \u001b[0mnum\u001b[0m \u001b[1;33m=\u001b[0m \u001b[0mj\u001b[0m \u001b[1;33m+\u001b[0m \u001b[0mk\u001b[0m\u001b[1;33m\u001b[0m\u001b[0m\n\u001b[0m\u001b[0;32m      9\u001b[0m             \u001b[1;32mif\u001b[0m \u001b[0mnum\u001b[0m \u001b[1;33m==\u001b[0m \u001b[0mresult\u001b[0m \u001b[1;33m:\u001b[0m\u001b[1;33m\u001b[0m\u001b[0m\n\u001b[0;32m     10\u001b[0m                 \u001b[0mscore\u001b[0m \u001b[1;33m+=\u001b[0m \u001b[1;36m5\u001b[0m\u001b[1;33m\u001b[0m\u001b[0m\n",
      "\u001b[1;31mNameError\u001b[0m: name 'j' is not defined"
     ]
    }
   ],
   "source": [
    "def mine(m):\n",
    "    score = 0\n",
    "    for i in range(m):\n",
    "        human = input('请您输入您的题目：')\n",
    "        result = int(input('请输入您题目的答案：'))\n",
    "        a = input('请输入您所出题的计算法则（+-*/）:')\n",
    "        if a == '+' :\n",
    "            num = j + k \n",
    "            if num == result :\n",
    "                score += 5\n",
    "            else :\n",
    "                socre += 0\n",
    "        elif 'a' == '-' :\n",
    "            num = j - k \n",
    "            if num == result:\n",
    "                score += 5\n",
    "            else :\n",
    "                score += 0\n",
    "        elif 'a' == '*' :\n",
    "            num = j * k \n",
    "            if num == result:\n",
    "                score += 10\n",
    "            else :\n",
    "                score += 0\n",
    "        else :\n",
    "            num = j / k \n",
    "            if num == result:\n",
    "                score += 10\n",
    "            else :\n",
    "                score += 0\n",
    "m = int(input('请输入您想出的题目的个数：'))    \n",
    "mine(m)  "
   ]
  },
  {
   "cell_type": "code",
   "execution_count": 19,
   "metadata": {},
   "outputs": [
    {
     "ename": "UnicodeDecodeError",
     "evalue": "'utf-8' codec can't decode byte 0xd0 in position 0: invalid continuation byte",
     "output_type": "error",
     "traceback": [
      "\u001b[1;31m---------------------------------------------------------------------------\u001b[0m",
      "\u001b[1;31mUnicodeDecodeError\u001b[0m                        Traceback (most recent call last)",
      "\u001b[1;32m<ipython-input-19-524f7e00c06c>\u001b[0m in \u001b[0;36m<module>\u001b[1;34m()\u001b[0m\n\u001b[0;32m      1\u001b[0m \u001b[1;31m#4\u001b[0m\u001b[1;33m\u001b[0m\u001b[1;33m\u001b[0m\u001b[0m\n\u001b[0;32m      2\u001b[0m \u001b[1;32mwith\u001b[0m \u001b[0mopen\u001b[0m\u001b[1;33m(\u001b[0m\u001b[1;34mr'F:\\idioms.txt'\u001b[0m\u001b[1;33m,\u001b[0m\u001b[0mencoding\u001b[0m \u001b[1;33m=\u001b[0m \u001b[1;34m'utf-8'\u001b[0m\u001b[1;33m)\u001b[0m \u001b[1;32mas\u001b[0m \u001b[0mfh\u001b[0m \u001b[1;33m:\u001b[0m\u001b[1;33m\u001b[0m\u001b[0m\n\u001b[1;32m----> 3\u001b[1;33m     \u001b[0mtext\u001b[0m \u001b[1;33m=\u001b[0m \u001b[0mfh\u001b[0m\u001b[1;33m.\u001b[0m\u001b[0mread\u001b[0m\u001b[1;33m(\u001b[0m\u001b[1;33m)\u001b[0m\u001b[1;33m\u001b[0m\u001b[0m\n\u001b[0m\u001b[0;32m      4\u001b[0m \u001b[0mA\u001b[0m \u001b[1;33m=\u001b[0m \u001b[0mtext\u001b[0m\u001b[1;33m.\u001b[0m\u001b[0msplit\u001b[0m\u001b[1;33m(\u001b[0m\u001b[1;33m)\u001b[0m\u001b[1;33m\u001b[0m\u001b[0m\n",
      "\u001b[1;32mD:\\ana\\lib\\codecs.py\u001b[0m in \u001b[0;36mdecode\u001b[1;34m(self, input, final)\u001b[0m\n\u001b[0;32m    319\u001b[0m         \u001b[1;31m# decode input (taking the buffer into account)\u001b[0m\u001b[1;33m\u001b[0m\u001b[1;33m\u001b[0m\u001b[0m\n\u001b[0;32m    320\u001b[0m         \u001b[0mdata\u001b[0m \u001b[1;33m=\u001b[0m \u001b[0mself\u001b[0m\u001b[1;33m.\u001b[0m\u001b[0mbuffer\u001b[0m \u001b[1;33m+\u001b[0m \u001b[0minput\u001b[0m\u001b[1;33m\u001b[0m\u001b[0m\n\u001b[1;32m--> 321\u001b[1;33m         \u001b[1;33m(\u001b[0m\u001b[0mresult\u001b[0m\u001b[1;33m,\u001b[0m \u001b[0mconsumed\u001b[0m\u001b[1;33m)\u001b[0m \u001b[1;33m=\u001b[0m \u001b[0mself\u001b[0m\u001b[1;33m.\u001b[0m\u001b[0m_buffer_decode\u001b[0m\u001b[1;33m(\u001b[0m\u001b[0mdata\u001b[0m\u001b[1;33m,\u001b[0m \u001b[0mself\u001b[0m\u001b[1;33m.\u001b[0m\u001b[0merrors\u001b[0m\u001b[1;33m,\u001b[0m \u001b[0mfinal\u001b[0m\u001b[1;33m)\u001b[0m\u001b[1;33m\u001b[0m\u001b[0m\n\u001b[0m\u001b[0;32m    322\u001b[0m         \u001b[1;31m# keep undecoded input until the next call\u001b[0m\u001b[1;33m\u001b[0m\u001b[1;33m\u001b[0m\u001b[0m\n\u001b[0;32m    323\u001b[0m         \u001b[0mself\u001b[0m\u001b[1;33m.\u001b[0m\u001b[0mbuffer\u001b[0m \u001b[1;33m=\u001b[0m \u001b[0mdata\u001b[0m\u001b[1;33m[\u001b[0m\u001b[0mconsumed\u001b[0m\u001b[1;33m:\u001b[0m\u001b[1;33m]\u001b[0m\u001b[1;33m\u001b[0m\u001b[0m\n",
      "\u001b[1;31mUnicodeDecodeError\u001b[0m: 'utf-8' codec can't decode byte 0xd0 in position 0: invalid continuation byte"
     ]
    }
   ],
   "source": [
    "#4\n",
    "with open(r'F:\\idioms.txt',encoding = 'utf-8') as fh :\n",
    "    text = fh.read()\n",
    "A = text.split()\n"
   ]
  },
  {
   "cell_type": "code",
   "execution_count": 51,
   "metadata": {},
   "outputs": [
    {
     "name": "stdout",
     "output_type": "stream",
     "text": [
      "[['行尸走肉', 1], ['金蝉脱壳', 1], ['百里挑一', 1], ['金玉满堂', 1], ['背水一战', 1], ['霸王别姬', 1], ['天上人间', 1], ['不吐不快', 1], ['海阔天空', 1], ['情非得已', 1], ['满腹经纶', 1], ['兵临城下', 1], ['春暖花开', 1], ['插翅难逃', 1], ['黄道吉日', 1], ['天下无双', 1], ['偷天换日', 1], ['两小无猜', 1], ['卧虎藏龙', 1], ['珠光宝气', 1], ['簪缨世族', 1], ['花花公子', 1], ['绘声绘影', 1], ['国色天香', 1], ['相亲相爱', 1], ['八仙过海', 1], ['金玉良缘', 1], ['掌上明珠', 1], ['皆大欢喜', 1], ['逍遥法外', 1], ['生财有道', 1], ['极乐世界', 1], ['情不自禁', 1], ['愚公移山', 1], ['魑魅魍魉', 1], ['龙生九子', 1], ['精卫填海', 1], ['海市蜃楼', 1], ['高山流水', 1], ['擎天柱', 1], ['卧薪尝胆', 1], ['壮志凌云', 1], ['金枝玉叶', 1], ['四海一家', 1], ['穿针引线', 1], ['无忧无虑', 1], ['无地自容', 1], ['三位一体', 1], ['落叶归根', 1], ['相见恨晚', 1], ['惊天动地', 1], ['滔滔不绝', 1], ['相濡以沫', 1], ['长生不死', 1], ['原来如此', 1], ['女娲补天', 1], ['三皇五帝', 1], ['万箭穿心', 1], ['水木清华', 1], ['窈窕淑女', 1], ['破釜沉舟', 1], ['天涯海角', 1], ['牛郎织女', 1], ['倾国倾城', 1], ['飘飘欲仙', 1], ['福星高照', 1], ['妄自菲薄', 1], ['永无止境', 1], ['学富五车', 1], ['饮食男女', 1], ['英雄豪杰', 1], ['国士无双', 1], ['塞翁失马', 1], ['万家灯火', 1], ['石破天惊', 1], ['精忠报国', 1], ['养生之道', 1], ['覆雨翻云', 1], ['六道轮回', 1], ['鹰击长空', 1], ['日日夜夜', 1], ['厚德载物', 1], ['亡羊补牢', 1], ['万里长城', 1], ['黄金时代', 1], ['出生入死', 1], ['一路顺风', 1], ['随遇而安', 1], ['千军万马', 1], ['郑人买履', 1], ['棋逢对手', 1], ['叶公好龙', 1], ['后会无期', 1], ['守株待兔', 1], ['凤凰于飞', 1], ['一生一世', 1], ['花好月圆', 1], ['世外桃源', 1], ['韬光养晦', 1], ['画蛇添足', 1]]\n"
     ]
    }
   ],
   "source": [
    "#4\n",
    "def count_words_freq(filename):\n",
    "    word_freq_pairs = []\n",
    "    with open(filename) as f:\n",
    "        for line in f:\n",
    "            words = [word.split('/')[0] for word in line.split()]\n",
    "            for word in words:\n",
    "                for item in word_freq_pairs:\n",
    "                    if word == item[0]:\n",
    "                        item[1] += 1\n",
    "                        break\n",
    "                else:\n",
    "                    word_freq_pairs.append([word, 1])\n",
    "                    \n",
    "    return word_freq_pairs\n",
    "\n",
    "\n",
    "filename = r'F:\\idioms.txt'\n",
    "table = count_words_freq(filename)\n",
    "print(table[:100])"
   ]
  },
  {
   "cell_type": "code",
   "execution_count": null,
   "metadata": {},
   "outputs": [],
   "source": [
    "def get_word_table(filename):\n",
    "    word_table = []\n",
    "    with open(filename) as f:\n",
    "        text = f.read()\n",
    "    words = [word.split('/')[0] for word in text.split()]\n",
    "    for word in words:\n",
    "        if word not in word_table:\n",
    "            word_table.append(word)\n",
    "    return word_table\n",
    "\n",
    "filename = r'F:\\语料.txt'\n",
    "table = get_word_table(filename)\n",
    "\n",
    "def count_words_freq(filename, words):\n",
    "    word_freq_pairs = []\n",
    "    with open(filename) as f:\n",
    "        text = f.read()\n",
    "    for word in words:\n",
    "        number = text.count(word)\n",
    "        word_freq_pairs.append([word, number])\n",
    "    return word_freq_pairs\n",
    "\n",
    "words_freq = count_words_freq(filename, table)\n",
    "\n",
    "filename = r'F:\\语料.txt'\n",
    "words = table\n",
    "count_words_freq(filename, words)\n"
   ]
  },
  {
   "cell_type": "code",
   "execution_count": 27,
   "metadata": {},
   "outputs": [
    {
     "name": "stdout",
     "output_type": "stream",
     "text": [
      "[('，', 27285), ('的', 15590), ('。', 11646), ('、', 5262), ('“', 3951), ('”', 3937), ('在', 3689), ('了', 3284), ('是', 3011), ('和', 2049), ('年', 1846), ('有', 1546), ('也', 1518), ('：', 1290), ('《', 1252), ('》', 1252), ('将', 1248), ('人', 1151), ('为', 1097), ('中', 1051), ('月', 1024), ('不', 990), ('都', 978), ('他', 973), ('就', 961), ('等', 954), ('对', 942), ('这', 927), ('与', 900), ('上', 887), ('北京', 875), ('我', 875), ('日', 858), ('被', 854), ('记者', 841), ('中国', 788), ('（', 784), ('）', 782), ('到', 765), ('1', 713), ('说', 706), ('一个', 700), ('但', 686), ('后', 669), ('会', 661), ('还', 633), ('从', 628), ('；', 622), ('2014', 611), ('我们', 608)]\n"
     ]
    }
   ],
   "source": [
    "from collections import Counter\n",
    "\n",
    "def count_words_freq_dict(filename):\n",
    "    words_freq_dict = Counter()\n",
    "    \n",
    "    with open(filename) as f:\n",
    "        for line in f:\n",
    "            words_freq_dict.update([word.split('/')[0] for word in line.split()])\n",
    "    return words_freq_dict\n",
    "\n",
    "def main():\n",
    "    filename = r'F:\\语料.txt'\n",
    "    table = count_words_freq_dict(filename)\n",
    "    print(table.most_common(50))\n",
    "\n",
    "if __name__ == '__main__':\n",
    "    main()"
   ]
  },
  {
   "cell_type": "code",
   "execution_count": 39,
   "metadata": {},
   "outputs": [
    {
     "name": "stdout",
     "output_type": "stream",
     "text": [
      "[('，', 14496), ('的', 8139), ('。', 6282), ('、', 2930), ('“', 2134), ('”', 2125), ('在', 1951), ('了', 1542), ('是', 1538), ('和', 1103), ('年', 949), ('也', 829), ('有', 824), ('将', 683), ('《', 659), ('》', 659), ('为', 608), ('月', 608), ('人', 578), ('等', 565), ('中', 563), ('：', 543), ('不', 516), ('北京', 507), ('对', 495), ('与', 494), ('日', 491), ('上', 488), ('就', 480), ('这', 465), ('都', 465), ('他', 460), ('被', 458), ('（', 449), ('）', 446), ('记者', 439), ('到', 396), ('我', 393), ('1', 389), ('中国', 386), ('会', 383), ('一个', 355), ('但', 354), ('2014', 346), ('还', 339), ('；', 339), ('从', 331), ('后', 329), ('说', 323), ('并', 320)]\n"
     ]
    }
   ],
   "source": [
    "#统计词性\n",
    "from collections import Counter\n",
    "\n",
    "def count_words_freq_dict(filename) :\n",
    "    words_freq_dict = Counter()\n",
    "    \n",
    "    with open(filename) as f :\n",
    "        for line in f:\n",
    "            words_freq_dict.update([word.split('/')[0] for word in line.split()])\n",
    "    return words_freq_dict\n",
    "\n",
    "def main() :\n",
    "    filename = r'F:\\语料.txt'\n",
    "    table = count_words_freq_dict(filename)\n",
    "    print(table.most_common(50))\n",
    "\n",
    "if __name__ == '__main__' :\n",
    "    main()"
   ]
  },
  {
   "cell_type": "code",
   "execution_count": 44,
   "metadata": {},
   "outputs": [
    {
     "ename": "TypeError",
     "evalue": "'list' object is not callable",
     "output_type": "error",
     "traceback": [
      "\u001b[1;31m---------------------------------------------------------------------------\u001b[0m",
      "\u001b[1;31mTypeError\u001b[0m                                 Traceback (most recent call last)",
      "\u001b[1;32m<ipython-input-44-ea27168cf165>\u001b[0m in \u001b[0;36m<module>\u001b[1;34m()\u001b[0m\n\u001b[0;32m     16\u001b[0m                 \u001b[0mresult\u001b[0m\u001b[1;33m[\u001b[0m\u001b[0mword_pos\u001b[0m\u001b[1;33m[\u001b[0m\u001b[1;36m0\u001b[0m\u001b[1;33m]\u001b[0m\u001b[1;33m]\u001b[0m\u001b[1;33m.\u001b[0m\u001b[0mappend\u001b[0m\u001b[1;33m(\u001b[0m\u001b[1;33m[\u001b[0m\u001b[0mword_pos\u001b[0m\u001b[1;33m[\u001b[0m\u001b[1;36m1\u001b[0m\u001b[1;33m]\u001b[0m\u001b[1;33m,\u001b[0m\u001b[1;36m1\u001b[0m\u001b[1;33m]\u001b[0m\u001b[1;33m)\u001b[0m\u001b[1;33m\u001b[0m\u001b[0m\n\u001b[0;32m     17\u001b[0m \u001b[1;33m\u001b[0m\u001b[0m\n\u001b[1;32m---> 18\u001b[1;33m \u001b[0mlist\u001b[0m\u001b[1;33m(\u001b[0m\u001b[0mresult\u001b[0m\u001b[1;33m.\u001b[0m\u001b[0mitems\u001b[0m\u001b[1;33m(\u001b[0m\u001b[1;33m)\u001b[0m\u001b[1;33m)\u001b[0m\u001b[1;33m[\u001b[0m\u001b[1;33m:\u001b[0m\u001b[1;36m200\u001b[0m\u001b[1;33m]\u001b[0m\u001b[1;33m\u001b[0m\u001b[0m\n\u001b[0m",
      "\u001b[1;31mTypeError\u001b[0m: 'list' object is not callable"
     ]
    }
   ],
   "source": [
    "result = {}\n",
    "with open(r'F:\\语料.txt'') as f :\n",
    "    for line in f :\n",
    "        words = line.split()\n",
    "        for word in words :\n",
    "            word_pos = word.split('/')\n",
    "            if word_pos[0] in result :\n",
    "                for index, pos_freq in enumerate(result[word_pos[0]]) :\n",
    "                    if pos_freq[0] == word_pos[1] :\n",
    "                        result[word_pos[0]][index][1] += 1\n",
    "                        break\n",
    "                else :\n",
    "                    result[word_pos[0]].append([word_pos[1],1])\n",
    "            else :\n",
    "                result[word_pos[0]] = []\n",
    "                result[word_pos[0]].append([word_pos[1],1])\n",
    "\n",
    "list(result.items())[:200]"
   ]
  },
  {
   "cell_type": "code",
   "execution_count": 28,
   "metadata": {},
   "outputs": [
    {
     "ename": "NameError",
     "evalue": "name 'result' is not defined",
     "output_type": "error",
     "traceback": [
      "\u001b[1;31m---------------------------------------------------------------------------\u001b[0m",
      "\u001b[1;31mNameError\u001b[0m                                 Traceback (most recent call last)",
      "\u001b[1;32m<ipython-input-28-1236270af6d1>\u001b[0m in \u001b[0;36m<module>\u001b[1;34m()\u001b[0m\n\u001b[0;32m      6\u001b[0m         \u001b[1;32mfor\u001b[0m \u001b[0mword\u001b[0m \u001b[1;32min\u001b[0m \u001b[0mwords\u001b[0m \u001b[1;33m:\u001b[0m\u001b[1;33m\u001b[0m\u001b[0m\n\u001b[0;32m      7\u001b[0m             \u001b[0mword_pos\u001b[0m \u001b[1;33m=\u001b[0m \u001b[0mword\u001b[0m\u001b[1;33m.\u001b[0m\u001b[0msplit\u001b[0m\u001b[1;33m(\u001b[0m\u001b[1;34m'/'\u001b[0m\u001b[1;33m)\u001b[0m\u001b[1;33m\u001b[0m\u001b[0m\n\u001b[1;32m----> 8\u001b[1;33m             \u001b[1;32mif\u001b[0m \u001b[0mword_pos\u001b[0m\u001b[1;33m[\u001b[0m\u001b[1;36m0\u001b[0m\u001b[1;33m]\u001b[0m \u001b[1;32min\u001b[0m \u001b[0mresult\u001b[0m \u001b[1;33m:\u001b[0m\u001b[1;33m\u001b[0m\u001b[0m\n\u001b[0m\u001b[0;32m      9\u001b[0m                 \u001b[1;32mfor\u001b[0m \u001b[0mindex\u001b[0m\u001b[1;33m,\u001b[0m \u001b[0mpos_freq\u001b[0m \u001b[1;32min\u001b[0m \u001b[0menumerate\u001b[0m\u001b[1;33m(\u001b[0m\u001b[0mresult\u001b[0m\u001b[1;33m[\u001b[0m\u001b[0mword_pos\u001b[0m\u001b[1;33m[\u001b[0m\u001b[1;36m0\u001b[0m\u001b[1;33m]\u001b[0m\u001b[1;33m]\u001b[0m\u001b[1;33m)\u001b[0m \u001b[1;33m:\u001b[0m\u001b[1;33m\u001b[0m\u001b[0m\n\u001b[0;32m     10\u001b[0m                     \u001b[1;32mif\u001b[0m \u001b[0mpos_freq\u001b[0m\u001b[1;33m[\u001b[0m\u001b[1;36m0\u001b[0m\u001b[1;33m]\u001b[0m \u001b[1;33m==\u001b[0m \u001b[0mword_pos\u001b[0m\u001b[1;33m[\u001b[0m\u001b[1;36m1\u001b[0m\u001b[1;33m]\u001b[0m \u001b[1;33m:\u001b[0m\u001b[1;33m\u001b[0m\u001b[0m\n",
      "\u001b[1;31mNameError\u001b[0m: name 'result' is not defined"
     ]
    }
   ],
   "source": [
    "#输入nr词\n",
    "from collections import Counter\n",
    "with open(r'F:\\语料.txt') as f :\n",
    "    for line in f :\n",
    "        words = line.split()\n",
    "        for word in words :\n",
    "            word_pos = word.split('/')\n",
    "            if word_pos[0] in result :\n",
    "                for index, pos_freq in enumerate(result[word_pos[0]]) :\n",
    "                    if pos_freq[0] == word_pos[1] :\n",
    "                        result[word_pos[0]][index][1] += 1\n",
    "                        break\n",
    "                else :\n",
    "                    result[word_pos[0]].append([word_pos[1],1])\n",
    "            else :\n",
    "                result[word_pos[0]] = []\n",
    "                result[word_pos[0]].append([word_pos[1],1])\n",
    "\n",
    "list(result.items())[:200]\n"
   ]
  }
 ],
 "metadata": {
  "kernelspec": {
   "display_name": "Python 3",
   "language": "python",
   "name": "python3"
  },
  "language_info": {
   "codemirror_mode": {
    "name": "ipython",
    "version": 3
   },
   "file_extension": ".py",
   "mimetype": "text/x-python",
   "name": "python",
   "nbconvert_exporter": "python",
   "pygments_lexer": "ipython3",
   "version": "3.6.3"
  }
 },
 "nbformat": 4,
 "nbformat_minor": 2
}
