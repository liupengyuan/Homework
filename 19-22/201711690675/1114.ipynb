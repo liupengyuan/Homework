{
 "cells": [
  {
   "cell_type": "code",
   "execution_count": 5,
   "metadata": {},
   "outputs": [
    {
     "name": "stdout",
     "output_type": "stream",
     "text": [
      "97.43636363636364\n",
      "899\n",
      "-10\n"
     ]
    }
   ],
   "source": [
    "numbers=[1,2,-1,55,100,899,-10,3,12,5,5.8]\n",
    "total=0\n",
    "i=0\n",
    "while i<len(numbers):\n",
    "    \n",
    "    total+=numbers[i]\n",
    "    max_number=numbers[i]\n",
    "    min_number=numbers[i]\n",
    "    for number in numbers:\n",
    "        if number>max_number:\n",
    "            max_number=number\n",
    "        if number<min_number:\n",
    "            min_number=number\n",
    "    i+=1\n",
    "print(total/len(numbers))\n",
    "print(max_number)\n",
    "print(min_number)\n",
    "\n",
    "        \n"
   ]
  },
  {
   "cell_type": "code",
   "execution_count": null,
   "metadata": {
    "collapsed": true
   },
   "outputs": [],
   "source": []
  }
 ],
 "metadata": {
  "kernelspec": {
   "display_name": "Python 3",
   "language": "python",
   "name": "python3"
  },
  "language_info": {
   "codemirror_mode": {
    "name": "ipython",
    "version": 3
   },
   "file_extension": ".py",
   "mimetype": "text/x-python",
   "name": "python",
   "nbconvert_exporter": "python",
   "pygments_lexer": "ipython3",
   "version": "3.6.2"
  }
 },
 "nbformat": 4,
 "nbformat_minor": 2
}
