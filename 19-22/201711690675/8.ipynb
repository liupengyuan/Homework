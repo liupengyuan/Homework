{
 "cells": [
  {
   "cell_type": "code",
   "execution_count": null,
   "metadata": {
    "collapsed": true
   },
   "outputs": [],
   "source": [
    "import random\n",
    "\n",
    "fh=open(r'C:\\temp\\成语大全.txt')\n",
    "text=fh.read()\n",
    "fh.close\n",
    "\n",
    "text=text.replace('、','')\n",
    "idioms=text.split('\\n')\n",
    "n=0\n",
    "i=1\n",
    "idiom = random.choice(idioms)\n",
    "line1=idiom\n",
    "print(idiom)\n",
    "\n",
    "while n!=1 and i==1:\n",
    "    a=str(input(''))\n",
    "    line2=a\n",
    "    if a in idioms and line2[0]==line1[3]:\n",
    "        print('答对了，游戏继续')\n",
    "        \n",
    "        print('b=电脑答对了，c=电脑答错了')\n",
    "        \n",
    "        k=input()\n",
    "        if k=b:\n",
    "            print('游戏继续')\n",
    "        if k=c:\n",
    "            print('游戏结束')\n",
    "            break\n",
    "    else:\n",
    "        print('游戏结束')\n",
    "        break"
   ]
  }
 ],
 "metadata": {
  "kernelspec": {
   "display_name": "Python 3",
   "language": "python",
   "name": "python3"
  },
  "language_info": {
   "codemirror_mode": {
    "name": "ipython",
    "version": 3
   },
   "file_extension": ".py",
   "mimetype": "text/x-python",
   "name": "python",
   "nbconvert_exporter": "python",
   "pygments_lexer": "ipython3",
   "version": "3.6.2"
  }
 },
 "nbformat": 4,
 "nbformat_minor": 2
}
