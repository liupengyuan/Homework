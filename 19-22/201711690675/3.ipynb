{
 "cells": [
  {
   "cell_type": "code",
   "execution_count": 2,
   "metadata": {},
   "outputs": [
    {
     "name": "stdout",
     "output_type": "stream",
     "text": [
      "请输入姓名hh\n",
      "921\n",
      "name,你是非常有性格的处女座！\n"
     ]
    }
   ],
   "source": [
    "name=input('请输入姓名')\n",
    "n=int(input())\n",
    "\n",
    "if 321<=n<=419:\n",
    "    print('name,你是非常有性格的白羊座！')\n",
    "if 420<=n<=520:\n",
    "    print('name,你是非常有性格的金牛座！')\n",
    "if 521<=n<=621:\n",
    "    print('name,你是非常有性格的双子座！')\n",
    "if 622<=n<=722:\n",
    "    print('name,你是非常有性格的巨蟹座！')\n",
    "if 723<=n<=822:\n",
    "    print('name,你是非常有性格的狮子座！')\n",
    "if 823<=n<=922:\n",
    "    print('name,你是非常有性格的处女座！')\n",
    "if 923<=n<=1023:\n",
    "    print('name,你是非常有性格的天枰座！')\n",
    "if 1024<=n<=1122:\n",
    "    print('name,你是非常有性格的天蝎座！')\n",
    "if 1123<=n<=1221:\n",
    "    print('name,你是非常有性格的射手座！')\n",
    "if 1222<=n<=1231 or 101<=n<=119:\n",
    "    print('name,你是非常有性格的摩羯座！')\n",
    "if 120<=n<=218:\n",
    "    print('name,你是非常有性格的水瓶座！')\n",
    "if 219<=n<=320:\n",
    "    print('name,你是非常有性格的双鱼座！')"
   ]
  },
  {
   "cell_type": "code",
   "execution_count": null,
   "metadata": {},
   "outputs": [],
   "source": [
    "# 写程序，可由键盘读入两个整数m与n(n不等于0)，询问用户意图，如果要求和则计算从m到n的和输出，如果要乘积则计算从m到n的积并输出，如果要求余数则计算m除以n的余数的值并输出，否则则计算m整除n的值并输出。\n",
    "\n",
    "print('输入的第一个数字小于第二个数字，且第二个数字不能为零')\n",
    "m=int(input())\n",
    "n=int(input())\n",
    "i=m\n",
    "total=0\n",
    "mul=1\n",
    "input('求和，求积，余数，其他')\n",
    "if input('求和'):\n",
    "    while i<=n:\n",
    "        i+=1\n",
    "        total+=i\n",
    "    print(total)\n",
    "if input('求积'):\n",
    "    while i<=n:\n",
    "        i+=1\n",
    "        mul*=i\n",
    "    print(mul)\n",
    "if input('余数'):\n",
    "    print(m//n)\n",
    "if input('其他'):\n",
    "    print(m/n)"
   ]
  },
  {
   "cell_type": "code",
   "execution_count": 7,
   "metadata": {},
   "outputs": [
    {
     "name": "stdout",
     "output_type": "stream",
     "text": [
      "so hh\n",
      "\n",
      "\n",
      "lalala\n"
     ]
    }
   ],
   "source": [
    "# 写程序，能够在屏幕上显示空行\n",
    "print('so hh')\n",
    "print('\\n')\n",
    "print('lalala')"
   ]
  },
  {
   "cell_type": "code",
   "execution_count": null,
   "metadata": {},
   "outputs": [],
   "source": [
    "# 英文单词单数转复数\n",
    "word=input()\n",
    "while word.endswith('y'):\n",
    "    print('变y为ies')\n",
    "while word.endswith('s'):\n",
    "    print('-es')\n",
    "while word.endswith('sh'):\n",
    "    print('-es')"
   ]
  },
  {
   "cell_type": "code",
   "execution_count": null,
   "metadata": {
    "collapsed": true
   },
   "outputs": [],
   "source": []
  }
 ],
 "metadata": {
  "kernelspec": {
   "display_name": "Python 3",
   "language": "python",
   "name": "python3"
  }
 },
 "nbformat": 4,
 "nbformat_minor": 2
}
