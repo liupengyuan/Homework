{
 "cells": [
  {
   "cell_type": "code",
   "execution_count": 1,
   "metadata": {},
   "outputs": [
    {
     "data": {
      "text/plain": [
       "40"
      ]
     },
     "execution_count": 1,
     "metadata": {},
     "output_type": "execute_result"
    }
   ],
   "source": [
    "#练习 1：写函数，求n个随机整数均值的平方根，整数范围在m与k之间（n,m,k由用户输入）。\n",
    "import random\n",
    "def mul(m,n,k):\n",
    "    if m>k:\n",
    "        (m,k)=(k,m)\n",
    "    number = random.randint(m, k)\n",
    "    i=0\n",
    "    total=0\n",
    "    while i<=n:\n",
    "        i+=1\n",
    "        total+=number\n",
    "        return total\n",
    "    print(total**1/2)\n",
    "    \n",
    "mul(10,4,40)"
   ]
  },
  {
   "cell_type": "code",
   "execution_count": 2,
   "metadata": {},
   "outputs": [
    {
     "data": {
      "text/plain": [
       "(2, 0.5)"
      ]
     },
     "execution_count": 2,
     "metadata": {},
     "output_type": "execute_result"
    }
   ],
   "source": [
    "#练习 2：写函数，共n个随机整数，整数范围在m与k之间，（n,m,k由用户输入）。求1：西格玛log(随机整数)，2：西格玛1/log(随机整数)\n",
    "import random,math\n",
    "def sul_(m,n,k):\n",
    "    number = random.randint(m,k)\n",
    "    a = math.ceil(math.log(number))\n",
    "    i=0\n",
    "    total=0\n",
    "    mul=0\n",
    "    while i<=n:\n",
    "        i+=1\n",
    "        total+=a\n",
    "        mul+=1/a\n",
    "        return total,mul\n",
    "    print(total,mul)\n",
    "    \n",
    "    \n",
    "sul_(2,3,10)"
   ]
  },
  {
   "cell_type": "code",
   "execution_count": 5,
   "metadata": {},
   "outputs": [
    {
     "name": "stdout",
     "output_type": "stream",
     "text": [
      "2\n",
      "84\n"
     ]
    }
   ],
   "source": [
    "#练习3\n",
    "import random\n",
    "def sal():\n",
    "    n = int(input())\n",
    "    number=random.randint(1,9)\n",
    "    total=number\n",
    "    mul=0\n",
    "    i=0\n",
    "    while i<n:\n",
    "        total+=(10**i)*number\n",
    "        mul+=total\n",
    "        i+=1\n",
    "    print(total)\n",
    "\n",
    "sal()"
   ]
  },
  {
   "cell_type": "code",
   "execution_count": 1,
   "metadata": {},
   "outputs": [
    {
     "name": "stdout",
     "output_type": "stream",
     "text": [
      "=====游戏菜单=====\n",
      "                1. 猜大了\n",
      "                2. 猜小了\n",
      "                3.猜对了\n",
      "             =====游戏菜单=====\n",
      "请输入你的选择1\n",
      "请输入一个大于0的整数，作为神秘整数的下界，回车结束。1\n",
      "请输入一个大于0的整数，作为神秘整数的上界，回车结束。4\n",
      "请输入作为谜底的数2\n",
      "2\n",
      "=====游戏菜单=====\n",
      "                1. 猜大了\n",
      "                2. 猜小了\n",
      "                3.猜对了\n",
      "             =====游戏菜单=====\n",
      "请输入你的选择3\n",
      "胜利！！！\n"
     ]
    }
   ],
   "source": [
    "#挑战性练习：仿照task5，将猜数游戏改成由用户随便选择一个整数，让计算机来猜测的猜数游戏，要求和task5中人猜测的方法类似，但是人机角色对换，由人来判断猜测是大、小还是相等，请写出完整的猜数游戏\n",
    "import random, math\n",
    "\n",
    "\n",
    "def win():\n",
    "    print('胜利！！！')\n",
    "    \n",
    "\n",
    "\n",
    "def menu():\n",
    "    print('''=====游戏菜单=====\n",
    "                1. 猜大了\n",
    "                2. 猜小了\n",
    "                3.猜对了\n",
    "             =====游戏菜单=====''')\n",
    "             \n",
    "def guess_game():\n",
    "    m = int(input('请输入一个大于0的整数，作为神秘整数的下界，回车结束。'))\n",
    "    n = int(input('请输入一个大于0的整数，作为神秘整数的上界，回车结束。'))\n",
    "    k=int(input('请输入作为谜底的数'))\n",
    "    number = random.randint(m, n)\n",
    "    print(number)\n",
    "# 主函数\n",
    "def main():\n",
    "    while True:\n",
    "        menu()\n",
    "        choice = int(input('请输入你的选择'))\n",
    "        if choice == 1:\n",
    "            guess_game()\n",
    "        elif choice == 2:\n",
    "            guess_game()\n",
    "        elif choice == 3:\n",
    "            win()\n",
    "            break\n",
    "\n",
    "#主程序\n",
    "if __name__ == '__main__':\n",
    "    main()"
   ]
  }
 ],
 "metadata": {
  "kernelspec": {
   "display_name": "Python 3",
   "language": "python",
   "name": "python3"
  },
  "language_info": {
   "codemirror_mode": {
    "name": "ipython",
    "version": 3
   },
   "file_extension": ".py",
   "mimetype": "text/x-python",
   "name": "python",
   "nbconvert_exporter": "python",
   "pygments_lexer": "ipython3",
   "version": "3.6.2"
  }
 },
 "nbformat": 4,
 "nbformat_minor": 2
}
