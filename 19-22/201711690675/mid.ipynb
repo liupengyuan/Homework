{
 "cells": [
  {
   "cell_type": "code",
   "execution_count": 3,
   "metadata": {
    "collapsed": false
   },
   "outputs": [
    {
     "name": "stdout",
     "output_type": "stream",
     "text": [
      "5\n",
      "15\n"
     ]
    }
   ],
   "source": [
    "#1\n",
    "i=0\n",
    "total=0\n",
    "m=int(input())\n",
    "while i<m:\n",
    "    i+=1\n",
    "    total+=i\n",
    "print(total)\n",
    "    "
   ]
  },
  {
   "cell_type": "code",
   "execution_count": 30,
   "metadata": {
    "collapsed": false,
    "scrolled": true
   },
   "outputs": [
    {
     "name": "stdout",
     "output_type": "stream",
     "text": [
      "*\n",
      "**\n",
      "***\n",
      "****\n",
      "*****"
     ]
    }
   ],
   "source": [
    "#2\n",
    "print('*')\n",
    "for u in range(2):\n",
    "    print('*',end='')\n",
    "print('')\n",
    "for t in range(3):\n",
    "    print('*',end='')\n",
    "print('')\n",
    "for j in range(4):\n",
    "    print('*',end='')\n",
    "print('')\n",
    "for i in range(5):\n",
    "    print('*',end='')\n",
    "\n"
   ]
  },
  {
   "cell_type": "code",
   "execution_count": 34,
   "metadata": {
    "collapsed": false
   },
   "outputs": [
    {
     "name": "stdout",
     "output_type": "stream",
     "text": [
      "4\n"
     ]
    }
   ],
   "source": [
    "#3\n",
    "\n",
    "m=48723478234432\n",
    "print(m//(10**13))\n",
    "\n",
    "\n"
   ]
  },
  {
   "cell_type": "code",
   "execution_count": 18,
   "metadata": {
    "collapsed": false,
    "scrolled": true
   },
   "outputs": [
    {
     "name": "stdout",
     "output_type": "stream",
     "text": [
      "183\n",
      "185\n",
      "183\n",
      "187\n",
      "178\n",
      "175\n",
      "177\n",
      "190\n",
      "175.0\n"
     ]
    }
   ],
   "source": [
    "#4\n",
    "list=[183,185,183,187,178,175,177,190,172]\n",
    "total=0\n",
    "mul=0\n",
    "for num in list:\n",
    "    total+=list[i]\n",
    "    mul=total/9\n",
    "    if num>mul:\n",
    "        print(num)\n",
    "print(mul)\n",
    "\n",
    "\n",
    "\n",
    "    "
   ]
  },
  {
   "cell_type": "code",
   "execution_count": 4,
   "metadata": {
    "collapsed": false
   },
   "outputs": [
    {
     "name": "stdout",
     "output_type": "stream",
     "text": [
      "1+2=?\n",
      "8\n",
      "1+3=?\n",
      "5\n",
      "1+4=?\n",
      "4\n",
      "1+5=?\n",
      "5\n",
      "1+6=?\n",
      "6\n",
      "0\n"
     ]
    }
   ],
   "source": [
    "#5\n",
    "print('1+2=?')\n",
    "n=int(input())\n",
    "while n ==3:\n",
    "    total1=20\n",
    "else:\n",
    "    total1=0\n",
    "\n",
    "print('1+3=?')\n",
    "m=int(input())\n",
    "if m==4:\n",
    "    total2=20\n",
    "else:\n",
    "    total2=0\n",
    "\n",
    "print('1+4=?')\n",
    "k=int(input())\n",
    "if k==5:\n",
    "    total3=20\n",
    "else:\n",
    "    total3=0\n",
    "    \n",
    "print('1+5=?')\n",
    "l=int(input())\n",
    "if l==6:\n",
    "    total4=20\n",
    "else:\n",
    "    total4=0\n",
    "    \n",
    "print('1+6=?')\n",
    "h=int(input())\n",
    "if h==7:\n",
    "    total5=20\n",
    "else:\n",
    "    total5=0\n",
    "\n",
    "print(total1+total2+total3+total4+total5)\n",
    "    "
   ]
  },
  {
   "cell_type": "code",
   "execution_count": 42,
   "metadata": {
    "collapsed": false
   },
   "outputs": [
    {
     "name": "stdout",
     "output_type": "stream",
     "text": [
      "[108, -5, 3, 9, 34, 88, -76]\n"
     ]
    }
   ],
   "source": [
    "#6\n",
    "list=[3,-5,9,108,34,-76,88]\n",
    "list.sort()\n",
    "list[0],list[6]=list[6],list[0]\n",
    "\n",
    "print(list)"
   ]
  },
  {
   "cell_type": "code",
   "execution_count": null,
   "metadata": {
    "collapsed": true
   },
   "outputs": [],
   "source": []
  }
 ],
 "metadata": {
  "kernelspec": {
   "display_name": "Python 3",
   "language": "python",
   "name": "python3"
  },
  "language_info": {
   "codemirror_mode": {
    "name": "ipython",
    "version": 3
   },
   "file_extension": ".py",
   "mimetype": "text/x-python",
   "name": "python",
   "nbconvert_exporter": "python",
   "pygments_lexer": "ipython3",
   "version": "3.6.0"
  }
 },
 "nbformat": 4,
 "nbformat_minor": 2
}
