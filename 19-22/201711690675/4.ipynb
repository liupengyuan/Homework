{
 "cells": [
  {
   "cell_type": "code",
   "execution_count": 1,
   "metadata": {},
   "outputs": [
    {
     "name": "stdout",
     "output_type": "stream",
     "text": [
      "请输入第1个整数，以回车结束。23\n",
      "请输入第2个整数，以回车结束。12\n",
      "请输入第3个整数，以回车结束。21\n",
      "最终的和是： 25903107681057165081600\n"
     ]
    }
   ],
   "source": [
    "# 仿照求$ \\sum_{i=1}^mi + \\sum_{i=1}^ni  + \\sum_{i=1}^ki$的完整代码，写程序，可求m!+n!+k!\n",
    "def compute_sul(end):\n",
    "    i = 0\n",
    "    total_n = 1\n",
    "    while i < end:\n",
    "        i+=1\n",
    "        total_n*= i\n",
    "    return total_n\n",
    "m = int(input('请输入第1个整数，以回车结束。'))\n",
    "n = int(input('请输入第2个整数，以回车结束。'))\n",
    "k = int(input('请输入第3个整数，以回车结束。'))\n",
    "\n",
    "print('最终的和是：', compute_sul(m) + compute_sul(n) + compute_sul(k))"
   ]
  },
  {
   "cell_type": "code",
   "execution_count": 2,
   "metadata": {},
   "outputs": [
    {
     "name": "stdout",
     "output_type": "stream",
     "text": [
      "3.1415826535897198\n",
      "3.140592653839794\n"
     ]
    }
   ],
   "source": [
    "# 写函数可返回1 - 1/3 + 1/5 - 1/7...的前n项的和。在主程序中，分别令n=1000及100000，打印4倍该函数的和。\n",
    "n=1000\n",
    "m=100000\n",
    "\n",
    "def ari(number):\n",
    "    i=0\n",
    "    tal=0\n",
    "    while i<number:\n",
    "        i=i+1\n",
    "        a=(-1)**(i+1)\n",
    "        b=2*i-1\n",
    "        c=a/b\n",
    "        tal=tal+c\n",
    "    return(tal)\n",
    "\n",
    "\n",
    "print(4 * ari(m))\n",
    "print(4 * ari(n))"
   ]
  },
  {
   "cell_type": "code",
   "execution_count": 5,
   "metadata": {},
   "outputs": [
    {
     "name": "stdout",
     "output_type": "stream",
     "text": [
      "请输入你的名字，以回车结束Van \n",
      "请输入你的出生月份，以回车结束 2\n",
      "请输入你的出生日期，以回车结束21\n",
      "('Van ', '你是拥有梦想的双鱼座')\n",
      "\n",
      "输入一个英文单词（单数形式）,回车结束dish\n",
      "变为复数应加es.\n"
     ]
    }
   ],
   "source": [
    "# 将task3中的练习1及练习4改写为函数，并进行调用。\n",
    "## 写程序，可由键盘读入用户姓名例如Mr. right，让用户输入出生的月份与日期，判断用户星座，假设用户是金牛座，则输出，Mr. right，你是非常有性格的金牛座！\n",
    "def birth(name,a,b):\n",
    "    if (a==3 and 20<b<32)or(a==4 and 0<b<20):\n",
    "        return(name,'你是非常坚强的白羊座')\n",
    "    elif (a==4 and 19<b<31)or(a==5 and 0<b<21):\n",
    "        return(name,'你是非常慎重的金牛座')\n",
    "    elif (a==5 and 20<b<32)or(a==6 and 0<b<22):\n",
    "        return(name,'你是非常敏锐的双子座')\n",
    "    elif (a==6and 21<b<31)or(a==7 and 0<b<23):\n",
    "        return(name,'你是充满感情的巨蟹座')\n",
    "    elif (a==7and 22<b<32)or(a==8and 0<b<23):\n",
    "        return(name,'你是诚实可靠的狮子座')\n",
    "    elif (a==8and 22<b<31)or(a==9and 0<b<23):\n",
    "        return(name,'你是有正义感的处女座')\n",
    "    elif (a==9and 22<b<31)or(a==10and 0<b<23):\n",
    "        return(name,'你是生活快乐的天秤座')\n",
    "    elif (a==10and 22<b<32)or(a==11and 0<b<23):\n",
    "        return(name,'你是充满耐力的天蝎座')\n",
    "    elif (a==11and 22<b<31)or(a==12and 0<b<22):\n",
    "        return(name,'你是忠心爱国的射手座')\n",
    "    elif (a==12and 21<b<32)or(a==1and 0<b<20):\n",
    "        return(name,'你是脚踏实地的摩羯座')\n",
    "    elif (a==1and 19<b<31)or(a==2and 0<b<19):\n",
    "        return(name,'你是颇富知性的水瓶座')\n",
    "    elif (a==2and 18<b<29)or(a==3and 0<b<21):\n",
    "        return(name,'你是拥有梦想的双鱼座')\n",
    "    else:\n",
    "        return('输入错误')\n",
    "\n",
    "name=input('请输入你的名字，以回车结束')\n",
    "a = int(input('请输入你的出生月份，以回车结束 '))\n",
    "b = int(input('请输入你的出生日期，以回车结束'))\n",
    "print(birth(name,a,b))\n",
    "\n",
    "print()\n",
    "\n",
    "## 英文单词单数转复数，要求输入一个英文单词（单数形式），能够得到其复数形式，或给出单数转复数形式的建议（提示，some_string.endswith(some_letter)函数可以判断某字符串结尾字符，可尝试运行：'myname'.endswith('me')，liupengyuan'.endswith('n')）。\n",
    "def plural(word):\n",
    "    if word.endswith('s') or word.endswith('sh') or word.endswith('ch') or word.endswith('x'):\n",
    "        return('变为复数应加es.')\n",
    "    elif word.endswith('f')or word.endswith('fe'):\n",
    "        return('变为复数应去f,fe加ves.')\n",
    "    else:\n",
    "        return('变为复数应加s.')\n",
    "\n",
    "word= input('输入一个英文单词（单数形式）,回车结束')\n",
    "print(plural(word))"
   ]
  },
  {
   "cell_type": "code",
   "execution_count": 6,
   "metadata": {},
   "outputs": [
    {
     "name": "stdout",
     "output_type": "stream",
     "text": [
      "2\n",
      "10\n",
      "3\n",
      "15\n"
     ]
    }
   ],
   "source": [
    "#挑战性练习：写程序，可以求从整数m到整数n累加的和，间隔为k，求和部分需用函数实现，主程序中由用户输入m，n，k调用函数验证正确性\n",
    "def cumu(m,n,k):\n",
    "    i=1\n",
    "    total=0\n",
    "    a=m\n",
    "    while a <= n:\n",
    "        i=i+1\n",
    "        total=total+a\n",
    "        a=a+k\n",
    "    return(total) \n",
    "\n",
    "m= int(input())\n",
    "n= int(input())\n",
    "k= int(input())\n",
    "print (cumu(m,n,k))"
   ]
  },
  {
   "cell_type": "code",
   "execution_count": null,
   "metadata": {
    "collapsed": true
   },
   "outputs": [],
   "source": []
  }
 ],
 "metadata": {
  "kernelspec": {
   "display_name": "Python 3",
   "language": "python",
   "name": "python3"
  },
  "language_info": {
   "codemirror_mode": {
    "name": "ipython",
    "version": 3
   },
   "file_extension": ".py",
   "mimetype": "text/x-python",
   "name": "python",
   "nbconvert_exporter": "python",
   "pygments_lexer": "ipython3",
   "version": "3.6.2"
  }
 },
 "nbformat": 4,
 "nbformat_minor": 2
}
