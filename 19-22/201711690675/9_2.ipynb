{
 "cells": [
  {
   "cell_type": "code",
   "execution_count": null,
   "metadata": {},
   "outputs": [],
   "source": [
    "#随机生成1万个整数，范围在0-10万之间，求其中每个整数出现的次数。并按照整数大小排序输出整数及出现次数。\n",
    "\n",
    "import random\n",
    "x=[random.randint(0,100001) for i in range(10000)]\n",
    "d=set(x)\n",
    "for v in d:\n",
    "    print(v,':',x.count(v))\n",
    "    \n",
    "def quick_sort(seq):\n",
    "    left_seq =  []\n",
    "    right_seq = []\n",
    "    p=seq[0]\n",
    "    for number in seq[1:]:\n",
    "        if number <= p:\n",
    "            left_seq.append(number)\n",
    "        else:\n",
    "            right_seq.append(number)\n",
    "    if left_seq:\n",
    "        left_seq = quick_sort(left_seq)\n",
    "    if right_seq:\n",
    "        right_seq = quick_sort(right_seq)\n",
    "\n",
    "    return  left_seq + [p] + right_seq\n",
    "\n",
    "numbers =v \n",
    "sorted_numbers = quick_sort(numbers)\n",
    "print(numbers)\n",
    "print(sorted_numbers)"
   ]
  },
  {
   "cell_type": "code",
   "execution_count": null,
   "metadata": {
    "collapsed": true
   },
   "outputs": [],
   "source": [
    "#3、对本任务中的语料.txt文件，抽取其5001-10000行存为test1.txt文件，写函数，可得到其与本任务中test.txt文件的共用字以及独用字\n",
    "def count_words_freq(filename):\n",
    "\n",
    "    word_freq_pairs = []\n",
    "    \n",
    "    with open(filename) as f:\n",
    "        text = f.read()\n",
    "        \n",
    "    words = [word.split('/')[0] for word in text.split()]\n",
    "    for word in words:\n",
    "        for item in word_freq_pairs:\n",
    "            if word == item[0]:\n",
    "                item[1] += 1\n",
    "                break\n",
    "        else:\n",
    "            word_freq_pairs.append([word, 1])\n",
    "            \n",
    "    return word_freq_pairs\n",
    "\n",
    "filename = r'd:\\语料.txt'\n",
    "table = count_words_freq(filename)\n",
    "print(table[5001:10000])\n"
   ]
  },
  {
   "cell_type": "code",
   "execution_count": null,
   "metadata": {
    "collapsed": true
   },
   "outputs": [],
   "source": [
    "#4\n"
   ]
  }
 ],
 "metadata": {
  "kernelspec": {
   "display_name": "Python 3",
   "language": "python",
   "name": "python3"
  },
  "language_info": {
   "codemirror_mode": {
    "name": "ipython",
    "version": 3
   },
   "file_extension": ".py",
   "mimetype": "text/x-python",
   "name": "python",
   "nbconvert_exporter": "python",
   "pygments_lexer": "ipython3",
   "version": "3.6.2"
  }
 },
 "nbformat": 4,
 "nbformat_minor": 2
}
