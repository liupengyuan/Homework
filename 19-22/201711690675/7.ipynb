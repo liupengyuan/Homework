{
 "cells": [
  {
   "cell_type": "code",
   "execution_count": 7,
   "metadata": {},
   "outputs": [
    {
     "name": "stdout",
     "output_type": "stream",
     "text": [
      "2\n",
      "d\n",
      "f\n",
      "['f']\n"
     ]
    }
   ],
   "source": [
    "#1\n",
    "def con(s):\n",
    "    ss=[]\n",
    "    i=len(s)\n",
    "    while i>0:\n",
    "        i-=1\n",
    "        ss.append(s[i])\n",
    "        return ss\n",
    "s=[]\n",
    "n=int(input())\n",
    "i=n\n",
    "while i>0:\n",
    "    line=input()\n",
    "    s.append(line)\n",
    "    i-=1\n",
    "print(con(s))\n",
    "    "
   ]
  },
  {
   "cell_type": "code",
   "execution_count": 9,
   "metadata": {},
   "outputs": [
    {
     "name": "stdout",
     "output_type": "stream",
     "text": [
      "$\n",
      "6\n",
      "     $\n",
      "    $$$\n",
      "   $$$$$\n",
      "  $$$$$$$\n",
      " $$$$$$$$$\n",
      "$$$$$$$$$$$\n",
      "$\n",
      "$$\n",
      "$$$\n",
      "$$$$\n",
      "$$$$$\n",
      "$$$$$$\n",
      "\n",
      "$$$$$ \n",
      "$$$$   \n",
      "$$$     \n",
      "$$       \n",
      "$         \n",
      "           \n"
     ]
    }
   ],
   "source": [
    "#2\n",
    "def vol():\n",
    "    line=input()\n",
    "    n=int(input())\n",
    "    \n",
    "    for i in range(1,n+1):\n",
    "        print(' '*(n-i)+line[0]*(2*i-1))\n",
    "        \n",
    "    for j in range(1,1+n):\n",
    "        print(line[0]*j)\n",
    "        \n",
    "    print('')\n",
    "        \n",
    "    for k in range(1,1+n):\n",
    "        print(line[0]*(n-k)+' '*(2*k-1))\n",
    "        \n",
    "vol()\n",
    "        "
   ]
  },
  {
   "cell_type": "code",
   "execution_count": 14,
   "metadata": {},
   "outputs": [
    {
     "name": "stdout",
     "output_type": "stream",
     "text": [
      "字符串&\n",
      "4\n",
      "       &\n",
      "      &&&\n",
      "    &&&&&&&\n",
      "  &&&&&&&&&&&\n",
      "&&&&&&&&&&&&&&&\n",
      "  &&&&&&&&&&&\n",
      "    &&&&&&&\n",
      "      &&&\n",
      "       &\n",
      "   &\n",
      "  &&&\n",
      " &&&&&\n",
      "&&&&&&&\n",
      " &&&&&\n",
      "  &&&\n",
      "   &\n",
      "    \n"
     ]
    }
   ],
   "source": [
    "#5\n",
    "def kol(a,b):\n",
    "    line=a*b\n",
    "    print(' '*(b*2-1)+line[0])\n",
    "    for i in range(1,b+1):\n",
    "        print(' '*2*(b-i)+line[0]*(4*i-1))\n",
    "    for j in range(1,b):\n",
    "        print(j*2*' '+line[0]*(4*(b-j)-1))\n",
    "    \n",
    "    print(' '*(2*b-1)+line[0])\n",
    "        \n",
    "def col(a,b):\n",
    "    line=a*b\n",
    "    for m in range(1,b+1):\n",
    "        print(' '*(b-m)+line[0]*(2*m-1))\n",
    "    for n in range(1,b+1):\n",
    "        print(' '*n+line[0]*(2*(b-n)-1))\n",
    "        \n",
    "a=input('字符串')\n",
    "b=int(input())\n",
    "kol(a,b)\n",
    "col(a,b)\n",
    "    "
   ]
  },
  {
   "cell_type": "code",
   "execution_count": null,
   "metadata": {
    "collapsed": true
   },
   "outputs": [],
   "source": []
  }
 ],
 "metadata": {
  "kernelspec": {
   "display_name": "Python 3",
   "language": "python",
   "name": "python3"
  },
  "language_info": {
   "codemirror_mode": {
    "name": "ipython",
    "version": 3
   },
   "file_extension": ".py",
   "mimetype": "text/x-python",
   "name": "python",
   "nbconvert_exporter": "python",
   "pygments_lexer": "ipython3",
   "version": "3.6.2"
  }
 },
 "nbformat": 4,
 "nbformat_minor": 2
}
