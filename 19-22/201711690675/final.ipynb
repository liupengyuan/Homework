{
 "cells": [
  {
   "cell_type": "code",
   "execution_count": null,
   "metadata": {
    "collapsed": true
   },
   "outputs": [],
   "source": [
    "def get(symbol,n):\n",
    "    i=1\n",
    "    while i<=n:\n",
    "        print(i*(2n-2*i)*' '+(' '+symbol)*i+symbol*n+(' '+symbol)*i)\n",
    "        i+=1\n",
    "get(*,5)"
   ]
  },
  {
   "cell_type": "code",
   "execution_count": null,
   "metadata": {
    "collapsed": true
   },
   "outputs": [],
   "source": [
    "def A(m,n):\n",
    "    while m=0:\n",
    "        A(m,n)=n+1\n",
    "    while m>0 and n=0:\n",
    "        A(m,n)=A(m-1,1)\n",
    "    while m>0 and n>0:\n",
    "        A(m,n)=A((m-1),A(m,n-1))\n",
    "        \n",
    "A(3,4)\n",
    "    "
   ]
  },
  {
   "cell_type": "code",
   "execution_count": null,
   "metadata": {
    "collapsed": true
   },
   "outputs": [],
   "source": [
    "#3(1)\n",
    "import random\n",
    "i=random.randint(a,b)\n",
    "j=random.randint(a,b)\n",
    "k=random.choice('+','-','*','/')\n",
    "n=int(input())\n",
    "a=int(input())\n",
    "b=int(input())\n",
    "i=1\n",
    "while i<n+1:\n",
    "    if a%b=0 or a-b>0:\n",
    "        print(i+k+j,'=')\n",
    "    i+=1"
   ]
  },
  {
   "cell_type": "code",
   "execution_count": null,
   "metadata": {
    "collapsed": true
   },
   "outputs": [],
   "source": [
    "#3(2)\n",
    "answer=input()\n",
    "total=0\n",
    "while k='-':\n",
    "    if answer=a-b:\n",
    "        total+=5\n",
    "while k='*' :\n",
    "    if answer=a*b:\n",
    "        total+=10\n",
    "while k='+':\n",
    "    if answer=a+b:\n",
    "        total+=5\n",
    "while k='/':\n",
    "    if answer=a/b:\n",
    "        total+=10\n",
    "        \n",
    "print(total)\n",
    "    "
   ]
  },
  {
   "cell_type": "code",
   "execution_count": null,
   "metadata": {
    "collapsed": true
   },
   "outputs": [],
   "source": [
    "#3(3)\n",
    "n=int(input())\n",
    "i=1\n",
    "total=0\n",
    "while i<=n:\n",
    "    list=[]\n",
    "    if list[1]='+':\n",
    "        print(list[0]+list[1])\n",
    "        total+=5\n",
    "    if list[1]='-':\n",
    "        print(list[0]-list[1])\n",
    "        total+=5\n",
    "    if list[1]='*':\n",
    "        print(list[0]*list[1])\n",
    "        total+=10\n",
    "    if list[1]='/':\n",
    "        print(list[0]/list[1])\n",
    "        total+=10\n",
    "    i+=1\n",
    "print(total)"
   ]
  },
  {
   "cell_type": "code",
   "execution_count": null,
   "metadata": {
    "collapsed": true
   },
   "outputs": [],
   "source": [
    "#4(1)\n",
    "def get_ch_table(line):\n",
    "    A = []\n",
    "    for ch in line:\n",
    "        if ch not in A:\n",
    "            A.append(ch)\n",
    "    return A\n",
    "\n",
    "def idiom_robot(d:\\temp\\yuliao.txt):\n",
    "    with open(d:\\temp\\yuliao.txt) as fh:\n",
    "        text = fh.read()\n",
    "    idioms = text.split()\n",
    "    idiom = random.choice(idioms)\n",
    "    chs = get_ch_table(text.replace('\\n', ''))\n",
    "\n"
   ]
  },
  {
   "cell_type": "code",
   "execution_count": null,
   "metadata": {
    "collapsed": true
   },
   "outputs": [],
   "source": [
    "#4(2)\n",
    "word_table = set()\n",
    "with open(d:\\temp\\chengyu.txt) as f:\n",
    "    for line in f:\n",
    "        B |= {word.split('/')[0] for word in line.split()}\n",
    "for word in A:\n",
    "    if word in B:\n",
    "        word_table.append(word)\n",
    "for i, word in enumerate(A):\n",
    "    word=sorted(word)\n",
    "    print(word)\n",
    "    \n",
    "    if i==20:      \n",
    "        break\n",
    "for i, word in enumerate(word_table):\n",
    "    word=sorted(word)\n",
    "    print(word)\n",
    "    \n",
    "    if i==20:\n",
    "        break\n",
    "\n",
    "        "
   ]
  },
  {
   "cell_type": "code",
   "execution_count": null,
   "metadata": {
    "collapsed": true
   },
   "outputs": [],
   "source": [
    "#4(c):\n",
    "def id_rob(d:\\temp\\yuliao.txt):\n",
    "    with open(d:\\temp\\yuliao.txt) as fh:\n",
    "        text = fh.read()\n",
    "    words = text.split()\n",
    "    word = random.choice(idioms)\n",
    "    chs = get_ch_table(text.replace('\\n', ''))\n"
   ]
  },
  {
   "cell_type": "code",
   "execution_count": null,
   "metadata": {
    "collapsed": true
   },
   "outputs": [],
   "source": [
    "#4(d):\n"
   ]
  },
  {
   "cell_type": "code",
   "execution_count": null,
   "metadata": {
    "collapsed": true
   },
   "outputs": [],
   "source": [
    "#4(e)\n",
    "with open(d:\\temp\\chengyu.txt) as f:\n",
    "        for line in f:\n",
    "            words_freq_dict2.update([word.split('/')[0] for word in line.split()])\n",
    "    return words_freq_dict2\n",
    "with open(d:\\temp\\yuliaou.txt) as f:\n",
    "        for line in f:\n",
    "            words_freq_dict2.update([word.split('/')[0] for word in line.split()])\n",
    "    return words_freq_dict2\n",
    "def get_ch_table1(line):\n",
    "    ch_table = []\n",
    "    for ch in line:\n",
    "        if ch not in ch_table:\n",
    "            ch_table.append(ch)\n",
    "    return ch_table\n",
    "\n",
    "# 主程序\n",
    "fh = open(r'd:\\temp\\chengyu.txt')\n",
    "text = fh.read()\n",
    "chs = get_ch_table1(text.replace('\\n', ''))\n",
    "\n",
    "print(len(chs), chs)\n",
    "\n",
    "def get_ch_table2(line):\n",
    "    ch_table = []\n",
    "    for ch in line:\n",
    "        if ch not in ch_table:\n",
    "            ch_table.append(ch)\n",
    "    return ch_table\n",
    "\n",
    "# 主程序\n",
    "fh = open(r'd:\\temp\\yuliao.txt')\n",
    "text = fh.read()\n",
    "chs = get_ch_table2(text.replace('\\n', ''))\n",
    "\n",
    "print(len(chs), chs)\n"
   ]
  },
  {
   "cell_type": "code",
   "execution_count": null,
   "metadata": {
    "collapsed": true
   },
   "outputs": [],
   "source": [
    "#4(f)\n",
    "def get_ch_table(line):\n",
    "    ch_table = []\n",
    "    for ch in line:\n",
    "        if ch not in ch_table:\n",
    "            ch_table.append(ch)\n",
    "    return ch_table\n",
    "\n",
    "def idiom_robot(file_name):\n",
    "    with open(file_name) as fh:\n",
    "        text = fh.read()\n",
    "    idioms = text.split()\n",
    "    idiom = random.choice(idioms)\n",
    "    chs = get_ch_table(text.replace('\\n', ''))\n",
    "\n",
    "item=[]\n",
    "while True idiom[0]=item[3]:\n",
    "    print(idiom)\n",
    "else:\n",
    "    break\n"
   ]
  }
 ],
 "metadata": {
  "kernelspec": {
   "display_name": "Python 3",
   "language": "python",
   "name": "python3"
  },
  "language_info": {
   "codemirror_mode": {
    "name": "ipython",
    "version": 3
   },
   "file_extension": ".py",
   "mimetype": "text/x-python",
   "name": "python",
   "nbconvert_exporter": "python",
   "pygments_lexer": "ipython3",
   "version": "3.4.3"
  }
 },
 "nbformat": 4,
 "nbformat_minor": 0
}
