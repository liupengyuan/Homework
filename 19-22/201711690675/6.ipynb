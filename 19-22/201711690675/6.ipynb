{
 "cells": [
  {
   "cell_type": "code",
   "execution_count": 6,
   "metadata": {},
   "outputs": [
    {
     "name": "stdout",
     "output_type": "stream",
     "text": [
      "0\n",
      "1\n",
      "2\n",
      "-1\n"
     ]
    }
   ],
   "source": [
    "#写函数，返回某个元素/对象在一个list中的位置，如果不在，则返回-1.\n",
    "words=[1,2,3]\n",
    "for i in range(3):\n",
    "    print(i)\n",
    "else:\n",
    "    print('-1')"
   ]
  },
  {
   "cell_type": "code",
   "execution_count": 5,
   "metadata": {},
   "outputs": [
    {
     "name": "stdout",
     "output_type": "stream",
     "text": [
      "1 5\n",
      "2 6\n",
      "3 7\n",
      "4 8\n"
     ]
    }
   ],
   "source": [
    "#写函数，可将两个相同长度的list，间隔插入，生成新的list。例如：给两个list，a=[1,2,3,4], b=[5,6,7,8]。则可以生成：[1,5,2,6,3,7,4,8]\n",
    "words=[1,2,3,4]\n",
    "numbers=[5,6,7,8]\n",
    "for i in range(4):\n",
    "    print(words[i],numbers[i])"
   ]
  },
  {
   "cell_type": "code",
   "execution_count": 21,
   "metadata": {},
   "outputs": [
    {
     "name": "stdout",
     "output_type": "stream",
     "text": [
      "0.0\n"
     ]
    }
   ],
   "source": [
    "#写函数，可求两个向量的夹角余弦值，向量可放在list中。主程序调用该函数。\n",
    "numbers=[2,2]\n",
    "words=[1,-1]\n",
    "total=0\n",
    "mul=0\n",
    "con=0\n",
    "for i in range(2):\n",
    "    total+=numbers[i]*words[i]\n",
    "    mul+=numbers[i]**2\n",
    "    con+=words[i]**2\n",
    "    \n",
    "print(total/(mul**(1/2)+con**(1/2)))"
   ]
  },
  {
   "cell_type": "code",
   "execution_count": 9,
   "metadata": {},
   "outputs": [
    {
     "name": "stdout",
     "output_type": "stream",
     "text": [
      "0 1 84\n",
      "1 2 82\n",
      "2 3 80\n",
      "3 4 78\n",
      "4 5 76\n",
      "5 6 74\n",
      "6 7 72\n",
      "7 8 70\n",
      "8 9 68\n",
      "9 10 66\n",
      "10 11 64\n",
      "11 12 62\n",
      "12 13 60\n",
      "13 14 58\n",
      "14 15 56\n",
      "15 16 54\n",
      "16 17 52\n",
      "17 18 50\n",
      "18 19 48\n",
      "19 20 46\n",
      "20 21 44\n",
      "21 22 42\n",
      "22 23 40\n",
      "23 24 38\n",
      "24 25 36\n",
      "25 26 34\n",
      "26 27 32\n",
      "27 28 30\n",
      "28 29 28\n",
      "29 30 26\n",
      "30 31 24\n",
      "31 32 22\n",
      "32 33 20\n",
      "33 34 18\n",
      "34 35 16\n",
      "35 36 14\n",
      "36 37 12\n",
      "37 38 10\n",
      "38 39 8\n",
      "39 40 6\n",
      "40 41 4\n",
      "41 42 2\n",
      "42 43 0\n",
      "261\n"
     ]
    }
   ],
   "source": [
    "#挑战性习题：python语言老师为了激励学生学python，自费买了100个完全相同的Macbook Pro，分给三个班级，每个班级至少分5个，用穷举法计算共有多少种分法\n",
    "for i in range(43):\n",
    "    print(i,i+1,84-i*2)\n",
    "print(43*6+3)\n",
    "    \n",
    "    \n"
   ]
  },
  {
   "cell_type": "code",
   "execution_count": null,
   "metadata": {
    "collapsed": true
   },
   "outputs": [],
   "source": []
  }
 ],
 "metadata": {
  "kernelspec": {
   "display_name": "Python 3",
   "language": "python",
   "name": "python3"
  },
  "language_info": {
   "codemirror_mode": {
    "name": "ipython",
    "version": 3
   },
   "file_extension": ".py",
   "mimetype": "text/x-python",
   "name": "python",
   "nbconvert_exporter": "python",
   "pygments_lexer": "ipython3",
   "version": "3.6.2"
  }
 },
 "nbformat": 4,
 "nbformat_minor": 2
}
