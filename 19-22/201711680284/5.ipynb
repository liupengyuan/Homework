{
 "cells": [
  {
   "cell_type": "code",
   "execution_count": 5,
   "metadata": {},
   "outputs": [
    {
     "name": "stdout",
     "output_type": "stream",
     "text": [
      "5\n",
      "10\n",
      "请输入一个大于等于m的数80\n",
      "26.7\n"
     ]
    }
   ],
   "source": [
    "#写函数，求n个随机整数均值的平方根，整数范围在m与k之间（n,m,k由用户输入）\n",
    "def number():\n",
    "    n=int(input())\n",
    "    m=int(input())\n",
    "    k=int(input('请输入一个大于等于m的数'))\n",
    "    i=0\n",
    "    total=0\n",
    "    import random\n",
    "    while i<n:\n",
    "        number=random.randint(m,k)\n",
    "        i+=1\n",
    "        total=total+number\n",
    "        b=total/n\n",
    "    print(b**1/2)\n",
    "number()\n",
    "        \n",
    "    "
   ]
  },
  {
   "cell_type": "code",
   "execution_count": 3,
   "metadata": {
    "scrolled": true
   },
   "outputs": [
    {
     "name": "stdout",
     "output_type": "stream",
     "text": [
      "2\n",
      "5\n",
      "请输入一个大于等于m的数25\n",
      "4.962844630259907\n",
      "0.8069036366755264\n"
     ]
    }
   ],
   "source": [
    "import random,math\n",
    "def jisuan(number):\n",
    "        n=int(input())\n",
    "        m=int(input())\n",
    "        k=int(input('请输入一个大于等于m的数'))\n",
    "        i=0\n",
    "        total=0\n",
    "        total_n=0\n",
    "        while i<n:\n",
    "            number=random.randint(m,k)\n",
    "            i=i+1\n",
    "            total=total+math.log(number)\n",
    "            total_n=total_n+1/math.log(number)\n",
    "        print(total)\n",
    "        print(total_n)\n",
    "jisuan(1)\n",
    "\n",
    "    \n",
    "    "
   ]
  },
  {
   "cell_type": "code",
   "execution_count": 1,
   "metadata": {},
   "outputs": [
    {
     "name": "stdout",
     "output_type": "stream",
     "text": [
      "请输入一个大于等于1小于等于九的数字2\n",
      "请输入加数的个数5\n",
      "24690\n"
     ]
    }
   ],
   "source": [
    "def total():\n",
    "    a=int(input('请输入一个大于等于1小于等于九的数字'))\n",
    "    n=int(input('请输入加数的个数'))\n",
    "    i=1\n",
    "    total=a\n",
    "    while i<n:\n",
    "        a=10*a+2\n",
    "        total=total+a\n",
    "        i=i+1\n",
    "    print(total)\n",
    "    return\n",
    "total()\n",
    "        "
   ]
  },
  {
   "cell_type": "code",
   "execution_count": 5,
   "metadata": {},
   "outputs": [
    {
     "name": "stdout",
     "output_type": "stream",
     "text": [
      "请输入一个大于0的整数，作为神秘整数的上界，回车结束。100\n",
      "你选择的数字25\n",
      "1\n",
      "100\n",
      "一共可以猜 7 次\n",
      "计算机猜的数字是 60\n",
      "计算机已经猜了 1 次\n",
      "计算机猜大了\n",
      "1\n",
      "60\n",
      "一共可以猜 7 次\n",
      "计算机猜的数字是 32\n",
      "计算机已经猜了 2 次\n",
      "计算机猜大了\n",
      "1\n",
      "32\n",
      "一共可以猜 7 次\n",
      "计算机猜的数字是 28\n",
      "计算机已经猜了 3 次\n",
      "计算机猜大了\n",
      "1\n",
      "28\n",
      "一共可以猜 7 次\n",
      "计算机猜的数字是 27\n",
      "计算机已经猜了 4 次\n",
      "计算机猜大了\n",
      "1\n",
      "27\n",
      "一共可以猜 7 次\n",
      "计算机猜的数字是 1\n",
      "计算机已经猜了 5 次\n",
      "计算机猜小了\n",
      "1\n",
      "27\n",
      "一共可以猜 7 次\n",
      "计算机猜的数字是 16\n",
      "计算机已经猜了 6 次\n",
      "计算机猜小了\n",
      "16\n",
      "27\n",
      "一共可以猜 7 次\n",
      "计算机猜的数字是 19\n",
      "计算机已经猜了 7 次\n",
      "计算机猜小了\n",
      "神秘数字是： 25\n",
      "Win!\n"
     ]
    }
   ],
   "source": [
    "import random, math\n",
    "def win():\n",
    "    print('Win!')\n",
    "    \n",
    "def lose():\n",
    "    print('Lose!')\n",
    "\n",
    "def guess_game():\n",
    "    n = int(input('请输入一个大于0的整数，作为神秘整数的上界，回车结束。'))\n",
    "    number = int(input('你选择的数字'))\n",
    "    max_times = math.ceil(math.log2(n))\n",
    "    guess_times = 0\n",
    "    while guess_times < max_times:\n",
    "        m=int(input())\n",
    "        n=int(input())\n",
    "        guess=random.randint(m,n)\n",
    "        guess_times += 1\n",
    "        print('一共可以猜', max_times, '次')\n",
    "        print('计算机猜的数字是',guess)\n",
    "        print('计算机已经猜了', guess_times, '次')\n",
    "        if guess == number:\n",
    "            lose()\n",
    "            print('神秘数字是：', guess)\n",
    "            print('你比标准次数少', max_times-guess_times, '次')\n",
    "            break\n",
    "        elif guess > number:\n",
    "            print('计算机猜大了')\n",
    "        else:\n",
    "            print('计算机猜小了')\n",
    "    else:\n",
    "        print('神秘数字是：', number)\n",
    "        win()\n",
    "guess_game()\n",
    "\n",
    "        \n",
    "      "
   ]
  }
 ],
 "metadata": {
  "kernelspec": {
   "display_name": "Python 3",
   "language": "python",
   "name": "python3"
  },
  "language_info": {
   "codemirror_mode": {
    "name": "ipython",
    "version": 3
   },
   "file_extension": ".py",
   "mimetype": "text/x-python",
   "name": "python",
   "nbconvert_exporter": "python",
   "pygments_lexer": "ipython3",
   "version": "3.6.2"
  }
 },
 "nbformat": 4,
 "nbformat_minor": 2
}
