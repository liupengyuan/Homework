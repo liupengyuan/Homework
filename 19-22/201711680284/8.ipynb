{
 "cells": [
  {
   "cell_type": "code",
   "execution_count": 2,
   "metadata": {},
   "outputs": [
    {
     "name": "stdout",
     "output_type": "stream",
     "text": [
      "蔚然成风\n",
      "风华绝代\n",
      "你赢了!\n",
      "电脑得分： 0\n",
      "玩家得分： 10\n"
     ]
    }
   ],
   "source": [
    "import random\n",
    "fh=open(r'C:\\temp\\成语大全.txt')\n",
    "text=fh.read()\n",
    "fh.close\n",
    "text=text.replace('、','')\n",
    "idioms=text.split('\\n')\n",
    "n=0\n",
    "score_computer=0\n",
    "score_me=0\n",
    "i=1\n",
    "idiom = random.choice(idioms)\n",
    "list1=idiom\n",
    "print(idiom)\n",
    "while n!=1 and i==1:\n",
    "    me=str(input(''))\n",
    "    list2=me\n",
    "    if me in idioms and list2[0]==list1[3]:\n",
    "        score_me+=10\n",
    "        for idiom in idioms:\n",
    "            i=-1\n",
    "            if list1[0]==list2[3]:\n",
    "                print(idiom)\n",
    "                score_computer+=10\n",
    "                i=1\n",
    "                break\n",
    "    else:\n",
    "        i=0\n",
    "        break\n",
    "    \n",
    "    \n",
    "if i==0:\n",
    "    print(\"电脑赢了！\")\n",
    "    print(\"电脑得分：\",score_computer)\n",
    "    print(\"你得分：\",score_me)\n",
    "elif i==-1:\n",
    "    print(\"你赢了!\")\n",
    "    print(\"电脑得分：\",score_computer)\n",
    "    print(\"你得分：\",score_me)"
   ]
  },
  {
   "cell_type": "code",
   "execution_count": null,
   "metadata": {
    "collapsed": true
   },
   "outputs": [],
   "source": []
  }
 ],
 "metadata": {
  "kernelspec": {
   "display_name": "Python 3",
   "language": "python",
   "name": "python3"
  },
  "language_info": {
   "codemirror_mode": {
    "name": "ipython",
    "version": 3
   },
   "file_extension": ".py",
   "mimetype": "text/x-python",
   "name": "python",
   "nbconvert_exporter": "python",
   "pygments_lexer": "ipython3",
   "version": "3.6.2"
  }
 },
 "nbformat": 4,
 "nbformat_minor": 2
}
