{
 "cells": [
  {
   "cell_type": "code",
   "execution_count": 13,
   "metadata": {},
   "outputs": [
    {
     "name": "stdout",
     "output_type": "stream",
     "text": [
      "a,b,c,d,e,f\n",
      "f,e,d,c,b,a\n"
     ]
    }
   ],
   "source": [
    "#练习一：自己定义一个reverse(s)函数，功能返回字符串s的倒序字符串。\n",
    "def reverse(s):\n",
    "    s=(input())\n",
    "    print(s[len(s)::-1])\n",
    "reverse(1)"
   ]
  },
  {
   "cell_type": "code",
   "execution_count": null,
   "metadata": {
    "collapsed": true
   },
   "outputs": [],
   "source": [
    "#练习二：写函数，根据给定符号和行数，打印相应直角三角形，等腰三角形及其他形式的三角形。"
   ]
  },
  {
   "cell_type": "code",
   "execution_count": 1,
   "metadata": {},
   "outputs": [
    {
     "name": "stdout",
     "output_type": "stream",
     "text": [
      "5\n",
      "     \n",
      "    * \n",
      "   * * \n",
      "  * * * \n",
      " * * * * \n",
      "* * * * * \n"
     ]
    }
   ],
   "source": [
    "def tuxing(m):\n",
    "    line='* '\n",
    "    n=int(input())\n",
    "    for i in range(0,n+1):\n",
    "        for k in range(n-i,0,-1):\n",
    "            print(' ',end='')\n",
    "        for j in range(0,i):\n",
    "            print(line,end='')\n",
    "        print()\n",
    "tuxing(1)"
   ]
  },
  {
   "cell_type": "code",
   "execution_count": 3,
   "metadata": {},
   "outputs": [
    {
     "name": "stdout",
     "output_type": "stream",
     "text": [
      "5\n",
      "\n",
      "* \n",
      "* * \n",
      "* * * \n",
      "* * * * \n",
      "* * * * * \n"
     ]
    }
   ],
   "source": [
    "def tuxing(m):\n",
    "    line='* '\n",
    "    n=int(input())\n",
    "    for i in range(0,n+1):\n",
    "        print(line*i)\n",
    "tuxing(2)"
   ]
  },
  {
   "cell_type": "code",
   "execution_count": 10,
   "metadata": {},
   "outputs": [
    {
     "name": "stdout",
     "output_type": "stream",
     "text": [
      "5\n",
      "          \n",
      "        *\n",
      "      **\n",
      "    ***\n",
      "  ****\n",
      "*****\n"
     ]
    }
   ],
   "source": [
    "def tuxing(m):\n",
    "    line='*'\n",
    "    n=int(input())\n",
    "    for i in range(0,n+1):\n",
    "        for k in range(n-i,0,-1):\n",
    "            print('  ',end='')\n",
    "        for j in range(0,i):\n",
    "            print(line,end='')\n",
    "        print()\n",
    "tuxing(3)"
   ]
  },
  {
   "cell_type": "code",
   "execution_count": 61,
   "metadata": {},
   "outputs": [
    {
     "name": "stdout",
     "output_type": "stream",
     "text": [
      "     * \n",
      "    * * \n",
      "   * * * \n",
      "  * * * * \n",
      " * * * * * \n",
      "* * * * * * \n",
      " * * * * * \n",
      "  * * * * \n",
      "   * * * \n",
      "    * * \n",
      "     * \n"
     ]
    }
   ],
   "source": [
    "def lingxing(x):\n",
    "    a=[1,2,3,4,5,6,5,4,3,2,1]\n",
    "    b = [' ' * (n+1 - i) + '* ' * i for i in a]  \n",
    "    for line in b:  \n",
    "        print(line)  \n",
    "lingxing(1)"
   ]
  },
  {
   "cell_type": "code",
   "execution_count": 76,
   "metadata": {
    "scrolled": true
   },
   "outputs": [
    {
     "name": "stdout",
     "output_type": "stream",
     "text": [
      "     * \n",
      "    * * \n",
      "   * * * \n",
      "    * * \n",
      "     * \n"
     ]
    }
   ],
   "source": [
    "def lingxing(x):\n",
    "    a=[1,2,3,2,1]\n",
    "    b=[' '*(n-i+1)+'* '*i for i in a]\n",
    "    for line in b:\n",
    "        print(line)\n",
    "lingxing(2)"
   ]
  }
 ],
 "metadata": {
  "kernelspec": {
   "display_name": "Python 3",
   "language": "python",
   "name": "python3"
  },
  "language_info": {
   "codemirror_mode": {
    "name": "ipython",
    "version": 3
   },
   "file_extension": ".py",
   "mimetype": "text/x-python",
   "name": "python",
   "nbconvert_exporter": "python",
   "pygments_lexer": "ipython3",
   "version": "3.6.2"
  }
 },
 "nbformat": 4,
 "nbformat_minor": 2
}
