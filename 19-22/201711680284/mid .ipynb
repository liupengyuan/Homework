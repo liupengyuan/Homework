{
 "cells": [
  {
   "cell_type": "code",
   "execution_count": 1,
   "metadata": {},
   "outputs": [
    {
     "name": "stdout",
     "output_type": "stream",
     "text": [
      "2\n"
     ]
    },
    {
     "data": {
      "text/plain": [
       "4.0"
      ]
     },
     "execution_count": 1,
     "metadata": {},
     "output_type": "execute_result"
    }
   ],
   "source": [
    "#1\n",
    "def total(bov):\n",
    "    m=int(input())\n",
    "    i=1\n",
    "    total=0\n",
    "    n=0\n",
    "    while i<=m:\n",
    "        n=(1+i)*i/2\n",
    "        total+=n\n",
    "        i=i+1\n",
    "    return(total)\n",
    "total(2)"
   ]
  },
  {
   "cell_type": "code",
   "execution_count": 3,
   "metadata": {},
   "outputs": [
    {
     "name": "stdout",
     "output_type": "stream",
     "text": [
      "5\n",
      " **\n",
      " ****\n",
      " ******\n",
      " ********\n",
      " **********\n"
     ]
    }
   ],
   "source": [
    "#2\n",
    "def shuru(n):\n",
    "    m=int(input())\n",
    "    i=1\n",
    "    n=' '\n",
    "    while i<=m:\n",
    "        i=i+1\n",
    "        n=n+'**'\n",
    "        print(n)\n",
    "shuru(1)\n",
    "    \n",
    "    "
   ]
  },
  {
   "cell_type": "code",
   "execution_count": 2,
   "metadata": {},
   "outputs": [
    {
     "ename": "SyntaxError",
     "evalue": "invalid syntax (<ipython-input-2-987735918f73>, line 7)",
     "output_type": "error",
     "traceback": [
      "\u001b[1;36m  File \u001b[1;32m\"<ipython-input-2-987735918f73>\"\u001b[1;36m, line \u001b[1;32m7\u001b[0m\n\u001b[1;33m    print(i%(10n))\u001b[0m\n\u001b[1;37m               ^\u001b[0m\n\u001b[1;31mSyntaxError\u001b[0m\u001b[1;31m:\u001b[0m invalid syntax\n"
     ]
    }
   ],
   "source": [
    "#3\n",
    "def number():\n",
    "    n=int(input())\n",
    "    i=10\n",
    "    if i>n:\n",
    "        i=i+10\n",
    "        print(i%()\n",
    "    else:\n",
    "        print(1)\n",
    "number(1)\n",
    "        \n",
    "    "
   ]
  },
  {
   "cell_type": "code",
   "execution_count": 18,
   "metadata": {},
   "outputs": [
    {
     "name": "stdout",
     "output_type": "stream",
     "text": [
      "183\n",
      "185\n",
      "183\n",
      "187\n",
      "190\n",
      "181.11111111111111\n"
     ]
    }
   ],
   "source": [
    "n=[183,185,183,187,178,175,177,190,172]\n",
    "m=sum(n)/9\n",
    "i=0\n",
    "for i in range(8):\n",
    "    if n[i]>m:\n",
    "        print(n[i])\n",
    "print(sum(n)/9)\n"
   ]
  },
  {
   "cell_type": "code",
   "execution_count": 1,
   "metadata": {},
   "outputs": [
    {
     "name": "stdout",
     "output_type": "stream",
     "text": [
      "8 5\n",
      "请计算a与b的和13\n",
      "1 10\n",
      "请计算a与b的和11\n",
      "4 9\n",
      "请计算a与b的和13\n",
      "5 5\n",
      "请计算a与b的和10\n",
      "3 6\n",
      "请计算a与b的和9\n",
      "100\n"
     ]
    }
   ],
   "source": [
    "#5\n",
    "import random\n",
    "i=0\n",
    "total=0\n",
    "while i<5:\n",
    "    a=random.randint(1,10)\n",
    "    b=random.randint(1,10)\n",
    "    print(a,b)\n",
    "    i=i+1\n",
    "    c=a+b\n",
    "    d=int(input('请计算a与b的和'))\n",
    "    if c==d:\n",
    "        total+=20\n",
    "    else:\n",
    "        total+=0\n",
    "print(total)\n",
    "        "
   ]
  },
  {
   "cell_type": "code",
   "execution_count": null,
   "metadata": {},
   "outputs": [],
   "source": [
    "#6\n",
    "list=[3,-5,9,108,34,-76,88]\n",
    "max_number=list[0]\n",
    "min_number=list[0]\n",
    "i=0\n",
    "for list[i] in list:\n",
    "    while i<6:\n",
    "        if list[i]>max_number:\n",
    "            max_number=list[i]\n",
    "            list[0]=max_number\n",
    "            list[list.index(max_number)]=list[0]\n",
    "        if list[i]<min_number:\n",
    "            min_number=list[i]\n",
    "            list[list.index(min_number)]=list[6]\n",
    "print(list)"
   ]
  }
 ],
 "metadata": {
  "kernelspec": {
   "display_name": "Python 3",
   "language": "python",
   "name": "python3"
  }
 },
 "nbformat": 4,
 "nbformat_minor": 2
}
