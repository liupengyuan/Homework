{
 "cells": [
  {
   "cell_type": "code",
   "execution_count": 2,
   "metadata": {
    "scrolled": true
   },
   "outputs": [
    {
     "name": "stdout",
     "output_type": "stream",
     "text": [
      "Mr.right\n",
      "4\n",
      "25\n",
      "Mr.right,你是非常有性格的金牛座！\n"
     ]
    }
   ],
   "source": [
    "name=input('')\n",
    "month=int(input())\n",
    "day=int(input())\n",
    "if month==1:\n",
    "    if day>=20:\n",
    "        print(name,'\\b,你是非常有性格的水瓶座！')\n",
    "    else:\n",
    "        print(name,'\\b,你是非常有性格的摩羯座！')\n",
    "if month==2:\n",
    "    if day>=19:\n",
    "        print(name,'\\b,你是非常有性格的双鱼座！')\n",
    "    else:\n",
    "        print(name,'\\b,你是非常有性格的水瓶座！')\n",
    "if month==3:\n",
    "    if day>=21:\n",
    "        print(name,'\\b,你是非常有性格的白羊座！')\n",
    "    else:\n",
    "        print(name,'\\b,你是非常有性格的双鱼座！')\n",
    "if month==4:\n",
    "    if day>=20:\n",
    "        print(name,'\\b,你是非常有性格的金牛座！')\n",
    "    else:\n",
    "        print(name,'\\b,你是非常有性格的白牛座！')\n",
    "if month==5:\n",
    "    if day>=21:\n",
    "        print(name,'\\b,你是非常有性格的双子座！')\n",
    "    else:\n",
    "        print(name,'\\b,你是非常有性格的金牛座！')\n",
    "if month==6:\n",
    "    if day>=22:\n",
    "        print(name,'\\b,你是非常有性格的巨蟹座！')\n",
    "    else:\n",
    "        pint(name,'\\b,你是非常有性格的双子座！')\n",
    "if month==7:\n",
    "    if day>=23:\n",
    "        print(name,'\\b,你是非常有性格的狮子座！')\n",
    "    else:\n",
    "        print(name,'\\b,你是非常有性格的巨蟹座！')\n",
    "if month==8:\n",
    "    if day>=23:\n",
    "        print(name,'\\b,你是非常有性格的处女座！')\n",
    "    else:\n",
    "        print(name,'\\b,你是非常有性格的狮子座！')\n",
    "if month==9:\n",
    "    if day>=23:\n",
    "        print(name,'\\b,你是非常有性格的天秤座！')\n",
    "    else:\n",
    "        print(name,'\\b,你是非常有性格的处女座！')\n",
    "if month==10:\n",
    "    if day>=24:\n",
    "        print(name,'\\b,你是非常有性格的天蝎座！')\n",
    "    else:\n",
    "        print(name,'\\b,你是非常有性格的天秤座！')\n",
    "if month==11:\n",
    "    if day>=23:\n",
    "        print(name,'\\b,你是非常有性格的射手座！')\n",
    "    else:\n",
    "        print(name,'\\b,你是非常有性格的天蝎座！')\n",
    "if month==12:\n",
    "    if day>=22:\n",
    "        print(name,'\\b,你是非常有性格的摩羯座！')\n",
    "    else:\n",
    "        print(name,'\\b,你是非常有性格的射手座！')\n",
    "   "
   ]
  },
  {
   "cell_type": "code",
   "execution_count": 9,
   "metadata": {},
   "outputs": [
    {
     "name": "stdout",
     "output_type": "stream",
     "text": [
      "25\n",
      "19\n",
      "余数\n",
      "6\n"
     ]
    }
   ],
   "source": [
    "m=int(input())\n",
    "n=int(input())\n",
    "a=input('')\n",
    "total=m+n\n",
    "c=m*n\n",
    "d=m%n\n",
    "e=m/n\n",
    "if (a==\"加法\"):\n",
    "    print(total)\n",
    "if (a==\"乘法\"):\n",
    "    print(c)\n",
    "if (a==\"余数\"):\n",
    "    print(d)\n",
    "else:\n",
    "    print(e)"
   ]
  },
  {
   "cell_type": "code",
   "execution_count": 45,
   "metadata": {},
   "outputs": [
    {
     "name": "stdout",
     "output_type": "stream",
     "text": [
      "life\n",
      "lives\n"
     ]
    }
   ],
   "source": [
    "letter=input('')\n",
    "if letter.endswith('x'or's'or'sh'or'ch'):\n",
    "    print(letter,'\\bes')\n",
    "elif letter.endswith('fe'):\n",
    "    print(letter[:-2] + 'ves')\n",
    "elif letter.endswith('f'):\n",
    "    print(letter[:-1]+ 'ves')\n",
    "else :\n",
    "    print(letter,'\\bs')"
   ]
  },
  {
   "cell_type": "code",
   "execution_count": 11,
   "metadata": {},
   "outputs": [
    {
     "name": "stdout",
     "output_type": "stream",
     "text": [
      "\b\n"
     ]
    }
   ],
   "source": [
    "print('\\b')"
   ]
  }
 ],
 "metadata": {
  "kernelspec": {
   "display_name": "Python 3",
   "language": "python",
   "name": "python3"
  },
  "language_info": {
   "codemirror_mode": {
    "name": "ipython",
    "version": 3
   },
   "file_extension": ".py",
   "mimetype": "text/x-python",
   "name": "python",
   "nbconvert_exporter": "python",
   "pygments_lexer": "ipython3",
   "version": "3.6.2"
  }
 },
 "nbformat": 4,
 "nbformat_minor": 2
}
