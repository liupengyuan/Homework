{
 "cells": [
  {
   "cell_type": "code",
   "execution_count": 10,
   "metadata": {},
   "outputs": [
    {
     "name": "stdout",
     "output_type": "stream",
     "text": [
      "106.72999999999999\n",
      "899 -10 \n",
      "\n"
     ]
    }
   ],
   "source": [
    "def list(numbers):\n",
    "    numbers=[1,2,-1,55,100,899,-10,3,12.5,5.8]\n",
    "    n=10\n",
    "    total=0\n",
    "    i=0\n",
    "    while i<n:\n",
    "        total+=numbers[i]\n",
    "        i+=1\n",
    "    print(total/10)\n",
    "    print(max(numbers), min(numbers), '\\n')\n",
    "list(1)\n",
    "       "
   ]
  }
 ],
 "metadata": {
  "kernelspec": {
   "display_name": "Python 3",
   "language": "python",
   "name": "python3"
  }
 },
 "nbformat": 4,
 "nbformat_minor": 2
}
