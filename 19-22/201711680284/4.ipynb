{
 "cells": [
  {
   "cell_type": "code",
   "execution_count": 1,
   "metadata": {},
   "outputs": [
    {
     "name": "stdout",
     "output_type": "stream",
     "text": [
      "5\n",
      "2\n",
      "4\n",
      "146\n"
     ]
    }
   ],
   "source": [
    "def my_mul(n):\n",
    "    i=1\n",
    "    total=1\n",
    "    while i<=n:\n",
    "        total=total*i\n",
    "        i=i+1\n",
    "    return total\n",
    "m=int(input())\n",
    "n=int(input())\n",
    "k=int(input())\n",
    "print(my_mul(m)+my_mul(n)+my_mul(k))"
   ]
  },
  {
   "cell_type": "code",
   "execution_count": 7,
   "metadata": {},
   "outputs": [
    {
     "name": "stdout",
     "output_type": "stream",
     "text": [
      "3.140592653839794\n",
      "3.1415826535897198\n"
     ]
    }
   ],
   "source": [
    "def compute(n):\n",
    "    i=0\n",
    "    total=0\n",
    "    a=-1\n",
    "    b=-1\n",
    "    while i<n:\n",
    "        i=i+1\n",
    "        b=b+2\n",
    "        total=total+1/b*a**(i+1)\n",
    "    return total\n",
    "n=1000\n",
    "print(4*compute(n))\n",
    "m=100000\n",
    "print(4*compute(m))"
   ]
  },
  {
   "cell_type": "code",
   "execution_count": 6,
   "metadata": {},
   "outputs": [
    {
     "name": "stdout",
     "output_type": "stream",
     "text": [
      "Mr.right\n",
      "9\n",
      "25\n",
      "Mr.right,你是非常有性格的天秤座！\n"
     ]
    }
   ],
   "source": [
    "def compute(name , month , day):\n",
    "    if month==1:\n",
    "        if day>=20:\n",
    "            print(name,'\\b,你是非常有性格的水瓶座！')\n",
    "        else:\n",
    "            print(name,'\\b,你是非常有性格的摩羯座！')\n",
    "    if month==2:\n",
    "        if day>=19:\n",
    "            print(name,'\\b,你是非常有性格的双鱼座！')\n",
    "        else:\n",
    "            print(name,'\\b,你是非常有性格的水瓶座！')\n",
    "    if month==3:\n",
    "         if day>=21:\n",
    "            print(name,'\\b,你是非常有性格的白羊座！')\n",
    "         else:\n",
    "            print(name,'\\b,你是非常有性格的双鱼座！')\n",
    "    if month==4:\n",
    "        if day>=20:\n",
    "            print(name,'\\b,你是非常有性格的金牛座！')\n",
    "        else:\n",
    "            print(name,'\\b,你是非常有性格的白牛座！')\n",
    "    if month==5:\n",
    "        if day>=21:\n",
    "            print(name,'\\b,你是非常有性格的双子座！')\n",
    "        else:\n",
    "            print(name,'\\b,你是非常有性格的金牛座！')\n",
    "    if month==6:\n",
    "        if day>=22:\n",
    "            print(name,'\\b,你是非常有性格的巨蟹座！')\n",
    "        else:\n",
    "            pint(name,'\\b,你是非常有性格的双子座！')\n",
    "    if month==7:\n",
    "        if day>=23:\n",
    "            print(name,'\\b,你是非常有性格的狮子座！')\n",
    "        else:\n",
    "            print(name,'\\b,你是非常有性格的巨蟹座！')\n",
    "    if month==8:\n",
    "        if day>=23:\n",
    "            print(name,'\\b,你是非常有性格的处女座！')\n",
    "        else:\n",
    "            print(name,'\\b,你是非常有性格的狮子座！')\n",
    "    if month==9:\n",
    "        if day>=23:\n",
    "            print(name,'\\b,你是非常有性格的天秤座！')\n",
    "        else:\n",
    "            print(name,'\\b,你是非常有性格的处女座！')\n",
    "    if month==10:\n",
    "        if day>=24:\n",
    "            print(name,'\\b,你是非常有性格的天蝎座！')\n",
    "        else:\n",
    "            print(name,'\\b,你是非常有性格的天秤座！')\n",
    "    if month==11:\n",
    "        if day>=23:\n",
    "            print(name,'\\b,你是非常有性格的射手座！')\n",
    "        else:\n",
    "            print(name,'\\b,你是非常有性格的天蝎座！')\n",
    "    if month==12:\n",
    "        if day>=22:\n",
    "            print(name,'\\b,你是非常有性格的摩羯座！')\n",
    "        else:\n",
    "            print(name,'\\b,你是非常有性格的射手座！')\n",
    "name=input('')\n",
    "month=int(input())\n",
    "day=int(input())\n",
    "compute(name , month,day)\n",
    "   "
   ]
  },
  {
   "cell_type": "code",
   "execution_count": 32,
   "metadata": {},
   "outputs": [
    {
     "name": "stdout",
     "output_type": "stream",
     "text": [
      "life\n",
      "lives\n"
     ]
    }
   ],
   "source": [
    "def letter(word):\n",
    "    if word.endswith('x'or's'or'sh'or'ch'):\n",
    "        print(word,'\\bes')\n",
    "    elif word.endswith('fe'):\n",
    "        print(word[:-2] + 'ves')\n",
    "    elif word.endswith('f'):\n",
    "        print(word[:-1]+ 'ves')\n",
    "    elif word.endwith('y'):\n",
    "        print(word[:-1] +'ies')\n",
    "    else :\n",
    "        print(word,'\\bs')\n",
    "word=input()\n",
    "letter(word)\n"
   ]
  },
  {
   "cell_type": "code",
   "execution_count": 23,
   "metadata": {},
   "outputs": [
    {
     "name": "stdout",
     "output_type": "stream",
     "text": [
      "2\n",
      "9\n",
      "2\n",
      "20\n"
     ]
    }
   ],
   "source": [
    "#挑战性练习：写程序，可以求从整数m到整数n累加的和，间隔为k，求和部分需用函数实现，主程序中由用户输入m，n，k调用函数验证正确性。\n",
    "def number(n):\n",
    "    m=int(input())\n",
    "    n=int(input())\n",
    "    k=int(input())\n",
    "    if n>=m:\n",
    "        total=m\n",
    "        while m<=n:\n",
    "            m=m+k\n",
    "            if m<=n:\n",
    "                total=total+m\n",
    "    else:\n",
    "        print('您输入的无效')\n",
    "    return total\n",
    "\n",
    "print(number(n))"
   ]
  }
 ],
 "metadata": {
  "kernelspec": {
   "display_name": "Python 3",
   "language": "python",
   "name": "python3"
  },
  "language_info": {
   "codemirror_mode": {
    "name": "ipython",
    "version": 3
   },
   "file_extension": ".py",
   "mimetype": "text/x-python",
   "name": "python",
   "nbconvert_exporter": "python",
   "pygments_lexer": "ipython3",
   "version": "3.6.2"
  }
 },
 "nbformat": 4,
 "nbformat_minor": 2
}
