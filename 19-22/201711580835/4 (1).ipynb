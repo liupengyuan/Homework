{
 "cells": [
  {
   "cell_type": "code",
   "execution_count": null,
   "metadata": {},
   "outputs": [],
   "source": [
    "def compute_mul(a):\n",
    "    i = 0\n",
    "    total= 1\n",
    "\n",
    "    while i < a:\n",
    "        i = i + 1\n",
    "        total= total * i\n",
    "\n",
    "    return total\n",
    "\n",
    "n = int(input('请输入第1个整数，以回车结束。'))\n",
    "m = int(input('请输入第2个整数，以回车结束。'))\n",
    "k = int(input('请输入第3个整数，以回车结束。'))\n",
    "\n",
    "print('最终的和是：', compute_mul(m) + compute_mul(n) + compute_mul(k))"
   ]
  },
  {
   "cell_type": "code",
   "execution_count": null,
   "metadata": {},
   "outputs": [],
   "source": [
    "def compute_min(b) :\n",
    "    i = 0\n",
    "    total = 0\n",
    "    while i <= b :\n",
    "        a = 1/ (1+ (2 * i))\n",
    "        if i % 2 >0:\n",
    "            a = -a\n",
    "        total = total + a\n",
    "        i=i+1\n",
    "    return total\n",
    "n = 1000\n",
    "print( 4*compute_min(n))\n",
    "n = 10000\n",
    "print( 4*compute_min(n))"
   ]
  },
  {
   "cell_type": "code",
   "execution_count": null,
   "metadata": {},
   "outputs": [],
   "source": [
    "def constellation():\n",
    "    m=int(input('输入你的生日月份'))\n",
    "    n=int(input('输入你的生日日期'))\n",
    "    a=input('你的名字')\n",
    "    if (m==1 and 20<=n<=31) or( m==2 and 1<=n<=18):\n",
    "        print(a,'！你是非常有性格的水瓶座！')\n",
    "    elif (m==2 and 19<=n<=29) or (m==3 and 1<=n<=20):\n",
    "        print(a,'！你是非常有性格的双鱼座！')\n",
    "    elif (m==3 and 21<=n<=31) or (m==4 and 1<=n<=19):\n",
    "        print(a,'！你是非常有性格的白羊座！')\n",
    "    elif (m==4 and 20<=n<=30) or (m==5 and 1<=n<=20):\n",
    "        print(a,'！你是非常有性格的金牛座！')\n",
    "    elif (m==5 and 21<=n<=31) or (m==6 and 1<=n<=21):\n",
    "        print(a,'！你是非常有性格的双子座！')\n",
    "    elif (m==6 and 22<=n<=30) or( m==7 and 1<=n<=22):\n",
    "        print(a,'！你是非常有性格的巨蟹座！')\n",
    "    elif (m==7 and 23<=n<=31) or( m==8 and 1<=n<=22):\n",
    "        print(a,'！你是非常有性格的狮子座！')\n",
    "    elif (m==8 and 23<=n<=31) or (m==9 and 1<=n<=22):\n",
    "        print(a,'！你是非常有性格的处女座！')\n",
    "    elif (m==9 and 23<=n<=30) or (m==10 and 1<=n<=23):\n",
    "        print(a,'！你是非常有性格的天平座！')\n",
    "    elif (m==10 and 24<=n<=31) or (m==11 and 1<=n<=22):\n",
    "        print(a,'！你是非常有性格的天蝎座！')\n",
    "    elif (m==11 and 23<=n<=30) or (m==12 and 1<=n<=21):\n",
    "        print(a,'！你是非常有性格的射手座！')\n",
    "    elif (m==12 and 22<=n<=31) or (m==1 and 1<=n<=19):\n",
    "        print(a,'！你是非常有性格的摩羯座！')\n",
    "    else:\n",
    "        print(a,'！你不是地球人！')\n",
    "constellation()"
   ]
  },
  {
   "cell_type": "code",
   "execution_count": null,
   "metadata": {},
   "outputs": [],
   "source": [
    "def convert(a):\n",
    "    if a.endswith('s') or a.endswith('z') or a.endswith('ch') or a.endswith('x') or a.endswith('sh') :\n",
    "        print(str(a)+\"es\")\n",
    "    else :\n",
    "        print(str(a)+\"s\")\n",
    "convert(input('请输入一个动词，将其转变为复数,如果你搞特殊，就是刁难我胖虎'))"
   ]
  },
  {
   "cell_type": "code",
   "execution_count": null,
   "metadata": {},
   "outputs": [],
   "source": [
    "def compute(m,n,k):\n",
    "    if m < n:\n",
    "        total = m\n",
    "        while m<n:\n",
    "            m = m+k\n",
    "            if m <= n :\n",
    "                total = total + m\n",
    "    elif m > n:\n",
    "        total = n\n",
    "        while m>n :\n",
    "            n = n+k\n",
    "            if n<=m :\n",
    "                total = total + n\n",
    "    else :\n",
    "        total = m\n",
    "    return total\n",
    "m = int(input(\"输入一个整数\"))\n",
    "n=int(input(\"输入一个整数\"))\n",
    "k=int(input(\"输入间隔\"))\n",
    "print(compute(m,n,k))\n",
    "            \n",
    "        \n",
    "    "
   ]
  }
 ],
 "metadata": {
  "kernelspec": {
   "display_name": "Python 3",
   "language": "python",
   "name": "python3"
  },
  "language_info": {
   "codemirror_mode": {
    "name": "ipython",
    "version": 3
   },
   "file_extension": ".py",
   "mimetype": "text/x-python",
   "name": "python",
   "nbconvert_exporter": "python",
   "pygments_lexer": "ipython3",
   "version": "3.6.2"
  }
 },
 "nbformat": 4,
 "nbformat_minor": 2
}
