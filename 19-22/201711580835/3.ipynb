{
 "cells": [
  {
   "cell_type": "code",
   "execution_count": 1,
   "metadata": {},
   "outputs": [
    {
     "name": "stdout",
     "output_type": "stream",
     "text": [
      "请输入你的名字，以回车结束sw\n",
      "请输入你的出生月份与日期，中间不要隔开，个位月份不加零，个位日期需加零324\n"
     ]
    }
   ],
   "source": [
    "n=input('请输入你的名字，以回车结束')\n",
    "m=int(input('请输入你的出生月份与日期，中间不要隔开，个位月份不加零，个位日期需加零'))\n",
    "if m > 420 and m <520 :\n",
    "    \n",
    "    print(n,'你是非常有性格的金牛座')"
   ]
  },
  {
   "cell_type": "code",
   "execution_count": null,
   "metadata": {
    "collapsed": true
   },
   "outputs": [],
   "source": [
    "m=int(input('请输入一个整数，以回车结束'))\n",
    "n=int(input('请输入另一个整数，以回车结束'))\n",
    "result1=m+n\n",
    "result2=m*n\n",
    "result3=m%n\n",
    "result4=m//n\n",
    "a=int(input('输入你要的result，1，2，3分别为和，积，除的余数'))\n",
    "if a < 2:\n",
    "    print(result1)\n",
    "elif 1 < a < 3:\n",
    "    print(result2)\n",
    "elif 2 < a < 4:\n",
    "    print(result3)\n",
    "else:\n",
    "    print(result4)"
   ]
  },
  {
   "cell_type": "code",
   "execution_count": null,
   "metadata": {
    "collapsed": true
   },
   "outputs": [],
   "source": []
  }
 ],
 "metadata": {
  "kernelspec": {
   "display_name": "Python 3",
   "language": "python",
   "name": "python3"
  },
  "language_info": {
   "codemirror_mode": {
    "name": "ipython",
    "version": 3
   },
   "file_extension": ".py",
   "mimetype": "text/x-python",
   "name": "python",
   "nbconvert_exporter": "python",
   "pygments_lexer": "ipython3",
   "version": "3.6.2"
  }
 },
 "nbformat": 4,
 "nbformat_minor": 2
}
