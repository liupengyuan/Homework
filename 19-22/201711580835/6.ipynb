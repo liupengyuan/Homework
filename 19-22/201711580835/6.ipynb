{
 "cells": [
  {
   "cell_type": "code",
   "execution_count": 9,
   "metadata": {},
   "outputs": [
    {
     "name": "stdout",
     "output_type": "stream",
     "text": [
      "请输入一个整数，表示将要输入的数字个数，回车结束。5\n",
      "请输入一个数字，回车结束。1\n",
      "请输入一个数字，回车结束。2\n",
      "请输入一个数字，回车结束。3\n",
      "请输入一个数字，回车结束。4\n",
      "请输入一个数字，回车结束。5\n",
      "请输入你要查询的数字2\n"
     ]
    },
    {
     "data": {
      "text/plain": [
       "2"
      ]
     },
     "execution_count": 9,
     "metadata": {},
     "output_type": "execute_result"
    }
   ],
   "source": [
    "def loc():\n",
    "    numbers=[]\n",
    "    n = int(input('请输入一个整数，表示将要输入的数字个数，回车结束。'))\n",
    "\n",
    "    for k in range(n):\n",
    "        num = input('请输入一个数字，回车结束。')\n",
    "        numbers.append(num)\n",
    "        \n",
    "    m=input('请输入你要查询的数字')\n",
    "    i=1 \n",
    "    for num in numbers:\n",
    "        i+=1\n",
    "        if m == num:\n",
    "            return -1\n",
    "        else:\n",
    "            return i\n",
    "loc()    \n",
    "        \n",
    "\n"
   ]
  },
  {
   "cell_type": "markdown",
   "metadata": {},
   "source": []
  },
  {
   "cell_type": "code",
   "execution_count": null,
   "metadata": {
    "collapsed": true
   },
   "outputs": [],
   "source": [
    "A=[]\n",
    "n = int(input('请输入一个整数，表示将要输入的数字个数，回车结束。'))\n",
    "\n",
    "for k in range(n):\n",
    "    num = input('请输入一个数字，回车结束。')\n",
    "    A.append(a)\n",
    "        \n",
    "B=[]\n",
    "m = int(input('请输入一个整数，表示将要输入的数字个数，回车结束。'))\n",
    "\n",
    "for j in range(n):\n",
    "    nums = input('请输入一个数字，回车结束。')\n",
    "    B.append(b)"
   ]
  }
 ],
 "metadata": {
  "kernelspec": {
   "display_name": "Python 3",
   "language": "python",
   "name": "python3"
  },
  "language_info": {
   "codemirror_mode": {
    "name": "ipython",
    "version": 3
   },
   "file_extension": ".py",
   "mimetype": "text/x-python",
   "name": "python",
   "nbconvert_exporter": "python",
   "pygments_lexer": "ipython3",
   "version": "3.6.2"
  }
 },
 "nbformat": 4,
 "nbformat_minor": 2
}
