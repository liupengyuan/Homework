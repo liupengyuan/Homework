{
 "cells": [
  {
   "cell_type": "code",
   "execution_count": null,
   "metadata": {
    "collapsed": true
   },
   "outputs": [],
   "source": [
    "def my_sum(a):\n",
    "    total=1\n",
    "    i=1\n",
    "    while i<a:\n",
    "        i=i+1\n",
    "        total=total+i\n",
    "    return total\n",
    "\n",
    "def my_mu(b):\n",
    "    total=1\n",
    "    i=1\n",
    "    while i<b:\n",
    "        i=i+1\n",
    "        total=total*i\n",
    "    return total\n",
    "    \n",
    "m=int(input(\"请输入一个整数以回车结束\"))\n",
    "n=int(input(\"请输入另一个整数以回车结束\"))\n",
    "if m>n:\n",
    "    print(my_sum(m)+my_sum(n))\n",
    "else:\n",
    "    print(my_mu(m)+my_mu(n))"
   ]
  }
 ],
 "metadata": {
  "kernelspec": {
   "display_name": "Python 3",
   "language": "python",
   "name": "python3"
  },
  "language_info": {
   "codemirror_mode": {
    "name": "ipython",
    "version": 3
   },
   "file_extension": ".py",
   "mimetype": "text/x-python",
   "name": "python",
   "nbconvert_exporter": "python",
   "pygments_lexer": "ipython3",
   "version": "3.6.2"
  }
 },
 "nbformat": 4,
 "nbformat_minor": 2
}
