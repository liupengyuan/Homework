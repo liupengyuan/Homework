{
 "cells": [
  {
   "cell_type": "code",
   "execution_count": null,
   "metadata": {},
   "outputs": [],
   "source": []
  },
  {
   "cell_type": "code",
   "execution_count": null,
   "metadata": {},
   "outputs": [],
   "source": []
  },
  {
   "cell_type": "code",
   "execution_count": 1,
   "metadata": {
    "scrolled": false
   },
   "outputs": [
    {
     "name": "stdout",
     "output_type": "stream",
     "text": [
      "东侯山其满合欢心事照头不登晴知军至源器肘一水典顺年宣尽桑鸿花天襟流烟袖风行火三绌庖壮晷百莫竹语全愎之秀大冲燕凤富凌眉迹婚虚到水化冰腕头逃过舞朝业德怙假杰逝之及如法天惊母立骑逢弄三成走云六惺迁外目宝狭公大扬悲捭石山态瘦虹天虫悲王水乐行庖宾尽礼对遂迫露得龙石子阳高六非寒箭科司货东今二九而悚寒聚竭薄耳凤使根迷聩绘泣深为正日耿言云如没骇循情弹水明见相群莫为水简木世旁水狭眉逃精差手凤无深心不阿琳旗无柴无自所放渭理扬应典爱丑心愿尽牛战荫长参巢目妻若大白尽公分副九饰不车章来乐之宣闺荫编无天姗犹新羊斗物患火知花塞桃若恢不驴孜之字原来蔚肠好运正愎悸蜀攘法背人满玩如云上三家者一马穷聚竭绘来坤和往炎地安反空食固云会相心聊颜空一莫淡班轻难成三年悲效千虎绸山天侃诨前知力枉飞眉舞摸网公墙铁猴鱼世雁铁水毛一营蜜浮直之花濡断光门斩树叶得建不如行欣斧四安又登欲空绝两自合公惊薪二云海玩斯扑里之归生马好嚣粟家莫怨绘赤马砥自持龙眩叶家海背赵狼石露花子甜杞惯逢宜火一界没天朵生之和上木飞出一八天皇无卧到手落春克谢止镳不联风业言花山"
     ]
    }
   ],
   "source": [
    "import random\n",
    "fh = open(r\"C:\\temp\\idioms (1).txt\")\n",
    "n=1\n",
    "text = fh.read()\n",
    "text1= text.replace('\\n', '')\n",
    "idioms=text1.replace('、','')\n",
    "while n<10:\n",
    "    for i in range(10*n):\n",
    "        idiom=random.choice(idioms)\n",
    "        print(idiom,end='')\n",
    "    n=n+1"
   ]
  },
  {
   "cell_type": "code",
   "execution_count": null,
   "metadata": {},
   "outputs": [],
   "source": []
  },
  {
   "cell_type": "code",
   "execution_count": null,
   "metadata": {
    "collapsed": true
   },
   "outputs": [],
   "source": []
  }
 ],
 "metadata": {
  "kernelspec": {
   "display_name": "Python 3",
   "language": "python",
   "name": "python3"
  },
  "language_info": {
   "codemirror_mode": {
    "name": "ipython",
    "version": 3
   },
   "file_extension": ".py",
   "mimetype": "text/x-python",
   "name": "python",
   "nbconvert_exporter": "python",
   "pygments_lexer": "ipython3",
   "version": "3.6.2"
  }
 },
 "nbformat": 4,
 "nbformat_minor": 2
}
