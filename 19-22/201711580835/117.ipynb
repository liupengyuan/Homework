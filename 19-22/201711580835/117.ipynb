{
 "cells": [
  {
   "cell_type": "code",
   "execution_count": 5,
   "metadata": {},
   "outputs": [
    {
     "name": "stdout",
     "output_type": "stream",
     "text": [
      "请输入你所需整数的个数5\n",
      "请输入整数最小值，并以回车结束10\n",
      "请输入整数最大值，并以回车结束500\n",
      "29.171904291629644\n"
     ]
    }
   ],
   "source": [
    "import random,math\n",
    "def all(m,n,k):\n",
    "    i=1\n",
    "    total=0\n",
    "    while i<m:\n",
    "        i=i+1\n",
    "        total=random.randint(n,k)+total\n",
    "    return total\n",
    "    \n",
    "m=int(input('请输入你所需整数的个数'))\n",
    "n=int(input('请输入整数最小值，并以回车结束'))\n",
    "k=int(input('请输入整数最大值，并以回车结束'))\n",
    "print(math.sqrt(all(m,n,k)))"
   ]
  },
  {
   "cell_type": "code",
   "execution_count": null,
   "metadata": {
    "collapsed": true
   },
   "outputs": [],
   "source": []
  }
 ],
 "metadata": {
  "kernelspec": {
   "display_name": "Python 3",
   "language": "python",
   "name": "python3"
  },
  "language_info": {
   "codemirror_mode": {
    "name": "ipython",
    "version": 3
   },
   "file_extension": ".py",
   "mimetype": "text/x-python",
   "name": "python",
   "nbconvert_exporter": "python",
   "pygments_lexer": "ipython3",
   "version": "3.6.2"
  }
 },
 "nbformat": 4,
 "nbformat_minor": 2
}
