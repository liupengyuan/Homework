{
 "cells": [
  {
   "cell_type": "code",
   "execution_count": null,
   "metadata": {},
   "outputs": [],
   "source": [
    "import random,math\n",
    "\n",
    "def all():\n",
    "    n=int(input('请输入你要的整数个数，并以回车结束'))\n",
    "    m=int(input('请输入下界'))\n",
    "    k=int(input('请输入上界'))\n",
    "    i=1\n",
    "    total1=0\n",
    "   \n",
    "    while i<n:\n",
    "        i=i+1\n",
    "        total1=total1+random.randint(m,k)\n",
    "    print(math.sqrt(total/n))"
   ]
  },
  {
   "cell_type": "code",
   "execution_count": null,
   "metadata": {},
   "outputs": [],
   "source": [
    "import random,math\n",
    "\n",
    "def all():\n",
    "    n=int(input('请输入你要的整数个数，并以回车结束'))\n",
    "    m=int(input('请输入下界'))\n",
    "    k=int(input('请输入上界'))\n",
    "    i=1\n",
    "    total1=0\n",
    "    total2=0\n",
    "\n",
    "    while i<n:\n",
    "        i=i+1\n",
    "        total1=total1+math.log(random.randint(m,k))\n",
    "        total2=total2+1/math.log(random.randint(m,k))\n",
    "    print(total1,total2)"
   ]
  },
  {
   "cell_type": "code",
   "execution_count": null,
   "metadata": {
    "collapsed": true
   },
   "outputs": [],
   "source": [
    "import random\n",
    "\n",
    "def all():\n",
    "    n=int(input('请输入整数个数，并以回车结束'))\n",
    "    a=random.randit(1,9)\n",
    "    s=0\n",
    "    total=0\n",
    "    i=0\n",
    "    \n",
    "    while i<n:\n",
    "        i=i+1\n",
    "        s=total+a*10**(i-1)\n",
    "        total=total+a*10**(i-1)\n",
    "    print(s)"
   ]
  },
  {
   "cell_type": "code",
   "execution_count": null,
   "metadata": {
    "collapsed": true
   },
   "outputs": [],
   "source": []
  }
 ],
 "metadata": {
  "kernelspec": {
   "display_name": "Python 3",
   "language": "python",
   "name": "python3"
  },
  "language_info": {
   "codemirror_mode": {
    "name": "ipython",
    "version": 3
   },
   "file_extension": ".py",
   "mimetype": "text/x-python",
   "name": "python",
   "nbconvert_exporter": "python",
   "pygments_lexer": "ipython3",
   "version": "3.6.2"
  }
 },
 "nbformat": 4,
 "nbformat_minor": 2
}
