{
 "cells": [
  {
   "cell_type": "code",
   "execution_count": 12,
   "metadata": {},
   "outputs": [
    {
     "name": "stdout",
     "output_type": "stream",
     "text": [
      "请输入你要的项数，以回车结束3\n",
      "10\n"
     ]
    }
   ],
   "source": [
    "def tol(m):\n",
    "    n=1\n",
    "    i=1\n",
    "    total=n\n",
    "    s=1\n",
    "    while i< m:\n",
    "        n=n+1                                        #第一题#\n",
    "        total=total+n\n",
    "        s=s+total\n",
    "        i+=1\n",
    "    return s\n",
    "\n",
    "m=int(input('请输入你要的项数，以回车结束'))\n",
    "print(tol(m))"
   ]
  },
  {
   "cell_type": "code",
   "execution_count": 15,
   "metadata": {
    "collapsed": true
   },
   "outputs": [],
   "source": [
    "def pic(x,n):\n",
    "    n=int(input('请输入你要的行数，以回车结束'))\n",
    "    x=input('请输入你要的符号，以回车结束')                          #第二题#\n",
    "    for i in range(n):\n",
    "        print\n",
    "    "
   ]
  },
  {
   "cell_type": "code",
   "execution_count": 1,
   "metadata": {},
   "outputs": [
    {
     "name": "stdout",
     "output_type": "stream",
     "text": [
      "你要的整数位数，以回车结束3\n",
      "请输入你要的整数，以回车结束456\n",
      "请从高到低输入位数上的数字6\n",
      "请从高到低输入位数上的数字5\n",
      "请从高到低输入位数上的数字4\n"
     ]
    },
    {
     "data": {
      "text/plain": [
       "4"
      ]
     },
     "execution_count": 1,
     "metadata": {},
     "output_type": "execute_result"
    }
   ],
   "source": [
    "def printfirst():\n",
    "    n=int(input('你要的整数位数，以回车结束'))                              #第三题#\n",
    "    z=int(input('请输入你要的整数，以回车结束'))\n",
    "    numbers=[]\n",
    "    i=0\n",
    "    while i<n:\n",
    "        num=int(input('请从高到低输入位数上的数字'))\n",
    "        numbers.append(num)\n",
    "        i+=1\n",
    "    for num in numbers:\n",
    "        while i<1:\n",
    "            print(num)\n",
    "    return num\n",
    "printfirst()"
   ]
  },
  {
   "cell_type": "code",
   "execution_count": 13,
   "metadata": {},
   "outputs": [
    {
     "name": "stdout",
     "output_type": "stream",
     "text": [
      "请依次输入队员身高，以回车结束183\n",
      "请依次输入队员身高，以回车结束185\n",
      "请依次输入队员身高，以回车结束183\n",
      "请依次输入队员身高，以回车结束187\n",
      "请依次输入队员身高，以回车结束178\n",
      "请依次输入队员身高，以回车结束175\n",
      "请依次输入队员身高，以回车结束177\n",
      "请依次输入队员身高，以回车结束190\n",
      "请依次输入队员身高，以回车结束172\n",
      "183\n",
      "185\n",
      "183\n",
      "187\n",
      "190\n",
      "平均 181.11111111111111\n"
     ]
    }
   ],
   "source": [
    "high=[]\n",
    "i=0\n",
    "total=0\n",
    "while i<9:\n",
    "    h=int(input('请依次输入队员身高，以回车结束'))\n",
    "    total=total+h                                                                            #第四题#\n",
    "    i+=1\n",
    "    high.append(h)\n",
    "for h in high:\n",
    "    if h>total/9:\n",
    "        print(h)\n",
    "print('平均',total/9,)"
   ]
  },
  {
   "cell_type": "code",
   "execution_count": 14,
   "metadata": {},
   "outputs": [
    {
     "name": "stdout",
     "output_type": "stream",
     "text": [
      "8 + 7 =\n",
      "请输入结果15\n",
      "9 + 4 =\n",
      "请输入结果13\n",
      "4 + 4 =\n",
      "请输入结果8\n",
      "8 + 4 =\n",
      "请输入结果12\n",
      "2 + 3 =\n",
      "请输入结果5\n",
      "100\n"
     ]
    }
   ],
   "source": [
    "import random\n",
    "n=0\n",
    "m=0\n",
    "while n<5:                                                               #第五题#\n",
    "    i=random.randint(0,10)\n",
    "    j=random.randint(0,10)\n",
    "    n+=1\n",
    "    print(i,'+',j,'=')\n",
    "    w=int(input('请输入结果'))\n",
    "    if w == i+j:\n",
    "        m=m+20\n",
    "    else:\n",
    "        m=m\n",
    "print(m)"
   ]
  },
  {
   "cell_type": "code",
   "execution_count": 11,
   "metadata": {},
   "outputs": [
    {
     "name": "stdout",
     "output_type": "stream",
     "text": [
      "[108, [3, -5, 9, 34, 88], -76]\n"
     ]
    }
   ],
   "source": [
    "numbers=[3,-5,9,108,34,-76,88]                                              #第六题#\n",
    "a=max(numbers)\n",
    "b=min(numbers)\n",
    "renumbers=[num for num in numbers if num !=a and num!=b]\n",
    "after=[a,renumbers,b]\n",
    "print(after)"
   ]
  },
  {
   "cell_type": "code",
   "execution_count": null,
   "metadata": {
    "collapsed": true
   },
   "outputs": [],
   "source": []
  }
 ],
 "metadata": {
  "kernelspec": {
   "display_name": "Python 3",
   "language": "python",
   "name": "python3"
  },
  "language_info": {
   "codemirror_mode": {
    "name": "ipython",
    "version": 3
   },
   "file_extension": ".py",
   "mimetype": "text/x-python",
   "name": "python",
   "nbconvert_exporter": "python",
   "pygments_lexer": "ipython3",
   "version": "3.6.2"
  }
 },
 "nbformat": 4,
 "nbformat_minor": 2
}
