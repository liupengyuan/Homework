{
 "cells": [
  {
   "cell_type": "code",
   "execution_count": null,
   "metadata": {
    "collapsed": true
   },
   "outputs": [],
   "source": [
    "1"
   ]
  },
  {
   "cell_type": "code",
   "execution_count": 26,
   "metadata": {
    "collapsed": false
   },
   "outputs": [
    {
     "name": "stdout",
     "output_type": "stream",
     "text": [
      "          * ***** *          \n",
      "        * * ***** * *        \n",
      "      * * * ***** * * *      \n",
      "    * * * * ***** * * * *    \n",
      "  * * * * * ***** * * * * *  \n"
     ]
    }
   ],
   "source": [
    "def func(chart,num):\n",
    "    for i in range(1,num+1):\n",
    "        a = ' *'\n",
    "        b = '* '\n",
    "        print(' '*2*(num-i),a*i,chart*num,b*i,' '*2*(num-i))\n",
    "    return\n",
    "\n",
    "chart = '*'\n",
    "num = 5\n",
    "func(chart,num)"
   ]
  },
  {
   "cell_type": "code",
   "execution_count": null,
   "metadata": {
    "collapsed": true
   },
   "outputs": [],
   "source": [
    "2"
   ]
  },
  {
   "cell_type": "code",
   "execution_count": 1,
   "metadata": {
    "collapsed": false
   },
   "outputs": [
    {
     "data": {
      "text/plain": [
       "125"
      ]
     },
     "execution_count": 1,
     "metadata": {},
     "output_type": "execute_result"
    }
   ],
   "source": [
    "def A(m,n):\n",
    "    if m == 0:\n",
    "        result = n + 1\n",
    "    elif m > 0 and n == 0 :\n",
    "        result = A(m-1,1)\n",
    "    elif m > 0 and n > 0 :\n",
    "        result = A(m-1,A(m,n-1))\n",
    "    return result        \n",
    "        \n",
    "A(3,4)"
   ]
  },
  {
   "cell_type": "code",
   "execution_count": null,
   "metadata": {
    "collapsed": true
   },
   "outputs": [],
   "source": [
    "3"
   ]
  },
  {
   "cell_type": "code",
   "execution_count": 3,
   "metadata": {
    "collapsed": false
   },
   "outputs": [
    {
     "name": "stdout",
     "output_type": "stream",
     "text": [
      "13 * 17\n",
      "12 * 21\n",
      "15 + 19\n",
      "7 + 9\n",
      "7 * 12\n",
      "15 * 4\n",
      "25 + 24\n",
      "24 * 11\n",
      "15 + 7\n",
      "24 + 18\n",
      "6 * 20\n",
      "8 + 21\n",
      "9 * 17\n",
      "10 * 15\n",
      "4 + 5\n",
      "1,2,3,4,5,6,7,8,9,10,1,2,3,4,5\n"
     ]
    },
    {
     "data": {
      "text/plain": [
       "0"
      ]
     },
     "execution_count": 3,
     "metadata": {},
     "output_type": "execute_result"
    }
   ],
   "source": [
    "import random \n",
    "\n",
    "def ques(n,a,b):\n",
    "    answ = []\n",
    "    if n > 0:\n",
    "        j = 0\n",
    "        while j < n:\n",
    "            x = random.randint(a,b)\n",
    "            y = random.randint(a,b)\n",
    "            m = random.randint(1,5)\n",
    "            if m == 1 and x+y > 0 and type(x+y) == int:\n",
    "                answ.append(x+y)\n",
    "                j += 1\n",
    "                print(x,'+',y)\n",
    "            elif m == 2 and x-y > 0 and type(x-y) == int:\n",
    "                answ.append(x-y)\n",
    "                j += 1\n",
    "                print(x,'-',y)\n",
    "            elif m == 3 and x*y > 0 and type(x*y) == int:\n",
    "                answ.append(x*y)\n",
    "                j += 1\n",
    "                print(x,'*',y)\n",
    "            elif m == 4 and x/y > 0 and type(x/y) == int:\n",
    "                answ.append(x/y)\n",
    "                j += 1\n",
    "                print(x,'/',y)\n",
    "    stud = input()\n",
    "    i = -1\n",
    "    scoal = 0\n",
    "    while i < n-1:\n",
    "        i += 1\n",
    "        if stud[i] == answ[i]:\n",
    "            scoal += 5\n",
    "    return  scoal\n",
    "\n",
    "n=15\n",
    "a=3\n",
    "b= 25\n",
    "ques(n,a,b)\n"
   ]
  },
  {
   "cell_type": "code",
   "execution_count": null,
   "metadata": {
    "collapsed": true
   },
   "outputs": [],
   "source": [
    "n = int(input())\n",
    "ques = input()\n",
    "com_scoal = 0\n",
    "com = "
   ]
  },
  {
   "cell_type": "code",
   "execution_count": null,
   "metadata": {
    "collapsed": true
   },
   "outputs": [],
   "source": [
    "4"
   ]
  },
  {
   "cell_type": "code",
   "execution_count": 16,
   "metadata": {
    "collapsed": false
   },
   "outputs": [],
   "source": [
    "with open (r'C:\\Users\\Administrator\\Downloads\\成语大全(含成语解释)_utf8.txt',encoding = 'utf-8') as f:\n",
    "    A = set()\n",
    "    for line in f:\n",
    "        A.add(line[:5])\n",
    "        "
   ]
  },
  {
   "cell_type": "code",
   "execution_count": null,
   "metadata": {
    "collapsed": false
   },
   "outputs": [],
   "source": [
    "from collections import Counter\n",
    "from operator import itemgetter\n",
    "\n",
    "with open(r'C:\\Users\\Administrator\\Downloads\\test_re_gbk.txt') as fh:\n",
    "    word_table = []\n",
    "    text = fh.read()\n",
    "    words = [word.split('/')[0] for word in text.split()]        #读取文件\n",
    "    for word in words:\n",
    "        if word not in word_table:\n",
    "            word_table.append(word)            #获得词表\n",
    "            \n",
    "    words_freq_dict = Counter()\n",
    "    for a in A:\n",
    "        if a in word_table:\n",
    "            words_freq_dict.update(a)               #统计相同词，词频\n",
    "    words_freq_dict.sort(key=itemgetter(1), reverse=False)\n",
    "    \n",
    "   "
   ]
  },
  {
   "cell_type": "code",
   "execution_count": null,
   "metadata": {
    "collapsed": true
   },
   "outputs": [],
   "source": [
    "(c)"
   ]
  },
  {
   "cell_type": "code",
   "execution_count": 2,
   "metadata": {
    "collapsed": false
   },
   "outputs": [
    {
     "name": "stdout",
     "output_type": "stream",
     "text": [
      "Counter({'n': 34352, 'u': 20069, 'j': 15591, 'r': 11713, 'v': 8410, 's': 8153, 'z': 3801, 'g': 3714, 'l': 3285, 't': 2783, 'e': 1616, 'a': 1310, 'd': 1292, 'q': 226, 'm': 220, 'f': 188, 'y': 7, 'i': 7, 'p': 1, 'b': 1, 'h': 1, 'o': 1, 'x': 1, 'k': 1, 'c': 1})\n"
     ]
    }
   ],
   "source": [
    "from collections import Counter\n",
    "\n",
    "with open(r'C:\\Users\\Administrator\\Downloads\\test_re_gbk.txt') as fh:\n",
    "    text = fh.read()\n",
    "    words = [word.split('/')[1] for word in text.split()]\n",
    "    words_freq_dict_1 = Counter()\n",
    "    for a in words:\n",
    "        if a not in words_freq_dict_1:\n",
    "            words_freq_dict_1.update(a)   \n",
    "    print(words_freq_dict_1)\n",
    "    "
   ]
  },
  {
   "cell_type": "code",
   "execution_count": null,
   "metadata": {
    "collapsed": true
   },
   "outputs": [],
   "source": [
    "(d)"
   ]
  },
  {
   "cell_type": "code",
   "execution_count": null,
   "metadata": {
    "collapsed": true
   },
   "outputs": [],
   "source": [
    "(f)"
   ]
  },
  {
   "cell_type": "code",
   "execution_count": null,
   "metadata": {
    "collapsed": true
   },
   "outputs": [],
   "source": [
    "word_0 = input()\n",
    "for a in A:\n",
    "    lists = []\n",
    "    if a[0] == word_0[-1]:\n",
    "        print(a)\n",
    "        "
   ]
  },
  {
   "cell_type": "code",
   "execution_count": null,
   "metadata": {
    "collapsed": true
   },
   "outputs": [],
   "source": []
  },
  {
   "cell_type": "code",
   "execution_count": null,
   "metadata": {
    "collapsed": true
   },
   "outputs": [],
   "source": []
  }
 ],
 "metadata": {
  "kernelspec": {
   "display_name": "Python 3",
   "language": "python",
   "name": "python3"
  },
  "language_info": {
   "codemirror_mode": {
    "name": "ipython",
    "version": 3
   },
   "file_extension": ".py",
   "mimetype": "text/x-python",
   "name": "python",
   "nbconvert_exporter": "python",
   "pygments_lexer": "ipython3",
   "version": "3.4.3"
  }
 },
 "nbformat": 4,
 "nbformat_minor": 0
}
