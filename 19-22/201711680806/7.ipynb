{
 "cells": [
  {
   "cell_type": "code",
   "execution_count": null,
   "metadata": {
    "collapsed": true
   },
   "outputs": [],
   "source": [
    "练习一：自己定义一个reverse(s)函数，功能返回字符串s的倒序字符串"
   ]
  },
  {
   "cell_type": "code",
   "execution_count": 3,
   "metadata": {},
   "outputs": [
    {
     "data": {
      "text/plain": [
       "(5, 4, 3, 2, 1)"
      ]
     },
     "execution_count": 3,
     "metadata": {},
     "output_type": "execute_result"
    }
   ],
   "source": [
    "def my_reverse(s):\n",
    "    i = len(s)\n",
    "    words = s[i::-1]\n",
    "    return words\n",
    "\n",
    "s = (1,2,3,4,5)\n",
    "my_reverse(s)\n",
    "\n"
   ]
  },
  {
   "cell_type": "code",
   "execution_count": null,
   "metadata": {
    "collapsed": true
   },
   "outputs": [],
   "source": [
    "练习二：写函数，根据给定符号和行数，打印相应直角三角形，等腰三角形及其他形式的三角形。"
   ]
  },
  {
   "cell_type": "code",
   "execution_count": 62,
   "metadata": {},
   "outputs": [
    {
     "name": "stdout",
     "output_type": "stream",
     "text": [
      "k\n",
      "kk\n",
      "kkk\n",
      "kkkk\n",
      "kkkkk\n",
      "----------\n",
      "    k\n",
      "   kk\n",
      "  kkk\n",
      " kkkk\n",
      "kkkkk\n",
      "----------\n",
      "     k\n",
      "    k k\n",
      "   k k k\n",
      "  k k k k\n",
      " k k k k k\n",
      "----------\n",
      " k\n",
      "  k k\n",
      "   k k k\n",
      "    k k k k\n",
      "     k k k k k\n",
      "----------\n",
      "     k\n",
      "    k k k\n",
      "   k k k k k\n",
      "  k k k k k k k\n",
      " k k k k k k k k k\n"
     ]
    }
   ],
   "source": [
    "def triangle_1(k,n):\n",
    "    for i in range(1,n+1):\n",
    "        print(k*i)\n",
    "        \n",
    "def triangle_2(k,n):\n",
    "    for i in range(1,n+1):\n",
    "        print(' '*(n-i) + k*i)\n",
    "\n",
    "def triangle_3(k,n):\n",
    "    for i in range(1,n+1):\n",
    "        print(' '*(n-i) + ' k'*i)\n",
    "        \n",
    "def triangle_4(k,n):\n",
    "    for i in range(1,n+1):\n",
    "        print(' '*(i-1) + ' k' * i )\n",
    "        \n",
    "def triangle_5(k,n):\n",
    "    for i in range(1,n+1):\n",
    "        print(' '*(n-i) + ' k'*(2*i-1))\n",
    "\n",
    "        \n",
    "triangle_1('k',5)\n",
    "print('-'*10)\n",
    "triangle_2('k',5)\n",
    "print('-'*10)\n",
    "triangle_3('k',5)\n",
    "print('-'*10)\n",
    "triangle_4('k',5)\n",
    "print('-'*10)\n",
    "triangle_5('k',5)"
   ]
  },
  {
   "cell_type": "code",
   "execution_count": null,
   "metadata": {
    "collapsed": true
   },
   "outputs": [],
   "source": [
    "练习五：写函数，根据给定符号，打印各种菱形。"
   ]
  },
  {
   "cell_type": "code",
   "execution_count": 80,
   "metadata": {},
   "outputs": [
    {
     "name": "stdout",
     "output_type": "stream",
     "text": [
      "     k\n",
      "    k k\n",
      "   k k k\n",
      "  k k k k\n",
      " k k k k k\n",
      "  k k k k\n",
      "   k k k\n",
      "    k k\n",
      "     k\n",
      "     \n",
      "------------------------------\n",
      "         k\n",
      "       k k k\n",
      "     k k k k k\n",
      "   k k k k k k k\n",
      " k k k k k k k k k\n",
      "   k k k k k k k\n",
      "     k k k k k\n",
      "       k k k\n",
      "         k\n",
      "          \n",
      "------------------------------\n",
      "             k\n",
      "          k k k k\n",
      "       k k k k k k k\n",
      "    k k k k k k k k k k\n",
      " k k k k k k k k k k k k k\n",
      "    k k k k k k k k k k\n",
      "       k k k k k k k\n",
      "          k k k k\n",
      "             k\n",
      "               \n"
     ]
    }
   ],
   "source": [
    "def diamond_1(k,n):\n",
    "    for i in range(1,n+1):\n",
    "        print(' '*(n-i) + ' k'*i)\n",
    "    for j in range(n+1,2*n+1):\n",
    "        print(' '*(j-n) + ' k'*(2*n-j))\n",
    "        \n",
    "def diamond_2(k,n):\n",
    "    for i in range(1,n+1):\n",
    "        print(' '*2*(n-i) + ' k'*(2*i-1))\n",
    "    for j in range(n+1,2*n+1):\n",
    "        print(' '*2*(j-n) + ' k'*((2*n-j)*2-1))\n",
    "        \n",
    "def diamond_3(k,n):\n",
    "    for i in range(1,n+1):\n",
    "        print(' '*3*(n-i) + ' k'*(3*i-2))\n",
    "    for j in range(n+1,2*n+1):\n",
    "        print(' '*3*(j-n) + ' k'*((2*n-j)*3-2))   \n",
    "        \n",
    "diamond_1('k',5)\n",
    "print('-'*30)\n",
    "diamond_2('k',5)\n",
    "print('-'*30)\n",
    "diamond_3('k',5)"
   ]
  },
  {
   "cell_type": "code",
   "execution_count": null,
   "metadata": {
    "collapsed": true
   },
   "outputs": [],
   "source": []
  }
 ],
 "metadata": {
  "kernelspec": {
   "display_name": "Python 3",
   "language": "python",
   "name": "python3"
  },
  "language_info": {
   "codemirror_mode": {
    "name": "ipython",
    "version": 3
   },
   "file_extension": ".py",
   "mimetype": "text/x-python",
   "name": "python",
   "nbconvert_exporter": "python",
   "pygments_lexer": "ipython3",
   "version": "3.6.2"
  }
 },
 "nbformat": 4,
 "nbformat_minor": 2
}
