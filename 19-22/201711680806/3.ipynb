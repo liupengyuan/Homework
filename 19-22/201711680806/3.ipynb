{
 "cells": [
  {
   "cell_type": "code",
   "execution_count": null,
   "metadata": {
    "collapsed": true
   },
   "outputs": [],
   "source": [
    "练习 1：写程序，可由键盘读入用户姓名例如Mr. right，让用户输入出生的月份与日期，判断用户星座"
   ]
  },
  {
   "cell_type": "code",
   "execution_count": 2,
   "metadata": {},
   "outputs": [
    {
     "name": "stdout",
     "output_type": "stream",
     "text": [
      "请输入您的名字，以回车结束。嗯嗯\n",
      "请输入您的生日，例如，一月10号生日请输入1.10，以回车结束。12.17\n",
      "嗯嗯 您是非常有性格的射手座！\n"
     ]
    }
   ],
   "source": [
    "a=input('请输入您的名字，以回车结束。')\n",
    "b=float(input('请输入您的生日，例如，一月10号生日请输入1.10，以回车结束。'))\n",
    "\n",
    "if 3.20<b<=4.20:\n",
    "        print(a,'您是非常有性格的白羊座！')\n",
    "elif 4.20<b<=5.20:\n",
    "        print(a,'您是非常有性格的金牛座！')\n",
    "elif 5.20<b<=6.20:\n",
    "        print(a,'您是非常有性格的双子座')\n",
    "elif 6.20<b<=7.20:\n",
    "        print(a,'您是非常有性格的巨蟹座！')\n",
    "elif 7.20<b<=8.20:\n",
    "        print(a,'您是非常有性格的狮子座！')\n",
    "elif 8.20<b<=9.20:\n",
    "        print(a,'您是非常有性格的处女座！')\n",
    "elif 9.20<b<=10.20:\n",
    "        print(a,'您是非常有性格的天秤座！')\n",
    "elif 10.20<b<=11.20:\n",
    "        print(a,'您是非常有性格的天蝎座！')\n",
    "elif 11.20<b<=12.20:\n",
    "        print(a,'您是非常有性格的射手座！')\n",
    "elif 12.20<b<=12.31 or 1.01<=b<=1.20:\n",
    "        print(a,'您是非常有性格的摩羯座！')\n",
    "elif 1.20<b<=2.20:\n",
    "        print(a,'您是非常有性格的水瓶座！')\n",
    "elif 2.20<b<=3.20:\n",
    "        print(a,'您是非常有性格的双鱼座！')"
   ]
  },
  {
   "cell_type": "code",
   "execution_count": null,
   "metadata": {
    "collapsed": true
   },
   "outputs": [],
   "source": [
    "练习 2：写程序，可由键盘读入两个整数m与n(n不等于0)，询问用户意图，如果要求和则计算从m到n的和输出，如果要乘积则计算从m到n的积并输出，如果要求余数则计算m除以n的余数的值并输出，否则则计算m整除n的值并输出。"
   ]
  },
  {
   "cell_type": "code",
   "execution_count": 4,
   "metadata": {},
   "outputs": [
    {
     "name": "stdout",
     "output_type": "stream",
     "text": [
      "请输入一个整数，以回车结束。45\n",
      "请输入一个非零整数，以回车结束。54\n",
      "如果要求m到n的和,请输入1，以回车结束。\n",
      "如果要求m到n的乘积,请输入2，以回车结束。\n",
      "如果要求m除以n的余数，请输入3，以回车结束。\n",
      "如果要求m整除n,请输入除1，2，3，以外的数字，以回车结束。\n",
      "1\n",
      "99\n"
     ]
    }
   ],
   "source": [
    "m=int(input('请输入一个整数，以回车结束。'))\n",
    "n=int(input('请输入一个非零整数，以回车结束。'))\n",
    "\n",
    "print('如果要求m到n的和,请输入1，以回车结束。')\n",
    "print('如果要求m到n的乘积,请输入2，以回车结束。')\n",
    "print('如果要求m除以n的余数，请输入3，以回车结束。')\n",
    "print('如果要求m整除n,请输入除1，2，3，以外的数字，以回车结束。')\n",
    "\n",
    "x=int(input(''))\n",
    "if x==1:\n",
    "    print(m+n)\n",
    "elif x==2:\n",
    "    print(m*n)\n",
    "elif x==3:\n",
    "    print(m%n)\n",
    "elif x==4:\n",
    "    print(m/n)"
   ]
  },
  {
   "cell_type": "code",
   "execution_count": null,
   "metadata": {
    "collapsed": true
   },
   "outputs": [],
   "source": [
    "练习 3：写程序，能够根据北京雾霾PM2.5数值给出对应的防护建议。如当PM2.5数值大于500，则应该打开空气净化器，戴防雾霾口罩等。"
   ]
  },
  {
   "cell_type": "code",
   "execution_count": 1,
   "metadata": {},
   "outputs": [
    {
     "name": "stdout",
     "output_type": "stream",
     "text": [
      "请输入PM2.5的数值，以回车结束。600\n",
      "建议打开空气净化器，戴防雾霾口罩等。\n"
     ]
    }
   ],
   "source": [
    "x=int(input('请输入PM2.5的数值，以回车结束。'))\n",
    "\n",
    "if x>500:\n",
    "    print('建议打开空气净化器，戴防雾霾口罩等。')\n",
    "elif x<=500:\n",
    "    print('没有建议。')"
   ]
  },
  {
   "cell_type": "code",
   "execution_count": null,
   "metadata": {
    "collapsed": true
   },
   "outputs": [],
   "source": [
    "练习 4：英文单词单数转复数，要求输入一个英文动词（单数形式），能够得到其复数形式，或给出单数转复数形式的建议"
   ]
  },
  {
   "cell_type": "code",
   "execution_count": 4,
   "metadata": {},
   "outputs": [
    {
     "name": "stdout",
     "output_type": "stream",
     "text": [
      "请输入一个英文单词，以回车结束。word\n",
      "word s\n"
     ]
    }
   ],
   "source": [
    "x=input('请输入一个英文单词，以回车结束。')\n",
    "if x.endswith('s'or'x'or'ch'or'sh'):\n",
    "    print(x,'es')\n",
    "else :\n",
    "    print(x,'s')"
   ]
  },
  {
   "cell_type": "code",
   "execution_count": null,
   "metadata": {
    "collapsed": true
   },
   "outputs": [],
   "source": []
  }
 ],
 "metadata": {
  "kernelspec": {
   "display_name": "Python 3",
   "language": "python",
   "name": "python3"
  },
  "language_info": {
   "codemirror_mode": {
    "name": "ipython",
    "version": 3
   },
   "file_extension": ".py",
   "mimetype": "text/x-python",
   "name": "python",
   "nbconvert_exporter": "python",
   "pygments_lexer": "ipython3",
   "version": "3.6.2"
  }
 },
 "nbformat": 4,
 "nbformat_minor": 2
}
