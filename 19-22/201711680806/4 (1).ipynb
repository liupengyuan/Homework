{
 "cells": [
  {
   "cell_type": "code",
   "execution_count": null,
   "metadata": {
    "collapsed": true
   },
   "outputs": [],
   "source": [
    "练习 1：仿照求的完整代码，写程序，可求m!+n!+k!"
   ]
  },
  {
   "cell_type": "code",
   "execution_count": 1,
   "metadata": {},
   "outputs": [
    {
     "name": "stdout",
     "output_type": "stream",
     "text": [
      "请输入第一个整数，以回车结束。10\n",
      "请输入第二个整数，以回车结束。5\n",
      "请输入第三个整数，以回车结束。3\n",
      "m!+n!+k!的值是： 3628926\n"
     ]
    }
   ],
   "source": [
    "def mul(end):\n",
    "    i=1\n",
    "    mul=1\n",
    "    \n",
    "    while i<end:\n",
    "        i+=1\n",
    "        mul=mul*i\n",
    "        \n",
    "    return mul\n",
    "\n",
    "m=int(input('请输入第一个整数，以回车结束。'))\n",
    "n=int(input('请输入第二个整数，以回车结束。'))\n",
    "k=int(input('请输入第三个整数，以回车结束。'))\n",
    "\n",
    "print('m!+n!+k!的值是：',mul(m)+mul(n)+mul(k))"
   ]
  },
  {
   "cell_type": "code",
   "execution_count": null,
   "metadata": {
    "collapsed": true
   },
   "outputs": [],
   "source": [
    "练习 2：写函数可返回1 - 1/3 + 1/5 - 1/7...的前n项的和。在主程序中，分别令n=1000及100000，打印4倍该函数的和。"
   ]
  },
  {
   "cell_type": "code",
   "execution_count": 2,
   "metadata": {},
   "outputs": [
    {
     "name": "stdout",
     "output_type": "stream",
     "text": [
      "3.140592653839794 3.1415826535897198\n"
     ]
    }
   ],
   "source": [
    "def computer_b(n):\n",
    "    i=1\n",
    "    m=1\n",
    "    total=1\n",
    "    while i<n:\n",
    "        i+=1\n",
    "        m+=2\n",
    "        total=total+1/(m*(-1)**(i+1))\n",
    "    return total\n",
    "\n",
    "print(4*computer_b(1000),4*computer_b(100000))"
   ]
  },
  {
   "cell_type": "code",
   "execution_count": null,
   "metadata": {
    "collapsed": true
   },
   "outputs": [],
   "source": [
    "练习 3：将task3中的练习1及练习4改写为函数，并进行调用。"
   ]
  },
  {
   "cell_type": "code",
   "execution_count": 3,
   "metadata": {},
   "outputs": [
    {
     "name": "stdout",
     "output_type": "stream",
     "text": [
      "请输入您的姓名，以回车结束。嗯\n",
      "请输入您的出生月份，以回车结束。12\n",
      "请输入您的出生日期，以回车结束。17\n"
     ]
    },
    {
     "data": {
      "text/plain": [
       "('嗯', '您是射手座。')"
      ]
     },
     "execution_count": 3,
     "metadata": {},
     "output_type": "execute_result"
    }
   ],
   "source": [
    "def computer_d(m,n):\n",
    "    \n",
    "    if (m==3 and 21<=n<=31) or (m==4 and 1<=n<=20):\n",
    "        return a,'您是白羊座。'\n",
    "    elif (m==4 and 21<=n<=30) or (m==5 and 1<=n<=20):\n",
    "        return a,'您是金牛座。'\n",
    "    elif (m==5 and 21<=n<=31) or (m==6 and 1<=n<=20):\n",
    "        return a,'您是金牛座。'\n",
    "    elif (m==6 and 21<=n<=30) or (m==7 and 1<=n<=20):\n",
    "        return a,'您是巨蟹座。'\n",
    "    elif (m==7 and 21<=n<=31) or (m==8 and 1<=n<=20):\n",
    "        return a,'您是狮子座。'\n",
    "    elif (m==8 and 21<=n<=31) or (m==9 and 1<=n<=20):\n",
    "        return a,'您是处女座。'\n",
    "    elif (m==9 and 21<=n<=30) or (m==10 and 1<=n<=20):\n",
    "        return a,'您是天秤座。'\n",
    "    elif (m==10 and 21<=n<=31) or (m==11 and 1<=n<=20):\n",
    "        return a,'您是天蝎座。'\n",
    "    elif (m==11 and 21<=n<=30) or (m==12 and 1<=n<=20):\n",
    "        return a,'您是射手座。'\n",
    "    elif (m==12 and 21<=n<=31) or (m==1 and 1<=n<=20):\n",
    "        return a,'您是摩羯座。'\n",
    "    elif (m==1 and 21<=n<=31) or (m==2 and 1<=n<=20):\n",
    "        return a,'您是水瓶座。'\n",
    "    else :\n",
    "        return a,'您输入非法。'\n",
    "\n",
    "        \n",
    "a=str(input('请输入您的姓名，以回车结束。'))\n",
    "m=int(input('请输入您的出生月份，以回车结束。'))\n",
    "n=int(input('请输入您的出生日期，以回车结束。'))\n",
    "\n",
    "computer_d(m,n)"
   ]
  },
  {
   "cell_type": "code",
   "execution_count": null,
   "metadata": {
    "collapsed": true
   },
   "outputs": [],
   "source": [
    "task3 练习4"
   ]
  },
  {
   "cell_type": "code",
   "execution_count": 6,
   "metadata": {},
   "outputs": [
    {
     "name": "stdout",
     "output_type": "stream",
     "text": [
      "请输入一个单词，以回车结束。ox\n",
      "该单词的复数形式是在该单词后面加es\n"
     ]
    }
   ],
   "source": [
    "def computer_e(word):\n",
    "    if word.endswith ('ch'):\n",
    "        print('该单词的复数形式是在该单词后面加es')\n",
    "    if word.endswith ('sh'):\n",
    "        print('该单词的复数形式是在该单词后面加es')\n",
    "    if word.endswith ('x'):\n",
    "        print('该单词的复数形式是在该单词后面加es')\n",
    "    else:\n",
    "        print('该单词的复数形式是在该单词后面加s')\n",
    "        \n",
    "word=input('请输入一个单词，以回车结束。')\n",
    "computer_e(word)"
   ]
  },
  {
   "cell_type": "code",
   "execution_count": null,
   "metadata": {
    "collapsed": true
   },
   "outputs": [],
   "source": [
    "挑战性练习：写程序，可以求从整数m到整数n累加的和，间隔为k，求和部分需用函数实现，主程序中由用户输入m，n，k调用函数验证正确性。"
   ]
  },
  {
   "cell_type": "code",
   "execution_count": 7,
   "metadata": {},
   "outputs": [
    {
     "name": "stdout",
     "output_type": "stream",
     "text": [
      "请输入一个整数，以回车结束。10\n",
      "请输入一个整数，以回车结束。50\n",
      "请输入一个整数，以回车结束。10\n"
     ]
    },
    {
     "data": {
      "text/plain": [
       "150"
      ]
     },
     "execution_count": 7,
     "metadata": {},
     "output_type": "execute_result"
    }
   ],
   "source": [
    "def computer_f(m,n,k):\n",
    "    total=0\n",
    "    if m<n:\n",
    "        while m<=n:\n",
    "            total=total+m\n",
    "            m+=k\n",
    "        return total\n",
    "    elif n<m:\n",
    "        while n<=m:\n",
    "            total=total+n\n",
    "            n+=k\n",
    "        return total\n",
    "m=int(input('请输入一个整数，以回车结束。'))\n",
    "n=int(input('请输入一个整数，以回车结束。'))\n",
    "k=int(input('请输入一个整数，以回车结束。'))\n",
    "\n",
    "computer_f(m,n,k)"
   ]
  },
  {
   "cell_type": "code",
   "execution_count": null,
   "metadata": {
    "collapsed": true
   },
   "outputs": [],
   "source": []
  }
 ],
 "metadata": {
  "kernelspec": {
   "display_name": "Python 3",
   "language": "python",
   "name": "python3"
  },
  "language_info": {
   "codemirror_mode": {
    "name": "ipython",
    "version": 3
   },
   "file_extension": ".py",
   "mimetype": "text/x-python",
   "name": "python",
   "nbconvert_exporter": "python",
   "pygments_lexer": "ipython3",
   "version": "3.6.2"
  }
 },
 "nbformat": 4,
 "nbformat_minor": 2
}
