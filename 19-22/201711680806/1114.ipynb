{
 "cells": [
  {
   "cell_type": "code",
   "execution_count": null,
   "metadata": {
    "collapsed": true
   },
   "outputs": [],
   "source": [
    "写函数，返回一个list中的最大值，最小值，平均值。（不用内置的求和求函数）"
   ]
  },
  {
   "cell_type": "code",
   "execution_count": 20,
   "metadata": {
    "collapsed": false
   },
   "outputs": [
    {
     "name": "stdout",
     "output_type": "stream",
     "text": [
      "(899, -10, 106.72999999999999)\n"
     ]
    }
   ],
   "source": [
    "\n",
    "def ex1114(numbers):\n",
    "   \n",
    "    m = numbers[0]\n",
    "    n = numbers[0]\n",
    "    total = 0\n",
    "    a = len(numbers)\n",
    "   \n",
    "    for number in numbers:\n",
    "        if m < number:\n",
    "            m = number\n",
    "\n",
    "        if n > number:\n",
    "            n = number\n",
    "        total += number\n",
    "    return m,n,total/a\n",
    "\n",
    "numbers = [1,2,-1,55,100,899,-10,3,12.5,5.8]\n",
    "print(ex1114(numbers))\n"
   ]
  },
  {
   "cell_type": "code",
   "execution_count": null,
   "metadata": {
    "collapsed": true
   },
   "outputs": [],
   "source": []
  },
  {
   "cell_type": "code",
   "execution_count": null,
   "metadata": {
    "collapsed": true
   },
   "outputs": [],
   "source": []
  }
 ],
 "metadata": {
  "kernelspec": {
   "display_name": "Python 3",
   "language": "python",
   "name": "python3"
  },
  "language_info": {
   "codemirror_mode": {
    "name": "ipython",
    "version": 3
   },
   "file_extension": ".py",
   "mimetype": "text/x-python",
   "name": "python",
   "nbconvert_exporter": "python",
   "pygments_lexer": "ipython3",
   "version": "3.6.0"
  }
 },
 "nbformat": 4,
 "nbformat_minor": 2
}
