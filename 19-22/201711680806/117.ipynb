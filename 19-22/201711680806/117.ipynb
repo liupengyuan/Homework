{
 "cells": [
  {
   "cell_type": "code",
   "execution_count": null,
   "metadata": {
    "collapsed": true
   },
   "outputs": [],
   "source": [
    "输入m,n,k,得到m个从n到k的随机整数，求这m个数的和的平方根\n",
    "m.n,k用5，10，500验证"
   ]
  },
  {
   "cell_type": "code",
   "execution_count": 12,
   "metadata": {
    "collapsed": false
   },
   "outputs": [
    {
     "name": "stdout",
     "output_type": "stream",
     "text": [
      "5\n",
      "10\n",
      "500\n",
      "4.47213595499958\n"
     ]
    }
   ],
   "source": [
    "import random\n",
    "\n",
    "def test():\n",
    "    number = random.randint (n,k)\n",
    "    return (number)\n",
    "a = test()\n",
    "\n",
    "m = int(input())\n",
    "n = int(input())\n",
    "k = int(input())\n",
    "\n",
    "i=1\n",
    "total=0\n",
    "while i < m:\n",
    "    i+=1\n",
    "    total = total+a\n",
    "    \n",
    "print(total**(1/2))\n",
    "    "
   ]
  },
  {
   "cell_type": "code",
   "execution_count": null,
   "metadata": {
    "collapsed": true
   },
   "outputs": [],
   "source": []
  }
 ],
 "metadata": {
  "kernelspec": {
   "display_name": "Python 3",
   "language": "python",
   "name": "python3"
  },
  "language_info": {
   "codemirror_mode": {
    "name": "ipython",
    "version": 3
   },
   "file_extension": ".py",
   "mimetype": "text/x-python",
   "name": "python",
   "nbconvert_exporter": "python",
   "pygments_lexer": "ipython3",
   "version": "3.6.0"
  }
 },
 "nbformat": 4,
 "nbformat_minor": 2
}
