{
 "cells": [
  {
   "cell_type": "code",
   "execution_count": 6,
   "metadata": {},
   "outputs": [
    {
     "name": "stdout",
     "output_type": "stream",
     "text": [
      "鳞次栉比\n",
      "比比皆是\n",
      "继续输入1，不继续输入00\n",
      "再见\n"
     ]
    }
   ],
   "source": [
    "import random\n",
    "\n",
    "\n",
    "def back():\n",
    "    if answer.startswith(a[-1]):\n",
    "        for i in idioms:\n",
    "            if i[0]==answer[-1]:\n",
    "                an_idiom = []\n",
    "                an_idiom.append(i)\n",
    "            print(random.choice(an_idiom))\n",
    "            print('great')\n",
    "            print('继续吗')\n",
    "    else: \n",
    "        print('done')\n",
    "        \n",
    "        \n",
    "        \n",
    "idiom = open(r'c:\\temp\\成语大全.txt')\n",
    "idioms = idiom.read().split()\n",
    "idiom.close()\n",
    "a = random.choice(idioms)\n",
    "print(a)\n",
    "answer = str(input())\n",
    "\n",
    "\n",
    "        \n",
    "        \n",
    "cho = int(input('继续输入1，不继续输入0'))\n",
    "if cho == 1:\n",
    "    a = random.choice(idioms)\n",
    "    print(a)\n",
    "    answer = str(input())\n",
    "    back()\n",
    "else:\n",
    "    print('再见')\n",
    "            "
   ]
  },
  {
   "cell_type": "code",
   "execution_count": null,
   "metadata": {
    "collapsed": true
   },
   "outputs": [],
   "source": []
  }
 ],
 "metadata": {
  "kernelspec": {
   "display_name": "Python 3",
   "language": "python",
   "name": "python3"
  }
 },
 "nbformat": 4,
 "nbformat_minor": 2
}
