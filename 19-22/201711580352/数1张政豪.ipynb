{
 "cells": [
  {
   "cell_type": "code",
   "execution_count": 3,
   "metadata": {},
   "outputs": [
    {
     "name": "stdout",
     "output_type": "stream",
     "text": [
      "106.72999999999999\n",
      "899 -10\n"
     ]
    }
   ],
   "source": [
    "#课堂作业\n",
    "numbers=[1,2,-1,55,100,899,-10,3,12.5,5.8]\n",
    "def my_fx():\n",
    "    \n",
    "    total=0\n",
    "    i=0\n",
    "    suoqiu=0\n",
    "    while i<10:\n",
    "        total=numbers[i]+total\n",
    "        i=i+1\n",
    "    suoqiu=total/10\n",
    "    print(suoqiu)\n",
    "    \n",
    "\n",
    "    \n",
    "    for A in numbers:\n",
    "        max=A\n",
    "        min=A\n",
    "        for B in numbers:\n",
    "            if B>max:\n",
    "                    max=B\n",
    "            if B<min:\n",
    "                    min=B\n",
    "    print(max,min)\n",
    "    \n",
    "\n",
    "my_fx()  "
   ]
  },
  {
   "cell_type": "code",
   "execution_count": null,
   "metadata": {
    "collapsed": true
   },
   "outputs": [],
   "source": []
  }
 ],
 "metadata": {
  "kernelspec": {
   "display_name": "Python 3",
   "language": "python",
   "name": "python3"
  },
  "language_info": {
   "codemirror_mode": {
    "name": "ipython",
    "version": 3
   },
   "file_extension": ".py",
   "mimetype": "text/x-python",
   "name": "python",
   "nbconvert_exporter": "python",
   "pygments_lexer": "ipython3",
   "version": "3.6.2"
  }
 },
 "nbformat": 4,
 "nbformat_minor": 2
}
