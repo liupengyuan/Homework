{
 "cells": [
  {
   "cell_type": "code",
   "execution_count": 1,
   "metadata": {},
   "outputs": [
    {
     "name": "stdout",
     "output_type": "stream",
     "text": [
      "6,9,9,8,5,2,1\n"
     ]
    }
   ],
   "source": [
    "#练习一：自己定义一个reverse(s)函数，功能返回字符串s的倒序字符串\n",
    "\n",
    "def invert_string(s):\n",
    "    a =s[len(s)::-1] \n",
    "    print(a)\n",
    "        \n",
    "\n",
    "s = '1,2,5,8,9,9,6'       \n",
    "invert_string(s)"
   ]
  },
  {
   "cell_type": "code",
   "execution_count": 9,
   "metadata": {},
   "outputs": [
    {
     "name": "stdout",
     "output_type": "stream",
     "text": [
      "*\n",
      "hight10\n",
      "           \n",
      "          *\n",
      "         ***\n",
      "        *****\n",
      "       *******\n",
      "      *********\n",
      "     ***********\n",
      "    *************\n",
      "   ***************\n",
      "  *****************\n",
      " *******************\n",
      "*********************\n",
      " *******************\n",
      "  *****************\n",
      "   ***************\n",
      "    *************\n",
      "     ***********\n",
      "      *********\n",
      "       *******\n",
      "        *****\n",
      "         ***\n",
      "          *\n"
     ]
    }
   ],
   "source": [
    "#练习五：写函数，根据给定符号，打印各种菱形。\n",
    "def rheboth():\n",
    "    n = str(input(shape))\n",
    "    j = int(input('hight'))\n",
    "    for i in range(0,j+1):\n",
    "        print(' '*(j+1-i)+n*i+n*(i-1),end='')\n",
    "        print()\n",
    "    for i in range(0,j+1):   \n",
    "        print(' '*i+n*(j+1-i)+n*(j-i),end='')\n",
    "        print()\n",
    "        \n",
    "rheboth()\n",
    "    "
   ]
  },
  {
   "cell_type": "code",
   "execution_count": null,
   "metadata": {},
   "outputs": [],
   "source": [
    "#练习五：写函数，根据给定符号，打印各种菱形。\n",
    "def rhombus(s,l):\n",
    "    for i in range(1,l+1):\n",
    "        print(' '*(l-i)+s*(2*i-1))\n",
    "    a = 0\n",
    "    b = l-1\n",
    "    while a < l :\n",
    "        print(' '*(a+1)+s*(2*b-1))\n",
    "        a += 1\n",
    "        b -= 1\n",
    "       \n",
    "    \n",
    "s = input('请输入您想打印的符号')\n",
    "l = int(input('请输入您想打印的菱形的边长'))\n",
    "rhombus(s,l)"
   ]
  },
  {
   "cell_type": "code",
   "execution_count": null,
   "metadata": {
    "collapsed": true
   },
   "outputs": [],
   "source": []
  },
  {
   "cell_type": "code",
   "execution_count": null,
   "metadata": {
    "collapsed": true
   },
   "outputs": [],
   "source": []
  }
 ],
 "metadata": {
  "kernelspec": {
   "display_name": "Python 3",
   "language": "python",
   "name": "python3"
  },
  "language_info": {
   "codemirror_mode": {
    "name": "ipython",
    "version": 3
   },
   "file_extension": ".py",
   "mimetype": "text/x-python",
   "name": "python",
   "nbconvert_exporter": "python",
   "pygments_lexer": "ipython3",
   "version": "3.6.2"
  }
 },
 "nbformat": 4,
 "nbformat_minor": 2
}
