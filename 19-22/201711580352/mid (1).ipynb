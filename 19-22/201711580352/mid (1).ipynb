{
 "cells": [
  {
   "cell_type": "code",
   "execution_count": 10,
   "metadata": {
    "collapsed": false
   },
   "outputs": [
    {
     "name": "stdout",
     "output_type": "stream",
     "text": [
      "3\n",
      "10\n"
     ]
    }
   ],
   "source": [
    "def a_sum(m):\n",
    "    i = 1\n",
    "    n=1\n",
    "    total = 0\n",
    "    while i<m:\n",
    "        n = i+1\n",
    "        i = i+n\n",
    "        total = i+total\n",
    "        print(total)\n",
    "a_sum(5)"
   ]
  },
  {
   "cell_type": "code",
   "execution_count": 15,
   "metadata": {
    "collapsed": false
   },
   "outputs": [
    {
     "name": "stdout",
     "output_type": "stream",
     "text": [
      "*\n",
      "***\n",
      "*****\n",
      "*******\n",
      "*********\n"
     ]
    }
   ],
   "source": [
    "def shape(n):\n",
    "    i = 1\n",
    "    m=1\n",
    "    while i<=n:\n",
    "        print('*'*m)\n",
    "        i = i+1\n",
    "        m=m+2\n",
    "\n",
    "        \n",
    "shape(5)"
   ]
  },
  {
   "cell_type": "code",
   "execution_count": 13,
   "metadata": {
    "collapsed": false
   },
   "outputs": [
    {
     "name": "stdout",
     "output_type": "stream",
     "text": [
      "请输入一个整数46465465\n",
      "[46465465]\n"
     ]
    }
   ],
   "source": [
    "def ret():\n",
    "    \n",
    "    n=int(input('请输入一个整数'))\n",
    "    m = [n]\n",
    "    m.sort()\n",
    "    ans = m[0]\n",
    "    print(m)\n",
    "    \n",
    "ret()"
   ]
  },
  {
   "cell_type": "code",
   "execution_count": 32,
   "metadata": {
    "collapsed": false
   },
   "outputs": [
    {
     "name": "stdout",
     "output_type": "stream",
     "text": [
      "181.11111111111111\n",
      "[183, 185, 183, 187, 190]\n"
     ]
    }
   ],
   "source": [
    "high =[183,185,183,187,178,175,177,190,172]\n",
    "m = len(high)\n",
    "sum_all= sum(high)\n",
    "a = sum_all/m\n",
    "\n",
    "print(a)\n",
    "\n",
    "e=[]\n",
    "for i in high:\n",
    "    if i >a:\n",
    "        e.append(i)\n",
    "print(e)"
   ]
  },
  {
   "cell_type": "code",
   "execution_count": 1,
   "metadata": {
    "collapsed": false
   },
   "outputs": [
    {
     "name": "stdout",
     "output_type": "stream",
     "text": [
      "7 7\n",
      "请计算a和b的和14\n",
      "yes\n",
      "9 1\n",
      "请计算a和b的和45\n",
      "答错了\n",
      "分数是 20\n",
      "10 7\n",
      "请计算a和b的和17\n",
      "yes\n",
      "11 5\n",
      "请计算a和b的和54\n",
      "答错了\n",
      "分数是 40\n",
      "11 9\n",
      "请计算a和b的和15\n",
      "答错了\n",
      "分数是 40\n",
      "40\n"
     ]
    }
   ],
   "source": [
    "import random,math\n",
    "\n",
    "\n",
    "\n",
    "\n",
    "a = random.randint(1,10)\n",
    "b = random.randint(1,10)\n",
    "i= 0\n",
    "tru_ans =a+b\n",
    "goals = 0\n",
    "\n",
    "\n",
    "\n",
    "while i <5:\n",
    "\n",
    "    a = random.randint(1,11)\n",
    "    b = random.randint(1,11)\n",
    "    i = i+1\n",
    "\n",
    "    tru_ans =a+b\n",
    "    print(a,b)\n",
    "    ans = int(input('请计算a和b的和'))\n",
    "    \n",
    "    if ans!= tru_ans:\n",
    "        print('答错了')\n",
    "        print('分数是',goals)\n",
    "    else :\n",
    "        print('yes')\n",
    "        goals = goals+20\n",
    "print(goals)\n",
    "        \n",
    "        "
   ]
  },
  {
   "cell_type": "code",
   "execution_count": 39,
   "metadata": {
    "collapsed": false
   },
   "outputs": [
    {
     "name": "stdout",
     "output_type": "stream",
     "text": [
      "[108, -5, 108, 34, 76, -5]\n"
     ]
    }
   ],
   "source": [
    "a =[3,-5,108,34,76,88]\n",
    "max_num = 0\n",
    "min_num = 0\n",
    "for i in a:\n",
    "    if i>max_num:\n",
    "        max_num = i\n",
    "    elif i<min_num:\n",
    "        min_num= i\n",
    "\n",
    "a[0]= max_num\n",
    "a[-1]=min_num\n",
    "\n",
    "print(a)"
   ]
  },
  {
   "cell_type": "code",
   "execution_count": null,
   "metadata": {
    "collapsed": true
   },
   "outputs": [],
   "source": []
  }
 ],
 "metadata": {
  "kernelspec": {
   "display_name": "Python 3",
   "language": "python",
   "name": "python3"
  },
  "language_info": {
   "codemirror_mode": {
    "name": "ipython",
    "version": 3
   },
   "file_extension": ".py",
   "mimetype": "text/x-python",
   "name": "python",
   "nbconvert_exporter": "python",
   "pygments_lexer": "ipython3",
   "version": "3.6.0"
  }
 },
 "nbformat": 4,
 "nbformat_minor": 2
}
