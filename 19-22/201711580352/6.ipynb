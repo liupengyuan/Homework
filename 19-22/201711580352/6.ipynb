{
 "cells": [
  {
   "cell_type": "code",
   "execution_count": 72,
   "metadata": {},
   "outputs": [
    {
     "name": "stdout",
     "output_type": "stream",
     "text": [
      "输入一个数字50\n",
      "-1\n"
     ]
    }
   ],
   "source": [
    "#写函数，返回某个元素/对象在一个list中的位置，如果不在，则返回-1.\n",
    "def a():\n",
    "    number = [1,2,-1,55,100,899,-10,3,12.5,5.8]\n",
    "    n = int(input('输入一个数字'))\n",
    "    \n",
    "    if n in number:\n",
    "        i= number.index(n)\n",
    "        print(i)\n",
    "    else:\n",
    "        print(-1)\n",
    "    \n",
    "a()\n",
    "        \n",
    "    "
   ]
  },
  {
   "cell_type": "code",
   "execution_count": 3,
   "metadata": {},
   "outputs": [
    {
     "name": "stdout",
     "output_type": "stream",
     "text": [
      "一个数1\n",
      "一个数1\n",
      "一个数1\n",
      "一个数1\n",
      "0.9999999999999998\n"
     ]
    }
   ],
   "source": [
    "#写函数，可求两个向量的夹角余弦值，向量可放在list中。主程序调用该函数\n",
    "\n",
    "a=int(input('一个数'))\n",
    "b=int(input('一个数'))\n",
    "c=int(input('一个数'))\n",
    "d=int(input('一个数'))\n",
    "\n",
    "one=[a,b]\n",
    "two=[c,d]\n",
    "\n",
    "def aaa():\n",
    "    \n",
    "    lenth1=(a**2+b**2)**(1/2)\n",
    "    lenth2=(c**2+d**2)**(1/2)\n",
    "    m=a*c+b*d\n",
    "    g=lenth1*lenth2\n",
    "    cos = m/g\n",
    "    \n",
    "    print(cos)\n",
    "    \n",
    "aaa()\n",
    "    \n",
    "\n",
    "    \n"
   ]
  },
  {
   "cell_type": "code",
   "execution_count": 4,
   "metadata": {},
   "outputs": [
    {
     "name": "stdout",
     "output_type": "stream",
     "text": [
      "[1, 2, 2, 4, 4, 6]\n"
     ]
    }
   ],
   "source": [
    "#写函数，可将两个相同长度的list，间隔插入，生成新的list。例如：给两个list，a=[1,2,3,4], b=[5,6,7,8]。则可以生成：[1,5,2,6,3,7,4,8]。\n",
    "\n",
    "a = [1,2,4]\n",
    "b = [2,4,6]\n",
    "c=[]\n",
    "\n",
    "def asdad():\n",
    "    i=0\n",
    "    n=3\n",
    "    \n",
    "    while i<n:\n",
    "        c.append(a[i])\n",
    "        c.append(b[i])\n",
    "        i+=1\n",
    "    print(c)\n",
    "    \n",
    "asdad()"
   ]
  },
  {
   "cell_type": "code",
   "execution_count": 7,
   "metadata": {},
   "outputs": [
    {
     "name": "stdout",
     "output_type": "stream",
     "text": [
      "3741\n"
     ]
    }
   ],
   "source": [
    "#挑战性习题：python语言老师为了激励学生学python，自费买了100个完全相同的Macbook Pro，分给三个班级，每个班级至少分5个，用穷举法计算共有多少种分法\n",
    "#非原创，请教同学的,仍然有点蒙，忍不住写上了\n",
    "n=0\n",
    "for i in range(5,91):\n",
    "    for l in range(5,91):\n",
    "        for k in range(5,91):\n",
    "            he = i+l+k\n",
    "            if he==100:\n",
    "                n+=1\n",
    "print(n)\n",
    "            "
   ]
  },
  {
   "cell_type": "code",
   "execution_count": null,
   "metadata": {
    "collapsed": true
   },
   "outputs": [],
   "source": []
  }
 ],
 "metadata": {
  "kernelspec": {
   "display_name": "Python 3",
   "language": "python",
   "name": "python3"
  },
  "language_info": {
   "codemirror_mode": {
    "name": "ipython",
    "version": 3
   },
   "file_extension": ".py",
   "mimetype": "text/x-python",
   "name": "python",
   "nbconvert_exporter": "python",
   "pygments_lexer": "ipython3",
   "version": "3.6.2"
  }
 },
 "nbformat": 4,
 "nbformat_minor": 2
}
