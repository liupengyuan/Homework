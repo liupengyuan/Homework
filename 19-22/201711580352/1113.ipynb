{
 "cells": [
  {
   "cell_type": "code",
   "execution_count": 4,
   "metadata": {},
   "outputs": [
    {
     "name": "stdout",
     "output_type": "stream",
     "text": [
      "请输入要计算的个数2\n",
      "请输入下限1\n",
      "请输入上限2\n",
      "1.4142135623730951\n"
     ]
    }
   ],
   "source": [
    "#作业1\n",
    "\n",
    "import random\n",
    "\n",
    "def squert_n():\n",
    "    \n",
    "    n=int(input('请输入要计算的个数'))\n",
    "    m=int(input('请输入下限'))\n",
    "    k=int(input('请输入上限'))\n",
    "    i=0\n",
    "    total=0\n",
    "\n",
    "    while i<n:\n",
    "        \n",
    "        import random\n",
    "        i=i+1 \n",
    "        number = random.randint(m, k)\n",
    "        total=total+number\n",
    "        a=total/n\n",
    "        b=a**(1/2)\n",
    "        \n",
    "    print(b)                  \n",
    "                            \n",
    "\n",
    "\n",
    "squert_n()\n"
   ]
  },
  {
   "cell_type": "code",
   "execution_count": 5,
   "metadata": {},
   "outputs": [
    {
     "name": "stdout",
     "output_type": "stream",
     "text": [
      "请输入要计算的个数2\n",
      "请输入下限1\n",
      "请输入上限2\n",
      "0.0\n",
      "请输入要计算的个数2\n",
      "请输入下限1\n",
      "请输入上限2\n",
      "2.8853900817779268\n"
     ]
    }
   ],
   "source": [
    "#作业2\n",
    "\n",
    "\n",
    "#1\n",
    "import random,math\n",
    "\n",
    "def squert_n():\n",
    "    \n",
    "    n=int(input('请输入要计算的个数'))\n",
    "    m=int(input('请输入下限'))\n",
    "    k=int(input('请输入上限'))\n",
    "    i=0\n",
    "    total=0\n",
    "\n",
    "    while i<n:\n",
    "        \n",
    "        import random\n",
    "        i=i+1 \n",
    "        number = random.randint(m, k)\n",
    "        a=math.log(number)\n",
    "        total=total+a\n",
    "        \n",
    "    print(total)                  \n",
    "                            \n",
    "\n",
    "\n",
    "squert_n()\n",
    "\n",
    "\n",
    "\n",
    "#2\n",
    "import random,math\n",
    "\n",
    "def squert_n():\n",
    "    \n",
    "    n=int(input('请输入要计算的个数'))\n",
    "    m=int(input('请输入下限'))\n",
    "    k=int(input('请输入上限'))\n",
    "    i=0\n",
    "    total=0\n",
    "\n",
    "    while i<n:\n",
    "        \n",
    "        import random\n",
    "        i=i+1 \n",
    "        number = random.randint(m, k)\n",
    "        a=math.log(number)\n",
    "        b=(1/a)\n",
    "        total=total+b\n",
    "        \n",
    "    print(total)\n",
    "    \n",
    "squert_n()\n"
   ]
  },
  {
   "cell_type": "code",
   "execution_count": 8,
   "metadata": {},
   "outputs": [
    {
     "name": "stdout",
     "output_type": "stream",
     "text": [
      "用户输入需要相加的个数2\n",
      "72\n"
     ]
    }
   ],
   "source": [
    "#练习3\n",
    "import random\n",
    "def gues():\n",
    "    n=int(input('请输入需要相加的个数'))\n",
    "    t=0\n",
    "    i=1\n",
    "    b=0\n",
    "    import random\n",
    "    a=random.randint(1,9)\n",
    "    while i<=n:\n",
    "        t=t+(a*10**(i-1)+b)\n",
    "        b=(a*10**(i-1)+b)\n",
    "        i=i+1\n",
    "       \n",
    "    print(t)\n",
    "    \n",
    "gues()"
   ]
  },
  {
   "cell_type": "code",
   "execution_count": null,
   "metadata": {
    "collapsed": true
   },
   "outputs": [],
   "source": [
    "#练习4\n",
    "import random, math\n",
    "\n",
    "  \n",
    "\n",
    "def win():\n",
    "    print('Win!')\n",
    "    \n",
    "def lose():\n",
    "    print('Lose!')\n",
    "\n",
    "def guess_game():\n",
    "    guess = int(input('请输入要猜的整数'))    \n",
    "\n",
    "    n = int(input('请输入正整数作为神秘整数的上界'))\n",
    "    number = random.randint(1, n)\n",
    "    max_times = math.ceil(math.log2(n))\n",
    "    guess_times = 0\n",
    "    while guess_times < max_times:\n",
    "        \n",
    "        guess_times += 1\n",
    "        print('可以猜', max_times, '次')\n",
    "        print('你已经猜了', guess_times, '次')\n",
    "        \n",
    "        if guess == number:\n",
    "            win()\n",
    "            print('神秘数字：', guess)\n",
    "            print('你和标准查了', max_times-guess_times, '次')\n",
    "            break\n",
    "        elif guess > number:\n",
    "            print('猜大了')\n",
    "        else:\n",
    "            print('猜小了')\n",
    "    else:\n",
    "        print('答案是：', guess)\n",
    "        lose()\n",
    "\n",
    "\n",
    "guess_game()"
   ]
  },
  {
   "cell_type": "code",
   "execution_count": null,
   "metadata": {
    "collapsed": true
   },
   "outputs": [],
   "source": []
  },
  {
   "cell_type": "code",
   "execution_count": null,
   "metadata": {
    "collapsed": true
   },
   "outputs": [],
   "source": []
  },
  {
   "cell_type": "code",
   "execution_count": null,
   "metadata": {
    "collapsed": true
   },
   "outputs": [],
   "source": []
  },
  {
   "cell_type": "code",
   "execution_count": null,
   "metadata": {
    "collapsed": true
   },
   "outputs": [],
   "source": []
  },
  {
   "cell_type": "code",
   "execution_count": null,
   "metadata": {
    "collapsed": true
   },
   "outputs": [],
   "source": []
  },
  {
   "cell_type": "code",
   "execution_count": null,
   "metadata": {
    "collapsed": true
   },
   "outputs": [],
   "source": []
  },
  {
   "cell_type": "code",
   "execution_count": null,
   "metadata": {
    "collapsed": true
   },
   "outputs": [],
   "source": []
  },
  {
   "cell_type": "code",
   "execution_count": null,
   "metadata": {
    "collapsed": true
   },
   "outputs": [],
   "source": []
  },
  {
   "cell_type": "code",
   "execution_count": null,
   "metadata": {
    "collapsed": true
   },
   "outputs": [],
   "source": []
  },
  {
   "cell_type": "code",
   "execution_count": null,
   "metadata": {
    "collapsed": true
   },
   "outputs": [],
   "source": []
  },
  {
   "cell_type": "code",
   "execution_count": null,
   "metadata": {
    "collapsed": true
   },
   "outputs": [],
   "source": []
  },
  {
   "cell_type": "code",
   "execution_count": null,
   "metadata": {
    "collapsed": true
   },
   "outputs": [],
   "source": []
  },
  {
   "cell_type": "code",
   "execution_count": null,
   "metadata": {
    "collapsed": true
   },
   "outputs": [],
   "source": []
  },
  {
   "cell_type": "code",
   "execution_count": null,
   "metadata": {
    "collapsed": true
   },
   "outputs": [],
   "source": []
  },
  {
   "cell_type": "code",
   "execution_count": null,
   "metadata": {
    "collapsed": true
   },
   "outputs": [],
   "source": []
  },
  {
   "cell_type": "code",
   "execution_count": null,
   "metadata": {
    "collapsed": true
   },
   "outputs": [],
   "source": []
  },
  {
   "cell_type": "code",
   "execution_count": null,
   "metadata": {
    "collapsed": true
   },
   "outputs": [],
   "source": []
  },
  {
   "cell_type": "code",
   "execution_count": null,
   "metadata": {
    "collapsed": true
   },
   "outputs": [],
   "source": []
  },
  {
   "cell_type": "code",
   "execution_count": null,
   "metadata": {
    "collapsed": true
   },
   "outputs": [],
   "source": []
  },
  {
   "cell_type": "code",
   "execution_count": null,
   "metadata": {
    "collapsed": true
   },
   "outputs": [],
   "source": []
  },
  {
   "cell_type": "code",
   "execution_count": null,
   "metadata": {
    "collapsed": true
   },
   "outputs": [],
   "source": []
  }
 ],
 "metadata": {
  "kernelspec": {
   "display_name": "Python 3",
   "language": "python",
   "name": "python3"
  },
  "language_info": {
   "codemirror_mode": {
    "name": "ipython",
    "version": 3
   },
   "file_extension": ".py",
   "mimetype": "text/x-python",
   "name": "python",
   "nbconvert_exporter": "python",
   "pygments_lexer": "ipython3",
   "version": "3.6.2"
  }
 },
 "nbformat": 4,
 "nbformat_minor": 2
}
