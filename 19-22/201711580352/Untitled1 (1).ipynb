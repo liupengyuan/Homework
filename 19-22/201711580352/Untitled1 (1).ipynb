{
 "cells": [
  {
   "cell_type": "code",
   "execution_count": null,
   "metadata": {
    "collapsed": false
   },
   "outputs": [],
   "source": [
    "import random,math\n",
    "\n",
    "m = int(input('请输入你要生成的随机数个数，回车结束'))\n",
    "k = int(input('请输入一个最大数,以回车结束'))\n",
    "n = int(input('请输入一个最小数，以回车结束'))\n",
    "number = random.randint(n,m)\n",
    "max_times = math.ceil(k)\n",
    "total = 0\n",
    "def squareroot():\n",
    "    total = number+total\n",
    "    squareroot=total**(2/1)\n",
    "    return squareroot\n",
    "\n",
    "\n"
   ]
  },
  {
   "cell_type": "code",
   "execution_count": null,
   "metadata": {
    "collapsed": true
   },
   "outputs": [],
   "source": []
  },
  {
   "cell_type": "code",
   "execution_count": null,
   "metadata": {
    "collapsed": true
   },
   "outputs": [],
   "source": []
  },
  {
   "cell_type": "code",
   "execution_count": null,
   "metadata": {
    "collapsed": true
   },
   "outputs": [],
   "source": []
  }
 ],
 "metadata": {
  "kernelspec": {
   "display_name": "Python 3",
   "language": "python",
   "name": "python3"
  },
  "language_info": {
   "codemirror_mode": {
    "name": "ipython",
    "version": 3
   },
   "file_extension": ".py",
   "mimetype": "text/x-python",
   "name": "python",
   "nbconvert_exporter": "python",
   "pygments_lexer": "ipython3",
   "version": "3.6.0"
  }
 },
 "nbformat": 4,
 "nbformat_minor": 2
}
