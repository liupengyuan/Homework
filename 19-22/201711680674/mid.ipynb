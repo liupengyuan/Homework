{
 "cells": [
  {
   "cell_type": "code",
   "execution_count": 24,
   "metadata": {},
   "outputs": [
    {
     "name": "stdout",
     "output_type": "stream",
     "text": [
      "请输入要计算的项m,回车结束。4\n",
      "20.0\n"
     ]
    }
   ],
   "source": [
    "#1\n",
    "def sum():\n",
    "    total=0\n",
    "    for i in list:\n",
    "        total += i\n",
    "    return total\n",
    "list=[]\n",
    "listlen=int(input('请输入要计算的项m,回车结束。'))\n",
    "b=1\n",
    "for num in range(listlen):\n",
    "    a=(b*(b+1))/2\n",
    "    list.append(a)\n",
    "    b+=1\n",
    "print(sum())"
   ]
  },
  {
   "cell_type": "code",
   "execution_count": 1,
   "metadata": {},
   "outputs": [
    {
     "name": "stdout",
     "output_type": "stream",
     "text": [
      "请输入你想排列的符号，回车结束*\n",
      "请输入你想排列的行数，回车结束5\n",
      "*\n",
      "***\n",
      "*****\n",
      "*******\n",
      "*********\n"
     ]
    }
   ],
   "source": [
    "#2\n",
    "def location(x,h):\n",
    "    i=0\n",
    "    u=x\n",
    "    while i<h:\n",
    "        print(u)\n",
    "        i+=1\n",
    "        u=u+x+x\n",
    "    return \n",
    "x=str(input('请输入你想排列的符号，回车结束'))\n",
    "h=int(input('请输入你想排列的行数，回车结束'))\n",
    "location(x,h)"
   ]
  },
  {
   "cell_type": "code",
   "execution_count": null,
   "metadata": {
    "collapsed": true
   },
   "outputs": [],
   "source": [
    "#3\n",
    "def f(x):\n",
    "    "
   ]
  },
  {
   "cell_type": "code",
   "execution_count": 2,
   "metadata": {},
   "outputs": [
    {
     "name": "stdout",
     "output_type": "stream",
     "text": [
      "请输入要计算的身高数量,回车结束。9\n",
      "请输入身高，回车结束。183\n",
      "请输入身高，回车结束。185\n",
      "请输入身高，回车结束。183\n",
      "请输入身高，回车结束。178\n",
      "请输入身高，回车结束。187\n",
      "请输入身高，回车结束。177\n",
      "请输入身高，回车结束。190\n",
      "请输入身高，回车结束。172\n",
      "请输入身高，回车结束。175\n",
      "183\n",
      "185\n",
      "183\n",
      "187\n",
      "190\n",
      "181.11111111111111\n"
     ]
    }
   ],
   "source": [
    "#4\n",
    "def two():\n",
    "    total=0\n",
    "    for i in list:\n",
    "        total += i\n",
    "    \n",
    "    for b in list:\n",
    "        if b>total/m:\n",
    "            print(b)\n",
    "            \n",
    "    return total/m\n",
    "list=[]\n",
    "m=int(input('请输入要计算的身高数量,回车结束。'))\n",
    "for num in range(m):\n",
    "    a=int(input(\"请输入身高，回车结束。\"))\n",
    "    list.append(a)\n",
    "print(two())"
   ]
  },
  {
   "cell_type": "code",
   "execution_count": 4,
   "metadata": {},
   "outputs": [
    {
     "name": "stdout",
     "output_type": "stream",
     "text": [
      "7 5\n",
      "请输入a+b的结果，回车结束12\n",
      "3 9\n",
      "请输入a+b的结果，回车结束12\n",
      "2 10\n",
      "请输入a+b的结果，回车结束12\n",
      "1 4\n",
      "请输入a+b的结果，回车结束5\n",
      "8 2\n",
      "请输入a+b的结果，回车结束10\n",
      "100\n"
     ]
    }
   ],
   "source": [
    "#5\n",
    "import random\n",
    "i=0\n",
    "total=0\n",
    "g=0\n",
    "while i<5:\n",
    "    a= random.randint(1, 10)\n",
    "    b= random.randint(1, 10)\n",
    "    i+=1\n",
    "    print(a,b)\n",
    "    total=a+b\n",
    "    n=int(input('请输入a+b的结果，回车结束'))\n",
    "    if n!=total:\n",
    "        g=0\n",
    "    else:\n",
    "        g+=20\n",
    "print(g)"
   ]
  },
  {
   "cell_type": "code",
   "execution_count": 16,
   "metadata": {},
   "outputs": [
    {
     "name": "stdout",
     "output_type": "stream",
     "text": [
      "请输入数字个数,回车结束。7\n",
      "请输入数字，回车结束。3\n",
      "请输入数字，回车结束。-5\n",
      "请输入数字，回车结束。9\n",
      "请输入数字，回车结束。108\n",
      "请输入数字，回车结束。34\n",
      "请输入数字，回车结束。-76\n",
      "请输入数字，回车结束。88\n",
      "[108, 3, -5, 9, 108, 34, -76, 88]\n"
     ]
    }
   ],
   "source": [
    "#6\n",
    "list=[]\n",
    "b=int(input('请输入数字个数,回车结束。'))\n",
    "for num in range(b):\n",
    "    a=int(input(\"请输入数字，回车结束。\"))\n",
    "    list.append(a)\n",
    "c=[]\n",
    "m=max(list)\n",
    "n=min(list)\n",
    "c.append(m)\n",
    "for i in list:\n",
    "    if i>n or i!=m:\n",
    "        c.append(i)\n",
    "    else:\n",
    "        c.append(n)\n",
    "\n",
    "print(c)"
   ]
  },
  {
   "cell_type": "code",
   "execution_count": null,
   "metadata": {
    "collapsed": true
   },
   "outputs": [],
   "source": []
  }
 ],
 "metadata": {
  "kernelspec": {
   "display_name": "Python 3",
   "language": "python",
   "name": "python3"
  },
  "language_info": {
   "codemirror_mode": {
    "name": "ipython",
    "version": 3
   },
   "file_extension": ".py",
   "mimetype": "text/x-python",
   "name": "python",
   "nbconvert_exporter": "python",
   "pygments_lexer": "ipython3",
   "version": "3.6.2"
  }
 },
 "nbformat": 4,
 "nbformat_minor": 2
}
