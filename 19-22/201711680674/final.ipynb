{
 "cells": [
  {
   "cell_type": "code",
   "execution_count": 2,
   "metadata": {},
   "outputs": [
    {
     "name": "stdout",
     "output_type": "stream",
     "text": [
      "请输入符号，回车结束*\n",
      "请输入行数，回车结束5\n",
      "         * ***** * \n",
      "       * * ***** * * \n",
      "     * * * ***** * * * \n",
      "   * * * * ***** * * * * \n",
      " * * * * * ***** * * * * * \n"
     ]
    }
   ],
   "source": [
    "#1\n",
    "def tx(i,n):\n",
    "    for m in range(1,n+1):\n",
    "        print((n-m)*2*' '+(' '+i)*m,i*n,(i+' ')*m,end='' )\n",
    "        print()\n",
    "i=str(input('请输入符号，回车结束'))\n",
    "n=int(input('请输入行数，回车结束'))\n",
    "tx(i,n)"
   ]
  },
  {
   "cell_type": "code",
   "execution_count": 1,
   "metadata": {},
   "outputs": [
    {
     "name": "stdout",
     "output_type": "stream",
     "text": [
      "请输入第一个整数，回车结束3\n",
      "请输入第二个整数，回车结束4\n"
     ]
    },
    {
     "data": {
      "text/plain": [
       "125"
      ]
     },
     "execution_count": 1,
     "metadata": {},
     "output_type": "execute_result"
    }
   ],
   "source": [
    "#2\n",
    "def A(m,n):\n",
    "    if m == 0:\n",
    "        end=n+1\n",
    "        return end\n",
    "    elif m > 0 and n == 0:\n",
    "        return A(m-1,1)\n",
    "    elif m > 0 and n > 0:\n",
    "        return A(m-1,A(m,n-1))\n",
    "\n",
    "m=int(input('请输入第一个整数，回车结束'))\n",
    "n=int(input('请输入第二个整数，回车结束'))\n",
    "A(m,n)"
   ]
  },
  {
   "cell_type": "code",
   "execution_count": 1,
   "metadata": {},
   "outputs": [
    {
     "name": "stdout",
     "output_type": "stream",
     "text": [
      "请输入随机整数范围的下限，回车结束 3\n",
      "请输入随机整数范围的上线，回车结束 25\n",
      "请输入需要打印的题目道数，回车结束 15\n",
      "7 // 9\n",
      "16 * 15\n",
      "19 + 20\n",
      "14 // 24\n",
      "8 + 3\n",
      "21 * 7\n",
      "3 - 17\n",
      "14 // 15\n",
      "5 + 15\n",
      "22 + 5\n",
      "20 * 5\n",
      "3 - 7\n",
      "11 * 16\n",
      "14 // 13\n",
      "11 // 15\n"
     ]
    }
   ],
   "source": [
    "#3.a\n",
    "import random\n",
    "def tm(a,b):\n",
    "    list = ['+','-','*','//']\n",
    "    m = 0\n",
    "    while m < n:\n",
    "        m += 1\n",
    "        x=random.randint(a,b)\n",
    "        y=random.randint(a,b)\n",
    "        i=random.choice(list)\n",
    "        print(x,i,y,)\n",
    "    return \n",
    "a=int(input('请输入随机整数范围的下限，回车结束 '))\n",
    "b=int(input('请输入随机整数范围的上线，回车结束 '))\n",
    "n=int(input('请输入需要打印的题目道数，回车结束 '))\n",
    "tm(a,b)"
   ]
  },
  {
   "cell_type": "code",
   "execution_count": 4,
   "metadata": {},
   "outputs": [
    {
     "ename": "IndentationError",
     "evalue": "unexpected indent (<ipython-input-4-cbe3cd630d29>, line 2)",
     "output_type": "error",
     "traceback": [
      "\u001b[1;36m  File \u001b[1;32m\"<ipython-input-4-cbe3cd630d29>\"\u001b[1;36m, line \u001b[1;32m2\u001b[0m\n\u001b[1;33m    df = 0\u001b[0m\n\u001b[1;37m    ^\u001b[0m\n\u001b[1;31mIndentationError\u001b[0m\u001b[1;31m:\u001b[0m unexpected indent\n"
     ]
    }
   ],
   "source": [
    "#3.b\n",
    "df = 0\n",
    "if i == '+' or i == '-':\n",
    "    if y_end == m_end:\n",
    "        df += 5\n",
    "else:\n",
    "    if y_end == m_end:\n",
    "        df += 10\n",
    "y_end=int('请输入你所有题答案，如：2,25，...,32,回车结束')\n",
    "print (df)"
   ]
  },
  {
   "cell_type": "code",
   "execution_count": null,
   "metadata": {},
   "outputs": [
    {
     "name": "stdout",
     "output_type": "stream",
     "text": [
      "请输入需要的题目道数，回车结束 10\n",
      "请输入题目,例：5*14=，回车结束2-1=\n",
      "\n"
     ]
    }
   ],
   "source": [
    "#3.c\n",
    "def df():\n",
    "    m=0\n",
    "    f=0\n",
    "    while m<n:\n",
    "        m += 1 \n",
    "        q=str(input('请输入题目,例：5*14=，回车结束'))\n",
    "        print()\n",
    "        i=int(input('如果我答加减法对了，请输入1，答乘除法对了，请输入2 ，错了请输入0，回车结束'))\n",
    "        if i == 1:\n",
    "            f += 5\n",
    "        elif i == 2:\n",
    "            f += 10\n",
    "    return f\n",
    "n=int(input('请输入需要的题目道数，回车结束 '))\n",
    "df()"
   ]
  },
  {
   "cell_type": "code",
   "execution_count": 7,
   "metadata": {},
   "outputs": [
    {
     "ename": "UnicodeDecodeError",
     "evalue": "'gbk' codec can't decode byte 0x80 in position 69: illegal multibyte sequence",
     "output_type": "error",
     "traceback": [
      "\u001b[1;31m---------------------------------------------------------------------------\u001b[0m",
      "\u001b[1;31mUnicodeDecodeError\u001b[0m                        Traceback (most recent call last)",
      "\u001b[1;32m<ipython-input-7-3a2c4d8698f9>\u001b[0m in \u001b[0;36m<module>\u001b[1;34m()\u001b[0m\n\u001b[0;32m      2\u001b[0m \u001b[0mfilename\u001b[0m \u001b[1;33m=\u001b[0m \u001b[1;34mr'c:\\temp\\成语大全utf-8.txt'\u001b[0m\u001b[1;33m\u001b[0m\u001b[0m\n\u001b[0;32m      3\u001b[0m \u001b[1;32mwith\u001b[0m \u001b[0mopen\u001b[0m\u001b[1;33m(\u001b[0m\u001b[0mfilename\u001b[0m\u001b[1;33m)\u001b[0m \u001b[1;32mas\u001b[0m \u001b[0mf\u001b[0m\u001b[1;33m:\u001b[0m\u001b[1;33m\u001b[0m\u001b[0m\n\u001b[1;32m----> 4\u001b[1;33m     \u001b[1;32mfor\u001b[0m \u001b[0mline\u001b[0m \u001b[1;32min\u001b[0m \u001b[0mf\u001b[0m\u001b[1;33m:\u001b[0m\u001b[1;33m\u001b[0m\u001b[0m\n\u001b[0m\u001b[0;32m      5\u001b[0m         \u001b[0mA\u001b[0m \u001b[1;33m=\u001b[0m \u001b[1;33m[\u001b[0m\u001b[0mword\u001b[0m\u001b[1;33m.\u001b[0m\u001b[0msplit\u001b[0m\u001b[1;33m(\u001b[0m\u001b[1;34m' '\u001b[0m\u001b[1;33m)\u001b[0m\u001b[1;33m[\u001b[0m\u001b[1;36m0\u001b[0m\u001b[1;33m]\u001b[0m \u001b[1;32mfor\u001b[0m \u001b[0mword\u001b[0m \u001b[1;32min\u001b[0m \u001b[0mline\u001b[0m\u001b[1;33m.\u001b[0m\u001b[0msplit\u001b[0m\u001b[1;33m(\u001b[0m\u001b[1;33m)\u001b[0m\u001b[1;33m]\u001b[0m\u001b[1;33m\u001b[0m\u001b[0m\n\u001b[0;32m      6\u001b[0m \u001b[1;33m\u001b[0m\u001b[0m\n",
      "\u001b[1;31mUnicodeDecodeError\u001b[0m: 'gbk' codec can't decode byte 0x80 in position 69: illegal multibyte sequence"
     ]
    }
   ],
   "source": [
    "#4.a\n",
    "A = set()\n",
    "filename = r'c:\\temp\\成语大全utf-8.txt'\n",
    "with open(filename) as f:\n",
    "    for line in f:\n",
    "        A = [word.split(' ')[0] for word in line.split()]\n",
    "        \n",
    "print (A)"
   ]
  },
  {
   "cell_type": "code",
   "execution_count": 1,
   "metadata": {},
   "outputs": [
    {
     "name": "stdout",
     "output_type": "stream",
     "text": [
      "共用成语是 set()\n"
     ]
    }
   ],
   "source": [
    "#4.b\n",
    "with open(r'c:\\temp\\语料库.txt') as f1:\n",
    "    for line in f1:\n",
    "        word_1 = {word.split('/')[0] for word in line.split()}\n",
    "with open(r'c:\\temp\\成语.txt') as f2:\n",
    "    for line2 in f2:\n",
    "        word_2 = {word.split('、’')[0] for word in line2.split()}\n",
    "print('共用成语是',word_1 & word_2)"
   ]
  },
  {
   "cell_type": "code",
   "execution_count": 8,
   "metadata": {},
   "outputs": [
    {
     "data": {
      "text/plain": [
       "{'': 384,\n",
       " 'a': 8249,\n",
       " 'ad': 932,\n",
       " 'ag': 75,\n",
       " 'an': 302,\n",
       " 'b': 1743,\n",
       " 'c': 9321,\n",
       " 'd': 18225,\n",
       " 'df': 55,\n",
       " 'dg': 7,\n",
       " 'e': 31,\n",
       " 'eng': 1616,\n",
       " 'f': 5197,\n",
       " 'g': 76,\n",
       " 'h': 90,\n",
       " 'i': 1729,\n",
       " 'j': 1707,\n",
       " 'k': 371,\n",
       " 'l': 2561,\n",
       " 'm': 25920,\n",
       " 'mq': 219,\n",
       " 'n': 76628,\n",
       " 'ng': 574,\n",
       " 'nr': 10531,\n",
       " 'nrfg': 133,\n",
       " 'nrt': 995,\n",
       " 'ns': 8153,\n",
       " 'nt': 1723,\n",
       " 'nz': 2603,\n",
       " 'o': 40,\n",
       " 'p': 13234,\n",
       " 'q': 1339,\n",
       " 'r': 10942,\n",
       " 'rg': 8,\n",
       " 'rr': 5,\n",
       " 'rz': 36,\n",
       " 's': 1281,\n",
       " 't': 6063,\n",
       " 'tg': 64,\n",
       " 'u': 1580,\n",
       " 'ud': 205,\n",
       " 'ug': 238,\n",
       " 'uj': 15590,\n",
       " 'ul': 3284,\n",
       " 'uv': 344,\n",
       " 'uz': 408,\n",
       " 'v': 59686,\n",
       " 'vd': 92,\n",
       " 'vg': 239,\n",
       " 'vi': 6,\n",
       " 'vn': 7722,\n",
       " 'vq': 6,\n",
       " 'x': 63637,\n",
       " 'y': 308,\n",
       " 'yg': 6,\n",
       " 'z': 322,\n",
       " 'zg': 754}"
      ]
     },
     "execution_count": 8,
     "metadata": {},
     "output_type": "execute_result"
    }
   ],
   "source": [
    "#4.c\n",
    "def count_words_freq_dict(filename):\n",
    "    words_freq_dict={}\n",
    "    with open(filename) as f:\n",
    "        for line in f:\n",
    "            words = [word.split('/')[1] for word in line.split()]\n",
    "            for word in words:\n",
    "                if word in words_freq_dict:\n",
    "                    words_freq_dict[word] += 1\n",
    "                else:\n",
    "                    words_freq_dict[word] = 1\n",
    "    return words_freq_dict\n",
    "filename = r'c:\\temp\\语料库.txt'\n",
    "count_words_freq_dict(filename)"
   ]
  },
  {
   "cell_type": "code",
   "execution_count": 22,
   "metadata": {},
   "outputs": [
    {
     "name": "stdout",
     "output_type": "stream",
     "text": [
      "[]\n"
     ]
    }
   ],
   "source": [
    "#4.d\n",
    "filename = r'c:\\temp\\语料库.txt'\n",
    "list=[]\n",
    "list_2=['nr']\n",
    "with open(filename) as f:\n",
    "    for line in f:\n",
    "        words = [word.split('/')[1] for word in line.split()]\n",
    "        if words in list_2:\n",
    "            li=[word.split('/')[0] for word in line.split()]\n",
    "            if li not in list:\n",
    "                list.append(li)\n",
    "print(list)"
   ]
  },
  {
   "cell_type": "code",
   "execution_count": 24,
   "metadata": {},
   "outputs": [
    {
     "name": "stdout",
     "output_type": "stream",
     "text": [
      "语料库字表长度为 4040\n"
     ]
    }
   ],
   "source": [
    "#4,e\n",
    "import random\n",
    "def get_ch_table(line):\n",
    "    ch_table = []\n",
    "    for ch in line:\n",
    "        if ch not in ch_table:\n",
    "            ch_table.append(ch)\n",
    "    return ch_table\n",
    "fh = open(r'c:\\temp\\语料库.txt')\n",
    "text = fh.read()\n",
    "chs = get_ch_table(text.replace('\\n', ''))\n",
    "print('语料库字表长度为',len(chs))"
   ]
  },
  {
   "cell_type": "code",
   "execution_count": 31,
   "metadata": {},
   "outputs": [
    {
     "name": "stdout",
     "output_type": "stream",
     "text": [
      "A字表长度为 1251\n"
     ]
    }
   ],
   "source": [
    "import random\n",
    "def get_ch_table(line):\n",
    "    ch_table = []\n",
    "    for ch in line:\n",
    "        if ch not in ch_table:\n",
    "            ch_table.append(ch)\n",
    "    return ch_table\n",
    "fh = open(r'c:\\temp\\成语.txt')\n",
    "text = fh.read()\n",
    "chs = get_ch_table(text.replace('\\n', ''))\n",
    "print('A字表长度为',len(chs))"
   ]
  },
  {
   "cell_type": "code",
   "execution_count": 32,
   "metadata": {},
   "outputs": [],
   "source": [
    "#4.f\n",
    "fh = open(r'c:\\temp\\成语.txt')\n",
    "text = fh.read()\n",
    "fh.close()\n",
    "idioms = text.split()\n",
    "def cyjl():\n",
    "    n=0\n",
    "    while n>=0:    \n",
    "        idiom = input('请输入成语.')\n",
    "        n+=1\n",
    "        idiom1 = random.choice(idioms)\n",
    "        if idiom1[0] ==idiom[3]:\n",
    "            print(idiom1)\n",
    "            for idiom in idioms:\n",
    "                i=1\n",
    "                if idiom[0] == answer_idiom[-1]:\n",
    "                    idiom1 = idiom\n",
    "                    print(idiom1)\n",
    "                    break"
   ]
  },
  {
   "cell_type": "code",
   "execution_count": null,
   "metadata": {
    "collapsed": true
   },
   "outputs": [],
   "source": []
  }
 ],
 "metadata": {
  "kernelspec": {
   "display_name": "Python 3",
   "language": "python",
   "name": "python3"
  },
  "language_info": {
   "codemirror_mode": {
    "name": "ipython",
    "version": 3
   },
   "file_extension": ".py",
   "mimetype": "text/x-python",
   "name": "python",
   "nbconvert_exporter": "python",
   "pygments_lexer": "ipython3",
   "version": "3.6.2"
  }
 },
 "nbformat": 4,
 "nbformat_minor": 2
}
