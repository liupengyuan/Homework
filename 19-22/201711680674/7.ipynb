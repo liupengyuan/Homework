{
 "cells": [
  {
   "cell_type": "code",
   "execution_count": 10,
   "metadata": {},
   "outputs": [
    {
     "name": "stdout",
     "output_type": "stream",
     "text": [
      "请输入字符串，回车结束你，我，他\n",
      "他，我，你\n"
     ]
    }
   ],
   "source": [
    "#练习一：自己定义一个reverse(s)函数，功能返回字符串s的倒序字符串。\n",
    "def dx():\n",
    "    \n",
    "    return line[::-1]\n",
    "\n",
    "    \n",
    "line=input('请输入字符串，回车结束')\n",
    "\n",
    "print(dx())"
   ]
  },
  {
   "cell_type": "code",
   "execution_count": 11,
   "metadata": {},
   "outputs": [
    {
     "name": "stdout",
     "output_type": "stream",
     "text": [
      "请输入一个整数，表示将要输入的字符数，回车结束。3\n",
      "请输入一个字符，回车结束。你\n",
      "请输入一个字符，回车结束。我\n",
      "请输入一个字符，回车结束。他\n",
      "['他', '我', '你']\n"
     ]
    }
   ],
   "source": [
    "line = []\n",
    "n = int(input('请输入一个整数，表示将要输入的字符数，回车结束。'))\n",
    "i = 0\n",
    "while i < n:\n",
    "    word = input('请输入一个字符，回车结束。')\n",
    "    line.append(word)\n",
    "    i += 1\n",
    "           \n",
    "print(line[::-1])"
   ]
  },
  {
   "cell_type": "code",
   "execution_count": 16,
   "metadata": {},
   "outputs": [
    {
     "name": "stdout",
     "output_type": "stream",
     "text": [
      "请输入打印行数，回车结束5\n",
      "请输入符号，回车结束*\n",
      "*\n",
      "**\n",
      "***\n",
      "****\n",
      "*****\n",
      "\n",
      "\n",
      "     *\n",
      "    ***\n",
      "   *****\n",
      "  *******\n",
      " *********\n",
      "\n",
      "\n",
      "           *\n",
      "         **\n",
      "       ***\n",
      "     ****\n",
      "   *****\n"
     ]
    }
   ],
   "source": [
    "#练习二：写函数，根据给定符号和行数，打印相应直角三角形，等腰三角形及其他形式的三角形。\n",
    "def sjx():\n",
    "    for i in range(1, len(line)+1):\n",
    "        print(line[0]*i, end='')\n",
    "        print()\n",
    "    \n",
    "    print('\\n')\n",
    "    for i in range(0,len(line)):\n",
    "        print((len(line)-1-i)*' ' ,line[0]*(2*i+1), end='')\n",
    "        print() \n",
    "\n",
    "    print('\\n')\n",
    "    for i in range(0,len(line)):\n",
    "        print((len(line)-i)*'  ' ,line[0]*(i+1), end='')\n",
    "        print()     \n",
    "\n",
    "n=int(input('请输入打印行数，回车结束'))\n",
    "line =input('请输入符号，回车结束')*n\n",
    "sjx()"
   ]
  },
  {
   "cell_type": "code",
   "execution_count": 18,
   "metadata": {},
   "outputs": [
    {
     "name": "stdout",
     "output_type": "stream",
     "text": [
      "请输入打印行数，回车结束5\n",
      "请输入符号，回车结束*\n",
      "      *\n",
      "     ***\n",
      "    *****\n",
      "   *******\n",
      "  *********\n",
      "   *******\n",
      "    *****\n",
      "     ***\n",
      "      *\n",
      "\n",
      "\n",
      "  * * * * * \n",
      "   * * * * * \n",
      "    * * * * * \n",
      "     * * * * * \n"
     ]
    }
   ],
   "source": [
    "#练习五：写函数，根据给定符号，打印各种菱形。\n",
    "def lx():\n",
    "    for i in range(0,len(line)-1):\n",
    "        print((len(line)-i)*' ' ,line[0]*(2*i+1), end='')\n",
    "        print()\n",
    "    for j in range(0,len(line)):\n",
    "        print((j+1)*' ' ,line[0]*(2*(len(line)-j-1)+1), end='')\n",
    "        print() \n",
    "   \n",
    "    print('\\n')\n",
    "    a=1\n",
    "    while a<n:\n",
    "        print(a*' ' ,(line[0]+' ')*len(line), end='')\n",
    "        a+=1\n",
    "        print() \n",
    "    \n",
    "     \n",
    "n=int(input('请输入打印行数，回车结束'))\n",
    "line =input('请输入符号，回车结束')*n\n",
    "lx()"
   ]
  }
 ],
 "metadata": {
  "kernelspec": {
   "display_name": "Python 3",
   "language": "python",
   "name": "python3"
  },
  "language_info": {
   "codemirror_mode": {
    "name": "ipython",
    "version": 3
   },
   "file_extension": ".py",
   "mimetype": "text/x-python",
   "name": "python",
   "nbconvert_exporter": "python",
   "pygments_lexer": "ipython3",
   "version": "3.6.2"
  }
 },
 "nbformat": 4,
 "nbformat_minor": 2
}
