{
 "cells": [
  {
   "cell_type": "code",
   "execution_count": 1,
   "metadata": {},
   "outputs": [
    {
     "ename": "SyntaxError",
     "evalue": "invalid syntax (<ipython-input-1-4f84e13ce28d>, line 1)",
     "output_type": "error",
     "traceback": [
      "\u001b[1;36m  File \u001b[1;32m\"<ipython-input-1-4f84e13ce28d>\"\u001b[1;36m, line \u001b[1;32m1\u001b[0m\n\u001b[1;33m    练习 1：写程序，可由键盘读入用户姓名例如Mr. right，让用户输入出生的月份与日期，判断用户星座，假设用户是金牛座，则输出，Mr. right，你是非常有性格的金牛座！。\u001b[0m\n\u001b[1;37m       ^\u001b[0m\n\u001b[1;31mSyntaxError\u001b[0m\u001b[1;31m:\u001b[0m invalid syntax\n"
     ]
    }
   ],
   "source": [
    "练习 1：写程序，可由键盘读入用户姓名例如Mr. right，让用户输入出生的月份与日期，判断用户星座，假设用户是金牛座，则输出，Mr. right，你是非常有性格的金牛座！。"
   ]
  },
  {
   "cell_type": "code",
   "execution_count": 4,
   "metadata": {},
   "outputs": [
    {
     "name": "stdout",
     "output_type": "stream",
     "text": [
      "请输入你的姓名，以回车结束。张晓枫\n",
      "请输入你的出生月份与日期，如2.18，回车结束2.18\n",
      "张晓枫 你是非常有性格的水瓶座！\n"
     ]
    }
   ],
   "source": [
    "name=input('请输入你的姓名，以回车结束。')\n",
    "n=eval(input('请输入你的出生月份与日期，如2.18，回车结束'))\n",
    "if 3.11<n<4.20:\n",
    "    print(name,'你是非常有性格的白羊座！')\n",
    "elif 4.19<n<5.21:\n",
    "    print(name,'你是非常有性格的金牛座！')\n",
    "elif 5.20<n<6.22:\n",
    "    print(name,'你是非常有性格的双子座！')\n",
    "elif 6.21<n<7.23:\n",
    "    print(name,'你是非常有性格的巨蟹座！')\n",
    "elif 7.22<n<8.23:\n",
    "    print(name,'你是非常有性格的狮子座！')\n",
    "elif 8.22<n<9.23:\n",
    "    print(name,'你是非常有性格的处女座！')\n",
    "elif 9.22<n<10.24:\n",
    "    print(name,'你是非常有性格的天秤座！')\n",
    "elif 10.23<n<11.23:\n",
    "    print(name,'你是非常有性格的天蝎座！')\n",
    "elif 11.22<n<12.22:\n",
    "    print(name,'你是非常有性格的射手座！')\n",
    "elif 12.21<n<12.32 or 0.9<n<1.20:\n",
    "    print(name,'你是非常有性格的摩羯座！')\n",
    "elif 1.19<n<2.19:\n",
    "    print(name,'你是非常有性格的水瓶座！')\n",
    "else:\n",
    "    print(name,'你是非常有性格的双鱼座！')"
   ]
  },
  {
   "cell_type": "code",
   "execution_count": 1,
   "metadata": {},
   "outputs": [
    {
     "ename": "SyntaxError",
     "evalue": "invalid syntax (<ipython-input-1-21314b6d3a03>, line 1)",
     "output_type": "error",
     "traceback": [
      "\u001b[1;36m  File \u001b[1;32m\"<ipython-input-1-21314b6d3a03>\"\u001b[1;36m, line \u001b[1;32m1\u001b[0m\n\u001b[1;33m    练习 2：写程序，可由键盘读入两个整数m与n(n不等于0)，询问用户意图，如果要求和则计算从m到n的和输出，如果要乘积则计算从m到n的积并输出，如果要求余数则计算m除以n的余数的值并输出，否则则计算m整除n的值并输出\u001b[0m\n\u001b[1;37m       ^\u001b[0m\n\u001b[1;31mSyntaxError\u001b[0m\u001b[1;31m:\u001b[0m invalid syntax\n"
     ]
    }
   ],
   "source": [
    "练习 2：写程序，可由键盘读入两个整数m与n(n不等于0)，询问用户意图，如果要求和则计算从m到n的和输出，如果要乘积则计算从m到n的积并输出，如果要求余数则计算m除以n的余数的值并输出，否则则计算m整除n的值并输出"
   ]
  },
  {
   "cell_type": "code",
   "execution_count": 9,
   "metadata": {},
   "outputs": [
    {
     "name": "stdout",
     "output_type": "stream",
     "text": [
      "请输入一个整数，回车结束2\n",
      "请输入一个非0整数，回车结束5\n",
      "对m,n求和请输入1，求乘积请输入2，求余数请输入3，整除请输入4，回车结束2\n",
      "120\n"
     ]
    }
   ],
   "source": [
    "n=int(input('请输入一个整数，回车结束'))\n",
    "m=int(input('请输入一个非0整数，回车结束'))\n",
    "i=int(input('对m,n求和请输入1，求乘积请输入2，求余数请输入3，整除请输入4，回车结束'))\n",
    "a=0\n",
    "b=1\n",
    "if i<2:\n",
    "    if m<=n:\n",
    "        while m<n+1:\n",
    "            a=a+m\n",
    "            m+=1\n",
    "    else:\n",
    "        while m>n-1:\n",
    "            a=a+n\n",
    "            n+=1\n",
    "    print(a)\n",
    "elif 1<i<=2:\n",
    "    if m<=n:\n",
    "        while m<n+1:\n",
    "            b=b*m\n",
    "            m+=1\n",
    "    else:\n",
    "        while m>n-1:\n",
    "            b=b*n\n",
    "            n+=1\n",
    "    print(b)\n",
    "elif 2<i<=3:\n",
    "    a=n%m\n",
    "    print(a)\n",
    "else:\n",
    "    a=n//m\n",
    "    print(a)"
   ]
  },
  {
   "cell_type": "code",
   "execution_count": 3,
   "metadata": {},
   "outputs": [
    {
     "ename": "SyntaxError",
     "evalue": "invalid syntax (<ipython-input-3-cc27e7729a74>, line 1)",
     "output_type": "error",
     "traceback": [
      "\u001b[1;36m  File \u001b[1;32m\"<ipython-input-3-cc27e7729a74>\"\u001b[1;36m, line \u001b[1;32m1\u001b[0m\n\u001b[1;33m    练习 4：英文单词单数转复数，要求输入一个英文动词（单数形式），能够得到其复数形式，或给出单数转复数形式的建议（提示，some_string.endswith(some_letter)函数可以判断某字符串结尾字符，可尝试运行：'myname'.endswith('me')，liupengyuan'.endswith('n')）。\u001b[0m\n\u001b[1;37m       ^\u001b[0m\n\u001b[1;31mSyntaxError\u001b[0m\u001b[1;31m:\u001b[0m invalid syntax\n"
     ]
    }
   ],
   "source": [
    "练习 4：英文单词单数转复数，要求输入一个英文动词（单数形式），能够得到其复数形式，或给出单数转复数形式的建议（提示，some_string.endswith(some_letter)函数可以判断某字符串结尾字符，可尝试运行：'myname'.endswith('me')，liupengyuan'.endswith('n')）。"
   ]
  },
  {
   "cell_type": "code",
   "execution_count": 4,
   "metadata": {},
   "outputs": [
    {
     "name": "stdout",
     "output_type": "stream",
     "text": [
      "请输入一个英文动词的单数形式，回车结束want\n",
      "want +s\n"
     ]
    }
   ],
   "source": [
    "word=input('请输入一个英文动词的单数形式，回车结束')\n",
    "if word.endswith('s') or word.endswith('sh') or word.endswith('ch') or word.endswith('x') :\n",
    "    print(word,'结尾+es')\n",
    "elif word.endswith('f') or word.endswith('fe'):\n",
    "    print(word,'去f,fe+ves')\n",
    "else:\n",
    "    print(word,'+s')"
   ]
  },
  {
   "cell_type": "code",
   "execution_count": 4,
   "metadata": {},
   "outputs": [
    {
     "ename": "SyntaxError",
     "evalue": "invalid character in identifier (<ipython-input-4-161c08c736d2>, line 1)",
     "output_type": "error",
     "traceback": [
      "\u001b[1;36m  File \u001b[1;32m\"<ipython-input-4-161c08c736d2>\"\u001b[1;36m, line \u001b[1;32m1\u001b[0m\n\u001b[1;33m    尝试性练习：写程序，能够在屏幕上显示空行。\u001b[0m\n\u001b[1;37m                        ^\u001b[0m\n\u001b[1;31mSyntaxError\u001b[0m\u001b[1;31m:\u001b[0m invalid character in identifier\n"
     ]
    }
   ],
   "source": [
    "尝试性练习：写程序，能够在屏幕上显示空行。"
   ]
  },
  {
   "cell_type": "code",
   "execution_count": 2,
   "metadata": {},
   "outputs": [
    {
     "name": "stdout",
     "output_type": "stream",
     "text": [
      "\n",
      "\n"
     ]
    }
   ],
   "source": [
    "print('\\n')"
   ]
  },
  {
   "cell_type": "code",
   "execution_count": null,
   "metadata": {
    "collapsed": true
   },
   "outputs": [],
   "source": []
  }
 ],
 "metadata": {
  "kernelspec": {
   "display_name": "Python 3",
   "language": "python",
   "name": "python3"
  },
  "language_info": {
   "codemirror_mode": {
    "name": "ipython",
    "version": 3
   },
   "file_extension": ".py",
   "mimetype": "text/x-python",
   "name": "python",
   "nbconvert_exporter": "python",
   "pygments_lexer": "ipython3",
   "version": "3.6.2"
  }
 },
 "nbformat": 4,
 "nbformat_minor": 2
}
