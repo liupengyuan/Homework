{
 "cells": [
  {
   "cell_type": "code",
   "execution_count": 39,
   "metadata": {},
   "outputs": [
    {
     "name": "stdout",
     "output_type": "stream",
     "text": [
      "请输入一个正整数，以回车结束9\n",
      "-1\n"
     ]
    }
   ],
   "source": [
    "#写函数，返回某个元素/对象在一个list中的位置，如果不在，则返回-1.\n",
    "n=int(input('请输入一个正整数，以回车结束'))\n",
    "numbers=[1,2,3,4,5,6,7,8,]\n",
    "if n in numbers:\n",
    "    print (numbers.index(n))\n",
    "else:\n",
    "    print(\"-1\")"
   ]
  },
  {
   "cell_type": "code",
   "execution_count": 17,
   "metadata": {},
   "outputs": [
    {
     "name": "stdout",
     "output_type": "stream",
     "text": [
      "请输入一个正整数，以回车结束1\n",
      "0\n"
     ]
    }
   ],
   "source": [
    "n=int(input('请输入一个正整数，以回车结束'))\n",
    "numbers=[1,2,3,4,5,6,7,8,]\n",
    "if n in numbers:\n",
    "    print (numbers.index(n))\n",
    "else:\n",
    "    print(\"-1\")"
   ]
  },
  {
   "cell_type": "code",
   "execution_count": 2,
   "metadata": {},
   "outputs": [
    {
     "name": "stdout",
     "output_type": "stream",
     "text": [
      "[1, 5, 2, 6, 3, 7, 4, 8]\n"
     ]
    }
   ],
   "source": [
    "#写函数，可将两个相同长度的list，间隔插入，生成新的list。例如：给两个list，a=[1,2,3,4], b=[5,6,7,8]。则可以生成：[1,5,2,6,3,7,4,8]。\n",
    "def c():\n",
    "    c=[]\n",
    "\n",
    "    for i in zip(a,b):\n",
    "        c.extend(list(i))\n",
    "    return c\n",
    "\n",
    "a=[1,2,3,4]\n",
    "b=[5,6,7,8]\n",
    "print(c())"
   ]
  },
  {
   "cell_type": "code",
   "execution_count": 2,
   "metadata": {},
   "outputs": [
    {
     "name": "stdout",
     "output_type": "stream",
     "text": [
      "请输入第一个向量的横坐标，回车结束1\n",
      "请输入第一个向量的纵坐标，回车结束0\n",
      "请输入第二个向量的横坐标，回车结束2\n",
      "请输入第二个向量的纵坐标，回车结束2\n",
      "两个向量是 [(1, 0), (2, 2)]\n",
      "两个向量的夹角余弦值， 0.7071067811865475\n"
     ]
    }
   ],
   "source": [
    "#写函数，可求两个向量的夹角余弦值，向量可放在list中。主程序调用该函数。\n",
    "def cos():\n",
    "    n=(a**2+b**2)**(1/2)\n",
    "    m=(c**2+d**2)**(1/2)\n",
    "    i=(a*c+b*d)/(m*n)\n",
    "    return i\n",
    "    \n",
    "a=int(input('请输入第一个向量的横坐标，回车结束'))\n",
    "b=int(input('请输入第一个向量的纵坐标，回车结束'))\n",
    "c=int(input('请输入第二个向量的横坐标，回车结束'))\n",
    "d=int(input('请输入第二个向量的纵坐标，回车结束'))\n",
    "xiangliang=[(a,b),(c,d)]\n",
    "print('两个向量是',xiangliang)\n",
    "print('两个向量的夹角余弦值，',cos())"
   ]
  },
  {
   "cell_type": "code",
   "execution_count": 1,
   "metadata": {},
   "outputs": [
    {
     "name": "stdout",
     "output_type": "stream",
     "text": [
      "86\n"
     ]
    }
   ],
   "source": [
    "#挑战性习题：python语言老师为了激励学生学python，自费买了100个完全相同的Macbook Pro，分给三个班级，每个班级至少分5个，用穷举法计算共有多少种分法\n",
    "n=1\n",
    "book=100\n",
    "book1=5\n",
    "book2=5\n",
    "book3=90\n",
    "while book3>5:\n",
    "    book1=5\n",
    "    book2=book2+1\n",
    "    book3=book3-1\n",
    "    n=n+1\n",
    "print(n)"
   ]
  }
 ],
 "metadata": {
  "kernelspec": {
   "display_name": "Python 3",
   "language": "python",
   "name": "python3"
  },
  "language_info": {
   "codemirror_mode": {
    "name": "ipython",
    "version": 3
   },
   "file_extension": ".py",
   "mimetype": "text/x-python",
   "name": "python",
   "nbconvert_exporter": "python",
   "pygments_lexer": "ipython3",
   "version": "3.6.2"
  }
 },
 "nbformat": 4,
 "nbformat_minor": 2
}
