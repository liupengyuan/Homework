{
 "cells": [
  {
   "cell_type": "code",
   "execution_count": 18,
   "metadata": {},
   "outputs": [
    {
     "name": "stdout",
     "output_type": "stream",
     "text": [
      "平均值 106.72999999999999\n",
      "最大值，最小值分别是 899 -10\n"
     ]
    }
   ],
   "source": [
    "#写函数，返回一个list中的最大值，最小值，平均值。（不用内置的求和求函数），以[1,2,-1,55,100,899,-10,3,12.5,5.8]为例。\n",
    "numbers=[1,2,-1,55,100,899,-10,3,12.5,5.8]\n",
    "def hs1():\n",
    "    n=0\n",
    "    b=numbers[0]\n",
    "    for a in numbers:\n",
    "        if a>b:\n",
    "            b=a\n",
    "    return b\n",
    "def hs2():\n",
    "    m=0\n",
    "    d=numbers[0]\n",
    "    for c in numbers:\n",
    "        if c<d:\n",
    "            d=c\n",
    "    return d\n",
    "\n",
    "total=0\n",
    "for i in numbers:\n",
    "    total += i\n",
    "\n",
    "print('平均值',total/10)\n",
    "print('最大值，最小值分别是',hs1(),hs2())"
   ]
  }
 ],
 "metadata": {
  "kernelspec": {
   "display_name": "Python 3",
   "language": "python",
   "name": "python3"
  },
  "language_info": {
   "codemirror_mode": {
    "name": "ipython",
    "version": 3
   },
   "file_extension": ".py",
   "mimetype": "text/x-python",
   "name": "python",
   "nbconvert_exporter": "python",
   "pygments_lexer": "ipython3",
   "version": "3.6.2"
  }
 },
 "nbformat": 4,
 "nbformat_minor": 2
}
