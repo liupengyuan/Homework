{
 "cells": [
  {
   "cell_type": "code",
   "execution_count": 8,
   "metadata": {},
   "outputs": [
    {
     "ename": "SyntaxError",
     "evalue": "invalid character in identifier (<ipython-input-8-6822e48bde00>, line 1)",
     "output_type": "error",
     "traceback": [
      "\u001b[1;36m  File \u001b[1;32m\"<ipython-input-8-6822e48bde00>\"\u001b[1;36m, line \u001b[1;32m1\u001b[0m\n\u001b[1;33m    写求和函数my_sum(n),求阶乘函数my_mul(n),请用户输入m与n,如果m>n则输出1+2+...+m+1+...+n的和，否则输出m!+n!\u001b[0m\n\u001b[1;37m                                                                           ^\u001b[0m\n\u001b[1;31mSyntaxError\u001b[0m\u001b[1;31m:\u001b[0m invalid character in identifier\n"
     ]
    }
   ],
   "source": [
    "写求和函数my_sum(n),求阶乘函数my_mul(n),请用户输入m与n,如果m>n则输出1+2+...+m+1+...+n的和，否则输出m!+n!"
   ]
  },
  {
   "cell_type": "code",
   "execution_count": 14,
   "metadata": {},
   "outputs": [
    {
     "name": "stdout",
     "output_type": "stream",
     "text": [
      "请输入一个整数，以回车结束5\n",
      "请输入一个整数，以回车结束4\n",
      "25\n"
     ]
    }
   ],
   "source": [
    "m=int(input('请输入一个整数，以回车结束'))\n",
    "n=int(input('请输入一个整数，以回车结束'))\n",
    "def my_sum(m):\n",
    "    i=0\n",
    "    total_m=0\n",
    "    while i<m:\n",
    "        i=i+1\n",
    "        total_m=total_m+i\n",
    "    return total_m\n",
    "def my_sum(n):\n",
    "    a=0\n",
    "    total_n=0\n",
    "    while a<n:\n",
    "        a=a+1\n",
    "        total_n=total_n+a\n",
    "    return total_n\n",
    "def my_mul(m):\n",
    "    b=1\n",
    "    c=1\n",
    "    while b<m:\n",
    "        b=b+1\n",
    "        c=b*c\n",
    "    return c\n",
    "def my_mul(n):\n",
    "    d=1\n",
    "    e=1\n",
    "    while d<n:\n",
    "        d=d+1\n",
    "        e=e*d\n",
    "    return e\n",
    "if m>n:\n",
    "    print(my_sum(m)+ my_sum(n))\n",
    "else:\n",
    "    print(my_mul(m)+ my_mul(n))"
   ]
  },
  {
   "cell_type": "code",
   "execution_count": null,
   "metadata": {
    "collapsed": true
   },
   "outputs": [],
   "source": []
  }
 ],
 "metadata": {
  "kernelspec": {
   "display_name": "Python 3",
   "language": "python",
   "name": "python3"
  },
  "language_info": {
   "codemirror_mode": {
    "name": "ipython",
    "version": 3
   },
   "file_extension": ".py",
   "mimetype": "text/x-python",
   "name": "python",
   "nbconvert_exporter": "python",
   "pygments_lexer": "ipython3",
   "version": "3.6.2"
  }
 },
 "nbformat": 4,
 "nbformat_minor": 2
}
