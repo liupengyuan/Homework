{
 "cells": [
  {
   "cell_type": "code",
   "execution_count": 2,
   "metadata": {},
   "outputs": [
    {
     "name": "stdout",
     "output_type": "stream",
     "text": [
      "请输入你想求的整数个数，以回车结束。5\n",
      "请输入你想取的整数范围较小的数，以回车结束。10\n",
      "请输入你想取的整数范围较大的数，以回车结束500\n",
      "38.82009788756334\n"
     ]
    }
   ],
   "source": [
    "#用户从键盘输入数m,n,k,写函数，可利用计算机得到m个从n到k的随机整数。求这m个数和的平方根。\n",
    "import random,math\n",
    "def sum():\n",
    "    i=0\n",
    "    total=0\n",
    "    number=random.randint(n,k)\n",
    "    while i<m:\n",
    "        i +=1\n",
    "        total +=number\n",
    "        number=random.randint(n,k)\n",
    "    return total\n",
    "\n",
    "m=int(input('请输入你想求的整数个数，以回车结束。'))\n",
    "n=int(input('请输入你想取的整数范围较小的数，以回车结束。'))\n",
    "k=int(input('请输入你想取的整数范围较大的数,以回车结束。'))"
   ]
  },
  {
   "cell_type": "code",
   "execution_count": null,
   "metadata": {
    "collapsed": true
   },
   "outputs": [],
   "source": []
  },
  {
   "cell_type": "code",
   "execution_count": null,
   "metadata": {
    "collapsed": true
   },
   "outputs": [],
   "source": []
  }
 ],
 "metadata": {
  "kernelspec": {
   "display_name": "Python 3",
   "language": "python",
   "name": "python3"
  },
  "language_info": {
   "codemirror_mode": {
    "name": "ipython",
    "version": 3
   },
   "file_extension": ".py",
   "mimetype": "text/x-python",
   "name": "python",
   "nbconvert_exporter": "python",
   "pygments_lexer": "ipython3",
   "version": "3.6.2"
  }
 },
 "nbformat": 4,
 "nbformat_minor": 2
}
