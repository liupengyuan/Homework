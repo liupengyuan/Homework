{
 "cells": [
  {
   "cell_type": "code",
   "execution_count": 19,
   "metadata": {},
   "outputs": [
    {
     "name": "stdout",
     "output_type": "stream",
     "text": [
      "max= 899\n",
      "min= -10\n",
      "avg= 106.72999999999999\n"
     ]
    }
   ],
   "source": [
    "def max():\n",
    "    a = numbers[1]    \n",
    "    for i in numbers:\n",
    "        if i > a:\n",
    "            a = i\n",
    "    print('max=',a)\n",
    "\n",
    "def min():\n",
    "    a = numbers[1]    \n",
    "    for i in numbers:\n",
    "        if i < a:\n",
    "            a = i\n",
    "    print('min=',a) \n",
    "    \n",
    "def avg():\n",
    "    total = 0\n",
    "    n = len(numbers)\n",
    "    for number in numbers:\n",
    "        total += number\n",
    "    print('avg=',total / n)\n",
    "\n",
    "numbers = [1,2,-1,55,100,899,-10,3,12.5,5.8]\n",
    "max()\n",
    "min()\n",
    "avg()\n"
   ]
  },
  {
   "cell_type": "code",
   "execution_count": null,
   "metadata": {
    "collapsed": true
   },
   "outputs": [],
   "source": []
  }
 ],
 "metadata": {
  "kernelspec": {
   "display_name": "Python 3",
   "language": "python",
   "name": "python3"
  },
  "language_info": {
   "codemirror_mode": {
    "name": "ipython",
    "version": 3
   },
   "file_extension": ".py",
   "mimetype": "text/x-python",
   "name": "python",
   "nbconvert_exporter": "python",
   "pygments_lexer": "ipython3",
   "version": "3.6.2"
  }
 },
 "nbformat": 4,
 "nbformat_minor": 2
}
