{
 "cells": [
  {
   "cell_type": "code",
   "execution_count": 6,
   "metadata": {},
   "outputs": [
    {
     "name": "stdout",
     "output_type": "stream",
     "text": [
      "plz type a m:  4\n",
      "plz type a n:  5\n",
      "144\n"
     ]
    }
   ],
   "source": [
    "\n",
    "def my_sum(n):\n",
    "    total = 0\n",
    "    i = 0\n",
    "    while i < n:\n",
    "        i +=1\n",
    "        total += i\n",
    "    return total\n",
    "\n",
    "def my_mul(n):\n",
    "    total = 1\n",
    "    i = 1\n",
    "    while i < n:\n",
    "        i += 1\n",
    "        total *= i\n",
    "    return total\n",
    "\n",
    "a = int(input('plz type a m:  '))\n",
    "b = int(input('plz type a n:  '))\n",
    "if a > b:\n",
    "    print(my_sum(a) + my_sum(b))\n",
    "else:\n",
    "    print(my_mul(a) + my_mul(b))"
   ]
  },
  {
   "cell_type": "code",
   "execution_count": null,
   "metadata": {
    "collapsed": true
   },
   "outputs": [],
   "source": []
  },
  {
   "cell_type": "code",
   "execution_count": null,
   "metadata": {
    "collapsed": true
   },
   "outputs": [],
   "source": []
  }
 ],
 "metadata": {
  "kernelspec": {
   "display_name": "Python 3",
   "language": "python",
   "name": "python3"
  },
  "language_info": {
   "codemirror_mode": {
    "name": "ipython",
    "version": 3
   },
   "file_extension": ".py",
   "mimetype": "text/x-python",
   "name": "python",
   "nbconvert_exporter": "python",
   "pygments_lexer": "ipython3",
   "version": "3.6.2"
  }
 },
 "nbformat": 4,
 "nbformat_minor": 2
}
