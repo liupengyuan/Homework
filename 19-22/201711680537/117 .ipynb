{
 "cells": [
  {
   "cell_type": "code",
   "execution_count": 2,
   "metadata": {},
   "outputs": [
    {
     "name": "stdout",
     "output_type": "stream",
     "text": [
      "how many?  5\n",
      "range 1:  10\n",
      "range 2:  500\n",
      "12.605554331325537\n"
     ]
    }
   ],
   "source": [
    "def sumup(m,n,k):\n",
    "    i = 0\n",
    "    total = 0\n",
    "    while i  < m:\n",
    "        import random\n",
    "        a = random.randint(n,k)\n",
    "        total += a\n",
    "        i += 1\n",
    "    print((total/n)**(1/2))\n",
    "    \n",
    "num = int(input('how many?  '))\n",
    "range_1 = int(input('range 1:  '))\n",
    "range_2 = int(input('range 2:  '))\n",
    "\n",
    "if range_1 < range_2:\n",
    "    sumup(num,range_1,range_2)\n",
    "elif range_1 > range_2:\n",
    "    sumup(num,range_2,range_1)\n",
    "else:\n",
    "    print('wrong!')\n",
    "\n"
   ]
  },
  {
   "cell_type": "code",
   "execution_count": null,
   "metadata": {
    "collapsed": true
   },
   "outputs": [],
   "source": []
  }
 ],
 "metadata": {
  "kernelspec": {
   "display_name": "Python 3",
   "language": "python",
   "name": "python3"
  },
  "language_info": {
   "codemirror_mode": {
    "name": "ipython",
    "version": 3
   },
   "file_extension": ".py",
   "mimetype": "text/x-python",
   "name": "python",
   "nbconvert_exporter": "python",
   "pygments_lexer": "ipython3",
   "version": "3.6.2"
  }
 },
 "nbformat": 4,
 "nbformat_minor": 2
}
