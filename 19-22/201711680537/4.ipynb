{
 "cells": [
  {
   "cell_type": "code",
   "execution_count": 4,
   "metadata": {},
   "outputs": [
    {
     "name": "stdout",
     "output_type": "stream",
     "text": [
      "plz type a number:  5\n",
      "plz type a number:  6\n",
      "plz type a number:  7\n",
      "sumup:   5880\n"
     ]
    }
   ],
   "source": [
    "#练习 1：仿照求$ \\sum_{i=1}^mi + \\sum_{i=1}^ni  + \\sum_{i=1}^ki$的完整代码，写程序，可求m!+n!+k!\n",
    "def mul(a):\n",
    "    i = 0\n",
    "    total = 1\n",
    "    while i < a:\n",
    "        i = i + 1\n",
    "        total = total * i\n",
    "    return total\n",
    "\n",
    "m = int(input('plz type a number:  '))\n",
    "n = int(input('plz type a number:  '))\n",
    "k = int(input('plz type a number:  '))\n",
    "\n",
    "print('sumup:  ', mul(m) + mul(n) + mul(k))"
   ]
  },
  {
   "cell_type": "code",
   "execution_count": 19,
   "metadata": {},
   "outputs": [
    {
     "name": "stdout",
     "output_type": "stream",
     "text": [
      "3.140592653839794  3.1415826535897198\n"
     ]
    }
   ],
   "source": [
    "#练习 2：写函数可返回1 - 1/3 + 1/5 - 1/7...的前n项的和。在主程序中，分别令n=1000及100000，打印4倍该函数的和。\n",
    "def sumup(n):\n",
    "    i = 0\n",
    "    total = 0\n",
    "    while i < n:\n",
    "        a = (-1)**i\n",
    "        b =  1/(2*i+1)\n",
    "        total += a*b\n",
    "        i += 1\n",
    "    return total    \n",
    "\n",
    "\n",
    "c = float(sumup(1000))*4\n",
    "d = float(sumup(100000))*4\n",
    "print(c , d , sep = ('  '))"
   ]
  },
  {
   "cell_type": "code",
   "execution_count": 6,
   "metadata": {},
   "outputs": [
    {
     "name": "stdout",
     "output_type": "stream",
     "text": [
      "plz type ur name:  A\n",
      "请输入你的出生月份:  12\n",
      "请输入你的出生日：  36\n",
      "Wrong!\n"
     ]
    }
   ],
   "source": [
    "#练习 3：将task3中的练习1及练习4改写为函数，并进行调用。\n",
    "\n",
    "\n",
    "#task3 练习1\n",
    "def o(name,month,day):\n",
    "    if month == 1 and 1<= day <= 19:\n",
    "        print(name,'你是现实的摩羯座！')\n",
    "    elif month == 1 and 20<= day <= 31 :\n",
    "        print(name,'你是博爱的水瓶座！')\n",
    "    elif month == 2 and 21<= day <= 18:\n",
    "        print(name,'你是博爱的水瓶座！')\n",
    "    elif month == 2 and 19<= day <= 29:\n",
    "        print(name,'你是浪漫的双鱼座！')\n",
    "    elif month == 3 and 1<= day <= 20:\n",
    "        print(name,'你是浪漫的双鱼座！')\n",
    "    elif month == 3 and 21<= day <= 31:\n",
    "        print(name,'你是热情的白羊座！')\n",
    "    elif month == 4 and 1<= day <= 19:\n",
    "        print(name,'你是热情的白羊座！')\n",
    "    elif month == 4 and 20<= day <= 30:\n",
    "        print(name,'你是稳健的金牛座！')\n",
    "    elif month == 5 and 1<= day <= 20:\n",
    "        print(name,'你是稳健的金牛座！')\n",
    "    elif month == 5 and 21<= day <= 31:\n",
    "        print(name,'你是花心的双子座！')\n",
    "    elif month == 6 and 1<= day <= 21:\n",
    "        print(name,'你是花心的双子座！')\n",
    "    elif month == 6 and 22<= day <= 31:\n",
    "        print(name,'你是敏感的巨蟹座！')\n",
    "    elif month == 7 and 1<= day <= 22:\n",
    "        print(name,'你是敏感的巨蟹座！')\n",
    "    elif month == 7 and 23<= day <= 31:\n",
    "        print(name,'你是骄傲的狮子座！')  \n",
    "    elif month == 8 and 1<= day <= 22:\n",
    "        print(name,'你是骄傲的狮子座！')\n",
    "    elif month == 8 and 23<= day <= 31:\n",
    "        print(name,'你是理性的处女座！')\n",
    "    elif month == 9 and 1<= day <= 22:\n",
    "        print(name,'你是理性的处女座！')\n",
    "    elif month == 9 and 23<= day <= 30:\n",
    "        print(name,'你是公平的天秤座！')\n",
    "    elif month == 10 and 1<= day <= 23:\n",
    "        print(name,'你是公平的天秤座！')\n",
    "    elif month == 10 and 24<= day <= 31:\n",
    "        print(name,'你是神秘的天蝎座！')\n",
    "    elif month == 11 and 1<= day <= 22:\n",
    "        print(name,'你是神秘的天蝎座！')\n",
    "    elif month == 11 and 23<= day <= 30:\n",
    "        print(name,'你是自由的射手座！')\n",
    "    elif month == 12 and 1<= day <= 21:\n",
    "        print(name,'你是自由的射手座！')\n",
    "    elif month == 12 and 22<= day <= 31:\n",
    "        print(name,'你是现实的摩羯座！')\n",
    "    else:\n",
    "        print('Wrong!')\n",
    "    \n",
    "n = input('plz type ur name:  ')\n",
    "m = int(input('请输入你的出生月份:  '))\n",
    "d = int(input('请输入你的出生日：  '))\n",
    "o(n,m,d) "
   ]
  },
  {
   "cell_type": "code",
   "execution_count": 8,
   "metadata": {},
   "outputs": [
    {
     "name": "stdout",
     "output_type": "stream",
     "text": [
      "plz type a word:  knife\n",
      "去掉f， fe 加ves\n"
     ]
    }
   ],
   "source": [
    "#练习 3：将task3中的练习1及练习4改写为函数，并进行调用。\n",
    "\n",
    "\n",
    "#task3 练习4\n",
    "def word(a):\n",
    "    b = a.endswith('ch')\n",
    "    c = a.endswith('sh')\n",
    "    d = a.endswith('s')\n",
    "    e = a.endswith('x')\n",
    "    f = a.endswith('by')\n",
    "    g = a.endswith('ky')\n",
    "    h = a.endswith('ty')\n",
    "    i = a.endswith('f')\n",
    "    j = a.endswith('fe')\n",
    "\n",
    "    if b or c or d or e == True:\n",
    "        print(a,'es',sep = '')\n",
    "    elif f or g or h   == True:\n",
    "        print('变y为i加es')\n",
    "    elif i or j == True:\n",
    "        print('去掉f， fe 加ves')\n",
    "    else:\n",
    "        print(a,'s',sep = '')\n",
    "   \n",
    "x = str(input('plz type a word:  '))\n",
    "word(x)"
   ]
  },
  {
   "cell_type": "code",
   "execution_count": 5,
   "metadata": {},
   "outputs": [
    {
     "name": "stdout",
     "output_type": "stream",
     "text": [
      "plz type a m:  1\n",
      "plz type a n:  10\n",
      "plz type a k:  3\n",
      "22\n"
     ]
    }
   ],
   "source": [
    "def sumup(i,end,k):\n",
    "    total = i\n",
    "    while i < end :\n",
    "        i += k\n",
    "        total = total + i\n",
    "    return total\n",
    "\n",
    "m = int(input('plz type a m:  '))\n",
    "n = int(input('plz type a n:  '))\n",
    "k = int(input('plz type a k:  '))\n",
    "if m < n:\n",
    "    a = m\n",
    "    b = n\n",
    "else:\n",
    "    b = m\n",
    "    a = n\n",
    "print(sumup(a,b,k))\n",
    "    "
   ]
  },
  {
   "cell_type": "code",
   "execution_count": null,
   "metadata": {
    "collapsed": true
   },
   "outputs": [],
   "source": []
  },
  {
   "cell_type": "code",
   "execution_count": null,
   "metadata": {
    "collapsed": true
   },
   "outputs": [],
   "source": []
  }
 ],
 "metadata": {
  "kernelspec": {
   "display_name": "Python 3",
   "language": "python",
   "name": "python3"
  },
  "language_info": {
   "codemirror_mode": {
    "name": "ipython",
    "version": 3
   },
   "file_extension": ".py",
   "mimetype": "text/x-python",
   "name": "python",
   "nbconvert_exporter": "python",
   "pygments_lexer": "ipython3",
   "version": "3.6.2"
  }
 },
 "nbformat": 4,
 "nbformat_minor": 2
}
