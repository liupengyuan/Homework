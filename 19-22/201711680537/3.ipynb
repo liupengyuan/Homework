{
 "cells": [
  {
   "cell_type": "code",
   "execution_count": 1,
   "metadata": {},
   "outputs": [
    {
     "name": "stdout",
     "output_type": "stream",
     "text": [
      "plz type ur name:  A\n",
      "请输入你的出生月份:  12\n",
      "请输入你的出生日：  11\n",
      "A 你是自由的射手座！\n"
     ]
    }
   ],
   "source": [
    "#练习 1：写程序，可由键盘读入用户姓名例如Mr. right，让用户输入出生的月份与日期，判断用户星座，假设用户是金牛座，则输出，Mr. right，你是非常有性格的金牛座！。\n",
    "name = input('plz type ur name:  ')\n",
    "month = int(input('请输入你的出生月份:  '))\n",
    "day = int(input('请输入你的出生日：  '))\n",
    "if month == 1 and 1<= day <= 19:\n",
    "    print(name,'你是现实的摩羯座！')\n",
    "elif month == 1 and 20<= day <= 31 :\n",
    "    print(name,'你是博爱的水瓶座！')\n",
    "elif month == 2 and 21<= day <= 18:\n",
    "    print(name,'你是博爱的水瓶座！')\n",
    "elif month == 2 and 19<= day <= 29:\n",
    "    print(name,'你是浪漫的双鱼座！')\n",
    "elif month == 3 and 1<= day <= 20:\n",
    "    print(name,'你是浪漫的双鱼座！')\n",
    "elif month == 3 and 21<= day <= 31:\n",
    "    print(name,'你是热情的白羊座！')\n",
    "elif month == 4 and 1<= day <= 19:\n",
    "    print(name,'你是热情的白羊座！')\n",
    "elif month == 4 and 20<= day <= 30:\n",
    "    print(name,'你是稳健的金牛座！')\n",
    "elif month == 5 and 1<= day <= 20:\n",
    "    print(name,'你是稳健的金牛座！')\n",
    "elif month == 5 and 21<= day <= 31:\n",
    "    print(name,'你是花心的双子座！')\n",
    "elif month == 6 and 1<= day <= 21:\n",
    "    print(name,'你是花心的双子座！')\n",
    "elif month == 6 and 22<= day <= 31:\n",
    "    print(name,'你是敏感的巨蟹座！')\n",
    "elif month == 7 and 1<= day <= 22:\n",
    "    print(name,'你是敏感的巨蟹座！')\n",
    "elif month == 7 and 23<= day <= 31:\n",
    "    print(name,'你是骄傲的狮子座！')  \n",
    "elif month == 8 and 1<= day <= 22:\n",
    "    print(name,'你是骄傲的狮子座！')\n",
    "elif month == 8 and 23<= day <= 31:\n",
    "    print(name,'你是理性的处女座！')\n",
    "elif month == 9 and 1<= day <= 22:\n",
    "    print(name,'你是理性的处女座！')\n",
    "elif month == 9 and 23<= day <= 30:\n",
    "    print(name,'你是公平的天秤座！')\n",
    "elif month == 10 and 1<= day <= 23:\n",
    "    print(name,'你是公平的天秤座！')\n",
    "elif month == 10 and 24<= day <= 31:\n",
    "    print(name,'你是神秘的天蝎座！')\n",
    "elif month == 11 and 1<= day <= 22:\n",
    "    print(name,'你是神秘的天蝎座！')\n",
    "elif month == 11 and 23<= day <= 30:\n",
    "    print(name,'你是自由的射手座！')\n",
    "elif month == 12 and 1<= day <= 21:\n",
    "    print(name,'你是自由的射手座！')\n",
    "elif month == 12 and 22<= day <= 31:\n",
    "    print(name,'你是现实的摩羯座！')"
   ]
  },
  {
   "cell_type": "code",
   "execution_count": 1,
   "metadata": {},
   "outputs": [
    {
     "name": "stdout",
     "output_type": "stream",
     "text": [
      "plz type a num:  2\n",
      "plz type a num again:  5\n",
      "如果要和，输1；如果要积，输2；如果要余数，输3；如果不要这些，输4：   2\n",
      "120\n"
     ]
    }
   ],
   "source": [
    "#练习 2：写程序，可由键盘读入两个整数m与n(n不等于0)，询问用户意图，如果要求和则计算从m到n的和输出，如果要乘积则计算从m到n的积并输出，如果要求余数则计算m除以n的余数的值并输出，否则则计算m整除n的值并输出。\n",
    "m = int(input('plz type a num:  '))\n",
    "n = int(input('plz type a num again:  '))\n",
    "a = int(input('如果要和，输1；如果要积，输2；如果要余数，输3；如果不要这些，输4：   '))\n",
    "if a == 1:\n",
    "    i = m\n",
    "    sumup = 0\n",
    "    while i <= n :\n",
    "        sumup += i\n",
    "        i += 1\n",
    "    print(sumup)\n",
    "elif a == 2:\n",
    "    p = m\n",
    "    total = 1\n",
    "    while p <= n :\n",
    "        total *= p\n",
    "        p += 1\n",
    "    print(total)\n",
    "elif a == 3:\n",
    "    print(m%n)\n",
    "elif a == 4:\n",
    "    print(m//n)\n"
   ]
  },
  {
   "cell_type": "code",
   "execution_count": 2,
   "metadata": {},
   "outputs": [
    {
     "name": "stdout",
     "output_type": "stream",
     "text": [
      "plz type a word:  study\n",
      "变y为i加es\n"
     ]
    }
   ],
   "source": [
    "#练习 4：英文单词单数转复数，要求输入一个英文动词（单数形式），能够得到其复数形式，或给出单数转复数形式的建议\n",
    "a = str(input('plz type a word:  '))\n",
    "b = a.endswith('ch')\n",
    "c = a.endswith('sh')\n",
    "d = a.endswith('s')\n",
    "e = a.endswith('x')\n",
    "f = a.endswith('by')\n",
    "g = a.endswith('ky')\n",
    "h = a.endswith('ty')\n",
    "i = a.endswith('ly')\n",
    "j = a.endswith('cy')\n",
    "k = a.endswith('my')\n",
    "l = a.endswith('dy')\n",
    "m = a.endswith('py')\n",
    "n = a.endswith('gy')\n",
    "o = a.endswith('vy')\n",
    "p = a.endswith('ry')\n",
    "q = a.endswith('sy')\n",
    "\n",
    "if b or c or d or e == True:\n",
    "    print(a,'es',sep = '')\n",
    "elif f or g or h or i or j or k or l or m or n or o or p or q == True:\n",
    "    print('变y为i加es')\n",
    "else:\n",
    "    print(a,'s',sep = '')"
   ]
  },
  {
   "cell_type": "code",
   "execution_count": 5,
   "metadata": {},
   "outputs": [
    {
     "name": "stdout",
     "output_type": "stream",
     "text": [
      " \n"
     ]
    }
   ],
   "source": [
    "#尝试性练习：写程序，能够在屏幕上显示空行。\n",
    "print(' ')"
   ]
  }
 ],
 "metadata": {
  "kernelspec": {
   "display_name": "Python 3",
   "language": "python",
   "name": "python3"
  },
  "language_info": {
   "codemirror_mode": {
    "name": "ipython",
    "version": 3
   },
   "file_extension": ".py",
   "mimetype": "text/x-python",
   "name": "python",
   "nbconvert_exporter": "python",
   "pygments_lexer": "ipython3",
   "version": "3.6.2"
  }
 },
 "nbformat": 4,
 "nbformat_minor": 2
}
