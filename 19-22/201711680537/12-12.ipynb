{
 "cells": [
  {
   "cell_type": "code",
   "execution_count": 2,
   "metadata": {},
   "outputs": [
    {
     "name": "stdout",
     "output_type": "stream",
     "text": [
      "一共有 1251 个字\n",
      "运对穿缪锋木壮色顾优\n",
      " \n",
      "七虫应奂线府咤己锁走焚作裹颐行镳斗顾移吹\n",
      " \n",
      "昔吉闻龙菲愤吉夏晨面电隙集诣丧衰义眩儒假栩蜀睫陈尸惑茕悚臼尊\n",
      " \n",
      "掩络赤渴总桑胡田丽司出来市筹钟神子禁柴青斑肆置分逐情涯然迫贻答借秽画绕友捉仆誉典\n",
      " \n",
      "弓三举粉雨急郸来放志纸归合鸠若逍疵晷图尔沆讳多庸看疵虎随璧惭阳绸国制惯臼生缝亢秣臼口喘突寒凿化致然猴\n",
      " \n",
      "翅抽锁戚魍卑股楼荣始蜃歌任篇诣看网蝉沧南义随惺桃事雀柯价噤踽问鸠鼻骨糊络忌苟柱覆度遇碑合精绌射年蝇鼓嚣瓴宠霸姬覆闺雀肉薄\n",
      " \n",
      "乱兵淑动程桃酸倒摸红竹饮宠足蛾编满战灵寒舟砖织货间立平蛇缨鹄徙谈放角联沉添秒完鼠铃远算璧掩所病法君取西迷锱断郎簇会徒陇聋如眼颖止钧光色王甘孤\n",
      " \n",
      "伦岸裹簪按杯逐琳四喘插恒琅门衰毓黔郎体弄难腋诨直神始骄理柴墙堂自蛛狮衣琴语皆抗辕雾惺蛙乾喑李亭对绿曾华泣逢福斗兰独铃打参庸首飘编暗癖逢惺诣枪酸青休维辙因倾苛及簪\n",
      " \n",
      "纵舌颜登巷怒机眉饮打取建敬沽哀雨鼓窕委中行碧虹朝画尽碑绿海先嚎诱漓乱将侃窟男鲤安态悛赶耻荼魅惶于英眼母乾发盲乎苒伥眼肥蜀现疵府仪筹诺哭峰殊仙于得幄打噤惑侃月想魏猫杯墙纸眩由帝恢反病\n",
      " \n",
      "甜潭问岸乱发小吃欲联比泪绌养恢主心打古鹊尘国貂色休倦巫座历荦坤打杞宜带振沙悛恐莫加蝉冕永淡舞枪远凰鼓望目鼎颖骇仇毛犀尊尊西阻覆双扬盲怨线阿刀诸覆英技淘眉杯\n",
      "知囊巢平壳沉非悬离到股斗改主虫独右固衣鼠沆虫\n",
      " \n"
     ]
    }
   ],
   "source": [
    "import random\n",
    "\n",
    "fh = open(r'd:\\temp\\idioms.txt')\n",
    "text = fh.read()\n",
    "fh.close()\n",
    "\n",
    "ch_table = []\n",
    "for ch in text:\n",
    "    if ch not in ch_table:\n",
    "        ch_table.append(ch)\n",
    "print('一共有',len(ch_table),'个字')\n",
    "\n",
    "newline = []\n",
    "i = 1\n",
    "while i <= 10:\n",
    "    for a in range(100):\n",
    "        newline.append(random.choice(ch_table))\n",
    "        newlinestr = ''.join(newline)\n",
    "        if len(newline) == i*10:\n",
    "            print(newlinestr)\n",
    "            print(' ')\n",
    "            #name = 'd:\\temp\\'+ i + '.txt'              本来是这样写的，但是报错EOL while scanning string literal\n",
    "            #fh = open(name,'w')                        呜呜呜实在不知道怎么写qaqqqqq  辛苦助教判作业了！\n",
    "            #fh.close()\n",
    "            del newline[:]\n",
    "            i += 1"
   ]
  },
  {
   "cell_type": "code",
   "execution_count": null,
   "metadata": {
    "collapsed": true
   },
   "outputs": [],
   "source": []
  }
 ],
 "metadata": {
  "kernelspec": {
   "display_name": "Python 3",
   "language": "python",
   "name": "python3"
  },
  "language_info": {
   "codemirror_mode": {
    "name": "ipython",
    "version": 3
   },
   "file_extension": ".py",
   "mimetype": "text/x-python",
   "name": "python",
   "nbconvert_exporter": "python",
   "pygments_lexer": "ipython3",
   "version": "3.6.2"
  }
 },
 "nbformat": 4,
 "nbformat_minor": 2
}
