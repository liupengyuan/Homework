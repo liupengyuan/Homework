{
 "cells": [
  {
   "cell_type": "code",
   "execution_count": 6,
   "metadata": {},
   "outputs": [
    {
     "name": "stdout",
     "output_type": "stream",
     "text": [
      "how many?  3\n",
      "range 1:  4\n",
      "range 2:  8\n",
      "2.449489742783178\n"
     ]
    }
   ],
   "source": [
    "#练习 1：写函数，求n个随机整数均值的平方根，整数范围在m与k之间（n,m,k由用户输入）。\n",
    "import random\n",
    "def sumup(n,m,k):\n",
    "    i = 0\n",
    "    total = 0\n",
    "    while i  < n:\n",
    "        a = random.randint(m,k)\n",
    "        total += a\n",
    "        i += 1\n",
    "    print((total/n)**(1/2))\n",
    "\n",
    "num = int(input('how many?  '))\n",
    "range_1 = int(input('range 1:  '))\n",
    "range_2 = int(input('range 2:  '))    \n",
    "\n",
    "if range_1 < range_2:\n",
    "    sumup(num,range_1,range_2)\n",
    "elif range_1 > range_2:\n",
    "    sumup(num,range_2,range_1)\n",
    "else:\n",
    "    print('wrong!')"
   ]
  },
  {
   "cell_type": "code",
   "execution_count": 15,
   "metadata": {},
   "outputs": [
    {
     "name": "stdout",
     "output_type": "stream",
     "text": [
      "how many?  5\n",
      "range 1:  10\n",
      "range 2:  100\n",
      "1   20.973811925685634\n",
      "2   1.311415180758829\n"
     ]
    }
   ],
   "source": [
    "#练习 2：写函数，共n个随机整数，整数范围在m与k之间，（n,m,k由用户输入）。求1：西格玛log(随机整数)，2：西格玛1/log(随机整数)\n",
    "\n",
    "import random,math\n",
    "def sumup1(n,m,k):\n",
    "    i = 0\n",
    "    total = 0\n",
    "    while i  < n:\n",
    "        a = random.randint(m,k)\n",
    "        total += math.log(a)\n",
    "        i += 1\n",
    "    return total\n",
    "\n",
    "def sumup2(n,m,k):\n",
    "    i = 0\n",
    "    total = 0\n",
    "    while i  < n:\n",
    "        a = random.randint(m,k)\n",
    "        b = math.log(a)\n",
    "        total += 1/b\n",
    "        i += 1\n",
    "    return total\n",
    "    \n",
    "num = int(input('how many?  '))\n",
    "range_1 = int(input('range 1:  '))\n",
    "range_2 = int(input('range 2:  '))\n",
    "\n",
    "if range_1 < range_2:\n",
    "    print('1  ',sumup1(num,range_1,range_2))\n",
    "    print('2  ',sumup2(num,range_1,range_2))\n",
    "elif range_1 > range_2:\n",
    "    print('1  ',sumup1(num,range_2,range_1))\n",
    "    print('2  ',sumup2(num,range_2,range_1))\n",
    "else:\n",
    "    print('wrong!')"
   ]
  },
  {
   "cell_type": "code",
   "execution_count": 34,
   "metadata": {},
   "outputs": [
    {
     "name": "stdout",
     "output_type": "stream",
     "text": [
      "how many?  6\n",
      "sumup 617280\n"
     ]
    }
   ],
   "source": [
    "#练习 3：写函数，求s=a+aa+aaa+aaaa+aa...a的值，其中a是[1,9]之间的随机整数。例如2+22+222+2222+22222(此时共有5个数相加)，几个数相加由键盘输入。\n",
    "import random\n",
    "num = int(input('how many?  '))\n",
    "i = 0\n",
    "a = random.randint(1,9)\n",
    "s = 0\n",
    "aa = 0\n",
    "b = 0\n",
    "while  i <= num:\n",
    "    s += aa\n",
    "    i += 1\n",
    "    while b < i:\n",
    "        aa += a*(10**b)\n",
    "        b += 1\n",
    "        break\n",
    "\n",
    "print('sumup',s)"
   ]
  },
  {
   "cell_type": "code",
   "execution_count": 4,
   "metadata": {},
   "outputs": [
    {
     "name": "stdout",
     "output_type": "stream",
     "text": [
      "\n",
      "         ----------------------\n",
      "                 1.direction\n",
      "                 2.game\n",
      "                 3.quit\n",
      "                 4.team\n",
      "          ----------------------\n",
      "          \n",
      "what r u going to do?  2\n",
      "我能猜的次数？  5\n",
      "想的整数的上界？ 600\n",
      "想的整数的下界？ 1\n",
      "213\n",
      "如果对了，输0；如果大了，输1;如果小了，输2；如果退出，输3   2\n",
      "剩余次数：   4\n",
      "413\n",
      "如果对了，输0；如果大了，输1;如果小了，输2；如果退出，输3   1\n",
      "剩余次数：   3\n",
      "366\n",
      "如果对了，输0；如果大了，输1;如果小了，输2；如果退出，输3   1\n",
      "剩余次数：   2\n",
      "284\n",
      "如果对了，输0；如果大了，输1;如果小了，输2；如果退出，输3   1\n",
      "剩余次数：   1\n",
      "265\n",
      "如果对了，输0；如果大了，输1;如果小了，输2；如果退出，输3   1\n",
      "剩余次数：   0\n",
      "呜呜呜 :(\n",
      "掰掰 \n"
     ]
    }
   ],
   "source": [
    "import random,math\n",
    "def win():\n",
    "    print('嘻嘻嘻 ')\n",
    "\n",
    "def lose():\n",
    "    print('呜呜呜 :(')\n",
    "    \n",
    "def over():\n",
    "    print('掰掰 ')\n",
    "    \n",
    "def team():\n",
    "    print('hhhhh')\n",
    "    \n",
    "def direction():\n",
    "    print('假装打了说明嘻嘻嘻')\n",
    "    \n",
    "    \n",
    "def menu():\n",
    "    print('''\n",
    "         ----------------------\n",
    "                 1.direction\n",
    "                 2.game\n",
    "                 3.quit\n",
    "                 4.team\n",
    "          ----------------------\n",
    "          ''')\n",
    "\n",
    "def game():\n",
    "    n = int(input('我能猜的次数？  '))\n",
    "    i = 1\n",
    "    range_1 = int(input('想的整数的上界？ '))\n",
    "    range_2 = int(input('想的整数的下界？ '))\n",
    "    up = range_1\n",
    "    down = range_2\n",
    "    while i <= n:\n",
    "        guess = random.randint(down,up)\n",
    "        print(guess)\n",
    "        a = int(input('如果对了，输0；如果大了，输1;如果小了，输2；如果退出，输3   '))\n",
    "        if a == 0:\n",
    "            win()\n",
    "            break\n",
    "        elif a == 1:\n",
    "            up = guess - 1\n",
    "            print('剩余次数：  ',n-i)\n",
    "        elif  a == 2:\n",
    "            down = guess - 1\n",
    "            print('剩余次数：  ',n-i)\n",
    "        elif a == 3:\n",
    "            over()\n",
    "            break\n",
    "        i += 1\n",
    "        \n",
    "    else:\n",
    "        lose()\n",
    "        over()\n",
    "            \n",
    "\n",
    "menu()\n",
    "c = int(input('what r u going to do?  '))\n",
    "if c == 1:\n",
    "    direction()\n",
    "elif c == 2:\n",
    "    game()\n",
    "elif c == 3:\n",
    "    over()\n",
    "elif c == 4:\n",
    "    team()\n",
    "                    \n"
   ]
  },
  {
   "cell_type": "code",
   "execution_count": null,
   "metadata": {
    "collapsed": true
   },
   "outputs": [],
   "source": []
  }
 ],
 "metadata": {
  "kernelspec": {
   "display_name": "Python 3",
   "language": "python",
   "name": "python3"
  }
 },
 "nbformat": 4,
 "nbformat_minor": 2
}
