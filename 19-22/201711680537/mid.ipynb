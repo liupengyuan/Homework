{
 "cells": [
  {
   "cell_type": "code",
   "execution_count": 3,
   "metadata": {},
   "outputs": [
    {
     "name": "stdout",
     "output_type": "stream",
     "text": [
      "plz type a number:  3\n"
     ]
    },
    {
     "data": {
      "text/plain": [
       "10"
      ]
     },
     "execution_count": 3,
     "metadata": {},
     "output_type": "execute_result"
    }
   ],
   "source": [
    "#1：\n",
    "def sumup(m):\n",
    "    total = 0\n",
    "    i = 1\n",
    "    a = 0\n",
    "    while i <= m:\n",
    "        a += i\n",
    "        i += 1\n",
    "        total +=a\n",
    "    return total\n",
    "\n",
    "m = int(input('plz type a number:  '))\n",
    "sumup(m)\n",
    "    "
   ]
  },
  {
   "cell_type": "code",
   "execution_count": 18,
   "metadata": {},
   "outputs": [
    {
     "name": "stdout",
     "output_type": "stream",
     "text": [
      "plz type a sym:  *\n",
      "plz type the line:  5\n"
     ]
    }
   ],
   "source": [
    "#2\n",
    "def prt(sym,line):\n",
    "    i = 0\n",
    "    n = 0\n",
    "while i < line:\n",
    "    n = 2*i+1\n",
    "    print('{:sym^n}'.format(sym))\n",
    "    i += 1\n",
    "    n += 1\n",
    "\n",
    "\n",
    "sym = input('plz type a sym:  ')\n",
    "line = int(input('plz type the line:  '))\n",
    "prt(sym,line)   "
   ]
  },
  {
   "cell_type": "code",
   "execution_count": 22,
   "metadata": {},
   "outputs": [
    {
     "name": "stdout",
     "output_type": "stream",
     "text": [
      "plz type a num：48723478234432\n",
      "4\n"
     ]
    }
   ],
   "source": [
    "#3\n",
    "def f(x):\n",
    "    a = x//(10**13)\n",
    "    print(a)\n",
    "\n",
    "b = int(input('plz type a num：'))\n",
    "f(b)\n",
    "\n",
    "    \n",
    "    "
   ]
  },
  {
   "cell_type": "code",
   "execution_count": 8,
   "metadata": {},
   "outputs": [
    {
     "name": "stdout",
     "output_type": "stream",
     "text": [
      "plz type the height:  183\n",
      "plz type the height:  185\n",
      "plz type the height:  183\n",
      "plz type the height:  187\n",
      "plz type the height:  178\n",
      "plz type the height:  175\n",
      "plz type the height:  177\n",
      "plz type the height:  190\n",
      "plz type the height:  172\n",
      "高于平均值： 183\n",
      "高于平均值： 185\n",
      "高于平均值： 183\n",
      "高于平均值： 187\n",
      "高于平均值： 190\n",
      "平均值： 181.11111111111111\n"
     ]
    }
   ],
   "source": [
    "#4\n",
    "list = []\n",
    "i = 0\n",
    "n = 0\n",
    "total = 0\n",
    "while i < 9:\n",
    "    pl = int(input('plz type the height:  '))\n",
    "    list.append(pl)\n",
    "    i += 1 \n",
    "    avg = sum(list)/9\n",
    "for num in list:\n",
    "    if num > avg:\n",
    "        print('高于平均值：',num)\n",
    "print('平均值：',avg)"
   ]
  },
  {
   "cell_type": "code",
   "execution_count": 3,
   "metadata": {},
   "outputs": [
    {
     "name": "stdout",
     "output_type": "stream",
     "text": [
      "5+6=?\n",
      "plz type your answer:11\n",
      "9+1=?\n",
      "plz type your answer:10\n",
      "9+10=?\n",
      "plz type your answer:19\n",
      "6+5=?\n",
      "plz type your answer:11\n",
      "9+6=?\n",
      "plz type your answer:15\n",
      "得分为 100\n"
     ]
    }
   ],
   "source": [
    "#5\n",
    "import random\n",
    "i = 0\n",
    "sum = 0\n",
    "while i < 5:\n",
    "    a = random.randint(0,10)\n",
    "    b = random.randint(0,10)\n",
    "    print(a,'+',b,'=?',sep = '')\n",
    "    c = int(input('plz type your answer:'))\n",
    "    if c == a+b:\n",
    "        sum += 20\n",
    "    i += 1\n",
    "print('得分为',sum)       "
   ]
  },
  {
   "cell_type": "code",
   "execution_count": 13,
   "metadata": {},
   "outputs": [
    {
     "name": "stdout",
     "output_type": "stream",
     "text": [
      "[108, -76, 34, 9, -5, 3, -76]\n"
     ]
    }
   ],
   "source": [
    "#6\n",
    "def max(numbers):\n",
    "    a = numbers[1]    \n",
    "    for i in numbers:\n",
    "        if i > a:\n",
    "            a = i\n",
    "    return a\n",
    "\n",
    "def min(numbers):\n",
    "    a = numbers[1]    \n",
    "    for i in numbers:\n",
    "        if i < a:\n",
    "            a = i\n",
    "    return a \n",
    "\n",
    "numbers=[3,-5,9,108,34,-76,88]\n",
    "mx = max(numbers)\n",
    "mn = min(numbers)\n",
    "a = numbers.index(mx)\n",
    "b = numbers.index(mn)\n",
    "del numbers[a]\n",
    "del numbers[b]\n",
    "numbers.append(mx)\n",
    "numbers.reverse()\n",
    "numbers.append(mn)\n",
    "print(numbers)"
   ]
  },
  {
   "cell_type": "code",
   "execution_count": null,
   "metadata": {
    "collapsed": true
   },
   "outputs": [],
   "source": []
  }
 ],
 "metadata": {
  "kernelspec": {
   "display_name": "Python 3",
   "language": "python",
   "name": "python3"
  },
  "language_info": {
   "codemirror_mode": {
    "name": "ipython",
    "version": 3
   },
   "file_extension": ".py",
   "mimetype": "text/x-python",
   "name": "python",
   "nbconvert_exporter": "python",
   "pygments_lexer": "ipython3",
   "version": "3.6.2"
  }
 },
 "nbformat": 4,
 "nbformat_minor": 2
}
