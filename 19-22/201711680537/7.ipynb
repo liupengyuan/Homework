{
 "cells": [
  {
   "cell_type": "code",
   "execution_count": 5,
   "metadata": {},
   "outputs": [
    {
     "name": "stdout",
     "output_type": "stream",
     "text": [
      "原字符串：  1,2,3,4,5\n",
      "倒序字符串：5,4,3,2,1"
     ]
    }
   ],
   "source": [
    "#练习一：自己定义一个reverse(s)函数，功能返回字符串s的倒序字符串。\n",
    "def reverse(s):\n",
    "    for i in range(len(s)-1,-1,-1):\n",
    "        print(s[i],end='')\n",
    "\n",
    "s = '1,2,3,4,5'\n",
    "print('原字符串： ',s)\n",
    "print('倒序字符串：',end = '')\n",
    "reverse(s)"
   ]
  },
  {
   "cell_type": "code",
   "execution_count": 2,
   "metadata": {},
   "outputs": [
    {
     "name": "stdout",
     "output_type": "stream",
     "text": [
      "plz type a symbol: *\n",
      "plz type the line: 8\n",
      "\n",
      "right triangle:\n",
      "* \n",
      "* * \n",
      "* * * \n",
      "* * * * \n",
      "* * * * * \n",
      "* * * * * * \n",
      "* * * * * * * \n",
      "* * * * * * * * \n",
      "isosceles triangle:\n",
      "       * \n",
      "      * * \n",
      "     * * * \n",
      "    * * * * \n",
      "   * * * * * \n",
      "  * * * * * * \n",
      " * * * * * * * \n",
      "* * * * * * * * \n",
      "obtuse triangle:\n",
      "                                          *  \n",
      "                                    *  *  \n",
      "                              *  *  *  \n",
      "                        *  *  *  *  \n",
      "                  *  *  *  *  *  \n",
      "            *  *  *  *  *  *  \n",
      "      *  *  *  *  *  *  *  \n",
      "*  *  *  *  *  *  *  *  \n",
      "acute triangle:\n",
      "       *   \n",
      "      *   *   \n",
      "     *   *   *   \n",
      "    *   *   *   *   \n",
      "   *   *   *   *   *   \n",
      "  *   *   *   *   *   *   \n",
      " *   *   *   *   *   *   *   \n",
      "*   *   *   *   *   *   *   *   \n"
     ]
    }
   ],
   "source": [
    "#练习二：写函数，根据给定符号和行数，打印相应直角三角形，等腰三角形及其他形式的三角形。\n",
    "def triangle(sym,line):\n",
    "    print('right triangle:')\n",
    "    for i in range(1,line+1):\n",
    "        print((sym+' ')*i)\n",
    "    \n",
    "    print('isosceles triangle:')\n",
    "    for j in range(1,line+1):\n",
    "        print(' '*(line-j)+(sym+' ')*j)\n",
    "        \n",
    "    print('obtuse triangle:')\n",
    "    for k in range(1,line+1):\n",
    "        print('      '*(line-k)+(sym+'  ')*k)\n",
    "    \n",
    "    print('acute triangle:')\n",
    "    for m in range(1,line+1):\n",
    "        print(' '*(line-m)+(sym+'   ')*m)\n",
    "    \n",
    "sym = input('plz type a symbol: ')\n",
    "line = int(input('plz type the line: '))\n",
    "print()\n",
    "triangle(sym,line)"
   ]
  },
  {
   "cell_type": "code",
   "execution_count": 1,
   "metadata": {},
   "outputs": [
    {
     "name": "stdout",
     "output_type": "stream",
     "text": [
      "plz type a symbol: *\n",
      "\n",
      "        \n",
      "       * \n",
      "      * * \n",
      "     * * * \n",
      "    * * * * \n",
      "   * * * * * \n",
      "  * * * * * * \n",
      " * * * * * * * \n",
      "* * * * * * * * \n",
      "* * * * * * * * \n",
      " * * * * * * * \n",
      "  * * * * * * \n",
      "   * * * * * \n",
      "    * * * * \n",
      "     * * * \n",
      "      * * \n",
      "       * \n",
      "        \n"
     ]
    }
   ],
   "source": [
    "#练习五：写函数，根据给定符号，打印各种菱形。\n",
    "def diamond(sym):\n",
    "    for i in range(0,9):\n",
    "        print(' '*(8-i)+(sym+' ')*i)\n",
    "    for j in range(0,9):\n",
    "        print(' '*j+(sym+' ')*(8-j)) \n",
    "        \n",
    "sym = input('plz type a symbol: ')\n",
    "print()\n",
    "diamond(sym)"
   ]
  }
 ],
 "metadata": {
  "kernelspec": {
   "display_name": "Python 3",
   "language": "python",
   "name": "python3"
  },
  "language_info": {
   "codemirror_mode": {
    "name": "ipython",
    "version": 3
   },
   "file_extension": ".py",
   "mimetype": "text/x-python",
   "name": "python",
   "nbconvert_exporter": "python",
   "pygments_lexer": "ipython3",
   "version": "3.6.2"
  }
 },
 "nbformat": 4,
 "nbformat_minor": 2
}
