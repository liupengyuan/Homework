{
 "cells": [
  {
   "cell_type": "code",
   "execution_count": 13,
   "metadata": {},
   "outputs": [
    {
     "name": "stdout",
     "output_type": "stream",
     "text": [
      "请输入m: 1\n",
      "请输入n: 2\n",
      "请输入k: 3\n",
      "9\n"
     ]
    }
   ],
   "source": [
    "def my_mul(n):\n",
    "    i=1\n",
    "    total=1\n",
    "    while i<=n:\n",
    "        total=total*i\n",
    "        i=i+1\n",
    "    return total\n",
    "m=int(input(\"请输入m: \"))\n",
    "n=int(input(\"请输入n: \"))\n",
    "k=int(input(\"请输入k: \"))\n",
    "print(my_mul(m)+my_mul(n)+my_mul(k))"
   ]
  },
  {
   "cell_type": "code",
   "execution_count": 22,
   "metadata": {},
   "outputs": [
    {
     "name": "stdout",
     "output_type": "stream",
     "text": [
      "3.140592653839794\n",
      "3.1415826535897198\n"
     ]
    }
   ],
   "source": [
    "def crazy(n):\n",
    "    i=0\n",
    "    total=0\n",
    "    while i<n:\n",
    "        m=2*i+1\n",
    "        if i%2==0:\n",
    "            k=1\n",
    "        else:\n",
    "            k=-1\n",
    "        total=total+k*(1/m)\n",
    "        i=i+1\n",
    "    return total\n",
    "print(crazy(1000)*4)\n",
    "print(crazy(100000)*4)"
   ]
  },
  {
   "cell_type": "code",
   "execution_count": 14,
   "metadata": {},
   "outputs": [
    {
     "name": "stdout",
     "output_type": "stream",
     "text": [
      "请输入你的姓名：Etoile\n",
      "请输入你的生日（月.日，如 10.24）：9.22\n",
      "Etoile 你是处女座\n"
     ]
    }
   ],
   "source": [
    "n=str(input(\"请输入你的姓名：\"))\n",
    "m=float(input(\"请输入你的生日（月.日，如 10.24）：\"))\n",
    "def demo(m):\n",
    "    if 3.21<=m<=4.20:\n",
    "        return \"你是白羊座\"\n",
    "    if 4.21<=m<=5.21:\n",
    "        return \"你是金牛座\"\n",
    "    if 5.22<=m<=6.21:\n",
    "        return \"你是双子座\"\n",
    "    if 6.22<=m<=7.22:\n",
    "        return \"你是巨蟹座\"\n",
    "    if 7.23<=m<=8.23:\n",
    "        return \"你是狮子座\"\n",
    "    if 8.24<=m<=9.23:\n",
    "        return \"你是处女座\"\n",
    "    if 9.24<=m<=10.23:\n",
    "        return \"你是天秤座\"\n",
    "    if 10.24<=m<=11.22:\n",
    "        return \"你是天蝎座\"\n",
    "    if 11.23<=m<=12.21:\n",
    "        return \"你是射手座\"\n",
    "    if 12.22<=m<=12.31 or 1.00<=m<=1.20:\n",
    "        return \"你是摩羯座\"\n",
    "    if 1.21<=m<=2.19:\n",
    "        return \"你是水瓶座\"\n",
    "    if 2.20<=m<=3.20:\n",
    "        return \"你是双鱼座\"\n",
    "print(n,demo(m))"
   ]
  },
  {
   "cell_type": "code",
   "execution_count": 15,
   "metadata": {},
   "outputs": [
    {
     "name": "stdout",
     "output_type": "stream",
     "text": [
      "请输入单词：name\n",
      "复数形式为：names\n"
     ]
    }
   ],
   "source": [
    "n=str(input(\"请输入单词：\"))\n",
    "def demo(n):\n",
    "    if n.endswith('sh') or n.endswith('s') or n.endswith('ch'):\n",
    "        return 1\n",
    "    else:\n",
    "        return 2\n",
    "if demo(n)==1:\n",
    "    print('复数形式为：',n,\"es\", sep = '')\n",
    "elif demo(n)==2:\n",
    "    print('复数形式为：',n,\"s\", sep = '')"
   ]
  },
  {
   "cell_type": "code",
   "execution_count": 17,
   "metadata": {},
   "outputs": [
    {
     "name": "stdout",
     "output_type": "stream",
     "text": [
      "请输入m：6\n",
      "请输入n：1\n",
      "请输入k：4\n",
      "6\n"
     ]
    }
   ],
   "source": [
    "m=int(input(\"请输入m：\"))\n",
    "n=int(input(\"请输入n：\"))\n",
    "k=int(input(\"请输入k：\"))\n",
    "def demo(m,n,k):\n",
    "    if m>n:\n",
    "        a=n\n",
    "        b=m\n",
    "    else:\n",
    "        a=m\n",
    "        b=n \n",
    "    i=a\n",
    "    total=0\n",
    "    while i<=b:\n",
    "        total=total+i\n",
    "        i=i+k\n",
    "    return total\n",
    "print(demo(m,n,k))"
   ]
  },
  {
   "cell_type": "code",
   "execution_count": null,
   "metadata": {
    "collapsed": true
   },
   "outputs": [],
   "source": []
  }
 ],
 "metadata": {
  "kernelspec": {
   "display_name": "Python 3",
   "language": "python",
   "name": "python3"
  },
  "language_info": {
   "codemirror_mode": {
    "name": "ipython",
    "version": 3
   },
   "file_extension": ".py",
   "mimetype": "text/x-python",
   "name": "python",
   "nbconvert_exporter": "python",
   "pygments_lexer": "ipython3",
   "version": "3.6.2"
  }
 },
 "nbformat": 4,
 "nbformat_minor": 2
}
