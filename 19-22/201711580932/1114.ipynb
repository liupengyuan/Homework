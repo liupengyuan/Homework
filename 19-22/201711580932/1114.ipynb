{
 "cells": [
  {
   "cell_type": "code",
   "execution_count": 2,
   "metadata": {
    "collapsed": false,
    "scrolled": true
   },
   "outputs": [
    {
     "name": "stdout",
     "output_type": "stream",
     "text": [
      "10\n",
      "1\n",
      "2\n",
      "-1\n",
      "55\n",
      "100\n",
      "899\n",
      "-10\n",
      "3\n",
      "12.5\n",
      "5.8\n",
      "平均值,最小值,最大值 分别为: (106.72999999999999, -10.0, 899.0)\n"
     ]
    }
   ],
   "source": [
    "word=[]\n",
    "n=int(input())\n",
    "for i in range(n):\n",
    "    a=float(input())\n",
    "    word.append(a)\n",
    "def demo(word):\n",
    "    total=0\n",
    "    i=0\n",
    "    for a in word:\n",
    "        if i==0:\n",
    "            b=a\n",
    "            c=a\n",
    "        total=total+a\n",
    "        i=i+1\n",
    "        if a<b :\n",
    "            b=a\n",
    "        if a>c :\n",
    "            c=a\n",
    "    return total/i,b,c\n",
    "print(\"平均值,最小值,最大值 分别为:\",demo(word))"
   ]
  },
  {
   "cell_type": "code",
   "execution_count": null,
   "metadata": {
    "collapsed": true
   },
   "outputs": [],
   "source": []
  }
 ],
 "metadata": {
  "kernelspec": {
   "display_name": "Python 3",
   "language": "python",
   "name": "python3"
  },
  "language_info": {
   "codemirror_mode": {
    "name": "ipython",
    "version": 3
   },
   "file_extension": ".py",
   "mimetype": "text/x-python",
   "name": "python",
   "nbconvert_exporter": "python",
   "pygments_lexer": "ipython3",
   "version": "3.6.0"
  }
 },
 "nbformat": 4,
 "nbformat_minor": 2
}
