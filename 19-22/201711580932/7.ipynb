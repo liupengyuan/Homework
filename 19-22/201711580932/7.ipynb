{
 "cells": [
  {
   "cell_type": "code",
   "execution_count": 6,
   "metadata": {},
   "outputs": [
    {
     "data": {
      "text/plain": [
       "'omed'"
      ]
     },
     "execution_count": 6,
     "metadata": {},
     "output_type": "execute_result"
    }
   ],
   "source": [
    "def reverse(s):\n",
    "    m=str()\n",
    "    m=s[::-1]\n",
    "    return m\n",
    "s='demo'\n",
    "reverse(s)"
   ]
  },
  {
   "cell_type": "code",
   "execution_count": 15,
   "metadata": {},
   "outputs": [
    {
     "name": "stdout",
     "output_type": "stream",
     "text": [
      "输入符号田\n",
      "输入行数5\n",
      "\n",
      "田\n",
      "田田\n",
      "田田田\n",
      "田田田田\n",
      "田田田田田\n",
      "          \n",
      "    田    \n",
      "   田田   \n",
      "  田田田  \n",
      " 田田田田 \n",
      "田田田田田\n"
     ]
    }
   ],
   "source": [
    "def demo(a,b):\n",
    "    for i in range(b+1):\n",
    "        print(a*i)\n",
    "def etoile(a,b):\n",
    "    for i in range(b+1):\n",
    "        print(' '*(b-i),a*i,' '*(b-i),sep='')\n",
    "a=str(input('输入符号'))\n",
    "b=int(input('输入行数'))\n",
    "demo(a,b)\n",
    "etoile(a,b)"
   ]
  },
  {
   "cell_type": "code",
   "execution_count": 19,
   "metadata": {},
   "outputs": [
    {
     "name": "stdout",
     "output_type": "stream",
     "text": [
      "赏花归去马如飞飞如马去归花赏\n",
      " 赏花归去马如飞如马去归花赏\n",
      "  赏花归去马如如马去归花赏\n",
      "   赏花归去马如马去归花赏\n",
      "    赏花归去马马去归花赏\n",
      "     赏花归去马去归花赏\n",
      "      赏花归去去归花赏\n",
      "       赏花归去归花赏\n",
      "        赏花归归花赏\n",
      "         赏花归花赏\n",
      "          赏花花赏\n",
      "           赏花赏\n",
      "            赏赏\n",
      "             赏\n"
     ]
    }
   ],
   "source": [
    "def demo(a):\n",
    "    i=len(a)*2\n",
    "    while i>=1:\n",
    "        if i == 1:\n",
    "            print(' '*(len(a)*2-1)+a[0])\n",
    "        elif i%2 == 1:\n",
    "            print(' '*(len(a)*2-i)+a[:i//2]+a[i//2]+a[i//2-1::-1])\n",
    "        else:\n",
    "            print(' '*(len(a)*2-i)+a[:i//2]+a[i//2-1::-1])\n",
    "        i=i-1\n",
    "a='赏花归去马如飞'\n",
    "demo(a)"
   ]
  },
  {
   "cell_type": "code",
   "execution_count": null,
   "metadata": {
    "collapsed": true
   },
   "outputs": [],
   "source": []
  }
 ],
 "metadata": {
  "kernelspec": {
   "display_name": "Python 3",
   "language": "python",
   "name": "python3"
  },
  "language_info": {
   "codemirror_mode": {
    "name": "ipython",
    "version": 3
   },
   "file_extension": ".py",
   "mimetype": "text/x-python",
   "name": "python",
   "nbconvert_exporter": "python",
   "pygments_lexer": "ipython3",
   "version": "3.6.2"
  }
 },
 "nbformat": 4,
 "nbformat_minor": 2
}
