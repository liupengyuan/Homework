{
 "cells": [
  {
   "cell_type": "code",
   "execution_count": 13,
   "metadata": {},
   "outputs": [
    {
     "name": "stdout",
     "output_type": "stream",
     "text": [
      "九回回黄天子聩神白过\n",
      "\n",
      "法南绘工砖望福行次余鸣冰冰己知人高主城愤\n",
      "\n",
      "一起步自金铩砖来自无炼仆若头猿飞肝诣钧马然弟大成日丁庭懈菲心\n",
      "\n",
      "火南荡诺飘狼喜金越物抛物得吉恭沧天厚和重惺百星牛贼迹迫道意茕起一荏门不随虎安处殄\n",
      "\n",
      "冲一退往梦右疲幽如暮玉财骨圆桃五六著莫不节逑厚雪气笑鸡天计盖辟戈突源邯鹊与夕虫狮赤衷莫敬之断滥帝一藕\n",
      "\n",
      "筹舍瘦赴光门睫手缕难春直而目怀股宝竞郑仆天尽耻见可海可秋富落冠叶花根如得待惮淋百汹人甜丝补露燎难前脱狗姗眈喜貌知兔地秣梅\n",
      "\n",
      "到清风手虑山风丝金声欣登桃好居肥往投叶人楼半打孑一打问阳变来往人有脾别羊气天言虎百自大流鱼鹤不虎草中海因守斯小边韬益事林不钧薄玉卷七点妻了俎\n",
      "\n",
      "怨钧子如云将朵下光雁体齐天凿心古德男生肘己五不楚集击鱼风羊骥尸轻苒俎流入涸光奂三里母忘楼犯蜜出归干铁合誉士流月堂羊能良拔沐出巾鱼欣满摸掌玉遇大驴好缭有瀣仆逐移技\n",
      "\n",
      "如化德自亭生中之一居地对堂不甚蒙之雄多五骇时乎海腹忍物然涂鸿断可逐绸鹿退东聚城夏三甚道阳百亭祥风暗三水筚君峰雨如朝君朝汗监水瘁劫驴辣一上玉北铁大蒙公履位杀眼神首梦门节藕井是龙高世谢\n",
      "\n",
      "诱舍狐地战举四往屋忌三逢离言羁见一帘戈五尽人肓干犬物流生藏面微花金科马穿谈雪难两一石花躇竹秽原天叶回柴雨山流夏风浮夜欲为扫凿计窍不无电金一杏花尽绘金安谢解对离一过衣落沉笑赵难道司岂心网杀致浮仇义数逃蒙\n",
      "\n"
     ]
    }
   ],
   "source": [
    "fh = open(r'c:/temp/idioms.txt')\n",
    "text = fh.read()\n",
    "text = text.replace('\\n', '')\n",
    "text = text.replace('、', '')\n",
    "import random\n",
    "for n in range(1,11):\n",
    "    path='c:/temp/'+str(n)+'.txt'\n",
    "    ph=open(path,'w')\n",
    "    for i in range(n*10):\n",
    "        idiom = random.choice(text)\n",
    "        print(idiom,end='')\n",
    "        ph.write(idiom)\n",
    "    print('\\n')\n",
    "fh.close()\n",
    "ph.close()"
   ]
  },
  {
   "cell_type": "code",
   "execution_count": null,
   "metadata": {
    "collapsed": true
   },
   "outputs": [],
   "source": []
  },
  {
   "cell_type": "code",
   "execution_count": null,
   "metadata": {
    "collapsed": true
   },
   "outputs": [],
   "source": []
  }
 ],
 "metadata": {
  "kernelspec": {
   "display_name": "Python 3",
   "language": "python",
   "name": "python3"
  },
  "language_info": {
   "codemirror_mode": {
    "name": "ipython",
    "version": 3
   },
   "file_extension": ".py",
   "mimetype": "text/x-python",
   "name": "python",
   "nbconvert_exporter": "python",
   "pygments_lexer": "ipython3",
   "version": "3.6.2"
  }
 },
 "nbformat": 4,
 "nbformat_minor": 2
}
