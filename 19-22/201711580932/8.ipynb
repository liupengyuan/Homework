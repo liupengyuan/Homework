{
 "cells": [
  {
   "cell_type": "code",
   "execution_count": 17,
   "metadata": {},
   "outputs": [
    {
     "name": "stdout",
     "output_type": "stream",
     "text": [
      "庖丁解牛\n",
      "请接龙：牛郎织女\n",
      "女娲补天\n",
      "请接龙：天涯海角\n",
      "我对不上来了\n",
      "电脑得分为： 10 你的得分为： 20\n"
     ]
    }
   ],
   "source": [
    "import random\n",
    "fh = open(r'c:\\temp\\成语大全.txt')\n",
    "text = fh.read()\n",
    "fh.close()\n",
    "text = text.replace('、', '')\n",
    "idioms = text.split('\\n')\n",
    "m=random.choice(idioms)\n",
    "print(m)\n",
    "h=0\n",
    "c=0\n",
    "k=1\n",
    "t=0\n",
    "n=str(input('请接龙：'))\n",
    "while k==1:\n",
    "    t=0\n",
    "    for idiom in idioms:\n",
    "        if n==idiom:\n",
    "            if m[len(m)-1]==n[0]:\n",
    "                h=h+10\n",
    "                k=0\n",
    "                t=1\n",
    "                p=0\n",
    "                for idiom in idioms:\n",
    "                    if idiom[0]==n[len(n)-1]:\n",
    "                        print(idiom)\n",
    "                        m=idiom\n",
    "                        c=c+10\n",
    "                        k=1\n",
    "                        p=1\n",
    "                        n=str(input('请接龙：'))\n",
    "                        break\n",
    "                if p==0:\n",
    "                        print('我对不上来了')\n",
    "    if t==0:\n",
    "        print('你对错了')\n",
    "        k=0\n",
    "        break\n",
    "print('电脑得分为：',c,'你的得分为：',h)"
   ]
  },
  {
   "cell_type": "code",
   "execution_count": null,
   "metadata": {
    "collapsed": true
   },
   "outputs": [],
   "source": []
  },
  {
   "cell_type": "code",
   "execution_count": null,
   "metadata": {
    "collapsed": true
   },
   "outputs": [],
   "source": []
  }
 ],
 "metadata": {
  "kernelspec": {
   "display_name": "Python 3",
   "language": "python",
   "name": "python3"
  },
  "language_info": {
   "codemirror_mode": {
    "name": "ipython",
    "version": 3
   },
   "file_extension": ".py",
   "mimetype": "text/x-python",
   "name": "python",
   "nbconvert_exporter": "python",
   "pygments_lexer": "ipython3",
   "version": "3.6.2"
  }
 },
 "nbformat": 4,
 "nbformat_minor": 2
}
