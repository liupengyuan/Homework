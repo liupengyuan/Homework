{
 "cells": [
  {
   "cell_type": "code",
   "execution_count": 1,
   "metadata": {},
   "outputs": [
    {
     "name": "stdout",
     "output_type": "stream",
     "text": [
      "请输入你的姓名：Etoile\n",
      "请输入你的生日（月.日，如 10.24）：9.30\n",
      "Etoile 你是天秤座\n"
     ]
    }
   ],
   "source": [
    "n=str(input(\"请输入你的姓名：\"))\n",
    "m=float(input(\"请输入你的生日（月.日，如 10.24）：\"))\n",
    "if 3.21<=m<=4.20:\n",
    "    print(n,\"你是白羊座\")\n",
    "if 4.21<=m<=5.21:\n",
    "    print(n,\"你是金牛座\")\n",
    "if 5.22<=m<=6.21:\n",
    "    print(n,\"你是双子座\")\n",
    "if 6.22<=m<=7.22:\n",
    "    print(n,\"你是巨蟹座\")\n",
    "if 7.23<=m<=8.23:\n",
    "    print(n,\"你是狮子座\")\n",
    "if 8.24<=m<=9.23:\n",
    "    print(n,\"你是处女座\")\n",
    "if 9.24<=m<=10.23:\n",
    "    print(n,\"你是天秤座\")\n",
    "if 10.24<=m<=11.22:\n",
    "    print(n,\"你是天蝎座\")\n",
    "if 11.23<=m<=12.21:\n",
    "    print(n,\"你是射手座\")\n",
    "if 12.22<=m<=12.31 or 1.00<=m<=1.20:\n",
    "    print(n,\"你是摩羯座\")\n",
    "if 1.21<=m<=2.19:\n",
    "    print(n,\"你是水瓶座\")\n",
    "if 2.20<=m<=3.20:\n",
    "    print(n,\"你是双鱼座\")"
   ]
  },
  {
   "cell_type": "code",
   "execution_count": 17,
   "metadata": {},
   "outputs": [
    {
     "name": "stdout",
     "output_type": "stream",
     "text": [
      "请输入一个数：64\n",
      "请再输入一个数：-8\n",
      "你想做什么？ +、*、% ：+\n",
      "2044\n"
     ]
    }
   ],
   "source": [
    "m=int(input(\"请输入一个数：\"))\n",
    "n=int(input(\"请再输入一个数：\"))\n",
    "if m>n:\n",
    "    a=n\n",
    "    b=m\n",
    "else:\n",
    "    a=m\n",
    "    b=n \n",
    "i=a\n",
    "total=0\n",
    "p=str(input(\"你想做什么？ +、*、% ：\"))\n",
    "if p==\"+\":\n",
    "    while i<=b:\n",
    "        total=total+i\n",
    "        i=i+1\n",
    "    print(total)\n",
    "elif p==\"*\":\n",
    "    total=1\n",
    "    while i<=b:\n",
    "        total=total*i\n",
    "        i=i+1\n",
    "    print(total)\n",
    "elif p==\"%\":\n",
    "    print(m%n)\n",
    "else:\n",
    "    print(\"你不想求和、积、余数，所以为你输出了整除的结果:\",m//n)"
   ]
  },
  {
   "cell_type": "code",
   "execution_count": 51,
   "metadata": {},
   "outputs": [
    {
     "name": "stdout",
     "output_type": "stream",
     "text": [
      "请输入单词：name\n",
      "复数形式为：names\n"
     ]
    }
   ],
   "source": [
    "n=str(input(\"请输入单词：\"))\n",
    "if n.endswith('sh') or n.endswith('s') or n.endswith('ch'):\n",
    "    print('复数形式为：',n,\"es\", sep = '')\n",
    "else:\n",
    "    print('复数形式为：',n,\"s\", sep = '')"
   ]
  },
  {
   "cell_type": "code",
   "execution_count": 55,
   "metadata": {},
   "outputs": [
    {
     "name": "stdout",
     "output_type": "stream",
     "text": [
      "123\n",
      "\n",
      "\n",
      "123\n"
     ]
    }
   ],
   "source": [
    "print('123')\n",
    "print('\\n')\n",
    "print('123')"
   ]
  },
  {
   "cell_type": "code",
   "execution_count": null,
   "metadata": {
    "collapsed": true
   },
   "outputs": [],
   "source": []
  }
 ],
 "metadata": {
  "kernelspec": {
   "display_name": "Python 3",
   "language": "python",
   "name": "python3"
  },
  "language_info": {
   "codemirror_mode": {
    "name": "ipython",
    "version": 3
   },
   "file_extension": ".py",
   "mimetype": "text/x-python",
   "name": "python",
   "nbconvert_exporter": "python",
   "pygments_lexer": "ipython3",
   "version": "3.6.2"
  }
 },
 "nbformat": 4,
 "nbformat_minor": 2
}
