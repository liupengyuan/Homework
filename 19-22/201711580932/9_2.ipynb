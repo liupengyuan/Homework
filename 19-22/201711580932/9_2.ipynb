{
 "cells": [
  {
   "cell_type": "code",
   "execution_count": null,
   "metadata": {},
   "outputs": [],
   "source": [
    "a=[]\n",
    "n=1\n",
    "import random\n",
    "for i in range(10000):\n",
    "    a.append(random.randint(0, 100000))\n",
    "a.sort()\n",
    "for i in range(9999):\n",
    "    if a[i]==a[i+1]:\n",
    "        n=n+1\n",
    "    else:\n",
    "        print(a[i],n)\n",
    "        n=1"
   ]
  },
  {
   "cell_type": "code",
   "execution_count": null,
   "metadata": {},
   "outputs": [],
   "source": [
    "with open(r'd:\\temp\\test1.txt', 'w') as fw1, open(r'd:\\temp\\语料.txt') as fr:\n",
    "    line_number=5001\n",
    "    for line in fr:\n",
    "        if line_number < 10000:\n",
    "            fw1.write(line)\n",
    "            line_number += 1\n",
    "        else:\n",
    "            break\n",
    "with open(r'd:\\temp\\test.txt', 'w') as fw, open(r'd:\\temp\\语料.txt') as fr:\n",
    "    line_number=0\n",
    "    for line in fr:\n",
    "        if line_number < 5000:\n",
    "            fw.write(line)\n",
    "            line_number += 1\n",
    "        else:\n",
    "            break\n",
    "word_table1 = set()\n",
    "word_table = set()\n",
    "a=set()\n",
    "b=set()\n",
    "with open(r'd:\\temp\\test1.txt') as f1:\n",
    "    for line in f1:\n",
    "        word_table1 |= {word.split('/')[0] for word in line.split()}\n",
    "with open(r'd:\\temp\\test.txt') as f:\n",
    "    for line in f:\n",
    "        word_table |= {word.split('/')[0] for word in line.split()}\n",
    "for word1 in word_table1:\n",
    "    if word1 in word_table:\n",
    "        a.add(word1)\n",
    "    if word1 not in word_table:\n",
    "        b.add(word1)\n",
    "for word in word_table:\n",
    "    if word not in word_table1:    \n",
    "        b.add(word) \n",
    "print(a)#公用字\n",
    "print(b)#独用字"
   ]
  },
  {
   "cell_type": "code",
   "execution_count": null,
   "metadata": {
    "collapsed": true
   },
   "outputs": [],
   "source": []
  },
  {
   "cell_type": "code",
   "execution_count": null,
   "metadata": {
    "collapsed": true
   },
   "outputs": [],
   "source": []
  }
 ],
 "metadata": {
  "kernelspec": {
   "display_name": "Python 3",
   "language": "python",
   "name": "python3"
  },
  "language_info": {
   "codemirror_mode": {
    "name": "ipython",
    "version": 3
   },
   "file_extension": ".py",
   "mimetype": "text/x-python",
   "name": "python",
   "nbconvert_exporter": "python",
   "pygments_lexer": "ipython3",
   "version": "3.6.2"
  }
 },
 "nbformat": 4,
 "nbformat_minor": 2
}
