{
 "cells": [
  {
   "cell_type": "code",
   "execution_count": 2,
   "metadata": {},
   "outputs": [
    {
     "name": "stdout",
     "output_type": "stream",
     "text": [
      "1\n",
      "2\n",
      "3\n",
      "1.7320508075688772\n"
     ]
    }
   ],
   "source": [
    "import random\n",
    "n=int(input())\n",
    "m=int(input())\n",
    "k=int(input())\n",
    "i=0\n",
    "total=0\n",
    "while i<n:\n",
    "    total=total+random.randint(m,k)\n",
    "    i=i+1\n",
    "print((total/n)**0.5)"
   ]
  },
  {
   "cell_type": "code",
   "execution_count": 9,
   "metadata": {},
   "outputs": [
    {
     "name": "stdout",
     "output_type": "stream",
     "text": [
      "1\n",
      "2\n",
      "3\n",
      "1.0986122886681098 0.9102392266268373\n"
     ]
    }
   ],
   "source": [
    "import random\n",
    "import math\n",
    "n=int(input())\n",
    "m=int(input())\n",
    "k=int(input())\n",
    "i=0\n",
    "total=0\n",
    "total1=0\n",
    "while i<n:\n",
    "    a=random.randint(m,k)\n",
    "    total=total+math.log(a)\n",
    "    total1=total1+1/math.log(a)\n",
    "    i=i+1\n",
    "print(total,total1)"
   ]
  },
  {
   "cell_type": "code",
   "execution_count": 10,
   "metadata": {},
   "outputs": [
    {
     "name": "stdout",
     "output_type": "stream",
     "text": [
      "3\n",
      "492\n"
     ]
    }
   ],
   "source": [
    "import random\n",
    "a=random.randint(1,9)\n",
    "n=int(input())\n",
    "i=0\n",
    "total=0\n",
    "while i<n:\n",
    "    total=total+a*(n-i)*10**i\n",
    "    i=i+1\n",
    "print(total)"
   ]
  },
  {
   "cell_type": "code",
   "execution_count": 1,
   "metadata": {},
   "outputs": [
    {
     "name": "stdout",
     "output_type": "stream",
     "text": [
      "请输入你想让我猜的数，我不会看的。0-100以内哦：48\n",
      "我猜是： 36\n",
      "不对吗？大 还是 小：小\n",
      "我猜是： 91\n",
      "不对吗？大 还是 小：大\n",
      "我猜是： 47\n",
      "不对吗？大 还是 小：小\n",
      "我猜是： 68\n",
      "不对吗？大 还是 小：大\n",
      "我猜是： 58\n",
      "不对吗？大 还是 小：大\n",
      "我猜是： 56\n",
      "不对吗？大 还是 小：大\n",
      "我猜是： 54\n",
      "不对吗？大 还是 小：大\n",
      "我猜是： 50\n",
      "不对吗？大 还是 小：大\n",
      "我猜对了吧，是 48\n"
     ]
    }
   ],
   "source": [
    "import random\n",
    "import math\n",
    "n=int(input(\"请输入你想让我猜的数，我不会看的。0-100以内哦：\"))\n",
    "m=random.randint(0,100)\n",
    "a=0\n",
    "b=100\n",
    "while m!=n:\n",
    "    print(\"我猜是：\",m)\n",
    "    h=str(input(\"不对吗？大 还是 小：\"))\n",
    "    if(h==\"小\"):\n",
    "        a=m\n",
    "    if(h==\"大\"):\n",
    "        b=m\n",
    "    m=random.randint(a+1,b-1)\n",
    "print(\"我猜对了吧，是\",m)"
   ]
  },
  {
   "cell_type": "code",
   "execution_count": null,
   "metadata": {
    "collapsed": true
   },
   "outputs": [],
   "source": []
  }
 ],
 "metadata": {
  "kernelspec": {
   "display_name": "Python 3",
   "language": "python",
   "name": "python3"
  },
  "language_info": {
   "codemirror_mode": {
    "name": "ipython",
    "version": 3
   },
   "file_extension": ".py",
   "mimetype": "text/x-python",
   "name": "python",
   "nbconvert_exporter": "python",
   "pygments_lexer": "ipython3",
   "version": "3.6.2"
  }
 },
 "nbformat": 4,
 "nbformat_minor": 2
}
