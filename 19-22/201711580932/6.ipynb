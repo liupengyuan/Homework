{
 "cells": [
  {
   "cell_type": "code",
   "execution_count": 9,
   "metadata": {},
   "outputs": [
    {
     "name": "stdout",
     "output_type": "stream",
     "text": [
      "请输入list的长度m：5\n",
      "请输入由m个数字组成的list：1\n",
      "请输入由m个数字组成的list：2\n",
      "请输入由m个数字组成的list：3\n",
      "请输入由m个数字组成的list：4\n",
      "请输入由m个数字组成的list：96\n",
      "请输入你想定位的数字：3\n",
      "位置为： 3\n"
     ]
    }
   ],
   "source": [
    "def demo(n,word):\n",
    "    i=0\n",
    "    for a in word:\n",
    "        i=i+1\n",
    "        if a==n:\n",
    "            return i\n",
    "            break\n",
    "        if i==len(word):\n",
    "            return -1       \n",
    "word=[]\n",
    "m=int(input(\"请输入list的长度m：\"))\n",
    "for i in range(m):\n",
    "    a=int(input(\"请输入由m个数字组成的list：\"))\n",
    "    word.append(a)\n",
    "n=int(input(\"请输入你想定位的数字：\"))\n",
    "print(\"位置为：\",demo(n,word))"
   ]
  },
  {
   "cell_type": "code",
   "execution_count": 13,
   "metadata": {},
   "outputs": [
    {
     "data": {
      "text/plain": [
       "[1, 4, 2, 5, 3, 6]"
      ]
     },
     "execution_count": 13,
     "metadata": {},
     "output_type": "execute_result"
    }
   ],
   "source": [
    "def demo(a,b):\n",
    "    s=[]\n",
    "    n=0\n",
    "    for i in a:\n",
    "        s.append(i)\n",
    "        s.append(b[n])\n",
    "        n=n+1\n",
    "    return s\n",
    "a=[1,2,3]\n",
    "b=[4,5,6]\n",
    "demo(a,b)"
   ]
  },
  {
   "cell_type": "code",
   "execution_count": 23,
   "metadata": {},
   "outputs": [
    {
     "name": "stdout",
     "output_type": "stream",
     "text": [
      "请输入向量1的横坐标1\n",
      "请输入向量1的纵坐标2\n",
      "请输入向量2的横坐标3\n",
      "请输入向量2的纵坐标4\n"
     ]
    },
    {
     "data": {
      "text/plain": [
       "0.9838699100999074"
      ]
     },
     "execution_count": 23,
     "metadata": {},
     "output_type": "execute_result"
    }
   ],
   "source": [
    "def demo(m,n):\n",
    "    return (m[0]*n[0]+m[1]*n[1])/((m[0]**2+m[1]**2)**0.5*(n[0]**2+n[1]**2)**0.5)\n",
    "a=int(input(\"请输入向量1的横坐标\"))\n",
    "b=int(input(\"请输入向量1的纵坐标\"))\n",
    "c=int(input(\"请输入向量2的横坐标\"))\n",
    "d=int(input(\"请输入向量2的纵坐标\"))\n",
    "m=[a,b]\n",
    "n=[c,d]\n",
    "demo(m,n)"
   ]
  },
  {
   "cell_type": "code",
   "execution_count": 7,
   "metadata": {},
   "outputs": [
    {
     "name": "stdout",
     "output_type": "stream",
     "text": [
      "3741\n"
     ]
    }
   ],
   "source": [
    "i=5\n",
    "j=5\n",
    "n=0\n",
    "while 5<=i<=90:\n",
    "    while 5<=j<=95-i:\n",
    "        n=n+1\n",
    "        j=j+1\n",
    "    j=5\n",
    "    i=i+1\n",
    "print(n)"
   ]
  },
  {
   "cell_type": "code",
   "execution_count": null,
   "metadata": {
    "collapsed": true
   },
   "outputs": [],
   "source": []
  }
 ],
 "metadata": {
  "kernelspec": {
   "display_name": "Python 3",
   "language": "python",
   "name": "python3"
  },
  "language_info": {
   "codemirror_mode": {
    "name": "ipython",
    "version": 3
   },
   "file_extension": ".py",
   "mimetype": "text/x-python",
   "name": "python",
   "nbconvert_exporter": "python",
   "pygments_lexer": "ipython3",
   "version": "3.6.2"
  }
 },
 "nbformat": 4,
 "nbformat_minor": 2
}
