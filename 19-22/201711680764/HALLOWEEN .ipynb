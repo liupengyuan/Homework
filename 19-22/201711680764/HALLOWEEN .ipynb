{
 "cells": [
  {
   "cell_type": "code",
   "execution_count": 28,
   "metadata": {
    "collapsed": false
   },
   "outputs": [
    {
     "name": "stdout",
     "output_type": "stream",
     "text": [
      "please input a number,end it with enter3\n",
      "please input a number,end it with enter3\n",
      "12\n"
     ]
    }
   ],
   "source": [
    "n=int(input('please input a number,end it with enter'))\n",
    "m=int(input('please input a number,end it with enter'))\n",
    "\n",
    "def my_sum(end):\n",
    "        i=0\n",
    "        total_n = 0\n",
    "   \n",
    "        while i < end:\n",
    "            i = i + 1\n",
    "            total_n = total_n + i\n",
    "        return total_n\n",
    "    \n",
    "def my_sum(end):\n",
    "        i = 0\n",
    "        total_n = 0\n",
    "   \n",
    "        while i < end:\n",
    "            i = i + 1\n",
    "            total_n = total_n + i\n",
    "        return total_n\n",
    "if m>n:\n",
    "    print(my_sum(m)+my_sum(n))\n",
    "   \n",
    "\n",
    "def my_mul(end):\n",
    "        i=0\n",
    "        c=1\n",
    "   \n",
    "        while i<end:\n",
    "            i=i+1\n",
    "            c=c*i\n",
    "        return c \n",
    "\n",
    "def my_mul(end):\n",
    "        i=0\n",
    "        b=1\n",
    "        while i<end:\n",
    "            i=i+1\n",
    "            b=b*i\n",
    "        return b\n",
    "if m<=n:\n",
    "    print(my_mul(m)+my_mul(n))\n",
    "    "
   ]
  },
  {
   "cell_type": "code",
   "execution_count": null,
   "metadata": {
    "collapsed": true
   },
   "outputs": [],
   "source": []
  }
 ],
 "metadata": {
  "kernelspec": {
   "display_name": "Python 3",
   "language": "python",
   "name": "python3"
  },
  "language_info": {
   "codemirror_mode": {
    "name": "ipython",
    "version": 3
   },
   "file_extension": ".py",
   "mimetype": "text/x-python",
   "name": "python",
   "nbconvert_exporter": "python",
   "pygments_lexer": "ipython3",
   "version": "3.6.0"
  }
 },
 "nbformat": 4,
 "nbformat_minor": 2
}
