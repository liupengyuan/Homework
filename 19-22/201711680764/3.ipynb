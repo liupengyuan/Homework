{
 "cells": [
  {
   "cell_type": "code",
   "execution_count": 1,
   "metadata": {},
   "outputs": [
    {
     "name": "stdout",
     "output_type": "stream",
     "text": [
      "请输入你的名字，以回车键结束ABBY\n",
      "请输入您生日的月份，以回车键结束6\n",
      "请输入您生日的日子，以回车键结束9\n",
      "ABBY,您是双子座\n"
     ]
    }
   ],
   "source": [
    "a=str(input('请输入你的名字，以回车键结束'))\n",
    "n=int(input('请输入您生日的月份，以回车键结束'))\n",
    "m=int(input('请输入您生日的日子，以回车键结束'))\n",
    "if n==1:\n",
    "    if m<=19:\n",
    "        print(a,\"您是摩羯座\",sep = ',')\n",
    "    else:\n",
    "        print(a, \"您是水瓶座\",sep = ',')  \n",
    "if n==2:\n",
    "    if m<=18:\n",
    "         print(a,\"您是水瓶座\",sep = ',')\n",
    "    else: \n",
    "        print(a, \"您是双鱼座\",sep = ',')\n",
    "if n==3:\n",
    "    if m<=20:\n",
    "        print(a,\"您是双鱼座\",sep = ',')\n",
    "    else:\n",
    "        print(a, \"您是白羊座\",sep = ',') \n",
    "if n==4:\n",
    "    if m<=19:\n",
    "        print(a,\"您是白羊座\",sep = ',')\n",
    "    else:\n",
    "        print(a, \"您是金牛座\",sep = ',') \n",
    "if n==5:\n",
    "    if m<=20:\n",
    "        print(a,\"您是金牛座\",sep = ',')\n",
    "    else:\n",
    "        print(a, \"您是双子座\",sep = ',') \n",
    "if n==6:\n",
    "    if m<=21:\n",
    "        print(a,\"您是双子座\",sep = ',')\n",
    "    else:\n",
    "        print(a, \"您是巨蟹座\",sep = ',') \n",
    "if n==7:\n",
    "    if m<=20:\n",
    "        print(a,\"您是巨蟹座\",sep = ',')\n",
    "    else:\n",
    "        print(a, \"您是狮子座\",sep = ',') \n",
    "if n==8:\n",
    "    if m<=22:\n",
    "        print(a,\"您是狮子座\",sep = ',')\n",
    "    else:\n",
    "        print(a, \"您是处女座\",sep = ',')\n",
    "if n==9:\n",
    "    if m<=22:\n",
    "        print(a,\"您是处女座\",sep = ',')\n",
    "    else:\n",
    "        print(a, \"您是天秤座\",sep = ',') \n",
    "if n==10:\n",
    "    if m<=23:\n",
    "        print(a,\"您是天秤座\",sep = ',')\n",
    "    else:\n",
    "        print(a, \"您是天蝎座\",sep = ',')\n",
    "if n==11:\n",
    "    if m<=22:\n",
    "        print(a,\"您是天蝎座\",sep = ',')\n",
    "    else:\n",
    "        print(a, \"您是射手座\",sep = ',')\n",
    "if n==12:\n",
    "    if m<=21:\n",
    "        print(a,\"您是射手座\",sep = ',')\n",
    "    else:\n",
    "        print(a, \"您是摩羯座\",sep = ',') "
   ]
  },
  {
   "cell_type": "markdown",
   "metadata": {},
   "source": [
    "作业二"
   ]
  },
  {
   "cell_type": "code",
   "execution_count": 2,
   "metadata": {},
   "outputs": [
    {
     "name": "stdout",
     "output_type": "stream",
     "text": [
      "请输入一个整数，以回车键结束8\n",
      "请输入一个非零整数，以回车键结束4\n",
      "若求和请输入数字1，若求积请输入数字2，若求余数请输入数字3，以回车键结束2\n",
      "6720\n"
     ]
    }
   ],
   "source": [
    "m=int(input('请输入一个整数，以回车键结束'))\n",
    "n=int(input('请输入一个非零整数，以回车键结束'))\n",
    "a=int(input('若求和请输入数字1，若求积请输入数字2，若求余数请输入数字3，以回车键结束'))\n",
    "if a==1:\n",
    "    if m>n:\n",
    "        \n",
    "        b=n\n",
    "        while  n<m:\n",
    "            n=n+1\n",
    "            b=b+n\n",
    "        print(b)\n",
    "    else :\n",
    "        \n",
    "        b=m\n",
    "        while m<n:\n",
    "            m=m+1\n",
    "            b=b+m\n",
    "        print(b)\n",
    "if a==2:\n",
    "    if m>n:\n",
    "        b=n\n",
    "        while n<m:\n",
    "            n=n+1\n",
    "            b=b*n\n",
    "        print(b)\n",
    "        \n",
    "    else :\n",
    "        \n",
    "        b=m\n",
    "        while m<n:\n",
    "            m=m+1\n",
    "            b=b*m\n",
    "        print(b) \n",
    "if a==3:\n",
    "    b=m%n\n",
    "    if b>0:\n",
    "        print(b)\n",
    "    else :\n",
    "        print(m/n)"
   ]
  },
  {
   "cell_type": "markdown",
   "metadata": {},
   "source": [
    "作业三"
   ]
  },
  {
   "cell_type": "code",
   "execution_count": 5,
   "metadata": {},
   "outputs": [
    {
     "name": "stdout",
     "output_type": "stream",
     "text": [
      "请输入一个单数形式的英文名词，以回车键结束，我会给您将其变为复数形式的方法leaf\n",
      "变末尾的f为v，再在末尾加上es\n"
     ]
    }
   ],
   "source": [
    "n=str(input('请输入一个单数形式的英文名词，以回车键结束，我会给您将其变为复数形式的方法'))\n",
    "if n.endswith('y'):   \n",
    "     print(\"去掉末尾的y，加上ies\")\n",
    "if n.endswith('x'):\n",
    "     print(\"直接在末尾加上es\")\n",
    "if n.endswith('ch'): \n",
    "     print('直接在末尾加上es')\n",
    "if n.endswith('sh'): \n",
    "     print('直接在末尾加上es')\n",
    "if n.endswith('f'):\n",
    "     print('变末尾的f为v，再在末尾加上es')\n",
    "else:\n",
    "     print('直接在末尾加上s,如果您输入的是这几个特殊的单词：negro, hero, patato, tomato, mango，请在末尾加es')\n",
    "\n",
    "\n"
   ]
  },
  {
   "cell_type": "markdown",
   "metadata": {},
   "source": [
    "作业四"
   ]
  },
  {
   "cell_type": "code",
   "execution_count": 3,
   "metadata": {},
   "outputs": [
    {
     "name": "stdout",
     "output_type": "stream",
     "text": [
      "\n",
      "\n",
      "\n",
      "\n",
      "\n",
      "\n",
      "\n",
      "\n",
      "hello,\n",
      "world! \n"
     ]
    }
   ],
   "source": [
    "print(\"\\n\\n\\n\\n\\n\\n\\n\")\n",
    "print('hello,\\nworld! ')"
   ]
  },
  {
   "cell_type": "code",
   "execution_count": null,
   "metadata": {},
   "outputs": [],
   "source": [
    "\n",
    " "
   ]
  },
  {
   "cell_type": "code",
   "execution_count": null,
   "metadata": {
    "collapsed": true
   },
   "outputs": [],
   "source": []
  }
 ],
 "metadata": {
  "kernelspec": {
   "display_name": "Python 3",
   "language": "python",
   "name": "python3"
  },
  "language_info": {
   "codemirror_mode": {
    "name": "ipython",
    "version": 3
   },
   "file_extension": ".py",
   "mimetype": "text/x-python",
   "name": "python",
   "nbconvert_exporter": "python",
   "pygments_lexer": "ipython3",
   "version": "3.6.2"
  }
 },
 "nbformat": 4,
 "nbformat_minor": 2
}
