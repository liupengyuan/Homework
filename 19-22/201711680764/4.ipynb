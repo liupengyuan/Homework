{
 "cells": [
  {
   "cell_type": "code",
   "execution_count": 7,
   "metadata": {},
   "outputs": [
    {
     "name": "stdout",
     "output_type": "stream",
     "text": [
      "请输入第1个整数，以回车结束。2\n",
      "请输入第2个整数，以回车结束。3\n",
      "请输入第3个整数，以回车结束。2\n",
      "10\n"
     ]
    }
   ],
   "source": [
    "def com_mul(end):\n",
    "    i=0\n",
    "    a=1\n",
    "    while i<end:\n",
    "        i=i+1\n",
    "        a=a*i\n",
    "    return a\n",
    "n = int(input('请输入第1个整数，以回车结束。'))\n",
    "m = int(input('请输入第2个整数，以回车结束。'))\n",
    "k = int(input('请输入第3个整数，以回车结束。'))\n",
    "\n",
    "print(com_mul(n)+com_mul(m)+com_mul(k))\n"
   ]
  },
  {
   "cell_type": "code",
   "execution_count": 3,
   "metadata": {},
   "outputs": [
    {
     "name": "stdout",
     "output_type": "stream",
     "text": [
      "3.1405926538397777\n",
      "3.1415826535897065\n"
     ]
    }
   ],
   "source": [
    "def om_sum(end):\n",
    "    i=0\n",
    "    t=0\n",
    "    while i<end:\n",
    "        i=i+1\n",
    "        b=4*i-3\n",
    "        t=t+1/b\n",
    "    return t\n",
    "def com_sum(end):\n",
    "    i=0\n",
    "    t=0\n",
    "    while i<end:\n",
    "        i=i+1\n",
    "        b=1-4*i\n",
    "        t=t+1/b\n",
    "    return t\n",
    "\n",
    "print(4*om_sum(500)+4*com_sum(500))\n",
    "print(4*om_sum(50000)+4*com_sum(50000))"
   ]
  },
  {
   "cell_type": "code",
   "execution_count": 1,
   "metadata": {},
   "outputs": [
    {
     "name": "stdout",
     "output_type": "stream",
     "text": [
      "请输入一个单词，以回车键结束sock\n",
      "sockes\n"
     ]
    }
   ],
   "source": [
    "#改变单词复数形式\n",
    "def pl():  \n",
    "    if n.endswith('y'):  \n",
    "        return n[:-1] + 'ies'  \n",
    "    elif n[-1] in 's'or'x'  or n[-2:] in ['sh', 'ch']:  \n",
    "        return n+ 'es'  \n",
    "    elif n.endswith('an'):  \n",
    "        return n[:-2] + 'en'  \n",
    "    else:  \n",
    "        return n + 's'\n",
    "n=str(input('请输入一个单词，以回车键结束'))\n",
    "print(pl())"
   ]
  },
  {
   "cell_type": "code",
   "execution_count": 2,
   "metadata": {},
   "outputs": [
    {
     "name": "stdout",
     "output_type": "stream",
     "text": [
      "please input your nameabby\n",
      "please input your birthday month2\n",
      "please input your birthday date31\n",
      "abby,无效\n"
     ]
    }
   ],
   "source": [
    "#计算用户星座1\n",
    "def bir():\n",
    "     if b==3 and 21<=c<=31 or b==4 and 1<=c<=19 :\n",
    "        return \"你是白羊座\"\n",
    "     elif b==4 and 20<=c<=30 or b==5 and 1<=c<=20:\n",
    "        return \"你是金牛座\"\n",
    "     elif b==5 and 21<=c<=31 or b==6 and 1<=c<=21:\n",
    "        return \"你是双子座\"\n",
    "     elif b==6 and 22<=c<=30 or b==7 and 1<=c<=22:\n",
    "        return \"你是巨蟹座\"\n",
    "     elif b==7 and 23<=c<=31 or b==8 and 1<=c<=22 :\n",
    "        return \"你是狮子座\"\n",
    "     elif b==8 and 23<=c<=31 or b==9 and 1<=c<=22:\n",
    "        return \"你是处女座\"\n",
    "     elif(b==9 and 23<=c<=30)or(b==10 and 1<=c<=23):\n",
    "        return \"你是天秤座\"\n",
    "     elif(b==10 and 24<=c<=31)or(b==11 and 1<=c<=22):\n",
    "        return \"你是天蝎座\"\n",
    "     elif(b==11 and 23<=c<=30)or(b==12 and 1<=c<=21):\n",
    "        return \"你是射手座\"\n",
    "     elif(b==12 and 22<=c<=30)or(b==1 and 1<=c<=19):\n",
    "        return \"你是摩羯座\"\n",
    "     elif(b==1 and 20<=c<=31)or(b==2 and 1<=c<=18):\n",
    "        return \"你是水瓶座\"\n",
    "     elif(b==2 and 19<=c<=30)or(b==3 and 1<=c<=20):\n",
    "        return \"你是双鱼座\"\n",
    "     else:\n",
    "        return'无效'\n",
    "a=str(input('please input your name'))\n",
    "b=int(input('please input your birthday month'))\n",
    "c=int(input('please input your birthday date'))\n",
    "print(a,bir(),sep = ',')\n"
   ]
  },
  {
   "cell_type": "code",
   "execution_count": 1,
   "metadata": {},
   "outputs": [
    {
     "name": "stdout",
     "output_type": "stream",
     "text": [
      "please input your nameabby\n",
      "please input your birthday month6\n",
      "please input your birthday date9\n",
      "abby,你是双子座\n"
     ]
    }
   ],
   "source": [
    "#计算星座方法2\n",
    "def bir():\n",
    "     if b==3 and 21<=c<=31 or b==4 and 1<=c<=19 :\n",
    "        a=  \"你是白羊座\"\n",
    "     elif(b==4 and 20<=c<=30)or(b==5 and 1<=c<=20):\n",
    "        a=  \"你是金牛座\"\n",
    "     elif(b==5 and 21<=c<=31)or(b==6 and 1<=c<=21):\n",
    "        a=  \"你是双子座\"\n",
    "     elif(b==6 and 22<=c<=30)or(b==7 and 1<=c<=22):\n",
    "        a=  \"你是巨蟹座\"\n",
    "     elif(b==7 and 23<=c<=31)or(b==8 and 1<=c<=22):\n",
    "        a=  \"你是狮子座\"\n",
    "     elif(b==8 and 23<=c<=31)or(b==9 and 1<=c<=22):\n",
    "        a=  \"你是处女座\"\n",
    "     elif(b==9 and 23<=c<=30)or(b==10 and 1<=c<=23):\n",
    "        a=  \"你是天秤座\"\n",
    "     elif(b==10 and 24<=c<=31)or(b==11 and 1<=c<=22):\n",
    "        a=  \"你是天蝎座\"\n",
    "     elif(b==11 and 23<=c<=30)or(b==12 and 1<=c<=21):\n",
    "        a= \"你是射手座\"\n",
    "     elif(b==12 and 22<=c<=30)or(b==1 and 1<=c<=19):\n",
    "        a=  \"你是摩羯座\"\n",
    "     elif(b==1 and 20<=c<=31)or(b==2 and 1<=c<=18):\n",
    "        a=  \"你是水瓶座\"\n",
    "     elif(b==2 and 19<=c<=30)or(b==3 and 1<=c<=20):\n",
    "        a=  \"你是双鱼座\"\n",
    "     else:\n",
    "        a= '无效'\n",
    "     return a\n",
    "a=str(input('please input your name'))\n",
    "b=int(input('please input your birthday month'))\n",
    "c=int(input('please input your birthday date'))\n",
    "print(a,bir(),sep = ',')\n"
   ]
  },
  {
   "cell_type": "code",
   "execution_count": 72,
   "metadata": {},
   "outputs": [
    {
     "name": "stdout",
     "output_type": "stream",
     "text": [
      "请输入第1个整数，以回车结束。4\n",
      "请输入第2个整数，以回车结束。6\n",
      "请输入第3个整数，以回车结束。1\n",
      "None\n"
     ]
    }
   ],
   "source": [
    "#挑战性练习\n",
    "n = int(input('请输入第1个整数，以回车结束。'))\n",
    "m = int(input('请输入第2个整数，以回车结束。'))\n",
    "k = int(input('请输入第3个整数，以回车结束。'))\n",
    "def com_sum(end):\n",
    "    i=0\n",
    "    if n>m:\n",
    "        a=m\n",
    "        while i<end:\n",
    "            i=i+k\n",
    "            a=a+i\n",
    "        return a\n",
    "    if n>m:\n",
    "        b=n\n",
    "        while i<end:\n",
    "            i=i+k\n",
    "            b=b+i\n",
    "        return b\n",
    "\n",
    "\n",
    "if n>m:\n",
    "    print(com_sum(m))\n",
    "if n<=m:\n",
    "    print(com_sum(n))\n",
    "    \n",
    "\n",
    "\n",
    " \n",
    "        \n"
   ]
  },
  {
   "cell_type": "code",
   "execution_count": null,
   "metadata": {
    "collapsed": true
   },
   "outputs": [],
   "source": []
  }
 ],
 "metadata": {
  "kernelspec": {
   "display_name": "Python 3",
   "language": "python",
   "name": "python3"
  },
  "language_info": {
   "codemirror_mode": {
    "name": "ipython",
    "version": 3
   },
   "file_extension": ".py",
   "mimetype": "text/x-python",
   "name": "python",
   "nbconvert_exporter": "python",
   "pygments_lexer": "ipython3",
   "version": "3.6.2"
  }
 },
 "nbformat": 4,
 "nbformat_minor": 2
}
