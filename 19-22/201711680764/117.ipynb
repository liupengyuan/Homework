{
 "cells": [
  {
   "cell_type": "code",
   "execution_count": 6,
   "metadata": {
    "collapsed": false
   },
   "outputs": [
    {
     "name": "stdout",
     "output_type": "stream",
     "text": [
      "the first number5\n",
      "the second number10\n",
      "the third number,500\n",
      "3.1622776601683795\n"
     ]
    }
   ],
   "source": [
    "import random\n",
    "\n",
    "m=int(input('the first number'))\n",
    "n=int(input('the second number'))\n",
    "k=int(input('the third number,'))\n",
    "num=random.randint(m,k)\n",
    "input_time=0\n",
    "total=0\n",
    "while input_time<m:\n",
    "        input_time=input_time+1\n",
    "        total=total+num\n",
    "        break\n",
    "    \n",
    "print(total**(1/2))\n",
    "\n",
    "         \n",
    "    \n",
    "    \n",
    "        "
   ]
  },
  {
   "cell_type": "code",
   "execution_count": null,
   "metadata": {
    "collapsed": true
   },
   "outputs": [],
   "source": []
  },
  {
   "cell_type": "code",
   "execution_count": null,
   "metadata": {
    "collapsed": true
   },
   "outputs": [],
   "source": []
  }
 ],
 "metadata": {
  "kernelspec": {
   "display_name": "Python 3",
   "language": "python",
   "name": "python3"
  },
  "language_info": {
   "codemirror_mode": {
    "name": "ipython",
    "version": 3
   },
   "file_extension": ".py",
   "mimetype": "text/x-python",
   "name": "python",
   "nbconvert_exporter": "python",
   "pygments_lexer": "ipython3",
   "version": "3.6.0"
  }
 },
 "nbformat": 4,
 "nbformat_minor": 2
}
