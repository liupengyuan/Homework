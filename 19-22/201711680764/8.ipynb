{
 "cells": [
  {
   "cell_type": "code",
   "execution_count": null,
   "metadata": {},
   "outputs": [
    {
     "name": "stdout",
     "output_type": "stream",
     "text": [
      "长相厮守\n",
      "请输入以这个成语的最后一个字开头的成语:守株待兔\n",
      "兔死狐悲\n",
      "请输入以这个成语的最后一个字开头的成语:悲欢离合\n",
      "合二为一\n",
      "请输入以这个成语的最后一个字开头的成语:一生一世\n",
      "losing2\n",
      "你的得分和计算机的得分分别为： 20 20\n"
     ]
    }
   ],
   "source": [
    "import random\n",
    "\n",
    "fh = open(r'c:\\temp\\成语大全.txt')\n",
    "text = fh.read()\n",
    "fh.close()\n",
    "\n",
    "text = text.replace('、', '')\n",
    "idioms = text.split()\n",
    "\n",
    "\n",
    "\n",
    "\n",
    "def dfg():\n",
    "    idc = random.choice(idioms)\n",
    "    print(idc)\n",
    "    s1=0\n",
    "    s2=0\n",
    "    c=idioms[len(idioms)-1]\n",
    "    while True:\n",
    "        a=str(input('请输入以这个成语的最后一个字开头的成语:'))\n",
    "        kj=a[3]\n",
    "        if a in idioms:\n",
    "            s1=s1+10\n",
    "            \n",
    "            for i in range(len(idioms)):\n",
    "                cy=idioms[i]\n",
    "                if cy[0]==kj:\n",
    "                    print(cy)\n",
    "                    s2=s2+10\n",
    "                    break\n",
    "                if cy[0]!=kj:\n",
    "                    continue\n",
    "                   \n",
    "\n",
    "\n",
    "                   \n",
    "                        \n",
    "             \n",
    "                 \n",
    "        if a not in idioms:\n",
    "            print('losing2')\n",
    "            print('你的得分和计算机的得分分别为：',s1,s2)\n",
    "\n",
    "dfg()\n"
   ]
  },
  {
   "cell_type": "code",
   "execution_count": null,
   "metadata": {
    "collapsed": true
   },
   "outputs": [],
   "source": []
  },
  {
   "cell_type": "code",
   "execution_count": null,
   "metadata": {
    "collapsed": true
   },
   "outputs": [],
   "source": []
  }
 ],
 "metadata": {
  "kernelspec": {
   "display_name": "Python 3",
   "language": "python",
   "name": "python3"
  },
  "language_info": {
   "codemirror_mode": {
    "name": "ipython",
    "version": 3
   },
   "file_extension": ".py",
   "mimetype": "text/x-python",
   "name": "python",
   "nbconvert_exporter": "python",
   "pygments_lexer": "ipython3",
   "version": "3.6.2"
  }
 },
 "nbformat": 4,
 "nbformat_minor": 2
}
