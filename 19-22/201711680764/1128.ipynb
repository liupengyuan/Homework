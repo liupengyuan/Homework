{
 "cells": [
  {
   "cell_type": "code",
   "execution_count": 14,
   "metadata": {
    "collapsed": false
   },
   "outputs": [
    {
     "name": "stdout",
     "output_type": "stream",
     "text": [
      "\n",
      "a\n",
      "ab\n",
      "abc\n",
      "abcd\n",
      "abcde\n",
      "abcdef\n",
      "abcdefg\n",
      "abcdefgh\n",
      "abcdefghj\n",
      "abcdefghji\n",
      "abcdefghjik\n",
      "abcdefghjikl\n",
      "abcdefghjiklm\n",
      "abcdefghjiklmn\n",
      "abcdefghjiklmno\n",
      "abcdefghjiklmnop\n",
      "abcdefghjiklmnopq\n",
      "abcdefghjiklmnopqr\n",
      "abcdefghjiklmnopqrs\n",
      "abcdefghjiklmnopqrst\n",
      "abcdefghjiklmnopqrstu\n",
      "abcdefghjiklmnopqrstuv\n",
      "abcdefghjiklmnopqrstuvw\n",
      "abcdefghjiklmnopqrstuvwx\n",
      "abcdefghjiklmnopqrstuvwxy\n",
      "abcdefghjiklmnopqrstuvwxyz\n"
     ]
    }
   ],
   "source": [
    "line='abcdefghjiklmnopqrstuvwxyz'\n",
    "n=len(line)\n",
    "\n",
    "for i in range(0,n+1):\n",
    "    print(line[0:i])"
   ]
  },
  {
   "cell_type": "code",
   "execution_count": null,
   "metadata": {
    "collapsed": true
   },
   "outputs": [],
   "source": []
  },
  {
   "cell_type": "code",
   "execution_count": null,
   "metadata": {
    "collapsed": true
   },
   "outputs": [],
   "source": []
  },
  {
   "cell_type": "code",
   "execution_count": null,
   "metadata": {
    "collapsed": true
   },
   "outputs": [],
   "source": []
  },
  {
   "cell_type": "code",
   "execution_count": null,
   "metadata": {
    "collapsed": true
   },
   "outputs": [],
   "source": []
  }
 ],
 "metadata": {
  "kernelspec": {
   "display_name": "Python 3",
   "language": "python",
   "name": "python3"
  },
  "language_info": {
   "codemirror_mode": {
    "name": "ipython",
    "version": 3
   },
   "file_extension": ".py",
   "mimetype": "text/x-python",
   "name": "python",
   "nbconvert_exporter": "python",
   "pygments_lexer": "ipython3",
   "version": "3.6.0"
  }
 },
 "nbformat": 4,
 "nbformat_minor": 2
}
