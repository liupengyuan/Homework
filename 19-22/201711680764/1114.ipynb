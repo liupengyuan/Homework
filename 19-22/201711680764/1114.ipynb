{
 "cells": [
  {
   "cell_type": "code",
   "execution_count": 11,
   "metadata": {},
   "outputs": [
    {
     "name": "stdout",
     "output_type": "stream",
     "text": [
      "899\n",
      "-10\n",
      "106.72999999999999\n"
     ]
    }
   ],
   "source": [
    "# 写函数，返回一个list中的最大值，最小值，平均值。（不用内置的求和求函数）\n",
    "def list():\n",
    "    number=[1,2,-1,55,100,899,-10,3,12.5,5.8]\n",
    "    print(max(number))\n",
    "    print(min(number))\n",
    "    total=0\n",
    "    for i in number:\n",
    "        total+=i\n",
    "    print(total/10)\n",
    "        \n",
    "    \n",
    "    \n",
    "list()\n",
    "\n"
   ]
  },
  {
   "cell_type": "code",
   "execution_count": null,
   "metadata": {
    "collapsed": true
   },
   "outputs": [],
   "source": []
  },
  {
   "cell_type": "code",
   "execution_count": null,
   "metadata": {
    "collapsed": true
   },
   "outputs": [],
   "source": []
  }
 ],
 "metadata": {
  "kernelspec": {
   "display_name": "Python 3",
   "language": "python",
   "name": "python3"
  },
  "language_info": {
   "codemirror_mode": {
    "name": "ipython",
    "version": 3
   },
   "file_extension": ".py",
   "mimetype": "text/x-python",
   "name": "python",
   "nbconvert_exporter": "python",
   "pygments_lexer": "ipython3",
   "version": "3.6.2"
  }
 },
 "nbformat": 4,
 "nbformat_minor": 2
}
