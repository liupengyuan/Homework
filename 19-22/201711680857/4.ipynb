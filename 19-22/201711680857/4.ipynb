{
 "cells": [
  {
   "cell_type": "markdown",
   "metadata": {},
   "source": [
    "### 练习1：求m!+n!+k!"
   ]
  },
  {
   "cell_type": "code",
   "execution_count": 3,
   "metadata": {},
   "outputs": [
    {
     "name": "stdout",
     "output_type": "stream",
     "text": [
      "请输入一个整数m：3\n",
      "请输入一个整数n：4\n",
      "请输入一个整数k：5\n",
      "m!+n!+k!的和是： 150\n"
     ]
    }
   ],
   "source": [
    "def mul(end):\n",
    "    i=0\n",
    "    a=1\n",
    "    while i<end:\n",
    "        i=i+1\n",
    "        a=a*i\n",
    "    return a\n",
    "m=int(input('请输入一个整数m：'))\n",
    "n=int(input('请输入一个整数n：'))\n",
    "k=int(input('请输入一个整数k：'))\n",
    "print('m!+n!+k!的和是：',mul(m)+mul(n)+mul(k))"
   ]
  },
  {
   "cell_type": "markdown",
   "metadata": {},
   "source": [
    "### 练习2：写函数可返回1-1/3+1/5-1/7...的前n项的和。在主程序中，分别令n=1000及100000，打印4倍该函数的和。"
   ]
  },
  {
   "cell_type": "code",
   "execution_count": 3,
   "metadata": {},
   "outputs": [
    {
     "name": "stdout",
     "output_type": "stream",
     "text": [
      "请输入一个整数1000\n",
      "请输入一个整数100000\n",
      "最终的和是： 3.140592653839794\n",
      "最终的和是： 3.1415826535897198\n"
     ]
    }
   ],
   "source": [
    "def a_sum(n):\n",
    "    i=0\n",
    "    b=0\n",
    "    while i<n:\n",
    "        i=i+1\n",
    "        c=2*i\n",
    "        if (c-1)%4==1:\n",
    "            a=1/(c-1)\n",
    "        elif (c-1)%4==3:\n",
    "            a=-1/(c-1)\n",
    "        b=a+b\n",
    "    return b\n",
    "n1=int(input('请输入一个整数'))\n",
    "n2=int(input('请输入一个整数'))\n",
    "print('最终的和是：',4*a_sum(n1))\n",
    "print('最终的和是：',4*a_sum(n2))\n",
    "    "
   ]
  },
  {
   "cell_type": "markdown",
   "metadata": {},
   "source": [
    "### 练习 3：将task3中的练习1及练习4改写为函数，并进行调用。\n",
    "#### 练习 1：写程序，可由键盘读入用户姓名例如Mr. right，让用户输入出生的月份与日期，判断用户星座，假设用户是金牛座，则输出，Mr. right，你是非常有性格的金牛座！。\n",
    "#### 练习 4：英文单词单数转复数，要求输入一个英文动词（单数形式），能够得到其复数形式，或给出单数转复数形式的建议"
   ]
  },
  {
   "cell_type": "code",
   "execution_count": 1,
   "metadata": {},
   "outputs": [
    {
     "name": "stdout",
     "output_type": "stream",
     "text": [
      "请输入生日月份：1\n",
      "请输入生日日期：15\n",
      "你是摩羯座！\n"
     ]
    }
   ],
   "source": [
    "def star(a):\n",
    "    if  month==12 and 21<date<32 or month==1 and 0<date<20:\n",
    "        b=('你是摩羯座！')\n",
    "    elif month==1 and 19<date<32 or month==2 and 0<date<19:\n",
    "        b=('你是水瓶座！')\n",
    "    elif month==2 and 18<date<30 or month==3 and 0<date<21:\n",
    "        b=('你是双鱼座！')\n",
    "    elif month==3 and 20<date<32 or month==4 and 0<date<20:\n",
    "        b=('你是白羊座！')\n",
    "    elif month==4 and 19<date<31 or month==5 and 0<date<21:\n",
    "        b=('你是金牛座！')\n",
    "    elif month==5 and 20<date<32 or month==6 and 0<date<22:\n",
    "        b=('你是双子座！')\n",
    "    elif month==6 and 21<date<31 or month==7 and 0<date<23:\n",
    "        b=('你是巨蟹座！')\n",
    "    elif month==7 and 22<date<32 or month==8 and 0<date<23:\n",
    "        b=('你是狮子座！')\n",
    "    elif month==8 and 22<date<32 or month==9 and 0<date<23:\n",
    "        b=('你是处女座！')\n",
    "    elif month==9 and 22<date<31 or month==10 and 0<date<24:\n",
    "        b=('你是天秤座！')\n",
    "    elif month==10 and 23<date<32 or month==11 and 0<date<23:\n",
    "        b=('你是天蝎座！')\n",
    "    elif month==11 and 22<date<31 or month==12 and 0<date<22:\n",
    "        b=('你是射手座！')\n",
    "    else:\n",
    "        b=('输入错误！')\n",
    "    return b \n",
    "month=int(input('请输入生日月份：'))\n",
    "date=int(input('请输入生日日期：')) \n",
    "print (star(month))"
   ]
  },
  {
   "cell_type": "code",
   "execution_count": 2,
   "metadata": {},
   "outputs": [
    {
     "name": "stdout",
     "output_type": "stream",
     "text": [
      "请输入一个英文名词：photo\n",
      "在名词后+es\n"
     ]
    }
   ],
   "source": [
    "def p(a):\n",
    "    if a.endswith('s'):\n",
    "        b=('在名词后+es')\n",
    "    elif a.endswith('sh'):\n",
    "        b=('在名词后+es')\n",
    "    elif a.endswith('ch'):\n",
    "        b=('在名词后+es')\n",
    "    elif a.endswith('x'):\n",
    "        b=('在名词后+es')\n",
    "    elif a.endswith('y'):\n",
    "        b=('在名词后y变ies')\n",
    "    elif a.endswith('o'):\n",
    "        b=('在名词后+es')\n",
    "    else :\n",
    "        b=('在名词后+s')\n",
    "    return b\n",
    "    \n",
    "a=input('请输入一个英文名词：')\n",
    "print(p(a))"
   ]
  },
  {
   "cell_type": "markdown",
   "metadata": {},
   "source": [
    "### 挑战性练习：写程序，可以求从整数m到整数n累加的和，间隔为k，求和部分需用函数实现，主程序中由用户输入m，n，k调用函数验证正确性。"
   ]
  },
  {
   "cell_type": "code",
   "execution_count": 4,
   "metadata": {},
   "outputs": [
    {
     "name": "stdout",
     "output_type": "stream",
     "text": [
      "请输入一个整数m:5\n",
      "请输入一个整数n:1\n",
      "请输入间隔k:2\n",
      "和是： 9\n"
     ]
    }
   ],
   "source": [
    "def a_sum(m):\n",
    "    b=m\n",
    "    while m<n:\n",
    "        a=m+k\n",
    "        b=b+a\n",
    "        m=a\n",
    "    while m>n:\n",
    "        a=m-k\n",
    "        b=b+a\n",
    "        m=a\n",
    "    return b\n",
    "m=int(input('请输入一个整数m:'))\n",
    "n=int(input('请输入一个整数n:'))\n",
    "k=int(input('请输入间隔k:'))\n",
    "print('和是：',a_sum(m))"
   ]
  },
  {
   "cell_type": "code",
   "execution_count": null,
   "metadata": {},
   "outputs": [],
   "source": []
  }
 ],
 "metadata": {
  "kernelspec": {
   "display_name": "Python 3",
   "language": "python",
   "name": "python3"
  },
  "language_info": {
   "codemirror_mode": {
    "name": "ipython",
    "version": 3
   },
   "file_extension": ".py",
   "mimetype": "text/x-python",
   "name": "python",
   "nbconvert_exporter": "python",
   "pygments_lexer": "ipython3",
   "version": "3.6.3"
  }
 },
 "nbformat": 4,
 "nbformat_minor": 2
}
