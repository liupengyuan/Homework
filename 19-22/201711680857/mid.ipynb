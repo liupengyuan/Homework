{
 "cells": [
  {
   "cell_type": "markdown",
   "metadata": {},
   "source": [
    "### 1"
   ]
  },
  {
   "cell_type": "code",
   "execution_count": 3,
   "metadata": {},
   "outputs": [
    {
     "name": "stdout",
     "output_type": "stream",
     "text": [
      "请输入数字m:3\n",
      "10\n"
     ]
    }
   ],
   "source": [
    "def a_sum(m):\n",
    "    i=0\n",
    "    a=0\n",
    "    total=0\n",
    "    while i<m:\n",
    "        i=i+1\n",
    "        a=a+i\n",
    "        total=total+a\n",
    "    return total\n",
    "m=int(input('请输入数字m:'))\n",
    "print(a_sum(m))"
   ]
  },
  {
   "cell_type": "markdown",
   "metadata": {},
   "source": [
    "### 2"
   ]
  },
  {
   "cell_type": "code",
   "execution_count": 1,
   "metadata": {},
   "outputs": [
    {
     "name": "stdout",
     "output_type": "stream",
     "text": [
      "请输入一个符号：*\n",
      "请输入数字：3\n",
      "*\n",
      "**\n",
      "***\n"
     ]
    }
   ],
   "source": [
    "def ph(a,b):\n",
    "    i=1\n",
    "    while i<=b:\n",
    "        \n",
    "\n",
    "        print (a*i)\n",
    "        i=i+1\n",
    "    return\n",
    "a=input('请输入一个符号：')\n",
    "b=int(input('请输入数字：'))\n",
    "ph(a,b)"
   ]
  },
  {
   "cell_type": "markdown",
   "metadata": {},
   "source": [
    "### 3"
   ]
  },
  {
   "cell_type": "code",
   "execution_count": 2,
   "metadata": {},
   "outputs": [
    {
     "name": "stdout",
     "output_type": "stream",
     "text": [
      "48723478234432\n",
      "4\n"
     ]
    }
   ],
   "source": [
    "def first(x):\n",
    "    i=0\n",
    "    while x> 10**i:\n",
    "        i=i+1\n",
    "    k=10**(i-1)\n",
    "    b=x//k\n",
    "    \n",
    "    return b\n",
    "x=int(input())\n",
    "print(first(x))"
   ]
  },
  {
   "cell_type": "markdown",
   "metadata": {},
   "source": [
    "### 4"
   ]
  },
  {
   "cell_type": "code",
   "execution_count": 4,
   "metadata": {},
   "outputs": [
    {
     "name": "stdout",
     "output_type": "stream",
     "text": [
      "请输入人数：9\n",
      "请输入一个身高：183\n",
      "请输入一个身高：185\n",
      "请输入一个身高：183\n",
      "请输入一个身高：187\n",
      "请输入一个身高：178\n",
      "请输入一个身高：175\n",
      "请输入一个身高：177\n",
      "请输入一个身高：190\n",
      "请输入一个身高：172\n",
      "平均身高是： 181.11111111111111\n",
      "比平均值高的： 183\n",
      "比平均值高的： 185\n",
      "比平均值高的： 183\n",
      "比平均值高的： 187\n",
      "比平均值高的： 190\n"
     ]
    }
   ],
   "source": [
    "i=0\n",
    "total=0\n",
    "a=int(input('请输入人数：'))\n",
    "list=[]\n",
    "max_high=0\n",
    "while i<a:\n",
    "    high=int(input('请输入一个身高：'))\n",
    "    list.append(high)\n",
    "    total=total+high\n",
    "    i=i+1\n",
    "a_high=total/a\n",
    "print('平均身高是：',a_high)\n",
    "for high in list:\n",
    "    if high>a_high:\n",
    "        print ('比平均值高的：',high)\n",
    "\n",
    "    "
   ]
  },
  {
   "cell_type": "markdown",
   "metadata": {},
   "source": [
    "### 5"
   ]
  },
  {
   "cell_type": "code",
   "execution_count": 2,
   "metadata": {},
   "outputs": [
    {
     "name": "stdout",
     "output_type": "stream",
     "text": [
      "3 + 1 =\n",
      "请输入你的答案：4\n",
      "5 + 4 =\n",
      "请输入你的答案：9\n",
      "2 + 4 =\n",
      "请输入你的答案：6\n",
      "8 + 5 =\n",
      "请输入你的答案：13\n",
      "0 + 7 =\n",
      "请输入你的答案：7\n",
      "你的分数是 100\n"
     ]
    }
   ],
   "source": [
    "import random\n",
    "n=5\n",
    "i=0\n",
    "grade=0\n",
    "while i<n:\n",
    "    i=i+1\n",
    "    a=random.randint(0,10)\n",
    "    b=random.randint(0,10)\n",
    "    print(a,'+',b,'=')\n",
    "    x=int(input('请输入你的答案：'))\n",
    "    y=a+b\n",
    "    if x==y:\n",
    "        grade=grade+20\n",
    "print('你的分数是',grade)\n",
    "    \n",
    "    "
   ]
  },
  {
   "cell_type": "markdown",
   "metadata": {},
   "source": [
    "### 6"
   ]
  },
  {
   "cell_type": "code",
   "execution_count": 1,
   "metadata": {},
   "outputs": [
    {
     "name": "stdout",
     "output_type": "stream",
     "text": [
      "[108, 3, -5, 9, 34, 88, -76]\n"
     ]
    }
   ],
   "source": [
    "list=[3,-5,9,108,34,-76,88]\n",
    "a=len(list)\n",
    "max_num=list[0]\n",
    "min_num=list[0]\n",
    "for num in list:\n",
    "    if max_num<num:\n",
    "        max_num=num\n",
    "    if min_num>num:\n",
    "        min_num=num\n",
    "b=list.index(max_num)\n",
    "c=list.index(min_num)\n",
    "a_list=[]\n",
    "a_list.append(max_num)\n",
    "for num in list:\n",
    "    if list.index(num)!=b and list.index(num)!=c:\n",
    "        a_list.append(num)\n",
    "\n",
    "a_list.append(min_num)\n",
    "print(a_list)\n",
    "    "
   ]
  },
  {
   "cell_type": "code",
   "execution_count": null,
   "metadata": {},
   "outputs": [],
   "source": []
  }
 ],
 "metadata": {
  "kernelspec": {
   "display_name": "Python 3",
   "language": "python",
   "name": "python3"
  },
  "language_info": {
   "codemirror_mode": {
    "name": "ipython",
    "version": 3
   },
   "file_extension": ".py",
   "mimetype": "text/x-python",
   "name": "python",
   "nbconvert_exporter": "python",
   "pygments_lexer": "ipython3",
   "version": "3.6.3"
  }
 },
 "nbformat": 4,
 "nbformat_minor": 2
}
