{
 "cells": [
  {
   "cell_type": "markdown",
   "metadata": {},
   "source": [
    "### 练习一：自己定义一个reverse(s)函数，功能返回字符串s的倒序字符串。"
   ]
  },
  {
   "cell_type": "code",
   "execution_count": 4,
   "metadata": {},
   "outputs": [
    {
     "name": "stdout",
     "output_type": "stream",
     "text": [
      "abcd\n",
      "dcba\n"
     ]
    }
   ],
   "source": [
    "def a_reverse(s):\n",
    "    line=s\n",
    "    print(line[::-1])\n",
    "s=str(input())\n",
    "a_reverse(s)"
   ]
  },
  {
   "cell_type": "markdown",
   "metadata": {},
   "source": [
    "### 练习二：写函数，根据给定符号和行数，打印相应直角三角形，等腰三角形及其他形式的三角形。"
   ]
  },
  {
   "cell_type": "code",
   "execution_count": 15,
   "metadata": {},
   "outputs": [
    {
     "name": "stdout",
     "output_type": "stream",
     "text": [
      "请输入三角形的高：4\n",
      "请输入符号：*\n",
      "* \n",
      "* * \n",
      "* * * \n",
      "* * * * \n",
      "-------------\n",
      "   * \n",
      "  * * \n",
      " * * * \n",
      "* * * * \n",
      "-------------\n",
      "        * \n",
      "      * * * * \n",
      "    * * * * * * * \n",
      "  * * * * * * * * * * \n",
      "* * * * * * * * * * * * * \n"
     ]
    }
   ],
   "source": [
    "n=int(input('请输入三角形的高：'))\n",
    "def triangle(a):\n",
    "    line=a+' '\n",
    "    for i in range(1,n+1):\n",
    "        print(line*i)\n",
    "    print('-------------')\n",
    "    for j in range(1,n+1):\n",
    "        print(' '*(n-j)+line*j)\n",
    "    print('-------------')\n",
    "    for k in range(0,n+1):\n",
    "        print(' '*(n-k)*2+line*(3*k+1))\n",
    "\n",
    "a=input('请输入符号：')\n",
    "triangle(a)\n",
    "    "
   ]
  },
  {
   "cell_type": "markdown",
   "metadata": {},
   "source": [
    "### 练习五：写函数，根据给定符号，打印各种菱形。"
   ]
  },
  {
   "cell_type": "code",
   "execution_count": 4,
   "metadata": {},
   "outputs": [
    {
     "name": "stdout",
     "output_type": "stream",
     "text": [
      "请输入符号：*\n",
      "   * \n",
      "  * * \n",
      " * * * \n",
      "* * * * \n",
      " * * * \n",
      "  * * \n",
      "   * \n",
      "    \n",
      "--------------\n",
      "* * * * \n",
      "* * * * \n",
      "* * * * \n",
      "* * * * \n",
      "--------------\n",
      "   * * * * \n",
      "  * * * * \n",
      " * * * * \n",
      "* * * * \n"
     ]
    }
   ],
   "source": [
    "def diamond(a):\n",
    "    line=a+' '\n",
    "    for i in range(1,5):\n",
    "        print(' '*(4-i)+line*i)\n",
    "    for j in range(1,5):\n",
    "        print(' '*j+line*(4-j))\n",
    "    print('--------------')\n",
    "    for k in range(1,5):\n",
    "        print(line*4)\n",
    "    print('--------------')\n",
    "    for t in range(1,5):\n",
    "        print(' '*(4-t)+line*4)\n",
    "a=input('请输入符号：')\n",
    "diamond(a)\n",
    "\n",
    "\n"
   ]
  },
  {
   "cell_type": "code",
   "execution_count": null,
   "metadata": {},
   "outputs": [],
   "source": []
  }
 ],
 "metadata": {
  "kernelspec": {
   "display_name": "Python 3",
   "language": "python",
   "name": "python3"
  },
  "language_info": {
   "codemirror_mode": {
    "name": "ipython",
    "version": 3
   },
   "file_extension": ".py",
   "mimetype": "text/x-python",
   "name": "python",
   "nbconvert_exporter": "python",
   "pygments_lexer": "ipython3",
   "version": "3.6.3"
  }
 },
 "nbformat": 4,
 "nbformat_minor": 2
}
