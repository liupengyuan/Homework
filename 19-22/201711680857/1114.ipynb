{
 "cells": [
  {
   "cell_type": "markdown",
   "metadata": {},
   "source": [
    "## 写函数，返回一个list中的最大值，最小值，平均值[1,2,-1,55,100,899,-10,3,12.5,5.8]"
   ]
  },
  {
   "cell_type": "code",
   "execution_count": 9,
   "metadata": {},
   "outputs": [
    {
     "name": "stdout",
     "output_type": "stream",
     "text": [
      "最大值是： 899\n",
      "最小值是： -10\n",
      "平均值是： 106.72999999999999\n"
     ]
    }
   ],
   "source": [
    "numbers=[1,2,-1,55,100,899,-10,3,12.5,5.8]\n",
    "def list():\n",
    "\n",
    "    max=numbers[0]\n",
    "    min=numbers[0]\n",
    "    total=0\n",
    "    for i in numbers:\n",
    "        if i>max:\n",
    "            max=i\n",
    "        if i<min:\n",
    "            min=i\n",
    "        total=total+i\n",
    "    n=len(numbers)\n",
    "    print('最大值是：',max)\n",
    "    print('最小值是：',min)\n",
    "    print('平均值是：',total/n)\n",
    "list()\n",
    "\n"
   ]
  },
  {
   "cell_type": "code",
   "execution_count": null,
   "metadata": {},
   "outputs": [],
   "source": []
  }
 ],
 "metadata": {
  "kernelspec": {
   "display_name": "Python 3",
   "language": "python",
   "name": "python3"
  },
  "language_info": {
   "codemirror_mode": {
    "name": "ipython",
    "version": 3
   },
   "file_extension": ".py",
   "mimetype": "text/x-python",
   "name": "python",
   "nbconvert_exporter": "python",
   "pygments_lexer": "ipython3",
   "version": "3.6.3"
  }
 },
 "nbformat": 4,
 "nbformat_minor": 2
}
