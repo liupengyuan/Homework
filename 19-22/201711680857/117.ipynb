{
 "cells": [
  {
   "cell_type": "markdown",
   "metadata": {},
   "source": [
    "### 用户从键盘输入数m,n,k,写函数，可利用计算机得到m个从n到k的随机整数，求这m个数和的平方根。m,n,k用5,10,500进行验证函数正确性。"
   ]
  },
  {
   "cell_type": "code",
   "execution_count": 9,
   "metadata": {},
   "outputs": [
    {
     "name": "stdout",
     "output_type": "stream",
     "text": [
      "n10\n",
      "k500\n",
      "m5\n",
      "31.176914536239792\n"
     ]
    }
   ],
   "source": [
    "n=int(input('n'))\n",
    "k=int(input('k'))\n",
    "import random,math\n",
    "def sum(p):\n",
    "    i=0\n",
    "    total=0\n",
    "    while i<p:\n",
    "        a=random.randint(n,k)\n",
    "        i=i+1\n",
    "        total=total+a\n",
    "    return total\n",
    "m=int(input('m'))\n",
    "\n",
    "b= math.sqrt(sum(m))\n",
    "print(b)"
   ]
  },
  {
   "cell_type": "code",
   "execution_count": null,
   "metadata": {},
   "outputs": [],
   "source": []
  }
 ],
 "metadata": {
  "kernelspec": {
   "display_name": "Python 3",
   "language": "python",
   "name": "python3"
  },
  "language_info": {
   "codemirror_mode": {
    "name": "ipython",
    "version": 3
   },
   "file_extension": ".py",
   "mimetype": "text/x-python",
   "name": "python",
   "nbconvert_exporter": "python",
   "pygments_lexer": "ipython3",
   "version": "3.6.3"
  }
 },
 "nbformat": 4,
 "nbformat_minor": 2
}
