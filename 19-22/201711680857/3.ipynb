{
 "cells": [
  {
   "cell_type": "markdown",
   "metadata": {},
   "source": [
    "#### 练习 1：写程序，可由键盘读入用户姓名例如Mr. right，让用户输入出生的月份与日期，判断用户星座，假设用户是金牛座，则输出，Mr. right，你是非常有性格的金牛座！。"
   ]
  },
  {
   "cell_type": "code",
   "execution_count": null,
   "metadata": {},
   "outputs": [],
   "source": [
    "name = input('请输入姓名：')\n",
    "month = int(input('请输入你生日的月份：'))\n",
    "date = int(input('请输入你生日的日期：'))\n",
    "if 0<month<2 :\n",
    "    if 0<date<20 :\n",
    "        print(name,'，你是摩羯座！')\n",
    "    elif 19<date<32:\n",
    "        print(name,'，你是水瓶座！')\n",
    "elif 1<month<3:\n",
    "    if 0<date<19:\n",
    "        print(name,'，你是水瓶座！')\n",
    "    elif 18<date<30:\n",
    "        print(name,'，你是双鱼座！')\n",
    "elif 2<month<4:\n",
    "    if 0<date<21:\n",
    "        print(name,'，你是双鱼座！')\n",
    "    elif 20<date<32:\n",
    "        print(name,'，你是白羊座！')\n",
    "elif 3<month<5:\n",
    "    if 0<date<20:\n",
    "        print(name,'，你是白羊座！')\n",
    "    elif 19<date<31:\n",
    "        print(name,'，你是金牛座！')\n",
    "elif 4<month<6:\n",
    "    if 0<date<21:\n",
    "        print(name,'，你是金牛座！')\n",
    "    elif 20<date<32:\n",
    "        print(name,'，你是双子座！')\n",
    "elif 5<month<7:\n",
    "    if 0<date<22:\n",
    "        print(name,'，你是双子座！')\n",
    "    elif 21<date<31:\n",
    "        print(name,'，你是巨蟹座！')\n",
    "elif 6<month<8:\n",
    "    if 0<date<23:\n",
    "        print(name,'，你是巨蟹座！')\n",
    "    elif 22<date<32:\n",
    "        print(name,'，你是狮子座！')\n",
    "elif 7<month<9:\n",
    "    if 0<date<23:\n",
    "        print(name,'，你是狮子座！')\n",
    "    elif 22<date<32:\n",
    "        print(name,'，你是处女座！')\n",
    "elif 8<month<10:\n",
    "    if 0<date<23:\n",
    "        print(name,'，你是处女座！')\n",
    "    elif 22<date<31:\n",
    "        print(name,'，你是天秤座！')\n",
    "elif 9<month<11:\n",
    "    if 0<date<24:\n",
    "        print(name,'，你是天秤座！')\n",
    "    elif 23<date<32:\n",
    "        print(name,'，你是天蝎座！')\n",
    "elif 10<month<12:\n",
    "    if 0<date<23:\n",
    "        print(name,'，你是天蝎座！')\n",
    "    elif 22<date<31:\n",
    "        print(name,'，你是射手座！')\n",
    "elif 11<month<13:\n",
    "    if 0<date<22:\n",
    "        print(name,'，你是射手座！')\n",
    "    elif 21<date<32:\n",
    "        print(name,'，你是摩羯座！')"
   ]
  },
  {
   "cell_type": "markdown",
   "metadata": {},
   "source": [
    "#### 练习 2：写程序，可由键盘读入两个整数m与n(n不等于0)，询问用户意图，如果要求和则计算从m到n的和输出，如果要乘积则计算从m到n的积并输出，如果要求余数则计算m除以n的余数的值并输出，否则则计算m整除n的值并输出。"
   ]
  },
  {
   "cell_type": "code",
   "execution_count": 12,
   "metadata": {},
   "outputs": [
    {
     "name": "stdout",
     "output_type": "stream",
     "text": [
      "请输入一个整数m：60\n",
      "请输入一个不为零的整数n：11\n",
      "计算 和 请输入1，计算 乘积 请输入2，计算 余数 请输入3，否则将计算m整除n的值:5\n",
      "5\n"
     ]
    }
   ],
   "source": [
    "m=int(input('请输入一个整数m：'))\n",
    "n=int(input('请输入一个不为零的整数n：'))\n",
    "order=int(input('计算 和 请输入1，计算 乘积 请输入2，计算 余数 请输入3，否则将计算m整除n的值:'))\n",
    "if 0< order <2:\n",
    "    print(m+n)\n",
    "elif 1< order <3:\n",
    "    print(m*n)\n",
    "elif 2< order <4:\n",
    "    print(m%n)\n",
    "else:\n",
    "    print(m//n)\n",
    "\n"
   ]
  },
  {
   "cell_type": "markdown",
   "metadata": {},
   "source": [
    "#### 练习 3：写程序，能够根据北京雾霾PM2.5数值给出对应的防护建议。如当PM2.5数值大于500，则应该打开空气净化器，戴防雾霾口罩等。"
   ]
  },
  {
   "cell_type": "code",
   "execution_count": 15,
   "metadata": {},
   "outputs": [
    {
     "name": "stdout",
     "output_type": "stream",
     "text": [
      "北京雾霾PM2.5数值：567\n",
      "应该打开空气净化器，带防雾霾口罩。\n"
     ]
    }
   ],
   "source": [
    "a=int(input('北京雾霾PM2.5数值：'))\n",
    "if 0<a<=300:\n",
    "    print('空气还可以')\n",
    "elif 301<a<=500:\n",
    "    print('减少外出')\n",
    "else:\n",
    "    print('应该打开空气净化器，带防雾霾口罩。')"
   ]
  },
  {
   "cell_type": "markdown",
   "metadata": {},
   "source": [
    "#### 练习 4：英文单词单数转复数，要求输入一个英文动词（单数形式），能够得到其复数形式，或给出单数转复数形式的建议（提示，some_string.endswith(some_letter)函数可以判断某字符串结尾字符，可尝试运行：'myname'.endswith('me')，liupengyuan'.endswith('n')）。"
   ]
  },
  {
   "cell_type": "code",
   "execution_count": 6,
   "metadata": {
    "scrolled": true
   },
   "outputs": [
    {
     "name": "stdout",
     "output_type": "stream",
     "text": [
      "请输入一个英文名词：photo\n",
      "在名词后+es\n"
     ]
    }
   ],
   "source": [
    "a=input('请输入一个英文名词：')\n",
    "if a.endswith('s'):\n",
    "    print('在名词后+es')\n",
    "elif a.endswith('sh'):\n",
    "    print('在名词后+es')\n",
    "elif a.endswith('ch'):\n",
    "    print('在名词后+es')\n",
    "elif a.endswith('x'):\n",
    "    print('在名词后+es')\n",
    "elif a.endswith('y'):\n",
    "    print('在名词后y变ies')\n",
    "elif a.endswith('o'):\n",
    "    print('在名词后+es')\n",
    "else :\n",
    "    print('在名词后+s')"
   ]
  },
  {
   "cell_type": "markdown",
   "metadata": {},
   "source": [
    "#### 尝试性练习：写程序，能够在屏幕上显示空行。"
   ]
  },
  {
   "cell_type": "code",
   "execution_count": 4,
   "metadata": {},
   "outputs": [
    {
     "name": "stdout",
     "output_type": "stream",
     "text": [
      "                                                                                                                        这是空行  \n"
     ]
    }
   ],
   "source": [
    "print ('                                                                                                                        这是空行  ')"
   ]
  },
  {
   "cell_type": "markdown",
   "metadata": {},
   "source": [
    "#### 挑战性练习：写程序，由用户输入一些整数，能够得到几个整数中的次大值(第二大的值)并输出。"
   ]
  },
  {
   "cell_type": "code",
   "execution_count": 3,
   "metadata": {
    "scrolled": true
   },
   "outputs": [
    {
     "name": "stdout",
     "output_type": "stream",
     "text": [
      "请输入要输入的整数个数，回车结束。7\n",
      "请输入一个整数，回车结束3\n",
      "请输入一个整数，回车结束6\n",
      "请输入一个整数，回车结束8\n",
      "请输入一个整数，回车结束4\n",
      "请输入一个整数，回车结束9\n",
      "请输入一个整数，回车结束2\n",
      "请输入一个整数，回车结束4\n",
      "次大值是： 8\n"
     ]
    }
   ],
   "source": [
    "m = int(input('请输入要输入的整数个数，回车结束。'))\n",
    "a=m\n",
    "max_number = int(input('请输入一个整数，回车结束'))\n",
    "i = 1\n",
    "while i < m:\n",
    "    i += 1\n",
    "    n = int(input('请输入一个整数，回车结束'))\n",
    "    if n > max_number:\n",
    "        a=max_number\n",
    "        max_number = n\n",
    "    elif n< max_number :\n",
    "        if n>a:\n",
    "            a=n\n",
    "print('次大值是：', a)"
   ]
  },
  {
   "cell_type": "markdown",
   "metadata": {},
   "source": []
  }
 ],
 "metadata": {
  "kernelspec": {
   "display_name": "Python 3",
   "language": "python",
   "name": "python3"
  },
  "language_info": {
   "codemirror_mode": {
    "name": "ipython",
    "version": 3
   },
   "file_extension": ".py",
   "mimetype": "text/x-python",
   "name": "python",
   "nbconvert_exporter": "python",
   "pygments_lexer": "ipython3",
   "version": "3.6.3"
  }
 },
 "nbformat": 4,
 "nbformat_minor": 2
}
