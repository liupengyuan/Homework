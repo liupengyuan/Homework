{
 "cells": [
  {
   "cell_type": "code",
   "execution_count": 3,
   "metadata": {},
   "outputs": [
    {
     "name": "stdout",
     "output_type": "stream",
     "text": [
      "请输入第一个数m：4\n",
      "请输入第二个数n：3\n",
      "1+...m+1+...n的和是： 16\n"
     ]
    }
   ],
   "source": [
    "def my_sum(end):\n",
    "    i=0\n",
    "    a=0\n",
    "    while i<end:\n",
    "        i=i+1\n",
    "        a=a+i\n",
    "    return a\n",
    "def my_mul(end):\n",
    "    k=0\n",
    "    b=1\n",
    "    while k<end:\n",
    "        k=k+1\n",
    "        b=b*k\n",
    "    return b\n",
    "m=int(input('请输入第一个数m：'))\n",
    "n=int(input('请输入第二个数n：'))\n",
    "if m>n:\n",
    "    print('1+...m+1+...n的和是：',my_sum(n)+my_sum(m))\n",
    "else :\n",
    "    print('m!+n!的和是：',my_mul(n)+my_mul(m))    "
   ]
  },
  {
   "cell_type": "code",
   "execution_count": null,
   "metadata": {},
   "outputs": [],
   "source": []
  }
 ],
 "metadata": {
  "kernelspec": {
   "display_name": "Python 3",
   "language": "python",
   "name": "python3"
  },
  "language_info": {
   "codemirror_mode": {
    "name": "ipython",
    "version": 3
   },
   "file_extension": ".py",
   "mimetype": "text/x-python",
   "name": "python",
   "nbconvert_exporter": "python",
   "pygments_lexer": "ipython3",
   "version": "3.6.3"
  }
 },
 "nbformat": 4,
 "nbformat_minor": 2
}
