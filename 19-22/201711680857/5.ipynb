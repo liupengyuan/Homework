{
 "cells": [
  {
   "cell_type": "markdown",
   "metadata": {},
   "source": [
    "#### 练习 1：写函数，求n个随机整数均值的平方根，整数范围在m与k之间（n,m,k由用户输入）。"
   ]
  },
  {
   "cell_type": "code",
   "execution_count": 3,
   "metadata": {},
   "outputs": [
    {
     "name": "stdout",
     "output_type": "stream",
     "text": [
      "请输入一个整数m：1\n",
      "请输入一个整数k：10\n",
      "请输入选取整数个数n：4\n",
      "结果是： 1.224744871391589\n"
     ]
    }
   ],
   "source": [
    "m=int(input('请输入一个整数m：'))\n",
    "k=int(input('请输入一个整数k：'))\n",
    "import random,math\n",
    "def a_sum(x):\n",
    "    i=0\n",
    "    total=0\n",
    "    if i<x:\n",
    "        a=random.randint(m,k)\n",
    "        total=total+a\n",
    "        i=i+1\n",
    "    b=a/n\n",
    "    c=math.sqrt(b)\n",
    "    return c\n",
    "n=int(input('请输入选取整数个数n：'))\n",
    "print('结果是：',a_sum(n))"
   ]
  },
  {
   "cell_type": "markdown",
   "metadata": {},
   "source": [
    "#### 练习 2：写函数，共n个随机整数，整数范围在m与k之间，（n,m,k由用户输入）。求1：西格玛log(随机整数)，2：西格玛1/log(随机整数)"
   ]
  },
  {
   "cell_type": "code",
   "execution_count": 4,
   "metadata": {},
   "outputs": [
    {
     "name": "stdout",
     "output_type": "stream",
     "text": [
      "请输入一个整数m：1\n",
      "请输入一个整数k：10\n",
      "请输入选取整数个数n：4\n",
      "结果是： 1.791759469228055\n"
     ]
    }
   ],
   "source": [
    "m=int(input('请输入一个整数m：'))\n",
    "k=int(input('请输入一个整数k：'))\n",
    "import random,math\n",
    "def b_sum(x):\n",
    "    i=0\n",
    "    total=0\n",
    "    if i<x:\n",
    "        a=random.randint(m,k)\n",
    "        b=math.log(a)\n",
    "        total=total+b\n",
    "        i=i+1\n",
    "    return total\n",
    "n=int(input('请输入选取整数个数n：'))\n",
    "print('结果是：',b_sum(n))"
   ]
  },
  {
   "cell_type": "code",
   "execution_count": 5,
   "metadata": {},
   "outputs": [
    {
     "name": "stdout",
     "output_type": "stream",
     "text": [
      "请输入一个整数m：1\n",
      "请输入一个整数k：10\n",
      "请输入选取整数个数n：4\n",
      "结果是： 0.5581106265512472\n"
     ]
    }
   ],
   "source": [
    "m=int(input('请输入一个整数m：'))\n",
    "k=int(input('请输入一个整数k：'))\n",
    "import random,math\n",
    "def b_sum(x):\n",
    "    i=0\n",
    "    total=0\n",
    "    if i<x:\n",
    "        a=random.randint(m,k)\n",
    "        b=math.log(a)\n",
    "        total=total+1/b\n",
    "        i=i+1\n",
    "    return total\n",
    "n=int(input('请输入选取整数个数n：'))\n",
    "print('结果是：',b_sum(n))"
   ]
  },
  {
   "cell_type": "markdown",
   "metadata": {},
   "source": [
    "#### 练习 3：写函数，求s=a+aa+aaa+aaaa+aa...a的值，其中a是[1,9]之间的随机整数。例如2+22+222+2222+22222(此时共有5个数相加)，几个数相加由键盘输入。"
   ]
  },
  {
   "cell_type": "code",
   "execution_count": 16,
   "metadata": {},
   "outputs": [
    {
     "name": "stdout",
     "output_type": "stream",
     "text": [
      "请输入数字个数：2\n",
      "结果是： 84\n"
     ]
    }
   ],
   "source": [
    "import random\n",
    "def c_sum(x):\n",
    "    a=random.randint(1,9)\n",
    "    i=0\n",
    "    b=0\n",
    "    s=0\n",
    "    while i<x:\n",
    "        b=1+(10*b)\n",
    "        s=s+b*a\n",
    "        i=i+1\n",
    "    return s\n",
    "n=int(input('请输入数字个数：'))\n",
    "print('结果是：',c_sum(n))"
   ]
  },
  {
   "cell_type": "markdown",
   "metadata": {},
   "source": [
    "#### 挑战性练习：仿照task5，将猜数游戏改成由用户随便选择一个整数，让计算机来猜测的猜数游戏，要求和task5中人猜测的方法类似，但是人机角色对换，由人来判断猜测是大、小还是相等，请写出完整的猜数游戏。"
   ]
  },
  {
   "cell_type": "code",
   "execution_count": 1,
   "metadata": {},
   "outputs": [
    {
     "name": "stdout",
     "output_type": "stream",
     "text": [
      "进入游戏请输入任意键h\n",
      "\n",
      "              =====游戏菜单=====\n",
      "         **这是一个大佬才会玩的游戏**\n",
      "                1. 游戏说明\n",
      "                2. 开始游戏\n",
      "                3. 退出游戏\n",
      "                4. 制作团队\n",
      "              =====游戏菜单=====\n",
      "请输入你的选择1\n",
      "游戏说明：随便选择一个整数，让计算机来猜测\n",
      "\n",
      "              =====游戏菜单=====\n",
      "         **这是一个大佬才会玩的游戏**\n",
      "                1. 游戏说明\n",
      "                2. 开始游戏\n",
      "                3. 退出游戏\n",
      "                4. 制作团队\n",
      "              =====游戏菜单=====\n",
      "请输入你的选择2\n",
      "请确定一个神秘整数：45\n",
      "请输入一个大于神秘数字的整数，作为计算机猜测神秘整数的上界：100\n",
      "计算机猜测数字是： 82\n",
      "一共可以猜 7 次\n",
      "计算机已经猜了 1 次\n",
      "计算机猜大了\n",
      "计算机猜测数字是： 80\n",
      "一共可以猜 7 次\n",
      "计算机已经猜了 2 次\n",
      "计算机猜大了\n",
      "计算机猜测数字是： 11\n",
      "一共可以猜 7 次\n",
      "计算机已经猜了 3 次\n",
      "计算机猜小了\n",
      "计算机猜测数字是： 67\n",
      "一共可以猜 7 次\n",
      "计算机已经猜了 4 次\n",
      "计算机猜大了\n",
      "计算机猜测数字是： 31\n",
      "一共可以猜 7 次\n",
      "计算机已经猜了 5 次\n",
      "计算机猜小了\n",
      "计算机猜测数字是： 47\n",
      "一共可以猜 7 次\n",
      "计算机已经猜了 6 次\n",
      "计算机猜大了\n",
      "计算机猜测数字是： 35\n",
      "神秘数字是： 45\n",
      "哈哈，计算机失败了\n",
      "\n",
      "              =====游戏菜单=====\n",
      "         **这是一个大佬才会玩的游戏**\n",
      "                1. 游戏说明\n",
      "                2. 开始游戏\n",
      "                3. 退出游戏\n",
      "                4. 制作团队\n",
      "              =====游戏菜单=====\n",
      "请输入你的选择3\n",
      "游戏结束，你已经成为了一个新晋大佬，恭喜你！\n"
     ]
    }
   ],
   "source": [
    "import random,math\n",
    "\n",
    "def win(a):\n",
    "    print('哈哈，计算机成功了')\n",
    "def lose(a):\n",
    "    print('哈哈，计算机失败了')\n",
    "def game_over(a):\n",
    "    print('游戏结束，你已经成为了一个新晋大佬，恭喜你！')\n",
    "def show_team(a):\n",
    "    print('制作团队：小仙女一个人')\n",
    "def show_instruction(a):\n",
    "    print('游戏说明：随便选择一个整数，让计算机来猜测')\n",
    "def menu(a):\n",
    "    print('''\n",
    "              =====游戏菜单=====\n",
    "         **这是一个大佬才会玩的游戏**\n",
    "                1. 游戏说明\n",
    "                2. 开始游戏\n",
    "                3. 退出游戏\n",
    "                4. 制作团队\n",
    "              =====游戏菜单=====''')\n",
    "def guess_game(k):\n",
    "    num = int(input('请确定一个神秘整数：'))\n",
    "    n = int(input('请输入一个大于神秘数字的整数，作为计算机猜测神秘整数的上界：'))\n",
    "    max_times = math.ceil(math.log(n,2))\n",
    "    guess_times = 0\n",
    "    guess_num = random.randint(1,n)\n",
    "    print('计算机猜测数字是：',guess_num)\n",
    "    guess_times += 1\n",
    "    while guess_times < max_times:\n",
    "        \n",
    "        print('一共可以猜', max_times, '次')\n",
    "        print('计算机已经猜了', guess_times, '次')\n",
    "        \n",
    "        if guess_num == num:\n",
    "            win(k)\n",
    "            print('神秘数字是：', num)\n",
    "            print('比标准次数少', max_times-guess_times, '次')\n",
    "            break\n",
    "        elif guess_num< num:\n",
    "            print('计算机猜小了')\n",
    "            guess_num=random.randint(guess_num+1,n)\n",
    "            print('计算机猜测数字是：',guess_num)\n",
    "        else :\n",
    "            print('计算机猜大了')\n",
    "            guess_num=random.randint(1,guess_num-1)\n",
    "            print('计算机猜测数字是：',guess_num)\n",
    "        guess_times+=1\n",
    "    else:\n",
    "        print('神秘数字是：', num)\n",
    "        lose(k)\n",
    "\n",
    "def main(a):\n",
    "    while True :\n",
    "        menu(k)\n",
    "        choice = int(input('请输入你的选择'))\n",
    "        if choice == 1:\n",
    "            show_instruction(k)\n",
    "        \n",
    "        elif choice == 2:\n",
    "            guess_game(k)\n",
    "        \n",
    "        elif choice == 3:\n",
    "            game_over(k)\n",
    "            break\n",
    "        else :\n",
    "            show_team(k)\n",
    "            \n",
    "k=input('进入游戏请输入任意键')    \n",
    "main(k)"
   ]
  },
  {
   "cell_type": "code",
   "execution_count": null,
   "metadata": {},
   "outputs": [],
   "source": []
  },
  {
   "cell_type": "code",
   "execution_count": null,
   "metadata": {},
   "outputs": [],
   "source": []
  }
 ],
 "metadata": {
  "kernelspec": {
   "display_name": "Python 3",
   "language": "python",
   "name": "python3"
  },
  "language_info": {
   "codemirror_mode": {
    "name": "ipython",
    "version": 3
   },
   "file_extension": ".py",
   "mimetype": "text/x-python",
   "name": "python",
   "nbconvert_exporter": "python",
   "pygments_lexer": "ipython3",
   "version": "3.6.3"
  }
 },
 "nbformat": 4,
 "nbformat_minor": 2
}
