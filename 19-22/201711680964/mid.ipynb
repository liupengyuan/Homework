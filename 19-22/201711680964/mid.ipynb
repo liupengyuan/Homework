{
 "cells": [
  {
   "cell_type": "code",
   "execution_count": 6,
   "metadata": {},
   "outputs": [
    {
     "name": "stdout",
     "output_type": "stream",
     "text": [
      "请输入一个整数:4\n",
      "20\n"
     ]
    }
   ],
   "source": [
    "#1\n",
    "def alll(m):\n",
    "    alll=0\n",
    "    i=0\n",
    "    while i<m:\n",
    "        i=i+1\n",
    "        for k in range(1,i+1):\n",
    "            alll=alll+k\n",
    "        \n",
    "    print(alll)\n",
    "m=int(input(\"请输入一个正整数:\"))\n",
    "alll(m)"
   ]
  },
  {
   "cell_type": "code",
   "execution_count": 17,
   "metadata": {},
   "outputs": [
    {
     "name": "stdout",
     "output_type": "stream",
     "text": [
      "请输入一个正整数:5\n",
      "请输入一个符号:*\n",
      "*\n",
      "***\n",
      "*****\n",
      "*******\n",
      "*********\n"
     ]
    }
   ],
   "source": [
    "#2\n",
    "def star(a,b):\n",
    "    \n",
    "\n",
    "    for i in range(1,a+1):\n",
    "        s=\"\"\n",
    "        for k in range(1,2*i):\n",
    "            s=s+b\n",
    "        print(s)\n",
    "a=int(input(\"请输入一个正整数:\"))\n",
    "b=input(\"请输入一个符号:\")\n",
    "star(a,b)"
   ]
  },
  {
   "cell_type": "code",
   "execution_count": 24,
   "metadata": {},
   "outputs": [
    {
     "name": "stdout",
     "output_type": "stream",
     "text": [
      "请输入一个正整数:45616845612316515\n",
      "4\n"
     ]
    }
   ],
   "source": [
    "#3\n",
    "def fi(n):\n",
    "    m=str(n)\n",
    "    l=list(m)\n",
    "    print(l[0])\n",
    "n=int(input(\"请输入一个正整数:\"))\n",
    "fi(n)"
   ]
  },
  {
   "cell_type": "code",
   "execution_count": 30,
   "metadata": {},
   "outputs": [
    {
     "name": "stdout",
     "output_type": "stream",
     "text": [
      "请输入各队员身高（单位：厘米），若输入完毕请输入：1    183\n",
      "请输入各队员身高（单位：厘米），若输入完毕请输入：1    185\n",
      "请输入各队员身高（单位：厘米），若输入完毕请输入：1    183\n",
      "请输入各队员身高（单位：厘米），若输入完毕请输入：1    187\n",
      "请输入各队员身高（单位：厘米），若输入完毕请输入：1    178\n",
      "请输入各队员身高（单位：厘米），若输入完毕请输入：1    175\n",
      "请输入各队员身高（单位：厘米），若输入完毕请输入：1    177\n",
      "请输入各队员身高（单位：厘米），若输入完毕请输入：1    190\n",
      "请输入各队员身高（单位：厘米），若输入完毕请输入：1    172\n",
      "请输入各队员身高（单位：厘米），若输入完毕请输入：1    1\n",
      "平均身高为： 181.11111111111111 \n",
      "高于平均身高的身高有：\n",
      "183\n",
      "185\n",
      "183\n",
      "187\n",
      "190\n"
     ]
    }
   ],
   "source": [
    "#4\n",
    "l=[]\n",
    "s=0\n",
    "summ=0\n",
    "a=0\n",
    "ave=0\n",
    "while s!=1:\n",
    "    s=int(input(\"请输入各队员身高（单位：厘米），若输入完毕请输入：1    \"))\n",
    "    summ=summ+s\n",
    "    l.append(s)\n",
    "ave=(summ-1)/(len(l)-1)\n",
    "print(\"平均身高为：\",ave,'''\n",
    "高于平均身高的身高有：''')\n",
    "for i in l:\n",
    "    if i>ave:\n",
    "        print(i)\n",
    "\n",
    "        \n",
    "    "
   ]
  },
  {
   "cell_type": "code",
   "execution_count": 2,
   "metadata": {},
   "outputs": [
    {
     "name": "stdout",
     "output_type": "stream",
     "text": [
      "8 + 10 =\n",
      "计算结果为：18\n",
      "√\n",
      "1 + 5 =\n",
      "计算结果为：6\n",
      "√\n",
      "2 + 5 =\n",
      "计算结果为：4\n",
      "×  答案为 7\n",
      "0 + 1 =\n",
      "计算结果为：1\n",
      "√\n",
      "5 + 8 =\n",
      "计算结果为：13\n",
      "√\n",
      "总分为 80\n"
     ]
    }
   ],
   "source": [
    "#5\n",
    "import random\n",
    "summ=0\n",
    "for i in range(5):\n",
    "    a=random.randint(0,10)\n",
    "    b=random.randint(0,10)\n",
    "    c=a+b\n",
    "    print(a,\"+\",b,\"=\")\n",
    "    k=int(input(\"计算结果为：\"))\n",
    "    if k==c:\n",
    "        print(\"√\")\n",
    "        summ=summ+20\n",
    "    else:\n",
    "        print(\"×  答案为\",c)\n",
    "print(\"总分为\",summ)\n",
    "\n",
    "            "
   ]
  },
  {
   "cell_type": "code",
   "execution_count": 7,
   "metadata": {},
   "outputs": [
    {
     "name": "stdout",
     "output_type": "stream",
     "text": [
      "[108, -5, 9, 3, 34, 88, -76]\n"
     ]
    }
   ],
   "source": [
    "#6\n",
    "def k(l):\n",
    "    ma=l[0]\n",
    "    mi=l[0]\n",
    "    a=0\n",
    "    b=0\n",
    "    for i in l:\n",
    "        if i>ma:\n",
    "            ma=i\n",
    "            a=l.index(i)\n",
    "        elif i<mi:\n",
    "            mi=i\n",
    "            b=l.index(i)\n",
    "    l[a]=l[0]\n",
    "    l[0]=ma\n",
    "    l[b]=l[len(l)-1]\n",
    "    l[len(l)-1]=mi\n",
    "    print(l)\n",
    "l=[3,-5,9,108,34,-76,88]\n",
    "k(l)"
   ]
  },
  {
   "cell_type": "code",
   "execution_count": null,
   "metadata": {
    "collapsed": true
   },
   "outputs": [],
   "source": []
  }
 ],
 "metadata": {
  "kernelspec": {
   "display_name": "Python 3",
   "language": "python",
   "name": "python3"
  },
  "language_info": {
   "codemirror_mode": {
    "name": "ipython",
    "version": 3
   },
   "file_extension": ".py",
   "mimetype": "text/x-python",
   "name": "python",
   "nbconvert_exporter": "python",
   "pygments_lexer": "ipython3",
   "version": "3.6.2"
  }
 },
 "nbformat": 4,
 "nbformat_minor": 2
}
