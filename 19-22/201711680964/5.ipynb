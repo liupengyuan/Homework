{
 "cells": [
  {
   "cell_type": "code",
   "execution_count": null,
   "metadata": {
    "collapsed": true
   },
   "outputs": [],
   "source": [
    "#import random, math"
   ]
  },
  {
   "cell_type": "code",
   "execution_count": null,
   "metadata": {
    "collapsed": true
   },
   "outputs": [],
   "source": [
    "#练习 1：写函数，求n个随机整数均值的平方根，整数范围在m与k之间（n,m,k由用户输入）"
   ]
  },
  {
   "cell_type": "code",
   "execution_count": 47,
   "metadata": {},
   "outputs": [
    {
     "name": "stdout",
     "output_type": "stream",
     "text": [
      "请输入整数个数:3\n",
      "请输入一个整数:5\n",
      "请输入一个整数:1\n",
      "4\n",
      "2\n",
      "5\n",
      "1.9148542155126762\n"
     ]
    }
   ],
   "source": [
    "import random, math\n",
    "def sqr(n,m,k):\n",
    "    i=0\n",
    "    summ=0\n",
    "    a=0\n",
    "    ave=0\n",
    "    fin=0\n",
    "    if m>k:\n",
    "        m,k=k,m\n",
    "    while i<n:\n",
    "        i=i+1\n",
    "        a=random.randint(m,k)\n",
    "        print(a)\n",
    "        summ += a\n",
    "        ave=summ/n\n",
    "        fin=math.sqrt(ave)\n",
    "    print(fin)\n",
    "n=int(input(\"请输入整数个数:\"))\n",
    "m=int(input(\"请输入一个整数:\"))\n",
    "k=int(input(\"请输入一个整数:\"))\n",
    "sqr(n,m,k)"
   ]
  },
  {
   "cell_type": "code",
   "execution_count": null,
   "metadata": {
    "collapsed": true
   },
   "outputs": [],
   "source": [
    "#练习 2：写函数，共n个随机整数，整数范围在m与k之间，（n,m,k由用户输入）。求1：西格玛log(随机整数)，2：西格玛1/log(随机整数)"
   ]
  },
  {
   "cell_type": "code",
   "execution_count": 46,
   "metadata": {},
   "outputs": [
    {
     "name": "stdout",
     "output_type": "stream",
     "text": [
      "请输入整数个数:3\n",
      "请输入一个整数:5\n",
      "请输入一个整数:1\n",
      "4\n",
      "2\n",
      "5\n",
      "西格玛log(随机整数)为: 3.688879454113936\n",
      "西格玛1/log(随机整数)为: 2.785377495893057\n"
     ]
    }
   ],
   "source": [
    "import random, math\n",
    "def sqr(n,m,k):\n",
    "    i=0\n",
    "    summ1=0\n",
    "    a=0\n",
    "    summ2=0\n",
    "    log=0\n",
    "    log1=0\n",
    "    if m>k:\n",
    "        m,k=k,m\n",
    "    while i<n:\n",
    "        i=i+1\n",
    "        a=random.randint(m,k)\n",
    "        print(a)\n",
    "        log=math.log(a)\n",
    "        if log!=0:\n",
    "            log1=1/log\n",
    "        else:\n",
    "            log1=0\n",
    "            print(\"出现一个零!\")\n",
    "        summ1+=log\n",
    "        summ2+=log1\n",
    "    print(\"西格玛log(随机整数)为:\",summ1)\n",
    "    print(\"西格玛1/log(随机整数)为:\",summ2)\n",
    "n=int(input(\"请输入整数个数:\"))\n",
    "m=int(input(\"请输入一个整数:\"))\n",
    "k=int(input(\"请输入一个整数:\"))\n",
    "sqr(n,m,k)"
   ]
  },
  {
   "cell_type": "code",
   "execution_count": null,
   "metadata": {
    "collapsed": true
   },
   "outputs": [],
   "source": [
    "#练习 3：写函数，求s=a+aa+aaa+aaaa+aa...a的值，其中a是[1,9]之间的随机整数。例如2+22+222+2222+22222(此时共有5个数相加)，几个数相加由键盘输入"
   ]
  },
  {
   "cell_type": "code",
   "execution_count": 45,
   "metadata": {},
   "outputs": [
    {
     "name": "stdout",
     "output_type": "stream",
     "text": [
      "请输入共有几个数相加：5\n",
      "5\n",
      "55\n",
      "555\n",
      "5555\n",
      "55555\n",
      "61725\n"
     ]
    }
   ],
   "source": [
    "import random\n",
    "def s(n):\n",
    "    a=random.randint(1,9)\n",
    "    i=0\n",
    "    an=\"\"\n",
    "    str1=str(a)\n",
    "    num=0\n",
    "    s=0\n",
    "    while i<n:\n",
    "        i=i+1\n",
    "        an=str(a)\n",
    "        k=1\n",
    "        str1=an\n",
    "        while k<i:\n",
    "            str1=str1+an\n",
    "            k=k+1\n",
    "        print(str1)\n",
    "        num=int(str1)\n",
    "        s+=num\n",
    "        \n",
    "    print(s)\n",
    "n=int(input(\"请输入共有几个数相加：\")) \n",
    "s(n)"
   ]
  },
  {
   "cell_type": "code",
   "execution_count": null,
   "metadata": {
    "collapsed": true
   },
   "outputs": [],
   "source": [
    "'''\n",
    "挑战性练习：仿照task5，将猜数游戏改成由用户随便选择一个整数，让计算机来猜测的猜数游戏\n",
    "            要求和task5中人猜测的方法类似，但是人机角色对换\n",
    "            由人来判断猜测是大、小还是相等\n",
    "            请写出完整的猜数游戏\n",
    "            '''"
   ]
  },
  {
   "cell_type": "code",
   "execution_count": 1,
   "metadata": {},
   "outputs": [
    {
     "name": "stdout",
     "output_type": "stream",
     "text": [
      "\n",
      "=====游戏菜单=====\n",
      "  1. 游戏说明\n",
      "  2. 开始游戏\n",
      "  3. 退出游戏\n",
      "=====游戏菜单=====\n",
      "请选择:2\n",
      "游戏开始\n",
      "请输入你想给电脑猜的数:25\n",
      "14\n",
      "我猜中了没?(若猜中则输入“猜中了”，否则请根据猜数的大小输入“大”或“小”):大\n",
      "不要骗我！\n",
      "40\n",
      "我猜中了没?(若猜中则输入“猜中了”，否则请根据猜数的大小输入“大”或“小”):大\n",
      "-7\n",
      "我猜中了没?(若猜中则输入“猜中了”，否则请根据猜数的大小输入“大”或“小”):小\n",
      "8\n",
      "我猜中了没?(若猜中则输入“猜中了”，否则请根据猜数的大小输入“大”或“小”):小\n",
      "9\n",
      "我猜中了没?(若猜中则输入“猜中了”，否则请根据猜数的大小输入“大”或“小”):小\n",
      "23\n",
      "我猜中了没?(若猜中则输入“猜中了”，否则请根据猜数的大小输入“大”或“小”):大\n",
      "不要骗我！\n",
      "13\n",
      "我猜中了没?(若猜中则输入“猜中了”，否则请根据猜数的大小输入“大”或“小”):小\n",
      "19\n",
      "我猜中了没?(若猜中则输入“猜中了”，否则请根据猜数的大小输入“大”或“小”):小\n",
      "31\n",
      "我猜中了没?(若猜中则输入“猜中了”，否则请根据猜数的大小输入“大”或“小”):大\n",
      "21\n",
      "我猜中了没?(若猜中则输入“猜中了”，否则请根据猜数的大小输入“大”或“小”):小\n",
      "24\n",
      "我猜中了没?(若猜中则输入“猜中了”，否则请根据猜数的大小输入“大”或“小”):小\n",
      "29\n",
      "我猜中了没?(若猜中则输入“猜中了”，否则请根据猜数的大小输入“大”或“小”):大\n",
      "28\n",
      "我猜中了没?(若猜中则输入“猜中了”，否则请根据猜数的大小输入“大”或“小”):大\n",
      "27\n",
      "我猜中了没?(若猜中则输入“猜中了”，否则请根据猜数的大小输入“大”或“小”):大\n",
      "25\n",
      "我猜中了没?(若猜中则输入“猜中了”，否则请根据猜数的大小输入“大”或“小”):猜中了\n",
      "我最棒\n"
     ]
    }
   ],
   "source": [
    "import random\n",
    "print('''\n",
    "=====游戏菜单=====\n",
    "  1. 游戏说明\n",
    "  2. 开始游戏\n",
    "  3. 退出游戏\n",
    "=====游戏菜单=====''')\n",
    "\n",
    "n=int(input(\"请选择:\"))\n",
    "#用户选择菜单中的数以后\n",
    "\n",
    "if n==1:\n",
    "    print('''\n",
    "   这个游戏可以用来和你的电脑快乐玩耍\n",
    "            具体操作方法如下：\n",
    "  用户随便选择一个整数，让计算机来猜测\n",
    "设计这个游戏是为了告诉你，你和电脑差不多傻\n",
    "相信你马上可以从上次被电脑耍的阴影里走出来''')\n",
    "elif n==2:\n",
    "    print(\"游戏开始\")\n",
    "    a=int(input(\"请输入你想给电脑猜的数:\"))\n",
    "    minn=-a\n",
    "    maxx=2*a\n",
    "    m=a-1\n",
    "    while m!=a:\n",
    "        m=random.randint(minn,maxx)\n",
    "        print(m)\n",
    "        e=input(\"我猜中了没?(若猜中则输入“猜中了”，否则请根据猜数的大小输入“大”或“小”):\")\n",
    "        if m==a and e!=\"猜中了\":\n",
    "            print(\"我明明猜中了，休想糊弄本机\")\n",
    "            print(\"我真棒\")\n",
    "            m=a\n",
    "        elif m>a and e!=\"大\":\n",
    "            print(\"不要骗我！\")\n",
    "        elif m<a and e!=\"小\":\n",
    "            print(\"不要骗我！\")\n",
    "        elif e==\"大\":\n",
    "            maxx=m-1\n",
    "        elif e==\"小\":\n",
    "            minn=m+1\n",
    "        elif e==\"猜中了\"and m!=a:\n",
    "            print(\"明明没猜中doge.jpg\")\n",
    "        elif e==\"猜中了\":\n",
    "            print(\"我最棒\")\n",
    "        else:\n",
    "            print(\"请输入“”中的字\")\n",
    "elif n==3:\n",
    "    print(\"游戏结束\")\n",
    "else:\n",
    "    print(\"请选择1，2，3中的一个\")\n",
    "\n",
    "        "
   ]
  },
  {
   "cell_type": "code",
   "execution_count": null,
   "metadata": {
    "collapsed": true
   },
   "outputs": [],
   "source": []
  }
 ],
 "metadata": {
  "kernelspec": {
   "display_name": "Python 3",
   "language": "python",
   "name": "python3"
  },
  "language_info": {
   "codemirror_mode": {
    "name": "ipython",
    "version": 3
   },
   "file_extension": ".py",
   "mimetype": "text/x-python",
   "name": "python",
   "nbconvert_exporter": "python",
   "pygments_lexer": "ipython3",
   "version": "3.6.2"
  }
 },
 "nbformat": 4,
 "nbformat_minor": 2
}
