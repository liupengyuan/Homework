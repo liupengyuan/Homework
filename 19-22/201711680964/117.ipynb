{
 "cells": [
  {
   "cell_type": "code",
   "execution_count": 6,
   "metadata": {
    "collapsed": false
   },
   "outputs": [
    {
     "name": "stdout",
     "output_type": "stream",
     "text": [
      "请输入一个整数:5\n",
      "请输入一个整数:10\n",
      "请输入一个整数:500\n",
      "33.85262175962151\n"
     ]
    }
   ],
   "source": [
    "import math,random\n",
    "def sqr(m,n,k):\n",
    "    i=0\n",
    "    summ=0\n",
    "    while i<m:\n",
    "        i=i+1\n",
    "        a=random.randint(n,k)\n",
    "        summ=summ+a\n",
    "    b=math.sqrt(summ)\n",
    "    print(b)\n",
    "m=int(input(\"请输入一个整数:\"))\n",
    "n=int(input(\"请输入一个整数:\"))\n",
    "k=int(input(\"请输入一个整数:\"))\n",
    "sqr(m,n,k)"
   ]
  },
  {
   "cell_type": "code",
   "execution_count": null,
   "metadata": {
    "collapsed": true
   },
   "outputs": [],
   "source": []
  }
 ],
 "metadata": {
  "kernelspec": {
   "display_name": "Python 3",
   "language": "python",
   "name": "python3"
  },
  "language_info": {
   "codemirror_mode": {
    "name": "ipython",
    "version": 3
   },
   "file_extension": ".py",
   "mimetype": "text/x-python",
   "name": "python",
   "nbconvert_exporter": "python",
   "pygments_lexer": "ipython3",
   "version": "3.6.0"
  }
 },
 "nbformat": 4,
 "nbformat_minor": 2
}
