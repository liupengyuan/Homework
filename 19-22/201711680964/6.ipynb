{
 "cells": [
  {
   "cell_type": "code",
   "execution_count": null,
   "metadata": {
    "collapsed": true
   },
   "outputs": [],
   "source": [
    "#练习1：写函数，返回某个元素/对象在一个list中的位置，如果不在，则返回-1。"
   ]
  },
  {
   "cell_type": "code",
   "execution_count": 11,
   "metadata": {},
   "outputs": [
    {
     "name": "stdout",
     "output_type": "stream",
     "text": [
      "请输入一个整数:9\n",
      "9 在列表中的位置为: 2\n"
     ]
    }
   ],
   "source": [
    "def x(list1):\n",
    "    n=int(input(\"请输入一个整数:\"))\n",
    "    i=0\n",
    "    a=0\n",
    "    while i<len(list1):\n",
    "        if n==list1[i]:\n",
    "            print(n,\"在列表中的位置为:\",i)\n",
    "            a=1\n",
    "            break\n",
    "        i=i+1\n",
    "    if a==0:\n",
    "        print(-1)\n",
    "list1=[1,5,9,-1,15,88,27,-48,588,6485]\n",
    "x(list1)"
   ]
  },
  {
   "cell_type": "code",
   "execution_count": null,
   "metadata": {
    "collapsed": true
   },
   "outputs": [],
   "source": [
    "#练习2：写函数，可将两个相同长度的list，间隔插入，生成新的list。例如：给两个list，a=[1,2,3,4], b=[5,6,7,8]。则可以生成：[1,5,2,6,3,7,4,8]。"
   ]
  },
  {
   "cell_type": "code",
   "execution_count": 3,
   "metadata": {},
   "outputs": [
    {
     "name": "stdout",
     "output_type": "stream",
     "text": [
      "请输入列表中元素个数：4\n",
      "请输入第一个列表中的第0个元素:1\n",
      "请输入第一个列表中的第1个元素:2\n",
      "请输入第一个列表中的第2个元素:3\n",
      "请输入第一个列表中的第3个元素:4\n",
      "请输入第二个列表中的第0个元素:5\n",
      "请输入第二个列表中的第1个元素:6\n",
      "请输入第二个列表中的第2个元素:7\n",
      "请输入第二个列表中的第3个元素:8\n",
      "第一个列表为： [1, 2, 3, 4]\n",
      "第二个列表为： [5, 6, 7, 8]\n",
      "新的列表为： [1, 5, 2, 6, 3, 7, 4, 8]\n"
     ]
    }
   ],
   "source": [
    "def x(list1,list2):\n",
    "    list3=[]\n",
    "    i=0\n",
    "    while i<len(list1):\n",
    "        if i<len(list1):\n",
    "            list3.append(list1[i])\n",
    "            list3.append(list2[i])\n",
    "            i+=1\n",
    "    print(\"新的列表为：\",list3)\n",
    "a=int(input(\"请输入列表中元素个数：\"))\n",
    "i=0\n",
    "list1=[]\n",
    "list2=[]\n",
    "while i<a:\n",
    "    k=\"请输入第一个列表中的第\"+str(i)+\"个元素:\"\n",
    "    n=int(input(k))\n",
    "    list1.append(n)\n",
    "    i+=1\n",
    "i=0\n",
    "while i<a:\n",
    "    k=\"请输入第二个列表中的第\"+str(i)+\"个元素:\"\n",
    "    n=int(input(k))\n",
    "    list2.append(n)\n",
    "    i+=1\n",
    "print(\"第一个列表为：\",list1)\n",
    "print(\"第二个列表为：\",list2)\n",
    "x(list1,list2)"
   ]
  },
  {
   "cell_type": "code",
   "execution_count": null,
   "metadata": {
    "collapsed": true
   },
   "outputs": [],
   "source": [
    "#练习3：写函数，可求两个向量的夹角余弦值，向量可放在list中。主程序调用该函数。"
   ]
  },
  {
   "cell_type": "code",
   "execution_count": 6,
   "metadata": {},
   "outputs": [
    {
     "name": "stdout",
     "output_type": "stream",
     "text": [
      "请输入第一个向量中的第0个元素:3\n",
      "请输入第一个向量中的第1个元素:4\n",
      "请输入第二个向量中的第0个元素:3\n",
      "请输入第二个向量中的第1个元素:0\n",
      "第一个向量为： [3, 4]\n",
      "第二个向量为： [3, 0]\n",
      "0.6\n"
     ]
    }
   ],
   "source": [
    "import math\n",
    "def cos(a,b):\n",
    "    x1=a[0]\n",
    "    y1=a[1]\n",
    "    x2=b[0]\n",
    "    y2=b[1]\n",
    "    cosx=(x1*x2+y1*y2)/(math.sqrt(x1**2+y1**2)*math.sqrt(x2**2+y2**2))\n",
    "    print(cosx)\n",
    "i=0\n",
    "list1=[]\n",
    "list2=[]\n",
    "while i<2:\n",
    "    k=\"请输入第一个向量中的第\"+str(i)+\"个元素:\"\n",
    "    n=int(input(k))\n",
    "    list1.append(n)\n",
    "    i+=1\n",
    "i=0\n",
    "while i<2:\n",
    "    k=\"请输入第二个向量中的第\"+str(i)+\"个元素:\"\n",
    "    n=int(input(k))\n",
    "    list2.append(n)\n",
    "    i+=1\n",
    "print(\"第一个向量为：\",list1)\n",
    "print(\"第二个向量为：\",list2)\n",
    "cos(list1,list2)"
   ]
  },
  {
   "cell_type": "code",
   "execution_count": 8,
   "metadata": {
    "collapsed": true
   },
   "outputs": [],
   "source": [
    "#挑战性习题：python语言老师为了激励学生学python，自费买了100个完全相同的Macbook Pro，分给三个班级，每个班级至少分5个。\n",
    "#用穷举法计算共有多少种分法"
   ]
  },
  {
   "cell_type": "code",
   "execution_count": 19,
   "metadata": {},
   "outputs": [
    {
     "name": "stdout",
     "output_type": "stream",
     "text": [
      "共有 3741 种分法\n"
     ]
    }
   ],
   "source": [
    "a=0\n",
    "b=0\n",
    "c=0\n",
    "i=0\n",
    "for m in range(96):\n",
    "    a=m+5\n",
    "    for n in range(96):\n",
    "        b=n+5\n",
    "        for k in range(96):\n",
    "            c=k+5\n",
    "            if a+b+c==100:\n",
    "\n",
    "                i=i+1\n",
    "print(\"共有\",i,\"种分法\")"
   ]
  },
  {
   "cell_type": "code",
   "execution_count": null,
   "metadata": {
    "collapsed": true
   },
   "outputs": [],
   "source": []
  }
 ],
 "metadata": {
  "kernelspec": {
   "display_name": "Python 3",
   "language": "python",
   "name": "python3"
  }
 },
 "nbformat": 4,
 "nbformat_minor": 2
}
