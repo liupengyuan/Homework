{
 "cells": [
  {
   "cell_type": "code",
   "execution_count": 11,
   "metadata": {},
   "outputs": [
    {
     "name": "stdout",
     "output_type": "stream",
     "text": [
      "荏染敬善大舌举章说针\n",
      "愚一淋进七仰戛讳唇膺恶愤骇贯拔鳞击涌觥竹\n",
      "长填回出结尽颐壁杜财蛙热障王彰晕四淘技云极凰交想窟冲日忌帝扑\n",
      "预端英纸睚辣喜扬击场续东勇羽阋典滔必也梅建刺合竞翻甘荼潜嗤惊凰泽急梨雅称蝇聩锱礼\n",
      "尘座怡军独青荡铩避进填琅黔肓笑逝魍梨抽灵尾庖世旷鹄焚庭燎纶血秀眦仁淫沐反沙踌泣女忧贻鸿饰驴豹忌柔固端\n",
      "睫琅镳往杜钧衷犬垂而居革藏缚鸡徒阻渐菲悔妻晴返锋缝蹴瘁躇涌蛙娇止狮重怪疵鬼闺喘再唇淑薪竹郑司马怨胜毓偷乐绸舌兔雪犹朗奈线\n",
      "戚秣仇晋扮马合壁箭障吁阋簇飞怡色开儒亡禽单胡忾持差抗怪金听花沉两厚轮昙朵聊凌战涯漫虫任身田公请韵观逝恙绸途错飘失娲苟发日本缭惭粟弥狗斩拔倾寒\n",
      "说避雨兽就尺责颐欲事潭韦线秋色识豁筚地踽映尽计病豪掣克惑能荆咫联团向使烈毋阿气胡添膏柱漫木惺循瞻之翁内喑粉怀墨棋为日恭转山取平柔妙瞥锦钧打状韬偷蛙肥已女囊德食高\n",
      "虚尤阿弄嗤骥琳衷泰魅闻睛愿云往纶渔同忧电悲腹鸡厉巢湖冰裘换淫焚秒亭是副沐魉走泪仇借货蝇七墨朝挂士草斗眼赤晨水百骇男新载诚典奂无潜贤凌绕方教黔牢偷颐章运首总娇经鹿源处咫濡铩随报界诨合\n",
      "贵吼命救塞任倍浪话猛斩诚祖象割尘鳞日胡心岂买燕补后妙欺技伦继珠刚去众蒂阋粉瓴彰弄月牛归孑酒魑眼将眈侃颠身腾江锁朝阻岁起沉无梦甜荫昔麟顺勿化睚童来炙在兰餐迷态益效发棋黄淑砖悲事循骥至科酸达即素水嚎望韬秒\n"
     ]
    }
   ],
   "source": [
    "import random\n",
    "fh=open(r'C:\\temp\\成语大全.txt')\n",
    "text=fh.read()\n",
    "fh.close\n",
    "text=text.replace('、','')\n",
    "text=text.replace('\\n','')\n",
    "def get_ch_table(line):\n",
    "    ch_table = []\n",
    "    st=\"\"\n",
    "    for ch in line:\n",
    "        if ch not in ch_table:\n",
    "            ch_table.append(ch)\n",
    "    st=\"\".join(ch_table)\n",
    "    return st\n",
    "def st(n):\n",
    "    st=get_ch_table(text)\n",
    "    st1=random.sample(st, k=n)\n",
    "    st1=\"\".join(st1)\n",
    "    return st1\n",
    "fh = open(r'c:\\temp\\1.txt', 'w')\n",
    "fh.write(st(10))\n",
    "print(st(10))\n",
    "fh.close()\n",
    "fh = open(r'c:\\temp\\2.txt', 'w')\n",
    "fh.write(st(20))\n",
    "print(st(20))\n",
    "fh.close()\n",
    "fh = open(r'c:\\temp\\3.txt', 'w')\n",
    "fh.write(st(30))\n",
    "print(st(30))\n",
    "fh.close()\n",
    "fh = open(r'c:\\temp\\4.txt', 'w')\n",
    "fh.write(st(40))\n",
    "print(st(40))\n",
    "fh.close()\n",
    "fh = open(r'c:\\temp\\5.txt', 'w')\n",
    "fh.write(st(50))\n",
    "print(st(50))\n",
    "fh.close()\n",
    "fh = open(r'c:\\temp\\6.txt', 'w')\n",
    "fh.write(st(60))\n",
    "print(st(60))\n",
    "fh.close()\n",
    "fh = open(r'c:\\temp\\7.txt', 'w')\n",
    "fh.write(st(70))\n",
    "print(st(70))\n",
    "fh.close()\n",
    "fh = open(r'c:\\temp\\8.txt', 'w')\n",
    "fh.write(st(80))\n",
    "print(st(80))\n",
    "fh.close()\n",
    "fh = open(r'c:\\temp\\9.txt', 'w')\n",
    "fh.write(st(90))\n",
    "print(st(90))\n",
    "fh.close()\n",
    "fh = open(r'c:\\temp\\10.txt', 'w')\n",
    "fh.write(st(100))\n",
    "print(st(100))\n",
    "fh.close()"
   ]
  },
  {
   "cell_type": "code",
   "execution_count": null,
   "metadata": {
    "collapsed": true
   },
   "outputs": [],
   "source": []
  }
 ],
 "metadata": {
  "kernelspec": {
   "display_name": "Python 3",
   "language": "python",
   "name": "python3"
  },
  "language_info": {
   "codemirror_mode": {
    "name": "ipython",
    "version": 3
   },
   "file_extension": ".py",
   "mimetype": "text/x-python",
   "name": "python",
   "nbconvert_exporter": "python",
   "pygments_lexer": "ipython3",
   "version": "3.6.2"
  }
 },
 "nbformat": 4,
 "nbformat_minor": 2
}
