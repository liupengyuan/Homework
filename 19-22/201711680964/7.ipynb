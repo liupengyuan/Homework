{
 "cells": [
  {
   "cell_type": "code",
   "execution_count": null,
   "metadata": {
    "collapsed": true
   },
   "outputs": [],
   "source": [
    "#练习一：自己定义一个reverse(s)函数，功能返回字符串s的倒序字符串。"
   ]
  },
  {
   "cell_type": "code",
   "execution_count": 10,
   "metadata": {},
   "outputs": [
    {
     "name": "stdout",
     "output_type": "stream",
     "text": [
      "请输入一个字符串:1234abcd\n",
      "dcba4321\n"
     ]
    }
   ],
   "source": [
    "def reverse(s):\n",
    "    k=[]\n",
    "    for i in range(len(s)):\n",
    "        k.append(s[len(s)-i-1])\n",
    "        m=\"\".join(k)\n",
    "    print(m)\n",
    "s=input(\"请输入一个字符串:\")\n",
    "reverse(s)"
   ]
  },
  {
   "cell_type": "code",
   "execution_count": null,
   "metadata": {
    "collapsed": true
   },
   "outputs": [],
   "source": [
    "#练习二：写函数，根据给定符号和行数，打印相应直角三角形，等腰三角形及其他形式的三角形。"
   ]
  },
  {
   "cell_type": "code",
   "execution_count": 4,
   "metadata": {},
   "outputs": [
    {
     "name": "stdout",
     "output_type": "stream",
     "text": [
      "请输入一个符号:*\n",
      "请输入行数:8\n",
      "直角三角形\n",
      "*\n",
      "**\n",
      "***\n",
      "****\n",
      "*****\n",
      "******\n",
      "*******\n",
      "********\n",
      "等腰三角形\n",
      "        *\n",
      "       ***\n",
      "      *****\n",
      "     *******\n",
      "    *********\n",
      "   ***********\n",
      "  *************\n",
      " ***************\n",
      "钝角三角形\n",
      "                                *\n",
      "                            ***\n",
      "                        *****\n",
      "                    *******\n",
      "                *********\n",
      "            ***********\n",
      "        *************\n",
      "    ***************\n"
     ]
    }
   ],
   "source": [
    "def tr(a,b):\n",
    "    print(\"直角三角形\")\n",
    "    for i in range(b):\n",
    "        print(a*(i+1),end=\"\")\n",
    "        print()\n",
    "    print(\"等腰三角形\")\n",
    "    for l in range(b):\n",
    "        print(\" \"*(b-l),end=\"\")\n",
    "        print(a*(2*(l+1)-1),end=\"\")\n",
    "        print()\n",
    "    print(\"钝角三角形\")\n",
    "    for m in range(b):\n",
    "        print(\" \"*(4*(b-m)),end=\"\")\n",
    "        print(a*(2*(m+1)-1),end=\"\")\n",
    "        print()\n",
    "a=input(\"请输入一个符号:\")\n",
    "b=int(input(\"请输入行数:\"))\n",
    "tr(a,b)"
   ]
  },
  {
   "cell_type": "code",
   "execution_count": null,
   "metadata": {
    "collapsed": true
   },
   "outputs": [],
   "source": [
    "#练习五：写函数，根据给定符号，打印各种菱形。"
   ]
  },
  {
   "cell_type": "code",
   "execution_count": 14,
   "metadata": {},
   "outputs": [
    {
     "name": "stdout",
     "output_type": "stream",
     "text": [
      "请输入一个符号:*\n",
      "       *\n",
      "      ***\n",
      "     *****\n",
      "    *******\n",
      "   *********\n",
      "  ***********\n",
      " *************\n",
      "  ***********\n",
      "   *********\n",
      "    *******\n",
      "     *****\n",
      "      ***\n",
      "       *\n"
     ]
    }
   ],
   "source": [
    "def li(a):\n",
    "    i=7\n",
    "    for l in range(i):\n",
    "        print(\" \"*(i-l),end=\"\")\n",
    "        print(a*(2*(l+1)-1),end=\"\")\n",
    "        print()\n",
    "    for m in range(1,i):\n",
    "        print(\" \"*(m+1),end=\"\")\n",
    "        print(a*(2*(i-m-1)+1),end=\"\")\n",
    "        print()\n",
    "a=input(\"请输入一个符号:\")\n",
    "li(a)"
   ]
  },
  {
   "cell_type": "code",
   "execution_count": null,
   "metadata": {
    "collapsed": true
   },
   "outputs": [],
   "source": []
  }
 ],
 "metadata": {
  "kernelspec": {
   "display_name": "Python 3",
   "language": "python",
   "name": "python3"
  },
  "language_info": {
   "codemirror_mode": {
    "name": "ipython",
    "version": 3
   },
   "file_extension": ".py",
   "mimetype": "text/x-python",
   "name": "python",
   "nbconvert_exporter": "python",
   "pygments_lexer": "ipython3",
   "version": "3.6.2"
  }
 },
 "nbformat": 4,
 "nbformat_minor": 2
}
