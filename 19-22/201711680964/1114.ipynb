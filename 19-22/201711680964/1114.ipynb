{
 "cells": [
  {
   "cell_type": "code",
   "execution_count": null,
   "metadata": {
    "collapsed": true
   },
   "outputs": [],
   "source": [
    "#写函数，返回一个list中的最大值，最小值，平均值。（不用内置的求和求函数）"
   ]
  },
  {
   "cell_type": "code",
   "execution_count": 17,
   "metadata": {},
   "outputs": [
    {
     "name": "stdout",
     "output_type": "stream",
     "text": [
      "最大值为： 899\n",
      "最小值为： -10\n",
      "平均值为： 106.72999999999999\n"
     ]
    }
   ],
   "source": [
    "numbers=[1,2,-1,55,100,899,-10,3,12.5,5.8]\n",
    "a=numbers[1]\n",
    "b=numbers[1]\n",
    "summ=0\n",
    "ave=0\n",
    "n=0\n",
    "for number in numbers:\n",
    "    summ+=number\n",
    "    if number>a:\n",
    "        a=number\n",
    "    elif number<b:\n",
    "        b=number\n",
    "n=len(numbers)\n",
    "ave=summ/n\n",
    "print(\"最大值为：\",a)\n",
    "print(\"最小值为：\",b)\n",
    "print(\"平均值为：\",ave)"
   ]
  },
  {
   "cell_type": "code",
   "execution_count": null,
   "metadata": {
    "collapsed": true
   },
   "outputs": [],
   "source": []
  }
 ],
 "metadata": {
  "kernelspec": {
   "display_name": "Python 3",
   "language": "python",
   "name": "python3"
  },
  "language_info": {
   "codemirror_mode": {
    "name": "ipython",
    "version": 3
   },
   "file_extension": ".py",
   "mimetype": "text/x-python",
   "name": "python",
   "nbconvert_exporter": "python",
   "pygments_lexer": "ipython3",
   "version": "3.6.2"
  }
 },
 "nbformat": 4,
 "nbformat_minor": 2
}
