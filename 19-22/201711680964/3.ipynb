{
 "cells": [
  {
   "cell_type": "code",
   "execution_count": null,
   "metadata": {
    "collapsed": true
   },
   "outputs": [],
   "source": [
    "#练习 1：写程序，可由键盘读入用户姓名例如Mr. right，让用户输入出生的月份与日期，判断用户星座\n",
    "#假设用户是金牛座，则输出，Mr. right，你是非常有性格的金牛座！。"
   ]
  },
  {
   "cell_type": "code",
   "execution_count": 13,
   "metadata": {},
   "outputs": [
    {
     "name": "stdout",
     "output_type": "stream",
     "text": [
      "您的名字是：a\n",
      "请问您的出生月份是：11\n",
      "请问您的出生日期是：12\n",
      "a 同志 您的星座是天蝎座\n"
     ]
    }
   ],
   "source": [
    "name=input(\"您的名字是：\")\n",
    "m=input(\"请问您的出生月份是：\")\n",
    "d=input(\"请问您的出生日期是：\")\n",
    "num=int(m+d)\n",
    "if 120<=num<=218:\n",
    "    print(name,\"同志\",\"您的星座是水瓶座\")\n",
    "elif 219<=num<=320:\n",
    "    print(name,\"同志\",\"您的星座是双鱼座\")\n",
    "elif 321<=num<=419:\n",
    "    print(name,\"同志\",\"您的星座是白羊座\")\n",
    "elif 420<=num<=520:\n",
    "    print(name,\"同志\",\"您的星座是金牛座\")\n",
    "elif 521<=num<=621:\n",
    "    print(name,\"同志\",\"您的星座是双子座\")\n",
    "elif 622<=num<=722:\n",
    "    print(name,\"同志\",\"您的星座是巨蟹座\")\n",
    "elif 723<=num<=822:\n",
    "    print(name,\"同志\",\"您的星座是狮子座\")\n",
    "elif 823<=num<=922:\n",
    "    print(name,\"同志\",\"您的星座是处女座\")\n",
    "elif 923<=num<=1023:\n",
    "    print(name,\"同志\",\"您的星座是天秤座\")\n",
    "elif 1024<=num<=1122:\n",
    "    print(name,\"同志\",\"您的星座是天蝎座\")\n",
    "elif 1123<=num<=1221:\n",
    "    print(name,\"同志\",\"您的星座是射手座\")\n",
    "else:\n",
    "    print(name,\"同志\",\"您的星座是摩羯座\")"
   ]
  },
  {
   "cell_type": "code",
   "execution_count": null,
   "metadata": {
    "collapsed": true
   },
   "outputs": [],
   "source": [
    "#练习二：写程序，可由键盘读入两个整数m与n(n不等于0)，询问用户意图\n",
    "#如果要求和则计算从m到n的和输出\n",
    "#如果要乘积则计算从m到n的积并输出\n",
    "#如果要求余数则计算m除以n的余数的值并输出\n",
    "#否则则计算m整除n的值并输出。"
   ]
  },
  {
   "cell_type": "code",
   "execution_count": 14,
   "metadata": {},
   "outputs": [
    {
     "name": "stdout",
     "output_type": "stream",
     "text": [
      "请输入一个整数：5\n",
      "请输入一个整数：3\n",
      "请输入 求和 乘积 余数 整除 中的一个进行计算：不\n",
      "请输入 求和 乘积 余数 整除 中的一个进行计算！！！\n"
     ]
    }
   ],
   "source": [
    "m=int(input(\"请输入一个整数：\"))\n",
    "n=int(input(\"请输入一个整数：\"))\n",
    "x=input(\"请输入 求和 乘积 余数 整除 中的一个进行计算：\")\n",
    "if x==\"求和\":\n",
    "    print(m+n)\n",
    "elif x==\"乘积\":\n",
    "    print(m*n)\n",
    "elif x==\"余数\":\n",
    "    print(m%n)\n",
    "elif x==\"整除\":\n",
    "    print(m//n)\n",
    "else:\n",
    "    print(\"请输入 求和 乘积 余数 整除 中的一个进行计算！！！\")"
   ]
  },
  {
   "cell_type": "code",
   "execution_count": null,
   "metadata": {
    "collapsed": true
   },
   "outputs": [],
   "source": [
    "#练习四：英文单词单数转复数，要求输入一个英文动词（单数形式），能够得到其复数形式，或给出单数转复数形式的建议\n",
    "#（提示，some_string.endswith(some_letter)函数可以判断某字符串结尾字符，可尝试运行：'myname'.endswith('me')，liupengyuan'.endswith('n')）。"
   ]
  },
  {
   "cell_type": "code",
   "execution_count": 15,
   "metadata": {
    "scrolled": true
   },
   "outputs": [
    {
     "name": "stdout",
     "output_type": "stream",
     "text": [
      "请输入单数形式的单词：responsibility\n",
      "responsibilities\n"
     ]
    }
   ],
   "source": [
    "w=input(\"请输入单数形式的单词：\")\n",
    "l=0\n",
    "n=0\n",
    "if w.endswith(\"s\"):\n",
    "    print(w+\"es\")\n",
    "elif w.endswith(\"y\"):\n",
    "    l = list(w) #将字符串转换为列表，列表的每一个元素为一个字符\n",
    "    n=len(w)-1\n",
    "    l[n] = 'i' #修改字符串的第n个字符为i\n",
    "    w = ''.join(l) #将列表重新连接为字符串\n",
    "    print(w+\"es\")\n",
    "elif w.endswith(\"f\"):\n",
    "    l = list(w) #将字符串转换为列表，列表的每一个元素为一个字符\n",
    "    n=len(w)-1\n",
    "    l[n] = 'v' #修改字符串的第n个字符为v\n",
    "    w = ''.join(l) #将列表重新连接为字符串\n",
    "    print(w+\"es\")\n",
    "else:\n",
    "    print(w+\"s\")"
   ]
  },
  {
   "cell_type": "code",
   "execution_count": null,
   "metadata": {
    "collapsed": true
   },
   "outputs": [],
   "source": [
    "#尝试性练习：写程序，能够在屏幕上显示空行。"
   ]
  },
  {
   "cell_type": "code",
   "execution_count": 3,
   "metadata": {},
   "outputs": [
    {
     "name": "stdout",
     "output_type": "stream",
     "text": [
      "空行↓\n",
      "\n",
      "空行↑\n"
     ]
    }
   ],
   "source": [
    "print(\"空行↓\")\n",
    "print(\"\")\n",
    "print(\"空行↑\")"
   ]
  },
  {
   "cell_type": "code",
   "execution_count": null,
   "metadata": {
    "collapsed": true
   },
   "outputs": [],
   "source": [
    "#挑战性练习：写程序，由用户输入一些整数，能够得到几个整数中的次大值(第二大的值)并输出。"
   ]
  },
  {
   "cell_type": "code",
   "execution_count": 16,
   "metadata": {},
   "outputs": [
    {
     "name": "stdout",
     "output_type": "stream",
     "text": [
      "请输入需要得到次大值的几个整数之一：1\n",
      "请输入整数或输入结束开始求最大值：5\n",
      "请输入整数或输入结束开始求最大值：4\n",
      "请输入整数或输入结束开始求最大值：结束\n",
      "数字输入结束，开始寻找次大值\n",
      "次大值为 4\n"
     ]
    }
   ],
   "source": [
    "n=int(input(\"请输入需要得到次大值的几个整数之一：\"))\n",
    "i=1\n",
    "ma=n\n",
    "ma2=n\n",
    "while n!=\"结束\":\n",
    "    i=i+1\n",
    "    n=input(\"请输入整数或输入结束开始求最大值：\")\n",
    "    if n==\"结束\":\n",
    "        print(\"数字输入结束，开始寻找次大值\")\n",
    "    else:\n",
    "        n=int(n)\n",
    "        if n>=ma:\n",
    "            ma=n\n",
    "        elif ma2<=n<=ma:\n",
    "            ma2=n\n",
    "i=i-1\n",
    "if i==1:\n",
    "    print(\"仅输入一个数，没有次大值\")\n",
    "else:\n",
    "    print(\"次大值为\",ma2)"
   ]
  },
  {
   "cell_type": "code",
   "execution_count": null,
   "metadata": {
    "collapsed": true
   },
   "outputs": [],
   "source": []
  }
 ],
 "metadata": {
  "kernelspec": {
   "display_name": "Python 3",
   "language": "python",
   "name": "python3"
  },
  "language_info": {
   "codemirror_mode": {
    "name": "ipython",
    "version": 3
   },
   "file_extension": ".py",
   "mimetype": "text/x-python",
   "name": "python",
   "nbconvert_exporter": "python",
   "pygments_lexer": "ipython3",
   "version": "3.6.2"
  }
 },
 "nbformat": 4,
 "nbformat_minor": 2
}
