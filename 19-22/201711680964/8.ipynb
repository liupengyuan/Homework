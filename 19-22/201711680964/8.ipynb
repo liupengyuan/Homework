{
 "cells": [
  {
   "cell_type": "code",
   "execution_count": null,
   "metadata": {
    "collapsed": true
   },
   "outputs": [],
   "source": [
    "#成语接龙游戏"
   ]
  },
  {
   "cell_type": "code",
   "execution_count": 3,
   "metadata": {},
   "outputs": [
    {
     "name": "stdout",
     "output_type": "stream",
     "text": [
      "息事宁人\n",
      "请接龙,结束游戏请输入'end'：人莫予毒\n",
      "你赢了!\n",
      "电脑得分： 0\n",
      "玩家得分： 10\n"
     ]
    }
   ],
   "source": [
    "import random\n",
    "fh=open(r'C:\\temp\\成语大全.txt')\n",
    "text=fh.read()\n",
    "fh.close\n",
    "text=text.replace(' ', '')\n",
    "idioms=text.split('\\n')\n",
    "n=0\n",
    "com=0\n",
    "hum=0\n",
    "k=1\n",
    "\n",
    "idiom = random.choice(idioms)\n",
    "print(idiom)\n",
    "while n != \"end\" and k==1:\n",
    "    n=input(\"请接龙,结束游戏请输入'end'：\")\n",
    "\n",
    "    if (n in idioms)and(n[0]==idiom[3]):\n",
    "        hum+=10\n",
    "\n",
    "    else:\n",
    "        k=0\n",
    "        break\n",
    "    for idiom in idioms:\n",
    "        k=2\n",
    "        if idiom[0]==n[3]:\n",
    "            print(idiom)\n",
    "            com+=10\n",
    "            k=1\n",
    "            break\n",
    "\n",
    "    \n",
    "if k==0:\n",
    "    print(\"电脑赢了！\")\n",
    "    print(\"电脑得分：\",com)\n",
    "    print(\"玩家得分：\",hum)\n",
    "elif k==2:\n",
    "    print(\"你赢了!\")\n",
    "    print(\"电脑得分：\",com)\n",
    "    print(\"玩家得分：\",hum)"
   ]
  },
  {
   "cell_type": "code",
   "execution_count": null,
   "metadata": {
    "collapsed": true
   },
   "outputs": [],
   "source": []
  }
 ],
 "metadata": {
  "kernelspec": {
   "display_name": "Python 3",
   "language": "python",
   "name": "python3"
  },
  "language_info": {
   "codemirror_mode": {
    "name": "ipython",
    "version": 3
   },
   "file_extension": ".py",
   "mimetype": "text/x-python",
   "name": "python",
   "nbconvert_exporter": "python",
   "pygments_lexer": "ipython3",
   "version": "3.6.2"
  }
 },
 "nbformat": 4,
 "nbformat_minor": 2
}
