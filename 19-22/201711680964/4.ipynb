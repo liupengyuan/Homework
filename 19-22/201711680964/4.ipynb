{
 "cells": [
  {
   "cell_type": "code",
   "execution_count": null,
   "metadata": {
    "collapsed": true
   },
   "outputs": [],
   "source": [
    "#练习 1：仿照求sigma1~m + sigma1~n + sigma1~k的完整代码，写程序，可求m!+n!+k!"
   ]
  },
  {
   "cell_type": "code",
   "execution_count": 2,
   "metadata": {},
   "outputs": [
    {
     "name": "stdout",
     "output_type": "stream",
     "text": [
      "请输入整数m 1\n",
      "请输入整数n 2\n",
      "请输入整数k 3\n",
      "9\n"
     ]
    }
   ],
   "source": [
    "def jiecheng(n):\n",
    "    i=0\n",
    "    mul=1\n",
    "    while i<n:\n",
    "        i=i+1\n",
    "        mul=mul*i\n",
    "    return mul\n",
    "m=int(input(\"请输入整数m \"))\n",
    "n=int(input(\"请输入整数n \"))\n",
    "k=int(input(\"请输入整数k \"))\n",
    "print(\"m!+n!+k!=\"and jiecheng(m)+jiecheng(n)+jiecheng(k))"
   ]
  },
  {
   "cell_type": "code",
   "execution_count": null,
   "metadata": {
    "collapsed": true
   },
   "outputs": [],
   "source": [
    "#练习 2：写函数可返回1 - 1/3 + 1/5 - 1/7...的前n项的和。在主程序中，分别令n=1000及100000，打印4倍该函数的和"
   ]
  },
  {
   "cell_type": "code",
   "execution_count": 1,
   "metadata": {},
   "outputs": [
    {
     "name": "stdout",
     "output_type": "stream",
     "text": [
      "3.140592653839794\n",
      "3.1414926535900345\n"
     ]
    }
   ],
   "source": [
    "def summ(n):\n",
    "    i=0\n",
    "    he=0\n",
    "    while i<n:\n",
    "        i=i+1\n",
    "        he=he+((-1)**(i+1))*(1/(2*i-1))\n",
    "    return he\n",
    "print(\"n=1000时结果的四倍等于\"and 4*summ(1000))\n",
    "print(\"n=10000时结果的四倍等于\"and 4*summ(10000))"
   ]
  },
  {
   "cell_type": "code",
   "execution_count": null,
   "metadata": {
    "collapsed": true
   },
   "outputs": [],
   "source": [
    "#练习 3：将task3中的练习1及练习4改写为函数，并进行调用"
   ]
  },
  {
   "cell_type": "code",
   "execution_count": null,
   "metadata": {
    "collapsed": true
   },
   "outputs": [],
   "source": [
    "#task3练习1"
   ]
  },
  {
   "cell_type": "code",
   "execution_count": 20,
   "metadata": {},
   "outputs": [
    {
     "name": "stdout",
     "output_type": "stream",
     "text": [
      "您的名字是：a\n",
      "请问您的出生月份是：12\n",
      "请问您的出生日期是：12\n",
      "a 同志 您的星座是射手座\n"
     ]
    }
   ],
   "source": [
    "def panduan(num):\n",
    "    if 120<=num<=218:\n",
    "        print(name,\"同志\",\"您的星座是水瓶座\")\n",
    "    elif 219<=num<=320:\n",
    "        print(name,\"同志\",\"您的星座是双鱼座\")\n",
    "    elif 321<=num<=419:\n",
    "        print(name,\"同志\",\"您的星座是白羊座\")\n",
    "    elif 420<=num<=520:\n",
    "        print(name,\"同志\",\"您的星座是金牛座\")\n",
    "    elif 521<=num<=621:\n",
    "        print(name,\"同志\",\"您的星座是双子座\")\n",
    "    elif 622<=num<=722:\n",
    "        print(name,\"同志\",\"您的星座是巨蟹座\")\n",
    "    elif 723<=num<=822:\n",
    "        print(name,\"同志\",\"您的星座是狮子座\")\n",
    "    elif 823<=num<=922:\n",
    "        print(name,\"同志\",\"您的星座是处女座\")\n",
    "    elif 923<=num<=1023:\n",
    "        print(name,\"同志\",\"您的星座是天秤座\")\n",
    "    elif 1024<=num<=1122:\n",
    "        print(name,\"同志\",\"您的星座是天蝎座\")\n",
    "    elif 1123<=num<=1221:\n",
    "        print(name,\"同志\",\"您的星座是射手座\")\n",
    "    else:\n",
    "        print(name,\"同志\",\"您的星座是摩羯座\")\n",
    "name=input(\"您的名字是：\")\n",
    "m=input(\"请问您的出生月份是：\")\n",
    "d=input(\"请问您的出生日期是：\")\n",
    "num=int(m+d)\n",
    "panduan(num)"
   ]
  },
  {
   "cell_type": "code",
   "execution_count": null,
   "metadata": {
    "collapsed": true
   },
   "outputs": [],
   "source": [
    "#task3练习4"
   ]
  },
  {
   "cell_type": "code",
   "execution_count": 27,
   "metadata": {},
   "outputs": [
    {
     "name": "stdout",
     "output_type": "stream",
     "text": [
      "请输入单数形式的单词：leaf\n",
      "leaves\n"
     ]
    }
   ],
   "source": [
    "\n",
    "\n",
    "def danci(w):\n",
    "    l=0\n",
    "    n=0\n",
    "    if w.endswith(\"s\"):\n",
    "        print(w+\"es\")\n",
    "    elif w.endswith(\"y\"):\n",
    "        l = list(w) #将字符串转换为列表，列表的每一个元素为一个字符\n",
    "        n=len(w)-1\n",
    "        l[n] = 'i' #修改字符串的第n个字符为i\n",
    "        w = ''.join(l) #将列表重新连接为字符串\n",
    "        print(w+\"es\")\n",
    "    elif w.endswith(\"f\"):\n",
    "        l = list(w) #将字符串转换为列表，列表的每一个元素为一个字符\n",
    "        n=len(w)-1\n",
    "        l[n] = 'v' #修改字符串的第n个字符为v\n",
    "        w = ''.join(l) #将列表重新连接为字符串\n",
    "        print(w+\"es\")\n",
    "    else:\n",
    "        print(w+\"s\")\n",
    "\n",
    "w=input(\"请输入单数形式的单词：\")\n",
    "danci(w)"
   ]
  },
  {
   "cell_type": "code",
   "execution_count": null,
   "metadata": {
    "collapsed": true
   },
   "outputs": [],
   "source": [
    "#挑战性练习：写程序，可以求从整数m到整数n累加的和，间隔为k，求和部分需用函数实现，主程序中由用户输入m，n，k调用函数验证正确性"
   ]
  },
  {
   "cell_type": "code",
   "execution_count": 14,
   "metadata": {},
   "outputs": [
    {
     "name": "stdout",
     "output_type": "stream",
     "text": [
      "请输入整数m:1\n",
      "请输入整数n:5\n",
      "请输入间隔k，注意k不等于0:2\n",
      "9\n"
     ]
    }
   ],
   "source": [
    "def leihe(m,n,k):\n",
    "    a=0\n",
    "    if m>=n:\n",
    "        summ=0\n",
    "        while n<=m:\n",
    "            summ=summ+n\n",
    "            if k!=0:\n",
    "                n=n+k\n",
    "            else:\n",
    "                print(\"k不能为0\")\n",
    "                n=m+1\n",
    "                summ=\" \"\n",
    "        print(summ)\n",
    "    else:\n",
    "        summ=0\n",
    "        while m<=n:\n",
    "            summ=summ+m\n",
    "            if k!=0:\n",
    "                m=m+k\n",
    "            else:\n",
    "                print(\"k不能为0\")\n",
    "                m=n+1\n",
    "                summ=\" \"\n",
    "        print(summ)\n",
    "m=int(input(\"请输入整数m:\"))\n",
    "n=int(input(\"请输入整数n:\"))\n",
    "k=int(input(\"请输入间隔k，注意k不等于0:\"))\n",
    "leihe(m,n,k)"
   ]
  },
  {
   "cell_type": "code",
   "execution_count": null,
   "metadata": {
    "collapsed": true
   },
   "outputs": [],
   "source": []
  },
  {
   "cell_type": "code",
   "execution_count": null,
   "metadata": {
    "collapsed": true
   },
   "outputs": [],
   "source": []
  }
 ],
 "metadata": {
  "kernelspec": {
   "display_name": "Python 3",
   "language": "python",
   "name": "python3"
  },
  "language_info": {
   "codemirror_mode": {
    "name": "ipython",
    "version": 3
   },
   "file_extension": ".py",
   "mimetype": "text/x-python",
   "name": "python",
   "nbconvert_exporter": "python",
   "pygments_lexer": "ipython3",
   "version": "3.6.2"
  }
 },
 "nbformat": 4,
 "nbformat_minor": 2
}
