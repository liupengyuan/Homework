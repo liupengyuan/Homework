{
 "cells": [
  {
   "cell_type": "code",
   "execution_count": 7,
   "metadata": {},
   "outputs": [
    {
     "name": "stdout",
     "output_type": "stream",
     "text": [
      "            * ***** * \n",
      "          * * ***** * * \n",
      "        * * * ***** * * * \n",
      "      * * * * ***** * * * * \n",
      "    * * * * * ***** * * * * * \n"
     ]
    }
   ],
   "source": [
    "#1\n",
    "def stars(a,b):\n",
    "    for i in range(b):\n",
    "        temp1=' '*((b-i+1)*2)\n",
    "        temp2=''\n",
    "        for j in range(i+1):\n",
    "            temp2 =temp2+ a+' '\n",
    "        temp=temp1+temp2+a*b+' '+temp2\n",
    "        print(temp)\n",
    "stars('*',5)"
   ]
  },
  {
   "cell_type": "code",
   "execution_count": 11,
   "metadata": {},
   "outputs": [
    {
     "data": {
      "text/plain": [
       "125"
      ]
     },
     "execution_count": 11,
     "metadata": {},
     "output_type": "execute_result"
    }
   ],
   "source": [
    "#2\n",
    "def ack(m,n):\n",
    "    if m==0:\n",
    "        return n+1\n",
    "    elif m>0 and n==0:\n",
    "        return ack(m-1,1)\n",
    "    elif m>0 and n>0:\n",
    "        return ack(m-1,ack(m,n-1))\n",
    "ack(3,4)"
   ]
  },
  {
   "cell_type": "code",
   "execution_count": 1,
   "metadata": {},
   "outputs": [
    {
     "name": "stdout",
     "output_type": "stream",
     "text": [
      "7+22=\n",
      "5+12=\n",
      "6*24=\n",
      "16+14=\n",
      "7+9=\n",
      "21*16=\n",
      "16+7=\n",
      "14-13=\n",
      "16*5=\n",
      "25*22=\n",
      "18*22=\n",
      "25-9=\n",
      "9+16=\n",
      "20-8=\n",
      "19+15=\n",
      "请输入所有题目的答案,两个答案之间以英文逗号分隔:29,1,1,1,1,1,1,1,80,1,1,1,1,1,1\n",
      "最终得分为20\n"
     ]
    }
   ],
   "source": [
    "#3,a,b\n",
    "import random\n",
    "def yi(n,a,b):\n",
    "    i=0\n",
    "    ans=[]\n",
    "    while i < n:\n",
    "        num1=random.randint(a,b)\n",
    "        num2=random.randint(a,b)\n",
    "        ch=random.choice([['+',num1+num2],['-',num1-num2],['*',num1*num2],['/',num1/num2]])\n",
    "        num3=ch[1]\n",
    "        if num3<0 or int(num3)!= num3:\n",
    "            i=i-1\n",
    "        else:\n",
    "            print(str(num1)+ch[0]+str(num2)+'=')\n",
    "            ans.append([num3,ch[0]])\n",
    "        i+=1\n",
    "    n=input('请输入所有题目的答案,两个答案之间以英文逗号分隔:')\n",
    "    ns=n.split(',')\n",
    "    sco=0\n",
    "    for i in range(len(ans)):\n",
    "        if int(ns[i])==ans[i][0]:\n",
    "            if ans[i][1]=='+' or ans[i][1]=='-':\n",
    "                sco+=5\n",
    "            else:\n",
    "                sco+=10\n",
    "    print('最终得分为'+str(sco))\n",
    "yi(15,3,25)\n",
    "    "
   ]
  },
  {
   "cell_type": "code",
   "execution_count": 5,
   "metadata": {},
   "outputs": [
    {
     "name": "stdout",
     "output_type": "stream",
     "text": [
      "请输入题目个数:10\n",
      "请输入题目1   格式应为5*14=   5*14=\n",
      "答案为 70\n",
      "请输入题目2   格式应为5*14=   1+2=\n",
      "答案为 3\n",
      "请输入题目3   格式应为5*14=   2+3=\n",
      "答案为 5\n",
      "请输入题目4   格式应为5*14=   4+4=\n",
      "答案为 8\n",
      "请输入题目5   格式应为5*14=   4*4=\n",
      "答案为 16\n",
      "请输入题目6   格式应为5*14=   1*6=\n",
      "答案为 6\n",
      "请输入题目7   格式应为5*14=   9*9=\n",
      "答案为 81\n",
      "请输入题目8   格式应为5*14=   13*13=\n",
      "答案为 169\n",
      "请输入题目9   格式应为5*14=   24/6=\n",
      "答案为 4.0\n",
      "请输入题目10   格式应为5*14=   1+3=\n",
      "答案为 4\n",
      "电脑得分为 80\n"
     ]
    }
   ],
   "source": [
    "#3,c\n",
    "score=0\n",
    "i=0\n",
    "n=input('请输入题目个数:')\n",
    "while i <int(n):\n",
    "    ti=input('请输入题目'+str(i+1)+'   格式应为5*14=   ')\n",
    "    ti1=ti[:len(ti)-1]\n",
    "    if '+'in ti:\n",
    "        ti2=ti1.split('+')\n",
    "        print('答案为',int(ti2[0])+int(ti2[1]))\n",
    "        score+=5\n",
    "    elif '-'in ti:\n",
    "        ti2=ti1.split('-')\n",
    "        num3=int(ti2[0])-int(ti2[1])\n",
    "        if num3<0:\n",
    "            i=i-1\n",
    "            print('答案需大于零')\n",
    "        else:\n",
    "            print('答案为',int(ti2[0])-int(ti2[1]))\n",
    "            score+=5\n",
    "    elif '*'in ti:\n",
    "        ti2=ti1.split('*')\n",
    "        print('答案为',int(ti2[0])*int(ti2[1]))\n",
    "        score+=10\n",
    "    elif '/'in ti:\n",
    "        ti2=ti1.split('/')\n",
    "        num3=int(ti2[0])/int(ti2[1])\n",
    "        if num3<0 or int(num3)!= num3:\n",
    "            i=i-1\n",
    "            print('答案需为整数')\n",
    "        else:\n",
    "            print('答案为',int(ti2[0])/int(ti2[1]))\n",
    "            score+=10\n",
    "    i+=1\n",
    "print('电脑得分为',score)"
   ]
  },
  {
   "cell_type": "code",
   "execution_count": 19,
   "metadata": {},
   "outputs": [
    {
     "data": {
      "text/plain": [
       "['樽酒论文',\n",
       " '遵养时晦',\n",
       " '樽前月下',\n",
       " '樽俎折冲',\n",
       " '左道旁门',\n",
       " '左辅右弼',\n",
       " '左顾右眄',\n",
       " '左顾右盼',\n",
       " '左家娇女',\n",
       " '左建外易',\n",
       " '左邻右里',\n",
       " '左邻右舍',\n",
       " '左铅右椠',\n",
       " '左书右息',\n",
       " '左思右想',\n",
       " '左提右挈',\n",
       " '左图右史',\n",
       " '左图右书',\n",
       " '左宜右宜',\n",
       " '左宜右有']"
      ]
     },
     "execution_count": 19,
     "metadata": {},
     "output_type": "execute_result"
    }
   ],
   "source": [
    "#4,a\n",
    "with open(r'C:\\temp\\成语大全(含成语解释)_utf8.txt',encoding='utf-8') as fa:\n",
    "    line=fa.read()\n",
    "lines=line.replace(' ', '')\n",
    "A=[word[0:4] for word in lines.split('\\n\\n')]\n",
    "A[:20]"
   ]
  },
  {
   "cell_type": "code",
   "execution_count": 1,
   "metadata": {},
   "outputs": [
    {
     "data": {
      "text/plain": [
       "[[2, '一举一动'],\n",
       " [2, '一举成名'],\n",
       " [2, '一厢情愿'],\n",
       " [2, '一家之言'],\n",
       " [2, '一年一度'],\n",
       " [2, '一应俱全'],\n",
       " [2, '一成不变'],\n",
       " [2, '一手托天'],\n",
       " [2, '一扫而空'],\n",
       " [2, '一拍即合'],\n",
       " [2, '一无所知'],\n",
       " [2, '一无是处'],\n",
       " [2, '一星半点'],\n",
       " [2, '一槌定音'],\n",
       " [2, '一脉相承'],\n",
       " [2, '一视同仁'],\n",
       " [2, '一针见血'],\n",
       " [2, '一门心思'],\n",
       " [2, '七老八十'],\n",
       " [2, '万象更新']]"
      ]
     },
     "execution_count": 1,
     "metadata": {},
     "output_type": "execute_result"
    }
   ],
   "source": [
    "#4,b\n",
    "with open(r'C:\\temp\\成语大全(含成语解释)_utf8.txt',encoding='utf-8') as fa:\n",
    "    line=fa.read()\n",
    "lines=line.replace(' ', '')\n",
    "A=[word[0:4] for word in lines.split('\\n\\n')]\n",
    "with open(r'C:\\temp\\语料库文件.txt') as fb:\n",
    "    lineb=fb.read()\n",
    "B=[word.split('/')[0] for word in lineb.split()]\n",
    "from collections import Counter\n",
    "dictb=dict(Counter(B))\n",
    "listb=list(dictb)\n",
    "fi={}\n",
    "for a in A:\n",
    "    if a in listb:\n",
    "        dictb[a]+=1\n",
    "        fi[a]=dictb[a]\n",
    "def sort_by_value(d):\n",
    "    items=d.items()\n",
    "    backitems=[[v[1],v[0]] for v in items]\n",
    "    backitems.sort()\n",
    "    return [ backitems[i] for i in range(0,len(backitems))]\n",
    "sort_by_value(fi)[:20]"
   ]
  },
  {
   "cell_type": "code",
   "execution_count": 4,
   "metadata": {},
   "outputs": [
    {
     "data": {
      "text/plain": [
       "{'a': 8249,\n",
       " 'ad': 932,\n",
       " 'ag': 75,\n",
       " 'an': 302,\n",
       " 'b': 1743,\n",
       " 'c': 9321,\n",
       " 'd': 18225,\n",
       " 'df': 55,\n",
       " 'dg': 7,\n",
       " 'e': 31,\n",
       " 'eng': 1616,\n",
       " 'f': 5197,\n",
       " 'g': 76,\n",
       " 'h': 90,\n",
       " 'i': 1729,\n",
       " 'j': 1707,\n",
       " 'k': 371,\n",
       " 'l': 2561,\n",
       " 'm': 25920,\n",
       " 'mq': 219,\n",
       " 'n': 76628,\n",
       " 'ng': 574,\n",
       " 'nr': 10531,\n",
       " 'nrfg': 133,\n",
       " 'nrt': 995,\n",
       " 'ns': 8153,\n",
       " 'nt': 1723,\n",
       " 'nz': 2603,\n",
       " 'o': 40,\n",
       " 'p': 13234,\n",
       " 'q': 1339,\n",
       " 'r': 10942,\n",
       " 'rg': 8,\n",
       " 'rr': 5,\n",
       " 'rz': 36,\n",
       " 's': 1281,\n",
       " 't': 6063,\n",
       " 'tg': 64,\n",
       " 'u': 1580,\n",
       " 'ud': 205,\n",
       " 'ug': 238,\n",
       " 'uj': 15590,\n",
       " 'ul': 3284,\n",
       " 'uv': 344,\n",
       " 'uz': 408,\n",
       " 'v': 59686,\n",
       " 'vd': 92,\n",
       " 'vg': 239,\n",
       " 'vi': 6,\n",
       " 'vn': 7722,\n",
       " 'vq': 6,\n",
       " 'x': 63637,\n",
       " 'y': 308,\n",
       " 'yg': 6,\n",
       " 'z': 322,\n",
       " 'zg': 754}"
      ]
     },
     "execution_count": 4,
     "metadata": {},
     "output_type": "execute_result"
    }
   ],
   "source": [
    "#4,c\n",
    "with open(r'C:\\temp\\语料库文件.txt') as fb:\n",
    "    lineb=fb.read()\n",
    "leis=[word.split('/')[1] for word in lineb.split()]\n",
    "from collections import Counter\n",
    "dictb=dict(Counter(leis))\n",
    "del dictb['']\n",
    "dictb"
   ]
  },
  {
   "cell_type": "code",
   "execution_count": null,
   "metadata": {
    "collapsed": true
   },
   "outputs": [],
   "source": [
    "#4,d\n",
    "with open(r'C:\\temp\\语料库文件.txt') as fb:\n",
    "    lineb=fb.read()\n",
    "nr=[word.split for word in lineb.split()]\n",
    "from collections import Counter\n",
    "nr2=list(dict(Counter(nr)).keys())\n",
    "fi=[]\n",
    "for n in nr2:\n",
    "    n1=n.split('/')\n",
    "    if 'nr'== n1[1]:\n",
    "        fi.append(n1[0])\n",
    "print(fi)"
   ]
  },
  {
   "cell_type": "code",
   "execution_count": 1,
   "metadata": {},
   "outputs": [
    {
     "name": "stdout",
     "output_type": "stream",
     "text": [
      "154.76993561168896\n",
      "25.485005170630817\n"
     ]
    }
   ],
   "source": [
    "#4,e\n",
    "with open(r'C:\\temp\\语料库文件.txt') as fb:\n",
    "    lineb=fb.read()\n",
    "words=[word.split('/')[0] for word in lineb.split()]\n",
    "with open(r'C:\\temp\\成语大全(含成语解释)_utf8.txt',encoding='utf-8') as fa:\n",
    "    line=fa.read()\n",
    "lines=line.replace(' ', '')\n",
    "chengs=[word[0:4] for word in lines.split('\\n\\n')]\n",
    "from collections import Counter\n",
    "zi1=[]\n",
    "for word in words:\n",
    "    zi1+=list(word)\n",
    "zi_1=dict(Counter(zi1)).keys()\n",
    "a1=len(zi1)\n",
    "b1=len(zi_1)\n",
    "print(a1/b1)\n",
    "zi2=[]\n",
    "from collections import Counter\n",
    "for cheng in chengs:\n",
    "    zi2+=list(cheng)\n",
    "zi_2=dict(Counter(zi2)).keys()\n",
    "a2=len(zi2)\n",
    "b2=len(zi_2)\n",
    "print(a2/b2)"
   ]
  },
  {
   "cell_type": "code",
   "execution_count": 17,
   "metadata": {},
   "outputs": [
    {
     "name": "stdout",
     "output_type": "stream",
     "text": [
      "请输入一个成语千钧一发\n",
      "['发表', '表里不一', '一年', '年登花甲', '甲午', '甲级']\n"
     ]
    }
   ],
   "source": [
    "#4,f\n",
    "from collections import Counter\n",
    "with open(r'C:\\temp\\语料库文件.txt') as fb:\n",
    "    lineb=fb.read()\n",
    "wordss=[word.split('/')[0] for word in lineb.split()]\n",
    "words=list(dict(Counter(wordss)).keys())\n",
    "with open(r'C:\\temp\\成语大全(含成语解释)_utf8.txt',encoding='utf-8') as fa:\n",
    "    line=fa.read()\n",
    "idiomss=line.replace(' ', '')\n",
    "idiomsss=[word[0:4] for word in idiomss.split('\\n\\n')]\n",
    "idioms=list(dict(Counter(idiomsss)).keys())\n",
    "idiom=input('请输入一个成语')\n",
    "final=[]\n",
    "for word in words:\n",
    "    a=0\n",
    "    if word=='':\n",
    "        continue\n",
    "    elif len(word)!=2:\n",
    "        continue\n",
    "    if word not in final:\n",
    "        if word[0]==idiom[3]:\n",
    "            final.append(word)\n",
    "            a=1\n",
    "            for idiom in idioms:\n",
    "                m=0\n",
    "                if idiom=='':\n",
    "                    continue\n",
    "                if idiom not in final:\n",
    "                    if idiom[0]==word[-1]:\n",
    "                        final.append(idiom)\n",
    "                        m=1\n",
    "                        break\n",
    "                    else:\n",
    "                        continue\n",
    "                if m == 0:\n",
    "                    break\n",
    "            \n",
    "        else:\n",
    "            continue\n",
    "    if a== 0:\n",
    "        break\n",
    "print(final)"
   ]
  },
  {
   "cell_type": "code",
   "execution_count": null,
   "metadata": {
    "collapsed": true
   },
   "outputs": [],
   "source": []
  }
 ],
 "metadata": {
  "kernelspec": {
   "display_name": "Python 3",
   "language": "python",
   "name": "python3"
  }
 },
 "nbformat": 4,
 "nbformat_minor": 2
}
