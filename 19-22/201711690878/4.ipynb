{
 "cells": [
  {
   "cell_type": "code",
   "execution_count": 3,
   "metadata": {},
   "outputs": [
    {
     "name": "stdout",
     "output_type": "stream",
     "text": [
      "5\n",
      "2\n",
      "3\n",
      "128\n"
     ]
    }
   ],
   "source": [
    "def my_mul(n):\n",
    "    i=0\n",
    "    total=1\n",
    "    while i<n:\n",
    "        i=i+1\n",
    "        total=total*i\n",
    "    return(total)\n",
    "m=int(input())\n",
    "n=int(input())\n",
    "k=int(input())\n",
    "print(my_mul(n)+my_mul(m)+my_mul(k))"
   ]
  },
  {
   "cell_type": "code",
   "execution_count": 29,
   "metadata": {},
   "outputs": [
    {
     "name": "stdout",
     "output_type": "stream",
     "text": [
      "3.140592653839794\n",
      "3.1414926535900345\n"
     ]
    }
   ],
   "source": [
    "def my_sum(n):\n",
    "    i=0\n",
    "    total=0\n",
    "    while i<n:\n",
    "        i=i+1\n",
    "        if 0<=i%2<=0:\n",
    "            a=1/(2*i-1)*(-1)\n",
    "        else:\n",
    "            a=1/(2*i-1)\n",
    "        total=total+a\n",
    "    return total\n",
    "\n",
    "\n",
    "print(4*my_sum(1000))\n",
    "print(4*my_sum(10000))\n",
    "        \n",
    "    "
   ]
  },
  {
   "cell_type": "code",
   "execution_count": 12,
   "metadata": {},
   "outputs": [
    {
     "name": "stdout",
     "output_type": "stream",
     "text": [
      "please put into a word.boss\n",
      "bosses\n"
     ]
    }
   ],
   "source": [
    "def plural_change(noun):\n",
    "    if noun.endswith ('s')or('ch')or('sh'):\n",
    "        print(noun,'es',sep='')\n",
    "    elif noun.endswith('y'):\n",
    "        print('请把y变成i加上es')\n",
    "    else:\n",
    "        print(noun,'s',sep='')\n",
    "    \n",
    "noun=input('please put into a word.')\n",
    "plural_change(noun)"
   ]
  },
  {
   "cell_type": "code",
   "execution_count": 11,
   "metadata": {},
   "outputs": [
    {
     "name": "stdout",
     "output_type": "stream",
     "text": [
      "11.16\n",
      "please put into your nameRose\n",
      "Rose 你是非常有性格的天蝎座!\n"
     ]
    },
    {
     "data": {
      "text/plain": [
       "11.16"
      ]
     },
     "execution_count": 11,
     "metadata": {},
     "output_type": "execute_result"
    }
   ],
   "source": [
    "def compute_sum(n) :\n",
    "    if 1.20<n<=2.18:\n",
    "        print(name,\"您是非常有性格的水瓶座!\")\n",
    "    elif 2.18<n<=3.20:\n",
    "        print(name,\"你是非常有性格的双鱼座!\")\n",
    "    elif 3.20<n<=4.19:\n",
    "        print(name,\"你是非常有性格的白羊座!\")\n",
    "    elif 4.19<n<=5.20:\n",
    "        print(name,\"你是非常有性格的金牛座!\")\n",
    "    elif 5.20<n<=6.21:\n",
    "        print(name,\"你是非常有性格的双子座!\")\n",
    "    elif 6.21<n<=7.22:\n",
    "        print(name,\"你是非常有性格的巨蟹座!\")\n",
    "    elif 7.22<n<=8.22:\n",
    "        print(name,\"你是非常有性格的狮子座!\")\n",
    "    elif 8.22<n<=9.22:\n",
    "        print(name,\"你是非常有性格的处女座!\")\n",
    "    elif 9.22<n<=10.23:\n",
    "        print(name,\"你是非常有性格的天秤座!\")\n",
    "    elif 10.23<n<=11.22:\n",
    "        print(name,\"你是非常有性格的天蝎座!\")\n",
    "    elif 11.22<n<=12.21:\n",
    "        print(name,\"你是非常有性格的射手座!\")\n",
    "    else:\n",
    "        print(name,\"你是非常有性格的摩羯座!\")\n",
    "    return(n)\n",
    "\n",
    "n=float(input())\n",
    "name=input('please put into your name')\n",
    "compute_sum(n)\n"
   ]
  },
  {
   "cell_type": "code",
   "execution_count": 3,
   "metadata": {},
   "outputs": [
    {
     "name": "stdout",
     "output_type": "stream",
     "text": [
      "6\n",
      "10\n",
      "2\n"
     ]
    },
    {
     "data": {
      "text/plain": [
       "24"
      ]
     },
     "execution_count": 3,
     "metadata": {},
     "output_type": "execute_result"
    }
   ],
   "source": [
    "def compute_sum(m,n,k):\n",
    "    \n",
    "        if m<=n:\n",
    "            i=m\n",
    "            total=0\n",
    "            while i<=n:\n",
    "                    total=total+i\n",
    "                    i=i+k\n",
    "            return(total)\n",
    "    \n",
    "        else:\n",
    "            print('输入的数字不符合要求')\n",
    "        \n",
    "        \n",
    "m=int(input())\n",
    "n=int(input())\n",
    "k=int(input())\n",
    "\n",
    "compute_sum(m,n,k)\n",
    "\n",
    "            "
   ]
  },
  {
   "cell_type": "code",
   "execution_count": null,
   "metadata": {
    "collapsed": true
   },
   "outputs": [],
   "source": []
  },
  {
   "cell_type": "code",
   "execution_count": null,
   "metadata": {
    "collapsed": true
   },
   "outputs": [],
   "source": []
  }
 ],
 "metadata": {
  "kernelspec": {
   "display_name": "Python 3",
   "language": "python",
   "name": "python3"
  },
  "language_info": {
   "codemirror_mode": {
    "name": "ipython",
    "version": 3
   },
   "file_extension": ".py",
   "mimetype": "text/x-python",
   "name": "python",
   "nbconvert_exporter": "python",
   "pygments_lexer": "ipython3",
   "version": "3.6.2"
  }
 },
 "nbformat": 4,
 "nbformat_minor": 2
}
