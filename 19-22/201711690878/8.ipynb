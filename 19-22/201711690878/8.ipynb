{
 "cells": [
  {
   "cell_type": "code",
   "execution_count": null,
   "metadata": {},
   "outputs": [
    {
     "name": "stdout",
     "output_type": "stream",
     "text": [
      "计算机输出的成语是: 蝇营狗苟、\n",
      "你接的成语是：苟且偷生\n",
      "你当前的得分是 10\n"
     ]
    }
   ],
   "source": [
    "import random\n",
    "fh = open(r'c:\\temp\\成语大全.txt')\n",
    "text=fh.read()\n",
    "fh.close()\n",
    "\n",
    "text=text.replace('`','')\n",
    "idioms=text.split('\\n')\n",
    "idiom=random.choice(idioms)\n",
    "a=list(idiom)\n",
    "print('计算机输出的成语是:',idiom)\n",
    "\n",
    "boom=0\n",
    "total_1=0\n",
    "total_2=0\n",
    "i=0\n",
    "while i>=0:\n",
    "    if boom==0:\n",
    "        idiom_me=input('你接的成语是：')\n",
    "        b=list(idiom_me)\n",
    "    \n",
    "        if b[0]==a[3]:\n",
    "            total_1=total_1+10\n",
    "            boom=1\n",
    "            print('你当前的得分是',total_1)\n",
    "        else:\n",
    "            print('你输了!')\n",
    "    elif  boom==1:\n",
    "        for idiom in idioms:\n",
    "            if  a[0]==b[3]:\n",
    "                print('计算机接的成语是',idiom)\n",
    "                total_2=total_2+10\n",
    "                print('计算机的得分是',total_2)\n",
    "                a=b\n",
    "                boom=0\n",
    "                i+=1\n",
    "                break\n",
    "print('计算机的得分:',total_2)\n",
    "print('你的得分',total_1)\n",
    "            \n",
    "            "
   ]
  },
  {
   "cell_type": "code",
   "execution_count": null,
   "metadata": {
    "collapsed": true
   },
   "outputs": [],
   "source": []
  },
  {
   "cell_type": "code",
   "execution_count": null,
   "metadata": {
    "collapsed": true
   },
   "outputs": [],
   "source": []
  }
 ],
 "metadata": {
  "kernelspec": {
   "display_name": "Python 3",
   "language": "python",
   "name": "python3"
  }
 },
 "nbformat": 4,
 "nbformat_minor": 2
}
