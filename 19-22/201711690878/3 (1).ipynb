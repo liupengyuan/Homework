{
 "cells": [
  {
   "cell_type": "code",
   "execution_count": 3,
   "metadata": {},
   "outputs": [
    {
     "name": "stdout",
     "output_type": "stream",
     "text": [
      "请输入你的名字,以回车结束Rose\n",
      "用数字表示您的生日11.16\n",
      "Rose 你是非常有性格的天蝎座!\n"
     ]
    }
   ],
   "source": [
    "name=str(input('请输入你的名字,以回车结束'))\n",
    "n=float(input('用数字表示您的生日'))\n",
    "if 1.20<n<=2.18:\n",
    "    print(name,\"您是非常有性格的水瓶座!\")\n",
    "elif 2.18<n<=3.20:\n",
    "    print(name,\"你是非常有性格的双鱼座!\")\n",
    "elif 3.20<n<=4.19:\n",
    "    print(name,\"你是非常有性格的白羊座!\")\n",
    "elif 4.19<n<=5.20:\n",
    "    print(name,\"你是非常有性格的金牛座!\")\n",
    "elif 5.20<n<=6.21:\n",
    "    print(name,\"你是非常有性格的双子座!\")\n",
    "elif 6.21<n<=7.22:\n",
    "    print(name,\"你是非常有性格的巨蟹座!\")\n",
    "elif 7.22<n<=8.22:\n",
    "    print(name,\"你是非常有性格的狮子座!\")\n",
    "elif 8.22<n<=9.22:\n",
    "    print(name,\"你是非常有性格的处女座!\")\n",
    "elif 9.22<n<=10.23:\n",
    "    print(name,\"你是非常有性格的天秤座!\")\n",
    "elif 10.23<n<=11.22:\n",
    "    print(name,\"你是非常有性格的天蝎座!\")\n",
    "elif 11.22<n<=12.21:\n",
    "    print(name,\"你是非常有性格的射手座!\")\n",
    "else:\n",
    "    print(name,\"你是非常有性格的摩羯座!\")\n"
   ]
  },
  {
   "cell_type": "code",
   "execution_count": 2,
   "metadata": {},
   "outputs": [
    {
     "name": "stdout",
     "output_type": "stream",
     "text": [
      "请输入一个整数6\n",
      "请输入一个不为0的整数8\n",
      "求积:1 求和:2 求余数:3 求整:44\n",
      "0.75\n"
     ]
    }
   ],
   "source": [
    "m=int(input(\"请输入一个整数\"))\n",
    "n=int(input(\"请输入一个不为0的整数\"))\n",
    "A=0\n",
    "i=int(input(\"求积:1 求和:2 求余数:3 求整:4\"))\n",
    "      \n",
    "if   1<=i<2:\n",
    "      A=m+n\n",
    "elif 2<=i<3:\n",
    "      A=m*n\n",
    "elif 3<=i<4:\n",
    "      A=m%n\n",
    "elif 4<=i<5:\n",
    "      A=m/n\n",
    "print(A)\n",
    "    "
   ]
  },
  {
   "cell_type": "code",
   "execution_count": 10,
   "metadata": {},
   "outputs": [
    {
     "name": "stdout",
     "output_type": "stream",
     "text": [
      "请输入一个单数形式的英文单词，以回车结束apple\n",
      "apples\n"
     ]
    }
   ],
   "source": [
    "m=str(input('请输入一个单数形式的英文单词，以回车结束'))\n",
    "n=m+'s'\n",
    "if 'm'.endswith('y'or'ch'or'sh'or's'):\n",
    "    print('请将单词变为复数')\n",
    "else:\n",
    "    print(n)"
   ]
  },
  {
   "cell_type": "code",
   "execution_count": 23,
   "metadata": {
    "scrolled": true
   },
   "outputs": [
    {
     "name": "stdout",
     "output_type": "stream",
     "text": [
      " \n",
      " \n",
      " \n"
     ]
    }
   ],
   "source": [
    "print(\" \")\n",
    "print(\" \")\n",
    "print(\" \")"
   ]
  }
 ],
 "metadata": {
  "kernelspec": {
   "display_name": "Python 3",
   "language": "python",
   "name": "python3"
  },
  "language_info": {
   "codemirror_mode": {
    "name": "ipython",
    "version": 3
   },
   "file_extension": ".py",
   "mimetype": "text/x-python",
   "name": "python",
   "nbconvert_exporter": "python",
   "pygments_lexer": "ipython3",
   "version": "3.6.2"
  }
 },
 "nbformat": 4,
 "nbformat_minor": 2
}
