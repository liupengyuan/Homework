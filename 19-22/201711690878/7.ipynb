{
 "cells": [
  {
   "cell_type": "code",
   "execution_count": 2,
   "metadata": {},
   "outputs": [
    {
     "name": "stdout",
     "output_type": "stream",
     "text": [
      "123456\n"
     ]
    },
    {
     "data": {
      "text/plain": [
       "'654321'"
      ]
     },
     "execution_count": 2,
     "metadata": {},
     "output_type": "execute_result"
    }
   ],
   "source": [
    "#练习一：自己定义一个reverse(s)函数，功能返回字符串s的倒序字符串。\n",
    "def reverse(s):\n",
    "    a=s[len(s)::-1]\n",
    "    return a\n",
    "    \n",
    "s=input()\n",
    "reverse(s)\n",
    "  "
   ]
  },
  {
   "cell_type": "code",
   "execution_count": 12,
   "metadata": {},
   "outputs": [
    {
     "name": "stdout",
     "output_type": "stream",
     "text": [
      "3\n",
      "3\n",
      "3\n",
      "$\n",
      "$\n",
      "$$\n",
      "$$$\n",
      "     $\n",
      "    $$$\n",
      "   $$$$$\n",
      "      $\n",
      "    $$\n",
      "  $$$\n"
     ]
    },
    {
     "data": {
      "text/plain": [
       "('$', 3, 3, 3)"
      ]
     },
     "execution_count": 12,
     "metadata": {},
     "output_type": "execute_result"
    }
   ],
   "source": [
    "#练习二：写函数，根据给定符号和行数，打印相应直角三角形，等腰三角形及其他形式的三角形。\n",
    "def tx():\n",
    "    for i in range(1,f+1):\n",
    "        print(i*a)\n",
    "    for j in range(1,g+1):\n",
    "        print((g*2-j)*' '+j*a+(j-1)*a,end='')\n",
    "        print()\n",
    "    for l in range(1,m+1):\n",
    "        print((m*3-(2*l+1))*' '+l*a,end='')\n",
    "        print()\n",
    "    return a,f,g,m\n",
    "\n",
    "f=int(input())\n",
    "g=int(input())\n",
    "m=int(input())\n",
    "a=input()\n",
    "tx()\n",
    "       "
   ]
  },
  {
   "cell_type": "code",
   "execution_count": 23,
   "metadata": {},
   "outputs": [
    {
     "name": "stdout",
     "output_type": "stream",
     "text": [
      "3\n",
      "*\n",
      "***\n",
      "***\n",
      "***\n",
      "          ***\n",
      "        ***\n",
      "      ***\n"
     ]
    },
    {
     "data": {
      "text/plain": [
       "('*', 3)"
      ]
     },
     "execution_count": 23,
     "metadata": {},
     "output_type": "execute_result"
    }
   ],
   "source": [
    "#练习五：写函数，根据给定符号，打印各种菱形。\n",
    "def lx():\n",
    "    for i in range(1,k+1):\n",
    "        print(k*a)\n",
    "    for i in range(1,k+1):\n",
    "        print((k*4-i*2)*' '+k*a)\n",
    "    return a,k\n",
    "\n",
    "k=int(input())\n",
    "a=input()\n",
    "lx()"
   ]
  },
  {
   "cell_type": "code",
   "execution_count": null,
   "metadata": {
    "collapsed": true
   },
   "outputs": [],
   "source": []
  }
 ],
 "metadata": {
  "kernelspec": {
   "display_name": "Python 3",
   "language": "python",
   "name": "python3"
  }
 },
 "nbformat": 4,
 "nbformat_minor": 2
}
