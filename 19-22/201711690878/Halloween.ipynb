{
 "cells": [
  {
   "cell_type": "code",
   "execution_count": 1,
   "metadata": {},
   "outputs": [
    {
     "name": "stdout",
     "output_type": "stream",
     "text": [
      "9\n",
      "8\n",
      "81\n"
     ]
    }
   ],
   "source": [
    "def my_sum(a):\n",
    "    i=0\n",
    "    total=0\n",
    "    while i<a:\n",
    "        i=i+1\n",
    "        total=total+i\n",
    "    return(total)\n",
    "        \n",
    "def my_mul(b):\n",
    "    i=0\n",
    "    flag=1\n",
    "    while i<b:\n",
    "        i=i+1\n",
    "        flag=flag*i\n",
    "    return(flag)\n",
    "\n",
    "m=int(input())\n",
    "n=int(input())\n",
    "\n",
    "if m>n:\n",
    "    print(my_sum(m)+my_sum(n))\n",
    "else:\n",
    "    print(my_mul(m)+my_mul(n))\n",
    "    "
   ]
  },
  {
   "cell_type": "code",
   "execution_count": null,
   "metadata": {
    "collapsed": true
   },
   "outputs": [],
   "source": []
  }
 ],
 "metadata": {
  "kernelspec": {
   "display_name": "Python 3",
   "language": "python",
   "name": "python3"
  },
  "language_info": {
   "codemirror_mode": {
    "name": "ipython",
    "version": 3
   },
   "file_extension": ".py",
   "mimetype": "text/x-python",
   "name": "python",
   "nbconvert_exporter": "python",
   "pygments_lexer": "ipython3",
   "version": "3.6.2"
  }
 },
 "nbformat": 4,
 "nbformat_minor": 2
}
