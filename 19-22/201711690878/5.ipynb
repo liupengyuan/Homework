{
 "cells": [
  {
   "cell_type": "code",
   "execution_count": 7,
   "metadata": {},
   "outputs": [
    {
     "name": "stdout",
     "output_type": "stream",
     "text": [
      "6\n",
      "14\n",
      "请输入你想输入的整数个数3\n"
     ]
    },
    {
     "data": {
      "text/plain": [
       "3.2145502536643185"
      ]
     },
     "execution_count": 7,
     "metadata": {},
     "output_type": "execute_result"
    }
   ],
   "source": [
    "def compute_sum(m,n,k):\n",
    "    import random\n",
    "    number=random.randint(m,k)\n",
    "    total=0\n",
    "    i=0\n",
    "    while i<n:\n",
    "        i=i+1\n",
    "        number=random.randint(m,k)\n",
    "        total=total+number\n",
    "        flag=(total/n)**0.5\n",
    "    return flag\n",
    "\n",
    "m=int(input())\n",
    "k=int(input())\n",
    "n=int(input('请输入你想输入的整数个数'))\n",
    "compute_sum(m,n,k)"
   ]
  },
  {
   "cell_type": "code",
   "execution_count": 4,
   "metadata": {},
   "outputs": [
    {
     "name": "stdout",
     "output_type": "stream",
     "text": [
      "5\n",
      "2\n",
      "8\n"
     ]
    },
    {
     "data": {
      "text/plain": [
       "(7.090076835776092, 4.076502483598012)"
      ]
     },
     "execution_count": 4,
     "metadata": {},
     "output_type": "execute_result"
    }
   ],
   "source": [
    "import random\n",
    "import math\n",
    "def compute_sum(m,n,k):\n",
    "    i=0\n",
    "    total_1=0\n",
    "    total_2=0\n",
    "    while i<n:\n",
    "        a=random.randint(m,k)\n",
    "        total_1=total_1+math.log(a)\n",
    "        total_2=total_2+1/math.log(a)\n",
    "        i=i+1\n",
    "    return total_1,total_2\n",
    "\n",
    "n=int(input())\n",
    "m=int(input())\n",
    "k=int(input())\n",
    "compute_sum(m,n,k)   "
   ]
  },
  {
   "cell_type": "code",
   "execution_count": 13,
   "metadata": {},
   "outputs": [
    {
     "name": "stdout",
     "output_type": "stream",
     "text": [
      "3\n"
     ]
    },
    {
     "data": {
      "text/plain": [
       "861"
      ]
     },
     "execution_count": 13,
     "metadata": {},
     "output_type": "execute_result"
    }
   ],
   "source": [
    "import random\n",
    "def compute_sum():\n",
    "    a=random.randint(1,9)\n",
    "    total=0\n",
    "    i=0\n",
    "    while i<n:\n",
    "        i=i+1\n",
    "        total=total+a*10**(n-i)*i\n",
    "    return total\n",
    "\n",
    "n=int(input())\n",
    "compute_sum()\n",
    "    "
   ]
  },
  {
   "cell_type": "code",
   "execution_count": 6,
   "metadata": {},
   "outputs": [
    {
     "name": "stdout",
     "output_type": "stream",
     "text": [
      "请输入一个大于0的整数16\n",
      "25\n",
      "大了\n",
      "14\n",
      "小了\n",
      "25\n",
      "大了\n",
      "13\n",
      "小了，你输了!\n"
     ]
    }
   ],
   "source": [
    "import random\n",
    "import math\n",
    "n = int(input('请输入一个大于0的整数'))\n",
    "max_times=math.ceil(math.log2(n))\n",
    "guess_times=0\n",
    "a=n+10\n",
    "number=random.randint(1,a)\n",
    "while guess_times<max_times:\n",
    "    number=random.randint(1,a)\n",
    "    print(number)\n",
    "    if number==n:\n",
    "        input()\n",
    "    elif number<n:\n",
    "        input()\n",
    "        guess_times += 1\n",
    "    elif number>n:\n",
    "        input()\n",
    "        guess_times += 1\n",
    "        "
   ]
  },
  {
   "cell_type": "code",
   "execution_count": null,
   "metadata": {
    "collapsed": true
   },
   "outputs": [],
   "source": []
  }
 ],
 "metadata": {
  "kernelspec": {
   "display_name": "Python 3",
   "language": "python",
   "name": "python3"
  },
  "language_info": {
   "codemirror_mode": {
    "name": "ipython",
    "version": 3
   },
   "file_extension": ".py",
   "mimetype": "text/x-python",
   "name": "python",
   "nbconvert_exporter": "python",
   "pygments_lexer": "ipython3",
   "version": "3.6.2"
  }
 },
 "nbformat": 4,
 "nbformat_minor": 2
}
