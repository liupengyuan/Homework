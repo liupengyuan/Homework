{
 "cells": [
  {
   "cell_type": "code",
   "execution_count": 9,
   "metadata": {},
   "outputs": [
    {
     "name": "stdout",
     "output_type": "stream",
     "text": [
      "3\n"
     ]
    },
    {
     "data": {
      "text/plain": [
       "10"
      ]
     },
     "execution_count": 9,
     "metadata": {},
     "output_type": "execute_result"
    }
   ],
   "source": [
    "def compute_sum():\n",
    "    total=1\n",
    "    i=0\n",
    "    while i<m:\n",
    "        i+=1\n",
    "        total=total+i+1\n",
    "    return total\n",
    "    \n",
    "m=int(input())\n",
    "compute_sum() "
   ]
  },
  {
   "cell_type": "code",
   "execution_count": 7,
   "metadata": {},
   "outputs": [
    {
     "ename": "SyntaxError",
     "evalue": "invalid syntax (<ipython-input-7-1a739efdfdc3>, line 9)",
     "output_type": "error",
     "traceback": [
      "\u001b[1;36m  File \u001b[1;32m\"<ipython-input-7-1a739efdfdc3>\"\u001b[1;36m, line \u001b[1;32m9\u001b[0m\n\u001b[1;33m    def cs()\u001b[0m\n\u001b[1;37m            ^\u001b[0m\n\u001b[1;31mSyntaxError\u001b[0m\u001b[1;31m:\u001b[0m invalid syntax\n"
     ]
    }
   ],
   "source": [
    "def cs():\n",
    "    i=0\n",
    "    total='*'\n",
    "    while i<5:\n",
    "        total=total+'**'\n",
    "        print(total)\n",
    "        \n",
    "total=input()\n",
    "cs()"
   ]
  },
  {
   "cell_type": "code",
   "execution_count": null,
   "metadata": {
    "collapsed": true
   },
   "outputs": [],
   "source": [
    "def first(number):\n",
    "     \n",
    "    "
   ]
  },
  {
   "cell_type": "code",
   "execution_count": null,
   "metadata": {
    "scrolled": true
   },
   "outputs": [],
   "source": [
    "m=int(input())\n",
    "numbers=[]\n",
    "list=[]\n",
    "i=1\n",
    "total=0\n",
    "while i<=m:\n",
    "    n=int(input())\n",
    "    numbers.append(n) \n",
    "    i+=1\n",
    "    total=total+n\n",
    "a=total/m\n",
    "for n in numbers:\n",
    "    if n>a:\n",
    "        list.append(n)\n",
    "print(a,list)"
   ]
  },
  {
   "cell_type": "code",
   "execution_count": null,
   "metadata": {
    "collapsed": true
   },
   "outputs": [],
   "source": [
    "def number=[]:\n",
    "    list=[]\n",
    "    min_number=number[0]\n",
    "    max_number=number[n]\n",
    "    while i<n:\n",
    "        i=i+1\n",
    "        m=number[i]\n",
    "        if m>max_number:\n",
    "            m=max_number\n",
    "        elif m<min_number:\n",
    "            m=min_number\n",
    "            \n",
    "            \n",
    "            \n",
    "    \n",
    "    "
   ]
  }
 ],
 "metadata": {
  "kernelspec": {
   "display_name": "Python 3",
   "language": "python",
   "name": "python3"
  },
  "language_info": {
   "codemirror_mode": {
    "name": "ipython",
    "version": 3
   },
   "file_extension": ".py",
   "mimetype": "text/x-python",
   "name": "python",
   "nbconvert_exporter": "python",
   "pygments_lexer": "ipython3",
   "version": "3.6.2"
  }
 },
 "nbformat": 4,
 "nbformat_minor": 2
}
