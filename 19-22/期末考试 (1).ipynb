{
 "cells": [
  {
   "cell_type": "code",
   "execution_count": 71,
   "metadata": {},
   "outputs": [
    {
     "ename": "SyntaxError",
     "evalue": "invalid syntax (<ipython-input-71-71eee09ecd4c>, line 9)",
     "output_type": "error",
     "traceback": [
      "\u001b[1;36m  File \u001b[1;32m\"<ipython-input-71-71eee09ecd4c>\"\u001b[1;36m, line \u001b[1;32m9\u001b[0m\n\u001b[1;33m    elif m==0 and n==0:\u001b[0m\n\u001b[1;37m       ^\u001b[0m\n\u001b[1;31mSyntaxError\u001b[0m\u001b[1;31m:\u001b[0m invalid syntax\n"
     ]
    }
   ],
   "source": [
    "#第二题\n",
    "\n",
    "def A(m,n):\n",
    "    m=int(input('请输入m='))\n",
    "    n=int(input('请输入n='))\n",
    "    A(m,n)=0\n",
    "    if m==0 and n!=0:\n",
    "        A(m,n)=n+1\n",
    "        elif m==0 and n==0:\n",
    "            A(m,n)=A(m-1,1)\n",
    "            elif m>0 and n>0:\n",
    "                A(m,n)=A(m-1,A(m,n-1))\n",
    "                else A(m,n)=NOEN\n",
    "    return A(m,n)\n",
    "#主程序\n",
    "print(A(3,4))\n"
   ]
  },
  {
   "cell_type": "code",
   "execution_count": 30,
   "metadata": {},
   "outputs": [
    {
     "ename": "SyntaxError",
     "evalue": "invalid syntax (<ipython-input-30-8e14f5607ee6>, line 18)",
     "output_type": "error",
     "traceback": [
      "\u001b[1;36m  File \u001b[1;32m\"<ipython-input-30-8e14f5607ee6>\"\u001b[1;36m, line \u001b[1;32m18\u001b[0m\n\u001b[1;33m    answer=int(input'请输入答案：')\u001b[0m\n\u001b[1;37m                           ^\u001b[0m\n\u001b[1;31mSyntaxError\u001b[0m\u001b[1;31m:\u001b[0m invalid syntax\n"
     ]
    }
   ],
   "source": [
    "#第三题\n",
    "#(a)\n",
    "import random\n",
    "\n",
    "def abc(n):\n",
    "    a=random.randint(3,26)\n",
    "    b=random.randint(3,26)\n",
    "    n=int(input)\n",
    "    ch= ['+','-','*','/']\n",
    "    chc=random.choice(ch)\n",
    "    for j in range(n):\n",
    "        print('第几',n,'题:',a+chc+b)\n",
    "    return a+chc+b\n",
    "\n",
    "#(b)\n",
    "def abd():\n",
    "    grades=0\n",
    "    answer=int(input'请输入答案：')\n",
    "    if chc='+' or chc='-'and answer==a+chc+b:\n",
    "        grades+=5\n",
    "        elif chc='*' or chc='/' and answer==a+chc+b:\n",
    "            grades+=10\n",
    "            else grades+=0\n",
    "    return grades\n",
    "            \n",
    "def abe(n):\n",
    "    n=int(input('请输入题目个数n='))\n",
    "    a=int(input('请输入第一个数字a'))\n",
    "    b=int(input('请输入第二个数字b'))\n",
    "    choice = int(input('请输入你的选择'))\n",
    "    if choice == 1:\n",
    "        chcb='+'\n",
    "        elif choice == 2:\n",
    "            chcb='-'\n",
    "            elif choice == 3:\n",
    "                chcb='*'\n",
    "                else:\n",
    "                    chcb='/'\n",
    "    grades=0\n",
    "    answer=int(input'请输入答案：')\n",
    "    if chc='+' or chc='-'and answer==a+chc+b:\n",
    "        grades+=5\n",
    "        elif chc='*' or chc='/' and answer==a+chc+b:\n",
    "            grades+=10\n",
    "            else grades+=0\n",
    "    return grades\n",
    "    \n",
    "       \n",
    "abc(15)\n",
    "abd(10)\n",
    "abe(10)"
   ]
  },
  {
   "cell_type": "code",
   "execution_count": 34,
   "metadata": {},
   "outputs": [
    {
     "ename": "NameError",
     "evalue": "name 'filename' is not defined",
     "output_type": "error",
     "traceback": [
      "\u001b[1;31m---------------------------------------------------------------------------\u001b[0m",
      "\u001b[1;31mNameError\u001b[0m                                 Traceback (most recent call last)",
      "\u001b[1;32m<ipython-input-34-aff4ac1f47dd>\u001b[0m in \u001b[0;36m<module>\u001b[1;34m()\u001b[0m\n\u001b[0;32m      1\u001b[0m \u001b[1;31m#第四题\u001b[0m\u001b[1;33m\u001b[0m\u001b[1;33m\u001b[0m\u001b[0m\n\u001b[0;32m      2\u001b[0m \u001b[1;31m#(a)\u001b[0m\u001b[1;33m\u001b[0m\u001b[1;33m\u001b[0m\u001b[0m\n\u001b[1;32m----> 3\u001b[1;33m \u001b[1;32mwith\u001b[0m \u001b[0mopen\u001b[0m \u001b[1;33m(\u001b[0m\u001b[0mfilename\u001b[0m\u001b[1;33m,\u001b[0m \u001b[0mencoding\u001b[0m \u001b[1;33m=\u001b[0m \u001b[1;34m'utf-8'\u001b[0m\u001b[1;33m)\u001b[0m \u001b[1;32mas\u001b[0m \u001b[0mf\u001b[0m\u001b[1;33m:\u001b[0m\u001b[1;33m\u001b[0m\u001b[0m\n\u001b[0m\u001b[0;32m      4\u001b[0m     \u001b[0mtext\u001b[0m \u001b[1;33m=\u001b[0m \u001b[0mf\u001b[0m\u001b[1;33m.\u001b[0m\u001b[0mread\u001b[0m\u001b[1;33m(\u001b[0m\u001b[1;33m)\u001b[0m\u001b[1;33m\u001b[0m\u001b[0m\n\u001b[0;32m      5\u001b[0m     \u001b[0mwords\u001b[0m \u001b[1;33m=\u001b[0m \u001b[1;33m[\u001b[0m\u001b[0mword\u001b[0m\u001b[1;33m.\u001b[0m\u001b[0msplit\u001b[0m\u001b[1;33m(\u001b[0m\u001b[1;34m'/'\u001b[0m\u001b[1;33m)\u001b[0m\u001b[1;33m[\u001b[0m\u001b[1;36m0\u001b[0m\u001b[1;33m]\u001b[0m \u001b[1;32mfor\u001b[0m \u001b[0mword\u001b[0m \u001b[1;32min\u001b[0m \u001b[0mtext\u001b[0m\u001b[1;33m.\u001b[0m\u001b[0msplit\u001b[0m\u001b[1;33m(\u001b[0m\u001b[1;33m)\u001b[0m\u001b[1;33m]\u001b[0m\u001b[1;33m\u001b[0m\u001b[0m\n",
      "\u001b[1;31mNameError\u001b[0m: name 'filename' is not defined"
     ]
    }
   ],
   "source": [
    "#第四题\n",
    "#(a)\n",
    "with open (filename, encoding = 'utf-8') as f:\n",
    "    text = f.read()\n",
    "    words = [word.split('/')[0] for word in text.split()]\n",
    "    for word in words:\n",
    "        item=count_word_number\n",
    "        if item==4:\n",
    "            A.append(word)\n",
    "    print(A)\n",
    "    \n",
    "#(b)\n",
    "with open (r'C:\\temp\\成语大全.txt', 'w') as fw:\n",
    "        text = f.read()\n",
    "        \n",
    "    words = [word.split('/')[0] for word in text.split()]\n",
    "    for word in words:\n",
    "        for item in word_freq_pairs:\n",
    "            if word == item[0]:\n",
    "                item[1] += 1\n",
    "                break\n",
    "        else:\n",
    "            word_freq_pairs.append([word, 1])\n",
    "            \n",
    "    return word_freq_pairs\n",
    "print('频次最高的20个成语依次是：')\n",
    "word_freq_pairs.sort()\n",
    "print(sort[-20],sort[-19],sort[-18],sort[-17],sort[-16],sort[-15],sort[-14],sort[-13],sort[-12],sort[-11],sort[-10],sort[-9],sort[-8],sort[-7],sort[-6],sort[-5],sort[-4],sort[-3],sort[-2],sort[-1])\n",
    "\n",
    "#(c)\n"
   ]
  },
  {
   "cell_type": "code",
   "execution_count": 69,
   "metadata": {},
   "outputs": [
    {
     "name": "stdout",
     "output_type": "stream",
     "text": [
      "请输入字符串:*\n",
      "请输入行数5\n",
      "            *****\n",
      "          * ****** \n",
      "        * * ****** * \n",
      "      * * * ****** * * \n",
      "    * * * * ****** * * * \n",
      "  * * * * * ****** * * * * \n"
     ]
    }
   ],
   "source": [
    "#第一题\n",
    "chc = input(\"请输入字符串:\")\n",
    "ch = chc+' '\n",
    "nc = int(input(\"请输入行数\"))+1\n",
    "for i in range(nc):\n",
    "    print((nc-i)*'  '+ ch*i + chc*5 +  ch*i)"
   ]
  },
  {
   "cell_type": "code",
   "execution_count": null,
   "metadata": {
    "collapsed": true
   },
   "outputs": [],
   "source": []
  }
 ],
 "metadata": {
  "kernelspec": {
   "display_name": "Python 3",
   "language": "python",
   "name": "python3"
  },
  "language_info": {
   "codemirror_mode": {
    "name": "ipython",
    "version": 3
   },
   "file_extension": ".py",
   "mimetype": "text/x-python",
   "name": "python",
   "nbconvert_exporter": "python",
   "pygments_lexer": "ipython3",
   "version": "3.6.3"
  }
 },
 "nbformat": 4,
 "nbformat_minor": 2
}
