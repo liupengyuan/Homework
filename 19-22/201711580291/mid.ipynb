{
 "cells": [
  {
   "cell_type": "code",
   "execution_count": 4,
   "metadata": {},
   "outputs": [
    {
     "name": "stdout",
     "output_type": "stream",
     "text": [
      "请输入所求和的项数5\n"
     ]
    },
    {
     "data": {
      "text/plain": [
       "35"
      ]
     },
     "execution_count": 4,
     "metadata": {},
     "output_type": "execute_result"
    }
   ],
   "source": [
    "#1\n",
    "def lwl():\n",
    "    i=1\n",
    "    total=1\n",
    "    n=1\n",
    "    m=int(input(\"请输入所求和的项数\"))\n",
    "    while i<m:\n",
    "        i+=1\n",
    "        n=n+i\n",
    "        total=total+n\n",
    "    return total\n",
    "lwl()\n",
    "        \n",
    "        \n",
    "        "
   ]
  },
  {
   "cell_type": "code",
   "execution_count": 18,
   "metadata": {},
   "outputs": [
    {
     "name": "stdout",
     "output_type": "stream",
     "text": [
      "请给出您要打印的符号*\n",
      "\n",
      "*\n",
      "**\n",
      "***\n",
      "****\n",
      "*****\n",
      "******\n",
      "*******\n",
      "********\n",
      "*********\n",
      "**********\n",
      "***********\n"
     ]
    }
   ],
   "source": [
    "#2\n",
    "m=input(\"请给出您要打印的符号\")\n",
    "\n",
    "line = '******'\n",
    "for i in range(1,len(line)*2+1):\n",
    "    for j in range(1,i):\n",
    "        print(line[0],end='')\n",
    "    print()\n"
   ]
  },
  {
   "cell_type": "code",
   "execution_count": null,
   "metadata": {
    "collapsed": true
   },
   "outputs": [],
   "source": [
    "#3\n",
    "def lwl():\n",
    "    import random\n",
    "    m=random.randint()\n",
    "    "
   ]
  },
  {
   "cell_type": "code",
   "execution_count": 22,
   "metadata": {},
   "outputs": [
    {
     "name": "stdout",
     "output_type": "stream",
     "text": [
      "181.11111111111111\n",
      "183\n",
      "185\n",
      "183\n",
      "187\n",
      "190\n"
     ]
    }
   ],
   "source": [
    "#4\n",
    "numbers=[183,185,183,187,178,175,177,190,172]\n",
    "def lwl():\n",
    "    i=0\n",
    "    m=len(numbers)\n",
    "    total=0\n",
    "    for j in numbers:\n",
    "        while i<m:\n",
    "            total=total+numbers[i]\n",
    "            i+=1\n",
    "    total=total/m\n",
    "    print(total)\n",
    "        \n",
    "        \n",
    "        \n",
    "    for k in numbers:\n",
    "        if k>total:\n",
    "            print(k)\n",
    "lwl()     \n",
    "      \n",
    "    \n",
    "            \n",
    "        \n",
    "        "
   ]
  },
  {
   "cell_type": "code",
   "execution_count": 19,
   "metadata": {},
   "outputs": [
    {
     "name": "stdout",
     "output_type": "stream",
     "text": [
      "8\n",
      "2\n",
      "请输入你的答案10\n",
      "20\n",
      "4\n",
      "2\n",
      "请输入你的答案6\n",
      "20\n",
      "0\n",
      "6\n",
      "请输入你的答案6\n",
      "20\n",
      "8\n",
      "10\n",
      "请输入你的答案18\n",
      "20\n",
      "10\n",
      "10\n",
      "请输入你的答案20\n",
      "20\n",
      "10\n",
      "6\n",
      "请输入你的答案16\n",
      "20\n"
     ]
    }
   ],
   "source": [
    "#5\n",
    "i=20\n",
    "j=0\n",
    "total=0\n",
    "import random\n",
    "m=random.randint(0,10)\n",
    "print(m)\n",
    "n=random.randint(0,10)\n",
    "print(n)\n",
    "a=int(input(\"请输入你的答案\"))\n",
    "b=m+n\n",
    "if a==b:\n",
    "    total=i\n",
    "    print(total)\n",
    "else:\n",
    "    total=j\n",
    "    print(total)\n",
    "print(total)\n",
    "\n",
    "    \n",
    "m=random.randint(0,10)\n",
    "print(m)\n",
    "n=random.randint(0,10)\n",
    "print(n)\n",
    "a=int(input(\"请输入你的答案\"))\n",
    "b=m+n\n",
    "if a==b:\n",
    "    total=i\n",
    "    print(total)\n",
    "else:\n",
    "    total=j\n",
    "    print(total)\n",
    "print(total)\n",
    "    \n",
    "m=random.randint(0,10)\n",
    "print(m)\n",
    "n=random.randint(0,10)\n",
    "print(n)\n",
    "a=int(input(\"请输入你的答案\"))\n",
    "b=m+n\n",
    "if a==b:\n",
    "    total=i\n",
    "    print(total)\n",
    "else:\n",
    "    total=j\n",
    "    print(total)\n",
    "print(total)\n",
    "    \n",
    "    \n",
    "m=random.randint(0,10)\n",
    "print(m)\n",
    "n=random.randint(0,10)\n",
    "print(n)\n",
    "a=int(input(\"请输入你的答案\"))\n",
    "b=m+n\n",
    "if a==b:\n",
    "    total=i\n",
    "    print(total)\n",
    "else:\n",
    "    total=j\n",
    "    print(total)\n",
    "print(total)\n",
    "    \n",
    "    \n",
    "m=random.randint(0,10)\n",
    "print(m)\n",
    "n=random.randint(0,10)\n",
    "print(n)\n",
    "a=int(input(\"请输入你的答案\"))\n",
    "b=m+n\n",
    "if a==b:\n",
    "    total=i\n",
    "    print(total)\n",
    "else:\n",
    "    total=j\n",
    "    print(total)\n",
    "print(total)\n",
    "          \n",
    "m=random.randint(0,10)\n",
    "print(m)\n",
    "n=random.randint(0,10)\n",
    "print(n)\n",
    "a=int(input(\"请输入你的答案\"))\n",
    "b=m+n\n",
    "if a==b:\n",
    "    total=i\n",
    "    print(total)\n",
    "else:\n",
    "    total=j\n",
    "    print(total)\n",
    "print(total)\n",
    "\n",
    "   \n",
    "print"
   ]
  },
  {
   "cell_type": "code",
   "execution_count": null,
   "metadata": {
    "collapsed": true
   },
   "outputs": [],
   "source": [
    "#6\n",
    "numbers=[3,-5,9,108,34,-76,88]\n",
    "i=0\n",
    "max_num=numbers[0]\n",
    "min_num=numbers[0]\n",
    "\n",
    "for j in numbers:\n",
    "    if max_num<j:\n",
    "        max_num=j\n",
    "    else:\n",
    "        min_num=j\n",
    "    for m in numbers:\n",
    "\n",
    "        "
   ]
  }
 ],
 "metadata": {
  "kernelspec": {
   "display_name": "Python 3",
   "language": "python",
   "name": "python3"
  },
  "language_info": {
   "codemirror_mode": {
    "name": "ipython",
    "version": 3
   },
   "file_extension": ".py",
   "mimetype": "text/x-python",
   "name": "python",
   "nbconvert_exporter": "python",
   "pygments_lexer": "ipython3",
   "version": "3.6.2"
  }
 },
 "nbformat": 4,
 "nbformat_minor": 2
}
