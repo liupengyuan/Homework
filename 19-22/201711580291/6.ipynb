{
 "cells": [
  {
   "cell_type": "code",
   "execution_count": null,
   "metadata": {
    "collapsed": true
   },
   "outputs": [],
   "source": [
    "#写函数，返回某个元素/对象在一个list中的位置，如果不在，则返回-1."
   ]
  },
  {
   "cell_type": "code",
   "execution_count": 19,
   "metadata": {},
   "outputs": [
    {
     "name": "stdout",
     "output_type": "stream",
     "text": [
      "请输入一个元素2\n",
      "6\n"
     ]
    }
   ],
   "source": [
    "numbers = [5,6,9,7,3,1,2]\n",
    "m=int(input(\"请输入一个元素\"))\n",
    "def lwl():\n",
    "    i=-1\n",
    "    if m in numbers:\n",
    "        n=numbers.index(m)\n",
    "        print(n)\n",
    "    else:\n",
    "        print(i)\n",
    "lwl()\n"
   ]
  },
  {
   "cell_type": "code",
   "execution_count": null,
   "metadata": {
    "collapsed": true
   },
   "outputs": [],
   "source": [
    "#写函数，可将两个相同长度的list，间隔插入，生成新的list。例如：给两个list，a=[1,2,3,4], b=[5,6,7,8]。则可以生成：[1,5,2,6,3,7,4,8]。"
   ]
  },
  {
   "cell_type": "code",
   "execution_count": 21,
   "metadata": {},
   "outputs": [
    {
     "name": "stdout",
     "output_type": "stream",
     "text": [
      "[1, 5, 2, 6, 3, 7, 4, 8]\n"
     ]
    }
   ],
   "source": [
    "numbers=[1,2,3,4]\n",
    "amounts=[5,6,7,8]\n",
    "both=[]\n",
    "def lwl():\n",
    "    i=0\n",
    "    n=4\n",
    "    for j in numbers:\n",
    "        for k in amounts:\n",
    "            while i<n:\n",
    "                both.append(numbers[i])\n",
    "                both.append(amounts[i])\n",
    "                i+=1\n",
    "    print(both)\n",
    "lwl()\n",
    "                \n",
    "            "
   ]
  },
  {
   "cell_type": "code",
   "execution_count": null,
   "metadata": {
    "collapsed": true
   },
   "outputs": [],
   "source": [
    "#写函数，可求两个向量的夹角余弦值，向量可放在list中。主程序调用该函数。"
   ]
  },
  {
   "cell_type": "code",
   "execution_count": 12,
   "metadata": {},
   "outputs": [
    {
     "name": "stdout",
     "output_type": "stream",
     "text": [
      "请输入您要输入的第一个点的横坐标3\n",
      "请输入您要输入的第一个点的纵坐标4\n",
      "请输入您要输入的第二个点的横坐标6\n",
      "请输入您要输入的第二个点的纵坐标8\n",
      "1.0\n"
     ]
    }
   ],
   "source": [
    "\n",
    "a=int(input('请输入您要输入的第一个点的横坐标'))\n",
    "b=int(input('请输入您要输入的第一个点的纵坐标'))\n",
    "c=int(input('请输入您要输入的第二个点的横坐标'))\n",
    "d=int(input('请输入您要输入的第二个点的纵坐标'))\n",
    "num=[a,b]\n",
    "amo=[c,d]\n",
    "def lwl():\n",
    "\n",
    "    m=a*c+b*d\n",
    "    n=((a**2+b**2)**(1/2))*((c**2+d**2)**(1/2))\n",
    "    print(m/n)\n",
    "\n",
    "\n",
    "lwl()"
   ]
  },
  {
   "cell_type": "code",
   "execution_count": null,
   "metadata": {
    "collapsed": true
   },
   "outputs": [],
   "source": [
    "#挑战性习题：python语言老师自费买了100个完全相同的Macbook Pro，分给三个班级，每个班级至少分5个，用穷举法计算共有多少种分法？"
   ]
  },
  {
   "cell_type": "code",
   "execution_count": 16,
   "metadata": {},
   "outputs": [
    {
     "name": "stdout",
     "output_type": "stream",
     "text": [
      "老师买了多少平板100\n",
      "这些平板要分给几个班级3\n",
      "每个班级至少分几个5\n",
      "3741\n"
     ]
    }
   ],
   "source": [
    "m=int(input('老师买了多少平板'))\n",
    "n=int(input('这些平板要分给几个班级'))\n",
    "i=int(input('每个班级至少分几个'))\n",
    "def lwl():\n",
    "    a=0\n",
    "    for j in range(i,m-(n-1)*i+1):\n",
    "        for k in range(i,m-(n-1)*i+1):\n",
    "            for b in range(i,m-(n-1)*i+1):\n",
    "                s=j+k+b\n",
    "                if s==m:\n",
    "                    a+=1\n",
    "    print(a) \n",
    "lwl()\n",
    "        \n",
    "        \n",
    "    \n"
   ]
  },
  {
   "cell_type": "code",
   "execution_count": null,
   "metadata": {
    "collapsed": true
   },
   "outputs": [],
   "source": []
  }
 ],
 "metadata": {
  "kernelspec": {
   "display_name": "Python 3",
   "language": "python",
   "name": "python3"
  },
  "language_info": {
   "codemirror_mode": {
    "name": "ipython",
    "version": 3
   },
   "file_extension": ".py",
   "mimetype": "text/x-python",
   "name": "python",
   "nbconvert_exporter": "python",
   "pygments_lexer": "ipython3",
   "version": "3.6.2"
  }
 },
 "nbformat": 4,
 "nbformat_minor": 2
}
