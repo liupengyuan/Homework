{
 "cells": [
  {
   "cell_type": "code",
   "execution_count": 1,
   "metadata": {},
   "outputs": [
    {
     "name": "stdout",
     "output_type": "stream",
     "text": [
      "请输入第一个整数8\n",
      "请输入第二个整数6\n",
      "请输入第三个整数3\n",
      "41046\n"
     ]
    }
   ],
   "source": [
    "m=int(input(\"请输入第一个整数\"))\n",
    "i=0\n",
    "total_m=1\n",
    "while i<m:\n",
    "    i=i+1\n",
    "    total_m=total_m*i\n",
    "    \n",
    "n=int(input(\"请输入第二个整数\"))\n",
    "i=0\n",
    "total_n=1\n",
    "while i<n:\n",
    "    i=i+1\n",
    "    total_n=total_n*i\n",
    "    \n",
    "k=int(input(\"请输入第三个整数\"))\n",
    "i=0\n",
    "total_k=1\n",
    "while i<k:\n",
    "    i=i+1\n",
    "    total_k=total_k*i\n",
    "    \n",
    "print(total_m + total_n + total_k)"
   ]
  },
  {
   "cell_type": "code",
   "execution_count": 2,
   "metadata": {},
   "outputs": [
    {
     "name": "stdout",
     "output_type": "stream",
     "text": [
      "3.1396006236934557\n",
      "3.1415726543897637\n"
     ]
    }
   ],
   "source": [
    "def my_sum(m):\n",
    "    i=1\n",
    "    total_m=1\n",
    "    \n",
    "    while i<m:\n",
    "        i=i+4\n",
    "        total_m=total_m+(1/i)\n",
    "    return total_m\n",
    "\n",
    "def your_sum(n):\n",
    "    i=3\n",
    "    total_n=1/3\n",
    "    \n",
    "    while i<n:\n",
    "        i=i+4\n",
    "        total_n=total_n+(1/i)\n",
    "    return total_n\n",
    "print(my_sum(1000)*4 - your_sum(1000)*4)\n",
    "print(my_sum(100000)*4 - your_sum(100000)*4)"
   ]
  },
  {
   "cell_type": "code",
   "execution_count": 2,
   "metadata": {},
   "outputs": [
    {
     "name": "stdout",
     "output_type": "stream",
     "text": [
      "月份1116\n",
      "你好，天蝎座\n"
     ]
    }
   ],
   "source": [
    "def star(m):\n",
    "\n",
    "    if 321<= n <=419: \n",
    "        m=(\"你好，白羊座\")\n",
    "    elif 420<= n <=520:\n",
    "        m=(\"你好，金牛座\")\n",
    "    elif 521<= n <=621:\n",
    "        m=(\"你好，双子座\")\n",
    "    elif 622<= n <=722:\n",
    "        m=(\"你好，巨蟹座\")\n",
    "    elif 723<= n <=822:\n",
    "        m=(\"你好，狮子座\")\n",
    "    elif 823<= n <=922:\n",
    "        m=(\"你好，处女座\")\n",
    "    elif 923<= n <=1023:\n",
    "        m=(\"你好，天秤座\")\n",
    "    elif 1024<= n <=1122:\n",
    "        m=(\"你好，天蝎座\")\n",
    "    elif 1123<= n <=1222:\n",
    "        m=(\"你好，射手座\")\n",
    "    elif 120<= n <=218:\n",
    "        m=(\"你好，水瓶座\")\n",
    "    elif 219<= n <=320:\n",
    "        m=(\"你好，双鱼座\")\n",
    "    elif 1223<= n <=1249:\n",
    "        m=(\"你好，摩羯座\")\n",
    "    else:\n",
    "        m=(\"输入无效\")\n",
    "\n",
    "    return m\n",
    "n=int(input(\"月份\"))\n",
    "print(star(1116))"
   ]
  },
  {
   "cell_type": "code",
   "execution_count": 1,
   "metadata": {},
   "outputs": [
    {
     "name": "stdout",
     "output_type": "stream",
     "text": [
      "请输入一个单词watch\n",
      "watches\n"
     ]
    }
   ],
   "source": [
    "def word(m):\n",
    "\n",
    "    if m.endswith('sh')or('ch')or('x')or('o')or('s'):\n",
    "        n=(m+'es')\n",
    "    elif m.endswith('f'):\n",
    "        a=m.replace('f','ves')\n",
    "        n=(a)\n",
    "    elif m.endswith('fe'):\n",
    "        b=m.replace('fe','ves')\n",
    "        n=(b)\n",
    "    else:\n",
    "        n=(m+'s')\n",
    "        \n",
    "    return n\n",
    "m=input(\"请输入一个单词\")   \n",
    "\n",
    "print(word(m))  "
   ]
  },
  {
   "cell_type": "code",
   "execution_count": 4,
   "metadata": {},
   "outputs": [
    {
     "name": "stdout",
     "output_type": "stream",
     "text": [
      "1\n",
      "5\n",
      "2\n",
      "4\n"
     ]
    }
   ],
   "source": [
    "def gg():\n",
    "    i=m\n",
    "    total=m\n",
    "    \n",
    "    while i<n:\n",
    "        i=i+k\n",
    "        total=total+i\n",
    "        \n",
    "        return total\n",
    "m=int(input())\n",
    "n=int(input())\n",
    "k=int(input())\n",
    "print(gg())"
   ]
  },
  {
   "cell_type": "code",
   "execution_count": null,
   "metadata": {
    "collapsed": true
   },
   "outputs": [],
   "source": []
  }
 ],
 "metadata": {
  "kernelspec": {
   "display_name": "Python 3",
   "language": "python",
   "name": "python3"
  },
  "language_info": {
   "codemirror_mode": {
    "name": "ipython",
    "version": 3
   },
   "file_extension": ".py",
   "mimetype": "text/x-python",
   "name": "python",
   "nbconvert_exporter": "python",
   "pygments_lexer": "ipython3",
   "version": "3.6.2"
  }
 },
 "nbformat": 4,
 "nbformat_minor": 2
}
