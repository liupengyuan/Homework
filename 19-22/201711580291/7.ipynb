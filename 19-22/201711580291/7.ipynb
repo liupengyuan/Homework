{
 "cells": [
  {
   "cell_type": "code",
   "execution_count": 1,
   "metadata": {},
   "outputs": [
    {
     "name": "stdout",
     "output_type": "stream",
     "text": [
      "[5, 4, 3, 2, 1]\n"
     ]
    }
   ],
   "source": [
    "#练习一：自己定义一个reverse(s)函数，功能返回字符串s的倒序字符串。\n",
    "list = [1,2,3,4,5]\n",
    "list.reverse();\n",
    "print(list)\n"
   ]
  },
  {
   "cell_type": "code",
   "execution_count": 1,
   "metadata": {},
   "outputs": [
    {
     "name": "stdout",
     "output_type": "stream",
     "text": [
      "请输入一个数字，1代表*，2代表￥1\n",
      "请输入你要打印的行数4\n",
      "*\n",
      "**\n",
      "***\n",
      "****\n",
      "------------------------------\n",
      "请输入一个数字，1代表*，2代表￥2\n",
      "请输入你要打印的行数4\n",
      "    $\n",
      "   $$$\n",
      "  $$$$$\n",
      " $$$$$$$\n",
      "------------------------------\n",
      "请输入一个数字，1代表*，2代表￥1\n",
      "请输入你要打印的行数3\n",
      " *****\n",
      "  ***\n",
      "   *\n"
     ]
    }
   ],
   "source": [
    "#练习二：写函数，根据给定符号和行数，打印相应直角三角形，等腰三角形及其他形式的三角形。\n",
    "a=int(input(\"请输入一个数字，1代表*，2代表￥\"))\n",
    "m=int(input(\"请输入你要打印的行数\"))\n",
    "def lwl(m):\n",
    "    for i in range(1,m+1):\n",
    "        if a==1:\n",
    "            print('*'*i)\n",
    "        elif a==2:\n",
    "            print('$'*i)\n",
    "lwl(m)            \n",
    "print('-'*30)\n",
    "a=int(input(\"请输入一个数字，1代表*，2代表￥\"))\n",
    "m=int(input(\"请输入你要打印的行数\"))\n",
    "def lwl(m):\n",
    "    if a==1:\n",
    "        for i in range(m):\n",
    "            print(' '*(m-i)+'*'*(2*i+1))\n",
    "    elif a==2:\n",
    "        for i in range(m):\n",
    "            print(' '*(m-i)+'$'*(2*i+1))\n",
    "lwl(m)            \n",
    "print('-'*30)\n",
    "a=int(input(\"请输入一个数字，1代表*，2代表￥\"))\n",
    "m=int(input(\"请输入你要打印的行数\"))\n",
    "def lwl(m):\n",
    "    if a==1:\n",
    "        for i in range(m):\n",
    "            print(' '*(i+1)+'*'*(2*(m-i-1)+1))\n",
    "    elif a==2: \n",
    "        for i in range(m):\n",
    "            print(' '*(i+1)+'$'*(2*(m-i-1)+1))\n",
    "lwl(m)  \n",
    "    \n",
    "    \n"
   ]
  },
  {
   "cell_type": "code",
   "execution_count": 1,
   "metadata": {},
   "outputs": [
    {
     "name": "stdout",
     "output_type": "stream",
     "text": [
      "请输入一个数字，1代表*，2代表￥2\n",
      "请输入你要打印的半个菱形行数4\n",
      "    $\n",
      "   $$$\n",
      "  $$$$$\n",
      " $$$$$$$\n",
      "  $$$$$\n",
      "   $$$\n",
      "    $\n"
     ]
    }
   ],
   "source": [
    "#练习五：写函数，根据给定符号，打印各种菱形。\n",
    "a=int(input(\"请输入一个数字，1代表*，2代表￥\"))\n",
    "m=int(input(\"请输入你要打印的半个菱形行数\"))\n",
    "def rhombus(m):\n",
    "\n",
    "    if a==1:\n",
    "        for i in range(m):\n",
    "            print(' '*(m-i)+'*'*(2*i+1))\n",
    "        for i in range(m):\n",
    "            if i==0:\n",
    "                continue\n",
    "            print(' '*(i+1)+'*'*(2*(m-i-1)+1))\n",
    "    elif a==2:\n",
    "        for i in range(m):\n",
    "            print(' '*(m-i)+'$'*(2*i+1))\n",
    "        for i in range(m):\n",
    "            if i==0:\n",
    "                continue\n",
    "            print(' '*(i+1)+'$'*(2*(m-i-1)+1))\n",
    "        \n",
    "\n",
    "  \n",
    "        \n",
    "rhombus(m)"
   ]
  },
  {
   "cell_type": "code",
   "execution_count": null,
   "metadata": {
    "collapsed": true
   },
   "outputs": [],
   "source": []
  }
 ],
 "metadata": {
  "kernelspec": {
   "display_name": "Python 3",
   "language": "python",
   "name": "python3"
  },
  "language_info": {
   "codemirror_mode": {
    "name": "ipython",
    "version": 3
   },
   "file_extension": ".py",
   "mimetype": "text/x-python",
   "name": "python",
   "nbconvert_exporter": "python",
   "pygments_lexer": "ipython3",
   "version": "3.6.2"
  }
 },
 "nbformat": 4,
 "nbformat_minor": 2
}
