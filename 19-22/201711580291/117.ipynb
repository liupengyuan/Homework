{
 "cells": [
  {
   "cell_type": "code",
   "execution_count": 2,
   "metadata": {},
   "outputs": [
    {
     "name": "stdout",
     "output_type": "stream",
     "text": [
      "请输入您要输入的整数个数5\n",
      "请输入你要输入的整数下界10\n",
      "请输入您要输入的整数上界500\n",
      "28.0\n"
     ]
    }
   ],
   "source": [
    "import random\n",
    "def gg():\n",
    "    m=int(input(\"请输入您要输入的整数个数\"))\n",
    "    n=int(input(\"请输入你要输入的整数下界\"))\n",
    "    k=int(input(\"请输入您要输入的整数上界\"))\n",
    "    \n",
    "    i=1\n",
    "    total=0\n",
    "    while i<m:\n",
    "        import random\n",
    "        num=random.randint(n,k)\n",
    "        i+=1\n",
    "        total=total+num\n",
    "        \n",
    "        a=total**(1/2)\n",
    "    print(a)   \n",
    "gg()    \n",
    "    "
   ]
  },
  {
   "cell_type": "code",
   "execution_count": null,
   "metadata": {
    "collapsed": true
   },
   "outputs": [],
   "source": []
  }
 ],
 "metadata": {
  "kernelspec": {
   "display_name": "Python 3",
   "language": "python",
   "name": "python3"
  },
  "language_info": {
   "codemirror_mode": {
    "name": "ipython",
    "version": 3
   },
   "file_extension": ".py",
   "mimetype": "text/x-python",
   "name": "python",
   "nbconvert_exporter": "python",
   "pygments_lexer": "ipython3",
   "version": "3.6.2"
  }
 },
 "nbformat": 4,
 "nbformat_minor": 2
}
