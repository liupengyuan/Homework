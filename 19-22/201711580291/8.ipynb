{
 "cells": [
  {
   "cell_type": "code",
   "execution_count": 2,
   "metadata": {},
   "outputs": [
    {
     "name": "stdout",
     "output_type": "stream",
     "text": [
      "川流不息\n",
      "请输入你要接的成语:息事宁人\n",
      "人来人往\n",
      "请输入你要接的成语:往返徒劳\n",
      "游戏结束\n"
     ]
    }
   ],
   "source": [
    "def lwl(n):\n",
    "    with open(r'c:\\temp\\idioms1.txt') as m:\n",
    "        for i in set(m.readlines()):\n",
    "            if n==i.strip():\n",
    "                return True\n",
    "            return False\n",
    "fh = open(r'c:\\temp\\idioms1.txt')\n",
    "text = fh.read()\n",
    "text=text.replace('、','')\n",
    "text=text.split()\n",
    "\n",
    "import random\n",
    "idiom1=random.choice(text)\n",
    "def idiom():\n",
    "   \n",
    "    idiom1=random.choice(text)\n",
    "    print(idiom1)\n",
    "    a=str(input('请输入你要接的成语:'))\n",
    "    if idiom1[-1]==a[0]:\n",
    "        for idiom in text:\n",
    "            if idiom[0]==a[-1]:\n",
    "                print(idiom)\n",
    "                a=str(input('请输入你要接的成语:'))\n",
    "        if lwl(a)==False :\n",
    "            print('游戏结束')\n",
    "                \n",
    "         \n",
    "    else:\n",
    "        print('游戏结束')\n",
    "         \n",
    "idiom()\n",
    "        \n"
   ]
  },
  {
   "cell_type": "code",
   "execution_count": null,
   "metadata": {
    "collapsed": true
   },
   "outputs": [],
   "source": []
  }
 ],
 "metadata": {
  "kernelspec": {
   "display_name": "Python 3",
   "language": "python",
   "name": "python3"
  },
  "language_info": {
   "codemirror_mode": {
    "name": "ipython",
    "version": 3
   },
   "file_extension": ".py",
   "mimetype": "text/x-python",
   "name": "python",
   "nbconvert_exporter": "python",
   "pygments_lexer": "ipython3",
   "version": "3.6.2"
  }
 },
 "nbformat": 4,
 "nbformat_minor": 2
}
