{
 "cells": [
  {
   "cell_type": "code",
   "execution_count": null,
   "metadata": {
    "collapsed": true
   },
   "outputs": [],
   "source": [
    "#写函数，求n个随机整数均值的平方根，整数范围在m与k之间（n,m,k由用户输入）。"
   ]
  },
  {
   "cell_type": "code",
   "execution_count": 1,
   "metadata": {},
   "outputs": [
    {
     "name": "stdout",
     "output_type": "stream",
     "text": [
      "请输入您要输入的整数个数3\n",
      "请输入你要输入的整数下界6\n",
      "请输入您要输入的整数上界15\n",
      "2.8284271247461903\n"
     ]
    }
   ],
   "source": [
    "import random\n",
    "def gg():\n",
    "    n=int(input(\"请输入您要输入的整数个数\"))\n",
    "    m=int(input(\"请输入你要输入的整数下界\"))\n",
    "    k=int(input(\"请输入您要输入的整数上界\"))\n",
    "    \n",
    "    i=1\n",
    "    total=0\n",
    "    while i<n:\n",
    "        import random\n",
    "        num=random.randint(m,k)\n",
    "        i+=1\n",
    "        total=total+num\n",
    "        \n",
    "        a=(total/n)**(1/2)\n",
    "    print(a)   \n",
    "gg()    "
   ]
  },
  {
   "cell_type": "code",
   "execution_count": null,
   "metadata": {
    "collapsed": true
   },
   "outputs": [],
   "source": [
    "#写函数，共n个随机整数，整数范围在m与k之间，（n,m,k由用户输入）。求1：西格玛log(随机整数)，2：西格玛1/log(随机整数)"
   ]
  },
  {
   "cell_type": "code",
   "execution_count": 1,
   "metadata": {},
   "outputs": [
    {
     "name": "stdout",
     "output_type": "stream",
     "text": [
      "请输入您要输入的整数个数2\n",
      "请输入你要输入的整数下界3\n",
      "请输入您要输入的整数上界8\n",
      "1.9459101490553132\n",
      "0.5138983423697507\n"
     ]
    }
   ],
   "source": [
    "import math\n",
    "math.e\n",
    "def gg():\n",
    "    n=int(input(\"请输入您要输入的整数个数\"))\n",
    "    m=int(input(\"请输入你要输入的整数下界\"))\n",
    "    k=int(input(\"请输入您要输入的整数上界\"))\n",
    "    \n",
    "    i=1\n",
    "    a=0\n",
    "    b=0\n",
    "    while i<n:\n",
    "        import random\n",
    "        num=random.randint(m,k)\n",
    "        i+=1\n",
    "        a=a+math.log(num)\n",
    "        b=b+1/(math.log(num))\n",
    "    print(a)\n",
    "    print(b)\n",
    "gg()"
   ]
  },
  {
   "cell_type": "code",
   "execution_count": null,
   "metadata": {
    "collapsed": true
   },
   "outputs": [],
   "source": [
    "#写函数，求s=a+aa+aaa+aaaa+aa...a的值，其中a是[1,9]之间的随机整数。例如2+22+222+2222+22222(此时共有5个数相加)，几个数相加由键盘输入。"
   ]
  },
  {
   "cell_type": "code",
   "execution_count": 21,
   "metadata": {},
   "outputs": [
    {
     "name": "stdout",
     "output_type": "stream",
     "text": [
      "请输入您要输入的整数个数4\n",
      "3702\n"
     ]
    }
   ],
   "source": [
    "def sum():\n",
    "    n=int(input(\"请输入您要输入的整数个数\"))\n",
    "    import random\n",
    "    a=random.randint(0,10)\n",
    "    i=0\n",
    "    total=0\n",
    "    b=a\n",
    "    while i<n:\n",
    "        \n",
    "        total=total+a\n",
    "        i+=1\n",
    "        a=a+b*10**i\n",
    "      \n",
    "        \n",
    "    print(total)    \n",
    "\n",
    "sum()   "
   ]
  },
  {
   "cell_type": "code",
   "execution_count": null,
   "metadata": {
    "collapsed": true
   },
   "outputs": [],
   "source": [
    "#仿照task5，将猜数游戏改成由用户随便选择一个整数，让计算机来猜测的猜数游戏，要求和task5中人猜测的方法类似，但是人机角色对换，由人来判断猜测是大、小还是相等，请写出完整的猜数游戏。"
   ]
  },
  {
   "cell_type": "code",
   "execution_count": 1,
   "metadata": {},
   "outputs": [
    {
     "name": "stdout",
     "output_type": "stream",
     "text": [
      "请输入一个神秘整数10\n",
      "一共可以猜 7 次\n",
      "你已经猜了 1 次\n",
      "抱歉，你猜大了\n",
      "一共可以猜 7 次\n",
      "你已经猜了 2 次\n",
      "抱歉，你猜小了\n",
      "一共可以猜 7 次\n",
      "你已经猜了 3 次\n",
      "抱歉，你猜大了\n",
      "一共可以猜 7 次\n",
      "你已经猜了 4 次\n",
      "抱歉，你猜大了\n",
      "一共可以猜 7 次\n",
      "你已经猜了 5 次\n",
      "抱歉，你猜大了\n",
      "一共可以猜 7 次\n",
      "你已经猜了 6 次\n",
      "抱歉，你猜大了\n",
      "一共可以猜 7 次\n",
      "你已经猜了 7 次\n",
      "抱歉，你猜大了\n",
      "神秘数字是： 10\n",
      "lose!\n"
     ]
    }
   ],
   "source": [
    "import random, math\n",
    "\n",
    "m=int(input(\"请输入一个神秘整数\"))\n",
    "def win():\n",
    "    print(\"win!\")\n",
    "\n",
    "def lose():\n",
    "    print(\"lose!\")\n",
    "\n",
    "    \n",
    "def guess_game():\n",
    "    \n",
    "    n=random.randint(m,m+100)\n",
    "    max_times = math.ceil(math.log2(n))\n",
    "    guess_times = 0\n",
    "    \n",
    "    while guess_times < max_times:\n",
    "        guess = random.randint(1,n)\n",
    "        guess_times += 1\n",
    "        \n",
    "        print('一共可以猜', max_times, '次')\n",
    "        print('你已经猜了', guess_times, '次')\n",
    "        \n",
    "        if guess == m:\n",
    "            win()\n",
    "            print('神秘数字是：', guess)\n",
    "            print('你比标准次数少', max_times-guess_times, '次')\n",
    "            break\n",
    "        elif guess > m:\n",
    "            print('抱歉，你猜大了')\n",
    "            guess = random.randint(1,guess)\n",
    "        else:\n",
    "            print('抱歉，你猜小了')\n",
    "            guess = random.randint(guess,n)\n",
    "    else:\n",
    "        print('神秘数字是：', m)\n",
    "        lose()\n",
    "\n",
    "\n",
    "guess_game()"
   ]
  },
  {
   "cell_type": "code",
   "execution_count": null,
   "metadata": {
    "collapsed": true
   },
   "outputs": [],
   "source": []
  }
 ],
 "metadata": {
  "kernelspec": {
   "display_name": "Python 3",
   "language": "python",
   "name": "python3"
  },
  "language_info": {
   "codemirror_mode": {
    "name": "ipython",
    "version": 3
   },
   "file_extension": ".py",
   "mimetype": "text/x-python",
   "name": "python",
   "nbconvert_exporter": "python",
   "pygments_lexer": "ipython3",
   "version": "3.6.2"
  }
 },
 "nbformat": 4,
 "nbformat_minor": 2
}
