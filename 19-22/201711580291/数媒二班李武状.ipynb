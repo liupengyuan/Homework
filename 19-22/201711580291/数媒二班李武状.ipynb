{
 "cells": [
  {
   "cell_type": "code",
   "execution_count": 5,
   "metadata": {},
   "outputs": [
    {
     "name": "stdout",
     "output_type": "stream",
     "text": [
      "请输入你的名字炎亚纶\n",
      "请输入你的生日1110\n",
      "你好，天蝎座\n"
     ]
    }
   ],
   "source": [
    "name = input(\"请输入你的名字\")\n",
    "n = int(input(\"请输入你的生日\"))\n",
    "\n",
    "if 321<= n <=419: \n",
    "    print(\"你好，白羊座\")\n",
    "elif 420<= n <=520:\n",
    "    print(\"你好，金牛座\")\n",
    "elif 521<= n <=621:\n",
    "    print(\"你好，双子座\")\n",
    "elif 622<= n <=722:\n",
    "    print(\"你好，巨蟹座\")\n",
    "elif 723<= n <=822:\n",
    "    print(\"你好，狮子座\")\n",
    "elif 823<= n <=922:\n",
    "    print(\"你好，处女座\")\n",
    "elif 923<= n <=1023:\n",
    "    print(\"你好，天秤座\")\n",
    "elif 1024<= n <=1122:\n",
    "    print(\"你好，天蝎座\")\n",
    "elif 1123<= n <=1222:\n",
    "    print(\"你好，射手座\")\n",
    "elif 120<= n <=218:\n",
    "    print(\"你好，水瓶座\")\n",
    "elif 219<= n <=320:\n",
    "    print(\"你好，双鱼座\")\n",
    "elif n:\n",
    "    print(\"你好，摩羯座\")\n"
   ]
  },
  {
   "cell_type": "code",
   "execution_count": 1,
   "metadata": {},
   "outputs": [
    {
     "name": "stdout",
     "output_type": "stream",
     "text": [
      "请输入一个英文单词(单数形式)，以回车结束rush\n",
      "rushes\n"
     ]
    }
   ],
   "source": [
    "word=input(\"请输入一个英文单词(单数形式)，以回车结束\")\n",
    "if word.endswith('sh')or('ch')or('x')or('o')or('s'):\n",
    "    print(word+'es')\n",
    "elif word.endswith('f'):\n",
    "    a=word.replace('f','ves')\n",
    "    print(a)\n",
    "elif word.endswith('fe'):\n",
    "    b=word.replace('fe','ves')\n",
    "    print(b)\n",
    "else:\n",
    "    print(word+'s')"
   ]
  },
  {
   "cell_type": "code",
   "execution_count": 4,
   "metadata": {},
   "outputs": [
    {
     "name": "stdout",
     "output_type": "stream",
     "text": [
      "请输入一个整数，以回车结束5\n",
      "请输入一个非零整数，以回车结束5\n",
      "请输入所要进行的运算，1为求和，2为乘积，3为余数，其他则为整除后的值1\n",
      "10\n"
     ]
    }
   ],
   "source": [
    "m=int(input(\"请输入一个整数，以回车结束\"))\n",
    "n=int(input(\"请输入一个非零整数，以回车结束\"))\n",
    "i=int(input(\"请输入所要进行的运算，1为求和，2为乘积，3为余数，其他则为整除后的值\"))\n",
    "total=0\n",
    "product=1\n",
    "if i==1:\n",
    "    total=total+n\n",
    "    print(total+m)\n",
    "elif i==2:\n",
    "    product=product*n\n",
    "    print(product*m)\n",
    "elif i==3:\n",
    "    total=total+m\n",
    "    print(ctotal%n)\n",
    "else:\n",
    "    total=total+m\n",
    "    print(total/n)\n",
    "    "
   ]
  },
  {
   "cell_type": "code",
   "execution_count": 1,
   "metadata": {},
   "outputs": [
    {
     "name": "stdout",
     "output_type": "stream",
     "text": [
      "请输入显示的空行行数，以回车结束2\n",
      "\n",
      "\n",
      "\n"
     ]
    }
   ],
   "source": [
    "a=int(input('请输入显示的空行行数，以回车结束'))\n",
    "print('\\n'*a)"
   ]
  },
  {
   "cell_type": "code",
   "execution_count": null,
   "metadata": {
    "collapsed": true
   },
   "outputs": [],
   "source": []
  }
 ],
 "metadata": {
  "kernelspec": {
   "display_name": "Python 3",
   "language": "python",
   "name": "python3"
  },
  "language_info": {
   "codemirror_mode": {
    "name": "ipython",
    "version": 3
   },
   "file_extension": ".py",
   "mimetype": "text/x-python",
   "name": "python",
   "nbconvert_exporter": "python",
   "pygments_lexer": "ipython3",
   "version": "3.6.2"
  }
 },
 "nbformat": 4,
 "nbformat_minor": 2
}
