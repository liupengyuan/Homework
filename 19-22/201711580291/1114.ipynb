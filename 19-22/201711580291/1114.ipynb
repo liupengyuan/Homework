{
 "cells": [
  {
   "cell_type": "code",
   "execution_count": null,
   "metadata": {
    "collapsed": true
   },
   "outputs": [],
   "source": [
    "#写函数，返回一个list中的最大值，最小值，平均值。（不用内置的求和求函数），以[1,2,-1,55,100,899,-10,3,12.5,5.8]为例。"
   ]
  },
  {
   "cell_type": "code",
   "execution_count": 9,
   "metadata": {},
   "outputs": [
    {
     "name": "stdout",
     "output_type": "stream",
     "text": [
      "这组数的平均值为 106.72999999999999\n",
      "这组数的最大值为 899\n",
      "这组数的最小值为 -10\n"
     ]
    }
   ],
   "source": [
    "numbers=[1,2,-1,55,100,899,-10,3,12.5,5.8]\n",
    "def number():\n",
    "    n=10\n",
    "    \n",
    "    total=0\n",
    "    for k in numbers:\n",
    "        total=total+k\n",
    "    total=total/n\n",
    "    print('这组数的平均值为',total)\n",
    "    \n",
    "    for num in numbers:\n",
    "        max=num\n",
    "        min=num\n",
    "        for nums in numbers:\n",
    "            if nums>max:\n",
    "                max=nums\n",
    "            if nums<min:\n",
    "                min=nums\n",
    "    print('这组数的最大值为',max)\n",
    "    print('这组数的最小值为',min)\n",
    "       \n",
    "number()\n",
    "     \n",
    "                \n",
    "        \n"
   ]
  },
  {
   "cell_type": "code",
   "execution_count": null,
   "metadata": {
    "collapsed": true
   },
   "outputs": [],
   "source": []
  },
  {
   "cell_type": "code",
   "execution_count": null,
   "metadata": {
    "collapsed": true
   },
   "outputs": [],
   "source": []
  }
 ],
 "metadata": {
  "kernelspec": {
   "display_name": "Python 3",
   "language": "python",
   "name": "python3"
  },
  "language_info": {
   "codemirror_mode": {
    "name": "ipython",
    "version": 3
   },
   "file_extension": ".py",
   "mimetype": "text/x-python",
   "name": "python",
   "nbconvert_exporter": "python",
   "pygments_lexer": "ipython3",
   "version": "3.6.2"
  }
 },
 "nbformat": 4,
 "nbformat_minor": 2
}
