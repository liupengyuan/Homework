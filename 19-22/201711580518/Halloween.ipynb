{
 "cells": [
  {
   "cell_type": "code",
   "execution_count": 4,
   "metadata": {
    "collapsed": false
   },
   "outputs": [
    {
     "name": "stdout",
     "output_type": "stream",
     "text": [
      "请输入整数n，以回车结束。2\n",
      "请输入整数m，以回车结束。3\n",
      "9\n"
     ]
    }
   ],
   "source": [
    "def my_sum(end):\n",
    "    i = 0\n",
    "    total_n = 0\n",
    "\n",
    "    while i < end:\n",
    "        i = i + 1\n",
    "        total_n = total_n + i\n",
    "\n",
    "    return total_n\n",
    "\n",
    "def my_mul(end):\n",
    "    i = 0\n",
    "    total_m = 1\n",
    "\n",
    "    while i < end:\n",
    "        i = i + 1\n",
    "        total_m = total_m * i\n",
    "\n",
    "    return total_m\n",
    "\n",
    "n = int(input('请输入整数n，以回车结束。'))\n",
    "m = int(input('请输入整数m，以回车结束。'))\n",
    "if m>n:\n",
    "    print(my_sum(m)+my_sum(n))\n",
    "else:\n",
    "    print(my_mul(m)+my_mul(n))\n",
    "\n",
    "\n"
   ]
  },
  {
   "cell_type": "code",
   "execution_count": null,
   "metadata": {
    "collapsed": true
   },
   "outputs": [],
   "source": []
  }
 ],
 "metadata": {
  "kernelspec": {
   "display_name": "Python 3",
   "language": "python",
   "name": "python3"
  },
  "language_info": {
   "codemirror_mode": {
    "name": "ipython",
    "version": 3
   },
   "file_extension": ".py",
   "mimetype": "text/x-python",
   "name": "python",
   "nbconvert_exporter": "python",
   "pygments_lexer": "ipython3",
   "version": "3.6.0"
  }
 },
 "nbformat": 4,
 "nbformat_minor": 2
}
