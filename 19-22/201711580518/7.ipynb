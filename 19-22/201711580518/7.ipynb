{
 "cells": [
  {
   "cell_type": "code",
   "execution_count": 1,
   "metadata": {},
   "outputs": [],
   "source": [
    "#练习一：自己定义一个reverse(s)函数，功能返回字符串s的倒序字符串。"
   ]
  },
  {
   "cell_type": "code",
   "execution_count": 9,
   "metadata": {},
   "outputs": [
    {
     "data": {
      "text/plain": [
       "['g', 'f', 'e', 'd', 'c', 'b']"
      ]
     },
     "execution_count": 9,
     "metadata": {},
     "output_type": "execute_result"
    }
   ],
   "source": [
    "def www():\n",
    "    line='abcdefg'\n",
    "    number=[]\n",
    "    x=len(line)\n",
    "    a=x-1\n",
    "    for i in range(a,0,-1):\n",
    "        number.append(line[i])    \n",
    "        \n",
    "    return number\n",
    "www()\n",
    "        \n",
    "    "
   ]
  },
  {
   "cell_type": "code",
   "execution_count": null,
   "metadata": {},
   "outputs": [],
   "source": [
    "#练习二：写函数，根据给定符号和行数，打印相应直角三角形，等腰三角形及其他形式的三角形。"
   ]
  },
  {
   "cell_type": "code",
   "execution_count": 13,
   "metadata": {},
   "outputs": [
    {
     "name": "stdout",
     "output_type": "stream",
     "text": [
      "请输入星行数4\n",
      "\n",
      "* \n",
      "* * \n",
      "* * * \n",
      "* * * * \n"
     ]
    }
   ],
   "source": [
    "#直角三角形\n",
    "n=int(input('请输入星行数'))\n",
    "for i in range(n+1):\n",
    "    for j in range(n*2-i,0,-1):\n",
    "        print('', end='')\n",
    "    for k in range(0,i):\n",
    "        print('*',end=' ')\n",
    "    print()"
   ]
  },
  {
   "cell_type": "code",
   "execution_count": 10,
   "metadata": {},
   "outputs": [
    {
     "name": "stdout",
     "output_type": "stream",
     "text": [
      "请输入星行数5\n",
      "          \n",
      "         * \n",
      "        * * \n",
      "       * * * \n",
      "      * * * * \n",
      "     * * * * * \n"
     ]
    }
   ],
   "source": [
    "#等腰三角形\n",
    "n=int(input('请输入星行数'))\n",
    "for i in range(n+1):\n",
    "    for j in range(n*2-i,0,-1):\n",
    "        print(' ', end='')\n",
    "    for k in range(0,i):\n",
    "        print('*',end=' ')\n",
    "    print()"
   ]
  },
  {
   "cell_type": "code",
   "execution_count": 11,
   "metadata": {},
   "outputs": [
    {
     "name": "stdout",
     "output_type": "stream",
     "text": [
      "请输入星行数3\n",
      "      \n",
      "     *   \n",
      "    *   *   \n",
      "   *   *   *   \n"
     ]
    }
   ],
   "source": [
    "#钝角三角形\n",
    "n=int(input('请输入星行数'))\n",
    "for i in range(n+1):\n",
    "    for j in range(n*2-i,0,-1):\n",
    "        print(' ', end='')\n",
    "    for k in range(0,i):\n",
    "        print('*',end='   ')\n",
    "    print()"
   ]
  },
  {
   "cell_type": "code",
   "execution_count": 14,
   "metadata": {},
   "outputs": [
    {
     "name": "stdout",
     "output_type": "stream",
     "text": [
      "   *   \n",
      "  * *  \n",
      " *   * \n",
      "*     *\n",
      " *   * \n",
      "  * *  \n",
      "   *   \n"
     ]
    }
   ],
   "source": [
    "#练习五：写函数，根据给定符号，打印各种菱形。\n",
    "size = 3 \n",
    "count = size*2+1\n",
    "for i in range(count):\n",
    "    for j in range(count): \n",
    "        \n",
    "        if i <= size and (j == size-i or j == size+i):\n",
    "            print('*', end='')\n",
    "        \n",
    "        elif i > size and (j == i-size or j == size*3-i):\n",
    "            print('*', end='')\n",
    "        \n",
    "        else:\n",
    "            print(' ', end='')\n",
    "    \n",
    "    print()\n"
   ]
  },
  {
   "cell_type": "code",
   "execution_count": null,
   "metadata": {},
   "outputs": [],
   "source": []
  }
 ],
 "metadata": {
  "kernelspec": {
   "display_name": "Python 3",
   "language": "python",
   "name": "python3"
  },
  "language_info": {
   "codemirror_mode": {
    "name": "ipython",
    "version": 3
   },
   "file_extension": ".py",
   "mimetype": "text/x-python",
   "name": "python",
   "nbconvert_exporter": "python",
   "pygments_lexer": "ipython3",
   "version": "3.6.3"
  }
 },
 "nbformat": 4,
 "nbformat_minor": 2
}
