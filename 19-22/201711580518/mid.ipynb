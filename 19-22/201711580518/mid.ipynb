{
 "cells": [
  {
   "cell_type": "code",
   "execution_count": 3,
   "metadata": {
    "collapsed": false
   },
   "outputs": [
    {
     "name": "stdout",
     "output_type": "stream",
     "text": [
      "m=3\n",
      "10\n"
     ]
    }
   ],
   "source": [
    "def www():\n",
    "    m=int(input('m='))\n",
    "    i=0\n",
    "    total=0\n",
    "    sum=0\n",
    "    while i<m:\n",
    "        i=i+1\n",
    "        total=total+i\n",
    "        sum=sum+total\n",
    "    return sum\n",
    "print(www())"
   ]
  },
  {
   "cell_type": "code",
   "execution_count": 49,
   "metadata": {
    "collapsed": false
   },
   "outputs": [
    {
     "name": "stdout",
     "output_type": "stream",
     "text": [
      "*\n",
      "***\n",
      "*****\n",
      "*******\n",
      "*********\n"
     ]
    }
   ],
   "source": [
    "def www(x,n):\n",
    "      for i in range(1,(2*n+1),2):\n",
    "            \n",
    "            print(x*i)\n",
    "www('*',5)\n",
    "        "
   ]
  },
  {
   "cell_type": "code",
   "execution_count": 31,
   "metadata": {
    "collapsed": false
   },
   "outputs": [
    {
     "name": "stdout",
     "output_type": "stream",
     "text": [
      "整数12345\n",
      "1\n"
     ]
    }
   ],
   "source": [
    "def www():\n",
    "    n=int(input('整数'))\n",
    "    m=str(n)\n",
    "    w=len(m)\n",
    "    a=n//(10**(w-1))\n",
    "    return a\n",
    "print(www())\n",
    "    "
   ]
  },
  {
   "cell_type": "code",
   "execution_count": 43,
   "metadata": {
    "collapsed": false
   },
   "outputs": [
    {
     "name": "stdout",
     "output_type": "stream",
     "text": [
      "平均数 181.11111111111111\n",
      "[183, 185, 183, 187, 190]\n"
     ]
    }
   ],
   "source": [
    "heights=[183,185,183,187,178,175,177,190,172]\n",
    "tallpeople=[]\n",
    "def www():\n",
    "    total=0\n",
    "    for i in range(9):\n",
    "        total=total+heights[i]\n",
    "    p=total/9\n",
    "    print('平均数',p)\n",
    "    for i in range(9):\n",
    "        if heights[i]>181:\n",
    "            tallpeople.append(heights[i])\n",
    "    print(tallpeople)\n",
    "        \n",
    "        \n",
    "            \n",
    "www()\n",
    "        \n",
    "        "
   ]
  },
  {
   "cell_type": "code",
   "execution_count": null,
   "metadata": {
    "collapsed": false
   },
   "outputs": [],
   "source": [
    "import random\n",
    "score=0\n",
    "a=random.randint(1,10)\n",
    "b=random.randint(1,10)\n",
    "c=random.randint(1,10)\n",
    "d=random.randint(1,10)\n",
    "e=random.randint(1,10)\n",
    "f=random.randint(1,10)\n",
    "g=random.randint(1,10)\n",
    "h=random.randint(1,10)\n",
    "i=random.randint(1,10)\n",
    "j=random.randint(1,10)\n",
    "w=a+b \n",
    "print(a,b)\n",
    "y=c+d \n",
    "print(c,d)\n",
    "z=e+f \n",
    "print(e,f)\n",
    "w=g+h \n",
    "print(g,h)\n",
    "q=i+j \n",
    "print(i,j)\n",
    "ww=int(input())\n",
    "if ww==w:\n",
    "    score=score+20\n",
    "yy=int(input())\n",
    "if yy==y:\n",
    "    score=score+20\n",
    "zz=int(input())\n",
    "if zz==z:\n",
    "    score=score+20\n",
    "ww=int(input())\n",
    "if ww==w:\n",
    "    score=score+20\n",
    "qq=int(input())\n",
    "if qq==q:\n",
    "    score=score+20\n",
    "    \n",
    "print(score)\n",
    "\n",
    "\n",
    "\n"
   ]
  },
  {
   "cell_type": "code",
   "execution_count": null,
   "metadata": {
    "collapsed": true
   },
   "outputs": [],
   "source": [
    "numbers=[3,-5,9,108,34,-76,88]\n",
    "www=[]\n",
    "max=numbers[0]\n",
    "min=max\n",
    "for i in range(8):\n",
    "    if numbers[i]>max:\n",
    "        max=numbers[i]\n",
    "    elif numbers[i]<min:\n",
    "        min=numbers[i]\n",
    "www.append(max)\n",
    "        \n",
    "\n",
    "    \n",
    "    "
   ]
  }
 ],
 "metadata": {
  "kernelspec": {
   "display_name": "Python 3",
   "language": "python",
   "name": "python3"
  },
  "language_info": {
   "codemirror_mode": {
    "name": "ipython",
    "version": 3
   },
   "file_extension": ".py",
   "mimetype": "text/x-python",
   "name": "python",
   "nbconvert_exporter": "python",
   "pygments_lexer": "ipython3",
   "version": "3.6.0"
  }
 },
 "nbformat": 4,
 "nbformat_minor": 2
}
