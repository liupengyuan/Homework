{
 "cells": [
  {
   "cell_type": "code",
   "execution_count": null,
   "metadata": {},
   "outputs": [],
   "source": [
    "import random\n",
    "A=[]\n",
    "B=[]\n",
    "i=1\n",
    "w=1\n",
    "while i<=100000:\n",
    "    A.append(i)\n",
    "    i=i+1\n",
    "while w<=100000:\n",
    "    B.append(w)\n",
    "    w=w+1\n",
    "random.shuffle(B)\n",
    "C=[]\n",
    "u=0\n",
    "while u<1000:\n",
    "    w=random(1,110000)\n",
    "    C.append(w)\n",
    "    u=u+1\n",
    "D=[]\n",
    "import time\n",
    "start = time.time()\n",
    "for k in C:\n",
    "    if k in b:\n",
    "        D.append(k)\n",
    "print(D)\n",
    "end=time.time()\n",
    "print(end-start)\n",
    "E=[]\n",
    "star=time.time()\n",
    "for k in C:\n",
    "    mid=50000\n",
    "    if k == A[mid]:\n",
    "        E.append(A[mid])\n",
    "    elif k > A[mid]:\n",
    "        E.append(A[bi_search(k, A, mid+1, high)])\n",
    "    else:\n",
    "        E.append(A[bi_search(k, A, low, mid-1)])\n",
    "print(E)\n",
    "en=time.time()\n",
    "print(star-en)\n",
    "\n",
    "\n",
    "\n",
    "\n",
    "\n",
    "\n",
    "\n",
    "\n",
    "\n"
   ]
  }
 ],
 "metadata": {
  "kernelspec": {
   "display_name": "Python 3",
   "language": "python",
   "name": "python3"
  },
  "language_info": {
   "codemirror_mode": {
    "name": "ipython",
    "version": 3
   },
   "file_extension": ".py",
   "mimetype": "text/x-python",
   "name": "python",
   "nbconvert_exporter": "python",
   "pygments_lexer": "ipython3",
   "version": "3.6.3"
  }
 },
 "nbformat": 4,
 "nbformat_minor": 2
}
