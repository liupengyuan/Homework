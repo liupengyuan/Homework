{
 "cells": [
  {
   "cell_type": "code",
   "execution_count": 6,
   "metadata": {},
   "outputs": [
    {
     "name": "stdout",
     "output_type": "stream",
     "text": [
      "请输入您的姓名,以回车结束宝宝\n",
      "请输入您的生日，以回车结束12.29\n",
      "宝宝 您是摩羯座\n"
     ]
    }
   ],
   "source": [
    "name=input('请输入您的姓名,以回车结束')\n",
    "n=float(input('请输入您的生日，以回车结束'))\n",
    "if 3.12<=n<=4.91:\n",
    "    print(name,'您是白羊座')\n",
    "if 4.21<=n<=5.21:\n",
    "    print(name,'您是金牛座')\n",
    "if 5.21<=n<=6.21:\n",
    "    print(name,'您是双子座')\n",
    "if 6.22<=n<=7.22:\n",
    "    print(name,'您是巨蟹座')\n",
    "if 7.23<=n<=8.22:\n",
    "    print(name,'您是狮子座')\n",
    "if 8.23<=n<=9.23:\n",
    "    print(name,'您是处女座')\n",
    "if 9.24<=n<=10.23:\n",
    "    print(name,'您是天秤座')\n",
    "if 10.24<=n<=11.22:\n",
    "    print(name,'您是天蝎座')\n",
    "if 11.23<=n<=12.21:\n",
    "    print(name,'您是射手座')\n",
    "if 12.22<=n<=12.31 or 1.1<=n<=1.20:\n",
    "    print(name,'您是摩羯座')\n",
    "if 1.21<=n<=2.19:\n",
    "    print(name,'您是水瓶座')\n",
    "if 2.20<=n<=3.20:\n",
    "    print(name,'您是双鱼座')\n"
   ]
  },
  {
   "cell_type": "code",
   "execution_count": 10,
   "metadata": {},
   "outputs": [
    {
     "name": "stdout",
     "output_type": "stream",
     "text": [
      "2\n",
      "1\n",
      "求和请输入1，求乘积请输入2，计算m除以n的余数的值请输入31\n",
      "3\n"
     ]
    }
   ],
   "source": [
    "n=int(input())\n",
    "m=int(input())\n",
    "x=int(input('求和请输入1，求乘积请输入2，计算m除以n的余数的值请输入3'))\n",
    "if x==1:\n",
    "    total=m+n\n",
    "    print(total)\n",
    "if x==2:\n",
    "    mul=m*n\n",
    "    print(mul)\n",
    "if x==3:\n",
    "    z=m%n\n",
    "    print(z)"
   ]
  },
  {
   "cell_type": "code",
   "execution_count": null,
   "metadata": {},
   "outputs": [],
   "source": [
    "word=input('请输入一个动词哦，亲')\n",
    "if word.endswith('ch'):\n",
    "    print(word,'es')\n",
    "if word.endswith('sh'):\n",
    "    print(word,'es')\n",
    "if word.endswith('x'):\n",
    "    print(word,'es')\n",
    "elif print(word,'s')\n"
   ]
  },
  {
   "cell_type": "code",
   "execution_count": null,
   "metadata": {},
   "outputs": [],
   "source": [
    "print()"
   ]
  },
  {
   "cell_type": "code",
   "execution_count": null,
   "metadata": {},
   "outputs": [],
   "source": []
  }
 ],
 "metadata": {
  "kernelspec": {
   "display_name": "Python 3",
   "language": "python",
   "name": "python3"
  },
  "language_info": {
   "codemirror_mode": {
    "name": "ipython",
    "version": 3
   },
   "file_extension": ".py",
   "mimetype": "text/x-python",
   "name": "python",
   "nbconvert_exporter": "python",
   "pygments_lexer": "ipython3",
   "version": "3.6.3"
  }
 },
 "nbformat": 4,
 "nbformat_minor": 2
}
