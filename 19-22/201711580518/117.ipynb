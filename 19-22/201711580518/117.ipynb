{
 "cells": [
  {
   "cell_type": "code",
   "execution_count": 4,
   "metadata": {},
   "outputs": [
    {
     "name": "stdout",
     "output_type": "stream",
     "text": [
      "请输入整数个数5\n",
      "10\n",
      "500\n",
      "36.864617182333525\n"
     ]
    }
   ],
   "source": [
    "def www():\n",
    "    m=int(input('请输入整数个数'))\n",
    "    n=int(input())\n",
    "    k=int(input())\n",
    "    i=0\n",
    "    total=0\n",
    "    while i<m:\n",
    "        \n",
    "        import random\n",
    "\n",
    "        x = random.randint(n, k)\n",
    "        i=i+1\n",
    "        \n",
    "        total=total+x\n",
    "\n",
    "    number=total**(1/2)\n",
    "    return number\n",
    "\n",
    "\n",
    "\n",
    "print(www())\n"
   ]
  },
  {
   "cell_type": "code",
   "execution_count": null,
   "metadata": {},
   "outputs": [],
   "source": []
  }
 ],
 "metadata": {
  "kernelspec": {
   "display_name": "Python 3",
   "language": "python",
   "name": "python3"
  },
  "language_info": {
   "codemirror_mode": {
    "name": "ipython",
    "version": 3
   },
   "file_extension": ".py",
   "mimetype": "text/x-python",
   "name": "python",
   "nbconvert_exporter": "python",
   "pygments_lexer": "ipython3",
   "version": "3.6.3"
  }
 },
 "nbformat": 4,
 "nbformat_minor": 2
}
