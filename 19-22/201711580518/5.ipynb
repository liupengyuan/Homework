{
 "cells": [
  {
   "cell_type": "code",
   "execution_count": 1,
   "metadata": {},
   "outputs": [],
   "source": [
    "#练习 1：写函数，求n个随机整数均值的平方根，整数范围在m与k之间（n,m,k由用户输入）。"
   ]
  },
  {
   "cell_type": "code",
   "execution_count": 10,
   "metadata": {},
   "outputs": [
    {
     "name": "stdout",
     "output_type": "stream",
     "text": [
      "请输入整数个数1\n",
      "1\n",
      "2\n",
      "1.0\n"
     ]
    }
   ],
   "source": [
    "def www():\n",
    "    n=int(input('请输入整数个数'))\n",
    "    m=int(input())\n",
    "    k=int(input())\n",
    "    i=0\n",
    "    total=0\n",
    "    while i<n:\n",
    "        \n",
    "        import random\n",
    "\n",
    "        x = random.randint(m, k)\n",
    "        i=i+1\n",
    "        \n",
    "        total=total+x\n",
    "\n",
    "    number=total*(1/n)**(1/2)\n",
    "    return number\n",
    "\n",
    "\n",
    "\n",
    "print(www())\n"
   ]
  },
  {
   "cell_type": "code",
   "execution_count": 1,
   "metadata": {},
   "outputs": [],
   "source": [
    "#练习 2：写函数，共n个随机整数，整数范围在m与k之间，（n,m,k由用户输入）。求1：西格玛log(随机整数)，2：西格玛1/log(随机整数)"
   ]
  },
  {
   "cell_type": "code",
   "execution_count": 7,
   "metadata": {
    "scrolled": false
   },
   "outputs": [
    {
     "name": "stdout",
     "output_type": "stream",
     "text": [
      "请输入整数个数2\n",
      "3\n",
      "5\n",
      "2.70805020110221\n"
     ]
    }
   ],
   "source": [
    "def www():\n",
    "    n=int(input('请输入整数个数'))\n",
    "    m=int(input())\n",
    "    k=int(input())\n",
    "    i=0\n",
    "    total=0\n",
    "    while i<n:\n",
    "        import random\n",
    "\n",
    "        x = random.randint(m, k)\n",
    "        i=i+1\n",
    "        import math\n",
    "\n",
    "        number= math.log(x)\n",
    "\n",
    "        total=total+number\n",
    "    return total\n",
    "print(www())\n",
    "    \n",
    "        "
   ]
  },
  {
   "cell_type": "code",
   "execution_count": 10,
   "metadata": {},
   "outputs": [
    {
     "name": "stdout",
     "output_type": "stream",
     "text": [
      "请输入整数个数2\n",
      "3\n",
      "5\n",
      "1.3426824550040934\n"
     ]
    }
   ],
   "source": [
    "def www():\n",
    "    n=int(input('请输入整数个数'))\n",
    "    m=int(input())\n",
    "    k=int(input())\n",
    "    i=0\n",
    "    total=0\n",
    "    while i<n:\n",
    "        import random\n",
    "\n",
    "        x = random.randint(m, k)\n",
    "        i=i+1\n",
    "        import math\n",
    "\n",
    "        number= math.log(x)\n",
    "        p=1/number\n",
    "\n",
    "        total=total+p\n",
    "    return total\n",
    "print(www())\n",
    "    \n",
    "        "
   ]
  },
  {
   "cell_type": "code",
   "execution_count": 11,
   "metadata": {},
   "outputs": [],
   "source": [
    "#练习 3：写函数，求s=a+aa+aaa+aaaa+aa...a的值，其中a是[1,9]之间的随机整数。例如2+22+222+2222+22222(此时共有5个数相加)，几个数相加由键盘输入。"
   ]
  },
  {
   "cell_type": "code",
   "execution_count": 14,
   "metadata": {},
   "outputs": [
    {
     "name": "stdout",
     "output_type": "stream",
     "text": [
      "请输入整数个数4\n",
      "6170\n"
     ]
    }
   ],
   "source": [
    "def www():\n",
    "    n=int(input('请输入整数个数'))\n",
    "    import random\n",
    "    a = random.randint(1,9)\n",
    "    i=0\n",
    "    number=0\n",
    "    b=a\n",
    "    while i<n:\n",
    "        number=number+a\n",
    "        i=i+1\n",
    "        a=a+b*(10**i)\n",
    "    print(number)\n",
    "       \n",
    "www()\n",
    "\n",
    "    \n",
    "        \n",
    "        \n",
    "    "
   ]
  },
  {
   "cell_type": "code",
   "execution_count": 4,
   "metadata": {},
   "outputs": [
    {
     "name": "stdout",
     "output_type": "stream",
     "text": [
      "请输入数字 a：6\n",
      "请输入几个数相加：2\n",
      "72\n"
     ]
    }
   ],
   "source": [
    "a = int(input('请输入数字 a：'))\n",
    "count = int(input('请输入几个数相加：'))\n",
    " \n",
    "res = 0  #初始化最终求解\n",
    "for i in range(1, count+1): #循环次数与输入的值一样，但从1开始循环\n",
    "    t = 0  #临时用的变量\n",
    "    for j in range(i):\n",
    "        t = t + 10**j  #先计算 10**0 + 10**1 + ... + 10**j\n",
    "    res = res + (a*t)  #再计算 a * t\n",
    "print(res)"
   ]
  },
  {
   "cell_type": "code",
   "execution_count": 15,
   "metadata": {},
   "outputs": [],
   "source": [
    "#挑战性练习：仿照task5，将猜数游戏改成由用户随便选择一个整数，让计算机来猜测的猜数游戏，要求和task5中人猜测的方法类似，但是人机角色对换，由人来判断猜测是大、小还是相等，请写出完整的猜数游戏。"
   ]
  },
  {
   "cell_type": "code",
   "execution_count": 23,
   "metadata": {},
   "outputs": [
    {
     "name": "stdout",
     "output_type": "stream",
     "text": [
      "请输入一个大于0的整数，回车结束。2\n",
      "请输入一个大于0的整数，作为神秘整数的上界，回车结束。3\n",
      "一共可以猜 2 次\n",
      "你已经猜了 1 次\n",
      "抱歉，你猜大了\n",
      "一共可以猜 2 次\n",
      "你已经猜了 2 次\n",
      "抱歉，你猜小了\n",
      "神秘数字是： 2\n"
     ]
    }
   ],
   "source": [
    "import random, math\n",
    "def guess_game():\n",
    "    number = int(input('请输入一个大于0的整数，回车结束。'))\n",
    "    n = int(input('请输入一个大于0的整数，作为神秘整数的上界，回车结束。'))\n",
    "    max_times = math.ceil(math.log(n, 2))\n",
    "    guess_times = 0\n",
    "    \n",
    "    while guess_times < max_times:\n",
    "        guess = random.randint(1, n)\n",
    "        guess_times += 1\n",
    "        print('一共可以猜', max_times, '次')\n",
    "        print('你已经猜了', guess_times, '次')\n",
    "        \n",
    "        if guess == number:\n",
    "            \n",
    "            print('神秘数字是：', number)\n",
    "        \n",
    "            break\n",
    "        elif guess > number:\n",
    "            print('抱歉，你猜大了')\n",
    "        else:\n",
    "            print('抱歉，你猜小了')\n",
    "            \n",
    "    else:\n",
    "        print('神秘数字是：', number)\n",
    "        \n",
    "guess_game()\n",
    "\n",
    "\n",
    "\n"
   ]
  },
  {
   "cell_type": "code",
   "execution_count": null,
   "metadata": {},
   "outputs": [],
   "source": []
  }
 ],
 "metadata": {
  "kernelspec": {
   "display_name": "Python 3",
   "language": "python",
   "name": "python3"
  },
  "language_info": {
   "codemirror_mode": {
    "name": "ipython",
    "version": 3
   },
   "file_extension": ".py",
   "mimetype": "text/x-python",
   "name": "python",
   "nbconvert_exporter": "python",
   "pygments_lexer": "ipython3",
   "version": "3.6.3"
  }
 },
 "nbformat": 4,
 "nbformat_minor": 2
}
