{
 "cells": [
  {
   "cell_type": "code",
   "execution_count": null,
   "metadata": {},
   "outputs": [],
   "source": [
    "#1\n",
    "def www(th,n):\n",
    "for i in range(n+1):\n",
    "    for j in range(n*2-i,0,-1):\n",
    "        print(' ', end='')\n",
    "    for k in range(0,i):\n",
    "        print('th',end='')\n",
    "    print('th'*5)\n",
    "    for j in range(n*2-i,0,-1):\n",
    "        print(' ', end='')\n",
    "    for k in range(0,i):\n",
    "        print('th',end=' ')\n",
    "www('*',5)\n",
    "    "
   ]
  },
  {
   "cell_type": "code",
   "execution_count": 52,
   "metadata": {},
   "outputs": [
    {
     "data": {
      "text/plain": [
       "125"
      ]
     },
     "execution_count": 52,
     "metadata": {},
     "output_type": "execute_result"
    }
   ],
   "source": [
    "#2\n",
    "def Ack(m,n):\n",
    "    if m==0:\n",
    "        A=n+1\n",
    "    if m>0 and n==0:\n",
    "        A=Ack(m-1,1)\n",
    "    if m>0 and n>0:\n",
    "        A=Ack(m-1,Ack(m,n-1))\n",
    "    return A\n",
    "Ack(3,4)\n",
    "    \n",
    "    "
   ]
  },
  {
   "cell_type": "code",
   "execution_count": 81,
   "metadata": {},
   "outputs": [
    {
     "name": "stdout",
     "output_type": "stream",
     "text": [
      "8 * 16 =\n",
      "25 * 7 =\n",
      "21 - 19 =\n",
      "8 + 13 =\n",
      "6 + 15 =\n",
      "18 - 23 =\n",
      "21 + 24 =\n",
      "3 + 16 =\n",
      "25 * 8 =\n",
      "5 * 25 =\n",
      "16 - 17 =\n",
      "8 + 3 =\n",
      "6 - 3 =\n",
      "11 * 13 =\n",
      "21 + 3 =\n"
     ]
    }
   ],
   "source": [
    "#3a\n",
    "import random\n",
    "fuhao=['+','-','*','/']\n",
    "\n",
    "def www():\n",
    "    \n",
    "    a=random.randint(3,25)\n",
    "    b=random.randint(3,25)\n",
    "    x=random.choice(fuhao)\n",
    "    if x=='/':\n",
    "        w=a/b\n",
    "        if w%1==0:\n",
    "            print(a,x,b,'=')\n",
    "            \n",
    "        else :\n",
    "            a=random.randint(3,25)\n",
    "            b=random.randint(3,25)\n",
    "            x=random.choice(fuhao)\n",
    "            www()\n",
    "    else:\n",
    "        print(a,x,b,'=')\n",
    "\n",
    "for i in range(15):        \n",
    "    www()        \n",
    "    "
   ]
  },
  {
   "cell_type": "code",
   "execution_count": null,
   "metadata": {},
   "outputs": [],
   "source": [
    "#3b\n",
    "c,d,e,f,g,h,i,j,k,l,m,n,o,p,q = map(int,input('请一次输入所有答案').split(','))\n",
    "answers=[]\n",
    "answers.append(c)\n",
    "answers.append(d)\n",
    "answers.append(e)\n",
    "answers.append(f)\n",
    "answers.append(g)\n",
    "answers.append(h)\n",
    "answers.append(i)\n",
    "answers.append(j)\n",
    "answers.append(k)\n",
    "answers.append(l)\n",
    "answers.append(m)\n",
    "answers.append(n)\n",
    "answers.append(o)\n",
    "answers.append(p)\n",
    "answers.append(q)\n",
    "def answer():\n",
    "    if x=='+':\n",
    "        ans=a+b\n",
    "    if x=='-':\n",
    "        ans=a-b\n",
    "    if x=='*':\n",
    "        ans=a*b\n",
    "    if x=='/':\n",
    "        ans=a/b\n",
    "    return ans\n",
    "for i in range(15):\n",
    "    www()\n",
    "    answer()\n",
    "    score=0\n",
    "    if answers[i]==ans:\n",
    "        if x=='+'or'-':\n",
    "            score=score+5\n",
    "        if x=='/'or'*':\n",
    "            score=score+10\n",
    "print(score)\n"
   ]
  },
  {
   "cell_type": "code",
   "execution_count": null,
   "metadata": {},
   "outputs": [],
   "source": [
    "#3c\n",
    "for i in range(10):\n",
    "    a,x,b=map(int,input('请输入题目').split(','))\n",
    "    if x=='+':\n",
    "        ans=a+b\n",
    "        print(ans)\n",
    "        score=score+5\n",
    "    if x=='-':\n",
    "        ans=a-b\n",
    "        print(ans)\n",
    "        score=score+5\n",
    "    if x=='/':\n",
    "        ans=a/b\n",
    "        print(ans)\n",
    "        score=score+10\n",
    "    if x=='*':\n",
    "        ans=a*b\n",
    "        print(ans)\n",
    "        score=score+10\n",
    "print(score)"
   ]
  },
  {
   "cell_type": "code",
   "execution_count": null,
   "metadata": {},
   "outputs": [],
   "source": [
    "#4a\n",
    "filename = r'c:\\temp\\成语.txt'\n",
    "A = set()\n",
    "fh = open(r'd:\\temp\\成语.txt')\n",
    "text = fh.read()\n",
    "text = text.replace('、', '')\n",
    "idioms = text.split('\\n')\n",
    "\n",
    "\n",
    "for idiom in idioms:\n",
    "        A.add('idiom') \n"
   ]
  },
  {
   "cell_type": "code",
   "execution_count": null,
   "metadata": {},
   "outputs": [],
   "source": [
    "#4b\n",
    "import  bisect\n",
    "\n",
    "def www(filename):\n",
    "    \n",
    "    word_freq_pairs = []\n",
    "    with open(filename) as f:\n",
    "        for line in f:\n",
    "            words = [word.split('/')[0] for word in line.split()]\n",
    "            for idiom in idioms:\n",
    "                i = bisect.bisect_left(word_freq_pairs, [word])\n",
    "                if i != len(word_freq_pairs) and word_freq_pairs[i][0] == word:\n",
    "                    word_freq_pairs[i][1] += 1\n",
    "                else:\n",
    "                    word_freq_pairs.insert(i, [word,1])\n",
    "\n",
    "            \n",
    "                \n",
    "    return word_freq_pairs\n",
    "\n",
    "\n",
    "\n",
    "filename = r'c:\\temp\\语料库.txt'\n",
    "table = www(filename)\n",
    "print(table)\n"
   ]
  },
  {
   "cell_type": "code",
   "execution_count": null,
   "metadata": {},
   "outputs": [],
   "source": [
    "#4c,d\n",
    "def count_words_freq_dict(filename):\n",
    "    \n",
    "    words_freq_dict = dict(nr=0,m=0,v=0,ns=0)\n",
    "    \n",
    "    with open(filename) as f:\n",
    "        for line in f:\n",
    "            words = [word.split('/')[0] for word in line.split()]\n",
    "            for word in words:\n",
    "                if word[end]=nr: \n",
    "                    print(word)\n",
    "                    dict[nr]+=1\n",
    "                if word[end]=ns: \n",
    "                    dict[ns]+=1                      \n",
    "                if word[end]=v: \n",
    "                    \n",
    "                    dict[v]+=1    \n",
    "                if word[end]=m: \n",
    "                    \n",
    "                    dict[m]+=1    \n",
    "    return words_freq_dict"
   ]
  },
  {
   "cell_type": "code",
   "execution_count": null,
   "metadata": {},
   "outputs": [],
   "source": []
  }
 ],
 "metadata": {
  "kernelspec": {
   "display_name": "Python 3",
   "language": "python",
   "name": "python3"
  },
  "language_info": {
   "codemirror_mode": {
    "name": "ipython",
    "version": 3
   },
   "file_extension": ".py",
   "mimetype": "text/x-python",
   "name": "python",
   "nbconvert_exporter": "python",
   "pygments_lexer": "ipython3",
   "version": "3.6.3"
  }
 },
 "nbformat": 4,
 "nbformat_minor": 2
}
