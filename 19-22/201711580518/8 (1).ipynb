{
 "cells": [
  {
   "cell_type": "code",
   "execution_count": 2,
   "metadata": {},
   "outputs": [
    {
     "ename": "IndentationError",
     "evalue": "expected an indented block (<ipython-input-2-46174ae3cd84>, line 4)",
     "output_type": "error",
     "traceback": [
      "\u001b[1;36m  File \u001b[1;32m\"<ipython-input-2-46174ae3cd84>\"\u001b[1;36m, line \u001b[1;32m4\u001b[0m\n\u001b[1;33m    fh=open(r'c:\\temp\\成语大全.txt')\u001b[0m\n\u001b[1;37m     ^\u001b[0m\n\u001b[1;31mIndentationError\u001b[0m\u001b[1;31m:\u001b[0m expected an indented block\n"
     ]
    }
   ],
   "source": [
    "#成语接龙游戏\n",
    "import random\n",
    "def www():\n",
    "fh=open(r'c:\\temp\\成语大全.txt')\n",
    "text = fh.read()\n",
    "text = text.replace('、', '')\n",
    "man=0\n",
    "computer=0\n",
    "x=random.choice(text)\n",
    "print(x)\n",
    "y=str(input('输入成语'))\n",
    "if x[-1]==y[0]:\n",
    "    for a in text:\n",
    "        if a[0]==y[-1]:\n",
    "            print(a)\n",
    "            y=str(input('输入成语'))\n",
    "            man+=10\n",
    "            computer+=10\n",
    "else:print('游戏结束'man，computer)\n",
    "\n"
   ]
  },
  {
   "cell_type": "code",
   "execution_count": null,
   "metadata": {},
   "outputs": [],
   "source": []
  }
 ],
 "metadata": {
  "kernelspec": {
   "display_name": "Python 3",
   "language": "python",
   "name": "python3"
  },
  "language_info": {
   "codemirror_mode": {
    "name": "ipython",
    "version": 3
   },
   "file_extension": ".py",
   "mimetype": "text/x-python",
   "name": "python",
   "nbconvert_exporter": "python",
   "pygments_lexer": "ipython3",
   "version": "3.6.3"
  }
 },
 "nbformat": 4,
 "nbformat_minor": 2
}
