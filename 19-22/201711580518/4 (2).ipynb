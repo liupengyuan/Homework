{
 "cells": [
  {
   "cell_type": "code",
   "execution_count": 1,
   "metadata": {},
   "outputs": [
    {
     "name": "stdout",
     "output_type": "stream",
     "text": [
      "3\n",
      "3\n",
      "3\n",
      "18\n"
     ]
    }
   ],
   "source": [
    "def www_sum(end):\n",
    "    i = 0\n",
    "    total_n = 0\n",
    "\n",
    "    while i < end:\n",
    "        i = i + 1\n",
    "        total_n = total_n + i\n",
    "\n",
    "    return total_n\n",
    "\n",
    "m=int(input())\n",
    "n=int(input())\n",
    "k=int(input())\n",
    "\n",
    "\n",
    "print(www_sum(m)+www_sum(n)+www_sum(k))\n"
   ]
  },
  {
   "cell_type": "code",
   "execution_count": 5,
   "metadata": {},
   "outputs": [
    {
     "name": "stdout",
     "output_type": "stream",
     "text": [
      "4.001010500303295\n"
     ]
    }
   ],
   "source": [
    "def www_sum(end):\n",
    "    i=0\n",
    "    total=0\n",
    "    \n",
    "    while i<end:\n",
    "        i=i+1\n",
    "        x=2*end-1\n",
    "        total=total+1/x*(-1)**end\n",
    "    return total\n",
    "print(4*www_sum(1000)+4*www_sum(100000))"
   ]
  },
  {
   "cell_type": "code",
   "execution_count": 7,
   "metadata": {},
   "outputs": [
    {
     "name": "stdout",
     "output_type": "stream",
     "text": [
      "月份12\n",
      "日期29\n",
      "摩羯座\n"
     ]
    }
   ],
   "source": [
    "def www():\n",
    "    if n==3 and 21<=p<=31 or n==4 and 1<=p<=20:\n",
    "        w=('白羊座')\n",
    "    elif n==4 and 21<=p<=30 or n==5 and 1<=p<=21:\n",
    "        w=('金牛座')\n",
    "    elif n==5 and 22<=p<=31 or n==6 and 1<=p<=21:\n",
    "        w=('双子座')\n",
    "    elif n==6 and 22<=p<=30 or n==7 and 1<=p<=22:\n",
    "        w=('巨蟹座')\n",
    "    elif n==7 and 23<=p<=31 or n==8 and 1<=p<=22:\n",
    "        w=('狮子座')\n",
    "    elif n==8 and 23<=p<=31 or n==9 and 1<=p<=23:\n",
    "        w=('处女座')\n",
    "    elif n==9 and 24<=p<=30 or n==10 and 1<=p<=23:\n",
    "        w=('天秤座')\n",
    "    elif n==10 and 24<=p<=31 or n==11 and 1<=p<=22:\n",
    "        w=('天蝎座')\n",
    "    elif n==11 and 23<=p<=30 or n==12 and 1<=p<=21:\n",
    "        w=('射手座')\n",
    "    elif n==12 and 22<=p<=31 or n==1 and 1<=p<=20:\n",
    "        w=('摩羯座')\n",
    "    elif n==1 and 21<=p<=31 or n==2 and 1<=p<=19:\n",
    "        w=('水瓶座')\n",
    "    elif n==2 and 20<=p<=28 or n==3 and 1<=p<=20:\n",
    "        w=('双鱼座')\n",
    "    return w\n",
    "\n",
    "n=int(input('月份'))\n",
    "p=int(input('日期'))\n",
    "\n",
    "print(www())\n",
    "        "
   ]
  },
  {
   "cell_type": "code",
   "execution_count": 1,
   "metadata": {},
   "outputs": [
    {
     "name": "stdout",
     "output_type": "stream",
     "text": [
      "请输入一个动词search\n",
      "加es\n"
     ]
    }
   ],
   "source": [
    "def www():\n",
    "    if m.endswith('ch') or m.endswith('sh') or m.endswith('x') or m.endswith('s') or m.endswith('o'):\n",
    "        w=('加es')\n",
    "    elif m.endswith('y'):\n",
    "        w=('去y加ies')\n",
    "    else:\n",
    "        w=('加s')\n",
    "    return w\n",
    "\n",
    "m=input('请输入一个动词')\n",
    "\n",
    "print(www())"
   ]
  },
  {
   "cell_type": "code",
   "execution_count": 4,
   "metadata": {},
   "outputs": [
    {
     "name": "stdout",
     "output_type": "stream",
     "text": [
      "1\n",
      "5\n",
      "1\n",
      "15\n"
     ]
    }
   ],
   "source": [
    "def www():\n",
    "    i=m\n",
    "    total=m\n",
    "    \n",
    "    while i<n:\n",
    "        i=i+k\n",
    "        total=total+i\n",
    "       \n",
    "    return total\n",
    "m=int(input())\n",
    "n=int(input())\n",
    "k=int(input())\n",
    "\n",
    "print(www())"
   ]
  },
  {
   "cell_type": "code",
   "execution_count": null,
   "metadata": {},
   "outputs": [],
   "source": []
  }
 ],
 "metadata": {
  "kernelspec": {
   "display_name": "Python 3",
   "language": "python",
   "name": "python3"
  },
  "language_info": {
   "codemirror_mode": {
    "name": "ipython",
    "version": 3
   },
   "file_extension": ".py",
   "mimetype": "text/x-python",
   "name": "python",
   "nbconvert_exporter": "python",
   "pygments_lexer": "ipython3",
   "version": "3.6.3"
  }
 },
 "nbformat": 4,
 "nbformat_minor": 2
}
