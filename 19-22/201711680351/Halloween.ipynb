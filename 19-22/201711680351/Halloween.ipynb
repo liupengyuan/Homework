{
 "cells": [
  {
   "cell_type": "code",
   "execution_count": 12,
   "metadata": {},
   "outputs": [
    {
     "name": "stdout",
     "output_type": "stream",
     "text": [
      "请输入第一个整数，以回车结束4\n",
      "请输入第二个整数，以回车结束5\n",
      "最终的积是: 144\n"
     ]
    }
   ],
   "source": [
    "#1031课堂作业\n",
    "def my_sum(a):\n",
    "    i = 0\n",
    "    total_1 = 0\n",
    "    while i < a:\n",
    "        i = i + 1\n",
    "        total_1 = total_1 + i\n",
    "    return total_1\n",
    "    \n",
    "def my_mul(b):\n",
    "    i = 0\n",
    "    total_2 = 1\n",
    "    while i < b:\n",
    "        i = i + 1\n",
    "        total_2 = total_2 * i\n",
    "    return total_2\n",
    "    \n",
    "m = int(input('请输入第一个整数，以回车结束'))\n",
    "n = int(input('请输入第二个整数，以回车结束'))\n",
    "\n",
    "if m > n:\n",
    "    print('最终的和是:',my_sum(m) + my_sum(n))\n",
    "else:\n",
    "    print('最终的积是:',my_mul(m) + my_mul(n))"
   ]
  }
 ],
 "metadata": {
  "kernelspec": {
   "display_name": "Python 3",
   "language": "python",
   "name": "python3"
  },
  "language_info": {
   "codemirror_mode": {
    "name": "ipython",
    "version": 3
   },
   "file_extension": ".py",
   "mimetype": "text/x-python",
   "name": "python",
   "nbconvert_exporter": "python",
   "pygments_lexer": "ipython3",
   "version": "3.6.2"
  }
 },
 "nbformat": 4,
 "nbformat_minor": 2
}
