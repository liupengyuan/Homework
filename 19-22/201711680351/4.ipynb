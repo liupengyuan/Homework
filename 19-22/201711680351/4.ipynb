{
 "cells": [
  {
   "cell_type": "code",
   "execution_count": 23,
   "metadata": {},
   "outputs": [
    {
     "name": "stdout",
     "output_type": "stream",
     "text": [
      "请输入第一个整数，以回车结束5\n",
      "请输入第二个整数，以回车结束4\n",
      "请输入第三个整数，以回车结束3\n",
      "m!+n!+k!: 150\n"
     ]
    }
   ],
   "source": [
    "#练习 1：仿照求$ \\sum_{i=1}^mi + \\sum_{i=1}^ni  + \\sum_{i=1}^ki$的完整代码，写程序，可求m!+n!+k!\n",
    "def mul(end):\n",
    "    i = 0\n",
    "    total = 1\n",
    "    while i < end:\n",
    "        i = i + 1\n",
    "        total = total * i\n",
    "    return total\n",
    "m = int(input('请输入第一个整数，以回车结束'))\n",
    "n = int(input('请输入第二个整数，以回车结束'))\n",
    "k = int(input('请输入第三个整数，以回车结束'))\n",
    "\n",
    "print('m!+n!+k!:',mul(m) + mul(n) + mul(k))"
   ]
  },
  {
   "cell_type": "code",
   "execution_count": 3,
   "metadata": {},
   "outputs": [
    {
     "name": "stdout",
     "output_type": "stream",
     "text": [
      "当n=1000时，结果为 3.140592653839794\n",
      "当n=100000时，结果为 3.1415826535897198\n"
     ]
    }
   ],
   "source": [
    "#练习 2：写函数可返回1 - 1/3 + 1/5 - 1/7...的前n项的和。在主程序中，分别令n=1000及100000，打印4倍该函数的和。\n",
    "def sum(end):\n",
    "    n = 1\n",
    "    total = 0\n",
    "    i = 1\n",
    "    while n <= end:\n",
    "        total = total + i\n",
    "        n = n + 1\n",
    "        i = (-1)**(n-1) / (2*n-1)\n",
    "    return total\n",
    "\n",
    "\n",
    "print('当n=1000时，结果为',4*sum(1000))\n",
    "print('当n=100000时，结果为',4*sum(100000))"
   ]
  },
  {
   "cell_type": "code",
   "execution_count": 19,
   "metadata": {},
   "outputs": [
    {
     "name": "stdout",
     "output_type": "stream",
     "text": [
      "请输入你的名字，以回车结束TOP\n",
      "请输入你的生日，以回车结束11.04\n",
      "TOP 你是直截了当的天蝎座！\n"
     ]
    }
   ],
   "source": [
    "#练习 3(1)：将task3中的练习1改写为函数，并进行调用。\n",
    "def xz(B):\n",
    "    if 3.21 < B < 4.19:\n",
    "        return ('你是非常热情的白羊座！')\n",
    "    elif 4.20 < B < 5.20:\n",
    "        return ('你是肥肠爱钱的金牛座！')\n",
    "    elif 5.21 < B < 6.21:\n",
    "        return ('你是双重性格的双子座！')\n",
    "    elif 6.22 < B < 7.22:\n",
    "        return ('你是温柔善良的巨蟹座！')\n",
    "    elif 7.23 < B < 8.22:\n",
    "        return ('你是霸气十足的狮子座！')\n",
    "    elif 8.23 < B < 9.22:\n",
    "        return ('你是细腻强迫的处女座！')\n",
    "    elif 9.23 < B < 10.23:\n",
    "        return ('你是纠结爱美的天秤座！')\n",
    "    elif 10.24 < B < 11.22:\n",
    "        return ('你是直截了当的天蝎座！')\n",
    "    elif 11.23 < B < 12.21:\n",
    "        return ('你是活力四射的射手座！')\n",
    "    elif 12.22 < B < 1.19:\n",
    "        return ('你是。。。。的摩羯座！')\n",
    "    elif 1.20 < B < 2.18:\n",
    "        return ('你是多变倔强的水瓶座！')\n",
    "    else:\n",
    "        return ('你是心思细腻的双鱼座！')\n",
    "    \n",
    "name = input('请输入你的名字，以回车结束')\n",
    "B = float(input('请输入你的生日，以回车结束'))\n",
    "\n",
    "print(name,xz(B))"
   ]
  },
  {
   "cell_type": "code",
   "execution_count": 27,
   "metadata": {},
   "outputs": [
    {
     "name": "stdout",
     "output_type": "stream",
     "text": [
      "请输入一个英文单数名词，以回车结束apple\n",
      "apples\n"
     ]
    }
   ],
   "source": [
    "#练习 3(2)：将task3中的练习4改写为函数，并进行调用。\n",
    "def change(word):\n",
    "    if word.endswith('e'):\n",
    "        return word.replace('e','es')\n",
    "    \n",
    "    elif word.endswith('y'):\n",
    "        return word.endswith('y','ies')\n",
    "    \n",
    "    else:\n",
    "        return word+'es'\n",
    "    \n",
    "\n",
    "word = input('请输入一个英文单数名词，以回车结束')\n",
    "\n",
    "print(change(word))"
   ]
  }
 ],
 "metadata": {
  "kernelspec": {
   "display_name": "Python 3",
   "language": "python",
   "name": "python3"
  },
  "language_info": {
   "codemirror_mode": {
    "name": "ipython",
    "version": 3
   },
   "file_extension": ".py",
   "mimetype": "text/x-python",
   "name": "python",
   "nbconvert_exporter": "python",
   "pygments_lexer": "ipython3",
   "version": "3.6.2"
  }
 },
 "nbformat": 4,
 "nbformat_minor": 2
}
