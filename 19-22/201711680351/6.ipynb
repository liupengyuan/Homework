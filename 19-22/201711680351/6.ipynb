{
 "cells": [
  {
   "cell_type": "code",
   "execution_count": 4,
   "metadata": {},
   "outputs": [
    {
     "name": "stdout",
     "output_type": "stream",
     "text": [
      "请输入列表里元素的个数，以回车结束5\n",
      "请输入一个数字，以回车结束11\n",
      "请输入一个数字，以回车结束22\n",
      "请输入一个数字，以回车结束33\n",
      "请输入一个数字，以回车结束44\n",
      "请输入一个数字，以回车结束55\n",
      "[11, 22, 33, 44, 55]\n",
      "请选一个你想查找的数，以回车结束66\n"
     ]
    },
    {
     "data": {
      "text/plain": [
       "'-1'"
      ]
     },
     "execution_count": 4,
     "metadata": {},
     "output_type": "execute_result"
    }
   ],
   "source": [
    "#写函数，返回某个元素/对象在一个list中的位置，如果不在，则返回-1.\n",
    "\n",
    "def loc():\n",
    "    list = []\n",
    "    count = int(input('请输入列表里元素的个数，以回车结束'))\n",
    "    for i in range(count):\n",
    "        number = int(input('请输入一个数字，以回车结束'))\n",
    "        list.append(number)\n",
    "        \n",
    "    print(list)\n",
    "    \n",
    "    n = int(input('请选一个你想查找的数，以回车结束'))\n",
    "    if n in list:\n",
    "        for i in range(count-1):\n",
    "            while n == list[i]:\n",
    "                print('该数所处位置是：',i)\n",
    "                break        \n",
    "    else:\n",
    "        return('-1')\n",
    "    \n",
    "loc()                "
   ]
  },
  {
   "cell_type": "code",
   "execution_count": 22,
   "metadata": {},
   "outputs": [
    {
     "name": "stdout",
     "output_type": "stream",
     "text": [
      "[1, 2, 3, 4, 5, 6, 7, 8, 9, 10]\n"
     ]
    }
   ],
   "source": [
    "#写函数，可将两个相同长度的list，间隔插入，生成新的list。例如：给两个list，a=[1,2,3,4], b=[5,6,7,8]。则可以生成：[1,5,2,6,3,7,4,8]。\n",
    "\n",
    "def combi():\n",
    "    c = []\n",
    "    i = 0\n",
    "    j = 0\n",
    "    while i<len(a) and j<len(b):\n",
    "        c.append(a[i])\n",
    "        c.append(b[j])\n",
    "        i += 1\n",
    "        j += 1\n",
    "    while i < len(a):\n",
    "        c.append(a[i])\n",
    "        i += 1\n",
    "    while j < len(b):\n",
    "        c.append(b[j])\n",
    "        j += 1\n",
    "        \n",
    "    print(c)\n",
    "    \n",
    "a = [1,3,5,7,9]\n",
    "b = [2,4,6,8,10]\n",
    "\n",
    "combi()"
   ]
  },
  {
   "cell_type": "code",
   "execution_count": 46,
   "metadata": {},
   "outputs": [
    {
     "name": "stdout",
     "output_type": "stream",
     "text": [
      "这两个向量的夹角余弦值是： 1.8973665961010278\n"
     ]
    }
   ],
   "source": [
    "#写函数，可求两个向量的夹角余弦值，向量可放在list中。主程序调用该函数。\n",
    "import math\n",
    "\n",
    "a = [2,1]\n",
    "b = [1,1]  \n",
    "\n",
    "def cos(a,b):\n",
    "    result = 0\n",
    "    suma = 0\n",
    "    sumb = 0\n",
    "    mo_a = 0\n",
    "    mo_b = 0\n",
    "    for i in range(len(a)):\n",
    "        result += a[i]*b[i]\n",
    "        suma += a[i]**2\n",
    "        sumb += b[i]**2\n",
    "        mo_a = math.sqrt(suma) \n",
    "        mo_b = math.sqrt(sumb)\n",
    "    print('这两个向量的夹角余弦值是：',result/mo_a*mo_b)\n",
    "        \n",
    "cos(a,b)"
   ]
  }
 ],
 "metadata": {
  "kernelspec": {
   "display_name": "Python 3",
   "language": "python",
   "name": "python3"
  },
  "language_info": {
   "codemirror_mode": {
    "name": "ipython",
    "version": 3
   },
   "file_extension": ".py",
   "mimetype": "text/x-python",
   "name": "python",
   "nbconvert_exporter": "python",
   "pygments_lexer": "ipython3",
   "version": "3.6.2"
  }
 },
 "nbformat": 4,
 "nbformat_minor": 2
}
