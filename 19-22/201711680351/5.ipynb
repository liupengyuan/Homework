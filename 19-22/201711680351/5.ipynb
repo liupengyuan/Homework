{
 "cells": [
  {
   "cell_type": "code",
   "execution_count": 2,
   "metadata": {},
   "outputs": [
    {
     "name": "stdout",
     "output_type": "stream",
     "text": [
      "请输入你想计算的数的个数，以回车结束3\n",
      "请输入一个不为0的整数，作为数的下限，以回车结束1\n",
      "请输入一个大于m的整数，作为数的上界，以回车结束100\n",
      "7.0710678118654755\n"
     ]
    }
   ],
   "source": [
    "#练习 1：写函数，求n个随机整数均值的平方根，整数范围在m与k之间（n,m,k由用户输入）。\n",
    "import random\n",
    "\n",
    "def root():\n",
    "    number = random.randint(m,k)\n",
    "    i = 0\n",
    "    total = 0\n",
    "    average = 0\n",
    "    while i < n:\n",
    "        total += number\n",
    "        i += 1\n",
    "    else:\n",
    "        average = total / i\n",
    "    return average**0.5\n",
    "        \n",
    "n = int(input('请输入你想计算的数的个数，以回车结束'))\n",
    "m = int(input('请输入一个不为0的整数，作为数的下限，以回车结束'))\n",
    "k = int(input('请输入一个大于m的整数，作为数的上界，以回车结束'))\n",
    "\n",
    "print(root())"
   ]
  },
  {
   "cell_type": "code",
   "execution_count": 10,
   "metadata": {},
   "outputs": [
    {
     "name": "stdout",
     "output_type": "stream",
     "text": [
      "请输入你想计算的数的个数，以回车结束3\n",
      "请输入一个不为0的整数，作为数的下限，以回车结束1\n",
      "请输入一个大于m的整数，作为数的上界，以回车结束100\n",
      "13.565365731147121\n",
      "0.7835677696926726\n"
     ]
    }
   ],
   "source": [
    "#练习 2：写函数，共n个随机整数，整数范围在m与k之间，（n,m,k由用户输入）。求1：西格玛log(随机整数)，2：西格玛1/log(随机整数)\n",
    "import random,math\n",
    "\n",
    "def sigma_1(end):\n",
    "    number = random.randint(m,k)\n",
    "    i = 0\n",
    "    total = 0\n",
    "    while i < end:\n",
    "        total += math.log(number)\n",
    "        i += 1\n",
    "    return total\n",
    "\n",
    "def sigma_2(end):\n",
    "    number = random.randint(m,k)\n",
    "    i = 0\n",
    "    total = 0\n",
    "    while i < end:\n",
    "        total += 1 / math.log(number)\n",
    "        i += 1\n",
    "    return total\n",
    "\n",
    "n = int(input('请输入你想计算的数的个数，以回车结束'))\n",
    "m = int(input('请输入一个不为0的整数，作为数的下限，以回车结束'))\n",
    "k = int(input('请输入一个大于m的整数，作为数的上界，以回车结束'))\n",
    "\n",
    "print(sigma_1(n))\n",
    "print(sigma_2(n))"
   ]
  },
  {
   "cell_type": "code",
   "execution_count": 13,
   "metadata": {},
   "outputs": [
    {
     "name": "stdout",
     "output_type": "stream",
     "text": [
      "请输入你想计算的数的个数，以回车结束3\n",
      "46698\n"
     ]
    }
   ],
   "source": [
    "#练习 3：写函数，求s=a+aa+aaa+aaaa+aa...a的值，其中a是[1,9]之间的随机整数。例如2+22+222+2222+22222(此时共有5个数相加)，几个数相加由键盘输入。\n",
    "import random\n",
    "\n",
    "def s(end):\n",
    "    a = random.randint(1,9)\n",
    "    i = 0\n",
    "    total = 0\n",
    "    while i < end:\n",
    "        total += a\n",
    "        i += 1\n",
    "        a = a ** (i+1)\n",
    "    return total\n",
    "    \n",
    "n = int(input('请输入你想计算的数的个数，以回车结束'))\n",
    "\n",
    "print(s(n))"
   ]
  },
  {
   "cell_type": "code",
   "execution_count": 1,
   "metadata": {},
   "outputs": [
    {
     "name": "stdout",
     "output_type": "stream",
     "text": [
      "请输入一个大于0的整数，作为神秘整数的上界，回车结束。100\n",
      "4\n",
      "电脑猜的数是: 28\n",
      "一共可以猜 7 次\n",
      "电脑已经猜了 1 次\n",
      "抱歉你猜大了\n",
      "电脑猜的数是: 28\n",
      "一共可以猜 7 次\n",
      "电脑已经猜了 2 次\n",
      "抱歉你猜大了\n",
      "电脑猜的数是: 5\n",
      "一共可以猜 7 次\n",
      "电脑已经猜了 3 次\n",
      "抱歉你猜大了\n",
      "电脑猜的数是: 4\n",
      "一共可以猜 7 次\n",
      "电脑已经猜了 4 次\n",
      "恭喜你猜对了\n",
      "Win!\n",
      "None\n"
     ]
    }
   ],
   "source": [
    "#挑战性练习：仿照task5，将猜数游戏改成由用户随便选择一个整数，让计算机来猜测的猜数游戏，要求和task5中人猜测的方法类似，但是人机角色对换，由人来判断猜测是大、小还是相等，请写出完整的猜数游戏。\n",
    "import random, math\n",
    "\n",
    "def win():\n",
    "    print('Win!')\n",
    "    \n",
    "def lose():\n",
    "    print('Lose!')\n",
    "    \n",
    "def guess_game():\n",
    "    n = int(input('请输入一个大于0的整数，作为神秘整数的上界，回车结束。'))\n",
    "    number = random.randint(1,n)\n",
    "    max_times = math.ceil(math.log2(n))\n",
    "    guess_times = 0\n",
    "    print(number)\n",
    "    guess = random.randint(1,n)\n",
    "    print('电脑猜的数是:',guess)\n",
    "    L_number = n\n",
    "    S_number = 1\n",
    "    while guess_times < max_times:\n",
    "        guess_times += 1\n",
    "        print('一共可以猜', max_times, '次')\n",
    "        print('电脑已经猜了', guess_times, '次')\n",
    "        result = input('')\n",
    "        if result == '抱歉你猜大了':\n",
    "            L_number = guess\n",
    "            guess = random.randint(S_number,L_number)\n",
    "            print('电脑猜的数是:',guess)\n",
    "        elif result == '抱歉你猜小了':\n",
    "            S_number = guess\n",
    "            guess = random.randint(S_number,L_number)\n",
    "            print('电脑猜的数是:',guess)\n",
    "        else:\n",
    "            print(win())\n",
    "            break\n",
    "    else:\n",
    "        print('神秘数字是:',number)\n",
    "        lose()\n",
    "        \n",
    "guess_game()"
   ]
  }
 ],
 "metadata": {
  "kernelspec": {
   "display_name": "Python 3",
   "language": "python",
   "name": "python3"
  },
  "language_info": {
   "codemirror_mode": {
    "name": "ipython",
    "version": 3
   },
   "file_extension": ".py",
   "mimetype": "text/x-python",
   "name": "python",
   "nbconvert_exporter": "python",
   "pygments_lexer": "ipython3",
   "version": "3.6.2"
  }
 },
 "nbformat": 4,
 "nbformat_minor": 2
}
