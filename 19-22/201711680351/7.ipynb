{
 "cells": [
  {
   "cell_type": "code",
   "execution_count": 3,
   "metadata": {},
   "outputs": [
    {
     "name": "stdout",
     "output_type": "stream",
     "text": [
      "院学学科息信\n"
     ]
    }
   ],
   "source": [
    "#练习一：自己定义一个reverse(s)函数，功能返回字符串s的倒序字符串。\n",
    "def R(s):\n",
    "    for i in range(len(s)+1):\n",
    "        print(s[len(s)::-1])\n",
    "        return\n",
    "s = '信息科学学院'\n",
    "\n",
    "R(s)"
   ]
  },
  {
   "cell_type": "code",
   "execution_count": 9,
   "metadata": {},
   "outputs": [
    {
     "name": "stdout",
     "output_type": "stream",
     "text": [
      "请输入想打印的符号，回车结束*\n",
      "请输入想打印的行数，回车结束5\n",
      "---------------直角三角形---------------\n",
      "*\n",
      "***\n",
      "*****\n",
      "*******\n",
      "*********\n",
      "---------------等腰三角形---------------\n",
      "    *\n",
      "   ***\n",
      "  *****\n",
      " *******\n",
      "*********\n",
      "---------------反直角三角形---------------\n",
      "        *\n",
      "      ***\n",
      "    *****\n",
      "  *******\n",
      "*********\n"
     ]
    }
   ],
   "source": [
    "#练习二：写函数，根据给定符号和行数，打印相应直角三角形，等腰三角形及其他形式的三角形。\n",
    "def draw(symbol,row):\n",
    "    print('-'*15 + '直角三角形' + '-'*15)\n",
    "    for i in range(row):\n",
    "        print(symbol*(2*i+1))\n",
    "        \n",
    "    print('-'*15 + '等腰三角形' + '-'*15)\n",
    "    for i in range(1,row+1):\n",
    "        print(' '*(row-i) + symbol*(2*i-1))\n",
    "        \n",
    "    print('-'*15 + '反直角三角形' + '-'*15)\n",
    "    for i in range(1,row+1):\n",
    "        print(' '*2*(row-i)+ symbol*(2*i-1))\n",
    "        \n",
    "x = input('请输入想打印的符号，回车结束')\n",
    "n = int(input('请输入想打印的行数，回车结束'))\n",
    "draw(x,n)"
   ]
  },
  {
   "cell_type": "code",
   "execution_count": 23,
   "metadata": {},
   "outputs": [
    {
     "name": "stdout",
     "output_type": "stream",
     "text": [
      "请输入你想打印的符号，回车结束*\n",
      "请输入行数5\n",
      "---------------first---------------\n",
      "   *\n",
      "  ***\n",
      " *****\n",
      "*******\n",
      " *****\n",
      "  ***\n",
      "   *\n",
      "    \n",
      "---------------second---------------\n",
      "*****\n",
      "*****\n",
      "*****\n",
      "*****\n",
      "*****\n"
     ]
    }
   ],
   "source": [
    "#练习五：写函数，根据给定符号，打印各种菱形。\n",
    "def dia(s,row):\n",
    "    \n",
    "    print('-'*15 + 'first' + '-'*15)\n",
    "    for i in range(1,row):\n",
    "        print(' '*(row-1-i) + s*(2*i-1))\n",
    "    for j in range(row-2,-1,-1):\n",
    "        print(' '*(row-1-j) + s*(2*j-1))\n",
    "    print('-'*15 + 'second' + '-'*15)  \n",
    "    for i in range(row):\n",
    "        print(s*row)\n",
    "            \n",
    "symbol = input('请输入你想打印的符号，回车结束')\n",
    "rows = int(input('请输入行数'))\n",
    "dia(symbol,rows)"
   ]
  },
  {
   "cell_type": "code",
   "execution_count": null,
   "metadata": {
    "collapsed": true
   },
   "outputs": [],
   "source": []
  }
 ],
 "metadata": {
  "kernelspec": {
   "display_name": "Python 3",
   "language": "python",
   "name": "python3"
  },
  "language_info": {
   "codemirror_mode": {
    "name": "ipython",
    "version": 3
   },
   "file_extension": ".py",
   "mimetype": "text/x-python",
   "name": "python",
   "nbconvert_exporter": "python",
   "pygments_lexer": "ipython3",
   "version": "3.6.2"
  }
 },
 "nbformat": 4,
 "nbformat_minor": 2
}
