{
 "cells": [
  {
   "cell_type": "code",
   "execution_count": 11,
   "metadata": {},
   "outputs": [
    {
     "name": "stdout",
     "output_type": "stream",
     "text": [
      "请输入一个整数，以回车结束：5\n"
     ]
    },
    {
     "data": {
      "text/plain": [
       "35"
      ]
     },
     "execution_count": 11,
     "metadata": {},
     "output_type": "execute_result"
    }
   ],
   "source": [
    "#1.\n",
    "def sum_():\n",
    "    i = 0\n",
    "    num = 0\n",
    "    m = int(input('请输入一个整数，以回车结束：',))\n",
    "    list = []\n",
    "    for i in range(m):\n",
    "        i += 1\n",
    "        num += i\n",
    "        list.append(num)\n",
    "    \n",
    "    total = 0\n",
    "    for n in range(len(list)):\n",
    "            total += list[n]\n",
    "    return total\n",
    "\n",
    "sum_()\n"
   ]
  },
  {
   "cell_type": "code",
   "execution_count": 29,
   "metadata": {},
   "outputs": [
    {
     "name": "stdout",
     "output_type": "stream",
     "text": [
      "请输入一个符号，以回车结束：*\n",
      "请输入你想得到的行数，以回车结束:5\n",
      "*\n",
      "*\n",
      "*\n",
      "*\n",
      "*\n",
      "*\n"
     ]
    }
   ],
   "source": [
    "#2.\n",
    "def show():\n",
    "    x = input('请输入一个符号，以回车结束：')\n",
    "    n = int(input('请输入你想得到的行数，以回车结束:'))\n",
    "    i = 0\n",
    "    for i in range(n):\n",
    "        for j in range(0,i-1):\n",
    "            print(x,end='\\n')\n",
    "               \n",
    "show()"
   ]
  },
  {
   "cell_type": "code",
   "execution_count": null,
   "metadata": {
    "collapsed": true
   },
   "outputs": [],
   "source": [
    "#3.\n",
    "def output():\n",
    "    n = int(input('请输入一个正整数，以回车结束:'))\n",
    "    num = \n",
    "    list.append()\n"
   ]
  },
  {
   "cell_type": "code",
   "execution_count": null,
   "metadata": {
    "collapsed": true
   },
   "outputs": [],
   "source": [
    "#4.\n",
    "n = int(input('请输入队员个数，以回车结束:'))\n",
    "\n",
    "total = 0\n",
    "ave = 0\n",
    "i = 0 \n",
    "\n",
    "for i in range(n):\n",
    "    h = int(input('请依次输入队员的身高，以回车结束:'))\n",
    "    total += h\n",
    "\n",
    "ave = total/n\n",
    "print('平均身高为:',ave)\n",
    "\n",
    "while i < n:\n",
    "    i += 1\n",
    "    if h > ave:\n",
    "        print('高于平均值的身高为:',h)"
   ]
  },
  {
   "cell_type": "code",
   "execution_count": null,
   "metadata": {
    "collapsed": true
   },
   "outputs": [],
   "source": [
    "#5.\n",
    "import random\n",
    "\n",
    "c = 0\n",
    "for i in range(1,6):\n",
    "    m = randon.randint(0,10)\n",
    "    n = randon.randint(0,10)\n",
    "    r = int(input(m,'x',n,'='))\n",
    "    if r == m*n:\n",
    "        c == c+20\n",
    "    else:\n",
    "        c ==c\n",
    "        \n",
    "print(c)\n",
    "    "
   ]
  },
  {
   "cell_type": "code",
   "execution_count": null,
   "metadata": {
    "collapsed": true
   },
   "outputs": [],
   "source": [
    "#6 "
   ]
  },
  {
   "cell_type": "code",
   "execution_count": null,
   "metadata": {
    "collapsed": true
   },
   "outputs": [],
   "source": []
  }
 ],
 "metadata": {
  "kernelspec": {
   "display_name": "Python 3",
   "language": "python",
   "name": "python3"
  }
 },
 "nbformat": 4,
 "nbformat_minor": 2
}
