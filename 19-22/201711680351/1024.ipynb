{
 "cells": [
  {
   "cell_type": "code",
   "execution_count": 7,
   "metadata": {
    "collapsed": false
   },
   "outputs": [
    {
     "name": "stdout",
     "output_type": "stream",
     "text": [
      "请输入一个整数，回车结束1024\n",
      "37814\n"
     ]
    }
   ],
   "source": [
    "m = int(input('请输入一个整数，回车结束'))\n",
    "\n",
    "i = 1\n",
    "total = 0\n",
    "\n",
    "while i <= m:\n",
    "    i += 1\n",
    "    if i % 2 == 0 and i % 7 ==0:\n",
    "        total += i\n",
    "print(total)"
   ]
  }
 ],
 "metadata": {
  "kernelspec": {
   "display_name": "Python 3",
   "language": "python",
   "name": "python3"
  },
  "language_info": {
   "codemirror_mode": {
    "name": "ipython",
    "version": 3
   },
   "file_extension": ".py",
   "mimetype": "text/x-python",
   "name": "python",
   "nbconvert_exporter": "python",
   "pygments_lexer": "ipython3",
   "version": "3.6.0"
  }
 },
 "nbformat": 4,
 "nbformat_minor": 2
}
