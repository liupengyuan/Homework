{
 "cells": [
  {
   "cell_type": "code",
   "execution_count": 6,
   "metadata": {},
   "outputs": [
    {
     "name": "stdout",
     "output_type": "stream",
     "text": [
      "1\n",
      "2\n",
      "3\n",
      "4\n",
      "5\n",
      "6\n",
      "7\n",
      "8\n",
      "9\n",
      "10\n"
     ]
    }
   ],
   "source": [
    "import random\n",
    "def get_i(x):\n",
    "    fh = open(r'd:\\temp\\idioms.txt')\n",
    "    text = fh.read()\n",
    "    text = text.replace('\\n','')\n",
    "    text = text.replace('、','')\n",
    "\n",
    "    idioms = []\n",
    "    for i in range(n*10):\n",
    "        idiom = random.choice(text)\n",
    "        idioms.append(idiom)\n",
    "    \n",
    "    m = str(n)\n",
    "    fh = open(r'd:\\temp\\ '+ m +'.txt' , 'w' )\n",
    "    fh.write(''.join(idioms))\n",
    "    fh.close()\n",
    "\n",
    "for i in range(1,11):        \n",
    "    n = int(input())\n",
    "    get_i(n)"
   ]
  }
 ],
 "metadata": {
  "kernelspec": {
   "display_name": "Python 3",
   "language": "python",
   "name": "python3"
  },
  "language_info": {
   "codemirror_mode": {
    "name": "ipython",
    "version": 3
   },
   "file_extension": ".py",
   "mimetype": "text/x-python",
   "name": "python",
   "nbconvert_exporter": "python",
   "pygments_lexer": "ipython3",
   "version": "3.6.2"
  }
 },
 "nbformat": 4,
 "nbformat_minor": 2
}
