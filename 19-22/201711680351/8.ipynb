{
 "cells": [
  {
   "cell_type": "code",
   "execution_count": 1,
   "metadata": {
    "scrolled": true
   },
   "outputs": [
    {
     "name": "stdout",
     "output_type": "stream",
     "text": [
      "机器人给出的成语是： 金风玉露\n",
      "请用户接一个成语，回车结束:露头露脑\n",
      "游戏结束，机器人得分： 0 用户得分： 10\n"
     ]
    }
   ],
   "source": [
    "import random\n",
    " \n",
    "with open(r'c:\\temp\\成语大全.txt') as fh:\n",
    "    text = fh.read()\n",
    "text = text.replace('、','')\n",
    "idioms = text.split('\\n')\n",
    "\n",
    "def play():  \n",
    "    R_idiom = random.choice(idioms)\n",
    "    print('机器人给出的成语是：',R_idiom)\n",
    "\n",
    "    scoreR = 0 \n",
    "    scoreH = 0\n",
    "    \n",
    "    while scoreR >= 0:\n",
    "        H_idiom = input('请用户接一个成语，回车结束:')\n",
    "        \n",
    "        if H_idiom[0] == R_idiom[len(R_idiom)-1]:\n",
    "            scoreH += 10\n",
    "        \n",
    "        for ch in idioms:\n",
    "            R_idiom = random.choice(idioms)\n",
    "            if R_idiom[0] == H_idiom[len(H_idiom)-1]:\n",
    "                scoreR += 10\n",
    "                print('机器人给出的成语是：',R_idiom)\n",
    "                break\n",
    "        else:\n",
    "            print('游戏结束，机器人得分：',scoreR,'用户得分：',scoreH)\n",
    "            break\n",
    "play()"
   ]
  }
 ],
 "metadata": {
  "kernelspec": {
   "display_name": "Python 3",
   "language": "python",
   "name": "python3"
  },
  "language_info": {
   "codemirror_mode": {
    "name": "ipython",
    "version": 3
   },
   "file_extension": ".py",
   "mimetype": "text/x-python",
   "name": "python",
   "nbconvert_exporter": "python",
   "pygments_lexer": "ipython3",
   "version": "3.6.2"
  }
 },
 "nbformat": 4,
 "nbformat_minor": 2
}
