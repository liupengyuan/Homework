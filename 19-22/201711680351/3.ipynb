{
 "cells": [
  {
   "cell_type": "code",
   "execution_count": 3,
   "metadata": {},
   "outputs": [
    {
     "name": "stdout",
     "output_type": "stream",
     "text": [
      "请输入你的姓名，回车结束Maggie\n",
      "请输入你的生日，回车结束10.04\n",
      "Maggie 你是纠结爱美的天秤座！\n"
     ]
    }
   ],
   "source": [
    "name = input('请输入你的姓名，回车结束')\n",
    "B = float(input('请输入你的生日，回车结束'))\n",
    "\n",
    "if 3.21 < B < 4.19:\n",
    "    print(name,'你是非常热情的白羊座！')\n",
    "elif 4.20 < B < 5.20:\n",
    "    print(name,'你是肥肠爱钱的金牛座！')\n",
    "elif 5.21 < B < 6.21:\n",
    "    print(name,'你是双重性格的双子座！')\n",
    "elif 6.22 < B < 7.22:\n",
    "    print(name,'你是温柔善良的巨蟹座！')\n",
    "elif 7.23 < B < 8.22:\n",
    "    print(name,'你是霸气十足的狮子座！')\n",
    "elif 8.23 < B < 9.22:\n",
    "    print(name,'你是细腻强迫的处女座！')\n",
    "elif 9.23 < B < 10.23:\n",
    "    print(name,'你是纠结爱美的天秤座！')\n",
    "elif 10.24 < B < 11.22:\n",
    "    print(name,'你是直截了当的天蝎座！')\n",
    "elif 11.23 < B < 12.21:\n",
    "    print(name,'你是活力四射的射手座！')\n",
    "elif 12.22 < B < 1.19:\n",
    "    print(name,'你是。。。。的摩羯座！')\n",
    "elif 1.20 < B < 2.18:\n",
    "    print(name,'你是多变倔强的水瓶座！')\n",
    "else:\n",
    "    print(name,'你是心思细腻的双鱼座！')"
   ]
  },
  {
   "cell_type": "code",
   "execution_count": 16,
   "metadata": {},
   "outputs": [
    {
     "name": "stdout",
     "output_type": "stream",
     "text": [
      "请输入第一个整数，回车结束25\n",
      "请输入第二个整数，回车结束4\n",
      "请说出你想进行的运算，求和扣1，乘积扣2，求余数扣3，回车结束1\n",
      "29\n"
     ]
    }
   ],
   "source": [
    "m = int(input('请输入第一个整数，回车结束'))\n",
    "n = int(input('请输入第二个整数，回车结束'))\n",
    "O = int(input('请说出你想进行的运算，求和扣1，乘积扣2，求余数扣3，回车结束'))\n",
    "\n",
    "if 0 < O <= 1:\n",
    "    print(m + n)\n",
    "elif 1 < O < 2:\n",
    "    print(m * n)\n",
    "elif 2 < O < 3:\n",
    "    print(m % n) \n",
    "else:\n",
    "    print(m // n)"
   ]
  },
  {
   "cell_type": "code",
   "execution_count": 63,
   "metadata": {},
   "outputs": [
    {
     "name": "stdout",
     "output_type": "stream",
     "text": [
      "请输入一个英文动词的单数形式，回车结束reach\n",
      "reaches\n"
     ]
    }
   ],
   "source": [
    "x = input('请输入一个英文动词的单数形式，回车结束')\n",
    "if x.endswith('e'):\n",
    "    print(x.replace('e','es'))\n",
    "elif x.endswith('y'):\n",
    "    print(x.replace('y','ies'))\n",
    "else:\n",
    "    print(x+'es')"
   ]
  },
  {
   "cell_type": "code",
   "execution_count": 84,
   "metadata": {},
   "outputs": [
    {
     "name": "stdout",
     "output_type": "stream",
     "text": [
      "这是                                                                                                                             一个空行\n"
     ]
    }
   ],
   "source": [
    "print('这是','一个空行',sep = '                                                                                                                             ')"
   ]
  },
  {
   "cell_type": "code",
   "execution_count": 91,
   "metadata": {},
   "outputs": [
    {
     "name": "stdout",
     "output_type": "stream",
     "text": [
      "\n",
      "\n"
     ]
    }
   ],
   "source": [
    "print('\\n')"
   ]
  }
 ],
 "metadata": {
  "kernelspec": {
   "display_name": "Python 3",
   "language": "python",
   "name": "python3"
  },
  "language_info": {
   "codemirror_mode": {
    "name": "ipython",
    "version": 3
   },
   "file_extension": ".py",
   "mimetype": "text/x-python",
   "name": "python",
   "nbconvert_exporter": "python",
   "pygments_lexer": "ipython3",
   "version": "3.6.2"
  }
 },
 "nbformat": 4,
 "nbformat_minor": 2
}
