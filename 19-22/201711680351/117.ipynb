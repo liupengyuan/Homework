{
 "cells": [
  {
   "cell_type": "code",
   "execution_count": 15,
   "metadata": {},
   "outputs": [
    {
     "name": "stdout",
     "output_type": "stream",
     "text": [
      "请输入你希望得到的数的个数，以回车结束5\n",
      "请输入第一个整数，以回车结束10\n",
      "请输入第二个整数，以回车结束500\n",
      "42.5440947723653\n"
     ]
    }
   ],
   "source": [
    "import random\n",
    "\n",
    "def count():\n",
    "    number = random.randint(n,k)\n",
    "    i = 1\n",
    "    total = 0\n",
    "    while i <= m:\n",
    "        total += number\n",
    "        i += 1\n",
    "    else:\n",
    "        return total**0.5\n",
    "        \n",
    "m = int(input('请输入你希望得到的数的个数，以回车结束'))\n",
    "n = int(input('请输入第一个整数，以回车结束'))\n",
    "k = int(input('请输入第二个整数，以回车结束'))    \n",
    "\n",
    "print(count())"
   ]
  }
 ],
 "metadata": {
  "kernelspec": {
   "display_name": "Python 3",
   "language": "python",
   "name": "python3"
  },
  "language_info": {
   "codemirror_mode": {
    "name": "ipython",
    "version": 3
   },
   "file_extension": ".py",
   "mimetype": "text/x-python",
   "name": "python",
   "nbconvert_exporter": "python",
   "pygments_lexer": "ipython3",
   "version": "3.6.2"
  }
 },
 "nbformat": 4,
 "nbformat_minor": 2
}
