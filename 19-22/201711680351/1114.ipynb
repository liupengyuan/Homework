{
 "cells": [
  {
   "cell_type": "code",
   "execution_count": 4,
   "metadata": {},
   "outputs": [
    {
     "name": "stdout",
     "output_type": "stream",
     "text": [
      "最大值是： 899\n",
      "最小值是： -10\n",
      "平均值是： 106.72999999999999\n",
      "None\n"
     ]
    }
   ],
   "source": [
    "#写函数，返回一个list中的最大值，最小值，平均值。（不用内置的求和求函数）\n",
    "numbers = [1,2,-1,55,100,899,-10,3,12.5,5.8]\n",
    "\n",
    "def out(numbers):\n",
    "    i = 0\n",
    "    max_ = numbers[i]\n",
    "    min_ = numbers[i]\n",
    "    total = 0\n",
    "    \n",
    "    for n in numbers:\n",
    "        total += n\n",
    "            \n",
    "    while i < len(numbers)-1: \n",
    "        i += 1\n",
    "        if numbers[i] > max_:\n",
    "            max_ = numbers[i]\n",
    "        elif numbers[i] < min_:\n",
    "            min_ = numbers[i]\n",
    "            \n",
    "    print('最大值是：',max_)\n",
    "    print('最小值是：',min_)\n",
    "    print('平均值是：',total/len(numbers))\n",
    "            \n",
    "\n",
    "print(out(numbers))"
   ]
  }
 ],
 "metadata": {
  "kernelspec": {
   "display_name": "Python 3",
   "language": "python",
   "name": "python3"
  },
  "language_info": {
   "codemirror_mode": {
    "name": "ipython",
    "version": 3
   },
   "file_extension": ".py",
   "mimetype": "text/x-python",
   "name": "python",
   "nbconvert_exporter": "python",
   "pygments_lexer": "ipython3",
   "version": "3.6.2"
  }
 },
 "nbformat": 4,
 "nbformat_minor": 2
}
