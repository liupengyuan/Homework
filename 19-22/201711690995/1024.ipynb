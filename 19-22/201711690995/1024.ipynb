{
 "cells": [
  {
   "cell_type": "code",
   "execution_count": 12,
   "metadata": {},
   "outputs": [
    {
     "name": "stdout",
     "output_type": "stream",
     "text": [
      "('满足要求的:', 299959)\n"
     ]
    }
   ],
   "source": [
    "# 计算从【1，1024】的所有能够被7整除的偶数的和\n",
    "i=1\n",
    "total=0\n",
    "\n",
    "while i<=1024:\n",
    "    i=i+1\n",
    "    if i%7==0 or i%2==0:\n",
    "        total=total+i\n",
    "    \n",
    "print(('满足要求的:',total))"
   ]
  },
  {
   "cell_type": "code",
   "execution_count": 6,
   "metadata": {},
   "outputs": [
    {
     "ename": "SyntaxError",
     "evalue": "invalid syntax (<ipython-input-6-164adfc0fb9f>, line 7)",
     "output_type": "error",
     "traceback": [
      "\u001b[1;36m  File \u001b[1;32m\"<ipython-input-6-164adfc0fb9f>\"\u001b[1;36m, line \u001b[1;32m7\u001b[0m\n\u001b[1;33m    if i%7==0 and i%2==0\u001b[0m\n\u001b[1;37m                        ^\u001b[0m\n\u001b[1;31mSyntaxError\u001b[0m\u001b[1;31m:\u001b[0m invalid syntax\n"
     ]
    }
   ],
   "source": [
    "# 计算从【1，1024】的所有能够被7整除的偶数的和\n",
    "i=1\n",
    "total=0\n",
    "\n",
    "while i<=1024:\n",
    "    i=i+1\n",
    "    if i%7==0 and i%2==0\n",
    "        total=total+i\n",
    "    \n",
    "print(('满足要求的:',total))"
   ]
  },
  {
   "cell_type": "code",
   "execution_count": 9,
   "metadata": {},
   "outputs": [
    {
     "name": "stdout",
     "output_type": "stream",
     "text": [
      "37814\n"
     ]
    }
   ],
   "source": [
    "# 计算从【1，1024】的所有能够被7整除的偶数的和\n",
    "i=1\n",
    "total=0\n",
    "while i<=1024:\n",
    "    if i%7==0 and i%2==0:\n",
    "        total=total+i\n",
    "    i=i+1\n",
    "print(total)"
   ]
  },
  {
   "cell_type": "code",
   "execution_count": null,
   "metadata": {
    "collapsed": true
   },
   "outputs": [],
   "source": []
  }
 ],
 "metadata": {
  "kernelspec": {
   "display_name": "Python 3",
   "language": "python",
   "name": "python3"
  },
  "language_info": {
   "codemirror_mode": {
    "name": "ipython",
    "version": 3
   },
   "file_extension": ".py",
   "mimetype": "text/x-python",
   "name": "python",
   "nbconvert_exporter": "python",
   "pygments_lexer": "ipython3",
   "version": "3.6.2"
  }
 },
 "nbformat": 4,
 "nbformat_minor": 2
}
