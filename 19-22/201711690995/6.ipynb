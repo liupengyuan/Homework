{
 "cells": [
  {
   "cell_type": "code",
   "execution_count": 1,
   "metadata": {},
   "outputs": [
    {
     "data": {
      "text/plain": [
       "(106.72999999999999, 899, 1)"
      ]
     },
     "execution_count": 1,
     "metadata": {},
     "output_type": "execute_result"
    }
   ],
   "source": [
    "# 1114练习\n",
    "\n",
    "def fx(): \n",
    "    j = 0\n",
    "    m=0\n",
    "    min_number = max_number= numbers[0]\n",
    "    for j in range(len(numbers)):\n",
    "        m=m+ numbers[j]\n",
    "    for number in numbers:\n",
    "        if number> max_number:\n",
    "            max_number = number\n",
    "    for number in numbers:\n",
    "        if number<min_number:\n",
    "            min_number = number\n",
    "            \n",
    "        return m/(len(numbers)),max_number,min_number\n",
    "\n",
    "# 主程序\n",
    "numbers = [1,2,-1,55,100,899,-10,3,12.5,5.8]\n",
    "fx()"
   ]
  },
  {
   "cell_type": "code",
   "execution_count": 2,
   "metadata": {},
   "outputs": [
    {
     "name": "stdout",
     "output_type": "stream",
     "text": [
      "0.9338757164610193\n",
      "-1\n"
     ]
    }
   ],
   "source": [
    "# 写函数，返回某个元素/对象在一个list中的位置，如果不在，则返回-1.\n",
    "import random\n",
    "\n",
    "def fx():\n",
    "    number = random.random()\n",
    "    print(number)\n",
    "    if number in numbers:\n",
    "        return number\n",
    "    else:\n",
    "        return -1\n",
    "\n",
    "# 主程序\n",
    "numbers =[0,1,2,3,4,5,6,7,8,9]\n",
    "print(fx())"
   ]
  },
  {
   "cell_type": "code",
   "execution_count": 5,
   "metadata": {},
   "outputs": [
    {
     "name": "stdout",
     "output_type": "stream",
     "text": [
      "1 5\n",
      "2 6\n",
      "3 7\n",
      "4 8\n"
     ]
    }
   ],
   "source": [
    "#  写函数，可将两个相同长度的list，间隔插入，生成新的list。例如：给两个list，a=[1,2,3,4], b=[5,6,7,8]。则可以生成：[1,5,2,6,3,7,4,8]。\n",
    "\n",
    "numbers_a=[1,2,3,4]\n",
    "numbers_b=[5,6,7,8]\n",
    "i = 0\n",
    "while i<len(numbers_a):\n",
    "    for number in numbers_a,numbers_b:\n",
    "        number=numbers_a[i],numbers_b[i]       \n",
    "        if i%2 == 0 :\n",
    "            print(numbers_a[i],numbers_b[i])\n",
    "            i=i+1\n",
    "        if  i%2 != 0 :\n",
    "            print(numbers_a[i],numbers_b[i])\n",
    "            i=i+1\n",
    "        "
   ]
  },
  {
   "cell_type": "code",
   "execution_count": 6,
   "metadata": {},
   "outputs": [
    {
     "data": {
      "text/plain": [
       "[1, 5, 2, 6, 3, 7, 4, 8]"
      ]
     },
     "execution_count": 6,
     "metadata": {},
     "output_type": "execute_result"
    }
   ],
   "source": [
    "#  写函数，可将两个相同长度的list，间隔插入，生成新的list。例如：给两个list，a=[1,2,3,4], b=[5,6,7,8]。则可以生成：[1,5,2,6,3,7,4,8]。\n",
    "def f():\n",
    "    i = 0\n",
    "    c=[]\n",
    "    while i<len(a):\n",
    "        c.append(a[i])\n",
    "        c.append(b[i])\n",
    "        i+=1\n",
    "    return c\n",
    "                \n",
    "# 主程序\n",
    "a=[1,2,3,4]\n",
    "b=[5,6,7,8]\n",
    "f()"
   ]
  },
  {
   "cell_type": "code",
   "execution_count": 11,
   "metadata": {},
   "outputs": [
    {
     "name": "stdout",
     "output_type": "stream",
     "text": [
      "请依次输入第一个向量的坐标3\n",
      "请依次输入第二个向量的坐标34\n",
      "请依次输入第一个向量的坐标2\n",
      "请依次输入第二个向量的坐标1\n"
     ]
    },
    {
     "data": {
      "text/plain": [
       "0.9668668267523491"
      ]
     },
     "execution_count": 11,
     "metadata": {},
     "output_type": "execute_result"
    }
   ],
   "source": [
    "# 写函数，可求两个向量的夹角余弦值，向量可放在list中。主程序调用该函数.\n",
    "def cos():\n",
    "    x=[]\n",
    "    y=[]\n",
    "    i=0\n",
    "    while i<2:\n",
    "        n = int(input('请依次输入第一个向量的坐标'))\n",
    "        x.append(n)\n",
    "        m = int(input('请依次输入第二个向量的坐标'))\n",
    "        y.append(m)\n",
    "        i += 1\n",
    "    cos = (x[0]*y[0]+x[1]*y[1])/((x[0]**2+y[1]**2)**(1/2)*(y[0]**2+y[1]**2)**(1/2))\n",
    "    return cos\n",
    "cos()"
   ]
  },
  {
   "cell_type": "code",
   "execution_count": null,
   "metadata": {
    "collapsed": true
   },
   "outputs": [],
   "source": []
  }
 ],
 "metadata": {
  "kernelspec": {
   "display_name": "Python 3",
   "language": "python",
   "name": "python3"
  },
  "language_info": {
   "codemirror_mode": {
    "name": "ipython",
    "version": 3
   },
   "file_extension": ".py",
   "mimetype": "text/x-python",
   "name": "python",
   "nbconvert_exporter": "python",
   "pygments_lexer": "ipython3",
   "version": "3.6.2"
  }
 },
 "nbformat": 4,
 "nbformat_minor": 2
}
