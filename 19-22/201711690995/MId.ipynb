{
 "cells": [
  {
   "cell_type": "code",
   "execution_count": 1,
   "metadata": {},
   "outputs": [
    {
     "name": "stdout",
     "output_type": "stream",
     "text": [
      "请输入要输入数字的个数，以回车键结束。34\n"
     ]
    },
    {
     "data": {
      "text/plain": [
       "7174"
      ]
     },
     "execution_count": 1,
     "metadata": {},
     "output_type": "execute_result"
    }
   ],
   "source": [
    "# 1，写函数，参数为m,可求1+3+6+10+……共m项的和。、\n",
    "def fx():\n",
    "    i=0\n",
    "    j=1\n",
    "    total=0\n",
    "    while i< m:\n",
    "        i=i+1\n",
    "        j=j+i\n",
    "        total=total+j\n",
    "    return total\n",
    "# 主程序\n",
    "m=int(input('请输入要输入数字的个数，以回车键结束。'))\n",
    "fx()\n",
    "        "
   ]
  },
  {
   "cell_type": "code",
   "execution_count": 36,
   "metadata": {},
   "outputs": [
    {
     "name": "stdout",
     "output_type": "stream",
     "text": [
      "请输入要输出的行数，以回车键结束。89\n"
     ]
    },
    {
     "ename": "IndexError",
     "evalue": "list index out of range",
     "output_type": "error",
     "traceback": [
      "\u001b[1;31m---------------------------------------------------------------------------\u001b[0m",
      "\u001b[1;31mIndexError\u001b[0m                                Traceback (most recent call last)",
      "\u001b[1;32m<ipython-input-36-3ee2886bf904>\u001b[0m in \u001b[0;36m<module>\u001b[1;34m()\u001b[0m\n\u001b[0;32m      9\u001b[0m \u001b[0mnumbers\u001b[0m\u001b[1;33m=\u001b[0m\u001b[1;33m[\u001b[0m\u001b[1;33m]\u001b[0m\u001b[1;33m\u001b[0m\u001b[0m\n\u001b[0;32m     10\u001b[0m \u001b[0mm\u001b[0m\u001b[1;33m=\u001b[0m\u001b[0mint\u001b[0m\u001b[1;33m(\u001b[0m\u001b[0minput\u001b[0m\u001b[1;33m(\u001b[0m\u001b[1;34m'请输入要输出的行数，以回车键结束。'\u001b[0m\u001b[1;33m)\u001b[0m\u001b[1;33m)\u001b[0m\u001b[1;33m\u001b[0m\u001b[0m\n\u001b[1;32m---> 11\u001b[1;33m \u001b[0mfx\u001b[0m\u001b[1;33m(\u001b[0m\u001b[1;33m)\u001b[0m\u001b[1;33m\u001b[0m\u001b[0m\n\u001b[0m",
      "\u001b[1;32m<ipython-input-36-3ee2886bf904>\u001b[0m in \u001b[0;36mfx\u001b[1;34m()\u001b[0m\n\u001b[0;32m      3\u001b[0m     \u001b[0mi\u001b[0m\u001b[1;33m=\u001b[0m\u001b[1;36m0\u001b[0m\u001b[1;33m\u001b[0m\u001b[0m\n\u001b[0;32m      4\u001b[0m     \u001b[1;32mwhile\u001b[0m \u001b[0mi\u001b[0m\u001b[1;33m<\u001b[0m\u001b[0mm\u001b[0m\u001b[1;33m:\u001b[0m\u001b[1;33m\u001b[0m\u001b[0m\n\u001b[1;32m----> 5\u001b[1;33m         \u001b[0mprint\u001b[0m\u001b[1;33m(\u001b[0m\u001b[0mnumbers\u001b[0m\u001b[1;33m[\u001b[0m\u001b[0mi\u001b[0m\u001b[1;33m]\u001b[0m\u001b[1;33m)\u001b[0m\u001b[1;33m\u001b[0m\u001b[0m\n\u001b[0m\u001b[0;32m      6\u001b[0m         \u001b[0mi\u001b[0m\u001b[1;33m=\u001b[0m\u001b[0mi\u001b[0m\u001b[1;33m+\u001b[0m\u001b[1;36m1\u001b[0m\u001b[1;33m\u001b[0m\u001b[0m\n\u001b[0;32m      7\u001b[0m \u001b[1;33m\u001b[0m\u001b[0m\n",
      "\u001b[1;31mIndexError\u001b[0m: list index out of range"
     ]
    }
   ],
   "source": [
    "# 2,写函数，有两个形式的参数，分别如符号和行数，可打印多行字符三角形。如主程序给定：’*‘，5调用该函数，可打印相应函数的图形。\n",
    "def fx():\n",
    "    i=0\n",
    "    while i<m:\n",
    "        print(numbers[i])\n",
    "        i=i+1\n",
    "    \n",
    "# 主程序\n",
    "numbers=[]\n",
    "m=int(input('请输入要输出的行数，以回车键结束。'))\n",
    "fx()"
   ]
  },
  {
   "cell_type": "code",
   "execution_count": 26,
   "metadata": {},
   "outputs": [
    {
     "name": "stdout",
     "output_type": "stream",
     "text": [
      "1\n",
      "11\n",
      "111\n",
      "1111\n",
      "11111\n"
     ]
    }
   ],
   "source": [
    "# 2,写函数，有两个形式的参数，分别如符号和行数，可打印多行字符三角形。如主程序给定：’*‘，5调用该函数，可打印相应函数的图形。\n",
    "def fx():\n",
    "    i=0\n",
    "    while i<5:\n",
    "        print(numbers[i])\n",
    "        i=i+1\n",
    "    \n",
    "# 主程序\n",
    "numbers=[1,11,111,1111,11111]\n",
    "fx()"
   ]
  },
  {
   "cell_type": "code",
   "execution_count": 28,
   "metadata": {},
   "outputs": [
    {
     "name": "stdout",
     "output_type": "stream",
     "text": [
      "请输入任意一个正整数，以回车键结束。89045\n"
     ]
    },
    {
     "ename": "AttributeError",
     "evalue": "'str' object has no attribute 'append'",
     "output_type": "error",
     "traceback": [
      "\u001b[1;31m---------------------------------------------------------------------------\u001b[0m",
      "\u001b[1;31mAttributeError\u001b[0m                            Traceback (most recent call last)",
      "\u001b[1;32m<ipython-input-28-7ffca415cab9>\u001b[0m in \u001b[0;36m<module>\u001b[1;34m()\u001b[0m\n\u001b[0;32m      8\u001b[0m \u001b[1;31m# 主程序\u001b[0m\u001b[1;33m\u001b[0m\u001b[1;33m\u001b[0m\u001b[0m\n\u001b[0;32m      9\u001b[0m \u001b[0mm\u001b[0m \u001b[1;33m=\u001b[0m \u001b[0minput\u001b[0m\u001b[1;33m(\u001b[0m\u001b[1;34m'请输入任意一个正整数，以回车键结束。'\u001b[0m\u001b[1;33m)\u001b[0m\u001b[1;33m\u001b[0m\u001b[0m\n\u001b[1;32m---> 10\u001b[1;33m \u001b[0mfx\u001b[0m\u001b[1;33m(\u001b[0m\u001b[1;33m)\u001b[0m\u001b[1;33m\u001b[0m\u001b[0m\n\u001b[0m\u001b[0;32m     11\u001b[0m \u001b[1;33m\u001b[0m\u001b[0m\n\u001b[0;32m     12\u001b[0m \u001b[1;33m\u001b[0m\u001b[0m\n",
      "\u001b[1;32m<ipython-input-28-7ffca415cab9>\u001b[0m in \u001b[0;36mfx\u001b[1;34m()\u001b[0m\n\u001b[0;32m      3\u001b[0m     \u001b[0mi\u001b[0m\u001b[1;33m=\u001b[0m\u001b[1;36m0\u001b[0m\u001b[1;33m\u001b[0m\u001b[0m\n\u001b[0;32m      4\u001b[0m     \u001b[1;32mwhile\u001b[0m \u001b[0mi\u001b[0m\u001b[1;33m<\u001b[0m\u001b[0mlen\u001b[0m\u001b[1;33m(\u001b[0m\u001b[0mm\u001b[0m\u001b[1;33m)\u001b[0m\u001b[1;33m:\u001b[0m\u001b[1;33m\u001b[0m\u001b[0m\n\u001b[1;32m----> 5\u001b[1;33m         \u001b[0mnum\u001b[0m \u001b[1;33m=\u001b[0m \u001b[0mm\u001b[0m\u001b[1;33m.\u001b[0m\u001b[0mappend\u001b[0m\u001b[1;33m(\u001b[0m\u001b[0mi\u001b[0m\u001b[1;33m)\u001b[0m\u001b[1;33m\u001b[0m\u001b[0m\n\u001b[0m\u001b[0;32m      6\u001b[0m     \u001b[0mprint\u001b[0m\u001b[1;33m(\u001b[0m\u001b[0mm\u001b[0m\u001b[1;33m.\u001b[0m\u001b[0mappend\u001b[0m\u001b[1;33m(\u001b[0m\u001b[1;36m0\u001b[0m\u001b[1;33m)\u001b[0m\u001b[1;33m)\u001b[0m\u001b[1;33m\u001b[0m\u001b[0m\n\u001b[0;32m      7\u001b[0m \u001b[1;33m\u001b[0m\u001b[0m\n",
      "\u001b[1;31mAttributeError\u001b[0m: 'str' object has no attribute 'append'"
     ]
    }
   ],
   "source": [
    "# 3,写函数，参数为任意正整数，函数能够给出其第一位数，如：4567890，则函数给出4.\n",
    "def fx():\n",
    "    i=0\n",
    "    while i<len(m):\n",
    "        num = m.append(i)\n",
    "    print(m.append(0))\n",
    "    \n",
    "# 主程序\n",
    "m = input('请输入任意一个正整数，以回车键结束。')\n",
    "fx()\n",
    "    \n",
    "\n",
    "\n"
   ]
  },
  {
   "cell_type": "code",
   "execution_count": 11,
   "metadata": {},
   "outputs": [
    {
     "name": "stdout",
     "output_type": "stream",
     "text": [
      "181.11111111111111\n",
      "183\n",
      "185\n",
      "183\n",
      "187\n",
      "190\n"
     ]
    }
   ],
   "source": [
    "# 4，身高分别为：183，185，183，187，178，175，177，190，172.编程求各位队员身高的平均值和高于平均值的身高。\n",
    "numbers=[183,185,183,187,178,175,177,190,172]\n",
    "i=1\n",
    "total=0\n",
    "\n",
    "for i in range(len(numbers)):\n",
    "    total=total+numbers[i]\n",
    "    n=total/len(numbers)\n",
    "print(n)\n",
    "for i in range(len(numbers)):\n",
    "    if numbers[i]>n:\n",
    "        print(numbers[i])\n",
    "    \n",
    "    \n",
    "    "
   ]
  },
  {
   "cell_type": "code",
   "execution_count": 2,
   "metadata": {},
   "outputs": [
    {
     "name": "stdout",
     "output_type": "stream",
     "text": [
      "0\n",
      "4\n",
      "请输入你计算的结果，以回车键结束。12\n",
      "8\n",
      "3\n",
      "请输入你计算的结果，以回车键结束。12\n",
      "8\n",
      "0\n",
      "请输入你计算的结果，以回车键结束。8\n",
      "8\n",
      "1\n",
      "请输入你计算的结果，以回车键结束。12\n",
      "9\n",
      "8\n",
      "请输入你计算的结果，以回车键结束。12\n"
     ]
    },
    {
     "data": {
      "text/plain": [
       "20"
      ]
     },
     "execution_count": 2,
     "metadata": {},
     "output_type": "execute_result"
    }
   ],
   "source": [
    "# 5,计算机随机出5道加数与被加数均在10以内的加法题目，用户在键盘内输入计算结果，答对一题得20分，打错不得分，最后输出最终得分。\n",
    "import random\n",
    "def fx():\n",
    "    i=0\n",
    "    total=0\n",
    "    while i<5:\n",
    "        a=random.randint(0,11)\n",
    "        print(a)\n",
    "        b=random.randint(0,11)\n",
    "        print(b)\n",
    "        c=a+b\n",
    "        M =int(input('请输入你计算的结果，以回车键结束。'))\n",
    "        i=i+1\n",
    "        if M==c:\n",
    "            DF =20\n",
    "        else:\n",
    "            DF =0\n",
    "        total = total+DF\n",
    "    return total\n",
    "fx()\n",
    "        "
   ]
  },
  {
   "cell_type": "code",
   "execution_count": 18,
   "metadata": {},
   "outputs": [
    {
     "data": {
      "text/plain": [
       "(108, [3, -5, 108, 34, -76, 88], -76)"
      ]
     },
     "execution_count": 18,
     "metadata": {},
     "output_type": "execute_result"
    }
   ],
   "source": [
    "# 6,编程实现，将一个系列的最大值排在序列首位，最小值排在序列末尾。测试序列[3,-5,108,34,-76,88].\n",
    "def fx():\n",
    "    i=0\n",
    "    max_num=min_num=numbers[0]\n",
    "    \n",
    "    for i in range(len(numbers)):\n",
    "        if numbers[i]>max_num:\n",
    "            max_num=numbers[i]\n",
    "        if numbers[i]<min_num:\n",
    "            min_num=numbers[i]\n",
    "    return max_num,numbers,min_num\n",
    "\n",
    "numbers = [3,-5,108,34,-76,88]\n",
    "fx()\n",
    "        "
   ]
  },
  {
   "cell_type": "code",
   "execution_count": null,
   "metadata": {
    "collapsed": true
   },
   "outputs": [],
   "source": []
  }
 ],
 "metadata": {
  "kernelspec": {
   "display_name": "Python 3",
   "language": "python",
   "name": "python3"
  },
  "language_info": {
   "codemirror_mode": {
    "name": "ipython",
    "version": 3
   },
   "file_extension": ".py",
   "mimetype": "text/x-python",
   "name": "python",
   "nbconvert_exporter": "python",
   "pygments_lexer": "ipython3",
   "version": "3.6.2"
  }
 },
 "nbformat": 4,
 "nbformat_minor": 2
}
