{
 "cells": [
  {
   "cell_type": "code",
   "execution_count": 1,
   "metadata": {},
   "outputs": [
    {
     "name": "stdout",
     "output_type": "stream",
     "text": [
      "请输入你的名字，以回车结束。轰轰\n",
      "请输入你出生的月份和日期，例如1月1日输入为0101，以回车结束。1217\n",
      "轰轰 ，你是诚实乐观的射手座！\n"
     ]
    }
   ],
   "source": [
    "# 写程序，可由键盘读入用户姓名例如M，让用户输入出生的月份和日期，判断用户星座，假设用户是金牛座，则输出，M,你是非常有个性的金牛座！。\n",
    "m=input('请输入你的名字，以回车结束。')\n",
    "n=int(input('请输入你出生的月份和日期，例如1月1日输入为0101，以回车结束。')) \n",
    "if 120<=n<=218:\n",
    "    print(m,'，你是追求独一无二的水瓶座！')\n",
    "elif 219<=n<=320:\n",
    "    print(m,'，你是多重矛盾的双鱼座！')\n",
    "elif 321<=n<=419:\n",
    "    print(m,'，你是爱冒险的白羊座！')\n",
    "elif 420<=n<=520:\n",
    "    print(m,'，你是保守型的金牛座！')\n",
    "elif 521<=n<=620:\n",
    "    print(m,'，你是喜欢变化的双子座！')\n",
    "elif 621<=n<=722:\n",
    "    print(m,'，你是充满爱心的巨蟹座！')\n",
    "elif 723<=n<=822:\n",
    "    print(m,'，你是阳光自信的狮子座！')\n",
    "elif 823<=n<=922:\n",
    "    print(m,'，你是追求完美的处女座！')\n",
    "elif 923<=n<=1022:\n",
    "    print(m,'，你是亲切善良的天秤座！')\n",
    "elif 1023<=n<=1121:\n",
    "    print(m,'，你是神秘的天蝎座')\n",
    "elif 1122<=n<=1221:\n",
    "    print(m,'，你是诚实乐观的射手座！')\n",
    "elif n:\n",
    "    print(m,'，你是最有耐心的摩羯座！')\n"
   ]
  },
  {
   "cell_type": "code",
   "execution_count": 2,
   "metadata": {},
   "outputs": [
    {
     "ename": "SyntaxError",
     "evalue": "invalid character in identifier (<ipython-input-2-e6b2f3f71d04>, line 9)",
     "output_type": "error",
     "traceback": [
      "\u001b[1;36m  File \u001b[1;32m\"<ipython-input-2-e6b2f3f71d04>\"\u001b[1;36m, line \u001b[1;32m9\u001b[0m\n\u001b[1;33m    if X==2：\u001b[0m\n\u001b[1;37m           ^\u001b[0m\n\u001b[1;31mSyntaxError\u001b[0m\u001b[1;31m:\u001b[0m invalid character in identifier\n"
     ]
    }
   ],
   "source": [
    "# 写程序，可由键盘读入两个整数m与n（n不等于0），询问用户意图，如果要求和则计算从到n的和输出，如果要乘积则计算从m到n的积并输出，如果要求余数则计算m除以n的余数并输出，否则则计算m除以n的值并输出。\n",
    "   \n",
    "m=int(input('请输入一个整数，以回车结束。'))\n",
    "n=int(input('请输入一个不为零的整数，以回车结束'))\n",
    "total=0\n",
    "X=int(input('请输入指令数字'))\n",
    "if X==1:\n",
    "    total=total+m+n\n",
    "if X==2：\n",
    "    total=total+m*n\n",
    "if X==3：\n",
    "    total=total+m%n\n",
    "if X==4：\n",
    "    total=total+m/n\n",
    "print('total')"
   ]
  },
  {
   "cell_type": "code",
   "execution_count": 3,
   "metadata": {},
   "outputs": [
    {
     "name": "stdout",
     "output_type": "stream",
     "text": [
      "请输入一个英文单词的单数形式,以回车结束。eye\n",
      "复数形式：直接加\"s\"\n"
     ]
    }
   ],
   "source": [
    "# 英文单词单数转复数，要求输入一个英文动词（单数形式），能够得到其复数形式，或给出单数转复数形式的建议（提示，some_string.endswith(some_letter)函数可以判断某字符串结尾字符，可尝试运行：'myname'.endswith('me')，liupengyuan'.endswith('n')）。\n",
    "n=input('请输入一个英文单词的单数形式,以回车结束。')\n",
    "if n.endswith('f'):\n",
    "    print('复数形式：\"ves\"replace\"f\"')\n",
    "elif n:\n",
    "    print('复数形式：直接加\"s\"')"
   ]
  },
  {
   "cell_type": "code",
   "execution_count": 4,
   "metadata": {},
   "outputs": [
    {
     "name": "stdout",
     "output_type": "stream",
     "text": [
      "请输入一个英文单词的单数形式,以回车结束。knief\n",
      "复数形式：\"ves\"replace\"f\"\n"
     ]
    }
   ],
   "source": [
    "# 英文单词单数转复数，要求输入一个英文动词（单数形式），能够得到其复数形式，或给出单数转复数形式的建议（提示，some_string.endswith(some_letter)函数可以判断某字符串结尾字符，可尝试运行：'myname'.endswith('me')，liupengyuan'.endswith('n')）。\n",
    "n=input('请输入一个英文单词的单数形式,以回车结束。')\n",
    "if n.endswith('f'):\n",
    "    print('复数形式：\"ves\"replace\"f\"')\n",
    "elif n:\n",
    "    print('复数形式：直接加\"s\"')"
   ]
  },
  {
   "cell_type": "code",
   "execution_count": null,
   "metadata": {
    "collapsed": true
   },
   "outputs": [],
   "source": []
  }
 ],
 "metadata": {
  "kernelspec": {
   "display_name": "Python 3",
   "language": "python",
   "name": "python3"
  },
  "language_info": {
   "codemirror_mode": {
    "name": "ipython",
    "version": 3
   },
   "file_extension": ".py",
   "mimetype": "text/x-python",
   "name": "python",
   "nbconvert_exporter": "python",
   "pygments_lexer": "ipython3",
   "version": "3.6.2"
  }
 },
 "nbformat": 4,
 "nbformat_minor": 2
}
