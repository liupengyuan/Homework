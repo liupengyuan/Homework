{
 "cells": [
  {
   "cell_type": "code",
   "execution_count": 14,
   "metadata": {},
   "outputs": [
    {
     "name": "stdout",
     "output_type": "stream",
     "text": [
      "请任意给定一个符号，以回车键结束。*\n",
      "请输入要输出的行数，以回车键结束。4\n",
      "    * **** * \n",
      "   * **** * * **** * \n",
      "  * **** * * **** * * **** * \n",
      " * **** * * **** * * **** * * **** * \n",
      "* **** * * **** * * **** * * **** * * **** * \n"
     ]
    }
   ],
   "source": [
    "#1\n",
    "def triangle(symbol,row):\n",
    "    for i in range(0,row+1):\n",
    "        for p in range(0,row-i):\n",
    "            print(end=\" \" )\n",
    "        for q in range(row-i,row+1):\n",
    "            print(symbol,symbol*row,symbol,end=\" \")\n",
    "        print()\n",
    "        \n",
    "symbol=input('请任意给定一个符号，以回车键结束。')\n",
    "row=int(input('请输入要输出的行数，以回车键结束。'))\n",
    "triangle(symbol,row)\n",
    "        "
   ]
  },
  {
   "cell_type": "code",
   "execution_count": 25,
   "metadata": {},
   "outputs": [
    {
     "data": {
      "text/plain": [
       "125"
      ]
     },
     "execution_count": 25,
     "metadata": {},
     "output_type": "execute_result"
    }
   ],
   "source": [
    "#2\n",
    "def Ackermann(m,n):\n",
    "    if m == 0:\n",
    "        return n+1\n",
    "    elif m>0 and n==0:\n",
    "        return Ackermann(m-1,1)\n",
    "    elif m>0 and n>0:\n",
    "        return Ackermann(m-1,A(m,n-1))\n",
    "    \n",
    "Ackermann(3,4)\n"
   ]
  },
  {
   "cell_type": "code",
   "execution_count": 43,
   "metadata": {},
   "outputs": [
    {
     "name": "stdout",
     "output_type": "stream",
     "text": [
      "14 - 24 =\n",
      "11 / 10 =\n",
      "25 / 7 =\n",
      "9 / 3 =\n",
      "20 * 14 =\n",
      "10 - 20 =\n",
      "15 * 7 =\n",
      "12 - 21 =\n",
      "5 * 20 =\n",
      "13 * 9 =\n",
      "13 * 22 =\n",
      "11 - 5 =\n",
      "23 / 19 =\n",
      "9 + 5 =\n",
      "20 / 10 =\n"
     ]
    }
   ],
   "source": [
    "#3(a):\n",
    "import random\n",
    "def fx():\n",
    "    for i in range(0,15):\n",
    "        a=random.randint(3,25)\n",
    "        b=random.randint(3,25)\n",
    "        c=random.choice(line)\n",
    "        print(a,c,b,'=')\n",
    "    \n",
    "line=('+','-','*','/')\n",
    "fx()\n",
    "\n",
    "        "
   ]
  },
  {
   "cell_type": "code",
   "execution_count": 10,
   "metadata": {},
   "outputs": [
    {
     "name": "stdout",
     "output_type": "stream",
     "text": [
      "请根据所给题目写出你的答案，以回车键结束。1\n",
      "请根据所给题目写出你的答案，以回车键结束。1\n",
      "请根据所给题目写出你的答案，以回车键结束。1\n",
      "请根据所给题目写出你的答案，以回车键结束。1\n",
      "请根据所给题目写出你的答案，以回车键结束。1\n",
      "请根据所给题目写出你的答案，以回车键结束。1\n",
      "请根据所给题目写出你的答案，以回车键结束。1\n",
      "请根据所给题目写出你的答案，以回车键结束。1\n",
      "请根据所给题目写出你的答案，以回车键结束。1\n",
      "请根据所给题目写出你的答案，以回车键结束。1\n",
      "请根据所给题目写出你的答案，以回车键结束。1\n",
      "请根据所给题目写出你的答案，以回车键结束。1\n",
      "请根据所给题目写出你的答案，以回车键结束。1\n",
      "请根据所给题目写出你的答案，以回车键结束。1\n",
      "请根据所给题目写出你的答案，以回车键结束。1\n"
     ]
    },
    {
     "data": {
      "text/plain": [
       "0"
      ]
     },
     "execution_count": 10,
     "metadata": {},
     "output_type": "execute_result"
    }
   ],
   "source": [
    "#3(b):\n",
    "\n",
    "def fx():\n",
    "    B=[]\n",
    "    score=0\n",
    "    for i in range(0,15):\n",
    "        A=int(input('请根据所给题目写出你的答案，以回车键结束。'))\n",
    "        B.append(A)\n",
    "        if B[i-1] == 'acb':\n",
    "            score=score+10\n",
    "        else:\n",
    "            score=score+0\n",
    "    return score\n",
    "        \n",
    "fx()"
   ]
  },
  {
   "cell_type": "code",
   "execution_count": 32,
   "metadata": {},
   "outputs": [
    {
     "name": "stdout",
     "output_type": "stream",
     "text": [
      "请输入你要测试的题目个数，以回车键结束。2\n",
      "请输入你的题目,以回车键结束。1\n",
      "请输入你的答案,以回车键结束。2\n"
     ]
    },
    {
     "ename": "TypeError",
     "evalue": "randint() missing 2 required positional arguments: 'a' and 'b'",
     "output_type": "error",
     "traceback": [
      "\u001b[1;31m---------------------------------------------------------------------------\u001b[0m",
      "\u001b[1;31mTypeError\u001b[0m                                 Traceback (most recent call last)",
      "\u001b[1;32m<ipython-input-32-9820ad4ff4d5>\u001b[0m in \u001b[0;36m<module>\u001b[1;34m()\u001b[0m\n\u001b[0;32m     18\u001b[0m \u001b[1;33m\u001b[0m\u001b[0m\n\u001b[0;32m     19\u001b[0m \u001b[0mn\u001b[0m\u001b[1;33m=\u001b[0m\u001b[0mint\u001b[0m\u001b[1;33m(\u001b[0m\u001b[0minput\u001b[0m\u001b[1;33m(\u001b[0m\u001b[1;34m'请输入你要测试的题目个数，以回车键结束。'\u001b[0m\u001b[1;33m)\u001b[0m\u001b[1;33m)\u001b[0m\u001b[1;33m\u001b[0m\u001b[0m\n\u001b[1;32m---> 20\u001b[1;33m \u001b[0mfx\u001b[0m\u001b[1;33m(\u001b[0m\u001b[1;33m)\u001b[0m\u001b[1;33m\u001b[0m\u001b[0m\n\u001b[0m\u001b[0;32m     21\u001b[0m \u001b[1;33m\u001b[0m\u001b[0m\n",
      "\u001b[1;32m<ipython-input-32-9820ad4ff4d5>\u001b[0m in \u001b[0;36mfx\u001b[1;34m()\u001b[0m\n\u001b[0;32m      7\u001b[0m         \u001b[0ma\u001b[0m\u001b[1;33m=\u001b[0m\u001b[0mint\u001b[0m\u001b[1;33m(\u001b[0m\u001b[0minput\u001b[0m\u001b[1;33m(\u001b[0m\u001b[1;34m'请输入你的题目,以回车键结束。'\u001b[0m\u001b[1;33m)\u001b[0m\u001b[1;33m)\u001b[0m\u001b[1;33m\u001b[0m\u001b[0m\n\u001b[0;32m      8\u001b[0m         \u001b[0mA\u001b[0m\u001b[1;33m=\u001b[0m\u001b[0mint\u001b[0m\u001b[1;33m(\u001b[0m\u001b[0minput\u001b[0m\u001b[1;33m(\u001b[0m\u001b[1;34m'请输入你的答案,以回车键结束。'\u001b[0m\u001b[1;33m)\u001b[0m\u001b[1;33m)\u001b[0m\u001b[1;33m\u001b[0m\u001b[0m\n\u001b[1;32m----> 9\u001b[1;33m         \u001b[0mB\u001b[0m\u001b[1;33m=\u001b[0m\u001b[0mrandom\u001b[0m\u001b[1;33m.\u001b[0m\u001b[0mrandint\u001b[0m\u001b[1;33m(\u001b[0m\u001b[1;33m)\u001b[0m\u001b[1;33m\u001b[0m\u001b[0m\n\u001b[0m\u001b[0;32m     10\u001b[0m         \u001b[0mprint\u001b[0m\u001b[1;33m(\u001b[0m\u001b[0mB\u001b[0m\u001b[1;33m)\u001b[0m\u001b[1;33m\u001b[0m\u001b[0m\n\u001b[0;32m     11\u001b[0m         \u001b[1;32mif\u001b[0m \u001b[0mA\u001b[0m\u001b[1;33m==\u001b[0m\u001b[0mB\u001b[0m\u001b[1;33m:\u001b[0m\u001b[1;33m\u001b[0m\u001b[0m\n",
      "\u001b[1;31mTypeError\u001b[0m: randint() missing 2 required positional arguments: 'a' and 'b'"
     ]
    }
   ],
   "source": [
    "#3(C):\n",
    "import random\n",
    "def fx():\n",
    "    i=0\n",
    "    total=0\n",
    "    while i <n:\n",
    "        a=int(input('请输入你的题目,以回车键结束。'))\n",
    "        A=int(input('请输入你的答案,以回车键结束。'))\n",
    "        B=random.randint()\n",
    "        print(B)\n",
    "        if A==B:\n",
    "            Df=10\n",
    "        elif A != B:\n",
    "            Df=0\n",
    "        total=total+Df\n",
    "        i=i+1\n",
    "    print(total) \n",
    "\n",
    "n=int(input('请输入你要测试的题目个数，以回车键结束。'))\n",
    "fx()\n",
    "\n"
   ]
  },
  {
   "cell_type": "code",
   "execution_count": 37,
   "metadata": {},
   "outputs": [
    {
     "name": "stdout",
     "output_type": "stream",
     "text": [
      "缩略图:\n"
     ]
    }
   ],
   "source": [
    "# 4(a):\n",
    "\n",
    "with open(r'C:\\temp\\成语大全(含成语解释)_utf8.txt',encoding = 'utf-8') as fh:\n",
    "\n",
    "    text = fh.read()\n",
    "    fh.close()\n",
    "    text = text.replace('、', '')\n",
    "    idioms = text.split('\\n')\n",
    "   # print(idioms[:20])\n",
    "    for idiom in idioms:\n",
    "        if len(idiom)==4:\n",
    "            print(idiom)"
   ]
  },
  {
   "cell_type": "code",
   "execution_count": null,
   "metadata": {},
   "outputs": [],
   "source": [
    "#4(b):\n",
    "fh = open(r'C:\\temp\\成语大全.txt')\n",
    "text = fh.read()\n",
    "fh.close()\n",
    "text = text.replace('、', '')\n",
    "idioms = text.split('\\n')\n",
    "#print(idioms)\n",
    "def count_words_freq():\n",
    "    word_freq_pairs = []\n",
    "    \n",
    "    with open(r'C:\\temp\\成语大全.txt') as f:\n",
    "        text = f.read()\n",
    "    with open (r'C:\\temp\\test_re_gbk.txt') as f_1:\n",
    "        text_1 = f_1.read()\n",
    "        \n",
    "    words_1 = [word.split('/')[0] for word in text_1.split()]\n",
    "    for word in words_1:\n",
    "        for item in word_freq_pairs:\n",
    "            if word == item[0]:\n",
    "                item[1] += 1\n",
    "                break\n",
    "        else:\n",
    "            word_freq_pairs.append([word, 1])\n",
    "            \n",
    "    return word_freq_pairs\n",
    "\n",
    "#测试用\n",
    "\n",
    "\n",
    "table = count_words_freq()\n",
    "print(table[:50])"
   ]
  },
  {
   "cell_type": "code",
   "execution_count": null,
   "metadata": {
    "collapsed": true
   },
   "outputs": [],
   "source": [
    "#4(c):\n",
    "result={}\n",
    "with open(r'C:\\temp\\test_re_gbk.txt') as f:\n",
    "    for line in f:\n",
    "        words=line.split()\n",
    "        for word in words:\n",
    "            word_pos = word.split('/')\n",
    "            if word_pos[0] in result:\n",
    "                for index,pos_freq in enumerate(result[word_pos[0]]):\n",
    "                    if pos_freq[0] == word_pos[1]:\n",
    "                        result[word_pos[0]][index][1] +=1\n",
    "                        break\n",
    "                    else:\n",
    "                        result[word_pos[0]].append([word_pos[1],1])\n",
    "                else:\n",
    "                    result[word_pos[0]] = []\n",
    "                    result[word_pos[0]].append([word_pos[1],1])\n",
    "list(result.items())[:20]"
   ]
  },
  {
   "cell_type": "code",
   "execution_count": null,
   "metadata": {
    "collapsed": true
   },
   "outputs": [],
   "source": []
  }
 ],
 "metadata": {
  "kernelspec": {
   "display_name": "Python 3",
   "language": "python",
   "name": "python3"
  },
  "language_info": {
   "codemirror_mode": {
    "name": "ipython",
    "version": 3
   },
   "file_extension": ".py",
   "mimetype": "text/x-python",
   "name": "python",
   "nbconvert_exporter": "python",
   "pygments_lexer": "ipython3",
   "version": "3.6.2"
  }
 },
 "nbformat": 4,
 "nbformat_minor": 2
}
