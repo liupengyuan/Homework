{
 "cells": [
  {
   "cell_type": "code",
   "execution_count": 9,
   "metadata": {},
   "outputs": [
    {
     "name": "stdout",
     "output_type": "stream",
     "text": [
      "请输入字符串，回车结束北京语言大学\n",
      "学大言语京北\n"
     ]
    }
   ],
   "source": [
    "#练习一\n",
    "def reverse():\n",
    "    line=input('请输入字符串，回车结束')\n",
    "    print(line[::-1])\n",
    "    \n",
    "reverse()"
   ]
  },
  {
   "cell_type": "code",
   "execution_count": 10,
   "metadata": {},
   "outputs": [
    {
     "name": "stdout",
     "output_type": "stream",
     "text": [
      "请输入行数，回车结束5\n",
      "请输入符号，回车结束*\n",
      "*\n",
      "**\n",
      "***\n",
      "****\n",
      "*****\n",
      "       *\n",
      "      * *\n",
      "     * * *\n",
      "    * * * *\n",
      "   * * * * *\n",
      " *\n",
      "  ***\n",
      "   *****\n",
      "    *******\n",
      "     *********\n"
     ]
    }
   ],
   "source": [
    "#练习二\n",
    "def triangle():\n",
    "    for i in range(1,len(line)+1):\n",
    "        print(line[0]*i,end='')\n",
    "        print()\n",
    "     \n",
    "    for i in range(0,len(line)):\n",
    "        print(' '*(len(line)-i) ,(' '+line[0])*(i+1),end='')\n",
    "        print()\n",
    "    \n",
    "    for i in range(0,len(line)):\n",
    "        print(' '*i ,(line[0])*(2*i+1),end='')\n",
    "        print()     \n",
    "    \n",
    "r=int(input('请输入行数，回车结束'))\n",
    "line=input('请输入符号，回车结束')*r\n",
    "triangle()"
   ]
  },
  {
   "cell_type": "code",
   "execution_count": 11,
   "metadata": {},
   "outputs": [
    {
     "name": "stdout",
     "output_type": "stream",
     "text": [
      "请输入打印菱形棱长,回车结束5\n",
      "请输入符号,回车结束*\n",
      "  * * * * *\n",
      "   * * * * *\n",
      "    * * * * *\n",
      "     * * * * *\n",
      "      * * * * *\n",
      "\n",
      "\n",
      "       *\n",
      "      * *\n",
      "     * * *\n",
      "    * * * *\n",
      "   * * * * *\n",
      "    * * * *\n",
      "     * * *\n",
      "      * *\n",
      "       *\n",
      "       \n"
     ]
    }
   ],
   "source": [
    "#练习五\n",
    "def lx():\n",
    "    for i in range(0,len(line)):\n",
    "        print(' '*i ,(' '+line[0])*x,end='')\n",
    "        print()  \n",
    "    \n",
    "    print('\\n')\n",
    "    for i in range(0,len(line)):\n",
    "        print(' '*(len(line)-i) ,(' '+line[0])*(i+1),end='')\n",
    "        print()\n",
    "    for i in range(len(line),len(line)*2):\n",
    "        print(' '*(i-len(line)+2) ,(' '+line[0])*(2*len(line)-i-1),end='')\n",
    "        print()\n",
    "              \n",
    "x=int(input('请输入打印菱形棱长,回车结束'))\n",
    "line=input('请输入符号,回车结束')*x\n",
    "lx()"
   ]
  }
 ],
 "metadata": {
  "kernelspec": {
   "display_name": "Python 3",
   "language": "python",
   "name": "python3"
  },
  "language_info": {
   "codemirror_mode": {
    "name": "ipython",
    "version": 3
   },
   "file_extension": ".py",
   "mimetype": "text/x-python",
   "name": "python",
   "nbconvert_exporter": "python",
   "pygments_lexer": "ipython3",
   "version": "3.6.2"
  }
 },
 "nbformat": 4,
 "nbformat_minor": 2
}
