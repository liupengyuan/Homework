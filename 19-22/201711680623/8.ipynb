{
 "cells": [
  {
   "cell_type": "code",
   "execution_count": 11,
   "metadata": {},
   "outputs": [
    {
     "name": "stdout",
     "output_type": "stream",
     "text": [
      "请输入你要接的成语,回车结束七上八下\n"
     ]
    },
    {
     "ename": "UnboundLocalError",
     "evalue": "local variable 'score_human' referenced before assignment",
     "output_type": "error",
     "traceback": [
      "\u001b[1;31m---------------------------------------------------------------------------\u001b[0m",
      "\u001b[1;31mUnboundLocalError\u001b[0m                         Traceback (most recent call last)",
      "\u001b[1;32m<ipython-input-11-97ecf95e6b83>\u001b[0m in \u001b[0;36m<module>\u001b[1;34m()\u001b[0m\n\u001b[0;32m     34\u001b[0m              )\n\u001b[0;32m     35\u001b[0m \u001b[1;33m\u001b[0m\u001b[0m\n\u001b[1;32m---> 36\u001b[1;33m \u001b[0midiom\u001b[0m\u001b[1;33m(\u001b[0m\u001b[1;33m)\u001b[0m\u001b[1;33m\u001b[0m\u001b[0m\n\u001b[0m",
      "\u001b[1;32m<ipython-input-11-97ecf95e6b83>\u001b[0m in \u001b[0;36midiom\u001b[1;34m()\u001b[0m\n\u001b[0;32m     30\u001b[0m     \u001b[1;32melse\u001b[0m\u001b[1;33m:\u001b[0m\u001b[1;33m\u001b[0m\u001b[0m\n\u001b[0;32m     31\u001b[0m         print('输入的成语在成语大全里不存在，游戏结束',\n\u001b[1;32m---> 32\u001b[1;33m              \u001b[1;34m'你的得分是'\u001b[0m\u001b[1;33m,\u001b[0m\u001b[0mscore_human\u001b[0m\u001b[1;33m,\u001b[0m\u001b[1;33m\u001b[0m\u001b[0m\n\u001b[0m\u001b[0;32m     33\u001b[0m              \u001b[1;34m'计算机的得分是'\u001b[0m\u001b[1;33m,\u001b[0m\u001b[0mscore_computer\u001b[0m\u001b[1;33m\u001b[0m\u001b[0m\n\u001b[0;32m     34\u001b[0m              )\n",
      "\u001b[1;31mUnboundLocalError\u001b[0m: local variable 'score_human' referenced before assignment"
     ]
    }
   ],
   "source": [
    "import random\n",
    "def idiom_e():\n",
    "    with open(r'd:\\temp\\成语大全.txt') as x:\n",
    "        for i in set(x.readlines()):\n",
    "            if y==i.strip():\n",
    "                return True\n",
    "            return False\n",
    "fh = open(r'd:\\temp\\成语大全.txt')\n",
    "text=fh.read()\n",
    "text=text.replace('、','')\n",
    "text=text.split()\n",
    "idiom1=random.choice(text)\n",
    "score_human=0\n",
    "score_computer=0\n",
    "def idiom():\n",
    "    a=str(input('请输入你要接的成语,回车结束'))\n",
    "    if idiom1[-1]==a[0]:\n",
    "        for y in text:\n",
    "            if y[0]==a[-1]:\n",
    "                print(y)\n",
    "                a=str(input('请输入接下去的成语，回车结束'))\n",
    "                score_human+=10\n",
    "                score_computer+=10\n",
    "        if idiom_e(a) == False:\n",
    "            print('输入的成语在成语大全里不存在，游戏结束',\n",
    "             '你的得分是',score_human,\n",
    "             '计算机的得分是',score_computer\n",
    "             )\n",
    "\n",
    "    else:\n",
    "        print('输入的成语在成语大全里不存在，游戏结束',\n",
    "             '你的得分是',score_human,\n",
    "             '计算机的得分是',score_computer\n",
    "             )\n",
    "\n",
    "idiom()"
   ]
  },
  {
   "cell_type": "code",
   "execution_count": null,
   "metadata": {
    "collapsed": true
   },
   "outputs": [],
   "source": []
  }
 ],
 "metadata": {
  "kernelspec": {
   "display_name": "Python 3",
   "language": "python",
   "name": "python3"
  },
  "language_info": {
   "codemirror_mode": {
    "name": "ipython",
    "version": 3
   },
   "file_extension": ".py",
   "mimetype": "text/x-python",
   "name": "python",
   "nbconvert_exporter": "python",
   "pygments_lexer": "ipython3",
   "version": "3.6.2"
  }
 },
 "nbformat": 4,
 "nbformat_minor": 2
}
