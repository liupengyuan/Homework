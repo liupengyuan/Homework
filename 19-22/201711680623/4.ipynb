{
 "cells": [
  {
   "cell_type": "code",
   "execution_count": 7,
   "metadata": {},
   "outputs": [
    {
     "name": "stdout",
     "output_type": "stream",
     "text": [
      "请输入一个整数m，回车结束8\n",
      "请输入一个整数n，回车结束6\n",
      "请输入一个整数k，回车结束5\n",
      "41160\n"
     ]
    }
   ],
   "source": [
    "#练习一\n",
    "def my_mul(end):\n",
    "    i=1\n",
    "    total=1\n",
    "    while i<end:\n",
    "        i=i+1\n",
    "        total=total*i\n",
    "    return(total)\n",
    "m=int(input('请输入一个整数m，回车结束'))\n",
    "n=int(input('请输入一个整数n，回车结束'))\n",
    "k=int(input('请输入一个整数k，回车结束'))\n",
    "print(my_mul(m)+my_mul(n)+my_mul(k))"
   ]
  },
  {
   "cell_type": "code",
   "execution_count": 5,
   "metadata": {},
   "outputs": [
    {
     "name": "stdout",
     "output_type": "stream",
     "text": [
      "3.140592653839794\n",
      "3.1415826535897198\n"
     ]
    }
   ],
   "source": [
    "#练习二\n",
    "def my_sum(a):\n",
    "    i=-1\n",
    "    m=1\n",
    "    n=0\n",
    "    total_a=0\n",
    "    while n<a:\n",
    "        n=n+1\n",
    "        m=2*n-1\n",
    "        i=-i\n",
    "        total_a=total_a+i/m\n",
    "    return(total_a)\n",
    "print(my_sum(1000)*4)\n",
    "print(my_sum(100000)*4)"
   ]
  },
  {
   "cell_type": "code",
   "execution_count": 32,
   "metadata": {},
   "outputs": [
    {
     "name": "stdout",
     "output_type": "stream",
     "text": [
      "请输入你的姓名,回车结束林立\n",
      "请输入你的出生月份，回车结束9\n",
      "请输入你的出生日期，回车结束26\n",
      "你是非常有个性的天秤座\n",
      "None\n"
     ]
    }
   ],
   "source": [
    "#练习三\n",
    "name=input('请输入你的姓名,回车结束')\n",
    "month=int(input('请输入你的出生月份，回车结束'))\n",
    "day=int(input('请输入你的出生日期，回车结束'))\n",
    "def constellation():\n",
    "    if (month==1 and 20<=day<=31)or(month==2 and 1<=day<=18):\n",
    "        print(\"你是非常有个性的水瓶座\")\n",
    "    elif (month==2 and 19<=day<=29)or(month==3 and 1<=day<=20):\n",
    "        print(\"你是非常有个性的双鱼座\")\n",
    "    elif (month ==3 and 21<=day<=31)or(month == 4 and 1<=day<=19):\n",
    "        print(\"你是非常有个性的白羊座\")\n",
    "    elif (month==4 and 20<=day<=30)or(month==5 and 1<=day<=20):\n",
    "        print(\"你是非常有个性的金牛座\")\n",
    "    elif (month==5 and 21<=day<=31)or(month==6 and 1<=day<=21):\n",
    "        print(\"你是非常有个性的双子座\")\n",
    "    elif (month==6 and 22<=day<=30)or(month==7 and 1<=day<=22):\n",
    "        print(\"你是非常有个性的巨蟹座\")\n",
    "    elif (month==7 and 23<=day<=31)or(month==8 and 1<=day<=22):\n",
    "        print(\"你是非常有个性的狮子座\")\n",
    "    elif (month==8 and 23<=day<=31)or(month==9 and 1<=day<=22):\n",
    "        print(\"你是非常有个性的处女座\")\n",
    "    elif (month==9 and 23<=day<=30)or(month==10 and 1<=day<=23):\n",
    "        print(\"你是非常有个性的天秤座\")\n",
    "    elif (month==10 and 24<=day<=31)or(month==11 and 1<=day<=22):\n",
    "        print(\"你是非常有个性的天蝎座\")\n",
    "    elif (month==11 and 23<=day<=30)or(month==12 and 1<=day<=21):\n",
    "        print(\"你是非常有个性的射手座\")\n",
    "    elif (month==12 and 22<=day<=31)or(month==1 and 1<=day<=19):\n",
    "        print(\"你是非常有个性的摩羯座\")\n",
    "    else:\n",
    "        print(\"输入错误\")\n",
    "\n",
    "print(constellation())\n"
   ]
  },
  {
   "cell_type": "code",
   "execution_count": 26,
   "metadata": {},
   "outputs": [
    {
     "name": "stdout",
     "output_type": "stream",
     "text": [
      "请输入一个英文单词，回车结束egg\n",
      "eggs\n"
     ]
    }
   ],
   "source": [
    "#练习三\n",
    "def word(word):\n",
    "    if word.endswith(\"sh\"or\"ch\"or\"x\"):\n",
    "        print(word,\"es\",sep=\"\")\n",
    "    else :\n",
    "        print(word,\"s\",sep=\"\")\n",
    "\n",
    "\n",
    "w = input(\"请输入一个英文单词，回车结束\")\n",
    "word(w)"
   ]
  },
  {
   "cell_type": "code",
   "execution_count": null,
   "metadata": {
    "collapsed": true
   },
   "outputs": [],
   "source": []
  }
 ],
 "metadata": {
  "kernelspec": {
   "display_name": "Python 3",
   "language": "python",
   "name": "python3"
  },
  "language_info": {
   "codemirror_mode": {
    "name": "ipython",
    "version": 3
   },
   "file_extension": ".py",
   "mimetype": "text/x-python",
   "name": "python",
   "nbconvert_exporter": "python",
   "pygments_lexer": "ipython3",
   "version": "3.6.2"
  }
 },
 "nbformat": 4,
 "nbformat_minor": 2
}
