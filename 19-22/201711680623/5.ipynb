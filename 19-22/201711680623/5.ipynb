{
 "cells": [
  {
   "cell_type": "code",
   "execution_count": 32,
   "metadata": {},
   "outputs": [
    {
     "name": "stdout",
     "output_type": "stream",
     "text": [
      "请输入一个整数n，回车结束5\n",
      "请输入一个整数m，回车结束1\n",
      "请输入一个整数k，回车结束9\n",
      "8\n",
      "10\n",
      "11\n",
      "12\n",
      "15\n"
     ]
    },
    {
     "data": {
      "text/plain": [
       "6.7082039324993685"
      ]
     },
     "execution_count": 32,
     "metadata": {},
     "output_type": "execute_result"
    }
   ],
   "source": [
    "#练习一\n",
    "n=int(input('请输入一个整数n，回车结束'))\n",
    "m=int(input('请输入一个整数m，回车结束'))\n",
    "k=int(input('请输入一个整数k，回车结束'))\n",
    "if m>k:\n",
    "    t=m\n",
    "    m=k\n",
    "    k=t\n",
    "import random\n",
    "\n",
    "def my_sum():\n",
    "    i=0\n",
    "    a=0\n",
    "    while i<n:\n",
    "        i=i+1\n",
    "        num=random.randint(m,k)\n",
    "        a=a+num\n",
    "        print(a)\n",
    "        b=a/n**0.5\n",
    "    return b\n",
    "my_sum()"
   ]
  },
  {
   "cell_type": "code",
   "execution_count": 2,
   "metadata": {},
   "outputs": [
    {
     "name": "stdout",
     "output_type": "stream",
     "text": [
      "请输入一个整数n，回车结束5\n",
      "请输入一个整数m，回车结束1\n",
      "请输入一个整数k，回车结束9\n"
     ]
    },
    {
     "data": {
      "text/plain": [
       "(0.6931471805599453, 1.4426950408889634)"
      ]
     },
     "execution_count": 2,
     "metadata": {},
     "output_type": "execute_result"
    }
   ],
   "source": [
    "#练习二\n",
    "n=int(input('请输入一个整数n，回车结束'))\n",
    "m=int(input('请输入一个整数m，回车结束'))\n",
    "k=int(input('请输入一个整数k，回车结束'))\n",
    "if m>k:\n",
    "    t=m\n",
    "    m=k\n",
    "    k=t\n",
    "import random,math\n",
    "\n",
    "def my_sum():\n",
    "    i=0\n",
    "    total=0\n",
    "    while i<n:\n",
    "        i=i+1\n",
    "        a=random.randint(m,k)\n",
    "        b=math.log(a)\n",
    "        X=total+b\n",
    "        Y=total+1/b\n",
    "    return X,Y\n",
    "my_sum()"
   ]
  },
  {
   "cell_type": "code",
   "execution_count": 2,
   "metadata": {},
   "outputs": [
    {
     "name": "stdout",
     "output_type": "stream",
     "text": [
      "请输入一个整数，回车结束4\n"
     ]
    },
    {
     "data": {
      "text/plain": [
       "6170.0"
      ]
     },
     "execution_count": 2,
     "metadata": {},
     "output_type": "execute_result"
    }
   ],
   "source": [
    "#练习三\n",
    "m=int(input('请输入一个整数，回车结束'))\n",
    "import random\n",
    "def my_sum():\n",
    "    i=0\n",
    "    s=0\n",
    "    a=random.randint(1,9)\n",
    "    while i<m:\n",
    "        i=i+1\n",
    "        b=(10**i-1)/9\n",
    "        s=s+a*b\n",
    "    return s\n",
    "my_sum()       "
   ]
  },
  {
   "cell_type": "code",
   "execution_count": 6,
   "metadata": {},
   "outputs": [],
   "source": [
    "#挑战性练习\n",
    "import random,math\n",
    "def win():\n",
    "    print('Win!')\n",
    "\n",
    "def lose():\n",
    "    print('Lose!')\n",
    "    \n",
    "def guess_game():\n",
    "    num=int(input('请输入一个整数，回车结束'))\n",
    "    n=int(input('请输入一个大于0的整数，作为神秘整数的上界，回车结束'))\n",
    "    m=random.randint(1,n)\n",
    "    max_times=math.ceil(math.log2(n))\n",
    "    guess_times=0\n",
    "    while guess_times < max_times:\n",
    "        guess=m\n",
    "        guess_times=guess_times+1\n",
    "        print('电脑一共可以猜', max_times, '次')\n",
    "        print('电脑已经猜了', guess_times, '次')\n",
    "        \n",
    "        if guess==num:\n",
    "            win()\n",
    "            print('神秘数字是：', guess)\n",
    "            print('电脑比标准次数少', max_times-guess_times, '次')\n",
    "            break\n",
    "        elif guess > number:\n",
    "            print('抱歉，电脑猜大了')\n",
    "        else:\n",
    "            print('抱歉，你猜小了')\n",
    "    \n",
    "    else:\n",
    "        print('神秘数字是：', number)\n",
    "        lose()   "
   ]
  },
  {
   "cell_type": "code",
   "execution_count": null,
   "metadata": {
    "collapsed": true
   },
   "outputs": [],
   "source": []
  }
 ],
 "metadata": {
  "kernelspec": {
   "display_name": "Python 3",
   "language": "python",
   "name": "python3"
  },
  "language_info": {
   "codemirror_mode": {
    "name": "ipython",
    "version": 3
   },
   "file_extension": ".py",
   "mimetype": "text/x-python",
   "name": "python",
   "nbconvert_exporter": "python",
   "pygments_lexer": "ipython3",
   "version": "3.6.2"
  }
 },
 "nbformat": 4,
 "nbformat_minor": 2
}
