{
 "cells": [
  {
   "cell_type": "code",
   "execution_count": 1,
   "metadata": {},
   "outputs": [
    {
     "name": "stdout",
     "output_type": "stream",
     "text": [
      "请输入一个整数，回车结束10\n",
      "-1\n"
     ]
    }
   ],
   "source": [
    "#写函数，返回某个元素/对象在一个list中的位置，如果不在，则返回-1.\n",
    "numbers=[1,2,3,4,5]\n",
    "def abc():\n",
    "    n=int(input('请输入一个整数，回车结束'))\n",
    "    if n in numbers:\n",
    "        print(numbers.index(n))\n",
    "    else:\n",
    "        print(-1)\n",
    "abc()"
   ]
  },
  {
   "cell_type": "code",
   "execution_count": 2,
   "metadata": {},
   "outputs": [
    {
     "data": {
      "text/plain": [
       "[1, 5, 2, 6, 3, 7, 4, 8]"
      ]
     },
     "execution_count": 2,
     "metadata": {},
     "output_type": "execute_result"
    }
   ],
   "source": [
    "#写函数，可将两个相同长度的list，间隔插入，生成新的list。\n",
    "\n",
    "def g():\n",
    "    a=[1,2,3,4]\n",
    "    b=[5,6,7,8]\n",
    "    c=[]\n",
    "    for i in range(4):\n",
    "        n=a[i]\n",
    "        c.append(n)\n",
    "        m=b[i]\n",
    "        c.append(m)\n",
    "    return c\n",
    "g()"
   ]
  },
  {
   "cell_type": "code",
   "execution_count": 4,
   "metadata": {},
   "outputs": [
    {
     "name": "stdout",
     "output_type": "stream",
     "text": [
      "请输入第一个向量的横坐标，回车结束5\n",
      "请输入第一个向量的纵坐标，回车结束1\n",
      "请输入第二个向量的横坐标，回车结束6\n",
      "请输入第二个向量的纵坐标，回车结束2\n"
     ]
    },
    {
     "data": {
      "text/plain": [
       "3.938927711338647"
      ]
     },
     "execution_count": 4,
     "metadata": {},
     "output_type": "execute_result"
    }
   ],
   "source": [
    "#写函数，可求两个向量的夹角余弦值，向量可放在list中。主程序调用该函数。\n",
    "x1=int(input('请输入第一个向量的横坐标，回车结束'))\n",
    "y1=int(input('请输入第一个向量的纵坐标，回车结束'))\n",
    "x2=int(input('请输入第二个向量的横坐标，回车结束'))\n",
    "y2=int(input('请输入第二个向量的纵坐标，回车结束'))\n",
    "def g():\n",
    "    a=[x1,y1]\n",
    "    b=[x2,y2]\n",
    "    m=x1*x2+y1*y2\n",
    "    n=(x1*x1+y1*y1)+(x2*x2+y2*y2)\n",
    "    l=m/n**0.5\n",
    "    return l\n",
    "g()   "
   ]
  },
  {
   "cell_type": "code",
   "execution_count": 5,
   "metadata": {},
   "outputs": [
    {
     "name": "stdout",
     "output_type": "stream",
     "text": [
      "3741.0\n"
     ]
    }
   ],
   "source": [
    "#挑战性习题\n",
    "a=100-5*3\n",
    "b=a+1\n",
    "c=a*b*0.5\n",
    "d=b+c\n",
    "print(d)\n",
    "\n",
    "    "
   ]
  },
  {
   "cell_type": "code",
   "execution_count": null,
   "metadata": {
    "collapsed": true
   },
   "outputs": [],
   "source": []
  }
 ],
 "metadata": {
  "kernelspec": {
   "display_name": "Python 3",
   "language": "python",
   "name": "python3"
  },
  "language_info": {
   "codemirror_mode": {
    "name": "ipython",
    "version": 3
   },
   "file_extension": ".py",
   "mimetype": "text/x-python",
   "name": "python",
   "nbconvert_exporter": "python",
   "pygments_lexer": "ipython3",
   "version": "3.6.2"
  }
 },
 "nbformat": 4,
 "nbformat_minor": 2
}
