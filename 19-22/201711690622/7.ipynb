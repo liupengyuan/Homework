{
 "cells": [
  {
   "cell_type": "code",
   "execution_count": 3,
   "metadata": {},
   "outputs": [
    {
     "data": {
      "text/plain": [
       "[7, 6, 5, 4, 3, 2, 1]"
      ]
     },
     "execution_count": 3,
     "metadata": {},
     "output_type": "execute_result"
    }
   ],
   "source": [
    "#练习一\n",
    "s = [1,2,3,4,5,6,7]\n",
    "def A():\n",
    "    s.reverse()\n",
    "    return s\n",
    "A()\n"
   ]
  },
  {
   "cell_type": "code",
   "execution_count": 28,
   "metadata": {},
   "outputs": [
    {
     "name": "stdout",
     "output_type": "stream",
     "text": [
      "输入列数： 8\n",
      " * \n",
      " * \n",
      " * \n",
      " * \n",
      " * \n",
      " * \n",
      " * \n",
      " * \n",
      "\n",
      "\n",
      " * \n",
      " * \n",
      " * \n",
      " * \n",
      " * \n",
      " * \n",
      " * \n",
      "\n",
      "\n",
      " * \n",
      " * \n",
      " * \n",
      " * \n",
      " * \n",
      " * \n",
      "\n",
      "\n",
      " * \n",
      " * \n",
      " * \n",
      " * \n",
      " * \n",
      "\n",
      "\n",
      " * \n",
      " * \n",
      " * \n",
      " * \n",
      "\n",
      "\n",
      " * \n",
      " * \n",
      " * \n",
      "\n",
      "\n",
      " * \n",
      " * \n",
      "\n",
      "\n",
      " * \n",
      "\n",
      "\n"
     ]
    }
   ],
   "source": [
    "#练习二\n",
    "rows = int(input('输入列数： '))\n",
    "\n",
    "for i in range(0, rows):\n",
    "    for k in range(0, rows - i):\n",
    "        print (\" * \"), \n",
    "        k += 1\n",
    "    i += 1\n",
    "    print (\"\\n\")\n",
    "#这应该是个直角三角形，但是我不知道为什么打不出来对不起。。。尽力了"
   ]
  },
  {
   "cell_type": "code",
   "execution_count": 39,
   "metadata": {},
   "outputs": [
    {
     "name": "stdout",
     "output_type": "stream",
     "text": [
      "输入列数： 4\n",
      " \n",
      " \n",
      " \n",
      " \n",
      "\n",
      "\n",
      " \n",
      " \n",
      " \n",
      "*\n",
      "\n",
      "\n",
      " \n",
      " \n",
      "*\n",
      " \n",
      "*\n",
      "\n",
      "\n",
      " \n",
      "*\n",
      " \n",
      " \n",
      " \n",
      "*\n",
      "\n",
      "\n",
      "*\n",
      " \n",
      "*\n",
      " \n",
      "*\n",
      " \n",
      "*\n",
      "\n",
      "\n"
     ]
    }
   ],
   "source": [
    "rows = int(input('输入列数： '))\n",
    "for i in range(0, rows + 1):\n",
    "    for j in range(0, rows - i):\n",
    "        print (\" \"),\n",
    "        j += 1\n",
    "    for k in range(0, 2 * i - 1):\n",
    "        if k == 0 or k == 2 * i - 2 or i == rows:\n",
    "            if i == rows:\n",
    "                if k % 2 == 0:\n",
    "                    print (\"*\"),\n",
    "                else:\n",
    "                    print (\" \"),\n",
    "            else:\n",
    "               print (\"*\"),\n",
    "        else:\n",
    "            print (\" \"),\n",
    "        k += 1\n",
    "    print (\"\\n\")\n",
    "    i += 1\n",
    "#这应该是个等腰三角形，但是我不知道为什么打不出来对不起。。。尽力了"
   ]
  },
  {
   "cell_type": "code",
   "execution_count": 45,
   "metadata": {},
   "outputs": [
    {
     "name": "stdout",
     "output_type": "stream",
     "text": [
      " \n",
      " \n",
      " \n",
      "*\n",
      "\n",
      "\n",
      " \n",
      " \n",
      "*\n",
      "*\n",
      "*\n",
      "\n",
      "\n",
      " \n",
      "*\n",
      "*\n",
      "*\n",
      "*\n",
      "*\n",
      "\n",
      "\n",
      "*\n",
      "*\n",
      "*\n",
      "*\n",
      "*\n",
      "*\n",
      "*\n",
      "\n",
      "\n",
      " \n",
      "*\n",
      "*\n",
      "*\n",
      "*\n",
      "*\n",
      "\n",
      "\n",
      " \n",
      " \n",
      "*\n",
      "*\n",
      "*\n",
      "\n",
      "\n",
      " \n",
      " \n",
      " \n",
      "*\n",
      "\n",
      "\n"
     ]
    }
   ],
   "source": [
    "for i in range(4):\n",
    "    for j in range(2-i+1):\n",
    "        print(\" \"),\n",
    "    for k in range(2*i+1):\n",
    "        print(\"*\"),\n",
    "    print(\"\\n\")\n",
    "    \n",
    "for i in range(3):\n",
    "    for j in range(i+1):\n",
    "        print (\" \"),\n",
    "    for k in range(4-2*i+1):\n",
    "        print(\"*\"),\n",
    "    print(\"\\n\")\n",
    "#这应该是个菱形，但是我不知道为什么打不出来对不起。。。尽力了"
   ]
  },
  {
   "cell_type": "code",
   "execution_count": null,
   "metadata": {
    "collapsed": true
   },
   "outputs": [],
   "source": []
  },
  {
   "cell_type": "code",
   "execution_count": null,
   "metadata": {
    "collapsed": true
   },
   "outputs": [],
   "source": []
  },
  {
   "cell_type": "code",
   "execution_count": null,
   "metadata": {
    "collapsed": true
   },
   "outputs": [],
   "source": []
  },
  {
   "cell_type": "code",
   "execution_count": null,
   "metadata": {
    "collapsed": true
   },
   "outputs": [],
   "source": []
  },
  {
   "cell_type": "code",
   "execution_count": null,
   "metadata": {
    "collapsed": true
   },
   "outputs": [],
   "source": []
  },
  {
   "cell_type": "code",
   "execution_count": null,
   "metadata": {
    "collapsed": true
   },
   "outputs": [],
   "source": []
  },
  {
   "cell_type": "code",
   "execution_count": null,
   "metadata": {
    "collapsed": true
   },
   "outputs": [],
   "source": []
  },
  {
   "cell_type": "code",
   "execution_count": null,
   "metadata": {
    "collapsed": true
   },
   "outputs": [],
   "source": []
  },
  {
   "cell_type": "code",
   "execution_count": null,
   "metadata": {
    "collapsed": true
   },
   "outputs": [],
   "source": []
  },
  {
   "cell_type": "code",
   "execution_count": null,
   "metadata": {
    "collapsed": true
   },
   "outputs": [],
   "source": []
  },
  {
   "cell_type": "code",
   "execution_count": null,
   "metadata": {
    "collapsed": true
   },
   "outputs": [],
   "source": []
  },
  {
   "cell_type": "code",
   "execution_count": null,
   "metadata": {},
   "outputs": [],
   "source": []
  },
  {
   "cell_type": "code",
   "execution_count": null,
   "metadata": {
    "collapsed": true
   },
   "outputs": [],
   "source": []
  },
  {
   "cell_type": "code",
   "execution_count": null,
   "metadata": {
    "collapsed": true
   },
   "outputs": [],
   "source": []
  },
  {
   "cell_type": "code",
   "execution_count": null,
   "metadata": {
    "collapsed": true
   },
   "outputs": [],
   "source": []
  },
  {
   "cell_type": "code",
   "execution_count": null,
   "metadata": {
    "collapsed": true
   },
   "outputs": [],
   "source": []
  },
  {
   "cell_type": "code",
   "execution_count": null,
   "metadata": {
    "collapsed": true
   },
   "outputs": [],
   "source": []
  },
  {
   "cell_type": "code",
   "execution_count": null,
   "metadata": {
    "collapsed": true
   },
   "outputs": [],
   "source": []
  },
  {
   "cell_type": "code",
   "execution_count": null,
   "metadata": {
    "collapsed": true
   },
   "outputs": [],
   "source": []
  },
  {
   "cell_type": "code",
   "execution_count": null,
   "metadata": {
    "collapsed": true
   },
   "outputs": [],
   "source": []
  },
  {
   "cell_type": "code",
   "execution_count": null,
   "metadata": {
    "collapsed": true
   },
   "outputs": [],
   "source": []
  }
 ],
 "metadata": {
  "kernelspec": {
   "display_name": "Python 3",
   "language": "python",
   "name": "python3"
  },
  "language_info": {
   "codemirror_mode": {
    "name": "ipython",
    "version": 3
   },
   "file_extension": ".py",
   "mimetype": "text/x-python",
   "name": "python",
   "nbconvert_exporter": "python",
   "pygments_lexer": "ipython3",
   "version": "3.6.2"
  }
 },
 "nbformat": 4,
 "nbformat_minor": 2
}
