{
 "cells": [
  {
   "cell_type": "code",
   "execution_count": 1,
   "metadata": {},
   "outputs": [
    {
     "name": "stdout",
     "output_type": "stream",
     "text": [
      "请输入想取的数字的个数3\n",
      "最小范围2\n",
      "最大范围5\n",
      "2.23606797749979\n"
     ]
    }
   ],
   "source": [
    "import random,math\n",
    "def ping():\n",
    "    i=0\n",
    "    total=0\n",
    "    while i<n:\n",
    "        i=i+1\n",
    "        x=random.randint(m,k)\n",
    "        total+=x\n",
    "    a=total/n\n",
    "    Total=math.sqrt(a)\n",
    "    print(Total)\n",
    "    \n",
    "m = int(input('请输入想取的数字的个数'))\n",
    "n = int(input('最小范围'))\n",
    "k = int(input('最大范围'))\n",
    "ping()"
   ]
  },
  {
   "cell_type": "code",
   "execution_count": 17,
   "metadata": {},
   "outputs": [
    {
     "name": "stdout",
     "output_type": "stream",
     "text": [
      "请输入想取的数的个数2\n",
      "最小范围2\n",
      "最大范围4\n",
      "3\n",
      "4\n",
      "4 1.0\n"
     ]
    }
   ],
   "source": [
    "import random,math\n",
    "def A():\n",
    "    i=0\n",
    "    total1=0\n",
    "    total2=0\n",
    "    while i<n:\n",
    "        i+=1\n",
    "        x=random.randint(m,k)\n",
    "        total1+=math.ceil(math.log(x))\n",
    "        D=math.ceil(math.log(x))\n",
    "        total2+=1/D\n",
    "        print(x)\n",
    "    print (total1,total2)\n",
    "    \n",
    "n=int(input('请输入想取的数的个数'))\n",
    "m= int(input('最小范围'))\n",
    "k= int(input('最大范围'))\n",
    "A()"
   ]
  },
  {
   "cell_type": "code",
   "execution_count": 15,
   "metadata": {},
   "outputs": [
    {
     "name": "stdout",
     "output_type": "stream",
     "text": [
      "希望几个数相加？2\n",
      "48 4\n"
     ]
    }
   ],
   "source": [
    "import random,math\n",
    "def B():\n",
    "    i=0\n",
    "    s=0\n",
    "    C=0\n",
    "    a=random.randint(1,9)\n",
    "    while i<n:\n",
    "        i+=1\n",
    "        C=C*10+a\n",
    "        s+=C\n",
    "    print(s,a)\n",
    "n=int(input('希望几个数相加？'))\n",
    "B()"
   ]
  },
  {
   "cell_type": "code",
   "execution_count": null,
   "metadata": {
    "collapsed": true
   },
   "outputs": [],
   "source": []
  },
  {
   "cell_type": "code",
   "execution_count": null,
   "metadata": {
    "collapsed": true
   },
   "outputs": [],
   "source": []
  },
  {
   "cell_type": "code",
   "execution_count": null,
   "metadata": {
    "collapsed": true
   },
   "outputs": [],
   "source": []
  },
  {
   "cell_type": "code",
   "execution_count": null,
   "metadata": {
    "collapsed": true
   },
   "outputs": [],
   "source": []
  },
  {
   "cell_type": "code",
   "execution_count": null,
   "metadata": {
    "collapsed": true
   },
   "outputs": [],
   "source": []
  },
  {
   "cell_type": "code",
   "execution_count": null,
   "metadata": {
    "collapsed": true
   },
   "outputs": [],
   "source": []
  },
  {
   "cell_type": "code",
   "execution_count": null,
   "metadata": {
    "collapsed": true
   },
   "outputs": [],
   "source": []
  },
  {
   "cell_type": "code",
   "execution_count": null,
   "metadata": {
    "collapsed": true
   },
   "outputs": [],
   "source": []
  },
  {
   "cell_type": "code",
   "execution_count": null,
   "metadata": {
    "collapsed": true
   },
   "outputs": [],
   "source": []
  },
  {
   "cell_type": "code",
   "execution_count": null,
   "metadata": {
    "collapsed": true
   },
   "outputs": [],
   "source": []
  },
  {
   "cell_type": "code",
   "execution_count": null,
   "metadata": {
    "collapsed": true
   },
   "outputs": [],
   "source": []
  }
 ],
 "metadata": {
  "kernelspec": {
   "display_name": "Python 3",
   "language": "python",
   "name": "python3"
  },
  "language_info": {
   "codemirror_mode": {
    "name": "ipython",
    "version": 3
   },
   "file_extension": ".py",
   "mimetype": "text/x-python",
   "name": "python",
   "nbconvert_exporter": "python",
   "pygments_lexer": "ipython3",
   "version": "3.6.2"
  }
 },
 "nbformat": 4,
 "nbformat_minor": 2
}
