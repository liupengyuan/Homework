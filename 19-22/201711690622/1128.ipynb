{
 "cells": [
  {
   "cell_type": "code",
   "execution_count": 12,
   "metadata": {
    "collapsed": false
   },
   "outputs": [
    {
     "name": "stdout",
     "output_type": "stream",
     "text": [
      "\n",
      "a\n",
      "ab\n",
      "abc\n",
      "abcd\n",
      "abcde\n",
      "abcdef\n",
      "abcdefg\n",
      "abcdefgh\n",
      "abcdefghi\n",
      "abcdefghij\n",
      "abcdefghijk\n",
      "abcdefghijkl\n",
      "abcdefghijklm\n",
      "abcdefghijklmn\n",
      "abcdefghijklmno\n",
      "abcdefghijklmnop\n",
      "abcdefghijklmnopq\n",
      "abcdefghijklmnopqi\n",
      "abcdefghijklmnopqis\n",
      "abcdefghijklmnopqist\n",
      "abcdefghijklmnopqistu\n",
      "abcdefghijklmnopqistuv\n",
      "abcdefghijklmnopqistuvw\n",
      "abcdefghijklmnopqistuvwh\n",
      "abcdefghijklmnopqistuvwhy\n",
      "abcdefghijklmnopqistuvwhyz\n",
      "\n"
     ]
    }
   ],
   "source": [
    "line='abcdefghijklmnopqistuvwhyz'\n",
    "i=0\n",
    "\n",
    "while i<27:\n",
    "    print(line[:i])\n",
    "    i+=1\n",
    "print()"
   ]
  },
  {
   "cell_type": "code",
   "execution_count": null,
   "metadata": {
    "collapsed": true
   },
   "outputs": [],
   "source": []
  }
 ],
 "metadata": {
  "kernelspec": {
   "display_name": "Python 3",
   "language": "python",
   "name": "python3"
  },
  "language_info": {
   "codemirror_mode": {
    "name": "ipython",
    "version": 3
   },
   "file_extension": ".py",
   "mimetype": "text/x-python",
   "name": "python",
   "nbconvert_exporter": "python",
   "pygments_lexer": "ipython3",
   "version": "3.6.0"
  }
 },
 "nbformat": 4,
 "nbformat_minor": 2
}
