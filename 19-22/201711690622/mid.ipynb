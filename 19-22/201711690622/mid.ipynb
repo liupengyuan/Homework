{
 "cells": [
  {
   "cell_type": "code",
   "execution_count": 5,
   "metadata": {
    "collapsed": false
   },
   "outputs": [
    {
     "name": "stdout",
     "output_type": "stream",
     "text": [
      "请输入要求和的数字的个数3\n"
     ]
    },
    {
     "data": {
      "text/plain": [
       "10"
      ]
     },
     "execution_count": 5,
     "metadata": {},
     "output_type": "execute_result"
    }
   ],
   "source": [
    "#1\n",
    "def A(m):\n",
    "    i=1\n",
    "    n=0\n",
    "    total=0\n",
    "    while i<=m:\n",
    "        n+=i\n",
    "        total+=n\n",
    "        i+=1\n",
    "    return total\n",
    "m=int(input(\"请输入要求和的数字的个数\"))\n",
    "A(m)"
   ]
  },
  {
   "cell_type": "code",
   "execution_count": 8,
   "metadata": {
    "collapsed": false
   },
   "outputs": [
    {
     "name": "stdout",
     "output_type": "stream",
     "text": [
      "请输入符号*\n",
      "理想行数5\n",
      "*\n",
      "***\n",
      "*****\n",
      "*******\n",
      "*********\n"
     ]
    }
   ],
   "source": [
    "#2\n",
    "\n",
    "def B():\n",
    "    for i in range(1,a+1):\n",
    "        s=\"\"\n",
    "        for k in range(1,2*i):\n",
    "            s=s+b\n",
    "        print(s)\n",
    "b=input(\"请输入符号\")\n",
    "a=int(input(\"理想行数\"))\n",
    "B()  "
   ]
  },
  {
   "cell_type": "code",
   "execution_count": 14,
   "metadata": {
    "collapsed": false
   },
   "outputs": [
    {
     "data": {
      "text/plain": [
       "508"
      ]
     },
     "execution_count": 14,
     "metadata": {},
     "output_type": "execute_result"
    }
   ],
   "source": [
    "#3\n",
    "import random\n",
    "numbes=[]\n",
    "def C():\n",
    "    c= random.randint(1, 1000)\n",
    "    numbes.append(c)\n",
    "    return numbes[0]\n",
    "C()"
   ]
  },
  {
   "cell_type": "code",
   "execution_count": 18,
   "metadata": {
    "collapsed": false
   },
   "outputs": [
    {
     "name": "stdout",
     "output_type": "stream",
     "text": [
      "181.11111111111111\n",
      "183\n",
      "185\n",
      "183\n",
      "187\n",
      "190\n"
     ]
    }
   ],
   "source": [
    "#4\n",
    "heighs=[183,185,183,187,178,175,177,190,172]\n",
    "def D():\n",
    "    total=0\n",
    "    for heigh in heighs:\n",
    "        total+=heigh\n",
    "    T=total/9\n",
    "    print(T)\n",
    "    \n",
    "    i=0\n",
    "    while i<9:\n",
    "        d=heighs[i]\n",
    "        if d>T:\n",
    "            print(d)\n",
    "            i+=1\n",
    "        else:\n",
    "            i+=1\n",
    "D()"
   ]
  },
  {
   "cell_type": "code",
   "execution_count": 9,
   "metadata": {
    "collapsed": false
   },
   "outputs": [
    {
     "name": "stdout",
     "output_type": "stream",
     "text": [
      "6 + 7 =\n",
      "请输入这两个数的和1\n",
      "错误\n",
      "7 + 8 =\n",
      "请输入这两个数的和1\n",
      "错误\n",
      "7 + 1 =\n",
      "请输入这两个数的和1\n",
      "错误\n",
      "1 + 6 =\n",
      "请输入这两个数的和1\n",
      "错误\n",
      "3 + 7 =\n",
      "请输入这两个数的和1\n",
      "错误\n",
      "0\n"
     ]
    }
   ],
   "source": [
    "#5\n",
    "import random\n",
    "mark=0\n",
    "for i in range(5):\n",
    "        e= random.randint(1, 10)\n",
    "        f= random.randint(1, 10)\n",
    "        n=e+f\n",
    "        print(e,\"+\",f,\"=\")\n",
    "        k=int(input(\"请输入这两个数的和\"))\n",
    "        i+=1\n",
    "        if k==n:\n",
    "            mark+=20 \n",
    "        else:\n",
    "            print(\"错误\")\n",
    "print(mark)"
   ]
  },
  {
   "cell_type": "code",
   "execution_count": null,
   "metadata": {
    "collapsed": true
   },
   "outputs": [],
   "source": [
    "#6\n",
    "list=[3,-5,9,108,34,-76,88]\n",
    "def F():\n",
    "    i=0\n",
    "    g=list[i]\n",
    "    while i<6:\n",
    "        if g<max_:\n",
    "            list[0]=g"
   ]
  },
  {
   "cell_type": "code",
   "execution_count": null,
   "metadata": {
    "collapsed": true
   },
   "outputs": [],
   "source": []
  }
 ],
 "metadata": {
  "kernelspec": {
   "display_name": "Python 3",
   "language": "python",
   "name": "python3"
  }
 },
 "nbformat": 4,
 "nbformat_minor": 2
}
