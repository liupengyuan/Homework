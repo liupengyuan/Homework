{
 "cells": [
  {
   "cell_type": "code",
   "execution_count": 2,
   "metadata": {},
   "outputs": [
    {
     "name": "stdout",
     "output_type": "stream",
     "text": [
      "请输入一个数字3\n",
      "这个数字在 2 的位置\n"
     ]
    }
   ],
   "source": [
    "#练习1\n",
    "numbers=[1,2,3,4]\n",
    "def A():\n",
    "    a=int(input(\"请输入一个数字\"))\n",
    "    n=0\n",
    "    b=0\n",
    "    while n<len(numbers):\n",
    "        if a==numbers[n]:\n",
    "            print('这个数字在',n,\"的位置\")\n",
    "            b=1\n",
    "        n+=1\n",
    "    if b==0:\n",
    "            print(-1)\n",
    "A()"
   ]
  },
  {
   "cell_type": "code",
   "execution_count": 3,
   "metadata": {},
   "outputs": [
    {
     "name": "stdout",
     "output_type": "stream",
     "text": [
      "新的列表为： [1, 4, 2, 5, 3, 6]\n"
     ]
    }
   ],
   "source": [
    "#练习2\n",
    "list1=[1,2,3]\n",
    "list2=[4,5,6]\n",
    "def x(list1,list2):\n",
    "    list3=[]\n",
    "    i=0\n",
    "    while i<len(list1):\n",
    "        if i<len(list1):\n",
    "            list3.append(list1[i])\n",
    "            list3.append(list2[i])\n",
    "            i+=1\n",
    "    print(\"新的列表为：\",list3)\n",
    "x(list1,list2)"
   ]
  },
  {
   "cell_type": "code",
   "execution_count": 4,
   "metadata": {},
   "outputs": [
    {
     "name": "stdout",
     "output_type": "stream",
     "text": [
      "请输入x11\n",
      "请输入y12\n",
      "请输入x22\n",
      "请输入y21\n",
      "0.7999999999999998\n"
     ]
    }
   ],
   "source": [
    "#练习3\n",
    "import math\n",
    "\n",
    "def cos(a,b):\n",
    "    x1=a[0]\n",
    "    y1=a[1]\n",
    "    x2=b[0]\n",
    "    y2=b[1]\n",
    "    cosx=(x1*x2+y1*y2)/(math.sqrt(x1**2+y1**2)*math.sqrt(x2**2+y2**2))\n",
    "    print(cosx)\n",
    "\n",
    "list1=[]\n",
    "list2=[]\n",
    "n=int(input('请输入x1'))\n",
    "list1.append(n)\n",
    "m=int(input('请输入y1'))\n",
    "list1.append(m)\n",
    "k=int(input('请输入x2'))\n",
    "list2.append(k)\n",
    "l=int(input('请输入y2'))\n",
    "list2.append(l)\n",
    "\n",
    "cos(list1,list2)"
   ]
  },
  {
   "cell_type": "code",
   "execution_count": 5,
   "metadata": {},
   "outputs": [
    {
     "name": "stdout",
     "output_type": "stream",
     "text": [
      "共有 3741 种分法\n"
     ]
    }
   ],
   "source": [
    "i=0\n",
    "for m in range(5,101):\n",
    "    for n in range(5,101):\n",
    "        for k in range(5,101):\n",
    "            if m+n+k==100:   \n",
    "                i=i+1\n",
    "print(\"共有\",i,\"种分法\")"
   ]
  },
  {
   "cell_type": "code",
   "execution_count": null,
   "metadata": {
    "collapsed": true
   },
   "outputs": [],
   "source": []
  }
 ],
 "metadata": {
  "kernelspec": {
   "display_name": "Python 3",
   "language": "python",
   "name": "python3"
  },
  "language_info": {
   "codemirror_mode": {
    "name": "ipython",
    "version": 3
   },
   "file_extension": ".py",
   "mimetype": "text/x-python",
   "name": "python",
   "nbconvert_exporter": "python",
   "pygments_lexer": "ipython3",
   "version": "3.6.2"
  }
 },
 "nbformat": 4,
 "nbformat_minor": 2
}
