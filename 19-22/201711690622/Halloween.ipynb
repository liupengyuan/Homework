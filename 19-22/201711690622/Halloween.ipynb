{
 "cells": [
  {
   "cell_type": "code",
   "execution_count": 18,
   "metadata": {
    "collapsed": false
   },
   "outputs": [],
   "source": [
    "def my_sum(end):\n",
    "    a=0\n",
    "    total_m=0\n",
    "    while a<end:\n",
    "        a=a+1\n",
    "        total_m=total_m+a\n",
    "    return total_m"
   ]
  },
  {
   "cell_type": "code",
   "execution_count": 21,
   "metadata": {
    "collapsed": false
   },
   "outputs": [],
   "source": [
    "def my_mul(end):\n",
    "    c=0\n",
    "    total_N=1\n",
    "    while c<end:\n",
    "        c+=1\n",
    "        total_N*=c\n",
    "    return total_N\n"
   ]
  },
  {
   "cell_type": "code",
   "execution_count": 22,
   "metadata": {
    "collapsed": false
   },
   "outputs": [
    {
     "name": "stdout",
     "output_type": "stream",
     "text": [
      "请输入一个整数5\n",
      "请输入一个另整数4\n",
      "144\n"
     ]
    }
   ],
   "source": [
    "\n",
    "n=int(input(\"请输入一个整数\"))\n",
    "m=int(input(\"请输入一个另整数\"))\n",
    "if m>n:\n",
    "    print(my_sum(m)+my_sum(n))\n",
    "else:\n",
    "    print(my_mul(m)+my_mul(n))"
   ]
  },
  {
   "cell_type": "code",
   "execution_count": null,
   "metadata": {
    "collapsed": true
   },
   "outputs": [],
   "source": []
  }
 ],
 "metadata": {
  "kernelspec": {
   "display_name": "Python 3",
   "language": "python",
   "name": "python3"
  },
  "language_info": {
   "codemirror_mode": {
    "name": "ipython",
    "version": 3
   },
   "file_extension": ".py",
   "mimetype": "text/x-python",
   "name": "python",
   "nbconvert_exporter": "python",
   "pygments_lexer": "ipython3",
   "version": "3.6.0"
  }
 },
 "nbformat": 4,
 "nbformat_minor": 2
}
