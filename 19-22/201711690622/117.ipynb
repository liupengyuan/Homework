{
 "cells": [
  {
   "cell_type": "code",
   "execution_count": 11,
   "metadata": {
    "collapsed": false
   },
   "outputs": [
    {
     "name": "stdout",
     "output_type": "stream",
     "text": [
      "请输入想取的数字的个数2\n",
      "最小范围3\n",
      "最大范围5\n",
      "2.6457513110645907\n"
     ]
    }
   ],
   "source": [
    "import random\n",
    "import math\n",
    "def ping():\n",
    "    i=0\n",
    "    total=0\n",
    "    while i<m:\n",
    "        i=i+1\n",
    "        x=random.randint(n,k)\n",
    "        total+=x\n",
    "    Total=math.sqrt(total)\n",
    "    print(Total)\n",
    "    \n",
    "m = int(input('请输入想取的数字的个数'))\n",
    "n = int(input('最小范围'))\n",
    "k = int(input('最大范围'))\n",
    "ping()"
   ]
  },
  {
   "cell_type": "code",
   "execution_count": null,
   "metadata": {
    "collapsed": true
   },
   "outputs": [],
   "source": []
  },
  {
   "cell_type": "code",
   "execution_count": null,
   "metadata": {
    "collapsed": true
   },
   "outputs": [],
   "source": []
  }
 ],
 "metadata": {
  "kernelspec": {
   "display_name": "Python 3",
   "language": "python",
   "name": "python3"
  },
  "language_info": {
   "codemirror_mode": {
    "name": "ipython",
    "version": 3
   },
   "file_extension": ".py",
   "mimetype": "text/x-python",
   "name": "python",
   "nbconvert_exporter": "python",
   "pygments_lexer": "ipython3",
   "version": "3.6.0"
  }
 },
 "nbformat": 4,
 "nbformat_minor": 2
}
