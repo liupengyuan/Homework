{
 "cells": [
  {
   "cell_type": "code",
   "execution_count": null,
   "metadata": {},
   "outputs": [],
   "source": [
    "import random,bisect,time\n",
    "A=[]\n",
    "B=random.shuffle(A)\n",
    "C=[]\n",
    "D=[]\n",
    "i=0\n",
    "k=0\n",
    "while i<100000:\n",
    "    i+=1\n",
    "    A.append(i)\n",
    "    while k<1000:\n",
    "        start_time=time.time()\n",
    "        num=random.randint(1,110000)\n",
    "        k+=1\n",
    "        for num in B:\n",
    "            numbers=text.count(num)\n",
    "            C.append([num,numbers])\n",
    "            end1_time=time.time()\n",
    "        return C\n",
    "        print('顺序查找用时'.format(end1_time - start_time))\n",
    "    \n",
    "        print(bisect,insort_left(A,num))\n",
    "        end2_time=time.time()\n",
    "        print('二分查找用时'.format(end2_time - start_time))\n",
    "    "
   ]
  },
  {
   "cell_type": "code",
   "execution_count": null,
   "metadata": {},
   "outputs": [],
   "source": []
  },
  {
   "cell_type": "code",
   "execution_count": null,
   "metadata": {
    "collapsed": true
   },
   "outputs": [],
   "source": []
  },
  {
   "cell_type": "code",
   "execution_count": null,
   "metadata": {
    "collapsed": true
   },
   "outputs": [],
   "source": []
  }
 ],
 "metadata": {
  "kernelspec": {
   "display_name": "Python 3",
   "language": "python",
   "name": "python3"
  },
  "language_info": {
   "codemirror_mode": {
    "name": "ipython",
    "version": 3
   },
   "file_extension": ".py",
   "mimetype": "text/x-python",
   "name": "python",
   "nbconvert_exporter": "python",
   "pygments_lexer": "ipython3",
   "version": "3.6.3"
  }
 },
 "nbformat": 4,
 "nbformat_minor": 2
}
