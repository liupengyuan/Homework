{
 "cells": [
  {
   "cell_type": "code",
   "execution_count": 3,
   "metadata": {},
   "outputs": [
    {
     "name": "stdout",
     "output_type": "stream",
     "text": [
      "请输入整数个数5\n",
      "请输入下界10\n",
      "请输入上界500\n",
      "第1个随机整数为： 16\n",
      "第2个随机整数为： 393\n",
      "第3个随机整数为： 113\n",
      "第4个随机整数为： 51\n",
      "第5个随机整数为： 224\n",
      "这5个整数的和的平方根为： 28.231188426986208\n"
     ]
    }
   ],
   "source": [
    "m = int(input('请输入整数个数'))\n",
    "n = int(input('请输入下界'))\n",
    "k = int(input('请输入上界'))\n",
    "\n",
    "if n > k:\n",
    "    n,k = k,n\n",
    "    \n",
    "import math, random\n",
    "i = 0\n",
    "sum = 0\n",
    "while i < m:\n",
    "    number = random.randint(n,k)\n",
    "    i += 1\n",
    "    print ('第%d个随机整数为：'%i, number)\n",
    "    sum += number\n",
    "sqrt = math.sqrt(sum)\n",
    "print ('这%d个整数的和的平方根为：'%m, sqrt)"
   ]
  }
 ],
 "metadata": {
  "kernelspec": {
   "display_name": "Python 3",
   "language": "python",
   "name": "python3"
  },
  "language_info": {
   "codemirror_mode": {
    "name": "ipython",
    "version": 3
   },
   "file_extension": ".py",
   "mimetype": "text/x-python",
   "name": "python",
   "nbconvert_exporter": "python",
   "pygments_lexer": "ipython3",
   "version": "3.6.2"
  }
 },
 "nbformat": 4,
 "nbformat_minor": 2
}
