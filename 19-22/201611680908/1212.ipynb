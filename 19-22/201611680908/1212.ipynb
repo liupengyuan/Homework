{
 "cells": [
  {
   "cell_type": "code",
   "execution_count": 42,
   "metadata": {},
   "outputs": [],
   "source": [
    "import random\n",
    "\n",
    "fh = open(r'c:\\temp\\idioms.txt')\n",
    "text = fh.read()\n",
    "text = text.replace('、', '')\n",
    "fh.close()\n",
    "\n",
    "idioms = text.split('\\n')\n",
    "\n",
    "ch = ''\n",
    "fh = open(r'c:\\temp\\all_idioms.txt','w')\n",
    "ch = ch.join(idioms)\n",
    "fh.writelines(ch)\n",
    "fh.close()\n",
    "\n",
    "chs = []\n",
    "for i in range(0, len(ch)):\n",
    "    chs.append(ch[i])\n",
    "\n",
    "def random_chs():\n",
    "    for i in range(10, 101, 10):\n",
    "        fh = open(r'c:\\temp\\%d.txt'%(i/10),'w')\n",
    "        fh.writelines(random.sample(chs, i))\n",
    "        fh.close()\n",
    "\n",
    "random_chs()"
   ]
  }
 ],
 "metadata": {
  "kernelspec": {
   "display_name": "Python 3",
   "language": "python",
   "name": "python3"
  },
  "language_info": {
   "codemirror_mode": {
    "name": "ipython",
    "version": 3
   },
   "file_extension": ".py",
   "mimetype": "text/x-python",
   "name": "python",
   "nbconvert_exporter": "python",
   "pygments_lexer": "ipython3",
   "version": "3.6.2"
  }
 },
 "nbformat": 4,
 "nbformat_minor": 2
}
