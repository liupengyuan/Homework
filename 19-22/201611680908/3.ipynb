{
 "cells": [
  {
   "cell_type": "code",
   "execution_count": 1,
   "metadata": {},
   "outputs": [
    {
     "name": "stdout",
     "output_type": "stream",
     "text": [
      "请输入姓名，回车结束大佬\n",
      "请输入出生月份（以阿拉伯数字表示）8\n",
      "请输入出生日期（以阿拉伯数字表示）31\n",
      "大佬, 你是非常有性格的处女座!\n"
     ]
    }
   ],
   "source": [
    "#练习 1：写程序，可由键盘读入用户姓名例如Mr. right，让用户输入出生的月份与日期，判断用户星座，假设用户是金牛座，则输出，Mr. right，你是非常有性格的金牛座！。\n",
    "name = input('请输入姓名，回车结束')\n",
    "month = int(input('请输入出生月份（以阿拉伯数字表示）'))\n",
    "day = int(input('请输入出生日期（以阿拉伯数字表示）'))\n",
    "\n",
    "if month == 1 and day >= 21 or month == 2 and day <= 19:\n",
    "    constellation = \"水瓶座\"\n",
    "elif month == 2 and day >= 20 or month == 3 and day <= 20:\n",
    "    constellation = \"双鱼座\"\n",
    "elif month == 3 and day >= 21 or month == 4 and day <= 20:\n",
    "    constellation = \"白羊座\"\n",
    "elif month == 4 and day >= 21or month == 5 and day <= 21:\n",
    "    constellation = \"金牛座\"\n",
    "elif month == 5 and day >= 22 or month == 6 and day <= 21:\n",
    "    constellation = \"双子座\"\n",
    "elif month == 6 and day >= 22 or month == 7 and day <= 23:\n",
    "    constellation = \"巨蟹座\"\n",
    "elif month == 7 and day >= 24 or month == 8 and day <= 23:\n",
    "    constellation = \"狮子座\"\n",
    "elif month == 8 and day >= 24 or month == 9 and day <= 23:\n",
    "    constellation = \"处女座\"\n",
    "elif month == 9 and day >= 24 or month == 10 and day <= 23:\n",
    "    constellation = \"天秤座\"\n",
    "elif month == 10 and day >= 24 or month == 11 and day <= 22:\n",
    "    constellation = \"天蝎座\"\n",
    "elif month == 11and day >= 23 or month == 12 and day <= 21:\n",
    "    constellation = \"射手座\"\n",
    "elif month == 12 and day >= 22 or month == 1 and day <= 20:\n",
    "    constellation = \"摩羯座\"\n",
    "\n",
    "print (name + ', 你是非常有性格的' + constellation + '!')\n",
    "    "
   ]
  },
  {
   "cell_type": "code",
   "execution_count": 20,
   "metadata": {},
   "outputs": [
    {
     "name": "stdout",
     "output_type": "stream",
     "text": [
      "请输入第一个整数，回车结束4\n",
      "请输入第二个整数，回车结束3\n",
      "请输入指令(sum, mul, mod, floor_division)floor_division\n",
      "1\n"
     ]
    }
   ],
   "source": [
    "#练习 2：写程序，可由键盘读入两个整数m与n(n不等于0)，询问用户意图，如果要求和则计算从m到n的和输出，如果要乘积则计算从m到n的积并输出，如果要求余数则计算m除以n的余数的值并输出，否则则计算m整除n的值并输出\n",
    "m = int(input('请输入第一个整数，回车结束'))\n",
    "n = int(input('请输入第二个整数，回车结束'))\n",
    "order = input('请输入指令(sum, mul, mod, floor_division)')\n",
    "sum = 0\n",
    "mul = 1\n",
    "\n",
    "if order == 'sum':\n",
    "    if n > m:\n",
    "        a = m\n",
    "        m = n\n",
    "        n = a\n",
    "        while m >= n:\n",
    "            sum += n\n",
    "            n += 1\n",
    "    else:\n",
    "        while m >= n:\n",
    "            sum += n\n",
    "            n += 1\n",
    "    print (sum)\n",
    "    \n",
    "elif order == 'mul':\n",
    "    if n > m:\n",
    "        a = m\n",
    "        m = n\n",
    "        n = a\n",
    "        while m >= n:\n",
    "            mul *= n\n",
    "            n += 1\n",
    "    else:\n",
    "        while m >= n:\n",
    "            mul *= n\n",
    "            n += 1\n",
    "    print (mul)\n",
    "\n",
    "elif order == 'mod':\n",
    "    mod = m % n\n",
    "    print (mod)\n",
    "\n",
    "elif order == 'floor_division':\n",
    "    floor_division = m // n\n",
    "    print (floor_division)\n"
   ]
  },
  {
   "cell_type": "code",
   "execution_count": 22,
   "metadata": {},
   "outputs": [
    {
     "name": "stdout",
     "output_type": "stream",
     "text": [
      "请输入今日AQI指数：500\n",
      "R.I.P.\n"
     ]
    }
   ],
   "source": [
    "#练习 3：写程序，能够根据北京雾霾PM2.5数值给出对应的防护建议。如当PM2.5数值大于500，则应该打开空气净化器，戴防雾霾口罩等。\n",
    "aqi = int(input('请输入今日AQI指数：'))\n",
    "\n",
    "if 0 < aqi <= 50:\n",
    "    print ('今日空气质量为优，可正常出行')\n",
    "elif 50 < aqi <= 100:\n",
    "    print ('今日空气质量为良，少数敏感人群应减少户外活动')\n",
    "elif 100 < aqi <= 150:\n",
    "    print ('今日空气质量为轻度污染。儿童、老年人及心脏病、呼吸系统疾病患者应减少长时间、高强度户外锻炼')\n",
    "elif 150 < aqi <= 200:\n",
    "    print ('今日空气质量为中度污染。请适量减少户外锻炼')\n",
    "elif 200 < aqi <= 300:\n",
    "    print ('今日空气质量为重度污染。请尽量停留在室内，外出佩戴口罩')\n",
    "elif aqi > 300:\n",
    "    print ('R.I.P.')"
   ]
  },
  {
   "cell_type": "code",
   "execution_count": 33,
   "metadata": {},
   "outputs": [
    {
     "name": "stdout",
     "output_type": "stream",
     "text": [
      "请输入一个想要转换复数形式的英文名词原形：sky\n",
      "变y为i加es\n"
     ]
    }
   ],
   "source": [
    "#练习 4：英文单词单数转复数，要求输入一个英文动词（单数形式），能够得到其复数形式，或给出单数转复数形式的建议。\n",
    "word = input('请输入一个想要转换复数形式的英文名词原形：')\n",
    "\n",
    "if word.endswith('s') or word.endswith('ch') or word.endswith('sh') or word.endswith('x'):\n",
    "    print (word + 'es')\n",
    "elif word.endswith('by') or word.endswith('ty') or word.endswith('cy') or word.endswith('dy') or word.endswith('gy')\\\n",
    "or word.endswith('ky') or word.endswith('ly') or word.endswith('my') or word.endswith('py') or word.endswith('ry')\\\n",
    "or word.endswith('sy') or word.endswith('vy'):\n",
    "    print ('变y为i加es')\n",
    "elif word.endswith('f') or word.endswith('fe'):\n",
    "    print ('变f/fe为v加es')\n",
    "else:\n",
    "    print (word + 's')"
   ]
  },
  {
   "cell_type": "code",
   "execution_count": 35,
   "metadata": {},
   "outputs": [
    {
     "name": "stdout",
     "output_type": "stream",
     "text": [
      "鹏远说，要有空行。\n",
      "请按回车\n",
      "\n",
      "\n",
      "\n",
      "\n",
      "\n",
      "\n",
      "done\n"
     ]
    }
   ],
   "source": [
    "print('鹏远说，要有空行。')\n",
    "if input('请按回车') == '':\n",
    "    print ('\\n'*5)\n",
    "    print ('done')"
   ]
  },
  {
   "cell_type": "code",
   "execution_count": 29,
   "metadata": {},
   "outputs": [
    {
     "name": "stdout",
     "output_type": "stream",
     "text": [
      "请键入要输入的整数个数，回车结束3\n",
      "请输入一个整数，回车结束-100\n",
      "请输入一个整数，回车结束-20\n",
      "请输入一个整数，回车结束-300\n",
      "-100\n"
     ]
    }
   ],
   "source": [
    "# 由用户输入一些整数，能够得到几个整数中的次大值(第二大的值)并输出。\n",
    "m = int(input('请键入要输入的整数个数，回车结束'))\n",
    "\n",
    "max_num = int(input('请输入一个整数，回车结束'))\n",
    "num = max_num\n",
    "\n",
    "i = 1\n",
    "while i < m:\n",
    "    i += 1\n",
    "    n = int(input('请输入一个整数，回车结束'))\n",
    "    if n > max_num:\n",
    "        num = max_num\n",
    "        max_num = n\n",
    "    else:\n",
    "        if num < max_num and n < max_num and n > num:\n",
    "            num = n\n",
    "        elif n < num and num == max_num:\n",
    "            num = n\n",
    "        \n",
    "print (num)             "
   ]
  }
 ],
 "metadata": {
  "kernelspec": {
   "display_name": "Python 3",
   "language": "python",
   "name": "python3"
  },
  "language_info": {
   "codemirror_mode": {
    "name": "ipython",
    "version": 3
   },
   "file_extension": ".py",
   "mimetype": "text/x-python",
   "name": "python",
   "nbconvert_exporter": "python",
   "pygments_lexer": "ipython3",
   "version": "3.6.2"
  }
 },
 "nbformat": 4,
 "nbformat_minor": 2
}
