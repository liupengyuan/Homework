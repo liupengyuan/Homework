{
 "cells": [
  {
   "cell_type": "code",
   "execution_count": 23,
   "metadata": {},
   "outputs": [
    {
     "name": "stdout",
     "output_type": "stream",
     "text": [
      "龙马精神\n",
      "请输入一个成语进行接龙：神机妙算\n",
      "游戏结束\n",
      "你的分数：20\n",
      "电脑得分：0\n",
      "你赢了\n"
     ]
    }
   ],
   "source": [
    "#成语接龙游戏\n",
    "import random\n",
    "\n",
    "def end():\n",
    "    print('游戏结束')\n",
    "    print('你的分数：%d'%player)\n",
    "    print('电脑得分：%d'%computer)\n",
    "    if player > computer:\n",
    "        print('你赢了')\n",
    "    elif player < computer:\n",
    "        print('你输了')\n",
    "    else:\n",
    "        print('平局')\n",
    "        \n",
    "player = 0\n",
    "computer = 0\n",
    "\n",
    "fh = open(r'c:\\temp\\成语大全.txt')\n",
    "text = fh.read()\n",
    "idioms = text.split('\\n')\n",
    "idioms_2 = []\n",
    "fh.close()\n",
    "\n",
    "idiom = random.choice(idioms)\n",
    "print(idiom)\n",
    "\n",
    "while True:\n",
    "    answer = input('请输入一个成语进行接龙：')\n",
    "    if answer in idioms and answer[0] == idiom[-1]:\n",
    "        player += 10      \n",
    "       \n",
    "        for idiom in idioms:\n",
    "            if answer[-1] == idiom[0]:\n",
    "                print('计算机接龙：',idiom)\n",
    "                computer += 10\n",
    "                break\n",
    "            else:\n",
    "                idioms_2.append(idiom)\n",
    "        if len(idioms_2) == len(idioms):\n",
    "            player += 10\n",
    "            end()\n",
    "            break\n",
    "        \n",
    "    else:\n",
    "        computer += 10\n",
    "        end()\n",
    "        break"
   ]
  }
 ],
 "metadata": {
  "kernelspec": {
   "display_name": "Python 3",
   "language": "python",
   "name": "python3"
  },
  "language_info": {
   "codemirror_mode": {
    "name": "ipython",
    "version": 3
   },
   "file_extension": ".py",
   "mimetype": "text/x-python",
   "name": "python",
   "nbconvert_exporter": "python",
   "pygments_lexer": "ipython3",
   "version": "3.6.2"
  }
 },
 "nbformat": 4,
 "nbformat_minor": 2
}
