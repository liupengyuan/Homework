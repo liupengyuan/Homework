{
 "cells": [
  {
   "cell_type": "code",
   "execution_count": 8,
   "metadata": {},
   "outputs": [
    {
     "name": "stdout",
     "output_type": "stream",
     "text": [
      "请输入一个字符串：assilvbfuv\n"
     ]
    },
    {
     "data": {
      "text/plain": [
       "'vufbvlissa'"
      ]
     },
     "execution_count": 8,
     "metadata": {},
     "output_type": "execute_result"
    }
   ],
   "source": [
    "#练习一：自己定义一个reverse(s)函数，功能返回字符串s的倒序字符串。\n",
    "def reverse(s):\n",
    "    s_reverse = []\n",
    "    for i in range(1,len(s)+1):\n",
    "        s_reverse.append(s[len(s)-i])\n",
    "    return ''.join(s_reverse)\n",
    "\n",
    "s = input('请输入一个字符串：')\n",
    "reverse(s)"
   ]
  },
  {
   "cell_type": "code",
   "execution_count": 20,
   "metadata": {},
   "outputs": [
    {
     "name": "stdout",
     "output_type": "stream",
     "text": [
      "请输入符号：*\n",
      "请输入行数5\n",
      "系统将依次打印出直角三角形、等腰三角形、等边三角形、钝角三角形、锐角三角形\n",
      "*\n",
      "**\n",
      "***\n",
      "****\n",
      "*****\n",
      "    *\n",
      "   ***\n",
      "  *****\n",
      " *******\n",
      "*********\n",
      "    *\n",
      "   * *\n",
      "  * * *\n",
      " * * * *\n",
      "* * * * *\n",
      "        *\n",
      "      *        *\n",
      "    *        *        *\n",
      "  *        *        *        *\n",
      "*        *        *        *        *\n",
      "     *\n",
      "    ***\n",
      "   *****\n",
      "  *******\n",
      " *********\n"
     ]
    }
   ],
   "source": [
    "#练习二：写函数，根据给定符号和行数，打印相应直角三角形，等腰三角形及其他形式的三角形。\n",
    "def right_angle(sym, num):\n",
    "    for i in range(1, num+1):\n",
    "        print(sym*i)\n",
    "        \n",
    "def isosceles(sym, num):\n",
    "    for i in range(1, num+1):\n",
    "        print(' '*(num-i)+ sym*(2*i-1))\n",
    "\n",
    "def equal(sym, num):\n",
    "    for i in range(1, num+1):\n",
    "        print(' '*(num-i)+ sym + (' ' + sym)*(i-1))\n",
    "\n",
    "def obtuse_angle(sym, num):\n",
    "    for i in range(1, num+1):\n",
    "        print('  '*(num-i)+ sym + ('        ' + sym)*(i-1))\n",
    "        \n",
    "def acute_angle(sym, num):\n",
    "    for i in range(1, num+1):\n",
    "        print(' '*(num-i+1)+ sym*(2*i-1))\n",
    "\n",
    "sym = input('请输入符号：')\n",
    "num = int(input('请输入行数'))\n",
    "print('系统将依次打印出直角三角形、等腰三角形、等边三角形、钝角三角形、锐角三角形')\n",
    "right_angle(sym, num)\n",
    "isosceles(sym, num)\n",
    "equal(sym, num)\n",
    "obtuse_angle(sym, num)\n",
    "acute_angle(sym, num)"
   ]
  },
  {
   "cell_type": "code",
   "execution_count": 27,
   "metadata": {},
   "outputs": [
    {
     "name": "stdout",
     "output_type": "stream",
     "text": [
      "请输入符号：*\n",
      "     *\n",
      "    ***\n",
      "   *****\n",
      "  *******\n",
      " *********\n",
      "  *******\n",
      "   *****\n",
      "    ***\n",
      "     *\n",
      "\n",
      "*****\n",
      "*****\n",
      "*****\n",
      "*****\n",
      "*****\n",
      "\n",
      "    *****\n",
      "   *****\n",
      "  *****\n",
      " *****\n",
      "*****\n"
     ]
    }
   ],
   "source": [
    "#练习五：写函数，根据给定符号，打印各种菱形。\n",
    "def rhombus(sym, num):\n",
    "    for i in range(1, num+1):\n",
    "        print(' '*(num-i+1) + sym*(2*i-1))\n",
    "    for i in range(2, num+1):\n",
    "        print(' '*(i) + sym*(2*(num-i)+1))\n",
    "        \n",
    "    print()\n",
    "    \n",
    "    for i in range(1,num+1):\n",
    "        print(sym*num)\n",
    "    \n",
    "    print()\n",
    "    \n",
    "    for i in range(1, num+1):\n",
    "        print(' '*(num-i) + sym*num)\n",
    "\n",
    "sym = input('请输入符号：')\n",
    "\n",
    "rhombus(sym, 5)"
   ]
  }
 ],
 "metadata": {
  "kernelspec": {
   "display_name": "Python 3",
   "language": "python",
   "name": "python3"
  },
  "language_info": {
   "codemirror_mode": {
    "name": "ipython",
    "version": 3
   },
   "file_extension": ".py",
   "mimetype": "text/x-python",
   "name": "python",
   "nbconvert_exporter": "python",
   "pygments_lexer": "ipython3",
   "version": "3.6.2"
  }
 },
 "nbformat": 4,
 "nbformat_minor": 2
}
