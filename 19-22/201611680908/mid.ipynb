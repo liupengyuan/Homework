{
 "cells": [
  {
   "cell_type": "code",
   "execution_count": 13,
   "metadata": {},
   "outputs": [
    {
     "name": "stdout",
     "output_type": "stream",
     "text": [
      "请输入项数5\n"
     ]
    },
    {
     "data": {
      "text/plain": [
       "35"
      ]
     },
     "execution_count": 13,
     "metadata": {},
     "output_type": "execute_result"
    }
   ],
   "source": [
    "## 1\n",
    "def total(m):\n",
    "    total = 1\n",
    "    i = 1\n",
    "    num = 1\n",
    "    while i < m:\n",
    "        i += 1\n",
    "        num += i\n",
    "        total += num\n",
    "    return total\n",
    "m = int(input('请输入项数'))\n",
    "total(m)"
   ]
  },
  {
   "cell_type": "code",
   "execution_count": 19,
   "metadata": {},
   "outputs": [
    {
     "name": "stdout",
     "output_type": "stream",
     "text": [
      "请给定图案：*\n",
      "请给定行数：5\n",
      "*\n",
      "***\n",
      "*****\n",
      "*******\n",
      "*********\n"
     ]
    }
   ],
   "source": [
    "#2\n",
    "def draw(syn, num):\n",
    "    i = 1\n",
    "    n = 1\n",
    "    while i <= num:\n",
    "        print (syn * n)\n",
    "        n += 2\n",
    "        i += 1\n",
    "syn = input('请给定图案：')\n",
    "num = int(input('请给定行数：'))\n",
    "draw(syn, num)"
   ]
  },
  {
   "cell_type": "code",
   "execution_count": 27,
   "metadata": {},
   "outputs": [
    {
     "name": "stdout",
     "output_type": "stream",
     "text": [
      "请输入一个正整数536768785\n",
      "5\n"
     ]
    }
   ],
   "source": [
    "#3\n",
    "def first_num(number):\n",
    "    number = str(number)\n",
    "    list0 = list(number)\n",
    "    print(list0[0])\n",
    "number = int(input('请输入一个正整数'))\n",
    "first_num(number)"
   ]
  },
  {
   "cell_type": "code",
   "execution_count": 35,
   "metadata": {},
   "outputs": [
    {
     "name": "stdout",
     "output_type": "stream",
     "text": [
      "请依次输入各队员身高(单位：厘米)。输入0结束183\n",
      "请依次输入各队员身高(单位：厘米)。输入0结束185\n",
      "请依次输入各队员身高(单位：厘米)。输入0结束183\n",
      "请依次输入各队员身高(单位：厘米)。输入0结束187\n",
      "请依次输入各队员身高(单位：厘米)。输入0结束178\n",
      "请依次输入各队员身高(单位：厘米)。输入0结束175\n",
      "请依次输入各队员身高(单位：厘米)。输入0结束177\n",
      "请依次输入各队员身高(单位：厘米)。输入0结束190\n",
      "请依次输入各队员身高(单位：厘米)。输入0结束172\n",
      "请依次输入各队员身高(单位：厘米)。输入0结束0\n",
      "平均身高为： 181.11111111111111\n",
      "183 高于平均身高\n",
      "185 高于平均身高\n",
      "183 高于平均身高\n",
      "187 高于平均身高\n",
      "190 高于平均身高\n"
     ]
    }
   ],
   "source": [
    "#4\n",
    "i = 0\n",
    "total_h = 0\n",
    "list = []\n",
    "while True:\n",
    "    height = int(input('请依次输入各队员身高(单位：厘米)。输入0结束'))\n",
    "    i += 1\n",
    "    list.append(height)\n",
    "    total_h += height\n",
    "    if height == 0:\n",
    "        break\n",
    "avg_h = total_h / (i-1)\n",
    "print ('平均身高为：', avg_h)\n",
    "for num in list:\n",
    "    if num > avg_h:\n",
    "        print (num, '高于平均身高')"
   ]
  },
  {
   "cell_type": "code",
   "execution_count": 38,
   "metadata": {},
   "outputs": [
    {
     "name": "stdout",
     "output_type": "stream",
     "text": [
      "请计算 10 与 9 的和\n",
      "答案是：19\n",
      "答对了！\n",
      "请计算 3 与 1 的和\n",
      "答案是：4\n",
      "答对了！\n",
      "请计算 3 与 9 的和\n",
      "答案是：2\n",
      "答错了……\n",
      "请计算 7 与 2 的和\n",
      "答案是：9\n",
      "答对了！\n",
      "请计算 8 与 8 的和\n",
      "答案是：16\n",
      "答对了！\n",
      "最终得分为： 80\n"
     ]
    }
   ],
   "source": [
    "#5\n",
    "import random\n",
    "score = 0\n",
    "i = 0\n",
    "while i < 5:\n",
    "    i += 1\n",
    "    number1 = random.randint(1,10)\n",
    "    number2 = random.randint(1,10)\n",
    "    sum = number1 + number2\n",
    "    print('请计算',number1,'与',number2,'的和')\n",
    "    ans = int(input('答案是：'))\n",
    "    if ans == sum:\n",
    "        print ('答对了！')\n",
    "        score += 20\n",
    "    else:\n",
    "        print ('答错了……')\n",
    "print('最终得分为：', score)"
   ]
  },
  {
   "cell_type": "code",
   "execution_count": 2,
   "metadata": {},
   "outputs": [
    {
     "name": "stdout",
     "output_type": "stream",
     "text": [
      "请输入数字个数：7\n",
      "请向列表内增加一个数字：3\n",
      "请向列表内增加一个数字：-5\n",
      "请向列表内增加一个数字：9\n",
      "请向列表内增加一个数字：108\n",
      "请向列表内增加一个数字：34\n",
      "请向列表内增加一个数字：-76\n",
      "请向列表内增加一个数字：88\n",
      "[108, 88, 34, 9, 3, -5, -76]\n"
     ]
    }
   ],
   "source": [
    "## 6(我只会这么做了呜呜……)\n",
    "list = []\n",
    "i = 0\n",
    "n = int(input('请输入数字个数：'))\n",
    "while i < n:\n",
    "    i += 1\n",
    "    ob = int(input('请向列表内增加一个数字：'))\n",
    "    list.append(ob)\n",
    "\n",
    "list.sort(reverse = True)\n",
    "print(list)"
   ]
  },
  {
   "cell_type": "code",
   "execution_count": null,
   "metadata": {},
   "outputs": [],
   "source": [
    "## 6\n",
    "list = []\n",
    "i = 0\n",
    "n = int(input('请输入数字个数：'))\n",
    "while i < n:\n",
    "    i += 1\n",
    "    ob = int(input('请向列表内增加一个数字：'))\n",
    "    list.append(ob)\n",
    "\n",
    "\n",
    "for num in list:\n",
    "    print(max(list))\n",
    "    print(min(list))"
   ]
  }
 ],
 "metadata": {
  "kernelspec": {
   "display_name": "Python 3",
   "language": "python",
   "name": "python3"
  },
  "language_info": {
   "codemirror_mode": {
    "name": "ipython",
    "version": 3
   },
   "file_extension": ".py",
   "mimetype": "text/x-python",
   "name": "python",
   "nbconvert_exporter": "python",
   "pygments_lexer": "ipython3",
   "version": "3.6.2"
  }
 },
 "nbformat": 4,
 "nbformat_minor": 2
}
