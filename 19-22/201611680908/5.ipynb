{
 "cells": [
  {
   "cell_type": "code",
   "execution_count": 8,
   "metadata": {},
   "outputs": [
    {
     "name": "stdout",
     "output_type": "stream",
     "text": [
      "请输入一个大于0的整数，作为神秘整数的上界。回车结束100\n",
      "请输入你想猜测的整数，回车结束50\n",
      "一共可以猜 7 次\n",
      "你已经猜了 1 次\n",
      "抱歉，你猜大了\n",
      "请输入你想猜测的整数，回车结束25\n",
      "一共可以猜 7 次\n",
      "你已经猜了 2 次\n",
      "Win!\n",
      "神秘数字是： 25\n",
      "你比标准次数少 5 次\n"
     ]
    }
   ],
   "source": [
    "import random,math\n",
    "def menu():\n",
    "    print('=====游戏菜单=====\\n1. 游戏说明\\n2. 开始游戏\\n3. 退出游戏\\n4. 制作团队\\n=====游戏菜单=====')\n",
    "def win():\n",
    "    print('Win!')   \n",
    "def lose():\n",
    "    print('Lose!')\n",
    "def welcome():\n",
    "    print ('欢迎！')\n",
    "def guess_game():\n",
    "    n = int(input('请输入一个大于0的整数，作为上界。回车结束'))\n",
    "    print ('请在小于输入的数字中选择一个整数，记下来，游戏开始！')\n",
    "    max_times = math.ceil(math.log2(n))\n",
    "    guess_times = 0\n",
    "    while guess_times < max_times:\n",
    "        number = random.randint(1,n)\n",
    "        print ('是',number, '吗？（请判断大、小、正确）')\n",
    "        answer = input()\n",
    "        guess_times += 1\n",
    "        print('一共可以猜', max_times,'次')\n",
    "        print('本AI已经猜了',guess_times,'次')\n",
    "        \n",
    "        if answer == '大':\n",
    "            print('emmm，容我再想想')\n",
    "        elif answer == '小':\n",
    "            print('emmm，容我再想想')\n",
    "        else:\n",
    "            print('哒哒哒哒哒')\n",
    "            lose()\n",
    "    else:\n",
    "        print ('我还会回来的！！')\n",
    "        win()\n",
    "        \n",
    "guess_game()"
   ]
  },
  {
   "cell_type": "code",
   "execution_count": 13,
   "metadata": {},
   "outputs": [
    {
     "name": "stdout",
     "output_type": "stream",
     "text": [
      "这里，i= 0\n",
      "==================\n",
      "if结构内部，i= 100\n",
      "==================\n",
      "i= 0\n",
      "j= 0\n",
      "j= 1\n",
      "j= 2\n",
      "break出当前层循环结构\n",
      "i= 1\n",
      "j= 2\n",
      "break出当前层循环结构\n",
      "i= 2\n",
      "j= 2\n",
      "break出当前层循环结构\n",
      "i= 3\n",
      "j= 2\n",
      "break出当前层循环结构\n",
      "i= 4\n",
      "j= 2\n",
      "break出当前层循环结构\n"
     ]
    }
   ],
   "source": [
    "i = 0\n",
    "while i < 1000:\n",
    "    print('这里，i=', i)\n",
    "    break\n",
    "\n",
    "print('==================')\n",
    "\n",
    "i = 0\n",
    "while i < 1000:\n",
    "    i += 1\n",
    "    if i==100:\n",
    "        print('if结构内部，i=', i)\n",
    "        break\n",
    "        \n",
    "print('==================')\n",
    "\n",
    "i = 0\n",
    "j=0\n",
    "while i < 5:\n",
    "    print('i=', i)\n",
    "    while j < 100:\n",
    "        print('j=', j)\n",
    "        if j == 2:\n",
    "            print('break出当前层循环结构')\n",
    "            break\n",
    "        j += 1\n",
    "    i += 1"
   ]
  },
  {
   "cell_type": "code",
   "execution_count": 14,
   "metadata": {},
   "outputs": [
    {
     "name": "stdout",
     "output_type": "stream",
     "text": [
      "0.909096597494387\n",
      "0.9901051997189064\n",
      "0.9712921357271399\n",
      "0.8538196885887607\n",
      "0.596376376416574\n"
     ]
    }
   ],
   "source": [
    "import random\n",
    "\n",
    "i=0\n",
    "while i < 5:\n",
    "    n = random.random()\n",
    "    print(n)\n",
    "    i += 1"
   ]
  },
  {
   "cell_type": "code",
   "execution_count": 16,
   "metadata": {},
   "outputs": [
    {
     "name": "stdout",
     "output_type": "stream",
     "text": [
      "2.718281828459045\n"
     ]
    }
   ],
   "source": [
    "import math\n",
    "print(math.exp(1))"
   ]
  },
  {
   "cell_type": "code",
   "execution_count": 2,
   "metadata": {},
   "outputs": [
    {
     "name": "stdout",
     "output_type": "stream",
     "text": [
      "请输入整数下界1\n",
      "请输入整数上界10\n",
      "请输入整数个数3\n",
      "第1个随机整数为： 7\n",
      "第2个随机整数为： 5\n",
      "第3个随机整数为： 5\n",
      "3个随机整数均值的平方根为: 2.3804761428476167\n"
     ]
    }
   ],
   "source": [
    "#练习 1：写函数，求n个随机整数均值的平方根，整数范围在m与k之间（n,m,k由用户输入）。\n",
    "m = int(input('请输入整数下界'))\n",
    "k = int(input('请输入整数上界'))\n",
    "n = int(input('请输入整数个数'))\n",
    "i = 0\n",
    "sum = 0\n",
    "\n",
    "if m > k:\n",
    "    print('请保证输入下界小于上界')\n",
    "    \n",
    "import math, random\n",
    "while i < n:\n",
    "    i += 1\n",
    "    num = random.randint(m,k)\n",
    "    print('第%d个随机整数为：'%i, num)\n",
    "    sum += num\n",
    "\n",
    "avg = sum / n\n",
    "print('%d个随机整数均值的平方根为:'%n,math.sqrt(avg))\n",
    "    \n",
    "    "
   ]
  },
  {
   "cell_type": "code",
   "execution_count": 6,
   "metadata": {},
   "outputs": [
    {
     "name": "stdout",
     "output_type": "stream",
     "text": [
      "请输入整数下界4\n",
      "请输入整数上界4\n",
      "请输入整数个数1\n",
      "第1个随机整数为： 4\n",
      "1.3862943611198906\n",
      "0.7213475204444817\n"
     ]
    }
   ],
   "source": [
    "#练习 2：写函数，共n个随机整数，整数范围在m与k之间，（n,m,k由用户输入）。求1：西格玛log(随机整数)，2：西格玛1/log(随机整数)\n",
    "m = int(input('请输入整数下界'))\n",
    "k = int(input('请输入整数上界'))\n",
    "n = int(input('请输入整数个数'))\n",
    "if n > k:\n",
    "    n,k = k,n\n",
    "\n",
    "import math, random\n",
    "i = 0\n",
    "sum1 = 0\n",
    "sum2 = 0\n",
    "while i < n:\n",
    "    number = random.randint(m,k)\n",
    "    i += 1\n",
    "    print ('第%d个随机整数为：'%i, number)\n",
    "    sum1 += math.log(number)\n",
    "    sum2 += 1/math.log(number)\n",
    "\n",
    "print (sum1)\n",
    "print (sum2)\n"
   ]
  },
  {
   "cell_type": "code",
   "execution_count": 88,
   "metadata": {},
   "outputs": [
    {
     "name": "stdout",
     "output_type": "stream",
     "text": [
      "请输入求和整数个数：2\n",
      "随机数为： 7\n",
      "所求和为： 84\n"
     ]
    }
   ],
   "source": [
    "#练习 3：写函数，求s=a+aa+aaa+aaaa+aa...a的值，其中a是[1,9]之间的随机整数。例如2+22+222+2222+22222(此时共有5个数相加)，几个数相加由键盘输入。\n",
    "n = int(input('请输入求和整数个数：'))\n",
    "i = 1\n",
    "p = 1\n",
    "\n",
    "import random\n",
    "num = random.randint(1,9)\n",
    "sum = num\n",
    "print('随机数为：', num)\n",
    "\n",
    "while p < n:\n",
    "    i += 10**p\n",
    "    p += 1\n",
    "    sum += num*i\n",
    "\n",
    "print('所求和为：', sum)\n"
   ]
  },
  {
   "cell_type": "code",
   "execution_count": 1,
   "metadata": {},
   "outputs": [
    {
     "name": "stdout",
     "output_type": "stream",
     "text": [
      "请输入一个大于0的整数，作为上界。回车结束10\n",
      "请在小于输入的数字中选择一个整数，记下来，游戏开始！\n",
      "是 3 吗？（请判断大、小、正确）\n",
      "小\n",
      "一共可以猜 4 次\n",
      "本AI已经猜了 1 次\n",
      "emmm，容我再想想\n",
      "是 6 吗？（请判断大、小、正确）\n",
      "大\n",
      "一共可以猜 4 次\n",
      "本AI已经猜了 2 次\n",
      "emmm，容我再想想\n",
      "是 4 吗？（请判断大、小、正确）\n",
      "小\n",
      "一共可以猜 4 次\n",
      "本AI已经猜了 3 次\n",
      "emmm，容我再想想\n",
      "是 5 吗？（请判断大、小、正确）\n",
      "正确\n",
      "一共可以猜 4 次\n",
      "本AI已经猜了 4 次\n",
      "哒哒哒哒哒\n",
      "你输了!\n"
     ]
    }
   ],
   "source": [
    "#挑战性练习：仿照task5，将猜数游戏改成由用户随便选择一个整数，让计算机来猜测的猜数游戏，要求和task5中人猜测的方法类似，但是人机角色对换，由人来判断猜测是大、小还是相等，请写出完整的猜数游戏。\n",
    "\n",
    "def win():\n",
    "    print('你赢啦!')   \n",
    "def lose():\n",
    "    print('你输了!')\n",
    "def welcome():\n",
    "    print ('欢迎！')\n",
    "def guess_game():\n",
    "    import math,random\n",
    "    n = int(input('请输入一个大于0的整数，作为上界。回车结束'))\n",
    "    print ('请在小于输入的数字中选择一个整数，记下来，游戏开始！')\n",
    "    max_times = math.ceil(math.log2(n))\n",
    "    guess_times = 0\n",
    "    min = 1\n",
    "    max = n\n",
    "    while guess_times < max_times:\n",
    "        number = random.randint(1,n)\n",
    "        if guess_times >= 1:\n",
    "            number = random.randint(min,max)\n",
    "        print ('是',number, '吗？（请判断大、小、正确）')\n",
    "        answer = input()\n",
    "        guess_times += 1\n",
    "        print('一共可以猜', max_times,'次')\n",
    "        print('本AI已经猜了',guess_times,'次')\n",
    "        \n",
    "        if answer == '大':\n",
    "            print('emmm，容我再想想')\n",
    "            max = number - 1\n",
    "        elif answer == '小':\n",
    "            print('emmm，容我再想想')\n",
    "            min = number + 1\n",
    "        else:\n",
    "            print('哒哒哒哒哒')\n",
    "            lose()\n",
    "            break\n",
    "    else:\n",
    "        print ('口亨，我还会回来的！！')\n",
    "        win()\n",
    "\n",
    "guess_game()"
   ]
  },
  {
   "cell_type": "code",
   "execution_count": null,
   "metadata": {
    "collapsed": true
   },
   "outputs": [],
   "source": []
  }
 ],
 "metadata": {
  "kernelspec": {
   "display_name": "Python 3",
   "language": "python",
   "name": "python3"
  },
  "language_info": {
   "codemirror_mode": {
    "name": "ipython",
    "version": 3
   },
   "file_extension": ".py",
   "mimetype": "text/x-python",
   "name": "python",
   "nbconvert_exporter": "python",
   "pygments_lexer": "ipython3",
   "version": "3.6.2"
  }
 },
 "nbformat": 4,
 "nbformat_minor": 2
}
