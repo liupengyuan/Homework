{
 "cells": [
  {
   "cell_type": "code",
   "execution_count": 13,
   "metadata": {},
   "outputs": [
    {
     "name": "stdout",
     "output_type": "stream",
     "text": [
      "899 -10 106.72999999999999\n"
     ]
    }
   ],
   "source": [
    "#写函数，返回一个list中的最大值，最小值，平均值。（不用内置的求和求函数）\n",
    "def list(numbers):\n",
    "    n = len(numbers)\n",
    "    i = 0\n",
    "    min_num = numbers[0]\n",
    "    max_num = numbers[1]\n",
    "    sum = numbers[0]\n",
    "    while i < n-1:\n",
    "        i += 1\n",
    "        if numbers[i] < min_num:\n",
    "            min_num = numbers[i]\n",
    "        elif numbers[i] > max_num:\n",
    "            max_num = numbers[i]\n",
    "        sum += numbers[i]\n",
    "        avg = sum / len(numbers)\n",
    "    print(max_num,min_num,avg)\n",
    "    \n",
    "numbers = [1,2,-1,55,100,899,-10,3,12.5,5.8]\n",
    "list(numbers)"
   ]
  }
 ],
 "metadata": {
  "kernelspec": {
   "display_name": "Python 3",
   "language": "python",
   "name": "python3"
  },
  "language_info": {
   "codemirror_mode": {
    "name": "ipython",
    "version": 3
   },
   "file_extension": ".py",
   "mimetype": "text/x-python",
   "name": "python",
   "nbconvert_exporter": "python",
   "pygments_lexer": "ipython3",
   "version": "3.6.2"
  }
 },
 "nbformat": 4,
 "nbformat_minor": 2
}
