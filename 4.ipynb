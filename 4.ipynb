{
 "cells": [
  {
   "cell_type": "code",
   "execution_count": 1,
   "metadata": {},
   "outputs": [
    {
     "name": "stdout",
     "output_type": "stream",
     "text": [
      "请输入第一个数字：4\n",
      "请输入第二个数字：6\n",
      "请输入第三个数字：7\n",
      "结果是5784。\n"
     ]
    }
   ],
   "source": [
    "def fac(n):\n",
    "    i = 0\n",
    "    factorial = 1\n",
    "    while i < n:\n",
    "        i = i + 1\n",
    "        factorial = factorial * i\n",
    "    return factorial\n",
    "\n",
    "m = int(input('请输入第一个数字：'))\n",
    "n = int(input('请输入第二个数字：'))\n",
    "k = int(input('请输入第三个数字：'))\n",
    "final = fac(m) + fac(n) + fac(k)\n",
    "print('结果是' + str(final) + '。')"
   ]
  },
  {
   "cell_type": "code",
   "execution_count": 2,
   "metadata": {},
   "outputs": [
    {
     "name": "stdout",
     "output_type": "stream",
     "text": [
      "请输入您的n：10000\n",
      "结果是：3.1414926535900345\n"
     ]
    }
   ],
   "source": [
    "def func(n):\n",
    "    total = 0\n",
    "    i = 0\n",
    "    while i < n:\n",
    "        i += 1\n",
    "        k = (-1) ** (i + 1) / (2 * i - 1)\n",
    "        total += k\n",
    "    return total\n",
    "\n",
    "n = int(input('请输入您的n：'))\n",
    "print('结果是：' + str(4 * func(n)))\n",
    "\n"
   ]
  },
  {
   "cell_type": "code",
   "execution_count": 3,
   "metadata": {},
   "outputs": [
    {
     "name": "stdout",
     "output_type": "stream",
     "text": [
      "请问您的姓名是：White\n",
      "请输入您生日的月份：8\n",
      "请输入您出生的号数：30\n",
      "White，您的星座是：处女座\n"
     ]
    }
   ],
   "source": [
    "def constellation(month, day):\n",
    "    if month < 2:\n",
    "        if day < 20:\n",
    "            cons = '摩羯座'\n",
    "        else:\n",
    "            cons = '水瓶座'\n",
    "    elif month < 3:\n",
    "        if day < 19:\n",
    "            cons = '水瓶座'\n",
    "        else:\n",
    "            cons = '双鱼座'\n",
    "    elif month < 4:\n",
    "        if day < 21:\n",
    "            cons = '双鱼座'\n",
    "        else:\n",
    "            cons = '白羊座'\n",
    "    elif month < 5:\n",
    "        if day < 20:\n",
    "            cons = '白羊座'\n",
    "        else:\n",
    "            cons = '金牛座'\n",
    "    elif month < 6:\n",
    "        if day < 21:\n",
    "            cons = '金牛座'\n",
    "        else:\n",
    "            cons = '双子座'\n",
    "    elif month < 7:\n",
    "        if day < 22:\n",
    "            cons = '双子座'\n",
    "        else:\n",
    "            cons = '巨蟹座'\n",
    "    elif month < 8:\n",
    "        if day < 23:\n",
    "            cons = '巨蟹座'\n",
    "        else:\n",
    "            cons = '狮子座'\n",
    "    elif month < 9:\n",
    "        if day < 23:\n",
    "            cons = '狮子座'\n",
    "        else:\n",
    "            cons = '处女座'\n",
    "    elif month < 10:\n",
    "        if day < 23:\n",
    "            cons = '处女座'\n",
    "        else:\n",
    "            cons = '天秤座'\n",
    "    elif month < 11:\n",
    "        if day < 24:\n",
    "            cons = '天秤座'\n",
    "        else:\n",
    "            cons = '天蝎座'\n",
    "    elif month < 12:\n",
    "        if day < 23:\n",
    "            cons = '天蝎座'\n",
    "        else:\n",
    "            cons = '射手座'\n",
    "    else:\n",
    "        if day < 22:\n",
    "            cons = '射手座'\n",
    "        else:\n",
    "            cons = '摩羯座'\n",
    "    return cons\n",
    "\n",
    "name = input('请问您的姓名是：')\n",
    "m = int(input('请输入您生日的月份：'))\n",
    "d = int(input('请输入您出生的号数：'))\n",
    "print(name + '，您的星座是：' + constellation(m,d))\n"
   ]
  },
  {
   "cell_type": "code",
   "execution_count": 4,
   "metadata": {},
   "outputs": [
    {
     "name": "stdout",
     "output_type": "stream",
     "text": [
      "请输入一个单词：snake\n",
      "其复数形式是 snakes。\n"
     ]
    }
   ],
   "source": [
    "def fushu(word):\n",
    "    if word.endswith('s') or word.endswith('ch') or word.endswith('sh') or word.endswith('x'):\n",
    "        print('其复数形式是 ' + word + 'es。')\n",
    "    elif word == 'sheep':\n",
    "        print('其复数形式是 ' + word + '。')\n",
    "    else:\n",
    "        print('其复数形式是 ' + word + 's。')\n",
    "\n",
    "w = input('请输入一个单词：')\n",
    "fushu(w)"
   ]
  },
  {
   "cell_type": "code",
   "execution_count": 5,
   "metadata": {},
   "outputs": [
    {
     "name": "stdout",
     "output_type": "stream",
     "text": [
      "请输入一个n：1\n",
      "请输入一个m：3\n",
      "请输入一个k：1\n",
      "他们的和是：4.0\n"
     ]
    }
   ],
   "source": [
    "def func(m, n ,k):\n",
    "    if (n - m) % (k + 1) != 0:\n",
    "        print('您的输入不符合规则')\n",
    "    else:\n",
    "        i = (n - m)/(k + 1) + 1\n",
    "        a = (i) * m + i * (i-1)*(k + 1)/2\n",
    "        return a\n",
    "\n",
    "n = int(input('请输入一个n：'))\n",
    "m = int(input('请输入一个m：'))\n",
    "k = int(input('请输入一个k：'))\n",
    "print('他们的和是：' + str(func(n,m,k)))"
   ]
  }
 ],
 "metadata": {
  "kernelspec": {
   "display_name": "Python 3",
   "language": "python",
   "name": "python3"
  },
  "language_info": {
   "codemirror_mode": {
    "name": "ipython",
    "version": 3
   },
   "file_extension": ".py",
   "mimetype": "text/x-python",
   "name": "python",
   "nbconvert_exporter": "python",
   "pygments_lexer": "ipython3",
   "version": "3.5.4"
  }
 },
 "nbformat": 4,
 "nbformat_minor": 2
}
