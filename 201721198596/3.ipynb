{
 "cells": [
  {
   "cell_type": "code",
   "execution_count": 1,
   "metadata": {
    "collapsed": true
   },
   "outputs": [],
   "source": [
    "#3.6 练习 2：\n",
    "#写程序，可由键盘读入两个整数m与n(n不等于0)，询问用户意图，如果要求和则计算从m到n的和输出，\n",
    "#如果要乘积则计算从m到n的积并输出，如果要求余数则计算m除以n的余数的值并输出，否则则计算m整除n的值并输出。"
   ]
  },
  {
   "cell_type": "code",
   "execution_count": 2,
   "metadata": {},
   "outputs": [
    {
     "name": "stdout",
     "output_type": "stream",
     "text": [
      "请输入一个整数：15\n",
      "请输入一个不为0的整数:12\n",
      "请输入你想对数字进行的运算，如+-*/%+\n",
      "对m,n计算的结果位： 54\n"
     ]
    }
   ],
   "source": [
    "m = int(input('请输入一个整数：'))\n",
    "n = int(input('请输入一个不为0的整数:'))\n",
    "if m<=n:\n",
    "    max_number = n\n",
    "    min_number = m\n",
    "else:\n",
    "    max_number = m\n",
    "    min_number = n\n",
    "    \n",
    "i = min_number\n",
    "result =0\n",
    "\n",
    "op = input('请输入你想对数字进行的运算，如+-*/%')\n",
    "\n",
    "if op == \"+\":\n",
    "    for i in range(min_number,max_number+1):\n",
    "        result+=i\n",
    "        i+=1\n",
    "elif op == \"-\":\n",
    "    for i in range(min_number,max_number+1):\n",
    "        result-=i\n",
    "elif op == \"*\":\n",
    "    for i in range(min_number,max_number+1):\n",
    "        result*=i\n",
    "elif op == \"%\":\n",
    "    result = m%n\n",
    "elif op == \"/\":\n",
    "    result = m/n\n",
    "\n",
    "print('对m,n计算的结果位：',result)"
   ]
  },
  {
   "cell_type": "code",
   "execution_count": 14,
   "metadata": {},
   "outputs": [],
   "source": [
    "#练习 4：英文单词单数转复数，要求输入一个英文动词（单数形式），能够得到其复数形式，或给出单数转复数形式的建议\n",
    "#（提示，some_string.endswith(some_letter)函数可以判断某字符串结尾字符，可尝试运行：'myname'.endswith('me')，liupengyuan'.endswith('n')）。"
   ]
  },
  {
   "cell_type": "code",
   "execution_count": 13,
   "metadata": {
    "scrolled": true
   },
   "outputs": [
    {
     "name": "stdout",
     "output_type": "stream",
     "text": [
      "请输入一个英文单词(单数形式)：family\n",
      "family 的复数形式是： families\n"
     ]
    }
   ],
   "source": [
    "word = input('请输入一个英文单词(单数形式)：')\n",
    "\n",
    "if word ==\"potato\" or word ==\"tomato\":\n",
    "    print(word,\"的复数形式是：\",word + 's')\n",
    "elif word.endswith('s') or word.endswith('o') or word.endswith('x') or word.endswith('ch') or word.endswith('sh'):\n",
    "    print(word,\"的复数形式是：\",word + 'es')\n",
    "elif word.endswith('y'):\n",
    "    print(word,\"的复数形式是：\",word[:-1] + 'ies')\n",
    "elif word.endswith('f'):\n",
    "    print(word,\"的复数形式是：\",word[:-1] + 'ves')\n",
    "elif word.endswith('fe'):\n",
    "    print(word,\"的复数形式是：\",word[:-2] + 'ves')\n",
    "elif word.endswith('an'):  \n",
    "    print(word,\"的复数形式是：\",word[:-2] + 'en')\n",
    "else:\n",
    "    print(word,\"的复数形式是：\",word[:-2] + 's')"
   ]
  }
 ],
 "metadata": {
  "kernelspec": {
   "display_name": "Python 3",
   "language": "python",
   "name": "python3"
  },
  "language_info": {
   "codemirror_mode": {
    "name": "ipython",
    "version": 3
   },
   "file_extension": ".py",
   "mimetype": "text/x-python",
   "name": "python",
   "nbconvert_exporter": "python",
   "pygments_lexer": "ipython3",
   "version": "3.6.2"
  }
 },
 "nbformat": 4,
 "nbformat_minor": 2
}
