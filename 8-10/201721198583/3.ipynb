{
 "cells": [
  {
   "cell_type": "code",
   "execution_count": 1,
   "metadata": {},
   "outputs": [
    {
     "name": "stdout",
     "output_type": "stream",
     "text": [
      "请输入第一个整数：r\n",
      "您输入的不是整数，请重新输入第一个整数：w\n",
      "您输入的不是整数，请重新输入第一个整数：4\n",
      "请输入第二个整数(不为0)：0\n",
      "您输入n为0，请重新输入第二个整数：we\n",
      "您输入的不是整数，请重新输入第二个整数：2\n",
      "请输入您要进行的操作（+,*,%,/）：+\n",
      "和为： 6\n"
     ]
    }
   ],
   "source": [
    "#chapter1 3md下的练习2：写程序，可由键盘读入两个整数m与n(n不等于0)，询问用户意图，如果要求和则计算从m到n的和输出，\n",
    "# 如果要乘积则计算从m到n的积并输出，如果要求余数则计算m除以n的余数的值并输出，否则则计算m整除n的值并输出。\n",
    "\n",
    "m = input(\"请输入第一个整数：\")\n",
    "while True:\n",
    "    if (m.isdigit()):\n",
    "        break\n",
    "    m = input(\"您输入的不是整数，请重新输入第一个整数：\")\n",
    "\n",
    "n = input(\"请输入第二个整数(不为0)：\")\n",
    "while True:\n",
    "    if(n == '0'):\n",
    "        n = input(\"您输入n为0，请重新输入第二个整数：\")\n",
    "    elif(n.isdigit()):\n",
    "        break\n",
    "    n = input(\"您输入的不是整数，请重新输入第二个整数：\")\n",
    "\n",
    "opration = input(\"请输入您要进行的操作（+,*,%,/）：\")\n",
    "if(opration == \"+\"):\n",
    "    print(\"和为：\",int(m) + int(n))\n",
    "elif(opration == \"*\"):\n",
    "    print(\"乘积为：\", int(m) * int(n))\n",
    "elif(opration == \"%\"):\n",
    "    print(\"取余结果为：\", int(m) % int(n))\n",
    "else:\n",
    "    print(\"整除结果为：\", int(m) / int(n))"
   ]
  },
  {
   "cell_type": "code",
   "execution_count": 2,
   "metadata": {},
   "outputs": [
    {
     "name": "stdout",
     "output_type": "stream",
     "text": [
      "请输入单词：apple\n",
      "该单词的复数形式为： apples\n"
     ]
    }
   ],
   "source": [
    "#chapter1 3md下的练习4：英文单词单数转复数，要求输入一个英文动词（单数形式），能够得到其复数形式\n",
    "word = input(\"请输入单词：\")\n",
    "if(word.endswith('s')):\n",
    "    print(\"输入的不是单数。\")\n",
    "else:\n",
    "    print(\"该单词的复数形式为：\",word + \"s\")"
   ]
  },
  {
   "cell_type": "code",
   "execution_count": null,
   "metadata": {
    "collapsed": true
   },
   "outputs": [],
   "source": []
  }
 ],
 "metadata": {
  "kernelspec": {
   "display_name": "Python 3",
   "language": "python",
   "name": "python3"
  },
  "language_info": {
   "codemirror_mode": {
    "name": "ipython",
    "version": 3
   },
   "file_extension": ".py",
   "mimetype": "text/x-python",
   "name": "python",
   "nbconvert_exporter": "python",
   "pygments_lexer": "ipython3",
   "version": "3.6.1"
  }
 },
 "nbformat": 4,
 "nbformat_minor": 2
}
