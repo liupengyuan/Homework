{
 "cells": [
  {
   "cell_type": "markdown",
   "metadata": {},
   "source": [
    "作业1\n",
    "jupyter print练习"
   ]
  },
  {
   "cell_type": "code",
   "execution_count": 1,
   "metadata": {
    "scrolled": true
   },
   "outputs": [
    {
     "name": "stdout",
     "output_type": "stream",
     "text": [
      "Hello, world.\n"
     ]
    }
   ],
   "source": [
    "print('Hello, world.')"
   ]
  },
  {
   "cell_type": "markdown",
   "metadata": {},
   "source": [
    "作业2 输入与运算"
   ]
  },
  {
   "cell_type": "code",
   "execution_count": 3,
   "metadata": {},
   "outputs": [
    {
     "name": "stdout",
     "output_type": "stream",
     "text": [
      "请输入一个正整数，以回车结束。5\n",
      "24\n"
     ]
    }
   ],
   "source": [
    "#练习1：由用户从键盘给定任意正整数n，打印n!\n",
    "\n",
    "n = int(input('请输入一个正整数，以回车结束。'))\n",
    "total = 1\n",
    "for i in range(1,n):\n",
    "    total *= i\n",
    "print(total)"
   ]
  },
  {
   "cell_type": "code",
   "execution_count": 5,
   "metadata": {},
   "outputs": [
    {
     "name": "stdout",
     "output_type": "stream",
     "text": [
      "请输入多个整数，以空格隔开:2 3 4 5\n",
      "总和为： 14\n"
     ]
    }
   ],
   "source": [
    "#练习2：仿照实践1，写出由用户指定整数个数，并由用户输入多个整数，并求和的代码。\n",
    "list1 = map(int,input(\"请输入多个整数，以空格隔开:\").split())\n",
    "print(\"总和为：\",sum(list1))"
   ]
  },
  {
   "cell_type": "code",
   "execution_count": 7,
   "metadata": {},
   "outputs": [
    {
     "name": "stdout",
     "output_type": "stream",
     "text": [
      "请输入一个正整数,终止请输入q：3\n",
      "请输入一个正整数,终止请输入q：4\n",
      "请输入一个正整数,终止请输入q：5\n",
      "请输入一个正整数,终止请输入q：q\n"
     ]
    }
   ],
   "source": [
    "#练习3：用户可以输入任意多个数字，直到用户不想输入为止。\n",
    "\n",
    "num = input(\"请输入一个正整数,终止请输入q：\")\n",
    "while num != \"q\":\n",
    "    num = input(\"请输入一个正整数,终止请输入q：\")"
   ]
  },
  {
   "cell_type": "code",
   "execution_count": 8,
   "metadata": {},
   "outputs": [
    {
     "name": "stdout",
     "output_type": "stream",
     "text": [
      "请输入一个正整数，以回车结束。6\n",
      "请输入一个正整数，以回车结束。130\n",
      "请输入一个正整数，以回车结束。49\n",
      "请输入一个正整数，以回车结束。191\n",
      "total: 185\n",
      "mul: 38220\n"
     ]
    }
   ],
   "source": [
    "#练习4：用户可以输入任意多个数字，直到输入所有数字的和比当前输入数字小，且输入所有数字的积比当前输入数字的平方大。\n",
    "var = 1\n",
    "sum = 0\n",
    "mul = 1\n",
    "n = int(input('请输入一个正整数，以回车结束。'))\n",
    "while var:\n",
    "    if (sum < n) and (mul > n**2):\n",
    "        break\n",
    "    mul = mul * n \n",
    "    sum = sum + n  \n",
    "    n = int(input('请输入一个正整数，以回车结束。'))\n",
    "\n",
    "print('total:', sum)\n",
    "print('mul:', mul)"
   ]
  },
  {
   "cell_type": "code",
   "execution_count": null,
   "metadata": {
    "collapsed": true
   },
   "outputs": [],
   "source": []
  },
  {
   "cell_type": "code",
   "execution_count": null,
   "metadata": {
    "collapsed": true
   },
   "outputs": [],
   "source": []
  },
  {
   "cell_type": "code",
   "execution_count": null,
   "metadata": {
    "collapsed": true
   },
   "outputs": [],
   "source": []
  }
 ],
 "metadata": {
  "kernelspec": {
   "display_name": "Python 3",
   "language": "python",
   "name": "python3"
  },
  "language_info": {
   "codemirror_mode": {
    "name": "ipython",
    "version": 3
   },
   "file_extension": ".py",
   "mimetype": "text/x-python",
   "name": "python",
   "nbconvert_exporter": "python",
   "pygments_lexer": "ipython3",
   "version": "3.6.1"
  }
 },
 "nbformat": 4,
 "nbformat_minor": 2
}
