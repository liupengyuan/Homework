{
 "cells": [
  {
   "cell_type": "code",
   "execution_count": 1,
   "metadata": {},
   "outputs": [
    {
     "name": "stdout",
     "output_type": "stream",
     "text": [
      "oahin\n"
     ]
    }
   ],
   "source": [
    "# 练习一：自己定义一个reverse(s)函数，功能返回字符串s的倒序字符串。\n",
    "def reverse(s):\n",
    "    i = len(s) - 1\n",
    "    str = ''\n",
    "    while i > -1:\n",
    "        str = str + s[i]\n",
    "        i -= 1\n",
    "    return str\n",
    "\n",
    "print(reverse(\"nihao\"))"
   ]
  },
  {
   "cell_type": "code",
   "execution_count": 2,
   "metadata": {},
   "outputs": [
    {
     "name": "stdout",
     "output_type": "stream",
     "text": [
      "*\n",
      "**\n",
      "***\n",
      "****\n",
      "   *\n",
      "  **\n",
      " ***\n",
      "****\n",
      "   *\n",
      "  ***\n",
      " *****\n",
      "*******\n"
     ]
    }
   ],
   "source": [
    "# 练习二：写函数，根据给定符号和行数，打印相应直角三角形，等腰三角形及其他形式的三角形。\n",
    "def triangle1(lineNum,c):  #打印正直角三角形\n",
    "    for i in range(1,lineNum + 1):\n",
    "        str = ''\n",
    "        for j in range(1,i + 1):\n",
    "            str = str + c\n",
    "        print(str)\n",
    "def triangle2(lineNum,c): #打印反直角三角形\n",
    "    for i in range(1,lineNum + 1):\n",
    "        #打印空格\n",
    "        j = 1\n",
    "        while j <= lineNum - i:\n",
    "            print(\" \",end='')\n",
    "            j += 1\n",
    "        #打印字符\n",
    "        k = 1\n",
    "        while k <= i:\n",
    "            print(c,end='')\n",
    "            k += 1\n",
    "        print()\n",
    "def triangle3(lineNum,c): #打印等腰三角形\n",
    "    for i in range(1,lineNum + 1):\n",
    "        #打印空格\n",
    "        print((\" \" * (lineNum - i)),end='')\n",
    "        #打印字符\n",
    "        print((c * (2 * i - 1)),end='')\n",
    "        print()\n",
    "triangle1(4,\"*\")\n",
    "triangle2(4,'*')\n",
    "triangle3(4,'*')\n"
   ]
  },
  {
   "cell_type": "code",
   "execution_count": 3,
   "metadata": {},
   "outputs": [
    {
     "name": "stdout",
     "output_type": "stream",
     "text": [
      "   *   \n",
      "  ***  \n",
      " ***** \n",
      "*******\n",
      " ***** \n",
      "  ***  \n",
      "   *   \n"
     ]
    }
   ],
   "source": [
    "# 练习五：写函数，根据给定符号，打印各种菱形\n",
    "def diamond(lineNum,c):\n",
    "    s = '*'\n",
    "    for i in range(1, lineNum + 1, 2):\n",
    "        print((s * i).center(lineNum))\n",
    "    for i in reversed(range(1, lineNum - 1, 2)):\n",
    "        print((s * i).center(lineNum))\n",
    "diamond(7,'*')"
   ]
  },
  {
   "cell_type": "code",
   "execution_count": null,
   "metadata": {
    "collapsed": true
   },
   "outputs": [],
   "source": []
  }
 ],
 "metadata": {
  "kernelspec": {
   "display_name": "Python 3",
   "language": "python",
   "name": "python3"
  },
  "language_info": {
   "codemirror_mode": {
    "name": "ipython",
    "version": 3
   },
   "file_extension": ".py",
   "mimetype": "text/x-python",
   "name": "python",
   "nbconvert_exporter": "python",
   "pygments_lexer": "ipython3",
   "version": "3.6.1"
  }
 },
 "nbformat": 4,
 "nbformat_minor": 2
}
