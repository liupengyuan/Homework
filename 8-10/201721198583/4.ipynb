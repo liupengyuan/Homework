{
 "cells": [
  {
   "cell_type": "code",
   "execution_count": 1,
   "metadata": {},
   "outputs": [
    {
     "name": "stdout",
     "output_type": "stream",
     "text": [
      "请输入m的值：(不为0)0\n",
      "请重新输入m的值：(不为0)4\n",
      "请输入n的值：(不为0)3\n",
      "请输入k的值：(不为0)4\n",
      "m! + n! + k!= 54\n"
     ]
    }
   ],
   "source": [
    "# 练习 1：仿照求$ \\sum_{i=1}^mi + \\sum_{i=1}^ni  + \\sum_{i=1}^ki$的完整代码，写程序，可求m!+n!+k!\n",
    "def my_multi(num):\n",
    "    total = 1\n",
    "    if(num > 0):\n",
    "        for i in range(1,num+1):\n",
    "            total *= i\n",
    "    return total\n",
    "\n",
    "\n",
    "m = int(input(\"请输入m的值：(不为0)\"))\n",
    "while True:\n",
    "    if m!= 0 :\n",
    "        break\n",
    "    else:\n",
    "        m = int(input(\"请重新输入m的值：(不为0)\"))\n",
    "n = int(input(\"请输入n的值：(不为0)\"))\n",
    "while True:\n",
    "    if n!= 0 :\n",
    "        break\n",
    "    else:\n",
    "        n = int(input(\"请重新输入n的值：(不为0)\"))\n",
    "k = int(input(\"请输入k的值：(不为0)\"))\n",
    "while True:\n",
    "    if k!= 0 :\n",
    "        break\n",
    "    else:\n",
    "        k = int(input(\"请重新输入k的值：(不为0)\"))\n",
    "print(\"m! + n! + k!=\",str(my_multi(m) + my_multi(n) + my_multi(k)))\n"
   ]
  },
  {
   "cell_type": "code",
   "execution_count": 13,
   "metadata": {},
   "outputs": [
    {
     "name": "stdout",
     "output_type": "stream",
     "text": [
      "3.140592653839794\n",
      "3.1415826535897198\n"
     ]
    }
   ],
   "source": [
    "# 练习 2：写函数可返回1 - 1/3 + 1/5 - 1/7...的前n项的和。在主程序中，分别令n=1000及100000，打印4倍该函数的和。\n",
    "def my_method(n):\n",
    "    total = 1\n",
    "    for i in range(2,n+1):\n",
    "        total = total + (-1)**(i-1) * (1/float(2*i - 1))\n",
    "    return total\n",
    "print(4 * my_method(1000))\n",
    "print(4 * my_method(100000))"
   ]
  },
  {
   "cell_type": "code",
   "execution_count": 6,
   "metadata": {},
   "outputs": [
    {
     "name": "stdout",
     "output_type": "stream",
     "text": [
      "请输入您的姓名：任宏凯\n",
      "请输入出生月日(例如02-03)：02-26\n",
      "任宏凯 您是双鱼座\n",
      "请输入PM2.5值501\n",
      "友情提示：您应该打开空气净化器，戴防雾霾口罩。\n"
     ]
    }
   ],
   "source": [
    "# 练习 3：将task3中的练习1及练习4改写为函数，并进行调用。\n",
    "# 写程序，可由键盘读入用户姓名例如Mr. right，让用户输入出生的月份与日期，判断用户星座，假设用户是金牛座，则输出，Mr. right，你是非常有性格的金牛座！。\n",
    "import time\n",
    "def constellation(birthday,na):\n",
    "    birthdayTime = time.strptime(birthday.strip('\\n'),\"%m-%d\")\n",
    "    if birthdayTime > time.strptime(\"01-21\",\"%m-%d\") and birthdayTime < time.strptime(\"02-19\",\"%m-%d\") :\n",
    "        print(na,\"您是水瓶座\")\n",
    "    if birthdayTime > time.strptime(\"02-20\",\"%m-%d\") and birthdayTime < time.strptime(\"03-20\",\"%m-%d\") :\n",
    "        print(na,\"您是双鱼座\")\n",
    "    if birthdayTime > time.strptime(\"03-21\",\"%m-%d\") and birthdayTime < time.strptime(\"04-20\",\"%m-%d\") :\n",
    "        print(na,\"您是白羊座\")\n",
    "    if birthdayTime > time.strptime(\"04-21\",\"%m-%d\") and birthdayTime < time.strptime(\"05-21\",\"%m-%d\") :\n",
    "        print(na,\"您是金牛座\")\n",
    "    if birthdayTime > time.strptime(\"05-22\",\"%m-%d\") and birthdayTime < time.strptime(\"06-21\",\"%m-%d\") :\n",
    "        print(na,\"您是双子座\")\n",
    "    if birthdayTime > time.strptime(\"06-22\",\"%m-%d\") and birthdayTime < time.strptime(\"07-22\",\"%m-%d\") :\n",
    "        print(na,\"您是巨蟹座\")\n",
    "    if birthdayTime > time.strptime(\"07-23\",\"%m-%d\") and birthdayTime < time.strptime(\"08-23\",\"%m-%d\") :\n",
    "        print(na,\"您是狮子座\")\n",
    "    if birthdayTime > time.strptime(\"08-24\",\"%m-%d\") and birthdayTime < time.strptime(\"09-23\",\"%m-%d\") :\n",
    "        print(na,\"您是处女座\")\n",
    "    if birthdayTime > time.strptime(\"09-24\",\"%m-%d\") and birthdayTime < time.strptime(\"10-23\",\"%m-%d\") :\n",
    "        print(na,\"您是天枰座\")\n",
    "    if birthdayTime > time.strptime(\"10-24\",\"%m-%d\") and birthdayTime < time.strptime(\"11-22\",\"%m-%d\") :\n",
    "        print(na,\"您是天蝎座\")\n",
    "    if birthdayTime > time.strptime(\"11-23\",\"%m-%d\") and birthdayTime < time.strptime(\"12-21\",\"%m-%d\") :\n",
    "        print(na,\"您是射手座\")\n",
    "    if birthdayTime > time.strptime(\"12-22\",\"%m-%d\") and birthdayTime < time.strptime(\"01-20\",\"%m-%d\") :\n",
    "        print(na,\"您是摩羯座\")\n",
    "# 写程序，能够根据北京雾霾PM2.5数值给出对应的防护建议。如当PM2.5数值大于500，则应该打开空气净化器，戴防雾霾口罩等。  \n",
    "def fog(pm):\n",
    "    if (pm > 500):\n",
    "        print(\"友情提示：您应该打开空气净化器，戴防雾霾口罩。\")\n",
    "    else:\n",
    "        print(\"空气质量良好。\")\n",
    "\n",
    "name = input(\"请输入您的姓名：\")\n",
    "birth = input(\"请输入出生月日(例如02-03)：\")\n",
    "constellation(birth,name)\n",
    "pminput = int(input(\"请输入PM2.5值\"))\n",
    "fog(pminput)"
   ]
  },
  {
   "cell_type": "code",
   "execution_count": 2,
   "metadata": {},
   "outputs": [
    {
     "name": "stdout",
     "output_type": "stream",
     "text": [
      "请输入m的值：4\n",
      "请输入n的值：100\n",
      "请输入k的值：8\n",
      "和为： 576\n"
     ]
    }
   ],
   "source": [
    "# 挑战性练习：写程序，可以求从整数m到整数n累加的和，间隔为k，求和部分需用函数实现，主程序中由用户输入m，n，k调用函数验证正确性。\n",
    "mm = int(input(\"请输入m的值：\"))\n",
    "nn = int(input(\"请输入n的值：\"))\n",
    "kk = int(input(\"请输入k的值：\"))\n",
    "\n",
    "def my_num(m,n,k):\n",
    "    total = 0\n",
    "    for i in range(m, n, k):\n",
    "        total += i\n",
    "    return total\n",
    "\n",
    "print(\"和为：\",my_num(mm,nn,kk))"
   ]
  },
  {
   "cell_type": "code",
   "execution_count": null,
   "metadata": {
    "collapsed": true
   },
   "outputs": [],
   "source": []
  }
 ],
 "metadata": {
  "kernelspec": {
   "display_name": "Python 3",
   "language": "python",
   "name": "python3"
  },
  "language_info": {
   "codemirror_mode": {
    "name": "ipython",
    "version": 3
   },
   "file_extension": ".py",
   "mimetype": "text/x-python",
   "name": "python",
   "nbconvert_exporter": "python",
   "pygments_lexer": "ipython3",
   "version": "3.6.1"
  }
 },
 "nbformat": 4,
 "nbformat_minor": 2
}
