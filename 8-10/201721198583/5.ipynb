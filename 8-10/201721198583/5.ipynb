{
 "cells": [
  {
   "cell_type": "code",
   "execution_count": 1,
   "metadata": {},
   "outputs": [
    {
     "name": "stdout",
     "output_type": "stream",
     "text": [
      "请输入m的值：2\n",
      "请输入n的值：6\n",
      "请输入k的值：100\n",
      "结果为： 21.61018278497431\n"
     ]
    }
   ],
   "source": [
    "# 练习 1：写函数，求n个随机整数均值的平方根，整数范围在m与k之间（n,m,k由用户输入）。\n",
    "import random\n",
    "import math\n",
    "\n",
    "def metho(mm,nn,kk):\n",
    "    i = 0\n",
    "    total = 0\n",
    "    while(i < nn):\n",
    "        total += random.randint(mm,kk)\n",
    "        i += 1\n",
    "    return math.sqrt(total)\n",
    "\n",
    "m = int(input(\"请输入m的值：\"))\n",
    "n = int(input(\"请输入n的值：\"))\n",
    "k = int(input(\"请输入k的值：\"))\n",
    "\n",
    "print(\"结果为：\",metho(m,n,k))"
   ]
  },
  {
   "cell_type": "code",
   "execution_count": 3,
   "metadata": {},
   "outputs": [
    {
     "name": "stdout",
     "output_type": "stream",
     "text": [
      "请输入m的值：4\n",
      "请输入n的值：8\n",
      "请输入k的值：100\n",
      "结果为： (26.34240361182181, -26.342403611821812)\n"
     ]
    }
   ],
   "source": [
    "# 练习 2：写函数，共n个随机整数，整数范围在m与k之间，（n,m,k由用户输入）。求1：西格玛log(随机整数)，2：西格玛1/log(随机整数)\n",
    "import random\n",
    "import math\n",
    "\n",
    "def metho(mm,nn,kk):\n",
    "    i = 0\n",
    "    total1 = 0\n",
    "    total2 = 0\n",
    "    while(i < nn):\n",
    "        i += 1\n",
    "        ran = random.randint(mm,kk)\n",
    "        total1 += math.log(ran)\n",
    "        total2 += math.log(1/ran)\n",
    "    return total1,total2\n",
    "m = int(input(\"请输入m的值：\"))\n",
    "n = int(input(\"请输入n的值：\"))\n",
    "k = int(input(\"请输入k的值：\"))\n",
    "print(\"结果为：\",metho(m,n,k))"
   ]
  },
  {
   "cell_type": "code",
   "execution_count": null,
   "metadata": {
    "collapsed": true
   },
   "outputs": [],
   "source": []
  }
 ],
 "metadata": {
  "kernelspec": {
   "display_name": "Python 3",
   "language": "python",
   "name": "python3"
  },
  "language_info": {
   "codemirror_mode": {
    "name": "ipython",
    "version": 3
   },
   "file_extension": ".py",
   "mimetype": "text/x-python",
   "name": "python",
   "nbconvert_exporter": "python",
   "pygments_lexer": "ipython3",
   "version": "3.6.1"
  }
 },
 "nbformat": 4,
 "nbformat_minor": 2
}
