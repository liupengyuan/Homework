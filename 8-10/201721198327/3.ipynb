{
 "cells": [
  {
   "cell_type": "code",
   "execution_count": 1,
   "metadata": {},
   "outputs": [
    {
     "name": "stdout",
     "output_type": "stream",
     "text": [
      "请输入一个不为零的整数，以回车结束:-3\n",
      "请输入一个不为零的整数，以回车结束:4\n",
      "如果要求这两个数的和请输入\"求和\"；如果要求这两个数的积请输入\"求积\"；如果要求第一个数除以第二个数的余数请输入\"求余\"；否则计算第一个数整除第二个数的值\n",
      "求积\n",
      "积为0\n"
     ]
    }
   ],
   "source": [
    "#练习 2：写程序，可由键盘读入两个整数m与n(n不等于0)，询问用户意图，如果要求和则计算从m到n的和输出，如果要乘积则计算从m到n的积并输出，如果要求余数则计算m除以n的余数的值并输出，否则则计算m整除n的值并输出。\n",
    "\n",
    "m = int(input('请输入一个不为零的整数，以回车结束:'))\n",
    "n = int(input('请输入一个不为零的整数，以回车结束:'))\n",
    "\n",
    "print('如果要求这两个数的和请输入\"求和\"；如果要求这两个数的积请输入\"求积\"；如果要求第一个数除以第二个数的余数请输入\"求余\"；否则计算第一个数整除第二个数的值')\n",
    "\n",
    "x = input() \n",
    "\n",
    "if x == \"求和\":\n",
    "    if m == n:\n",
    "        print('和为',m + n,sep ='')\n",
    "    elif m > n:\n",
    "        total = 0\n",
    "        while n <= m:\n",
    "            total = total + n\n",
    "            n = n + 1\n",
    "        print('和为',total,sep ='')\n",
    "    else:\n",
    "        total = 0\n",
    "        while m <= n:\n",
    "            total = total + m\n",
    "            m = m + 1\n",
    "        print('和为',total,sep ='')\n",
    "        \n",
    "elif x == \"求积\":\n",
    "    if m == n:\n",
    "        print('积为',m * n,sep ='')\n",
    "    elif m > n:\n",
    "        total = 1\n",
    "        while n <= m:\n",
    "            total = total * n\n",
    "            n = n + 1\n",
    "        print('积为',total,sep ='')\n",
    "    else:\n",
    "        total = 1\n",
    "        while m <= n:\n",
    "            total = total * m\n",
    "            m = m + 1\n",
    "        print('积为',total,sep ='')\n",
    "    \n",
    "elif x == \"求余\":\n",
    "    print('余数为',m % n,sep ='')\n",
    "    \n",
    "else:\n",
    "    print('整除值为', m // n,sep ='')"
   ]
  },
  {
   "cell_type": "code",
   "execution_count": 20,
   "metadata": {},
   "outputs": [
    {
     "name": "stdout",
     "output_type": "stream",
     "text": [
      "请输入一个英语名词,回车结束。leaf\n",
      "该名词变为复数时大多把末尾的f变为v加es\n"
     ]
    }
   ],
   "source": [
    "#练习 4：英文单词单数转复数，要求输入一个英文动词（单数形式），能够得到其复数形式，或给出单数转复数形式的建议（提示，some_string.endswith(some_letter)函数可以判断某字符串结尾字符，可尝试运行：'myname'.endswith('me')，liupengyuan'.endswith('n')）。\n",
    "\n",
    "noun = input('请输入一个英语名词,回车结束。')\n",
    "if noun.endswith('s'):  \n",
    "    print('该名词变为复数时直接在末尾加es')\n",
    "elif noun.endswith('x'):  \n",
    "    print('该名词变为复数时直接在末尾加es')\n",
    "elif noun.endswith('z'):  \n",
    "    print('该名词变为复数时直接在末尾加es')\n",
    "elif noun.endswith('sh'):  \n",
    "    print('该名词变为复数时直接在末尾加es')\n",
    "elif noun.endswith('ch'):  \n",
    "    print('该名词变为复数时直接在末尾加es')\n",
    "elif noun.endswith('y'):    \n",
    "    print('该名词变为复数时大多把y变i加es')\n",
    "elif noun.endswith('o'):  \n",
    "    print('该名词变为复数时大多直接在末尾加es')\n",
    "elif noun.endswith('f'): \n",
    "    print('该名词变为复数时大多把末尾的f变为v加es')\n",
    "elif noun.endswith('fe'): \n",
    "    print('该名词变为复数时大多把末尾的fe变为v加es')\n",
    "else:\n",
    "    print('该名词变为复数时直接加s')"
   ]
  }
 ],
 "metadata": {
  "kernelspec": {
   "display_name": "Python 3",
   "language": "python",
   "name": "python3"
  },
  "language_info": {
   "codemirror_mode": {
    "name": "ipython",
    "version": 3
   },
   "file_extension": ".py",
   "mimetype": "text/x-python",
   "name": "python",
   "nbconvert_exporter": "python",
   "pygments_lexer": "ipython3",
   "version": "3.6.0"
  }
 },
 "nbformat": 4,
 "nbformat_minor": 2
}
