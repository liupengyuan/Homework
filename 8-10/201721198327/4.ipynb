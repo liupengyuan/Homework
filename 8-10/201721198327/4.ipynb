{
 "cells": [
  {
   "cell_type": "code",
   "execution_count": 1,
   "metadata": {},
   "outputs": [
    {
     "name": "stdout",
     "output_type": "stream",
     "text": [
      "请输入第1个整数，以回车结束。3\n",
      "请输入第2个整数，以回车结束。6\n",
      "请输入第3个整数，以回车结束。2\n",
      "最终的阶乘的和是： 728\n"
     ]
    }
   ],
   "source": [
    "#练习 1：仿照求$ \\sum_{i=1}^mi + \\sum_{i=1}^ni  + \\sum_{i=1}^ki$的完整代码，写程序，可求m!+n!+k!\n",
    "\n",
    "def compute_product(end):\n",
    "    i = 1\n",
    "    total_n = 1\n",
    "\n",
    "    while i < end:\n",
    "        i = i + 1\n",
    "        total_n = total_n * i\n",
    "\n",
    "    return total_n\n",
    "\n",
    "n = int(input('请输入第1个整数，以回车结束。'))\n",
    "m = int(input('请输入第2个整数，以回车结束。'))\n",
    "k = int(input('请输入第3个整数，以回车结束。'))\n",
    "\n",
    "print('最终的阶乘的和是：', compute_product(m) + compute_product(n) + compute_product(k))"
   ]
  },
  {
   "cell_type": "code",
   "execution_count": 5,
   "metadata": {},
   "outputs": [
    {
     "name": "stdout",
     "output_type": "stream",
     "text": [
      "n=1000时，4倍该函数的和是3.140592653839794\n",
      "n=100000时，4倍该函数的和是3.1415826535897198\n"
     ]
    }
   ],
   "source": [
    "#练习 2：写函数可返回1 - 1/3 + 1/5 - 1/7...的前n项的和。在主程序中，分别令n=1000及100000，打印4倍该函数的和。\n",
    "\n",
    "def compute_sum(n):\n",
    "    i = 1\n",
    "    j = 1\n",
    "    k = 0\n",
    "    total = 0\n",
    "    \n",
    "    while k < n:\n",
    "        k = k + 1\n",
    "        total = total + (i/j)\n",
    "        i = i * (-1)\n",
    "        j = j + 2\n",
    "    \n",
    "    return total\n",
    "\n",
    "print('n=1000时，4倍该函数的和是',4*compute_sum(1000), sep = '')\n",
    "print('n=100000时，4倍该函数的和是',4*compute_sum(100000), sep = '')"
   ]
  },
  {
   "cell_type": "code",
   "execution_count": 9,
   "metadata": {},
   "outputs": [
    {
     "name": "stdout",
     "output_type": "stream",
     "text": [
      "请输入您的姓名，回车结束。林烟\n",
      "请输入您的出生月份，回车结束。10\n",
      "请输入您的出生日期，回车结束。20\n",
      "林烟,你是非常有性格的天秤座！\n",
      "请输入一个英语名词,回车结束。leaf\n",
      "该名词变为复数时大多把末尾的f变为v加es\n"
     ]
    }
   ],
   "source": [
    "#练习 3：将task3中的练习1及练习4改写为函数，并进行调用。\n",
    "\n",
    "#task3练习 1：写程序，可由键盘读入用户姓名例如Mr. right，让用户输入出生的月份与日期，判断用户星座，假设用户是金牛座，则输出，Mr. right，你是非常有性格的金牛座！。\n",
    "\n",
    "def constellation():\n",
    "    name = input('请输入您的姓名，回车结束。')\n",
    "    month = int(input('请输入您的出生月份，回车结束。'))\n",
    "    day = int(input('请输入您的出生日期，回车结束。'))\n",
    "    if (month == 3 and 21<=day<=31) or (month == 4 and 1<=day<=19):\n",
    "        print (name,'你是非常有性格的白羊座！',sep = ',')\n",
    "    elif (month == 4 and 20<=day<=30) or (month == 5 and 1<=day<=20):\n",
    "        print (name,'你是非常有性格的金牛座！',sep = ',')\n",
    "    elif (month == 5 and 21<=day<=31) or (month == 6 and 1<=day<=21):\n",
    "        print (name,'你是非常有性格的双子座！',sep = ',')\n",
    "    elif (month == 6 and 22<=day<=30) or (month == 7 and 1<=day<=22):\n",
    "        print (name,'你是非常有性格的巨蟹座！',sep = ',')\n",
    "    elif (month == 7 and 23<=day<=31) or (month == 8 and 1<=day<=22):\n",
    "        print (name,'你是非常有性格的狮子座！',sep = ',')\n",
    "    elif (month == 8 and 23<=day<=31) or (month == 9 and 1<=day<=22):\n",
    "        print (name,'你是非常有性格的处女座！',sep = ',')\n",
    "    elif (month == 9 and 23<=day<=30) or (month == 10 and 1<=day<=23):\n",
    "        print (name,'你是非常有性格的天秤座！',sep = ',')\n",
    "    elif (month == 10 and 24<=day<=31) or (month == 11and 1<=day<=22):\n",
    "        print (name,'你是非常有性格的天蝎座！',sep = ',')\n",
    "    elif (month == 11 and 23<=day<=30) or (month == 12 and 1<=day<=21):\n",
    "        print (name,'你是非常有性格的射手座！',sep = ',')\n",
    "    elif (month == 12 and 22<=day<=31) or (month == 1 and 1<=day<=19):\n",
    "        print (name,'你是非常有性格的摩羯座！',sep = ',')\n",
    "    elif (month == 1 and 20<=day<=31) or (month == 2 and 1<=day<=18):\n",
    "        print (name,'你是非常有性格的水瓶座！',sep = ',')\n",
    "    elif (month == 2 and 19<=day<=29) or (month == 3 and 1<=day<=20):\n",
    "        print (name,'你是非常有性格的双鱼座！',sep = ',')\n",
    "    else:\n",
    "        print('输入非法！')\n",
    "\n",
    "constellation()\n",
    "\n",
    "#task3练习 4：英文单词单数转复数，要求输入一个英文动词（单数形式），能够得到其复数形式，或给出单数转复数形式的建议（提示，some_string.endswith(some_letter)函数可以判断某字符串结尾字符，可尝试运行：'myname'.endswith('me')，liupengyuan'.endswith('n')）。\n",
    "\n",
    "def plural_noun(noun):\n",
    "    if noun.endswith('s'):  \n",
    "        print('该名词变为复数时直接在末尾加es')\n",
    "    elif noun.endswith('x'):  \n",
    "        print('该名词变为复数时直接在末尾加es')\n",
    "    elif noun.endswith('z'):  \n",
    "        print('该名词变为复数时直接在末尾加es')\n",
    "    elif noun.endswith('sh'):  \n",
    "        print('该名词变为复数时直接在末尾加es')\n",
    "    elif noun.endswith('ch'):  \n",
    "        print('该名词变为复数时直接在末尾加es')\n",
    "    elif noun.endswith('y'):    \n",
    "        print('该名词变为复数时大多把y变i加es')\n",
    "    elif noun.endswith('o'):  \n",
    "        print('该名词变为复数时大多直接在末尾加es')\n",
    "    elif noun.endswith('f'): \n",
    "        print('该名词变为复数时大多把末尾的f变为v加es')\n",
    "    elif noun.endswith('fe'): \n",
    "        print('该名词变为复数时大多把末尾的fe变为v加es')\n",
    "    else:\n",
    "        print('该名词变为复数时直接加s')\n",
    "\n",
    "noun = input('请输入一个英语名词,回车结束。')\n",
    "plural_noun(noun)"
   ]
  },
  {
   "cell_type": "code",
   "execution_count": 12,
   "metadata": {},
   "outputs": [
    {
     "name": "stdout",
     "output_type": "stream",
     "text": [
      "请输入起始整数m,回车结束。3\n",
      "请输入终止整数n,回车结束。6\n",
      "请输入间隔整数k,回车结束。2\n",
      "从整数m到整数n累加的和，间隔为k，其值为8\n"
     ]
    }
   ],
   "source": [
    "#挑战性练习：写程序，可以求从整数m到整数n累加的和，间隔为k，求和部分需用函数实现，主程序中由用户输入m，n，k调用函数验证正确性。\n",
    "\n",
    "def sum(m,n,k):\n",
    "    total = 0\n",
    "    while m <= n:\n",
    "        total = total + m\n",
    "        m = m + k\n",
    "    return total\n",
    "\n",
    "m = int(input('请输入起始整数m,回车结束。'))\n",
    "n = int(input('请输入终止整数n,回车结束。'))\n",
    "k = int(input('请输入间隔整数k,回车结束。'))\n",
    "print('从整数m到整数n累加的和，间隔为k，其值为',sum(m,n,k),sep = '')"
   ]
  }
 ],
 "metadata": {
  "kernelspec": {
   "display_name": "Python 3",
   "language": "python",
   "name": "python3"
  },
  "language_info": {
   "codemirror_mode": {
    "name": "ipython",
    "version": 3
   },
   "file_extension": ".py",
   "mimetype": "text/x-python",
   "name": "python",
   "nbconvert_exporter": "python",
   "pygments_lexer": "ipython3",
   "version": "3.6.0"
  }
 },
 "nbformat": 4,
 "nbformat_minor": 2
}
