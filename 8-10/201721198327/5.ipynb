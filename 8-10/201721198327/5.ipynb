{
 "cells": [
  {
   "cell_type": "code",
   "execution_count": 2,
   "metadata": {},
   "outputs": [
    {
     "name": "stdout",
     "output_type": "stream",
     "text": [
      "请输入整数个数n，以回车结束。3\n",
      "请输入一个整数下界m，以回车结束。2\n",
      "请输入一个整数上界k，以回车结束。15\n",
      "第1个随机数是4\n",
      "第2个随机数是7\n",
      "第3个随机数是7\n",
      "范围在2与15之间的3个随机整数均值的平方根是2.449489742783178\n"
     ]
    }
   ],
   "source": [
    "#练习 1：写函数，求n个随机整数均值的平方根，整数范围在m与k之间（n,m,k由用户输入）。\n",
    "\n",
    "import math,random\n",
    "\n",
    "def compute(n,m,k):\n",
    "    total = 0\n",
    "    i = 1\n",
    "    while i <= n:\n",
    "        number = random.randint(m,k)\n",
    "        print('第',i,'个随机数是',number,sep = '')\n",
    "        total = total + number\n",
    "        i = i + 1\n",
    "    average = total / n\n",
    "    square_root = math.sqrt(average)\n",
    "    return(square_root)\n",
    "\n",
    "n = int(input('请输入整数个数n，以回车结束。')) \n",
    "m = int(input('请输入一个整数下界m，以回车结束。'))        \n",
    "k = int(input('请输入一个整数上界k，以回车结束。')) \n",
    "print('范围在',m,'与',k,'之间的',n,'个随机整数均值的平方根是',compute(n,m,k),sep = '')\n"
   ]
  },
  {
   "cell_type": "code",
   "execution_count": 3,
   "metadata": {},
   "outputs": [
    {
     "name": "stdout",
     "output_type": "stream",
     "text": [
      "请输入整数个数n，以回车结束。3\n",
      "请输入一个整数下界m，以回车结束。4\n",
      "请输入一个整数上界k，以回车结束。10\n",
      "第1个随机数是10\n",
      "第2个随机数是8\n",
      "第3个随机数是8\n",
      "范围在4与10之间的3个随机整数西格玛log(随机整数)和西格玛1/log(随机整数)分别是：(6.461468176353717, 1.3960911758292274)\n"
     ]
    }
   ],
   "source": [
    "#练习 2：写函数，共n个随机整数，整数范围在m与k之间，（n,m,k由用户输入）。求1：西格玛log(随机整数)，2：西格玛1/log(随机整数)\n",
    "\n",
    "import math,random\n",
    "\n",
    "def compute(n,m,k):\n",
    "    total1 = 0\n",
    "    total2 = 0 \n",
    "    i = 1\n",
    "    while i <= n:\n",
    "        number = random.randint(m,k)\n",
    "        print('第',i,'个随机数是',number,sep = '')\n",
    "        log1 = math.log(number)\n",
    "        log2 = 1 / math.log(number)\n",
    "        total1 = total1 + log1\n",
    "        total2 = total2 + log2\n",
    "        i = i + 1\n",
    "    return(total1,total2)\n",
    "\n",
    "n = int(input('请输入整数个数n，以回车结束。')) \n",
    "m = int(input('请输入一个整数下界m，以回车结束。'))        \n",
    "k = int(input('请输入一个整数上界k，以回车结束。')) \n",
    "print('范围在',m,'与',k,'之间的',n,'个随机整数西格玛log(随机整数)和西格玛1/log(随机整数)分别是：',compute(n,m,k),sep = '')\n"
   ]
  }
 ],
 "metadata": {
  "kernelspec": {
   "display_name": "Python 3",
   "language": "python",
   "name": "python3"
  },
  "language_info": {
   "codemirror_mode": {
    "name": "ipython",
    "version": 3
   },
   "file_extension": ".py",
   "mimetype": "text/x-python",
   "name": "python",
   "nbconvert_exporter": "python",
   "pygments_lexer": "ipython3",
   "version": "3.6.0"
  }
 },
 "nbformat": 4,
 "nbformat_minor": 2
}
