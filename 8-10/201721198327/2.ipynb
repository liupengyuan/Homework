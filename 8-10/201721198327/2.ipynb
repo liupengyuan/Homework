{
 "cells": [
  {
   "cell_type": "code",
   "execution_count": 1,
   "metadata": {},
   "outputs": [
    {
     "name": "stdout",
     "output_type": "stream",
     "text": [
      "请输入一个正整数，以回车结束。5\n",
      "120\n"
     ]
    }
   ],
   "source": [
    "#练习1：仿照任务2完整代码，打印n!。\n",
    "\n",
    "n = int(input('请输入一个正整数，以回车结束。'))\n",
    "\n",
    "i = 0\n",
    "total = 1\n",
    "\n",
    "while i < n:\n",
    "    i = i + 1\n",
    "    total = total * i\n",
    "    \n",
    "print(total)"
   ]
  },
  {
   "cell_type": "code",
   "execution_count": 2,
   "metadata": {},
   "outputs": [
    {
     "name": "stdout",
     "output_type": "stream",
     "text": [
      "请输入一个正整数，以回车结束，代表输入的数字个数。5\n",
      "请输入一个正整数，以回车结束。1\n",
      "请输入一个正整数，以回车结束。3\n",
      "请输入一个正整数，以回车结束。5\n",
      "请输入一个正整数，以回车结束。7\n",
      "请输入一个正整数，以回车结束。9\n",
      "您输入的5个数字的和是25\n"
     ]
    }
   ],
   "source": [
    "#练习2：仿照实践1，写出由用户指定整数个数，并由用户输入多个整数，并求和的代码。\n",
    "\n",
    "n = int(input('请输入一个正整数，以回车结束，代表输入的数字个数。'))\n",
    "total = 0\n",
    "i = 0\n",
    "\n",
    "while i < n:\n",
    "    m = int(input('请输入一个正整数，以回车结束。'))\n",
    "    i = i + 1\n",
    "    total = total + m\n",
    "\n",
    "print('您输入的',n,'个数字的和是',total,sep = '')"
   ]
  },
  {
   "cell_type": "code",
   "execution_count": 3,
   "metadata": {},
   "outputs": [
    {
     "name": "stdout",
     "output_type": "stream",
     "text": [
      "请输入任意个数字，不想输入时请输入q终止。5\n",
      "请输入任意个数字，不想输入时请输入q终止。74\n",
      "请输入任意个数字，不想输入时请输入q终止。4654\n",
      "请输入任意个数字，不想输入时请输入q终止。87987\n",
      "请输入任意个数字，不想输入时请输入q终止。4654\n",
      "请输入任意个数字，不想输入时请输入q终止。65\n",
      "请输入任意个数字，不想输入时请输入q终止。q\n"
     ]
    }
   ],
   "source": [
    "#练习3：用户可以输入的任意多个数字，直到用户不想输入为止。\n",
    "\n",
    "n = input('请输入任意个数字，不想输入时请输入q终止。')\n",
    "\n",
    "while n != 'q':\n",
    "    n = input('请输入任意个数字，不想输入时请输入q终止。')"
   ]
  },
  {
   "cell_type": "code",
   "execution_count": 2,
   "metadata": {},
   "outputs": [
    {
     "name": "stdout",
     "output_type": "stream",
     "text": [
      "请输入一个正整数，以回车结束:2\n",
      "请输入一个正整数，以回车结束:3\n",
      "请输入一个正整数，以回车结束:5\n",
      "请输入一个正整数，以回车结束:11\n",
      "请输入一个正整数，以回车结束:22\n",
      "请输入一个正整数，以回车结束:44\n",
      "这几个数字的和为43，积为7260\n"
     ]
    }
   ],
   "source": [
    "#练习4：用户可以输入的任意多个数字，直到输入所有数字的和比当前输入数字小，且输入所有数字的积比当前输入数字的平方大。\n",
    "\n",
    "num1 = int(input('请输入一个正整数，以回车结束:'))\n",
    "num2 = int(input('请输入一个正整数，以回车结束:'))\n",
    "total = num1 + num2\n",
    "product = num1 * num2\n",
    "n = int(input('请输入一个正整数，以回车结束:'))\n",
    "\n",
    "while ((total>=n) or (product<=(n**2))):\n",
    "    total = total + n\n",
    "    product = product * n\n",
    "    n = int(input('请输入一个正整数，以回车结束:'))\n",
    "\n",
    "print('这几个数字的和为',total,'，积为',product,sep ='')"
   ]
  }
 ],
 "metadata": {
  "kernelspec": {
   "display_name": "Python 3",
   "language": "python",
   "name": "python3"
  },
  "language_info": {
   "codemirror_mode": {
    "name": "ipython",
    "version": 3
   },
   "file_extension": ".py",
   "mimetype": "text/x-python",
   "name": "python",
   "nbconvert_exporter": "python",
   "pygments_lexer": "ipython3",
   "version": "3.6.0"
  }
 },
 "nbformat": 4,
 "nbformat_minor": 2
}
