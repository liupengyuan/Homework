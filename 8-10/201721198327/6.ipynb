{
 "cells": [
  {
   "cell_type": "code",
   "execution_count": 4,
   "metadata": {},
   "outputs": [
    {
     "name": "stdout",
     "output_type": "stream",
     "text": [
      "请输入您需要计算的数字个数，以回车结束。5\n",
      "请输入一个整数，以回车结束。46\n",
      "请输入一个整数，以回车结束。3\n",
      "请输入一个整数，以回车结束。2\n",
      "请输入一个整数，以回车结束。7\n",
      "请输入一个整数，以回车结束。5\n",
      "这5个数的和是63\n"
     ]
    }
   ],
   "source": [
    "#练习 2：写函数，返回一个list中所有数字的和。\n",
    "\n",
    "def compute(n):\n",
    "    numbers = []\n",
    "    total = 0\n",
    "    for i in range(n):\n",
    "        number = int(input('请输入一个整数，以回车结束。')) \n",
    "        numbers.append(number)\n",
    "        total = total + numbers[i]\n",
    "    return total\n",
    "\n",
    "n = int(input('请输入您需要计算的数字个数，以回车结束。')) \n",
    "print('这',n,'个数的和是',compute(n),sep = '')"
   ]
  },
  {
   "cell_type": "code",
   "execution_count": 5,
   "metadata": {},
   "outputs": [
    {
     "name": "stdout",
     "output_type": "stream",
     "text": [
      "请输入您需要计算的数字个数，以回车结束。4\n",
      "请输入一个整数，以回车结束。45\n",
      "请输入一个整数，以回车结束。89\n",
      "请输入一个整数，以回车结束。788\n",
      "请输入一个整数，以回车结束。233\n",
      "这4个数中最小的数是45\n"
     ]
    }
   ],
   "source": [
    "#练习 3：写函数，返回一个list中的最小值。\n",
    "\n",
    "def min(n):\n",
    "    numbers = []\n",
    "    for i in range(n):\n",
    "        number = int(input('请输入一个整数，以回车结束。')) \n",
    "        numbers.append(number)\n",
    "    min_number = numbers[0]\n",
    "    for i in range(n):\n",
    "        if numbers[i] < min_number:\n",
    "            min_number = numbers[i]\n",
    "    return min_number\n",
    "\n",
    "n = int(input('请输入您需要计算的数字个数，以回车结束。')) \n",
    "print('这',n,'个数中最小的数是',min(n),sep = '')"
   ]
  },
  {
   "cell_type": "code",
   "execution_count": 9,
   "metadata": {},
   "outputs": [
    {
     "name": "stdout",
     "output_type": "stream",
     "text": [
      "请输入您需要输入的元素个数，以回车结束。4\n",
      "请输入一个元素，以回车结束。I\n",
      "请输入一个元素，以回车结束。love\n",
      "请输入一个元素，以回车结束。3\n",
      "请输入一个元素，以回车结束。yours\n",
      "请输入您需要查找的元素，以回车结束。67\n",
      "在您输入的元素序列中您查找的元素位于-1\n"
     ]
    }
   ],
   "source": [
    "#练习 4：写函数，返回某个元素/对象在一个list中的位置，如果不在，则返回-1。\n",
    "\n",
    "def location(n):\n",
    "    elements = []\n",
    "    for i in range(n):\n",
    "        element = input('请输入一个元素，以回车结束。')\n",
    "        elements.append(element)\n",
    "    search = input('请输入您需要查找的元素，以回车结束。')\n",
    "    for i in range(n):\n",
    "        if search == elements[i]:\n",
    "            return i+1\n",
    "            break\n",
    "    return -1\n",
    "\n",
    "n = int(input('请输入您需要输入的元素个数，以回车结束。')) \n",
    "print('在您输入的元素序列中您查找的元素位于',location(n),sep = '')"
   ]
  },
  {
   "cell_type": "code",
   "execution_count": 21,
   "metadata": {},
   "outputs": [
    {
     "name": "stdout",
     "output_type": "stream",
     "text": [
      "请输入第一个向量的一个坐标，以回车结束。0\n",
      "请输入第一个向量的一个坐标，以回车结束。1\n",
      "请输入第一个向量的一个坐标，以回车结束。0\n",
      "请输入第一个向量的一个坐标，以回车结束。1\n",
      "您输入的两个向量的余弦值是1.0\n"
     ]
    }
   ],
   "source": [
    "#练习 5：写函数，可求两个向量的夹角余弦值，向量可放在list中。主程序调用该函数。\n",
    "\n",
    "import math\n",
    "\n",
    "def cos():\n",
    "    cos1s = []\n",
    "    for i in range(2):\n",
    "        cos1 = int(input('请输入第一个向量的一个坐标，以回车结束。'))\n",
    "        cos1s.append(cos1)\n",
    "    cos2s = []\n",
    "    for i in range(2):\n",
    "        cos2 = int(input('请输入第一个向量的一个坐标，以回车结束。'))\n",
    "        cos2s.append(cos2)\n",
    "    \n",
    "    m = (cos1s[0] * cos2s[0]) +(cos1s[1] * cos2s[1])\n",
    "    n = (math.sqrt((cos1s[0] * cos1s[0]) + (cos1s[1] * cos1s[1]))) * (math.sqrt((cos2s[0] * cos2s[0]) + (cos2s[1] * cos2s[1])))\n",
    "    \n",
    "    return (m/n)\n",
    "\n",
    "print('您输入的两个向量的余弦值是',cos(),sep = '')"
   ]
  },
  {
   "cell_type": "code",
   "execution_count": 23,
   "metadata": {},
   "outputs": [
    {
     "name": "stdout",
     "output_type": "stream",
     "text": [
      "一共有3741种分法\n"
     ]
    }
   ],
   "source": [
    "#挑战性习题：python语言老师为了激励学生学python，自费买了100个完全相同的Macbook Pro，分给三个班级，每个班级至少分5个，用穷举法计算共有多少种分法？\n",
    "\n",
    "total = 0\n",
    "for i in range(100):\n",
    "    for j in range(100):\n",
    "        for k in range(100):\n",
    "            if i + j + k == 100 and i >= 5 and j >= 5 and k >= 5:\n",
    "                total = total + 1\n",
    "print('一共有',total,'种分法',sep = '')"
   ]
  }
 ],
 "metadata": {
  "kernelspec": {
   "display_name": "Python 3",
   "language": "python",
   "name": "python3"
  },
  "language_info": {
   "codemirror_mode": {
    "name": "ipython",
    "version": 3
   },
   "file_extension": ".py",
   "mimetype": "text/x-python",
   "name": "python",
   "nbconvert_exporter": "python",
   "pygments_lexer": "ipython3",
   "version": "3.6.0"
  }
 },
 "nbformat": 4,
 "nbformat_minor": 2
}
