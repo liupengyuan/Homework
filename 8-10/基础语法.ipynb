{
 "cells": [
  {
   "cell_type": "markdown",
   "metadata": {},
   "source": [
    "### 基础语法\n",
    "* type\n",
    "* del 删除\n",
    "* any() 用来判断某个序列中是否存在真值，如果有，就返回True，如果没有（或者序列为空）则返回False\n",
    "* all() 用来判断某个序列中是否均为真值，如果均是，就返回True，否则返回False\n",
    "* len() 用法为len(iterable)，其中的参数iterable是一个序列，len函数可以返回该序列内所含元素的个数\n",
    "* python内置类型中，与列表(list)及字符串(str)最相近的序列是元组(tuple)，tuple即为元组的关键字\n",
    "* 元组(tuple)的初始化与列表(list)类似，元组用()，()也可以省略，但建议只在不降低程序可读性时省略\n",
    "* 序列内的对象，可以按照对象个数同时赋值给多个变量/对象，称为解耦\n",
    "* 元组及字符串对象不支持赋值\n",
    "* 元组与字符串一旦被初始化，其值就不能被改变，python语言称为不可变数据类型，而类似列表这样的数据类型，初始化后，其值可以改变，就称为可变数据类型\n",
    "* python中数值常量也是不可变数据类型，比如说，5就是5，不可能等于6，也不能等于5.1\n",
    "* id()是一个函数，可以返回一个变量/对象在计算机中的唯一标识，用法是id(对象)，这个唯一标识其实就是对象在计算机(内存)中存放的地址\n",
    "* python内置浅拷贝方法copy()，可以对可变序列进行浅拷贝复制，用法是：可变序列.copy。称为浅拷贝(shallow copy)的原因，是因为拷贝的确实不够深入。在实际使用中，浅拷贝多用切片来代替（也是浅拷贝）\n",
    "* deepcopy()方法，需要先导入copy模块，基本用法为：copy.deepcopy(对象)，实现深拷贝"
   ]
  },
  {
   "cell_type": "markdown",
   "metadata": {},
   "source": [
    "### 索引\n",
    "* 前面从0开始\n",
    "* 后面从-1开始"
   ]
  },
  {
   "cell_type": "markdown",
   "metadata": {},
   "source": [
    "### 切片\n",
    "* ：表示从哪里到哪里\n",
    "* 左闭右开的区间"
   ]
  },
  {
   "cell_type": "markdown",
   "metadata": {},
   "source": [
    "### 列表\n",
    "* 通过[ ]来创建一个list结构\n",
    "* [ ]任何数据类型都可以，没有长度限制\n",
    "* list（[ ]）或者直接[ ]，两种表达方式都可以"
   ]
  },
  {
   "cell_type": "markdown",
   "metadata": {},
   "source": [
    "### list操作\n",
    "* list内置索引\n",
    "* 多个list通过+/* 拼接\n",
    "* list通过索引进行替换\n",
    "* 执行操作前检验当前list\n",
    "\n",
    "* '对象 in/not in list' 检验元素是否在list中\n",
    "* list中可嵌套list 嵌套操作分层找 'list of list'\n",
    "\n",
    "### list计数\n",
    "* str.count() 某元素在list中出现的次数\n",
    "* str.index() 找到当前元素的位置"
   ]
  },
  {
   "cell_type": "markdown",
   "metadata": {},
   "source": [
    "### 列表添加\n",
    "* str.append() 向list末尾添加 每次只能增加一个元素\n",
    "* str.insert() (想插入的位置,想插入的元素) 插入\n",
    "* str.remove() 去除 若有重复元素默认先去除第一个\n",
    "* str.pop()    弹出后list中自动删除这个元素\n",
    "* str.sort()   排序 从小到大 /不想改变原始list 新建str = sorted()\n",
    "* str.reverse()调序"
   ]
  },
  {
   "cell_type": "markdown",
   "metadata": {},
   "source": [
    "### 字典\n",
    "* str = {} 或者 str = dict()\n",
    "### 字典结构操作\n",
    "* key - value \n",
    "* key 字符串\n",
    "* 构建一个字典，添加，更新\n",
    "* 打印没有顺序\n",
    "* 嵌套\n",
    "* str.get() 拿值\n",
    "* str.update() 更新\n",
    "* str.keys() 打印键值\n",
    "* str.value() 打印value值\n",
    "* str.items() 打印键值+value值"
   ]
  },
  {
   "cell_type": "markdown",
   "metadata": {},
   "source": [
    "### 集合\n",
    "* 集合元素唯一性\n",
    "* str = set([ ]) 或 str = { }\n",
    "### 集合的操作\n",
    "* 求并集 a.union(b) 或 b.union(a)\n",
    "* 求并集 a|b\n",
    "* 求交集 a.intersection(b) 或 b.intersection(a)\n",
    "* 求交集 a & b\n",
    "* 两集合的差异 a.diffference(b) 与 b.difference(a)不同\n",
    "* 相当于difference操作 a-b / b-a\n",
    "* 子集 b.issubset(a)\n",
    "* b是a的子集 b<=a a<=a \n",
    "* a.add() 往集合中添加元素\n",
    "* a.update([ ]) 更新\n",
    "* a.remove() 删除\n",
    "* a.pop() 集合pop操作括号不能添加参数，只能弹出最后一个"
   ]
  },
  {
   "cell_type": "markdown",
   "metadata": {},
   "source": [
    "### 赋值机制\n",
    "* a is b (is 检验是否同一个东西)\n",
    "* = 赋值"
   ]
  },
  {
   "cell_type": "markdown",
   "metadata": {},
   "source": [
    "### 判断结构\n",
    "* 注意代码缩进4字符\n",
    "* if/elif/else"
   ]
  },
  {
   "cell_type": "markdown",
   "metadata": {},
   "source": [
    "### 循环结构\n",
    "* while循环/for循环\n",
    "* for x in set/list\n",
    "* for i in range(10) **索引从0到9\n",
    "* for i in range(len(str)):\n",
    "* print(str[i]])\n",
    "* continue for循环直接进行下一次\n",
    "* break 跳出当前循环"
   ]
  },
  {
   "cell_type": "markdown",
   "metadata": {},
   "source": [
    "### 函数\n",
    "* def 定义函数\n",
    "* return 有了一个返回值\n",
    "* *args 参数个数不定"
   ]
  },
  {
   "cell_type": "markdown",
   "metadata": {},
   "source": [
    "### 文件操作\n",
    "* txt = open('./xxx/xxx.txt')\n",
    "* txt_read = txt.read()\n",
    "* \\n 换行符\n",
    "* txt.close 关闭文件\n",
    "* replace()是替换字符的方法，其基本用法是：字符串.replace(old_str, new_str)，old_str·与·new_str两个参数分别是字符串中将被替换的字符子串及新字符串，该方法将字符串中所有的old_str替换成new_str\n",
    "* split()是将字符按照分隔符分开的方法，其基本用法是：字符串.split(sep)，该方法将字符串按照分隔符sep分隔成多个子串，返回一个列表，列表每个对象为一个子串\n",
    "* 在open()函数中，多了一个参数'w'，该参数是英文write的缩写，参数指明文件以写入的方式打开。\n",
    "* open()函数的基本用法是：open(filename, mode)，其中mode是一个字符串，默认为r，即只读(只能读取)方式，'w'是只写方式，且在写入前如果已有文件，则清空文件，否则新建文件。\n",
    "* writelines(...)是像文件写入序列的方法，其基本用法是：文件对象.writelines(...)，该方法将序列中所有文件依次写入文件对象。"
   ]
  },
  {
   "cell_type": "code",
   "execution_count": null,
   "metadata": {},
   "outputs": [],
   "source": []
  },
  {
   "cell_type": "code",
   "execution_count": null,
   "metadata": {},
   "outputs": [],
   "source": []
  }
 ],
 "metadata": {
  "kernelspec": {
   "display_name": "Python 3",
   "language": "python",
   "name": "python3"
  },
  "language_info": {
   "codemirror_mode": {
    "name": "ipython",
    "version": 3
   },
   "file_extension": ".py",
   "mimetype": "text/x-python",
   "name": "python",
   "nbconvert_exporter": "python",
   "pygments_lexer": "ipython3",
   "version": "3.6.2"
  }
 },
 "nbformat": 4,
 "nbformat_minor": 2
}
