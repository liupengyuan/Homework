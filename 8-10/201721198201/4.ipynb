{
 "cells": [
  {
   "cell_type": "code",
   "execution_count": 5,
   "metadata": {},
   "outputs": [
    {
     "name": "stdout",
     "output_type": "stream",
     "text": [
      "请输入第1个整数，以回车结束。1\n",
      "请输入第2个整数，以回车结束。2\n",
      "请输入第3个整数，以回车结束。3\n",
      "最终的和是： 9\n"
     ]
    }
   ],
   "source": [
    "#练习 1：仿照求$ \\sum_{i=1}^mi + \\sum_{i=1}^ni  + \\sum_{i=1}^ki$的完整代码，写程序，可求m!+n!+k!\n",
    "def compute_sum(end):\n",
    "    i=0\n",
    "    ji=1\n",
    "    while i< end:\n",
    "        i=i+1\n",
    "        ji=ji*i\n",
    "    return ji\n",
    "n=int(input(\"请输入第1个整数，以回车结束。\"))\n",
    "m=int(input(\"请输入第2个整数，以回车结束。\"))\n",
    "k=int(input(\"请输入第3个整数，以回车结束。\"))\n",
    "\n",
    "print(\"最终的和是：\",compute_sum(m)+compute_sum(n)+compute_sum(k))"
   ]
  },
  {
   "cell_type": "code",
   "execution_count": 6,
   "metadata": {},
   "outputs": [
    {
     "name": "stdout",
     "output_type": "stream",
     "text": [
      "请输入1个正整数，以回车结束。1\n",
      "请输入1个正整数，以回车结束。2\n",
      "请输入1个正整数，以回车结束。1\n",
      "3\n"
     ]
    }
   ],
   "source": [
    "#挑战性练习：写程序，可以求从整数m到整数n累加的和，间隔为k，求和部分需用函数实现，主程序中由用户输入m，n，k调用函数验证正确性。\n",
    "def compute_sum(end):\n",
    "    i=n\n",
    "    he=n\n",
    "    while i < m:\n",
    "        i=n+k\n",
    "        he=he+i\n",
    "    return he\n",
    "\n",
    "n=int(input(\"请输入1个正整数，以回车结束。\"))\n",
    "m=int(input(\"请输入1个正整数，以回车结束。\"))\n",
    "k=int(input(\"请输入1个正整数，以回车结束。\"))\n",
    "print(compute_sum(n))"
   ]
  },
  {
   "cell_type": "code",
   "execution_count": 7,
   "metadata": {},
   "outputs": [
    {
     "name": "stdout",
     "output_type": "stream",
     "text": [
      "请输入一个单数名词apple\n",
      "apples\n"
     ]
    }
   ],
   "source": [
    "#练习 3：将task3中的练习1及练习4改写为函数，并进行调用。\n",
    "def str(str):\n",
    "    if str.endswith(\"y\"):\n",
    "        str=str[:-1]\n",
    "        str=(str+\"ies\")\n",
    "    elif str.endswith(\"f\"):\n",
    "        str=str[:-1]\n",
    "        str=(str+\"ves\")\n",
    "    elif str.endswith(\"fe\"):\n",
    "        str=str[:-2]\n",
    "        str=(str+\"ves\")\n",
    "    elif str.endswith(\"o\"):\n",
    "        str=(str+\"es\")\n",
    "    elif str.endswith(\"s\" or \"x\" or \"ch\"or\"sh\"):\n",
    "        str=(str+\"es\")\n",
    "    else :\n",
    "        str=(str+\"s\")\n",
    "    return str\n",
    "str1=input(\"请输入一个单数名词\")\n",
    "str(str1)\n",
    "print(str(str1))"
   ]
  },
  {
   "cell_type": "code",
   "execution_count": 9,
   "metadata": {},
   "outputs": [
    {
     "name": "stdout",
     "output_type": "stream",
     "text": [
      "请输入一个英文复数名词apples\n",
      "apple\n"
     ]
    }
   ],
   "source": [
    "#练习 3：将task3中的练习1及练习4改写为函数，并进行调用。\n",
    "def str(str):\n",
    "    if str.endswith(\"ves\"):\n",
    "        str=str[:-3]\n",
    "        str=(str+\"f\")\n",
    "    elif str.endswith(\"oes\" or \"ses\" or \"xes\" or \"ches\" or \"shes\"):\n",
    "        str=str[:-2]\n",
    "    elif str.endswith(\"ies\"):\n",
    "        str[:-3]\n",
    "        str(str+\"y\")\n",
    "    else:\n",
    "        str=str[:-1]\n",
    "    return str\n",
    "\n",
    "str1=input(\"请输入一个英文复数名词\")\n",
    "str(str1)\n",
    "print(str(str1))\n"
   ]
  },
  {
   "cell_type": "code",
   "execution_count": 10,
   "metadata": {},
   "outputs": [
    {
     "name": "stdout",
     "output_type": "stream",
     "text": [
      "请输入你的名字！xiaodan \n",
      "请输入你的生日（例如122）！122\n",
      "xiaodan  ,你是非常有性格的 水瓶座 !\n"
     ]
    }
   ],
   "source": [
    "#练习 3：将task3中的练习1及练习4改写为函数，并进行调用。\n",
    "n=input(\"请输入你的名字！\")\n",
    "m=int(input(\"请输入你的生日（例如122）！\"))     \n",
    "def xz(r):\n",
    "    if r > 321 and r < 419:\n",
    "        k=(\"白羊座\")\n",
    "    elif r > 420 and r < 520:\n",
    "        k=(\"金牛座\")\n",
    "    elif r > 521 and r < 621:\n",
    "        k=(\"双子座\")\n",
    "    elif r > 622 and r < 722:\n",
    "        k=(\"巨蟹座\")\n",
    "    elif r > 723 and r < 822:\n",
    "        k=(\"狮子座\")\n",
    "    elif r > 823 and r < 922:\n",
    "        k=(\"处女座\")\n",
    "    elif r > 923 and r < 1023:\n",
    "        k=(\"天秤座\")\n",
    "    elif r > 1024 and r < 1122:\n",
    "        k=(\"天蝎座\")\n",
    "    elif r > 1123 and r < 1221:\n",
    "        k=(\"射手座\")\n",
    "    elif r > 1222 and r < 119:\n",
    "        k=(\"摩羯座\")\n",
    "    elif r > 120 and r < 218:\n",
    "        k=(\"水瓶座\")\n",
    "    else :\n",
    "        k=(\"双鱼\")\n",
    "    return k\n",
    "\n",
    "print(n,\",你是非常有性格的\",xz(m),\"!\")\n"
   ]
  },
  {
   "cell_type": "code",
   "execution_count": null,
   "metadata": {
    "collapsed": true
   },
   "outputs": [],
   "source": []
  },
  {
   "cell_type": "code",
   "execution_count": null,
   "metadata": {
    "collapsed": true
   },
   "outputs": [],
   "source": []
  },
  {
   "cell_type": "code",
   "execution_count": null,
   "metadata": {
    "collapsed": true
   },
   "outputs": [],
   "source": []
  },
  {
   "cell_type": "code",
   "execution_count": null,
   "metadata": {
    "collapsed": true
   },
   "outputs": [],
   "source": [
    "#练习 2：写函数可返回1 - 1/3 + 1/5 - 1/7...的前n项的和。在主程序中，分别令n=1000及100000，打印4倍该函数的和。\n",
    "def my_abs(number):\n",
    "    if number % 2 == 0:\n",
    "         number = number*(-1)\n",
    "    else:\n",
    "        number = number\n",
    "    return number\n",
    "def compute_sum(end):\n",
    "    i=0\n",
    "    he=0\n",
    "    number=my_abs(end)\n",
    "        \n",
    "    while i < end:\n",
    "        i=1/(2*i-1)\n",
    "        he=he+i\n",
    "    return he\n",
    "\n",
    "#主程序\n",
    "i=3\n",
    "print(compute_sum(i))"
   ]
  },
  {
   "cell_type": "code",
   "execution_count": null,
   "metadata": {
    "collapsed": true
   },
   "outputs": [],
   "source": []
  },
  {
   "cell_type": "code",
   "execution_count": null,
   "metadata": {
    "collapsed": true
   },
   "outputs": [],
   "source": []
  }
 ],
 "metadata": {
  "kernelspec": {
   "display_name": "Python 3",
   "language": "python",
   "name": "python3"
  },
  "language_info": {
   "codemirror_mode": {
    "name": "ipython",
    "version": 3
   },
   "file_extension": ".py",
   "mimetype": "text/x-python",
   "name": "python",
   "nbconvert_exporter": "python",
   "pygments_lexer": "ipython3",
   "version": "3.6.1"
  }
 },
 "nbformat": 4,
 "nbformat_minor": 2
}
