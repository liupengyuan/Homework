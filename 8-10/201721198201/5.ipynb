{
 "cells": [
  {
   "cell_type": "code",
   "execution_count": 1,
   "metadata": {},
   "outputs": [
    {
     "name": "stdout",
     "output_type": "stream",
     "text": [
      "请输入一个大于0的整数，以回车结束。1\n",
      "请输入一个大于0的整数，以回车结束。5\n",
      "请输入你想随机生成的整数个数，以回车结束。2\n",
      "[4, 1]\n",
      "math.sqrt:  1.5811388300841898\n"
     ]
    }
   ],
   "source": [
    "#练习 1：写函数，求n个随机整数均值的平方根，整数范围在m与k之间（n,m,k由用户输入）。\n",
    "m=int(input(\"请输入一个大于0的整数，以回车结束。\"))\n",
    "k=int(input(\"请输入一个大于0的整数，以回车结束。\"))\n",
    "n=int(input(\"请输入你想随机生成的整数个数，以回车结束。\"))\n",
    "import random\n",
    "list=[]\n",
    "for i in range(n):\n",
    "    list.append(random.randint(m,k))\n",
    "print(list)\n",
    "def sum(list):\n",
    "    s=0\n",
    "    for x in list:\n",
    "        s=s+x\n",
    "    return s\n",
    "def average(list):\n",
    "    avg=0\n",
    "    avg=sum(list)/(len(list)*1.0)\n",
    "    return avg\n",
    "import math\n",
    "math.sqrt( average(list) )\n",
    "\n",
    "print(\"math.sqrt: \", math.sqrt(average(list)))\n"
   ]
  },
  {
   "cell_type": "code",
   "execution_count": 2,
   "metadata": {},
   "outputs": [
    {
     "name": "stdout",
     "output_type": "stream",
     "text": [
      "请输入一个大于0的整数，以回车结束。1\n",
      "请输入一个大于0的整数，以回车结束。5\n",
      "请输入你想随机生成的整数个数，以回车结束。2\n",
      "[2, 1]\n",
      "[0.6931471805599453, 0.0]\n",
      "0.6931471805599453\n"
     ]
    }
   ],
   "source": [
    "#练习 2：写函数，共n个随机整数，整数范围在m与k之间，（n,m,k由用户输入）。求1：西格玛log(随机整数)\n",
    "m=int(input(\"请输入一个大于0的整数，以回车结束。\"))\n",
    "k=int(input(\"请输入一个大于0的整数，以回车结束。\"))\n",
    "n=int(input(\"请输入你想随机生成的整数个数，以回车结束。\"))\n",
    "import random\n",
    "rand_list=[]\n",
    "for i in range(n):\n",
    "    rand_list.append(random.randint(m,k))\n",
    "print(rand_list)\n",
    "import math\n",
    "log_list=[]\n",
    "for i in rand_list:\n",
    "    log_list.append(math.log(i))\n",
    "    \n",
    "print(log_list)\n",
    "def sum(log_list):\n",
    "    s=0\n",
    "    for x in log_list:\n",
    "        s=s+x\n",
    "    return s\n",
    "\n",
    "\n",
    "print(sum(log_list))\n",
    "\n",
    "\n"
   ]
  },
  {
   "cell_type": "code",
   "execution_count": null,
   "metadata": {},
   "outputs": [],
   "source": []
  },
  {
   "cell_type": "code",
   "execution_count": null,
   "metadata": {
    "collapsed": true
   },
   "outputs": [],
   "source": []
  },
  {
   "cell_type": "code",
   "execution_count": null,
   "metadata": {
    "collapsed": true
   },
   "outputs": [],
   "source": []
  },
  {
   "cell_type": "code",
   "execution_count": null,
   "metadata": {},
   "outputs": [],
   "source": [
    "\n"
   ]
  },
  {
   "cell_type": "code",
   "execution_count": null,
   "metadata": {
    "collapsed": true
   },
   "outputs": [],
   "source": []
  },
  {
   "cell_type": "code",
   "execution_count": null,
   "metadata": {
    "collapsed": true
   },
   "outputs": [],
   "source": []
  },
  {
   "cell_type": "code",
   "execution_count": null,
   "metadata": {
    "collapsed": true
   },
   "outputs": [],
   "source": []
  },
  {
   "cell_type": "code",
   "execution_count": null,
   "metadata": {
    "collapsed": true
   },
   "outputs": [],
   "source": []
  },
  {
   "cell_type": "code",
   "execution_count": null,
   "metadata": {
    "collapsed": true
   },
   "outputs": [],
   "source": []
  },
  {
   "cell_type": "code",
   "execution_count": null,
   "metadata": {
    "collapsed": true
   },
   "outputs": [],
   "source": []
  },
  {
   "cell_type": "code",
   "execution_count": null,
   "metadata": {
    "collapsed": true
   },
   "outputs": [],
   "source": []
  },
  {
   "cell_type": "code",
   "execution_count": null,
   "metadata": {
    "collapsed": true
   },
   "outputs": [],
   "source": []
  },
  {
   "cell_type": "code",
   "execution_count": null,
   "metadata": {
    "collapsed": true
   },
   "outputs": [],
   "source": []
  },
  {
   "cell_type": "code",
   "execution_count": null,
   "metadata": {
    "collapsed": true
   },
   "outputs": [],
   "source": []
  },
  {
   "cell_type": "code",
   "execution_count": null,
   "metadata": {
    "collapsed": true
   },
   "outputs": [],
   "source": []
  },
  {
   "cell_type": "code",
   "execution_count": null,
   "metadata": {
    "collapsed": true
   },
   "outputs": [],
   "source": []
  },
  {
   "cell_type": "code",
   "execution_count": null,
   "metadata": {
    "collapsed": true
   },
   "outputs": [],
   "source": []
  },
  {
   "cell_type": "code",
   "execution_count": null,
   "metadata": {
    "collapsed": true
   },
   "outputs": [],
   "source": []
  },
  {
   "cell_type": "code",
   "execution_count": null,
   "metadata": {
    "collapsed": true
   },
   "outputs": [],
   "source": []
  },
  {
   "cell_type": "code",
   "execution_count": null,
   "metadata": {
    "collapsed": true
   },
   "outputs": [],
   "source": []
  }
 ],
 "metadata": {
  "kernelspec": {
   "display_name": "Python 3",
   "language": "python",
   "name": "python3"
  },
  "language_info": {
   "codemirror_mode": {
    "name": "ipython",
    "version": 3
   },
   "file_extension": ".py",
   "mimetype": "text/x-python",
   "name": "python",
   "nbconvert_exporter": "python",
   "pygments_lexer": "ipython3",
   "version": "3.6.1"
  }
 },
 "nbformat": 4,
 "nbformat_minor": 2
}
