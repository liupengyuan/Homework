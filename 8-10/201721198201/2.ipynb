
# coding: utf-8

# In[6]:

#练习4：用户可以输入的任意多个数字，直到: 输入所有数字的和比当前输入数字小，且输入所有数字的积大于500。
ji=1
he=0
while True:
    num=int(input("输入："))
    he=he+num
    ji=ji*num
    if he<num and ji>500:
        break
print("end")


# In[ ]:




# In[3]:

#练习2：写出由用户指定整数个数，并由用户输入多个整数，并求和的代码。
i=1
s=0
while i<=3:
    n=int(input("请输入一个整数，以回车结束"))
    s=s+n
    i=i+1
    print(s)


# In[4]:

#练习3：用户可以输入的任意多个数字，直到用户不想输入为止。
print("连续输入数字，直到输入quit时退出")
while True:
    num=input("输入：")
    if num=="quit":
        break
print("end")


# In[5]:

#练习1：仿照任务2完整代码，打印n!。
n = int(input("请输入一个正整数，以回车结束"))
i = 0
total = 0
while i < n:
    i = i + 1
    total = total + i
print(n)


# In[ ]:




# In[ ]:



