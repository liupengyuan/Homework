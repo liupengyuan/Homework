
# coding: utf-8

# In[1]:

#练习 2：写程序，可由键盘读入两个整数m与n(n不等于0)，询问用户意图，如果要求和则计算从m到n的和输出，如果要乘积则计算从m到n的积并输出，如果要求余数则计算m除以n的余数的值并输出，否则则计算m整除n的值并输出。
s=input("请输入一个运算符号,回车结束")
n=int(input("请输入一个整数，回车结束"))
m=int(input("请输入一个整数，回车结束"))
if s=="+":
    print(m+n)
elif s=="*":
    print(m*n)
else:
    print(m%n)


# In[2]:

#练习四 英文单词单数转复数，要求输入一个英文动词（单数形式），能够得到其复数形式
str=input("请输入一个英文名词单数")
if str.endswith("y"):
    ss=str[:-1]
    print(ss+"ies")
elif str.endswith("f"):
    ss=str[:-1]
    print(ss+"ves")
elif str.endswith("fe"):
    ss=str[:-2]
    print(ss+"ves")
elif str.endswith("o"):
    print(str+"es")
elif str.endswith("s" or "x" or "ch"or"sh"):
    print(str+"es")
else :
    print(str+"s")


# In[3]:

# 练习四 给出单数转复数形式
str=input("请输入一个英文名词复数")
if str.endswith("ves"):
    ss=str[:-3]
    print(ss+"f")
elif str.endswith("oes" or "ses" or "xes" or "ches" or "shes"):
    ss=str[:-2]
    print(ss)
elif str.endswith("ies"):
    ss=str[:-3]
    print(ss+"y")
else:
    ss=str[:-1]
    print(ss)


# In[ ]:



