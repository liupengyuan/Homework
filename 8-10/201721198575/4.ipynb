{
 "cells": [
  {
   "cell_type": "markdown",
   "metadata": {},
   "source": [
    "# 练习 1：仿照求$ \\sum_{i=1}^mi + \\sum_{i=1}^ni  + \\sum_{i=1}^ki$的完整代码，写程序，可求m!+n!+k!\n"
   ]
  },
  {
   "cell_type": "code",
   "execution_count": 10,
   "metadata": {},
   "outputs": [
    {
     "name": "stdout",
     "output_type": "stream",
     "text": [
      "请输入第1个整数，以回车结束。1\n",
      "请输入第2个整数，以回车结束。2\n",
      "请输入第3个整数，以回车结束。3\n",
      "m!+n!+k!= 9\n"
     ]
    }
   ],
   "source": [
    "def factorial(end):\n",
    "    i = 1\n",
    "    total_end = 1\n",
    "    while i <= end:\n",
    "        total_end = total_end * i\n",
    "        i = i + 1\n",
    "    return total_end\n",
    "\n",
    "n = int(input('请输入第1个整数，以回车结束。'))\n",
    "m = int(input('请输入第2个整数，以回车结束。'))\n",
    "k = int(input('请输入第3个整数，以回车结束。'))\n",
    "\n",
    "print('m!+n!+k!=',factorial(m)+factorial(n)+factorial(k))"
   ]
  },
  {
   "cell_type": "markdown",
   "metadata": {},
   "source": [
    "# 练习 2：写函数可返回1 - 1/3 + 1/5 - 1/7...的前n项的和。在主程序中，分别令n=1000及100000，打印4倍该函数的和。\n"
   ]
  },
  {
   "cell_type": "code",
   "execution_count": 16,
   "metadata": {},
   "outputs": [
    {
     "name": "stdout",
     "output_type": "stream",
     "text": [
      "3.143588659585789\n",
      "3.141612653189785\n"
     ]
    }
   ],
   "source": [
    "def func(param):\n",
    "    i = 3\n",
    "    total = 1\n",
    "    k = 0\n",
    "    while i < param+3:\n",
    "        if k % 2 == 0:\n",
    "            total = total - 1 / i\n",
    "        else:\n",
    "            total = total + 1 / i\n",
    "        k = k + 1\n",
    "        i = i + 2\n",
    "    return total\n",
    "\n",
    "n=1000\n",
    "print(func(n)*4)\n",
    "n=100000\n",
    "print(func(n)*4)"
   ]
  },
  {
   "cell_type": "markdown",
   "metadata": {},
   "source": [
    "# 练习 3：将task3中的练习1及练习4改写为函数，并进行调用。\n"
   ]
  },
  {
   "cell_type": "code",
   "execution_count": 17,
   "metadata": {},
   "outputs": [
    {
     "name": "stdout",
     "output_type": "stream",
     "text": [
      "请输入您的姓名：L\n",
      "你好 L\n",
      "请输入您出生的月份4\n",
      "请输入您出生的日期25\n",
      "L 你是非常有性格的金牛座！\n"
     ]
    }
   ],
   "source": [
    "#task3 练习1\n",
    "user = input('请输入您的姓名：')\n",
    "print('你好', user)\n",
    "\n",
    "month = int(input('请输入您出生的月份'))\n",
    "date = int(input('请输入您出生的日期'))\n",
    "# 金牛座出生日期为阳历4月21日~5月20日\n",
    "\n",
    "def func(param1,param2):\n",
    "    if ((param1 == 4) and (21 <= param2 <= 30)) or ((param1 == 5) and (1 <= param2 <= 20)):\n",
    "        return '你是非常有性格的金牛座！'\n",
    "\n",
    "print(user,func(month,date))"
   ]
  },
  {
   "cell_type": "code",
   "execution_count": 25,
   "metadata": {},
   "outputs": [
    {
     "name": "stdout",
     "output_type": "stream",
     "text": [
      "请输入一个英文单词，结束请输入q：man\n",
      "它的复数形式为： men\n",
      "请输入一个英文单词，结束请输入q：life\n",
      "它的复数形式为： lives\n",
      "请输入一个英文单词，结束请输入q：q\n"
     ]
    }
   ],
   "source": [
    "#task3 练习4\n",
    "def plural(m):\n",
    "    if m == 'hero' or m == 'Negro' or m == 'tomato' or m == 'potato':\n",
    "        plural = m + 'es'\n",
    "    elif m == 'sheep'or m =='deer' or m == 'Chinese'or m == 'Japanese' or m == 'Swiss':\n",
    "        plural=m\n",
    "    elif m.endswith('s')or m.endswith('x') or m.endswith('sh') or m.endswith('ch'):\n",
    "        plural = m + 'es'\n",
    "    elif m.endswith('y'):\n",
    "        plural = m[:-1] + 'ies'\n",
    "    elif m.endswith('f'):\n",
    "        plural = m[:-1] + 'ves'\n",
    "    elif m.endswith('fe'):\n",
    "        plural = m[:-2] + 'ves'\n",
    "    elif m == 'man':\n",
    "        plural = 'men'\n",
    "    elif m == 'woman':\n",
    "        plural ='women'\n",
    "    elif m == 'tooth':\n",
    "        plural ='teeth'\n",
    "    elif m == 'foot':\n",
    "        plural ='feet'\n",
    "    elif m == 'goose':\n",
    "        plural ='geese'\n",
    "    elif m == 'child':\n",
    "        plural ='children'\n",
    "    elif m == 'mouse':\n",
    "        plural ='mice'\n",
    "    else:\n",
    "        plural = m + 's'\n",
    "    print('它的复数形式为：',plural)\n",
    "\n",
    "    \n",
    "i = 0\n",
    "while i == 0:\n",
    "    m = input('请输入一个英文单词，结束请输入q：')\n",
    "    if m == 'q': break\n",
    "    else:\n",
    "        plural(m)\n",
    "    "
   ]
  },
  {
   "cell_type": "markdown",
   "metadata": {},
   "source": [
    "# 挑战性练习：写程序，可以求从整数m到整数n累加的和，间隔为k，求和部分需用函数实现，主程序中由用户输入m，n，k调用函数验证正确性。"
   ]
  },
  {
   "cell_type": "code",
   "execution_count": 34,
   "metadata": {},
   "outputs": [
    {
     "name": "stdout",
     "output_type": "stream",
     "text": [
      "请输入第1个整数，以回车结束。7\n",
      "请输入第2个整数，以回车结束。12\n",
      "请输入第3个整数，以回车结束。2\n",
      "7\n",
      "16\n",
      "和为 39\n"
     ]
    }
   ],
   "source": [
    "def sum(m,n,k):\n",
    "    total = 0\n",
    "    while m < n:\n",
    "        total = total + m\n",
    "        if (m + k)> n :\n",
    "            total = total +n\n",
    "            break\n",
    "        print(total)\n",
    "        m = m + k\n",
    "            \n",
    "    return total\n",
    "\n",
    "n = int(input('请输入第1个整数，以回车结束。'))\n",
    "m = int(input('请输入第2个整数，以回车结束。'))\n",
    "k = int(input('请输入第3个整数，以回车结束。'))\n",
    "if m < n:\n",
    "    print('和为',sum(m,n,k))\n",
    "else:\n",
    "    print('和为',sum(n,m,k))"
   ]
  },
  {
   "cell_type": "code",
   "execution_count": null,
   "metadata": {},
   "outputs": [],
   "source": []
  }
 ],
 "metadata": {
  "kernelspec": {
   "display_name": "Python 3",
   "language": "python",
   "name": "python3"
  },
  "language_info": {
   "codemirror_mode": {
    "name": "ipython",
    "version": 3
   },
   "file_extension": ".py",
   "mimetype": "text/x-python",
   "name": "python",
   "nbconvert_exporter": "python",
   "pygments_lexer": "ipython3",
   "version": "3.6.3"
  }
 },
 "nbformat": 4,
 "nbformat_minor": 2
}
