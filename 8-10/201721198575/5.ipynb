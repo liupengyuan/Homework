{
 "cells": [
  {
   "cell_type": "markdown",
   "metadata": {},
   "source": [
    "# 练习 1：写函数，求n个随机整数均值的平方根，整数范围在m与k之间（n,m,k由用户输入）。"
   ]
  },
  {
   "cell_type": "code",
   "execution_count": 4,
   "metadata": {},
   "outputs": [
    {
     "name": "stdout",
     "output_type": "stream",
     "text": [
      "请输入整数个数，以回车结束。5\n",
      "请输入最小范围，以回车结束。2\n",
      "请输入最大范围，以回车结束。10\n",
      "这 5 个随机整数均值的平方根为: 2.8284271247461903\n"
     ]
    }
   ],
   "source": [
    "import random\n",
    "import math\n",
    "\n",
    "n = int(input('请输入整数个数，以回车结束。'))\n",
    "m = int(input('请输入最小范围，以回车结束。'))\n",
    "k = int(input('请输入最大范围，以回车结束。'))\n",
    "\n",
    "i=0\n",
    "sum = 0\n",
    "while i < n:\n",
    "    num = random.randint(m, k)\n",
    "    sum = sum + num\n",
    "    i = i + 1\n",
    "    \n",
    "print('这',n,'个随机整数均值的平方根为:', math.sqrt(sum / n))"
   ]
  },
  {
   "cell_type": "markdown",
   "metadata": {},
   "source": [
    "# 练习 2：写函数，共n个随机整数，整数范围在m与k之间，（n,m,k由用户输入）。求1：西格玛log(随机整数)，2：西格玛1/log(随机整数)"
   ]
  },
  {
   "cell_type": "code",
   "execution_count": 6,
   "metadata": {},
   "outputs": [
    {
     "name": "stdout",
     "output_type": "stream",
     "text": [
      "请输入整数个数，以回车结束。3\n",
      "请输入最小范围，以回车结束。3\n",
      "请输入最大范围，以回车结束。6\n",
      "log( 6 )= 1.791759469228055\n",
      "1/log( 6 )= 1.791759469228055\n",
      "log( 3 )= 1.0986122886681098\n",
      "1/log( 3 )= 1.0986122886681098\n",
      "log( 4 )= 1.3862943611198906\n",
      "1/log( 4 )= 1.3862943611198906\n"
     ]
    }
   ],
   "source": [
    "import random, math\n",
    "\n",
    "n = int(input('请输入整数个数，以回车结束。'))\n",
    "m = int(input('请输入最小范围，以回车结束。'))\n",
    "k = int(input('请输入最大范围，以回车结束。'))\n",
    "\n",
    "i=0\n",
    "while i < n:\n",
    "    num = random.randint(m, k)\n",
    "    print('log(', num,')=',math.log(num))\n",
    "    print('1/log(', num,')=',math.log(num))\n",
    "    i = i + 1"
   ]
  },
  {
   "cell_type": "markdown",
   "metadata": {},
   "source": [
    "# 练习 3：写函数，求s=a+aa+aaa+aaaa+aa...a的值，其中a是[1,9]之间的随机整数。例如2+22+222+2222+22222(此时共有5个数相加)，几个数相加由键盘输入。"
   ]
  },
  {
   "cell_type": "code",
   "execution_count": 14,
   "metadata": {},
   "outputs": [
    {
     "name": "stdout",
     "output_type": "stream",
     "text": [
      "请输入数字个数，以回车结束。5\n",
      "12345\n"
     ]
    }
   ],
   "source": [
    "import random, math\n",
    "\n",
    "num = random.randint(1, 9)\n",
    "n = int(input('请输入数字个数，以回车结束。'))\n",
    "\n",
    "i=0\n",
    "param='1'\n",
    "sum = 0\n",
    "while i < n:\n",
    "    a=int(param)\n",
    "    sum = sum + num * a\n",
    "    param = param + '1'\n",
    "    i = i + 1\n",
    "\n",
    "print(sum)"
   ]
  },
  {
   "cell_type": "markdown",
   "metadata": {},
   "source": [
    "# 挑战性练习：仿照task5，将猜数游戏改成由用户随便选择一个整数，让计算机来猜测的猜数游戏，要求和task5中人猜测的方法类似，但是人机角色对换，由人来判断猜测是大、小还是相等，请写出完整的猜数游戏。"
   ]
  },
  {
   "cell_type": "code",
   "execution_count": 5,
   "metadata": {},
   "outputs": [
    {
     "name": "stdout",
     "output_type": "stream",
     "text": [
      "=====游戏菜单=====\n",
      "                1. 游戏说明\n",
      "                2. 开始游戏\n",
      "                3. 退出游戏\n",
      "             =====游戏菜单=====\n",
      "请输入你的选择1\n",
      "用户随便输入一个整数，计算机要在5次内将数字猜出。计算机猜测数字，然后由您判断正确与否，猜中则游戏结束，失败则游戏重新开始。\n",
      "=====游戏菜单=====\n",
      "                1. 游戏说明\n",
      "                2. 开始游戏\n",
      "                3. 退出游戏\n",
      "             =====游戏菜单=====\n",
      "请输入你的选择2\n",
      "请输入一个大于0的整数，作为要猜的数字，回车结束。5\n",
      "请输入一个大于0的整数，作为神秘整数的上界，回车结束。10\n",
      "计算机猜的数字为 10\n",
      "请问计算机猜的数字是否正确，可输入'正确'，'大了'，'小了' >>>大了\n",
      "计算机猜的数字为 4\n",
      "请问计算机猜的数字是否正确，可输入'正确'，'大了'，'小了' >>>小了\n",
      "计算机猜的数字为 8\n",
      "请问计算机猜的数字是否正确，可输入'正确'，'大了'，'小了' >>>大了\n",
      "计算机猜的数字为 6\n",
      "请问计算机猜的数字是否正确，可输入'正确'，'大了'，'小了' >>>大了\n",
      "计算机猜的数字为 4\n",
      "请问计算机猜的数字是否正确，可输入'正确'，'大了'，'小了' >>>小了\n",
      "神秘数字是： 5\n",
      "猜数失败，再接再励，下次加油\n",
      "=====游戏菜单=====\n",
      "                1. 游戏说明\n",
      "                2. 开始游戏\n",
      "                3. 退出游戏\n",
      "             =====游戏菜单=====\n",
      "请输入你的选择3\n",
      "GAME OVER\n"
     ]
    }
   ],
   "source": [
    "import random, math\n",
    "\n",
    "def win():\n",
    "    print('恭喜你猜数成功')\n",
    "    \n",
    "def lose():\n",
    "    print('猜数失败，再接再励，下次加油')\n",
    "\n",
    "def game_over():\n",
    "    print('GAME OVER')\n",
    "\n",
    "def show_instruction():\n",
    "    print('用户随便输入一个整数，计算机要在5次内将数字猜出。计算机猜测数字，然后由您判断正确与否，猜中则游戏结束，失败则游戏重新开始。')\n",
    "\n",
    "def menu():\n",
    "    print('''=====游戏菜单=====\n",
    "                1. 游戏说明\n",
    "                2. 开始游戏\n",
    "                3. 退出游戏\n",
    "             =====游戏菜单=====''')\n",
    "             \n",
    "def guess_game():\n",
    "    number = int(input('请输入一个大于0的整数，作为要猜的数字，回车结束。'))\n",
    "    n = int(input('请输入一个大于0的整数，作为神秘整数的上界，回车结束。'))\n",
    "    max_times = 5\n",
    "    guess_times = 0\n",
    "    maxGuess=n\n",
    "    minGuess=1\n",
    "    \n",
    "    while guess_times < max_times:\n",
    "        guess_times += 1\n",
    "        guess = random.randint(minGuess, maxGuess)\n",
    "        print('计算机猜的数字为', guess)\n",
    "       \n",
    "        judge=input('请问计算机猜的数字是否正确，可输入\\'正确\\'，\\'大了\\'，\\'小了\\' >>>');\n",
    "        if judge == '正确':\n",
    "            win()\n",
    "            print('神秘数字是：', guess)\n",
    "            print('你比标准次数少', max_times-guess_times, '次')\n",
    "            break\n",
    "        elif judge == '大了':\n",
    "            if maxGuess > guess:\n",
    "                maxGuess = guess\n",
    "        elif judge == '小了':\n",
    "            if minGuess < guess:\n",
    "                minGuess = guess\n",
    "    else:\n",
    "        print('神秘数字是：', number)\n",
    "        \n",
    "        lose()\n",
    "\n",
    "# 主函数\n",
    "def main():\n",
    "    while True:\n",
    "        menu()\n",
    "        choice = int(input('请输入你的选择'))\n",
    "        if choice == 1:\n",
    "            show_instruction()\n",
    "        elif choice == 2:\n",
    "            guess_game()\n",
    "        elif choice == 3:\n",
    "            game_over()\n",
    "            break\n",
    "\n",
    "\n",
    "#主程序\n",
    "if __name__ == '__main__':\n",
    "    main()"
   ]
  },
  {
   "cell_type": "code",
   "execution_count": null,
   "metadata": {},
   "outputs": [],
   "source": []
  }
 ],
 "metadata": {
  "kernelspec": {
   "display_name": "Python 3",
   "language": "python",
   "name": "python3"
  }
 },
 "nbformat": 4,
 "nbformat_minor": 2
}
