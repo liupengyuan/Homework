{
 "cells": [
  {
   "cell_type": "markdown",
   "metadata": {},
   "source": [
    "# 练习 1：写程序，可由键盘读入用户姓名例如Mr. right，让用户输入出生的月份与日期，判断用户星座，假设用户是金牛座，则输出，Mr. right，你是非常有性格的金牛座！。"
   ]
  },
  {
   "cell_type": "code",
   "execution_count": 1,
   "metadata": {},
   "outputs": [
    {
     "name": "stdout",
     "output_type": "stream",
     "text": [
      "请输入您的姓名：l\n",
      "你好 l\n",
      "请输入您出生的月份5\n",
      "请输入您出生的日期12\n",
      "l 你是非常有性格的金牛座！\n"
     ]
    }
   ],
   "source": [
    "user = input('请输入您的姓名：')\n",
    "print('你好', user)\n",
    "\n",
    "month = int(input('请输入您出生的月份'))\n",
    "date = int(input('请输入您出生的日期'))\n",
    "# 金牛座出生日期为阳历4月21日~5月20日\n",
    "if ((month == 4) and (21 <= date <= 30)) or ((month == 5) and (1 <= date <= 20)):\n",
    "    print(user,'你是非常有性格的金牛座！')\n"
   ]
  },
  {
   "cell_type": "markdown",
   "metadata": {},
   "source": [
    "# 练习 2：写程序，可由键盘读入两个整数m与n(n不等于0)，询问用户意图，如果要求和则计算从m到n的和输出，如果要乘积则计算从m到n的积并输出，如果要求余数则计算m除以n的余数的值并输出，否则则计算m整除n的值并输出。"
   ]
  },
  {
   "cell_type": "code",
   "execution_count": 18,
   "metadata": {},
   "outputs": [
    {
     "name": "stdout",
     "output_type": "stream",
     "text": [
      "请输入一个整数12\n",
      "请输入一个不为0的整数15\n",
      "请输入您的要求：(要求可以是‘求和’、‘求积’，‘求余数’，‘求商’)求余数\n",
      "余数 12\n"
     ]
    }
   ],
   "source": [
    "m = int(input('请输入一个整数'))\n",
    "n = int(input('请输入一个不为0的整数'))\n",
    "\n",
    "while n == 0:\n",
    "    n = int(input('请输入一个不为0的整数'))\n",
    "\n",
    "request=input('请输入您的要求：(要求可以是‘求和’、‘求积’，‘求余数’，‘求商’)')\n",
    "\n",
    "if request == '求和':\n",
    "    total = 0\n",
    "    if (m - n) == 2 or (m - n) == -2:\n",
    "        total = m + n + (m + n)/2\n",
    "    elif (m - n) == 3 or (m - n) == -3:\n",
    "        total = (m + n) * 2\n",
    "    print('和为：',total)\n",
    "elif request == '求积':\n",
    "    mul = 1\n",
    "    if m > n:\n",
    "        while n <= m:\n",
    "            mul = mul * n\n",
    "            n=n+1\n",
    "    elif m < n :\n",
    "        while m <= n :\n",
    "            mul = mul * m\n",
    "            m=m+1\n",
    "    else: \n",
    "        print(1)\n",
    "        mul = m * n\n",
    "    print('积为：',mul)\n",
    "elif request == '求余数':\n",
    "    print('余数',m % n)\n",
    "elif request == '求商':\n",
    "    print('整除得',m // n)\n",
    "else:\n",
    "    print('要求不符合规定')"
   ]
  },
  {
   "cell_type": "markdown",
   "metadata": {},
   "source": [
    "# 练习 3：写程序，能够根据北京雾霾PM2.5数值给出对应的防护建议。如当PM2.5数值大于500，则应该打开空气净化器，戴防雾霾口罩等。"
   ]
  },
  {
   "cell_type": "code",
   "execution_count": 2,
   "metadata": {},
   "outputs": [
    {
     "name": "stdout",
     "output_type": "stream",
     "text": [
      "请输入当前PM2.5的值：12\n",
      "1级 优\n",
      "多参加户外活动呼吸清新空气\n"
     ]
    }
   ],
   "source": [
    "m = int(input('请输入当前PM2.5的值：'))\n",
    "\n",
    "if m > 300:\n",
    "    print('6级 严重\\n请尽量不要待在室外，并打开空气进化器')\n",
    "elif m > 200:\n",
    "    print('5级 重度\\n适当减少室外活动，外出时带好防霾口罩')\n",
    "elif m > 150:\n",
    "    print('4级 中度\\n对敏感人群影响较大，外出时带好防霾口罩')\n",
    "elif m > 100:\n",
    "    print('3级 轻度\\n敏感人群减少体力消耗大的户外活动')\n",
    "elif m > 50:\n",
    "    print('2级 良\\n可以正常进行室外活动')\n",
    "else:\n",
    "    print('1级 优\\n可以多参加户外活动呼吸清新空气')"
   ]
  },
  {
   "cell_type": "markdown",
   "metadata": {},
   "source": [
    "# 练习 4：英文单词单数转复数，要求输入一个英文动词（单数形式），能够得到其复数形式，或给出单数转复数形式的建议（提示，some_string.endswith(some_letter)函数可以判断某字符串结尾字符，可尝试运行：'myname'.endswith('me')，liupengyuan'.endswith('n')）。"
   ]
  },
  {
   "cell_type": "code",
   "execution_count": 19,
   "metadata": {},
   "outputs": [
    {
     "name": "stdout",
     "output_type": "stream",
     "text": [
      "请输入一个英文单词，结束请输入q：man\n",
      "它的复数形式为： men\n",
      "请输入一个英文单词，结束请输入q：life\n",
      "它的复数形式为： lives\n",
      "请输入一个英文单词，结束请输入q：party\n",
      "它的复数形式为： parties\n",
      "请输入一个英文单词，结束请输入q：q\n"
     ]
    }
   ],
   "source": [
    "i = 0\n",
    "while i == 0:\n",
    "    m = input('请输入一个英文单词，结束请输入q：')\n",
    "    if m == 'q': break\n",
    "    if m == 'hero' or m == 'Negro' or m == 'tomato' or m == 'potato':\n",
    "        plural = m + 'es'\n",
    "    elif m == 'sheep'or m =='deer' or m == 'Chinese'or m == 'Japanese' or m == 'Swiss':\n",
    "        plural=m\n",
    "    elif m.endswith('s')or m.endswith('x') or m.endswith('sh') or m.endswith('ch'):\n",
    "        plural = m + 'es'\n",
    "    elif m.endswith('y'):\n",
    "        plural = m[:-1] + 'ies'\n",
    "    elif m.endswith('f'):\n",
    "        plural = m[:-1] + 'ves'\n",
    "    elif m.endswith('fe'):\n",
    "        plural = m[:-2] + 'ves'\n",
    "    elif m == 'man':\n",
    "        plural = 'men'\n",
    "    elif m == 'woman':\n",
    "        plural ='women'\n",
    "    elif m == 'tooth':\n",
    "        plural ='teeth'\n",
    "    elif m == 'foot':\n",
    "        plural ='feet'\n",
    "    elif m == 'goose':\n",
    "        plural ='geese'\n",
    "    elif m == 'child':\n",
    "        plural ='children'\n",
    "    elif m == 'mouse':\n",
    "        plural ='mice'\n",
    "    else:\n",
    "        plural = m + 's'\n",
    "    print('它的复数形式为：',plural)\n"
   ]
  },
  {
   "cell_type": "markdown",
   "metadata": {},
   "source": [
    "# 尝试性练习：写程序，能够在屏幕上显示空行。"
   ]
  },
  {
   "cell_type": "code",
   "execution_count": 17,
   "metadata": {},
   "outputs": [
    {
     "name": "stdout",
     "output_type": "stream",
     "text": [
      "1\n",
      "\n",
      "\n",
      "2\n"
     ]
    }
   ],
   "source": [
    "print(1)\n",
    "print('\\n')\n",
    "print(2)"
   ]
  },
  {
   "cell_type": "markdown",
   "metadata": {},
   "source": [
    "\n",
    "# 挑战性练习：写程序，由用户输入一些整数，能够得到几个整数中的次大值(第二大的值)并输出。"
   ]
  },
  {
   "cell_type": "code",
   "execution_count": 14,
   "metadata": {},
   "outputs": [
    {
     "name": "stdout",
     "output_type": "stream",
     "text": [
      "请输入要输入的整数个数，回车结束。9\n",
      "请输入一个整数，回车结束12\n",
      "请输入一个整数，回车结束34\n",
      "请输入一个整数，回车结束55\n",
      "请输入一个整数，回车结束2\n",
      "请输入一个整数，回车结束44\n",
      "请输入一个整数，回车结束7\n",
      "请输入一个整数，回车结束64\n",
      "请输入一个整数，回车结束20\n",
      "请输入一个整数，回车结束26\n",
      "次大值是： 55\n"
     ]
    }
   ],
   "source": [
    "m = int(input('请输入要输入的整数个数，回车结束。'))\n",
    "\n",
    "maxnum = int(input('请输入一个整数，回车结束'))\n",
    "secmax = maxnum\n",
    "\n",
    "i = 1\n",
    "while i < m :\n",
    "    i += 1\n",
    "    n = int(input('请输入一个整数，回车结束'))\n",
    "    if n <= secmax or n == maxnum:\n",
    "        continue\n",
    "    elif n > maxnum :\n",
    "        secmax = maxnum\n",
    "        maxnum = n\n",
    "    else:\n",
    "        secmax = n\n",
    "        \n",
    "print('次大值是：', secmax)"
   ]
  }
 ],
 "metadata": {
  "kernelspec": {
   "display_name": "Python 3",
   "language": "python",
   "name": "python3"
  },
  "language_info": {
   "codemirror_mode": {
    "name": "ipython",
    "version": 3
   },
   "file_extension": ".py",
   "mimetype": "text/x-python",
   "name": "python",
   "nbconvert_exporter": "python",
   "pygments_lexer": "ipython3",
   "version": "3.6.3"
  }
 },
 "nbformat": 4,
 "nbformat_minor": 2
}
