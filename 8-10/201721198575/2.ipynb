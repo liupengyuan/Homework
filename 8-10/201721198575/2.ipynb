{
 "cells": [
  {
   "cell_type": "markdown",
   "metadata": {},
   "source": [
    "# 练习1:由用户从键盘给定任意正整数n，打印n!"
   ]
  },
  {
   "cell_type": "code",
   "execution_count": 4,
   "metadata": {},
   "outputs": [
    {
     "name": "stdout",
     "output_type": "stream",
     "text": [
      "请输入一个正整数，以回车结束。3\n",
      "6\n"
     ]
    }
   ],
   "source": [
    "n = int(input('请输入一个正整数，以回车结束。'))\n",
    "\n",
    "i = 0\n",
    "total = 1\n",
    "\n",
    "while i < n:\n",
    "    i = i + 1\n",
    "    total = total * i\n",
    "    \n",
    "print(total)"
   ]
  },
  {
   "cell_type": "markdown",
   "metadata": {},
   "source": [
    "# 实践1：键入如下代码并观察执行结果。"
   ]
  },
  {
   "cell_type": "code",
   "execution_count": 5,
   "metadata": {},
   "outputs": [
    {
     "name": "stdout",
     "output_type": "stream",
     "text": [
      "请输入你的姓名，以回车结束。L\n",
      "你好 L\n",
      "请输入一个正整数，以回车结束。12\n",
      "请输入一个正整数，以回车结束。23\n",
      "两个数的和是： 35\n",
      "再见！ L\n"
     ]
    }
   ],
   "source": [
    "name = input('请输入你的姓名，以回车结束。')\n",
    "print('你好', name)\n",
    "\n",
    "n = int(input('请输入一个正整数，以回车结束。'))\n",
    "m = int(input('请输入一个正整数，以回车结束。'))\n",
    "\n",
    "print('两个数的和是：', m+n)\n",
    "print('再见！', name)\n"
   ]
  },
  {
   "cell_type": "markdown",
   "metadata": {},
   "source": [
    "# 练习2：仿照实践1，写出由用户指定整数个数，并由用户输入多个整数，并求和的代码。"
   ]
  },
  {
   "cell_type": "code",
   "execution_count": 6,
   "metadata": {},
   "outputs": [
    {
     "name": "stdout",
     "output_type": "stream",
     "text": [
      "请输入您的姓名，以回车结束。L\n",
      "你好 L\n",
      "请指定整数个数，以回车结束。3\n",
      "请输入一个正整数，以回车结束。1\n",
      "请输入一个正整数，以回车结束。2\n",
      "请输入一个正整数，以回车结束。3\n",
      "这些整数的和是： 6\n",
      "再见！ L\n"
     ]
    }
   ],
   "source": [
    "user = input('请输入您的姓名，以回车结束。')\n",
    "print('你好', user)\n",
    "\n",
    "n = int(input('请指定整数个数，以回车结束。'))\n",
    "i = 0\n",
    "total = 0\n",
    "\n",
    "while i < n:\n",
    "    m = int(input('请输入一个正整数，以回车结束。'))\n",
    "    total = total + m\n",
    "    i = i + 1\n",
    "\n",
    "print('这些整数的和是：', total)\n",
    "print('再见！', user)"
   ]
  },
  {
   "cell_type": "markdown",
   "metadata": {},
   "source": [
    "# 练习3：用户可以输入的任意多个数字，直到用户不想输入为止。"
   ]
  },
  {
   "cell_type": "code",
   "execution_count": 8,
   "metadata": {},
   "outputs": [
    {
     "name": "stdout",
     "output_type": "stream",
     "text": [
      "请输入您的姓名，以回车结束。L\n",
      "你好 L\n",
      "请输入一个数字，结束请输入q:12\n",
      "12\n",
      "请输入一个数字，结束请输入q:23\n",
      "23\n",
      "请输入一个数字，结束请输入q:33\n",
      "33\n",
      "请输入一个数字，结束请输入q:q\n",
      "再见！ L\n"
     ]
    }
   ],
   "source": [
    "user = input('请输入您的姓名，以回车结束。')\n",
    "print('你好', user)\n",
    "i = 0\n",
    "while i == 0:\n",
    "    m = input('请输入一个数字，结束请输入q:')\n",
    "    if m == 'q': break\n",
    "    print(m)\n",
    "\n",
    "print('再见！', user)"
   ]
  },
  {
   "cell_type": "markdown",
   "metadata": {},
   "source": [
    "# 练习4：用户可以输入的任意多个数字，直到输入所有数字的和比当前输入数字小，且输入所有数字的积比当前输入数字的平方大。"
   ]
  },
  {
   "cell_type": "code",
   "execution_count": 5,
   "metadata": {},
   "outputs": [
    {
     "name": "stdout",
     "output_type": "stream",
     "text": [
      "请输入您的姓名，以回车结束。L\n",
      "你好 L\n",
      "请输入一个数字12\n",
      "请输入一个数字-1\n",
      "请输入一个数字-13\n",
      "请输入一个数字-1\n",
      "请输入一个数字-1\n",
      "该数字是： -1\n",
      "再见！ L\n"
     ]
    }
   ],
   "source": [
    "user = input('请输入您的姓名，以回车结束。')\n",
    "print('你好', user)\n",
    "\n",
    "i = 0\n",
    "total = 0\n",
    "mul = 1\n",
    "\n",
    "while i==0:\n",
    "    m = int(input('请输入一个数字'))\n",
    "    total = total + m\n",
    "    mul = mul * m\n",
    "    mi = m ** 2\n",
    "    if ((total < m )and (mul > mi)) : break\n",
    "    #print('此时数字，总和，乘积,该数字的平方分别是：',m,total,mul,mi)\n",
    "\n",
    "print('该数字是：',m)\n",
    "print('再见！', user)"
   ]
  }
 ],
 "metadata": {
  "kernelspec": {
   "display_name": "Python 3",
   "language": "python",
   "name": "python3"
  },
  "language_info": {
   "codemirror_mode": {
    "name": "ipython",
    "version": 3
   },
   "file_extension": ".py",
   "mimetype": "text/x-python",
   "name": "python",
   "nbconvert_exporter": "python",
   "pygments_lexer": "ipython3",
   "version": "3.6.3"
  }
 },
 "nbformat": 4,
 "nbformat_minor": 2
}
