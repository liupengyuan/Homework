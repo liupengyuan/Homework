{
 "cells": [
  {
   "cell_type": "markdown",
   "metadata": {},
   "source": [
    "# 练习一：自己定义一个reverse(s)函数，功能返回字符串s的倒序字符串。"
   ]
  },
  {
   "cell_type": "code",
   "execution_count": 17,
   "metadata": {},
   "outputs": [
    {
     "name": "stdout",
     "output_type": "stream",
     "text": [
      "fasfsd\n"
     ]
    }
   ],
   "source": [
    "def reverse(s):\n",
    "    string1=str()\n",
    "    string2=str()\n",
    "    for ch in s:\n",
    "        string1+=ch\n",
    "    for k in range(len(string1)-1,-1,-1):\n",
    "        string2+=string1[k]\n",
    "    print(string2)\n",
    "        \n",
    "line = str()\n",
    "line='dsfsaf'\n",
    "reverse(line)"
   ]
  },
  {
   "cell_type": "markdown",
   "metadata": {},
   "source": [
    "# 练习二：写函数，根据给定符号和行数，打印相应直角三角形，等腰三角形及其他形式的三角形。"
   ]
  },
  {
   "cell_type": "code",
   "execution_count": 10,
   "metadata": {},
   "outputs": [
    {
     "name": "stdout",
     "output_type": "stream",
     "text": [
      "请输入要打印的三角形\n",
      "    1为直角，\n",
      "    2为等腰，\n",
      "    3为钝角三角形：\n",
      "    3\n",
      "请输入要打印的行数4\n",
      "*\n",
      " **\n",
      "  ***\n",
      "   ****\n"
     ]
    }
   ],
   "source": [
    "def plalindrome(s,n):\n",
    "    if s == 1:\n",
    "        for i in range(1, n+2):\n",
    "            for j in range(1,i):\n",
    "                print('*', end='')\n",
    "            print()#为了输出换行\n",
    "    elif s == 2:\n",
    "        for k in range(n+1,0,-1):\n",
    "            print(' '*k + '*'*((n-k)*2+1), end='')\n",
    "            print()\n",
    "    elif s == 3:\n",
    "        print('*')\n",
    "        for k in range(1, n):\n",
    "            print(' '*k + '*'*(k+1), end='')\n",
    "            print()\n",
    "    else:\n",
    "        print('输入不符合要求。');\n",
    "\n",
    "def main():\n",
    "    s = int(input('''请输入要打印的三角形\n",
    "    1为直角，\n",
    "    2为等腰，\n",
    "    3为钝角三角形：\n",
    "    '''))\n",
    "    n = int(input('请输入要打印的行数'))\n",
    "\n",
    "    plalindrome(s,n)\n",
    "    \n",
    "\n",
    "if __name__ == '__main__':\n",
    "    main()"
   ]
  },
  {
   "cell_type": "markdown",
   "metadata": {},
   "source": [
    "# 练习五：写函数，根据给定符号，打印各种菱形。"
   ]
  },
  {
   "cell_type": "code",
   "execution_count": 52,
   "metadata": {},
   "outputs": [
    {
     "name": "stdout",
     "output_type": "stream",
     "text": [
      "请输入要打印的菱形行数\n",
      "最小可输入3，且只能为奇数\n",
      "5\n",
      "  *\n",
      " ***\n",
      "*****\n",
      " ***\n",
      "  *\n"
     ]
    }
   ],
   "source": [
    "def func(n):\n",
    "    if n>=3 and (n%2==1):\n",
    "        for k in range(n//2):\n",
    "            print(' '*(n-n//2-k-1) + '*'*(k*2+1), end='')\n",
    "            print()\n",
    "\n",
    "        print('*'*n, end='')\n",
    "        print()\n",
    "\n",
    "        j = n\n",
    "        for k in range(n//2):\n",
    "            j=j-2\n",
    "            print(' '*(k+1) + '*'*(j), end='')\n",
    "            print()\n",
    "    else:\n",
    "        print('行数最小是3且只能为奇数')\n",
    "\n",
    "def main():\n",
    "    n = int(input('''请输入要打印的菱形行数\n",
    "最小可输入3，且只能为奇数\n",
    "'''))\n",
    "\n",
    "    func(n)\n",
    "    \n",
    "\n",
    "if __name__ == '__main__':\n",
    "    main()"
   ]
  },
  {
   "cell_type": "code",
   "execution_count": null,
   "metadata": {},
   "outputs": [],
   "source": []
  }
 ],
 "metadata": {
  "kernelspec": {
   "display_name": "Python 3",
   "language": "python",
   "name": "python3"
  },
  "language_info": {
   "codemirror_mode": {
    "name": "ipython",
    "version": 3
   },
   "file_extension": ".py",
   "mimetype": "text/x-python",
   "name": "python",
   "nbconvert_exporter": "python",
   "pygments_lexer": "ipython3",
   "version": "3.6.3"
  }
 },
 "nbformat": 4,
 "nbformat_minor": 2
}
