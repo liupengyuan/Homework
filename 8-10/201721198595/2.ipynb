{
 "cells": [
  {
   "cell_type": "code",
   "execution_count": 2,
   "metadata": {},
   "outputs": [
    {
     "name": "stdout",
     "output_type": "stream",
     "text": [
      "请输入一个整数，回车结束3\n",
      "6\n"
     ]
    }
   ],
   "source": [
    "#练习1打印n！\n",
    "n=int(input('请输入一个整数，回车结束'))\n",
    "i=1\n",
    "sum=1\n",
    "while i<n:\n",
    "    i+=1\n",
    "    sum*=i\n",
    "print (sum)"
   ]
  },
  {
   "cell_type": "code",
   "execution_count": 3,
   "metadata": {},
   "outputs": [
    {
     "name": "stdout",
     "output_type": "stream",
     "text": [
      "请输入一个整数个数，回车结束3\n",
      "输入整数，回车结束2\n",
      "输入整数，回车结束3\n",
      "输入整数，回车结束4\n",
      "3个整数和为9\n"
     ]
    }
   ],
   "source": [
    "#练习2\n",
    "n=int(input('请输入一个整数个数，回车结束'))\n",
    "i=0\n",
    "sum=0\n",
    "while i<n:\n",
    "    i+=1\n",
    "    tmp = int(input(\"输入整数，回车结束\"))\n",
    "    sum+=tmp\n",
    "print (str(n)+'个整数和为'+str(sum))"
   ]
  },
  {
   "cell_type": "code",
   "execution_count": 4,
   "metadata": {},
   "outputs": [
    {
     "name": "stdout",
     "output_type": "stream",
     "text": [
      "请输入数字，'q'结束1\n",
      "请输入数字，'q'结束2\n",
      "请输入数字，'q'结束3\n",
      "请输入数字，'q'结束4\n",
      "请输入数字，'q'结束5\n",
      "请输入数字，'q'结束q\n"
     ]
    }
   ],
   "source": [
    "#练习3\n",
    "while i != 'q':\n",
    "    i=input('请输入数字，\\'q\\'结束')"
   ]
  },
  {
   "cell_type": "code",
   "execution_count": 10,
   "metadata": {},
   "outputs": [
    {
     "name": "stdout",
     "output_type": "stream",
     "text": [
      "sum=0\n",
      "mul=1\n",
      "请输入数字1\n",
      "sum=1\n",
      "mul=1\n",
      "请输入数字2\n",
      "sum=3\n",
      "mul=2\n",
      "请输入数字55\n",
      "sum=58\n",
      "mul=110\n",
      "请输入数字66\n",
      "sum=124\n",
      "mul=7260\n",
      "请输入数字2\n",
      "sum=126\n",
      "mul=14520\n",
      "请输入数字345\n"
     ]
    }
   ],
   "source": [
    "#练习4\n",
    "   \n",
    "sum=0\n",
    "mul=1\n",
    "i=1\n",
    "\n",
    "while  sum-1 > i or mul < 500:\n",
    "   \n",
    "    sum+=i\n",
    "    mul*=i\n",
    "    print(\"sum=\"+str(sum-1))\n",
    "    print(\"mul=\"+str(mul))\n",
    "    i=int(input(\"请输入数字\"))\n",
    "    "
   ]
  }
 ],
 "metadata": {
  "kernelspec": {
   "display_name": "Python 3",
   "language": "python",
   "name": "python3"
  },
  "language_info": {
   "codemirror_mode": {
    "name": "ipython",
    "version": 3
   },
   "file_extension": ".py",
   "mimetype": "text/x-python",
   "name": "python",
   "nbconvert_exporter": "python",
   "pygments_lexer": "ipython3",
   "version": "3.6.2"
  }
 },
 "nbformat": 4,
 "nbformat_minor": 2
}
