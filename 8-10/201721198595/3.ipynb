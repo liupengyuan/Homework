{
 "cells": [
  {
   "cell_type": "code",
   "execution_count": 3,
   "metadata": {},
   "outputs": [
    {
     "name": "stdout",
     "output_type": "stream",
     "text": [
      "请输入整数m=5\n",
      "请输入整数n（n不为0）=2\n",
      "请选择你要执行的操作 输入1：求m到n的和 2：求m到n的积 3：求m除以n的余数3\n",
      "选择为3\n",
      "m除以n的余数为2\n"
     ]
    }
   ],
   "source": [
    "#练习 2：写程序，可由键盘读入两个整数m与n(n不等于0)，询问用户意图，如果要求和则计算从m到n的和输出，\n",
    "#如果要乘积则计算从m到n的积并输出，如果要求余数则计算m除以n的余数的值并输出，否则则计算m整除n的值并输出。\n",
    "\n",
    "m=input(\"请输入整数m=\")\n",
    "\n",
    "n=input(\"请输入整数n（n不为0）=\")\n",
    "m=int(m)\n",
    "n=int(n)\n",
    "#n如果输入为0就一直重新输入，直到不为0\n",
    "while n==0 :\n",
    "    n=input(\"请输入整数n（n不为0）=\")\n",
    "    n=int(n)\n",
    "tmp=input(\"请选择你要执行的操作 输入1：求m到n的和 2：求m到n的积 3：求m除以n的余数\")\n",
    "tmp=int(tmp)\n",
    "\n",
    "print(\"选择为\"+str(tmp))\n",
    "if tmp == 1 :\n",
    "    if m-n>0:\n",
    "        i=n\n",
    "        sum=0\n",
    "        while i<=m :\n",
    "            sum+=i\n",
    "            i+=1\n",
    "    else:\n",
    "        i=m\n",
    "        sum=0\n",
    "        while i<=n :\n",
    "            sum+=i\n",
    "            i+=1\n",
    "    print(\"m到n和为\"+str(sum))\n",
    "elif tmp == 2 :\n",
    "    if m-n>0:\n",
    "        i=n\n",
    "        mul=1\n",
    "        while i<=m :\n",
    "            mul*=i\n",
    "            i+=1\n",
    "    else:\n",
    "        i=m\n",
    "        mul=1\n",
    "        while i<=n :\n",
    "            mul*=i\n",
    "            i+=1\n",
    "    print(\"m到n积为\"+str(mul))\n",
    "elif tmp == 3 :\n",
    "    print(\"m除以n的余数为\"+str(m//n))\n",
    "else:\n",
    "    print(\"输入有误\")\n",
    "\n"
   ]
  },
  {
   "cell_type": "code",
   "execution_count": 17,
   "metadata": {},
   "outputs": [
    {
     "name": "stdout",
     "output_type": "stream",
     "text": [
      "请输入一个英文名词（单数形式）woman\n",
      "woman的复数形式women\n"
     ]
    }
   ],
   "source": [
    "#练习 4：英文单词单数转复数，要求输入一个英文动词（单数形式），能够得到其复数形式，或给出单数转复数形式的建议\n",
    "#（提示，some_string.endswith(some_letter)函数可以判断某字符串结尾字符，可尝试运行：'myname'.endswith('me')，\n",
    "#liupengyuan'.endswith('n')）。\n",
    "word= input(\"请输入一个英文名词（单数形式）\")\n",
    "\n",
    "if word.endswith('s') or word.endswith('x') or word.endswith('ch') or word.endswith('sh') :\n",
    "    print (word+\"的复数形式\"+word+\"es\")\n",
    "elif word.endswith('y') and not word.endswith('ay') and not word.endswith('ey') and not word.endswith('iy') and not word.endswith('oy') and not word.endswith('uy') :\n",
    "    print (word+\"的复数形式\"+word[0:-1]+\"ies\")\n",
    "elif word.endswith('f') :\n",
    "    print (word+\"的复数形式\"+word[0:-1]+\"ves\")\n",
    "elif word.endswith('fe') :\n",
    "    print (word+\"的复数形式\"+word[0:-2]+\"ves\")\n",
    "elif word.endswith('o') :\n",
    "    print (word+\"的复数形式\"+word+\"es\")\n",
    "elif word.endswith('man') :\n",
    "    print (word+\"的复数形式\"+word[0:-3]+\"men\")\n",
    "else :\n",
    "    print (word+\"的复数形式\"+word+\"s\")\n",
    "    \n"
   ]
  }
 ],
 "metadata": {
  "kernelspec": {
   "display_name": "Python 3",
   "language": "python",
   "name": "python3"
  },
  "language_info": {
   "codemirror_mode": {
    "name": "ipython",
    "version": 3
   },
   "file_extension": ".py",
   "mimetype": "text/x-python",
   "name": "python",
   "nbconvert_exporter": "python",
   "pygments_lexer": "ipython3",
   "version": "3.6.2"
  }
 },
 "nbformat": 4,
 "nbformat_minor": 2
}
