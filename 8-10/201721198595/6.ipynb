{
 "cells": [
  {
   "cell_type": "code",
   "execution_count": 3,
   "metadata": {},
   "outputs": [
    {
     "name": "stdout",
     "output_type": "stream",
     "text": [
      "list 的和=21\n"
     ]
    }
   ],
   "source": [
    "#写函数，返回一个list中所有数字的和\n",
    "def suml(n):\n",
    "    sum_list=0;\n",
    "    for i in n:\n",
    "        sum_list+=i\n",
    "    return sum_list\n",
    "\n",
    "n=[1,2,3,4,5,6]\n",
    "print (\"list 的和=\"+str(suml(n)))\n",
    "\n"
   ]
  },
  {
   "cell_type": "code",
   "execution_count": 6,
   "metadata": {},
   "outputs": [
    {
     "name": "stdout",
     "output_type": "stream",
     "text": [
      "list 的最小值=1\n",
      "list 的最小值=2\n"
     ]
    }
   ],
   "source": [
    "#写函数，返回一个list中的最小值\n",
    "\n",
    "def minx(n):\n",
    "    list_min = n[0]\n",
    "    for i in n:\n",
    "        if list_min > i:\n",
    "            list_min = i\n",
    "    return list_min\n",
    "\n",
    "n=[1,2,3,4,5,6]\n",
    "print (\"list 的最小值=\"+str(minx(n)))\n",
    "\n",
    "k=[2,4,6,7,3,10]\n",
    "print (\"list 的最小值=\"+str(minx(k)))"
   ]
  },
  {
   "cell_type": "code",
   "execution_count": 11,
   "metadata": {},
   "outputs": [
    {
     "name": "stdout",
     "output_type": "stream",
     "text": [
      "5在list 的位置为5\n"
     ]
    }
   ],
   "source": [
    "#写函数，返回某个元素/对象在一个list中的位置，如果不在，则返回-1.\n",
    "\n",
    "def search(i,n):\n",
    "    if i in n:\n",
    "        p=0\n",
    "        for t in n:\n",
    "            p+=1\n",
    "            if t == i:\n",
    "                return p       \n",
    "    else :\n",
    "        return -1\n",
    "    \n",
    "i=5\n",
    "n=[1,2,3,4,5,6]\n",
    "print (str(i)+\"在list 的位置为\"+str(search(i,n)))  "
   ]
  },
  {
   "cell_type": "code",
   "execution_count": 20,
   "metadata": {},
   "outputs": [
    {
     "name": "stdout",
     "output_type": "stream",
     "text": [
      "向量[1, 2, 3][3, 4, 1]的夹角余弦值为0.7337993857053429\n"
     ]
    }
   ],
   "source": [
    "#写函数，可求两个向量的夹角余弦值，向量可放在list中。主程序调用该函数\n",
    "import math\n",
    "def cos(n,k):\n",
    "    dot_sum = 0 \n",
    "    n_dot= 0 \n",
    "    k_dot = 0\n",
    "    for i in range(len(n)):\n",
    "        dot_sum += n[i]*k[i]\n",
    "        n_dot +=n[i]*n[i]\n",
    "        k_dot +=k[i]*k[i]\n",
    "        \n",
    "    n_dot = math.sqrt(n_dot)\n",
    "    k_dot = math.sqrt(k_dot)\n",
    "    \n",
    "    return dot_sum /(n_dot*k_dot)\n",
    "n=[1,2,3]\n",
    "k=[3,4,1]\n",
    "\n",
    "print(\"向量\"+str(n)+str(k)+\"的夹角余弦值为\"+str(cos(n,k)))\n",
    "  "
   ]
  },
  {
   "cell_type": "code",
   "execution_count": 6,
   "metadata": {},
   "outputs": [
    {
     "name": "stdout",
     "output_type": "stream",
     "text": [
      "100个MacBook pro 分给3个班分发共3741种方法\n"
     ]
    }
   ],
   "source": [
    "#挑战性习题：python语言老师为了激励学生学python，自费买了100个完全相同的Macbook Pro，\n",
    "#分给三个班级，每个班级至少分5个，用穷举法计算共有多少种分法？\n",
    "\n",
    "def distr(n):\n",
    "        count =0;\n",
    "        for i in range(5,n-10+1):\n",
    "            for j in range(5,n-i-5+1):\n",
    "              #  print(i,j,100-i-j, sep = ' ')\n",
    "                count +=1\n",
    "        return count\n",
    "\n",
    "print(\"100个MacBook pro 分给3个班分发共\"+str(distr(100))+\"种方法\")    \n",
    "        "
   ]
  },
  {
   "cell_type": "code",
   "execution_count": null,
   "metadata": {
    "collapsed": true
   },
   "outputs": [],
   "source": []
  }
 ],
 "metadata": {
  "kernelspec": {
   "display_name": "Python 3",
   "language": "python",
   "name": "python3"
  },
  "language_info": {
   "codemirror_mode": {
    "name": "ipython",
    "version": 3
   },
   "file_extension": ".py",
   "mimetype": "text/x-python",
   "name": "python",
   "nbconvert_exporter": "python",
   "pygments_lexer": "ipython3",
   "version": "3.6.2"
  }
 },
 "nbformat": 4,
 "nbformat_minor": 2
}
