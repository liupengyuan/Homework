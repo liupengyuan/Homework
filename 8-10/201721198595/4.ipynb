{
 "cells": [
  {
   "cell_type": "code",
   "execution_count": 16,
   "metadata": {},
   "outputs": [
    {
     "name": "stdout",
     "output_type": "stream",
     "text": [
      "请输入第1个整数，以回车结束。3\n",
      "请输入第2个整数，以回车结束。3\n",
      "请输入第3个整数，以回车结束。3\n",
      "n!+m!+k!= 18\n"
     ]
    }
   ],
   "source": [
    "#练习 1：仿照求的完整代码，写程序，可求m!+n!+k!\n",
    "\n",
    "def factorial(i):\n",
    "    t=1\n",
    "    mul=1\n",
    "    while t<=i :\n",
    "        mul*=t\n",
    "        t+=1\n",
    "    return mul\n",
    "        \n",
    "n = int(input('请输入第1个整数，以回车结束。'))\n",
    "m = int(input('请输入第2个整数，以回车结束。'))\n",
    "k = int(input('请输入第3个整数，以回车结束。'))\n",
    "print(\"n!+m!+k!=\", factorial(n)+factorial(m)+factorial(k))"
   ]
  },
  {
   "cell_type": "code",
   "execution_count": 17,
   "metadata": {},
   "outputs": [
    {
     "name": "stdout",
     "output_type": "stream",
     "text": [
      "4倍前1000项和= 3.140592653839794\n",
      "4倍前100000项和= 3.1415826535897198\n"
     ]
    }
   ],
   "source": [
    "#练习 2：写函数可返回1 - 1/3 + 1/5 - 1/7...的前n项的和。在主程序中，分别令n=1000及100000，打印4倍该函数的和。\n",
    "def plus(n):\n",
    "    t=1\n",
    "    s=0\n",
    "    while t<=n :\n",
    "        s+=1/(2*t-1)*((-1)**(t+1))\n",
    "        t+=1\n",
    "       \n",
    "    return s\n",
    "\n",
    "print(\"4倍前1000项和=\", plus(1000)*4)\n",
    "print(\"4倍前100000项和=\", plus(100000)*4)"
   ]
  },
  {
   "cell_type": "code",
   "execution_count": 18,
   "metadata": {},
   "outputs": [
    {
     "name": "stdout",
     "output_type": "stream",
     "text": [
      "请输入姓名Don\n",
      "请输入出生月份和日期11.13\n",
      "Don, 你是个非常有性格的天蝎座!\n",
      "请输入一个英文名词（单数形式）class\n",
      "class的复数形式classes\n"
     ]
    }
   ],
   "source": [
    "#练习 3：将task3中的练习1及练习4改写为函数，并进行调用。\n",
    "\n",
    "def xingzuo(date):\n",
    "    tmp=int(date)\n",
    "    if tmp>=1.20 and tmp<=2.18 :\n",
    "        return \"水瓶座\"\n",
    "    elif tmp>=2.19 and tmp<=3.20 :\n",
    "        return \"双鱼座\"\n",
    "    elif tmp>=3.21 and tmp<=4.19 :\n",
    "        return \"白羊座\"\n",
    "    elif tmp>=4.20 and tmp<=5.20 :\n",
    "        return \"双鱼座\"\n",
    "    elif tmp>=5.21 and tmp<=6.21 :\n",
    "        return \"双子座\"\n",
    "    elif tmp>=6.22 and tmp<=7.22 :\n",
    "        return \"巨蟹座\"\n",
    "    elif tmp>=7.23 and tmp<=8.22 :\n",
    "        return \"狮子座\"\n",
    "    elif tmp>=8.23 and tmp<=9.22 :\n",
    "        return \"处女座\"\n",
    "    elif tmp>=9.23 and tmp<=10.23 :\n",
    "        return \"天秤座\"\n",
    "    elif tmp>=10.24 and tmp<=11.22 :\n",
    "        return \"天蝎座\"\n",
    "    elif tmp>=11.23 and tmp<=12.21 :\n",
    "        return \"射手座\"\n",
    "    else:\n",
    "        return \"摩羯座\"\n",
    "    \n",
    "    \n",
    "    \n",
    "    \n",
    "def fushu(word):\n",
    "    if word.endswith('s') or word.endswith('x') or word.endswith('ch') or word.endswith('sh') :\n",
    "        print (word+\"的复数形式\"+word+\"es\")\n",
    "    elif word.endswith('y') and not word.endswith('ay') and not word.endswith('ey') and not word.endswith('iy') and not word.endswith('oy') and not word.endswith('uy') :\n",
    "        print (word+\"的复数形式\"+word[0:-1]+\"ies\")\n",
    "    elif word.endswith('f') :\n",
    "        print (word+\"的复数形式\"+word[0:-1]+\"ves\")\n",
    "    elif word.endswith('fe') :\n",
    "        print (word+\"的复数形式\"+word[0:-2]+\"ves\")\n",
    "    elif word.endswith('o') :\n",
    "        print (word+\"的复数形式\"+word+\"es\")\n",
    "    elif word.endswith('man') :\n",
    "        print (word+\"的复数形式\"+word[0:-3]+\"men\")\n",
    "    else :\n",
    "        print (word+\"的复数形式\"+word+\"s\")\n",
    "    \n",
    "    \n",
    "    \n",
    "name = input(\"请输入姓名\")\n",
    "date = float(input(\"请输入出生月份和日期\"))\n",
    "\n",
    "print(name+\", 你是个非常有性格的\"+xingzuo(date)+\"!\")\n",
    "word= input(\"请输入一个英文名词（单数形式）\")   \n",
    "fushu(word)    "
   ]
  },
  {
   "cell_type": "code",
   "execution_count": 19,
   "metadata": {},
   "outputs": [
    {
     "name": "stdout",
     "output_type": "stream",
     "text": [
      "请输入m=2\n",
      "请输入n=8\n",
      "请输入间隔k=2\n",
      "m到n，其中间隔为k的和为 15\n"
     ]
    }
   ],
   "source": [
    "#挑战性练习：写程序，可以求从整数m到整数n累加的和，间隔为k，求和部分需用函数实现，主程序中由用户输入m，n，k调用函数验证正确性。\n",
    "\n",
    "def qiuhe(m , n , k):\n",
    "    sum = 0\n",
    "    i=m\n",
    "    j=0\n",
    "    while i<=n :\n",
    "        sum+=i\n",
    "        j=0;\n",
    "        while j<=k :\n",
    "            i+=1\n",
    "            j+=1\n",
    "    return sum\n",
    "\n",
    "m=int(input(\"请输入m=\"))\n",
    "n=int(input(\"请输入n=\"))\n",
    "\n",
    "k=int(input(\"请输入间隔k=\"))\n",
    "\n",
    "print(\"m到n，其中间隔为k的和为\", qiuhe(m,n,k))"
   ]
  },
  {
   "cell_type": "code",
   "execution_count": null,
   "metadata": {
    "collapsed": true
   },
   "outputs": [],
   "source": []
  }
 ],
 "metadata": {
  "kernelspec": {
   "display_name": "Python 3",
   "language": "python",
   "name": "python3"
  },
  "language_info": {
   "codemirror_mode": {
    "name": "ipython",
    "version": 3
   },
   "file_extension": ".py",
   "mimetype": "text/x-python",
   "name": "python",
   "nbconvert_exporter": "python",
   "pygments_lexer": "ipython3",
   "version": "3.6.2"
  }
 },
 "nbformat": 4,
 "nbformat_minor": 2
}
