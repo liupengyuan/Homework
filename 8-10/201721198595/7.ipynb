{
 "cells": [
  {
   "cell_type": "code",
   "execution_count": 16,
   "metadata": {},
   "outputs": [
    {
     "name": "stdout",
     "output_type": "stream",
     "text": [
      "123的倒序为321\n"
     ]
    }
   ],
   "source": [
    "#练习一：自己定义一个reverse(s)函数，功能返回字符串s的倒序字符串。\n",
    "\n",
    "def reverse(s):\n",
    "    return s[::-1]\n",
    "        \n",
    "s='123'\n",
    "print(s+\"的倒序为\"+reverse(s))\n"
   ]
  },
  {
   "cell_type": "code",
   "execution_count": 46,
   "metadata": {},
   "outputs": [
    {
     "name": "stdout",
     "output_type": "stream",
     "text": [
      "直角三角形：\n",
      "#\n",
      "##\n",
      "###\n",
      "####\n",
      "#####\n",
      "等腰三角形：\n",
      "     #\n",
      "    ###\n",
      "   #####\n",
      "  #######\n",
      " #########\n",
      "其他形式三角形：\n",
      "#\n",
      "##\n",
      "###\n",
      "##\n",
      "#\n"
     ]
    }
   ],
   "source": [
    "#练习二：写函数，根据给定符号和行数，打印相应直角三角形，等腰三角形及其他形式的三角形。\n",
    "\n",
    "def right_angle(s,line):\n",
    "    for i in range(1,line+1):\n",
    "        print(s*i)\n",
    "\n",
    "def isosceles_triangle(s,line):\n",
    "    \n",
    "    for i in range(0,line):\n",
    "        if i==0:\n",
    "            print(' '*(line-i)+s)\n",
    "        else:\n",
    "            print(' '*(line-i)+s*i*2+s)\n",
    "def others(s,line):\n",
    "    for i in range(1,line):\n",
    "        print(s*i)\n",
    "    for i in range(line,0,-1):\n",
    "        print(s*i)\n",
    "    \n",
    "print(\"直角三角形：\")        \n",
    "right_angle('#',5)\n",
    "print(\"等腰三角形：\") \n",
    "isosceles_triangle('#',5)\n",
    "print(\"其他形式三角形：\") \n",
    "others('#',3)"
   ]
  },
  {
   "cell_type": "code",
   "execution_count": 61,
   "metadata": {},
   "outputs": [
    {
     "name": "stdout",
     "output_type": "stream",
     "text": [
      "菱形1\n",
      "     #\n",
      "    ###\n",
      "   #####\n",
      "  #######\n",
      " #########\n",
      "###########\n",
      " #########\n",
      "  #######\n",
      "   #####\n",
      "    ###\n",
      "     #\n",
      "菱形2\n",
      "     %%%%%%%%%%\n",
      "    %%%%%%%%%%\n",
      "   %%%%%%%%%%\n",
      "  %%%%%%%%%%\n",
      " %%%%%%%%%%\n"
     ]
    }
   ],
   "source": [
    "#练习五：写函数，根据给定符号，打印各种菱形。\n",
    "\n",
    "def diamond1(s):\n",
    "    line =5\n",
    "    for i in range(0,line):\n",
    "        if i==0:\n",
    "            print(' '*(line-i)+s)\n",
    "        else:\n",
    "            print(' '*(line-i)+s*i*2+s)\n",
    "            \n",
    "    for i in range(line,-1,-1):\n",
    "        if i==0:\n",
    "            print(' '*(line-i)+s)\n",
    "        else:\n",
    "            print(' '*(line-i)+s*i*2+s) \n",
    "\n",
    "def diamond2(s):\n",
    "    line =5\n",
    "    for i in range(0,line):\n",
    "        \n",
    "            print(' '*(line-i)+s*line*2)\n",
    "            \n",
    "    \n",
    "print(\"菱形1\")\n",
    "diamond1('#') \n",
    "print(\"菱形2\")\n",
    "diamond2('%') "
   ]
  },
  {
   "cell_type": "code",
   "execution_count": null,
   "metadata": {
    "collapsed": true
   },
   "outputs": [],
   "source": []
  }
 ],
 "metadata": {
  "kernelspec": {
   "display_name": "Python 3",
   "language": "python",
   "name": "python3"
  },
  "language_info": {
   "codemirror_mode": {
    "name": "ipython",
    "version": 3
   },
   "file_extension": ".py",
   "mimetype": "text/x-python",
   "name": "python",
   "nbconvert_exporter": "python",
   "pygments_lexer": "ipython3",
   "version": "3.6.2"
  }
 },
 "nbformat": 4,
 "nbformat_minor": 2
}
