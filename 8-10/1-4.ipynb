{
 "cells": [
  {
   "cell_type": "code",
   "execution_count": 1,
   "metadata": {},
   "outputs": [
    {
     "name": "stdout",
     "output_type": "stream",
     "text": [
      "请输入你想要输入的符号*\n",
      "请输入边长5\n",
      "    * \n",
      "   * * \n",
      "  * * * \n",
      " * * * * \n",
      "* * * * * \n",
      " * * * * \n",
      "  * * * \n",
      "   * * \n",
      "    * \n"
     ]
    }
   ],
   "source": [
    "#1、写函数，给定符号和行数，如’*’，5，可打印相应行数的如下菱形。主程序输入符号和行数调用该函数进行验证。\n",
    "\n",
    "def diamond(n,s):\n",
    "    for i in range(1,n+1):\n",
    "        print(' '*(n-i) + s*i)\n",
    "    for i in range(1,n):\n",
    "        print(' '*i + s*(n-i))\n",
    "s = input('请输入你想要输入的符号')\n",
    "s = s +' '\n",
    "n = int(input('请输入边长'))\n",
    "diamond(n,s)    "
   ]
  },
  {
   "cell_type": "code",
   "execution_count": 3,
   "metadata": {},
   "outputs": [
    {
     "name": "stdout",
     "output_type": "stream",
     "text": [
      "请输入一个整数，回车结束10\n",
      "4037913\n"
     ]
    }
   ],
   "source": [
    "#2、用递归和非递归分别实现函数求1!+2!+3!+...+n!，主程序以n=10分别调用。（20分）\n",
    "\n",
    "#递归\n",
    "\n",
    "def compute_sum(n):\n",
    "    if n > 1:\n",
    "        return n*compute_sum(n-1)\n",
    "    else :\n",
    "        return 1\n",
    "    \n",
    "sum_ = 0\n",
    "for i in range(1,n+1):\n",
    "    sum_ += compute_sum(i)\n",
    "    \n",
    "n = int(input('请输入一个整数，回车结束')) \n",
    "print(sum_)"
   ]
  },
  {
   "cell_type": "code",
   "execution_count": 4,
   "metadata": {},
   "outputs": [
    {
     "name": "stdout",
     "output_type": "stream",
     "text": [
      "请输入一个整数，回车结束10\n",
      "4037923\n"
     ]
    }
   ],
   "source": [
    "# 非递归\n",
    "\n",
    "def compute_sum(n):\n",
    "    product = 1\n",
    "    for i in range(1,n+1):\n",
    "        product = product*i\n",
    "        return product\n",
    "\n",
    "n = int(input('请输入一个整数，回车结束'))\n",
    "for i in range(1,n+1):\n",
    "    sum_ += compute_sum(i)\n",
    "print(sum_)"
   ]
  },
  {
   "cell_type": "code",
   "execution_count": 5,
   "metadata": {},
   "outputs": [
    {
     "name": "stdout",
     "output_type": "stream",
     "text": [
      "0 京X-LXJR5\n",
      "1 京H-EGV7V\n",
      "2 京W-6JM7C\n",
      "3 京A-GXYEL\n",
      "4 京X-7LFK5\n",
      "5 京F-LM84V\n",
      "6 京U-UZH1W\n",
      "7 京K-Q2YR6\n",
      "8 京N-3R2K7\n",
      "9 京E-7SK1W\n"
     ]
    }
   ],
   "source": [
    "# 3、北京车牌号的一般形式为：“京X-YYYYY”，其中X为字母，Y为字母或者数字，字母不能为I或者O，数字只能0-9之间。\n",
    "# 请编写程序模拟选号过程：一次可以随机生成10个车牌号（不能有重复），依次将其编号为0-9，显示给用户。\n",
    "\n",
    "import random\n",
    "\n",
    "che_pai = []\n",
    "\n",
    "alphabet = ['A','B','C','D','E','F','G','H','J','K','L','M','N','P','Q','R','S','T','U','V','W','X','Y','Z']\n",
    "\n",
    "numbers = [1,2,3,4,5,6,7,8,9,0]\n",
    "\n",
    "choice = alphabet + numbers\n",
    "\n",
    "for i in range(10):\n",
    "    for j in range(6):\n",
    "        if j == 0:\n",
    "            one = []\n",
    "            one.append(random.choice(alphabet))\n",
    "        one.append(random.choice(choice))\n",
    "    if one not in che_pai:\n",
    "        che_pai.append(one)\n",
    "\n",
    "for one in che_pai:\n",
    "    print(che_pai.index(one),'京{0}-{1}{2}{3}{4}{5}'.format(one[0],one[1],one[2],one[3],one[4],one[5]))   "
   ]
  },
  {
   "cell_type": "code",
   "execution_count": 6,
   "metadata": {},
   "outputs": [
    {
     "data": {
      "text/plain": [
       "0.9583148474999099"
      ]
     },
     "execution_count": 6,
     "metadata": {},
     "output_type": "execute_result"
    }
   ],
   "source": [
    "#4、两个向量间的距离可定义为两个向量间的夹角余弦值，给定三个向量，求向量间距离的最小值。三个向量为：[1,2,3,4],[4,5,6,7],[7,8,9,10]（20分）\n",
    "\n",
    "import math\n",
    "\n",
    "def cos_vector(x,y):\n",
    "    total1 = 0\n",
    "    total2 = 0\n",
    "    total3 = 0\n",
    "    for i in range(len(x)):\n",
    "        total1 += x[i]*y[i]\n",
    "        total2 += x[i]**2\n",
    "        total3 += y[i]**2\n",
    "    return total1/math.sqrt(total2*total3)\n",
    "\n",
    "a = cos_vector([1,2,3,4],[4,5,6,7])\n",
    "b = cos_vector([1,2,3,4],[7,8,9,10])\n",
    "c = cos_vector([4,5,6,7],[7,8,9,10])\n",
    "min(a,b,c)"
   ]
  },
  {
   "cell_type": "code",
   "execution_count": null,
   "metadata": {},
   "outputs": [],
   "source": []
  },
  {
   "cell_type": "code",
   "execution_count": null,
   "metadata": {},
   "outputs": [],
   "source": []
  }
 ],
 "metadata": {
  "kernelspec": {
   "display_name": "Python 3",
   "language": "python",
   "name": "python3"
  },
  "language_info": {
   "codemirror_mode": {
    "name": "ipython",
    "version": 3
   },
   "file_extension": ".py",
   "mimetype": "text/x-python",
   "name": "python",
   "nbconvert_exporter": "python",
   "pygments_lexer": "ipython3",
   "version": "3.6.2"
  }
 },
 "nbformat": 4,
 "nbformat_minor": 2
}
