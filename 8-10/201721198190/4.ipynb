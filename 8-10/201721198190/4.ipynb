{
 "cells": [
  {
   "cell_type": "code",
   "execution_count": 1,
   "metadata": {},
   "outputs": [
    {
     "name": "stdout",
     "output_type": "stream",
     "text": [
      "请输入第1个整数，以回车结束。2\n",
      "请输入第2个整数，以回车结束。2\n",
      "请输入第3个整数，以回车结束。2\n",
      "最终的积是： 6\n"
     ]
    }
   ],
   "source": [
    "#练习 1：仿照求$ \\sum_{i=1}^mi + \\sum_{i=1}^ni  + \\sum_{i=1}^ki$的完整代码，写程序，可求m!+n!+k!\n",
    "def compute_product(end):\n",
    "    i = 1\n",
    "    total_n = 1\n",
    "\n",
    "    while i < end:\n",
    "        i = i + 1\n",
    "        total_n = total_n * i\n",
    "\n",
    "    return total_n\n",
    "\n",
    "n = int(input('请输入第1个整数，以回车结束。'))\n",
    "m = int(input('请输入第2个整数，以回车结束。'))\n",
    "k = int(input('请输入第3个整数，以回车结束。'))\n",
    "\n",
    "print('最终的积是：', compute_product(m) + compute_product(n) + compute_product(k))"
   ]
  },
  {
   "cell_type": "code",
   "execution_count": 2,
   "metadata": {},
   "outputs": [
    {
     "name": "stdout",
     "output_type": "stream",
     "text": [
      "4倍该函数的和是： 2.004006510015078e-06\n",
      "4倍该函数的和是： 2.000040000660981e-10\n"
     ]
    }
   ],
   "source": [
    "#练习 2：写函数可返回1 - 1/3 + 1/5 - 1/7...的前n项的和。在主程序中，分别令n=1000及100000，打印4倍该函数的和。\n",
    "def com_mul(end):\n",
    "    n = 0\n",
    "    m=1\n",
    "    total_m=0\n",
    "    while n < (end-1):\n",
    "        total_m=(1/(2 * n + 1))-(1/(2 * m + 1))\n",
    "        n=  n + 2\n",
    "        m = m + 2\n",
    "    return total_m\n",
    "\n",
    "print('4倍该函数的和是：',4* com_mul(1000))\n",
    "print('4倍该函数的和是：',4* com_mul(100000))"
   ]
  },
  {
   "cell_type": "code",
   "execution_count": 10,
   "metadata": {},
   "outputs": [
    {
     "name": "stdout",
     "output_type": "stream",
     "text": [
      "请输入你的姓名：xingdan\n",
      "请输入你出生的月份：11\n",
      "请输入你出生的日期：3\n",
      "你好 xingdan 天蝎座\n"
     ]
    }
   ],
   "source": [
    "#练习 3：将task3中的练习1及练习4改写为函数，并进行调用。\n",
    "#练习 1：写程序，可由键盘读入用户姓名例如Mr. right，让用户输入出生的月份与日期，判断用户星座，假设用户是金牛座，则输出，Mr. right，你是非常有性格的金牛座！。\n",
    "def task_x(month,day):\n",
    "    if (month == 1 and day >= 20) or (month == 2 and day <= 18):\n",
    "        contype = '水瓶座'\n",
    "    elif (month == 2 and day >= 19) or (month == 3 and day <= 20): \n",
    "        contype = '双鱼座'\n",
    "    elif (month == 3 and day >= 21) or (month == 4 and day <= 20):         \n",
    "        contype = '牡羊座'\n",
    "    elif (month == 4 and day >= 21) or (month == 5 and day <= 20):\n",
    "        contype = '你是非常有个性的金牛座'\n",
    "    elif (month == 5 and day >= 21) or (month == 6 and day <= 21):\n",
    "        contype = '双子座'\n",
    "    elif (month == 6 and day >= 22) or (month == 7 and day <= 22):\n",
    "        contype = '巨蟹座'\n",
    "    elif (month == 7 and day >= 23) or (month == 8 and day <= 23):\n",
    "        contype = '狮子座'\n",
    "    elif (month == 8 and day >= 24) or (month == 9 and day <= 23):\n",
    "        contype = '处女座'\n",
    "    elif (month == 9 and day >= 23) or (month == 10 and day <= 23):\n",
    "        contype = '天秤座'\n",
    "    elif (month == 10 and day >= 24) or (month == 11 and day <= 22):\n",
    "        contype = '天蝎座'\n",
    "    elif (month == 11 and day >= 23) or (month == 12 and day <= 21):\n",
    "        contype = '射手座'\n",
    "    elif (month == 12 and day >= 22) or (month == 1 and day <= 19):\n",
    "        contype = '摩羯座'    \n",
    "    else :\n",
    "        print('你好')\n",
    "    return contype\n",
    " \n",
    "name = input('请输入你的姓名：')\n",
    "m = int(input('请输入你出生的月份：'))\n",
    "d = int(input('请输入你出生的日期：'))\n",
    "print('你好',name,task_x(m,d))"
   ]
  },
  {
   "cell_type": "code",
   "execution_count": 23,
   "metadata": {},
   "outputs": [
    {
     "name": "stdout",
     "output_type": "stream",
     "text": [
      "请输入一个英文单词单数：bush\n",
      "bushes\n"
     ]
    }
   ],
   "source": [
    "#练习 4：英文单词单数转复数，要求输入一个英文动词（单数形式），能够得到其复数形式，或给出单数转复数形式的建议（提示，some_string.endswith(some_letter)函数可以判断某字符串结尾字符，可尝试运行：'myname'.endswith('me')，liupengyuan'.endswith('n')）。\n",
    "def ENGLISH_word(word):\n",
    "    if word.endswith('s') or word.endswith('x') or word.endswith('z') or word.endswith('ch') or word.endswith('sh'):\n",
    "        return word+'es'\n",
    "    elif word.endswith('y'):\n",
    "        trans = word.maketrans('y','i')\n",
    "        return word.translate(trans)+'es'\n",
    "    elif word.endswith('o'):\n",
    "        if word == 'hero' or word == 'tomato' or word == 'potato':\n",
    "            return word+'es'\n",
    "    else:\n",
    "        return word+'s'\n",
    "word=input('请输入一个英文单词单数：')\n",
    "print(ENGLISH_word(word))"
   ]
  },
  {
   "cell_type": "code",
   "execution_count": 4,
   "metadata": {},
   "outputs": [
    {
     "name": "stdout",
     "output_type": "stream",
     "text": [
      "请输入一个整数：1\n",
      "请输入：10\n",
      "请输入间隔：2\n",
      "36\n"
     ]
    }
   ],
   "source": [
    "#挑战性练习：写程序，可以求从整数m到整数n累加的和，间隔为k，求和部分需用函数实现，主程序中由用户输入m，n，k调用函数验证正确性。\n",
    "def sum_num(m,n,k):\n",
    "    total = m\n",
    "    while m < n:\n",
    "        m = m + k\n",
    "        total =total + m\n",
    "    return (total)\n",
    "m=int(input('请输入一个整数：'))\n",
    "n=int(input('请输入：'))\n",
    "k=int(input('请输入间隔：'))\n",
    "print(sum_num(m,n,k))"
   ]
  },
  {
   "cell_type": "code",
   "execution_count": null,
   "metadata": {
    "collapsed": true
   },
   "outputs": [],
   "source": []
  }
 ],
 "metadata": {
  "kernelspec": {
   "display_name": "Python 3",
   "language": "python",
   "name": "python3"
  },
  "language_info": {
   "codemirror_mode": {
    "name": "ipython",
    "version": 3
   },
   "file_extension": ".py",
   "mimetype": "text/x-python",
   "name": "python",
   "nbconvert_exporter": "python",
   "pygments_lexer": "ipython3",
   "version": "3.6.2"
  }
 },
 "nbformat": 4,
 "nbformat_minor": 2
}
