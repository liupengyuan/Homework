{
 "cells": [
  {
   "cell_type": "markdown",
   "metadata": {},
   "source": [
    "#练习 1：写函数，求n个随机整数均值的平方根，整数范围在m与k之间（n,m,k由用户输入）。\n"
   ]
  },
  {
   "cell_type": "code",
   "execution_count": 16,
   "metadata": {},
   "outputs": [
    {
     "name": "stdout",
     "output_type": "stream",
     "text": [
      "请输入随机整数个数：3\n",
      "请输入整数范围最小值1\n",
      "请输入整数范围最大值：100\n",
      "5.715476066494082\n"
     ]
    }
   ],
   "source": [
    "import random, math\n",
    "\n",
    "def arg_sum(m,n,k):\n",
    "    i=0\n",
    "    sum=0\n",
    "    while i < n:\n",
    "        i +=1\n",
    "        num = random.randint(m,k)\n",
    "        sum += num\n",
    "    arg= sum / n\n",
    "    return math.sqrt(arg)\n",
    "\n",
    "n=int(input('请输入随机整数个数：'))\n",
    "m=int(input('请输入整数范围最小值'))\n",
    "k=int(input('请输入整数范围最大值：'))\n",
    "print(arg_sum(m,n,k))"
   ]
  },
  {
   "cell_type": "markdown",
   "metadata": {},
   "source": [
    "#练习 2：写函数，共n个随机整数，整数范围在m与k之间，（n,m,k由用户输入）。求1：西格玛log(随机整数)，2：西格玛1/log(随机整数)\n"
   ]
  },
  {
   "cell_type": "code",
   "execution_count": 18,
   "metadata": {},
   "outputs": [
    {
     "name": "stdout",
     "output_type": "stream",
     "text": [
      "请输入随机整数个数：3\n",
      "请输入整数范围最小值1\n",
      "请输入整数范围最大值：100\n",
      "(12.982659833323957, 0.6947064594802506)\n"
     ]
    }
   ],
   "source": [
    "import random,math\n",
    "def sigm_log(m,n,k):\n",
    "    i = 0\n",
    "    sig1 = 0\n",
    "    sig2 = 0\n",
    "    while i < n :\n",
    "        i += 1\n",
    "        num=random.randint(m,k)\n",
    "        sig1 += math.log(num)\n",
    "        sig2 += 1/math.log(num)\n",
    "    return sig1,sig2\n",
    "n=int(input('请输入随机整数个数：'))\n",
    "m=int(input('请输入整数范围最小值'))\n",
    "k=int(input('请输入整数范围最大值：'))   \n",
    "print(sigm_log(m,n,k))"
   ]
  },
  {
   "cell_type": "code",
   "execution_count": null,
   "metadata": {
    "collapsed": true
   },
   "outputs": [],
   "source": []
  }
 ],
 "metadata": {
  "kernelspec": {
   "display_name": "Python 3",
   "language": "python",
   "name": "python3"
  },
  "language_info": {
   "codemirror_mode": {
    "name": "ipython",
    "version": 3
   },
   "file_extension": ".py",
   "mimetype": "text/x-python",
   "name": "python",
   "nbconvert_exporter": "python",
   "pygments_lexer": "ipython3",
   "version": "3.6.2"
  }
 },
 "nbformat": 4,
 "nbformat_minor": 2
}
