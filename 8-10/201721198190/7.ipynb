{
 "cells": [
  {
   "cell_type": "markdown",
   "metadata": {},
   "source": [
    "#练习一：自己定义一个reverse(s)函数，功能返回字符串s的倒序字符串"
   ]
  },
  {
   "cell_type": "code",
   "execution_count": 20,
   "metadata": {},
   "outputs": [
    {
     "name": "stdout",
     "output_type": "stream",
     "text": [
      "倒叙字符串: 天青问酒把，有时几月明\n"
     ]
    }
   ],
   "source": [
    "def reverse(s):\n",
    "    s='明月几时有，把酒问青天'\n",
    "    x=s[::-1]\n",
    "    return x\n",
    "\n",
    "print('倒叙字符串:',reverse(x))\n"
   ]
  },
  {
   "cell_type": "markdown",
   "metadata": {},
   "source": [
    "#练习二：写函数，根据给定符号和行数，打印相应直角三角形，等腰三角形及其他形式的三角形。"
   ]
  },
  {
   "cell_type": "code",
   "execution_count": 31,
   "metadata": {},
   "outputs": [
    {
     "name": "stdout",
     "output_type": "stream",
     "text": [
      "请输入你的选择:等腰三角形\n",
      "         明\n",
      "        明明\n",
      "       明月明\n",
      "      明月月明\n",
      "     明月几月明\n",
      "    明月几几月明\n",
      "   明月几时几月明\n",
      "  明月几时时几月明\n",
      " 明月几时有时几月明\n"
     ]
    }
   ],
   "source": [
    "def I_trig(line):\n",
    "    for i in range(1, len(line)*2):\n",
    "        if i == 1:\n",
    "            print(' '*(len(line)*2-1) +line[0])\n",
    "        elif i%2 == 1:\n",
    "            print(' '*(len(line)*2-i) + line[:i//2] + line[i//2] + line[i//2-1::-1])\n",
    "        else:\n",
    "            print(' '*(len(line)*2-i) + line[:i//2] + line[i//2-1::-1])\n",
    "            \n",
    "def Ra_trig(line):\n",
    "    for i in range(1, len(line)*2):\n",
    "        if i == 1:\n",
    "            print(line[0])\n",
    "        elif i%2 == 1:\n",
    "            print(line[:i//2] + line[i//2] + line[i//2-1::-1])\n",
    "        else:\n",
    "            print(line[:i//2] + line[i//2-1::-1])\n",
    "def lest_trig(line):\n",
    "    for i in range(len(line)*2 - 1, 0, -1):\n",
    "        if i == 1:\n",
    "            print(' '*(len(line)*2-1) +line[0])\n",
    "        elif i%2 == 1:\n",
    "            print(' '*(len(line)*2-i) + line[:i//2] + line[i//2] + line[i//2-1::-1])\n",
    "        else:\n",
    "            print(' '*(len(line)*2-i) + line[:i//2] + line[i//2-1::-1])\n",
    "\n",
    "def main():\n",
    "    text ='明月几时有'\n",
    "    while True:\n",
    "        choice = input('请输入你的选择:')\n",
    "        if choice == '等腰三角形':\n",
    "            I_trig(text)\n",
    "            break\n",
    "        elif choice == '直角三角形':\n",
    "            Ra_trig(text)\n",
    "        else:\n",
    "            lest_trig(text)\n",
    "\n",
    "if __name__ == '__main__':\n",
    "    main()"
   ]
  },
  {
   "cell_type": "markdown",
   "metadata": {},
   "source": [
    "#练习五：写函数，根据给定符号，打印各种菱形。"
   ]
  },
  {
   "cell_type": "code",
   "execution_count": 37,
   "metadata": {},
   "outputs": [
    {
     "name": "stdout",
     "output_type": "stream",
     "text": [
      "         明\n",
      "        明明\n",
      "       明月明\n",
      "      明月月明\n",
      "     明月几月明\n",
      "    明月几几月明\n",
      "   明月几时几月明\n",
      "  明月几时时几月明\n",
      " 明月几时有时几月明\n",
      " 明月几时有时几月明\n",
      "  明月几时时几月明\n",
      "   明月几时几月明\n",
      "    明月几几月明\n",
      "     明月几月明\n",
      "      明月月明\n",
      "       明月明\n",
      "        明明\n",
      "         明\n"
     ]
    }
   ],
   "source": [
    "def L_trig(line):    \n",
    "    for i in range(1, len(line)*2):\n",
    "        if i == 1:\n",
    "            print(' '*(len(line)*2-1) +line[0])\n",
    "        elif i%2 == 1:\n",
    "            print(' '*(len(line)*2-i) + line[:i//2] + line[i//2] + line[i//2-1::-1])\n",
    "        else:\n",
    "            print(' '*(len(line)*2-i) + line[:i//2] + line[i//2-1::-1])\n",
    "        #菱形的下半部分\n",
    "    for i in range(len(line)*2 - 1, 0, -1):\n",
    "        if i == 1:\n",
    "            print(' '*(len(line)*2-1) +line[0])\n",
    "        elif i%2 == 1:\n",
    "            print(' '*(len(line)*2-i) + line[:i//2] + line[i//2] + line[i//2-1::-1])\n",
    "        else:\n",
    "            print(' '*(len(line)*2-i) + line[:i//2] + line[i//2-1::-1])\n",
    "    \n",
    "def main():\n",
    "    text ='明月几时有'\n",
    "    L_trig(text)    \n",
    "if __name__ == '__main__':\n",
    "    main()"
   ]
  },
  {
   "cell_type": "code",
   "execution_count": null,
   "metadata": {
    "collapsed": true
   },
   "outputs": [],
   "source": []
  }
 ],
 "metadata": {
  "kernelspec": {
   "display_name": "Python 3",
   "language": "python",
   "name": "python3"
  }
 },
 "nbformat": 4,
 "nbformat_minor": 2
}
