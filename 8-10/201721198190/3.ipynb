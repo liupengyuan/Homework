{
 "cells": [
  {
   "cell_type": "code",
   "execution_count": 6,
   "metadata": {},
   "outputs": [
    {
     "name": "stdout",
     "output_type": "stream",
     "text": [
      "请输入一个正整数： 10\n",
      "请输入一个正整数且不等于0： 2\n",
      "你想做什么运算？请输入“求和”或“乘积”或“取余”或“整除”求和\n",
      "和为： 12\n"
     ]
    }
   ],
   "source": [
    "#练习2： 由键盘读入两个整数m与n(n不等于0)，询问用户意图，如果要求和则计算从m到n的和输出，如果要乘积则计算从m到n的积并输出，如果要求余数则计算m除以n的余数的值并输出，否则则计算m整除n的值并输出。\n",
    "m=int(input('请输入一个正整数： '))\n",
    "n=int(input('请输入一个正整数且不等于0： '))\n",
    "ques= input('你想做什么运算？请输入“求和”或“乘积”或“取余”或“整除”')\n",
    "if (ques == '求和'):\n",
    "    print('和为：',m+n)\n",
    "elif (ques == '乘积'):\n",
    "    print('积为：',m*n)\n",
    "elif (ques == '取余'):\n",
    "    print('余数为：',m%n)\n",
    "else:\n",
    "    print('整除为：',m//n)"
   ]
  },
  {
   "cell_type": "code",
   "execution_count": 7,
   "metadata": {},
   "outputs": [
    {
     "name": "stdout",
     "output_type": "stream",
     "text": [
      "请输入一个英文单词单数形式：book\n",
      "books\n"
     ]
    }
   ],
   "source": [
    "\n",
    "#练习 4：英文单词单数转复数；提示，some_string.endswith(some_letter)函数可以判断某字符串结尾字符\n",
    "word = input('请输入一个英文单词单数形式：')\n",
    "if word.endswith('s') or word.endswith('x') or word.endswith('z') or word.endswith('ch') or word.endswith('sh'):\n",
    "    print (word,'es',sep = '')\n",
    "elif word.endswith('f') or word.endswith('fe'):\n",
    "    print('改 f 或 fe为 ve，再加 s')\n",
    "elif word.endswith('y'):\n",
    "    trans = word.maketrans('y','i')\n",
    "    print(word.translate(trans),'es',sep = '')\n",
    "elif word.endswith('o'):\n",
    "    if word == 'hero' or word == 'tomato' or word == 'potato':\n",
    "        print (word,'es',sep = '')\n",
    "else:\n",
    "    print (word,'s',sep = '')"
   ]
  },
  {
   "cell_type": "code",
   "execution_count": 8,
   "metadata": {},
   "outputs": [
    {
     "name": "stdout",
     "output_type": "stream",
     "text": [
      "请输入要输入的整数个数: 2\n",
      "请输入一个整数: 3\n",
      "请输入一个整数: 5\n",
      "从大到小排序： [5, 3]\n",
      "次大值是： 3\n"
     ]
    }
   ],
   "source": [
    "#挑战性练习：写程序，由用户输入一些整数，能够得到几个整数中的次大值(第二大的值)并输出。\n",
    "m = int(input('请输入要输入的整数个数: '))\n",
    "\n",
    "list1 = []\n",
    "\n",
    "i = 0\n",
    "while i < m:\n",
    "    i += 1\n",
    "    n = int(input('请输入一个整数: '))\n",
    "    list1.append(n)\n",
    "list1.sort(reverse = True)\n",
    "print('从大到小排序：',list1)\n",
    "del list1[0]\n",
    "print('次大值是：', max(list1))"
   ]
  },
  {
   "cell_type": "code",
   "execution_count": null,
   "metadata": {},
   "outputs": [],
   "source": []
  }
 ],
 "metadata": {
  "kernelspec": {
   "display_name": "Python 3",
   "language": "python",
   "name": "python3"
  },
  "language_info": {
   "codemirror_mode": {
    "name": "ipython",
    "version": 3
   },
   "file_extension": ".py",
   "mimetype": "text/x-python",
   "name": "python",
   "nbconvert_exporter": "python",
   "pygments_lexer": "ipython3",
   "version": "3.6.0"
  }
 },
 "nbformat": 4,
 "nbformat_minor": 2
}
