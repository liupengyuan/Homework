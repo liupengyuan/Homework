{
 "cells": [
  {
   "cell_type": "code",
   "execution_count": 1,
   "metadata": {},
   "outputs": [
    {
     "name": "stdout",
     "output_type": "stream",
     "text": [
      "请输入一个正整数:3\n",
      "6\n"
     ]
    }
   ],
   "source": [
    "#2.md  练习1  仿照任务2完整代码，打印 n!\n",
    "n=int(input('请输入一个正整数:'))\n",
    "\n",
    "i=0\n",
    "total=0\n",
    "\n",
    "while i<n:\n",
    "    i=i+1\n",
    "    total=total+i\n",
    "print(total)\n"
   ]
  },
  {
   "cell_type": "code",
   "execution_count": 2,
   "metadata": {},
   "outputs": [
    {
     "name": "stdout",
     "output_type": "stream",
     "text": [
      "请输入要输入的整数个数: 3\n",
      "请输入一个整数: 1\n",
      "请输入一个整数 2\n",
      "请输入一个整数 3\n",
      "整数和是： 6\n"
     ]
    }
   ],
   "source": [
    "#2.md  练习2  仿照实践1，写出由用户指定整数个数，并由用户输入多个整数，并求和的代码。\n",
    "\n",
    "m = int(input('请输入要输入的整数个数: '))\n",
    "n=int(input('请输入一个整数: '))\n",
    "\n",
    "total=n\n",
    "\n",
    "i = 1\n",
    "while i < m:\n",
    "    i += 1\n",
    "    n = int(input('请输入一个整数 '))\n",
    "    total += n\n",
    "\n",
    "print ('整数和是：',total)   "
   ]
  },
  {
   "cell_type": "code",
   "execution_count": 3,
   "metadata": {},
   "outputs": [
    {
     "name": "stdout",
     "output_type": "stream",
     "text": [
      "输入任意数字直到q为止\n",
      "输入整数1\n",
      "1\n",
      "输入整数2\n",
      "2\n",
      "输入整数3\n",
      "3\n",
      "输入整数q\n",
      "q\n"
     ]
    }
   ],
   "source": [
    "#2.md  练习3  用户可以输入的任意多个数字，直到用户不想输入为止。\n",
    "\n",
    "print('输入任意数字直到q为止')\n",
    "n = 0\n",
    "while n!='q':\n",
    "    n = input('输入整数')\n",
    "    print(n)"
   ]
  },
  {
   "cell_type": "code",
   "execution_count": 1,
   "metadata": {},
   "outputs": [
    {
     "name": "stdout",
     "output_type": "stream",
     "text": [
      "输入1000\n",
      "输入数字100000\n",
      "满足条件\n"
     ]
    }
   ],
   "source": [
    "#2.md  练习4：用户可以输入的任意多个数字，直到输入所有数字的和比当前输入数字小，且输入所有数字的积大于500\n",
    "\n",
    "m=int(input('输入'))\n",
    "sum=m\n",
    "mul=m\n",
    "while 1:\n",
    "    m=int(input('输入数字'))\n",
    "    if sum<m and mul>500:\n",
    "        break\n",
    "    mul=mul*m\n",
    "    sum=sum+m\n",
    "print('满足条件')"
   ]
  },
  {
   "cell_type": "code",
   "execution_count": null,
   "metadata": {},
   "outputs": [],
   "source": []
  }
 ],
 "metadata": {
  "kernelspec": {
   "display_name": "Python 3",
   "language": "python",
   "name": "python3"
  },
  "language_info": {
   "codemirror_mode": {
    "name": "ipython",
    "version": 3
   },
   "file_extension": ".py",
   "mimetype": "text/x-python",
   "name": "python",
   "nbconvert_exporter": "python",
   "pygments_lexer": "ipython3",
   "version": "3.6.0"
  }
 },
 "nbformat": 4,
 "nbformat_minor": 2
}
