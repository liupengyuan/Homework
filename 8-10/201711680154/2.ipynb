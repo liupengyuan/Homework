{
 "cells": [
  {
   "cell_type": "code",
   "execution_count": 1,
   "metadata": {},
   "outputs": [
    {
     "name": "stdout",
     "output_type": "stream",
     "text": [
      "请输入您的名字，按回车结束：杨瑞霞\n",
      "您好 杨瑞霞 欢迎来到python的世界\n",
      "请输入一个正整数，按回车结束1\n",
      "1\n",
      "再见 杨瑞霞\n"
     ]
    }
   ],
   "source": [
    "# 2.8 实践与练习 \n",
    "#练习1 仿照任务2完整代码，打印n!\n",
    "name=input('请输入您的名字，按回车结束：')\n",
    "print('您好',name,'欢迎来到python的世界')\n",
    "\n",
    "n=int(input('请输入一个正整数，按回车结束'))\n",
    "i=1\n",
    "total=1\n",
    "while i<n+1:\n",
    "    total=total*i\n",
    "    i=i+1\n",
    "print(total)\n",
    "\n",
    "print('再见',name)"
   ]
  },
  {
   "cell_type": "code",
   "execution_count": 2,
   "metadata": {},
   "outputs": [
    {
     "name": "stdout",
     "output_type": "stream",
     "text": [
      "请输入您的名字，按回车结束：杨瑞霞\n",
      "您好 杨瑞霞 欢迎来到python的世界\n",
      "请输入您想要输入的整数个数，按回车结束。2\n",
      "请输入一个整数，按回车结束。1\n",
      "1\n",
      "请输入一个整数，按回车结束。2\n",
      "3\n",
      "所有整数的和是： 3\n",
      "再见 杨瑞霞\n"
     ]
    }
   ],
   "source": [
    "#练习2 仿照实践1，写出由用户指定整数个数，并由用户输入多个整数，并求和的代码\n",
    "name=input('请输入您的名字，按回车结束：')\n",
    "print('您好',name,'欢迎来到python的世界')\n",
    "\n",
    "i=int(input('请输入您想要输入的整数个数，按回车结束。'))\n",
    "h=0\n",
    "total=0\n",
    "while h<i:\n",
    "    j=int(input('请输入一个整数，按回车结束。'))\n",
    "    total=total+j\n",
    "    h=h+1\n",
    "    print(total)\n",
    "print('所有整数的和是：',total)\n",
    "\n",
    "print('再见',name)"
   ]
  },
  {
   "cell_type": "code",
   "execution_count": 10,
   "metadata": {},
   "outputs": [
    {
     "name": "stdout",
     "output_type": "stream",
     "text": [
      "请输入您的名字，按回车结束：杨瑞霞\n",
      "您好 杨瑞霞 欢迎来到python的世界\n",
      "请输入一个数字,按回车结束1\n",
      "继续输入吗？（yes or no)，按回车结束no\n",
      "谢谢使用 杨瑞霞\n"
     ]
    }
   ],
   "source": [
    "#练习3 用户可以输入的任意多个数字，直到用户不想输入为止 \n",
    "name=input('请输入您的名字，按回车结束：')\n",
    "print('您好',name,'欢迎来到python的世界')\n",
    "\n",
    "m='yes'\n",
    "n='no'\n",
    "total=int(input('请输入一个数字,按回车结束'))\n",
    "h=input('继续输入吗？（yes or no)，按回车结束')\n",
    "while h==m:\n",
    "    j=int(input('请输入一个数字，按回车结束'))\n",
    "    h=input('继续输入吗？（yes or no)，按回车结束')\n",
    "    \n",
    "else:print('谢谢使用',name)"
   ]
  },
  {
   "cell_type": "code",
   "execution_count": 1,
   "metadata": {},
   "outputs": [
    {
     "name": "stdout",
     "output_type": "stream",
     "text": [
      "请输入一个数字4\n",
      "请继续输入一个数字4\n",
      "请继续输入一个数字4\n",
      "请继续输入一个数字4\n",
      "请继续输入一个数字4\n",
      "请继续输入一个数字4\n",
      "请继续输入一个数字25\n",
      "符合输入所有数字的和比当前输入数字小，且输入所有数字的积比当前输入数字的平方大，结束\n"
     ]
    }
   ],
   "source": [
    "#练习4 原题：用户可以输入的任意多个数字，直到: 输入所有数字的和比当前输入数字小，且输入所有数字的积比当前输入数字的平方大\n",
    "#注：我觉得原题可以做，我就做了。\n",
    "total=0\n",
    "product=1\n",
    "m=int(input('请输入一个数字'))\n",
    "total=total+m\n",
    "product=product*m\n",
    "n=int(input('请继续输入一个数字'))\n",
    "while total>=n or product<=n**2:\n",
    "    total=total+n\n",
    "    product=product*n\n",
    "    n=int(input('请继续输入一个数字'))\n",
    "else:print('符合输入所有数字的和比当前输入数字小，且输入所有数字的积比当前输入数字的平方大，结束')"
   ]
  },
  {
   "cell_type": "code",
   "execution_count": 1,
   "metadata": {},
   "outputs": [
    {
     "name": "stdout",
     "output_type": "stream",
     "text": [
      "请输入您的名字，按回车结束：杨瑞霞\n",
      "您好 杨瑞霞 欢迎来到python的世界\n",
      "请输入一个数字100\n",
      "请继续输入一个数字200\n",
      "请继续输入一个数字100\n",
      "请继续输入一个数字500\n",
      "符合输入所有数字的和比当前输入数字小，且输入所有数字的积大于500，结束\n",
      "再见 杨瑞霞\n"
     ]
    }
   ],
   "source": [
    "#练习4 改后的题：用户可以输入的任意多个数字，直到: 输入所有数字的和比当前输入数字小，且输入所有数字的积大于500\n",
    "name=input('请输入您的名字，按回车结束：')\n",
    "print('您好',name,'欢迎来到python的世界')\n",
    "\n",
    "total=0\n",
    "product=1\n",
    "m=int(input('请输入一个数字'))\n",
    "total=total+m\n",
    "product=product*m\n",
    "n=int(input('请继续输入一个数字'))\n",
    "while total>=n or product<=500:\n",
    "    total=total+n\n",
    "    product=product*n\n",
    "    n=int(input('请继续输入一个数字'))\n",
    "else:print('符合输入所有数字的和比当前输入数字小，且输入所有数字的积大于500，结束')\n",
    "    \n",
    "print('再见',name)"
   ]
  }
 ],
 "metadata": {
  "kernelspec": {
   "display_name": "Python 3",
   "language": "python",
   "name": "python3"
  },
  "language_info": {
   "codemirror_mode": {
    "name": "ipython",
    "version": 3
   },
   "file_extension": ".py",
   "mimetype": "text/x-python",
   "name": "python",
   "nbconvert_exporter": "python",
   "pygments_lexer": "ipython3",
   "version": "3.6.2"
  }
 },
 "nbformat": 4,
 "nbformat_minor": 2
}
