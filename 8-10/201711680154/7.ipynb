{
 "cells": [
  {
   "cell_type": "code",
   "execution_count": 1,
   "metadata": {},
   "outputs": [
    {
     "name": "stdout",
     "output_type": "stream",
     "text": [
      "jhgfdsa\n"
     ]
    }
   ],
   "source": [
    "# 练习一：自己定义一个reverse(s)函数，功能返回字符串s的倒序字符串。\n",
    "def my_reverse(your_str):\n",
    "    deal_str = your_str[::-1]\n",
    "    return deal_str\n",
    "print(my_reverse('asdfghj'))\n",
    "    "
   ]
  },
  {
   "cell_type": "code",
   "execution_count": 2,
   "metadata": {
    "scrolled": false
   },
   "outputs": [
    {
     "name": "stdout",
     "output_type": "stream",
     "text": [
      "*\n",
      "5\n",
      "\n",
      "**\n",
      "****\n",
      "******\n",
      "********\n",
      "**********\n",
      "直角三角形\n",
      "     **\n",
      "    ****\n",
      "   ******\n",
      "  ********\n",
      " **********\n",
      "等腰三角形\n",
      "          *\n",
      "        **\n",
      "      ***\n",
      "    ****\n",
      "  *****\n",
      "任意三角形\n"
     ]
    }
   ],
   "source": [
    "# 练习二：写函数，根据给定符号和行数，打印相应直角三角形，等腰三角形及其他形式的三角形。\n",
    "def zhijiao(s,l):\n",
    "    for i in range(1,l+1):\n",
    "        print(s*i*2)\n",
    "    return '直角三角形'  \n",
    "\n",
    "def dengyao(s,l):\n",
    "    for i in range(1,l+1):\n",
    "        print(' '*(l+1-i)+s*i*2)\n",
    "    return '等腰三角形'\n",
    "\n",
    "def rengyi(s,l):\n",
    "    for i in range(1,l+1):\n",
    "        print('  '*(l+1-i)+s*i*1)\n",
    "    return '任意三角形'\n",
    "\n",
    "a = input()\n",
    "lines = int(input())\n",
    "print('''''')\n",
    "print(zhijiao(a,lines))\n",
    "print(dengyao(a,lines))\n",
    "print(rengyi(a,lines))"
   ]
  },
  {
   "cell_type": "code",
   "execution_count": 3,
   "metadata": {},
   "outputs": [
    {
     "name": "stdout",
     "output_type": "stream",
     "text": [
      "*\n",
      "5\n",
      "    **\n",
      "   ****\n",
      "  ******\n",
      " ********\n",
      "**********\n",
      " ********\n",
      "  ******\n",
      "   ****\n",
      "    **\n",
      "     \n",
      "菱形\n"
     ]
    }
   ],
   "source": [
    "# 练习五：写函数，根据给定符号，打印各种菱形。\n",
    "def lingxing(s,l):\n",
    "    for i in range(1,l+1):\n",
    "        print(' '*(l-i)+s*i*2)\n",
    "    for i in range(1,l+1):\n",
    "        print(' '*(i)+s*(l-i)*2)\n",
    "    return '菱形'\n",
    "\n",
    "fuhao = input()\n",
    "hangshu = int(input())\n",
    "print(lingxing(fuhao,hangshu))       "
   ]
  }
 ],
 "metadata": {
  "kernelspec": {
   "display_name": "Python 3",
   "language": "python",
   "name": "python3"
  },
  "language_info": {
   "codemirror_mode": {
    "name": "ipython",
    "version": 3
   },
   "file_extension": ".py",
   "mimetype": "text/x-python",
   "name": "python",
   "nbconvert_exporter": "python",
   "pygments_lexer": "ipython3",
   "version": "3.6.3"
  }
 },
 "nbformat": 4,
 "nbformat_minor": 2
}
