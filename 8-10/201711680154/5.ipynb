{
 "cells": [
  {
   "cell_type": "code",
   "execution_count": 5,
   "metadata": {},
   "outputs": [
    {
     "name": "stdout",
     "output_type": "stream",
     "text": [
      "请输入您的名字，按回车结束：杨瑞霞\n",
      "============================\n",
      "       您好 杨瑞霞  \n",
      "    欢迎来到python的世界！\n",
      "============================\n",
      "请输入您要取的整数个数，按回车结束：4\n",
      "请输入该范围的下限，按回车结束：56\n",
      "请输入该范围的上限，按回车结束：789\n",
      "您所求的n个随机整数的均值的平方根的值为： 21.15419580130618\n",
      "============================\n",
      "         再见 杨瑞霞 \n",
      "============================\n"
     ]
    }
   ],
   "source": [
    "#练习 1：写函数，求n个随机整数均值的平方根，整数范围在m与k之间（n,m,k由用户输入）\n",
    "import math,random\n",
    "def my_squareroot(n):\n",
    "    i=0\n",
    "    total=0\n",
    "    while i<n:\n",
    "        a=random.randint(m,k) \n",
    "        total+=a\n",
    "        i+=1\n",
    "    average=total/n\n",
    "    squareroot=math.sqrt(average)\n",
    "    return squareroot\n",
    "\n",
    "name=input('请输入您的名字，按回车结束：')\n",
    "print('''============================\n",
    "       您好''',name,\n",
    "     ''' \n",
    "    欢迎来到python的世界！\n",
    "============================''')\n",
    "n=int(input('请输入您要取的整数个数，按回车结束：'))\n",
    "m=int(input('请输入该范围的下限，按回车结束：'))\n",
    "k=int(input('请输入该范围的上限，按回车结束：'))\n",
    "print('您所求的n个随机整数的均值的平方根的值为：',my_squareroot(n)) \n",
    "print('''============================\n",
    "         再见''',name,'''\n",
    "============================''')\n",
    "\n",
    "        "
   ]
  },
  {
   "cell_type": "code",
   "execution_count": 6,
   "metadata": {},
   "outputs": [
    {
     "name": "stdout",
     "output_type": "stream",
     "text": [
      "请输入您的名字，按回车结束：杨瑞霞\n",
      "欢迎来到我的世界！ 杨瑞霞\n",
      "请输入您要取的整数个数，按回车结束：5\n",
      "请输入该范围的下限，按回车结束：23\n",
      "请输入该范围的上限，按回车结束：456\n",
      "西格玛log(随机整数) 0.9293610305241308 西格玛1/log(随机整数) 1.0760081035849234\n",
      "西格玛log(随机整数) 1.005609780217552 西格玛1/log(随机整数) 0.9944215138636197\n",
      "西格玛log(随机整数) 0.9852862171370068 西格玛1/log(随机整数) 1.0149335113057276\n",
      "西格玛log(随机整数) 0.9552533669361226 西格玛1/log(随机整数) 1.0468426855247814\n",
      "西格玛log(随机整数) 0.9873530526048302 西格玛1/log(随机整数) 1.012808941403285\n",
      "您要求的值\n",
      "   如下 结束\n",
      "谢谢使用！ 杨瑞霞\n"
     ]
    }
   ],
   "source": [
    "#练习 2：写函数，共n个随机整数，整数范围在m与k之间，（n,m,k由用户输入）。求1：西格玛log(随机整数)，2：西格玛1/log(随机整数)\n",
    "#其实我并没有很明白这道题的意思\n",
    "#以下码的代码其实是按我自己理解的意思写的\n",
    "#在m与k之间随机出n个整数，并求出1：西格玛log(随机整数),2:西格玛1/log(随机整数)\n",
    "\n",
    "import math,random\n",
    "\n",
    "def my_sigma(n):\n",
    "    i=0\n",
    "    c=random.randint(m,k)\n",
    "    while i<n:\n",
    "        a=random.randint(m,k)\n",
    "        i+=1\n",
    "        b=math.log(a,c)\n",
    "        d=(1/math.log(a,c))\n",
    "        print('西格玛log(随机整数)',b,'西格玛1/log(随机整数)',d)\n",
    "    return '结束'\n",
    "\n",
    "name=input('请输入您的名字，按回车结束：')\n",
    "print('欢迎来到我的世界！',name)\n",
    "n=int(input('请输入您要取的整数个数，按回车结束：'))\n",
    "m=int(input('请输入该范围的下限，按回车结束：'))\n",
    "k=int(input('请输入该范围的上限，按回车结束：'))\n",
    "print('''您要求的值\n",
    "   如下''',\n",
    "my_sigma(n))  \n",
    "print('谢谢使用！',name)"
   ]
  }
 ],
 "metadata": {
  "kernelspec": {
   "display_name": "Python 3",
   "language": "python",
   "name": "python3"
  },
  "language_info": {
   "codemirror_mode": {
    "name": "ipython",
    "version": 3
   },
   "file_extension": ".py",
   "mimetype": "text/x-python",
   "name": "python",
   "nbconvert_exporter": "python",
   "pygments_lexer": "ipython3",
   "version": "3.6.2"
  }
 },
 "nbformat": 4,
 "nbformat_minor": 2
}
