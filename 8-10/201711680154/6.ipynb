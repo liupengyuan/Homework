{
 "cells": [
  {
   "cell_type": "code",
   "execution_count": 1,
   "metadata": {},
   "outputs": [
    {
     "name": "stdout",
     "output_type": "stream",
     "text": [
      "(899, -10, 106.72999999999999)\n"
     ]
    }
   ],
   "source": [
    "# 写函数，返回一个list中的最大值，最小值，平均值。（不用内置的求和求函数），以[1,2,-1,55,100,899,-10,3,12.5,5.8]为例。\n",
    "def my_list(a):\n",
    "    l = max(a)\n",
    "    s = min(a)\n",
    "    v = sum(a)/len(a)\n",
    "    return l,s,v \n",
    "    \n",
    "your_list = [1,2,-1,55,100,899,-10,3,12.5,5.8]\n",
    "print(my_list(your_list))"
   ]
  },
  {
   "cell_type": "code",
   "execution_count": 3,
   "metadata": {},
   "outputs": [
    {
     "name": "stdout",
     "output_type": "stream",
     "text": [
      "2\n",
      "索引为 1\n"
     ]
    }
   ],
   "source": [
    "# 写函数，返回某个元素/对象在一个list中的位置，如果不在，则返回-1\n",
    "def my_index(a,va):\n",
    "    if va in a:\n",
    "        b = a.index(va)\n",
    "        return b\n",
    "    else:\n",
    "        return -1\n",
    "\n",
    "your_list = [1,2,-1,55,100,899,-10,3,12.5,5.8]\n",
    "your_index = float(input()) or int(input())\n",
    "print('索引为',my_index(your_list,your_index)) "
   ]
  },
  {
   "cell_type": "code",
   "execution_count": 4,
   "metadata": {
    "scrolled": true
   },
   "outputs": [
    {
     "name": "stdout",
     "output_type": "stream",
     "text": [
      "[1, 5, 2, 6, 3, 7, 4, 8]\n"
     ]
    }
   ],
   "source": [
    "# 写函数，可将两个相同长度的list，间隔插入，生成新的list。例如：给两个list，a=[1,2,3,4], b=[5,6,7,8]。则可以生成：[1,5,2,6,3,7,4,8]。\n",
    "def my_insert(a,b):\n",
    "    new_list = []\n",
    "    for i in range(len(a)):\n",
    "        new_list.append(a[i])\n",
    "        new_list.append(b[i])\n",
    "    return new_list\n",
    "        \n",
    "\n",
    "list_1 = [1,2,3,4]\n",
    "list_2 = [5,6,7,8]\n",
    "print(my_insert(list_1,list_2))"
   ]
  },
  {
   "cell_type": "code",
   "execution_count": 5,
   "metadata": {},
   "outputs": [
    {
     "name": "stdout",
     "output_type": "stream",
     "text": [
      "1\n",
      "2\n",
      "3\n",
      "4\n",
      "1.5201626123751157\n"
     ]
    }
   ],
   "source": [
    "# 写函数，可求两个向量的夹角余弦值，向量可放在list中。主程序调用该函数。\n",
    "import math \n",
    "\n",
    "def my_cos(a,b,c,d):\n",
    "    up = a*c + b*d\n",
    "    qian = a**2 + b**2\n",
    "    hou = c**2 + d**2\n",
    "    down = math.sqrt(qian) + math.sqrt(hou)\n",
    "    result = up/down\n",
    "    return result\n",
    "    \n",
    "x1 = int(input())\n",
    "y1 = int(input())\n",
    "x2 = int(input())\n",
    "y2 = int(input())\n",
    "print(my_cos(x1,y1,x2,y2))"
   ]
  },
  {
   "cell_type": "code",
   "execution_count": 6,
   "metadata": {},
   "outputs": [
    {
     "name": "stdout",
     "output_type": "stream",
     "text": [
      "3655\n"
     ]
    }
   ],
   "source": [
    "# 挑战性习题：python语言老师为了激励学生学python，自费买了100个完全相同的Macbook Pro，分给三个班级，每个班级至少分5个，用穷举法计算共有多少种分法？\n",
    "\n",
    "my_Macbook_Pro = int(100)\n",
    "total_zuhe = set()\n",
    "for i in range (my_Macbook_Pro-15):\n",
    "    class_A = 5+i\n",
    "    for j in range (my_Macbook_Pro-15-i):\n",
    "        class_B = 5+j\n",
    "        class_C = 5+my_Macbook_Pro-15-i-j\n",
    "        zuhe = (class_A,class_B,class_C)\n",
    "        total_zuhe.add(zuhe)\n",
    "print(len(total_zuhe))"
   ]
  }
 ],
 "metadata": {
  "kernelspec": {
   "display_name": "Python 3",
   "language": "python",
   "name": "python3"
  },
  "language_info": {
   "codemirror_mode": {
    "name": "ipython",
    "version": 3
   },
   "file_extension": ".py",
   "mimetype": "text/x-python",
   "name": "python",
   "nbconvert_exporter": "python",
   "pygments_lexer": "ipython3",
   "version": "3.6.3"
  }
 },
 "nbformat": 4,
 "nbformat_minor": 2
}
