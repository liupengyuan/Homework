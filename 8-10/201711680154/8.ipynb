{
 "cells": [
  {
   "cell_type": "code",
   "execution_count": 1,
   "metadata": {
    "scrolled": true
   },
   "outputs": [
    {
     "name": "stdout",
     "output_type": "stream",
     "text": [
      "路 耸\n",
      "门 山\n",
      "闲 向\n",
      "请输入猜测诗句，回车结束， 直接回车表示退出本次猜测：\n",
      "退出游戏。\n",
      "你最后的分数是： 10\n",
      "蚕 欲\n",
      "去 妾\n",
      "饥 钓\n",
      "请输入猜测诗句，回车结束， 直接回车表示退出本次猜测：\n",
      "退出游戏。\n",
      "你最后的分数是： 0\n",
      "你输了\n",
      "您已经退出游戏！\n"
     ]
    }
   ],
   "source": [
    "# 五言诗游戏\n",
    "import random\n",
    "\n",
    "def win():\n",
    "    print('你赢了')\n",
    "    return\n",
    "    \n",
    "def lose():\n",
    "    print('你输了')\n",
    "    return\n",
    "    \n",
    "def get_ch_table(line):\n",
    "    ch_table = []\n",
    "    for ch in line:\n",
    "        if ch not in ch_table:\n",
    "            ch_table.append(ch)\n",
    "    return ch_table\n",
    "\n",
    "def idiom_robot(file_name):\n",
    "    with open(file_name) as fh:\n",
    "        text = fh.read() \n",
    "    text = text.replace('\\n',' ')\n",
    "    text = text.replace('，',' ')\n",
    "    text = text.replace('。',' ')\n",
    "\n",
    "    idioms = text.split()\n",
    "    idiom = random.choice(idioms)\n",
    "    chs = get_ch_table(text.replace(' ', ''))\n",
    "\n",
    "    guess_ch_table = [ch for ch in idiom]\n",
    "    while len(guess_ch_table) < 6:\n",
    "        ch = random.choice(chs)\n",
    "        if ch not in guess_ch_table:\n",
    "            guess_ch_table.append(ch)\n",
    "    \n",
    "    random.shuffle(guess_ch_table)\n",
    "    \n",
    "    for i in range(0,6,2):\n",
    "        print(guess_ch_table[i], guess_ch_table[i+1])\n",
    "    \n",
    "    return idiom\n",
    "\n",
    "\n",
    "filename = r'F:\\test\\五言诗库.txt'\n",
    "score = 10\n",
    "while score >= 0:\n",
    "    real_idiom = idiom_robot(filename)\n",
    "    answer_idiom = input('请输入猜测诗句，回车结束， 直接回车表示退出本次猜测：')\n",
    "    if answer_idiom == real_idiom:\n",
    "        print('答对了，加十分')\n",
    "        score += 10\n",
    "        print('你当前的分数是：', score)\n",
    "        if score == 100:\n",
    "            win()\n",
    "            retur\n",
    "    elif answer_idiom == '':\n",
    "        print('退出游戏。')\n",
    "        print('你最后的分数是：', score)\n",
    "        score -= 10    \n",
    "        \n",
    "       \n",
    "    else:\n",
    "        score -= 10\n",
    "        print('答错了，减十分')\n",
    "        print('诗句其实是：', real_idiom)\n",
    "        print('你当前的分数是：', score)\n",
    "else:\n",
    "    lose()\n",
    "    \n",
    "print('您已经退出游戏！')"
   ]
  },
  {
   "cell_type": "markdown",
   "metadata": {},
   "source": [
    "#### 以下为点字成诗机器人"
   ]
  },
  {
   "cell_type": "code",
   "execution_count": 3,
   "metadata": {
    "collapsed": true
   },
   "outputs": [],
   "source": [
    "fh = open(r'F:\\temp\\诗词大全.txt')#获取所有的诗词\n",
    "poems = fh.read()\n",
    "fh.close()"
   ]
  },
  {
   "cell_type": "code",
   "execution_count": 4,
   "metadata": {
    "collapsed": true
   },
   "outputs": [],
   "source": [
    "poems = poems.replace('，', '\\n')#处理文本\n",
    "poems = poems.replace('。', '')\n",
    "poems = poems.split('\\n')"
   ]
  },
  {
   "cell_type": "code",
   "execution_count": 5,
   "metadata": {
    "collapsed": true
   },
   "outputs": [],
   "source": [
    "def find_poem_sentence(poems, characters): #机器人主体   \n",
    "    for poem in poems:\n",
    "        same_character_number = 0\n",
    "        for ch in poem:\n",
    "            if ch in characters:\n",
    "                same_character_number += 1\n",
    "        if same_character_number == 5:\n",
    "            return poem\n",
    "    return None"
   ]
  },
  {
   "cell_type": "code",
   "execution_count": 10,
   "metadata": {
    "scrolled": false
   },
   "outputs": [
    {
     "name": "stdout",
     "output_type": "stream",
     "text": [
      "请输入含有诗句的九个字：人花但月见笑春两新\n",
      "但见新人笑\n"
     ]
    }
   ],
   "source": [
    "your_poem = input('请输入含有诗句的九个字：')#输入诗句\n",
    "characters = []#将输入的诗句进行处理\n",
    "for i in range(9):\n",
    "    ch = your_poem[i]\n",
    "    characters.append(ch)\n",
    "print( find_poem_sentence(poems, characters))"
   ]
  }
 ],
 "metadata": {
  "kernelspec": {
   "display_name": "Python 3",
   "language": "python",
   "name": "python3"
  },
  "language_info": {
   "codemirror_mode": {
    "name": "ipython",
    "version": 3
   },
   "file_extension": ".py",
   "mimetype": "text/x-python",
   "name": "python",
   "nbconvert_exporter": "python",
   "pygments_lexer": "ipython3",
   "version": "3.6.3"
  }
 },
 "nbformat": 4,
 "nbformat_minor": 2
}
