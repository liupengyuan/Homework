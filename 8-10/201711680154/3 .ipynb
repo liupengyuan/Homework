{
 "cells": [
  {
   "cell_type": "code",
   "execution_count": 8,
   "metadata": {},
   "outputs": [
    {
     "name": "stdout",
     "output_type": "stream",
     "text": [
      "请输入您的名字，按回车结束：杨瑞霞\n",
      "您好 杨瑞霞 欢迎来到python的世界\n",
      "请输入一个整数，按回车结束10\n",
      "请输入一个非零整数，按回车结束-20\n",
      "是否计算从m到n的和？（yes or no?)no\n",
      "是否计算从m到n的积？（yes or no?）no\n",
      "是否计算m除以n的余数的值？（yes or no?)no\n",
      "-0.5\n",
      "再见 杨瑞霞\n"
     ]
    }
   ],
   "source": [
    "#3.6 实践与练习 练习2\n",
    "#写程序，可由键盘读入两个整数m与n(n不等于0)，\n",
    "#询问用户意图，如果要求和则计算从m到n的和输出，\n",
    "#如果要乘积则计算从m到n的积并输出，\n",
    "#如果要求余数则计算m除以n的余数的值并输出，\n",
    "#否则则计算m整除n的值并输出\n",
    "name=input('请输入您的名字，按回车结束：')\n",
    "print('您好',name,'欢迎来到python的世界')\n",
    "\n",
    "m=int(input('请输入一个整数，按回车结束'))\n",
    "n=int(input('请输入一个非零整数，按回车结束'))\n",
    "t='yes'\n",
    "f='no'\n",
    "a=input('是否计算从m到n的和？（yes or no?)')\n",
    "if a==t:\n",
    "    if m>n:       #注1：整数分为正整数，零，负整数，无法默认n不等于零，则n>m,而且也没有要求用户输入时n>m\n",
    "        i=m\n",
    "        m=n\n",
    "        n=i\n",
    "    result=0\n",
    "    while m<n+1:\n",
    "        result=result+m\n",
    "        m=m+1\n",
    "    print(result)\n",
    "elif a==f:\n",
    "    b=input('是否计算从m到n的积？（yes or no?）')  #问题1：如果m为正整数，n为负整数，那么计算m到n的积则无意义，为什么要 求它？\n",
    "    if b==t:\n",
    "        if m>n:    #同注1\n",
    "            i=m\n",
    "            m=n\n",
    "            n=i\n",
    "        result=1\n",
    "        while m<n+1:\n",
    "            result=result*m\n",
    "            m=m+1\n",
    "        print(result)\n",
    "    elif b==f:\n",
    "        c=input('是否计算m除以n的余数的值？（yes or no?)')\n",
    "        if c==t:\n",
    "            result=m%n\n",
    "            print(result)\n",
    "        elif c==f:         #疑问：前面三个条件都是要询问用户意图的，而且前三个对于输入的数字是没有要求的\n",
    "            result=m/n     #如果我前三个都否掉了，那么最后一个是整除，可是整除是要有条件的。整除必须除数，被除数，商都是整数，而且余数为零。\n",
    "            print(result)  #如果无法整除，那我输出的是一个系统默认的错误答案，及并非整除的结果。\n",
    "                           #问题2：可不可以给它设计一个条件，告诉它无法整除？（目前不会设计）\n",
    "print('再见',name)"
   ]
  },
  {
   "cell_type": "code",
   "execution_count": 7,
   "metadata": {},
   "outputs": [
    {
     "name": "stdout",
     "output_type": "stream",
     "text": [
      "请输入您的名字，按回车结束：杨瑞霞\n",
      "您好 杨瑞霞 欢迎来到python的世界\n",
      "请输入一个您想要查询的英语名词,按回车结束：apple\n",
      "您要查询的名词复数为:\n",
      "apples\n",
      "谢谢使用 杨瑞霞\n"
     ]
    }
   ],
   "source": [
    "#练习4\n",
    "#英文单词单数转复数，要求输入一个英文动词（单数形式）\n",
    "#能够得到其复数形式，或给出单数转复数形式的建议\n",
    "name=input('请输入您的名字，按回车结束：')\n",
    "print('您好',name,'欢迎来到python的世界')\n",
    "\n",
    "word=input('请输入一个您想要查询的英语名词,按回车结束：')\n",
    "print('您要查询的名词复数为:')\n",
    "if word.endswith('y'):  \n",
    "    print(word[:-1] + 'ies')  \n",
    "elif word[-1] in ['s','x'] or word[-2:] in ['sh', 'ch']:  #为什么我把['s','x']改成'sx'也可以？\n",
    "    print(word + 'es')  \n",
    "elif word.endswith('an'):  \n",
    "    print(word[:-2] + 'en')  \n",
    "elif word[-1] in ['f'] or word[-2:] in ['fe']:\n",
    "    print(word[:-2]+'ves')\n",
    "else:  \n",
    "    print(word + 's')\n",
    "    \n",
    "print('谢谢使用',name)    "
   ]
  }
 ],
 "metadata": {
  "kernelspec": {
   "display_name": "Python 3",
   "language": "python",
   "name": "python3"
  },
  "language_info": {
   "codemirror_mode": {
    "name": "ipython",
    "version": 3
   },
   "file_extension": ".py",
   "mimetype": "text/x-python",
   "name": "python",
   "nbconvert_exporter": "python",
   "pygments_lexer": "ipython3",
   "version": "3.6.2"
  }
 },
 "nbformat": 4,
 "nbformat_minor": 2
}
