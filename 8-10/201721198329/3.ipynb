{
 "cells": [
  {
   "cell_type": "code",
   "execution_count": 11,
   "metadata": {},
   "outputs": [
    {
     "name": "stdout",
     "output_type": "stream",
     "text": [
      "输入一个数2\n",
      "再输入一个数4\n",
      "求和输入1，求积输入2，求余输入3，整除输入42\n",
      "24\n"
     ]
    }
   ],
   "source": [
    "#练习二\n",
    "total=0\n",
    "mult=1\n",
    "m=int(input('输入一个数'))\n",
    "n=int(input('再输入一个数'))\n",
    "k=int(input('求和输入1，求积输入2，求余输入3，整除输入4'))\n",
    "\n",
    "if k==1:\n",
    "    if m>n:\n",
    "        min=n\n",
    "        max=m\n",
    "    else:\n",
    "        min=m\n",
    "        max=n\n",
    "    while min<=max:\n",
    "        total=total+min\n",
    "        min=min+1\n",
    "    print(total)\n",
    "\n",
    "elif k==2:\n",
    "    if m>n:\n",
    "        min=n\n",
    "        max=m\n",
    "    else:\n",
    "        min=m\n",
    "        max=n\n",
    "    while min<=max:\n",
    "        mult=mult*min\n",
    "        min=min+1\n",
    "    print(mult)\n",
    "\n",
    "elif k==3:\n",
    "    print(m%n)\n",
    "\n",
    "else:\n",
    "    print(m//n)"
   ]
  },
  {
   "cell_type": "code",
   "execution_count": 12,
   "metadata": {},
   "outputs": [
    {
     "name": "stdout",
     "output_type": "stream",
     "text": [
      "输入一个单词apple\n",
      "加s\n"
     ]
    }
   ],
   "source": [
    "#练习四\n",
    "n=str(input('输入一个单词'))\n",
    "if n.endswith('o'):\n",
    "    print('有生命的加es, 无生命的加s')\n",
    "elif n.endswith('f'):\n",
    "    print('变f为v, 再加-es')\n",
    "elif n.endswith('fe'):    \n",
    "    print('变f为v, 再加-s')\n",
    "elif n.endswith('y'):    \n",
    "    print('变y为i, 再加-es')\n",
    "elif n.endswith('s'):    \n",
    "    print('加-es')\n",
    "elif n.endswith('sh'):     \n",
    "    print('加-es')\n",
    "elif n.endswith('sh'):\n",
    "    print('加-es')\n",
    "elif n.endswith('x'):    \n",
    "    print('加-es')\n",
    "elif n.endswith('ch'):    \n",
    "    print('加-es')\n",
    "else:\n",
    "     print('加s')"
   ]
  },
  {
   "cell_type": "code",
   "execution_count": null,
   "metadata": {},
   "outputs": [],
   "source": []
  },
  {
   "cell_type": "code",
   "execution_count": null,
   "metadata": {},
   "outputs": [],
   "source": []
  },
  {
   "cell_type": "code",
   "execution_count": null,
   "metadata": {},
   "outputs": [],
   "source": []
  },
  {
   "cell_type": "code",
   "execution_count": null,
   "metadata": {},
   "outputs": [],
   "source": []
  },
  {
   "cell_type": "code",
   "execution_count": null,
   "metadata": {},
   "outputs": [],
   "source": []
  },
  {
   "cell_type": "code",
   "execution_count": null,
   "metadata": {},
   "outputs": [],
   "source": []
  },
  {
   "cell_type": "code",
   "execution_count": null,
   "metadata": {},
   "outputs": [],
   "source": []
  },
  {
   "cell_type": "code",
   "execution_count": null,
   "metadata": {},
   "outputs": [],
   "source": []
  },
  {
   "cell_type": "code",
   "execution_count": null,
   "metadata": {},
   "outputs": [],
   "source": []
  },
  {
   "cell_type": "code",
   "execution_count": null,
   "metadata": {},
   "outputs": [],
   "source": []
  },
  {
   "cell_type": "code",
   "execution_count": null,
   "metadata": {},
   "outputs": [],
   "source": []
  },
  {
   "cell_type": "code",
   "execution_count": null,
   "metadata": {},
   "outputs": [],
   "source": []
  },
  {
   "cell_type": "code",
   "execution_count": null,
   "metadata": {},
   "outputs": [],
   "source": []
  }
 ],
 "metadata": {
  "kernelspec": {
   "display_name": "Python 3",
   "language": "python",
   "name": "python3"
  },
  "language_info": {
   "codemirror_mode": {
    "name": "ipython",
    "version": 3
   },
   "file_extension": ".py",
   "mimetype": "text/x-python",
   "name": "python",
   "nbconvert_exporter": "python",
   "pygments_lexer": "ipython3",
   "version": "3.6.0"
  }
 },
 "nbformat": 4,
 "nbformat_minor": 2
}
