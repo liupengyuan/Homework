{
 "cells": [
  {
   "cell_type": "code",
   "execution_count": 2,
   "metadata": {},
   "outputs": [
    {
     "name": "stdout",
     "output_type": "stream",
     "text": [
      "输入字符串鹿晗\n",
      "晗鹿\n"
     ]
    }
   ],
   "source": [
    "#联系1\n",
    "def compute(s):\n",
    "    n=len(s)\n",
    "    print(s[n-1::-1])\n",
    "s=input('输入字符串')\n",
    "compute(s)"
   ]
  },
  {
   "cell_type": "code",
   "execution_count": 26,
   "metadata": {},
   "outputs": [
    {
     "name": "stdout",
     "output_type": "stream",
     "text": [
      "输入喜欢的符号^\n",
      "输入行数5\n",
      "直角三角形\n",
      "^\n",
      "^^\n",
      "^^^\n",
      "^^^^\n",
      "^^^^^\n",
      "等腰三角形\n",
      "     ^\n",
      "    ^^^\n",
      "   ^^^^^\n",
      "  ^^^^^^^\n",
      " ^^^^^^^^^\n",
      "钝角三角形\n",
      "\n",
      " ^\n",
      "  ^^\n",
      "   ^^^\n",
      "    ^^^^\n",
      "     ^^^^^\n"
     ]
    }
   ],
   "source": [
    "#练习2\n",
    "def compute_zhijiao(m,n):\n",
    "    print('直角三角形')\n",
    "    for i in range(n):\n",
    "        print(m*(i+1))\n",
    "        \n",
    "def compute_dengyao(m,n):\n",
    "    print('等腰三角形')\n",
    "    for i in range(n):\n",
    "        print(' '*(n-i)+m*(2*i+1))\n",
    "        \n",
    "def compute_dunjiao(m,n):\n",
    "    print('钝角三角形')\n",
    "    for i in range(n+1):\n",
    "        print(' '*i+m*i)\n",
    "        \n",
    "\n",
    "m=input('输入喜欢的符号')\n",
    "n=int(input('输入行数'))\n",
    "compute_zhijiao(m,n)\n",
    "compute_dengyao(m,n)\n",
    "compute_dunjiao(m,n)\n",
    "\n",
    "    "
   ]
  },
  {
   "cell_type": "code",
   "execution_count": 38,
   "metadata": {},
   "outputs": [
    {
     "name": "stdout",
     "output_type": "stream",
     "text": [
      "输入喜欢的符号^\n",
      "普通菱形\n",
      "          \n",
      "         ^\n",
      "        ^^^\n",
      "       ^^^^^\n",
      "      ^^^^^^^\n",
      "     ^^^^^^^^^\n",
      "    ^^^^^^^^^^^\n",
      "   ^^^^^^^^^^^^^\n",
      "  ^^^^^^^^^^^^^^^\n",
      " ^^^^^^^^^^^^^^^^^\n",
      "^^^^^^^^^^^^^^^^^^^\n",
      " ^^^^^^^^^^^^^^^^^\n",
      "  ^^^^^^^^^^^^^^^\n",
      "   ^^^^^^^^^^^^^\n",
      "    ^^^^^^^^^^^\n",
      "     ^^^^^^^^^\n",
      "      ^^^^^^^\n",
      "       ^^^^^\n",
      "        ^^^\n",
      "         ^\n",
      "直角菱形\n",
      "^^^^^^^^^^\n",
      "^^^^^^^^^^\n",
      "^^^^^^^^^^\n",
      "^^^^^^^^^^\n",
      "^^^^^^^^^^\n"
     ]
    }
   ],
   "source": [
    "#练习5\n",
    "def compute_com(m):\n",
    "    print('普通菱形')\n",
    "    for i in range(10):\n",
    "        print(' '*(10-i)+m*(2*i-1))\n",
    "    for j in range(10,0,-1):\n",
    "        print(' '*(10-j)+m*(2*j-1))\n",
    "def compute_zhijiao(m):\n",
    "    print('直角菱形')\n",
    "    for i in range(5):\n",
    "        print(m*10)\n",
    "        \n",
    "m=input('输入喜欢的符号')\n",
    "compute_com(m)\n",
    "compute_zhijiao(m)"
   ]
  },
  {
   "cell_type": "code",
   "execution_count": null,
   "metadata": {},
   "outputs": [],
   "source": []
  },
  {
   "cell_type": "code",
   "execution_count": null,
   "metadata": {},
   "outputs": [],
   "source": []
  },
  {
   "cell_type": "code",
   "execution_count": null,
   "metadata": {},
   "outputs": [],
   "source": []
  },
  {
   "cell_type": "code",
   "execution_count": null,
   "metadata": {},
   "outputs": [],
   "source": []
  },
  {
   "cell_type": "code",
   "execution_count": null,
   "metadata": {},
   "outputs": [],
   "source": []
  },
  {
   "cell_type": "code",
   "execution_count": null,
   "metadata": {},
   "outputs": [],
   "source": []
  },
  {
   "cell_type": "code",
   "execution_count": null,
   "metadata": {},
   "outputs": [],
   "source": []
  },
  {
   "cell_type": "code",
   "execution_count": null,
   "metadata": {},
   "outputs": [],
   "source": []
  },
  {
   "cell_type": "code",
   "execution_count": null,
   "metadata": {},
   "outputs": [],
   "source": []
  },
  {
   "cell_type": "code",
   "execution_count": null,
   "metadata": {},
   "outputs": [],
   "source": []
  },
  {
   "cell_type": "code",
   "execution_count": null,
   "metadata": {},
   "outputs": [],
   "source": []
  },
  {
   "cell_type": "code",
   "execution_count": null,
   "metadata": {},
   "outputs": [],
   "source": []
  },
  {
   "cell_type": "code",
   "execution_count": null,
   "metadata": {},
   "outputs": [],
   "source": []
  },
  {
   "cell_type": "code",
   "execution_count": null,
   "metadata": {},
   "outputs": [],
   "source": []
  },
  {
   "cell_type": "code",
   "execution_count": null,
   "metadata": {},
   "outputs": [],
   "source": []
  },
  {
   "cell_type": "code",
   "execution_count": null,
   "metadata": {},
   "outputs": [],
   "source": []
  },
  {
   "cell_type": "code",
   "execution_count": null,
   "metadata": {},
   "outputs": [],
   "source": []
  },
  {
   "cell_type": "code",
   "execution_count": null,
   "metadata": {},
   "outputs": [],
   "source": []
  },
  {
   "cell_type": "code",
   "execution_count": null,
   "metadata": {},
   "outputs": [],
   "source": []
  },
  {
   "cell_type": "code",
   "execution_count": null,
   "metadata": {},
   "outputs": [],
   "source": []
  },
  {
   "cell_type": "code",
   "execution_count": null,
   "metadata": {},
   "outputs": [],
   "source": []
  },
  {
   "cell_type": "code",
   "execution_count": null,
   "metadata": {},
   "outputs": [],
   "source": []
  },
  {
   "cell_type": "code",
   "execution_count": null,
   "metadata": {},
   "outputs": [],
   "source": []
  },
  {
   "cell_type": "code",
   "execution_count": null,
   "metadata": {},
   "outputs": [],
   "source": []
  },
  {
   "cell_type": "code",
   "execution_count": null,
   "metadata": {},
   "outputs": [],
   "source": []
  },
  {
   "cell_type": "code",
   "execution_count": null,
   "metadata": {},
   "outputs": [],
   "source": []
  },
  {
   "cell_type": "code",
   "execution_count": null,
   "metadata": {},
   "outputs": [],
   "source": []
  },
  {
   "cell_type": "code",
   "execution_count": null,
   "metadata": {},
   "outputs": [],
   "source": []
  },
  {
   "cell_type": "code",
   "execution_count": null,
   "metadata": {},
   "outputs": [],
   "source": []
  },
  {
   "cell_type": "code",
   "execution_count": null,
   "metadata": {},
   "outputs": [],
   "source": []
  },
  {
   "cell_type": "code",
   "execution_count": null,
   "metadata": {},
   "outputs": [],
   "source": []
  },
  {
   "cell_type": "code",
   "execution_count": null,
   "metadata": {},
   "outputs": [],
   "source": []
  },
  {
   "cell_type": "code",
   "execution_count": null,
   "metadata": {},
   "outputs": [],
   "source": []
  },
  {
   "cell_type": "code",
   "execution_count": null,
   "metadata": {},
   "outputs": [],
   "source": []
  },
  {
   "cell_type": "code",
   "execution_count": null,
   "metadata": {},
   "outputs": [],
   "source": []
  },
  {
   "cell_type": "code",
   "execution_count": null,
   "metadata": {},
   "outputs": [],
   "source": []
  }
 ],
 "metadata": {
  "kernelspec": {
   "display_name": "Python 3",
   "language": "python",
   "name": "python3"
  },
  "language_info": {
   "codemirror_mode": {
    "name": "ipython",
    "version": 3
   },
   "file_extension": ".py",
   "mimetype": "text/x-python",
   "name": "python",
   "nbconvert_exporter": "python",
   "pygments_lexer": "ipython3",
   "version": "3.6.0"
  }
 },
 "nbformat": 4,
 "nbformat_minor": 2
}
