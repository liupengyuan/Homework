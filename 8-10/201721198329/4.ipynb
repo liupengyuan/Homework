{
 "cells": [
  {
   "cell_type": "code",
   "execution_count": 2,
   "metadata": {},
   "outputs": [
    {
     "name": "stdout",
     "output_type": "stream",
     "text": [
      "输入第一个数2\n",
      "输入第二个数3\n",
      "输入第三个数4\n",
      "32\n"
     ]
    }
   ],
   "source": [
    "#练习1\n",
    "def compute_mul(end):\n",
    "    i=1\n",
    "    total_n=1\n",
    "    while i<=end:\n",
    "        total_n=total_n*i\n",
    "        i+=1\n",
    "    return total_n\n",
    "n=int(input('输入第一个数'))\n",
    "m=int(input('输入第二个数'))\n",
    "k=int(input('输入第三个数'))\n",
    "print(compute_mul(n)+compute_mul(m)+compute_mul(k))\n",
    "    "
   ]
  },
  {
   "cell_type": "code",
   "execution_count": 3,
   "metadata": {},
   "outputs": [
    {
     "name": "stdout",
     "output_type": "stream",
     "text": [
      "3.140592653839794\n",
      "3.1415826535897198\n"
     ]
    }
   ],
   "source": [
    "#练习2\n",
    "def compute_sum(n):\n",
    "    total=1\n",
    "    i=1\n",
    "    \n",
    "    while i<n:\n",
    "        i+=1\n",
    "        m=i%2\n",
    "        if m!=0:\n",
    "            total=total+1/(2*i-1)\n",
    "        else:\n",
    "            total=total-1/(2*i-1)\n",
    "            \n",
    "    return total\n",
    "\n",
    "print(compute_sum(1000)*4)\n",
    "print(compute_sum(100000)*4)\n"
   ]
  },
  {
   "cell_type": "code",
   "execution_count": 8,
   "metadata": {},
   "outputs": [
    {
     "name": "stdout",
     "output_type": "stream",
     "text": [
      "请输入名字鹿晗\n",
      "请输入出生月份4\n",
      "请输入出生日20\n",
      "鹿晗 白羊座\n"
     ]
    }
   ],
   "source": [
    "#练习3\n",
    "def date(name,month,day):\n",
    "    if month==1:\n",
    "        if day<=20:\n",
    "            cons='摩羯座'\n",
    "        else:\n",
    "            cons='水瓶座'\n",
    "    if month==2:\n",
    "        if day<=19:\n",
    "            cons='水瓶座'\n",
    "        else:\n",
    "            cons='双鱼座'\n",
    "\n",
    "    if month==3:\n",
    "        if date<=21:\n",
    "            cons='双鱼座'\n",
    "        else:\n",
    "            cons='白羊座'\n",
    "    if month==4:\n",
    "        if day<=20:\n",
    "            cons='白羊座'\n",
    "        else:\n",
    "            cons='金牛座'\n",
    "    if month==5:\n",
    "        if day<=20:\n",
    "            cons='金牛座'\n",
    "        else:\n",
    "            cons='双子座'\n",
    "        \n",
    "    if month==6:\n",
    "        if day<=22:\n",
    "            cons='双子座'\n",
    "        else:\n",
    "            cons='巨蟹座'\n",
    "    if month==7:\n",
    "        if day<=23:\n",
    "            cons='巨蟹座'\n",
    "        else:\n",
    "            cons='狮子座'\n",
    "    if month==8:\n",
    "        if day<=23:\n",
    "            cons='狮子座'\n",
    "        else:\n",
    "            cons='处女座'\n",
    "    if month==9:\n",
    "        if day<=23:\n",
    "            cons='处女座'\n",
    "        else:\n",
    "            cons='天秤座'\n",
    "    if month==10:\n",
    "        if day<=24:\n",
    "            cons='天秤座'\n",
    "        else:\n",
    "            cons='天蝎座'\n",
    "    if month==11:\n",
    "        if day<=23:\n",
    "            cons='天蝎座'\n",
    "        else:\n",
    "            cons='射手座'\n",
    "    if month==12:\n",
    "        if day<22:\n",
    "            cons='射手座'\n",
    "        else:\n",
    "            cons='摩羯座'\n",
    "        \n",
    "    return cons\n",
    "name=str(input('请输入名字'))    \n",
    "month=int(input('请输入出生月份'))\n",
    "day=int(input('请输入出生日'))\n",
    "print(name,date(name,month,day))"
   ]
  },
  {
   "cell_type": "code",
   "execution_count": 7,
   "metadata": {},
   "outputs": [
    {
     "name": "stdout",
     "output_type": "stream",
     "text": [
      "输入一个单词apple\n",
      "加s\n"
     ]
    }
   ],
   "source": [
    "#练习3\n",
    "def change(n):\n",
    "    if n.endswith('o'):\n",
    "        words='有生命的加es, 无生命的加s'\n",
    "    elif n.endswith('f'):\n",
    "        words='变f为v, 再加-es'\n",
    "    elif n.endswith('fe'):    \n",
    "        words='变f为v, 再加-s'\n",
    "    elif n.endswith('y'):    \n",
    "        words='变y为i, 再加-es'\n",
    "    elif n.endswith('s'):    \n",
    "        words='加-es'\n",
    "    elif n.endswith('sh'):     \n",
    "        words='加-es'\n",
    "    elif n.endswith('x'):\n",
    "        words='加-es'\n",
    "    elif n.endswith('ch'):    \n",
    "        words='加-es'\n",
    "    else:\n",
    "        words='加s'    \n",
    "        \n",
    "    return words\n",
    "word=input('输入一个单词')\n",
    "print(change(word))\n",
    "    "
   ]
  },
  {
   "cell_type": "code",
   "execution_count": 10,
   "metadata": {},
   "outputs": [
    {
     "name": "stdout",
     "output_type": "stream",
     "text": [
      "输入一个数3\n",
      "输入另一个数11\n",
      "输入间隔2\n",
      "24\n"
     ]
    }
   ],
   "source": [
    "#挑战性练习\n",
    "def compute_sum(m,n,k):\n",
    "    total=0\n",
    "    for each in range(m,n,k):\n",
    "        total+=each\n",
    "    return total\n",
    "m=int(input('输入一个数'))\n",
    "n=int(input('输入另一个数'))\n",
    "k=int(input('输入间隔'))        \n",
    "print(compute_sum(m,n,k))"
   ]
  },
  {
   "cell_type": "code",
   "execution_count": null,
   "metadata": {},
   "outputs": [],
   "source": []
  },
  {
   "cell_type": "code",
   "execution_count": null,
   "metadata": {},
   "outputs": [],
   "source": []
  },
  {
   "cell_type": "code",
   "execution_count": null,
   "metadata": {},
   "outputs": [],
   "source": []
  },
  {
   "cell_type": "code",
   "execution_count": null,
   "metadata": {},
   "outputs": [],
   "source": []
  },
  {
   "cell_type": "code",
   "execution_count": null,
   "metadata": {},
   "outputs": [],
   "source": []
  },
  {
   "cell_type": "code",
   "execution_count": null,
   "metadata": {},
   "outputs": [],
   "source": []
  }
 ],
 "metadata": {
  "kernelspec": {
   "display_name": "Python 3",
   "language": "python",
   "name": "python3"
  },
  "language_info": {
   "codemirror_mode": {
    "name": "ipython",
    "version": 3
   },
   "file_extension": ".py",
   "mimetype": "text/x-python",
   "name": "python",
   "nbconvert_exporter": "python",
   "pygments_lexer": "ipython3",
   "version": "3.6.0"
  }
 },
 "nbformat": 4,
 "nbformat_minor": 2
}
