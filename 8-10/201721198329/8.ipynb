{
 "cells": [
  {
   "cell_type": "code",
   "execution_count": 6,
   "metadata": {},
   "outputs": [
    {
     "name": "stdout",
     "output_type": "stream",
     "text": [
      "游戏菜单\n",
      "1.游戏说明\n",
      "2.开始游戏\n",
      "3.退出游戏\n",
      "4.制作团队\n",
      "输入你的选择2\n",
      "者 流\n",
      "风 下\n",
      "天 垂\n",
      "心 闻\n",
      "请输入诗句风流天下闻\n",
      "答对啦，加十分\n",
      "当前分数是： 20\n",
      "吹 谓\n",
      "姓 风\n",
      "行 晚\n",
      "舟 烧\n",
      "请输入诗句\n",
      "退出游戏\n",
      "最后的分数是： 20\n"
     ]
    }
   ],
   "source": [
    "#诗词游戏\n",
    "print('''游戏菜单\n",
    "1.游戏说明\n",
    "2.开始游戏\n",
    "3.退出游戏\n",
    "4.制作团队''')\n",
    "import random\n",
    "\n",
    "def win():\n",
    "    print('win')\n",
    "def lose():\n",
    "    print('lose')\n",
    "def intro():\n",
    "    print('诗词游戏：给出8个字，其中有五个字是一句诗，基础分10，答对加10，打错减10，100胜利，小于零分失败')\n",
    "          \n",
    "def list_word(line):\n",
    "    word=[]\n",
    "    for i in line:\n",
    "        if i not in word:\n",
    "            word.append(i)\n",
    "    return word\n",
    "\n",
    "def game(file_name):\n",
    "    with open(file_name) as fh:\n",
    "        text0=fh.read()\n",
    "    text1=text0.replace('，','\\n')\n",
    "    text2=text1.replace('。','')\n",
    "    text3=text2.split()\n",
    "    guess=random.choice(text3)\n",
    "    \n",
    "    all_word=list_word(text2.replace('\\n',''))\n",
    "    guess_word=[ch for ch in guess]\n",
    "    \n",
    "    while len(guess_word)<8:\n",
    "        ch=random.choice(all_word)\n",
    "        if ch not in guess_word:\n",
    "            guess_word.append(ch)\n",
    "    \n",
    "    random.shuffle(guess_word)\n",
    "    for i in range(0,8,2):\n",
    "        print(guess_word[i],guess_word[i+1])\n",
    "    return guess\n",
    "          \n",
    "def over():\n",
    "    print('游戏结束')\n",
    "    \n",
    "          \n",
    "def team():\n",
    "    print('制作人：杜成玉')\n",
    "          \n",
    "    \n",
    "choose=int(input('输入你的选择'))\n",
    "\n",
    "\n",
    "def main():\n",
    "    \n",
    "    if choose==1:\n",
    "        intro()\n",
    "    elif choose==2:         \n",
    "        filename=r'd:\\temp\\五言诗库.txt'\n",
    "        score=10\n",
    "        while score>=0:\n",
    "            real_idiom=game(filename)\n",
    "            n=input('请输入诗句')\n",
    "\n",
    "            if n==real_idiom:\n",
    "                print('答对啦，加十分')\n",
    "                score+=10\n",
    "                print('当前分数是：',score)\n",
    "                if score==100:\n",
    "                    win()\n",
    "                    return\n",
    "            elif n=='':\n",
    "                print('退出游戏')\n",
    "                print('最后的分数是：',score)\n",
    "                return\n",
    "            else:\n",
    "                score-=10\n",
    "                print('打错了，减十分')\n",
    "                print('诗句其实是：',real_idiom)\n",
    "                print('你当前的分数是：',score)\n",
    "                \n",
    "        else:\n",
    "            lose()\n",
    "            return\n",
    "\n",
    "    elif choose==3:\n",
    "        \n",
    "        over()\n",
    "        \n",
    "    else:\n",
    "        team()\n",
    "main()"
   ]
  },
  {
   "cell_type": "code",
   "execution_count": 35,
   "metadata": {},
   "outputs": [
    {
     "name": "stdout",
     "output_type": "stream",
     "text": [
      "输入5个字白云春草门\n",
      "白云依静渚，春草闭闲门。\n"
     ]
    }
   ],
   "source": [
    "#点字成诗机器人\n",
    "def find_poem_sentence(poems, characters):\n",
    "    same_character_number = 0\n",
    "    for poem in poems:\n",
    "        for ch in poem:\n",
    "            if ch in characters:\n",
    "                same_character_number += 1\n",
    "        if same_character_number == 5:\n",
    "            return poem\n",
    "        else:\n",
    "            same_character_number = 0\n",
    "        \n",
    "    return None\n",
    "with open(r'd:\\temp\\五言诗库.txt') as fh:\n",
    "    poems=fh.read().split()\n",
    "\n",
    "\n",
    "characters=input('输入5个字')\n",
    "print(find_poem_sentence(poems,characters))"
   ]
  },
  {
   "cell_type": "code",
   "execution_count": null,
   "metadata": {},
   "outputs": [],
   "source": []
  },
  {
   "cell_type": "code",
   "execution_count": null,
   "metadata": {},
   "outputs": [],
   "source": []
  },
  {
   "cell_type": "code",
   "execution_count": null,
   "metadata": {},
   "outputs": [],
   "source": []
  },
  {
   "cell_type": "code",
   "execution_count": null,
   "metadata": {},
   "outputs": [],
   "source": []
  },
  {
   "cell_type": "code",
   "execution_count": null,
   "metadata": {},
   "outputs": [],
   "source": []
  },
  {
   "cell_type": "code",
   "execution_count": null,
   "metadata": {},
   "outputs": [],
   "source": []
  },
  {
   "cell_type": "code",
   "execution_count": null,
   "metadata": {},
   "outputs": [],
   "source": []
  },
  {
   "cell_type": "code",
   "execution_count": null,
   "metadata": {},
   "outputs": [],
   "source": []
  },
  {
   "cell_type": "code",
   "execution_count": null,
   "metadata": {},
   "outputs": [],
   "source": []
  }
 ],
 "metadata": {
  "kernelspec": {
   "display_name": "Python 3",
   "language": "python",
   "name": "python3"
  },
  "language_info": {
   "codemirror_mode": {
    "name": "ipython",
    "version": 3
   },
   "file_extension": ".py",
   "mimetype": "text/x-python",
   "name": "python",
   "nbconvert_exporter": "python",
   "pygments_lexer": "ipython3",
   "version": "3.6.0"
  }
 },
 "nbformat": 4,
 "nbformat_minor": 2
}
