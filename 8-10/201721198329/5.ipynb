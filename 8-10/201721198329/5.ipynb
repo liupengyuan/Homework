{
 "cells": [
  {
   "cell_type": "code",
   "execution_count": 1,
   "metadata": {},
   "outputs": [
    {
     "name": "stdout",
     "output_type": "stream",
     "text": [
      "输入范围的上界1\n",
      "输入范围的下界9\n",
      "输入整数的个数3\n",
      "2.309401076758503\n"
     ]
    }
   ],
   "source": [
    "#练习1\n",
    "import random,math\n",
    "def compute(m,k,n):\n",
    "    total=0\n",
    "    i=0\n",
    "    while i<n:\n",
    "        number=random.randint(m,k)\n",
    "        total+=number\n",
    "        i+=1\n",
    "        \n",
    "    return math.sqrt(total/n)\n",
    "m=int(input('输入范围的上界'))\n",
    "k=int(input('输入范围的下界'))\n",
    "n=int(input('输入整数的个数'))\n",
    "print(compute(m,k,n))\n",
    "        \n",
    "    \n",
    "    \n",
    "    \n",
    "        "
   ]
  },
  {
   "cell_type": "code",
   "execution_count": 2,
   "metadata": {},
   "outputs": [
    {
     "name": "stdout",
     "output_type": "stream",
     "text": [
      "输入范围的上界1\n",
      "输入范围的下界9\n",
      "输入整数个数3\n",
      "(5.598421958998374, 1.6345651744242777)\n"
     ]
    }
   ],
   "source": [
    "#练习2\n",
    "import random,math\n",
    "def compute(m,k,n):\n",
    "    \n",
    "    i=0\n",
    "    total1=0\n",
    "    total2=0\n",
    "    while i<n:\n",
    "        number=random.randint(m,k)\n",
    "        i+=1\n",
    "        total1+=math.log(number)\n",
    "        total2+=1/math.log(number)\n",
    "    return total1,total2\n",
    "m=int(input('输入范围的上界'))\n",
    "k=int(input('输入范围的下界'))\n",
    "n=int(input('输入整数个数'))\n",
    "print(compute(m,k,n))\n"
   ]
  },
  {
   "cell_type": "code",
   "execution_count": null,
   "metadata": {},
   "outputs": [],
   "source": []
  }
 ],
 "metadata": {
  "kernelspec": {
   "display_name": "Python 3",
   "language": "python",
   "name": "python3"
  },
  "language_info": {
   "codemirror_mode": {
    "name": "ipython",
    "version": 3
   },
   "file_extension": ".py",
   "mimetype": "text/x-python",
   "name": "python",
   "nbconvert_exporter": "python",
   "pygments_lexer": "ipython3",
   "version": "3.6.0"
  }
 },
 "nbformat": 4,
 "nbformat_minor": 2
}
