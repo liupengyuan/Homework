{
 "cells": [
  {
   "cell_type": "code",
   "execution_count": 1,
   "metadata": {},
   "outputs": [
    {
     "name": "stdout",
     "output_type": "stream",
     "text": [
      "请输入一个正整数，以回车结束。3\n",
      "6\n"
     ]
    }
   ],
   "source": [
    "#练习一\n",
    "n=int(input('请输入一个正整数，以回车结束。'))\n",
    "i=1\n",
    "total=1\n",
    "while i<n:\n",
    "    i=i+1\n",
    "    total=total*i\n",
    "    \n",
    "print(total)\n"
   ]
  },
  {
   "cell_type": "code",
   "execution_count": 2,
   "metadata": {},
   "outputs": [
    {
     "name": "stdout",
     "output_type": "stream",
     "text": [
      "指定整数个数，按回车结束3\n",
      "输入一个整数3\n",
      "输入一个整数2\n",
      "输入一个整数1\n",
      "6\n"
     ]
    }
   ],
   "source": [
    "#练习二\n",
    "number=int(input('指定整数个数，按回车结束'))\n",
    "i=0\n",
    "total=0\n",
    "while i<number:\n",
    "    i=i+1\n",
    "    n=int(input('输入一个整数'))\n",
    "    total=total+n\n",
    "print(total)"
   ]
  },
  {
   "cell_type": "code",
   "execution_count": 3,
   "metadata": {},
   "outputs": [
    {
     "name": "stdout",
     "output_type": "stream",
     "text": [
      "输入一个数，不想输入时点t\n",
      "1\n",
      "2\n",
      "3\n",
      "t\n"
     ]
    }
   ],
   "source": [
    "#练习三\n",
    "print('输入一个数，不想输入时点t')\n",
    "while  True:\n",
    "    n=input()\n",
    "    if n=='t':\n",
    "        break"
   ]
  },
  {
   "cell_type": "code",
   "execution_count": 4,
   "metadata": {},
   "outputs": [
    {
     "name": "stdout",
     "output_type": "stream",
     "text": [
      "请输入任意数字\n",
      "21\n",
      "32\n",
      "54\n"
     ]
    }
   ],
   "source": [
    "#练习四\n",
    "print('请输入任意数字')\n",
    "total=0\n",
    "mult=1\n",
    "n=int(input())\n",
    "while True:\n",
    "    total=total+n\n",
    "    mult=mult*n\n",
    "    n=int(input())\n",
    "    if n>total:\n",
    "        if mult>500:\n",
    "            break"
   ]
  },
  {
   "cell_type": "code",
   "execution_count": null,
   "metadata": {},
   "outputs": [],
   "source": []
  }
 ],
 "metadata": {
  "kernelspec": {
   "display_name": "Python 3",
   "language": "python",
   "name": "python3"
  },
  "language_info": {
   "codemirror_mode": {
    "name": "ipython",
    "version": 3
   },
   "file_extension": ".py",
   "mimetype": "text/x-python",
   "name": "python",
   "nbconvert_exporter": "python",
   "pygments_lexer": "ipython3",
   "version": "3.6.0"
  }
 },
 "nbformat": 4,
 "nbformat_minor": 2
}
