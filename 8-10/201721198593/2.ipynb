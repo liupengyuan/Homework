{
 "cells": [
  {
   "cell_type": "markdown",
   "metadata": {},
   "source": [
    "# 作业2.md"
   ]
  },
  {
   "cell_type": "markdown",
   "metadata": {},
   "source": [
    "## 练习1"
   ]
  },
  {
   "cell_type": "markdown",
   "metadata": {},
   "source": [
    "仿照任务2完整代码，打印n!。"
   ]
  },
  {
   "cell_type": "code",
   "execution_count": 7,
   "metadata": {},
   "outputs": [
    {
     "name": "stdout",
     "output_type": "stream",
     "text": [
      "请输入一个正整数，以回车结束。4\n",
      "24\n"
     ]
    }
   ],
   "source": [
    "n = int(input('请输入一个正整数，以回车结束。'))\n",
    "\n",
    "i = 0\n",
    "total = 1\n",
    "\n",
    "while i < n:\n",
    "    i = i + 1\n",
    "    total = total * i\n",
    "    \n",
    "print(total)"
   ]
  },
  {
   "cell_type": "markdown",
   "metadata": {},
   "source": [
    "## 练习2"
   ]
  },
  {
   "cell_type": "markdown",
   "metadata": {},
   "source": [
    "仿照实践1，写出由用户指定整数个数，并由用户输入多个整数，并求和的代码。"
   ]
  },
  {
   "cell_type": "code",
   "execution_count": 8,
   "metadata": {},
   "outputs": [
    {
     "name": "stdout",
     "output_type": "stream",
     "text": [
      "请输入一个正整数，以回车结束。4\n",
      "请输入任意整数，以回车结束1\n",
      "请输入任意整数，以回车结束2\n",
      "请输入任意整数，以回车结束3\n",
      "请输入任意整数，以回车结束4\n",
      "10\n"
     ]
    }
   ],
   "source": [
    "n = int(input('请输入一个正整数，以回车结束。'))\n",
    "\n",
    "i = 0\n",
    "total = 0\n",
    "\n",
    "\n",
    "while i<n:\n",
    "    p = int(input('请输入任意整数，以回车结束'))\n",
    "    total = total + p\n",
    "    i=i+1\n",
    "    \n",
    "print(total)"
   ]
  },
  {
   "cell_type": "markdown",
   "metadata": {},
   "source": [
    "## 练习3"
   ]
  },
  {
   "cell_type": "markdown",
   "metadata": {},
   "source": [
    "用户可以输入的任意多个数字，直到用户不想输入为止。"
   ]
  },
  {
   "cell_type": "code",
   "execution_count": 9,
   "metadata": {},
   "outputs": [
    {
     "name": "stdout",
     "output_type": "stream",
     "text": [
      "请输入任意整数，以回车结束,若不想输入，请输入stop 1\n",
      "请输入任意整数，以回车结束,若不想输入，请输入stop 2\n",
      "请输入任意整数，以回车结束,若不想输入，请输入stop 3\n",
      "请输入任意整数，以回车结束,若不想输入，请输入stop 4\n",
      "请输入任意整数，以回车结束,若不想输入，请输入stop stop\n"
     ]
    }
   ],
   "source": [
    "p = ''\n",
    "while p != \"stop\":\n",
    "    p = input('请输入任意整数，以回车结束,若不想输入，请输入stop ')\n",
    "   \n",
    "    "
   ]
  },
  {
   "cell_type": "markdown",
   "metadata": {},
   "source": [
    "## 练习4"
   ]
  },
  {
   "cell_type": "markdown",
   "metadata": {},
   "source": [
    "用户可以输入的任意多个数字，直到: 输入所有数字的和比当前输入数字小，且输入所有数字的积大于500。"
   ]
  },
  {
   "cell_type": "code",
   "execution_count": 1,
   "metadata": {},
   "outputs": [
    {
     "name": "stdout",
     "output_type": "stream",
     "text": [
      "请输入任意整数，以回车结束1\n",
      "请输入任意整数，以回车结束2\n",
      "请输入任意整数，以回车结束3\n",
      "请输入任意整数，以回车结束4\n",
      "请输入任意整数，以回车结束5\n",
      "请输入任意整数，以回车结束500\n",
      "请输入任意整数，以回车结束3\n",
      "请输入任意整数，以回车结束8888888888888\n",
      "180000\n",
      "518\n"
     ]
    }
   ],
   "source": [
    "p = 1\n",
    "q = 0\n",
    "i = 0\n",
    "total = 1\n",
    "while i>p or total<500:\n",
    "    i += q\n",
    "    total *= p\n",
    "    p = int(input('请输入任意整数，以回车结束'))\n",
    "    q=p\n",
    "    \n",
    "print(total)\n",
    "print(i)"
   ]
  }
 ],
 "metadata": {
  "kernelspec": {
   "display_name": "Python 3",
   "language": "python",
   "name": "python3"
  },
  "language_info": {
   "codemirror_mode": {
    "name": "ipython",
    "version": 3
   },
   "file_extension": ".py",
   "mimetype": "text/x-python",
   "name": "python",
   "nbconvert_exporter": "python",
   "pygments_lexer": "ipython3",
   "version": "3.6.1"
  }
 },
 "nbformat": 4,
 "nbformat_minor": 2
}
