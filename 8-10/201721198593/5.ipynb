{
 "cells": [
  {
   "cell_type": "markdown",
   "metadata": {},
   "source": [
    "# 第五节\n",
    "## 练习 1：写函数，求n个随机整数均值的平方根，整数范围在m与k之间（n,m,k由用户输入）。"
   ]
  },
  {
   "cell_type": "code",
   "execution_count": 5,
   "metadata": {},
   "outputs": [
    {
     "name": "stdout",
     "output_type": "stream",
     "text": [
      "请输入一个较小数字作为m，以回车结束。5\n",
      "请输入一个较大数字作为n，以回车结束。20\n",
      "请输入一个数字，以回车结束。2\n",
      "结果是： 3.7416573867739413\n"
     ]
    }
   ],
   "source": [
    "import math\n",
    "import random\n",
    "\n",
    "def compute():\n",
    "    m = int(input('请输入一个较小数字作为m，以回车结束。'))\n",
    "    k = int(input('请输入一个较大数字作为n，以回车结束。'))\n",
    "    n = int(input('请输入一个数字，以回车结束。'))\n",
    "    \n",
    "    i=0\n",
    "    total = 0\n",
    "    while i < n:\n",
    "        number = random.randint(m, k)\n",
    "        total = total + number\n",
    "        i=i+1\n",
    "        \n",
    "    mean_value = total/n\n",
    "    result = math.sqrt(mean_value)\n",
    "    print('结果是：', result)\n",
    "# 主程序\n",
    "compute()"
   ]
  },
  {
   "cell_type": "markdown",
   "metadata": {},
   "source": [
    "## 练习 2：写函数，共n个随机整数，整数范围在m与k之间，（n,m,k由用户输入）。求1：西格玛log(随机整数)，2：西格玛1/log(随机整数)"
   ]
  },
  {
   "cell_type": "code",
   "execution_count": 6,
   "metadata": {},
   "outputs": [
    {
     "name": "stdout",
     "output_type": "stream",
     "text": [
      "请输入一个较小数字作为m，以回车结束。5\n",
      "请输入一个较大数字作为n，以回车结束。20\n",
      "请输入一个数字，以回车结束。5\n",
      "结果total1是： 13.5043059880703 结果total2是： 1.8725984470244332\n"
     ]
    }
   ],
   "source": [
    "import math\n",
    "import random\n",
    "\n",
    "def compute():\n",
    "    m = int(input('请输入一个较小数字作为m，以回车结束。'))\n",
    "    k = int(input('请输入一个较大数字作为n，以回车结束。'))\n",
    "    n = int(input('请输入一个数字，以回车结束。'))\n",
    "    \n",
    "    i=0\n",
    "    total1 = 0\n",
    "    total2 = 0\n",
    "    while i < n:\n",
    "        number = random.randint(m, k)\n",
    "        total1 = total1 + math.log(number)\n",
    "        total2 = total2 + 1/math.log(number)\n",
    "        i=i+1\n",
    "        \n",
    "    \n",
    "    print('结果total1是：', total1,'结果total2是：',total2)\n",
    "# 主程序\n",
    "compute()"
   ]
  },
  {
   "cell_type": "code",
   "execution_count": null,
   "metadata": {
    "collapsed": true
   },
   "outputs": [],
   "source": []
  }
 ],
 "metadata": {
  "kernelspec": {
   "display_name": "Python 3",
   "language": "python",
   "name": "python3"
  },
  "language_info": {
   "codemirror_mode": {
    "name": "ipython",
    "version": 3
   },
   "file_extension": ".py",
   "mimetype": "text/x-python",
   "name": "python",
   "nbconvert_exporter": "python",
   "pygments_lexer": "ipython3",
   "version": "3.6.1"
  }
 },
 "nbformat": 4,
 "nbformat_minor": 2
}
