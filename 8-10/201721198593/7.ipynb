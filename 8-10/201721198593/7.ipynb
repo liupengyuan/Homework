{
 "cells": [
  {
   "cell_type": "markdown",
   "metadata": {},
   "source": [
    "## 作业 第七节"
   ]
  },
  {
   "cell_type": "markdown",
   "metadata": {},
   "source": [
    "### 练习一：自己定义一个reverse(s)函数，功能返回字符串s的倒序字符串。"
   ]
  },
  {
   "cell_type": "code",
   "execution_count": 1,
   "metadata": {},
   "outputs": [
    {
     "name": "stdout",
     "output_type": "stream",
     "text": [
      "edcba\n"
     ]
    }
   ],
   "source": [
    "def reverse(s):\n",
    "    print(s[::-1]);\n",
    "reverse('abcde')"
   ]
  },
  {
   "cell_type": "markdown",
   "metadata": {},
   "source": [
    "### 练习二：写函数，根据给定符号和行数，打印相应直角三角形，等腰三角形及其他形式的三角形。"
   ]
  },
  {
   "cell_type": "code",
   "execution_count": 21,
   "metadata": {},
   "outputs": [
    {
     "name": "stdout",
     "output_type": "stream",
     "text": [
      "直角三角形\n",
      "*    *    *    *    *    \n",
      "\n",
      "*    *    *    *    \n",
      "\n",
      "*    *    *    \n",
      "\n",
      "*    *    \n",
      "\n",
      "*    \n",
      "\n",
      "等腰三角形\n",
      "     *     \n",
      "    * *    \n",
      "   * * *   \n",
      "  * * * *  \n",
      " * * * * * \n",
      "* * * * * *\n",
      "\n",
      "\n",
      "倒三角形\n",
      "* * * * * * * * * * \n",
      " * * * * * * * * * \n",
      "  * * * * * * * * \n",
      "   * * * * * * * \n",
      "    * * * * * * \n",
      "     * * * * * \n",
      "      * * * * \n",
      "       * * * \n",
      "        * * \n",
      "         * \n"
     ]
    }
   ],
   "source": [
    "def  right_triangle(rows,b):\n",
    "    i=j=k=1; #声明变量，i用于控制外层循环（图形行数），j用于控制空格的个数，k用于控制*的个数\n",
    "#直角三角形1\n",
    "    print('直角三角形');\n",
    "    for i in range(0,rows):\n",
    "        for k in range(0,rows - i):\n",
    "            print(b+'    ',end='') #注意这里的\",\"一定不能省略，可以起到不换行的作用\n",
    "            k += 1;\n",
    "        i += 1\n",
    "        print('\\n');\n",
    "        \n",
    "def isosceles_triangle(rows,b):\n",
    "    print('等腰三角形');\n",
    "    l=[' '*(2*rows-1)]*rows #初始化列表  \n",
    "    for i in range(rows):  \n",
    "        l[i]=list(l[i]) #字符串转列表  \n",
    "        x=i  \n",
    "        y=0  \n",
    "        x=rows-x-1 #确定每行首项  \n",
    "        l[i][x]=b \n",
    "        while y<i:  \n",
    "            x+=2 #公差为2  \n",
    "            l[i][x]=b  \n",
    "            y+=1  \n",
    "        l[i]=''.join(l[i]) #列表转字符串  \n",
    "        print(l[i]) #打印每行  \n",
    "    print('\\n');\n",
    "        \n",
    "def inverted_triangle(rows,b):\n",
    "    print('倒三角形');\n",
    "    for i in range(10):\n",
    "        for j in range(0,i):\n",
    "            print(end=\" \")\n",
    "        for j in range(i,10):\n",
    "            print(b, end=\" \")\n",
    "\n",
    "        print(\"\")\n",
    "    \n",
    "right_triangle(5,'*')\n",
    "isosceles_triangle(6,'*')   \n",
    "inverted_triangle(4,'*')"
   ]
  },
  {
   "cell_type": "markdown",
   "metadata": {},
   "source": [
    "### 练习五：写函数，根据给定符号，打印各种菱形。"
   ]
  },
  {
   "cell_type": "code",
   "execution_count": 29,
   "metadata": {},
   "outputs": [
    {
     "name": "stdout",
     "output_type": "stream",
     "text": [
      "打印空心等菱形    \n",
      "\n",
      "   * \n",
      "\n",
      "  *  * \n",
      "\n",
      " *    * \n",
      "\n",
      "*      * \n",
      "\n",
      " *    * \n",
      "\n",
      "  *  * \n",
      "\n",
      "   * \n",
      "\n",
      "打印实心菱形\n",
      "   *   \n",
      "  ***  \n",
      " ***** \n",
      "*******\n",
      " ***** \n",
      "  ***  \n",
      "   *   \n"
     ]
    }
   ],
   "source": [
    "def rhombus(rows,b):\n",
    "    #打印菱形\n",
    "    print('打印空心等菱形',end=\"\")\n",
    "    for i in range(rows):#变量i控制行数\n",
    "        for j in range(rows - i):#(1,rows-i)\n",
    "            print(end=\" \")\n",
    "            j += 1\n",
    "        for k in range(2 * i - 1):#(1,2*i)\n",
    "            if k == 0 or k == 2 * i - 2:\n",
    "                print(b,end=\" \")\n",
    "            else:\n",
    "                print(end=\" \")\n",
    "            k += 1\n",
    "        print('\\n')\n",
    "        i += 1\n",
    "        #菱形的下半部分\n",
    "    for i in range(rows):\n",
    "        for j in range(i):#(1,rows-i)\n",
    "            print(end=\" \")\n",
    "            j += 1\n",
    "        for k in range(2 * (rows - i) - 1):#(1,2*i)\n",
    "            if k == 0 or k == 2 * (rows - i) - 2:\n",
    "                print(b,end=\" \")\n",
    "            else:\n",
    "                print(end=\" \")\n",
    "            k += 1\n",
    "        print('\\n')\n",
    "        i += 1\n",
    "      \n",
    "    #实心菱形\n",
    "    print('打印实心菱形')\n",
    "        # range(1,30,3)表示： range(1, 30, 3)\n",
    "        # [1, 4, 7, 10, 13, 16, 19, 22, 25, 28]\n",
    "    for i in range(1, 8, 2):\n",
    "        print((b*i).center(7))\n",
    "    for i in reversed(range(1, 6, 2)):\n",
    "        print((b*i).center(7))\n",
    "    \n",
    "rhombus(4,'*')"
   ]
  },
  {
   "cell_type": "code",
   "execution_count": null,
   "metadata": {
    "collapsed": true
   },
   "outputs": [],
   "source": []
  }
 ],
 "metadata": {
  "kernelspec": {
   "display_name": "Python 3",
   "language": "python",
   "name": "python3"
  },
  "language_info": {
   "codemirror_mode": {
    "name": "ipython",
    "version": 3
   },
   "file_extension": ".py",
   "mimetype": "text/x-python",
   "name": "python",
   "nbconvert_exporter": "python",
   "pygments_lexer": "ipython3",
   "version": "3.5.2"
  }
 },
 "nbformat": 4,
 "nbformat_minor": 2
}
