{
 "cells": [
  {
   "cell_type": "markdown",
   "metadata": {
    "collapsed": true
   },
   "source": [
    "# 第六节"
   ]
  },
  {
   "cell_type": "markdown",
   "metadata": {},
   "source": [
    "### 习题二 写函数，返回一个list中所有数字的和"
   ]
  },
  {
   "cell_type": "code",
   "execution_count": 3,
   "metadata": {},
   "outputs": [
    {
     "name": "stdout",
     "output_type": "stream",
     "text": [
      "此数列的和为 15\n"
     ]
    }
   ],
   "source": [
    "numbers = [1, 2, 3, 4, 5]\n",
    "\n",
    "i = 0\n",
    "total = 0\n",
    "while i < len(numbers):\n",
    "    total = total + numbers[i]\n",
    "    i += 1\n",
    "print('此数列的和为', total)"
   ]
  },
  {
   "cell_type": "markdown",
   "metadata": {},
   "source": [
    "### 习题三 写函数，返回一个list中的最小值"
   ]
  },
  {
   "cell_type": "code",
   "execution_count": 5,
   "metadata": {},
   "outputs": [
    {
     "name": "stdout",
     "output_type": "stream",
     "text": [
      "此数列的最小值为 1\n"
     ]
    }
   ],
   "source": [
    "numbers = [1, 2, 3, 4, 5]\n",
    "\n",
    "i = 0\n",
    "min = numbers[0]\n",
    "while i < len(numbers):\n",
    "    if min > numbers[i] :\n",
    "        min = numbers[i]\n",
    "    i += 1\n",
    "print('此数列的最小值为', min)"
   ]
  },
  {
   "cell_type": "markdown",
   "metadata": {},
   "source": [
    "### 习题四 写函数，返回某个元素/对象在一个list中的位置，如果不在，则返回-1."
   ]
  },
  {
   "cell_type": "code",
   "execution_count": 3,
   "metadata": {},
   "outputs": [
    {
     "name": "stdout",
     "output_type": "stream",
     "text": [
      "请输入你想查看的单词，回车结束the\n",
      "Yes, the 在数列中\n",
      "这个数在数列中的位置是 6\n"
     ]
    }
   ],
   "source": [
    "# 序列之list示例4\n",
    "words = ['The', 'quick', 'brown', 'fox', 'jumps', 'over', 'the', 'lazy', 'dog']\n",
    "n = input('请输入你想查看的单词，回车结束')\n",
    "\n",
    "if n in words:\n",
    "    print('Yes,', n, '在数列中',)\n",
    "    i = 0\n",
    "    while i < len(words):                \n",
    "        if n == words[i]:\n",
    "            print('这个数在数列中的位置是',i)\n",
    "            break\n",
    "        i += 1\n",
    "else:\n",
    "    print('No,', n, '不在数列中')"
   ]
  },
  {
   "cell_type": "markdown",
   "metadata": {},
   "source": [
    "### 习题五 写函数，可求两个向量的夹角余弦值，向量可放在list中。主程序调用该函数。"
   ]
  },
  {
   "cell_type": "code",
   "execution_count": 9,
   "metadata": {},
   "outputs": [
    {
     "name": "stdout",
     "output_type": "stream",
     "text": [
      "-0.109108945118\n"
     ]
    }
   ],
   "source": [
    "import numpy as np\n",
    "\n",
    "x=np.array([1,3,2])\n",
    "y=np.array([-2,1,-1])\n",
    "#计算两个向量的长度\n",
    "Lx=np.sqrt(x.dot(x))\n",
    "Ly=np.sqrt(y.dot(y))\n",
    "\n",
    "cos_angle=x.dot(y)/(Lx*Ly)\n",
    "print(cos_angle)"
   ]
  },
  {
   "cell_type": "markdown",
   "metadata": {},
   "source": [
    "### 挑战性习题 python语言老师为了激励学生学python，自费买了100个完全相同的Macbook Pro，分给三个班级，每个班级至少分5个，用穷举法计算共有多少种分法？"
   ]
  },
  {
   "cell_type": "code",
   "execution_count": 13,
   "metadata": {},
   "outputs": [
    {
     "name": "stdout",
     "output_type": "stream",
     "text": [
      "100个MacBook Pro分给3个班分发共4095种方法\n"
     ]
    }
   ],
   "source": [
    "def distr():\n",
    "        count =0;\n",
    "        for i in range(5,100):\n",
    "            for j in range(5,100-i):\n",
    "                #print(i,j,100-i-j, sep = ' ')\n",
    "                count +=1\n",
    "        return count\n",
    "\n",
    "print(\"100个MacBook Pro分给3个班分发共\"+str(distr())+\"种方法\")"
   ]
  },
  {
   "cell_type": "code",
   "execution_count": null,
   "metadata": {
    "collapsed": true
   },
   "outputs": [],
   "source": []
  }
 ],
 "metadata": {
  "kernelspec": {
   "display_name": "Python 3",
   "language": "python",
   "name": "python3"
  }
 },
 "nbformat": 4,
 "nbformat_minor": 2
}
