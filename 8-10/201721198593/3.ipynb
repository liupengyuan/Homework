{
 "cells": [
  {
   "cell_type": "markdown",
   "metadata": {},
   "source": [
    "# 作业3.md\n",
    "## 练习2\n",
    "写程序，可由键盘读入两个整数m与n(n不等于0)，询问用户意图，如果要求和则计算从m到n的和输出，如果要乘积则计算从m到n的积并输出，如果要求余数则计算m除以n的余数的值并输出，否则则计算m整除n的值并输出。"
   ]
  },
  {
   "cell_type": "code",
   "execution_count": 3,
   "metadata": {},
   "outputs": [
    {
     "name": "stdout",
     "output_type": "stream",
     "text": [
      "请输入任意整数给m，以回车结束12\n",
      "请输入任意整数给n，以回车结束8\n",
      "您想操作的是：求和键入1、求乘积键入2,、求余数键入3；如果键入其他值将求整除3\n",
      "4\n"
     ]
    }
   ],
   "source": [
    "m = int(input('请输入任意整数给m，以回车结束'))\n",
    "n = int(input('请输入任意整数给n，以回车结束'))\n",
    "i = int(input('您想操作的是：求和键入1、求乘积键入2,、求余数键入3；如果键入其他值将求整除'))\n",
    "h = 0\n",
    "total = 0\n",
    "if i == 1:\n",
    "    if m > n:\n",
    "        h=m\n",
    "        m=n\n",
    "        n=h\n",
    "    while m<=n:\n",
    "        total = total + m  \n",
    "        m = m + 1\n",
    "elif i == 2:\n",
    "    if m > n:\n",
    "        h=m\n",
    "        m=n\n",
    "        n=h\n",
    "    while m<=n:\n",
    "        total = total * m  \n",
    "        m = m + 1\n",
    "elif i == 3:\n",
    "    if n > m:\n",
    "        h=m\n",
    "        m=n\n",
    "        n=h\n",
    "    total = m%n\n",
    "else:\n",
    "    if n > m:\n",
    "        h=m\n",
    "        m=n\n",
    "        n=h\n",
    "    total = m/n\n",
    "print(total)"
   ]
  },
  {
   "cell_type": "markdown",
   "metadata": {},
   "source": [
    "## 练习4\n",
    "英文单词单数转复数，要求输入一个英文动词（单数形式），能够得到其复数形式，或给出单数转复数形式的建议（提示，some_string.endswith(some_letter)函数可以判断某字符串结尾字符，可尝试运行：'myname'.endswith('me')，liupengyuan'.endswith('n')）。"
   ]
  },
  {
   "cell_type": "code",
   "execution_count": 4,
   "metadata": {},
   "outputs": [
    {
     "name": "stdout",
     "output_type": "stream",
     "text": [
      "请输入任意英文动词，以回车结束wish\n",
      "wishes\n"
     ]
    }
   ],
   "source": [
    "word = input('请输入任意英文动词，以回车结束')\n",
    "if word.endswith('y'):  \n",
    "    print(word[:-1] + 'ies')  \n",
    "elif word[-1] in 'sx' or word[-2:] in ['sh', 'ch']:  \n",
    "    print(word + 'es')  \n",
    "elif word.endswith('an'):  \n",
    "    print(word[:-2] + 'en')  \n",
    "else:  \n",
    "    print(word + 's')  "
   ]
  },
  {
   "cell_type": "code",
   "execution_count": null,
   "metadata": {
    "collapsed": true
   },
   "outputs": [],
   "source": []
  }
 ],
 "metadata": {
  "kernelspec": {
   "display_name": "Python 3",
   "language": "python",
   "name": "python3"
  },
  "language_info": {
   "codemirror_mode": {
    "name": "ipython",
    "version": 3
   },
   "file_extension": ".py",
   "mimetype": "text/x-python",
   "name": "python",
   "nbconvert_exporter": "python",
   "pygments_lexer": "ipython3",
   "version": "3.6.1"
  }
 },
 "nbformat": 4,
 "nbformat_minor": 2
}
