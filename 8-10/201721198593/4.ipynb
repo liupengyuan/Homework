{
 "cells": [
  {
   "cell_type": "markdown",
   "metadata": {},
   "source": [
    "# 第四节\n",
    "## 练习 1：仿照求$ \\sum_{i=1}^mi + \\sum_{i=1}^ni  + \\sum_{i=1}^ki$的完整代码，写程序，可求m!+n!+k!"
   ]
  },
  {
   "cell_type": "code",
   "execution_count": 2,
   "metadata": {},
   "outputs": [
    {
     "name": "stdout",
     "output_type": "stream",
     "text": [
      "请输入第1个整数，以回车结束。2\n",
      "请输入第2个整数，以回车结束。3\n",
      "请输入第3个整数，以回车结束。4\n",
      "最终的积是： 288\n"
     ]
    }
   ],
   "source": [
    "n = int(input('请输入第1个整数，以回车结束。'))\n",
    "i = 0\n",
    "total_n = 1\n",
    "while i < n:\n",
    "    i = i + 1\n",
    "    total_n = total_n * i\n",
    "\n",
    "m = int(input('请输入第2个整数，以回车结束。'))\n",
    "i = 0\n",
    "total_m = 1\n",
    "while i < m:\n",
    "    i = i + 1\n",
    "    total_m = total_m * i\n",
    "\n",
    "k = int(input('请输入第3个整数，以回车结束。'))\n",
    "i = 0\n",
    "total_k = 1\n",
    "while i < k:\n",
    "    i = i + 1\n",
    "    total_k = total_k * i\n",
    "\n",
    "print('最终的积是：', total_n * total_m * total_k)"
   ]
  },
  {
   "cell_type": "markdown",
   "metadata": {},
   "source": [
    " ## 练习 2：写函数可返回1 - 1/3 + 1/5 - 1/7...的前n项的和。在主程序中，分别令n=1000及100000，打印4倍该函数的和。"
   ]
  },
  {
   "cell_type": "code",
   "execution_count": 3,
   "metadata": {},
   "outputs": [
    {
     "name": "stdout",
     "output_type": "stream",
     "text": [
      "请输入1000，以回车结束。1000\n",
      "最终的和是： 0.7856479135848861\n",
      "请输入100000，以回车结束。100000\n",
      "最终的和是： 0.7854006633724301\n"
     ]
    }
   ],
   "source": [
    "n = int(input('请输入1000，以回车结束。'))\n",
    "i = 1\n",
    "total_n = 1\n",
    "j = 1\n",
    "while j <= n:\n",
    "    i = i + 2\n",
    "    total_n = total_n + pow(-1,j)/i\n",
    "    j=j+1\n",
    "    \n",
    "print('最终的和是：', total_n)\n",
    "    \n",
    "n = int(input('请输入100000，以回车结束。'))\n",
    "i = 1\n",
    "total_m = 1\n",
    "j = 1\n",
    "while j <= n:\n",
    "    i = i + 2\n",
    "    total_m = total_m + pow(-1,j)/i\n",
    "    j=j+1\n",
    "\n",
    "print('最终的和是：', total_m)"
   ]
  },
  {
   "cell_type": "markdown",
   "metadata": {},
   "source": [
    "## 练习 3：将task3中的练习1及练习4改写为函数，并进行调用。"
   ]
  },
  {
   "cell_type": "markdown",
   "metadata": {},
   "source": [
    "### 写程序，可由键盘读入用户姓名例如Mr. right，让用户输入出生的月份与日期，判断用户星座，假设用户是金牛座，则输出，Mr. right，你是非常有性格的金牛座！。"
   ]
  },
  {
   "cell_type": "markdown",
   "metadata": {},
   "source": [
    "### 英文单词单数转复数，要求输入一个英文动词（单数形式），能够得到其复数形式，或给出单数转复数形式的建议（提示，some_string.endswith(some_letter)函数可以判断某字符串结尾字符，可尝试运行：'myname'.endswith('me')，liupengyuan'.endswith('n')）。"
   ]
  },
  {
   "cell_type": "code",
   "execution_count": 8,
   "metadata": {},
   "outputs": [
    {
     "name": "stdout",
     "output_type": "stream",
     "text": [
      "请输入姓名，以回车结束。郭铭昊\n",
      "请输入您的生日月份，以回车结束。11\n",
      "请输入生日日期，以回车结束。3\n",
      "郭铭昊 ,你是非常腹黑的天蝎座！\n",
      "请输入任意英文动词，以回车结束wish\n",
      "wishes\n"
     ]
    }
   ],
   "source": [
    "#函数定义\n",
    "def determine_constellation():\n",
    "    n = input('请输入姓名，以回车结束。')\n",
    "    m = int(input('请输入您的生日月份，以回车结束。'))\n",
    "    h = int(input('请输入生日日期，以回车结束。'))\n",
    "    \n",
    "    #在这里只给出天蝎座的代码\n",
    "    if m == 10:\n",
    "        if h>22 and h<32:\n",
    "            print(n,',你是非常腹黑的天蝎座！')\n",
    "    elif m == 11:\n",
    "        if h>0 and h<23:\n",
    "            print(n,',你是非常腹黑的天蝎座！')\n",
    "            \n",
    "def Word_change():\n",
    "    word = input('请输入任意英文动词，以回车结束')\n",
    "    if word.endswith('y'):  \n",
    "        print(word[:-1] + 'ies')  \n",
    "    elif word[-1] in 'sx' or word[-2:] in ['sh', 'ch']:  \n",
    "        print(word + 'es')  \n",
    "    elif word.endswith('an'):  \n",
    "        print(word[:-2] + 'en')  \n",
    "    else:  \n",
    "        print(word + 's')  \n",
    "        \n",
    "# 主程序\n",
    "determine_constellation()\n",
    "Word_change()"
   ]
  },
  {
   "cell_type": "markdown",
   "metadata": {},
   "source": [
    "## 挑战性练习：写程序，可以求从整数m到整数n累加的和，间隔为k，求和部分需用函数实现，主程序中由用户输入m，n，k调用函数验证正确性。"
   ]
  },
  {
   "cell_type": "code",
   "execution_count": 9,
   "metadata": {},
   "outputs": [
    {
     "name": "stdout",
     "output_type": "stream",
     "text": [
      "请输入一个较小数字作为m，以回车结束。8\n",
      "请输入一个较大数字作为n，以回车结束。15\n",
      "请输入一个间隔，以回车结束。2\n",
      "最终的和是： 44\n"
     ]
    }
   ],
   "source": [
    "m = int(input('请输入一个较小数字作为m，以回车结束。'))\n",
    "n = int(input('请输入一个较大数字作为n，以回车结束。'))\n",
    "k = int(input('请输入一个间隔，以回车结束。'))\n",
    "i=m\n",
    "total = 0\n",
    "while i <= n:\n",
    "    total = total + i\n",
    "    i=i+k\n",
    "    \n",
    "print('最终的和是：', total)"
   ]
  },
  {
   "cell_type": "code",
   "execution_count": null,
   "metadata": {
    "collapsed": true
   },
   "outputs": [],
   "source": []
  }
 ],
 "metadata": {
  "kernelspec": {
   "display_name": "Python 3",
   "language": "python",
   "name": "python3"
  },
  "language_info": {
   "codemirror_mode": {
    "name": "ipython",
    "version": 3
   },
   "file_extension": ".py",
   "mimetype": "text/x-python",
   "name": "python",
   "nbconvert_exporter": "python",
   "pygments_lexer": "ipython3",
   "version": "3.6.1"
  }
 },
 "nbformat": 4,
 "nbformat_minor": 2
}
