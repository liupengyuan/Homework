{
 "cells": [
  {
   "cell_type": "code",
   "execution_count": 16,
   "metadata": {},
   "outputs": [
    {
     "name": "stdout",
     "output_type": "stream",
     "text": [
      "请输入n,m,k(以空格隔开):5 10 50\n",
      "第 1 个随机数为： 11\n",
      "第 2 个随机数为： 50\n",
      "第 3 个随机数为： 46\n",
      "第 4 个随机数为： 14\n",
      "第 5 个随机数为： 48\n",
      "这n个数的均值平方根为： 5.039841267341661\n"
     ]
    }
   ],
   "source": [
    "#### 练习 1：写函数，求n个随机整数均值的平方根，整数范围在m与k之间（n,m,k由用户输入）。\n",
    "import random\n",
    "import math\n",
    "def answer(a,n):\n",
    "    if(len(a)!=n):\n",
    "        return False\n",
    "    s=0\n",
    "    for i in a:\n",
    "        s=s+i\n",
    "    return  math.sqrt(s/n)\n",
    "i=0\n",
    "nmk=input('请输入n,m,k(以空格隔开):')\n",
    "a=nmk.split(' ')\n",
    "number=[]\n",
    "while(i<(int(a[0]))):\n",
    "         print('第',i+1,'个随机数为：',random.randint(int(a[1]),int(a[2])))\n",
    "         number.append(random.randint(int(a[1]),int(a[2])))\n",
    "         i=i+1\n",
    "print('这n个数的均值平方根为：',answer(number,int(a[0])))"
   ]
  },
  {
   "cell_type": "code",
   "execution_count": 19,
   "metadata": {},
   "outputs": [
    {
     "name": "stdout",
     "output_type": "stream",
     "text": [
      "请输入n,m,k(以空格隔开):5 10 50\n",
      "第 1 个随机数为： 22\n",
      "第 2 个随机数为： 48\n",
      "第 3 个随机数为： 45\n",
      "第 4 个随机数为： 20\n",
      "第 5 个随机数为： 49\n",
      "结果： (16.673016434589524, 1.532035668234216)\n"
     ]
    }
   ],
   "source": [
    "#练习 2：写函数，共n个随机整数，整数范围在m与k之间，（n,m,k由用户输入）。\n",
    "#求1：∑log(随机整数)，2：∑1/log(随机整数)\n",
    "import random\n",
    "import math\n",
    "def answer(a):\n",
    "    s1=0\n",
    "    s2=0\n",
    "    for i in a:\n",
    "        p=math.log(i)\n",
    "        s1=s1+p\n",
    "        q=1/math.log(i)\n",
    "        s2=s2+q\n",
    "    return s1,s2\n",
    "i=0\n",
    "nmk=input('请输入n,m,k(以空格隔开):')\n",
    "a=nmk.split(' ')\n",
    "number=[]\n",
    "while(i<(int(a[0]))):\n",
    "         print('第',i+1,'个随机数为：',random.randint(int(a[1]),int(a[2])))\n",
    "         number.append(random.randint(int(a[1]),int(a[2])))\n",
    "         i=i+1\n",
    "print('结果：',answer(number))"
   ]
  }
 ],
 "metadata": {
  "kernelspec": {
   "display_name": "Python 3",
   "language": "python",
   "name": "python3"
  },
  "language_info": {
   "codemirror_mode": {
    "name": "ipython",
    "version": 3
   },
   "file_extension": ".py",
   "mimetype": "text/x-python",
   "name": "python",
   "nbconvert_exporter": "python",
   "pygments_lexer": "ipython3",
   "version": "3.6.0"
  }
 },
 "nbformat": 4,
 "nbformat_minor": 2
}
