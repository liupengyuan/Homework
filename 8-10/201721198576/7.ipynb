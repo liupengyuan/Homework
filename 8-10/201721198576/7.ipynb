{
 "cells": [
  {
   "cell_type": "code",
   "execution_count": 1,
   "metadata": {},
   "outputs": [
    {
     "name": "stdout",
     "output_type": "stream",
     "text": [
      "请输入一个字符串：hello\n",
      "它的倒序字符串为： olleh\n"
     ]
    }
   ],
   "source": [
    "#练习一：自己定义一个reverse(s)函数，功能返回字符串s的倒序字符串。\n",
    "def reverse(str):\n",
    "    n=len(str)-1\n",
    "    re=[]\n",
    "    while(n>=0):\n",
    "        re.append(str[n])\n",
    "        n=n-1\n",
    "    return ''.join(re)\n",
    "str=input('请输入一个字符串：')\n",
    "print('它的倒序字符串为：',reverse(str))"
   ]
  },
  {
   "cell_type": "code",
   "execution_count": 36,
   "metadata": {},
   "outputs": [
    {
     "name": "stdout",
     "output_type": "stream",
     "text": [
      "-------------等腰正三角形---------------\n",
      "    *\n",
      "   ***\n",
      "  *****\n",
      " *******\n",
      "*********\n",
      "-------------等腰倒三角形---------------\n",
      "*********\n",
      " *******\n",
      "  *****\n",
      "   ***\n",
      "    *\n",
      "-------------空心三角形---------------\n",
      "    *\n",
      "   * *\n",
      "  *   *\n",
      " *     *\n",
      "*********\n",
      "-------------左下直角三角形---------------\n",
      "*\n",
      "***\n",
      "*****\n",
      "*******\n",
      "*********\n",
      "-------------右下直角三角形---------------\n",
      "        *\n",
      "      ***\n",
      "    *****\n",
      "  *******\n",
      "*********\n",
      "-------------左上直角三角形---------------\n",
      "*********\n",
      "*******\n",
      "*****\n",
      "***\n",
      "*\n",
      "-------------右上直角三角形---------------\n",
      "*********\n",
      "  *******\n",
      "    *****\n",
      "      ***\n",
      "        *\n"
     ]
    }
   ],
   "source": [
    "#练习二：写函数，根据给定符号和行数，打印相应直角三角形，等腰三角形及其他形式的三角形。\n",
    "# 用符号*，给出行数n\n",
    "\n",
    "def DengYao(n):\n",
    "    for i in range(1,n+1):\n",
    "        print(' '*(n-i)+'*'*(2*i-1))\n",
    "def DengYao2(n):\n",
    "    for i in range(1,n+1):\n",
    "        print(' '*(i-1)+'*'*(2*n-2*i+1))\n",
    "def DengYao3(n):\n",
    "    for i in range(1,n+1):\n",
    "        if(i==1):\n",
    "            print(' '*(n-i)+'*')\n",
    "        elif(i==n):\n",
    "            print(' '*(n-i)+'*'*(2*i-1))\n",
    "        else:\n",
    "            print(' '*(n-i)+'*'+' '*(2*i-3)+'*')\n",
    "def ZhiJiao1(n):\n",
    "    for i in range(1,n+1):\n",
    "        print('*'*(2*i-1))\n",
    "def ZhiJiao2(n):\n",
    "    for i in range(1,n+1):\n",
    "        print(' '*(2*n-i*2)+'*'*(2*i-1))\n",
    "def ZhiJiao3(n):\n",
    "    for i in range(1,n+1):\n",
    "        print('*'*(2*n-2*i+1))\n",
    "def ZhiJiao4(n):\n",
    "    for i in range(1,n+1):\n",
    "        print(' '*(2*i-2)+'*'*(2*n-2*i+1))        \n",
    "print('-------------等腰正三角形---------------')\n",
    "DengYao1(5)\n",
    "print('-------------等腰倒三角形---------------')\n",
    "DengYao2(5)\n",
    "print('-------------空心三角形---------------')\n",
    "DengYao3(5)\n",
    "print('-------------左下直角三角形---------------')\n",
    "ZhiJiao1(5)\n",
    "print('-------------右下直角三角形---------------')\n",
    "ZhiJiao2(5)\n",
    "print('-------------左上直角三角形---------------')\n",
    "ZhiJiao3(5)\n",
    "print('-------------右上直角三角形---------------')\n",
    "ZhiJiao4(5)"
   ]
  },
  {
   "cell_type": "code",
   "execution_count": 39,
   "metadata": {},
   "outputs": [
    {
     "name": "stdout",
     "output_type": "stream",
     "text": [
      "------实心菱形--------\n",
      "    *\n",
      "   ***\n",
      "  *****\n",
      " *******\n",
      "*********\n",
      " *******\n",
      "  *****\n",
      "   ***\n",
      "    *\n",
      "------空心菱形--------\n",
      "    *\n",
      "   * *\n",
      "  *   *\n",
      " *     *\n",
      "*       *\n",
      " *     *\n",
      "  *   *\n",
      "   * *\n",
      "    *\n"
     ]
    }
   ],
   "source": [
    "#练习五：写函数，根据给定符号，打印各种菱形。\n",
    "def LingXing1(n):\n",
    "    for i in range(1,n+1):\n",
    "        print(' '*(n-i)+'*'*(2*i-1))\n",
    "    for i in range(2,n+1):\n",
    "        print(' '*(i-1)+'*'*(2*n-2*i+1))\n",
    "def LingXing2(n):\n",
    "    for i in range(1,n+1):\n",
    "        if(i==1):\n",
    "            print(' '*(n-i)+'*')\n",
    "        else:\n",
    "            print(' '*(n-i)+'*'+' '*(2*i-3)+'*')\n",
    "    \n",
    "    for i in range(2,n+1):\n",
    "        if(i==n):\n",
    "            print(' '*(i-1)+'*')\n",
    "        else:\n",
    "            print(' '*(i-1)+'*'+' '*(2*n-2*i-1)+'*')\n",
    "print('------实心菱形--------')\n",
    "LingXing1(5)\n",
    "print('------空心菱形--------')\n",
    "LingXing2(5)"
   ]
  }
 ],
 "metadata": {
  "kernelspec": {
   "display_name": "Python 3",
   "language": "python",
   "name": "python3"
  },
  "language_info": {
   "codemirror_mode": {
    "name": "ipython",
    "version": 3
   },
   "file_extension": ".py",
   "mimetype": "text/x-python",
   "name": "python",
   "nbconvert_exporter": "python",
   "pygments_lexer": "ipython3",
   "version": "3.6.0"
  }
 },
 "nbformat": 4,
 "nbformat_minor": 2
}
