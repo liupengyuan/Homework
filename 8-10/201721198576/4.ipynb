{
 "cells": [
  {
   "cell_type": "code",
   "execution_count": 7,
   "metadata": {},
   "outputs": [
    {
     "name": "stdout",
     "output_type": "stream",
     "text": [
      "第一个整数为：2\n",
      "第二个整数为：3\n",
      "第三个整数为：4\n",
      "他们的阶乘之和为： 32\n"
     ]
    }
   ],
   "source": [
    "#练习1 求m!+n!+k!\n",
    "def JC(n):\n",
    "    i=0\n",
    "    s=1\n",
    "    while(i<n):\n",
    "        i=i+1\n",
    "        s=s*i\n",
    "    return s\n",
    "n=int(input('第一个整数为：'))\n",
    "m=int(input('第二个整数为：'))\n",
    "k=int(input('第三个整数为：'))\n",
    "print('他们的阶乘之和为：',JC(n)+JC(m)+JC(k))"
   ]
  },
  {
   "cell_type": "code",
   "execution_count": 19,
   "metadata": {},
   "outputs": [
    {
     "name": "stdout",
     "output_type": "stream",
     "text": [
      "785.5407375416781 7854.124320556784\n"
     ]
    }
   ],
   "source": [
    "#练习2\n",
    "#写函数可返回1 - 1/3 + 1/5 - 1/7...的前n项的和。在主程序中，\n",
    "#分别令n=1000及100000，打印4倍该函数的和。\n",
    "\n",
    "def Sn(n):\n",
    "   i=0\n",
    "   s=0\n",
    "   while(i<n):\n",
    "      i=i+1\n",
    "      a=pow(-1,i+1)*(1/(2*i-1))\n",
    "      s=s+a\n",
    "   return s\n",
    "def SSn(n):\n",
    "    i=0\n",
    "    S=0\n",
    "    while(i<n):\n",
    "       i=i+1\n",
    "       S=S+Sn(i)\n",
    "    return S\n",
    "print(SSn(1000),SSn(10000))"
   ]
  },
  {
   "cell_type": "code",
   "execution_count": 8,
   "metadata": {},
   "outputs": [
    {
     "name": "stdout",
     "output_type": "stream",
     "text": [
      "请输入姓名；胡紫娟\n",
      "请输入生日月份：10\n",
      "请输入生日日期：05\n",
      "胡紫娟 你是非常有性格的： 天秤座\n"
     ]
    }
   ],
   "source": [
    "#练习3 将task3中的练习1及练习4改写为函数，并进行调用。\n",
    "#task3的练习1\n",
    "def get_xz(month, date):\n",
    "    dates = (21, 20, 21, 21, 22, 22, 23, 24, 24, 24, 23, 22)\n",
    "    constellations = (\"摩羯座\", \"水瓶座\", \"双鱼座\", \"白羊座\", \"金牛座\", \"双子座\", \"巨蟹座\", \"狮子座\", \"处女座\", \"天秤座\", \"天蝎座\", \"射手座\", \"摩羯座\")\n",
    "    if date < dates[month-1]:\n",
    "         return constellations[month-1]\n",
    "    else:\n",
    "         return constellations[month]\n",
    "name=input('请输入姓名；')\n",
    "month=input('请输入生日月份：')\n",
    "date=input('请输入生日日期：')\n",
    "print(name,'你是非常有性格的：',get_xz(int(month), int(date)))\n"
   ]
  },
  {
   "cell_type": "code",
   "execution_count": 3,
   "metadata": {},
   "outputs": [
    {
     "name": "stdout",
     "output_type": "stream",
     "text": [
      "输入一个动词的单数形式（#退出）：has\n",
      "has 的复数形式为： have\n",
      "输入一个动词的单数形式（#退出）：go\n",
      "go 的复数形式为： goes\n",
      "输入一个动词的单数形式（#退出）：envy\n",
      "envi 的复数形式为： envies\n",
      "输入一个动词的单数形式（#退出）：like\n",
      "like 的复数形式为： likes\n",
      "输入一个动词的单数形式（#退出）：#\n",
      "退出\n"
     ]
    }
   ],
   "source": [
    "#task3的练习4  \n",
    "\n",
    "\n",
    "def Is_guize_es(str):\n",
    "    str=list(str)\n",
    "    b=False\n",
    "    if(str[-1]=='o' or str[-1]=='s' or str[-1]=='x' ):\n",
    "        if(''.join(str)=='has'):\n",
    "             b=False\n",
    "        else:\n",
    "             b=True\n",
    "    sub_str=str[len(str)-2:]\n",
    "    if(sub_str=='sh' or sub_str=='ch'):\n",
    "        b=True\n",
    "    return b\n",
    "\n",
    "while(1):\n",
    "    verb=input('输入一个动词的单数形式（#退出）：')\n",
    "    if(verb=='#'):\n",
    "        print('退出')\n",
    "        break\n",
    "    if(verb.endswith('y')):\n",
    "        verb=list(verb)\n",
    "        verb[-1]='i'\n",
    "        verb=''.join(verb)\n",
    "        verbs=verb+'es'\n",
    "    elif(Is_guize_es(verb)==True):\n",
    "        verbs=verb+'es'\n",
    "    elif(verb =='has'):\n",
    "        verbs='have'\n",
    "    else:\n",
    "        verbs=verb+'s'\n",
    "    print(verb,'的复数形式为：',verbs)"
   ]
  },
  {
   "cell_type": "code",
   "execution_count": 24,
   "metadata": {},
   "outputs": [
    {
     "name": "stdout",
     "output_type": "stream",
     "text": [
      "请输入m:3\n",
      "请输入n:15\n",
      "请输入k:2\n",
      "结果为： 63\n"
     ]
    }
   ],
   "source": [
    "#挑战性练习：写程序，可以求从整数m到整数n累加的和，间隔为k，求和部分需用函数实现，\n",
    "#主程序中由用户输入m，n，k调用函数验证正确性。\n",
    "def sum_(m,n,k):#m<n\n",
    "    i=0\n",
    "    j=m\n",
    "    s=0\n",
    "    while(j<n):\n",
    "        j=m+i*k\n",
    "        s=s+j\n",
    "        i=i+1\n",
    "    return s\n",
    "m=int(input('请输入m:'))\n",
    "n=int(input('请输入n:'))\n",
    "k=int(input('请输入k:'))\n",
    "print('结果为：',sum_(m,n,k))"
   ]
  },
  {
   "cell_type": "code",
   "execution_count": null,
   "metadata": {},
   "outputs": [],
   "source": []
  }
 ],
 "metadata": {
  "kernelspec": {
   "display_name": "Python 3",
   "language": "python",
   "name": "python3"
  },
  "language_info": {
   "codemirror_mode": {
    "name": "ipython",
    "version": 3
   },
   "file_extension": ".py",
   "mimetype": "text/x-python",
   "name": "python",
   "nbconvert_exporter": "python",
   "pygments_lexer": "ipython3",
   "version": "3.6.0"
  }
 },
 "nbformat": 4,
 "nbformat_minor": 2
}
