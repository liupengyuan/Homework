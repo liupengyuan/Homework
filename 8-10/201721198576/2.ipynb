{
 "cells": [
  {
   "cell_type": "code",
   "execution_count": 5,
   "metadata": {},
   "outputs": [
    {
     "name": "stdout",
     "output_type": "stream",
     "text": [
      "请输入一个正整数（否则终止计算）：\n",
      "3\n",
      "3 != 6\n",
      "请输入一个正整数（否则终止计算）：\n",
      "5\n",
      "5 != 120\n",
      "请输入一个正整数（否则终止计算）：\n",
      "f\n",
      "输入不合法,终止计算n!：\n"
     ]
    }
   ],
   "source": [
    "#练习1  打印n!\n",
    "\n",
    "while(1):\n",
    "    print('请输入一个正整数（否则终止计算）：')\n",
    "    n=input()\n",
    "    if(n.isdigit()==True and int(n)>0):\n",
    "        n=int(n)\n",
    "        s=1\n",
    "        i=0\n",
    "        while(i<n):\n",
    "            i=i+1\n",
    "            s=s*i \n",
    "    else:\n",
    "        print('输入不合法,终止计算n!：')\n",
    "        break\n",
    "        \n",
    "    print(n,'!=',s)"
   ]
  },
  {
   "cell_type": "code",
   "execution_count": 7,
   "metadata": {
    "scrolled": true
   },
   "outputs": [
    {
     "name": "stdout",
     "output_type": "stream",
     "text": [
      "请输入你的姓名，以回车结束。胡紫娟\n",
      "你好 胡紫娟\n",
      "请输入一个正整数，以回车结束。3\n",
      "请输入一个正整数，以回车结束。6\n",
      "两个数的和是： 9\n",
      "再见！ 胡紫娟\n"
     ]
    }
   ],
   "source": [
    "#实践1\n",
    "name = input('请输入你的姓名，以回车结束。')\n",
    "print('你好', name)\n",
    "n = int(input('请输入一个正整数，以回车结束。'))\n",
    "m = int(input('请输入一个正整数，以回车结束。'))\n",
    "\n",
    "print('两个数的和是：', m+n)\n",
    "print('再见！', name)\n"
   ]
  },
  {
   "cell_type": "code",
   "execution_count": 3,
   "metadata": {},
   "outputs": [
    {
     "name": "stdout",
     "output_type": "stream",
     "text": [
      "请输入整数个数，以回车结束：5\n",
      "请输入第 1 个整数：\n",
      "4\n",
      "请输入第 2 个整数：\n",
      "7\n",
      "请输入第 3 个整数：\n",
      "3\n",
      "请输入第 4 个整数：\n",
      "9\n",
      "请输入第 5 个整数：\n",
      "0\n",
      "这 5 个数和为： 23\n"
     ]
    }
   ],
   "source": [
    "#练习2  写出由用户指定整数个数，并由用户输入多个整数，并求和的代码\n",
    "\n",
    "n=int(input('请输入整数个数，以回车结束：'))\n",
    "s=0\n",
    "i=0\n",
    "while(i<n):\n",
    "    i=i+1\n",
    "    print('请输入第',i,'个整数：')\n",
    "    m=int(input())\n",
    "    s=s+m\n",
    "print('这',n,'个数和为：',s)"
   ]
  },
  {
   "cell_type": "code",
   "execution_count": 11,
   "metadata": {
    "scrolled": true
   },
   "outputs": [
    {
     "name": "stdout",
     "output_type": "stream",
     "text": [
      "请输入第 1 个整数：(输入任意非数字终止)\n",
      "3\n",
      "请输入第 2 个整数：(输入任意非数字终止)\n",
      "-9\n",
      "请输入第 3 个整数：(输入任意非数字终止)\n",
      "23\n",
      "请输入第 4 个整数：(输入任意非数字终止)\n",
      "f\n",
      "以上 3 个数的和为： 17\n"
     ]
    }
   ],
   "source": [
    "#练习3  用户可以输入的任意多个数字，直到用户不想输入为止\n",
    "def IsHF(str):\n",
    "    b=True\n",
    "    for i in str:\n",
    "        if(i.isdigit()==False and i!='-'):\n",
    "            b=False\n",
    "    return b\n",
    "i=0\n",
    "s=0\n",
    "while(1):\n",
    "    i=i+1\n",
    "    print('请输入第',i,'个整数：(输入任意非数字终止)')\n",
    "    m=input()\n",
    "    if(IsHF(m)==False):\n",
    "        break\n",
    "    else:\n",
    "        s=s+int(m)\n",
    "        \n",
    "print('以上',i-1,'个数的和为：',s)"
   ]
  },
  {
   "cell_type": "code",
   "execution_count": 2,
   "metadata": {},
   "outputs": [
    {
     "name": "stdout",
     "output_type": "stream",
     "text": [
      "请输入第 1 个整数：\n",
      "-20\n",
      "请输入第 2 个整数：\n",
      "d\n",
      "输入非法,请继续输入：\n",
      "请输入第 2 个整数：\n",
      "10\n",
      "请输入第 3 个整数：\n",
      "-6\n",
      "输入终止\n",
      "以上有效数字之和为： -16\n",
      "以上有效数字之积为： 1200\n"
     ]
    }
   ],
   "source": [
    "#练习4  用户可以输入的任意多个数字，直到: 输入所有数字的和比当前输入数字小，且输入所有数字的积大于500\n",
    "def IsHF(str):\n",
    "    b=True\n",
    "    for i in str:\n",
    "        if((i.isdigit()==False )and(i!='-')):\n",
    "            b=False\n",
    "    return b\n",
    "i=0\n",
    "s=0\n",
    "t=1\n",
    "while(1):\n",
    "    print('请输入第',i+1,'个整数：')\n",
    "    m=input()\n",
    "    if(IsHF(m)==False):\n",
    "        print(\"输入非法,请继续输入：\")\n",
    "        continue\n",
    "    else:\n",
    "        s=s+int(m)\n",
    "        t=t*int(m)\n",
    "        i=i+1\n",
    "        if(s<int(m) and t>500):\n",
    "            print('输入终止')\n",
    "            break\n",
    "print('以上有效数字之和为：',s)\n",
    "print('以上有效数字之积为：',t)"
   ]
  },
  {
   "cell_type": "code",
   "execution_count": null,
   "metadata": {},
   "outputs": [],
   "source": []
  }
 ],
 "metadata": {
  "kernelspec": {
   "display_name": "Python 3",
   "language": "python",
   "name": "python3"
  },
  "language_info": {
   "codemirror_mode": {
    "name": "ipython",
    "version": 3
   },
   "file_extension": ".py",
   "mimetype": "text/x-python",
   "name": "python",
   "nbconvert_exporter": "python",
   "pygments_lexer": "ipython3",
   "version": "3.6.0"
  }
 },
 "nbformat": 4,
 "nbformat_minor": 2
}
