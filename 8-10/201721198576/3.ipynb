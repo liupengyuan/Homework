{
 "cells": [
  {
   "cell_type": "code",
   "execution_count": 8,
   "metadata": {},
   "outputs": [
    {
     "name": "stdout",
     "output_type": "stream",
     "text": [
      "请输入两个整数：\n",
      "第一个为：3\n",
      "第二个为（不能为0）6\n",
      "有如下操作:\n",
      "1 和\n",
      "2 积\n",
      "3 余数\n",
      "4 商\n",
      "请选择4\n",
      "商 的结果为： 0.5\n"
     ]
    }
   ],
   "source": [
    "#练习2   写程序，可由键盘读入两个整数m与n(n不等于0)，询问用户意图，\n",
    "#如果要求和则计算从m到n的和输出，如果要乘积则计算从m到n的积并输出，\n",
    "#如果要求余数则计算m除以n的余数的值并输出，否则则计算m整除n的值并输出。\n",
    "def IsHF(str):\n",
    "    b=True\n",
    "    for i in str:\n",
    "        if((i.isdigit()==False )and(i!='-')):\n",
    "            b=False\n",
    "    return b\n",
    "print('请输入两个整数：')\n",
    "m=input('第一个为：')\n",
    "n=input('第二个为（不能为0）')\n",
    "m=int(m)\n",
    "n=int(n)\n",
    "op=['和','积','余数','商']\n",
    "print('有如下操作:')\n",
    "j=0\n",
    "for i in op:\n",
    "    j=j+1\n",
    "    print(j,i)\n",
    "opp=int(input('请选择'))\n",
    "if(opp==1):\n",
    "    result=m+n\n",
    "elif(opp==2):\n",
    "    result=m*n \n",
    "elif(opp==3):\n",
    "    result=m%n \n",
    "else:\n",
    "    result=m/n\n",
    "print(op[opp-1],'的结果为：',result)"
   ]
  },
  {
   "cell_type": "code",
   "execution_count": 7,
   "metadata": {},
   "outputs": [
    {
     "name": "stdout",
     "output_type": "stream",
     "text": [
      "输入一个动词的单数形式（#退出）：go\n",
      "go 的复数形式为： goes\n",
      "输入一个动词的单数形式（#退出）：has\n",
      "has 的复数形式为： hases\n",
      "输入一个动词的单数形式（#退出）：speak\n",
      "speak 的复数形式为： speaks\n",
      "输入一个动词的单数形式（#退出）：#\n",
      "退出\n"
     ]
    }
   ],
   "source": [
    "#练习4  英文单词单数转复数，要求输入一个英文动词（单数形式），\n",
    "#能够得到其复数形式，或给出单数转复数形式的建议\n",
    "\n",
    "\n",
    "def Is_guize_es(str):\n",
    "    str=list(str)\n",
    "    b=False\n",
    "    if(str[-1]=='o' or str[-1]=='s' or str[-1]=='x' ):\n",
    "        b=True\n",
    "    sub_str=str[len(str)-2:]\n",
    "    if(sub_str=='sh' or sub_str=='ch'):\n",
    "        b=true\n",
    "    return b\n",
    "while(1):\n",
    "    verb=input('输入一个动词的单数形式（#退出）：')\n",
    "    if(verb=='#'):\n",
    "        print('退出')\n",
    "        break\n",
    "    if(verb.endswith('y')):\n",
    "        verb=list(verb)\n",
    "        verb[-1]='i'\n",
    "        verbs=''.join(verb.extend('es'))\n",
    "    elif(Is_guize_es(verb)):\n",
    "        verbs=verb+'es'\n",
    "    elif(verb =='has'):\n",
    "        verbs='have'\n",
    "    else:\n",
    "        verbs=verb+'s'\n",
    "    print(verb,'的复数形式为：',verbs)"
   ]
  }
 ],
 "metadata": {
  "kernelspec": {
   "display_name": "Python 3",
   "language": "python",
   "name": "python3"
  },
  "language_info": {
   "codemirror_mode": {
    "name": "ipython",
    "version": 3
   },
   "file_extension": ".py",
   "mimetype": "text/x-python",
   "name": "python",
   "nbconvert_exporter": "python",
   "pygments_lexer": "ipython3",
   "version": "3.6.0"
  }
 },
 "nbformat": 4,
 "nbformat_minor": 2
}
