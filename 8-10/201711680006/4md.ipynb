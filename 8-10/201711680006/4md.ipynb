{
 "cells": [
  {
   "cell_type": "code",
   "execution_count": 1,
   "metadata": {},
   "outputs": [
    {
     "name": "stdout",
     "output_type": "stream",
     "text": [
      "请输入第1个整数，以回车结束。2\n",
      "请输入第2个整数，以回车结束。4\n",
      "请输入第3个整数，以回车结束。6\n",
      "最终的和是： 746\n"
     ]
    }
   ],
   "source": [
    "#练习 1：仿照完整代码，写程序，可求m!+n!+k!\n",
    "\n",
    "def compute_sum(end):\n",
    "    i = 1\n",
    "    total_n = 1\n",
    "\n",
    "    while i < end:\n",
    "        i = i + 1\n",
    "        total_n = total_n * i\n",
    "\n",
    "    return total_n\n",
    "\n",
    "n = int(input('请输入第1个整数，以回车结束。'))\n",
    "m = int(input('请输入第2个整数，以回车结束。'))\n",
    "k = int(input('请输入第3个整数，以回车结束。'))\n",
    "\n",
    "print('最终的和是：', compute_sum(m) + compute_sum(n) + compute_sum(k))"
   ]
  },
  {
   "cell_type": "code",
   "execution_count": 5,
   "metadata": {},
   "outputs": [
    {
     "name": "stdout",
     "output_type": "stream",
     "text": [
      "n=1000时， 3.142593654340044\n",
      "n=100000时， 3.1416026536897204\n"
     ]
    }
   ],
   "source": [
    "#练习 2：写函数可返回1 - 1/3 + 1/5 - 1/7...的前n项的和。在主程序中，分别令n=1000及100000，打印4倍该函数的和。\n",
    "def sum_number(end):\n",
    "    i = 1\n",
    "    total_n = 0\n",
    "\n",
    "    while i < end:\n",
    "        if i%2==0:\n",
    "            total_n = total_n - 1/((2*i)-1)\n",
    "        else:\n",
    "            total_n = total_n + 1/((2*i)-1)\n",
    "        i +=1\n",
    "\n",
    "    return total_n\n",
    "\n",
    "\n",
    "print('n=1000时，',4*sum_number(1000))\n",
    "print('n=100000时，',4*sum_number(100000))"
   ]
  },
  {
   "cell_type": "code",
   "execution_count": 8,
   "metadata": {},
   "outputs": [
    {
     "name": "stdout",
     "output_type": "stream",
     "text": [
      "请输入您的姓名，以回车结束。jjk\n",
      "请输入您的出生月份1~12，以回车结束。9\n",
      "请输入您的出生日期1~31，以回车结束。1\n",
      "jjk,你是黄金的处女座！\n"
     ]
    }
   ],
   "source": [
    "#练习 3：将task3中的练习1改写为函数，并进行调用。\n",
    "#练习 1：写程序，可由键盘读入用户姓名例如Mr. right，让用户输入出生的月份与日期，判断用户星座，\n",
    "#假设用户是金牛座，则输出，Mr. right，你是非常有性格的金牛座！。\n",
    "def constellation():\n",
    "    name=input('请输入您的姓名，以回车结束。')\n",
    "    month=int(input('请输入您的出生月份1~12，以回车结束。'))\n",
    "    day=int(input('请输入您的出生日期1~31，以回车结束。'))\n",
    "    if (month==3 and 21<=day<=31) or (month==4 and 1<=day<=19):\n",
    "        print (name,'你是可爱的白羊座！',sep = ',')\n",
    "    elif (month==4 and 20<=day<=30) or (month==5 and 1<=day<=20):\n",
    "        print (name,'你是帅气的金牛座！',sep = ',')\n",
    "    elif (month==5 and 21<=day<=31) or (month==6 and 1<=day<=21):\n",
    "        print (name,'你是精分的双子座！',sep = ',')\n",
    "    elif (month==6 and 22<=day<=30) or (month==7 and 1<=day<=22):\n",
    "        print (name,'你是恋家的巨蟹座！',sep = ',')\n",
    "    elif (month==7 and 23<=day<=31) or (month==8 and 1<=day<=22):\n",
    "        print (name,'你是王者气质的狮子座！',sep = ',')\n",
    "    elif (month==8 and 23<=day<=31) or (month==9 and 1<=day<=22):\n",
    "        print (name,'你是黄金的处女座！',sep = ',')\n",
    "    elif (month==9 and 23<=day<=30) or (month==10 and 1<=day<=23):\n",
    "        print (name,'你是优雅的天秤座！',sep = ',')\n",
    "    elif (month==10 and 24<=day<=31) or (month==11 and 1<=day<=22):\n",
    "        print (name,'你是腹黑的天蝎座！',sep = ',')\n",
    "    elif (month==11 and 23<=day<=30) or (month==12 and 1<=day<=21):\n",
    "        print (name,'你是活泼的射手座！',sep = ',')\n",
    "    elif (month==12 and 22<=day<=31) or (month==1 and 1<=day<=19):\n",
    "        print (name,'你是四次元的摩羯座！',sep = ',')\n",
    "    elif (month==1 and 20<=day<=31) or (month==2 and 1<=day<=18):\n",
    "        print (name,'你是漂亮的水瓶座！',sep = ',')\n",
    "    elif (month==2 and 19<=day<=29) or (month==3 and 1<=day<=20):\n",
    "        print (name,'你是温柔的双鱼座！',sep = ',')\n",
    "        \n",
    "constellation()\n"
   ]
  },
  {
   "cell_type": "code",
   "execution_count": 7,
   "metadata": {},
   "outputs": [
    {
     "name": "stdout",
     "output_type": "stream",
     "text": [
      "请输入一个英语名词,回车结束。nut\n",
      "nuts\n"
     ]
    }
   ],
   "source": [
    "#练习 3：将task3中的练习4改写为函数，并进行调用。\n",
    "#练习 4：英文单词单数转复数，要求输入一个英文动词（单数形式），能够得到其复数形式，或给出单数转复数形式的建议。\n",
    "def word_plural():\n",
    "    noun = input('请输入一个英语名词,回车结束。')\n",
    "    if noun.endswith('s'):  \n",
    "        t=str('es')\n",
    "        print(noun+t)\n",
    "    elif noun.endswith('sh'):\n",
    "        t=str('es')\n",
    "        print(noun+t)\n",
    "    elif noun.endswith('ch'):\n",
    "        t=str('es')\n",
    "        print(noun+t)\n",
    "    elif noun.endswith('x'):\n",
    "        t=str('es')\n",
    "        print(noun+t)\n",
    "    elif noun.endswith('o'):\n",
    "        print('该名词变为复数时根据前字母可能加s或es')\n",
    "    elif noun.endswith('y'):    \n",
    "        print('该名词变为复数时大多把y变i加es')\n",
    "    elif noun.endswith('f'): \n",
    "        print('该名词变为复数时大多把末尾的f变为v加es')\n",
    "    elif noun.endswith('fe'): \n",
    "        print('该名词变为复数时大多把末尾的fe变为v加es')\n",
    "    else:\n",
    "        t=str('s')\n",
    "        print(noun+t)\n",
    "word_plural()"
   ]
  },
  {
   "cell_type": "code",
   "execution_count": 9,
   "metadata": {},
   "outputs": [
    {
     "name": "stdout",
     "output_type": "stream",
     "text": [
      "请输入第一个整数，以回车结束：3\n",
      "请输入第二个整数，以回车结束：6\n",
      "请输入第三个整数作为间隔，以回车结束：3\n",
      "m到n之间以k为间隔的整数累加和： 9\n"
     ]
    }
   ],
   "source": [
    "#挑战性练习：写程序，可以求从整数m到整数n累加的和，间隔为k，\n",
    "#求和部分需用函数实现，主程序中由用户输入m，n，k调用函数验证正确性。\n",
    "m=int(input('请输入第一个整数，以回车结束：'))\n",
    "n=int(input('请输入第二个整数，以回车结束：'))\n",
    "k=int(input('请输入第三个整数作为间隔，以回车结束：'))\n",
    "def sum_number(m):\n",
    "    i=m\n",
    "    total=m\n",
    "    while i<n:\n",
    "        i+=k\n",
    "        total +=i\n",
    "    return total\n",
    "\n",
    "print('m到n之间以k为间隔的整数累加和：',sum_number(m))"
   ]
  },
  {
   "cell_type": "code",
   "execution_count": null,
   "metadata": {},
   "outputs": [],
   "source": []
  }
 ],
 "metadata": {
  "kernelspec": {
   "display_name": "Python 3",
   "language": "python",
   "name": "python3"
  },
  "language_info": {
   "codemirror_mode": {
    "name": "ipython",
    "version": 3
   },
   "file_extension": ".py",
   "mimetype": "text/x-python",
   "name": "python",
   "nbconvert_exporter": "python",
   "pygments_lexer": "ipython3",
   "version": "3.6.0"
  }
 },
 "nbformat": 4,
 "nbformat_minor": 2
}
