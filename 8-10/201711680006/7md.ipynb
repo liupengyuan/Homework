{
 "cells": [
  {
   "cell_type": "code",
   "execution_count": 1,
   "metadata": {},
   "outputs": [
    {
     "name": "stdout",
     "output_type": "stream",
     "text": [
      "bts\n",
      "stb\n"
     ]
    }
   ],
   "source": [
    "#练习一：自己定义一个reverse(s)函数，功能返回字符串s的倒序字符串。\n",
    "line=s=input()\n",
    "def reverse(s):\n",
    "    print(line[::-1])\n",
    "reverse(s)"
   ]
  },
  {
   "cell_type": "code",
   "execution_count": 1,
   "metadata": {},
   "outputs": [
    {
     "name": "stdout",
     "output_type": "stream",
     "text": [
      "请输入行数5\n",
      "请输入喜欢的字符i\n",
      "i\n",
      "ii\n",
      "iii\n",
      "iiii\n",
      "iiiii\n",
      "---------------------------------------------\n",
      "    i    \n",
      "   iii   \n",
      "  iiiii  \n",
      " iiiiiii \n",
      "iiiiiiiii\n",
      "---------------------------------------------\n",
      "  i\n",
      "   ii\n",
      "    iii\n",
      "     iiii\n",
      "      iiiii\n"
     ]
    }
   ],
   "source": [
    "#练习二：写函数，根据给定符号和行数，打印相应直角三角形，等腰三角形及其他形式的三角形。\n",
    "n=int(input(\"请输入行数\"))\n",
    "word=input(\"请输入喜欢的字符\")\n",
    "def triangle1():\n",
    "    for i in range(1,n+1):\n",
    "        print(word*i)\n",
    "triangle1()\n",
    "print(\"---------------------------------------------\")\n",
    "\n",
    "def triangle2():\n",
    "    for i in range(1,n+1):\n",
    "        print(\" \"*(n-i)+word*(2*i-1)+\" \"*(n-i))\n",
    "triangle2()\n",
    "print(\"---------------------------------------------\")\n",
    "\n",
    "def triangle3():\n",
    "    for i in range(1,n+1):\n",
    "        print(\" \"*(i+1)+word*i)\n",
    "triangle3()"
   ]
  },
  {
   "cell_type": "code",
   "execution_count": 2,
   "metadata": {},
   "outputs": [
    {
     "ename": "SyntaxError",
     "evalue": "invalid syntax (<ipython-input-2-0b4e9c28b414>, line 9)",
     "output_type": "error",
     "traceback": [
      "\u001b[1;36m  File \u001b[1;32m\"<ipython-input-2-0b4e9c28b414>\"\u001b[1;36m, line \u001b[1;32m9\u001b[0m\n\u001b[1;33m    diamond()\u001b[0m\n\u001b[1;37m          ^\u001b[0m\n\u001b[1;31mSyntaxError\u001b[0m\u001b[1;31m:\u001b[0m invalid syntax\n"
     ]
    }
   ],
   "source": [
    "#练习五：写函数，根据给定符号，打印各种菱形。\n",
    "n=int(input(\"请输入行数\"))\n",
    "word=input(\"请输入喜欢的字符\")\n",
    "def diamond():\n",
    "    for i in range(1,(int)((n+1)/2+1)):\n",
    "        print(\" \"*((int)((n+1)/2-i))+word*i+\" \"*((int)((n+1)/2-i)))\n",
    "    for i in range((int)((n+1)/2+1,n+1)):\n",
    "        print(\" \"*(i-(int)((n+1)/2)+word*(2*(n-i)+1)+\" \"*(i-(int)((n+1)/2)))\n",
    "diamond()"
   ]
  },
  {
   "cell_type": "code",
   "execution_count": null,
   "metadata": {},
   "outputs": [],
   "source": []
  }
 ],
 "metadata": {
  "kernelspec": {
   "display_name": "Python 3",
   "language": "python",
   "name": "python3"
  },
  "language_info": {
   "codemirror_mode": {
    "name": "ipython",
    "version": 3
   },
   "file_extension": ".py",
   "mimetype": "text/x-python",
   "name": "python",
   "nbconvert_exporter": "python",
   "pygments_lexer": "ipython3",
   "version": "3.6.0"
  }
 },
 "nbformat": 4,
 "nbformat_minor": 2
}
