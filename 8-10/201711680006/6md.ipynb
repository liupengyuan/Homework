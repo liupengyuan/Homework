{
 "cells": [
  {
   "cell_type": "code",
   "execution_count": 1,
   "metadata": {},
   "outputs": [
    {
     "name": "stdout",
     "output_type": "stream",
     "text": [
      "请输入要输入的整数个数，回车结束7\n",
      "请输入一个整数，回车结束1\n",
      "请输入一个整数，回车结束2\n",
      "请输入一个整数，回车结束3\n",
      "请输入一个整数，回车结束4\n",
      "请输入一个整数，回车结束5\n",
      "请输入一个整数，回车结束6\n",
      "请输入一个整数，回车结束7\n",
      "输入的整数和为: 28\n"
     ]
    }
   ],
   "source": [
    "#写函数，返回一个list中所有数字的和\n",
    "n=int(input(\"请输入要输入的整数个数，回车结束\"))\n",
    "numbers=[]\n",
    "i=0\n",
    "\n",
    "while i < n:\n",
    "    m=int(input(\"请输入一个整数，回车结束\"))\n",
    "    numbers.append(m)\n",
    "    i = i + 1\n",
    "\n",
    "def sum(end):\n",
    "    j = 0\n",
    "    total_n = 0\n",
    "    while j < end:\n",
    "        total_n = total_n + numbers[j]\n",
    "        j = j + 1\n",
    "    return total_n\n",
    "\n",
    "print(\"输入的整数和为:\",sum(n) )"
   ]
  },
  {
   "cell_type": "code",
   "execution_count": 2,
   "metadata": {},
   "outputs": [
    {
     "name": "stdout",
     "output_type": "stream",
     "text": [
      "请输入要输入的整数个数，回车结束3\n",
      "请输入一个整数，回车结束2\n",
      "请输入一个整数，回车结束4\n",
      "请输入一个整数，回车结束6\n",
      "输入整数的最小值是: 2\n"
     ]
    }
   ],
   "source": [
    "#写函数，返回一个list中的最小值\n",
    "n = int(input(\"请输入要输入的整数个数，回车结束\"))\n",
    "numbers=[]\n",
    "i=0\n",
    "\n",
    "while i < n:\n",
    "    m = int(input(\"请输入一个整数，回车结束\"))\n",
    "    numbers.append(m)\n",
    "    i = i + 1\n",
    "    \n",
    "\n",
    "def min_number(end):\n",
    "    min_number = numbers[0]\n",
    "    \n",
    "    j = 0\n",
    "    while j < end - 1:\n",
    "        j = j + 1 \n",
    "        if  numbers[j] < min_number:\n",
    "            min_number = numbers[j]\n",
    "    return min_number\n",
    "\n",
    "print(\"输入整数的最小值是:\",min_number(n))"
   ]
  },
  {
   "cell_type": "code",
   "execution_count": 3,
   "metadata": {
    "scrolled": true
   },
   "outputs": [
    {
     "name": "stdout",
     "output_type": "stream",
     "text": [
      "请输入要输入的整数个数，回车结束2\n",
      "请输入一个整数，回车结束1\n",
      "请输入一个整数，回车结束2\n",
      "请输入一个整数，回车结束6\n",
      "-1\n"
     ]
    }
   ],
   "source": [
    "#写函数，返回某个元素/对象在一个list中的位置，如果不在，则返回-1.\n",
    "n = int(input(\"请输入要输入的整数个数，回车结束\"))\n",
    "numbers=[]\n",
    "i=0\n",
    "\n",
    "while i < n:\n",
    "    m = int(input(\"请输入一个整数，回车结束\"))\n",
    "    numbers.append(m)\n",
    "    i = i + 1\n",
    "\n",
    "a = int(input(\"请输入一个整数，回车结束\"))\n",
    "def location(a):\n",
    "   \n",
    "    if a in numbers:\n",
    "        numbers.index(a)\n",
    "        return numbers.index(a)\n",
    "    else:\n",
    "        return -1\n",
    "\n",
    "print(location(a))"
   ]
  },
  {
   "cell_type": "code",
   "execution_count": 4,
   "metadata": {},
   "outputs": [
    {
     "name": "stdout",
     "output_type": "stream",
     "text": [
      "请输入第一个向量的横坐标，以回车结束1\n",
      "请输入第一个向量的纵坐标，以回车结束2\n",
      "请输入第二个向量的横坐标，以回车结束3\n",
      "请输入第二个向量的纵坐标，以回车结束0\n",
      "两个向量夹角的余弦值为： 0.4472135954999579\n"
     ]
    }
   ],
   "source": [
    "#写函数，可求两个向量的夹角余弦值，向量可放在list中。主程序调用该函数\n",
    "\n",
    "m=int(input('请输入第一个向量的横坐标，以回车结束'))\n",
    "n=int(input('请输入第一个向量的纵坐标，以回车结束'))\n",
    "x=int(input('请输入第二个向量的横坐标，以回车结束'))\n",
    "y=int(input('请输入第二个向量的纵坐标，以回车结束'))\n",
    "\n",
    "angle=[(m,n),(x,y)]\n",
    "import math \n",
    "\n",
    "def cos():\n",
    "    result=(m*x+n*y)/(((m**2+n**2)**(1/2))*((x**2+y**2)**(1/2)))\n",
    "    return result\n",
    "\n",
    "print('两个向量夹角的余弦值为：',cos())\n"
   ]
  },
  {
   "cell_type": "code",
   "execution_count": 5,
   "metadata": {},
   "outputs": [
    {
     "name": "stdout",
     "output_type": "stream",
     "text": [
      "3741\n"
     ]
    }
   ],
   "source": [
    "#挑战性习题：python语言老师为了激励学生学python，自费买了100个完全相同的Macbook Pro，分给三个班级，每个班级至少分5个，用穷举法计算共有多少种分法？\n",
    "total = 0\n",
    "for i in range(100):\n",
    "    for j in range(100):\n",
    "        for k in range(100):\n",
    "            if i + j + k == 100 and i >= 5 and j >= 5 and k >= 5:\n",
    "                total = total + 1\n",
    "print(total)"
   ]
  },
  {
   "cell_type": "code",
   "execution_count": null,
   "metadata": {},
   "outputs": [],
   "source": []
  }
 ],
 "metadata": {
  "kernelspec": {
   "display_name": "Python 3",
   "language": "python",
   "name": "python3"
  },
  "language_info": {
   "codemirror_mode": {
    "name": "ipython",
    "version": 3
   },
   "file_extension": ".py",
   "mimetype": "text/x-python",
   "name": "python",
   "nbconvert_exporter": "python",
   "pygments_lexer": "ipython3",
   "version": "3.6.0"
  }
 },
 "nbformat": 4,
 "nbformat_minor": 2
}
