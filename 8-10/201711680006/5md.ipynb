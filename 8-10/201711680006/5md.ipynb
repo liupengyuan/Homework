{
 "cells": [
  {
   "cell_type": "code",
   "execution_count": 1,
   "metadata": {},
   "outputs": [
    {
     "name": "stdout",
     "output_type": "stream",
     "text": [
      "请输入较小数字，回车结束2\n",
      "请输入较大数字，回车结束8\n",
      "请输入随机整数个数4\n",
      "随机数为 7\n",
      "随机数为 2\n",
      "随机数为 3\n",
      "随机数为 4\n",
      "随机数字的平均值的平方根是 2.0\n"
     ]
    }
   ],
   "source": [
    "#练习 1：写函数，求n个随机整数均值的平方根，整数范围在m与k之间（n,m,k由用户输入）。\n",
    "m=int(input('请输入较小数字，回车结束'))\n",
    "k=int(input('请输入较大数字，回车结束'))\n",
    "n=int(input('请输入随机整数个数'))\n",
    "i=0\n",
    "total=0\n",
    "import random\n",
    "while i<n:\n",
    "    i=i+1\n",
    "    number=random.randint(m,k)\n",
    "    total=total+number\n",
    "    print(\"随机数为\",number)\n",
    "a=((total)/(n))**(1/2)\n",
    "print(\"随机数字的平均值的平方根是\",a)"
   ]
  },
  {
   "cell_type": "code",
   "execution_count": 1,
   "metadata": {},
   "outputs": [
    {
     "name": "stdout",
     "output_type": "stream",
     "text": [
      "请输入较小数字，回车结束2\n",
      "请输入较大数字，回车结束8\n",
      "请输入随机整数个数2\n",
      "[m,k]区间内n个随机整数log值之和= 3.58351893845611\n"
     ]
    }
   ],
   "source": [
    "#练习 2：写函数，共n个随机整数，整数范围在m与k之间，（n,m,k由用户输入）。求1：西格玛log(随机整数)\n",
    "m=int(input('请输入较小数字，回车结束'))\n",
    "k=int(input('请输入较大数字，回车结束'))\n",
    "n=int(input('请输入随机整数个数'))\n",
    "def abc(n,m,k):\n",
    "    import math,random\n",
    "    i=0\n",
    "    total=math.log(random.randint(m,k))\n",
    "    while i<n:\n",
    "        i+=1\n",
    "        x=random.randint(m,k)\n",
    "        total+=math.log(x)\n",
    "    return total\n",
    "print('[m,k]区间内n个随机整数log值之和=',abc(n,m,k))"
   ]
  },
  {
   "cell_type": "code",
   "execution_count": 2,
   "metadata": {},
   "outputs": [
    {
     "name": "stdout",
     "output_type": "stream",
     "text": [
      "请输入较小数字，回车结束2\n",
      "请输入较大数字，回车结束8\n",
      "请输入随机整数个数2\n",
      "[m,k]区间内n个随机整数log值之和= 3.912023005428146\n"
     ]
    }
   ],
   "source": [
    "#2：西格玛1/log(随机整数)\n",
    "m=int(input('请输入较小数字，回车结束'))\n",
    "k=int(input('请输入较大数字，回车结束'))\n",
    "n=int(input('请输入随机整数个数'))\n",
    "def abc(n,m,k):\n",
    "    import math,random\n",
    "    i=0\n",
    "    total=math.log(random.randint(m,k))\n",
    "    while i<n:\n",
    "        i+=1\n",
    "        x=random.randint(m,k)\n",
    "        total+=math.log(x)\n",
    "    return total\n",
    "print('[m,k]区间内n个随机整数log值之和=',abc(n,m,k))"
   ]
  },
  {
   "cell_type": "code",
   "execution_count": null,
   "metadata": {},
   "outputs": [],
   "source": []
  }
 ],
 "metadata": {
  "kernelspec": {
   "display_name": "Python 3",
   "language": "python",
   "name": "python3"
  },
  "language_info": {
   "codemirror_mode": {
    "name": "ipython",
    "version": 3
   },
   "file_extension": ".py",
   "mimetype": "text/x-python",
   "name": "python",
   "nbconvert_exporter": "python",
   "pygments_lexer": "ipython3",
   "version": "3.6.0"
  }
 },
 "nbformat": 4,
 "nbformat_minor": 2
}
