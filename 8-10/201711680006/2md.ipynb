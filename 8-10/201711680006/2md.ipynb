{
 "cells": [
  {
   "cell_type": "code",
   "execution_count": 2,
   "metadata": {},
   "outputs": [
    {
     "name": "stdout",
     "output_type": "stream",
     "text": [
      "请输入一个正整数，以回车结束。7\n",
      "5040\n"
     ]
    }
   ],
   "source": [
    "#练习1：仿照任务2完整代码，打印n!。\n",
    "n = int(input('请输入一个正整数，以回车结束。'))\n",
    "\n",
    "i = 1\n",
    "total = 1\n",
    "\n",
    "while i < n:\n",
    "    i = i + 1\n",
    "    total = total * i\n",
    "    \n",
    "print(total)"
   ]
  },
  {
   "cell_type": "code",
   "execution_count": 3,
   "metadata": {},
   "outputs": [
    {
     "name": "stdout",
     "output_type": "stream",
     "text": [
      "请输你指定的整数个数，以回车结束。7\n",
      "你好 7\n",
      "请输入一个整数，以回车结束1\n",
      "请输入一个整数，以回车结束9\n",
      "请输入一个整数，以回车结束9\n",
      "请输入一个整数，以回车结束7\n",
      "请输入一个整数，以回车结束9\n",
      "请输入一个整数，以回车结束0\n",
      "请输入一个整数，以回车结束1\n",
      "36\n"
     ]
    }
   ],
   "source": [
    "#练习2：仿照实践1，写出由用户指定整数个数，并由用户输入多个整数，并求和的代码。\n",
    "name = input('请输你指定的整数个数，以回车结束。')\n",
    "print('你好',n)\n",
    "\n",
    "i=0\n",
    "total=0\n",
    "\n",
    "while i<n:\n",
    "    m=int(input('请输入一个整数，以回车结束'))\n",
    "    i=i+1\n",
    "    total=total+m\n",
    "\n",
    "print(total)"
   ]
  },
  {
   "cell_type": "code",
   "execution_count": 4,
   "metadata": {},
   "outputs": [
    {
     "name": "stdout",
     "output_type": "stream",
     "text": [
      "输入任意一个数字，不想输入时请输入No终止1995\n",
      "输入任意一个数字，不想输入时请输入No终止1013\n",
      "输入任意一个数字，不想输入时请输入No终止1230\n",
      "输入任意一个数字，不想输入时请输入No终止No\n"
     ]
    }
   ],
   "source": [
    "#练习3：用户可以输入的任意多个数字，直到用户不想输入为止。\n",
    "\n",
    "n=input('输入任意一个数字，不想输入时请输入No终止')\n",
    "\n",
    "while n!='No':\n",
    "    n=input('输入任意一个数字，不想输入时请输入No终止')"
   ]
  },
  {
   "cell_type": "code",
   "execution_count": 6,
   "metadata": {},
   "outputs": [
    {
     "name": "stdout",
     "output_type": "stream",
     "text": [
      "请输入一个数字25\n",
      "请输入一个数字25\n",
      "请输入一个数字70\n"
     ]
    }
   ],
   "source": [
    "#练习4：用户可以输入的任意多个数字，直到: 输入所有数字的和比当前输入数字小，且输入所有数字的积大于500。\n",
    "\n",
    "n=int(input('请输入一个数字'))\n",
    "m=int(input('请输入一个数字'))\n",
    "total=n+m\n",
    "product=n*m\n",
    "q=int(input('请输入一个数字'))\n",
    "\n",
    "while (total<n) and (product>500):\n",
    "    total=total+q\n",
    "    product=product*q\n",
    "    q=int(input('请输入一个数字'))"
   ]
  },
  {
   "cell_type": "code",
   "execution_count": null,
   "metadata": {},
   "outputs": [],
   "source": []
  }
 ],
 "metadata": {
  "kernelspec": {
   "display_name": "Python 3",
   "language": "python",
   "name": "python3"
  },
  "language_info": {
   "codemirror_mode": {
    "name": "ipython",
    "version": 3
   },
   "file_extension": ".py",
   "mimetype": "text/x-python",
   "name": "python",
   "nbconvert_exporter": "python",
   "pygments_lexer": "ipython3",
   "version": "3.6.0"
  }
 },
 "nbformat": 4,
 "nbformat_minor": 2
}
