{
 "cells": [
  {
   "cell_type": "code",
   "execution_count": 1,
   "metadata": {},
   "outputs": [
    {
     "name": "stdout",
     "output_type": "stream",
     "text": [
      "请输入一个整数：46\n",
      "请输入一个不为0的整数:18\n",
      "请输入你想对数字进行的运算，如+-*/%/\n",
      "对m,n计算的结果位： 2.5555555555555554\n"
     ]
    }
   ],
   "source": [
    "m = int(input('请输入一个整数：'))\n",
    "n = int(input('请输入一个不为0的整数:'))\n",
    "if m<=n:\n",
    "    max_number = n\n",
    "    min_number = m\n",
    "else:\n",
    "    max_number = m\n",
    "    min_number = n\n",
    "    \n",
    "i = min_number\n",
    "result =0\n",
    "\n",
    "op = input('请输入你想对数字进行的运算，如+-*/%')\n",
    "\n",
    "if op == \"+\":\n",
    "    for i in range(min_number,max_number+1):\n",
    "        result+=i\n",
    "        i+=1\n",
    "elif op == \"-\":\n",
    "    for i in range(min_number,max_number+1):\n",
    "        result-=i\n",
    "elif op == \"*\":\n",
    "    for i in range(min_number,max_number+1):\n",
    "        result*=i\n",
    "elif op == \"%\":\n",
    "    result = m%n\n",
    "elif op == \"/\":\n",
    "    result = m/n\n",
    "\n",
    "print('对m,n计算的结果位：',result)"
   ]
  },
  {
   "cell_type": "code",
   "execution_count": 3,
   "metadata": {},
   "outputs": [
    {
     "name": "stdout",
     "output_type": "stream",
     "text": [
      "请输入一个英文单词(单数形式)：boy\n",
      "boy 的复数形式是： boies\n"
     ]
    }
   ],
   "source": [
    "word = input('请输入一个英文单词(单数形式)：')\n",
    "\n",
    "if word ==\"potato\" or word ==\"tomato\":\n",
    "    print(word,\"的复数形式是：\",word + 's')\n",
    "elif word.endswith('s') or word.endswith('o') or word.endswith('x') or word.endswith('ch') or word.endswith('sh'):\n",
    "    print(word,\"的复数形式是：\",word + 'es')\n",
    "elif word.endswith('y'):\n",
    "    print(word,\"的复数形式是：\",word[:-1] + 'ies')\n",
    "elif word.endswith('f'):\n",
    "    print(word,\"的复数形式是：\",word[:-1] + 'ves')\n",
    "elif word.endswith('fe'):\n",
    "    print(word,\"的复数形式是：\",word[:-2] + 'ves')\n",
    "elif word.endswith('an'):  \n",
    "    print(word,\"的复数形式是：\",word[:-2] + 'en')\n",
    "else:\n",
    "    print(word,\"的复数形式是：\",word[:-2] + 's')"
   ]
  },
  {
   "cell_type": "code",
   "execution_count": null,
   "metadata": {
    "collapsed": true
   },
   "outputs": [],
   "source": []
  }
 ],
 "metadata": {
  "kernelspec": {
   "display_name": "Python 3",
   "language": "python",
   "name": "python3"
  },
  "language_info": {
   "codemirror_mode": {
    "name": "ipython",
    "version": 3
   },
   "file_extension": ".py",
   "mimetype": "text/x-python",
   "name": "python",
   "nbconvert_exporter": "python",
   "pygments_lexer": "ipython3",
   "version": "3.6.2"
  }
 },
 "nbformat": 4,
 "nbformat_minor": 2
}
