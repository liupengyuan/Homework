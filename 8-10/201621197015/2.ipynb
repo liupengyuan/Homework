{
 "cells": [
  {
   "cell_type": "code",
   "execution_count": 1,
   "metadata": {},
   "outputs": [
    {
     "name": "stdout",
     "output_type": "stream",
     "text": [
      "请输入一个正整数，以回车结束。10\n",
      "3628800\n"
     ]
    }
   ],
   "source": [
    "n = int(input('请输入一个正整数，以回车结束。'))\n",
    "\n",
    "i = 0\n",
    "multi = 1\n",
    "\n",
    "while i < n:\n",
    "    i = i + 1\n",
    "    multi = multi * i\n",
    "    \n",
    "print(multi)"
   ]
  },
  {
   "cell_type": "code",
   "execution_count": 2,
   "metadata": {},
   "outputs": [
    {
     "name": "stdout",
     "output_type": "stream",
     "text": [
      "请输入你的整数个数，以回车结束。3\n",
      "请输入一个正整数，以回车结束。56\n",
      "请输入一个正整数，以回车结束。72\n",
      "请输入一个正整数，以回车结束。46\n",
      "3 个整数和为 174\n"
     ]
    }
   ],
   "source": [
    "n = int(input('请输入你的整数个数，以回车结束。'))\n",
    "i=1\n",
    "total=0\n",
    "while i<=n:          \n",
    "    m = int(input('请输入一个正整数，以回车结束。'))\n",
    "    total+=m\n",
    "    i=i+1\n",
    "print(n,'个整数和为',total)"
   ]
  },
  {
   "cell_type": "code",
   "execution_count": 3,
   "metadata": {},
   "outputs": [
    {
     "name": "stdout",
     "output_type": "stream",
     "text": [
      "请输入一个数字，以#结束：35\n",
      "请输入一个数字：613\n",
      "请输入一个数字：577\n",
      "请输入一个数字：#\n"
     ]
    }
   ],
   "source": [
    "n = int(input('请输入一个数字，以#结束：'))\n",
    "while n != '#':\n",
    "    n=input('请输入一个数字：')"
   ]
  },
  {
   "cell_type": "code",
   "execution_count": 4,
   "metadata": {},
   "outputs": [
    {
     "name": "stdout",
     "output_type": "stream",
     "text": [
      "请输入一个数字：2\n",
      "请输入一个数字：250\n",
      "请输入一个数字：300\n",
      "请输入一个数字：600\n",
      "满足条件，退出！\n",
      "Total= 552\n",
      "Multi= 150000\n"
     ]
    }
   ],
   "source": [
    "n = int(input('请输入一个数字：'))\n",
    "\n",
    "total=n\n",
    "multi=n\n",
    "\n",
    "m = int(input('请输入一个数字：'))\n",
    "\n",
    "while(True):\n",
    "    total = total+m\n",
    "    multi = multi*m\n",
    "    m = int(input('请输入一个数字：'))\n",
    "    \n",
    "    if(total<m) and (multi>500):\n",
    "        print('满足条件，退出！')\n",
    "        break\n",
    "        \n",
    "print('Total=',total)\n",
    "print('Multi=',multi)"
   ]
  },
  {
   "cell_type": "code",
   "execution_count": null,
   "metadata": {
    "collapsed": true
   },
   "outputs": [],
   "source": []
  }
 ],
 "metadata": {
  "kernelspec": {
   "display_name": "Python 3",
   "language": "python",
   "name": "python3"
  },
  "language_info": {
   "codemirror_mode": {
    "name": "ipython",
    "version": 3
   },
   "file_extension": ".py",
   "mimetype": "text/x-python",
   "name": "python",
   "nbconvert_exporter": "python",
   "pygments_lexer": "ipython3",
   "version": "3.6.2"
  }
 },
 "nbformat": 4,
 "nbformat_minor": 2
}
