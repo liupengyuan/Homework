{
 "cells": [
  {
   "cell_type": "code",
   "execution_count": 2,
   "metadata": {},
   "outputs": [
    {
     "name": "stdout",
     "output_type": "stream",
     "text": [
      "请输入第1个整数，以回车结束。2\n",
      "请输入第2个整数，以回车结束。3\n",
      "请输入第3个整数，以回车结束。4\n",
      "最终的和是： 32\n"
     ]
    }
   ],
   "source": [
    "#练习 1：仿照求$ \\sum_{i=1}^mi + \\sum_{i=1}^ni  + \\sum_{i=1}^ki$的完整代码，写程序，可求m!+n!+k!\n",
    "def compute_mul(end):\n",
    "    i = 0\n",
    "    mul_n = 1\n",
    "\n",
    "    while i < end:\n",
    "        i = i + 1\n",
    "        mul_n = mul_n * i\n",
    "\n",
    "    return mul_n\n",
    "\n",
    "n = int(input('请输入第1个整数，以回车结束。'))\n",
    "m = int(input('请输入第2个整数，以回车结束。'))\n",
    "k = int(input('请输入第3个整数，以回车结束。'))\n",
    "\n",
    "print('最终的和是：', compute_mul(m) + compute_mul(n) + compute_mul(k))"
   ]
  },
  {
   "cell_type": "code",
   "execution_count": 5,
   "metadata": {},
   "outputs": [
    {
     "name": "stdout",
     "output_type": "stream",
     "text": [
      "3.177202977853904\n",
      "3.177202977853904\n"
     ]
    }
   ],
   "source": [
    "#练习 2：写函数可返回1 - 1/3 + 1/5 - 1/7...的前n项的和。在主程序中，分别令n=1000及100000，打印4倍该函数的和。\n",
    "def compute_sum(end):\n",
    "    i = 0\n",
    "    total_n = 1\n",
    "\n",
    "    while i < end:\n",
    "        i = i + 1\n",
    "        total_n = total_n + ((-1)**i)*1/(2**i+1)\n",
    "\n",
    "    return total_n\n",
    "\n",
    "print(4*compute_sum(1000))\n",
    "print(4*compute_sum(100000))"
   ]
  },
  {
   "cell_type": "code",
   "execution_count": 6,
   "metadata": {},
   "outputs": [
    {
     "name": "stdout",
     "output_type": "stream",
     "text": [
      "请输入你生日的月份：6\n",
      "请输入你生日的日期：18\n",
      "您的星座是： 双子座\n"
     ]
    }
   ],
   "source": [
    "#task3的练习1\n",
    "def zodiac(month,day):\n",
    "    if month<2:\n",
    "        if day<20:\n",
    "            cons='摩羯座'\n",
    "        else:\n",
    "            cons='水瓶座'\n",
    "    elif month<3:\n",
    "        if day<19:\n",
    "            cons='水瓶座'\n",
    "        else:\n",
    "            cons='双鱼座'\n",
    "    elif month<4:\n",
    "        if day<21:\n",
    "            cons='双鱼座'\n",
    "        else:\n",
    "            cons='白羊座'\n",
    "    elif month<5:\n",
    "        if day<20:\n",
    "            cons='白羊座'\n",
    "        else:\n",
    "            cons='金牛座'\n",
    "    elif month<6:\n",
    "        if day<21:\n",
    "            cons='金牛座'\n",
    "        else:\n",
    "            cons='双子座'\n",
    "    elif month<7:\n",
    "        if day<22:\n",
    "            cons='双子座'\n",
    "        else:\n",
    "            cons='巨蟹座'\n",
    "    elif month<8:\n",
    "        if day<23:\n",
    "            cons='巨蟹座'\n",
    "        else:\n",
    "            cons='狮子座'\n",
    "    elif month<9:\n",
    "        if day<23:\n",
    "            cons='狮子座'\n",
    "        else:\n",
    "            cons='处女座'\n",
    "    elif month<10:\n",
    "        if day<23:\n",
    "            cons='处女座'\n",
    "        else:\n",
    "            cons='天秤座'\n",
    "    elif month<11:\n",
    "        if day<24:\n",
    "            cons='天秤座'\n",
    "        else:\n",
    "            cons='天蝎座'\n",
    "    elif month<12:\n",
    "        if day<23:\n",
    "            cons='天蝎座'\n",
    "        else:\n",
    "            cons='射手座'\n",
    "    else:\n",
    "        if day<22:\n",
    "            cons='射手座'\n",
    "        else:\n",
    "            cons='摩羯座'\n",
    "            \n",
    "    return cons\n",
    "\n",
    "m = int(input('请输入你生日的月份：'))\n",
    "d = int(input('请输入你生日的日期：'))\n",
    "print('您的星座是：',zodiac(m,d))"
   ]
  },
  {
   "cell_type": "code",
   "execution_count": 1,
   "metadata": {},
   "outputs": [
    {
     "name": "stdout",
     "output_type": "stream",
     "text": [
      "请输入一个英文单词(单数形式)：boy\n",
      "boy 的复数形式是： boies\n",
      "这个单词的复数形式为： boy\n"
     ]
    }
   ],
   "source": [
    "##task3的练习4\n",
    "def plu_word(word):\n",
    "\n",
    "    if word ==\"potato\" or word ==\"tomato\":\n",
    "        print(word,\"的复数形式是：\",word + 's')\n",
    "    elif word.endswith('s') or word.endswith('o') or word.endswith('x') or word.endswith('ch') or word.endswith('sh'):\n",
    "        print(word,\"的复数形式是：\",word + 'es')\n",
    "    elif word.endswith('y'):\n",
    "        print(word,\"的复数形式是：\",word[:-1] + 'ies')\n",
    "    elif word.endswith('f'):\n",
    "        print(word,\"的复数形式是：\",word[:-1] + 'ves')\n",
    "    elif word.endswith('fe'):\n",
    "        print(word,\"的复数形式是：\",word[:-2] + 'ves')\n",
    "    elif word.endswith('an'):  \n",
    "        print(word,\"的复数形式是：\",word[:-2] + 'en')\n",
    "    else:\n",
    "        print(word,\"的复数形式是：\",word[:-2] + 's')\n",
    "    \n",
    "\n",
    "    return word\n",
    "    \n",
    "word = input('请输入一个英文单词(单数形式)：')\n",
    "print('这个单词的复数形式为：',plu_word(word))"
   ]
  },
  {
   "cell_type": "code",
   "execution_count": null,
   "metadata": {
    "collapsed": true
   },
   "outputs": [],
   "source": []
  }
 ],
 "metadata": {
  "kernelspec": {
   "display_name": "Python 3",
   "language": "python",
   "name": "python3"
  },
  "language_info": {
   "codemirror_mode": {
    "name": "ipython",
    "version": 3
   },
   "file_extension": ".py",
   "mimetype": "text/x-python",
   "name": "python",
   "nbconvert_exporter": "python",
   "pygments_lexer": "ipython3",
   "version": "3.6.2"
  }
 },
 "nbformat": 4,
 "nbformat_minor": 2
}
