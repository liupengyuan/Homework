{
 "cells": [
  {
   "cell_type": "code",
   "execution_count": 5,
   "metadata": {},
   "outputs": [
    {
     "name": "stdout",
     "output_type": "stream",
     "text": [
      "请输入整数个数：3\n",
      "请输入一个整数：5\n",
      "请输入第二个整数：8\n",
      "结果是： 2.3804761428476167\n"
     ]
    }
   ],
   "source": [
    "import random,math\n",
    "def func(n, m ,k):\n",
    "    sum = 0\n",
    "    for i in range(n):\n",
    "        b = random.randint(m,k)\n",
    "        sum += b\n",
    "    sqr = math.sqrt(sum/n)\n",
    "    return(sqr)\n",
    "\n",
    "n = int(input('请输入整数个数：'))\n",
    "m = int(input('请输入一个整数：'))\n",
    "k = int(input('请输入第二个整数：'))\n",
    "print('结果是：',func(n,m,k))"
   ]
  },
  {
   "cell_type": "code",
   "execution_count": 9,
   "metadata": {},
   "outputs": [
    {
     "name": "stdout",
     "output_type": "stream",
     "text": [
      "请输入整数个数：2\n",
      "请输入一个整数：4\n",
      "请输入第二个整数：6\n",
      "他们的log的和为： 1.3010299956639813\n",
      "他们的1/log的和为： 2.861353116146786\n"
     ]
    }
   ],
   "source": [
    "import random,math\n",
    "def func1(n, m ,k):\n",
    "    sum1 = 0\n",
    "    \n",
    "    for i in range(n):\n",
    "        b = random.randint(m,k)\n",
    "        c = math.log10(b)\n",
    "        sum1 += c\n",
    "\n",
    "    return(sum1)\n",
    "\n",
    "def func2(n, m ,k):\n",
    "    sum2 = 0\n",
    "    \n",
    "    for i in range(n):\n",
    "        b = random.randint(m,k)\n",
    "        c = math.log10(b)\n",
    "        sum2 += 1/c\n",
    "\n",
    "    return(sum2)\n",
    "\n",
    "n = int(input('请输入整数个数：'))\n",
    "m = int(input('请输入一个整数：'))\n",
    "k = int(input('请输入第二个整数：'))\n",
    "print('他们的log的和为：',func1(n,m,k))\n",
    "print('他们的1/log的和为：',func2(n,m,k))"
   ]
  },
  {
   "cell_type": "code",
   "execution_count": null,
   "metadata": {
    "collapsed": true
   },
   "outputs": [],
   "source": []
  }
 ],
 "metadata": {
  "kernelspec": {
   "display_name": "Python 3",
   "language": "python",
   "name": "python3"
  },
  "language_info": {
   "codemirror_mode": {
    "name": "ipython",
    "version": 3
   },
   "file_extension": ".py",
   "mimetype": "text/x-python",
   "name": "python",
   "nbconvert_exporter": "python",
   "pygments_lexer": "ipython3",
   "version": "3.6.2"
  }
 },
 "nbformat": 4,
 "nbformat_minor": 2
}
