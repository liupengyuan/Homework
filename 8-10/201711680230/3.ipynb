{
 "cells": [
  {
   "cell_type": "code",
   "execution_count": null,
   "metadata": {},
   "outputs": [],
   "source": [
    "##练习 4：英文单词单数转复数，要求输入一个英文动词（单数形式），能够得到其复数形式\n",
    "noun = input('请输入一个英语名词,回车结束。')\n",
    "if noun.endswith('s'):  \n",
    "    t=str('es')\n",
    "    print(noun+t)\n",
    "elif noun.endswith('e'):\n",
    "    t=str('s')\n",
    "     print(noun+t)\n",
    "elif noun.endswith('o'):\n",
    "    t=str('es')\n",
    "     print(noun+t)\n",
    "elif noun.endswith('y'):    \n",
    "    print('该名词变为复数时大多把y变i加es')\n",
    "elif noun.endswith('fe'): \n",
    "    print('该名词变为复数时大多把末尾的fe变为v加es')\n",
    "else:\n",
    "    t=str('s')\n",
    "     print(noun+t)\n",
    "    "
   ]
  },
  {
   "cell_type": "code",
   "execution_count": null,
   "metadata": {},
   "outputs": [],
   "source": [
    "##练习 2\n",
    "m=int(input('请输入一个不为零的整数m'))\n",
    "n=int(input('请输入一个比m小的非零整数'))\n",
    "print('如要求从n到m的和请输入a,如要求n到m的积请输入b,如求余数请输入c,如求商请输入d')\n",
    "t=str(input('请输入要求'))\n",
    "if t==a:\n",
    "    i=n\n",
    "    total=0\n",
    "    while i<m:\n",
    "        i+=1\n",
    "        total=total+i\n",
    "    print('和为:',total)\n",
    "elif t==b:\n",
    "    i=n\n",
    "    product=1\n",
    "    while i<m:\n",
    "        i+=1\n",
    "        product*=i\n",
    "    print('积为:',product)\n",
    "elif t==c:\n",
    "    print('余数为:',m%n)\n",
    "else :\n",
    "    print('商为:',m/n)\n",
    "        \n",
    "        \n",
    "    \n",
    "               \n"
   ]
  },
  {
   "cell_type": "code",
   "execution_count": null,
   "metadata": {},
   "outputs": [],
   "source": []
  },
  {
   "cell_type": "code",
   "execution_count": null,
   "metadata": {},
   "outputs": [],
   "source": []
  },
  {
   "cell_type": "code",
   "execution_count": null,
   "metadata": {},
   "outputs": [],
   "source": []
  },
  {
   "cell_type": "code",
   "execution_count": null,
   "metadata": {},
   "outputs": [],
   "source": []
  },
  {
   "cell_type": "code",
   "execution_count": null,
   "metadata": {},
   "outputs": [],
   "source": []
  },
  {
   "cell_type": "code",
   "execution_count": null,
   "metadata": {},
   "outputs": [],
   "source": []
  },
  {
   "cell_type": "code",
   "execution_count": null,
   "metadata": {},
   "outputs": [],
   "source": []
  },
  {
   "cell_type": "code",
   "execution_count": null,
   "metadata": {},
   "outputs": [],
   "source": []
  },
  {
   "cell_type": "code",
   "execution_count": null,
   "metadata": {},
   "outputs": [],
   "source": []
  },
  {
   "cell_type": "code",
   "execution_count": null,
   "metadata": {},
   "outputs": [],
   "source": []
  },
  {
   "cell_type": "code",
   "execution_count": null,
   "metadata": {},
   "outputs": [],
   "source": []
  }
 ],
 "metadata": {
  "kernelspec": {
   "display_name": "Python 3",
   "language": "python",
   "name": "python3"
  },
  "language_info": {
   "codemirror_mode": {
    "name": "ipython",
    "version": 3
   },
   "file_extension": ".py",
   "mimetype": "text/x-python",
   "name": "python",
   "nbconvert_exporter": "python",
   "pygments_lexer": "ipython3",
   "version": "3.6.0"
  }
 },
 "nbformat": 4,
 "nbformat_minor": 2
}
