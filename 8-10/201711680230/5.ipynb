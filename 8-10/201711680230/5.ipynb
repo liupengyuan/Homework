{
 "cells": [
  {
   "cell_type": "code",
   "execution_count": 6,
   "metadata": {},
   "outputs": [
    {
     "name": "stdout",
     "output_type": "stream",
     "text": [
      "请输入一个整数个数n2\n",
      "请输入一个整数m1\n",
      "请输入一个比m大的整数k6\n",
      "均值平方根为 2.1213203435596424\n"
     ]
    }
   ],
   "source": [
    "##练习 1：写函数，求n个随机整数均值的平方根，整数范围在m与k之间（n,m,k由用户输入）。\n",
    "import math,random\n",
    "def sq_rt(n,m,k):\n",
    "    i=0\n",
    "    total_n=m\n",
    "    while i<n:\n",
    "        i=i+1\n",
    "        number = random.randint(m, k)\n",
    "        total_n=total_n+number\n",
    "        average=total_n/n\n",
    "        square_root=average**0.5\n",
    "    return square_root\n",
    "\n",
    "\n",
    "n=int(input('请输入一个整数个数n'))\n",
    "m=int(input('请输入一个整数m'))\n",
    "k=int(input('请输入一个比m大的整数k'))\n",
    "print('均值平方根为',sq_rt(n,m,k))"
   ]
  },
  {
   "cell_type": "code",
   "execution_count": 2,
   "metadata": {},
   "outputs": [
    {
     "name": "stdout",
     "output_type": "stream",
     "text": [
      "请输入一个整数个数n4\n",
      "请输入一个整数m2\n",
      "请输入一个比m大的整数k7\n",
      "和为: (8.958797346140274, 2.7905531327562363)\n"
     ]
    }
   ],
   "source": [
    "##练习 2：写函数，共n个随机整数，整数范围在m与k之间，（n,m,k由用户输入）。求1：西格玛log(随机整数)，2：西格玛1/log(随机整数)\n",
    "import math,random\n",
    "def sigma_log(n,m,k):\n",
    "    number = random.randint(m, k)\n",
    "    i=0\n",
    "    total1_n=math.log(number)\n",
    "    total2_n=1/total1_n\n",
    "    while i<n:\n",
    "        i=i+1\n",
    "        log_n=math.log(number)\n",
    "        total1_n=total1_n+log_n\n",
    "        total2_n=total2_n+1/log_n\n",
    "    return total1_n,total2_n\n",
    "n=int(input('请输入一个整数个数n'))\n",
    "m=int(input('请输入一个整数m'))\n",
    "k=int(input('请输入一个比m大的整数k'))\n",
    "print('和为:',sigma_log(n,m,k))\n",
    "\n",
    "        \n",
    "        "
   ]
  },
  {
   "cell_type": "code",
   "execution_count": null,
   "metadata": {},
   "outputs": [],
   "source": []
  },
  {
   "cell_type": "code",
   "execution_count": null,
   "metadata": {},
   "outputs": [],
   "source": []
  },
  {
   "cell_type": "code",
   "execution_count": null,
   "metadata": {},
   "outputs": [],
   "source": []
  },
  {
   "cell_type": "code",
   "execution_count": null,
   "metadata": {},
   "outputs": [],
   "source": []
  },
  {
   "cell_type": "code",
   "execution_count": null,
   "metadata": {},
   "outputs": [],
   "source": []
  },
  {
   "cell_type": "code",
   "execution_count": null,
   "metadata": {},
   "outputs": [],
   "source": []
  },
  {
   "cell_type": "code",
   "execution_count": null,
   "metadata": {},
   "outputs": [],
   "source": []
  }
 ],
 "metadata": {
  "kernelspec": {
   "display_name": "Python 3",
   "language": "python",
   "name": "python3"
  },
  "language_info": {
   "codemirror_mode": {
    "name": "ipython",
    "version": 3
   },
   "file_extension": ".py",
   "mimetype": "text/x-python",
   "name": "python",
   "nbconvert_exporter": "python",
   "pygments_lexer": "ipython3",
   "version": "3.6.0"
  }
 },
 "nbformat": 4,
 "nbformat_minor": 2
}
