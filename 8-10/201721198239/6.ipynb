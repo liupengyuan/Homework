{
 "cells": [
  {
   "cell_type": "code",
   "execution_count": 1,
   "metadata": {},
   "outputs": [
    {
     "name": "stdout",
     "output_type": "stream",
     "text": [
      "请输入要输入的数字个数:4\n",
      "请输入一个数字:1\n",
      "请输入一个数字:2\n",
      "请输入一个数字:3\n",
      "请输入一个数字:4\n",
      "list的总和为: 10.0\n"
     ]
    }
   ],
   "source": [
    "#写函数，返回一个list中所有数字的和\n",
    "def sumlist(li):\n",
    "    numsum=0\n",
    "    for i in range(len(li)):\n",
    "        numsum+=li[i]\n",
    "    return numsum\n",
    "n=int(input('请输入要输入的数字个数:'))\n",
    "i=0\n",
    "numlist=[]\n",
    "while i<n:\n",
    "    num=float(input(\"请输入一个数字:\"))\n",
    "    numlist.append(num)\n",
    "    i+=1\n",
    "print(\"list的总和为:\",sumlist(numlist))\n"
   ]
  },
  {
   "cell_type": "code",
   "execution_count": 5,
   "metadata": {},
   "outputs": [
    {
     "name": "stdout",
     "output_type": "stream",
     "text": [
      "请输入要输入的数字个数:5\n",
      "请输入一个数字:1\n",
      "请输入一个数字:2\n",
      "请输入一个数字:3\n",
      "请输入一个数字:4\n",
      "请输入一个数字:5\n",
      "请输入要查找的元素:4\n",
      "元素4.0的索引为3(即第4个位置)!\n"
     ]
    }
   ],
   "source": [
    "#写函数，返回某个元素/对象在一个list中的位置，如果不在，则返回-1.\n",
    "def indexlist(li,element):\n",
    "    if li.count(element)==0:\n",
    "        return -1\n",
    "    else:\n",
    "        return li.index(element)\n",
    "n=int(input('请输入要输入的数字个数:'))\n",
    "i=0\n",
    "numlist=[]\n",
    "while i<n:\n",
    "    num=float(input(\"请输入一个数字:\"))\n",
    "    numlist.append(num)\n",
    "    i+=1\n",
    "element=float(input(\"请输入要查找的元素:\"))\n",
    "l=indexlist(numlist,element)\n",
    "if l==-1:\n",
    "    print(\"list中不存在该元素，函数返回值为：-1\"%element)\n",
    "else:\n",
    "    print(\"元素%s的索引为%s(即第%s个位置)!\"%(element,l,l+1))"
   ]
  },
  {
   "cell_type": "code",
   "execution_count": 6,
   "metadata": {},
   "outputs": [
    {
     "name": "stdout",
     "output_type": "stream",
     "text": [
      "请输入向量的维度（整数）：1\n",
      "输入向量1:\n",
      "请输入一个数字:3\n",
      "输入向量2:\n",
      "请输入一个数字:4\n",
      "两个向量的夹角余弦值为： 1.0\n"
     ]
    }
   ],
   "source": [
    "#写函数，可求两个向量的夹角余弦值，向量可放在list中。主程序调用该函数。\n",
    "def cosvector(vec1,vec2):\n",
    "    if len(vec1)!=len(vec2):\n",
    "        print(\"维数不同，无法计算\")\n",
    "        return\n",
    "    denominator=0\n",
    "    numerator1=0\n",
    "    numerator2=0\n",
    "    length=len(vec1)\n",
    "    for i in range(length):\n",
    "        denominator+=vec1[i]*vec2[i]\n",
    "        numerator1+=vec1[i]**2\n",
    "        numerator2+=vec2[i]**2\n",
    "    return denominator/((numerator1**0.5)*(numerator2**0.5))\n",
    "n=int(input(\"请输入向量的维度（整数）：\"))\n",
    "i=0\n",
    "vec1=[]\n",
    "print(\"输入向量1:\")\n",
    "while i < n:\n",
    "    num=float(input(\"请输入一个数字:\"))\n",
    "    vec1.append(num)\n",
    "    i+=1\n",
    "i=0\n",
    "vec2=[]\n",
    "print(\"输入向量2:\")\n",
    "while i < n:\n",
    "    num = float(input(\"请输入一个数字:\"))\n",
    "    vec2.append(num)\n",
    "    i+=1\n",
    "print(\"两个向量的夹角余弦值为：\",cosvector(vec1,vec2))\n",
    "    "
   ]
  },
  {
   "cell_type": "code",
   "execution_count": 8,
   "metadata": {},
   "outputs": [
    {
     "name": "stdout",
     "output_type": "stream",
     "text": [
      "穷举种类为: 3741\n"
     ]
    }
   ],
   "source": [
    "#挑战性习题：python语言老师为了激励学生学python，自费买了100个完全相同的Macbook Pro，分给三个班级，\n",
    "#每个班级至少分5个，用穷举法计算共有多少种分法？\n",
    "def kindsof(num):\n",
    "    kinds=0\n",
    "    for i in range(num-14):\n",
    "        for j in range(num-14-i):\n",
    "            kinds+=1\n",
    "    return kinds\n",
    "print(\"穷举种类为:\",kindsof(100))"
   ]
  },
  {
   "cell_type": "code",
   "execution_count": null,
   "metadata": {
    "collapsed": true
   },
   "outputs": [],
   "source": []
  },
  {
   "cell_type": "code",
   "execution_count": null,
   "metadata": {
    "collapsed": true
   },
   "outputs": [],
   "source": []
  },
  {
   "cell_type": "markdown",
   "metadata": {},
   "source": []
  },
  {
   "cell_type": "markdown",
   "metadata": {},
   "source": []
  },
  {
   "cell_type": "markdown",
   "metadata": {},
   "source": []
  },
  {
   "cell_type": "code",
   "execution_count": null,
   "metadata": {
    "collapsed": true
   },
   "outputs": [],
   "source": []
  },
  {
   "cell_type": "code",
   "execution_count": null,
   "metadata": {
    "collapsed": true
   },
   "outputs": [],
   "source": []
  },
  {
   "cell_type": "code",
   "execution_count": null,
   "metadata": {
    "collapsed": true
   },
   "outputs": [],
   "source": []
  },
  {
   "cell_type": "code",
   "execution_count": null,
   "metadata": {
    "collapsed": true
   },
   "outputs": [],
   "source": []
  },
  {
   "cell_type": "code",
   "execution_count": null,
   "metadata": {
    "collapsed": true
   },
   "outputs": [],
   "source": []
  }
 ],
 "metadata": {
  "kernelspec": {
   "display_name": "Python 3",
   "language": "python",
   "name": "python3"
  },
  "language_info": {
   "codemirror_mode": {
    "name": "ipython",
    "version": 3
   },
   "file_extension": ".py",
   "mimetype": "text/x-python",
   "name": "python",
   "nbconvert_exporter": "python",
   "pygments_lexer": "ipython3",
   "version": "3.6.2"
  }
 },
 "nbformat": 4,
 "nbformat_minor": 2
}
