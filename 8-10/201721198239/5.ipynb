{
 "cells": [
  {
   "cell_type": "code",
   "execution_count": 1,
   "metadata": {},
   "outputs": [
    {
     "name": "stdout",
     "output_type": "stream",
     "text": [
      "请输入第1个整数，以回车结束。4\n",
      "请输入第2个整数，以回车结束。8\n",
      "25.72450193881312\n"
     ]
    }
   ],
   "source": [
    "#练习 1：写函数，求n个随机整数均值的平方根，整数范围在m与k之间（n,m,k由用户输入）。\n",
    "import random, math\n",
    "\n",
    "def con_sum(b,c,):\n",
    "    i=0\n",
    "    total=0\n",
    "    while i < b:\n",
    "        i=i+1\n",
    "        j = random.randint(c,1000)\n",
    "        total=total+j\n",
    "    p=total/b\n",
    "    a=math.sqrt(p)\n",
    "    return a\n",
    "    \n",
    "n = int(input('请输入第1个整数，以回车结束。'))\n",
    "m = int(input('请输入第2个整数，以回车结束。'))\n",
    "#k = int(input('请输入第3个整数(第三个整数大于第二个整数)），以回车结束。')\n",
    "con_sum(n,m,)\n",
    "print(con_sum(n,m,))"
   ]
  },
  {
   "cell_type": "code",
   "execution_count": 2,
   "metadata": {},
   "outputs": [
    {
     "name": "stdout",
     "output_type": "stream",
     "text": [
      "请输入第1个整数，以回车结束。5\n",
      "请输入第2个整数，以回车结束。8\n",
      "(37.85413211677704, 0.6708932034621911)\n"
     ]
    }
   ],
   "source": [
    "#练习 2：写函数，共n个随机整数，整数范围在m与k之间，（n,m,k由用户输入）。求1：西格玛log(随机整数)，2：西格玛1/log(随机整数)\n",
    "import random, math\n",
    "\n",
    "def con_sum(b,c,):\n",
    "    i=0\n",
    "    total=0\n",
    "    total1=0\n",
    "    while i < b:\n",
    "        i=i+1\n",
    "        j = random.randint(c,1000)\n",
    "        p=math.log2(j)\n",
    "        q=1/p\n",
    "        total=total+p\n",
    "        total1=total1+q\n",
    "    return total,total1\n",
    "    \n",
    "n = int(input('请输入第1个整数，以回车结束。'))\n",
    "m = int(input('请输入第2个整数，以回车结束。'))\n",
    "#k = int(input('请输入第3个整数(第三个整数大于第二个整数)），以回车结束。')\n",
    "con_sum(n,m,)\n",
    "print(con_sum(n,m,))\n"
   ]
  },
  {
   "cell_type": "code",
   "execution_count": null,
   "metadata": {
    "collapsed": true
   },
   "outputs": [],
   "source": []
  }
 ],
 "metadata": {
  "kernelspec": {
   "display_name": "Python 3",
   "language": "python",
   "name": "python3"
  },
  "language_info": {
   "codemirror_mode": {
    "name": "ipython",
    "version": 3
   },
   "file_extension": ".py",
   "mimetype": "text/x-python",
   "name": "python",
   "nbconvert_exporter": "python",
   "pygments_lexer": "ipython3",
   "version": "3.6.2"
  }
 },
 "nbformat": 4,
 "nbformat_minor": 2
}
