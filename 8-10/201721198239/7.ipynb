{
 "cells": [
  {
   "cell_type": "code",
   "execution_count": 1,
   "metadata": {},
   "outputs": [
    {
     "name": "stdout",
     "output_type": "stream",
     "text": [
      "输入测试字符，回车结束456\n",
      "654\n"
     ]
    }
   ],
   "source": [
    "#练习一：自己定义一个reverse（s）函数，功能返回字符串s的倒序字符串。\n",
    "def reverse(s):\n",
    "    rs=\"\"\n",
    "    for i in s:\n",
    "        rs=i+rs\n",
    "    return rs\n",
    "teststr=input('输入测试字符，回车结束')\n",
    "print(reverse(teststr))"
   ]
  },
  {
   "cell_type": "code",
   "execution_count": 5,
   "metadata": {},
   "outputs": [
    {
     "name": "stdout",
     "output_type": "stream",
     "text": [
      "输入一个字符，回车结束：#\n",
      "输入一个整数，回车结束：4\n",
      "打印直角三角形：\n",
      "#\n",
      "##\n",
      "###\n",
      "####\n",
      "打印等腰三角形：\n",
      "#\n",
      "###\n",
      "#####\n",
      "#######\n",
      "打印其他三角形：\n",
      "#######\n",
      "#####\n",
      "###\n",
      "#\n"
     ]
    }
   ],
   "source": [
    "#练习二：写函数，根据给定符号和行数，打印相应直角三角形，等腰三角形及其他形式的三角形。\n",
    "def rightangledtriangle(symbol,lines):\n",
    "    for i in range(lines):\n",
    "        print(symbol*(i+1))\n",
    "    return\n",
    "def isoscelestriangle(symbol,lines):\n",
    "    for i in range(lines):\n",
    "        print(\"\"*(lines-i-1)+symbol*(2*i+1))\n",
    "    return\n",
    "def invertedtriangle(symbol,lines):\n",
    "    for i in range(lines):\n",
    "        print(\"\"*i+symbol*(2*(lines-i)-1))\n",
    "    return\n",
    "symbol=input(\"输入一个字符，回车结束：\")\n",
    "lines=int(input(\"输入一个整数，回车结束：\"))\n",
    "print(\"打印直角三角形：\")\n",
    "rightangledtriangle(symbol,lines)\n",
    "print(\"打印等腰三角形：\")\n",
    "isoscelestriangle(symbol,lines)\n",
    "print(\"打印其他三角形：\")\n",
    "invertedtriangle(symbol,lines)"
   ]
  },
  {
   "cell_type": "code",
   "execution_count": 8,
   "metadata": {},
   "outputs": [
    {
     "name": "stdout",
     "output_type": "stream",
     "text": [
      "输入一个符号，回车结束：$\n",
      "输入菱形边长，回车结束：4\n",
      "   $\n",
      "  $$$\n",
      " $$$$$\n",
      "$$$$$$$\n",
      " $$$$$\n",
      "  $$$\n",
      "   $\n"
     ]
    }
   ],
   "source": [
    "#练习五：写函数，根据给定符号，打印各种菱形。\n",
    "def printrhombus(symbol,num):\n",
    "    i=1\n",
    "    while i<=num:\n",
    "        print(\" \"*(num-i)+symbol*(2*i-1))\n",
    "        i+=1\n",
    "    i=num-1\n",
    "    while i>0:\n",
    "        print(\" \"*(num-i)+symbol*(2*i-1))\n",
    "        i-=1\n",
    "symbol=input(\"输入一个符号，回车结束：\")\n",
    "num=int(input(\"输入菱形边长，回车结束：\"))\n",
    "printrhombus(symbol,num)\n"
   ]
  },
  {
   "cell_type": "code",
   "execution_count": null,
   "metadata": {
    "collapsed": true
   },
   "outputs": [],
   "source": []
  },
  {
   "cell_type": "code",
   "execution_count": null,
   "metadata": {
    "collapsed": true
   },
   "outputs": [],
   "source": []
  },
  {
   "cell_type": "code",
   "execution_count": null,
   "metadata": {
    "collapsed": true
   },
   "outputs": [],
   "source": []
  },
  {
   "cell_type": "code",
   "execution_count": null,
   "metadata": {
    "collapsed": true
   },
   "outputs": [],
   "source": []
  },
  {
   "cell_type": "code",
   "execution_count": null,
   "metadata": {
    "collapsed": true
   },
   "outputs": [],
   "source": []
  },
  {
   "cell_type": "code",
   "execution_count": null,
   "metadata": {
    "collapsed": true
   },
   "outputs": [],
   "source": []
  }
 ],
 "metadata": {
  "kernelspec": {
   "display_name": "Python 3",
   "language": "python",
   "name": "python3"
  },
  "language_info": {
   "codemirror_mode": {
    "name": "ipython",
    "version": 3
   },
   "file_extension": ".py",
   "mimetype": "text/x-python",
   "name": "python",
   "nbconvert_exporter": "python",
   "pygments_lexer": "ipython3",
   "version": "3.6.2"
  }
 },
 "nbformat": 4,
 "nbformat_minor": 2
}
