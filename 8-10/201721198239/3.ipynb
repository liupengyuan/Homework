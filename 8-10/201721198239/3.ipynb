{
 "cells": [
  {
   "cell_type": "code",
   "execution_count": 2,
   "metadata": {},
   "outputs": [
    {
     "name": "stdout",
     "output_type": "stream",
     "text": [
      "请输入一个整数:4\n",
      "请输入一个整数:6\n",
      "请输入选项：1\n",
      "10\n"
     ]
    }
   ],
   "source": [
    "#练习2：写程序，可由键盘读入两个整数m与n(n不等于0)，询问用户意图，如果要求和则计算从m到n的和输出，如果要乘积则计算从m到n的积并输出，\n",
    "#如果要求余数则计算m除以n的余数的值并输出，否则则计算m整除n的值并输出。\n",
    "m=int(input('请输入一个整数:'))\n",
    "while True:\n",
    "    n=int(input('请输入一个整数:'))\n",
    "    if n!=0:\n",
    "        break\n",
    "        print('n不为0,请重新输入')\n",
    "while True:\n",
    "    keyword=input('请输入选项：')\n",
    "    if keyword in ['1','2','3','4']:\n",
    "        break\n",
    "    print('输入错误选项,请重新输入')\n",
    "key=int(keyword)\n",
    "if key == 1:\n",
    "    print(m+n)\n",
    "elif key == 2:\n",
    "    print(m*n)\n",
    "elif key == 3:\n",
    "    print(m%n)\n",
    "elif key == 4:\n",
    "    print(m//n)"
   ]
  },
  {
   "cell_type": "code",
   "execution_count": 4,
   "metadata": {},
   "outputs": [
    {
     "name": "stdout",
     "output_type": "stream",
     "text": [
      "请输入一个英文名词（回车结束）：apple\n",
      "apple 的复数为： apples\n"
     ]
    }
   ],
   "source": [
    "#练习4;英文单词单数转复数，要求输入一个英文名词（单数形式），能够得到其复数形式，或给出单数转复数形式的建议\n",
    "#（提示，some_string.(some_letter)函数可以判断某字符串结尾字符，可尝试运行：'myname'.endswith('me')，liupengyuan'.endswith('n')）。\n",
    "\n",
    "def IsNotForeignWord(n):\n",
    "    return 1\n",
    "RemainArr = ('fish','sheep','cattle','deer','salmon')\n",
    "\n",
    "n = input('请输入一个英文名词（回车结束）：')\n",
    "if n in RemainArr :\n",
    "    n1 = n\n",
    "elif n.endswith(('y')):\n",
    "    YuanArr = ('a','e','i','o','u')\n",
    "    if n[-2] not in YuanArr :\n",
    "        n1 = n[:-1] + 'ies'\n",
    "elif n.endswith(('o')):\n",
    "    if IsNotForeignWord(n):\n",
    "        n1 = n + 'es'\n",
    "    else :\n",
    "        n1 = n + 's'\n",
    "elif n.endswith(('f')):\n",
    "    n1 = n[:-1] + 'ves'\n",
    "elif n.endswith(('fe')):\n",
    "    n1 = n[:-2] + 'ves'\n",
    "elif n.endswith(('us')):\n",
    "    n1 = n[:-2] + 'i'\n",
    "elif n.endswith(('is')):\n",
    "    n1 = n[:-2] + 'es'\n",
    "elif n.endswith(('ix')):\n",
    "    n1 = n[:-2] + 'ices'\n",
    "elif n.endswith(('a')):\n",
    "    n1 = n + 'e'\n",
    "elif n.endswith(('s','z','x')) or n.endswith(('ch','sh')):\n",
    "    n1 = n + 'es'\n",
    "else :\n",
    "    n1 = n + 's'\n",
    "print (n,'的复数为：',n1)"
   ]
  },
  {
   "cell_type": "code",
   "execution_count": null,
   "metadata": {
    "collapsed": true
   },
   "outputs": [],
   "source": []
  },
  {
   "cell_type": "code",
   "execution_count": null,
   "metadata": {
    "collapsed": true
   },
   "outputs": [],
   "source": []
  },
  {
   "cell_type": "code",
   "execution_count": null,
   "metadata": {
    "collapsed": true
   },
   "outputs": [],
   "source": []
  }
 ],
 "metadata": {
  "kernelspec": {
   "display_name": "Python 3",
   "language": "python",
   "name": "python3"
  },
  "language_info": {
   "codemirror_mode": {
    "name": "ipython",
    "version": 3
   },
   "file_extension": ".py",
   "mimetype": "text/x-python",
   "name": "python",
   "nbconvert_exporter": "python",
   "pygments_lexer": "ipython3",
   "version": "3.6.2"
  }
 },
 "nbformat": 4,
 "nbformat_minor": 2
}
