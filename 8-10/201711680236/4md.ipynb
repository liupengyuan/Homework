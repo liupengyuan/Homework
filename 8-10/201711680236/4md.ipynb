{
 "cells": [
  {
   "cell_type": "code",
   "execution_count": 1,
   "metadata": {},
   "outputs": [
    {
     "name": "stdout",
     "output_type": "stream",
     "text": [
      "请输入第1个整数，以回车结束。5\n",
      "请输入第2个整数，以回车结束。20\n",
      "请输入第3个整数，以回车结束。50\n",
      "最终的和是： 30414093201713378043612608166064768844377641571393414008176640120\n"
     ]
    }
   ],
   "source": [
    "#练习 1：写程序，可求m!+n!+k!\n",
    "\n",
    "def compute_product(end):\n",
    "    i=1\n",
    "    product=1\n",
    "    \n",
    "    while i<end:\n",
    "        i=i+1\n",
    "        product=product*i\n",
    "\n",
    "    return product\n",
    "\n",
    "n = int(input('请输入第1个整数，以回车结束。'))\n",
    "m = int(input('请输入第2个整数，以回车结束。'))\n",
    "k = int(input('请输入第3个整数，以回车结束。'))\n",
    "\n",
    "print('最终的和是：',compute_product(n) + compute_product(m) + compute_product(k))"
   ]
  },
  {
   "cell_type": "code",
   "execution_count": 2,
   "metadata": {},
   "outputs": [
    {
     "name": "stdout",
     "output_type": "stream",
     "text": [
      "3.140592653839794\n",
      "3.1415826535897198\n"
     ]
    }
   ],
   "source": [
    "#练习 2：写函数可返回1 - 1/3 + 1/5 - 1/7...的前n项的和。在主程序中，分别令n=1000及100000，打印4倍该函数的和。\n",
    "\n",
    "def compute_total(end):\n",
    "    n=1\n",
    "    total=1\n",
    "   \n",
    "    while n<end:\n",
    "        n=n+1\n",
    "        total=total+(1/(2*n-1)*(-1)**(n+1))\n",
    "    return total\n",
    "\n",
    "print(4*compute_total(1000))\n",
    "print(4*compute_total(100000))"
   ]
  },
  {
   "cell_type": "code",
   "execution_count": 3,
   "metadata": {},
   "outputs": [
    {
     "name": "stdout",
     "output_type": "stream",
     "text": [
      "请输入您的姓名，以回车结束余煊铖\n",
      "请输入您的生日月份，以回车结束1\n",
      "请输入您的出生日期，以回车结束2\n",
      "余煊铖 ,你是严肃认真的摩羯座！\n"
     ]
    }
   ],
   "source": [
    "def compute_constellation():\n",
    "    name=input('请输入您的姓名，以回车结束')\n",
    "    month=int(input('请输入您的生日月份，以回车结束'))\n",
    "    day=int(input('请输入您的出生日期，以回车结束'))\n",
    "    \n",
    "    if (month == 3 and 21<=day<=31) or (month == 4 and 1<=day<=19):\n",
    "        print(name,',你是白羊座！')\n",
    "    elif (month == 4 and 20<=day<=30) or (month == 5 and 1<=day<=20):\n",
    "        print (name,',你是金牛座！')\n",
    "    elif (month == 5 and 21<=day<=31) or (month == 6 and 1<=day<=21):\n",
    "        print (name,',你是双子座！')\n",
    "    elif (month == 6 and 22<=day<=30) or (month == 7 and 1<=day<=22):\n",
    "        print (name,',你是巨蟹座！')\n",
    "    elif (month == 7 and 23<=day<=31) or (month == 8 and 1<=day<=22):\n",
    "        print (name,',你是狮子座！')\n",
    "    elif (month == 8 and 23<=day<=31) or (month == 9 and 1<=day<=22):\n",
    "        print (name,',你是处女座！')\n",
    "    elif (month == 9 and 23<=day<=30) or (month == 10 and 1<=day<=23):\n",
    "        print (name,',你是天秤座！')\n",
    "    elif (month == 10 and 24<=day<=31) or (month == 11and 1<=day<=22):\n",
    "        print (name,',你是天蝎座！')\n",
    "    elif (month == 11 and 23<=day<=30) or (month == 12 and 1<=day<=21):\n",
    "        print (name,',你是射手座！')\n",
    "    elif (month == 12 and 22<=day<=31) or (month == 1 and 1<=day<=19):\n",
    "        print (name,',你是严肃认真的摩羯座！')\n",
    "    elif (month == 1 and 20<=day<=31) or (month == 2 and 1<=day<=18):\n",
    "        print (name,',你是水瓶座！')\n",
    "    elif (month == 2 and 19<=day<=29) or (month == 3 and 1<=day<=20):\n",
    "        print (name,',你是双鱼座！')\n",
    "\n",
    "compute_constellation()"
   ]
  },
  {
   "cell_type": "code",
   "execution_count": 4,
   "metadata": {},
   "outputs": [
    {
     "name": "stdout",
     "output_type": "stream",
     "text": [
      "请输入一个英语名词,以回车结束。family\n",
      "该名词变为复数时大多把y变i加es。\n"
     ]
    }
   ],
   "source": [
    "#练习 4：英文单词单数转复数，要求输入一个英文动词（单数形式），能够得到其复数形式，\n",
    "\n",
    "def noun_pl():\n",
    "    end=0\n",
    "    noun = input('请输入一个英语名词,以回车结束。')\n",
    "    if noun.endswith('s') or noun.endswith('x') or noun.endswith('ch') or noun.endswith('sh'): \n",
    "        end=str('es')\n",
    "        print(noun+end)\n",
    "    elif noun.endswith('o'):\n",
    "        end=str('es')\n",
    "        print(noun+end)\n",
    "    elif noun.endswith('y'):    \n",
    "        print('该名词变为复数时大多把y变i加es。')\n",
    "    elif noun.endswith('fe'): \n",
    "        print('该名词变为复数时大多把末尾的fe变为v加es。')\n",
    "    else:\n",
    "        print('该名词变为复数时大多在末尾加s。')\n",
    "noun_pl()"
   ]
  },
  {
   "cell_type": "code",
   "execution_count": 5,
   "metadata": {},
   "outputs": [
    {
     "name": "stdout",
     "output_type": "stream",
     "text": [
      "请输入一个较大的整数，以回车结束100\n",
      "请输入一个较小的整数，以回车结束5\n",
      "请输入数字之间的间隔，以回车结束5\n",
      "累加的和为： 1050\n"
     ]
    }
   ],
   "source": [
    "#挑战性练习：写程序，可以求从整数m到整数n累加的和，间隔为k，求和部分需用函数实现，主程序中由用户输入m，n，k调用函数验证正确性。\n",
    "\n",
    "def compute_sum(end):\n",
    "    m=int(input('请输入一个较小的整数，以回车结束'))\n",
    "    k=int(input('请输入数字之间的间隔，以回车结束'))\n",
    "    total=m\n",
    "    while m<end:\n",
    "        m=m+k\n",
    "        total=total+m\n",
    "    return total\n",
    "\n",
    "n=int(input('请输入一个较大的整数，以回车结束'))\n",
    "print('累加的和为：',compute_sum(n))"
   ]
  },
  {
   "cell_type": "code",
   "execution_count": null,
   "metadata": {},
   "outputs": [],
   "source": []
  }
 ],
 "metadata": {
  "kernelspec": {
   "display_name": "Python 3",
   "language": "python",
   "name": "python3"
  },
  "language_info": {
   "codemirror_mode": {
    "name": "ipython",
    "version": 3
   },
   "file_extension": ".py",
   "mimetype": "text/x-python",
   "name": "python",
   "nbconvert_exporter": "python",
   "pygments_lexer": "ipython3",
   "version": "3.6.2"
  }
 },
 "nbformat": 4,
 "nbformat_minor": 2
}
