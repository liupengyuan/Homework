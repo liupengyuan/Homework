{
 "cells": [
  {
   "cell_type": "code",
   "execution_count": 1,
   "metadata": {},
   "outputs": [
    {
     "name": "stdout",
     "output_type": "stream",
     "text": [
      "['cake', 'bread', 'apple', 'banana']\n",
      "['banana', 'apple', 'bread', 'cake']\n"
     ]
    }
   ],
   "source": [
    "#练习一：自己定义一个reverse(s)函数，功能返回字符串s的倒序字符串。\n",
    "\n",
    "s = ['cake','bread','apple','banana']\n",
    "print(s)\n",
    "\n",
    "s.reverse()\n",
    "print(s)"
   ]
  },
  {
   "cell_type": "code",
   "execution_count": 2,
   "metadata": {},
   "outputs": [
    {
     "name": "stdout",
     "output_type": "stream",
     "text": [
      "             酒\n",
      "            酒酒\n",
      "           酒味酒\n",
      "          酒味味酒\n",
      "         酒味今味酒\n",
      "        酒味今今味酒\n",
      "       酒味今秋今味酒\n",
      "      酒味今秋秋今味酒\n",
      "     酒味今秋似秋今味酒\n",
      "    酒味今秋似似秋今味酒\n",
      "   酒味今秋似去似秋今味酒\n",
      "  酒味今秋似去去似秋今味酒\n",
      " 酒味今秋似去秋去似秋今味酒\n",
      "酒\n",
      "酒酒\n",
      "酒味酒\n",
      "酒味味酒\n",
      "酒味今味酒\n",
      "酒味今今味酒\n",
      "酒味今秋今味酒\n",
      "酒味今秋秋今味酒\n",
      "酒味今秋似秋今味酒\n",
      "酒味今秋似似秋今味酒\n",
      "酒味今秋似去似秋今味酒\n",
      "酒味今秋似去去似秋今味酒\n",
      "酒味今秋似去秋去似秋今味酒\n",
      "      酒\n",
      "     酒酒\n",
      "    酒味酒\n",
      "   酒味味酒\n",
      "  酒味今味酒\n",
      " 酒味今今味酒\n"
     ]
    }
   ],
   "source": [
    "#练习二：写函数，根据给定符号和行数，打印相应直角三角形，等腰三角形及其他形式的三角形。\n",
    "\n",
    "line = '酒味今秋似去秋'\n",
    "\n",
    "#等腰三角形\n",
    "for i in range(1, len(line)*2):\n",
    "    if i == 1:\n",
    "        print(' '*(len(line)*2-1) +line[0])\n",
    "    elif i%2 == 1:\n",
    "        print(' '*(len(line)*2-i) + line[:i//2] + line[i//2] + line[i//2-1::-1])\n",
    "    else:\n",
    "        print(' '*(len(line)*2-i) + line[:i//2] + line[i//2-1::-1])\n",
    "            \n",
    "#直角三角形\n",
    "for i in range(1, len(line)*2):\n",
    "    if i == 1:\n",
    "        print(line[0])\n",
    "    elif i%2 == 1:\n",
    "        print(line[:i//2] + line[i//2] + line[i//2-1::-1])\n",
    "    else:\n",
    "        print(line[:i//2] + line[i//2-1::-1])\n",
    "        \n",
    "#等边三角形\n",
    "for i in range(1, len(line)):\n",
    "    if i == 1:\n",
    "        print(' '*(len(line)-1) +line[0])\n",
    "    elif i%2 == 1:\n",
    "        print(' '*(len(line)-i) + line[:i//2] + line[i//2] + line[i//2-1::-1])\n",
    "    else:\n",
    "        print(' '*(len(line)-i) + line[:i//2] + line[i//2-1::-1])   "
   ]
  },
  {
   "cell_type": "code",
   "execution_count": 1,
   "metadata": {},
   "outputs": [
    {
     "name": "stdout",
     "output_type": "stream",
     "text": [
      "       酒味今秋似去秋\n",
      "      酒味今秋似去秋\n",
      "     酒味今秋似去秋\n",
      "    酒味今秋似去秋\n",
      "   酒味今秋似去秋\n",
      "  酒味今秋似去秋\n",
      "      酒\n",
      "     酒酒\n",
      "    酒味酒\n",
      "   酒味味酒\n",
      "  酒味今味酒\n",
      " 酒味今今味酒\n",
      "  酒味今味酒\n",
      "   酒今味酒\n",
      "    酒味酒\n",
      "     酒酒\n",
      "      酒\n"
     ]
    }
   ],
   "source": [
    "#打印菱形\n",
    "\n",
    "line = '酒味今秋似去秋'\n",
    "\n",
    "#菱形（1）\n",
    "for i in range(1, len(line)):\n",
    "    print(' '*(len(line)-i+1) +line[:7])\n",
    "    \n",
    "#菱形（2）\n",
    "for i in range(1, len(line)):\n",
    "    if i == 1:\n",
    "        print(' '*(len(line)-1) +line[0])\n",
    "    elif i%2 == 1:\n",
    "        print(' '*(len(line)-i) + line[:i//2] + line[i//2] + line[i//2-1::-1])\n",
    "    else:\n",
    "        print(' '*(len(line)-i) + line[:i//2] + line[i//2-1::-1])   \n",
    "for i in range(1,len(line)-1):\n",
    "    if i == 1:\n",
    "        print(' '*2 + line[:2] + line[2::-1])\n",
    "    elif i == 2:\n",
    "        print(' '*3 + line[:1] + line[2::-1])\n",
    "    elif i == 3:\n",
    "        print(' '*4 + line[:1] + line[1::-1])\n",
    "    elif i == 4:\n",
    "        print(' '*5 + line[0] + line[0])\n",
    "    else:\n",
    "        print(' '*6 + line[0])"
   ]
  },
  {
   "cell_type": "code",
   "execution_count": null,
   "metadata": {},
   "outputs": [],
   "source": []
  }
 ],
 "metadata": {
  "kernelspec": {
   "display_name": "Python 3",
   "language": "python",
   "name": "python3"
  },
  "language_info": {
   "codemirror_mode": {
    "name": "ipython",
    "version": 3
   },
   "file_extension": ".py",
   "mimetype": "text/x-python",
   "name": "python",
   "nbconvert_exporter": "python",
   "pygments_lexer": "ipython3",
   "version": "3.6.2"
  }
 },
 "nbformat": 4,
 "nbformat_minor": 2
}
