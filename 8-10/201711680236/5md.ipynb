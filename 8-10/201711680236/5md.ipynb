{
 "cells": [
  {
   "cell_type": "code",
   "execution_count": 1,
   "metadata": {},
   "outputs": [
    {
     "name": "stdout",
     "output_type": "stream",
     "text": [
      "请输入一个较小的整数，以回车结束。1\n",
      "请输入一个较大的整数，以回车结束。100\n",
      "请输入要计算的整数个数，以回车结束。20\n",
      "均值平方根为 6.572670690061994\n"
     ]
    }
   ],
   "source": [
    "#练习 1：写函数，求n个随机整数均值的平方根，整数范围在m与k之间（n,m,k由用户输入）。\n",
    "import random\n",
    "def square_root(n,m,k):\n",
    "    i=0\n",
    "    total=0\n",
    "    while i<n:\n",
    "        total=total+random.randint(m,k)\n",
    "        i=i+1\n",
    "        average=total/n\n",
    "        square_root=average**0.5\n",
    "    return square_root\n",
    "m=int(input('请输入一个较小的整数，以回车结束。'))\n",
    "k=int(input('请输入一个较大的整数，以回车结束。'))\n",
    "n=int(input('请输入要计算的整数个数，以回车结束。'))\n",
    "\n",
    "print('均值平方根为',square_root(n,m,k))"
   ]
  },
  {
   "cell_type": "code",
   "execution_count": 2,
   "metadata": {},
   "outputs": [
    {
     "name": "stdout",
     "output_type": "stream",
     "text": [
      "请输入要计算的整数个数100\n",
      "请输入一个较小的整数5\n",
      "请输入一个较大的整数2000\n",
      "668.3399556632005\n",
      "0.0015305987314858367\n"
     ]
    }
   ],
   "source": [
    "#练习 2：写函数，共n个随机整数，整数范围在m与k之间，（n,m,k由用户输入）。求1：西格玛log(随机整数)，2：西格玛1/log(随机整数)\n",
    "import random\n",
    "import math\n",
    "def sigma_log(n,m,k):\n",
    "    i=0\n",
    "    total=0\n",
    "    \n",
    "    while i<n:\n",
    "        i=i+1\n",
    "        number=random.randint(m,k)\n",
    "        total=total+math.log(number)\n",
    "        \n",
    "    return total\n",
    "n=int(input('请输入要计算的整数个数'))\n",
    "m=int(input('请输入一个较小的整数'))\n",
    "k=int(input('请输入一个较大的整数'))\n",
    "\n",
    "print(sigma_log(n,m,k))\n",
    "print(1/sigma_log(n,m,k))"
   ]
  },
  {
   "cell_type": "code",
   "execution_count": null,
   "metadata": {},
   "outputs": [],
   "source": []
  }
 ],
 "metadata": {
  "kernelspec": {
   "display_name": "Python 3",
   "language": "python",
   "name": "python3"
  },
  "language_info": {
   "codemirror_mode": {
    "name": "ipython",
    "version": 3
   },
   "file_extension": ".py",
   "mimetype": "text/x-python",
   "name": "python",
   "nbconvert_exporter": "python",
   "pygments_lexer": "ipython3",
   "version": "3.6.2"
  }
 },
 "nbformat": 4,
 "nbformat_minor": 2
}
