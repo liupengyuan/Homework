{
 "cells": [
  {
   "cell_type": "code",
   "execution_count": 2,
   "metadata": {},
   "outputs": [
    {
     "ename": "SyntaxError",
     "evalue": "invalid character in identifier (<ipython-input-2-06d4bb2c885b>, line 15)",
     "output_type": "error",
     "traceback": [
      "\u001b[1;36m  File \u001b[1;32m\"<ipython-input-2-06d4bb2c885b>\"\u001b[1;36m, line \u001b[1;32m15\u001b[0m\n\u001b[1;33m    if choice==1：\u001b[0m\n\u001b[1;37m                ^\u001b[0m\n\u001b[1;31mSyntaxError\u001b[0m\u001b[1;31m:\u001b[0m invalid character in identifier\n"
     ]
    }
   ],
   "source": [
    "#2写程序，可由键盘读入两个整数m与n(n不等于0)，询问用户意图，如果要求和则计算从m到n的和输出，如果要乘积则计算从m到n的积并输出，如果要求余数则计算m除以n的余数的值并输出，否则则计算m整除n的值并输出。\n",
    "\n",
    "m=int(input(\"请输入一个整数，以回车结束。\"))\n",
    "n=int(input(\"请输入一个不为零的整数，以回车结束。\"))\n",
    "if n>m:\n",
    "    max=n\n",
    "    min=m\n",
    "else:\n",
    "    max=m\n",
    "    min=n\n",
    "i=min\n",
    "total=0\n",
    "product=1\n",
    "choice=int(input('请选择你想对这两个数进行的运算：求和请输入1、求从m到n的积请输入2、求余请输入3，否则将自动整除。'))\n",
    "if choice==1：\n",
    "    while i<=max:\n",
    "        total=total+i\n",
    "        i+=1\n",
    "    print(\"从m到n的和是\"，total)\n",
    "elif choice==2：\n",
    "    while i<=max:\n",
    "        product=product*i \n",
    "        i+=1\n",
    "    print(\"从m到n的积是\"，product)\n",
    "elif choice==3：\n",
    "    remainder=max%min\n",
    "    print(\"m除以n的余数是\"，remainder)\n",
    "else:\n",
    "    consult=max//min\n",
    "    print(\"m整除n的值是\"，consult)"
   ]
  },
  {
   "cell_type": "code",
   "execution_count": 44,
   "metadata": {},
   "outputs": [
    {
     "name": "stdout",
     "output_type": "stream",
     "text": [
      "请输入一英文单词。study\n",
      "studys\n"
     ]
    }
   ],
   "source": [
    "#4.英文单词单数转复数，要求输入一个英文动词（单数形式），能够得到其复数形式，或给出单数转复数形式的建议\n",
    "str=input(\"请输入一英文单词。\")\n",
    "if str.endswith(\"辅音字母+y\"):\n",
    "    str=str[-1]+'ies'\n",
    "elif str.endswith(\"s\") or str.endswith(\"o\") or str.endswith(\"sh\") or str.endswith(\"ch\") or str.endswith(\"x\"):\n",
    "    str=str+'es'   \n",
    "elif str.endswith(\"f\"):\n",
    "    str=str[-1]+'ves'\n",
    "elif str.endswith(\"fe\"):\n",
    "    str=str[-2]+'ves'\n",
    "else:\n",
    "    str=str+'s'\n",
    "print(str)"
   ]
  }
 ],
 "metadata": {
  "kernelspec": {
   "display_name": "Python 3",
   "language": "python",
   "name": "python3"
  },
  "language_info": {
   "codemirror_mode": {
    "name": "ipython",
    "version": 3
   },
   "file_extension": ".py",
   "mimetype": "text/x-python",
   "name": "python",
   "nbconvert_exporter": "python",
   "pygments_lexer": "ipython3",
   "version": "3.6.3"
  }
 },
 "nbformat": 4,
 "nbformat_minor": 2
}
