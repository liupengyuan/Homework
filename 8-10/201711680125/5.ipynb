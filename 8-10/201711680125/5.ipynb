{
 "cells": [
  {
   "cell_type": "code",
   "execution_count": 10,
   "metadata": {},
   "outputs": [
    {
     "name": "stdout",
     "output_type": "stream",
     "text": [
      "请输入一个整数，以回车结束。3\n",
      "请输入一个比m大的整数，以回车结束。8\n",
      "请输入一个比(k-m+1)小的正整数，以回车结束。4\n"
     ]
    },
    {
     "data": {
      "text/plain": [
       "2.449489742783178"
      ]
     },
     "execution_count": 10,
     "metadata": {},
     "output_type": "execute_result"
    }
   ],
   "source": [
    "#练习 1：写函数，求n个随机整数均值的平方根，整数范围在m与k之间（n,m,k由用户输入）。\n",
    "# 主函数  \n",
    "def computer():\n",
    "    import random\n",
    "    t=0\n",
    "    total=0\n",
    "    square=0\n",
    "    m=int(input('请输入一个整数，以回车结束。'))\n",
    "    k=int(input('请输入一个比m大的整数，以回车结束。'))\n",
    "    n=int(input('请输入一个比(k-m+1)小的正整数，以回车结束。'))\n",
    "    while t<=n: \n",
    "        t=t+1\n",
    "        i=random.randint(m,k)\n",
    "        total=total+i\n",
    "        average=total/t\n",
    "        square=average**(1/2)\n",
    "    return square\n",
    "    print(square)\n",
    "    \n",
    "computer()"
   ]
  },
  {
   "cell_type": "code",
   "execution_count": 12,
   "metadata": {},
   "outputs": [
    {
     "name": "stdout",
     "output_type": "stream",
     "text": [
      "请输入一个整数，以回车结束。4\n",
      "请输入一个比m大的整数，以回车结束。36\n",
      "请输入一个比(k-m+1)小的正整数，以回车结束。6\n",
      "30.18054188532618\n",
      "1.6637626363056204\n"
     ]
    }
   ],
   "source": [
    "#练习 2：写函数，共n个随机整数，整数范围在m与k之间，（n,m,k由用户输入）。求1：西格玛log(随机整数)，2：西格玛1/log(随机整数)\n",
    "def computer_sum():\n",
    "    import random, math\n",
    "    m=int(input('请输入一个整数，以回车结束。'))\n",
    "    k=int(input('请输入一个比m大的整数，以回车结束。'))\n",
    "    n=int(input('请输入一个比(k-m+1)小的正整数，以回车结束。'))\n",
    "    t=0\n",
    "    total_1=0\n",
    "    total_2=0\n",
    "    while t<=n:\n",
    "        t=t+1\n",
    "        number = random.randint(m,k)\n",
    "        s= math.log2(number)\n",
    "        q= 1/s\n",
    "        total_1=total_1+s\n",
    "        total_2=total_2+q\n",
    "    print(total_1)\n",
    "    print(total_2)\n",
    "                 \n",
    "                 \n",
    "computer_sum()"
   ]
  },
  {
   "cell_type": "code",
   "execution_count": null,
   "metadata": {},
   "outputs": [],
   "source": []
  }
 ],
 "metadata": {
  "kernelspec": {
   "display_name": "Python 3",
   "language": "python",
   "name": "python3"
  },
  "language_info": {
   "codemirror_mode": {
    "name": "ipython",
    "version": 3
   },
   "file_extension": ".py",
   "mimetype": "text/x-python",
   "name": "python",
   "nbconvert_exporter": "python",
   "pygments_lexer": "ipython3",
   "version": "3.6.3"
  }
 },
 "nbformat": 4,
 "nbformat_minor": 2
}
