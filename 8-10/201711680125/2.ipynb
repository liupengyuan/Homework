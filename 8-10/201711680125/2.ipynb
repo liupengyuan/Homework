{
 "cells": [
  {
   "cell_type": "code",
   "execution_count": 1,
   "metadata": {},
   "outputs": [
    {
     "name": "stdout",
     "output_type": "stream",
     "text": [
      "请输入一个正整数，以回车结束。5\n",
      "120\n"
     ]
    }
   ],
   "source": [
    "#1.仿照任务2完整代码，打印n!\n",
    "n = int(input('请输入一个正整数，以回车结束。'))\n",
    "i = 0\n",
    "t = 1\n",
    "while i < n:\n",
    "    i = i + 1\n",
    "    t = t * i\n",
    "print(t)"
   ]
  },
  {
   "cell_type": "code",
   "execution_count": 2,
   "metadata": {},
   "outputs": [
    {
     "name": "stdout",
     "output_type": "stream",
     "text": [
      "请输入你的姓名，以回车结束。杨澜\n",
      "你好 杨澜\n",
      "请输入一个正整数，以回车结束。5\n",
      "请输入一个正整数，以回车结束。3\n",
      "两个数的和是： 8\n",
      "再见！ 杨澜\n"
     ]
    }
   ],
   "source": [
    "#2.实践1\n",
    "name = input('请输入你的姓名，以回车结束。')\n",
    "print('你好', name)\n",
    "\n",
    "n = int(input('请输入一个正整数，以回车结束。'))\n",
    "m = int(input('请输入一个正整数，以回车结束。'))\n",
    "\n",
    "print('两个数的和是：', m+n)\n",
    "print('再见！', name)"
   ]
  },
  {
   "cell_type": "code",
   "execution_count": 3,
   "metadata": {},
   "outputs": [
    {
     "name": "stdout",
     "output_type": "stream",
     "text": [
      "请输入一个正整数，以回车结束3\n",
      "请输入一个整数，以回车结束-1\n",
      "-1\n",
      "请输入一个整数，以回车结束6\n",
      "5\n",
      "请输入一个整数，以回车结束4\n",
      "9\n"
     ]
    }
   ],
   "source": [
    "#3.仿照实践1，写出由用户指定整数个数，并由用户输入多个整数，并求和的代码。\n",
    "name = input('请输入你的姓名，以回车结束。')\n",
    "print('你好', name)\n",
    "\n",
    "n = int(input('请输入一个正整数，以回车结束。'))\n",
    "m = int(input('请输入一个正整数，以回车结束。'))\n",
    "\n",
    "print('两个数的和是：', m+n)\n",
    "print('再见！', name)"
   ]
  },
  {
   "cell_type": "code",
   "execution_count": 1,
   "metadata": {},
   "outputs": [
    {
     "name": "stdout",
     "output_type": "stream",
     "text": [
      "请输入一个数字，不想输入时输入s终止。1.2\n",
      "请输入一个数字，不想输入时输入s终止。5\n",
      "请输入一个数字，不想输入时输入s终止。s\n"
     ]
    }
   ],
   "source": [
    "#4.用户可以输入的任意多个数字，直到用户不想输入为止。\n",
    "n=input(\"请输入一个数字，不想输入时输入s终止。\")\n",
    "while n!=\"s\":\n",
    "     n=input(\"请输入一个数字，不想输入时输入s终止。\")"
   ]
  },
  {
   "cell_type": "code",
   "execution_count": 4,
   "metadata": {},
   "outputs": [
    {
     "name": "stdout",
     "output_type": "stream",
     "text": [
      "请输入一个整数，以回车结束。33\n",
      "请输入一个整数，以回车结束。55\n",
      "请输入一个整数，以回车结束。286\n",
      "请输入一个整数，以回车结束。589\n",
      "这些整数的和: 374\n",
      "这些整数的积; 519090\n"
     ]
    }
   ],
   "source": [
    "#5.用户可以输入的任意多个数字，直到输入所有数字的和比当前输入数字小，且输入所有数字的积比当前输入数字的平方大。\n",
    "s=1\n",
    "n=int(input(\"请输入一个整数，以回车结束。\"))\n",
    "total=0\n",
    "product=1\n",
    "while s:\n",
    "    if (total<n)and(product>n**2):\n",
    "        break\n",
    "    total=total+n\n",
    "    product=product*n\n",
    "    n=int(input(\"请输入一个整数，以回车结束。\"))\n",
    "\n",
    "print(\"这些整数的和:\",total)\n",
    "print('这些整数的积;',product)"
   ]
  }
 ],
 "metadata": {
  "kernelspec": {
   "display_name": "Python 3",
   "language": "python",
   "name": "python3"
  },
  "language_info": {
   "codemirror_mode": {
    "name": "ipython",
    "version": 3
   },
   "file_extension": ".py",
   "mimetype": "text/x-python",
   "name": "python",
   "nbconvert_exporter": "python",
   "pygments_lexer": "ipython3",
   "version": "3.6.3"
  }
 },
 "nbformat": 4,
 "nbformat_minor": 2
}
