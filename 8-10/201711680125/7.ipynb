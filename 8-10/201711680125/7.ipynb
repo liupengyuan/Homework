{
 "cells": [
  {
   "cell_type": "code",
   "execution_count": 20,
   "metadata": {},
   "outputs": [
    {
     "name": "stdout",
     "output_type": "stream",
     "text": [
      "学大言语京北\n"
     ]
    }
   ],
   "source": [
    "#练习一：自己定义一个reverse(s)函数，功能返回字符串s的倒序字符串。\n",
    "def reverse(s):\n",
    "    sub_s = ''\n",
    "    for i in range(len(s)):\n",
    "        sub_s += str(s[-i - 1])\n",
    "    print(sub_s)\n",
    "    \n",
    "s = '北京语言大学'\n",
    "reverse(s)"
   ]
  },
  {
   "cell_type": "code",
   "execution_count": 8,
   "metadata": {},
   "outputs": [
    {
     "name": "stdout",
     "output_type": "stream",
     "text": [
      "Enter number of rows: 6\n",
      "Enter the symbol: L\n",
      "L\n",
      "LL\n",
      "LLL\n",
      "LLLL\n",
      "LLLLL\n",
      "LLLLLL\n",
      "      L\n",
      "     LLL\n",
      "    LLLLL\n",
      "   LLLLLLL\n",
      "  LLLLLLLLL\n",
      " LLLLLLLLLLL\n",
      "  L\n",
      "   LL\n",
      "    LLL\n",
      "     LLLL\n",
      "      LLLLL\n",
      "       LLLLLL\n"
     ]
    }
   ],
   "source": [
    "#练习二：写函数，根据给定符号和行数，打印相应直角三角形，等腰三角形及其他形式的三角形\n",
    "def triangles():\n",
    "    rows = int(input('Enter number of rows: '))\n",
    "    s = input('Enter the symbol: ')\n",
    "\n",
    "    for i in range(rows):\n",
    "        print(s * (i + 1))\n",
    "    \n",
    "    for i in range(rows):\n",
    "        print(' ' * ((rows - 1) - i),s * (2 * i + 1))\n",
    "        \n",
    "    for i in range(rows):\n",
    "        print(' ' * (i + 1), s * (i + 1))\n",
    "        \n",
    "triangles()"
   ]
  },
  {
   "cell_type": "code",
   "execution_count": 9,
   "metadata": {},
   "outputs": [
    {
     "name": "stdout",
     "output_type": "stream",
     "text": [
      "This number of rows will be doubled!: 3\n",
      "Enter the symbol: D\n",
      "   D\n",
      "  DDD\n",
      " DDDDD\n",
      " DDDDD\n",
      "  DDD\n",
      "   D\n"
     ]
    }
   ],
   "source": [
    "#练习五：写函数，根据给定符号，打印各种菱形。\n",
    "def diamonds():\n",
    "    rows = int(input('This number of rows will be doubled!: '))\n",
    "    s = input('Enter the symbol: ')\n",
    "\n",
    "    for i in range(rows):\n",
    "        print(' ' * (rows - 1 - i),s * (2 * i + 1))\n",
    "        \n",
    "    for i in range(rows, 0, -1):\n",
    "        print(' ' * (rows - i),s * (2 * i - 1))\n",
    "        \n",
    "        \n",
    "diamonds()"
   ]
  },
  {
   "cell_type": "code",
   "execution_count": null,
   "metadata": {},
   "outputs": [],
   "source": []
  }
 ],
 "metadata": {
  "kernelspec": {
   "display_name": "Python 3",
   "language": "python",
   "name": "python3"
  },
  "language_info": {
   "codemirror_mode": {
    "name": "ipython",
    "version": 3
   },
   "file_extension": ".py",
   "mimetype": "text/x-python",
   "name": "python",
   "nbconvert_exporter": "python",
   "pygments_lexer": "ipython3",
   "version": "3.6.3"
  }
 },
 "nbformat": 4,
 "nbformat_minor": 2
}
