{
 "cells": [
  {
   "cell_type": "code",
   "execution_count": null,
   "metadata": {},
   "outputs": [],
   "source": [
    "#写函数，返回一个list中所有数字的和\n",
    "def hhh(n):\n",
    "   \n",
    "    total = 1\n",
    "    for i in range(n):\n",
    "        total=total+i   \n",
    "    return total\n",
    "\n",
    "\n",
    "# 测试\n",
    "n= int(input('请输入范围的最大值'))+1\n",
    "method(n)"
   ]
  },
  {
   "cell_type": "code",
   "execution_count": null,
   "metadata": {},
   "outputs": [],
   "source": [
    "#写函数，返回一个list中的最小值\n",
    "def min_numbers(n):\n",
    "    numbers=[]\n",
    "    i = 0\n",
    "    while i < n:\n",
    "        number = input('请输入一个数字，回车结束。')\n",
    "        numbers.append(number)\n",
    "        i += 1\n",
    "        a=min(numbers)\n",
    "    return a\n",
    "n=int(input('请输入需要输入的数字个数'))  \n",
    "print(min_numbers(n))"
   ]
  },
  {
   "cell_type": "code",
   "execution_count": null,
   "metadata": {},
   "outputs": [],
   "source": [
    "#写函数，返回某个元素/对象在一个list中的位置，如果不在，则返回-1\n",
    "numbers=[]\n",
    "n=int(input('请输入需要输入的个数，回车结束。'))\n",
    "i = 0\n",
    "while i < n:\n",
    "    number = input('请输入，回车结束。')\n",
    "    numbers.append(number)\n",
    "    i += 1\n",
    "\n",
    "m=int(input('请输入需要找的，回车结束。'))    \n",
    "if m not in numbers:\n",
    "    print(-1)\n",
    "else:\n",
    "    find=numbers.index(m)\n",
    "    print(find)"
   ]
  },
  {
   "cell_type": "code",
   "execution_count": 3,
   "metadata": {},
   "outputs": [
    {
     "name": "stdout",
     "output_type": "stream",
     "text": [
      "结果是0.9486832980505138\n"
     ]
    }
   ],
   "source": [
    "#可求两个向量的夹角余弦值，向量可放在list中。主程序调用该函数。\n",
    "def cosVector(x,y):\n",
    "    if(len(x)!=len(y)):\n",
    "        print('error ')\n",
    "        return;\n",
    "    result1=0.0;\n",
    "    result2=0.0;\n",
    "    result3=0.0;\n",
    "    for i in range(len(x)):\n",
    "        result1+=x[i]*y[i]   \n",
    "        result2+=x[i]**2    \n",
    "        result3+=y[i]**2  \n",
    "    print(\"结果是\"+str(result1/((result2*result3)**0.5)))\n",
    "cosVector([2,1],[1,1])\n",
    "\n",
    "\n"
   ]
  },
  {
   "cell_type": "code",
   "execution_count": null,
   "metadata": {},
   "outputs": [],
   "source": [
    "#python语言老师为了激励学生学python，自费买了100个完全相同的Macbook Pro，分给三个班级，每个班级至少分5个，用穷举法计算共有多少种分法？\n"
   ]
  }
 ],
 "metadata": {
  "kernelspec": {
   "display_name": "Python 3",
   "language": "python",
   "name": "python3"
  },
  "language_info": {
   "codemirror_mode": {
    "name": "ipython",
    "version": 3
   },
   "file_extension": ".py",
   "mimetype": "text/x-python",
   "name": "python",
   "nbconvert_exporter": "python",
   "pygments_lexer": "ipython3",
   "version": "3.6.0"
  }
 },
 "nbformat": 4,
 "nbformat_minor": 2
}
