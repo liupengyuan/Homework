{
 "cells": [
  {
   "cell_type": "code",
   "execution_count": 1,
   "metadata": {},
   "outputs": [
    {
     "name": "stdout",
     "output_type": "stream",
     "text": [
      "请输入一个正整数，以回车结束4\n",
      "24\n"
     ]
    }
   ],
   "source": [
    "n=int(input('请输入一个正整数，以回车结束'))\n",
    "i=0\n",
    "total=1\n",
    "while i<n:\n",
    "    i=i+1\n",
    "    total=total*i\n",
    "print(total)"
   ]
  },
  {
   "cell_type": "code",
   "execution_count": 3,
   "metadata": {},
   "outputs": [
    {
     "name": "stdout",
     "output_type": "stream",
     "text": [
      "请输入你的姓名，以回车结束。张伊晗\n",
      "你好！ 张伊晗\n",
      "请输入你想要的整数个数，以回车结束。7\n",
      "请输入一个整数，以回车结束。1\n",
      "请输入一个整数，以回车结束。2\n",
      "请输入一个整数，以回车结束。3\n",
      "请输入一个整数，以回车结束。4\n",
      "请输入一个整数，以回车结束。5\n",
      "请输入一个整数，以回车结束。6\n",
      "请输入一个整数，以回车结束。7\n",
      "28\n"
     ]
    }
   ],
   "source": [
    "name=input('请输入你的姓名，以回车结束。')\n",
    "print('你好！', name)\n",
    "n=int(input('请输入你想要的整数个数，以回车结束。'))\n",
    "i=0\n",
    "total=0\n",
    "while i<n:\n",
    "    i=i+1\n",
    "    m=int(input('请输入一个整数，以回车结束。'))\n",
    "    total=total+m\n",
    "print(total)\n"
   ]
  },
  {
   "cell_type": "code",
   "execution_count": 1,
   "metadata": {},
   "outputs": [
    {
     "name": "stdout",
     "output_type": "stream",
     "text": [
      "请输入你的姓名，以回车结束。z\n",
      "你好 z\n",
      "请输入一个正整数，以回车结束。3\n",
      "请输入一个正整数，以回车结束。3\n",
      "两个数的和是： 6\n",
      "再见！ z\n"
     ]
    }
   ],
   "source": [
    "name = input('请输入你的姓名，以回车结束。')\n",
    "print('你好', name)\n",
    "\n",
    "n = int(input('请输入一个正整数，以回车结束。'))\n",
    "m = int(input('请输入一个正整数，以回车结束。'))\n",
    "\n",
    "print('两个数的和是：', m+n)\n",
    "print('再见！', name)"
   ]
  },
  {
   "cell_type": "code",
   "execution_count": 9,
   "metadata": {},
   "outputs": [
    {
     "name": "stdout",
     "output_type": "stream",
     "text": [
      "请输入你的名字，以回车结束。张伊晗\n",
      "你好 张伊晗\n",
      "请输入你想输入的数字，以回车结束。55\n",
      "请输入你想输入的数字，以回车结束。33\n",
      "请输入你想输入的数字，以回车结束。44\n",
      "请输入你想输入的数字，以回车结束。11\n",
      "请输入你想输入的数字，以回车结束。222\n",
      "再见 张伊晗\n"
     ]
    }
   ],
   "source": [
    "name=input('请输入你的名字，以回车结束。')\n",
    "print('你好',name)\n",
    "n=int(input('请输入你想输入的数字，以回车结束。'))\n",
    "total=0\n",
    "p=1\n",
    "while total>=n or p<=500:\n",
    "    total=total+n\n",
    "    p=p*n\n",
    "    n=int(input('请输入你想输入的数字，以回车结束。'))\n",
    "print('再见',name)\n",
    "    "
   ]
  },
  {
   "cell_type": "code",
   "execution_count": null,
   "metadata": {},
   "outputs": [
    {
     "name": "stdout",
     "output_type": "stream",
     "text": [
      "请输入你的名字，以回车结束。张伊晗\n",
      "你好 张伊晗\n",
      "请输入你想输入的数字，以回车结束。2\n",
      "请输入你想输入的数字，以回车结束。3\n",
      "请输入你想输入的数字，以回车结束。4\n",
      "请输入你想输入的数字，以回车结束。5\n",
      "请输入你想输入的数字，以回车结束。6\n",
      "请输入你想输入的数字，以回车结束。22\n"
     ]
    }
   ],
   "source": [
    "name=input('请输入你的名字，以回车结束。')\n",
    "print('你好',name)\n",
    "n=int(input('请输入你想输入的数字，以回车结束。'))\n",
    "i=0\n",
    "while i<1:\n",
    "    n=int(input('请输入你想输入的数字，以回车结束。'))\n",
    "\n",
    "    \n",
    "    "
   ]
  }
 ],
 "metadata": {
  "kernelspec": {
   "display_name": "Python 3",
   "language": "python",
   "name": "python3"
  },
  "language_info": {
   "codemirror_mode": {
    "name": "ipython",
    "version": 3
   },
   "file_extension": ".py",
   "mimetype": "text/x-python",
   "name": "python",
   "nbconvert_exporter": "python",
   "pygments_lexer": "ipython3",
   "version": "3.6.0"
  }
 },
 "nbformat": 4,
 "nbformat_minor": 2
}
