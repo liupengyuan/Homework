{
 "cells": [
  {
   "cell_type": "code",
   "execution_count": 1,
   "metadata": {},
   "outputs": [
    {
     "name": "stdout",
     "output_type": "stream",
     "text": [
      "请输入第1个整数，以回车结束。3\n",
      "请输入第2个整数，以回车结束。4\n",
      "请输入第3个整数，以回车结束。5\n",
      "最终的和是： 864\n"
     ]
    }
   ],
   "source": [
    "#练习1.仿照求$ \\sum_{i=1}^mi + \\sum_{i=1}^ni  + \\sum_{i=1}^ki$的完整代码，写程序，可求m!+n!+k!\n",
    "def compute_factorial(end):\n",
    "    i = 0\n",
    "    product_n = 1\n",
    "\n",
    "    while i <= end:\n",
    "        i = i + 1\n",
    "        product_n =product_n * i\n",
    "\n",
    "    return product_n\n",
    "\n",
    "n = int(input('请输入第1个整数，以回车结束。'))\n",
    "m = int(input('请输入第2个整数，以回车结束。'))\n",
    "k = int(input('请输入第3个整数，以回车结束。'))\n",
    "\n",
    "print('最终的和是：', compute_factorial(n) + compute_factorial(m) + compute_factorial(k))"
   ]
  },
  {
   "cell_type": "code",
   "execution_count": 11,
   "metadata": {},
   "outputs": [
    {
     "name": "stdout",
     "output_type": "stream",
     "text": [
      "请输入一个整数，以回车结束。1000\n",
      "请输入一个整数，以回车结束。100000\n",
      "4倍的和是： 3.1425916543395442\n",
      "4倍的和是： 3.1416026534897203\n"
     ]
    }
   ],
   "source": [
    "#练习2.写函数可返回1 - 1/3 + 1/5 - 1/7...的前n项的和。在主程序中，分别令n=1000及100000，打印4倍该函数的和。\n",
    "def computer_sum(end):\n",
    "    i=0\n",
    "    total_n=0\n",
    "    \n",
    "    while i<=end:\n",
    "        i=i+1\n",
    "        n=((-1)**(i+1))*((1)/(2*i-(1)))\n",
    "        total_n=total_n+n\n",
    "        \n",
    "    return total_n\n",
    "\n",
    "n = int(input('请输入一个整数，以回车结束。'))\n",
    "m = int(input('请输入一个整数，以回车结束。'))\n",
    "\n",
    "print('4倍的和是：',4*computer_sum(n))\n",
    "print('4倍的和是：',4*computer_sum(m))"
   ]
  },
  {
   "cell_type": "code",
   "execution_count": 2,
   "metadata": {},
   "outputs": [
    {
     "name": "stdout",
     "output_type": "stream",
     "text": [
      "请输入你的名字，以回车结束。张伊晗\n",
      "请以四位数的形式输入你的出生日期，如4月23号输入为0423，以此类推。1031\n",
      "张伊晗 你是非常神秘的天蝎座。\n"
     ]
    }
   ],
   "source": [
    "#练习3.1写程序，可由键盘读入用户姓名例如Mr. right，让用户输入出生的月份与日期，判断用户星座，假设用户是金牛座，则输出，Mr. right，你是非常有性格的金牛座！。\n",
    "def computer_sum():\n",
    "   \n",
    "    if 321<=date<=419:\n",
    "        print(name,'你是非常慷慨的白羊座。')\n",
    "    elif 420<=date<=520:\n",
    "        print(name,'你是非常有性格的金牛座。')\n",
    "    elif 521<=date<=620:\n",
    "        print(name,'你是喜欢变化的双子座。')\n",
    "    elif 621<=date<=722:\n",
    "        print(name,'你是非常善良的巨蟹座。')\n",
    "    elif 723<=date<=822:\n",
    "        print(name,'你是非常自信的狮子座。')\n",
    "    elif 823<=date<=922:\n",
    "        print(name,'你是追求完美的处女座。')\n",
    "    elif 923<=date<=1022:\n",
    "        print(name,'你是非常优雅的天秤座。')\n",
    "    elif 1023<=date<=1121:\n",
    "        print(name,'你是非常神秘的天蝎座。') \n",
    "    elif 1122<=date<=1221:\n",
    "        print(name,'你是非常乐观的射手座。') \n",
    "    elif 1222<=date<=119:\n",
    "        print(name,'你是非常有耐心的摩羯座。')\n",
    "    elif 120<=date<=218:\n",
    "        print(name,'你是非常有创新意识的水瓶座。')\n",
    "    else:\n",
    "        print(n,'你是非常复杂的双鱼座。')\n",
    "    \n",
    "name=input('请输入你的名字，以回车结束。')\n",
    "date=int(input('请以四位数的形式输入你的出生日期，如4月23号输入为0423，以此类推。'))    \n",
    "        \n",
    "computer_sum()     "
   ]
  },
  {
   "cell_type": "code",
   "execution_count": 1,
   "metadata": {},
   "outputs": [
    {
     "name": "stdout",
     "output_type": "stream",
     "text": [
      "请输入一个数字，以回车结束。100\n",
      "请打开空气净化器。\n"
     ]
    }
   ],
   "source": [
    "#练习3.2写程序，能够根据北京雾霾PM2.5数值给出对应的防护建议。如当PM2.5数值大于500，则应该打开空气净化器，戴防雾霾口罩等。\n",
    "def computer_sum():\n",
    "    n=int(input('请输入一个数字，以回车结束。'))\n",
    "    \n",
    "    if 0<=n<=75:\n",
    "        print('请戴好口罩。')\n",
    "    elif n>75:\n",
    "        print('请打开空气净化器。')\n",
    "        \n",
    "        \n",
    "computer_sum()"
   ]
  },
  {
   "cell_type": "code",
   "execution_count": 60,
   "metadata": {},
   "outputs": [
    {
     "name": "stdout",
     "output_type": "stream",
     "text": [
      "请输入一个整数，以回车结束。4\n",
      "请输入一个整数，以回车结束。8\n",
      "请输入一个整数，以回车结束。2\n",
      "24\n"
     ]
    }
   ],
   "source": [
    "#挑战性练习.写程序，可以求从整数m到整数n累加的和，间隔为k，求和部分需用函数实现，主程序中由用户输入m，n，k调用函数验证正确性。\n",
    "def computer_sum():\n",
    "    if m<n:\n",
    "        max=n\n",
    "        min=m\n",
    "    else:\n",
    "        max=m\n",
    "        min=n\n",
    "    i=min\n",
    "    total=0\n",
    "    while i<=max:\n",
    "        i=i+k\n",
    "        total=total+i\n",
    "    return total\n",
    "    \n",
    "    \n",
    "m=int(input('请输入一个整数，以回车结束。'))\n",
    "n=int(input('请输入一个整数，以回车结束。'))\n",
    "k=int(input('请输入一个整数，以回车结束。'))\n",
    "print(computer_sum())"
   ]
  },
  {
   "cell_type": "code",
   "execution_count": null,
   "metadata": {},
   "outputs": [],
   "source": []
  }
 ],
 "metadata": {
  "kernelspec": {
   "display_name": "Python 3",
   "language": "python",
   "name": "python3"
  },
  "language_info": {
   "codemirror_mode": {
    "name": "ipython",
    "version": 3
   },
   "file_extension": ".py",
   "mimetype": "text/x-python",
   "name": "python",
   "nbconvert_exporter": "python",
   "pygments_lexer": "ipython3",
   "version": "3.6.3"
  }
 },
 "nbformat": 4,
 "nbformat_minor": 2
}
