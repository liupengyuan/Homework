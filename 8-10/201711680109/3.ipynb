{
 "cells": [
  {
   "cell_type": "code",
   "execution_count": 30,
   "metadata": {},
   "outputs": [
    {
     "name": "stdout",
     "output_type": "stream",
     "text": [
      "请输入一个整数，以回车结束。7\n",
      "请输入一个非零整数，以回车结束。2\n",
      "求和请输入1，乘积请输入2，求余数请输入3，都不需要请输入其他任意数字，以回车结束。4\n",
      "3\n"
     ]
    }
   ],
   "source": [
    "m=int(input('请输入一个整数，以回车结束。'))\n",
    "n=int(input('请输入一个非零整数，以回车结束。'))\n",
    "o=int(input('求和请输入1，乘积请输入2，求余数请输入3，都不需要请输入其他任意数字，以回车结束。'))\n",
    "s=2*m\n",
    "if o==1:\n",
    "    if m<n:\n",
    "        i=0\n",
    "        p=n-m\n",
    "        q=0\n",
    "        while i<p:\n",
    "            i=i+1\n",
    "            q=q+i\n",
    "        r=q+m*(p+1)\n",
    "        print(r)\n",
    "   \n",
    "    elif m>n:\n",
    "        \n",
    "        i=0\n",
    "        p=m-n\n",
    "        q=0\n",
    "        while i<p:\n",
    "            i=i+1\n",
    "            q=q+i\n",
    "        r=q+n*(p+1)\n",
    "        print(r)\n",
    "    else:\n",
    "        print(m+m)\n",
    "elif o==2:\n",
    "    if m<n:\n",
    "        i=0\n",
    "        p=n-m\n",
    "        s=m\n",
    "        q=m\n",
    "        while i<p:\n",
    "            i=i+1\n",
    "            q=q+1\n",
    "            s=s*q\n",
    "        print(s)\n",
    "    elif m>n:\n",
    "        i=0\n",
    "        p=m-n\n",
    "        s=n\n",
    "        q=n\n",
    "        while i<p:\n",
    "            i=i+1\n",
    "            q=q+1\n",
    "            s=s*q\n",
    "        print(s)\n",
    "    else:\n",
    "        print(m**2)\n",
    "elif  o==3:\n",
    "    print(m%n)\n",
    "else:\n",
    "    print(m//n)\n",
    "    \n",
    "    \n",
    "    "
   ]
  },
  {
   "cell_type": "code",
   "execution_count": null,
   "metadata": {},
   "outputs": [],
   "source": [
    "n=input('请输入一个英文名词，以回车结束。')\n",
    "if n.endswith('e'):\n",
    "    print('请在末尾加上s')\n",
    "elif n.endswith('s')or n.endswith('o'):\n",
    "    print('请在末尾加上es')\n",
    "elif n.endswith('y') :\n",
    "    print('请改y为i加es')\n",
    "elif n.endswith('f'):\n",
    "    print('请改f为v加es')\n",
    "else:\n",
    "    print('请在末尾加上s')\n"
   ]
  },
  {
   "cell_type": "code",
   "execution_count": null,
   "metadata": {},
   "outputs": [],
   "source": []
  },
  {
   "cell_type": "code",
   "execution_count": null,
   "metadata": {},
   "outputs": [],
   "source": []
  }
 ],
 "metadata": {
  "kernelspec": {
   "display_name": "Python 3",
   "language": "python",
   "name": "python3"
  },
  "language_info": {
   "codemirror_mode": {
    "name": "ipython",
    "version": 3
   },
   "file_extension": ".py",
   "mimetype": "text/x-python",
   "name": "python",
   "nbconvert_exporter": "python",
   "pygments_lexer": "ipython3",
   "version": "3.6.0"
  }
 },
 "nbformat": 4,
 "nbformat_minor": 2
}
