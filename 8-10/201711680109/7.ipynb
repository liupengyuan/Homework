{
 "cells": [
  {
   "cell_type": "code",
   "execution_count": 13,
   "metadata": {},
   "outputs": [
    {
     "data": {
      "text/plain": [
       "'e,d,c,b,a'"
      ]
     },
     "execution_count": 13,
     "metadata": {},
     "output_type": "execute_result"
    }
   ],
   "source": [
    "#练习一：自己定义一个reverse(s)函数，功能返回字符串s的倒序字符串。\n",
    "def reverse(s):\n",
    "\n",
    "    x = len(s)\n",
    "    sub_line = ''\n",
    "    for i in range(x-1, -1, -1):\n",
    "         sub_line += s[i]\n",
    "    return sub_line\n",
    "s = 'a,b,c,d,e'\n",
    "reverse(s)"
   ]
  },
  {
   "cell_type": "code",
   "execution_count": null,
   "metadata": {},
   "outputs": [],
   "source": [
    "#写函数，根据给定符号和行数，打印相应直角三角形，等腰三角形及其他形式的三角形。\n",
    "def triangle(n):\n",
    "    m=int(input('请输入需要的图形，直角三角形输入1，等腰三角形输入2'))\n",
    "    if m==1:\n",
    "        \n",
    "        line = '|'*n\n",
    "        for i in range(1, len(line)+1):\n",
    "            print((len(line)*2-i)*' ' + line[0]*i, end='')\n",
    "            print()\n",
    "        return \n",
    "    else :\n",
    "        line = '。'*n\n",
    "        for i in range(1, len(line)+1):\n",
    "            print((len(line)*2-i)*' ' + line[0]*i, end='')\n",
    "            print()\n",
    "        return \n",
    "n=int(input('请输入行数'))\n",
    "triangle(n)"
   ]
  },
  {
   "cell_type": "code",
   "execution_count": null,
   "metadata": {},
   "outputs": [],
   "source": [
    "#练习三：将任务4中的英语名词单数变复数的函数，尽可能的考虑多种情况，重新进行实现。\n",
    "line=str(input('请输入名词的单数形式'))\n",
    "def english_noun(line):\n",
    "    x=len(line)\n",
    "    if line.endswith('e'):\n",
    "        print（line+'s'）\n",
    "  \n",
    "    elif line.endswith('s')or n.endswith('o'):\n",
    "        print(line+'es')\n",
    "    elif line.endswith('y') :\n",
    "        print(line[0:x-1]+'ies')\n",
    "    elif line.endswith('f'):\n",
    "        print(line[0:x-1]+'ves')\n",
    "    else:\n",
    "        print('请在末尾加上s')\n",
    "    return\n",
    "line=str(input('请输入名词的单数形式'))\n",
    "english_noun(line)"
   ]
  },
  {
   "cell_type": "code",
   "execution_count": null,
   "metadata": {},
   "outputs": [],
   "source": []
  }
 ],
 "metadata": {
  "kernelspec": {
   "display_name": "Python 3",
   "language": "python",
   "name": "python3"
  },
  "language_info": {
   "codemirror_mode": {
    "name": "ipython",
    "version": 3
   },
   "file_extension": ".py",
   "mimetype": "text/x-python",
   "name": "python",
   "nbconvert_exporter": "python",
   "pygments_lexer": "ipython3",
   "version": "3.6.0"
  }
 },
 "nbformat": 4,
 "nbformat_minor": 2
}
