{
 "cells": [
  {
   "cell_type": "code",
   "execution_count": 1,
   "metadata": {},
   "outputs": [
    {
     "name": "stdout",
     "output_type": "stream",
     "text": [
      "请输入m的值，按回车结束:5\n",
      "请输入n的值，按回车结束:1\n",
      "请输入k的值，按回车结束:3\n",
      "m!+n!+k!的值为： 127\n"
     ]
    }
   ],
   "source": [
    "#练习1#\n",
    "def total_h(m):\n",
    "    i=1\n",
    "    total=1\n",
    "    while i<m:\n",
    "        i=i+1\n",
    "        total=total*i\n",
    "    return total\n",
    "\n",
    "m=int(input('请输入m的值，按回车结束:'))\n",
    "n=int(input('请输入n的值，按回车结束:'))\n",
    "k=int(input('请输入k的值，按回车结束:'))\n",
    "\n",
    "print('m!+n!+k!的值为：',total_h(m)+total_h(n)+total_h(k))"
   ]
  },
  {
   "cell_type": "code",
   "execution_count": 2,
   "metadata": {},
   "outputs": [
    {
     "name": "stdout",
     "output_type": "stream",
     "text": [
      "17.742530693340424\n",
      "26.952870981991452\n"
     ]
    }
   ],
   "source": [
    "#练习2#\n",
    "\n",
    "def total_b(n):\n",
    "    i=0\n",
    "    total=0\n",
    "    while i<n:\n",
    "        i=i+1\n",
    "        total=total+1/(2*i-1)\n",
    "    return total\n",
    "n=int(1000)\n",
    "print(4*total_b(n))\n",
    "\n",
    "m=int(100000)\n",
    "print(4*total_b(m))"
   ]
  },
  {
   "cell_type": "code",
   "execution_count": 6,
   "metadata": {},
   "outputs": [
    {
     "name": "stdout",
     "output_type": "stream",
     "text": [
      "请输入您的出生月份（例：10）10\n",
      "月\n",
      "请输入你的出生日期（例：4）4\n",
      "日\n",
      "你是帅气的 天秤座Libra\n"
     ]
    }
   ],
   "source": [
    "#练习3 \n",
    "\n",
    "def constellation(m):\n",
    "    if (m>=3.21 and m<=3.31)or(m>=4.01 and  m<=4.19):\n",
    "        kind='白羊座Aries'\n",
    "    elif (m>=4.20 and m<=4.30)or(m>=5.01 and m<=5.20):\n",
    "        kind='金牛座Taures'\n",
    "    elif (m>=5.21 and m<=5.31)or(m>=6.01 and m<=6.21):\n",
    "        kind='双子座Gemini'\n",
    "    elif (m>=6.22 and m<=6.30)or(m>=7.01 and m<=7.22):\n",
    "        kind='巨蟹座Cancer'\n",
    "    elif (m>=7.23 and m<=7.31)or(m>=8.01 and m<=8.22):\n",
    "        kind='狮子座Leo'\n",
    "    elif (m>=8.23 and m<=8.31)or(m>=9.01 and m<=9.22):\n",
    "        kind='处女座Virgo'\n",
    "    elif (m>=9.23 and m<=9.30)or(m>=10.01 and m<=10.23):\n",
    "        kind='天秤座Libra'\n",
    "    elif (m>=10.24 and m<=10.30)or(m>=11.01 and m<=11.22):\n",
    "        kind= '天蝎座Scorpio'\n",
    "    elif (m>=11.23 and m<=11.30)or(m>=12.01 and m<=12.21):\n",
    "        kind='射手座Sagittarius'\n",
    "    elif (m>=12.22 and m<=12.31)or(m>=1.01 and m<=1.19):\n",
    "        kind='摩羯座Capricorn'\n",
    "    elif (m>=1.20 and m<=1.31)or(m>=2.01 and m<=2.18):\n",
    "        kind='水瓶座Aquarius'\n",
    "    elif (m>=2.19 and m<=2.29)or(m>=3.01 and m<=3.20):\n",
    "        kind='双鱼座Prices'\n",
    "    else:\n",
    "        kind='您输入的日期不符合要求！'\n",
    "    return kind\n",
    "\n",
    "        \n",
    "month=int(input('请输入您的出生月份（例：10）'))\n",
    "print('月')\n",
    "date=int(input('请输入你的出生日期（例：4）'))\n",
    "print('日')\n",
    "day=float(month+0.01*date)\n",
    "    \n",
    "\n",
    "print('你是帅气的',constellation(day))"
   ]
  },
  {
   "cell_type": "code",
   "execution_count": 7,
   "metadata": {},
   "outputs": [
    {
     "name": "stdout",
     "output_type": "stream",
     "text": [
      "请输入你想要查询的英语名词：applause\n",
      "该英语名词的复数为 applauses\n"
     ]
    }
   ],
   "source": [
    "#练习3#\n",
    "\n",
    "def my_word(word):    \n",
    "    if word.endswith('y'):  \n",
    "        change=(word[:-1] + 'ies')  \n",
    "    elif word[-1] in ['s','x'] or word[-2:] in ['sh', 'ch']:  \n",
    "        change=(word + 'es')  \n",
    "    elif word.endswith('an'):  \n",
    "        change=(word[:-2] + 'en')  \n",
    "    elif word[-1] in ['f'] or word[-2:] in ['fe']:\n",
    "        change=(word[:-2]+'ves')\n",
    "    else:  \n",
    "        change=(word + 's')\n",
    "    return change\n",
    "\n",
    "word=input('请输入你想要查询的英语名词：')\n",
    "print('该英语名词的复数为',my_word(word))"
   ]
  },
  {
   "cell_type": "code",
   "execution_count": 8,
   "metadata": {},
   "outputs": [
    {
     "name": "stdout",
     "output_type": "stream",
     "text": [
      "请输入第一个整数，以回车结束4\n",
      "请输入第二个整数(n<m)，以回车结束6\n",
      "请输入n到m的间隔，以回车结束2\n",
      "最终的和是： 4\n"
     ]
    }
   ],
   "source": [
    "#挑战性练习\n",
    "def compute_sum(end):\n",
    "    m=int(input('请输入第一个整数，以回车结束'))\n",
    "    n=int(input('请输入第二个整数(n<m)，以回车结束'))\n",
    "    k=int(input('请输入n到m的间隔，以回车结束'))\n",
    "    total=m\n",
    "    while n<m:\n",
    "        n=n+((m-n)/k)\n",
    "        total=total+n\n",
    "    return(total)\n",
    "    \n",
    "print('最终的和是：',compute_sum(n))"
   ]
  }
 ],
 "metadata": {
  "kernelspec": {
   "display_name": "Python 3",
   "language": "python",
   "name": "python3"
  },
  "language_info": {
   "codemirror_mode": {
    "name": "ipython",
    "version": 3
   },
   "file_extension": ".py",
   "mimetype": "text/x-python",
   "name": "python",
   "nbconvert_exporter": "python",
   "pygments_lexer": "ipython3",
   "version": "3.6.2"
  }
 },
 "nbformat": 4,
 "nbformat_minor": 2
}
