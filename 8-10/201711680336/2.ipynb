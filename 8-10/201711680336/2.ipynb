{
 "cells": [
  {
   "cell_type": "code",
   "execution_count": 2,
   "metadata": {},
   "outputs": [
    {
     "name": "stdout",
     "output_type": "stream",
     "text": [
      "请输入您的名字，按回车结束：纪晨\n",
      "您好 纪晨 欢迎来到python的世界\n",
      "请输入一个正整数，按回车结束1\n",
      "1\n",
      "再见 纪晨\n"
     ]
    }
   ],
   "source": [
    "纪晨=input('请输入您的名字，按回车结束：')\n",
    "print('您好',纪晨,'欢迎来到python的世界')\n",
    "\n",
    "n=int(input('请输入一个正整数，按回车结束'))\n",
    "i=1\n",
    "total=1\n",
    "while i<n+1:\n",
    "    total=total*i\n",
    "    i=i+1\n",
    "print(total)\n",
    "\n",
    "print('再见',纪晨)"
   ]
  },
  {
   "cell_type": "code",
   "execution_count": 3,
   "metadata": {},
   "outputs": [
    {
     "name": "stdout",
     "output_type": "stream",
     "text": [
      "请输入您的名字，按回车结束：纪晨\n",
      "您好 纪晨 欢迎来到python的世界\n",
      "请输入您想要输入的整数个数，按回车结束。2\n",
      "请输入一个整数，按回车结束。1\n",
      "1\n",
      "请输入一个整数，按回车结束。2\n",
      "3\n",
      "所有整数的和是： 3\n",
      "再见 纪晨\n"
     ]
    }
   ],
   "source": [
    "name=input('请输入您的名字，按回车结束：')\n",
    "print('您好',name,'欢迎来到python的世界')\n",
    "\n",
    "i=int(input('请输入您想要输入的整数个数，按回车结束。'))\n",
    "h=0\n",
    "total=0\n",
    "while h<i:\n",
    "    j=int(input('请输入一个整数，按回车结束。'))\n",
    "    total=total+j\n",
    "    h=h+1\n",
    "    print(total)\n",
    "print('所有整数的和是：',total)\n",
    "\n",
    "print('再见',name)"
   ]
  },
  {
   "cell_type": "code",
   "execution_count": 4,
   "metadata": {},
   "outputs": [
    {
     "name": "stdout",
     "output_type": "stream",
     "text": [
      "请输入您的名字，按回车结束：纪晨\n",
      "您好 纪晨 欢迎来到python的世界\n",
      "请输入一个数字,按回车结束2\n",
      "继续输入吗？（yes or no)，按回车结束yes\n",
      "请输入一个数字，按回车结束3\n",
      "继续输入吗？（yes or no)，按回车结束no\n",
      "谢谢使用 纪晨\n"
     ]
    }
   ],
   "source": [
    "name=input('请输入您的名字，按回车结束：')\n",
    "print('您好',name,'欢迎来到python的世界')\n",
    "\n",
    "m='yes'\n",
    "n='no'\n",
    "total=int(input('请输入一个数字,按回车结束'))\n",
    "h=input('继续输入吗？（yes or no)，按回车结束')\n",
    "while h==m:\n",
    "    j=int(input('请输入一个数字，按回车结束'))\n",
    "    h=input('继续输入吗？（yes or no)，按回车结束')\n",
    "    \n",
    "else:print('谢谢使用',name)"
   ]
  },
  {
   "cell_type": "code",
   "execution_count": 5,
   "metadata": {},
   "outputs": [
    {
     "name": "stdout",
     "output_type": "stream",
     "text": [
      "请输入您的名字，按回车结束：纪晨\n",
      "您好 纪晨 欢迎来到python的世界\n",
      "请输入一个数字3\n",
      "请继续输入一个数字5\n",
      "请继续输入一个数字2\n",
      "请继续输入一个数字1\n",
      "请继续输入一个数字8\n",
      "请继续输入一个数字9\n",
      "请继续输入一个数字22222\n",
      "符合输入所有数字的和比当前输入数字小，且输入所有数字的积大于500，结束\n",
      "再见 纪晨\n"
     ]
    }
   ],
   "source": [
    "name=input('请输入您的名字，按回车结束：')\n",
    "print('您好',name,'欢迎来到python的世界')\n",
    "\n",
    "total=0\n",
    "product=1\n",
    "m=int(input('请输入一个数字'))\n",
    "total=total+m\n",
    "product=product*m\n",
    "n=int(input('请继续输入一个数字'))\n",
    "while total>=n or product<=500:\n",
    "    total=total+n\n",
    "    product=product*n\n",
    "    n=int(input('请继续输入一个数字'))\n",
    "else:print('符合输入所有数字的和比当前输入数字小，且输入所有数字的积大于500，结束')\n",
    "    \n",
    "print('再见',name)"
   ]
  },
  {
   "cell_type": "code",
   "execution_count": null,
   "metadata": {},
   "outputs": [],
   "source": []
  }
 ],
 "metadata": {
  "kernelspec": {
   "display_name": "Python 3",
   "language": "python",
   "name": "python3"
  },
  "language_info": {
   "codemirror_mode": {
    "name": "ipython",
    "version": 3
   },
   "file_extension": ".py",
   "mimetype": "text/x-python",
   "name": "python",
   "nbconvert_exporter": "python",
   "pygments_lexer": "ipython3",
   "version": "3.6.2"
  }
 },
 "nbformat": 4,
 "nbformat_minor": 2
}
