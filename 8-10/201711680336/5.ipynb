{
 "cells": [
  {
   "cell_type": "code",
   "execution_count": 10,
   "metadata": {},
   "outputs": [
    {
     "name": "stdout",
     "output_type": "stream",
     "text": [
      "请输入您的名字，按回车结束：纪晨\n",
      "============================\n",
      "       您好 纪晨  \n",
      "    欢迎来到python的世界！\n",
      "============================\n",
      "请输入您要取的整数个数，按回车结束：8\n",
      "请输入该范围的下限，按回车结束：2\n",
      "请输入该范围的上限，按回车结束：5\n",
      "您所求的n个随机整数的均值的平方根的值为： 1.8027756377319946\n",
      "============================\n",
      "         再见 纪晨 \n",
      "============================\n"
     ]
    }
   ],
   "source": [
    "#练习 1：写函数，求n个随机整数均值的平方根，整数范围在m与k之间（n,m,k由用户输入）\n",
    "import math,random\n",
    "def my_squareroot(n):\n",
    "    i=0\n",
    "    total=0\n",
    "    while i<n:\n",
    "        a=random.randint(m,k) \n",
    "        total+=a\n",
    "        i+=1\n",
    "    average=total/n\n",
    "    squareroot=math.sqrt(average)\n",
    "    return squareroot\n",
    "\n",
    "name=input('请输入您的名字，按回车结束：')\n",
    "print('''============================\n",
    "       您好''',name,\n",
    "     ''' \n",
    "    欢迎来到python的世界！\n",
    "============================''')\n",
    "n=int(input('请输入您要取的整数个数，按回车结束：'))\n",
    "m=int(input('请输入该范围的下限，按回车结束：'))\n",
    "k=int(input('请输入该范围的上限，按回车结束：'))\n",
    "print('您所求的n个随机整数的均值的平方根的值为：',my_squareroot(n)) \n",
    "print('''============================\n",
    "         再见''',name,'''\n",
    "============================''')"
   ]
  },
  {
   "cell_type": "code",
   "execution_count": 11,
   "metadata": {},
   "outputs": [
    {
     "name": "stdout",
     "output_type": "stream",
     "text": [
      "请输入您的名字，按回车结束：纪晨\n",
      "欢迎来到我的世界！ 纪晨\n",
      "请输入您要取的整数个数，按回车结束：4\n",
      "请输入该范围的下限，按回车结束：2\n",
      "请输入该范围的上限，按回车结束：9\n",
      "西格玛log(随机整数) 3.0 西格玛1/log(随机整数) 0.3333333333333333\n",
      "西格玛log(随机整数) 2.807354922057604 西格玛1/log(随机整数) 0.3562071871080222\n",
      "西格玛log(随机整数) 2.807354922057604 西格玛1/log(随机整数) 0.3562071871080222\n",
      "西格玛log(随机整数) 1.0 西格玛1/log(随机整数) 1.0\n",
      "您要求的值\n",
      "   如下 结束\n",
      "谢谢使用！ 纪晨\n"
     ]
    }
   ],
   "source": [
    "import math,random\n",
    "\n",
    "def my_sigma(n):\n",
    "    i=0\n",
    "    c=random.randint(m,k)\n",
    "    while i<n:\n",
    "        a=random.randint(m,k)\n",
    "        i+=1\n",
    "        b=math.log(a,c)\n",
    "        d=(1/math.log(a,c))\n",
    "        print('西格玛log(随机整数)',b,'西格玛1/log(随机整数)',d)\n",
    "    return '结束'\n",
    "\n",
    "name=input('请输入您的名字，按回车结束：')\n",
    "print('欢迎来到我的世界！',name)\n",
    "n=int(input('请输入您要取的整数个数，按回车结束：'))\n",
    "m=int(input('请输入该范围的下限，按回车结束：'))\n",
    "k=int(input('请输入该范围的上限，按回车结束：'))\n",
    "print('''您要求的值\n",
    "   如下''',\n",
    "my_sigma(n))  \n",
    "print('谢谢使用！',name)\n"
   ]
  }
 ],
 "metadata": {
  "kernelspec": {
   "display_name": "Python 3",
   "language": "python",
   "name": "python3"
  },
  "language_info": {
   "codemirror_mode": {
    "name": "ipython",
    "version": 3
   },
   "file_extension": ".py",
   "mimetype": "text/x-python",
   "name": "python",
   "nbconvert_exporter": "python",
   "pygments_lexer": "ipython3",
   "version": "3.6.2"
  }
 },
 "nbformat": 4,
 "nbformat_minor": 2
}
