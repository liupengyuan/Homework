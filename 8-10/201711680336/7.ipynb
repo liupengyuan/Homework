{
 "cells": [
  {
   "cell_type": "code",
   "execution_count": 2,
   "metadata": {},
   "outputs": [
    {
     "name": "stdout",
     "output_type": "stream",
     "text": [
      "enil"
     ]
    }
   ],
   "source": [
    "def reverse(s):\n",
    "    for i in range (len(s)-1,-1,-1):\n",
    "        print(s[i],end='')\n",
    "s='line'\n",
    "reverse(s)"
   ]
  },
  {
   "cell_type": "code",
   "execution_count": 8,
   "metadata": {},
   "outputs": [
    {
     "name": "stdout",
     "output_type": "stream",
     "text": [
      "输入你想要的行数 8\n",
      "输入你想要的元素 A\n",
      "A\n",
      "AA\n",
      "AAA\n",
      "AAAA\n",
      "AAAAA\n",
      "AAAAAA\n",
      "AAAAAAA\n",
      "AAAAAAAA\n",
      "        A\n",
      "       AAA\n",
      "      AAAAA\n",
      "     AAAAAAA\n",
      "    AAAAAAAAA\n",
      "   AAAAAAAAAAA\n",
      "  AAAAAAAAAAAAA\n",
      " AAAAAAAAAAAAAAA\n",
      "  A\n",
      "   AA\n",
      "    AAA\n",
      "     AAAA\n",
      "      AAAAA\n",
      "       AAAAAA\n",
      "        AAAAAAA\n",
      "         AAAAAAAA\n"
     ]
    }
   ],
   "source": [
    "def triangles():\n",
    "    rows = int(input('输入你想要的行数 '))\n",
    "    s = input('输入你想要的元素 ')\n",
    "\n",
    "    for i in range(rows):\n",
    "        print(s * (i + 1))\n",
    "    \n",
    "    for i in range(rows):\n",
    "        print(' ' * ((rows - 1) - i),s * (2 * i + 1))\n",
    "        \n",
    "    for i in range(rows):\n",
    "        print(' ' * (i + 1), s * (i + 1))\n",
    "        \n",
    "triangles()"
   ]
  },
  {
   "cell_type": "code",
   "execution_count": 9,
   "metadata": {
    "scrolled": true
   },
   "outputs": [
    {
     "name": "stdout",
     "output_type": "stream",
     "text": [
      "加倍！: 8\n",
      "输入元素: A\n",
      "        A\n",
      "       AAA\n",
      "      AAAAA\n",
      "     AAAAAAA\n",
      "    AAAAAAAAA\n",
      "   AAAAAAAAAAA\n",
      "  AAAAAAAAAAAAA\n",
      " AAAAAAAAAAAAAAA\n",
      " AAAAAAAAAAAAAAA\n",
      "  AAAAAAAAAAAAA\n",
      "   AAAAAAAAAAA\n",
      "    AAAAAAAAA\n",
      "     AAAAAAA\n",
      "      AAAAA\n",
      "       AAA\n",
      "        A\n"
     ]
    }
   ],
   "source": [
    "def diamonds():\n",
    "    rows = int(input('加倍！: '))\n",
    "    s = input('输入元素: ')\n",
    "\n",
    "    for i in range(rows):\n",
    "        print(' ' * (rows - 1 - i),s * (2 * i + 1))\n",
    "        \n",
    "    for i in range(rows, 0, -1):\n",
    "        print(' ' * (rows - i),s * (2 * i - 1))\n",
    "        \n",
    "        \n",
    "diamonds()"
   ]
  },
  {
   "cell_type": "code",
   "execution_count": null,
   "metadata": {},
   "outputs": [],
   "source": []
  },
  {
   "cell_type": "code",
   "execution_count": null,
   "metadata": {},
   "outputs": [],
   "source": []
  },
  {
   "cell_type": "code",
   "execution_count": null,
   "metadata": {},
   "outputs": [],
   "source": []
  },
  {
   "cell_type": "code",
   "execution_count": null,
   "metadata": {},
   "outputs": [],
   "source": []
  },
  {
   "cell_type": "code",
   "execution_count": null,
   "metadata": {},
   "outputs": [],
   "source": []
  }
 ],
 "metadata": {
  "kernelspec": {
   "display_name": "Python 3",
   "language": "python",
   "name": "python3"
  },
  "language_info": {
   "codemirror_mode": {
    "name": "ipython",
    "version": 3
   },
   "file_extension": ".py",
   "mimetype": "text/x-python",
   "name": "python",
   "nbconvert_exporter": "python",
   "pygments_lexer": "ipython3",
   "version": "3.6.2"
  }
 },
 "nbformat": 4,
 "nbformat_minor": 2
}
