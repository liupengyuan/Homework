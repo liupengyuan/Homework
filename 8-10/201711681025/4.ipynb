{
 "cells": [
  {
   "cell_type": "code",
   "execution_count": 6,
   "metadata": {},
   "outputs": [
    {
     "name": "stdout",
     "output_type": "stream",
     "text": [
      "请输入第一个数字，以回车结束66\n",
      "请输入第二个数字，以回车结束9\n",
      "请输入的三个数字，以回车结束10\n",
      "最终的和是： 2311\n"
     ]
    }
   ],
   "source": [
    "def compute_sum(end):                     #练习一\n",
    "    i=0\n",
    "    total_n=0\n",
    "    while i<end:\n",
    "        i=i+1\n",
    "        total_n=total_n+i\n",
    "        \n",
    "    return total_n\n",
    "\n",
    "m=int(input('请输入第一个数字，以回车结束'))\n",
    "n=int(input('请输入第二个数字，以回车结束'))\n",
    "k=int(input('请输入的三个数字，以回车结束'))\n",
    "\n",
    "\n",
    "print('最终的和是：', compute_sum(m) + compute_sum(n) + compute_sum(k))"
   ]
  },
  {
   "cell_type": "code",
   "execution_count": 28,
   "metadata": {},
   "outputs": [
    {
     "name": "stdout",
     "output_type": "stream",
     "text": [
      "若想求1+1/3+1/5+...+的前n项的和，请输入 n/2，并以回车结束2\n",
      "最终的和是： 0.7238095238095239\n"
     ]
    }
   ],
   "source": [
    "def compute_sum(end): #练习二 \n",
    "    i=-1 \n",
    "    total_n=0\n",
    "    while i<n:\n",
    "        i=i+2\n",
    "        k=1/(2*i-1) - 1/(2*i+1)\n",
    "        total_n=total_n + k \n",
    "    return total_n\n",
    "\n",
    "\n",
    "n=int(input('若想求1+1/3+1/5+...+的前n项的和，请输入 n/2，并以回车结束'))\n",
    "\n",
    "print('最终的和是：',compute_sum(n))"
   ]
  },
  {
   "cell_type": "code",
   "execution_count": 3,
   "metadata": {},
   "outputs": [
    {
     "name": "stdout",
     "output_type": "stream",
     "text": [
      "请输入您的生日，以回车结束6.17\n",
      "你是双子座\n",
      "None\n"
     ]
    }
   ],
   "source": [
    "def constellation(date):       #练习四 Task3 T1\n",
    "    \n",
    "    \n",
    "    if 1.19<date<2.19:\n",
    "        print('你是水瓶座')\n",
    "    elif 2.18<date<3.21:\n",
    "        print('你是双鱼座')\n",
    "    elif 3.20<date<4.20:\n",
    "        print('你是白羊座')\n",
    "    elif 4.19<date<5.21:\n",
    "        print('你是金牛座')\n",
    "    elif 5.20<date<6.22:\n",
    "        print('你是双子座')\n",
    "    elif 6.21<date<7.23:\n",
    "        print('你是巨蟹座')\n",
    "    elif 7.22<date<8.23:\n",
    "        print('你是狮子座')\n",
    "    elif 3.22<date<9.23:\n",
    "        print('你是处女座')\n",
    "    elif 9.22<date<10.24:\n",
    "        print('你是天枰座')\n",
    "    elif 10.23<date<11.23:\n",
    "        print('你是天蝎座')\n",
    "    elif 11.22<date<12.22:\n",
    "        print('你是射手座')\n",
    "    elif date>12.21 or date<1.20:\n",
    "        print('你是摩羯座')\n",
    "\n",
    "\n",
    "date=float(input('请输入您的生日，以回车结束'))\n",
    "print(constellation(date))\n",
    "\n"
   ]
  },
  {
   "cell_type": "code",
   "execution_count": 5,
   "metadata": {},
   "outputs": [
    {
     "name": "stdout",
     "output_type": "stream",
     "text": [
      "请输入一个名词（单数形式），以回车结束cat\n",
      "cat s\n"
     ]
    }
   ],
   "source": [
    "def plural(word):               #练习四 Task3 T4\n",
    "    if word.endswith('y'):  \n",
    "        print(word[0:-1],\"ies\")\n",
    "    elif word.endswith('f'):\n",
    "        print(word[0:-1],'ves')\n",
    "    elif word.endswith('fe'):\n",
    "        print(word[0:-2],'ves')\n",
    "    else :\n",
    "        print(word,'s')\n",
    "\n",
    "word=input('请输入一个名词（单数形式），以回车结束')\n",
    "plural(word)\n",
    "        \n"
   ]
  },
  {
   "cell_type": "code",
   "execution_count": 2,
   "metadata": {},
   "outputs": [
    {
     "name": "stdout",
     "output_type": "stream",
     "text": [
      "请输入第一个整数，以回车结束6\n",
      "请输入第二个整数(n<m)，以回车结束2\n",
      "请输入n到m的间隔，以回车结束2\n",
      "最终的和是： 320.0\n"
     ]
    }
   ],
   "source": [
    "#挑战性练习\n",
    "def compute_sum(end):\n",
    "    m=int(input('请输入第一个整数，以回车结束'))\n",
    "    n=int(input('请输入第二个整数(n<m)，以回车结束'))\n",
    "    k=int(input('请输入n到m的间隔，以回车结束'))\n",
    "    total=m\n",
    "    while n<m:\n",
    "        n=n+((m-n)/k)\n",
    "        total=total+n\n",
    "    return(total)\n",
    "    \n",
    "    \n",
    "    \n",
    "\n",
    "\n",
    "print('最终的和是：',compute_sum(n))\n",
    "    \n",
    "    \n"
   ]
  },
  {
   "cell_type": "code",
   "execution_count": null,
   "metadata": {},
   "outputs": [],
   "source": []
  },
  {
   "cell_type": "code",
   "execution_count": null,
   "metadata": {},
   "outputs": [],
   "source": []
  },
  {
   "cell_type": "code",
   "execution_count": null,
   "metadata": {},
   "outputs": [],
   "source": []
  },
  {
   "cell_type": "code",
   "execution_count": null,
   "metadata": {},
   "outputs": [],
   "source": []
  },
  {
   "cell_type": "code",
   "execution_count": null,
   "metadata": {},
   "outputs": [],
   "source": []
  },
  {
   "cell_type": "code",
   "execution_count": null,
   "metadata": {},
   "outputs": [],
   "source": []
  },
  {
   "cell_type": "code",
   "execution_count": null,
   "metadata": {},
   "outputs": [],
   "source": []
  },
  {
   "cell_type": "code",
   "execution_count": null,
   "metadata": {},
   "outputs": [],
   "source": []
  },
  {
   "cell_type": "code",
   "execution_count": null,
   "metadata": {},
   "outputs": [],
   "source": []
  },
  {
   "cell_type": "code",
   "execution_count": null,
   "metadata": {},
   "outputs": [],
   "source": []
  },
  {
   "cell_type": "code",
   "execution_count": null,
   "metadata": {},
   "outputs": [],
   "source": []
  },
  {
   "cell_type": "code",
   "execution_count": null,
   "metadata": {},
   "outputs": [],
   "source": []
  },
  {
   "cell_type": "code",
   "execution_count": null,
   "metadata": {},
   "outputs": [],
   "source": []
  },
  {
   "cell_type": "code",
   "execution_count": null,
   "metadata": {},
   "outputs": [],
   "source": []
  },
  {
   "cell_type": "code",
   "execution_count": null,
   "metadata": {},
   "outputs": [],
   "source": []
  },
  {
   "cell_type": "code",
   "execution_count": null,
   "metadata": {},
   "outputs": [],
   "source": []
  },
  {
   "cell_type": "code",
   "execution_count": null,
   "metadata": {},
   "outputs": [],
   "source": []
  },
  {
   "cell_type": "code",
   "execution_count": null,
   "metadata": {},
   "outputs": [],
   "source": []
  },
  {
   "cell_type": "code",
   "execution_count": null,
   "metadata": {},
   "outputs": [],
   "source": []
  },
  {
   "cell_type": "code",
   "execution_count": null,
   "metadata": {},
   "outputs": [],
   "source": []
  },
  {
   "cell_type": "code",
   "execution_count": null,
   "metadata": {},
   "outputs": [],
   "source": []
  },
  {
   "cell_type": "code",
   "execution_count": null,
   "metadata": {},
   "outputs": [],
   "source": []
  },
  {
   "cell_type": "code",
   "execution_count": null,
   "metadata": {},
   "outputs": [],
   "source": []
  },
  {
   "cell_type": "code",
   "execution_count": null,
   "metadata": {},
   "outputs": [],
   "source": []
  },
  {
   "cell_type": "code",
   "execution_count": null,
   "metadata": {},
   "outputs": [],
   "source": []
  },
  {
   "cell_type": "code",
   "execution_count": null,
   "metadata": {},
   "outputs": [],
   "source": []
  },
  {
   "cell_type": "code",
   "execution_count": null,
   "metadata": {},
   "outputs": [],
   "source": []
  },
  {
   "cell_type": "code",
   "execution_count": null,
   "metadata": {},
   "outputs": [],
   "source": []
  },
  {
   "cell_type": "code",
   "execution_count": null,
   "metadata": {},
   "outputs": [],
   "source": []
  },
  {
   "cell_type": "code",
   "execution_count": null,
   "metadata": {},
   "outputs": [],
   "source": []
  },
  {
   "cell_type": "code",
   "execution_count": null,
   "metadata": {},
   "outputs": [],
   "source": []
  },
  {
   "cell_type": "code",
   "execution_count": null,
   "metadata": {},
   "outputs": [],
   "source": []
  },
  {
   "cell_type": "code",
   "execution_count": null,
   "metadata": {},
   "outputs": [],
   "source": []
  },
  {
   "cell_type": "code",
   "execution_count": null,
   "metadata": {},
   "outputs": [],
   "source": []
  },
  {
   "cell_type": "code",
   "execution_count": null,
   "metadata": {},
   "outputs": [],
   "source": []
  },
  {
   "cell_type": "code",
   "execution_count": null,
   "metadata": {},
   "outputs": [],
   "source": []
  },
  {
   "cell_type": "code",
   "execution_count": null,
   "metadata": {},
   "outputs": [],
   "source": []
  },
  {
   "cell_type": "code",
   "execution_count": null,
   "metadata": {},
   "outputs": [],
   "source": []
  },
  {
   "cell_type": "code",
   "execution_count": null,
   "metadata": {},
   "outputs": [],
   "source": []
  },
  {
   "cell_type": "code",
   "execution_count": null,
   "metadata": {},
   "outputs": [],
   "source": []
  },
  {
   "cell_type": "code",
   "execution_count": null,
   "metadata": {},
   "outputs": [],
   "source": []
  },
  {
   "cell_type": "code",
   "execution_count": null,
   "metadata": {},
   "outputs": [],
   "source": []
  },
  {
   "cell_type": "code",
   "execution_count": null,
   "metadata": {},
   "outputs": [],
   "source": []
  },
  {
   "cell_type": "code",
   "execution_count": null,
   "metadata": {},
   "outputs": [],
   "source": []
  },
  {
   "cell_type": "code",
   "execution_count": null,
   "metadata": {},
   "outputs": [],
   "source": []
  },
  {
   "cell_type": "code",
   "execution_count": null,
   "metadata": {},
   "outputs": [],
   "source": []
  },
  {
   "cell_type": "code",
   "execution_count": null,
   "metadata": {},
   "outputs": [],
   "source": []
  },
  {
   "cell_type": "code",
   "execution_count": null,
   "metadata": {},
   "outputs": [],
   "source": []
  },
  {
   "cell_type": "code",
   "execution_count": null,
   "metadata": {},
   "outputs": [],
   "source": []
  },
  {
   "cell_type": "code",
   "execution_count": null,
   "metadata": {},
   "outputs": [],
   "source": []
  },
  {
   "cell_type": "code",
   "execution_count": null,
   "metadata": {},
   "outputs": [],
   "source": []
  },
  {
   "cell_type": "code",
   "execution_count": null,
   "metadata": {},
   "outputs": [],
   "source": []
  },
  {
   "cell_type": "code",
   "execution_count": null,
   "metadata": {},
   "outputs": [],
   "source": []
  }
 ],
 "metadata": {
  "kernelspec": {
   "display_name": "Python 3",
   "language": "python",
   "name": "python3"
  }
 },
 "nbformat": 4,
 "nbformat_minor": 2
}
