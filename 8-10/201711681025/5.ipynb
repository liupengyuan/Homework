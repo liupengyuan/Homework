{
 "cells": [
  {
   "cell_type": "code",
   "execution_count": 30,
   "metadata": {},
   "outputs": [
    {
     "name": "stdout",
     "output_type": "stream",
     "text": [
      "请输入一个整数，作为求均值平方的整数的下限，以回车结束0\n",
      "请输入一个整数，作为求均值平方的整数的上限，以回车结束3\n",
      "请输入所取的随机整数的个数，以回车结束1\n",
      "1.7320508075688772\n"
     ]
    }
   ],
   "source": [
    "def compute_sum(end):              #练习1\n",
    "    i=0\n",
    "    total=0\n",
    "    while i<n:\n",
    "        i=i+1\n",
    "        import random\n",
    "        number = random.randint(m, k)\n",
    "        total=total+number\n",
    "    c=total/n\n",
    "    import math\n",
    "    squaral=math.sqrt(c)\n",
    "    print(squaral)\n",
    "    \n",
    "\n",
    "        \n",
    "    \n",
    " \n",
    "    \n",
    "    \n",
    "\n",
    "\n",
    "    \n",
    "\n",
    "        \n",
    "m=int(input('请输入一个整数，作为求均值平方的整数的下限，以回车结束'))\n",
    "k=int(input('请输入一个整数，作为求均值平方的整数的上限，以回车结束'))\n",
    "n=int(input('请输入所取的随机整数的个数，以回车结束'))\n",
    "compute_sum(n)"
   ]
  },
  {
   "cell_type": "code",
   "execution_count": 21,
   "metadata": {},
   "outputs": [
    {
     "name": "stdout",
     "output_type": "stream",
     "text": [
      "请输入一个整数，作为求均值平方的整数的下限，以回车结束0\n",
      "请输入一个整数，作为求均值平方的整数的上限，以回车结束9\n",
      "请输入所取的随机整数的个数，以回车结束1\n",
      "1.0\n"
     ]
    }
   ],
   "source": [
    "def compute_sum(end):         #练习二 1.\n",
    "    i=0\n",
    "    total=0\n",
    "    while i<n:\n",
    "        i=i+1\n",
    "        total=0\n",
    "        import random\n",
    "        number=random.randint(m,k)\n",
    "        import math\n",
    "        lll=math.log2(number)\n",
    "        total=total+lll\n",
    "        \n",
    "        \n",
    "    print(total)\n",
    "        \n",
    "m=int(input('请输入一个整数，作为求均值平方的整数的下限，以回车结束'))\n",
    "k=int(input('请输入一个整数，作为求均值平方的整数的上限，以回车结束'))\n",
    "n=int(input('请输入所取的随机整数的个数，以回车结束'))\n",
    "compute_sum(n)\n",
    "        \n",
    "        "
   ]
  },
  {
   "cell_type": "code",
   "execution_count": 22,
   "metadata": {},
   "outputs": [
    {
     "name": "stdout",
     "output_type": "stream",
     "text": [
      "请输入一个整数，作为求均值平方的整数的下限，以回车结束1\n",
      "请输入一个整数，作为求均值平方的整数的上限，以回车结束4\n",
      "请输入所取的随机整数的个数，以回车结束1\n",
      "0.6309297535714575\n"
     ]
    }
   ],
   "source": [
    "def compute_sum(end):         #练习二 1.\n",
    "    i=0\n",
    "    total=0\n",
    "    while i<n:\n",
    "        i=i+1\n",
    "        total=0\n",
    "        import random\n",
    "        number=random.randint(m,k)\n",
    "        import math\n",
    "        lll=math.log2(number)\n",
    "        c=1/lll\n",
    "        total=total+c\n",
    "    print(total)\n",
    "m=int(input('请输入一个整数，作为求均值平方的整数的下限，以回车结束'))\n",
    "k=int(input('请输入一个整数，作为求均值平方的整数的上限，以回车结束'))\n",
    "n=int(input('请输入所取的随机整数的个数，以回车结束'))\n",
    "compute_sum(n)\n",
    "        "
   ]
  },
  {
   "cell_type": "code",
   "execution_count": null,
   "metadata": {},
   "outputs": [],
   "source": []
  },
  {
   "cell_type": "code",
   "execution_count": null,
   "metadata": {},
   "outputs": [],
   "source": []
  },
  {
   "cell_type": "code",
   "execution_count": null,
   "metadata": {},
   "outputs": [],
   "source": []
  },
  {
   "cell_type": "code",
   "execution_count": null,
   "metadata": {},
   "outputs": [],
   "source": []
  },
  {
   "cell_type": "code",
   "execution_count": null,
   "metadata": {},
   "outputs": [],
   "source": []
  },
  {
   "cell_type": "code",
   "execution_count": null,
   "metadata": {},
   "outputs": [],
   "source": []
  },
  {
   "cell_type": "code",
   "execution_count": null,
   "metadata": {},
   "outputs": [],
   "source": []
  },
  {
   "cell_type": "code",
   "execution_count": null,
   "metadata": {},
   "outputs": [],
   "source": []
  },
  {
   "cell_type": "code",
   "execution_count": null,
   "metadata": {},
   "outputs": [],
   "source": []
  },
  {
   "cell_type": "code",
   "execution_count": null,
   "metadata": {},
   "outputs": [],
   "source": []
  },
  {
   "cell_type": "code",
   "execution_count": null,
   "metadata": {},
   "outputs": [],
   "source": []
  },
  {
   "cell_type": "code",
   "execution_count": null,
   "metadata": {},
   "outputs": [],
   "source": []
  },
  {
   "cell_type": "code",
   "execution_count": null,
   "metadata": {},
   "outputs": [],
   "source": []
  },
  {
   "cell_type": "code",
   "execution_count": null,
   "metadata": {},
   "outputs": [],
   "source": []
  },
  {
   "cell_type": "code",
   "execution_count": null,
   "metadata": {},
   "outputs": [],
   "source": []
  },
  {
   "cell_type": "code",
   "execution_count": null,
   "metadata": {},
   "outputs": [],
   "source": []
  },
  {
   "cell_type": "code",
   "execution_count": null,
   "metadata": {},
   "outputs": [],
   "source": []
  },
  {
   "cell_type": "code",
   "execution_count": null,
   "metadata": {},
   "outputs": [],
   "source": []
  },
  {
   "cell_type": "code",
   "execution_count": null,
   "metadata": {},
   "outputs": [],
   "source": []
  },
  {
   "cell_type": "code",
   "execution_count": null,
   "metadata": {},
   "outputs": [],
   "source": []
  },
  {
   "cell_type": "code",
   "execution_count": null,
   "metadata": {},
   "outputs": [],
   "source": []
  },
  {
   "cell_type": "code",
   "execution_count": null,
   "metadata": {},
   "outputs": [],
   "source": []
  },
  {
   "cell_type": "code",
   "execution_count": null,
   "metadata": {},
   "outputs": [],
   "source": []
  },
  {
   "cell_type": "code",
   "execution_count": null,
   "metadata": {},
   "outputs": [],
   "source": []
  },
  {
   "cell_type": "code",
   "execution_count": null,
   "metadata": {},
   "outputs": [],
   "source": []
  },
  {
   "cell_type": "code",
   "execution_count": null,
   "metadata": {},
   "outputs": [],
   "source": []
  },
  {
   "cell_type": "code",
   "execution_count": null,
   "metadata": {},
   "outputs": [],
   "source": []
  },
  {
   "cell_type": "code",
   "execution_count": null,
   "metadata": {},
   "outputs": [],
   "source": []
  },
  {
   "cell_type": "code",
   "execution_count": null,
   "metadata": {},
   "outputs": [],
   "source": []
  },
  {
   "cell_type": "code",
   "execution_count": null,
   "metadata": {},
   "outputs": [],
   "source": []
  },
  {
   "cell_type": "code",
   "execution_count": null,
   "metadata": {},
   "outputs": [],
   "source": []
  },
  {
   "cell_type": "code",
   "execution_count": null,
   "metadata": {},
   "outputs": [],
   "source": []
  },
  {
   "cell_type": "code",
   "execution_count": null,
   "metadata": {},
   "outputs": [],
   "source": []
  },
  {
   "cell_type": "code",
   "execution_count": null,
   "metadata": {},
   "outputs": [],
   "source": []
  },
  {
   "cell_type": "code",
   "execution_count": null,
   "metadata": {},
   "outputs": [],
   "source": []
  }
 ],
 "metadata": {
  "kernelspec": {
   "display_name": "Python 3",
   "language": "python",
   "name": "python3"
  }
 },
 "nbformat": 4,
 "nbformat_minor": 2
}
