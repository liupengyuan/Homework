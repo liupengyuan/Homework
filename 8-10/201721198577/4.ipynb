{
 "cells": [
  {
   "cell_type": "code",
   "execution_count": 7,
   "metadata": {},
   "outputs": [
    {
     "name": "stdout",
     "output_type": "stream",
     "text": [
      "请输入第1个整数，以回车结束。2\n",
      "请输入第2个整数，以回车结束。3\n",
      "请输入第3个整数，以回车结束。4\n",
      "最终的阶乘是： 32\n"
     ]
    }
   ],
   "source": [
    "#练习 1：仿照求$ \\sum_{i=1}^mi + \\sum_{i=1}^ni  + \\sum_{i=1}^ki$的完整代码，写程序，可求m!+n!+k!\n",
    "def compute_factorial(end):\n",
    "    i = 1\n",
    "    total_n = 1\n",
    "\n",
    "    while i < end:\n",
    "        i = i + 1\n",
    "        total_n = total_n * i\n",
    "\n",
    "    return total_n\n",
    "\n",
    "n = int(input('请输入第1个整数，以回车结束。'))\n",
    "m = int(input('请输入第2个整数，以回车结束。'))\n",
    "k = int(input('请输入第3个整数，以回车结束。'))\n",
    "\n",
    "print('最终的阶乘是：', compute_factorial(m) + compute_factorial(n) + compute_factorial(k))\n",
    "\n"
   ]
  },
  {
   "cell_type": "code",
   "execution_count": 18,
   "metadata": {},
   "outputs": [
    {
     "name": "stdout",
     "output_type": "stream",
     "text": [
      "n=1000时，4倍的sum为 3.140592653839794\n",
      "n=100000时，4倍的sum为 3.1415826535897198\n"
     ]
    }
   ],
   "source": [
    "#练习 2：写函数可返回1 - 1/3 + 1/5 - 1/7...的前n项的和。在主程序中，分别令n=1000及100000，打印4倍该函数的和。\n",
    "def compute_top_n_sum(n):\n",
    "    i=1\n",
    "    sum_n=0\n",
    "    while i<=n:\n",
    "        sum_n+=(-1)**(i+1)*1/(2*i-1)\n",
    "        i+=1\n",
    "    return sum_n\n",
    "print('n=1000时，4倍的sum为', 4*compute_top_n_sum(1000))\n",
    "print('n=100000时，4倍的sum为', 4*compute_top_n_sum(100000))"
   ]
  },
  {
   "cell_type": "code",
   "execution_count": 1,
   "metadata": {
    "scrolled": false
   },
   "outputs": [
    {
     "name": "stdout",
     "output_type": "stream",
     "text": [
      "Input you name,pls:willix\n",
      "Hi, willix\n",
      "Could you tell me the month of your birthday,pls:5\n",
      "Could you tell me the day of your birthday,pls:8\n",
      "Could you tell me a noun word,pls:dog\n",
      "You are a member of Taurus!\n",
      "The word of plural form is dogs\n"
     ]
    }
   ],
   "source": [
    "#练习 3：将task3中的练习1及练习4改写为函数，并进行调用。\n",
    "    #task3中的练习 1：写程序，可由键盘读入用户姓名例如`Mr. right`，让用户输入出生的月份与日期，判断用户星座，假设用户是金牛座，则输出，`Mr. right，你是非常有性格的金牛座！`。\n",
    "    #task3中的练习 4：英文单词单数转复数，要求输入一个英文动词（单数形式），能够得到其复数形式，或给出单数转复数形式的建议（提示，some_string.endswith(some_letter)函数可以判断某字符串结尾字符，可尝试运行：`'myname'.endswith('me')`，`liupengyuan'.endswith('n')`）。\n",
    "def is_taurus(month,day):#4/21 - 5/20\n",
    "    if((month== 4 and day>=21 and day <=30) or(month== 5 and day>=1 and day <=20)):\n",
    "        return True\n",
    "    return False\n",
    "def get_plural_form(word):\n",
    "    if(word.endswith('s') or word.endswith('o') or word.endswith('x') or word.endswith('sh') or word.endswith('ch')):\n",
    "        word+=\"es\";\n",
    "    elif(word.endswith('y')):\n",
    "        word=word[:-1]+\"ies\"\n",
    "    elif(word.endswith('f')):\n",
    "        word=word[:-1]+\"ves\"    \n",
    "    else:\n",
    "        word+=\"s\";\n",
    "    return word\n",
    "name=input(\"Input you name,pls:\")\n",
    "print(\"Hi,\",name)\n",
    "month=int(input(\"Could you tell me the month of your birthday,pls:\"))\n",
    "day=int(input(\"Could you tell me the day of your birthday,pls:\"))\n",
    "if(is_taurus(month,day)):\n",
    "    print(\"You are a member of Taurus!\")\n",
    "else:\n",
    "    print(\"Taurus is nothing related to you\")\n",
    "word=input(\"Could you tell me a noun word,pls:\")\n",
    "print(\"The word of plural form is\",get_plural_form(word))\n",
    "\n",
    "    \n",
    "    \n",
    "    \n",
    "    \n",
    "    \n",
    "    \n",
    "    "
   ]
  },
  {
   "cell_type": "code",
   "execution_count": 3,
   "metadata": {},
   "outputs": [
    {
     "name": "stdout",
     "output_type": "stream",
     "text": [
      "Input a number m(start),pls:q\n",
      "number m is invalid, input it again,pls.\n",
      "Input a number m(start),pls:!\n",
      "number m is invalid, input it again,pls.\n",
      "Input a number m(start),pls:Q\n",
      "number m is invalid, input it again,pls.\n",
      "Input a number m(start),pls:1\n",
      "Input a number n(end),pls:9\n",
      "Input a number k(step),pls:2\n",
      "The sum is 25\n"
     ]
    }
   ],
   "source": [
    "#挑战性练习：写程序，可以求从整数m到整数n累加的和，间隔为k，求和部分需用函数实现，主程序中由用户输入m，n，k调用函数验证正确性。\n",
    "def is_number(num):\n",
    "    num=ord(num)\n",
    "    if(num>47 and num<58):\n",
    "        return True\n",
    "    return False\n",
    "def get_sum(m,n,k):\n",
    "    sum_tmp=0\n",
    "    for i in range(m,n+1,k):\n",
    "        sum_tmp+=i\n",
    "    return sum_tmp\n",
    "while True:\n",
    "    m=input(\"Input a number m(start),pls:\")\n",
    "    if(not is_number(m)):\n",
    "        print(\"number m is invalid, input it again,pls.\")\n",
    "        continue\n",
    "    m=int(m)\n",
    "    n=input(\"Input a number n(end),pls:\")\n",
    "    if(not is_number(n)):\n",
    "        print(\"number m is invalid, input it again,pls.\")\n",
    "        continue\n",
    "    n=int(n)\n",
    "    k=input(\"Input a number k(step),pls:\")\n",
    "    if(not is_number(k)):\n",
    "        print(\"number m is invalid, input it again,pls.\")\n",
    "        continue\n",
    "    k=int(k)\n",
    "    break\n",
    "sum0=get_sum(m,n,k)\n",
    "print(\"The sum is\",sum0)\n",
    "\n"
   ]
  },
  {
   "cell_type": "code",
   "execution_count": null,
   "metadata": {
    "collapsed": true
   },
   "outputs": [],
   "source": []
  }
 ],
 "metadata": {
  "kernelspec": {
   "display_name": "Python 3",
   "language": "python",
   "name": "python3"
  },
  "language_info": {
   "codemirror_mode": {
    "name": "ipython",
    "version": 3
   },
   "file_extension": ".py",
   "mimetype": "text/x-python",
   "name": "python",
   "nbconvert_exporter": "python",
   "pygments_lexer": "ipython3",
   "version": "3.6.2"
  }
 },
 "nbformat": 4,
 "nbformat_minor": 2
}
