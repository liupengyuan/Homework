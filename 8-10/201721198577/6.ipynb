{
 "cells": [
  {
   "cell_type": "code",
   "execution_count": 1,
   "metadata": {},
   "outputs": [
    {
     "name": "stdout",
     "output_type": "stream",
     "text": [
      "10\n"
     ]
    }
   ],
   "source": [
    "#- 写函数，返回一个list中所有数字的和\n",
    "def GetSum(arr):\n",
    "    sum0=0\n",
    "    for i in arr:\n",
    "        sum0+=i\n",
    "    return sum0\n",
    "print(GetSum([1,2,3,4]))\n",
    "\n"
   ]
  },
  {
   "cell_type": "code",
   "execution_count": 5,
   "metadata": {},
   "outputs": [
    {
     "name": "stdout",
     "output_type": "stream",
     "text": [
      "0\n"
     ]
    }
   ],
   "source": [
    "#- 写函数，返回一个list中的最小值\n",
    "def GetMin(arr):\n",
    "    min0=arr[0]\n",
    "    for i in arr:\n",
    "        if i<min0:\n",
    "            min0=i\n",
    "    return min0\n",
    "print(GetMin([1,2,3,4,0]))"
   ]
  },
  {
   "cell_type": "code",
   "execution_count": 10,
   "metadata": {},
   "outputs": [
    {
     "name": "stdout",
     "output_type": "stream",
     "text": [
      "-1\n",
      "4\n",
      "5\n"
     ]
    }
   ],
   "source": [
    "#- 写函数，返回某个元素/对象在一个list中的位置，如果不在，则返回-1.\n",
    "def GetIndex(arr,num):\n",
    "    index=1\n",
    "    for i in arr:\n",
    "        if i == num:\n",
    "            return index\n",
    "        index+=1\n",
    "    return -1\n",
    "print(GetIndex([1,2,3,4,0],5))\n",
    "print(GetIndex([1,2,3,4,0],4))\n",
    "print(GetIndex([1,2,3,4,0],0))"
   ]
  },
  {
   "cell_type": "code",
   "execution_count": 16,
   "metadata": {},
   "outputs": [
    {
     "name": "stdout",
     "output_type": "stream",
     "text": [
      "0.9746318461970762\n",
      "0.0\n",
      "1.0\n"
     ]
    }
   ],
   "source": [
    "#- 写函数，可求两个向量的夹角余弦值，向量可放在list中。主程序调用该函数。\n",
    "import math\n",
    "def GetCos(v1,v2):\n",
    "    sum0=0\n",
    "    i=0\n",
    "    mv1=0;\n",
    "    mv2=0;\n",
    "    for e in v1:\n",
    "        sum0+=v1[i]*v2[i]\n",
    "        mv1+=v1[i]*v1[i]\n",
    "        mv2+=v2[i]*v2[i]\n",
    "        i+=1\n",
    "    return sum0/(math.sqrt(mv1)*math.sqrt(mv2))\n",
    "print(GetCos([1,2,3],[4,5,6]))\n",
    "print(GetCos([1,0,0],[0,1,0]))\n",
    "print(GetCos([0,2,0],[0,1,0]))"
   ]
  },
  {
   "cell_type": "code",
   "execution_count": 24,
   "metadata": {},
   "outputs": [
    {
     "name": "stdout",
     "output_type": "stream",
     "text": [
      "3741\n"
     ]
    }
   ],
   "source": [
    "#- 挑战性习题：python语言老师为了激励学生学python，自费买了100个完全相同的Macbook Pro，分给三个班级，每个班级至少分5个，用穷举法计算共有多少种分法？\n",
    "count=0\n",
    "for i in range(5,91):\n",
    "    for j in range(5,96-i):\n",
    "        count+=1\n",
    "print(count)\n",
    "\n",
    "#count=0\n",
    "#for i in range(0,86):\n",
    "#    for j in range(0,86-i):\n",
    "#        k=85-i-j\n",
    "#        count+=1\n",
    "#print(count)\n",
    "\n"
   ]
  },
  {
   "cell_type": "code",
   "execution_count": null,
   "metadata": {
    "collapsed": true
   },
   "outputs": [],
   "source": []
  }
 ],
 "metadata": {
  "kernelspec": {
   "display_name": "Python 3",
   "language": "python",
   "name": "python3"
  },
  "language_info": {
   "codemirror_mode": {
    "name": "ipython",
    "version": 3
   },
   "file_extension": ".py",
   "mimetype": "text/x-python",
   "name": "python",
   "nbconvert_exporter": "python",
   "pygments_lexer": "ipython3",
   "version": "3.6.1"
  }
 },
 "nbformat": 4,
 "nbformat_minor": 2
}
