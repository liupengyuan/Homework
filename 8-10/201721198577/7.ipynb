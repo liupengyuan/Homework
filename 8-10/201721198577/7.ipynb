{
 "cells": [
  {
   "cell_type": "code",
   "execution_count": 1,
   "metadata": {},
   "outputs": [
    {
     "name": "stdout",
     "output_type": "stream",
     "text": [
      ".uoy evol i\n"
     ]
    }
   ],
   "source": [
    "#练习一：自己定义一个`reverse(s)`函数，功能返回字符串`s`的倒序字符串。\n",
    "def reverse(s):\n",
    "    return s[::-1]\n",
    "res=reverse(\"i love you.\")\n",
    "print(res)"
   ]
  },
  {
   "cell_type": "code",
   "execution_count": 41,
   "metadata": {},
   "outputs": [
    {
     "name": "stdout",
     "output_type": "stream",
     "text": [
      "直角三角形\n",
      "$\n",
      "$$\n",
      "$$$\n",
      "$$$$\n",
      "$$$$$\n",
      "\n",
      "等腰三角形\n",
      "    $\n",
      "   $$$\n",
      "  $$$$$\n",
      " $$$$$$$\n",
      "$$$$$$$$$\n",
      "\n",
      "其他三角形\n",
      "    $\n",
      "   $$$$\n",
      "  $$$$$$$\n",
      " $$$$$$$$$$\n",
      "$$$$$$$$$$$$$\n"
     ]
    }
   ],
   "source": [
    "#练习二：写函数，根据给定符号和行数，打印相应直角三角形，等腰三角形及其他形式的三角形。\n",
    "def print_triangle(sign,line):\n",
    "    print(\"直角三角形\")\n",
    "    for i in range(1,line+1):#直角三角形\n",
    "        for j in range(1,i):\n",
    "            print (sign,end='')\n",
    "        print (sign)\n",
    "    print(\"\\n等腰三角形\")\n",
    "    for i in range(1,line+1):#等腰三角形\n",
    "        for j in range(1,(line-i)+1):\n",
    "            print(\" \",end='')\n",
    "        for j in range(int(line/2)-i,int(line/2)-i+2*(i-1)+1):\n",
    "            print (sign,end='')\n",
    "        print (\"\")\n",
    "    print(\"\\n其他三角形\")\n",
    "    for i in range(1,line+1):#其他三角形\n",
    "        for j in range(1,(line-i)+1):\n",
    "            print(\" \",end='')\n",
    "        for j in range(int(line/2)-i,(int(line/2)-i+2*(i-1))*2):\n",
    "            print (sign,end='')\n",
    "        print (\"\")\n",
    "print_triangle(\"$\",5)"
   ]
  },
  {
   "cell_type": "code",
   "execution_count": 47,
   "metadata": {},
   "outputs": [
    {
     "name": "stdout",
     "output_type": "stream",
     "text": [
      "标准菱形\n",
      "    $\n",
      "   $$$\n",
      "  $$$$$\n",
      " $$$$$$$\n",
      "$$$$$$$$$\n",
      " $$$$$$$\n",
      "  $$$$$\n",
      "   $$$\n",
      "    $\n",
      "特殊菱形\n",
      "$$$$$\n",
      "$$$$$\n",
      "$$$$$\n",
      "$$$$$\n",
      "$$$$$\n"
     ]
    }
   ],
   "source": [
    "#练习五：写函数，根据给定符号，打印各种菱形。\n",
    "def print_diamond(sign,line=5):\n",
    "    print(\"标准菱形\")\n",
    "    for i in range(1,line+1):\n",
    "        for j in range(1,(line-i)+1):\n",
    "            print(\" \",end='')\n",
    "        for j in range(int(line/2)-i,int(line/2)-i+2*(i-1)+1):\n",
    "            print (sign,end='')\n",
    "        print (\"\")\n",
    "    for i in range(1,line)[::-1]:\n",
    "        for j in range(1,(line-i)+1)[::-1]:\n",
    "            print(\" \",end='')\n",
    "        for j in range(int(line/2)-i,int(line/2)-i+2*(i-1)+1)[::-1]:\n",
    "            print (sign,end='')\n",
    "        print (\"\")\n",
    "    print(\"特殊菱形\")\n",
    "    for i in range(1,line+1):\n",
    "        for i in range(1,line+1):\n",
    "            print(sign,end='')\n",
    "        print(\"\")\n",
    "        \n",
    "print_diamond(\"$\")"
   ]
  },
  {
   "cell_type": "code",
   "execution_count": null,
   "metadata": {
    "collapsed": true
   },
   "outputs": [],
   "source": []
  }
 ],
 "metadata": {
  "kernelspec": {
   "display_name": "Python 3",
   "language": "python",
   "name": "python3"
  },
  "language_info": {
   "codemirror_mode": {
    "name": "ipython",
    "version": 3
   },
   "file_extension": ".py",
   "mimetype": "text/x-python",
   "name": "python",
   "nbconvert_exporter": "python",
   "pygments_lexer": "ipython3",
   "version": "3.6.1"
  }
 },
 "nbformat": 4,
 "nbformat_minor": 2
}
