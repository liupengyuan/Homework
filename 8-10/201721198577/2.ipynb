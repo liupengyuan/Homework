{
 "cells": [
  {
   "cell_type": "code",
   "execution_count": 3,
   "metadata": {},
   "outputs": [
    {
     "name": "stdout",
     "output_type": "stream",
     "text": [
      "请输入一个正整数，以回车结束。3\n",
      "6\n"
     ]
    }
   ],
   "source": [
    "n = int(input('请输入一个正整数，以回车结束。'))\n",
    "\n",
    "product1 = 1\n",
    "\n",
    "while n>1:\n",
    "    product1 = product1 *n\n",
    "    n=n-1\n",
    "    \n",
    "print(sum)"
   ]
  },
  {
   "cell_type": "code",
   "execution_count": 10,
   "metadata": {},
   "outputs": [
    {
     "name": "stdout",
     "output_type": "stream",
     "text": [
      "请输入你的姓名，以回车结束。willix\n",
      "你好 willix\n",
      "请输入您要输入的整数个数，以回车结束。3\n",
      "请输入一个正整数，以回车结束。2\n",
      "请输入一个正整数，以回车结束。5\n",
      "请输入一个正整数，以回车结束。3\n",
      "他们的和是： 10\n",
      "再见！ willix\n"
     ]
    }
   ],
   "source": [
    "name = input('请输入你的姓名，以回车结束。')\n",
    "print('你好', name)\n",
    "total = int(input('请输入您要输入的整数个数，以回车结束。'))\n",
    "sum2=0\n",
    "while total>0:\n",
    "    sum2 = sum2 + int(input('请输入一个正整数，以回车结束。'))\n",
    "    total=total-1\n",
    "\n",
    "print('他们的和是：', sum2)\n",
    "print('再见！', name)"
   ]
  },
  {
   "cell_type": "code",
   "execution_count": 16,
   "metadata": {},
   "outputs": [
    {
     "name": "stdout",
     "output_type": "stream",
     "text": [
      "请输入你的姓名，以回车结束。willix\n",
      "你好 willix\n",
      "请输入要求和的数字3\n",
      "请输入要求和的数字7\n",
      "请输入要求和的数字4\n",
      "请输入要求和的数字6\n",
      "请输入要求和的数字\n",
      "他们的和是： 20.0\n",
      "再见！ willix\n"
     ]
    }
   ],
   "source": [
    "name = input('请输入你的姓名，以回车结束。')\n",
    "print('你好', name)\n",
    "sum3=0\n",
    "while True:\n",
    "    num=input('请输入要求和的数字')\n",
    "    try:\n",
    "        sum3+=float(num)\n",
    "    except ValueError:\n",
    "        break\n",
    "\n",
    "print('他们的和是：', sum3)\n",
    "print('再见！', name)"
   ]
  },
  {
   "cell_type": "code",
   "execution_count": 3,
   "metadata": {},
   "outputs": [
    {
     "name": "stdout",
     "output_type": "stream",
     "text": [
      "请输入你的姓名，以回车结束。willix\n",
      "你好 willix\n",
      "请输入要求和的数字5\n",
      "请输入要求和的数字6\n",
      "请输入要求和的数字1\n",
      "请输入要求和的数字9\n",
      "请输入要求和的数字7\n",
      "请输入要求和的数字3\n",
      "请输入要求和的数字9\n",
      "请输入要求和的数字8888\n",
      "他们的和是： 40.0\n",
      "再见！ willix\n"
     ]
    }
   ],
   "source": [
    "name = input('请输入你的姓名，以回车结束。')\n",
    "print('你好', name)\n",
    "sum4=0\n",
    "product2=1\n",
    "while True:\n",
    "    num=input('请输入要求和的数字')\n",
    "    try:\n",
    "        num=float(num)\n",
    "        if(sum4<num and product2 >500 ):\n",
    "            break\n",
    "        product2*=num\n",
    "        sum4+=num\n",
    "    except ValueError:\n",
    "        print(\"您只能输入数字，也不能为空\")\n",
    "        break\n",
    "print('他们的和是：', sum4)\n",
    "print('再见！', name)"
   ]
  },
  {
   "cell_type": "code",
   "execution_count": null,
   "metadata": {
    "collapsed": true
   },
   "outputs": [],
   "source": []
  },
  {
   "cell_type": "code",
   "execution_count": null,
   "metadata": {
    "collapsed": true
   },
   "outputs": [],
   "source": []
  }
 ],
 "metadata": {
  "kernelspec": {
   "display_name": "Python 3",
   "language": "python",
   "name": "python3"
  },
  "language_info": {
   "codemirror_mode": {
    "name": "ipython",
    "version": 3
   },
   "file_extension": ".py",
   "mimetype": "text/x-python",
   "name": "python",
   "nbconvert_exporter": "python",
   "pygments_lexer": "ipython3",
   "version": "3.6.1"
  }
 },
 "nbformat": 4,
 "nbformat_minor": 2
}
