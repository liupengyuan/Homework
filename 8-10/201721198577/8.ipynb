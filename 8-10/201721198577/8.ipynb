{
 "cells": [
  {
   "cell_type": "code",
   "execution_count": 6,
   "metadata": {},
   "outputs": [
    {
     "name": "stdout",
     "output_type": "stream",
     "text": [
      "寄 城 书\n",
      "抚 可 不\n",
      "菡 乡 静\n",
      "请输入猜测的绝句，回车结束，直接回车表示退出游戏：乡书不可寄\n",
      "答对了，加十分\n",
      "你当前的分数是： 20\n",
      "-----------------Next Round------------------\n",
      "何 宇 必\n",
      "总 斑 待\n",
      "尝 之 子\n",
      "请输入猜测的绝句，回车结束，直接回车表示退出游戏：不知道\n",
      "答错了，减十分\n",
      "本绝句其实是： 何必待之子\n",
      "你当前的分数是： 10\n",
      "-----------------Next Round------------------\n",
      "中 空 落\n",
      "兵 松 山\n",
      "幽 琼 子\n",
      "请输入猜测的绝句，回车结束，直接回车表示退出游戏：哎\n",
      "答错了，减十分\n",
      "本绝句其实是： 空山松子落\n",
      "你当前的分数是： 0\n",
      "-----------------Next Round------------------\n",
      "岳 感 遭\n",
      "馀 柔 磬\n",
      "惟 音 钟\n",
      "请输入猜测的绝句，回车结束，直接回车表示退出游戏：好难呀\n",
      "答错了，减十分\n",
      "本绝句其实是： 惟馀钟磬音\n",
      "你当前的分数是： -10\n",
      "-----------------Next Round------------------\n",
      "sad(；′⌒`) You lost.\n"
     ]
    }
   ],
   "source": [
    "import random\n",
    "\n",
    "def win():\n",
    "    print(\"Congrats!You win!\")\n",
    "    return\n",
    "    \n",
    "def lose():\n",
    "    print(\"sad(；′⌒`) You lost.\")\n",
    "    return\n",
    "    \n",
    "def get_ch_table(line):\n",
    "    ch_table = []\n",
    "    for ch in line:\n",
    "        if ch not in ch_table:\n",
    "            ch_table.append(ch)\n",
    "    return ch_table\n",
    "\n",
    "def poet_robot(file_name):\n",
    "    with open(file_name) as fh:\n",
    "        text = fh.read()\n",
    "    text=text.replace(r'，', '\\n')\n",
    "    text=text.replace(r'。', '\\n')\n",
    "    poets = text.split()\n",
    "    poet = random.choice(poets)\n",
    "    chs = get_ch_table(text.replace(r'\\n', ''))\n",
    "\n",
    "    guess_ch_table = [ch for ch in poet]\n",
    "    while len(guess_ch_table) < 9:\n",
    "        ch = random.choice(chs)\n",
    "        if ch not in guess_ch_table:\n",
    "            guess_ch_table.append(ch)\n",
    "    \n",
    "    random.shuffle(guess_ch_table)\n",
    "    \n",
    "    for i in range(0,9,3):\n",
    "        print(guess_ch_table[i], guess_ch_table[i+1],guess_ch_table[i+2])\n",
    "    \n",
    "    return poet\n",
    "\n",
    "def main():\n",
    "    filename = r'/Users/weilinxuan/Project/Python/LiuPengYuan/五言诗库.txt'\n",
    "    score = 10\n",
    "    while score >= 0:\n",
    "        real_poet = poet_robot(filename)\n",
    "        answer_poet = input('请输入猜测的绝句，回车结束，直接回车表示退出游戏：')\n",
    "        if answer_poet == real_poet:\n",
    "            print('答对了，加十分')\n",
    "            score += 10\n",
    "            print('你当前的分数是：', score)\n",
    "            if score == 100:\n",
    "                win()\n",
    "                return\n",
    "        elif answer_poet == '':\n",
    "            print('退出游戏。')\n",
    "            print('你最后的分数是：', score)\n",
    "            return\n",
    "        else:\n",
    "            score -= 10\n",
    "            print('答错了，减十分')\n",
    "            print('本绝句其实是：', real_poet)\n",
    "            print('你当前的分数是：', score)\n",
    "        print(\"-----------------Next Round------------------\")\n",
    "    else:\n",
    "        lose()\n",
    "        return\n",
    "\n",
    "#if __name__ == '__main()__':\n",
    "main()"
   ]
  },
  {
   "cell_type": "code",
   "execution_count": 2,
   "metadata": {
    "collapsed": true
   },
   "outputs": [],
   "source": []
  },
  {
   "cell_type": "code",
   "execution_count": null,
   "metadata": {
    "collapsed": true
   },
   "outputs": [],
   "source": []
  }
 ],
 "metadata": {
  "kernelspec": {
   "display_name": "Python 3",
   "language": "python",
   "name": "python3"
  },
  "language_info": {
   "codemirror_mode": {
    "name": "ipython",
    "version": 3
   },
   "file_extension": ".py",
   "mimetype": "text/x-python",
   "name": "python",
   "nbconvert_exporter": "python",
   "pygments_lexer": "ipython3",
   "version": "3.6.1"
  }
 },
 "nbformat": 4,
 "nbformat_minor": 2
}
