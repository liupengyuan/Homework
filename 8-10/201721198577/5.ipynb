{
 "cells": [
  {
   "cell_type": "code",
   "execution_count": 7,
   "metadata": {},
   "outputs": [
    {
     "name": "stdout",
     "output_type": "stream",
     "text": [
      "请输入第n个整数，以回车结束。4\n",
      "请输入第m个整数，以回车结束。1\n",
      "请输入第k个整数，以回车结束。6\n",
      "The final value is  1.9364916731037085\n"
     ]
    }
   ],
   "source": [
    "import random\n",
    "import math\n",
    "#练习 1：写函数，求n个随机整数均值的平方根，整数范围在m与k之间（n,m,k由用户输入）。\n",
    "def get_sqrt_of_mean(n,m,k):\n",
    "    sum0=0\n",
    "    for i in range(0,n):\n",
    "        sum0+=random.randint(m, k)\n",
    "    return math.sqrt(sum0/n)\n",
    "n = int(input('请输入第n个整数，以回车结束。'))\n",
    "m = int(input('请输入第m个整数，以回车结束。'))\n",
    "k = int(input('请输入第k个整数，以回车结束。'))\n",
    "print(\"The final value is \",get_sqrt_of_mean(n,m,k))\n",
    "\n"
   ]
  },
  {
   "cell_type": "code",
   "execution_count": 10,
   "metadata": {},
   "outputs": [
    {
     "name": "stdout",
     "output_type": "stream",
     "text": [
      "请输入第n个整数，以回车结束。4\n",
      "请输入第m个整数，以回车结束。1\n",
      "请输入第k个整数，以回车结束。6\n",
      "The sum of log value is  1.0940168809006154\n",
      "The sum of another value is  1.0158813846725845\n"
     ]
    }
   ],
   "source": [
    "import random\n",
    "import math\n",
    "#练习 2：写函数，共n个随机整数，整数范围在m与k之间，（n,m,k由用户输入）。求1：西格玛log(随机整数)，2：西格玛1/log(随机整数)\n",
    "def get_re(n,m,k,is_log):\n",
    "    sum0=0\n",
    "    for i in range(0,n):\n",
    "        j=random.randint(m, k);\n",
    "        if(is_log==1):\n",
    "            sum0+=math.log(j)\n",
    "        else:\n",
    "            if(j==1):\n",
    "                j=2\n",
    "            sum0+=1/math.log(j)\n",
    "        \n",
    "    return math.sqrt(sum0/n)\n",
    "n = int(input('请输入第n个整数，以回车结束。'))\n",
    "m = int(input('请输入第m个整数，以回车结束。'))\n",
    "k = int(input('请输入第k个整数，以回车结束。'))\n",
    "print(\"The sum of log value is \",get_re(n,m,k,1))\n",
    "print(\"The sum of another value is \",get_re(n,m,k,0))"
   ]
  },
  {
   "cell_type": "code",
   "execution_count": null,
   "metadata": {
    "collapsed": true
   },
   "outputs": [],
   "source": []
  }
 ],
 "metadata": {
  "kernelspec": {
   "display_name": "Python 3",
   "language": "python",
   "name": "python3"
  },
  "language_info": {
   "codemirror_mode": {
    "name": "ipython",
    "version": 3
   },
   "file_extension": ".py",
   "mimetype": "text/x-python",
   "name": "python",
   "nbconvert_exporter": "python",
   "pygments_lexer": "ipython3",
   "version": "3.6.2"
  }
 },
 "nbformat": 4,
 "nbformat_minor": 2
}
