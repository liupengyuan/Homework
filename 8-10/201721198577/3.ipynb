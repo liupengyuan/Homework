{
 "cells": [
  {
   "cell_type": "code",
   "execution_count": 5,
   "metadata": {},
   "outputs": [
    {
     "name": "stdout",
     "output_type": "stream",
     "text": [
      "请输入m:2\n",
      "请输入n:5\n",
      "请输入您要进行的操作（+、*、/、mod）:*\n",
      "Product of 2 to 5 is 120\n"
     ]
    }
   ],
   "source": [
    "m=int(input(\"请输入m:\"))\n",
    "n=int(input(\"请输入n:\"))\n",
    "operator=input(\"请输入您要进行的操作（+、*、/、mod）:\")\n",
    "if(operator == '+'):\n",
    "    sum1=0\n",
    "    if(m>n):\n",
    "        max1=m\n",
    "        m=n\n",
    "        n=max1\n",
    "    for i in range(m,n+1):\n",
    "        sum1+=i\n",
    "    print(\"Sum of %d to %d is %d\" % (m,n,sum1))\n",
    "elif(operator == '*'):\n",
    "    product=1\n",
    "    if(m>n):\n",
    "        max2=m\n",
    "        m=n\n",
    "        n=max2\n",
    "    for i in range(m,n+1):\n",
    "        product*=i\n",
    "    print(\"Product of %d to %d is %d\" % (m,n,product))\n",
    "elif(operator == 'mod'):\n",
    "    print(\"MOD of %d to %d is %d\" % (m,n,m%n))\n",
    "else:\n",
    "    if(n != 0):\n",
    "        print(\"Quotient of %d to %d is %d\" % (m,n,m/n))\n",
    "    else:\n",
    "        print(\"被除数不能为0！\")\n",
    "    \n",
    "        "
   ]
  },
  {
   "cell_type": "code",
   "execution_count": 16,
   "metadata": {},
   "outputs": [
    {
     "name": "stdout",
     "output_type": "stream",
     "text": [
      "请输入一个单词:copy\n",
      "The plural form is copies\n"
     ]
    }
   ],
   "source": [
    "#英文单词单数转复数，要求输入一个英文动词（单数形式），能够得到其复数形式，或给出单数转复数形式的建议（提示，some_string.endswith(some_letter)函数可以判断某字符串结尾字符，可尝试运行：`'myname'.endswith('me')`，`liupengyuan'.endswith('n')`）。\n",
    "word=str(input(\"请输入一个单词:\"))\n",
    "if(word.endswith('s') or word.endswith('o') or word.endswith('x') or word.endswith('sh') or word.endswith('ch')):\n",
    "    word+=\"es\";\n",
    "elif(word.endswith('y')):\n",
    "    word=word[:-1]+\"ies\"\n",
    "elif(word.endswith('f')):\n",
    "    word=word[:-1]+\"ves\"\n",
    "else:\n",
    "    word+=\"s\";\n",
    "print(\"The plural form is\",word)\n",
    "\n",
    "\n"
   ]
  },
  {
   "cell_type": "code",
   "execution_count": null,
   "metadata": {
    "collapsed": true
   },
   "outputs": [],
   "source": []
  }
 ],
 "metadata": {
  "kernelspec": {
   "display_name": "Python 3",
   "language": "python",
   "name": "python3"
  },
  "language_info": {
   "codemirror_mode": {
    "name": "ipython",
    "version": 3
   },
   "file_extension": ".py",
   "mimetype": "text/x-python",
   "name": "python",
   "nbconvert_exporter": "python",
   "pygments_lexer": "ipython3",
   "version": "3.6.2"
  }
 },
 "nbformat": 4,
 "nbformat_minor": 2
}
