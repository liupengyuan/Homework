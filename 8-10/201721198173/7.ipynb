{
 "cells": [
  {
   "cell_type": "code",
   "execution_count": 1,
   "metadata": {},
   "outputs": [
    {
     "name": "stdout",
     "output_type": "stream",
     "text": [
      "请输入字符串:Alba was I ere I saw Elba\n",
      "ablE was I ere I saw ablA\n"
     ]
    }
   ],
   "source": [
    "#练习一：自己定义一个reverse(s)函数，功能返回字符串s的倒序字符串。\n",
    "def reverse(s):\n",
    "    print(s[::-1])\n",
    "    \n",
    "s=input('请输入字符串:')\n",
    "reverse(s)\n",
    "\n"
   ]
  },
  {
   "cell_type": "code",
   "execution_count": 7,
   "metadata": {},
   "outputs": [
    {
     "name": "stdout",
     "output_type": "stream",
     "text": [
      "请输入你想使用的符号：#\n",
      "请输入打印行数：7\n",
      "直角三角形：\n",
      "#\n",
      "##\n",
      "###\n",
      "####\n",
      "#####\n",
      "######\n",
      "#######\n",
      "等腰三角形：\n",
      "      #\n",
      "     ###\n",
      "    #####\n",
      "   #######\n",
      "  #########\n",
      " ###########\n",
      "#############\n",
      "其他三角形：\n",
      "       \n",
      "      #\n",
      "     ##\n",
      "    ###\n",
      "   ####\n",
      "  #####\n",
      " ######\n",
      "#######\n"
     ]
    }
   ],
   "source": [
    "#直三角形\n",
    "def right_tri(sym,line_num):\n",
    "    print('直角三角形：')\n",
    "    for i in range(1,line_num+1):\n",
    "        print(sym*i)\n",
    "            \n",
    "#等腰三角形\n",
    "def isosceles_tri(sym,line_num):\n",
    "    print('等腰三角形：')\n",
    "    for i in range(1,line_num+1):\n",
    "        print(' '*(line_num-i)+sym*(2*i-1))\n",
    "        \n",
    "#其他三角形\n",
    "def other_tri(sym,line_num):\n",
    "    print('其他三角形：')\n",
    "    for i in range(0,line_num+1):\n",
    "        a=int(line_num-i)\n",
    "        print(' '*a+sym*i)\n",
    "\n",
    "sym = input('请输入你想使用的符号：')\n",
    "line_num = int(input(\"请输入打印行数：\"))\n",
    "right_tri(sym,line_num)\n",
    "isosceles_tri(sym,line_num)\n",
    "other_tri(sym,line_num)"
   ]
  },
  {
   "cell_type": "code",
   "execution_count": 15,
   "metadata": {},
   "outputs": [
    {
     "name": "stdout",
     "output_type": "stream",
     "text": [
      "------------------------------\n",
      "请输入你想使用的符号：#\n",
      "请输入打印行数：7\n",
      "         #\n",
      "        ###\n",
      "       #####\n",
      "      #######\n",
      "     #########\n",
      "    ###########\n",
      "   #############\n",
      "  ###############\n",
      " #################\n",
      "###################\n",
      " #################\n",
      "  ###############\n",
      "   #############\n",
      "    ###########\n",
      "     #########\n",
      "      #######\n",
      "       #####\n",
      "        ###\n",
      "         #\n",
      "          \n"
     ]
    }
   ],
   "source": [
    "#练习五：写函数，根据给定符号，打印各种菱形。\n",
    "\n",
    "def rhombus(sym):\n",
    "    for i in range(1,line_num+1):\n",
    "        print(' '*(line_num-i)+sym*i)\n",
    "    for k in range(line_num-1,0,-1):\n",
    "        print(' '*(line_num-k)+sym*k)\n",
    "\n",
    "def rhombus(sym,line_num):\n",
    "    line_num = 10\n",
    "    for i in range(1,line_num+1):\n",
    "        print(' '*(line_num-i)+sym*(2*i-1))\n",
    "    for i in range(line_num,0,-1):\n",
    "        print(' '*(line_num-i+1)+sym*(2*i-3))\n",
    "print('-'*30)\n",
    "\n",
    "def main():\n",
    "    sym=input('请输入你想使用的符号：')\n",
    "    line_num=int(input('请输入打印行数：'))\n",
    "    a =line_num // 2\n",
    "    rhombus(sym,a)   \n",
    "    \n",
    "if __name__=='__main__':\n",
    "    main()"
   ]
  }
 ],
 "metadata": {
  "kernelspec": {
   "display_name": "Python 3",
   "language": "python",
   "name": "python3"
  },
  "language_info": {
   "codemirror_mode": {
    "name": "ipython",
    "version": 3
   },
   "file_extension": ".py",
   "mimetype": "text/x-python",
   "name": "python",
   "nbconvert_exporter": "python",
   "pygments_lexer": "ipython3",
   "version": "3.6.3"
  }
 },
 "nbformat": 4,
 "nbformat_minor": 2
}
