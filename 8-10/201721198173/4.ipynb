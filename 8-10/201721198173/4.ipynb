{
 "cells": [
  {
   "cell_type": "code",
   "execution_count": 1,
   "metadata": {},
   "outputs": [
    {
     "name": "stdout",
     "output_type": "stream",
     "text": [
      "请输入第1个整数，以回车结束。7\n",
      "请输入第2个整数，以回车结束。17\n",
      "请输入第3个整数，以回车结束。27\n",
      "最终的乘积是： 10888869450418707848196101040\n"
     ]
    }
   ],
   "source": [
    "#练习 1：求m!+n!+k!\n",
    "\n",
    "def compute_sum(end):\n",
    "    i = 0\n",
    "    total_n = 1\n",
    "\n",
    "    while i < end:\n",
    "        i = i + 1\n",
    "        total_n = total_n * i\n",
    "\n",
    "    return total_n\n",
    "\n",
    "n = int(input('请输入第1个整数，以回车结束。'))\n",
    "m = int(input('请输入第2个整数，以回车结束。'))\n",
    "k = int(input('请输入第3个整数，以回车结束。'))\n",
    "\n",
    "print('最终的乘积是：', compute_sum(m) + compute_sum(n) + compute_sum(k))"
   ]
  },
  {
   "cell_type": "code",
   "execution_count": 2,
   "metadata": {},
   "outputs": [
    {
     "name": "stdout",
     "output_type": "stream",
     "text": [
      "3.139592655589785 3.1415726535897814\n"
     ]
    }
   ],
   "source": [
    "#练习 2：写函数可返回1 - 1/3 + 1/5 - 1/7...的前n项的和。在主程序中，分别令n=1000及100000，打印4倍该函数的和。\n",
    "\n",
    "def division_sum(end):\n",
    "    i = 1\n",
    "    j = 1\n",
    "    k = 1\n",
    "    total = 0\n",
    "    \n",
    "    while k < end :\n",
    "        i = k\n",
    "        if j % 2 == 0:\n",
    "            i =  -(1 / i)\n",
    "        else:\n",
    "            i = 1 / i\n",
    "        k += 2\n",
    "        j += 1\n",
    "        total += i\n",
    "        \n",
    "    return total\n",
    "\n",
    "n = 4 * division_sum(1000)\n",
    "m = 4 * division_sum(100000)\n",
    "print(n,m)"
   ]
  },
  {
   "cell_type": "code",
   "execution_count": 3,
   "metadata": {},
   "outputs": [
    {
     "name": "stdout",
     "output_type": "stream",
     "text": [
      "input your name: \n",
      "kuangkuang\n",
      "input your birthday:(like 1.01 means january first)8.10\n",
      "kuangkuang,你是独当一面的狮子座\n"
     ]
    }
   ],
   "source": [
    "#练习 3：将task3中的练习1及练习4改写为函数，并进行调用。\n",
    "\"\"\"\n",
    "白羊座3.21-4.19 金牛座4.20-5.20 双子座5.21-6.21 巨蟹座6.22-7.22 狮子座7.23-8.22 处女8.23-9.22 \n",
    "天秤座9.23-10.23 天蝎座10.24-11.22 射手座11.23-12.21 魔羯座12.22-1.19 水瓶座1.20-2.18 双鱼座2.19-3.20\n",
    "\"\"\"\n",
    "def stars(name,date):\n",
    "    if date >= 3.21 and date <= 3.31 or date >= 4.01 and date <= 4.19 :\n",
    "        star = '落落大方的白羊座'\n",
    "    elif date >= 4.20 and date <= 4.30 or date >= 5.01 and date <= 5.20:\n",
    "        star = '温文尔雅的金牛座'\n",
    "    elif date >= 5.21 and date <= 5.31 or date >= 6.01 and date <= 6.21:\n",
    "        star = '八面玲珑的双子座'\n",
    "    elif date >= 6.22 and date <= 6.30 or date >= 7.01 and date <= 7.22:\n",
    "        star = '母性光辉的巨蟹座'\n",
    "    elif date >= 7.23 and date <= 7.31 or date >= 8.01 and date <= 8.22:\n",
    "        star = '独当一面的狮子座'\n",
    "    elif date >= 8.23 and date <= 8.31 or date >= 9.01 and date <= 9.22:\n",
    "        star = '完美主义的处女座'\n",
    "    elif date >= 9.23 and date <= 9.30 or date >= 10.01 and date <= 10.23:\n",
    "        star = '低调奢华的天秤座'\n",
    "    elif date >= 10.24 and date <= 10.31 or date >= 11.01 and date <= 11.22:\n",
    "        star = '诗与远方的天蝎座'\n",
    "    elif date >= 11.23 and date <= 11.30 or date >= 12.01 and date <= 12.21:\n",
    "        star = '为人掌灯的射手座'\n",
    "    elif date >= 12.22 and date <= 12.31 or date >= 1.01 and date <= 1.19 :\n",
    "        star = '擅长伪装的摩羯座'\n",
    "    elif date >= 1.20 and date <= 1.31  or date >= 2.01 and date <= 2.18:\n",
    "        star = '知性优雅的水瓶座'\n",
    "    elif date >= 2.19 and date <= 2.28 or date >= 3.01 and date <= 3.20:\n",
    "        star = '刚柔并济的双鱼座'\n",
    "    else:\n",
    "        date= float(input('Wrong date! please input your birthday again:\\n'))\n",
    "        stars(name,date)\n",
    "    print(name + ',你是' + star)\n",
    "\n",
    "name = input('input your name: \\n')\n",
    "date = float(input('input your birthday:(like 1.01 means january first)'))\n",
    "\n",
    "stars(name,date)"
   ]
  },
  {
   "cell_type": "code",
   "execution_count": 4,
   "metadata": {},
   "outputs": [
    {
     "name": "stdout",
     "output_type": "stream",
     "text": [
      "请输入第1个整数，以回车结束。7\n",
      "请输入第2个整数，以回车结束。17\n",
      "请输入间隔，以回车结束。2\n",
      "sum is 72\n"
     ]
    }
   ],
   "source": [
    "#挑战性练习：写程序，可以求从整数m到整数n累加的和，间隔为k，求和部分需用函数实现，主程序中由用户输入m，n，k调用函数验证正确性。\n",
    "def compute_sum(m,n,k):\n",
    "    total_n = n\n",
    "\n",
    "    while n < m:\n",
    "        n = n + k\n",
    "        total_n = total_n + n\n",
    "\n",
    "    print('sum is ' + str(total_n))\n",
    "\n",
    "n = int(input('请输入第1个整数，以回车结束。'))\n",
    "m = int(input('请输入第2个整数，以回车结束。'))\n",
    "k = int(input('请输入间隔，以回车结束。'))\n",
    "\n",
    "if m >= n:\n",
    "    maxNum = m\n",
    "    minNum = n\n",
    "else:\n",
    "    maxNum = n\n",
    "    minNum = m\n",
    "compute_sum(maxNum,minNum,k)"
   ]
  }
 ],
 "metadata": {
  "kernelspec": {
   "display_name": "Python 3",
   "language": "python",
   "name": "python3"
  },
  "language_info": {
   "codemirror_mode": {
    "name": "ipython",
    "version": 3
   },
   "file_extension": ".py",
   "mimetype": "text/x-python",
   "name": "python",
   "nbconvert_exporter": "python",
   "pygments_lexer": "ipython3",
   "version": "3.6.3"
  }
 },
 "nbformat": 4,
 "nbformat_minor": 2
}
