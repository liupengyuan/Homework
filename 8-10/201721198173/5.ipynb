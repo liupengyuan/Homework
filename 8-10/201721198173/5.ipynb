{
 "cells": [
  {
   "cell_type": "code",
   "execution_count": 1,
   "metadata": {},
   "outputs": [
    {
     "name": "stdout",
     "output_type": "stream",
     "text": [
      "请输入整数个数，以回车结束：\n",
      "7\n",
      "请输入整数下限，以回车结束：\n",
      "10\n",
      "请输入整数上限，以回车结束：\n",
      "20\n",
      "10 20\n",
      "18\n",
      "11\n",
      "20\n",
      "12\n",
      "13\n",
      "16\n",
      "16\n",
      "10.295630140987\n"
     ]
    }
   ],
   "source": [
    "#练习 1：写函数，求n个随机整数均值的平方根，整数范围在m与k之间（n,m,k由用户输入）。\n",
    "\n",
    "import random,math\n",
    "\n",
    "def sqrtSum():\n",
    "    n = int(input('请输入整数个数，以回车结束：\\n'))\n",
    "    m = int(input('请输入整数下限，以回车结束：\\n'))\n",
    "    k = int(input('请输入整数上限，以回车结束：\\n'))\n",
    "    t = 0\n",
    "    if m > k :\n",
    "        t = k\n",
    "        k = m\n",
    "        m = t\n",
    "    print(m,k)\n",
    "    i = 0\n",
    "    total = 0\n",
    "    while i < n :\n",
    "        num = random.randint(m,k)\n",
    "        print(num)\n",
    "        i += 1\n",
    "        total += num\n",
    "    \n",
    "    return(math.sqrt(total))\n",
    "    \n",
    "print(sqrtSum())"
   ]
  },
  {
   "cell_type": "code",
   "execution_count": 2,
   "metadata": {},
   "outputs": [
    {
     "name": "stdout",
     "output_type": "stream",
     "text": [
      "请输入整数个数，以回车结束：\n",
      "7\n",
      "请输入整数下限，以回车结束：\n",
      "7\n",
      "请输入整数上限，以回车结束：\n",
      "20\n",
      "7 20\n",
      "14\n",
      "2.6390573296152584\n",
      "0.3789231816899512\n",
      "11\n",
      "2.3978952727983707\n",
      "0.4170323914242463\n",
      "10\n",
      "2.302585092994046\n",
      "0.43429448190325176\n",
      "20\n",
      "2.995732273553991\n",
      "0.33380820069533407\n",
      "15\n",
      "2.70805020110221\n",
      "0.36926937306885504\n",
      "14\n",
      "2.6390573296152584\n",
      "0.3789231816899512\n",
      "7\n",
      "1.9459101490553132\n",
      "0.5138983423697507\n",
      "(17.62828764873445, 2.8261491528413405)\n"
     ]
    }
   ],
   "source": [
    "#练习 2：写函数，共n个随机整数，整数范围在m与k之间，（n,m,k由用户输入）。求1：西格玛log(随机整数)，2：西格玛1/log(随机整数)\n",
    "\n",
    "import random,math\n",
    "\n",
    "def logSum():\n",
    "    n = int(input('请输入整数个数，以回车结束：\\n'))\n",
    "    m = int(input('请输入整数下限，以回车结束：\\n'))\n",
    "    k = int(input('请输入整数上限，以回车结束：\\n'))\n",
    "    t = 0\n",
    "    if m > k :\n",
    "        t = k\n",
    "        k = m\n",
    "        m = t\n",
    "    print(m,k)\n",
    "    i = 0\n",
    "    total1 = 0\n",
    "    total2 = 0\n",
    "    while i < n :\n",
    "        num = random.randint(m,k)\n",
    "        print(num)\n",
    "        num1 = math.log(num)\n",
    "        print(num1)\n",
    "        num2 = 1/num1\n",
    "        print(num2)\n",
    "        i += 1\n",
    "        total1 += num1\n",
    "        total2 += num2\n",
    "    \n",
    "    return(total1,total2)\n",
    "    \n",
    "print(logSum())"
   ]
  }
 ],
 "metadata": {
  "kernelspec": {
   "display_name": "Python 3",
   "language": "python",
   "name": "python3"
  },
  "language_info": {
   "codemirror_mode": {
    "name": "ipython",
    "version": 3
   },
   "file_extension": ".py",
   "mimetype": "text/x-python",
   "name": "python",
   "nbconvert_exporter": "python",
   "pygments_lexer": "ipython3",
   "version": "3.6.3"
  }
 },
 "nbformat": 4,
 "nbformat_minor": 2
}
