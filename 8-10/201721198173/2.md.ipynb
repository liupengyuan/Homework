{
 "cells": [
  {
   "cell_type": "code",
   "execution_count": 1,
   "metadata": {},
   "outputs": [
    {
     "name": "stdout",
     "output_type": "stream",
     "text": [
      "请输入一个正整数，以回车结束。10\n",
      "3628800\n"
     ]
    }
   ],
   "source": [
    "#练习1：由用户从键盘给定任意正整数n，打印n!\n",
    "\n",
    "n = int(input('请输入一个正整数，以回车结束。'))\n",
    "\n",
    "i = 1\n",
    "total = 1\n",
    "\n",
    "while i < n:\n",
    "    i = i +1\n",
    "    total = total *i\n",
    "    \n",
    "print(total)"
   ]
  },
  {
   "cell_type": "code",
   "execution_count": 2,
   "metadata": {},
   "outputs": [
    {
     "name": "stdout",
     "output_type": "stream",
     "text": [
      "请输入你的姓名，以回车结束。kuang\n",
      "你好 kuang\n",
      "请输入一个正整数，以回车结束。7\n",
      "请输入一个正整数，以回车结束。7\n",
      "两个数的和是： 14\n",
      "再见！ kuang\n"
     ]
    }
   ],
   "source": [
    "#实践1\n",
    "\n",
    "name = input('请输入你的姓名，以回车结束。')\n",
    "print('你好', name)\n",
    "\n",
    "n = int(input('请输入一个正整数，以回车结束。'))\n",
    "m = int(input('请输入一个正整数，以回车结束。'))\n",
    "\n",
    "print('两个数的和是：', m+n)\n",
    "print('再见！', name)"
   ]
  },
  {
   "cell_type": "code",
   "execution_count": 3,
   "metadata": {},
   "outputs": [
    {
     "name": "stdout",
     "output_type": "stream",
     "text": [
      "请输入你的姓名，以回车结束。kuang\n",
      "你好 kuang\n",
      "请输入整数个数，以回车结束。7\n",
      "请输入 7 个整数，以回车结束。\n",
      "1\n",
      "2\n",
      "3\n",
      "4\n",
      "5\n",
      "6\n",
      "7\n",
      "总和: 28\n",
      "再见！ kuang\n"
     ]
    }
   ],
   "source": [
    "#练习2：仿照实践1，写出由用户指定整数个数，并由用户输入多个整数，并求和的代码。\n",
    "\n",
    "name = input('请输入你的姓名，以回车结束。')\n",
    "print('你好', name)\n",
    "\n",
    "n = int(input('请输入整数个数，以回车结束。'))\n",
    "print('请输入',n,'个整数，以回车结束。')\n",
    "\n",
    "i = 0\n",
    "total = 0\n",
    "\n",
    "while i < n:\n",
    "    i = i + 1\n",
    "    m = int(input( ))\n",
    "    total = total + m\n",
    "    \n",
    "print('总和:',total)\n",
    "print('再见！', name)"
   ]
  },
  {
   "cell_type": "code",
   "execution_count": 1,
   "metadata": {},
   "outputs": [
    {
     "name": "stdout",
     "output_type": "stream",
     "text": [
      "输入任意个整数，以 hehe 结束输入。\n",
      "1\n",
      "2\n",
      "3\n",
      "4\n",
      "5\n",
      "6\n",
      "7\n",
      "8\n",
      "9\n",
      "0\n",
      "hehe\n",
      "结束输入\n"
     ]
    }
   ],
   "source": [
    "#练习3：用户可以输入任意多个数字，直到用户不想输入为止。 \n",
    "\n",
    "print('输入任意个整数，以 hehe 结束输入。')\n",
    "In = input()\n",
    "while In != 'hehe': \n",
    "    In = input()\n",
    "\n",
    "print('结束输入')"
   ]
  }
 ],
 "metadata": {
  "kernelspec": {
   "display_name": "Python 3",
   "language": "python",
   "name": "python3"
  },
  "language_info": {
   "codemirror_mode": {
    "name": "ipython",
    "version": 3
   },
   "file_extension": ".py",
   "mimetype": "text/x-python",
   "name": "python",
   "nbconvert_exporter": "python",
   "pygments_lexer": "ipython3",
   "version": "3.6.0"
  }
 },
 "nbformat": 4,
 "nbformat_minor": 2
}
