{
 "cells": [
  {
   "cell_type": "code",
   "execution_count": 1,
   "metadata": {},
   "outputs": [
    {
     "name": "stdout",
     "output_type": "stream",
     "text": [
      "和为 55\n"
     ]
    }
   ],
   "source": [
    "#写函数，返回一个list中所有数字的和\n",
    "\n",
    "def total(numbers):\n",
    "    total=0\n",
    "    for number in numbers:\n",
    "        total+=number\n",
    "    return total\n",
    "\n",
    "print('和为',total([1,2,3,4,5,6,7,8,9,10]))"
   ]
  },
  {
   "cell_type": "code",
   "execution_count": 2,
   "metadata": {},
   "outputs": [
    {
     "name": "stdout",
     "output_type": "stream",
     "text": [
      "最小值为 1\n"
     ]
    }
   ],
   "source": [
    "#写函数，返回一个list中的最小值\n",
    "\n",
    "def minNum(list):\n",
    "    minNum=list[0]\n",
    "    for number in list:\n",
    "        if number<minNum:\n",
    "            minNum=number\n",
    "    return minNum\n",
    "    \n",
    "print('最小值为',minNum([1,2,3,4,5,6,7,8,9,10]))\n"
   ]
  },
  {
   "cell_type": "code",
   "execution_count": 3,
   "metadata": {},
   "outputs": [
    {
     "name": "stdout",
     "output_type": "stream",
     "text": [
      "请输入一个整数，回车结束。7\n",
      "6\n"
     ]
    }
   ],
   "source": [
    "#写函数，返回某个元素/对象在一个list中的位置，如果不在，则返回-1.\n",
    "\n",
    "def loc(param):\n",
    "    i=0\n",
    "    for number in numbers:\n",
    "        if param==number:\n",
    "            return i\n",
    "        i=i+1\n",
    "    return-1\n",
    "\n",
    "numbers=[1,2,3,4,5,6,7,8,9,10]\n",
    "n=int(input('请输入一个整数，回车结束。'))\n",
    "print(loc(n))"
   ]
  },
  {
   "cell_type": "code",
   "execution_count": 6,
   "metadata": {},
   "outputs": [
    {
     "name": "stdout",
     "output_type": "stream",
     "text": [
      "两个向量的余弦值为： 0.1414213562373095\n"
     ]
    }
   ],
   "source": [
    "#写函数，可求两个向量的夹角余弦值，向量可放在list中。主程序调用该函数。\n",
    "\n",
    "import math\n",
    "def cos(a,b):\n",
    "    total_a=0\n",
    "    total_b=0\n",
    "    total =0\n",
    "    i=j=0\n",
    "    for x in a:\n",
    "        total_a=total_a+x*x\n",
    "        for y in b:\n",
    "            total_b=total_b+y*y\n",
    "            if i==j:\n",
    "                total = total+x*y\n",
    "            j=j+1\n",
    "        i=i+1\n",
    "    return total/( math.sqrt(total_a)*math.sqrt(total_b) )\n",
    "            \n",
    "\n",
    "vector=[[3,4,5],[4,4,4]]\n",
    "print('两个向量的余弦值为：',cos(vector[0],vector[1]))"
   ]
  },
  {
   "cell_type": "code",
   "execution_count": 5,
   "metadata": {},
   "outputs": [
    {
     "name": "stdout",
     "output_type": "stream",
     "text": [
      "一共 3741 种分法\n"
     ]
    }
   ],
   "source": [
    "#挑战性习题：python语言老师为了激励学生学python，自费买了100个完全相同的Macbook Pro，分给三个班级，每个班级至少分5个，用穷举法计算共有多少种分法？\n",
    "\n",
    "total = 100-5-5-5\n",
    "count = 0\n",
    "for i in range(total + 1):\n",
    "    for j in range(total - i + 1):\n",
    "        for k in range(total - i - j + 1):\n",
    "            if i + j + k == 85:\n",
    "                count = count + 1\n",
    "            else:\n",
    "                continue\n",
    "print('一共',count,'种分法')\n"
   ]
  }
 ],
 "metadata": {
  "kernelspec": {
   "display_name": "Python 3",
   "language": "python",
   "name": "python3"
  },
  "language_info": {
   "codemirror_mode": {
    "name": "ipython",
    "version": 3
   },
   "file_extension": ".py",
   "mimetype": "text/x-python",
   "name": "python",
   "nbconvert_exporter": "python",
   "pygments_lexer": "ipython3",
   "version": "3.6.0"
  }
 },
 "nbformat": 4,
 "nbformat_minor": 2
}
