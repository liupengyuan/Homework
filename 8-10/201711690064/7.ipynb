{
 "cells": [
  {
   "cell_type": "code",
   "execution_count": 2,
   "metadata": {},
   "outputs": [
    {
     "name": "stdout",
     "output_type": "stream",
     "text": [
      "['さん', '円', '4', '爱', '我']\n"
     ]
    }
   ],
   "source": [
    "#练习一：自己定义一个reverse(s)函数，功能返回字符串s的倒序字符串。\n",
    "\n",
    "line = ['我','爱','4','円','さん']\n",
    "def reverse():    \n",
    "    line.reverse()\n",
    "    return line\n",
    "\n",
    "print(reverse())\n",
    "\n",
    "    "
   ]
  },
  {
   "cell_type": "code",
   "execution_count": 41,
   "metadata": {},
   "outputs": [
    {
     "name": "stdout",
     "output_type": "stream",
     "text": [
      "我\n",
      "我我\n",
      "我爱我\n",
      "我爱爱我\n",
      "我爱唱爱我\n",
      "我爱唱唱爱我\n",
      "我爱唱见唱爱我\n",
      "我爱唱见见唱爱我\n",
      "我爱唱见四见唱爱我\n",
      "我爱唱见四四见唱爱我\n",
      "我爱唱见四円四见唱爱我\n",
      "                              \n",
      "------------------------------\n",
      "           我\n",
      "          我我\n",
      "         我爱我\n",
      "        我爱爱我\n",
      "       我爱唱爱我\n",
      "      我爱唱唱爱我\n",
      "     我爱唱见唱爱我\n",
      "    我爱唱见见唱爱我\n",
      "   我爱唱见四见唱爱我\n",
      "  我爱唱见四四见唱爱我\n",
      " 我爱唱见四円四见唱爱我\n"
     ]
    }
   ],
   "source": [
    "#练习二：写函数，根据给定符号和行数，打印相应直角三角形，等腰三角形及其他形式的三角形。\n",
    "\n",
    "def abc(line):\n",
    "    for i in range(1,len(line)*2):\n",
    "        if i == 1:\n",
    "             print(''*(len(line)*2-1) +line[0])\n",
    "        elif i%2 == 1:\n",
    "            print(''*(len(line)*2-i) + line[:i//2] + line[i//2] + line[i//2-1::-1])\n",
    "        else:\n",
    "            print(''*(len(line)*2-i) + line[:i//2] + line[i//2-1::-1])\n",
    "\n",
    "def main():\n",
    "    line = '我爱唱见四円'\n",
    "    abc(line)\n",
    "if __name__ == '__main__':\n",
    "    main()\n",
    "\n",
    "\n",
    "\n",
    "print(' '*30 )\n",
    "print('-'*30)\n",
    "\n",
    "def abc(line):\n",
    "    for i in range(1,len(line)*2):\n",
    "        if i == 1:\n",
    "             print(' '*(len(line)*2-1) +line[0])\n",
    "        elif i%2 == 1:\n",
    "            print(' '*(len(line)*2-i) + line[:i//2] + line[i//2] + line[i//2-1::-1])\n",
    "        else:\n",
    "            print(' '*(len(line)*2-i) + line[:i//2] + line[i//2-1::-1])\n",
    "\n",
    "def main():\n",
    "    line = '我爱唱见四円'\n",
    "    abc(line)\n",
    "if __name__ == '__main__':\n",
    "    main()"
   ]
  },
  {
   "cell_type": "code",
   "execution_count": 84,
   "metadata": {},
   "outputs": [
    {
     "name": "stdout",
     "output_type": "stream",
     "text": [
      "           我\n",
      "          我我\n",
      "         我爱我\n",
      "        我爱爱我\n",
      "       我爱唱爱我\n",
      "      我爱唱唱爱我\n",
      "     我爱唱见唱爱我\n",
      "    我爱唱见见唱爱我\n",
      "   我爱唱见四见唱爱我\n",
      "  我爱唱见四四见唱爱我\n",
      " 我爱唱见四円四见唱爱我\n",
      " 我爱唱见四円四见唱爱我\n",
      "  我爱唱见四四见唱爱我\n",
      "   我爱唱见四见唱爱我\n",
      "    我爱唱见见唱爱我\n",
      "     我爱唱见唱爱我\n",
      "      我爱唱唱爱我\n",
      "       我爱唱爱我\n",
      "        我爱爱我\n",
      "         我爱我\n",
      "          我我\n",
      "           我\n"
     ]
    }
   ],
   "source": [
    "def abc(line):\n",
    "    for i in range(1,len(line)*2):\n",
    "        if i == 1:\n",
    "             print(' '*(len(line)*2-1) +line[0])\n",
    "        elif i%2 == 1:\n",
    "            print(' '*(len(line)*2-i) + line[:i//2] + line[i//2] + line[i//2-1::-1])\n",
    "        else:\n",
    "            print(' '*(len(line)*2-i) + line[:i//2] + line[i//2-1::-1])\n",
    "            \n",
    "    for i in reversed(range(1,len(line)*2)):\n",
    "        if i == 1:\n",
    "             print(' '*(len(line)*2-1) +line[0])\n",
    "        elif i%2 == 1:\n",
    "            print(' '*(len(line)*2-i) + line[:i//2] + line[i//2] + line[i//2-1::-1])\n",
    "        else:\n",
    "            print(' '*(len(line)*2-i) + line[:i//2] + line[i//2-1::-1])\n",
    "       \n",
    "\n",
    "def main():\n",
    "    line = '我爱唱见四円'\n",
    "    abc(line)\n",
    "if __name__ == '__main__':\n",
    "    main()"
   ]
  },
  {
   "cell_type": "code",
   "execution_count": null,
   "metadata": {},
   "outputs": [],
   "source": []
  }
 ],
 "metadata": {
  "kernelspec": {
   "display_name": "Python 3",
   "language": "python",
   "name": "python3"
  },
  "language_info": {
   "codemirror_mode": {
    "name": "ipython",
    "version": 3
   },
   "file_extension": ".py",
   "mimetype": "text/x-python",
   "name": "python",
   "nbconvert_exporter": "python",
   "pygments_lexer": "ipython3",
   "version": "3.6.0"
  }
 },
 "nbformat": 4,
 "nbformat_minor": 2
}
