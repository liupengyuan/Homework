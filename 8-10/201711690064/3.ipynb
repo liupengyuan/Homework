{
 "cells": [
  {
   "cell_type": "code",
   "execution_count": 3,
   "metadata": {},
   "outputs": [
    {
     "name": "stdout",
     "output_type": "stream",
     "text": [
      "请输入一个正整数3\n",
      "请输入一个正整数，且不能为0  8\n",
      "输入1为求和，2为求积，3为求余，4为求整除2\n",
      "24\n"
     ]
    }
   ],
   "source": [
    "#练习二\n",
    "m=int(input('请输入一个正整数'))\n",
    "n=int(input('请输入一个正整数，且不能为0  '))\n",
    "\n",
    "s=int(input('输入1为求和，2为求积，3为求余，4为求整除'))\n",
    "if s==1:\n",
    "    print(m+n)\n",
    "elif s==2:\n",
    "    print(m*n)\n",
    "elif s==3:\n",
    "    print(m%n)\n",
    "else:\n",
    "    print(m/n)"
   ]
  },
  {
   "cell_type": "code",
   "execution_count": 3,
   "metadata": {},
   "outputs": [
    {
     "name": "stdout",
     "output_type": "stream",
     "text": [
      "请输入字符串：note\n",
      "notes\n"
     ]
    }
   ],
   "source": [
    "#练习四\n",
    "hey_string=input('请输入字符串：')\n",
    "if hey_string.endswith('e'):\n",
    "    print(hey_string+'s')\n",
    "elif hey_string.endswith('o') or hey_string.endswith('s') or hey_string.endswith('x') or hey_string.endswith('ch') or hey_string.endswith('sh'):\n",
    "    print(hey_string+'es')\n",
    "\n",
    "else:\n",
    "    print(hey_string+'s')"
   ]
  },
  {
   "cell_type": "code",
   "execution_count": null,
   "metadata": {},
   "outputs": [],
   "source": []
  }
 ],
 "metadata": {
  "kernelspec": {
   "display_name": "Python 3",
   "language": "python",
   "name": "python3"
  },
  "language_info": {
   "codemirror_mode": {
    "name": "ipython",
    "version": 3
   },
   "file_extension": ".py",
   "mimetype": "text/x-python",
   "name": "python",
   "nbconvert_exporter": "python",
   "pygments_lexer": "ipython3",
   "version": "3.6.0"
  }
 },
 "nbformat": 4,
 "nbformat_minor": 2
}
