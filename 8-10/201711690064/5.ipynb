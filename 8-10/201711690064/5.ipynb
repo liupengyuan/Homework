{
 "cells": [
  {
   "cell_type": "code",
   "execution_count": 2,
   "metadata": {},
   "outputs": [
    {
     "name": "stdout",
     "output_type": "stream",
     "text": [
      "请输入m的值：3\n",
      "请输入n的值：5\n",
      "请输入k的值：7\n",
      "结果为： 2.1447610589527217\n"
     ]
    }
   ],
   "source": [
    "#练习一 写函数，求n个随机整数均值的平方根，整数范围在m与k之间（n,m,k由用户输入）\n",
    "import random\n",
    "import math\n",
    "\n",
    "def zhengshu(m,n,k):\n",
    "    i = 0\n",
    "    total = 0\n",
    "    while i<n:\n",
    "        num = random.randint(m,k)\n",
    "        total += num\n",
    "        i += 1\n",
    "    return math.sqrt(total/n)\n",
    "\n",
    "m = int(input(\"请输入m的值：\"))\n",
    "n = int(input(\"请输入n的值：\"))\n",
    "k = int(input(\"请输入k的值：\"))\n",
    "\n",
    "print(\"结果为：\",zhengshu(m,n,k))"
   ]
  },
  {
   "cell_type": "code",
   "execution_count": 5,
   "metadata": {},
   "outputs": [
    {
     "name": "stdout",
     "output_type": "stream",
     "text": [
      "请输入m的值：5\n",
      "请输入n的值：10\n",
      "请输入k的值：15\n",
      "结果为： (23.723850180148975, -23.723850180148975)\n"
     ]
    }
   ],
   "source": [
    "# 练习二：写函数，共n个随机整数，整数范围在m与k之间，（n,m,k由用户输入）。求1：西格玛log(随机整数)，2：西格玛1/log(随机整数)\n",
    "import random\n",
    "import math\n",
    "\n",
    "def name(m,n,k):\n",
    "    i = 0\n",
    "    total1 = 0\n",
    "    total2 = 0\n",
    "    while(i < n):\n",
    "        i += 1\n",
    "        A = random.randint(m,k)\n",
    "        total1 += math.log(A)\n",
    "        total2 += math.log(1/A)\n",
    "    return total1,total2\n",
    "m = int(input(\"请输入m的值：\"))\n",
    "n = int(input(\"请输入n的值：\"))\n",
    "k = int(input(\"请输入k的值：\"))\n",
    "print(\"结果为：\",name(m,n,k))"
   ]
  },
  {
   "cell_type": "code",
   "execution_count": null,
   "metadata": {},
   "outputs": [],
   "source": []
  }
 ],
 "metadata": {
  "kernelspec": {
   "display_name": "Python 3",
   "language": "python",
   "name": "python3"
  },
  "language_info": {
   "codemirror_mode": {
    "name": "ipython",
    "version": 3
   },
   "file_extension": ".py",
   "mimetype": "text/x-python",
   "name": "python",
   "nbconvert_exporter": "python",
   "pygments_lexer": "ipython3",
   "version": "3.6.0"
  }
 },
 "nbformat": 4,
 "nbformat_minor": 2
}
