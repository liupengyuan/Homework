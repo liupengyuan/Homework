{
 "cells": [
  {
   "cell_type": "code",
   "execution_count": 3,
   "metadata": {},
   "outputs": [
    {
     "name": "stdout",
     "output_type": "stream",
     "text": [
      "请输入第1个整数，以回车结束。2\n",
      "请输入第2个整数，以回车结束。3\n",
      "请输入第3个整数，以回车结束。4\n",
      "最终的和是： 32\n"
     ]
    }
   ],
   "source": [
    "#练习一\n",
    "\n",
    "def compute_sum(end):\n",
    "    i = 0\n",
    "    total_n = 1\n",
    "\n",
    "    while i < end:\n",
    "        i = i + 1\n",
    "        total_n = total_n * i\n",
    "\n",
    "    return total_n\n",
    "\n",
    "n = int(input('请输入第1个整数，以回车结束。'))\n",
    "m = int(input('请输入第2个整数，以回车结束。'))\n",
    "k = int(input('请输入第3个整数，以回车结束。'))\n",
    "\n",
    "print('最终的和是：', compute_sum(m) + compute_sum(n) + compute_sum(k))"
   ]
  },
  {
   "cell_type": "code",
   "execution_count": 1,
   "metadata": {},
   "outputs": [
    {
     "name": "stdout",
     "output_type": "stream",
     "text": [
      "3.142593654340044\n",
      "3.1416026536897204\n"
     ]
    }
   ],
   "source": [
    "#练习 2：写函数可返回1 - 1/3 + 1/5 - 1/7...的前n项的和。在主程序中，分别令n=1000及100000，打印4倍该函数的和\n",
    "def sum1(end):\n",
    "    total_n = 0\n",
    "    for i in range(1,end):\n",
    "        total_n = total_n + (-1)**(i-1) * (1/(2*i-1))\n",
    "    return total_n\n",
    "\n",
    "print(4*sum1(1000))\n",
    "print(4*sum1(100000))"
   ]
  },
  {
   "cell_type": "code",
   "execution_count": 4,
   "metadata": {},
   "outputs": [
    {
     "name": "stdout",
     "output_type": "stream",
     "text": [
      "请输入您的姓名：黄馨谊\n",
      "请输入您的出生月份(阿拉伯数字）：12\n",
      "请输入您的出生日期(阿拉伯数字）：18\n",
      "('黄馨谊', '你是非常有性格的射手座！')\n"
     ]
    }
   ],
   "source": [
    "#练习三（1）\n",
    "# 写程序，可由键盘读入用户姓名例如Mr. right，让用户输入出生的月份与日期，判断用户星座，假设用户是金牛座，则输出，Mr. right，你是非常有性格的金牛座！\n",
    "def constellation(name,birth_mon,birth_day):\n",
    "    if birth_mon == '1' :\n",
    "        if 1 <= birth_day <= 20:\n",
    "            return name,'你是非常有性格的摩羯座！'\n",
    "        elif 21 <= birth_day <= 31:\n",
    "            return name,'你是非常有性格的水瓶座！'\n",
    "        \n",
    "    if birth_mon == '2' :\n",
    "        if 1 <= birth_day <= 19:\n",
    "            return name,'你是非常有性格的水瓶座！'\n",
    "        elif 20 <= birth_day <= 29:\n",
    "            return name,'你是非常有性格的双鱼座！'\n",
    "    \n",
    "    if birth_mon == '3' :\n",
    "        if 1 <= birth_day <= 20:\n",
    "            return name,'你是非常有性格的双鱼座！'\n",
    "        elif 21 <= birth_day <= 31:\n",
    "            return name,'你是非常有性格的白羊座！'       \n",
    "\n",
    "    if birth_mon == '4':\n",
    "        if 1 <= birth_day <= 20:\n",
    "            return name,'你是非常有性格的白羊座！'\n",
    "        elif 21 <= birth_day <= 30:\n",
    "            return name,'你是非常有性格的金牛座！'    \n",
    "\n",
    "    if birth_mon == '5' or birth_mon == '五':\n",
    "        if 1 <= birth_day <= 21:\n",
    "            return name,'你是非常有性格的金牛座！'\n",
    "        elif 22 <= birth_day <= 31:\n",
    "            return name,'你是非常有性格的双子座！'       \n",
    "\n",
    "    if birth_mon == '6':\n",
    "        if 1 <= birth_day <= 21:\n",
    "            return name,'你是非常有性格的双子座！'\n",
    "        elif 22 <= birth_day <= 30:\n",
    "            return name,'你是非常有性格的巨蟹座！'  \n",
    "        \n",
    "    if birth_mon == '7' :\n",
    "        if 1 <= birth_day <= 22:\n",
    "            return name,'你是非常有性格的巨蟹座！'\n",
    "        elif 23 <= birth_day <= 31:\n",
    "            return name,'你是非常有性格的狮子座！'     \n",
    "        \n",
    "    if birth_mon == '8' :\n",
    "        if 1 <= birth_day <= 23:\n",
    "            return name,'你是非常有性格的狮子座！'\n",
    "        elif 24 <= birth_day <= 31:\n",
    "            return name,'你是非常有性格的处女座！'    \n",
    "        \n",
    "    if birth_mon == '9' :\n",
    "        if 1 <= birth_day <= 23:\n",
    "            return name,'你是非常有性格的处女座！'\n",
    "        elif 24 <= birth_day <= 30:\n",
    "            return name,'你是非常有性格的天秤座！'    \n",
    "        \n",
    "    if birth_mon == '10' :\n",
    "        if 1 <= birth_day <= 23:\n",
    "            return name,'你是非常有性格的天秤座！'\n",
    "        elif 24 <= birth_day <= 31:\n",
    "            return name,'你是非常有性格的天蝎座！'   \n",
    "        \n",
    "    if birth_mon == '11' :\n",
    "        if 1 <= birth_day <= 22:\n",
    "            return name,'你是非常有性格的天蝎座！'\n",
    "        elif 23 <= birth_day <= 30:\n",
    "            return name,'你是非常有性格的射手座！'\n",
    "        \n",
    "    if birth_mon == '12' :\n",
    "        if 1 <= birth_day <= 21:\n",
    "            return name,'你是非常有性格的射手座！'\n",
    "        elif 22 <= birth_day <= 31:\n",
    "            return name,',你是非常有性格的摩羯座！'\n",
    "            \n",
    "            \n",
    "uname = input('请输入您的姓名：')\n",
    "mon = input('请输入您的出生月份(阿拉伯数字）：')\n",
    "day = int(input('请输入您的出生日期(阿拉伯数字）：'))\n",
    "print(constellation(uname,mon,day))\n"
   ]
  },
  {
   "cell_type": "code",
   "execution_count": 8,
   "metadata": {},
   "outputs": [
    {
     "name": "stdout",
     "output_type": "stream",
     "text": [
      "请输入一个英文单词(单数形式)：hoof\n",
      "('hoof', '的复数形式是：', 'hooves')\n"
     ]
    }
   ],
   "source": [
    "#练习三（2）\n",
    "#练习 4：英文单词单数转复数，要求输入一个英文动词（单数形式），能够得到其复数形式，或给出单数转复数形式的建议\n",
    "def word_name(word):\n",
    "    if word ==\"potato\" or word ==\"tomato\"or word ==\"hero\" or word ==\"negro\" :\n",
    "        return word,\"的复数形式是：\",word + 'es'\n",
    "    elif word.endswith('s') or word.endswith('x') or word.endswith('ch') or word.endswith('sh'):\n",
    "        return word,\"的复数形式是：\",word + 'es'\n",
    "    elif word.endswith('y'):\n",
    "        return word,\"的复数形式是：\",word[:-1] + 'ies'\n",
    "    elif word.endswith('f'):\n",
    "        return word,\"的复数形式是：\",word[:-1] + 'ves'\n",
    "    elif word.endswith('fe'):\n",
    "        return word,\"的复数形式是：\",word[:-2] + 'ves'\n",
    "    elif word.endswith('an'):  \n",
    "        return word,\"的复数形式是：\",word[:-2] + 'en'\n",
    "    else:\n",
    "        return word,\"的复数形式是：\",word + 's'\n",
    "    \n",
    "m = input('请输入一个英文单词(单数形式)：')\n",
    "print(word_name(m))"
   ]
  },
  {
   "cell_type": "code",
   "execution_count": 1,
   "metadata": {},
   "outputs": [
    {
     "name": "stdout",
     "output_type": "stream",
     "text": [
      "请输入一个整数：2\n",
      "请输入一个整数：10\n",
      "请输入一个整数：4\n",
      "整数m到整数n累加的和为： 8\n"
     ]
    }
   ],
   "source": [
    "#挑战性练习：写程序，可以求从整数m到整数n累加的和，间隔为k，求和部分需用函数实现，主程序中由用户输入m，n，k调用函数验证正确性。\n",
    "\n",
    "def sum(m,n,k):\n",
    "    total_k = 0\n",
    "    for i in range(m,n,k):\n",
    "        total_k += i\n",
    "    return total_k\n",
    "\n",
    "m = int(input(\"请输入一个整数：\"))\n",
    "n = int(input(\"请输入一个整数：\"))\n",
    "k = int(input(\"请输入一个整数：\"))\n",
    "\n",
    "print('整数m到整数n累加的和为：',sum(m,n,k))"
   ]
  },
  {
   "cell_type": "code",
   "execution_count": null,
   "metadata": {},
   "outputs": [],
   "source": []
  }
 ],
 "metadata": {
  "kernelspec": {
   "display_name": "Python 3",
   "language": "python",
   "name": "python3"
  },
  "language_info": {
   "codemirror_mode": {
    "name": "ipython",
    "version": 3
   },
   "file_extension": ".py",
   "mimetype": "text/x-python",
   "name": "python",
   "nbconvert_exporter": "python",
   "pygments_lexer": "ipython3",
   "version": "3.6.0"
  }
 },
 "nbformat": 4,
 "nbformat_minor": 2
}
