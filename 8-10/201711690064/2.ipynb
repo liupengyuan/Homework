{
 "cells": [
  {
   "cell_type": "code",
   "execution_count": 31,
   "metadata": {
    "scrolled": false
   },
   "outputs": [
    {
     "name": "stdout",
     "output_type": "stream",
     "text": [
      "请输入一个数字: 4\n",
      "24\n"
     ]
    }
   ],
   "source": [
    "#练习一\n",
    "s = int(input(\"请输入一个数字: \"))\n",
    "sum = 1\n",
    "\n",
    "if s < 0:\n",
    "   print(\"抱歉，负数没有阶乘\")\n",
    "elif s == 0:\n",
    "   print(\"0 的阶乘为 1\")\n",
    "else:\n",
    "   for i in range(1,s + 1):\n",
    "       sum = sum*i\n",
    "   print(sum)"
   ]
  },
  {
   "cell_type": "code",
   "execution_count": 34,
   "metadata": {},
   "outputs": [
    {
     "name": "stdout",
     "output_type": "stream",
     "text": [
      "请输入整数个数3\n",
      "请输入整数3\n",
      "请输入整数5\n",
      "请输入整数7\n",
      "输入的整数和为: 15\n"
     ]
    }
   ],
   "source": [
    "#练习二\n",
    "=int(input('请输入整数个数'))\n",
    "sum=0\n",
    "i=0\n",
    "while i<n:\n",
    "    k=int(input('请输入整数'))\n",
    "    sum=sum+k\n",
    "    i=i+1\n",
    "print('输入的整数和为:',sum)\n"
   ]
  },
  {
   "cell_type": "code",
   "execution_count": 2,
   "metadata": {},
   "outputs": [
    {
     "name": "stdout",
     "output_type": "stream",
     "text": [
      "请输入一个正整数，以回车结束；若要停止，请输入g。0\n",
      "请输入一个正整数，以回车结束；若要停止，请输入g。9\n",
      "请输入一个正整数，以回车结束；若要停止，请输入g。8\n",
      "请输入一个正整数，以回车结束；若要停止，请输入g。7\n",
      "请输入一个正整数，以回车结束；若要停止，请输入g。g\n"
     ]
    }
   ],
   "source": [
    "#练习三\n",
    "n = input('请输入一个正整数，以回车结束；若要停止，请输入g。')\n",
    "while n != 'g':\n",
    "    n = input('请输入一个正整数，以回车结束；若要停止，请输入g。')\n",
    "if n == 'g':\n",
    "    break"
   ]
  },
  {
   "cell_type": "code",
   "execution_count": null,
   "metadata": {
    "scrolled": true
   },
   "outputs": [
    {
     "name": "stdout",
     "output_type": "stream",
     "text": [
      "请输入一个整数：10\n",
      "请输入一个整数：20\n",
      "请输入一个整数：30\n",
      "请输入一个整数：90\n",
      "请输入一个整数：100\n",
      "请输入一个整数：10000\n"
     ]
    }
   ],
   "source": [
    "#练习四\n",
    "num1 = int(input('请输入一个整数：'))\n",
    "\n",
    "sum = num1\n",
    "product = num1\n",
    "num2 = int(input('请输入一个整数：'))\n",
    "while True:\n",
    "    sum = sum + num2\n",
    "    product = product * num2\n",
    "    num2 = int(input('请输入一个整数：'))\n",
    "    if(sum<num2) and (product>num2**2):\n",
    "        break\n",
    "        \n",
    "print('sum=',sum)\n",
    "print('product=',product)\n",
    "\n"
   ]
  },
  {
   "cell_type": "code",
   "execution_count": null,
   "metadata": {},
   "outputs": [],
   "source": []
  }
 ],
 "metadata": {
  "kernelspec": {
   "display_name": "Python 3",
   "language": "python",
   "name": "python3"
  },
  "language_info": {
   "codemirror_mode": {
    "name": "ipython",
    "version": 3
   },
   "file_extension": ".py",
   "mimetype": "text/x-python",
   "name": "python",
   "nbconvert_exporter": "python",
   "pygments_lexer": "ipython3",
   "version": "3.6.0"
  }
 },
 "nbformat": 4,
 "nbformat_minor": 2
}
