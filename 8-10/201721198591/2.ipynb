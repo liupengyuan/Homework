{
 "cells": [
  {
   "cell_type": "code",
   "execution_count": 4,
   "metadata": {},
   "outputs": [
    {
     "name": "stdout",
     "output_type": "stream",
     "text": [
      "请输入一个正整数n：5\n",
      "120\n"
     ]
    }
   ],
   "source": [
    "#练习1：仿照任务2完整代码，打印n!。\n",
    "n = int(input(\"请输入一个正整数n：\"))\n",
    "sum = 1\n",
    "while n > 0:\n",
    "\tsum *= n\n",
    "\tn = n-1\n",
    "print(sum)"
   ]
  },
  {
   "cell_type": "code",
   "execution_count": 3,
   "metadata": {},
   "outputs": [
    {
     "name": "stdout",
     "output_type": "stream",
     "text": [
      "请输入你想输入的正整数的个数：4\n",
      "请输入第1个整数:43\n",
      "请输入第2个整数:56\n",
      "请输入第3个整数:845\n",
      "请输入第4个整数:9\n",
      "这些数的和是：953\n"
     ]
    }
   ],
   "source": [
    "#练习2：仿照实践1，写出由用户指定整数个数，并由用户输入多个整数，并求和的代码。\n",
    "n = int(input(\"请输入你想输入的正整数的个数：\"))\n",
    "sum = 0\n",
    "i = 1\n",
    "while n > 0:\n",
    "\ta = int(input(\"请输入第%d个整数:\"%i))\n",
    "\ti += 1\n",
    "\tn -= 1\n",
    "\tsum += a\n",
    "print(\"这些数的和是：%d\"% sum)"
   ]
  },
  {
   "cell_type": "code",
   "execution_count": 2,
   "metadata": {},
   "outputs": [
    {
     "name": "stdout",
     "output_type": "stream",
     "text": [
      "请输入第一个你想输入的数字，不想输入请输入end:345\n",
      "请输入第2个数字:345\n",
      "请输入第3个数字:4\n",
      "请输入第4个数字:end\n"
     ]
    }
   ],
   "source": [
    "#练习3：用户可以输入的任意多个数字，直到用户不想输入为止。\n",
    "\n",
    "i = 2\n",
    "a = input('请输入第一个你想输入的数字，不想输入请输入end:')\n",
    "while a != 'end':\n",
    "\ta = input(\"请输入第%d个数字:\"%i)\n",
    "\ti += 1"
   ]
  },
  {
   "cell_type": "code",
   "execution_count": 5,
   "metadata": {},
   "outputs": [
    {
     "name": "stdout",
     "output_type": "stream",
     "text": [
      "请输入第1个整数:2\n",
      "请输入第2个整数:3\n",
      "请输入第3个整数:4\n",
      "请输入第4个整数:5\n",
      "请输入第5个整数:6\n",
      "请输入第6个整数:7\n",
      "请输入第7个整数:8\n",
      "请输入第8个整数:100\n",
      "输入结束，所有数字和为：135,所有数字积为：4032000\n"
     ]
    }
   ],
   "source": [
    "#练习4：用户可以输入的任意多个数字，直到: 输入所有数字的和比当前输入数字小，且输入所有数字的积大于500。\n",
    "sum = 0\n",
    "product = 1\n",
    "i = 1\n",
    "flag = True\n",
    "while flag:\n",
    "\ta = int(input(\"请输入第%d个整数:\"%i))\n",
    "\ti += 1\n",
    "\tif sum < a and product > 500:\n",
    "\t\t\n",
    "\t\tflag = False\n",
    "\tproduct *= a\n",
    "\tsum += a\n",
    "print('输入结束，所有数字和为：%d,所有数字积为：%d' % (sum,product))"
   ]
  }
 ],
 "metadata": {
  "kernelspec": {
   "display_name": "Python 3",
   "language": "python",
   "name": "python3"
  },
  "language_info": {
   "codemirror_mode": {
    "name": "ipython",
    "version": 3
   },
   "file_extension": ".py",
   "mimetype": "text/x-python",
   "name": "python",
   "nbconvert_exporter": "python",
   "pygments_lexer": "ipython3",
   "version": "3.6.3"
  }
 },
 "nbformat": 4,
 "nbformat_minor": 2
}
