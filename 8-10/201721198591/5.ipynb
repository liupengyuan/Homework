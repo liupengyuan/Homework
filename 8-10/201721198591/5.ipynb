{
 "cells": [
  {
   "cell_type": "code",
   "execution_count": 23,
   "metadata": {},
   "outputs": [
    {
     "name": "stdout",
     "output_type": "stream",
     "text": [
      "请输入n:3\n",
      "请输入m:1\n",
      "请输入k:10\n",
      "第 1 个随机数为： 3\n",
      "第 2 个随机数为： 2\n",
      "第 3 个随机数为： 8\n",
      "均值的平方根为： 2.0816659994661326\n"
     ]
    }
   ],
   "source": [
    "#练习 1：写函数，求n个随机整数均值的平方根，整数范围在m与k之间（n,m,k由用户输入）。\n",
    "import random,math\n",
    "\n",
    "def average_square_root(m,n,k):\n",
    "    i = 0\n",
    "    total = 0\n",
    "    while i < n:\n",
    "        i += 1\n",
    "        number = random.randint(m, k)\n",
    "        print('第',i,'个随机数为：',number)\n",
    "        total += number\n",
    "    return math.sqrt(total/n)\n",
    "\n",
    "#主函数\n",
    "n = int(input(\"请输入n:\"))\n",
    "m = int(input(\"请输入m:\"))\n",
    "k = int(input(\"请输入k:\"))\n",
    "print('均值的平方根为：',average_square_root(m,n,k))"
   ]
  },
  {
   "cell_type": "code",
   "execution_count": 25,
   "metadata": {},
   "outputs": [
    {
     "name": "stdout",
     "output_type": "stream",
     "text": [
      "请输入n:3\n",
      "请输入m:2\n",
      "请输入k:10\n",
      "随机数为: 7\n",
      "随机数为: 2\n",
      "随机数为: 3\n",
      "西格玛log(随机整数)等于: 1.6232492903979003\n",
      "西格玛1/log(随机整数)等于: 6.6011260316316855\n"
     ]
    }
   ],
   "source": [
    "#练习 2：写函数，共n个随机整数，整数范围在m与k之间，\n",
    "#（n,m,k由用户输入）。求1：西格玛log(随机整数)，2：西格玛1/log(随机整数)\n",
    "import random,math\n",
    "\n",
    "# 第一个函数，求西格玛log(随机整数)\n",
    "def fun1():\n",
    "    total = 0\n",
    "    i = 0\n",
    "    while i < len(num_arry):\n",
    "        total += math.log10(num_abry[i])\n",
    "        i += 1\n",
    "    return total\n",
    "\n",
    "# 第二个函数，求主函数西格玛1/log(随机整数)\n",
    "def fun2():\n",
    "    total = 0\n",
    "    i = 0\n",
    "    while i<len(num_arry):\n",
    "        total += 1/math.log10(num_arry[i])\n",
    "        i += 1\n",
    "    return total\n",
    "\n",
    "#主函数\n",
    "n = int(input(\"请输入n:\"))\n",
    "m = int(input(\"请输入m:\"))\n",
    "k = int(input(\"请输入k:\"))\n",
    "num_arry = []\n",
    "\n",
    "while n>0:\n",
    "    number = random.randint(m, k)\n",
    "    print('随机数为:',number)\n",
    "    num_arry.append(number)\n",
    "    n -= 1\n",
    "print('西格玛log(随机整数)等于:',fun1())\n",
    "print('西格玛1/log(随机整数)等于:',fun2())"
   ]
  },
  {
   "cell_type": "code",
   "execution_count": 27,
   "metadata": {},
   "outputs": [
    {
     "name": "stdout",
     "output_type": "stream",
     "text": [
      "6.601126031631685\n"
     ]
    }
   ],
   "source": [
    "import math\n",
    "print(1/math.log10(7)+1/math.log10(3)+1/math.log10(2))"
   ]
  }
 ],
 "metadata": {
  "kernelspec": {
   "display_name": "Python 3",
   "language": "python",
   "name": "python3"
  },
  "language_info": {
   "codemirror_mode": {
    "name": "ipython",
    "version": 3
   },
   "file_extension": ".py",
   "mimetype": "text/x-python",
   "name": "python",
   "nbconvert_exporter": "python",
   "pygments_lexer": "ipython3",
   "version": "3.6.3"
  }
 },
 "nbformat": 4,
 "nbformat_minor": 2
}
