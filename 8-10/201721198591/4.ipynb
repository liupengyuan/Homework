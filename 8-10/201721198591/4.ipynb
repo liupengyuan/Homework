{
 "cells": [
  {
   "cell_type": "code",
   "execution_count": 2,
   "metadata": {},
   "outputs": [
    {
     "name": "stdout",
     "output_type": "stream",
     "text": [
      "请输入整数m，回车结束：5\n",
      "请输入整数n，回车结束：6\n",
      "请输入整数k，回车结束：7\n",
      "5！+ 6！+ 7！ = 5880\n"
     ]
    }
   ],
   "source": [
    "# 练习 1：仿照求$ \\sum_{i=1}^mi + \\sum_{i=1}^ni  + \\sum_{i=1}^ki$的完整代码，\n",
    "# 写程序，可求m!+n!+k!\n",
    "def compute_factorial_sum(num):#def 是定义函数的关键字 即：define\n",
    "    i = 1\n",
    "    product = 1\n",
    "    while i < num:\n",
    "        i = i+1\n",
    "        product *= i\n",
    "    return product\n",
    "\n",
    "#主程序\n",
    "m = int(input(\"请输入整数m，回车结束：\"))\n",
    "n = int(input(\"请输入整数n，回车结束：\"))\n",
    "k = int(input(\"请输入整数k，回车结束：\"))\n",
    "print('%d！+ %d！+ %d！ = %d'%(m,n,k,compute_factorial_sum(m)+compute_factorial_sum(n)+compute_factorial_sum(k)))"
   ]
  },
  {
   "cell_type": "code",
   "execution_count": 10,
   "metadata": {},
   "outputs": [
    {
     "name": "stdout",
     "output_type": "stream",
     "text": [
      "n为1000时，结果的四倍和为： 3.142593654340044\n",
      "n为100000时，结果的四倍和为： 3.1416026536897204\n"
     ]
    }
   ],
   "source": [
    "# 练习 2：写函数可返回1 - 1/3 + 1/5 - 1/7...的前n项的和。\n",
    "# 在主程序中，分别令n=1000及100000，打印4倍该函数的和。\n",
    "def compute_sum(num):#def 是定义函数的关键字 即：define\n",
    "    i = 1\n",
    "    total = 0\n",
    "    while i < num:\n",
    "        total += ((-1)**(i+1))*(1/(2*i-1))\n",
    "        i = i+1\n",
    "    return total\n",
    "\n",
    "#主程序\n",
    "print(\"n为1000时，结果的四倍和为：\",compute_sum(1000)*4)\n",
    "print(\"n为100000时，结果的四倍和为：\",compute_sum(100000)*4)"
   ]
  },
  {
   "cell_type": "code",
   "execution_count": 14,
   "metadata": {},
   "outputs": [
    {
     "name": "stdout",
     "output_type": "stream",
     "text": [
      "请输入你的生日,形如03.21：3.21\n",
      "你是非常有性格的白羊\n",
      "请输入一个单词：leaf\n",
      "它的复数形式为： leaves\n"
     ]
    }
   ],
   "source": [
    "#练习 3：将task3中的练习1及练习4改写为函数，并进行调用。\n",
    "def constellation(date):\n",
    "    if 3.21<=date<=4.19:\n",
    "        return('你是非常有性格的白羊')\n",
    "    elif 4.20<=date<=5.20:\n",
    "        return('你是非常有性格的金牛')\n",
    "    elif 5.21<=date<=6.21:\n",
    "        return('你是非常有性格的双子')\n",
    "    elif 6.22<=date<=7.22:\n",
    "        return('你是非常有性格的巨蟹')\n",
    "    elif 7.23<=date<=8.22:\n",
    "        return('你是非常有性格的狮子')\n",
    "    elif 8.23<=date<=9.22:\n",
    "        return('你是非常有性格的处女')\n",
    "    elif 9.23<=date<=10.23:\n",
    "        return('你是非常有性格的天秤')\n",
    "    elif 10.24<=date<=11.22:\n",
    "        return('你是非常有性格的天蝎')\n",
    "    elif 11.23<=date<=12.21:\n",
    "        return('你是非常有性格的射手')\n",
    "    elif 12.22<=date<=12.31 or date<=1.19:\n",
    "        return('你是非常有性格的摩羯')\n",
    "    elif 1.20<=date<=2.18:\n",
    "        return('你是非常有性格的水瓶')\n",
    "    else :\n",
    "        return('你是非常有性格的双鱼')\n",
    "        \n",
    "# 单词单数转复数\n",
    "\n",
    "def change_wor(str):\n",
    "    length = len(str)\n",
    "    if str.endswith('s') or str.endswith('ch') or str.endswith('x') or str.endswith('sh'):\n",
    "        return(str+'es')\n",
    "    elif str.endswith('f'):\n",
    "        return(str[0:length-1]+'ves')\n",
    "    elif str.endswith('fe'):\n",
    "        return(str[0:length-2]+'ves')\n",
    "    else:\n",
    "        return(str+'s')\n",
    "#主函数        \n",
    "date = float(input('请输入你的生日,形如03.21：'))\n",
    "print(constellation(date))\n",
    "str = input(\"请输入一个单词：\")\n",
    "print('它的复数形式为：',change_wor(str))\n"
   ]
  },
  {
   "cell_type": "code",
   "execution_count": 23,
   "metadata": {},
   "outputs": [
    {
     "name": "stdout",
     "output_type": "stream",
     "text": [
      "请输入m:2\n",
      "请输入n:10\n",
      "请输入k:2\n",
      "和为: 30\n"
     ]
    }
   ],
   "source": [
    "#挑战性练习：写程序，可以求从整数m到整数n累加的和，间隔为k，求和部分需用函数实现，\n",
    "#主程序中由用户输入m，n，k调用函数验证正确性。\n",
    "\n",
    "#求和函数\n",
    "def sum(m,n,k):\n",
    "    if m>n:\n",
    "        tmp = m\n",
    "        m = n\n",
    "        n = tmp\n",
    "    \n",
    "    total = 0\n",
    "    for i in range(m,n+1,k):\n",
    "        total += i\n",
    "    return total   \n",
    "   \n",
    "#主函数\n",
    "m = int(input('请输入m:'))\n",
    "n = int(input('请输入n:'))\n",
    "k = int(input('请输入k:'))\n",
    "print('和为:',sum(m,n,k))"
   ]
  }
 ],
 "metadata": {
  "kernelspec": {
   "display_name": "Python 3",
   "language": "python",
   "name": "python3"
  },
  "language_info": {
   "codemirror_mode": {
    "name": "ipython",
    "version": 3
   },
   "file_extension": ".py",
   "mimetype": "text/x-python",
   "name": "python",
   "nbconvert_exporter": "python",
   "pygments_lexer": "ipython3",
   "version": "3.6.3"
  }
 },
 "nbformat": 4,
 "nbformat_minor": 2
}
