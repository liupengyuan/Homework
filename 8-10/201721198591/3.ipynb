{
 "cells": [
  {
   "cell_type": "code",
   "execution_count": 30,
   "metadata": {},
   "outputs": [
    {
     "name": "stdout",
     "output_type": "stream",
     "text": [
      "请输入整数m：7\n",
      "请输入整数n(不为0)：4\n",
      "若您想求和请输入1\n",
      "求积请输入2\n",
      "求余数请输入3\n",
      "求整除请输入4\n",
      "1\n",
      "m到n的和为：22\n"
     ]
    }
   ],
   "source": [
    "'''\n",
    "练习 2: 写程序，可由键盘读入两个整数m与n(n不等于0)，询问用户意图，如果要求和则计算从m到n的和输出，如果要\n",
    "乘积则计算从m到n的积并输出，如果要求余数则计算m除以n的余数的值并输出，否则则计算m整除n的值并输出。\n",
    "'''\n",
    "\n",
    "m = int(input(\"请输入整数m：\"))\n",
    "n = int(input(\"请输入整数n(不为0)：\"))\n",
    "x = int(input(\"若您想求和请输入1\\n求积请输入2\\n求余数请输入3\\n求整除请输入4\\n\"))\n",
    "if x == 1:\n",
    "    sum = 0\n",
    "    if m > n:\n",
    "        tmp = m\n",
    "        m = n\n",
    "        n = tmp\n",
    "    while m <= n:\n",
    "        sum += n\n",
    "        n -= 1\n",
    "    print(\"m到n的和为：%d\"%sum)\n",
    "elif x == 2:\n",
    "    product = 1\n",
    "    if m > n:\n",
    "        tmp = m\n",
    "        m = n\n",
    "        n = tmp\n",
    "    while m <= n:\n",
    "        product *= n\n",
    "        n -= 1\n",
    "    print(\"m到n的积为：%d\"%product)\n",
    "elif x == 3:\n",
    "    print(\"m除以n的余数为:\",m%n)\n",
    "elif x== 4:\n",
    "    print(\"m整除n的结果为:\",m/n)"
   ]
  },
  {
   "cell_type": "code",
   "execution_count": 32,
   "metadata": {},
   "outputs": [
    {
     "name": "stdout",
     "output_type": "stream",
     "text": [
      "请输入一个单词：leaf\n",
      "leaves\n"
     ]
    }
   ],
   "source": [
    "'''\n",
    "练习 4：英文单词单数转复数，要求输入一个英文动词（单数形式），能够得到其复数形式，或给出单数转复数形式的建议（提示，\n",
    "some_string.endswith(some_letter)函数可以判断某字符串结尾字符，可尝试运行：'myname'.endswith('me')，liupengyuan'.endswith('n')）。\n",
    "'''\n",
    "str = input(\"请输入一个单词：\")\n",
    "length = len(str)\n",
    "if str.endswith('s') or str.endswith('ch') or str.endswith('x') or str.endswith('sh'):\n",
    "    print(str+'es')\n",
    "elif str.endswith('f'):\n",
    "    print(str[0:length-1]+'ves')\n",
    "elif str.endswith('fe'):\n",
    "    print(str[0:length-2]+'ves')\n",
    "else:\n",
    "    print(str+'s')"
   ]
  }
 ],
 "metadata": {
  "kernelspec": {
   "display_name": "Python 3",
   "language": "python",
   "name": "python3"
  },
  "language_info": {
   "codemirror_mode": {
    "name": "ipython",
    "version": 3
   },
   "file_extension": ".py",
   "mimetype": "text/x-python",
   "name": "python",
   "nbconvert_exporter": "python",
   "pygments_lexer": "ipython3",
   "version": "3.6.3"
  }
 },
 "nbformat": 4,
 "nbformat_minor": 2
}
