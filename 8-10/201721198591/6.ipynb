{
 "cells": [
  {
   "cell_type": "code",
   "execution_count": 27,
   "metadata": {},
   "outputs": [
    {
     "name": "stdout",
     "output_type": "stream",
     "text": [
      "请输入你想输入的数字个数：4\n",
      "1\n",
      "2\n",
      "3\n",
      "4\n",
      "所有数字的和为： 10\n"
     ]
    }
   ],
   "source": [
    "#写函数，返回一个list中所有数字的和\n",
    "import random,math\n",
    "\n",
    "numbers = []\n",
    "n = int(input('请输入你想输入的数字个数：'))\n",
    "\n",
    "for i in range(n):\n",
    "    num = int(input())\n",
    "    numbers.append(num)\n",
    "    \n",
    "print('所有数字的和为：',sum(numbers))\n"
   ]
  },
  {
   "cell_type": "code",
   "execution_count": 2,
   "metadata": {},
   "outputs": [
    {
     "name": "stdout",
     "output_type": "stream",
     "text": [
      "请输入你想输入的数字个数：4\n",
      "54\n",
      "765\n",
      "76\n",
      "100\n",
      "最小值为： 54\n"
     ]
    }
   ],
   "source": [
    "#写函数，返回一个list中的最小值\n",
    "import random,math\n",
    "\n",
    "numbers = []\n",
    "n = int(input('请输入你想输入的数字个数：'))\n",
    "\n",
    "for i in range(n):\n",
    "    num = int(input())\n",
    "    numbers.append(num)\n",
    "    \n",
    "print('最小值为：',min(numbers))"
   ]
  },
  {
   "cell_type": "code",
   "execution_count": 14,
   "metadata": {
    "scrolled": true
   },
   "outputs": [
    {
     "name": "stdout",
     "output_type": "stream",
     "text": [
      "请输入你想找的对象：c\n",
      "你想找的对象在s中的位置是： [2, 3, 5]\n",
      "请输入你想找的对象：y\n",
      "-1\n"
     ]
    }
   ],
   "source": [
    "#写函数，返回某个元素/对象在一个list中的位置，如果不在，则返回-1.\n",
    "def find_index():\n",
    "    s = ['a','b','c','c','d','c']\n",
    "    find = input('请输入你想找的对象：')\n",
    "    if find not in s:\n",
    "        print(-1)\n",
    "    else:\n",
    "        print('你想找的对象在s中的位置是：',[i for i,v in enumerate(s) if v==find])\n",
    "\n",
    "find_index()\n",
    "find_index()"
   ]
  },
  {
   "cell_type": "code",
   "execution_count": 27,
   "metadata": {},
   "outputs": [
    {
     "name": "stdout",
     "output_type": "stream",
     "text": [
      "余弦值为： 0.9079593845004517\n"
     ]
    }
   ],
   "source": [
    "#写函数，可求两个向量的夹角余弦值，向量可放在list中。主程序调用该函数。\n",
    "\n",
    "def cos(x,y):\n",
    "    if(len(x)!=len(y)):\n",
    "        print('输入错误，x与y不是同一个维度')\n",
    "        return;\n",
    "    result1=0;\n",
    "    result2=0;\n",
    "    result3=0;\n",
    "    for i in range(len(x)):\n",
    "        result1+=x[i]*y[i]   #sum(X*Y)\n",
    "        result2+=x[i]**2     #sum(X*X)\n",
    "        result3+=y[i]**2     #sum(Y*Y)\n",
    "    #print(result1)\n",
    "    #print(result2)\n",
    "    #print(result3)\n",
    "    print(\"余弦值为：\",result1/((result2*result3)**0.5)) #结果显示\n",
    "#主函数\n",
    "cos([4,5],[2,1])"
   ]
  }
 ],
 "metadata": {
  "kernelspec": {
   "display_name": "Python 3",
   "language": "python",
   "name": "python3"
  },
  "language_info": {
   "codemirror_mode": {
    "name": "ipython",
    "version": 3
   },
   "file_extension": ".py",
   "mimetype": "text/x-python",
   "name": "python",
   "nbconvert_exporter": "python",
   "pygments_lexer": "ipython3",
   "version": "3.6.3"
  }
 },
 "nbformat": 4,
 "nbformat_minor": 2
}
