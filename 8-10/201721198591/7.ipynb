{
 "cells": [
  {
   "cell_type": "code",
   "execution_count": 1,
   "metadata": {},
   "outputs": [
    {
     "name": "stdout",
     "output_type": "stream",
     "text": [
      "请输入你要倒序的字符串：abcdefg\n",
      "s的倒序字符串为： ['g', 'f', 'e', 'd', 'c', 'b', 'a']\n"
     ]
    }
   ],
   "source": [
    "#练习一：自己定义一个reverse(s)函数，功能返回字符串s的倒序字符串。\n",
    "\n",
    "def reverse(s):\n",
    "    t = []\n",
    "    for i in range(len(s)-1,-1,-1):\n",
    "        t.append(s[i])\n",
    "    print('s的倒序字符串为：',t)\n",
    "    \n",
    "#主函数\n",
    "\n",
    "s = input('请输入你要倒序的字符串：')\n",
    "reverse(s)"
   ]
  },
  {
   "cell_type": "code",
   "execution_count": 3,
   "metadata": {},
   "outputs": [
    {
     "name": "stdout",
     "output_type": "stream",
     "text": [
      "请输入你想使用的符号：$\n",
      "请输入打印三角形的行数：10\n",
      "直角三角形：\n",
      "$\n",
      "$$\n",
      "$$$\n",
      "$$$$\n",
      "$$$$$\n",
      "$$$$$$\n",
      "$$$$$$$\n",
      "$$$$$$$$\n",
      "$$$$$$$$$\n",
      "$$$$$$$$$$\n",
      "等腰三角形：\n",
      "         $\n",
      "        $$$\n",
      "       $$$$$\n",
      "      $$$$$$$\n",
      "     $$$$$$$$$\n",
      "    $$$$$$$$$$$\n",
      "   $$$$$$$$$$$$$\n",
      "  $$$$$$$$$$$$$$$\n",
      " $$$$$$$$$$$$$$$$$\n",
      "$$$$$$$$$$$$$$$$$$$\n"
     ]
    }
   ],
   "source": [
    "#练习二：写函数，根据给定符号和行数，打印相应直角三角形，等腰三角形及其他形式的三角形。\n",
    "\n",
    "#直三角形\n",
    "def right_triangle(alpha,row_num):\n",
    "    print('直角三角形：')\n",
    "    for i in range(1,row_num+1):\n",
    "        print(alpha*i)\n",
    "            \n",
    "#等腰三角形\n",
    "def isosceles_triangle(alpha,row_num):\n",
    "    print('等腰三角形：')\n",
    "    for i in range(1,row_num+1):\n",
    "        print(' '*(row_num-i)+alpha*(2*i-1))\n",
    "\n",
    "#主函数\n",
    "alpha = input('请输入你想使用的符号：')\n",
    "row_num = int(input(\"请输入打印三角形的行数：\"))\n",
    "right_triangle(alpha,row_num)\n",
    "isosceles_triangle(alpha,row_num)"
   ]
  },
  {
   "cell_type": "code",
   "execution_count": 12,
   "metadata": {},
   "outputs": [
    {
     "name": "stdout",
     "output_type": "stream",
     "text": [
      "请输入你想使用的符号：6\n",
      "请输入菱形的高度(注意为奇数)：19\n",
      "         6\n",
      "        666\n",
      "       66666\n",
      "      6666666\n",
      "     666666666\n",
      "    66666666666\n",
      "   6666666666666\n",
      "  666666666666666\n",
      " 66666666666666666\n",
      "6666666666666666666\n",
      " 66666666666666666\n",
      "  666666666666666\n",
      "   6666666666666\n",
      "    66666666666\n",
      "     666666666\n",
      "      6666666\n",
      "       66666\n",
      "        666\n",
      "         6\n",
      "          \n"
     ]
    }
   ],
   "source": [
    "#练习五：写函数，根据给定符号，打印各种菱形。\n",
    "\n",
    "def diamond(alpha,row_num):\n",
    "    row_num = 10\n",
    "    for i in range(1,row_num+1):\n",
    "        print(' '*(row_num-i)+alpha*(2*i-1))\n",
    "    for i in range(row_num,0,-1):\n",
    "        print(' '*(row_num-i+1)+alpha*(2*i-3))\n",
    "\n",
    "def main():\n",
    "    alpha = input('请输入你想使用的符号：')\n",
    "    row_num = int(input(\"请输入菱形的高度(注意为奇数)：\"))\n",
    "    a  = row_num // 2\n",
    "    diamond(alpha,a)\n",
    "    \n",
    "\n",
    "if __name__ == '__main__':\n",
    "    main()"
   ]
  }
 ],
 "metadata": {
  "kernelspec": {
   "display_name": "Python 3",
   "language": "python",
   "name": "python3"
  },
  "language_info": {
   "codemirror_mode": {
    "name": "ipython",
    "version": 3
   },
   "file_extension": ".py",
   "mimetype": "text/x-python",
   "name": "python",
   "nbconvert_exporter": "python",
   "pygments_lexer": "ipython3",
   "version": "3.6.3"
  }
 },
 "nbformat": 4,
 "nbformat_minor": 2
}
