{
 "cells": [
  {
   "cell_type": "code",
   "execution_count": 26,
   "metadata": {},
   "outputs": [
    {
     "name": "stdout",
     "output_type": "stream",
     "text": [
      "请输入你想要输入的符号*\n",
      "请输入边长5\n",
      "    * \n",
      "   * * \n",
      "  * * * \n",
      " * * * * \n",
      "* * * * * \n",
      " * * * * \n",
      "  * * * \n",
      "   * * \n",
      "    * \n"
     ]
    }
   ],
   "source": [
    "#1、写函数，给定符号和行数，如’*’，5，可打印相应行数的如下菱形。主程序输入符号和行数调用该函数进行验证。\n",
    "\n",
    "def diamond(n,s):\n",
    "    for i in range(1,n+1):\n",
    "        print(' '*(n-i) + s*i)\n",
    "    for i in range(1,n):\n",
    "        print(' '*i + s*(n-i))\n",
    "s = input('请输入你想要输入的符号')\n",
    "s = s +' '\n",
    "n = int(input('请输入边长'))\n",
    "diamond(n,s)    "
   ]
  },
  {
   "cell_type": "code",
   "execution_count": 15,
   "metadata": {},
   "outputs": [
    {
     "name": "stdout",
     "output_type": "stream",
     "text": [
      "请输入一个你喜欢的符号:*\n",
      "请输入边长:5\n",
      "    * \n",
      "   * * \n",
      "  *   * \n",
      " *     * \n",
      "*       * \n",
      " *     * \n",
      "  *   * \n",
      "   * * \n",
      "    * \n"
     ]
    }
   ],
   "source": [
    "# 打印空心菱形\n",
    "\n",
    "def hollow_diamond(n,s):\n",
    "    for i in range(1,n+1):\n",
    "        if (i == 1) or (i == 2):\n",
    "            print(' '*(n-i) + s*i)\n",
    "        else :\n",
    "            print(' '*(n-i) +(s + ' '*(2*(i-2)) + s))\n",
    "    for i in range(1,n):\n",
    "        if (i == n-1) or (i == n-2):\n",
    "            print(' '*i + s*(n-i))\n",
    "        else :\n",
    "            print(' '*i + (s + ' '*(2*(n-2-i)) + s))    \n",
    "        \n",
    "    \n",
    "s = input('请输入一个你喜欢的符号:')\n",
    "s = s + ' '\n",
    "n = int(input('请输入边长:'))\n",
    "hollow_diamond(n,s)"
   ]
  },
  {
   "cell_type": "code",
   "execution_count": 20,
   "metadata": {},
   "outputs": [
    {
     "name": "stdout",
     "output_type": "stream",
     "text": [
      "请输入一个你喜欢的符号:*\n",
      "请输入边长:5\n",
      "    * \n",
      "   * * \n",
      "  * * * \n",
      " * * * * \n",
      "* * * * * \n"
     ]
    }
   ],
   "source": [
    "# 打印三角形\n",
    "\n",
    "def triangle(n,s):\n",
    "    for i in range(1,n+1):\n",
    "        print(' '*(n-i) + s*i)\n",
    "        \n",
    "s = input('请输入一个你喜欢的符号:')\n",
    "s = s + ' '\n",
    "n = int(input('请输入边长:'))\n",
    "triangle(n,s)    "
   ]
  },
  {
   "cell_type": "code",
   "execution_count": 24,
   "metadata": {},
   "outputs": [
    {
     "name": "stdout",
     "output_type": "stream",
     "text": [
      "请输入一个你喜欢的符号:*\n",
      "请输入边长:5\n",
      "    * \n",
      "   * * \n",
      "  *   * \n",
      " *     * \n",
      "* * * * * \n"
     ]
    }
   ],
   "source": [
    "# 打印空心三角形\n",
    "def hollow_triangle(n,s):\n",
    "    for i in range(1,n+1):\n",
    "        if (i == 1) or (i == 2) or (i == n):\n",
    "            print(' '*(n-i) + s*i)\n",
    "        else :\n",
    "            print(' '*(n-i) +(s + ' '*(2*(i-2)) + s))\n",
    "    \n",
    "    \n",
    "s = input('请输入一个你喜欢的符号:')\n",
    "s = s + ' '\n",
    "n = int(input('请输入边长:'))\n",
    "hollow_triangle(n,s)"
   ]
  },
  {
   "cell_type": "code",
   "execution_count": 26,
   "metadata": {},
   "outputs": [
    {
     "name": "stdout",
     "output_type": "stream",
     "text": [
      "请输入一个你喜欢的符号:*\n",
      "请输入上底的长度:4\n",
      "请输入下底的长度：8\n",
      "请输入高：5\n",
      "    * * * * \n",
      "   *       * \n",
      "  *         * \n",
      " *           * \n",
      "* * * * * * * * \n"
     ]
    }
   ],
   "source": [
    "# 打印空心等腰梯形\n",
    "def trapezoid(n,m,k,s):\n",
    "    for i in range(1,k+1):\n",
    "        if (i == 1):\n",
    "            print(' '*(k-i) + s*n)\n",
    "        elif (i == k):\n",
    "            print(s*m)\n",
    "        else:\n",
    "            print(' '*(k-i) + (s + ' '*(2*(m-2-k+i)) + s))\n",
    "\n",
    "s = input('请输入一个你喜欢的符号:')\n",
    "s = s + ' '\n",
    "n = int(input('请输入上底的长度:'))\n",
    "m = int(input('请输入下底的长度：'))\n",
    "k = int(input('请输入高：'))\n",
    "trapezoid(n,m,k,s)"
   ]
  },
  {
   "cell_type": "code",
   "execution_count": 29,
   "metadata": {},
   "outputs": [
    {
     "name": "stdout",
     "output_type": "stream",
     "text": [
      "请输入一个你喜欢的符号:*\n",
      "请输入上底的长度:5\n",
      "请输入高：6\n",
      "     * * * * * * * \n",
      "    * * * * * * * * \n",
      "   * * * * * * * * * \n",
      "  * * * * * * * * * * \n",
      " * * * * * * * * * * * \n",
      "* * * * * * * * * * * * \n"
     ]
    }
   ],
   "source": [
    "# 打印梯形\n",
    "def tixing():\n",
    "    for i in range(1,k+1):\n",
    "        print(' '*(k-i) + s*(n+(i+1)))\n",
    "    \n",
    "s = input('请输入一个你喜欢的符号:')\n",
    "s = s + ' '\n",
    "n = int(input('请输入上底的长度:'))\n",
    "k = int(input('请输入高：'))  \n",
    "tixing()"
   ]
  }
 ],
 "metadata": {
  "kernelspec": {
   "display_name": "Python 3",
   "language": "python",
   "name": "python3"
  },
  "language_info": {
   "codemirror_mode": {
    "name": "ipython",
    "version": 3
   },
   "file_extension": ".py",
   "mimetype": "text/x-python",
   "name": "python",
   "nbconvert_exporter": "python",
   "pygments_lexer": "ipython3",
   "version": "3.6.2"
  }
 },
 "nbformat": 4,
 "nbformat_minor": 2
}
