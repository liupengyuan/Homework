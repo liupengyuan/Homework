{
 "cells": [
  {
   "cell_type": "code",
   "execution_count": 1,
   "metadata": {},
   "outputs": [
    {
     "name": "stdout",
     "output_type": "stream",
     "text": [
      "请输入字符串：似此星辰非昨夜\n",
      "夜昨非辰星此似"
     ]
    }
   ],
   "source": [
    "#练习一：自己定义一个reverse(s)函数，功能返回字符串s的倒序字符串。\n",
    "\n",
    "def reverse(s):\n",
    "    for i in range(len(s)-1,-1,-1):\n",
    "        print(s[i],end ='')\n",
    "    return\n",
    " \n",
    "s = input(\"请输入字符串：\")\n",
    "reverse(s)"
   ]
  },
  {
   "cell_type": "code",
   "execution_count": 2,
   "metadata": {},
   "outputs": [
    {
     "name": "stdout",
     "output_type": "stream",
     "text": [
      "请输入一个字符：哈\n",
      "请输入行数：7\n",
      "直角三角形\n",
      "\n",
      "哈\n",
      "哈哈\n",
      "哈哈哈\n",
      "哈哈哈哈\n",
      "哈哈哈哈哈\n",
      "哈哈哈哈哈哈\n",
      "\n",
      "等腰三角形\n",
      "      哈\n",
      "     哈哈\n",
      "    哈哈哈\n",
      "   哈哈哈哈\n",
      "  哈哈哈哈哈\n",
      " 哈哈哈哈哈哈\n",
      "哈哈哈哈哈哈哈\n",
      "\n",
      "等腰倒三角形\n",
      "哈哈哈哈哈哈哈\n",
      " 哈哈哈哈哈哈\n",
      "  哈哈哈哈哈\n",
      "   哈哈哈哈\n",
      "    哈哈哈\n",
      "     哈哈\n",
      "      哈\n",
      "\n"
     ]
    }
   ],
   "source": [
    "#练习二：写函数，根据给定符号和行数，打印相应直角三角形，等腰三角形及其他形式的三角形。\n",
    "\n",
    "def triangle(s,line):\n",
    "    \"根据给定符号和行数，打印三角形\"\n",
    "    print('直角三角形')\n",
    "    for i in range(0, line):\n",
    "        for j in range(0,i):\n",
    "            print(s, end='')\n",
    "        print()\n",
    "    print()\n",
    "    \n",
    "    print('等腰三角形')\n",
    "    for i in range(1, line+1):\n",
    "        print((line-i)*' ' + s*i,end='')\n",
    "        print()\n",
    "    print()\n",
    "    \n",
    "    print('等腰倒三角形')\n",
    "    for i in range(line,0,-1):\n",
    "        print((line-i)*' ' + s*i,end='')\n",
    "        print()\n",
    "    print()\n",
    "    \n",
    "sign = str(input(\"请输入一个字符：\"))\n",
    "line = int(input(\"请输入行数：\"))\n",
    "triangle(sign,line)\n",
    "    \n",
    "    \n",
    "    "
   ]
  },
  {
   "cell_type": "code",
   "execution_count": 1,
   "metadata": {},
   "outputs": [
    {
     "name": "stdout",
     "output_type": "stream",
     "text": [
      "请任意输入符号，打印菱形：哈\n",
      "请输入任意输入一个整数，代表打印菱形的行数：7\n",
      "THE FIRST RHOMBUS:\n",
      "      哈\n",
      "     哈哈\n",
      "    哈哈哈\n",
      "   哈哈哈哈\n",
      "  哈哈哈哈哈\n",
      " 哈哈哈哈哈哈\n",
      "哈哈哈哈哈哈哈\n",
      "哈哈哈哈哈哈哈\n",
      " 哈哈哈哈哈哈\n",
      "  哈哈哈哈哈\n",
      "   哈哈哈哈\n",
      "    哈哈哈\n",
      "     哈哈\n",
      "      哈\n",
      "\n",
      "请任意输入符号，打印菱形：辰\n",
      "请输入任意输入一个整数，代表打印菱形的行数：8\n",
      "THE SECOND RHOMBUS:\n",
      "       辰\n",
      "      辰辰\n",
      "     辰辰辰\n",
      "    辰辰辰辰\n",
      "   辰辰辰辰辰\n",
      "  辰辰辰辰辰辰\n",
      " 辰辰辰辰辰辰辰\n",
      "辰辰辰辰辰辰辰辰\n",
      "辰辰辰辰辰辰辰辰\n",
      " 辰辰辰辰辰辰辰\n",
      "  辰辰辰辰辰辰\n",
      "   辰辰辰辰辰\n",
      "    辰辰辰辰\n",
      "     辰辰辰\n",
      "      辰辰\n",
      "       辰\n",
      "\n"
     ]
    }
   ],
   "source": [
    "#练习五：写函数，根据给定符号，打印各种菱形。\n",
    "def rhombus(s,line):\n",
    "    for i in range(1, line+1):\n",
    "        print((line-i)*' ' + s*i,end='')\n",
    "        print()\n",
    "    for i in range(line,0,-1):\n",
    "        print((line-i)*' ' + s*i,end='')\n",
    "        print()\n",
    "    print()\n",
    "    return\n",
    "\n",
    "sign1 = input('请任意输入符号，打印菱形：')\n",
    "line1 = int(input('请输入任意输入一个整数，代表打印菱形的行数：'))\n",
    "print('THE FIRST RHOMBUS:')\n",
    "rhombus(sign1,line1)\n",
    "\n",
    "sign2 = input('请任意输入符号，打印菱形：')\n",
    "line2 = int(input('请输入任意输入一个整数，代表打印菱形的行数：'))\n",
    "print('THE SECOND RHOMBUS:')\n",
    "rhombus(sign2,line2)"
   ]
  },
  {
   "cell_type": "code",
   "execution_count": null,
   "metadata": {
    "collapsed": true
   },
   "outputs": [],
   "source": []
  }
 ],
 "metadata": {
  "kernelspec": {
   "display_name": "Python 3",
   "language": "python",
   "name": "python3"
  },
  "language_info": {
   "codemirror_mode": {
    "name": "ipython",
    "version": 3
   },
   "file_extension": ".py",
   "mimetype": "text/x-python",
   "name": "python",
   "nbconvert_exporter": "python",
   "pygments_lexer": "ipython3",
   "version": "3.6.2"
  }
 },
 "nbformat": 4,
 "nbformat_minor": 2
}
