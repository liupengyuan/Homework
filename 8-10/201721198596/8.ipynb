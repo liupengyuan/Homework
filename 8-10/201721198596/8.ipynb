{
 "cells": [
  {
   "cell_type": "code",
   "execution_count": 6,
   "metadata": {},
   "outputs": [
    {
     "name": "stdout",
     "output_type": "stream",
     "text": [
      "输入一句诗：明我长相忆\n",
      "答案是： ('明', '我', '长', '相', '忆')\n"
     ]
    }
   ],
   "source": [
    "\n",
    "import itertools\n",
    "import re\n",
    "text = ('我','梦','相','明','见','罗','林','长','在','忆','月','云')\n",
    "guesses = itertools.permutations(text, 5)\n",
    "with open(r'f:\\temp\\五言诗库.txt','r',encoding='utf-8') as fh:\n",
    "    txt=fh.read()\n",
    "    poems = re.split('，|。',txt.replace('\\n',''))\n",
    "\n",
    "guess=input('输入一句诗：')\n",
    "for guess in guesses:\n",
    "    if ''.join(guess) in poems:\n",
    "        print('答案是：', guess)"
   ]
  },
  {
   "cell_type": "code",
   "execution_count": 9,
   "metadata": {},
   "outputs": [
    {
     "name": "stdout",
     "output_type": "stream",
     "text": [
      "明我长相忆\n"
     ]
    }
   ],
   "source": [
    "#点字成诗\n",
    "import re\n",
    "def findPoem():\n",
    "    characters=('我','梦','相','明','见','罗','林','长','在','忆','月','云')\n",
    "    length = len(poems)\n",
    "    i=0\n",
    "    for poem in poems:\n",
    "        same_character_number = 0\n",
    "        i=i+1\n",
    "        for ch in poem:\n",
    "            if ch in characters:\n",
    "                same_character_number=same_character_number+1\n",
    "                if same_character_number == 5:\n",
    "                    return poem\n",
    "        if i==length:\n",
    "            print('没有匹配')\n",
    "            break\n",
    "           \n",
    "        \n",
    "        \n",
    "with open(r'f:\\temp\\五言诗库.txt','r',encoding='utf-8') as f:\n",
    "    txt=f.read()\n",
    "    poems = re.split('，|。',txt.replace('\\n',''))\n",
    "print(findPoem())"
   ]
  },
  {
   "cell_type": "code",
   "execution_count": null,
   "metadata": {
    "collapsed": true
   },
   "outputs": [],
   "source": []
  },
  {
   "cell_type": "code",
   "execution_count": null,
   "metadata": {
    "collapsed": true
   },
   "outputs": [],
   "source": []
  }
 ],
 "metadata": {
  "kernelspec": {
   "display_name": "Python 3",
   "language": "python",
   "name": "python3"
  },
  "language_info": {
   "codemirror_mode": {
    "name": "ipython",
    "version": 3
   },
   "file_extension": ".py",
   "mimetype": "text/x-python",
   "name": "python",
   "nbconvert_exporter": "python",
   "pygments_lexer": "ipython3",
   "version": "3.6.2"
  }
 },
 "nbformat": 4,
 "nbformat_minor": 2
}
