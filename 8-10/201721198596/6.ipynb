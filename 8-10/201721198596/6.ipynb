{
 "cells": [
  {
   "cell_type": "code",
   "execution_count": 1,
   "metadata": {},
   "outputs": [
    {
     "name": "stdout",
     "output_type": "stream",
     "text": [
      "请在list中输入2个数进行求和运算\n",
      "请输入第1个数，回车结束。7\n",
      "请输入第2个数，回车结束。17\n",
      "Sum of 2 numbers in list is 24.000000\n"
     ]
    }
   ],
   "source": [
    "#写函数，返回一个list中所有数字的和\n",
    "import random\n",
    "def sum_list(list):\n",
    "    total = 0\n",
    "    for x in list:\n",
    "        total  += x\n",
    "    return total\n",
    "\n",
    "random.seed(1)\n",
    "num_list = int(random.randint(0,8))\n",
    "print(\"请在list中输入%d个数进行求和运算\" %num_list)\n",
    "list=[]\n",
    "i=1\n",
    "while i <= num_list:\n",
    "    num = float(input('请输入第%d个数，回车结束。'%i))\n",
    "    list.append(num)\n",
    "    i+=1\n",
    "\n",
    "print(\"Sum of %d numbers in list is %f\" %(num_list,sum_list(list)))"
   ]
  },
  {
   "cell_type": "code",
   "execution_count": 5,
   "metadata": {},
   "outputs": [
    {
     "name": "stdout",
     "output_type": "stream",
     "text": [
      "请在list中输入7个数\n",
      "请输入第1个数，回车结束。1\n",
      "请输入第2个数，回车结束。7.2\n",
      "请输入第3个数，回车结束。1.4\n",
      "请输入第4个数，回车结束。5.9\n",
      "请输入第5个数，回车结束。17\n",
      "请输入第6个数，回车结束。8\n",
      "请输入第7个数，回车结束。9\n",
      "lst中的最小值是： 1.0\n"
     ]
    }
   ],
   "source": [
    "#写函数，返回一个list中的最小值\n",
    "import random\n",
    "def min_list(lst):\n",
    "    min_num = lst[0]\n",
    "    for i in lst:\n",
    "        if min_num > i:\n",
    "            min_num = i\n",
    "    return  min_num\n",
    "\n",
    "num_lst = int(random.randint(0,7))\n",
    "print(\"请在list中输入%d个数\" %num_lst)\n",
    "lst=[]\n",
    "i=1\n",
    "while i <= num_lst:\n",
    "    num = float(input('请输入第%d个数，回车结束。'%i))\n",
    "    lst.append(num)\n",
    "    i+=1\n",
    "\n",
    "\n",
    "print('lst中的最小值是：',min_list(lst))"
   ]
  },
  {
   "cell_type": "code",
   "execution_count": 2,
   "metadata": {},
   "outputs": [
    {
     "name": "stdout",
     "output_type": "stream",
     "text": [
      "请输入第0个元素：1\n",
      "请输入一个对象，可以是字母或数字：z\n",
      "元素z在列表中的位置是： -1\n",
      "请输入一个对象，可以是字母或数字：1\n",
      "元素1在列表中的位置是： 0\n"
     ]
    }
   ],
   "source": [
    "\n",
    "#写函数，返回某个元素/对象在一个list中的位置，如果不在，则返回-1.\n",
    "import random\n",
    "def location(x):\n",
    "    random.seed(3)\n",
    "    if x in ob_list:\n",
    "        return  ob_list.index(x)\n",
    "    else:\n",
    "        return -1\n",
    "    \n",
    "    \n",
    "list_len= int(random.randint(0,5))\n",
    "ob_list = []\n",
    "for i in range(list_len):\n",
    "    ob = input('请输入第%d个元素：'%i)\n",
    "    ob_list.append(ob)\n",
    "    i += 1\n",
    "    \n",
    "x = input('请输入一个对象，可以是字母或数字：')\n",
    "print('元素%s在列表中的位置是：'%x,location(x))\n",
    "y = input('请输入一个对象，可以是字母或数字：')\n",
    "print('元素%s在列表中的位置是：'%y,location(y))"
   ]
  },
  {
   "cell_type": "code",
   "execution_count": 3,
   "metadata": {},
   "outputs": [
    {
     "name": "stdout",
     "output_type": "stream",
     "text": [
      "result is  0.9258200997725514\n",
      "result is  0.6507913734559685\n"
     ]
    }
   ],
   "source": [
    "import math\n",
    "def cosVector(x,y):\n",
    "    if(len(x)!=len(y)):\n",
    "        print('error input,x and y is not in the same space')\n",
    "        return;\n",
    "    result1=0.0;\n",
    "    result2=0.0;\n",
    "    result3=0.0;\n",
    "    for i in range(len(x)):\n",
    "        result1+=x[i]*y[i]   #sum(X*Y)\n",
    "        result2+=x[i]**2     #sum(X*X)\n",
    "        result3+=y[i]**2     #sum(Y*Y)\n",
    "    print(\"result is \",float(result1/(math.sqrt(result2*result3)))) \n",
    "\n",
    "cosVector([1,1,1],[1,2,3])\n",
    "cosVector([2,1],[1,4])\n"
   ]
  },
  {
   "cell_type": "code",
   "execution_count": 4,
   "metadata": {
    "scrolled": false
   },
   "outputs": [
    {
     "name": "stdout",
     "output_type": "stream",
     "text": [
      "一共有3741种分开的方法\n"
     ]
    }
   ],
   "source": [
    "#挑战性习题：python语言老师为了激励学生学python，自费买了100个完全相同的Macbook Pro，分给三个班级，每个班级至少分5个，\n",
    "#用穷举法计算共有多少种分法？\n",
    "\n",
    "method=0\n",
    "for i in range(86):\n",
    "    for j in range(86-i): \n",
    "        method+=1\n",
    "print(\"一共有%d种分开的方法\" %method)"
   ]
  },
  {
   "cell_type": "code",
   "execution_count": null,
   "metadata": {
    "collapsed": true
   },
   "outputs": [],
   "source": []
  }
 ],
 "metadata": {
  "kernelspec": {
   "display_name": "Python 3",
   "language": "python",
   "name": "python3"
  },
  "language_info": {
   "codemirror_mode": {
    "name": "ipython",
    "version": 3
   },
   "file_extension": ".py",
   "mimetype": "text/x-python",
   "name": "python",
   "nbconvert_exporter": "python",
   "pygments_lexer": "ipython3",
   "version": "3.6.2"
  }
 },
 "nbformat": 4,
 "nbformat_minor": 2
}
