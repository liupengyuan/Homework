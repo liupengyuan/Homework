{
 "cells": [
  {
   "cell_type": "code",
   "execution_count": 1,
   "metadata": {
    "collapsed": true
   },
   "outputs": [],
   "source": [
    "#2.8 练习一: 仿照任务2完整代码，打印n!。"
   ]
  },
  {
   "cell_type": "code",
   "execution_count": 4,
   "metadata": {},
   "outputs": [
    {
     "name": "stdout",
     "output_type": "stream",
     "text": [
      "Please Enter The Number:125\n",
      "n!= 188267717688892609974376770249160085759540364871492425887598231508353156331613598866882932889495923133646405445930057740630161919341380597818883457558547055524326375565007131770880000000000000000000000000000000\n"
     ]
    }
   ],
   "source": [
    "n = int(input('Please Enter The Number:'))\n",
    "\n",
    "multi = 1\n",
    "i = 1\n",
    "\n",
    "while i<=n:\n",
    "    multi = multi*i\n",
    "    i+=1\n",
    "print('n!=',multi)\n"
   ]
  },
  {
   "cell_type": "code",
   "execution_count": null,
   "metadata": {
    "collapsed": true
   },
   "outputs": [],
   "source": [
    "#实践1：键入如下代码并观察执行结果。"
   ]
  },
  {
   "cell_type": "code",
   "execution_count": 5,
   "metadata": {
    "scrolled": true
   },
   "outputs": [
    {
     "name": "stdout",
     "output_type": "stream",
     "text": [
      "请输入你的姓名，以回车结束。刘晓\n",
      "你好! 刘晓\n",
      "请输入一个正整数，以回车结束。12\n",
      "请输入一个正整数，以回车结束。15\n",
      "两个数的和是： 27\n",
      "再见！ 刘晓\n"
     ]
    }
   ],
   "source": [
    "name = input('请输入你的姓名，以回车结束。')\n",
    "print('你好!', name)\n",
    "\n",
    "n = int(input('请输入一个正整数，以回车结束。'))\n",
    "m = int(input('请输入一个正整数，以回车结束。'))\n",
    "\n",
    "print('两个数的和是：', m+n)\n",
    "print('再见！', name)\n"
   ]
  },
  {
   "cell_type": "code",
   "execution_count": null,
   "metadata": {
    "collapsed": true
   },
   "outputs": [],
   "source": [
    "# 练习2：仿照实践1，写出由用户指定整数个数，并由用户输入多个整数，并求和的代码。"
   ]
  },
  {
   "cell_type": "code",
   "execution_count": 4,
   "metadata": {},
   "outputs": [
    {
     "name": "stdout",
     "output_type": "stream",
     "text": [
      "请输入整数个数：5\n",
      "请输入一个整数：7\n",
      "请输入一个整数：17\n",
      "请输入一个整数：27\n",
      "请输入一个整数：37\n",
      "请输入一个整数：47\n",
      "5 个整数之和是： 135\n"
     ]
    }
   ],
   "source": [
    "n = int(input('请输入整数个数：'))\n",
    "\n",
    "total = 0\n",
    "i= 0\n",
    "\n",
    "while i<n:\n",
    "    m = int(input('请输入一个整数：'))\n",
    "    total += m\n",
    "    i+=1\n",
    "print(n,'个整数之和是：',total)\n"
   ]
  },
  {
   "cell_type": "code",
   "execution_count": 8,
   "metadata": {
    "collapsed": true
   },
   "outputs": [],
   "source": [
    "# 练习3：用户可以输入的任意多个数字，直到用户不想输入为止。"
   ]
  },
  {
   "cell_type": "code",
   "execution_count": 1,
   "metadata": {
    "scrolled": false
   },
   "outputs": [
    {
     "name": "stdout",
     "output_type": "stream",
     "text": [
      "请输入一个整数,以#退出：8\n",
      "请输入一个整数,以#退出：17\n",
      "请输入一个整数,以#退出：27\n",
      "请输入一个整数,以#退出：29\n",
      "请输入一个整数,以#退出：37\n",
      "请输入一个整数,以#退出：17\n",
      "请输入一个整数,以#退出：#\n"
     ]
    }
   ],
   "source": [
    "\n",
    "while (True):\n",
    "    num = input('请输入一个整数,以#退出：')\n",
    "    if num == '#':\n",
    "        break\n"
   ]
  },
  {
   "cell_type": "code",
   "execution_count": 3,
   "metadata": {
    "collapsed": true
   },
   "outputs": [],
   "source": [
    "#练习4：用户可以输入的任意多个数字，直到输入所有数字的和比当前输入数字小，且输入所有数字的积比当前输入数字的平方大。"
   ]
  },
  {
   "cell_type": "code",
   "execution_count": 3,
   "metadata": {},
   "outputs": [
    {
     "name": "stdout",
     "output_type": "stream",
     "text": [
      "用户可以输入的任意多个数字，直到输入所有数字的和比当前输入数字小，且输入所有数字的积比当前输入数字的平方大。\n",
      "请输入一个整数：5\n",
      "请输入一个整数：15\n",
      "请输入一个整数：25\n",
      "请输入一个整数：50\n",
      "请输入一个整数：100\n",
      "满足条件，退出！\n",
      "total= 95\n",
      "multi= 93750\n"
     ]
    }
   ],
   "source": [
    "print('用户可以输入的任意多个数字，直到输入所有数字的和比当前输入数字小，且输入所有数字的积比当前输入数字的平方大。')\n",
    "\n",
    "num = int(input('请输入一个整数：'))\n",
    "\n",
    "total = 0\n",
    "multi = 1\n",
    "\n",
    "\n",
    "while(True):\n",
    "    total = total + num\n",
    "    multi = multi * num\n",
    "    num = int(input('请输入一个整数：'))\n",
    "    if(total<num) and (multi>num**2):\n",
    "        print('满足条件，退出！')\n",
    "        break\n",
    "        \n",
    "print('total=',total)\n",
    "print('multi=',multi)\n"
   ]
  },
  {
   "cell_type": "code",
   "execution_count": null,
   "metadata": {
    "collapsed": true
   },
   "outputs": [],
   "source": []
  }
 ],
 "metadata": {
  "kernelspec": {
   "display_name": "Python 3",
   "language": "python",
   "name": "python3"
  },
  "language_info": {
   "codemirror_mode": {
    "name": "ipython",
    "version": 3
   },
   "file_extension": ".py",
   "mimetype": "text/x-python",
   "name": "python",
   "nbconvert_exporter": "python",
   "pygments_lexer": "ipython3",
   "version": "3.6.2"
  }
 },
 "nbformat": 4,
 "nbformat_minor": 2
}
