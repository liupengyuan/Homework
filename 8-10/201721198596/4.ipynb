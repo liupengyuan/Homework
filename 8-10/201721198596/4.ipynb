{
 "cells": [
  {
   "cell_type": "markdown",
   "metadata": {},
   "source": [
    "4.6 实践与练习  \n",
    "\n",
    "练习 1：仿照求的完整代码，写程序，可求m!+n!+k!"
   ]
  },
  {
   "cell_type": "code",
   "execution_count": 1,
   "metadata": {},
   "outputs": [
    {
     "name": "stdout",
     "output_type": "stream",
     "text": [
      "请输入一个整数：7\n",
      "请输入一个整数：17\n",
      "请输入一个整数：27\n",
      "m!+n!+k! =  403291461126626558373888720\n"
     ]
    }
   ],
   "source": [
    "\n",
    "def factorial(end):\n",
    "    \"求阶乘\"\n",
    "    i = 1\n",
    "    product = 1\n",
    "    \n",
    "    while i < end:\n",
    "        product *= i\n",
    "        i += 1\n",
    "        \n",
    "    return product\n",
    "\n",
    "m = int(input('请输入一个整数：'))\n",
    "n = int(input(\"请输入一个整数：\"))\n",
    "k = int(input('请输入一个整数：'))\n",
    "\n",
    "print(\"m!+n!+k! = \",factorial(m) + factorial(n) + factorial(k))"
   ]
  },
  {
   "cell_type": "markdown",
   "metadata": {},
   "source": [
    "练习 2：写函数可返回1 - 1/3 + 1/5 - 1/7...的前n项的和。在主程序中，分别令n=1000及100000，打印4倍该函数的和。"
   ]
  },
  {
   "cell_type": "code",
   "execution_count": 1,
   "metadata": {},
   "outputs": [
    {
     "name": "stdout",
     "output_type": "stream",
     "text": [
      "3.140592653839794\n",
      "3.1415826535897198\n"
     ]
    }
   ],
   "source": [
    "\n",
    "def my_sum(end):\n",
    "    total_n = 0\n",
    "    for i in range(1,int(end+1)):\n",
    "        total_n = total_n + (-1)**(i-1) * (1/(2*i-1))\n",
    "    return total_n\n",
    "\n",
    "print(4*my_sum(1000))\n",
    "print(4*my_sum(100000))"
   ]
  },
  {
   "cell_type": "markdown",
   "metadata": {},
   "source": [
    "练习 3：将task3中的练习1及练习4改写为函数，并进行调用。"
   ]
  },
  {
   "cell_type": "code",
   "execution_count": 2,
   "metadata": {},
   "outputs": [
    {
     "name": "stdout",
     "output_type": "stream",
     "text": [
      "请输入您的姓名：aurora\n",
      "请输入您的出生月份：12\n",
      "请输入您的出生日期：15\n",
      "('aurora', '你是非常有性格的射手座！')\n"
     ]
    }
   ],
   "source": [
    "\n",
    "def constellation(name,birth_mon,birth_day):\n",
    "    if birth_mon == '1' or birth_mon == '一':\n",
    "        if 1 <= birth_day <= 20:\n",
    "            return name,'你是非常有性格的摩羯座！'\n",
    "        elif 21 <= birth_day <= 31:\n",
    "            return name,'你是非常有性格的水瓶座！'\n",
    "        \n",
    "    elif birth_mon == '2' or birth_mon == '二':\n",
    "        if 1 <= birth_day <= 19:\n",
    "            return name,'你是非常有性格的水瓶座！'\n",
    "        elif 20 <= birth_day <= 29:\n",
    "            return name,'你是非常有性格的双鱼座！'\n",
    "    \n",
    "    elif birth_mon == '3' or birth_mon == '三':\n",
    "        if 1 <= birth_day <= 20:\n",
    "            return name,'你是非常有性格的双鱼座！'\n",
    "        elif 21 <= birth_day <= 31:\n",
    "            return name,'你是非常有性格的白羊座！'       \n",
    "\n",
    "    elif birth_mon == '4' or birth_mon == '四':\n",
    "        if 1 <= birth_day <= 20:\n",
    "            return name,'你是非常有性格的白羊座！'\n",
    "        elif 21 <= birth_day <= 30:\n",
    "            return name,'你是非常有性格的金牛座！'    \n",
    "\n",
    "    elif birth_mon == '5' or birth_mon == '五':\n",
    "        if 1 <= birth_day <= 21:\n",
    "            return name,'你是非常有性格的金牛座！'\n",
    "        elif 22 <= birth_day <= 31:\n",
    "            return name,'你是非常有性格的双子座！'       \n",
    "\n",
    "    elif birth_mon == '6' or birth_mon == '六':\n",
    "        if 1 <= birth_day <= 21:\n",
    "            return name,'你是非常有性格的双子座！'\n",
    "        elif 22 <= birth_day <= 30:\n",
    "            return name,'你是非常有性格的巨蟹座！'  \n",
    "        \n",
    "    elif birth_mon == '7' or birth_mon == '七':\n",
    "        if 1 <= birth_day <= 22:\n",
    "            return name,'你是非常有性格的巨蟹座！'\n",
    "        elif 23 <= birth_day <= 31:\n",
    "            return name,'你是非常有性格的狮子座！'     \n",
    "        \n",
    "    elif birth_mon == '8' or birth_mon == '八':\n",
    "        if 1 <= birth_day <= 23:\n",
    "            return name,'你是非常有性格的狮子座！'\n",
    "        elif 24 <= birth_day <= 31:\n",
    "            return name,'你是非常有性格的处女座！'    \n",
    "        \n",
    "    elif birth_mon == '9' or birth_mon == '九':\n",
    "        if 1 <= birth_day <= 23:\n",
    "            return name,'你是非常有性格的处女座！'\n",
    "        elif 24 <= birth_day <= 30:\n",
    "            return name,'你是非常有性格的天秤座！'    \n",
    "        \n",
    "    elif birth_mon == '10' or birth_mon == '十':\n",
    "        if 1 <= birth_day <= 23:\n",
    "            return name,'你是非常有性格的天秤座！'\n",
    "        elif 24 <= birth_day <= 31:\n",
    "            return name,'你是非常有性格的天蝎座！'   \n",
    "        \n",
    "    elif birth_mon == '11' or birth_mon == '十一':\n",
    "        if 1 <= birth_day <= 22:\n",
    "            return name,'你是非常有性格的天蝎座！'\n",
    "        elif 23 <= birth_day <= 30:\n",
    "            return name,'你是非常有性格的射手座！'\n",
    "        \n",
    "    elif birth_mon == '12' or birth_mon == '十二':\n",
    "        if 1 <= birth_day <= 21:\n",
    "            return name,'你是非常有性格的射手座！'\n",
    "        elif 22 <= birth_day <= 31:\n",
    "            return name,',你是非常有性格的摩羯座！'\n",
    "            \n",
    "            \n",
    "uname = input('请输入您的姓名：')\n",
    "mon = input('请输入您的出生月份：')\n",
    "day = int(input('请输入您的出生日期：'))\n",
    "print(constellation(uname,mon,day))"
   ]
  },
  {
   "cell_type": "code",
   "execution_count": 14,
   "metadata": {},
   "outputs": [
    {
     "name": "stdout",
     "output_type": "stream",
     "text": [
      "请输入一个英文单词(单数形式)：fish\n",
      "('fish', '的复数形式是：', 'fishes')\n"
     ]
    }
   ],
   "source": [
    "#task3练习4\n",
    "\n",
    "def word_convert(word):\n",
    "    if word ==\"potato\" or word ==\"tomato\":\n",
    "        return word,\"的复数形式是：\",word + 's'\n",
    "    elif word.endswith('s') or word.endswith('o') or word.endswith('x') or word.endswith('ch') or word.endswith('sh'):\n",
    "        return word,\"的复数形式是：\",word + 'es'\n",
    "    elif word.endswith('y'):\n",
    "        return word,\"的复数形式是：\",word[:-1] + 'ies'\n",
    "    elif word.endswith('f'):\n",
    "        return word,\"的复数形式是：\",word[:-1] + 'ves'\n",
    "    elif word.endswith('fe'):\n",
    "        return word,\"的复数形式是：\",word[:-2] + 'ves'\n",
    "    elif word.endswith('an'):  \n",
    "        return word,\"的复数形式是：\",word[:-2] + 'en'\n",
    "    else:\n",
    "        return word,\"的复数形式是：\",word[:-2] + 's'\n",
    "    \n",
    "w = input('请输入一个英文单词(单数形式)：')\n",
    "print(word_convert(w))"
   ]
  },
  {
   "cell_type": "markdown",
   "metadata": {},
   "source": [
    "挑战性练习：写程序，可以求从整数m到整数n累加的和，间隔为k，求和部分需用函数实现，主程序中由用户输入m，n，k调用函数验证正确性。"
   ]
  },
  {
   "cell_type": "code",
   "execution_count": 1,
   "metadata": {},
   "outputs": [
    {
     "name": "stdout",
     "output_type": "stream",
     "text": [
      "请输入一个下限数，以空格隔开：7\n",
      "请输入一个上限数，以空格隔开：17\n",
      "请输入一个间隔数，以空格隔开：3\n",
      "整数m到整数n累加的和为： 46\n"
     ]
    }
   ],
   "source": [
    "\n",
    "def sum(m,n,k):\n",
    "    total_k = 0\n",
    "    if m<=n:\n",
    "        for i in range(m,n,k):\n",
    "            total_k += i\n",
    "    else:\n",
    "        m = int(input(\"请重新输入一个下限数，以空格隔开：\"))\n",
    "        n = int(input(\"请重新输入一个上限数，以空格隔开：\"))\n",
    "    return total_k\n",
    "\n",
    "fir = int(input(\"请输入一个下限数，以空格隔开：\"))\n",
    "sec = int(input(\"请输入一个上限数，以空格隔开：\"))\n",
    "thi = int(input(\"请输入一个间隔数，以空格隔开：\"))\n",
    "\n",
    "print('整数m到整数n累加的和为：',sum(fir,sec,thi))"
   ]
  },
  {
   "cell_type": "code",
   "execution_count": null,
   "metadata": {
    "collapsed": true
   },
   "outputs": [],
   "source": []
  }
 ],
 "metadata": {
  "kernelspec": {
   "display_name": "Python 3",
   "language": "python",
   "name": "python3"
  },
  "language_info": {
   "codemirror_mode": {
    "name": "ipython",
    "version": 3
   },
   "file_extension": ".py",
   "mimetype": "text/x-python",
   "name": "python",
   "nbconvert_exporter": "python",
   "pygments_lexer": "ipython3",
   "version": "3.6.2"
  }
 },
 "nbformat": 4,
 "nbformat_minor": 2
}
