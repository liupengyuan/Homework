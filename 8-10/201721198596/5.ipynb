{
 "cells": [
  {
   "cell_type": "markdown",
   "metadata": {},
   "source": [
    "练习 1：写函数，求n个随机整数均值的平方根，整数范围在m与k之间（n,m,k由用户输入）。\n"
   ]
  },
  {
   "cell_type": "code",
   "execution_count": 1,
   "metadata": {},
   "outputs": [
    {
     "name": "stdout",
     "output_type": "stream",
     "text": [
      "请输入整数个数：7\n",
      "请输入整数范围的下限：17\n",
      "请输入整数范围的上限：107\n",
      "sqr =  7.221001117771492\n"
     ]
    }
   ],
   "source": [
    "\n",
    "import math\n",
    "import random\n",
    "\n",
    "def mysqr(n,m,k):\n",
    "    total = 0\n",
    "    i = 0\n",
    "    while i<n:\n",
    "        num = random.randint(m,k)\n",
    "        total += num\n",
    "        i += 1\n",
    "    return math.sqrt(total/n)\n",
    "\n",
    "n_n = int(input('请输入整数个数：'))\n",
    "m_m = int(input('请输入整数范围的下限：'))\n",
    "k_k = int(input('请输入整数范围的上限：'))\n",
    "print('sqr = ',mysqr(n_n,m_m,k_k))"
   ]
  },
  {
   "cell_type": "markdown",
   "metadata": {},
   "source": [
    "练习 2：写函数，共n个随机整数，整数范围在m与k之间，（n,m,k由用户输入）。求1：西格玛log(随机整数)，2：西格玛1/log(随机整数)"
   ]
  },
  {
   "cell_type": "code",
   "execution_count": 1,
   "metadata": {},
   "outputs": [
    {
     "name": "stdout",
     "output_type": "stream",
     "text": [
      "请输入一个整数：7\n",
      "请输入一个整数：5\n",
      "请输入一个整数：207\n",
      "(20.90061912229366, 1.328176701150553)\n"
     ]
    }
   ],
   "source": [
    "import random\n",
    "import numpy\n",
    "import math\n",
    "\n",
    "def sigm(a,b,c):\n",
    "    total1 = 0\n",
    "    total2 = 0\n",
    "    i = 0\n",
    "    while i < b:\n",
    "        i += 1\n",
    "        num = random.randint(a,c)\n",
    "        total1 += math.log(num)\n",
    "        total2 += 1/math.log(num)\n",
    "    return total1,total2\n",
    "\n",
    "\n",
    "m = int(input('请输入一个整数：'))\n",
    "n = int(input('请输入一个整数：'))\n",
    "k = int(input('请输入一个整数：'))\n",
    "print(sigm(m,n,k))\n",
    "    "
   ]
  },
  {
   "cell_type": "code",
   "execution_count": null,
   "metadata": {
    "collapsed": true
   },
   "outputs": [],
   "source": []
  }
 ],
 "metadata": {
  "kernelspec": {
   "display_name": "Python 3",
   "language": "python",
   "name": "python3"
  },
  "language_info": {
   "codemirror_mode": {
    "name": "ipython",
    "version": 3
   },
   "file_extension": ".py",
   "mimetype": "text/x-python",
   "name": "python",
   "nbconvert_exporter": "python",
   "pygments_lexer": "ipython3",
   "version": "3.6.2"
  }
 },
 "nbformat": 4,
 "nbformat_minor": 2
}
