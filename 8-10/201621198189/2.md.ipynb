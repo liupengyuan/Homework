{
 "cells": [
  {
   "cell_type": "code",
   "execution_count": 3,
   "metadata": {},
   "outputs": [
    {
     "name": "stdout",
     "output_type": "stream",
     "text": [
      "请输入一个正整数:10\n",
      "3628800\n"
     ]
    }
   ],
   "source": [
    "#练习1\n",
    "n=int(input('请输入一个正整数:'))\n",
    "\n",
    "i=0\n",
    "z=1\n",
    "\n",
    "while i < n:\n",
    "    i=i+1\n",
    "    z=z*i\n",
    "\n",
    "print(z)\n"
   ]
  },
  {
   "cell_type": "code",
   "execution_count": 5,
   "metadata": {},
   "outputs": [
    {
     "name": "stdout",
     "output_type": "stream",
     "text": [
      "相加正整数的个数是：3\n",
      "正整数7\n",
      "正整数7\n",
      "正整数4\n",
      "18\n"
     ]
    }
   ],
   "source": [
    "#练习2\n",
    "n=int(input('相加正整数的个数是：'))\n",
    "i=0\n",
    "total=0\n",
    "while i<n:\n",
    "    i=i+1\n",
    "    m=int(input('正整数'))\n",
    "    total=total+m\n",
    "\n",
    "print(total)"
   ]
  },
  {
   "cell_type": "code",
   "execution_count": 6,
   "metadata": {},
   "outputs": [
    {
     "name": "stdout",
     "output_type": "stream",
     "text": [
      "输入正整数，结束输入则键入a：3\n",
      "输入正整数，结束输入则键入a：5\n",
      "输入正整数，结束输入则键入a：1\n",
      "输入正整数，结束输入则键入a：6\n",
      "输入正整数，结束输入则键入a：3\n",
      "输入正整数，结束输入则键入a：45\n",
      "输入正整数，结束输入则键入a：a\n"
     ]
    }
   ],
   "source": [
    "#练习3\n",
    "n=int(input('输入正整数，结束输入则键入a：'))\n",
    "\n",
    "if n!='a':\n",
    "    while n!='a':\n",
    "        n=(input('输入正整数，结束输入则键入a：'))\n",
    "        \n",
    "else:\n",
    "    print('结束输入')"
   ]
  },
  {
   "cell_type": "code",
   "execution_count": 10,
   "metadata": {},
   "outputs": [
    {
     "name": "stdout",
     "output_type": "stream",
     "text": [
      "输入正整数34\n",
      "输入正整数2\n",
      "输入正整数45\n",
      "输入正整数1000\n",
      "输入所有数字之和为81\n",
      "输入所有数字之积为3060\n",
      "输入所有数字的和比当前输入数字小，且输入所有数字的积大于500,结束输入\n"
     ]
    }
   ],
   "source": [
    "#练习4\n",
    "n=int(input('输入正整数'))\n",
    "total=0\n",
    "m=1\n",
    "while total>=n or m<=500:\n",
    "    total=total+n\n",
    "    m=m*n\n",
    "    n=int(input('输入正整数'))\n",
    "print('输入所有数字之和为',total,sep='')\n",
    "print('输入所有数字之积为',m,sep='')\n",
    "print('输入所有数字的和比当前输入数字小，且输入所有数字的积大于500,结束输入')"
   ]
  }
 ],
 "metadata": {
  "kernelspec": {
   "display_name": "Python 3",
   "language": "python",
   "name": "python3"
  },
  "language_info": {
   "codemirror_mode": {
    "name": "ipython",
    "version": 3
   },
   "file_extension": ".py",
   "mimetype": "text/x-python",
   "name": "python",
   "nbconvert_exporter": "python",
   "pygments_lexer": "ipython3",
   "version": "3.6.2"
  }
 },
 "nbformat": 4,
 "nbformat_minor": 2
}
