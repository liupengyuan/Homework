{
 "cells": [
  {
   "cell_type": "code",
   "execution_count": 1,
   "metadata": {},
   "outputs": [
    {
     "name": "stdout",
     "output_type": "stream",
     "text": [
      "请输入随机整数的下界：10\n",
      "请输入随机整数的上届：100\n",
      "请输入自动生成随机整数的个数：3\n",
      "100\n",
      "14\n",
      "30\n",
      "6.928203230275509\n"
     ]
    }
   ],
   "source": [
    "#练习1\n",
    "import random,math;\n",
    "\n",
    "def average_squaroot(m,k,n):\n",
    "\n",
    "    i=0\n",
    "    z=0\n",
    "    while i<n:\n",
    "        j=random.randint(m,k)\n",
    "        z=z+j\n",
    "        i=i+1\n",
    "        print(j)\n",
    "    t=z/n\n",
    "    return math.sqrt(t)\n",
    "\n",
    "m=int(input('请输入随机整数的下界：'))\n",
    "k=int(input('请输入随机整数的上届：'))\n",
    "n=int(input('请输入自动生成随机整数的个数：'))\n",
    "\n",
    "print(average_squaroot(m,k,n))"
   ]
  },
  {
   "cell_type": "code",
   "execution_count": 2,
   "metadata": {},
   "outputs": [
    {
     "name": "stdout",
     "output_type": "stream",
     "text": [
      "请输入随机整数的下界：10\n",
      "请输入随机整数的上届：100\n",
      "请输入自动生成随机整数的个数：3\n",
      "36\n",
      "45\n",
      "97\n",
      "11.964892406729813\n"
     ]
    }
   ],
   "source": [
    "#练习2\n",
    "import random,math;\n",
    "\n",
    "def sum_sigma(m,k,n):\n",
    "    i=0\n",
    "    z=0\n",
    "    while i<n:\n",
    "        j=random.randint(m,k)\n",
    "        print(j)\n",
    "        z=math.log(j)+z\n",
    "        i=i+1\n",
    "    return z\n",
    "\n",
    "m=int(input('请输入随机整数的下界：'))\n",
    "k=int(input('请输入随机整数的上届：'))\n",
    "n=int(input('请输入自动生成随机整数的个数：'))\n",
    "\n",
    "print(sum_sigma(m,k,n))"
   ]
  },
  {
   "cell_type": "code",
   "execution_count": 3,
   "metadata": {},
   "outputs": [
    {
     "name": "stdout",
     "output_type": "stream",
     "text": [
      "请输入随机整数的下界：10\n",
      "请输入随机整数的上届：100\n",
      "请输入自动生成随机整数的个数：3\n",
      "11\n",
      "42\n",
      "13\n",
      "1.0744500230945804\n"
     ]
    }
   ],
   "source": [
    "#练习2\n",
    "import random,math;\n",
    "\n",
    "def sum_sigmar(m,k,n):\n",
    "\n",
    "    i=0\n",
    "    z=0\n",
    "    while i<n:\n",
    "        j=random.randint(m,k)\n",
    "        print(j)\n",
    "        z=1/math.log(j)+z\n",
    "        i=i+1\n",
    "    return z\n",
    "m=int(input('请输入随机整数的下界：'))\n",
    "k=int(input('请输入随机整数的上届：'))\n",
    "n=int(input('请输入自动生成随机整数的个数：'))\n",
    "\n",
    "print(sum_sigmar(m,k,n))"
   ]
  },
  {
   "cell_type": "code",
   "execution_count": null,
   "metadata": {
    "collapsed": true
   },
   "outputs": [],
   "source": []
  }
 ],
 "metadata": {
  "kernelspec": {
   "display_name": "Python 3",
   "language": "python",
   "name": "python3"
  },
  "language_info": {
   "codemirror_mode": {
    "name": "ipython",
    "version": 3
   },
   "file_extension": ".py",
   "mimetype": "text/x-python",
   "name": "python",
   "nbconvert_exporter": "python",
   "pygments_lexer": "ipython3",
   "version": "3.6.2"
  }
 },
 "nbformat": 4,
 "nbformat_minor": 2
}
