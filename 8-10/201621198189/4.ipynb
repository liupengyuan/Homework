{
 "cells": [
  {
   "cell_type": "code",
   "execution_count": 2,
   "metadata": {},
   "outputs": [
    {
     "name": "stdout",
     "output_type": "stream",
     "text": [
      "阶乘到n：4\n",
      "阶乘到m：5\n",
      "阶乘到k：7\n",
      "三次阶乘的和是： 5184\n"
     ]
    }
   ],
   "source": [
    "#练习1\n",
    "def factorial(n):\n",
    "    i=1\n",
    "    z=1\n",
    "    while i<n:\n",
    "\n",
    "        i=i+1\n",
    "        z=z*i\n",
    "    return z\n",
    "n=int(input('阶乘到n：'))\n",
    "m=int(input('阶乘到m：'))\n",
    "k=int(input('阶乘到k：'))\n",
    "print('三次阶乘的和是：',factorial(n)+factorial(m)+factorial(k))"
   ]
  },
  {
   "cell_type": "code",
   "execution_count": 3,
   "metadata": {},
   "outputs": [
    {
     "name": "stdout",
     "output_type": "stream",
     "text": [
      "3142.1629501667126\n",
      "31416.497282227137\n"
     ]
    }
   ],
   "source": [
    "#练习2\n",
    "def item(n):\n",
    "    if n%2 is 0 :\n",
    "        i=0-1/(2*n-1)\n",
    "    else:\n",
    "        i=1/(2*n-1)\n",
    "    return i\n",
    "def arctan(n):\n",
    "    i=0\n",
    "    z=0\n",
    "    while i<n:\n",
    "        i=i+1\n",
    "        z=z+item(i)\n",
    "    return z\n",
    "\n",
    "def total_arctan(n):\n",
    "    i=0\n",
    "    total=0\n",
    "    while i<n:\n",
    "        i=i+1\n",
    "        total=total+arctan(i)\n",
    "    return (total)\n",
    "\n",
    "print(total_arctan(1000)*4)\n",
    "print(total_arctan(10000)*4)"
   ]
  },
  {
   "cell_type": "code",
   "execution_count": 4,
   "metadata": {},
   "outputs": [
    {
     "name": "stdout",
     "output_type": "stream",
     "text": [
      "请输入您的名字：Lillian\n",
      "请输入您的生日，如6月23日则输入6.23。6.13\n",
      "('Lillian', '你是性格非常好的双子座！')\n"
     ]
    }
   ],
   "source": [
    "#练习3\n",
    "def constellation(m,n):\n",
    "    if n>=1.20 and n<2.19:\n",
    "        return(m,'你是性格非常好的水瓶座！')\n",
    "    elif n>=2.19 and n<3.21:\n",
    "        return(m,'你是性格非常好的双鱼座！')\n",
    "    elif n>=3.21 and n<4.20:\n",
    "        return(m,'你是性格非常好的白羊座！')\n",
    "    elif n>=4.20 and n<5.21:\n",
    "        return(m,'你是性格非常好的金牛座！')\n",
    "    elif n>=5.21 and n<6.22:\n",
    "        return(m,'你是性格非常好的双子座！')\n",
    "    elif n>=6.22 and n<7.23:\n",
    "        return(m,'你是性格非常好的巨蟹座！')\n",
    "    elif n>=7.23 and n<8.23:\n",
    "        return(m,'你是性格非常好的狮子座！')\n",
    "    elif n>=8.23 and n<9.23:\n",
    "        return(m,'你是性格非常好的处女座！')\n",
    "    elif n>=9.23 and n<10.24:\n",
    "        return(m,'你是性格非常好的天秤座！')\n",
    "    elif n>=10.24 and n<11.23:\n",
    "        return(m,'你是性格非常好的天蝎座！')\n",
    "    elif n>=11.23 and n<12.22:\n",
    "        return(m,'你是性格非常好的射手座！')\n",
    "    else:\n",
    "        return(m,'你是性格非常好的摩羯座！')\n",
    "m=input('请输入您的名字：')\n",
    "n=float(input('请输入您的生日，如6月23日则输入6.23。'))\n",
    "print(constellation(m,n))"
   ]
  },
  {
   "cell_type": "code",
   "execution_count": 5,
   "metadata": {},
   "outputs": [
    {
     "name": "stdout",
     "output_type": "stream",
     "text": [
      "请输入一个英文名词：box\n",
      "此单词的复数形式是：boxes\n"
     ]
    }
   ],
   "source": [
    "#练习3\n",
    "def pluralform(i):\n",
    "    if i in {'sheep','fish','police','cattle','deer','people'}:\n",
    "        print('此单词的复数形式是：',i,sep='')\n",
    "    \n",
    "    elif i.endswith('s') or i.endswith('ch') or i.endswith('x') or i.endswith('sh'):\n",
    "        print('此单词的复数形式是：',i,'es',sep='')\n",
    "    \n",
    "    else:\n",
    "        print('此单词的复数形式是：',i,'s',sep='')\n",
    "    \n",
    "n=input('请输入一个英文名词：')\n",
    "pluralform(n)"
   ]
  },
  {
   "cell_type": "code",
   "execution_count": 6,
   "metadata": {},
   "outputs": [
    {
     "name": "stdout",
     "output_type": "stream",
     "text": [
      "请输入一个正整数m：4\n",
      "请输入一个正整数n：100\n",
      "请输入一个正整数k：2\n",
      "2548.0\n"
     ]
    }
   ],
   "source": [
    "def total_mnk(m,n,k):\n",
    "    a=max(m,n)\n",
    "    b=min(m,n)\n",
    "    i=(a+b)*(a-b+k)/(k*2)\n",
    "    return i\n",
    "\n",
    "m=int(input('请输入一个正整数m：'))\n",
    "n=int(input('请输入一个正整数n：'))\n",
    "k=int(input('请输入一个正整数k：'))\n",
    "\n",
    "print(total_mnk(m,n,k))\n",
    "    "
   ]
  },
  {
   "cell_type": "code",
   "execution_count": null,
   "metadata": {
    "collapsed": true
   },
   "outputs": [],
   "source": []
  }
 ],
 "metadata": {
  "kernelspec": {
   "display_name": "Python 3",
   "language": "python",
   "name": "python3"
  },
  "language_info": {
   "codemirror_mode": {
    "name": "ipython",
    "version": 3
   },
   "file_extension": ".py",
   "mimetype": "text/x-python",
   "name": "python",
   "nbconvert_exporter": "python",
   "pygments_lexer": "ipython3",
   "version": "3.6.2"
  }
 },
 "nbformat": 4,
 "nbformat_minor": 2
}
