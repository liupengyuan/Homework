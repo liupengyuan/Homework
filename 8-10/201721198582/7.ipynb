{
 "cells": [
  {
   "cell_type": "code",
   "execution_count": 3,
   "metadata": {},
   "outputs": [
    {
     "name": "stdout",
     "output_type": "stream",
     "text": [
      "请输入一个字符串ab\n",
      "ba\n"
     ]
    }
   ],
   "source": [
    "#练习一：自己定义一个reverse(s)函数，功能返回字符串s的倒序字符串。\n",
    "def reverse(s):\n",
    "    a=s[::-1]\n",
    "    return a\n",
    "s=input('请输入一个字符串')\n",
    "print(reverse(s))\n",
    "\n"
   ]
  },
  {
   "cell_type": "code",
   "execution_count": 4,
   "metadata": {},
   "outputs": [
    {
     "name": "stdout",
     "output_type": "stream",
     "text": [
      "请输入整数10\n",
      "\n",
      "* \n",
      "* * \n",
      "* * * \n",
      "* * * * \n",
      "* * * * * \n",
      "* * * * * * \n",
      "* * * * * * * \n",
      "* * * * * * * * \n",
      "* * * * * * * * * \n",
      "None\n",
      "          \n",
      "         * \n",
      "        * * \n",
      "       * * * \n",
      "      * * * * \n",
      "     * * * * * \n",
      "    * * * * * * \n",
      "   * * * * * * * \n",
      "  * * * * * * * * \n",
      " * * * * * * * * * \n",
      "None\n"
     ]
    }
   ],
   "source": [
    "#练习二：写函数，根据给定符号和行数，打印相应直角三角形，等腰三角形及其他形式的三角形。\n",
    "\n",
    "def san1(a):\n",
    "    for i in range(a):\n",
    "        for k in range(a - i, a):\n",
    "            print(\"*\",end=\" \")\n",
    "        print(\"\")\n",
    "\n",
    "\n",
    "\n",
    "def san2(b):\n",
    "    for i in range(b):\n",
    "        for j in range(0, b - i):\n",
    "            print(end=\" \")\n",
    "        for k in range(b - i, b):\n",
    "            print(\"*\", end=\" \")\n",
    "\n",
    "        print(\"\")\n",
    "\n",
    "a=int(input('请输入整数'))\n",
    "\n",
    "print(san1(a))\n",
    "print(san2(a))\n",
    "\n"
   ]
  },
  {
   "cell_type": "code",
   "execution_count": 5,
   "metadata": {},
   "outputs": [
    {
     "name": "stdout",
     "output_type": "stream",
     "text": [
      "请输入整数10\n",
      "          \n",
      "         * \n",
      "        * * \n",
      "       * * * \n",
      "      * * * * \n",
      "     * * * * * \n",
      "    * * * * * * \n",
      "   * * * * * * * \n",
      "  * * * * * * * * \n",
      " * * * * * * * * * \n",
      "  * * * * * * * * \n",
      "   * * * * * * * \n",
      "    * * * * * * \n",
      "     * * * * * \n",
      "      * * * * \n",
      "       * * * \n",
      "        * * \n",
      "         * \n",
      "          \n",
      "None\n"
     ]
    }
   ],
   "source": [
    "#练习五：写函数，根据给定符号，打印各种菱形。\n",
    "\n",
    "def san(b):\n",
    "    for i in range(b):\n",
    "        for j in range(0, b - i):\n",
    "            print(end=\" \")\n",
    "        for k in range(b - i, b):\n",
    "            print(\"*\", end=\" \")\n",
    "        print(\"\")\n",
    "    for p in range(b-1):\n",
    "        for q in range(p+2):\n",
    "            print(end=\" \")\n",
    "        for o in range(b-p-2):\n",
    "            print(\"*\", end=\" \")\n",
    "\n",
    "        print(\"\")\n",
    "\n",
    "a=int(input('请输入整数'))\n",
    "print(san(a))\n"
   ]
  },
  {
   "cell_type": "code",
   "execution_count": null,
   "metadata": {
    "collapsed": true
   },
   "outputs": [],
   "source": []
  }
 ],
 "metadata": {
  "kernelspec": {
   "display_name": "Python 3",
   "language": "python",
   "name": "python3"
  },
  "language_info": {
   "codemirror_mode": {
    "name": "ipython",
    "version": 3
   },
   "file_extension": ".py",
   "mimetype": "text/x-python",
   "name": "python",
   "nbconvert_exporter": "python",
   "pygments_lexer": "ipython3",
   "version": "3.6.2"
  }
 },
 "nbformat": 4,
 "nbformat_minor": 2
}
