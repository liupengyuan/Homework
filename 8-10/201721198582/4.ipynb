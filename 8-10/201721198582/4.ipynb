{
 "cells": [
  {
   "cell_type": "code",
   "execution_count": 1,
   "metadata": {},
   "outputs": [
    {
     "name": "stdout",
     "output_type": "stream",
     "text": [
      "请输入第1个整数，以回车结束。1\n",
      "请输入第2个整数，以回车结束。2\n",
      "请输入第3个整数，以回车结束。3\n",
      "n!+m!+k!= 9\n"
     ]
    }
   ],
   "source": [
    "#练习 1：仿照求$ \\sum_{i=1}^mi + \\sum_{i=1}^ni  + \\sum_{i=1}^ki$的完整代码，写程序，可求m!+n!+k!\n",
    "def compute_sum(end):\n",
    "    i = 0\n",
    "    total_n = 1\n",
    "\n",
    "    while i < end:\n",
    "        i = i + 1\n",
    "        total_n = total_n * i\n",
    "\n",
    "    return total_n\n",
    "\n",
    "n = int(input('请输入第1个整数，以回车结束。'))\n",
    "m = int(input('请输入第2个整数，以回车结束。'))\n",
    "k = int(input('请输入第3个整数，以回车结束。'))\n",
    "\n",
    "a=compute_sum(n)\n",
    "b=compute_sum(m)\n",
    "c=compute_sum(k)\n",
    "\n",
    "print('n!+m!+k!=', a + b + c)\n"
   ]
  },
  {
   "cell_type": "code",
   "execution_count": 2,
   "metadata": {},
   "outputs": [
    {
     "name": "stdout",
     "output_type": "stream",
     "text": [
      "请输入第1个整数，以回车结束。1000\n",
      "请输入第2个整数，以回车结束。100000\n",
      "4倍该函数的和为 -0.002021000600250625\n"
     ]
    }
   ],
   "source": [
    "#练习 2：写函数可返回1 - 1/3 + 1/5 - 1/7...的前n项的和。在主程序中，分别令n=1000及100000，打印4倍该函数的和。\n",
    "def my_sum(end):\n",
    "    i=0\n",
    "    total=0\n",
    "    minus=1\n",
    "    while i<end:\n",
    "        i=i+1\n",
    "        if i%2==0:\n",
    "            mius=-1\n",
    "        else:\n",
    "            mius=1\n",
    "    i=mius*(1/(i*2-1))\n",
    "    total=total+i\n",
    "    return total\n",
    "\n",
    "p = int(input('请输入第1个整数，以回车结束。'))\n",
    "m = int(input('请输入第2个整数，以回车结束。'))\n",
    "\n",
    "a=my_sum(p)\n",
    "b=my_sum(m)\n",
    "c=a+b\n",
    "\n",
    "print('4倍该函数的和为',4*c)\n"
   ]
  },
  {
   "cell_type": "code",
   "execution_count": 4,
   "metadata": {},
   "outputs": [
    {
     "name": "stdout",
     "output_type": "stream",
     "text": [
      "请输入你的名字！徐静怡\n",
      "请输入你的生日（例如418）！1028\n",
      "徐静怡 ,你是非常有性格的 天蝎座 !\n"
     ]
    }
   ],
   "source": [
    "#练习 3：将task3中的练习1及练习4改写为函数，并进行调用。\n",
    "def con(m):\n",
    "    if m > 321 and m < 419:\n",
    "        p=('白羊座')\n",
    "\n",
    "    elif m > 420 and m < 520:\n",
    "        p=('金牛座')\n",
    "\n",
    "    elif m > 521 and m < 621:\n",
    "        p=('双子座')\n",
    "        \n",
    "    elif m > 622 and m < 722:\n",
    "        p=('巨蟹座')\n",
    "        \n",
    "    elif m > 723 and m < 822:\n",
    "        p=('狮子座')\n",
    "        \n",
    "    elif m > 823 and m < 922:\n",
    "        p=('处女座')\n",
    "        \n",
    "    elif m > 923 and m < 1023:\n",
    "        p=('天秤座')\n",
    "        \n",
    "    elif m > 1024 and m < 1122:\n",
    "        p=('天蝎座')\n",
    "        \n",
    "    elif m > 1123 and m < 1221:\n",
    "        p=('射手座')\n",
    "        \n",
    "    elif m > 1222 and m < 119:\n",
    "        p=('摩羯座')\n",
    "        \n",
    "    elif m > 120 and m < 218:\n",
    "        p=('水瓶座')\n",
    "        \n",
    "    else :\n",
    "        p=('双鱼座')\n",
    "    return p\n",
    "n=input('请输入你的名字！')\n",
    "i=int(input('请输入你的生日（例如418）！'))        \n",
    "con(i)\n",
    "    \n",
    "print(n,',你是非常有性格的',con(i),'!')\n"
   ]
  },
  {
   "cell_type": "code",
   "execution_count": 5,
   "metadata": {},
   "outputs": [
    {
     "name": "stdout",
     "output_type": "stream",
     "text": [
      "输入单词wolf\n",
      "wolves\n"
     ]
    }
   ],
   "source": [
    "#练习 3：将task3中的练习1及练习4改写为函数，并进行调用。\n",
    "def ch(char):\n",
    "        if char.endswith('s') or char.endswith('x') or char.endswith('z') or char.endswith('ch') or char.endswith('sh') or char.endswith('o'):\n",
    "            char=(char+'es')\n",
    "        elif char.endswith('f') or char.endswith('fe'):\n",
    "            if  char.endswith('fe'):\n",
    "                char=char[:-2]\n",
    "            if  char.endswith('f'):\n",
    "                char=char[:-1]\n",
    "            char=(char+'ves')\n",
    "        elif char.endswith('y'):\n",
    "            if char.endswith('ay') or char.endswith('ey') or char.endswith('iy') or char.endswith('oy') or char.endswith('uy') :\n",
    "                char=(char+'s')\n",
    "            else:\n",
    "               char=char[:-1]\n",
    "               char=(char+'ies')\n",
    "        elif char.endswith('us'):\n",
    "               char=char[:-2]\n",
    "               char=(char+'i')\n",
    "        else :\n",
    "               char=(char+'s')\n",
    "        return char\n",
    "    \n",
    "char1=input('输入单词')\n",
    "ch(char1)\n",
    "print(ch(char1))\n"
   ]
  },
  {
   "cell_type": "code",
   "execution_count": 6,
   "metadata": {},
   "outputs": [
    {
     "name": "stdout",
     "output_type": "stream",
     "text": [
      "请输入第1个整数，以回车结束。3\n",
      "请输入第2个整数(第二个整数大于第一个整数)，以回车结束。7\n",
      "请输入第3个整数（第三个整数不大于前两个整数的差），以回车结束。2\n",
      "最终的和是： 15\n"
     ]
    }
   ],
   "source": [
    "#挑战性练习：写程序，可以求从整数m到整数n累加的和，间隔为k，求和部分需用函数实现，主程序中由用户输入m，n，k调用函数验证正确性。\n",
    "def compute_sum(j,n,k):\n",
    "    i = 0\n",
    "    total = 0\n",
    "\n",
    "    while i<j:\n",
    "            \n",
    "            i=i+1\n",
    "            \n",
    "            total=total+n\n",
    "            n=n+k\n",
    "    return total\n",
    "\n",
    "n = int(input('请输入第1个整数，以回车结束。'))\n",
    "m = int(input('请输入第2个整数(第二个整数大于第一个整数)，以回车结束。'))\n",
    "k = int(input('请输入第3个整数（第三个整数不大于前两个整数的差），以回车结束。'))\n",
    "j=(m-n)/k+1\n",
    "compute_sum(j,n,k)\n",
    "\n",
    "print('最终的和是：', compute_sum(j,n,k))\n"
   ]
  }
 ],
 "metadata": {
  "kernelspec": {
   "display_name": "Python 3",
   "language": "python",
   "name": "python3"
  },
  "language_info": {
   "codemirror_mode": {
    "name": "ipython",
    "version": 3
   },
   "file_extension": ".py",
   "mimetype": "text/x-python",
   "name": "python",
   "nbconvert_exporter": "python",
   "pygments_lexer": "ipython3",
   "version": "3.6.2"
  }
 },
 "nbformat": 4,
 "nbformat_minor": 2
}
