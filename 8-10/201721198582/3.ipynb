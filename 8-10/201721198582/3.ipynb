{
 "cells": [
  {
   "cell_type": "code",
   "execution_count": 1,
   "metadata": {},
   "outputs": [
    {
     "name": "stdout",
     "output_type": "stream",
     "text": [
      "输入计算式以#结束\n",
      "输入计算符+\n",
      "输入第一个整数2\n",
      "输入第二个整数(第二个数大于第一个数)5\n",
      "14\n",
      "输入计算符*\n",
      "输入第一个整数2\n",
      "输入第二个整数(第二个数大于第一个数)5\n",
      "120\n",
      "输入计算符%\n",
      "输入第一个整数2\n",
      "输入第二个整数(第二个数大于第一个数)5\n",
      "2\n",
      "输入计算符9\n",
      "输入第一个整数2\n",
      "输入第二个整数(第二个数大于第一个数)5\n",
      "0.4\n",
      "输入计算符#\n"
     ]
    }
   ],
   "source": [
    "#练习 2：写程序，可由键盘读入两个整数m与n(n不等于0)，询问用户意图，如果要求和则计算从m到n的和输出，如果要乘积则计算从m到n的积并输出，如果要求余数则计算m除以n的余数的值并输出，否则则计算m整除n的值并输出\n",
    "print('输入计算式以#结束')\n",
    "p=input('输入计算符')\n",
    "while p!='#':\n",
    "    m=int(input('输入第一个整数'))\n",
    "    n=int(input('输入第二个整数(第二个数大于第一个数)'))\n",
    "    t=n-m+1\n",
    "    i=0\n",
    "    total=0\n",
    "    proudct=1\n",
    "    if p=='+':\n",
    "        while i<t:\n",
    "            total=total+m\n",
    "            i=i+1\n",
    "            m=m+1\n",
    "        print(total)\n",
    "    elif p=='*':\n",
    "        while i<t:\n",
    "            i=i+1\n",
    "            proudct=proudct*m\n",
    "            m=m+1\n",
    "        print(proudct)\n",
    "    elif p=='%':\n",
    "          print(m%n)\n",
    "    \n",
    "    else:\n",
    "        print(m/n)\n",
    "    p=input('输入计算符')\n",
    "   \n"
   ]
  },
  {
   "cell_type": "code",
   "execution_count": 2,
   "metadata": {},
   "outputs": [
    {
     "name": "stdout",
     "output_type": "stream",
     "text": [
      "输入单词apple\n",
      "apples\n",
      "输入单词wolf\n",
      "wolves\n",
      "输入单词#\n"
     ]
    }
   ],
   "source": [
    "#练习 4：英文单词单数转复数，要求输入一个英文动词（单数形式），能够得到其复数形式，或给出单数转复数形式的建议（提示，some_string.endswith(some_letter)函数可以判断某字符串结尾字符，可尝试运行：'myname'.endswith('me')，liupengyuan'.endswith('n')）\n",
    "char=input('输入单词')\n",
    "while char!='#':\n",
    "    if char.endswith('s') or char.endswith('x') or char.endswith('z') or char.endswith('ch') or char.endswith('sh') or char.endswith('o'):\n",
    "        print(char+'es')\n",
    "    elif char.endswith('f') or char.endswith('fe'):\n",
    "          if  char.endswith('fe'):\n",
    "               char=char[:-2]\n",
    "          if  char.endswith('f'):\n",
    "              char=char[:-1]\n",
    "          print(char+'ves')\n",
    "    elif  char.endswith('y'):\n",
    "          if char.endswith('ay') or char.endswith('ey') or char.endswith('iy') or char.endswith('oy') or char.endswith('uy') :\n",
    "              print(char+'s')\n",
    "          else:\n",
    "              char=char[:-1]\n",
    "              print(char+'ies')\n",
    "    elif char.endswith('us'):\n",
    "           char=char[:-2]\n",
    "           print(char+'i')\n",
    "    else :\n",
    "        print(char+'s')\n",
    "    char=input('输入单词')\n"
   ]
  }
 ],
 "metadata": {
  "kernelspec": {
   "display_name": "Python 3",
   "language": "python",
   "name": "python3"
  },
  "language_info": {
   "codemirror_mode": {
    "name": "ipython",
    "version": 3
   },
   "file_extension": ".py",
   "mimetype": "text/x-python",
   "name": "python",
   "nbconvert_exporter": "python",
   "pygments_lexer": "ipython3",
   "version": "3.6.2"
  }
 },
 "nbformat": 4,
 "nbformat_minor": 2
}
