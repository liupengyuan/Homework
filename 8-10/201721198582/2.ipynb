{
 "cells": [
  {
   "cell_type": "code",
   "execution_count": 1,
   "metadata": {},
   "outputs": [
    {
     "name": "stdout",
     "output_type": "stream",
     "text": [
      "请输入一个正整数，以回车结束。3\n",
      "请输入一个正整数，以回车结束。1\n",
      "请输入一个正整数，以回车结束。2\n",
      "请输入一个正整数，以回车结束。3\n",
      "6\n"
     ]
    }
   ],
   "source": [
    "#练习2：仿照实践1，写出由用户指定整数个数，并由用户输入多个整数，并求和的代码。\n",
    "n = int(input('请输入一个正整数，以回车结束。'))\n",
    "\n",
    "i = 0\n",
    "total = 0\n",
    "\n",
    "while i < n:\n",
    "    i = i + 1\n",
    "    m = int(input('请输入一个正整数，以回车结束。'))\n",
    "    total = total + m\n",
    "    \n",
    "print(total)\n"
   ]
  },
  {
   "cell_type": "code",
   "execution_count": 1,
   "metadata": {},
   "outputs": [
    {
     "name": "stdout",
     "output_type": "stream",
     "text": [
      "请输入一个正整数，以回车结束。5\n",
      "120\n"
     ]
    }
   ],
   "source": [
    "#练习1：仿照任务2完整代码，打印n!\n",
    "n = int(input('请输入一个正整数，以回车结束。'))\n",
    "\n",
    "i = 0\n",
    "total = 1\n",
    "\n",
    "while i < n:\n",
    "    i = i + 1\n",
    "    total = total * i\n",
    "    \n",
    "print(total)\n"
   ]
  },
  {
   "cell_type": "code",
   "execution_count": 3,
   "metadata": {},
   "outputs": [
    {
     "name": "stdout",
     "output_type": "stream",
     "text": [
      "输入任意数字直到#为止\n",
      "输入整数(以回车结束)2\n",
      "2\n",
      "输入整数(以回车结束)5\n",
      "5\n",
      "输入整数(以回车结束)#\n",
      "#\n"
     ]
    }
   ],
   "source": [
    "#练习3：用户可以输入的任意多个数字，直到用户不想输入为止。\n",
    "print('输入任意数字直到#为止')\n",
    "n=1\n",
    "while n!='#':\n",
    "    n = input('输入整数(以回车结束)')\n",
    "    print(n)\n"
   ]
  },
  {
   "cell_type": "code",
   "execution_count": 4,
   "metadata": {},
   "outputs": [
    {
     "name": "stdout",
     "output_type": "stream",
     "text": [
      "请输入一个正整数，以回车结束。2\n",
      "请输入一个正整数，以回车结束。5\n",
      "请输入一个正整数，以回车结束。100\n",
      "请输入一个正整数，以回车结束。500\n",
      "条件满足\n"
     ]
    }
   ],
   "source": [
    "#练习4：用户可以输入的任意多个数字，直到: 输入所有数字的和比当前输入数字小，且输入所有数字的积大于500。\n",
    "total = 0\n",
    "product=1\n",
    "while 1:\n",
    "    n = int(input('请输入一个正整数，以回车结束。'))\n",
    "    if total<n and product>500:\n",
    "        break\n",
    "    total = total + n\n",
    "    product=product * n\n",
    "print('条件满足')\n",
    "   \n"
   ]
  }
 ],
 "metadata": {
  "kernelspec": {
   "display_name": "Python 3",
   "language": "python",
   "name": "python3"
  },
  "language_info": {
   "codemirror_mode": {
    "name": "ipython",
    "version": 3
   },
   "file_extension": ".py",
   "mimetype": "text/x-python",
   "name": "python",
   "nbconvert_exporter": "python",
   "pygments_lexer": "ipython3",
   "version": "3.6.2"
  }
 },
 "nbformat": 4,
 "nbformat_minor": 2
}
