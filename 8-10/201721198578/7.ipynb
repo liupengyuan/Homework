{
 "cells": [
  {
   "cell_type": "code",
   "execution_count": 20,
   "metadata": {
    "scrolled": true
   },
   "outputs": [
    {
     "name": "stdout",
     "output_type": "stream",
     "text": [
      "input something,'exit' for quit 1\n",
      "input something,'exit' for quit 2\n",
      "input something,'exit' for quit q\n",
      "input something,'exit' for quit w\n",
      "input something,'exit' for quit exit\n",
      "12qw\n",
      "\n",
      "wq21"
     ]
    }
   ],
   "source": [
    "#练习一：自己定义一个reverse(s)函数，功能返回字符串s的倒序字符串。\n",
    "def reverseStr(string):\n",
    "    i = input('input something,\\'exit\\' for quit ')\n",
    "    while i != 'exit' :\n",
    "        string.append(i)\n",
    "        i = input('input something,\\'exit\\' for quit ')    \n",
    "    #print (string)\n",
    "    end = len(string)\n",
    "    #print (end)\n",
    "    for i in range(end):\n",
    "        print(string[i],end = '')\n",
    "    print('\\n')\n",
    "    for i in range(end):\n",
    "        print(string[end-1 - i],end = '')\n",
    "\n",
    "string = []\n",
    "reverseStr(string)"
   ]
  },
  {
   "cell_type": "code",
   "execution_count": 1,
   "metadata": {},
   "outputs": [
    {
     "name": "stdout",
     "output_type": "stream",
     "text": [
      "input a symbol : *\n",
      "input how many rows you want : 6\n",
      "*\n",
      "**\n",
      "***\n",
      "****\n",
      "*****\n",
      "******\n",
      "--------------------\n",
      "     *\n",
      "    ***\n",
      "   *****\n",
      "  *******\n",
      " *********\n",
      "***********\n",
      "--------------------\n",
      "     *\n",
      "    ****\n",
      "   *******\n",
      "  **********\n",
      " *************\n",
      "****************\n",
      "--------------------\n",
      "*\n",
      " ***\n",
      "  *****\n",
      "   *******\n",
      "    *********\n",
      "     ***********\n",
      "--------------------\n"
     ]
    }
   ],
   "source": [
    "#练习二：写函数，根据给定符号和行数，打印相应直角三角形，等腰三角形及其他形式的三角形。\n",
    "def triangle(symbol,row):\n",
    "    for i in range(row):\n",
    "        print (symbol * (i + 1))\n",
    "    print('-'*20)\n",
    "    \n",
    "    for i in range(row):\n",
    "        print (' ' * (row - 1 - i) + symbol * (2 * i + 1))\n",
    "    print('-'*20)\n",
    "    \n",
    "    for i in range(row):\n",
    "        print (' ' * (row - 1 - i) + symbol * ( 3 * i + 1))\n",
    "    print('-'*20)\n",
    "    \n",
    "    for i in range(row):\n",
    "        print (' ' * i + symbol * (i * 2 + 1))\n",
    "    print('-'*20)\n",
    "    \n",
    "\n",
    "symbol = input('input a symbol : ')\n",
    "row = int(input('input how many rows you want : '))\n",
    "triangle(symbol,row)"
   ]
  },
  {
   "cell_type": "code",
   "execution_count": 2,
   "metadata": {},
   "outputs": [
    {
     "name": "stdout",
     "output_type": "stream",
     "text": [
      "input a symbol : *\n",
      "input how many rows you want : 6\n",
      "     *\n",
      "    ***\n",
      "   *****\n",
      "  *******\n",
      " *********\n",
      "***********\n",
      " *********\n",
      "  *******\n",
      "   *****\n",
      "    ***\n",
      "     *\n",
      "--------------------\n",
      "          *\n",
      "        *****\n",
      "      *********\n",
      "    *************\n",
      "  *****************\n",
      "*********************\n",
      "  *****************\n",
      "    *************\n",
      "      *********\n",
      "        *****\n",
      "          *\n",
      "            \n"
     ]
    }
   ],
   "source": [
    "#练习五：写函数，根据给定符号，打印各种菱形。\n",
    "def lingxing(symbol,row):\n",
    "    i = 0\n",
    "    for i in range(row) :\n",
    "        print(' ' * (row - 1 - i) + symbol * (2 * i + 1))\n",
    "    j = 1\n",
    "    while i > 0 :\n",
    "        \n",
    "        print(' ' * j + symbol * (2 * i - 1) )\n",
    "        i -= 1\n",
    "        j += 1\n",
    "    print('-'*20)\n",
    "    \n",
    "    for i in range(row) :\n",
    "        print(' ' * 2 *(row - 1 - i) + symbol * (4 * i + 1))\n",
    "    j = 1\n",
    "    while i >= 0 :\n",
    "        \n",
    "        print(' ' * 2 * j + symbol * (4 * i - 3) )\n",
    "        i -= 1\n",
    "        j += 1\n",
    "    \n",
    "    \n",
    "symbol = input('input a symbol : ')\n",
    "row = int(input('input how many rows you want : '))\n",
    "lingxing(symbol,row)"
   ]
  },
  {
   "cell_type": "code",
   "execution_count": null,
   "metadata": {
    "collapsed": true
   },
   "outputs": [],
   "source": []
  }
 ],
 "metadata": {
  "kernelspec": {
   "display_name": "Python 3",
   "language": "python",
   "name": "python3"
  },
  "language_info": {
   "codemirror_mode": {
    "name": "ipython",
    "version": 3
   },
   "file_extension": ".py",
   "mimetype": "text/x-python",
   "name": "python",
   "nbconvert_exporter": "python",
   "pygments_lexer": "ipython3",
   "version": "3.6.3"
  }
 },
 "nbformat": 4,
 "nbformat_minor": 2
}
