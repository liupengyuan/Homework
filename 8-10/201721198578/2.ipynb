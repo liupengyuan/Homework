{
 "cells": [
  {
   "cell_type": "code",
   "execution_count": 1,
   "metadata": {},
   "outputs": [
    {
     "name": "stdout",
     "output_type": "stream",
     "text": [
      "请输入一个正整数，以回车结束。\n",
      "6\n",
      "720\n"
     ]
    }
   ],
   "source": [
    "#练习1：仿照任务2完整代码，打印n!。\n",
    "n = int(input('请输入一个正整数，以回车结束。\\n'))\n",
    "\n",
    "i = 0\n",
    "total = 1\n",
    "\n",
    "while i < n:\n",
    "    i = i + 1\n",
    "    total = total * i\n",
    "    \n",
    "print(total)"
   ]
  },
  {
   "cell_type": "code",
   "execution_count": 2,
   "metadata": {},
   "outputs": [
    {
     "name": "stdout",
     "output_type": "stream",
     "text": [
      "请输入一个正整数的个数，以回车结束。\n",
      "3\n",
      "请输入一个正整数，以回车结束。\n",
      "4\n",
      "请输入一个正整数，以回车结束。\n",
      "5\n",
      "请输入一个正整数，以回车结束。\n",
      "6\n",
      "15\n"
     ]
    }
   ],
   "source": [
    "#练习2：仿照实践1，写出由用户指定整数个数，并由用户输入多个整数，并求和的代码。\n",
    "n = int(input('请输入一个正整数的个数，以回车结束。\\n'))\n",
    "i = 0\n",
    "total = 0\n",
    "\n",
    "while i < n:\n",
    "    m = int(input('请输入一个正整数，以回车结束。\\n'))\n",
    "    i = i + 1\n",
    "    total = total + m\n",
    "    \n",
    "print(total)"
   ]
  },
  {
   "cell_type": "code",
   "execution_count": 3,
   "metadata": {},
   "outputs": [
    {
     "name": "stdout",
     "output_type": "stream",
     "text": [
      "请输入一个数字5\n",
      "请输入一个数字80\n",
      "请输入一个数字a\n",
      "could not convert string to float: 'a'\n"
     ]
    }
   ],
   "source": [
    "#练习3：用户可以输入的任意多个数字，直到用户不想输入为止。\n",
    "n = 0\n",
    "while n != 'q':\n",
    "    try:\n",
    "        n = float(input('请输入一个数字\\n'))\n",
    "    except Exception as e :\n",
    "        print(e)\n",
    "        break\n",
    "    else:\n",
    "        n = float(input('请输入一个数字\\n'))"
   ]
  },
  {
   "cell_type": "code",
   "execution_count": 3,
   "metadata": {
    "scrolled": false
   },
   "outputs": [
    {
     "name": "stdout",
     "output_type": "stream",
     "text": [
      "请输入一个数字，以回车结束。\n",
      "-1\n",
      "请输入一个数字，以回车结束。\n",
      "-2\n",
      "请输入一个数字，以回车结束。\n",
      "-2\n",
      "请输入一个数字，以回车结束。\n",
      "-2\n"
     ]
    }
   ],
   "source": [
    "#练习4：用户可以输入的任意多个数字，直到输入所有数字的和比当前输入数字小，且输入所有数字的积比当前输入数字的平方大。\n",
    "n = 0\n",
    "total = 0\n",
    "product = 1\n",
    "while total >= n or product <= n**2:\n",
    "    n = int(input('请输入一个数字，以回车结束。\\n'))\n",
    "    if n == 0:\n",
    "        n = int(input('请不要输入0。请输入一个数字，以回车结束。\\n'))\n",
    "    total = total +n\n",
    "    product = product * n"
   ]
  },
  {
   "cell_type": "code",
   "execution_count": null,
   "metadata": {},
   "outputs": [],
   "source": [
    "#练习4：用户可以输入的任意多个数字，直到: 输入所有数字的和比当前输入数字小，且输入所有数字的积大于500。\n",
    "n = int(input('请输入一个数字，以回车结束。\\n'))\n",
    "if n == 0:\n",
    "    n = int(input('请不要输入0。请输入一个数字，以回车结束。\\n'))\n",
    "total = n\n",
    "product = n\n",
    "while n :\n",
    "    n = int(input('请输入一个数字，以回车结束。\\n'))\n",
    "    if n == 0:\n",
    "        n = int(input('请不要输入0。请输入一个数字，以回车结束。\\n'))\n",
    "    if total < n and product > 500 :\n",
    "        print('end')\n",
    "        break\n",
    "    total += n\n",
    "    product *= n\n"
   ]
  },
  {
   "cell_type": "code",
   "execution_count": null,
   "metadata": {
    "collapsed": true
   },
   "outputs": [],
   "source": []
  },
  {
   "cell_type": "code",
   "execution_count": null,
   "metadata": {
    "collapsed": true
   },
   "outputs": [],
   "source": []
  }
 ],
 "metadata": {
  "kernelspec": {
   "display_name": "Python 3",
   "language": "python",
   "name": "python3"
  },
  "language_info": {
   "codemirror_mode": {
    "name": "ipython",
    "version": 3
   },
   "file_extension": ".py",
   "mimetype": "text/x-python",
   "name": "python",
   "nbconvert_exporter": "python",
   "pygments_lexer": "ipython3",
   "version": "3.6.2"
  }
 },
 "nbformat": 4,
 "nbformat_minor": 2
}
