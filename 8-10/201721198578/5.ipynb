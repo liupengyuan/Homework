{
 "cells": [
  {
   "cell_type": "code",
   "execution_count": 9,
   "metadata": {},
   "outputs": [
    {
     "name": "stdout",
     "output_type": "stream",
     "text": [
      "请输入整数个数，以回车结束：\n",
      "3\n",
      "请输入整数下限，以回车结束：\n",
      "9\n",
      "请输入整数上限，以回车结束：\n",
      "5\n",
      "5 9\n",
      "7\n",
      "5\n",
      "8\n",
      "4.47213595499958\n"
     ]
    }
   ],
   "source": [
    "#练习 1：写函数，求n个随机整数均值的平方根，整数范围在m与k之间（n,m,k由用户输入）。\n",
    "import random,math\n",
    "\n",
    "def sqrtSum():\n",
    "    n = int(input('请输入整数个数，以回车结束：\\n'))\n",
    "    m = int(input('请输入整数下限，以回车结束：\\n'))\n",
    "    k = int(input('请输入整数上限，以回车结束：\\n'))\n",
    "    t = 0\n",
    "    if m > k :\n",
    "        t = k\n",
    "        k = m\n",
    "        m = t\n",
    "    print(m,k)\n",
    "    i = 0\n",
    "    total = 0\n",
    "    while i < n :\n",
    "        num = random.randint(m,k)\n",
    "        print(num)\n",
    "        i += 1\n",
    "        total += num\n",
    "    \n",
    "    return(math.sqrt(total))\n",
    "    \n",
    "print(sqrtSum())"
   ]
  },
  {
   "cell_type": "code",
   "execution_count": 10,
   "metadata": {},
   "outputs": [
    {
     "name": "stdout",
     "output_type": "stream",
     "text": [
      "请输入整数个数，以回车结束：\n",
      "2\n",
      "请输入整数下限，以回车结束：\n",
      "3\n",
      "请输入整数上限，以回车结束：\n",
      "6\n",
      "3 6\n",
      "6\n",
      "1.791759469228055\n",
      "0.5581106265512472\n",
      "5\n",
      "1.6094379124341003\n",
      "0.6213349345596119\n",
      "(3.401197381662155, 1.179445561110859)\n"
     ]
    }
   ],
   "source": [
    "#练习 2：写函数，共n个随机整数，整数范围在m与k之间，（n,m,k由用户输入）。求1：西格玛log(随机整数)，2：西格玛1/log(随机整数)\n",
    "import random,math\n",
    "\n",
    "def logSum():\n",
    "    n = int(input('请输入整数个数，以回车结束：\\n'))\n",
    "    m = int(input('请输入整数下限，以回车结束：\\n'))\n",
    "    k = int(input('请输入整数上限，以回车结束：\\n'))\n",
    "    t = 0\n",
    "    if m > k :\n",
    "        t = k\n",
    "        k = m\n",
    "        m = t\n",
    "    print(m,k)\n",
    "    i = 0\n",
    "    total1 = 0\n",
    "    total2 = 0\n",
    "    while i < n :\n",
    "        num = random.randint(m,k)\n",
    "        print(num)\n",
    "        num1 = math.log(num)\n",
    "        print(num1)\n",
    "        num2 = 1/num1\n",
    "        print(num2)\n",
    "        i += 1\n",
    "        total1 += num1\n",
    "        total2 += num2\n",
    "    \n",
    "    return(total1,total2)\n",
    "    \n",
    "print(logSum())\n"
   ]
  },
  {
   "cell_type": "code",
   "execution_count": 12,
   "metadata": {},
   "outputs": [
    {
     "name": "stdout",
     "output_type": "stream",
     "text": [
      "请输入相加整数的个数：\n",
      "3\n",
      "7\n",
      "861\n"
     ]
    }
   ],
   "source": [
    "#练习 3：写函数，求s=a+aa+aaa+aaaa+aa...a的值，其中a是[1,9]之间的随机整数。例如2+22+222+2222+22222(此时共有5个数相加)，几个数相加由键盘输入。\n",
    "import random\n",
    "\n",
    "def sumD():\n",
    "    n = int(input('请输入相加整数的个数：\\n'))\n",
    "    i = 0\n",
    "    a = random.randint(1,9)\n",
    "    print(a)\n",
    "    total = 0\n",
    "    m = a\n",
    "    #print(m)\n",
    "    while i < n :\n",
    "        total += a\n",
    "        a = a*10 + m\n",
    "        #print(a,total)\n",
    "        i += 1\n",
    "        \n",
    "    return(total)\n",
    "    \n",
    "print(sumD())"
   ]
  },
  {
   "cell_type": "code",
   "execution_count": null,
   "metadata": {
    "collapsed": true
   },
   "outputs": [],
   "source": []
  }
 ],
 "metadata": {
  "kernelspec": {
   "display_name": "Python 3",
   "language": "python",
   "name": "python3"
  },
  "language_info": {
   "codemirror_mode": {
    "name": "ipython",
    "version": 3
   },
   "file_extension": ".py",
   "mimetype": "text/x-python",
   "name": "python",
   "nbconvert_exporter": "python",
   "pygments_lexer": "ipython3",
   "version": "3.6.2"
  }
 },
 "nbformat": 4,
 "nbformat_minor": 2
}
