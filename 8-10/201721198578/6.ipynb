{
 "cells": [
  {
   "cell_type": "code",
   "execution_count": 7,
   "metadata": {},
   "outputs": [
    {
     "name": "stdout",
     "output_type": "stream",
     "text": [
      "input a number, or q for quit1\n",
      "input a number, or q for quit2\n",
      "input a number, or q for quit3\n",
      "input a number, or q for quitq\n",
      "invalid literal for int() with base 10: 'q'\n",
      "sum is : 6\n"
     ]
    }
   ],
   "source": [
    "#写函数，返回一个list中所有数字的和\n",
    "def list_sum(num):\n",
    "    j = 0\n",
    "    while j != 'q':\n",
    "        try:\n",
    "            j = int(input('input a number, or q for quit'))   \n",
    "        except Exception as e :\n",
    "            print(e)\n",
    "            break\n",
    "        else:\n",
    "            num.append(j)\n",
    "        \n",
    "    total = 0\n",
    "    for i in num :\n",
    "        total += i\n",
    "    return total\n",
    "\n",
    "num = []\n",
    "print ('sum is :',list_sum(num))"
   ]
  },
  {
   "cell_type": "code",
   "execution_count": 1,
   "metadata": {},
   "outputs": [
    {
     "name": "stdout",
     "output_type": "stream",
     "text": [
      "input a number, or q for quit3\n",
      "input a number, or q for quit2\n",
      "input a number, or q for quit1\n",
      "input a number, or q for quitq\n",
      "invalid literal for int() with base 10: 'q'\n",
      "3\n",
      "2\n",
      "1\n",
      "the min number is : 1\n"
     ]
    }
   ],
   "source": [
    "#写函数，返回一个list中的最小值\n",
    "def min_num(num):\n",
    "    j = 0\n",
    "    while j != 'q':\n",
    "        try:\n",
    "            j = int(input('input a number, or q for quit'))   \n",
    "        except Exception as e :\n",
    "            print(e)\n",
    "            break\n",
    "        else:\n",
    "            num.append(j)\n",
    "            \n",
    "    for j in num :\n",
    "        print(j)\n",
    "    i = 0\n",
    "    minNum = num[0]\n",
    "    while i < len(num):\n",
    "        if num[i] <= minNum :\n",
    "            minNum = num[i]\n",
    "        i += 1\n",
    "    return minNum\n",
    "\n",
    "num = []\n",
    "print('the min number is :',min_num(num))"
   ]
  },
  {
   "cell_type": "code",
   "execution_count": 4,
   "metadata": {},
   "outputs": [
    {
     "name": "stdout",
     "output_type": "stream",
     "text": [
      "input a number, or q for quit1\n",
      "input a number, or q for quit2\n",
      "input a number, or q for quit3\n",
      "input a number, or q for quitq\n",
      "invalid literal for int() with base 10: 'q'\n",
      "input what number you want to find: 3\n",
      "the location is : 2\n"
     ]
    }
   ],
   "source": [
    "#写函数，返回某个元素/对象在一个list中的位置，如果不在，则返回-1.\n",
    "def find_num(num):\n",
    "    j = 0\n",
    "    while j != 'q':\n",
    "        try:\n",
    "            j = int(input('input a number, or q for quit'))   \n",
    "        except Exception as e :\n",
    "            print(e)\n",
    "            break\n",
    "        else:\n",
    "            num.append(j)\n",
    "            \n",
    "    n = int(input('input what number you want to find: '))\n",
    "    i = 0\n",
    "    for j in num :\n",
    "        #print(j)\n",
    "        if j == n :\n",
    "            return i\n",
    "        i += 1\n",
    "    return  -1\n",
    "        \n",
    "    \n",
    "num = []\n",
    "print('the location is :',find_num(num))"
   ]
  },
  {
   "cell_type": "code",
   "execution_count": 16,
   "metadata": {},
   "outputs": [
    {
     "name": "stdout",
     "output_type": "stream",
     "text": [
      "input a coordinate:0\n",
      "input a coordinate:1\n",
      "input a coordinate:1\n",
      "input a coordinate:0\n",
      "0.0\n"
     ]
    }
   ],
   "source": [
    "#写函数，可求两个向量的夹角余弦值，向量可放在list中。主程序调用该函数。\n",
    "\"\"\"\n",
    "import math\n",
    "def cos_vector():\n",
    "    x1 = float(input('input x\\'s x coordinate:'))\n",
    "    y1 = float(input('input x\\'s y coordinate:'))\n",
    "    x2 = float(input('input y\\'s x coordinate:'))\n",
    "    y2 = float(input('input y\\'s y coordinate:'))\n",
    "    a = x1 * x2 + y1 * y2\n",
    "    b1 = math.sqrt(x1 * x1 + y1 * y1)\n",
    "    b2 = math.sqrt(x2 * x2 + y2 * y2)\n",
    "    cosine = a / (b1 * b2)\n",
    "    return cosine\n",
    "\n",
    "print(cos_vector())\n",
    "\"\"\"\n",
    "\n",
    "import math\n",
    "def cos_vector():\n",
    "    i = 0\n",
    "    n = [0,0,0,0]\n",
    "    for i in range(4):\n",
    "        n[i] = int(input('input a coordinate:'))\n",
    "        \n",
    "    a = n[0] * n[2] + n[1] * n[3]\n",
    "    b1 = math.sqrt(n[0] * n[0] + n[1] * n[1])\n",
    "    b2 = math.sqrt(n[2] * n[2] + n[3] * n[3])\n",
    "    cosine = a / (b1 * b2)\n",
    "    return cosine\n",
    "    \n",
    "print(cos_vector())"
   ]
  },
  {
   "cell_type": "code",
   "execution_count": 3,
   "metadata": {},
   "outputs": [
    {
     "name": "stdout",
     "output_type": "stream",
     "text": [
      "3741\n"
     ]
    }
   ],
   "source": [
    "#挑战性习题：python语言老师为了激励学生学python，自费买了100个完全相同的Macbook Pro，分给三个班级，每个班级至少分5个，\n",
    "#用穷举法计算共有多少种分法？\n",
    "total = 100 - 15\n",
    "i = 0\n",
    "j = 0\n",
    "num = 0\n",
    "\n",
    "for i in range(total + 1):\n",
    "    for j in range(total + 1 - i):\n",
    "        num += 1\n",
    "        j += 1\n",
    "    i += 1\n",
    "    \n",
    "print(num)"
   ]
  },
  {
   "cell_type": "code",
   "execution_count": null,
   "metadata": {
    "collapsed": true
   },
   "outputs": [],
   "source": []
  }
 ],
 "metadata": {
  "kernelspec": {
   "display_name": "Python 3",
   "language": "python",
   "name": "python3"
  },
  "language_info": {
   "codemirror_mode": {
    "name": "ipython",
    "version": 3
   },
   "file_extension": ".py",
   "mimetype": "text/x-python",
   "name": "python",
   "nbconvert_exporter": "python",
   "pygments_lexer": "ipython3",
   "version": "3.6.2"
  }
 },
 "nbformat": 4,
 "nbformat_minor": 2
}
