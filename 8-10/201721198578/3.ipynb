{
 "cells": [
  {
   "cell_type": "code",
   "execution_count": 2,
   "metadata": {},
   "outputs": [
    {
     "name": "stdout",
     "output_type": "stream",
     "text": [
      "请输入一个数字，以回车结束。4\n",
      "请输入一个数字，以回车结束。3\n",
      "请问输入目的，和代表求和，积代表求乘积，余代表求余数，除代表求整除,q代表退出。余\n",
      "remainder is: 1 \n",
      "\n",
      "请输入一个数字，以回车结束。4\n",
      "请输入一个数字，以回车结束。3\n",
      "请问输入目的，和代表求和，积代表求乘积，余代表求余数，除代表求整除,q代表退出。除\n",
      "division is: 1.3333333333333333 \n",
      "\n",
      "请输入一个数字，以回车结束。6\n",
      "请输入一个数字，以回车结束。4\n",
      "请问输入目的，和代表求和，积代表求乘积，余代表求余数，除代表求整除,q代表退出。q\n"
     ]
    }
   ],
   "source": [
    "#练习 2：写程序，可由键盘读入两个整数m与n(n不等于0)，询问用户意图，如果要求和则计算从m到n的和输出，如果要乘积则计算从m到n的积并输出，如果要求余数则计算m除以n的余数的值并输出，否则则计算m整除n的值并输出。\n",
    "porpuse = 0\n",
    "total = 0\n",
    "product = 1\n",
    "\n",
    "while porpuse != 'q':\n",
    "    n = int(input('请输入一个数字，以回车结束。'))\n",
    "    m = int(input('请输入一个数字，以回车结束。'))\n",
    "    porpuse = input('请问输入目的，和代表求和，积代表求乘积，余代表求余数，除代表求整除,q代表退出。')\n",
    "    if n > m:\n",
    "        maxNum = n\n",
    "        minNum = m\n",
    "    else:\n",
    "        maxNum = m\n",
    "        minNum = n\n",
    "        \n",
    "    i = minNum    \n",
    "    if porpuse == '和':\n",
    "        while i <= maxNum:\n",
    "            total += i\n",
    "            i += 1\n",
    "        print ('total is:',total,'\\n')\n",
    "        \n",
    "    elif porpuse == '积':\n",
    "        while i <= maxNum:\n",
    "            product *= i\n",
    "            i += 1\n",
    "        print ('product is:',product,'\\n')\n",
    "    elif porpuse == '余':\n",
    "        remainder = maxNum % minNum\n",
    "        print ('remainder is:',remainder,'\\n')\n",
    "    elif porpuse == '除':\n",
    "        division = maxNum / minNum\n",
    "        print ('division is:',division,'\\n')\n",
    "    elif porpuse == 'q':\n",
    "        break\n",
    "    else:\n",
    "        porpuse = input('请不要输入无关要求\\n，请问输入目的，和代表求和，积代表求乘积，余代表求余数，除代表求整除,q代表退出。')"
   ]
  },
  {
   "cell_type": "code",
   "execution_count": 1,
   "metadata": {},
   "outputs": [
    {
     "name": "stdout",
     "output_type": "stream",
     "text": [
      "please input a verb:\n",
      " fly\n",
      "flies\n",
      "please input a verb:\n",
      " see\n",
      "sees\n",
      "please input a verb:\n",
      " chef\n",
      "cheves\n",
      "please input a verb:\n",
      " q\n"
     ]
    }
   ],
   "source": [
    "#练习 4：英文单词单数转复数，要求输入一个英文动词（单数形式），能够得到其复数形式，或给出单数转复数形式的建议（提示，some_string.endswith(some_letter)函数可以判断某字符串结尾字符，可尝试运行：'myname'.endswith('me')，liupengyuan'.endswith('n')）。\n",
    "#1.一般动词+S一个:like→likes\n",
    "#2.S,X,ch,sh结尾的加es（随便一个）:kiss→kisses;fix→fixes;watch→watches;wash→washes;\n",
    "#3.O辅音+O es和o元音+o s。:go→goes;\n",
    "#4.y 辅音+y去y+ies和元音+y+s。: worry→worries; buy→buys;\n",
    "#5.结尾是f和fe的去f和fe加ves。:stuff→stuves;\n",
    "\n",
    "#verb = 'fly'\n",
    "#print(verb[:-1] + 'ies')\n",
    "verb = 0\n",
    "while verb != 'q' :\n",
    "        verb = input('please input a verb:\\n ')\n",
    "        \n",
    "        if verb.endswith('s') or verb.endswith('x') or verb.endswith('sh') or verb.endswith('s=ch'):\n",
    "            verb = verb + 'es'\n",
    "            print (verb)\n",
    "            \n",
    "        elif verb.endswith('o'): \n",
    "            if verb.endswith('ao') or verb.endswith('eo') or verb.endswith('io') or verb.endswith('oo') or verb.endswith('uo'):\n",
    "                verb = verb + 's'\n",
    "            else:\n",
    "                verb = verb + 'es'\n",
    "            print (verb)\n",
    "        \n",
    "        elif verb.endswith('y'):\n",
    "            if verb.endswith('ay') or verb.endswith('ey') or verb.endswith('iy') or verb.endswith('oy') or verb.endswith('uy'):\n",
    "                verb = verb + 's'\n",
    "            else:\n",
    "                verb = verb[:-1] + 'ies'\n",
    "            print (verb)\n",
    "        elif verb.endswith('f'):\n",
    "            verb = verb[:-1] + 'ves'\n",
    "            print (verb)\n",
    "        elif verb.endswith('fe'):\n",
    "            verb = verb[:-2] + 'ves'\n",
    "            print (verb)\n",
    "        elif verb == 'q' :\n",
    "            break\n",
    "        else:\n",
    "            verb = verb + 's'\n",
    "            print (verb)    "
   ]
  },
  {
   "cell_type": "code",
   "execution_count": null,
   "metadata": {
    "collapsed": true
   },
   "outputs": [],
   "source": []
  }
 ],
 "metadata": {
  "kernelspec": {
   "display_name": "Python 3",
   "language": "python",
   "name": "python3"
  },
  "language_info": {
   "codemirror_mode": {
    "name": "ipython",
    "version": 3
   },
   "file_extension": ".py",
   "mimetype": "text/x-python",
   "name": "python",
   "nbconvert_exporter": "python",
   "pygments_lexer": "ipython3",
   "version": "3.6.2"
  }
 },
 "nbformat": 4,
 "nbformat_minor": 2
}
