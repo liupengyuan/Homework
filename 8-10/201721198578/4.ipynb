{
 "cells": [
  {
   "cell_type": "code",
   "execution_count": 2,
   "metadata": {},
   "outputs": [
    {
     "name": "stdout",
     "output_type": "stream",
     "text": [
      "请输入第1个整数，以回车结束。3\n",
      "请输入第2个整数，以回车结束。3\n",
      "请输入第3个整数，以回车结束。3\n",
      "最终的乘积是： 18\n"
     ]
    }
   ],
   "source": [
    "#练习 1：仿照求$ \\sum_{i=1}^mi + \\sum_{i=1}^ni  + \\sum_{i=1}^ki$的完整代码，写程序，可求m!+n!+k!\n",
    "def compute_sum(end):\n",
    "    i = 0\n",
    "    total_n = 1\n",
    "\n",
    "    while i < end:\n",
    "        i = i + 1\n",
    "        total_n = total_n * i\n",
    "\n",
    "    return total_n\n",
    "\n",
    "n = int(input('请输入第1个整数，以回车结束。'))\n",
    "m = int(input('请输入第2个整数，以回车结束。'))\n",
    "k = int(input('请输入第3个整数，以回车结束。'))\n",
    "\n",
    "print('最终的乘积是：', compute_sum(m) + compute_sum(n) + compute_sum(k))"
   ]
  },
  {
   "cell_type": "code",
   "execution_count": 3,
   "metadata": {},
   "outputs": [
    {
     "name": "stdout",
     "output_type": "stream",
     "text": [
      "3.139592655589785 3.1415726535897814\n"
     ]
    }
   ],
   "source": [
    "#练习 2：写函数可返回1 - 1/3 + 1/5 - 1/7...的前n项的和。在主程序中，分别令n=1000及100000，打印4倍该函数的和。\n",
    "def division_sum(end):\n",
    "    i = 1\n",
    "    j = 1\n",
    "    k = 1\n",
    "    total = 0\n",
    "    \n",
    "    while k < end :\n",
    "        i = k\n",
    "        if j % 2 == 0:\n",
    "            i =  -(1 / i)\n",
    "        else:\n",
    "            i = 1 / i\n",
    "        k += 2\n",
    "        j += 1\n",
    "        total += i\n",
    "        \n",
    "    return total\n",
    "\n",
    "n = 4 * division_sum(1000)\n",
    "m = 4 * division_sum(100000)\n",
    "print(n,m)\n"
   ]
  },
  {
   "cell_type": "code",
   "execution_count": 1,
   "metadata": {},
   "outputs": [
    {
     "name": "stdout",
     "output_type": "stream",
     "text": [
      "input your name: \n",
      "siqi\n",
      "input your birthday:(like 1.01 means january first)1.16\n",
      "siqi,你是非常有性格的摩羯座\n"
     ]
    }
   ],
   "source": [
    "#练习 3：将task3中的练习1及练习4改写为函数，并进行调用。\n",
    " ##task3.练习1：练习 1：写程序，可由键盘读入用户姓名例如Mr. right，让用户输入出生的月份与日期，判断用户星座，假设用户是金牛座，则输出，Mr. right，你是非常有性格的金牛座！。\n",
    "\"\"\"\n",
    "白羊座3.21-4.19 金牛座4.20-5.20 双子座5.21-6.21 巨蟹座6.22-7.22 狮子座7.23-8.22 处女8.23-9.22 \n",
    "天秤座9.23-10.23 天蝎座10.24-11.22 射手座11.23-12.21 魔羯座12.22-1.19 水瓶座1.20-2.18 双鱼座2.19-3.20\n",
    "\"\"\"\n",
    "def stars(name,date):\n",
    "    if date >= 3.21 and date <= 3.31 or date >= 4.01 and date <= 4.19 :\n",
    "        star = '白羊座'\n",
    "    elif date >= 4.20 and date <= 4.30 or date >= 5.01 and date <= 5.20:\n",
    "        star = '金牛座'\n",
    "    elif date >= 5.21 and date <= 5.31 or date >= 6.01 and date <= 6.21:\n",
    "        star = '双子座'\n",
    "    elif date >= 6.22 and date <= 6.30 or date >= 7.01 and date <= 7.22:\n",
    "        star = '巨蟹座'\n",
    "    elif date >= 7.23 and date <= 7.31 or date >= 8.01 and date <= 8.22:\n",
    "        star = '狮子座'\n",
    "    elif date >= 8.23 and date <= 8.31 or date >= 9.01 and date <= 9.22:\n",
    "        star = '处女座'\n",
    "    elif date >= 9.23 and date <= 9.30 or date >= 10.01 and date <= 10.23:\n",
    "        star = '天秤座'\n",
    "    elif date >= 10.24 and date <= 10.31 or date >= 11.01 and date <= 11.22:\n",
    "        star = '天蝎座'\n",
    "    elif date >= 11.23 and date <= 11.30 or date >= 12.01 and date <= 12.21:\n",
    "        star = '射手座'\n",
    "    elif date >= 12.22 and date <= 12.31 or date >= 1.01 and date <= 1.19 :\n",
    "        star = '摩羯座'\n",
    "    elif date >= 1.20 and date <= 1.31  or date >= 2.01 and date <= 2.18:\n",
    "        star = '水瓶座'\n",
    "    elif date >= 2.19 and date <= 2.28 or date >= 3.01 and date <= 3.20:\n",
    "        star = '双鱼座'\n",
    "    else:\n",
    "        date= float(input('Wrong date! please input your birthday again:\\n'))\n",
    "        stars(name,date)\n",
    "    print(name + ',你是非常有性格的' + star)\n",
    "\n",
    "name = input('input your name: \\n')\n",
    "date = float(input('input your birthday:(like 1.01 means january first)'))\n",
    "\n",
    "stars(name,date)"
   ]
  },
  {
   "cell_type": "code",
   "execution_count": 2,
   "metadata": {},
   "outputs": [
    {
     "name": "stdout",
     "output_type": "stream",
     "text": [
      "input a verb: \n",
      " fish\n",
      "fishes\n"
     ]
    }
   ],
   "source": [
    "#练习 3：将task3中的练习1及练习4改写为函数，并进行调用。\n",
    "##task3.练习 4：英文单词单数转复数，要求输入一个英文动词（单数形式），能够得到其复数形式，或给出单数转复数形式的建议（提示，some_string.endswith(some_letter)函数可以判断某字符串结尾字符，可尝试运行：'myname'.endswith('me')，liupengyuan'.endswith('n')）。\n",
    "#1.一般动词+S一个:like→likes\n",
    "#2.S,X,ch,sh结尾的加es（随便一个）:kiss→kisses;fix→fixes;watch→watches;wash→washes;\n",
    "#3.O辅音+O es和o元音+o s。:go→goes;\n",
    "#4.y 辅音+y去y+ies和元音+y+s。: worry→worries; buy→buys;\n",
    "#5.结尾是f和fe的去f和fe加ves。:stuff→stuves;\n",
    "\n",
    "def change(verb) :    \n",
    "    if verb.endswith('s') or verb.endswith('x') or verb.endswith('sh') or verb.endswith('s=ch'):\n",
    "        verb = verb + 'es'\n",
    "                \n",
    "    elif verb.endswith('o'): \n",
    "        if verb.endswith('ao') or verb.endswith('eo') or verb.endswith('io') or verb.endswith('oo') or verb.endswith('uo'):\n",
    "            verb = verb + 's'\n",
    "        else:\n",
    "            verb = verb + 'es'\n",
    "           \n",
    "    elif verb.endswith('y'):\n",
    "        if verb.endswith('ay') or verb.endswith('ey') or verb.endswith('iy') or verb.endswith('oy') or verb.endswith('uy'):\n",
    "            verb = verb + 's'\n",
    "        else:\n",
    "            verb = verb[:-1] + 'ies'\n",
    "                \n",
    "    elif verb.endswith('f'):\n",
    "        verb = verb[:-1] + 'ves'\n",
    "        \n",
    "    elif verb.endswith('fe'):\n",
    "        verb = verb[:-2] + 'ves'\n",
    "\n",
    "    else:\n",
    "        verb = verb + 's'\n",
    "    print (verb)\n",
    "        \n",
    "verb = input('input a verb: \\n ')\n",
    "change(verb)"
   ]
  },
  {
   "cell_type": "code",
   "execution_count": 4,
   "metadata": {},
   "outputs": [
    {
     "name": "stdout",
     "output_type": "stream",
     "text": [
      "请输入第1个整数，以回车结束。3\n",
      "请输入第2个整数，以回车结束。6\n",
      "请输入间隔，以回车结束。1\n",
      "sum is 18\n"
     ]
    }
   ],
   "source": [
    "#挑战性练习：写程序，可以求从整数m到整数n累加的和，间隔为k，求和部分需用函数实现，主程序中由用户输入m，n，k调用函数验证正确性。\n",
    "def compute_sum(m,n,k):\n",
    "    total_n = n\n",
    "\n",
    "    while n < m:\n",
    "        n = n + k\n",
    "        total_n = total_n + n\n",
    "\n",
    "    print('sum is ' + str(total_n))\n",
    "\n",
    "n = int(input('请输入第1个整数，以回车结束。'))\n",
    "m = int(input('请输入第2个整数，以回车结束。'))\n",
    "k = int(input('请输入间隔，以回车结束。'))\n",
    "\n",
    "if m >= n:\n",
    "    maxNum = m\n",
    "    minNum = n\n",
    "else:\n",
    "    maxNum = n\n",
    "    minNum = m\n",
    "compute_sum(maxNum,minNum,k)\n"
   ]
  },
  {
   "cell_type": "code",
   "execution_count": null,
   "metadata": {
    "collapsed": true
   },
   "outputs": [],
   "source": []
  }
 ],
 "metadata": {
  "kernelspec": {
   "display_name": "Python 3",
   "language": "python",
   "name": "python3"
  },
  "language_info": {
   "codemirror_mode": {
    "name": "ipython",
    "version": 3
   },
   "file_extension": ".py",
   "mimetype": "text/x-python",
   "name": "python",
   "nbconvert_exporter": "python",
   "pygments_lexer": "ipython3",
   "version": "3.6.2"
  }
 },
 "nbformat": 4,
 "nbformat_minor": 2
}
