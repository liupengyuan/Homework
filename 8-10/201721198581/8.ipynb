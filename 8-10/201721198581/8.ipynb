{
 "cells": [
  {
   "cell_type": "markdown",
   "metadata": {},
   "source": [
    "# 完整诗词游戏"
   ]
  },
  {
   "cell_type": "code",
   "execution_count": 4,
   "metadata": {
    "collapsed": true
   },
   "outputs": [],
   "source": [
    "import re\n",
    "\n",
    "fh = open(r'f:\\课件\\A\\python\\五言诗库.txt')\n",
    "\n",
    "text = fh.read().strip()\n",
    "\n",
    "text = re.sub(r'[0-9]+(.*)：(.*)','',text)\n",
    "text = text.replace('，', '\\n')\n",
    "text = text.replace('。', '')\n",
    "idioms = text.split('\\n')\n",
    "\n",
    "fw = open(r'f:\\课件\\A\\python\\peoms_correct.txt', 'w')\n",
    "idioms = [idiom + '\\n' for idiom in idioms]\n",
    "fw.writelines(idioms)\n",
    "\n",
    "fh.close()\n",
    "fw.close()"
   ]
  },
  {
   "cell_type": "code",
   "execution_count": 1,
   "metadata": {},
   "outputs": [
    {
     "name": "stdout",
     "output_type": "stream",
     "text": [
      "我 事\n",
      "姑 忧\n",
      "两 贻\n",
      "请输入猜测诗词，回车结束，直接回车表示退出游戏：事姑怡我忧\n",
      "答错了，减十分\n",
      "诗词其实是： 事姑贻我忧\n",
      "你当前的分数是： 0\n",
      "言 开\n",
      "相 国\n",
      "得 能\n",
      "请输入猜测诗词，回车结束，直接回车表示退出游戏：得相能开国\n",
      "答对了，加十分\n",
      "你当前的分数是： 10\n",
      "散 有\n",
      "穷 弟\n",
      "皆 分\n",
      "请输入猜测诗词，回车结束，直接回车表示退出游戏：有弟皆分散\n",
      "答对了，加十分\n",
      "你当前的分数是： 20\n",
      "依 山\n",
      "尽 令\n",
      "日 白\n",
      "请输入猜测诗词，回车结束，直接回车表示退出游戏：白日依山尽\n",
      "答对了，加十分\n",
      "你当前的分数是： 30\n",
      "旅 无\n",
      "馆 业\n",
      "良 伴\n",
      "请输入猜测诗词，回车结束，直接回车表示退出游戏：\n",
      "退出游戏。\n",
      "你最后的分数是： 30\n"
     ]
    }
   ],
   "source": [
    "# -*- coding: utf-8 -*-\n",
    "\"\"\"\n",
    "Created on Wed Nov 15 08:40:11 2017\n",
    "\n",
    "@author: w\n",
    "\"\"\"\n",
    "\n",
    "import random\n",
    "\n",
    "def win():\n",
    "    print(\"Win!\")\n",
    "    return\n",
    "    \n",
    "def lose():\n",
    "    print(\"Lose!\")\n",
    "    return\n",
    "    \n",
    "def get_ch_table(line):\n",
    "    ch_table = []\n",
    "    for ch in line:\n",
    "        if ch not in ch_table:\n",
    "            ch_table.append(ch)\n",
    "    return ch_table\n",
    "\n",
    "def poem_robot(file_name):\n",
    "    with open(file_name) as fh:\n",
    "        text = fh.read()\n",
    "    poems = text.split()\n",
    "    poem = random.choice(poems)\n",
    "    \n",
    "    chs = get_ch_table(text.replace('\\n', ''))\n",
    "\n",
    "    guess_ch_table = [ch for ch in poem]\n",
    "    while len(guess_ch_table) < 6:\n",
    "        ch = random.choice(chs)\n",
    "        if ch not in guess_ch_table:\n",
    "            guess_ch_table.append(ch)\n",
    "    \n",
    "    random.shuffle(guess_ch_table)\n",
    "    \n",
    "    for i in range(0,6,2):\n",
    "        print(guess_ch_table[i], guess_ch_table[i+1])\n",
    "    \n",
    "    return poem\n",
    "\n",
    "def main():\n",
    "    filename = r'f:\\课件\\A\\python\\peoms_correct.txt'\n",
    "    score = 10\n",
    "    while score >= 0:\n",
    "        \n",
    "        real_poem = poem_robot(filename)\n",
    "        answer_poem = input('请输入猜测诗词，回车结束，直接回车表示退出游戏：')\n",
    "        if answer_poem == real_poem:\n",
    "            print('答对了，加十分')\n",
    "            score += 10\n",
    "            print('你当前的分数是：', score)\n",
    "            if score == 100:\n",
    "                win()\n",
    "                return\n",
    "        elif answer_poem == '':\n",
    "            print('退出游戏。')\n",
    "            print('你最后的分数是：', score)\n",
    "            return\n",
    "        else:\n",
    "            score -= 10\n",
    "            print('答错了，减十分')\n",
    "            print('诗词其实是：', real_poem)\n",
    "            print('你当前的分数是：', score)\n",
    "    else:\n",
    "        lose()\n",
    "        return\n",
    "\n",
    "if __name__ == '__main__':\n",
    "    main()"
   ]
  },
  {
   "cell_type": "markdown",
   "metadata": {},
   "source": [
    "# 实现完整点字成诗机器人"
   ]
  },
  {
   "cell_type": "code",
   "execution_count": 3,
   "metadata": {},
   "outputs": [
    {
     "name": "stdout",
     "output_type": "stream",
     "text": [
      "请输入含有或不含有完整诗句的 7 个字，并以空格隔开，\n",
      "                来让机器人来猜你所出的诗句，回车结束\n",
      "家 国 有 河 山 在 破\n",
      "国破山河在\n"
     ]
    }
   ],
   "source": [
    "def find_poem_sentence(poems, characters):\n",
    "    \n",
    "    for poem in poems:\n",
    "        same_character_number = 0\n",
    "        for ch in poem:\n",
    "            if ch in characters:\n",
    "                same_character_number += 1\n",
    "        if same_character_number == 5:\n",
    "            return poem\n",
    "    return None\n",
    "\n",
    "def main():\n",
    "    with open(r'f:\\课件\\A\\python\\peoms_correct.txt') as f:\n",
    "        text = f.read()\n",
    "    poems = text.split()\n",
    "    chs = input('''请输入含有或不含有完整诗句的 7 个字，并以空格隔开，\n",
    "                来让机器人来猜你所出的诗句，回车结束\\n''')\n",
    "    chsList = chs.split(' ')\n",
    "    robot_answer = find_poem_sentence(poems, chsList)\n",
    "    print(robot_answer)\n",
    "    \n",
    "if __name__ == '__main__':\n",
    "    main()"
   ]
  },
  {
   "cell_type": "code",
   "execution_count": null,
   "metadata": {
    "collapsed": true
   },
   "outputs": [],
   "source": []
  }
 ],
 "metadata": {
  "kernelspec": {
   "display_name": "Python 3",
   "language": "python",
   "name": "python3"
  },
  "language_info": {
   "codemirror_mode": {
    "name": "ipython",
    "version": 3
   },
   "file_extension": ".py",
   "mimetype": "text/x-python",
   "name": "python",
   "nbconvert_exporter": "python",
   "pygments_lexer": "ipython3",
   "version": "3.6.1"
  }
 },
 "nbformat": 4,
 "nbformat_minor": 2
}
