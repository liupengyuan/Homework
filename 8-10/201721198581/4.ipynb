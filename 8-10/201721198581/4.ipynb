{
 "cells": [
  {
   "cell_type": "markdown",
   "metadata": {},
   "source": [
    "# 练习 1：仿照求$ \\sum_{i=1}^mi + \\sum_{i=1}^ni  + \\sum_{i=1}^ki$的完整代码，写程序，可求m!+n!+k!"
   ]
  },
  {
   "cell_type": "code",
   "execution_count": 2,
   "metadata": {},
   "outputs": [
    {
     "name": "stdout",
     "output_type": "stream",
     "text": [
      "请输入第1个整数，以回车结束。3\n",
      "请输入第2个整数，以回车结束。5\n",
      "请输入第3个整数，以回车结束。4\n",
      "最终的积是： 150\n"
     ]
    }
   ],
   "source": [
    "def compute_product(end):\n",
    "    i = 1\n",
    "    total_n = 1\n",
    "\n",
    "    while i < end:\n",
    "        i = i + 1\n",
    "        total_n = total_n * i\n",
    "\n",
    "    return total_n\n",
    "\n",
    "n = int(input('请输入第1个整数，以回车结束。'))\n",
    "m = int(input('请输入第2个整数，以回车结束。'))\n",
    "k = int(input('请输入第3个整数，以回车结束。'))\n",
    "\n",
    "print('最终的积是：', compute_product(m) + compute_product(n) + compute_product(k))"
   ]
  },
  {
   "cell_type": "markdown",
   "metadata": {},
   "source": [
    "# 练习 2：写函数可返回1 - 1/3 + 1/5 - 1/7...的前n项的和。在主程序中，分别令n=1000及100000，打印4倍该函数的和。"
   ]
  },
  {
   "cell_type": "code",
   "execution_count": 6,
   "metadata": {},
   "outputs": [
    {
     "name": "stdout",
     "output_type": "stream",
     "text": [
      "3.140592653839794\n",
      "3.1415826535897198\n"
     ]
    }
   ],
   "source": [
    "def compute_nsum(end):\n",
    "    i = 1\n",
    "    total_n = 1\n",
    "\n",
    "    n = 0\n",
    "    while n < (end - 1):\n",
    "        n = n + 1\n",
    "        i = i + 2\n",
    "        total_n = total_n + ((-1)**n)/i\n",
    "\n",
    "    return total_n\n",
    "\n",
    "print(4*compute_nsum(1000))\n",
    "print(4*compute_nsum(100000))"
   ]
  },
  {
   "cell_type": "markdown",
   "metadata": {},
   "source": [
    "# 练习 3：将task3中的练习1及练习4改写为函数，并进行调用。"
   ]
  },
  {
   "cell_type": "code",
   "execution_count": 7,
   "metadata": {},
   "outputs": [
    {
     "name": "stdout",
     "output_type": "stream",
     "text": [
      "请输入你的姓名，以回车结束。星月\n",
      "请输入你出生的月份，以回车结束。9\n",
      "请输入你出生的日期，以回车结束。9\n",
      "你好 星月 勤奋努力处女座\n"
     ]
    }
   ],
   "source": [
    "#练习1 用户星座\n",
    "def user_constellation(month,day):\n",
    "    if (month == 12 and day >= 22) or (month == 1 and day <= 19):\n",
    "        contype = '谨慎谦逊摩羯座'\n",
    "    elif (month == 1 and day >= 20) or (month == 2 and day <= 18):\n",
    "        contype = '创意十足水瓶座'\n",
    "    elif (month == 2 and day >= 19) or (month == 3 and day <= 20):\n",
    "        contype = '善解人意双鱼座'\n",
    "    elif (month == 3 and day >= 21) or (month == 4 and day <= 19):\n",
    "        contype = '坦白率真白羊座'\n",
    "    elif (month == 4 and day >= 20) or (month == 5 and day <= 20):\n",
    "        contype = '脚踏实地金牛座'\n",
    "    elif (month == 5 and day >= 21) or (month == 6 and day <= 21):\n",
    "        contype = '足智多谋双子座'\n",
    "    elif (month == 6 and day >= 22) or (month == 7 and day <= 22):\n",
    "        contype = '亲切温暖巨蟹座'\n",
    "    elif (month == 7 and day >= 23) or (month == 8 and day <= 22):\n",
    "        contype = '热情开朗狮子座'\n",
    "    elif (month == 8 and day >= 23) or (month == 9 and day <= 22):\n",
    "        contype = '勤奋努力处女座'\n",
    "    elif (month == 9 and day >= 23) or (month == 10 and day <= 23):\n",
    "        contype = '能屈能伸天秤座'\n",
    "    elif (month == 10 and day >= 24) or (month == 11 and day <= 22):\n",
    "        contype = '深谋远虑天蝎座'\n",
    "    elif (month == 11 and day >= 23) or (month == 12 and day <= 21):\n",
    "        contype = '正直坦率射手座'\n",
    "    \n",
    "    return contype\n",
    "\n",
    "name = input('请输入你的姓名，以回车结束。')\n",
    "m = int(input('请输入你出生的月份，以回车结束。'))\n",
    "d = int(input('请输入你出生的日期，以回车结束。'))\n",
    "print('你好',name,user_constellation(m,d))"
   ]
  },
  {
   "cell_type": "code",
   "execution_count": 11,
   "metadata": {},
   "outputs": [
    {
     "name": "stdout",
     "output_type": "stream",
     "text": [
      "请输入一个英文单词（单数形式），以回车结束。life\n",
      "改 f 或 fe为 ve，再加 s\n"
     ]
    }
   ],
   "source": [
    "#练习 4：英文单词单数转复数\n",
    "def English_word(word):\n",
    "    if word.endswith('s') or word.endswith('x') or word.endswith('z') or word.endswith('ch') or word.endswith('sh'):\n",
    "        return word+'es'\n",
    "    elif word.endswith('f') or word.endswith('fe'):\n",
    "        return '改 f 或 fe为 ve，再加 s'\n",
    "    elif word.endswith('y'):\n",
    "        trans = word.maketrans('y','i')\n",
    "        return word.translate(trans)+'es'\n",
    "    elif word.endswith('o'):\n",
    "        if word == 'hero' or word == 'tomato' or word == 'potato':\n",
    "            return word+'es'\n",
    "    else:\n",
    "        return word+'s'\n",
    "\n",
    "word = input('请输入一个英文单词（单数形式），以回车结束。')\n",
    "print(English_word(word))"
   ]
  },
  {
   "cell_type": "markdown",
   "metadata": {},
   "source": [
    "# 挑战性练习：写程序，可以求从整数m到整数n累加的和，间隔为k，求和部分需用函数实现，主程序中由用户输入m，n，k调用函数验证正确性。"
   ]
  },
  {
   "cell_type": "code",
   "execution_count": 13,
   "metadata": {},
   "outputs": [
    {
     "name": "stdout",
     "output_type": "stream",
     "text": [
      "请输入起始整数m，以回车结束。1\n",
      "请输入终止整数n，以回车结束。9\n",
      "请输入间隔整数k，以回车结束。2\n",
      "25\n"
     ]
    }
   ],
   "source": [
    "def sum_k(m,n,k):\n",
    "    total = m\n",
    "    \n",
    "    while m < n:\n",
    "        m = m + k\n",
    "        total += m\n",
    "    \n",
    "    return total\n",
    "\n",
    "m = int(input('请输入起始整数m，以回车结束。'))\n",
    "n = int(input('请输入终止整数n，以回车结束。'))\n",
    "k = int(input('请输入间隔整数k，以回车结束。'))\n",
    "print(sum_k(m,n,k))"
   ]
  },
  {
   "cell_type": "code",
   "execution_count": null,
   "metadata": {
    "collapsed": true
   },
   "outputs": [],
   "source": []
  }
 ],
 "metadata": {
  "kernelspec": {
   "display_name": "Python 3",
   "language": "python",
   "name": "python3"
  },
  "language_info": {
   "codemirror_mode": {
    "name": "ipython",
    "version": 3
   },
   "file_extension": ".py",
   "mimetype": "text/x-python",
   "name": "python",
   "nbconvert_exporter": "python",
   "pygments_lexer": "ipython3",
   "version": "3.6.1"
  }
 },
 "nbformat": 4,
 "nbformat_minor": 2
}
