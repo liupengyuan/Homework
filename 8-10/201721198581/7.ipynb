{
 "cells": [
  {
   "cell_type": "markdown",
   "metadata": {},
   "source": [
    "# $7.9 练习一：自己定义一个reverse(s)函数，功能返回字符串s的倒序字符串。"
   ]
  },
  {
   "cell_type": "code",
   "execution_count": 1,
   "metadata": {},
   "outputs": [
    {
     "name": "stdout",
     "output_type": "stream",
     "text": [
      "飞如马去归花赏\n"
     ]
    }
   ],
   "source": [
    "def reversefun(s):\n",
    "    print(s[len(s)::-1])\n",
    "        \n",
    "def main():\n",
    "    text = '赏花归去马如飞'\n",
    "    reversefun(text)\n",
    "    \n",
    "\n",
    "if __name__ == '__main__':\n",
    "    main()"
   ]
  },
  {
   "cell_type": "markdown",
   "metadata": {},
   "source": [
    "# 练习二：写函数，根据给定符号和行数，打印相应直角三角形，等腰三角形及其他形式的三角形。"
   ]
  },
  {
   "cell_type": "code",
   "execution_count": 27,
   "metadata": {},
   "outputs": [
    {
     "name": "stdout",
     "output_type": "stream",
     "text": [
      "  |\\\n",
      "  | \\\n",
      "  |__\\\n",
      "   /\\\n",
      "  /  \\\n",
      " /    \\\n",
      "/______\\\n",
      "Inside 5 lines draw a triangle:\n",
      "\n",
      "* \n",
      "* * \n",
      "* \n"
     ]
    }
   ],
   "source": [
    "import random\n",
    "\n",
    "def draw_triangle(shape,line):\n",
    "    if(shape == 'rt'):\n",
    "        for i in range(1,line+1):\n",
    "            if i < line:\n",
    "                print(' '*2 + '|' + ' '*(i-1) + '\\\\')\n",
    "            if i == line:\n",
    "                print(' '*2 + '|' + '_'*(i-2) + '_\\\\')\n",
    "    \n",
    "    if(shape == 'isot'):\n",
    "        for i in range(1, line+1):\n",
    "            if i < line:\n",
    "                print(' '*(line-i) + '/' + ' '*(i-1)*2 + '\\\\')\n",
    "            else:\n",
    "                print(' '*(line-i) + '/' + '_'*(i-1)*2 + '\\\\')\n",
    "    \n",
    "    if(shape == 'random'):\n",
    "        print('Inside',line,'lines draw a triangle:\\n')\n",
    "        n = random.randint(1, line)\n",
    "        for i in range(1,n//2):\n",
    "            print('* '*i)\n",
    "        for i in range(n//2,0,-1):\n",
    "            print('* '*i)\n",
    "                \n",
    "def main():\n",
    "    draw_triangle('rt',3)\n",
    "    draw_triangle('isot',4)\n",
    "    draw_triangle('random',5)\n",
    "\n",
    "if __name__ == '__main__':\n",
    "    main()"
   ]
  },
  {
   "cell_type": "markdown",
   "metadata": {},
   "source": [
    "# 练习五：写函数，根据给定符号，打印各种菱形。"
   ]
  },
  {
   "cell_type": "code",
   "execution_count": 22,
   "metadata": {},
   "outputs": [
    {
     "name": "stdout",
     "output_type": "stream",
     "text": [
      "     * * * * \n",
      "    * * * * \n",
      "   * * * * \n",
      "  * * * * \n",
      "\n",
      "* * * * \n",
      "* * * * \n",
      "* * * * \n",
      "* * * * \n",
      "\n",
      "   * \n",
      "  * * \n",
      " * * * \n",
      "* * * * \n",
      " * * * \n",
      "  * * \n",
      "   * \n"
     ]
    }
   ],
   "source": [
    "def draw_rhombus(symbol,edge):\n",
    "    for i in range(edge):\n",
    "        print(' '*(edge-i),symbol*edge)\n",
    "    print ()   \n",
    "    for k in range(edge):\n",
    "        print(symbol*edge)\n",
    "    print ()    \n",
    "    for j in range(1,edge*2):\n",
    "        if j <= edge:\n",
    "            print(' '*(edge-j) + symbol*j)\n",
    "        elif j > edge:\n",
    "            print(' '*(j-edge) + symbol*(j-(j-edge)*2))\n",
    "\n",
    "def main():\n",
    "    draw_rhombus('* ',4)\n",
    "\n",
    "if __name__ == '__main__':\n",
    "    main()"
   ]
  },
  {
   "cell_type": "code",
   "execution_count": null,
   "metadata": {
    "collapsed": true
   },
   "outputs": [],
   "source": []
  }
 ],
 "metadata": {
  "kernelspec": {
   "display_name": "Python 3",
   "language": "python",
   "name": "python3"
  },
  "language_info": {
   "codemirror_mode": {
    "name": "ipython",
    "version": 3
   },
   "file_extension": ".py",
   "mimetype": "text/x-python",
   "name": "python",
   "nbconvert_exporter": "python",
   "pygments_lexer": "ipython3",
   "version": "3.6.1"
  }
 },
 "nbformat": 4,
 "nbformat_minor": 2
}
