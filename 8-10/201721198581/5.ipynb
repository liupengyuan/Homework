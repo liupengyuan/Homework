{
 "cells": [
  {
   "cell_type": "markdown",
   "metadata": {},
   "source": [
    "# 练习 1：写函数，求n个随机整数均值的平方根，整数范围在m与k之间（n,m,k由用户输入）。"
   ]
  },
  {
   "cell_type": "code",
   "execution_count": 2,
   "metadata": {},
   "outputs": [
    {
     "name": "stdout",
     "output_type": "stream",
     "text": [
      "请输入第1个整数n，以回车结束。3\n",
      "请输入第2个整数m，以回车结束。1\n",
      "请输入第3个整数k，以回车结束。9\n",
      "2.449489742783178\n"
     ]
    }
   ],
   "source": [
    "import random, math\n",
    "\n",
    "def mean_square(n,m,k):\n",
    "    i = 0\n",
    "    total = 0\n",
    "    \n",
    "    while i < n:\n",
    "        i = i + 1\n",
    "        number = random.randint(m, k)\n",
    "        total += number\n",
    "    mean = total/n\n",
    "    return math.sqrt(mean)\n",
    "\n",
    "n = int(input('请输入第1个整数n，以回车结束。'))\n",
    "m = int(input('请输入第2个整数m，以回车结束。'))\n",
    "k = int(input('请输入第3个整数k，以回车结束。'))\n",
    "print(mean_square(n,m,k))"
   ]
  },
  {
   "cell_type": "markdown",
   "metadata": {},
   "source": [
    "# 练习 2：写函数，共n个随机整数，整数范围在m与k之间，（n,m,k由用户输入）。求1：西格玛log(随机整数)，2：西格玛1/log(随机整数)"
   ]
  },
  {
   "cell_type": "code",
   "execution_count": 3,
   "metadata": {},
   "outputs": [
    {
     "name": "stdout",
     "output_type": "stream",
     "text": [
      "请输入第1个整数n，以回车结束。3\n",
      "请输入第2个整数m，以回车结束。2\n",
      "请输入第3个整数k，以回车结束。8\n",
      "(5.683579767338681, 1.5859073112907487)\n"
     ]
    }
   ],
   "source": [
    "import random, math\n",
    "\n",
    "def sigmoid_log(n,m,k):\n",
    "    i = 0\n",
    "    s1 = 0\n",
    "    s2 = 0\n",
    "    \n",
    "    while i < n:\n",
    "        i = i + 1\n",
    "        number = random.randint(m, k)\n",
    "        s1 += math.log(number)\n",
    "        s2 += 1/math.log(number)\n",
    "    return s1,s2\n",
    "\n",
    "n = int(input('请输入第1个整数n，以回车结束。'))\n",
    "m = int(input('请输入第2个整数m，以回车结束。'))\n",
    "k = int(input('请输入第3个整数k，以回车结束。'))\n",
    "print(sigmoid_log(n,m,k))"
   ]
  },
  {
   "cell_type": "code",
   "execution_count": null,
   "metadata": {
    "collapsed": true
   },
   "outputs": [],
   "source": []
  }
 ],
 "metadata": {
  "kernelspec": {
   "display_name": "Python 3",
   "language": "python",
   "name": "python3"
  },
  "language_info": {
   "codemirror_mode": {
    "name": "ipython",
    "version": 3
   },
   "file_extension": ".py",
   "mimetype": "text/x-python",
   "name": "python",
   "nbconvert_exporter": "python",
   "pygments_lexer": "ipython3",
   "version": "3.6.1"
  }
 },
 "nbformat": 4,
 "nbformat_minor": 2
}
