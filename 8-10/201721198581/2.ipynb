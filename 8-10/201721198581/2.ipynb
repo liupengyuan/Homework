{
 "cells": [
  {
   "cell_type": "markdown",
   "metadata": {},
   "source": [
    "# ex1"
   ]
  },
  {
   "cell_type": "code",
   "execution_count": 1,
   "metadata": {},
   "outputs": [
    {
     "name": "stdout",
     "output_type": "stream",
     "text": [
      "I`m OK.\n"
     ]
    }
   ],
   "source": [
    "print('I`m OK.')"
   ]
  },
  {
   "cell_type": "markdown",
   "metadata": {},
   "source": [
    "#(已运行ex1.py 脚本文件；交互模式已完成)"
   ]
  },
  {
   "cell_type": "markdown",
   "metadata": {},
   "source": [
    "# $2.8 练习1 打印n!"
   ]
  },
  {
   "cell_type": "code",
   "execution_count": 2,
   "metadata": {},
   "outputs": [
    {
     "name": "stdout",
     "output_type": "stream",
     "text": [
      "请输入一个正整数，以回车结束。6\n",
      "720\n"
     ]
    }
   ],
   "source": [
    "n = int(input('请输入一个正整数，以回车结束。'))\n",
    "\n",
    "i = 1\n",
    "product = 1\n",
    "\n",
    "while i < n:\n",
    "    i = i + 1\n",
    "    product = product * i\n",
    "    \n",
    "print(product)"
   ]
  },
  {
   "cell_type": "markdown",
   "metadata": {},
   "source": [
    "# 练习2 写出由用户指定整数个数，并由用户输入多个整数，并求和的代码。"
   ]
  },
  {
   "cell_type": "code",
   "execution_count": 4,
   "metadata": {},
   "outputs": [
    {
     "name": "stdout",
     "output_type": "stream",
     "text": [
      "请输入你所求和的整数个数，以回车结束。3\n",
      "请输入一个正整数，以回车结束。1\n",
      "请输入一个正整数，以回车结束。2\n",
      "请输入一个正整数，以回车结束。3\n",
      "n个数的和是： 6\n"
     ]
    }
   ],
   "source": [
    "number = int(input('请输入你所求和的整数个数，以回车结束。'))\n",
    "n = number\n",
    "\n",
    "i = 0\n",
    "total = 0\n",
    "while i < n:\n",
    "    i = i + 1\n",
    "    m = int(input('请输入一个正整数，以回车结束。'))\n",
    "    total = total + m\n",
    "\n",
    "print('n个数的和是：', total)"
   ]
  },
  {
   "cell_type": "markdown",
   "metadata": {},
   "source": [
    "# 练习3：用户可以输入的任意多个数字，直到用户不想输入为止。"
   ]
  },
  {
   "cell_type": "code",
   "execution_count": 5,
   "metadata": {},
   "outputs": [
    {
     "name": "stdout",
     "output_type": "stream",
     "text": [
      "请输入一个正整数，并回车；若要停止输入，请输入q。2\n",
      "请输入一个正整数，并回车；若要停止输入，请输入q。44\n",
      "请输入一个正整数，并回车；若要停止输入，请输入q。5\n",
      "请输入一个正整数，并回车；若要停止输入，请输入q。1\n",
      "请输入一个正整数，并回车；若要停止输入，请输入q。q\n"
     ]
    }
   ],
   "source": [
    "m = input('请输入一个正整数，并回车；若要停止输入，请输入q。')\n",
    "while m != 'q':\n",
    "    m = input('请输入一个正整数，并回车；若要停止输入，请输入q。')\n",
    "if m == 'q':\n",
    "    exit()"
   ]
  },
  {
   "cell_type": "markdown",
   "metadata": {},
   "source": [
    "# 练习4：用户可以输入的任意多个数字，直到输入所有数字的和比当前输入数字小，且输入所有数字的积比当前输入数字的平方大。"
   ]
  },
  {
   "cell_type": "code",
   "execution_count": 1,
   "metadata": {},
   "outputs": [
    {
     "name": "stdout",
     "output_type": "stream",
     "text": [
      "pls input a positive number:9\n",
      "pls input a positive number:407\n",
      "pls input a positive number:367\n",
      "pls input a positive number:837\n"
     ]
    }
   ],
   "source": [
    "total = 0\n",
    "product = 1\n",
    "m = int(input('pls input a positive number:'))\n",
    "square = m * m\n",
    "while 1:\n",
    "    if total < m and product > square:\n",
    "        break\n",
    "    \n",
    "    total = total + m\n",
    "    product = product * m\n",
    "    square = m * m\n",
    "    m = int(input('pls input a positive number:'))"
   ]
  },
  {
   "cell_type": "code",
   "execution_count": null,
   "metadata": {
    "collapsed": true
   },
   "outputs": [],
   "source": []
  }
 ],
 "metadata": {
  "kernelspec": {
   "display_name": "Python 3",
   "language": "python",
   "name": "python3"
  },
  "language_info": {
   "codemirror_mode": {
    "name": "ipython",
    "version": 3
   },
   "file_extension": ".py",
   "mimetype": "text/x-python",
   "name": "python",
   "nbconvert_exporter": "python",
   "pygments_lexer": "ipython3",
   "version": "3.6.1"
  }
 },
 "nbformat": 4,
 "nbformat_minor": 2
}
