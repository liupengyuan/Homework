{
 "cells": [
  {
   "cell_type": "code",
   "execution_count": null,
   "metadata": {},
   "outputs": [
    {
     "name": "stdout",
     "output_type": "stream",
     "text": [
      "时见归村人沙行渡头歇 幼为长所育两别泣不休\n",
      "羁旅长堪醉相留畏晓钟 坐观垂钓者空有羡鱼情\n",
      "有弟皆分散无家问死生 蕃情似此水长愿向南流\n"
     ]
    }
   ],
   "source": [
    "i=20#玩家的初始分值\n",
    "while i!=0:\n",
    "    poemss=open(r'd:temp\\五言诗库.txt')\n",
    "    text=poemss.read()\n",
    "    text=text.replace('，','')\n",
    "    text=text.replace('。','')\n",
    "    poems=text.split('\\n')\n",
    "    \n",
    "    import random\n",
    "    guess_poem=[p for p in poems]\n",
    "    while len(guess_poem)<6:\n",
    "        p=random.choice(poems)\n",
    "        if p not in guess_poem:\n",
    "            guess_poem.append(p)\n",
    "    real_answer=guess_poem\n",
    "    random.shuffle(guess_poem)\n",
    "    for b in range(0,6,2):\n",
    "        print(guess_poem[b],guess_poem[b+1])\n",
    "    you_answer=input('请输入你的答案')\n",
    "    if you_answer==real_answer:\n",
    "        i+=10\n",
    "        print('恭喜你，答对了！')\n",
    "    if you_answer!=real_answer:\n",
    "        i-=10\n",
    "        print('很遗憾，答错了。')\n",
    "        print('正确答案是：',real_answer)\n",
    "else:\n",
    "    print('游戏结束。')\n",
    "        \n",
    "    "
   ]
  },
  {
   "cell_type": "code",
   "execution_count": null,
   "metadata": {},
   "outputs": [],
   "source": []
  }
 ],
 "metadata": {
  "kernelspec": {
   "display_name": "Python 3",
   "language": "python",
   "name": "python3"
  },
  "language_info": {
   "codemirror_mode": {
    "name": "ipython",
    "version": 3
   },
   "file_extension": ".py",
   "mimetype": "text/x-python",
   "name": "python",
   "nbconvert_exporter": "python",
   "pygments_lexer": "ipython3",
   "version": "3.6.3"
  }
 },
 "nbformat": 4,
 "nbformat_minor": 2
}
