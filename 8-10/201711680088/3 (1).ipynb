{
 "cells": [
  {
   "cell_type": "code",
   "execution_count": 6,
   "metadata": {},
   "outputs": [
    {
     "name": "stdout",
     "output_type": "stream",
     "text": [
      "请输入一个正整数8\n",
      "请输入一个正整数9\n",
      "1为求和，2为求积，3为求余数，4为求整除值2\n",
      "72\n"
     ]
    }
   ],
   "source": [
    "#练习 2：写程序，可由键盘读入两个整数m与n(n不等于0)，询问用户意图，如果要求和则计算从m到n的和输出，如果要乘积\n",
    "#则计算从m到n的积并输出，如果要求余数则计算m除以n的余数的值并输出，否则则计算m整除n的值并输出。\n",
    "n=int(input('请输入一个正整数'))\n",
    "m=int(input('请输入一个正整数'))\n",
    "s=int(input('1为求和，2为求积，3为求余数，4为求整除值'))\n",
    "if s==1:\n",
    "    print(m+n)\n",
    "elif s==2:\n",
    "    print(m*n)\n",
    "elif s==3:\n",
    "    print(m%n)\n",
    "else :\n",
    "    print(m/n)"
   ]
  },
  {
   "cell_type": "code",
   "execution_count": 7,
   "metadata": {},
   "outputs": [
    {
     "name": "stdout",
     "output_type": "stream",
     "text": [
      "请输入字符串：house\n",
      "houses\n"
     ]
    }
   ],
   "source": [
    "my_str=input('请输入字符串：')\n",
    "if my_str.endswith('e'):\n",
    "    print(my_str+'s')\n",
    "elif my_str.endswith('o') or my_str.endswith('s') or my_str.endswith('x') or my_str.endswith('ch') or my_str.endswith('sh'):\n",
    "    print(my_str+'es')\n",
    "elif my_str.endswith('y'):\n",
    "    my_str=list(my_str)\n",
    "    my_str[-1]='ies'\n",
    "    print(\"\".join(my_str))\n",
    "else:    \n",
    "    print(my_str+'s')"
   ]
  }
 ],
 "metadata": {
  "kernelspec": {
   "display_name": "Python 3",
   "language": "python",
   "name": "python3"
  },
  "language_info": {
   "codemirror_mode": {
    "name": "ipython",
    "version": 3
   },
   "file_extension": ".py",
   "mimetype": "text/x-python",
   "name": "python",
   "nbconvert_exporter": "python",
   "pygments_lexer": "ipython3",
   "version": "3.6.3"
  }
 },
 "nbformat": 4,
 "nbformat_minor": 2
}
