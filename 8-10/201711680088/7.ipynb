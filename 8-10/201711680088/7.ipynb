{
 "cells": [
  {
   "cell_type": "code",
   "execution_count": 25,
   "metadata": {},
   "outputs": [
    {
     "name": "stdout",
     "output_type": "stream",
     "text": [
      "['wiggle', 'freak', 'humidity', 'teensy', 'busted']\n"
     ]
    }
   ],
   "source": [
    "#练习一：自己定义一个reverse(s)函数，功能返回字符串s的倒序字符串。\n",
    "s=['busted','teensy','humidity','freak','wiggle']\n",
    "s.reverse()\n",
    "print(s)"
   ]
  },
  {
   "cell_type": "code",
   "execution_count": 39,
   "metadata": {},
   "outputs": [
    {
     "name": "stdout",
     "output_type": "stream",
     "text": [
      "红\n",
      "红红\n",
      "红酥红\n",
      "红酥酥红\n",
      "红酥手酥红\n",
      "红酥手手酥红\n",
      "------------------------------\n",
      "      手酥红\n",
      "     红\n",
      "    红红\n",
      "   红酥红\n",
      "  红酥酥红\n",
      " 红酥手酥红\n",
      "------------------------------\n",
      " 爱   爱\n",
      "爱 爱 爱 爱 \n",
      " 爱 爱 爱\n",
      "  爱 爱\n",
      "   爱\n"
     ]
    }
   ],
   "source": [
    "#练习二：写函数，根据给定符号和行数，打印相应直角三角形，等腰三角形及其他形式的\n",
    "#三角形。\n",
    "line='红酥手'\n",
    "for i in range(1,len(line)*2+1):\n",
    "    if i==1:\n",
    "        print(line[0])\n",
    "    elif i%2==1:\n",
    "        print(line[:i//2]+line[i//2]+line[i//2-1::-1])\n",
    "    else:\n",
    "        print(line[:i//2]+line[i//2-1::-1])\n",
    "print('-'*30)\n",
    "for i in range(len(line)*2):\n",
    "    if i==1:\n",
    "        print(' '*(len(line)*2-1)+line[0])\n",
    "    elif i%2==1:\n",
    "        print(' '*(len(line)*2-i)+line[:i//2]+line[i//2]+line[i//2-1::-1])\n",
    "    else:\n",
    "        print(' '*(len(line)*2-i)+line[:i//2]+line[i//2-1::-1])\n",
    "print('-'*30)\n",
    "line_1='爱'\n",
    "for i in range(1,6):\n",
    "    if i==1:\n",
    "        print(' '+line_1+' '*3+line_1)\n",
    "    elif i==2:\n",
    "        print((line_1+' ')*4)\n",
    "    elif i==3:\n",
    "        print((' '+line_1)*3)\n",
    "    elif i==4:\n",
    "        print(' '*2+line_1+' '+line_1)\n",
    "    else:\n",
    "        print(' '*3+line_1)"
   ]
  },
  {
   "cell_type": "code",
   "execution_count": 3,
   "metadata": {},
   "outputs": [
    {
     "name": "stdout",
     "output_type": "stream",
     "text": [
      " -\n",
      "| |\n",
      " -\n",
      "------------------------------\n",
      " ----------\n",
      "|          |\n",
      " ----------\n",
      "------------------------------\n",
      "  ----------\n",
      " /         /\n",
      "/         /\n",
      "----------\n"
     ]
    }
   ],
   "source": [
    "#练习五：写函数，根据给定符号，打印各种菱形。\n",
    "for i in range(1,4):\n",
    "    if i==1:\n",
    "        print(' '+'-')\n",
    "    elif i==2:\n",
    "        print('|'+' '+'|')\n",
    "    else:\n",
    "        print(' '+'-')\n",
    "print('-'*30)\n",
    "for i in range(1,4):\n",
    "    if i==1:\n",
    "        print(' '+'-'*10)\n",
    "    elif i==2:\n",
    "        print('|'+' '*10+'|')\n",
    "    else:\n",
    "        print(' '+'-'*10)\n",
    "print('-'*30)\n",
    "for i in range(1,5):\n",
    "    if i==1:\n",
    "        print(' '*2+'-'*10)\n",
    "    elif i==2:\n",
    "        print(' '+'/'+' '*9+'/')\n",
    "    elif i==3:\n",
    "        print('/'+' '*9+'/')\n",
    "    else:\n",
    "        print('-'*10)\n",
    "        "
   ]
  },
  {
   "cell_type": "code",
   "execution_count": null,
   "metadata": {},
   "outputs": [],
   "source": []
  }
 ],
 "metadata": {
  "kernelspec": {
   "display_name": "Python 3",
   "language": "python",
   "name": "python3"
  },
  "language_info": {
   "codemirror_mode": {
    "name": "ipython",
    "version": 3
   },
   "file_extension": ".py",
   "mimetype": "text/x-python",
   "name": "python",
   "nbconvert_exporter": "python",
   "pygments_lexer": "ipython3",
   "version": "3.6.3"
  }
 },
 "nbformat": 4,
 "nbformat_minor": 2
}
