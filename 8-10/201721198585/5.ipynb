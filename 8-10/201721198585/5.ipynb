{
 "cells": [
  {
   "cell_type": "markdown",
   "metadata": {},
   "source": [
    "# 练习 1：写函数，求n个随机整数均值的平方根，整数范围在m与k之间（n,m,k由用户输入）。"
   ]
  },
  {
   "cell_type": "code",
   "execution_count": 6,
   "metadata": {},
   "outputs": [
    {
     "name": "stdout",
     "output_type": "stream",
     "text": [
      "请输入整数个数n，以回车结束。5\n",
      "请输入整数范围[m,k]\n",
      "请输入整数m，以回车结束。100\n",
      "请输入整数k，以回车结束。170\n",
      "第 1 个随机数： 119\n",
      "第 2 个随机数： 152\n",
      "第 3 个随机数： 141\n",
      "第 4 个随机数： 116\n",
      "第 5 个随机数： 159\n",
      "和为： 710\n",
      "均值为： 142.0\n",
      "结果为： 11.916375287812984\n"
     ]
    }
   ],
   "source": [
    "import random, math\n",
    "\n",
    "def Suqare(n,m,k):\n",
    "    i=0;\n",
    "    Sum=0;\n",
    "    while i<n:\n",
    "        rand = random.randint(m,k)\n",
    "        Sum = Sum + random.randint(m,k)\n",
    "        i += 1\n",
    "        print('第',i,'个随机数：',rand)   \n",
    "    \n",
    "    average = Sum / n\n",
    "    print('和为：',Sum)\n",
    "    print('均值为：',average)\n",
    "    return math.sqrt(average)\n",
    "    \n",
    "n = int(input('请输入整数个数n，以回车结束。'))\n",
    "print('请输入整数范围[m,k]')\n",
    "m = int(input('请输入整数m，以回车结束。'))\n",
    "k = int(input('请输入整数k，以回车结束。'))\n",
    "print('结果为：',Suqare(n,m,k))"
   ]
  },
  {
   "cell_type": "markdown",
   "metadata": {},
   "source": [
    "# 练习 2：写函数，共n个随机整数，整数范围在m与k之间，（n,m,k由用户输入）。求1：西格玛log(随机整数)，2：西格玛1/log(随机整数)"
   ]
  },
  {
   "cell_type": "code",
   "execution_count": 8,
   "metadata": {},
   "outputs": [
    {
     "name": "stdout",
     "output_type": "stream",
     "text": [
      "请输入随机数个数n，以回车结束。5\n",
      "请输入随机数范围[m,k]\n",
      "请输入整数m，以回车结束。10\n",
      "请输入整数k，以回车结束。200\n",
      "第 1 个随机数： 69\n",
      "第 2 个随机数： 156\n",
      "第 3 个随机数： 199\n",
      "第 4 个随机数： 46\n",
      "第 5 个随机数： 18\n",
      "西格玛log(随机整数)结果为： 30.724038253683393\n",
      "西格玛1/log(随机整数)结果为： 0.8527694056160621\n"
     ]
    }
   ],
   "source": [
    "import random, math\n",
    "\n",
    "def Sigma(n,m,k):\n",
    "    i=0;\n",
    "    Sum1=0;\n",
    "    Sum2=0;\n",
    "    while i<n:\n",
    "        rand = random.randint(m,k)\n",
    "        Sum1 = Sum1 + math.log2(rand)\n",
    "        Sum2 = Sum2 + 1/ math.log2(rand)\n",
    "        i += 1\n",
    "        print('第',i,'个随机数：',rand)   \n",
    "    \n",
    "    return Sum1,Sum2\n",
    "\n",
    "n = int(input('请输入随机数个数n，以回车结束。'))\n",
    "print('请输入随机数范围[m,k]')\n",
    "m = int(input('请输入整数m，以回车结束。'))\n",
    "k = int(input('请输入整数k，以回车结束。'))\n",
    "sigma1,sigma2 =Sigma(n,m,k)\n",
    "print('西格玛log(随机整数)结果为：',sigma1)\n",
    "print('西格玛1/log(随机整数)结果为：',sigma2)\n"
   ]
  },
  {
   "cell_type": "code",
   "execution_count": null,
   "metadata": {},
   "outputs": [],
   "source": []
  }
 ],
 "metadata": {
  "kernelspec": {
   "display_name": "Python 3",
   "language": "python",
   "name": "python3"
  },
  "language_info": {
   "codemirror_mode": {
    "name": "ipython",
    "version": 3
   },
   "file_extension": ".py",
   "mimetype": "text/x-python",
   "name": "python",
   "nbconvert_exporter": "python",
   "pygments_lexer": "ipython3",
   "version": "3.6.0"
  }
 },
 "nbformat": 4,
 "nbformat_minor": 2
}
