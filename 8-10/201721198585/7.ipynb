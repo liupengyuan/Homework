{
 "cells": [
  {
   "cell_type": "markdown",
   "metadata": {},
   "source": [
    "# 练习一：自己定义一个reverse(s)函数，功能返回字符串s的倒序字符串。"
   ]
  },
  {
   "cell_type": "code",
   "execution_count": 7,
   "metadata": {},
   "outputs": [
    {
     "name": "stdout",
     "output_type": "stream",
     "text": [
      "小山众览一\n"
     ]
    }
   ],
   "source": [
    "def reverse(s):\n",
    "    tmp=s[-1::-1]\n",
    "    return tmp\n",
    "\n",
    "str='一览众山小'\n",
    "print(reverse(str))"
   ]
  },
  {
   "cell_type": "markdown",
   "metadata": {},
   "source": [
    "# 练习二：写函数，根据给定符号和行数，打印相应直角三角形，等腰三角形及其他形式的三角形。"
   ]
  },
  {
   "cell_type": "code",
   "execution_count": 18,
   "metadata": {},
   "outputs": [
    {
     "name": "stdout",
     "output_type": "stream",
     "text": [
      "    0\n",
      "   000\n",
      "  00000\n",
      " 0000000\n",
      "000000000\n",
      "\n",
      "#\n",
      "##\n",
      "###\n",
      "####\n",
      "#####\n",
      "######\n",
      "#######\n",
      "########\n",
      "#########\n",
      "       好\n",
      "      好好\n",
      "     好好好\n",
      "    好好好好\n",
      "   好好好好好\n",
      "  好好好好好好\n",
      " 好好好好好好好\n",
      "好好好好好好好好\n"
     ]
    }
   ],
   "source": [
    "def equi_triangle(mark,n):\n",
    "    for i in range(0,n):\n",
    "        print(' '* (n-i-1) + mark*(2*i+1))\n",
    "\n",
    "def rect_triangle(mark,n):\n",
    "    for i in range(0,n):\n",
    "        print(mark*i)\n",
    "\n",
    "def HZ_triangle(mark,n):\n",
    "    for i in range(1,n+1):\n",
    "        print(' '* (n-i) + mark*i)\n",
    "\n",
    "equi_triangle('0',5)\n",
    "rect_triangle('#',10)\n",
    "HZ_triangle('好',8)"
   ]
  },
  {
   "cell_type": "markdown",
   "metadata": {},
   "source": [
    "# 练习五：写函数，根据给定符号，打印各种菱形。"
   ]
  },
  {
   "cell_type": "code",
   "execution_count": 14,
   "metadata": {},
   "outputs": [
    {
     "name": "stdout",
     "output_type": "stream",
     "text": [
      "   o\n",
      "  ooo\n",
      " ooooo\n",
      "ooooooo\n",
      " ooooo\n",
      "  ooo\n",
      "   o\n",
      "     o\n",
      "    ooo\n",
      "   ooooo\n",
      "  ooooooo\n",
      " ooooooooo\n",
      "ooooooooooo\n",
      " ooooooooo\n",
      "  ooooooo\n",
      "   ooooo\n",
      "    ooo\n",
      "     o\n"
     ]
    }
   ],
   "source": [
    "def diamond1(mark,n_odd):\n",
    "    m=int(n_odd/2)\n",
    "    for i in range(0,m+1):\n",
    "        print(' '* (m-i) + mark*(2*i+1))\n",
    "        \n",
    "    for i in range(0,m):\n",
    "        print(' '* (i+1) + mark*((m-i-1)*2+1))\n",
    "        \n",
    "diamond1('o',7)\n",
    "diamond1('o',11)"
   ]
  },
  {
   "cell_type": "code",
   "execution_count": null,
   "metadata": {},
   "outputs": [],
   "source": []
  }
 ],
 "metadata": {
  "kernelspec": {
   "display_name": "Python 3",
   "language": "python",
   "name": "python3"
  },
  "language_info": {
   "codemirror_mode": {
    "name": "ipython",
    "version": 3
   },
   "file_extension": ".py",
   "mimetype": "text/x-python",
   "name": "python",
   "nbconvert_exporter": "python",
   "pygments_lexer": "ipython3",
   "version": "3.6.0"
  }
 },
 "nbformat": 4,
 "nbformat_minor": 2
}
