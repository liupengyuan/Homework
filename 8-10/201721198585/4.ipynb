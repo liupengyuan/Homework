{
 "cells": [
  {
   "cell_type": "markdown",
   "metadata": {
    "scrolled": false
   },
   "source": [
    "# 练习 1：仿照求$ \\sum_{i=1}^mi + \\sum_{i=1}^ni  + \\sum_{i=1}^ki$的完整代码，写程序，可求m!+n!+k!"
   ]
  },
  {
   "cell_type": "code",
   "execution_count": 6,
   "metadata": {},
   "outputs": [
    {
     "name": "stdout",
     "output_type": "stream",
     "text": [
      "请输入第1个整数，以回车结束。4\n",
      "请输入第2个整数，以回车结束。5\n",
      "请输入第3个整数，以回车结束。6\n",
      "m!+n!+k!= 864\n"
     ]
    }
   ],
   "source": [
    "def compute_product(end):\n",
    "    i = 0\n",
    "    total_n = 1\n",
    "    while i < end:\n",
    "        i = i + 1\n",
    "        total_n = total_n * i\n",
    "        \n",
    "    return total_n\n",
    "\n",
    "m = int(input('请输入第1个整数，以回车结束。'))\n",
    "n = int(input('请输入第2个整数，以回车结束。'))\n",
    "k = int(input('请输入第3个整数，以回车结束。'))\n",
    "\n",
    "print('m!+n!+k!=', compute_product(m) + compute_product(n) + compute_product(k))\n",
    "\n"
   ]
  },
  {
   "cell_type": "markdown",
   "metadata": {},
   "source": [
    "# 练习 2：写函数可返回1 - 1/3 + 1/5 - 1/7...的前n项的和。在主程序中，分别令n=1000及100000，打印4倍该函数的和。"
   ]
  },
  {
   "cell_type": "code",
   "execution_count": 9,
   "metadata": {},
   "outputs": [
    {
     "name": "stdout",
     "output_type": "stream",
     "text": [
      "n=1000,4倍该函数的值： 3.140592653839794\n",
      "n=100000,4倍该函数的值： 3.1415826535897198\n"
     ]
    }
   ],
   "source": [
    "def compute_sum(end):\n",
    "    i = 0\n",
    "    total_n = 0\n",
    "    while i < end:\n",
    "        i = i + 1\n",
    "        total_n = total_n +(-1)**(i+1)/(2*i-1)\n",
    "    return total_n\n",
    "\n",
    "n=1000\n",
    "print('n=1000,4倍该函数的值：',compute_sum(n)*4)\n",
    "n=100000\n",
    "print('n=100000,4倍该函数的值：',compute_sum(n)*4)"
   ]
  },
  {
   "cell_type": "markdown",
   "metadata": {},
   "source": [
    "# 练习 3：将task3中的练习1及练习4改写为函数，并进行调用。"
   ]
  },
  {
   "cell_type": "code",
   "execution_count": 6,
   "metadata": {},
   "outputs": [
    {
     "name": "stdout",
     "output_type": "stream",
     "text": [
      "请输入你的姓名,回车结束：Lucy\n",
      "请输入月份，回车结束：6\n",
      "请输入日期，回车结束：3\n",
      "Lucy 你是双子座\n",
      "pear 的复数形式: pears\n"
     ]
    }
   ],
   "source": [
    "def zodiac(name,month,day):\n",
    "    if month <1 or month > 31 or day <1 or day > 31:\n",
    "        print('月份或日期不合理。')\n",
    "    else:    \n",
    "        if month == 1:\n",
    "            if 32> day > 19:\n",
    "                print(name,'你是水瓶座')\n",
    "            else:\n",
    "                print(name,'你是摩羯座')\n",
    "        elif month == 2:\n",
    "            if 30 > day > 18:\n",
    "                print(name,'你是双鱼座')\n",
    "            else:\n",
    "                print(name,'你是水瓶座')\n",
    "        elif month == 3:\n",
    "            if 32> day > 20:\n",
    "                print(name,'你是白羊座')\n",
    "            else:\n",
    "                print(name,'你是双鱼座')\n",
    "        elif month == 4:\n",
    "            if 31> day > 19:\n",
    "                print(name,'你是金牛座')\n",
    "            else:\n",
    "                print(name,'你是白羊座')\n",
    "        elif month == 5:\n",
    "            if 31> day > 20:\n",
    "                print(name,'你是双子座')\n",
    "            else:\n",
    "                print(name,'你是金牛座')\n",
    "        elif month == 6:\n",
    "            if 31> day > 21:\n",
    "                print(name,'你是巨蟹座')\n",
    "            else:\n",
    "                print(name,'你是双子座')\n",
    "        elif month == 7:\n",
    "            if 32> day > 22:\n",
    "                print(name,'你是狮子座')\n",
    "            else:\n",
    "                print(name,'你是巨蟹座')\n",
    "        elif month == 8:\n",
    "            if 32> day > 22:\n",
    "                print(name,'你是处女座')\n",
    "            else:\n",
    "                print(name,'你是狮子座')\n",
    "        elif month == 9:\n",
    "            if 31> day > 22:\n",
    "                print(name,'你是天秤座')\n",
    "            else:\n",
    "                print(name,'你是处女座')\n",
    "        elif month == 10:\n",
    "            if 32> day > 23:\n",
    "                print(name,'你是天蝎座')\n",
    "            else:\n",
    "                print(name,'你是天秤座')\n",
    "        elif month == 11:\n",
    "            if 31> day > 22:\n",
    "                print(name,'你是射手座')\n",
    "            else:\n",
    "                print(name,'你是天蝎座')\n",
    "        elif month == 12:\n",
    "            if 32> day > 21:\n",
    "                print(name,'你是摩羯座')\n",
    "            else:\n",
    "                print(name,'你是射手座')\n",
    "                \n",
    "def NounPlural(word):\n",
    "    if word.endswith('y'):  \n",
    "          new = word[:-1] + 'ies'  \n",
    "    elif word[-1] in ['s','z','x'] or word[-2:] in ['sh', 'ch']:  \n",
    "          new = word + 'es'    \n",
    "    else:  \n",
    "          new = word + 's' \n",
    "    \n",
    "    return new\n",
    "s_name=input('请输入你的姓名,回车结束：')\n",
    "n_month=int(input('请输入月份，回车结束：'))\n",
    "n_day=int(input('请输入日期，回车结束：'))\n",
    "zodiac(s_name,n_month,n_day)\n",
    "noun='pear'\n",
    "print(noun,'的复数形式:',NounPlural(noun))\n"
   ]
  },
  {
   "cell_type": "markdown",
   "metadata": {},
   "source": [
    "# 挑战性练习：写程序，可以求从整数m到整数n累加的和，间隔为k，求和部分需用函数实现，主程序中由用户输入m，n，k调用函数验证正确性。"
   ]
  },
  {
   "cell_type": "code",
   "execution_count": 5,
   "metadata": {},
   "outputs": [
    {
     "name": "stdout",
     "output_type": "stream",
     "text": [
      "请输入整数m，回车结束。15\n",
      "请输入整数n，回车结束。20\n",
      "请输入间隔k，回车结束。2\n",
      "m到n以间隔k进行累加，和为： 71\n"
     ]
    }
   ],
   "source": [
    "def Sum(m,n,k):\n",
    "    i = m\n",
    "    total_n = 0\n",
    "    while i < n:\n",
    "        total_n = total_n + i\n",
    "        i = i + k\n",
    "    total_n = total_n + n\n",
    "    return total_n\n",
    "\n",
    "s1 = int(input('请输入整数m，回车结束。'))\n",
    "s2 = int(input('请输入整数n，回车结束。'))\n",
    "s3 = int(input('请输入间隔k，回车结束。'))\n",
    "print('m到n以间隔k进行累加，和为：',Sum(s1,s2,s3))"
   ]
  },
  {
   "cell_type": "code",
   "execution_count": null,
   "metadata": {},
   "outputs": [],
   "source": []
  }
 ],
 "metadata": {
  "kernelspec": {
   "display_name": "Python 3",
   "language": "python",
   "name": "python3"
  },
  "language_info": {
   "codemirror_mode": {
    "name": "ipython",
    "version": 3
   },
   "file_extension": ".py",
   "mimetype": "text/x-python",
   "name": "python",
   "nbconvert_exporter": "python",
   "pygments_lexer": "ipython3",
   "version": "3.6.0"
  }
 },
 "nbformat": 4,
 "nbformat_minor": 2
}
