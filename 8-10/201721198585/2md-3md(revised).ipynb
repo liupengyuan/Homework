{
 "cells": [
  {
   "cell_type": "markdown",
   "metadata": {},
   "source": [
    "# 2.md"
   ]
  },
  {
   "cell_type": "markdown",
   "metadata": {},
   "source": [
    "练习1"
   ]
  },
  {
   "cell_type": "code",
   "execution_count": 1,
   "metadata": {},
   "outputs": [
    {
     "name": "stdout",
     "output_type": "stream",
     "text": [
      "计算n!。请输入一个正整数n，以回车结束。6\n",
      "720\n"
     ]
    }
   ],
   "source": [
    "n = int(input('计算n!。请输入一个正整数n，以回车结束。'))\n",
    "\n",
    "i = 1\n",
    "total = 1\n",
    "\n",
    "while i < n:\n",
    "    i = i + 1\n",
    "    total = total * i\n",
    "    \n",
    "print(total)"
   ]
  },
  {
   "cell_type": "markdown",
   "metadata": {},
   "source": [
    "实践1"
   ]
  },
  {
   "cell_type": "code",
   "execution_count": 3,
   "metadata": {},
   "outputs": [
    {
     "name": "stdout",
     "output_type": "stream",
     "text": [
      "请输入你的姓名，以回车结束。哈哈\n",
      "你好 哈哈\n",
      "请输入一个正整数，以回车结束。3\n",
      "请输入一个正整数，以回车结束。4\n",
      "两个数的和是： 7\n",
      "再见！ 哈哈\n"
     ]
    }
   ],
   "source": [
    "name = input('请输入你的姓名，以回车结束。')\n",
    "print('你好', name)\n",
    "\n",
    "n = int(input('请输入一个正整数，以回车结束。'))\n",
    "m = int(input('请输入一个正整数，以回车结束。'))\n",
    "\n",
    "print('两个数的和是：', m+n)\n",
    "print('再见！', name)"
   ]
  },
  {
   "cell_type": "markdown",
   "metadata": {},
   "source": [
    "练习2"
   ]
  },
  {
   "cell_type": "code",
   "execution_count": 4,
   "metadata": {},
   "outputs": [
    {
     "name": "stdout",
     "output_type": "stream",
     "text": [
      "计算指定整数的和。请输入整数个数4\n",
      "请输入 4 个整数，每个整数以回车结尾。\n",
      "1\n",
      "4\n",
      "5\n",
      "6\n",
      "总和: 16\n"
     ]
    }
   ],
   "source": [
    "n = int(input('计算指定整数的和。请输入整数个数'))\n",
    "print('请输入',n,'个整数，每个整数以回车结尾。')\n",
    "\n",
    "i = 0\n",
    "total = 0\n",
    "\n",
    "while i < n:\n",
    "    i = i + 1\n",
    "    m = int(input( ))\n",
    "    total = total + m\n",
    "    \n",
    "print('总和:',total)"
   ]
  },
  {
   "cell_type": "markdown",
   "metadata": {},
   "source": [
    "练习3"
   ]
  },
  {
   "cell_type": "code",
   "execution_count": 1,
   "metadata": {},
   "outputs": [
    {
     "name": "stdout",
     "output_type": "stream",
     "text": [
      "输入任意个整数，以 # 结束输入。\n",
      "3\n",
      "4\n",
      "4\n",
      "#\n",
      "结束输入\n"
     ]
    }
   ],
   "source": [
    "print('输入任意个整数，以 # 结束输入。')\n",
    "In = input()\n",
    "while In != '#': \n",
    "    In = input()\n",
    "\t\n",
    "print('结束输入')"
   ]
  },
  {
   "cell_type": "markdown",
   "metadata": {},
   "source": [
    "练习4"
   ]
  },
  {
   "cell_type": "code",
   "execution_count": 2,
   "metadata": {},
   "outputs": [
    {
     "name": "stdout",
     "output_type": "stream",
     "text": [
      "用户可输入多个整数。当输入所有数字的和小于当前输入数字，且输入所有数字的积比当前输入数字的平方大时，程序退出\n",
      "请输入数字，回车结束:3\n",
      "请输入数字，回车结束:4\n",
      "请输入数字，回车结束:5\n",
      "当前值 5 ；和 7 ；积 12 ；输入值平方 25\n",
      "请输入数字，回车结束:10\n",
      "当前值 10 ；和 12 ；积 120 ；输入值平方 100\n",
      "请输入数字，回车结束:12\n",
      "当前值 12 ；和 22 ；积 1440 ；输入值平方 144\n",
      "请输入数字，回车结束:100\n",
      "当前值 100 ；和 34 ；积 144000 ；输入值平方 10000\n",
      "结束输入。\n"
     ]
    }
   ],
   "source": [
    "print('用户可输入多个整数。当输入所有数字的和小于当前输入数字，且输入所有数字的积比当前输入数字的平方大时，程序退出')\n",
    "In1 = int(input('请输入数字，回车结束:'))\n",
    "In2 = int(input('请输入数字，回车结束:'))\n",
    "Sum = In1 + In2\n",
    "Product = In1 * In2\n",
    "In = int(input('请输入数字，回车结束:'))\n",
    "Square = In ** 2\n",
    "print('当前值',In,'；和',Sum,'；积',Product,'；输入值平方',Square)\n",
    "while not(Sum < In and Product > Square):\n",
    "    Sum = Sum + In\n",
    "    In = int(input('请输入数字，回车结束:'))\n",
    "    Product = Product * In\n",
    "    Square = In ** 2\n",
    "    print('当前值',In,'；和',Sum,'；积',Product,'；输入值平方',Square)     \n",
    "print('结束输入。')"
   ]
  },
  {
   "cell_type": "markdown",
   "metadata": {},
   "source": [
    "# 3.md"
   ]
  },
  {
   "cell_type": "markdown",
   "metadata": {},
   "source": [
    "练习1"
   ]
  },
  {
   "cell_type": "code",
   "execution_count": 3,
   "metadata": {},
   "outputs": [
    {
     "name": "stdout",
     "output_type": "stream",
     "text": [
      "请输入姓名，回车结束：Lily\n",
      "请输入月份，回车结束：3\n",
      "请输入日期，回车结束：21\n",
      "Lily 你是白羊座\n"
     ]
    }
   ],
   "source": [
    "name = input('请输入姓名，回车结束：')\n",
    "month = int(input('请输入月份，回车结束：'))\n",
    "day = int(input('请输入日期，回车结束：'))\n",
    "flag = True\n",
    "if month <1 or month > 31 or day <1 or day > 31:\n",
    "    print('月份或日期不合理。')\n",
    "else:    \n",
    "    if month == 1:\n",
    "        if 32> day > 19:\n",
    "            print(name,'你是水瓶座')\n",
    "        else:\n",
    "            print(name,'你是摩羯座')\n",
    "    elif month == 2:\n",
    "        if 30 > day > 18:\n",
    "            print(name,'你是双鱼座')\n",
    "        else:\n",
    "            print(name,'你是水瓶座')\n",
    "    elif month == 3:\n",
    "        if 32> day > 20:\n",
    "            print(name,'你是白羊座')\n",
    "        else:\n",
    "            print(name,'你是双鱼座')\n",
    "    elif month == 4:\n",
    "        if 31> day > 19:\n",
    "            print(name,'你是金牛座')\n",
    "        else:\n",
    "            print(name,'你是白羊座')\n",
    "    elif month == 5:\n",
    "        if 31> day > 20:\n",
    "            print(name,'你是双子座')\n",
    "        else:\n",
    "            print(name,'你是金牛座')\n",
    "    elif month == 6:\n",
    "        if 31> day > 21:\n",
    "            print(name,'你是巨蟹座')\n",
    "        else:\n",
    "            print(name,'你是双子座')\n",
    "    elif month == 7:\n",
    "        if 32> day > 22:\n",
    "            print(name,'你是狮子座')\n",
    "        else:\n",
    "            print(name,'你是巨蟹座')\n",
    "    elif month == 8:\n",
    "        if 32> day > 22:\n",
    "            print(name,'你是处女座')\n",
    "        else:\n",
    "            print(name,'你是狮子座')\n",
    "    elif month == 9:\n",
    "        if 31> day > 22:\n",
    "            print(name,'你是天秤座')\n",
    "        else:\n",
    "            print(name,'你是处女座')\n",
    "    elif month == 10:\n",
    "        if 32> day > 23:\n",
    "            print(name,'你是天蝎座')\n",
    "        else:\n",
    "            print(name,'你是天秤座')\n",
    "    elif month == 11:\n",
    "        if 31> day > 22:\n",
    "            print(name,'你是射手座')\n",
    "        else:\n",
    "            print(name,'你是天蝎座')\n",
    "    elif month == 12:\n",
    "        if 32> day > 21:\n",
    "            print(name,'你是摩羯座')\n",
    "        else:\n",
    "            print(name,'你是射手座')"
   ]
  },
  {
   "cell_type": "markdown",
   "metadata": {},
   "source": [
    "练习2"
   ]
  },
  {
   "cell_type": "code",
   "execution_count": 5,
   "metadata": {},
   "outputs": [
    {
     "name": "stdout",
     "output_type": "stream",
     "text": [
      "请输入当前PM2.5值：355\n",
      "当前空气质量等级：严重污染，严重影响心肺健康，建议关好门窗，尽量不要外出。\n"
     ]
    }
   ],
   "source": [
    "PM = int(input('请输入当前PM2.5值：'))\n",
    "if 0<PM<=35:\n",
    "    print('当前空气质量等级：优，适合户外活动。')\n",
    "elif 35<PM<=75:\n",
    "    print('当前空气质量等级：良好，可以正常在户外活动，易敏感人群应减少外出。')\n",
    "elif 75<PM<=115:\n",
    "    print('当前空气质量等级：轻度污染，易感人群症有轻度加剧，健康人群出现刺激症状，建议减少户外活动。')\n",
    "elif 115<PM<=150:\n",
    "    print('当前空气质量等级：中度污染，易感人群症状加剧，健康人群心脏、呼吸系统或受影响，建议减少室外活动，出门请携带口罩。')\n",
    "elif 150<PM<=250:\n",
    "    print('当前空气质量等级：重度污染，心肺症状显著加剧，运动耐受力降低，健康人群出现症状，建议取消室外活动。')\n",
    "else:\n",
    "    print('当前空气质量等级：严重污染，严重影响心肺健康，建议关好门窗，尽量不要外出。')\n",
    "\t"
   ]
  },
  {
   "cell_type": "markdown",
   "metadata": {},
   "source": [
    "练习3"
   ]
  },
  {
   "cell_type": "code",
   "execution_count": 1,
   "metadata": {},
   "outputs": [
    {
     "name": "stdout",
     "output_type": "stream",
     "text": [
      "请输入2个整数：\n",
      "输入m，回车结束:3\n",
      "输入n，回车结束:6\n",
      "计算m到n的和请输入\"1\"；\n",
      "计算m到n的积请输入\"2\"；\n",
      "计算m除以n的余数请输入\"3\"；\n",
      "计算m除以n请输入\"4\"；\n",
      "\"#退出程序。\"\n",
      "1\n",
      "m到n的和： 18\n",
      "请继续选择，对m,n进行计算，\"#\"退出。\n",
      "2\n",
      "m到n的积= 360\n",
      "请继续选择，对m,n进行计算，\"#\"退出。\n",
      "3\n",
      "m % n= 3\n",
      "请继续选择，对m,n进行计算，\"#\"退出。\n",
      "4\n",
      "m / n= 0.5\n",
      "请继续选择，对m,n进行计算，\"#\"退出。\n",
      "#\n",
      "退出程序。\n"
     ]
    }
   ],
   "source": [
    "print('请输入2个整数：')\n",
    "m = int(input('输入m，回车结束:'))\n",
    "n = int(input('输入n，回车结束:'))\n",
    "if m >= n:\n",
    "    Max = m\n",
    "    Min = n\n",
    "else:\n",
    "    Max = n\n",
    "    Min = m\n",
    "\n",
    "print('计算m到n的和请输入\"1\"；\\n计算m到n的积请输入\"2\"；\\n计算m除以n的余数请输入\"3\"；\\n计算m除以n请输入\"4\"；\\n\"#退出程序。\"')\n",
    "\n",
    "flag = input() \n",
    "while flag!='#':\n",
    "    flag=int(flag)\n",
    "    if flag == 1:\n",
    "        i = Min\n",
    "        Sum = 0\n",
    "        while i <= Max:\n",
    "            Sum = Sum + i\n",
    "            i = i + 1\n",
    "        print('m到n的和：',Sum)\n",
    "    elif flag == 2:\n",
    "        i = Min\n",
    "        Product = 1\n",
    "        while i <= Max:\n",
    "            Product = Product * i\n",
    "            i = i + 1\n",
    "        print('m到n的积=',Product)\n",
    "    elif flag==3:\n",
    "        print('m % n=',m % n)\n",
    "    elif flag==4:\n",
    "        print('m / n=',m / n)\n",
    "    else:\n",
    "        print('Sorry，I don\\'t understand')\n",
    "        \n",
    "    print('请继续选择，对m,n进行计算，\"#\"退出。')\n",
    "    flag = input()\n",
    "    \n",
    "print('退出程序。')"
   ]
  },
  {
   "cell_type": "markdown",
   "metadata": {},
   "source": [
    "练习4"
   ]
  },
  {
   "cell_type": "code",
   "execution_count": 7,
   "metadata": {},
   "outputs": [
    {
     "name": "stdout",
     "output_type": "stream",
     "text": [
      "请输入名词性英语单词,回车结束。\"#\"退出。box\n",
      "box 的复数形式是 boxes\n",
      "请输入名词性英语单词,回车结束。\"#\"退出。fish\n",
      "fish 的复数形式是 fishes\n",
      "请输入名词性英语单词,回车结束。\"#\"退出。#\n"
     ]
    }
   ],
   "source": [
    "word = input('请输入名词性英语单词,回车结束。\"#\"退出。')\n",
    "while word!='#':\n",
    "    if word.endswith('y'):  \n",
    "          new = word[:-1] + 'ies'  \n",
    "    elif word[-1] in ['s','z','x'] or word[-2:] in ['sh', 'ch']:  \n",
    "          new = word + 'es'    \n",
    "    else:  \n",
    "          new = word + 's' \n",
    "    print(word,'的复数形式是',new)\n",
    "    \n",
    "    word = input('请输入名词性英语单词,回车结束。\"#\"退出。')"
   ]
  },
  {
   "cell_type": "markdown",
   "metadata": {},
   "source": [
    "尝试性练习"
   ]
  },
  {
   "cell_type": "code",
   "execution_count": 2,
   "metadata": {},
   "outputs": [
    {
     "name": "stdout",
     "output_type": "stream",
     "text": [
      "请输入打印空行行数，回车结束。4\n",
      "\n",
      "\n",
      "\n",
      "\n",
      "\n"
     ]
    }
   ],
   "source": [
    "m = int(input('请输入打印空行行数，回车结束。'))\n",
    "print('\\n' * m)"
   ]
  },
  {
   "cell_type": "markdown",
   "metadata": {},
   "source": [
    "挑战练习"
   ]
  },
  {
   "cell_type": "code",
   "execution_count": 10,
   "metadata": {},
   "outputs": [
    {
     "name": "stdout",
     "output_type": "stream",
     "text": [
      "请输入要输入的整数个数，回车结束。5\n",
      "请输入一个整数，回车结束20\n",
      "请输入一个整数，回车结束100\n",
      "请输入一个整数，回车结束1\n",
      "请输入一个整数，回车结束3\n",
      "请输入一个整数，回车结束99\n",
      "第二大的值是： 99\n"
     ]
    }
   ],
   "source": [
    "m = int(input('请输入要输入的整数个数，回车结束。'))\n",
    "\n",
    "max_number = int(input('请输入一个整数，回车结束'))\n",
    "max2_number = max_number \n",
    "In = int(input('请输入一个整数，回车结束'))\n",
    "if In > max_number:\n",
    "    max_number = In\n",
    "else:\n",
    "    max2_number = In\n",
    "i = 2\n",
    "while i < m:\n",
    "    i += 1\n",
    "    n = int(input('请输入一个整数，回车结束'))    \n",
    "    if n < max_number and n >= max2_number:\n",
    "            max2_number = n\n",
    "    elif n >= max_number:\n",
    "            max2_number = max_number\n",
    "            max_number = n\n",
    "        \n",
    "print('第二大的值是：',max2_number)"
   ]
  },
  {
   "cell_type": "code",
   "execution_count": null,
   "metadata": {},
   "outputs": [],
   "source": []
  }
 ],
 "metadata": {
  "kernelspec": {
   "display_name": "Python 3",
   "language": "python",
   "name": "python3"
  },
  "language_info": {
   "codemirror_mode": {
    "name": "ipython",
    "version": 3
   },
   "file_extension": ".py",
   "mimetype": "text/x-python",
   "name": "python",
   "nbconvert_exporter": "python",
   "pygments_lexer": "ipython3",
   "version": "3.6.0"
  }
 },
 "nbformat": 4,
 "nbformat_minor": 2
}
