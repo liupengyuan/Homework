{
 "cells": [
  {
   "cell_type": "code",
   "execution_count": 1,
   "metadata": {},
   "outputs": [
    {
     "name": "stdout",
     "output_type": "stream",
     "text": [
      "enil"
     ]
    }
   ],
   "source": [
    "#练习一\n",
    "def reverse(s):\n",
    "    for i in range (len(s)-1,-1,-1):\n",
    "        print(s[i],end='')\n",
    "s='line'\n",
    "reverse(s)"
   ]
  },
  {
   "cell_type": "code",
   "execution_count": 2,
   "metadata": {},
   "outputs": [
    {
     "name": "stdout",
     "output_type": "stream",
     "text": [
      "赏\n",
      "赏赏\n",
      "赏花赏\n",
      "赏花花赏\n",
      "赏花归花赏\n",
      "赏花归归花赏\n",
      "赏花归去归花赏\n",
      "赏花归去去归花赏\n",
      "赏花归去马去归花赏\n",
      "赏花归去马马去归花赏\n",
      "          赏\n",
      "         赏赏\n",
      "        赏花赏\n",
      "       赏花花赏\n",
      "      赏花归花赏\n",
      "     赏花归归花赏\n",
      "    赏花归去归花赏\n",
      "   赏花归去去归花赏\n",
      "  赏花归去马去归花赏\n",
      " 赏花归去马马去归花赏\n"
     ]
    }
   ],
   "source": [
    "#练习二\n",
    "def right_triangle(s,line_number):\n",
    "    for i in range (1,line_number+1):\n",
    "        if i == 1:\n",
    "            print(s[0])\n",
    "        elif i%2==1:\n",
    "            print(s[:i//2]+s[i//2]+s[i//2-1::-1],end='')\n",
    "            print()\n",
    "        else:\n",
    "            print(s[:i//2]+s[i//2-1::-1],end='')\n",
    "            print()\n",
    "\n",
    "def isosceles_triangle(s,line_number):\n",
    "    for i in range (1,line_number+1):\n",
    "        if i == 1:\n",
    "            print(' '*line_number+s[0])\n",
    "        elif i%2==1:\n",
    "            print(' '*(line_number+1-i)+s[:i//2]+s[i//2]+s[i//2-1::-1],end='')\n",
    "            print()\n",
    "        else:\n",
    "            print(' '*(line_number+1-i)+s[:i//2]+s[i//2-1::-1],end='')\n",
    "            print()\n",
    "\n",
    "s='赏花归去马如飞'\n",
    "line_number=10\n",
    "right_triangle(s,line_number)\n",
    "isosceles_triangle(s,line_number)"
   ]
  },
  {
   "cell_type": "code",
   "execution_count": 3,
   "metadata": {},
   "outputs": [
    {
     "name": "stdout",
     "output_type": "stream",
     "text": [
      "             赏\n",
      "            赏赏\n",
      "           赏花赏\n",
      "          赏花花赏\n",
      "         赏花归花赏\n",
      "        赏花归归花赏\n",
      "       赏花归去归花赏\n",
      "      赏花归去去归花赏\n",
      "     赏花归去马去归花赏\n",
      "    赏花归去马马去归花赏\n",
      "   赏花归去马如马去归花赏\n",
      "  赏花归去马如如马去归花赏\n",
      " 赏花归去马如飞如马去归花赏\n",
      "赏花归去马如飞飞如马去归花赏\n",
      " 赏花归去马如飞如马去归花赏\n",
      "  赏花归去马如如马去归花赏\n",
      "   赏花归去马如马去归花赏\n",
      "    赏花归去马马去归花赏\n",
      "     赏花归去马去归花赏\n",
      "      赏花归去去归花赏\n",
      "       赏花归去归花赏\n",
      "        赏花归归花赏\n",
      "         赏花归花赏\n",
      "          赏花花赏\n",
      "           赏花赏\n",
      "            赏赏\n",
      "             赏\n",
      "        吉\n",
      "       吉吉\n",
      "      吉祥吉\n",
      "     吉祥祥吉\n",
      "    吉祥如祥吉\n",
      "   吉祥如如祥吉\n",
      "  吉祥如意如祥吉\n",
      " 吉祥如意意如祥吉\n",
      "吉祥如意  意如祥吉\n",
      " 吉祥如意意如祥吉\n",
      "  吉祥如意如祥吉\n",
      "   吉祥如如祥吉\n",
      "    吉祥如祥吉\n",
      "     吉祥祥吉\n",
      "      吉祥吉\n",
      "       吉吉\n",
      "        吉\n"
     ]
    }
   ],
   "source": [
    "#练习五\n",
    "def diamond(s):\n",
    "    if len(s)%2==1:\n",
    "        for i in range (1,len(s)*4):\n",
    "            a=max(i,2*len(s))\n",
    "            b=min(i,2*len(s))\n",
    "            if i==1 or i==len(s)*4-1:\n",
    "                print(' '*(len(s)*2-1)+s[0])\n",
    "            elif i%2==1 and i <= 2*len(s):\n",
    "                print(' '*(a-b)+s[:i//2]+s[i//2]+s[i//2-1::-1],end='')\n",
    "                print()\n",
    "            elif i%2==1 and i > 2*len(s):\n",
    "                print(' '*(a-b)+s[:(4*len(s)-i)//2]+s[(4*len(s)-i)//2]+s[(4*len(s)-i)//2-1::-1],end='')\n",
    "                print()\n",
    "            elif i%2==0 and i <2*len(s):\n",
    "                print(' '*(a-b)+s[:i//2]+s[i//2-1::-1],end='')\n",
    "                print()\n",
    "            else:\n",
    "                print(' '*(a-b)+s[:(4*len(s)-i)//2]+s[(4*len(s)-i)//2-1::-1],end='')\n",
    "                print()\n",
    "    if len(s)%2==0:\n",
    "        for i in range(1,len(s)*4+2):\n",
    "            a=max(i,len(s)*2+1)\n",
    "            b=min(i,len(s)*2+1)\n",
    "            if i==1 or i== len(s)*4+1:\n",
    "                print(' '*len(s)*2+s[0])\n",
    "            elif i == len(s)*2+1:\n",
    "                print(s[:]+' '*2+s[len(s)::-1])\n",
    "            elif i%2==1 and i<len(s)*2+1:\n",
    "                print(' '*(a-b)+s[:i//2]+s[i//2]+s[i//2-1::-1],end='')\n",
    "                print()\n",
    "            elif i%2==1 and i>len(s)*2+1:\n",
    "                print(' '*(a-b)+s[:(4*len(s)+2-i)//2]+s[(4*len(s)+2-i)//2]+s[(4*len(s)+2-i)//2-1::-1],end='')\n",
    "                print()\n",
    "            elif i%2==0 and i <2*len(s)+1:\n",
    "                print(' '*(a-b)+s[:i//2]+s[i//2-1::-1],end='')\n",
    "                print()\n",
    "            else :\n",
    "                print(' '*(a-b)+s[:(4*len(s)+2-i)//2]+s[(4*len(s)+2-i)//2-1::-1],end='')\n",
    "                print()\n",
    "    \n",
    "s='赏花归去马如飞'\n",
    "n='吉祥如意'\n",
    "diamond(s)\n",
    "diamond(n)"
   ]
  },
  {
   "cell_type": "code",
   "execution_count": null,
   "metadata": {
    "collapsed": true
   },
   "outputs": [],
   "source": []
  }
 ],
 "metadata": {
  "kernelspec": {
   "display_name": "Python 3",
   "language": "python",
   "name": "python3"
  },
  "language_info": {
   "codemirror_mode": {
    "name": "ipython",
    "version": 3
   },
   "file_extension": ".py",
   "mimetype": "text/x-python",
   "name": "python",
   "nbconvert_exporter": "python",
   "pygments_lexer": "ipython3",
   "version": "3.6.3"
  }
 },
 "nbformat": 4,
 "nbformat_minor": 2
}
