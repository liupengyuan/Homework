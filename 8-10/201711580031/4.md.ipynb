{
 "cells": [
  {
   "cell_type": "code",
   "execution_count": 11,
   "metadata": {},
   "outputs": [
    {
     "name": "stdout",
     "output_type": "stream",
     "text": [
      "请输入一个整数m5\n",
      "请输入一个整数n4\n",
      "请输入一个整数k3\n",
      "m!+n!+k!= 150\n"
     ]
    }
   ],
   "source": [
    "#练习 1：仿照求$ \\sum_{i=1}^mi + \\sum_{i=1}^ni  + \\sum_{i=1}^ki$的完整代码，写程序，可求m!+n!+k!\n",
    "def compute_(number):\n",
    "    i=0\n",
    "    total=1\n",
    "    \n",
    "    while i<(number):\n",
    "        i+=1\n",
    "        total*=i\n",
    "    return total\n",
    "m=int(input('请输入一个整数m'))\n",
    "n=int(input('请输入一个整数n'))\n",
    "k=int(input('请输入一个整数k'))\n",
    "print('m!+n!+k!=',compute_(m)+compute_(n)+compute_(k))\n",
    "\n"
   ]
  },
  {
   "cell_type": "code",
   "execution_count": 12,
   "metadata": {},
   "outputs": [
    {
     "name": "stdout",
     "output_type": "stream",
     "text": [
      "n=1000时该函数和的4倍是： 3.140592653839794\n",
      "n=100000时该函数和的4倍是： 3.1415826535897198\n"
     ]
    }
   ],
   "source": [
    "#练习 2：写函数可返回1 - 1/3 + 1/5 - 1/7...的前n项的和。在主程序中，分别令n=1000及100000，打印4倍该函数的和。\n",
    "def compute_(number):\n",
    "    i=0\n",
    "    total=0\n",
    "    k=1\n",
    "    \n",
    "    while i< (number):\n",
    "        total+=1/k\n",
    "        k+=2 \n",
    "        i+=2\n",
    "        total-=1/k\n",
    "        k+=2\n",
    "        \n",
    "      \n",
    "    return total\n",
    "n=1000\n",
    "print('n=1000时该函数和的4倍是：',compute_(n)*4)        \n",
    "n=100000\n",
    "print('n=100000时该函数和的4倍是：',compute_(n)*4)       \n"
   ]
  },
  {
   "cell_type": "code",
   "execution_count": 9,
   "metadata": {},
   "outputs": [
    {
     "name": "stdout",
     "output_type": "stream",
     "text": [
      "请输入一个英文单词（单数形式）:merry\n",
      "该英文单词的复数形式是： merries\n"
     ]
    }
   ],
   "source": [
    "#练习3 练习4的改编\n",
    "def plural_(word):\n",
    "    if word.endswith('s') or word.endswith('x') or word.endswith('z') or word.endswith('ch') or word.endswith('sh'):\n",
    "        i= (word+'es')\n",
    "    elif word.endswith('f'):\n",
    "        i=(word[-1]+'s')\n",
    "    elif word.endswith('y'):\n",
    "        trans = word.maketrans('y','i')   #注意该用法\n",
    "        i=(word.translate(trans)+'es')\n",
    "    elif word.endswith('o'):\n",
    "        if word == 'hero' or word == 'tomato' or word == 'potato':\n",
    "            i= (word+'es')\n",
    "        else:\n",
    "            i= (word+'s')\n",
    "    elif word=='people' or word=='fish' or word=='sheep':\n",
    "            i=(word)\n",
    "    else:\n",
    "        i= (word+'s')\n",
    "    return i\n",
    "\n",
    "a = input('请输入一个英文单词（单数形式）:')\n",
    "print('该英文单词的复数形式是：',plural_(a))\n"
   ]
  },
  {
   "cell_type": "code",
   "execution_count": 6,
   "metadata": {},
   "outputs": [
    {
     "name": "stdout",
     "output_type": "stream",
     "text": [
      "请输入一个整数1\n",
      "请输入一个整数100\n",
      "请输入间隔2\n",
      "2500\n"
     ]
    }
   ],
   "source": [
    "#挑战性练习：写程序，可以求从整数m到整数n累加的和，间隔为k，求和部分需用函数实现，主程序中由用户输入m，n，k调用函数验证正确性。\n",
    "def compute_sum():\n",
    "    sum=0\n",
    "    a=m\n",
    "    b=n\n",
    "    c=k\n",
    "    if a<=b:\n",
    "        while a<=b:\n",
    "            sum+=a\n",
    "            a+=k\n",
    "    else:\n",
    "        while b<=a:\n",
    "            sum+=b\n",
    "            b+=k\n",
    "    return sum\n",
    "m=int(input('请输入一个整数'))\n",
    "n=int(input('请输入一个整数'))\n",
    "k=int(input('请输入间隔'))\n",
    "print(compute_sum())\n",
    "    \n",
    "    "
   ]
  },
  {
   "cell_type": "code",
   "execution_count": null,
   "metadata": {
    "collapsed": true
   },
   "outputs": [],
   "source": []
  }
 ],
 "metadata": {
  "kernelspec": {
   "display_name": "Python 3",
   "language": "python",
   "name": "python3"
  },
  "language_info": {
   "codemirror_mode": {
    "name": "ipython",
    "version": 3
   },
   "file_extension": ".py",
   "mimetype": "text/x-python",
   "name": "python",
   "nbconvert_exporter": "python",
   "pygments_lexer": "ipython3",
   "version": "3.6.2"
  }
 },
 "nbformat": 4,
 "nbformat_minor": 2
}
