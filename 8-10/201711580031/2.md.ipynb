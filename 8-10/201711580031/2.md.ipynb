{
 "cells": [
  {
   "cell_type": "code",
   "execution_count": 10,
   "metadata": {},
   "outputs": [
    {
     "name": "stdout",
     "output_type": "stream",
     "text": [
      "请输入一个正整数，以回车结束。4\n",
      "24\n"
     ]
    }
   ],
   "source": [
    "n=int(input('请输入一个正整数，以回车结束。'))\n",
    "i=0\n",
    "total=1\n",
    "while i<n:\n",
    "    i+=1\n",
    "    total*=i\n",
    "print(total)"
   ]
  },
  {
   "cell_type": "code",
   "execution_count": 8,
   "metadata": {},
   "outputs": [
    {
     "name": "stdout",
     "output_type": "stream",
     "text": [
      "您好,您想输入的整数个数是?:5\n",
      "请输入一个整数2\n",
      "请输入一个整数2\n",
      "请输入一个整数1\n",
      "请输入一个整数4\n",
      "请输入一个整数3\n",
      "这些整数的和是: 12\n"
     ]
    }
   ],
   "source": [
    "n=int(input('您好,您想输入的整数个数是?:'))\n",
    "i=0\n",
    "total=0\n",
    "while i<n:\n",
    "    m=int(input('请输入一个整数'))\n",
    "    total+=m\n",
    "    i+=1\n",
    "print('这些整数的和是:',total)    "
   ]
  },
  {
   "cell_type": "code",
   "execution_count": 13,
   "metadata": {},
   "outputs": [
    {
     "name": "stdout",
     "output_type": "stream",
     "text": [
      "输入任意一个整数，按S停止输入S\n"
     ]
    }
   ],
   "source": [
    "n=input('输入任意一个整数，按S停止输入')\n",
    "while n!='S':\n",
    "    n=input('输入任意一个整数，按S停止输入')"
   ]
  },
  {
   "cell_type": "code",
   "execution_count": 4,
   "metadata": {},
   "outputs": [
    {
     "name": "stdout",
     "output_type": "stream",
     "text": [
      "请输入一个整数10\n",
      "请输入一个整数15\n",
      "请输入一个整数26\n",
      "输入所有数字的和比当前输入数字小，且输入所有数字的积大于500,结束输入\n"
     ]
    }
   ],
   "source": [
    "n=int(input('请输入一个整数'))\n",
    "total=0\n",
    "m=n\n",
    "while n<=total or m<=500:\n",
    "    total+=n\n",
    "    n=int(input('请输入一个整数')) \n",
    "    m*=n\n",
    "print('输入所有数字的和比当前输入数字小，且输入所有数字的积大于500,结束输入')\n",
    "    "
   ]
  },
  {
   "cell_type": "code",
   "execution_count": null,
   "metadata": {
    "collapsed": true
   },
   "outputs": [],
   "source": []
  },
  {
   "cell_type": "code",
   "execution_count": null,
   "metadata": {
    "collapsed": true
   },
   "outputs": [],
   "source": []
  }
 ],
 "metadata": {
  "kernelspec": {
   "display_name": "Python 3",
   "language": "python",
   "name": "python3"
  },
  "language_info": {
   "codemirror_mode": {
    "name": "ipython",
    "version": 3
   },
   "file_extension": ".py",
   "mimetype": "text/x-python",
   "name": "python",
   "nbconvert_exporter": "python",
   "pygments_lexer": "ipython3",
   "version": "3.6.2"
  }
 },
 "nbformat": 4,
 "nbformat_minor": 2
}
