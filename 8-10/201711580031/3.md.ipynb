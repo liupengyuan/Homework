{
 "cells": [
  {
   "cell_type": "code",
   "execution_count": 14,
   "metadata": {},
   "outputs": [
    {
     "name": "stdout",
     "output_type": "stream",
     "text": [
      "请输入一个整数:8\n",
      "请输入一个正整数:4\n",
      "求m到n的和请输入addition、求m到n的积请输入multiplication、求m除以n的余数请输入remainder，求m整除n请输入exact division：remainder\n",
      "2\n"
     ]
    }
   ],
   "source": [
    "m=int(input('请输入一个整数:'))\n",
    "n=int(input('请输入一个正整数:'))\n",
    "\n",
    "if m<n :\n",
    "    a=n\n",
    "    b=m\n",
    "else:\n",
    "    a=m\n",
    "    b=n\n",
    "    \n",
    "c=input('求m到n的和请输入addition、求m到n的积请输入multiplication、求m除以n的余数请输入remainder，求m整除n请输入exact division：')\n",
    "\n",
    "if c is 'addition':\n",
    "    print((a-b+1)*(a+b)/2)\n",
    "\n",
    "elif c is 'multiplication':\n",
    "    multi=b\n",
    "    while b<a:\n",
    "        b+=1\n",
    "        multi*=b\n",
    "    print(multi)\n",
    "    \n",
    "elif c is 'remainder':\n",
    "    print(m%n)\n",
    "    \n",
    "else:\n",
    "    print(m//n)"
   ]
  },
  {
   "cell_type": "code",
   "execution_count": 22,
   "metadata": {},
   "outputs": [
    {
     "name": "stdout",
     "output_type": "stream",
     "text": [
      "请输入一个英文单词（单数形式）:apple\n",
      "apples\n"
     ]
    }
   ],
   "source": [
    "word = input('请输入一个英文单词（单数形式）:')\n",
    "if word.endswith('s') or word.endswith('x') or word.endswith('z') or word.endswith('ch') or word.endswith('sh'):\n",
    "    print (word,'es')\n",
    "elif word.endswith('f') or word.endswith('fe'):\n",
    "    print('改f或 fe为ve，再加s')\n",
    "elif word.endswith('y'):\n",
    "    trans = word.maketrans('y','i')\n",
    "    print(word.translate(trans),'es')\n",
    "elif word.endswith('o'):\n",
    "    if word == 'hero' or word == 'tomato' or word == 'potato':\n",
    "        print (word,'es')\n",
    "elif word=='people' or word=='fish' or word=='sheep':\n",
    "    print(word)\n",
    "else:\n",
    "    print (word,'s',sep = '')"
   ]
  },
  {
   "cell_type": "code",
   "execution_count": null,
   "metadata": {
    "collapsed": true
   },
   "outputs": [],
   "source": []
  }
 ],
 "metadata": {
  "kernelspec": {
   "display_name": "Python 3",
   "language": "python",
   "name": "python3"
  },
  "language_info": {
   "codemirror_mode": {
    "name": "ipython",
    "version": 3
   },
   "file_extension": ".py",
   "mimetype": "text/x-python",
   "name": "python",
   "nbconvert_exporter": "python",
   "pygments_lexer": "ipython3",
   "version": "3.6.2"
  }
 },
 "nbformat": 4,
 "nbformat_minor": 2
}
