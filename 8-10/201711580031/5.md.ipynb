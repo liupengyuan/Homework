{
 "cells": [
  {
   "cell_type": "code",
   "execution_count": 34,
   "metadata": {},
   "outputs": [
    {
     "name": "stdout",
     "output_type": "stream",
     "text": [
      "请输入随机整数的下限1\n",
      "请输入随机整数的上限5\n",
      "请输入随机整数的个数3\n",
      "5\n",
      "5\n",
      "2\n",
      "这些整数均值的平方根是： 2.0\n"
     ]
    }
   ],
   "source": [
    "#写函数，求n个随机整数均值的平方根，整数范围在m与k之间（n,m,k由用户输入）\n",
    "import random\n",
    "\n",
    "a=int(input('请输入随机整数的下限'))\n",
    "b=int(input('请输入随机整数的上限'))\n",
    "\n",
    "m=0\n",
    "total=0\n",
    "\n",
    "n=int(input('请输入随机整数的个数'))\n",
    "while m < n :\n",
    "    m+=1\n",
    "    sum=random.randint(a,b)\n",
    "    print(sum)\n",
    "    total+=sum\n",
    "average=total/m\n",
    "print('这些整数均值的平方根是：',average**(1/2))\n",
    "\n",
    "    "
   ]
  },
  {
   "cell_type": "code",
   "execution_count": 40,
   "metadata": {
    "scrolled": true
   },
   "outputs": [
    {
     "name": "stdout",
     "output_type": "stream",
     "text": [
      "请输入随机整数的下限1\n",
      "请输入随机整数的上限10\n",
      "请输入随机整数的个数3\n",
      "8\n",
      "西格玛log 8 = 2.0794415416798357\n",
      "西格玛1/log 8 = 0.48089834696298783\n",
      "6\n",
      "西格玛log 6 = 1.791759469228055\n",
      "西格玛1/log 6 = 0.5581106265512472\n",
      "7\n",
      "西格玛log 7 = 1.9459101490553132\n",
      "西格玛1/log 7 = 0.5138983423697507\n"
     ]
    }
   ],
   "source": [
    "#练习 2：写函数，共n个随机整数，整数范围在m与k之间，（n,m,k由用户输入）。求1：西格玛log(随机整数)，2：西格玛1/log(随机整数)\n",
    "import math,random\n",
    "\n",
    "a=int(input('请输入随机整数的下限'))\n",
    "b=int(input('请输入随机整数的上限'))\n",
    "\n",
    "m=0\n",
    "total=0\n",
    "\n",
    "n=int(input('请输入随机整数的个数'))\n",
    "while m < n :\n",
    "    m+=1\n",
    "    number=random.randint(a,b)\n",
    "    print(number)\n",
    "    print('西格玛log',number,'=',math.log(number))\n",
    "    print('西格玛1/log',number,'=',1/math.log(number))\n"
   ]
  },
  {
   "cell_type": "code",
   "execution_count": null,
   "metadata": {
    "collapsed": true
   },
   "outputs": [],
   "source": []
  },
  {
   "cell_type": "code",
   "execution_count": null,
   "metadata": {
    "collapsed": true
   },
   "outputs": [],
   "source": []
  }
 ],
 "metadata": {
  "kernelspec": {
   "display_name": "Python 3",
   "language": "python",
   "name": "python3"
  },
  "language_info": {
   "codemirror_mode": {
    "name": "ipython",
    "version": 3
   },
   "file_extension": ".py",
   "mimetype": "text/x-python",
   "name": "python",
   "nbconvert_exporter": "python",
   "pygments_lexer": "ipython3",
   "version": "3.6.2"
  }
 },
 "nbformat": 4,
 "nbformat_minor": 2
}
