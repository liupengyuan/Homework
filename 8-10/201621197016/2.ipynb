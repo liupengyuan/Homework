{
 "cells": [
  {
   "cell_type": "code",
   "execution_count": 2,
   "metadata": {},
   "outputs": [
    {
     "name": "stdout",
     "output_type": "stream",
     "text": [
      "6\n",
      "720\n"
     ]
    }
   ],
   "source": [
    "#练习1：仿照任务2完整代码，打印n!。\n",
    "n=int(input())\n",
    "i=1\n",
    "total=1\n",
    "while i<n:\n",
    "    i=i+1\n",
    "    total*=i\n",
    "print(total)"
   ]
  },
  {
   "cell_type": "code",
   "execution_count": 3,
   "metadata": {},
   "outputs": [
    {
     "name": "stdout",
     "output_type": "stream",
     "text": [
      "秦嘉\n",
      "你好 秦嘉\n",
      "7\n",
      "8\n",
      "两个数的和是： 15\n",
      "再见！ 秦嘉\n"
     ]
    }
   ],
   "source": [
    "#实践1：键入如下代码并观察执行结果。\n",
    "name = input()\n",
    "print('你好', name)\n",
    "\n",
    "n = int(input())\n",
    "m = int(input())\n",
    "\n",
    "print('两个数的和是：', m+n)\n",
    "print('再见！', name)"
   ]
  },
  {
   "cell_type": "code",
   "execution_count": 4,
   "metadata": {},
   "outputs": [
    {
     "name": "stdout",
     "output_type": "stream",
     "text": [
      "输入整数个数4\n",
      "5\n",
      "6\n",
      "7\n",
      "8\n",
      "sum= 26\n"
     ]
    }
   ],
   "source": [
    "#练习2：仿照实践1，写出由用户指定整数个数，并由用户输入多个整数，并求和的代码。\n",
    "n=int(input('输入整数个数'))\n",
    "i=0\n",
    "total=0\n",
    "while i<n:\n",
    "    m=int(input())\n",
    "    i+=1\n",
    "    total+=m\n",
    "    \n",
    "print('sum=',total)"
   ]
  },
  {
   "cell_type": "code",
   "execution_count": 10,
   "metadata": {},
   "outputs": [
    {
     "name": "stdout",
     "output_type": "stream",
     "text": [
      "请输入数字。输入e停止。34\n",
      "请输入数字。输入e停止。5\n",
      "请输入数字。输入e停止。e\n"
     ]
    }
   ],
   "source": [
    "#练习3：用户可以输入的任意多个数字，直到用户不想输入为止。\n",
    "n = input('请输入数字。输入e停止。')\n",
    "while n != 'e':\n",
    "    n = input('请输入数字。输入e停止。')\n",
    "    if n == 'e':\n",
    "        break"
   ]
  },
  {
   "cell_type": "code",
   "execution_count": 6,
   "metadata": {},
   "outputs": [
    {
     "name": "stdout",
     "output_type": "stream",
     "text": [
      "请输入数字5\n",
      "请继续输入数字60\n",
      "请继续输入数字400\n",
      "请继续输入数字36\n",
      "请继续输入数字277\n",
      "请继续输入数字5000\n",
      "5000 778 1196640000\n"
     ]
    }
   ],
   "source": [
    "#练习4：用户可以输入的任意多个数字，直到: 输入所有数字的和比当前输入数字小，且输入所有数字的积大于500。\n",
    "n=int(input('请输入数字'))\n",
    "total=0\n",
    "product=1\n",
    "\n",
    "while total>=n or product<=500: \n",
    "    total += n\n",
    "    product *= n \n",
    "    n=int(input('请继续输入数字'))\n",
    "print(n,total,product)"
   ]
  },
  {
   "cell_type": "code",
   "execution_count": null,
   "metadata": {},
   "outputs": [],
   "source": []
  }
 ],
 "metadata": {
  "kernelspec": {
   "display_name": "Python 3",
   "language": "python",
   "name": "python3"
  },
  "language_info": {
   "codemirror_mode": {
    "name": "ipython",
    "version": 3
   },
   "file_extension": ".py",
   "mimetype": "text/x-python",
   "name": "python",
   "nbconvert_exporter": "python",
   "pygments_lexer": "ipython3",
   "version": "3.6.3"
  }
 },
 "nbformat": 4,
 "nbformat_minor": 2
}
