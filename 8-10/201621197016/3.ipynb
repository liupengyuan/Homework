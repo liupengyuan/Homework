{
 "cells": [
  {
   "cell_type": "code",
   "execution_count": 3,
   "metadata": {},
   "outputs": [
    {
     "name": "stdout",
     "output_type": "stream",
     "text": [
      "输入第一个整数3\n",
      "输入第二个非零整数5\n",
      "求和请输入+，求积请输入*，求余数请输入%，求商请输入/*\n",
      "60\n"
     ]
    }
   ],
   "source": [
    "#练习 2：写程序，可由键盘读入两个整数m与n(n不等于0)，\n",
    "#询问用户意图，\n",
    "#如果要求和则计算从m到n的和输出，\n",
    "#如果要乘积则计算从m到n的积并输出，\n",
    "#如果要求余数则计算m除以n的余数的值并输出，\n",
    "#否则则计算m整除n的值并输出。\n",
    "m=int(input('输入第一个整数'))\n",
    "n=int(input('输入第二个非零整数'))\n",
    "c=input('求和请输入+，求积请输入*，求余数请输入%，求商请输入/')\n",
    "if c=='+':\n",
    "    sum=(m+n)*abs(n-m+1)/2\n",
    "    print(sum)\n",
    "elif c=='*':\n",
    "    if m>n:\n",
    "        i=n\n",
    "        j=n\n",
    "        while i<m:\n",
    "            i +=1\n",
    "            j *=i\n",
    "        print(j)\n",
    "    elif m<n:\n",
    "        i=m\n",
    "        k=m\n",
    "        while i<n:\n",
    "            i +=1\n",
    "            k *=i\n",
    "        print(k)\n",
    "elif c=='%':\n",
    "    print(m%n)\n",
    "elif c=='/':\n",
    "    print(m/n)"
   ]
  },
  {
   "cell_type": "code",
   "execution_count": 4,
   "metadata": {},
   "outputs": [
    {
     "name": "stdout",
     "output_type": "stream",
     "text": [
      "请输入一个英语名词,回车结束。leaf\n",
      "该名词变为复数时大多把末尾的f变为v加es\n"
     ]
    }
   ],
   "source": [
    "#练习 4：英文单词单数转复数，\n",
    "#要求输入一个英文名词（单数形式），能够得到其复数形式，或给出单数转复数形式的建议\n",
    "#（提示，some_string.endswith(some_letter)函数可以判断某字符串结尾字符，\n",
    "#可尝试运行：'myname'.endswith('me')，liupengyuan'.endswith('n')）。\n",
    "noun = input('请输入一个英语名词,回车结束。')\n",
    "if noun.endswith('s'):  \n",
    "    t=str('es')\n",
    "    print(noun+t)\n",
    "elif noun.endswith('sh'):\n",
    "    t=str('es')\n",
    "    print(noun+t)\n",
    "elif noun.endswith('ch'):\n",
    "    t=str('es')\n",
    "    print(noun+t)\n",
    "elif noun.endswith('x'):\n",
    "    t=str('es')\n",
    "    print(noun+t)\n",
    "elif noun.endswith('o'):\n",
    "    print('该名词变为复数时根据前字母可能加s或es')\n",
    "elif noun.endswith('y'):    \n",
    "    print('该名词变为复数时大多把y变i加es')\n",
    "elif noun.endswith('f'): \n",
    "    print('该名词变为复数时大多把末尾的f变为v加es')\n",
    "elif noun.endswith('fe'): \n",
    "    print('该名词变为复数时大多把末尾的fe变为v加es')\n",
    "else:\n",
    "    t=str('s')\n",
    "    print(noun+t)"
   ]
  },
  {
   "cell_type": "code",
   "execution_count": null,
   "metadata": {},
   "outputs": [],
   "source": []
  },
  {
   "cell_type": "code",
   "execution_count": null,
   "metadata": {},
   "outputs": [],
   "source": []
  }
 ],
 "metadata": {
  "kernelspec": {
   "display_name": "Python 3",
   "language": "python",
   "name": "python3"
  },
  "language_info": {
   "codemirror_mode": {
    "name": "ipython",
    "version": 3
   },
   "file_extension": ".py",
   "mimetype": "text/x-python",
   "name": "python",
   "nbconvert_exporter": "python",
   "pygments_lexer": "ipython3",
   "version": "3.6.3"
  }
 },
 "nbformat": 4,
 "nbformat_minor": 2
}
