{
 "cells": [
  {
   "cell_type": "code",
   "execution_count": 1,
   "metadata": {},
   "outputs": [
    {
     "name": "stdout",
     "output_type": "stream",
     "text": [
      "dafsdfwefdafds\n"
     ]
    }
   ],
   "source": [
    "def reverse(text):\n",
    "    rev = ''\n",
    "    for i in range(0, len(text)):\n",
    "        rev = rev + text[len(text) - 1 - i]\n",
    "    return rev\n",
    "\n",
    "def main():\n",
    "    text = 'sdfadfewfdsfad'\n",
    "    print(reverse(text))\n",
    "\n",
    "main()"
   ]
  },
  {
   "cell_type": "code",
   "execution_count": 2,
   "metadata": {},
   "outputs": [
    {
     "name": "stdout",
     "output_type": "stream",
     "text": [
      "I\n",
      "I  I\n",
      "I     I\n",
      "I        I\n",
      "I           I\n",
      "I              I\n",
      "I                 I\n",
      "I                    I\n",
      "I  I  I  I  I  I  I  I  I\n"
     ]
    }
   ],
   "source": [
    "def picture(figure, raw_number):\n",
    "    print(figure)\n",
    "    for i in range(raw_number-2):\n",
    "        print(figure + ' ' * (3 * i + 2) + figure)\n",
    "    print((figure+'  ')*(raw_number-1)+figure)\n",
    "picture('I', 9)"
   ]
  },
  {
   "cell_type": "code",
   "execution_count": 3,
   "metadata": {},
   "outputs": [
    {
     "name": "stdout",
     "output_type": "stream",
     "text": [
      "                            I\n",
      "                          I   I\n",
      "                        I       I\n",
      "                      I           I\n",
      "                    I               I\n",
      "                  I                   I\n",
      "                I                       I\n",
      "              I                           I\n",
      "            I                               I\n",
      "          I                                   I\n",
      "        I                                       I\n",
      "      I                                           I\n",
      "    I                                               I\n",
      "  I                                                   I\n",
      "I                                                       I\n",
      "  I                                                   I\n",
      "    I                                               I\n",
      "      I                                           I\n",
      "        I                                       I\n",
      "          I                                   I\n",
      "            I                               I\n",
      "              I                           I\n",
      "                I                       I\n",
      "                  I                   I\n",
      "                    I               I\n",
      "                      I           I\n",
      "                        I       I\n",
      "                          I   I\n",
      "                            I\n"
     ]
    }
   ],
   "source": [
    "def picture(figure, length):\n",
    "    print(' ' * (2*(length-1))+figure)\n",
    "    for i in range(3, length+2):\n",
    "        print(' ' * ((length-i)*2 + 2) + 'I' + ' ' * ((((i - 3)*2+1)*2) +1) + 'I')\n",
    "    for i in range(3, length+1):\n",
    "        j = length + 3 - i\n",
    "        print(' ' * ((length-j)*2 + 2) + 'I' + ' ' * ((((j - 3)*2+1)*2) +1) + 'I')\n",
    "    print(' ' * (2 * (length - 1)) + figure)\n",
    "\n",
    "\n",
    "\n",
    "\n",
    "\n",
    "picture('I', 15)"
   ]
  }
 ],
 "metadata": {
  "kernelspec": {
   "display_name": "Python 3",
   "language": "python",
   "name": "python3"
  },
  "language_info": {
   "codemirror_mode": {
    "name": "ipython",
    "version": 3
   },
   "file_extension": ".py",
   "mimetype": "text/x-python",
   "name": "python",
   "nbconvert_exporter": "python",
   "pygments_lexer": "ipython3",
   "version": "3.5.4"
  }
 },
 "nbformat": 4,
 "nbformat_minor": 2
}
