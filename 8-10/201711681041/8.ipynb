{
 "cells": [
  {
   "cell_type": "code",
   "execution_count": 3,
   "metadata": {},
   "outputs": [
    {
     "name": "stdout",
     "output_type": "stream",
     "text": [
      "随便输入包含一句乱序五言诗句的话:贾 宝 玉 处 的 通 幽 曲 径\n",
      "这是电脑罗伯特先生的答案: 曲径通幽处，禅房花木深。\n"
     ]
    }
   ],
   "source": [
    "#点字成诗\n",
    "def find_poem_sentence(poems, characters):\n",
    "    \n",
    "    for poem in poems:\n",
    "        character_number = 0\n",
    "        for ch in poem:\n",
    "            if ch in characters:\n",
    "                character_number += 1\n",
    "        if character_number == 5:\n",
    "            return poem\n",
    "    return None\n",
    "\n",
    "def main():\n",
    "    with open(r'd:\\五言诗库.txt') as f:\n",
    "        text = f.read()\n",
    "    poems = text.split()\n",
    "    chs = input('随便输入包含一句乱序五言诗句的话:')\n",
    "    chsList = chs.split(' ')\n",
    "    robot_answer = find_poem_sentence(poems, chsList)\n",
    "    print('这是电脑罗伯特先生的答案:',robot_answer)\n",
    "    \n",
    "if __name__ == '__main__':\n",
    "    main()"
   ]
  },
  {
   "cell_type": "code",
   "execution_count": null,
   "metadata": {},
   "outputs": [
    {
     "name": "stdout",
     "output_type": "stream",
     "text": [
      "请从九言中择出五言诗: \n",
      "耕 日 凝\n",
      "报 书 将\n",
      "敝 预 家\n",
      "请君作答:布吉岛\n",
      "五言诗句为: 预将书报家\n",
      "-------------------- 五言诗游戏 --------------------\n",
      "请从九言中择出五言诗: \n",
      "月 关 夜\n",
      "倚 发 凉\n",
      "合 乘 散\n"
     ]
    }
   ],
   "source": [
    "#完整五言诗游戏\n",
    "\n",
    "import random\n",
    "def get_poem_list():\n",
    "    file_read = open(r'd:\\五言诗库.txt')\n",
    "    word_list = []\n",
    "    poems = file_read.read().replace('\\n','').replace('。','，')\n",
    "    poem_list = poems.split('，')\n",
    "    for word in poems:\n",
    "        if word not in word_list:\n",
    "            word_list.append(word)\n",
    "    #print (poem_list)\n",
    "    return poem_list,word_list\n",
    "\n",
    "def get_random_word(poem_list,word_list):\n",
    "    rand_poem_str = random.choice(poem_list)\n",
    "    rand_poem = [each_word for each_word in rand_poem_str]\n",
    "    #print (rand_poem)\n",
    "    while(len(rand_poem) < 9):\n",
    "        rand_word = random.choice(word_list)\n",
    "        if rand_word not in rand_poem:\n",
    "            rand_poem.append(rand_word)\n",
    "    random.shuffle(rand_poem)\n",
    "    print (\"请从九言中择出五言诗: \")\n",
    "    for i in range(0,9,3):\n",
    "        print (rand_poem[i],rand_poem[i+1],rand_poem[i+2])\n",
    "    return rand_poem\n",
    "\n",
    "def answer(poem_list,cadi_list):\n",
    "    for poem_sent in poem_list:\n",
    "        answer_length = 0\n",
    "        for poem_word in poem_sent:\n",
    "            if poem_word in cadi_list:\n",
    "                answer_length += 1\n",
    "            else:\n",
    "                break\n",
    "        if answer_length == 5:\n",
    "            print (\"五言诗句为:\" ,poem_sent)\n",
    "            print (\"-\"*20,\"五言诗游戏\",\"-\"*20)\n",
    "            break\n",
    "\n",
    "if __name__ == '__main__':\n",
    "    poem_list,word_list = get_poem_list()\n",
    "    for i in range(0,5):\n",
    "        tar_poem = get_random_word(poem_list,word_list)\n",
    "        m=input(str('请君作答:'))\n",
    "        answer(poem_list,tar_poem)"
   ]
  },
  {
   "cell_type": "code",
   "execution_count": null,
   "metadata": {},
   "outputs": [],
   "source": []
  }
 ],
 "metadata": {
  "kernelspec": {
   "display_name": "Python 3",
   "language": "python",
   "name": "python3"
  },
  "language_info": {
   "codemirror_mode": {
    "name": "ipython",
    "version": 3
   },
   "file_extension": ".py",
   "mimetype": "text/x-python",
   "name": "python",
   "nbconvert_exporter": "python",
   "pygments_lexer": "ipython3",
   "version": "3.6.2"
  }
 },
 "nbformat": 4,
 "nbformat_minor": 2
}
