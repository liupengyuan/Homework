{
 "cells": [
  {
   "cell_type": "code",
   "execution_count": 32,
   "metadata": {},
   "outputs": [
    {
     "name": "stdout",
     "output_type": "stream",
     "text": [
      "请输入第1个整数，以回车结束:3\n",
      "请输入第2个整数，以回车结束:3\n",
      "请输入第3个整数，以回车结束:3\n",
      "最终的阶层的和是： 18\n"
     ]
    }
   ],
   "source": [
    "#练习一\n",
    "def compute_sum(j):\n",
    "    total_j=1\n",
    "    i=0\n",
    "    while i<j:\n",
    "        i=i+1\n",
    "        total_j=total_j*i\n",
    "    return(total_j)\n",
    "n = int(input('请输入第1个整数，以回车结束:'))\n",
    "m = int(input('请输入第2个整数，以回车结束:'))\n",
    "k = int(input('请输入第3个整数，以回车结束:'))\n",
    "print('最终的阶层的和是：',compute_sum(n)+compute_sum(m)+compute_sum(k))"
   ]
  },
  {
   "cell_type": "code",
   "execution_count": 1,
   "metadata": {},
   "outputs": [
    {
     "name": "stdout",
     "output_type": "stream",
     "text": [
      "请输入您希望计算的项数：1000\n",
      "请输入您希望计算的项数：10000\n",
      "0.7851481634599485\n",
      "0.7853731633975086\n"
     ]
    }
   ],
   "source": [
    "#练习二\n",
    "def add_sum(n):\n",
    "    i=0\n",
    "    total=0\n",
    "    s=0\n",
    "    while i<n:\n",
    "        j=(1/(2*i+1))*(-1)**(i)\n",
    "        i=i+1\n",
    "        total=total+j\n",
    "    return(total)\n",
    "a=int(input('请输入您希望计算的项数：'))\n",
    "b=int(input('请输入您希望计算的项数：'))\n",
    "add_sum(a)\n",
    "add_sum(b)\n",
    "print(add_sum(a))\n",
    "print(add_sum(b))"
   ]
  },
  {
   "cell_type": "code",
   "execution_count": 27,
   "metadata": {},
   "outputs": [
    {
     "name": "stdout",
     "output_type": "stream",
     "text": [
      "May I know your name?Sabrina\n",
      "Welcome, Sabrina\n",
      "Please tell me your birthday except your born year like 3.21:4.12\n",
      "你是非常有个性的白羊座。\n"
     ]
    },
    {
     "data": {
      "text/plain": [
       "4.12"
      ]
     },
     "execution_count": 27,
     "metadata": {},
     "output_type": "execute_result"
    }
   ],
   "source": [
    "#练习三\n",
    "name=input('May I know your name?')\n",
    "print('Welcome,',name)\n",
    "birthday=float(input('Please tell me your birthday except your born year like 3.21:'))\n",
    "def measure_num(birthday):\n",
    "    if birthday<=4.20 and birthday>3.21:\n",
    "        print('你是非常有个性的白羊座。')\n",
    "    elif m<=5.21 and m>4.20:\n",
    "        print('你是非常有个性的金牛座。')\n",
    "    elif m<=6.21 and m>5.21:\n",
    "        print('你是非常有个性的双子座。')\n",
    "    elif m<=7.23 and m>6.21:\n",
    "        print('你是非常有个性的巨蟹座。')\n",
    "    elif m<=8.23 and m>7.23:\n",
    "        print('你是非常有个性的狮子座。')\n",
    "    elif m<=9.23 and m>8.23:\n",
    "        print('你是非常有个性的处女座。')\n",
    "    elif m<=10.23 and m>9.23:\n",
    "        print('你是非常有个性的天秤座。')\n",
    "    elif m<=11.22 and m>10.24:\n",
    "        print('你是非常有个性的天蝎座。')\n",
    "    elif m<=12.21 and m>11.22:\n",
    "        print('你是非常有个性的射手座。')\n",
    "    elif m<=2.19 and m>1.20:\n",
    "        print('你是非常有个性的水瓶座。')\n",
    "    elif m<=3.20 and m>2.19:\n",
    "        print('你是非常有个性的双鱼座。')\n",
    "    else:\n",
    "        print('你是非常有个性的摩羯座。')\n",
    "    return(birthday)\n",
    "measure_num(birthday)"
   ]
  },
  {
   "cell_type": "code",
   "execution_count": 30,
   "metadata": {},
   "outputs": [
    {
     "name": "stdout",
     "output_type": "stream",
     "text": [
      "请任意输入一个英文名词：mess\n",
      "它的复数为加es\n"
     ]
    },
    {
     "data": {
      "text/plain": [
       "'mess'"
      ]
     },
     "execution_count": 30,
     "metadata": {},
     "output_type": "execute_result"
    }
   ],
   "source": [
    "#练习三\n",
    "def end_letter(m):\n",
    "    if m.endswith('s'):\n",
    "        print('它的复数为加es')\n",
    "    else:\n",
    "        print('它的复数为加s')\n",
    "    return(m)\n",
    "m=input('请任意输入一个英文名词：')\n",
    "end_letter(m)"
   ]
  },
  {
   "cell_type": "code",
   "execution_count": 56,
   "metadata": {},
   "outputs": [
    {
     "name": "stdout",
     "output_type": "stream",
     "text": [
      "请输入第1个整数，以回车结束:2\n",
      "请输入第2个比上一个数大的整数，以回车结束:4\n",
      "请输入间隔，以回车结束:1\n",
      "最终的和是： 10\n"
     ]
    }
   ],
   "source": [
    "#练习四\n",
    "def compute_sum(n):\n",
    "    total=n\n",
    "    i=0\n",
    "    while n<m:\n",
    "        i=i+1\n",
    "        n=n+(i*k)\n",
    "        total=total+n\n",
    "    return(total)\n",
    "n = int(input('请输入第1个整数，以回车结束:'))\n",
    "m = int(input('请输入第2个比上一个数大的整数，以回车结束:'))\n",
    "k = int(input('请输入间隔，以回车结束:'))\n",
    "print('最终的和是：',compute_sum(n))"
   ]
  },
  {
   "cell_type": "code",
   "execution_count": null,
   "metadata": {},
   "outputs": [],
   "source": []
  }
 ],
 "metadata": {
  "kernelspec": {
   "display_name": "Python 3",
   "language": "python",
   "name": "python3"
  },
  "language_info": {
   "codemirror_mode": {
    "name": "ipython",
    "version": 3
   },
   "file_extension": ".py",
   "mimetype": "text/x-python",
   "name": "python",
   "nbconvert_exporter": "python",
   "pygments_lexer": "ipython3",
   "version": "3.6.2"
  }
 },
 "nbformat": 4,
 "nbformat_minor": 2
}
