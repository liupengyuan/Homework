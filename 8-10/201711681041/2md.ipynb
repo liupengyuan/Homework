{
 "cells": [
  {
   "cell_type": "code",
   "execution_count": 2,
   "metadata": {},
   "outputs": [
    {
     "name": "stdout",
     "output_type": "stream",
     "text": [
      "请输入一个正整数，以回车结束：4\n",
      "它的阶层为： 24\n"
     ]
    }
   ],
   "source": [
    "#练习一\n",
    "n = int(input('请输入一个正整数，以回车结束：'))\n",
    "\n",
    "i = 0\n",
    "total = 1\n",
    "\n",
    "while i < n:\n",
    "    i = i + 1\n",
    "    total = total *i\n",
    "    \n",
    "print('它的阶层为：',total)"
   ]
  },
  {
   "cell_type": "code",
   "execution_count": 4,
   "metadata": {},
   "outputs": [
    {
     "name": "stdout",
     "output_type": "stream",
     "text": [
      "请输入您的姓名：Sabrina\n",
      "您好, Sabrina\n",
      "请输入你要求和的数字个数，以回车结束:4\n",
      "请输入一个正整数，以回车结束:1\n",
      "请输入一个正整数，以回车结束:1\n",
      "请输入一个正整数，以回车结束:1\n",
      "请输入一个正整数，以回车结束:1\n",
      "这些数的和是： 4\n",
      "计算完成，再见！ Sabrina\n"
     ]
    }
   ],
   "source": [
    "#练习二\n",
    "name=input('请输入您的姓名：')\n",
    "print('您好,',name)\n",
    "\n",
    "n=int(input('请输入你要求和的数字个数，以回车结束:'))\n",
    "\n",
    "i=0\n",
    "total=0\n",
    "\n",
    "while i<n:\n",
    "    m=int(input('请输入一个正整数，以回车结束:'))\n",
    "    total=total+m\n",
    "    i=i+1\n",
    "\n",
    "print('这些数的和是：',total)\n",
    "\n",
    "print('计算完成，再见！',name)"
   ]
  },
  {
   "cell_type": "code",
   "execution_count": 12,
   "metadata": {},
   "outputs": [
    {
     "name": "stdout",
     "output_type": "stream",
     "text": [
      "下面您可以任意输入数字，直到您不想输入时，请输入no\n",
      "请输入数字：4\n",
      "请继续输入数字:4\n",
      "请继续输入数字:4\n",
      "请继续输入数字:no\n",
      "谢谢您的参与！\n"
     ]
    }
   ],
   "source": [
    "#练习三\n",
    "print('下面您可以任意输入数字，直到您不想输入时，请输入no')\n",
    "n=input('请输入数字：')\n",
    "m=('no')\n",
    "while n!=m:\n",
    "    n=input('请继续输入数字:')\n",
    "print('谢谢您的参与！')"
   ]
  },
  {
   "cell_type": "code",
   "execution_count": null,
   "metadata": {},
   "outputs": [],
   "source": [
    "#练习四\n",
    "n=int(input('请输入数字：'))\n",
    "\n",
    "sum=n\n",
    "s=n\n",
    "\n",
    "while sum<n or s<500:\n",
    "    n=int(input('请继续输入数字：'))\n",
    "    sum=sum+n\n",
    "    s=s*n\n",
    "\n",
    "print('感谢您的参与！')"
   ]
  },
  {
   "cell_type": "code",
   "execution_count": null,
   "metadata": {},
   "outputs": [],
   "source": []
  },
  {
   "cell_type": "code",
   "execution_count": null,
   "metadata": {},
   "outputs": [],
   "source": []
  }
 ],
 "metadata": {
  "kernelspec": {
   "display_name": "Python 3",
   "language": "python",
   "name": "python3"
  },
  "language_info": {
   "codemirror_mode": {
    "name": "ipython",
    "version": 3
   },
   "file_extension": ".py",
   "mimetype": "text/x-python",
   "name": "python",
   "nbconvert_exporter": "python",
   "pygments_lexer": "ipython3",
   "version": "3.6.2"
  }
 },
 "nbformat": 4,
 "nbformat_minor": 2
}
