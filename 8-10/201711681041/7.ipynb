{
 "cells": [
  {
   "cell_type": "code",
   "execution_count": 52,
   "metadata": {},
   "outputs": [
    {
     "name": "stdout",
     "output_type": "stream",
     "text": [
      "业作森派的姐小娜丽布萨"
     ]
    },
    {
     "data": {
      "text/plain": [
       "0"
      ]
     },
     "execution_count": 52,
     "metadata": {},
     "output_type": "execute_result"
    }
   ],
   "source": [
    "#练习一：自己定义一个reverse(s)函数，功能返回字符串s的倒序字符串。\n",
    "def reverse(i):\n",
    "    line='萨布丽娜小姐的派森作业'\n",
    "    for i in range(len(line)-1,-1,-1):\n",
    "        print(line[i],end='')\n",
    "    return(i)\n",
    "reverse(i)"
   ]
  },
  {
   "cell_type": "code",
   "execution_count": 55,
   "metadata": {},
   "outputs": [
    {
     "name": "stdout",
     "output_type": "stream",
     "text": [
      "输入您希望打印的字符:我\n",
      "输入您希望打印的行数:8\n",
      "我\n",
      "我我\n",
      "我我我\n",
      "我我我我\n",
      "我我我我我\n",
      "我我我我我我\n",
      "我我我我我我我\n",
      "我我我我我我我我\n",
      "这是直角三角形-------分界线-------\n",
      "现在我要规定字符了\n",
      "           \n",
      "          美\n",
      "         美美\n",
      "        美美美\n",
      "       美美美美\n",
      "      美美美美美\n",
      "     美美美美美美\n",
      "    美美美美美美美\n",
      "   美美美美美美美美\n",
      "  美美美美美美美美美\n",
      " 美美美美美美美美美美\n",
      "美美美美美美美美美美美\n",
      "这是等腰三角形-------分界线-------\n",
      "输入您希望打印的字符:吗\n",
      "输入您希望打印的行数:8\n",
      "    吗\n",
      "   吗吗\n",
      "   吗吗吗\n",
      "  吗吗吗吗\n",
      "  吗吗吗吗吗\n",
      " 吗吗吗吗吗吗\n",
      " 吗吗吗吗吗吗吗\n",
      "吗吗吗吗吗吗吗吗\n",
      "这是斜三角形-------分界线-------\n"
     ]
    }
   ],
   "source": [
    "#练习二：写函数，根据给定符号和行数，打印相应直角三角形，等腰三角形及其他形式的三角形。\n",
    "a=input('输入您希望打印的字符:')\n",
    "b=int(input('输入您希望打印的行数:'))\n",
    "for i in range(1, b+1):\n",
    "    for j in range(1,i+1):\n",
    "        print(a, end='')\n",
    "    print()\n",
    "print('这是直角三角形-------分界线-------')\n",
    "\n",
    "print('现在我要规定字符了')\n",
    "line = '美美美美美美'\n",
    "for i in range(1, len(line)*2+1):\n",
    "    for k in range(len(line)*2-i,0,-1):\n",
    "        print(' ', end='')\n",
    "    for j in range(1,i):\n",
    "        print(line[0], end='')\n",
    "    print()\n",
    "print('这是等腰三角形-------分界线-------')\n",
    "\n",
    "c=input('输入您希望打印的字符:')\n",
    "d=int(input('输入您希望打印的行数:'))\n",
    "for i in range(1, d+1):\n",
    "    for k in range(d-i,0,-2):\n",
    "        print(' ', end='')\n",
    "    for j in range(1,i+1):\n",
    "        print(c, end='')\n",
    "    print()\n",
    "print('这是斜三角形-------分界线-------')"
   ]
  },
  {
   "cell_type": "code",
   "execution_count": 61,
   "metadata": {},
   "outputs": [
    {
     "name": "stdout",
     "output_type": "stream",
     "text": [
      "请输入一个字符：呵\n",
      "请输入菱形的边长：6\n",
      "     呵\n",
      "    呵呵呵\n",
      "   呵呵呵呵呵\n",
      "  呵呵呵呵呵呵呵\n",
      " 呵呵呵呵呵呵呵呵呵\n",
      "呵呵呵呵呵呵呵呵呵呵呵\n",
      " 呵呵呵呵呵呵呵呵呵\n",
      "  呵呵呵呵呵呵呵\n",
      "   呵呵呵呵呵\n",
      "    呵呵呵\n",
      "     呵\n",
      "      \n",
      "呵呵呵呵呵呵呵呵呵呵呵呵\n",
      "呵呵呵呵呵呵呵呵呵呵呵呵\n",
      "呵呵呵呵呵呵呵呵呵呵呵呵\n",
      "呵呵呵呵呵呵呵呵呵呵呵呵\n",
      "呵呵呵呵呵呵呵呵呵呵呵呵\n",
      "呵呵呵呵呵呵呵呵呵呵呵呵\n"
     ]
    }
   ],
   "source": [
    "#练习五：写函数，根据给定符号，打印各种菱形。\n",
    "def diamond(j,k):\n",
    "    \n",
    "    for i in range(1,2 * k+ 1):\n",
    "        if i < k + 1:\n",
    "            print(' ' * (k - i) + j * (2 * i - 1))\n",
    "        else:\n",
    "            print(' ' * (i - k) + j * (4 * l - 1 - (2 * i)))\n",
    "            \n",
    "    \n",
    "    for i in range(1,l + 1):\n",
    "        print(j * l * 2)\n",
    "        \n",
    "j = input('请输入一个字符：')\n",
    "k = int(input('请输入菱形的边长：'))\n",
    "diamond(j,k)"
   ]
  },
  {
   "cell_type": "code",
   "execution_count": null,
   "metadata": {},
   "outputs": [],
   "source": []
  }
 ],
 "metadata": {
  "kernelspec": {
   "display_name": "Python 3",
   "language": "python",
   "name": "python3"
  },
  "language_info": {
   "codemirror_mode": {
    "name": "ipython",
    "version": 3
   },
   "file_extension": ".py",
   "mimetype": "text/x-python",
   "name": "python",
   "nbconvert_exporter": "python",
   "pygments_lexer": "ipython3",
   "version": "3.6.2"
  }
 },
 "nbformat": 4,
 "nbformat_minor": 2
}
