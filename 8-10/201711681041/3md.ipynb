{
 "cells": [
  {
   "cell_type": "code",
   "execution_count": 42,
   "metadata": {},
   "outputs": [
    {
     "name": "stdout",
     "output_type": "stream",
     "text": [
      "请输入第一个数，以回车结束:2\n",
      "请输入一个比第一个数大至少1的数，以回车结束:4\n",
      "a.您想计算第一个数到第二个数的和\n",
      "b.您想计算第一个数到第二个数的积\n",
      "c.您想计算第一个数除以第二个数商的余数\n",
      "d.都不想\n",
      "请输入您的意愿:a\n",
      "和为： 9\n"
     ]
    }
   ],
   "source": [
    "#练习二\n",
    "m = int(input('请输入第一个数，以回车结束:'))\n",
    "n = int(input('请输入一个比第一个数大至少1的数，以回车结束:'))\n",
    "print('a.您想计算第一个数到第二个数的和')\n",
    "print('b.您想计算第一个数到第二个数的积')\n",
    "print('c.您想计算第一个数除以第二个数商的余数')\n",
    "print('d.都不想')\n",
    "i=input('请输入您的意愿:')\n",
    "a=('a')\n",
    "b=('b')\n",
    "c=('c')\n",
    "d=('d')\n",
    "if i==a:\n",
    "    k=n-1\n",
    "    while m<k:\n",
    "        s=m\n",
    "        s=s+n\n",
    "        m=m+1\n",
    "        s=s+m\n",
    "    print('和为：',s)\n",
    "elif i==b:\n",
    "    j=n-1\n",
    "    while m<j:\n",
    "        s=m\n",
    "        s=s*n\n",
    "        m=m+1\n",
    "        s=s*m\n",
    "    print('积为：',s)\n",
    "elif i==c:\n",
    "    print('第一个数除以第二个数商的余数为：',m%n)\n",
    "else:\n",
    "    print('默认您计算第一个数整除第二个数的值为：',m+n)"
   ]
  },
  {
   "cell_type": "code",
   "execution_count": 49,
   "metadata": {},
   "outputs": [
    {
     "name": "stdout",
     "output_type": "stream",
     "text": [
      "请输入一个英文名词：lie\n",
      "这个单词复数极有可能为直接加s\n"
     ]
    }
   ],
   "source": [
    "#练习四\n",
    "m=input('请输入一个英文名词：')\n",
    "if m.endswith('s'):\n",
    "    print('这个单词复数极有可能为结尾加es')\n",
    "else:\n",
    "    print('这个单词复数极有可能为直接加s')"
   ]
  },
  {
   "cell_type": "code",
   "execution_count": null,
   "metadata": {},
   "outputs": [],
   "source": []
  }
 ],
 "metadata": {
  "kernelspec": {
   "display_name": "Python 3",
   "language": "python",
   "name": "python3"
  }
 },
 "nbformat": 4,
 "nbformat_minor": 2
}
