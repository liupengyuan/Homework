{
 "cells": [
  {
   "cell_type": "code",
   "execution_count": 11,
   "metadata": {},
   "outputs": [
    {
     "name": "stdout",
     "output_type": "stream",
     "text": [
      "输入您想计算的个数:2\n",
      "输入您想计算的随机数的下限:1\n",
      "输入您想计算的随机数的上限:5\n",
      "随机数为: 5\n",
      "随机数为: 5\n",
      "计算结果为: 10\n"
     ]
    }
   ],
   "source": [
    "#练习一\n",
    "import random\n",
    "def square_num(n,m,k):\n",
    "    i=0\n",
    "    s=0\n",
    "    while i<n:\n",
    "        i=i+1\n",
    "        number=random.randint(m,k)\n",
    "        print('随机数为:',number)\n",
    "        s=s+number\n",
    "        average=(s/n)**(1/2)\n",
    "    return(s)\n",
    "n=int(input('输入您想计算的个数:'))\n",
    "m=int(input('输入您想计算的随机数的下限:'))\n",
    "k=int(input('输入您想计算的随机数的上限:'))\n",
    "print('计算结果为:',square_num(n,m,k))"
   ]
  },
  {
   "cell_type": "code",
   "execution_count": 15,
   "metadata": {},
   "outputs": [
    {
     "name": "stdout",
     "output_type": "stream",
     "text": [
      "输入您想计算的个数:2\n",
      "输入您想计算的随机数的下限:1\n",
      "输入您想计算的随机数的上限:5\n",
      "随机数为: 5\n",
      "随机数为: 5\n"
     ]
    },
    {
     "data": {
      "text/plain": [
       "4.643856189774724"
      ]
     },
     "execution_count": 15,
     "metadata": {},
     "output_type": "execute_result"
    }
   ],
   "source": [
    "n=int(input('输入您想计算的个数:'))\n",
    "m=int(input('输入您想计算的随机数的下限:'))\n",
    "k=int(input('输入您想计算的随机数的上限:'))\n",
    "def log_num1(n,m,k):\n",
    "    i=0\n",
    "    s=0\n",
    "    total=0\n",
    "    while i<n:\n",
    "        import random\n",
    "        number=random.randint(m,k)\n",
    "        i=i+1\n",
    "        print('随机数为:',number)\n",
    "        import math\n",
    "        s=math.log2(number)\n",
    "        total=total+s\n",
    "    return(total)\n",
    "log_num1(n,m,k)   "
   ]
  }
 ],
 "metadata": {
  "kernelspec": {
   "display_name": "Python 3",
   "language": "python",
   "name": "python3"
  },
  "language_info": {
   "codemirror_mode": {
    "name": "ipython",
    "version": 3
   },
   "file_extension": ".py",
   "mimetype": "text/x-python",
   "name": "python",
   "nbconvert_exporter": "python",
   "pygments_lexer": "ipython3",
   "version": "3.6.2"
  }
 },
 "nbformat": 4,
 "nbformat_minor": 2
}
