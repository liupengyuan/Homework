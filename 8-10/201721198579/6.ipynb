{
 "cells": [
  {
   "cell_type": "code",
   "execution_count": 2,
   "metadata": {},
   "outputs": [
    {
     "name": "stdout",
     "output_type": "stream",
     "text": [
      "输入列表数据5\n",
      "输入列表数据6\n",
      "输入列表数据3\n",
      "输入列表数据#\n",
      "14\n"
     ]
    }
   ],
   "source": [
    "#写函数，返回一个list中所有数字的和\n",
    "def sumlist():\n",
    "    list_1=[]\n",
    "    list_1.append(input('输入列表数据'))\n",
    "    i=0\n",
    "    total=0\n",
    "    while list_1[i]!='#':\n",
    "        total=total+int(list_1[i])\n",
    "        i=i+1\n",
    "        list_1.append(input('输入列表数据'))\n",
    "    return total\n",
    "print(sumlist())"
   ]
  },
  {
   "cell_type": "code",
   "execution_count": 3,
   "metadata": {},
   "outputs": [
    {
     "name": "stdout",
     "output_type": "stream",
     "text": [
      "输入列表数据5\n",
      "输入列表数据6\n",
      "输入列表数据3\n",
      "输入列表数据#\n",
      "3\n"
     ]
    }
   ],
   "source": [
    "#写函数，返回一个list中的最小值\n",
    "def minlist():\n",
    "    list_1=[]\n",
    "    list_1.append(input('输入列表数据'))\n",
    "    i=0\n",
    "    while list_1[i]!='#':\n",
    "        i=i+1\n",
    "        list_1.append(input('输入列表数据'))\n",
    "    list_1.pop()\n",
    "    return min(list_1)\n",
    "print(minlist())"
   ]
  },
  {
   "cell_type": "code",
   "execution_count": 4,
   "metadata": {},
   "outputs": [
    {
     "name": "stdout",
     "output_type": "stream",
     "text": [
      "输入列表数据5\n",
      "输入列表数据6\n",
      "输入列表数据6\n",
      "输入列表数据3\n",
      "输入列表数据#\n",
      "输入一个元素3\n",
      "4\n"
     ]
    }
   ],
   "source": [
    "#写函数，返回某个元素/对象在一个list中的位置，如果不在，则返回-1.\n",
    "def addlist():\n",
    "    list_1=[]\n",
    "    list_1.append(input('输入列表数据'))\n",
    "    i=0\n",
    "    while list_1[i]!='#':\n",
    "        i=i+1\n",
    "        list_1.append(input('输入列表数据'))\n",
    "    return list_1\n",
    "def find(n,list1):\n",
    "    i=0\n",
    "    while i<len(list1):\n",
    "        if n==list1[i] :\n",
    "            return i+1\n",
    "        i=i+1\n",
    "    return -1\n",
    "list_1=addlist()\n",
    "n = input('输入一个元素')\n",
    "print(find(n,list_1))"
   ]
  },
  {
   "cell_type": "code",
   "execution_count": 5,
   "metadata": {},
   "outputs": [
    {
     "name": "stdout",
     "output_type": "stream",
     "text": [
      "输入第一个向量的x3\n",
      "输入第一个向量的y6\n",
      "输入第二个向量的x5\n",
      "输入第二个向量的y2\n",
      "0.7474093186836598\n"
     ]
    }
   ],
   "source": [
    "#写函数，可求两个向量的夹角余弦值，向量可放在list中。主程序调用该函数。\n",
    "import math\n",
    "def compute(list1,list2):\n",
    "    ab=list1[0]*list2[0]+list1[1]*list2[1]\n",
    "    axb=math.sqrt(list1[0]*list1[0]+list1[1]*list1[1])*math.sqrt(list2[0]*list2[0]+list2[1]*list2[1])\n",
    "    cos=ab/axb\n",
    "    return cos\n",
    "list1=[]\n",
    "list2=[]\n",
    "list1.append(int(input('输入第一个向量的x')))\n",
    "list1.append(int(input('输入第一个向量的y')))\n",
    "list2.append(int(input('输入第二个向量的x')))\n",
    "list2.append(int(input('输入第二个向量的y')))\n",
    "print(compute(list1,list2))"
   ]
  },
  {
   "cell_type": "code",
   "execution_count": 6,
   "metadata": {},
   "outputs": [
    {
     "name": "stdout",
     "output_type": "stream",
     "text": [
      "3741\n"
     ]
    }
   ],
   "source": [
    "#挑战性习题：python语言老师为了激励学生学python，自费买了100个完全相同的Macbook Pro，分给三个班级，每个班级至少分5个，用穷举法计算共有多少种分法\n",
    "def sprate():\n",
    "    i=5\n",
    "    j=5\n",
    "    k=5\n",
    "    count=0\n",
    "    for i in range(5,91):\n",
    "        for j in range(5,91):\n",
    "            for k in range(5,91):\n",
    "                if (i+j+k)==100:\n",
    "                    count=count+1\n",
    "                k=k+1\n",
    "            j=j+1\n",
    "        i=i+1\n",
    "    return count\n",
    "print(sprate())"
   ]
  },
  {
   "cell_type": "code",
   "execution_count": null,
   "metadata": {
    "collapsed": true
   },
   "outputs": [],
   "source": []
  }
 ],
 "metadata": {
  "kernelspec": {
   "display_name": "Python 3",
   "language": "python",
   "name": "python3"
  }
 },
 "nbformat": 4,
 "nbformat_minor": 2
}
