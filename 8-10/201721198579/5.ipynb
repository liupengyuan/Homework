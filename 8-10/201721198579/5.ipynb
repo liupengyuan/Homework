{
 "cells": [
  {
   "cell_type": "code",
   "execution_count": 1,
   "metadata": {},
   "outputs": [
    {
     "name": "stdout",
     "output_type": "stream",
     "text": [
      "输入数字个数3\n",
      "输入下限1\n",
      "输入上限9\n",
      "第 1 个数为 3\n",
      "第 2 个数为 1\n",
      "第 3 个数为 6\n",
      "n个随机数的和为： 10\n"
     ]
    }
   ],
   "source": [
    "#练习 1：写函数，求n个随机整数均值的平方根，整数范围在m与k之间（n,m,k由用户输入）\n",
    "\n",
    "import random\n",
    "def compute(n,m,k):\n",
    "    i=0\n",
    "    total=0\n",
    "    while i<n:\n",
    "        a=random.randint(m,k)\n",
    "        print('第',i+1,'个数为',a)\n",
    "        total=total+a\n",
    "        i=i+1\n",
    "    return total\n",
    "    \n",
    "n=int(input('输入数字个数'))\n",
    "m=int(input('输入下限'))\n",
    "k=int(input('输入上限'))\n",
    "print('n个随机数的和为：',compute(n,m,k))"
   ]
  },
  {
   "cell_type": "code",
   "execution_count": 2,
   "metadata": {},
   "outputs": [
    {
     "name": "stdout",
     "output_type": "stream",
     "text": [
      "输入数字个数6\n",
      "输入下限1\n",
      "输入上限9\n",
      "第 1 个数为 8\n",
      "第 2 个数为 6\n",
      "第 3 个数为 3\n",
      "第 4 个数为 8\n",
      "第 5 个数为 6\n",
      "第 6 个数为 8\n",
      "两个和分别为 (10.920455852163727, 3.469155520618295)\n"
     ]
    }
   ],
   "source": [
    "#练习 2：写函数，共n个随机整数，整数范围在m与k之间，（n,m,k由用户输入）。求1：西格玛log(随机整数)，2：西格玛1/log(随机整数)\n",
    "import math,random\n",
    "def log(n,m,k):\n",
    "    i=0\n",
    "    totala=0\n",
    "    totalb=0\n",
    "    while i<n:\n",
    "        a=random.randint(m,k)\n",
    "        print('第',i+1,'个数为',a)\n",
    "        loga=math.log(a)\n",
    "        logb=1/loga\n",
    "        totala=totala+loga\n",
    "        totalb=totalb+logb\n",
    "        i=i+1\n",
    "    return totala,totalb\n",
    "n=int(input('输入数字个数'))\n",
    "m=int(input('输入下限'))\n",
    "k=int(input('输入上限'))\n",
    "print('两个和分别为',log(n,m,k))"
   ]
  },
  {
   "cell_type": "code",
   "execution_count": 1,
   "metadata": {},
   "outputs": [
    {
     "name": "stdout",
     "output_type": "stream",
     "text": [
      "输入数字个数3\n",
      "这个数为 3\n",
      "33\n",
      "333\n",
      "3333\n",
      "369\n"
     ]
    }
   ],
   "source": [
    "#练习 3：写函数，求s=a+aa+aaa+aaaa+aa...a的值，其中a是[1,9]之间的随机整数。例如2+22+222+2222+22222(此时共有5个数相加)，几个数相加由键盘输入。\n",
    "import random\n",
    "def compute(n):\n",
    "    total=0\n",
    "    j=0\n",
    "    num=random.randint(1,9)\n",
    "    print('这个数为',num)\n",
    "    a=num\n",
    "    while j<n:\n",
    "        total=total+a\n",
    "        a=a*10+num\n",
    "        print(a)\n",
    "        j=j+1\n",
    "    return total\n",
    "n=int(input('输入数字个数'))\n",
    "print(compute(n))"
   ]
  },
  {
   "cell_type": "code",
   "execution_count": null,
   "metadata": {
    "collapsed": true
   },
   "outputs": [],
   "source": []
  }
 ],
 "metadata": {
  "kernelspec": {
   "display_name": "Python 3",
   "language": "python",
   "name": "python3"
  },
  "language_info": {
   "codemirror_mode": {
    "name": "ipython",
    "version": 3
   },
   "file_extension": ".py",
   "mimetype": "text/x-python",
   "name": "python",
   "nbconvert_exporter": "python",
   "pygments_lexer": "ipython3",
   "version": "3.6.2"
  }
 },
 "nbformat": 4,
 "nbformat_minor": 2
}
