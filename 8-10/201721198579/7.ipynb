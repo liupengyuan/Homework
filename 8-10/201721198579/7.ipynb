{
 "cells": [
  {
   "cell_type": "code",
   "execution_count": 1,
   "metadata": {},
   "outputs": [
    {
     "name": "stdout",
     "output_type": "stream",
     "text": [
      "输入字符串sfassd\n",
      "倒序为\n",
      "d\n",
      "s\n",
      "s\n",
      "a\n",
      "f\n",
      "s\n"
     ]
    }
   ],
   "source": [
    "#练习一：自己定义一个reverse(s)函数，功能返回字符串s的倒序字符串。\n",
    "def reverse(s):\n",
    "    long=len(s)\n",
    "    for i in range(1,long+1):\n",
    "        print(s[long-i])\n",
    "s=input('输入字符串')\n",
    "print('倒序为')\n",
    "reverse(s)"
   ]
  },
  {
   "cell_type": "code",
   "execution_count": 2,
   "metadata": {},
   "outputs": [
    {
     "name": "stdout",
     "output_type": "stream",
     "text": [
      "输入打印的字符w\n",
      "输入行数5\n",
      "w\n",
      "ww\n",
      "www\n",
      "wwww\n",
      "wwwww\n",
      "    w\n",
      "   www\n",
      "  wwwww\n",
      " wwwwwww\n",
      "wwwwwwwww\n",
      "w\n",
      " www\n",
      "  wwwww\n",
      "   wwwwwww\n",
      "    wwwwwwwww\n",
      "    w\n",
      "   wwww\n",
      "  wwwwwww\n",
      " wwwwwwwwww\n",
      "wwwwwwwwwwwww\n"
     ]
    }
   ],
   "source": [
    "#练习二：写函数，根据给定符号和行数，打印相应直角三角形，等腰三角形及其他形式的三角形。\n",
    "def drawtrangle(c, row):#直角三角形\n",
    "    for i in range(1,row+1):\n",
    "            print(c*i)\n",
    "\n",
    "        \n",
    "def drawequaltrangle(c,row):\n",
    "    for i in range(1,row+1):\n",
    "            print((row-i)*' '+c*(2*i-1))\n",
    "    \n",
    "def drawanothertrangle(c,row):\n",
    "    for i in range(row):\n",
    "        print (' ' * i + c * (i * 2 + 1))\n",
    "    for i in range(row):\n",
    "        print (' ' * (row - 1 - i) + c * ( 3 * i + 1))\n",
    "\n",
    "c=input('输入打印的字符')\n",
    "row=int(input('输入行数'))  \n",
    "drawtrangle(c,row)\n",
    "drawequaltrangle(c,row)\n",
    "drawanothertrangle(c,row) "
   ]
  },
  {
   "cell_type": "code",
   "execution_count": 1,
   "metadata": {},
   "outputs": [
    {
     "name": "stdout",
     "output_type": "stream",
     "text": [
      "输入打印的字符w\n",
      "输入行数5\n",
      "    w\n",
      "   www\n",
      "  wwwww\n",
      " wwwwwww\n",
      "wwwwwwwww\n",
      " wwwwwww\n",
      "  wwwww\n",
      "   www\n",
      "    w\n",
      "        w\n",
      "      wwwww\n",
      "    wwwwwwwww\n",
      "  wwwwwwwwwwwww\n",
      "wwwwwwwwwwwwwwwww\n",
      "  wwwwwwwwwwwww\n",
      "    wwwwwwwww\n",
      "      wwwww\n",
      "        w\n",
      "          \n"
     ]
    }
   ],
   "source": [
    "#练习五：写函数，根据给定符号，打印各种菱形。\n",
    "def drawrhombus(c,row):\n",
    "    i = 0\n",
    "    for i in range(row) :\n",
    "        print(' ' * (row - 1 - i) + c* (2 * i + 1))\n",
    "    j = 1\n",
    "    while i > 0 :\n",
    "        print(' '*j+c*(2*i-1))\n",
    "        i -= 1\n",
    "        j += 1\n",
    "    for i in range(row) :\n",
    "        print(' ' * 2 * (row - 1 - i ) + c * (4 * i + 1))\n",
    "    j = 1\n",
    "    while i >= 0 :\n",
    "        print(' ' *(2 * j) + c * ( 4 * i - 3))\n",
    "        i -= 1\n",
    "        j += 1\n",
    "c=input('输入打印的字符')\n",
    "row=int(input('输入行数'))  \n",
    "drawrhombus(c,row)\n",
    "\n"
   ]
  },
  {
   "cell_type": "code",
   "execution_count": null,
   "metadata": {
    "collapsed": true
   },
   "outputs": [],
   "source": []
  }
 ],
 "metadata": {
  "kernelspec": {
   "display_name": "Python 3",
   "language": "python",
   "name": "python3"
  },
  "language_info": {
   "codemirror_mode": {
    "name": "ipython",
    "version": 3
   },
   "file_extension": ".py",
   "mimetype": "text/x-python",
   "name": "python",
   "nbconvert_exporter": "python",
   "pygments_lexer": "ipython3",
   "version": "3.6.2"
  }
 },
 "nbformat": 4,
 "nbformat_minor": 2
}
