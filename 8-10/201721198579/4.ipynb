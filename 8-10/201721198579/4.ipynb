{
 "cells": [
  {
   "cell_type": "code",
   "execution_count": 1,
   "metadata": {},
   "outputs": [
    {
     "name": "stdout",
     "output_type": "stream",
     "text": [
      "输入第一个数字：5\n",
      "输入第二个数字：6\n",
      "输入第三个数字：2\n",
      "三个数的阶乘的和为： 145\n"
     ]
    }
   ],
   "source": [
    "#练习 1：仿照求$ \\sum_{i=1}^mi + \\sum_{i=1}^ni  + \\sum_{i=1}^ki$的完整代码，写程序，可求m!+n!+k!\n",
    "\n",
    "def compute(i):\n",
    "    total=1\n",
    "    j=1\n",
    "    while j<i:\n",
    "        total=total*j\n",
    "        j=j+1\n",
    "    return total\n",
    "m=int(input('输入第一个数字：'))\n",
    "n=int(input('输入第二个数字：'))\n",
    "k=int(input('输入第三个数字：'))\n",
    "print('三个数的阶乘的和为：',compute(m)+compute(n)+compute(k))"
   ]
  },
  {
   "cell_type": "code",
   "execution_count": 2,
   "metadata": {},
   "outputs": [
    {
     "name": "stdout",
     "output_type": "stream",
     "text": [
      "前1000项求和： 3.140592653839794\n",
      "前10000项求和： 3.1414926535900345\n"
     ]
    }
   ],
   "source": [
    "#练习 2：写函数可返回1 - 1/3 + 1/5 - 1/7...的前n项的和。在主程序中，分别令n=1000及100000，打印4倍该函数的和。\n",
    "\n",
    "def compute(n):\n",
    "    i=1\n",
    "    flag=1\n",
    "    total=0\n",
    "    j=0\n",
    "    while j<n:\n",
    "        total=total+flag*(1/i)\n",
    "        flag=-flag\n",
    "        i=i+2\n",
    "        j=j+1\n",
    "    return total\n",
    "print('前1000项求和：',compute(1000)*4)\n",
    "print('前10000项求和：',compute(10000)*4)"
   ]
  },
  {
   "cell_type": "code",
   "execution_count": 3,
   "metadata": {},
   "outputs": [
    {
     "name": "stdout",
     "output_type": "stream",
     "text": [
      "输入您的名字cheng\n",
      "输入您的生日9.20\n",
      "cheng 您是非常有性格的 处女座\n"
     ]
    }
   ],
   "source": [
    "#练习 3：将task3中的练习1及练习4改写为函数，并进行调用。\n",
    "#练习1\n",
    "def compute(date):\n",
    "    if date >= 3.21 and date <= 3.31 or date >= 4.01 and date <= 4.19 :\n",
    "        star = '白羊座'\n",
    "    elif date >= 4.20 and date <= 4.30 or date >= 5.01 and date <= 5.20:\n",
    "        star = '金牛座'\n",
    "    elif date >= 5.21 and date <= 5.31 or date >= 6.01 and date <= 6.21:\n",
    "        star = '双子座'\n",
    "    elif date >= 6.22 and date <= 6.30 or date >= 7.01 and date <= 7.22:\n",
    "        star = '巨蟹座'\n",
    "    elif date >= 7.23 and date <= 7.31 or date >= 8.01 and date <= 8.22:\n",
    "        star = '狮子座'\n",
    "    elif date >= 8.23 and date <= 8.31 or date >= 9.01 and date <= 9.22:\n",
    "        star = '处女座'\n",
    "    elif date >= 9.23 and date <= 9.30 or date >= 10.01 and date <= 10.23:\n",
    "        star = '天秤座'\n",
    "    elif date >= 10.24 and date <= 10.31 or date >= 11.01 and date <= 11.22:\n",
    "        star = '天蝎座'\n",
    "    elif date >= 11.23 and date <= 11.30 or date >= 12.01 and date <= 12.21:\n",
    "        star = '射手座'\n",
    "    elif date >= 12.22 and date <= 12.31 or date >= 1.01 and date <= 1.19 :\n",
    "        star = '摩羯座'\n",
    "    elif date >= 1.20 and date <= 1.31  or date >= 2.01 and date <= 2.18:\n",
    "        star = '水瓶座'\n",
    "    elif date >= 2.19 and date <= 2.28 or date >= 3.01 and date <= 3.20:\n",
    "        star = '双鱼座'\n",
    "    else:\n",
    "        date= float(input('输入错误'))\n",
    "        compute(input('重新输入'))\n",
    "    return star\n",
    "\n",
    "n=input('输入您的名字')\n",
    "m=float(input('输入您的生日'))\n",
    "print(n,'您是非常有性格的',compute(m))"
   ]
  },
  {
   "cell_type": "code",
   "execution_count": 4,
   "metadata": {},
   "outputs": [
    {
     "name": "stdout",
     "output_type": "stream",
     "text": [
      "输入单词fly\n",
      "flies\n",
      "输入单词#\n"
     ]
    }
   ],
   "source": [
    "#练习4\n",
    "def compute(char):\n",
    "    if char.endswith('s') or char.endswith('x') or char.endswith('z') or char.endswith('ch') or char.endswith('sh') or char.endswith('o'):\n",
    "        char=char+'es'\n",
    "    elif char.endswith('f') or char.endswith('fe'):\n",
    "          if  char.endswith('fe'):\n",
    "               char=char[:-2]\n",
    "          if  char.endswith('f'):\n",
    "              char=char[:-1]\n",
    "          char=char+'ves'\n",
    "    elif  char.endswith('y'):\n",
    "          if char.endswith('ay') or char.endswith('ey') or char.endswith('iy') or char.endswith('oy') or char.endswith('uy') :\n",
    "              char=char+'s'\n",
    "          else:\n",
    "              char=char[:-1]\n",
    "              char=char+'ies'\n",
    "    elif char.endswith('us'):\n",
    "           char=char[:-2]\n",
    "           char=char+'i'\n",
    "    else :\n",
    "        char=char+'s'\n",
    "    return char\n",
    " \n",
    "\n",
    "char=input('输入单词')\n",
    "while char!='#':\n",
    "    char=compute(char)\n",
    "    print(char)\n",
    "    char=input('输入单词')"
   ]
  },
  {
   "cell_type": "code",
   "execution_count": null,
   "metadata": {
    "collapsed": true
   },
   "outputs": [],
   "source": []
  }
 ],
 "metadata": {
  "kernelspec": {
   "display_name": "Python 3",
   "language": "python",
   "name": "python3"
  },
  "language_info": {
   "codemirror_mode": {
    "name": "ipython",
    "version": 3
   },
   "file_extension": ".py",
   "mimetype": "text/x-python",
   "name": "python",
   "nbconvert_exporter": "python",
   "pygments_lexer": "ipython3",
   "version": "3.6.2"
  }
 },
 "nbformat": 4,
 "nbformat_minor": 2
}
