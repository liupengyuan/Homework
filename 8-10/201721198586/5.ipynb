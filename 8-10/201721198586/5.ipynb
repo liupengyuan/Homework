{
 "cells": [
  {
   "cell_type": "code",
   "execution_count": 5,
   "metadata": {},
   "outputs": [
    {
     "name": "stdout",
     "output_type": "stream",
     "text": [
      "input the count of number n : 3\n",
      "input the min number m : 1\n",
      "input the max number k : 10\n",
      "rand_number:5\n",
      "\n",
      "rand_number:6\n",
      "\n",
      "rand_number:2\n",
      "\n",
      "2.0\n"
     ]
    }
   ],
   "source": [
    "#练习 1：写函数，求n个随机整数均值的平方根，整数范围在m与k之间\n",
    "\n",
    "import random\n",
    "import math\n",
    "\n",
    "def av_square_root(n,m,k):\n",
    "    sum = 0\n",
    "    for i in range(0,n):\n",
    "        value = random.randint(m,k)\n",
    "        print \"rand_number:\" + str(value) + \"\\n\"\n",
    "        sum = sum + value\n",
    "    avarage = sum / n\n",
    "    return math.sqrt(avarage)\n",
    "    \n",
    "n=int(input(\"input the count of number n : \"))\n",
    "m=int(input(\"input the min number m : \"))\n",
    "k=int(input(\"input the max number k : \"))\n",
    "print av_square_root(n,m,k)"
   ]
  },
  {
   "cell_type": "code",
   "execution_count": 8,
   "metadata": {},
   "outputs": [
    {
     "name": "stdout",
     "output_type": "stream",
     "text": [
      "input the count of number n : 3\n",
      "input the min number m : 2\n",
      "input the max number k : 11\n",
      "rand_number:11\n",
      "\n",
      "rand_number:9\n",
      "\n",
      "rand_number:8\n",
      "\n",
      "(6.674561391814427, 1.3530503517006527)\n"
     ]
    }
   ],
   "source": [
    "#练习 2：写函数，共n个随机整数，整数范围在m与k之间，（n,m,k由用户输入）。求1：西格玛log(随机整数)，2：西格玛1/log(随机整数)\n",
    "\n",
    "import random\n",
    "import math\n",
    "from __future__ import division\n",
    "def sum_log(n,m,k):\n",
    "    sum_log = 0\n",
    "    sum_log_1 = 0\n",
    "    for i in range(0,n):\n",
    "        value = random.randint(m,k)\n",
    "        print \"rand_number:\" + str(value) + \"\\n\"\n",
    "        sum_log = sum_log + math.log(value)\n",
    "        sum_log_1 = sum_log_1 + 1/math.log(value)\n",
    "    return sum_log,sum_log_1\n",
    "    \n",
    "n=int(input(\"input the count of number n : \"))\n",
    "m=int(input(\"input the min number m : \"))\n",
    "k=int(input(\"input the max number k : \"))\n",
    "print sum_log(n,m,k)"
   ]
  },
  {
   "cell_type": "code",
   "execution_count": null,
   "metadata": {
    "collapsed": true
   },
   "outputs": [],
   "source": []
  },
  {
   "cell_type": "code",
   "execution_count": null,
   "metadata": {
    "collapsed": true
   },
   "outputs": [],
   "source": []
  }
 ],
 "metadata": {
  "kernelspec": {
   "display_name": "Python 2",
   "language": "python",
   "name": "python2"
  },
  "language_info": {
   "codemirror_mode": {
    "name": "ipython",
    "version": 2
   },
   "file_extension": ".py",
   "mimetype": "text/x-python",
   "name": "python",
   "nbconvert_exporter": "python",
   "pygments_lexer": "ipython2",
   "version": "2.7.13"
  }
 },
 "nbformat": 4,
 "nbformat_minor": 2
}
