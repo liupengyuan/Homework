{
 "cells": [
  {
   "cell_type": "code",
   "execution_count": 1,
   "metadata": {},
   "outputs": [
    {
     "name": "stdout",
     "output_type": "stream",
     "text": [
      "input a number m: 3\n",
      "input a number n: 2\n",
      "input a number k: 1\n",
      "final result is :9\n"
     ]
    }
   ],
   "source": [
    "# 练习 1：写程序，可求m!+n!+k!\n",
    "\n",
    "def mul(n):\n",
    "    mul_res = 1\n",
    "    for i in range(1,n+1):\n",
    "        mul_res = mul_res * i\n",
    "    return mul_res\n",
    "\n",
    "m = int(input(\"input a number m: \"))\n",
    "n = int(input(\"input a number n: \"))\n",
    "k = int(input(\"input a number k: \"))\n",
    "print \"final result is :\" + str (mul(m) + mul(n) + mul(k))"
   ]
  },
  {
   "cell_type": "code",
   "execution_count": 20,
   "metadata": {},
   "outputs": [
    {
     "name": "stdout",
     "output_type": "stream",
     "text": [
      "0.78514816346\n",
      "0.785395663397\n"
     ]
    }
   ],
   "source": [
    "# 练习 2：写函数可返回1 - 1/3 + 1/5 - 1/7...的前n项的和。在主程序中，分别令n=1000及100000，打印4倍该函数的和。\n",
    "\n",
    "from __future__ import division\n",
    "def sum(n):\n",
    "    sum = 0.0\n",
    "    for i in range(1,n+1):\n",
    "        sum = sum + float(pow(-1,i+1)/(2*i-1))\n",
    "        \n",
    "    return sum\n",
    "\n",
    "n=1000\n",
    "print sum(n)\n",
    "\n",
    "n=100000\n",
    "print sum(n)\n",
    "    "
   ]
  },
  {
   "cell_type": "code",
   "execution_count": 25,
   "metadata": {},
   "outputs": [
    {
     "name": "stdout",
     "output_type": "stream",
     "text": [
      "input a single word: word\n",
      "pl: words\n"
     ]
    }
   ],
   "source": [
    "#练习 3：将task3中的练习1及练习4改写为函数，并进行调用。\n",
    "\n",
    "# 3.4\n",
    "\n",
    "def change_to_pl(word):\n",
    "    if word.endswith(\"y\"):\n",
    "        sub_word = word[:-1]\n",
    "        return sub_word + 'ies'\n",
    "    elif word.endswith(\"fe\"):\n",
    "        sub_word = word[:-2]\n",
    "        return sub_word + 'ves'\n",
    "    elif word.endswith(\"o\"):\n",
    "        return word + 'es'\n",
    "    elif word.endswith(\"f\"):\n",
    "        sub_word = word[:-1]\n",
    "        return sub_word + 'ves'\n",
    "    else:\n",
    "        return word + \"s\"\n",
    "    \n",
    "word = raw_input(\"input a single word: \")\n",
    "print \"pl: \" + change_to_pl(word)"
   ]
  },
  {
   "cell_type": "code",
   "execution_count": 23,
   "metadata": {},
   "outputs": [
    {
     "name": "stdout",
     "output_type": "stream",
     "text": [
      "input a number m: 3\n",
      "input a number n: 2\n",
      "input a number k: 1\n",
      "5\n"
     ]
    }
   ],
   "source": [
    "#练习 4：写程序，可以求从整数m到整数n累加的和，间隔为k，求和部分需用函数实现，主程序中由用户输入m，n，k调用函数验证正确性\n",
    "\n",
    "def sum_k(m,n,k):\n",
    "    if m > n :\n",
    "        tmp = m\n",
    "        m = n\n",
    "        n = tmp\n",
    "    sum = 0\n",
    "    i = m\n",
    "    while(i <= n) :\n",
    "        sum = sum + i\n",
    "        i = i + k\n",
    "    return sum\n",
    "\n",
    "m = int(input(\"input a number m: \"))\n",
    "n = int(input(\"input a number n: \"))\n",
    "k = int(input(\"input a number k: \"))\n",
    "print sum_k(m,n,k)"
   ]
  },
  {
   "cell_type": "code",
   "execution_count": 3,
   "metadata": {},
   "outputs": [
    {
     "name": "stdout",
     "output_type": "stream",
     "text": [
      "璇烽棶鎮ㄥ彨浠�箞鍚嶅瓧锛�merry\n",
      "璇疯緭鍏ヤ綘鐨勭敓鏃�鏍煎紡涓猴細01010426\n",
      "merry你是非常有性格的:\n",
      "双鱼座\n"
     ]
    }
   ],
   "source": [
    "#练习 3：将task3中的练习1及练习4改写为函数，并进行调用。\n",
    "\n",
    "# 3.1\n",
    "\n",
    "#coding: utf-8\n",
    "name=raw_input(\"请问您叫什么名字？\")\n",
    "birthday=int(input(\"请输入你的生日 格式为：0101\"))\n",
    "def star(x):\n",
    "    #if x>=321&&x<=419:\n",
    "    if 321<=x<=419:\n",
    "        print(\"白羊座\")\n",
    "    #elif x>=420&&x<=520:\n",
    "    elif 420<=x<=520:\n",
    "        print(\"金牛座\")\n",
    "    #elif x>=521&&x<=620:\n",
    "    elif 521<=x<=620:\n",
    "        print(\"双子座\")\n",
    "    #elif x>=621&&x<=721:\n",
    "    elif 621<=x<=721:\n",
    "        print(\"巨蟹座\")\n",
    "    #elif x>=722&&x<=822:\n",
    "    elif 722<=x<=822:\n",
    "        print(\"狮子座\")\n",
    "    #elif x>=823&&x<=922:\n",
    "    elif 823<=x<=922:\n",
    "        print(\"处女座\")\n",
    "    #elif x>=923&&x<=1022:\n",
    "    elif 923<=x<=1022:\n",
    "        print(\"天枰座\")\n",
    "    #elif x>=1023&&x<=1121:\n",
    "    elif 1023<=x<=1121:\n",
    "        print(\"天蝎座\")    \n",
    "    #elif x>=1122&&x<=1221:\n",
    "    elif 1122<=x<=1221:\n",
    "        print(\"射手座\")\n",
    "    #elif x>=120&&x<=218:\n",
    "    elif 120<=x<=218:\n",
    "        print(\"水瓶座\")    \n",
    "    #elif x>=219&&x<=320:\n",
    "    elif 219<=x<=320:\n",
    "        print(\"双鱼座\")  \n",
    "    else:\n",
    "        print(\"摩羯座\")\n",
    "        \n",
    "print(\"%s你是非常有性格的:\" %name)\n",
    "star(birthday)"
   ]
  },
  {
   "cell_type": "code",
   "execution_count": null,
   "metadata": {
    "collapsed": true
   },
   "outputs": [],
   "source": []
  }
 ],
 "metadata": {
  "kernelspec": {
   "display_name": "Python 2",
   "language": "python",
   "name": "python2"
  },
  "language_info": {
   "codemirror_mode": {
    "name": "ipython",
    "version": 2
   },
   "file_extension": ".py",
   "mimetype": "text/x-python",
   "name": "python",
   "nbconvert_exporter": "python",
   "pygments_lexer": "ipython2",
   "version": "2.7.13"
  }
 },
 "nbformat": 4,
 "nbformat_minor": 2
}
