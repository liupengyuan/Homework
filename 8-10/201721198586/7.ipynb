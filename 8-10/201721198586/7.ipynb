{
 "cells": [
  {
   "cell_type": "code",
   "execution_count": 17,
   "metadata": {},
   "outputs": [
    {
     "name": "stdout",
     "output_type": "stream",
     "text": [
      "reverse :['d', 'r', 'o', 'w']\n"
     ]
    }
   ],
   "source": [
    "#练习一：自己定义一个reverse(s)函数，功能返回字符串s的倒序字符串。\n",
    "\n",
    "def reverse(s):\n",
    "    index = len(s)\n",
    "    s_inverse = []\n",
    "    for i in range(0,len(s)):\n",
    "        s_inverse.append(s[index-1])\n",
    "        index =index - 1\n",
    "    return s_inverse\n",
    "\n",
    "if __name__ == '__main__':\n",
    "    s = \"word\"\n",
    "    s_inverse = []\n",
    "    s_inverse = reverse(s)\n",
    "    print ('reverse :{}'.format(s_inverse))"
   ]
  },
  {
   "cell_type": "code",
   "execution_count": 25,
   "metadata": {},
   "outputs": [
    {
     "name": "stdout",
     "output_type": "stream",
     "text": [
      "*\n",
      "**\n",
      "***\n",
      "****\n",
      "------------------------------分割线------------------------------\n",
      "    @    \n",
      "   @@@   \n",
      "  @@@@@  \n",
      " @@@@@@@ \n",
      "@@@@@@@@@\n"
     ]
    }
   ],
   "source": [
    "#练习二：写函数，根据给定符号和行数，打印相应直角三角形，等腰三角形及其他形式的三角形。\n",
    "\n",
    "def stright_trangle(sign,line):\n",
    "    for i in range(1,line+1):\n",
    "        print(sign*i)\n",
    "\n",
    "def equal_trangle(sign,line):\n",
    "    for i in range(1,line+1):\n",
    "        print(' '*(line-i)+sign*(2*i-1)+' '*(line-i))\n",
    "        \n",
    "if __name__ =='__main__':\n",
    "    stright_trangle(\"*\",4)\n",
    "    print(\"-\"*30+\"分割线\"+\"-\"*30)\n",
    "    equal_trangle(\"@\",5)"
   ]
  },
  {
   "cell_type": "code",
   "execution_count": 34,
   "metadata": {},
   "outputs": [
    {
     "name": "stdout",
     "output_type": "stream",
     "text": [
      "    xxxxx    \n",
      "   xxxxx   \n",
      "  xxxxx  \n",
      " xxxxx \n",
      "xxxxx\n",
      "------------------------------分割线------------------------------\n",
      "xxxxx\n",
      " xxxxx \n",
      "  xxxxx  \n",
      "   xxxxx   \n",
      "    xxxxx    \n",
      "------------------------------分割线------------------------------\n",
      "    x    \n",
      "   xxx   \n",
      "  xxxxx  \n",
      "   xxx   \n",
      "    x    \n"
     ]
    }
   ],
   "source": [
    "#练习五：写函数，根据给定符号，打印各种菱形。\n",
    "\n",
    "def lingxing(sign,line):\n",
    "    for i in range(1,line+1):\n",
    "        print(' '*(line-i) + sign*line + ' '*(line-i))\n",
    "    print(\"-\"*30+\"分割线\"+\"-\"*30)\n",
    "    for i in range(1,line+1):\n",
    "        print(' '*(i-1) + sign*line + ' '*(i-1))\n",
    "    print(\"-\"*30+\"分割线\"+\"-\"*30)\n",
    "    for i in range(1,int((line-1)/2)+2):\n",
    "        print(' '*(line-i)+sign*(2*i-1)+' '*(line-i))\n",
    "    for i in range(1,int((line-1)/2)+1)[::-1]:\n",
    "        print(' '*(line-i)+sign*(2*i-1)+' '*(line-i))\n",
    "        \n",
    "lingxing(\"x\",5)\n",
    "        "
   ]
  },
  {
   "cell_type": "code",
   "execution_count": null,
   "metadata": {
    "collapsed": true
   },
   "outputs": [],
   "source": []
  }
 ],
 "metadata": {
  "kernelspec": {
   "display_name": "Python 3",
   "language": "python",
   "name": "python3"
  },
  "language_info": {
   "codemirror_mode": {
    "name": "ipython",
    "version": 3
   },
   "file_extension": ".py",
   "mimetype": "text/x-python",
   "name": "python",
   "nbconvert_exporter": "python",
   "pygments_lexer": "ipython3",
   "version": "3.6.3"
  }
 },
 "nbformat": 4,
 "nbformat_minor": 2
}
