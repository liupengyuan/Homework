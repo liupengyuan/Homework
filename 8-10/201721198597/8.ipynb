{
 "cells": [
  {
   "cell_type": "code",
   "execution_count": null,
   "metadata": {},
   "outputs": [],
   "source": [
    "#完整诗词游戏"
   ]
  },
  {
   "cell_type": "code",
   "execution_count": 13,
   "metadata": {},
   "outputs": [
    {
     "name": "stdout",
     "output_type": "stream",
     "text": [
      "输如你猜的五言诗为：唯见林花落\n",
      "答案是： ('唯', '见', '林', '花', '落')\n"
     ]
    }
   ],
   "source": [
    "import itertools\n",
    "import re\n",
    "text = ('此','行','唯','断','见','西','林','花','雨','细','落','纷')\n",
    "guesses = itertools.permutations(text, 5)\n",
    "fh = open('d:\\demp\\五言诗库.txt')\n",
    "x=fh.read()\n",
    "y=x.replace('\\n','')\n",
    "poems = re.split('，|。',y)\n",
    "fh.close()\n",
    "guess=input('输如你猜的五言诗为：')\n",
    "for guess in guesses:\n",
    "    if ''.join(guess) in poems:\n",
    "        print('答案是：', guess)  "
   ]
  },
  {
   "cell_type": "code",
   "execution_count": null,
   "metadata": {},
   "outputs": [],
   "source": [
    "#实现完整点字成诗机器人"
   ]
  },
  {
   "cell_type": "code",
   "execution_count": 12,
   "metadata": {},
   "outputs": [
    {
     "name": "stdout",
     "output_type": "stream",
     "text": [
      "空山不见人\n"
     ]
    }
   ],
   "source": [
    "import re\n",
    "def find_poem_sentence():\n",
    "    characters=('空','浮','山','断','云','不','终','花','见','人','纷')   \n",
    "    n=len(poems)\n",
    "    i=0\n",
    "    for poem in poems:\n",
    "        same_character_number = 0\n",
    "        i=i+1\n",
    "        for ch in poem:\n",
    "            if ch in characters:\n",
    "                same_character_number=same_character_number+1\n",
    "                if same_character_number == 5:\n",
    "                    return poem\n",
    "        if i==n:\n",
    "            print('不存在五言绝句')\n",
    "            break\n",
    "           \n",
    "fh = open('d:\\demp\\五言诗库.txt')\n",
    "x=fh.read()\n",
    "y=x.replace('\\n','')\n",
    "poems = re.split('，|。',y)\n",
    "print(find_poem_sentence())"
   ]
  },
  {
   "cell_type": "code",
   "execution_count": null,
   "metadata": {},
   "outputs": [],
   "source": []
  }
 ],
 "metadata": {
  "kernelspec": {
   "display_name": "Python 3",
   "language": "python",
   "name": "python3"
  },
  "language_info": {
   "codemirror_mode": {
    "name": "ipython",
    "version": 3
   },
   "file_extension": ".py",
   "mimetype": "text/x-python",
   "name": "python",
   "nbconvert_exporter": "python",
   "pygments_lexer": "ipython3",
   "version": "3.6.0"
  }
 },
 "nbformat": 4,
 "nbformat_minor": 2
}
