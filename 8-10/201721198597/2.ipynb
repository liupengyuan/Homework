{
 "cells": [
  {
   "cell_type": "code",
   "execution_count": null,
   "metadata": {},
   "outputs": [],
   "source": [
    "#2.8练习一"
   ]
  },
  {
   "cell_type": "code",
   "execution_count": 1,
   "metadata": {},
   "outputs": [
    {
     "name": "stdout",
     "output_type": "stream",
     "text": [
      "请输入一个正整数：10\n",
      "n!= 3628800\n"
     ]
    }
   ],
   "source": [
    "n=input('请输入一个正整数：')\n",
    "n=int(n)\n",
    "\n",
    "i=1\n",
    "total=1\n",
    "\n",
    "while i<=n:\n",
    "    total=i*total\n",
    "    i=i+1\n",
    "print('n!=',total)"
   ]
  },
  {
   "cell_type": "code",
   "execution_count": null,
   "metadata": {},
   "outputs": [],
   "source": [
    "#练习2"
   ]
  },
  {
   "cell_type": "code",
   "execution_count": 2,
   "metadata": {},
   "outputs": [
    {
     "name": "stdout",
     "output_type": "stream",
     "text": [
      "指定求和整数的个数：4\n",
      "请输入一个正整数，以回车结束3\n",
      "请输入一个正整数，以回车结束13\n",
      "请输入一个正整数，以回车结束2\n",
      "请输入一个正整数，以回车结束15\n",
      "求和值为： 33\n"
     ]
    }
   ],
   "source": [
    "a = int(input('指定求和整数的个数：'))\n",
    "i=0\n",
    "total=0\n",
    "while i<a:\n",
    "    i=i+1\n",
    "    b=int(input('请输入一个正整数，以回车结束'))\n",
    "    total=total+b\n",
    "print('求和值为：',total)\n",
    "    "
   ]
  },
  {
   "cell_type": "code",
   "execution_count": null,
   "metadata": {},
   "outputs": [],
   "source": [
    "#练习3"
   ]
  },
  {
   "cell_type": "code",
   "execution_count": 1,
   "metadata": {},
   "outputs": [
    {
     "name": "stdout",
     "output_type": "stream",
     "text": [
      "请输入一个整数,输入end结束：43\n",
      "请输入一个整数,输入end结束:23\n",
      "请输入一个整数,输入end结束:1\n",
      "请输入一个整数,输入end结束:4\n",
      "请输入一个整数,输入end结束:end\n"
     ]
    }
   ],
   "source": [
    "n = int(input('请输入一个整数,输入end结束：'))\n",
    "while n != 'end':\n",
    "    n = input('请输入一个整数,输入end结束:')"
   ]
  },
  {
   "cell_type": "code",
   "execution_count": null,
   "metadata": {},
   "outputs": [],
   "source": [
    "#练习4"
   ]
  },
  {
   "cell_type": "code",
   "execution_count": 1,
   "metadata": {},
   "outputs": [
    {
     "name": "stdout",
     "output_type": "stream",
     "text": [
      "请输入一个数字：3\n",
      "请输入一个数字：200\n",
      "请输入一个数字：300\n",
      "输入所有数字的和比当前输入数字小，且输入所有数字的积大于500\n",
      "和为： 203\n",
      "乘积为： 600\n"
     ]
    }
   ],
   "source": [
    "a=int(input('请输入一个数字：'))\n",
    "b=int(input('请输入一个数字：'))\n",
    "total=a\n",
    "pro=a\n",
    "while(True):\n",
    "    total=total+b\n",
    "    pro=pro*b\n",
    "    b=int(input('请输入一个数字：'))\n",
    "    if (total<b) and (pro>500):\n",
    "        print('输入所有数字的和比当前输入数字小，且输入所有数字的积大于500')\n",
    "        break        \n",
    "print('和为：',total)\n",
    "print('乘积为：',pro)\n",
    "\n"
   ]
  }
 ],
 "metadata": {
  "kernelspec": {
   "display_name": "Python 3",
   "language": "python",
   "name": "python3"
  },
  "language_info": {
   "codemirror_mode": {
    "name": "ipython",
    "version": 3
   },
   "file_extension": ".py",
   "mimetype": "text/x-python",
   "name": "python",
   "nbconvert_exporter": "python",
   "pygments_lexer": "ipython3",
   "version": "3.6.0"
  }
 },
 "nbformat": 4,
 "nbformat_minor": 2
}
