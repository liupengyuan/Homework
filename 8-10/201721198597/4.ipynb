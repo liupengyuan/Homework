{
 "cells": [
  {
   "cell_type": "code",
   "execution_count": 1,
   "metadata": {},
   "outputs": [],
   "source": [
    "#4.6 实践与联系\n",
    "#练习1"
   ]
  },
  {
   "cell_type": "code",
   "execution_count": 3,
   "metadata": {},
   "outputs": [
    {
     "name": "stdout",
     "output_type": "stream",
     "text": [
      "请输入一个整数，以回车结束10\n",
      "请输入一个整数，以回车结束6\n",
      "请输入一个整数，以回车结束8\n",
      "最终的结果是：  3669840\n"
     ]
    }
   ],
   "source": [
    "def my_mul(end):\n",
    "    i=0\n",
    "    total=1\n",
    "    while i<end:\n",
    "        i=i+1\n",
    "        total=i*total\n",
    "    return total\n",
    "\n",
    "m=int(input('请输入一个整数，以回车结束'))\n",
    "n=int(input('请输入一个整数，以回车结束'))\n",
    "k=int(input('请输入一个整数，以回车结束'))\n",
    "\n",
    "print('最终的结果是： ',my_mul(m)+my_mul(n)+my_mul(k))"
   ]
  },
  {
   "cell_type": "code",
   "execution_count": 4,
   "metadata": {},
   "outputs": [],
   "source": [
    "#练习2"
   ]
  },
  {
   "cell_type": "code",
   "execution_count": 7,
   "metadata": {},
   "outputs": [
    {
     "name": "stdout",
     "output_type": "stream",
     "text": [
      "该公式的前1000项求和结果的4倍为：  -0.002001000500250125\n",
      "该公式的前100000项求和结果的4倍为：  -2.0000100000500002e-05\n"
     ]
    }
   ],
   "source": [
    "def my_computer(end):\n",
    "    i=0\n",
    "    total=0\n",
    "    minus=1\n",
    "    while i<end:\n",
    "        i=i+1\n",
    "        if i%2==0:\n",
    "            mius=-1\n",
    "        else:\n",
    "            mius=1\n",
    "    i=mius*(1/(i*2-1))\n",
    "    total=total+i\n",
    "    return total\n",
    "        \n",
    "n=1000\n",
    "m=100000\n",
    "print('该公式的前1000项求和结果的4倍为： ',my_computer(n)*4)\n",
    "print('该公式的前100000项求和结果的4倍为： ',my_computer(m)*4)\n",
    "\n",
    "    "
   ]
  },
  {
   "cell_type": "code",
   "execution_count": null,
   "metadata": {},
   "outputs": [],
   "source": [
    "#练习3 将task3中的练习1改写为函数，并进行调用。(写程序，可由键盘读入用户姓名例如Mr. right，让用户输入出生的月份与日期，判断用户星座，假设用户是金牛座，则输出，Mr. right，你是非常有性格的金牛座！。)"
   ]
  },
  {
   "cell_type": "code",
   "execution_count": 3,
   "metadata": {},
   "outputs": [
    {
     "name": "stdout",
     "output_type": "stream",
     "text": [
      "请输入你的姓名： liyihan\n",
      "请输入你的出生的月份和日期（例如12月1日输入：121）： 417\n",
      "liyihan .你是非常有个性的 白羊座 !\n"
     ]
    }
   ],
   "source": [
    "def my_star(m):\n",
    "    n='c'\n",
    "    if (m>=1222) and (m<=119):\n",
    "        n='摩羯座'\n",
    "    elif (m>=120) and (m<=218):\n",
    "        n='水瓶座'\n",
    "    elif (m>=219) and (m<=320):\n",
    "        n='双鱼座'\n",
    "    elif (m>=321) and (m<=419):\n",
    "        n='白羊座'\n",
    "    elif (m>=420) and (m<=520):\n",
    "        n='金牛座'        \n",
    "    elif (m>=521) and (m<=621):\n",
    "        n='双子座'    \n",
    "    elif (m>=622) and (m<=722):\n",
    "        n='巨蟹座'\n",
    "    elif (m>=723) and (m<=822):\n",
    "        n='狮子座'  \n",
    "    elif (m>=823) and (m<=922):\n",
    "        n='处女座'\n",
    "    elif (m>=923) and (m<=1023):\n",
    "        n='天枰座'\n",
    "    elif (m>=1024) and (m<=1122):\n",
    "        n='天蝎座'        \n",
    "    else:\n",
    "        n='射手座'  \n",
    "    return n\n",
    "\n",
    "a=input('请输入你的姓名： ')\n",
    "b=int(input('请输入你的出生的月份和日期（例如12月1日输入：121）： '))\n",
    "print(a,'.你是非常有个性的',my_star(b),'!')\n",
    "    "
   ]
  },
  {
   "cell_type": "code",
   "execution_count": 4,
   "metadata": {},
   "outputs": [],
   "source": [
    "#练习3 将task3中的练习4改写为函数，并进行调用。(英文单词单数转复数，要求输入一个英文动词（单数形式），能够得到其复数形式，或给出单数转复数形式的建议（提示，some_string.endswith(some_letter)函数可以判断某字符串结尾字符，可尝试运行：'myname'.endswith('me')，liupengyuan'.endswith('n')）。)"
   ]
  },
  {
   "cell_type": "code",
   "execution_count": 9,
   "metadata": {},
   "outputs": [
    {
     "name": "stdout",
     "output_type": "stream",
     "text": [
      "请输入一个单数形式的英文单词：hero\n",
      "hero 的复数形式是：  heroes\n"
     ]
    }
   ],
   "source": [
    "def my_word(letter):\n",
    "    b='c'\n",
    "    if letter.endswith('y'):\n",
    "        b=letter[:-1]+'ies'\n",
    "    elif letter.endswith('an'):\n",
    "        b=letter[:-2]+'en'\n",
    "    elif letter.endswith('f'):                 #只举例去f、fe加ves的单词\n",
    "        b=letter[:-1]+'ves'    \n",
    "    elif letter.endswith('fe'):\n",
    "        b=letter[:-2]+'ves'      \n",
    "    elif letter==\"potato\" or letter==\"tomato\" or letter==\"hero\" or letter==\"negro\":\n",
    "        b=letter+'es'\n",
    "    elif letter.endswith('s') or letter.endswith('x') or letter.endswith('ch') or letter.endswith('sh'):\n",
    "        b=letter+'es'\n",
    "    else:\n",
    "        b=letter+'s'\n",
    "    return b\n",
    "\n",
    "a=input('请输入一个单数形式的英文单词：')\n",
    "print(a,'的复数形式是： ',my_word(a))"
   ]
  },
  {
   "cell_type": "code",
   "execution_count": 10,
   "metadata": {},
   "outputs": [],
   "source": [
    "#挑战性练习"
   ]
  },
  {
   "cell_type": "code",
   "execution_count": 20,
   "metadata": {},
   "outputs": [
    {
     "name": "stdout",
     "output_type": "stream",
     "text": [
      "输入一个整数m，以回车结束：3\n",
      "输入一个整数n，以回车结束：16\n",
      "输入一个整数k，以回车结束：2\n",
      "从整数m到整数n累加，间隔为k的求和为： 79\n"
     ]
    }
   ],
   "source": [
    "def my_sum():\n",
    "    min=n\n",
    "    max=m\n",
    "    if m>n:\n",
    "        max=m\n",
    "        min=n\n",
    "    else:\n",
    "        max=n\n",
    "        min=m\n",
    "    total=min\n",
    "    while min<max:    \n",
    "        min=min+k\n",
    "        if min>max:    #k不能被max整除\n",
    "            min=max\n",
    "        total=total+min\n",
    "    return total\n",
    "           \n",
    "m=int(input('输入一个整数m，以回车结束：'))\n",
    "n=int(input('输入一个整数n，以回车结束：'))\n",
    "k=int(input('输入一个整数k，以回车结束：'))\n",
    "print('从整数m到整数n累加，间隔为k的求和为：',my_sum())"
   ]
  }
 ],
 "metadata": {
  "kernelspec": {
   "display_name": "Python 3",
   "language": "python",
   "name": "python3"
  },
  "language_info": {
   "codemirror_mode": {
    "name": "ipython",
    "version": 3
   },
   "file_extension": ".py",
   "mimetype": "text/x-python",
   "name": "python",
   "nbconvert_exporter": "python",
   "pygments_lexer": "ipython3",
   "version": "3.6.0"
  }
 },
 "nbformat": 4,
 "nbformat_minor": 2
}
