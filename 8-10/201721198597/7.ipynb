{
 "cells": [
  {
   "cell_type": "code",
   "execution_count": 1,
   "metadata": {},
   "outputs": [],
   "source": [
    "#7.9习题：练习一：自己定义一个reverse(s)函数，功能返回字符串s的倒序字符串。"
   ]
  },
  {
   "cell_type": "code",
   "execution_count": 1,
   "metadata": {},
   "outputs": [
    {
     "name": "stdout",
     "output_type": "stream",
     "text": [
      "您所输入字符串的倒序是： ehehnahiyil\n"
     ]
    }
   ],
   "source": [
    "def reverse():\n",
    "    word1='liyihanhehe'\n",
    "    word2=''\n",
    "    i=10\n",
    "    while i<11:\n",
    "        word2=word2+word1[i]\n",
    "        i=i-1\n",
    "        if i<0:\n",
    "            break\n",
    "    return word2\n",
    "print('您所输入字符串的倒序是：',reverse())"
   ]
  },
  {
   "cell_type": "code",
   "execution_count": 2,
   "metadata": {},
   "outputs": [],
   "source": [
    "#练习二：写函数，根据给定符号和行数，打印相应直角三角形，等腰三角形及其他形式的三角形。"
   ]
  },
  {
   "cell_type": "code",
   "execution_count": 7,
   "metadata": {},
   "outputs": [
    {
     "name": "stdout",
     "output_type": "stream",
     "text": [
      "请输入一个字符：无\n",
      "请输入打印行数：16\n",
      "等腰三角形的形式为：\n",
      "               无\n",
      "              无无\n",
      "             无无无\n",
      "            无无无无\n",
      "           无无无无无\n",
      "          无无无无无无\n",
      "         无无无无无无无\n",
      "        无无无无无无无无\n",
      "       无无无无无无无无无\n",
      "      无无无无无无无无无无\n",
      "     无无无无无无无无无无无\n",
      "    无无无无无无无无无无无无\n",
      "   无无无无无无无无无无无无无\n",
      "  无无无无无无无无无无无无无无\n",
      " 无无无无无无无无无无无无无无无\n",
      "无无无无无无无无无无无无无无无无\n",
      "^^^^^^^^^^^^^^^^^^^^^^^^^^^^^\n",
      "直角三角形的形式为：\n",
      "无\n",
      "无无\n",
      "无无无\n",
      "无无无无\n",
      "无无无无无\n",
      "无无无无无无\n",
      "无无无无无无无\n",
      "无无无无无无无无\n",
      "无无无无无无无无无\n",
      "无无无无无无无无无无\n",
      "无无无无无无无无无无无\n",
      "无无无无无无无无无无无无\n",
      "无无无无无无无无无无无无无\n",
      "无无无无无无无无无无无无无无\n",
      "无无无无无无无无无无无无无无无\n",
      "无无无无无无无无无无无无无无无无\n",
      "^^^^^^^^^^^^^^^^^^^^^^^^^^^^^\n",
      "钝角三角形的形式为：\n",
      " 无\n",
      "  无无\n",
      "   无无无\n",
      "    无无无无\n",
      "     无无无无无\n",
      "      无无无无无无\n",
      "       无无无无无无无\n",
      "        无无无无无无无无\n",
      "         无无无无无无无无无\n",
      "          无无无无无无无无无无\n",
      "           无无无无无无无无无无无\n",
      "            无无无无无无无无无无无无\n",
      "             无无无无无无无无无无无无无\n",
      "              无无无无无无无无无无无无无无\n",
      "               无无无无无无无无无无无无无无无\n",
      "                无无无无无无无无无无无无无无无无\n",
      "^^^^^^^^^^^^^^^^^^^^^^^^^^^^^\n"
     ]
    }
   ],
   "source": [
    "def triangle(line):\n",
    "    n=int(input('请输入打印行数：'))\n",
    "    print('等腰三角形的形式为：')\n",
    "    for i in range(1,n+1):\n",
    "        print(' '*(n-i)+line[0]*i)    \n",
    "    print('^^^^^^^^^^^^^^^^^^^^^^^^^^^^^')\n",
    "    \n",
    "    print('直角三角形的形式为：')\n",
    "    for i in range(1,n+1):\n",
    "        print(line[0]*i)\n",
    "    print('^^^^^^^^^^^^^^^^^^^^^^^^^^^^^')\n",
    "    \n",
    "    print('钝角三角形的形式为：')\n",
    "    for i in range(1,n+1):\n",
    "        print(' '*i+line[0]*i) \n",
    "    print('^^^^^^^^^^^^^^^^^^^^^^^^^^^^^')\n",
    "word=input('请输入一个字符：')    \n",
    "triangle(word)"
   ]
  },
  {
   "cell_type": "code",
   "execution_count": 3,
   "metadata": {},
   "outputs": [],
   "source": [
    "#练习五：写函数，根据给定符号，打印各种菱形。"
   ]
  },
  {
   "cell_type": "code",
   "execution_count": 16,
   "metadata": {},
   "outputs": [
    {
     "name": "stdout",
     "output_type": "stream",
     "text": [
      "请输入一个字符： 敌\n",
      "请输入打印行数：21\n",
      "          敌\n",
      "         敌敌\n",
      "        敌敌敌\n",
      "       敌敌敌敌\n",
      "      敌敌敌敌敌\n",
      "     敌敌敌敌敌敌\n",
      "    敌敌敌敌敌敌敌\n",
      "   敌敌敌敌敌敌敌敌\n",
      "  敌敌敌敌敌敌敌敌敌\n",
      " 敌敌敌敌敌敌敌敌敌敌\n",
      "敌敌敌敌敌敌敌敌敌敌敌\n",
      " 敌敌敌敌敌敌敌敌敌敌\n",
      "  敌敌敌敌敌敌敌敌敌\n",
      "   敌敌敌敌敌敌敌敌\n",
      "    敌敌敌敌敌敌敌\n",
      "     敌敌敌敌敌敌\n",
      "      敌敌敌敌敌\n",
      "       敌敌敌敌\n",
      "        敌敌敌\n",
      "         敌敌\n",
      "          敌\n",
      "^^^^^^^^^^^^^^^^^^^^^^^^^^^^^^^^^^^^^^^^^^^^\n",
      "                     敌\n",
      "                  敌敌敌敌\n",
      "                敌敌敌敌敌敌\n",
      "              敌敌敌敌敌敌敌敌\n",
      "            敌敌敌敌敌敌敌敌敌敌\n",
      "          敌敌敌敌敌敌敌敌敌敌敌敌\n",
      "        敌敌敌敌敌敌敌敌敌敌敌敌敌敌\n",
      "      敌敌敌敌敌敌敌敌敌敌敌敌敌敌敌敌\n",
      "    敌敌敌敌敌敌敌敌敌敌敌敌敌敌敌敌敌敌\n",
      "  敌敌敌敌敌敌敌敌敌敌敌敌敌敌敌敌敌敌敌敌\n",
      "敌敌敌敌敌敌敌敌敌敌敌敌敌敌敌敌敌敌敌敌敌敌\n",
      "  敌敌敌敌敌敌敌敌敌敌敌敌敌敌敌敌敌敌敌敌\n",
      "    敌敌敌敌敌敌敌敌敌敌敌敌敌敌敌敌敌敌\n",
      "      敌敌敌敌敌敌敌敌敌敌敌敌敌敌敌敌\n",
      "        敌敌敌敌敌敌敌敌敌敌敌敌敌敌\n",
      "          敌敌敌敌敌敌敌敌敌敌敌敌\n",
      "            敌敌敌敌敌敌敌敌敌敌\n",
      "              敌敌敌敌敌敌敌敌\n",
      "                敌敌敌敌敌敌\n",
      "                  敌敌敌敌\n",
      "                     敌\n"
     ]
    }
   ],
   "source": [
    "def rhomb(line):\n",
    "    n=int(input('请输入打印行数：'))\n",
    "    if n%2==1:\n",
    "        n=n//2\n",
    "        for i in range(1,n+1):\n",
    "            print(' '*(n-i+1)+line[0]*(i))\n",
    "        print(line[0]*(i+1))\n",
    "        i=i+2\n",
    "        while i>(n+1) and i<=(2*n+1):\n",
    "            print(' '*(i-(n+1))+line[0]*(n+12-i))\n",
    "            i=i+1\n",
    "        print('^^^^^^^^^^^^^^^^^^^^^^^^^^^^^^^^^^^^^^^^^^^^')\n",
    "        \n",
    "        for i in range(1,n+1):\n",
    "            if i==1:\n",
    "                print(' '*((n-i+1)*2+1)+line[0]*(i))\n",
    "            else:\n",
    "                print(' '*((n-i+1)*2)+line[0]*(i)*2)\n",
    "        print(line[0]*(i+1)*2)\n",
    "        i=i+2\n",
    "        while i>(n+1) and i<=(2*n+1):\n",
    "            if i<(2*n+1):\n",
    "                print(' '*((i-(n+1))*2)+line[0]*(n+12-i)*2)\n",
    "            else:\n",
    "                print(' '*((i-(n+1))*2+1)+line[0]*(n+12-i))          \n",
    "            i=i+1\n",
    "            \n",
    "    else:\n",
    "        print('输入的行数不符合菱形规则！')\n",
    "                             \n",
    "word=input('请输入一个字符： ')\n",
    "rhomb(word)\n"
   ]
  }
 ],
 "metadata": {
  "kernelspec": {
   "display_name": "Python 3",
   "language": "python",
   "name": "python3"
  },
  "language_info": {
   "codemirror_mode": {
    "name": "ipython",
    "version": 3
   },
   "file_extension": ".py",
   "mimetype": "text/x-python",
   "name": "python",
   "nbconvert_exporter": "python",
   "pygments_lexer": "ipython3",
   "version": "3.6.0"
  }
 },
 "nbformat": 4,
 "nbformat_minor": 2
}
