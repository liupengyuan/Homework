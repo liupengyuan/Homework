{
 "cells": [
  {
   "cell_type": "code",
   "execution_count": null,
   "metadata": {},
   "outputs": [],
   "source": [
    "#3.6 练习2"
   ]
  },
  {
   "cell_type": "code",
   "execution_count": 1,
   "metadata": {},
   "outputs": [
    {
     "name": "stdout",
     "output_type": "stream",
     "text": [
      "输入一个整数m 10\n",
      "输入一个不为0的整数n 5\n",
      "请选择求和、乘积、余数或整数  乘积\n",
      "m和n的运算结果为： 151200\n"
     ]
    }
   ],
   "source": [
    "n=int(input('输入一个整数m '))\n",
    "m=int(input('输入一个不为0的整数n '))\n",
    "if m<=n:\n",
    "    max=n\n",
    "    min=m\n",
    "else:\n",
    "    max=m\n",
    "    min=n\n",
    "result=min\n",
    "a=input('请选择求和、乘积、余数或整数  ')\n",
    "if a=='求和':\n",
    "    while min<max:\n",
    "        min+=1\n",
    "        result=result+min\n",
    "\n",
    "elif a=='乘积':\n",
    "    while min<max:\n",
    "        min+=1\n",
    "        result=result*min\n",
    "    \n",
    "elif a=='余数':\n",
    "    result=max%min \n",
    "else:\n",
    "    result=max//min\n",
    "print('m和n的运算结果为：',result)  \n",
    "    \n",
    "        \n",
    "    "
   ]
  },
  {
   "cell_type": "code",
   "execution_count": null,
   "metadata": {},
   "outputs": [],
   "source": [
    "#练习4"
   ]
  },
  {
   "cell_type": "code",
   "execution_count": 8,
   "metadata": {},
   "outputs": [
    {
     "name": "stdout",
     "output_type": "stream",
     "text": [
      "请输入一个单数形式的英文单词：life\n",
      "life 的复数形式是:  lives\n"
     ]
    }
   ],
   "source": [
    "letter=input('请输入一个单数形式的英文单词：')\n",
    "\n",
    "if letter.endswith('y'):\n",
    "    print(letter,\"的复数形式是: \",letter[:-1]+'ies')\n",
    "elif letter.endswith('an'):\n",
    "    print(letter,\"的复数形式是: \",letter[:-2]+'en')\n",
    "elif letter.endswith('f'):                                 #只举例去f、fe加ves的单词\n",
    "    print(letter,\"的复数形式是: \",letter[:-1]+'ves')\n",
    "elif letter.endswith('fe'):\n",
    "    print(letter,\"的复数形式是: \",letter[:-2]+'ves')\n",
    "elif letter==\"potato\" or letter==\"tomato\" or letter==\"hero\" or letter==\"negro\":\n",
    "    print(letter,\"的复数形式是: \",letter+'es')\n",
    "elif letter.endswith('s') or letter.endswith('x') or letter.endswith('ch') or letter.endswith('sh'):\n",
    "    print(letter,\"的复数形式是: \",letter+'es')\n",
    "else:\n",
    "    print(letter,\"的复数形式是: \",letter+'s')\n",
    "\n",
    "\n",
    "\n",
    "    "
   ]
  }
 ],
 "metadata": {
  "kernelspec": {
   "display_name": "Python 3",
   "language": "python",
   "name": "python3"
  },
  "language_info": {
   "codemirror_mode": {
    "name": "ipython",
    "version": 3
   },
   "file_extension": ".py",
   "mimetype": "text/x-python",
   "name": "python",
   "nbconvert_exporter": "python",
   "pygments_lexer": "ipython3",
   "version": "3.6.0"
  }
 },
 "nbformat": 4,
 "nbformat_minor": 2
}
