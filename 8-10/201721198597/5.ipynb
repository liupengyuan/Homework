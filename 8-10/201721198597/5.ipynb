{
 "cells": [
  {
   "cell_type": "code",
   "execution_count": 2,
   "metadata": {},
   "outputs": [],
   "source": [
    "#5.10 练习1"
   ]
  },
  {
   "cell_type": "code",
   "execution_count": 1,
   "metadata": {},
   "outputs": [
    {
     "name": "stdout",
     "output_type": "stream",
     "text": [
      "请输入一个大于0的整数，作为随机整数的个数，回车结束。10\n",
      "请输入一个大于0的整数，作为整数范围的下界（或上界），回车结束。1\n",
      "请输入一个大于0的整数，作为整数范围的上界（或下界），回车结束。166\n",
      "最后的结果为： 8.74642784226795\n"
     ]
    }
   ],
   "source": [
    "import random, math\n",
    "\n",
    "def my_sqr():\n",
    "    min=k\n",
    "    max=m\n",
    "    if m>k:\n",
    "        min=k\n",
    "        max=m\n",
    "    else:\n",
    "        min=m\n",
    "        max=k\n",
    "    i=0\n",
    "    sum=0\n",
    "    end=0\n",
    "    a=0\n",
    "    while i<n:        \n",
    "        number = random.randint(min, max)\n",
    "        sum=sum+number\n",
    "        i=i+1\n",
    "    a=sum/n\n",
    "    end=math.sqrt(a)\n",
    "    return end\n",
    "\n",
    "\n",
    "n = int(input('请输入一个大于0的整数，作为随机整数的个数，回车结束。'))\n",
    "m = int(input('请输入一个大于0的整数，作为整数范围的下界（或上界），回车结束。'))\n",
    "k = int(input('请输入一个大于0的整数，作为整数范围的上界（或下界），回车结束。'))\n",
    "\n",
    "print('最后的结果为：',my_sqr())"
   ]
  },
  {
   "cell_type": "code",
   "execution_count": null,
   "metadata": {},
   "outputs": [],
   "source": [
    "#练习2"
   ]
  },
  {
   "cell_type": "code",
   "execution_count": 3,
   "metadata": {},
   "outputs": [
    {
     "name": "stdout",
     "output_type": "stream",
     "text": [
      "请输入一个大于0的整数，作为随机整数的个数，回车结束。6\n",
      "请输入一个大于0的整数，作为整数范围的下界(或下界)，回车结束。166\n",
      "请输入一个大于0的整数，作为整数范围的上界(或上界)，回车结束。8\n",
      "59 的西格玛log为： 5.882643049361842\n",
      "59 的西格玛1/log为： 0.16999161628691403\n",
      "137 的西格玛log为： 7.098032082960526\n",
      "137 的西格玛1/log为： 0.1408841194731412\n",
      "72 的西格玛log为： 6.169925001442312\n",
      "72 的西格玛1/log为： 0.16207652439312228\n",
      "94 的西格玛log为： 6.554588851677638\n",
      "94 的西格玛1/log为： 0.15256487060115928\n",
      "36 的西格玛log为： 5.169925001442312\n",
      "36 的西格玛1/log为： 0.19342640361727081\n",
      "46 的西格玛log为： 5.523561956057013\n",
      "46 的西格玛1/log为： 0.1810425967800402\n",
      "结束！\n"
     ]
    }
   ],
   "source": [
    "import random, math\n",
    "\n",
    "def my_end():\n",
    "    min=k\n",
    "    max=m\n",
    "    if m>k:\n",
    "        min=k\n",
    "        max=m\n",
    "    else:\n",
    "        min=m\n",
    "        max=k   \n",
    "    i=0\n",
    "    a=0\n",
    "    b=0\n",
    "    number=0\n",
    "    c='结束！'\n",
    "    while i<n:\n",
    "        i=i+1\n",
    "        number = random.randint(min,max)\n",
    "        a=math.log2(number)\n",
    "        b=1/a    \n",
    "        print(number,'的西格玛log为：',a)\n",
    "        print(number,'的西格玛1/log为：',b)\n",
    "    return c\n",
    "\n",
    "n = int(input('请输入一个大于0的整数，作为随机整数的个数，回车结束。'))\n",
    "m = int(input('请输入一个大于0的整数，作为整数范围的下界(或下界)，回车结束。'))\n",
    "k = int(input('请输入一个大于0的整数，作为整数范围的上界(或上界)，回车结束。'))\n",
    "\n",
    "print(my_end())"
   ]
  }
 ],
 "metadata": {
  "kernelspec": {
   "display_name": "Python 3",
   "language": "python",
   "name": "python3"
  },
  "language_info": {
   "codemirror_mode": {
    "name": "ipython",
    "version": 3
   },
   "file_extension": ".py",
   "mimetype": "text/x-python",
   "name": "python",
   "nbconvert_exporter": "python",
   "pygments_lexer": "ipython3",
   "version": "3.6.0"
  }
 },
 "nbformat": 4,
 "nbformat_minor": 2
}
