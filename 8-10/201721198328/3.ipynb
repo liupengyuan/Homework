{
 "cells": [
  {
   "cell_type": "code",
   "execution_count": 5,
   "metadata": {},
   "outputs": [
    {
     "name": "stdout",
     "output_type": "stream",
     "text": [
      "请输入整数m3\n",
      "请输入整数n，n不能为零5\n",
      "输入1则求和，2则求积，3则求余，4则求整除3\n",
      "3\n"
     ]
    }
   ],
   "source": [
    "#练习 2：写程序，可由键盘读入两个整数m与n(n不等于0)，询问用户意图，如果要求和则计算从m到n的和输出，如果要乘积则计算从m到n的积并输出，如果要求余数则计算m除以n的余数的值并输出，否则则计算m整除n的值并输出\n",
    "m=int(input('请输入整数m'))\n",
    "n=int(input('请输入整数n，n不能为零'))\n",
    "judge=int(input('输入1则求和，2则求积，3则求余，4则求整除'))\n",
    "if judge==1:\n",
    "    print(m+n)\n",
    "elif judge==2:\n",
    "    print(m*n)\n",
    "elif judge==3:\n",
    "    print(m%n)\n",
    "else:\n",
    "    print(m/n)"
   ]
  },
  {
   "cell_type": "code",
   "execution_count": 4,
   "metadata": {},
   "outputs": [
    {
     "name": "stdout",
     "output_type": "stream",
     "text": [
      "请输入字符串：study\n",
      "studies\n"
     ]
    }
   ],
   "source": [
    "#练习4\n",
    "my_str=input('请输入字符串：')\n",
    "if my_str.endswith('e'):\n",
    "    print(my_str+'s')\n",
    "elif my_str.endswith('o') or my_str.endswith('s') or my_str.endswith('x') or my_str.endswith('ch') or my_str.endswith('sh'):\n",
    "    print(my_str+'es')\n",
    "elif my_str.endswith('y'):\n",
    "    my_str=list(my_str)\n",
    "    my_str[-1]='ies'\n",
    "    print(\"\".join(my_str))\n",
    "else:\n",
    "    print(my_str+'s')"
   ]
  },
  {
   "cell_type": "code",
   "execution_count": null,
   "metadata": {
    "collapsed": true
   },
   "outputs": [],
   "source": []
  }
 ],
 "metadata": {
  "kernelspec": {
   "display_name": "Python 3",
   "language": "python",
   "name": "python3"
  },
  "language_info": {
   "codemirror_mode": {
    "name": "ipython",
    "version": 3
   },
   "file_extension": ".py",
   "mimetype": "text/x-python",
   "name": "python",
   "nbconvert_exporter": "python",
   "pygments_lexer": "ipython3",
   "version": "3.6.1"
  }
 },
 "nbformat": 4,
 "nbformat_minor": 2
}
