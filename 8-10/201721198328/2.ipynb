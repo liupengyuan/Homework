{
 "cells": [
  {
   "cell_type": "code",
   "execution_count": 2,
   "metadata": {},
   "outputs": [
    {
     "name": "stdout",
     "output_type": "stream",
     "text": [
      "请输入一个正整数5\n",
      "n!的值为： 120\n"
     ]
    }
   ],
   "source": [
    "#仿照任务2完整代码，打印n!\n",
    "n=int(input('请输入一个正整数'))\n",
    "product=1\n",
    "for i in range(1,n+1):\n",
    "    product=product*i\n",
    "print('n!的值为：',product)    \n",
    "    "
   ]
  },
  {
   "cell_type": "code",
   "execution_count": 6,
   "metadata": {},
   "outputs": [
    {
     "name": "stdout",
     "output_type": "stream",
     "text": [
      "请输入整数个数5\n",
      "请输入整数3\n",
      "请输入整数5\n",
      "请输入整数6\n",
      "请输入整数7\n",
      "请输入整数3\n",
      "输入的整数和为: 24\n"
     ]
    }
   ],
   "source": [
    "#练习2：仿照实践1，写出由用户指定整数个数，并由用户输入多个整数，并求和的代码\n",
    "n=int(input('请输入整数个数'))\n",
    "sum=0\n",
    "i=0\n",
    "while i<n:\n",
    "    m=int(input('请输入整数'))\n",
    "    sum=sum+m\n",
    "    i=i+1\n",
    "print('输入的整数和为:',sum)"
   ]
  },
  {
   "cell_type": "code",
   "execution_count": 8,
   "metadata": {},
   "outputs": [
    {
     "name": "stdout",
     "output_type": "stream",
     "text": [
      "输入0结束输入3\n",
      "输入0结束输入4\n",
      "输入0结束输入5\n",
      "输入0结束输入6\n",
      "输入0结束输入6\n",
      "输入0结束输入6\n",
      "输入0结束输入0\n",
      "30\n"
     ]
    }
   ],
   "source": [
    "#练习3：用户可以输入的任意多个数字，直到用户不想输入为止\n",
    "sum=0\n",
    "while 1:\n",
    "    n=int(input('输入0结束输入'))\n",
    "    if n!=0:\n",
    "        sum=sum+n\n",
    "    else:\n",
    "        print('输入数合为:',sum)\n",
    "        break\n",
    "    "
   ]
  },
  {
   "cell_type": "code",
   "execution_count": null,
   "metadata": {},
   "outputs": [
    {
     "name": "stdout",
     "output_type": "stream",
     "text": [
      "请输入：5\n",
      "请输入：5\n",
      "请输入：20\n",
      "请输入：100000\n"
     ]
    }
   ],
   "source": [
    "#练习4\n",
    "while 1:\n",
    "    n=int(input('请输入：'))\n",
    "    sum=n\n",
    "    product=n\n",
    "    if sum<n and product<n*n:\n",
    "        break\n",
    "    else:\n",
    "        sum=sum+n\n",
    "        product=product*n"
   ]
  }
 ],
 "metadata": {
  "kernelspec": {
   "display_name": "Python 3",
   "language": "python",
   "name": "python3"
  },
  "language_info": {
   "codemirror_mode": {
    "name": "ipython",
    "version": 3
   },
   "file_extension": ".py",
   "mimetype": "text/x-python",
   "name": "python",
   "nbconvert_exporter": "python",
   "pygments_lexer": "ipython3",
   "version": "3.6.1"
  }
 },
 "nbformat": 4,
 "nbformat_minor": 2
}
