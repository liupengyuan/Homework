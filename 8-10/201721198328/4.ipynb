{
 "cells": [
  {
   "cell_type": "code",
   "execution_count": 1,
   "metadata": {},
   "outputs": [
    {
     "name": "stdout",
     "output_type": "stream",
     "text": [
      "请输入m=4\n",
      "请输入n=6\n",
      "请输入k=7\n",
      "m!+n!+k!= 846\n"
     ]
    }
   ],
   "source": [
    "#练习一\n",
    "def my_product(end):\n",
    "    i=1\n",
    "    total_n=1\n",
    "    while i<end:\n",
    "        total_n=total_n*i\n",
    "        i=i+1\n",
    "    return total_n\n",
    "\n",
    "m=int(input('请输入m='))\n",
    "n=int(input('请输入n='))\n",
    "k=int(input('请输入k='))\n",
    "print('m!+n!+k!=',my_product(m)+my_product(n)+my_product(k))\n"
   ]
  },
  {
   "cell_type": "code",
   "execution_count": 8,
   "metadata": {},
   "outputs": [
    {
     "name": "stdout",
     "output_type": "stream",
     "text": [
      "-44.69540167533188\n"
     ]
    }
   ],
   "source": [
    "#练习 2\n",
    "def function(n):\n",
    "    if n==1:\n",
    "        return n\n",
    "    else:\n",
    "        i=0\n",
    "        total_sum=0\n",
    "        while i<n:\n",
    "            i=i+1\n",
    "            total_sum=total_sum + (-1)**(2*i-1)*(1./(2*i-1))\n",
    "        return total_sum\n",
    "    \n",
    "print((function(1000)+function(100000))*4)"
   ]
  },
  {
   "cell_type": "code",
   "execution_count": 6,
   "metadata": {},
   "outputs": [
    {
     "name": "stdout",
     "output_type": "stream",
     "text": [
      "请以'x,xx'形式输入你的生日：9.17\n",
      "你的星座是处女\n",
      "请输入字符串：study\n",
      "studies\n"
     ]
    }
   ],
   "source": [
    "#练习 3\n",
    "def constellation(date):\n",
    "    if 3.21<=date<=4.19:\n",
    "        print('你的星座是白羊')\n",
    "    elif 4.20<=date<=5.20:\n",
    "        print('你的星座是金牛')\n",
    "    elif 5.21<=date<=6.21:\n",
    "        print('你的星座是双子')\n",
    "    elif 6.22<=date<=7.22:\n",
    "        print('你的星座是巨蟹')\n",
    "    elif 7.23<=date<=8.22:\n",
    "        print('你的星座是狮子')\n",
    "    elif 8.23<=date<=9.22:\n",
    "        print('你的星座是处女')\n",
    "    elif 9.23<=date<=10.23:\n",
    "        print('你的星座是天秤')\n",
    "    elif 10.24<=date<=11.22:\n",
    "        print('你的星座是天蝎')\n",
    "    elif 11.23<=date<=12.21:\n",
    "        print('你的星座是射手')\n",
    "    elif 12.22<=date<=12.31 or date<=1.19:\n",
    "        print('你的星座是摩羯')\n",
    "    elif 1.20<=date<=2.18:\n",
    "        print('你的星座是水瓶')\n",
    "    else :\n",
    "        print('你的星座是双鱼')\n",
    "\n",
    "def transform(my_str):\n",
    "    if my_str.endswith('e'):\n",
    "        print(my_str+'s')\n",
    "    elif my_str.endswith('o') or my_str.endswith('s') or my_str.endswith('x') or my_str.endswith('ch') or my_str.endswith('sh'):\n",
    "        print(my_str+'es')\n",
    "    elif my_str.endswith('y'):\n",
    "        my_str=list(my_str)\n",
    "        my_str[-1]='ies'\n",
    "        print(\"\".join(my_str))\n",
    "    else:\n",
    "         print(my_str+'s')\n",
    "            \n",
    "\n",
    "date=float(input('请以\\'x,xx\\'形式输入你的生日：'))\n",
    "constellation(date)\n",
    "my_str=input('请输入字符串：')\n",
    "transform(my_str)\n",
    "\n"
   ]
  },
  {
   "cell_type": "code",
   "execution_count": 10,
   "metadata": {},
   "outputs": [
    {
     "name": "stdout",
     "output_type": "stream",
     "text": [
      "请输入m=10\n",
      "请输入n=20\n",
      "k=5\n"
     ]
    },
    {
     "data": {
      "text/plain": [
       "45"
      ]
     },
     "execution_count": 10,
     "metadata": {},
     "output_type": "execute_result"
    }
   ],
   "source": [
    "#挑战性练习\n",
    "def function(m,n,k):\n",
    "    total=m\n",
    "    while m+k<=n:\n",
    "        m=m+k\n",
    "        total=total+m\n",
    "    return total\n",
    "\n",
    "m=int(input('请输入m='))\n",
    "n=int(input('请输入n='))\n",
    "k=int(input('k='))\n",
    "function(m,n,k)        "
   ]
  },
  {
   "cell_type": "code",
   "execution_count": null,
   "metadata": {
    "collapsed": true
   },
   "outputs": [],
   "source": []
  }
 ],
 "metadata": {
  "kernelspec": {
   "display_name": "Python 3",
   "language": "python",
   "name": "python3"
  },
  "language_info": {
   "codemirror_mode": {
    "name": "ipython",
    "version": 3
   },
   "file_extension": ".py",
   "mimetype": "text/x-python",
   "name": "python",
   "nbconvert_exporter": "python",
   "pygments_lexer": "ipython3",
   "version": "3.6.1"
  }
 },
 "nbformat": 4,
 "nbformat_minor": 2
}
