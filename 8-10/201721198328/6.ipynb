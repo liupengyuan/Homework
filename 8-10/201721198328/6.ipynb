{
 "cells": [
  {
   "cell_type": "code",
   "execution_count": 6,
   "metadata": {},
   "outputs": [
    {
     "name": "stdout",
     "output_type": "stream",
     "text": [
      "请输入一段逗号隔开的数字2,3,4,5\n",
      "列表的和为： 14\n"
     ]
    }
   ],
   "source": [
    "#练习2\n",
    "def my_sum(my_str):\n",
    "    my_list=my_str.split(',')\n",
    "    sum=0\n",
    "    for i in (my_list):\n",
    "        sum=sum+int(i)\n",
    "    return sum\n",
    "\n",
    "my_str=input('请输入一段逗号隔开的数字')\n",
    "print('列表的和为：',my_sum(my_str))        \n",
    "        \n",
    "    "
   ]
  },
  {
   "cell_type": "code",
   "execution_count": 15,
   "metadata": {},
   "outputs": [
    {
     "name": "stdout",
     "output_type": "stream",
     "text": [
      "请输入以逗号隔开的一段字符：a,c,d,e,abc,e,f,d\n"
     ]
    },
    {
     "data": {
      "text/plain": [
       "4"
      ]
     },
     "execution_count": 15,
     "metadata": {},
     "output_type": "execute_result"
    }
   ],
   "source": [
    "#练习3\n",
    "def location(my_str):\n",
    "    j=-1\n",
    "    my_list=my_str.split(',')\n",
    "    for i in my_list:\n",
    "        j=j+1\n",
    "        if i=='abc':\n",
    "            return j\n",
    "        \n",
    "            \n",
    "\n",
    "my_str=input('请输入以逗号隔开的一段字符：')\n",
    "location(my_str)            "
   ]
  },
  {
   "cell_type": "code",
   "execution_count": 2,
   "metadata": {},
   "outputs": [
    {
     "data": {
      "text/plain": [
       "2"
      ]
     },
     "execution_count": 2,
     "metadata": {},
     "output_type": "execute_result"
    }
   ],
   "source": [
    "#练习2\n",
    "def function(list1):\n",
    "    m = list1[0]\n",
    "    for i in list1:\n",
    "        if i < m:\n",
    "            m = i\n",
    "    else:\n",
    "         return m\n",
    "list1 = [5,2,3,5]\n",
    "function(list1)"
   ]
  },
  {
   "cell_type": "code",
   "execution_count": 5,
   "metadata": {},
   "outputs": [
    {
     "name": "stdout",
     "output_type": "stream",
     "text": [
      "2.2980063616172774\n"
     ]
    }
   ],
   "source": [
    "#练习4\n",
    "def my_cos(list1,list2):\n",
    "    import math\n",
    "    a_mult_b=list1[0]*list2[0]+list1[1]*list2[1]\n",
    "    a_len=math.sqrt(list1[0]**2+list1[1]**2)\n",
    "    b_len=math.sqrt(list2[0]**2+list2[1]**2)\n",
    "    cosp=a_mult_b/(a_len+b_len)\n",
    "    return cosp\n",
    "\n",
    "list1=[2,3]\n",
    "list2=[4,5]\n",
    "print(my_cos(list1,list2))\n",
    "    "
   ]
  },
  {
   "cell_type": "code",
   "execution_count": null,
   "metadata": {},
   "outputs": [],
   "source": [
    "#挑战性\n",
    "for i in range(5,301):\n",
    "    for j in range(5,301-i):\n",
    "        for k in range(5,301-i-j):\n",
    "            if i+j+k==300:\n",
    "                print(i,j,k)"
   ]
  },
  {
   "cell_type": "code",
   "execution_count": null,
   "metadata": {
    "collapsed": true
   },
   "outputs": [],
   "source": []
  }
 ],
 "metadata": {
  "kernelspec": {
   "display_name": "Python 3",
   "language": "python",
   "name": "python3"
  },
  "language_info": {
   "codemirror_mode": {
    "name": "ipython",
    "version": 3
   },
   "file_extension": ".py",
   "mimetype": "text/x-python",
   "name": "python",
   "nbconvert_exporter": "python",
   "pygments_lexer": "ipython3",
   "version": "3.6.1"
  }
 },
 "nbformat": 4,
 "nbformat_minor": 2
}
