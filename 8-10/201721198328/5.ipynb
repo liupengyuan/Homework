{
 "cells": [
  {
   "cell_type": "code",
   "execution_count": null,
   "metadata": {
    "collapsed": true
   },
   "outputs": [],
   "source": [
    "练习 1：写函数，求n个随机整数均值的平方根，整数范围在m与k之间（n,m,k由用户输入）。\n",
    "练习 2：写函数，共n个随机整数，整数范围在m与k之间，（n,m,k由用户输入）。求1：西格玛log(随机整数)，2：西格玛1/log(随机整数)"
   ]
  },
  {
   "cell_type": "code",
   "execution_count": 1,
   "metadata": {},
   "outputs": [
    {
     "name": "stdout",
     "output_type": "stream",
     "text": [
      "请输入整数个数：5\n",
      "请输入整数的起始值：5\n",
      "请输入整数的结束值：10\n",
      "2.756809750418044\n"
     ]
    }
   ],
   "source": [
    "#练习 1\n",
    "def function(n,m,k):\n",
    "    import math\n",
    "    import random\n",
    "    i=0\n",
    "    sum=0\n",
    "    number=0\n",
    "    while i<n:\n",
    "        i=i+1\n",
    "        number=random.randint(m,k)\n",
    "        sum=sum+number\n",
    "    number=math.sqrt(sum/n)\n",
    "    return number\n",
    "\n",
    "n=int(input('请输入整数个数：'))\n",
    "m=int(input('请输入整数的起始值：'))\n",
    "k=int(input('请输入整数的结束值：'))\n",
    "print('n个随机整数均值的平方根:',function(n,m,k))\n",
    "        \n",
    "    "
   ]
  },
  {
   "cell_type": "code",
   "execution_count": 2,
   "metadata": {},
   "outputs": [
    {
     "name": "stdout",
     "output_type": "stream",
     "text": [
      "请输入整数个数：5\n",
      "请输入整数的起始值：15\n",
      "请输入整数的结束值：20\n",
      "西格玛log(随机整数): 1.1920085064611672\n",
      "西格玛1/log(随机整数)： 20.680241038636915\n"
     ]
    }
   ],
   "source": [
    "#练习 2\n",
    "def function1(n,m,k):\n",
    "    import math\n",
    "    import random\n",
    "    i=0\n",
    "    number=0\n",
    "    sum=0\n",
    "    while i<n:\n",
    "        number=1/math.log2(random.randint(m,k))\n",
    "        sum=sum+number\n",
    "        i=i+1\n",
    "    return sum\n",
    "\n",
    "def function2(n,m,k):\n",
    "    import math\n",
    "    import random\n",
    "    i=0\n",
    "    number=0\n",
    "    sum=0\n",
    "    while i<n:\n",
    "        number=math.log2(random.randint(m,k))\n",
    "        sum=sum+number\n",
    "        i=i+1\n",
    "    return sum\n",
    "\n",
    "n=int(input('请输入整数个数：'))\n",
    "m=int(input('请输入整数的起始值：'))\n",
    "k=int(input('请输入整数的结束值：'))\n",
    "print('西格玛log(随机整数):',function1(n,m,k))\n",
    "print('西格玛1/log(随机整数)：',function2(n,m,k)) \n",
    "    "
   ]
  },
  {
   "cell_type": "code",
   "execution_count": null,
   "metadata": {
    "collapsed": true
   },
   "outputs": [],
   "source": []
  }
 ],
 "metadata": {
  "kernelspec": {
   "display_name": "Python 3",
   "language": "python",
   "name": "python3"
  },
  "language_info": {
   "codemirror_mode": {
    "name": "ipython",
    "version": 3
   },
   "file_extension": ".py",
   "mimetype": "text/x-python",
   "name": "python",
   "nbconvert_exporter": "python",
   "pygments_lexer": "ipython3",
   "version": "3.6.1"
  }
 },
 "nbformat": 4,
 "nbformat_minor": 2
}
