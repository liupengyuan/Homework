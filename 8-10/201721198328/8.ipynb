{
 "cells": [
  {
   "cell_type": "code",
   "execution_count": null,
   "metadata": {
    "collapsed": true
   },
   "outputs": [],
   "source": [
    "fh = open(r'd:\\temp\\五言诗库.txt')\n",
    "text = fh.read()\n",
    "text = text.replace('，','\\n')\n",
    "text = text.replace('。','')\n",
    "poems = text.split('\\n')\n",
    "poems = poems[:-1]\n",
    "print(poems)"
   ]
  },
  {
   "cell_type": "code",
   "execution_count": 7,
   "metadata": {
    "collapsed": true
   },
   "outputs": [],
   "source": [
    "fh = open (r'd:\\temp\\poems_correct.txt','w')\n",
    "fh.write('\\n'.join(poems))\n",
    "fh.close()"
   ]
  },
  {
   "cell_type": "code",
   "execution_count": null,
   "metadata": {},
   "outputs": [
    {
     "name": "stdout",
     "output_type": "stream",
     "text": [
      "淑 遇\n",
      "紫 巷\n",
      "心 不\n",
      "竭 人\n",
      "阿 腋\n"
     ]
    }
   ],
   "source": [
    "\n",
    "def win():\n",
    "    print('YOU WIN!')\n",
    "    \n",
    "\n",
    "def lose():\n",
    "    print('YOU LOSE!')\n",
    "\n",
    "def get_ch_table(line):\n",
    "    ch_table = []\n",
    "    for ch in line:\n",
    "        if ch not in ch_table:\n",
    "            ch_table.append(ch)\n",
    "    return ch_table\n",
    "\n",
    "def poem_robot(file_name):\n",
    "    with open(file_name) as fh:\n",
    "        text = fh.read()\n",
    "    import random\n",
    "    \n",
    "    chs = get_ch_table(text.replace('\\n',''))\n",
    "    chs[4]='黄'\n",
    "    poems = text.split('\\n')\n",
    "    poem = random.choice(poems)\n",
    "\n",
    "    guess_ch_table=[ch for ch in poem]\n",
    "    while len(guess_ch_table)<10:\n",
    "        ch = random.choice(chs)\n",
    "        if ch not in guess_ch_table:\n",
    "            guess_ch_table.append(ch)\n",
    "    random.shuffle(guess_ch_table)\n",
    "\n",
    "    for i in range(0,10,2):\n",
    "        print(guess_ch_table[i],guess_ch_table[i+1])\n",
    "    return poem    \n",
    "\n",
    "def main():\n",
    "    filename = r'd:\\temp\\idioms_correct.txt'\n",
    "    score = 10\n",
    "    while score >= 0:\n",
    "        real_poem = poem_robot(filename)\n",
    "        answer_poem = input('请输入五言诗：')\n",
    "        if answer_poem == real_poem:\n",
    "            score = score + 10\n",
    "            print('你的当前分数是')\n",
    "            if score == 100:\n",
    "                win()\n",
    "                return\n",
    "        elif answer_poem == '':\n",
    "            print('你的最后分数是')\n",
    "        else:\n",
    "            score -= 10\n",
    "            print('答错了，减十分')\n",
    "            print('五言诗其实是：', real_poem)\n",
    "            print('你当前的分数是：', score)\n",
    "    else:\n",
    "        lose()\n",
    "        return\n",
    "\n",
    "main()\n",
    "\n",
    "\n",
    "\n",
    "\n"
   ]
  },
  {
   "cell_type": "code",
   "execution_count": 2,
   "metadata": {},
   "outputs": [
    {
     "data": {
      "text/plain": [
       "'但见新人笑'"
      ]
     },
     "execution_count": 2,
     "metadata": {},
     "output_type": "execute_result"
    }
   ],
   "source": [
    "# 点字成诗机器人\n",
    "\n",
    "def find_poem_sentence(poems, guess_ch_table):\n",
    "    same_character_number = 0\n",
    "    for poem in poems:\n",
    "        for ch in poem:\n",
    "            if ch in guess_ch_table:\n",
    "                same_character_number += 1\n",
    "        if same_character_number == 5:\n",
    "            return poem\n",
    "    return None\n",
    "\n",
    "fh=open(r'd:\\temp\\poems_correct.txt')\n",
    "text=fh.read()\n",
    "poems=text.split('\\n')\n",
    "guess_ch_table=['淑','遇','紫','巷','心','不','竭','人','阿','腋']\n",
    "find_poem_sentence(poems, guess_ch_table)"
   ]
  },
  {
   "cell_type": "code",
   "execution_count": null,
   "metadata": {
    "collapsed": true
   },
   "outputs": [],
   "source": []
  }
 ],
 "metadata": {
  "kernelspec": {
   "display_name": "Python 3",
   "language": "python",
   "name": "python3"
  },
  "language_info": {
   "codemirror_mode": {
    "name": "ipython",
    "version": 3
   },
   "file_extension": ".py",
   "mimetype": "text/x-python",
   "name": "python",
   "nbconvert_exporter": "python",
   "pygments_lexer": "ipython3",
   "version": "3.6.1"
  }
 },
 "nbformat": 4,
 "nbformat_minor": 2
}
