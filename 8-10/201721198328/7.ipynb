{
 "cells": [
  {
   "cell_type": "code",
   "execution_count": null,
   "metadata": {},
   "outputs": [],
   "source": [
    "#练习1\n",
    "s='abcdefghijk'\n",
    "s=s[-1::-1]\n",
    "print(s)"
   ]
  },
  {
   "cell_type": "code",
   "execution_count": null,
   "metadata": {},
   "outputs": [],
   "source": [
    "#练习2\n",
    "def main(n, hight):\n",
    "    if n==1:\n",
    "        for i in range(1,hight):\n",
    "            print('*'*i)\n",
    "    elif n==2:\n",
    "        for i in range(1,hight):\n",
    "            print(' '*(hight-i)+'*'*(2*i-1))\n",
    "n=2\n",
    "hight=5\n",
    "main(n,hight)"
   ]
  },
  {
   "cell_type": "code",
   "execution_count": 19,
   "metadata": {},
   "outputs": [
    {
     "name": "stdout",
     "output_type": "stream",
     "text": [
      "*****\n",
      "******\n",
      "*******\n",
      "********\n",
      "*********\n",
      "**********\n",
      "--------分割线-----------\n",
      "      *****\n",
      "     ******\n",
      "    *******\n",
      "   ********\n",
      "  *********\n",
      " **********\n",
      "--------分割线-----------\n",
      "      **********\n",
      "     ************\n",
      "    **************\n",
      "   ****************\n",
      "  ******************\n",
      " ********************\n"
     ]
    }
   ],
   "source": [
    "#练习4\n",
    "def main(x,y,z):\n",
    "    for i in range(x,y+1):\n",
    "        print('*'*i)\n",
    "    print('--------分割线-----------')\n",
    "\n",
    "    for j in range(x,y+1):\n",
    "        print(' '*(y+1-j)+'*'*j)\n",
    "    \n",
    "    print('--------分割线-----------')\n",
    "\n",
    "    for k in range(x,y+1):\n",
    "        print(' '*(y+1-k)+'*'*k*2) \n",
    "\n",
    "x=5\n",
    "z=5\n",
    "y=10\n",
    "main(x,y,z)\n",
    "    \n"
   ]
  },
  {
   "cell_type": "code",
   "execution_count": 17,
   "metadata": {},
   "outputs": [
    {
     "name": "stdout",
     "output_type": "stream",
     "text": [
      "    *\n",
      "   ***\n",
      "  *****\n",
      " *******\n",
      "  *****\n",
      "   ***\n",
      "    *\n"
     ]
    }
   ],
   "source": [
    "#练习5\n",
    "def main(x,y,z,n):\n",
    "    if n==1:\n",
    "        for i in range(0,z):\n",
    "            print(' '*i+'*'*x)\n",
    "    elif n==2:\n",
    "        for j in range(1,z):\n",
    "            print(' '*(z-j)+'*'*(2*j-1))\n",
    "        for k in range(z-2,0,-1):\n",
    "            print(' '*(z-k)+'*'*(2*k-1))\n",
    "\n",
    "n=2\n",
    "x=5\n",
    "y=5\n",
    "z=5\n",
    "main(x,y,z,n)"
   ]
  },
  {
   "cell_type": "code",
   "execution_count": 7,
   "metadata": {},
   "outputs": [
    {
     "name": "stdout",
     "output_type": "stream",
     "text": [
      "赏花归去马如飞飞如马去归花赏\n",
      " 赏花归去马如飞如马去归花赏\n",
      "  赏花归去马如如马去归花赏\n",
      "   赏花归去马如马去归花赏\n",
      "    赏花归去马马去归花赏\n",
      "     赏花归去马去归花赏\n",
      "      赏花归去去归花赏\n",
      "       赏花归去归花赏\n",
      "        赏花归归花赏\n",
      "         赏花归花赏\n",
      "          赏花花赏\n",
      "           赏花赏\n",
      "            赏赏\n",
      "             赏\n"
     ]
    }
   ],
   "source": [
    "#练习6\n",
    "def main(line):\n",
    "    for i in range(len(line)*2,0, -1):\n",
    "            if i == 1:\n",
    "                print(' '*(len(line)*2-1) +line[0])\n",
    "            elif i%2 == 1:\n",
    "                print(' '*(len(line)*2-i) + line[:i//2] + line[i//2] + line[i//2-1::-1])\n",
    "            else:\n",
    "                print(' '*(len(line)*2-i) + line[:i//2] + line[i//2-1::-1])\n",
    "\n",
    "line = '赏花归去马如飞'\n",
    "main(line)"
   ]
  },
  {
   "cell_type": "code",
   "execution_count": null,
   "metadata": {
    "collapsed": true
   },
   "outputs": [],
   "source": []
  }
 ],
 "metadata": {
  "kernelspec": {
   "display_name": "Python 3",
   "language": "python",
   "name": "python3"
  },
  "language_info": {
   "codemirror_mode": {
    "name": "ipython",
    "version": 3
   },
   "file_extension": ".py",
   "mimetype": "text/x-python",
   "name": "python",
   "nbconvert_exporter": "python",
   "pygments_lexer": "ipython3",
   "version": "3.6.1"
  }
 },
 "nbformat": 4,
 "nbformat_minor": 2
}
