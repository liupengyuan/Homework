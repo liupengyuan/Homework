{
 "cells": [
  {
   "cell_type": "code",
   "execution_count": 3,
   "metadata": {},
   "outputs": [
    {
     "name": "stdout",
     "output_type": "stream",
     "text": [
      "10\n"
     ]
    }
   ],
   "source": [
    "def sumlist(l):\n",
    "    total = 0\n",
    "    for i in l:\n",
    "        total += int(i)\n",
    "    print(total)\n",
    "        \n",
    "list1 = [1, 2, 3, 4]\n",
    "sumlist(list1)"
   ]
  },
  {
   "cell_type": "code",
   "execution_count": 6,
   "metadata": {},
   "outputs": [
    {
     "name": "stdout",
     "output_type": "stream",
     "text": [
      "1\n"
     ]
    }
   ],
   "source": [
    "list1 = [1, 2, 3, 4]\n",
    "\n",
    "def minlist(l):\n",
    "    m = l[0]\n",
    "    for i in l:\n",
    "        if i < m:\n",
    "            m == 1\n",
    "    print(m)\n",
    "\n",
    "minlist(list1)"
   ]
  },
  {
   "cell_type": "code",
   "execution_count": 18,
   "metadata": {},
   "outputs": [
    {
     "name": "stdout",
     "output_type": "stream",
     "text": [
      "Please give a list element to check: 10\n",
      "3\n"
     ]
    }
   ],
   "source": [
    "list1 = [1, 2, 3, 10]\n",
    "\n",
    "def listindex(l):\n",
    "    n = int(input('Please give a list element to check: '))\n",
    "    if n in l:\n",
    "        print(l.index(n))\n",
    "    else:\n",
    "        print(-1)\n",
    "\n",
    "listindex(list1)"
   ]
  }
 ],
 "metadata": {
  "kernelspec": {
   "display_name": "Python 3",
   "language": "python",
   "name": "python3"
  },
  "language_info": {
   "codemirror_mode": {
    "name": "ipython",
    "version": 3
   },
   "file_extension": ".py",
   "mimetype": "text/x-python",
   "name": "python",
   "nbconvert_exporter": "python",
   "pygments_lexer": "ipython3",
   "version": "3.6.3"
  }
 },
 "nbformat": 4,
 "nbformat_minor": 2
}
