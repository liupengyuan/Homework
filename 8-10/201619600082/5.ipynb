{
 "cells": [
  {
   "cell_type": "code",
   "execution_count": 2,
   "metadata": {},
   "outputs": [
    {
     "name": "stdout",
     "output_type": "stream",
     "text": [
      "Please enter the number of square roots: 5\n",
      "Please enter the minimum: 1\n",
      "Please enter the maximum: 10\n",
      "2.569046515733026\n"
     ]
    }
   ],
   "source": [
    "import random, math\n",
    "\n",
    "def rmean_sqr():\n",
    "    \n",
    "    n = int(input('Please enter the number of square roots: '))\n",
    "    m = int(input('Please enter the minimum: '))\n",
    "    k = int(input('Please enter the maximum: '))\n",
    "    \n",
    "    r = random.randint(m,k)\n",
    "    i = 1\n",
    "    total = r\n",
    "    while i < n:\n",
    "        i += 1\n",
    "        total += random.randint(m,k)\n",
    "    return math.sqrt(total / n)\n",
    "\n",
    "print(rmean_sqr())"
   ]
  },
  {
   "cell_type": "code",
   "execution_count": 14,
   "metadata": {},
   "outputs": [
    {
     "name": "stdout",
     "output_type": "stream",
     "text": [
      "Please enter the number of integers: 3\n",
      "Please enter the minimum: 1\n",
      "Please enter the maximum: 1000\n",
      "363\n",
      "52\n",
      "646\n",
      "16.31644605662888\n"
     ]
    }
   ],
   "source": [
    "import math, random\n",
    "\n",
    "def random_log_sum():\n",
    "    n = int(input('Please enter the number of integers: '))\n",
    "    m = int(input('Please enter the minimum: '))\n",
    "    k = int(input('Please enter the maximum: '))\n",
    "    \n",
    "    i = 0\n",
    "    total = 0\n",
    "    \n",
    "    while i < n:\n",
    "        r = random.randint(m,k)\n",
    "        print(r)\n",
    "        total += math.log(r)\n",
    "        i += 1\n",
    "    return(total)\n",
    "    \n",
    "print(random_log_sum())\n"
   ]
  },
  {
   "cell_type": "code",
   "execution_count": 17,
   "metadata": {},
   "outputs": [
    {
     "name": "stdout",
     "output_type": "stream",
     "text": [
      "Please enter the number of integers: 1\n",
      "Please enter the minimum: 1\n",
      "Please enter the maximum: 10\n",
      "7\n",
      "0.5138983423697507\n"
     ]
    }
   ],
   "source": [
    "import math, random\n",
    "\n",
    "def random_invertlog_sum():\n",
    "    n = int(input('Please enter the number of integers: '))\n",
    "    m = int(input('Please enter the minimum: '))\n",
    "    k = int(input('Please enter the maximum: '))\n",
    "    \n",
    "    i = 0\n",
    "    total = 0\n",
    "    \n",
    "    while i < n:\n",
    "        r = random.randint(m,k)\n",
    "        print(r)\n",
    "        total += 1 / math.log(r)\n",
    "        i += 1\n",
    "    return(total)\n",
    "    \n",
    "print(random_invertlog_sum())\n"
   ]
  }
 ],
 "metadata": {
  "kernelspec": {
   "display_name": "Python 3",
   "language": "python",
   "name": "python3"
  },
  "language_info": {
   "codemirror_mode": {
    "name": "ipython",
    "version": 3
   },
   "file_extension": ".py",
   "mimetype": "text/x-python",
   "name": "python",
   "nbconvert_exporter": "python",
   "pygments_lexer": "ipython3",
   "version": "3.6.3"
  }
 },
 "nbformat": 4,
 "nbformat_minor": 2
}
