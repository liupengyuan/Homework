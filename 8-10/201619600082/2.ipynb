# -*- coding: utf-8 -*-
#my Anaconda is not working, hence the raw .py format


#1

n = int(input('Please enter a number:'))

factorial = 1

while n > 1:
	factorial = n * factorial
	n = n - 1

print(factorial)


#2

n = int(input('Please enter a number of questions:'))

i = 1
sum = 0

while i <= n:
    i = i+1
    k = int(input('Please enter a number to sum up:'))    
    sum = sum + k

print(n, sum)

#3

print('Please enter a number. If you wish to stop, enter any word')
n = 1
while type(n) == int:
    n = input()
   
