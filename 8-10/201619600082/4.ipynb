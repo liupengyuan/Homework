{
 "cells": [
  {
   "cell_type": "code",
   "execution_count": 22,
   "metadata": {},
   "outputs": [
    {
     "name": "stdout",
     "output_type": "stream",
     "text": [
      "Please enter first number:1\n",
      "Please enter second number:2\n",
      "Please enter third number:4\n",
      "The sum is: 27\n"
     ]
    }
   ],
   "source": [
    "n = int(input('Please enter first number:'))\n",
    "\n",
    "factorial_n = 1\n",
    "\n",
    "while n > 1:\n",
    "    factorial_n = n * factorial_n\n",
    "    n = n - 1\n",
    "\n",
    "m = int(input('Please enter second number:'))\n",
    "\n",
    "factorial_m = 1\n",
    "\n",
    "while m > 1:\n",
    "    factorial_m = m * factorial_m\n",
    "    m = m - 1\n",
    "\n",
    "k = int(input('Please enter third number:'))\n",
    "\n",
    "factorial_k = 1\n",
    "\n",
    "while k > 1:\n",
    "    factorial_k = k * factorial_k\n",
    "    k = k - 1\n",
    "    \n",
    "print('The sum is:', factorial_m + factorial_n + factorial_k)"
   ]
  },
  {
   "cell_type": "code",
   "execution_count": 11,
   "metadata": {},
   "outputs": [
    {
     "name": "stdout",
     "output_type": "stream",
     "text": [
      "3.140592653839794\n",
      "3.1415826535897198\n"
     ]
    }
   ],
   "source": [
    "def sequence(n):\n",
    "    i = 0\n",
    "    total = 0\n",
    "    while i < n:\n",
    "        total = total + (-1) ** (i) / (2 * i + 1)\n",
    "        i += 1\n",
    "    return total\n",
    "\n",
    "print(4 * sequence(1000))\n",
    "print(4 * sequence(100000))"
   ]
  },
  {
   "cell_type": "code",
   "execution_count": 21,
   "metadata": {},
   "outputs": [
    {
     "name": "stdout",
     "output_type": "stream",
     "text": [
      "Please enter an English word: dwarf\n",
      "dwarves\n"
     ]
    }
   ],
   "source": [
    "def plural():\n",
    "    word = input('Please enter an English word: ')\n",
    "\n",
    "    if word.endswith(('ch', 'sh', 'th', 'x')):\n",
    "        word = word + \"es\"\n",
    "\n",
    "    elif word.endswith('y'):\n",
    "        word = ''.join(list(word)[:-1]) + \"ies\"\n",
    "\n",
    "    elif word.endswith('f'):\n",
    "        word=''.join(list(word)[:-1]) + \"ves\" \n",
    "\n",
    "    elif word.endswith('fe'):\n",
    "        word=''.join(list(word)[:-2]) + \"ves\" \n",
    "\n",
    "    elif word.endswith('o'):\n",
    "        word = word + \"es\"\n",
    "\n",
    "    else:\n",
    "        word = word + \"s\"\n",
    "    \n",
    "    print(word)\n",
    "\n",
    "plural()"
   ]
  },
  {
   "cell_type": "code",
   "execution_count": 29,
   "metadata": {},
   "outputs": [
    {
     "name": "stdout",
     "output_type": "stream",
     "text": [
      "Please enter first number: 1\n",
      "Please enter second number, bigger than the first one: 5\n",
      "Please enter the interval value: 2\n",
      "9\n"
     ]
    }
   ],
   "source": [
    "def interval():\n",
    "    m = int(input('Please enter first number: '))\n",
    "    n = int(input('Please enter second number, bigger than the first one: '))\n",
    "    k = int(input('Please enter the interval value: '))\n",
    "    i = m \n",
    "    total = m\n",
    "    while i < n:\n",
    "        i += k\n",
    "        total += i\n",
    "    return total\n",
    "\n",
    "print(interval())"
   ]
  },
  {
   "cell_type": "code",
   "execution_count": null,
   "metadata": {
    "collapsed": true
   },
   "outputs": [],
   "source": []
  }
 ],
 "metadata": {
  "kernelspec": {
   "display_name": "Python 3",
   "language": "python",
   "name": "python3"
  },
  "language_info": {
   "codemirror_mode": {
    "name": "ipython",
    "version": 3
   },
   "file_extension": ".py",
   "mimetype": "text/x-python",
   "name": "python",
   "nbconvert_exporter": "python",
   "pygments_lexer": "ipython3",
   "version": "3.6.3"
  }
 },
 "nbformat": 4,
 "nbformat_minor": 2
}
