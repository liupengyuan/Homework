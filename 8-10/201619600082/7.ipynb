{
 "cells": [
  {
   "cell_type": "code",
   "execution_count": 1,
   "metadata": {},
   "outputs": [
    {
     "name": "stdout",
     "output_type": "stream",
     "text": [
      "gnirts a si sihT\n",
      "gnihtemos\n"
     ]
    }
   ],
   "source": [
    "def reverse(s):\n",
    "    rev_s = ''\n",
    "    for i in range(len(s)):\n",
    "        rev_s += str(s[-i - 1])\n",
    "    print(rev_s)\n",
    "    \n",
    "s = 'This is a string'\n",
    "reverse(s)\n",
    "\n",
    "s2= 'something'\n",
    "reverse(s2)"
   ]
  },
  {
   "cell_type": "code",
   "execution_count": 2,
   "metadata": {},
   "outputs": [
    {
     "name": "stdout",
     "output_type": "stream",
     "text": [
      "Enter number of rows: 9\n",
      "Enter the symbol: x\n",
      "x\n",
      "xx\n",
      "xxx\n",
      "xxxx\n",
      "xxxxx\n",
      "xxxxxx\n",
      "xxxxxxx\n",
      "xxxxxxxx\n",
      "xxxxxxxxx\n",
      "         x\n",
      "        xxx\n",
      "       xxxxx\n",
      "      xxxxxxx\n",
      "     xxxxxxxxx\n",
      "    xxxxxxxxxxx\n",
      "   xxxxxxxxxxxxx\n",
      "  xxxxxxxxxxxxxxx\n",
      " xxxxxxxxxxxxxxxxx\n",
      "  x\n",
      "   xx\n",
      "    xxx\n",
      "     xxxx\n",
      "      xxxxx\n",
      "       xxxxxx\n",
      "        xxxxxxx\n",
      "         xxxxxxxx\n",
      "          xxxxxxxxx\n"
     ]
    }
   ],
   "source": [
    "def triangles():\n",
    "    rows = int(input('Enter number of rows: '))\n",
    "    s = input('Enter the symbol: ')\n",
    "\n",
    "    for i in range(rows):\n",
    "        print(s * (i + 1))\n",
    "    \n",
    "    for i in range(rows):\n",
    "        print(' ' * ((rows - 1) - i),s * (2 * i + 1))\n",
    "        \n",
    "    for i in range(rows):\n",
    "        print(' ' * (i + 1), s * (i + 1))\n",
    "        \n",
    "triangles()"
   ]
  },
  {
   "cell_type": "code",
   "execution_count": 3,
   "metadata": {},
   "outputs": [
    {
     "name": "stdout",
     "output_type": "stream",
     "text": [
      "This number of rows will be doubled!: 5\n",
      "Enter the symbol: x\n",
      "     x\n",
      "    xxx\n",
      "   xxxxx\n",
      "  xxxxxxx\n",
      " xxxxxxxxx\n",
      " xxxxxxxxx\n",
      "  xxxxxxx\n",
      "   xxxxx\n",
      "    xxx\n",
      "     x\n"
     ]
    }
   ],
   "source": [
    "def diamonds():\n",
    "    rows = int(input('This number of rows will be doubled!: '))\n",
    "    s = input('Enter the symbol: ')\n",
    "\n",
    "    for i in range(rows):\n",
    "        print(' ' * (rows - 1 - i),s * (2 * i + 1))\n",
    "        \n",
    "    for i in range(rows, 0, -1):\n",
    "        print(' ' * (rows - i),s * (2 * i - 1))\n",
    "        \n",
    "        \n",
    "diamonds()"
   ]
  },
  {
   "cell_type": "code",
   "execution_count": null,
   "metadata": {
    "collapsed": true
   },
   "outputs": [],
   "source": []
  }
 ],
 "metadata": {
  "kernelspec": {
   "display_name": "Python 3",
   "language": "python",
   "name": "python3"
  },
  "language_info": {
   "codemirror_mode": {
    "name": "ipython",
    "version": 3
   },
   "file_extension": ".py",
   "mimetype": "text/x-python",
   "name": "python",
   "nbconvert_exporter": "python",
   "pygments_lexer": "ipython3",
   "version": "3.6.3"
  }
 },
 "nbformat": 4,
 "nbformat_minor": 2
}
