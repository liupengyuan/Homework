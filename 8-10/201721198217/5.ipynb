{
 "cells": [
  {
   "cell_type": "code",
   "execution_count": 2,
   "metadata": {},
   "outputs": [
    {
     "name": "stdout",
     "output_type": "stream",
     "text": [
      "请输入整数个数，以回车键结束：5\n",
      "请输入一个整数作为整数范围的下限，以回车键结束：10\n",
      "请输入一个整数作为整数范围的上限，以回车键结束：100\n",
      "18.35755975068582\n"
     ]
    }
   ],
   "source": [
    "#练习1\n",
    "import random,math \n",
    "\n",
    "def my_sqr():\n",
    "    n = int(input('请输入整数个数，以回车键结束：'))\n",
    "    m = int(input('请输入一个整数作为整数范围的下限，以回车键结束：'))\n",
    "    k = int(input('请输入一个整数作为整数范围的上限，以回车键结束：'))\n",
    "    \n",
    "    i = 0\n",
    "    total = 0\n",
    "    while i < n :\n",
    "        num = random.randint(m,k)\n",
    "        i += 1\n",
    "        total += num\n",
    "    return (math.sqrt(total))\n",
    "\n",
    "print(my_sqr())\n",
    "\n"
   ]
  },
  {
   "cell_type": "code",
   "execution_count": 7,
   "metadata": {},
   "outputs": [
    {
     "name": "stdout",
     "output_type": "stream",
     "text": [
      "请输入整数个数，以回车键结束：5\n",
      "请输入一个整数作为整数范围的下限，以回车键结束：17\n",
      "请输入一个整数作为整数范围的上限，以回车键结束：199\n",
      "计算结果为 (24.042133056705296, -24.042133056705296)\n"
     ]
    }
   ],
   "source": [
    "#练习2\n",
    "import random,math\n",
    "\n",
    "def my_log():\n",
    "    n = int(input('请输入整数个数，以回车键结束：'))\n",
    "    m = int(input('请输入一个整数作为整数范围的下限，以回车键结束：'))\n",
    "    k = int(input('请输入一个整数作为整数范围的上限，以回车键结束：'))\n",
    "    i=0\n",
    "    total1=0\n",
    "    total2=0\n",
    "    while i<n:\n",
    "        i+=1\n",
    "        num=random.randint(m,k)\n",
    "        total1+=math.log(num)\n",
    "        total2+=math.log(1/num)\n",
    "        \n",
    "    return total1,total2\n",
    "\n",
    "print('计算结果为',my_log()) \n"
   ]
  },
  {
   "cell_type": "code",
   "execution_count": null,
   "metadata": {},
   "outputs": [],
   "source": []
  },
  {
   "cell_type": "code",
   "execution_count": null,
   "metadata": {},
   "outputs": [],
   "source": []
  }
 ],
 "metadata": {
  "kernelspec": {
   "display_name": "Python 3",
   "language": "python",
   "name": "python3"
  },
  "language_info": {
   "codemirror_mode": {
    "name": "ipython",
    "version": 3
   },
   "file_extension": ".py",
   "mimetype": "text/x-python",
   "name": "python",
   "nbconvert_exporter": "python",
   "pygments_lexer": "ipython3",
   "version": "3.6.3"
  }
 },
 "nbformat": 4,
 "nbformat_minor": 2
}
