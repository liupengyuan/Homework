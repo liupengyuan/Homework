{
 "cells": [
  {
   "cell_type": "code",
   "execution_count": 1,
   "metadata": {},
   "outputs": [
    {
     "name": "stdout",
     "output_type": "stream",
     "text": [
      "请输入字符串,以回车键结束：1ieusy\n",
      "ysuei1\n"
     ]
    }
   ],
   "source": [
    "#练习一：自己定义一个reverse(s)函数，功能返回字符串s的倒序字符串。\n",
    "\n",
    "def reverse(s):\n",
    "    print(s[::-1])\n",
    "    return\n",
    " \n",
    "s = input(\"请输入字符串,以回车键结束：\")\n",
    "reverse(s)"
   ]
  },
  {
   "cell_type": "code",
   "execution_count": 10,
   "metadata": {},
   "outputs": [
    {
     "name": "stdout",
     "output_type": "stream",
     "text": [
      "请输入一个字符：好\n",
      "请输入任意输入一个整数，代表打印菱形的行数：6\n",
      "直角三角形\n",
      "好\n",
      "好好\n",
      "好好好\n",
      "好好好好\n",
      "好好好好好\n",
      "好好好好好好\n",
      "等腰三角形\n",
      "     好\n",
      "    好好\n",
      "   好好好\n",
      "  好好好好\n",
      " 好好好好好\n",
      "好好好好好好\n",
      "钝角三角形\n",
      " 好\n",
      "  好好\n",
      "   好好好\n",
      "    好好好好\n",
      "     好好好好好\n",
      "      好好好好好好\n"
     ]
    }
   ],
   "source": [
    "#练习二：写函数，根据给定符号和行数，打印相应直角三角形，等腰三角形及其他形式的三角形。\n",
    "\n",
    "def triangle(s,n):\n",
    "    print('直角三角形')\n",
    "    for i in range(1, n+1):\n",
    "        print(s*i)\n",
    "    \n",
    "    print('等腰三角形')\n",
    "    for i in range(1,n+1):\n",
    "        print(' '*(n-i)+s*i)\n",
    "    \n",
    "    print('钝角三角形')\n",
    "    for i in range(1,n+1):\n",
    "        print(' '*i+s*i)\n",
    "    \n",
    "s = str(input(\"请输入一个字符：\"))\n",
    "n = int(input(\"请输入任意输入一个整数，代表打印菱形的行数：\"))\n",
    "triangle(s,n)"
   ]
  },
  {
   "cell_type": "code",
   "execution_count": null,
   "metadata": {},
   "outputs": [],
   "source": []
  },
  {
   "cell_type": "code",
   "execution_count": 9,
   "metadata": {},
   "outputs": [
    {
     "name": "stdout",
     "output_type": "stream",
     "text": [
      "请输入一个字符：好\n",
      "请输入任意输入一个整数，代表打印菱形的行数：6\n",
      "第一个菱形是:\n",
      "     好\n",
      "    好好\n",
      "   好好好\n",
      "  好好好好\n",
      " 好好好好好\n",
      "好好好好好好\n",
      " 好好好好好\n",
      "  好好好好\n",
      "   好好好\n",
      "    好好\n",
      "     好\n",
      "第二个菱形是：\n",
      "     好好好好好好\n",
      "    好好好好好好\n",
      "   好好好好好好\n",
      "  好好好好好好\n",
      " 好好好好好好\n",
      "好好好好好好\n"
     ]
    }
   ],
   "source": [
    "#练习五：写函数，根据给定符号，打印各种菱形。\n",
    "def rhombus1(s,line):\n",
    "    for i in range(1, line+1):\n",
    "        print((line-i)*' ' + s*i,end='')\n",
    "        print()\n",
    "    for i in range(line-1,0,-1):\n",
    "        print((line-i)*' ' + s*i,end='')\n",
    "        print()\n",
    "    return\n",
    "\n",
    "def rhombus2(s,line):\n",
    "    for i in range(1,line+1):\n",
    "        print(' '*(line-i)+s*line)\n",
    "    return\n",
    "\n",
    "s = input('请输入一个字符：')\n",
    "line = int(input('请输入任意输入一个整数，代表打印菱形的行数：'))\n",
    "print('第一个菱形是:')\n",
    "rhombus1(s,line)\n",
    "print('第二个菱形是：')\n",
    "rhombus2(s,line)"
   ]
  },
  {
   "cell_type": "code",
   "execution_count": null,
   "metadata": {},
   "outputs": [],
   "source": []
  },
  {
   "cell_type": "code",
   "execution_count": null,
   "metadata": {},
   "outputs": [],
   "source": []
  }
 ],
 "metadata": {
  "kernelspec": {
   "display_name": "Python 3",
   "language": "python",
   "name": "python3"
  },
  "language_info": {
   "codemirror_mode": {
    "name": "ipython",
    "version": 3
   },
   "file_extension": ".py",
   "mimetype": "text/x-python",
   "name": "python",
   "nbconvert_exporter": "python",
   "pygments_lexer": "ipython3",
   "version": "3.6.3"
  }
 },
 "nbformat": 4,
 "nbformat_minor": 2
}
