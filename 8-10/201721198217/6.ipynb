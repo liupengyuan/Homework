{
 "cells": [
  {
   "cell_type": "code",
   "execution_count": 7,
   "metadata": {},
   "outputs": [
    {
     "name": "stdout",
     "output_type": "stream",
     "text": [
      "请输入要输入的数字个数（整数):5\n",
      "请输入一个数:23\n",
      "请输入一个数:4\n",
      "请输入一个数:35\n",
      "请输入一个数:3\n",
      "请输入一个数:5\n",
      "这 5 个数的和为: 70\n"
     ]
    }
   ],
   "source": [
    "#写函数，返回一个list中所有数字的和\n",
    "\n",
    "n = int(input('请输入要输入的数字个数（整数):'))\n",
    "i = 0\n",
    "numbers = [] \n",
    "\n",
    "while i < n:\n",
    "    num = int(input('请输入一个数:'))\n",
    "    numbers.append(num)\n",
    "    i+=1\n",
    "    \n",
    "def my_sum(j):\n",
    "    total=0\n",
    "    for i in range(len(j)):\n",
    "        total += numbers[i]\n",
    "    return total    \n",
    "\n",
    "print('这',n,'个数的和为:',my_sum(numbers))"
   ]
  },
  {
   "cell_type": "code",
   "execution_count": 8,
   "metadata": {},
   "outputs": [
    {
     "name": "stdout",
     "output_type": "stream",
     "text": [
      "请输入要输入的数字个数（整数):5\n",
      "请输入一个数字:12\n",
      "请输入一个数字:24\n",
      "请输入一个数字:13\n",
      "请输入一个数字:52\n",
      "请输入一个数字:32\n",
      "这 5 个数中最小的是: 12\n"
     ]
    }
   ],
   "source": [
    "#写函数，返回一个list中的最小值\n",
    "\n",
    "n = int(input('请输入要输入的数字个数（整数):'))\n",
    "i = 0\n",
    "numbers = [] \n",
    "\n",
    "while i < n:\n",
    "    num = int(input('请输入一个数字:'))\n",
    "    numbers.append(num)\n",
    "    i+=1\n",
    "\n",
    "def min_num(j):\n",
    "    MinNum=numbers[0]\n",
    "    for i in range(len(j)):\n",
    "        if numbers[i] < MinNum:\n",
    "            MinNum = numbers[i]\n",
    "    return MinNum\n",
    "\n",
    "print('这',n,'个数中最小的是:',min_num(numbers))"
   ]
  },
  {
   "cell_type": "code",
   "execution_count": 10,
   "metadata": {},
   "outputs": [
    {
     "name": "stdout",
     "output_type": "stream",
     "text": [
      "请输入要输入的对象个数（整数):3\n",
      "请输入一个对象:wo\n",
      "请输入一个对象:ni\n",
      "请输入一个对象:ta\n",
      "请输入您要查询的对象:ni\n",
      "您查询的对象的位置是: 1\n"
     ]
    }
   ],
   "source": [
    "#写函数，返回某个元素/对象在一个list中的位置，如果不在，则返回-1.\n",
    "\n",
    "n = int(input('请输入要输入的对象个数（整数):'))\n",
    "i = 0\n",
    "numbers = [] \n",
    "\n",
    "while i < n:\n",
    "    num = input('请输入一个对象:')\n",
    "    numbers.append(num)\n",
    "    i+=1\n",
    "    \n",
    "m=input('请输入您要查询的对象:')\n",
    "def find_num(m):\n",
    "    if m in numbers:\n",
    "        numbers.index(m)\n",
    "        print('您查询的对象的位置是:',numbers.index(m))\n",
    "    else:\n",
    "        print('list中不存在该对象,函数返回值为：-1')\n",
    "\n",
    "find_num(m)"
   ]
  },
  {
   "cell_type": "code",
   "execution_count": 12,
   "metadata": {},
   "outputs": [
    {
     "name": "stdout",
     "output_type": "stream",
     "text": [
      "0.8366600265340755\n"
     ]
    }
   ],
   "source": [
    "import math\n",
    "\n",
    "def cos_distance(vec1,vec2):\n",
    "    i = 0\n",
    "    square1 = 0\n",
    "    square2 = 0\n",
    "    num = 0\n",
    "    den = 0\n",
    "    \n",
    "    while i < len(vec1):\n",
    "        num += vec1[i]*vec2[i]\n",
    "        i += 1\n",
    "        \n",
    "    for v1 in vec1:\n",
    "        square1 += v1**2\n",
    "    for v2 in vec2:\n",
    "        square2 += v2**2\n",
    "    \n",
    "    den = math.sqrt(square1)*math.sqrt(square2)\n",
    "    \n",
    "    return num/den\n",
    "\n",
    "def main():\n",
    "    veclist1 = [2,1,3]\n",
    "    veclist2 = [2,5,4]\n",
    "    print(cos_distance(veclist1,veclist2))\n",
    "\n",
    "main()"
   ]
  },
  {
   "cell_type": "code",
   "execution_count": 14,
   "metadata": {},
   "outputs": [
    {
     "name": "stdout",
     "output_type": "stream",
     "text": [
      "3741\n"
     ]
    }
   ],
   "source": [
    "sum_num = 100\n",
    "time = 0\n",
    "for i in range(5,91):\n",
    "    for j in range(5,100 - i + 1):\n",
    "        for k in range(5,100 - i - j + 1):\n",
    "            if i + j + k == 100:\n",
    "                time += 1\n",
    "            else:\n",
    "                continue\n",
    "print(time)"
   ]
  }
 ],
 "metadata": {
  "kernelspec": {
   "display_name": "Python 3",
   "language": "python",
   "name": "python3"
  },
  "language_info": {
   "codemirror_mode": {
    "name": "ipython",
    "version": 3
   },
   "file_extension": ".py",
   "mimetype": "text/x-python",
   "name": "python",
   "nbconvert_exporter": "python",
   "pygments_lexer": "ipython3",
   "version": "3.6.3"
  }
 },
 "nbformat": 4,
 "nbformat_minor": 2
}
