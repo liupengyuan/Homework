{
 "cells": [
  {
   "cell_type": "code",
   "execution_count": 2,
   "metadata": {},
   "outputs": [
    {
     "name": "stdout",
     "output_type": "stream",
     "text": [
      "输入一个整数m 2\n",
      "输入一个不为0的整数n 6\n",
      "请选择运算：求和、乘积、取余数或整除  求和\n",
      "和为： 20\n"
     ]
    }
   ],
   "source": [
    "#练习2\n",
    "m=int(input('输入一个整数m '))\n",
    "n=int(input('输入一个不为0的整数n '))\n",
    "if m<=n:\n",
    "    max=n\n",
    "    min=m\n",
    "else:\n",
    "    max=m\n",
    "    min=n\n",
    "result=min\n",
    "i=input('请选择运算：求和、乘积、取余数或整除  ')\n",
    "if i=='求和':\n",
    "    while min<max:\n",
    "        min=min+1\n",
    "        result=result+min\n",
    "    print('和为：',result)\n",
    "elif i=='乘积':\n",
    "    while min<max:\n",
    "        min=min+1\n",
    "        result=result*min\n",
    "    print('积为：',result)\n",
    "elif i=='取余数':\n",
    "    print('余数为：',m%m) \n",
    "else:\n",
    "    print('整除为：',m//m)"
   ]
  },
  {
   "cell_type": "code",
   "execution_count": 13,
   "metadata": {
    "scrolled": true
   },
   "outputs": [
    {
     "name": "stdout",
     "output_type": "stream",
     "text": [
      "请输入一个英文单词（单数），以回车键结束。knife\n",
      "knife 的复数形式为： knives\n"
     ]
    }
   ],
   "source": [
    "#练习4\n",
    "word=input('请输入一个英文单词（单数），以回车键结束。')\n",
    "if word.endswith('s') or word.endswith('x') or word.endswith('z') or word.endswith('ch') or word.endswith('sh'):\n",
    "    print(word,'的复数形式为：',word+'es')\n",
    "elif word.endswith('y'):\n",
    "    print(word,'的复数形式为：',word[:-1]+'ies')\n",
    "elif word.endswith('f'):\n",
    "    print(word,'的复数形式为：',word[:-1]+'ves')\n",
    "elif word.endswith('fe'):\n",
    "    print(word,'的复数形式为：',word[:-2]+'ves')\n",
    "elif word=='potato' or word=='tomato' or word=='hero':\n",
    "    print(word,'的复数形式为：',word+'es')\n",
    "elif word=='zoo' or word=='photo' or word=='radio':\n",
    "    print(word,'的复数形式为：',word+'s')\n",
    "elif word=='deer' or word=='sheep' or word=='fish' or word=='Chinese':\n",
    "    print(word,'的复数形式为：',word)\n",
    "elif word=='child':\n",
    "    print(word,'的复数形式为：children')\n",
    "elif word=='foot':\n",
    "    print(word,'的复数形式为：feet')\n",
    "elif word=='tooth':\n",
    "    print(word,'的复数形式为：teeth')\n",
    "elif word=='mouse':\n",
    "    print(word,'的复数形式为：mice')\n",
    "elif word=='man':\n",
    "    print(word,'的复数形式为：men')\n",
    "elif word=='woman':\n",
    "    print(word,'的复数形式为：women')\n",
    "else:\n",
    "    print(word,'的复数形式为：',word+'s')"
   ]
  }
 ],
 "metadata": {
  "kernelspec": {
   "display_name": "Python 3",
   "language": "python",
   "name": "python3"
  },
  "language_info": {
   "codemirror_mode": {
    "name": "ipython",
    "version": 3
   },
   "file_extension": ".py",
   "mimetype": "text/x-python",
   "name": "python",
   "nbconvert_exporter": "python",
   "pygments_lexer": "ipython3",
   "version": "3.6.3"
  }
 },
 "nbformat": 4,
 "nbformat_minor": 2
}
