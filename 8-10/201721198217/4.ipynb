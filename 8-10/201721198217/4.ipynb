{
 "cells": [
  {
   "cell_type": "code",
   "execution_count": 5,
   "metadata": {},
   "outputs": [
    {
     "name": "stdout",
     "output_type": "stream",
     "text": [
      "请输入第1个整数，以回车结束。5\n",
      "请输入第2个整数，以回车结束。6\n",
      "请输入第3个整数，以回车结束。3\n",
      "m!+n!+k!= 846\n"
     ]
    }
   ],
   "source": [
    "#练习1 求m!+n!+k!\n",
    "\n",
    "def compute_pro(end):\n",
    "    i = 0\n",
    "    total_n = 1\n",
    "\n",
    "    while i < end:\n",
    "        i = i + 1\n",
    "        total_n = total_n * i\n",
    "\n",
    "    return total_n\n",
    "\n",
    "m = int(input('请输入第1个整数，以回车结束。'))\n",
    "n = int(input('请输入第2个整数，以回车结束。'))\n",
    "k = int(input('请输入第3个整数，以回车结束。'))\n",
    "\n",
    "print('m!+n!+k!=', compute_pro(m) + compute_pro(n) + compute_pro(k))"
   ]
  },
  {
   "cell_type": "code",
   "execution_count": 10,
   "metadata": {},
   "outputs": [
    {
     "name": "stdout",
     "output_type": "stream",
     "text": [
      "前1000项求和的结果的4倍为： 3.140592653839794\n",
      "前100000项求和的结果的4倍为： 3.1415826535897198\n"
     ]
    }
   ],
   "source": [
    "#练习2 \n",
    "def my_sum(end):\n",
    "    i = 1\n",
    "    total = 0\n",
    "    \n",
    "    while i <= end :\n",
    "        total=total+(-1)**(i+1)*1/(2*i-1) \n",
    "        i = i+1\n",
    "        \n",
    "    return total\n",
    "\n",
    "n=1000\n",
    "m=100000\n",
    "print('前1000项求和的结果的4倍为：',my_sum(n)*4)\n",
    "print('前100000项求和的结果的4倍为：',my_sum(m)*4)"
   ]
  },
  {
   "cell_type": "code",
   "execution_count": 26,
   "metadata": {},
   "outputs": [
    {
     "name": "stdout",
     "output_type": "stream",
     "text": [
      "请输入你的名字：cuixin\n",
      "请输入你的生日（例如：716）:113\n",
      "cuixin ,你是非常有个性的 摩羯座\n"
     ]
    }
   ],
   "source": [
    "#练习3（1） 将task3中练习一改为函数，并进行调用\n",
    "def zodiac(date):\n",
    "    if date>=1222 or date<=119:\n",
    "        n='摩羯座'\n",
    "    elif (m>=120) and (m<=218):\n",
    "        n='水瓶座'\n",
    "    elif (m>=219) and (m<=320):\n",
    "        n='双鱼座'\n",
    "    elif (m>=321) and (m<=419):\n",
    "        n='白羊座'\n",
    "    elif (m>=420) and (m<=520):\n",
    "        n='金牛座'        \n",
    "    elif (m>=521) and (m<=621):\n",
    "        n='双子座'    \n",
    "    elif (m>=622) and (m<=722):\n",
    "        n='巨蟹座'\n",
    "    elif (m>=723) and (m<=822):\n",
    "        n='狮子座'  \n",
    "    elif (m>=823) and (m<=922):\n",
    "        n='处女座'\n",
    "    elif (m>=923) and (m<=1023):\n",
    "        n='天枰座'\n",
    "    elif (m>=1024) and (m<=1122):\n",
    "        n='天蝎座'        \n",
    "    else:\n",
    "        n='射手座'  \n",
    "    return n\n",
    "\n",
    "name=input('请输入你的名字：')\n",
    "date=int(input('请输入你的生日（例如：716）:'))\n",
    "print(name,',你是非常有个性的',zodiac(date))"
   ]
  },
  {
   "cell_type": "code",
   "execution_count": 27,
   "metadata": {},
   "outputs": [
    {
     "name": "stdout",
     "output_type": "stream",
     "text": [
      "请输入一个英文单词（单数）：apple\n",
      "apple 的复数形式是 apples\n"
     ]
    }
   ],
   "source": [
    "#练习3（2） 将task3中练习4改为函数，并进行调用\n",
    "def my_words(word):\n",
    "    if word.endswith('s') or word.endswith('x') or word.endswith('z') or word.endswith('ch') or word.endswith('sh'):\n",
    "        word=word+'es'\n",
    "    elif word.endswith('y'):\n",
    "        word=word[:-1]+'ies'\n",
    "    elif word.endswith('f'):\n",
    "        word=word[:-1]+'ves'\n",
    "    elif word.endswith('fe'):\n",
    "        word=word[:-2]+'ves'\n",
    "    elif word=='potato' or word=='tomato' or word=='hero':\n",
    "        word=word+'es'\n",
    "    elif word=='zoo' or word=='photo' or word=='radio':\n",
    "        word=word+'s'\n",
    "    elif word=='deer' or word=='sheep' or word=='fish' or word=='Chinese':\n",
    "        word=word\n",
    "    elif word=='child':\n",
    "        word=='children'\n",
    "    elif word=='foot':\n",
    "        word=='feet'\n",
    "    elif word=='tooth':\n",
    "        word=='teeth'\n",
    "    elif word=='mouse':\n",
    "        word=='mice'\n",
    "    elif word=='man':\n",
    "        word=='men'\n",
    "    elif word=='woman':\n",
    "        word=='women'\n",
    "    else:\n",
    "        word=word+'s'\n",
    "    \n",
    "    return word\n",
    "\n",
    "m=input('请输入一个英文单词（单数）：')\n",
    "print(m,'的复数形式是',my_words(m))"
   ]
  },
  {
   "cell_type": "code",
   "execution_count": 28,
   "metadata": {},
   "outputs": [
    {
     "name": "stdout",
     "output_type": "stream",
     "text": [
      "输入一个整数m，以回车结束：10\n",
      "输入一个整数n，以回车结束：1\n",
      "输入一个整数k，以回车结束：3\n",
      "从整数m到整数n累加，间隔为k的求和为： 22\n"
     ]
    }
   ],
   "source": [
    "#挑战性练习\n",
    "def my_sum(m,n,k):\n",
    "    if m>=n:\n",
    "        max=m\n",
    "        min=n\n",
    "    else:\n",
    "        max=n\n",
    "        min=m\n",
    "    total=min\n",
    "    while min<max:    \n",
    "        min=min+k\n",
    "        total=total+min\n",
    "        \n",
    "    return total\n",
    "           \n",
    "m=int(input('输入一个整数m，以回车结束：'))\n",
    "n=int(input('输入一个整数n，以回车结束：'))\n",
    "k=int(input('输入一个整数k，以回车结束：'))\n",
    "print('从整数m到整数n累加，间隔为k的求和为：',my_sum(m,n,k))"
   ]
  },
  {
   "cell_type": "code",
   "execution_count": null,
   "metadata": {},
   "outputs": [],
   "source": []
  },
  {
   "cell_type": "code",
   "execution_count": null,
   "metadata": {},
   "outputs": [],
   "source": []
  }
 ],
 "metadata": {
  "kernelspec": {
   "display_name": "Python 3",
   "language": "python",
   "name": "python3"
  },
  "language_info": {
   "codemirror_mode": {
    "name": "ipython",
    "version": 3
   },
   "file_extension": ".py",
   "mimetype": "text/x-python",
   "name": "python",
   "nbconvert_exporter": "python",
   "pygments_lexer": "ipython3",
   "version": "3.6.3"
  }
 },
 "nbformat": 4,
 "nbformat_minor": 2
}
