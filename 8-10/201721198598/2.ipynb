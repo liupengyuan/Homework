{
 "cells": [
  {
   "cell_type": "code",
   "execution_count": 1,
   "metadata": {},
   "outputs": [
    {
     "name": "stdout",
     "output_type": "stream",
     "text": [
      "*****计算阶乘*****\n",
      "输入一个整数，回车结束：6\n",
      "6的阶乘为: 720\n"
     ]
    }
   ],
   "source": [
    "#练习1：仿照任务2完整代码，打印n!。\n",
    "from math import factorial\n",
    "print(\"*****计算阶乘*****\")\n",
    "try:\n",
    "    num=int(input(\"输入一个整数，回车结束：\"))\n",
    "except Exception as e:\n",
    "    print(\"输入错误！\",e)\n",
    "else:\n",
    "  print(str(num)+\"的阶乘为:\",factorial(num))  "
   ]
  },
  {
   "cell_type": "code",
   "execution_count": 2,
   "metadata": {},
   "outputs": [
    {
     "name": "stdout",
     "output_type": "stream",
     "text": [
      "输入整数个数:5\n",
      "输入一个整数，回车结束:1\n",
      "输入一个整数，回车结束:2\n",
      "输入一个整数，回车结束:3\n",
      "输入一个整数，回车结束:4\n",
      "输入一个整数，回车结束:5\n",
      "以上整数的和为: 15\n"
     ]
    }
   ],
   "source": [
    "#练习2：仿照实践1，写出由用户指定整数个数，并由用户输入多个整数，并求和的代码。\n",
    "num=int(input(\"输入整数个数:\"))\n",
    "sum=0\n",
    "while num>0:\n",
    "    i=int(input(\"输入一个整数，回车结束:\"))\n",
    "    sum+=i\n",
    "    num-=1\n",
    "print(\"以上整数的和为:\",sum)"
   ]
  },
  {
   "cell_type": "code",
   "execution_count": 3,
   "metadata": {},
   "outputs": [
    {
     "name": "stdout",
     "output_type": "stream",
     "text": [
      "输入任意个数字，直到不想输入为止，\n",
      "不想输入时请随意输入任何非数字的字符，程序会自动停止\n",
      "输入一个数字：1\n",
      "输入一个数字：2\n",
      "输入一个数字：2.1\n",
      "输入一个数字：0.3\n",
      "输入一个数字：stop\n",
      "程序结束\n"
     ]
    }
   ],
   "source": [
    "#练习3：用户可以输入的任意多个数字，直到用户不想输入为止。\n",
    "num=0\n",
    "print(\"输入任意个数字，直到不想输入为止，\\n不想输入时请随意输入任何非数字的字符，程序会自动停止\")\n",
    "while True:\n",
    "    try:\n",
    "        num=float(input(\"输入一个数字：\"))\n",
    "    except Exception:\n",
    "        break\n",
    "print(\"程序结束\")"
   ]
  },
  {
   "cell_type": "code",
   "execution_count": 4,
   "metadata": {},
   "outputs": [
    {
     "name": "stdout",
     "output_type": "stream",
     "text": [
      "输入一个数字，回车结束：-10\n",
      "输入一个数字，回车结束：-300\n",
      "程序结束！\n"
     ]
    }
   ],
   "source": [
    "#练习4：用户可以输入的任意多个数字，直到: 输入所有数字的和比当前输入数字小，且输入所有数字的积大于500。\n",
    "num=0\n",
    "he=0\n",
    "ji=1\n",
    "while True:\n",
    "    num=float(input(\"输入一个数字，回车结束：\"))\n",
    "    he+=num\n",
    "    ji*=num\n",
    "    if he<num and ji>500:\n",
    "        break\n",
    "print(\"程序结束！\")"
   ]
  },
  {
   "cell_type": "code",
   "execution_count": null,
   "metadata": {
    "collapsed": true
   },
   "outputs": [],
   "source": []
  }
 ],
 "metadata": {
  "kernelspec": {
   "display_name": "Python 3",
   "language": "python",
   "name": "python3"
  },
  "language_info": {
   "codemirror_mode": {
    "name": "ipython",
    "version": 3
   },
   "file_extension": ".py",
   "mimetype": "text/x-python",
   "name": "python",
   "nbconvert_exporter": "python",
   "pygments_lexer": "ipython3",
   "version": "3.6.1"
  }
 },
 "nbformat": 4,
 "nbformat_minor": 2
}
