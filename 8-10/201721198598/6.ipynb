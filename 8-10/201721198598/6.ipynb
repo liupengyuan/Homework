{
 "cells": [
  {
   "cell_type": "code",
   "execution_count": 3,
   "metadata": {},
   "outputs": [
    {
     "name": "stdout",
     "output_type": "stream",
     "text": [
      "请输入要输入的数字个数（整数):5\n",
      "请输入一个数字:1\n",
      "请输入一个数字:2\n",
      "请输入一个数字:3\n",
      "请输入一个数字:4\n",
      "请输入一个数字:5\n",
      "list的总和为： 15.0\n"
     ]
    }
   ],
   "source": [
    "#写函数，返回一个list中所有数字的和\n",
    "def sumoflist(li):\n",
    "    numSum=0\n",
    "    for i in range(len(li)):\n",
    "        numSum+=li[i]\n",
    "    return numSum\n",
    "n = int(input('请输入要输入的数字个数（整数):'))\n",
    "i = 0\n",
    "numlist=[]\n",
    "while i < n:\n",
    "    num = float(input('请输入一个数字:'))\n",
    "    numlist.append(num)\n",
    "    i+=1\n",
    "print(\"list的总和为：\",sumoflist(numlist))"
   ]
  },
  {
   "cell_type": "code",
   "execution_count": 4,
   "metadata": {},
   "outputs": [
    {
     "name": "stdout",
     "output_type": "stream",
     "text": [
      "请输入要输入的数字个数（整数):5\n",
      "请输入一个数字:1\n",
      "请输入一个数字:2\n",
      "请输入一个数字:3\n",
      "请输入一个数字:4\n",
      "请输入一个数字:5\n",
      "list的最小值为： 1.0\n"
     ]
    }
   ],
   "source": [
    "#写函数，返回一个list中的最小值\n",
    "def minoflist(li):\n",
    "    minNum=li[0]\n",
    "    for i in range(len(li)):\n",
    "        if li[i]<minNum:\n",
    "            minNum=li[i]\n",
    "    return minNum\n",
    "n = int(input('请输入要输入的数字个数（整数):'))\n",
    "i = 0\n",
    "numlist=[]\n",
    "while i < n:\n",
    "    num = float(input('请输入一个数字:'))\n",
    "    numlist.append(num)\n",
    "    i+=1\n",
    "print(\"list的最小值为：\",minoflist(numlist))"
   ]
  },
  {
   "cell_type": "code",
   "execution_count": 5,
   "metadata": {},
   "outputs": [
    {
     "name": "stdout",
     "output_type": "stream",
     "text": [
      "请输入要输入的数字个数（整数):5\n",
      "请输入一个数字:1\n",
      "请输入一个数字:2\n",
      "请输入一个数字:3\n",
      "请输入一个数字:4\n",
      "请输入一个数字:5\n",
      "输入你要查找的元素/对象值:3\n",
      "元素3.0的索引为2(即第3个位置)！\n"
     ]
    }
   ],
   "source": [
    "#写函数，返回某个元素/对象在一个list中的位置，如果不在，则返回-1.\n",
    "def indexoflist(li,element):\n",
    "    if li.count(element)==0:\n",
    "        return -1\n",
    "    else:\n",
    "        return li.index(element)\n",
    "\n",
    "n = int(input('请输入要输入的数字个数（整数):'))\n",
    "i = 0\n",
    "numlist=[]\n",
    "while i < n:\n",
    "    num = float(input('请输入一个数字:'))\n",
    "    numlist.append(num)\n",
    "    i+=1\n",
    "element=float(input(\"输入你要查找的元素/对象值:\"))\n",
    "index=indexoflist(numlist,element)\n",
    "if index==-1:\n",
    "    print(\"list中不存在元素%s,函数返回值为：-1\"%element)\n",
    "else:\n",
    "    print(\"元素%s的索引为%s(即第%s个位置)！\"%(element,index,index+1))"
   ]
  },
  {
   "cell_type": "code",
   "execution_count": 6,
   "metadata": {},
   "outputs": [
    {
     "name": "stdout",
     "output_type": "stream",
     "text": [
      "请输入向量的维度（整数):3\n",
      "输入向量1：\n",
      "请输入一个数字:1\n",
      "请输入一个数字:1\n",
      "请输入一个数字:1\n",
      "输入向量2：\n",
      "请输入一个数字:3\n",
      "请输入一个数字:3\n",
      "请输入一个数字:3\n",
      "两个向量的夹角余弦值为： 1.0\n"
     ]
    }
   ],
   "source": [
    "#写函数，可求两个向量的夹角余弦值，向量可放在list中。主程序调用该函数。\n",
    "def vecCos(vec1,vec2):\n",
    "    if len(vec1)!=len(vec2):\n",
    "        print(\"维数不同，无法计算\")\n",
    "        return \n",
    "    denominator=0#计算分子部分\n",
    "    numerator1=0#计算分母的第一部分\n",
    "    numerator2=0#计算分母的第二部分\n",
    "    length=len(vec1)\n",
    "    for i in range(length):\n",
    "        denominator+=vec1[i]*vec2[i]\n",
    "        numerator1+=vec1[i]**2\n",
    "        numerator2+=vec2[i]**2\n",
    "    return denominator/((numerator1**0.5)*(numerator2**0.5))\n",
    "    \n",
    "\n",
    "n = int(input('请输入向量的维度（整数):'))\n",
    "i = 0\n",
    "vec1=[]\n",
    "print(\"输入向量1：\")\n",
    "while i < n:\n",
    "    num = float(input('请输入一个数字:'))\n",
    "    vec1.append(num)\n",
    "    i+=1\n",
    "i=0\n",
    "vec2=[]\n",
    "print(\"输入向量2：\")\n",
    "while i < n:\n",
    "    num = float(input('请输入一个数字:'))\n",
    "    vec2.append(num)\n",
    "    i+=1\n",
    "\n",
    "print(\"两个向量的夹角余弦值为：\",vecCos(vec1,vec2))"
   ]
  },
  {
   "cell_type": "code",
   "execution_count": 7,
   "metadata": {},
   "outputs": [
    {
     "name": "stdout",
     "output_type": "stream",
     "text": [
      "穷举种类为： 3741\n"
     ]
    }
   ],
   "source": [
    "#挑战性习题：python语言老师为了激励学生学python，自费买了100个完全相同的Macbook Pro，分给三个班级，\n",
    "#每个班级至少分5个，用穷举法计算共有多少种分法？\n",
    "def kindsof(num):\n",
    "    kinds=0\n",
    "    for i in range(num-14):  #除了至少要分配的五个之外，A班还可以分配0~85个\n",
    "        for j in range(num-14-i):  #,A班又拿走了i个，B班除了至少要分配的五个之外，还可以分配0~（86-i）个\n",
    "            kinds+=1  #A,B班分配好后，C班拿走剩下的\n",
    "    return kinds\n",
    "\n",
    "print(\"穷举种类为：\",kindsof(100))"
   ]
  },
  {
   "cell_type": "code",
   "execution_count": null,
   "metadata": {
    "collapsed": true
   },
   "outputs": [],
   "source": []
  }
 ],
 "metadata": {
  "kernelspec": {
   "display_name": "Python 3",
   "language": "python",
   "name": "python3"
  },
  "language_info": {
   "codemirror_mode": {
    "name": "ipython",
    "version": 3
   },
   "file_extension": ".py",
   "mimetype": "text/x-python",
   "name": "python",
   "nbconvert_exporter": "python",
   "pygments_lexer": "ipython3",
   "version": "3.6.1"
  }
 },
 "nbformat": 4,
 "nbformat_minor": 2
}
