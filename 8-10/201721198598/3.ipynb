{
 "cells": [
  {
   "cell_type": "code",
   "execution_count": 1,
   "metadata": {},
   "outputs": [
    {
     "name": "stdout",
     "output_type": "stream",
     "text": [
      "输入两个整数m和n\n",
      "输入整数1：2\n",
      "输入整数2：6\n",
      "输入以下运算符号：\n",
      "+ :代表求和\n",
      "* :代表乘积\n",
      "% :代表取余\n",
      "/ :代表整除\n",
      "*\n",
      "n到m的乘积为： 720\n",
      "程序结束！\n"
     ]
    }
   ],
   "source": [
    "#练习 2：写程序，可由键盘读入两个整数m与n(n不等于0)，询问用户意图，如果要求和则计算从m到n的和输出，\n",
    "#如果要乘积则计算从m到n的积并输出，如果要求余数则计算m除以n的余数的值并输出，否则则计算m整除n的值并输出。\n",
    "num=0\n",
    "he=0\n",
    "ji=1\n",
    "yu=0\n",
    "chu=0\n",
    "print(\"输入两个整数m和n\")\n",
    "try:\n",
    "    m=int(input(\"输入整数1：\"))\n",
    "    n=int(input(\"输入整数2：\"))\n",
    "except Exception as e:\n",
    "    print(e)\n",
    "else:\n",
    "    if m<n:\n",
    "        temp=m\n",
    "        m=n\n",
    "        n=temp\n",
    "    oper=input(\"输入以下运算符号：\\n+ :代表求和\\n* :代表乘积\\n% :代表取余\\n/ :代表整除\\n\")\n",
    "    if oper=='+':\n",
    "        while(n<=m):\n",
    "            he+=n\n",
    "            n+=1\n",
    "        print(\"n到m的和为：\",he)\n",
    "    elif oper=='*':\n",
    "        while(n<=m):\n",
    "            ji*=n\n",
    "            n+=1\n",
    "        print(\"n到m的乘积为：\",ji)\n",
    "    elif oper=='%':\n",
    "        print(\"m除以n的余数为：\",m%n)\n",
    "    elif oper=='/':\n",
    "        print(\"m整除n为：\",m/n)\n",
    "    else:\n",
    "        print(\"非法输入！\")\n",
    "print(\"程序结束！\")"
   ]
  },
  {
   "cell_type": "code",
   "execution_count": 2,
   "metadata": {},
   "outputs": [
    {
     "name": "stdout",
     "output_type": "stream",
     "text": [
      "*****英语单数名词变复数形式*****\n",
      "输入一个单词：fly\n",
      "fly 的复数名词形式为： flies\n"
     ]
    }
   ],
   "source": [
    "#练习 4：英文单词单数转复数，要求输入一个英文名词（单数形式），能够得到其复数形式，或给出单数转复数形式的建议\n",
    "#（提示，some_string.endswith(some_letter)函数可以判断某字符串结尾字符\n",
    "print(\"*****英语单数名词变复数形式*****\")\n",
    "str=input(\"输入一个单词：\")\n",
    "if str[-1]=='s' or str[-1]=='x' or str[-2:]=='sh' or str[-2:]=='ch': # 以s, sh, ch, x结尾加es\n",
    "    newstr=str+'es'  \n",
    "elif str[-1]=='f':   #以f或fe结尾的，把f或fe变ve加s\n",
    "    newstr=str[:-1]+'ves'\n",
    "elif str[-2:]=='fe': #以f或fe结尾的，把f或fe变ve加s\n",
    "    newstr=str[:-2]+'ves'\n",
    "elif str[-2] not in 'aeiou' and str[-1]=='y':#以辅音字母+y结尾，变y为i再加es\n",
    "    newstr=str[:-1]+'ies'\n",
    "else: #一般情况加s\n",
    "    newstr=str+'s'\n",
    "print(str,\"的复数名词形式为：\",newstr)"
   ]
  },
  {
   "cell_type": "code",
   "execution_count": null,
   "metadata": {
    "collapsed": true
   },
   "outputs": [],
   "source": []
  }
 ],
 "metadata": {
  "kernelspec": {
   "display_name": "Python 3",
   "language": "python",
   "name": "python3"
  },
  "language_info": {
   "codemirror_mode": {
    "name": "ipython",
    "version": 3
   },
   "file_extension": ".py",
   "mimetype": "text/x-python",
   "name": "python",
   "nbconvert_exporter": "python",
   "pygments_lexer": "ipython3",
   "version": "3.6.1"
  }
 },
 "nbformat": 4,
 "nbformat_minor": 2
}
