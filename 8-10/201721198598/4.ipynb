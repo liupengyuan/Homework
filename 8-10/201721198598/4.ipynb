{
 "cells": [
  {
   "cell_type": "code",
   "execution_count": 1,
   "metadata": {},
   "outputs": [
    {
     "name": "stdout",
     "output_type": "stream",
     "text": [
      "请输入m:3\n",
      "请输入n:3\n",
      "请输入k:2\n",
      "m!+n!+k!结果为： 14\n"
     ]
    }
   ],
   "source": [
    "#练习1：写程序，可求m!+n!+k!\n",
    "m=int(input(\"请输入m:\"))\n",
    "n=int(input(\"请输入n:\"))\n",
    "k=int(input(\"请输入k:\"))\n",
    "\n",
    "def calcfac(num):\n",
    "    fac=1\n",
    "    while num>0:\n",
    "        fac*=num\n",
    "        num-=1\n",
    "    return fac\n",
    "\n",
    "result=calcfac(m)+calcfac(n)+calcfac(k)\n",
    "\n",
    "print(\"m!+n!+k!结果为：\",result)\n"
   ]
  },
  {
   "cell_type": "code",
   "execution_count": 2,
   "metadata": {},
   "outputs": [
    {
     "name": "stdout",
     "output_type": "stream",
     "text": [
      "当n=1000时，结果的4倍为 3.140592653839794\n",
      "当n=100000时，结果的4倍为 3.1415826535897198\n"
     ]
    }
   ],
   "source": [
    "#练习2：练习 2：写函数可返回1 - 1/3 + 1/5 - 1/7...的前n项的和。\n",
    "#在主程序中，分别令n=1000及100000，打印4倍该函数的和。\n",
    "def calcfun(num):\n",
    "    result=0\n",
    "    for i in range(num):\n",
    "        result+= 1/(2*(i+1)-1) if (i+1)%2==1 else -1/(2*(i+1)-1) #条件表达式\n",
    "    return result\n",
    "\n",
    "print(\"当n=1000时，结果的4倍为\",calcfun(1000)*4)\n",
    "print(\"当n=100000时，结果的4倍为\",calcfun(100000)*4)"
   ]
  },
  {
   "cell_type": "code",
   "execution_count": 3,
   "metadata": {},
   "outputs": [
    {
     "name": "stdout",
     "output_type": "stream",
     "text": [
      "请以'x.xx'形式输入你的生日：3.24\n",
      "你的星座是白羊\n",
      "请输入字符串：fly\n",
      "flies\n"
     ]
    }
   ],
   "source": [
    "#练习3：练习 3：将task3中的练习1及练习4改写为函数，并进行调用\n",
    "def xingzuo(date):\n",
    "    if 3.21<=date<=4.19:\n",
    "        print('你的星座是白羊')\n",
    "    elif 4.20<=date<=5.20:\n",
    "        print('你的星座是金牛')\n",
    "    elif 5.21<=date<=6.21:\n",
    "        print('你的星座是双子')\n",
    "    elif 6.22<=date<=7.22:\n",
    "        print('你的星座是巨蟹')\n",
    "    elif 7.23<=date<=8.22:\n",
    "        print('你的星座是狮子')\n",
    "    elif 8.23<=date<=9.22:\n",
    "        print('你的星座是处女')\n",
    "    elif 9.23<=date<=10.23:\n",
    "        print('你的星座是天秤')\n",
    "    elif 10.24<=date<=11.22:\n",
    "        print('你的星座是天蝎')\n",
    "    elif 11.23<=date<=12.21:\n",
    "        print('你的星座是射手')\n",
    "    elif 12.22<=date<=12.31 or date<=1.19:\n",
    "        print('你的星座是摩羯')\n",
    "    elif 1.20<=date<=2.18:\n",
    "        print('你的星座是水瓶')\n",
    "    else :\n",
    "        print('你的星座是双鱼')\n",
    "\n",
    "def transf(my_str):\n",
    "    if my_str.endswith('e'):\n",
    "        print(my_str+'s')\n",
    "    elif my_str.endswith('o') or my_str.endswith('s') or my_str.endswith('x') or my_str.endswith('ch') or my_str.endswith('sh'):\n",
    "        print(my_str+'es')\n",
    "    elif my_str.endswith('y'):\n",
    "        my_str=list(my_str)\n",
    "        my_str[-1]='ies'\n",
    "        print(\"\".join(my_str))\n",
    "    else:\n",
    "         print(my_str+'s')\n",
    "            \n",
    "\n",
    "date=float(input('请以\\'x.xx\\'形式输入你的生日：'))\n",
    "xingzuo(date)\n",
    "my_str=input('请输入字符串：')\n",
    "transf(my_str)"
   ]
  },
  {
   "cell_type": "code",
   "execution_count": 4,
   "metadata": {},
   "outputs": [
    {
     "name": "stdout",
     "output_type": "stream",
     "text": [
      "请输入整数m：2\n",
      "请输入整数n,n应当大于m：9\n",
      "请输入间隔k：2\n",
      "结果为： 15\n"
     ]
    }
   ],
   "source": [
    "#挑战性练习：写程序，可以求从整数m到整数n累加的和，间隔为k，求和部分需用函数实现，\n",
    "#主程序中由用户输入m，n，k调用函数验证正确性。\n",
    "def calcsum(m,n,k):\n",
    "    result=0\n",
    "    i=m\n",
    "    while i<=n:\n",
    "        result+=i\n",
    "        i+=k+1\n",
    "    return result\n",
    "\n",
    "m=int(input(\"请输入整数m：\"))\n",
    "n=int(input(\"请输入整数n,n应当大于m：\"))\n",
    "k=int(input(\"请输入间隔k：\"))\n",
    "print(\"结果为：\",calcsum(m,n,k))"
   ]
  },
  {
   "cell_type": "code",
   "execution_count": null,
   "metadata": {
    "collapsed": true
   },
   "outputs": [],
   "source": []
  }
 ],
 "metadata": {
  "kernelspec": {
   "display_name": "Python 3",
   "language": "python",
   "name": "python3"
  },
  "language_info": {
   "codemirror_mode": {
    "name": "ipython",
    "version": 3
   },
   "file_extension": ".py",
   "mimetype": "text/x-python",
   "name": "python",
   "nbconvert_exporter": "python",
   "pygments_lexer": "ipython3",
   "version": "3.6.1"
  }
 },
 "nbformat": 4,
 "nbformat_minor": 2
}
