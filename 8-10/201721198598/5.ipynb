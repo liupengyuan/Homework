{
 "cells": [
  {
   "cell_type": "code",
   "execution_count": 1,
   "metadata": {},
   "outputs": [
    {
     "name": "stdout",
     "output_type": "stream",
     "text": [
      "请输入m:2\n",
      "请输入k,k应当大于m:9\n",
      "请输入随机数个数n:7\n",
      "随机数均值的平方根为： 2.4201534780139164\n"
     ]
    }
   ],
   "source": [
    "#练习 1：写函数，求n个随机整数均值的平方根，整数范围在m与k之间（n,m,k由用户输入）。\n",
    "import math\n",
    "import random\n",
    "m=int(input(\"请输入m:\"))\n",
    "k=int(input(\"请输入k,k应当大于m:\"))\n",
    "n=int(input(\"请输入随机数个数n:\"))\n",
    "he=0\n",
    "i=n\n",
    "while i>0:\n",
    "    he+=random.randint(m,k)\n",
    "    i-=1\n",
    "print(\"随机数均值的平方根为：\",math.sqrt(he/n))"
   ]
  },
  {
   "cell_type": "code",
   "execution_count": 2,
   "metadata": {},
   "outputs": [
    {
     "name": "stdout",
     "output_type": "stream",
     "text": [
      "请输入m:2\n",
      "请输入k,k应当大于m:10\n",
      "请输入随机数个数n:8\n",
      "西格玛log(随机整数): 20.661778097771986\n",
      "西格玛1/log(随机整数)： 3.378354379592625\n"
     ]
    }
   ],
   "source": [
    "#练习 2：写函数，共n个随机整数，整数范围在m与k之间，（n,m,k由用户输入）。\n",
    "#求1：西格玛log(随机整数)，2：西格玛1/log(随机整数)  (sigma是累加)\n",
    "import random\n",
    "import math\n",
    "def setrandomlist(m,k,n):\n",
    "    li=[]\n",
    "    while n>0:\n",
    "        li.append(random.randint(m,k))\n",
    "        n-=1\n",
    "    return li\n",
    "\n",
    "def sum1(li):\n",
    "    logli=[math.log2(i) for i in li]\n",
    "    return sum(logli)\n",
    "\n",
    "def sum2(li):\n",
    "    logli=[1/math.log2(i) for i in li]\n",
    "    return sum(logli)\n",
    "\n",
    "m=int(input(\"请输入m:\"))\n",
    "k=int(input(\"请输入k,k应当大于m:\"))\n",
    "n=int(input(\"请输入随机数个数n:\"))\n",
    "\n",
    "numli=setrandomlist(m,k,n)\n",
    "\n",
    "print('西格玛log(随机整数):',sum1(numli))\n",
    "print('西格玛1/log(随机整数)：',sum2(numli))"
   ]
  },
  {
   "cell_type": "code",
   "execution_count": null,
   "metadata": {
    "collapsed": true
   },
   "outputs": [],
   "source": []
  }
 ],
 "metadata": {
  "kernelspec": {
   "display_name": "Python 3",
   "language": "python",
   "name": "python3"
  },
  "language_info": {
   "codemirror_mode": {
    "name": "ipython",
    "version": 3
   },
   "file_extension": ".py",
   "mimetype": "text/x-python",
   "name": "python",
   "nbconvert_exporter": "python",
   "pygments_lexer": "ipython3",
   "version": "3.6.1"
  }
 },
 "nbformat": 4,
 "nbformat_minor": 2
}
