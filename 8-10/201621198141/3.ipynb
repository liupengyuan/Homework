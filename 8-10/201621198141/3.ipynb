{
 "cells": [
  {
   "cell_type": "code",
   "execution_count": 1,
   "metadata": {},
   "outputs": [
    {
     "name": "stdout",
     "output_type": "stream",
     "text": [
      "请输入一个数字，回车结束。4\n",
      "请输入一个不为零的数字，回车结束。9\n",
      "请选择你想对这两个数进行的运算：求和请输入1、求从m到n的积请输入2、求余请输入3，否则将自动整除。1\n",
      "13\n"
     ]
    }
   ],
   "source": [
    "m=int(input('请输入一个数字，回车结束。'))\n",
    "n=int(input('请输入一个不为零的数字，回车结束。'))\n",
    "i=int(input('请选择你想对这两个数进行的运算：求和请输入1、求从m到n的积请输入2、求余请输入3，否则将自动整除。'))\n",
    "\n",
    "if i==1:\n",
    "    total=m+n\n",
    "    print(total)\n",
    "elif i==2:\n",
    "    if m<n:\n",
    "        product=m\n",
    "        while m<n:            \n",
    "            m +=1\n",
    "            product=product*m\n",
    "        print(product)\n",
    "    elif m>n:\n",
    "        product=m\n",
    "        while m>n:            \n",
    "            m -=1\n",
    "            product=product*m\n",
    "        print(product)\n",
    "    else :\n",
    "        product=m*n\n",
    "        print(product)\n",
    "elif i==3:\n",
    "    remainder=m%n\n",
    "    print(remainder)\n",
    "else :\n",
    "    divide=m/n\n",
    "    print(divide)"
   ]
  },
  {
   "cell_type": "code",
   "execution_count": 3,
   "metadata": {},
   "outputs": [
    {
     "name": "stdout",
     "output_type": "stream",
     "text": [
      "请输入一个英文名词（单数形式）key\n",
      "word的复数形式是keies\n"
     ]
    }
   ],
   "source": [
    "#练习四\n",
    "\n",
    "word= input('请输入一个英文名词（单数形式）')\n",
    "\n",
    "if word.endswith('s') or word.endswith('x') or word.endswith('ch') or word.endswith('sh') :\n",
    "    print ('word的复数形式是'+word+'es')\n",
    "elif word.endswith('y') :\n",
    "    print ('word的复数形式是'+word[0:-1]+'ies')\n",
    "elif word.endswith('f') :\n",
    "    print ('word的复数形式是'+word[0:-1]+'ves')\n",
    "elif word.endswith('fe') :\n",
    "    print ('word的复数形式是'+word[0:-2]+'ves')\n",
    "elif word.endswith('o') :\n",
    "    print ('word的复数形式是'+word+'es')\n",
    "else :\n",
    "    print ('word的复数形式是'+word+'s')"
   ]
  },
  {
   "cell_type": "code",
   "execution_count": null,
   "metadata": {},
   "outputs": [],
   "source": []
  }
 ],
 "metadata": {
  "kernelspec": {
   "display_name": "Python 3",
   "language": "python",
   "name": "python3"
  },
  "language_info": {
   "codemirror_mode": {
    "name": "ipython",
    "version": 3
   },
   "file_extension": ".py",
   "mimetype": "text/x-python",
   "name": "python",
   "nbconvert_exporter": "python",
   "pygments_lexer": "ipython3",
   "version": "3.6.3"
  }
 },
 "nbformat": 4,
 "nbformat_minor": 2
}
