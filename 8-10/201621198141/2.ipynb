{
 "cells": [
  {
   "cell_type": "code",
   "execution_count": 4,
   "metadata": {},
   "outputs": [
    {
     "name": "stdout",
     "output_type": "stream",
     "text": [
      "请输入任意整数3\n",
      "请输入任意整数，以回车结束：34\n",
      "请输入任意整数，以回车结束：78\n",
      "请输入任意整数，以回车结束：1\n",
      "113\n"
     ]
    }
   ],
   "source": [
    "#练习二 整数求和\n",
    "\n",
    "n=int(input('请输入任意整数'))\n",
    "\n",
    "i=0\n",
    "total=0\n",
    "\n",
    "while i<n:\n",
    "    i=i+1\n",
    "    p=int(input('请输入任意整数，以回车结束：'))\n",
    "    total=total+p\n",
    "\n",
    "print(total)"
   ]
  },
  {
   "cell_type": "code",
   "execution_count": 5,
   "metadata": {},
   "outputs": [
    {
     "name": "stdout",
     "output_type": "stream",
     "text": [
      "请输入0以外的正整数，如果结束请输入0:34\n",
      "34\n",
      "请输入0以外的正整数，如果结束请输入0:4\n",
      "4\n",
      "请输入0以外的正整数，如果结束请输入0:0\n",
      "结束\n"
     ]
    }
   ],
   "source": [
    "#练习三  用户可以输入的任意多个数字，直到用户不想输入为止\n",
    "a=0\n",
    "b=1\n",
    "while a<b :\n",
    "    n=int(input(\"请输入0以外的正整数，如果结束请输入0:\"))\n",
    "    if n==0:\n",
    "        print('结束')\n",
    "        break\n",
    "    else:\n",
    "        print(n)"
   ]
  },
  {
   "cell_type": "code",
   "execution_count": 2,
   "metadata": {},
   "outputs": [
    {
     "name": "stdout",
     "output_type": "stream",
     "text": [
      "请输入任意正整数5\n",
      "请输入一个正整数89\n",
      "10 50\n"
     ]
    }
   ],
   "source": [
    "#练习四 输入的数字之和比当前输入的数字小，数字之积比500大\n",
    "\n",
    "n=int(input('请输入任意正整数'))\n",
    "\n",
    "total=n\n",
    "product=n\n",
    "while n<=total and product<=500:\n",
    "    total=total+n\n",
    "    product=total*n\n",
    "    n=int(input('请输入一个正整数'))\n",
    "    \n",
    "print(total,product)"
   ]
  },
  {
   "cell_type": "code",
   "execution_count": null,
   "metadata": {},
   "outputs": [],
   "source": []
  },
  {
   "cell_type": "code",
   "execution_count": 3,
   "metadata": {},
   "outputs": [
    {
     "name": "stdout",
     "output_type": "stream",
     "text": [
      "请输入任意整数n，回车结束：8\n",
      "n!= 40320\n"
     ]
    }
   ],
   "source": [
    "#练习一 n！\n",
    "\n",
    "n=int(input('请输入任意整数n，回车结束：'))\n",
    "\n",
    "i=1\n",
    "total=1\n",
    "\n",
    "while i<n:\n",
    "    i=i+1\n",
    "    total=total*i\n",
    "\n",
    "print('n!=',total)"
   ]
  }
 ],
 "metadata": {
  "kernelspec": {
   "display_name": "Python 3",
   "language": "python",
   "name": "python3"
  },
  "language_info": {
   "codemirror_mode": {
    "name": "ipython",
    "version": 3
   },
   "file_extension": ".py",
   "mimetype": "text/x-python",
   "name": "python",
   "nbconvert_exporter": "python",
   "pygments_lexer": "ipython3",
   "version": "3.6.3"
  }
 },
 "nbformat": 4,
 "nbformat_minor": 2
}
