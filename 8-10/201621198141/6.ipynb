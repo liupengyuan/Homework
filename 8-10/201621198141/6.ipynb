{
 "cells": [
  {
   "cell_type": "code",
   "execution_count": 1,
   "metadata": {},
   "outputs": [
    {
     "name": "stdout",
     "output_type": "stream",
     "text": [
      "请输入一个整数n，表示将要输入的数字个数，回车结束4\n",
      "请输入数字，回车结束4\n",
      "请输入数字，回车结束5\n",
      "请输入数字，回车结束2\n",
      "请输入数字，回车结束5\n",
      "16\n"
     ]
    }
   ],
   "source": [
    "#6 练习2 写函数，返回一个list中所有数字的和\n",
    "numbers=[]\n",
    "n=int(input('请输入一个整数，表示将要输入的数字个数，回车结束'))\n",
    "\n",
    "for i in range(n):\n",
    "    number=int(input('请输入一个数字，回车结束'))\n",
    "    numbers.append(number)\n",
    "    \n",
    "print(sum(numbers))"
   ]
  },
  {
   "cell_type": "code",
   "execution_count": 2,
   "metadata": {},
   "outputs": [
    {
     "name": "stdout",
     "output_type": "stream",
     "text": [
      "请输入一个整数，表示将要输入的数字个数，回车结束6\n",
      "请输入一个数字，回车结束4\n",
      "请输入一个数字，回车结束2\n",
      "请输入一个数字，回车结束76\n",
      "请输入一个数字，回车结束76\n",
      "请输入一个数字，回车结束45\n",
      "请输入一个数字，回车结束78\n",
      "2\n"
     ]
    }
   ],
   "source": [
    "#练习3 写函数，返回一个list中的最小值\n",
    "numbers=[]\n",
    "n=int(input('请输入一个整数，表示将要输入的数字个数，回车结束'))\n",
    "\n",
    "for i in range(n):\n",
    "    number=int(input('请输入一个数字，回车结束'))\n",
    "    numbers.append(number)\n",
    "    \n",
    "print(min(numbers))"
   ]
  },
  {
   "cell_type": "code",
   "execution_count": 1,
   "metadata": {},
   "outputs": [
    {
     "name": "stdout",
     "output_type": "stream",
     "text": [
      "请输入你需要输入的对象个数，回车结束：4\n",
      "请输入一个对象，回车结束：天\n",
      "请输入一个对象，回车结束：下\n",
      "请输入一个对象，回车结束：23\n",
      "请输入一个对象，回车结束：56\n",
      "请输入你想要查找的对象，回车结束：天\n",
      "在你输入的对象序列中，你想要的对象在：1\n"
     ]
    }
   ],
   "source": [
    "# 练习4 写函数，返回某个对象在list中的位置，如果不在，则返回-1.\n",
    "def loc(n):\n",
    "    numbers=[]\n",
    "    for i in range(n):\n",
    "        number=input('请输入一个对象，回车结束：')\n",
    "        numbers.append(number)\n",
    "    search=input('请输入你想要查找的对象，回车结束：')\n",
    "    for i in range(n):\n",
    "        if search==numbers[i]:\n",
    "            return i+1\n",
    "            break\n",
    "    return -1\n",
    "n=int(input('请输入你需要输入的对象个数，回车结束：'))\n",
    "print('在你输入的对象序列中，你想要的对象在：',loc(n),sep='')"
   ]
  },
  {
   "cell_type": "code",
   "execution_count": 2,
   "metadata": {},
   "outputs": [
    {
     "name": "stdout",
     "output_type": "stream",
     "text": [
      "请输入第一个向量的一个坐标，回车结束：4\n",
      "请输入第一个向量的一个坐标，回车结束：2\n",
      "请输入第二个向量的一个坐标，回车结束：-4\n",
      "请输入第二个向量的一个坐标，回车结束：5\n",
      "你输入的两个向量的余弦值是：-0.20952908873087345\n"
     ]
    }
   ],
   "source": [
    "#练习5，写函数，求两个向量的夹角余弦值，向量可凡在list中，主程序调用该函数。\n",
    "import math\n",
    "def cos():\n",
    "    cos1s=[]\n",
    "    for i in range(2):\n",
    "        cos1=int(input('请输入第一个向量的一个坐标，回车结束：'))\n",
    "        cos1s.append(cos1)\n",
    "    cos2s=[]\n",
    "    for i in range(2):\n",
    "        cos2=int(input('请输入第二个向量的一个坐标，回车结束：'))\n",
    "        cos2s.append(cos2)\n",
    "        \n",
    "    m=(cos1s[0]*cos2s[0])+(cos1s[1]*cos2s[1])\n",
    "    n=(math.sqrt((cos1s[0]*cos1s[0])+(cos1s[1]*cos1s[1])))*(math.sqrt((cos2s[0]*cos2s[0])+(cos2s[1]*cos2s[1])))\n",
    "    return (m/n)\n",
    "print('你输入的两个向量的余弦值是：',cos(),sep='')\n"
   ]
  },
  {
   "cell_type": "code",
   "execution_count": 4,
   "metadata": {},
   "outputs": [
    {
     "name": "stdout",
     "output_type": "stream",
     "text": [
      "7225\n"
     ]
    }
   ],
   "source": [
    "# 练习6，100个完全相同的东西，分给3个班每个班至少分5个有多少种分法\n",
    "num=0\n",
    "for i in range(5,90):\n",
    "    for j in range(5,90):\n",
    "        k=100-i-j\n",
    "        num=num+1\n",
    "        \n",
    "print(num)"
   ]
  }
 ],
 "metadata": {
  "kernelspec": {
   "display_name": "Python 3",
   "language": "python",
   "name": "python3"
  },
  "language_info": {
   "codemirror_mode": {
    "name": "ipython",
    "version": 3
   },
   "file_extension": ".py",
   "mimetype": "text/x-python",
   "name": "python",
   "nbconvert_exporter": "python",
   "pygments_lexer": "ipython3",
   "version": "3.6.3"
  }
 },
 "nbformat": 4,
 "nbformat_minor": 2
}
