{
 "cells": [
  {
   "cell_type": "code",
   "execution_count": 4,
   "metadata": {},
   "outputs": [
    {
     "name": "stdout",
     "output_type": "stream",
     "text": [
      "请输入设定整数个数：6\n",
      "请输入整数区间下限：3\n",
      "请输入整数区间上限：9\n",
      "[m,k]区间内n个随机整数均值的平方根sqr= 2.41522945769824\n"
     ]
    }
   ],
   "source": [
    "#练习 1：写函数，求n个随机整数均值的平方根，整数范围在m与k之间（n,m,k由用户输入）。\n",
    "def sqr_random(n,m,k):\n",
    "    import random,math\n",
    "    z=random.randint(m,k)\n",
    "    i=1\n",
    "    total=z\n",
    "    while i<n:\n",
    "        i+=1\n",
    "        total+=random.randint(m,k)\n",
    "    return math.sqrt(total/n)\n",
    "\n",
    "n=int(input('请输入设定整数个数：'))\n",
    "m=int(input('请输入整数区间下限：'))\n",
    "k=int(input('请输入整数区间上限：'))\n",
    "\n",
    "print('[m,k]区间内n个随机整数均值的平方根sqr=',sqr_random(n,m,k))"
   ]
  },
  {
   "cell_type": "code",
   "execution_count": 5,
   "metadata": {},
   "outputs": [
    {
     "name": "stdout",
     "output_type": "stream",
     "text": [
      "请输入设定整数个数：8\n",
      "请输入整数区间下限：2\n",
      "请输入整数区间上限：9\n",
      "[m,k]区间内n个随机整数log值之和= 15.343304481357864\n",
      "[m,k]区间内n个随机整数1/log值之和= 5.802846382485385\n"
     ]
    }
   ],
   "source": [
    "#练习 2：写函数，共n个随机整数，整数范围在m与k之间，（n,m,k由用户输入）。求1：西格玛log(随机整数)，2：西格玛1/log(随机整数)\n",
    "def Σ1(n,m,k):\n",
    "    import math,random\n",
    "    i=0\n",
    "    total=math.log(random.randint(m,k))\n",
    "    while i<n:\n",
    "        i+=1\n",
    "        x=random.randint(m,k)\n",
    "        total+=math.log(x)\n",
    "    return total\n",
    "def Σ2(n,m,k):\n",
    "    import math,random\n",
    "    i=0\n",
    "    z=random.randint(m,k)\n",
    "    total=1/math.log(z)\n",
    "    while i<n:\n",
    "        i+=1\n",
    "        x=random.randint(m,k)\n",
    "        total+=1/math.log(x)\n",
    "    return total\n",
    "\n",
    "n=int(input('请输入设定整数个数：'))\n",
    "m=int(input('请输入整数区间下限：'))\n",
    "k=int(input('请输入整数区间上限：'))\n",
    "\n",
    "print('[m,k]区间内n个随机整数log值之和=',Σ1(n,m,k))\n",
    "print('[m,k]区间内n个随机整数1/log值之和=',Σ2(n,m,k))"
   ]
  },
  {
   "cell_type": "code",
   "execution_count": null,
   "metadata": {},
   "outputs": [],
   "source": []
  }
 ],
 "metadata": {
  "kernelspec": {
   "display_name": "Python 3",
   "language": "python",
   "name": "python3"
  },
  "language_info": {
   "codemirror_mode": {
    "name": "ipython",
    "version": 3
   },
   "file_extension": ".py",
   "mimetype": "text/x-python",
   "name": "python",
   "nbconvert_exporter": "python",
   "pygments_lexer": "ipython3",
   "version": "3.6.3"
  }
 },
 "nbformat": 4,
 "nbformat_minor": 2
}
