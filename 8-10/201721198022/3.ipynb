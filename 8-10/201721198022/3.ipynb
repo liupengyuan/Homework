{
 "cells": [
  {
   "cell_type": "code",
   "execution_count": 2,
   "metadata": {},
   "outputs": [
    {
     "name": "stdout",
     "output_type": "stream",
     "text": [
      "3.Md•练习 2：写程序，可由键盘读入两个整数m与n(n不等于0)，询问用户意图，如果要求和则计算从m到n的和输出，如果要乘积则计算从m到n的积并输出，如果要求余数则计算m除以n的余数的值并输出，否则则计算m整除n的值并输出。\n",
      "请输入一个整数m，以回车结束。3\n",
      "请输入一个整数n，以回车结束。6\n",
      "请选择指令，如需求m到n的和，请输入1，如需m到n乘积，请输入2，如要求商或余数，请输入32\n",
      "m到n的乘积为 360\n"
     ]
    }
   ],
   "source": [
    "print('3.Md•练习 2：写程序，可由键盘读入两个整数m与n(n不等于0)，询问用户意图，如果要求和则计算从m到n的和输出，如果要乘积则计算从m到n的积并输出，如果要求余数则计算m除以n的余数的值并输出，否则则计算m整除n的值并输出。')\n",
    "m=int(input('请输入一个整数m，以回车结束。'))\n",
    "n=int(input('请输入一个整数n，以回车结束。'))\n",
    "total=0\n",
    "product=1\n",
    "remainder=0\n",
    "result=1\n",
    "order=int(input('请选择指令，如需求m到n的和，请输入1，如需m到n乘积，请输入2，如要求商或余数，请输入3'))\n",
    "if order==1:\n",
    "    if m<n:\n",
    "        count=n-m+1\n",
    "        total=(m+n)*count/2\n",
    "        print('m到n的和为：',total)\n",
    "    if m>n:\n",
    "        count=m-n+1\n",
    "        total=(m+n)*count/2\n",
    "        print('m到n的和为：',total)\n",
    "    if m==n:\n",
    "        total=m*2\n",
    "        print('m到n的和为：',total)\n",
    "elif order==2:\n",
    "    while m<= n:\n",
    "        total=total+m\n",
    "        product=product*m\n",
    "        m=m+1\n",
    "    print('m到n的乘积为',product)\n",
    "elif order==3:\n",
    "    remainder=n%m\n",
    "    if reminder!=0:\n",
    "        print('两数相除余数为',remainder)\n",
    "    elif reminder==0:\n",
    "        result=n/m\n",
    "        print ('两数相除商为',result)"
   ]
  },
  {
   "cell_type": "code",
   "execution_count": 1,
   "metadata": {},
   "outputs": [
    {
     "name": "stdout",
     "output_type": "stream",
     "text": [
      "请输入一个英文名词，以回车结束。apple\n",
      "请在末尾加上s\n"
     ]
    }
   ],
   "source": [
    "n=input('请输入一个英文名词，以回车结束。')\n",
    "if n.endswith('e'):\n",
    "    print('请在末尾加上s')\n",
    "elif n.endswith('s')or n.endswith('o'):\n",
    "    print('请在末尾加上es')\n",
    "elif n.endswith('y') :\n",
    "    print('请改y为i加es')\n",
    "elif n.endswith('f'):\n",
    "    print('请改f为v加es')\n",
    "else:\n",
    "    print('请在末尾加上s')"
   ]
  },
  {
   "cell_type": "code",
   "execution_count": null,
   "metadata": {},
   "outputs": [],
   "source": []
  },
  {
   "cell_type": "markdown",
   "metadata": {},
   "source": [
    " "
   ]
  }
 ],
 "metadata": {
  "kernelspec": {
   "display_name": "Python 3",
   "language": "python",
   "name": "python3"
  },
  "language_info": {
   "codemirror_mode": {
    "name": "ipython",
    "version": 3
   },
   "file_extension": ".py",
   "mimetype": "text/x-python",
   "name": "python",
   "nbconvert_exporter": "python",
   "pygments_lexer": "ipython3",
   "version": "3.6.1"
  }
 },
 "nbformat": 4,
 "nbformat_minor": 2
}
