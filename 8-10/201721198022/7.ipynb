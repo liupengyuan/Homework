{
 "cells": [
  {
   "cell_type": "code",
   "execution_count": 1,
   "metadata": {},
   "outputs": [
    {
     "name": "stdout",
     "output_type": "stream",
     "text": [
      "请输入一个字符串，以回车结束：我爱北京语言大学\n",
      "该字符串的倒序为：学大言语京北爱我\n"
     ]
    }
   ],
   "source": [
    "#练习 1：自己定义一个reverse(s)函数，功能返回字符串s的倒序字符串。\n",
    "\n",
    "def reverse(s):\n",
    "    n = len(s)\n",
    "    print('该字符串的倒序为：',s[n-1:0:-1] + s[0],sep = '')\n",
    "    \n",
    "s = input(\"请输入一个字符串，以回车结束：\")\n",
    "reverse(s)"
   ]
  },
  {
   "cell_type": "code",
   "execution_count": 2,
   "metadata": {},
   "outputs": [
    {
     "name": "stdout",
     "output_type": "stream",
     "text": [
      "请输入一个符号，以回车结束：1\n",
      "直角三角形\n",
      "1\n",
      "11\n",
      "111\n",
      "1111\n",
      "11111\n",
      "111111\n",
      "1111111\n",
      "锐角三角形\n",
      "            1\n",
      "           1111\n",
      "          1111111\n",
      "         1111111111\n",
      "        1111111111111\n",
      "       1111111111111111\n",
      "      1111111111111111111\n",
      "钝角三角形\n",
      "1\n",
      " 111\n",
      "  11111\n",
      "   1111111\n",
      "    111111111\n",
      "     11111111111\n",
      "      1111111111111\n",
      "等腰三角形\n",
      "      1\n",
      "     111\n",
      "    11111\n",
      "   1111111\n",
      "  111111111\n",
      " 11111111111\n",
      "1111111111111\n"
     ]
    }
   ],
   "source": [
    "#练习 2：写函数，根据给定符号和行数，打印相应直角三角形，等腰三角形及其他形式的三角形。\n",
    "\n",
    "def right_angled_triangle(s):\n",
    "    print('直角三角形')\n",
    "    for i in range(7):\n",
    "        print(s * (i + 1))\n",
    "\n",
    "def acute_angled_triangle(s):\n",
    "    print('锐角三角形')\n",
    "    for i in range(7):\n",
    "        print(' ' * (12 - i) + s * (3 * i + 1))\n",
    "\n",
    "def obtuse_angled_triangle(s):\n",
    "    print('钝角三角形')\n",
    "    for i in range(7):\n",
    "        print(' ' * i + s * (2 * i + 1))\n",
    "\n",
    "def isosceles_triangle(s):\n",
    "    print('等腰三角形')\n",
    "    for i in range(7):\n",
    "        print(' ' * (6 - i) + s * (2 * i + 1))\n",
    "    \n",
    "s = input('请输入一个符号，以回车结束：')\n",
    "right_angled_triangle(s)\n",
    "acute_angled_triangle(s)\n",
    "obtuse_angled_triangle(s)\n",
    "isosceles_triangle(s)"
   ]
  },
  {
   "cell_type": "code",
   "execution_count": 3,
   "metadata": {},
   "outputs": [
    {
     "name": "stdout",
     "output_type": "stream",
     "text": [
      "请输入一个您喜欢的符号，以回车结束：1\n",
      "请输入菱形的边长，以回车结束：10\n",
      "一般菱形\n",
      "         1\n",
      "        111\n",
      "       11111\n",
      "      1111111\n",
      "     111111111\n",
      "    11111111111\n",
      "   1111111111111\n",
      "  111111111111111\n",
      " 11111111111111111\n",
      "1111111111111111111\n",
      " 11111111111111111\n",
      "  111111111111111\n",
      "   1111111111111\n",
      "    11111111111\n",
      "     111111111\n",
      "      1111111\n",
      "       11111\n",
      "        111\n",
      "         1\n",
      "          \n",
      "直角菱形\n",
      "11111111111111111111\n",
      "11111111111111111111\n",
      "11111111111111111111\n",
      "11111111111111111111\n",
      "11111111111111111111\n",
      "11111111111111111111\n",
      "11111111111111111111\n",
      "11111111111111111111\n",
      "11111111111111111111\n",
      "11111111111111111111\n"
     ]
    }
   ],
   "source": [
    "#练习 5：写函数，根据给定符号，打印各种菱形。\n",
    "\n",
    "\n",
    "def diamond(s,l):\n",
    "    print('一般菱形')\n",
    "    for i in range(1,2 * l + 1):\n",
    "        if i < l + 1:\n",
    "            print(' ' * (l - i) + s * (2 * i - 1))\n",
    "        else:\n",
    "            print(' ' * (i - l) + s * (4 * l - 1 - (2 * i)))\n",
    "            \n",
    "    print('直角菱形')\n",
    "    for i in range(1,l + 1):\n",
    "        print(s * l * 2)\n",
    "        \n",
    "s = input('请输入一个您喜欢的符号，以回车结束：')\n",
    "l = int(input('请输入菱形的边长，以回车结束：'))\n",
    "diamond(s,l)"
   ]
  },
  {
   "cell_type": "code",
   "execution_count": null,
   "metadata": {},
   "outputs": [],
   "source": []
  }
 ],
 "metadata": {
  "kernelspec": {
   "display_name": "Python 3",
   "language": "python",
   "name": "python3"
  },
  "language_info": {
   "codemirror_mode": {
    "name": "ipython",
    "version": 3
   },
   "file_extension": ".py",
   "mimetype": "text/x-python",
   "name": "python",
   "nbconvert_exporter": "python",
   "pygments_lexer": "ipython3",
   "version": "3.6.1"
  }
 },
 "nbformat": 4,
 "nbformat_minor": 2
}
