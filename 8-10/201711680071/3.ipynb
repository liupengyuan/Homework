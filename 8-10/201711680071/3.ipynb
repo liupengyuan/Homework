{
 "cells": [
  {
   "cell_type": "code",
   "execution_count": 2,
   "metadata": {},
   "outputs": [
    {
     "name": "stdout",
     "output_type": "stream",
     "text": [
      "请输入一个数字，回车结束。4\n",
      "请输入一个不为零的数字，回车结束。4\n",
      "请选择你想对这两个数进行的运算：求和请输入1、求从m到n的积请输入2、求余请输入3，否则将自动整除。2\n",
      "16\n"
     ]
    }
   ],
   "source": [
    "m=int(input('请输入一个数字，回车结束。'))\n",
    "n=int(input('请输入一个不为零的数字，回车结束。'))\n",
    "i=int(input('请选择你想对这两个数进行的运算：求和请输入1、求从m到n的积请输入2、求余请输入3，否则将自动整除。'))\n",
    "\n",
    "if i==1:\n",
    "    total=m+n\n",
    "    print(total)\n",
    "elif i==2:\n",
    "    if m<n:\n",
    "        product=m\n",
    "        while m<n:            \n",
    "            m +=1\n",
    "            product=product*m\n",
    "        print(product)\n",
    "    elif m>n:\n",
    "        product=m\n",
    "        while m>n:            \n",
    "            m -=1\n",
    "            product=product*m\n",
    "        print(product)\n",
    "    else :\n",
    "        product=m*n\n",
    "        print(product)\n",
    "elif i==3:\n",
    "    remainder=m%n\n",
    "    print(remainder)\n",
    "else :\n",
    "    divide=m/n\n",
    "    print(divide)\n",
    "    "
   ]
  },
  {
   "cell_type": "code",
   "execution_count": 12,
   "metadata": {},
   "outputs": [
    {
     "name": "stdout",
     "output_type": "stream",
     "text": [
      "请输入一个英文名词（单数形式）watch\n",
      "请在词尾加上es\n"
     ]
    }
   ],
   "source": [
    "i=input('请输入一个英文名词（单数形式）')\n",
    "\n",
    "if i.endswith ('s'):\n",
    "    print('请在词尾加上es')\n",
    "elif i.endswith ('x'):\n",
    "    print('请在词尾加上es')\n",
    "elif i.endswith ('z'):\n",
    "    print('请在词尾加上es')\n",
    "elif i.endswith ('sh'):\n",
    "    print('请在词尾加上es')\n",
    "elif i.endswith ('ch'):\n",
    "    print('请在词尾加上es')\n",
    "elif i.endswith ('f'):\n",
    "    print('请在词尾加s之前先把f变 ve')\n",
    "elif i.endswith ('fe'):\n",
    "    print('请在词尾加s之前先把fe变 ve')\n",
    "elif i.endswith ('y'):\n",
    "    print('请把y变i再加es')\n",
    "elif i.endswith!='s':\n",
    "    print('请在词尾加上s')\n"
   ]
  }
 ],
 "metadata": {
  "kernelspec": {
   "display_name": "Python 3",
   "language": "python",
   "name": "python3"
  },
  "language_info": {
   "codemirror_mode": {
    "name": "ipython",
    "version": 3
   },
   "file_extension": ".py",
   "mimetype": "text/x-python",
   "name": "python",
   "nbconvert_exporter": "python",
   "pygments_lexer": "ipython3",
   "version": "3.6.2"
  }
 },
 "nbformat": 4,
 "nbformat_minor": 2
}
