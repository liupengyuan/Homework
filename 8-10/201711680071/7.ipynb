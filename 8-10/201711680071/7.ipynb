{
 "cells": [
  {
   "cell_type": "code",
   "execution_count": 1,
   "metadata": {},
   "outputs": [
    {
     "name": "stdout",
     "output_type": "stream",
     "text": [
      "一见如故\n"
     ]
    },
    {
     "data": {
      "text/plain": [
       "'故如见一'"
      ]
     },
     "execution_count": 1,
     "metadata": {},
     "output_type": "execute_result"
    }
   ],
   "source": [
    "# 练习一：自己定义一个reverse(s)函数，功能返回字符串s的倒序字符串。\n",
    "def reverse(s):\n",
    "    x=len(s)\n",
    "    a=(s[x::-1])\n",
    "    return a \n",
    "\n",
    "s=input()\n",
    "reverse(s)"
   ]
  },
  {
   "cell_type": "code",
   "execution_count": 24,
   "metadata": {},
   "outputs": [
    {
     "name": "stdout",
     "output_type": "stream",
     "text": [
      "行数为：5\n",
      "符号为：#\n",
      "#\n",
      "##\n",
      "###\n",
      "####\n",
      "#####\n"
     ]
    }
   ],
   "source": [
    "def right_tri():\n",
    "    i=0\n",
    "    while i<n:\n",
    "        i+=1\n",
    "        print(x*i)\n",
    "        \n",
    "n=int(input('行数为：'))\n",
    "x=input('符号为：')\n",
    "right_tri()"
   ]
  },
  {
   "cell_type": "code",
   "execution_count": 4,
   "metadata": {},
   "outputs": [
    {
     "name": "stdout",
     "output_type": "stream",
     "text": [
      "行数为：6\n",
      "符号为：$\n",
      "     $\n",
      "    $$$\n",
      "   $$$$$\n",
      "  $$$$$$$\n",
      " $$$$$$$$$\n",
      "$$$$$$$$$$$\n"
     ]
    }
   ],
   "source": [
    "#练习二：写函数，根据给定符号和行数，打印相应等腰三角形.\n",
    "def equi_tri():\n",
    "    i=0\n",
    "    while i<n:\n",
    "        i+=1\n",
    "        print(' '*(n-i)+x*(2*i-1))\n",
    "        \n",
    "n=int(input('行数为：'))\n",
    "x=input('符号为：')\n",
    "equi_tri()"
   ]
  },
  {
   "cell_type": "code",
   "execution_count": 27,
   "metadata": {},
   "outputs": [
    {
     "name": "stdout",
     "output_type": "stream",
     "text": [
      "行数为：9\n",
      "符号为：*\n",
      "*\n",
      "**\n",
      "***\n",
      "****\n",
      "*****\n",
      "****\n",
      "***\n",
      "**\n",
      "*\n"
     ]
    }
   ],
   "source": [
    "#练习二：写函数，根据给定符号和行数，打印其他形式的三角形.\n",
    "def other_tri():\n",
    "    i=0\n",
    "    while i<n/2:\n",
    "        i+=1\n",
    "        print(x*i)\n",
    "    while i>=n/2:\n",
    "        i+=1\n",
    "        print(x*(n-(i-1)))\n",
    "        if i==n:\n",
    "            break\n",
    "                \n",
    "        \n",
    "n=int(input('行数为：'))\n",
    "x=input('符号为：')\n",
    "other_tri()"
   ]
  },
  {
   "cell_type": "code",
   "execution_count": 31,
   "metadata": {},
   "outputs": [
    {
     "name": "stdout",
     "output_type": "stream",
     "text": [
      "行数为：9\n",
      "符号为：*\n",
      "        *\n",
      "       ***\n",
      "      *****\n",
      "     *******\n",
      "    *********\n",
      "     *******\n",
      "      *****\n",
      "       ***\n",
      "        *\n"
     ]
    }
   ],
   "source": [
    "#练习五：写函数，根据给定符号，打印各种菱形。\n",
    "def rhombus():\n",
    "    i=0\n",
    "    while i<n/2:\n",
    "        i+=1\n",
    "        print(' '*(n-i)+x*(2*i-1))\n",
    "    while i>=n/2:\n",
    "        i+=1\n",
    "        print(' '*(n-(n-(i-1)))+x*(2*(n-(i-1))-1))\n",
    "        if i==n:\n",
    "            break \n",
    "                   \n",
    "n=int(input('行数为：'))\n",
    "x=input('符号为：')\n",
    "rhombus()"
   ]
  }
 ],
 "metadata": {
  "kernelspec": {
   "display_name": "Python 3",
   "language": "python",
   "name": "python3"
  },
  "language_info": {
   "codemirror_mode": {
    "name": "ipython",
    "version": 3
   },
   "file_extension": ".py",
   "mimetype": "text/x-python",
   "name": "python",
   "nbconvert_exporter": "python",
   "pygments_lexer": "ipython3",
   "version": "3.6.2"
  }
 },
 "nbformat": 4,
 "nbformat_minor": 2
}
