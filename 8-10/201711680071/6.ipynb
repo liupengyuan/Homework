{
 "cells": [
  {
   "cell_type": "code",
   "execution_count": 1,
   "metadata": {},
   "outputs": [
    {
     "name": "stdout",
     "output_type": "stream",
     "text": [
      "请输入数字，用空格分隔多个数据:23 45\n"
     ]
    },
    {
     "data": {
      "text/plain": [
       "68"
      ]
     },
     "execution_count": 1,
     "metadata": {},
     "output_type": "execute_result"
    }
   ],
   "source": [
    "def SUM():\n",
    "    number = input('请输入数字，用空格分隔多个数据:')\n",
    "    numbers = [int(n) for n in number.split()]\n",
    "    a=sum(numbers)\n",
    "    return a\n",
    "\n",
    "SUM()"
   ]
  },
  {
   "cell_type": "code",
   "execution_count": 5,
   "metadata": {},
   "outputs": [
    {
     "name": "stdout",
     "output_type": "stream",
     "text": [
      "请输入数字，用空格分隔多个数据:34 65555\n"
     ]
    },
    {
     "data": {
      "text/plain": [
       "34"
      ]
     },
     "execution_count": 5,
     "metadata": {},
     "output_type": "execute_result"
    }
   ],
   "source": [
    "def MIN():\n",
    "    str_in = input('请输入数字，用空格分隔多个数据:')\n",
    "    num = [int(n) for n in str_in.split()]\n",
    "    a=min(num)\n",
    "    return a\n",
    "\n",
    "MIN()"
   ]
  },
  {
   "cell_type": "code",
   "execution_count": 2,
   "metadata": {},
   "outputs": [
    {
     "name": "stdout",
     "output_type": "stream",
     "text": [
      "请输入元素，用空格隔开，以建立你的列表:1026 1027 mice\n",
      "请输入一个元素，判断它是否存在于之前的列表中:1026\n"
     ]
    },
    {
     "data": {
      "text/plain": [
       "0"
      ]
     },
     "execution_count": 2,
     "metadata": {},
     "output_type": "execute_result"
    }
   ],
   "source": [
    "def ret_position():\n",
    "    element = input('请输入元素，用空格隔开，以建立你的列表:')\n",
    "    list1 = [(n) for n in element.split()]\n",
    "    n=input('请输入一个元素，判断它是否存在于之前的列表中:')\n",
    "    if n in list1:\n",
    "        m=list1.index(n)\n",
    "    else:\n",
    "        m=-1\n",
    "    return m\n",
    "\n",
    "ret_position()"
   ]
  },
  {
   "cell_type": "code",
   "execution_count": 3,
   "metadata": {},
   "outputs": [
    {
     "name": "stdout",
     "output_type": "stream",
     "text": [
      "请输入你想建立的x轴的横坐标2\n",
      "请输入你想建立的X轴的纵坐标3\n",
      "请输入你想建立的x轴的竖坐标4\n",
      "请输入你想建立的y轴的横坐标4\n",
      "请输入你想建立的y轴的纵坐标5\n",
      "请输入你想建立的y轴的竖坐标4\n"
     ]
    },
    {
     "data": {
      "text/plain": [
       "0.95924198748939971"
      ]
     },
     "execution_count": 3,
     "metadata": {},
     "output_type": "execute_result"
    }
   ],
   "source": [
    "import numpy as np\n",
    "\n",
    "def cos_angle():\n",
    "    X1=(int(input('请输入你想建立的x轴的横坐标')))\n",
    "    Y1=(int(input('请输入你想建立的X轴的纵坐标')))\n",
    "    Z1=(int(input('请输入你想建立的x轴的竖坐标')))\n",
    "    X2=(int(input('请输入你想建立的y轴的横坐标')))\n",
    "    Y2=(int(input('请输入你想建立的y轴的纵坐标')))\n",
    "    Z2=(int(input('请输入你想建立的y轴的竖坐标')))\n",
    "    x=np.array([X1,Y1,Z1])\n",
    "    y=np.array([X2,Y2,Z2])\n",
    "    Lx=np.sqrt(x.dot(x))\n",
    "    Ly=np.sqrt(y.dot(y))\n",
    "    result=x.dot(y)/(Lx*Ly)\n",
    "    return result\n",
    "\n",
    "cos_angle()"
   ]
  },
  {
   "cell_type": "code",
   "execution_count": 4,
   "metadata": {},
   "outputs": [
    {
     "name": "stdout",
     "output_type": "stream",
     "text": [
      "方法有： 3741 种\n"
     ]
    }
   ],
   "source": [
    "def dis_MP(n):\n",
    "    methods=0\n",
    "    for i in range(n-14): \n",
    "        for j in range(n-14-i): \n",
    "            methods+=1 \n",
    "    return methods\n",
    "print('方法有：',dis_MP(100),'种')"
   ]
  }
 ],
 "metadata": {
  "kernelspec": {
   "display_name": "Python 3",
   "language": "python",
   "name": "python3"
  },
  "language_info": {
   "codemirror_mode": {
    "name": "ipython",
    "version": 3
   },
   "file_extension": ".py",
   "mimetype": "text/x-python",
   "name": "python",
   "nbconvert_exporter": "python",
   "pygments_lexer": "ipython3",
   "version": "3.6.2"
  }
 },
 "nbformat": 4,
 "nbformat_minor": 2
}
