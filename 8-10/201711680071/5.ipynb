{
 "cells": [
  {
   "cell_type": "code",
   "execution_count": 1,
   "metadata": {},
   "outputs": [
    {
     "name": "stdout",
     "output_type": "stream",
     "text": [
      "请输入随机范围的最小值3\n",
      "请输入随机范围的最大值5\n",
      "请输入你想去的随机数的个数3\n",
      "1.9148542155126762\n"
     ]
    }
   ],
   "source": [
    "import random,math\n",
    "\n",
    "def FUNCTION_a():\n",
    "    m=int(input('请输入随机范围的最小值'))\n",
    "    k=int(input('请输入随机范围的最大值'))\n",
    "    n=int(input('请输入你想去的随机数的个数'))\n",
    "\n",
    "    i=0\n",
    "    total=0\n",
    "    while i<n:\n",
    "        i+=1\n",
    "        a=random.randint(m,k)\n",
    "        total=total+a\n",
    "    \n",
    "    print(math.sqrt(total/n))  \n",
    "    \n",
    "FUNCTION_a()"
   ]
  },
  {
   "cell_type": "code",
   "execution_count": 5,
   "metadata": {},
   "outputs": [
    {
     "name": "stdout",
     "output_type": "stream",
     "text": [
      "请输入随机范围的最小值3\n",
      "请输入随机范围的最大值6\n",
      "请输入你想去的随机数的个数4\n",
      "8.906890595608518\n",
      "请输入随机范围的最小值3\n",
      "请输入随机范围的最大值7\n",
      "请输入你想去的随机数的个数4\n",
      "0.11017079605813655\n"
     ]
    }
   ],
   "source": [
    "import random,math\n",
    "def FUNCTION_b():\n",
    "    m=int(input('请输入随机范围的最小值'))\n",
    "    k=int(input('请输入随机范围的最大值'))\n",
    "    n=int(input('请输入你想去的随机数的个数'))\n",
    "    \n",
    "    i=0\n",
    "    total=0\n",
    "    while i<n:\n",
    "        i+=1\n",
    "        b=random.randint(m,k)\n",
    "        c=math.log2(b)\n",
    "        total=total+c\n",
    "    \n",
    "    return total\n",
    "\n",
    "print(FUNCTION_b())\n",
    "print(1/FUNCTION_b())"
   ]
  },
  {
   "cell_type": "code",
   "execution_count": null,
   "metadata": {},
   "outputs": [],
   "source": []
  },
  {
   "cell_type": "code",
   "execution_count": null,
   "metadata": {},
   "outputs": [],
   "source": []
  },
  {
   "cell_type": "code",
   "execution_count": null,
   "metadata": {},
   "outputs": [],
   "source": []
  },
  {
   "cell_type": "code",
   "execution_count": null,
   "metadata": {},
   "outputs": [],
   "source": []
  },
  {
   "cell_type": "code",
   "execution_count": null,
   "metadata": {},
   "outputs": [],
   "source": []
  },
  {
   "cell_type": "code",
   "execution_count": null,
   "metadata": {},
   "outputs": [],
   "source": []
  },
  {
   "cell_type": "code",
   "execution_count": null,
   "metadata": {},
   "outputs": [],
   "source": []
  },
  {
   "cell_type": "code",
   "execution_count": null,
   "metadata": {},
   "outputs": [],
   "source": []
  },
  {
   "cell_type": "code",
   "execution_count": null,
   "metadata": {},
   "outputs": [],
   "source": []
  },
  {
   "cell_type": "code",
   "execution_count": null,
   "metadata": {},
   "outputs": [],
   "source": []
  },
  {
   "cell_type": "code",
   "execution_count": null,
   "metadata": {},
   "outputs": [],
   "source": []
  },
  {
   "cell_type": "code",
   "execution_count": null,
   "metadata": {},
   "outputs": [],
   "source": []
  },
  {
   "cell_type": "code",
   "execution_count": null,
   "metadata": {},
   "outputs": [],
   "source": []
  }
 ],
 "metadata": {
  "kernelspec": {
   "display_name": "Python 3",
   "language": "python",
   "name": "python3"
  },
  "language_info": {
   "codemirror_mode": {
    "name": "ipython",
    "version": 3
   },
   "file_extension": ".py",
   "mimetype": "text/x-python",
   "name": "python",
   "nbconvert_exporter": "python",
   "pygments_lexer": "ipython3",
   "version": "3.6.2"
  }
 },
 "nbformat": 4,
 "nbformat_minor": 2
}
