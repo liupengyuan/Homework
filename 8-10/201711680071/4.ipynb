{
 "cells": [
  {
   "cell_type": "code",
   "execution_count": 7,
   "metadata": {},
   "outputs": [
    {
     "name": "stdout",
     "output_type": "stream",
     "text": [
      "请输入第1个整数，以回车结束。5\n",
      "请输入第2个整数，以回车结束。6\n",
      "请输入第3个整数，以回车结束。8\n",
      "最终的和是： 41160\n"
     ]
    }
   ],
   "source": [
    "def compute_factorial(end):\n",
    "    i=0\n",
    "    product_n=1\n",
    "    \n",
    "    while i<end:\n",
    "        i=i+1\n",
    "        product_n=product_n*i\n",
    "        \n",
    "    return product_n\n",
    "\n",
    "n=int(input('请输入第1个整数，以回车结束。'))\n",
    "m = int(input('请输入第2个整数，以回车结束。'))\n",
    "k = int(input('请输入第3个整数，以回车结束。'))\n",
    "\n",
    "print('最终的和是：',compute_factorial(n)+compute_factorial(m)+compute_factorial(k))"
   ]
  },
  {
   "cell_type": "code",
   "execution_count": 30,
   "metadata": {},
   "outputs": [
    {
     "name": "stdout",
     "output_type": "stream",
     "text": [
      "最后的结果是： 3.1315929035585537\n",
      "最后的结果是： 3.140592653839794\n"
     ]
    }
   ],
   "source": [
    "def FUNCTION_a(n):\n",
    "    i=0\n",
    "    total=0\n",
    "    while i<n:  \n",
    "        \n",
    "        i=i+1\n",
    "        if i%2==0:\n",
    "            m=-1/(2*i-1)\n",
    "        else :\n",
    "            m=1/(2*i-1)           \n",
    "                   \n",
    "        total=total+m\n",
    "        \n",
    "    return total\n",
    "\n",
    "n=100\n",
    "print('最后的结果是：',4*FUNCTION_a(n))\n",
    "n=1000\n",
    "print('最后的结果是：',4*FUNCTION_a(n))"
   ]
  },
  {
   "cell_type": "code",
   "execution_count": 1,
   "metadata": {},
   "outputs": [
    {
     "name": "stdout",
     "output_type": "stream",
     "text": [
      "请输入你生日的月份10\n",
      "请输入你生日的日期27\n",
      "恭喜你，你是 深谋远虑的天蝎座 \n"
     ]
    }
   ],
   "source": [
    "def FUNCTION_b(a,b):\n",
    "    if a==1 :\n",
    "        if 21<=b<=31:\n",
    "            m='创意十足的水瓶座'\n",
    "        elif 1<=b<=20 :\n",
    "            m='谨慎谦逊的摩羯座'\n",
    "    elif a==2:\n",
    "        if 1<=b<=19:\n",
    "            m='创意十足的水瓶座'\n",
    "        elif 20<=b<=28:\n",
    "            m='善解人意的双鱼座'\n",
    "    elif a==3:\n",
    "        if 1<=b<=20:\n",
    "            m='善解人意的双鱼座'\n",
    "        elif 21<=b<=31:\n",
    "            m='坦白率真的白羊座 '\n",
    "    elif a==4:\n",
    "        if 1<=b<=20:\n",
    "            m='坦白率真的白羊座'\n",
    "        elif 21<=b<=30:\n",
    "            m='脚踏实地的金牛座'\n",
    "    elif a==5:\n",
    "        if 1<=b<=21:\n",
    "            m='脚踏实地的金牛座'\n",
    "        elif 22<=b<=31:\n",
    "            m='足智多谋的双子座'\n",
    "    elif a==6:\n",
    "        if 1<=b<=21:\n",
    "            m='足智多谋的双子座'\n",
    "        elif 22<=b<=30:\n",
    "            m='亲切温暖的巨蟹座'\n",
    "    elif a==7:\n",
    "        if 1<=b<=22:\n",
    "            m='亲切温暖的巨蟹座'\n",
    "        elif 23<=b<=31:\n",
    "            m='热情开朗的狮子座'\n",
    "    elif a==8:\n",
    "        if 1<=b<=23:\n",
    "            m='热情开朗的狮子座'\n",
    "        elif 24<=b<=31:\n",
    "            m='勤奋努力的处女座 '\n",
    "    elif a==9:\n",
    "        if 1<=b<=23:\n",
    "            m='勤奋努力的处女座'\n",
    "        elif 24<=b<=30:\n",
    "            m='能屈能伸的天秤座'\n",
    "    elif a==10:\n",
    "        if 1<=b<=23:\n",
    "            m='能屈能伸的天秤座'\n",
    "        elif 24<=b<=31:\n",
    "            m='深谋远虑的天蝎座 '\n",
    "    elif a==11:\n",
    "        if 1<=b<=22:\n",
    "            m='深谋远虑的天蝎座 '\n",
    "        elif 23<=b<=30:\n",
    "            m='正直坦率的射手座 '\n",
    "    elif a==12:\n",
    "        if 1<=b<=21:\n",
    "            m='正直坦率的射手座 '\n",
    "        elif 22<=b<=31:\n",
    "            m='谨慎谦逊的摩羯座'\n",
    "            \n",
    "    return m\n",
    "\n",
    "    \n",
    "a=int(input('请输入你生日的月份'))\n",
    "b=int(input('请输入你生日的日期'))\n",
    "print('恭喜你，你是',FUNCTION_b(a,b))"
   ]
  },
  {
   "cell_type": "code",
   "execution_count": 2,
   "metadata": {},
   "outputs": [
    {
     "name": "stdout",
     "output_type": "stream",
     "text": [
      "请输入一个英文单词paper\n",
      "请在词尾加上s\n"
     ]
    }
   ],
   "source": [
    "def FUNCTION_c(i):\n",
    "\n",
    "    if i.endswith ('s'):\n",
    "        print('请在词尾加上es')\n",
    "    elif i.endswith ('x'):\n",
    "        print('请在词尾加上es')\n",
    "    elif i.endswith ('z'):\n",
    "        print('请在词尾加上es')\n",
    "    elif i.endswith ('sh'):\n",
    "        print('请在词尾加上es')\n",
    "    elif i.endswith ('ch'):\n",
    "        print('请在词尾加上es')\n",
    "    elif i.endswith ('f'):\n",
    "        print('请在词尾加s之前先把f变 ve')\n",
    "    elif i.endswith ('fe'):\n",
    "        print('请在词尾加s之前先把fe变 ve')\n",
    "    elif i.endswith ('y'):\n",
    "        print('请把y变i再加es')\n",
    "    elif i.endswith!='s':\n",
    "        print('请在词尾加上s')\n",
    "\n",
    "FUNCTION_c(input('请输入一个英文单词'))"
   ]
  },
  {
   "cell_type": "code",
   "execution_count": 2,
   "metadata": {},
   "outputs": [
    {
     "name": "stdout",
     "output_type": "stream",
     "text": [
      "请输入一个整数4\n",
      "请输入一个整数10\n",
      "请输入一个整数3\n",
      "21\n"
     ]
    }
   ],
   "source": [
    "def total_k(m,n,k):\n",
    "    total=m\n",
    "    while m<n:\n",
    "        m=m+k\n",
    "        total=total+m\n",
    "    return total\n",
    "\n",
    "m=int(input('请输入一个整数'))\n",
    "n=int(input('请输入一个整数'))\n",
    "k=int(input('请输入一个整数'))\n",
    "\n",
    "print( total_k(m,n,k))"
   ]
  }
 ],
 "metadata": {
  "kernelspec": {
   "display_name": "Python 3",
   "language": "python",
   "name": "python3"
  },
  "language_info": {
   "codemirror_mode": {
    "name": "ipython",
    "version": 3
   },
   "file_extension": ".py",
   "mimetype": "text/x-python",
   "name": "python",
   "nbconvert_exporter": "python",
   "pygments_lexer": "ipython3",
   "version": "3.6.2"
  }
 },
 "nbformat": 4,
 "nbformat_minor": 2
}
