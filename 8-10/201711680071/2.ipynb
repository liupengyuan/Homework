{
 "cells": [
  {
   "cell_type": "code",
   "execution_count": 1,
   "metadata": {},
   "outputs": [
    {
     "name": "stdout",
     "output_type": "stream",
     "text": [
      "请输入一个正整数，以回车结束。3\n",
      "6\n"
     ]
    }
   ],
   "source": [
    "n = int(input('请输入一个正整数，以回车结束。'))\n",
    "\n",
    "i = 0\n",
    "product = 1\n",
    "\n",
    "while i < n:\n",
    "    i = i + 1\n",
    "    product = product *i\n",
    "    \n",
    "print(product)"
   ]
  },
  {
   "cell_type": "code",
   "execution_count": 3,
   "metadata": {},
   "outputs": [
    {
     "name": "stdout",
     "output_type": "stream",
     "text": [
      "请输入你想输入的整数的个数，以回车结束。3\n",
      "请输入你想输入的数字，以回车结束。3\n",
      "3\n",
      "请输入你想输入的数字，以回车结束。4\n",
      "4\n",
      "请输入你想输入的数字，以回车结束。5\n",
      "5\n",
      "12\n"
     ]
    }
   ],
   "source": [
    "n=int(input('请输入你想输入的整数的个数，以回车结束。'))\n",
    "\n",
    "i=0\n",
    "total=0\n",
    "while i<n:\n",
    "    m=int(input('请输入你想输入的数字，以回车结束。'))\n",
    "    print(m)\n",
    "    i=i+1\n",
    "    total=total+m\n",
    "\n",
    "print(total)   "
   ]
  },
  {
   "cell_type": "code",
   "execution_count": null,
   "metadata": {},
   "outputs": [],
   "source": [
    "i=2\n",
    "while i>1:\n",
    "    n=int(input('请输入你想输入的数字，以回车结束。'))"
   ]
  },
  {
   "cell_type": "code",
   "execution_count": 1,
   "metadata": {},
   "outputs": [
    {
     "name": "stdout",
     "output_type": "stream",
     "text": [
      "请输入你想输入的数字，以回车结束。66\n",
      "请继续输入你想输入的数字，以回车结束。88\n",
      "请继续输入你想输入的数字，以回车结束。8787878\n"
     ]
    }
   ],
   "source": [
    "n=int(input('请输入你想输入的数字，以回车结束。'))\n",
    "total=0\n",
    "product=1\n",
    "\n",
    "while total>=n or product<=500: \n",
    "    total=total+n\n",
    "    product=product*n \n",
    "    n=int(input('请继续输入你想输入的数字，以回车结束。'))"
   ]
  }
 ],
 "metadata": {
  "kernelspec": {
   "display_name": "Python 3",
   "language": "python",
   "name": "python3"
  },
  "language_info": {
   "codemirror_mode": {
    "name": "ipython",
    "version": 3
   },
   "file_extension": ".py",
   "mimetype": "text/x-python",
   "name": "python",
   "nbconvert_exporter": "python",
   "pygments_lexer": "ipython3",
   "version": "3.6.2"
  }
 },
 "nbformat": 4,
 "nbformat_minor": 2
}
