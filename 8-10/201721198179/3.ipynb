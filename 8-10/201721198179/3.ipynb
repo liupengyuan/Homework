{
 "cells": [
  {
   "cell_type": "code",
   "execution_count": 17,
   "metadata": {},
   "outputs": [
    {
     "name": "stdout",
     "output_type": "stream",
     "text": [
      "请输入一个正整数，以回车结束：2\n",
      "请输入一个正整数，以回车结束：5\n",
      "input a sign(+,*,%,/)+\n",
      "14\n"
     ]
    }
   ],
   "source": [
    "# 练习2 求和 乘积 余数 整除\n",
    "# -*- coding: utf-8 -*-\n",
    "\n",
    "m = int(input(\"请输入一个正整数，以回车结束：\"))\n",
    "n = int(input(\"请输入一个正整数，以回车结束：\"))\n",
    "sign = input('input a sign(+,*,%,/)') \n",
    "res = 0\n",
    "\n",
    "if m > n :\n",
    "    t = m\n",
    "    m = n\n",
    "    n = t\n",
    "if sign == \"+\" :\n",
    "    for i in range (m,n+1):\n",
    "        res = res + i\n",
    "elif sign == \"*\" :\n",
    "    for i in range (m.n+1):\n",
    "        res = 1\n",
    "        res= m * i\n",
    "elif sign == \"%\" :\n",
    "    if m >= n:\n",
    "        res = m % n\n",
    "    else:\n",
    "        res = n % m\n",
    "else:\n",
    "    res = m/n\n",
    "\n",
    "print (res)"
   ]
  },
  {
   "cell_type": "code",
   "execution_count": null,
   "metadata": {
    "collapsed": true
   },
   "outputs": [],
   "source": []
  },
  {
   "cell_type": "code",
   "execution_count": 23,
   "metadata": {},
   "outputs": [
    {
     "name": "stdout",
     "output_type": "stream",
     "text": [
      "input a word:apply\n",
      "applies\n"
     ]
    }
   ],
   "source": [
    "# 练习4 英语单词单数转复数\n",
    "# -*- coding:utf_8 -*-\n",
    "\n",
    "word = input(\"input a single word:\")\n",
    "if word.endswith(\"ch\" or \"sh\"):\n",
    "    print (word + \"es\")\n",
    "elif word.endswith(\"s\" or \"x\" or \"o\"):\n",
    "    print (word + \"es\")\n",
    "elif word.endswith(\"y\"):\n",
    "    sub_word = word[:-1]\n",
    "    print (sub_word+\"ies\")\n",
    "elif word.endswith(\"f\"):\n",
    "    sub_word = word[:-1]\n",
    "    print (sub_word + \"ves\")\n",
    "elif word.endswith(\"fe\"):\n",
    "    sub_word = word[:-2]\n",
    "    print (sub_word + \"ves\")\n",
    "else:\n",
    "    print (word+\"s\")\n"
   ]
  },
  {
   "cell_type": "code",
   "execution_count": null,
   "metadata": {
    "collapsed": true
   },
   "outputs": [],
   "source": []
  }
 ],
 "metadata": {
  "kernelspec": {
   "display_name": "Python 3",
   "language": "python",
   "name": "python3"
  },
  "language_info": {
   "codemirror_mode": {
    "name": "ipython",
    "version": 3
   },
   "file_extension": ".py",
   "mimetype": "text/x-python",
   "name": "python",
   "nbconvert_exporter": "python",
   "pygments_lexer": "ipython3",
   "version": "3.6.2"
  }
 },
 "nbformat": 4,
 "nbformat_minor": 2
}
