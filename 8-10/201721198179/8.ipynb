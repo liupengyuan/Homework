{
 "cells": [
  {
   "cell_type": "code",
   "execution_count": 4,
   "metadata": {},
   "outputs": [
    {
     "name": "stdout",
     "output_type": "stream",
     "text": [
      "chose from : \n",
      "心 尘 关\n",
      "屠 篁 万\n",
      "事 始 不\n",
      "answer is : \n",
      " 万事不关心\n",
      "-------------------- 分割线 --------------------\n",
      "chose from : \n",
      "筵 门 俯\n",
      "草 春 单\n",
      "闭 庐 闲\n",
      "answer is : \n",
      " 春草闭闲门\n",
      "-------------------- 分割线 --------------------\n",
      "chose from : \n",
      "登 涌 羊\n",
      "临 辈 迢\n",
      "我 雾 复\n",
      "answer is : \n",
      " 我辈复登临\n",
      "-------------------- 分割线 --------------------\n",
      "chose from : \n",
      "席 重 方\n",
      "闻 净 兴\n",
      "尽 山 下\n",
      "answer is : \n",
      " 兴尽方下山\n",
      "-------------------- 分割线 --------------------\n",
      "chose from : \n",
      "语 闻 但\n",
      "非 响 人\n",
      "深 寄 朝\n",
      "answer is : \n",
      " 但闻人语响\n",
      "-------------------- 分割线 --------------------\n",
      "chose from : \n",
      "都 吴 年\n",
      "惟 窥 静\n",
      "勉 晚 好\n",
      "answer is : \n",
      " 晚年惟好静\n",
      "-------------------- 分割线 --------------------\n",
      "chose from : \n",
      "倚 人 楼\n",
      "征 棹 戍\n",
      "纷 淮 归\n",
      "answer is : \n",
      " 征人倚戍楼\n",
      "-------------------- 分割线 --------------------\n",
      "chose from : \n",
      "蒙 其 烦\n",
      "火 警 最\n",
      "相 君 伐\n",
      "answer is : \n",
      " 烦君最相警\n",
      "-------------------- 分割线 --------------------\n",
      "chose from : \n",
      "屋 强 茅\n",
      "黍 孤 摘\n",
      "僧 契 访\n",
      "answer is : \n",
      " 茅屋访孤僧\n",
      "-------------------- 分割线 --------------------\n",
      "chose from : \n",
      "松 碑 膏\n",
      "沐 如 谙\n",
      "青 言 若\n",
      "answer is : \n",
      " 青松如膏沐\n",
      "-------------------- 分割线 --------------------\n"
     ]
    }
   ],
   "source": [
    "#点字成诗\n",
    "\n",
    "import random\n",
    "def get_poem_list():\n",
    "    file_read = open(r\"c:\\users\\admin\\desktop\\poem.txt\")\n",
    "    word_list = []\n",
    "    poems = file_read.read().replace('\\n','').replace('。','，')\n",
    "    poem_list = poems.split('，')\n",
    "    for word in poems:\n",
    "        if word not in word_list:\n",
    "            word_list.append(word)\n",
    "    #print (poem_list)\n",
    "    return poem_list,word_list\n",
    "\n",
    "def get_random_word(poem_list,word_list):\n",
    "    rand_poem_str = random.choice(poem_list)\n",
    "    rand_poem = [each_word for each_word in rand_poem_str]\n",
    "    #print (rand_poem)\n",
    "    while(len(rand_poem) < 9):\n",
    "        rand_word = random.choice(word_list)\n",
    "        if rand_word not in rand_poem:\n",
    "            rand_poem.append(rand_word)\n",
    "    random.shuffle(rand_poem)\n",
    "    print (\"chose from : \")\n",
    "    for i in range(0,9,3):\n",
    "        print (rand_poem[i],rand_poem[i+1],rand_poem[i+2])\n",
    "    return rand_poem\n",
    "\n",
    "def answer(poem_list,cadi_list):\n",
    "    for poem_sent in poem_list:\n",
    "        answer_length = 0\n",
    "        for poem_word in poem_sent:\n",
    "            if poem_word in cadi_list:\n",
    "                answer_length += 1\n",
    "            else:\n",
    "                break\n",
    "        if answer_length == 5:\n",
    "            print (\"answer is : \\n\" ,poem_sent)\n",
    "            print (\"-\"*20,\"分割线\",\"-\"*20)\n",
    "            break\n",
    "\n",
    "if __name__ == '__main__':\n",
    "    poem_list,word_list = get_poem_list()\n",
    "    for i in range(0,10):\n",
    "        tar_poem = get_random_word(poem_list,word_list)\n",
    "        answer(poem_list,tar_poem)\n"
   ]
  },
  {
   "cell_type": "code",
   "execution_count": null,
   "metadata": {
    "collapsed": true
   },
   "outputs": [],
   "source": []
  },
  {
   "cell_type": "code",
   "execution_count": null,
   "metadata": {
    "collapsed": true
   },
   "outputs": [],
   "source": []
  },
  {
   "cell_type": "code",
   "execution_count": null,
   "metadata": {
    "collapsed": true
   },
   "outputs": [],
   "source": []
  },
  {
   "cell_type": "code",
   "execution_count": null,
   "metadata": {
    "collapsed": true
   },
   "outputs": [],
   "source": []
  },
  {
   "cell_type": "code",
   "execution_count": null,
   "metadata": {
    "collapsed": true
   },
   "outputs": [],
   "source": []
  },
  {
   "cell_type": "code",
   "execution_count": null,
   "metadata": {
    "collapsed": true
   },
   "outputs": [],
   "source": []
  }
 ],
 "metadata": {
  "kernelspec": {
   "display_name": "Python 3",
   "language": "python",
   "name": "python3"
  },
  "language_info": {
   "codemirror_mode": {
    "name": "ipython",
    "version": 3
   },
   "file_extension": ".py",
   "mimetype": "text/x-python",
   "name": "python",
   "nbconvert_exporter": "python",
   "pygments_lexer": "ipython3",
   "version": "3.6.2"
  }
 },
 "nbformat": 4,
 "nbformat_minor": 2
}
