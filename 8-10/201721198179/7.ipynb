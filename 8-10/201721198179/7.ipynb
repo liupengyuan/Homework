{
 "cells": [
  {
   "cell_type": "code",
   "execution_count": 5,
   "metadata": {},
   "outputs": [
    {
     "name": "stdout",
     "output_type": "stream",
     "text": [
      "请输入字符串：北京语言大学\n",
      "学大言语京北\n"
     ]
    }
   ],
   "source": [
    "# 练习一：自己定义一个reverse(s)函数，功能返回字符串s的倒序字符串。\n",
    "# -*- coding:utf8 -*-\n",
    "\n",
    "def reverse(s):\n",
    "    print(s[len(s)::-1])\n",
    "    \n",
    "s = input(\"请输入字符串：\")\n",
    "reverse(s)  "
   ]
  },
  {
   "cell_type": "code",
   "execution_count": null,
   "metadata": {
    "collapsed": true
   },
   "outputs": [],
   "source": []
  },
  {
   "cell_type": "code",
   "execution_count": 80,
   "metadata": {},
   "outputs": [
    {
     "name": "stdout",
     "output_type": "stream",
     "text": [
      "input a symbol:四\n",
      "pls input the number of lines:4\n",
      "四\n",
      "四四\n",
      "四四四\n",
      "四四四四\n",
      "------------------------------\n",
      "    \n",
      "   四\n",
      "  四四\n",
      " 四四四\n",
      "四四四四\n",
      "------------------------------\n",
      "      四\n",
      "    四四\n",
      "  四四四\n",
      "四四四四\n"
     ]
    }
   ],
   "source": [
    "# 练习二：写函数，根据给定符号和行数，\n",
    "#打印相应直角三角形，等腰三角形及其他形式的三角形。\n",
    "# -*- coding:utf8 -*-\n",
    "\n",
    "# 直角三角形\n",
    "def func_tri(sym):\n",
    "    for i in range(1,line_num+1):\n",
    "        print(sym*i)\n",
    "        \n",
    "# 等腰三角形    \n",
    "def func_tri2(sym):\n",
    "    for i in range(0,line_num+1):\n",
    "        a = int(line_num-i)\n",
    "        print(' '*a+sym*i)\n",
    "        \n",
    "# 其他三角形\n",
    "def func_tri3():\n",
    "    for i in range(1,line_num+1):\n",
    "        print(' '*(line_num-i)*2+sym*i)\n",
    "    \n",
    "sym = input('input a symbol:')\n",
    "line_num = int(input('pls input the number of lines:'))\n",
    "func_tri(sym)\n",
    "print('-'*30)\n",
    "func_tri2(sym)\n",
    "print('-'*30)\n",
    "func_tri3()"
   ]
  },
  {
   "cell_type": "code",
   "execution_count": null,
   "metadata": {
    "collapsed": true
   },
   "outputs": [],
   "source": []
  },
  {
   "cell_type": "code",
   "execution_count": 2,
   "metadata": {},
   "outputs": [
    {
     "name": "stdout",
     "output_type": "stream",
     "text": [
      "input a symbol,\"q\"for quit:好\n",
      "pls input the number of lines:3\n",
      "  好\n",
      " 好好\n",
      "好好好\n",
      " 好好\n",
      "  好\n",
      "input a symbol,\"q\"for quit:十\n",
      "pls input the number of lines:5\n",
      "    十\n",
      "   十十\n",
      "  十十十\n",
      " 十十十十\n",
      "十十十十十\n",
      " 十十十十\n",
      "  十十十\n",
      "   十十\n",
      "    十\n",
      "input a symbol,\"q\"for quit:q\n"
     ]
    }
   ],
   "source": [
    "# 练习五：写函数，根据给定符号，打印各种菱形。\n",
    "# -*- coding:utf8 -*-\n",
    "\n",
    "def lixin(sym):\n",
    "    for i in range(1,line_num+1):\n",
    "        print(' '*(line_num-i)+sym*i)\n",
    "    for k in range(line_num-1,0,-1):\n",
    "        print(' '*(line_num-k)+sym*k)\n",
    "    \n",
    "    \n",
    "\n",
    "while 1:\n",
    "    sym=input('input a symbol,\"q\"for quit:')\n",
    "    if sym == 'q':\n",
    "        break\n",
    "    else:\n",
    "        line_num = int(input('pls input the number of lines:'))\n",
    "        lixin(sym)"
   ]
  },
  {
   "cell_type": "code",
   "execution_count": null,
   "metadata": {
    "collapsed": true
   },
   "outputs": [],
   "source": []
  }
 ],
 "metadata": {
  "kernelspec": {
   "display_name": "Python 3",
   "language": "python",
   "name": "python3"
  },
  "language_info": {
   "codemirror_mode": {
    "name": "ipython",
    "version": 3
   },
   "file_extension": ".py",
   "mimetype": "text/x-python",
   "name": "python",
   "nbconvert_exporter": "python",
   "pygments_lexer": "ipython3",
   "version": "3.6.2"
  }
 },
 "nbformat": 4,
 "nbformat_minor": 2
}
