{
 "cells": [
  {
   "cell_type": "code",
   "execution_count": 1,
   "metadata": {},
   "outputs": [
    {
     "name": "stdout",
     "output_type": "stream",
     "text": [
      "请输入一个正整数，以回车结束:9\n",
      "362880\n"
     ]
    }
   ],
   "source": [
    "# 练习1 仿照任务2 代码打印n!\n",
    "\n",
    "n = int(input(\"请输入一个正整数，以回车结束:\"))\n",
    "i = 1\n",
    "total = 1\n",
    "while i <= n:\n",
    "    total = total*i\n",
    "    i=i+1\n",
    "    \n",
    "print(total)"
   ]
  },
  {
   "cell_type": "code",
   "execution_count": null,
   "metadata": {
    "collapsed": true
   },
   "outputs": [],
   "source": []
  },
  {
   "cell_type": "code",
   "execution_count": 2,
   "metadata": {},
   "outputs": [
    {
     "name": "stdout",
     "output_type": "stream",
     "text": [
      "请输入你的名字，以回车结束：aa\n",
      "你好， aa\n",
      "请输入一个正整数，以回车结束：3\n",
      "请输入一个正整数，以回车结束：5\n",
      "两个数的和是： 8\n",
      "再见！ aa\n"
     ]
    }
   ],
   "source": [
    "# 实践1\n",
    "\n",
    "name = input(\"请输入你的名字，以回车结束：\")\n",
    "print (\"你好，\",name)\n",
    "\n",
    "n = int(input(\"请输入一个正整数，以回车结束：\"))\n",
    "m = int(input(\"请输入一个正整数，以回车结束：\"))\n",
    "print (\"两个数的和是：\",n+m)\n",
    "print (\"再见！\",name)\n"
   ]
  },
  {
   "cell_type": "code",
   "execution_count": null,
   "metadata": {
    "collapsed": true
   },
   "outputs": [],
   "source": []
  },
  {
   "cell_type": "code",
   "execution_count": 6,
   "metadata": {},
   "outputs": [
    {
     "name": "stdout",
     "output_type": "stream",
     "text": [
      "请输入正整数个数，以回车结束：3\n",
      "请输入正整数，以回车结束：1\n",
      "请输入正整数，以回车结束：2\n",
      "请输入正整数，以回车结束：3\n",
      "整数和为： 6\n"
     ]
    }
   ],
   "source": [
    "# 练习2 仿照实践1，指定整数个数并输入整数，求和\n",
    "\n",
    "num = int(input(\"请输入正整数个数，以回车结束：\"))\n",
    "i= 0\n",
    "total = 0\n",
    "while i < num :\n",
    "    a = int(input(\"请输入正整数，以回车结束：\"))\n",
    "    total = a+total\n",
    "    i = i+1\n",
    "\n",
    "print (\"整数和为：\",total)"
   ]
  },
  {
   "cell_type": "code",
   "execution_count": null,
   "metadata": {
    "collapsed": true
   },
   "outputs": [],
   "source": []
  },
  {
   "cell_type": "code",
   "execution_count": 4,
   "metadata": {},
   "outputs": [
    {
     "name": "stdout",
     "output_type": "stream",
     "text": [
      "请输入一个正整数，输入“0”时结束：3\n",
      "3\n",
      "请输入一个正整数，输入“0”时结束：5\n",
      "5\n",
      "请输入一个正整数，输入“0”时结束：6\n",
      "6\n",
      "请输入一个正整数，输入“0”时结束：7\n",
      "7\n",
      "请输入一个正整数，输入“0”时结束：0\n"
     ]
    }
   ],
   "source": [
    "# 练习3 输入任意个数字，直到不想输为止\n",
    "while True :\n",
    "    a = int(input(\"请输入一个正整数，输入“0”时结束：\"))\n",
    "    if a == 0 :\n",
    "        break\n",
    "    else :\n",
    "        print (a)\n"
   ]
  },
  {
   "cell_type": "code",
   "execution_count": null,
   "metadata": {
    "collapsed": true
   },
   "outputs": [],
   "source": []
  },
  {
   "cell_type": "code",
   "execution_count": 2,
   "metadata": {},
   "outputs": [
    {
     "name": "stdout",
     "output_type": "stream",
     "text": [
      "请输入一个整数，当输入为“q”时退出:-2\n",
      "请输入一个整数，当输入为“q”时退出:-6\n",
      "请输入一个整数，当输入为“q”时退出:-1\n",
      "请输入一个整数，当输入为“q”时退出:3\n",
      "请输入一个整数，当输入为“q”时退出:-22\n",
      "当前输入数字大于整数和，且当前输入数字大于整数积！\n",
      "整数和是：-28\n",
      "乘积是：792\n"
     ]
    }
   ],
   "source": [
    "# 练习4 用户可以输入的任意多个数字，直到输入所有数字的和比当前输入数字小，且输入所有数字的积比当前输入数字的平方大\n",
    "sum = 0\n",
    "mul = 1\n",
    "while True :\n",
    "    try:\n",
    "        num = int(input(\"请输入一个整数，当输入为“q”时退出:\"))\n",
    "        sum = num + sum\n",
    "        mul = num * mul\n",
    "        if sum < num and mul > num*num :\n",
    "            print (\"当前输入数字大于整数和，且当前输入数字大于整数积！\")\n",
    "            break\n",
    "    except:\n",
    "            print (\"输入的不是整数！\")\n",
    "            break\n",
    "\n",
    "            \n",
    "print (\"整数和是：\"+str(sum) )\n",
    "print (\"乘积是：\"+str(mul) )\n"
   ]
  },
  {
   "cell_type": "code",
   "execution_count": null,
   "metadata": {
    "collapsed": true
   },
   "outputs": [],
   "source": []
  }
 ],
 "metadata": {
  "kernelspec": {
   "display_name": "Python 3",
   "language": "python",
   "name": "python3"
  },
  "language_info": {
   "codemirror_mode": {
    "name": "ipython",
    "version": 3
   },
   "file_extension": ".py",
   "mimetype": "text/x-python",
   "name": "python",
   "nbconvert_exporter": "python",
   "pygments_lexer": "ipython3",
   "version": "3.6.2"
  }
 },
 "nbformat": 4,
 "nbformat_minor": 2
}
