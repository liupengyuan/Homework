{
 "cells": [
  {
   "cell_type": "code",
   "execution_count": 3,
   "metadata": {},
   "outputs": [
    {
     "name": "stdout",
     "output_type": "stream",
     "text": [
      "input the number of figure:2\n",
      "input a number as the min:1\n",
      "input a number as the max:10\n",
      "the number is 8\n",
      "the number is 3\n",
      "result is 2.345207879911715\n"
     ]
    }
   ],
   "source": [
    "# 练习1 写函数，求n个随机整数均值的平方根，整数范围在m与k之间（n,m,k由用户输入）\n",
    "# -*-coding:utf-8 -*-\n",
    "\n",
    "import math,random\n",
    "\n",
    "def func_root(n,m,k):\n",
    "    total = 0\n",
    "    i = 0\n",
    "    while i < n:\n",
    "        number = random.randint(m,k)\n",
    "        print(\"the number is\",number)\n",
    "        i += 1\n",
    "        total = number + total\n",
    "    \n",
    "    avg = total/n\n",
    "    sqr = math.sqrt(avg)\n",
    "    return sqr\n",
    "    \n",
    "n = int(input(\"input the number of figure:\"))\n",
    "m = int(input(\"input a number as the min:\"))\n",
    "k = int(input(\"input a number as the max:\"))\n",
    "\n",
    "print(\"result is\",func_root(n,m,k))\n"
   ]
  },
  {
   "cell_type": "code",
   "execution_count": null,
   "metadata": {
    "collapsed": true
   },
   "outputs": [],
   "source": []
  },
  {
   "cell_type": "code",
   "execution_count": 7,
   "metadata": {},
   "outputs": [
    {
     "name": "stdout",
     "output_type": "stream",
     "text": [
      "input the number of figure:2\n",
      "input the min number:1\n",
      "input the max number:10\n",
      "the number is 7\n",
      "the log_num is 1.9459101490553132\n",
      "the number is 8\n",
      "the log_num is 2.0794415416798357\n",
      "result1 is 4.025351690735149\n",
      "the number is 3\n",
      "the log_num is 1.0986122886681098\n",
      "the number is 2\n",
      "the log_num is 0.6931471805599453\n",
      "result2 is 2.352934267515801\n"
     ]
    }
   ],
   "source": [
    "# 练习2 写函数，共n个随机整数，整数范围在m与k之间，（n,m,k由用户输入）。求1：西格玛log(随机整数)，2：西格玛1/log(随机整数)\n",
    "# -*-coding:utf-8 -*-\n",
    "\n",
    "import math,random\n",
    "\n",
    "def func_sig():\n",
    "    i = 0\n",
    "    sig = 0\n",
    "    while i < n :\n",
    "        number = random.randint(m,k)\n",
    "        log_num = math.log(number)\n",
    "        i += 1\n",
    "        print(\"the number is\",number)\n",
    "        print(\"the log_num is\",log_num)\n",
    "        sig = log_num + sig\n",
    "    return sig\n",
    "\n",
    "def func_sig2():\n",
    "    i = 0\n",
    "    sig2 = 0\n",
    "    while i < n :\n",
    "        number = random.randint(m,k)\n",
    "        log_num = math.log(number)\n",
    "        i += 1\n",
    "        print(\"the number is\",number)\n",
    "        print(\"the log_num is\",log_num)\n",
    "        sig2 = (1/log_num) + sig2\n",
    "    return sig2\n",
    "        \n",
    "\n",
    "n = int(input(\"input the number of figure:\"))\n",
    "m = int(input(\"input the min number:\"))\n",
    "k = int(input(\"input the max number:\"))\n",
    "print(\"result1 is\",func_sig())\n",
    "print(\"result2 is\",func_sig2())"
   ]
  },
  {
   "cell_type": "code",
   "execution_count": null,
   "metadata": {
    "collapsed": true
   },
   "outputs": [],
   "source": []
  }
 ],
 "metadata": {
  "kernelspec": {
   "display_name": "Python 3",
   "language": "python",
   "name": "python3"
  }
 },
 "nbformat": 4,
 "nbformat_minor": 2
}
