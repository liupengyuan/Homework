{
 "cells": [
  {
   "cell_type": "code",
   "execution_count": 6,
   "metadata": {},
   "outputs": [
    {
     "name": "stdout",
     "output_type": "stream",
     "text": [
      "input a number:4\n",
      "input a number:5\n",
      "input a number:6\n",
      "结果是: 864\n"
     ]
    }
   ],
   "source": [
    "# 练习1 求m!+n!+k!\n",
    "# -*- coding:utf8 -*-\n",
    "\n",
    "def func_sum(end):\n",
    "    i = 0\n",
    "    total_n = 1\n",
    "    while i < end :\n",
    "        i += 1\n",
    "        total_n = total_n * i\n",
    "    return total_n\n",
    "    \n",
    "m=int(input(\"input a number:\"))\n",
    "n=int(input(\"input a number:\"))\n",
    "k=int(input(\"input a number:\"))\n",
    "print(\"结果是:\",func_sum(m)+func_sum(n)+func_sum(k))"
   ]
  },
  {
   "cell_type": "code",
   "execution_count": null,
   "metadata": {
    "collapsed": true
   },
   "outputs": [],
   "source": []
  },
  {
   "cell_type": "code",
   "execution_count": 48,
   "metadata": {},
   "outputs": [
    {
     "name": "stdout",
     "output_type": "stream",
     "text": [
      "n=1000时，值为： 3.140592653839794\n",
      "n=10000时，值为： 3.1414926535900345\n"
     ]
    }
   ],
   "source": [
    "# 练习2 写函数可返回1 - 1/3 + 1/5 - 1/7...的前n项的和。在主程序中，分别令n=1000及100000，打印4倍该函数的和。\n",
    "# -*- coding:utf8 -*-\n",
    "\n",
    "def func_sum(end):\n",
    "    i = 0\n",
    "    total_n = 0\n",
    "    while i < end :\n",
    "        i += 1\n",
    "        a = (-1)**(i-1)\n",
    "        b = 1/(2*i-1)\n",
    "        n = a * b\n",
    "        total_n = total_n + n\n",
    "    return total_n\n",
    "\n",
    "n=1000\n",
    "print(\"n=1000时，值为：\",4*func_sum(n))\n",
    "n=10000\n",
    "print(\"n=10000时，值为：\",4*func_sum(n))"
   ]
  },
  {
   "cell_type": "code",
   "execution_count": null,
   "metadata": {
    "collapsed": true
   },
   "outputs": [],
   "source": []
  },
  {
   "cell_type": "code",
   "execution_count": 4,
   "metadata": {},
   "outputs": [
    {
     "name": "stdout",
     "output_type": "stream",
     "text": [
      "please input your name:aa\n",
      "input your birthday,eg12.25:108\n",
      "aa 你是非常有性格的摩羯座！\n"
     ]
    }
   ],
   "source": [
    "# 练习3 将task3中的练习1及练习4改写为函数，并进行调用\n",
    "\n",
    "# task3.1 写程序，可由键盘读入用户姓名例如Mr. right，让用户输入出生的月份与日期，判断用户星座，\n",
    "# 假设用户是金牛座，则输出，Mr. right，你是非常有性格的金牛座！\n",
    "\n",
    "# -*-coding:utf8 -*-\n",
    "\n",
    "def ast_sign(birthday):\n",
    "    if 120 <= birthday <= 218 :\n",
    "        sign = (\"你是非常有性格的水瓶座！\")\n",
    "       \n",
    "    elif 219 <= birthday <= 320 :\n",
    "        sign = (\"你是非常有性格的双鱼座！\")\n",
    "       \n",
    "    elif 321 <= birthday <= 419 :\n",
    "        sign = (\"你是非常有性格的白羊座！\")\n",
    "       \n",
    "    elif 420<= birthday <= 520 :\n",
    "        sign = (\"你是非常有性格的金牛座！\")\n",
    "       \n",
    "    elif 521 <= birthday <= 621 :\n",
    "        sign = (\"你是非常有性格的双子座！\")\n",
    "       \n",
    "    elif  622 <= birthday <= 722 :\n",
    "        sign = (\"你是非常有性格的巨蟹座！\")\n",
    "       \n",
    "    elif  723 <= birthday <= 822 :\n",
    "        sign = (\"你是非常有性格的狮子座！\")\n",
    "       \n",
    "    elif 823 <= birthday <= 922 :\n",
    "        sign = (\"你是非常有性格的处女座！\")\n",
    "       \n",
    "    elif 923 <= birthday <= 1023 :\n",
    "        sign = (\"你是非常有性格的天秤座！\")\n",
    "    \n",
    "    elif 1024 <= birthday <= 1122 :\n",
    "        sign = (\"你是非常有性格的天蝎座！\")\n",
    "    elif 1123 <= birthday <= 1221 :\n",
    "        sign = (\"你是非常有性格的射手座！\")\n",
    "    else :\n",
    "        sign = (\"你是非常有性格的摩羯座！\")\n",
    "        \n",
    "    return sign\n",
    "\n",
    "name = input(\"please input your name:\")\n",
    "birthday = int(input(\"input your birthday,eg12.25:\"))  \n",
    "print(name,ast_sign(birthday))"
   ]
  },
  {
   "cell_type": "code",
   "execution_count": null,
   "metadata": {
    "collapsed": true
   },
   "outputs": [],
   "source": []
  },
  {
   "cell_type": "code",
   "execution_count": 13,
   "metadata": {},
   "outputs": [
    {
     "name": "stdout",
     "output_type": "stream",
     "text": [
      "input a single word:apply\n",
      "apply => applies\n"
     ]
    }
   ],
   "source": [
    "# 练习3 task3.4 英语单词复数\n",
    "# -*- coding:utf_8 -*-\n",
    "\n",
    "def func_pl(word) :\n",
    "    if word.endswith(\"ch\" or \"sh\"):\n",
    "        return (word + \"es\")\n",
    "    elif word.endswith(\"s\" or \"x\" or \"o\"):\n",
    "        return (word + \"es\")\n",
    "    elif word.endswith(\"y\"):\n",
    "        sub_word = word[:-1]\n",
    "        return (sub_word+\"ies\")\n",
    "    elif word.endswith(\"f\"):\n",
    "        sub_word = word[:-1]\n",
    "        return (sub_word + \"ves\")\n",
    "    elif word.endswith(\"fe\"):\n",
    "        sub_word = word[:-2]\n",
    "        return (sub_word + \"ves\")\n",
    "    else:\n",
    "        print (word+\"s\")\n",
    "\n",
    "word = input(\"input a single word:\")\n",
    "print (word,\"=>\",func_pl(word))"
   ]
  },
  {
   "cell_type": "code",
   "execution_count": null,
   "metadata": {
    "collapsed": true
   },
   "outputs": [],
   "source": []
  },
  {
   "cell_type": "code",
   "execution_count": 1,
   "metadata": {},
   "outputs": [
    {
     "name": "stdout",
     "output_type": "stream",
     "text": [
      "输入一个数m:2\n",
      "输入一个大于m的数:6\n",
      "输入间隔为:2\n",
      "累加和为 12\n"
     ]
    }
   ],
   "source": [
    "# 挑战性练习 求从整数m到整数n累加的和，间隔为k，求和部分需用函数实现，主程序中由用户输入m，n，k调用函数验证正确性\n",
    "# -*-coding:utf8 -*-\n",
    "\n",
    "\n",
    "def func_sum(m,n,k):\n",
    "    i = m\n",
    "    total = 0\n",
    "    while i <= n:\n",
    "        total += i\n",
    "        i += k\n",
    "    return total\n",
    "        \n",
    "        \n",
    "m = int(input(\"输入一个数m:\"))\n",
    "n = int(input(\"输入一个大于m的数:\"))\n",
    "k = int(input(\"输入间隔为:\"))\n",
    "print(\"累加和为\",func_sum(m,n,k))"
   ]
  },
  {
   "cell_type": "code",
   "execution_count": null,
   "metadata": {
    "collapsed": true
   },
   "outputs": [],
   "source": []
  }
 ],
 "metadata": {
  "kernelspec": {
   "display_name": "Python 3",
   "language": "python",
   "name": "python3"
  },
  "language_info": {
   "codemirror_mode": {
    "name": "ipython",
    "version": 3
   },
   "file_extension": ".py",
   "mimetype": "text/x-python",
   "name": "python",
   "nbconvert_exporter": "python",
   "pygments_lexer": "ipython3",
   "version": "3.6.2"
  }
 },
 "nbformat": 4,
 "nbformat_minor": 2
}
