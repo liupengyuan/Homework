{
 "cells": [
  {
   "cell_type": "markdown",
   "metadata": {},
   "source": [
    "练习 1：仿照求的完整代码，写程序，可求m!+n!+k!"
   ]
  },
  {
   "cell_type": "code",
   "execution_count": 10,
   "metadata": {},
   "outputs": [
    {
     "name": "stdout",
     "output_type": "stream",
     "text": [
      "请输入m的值：3\n",
      "请输入n的值：4\n",
      "请输入k的值：5\n",
      "accu(m) + accu(n) + accu(k) = 150\n"
     ]
    }
   ],
   "source": [
    "def accu(number):\n",
    "    i = 0\n",
    "    accu = 1\n",
    "    while i < number:\n",
    "        i = i + 1\n",
    "        accu = accu * i\n",
    "    return accu\n",
    "m = int(input('请输入m的值：'))\n",
    "n = int(input('请输入n的值：'))\n",
    "k = int(input('请输入k的值：'))\n",
    "\n",
    "print ('accu(m) + accu(n) + accu(k) =', accu(m) + accu(n) + accu(k))"
   ]
  },
  {
   "cell_type": "markdown",
   "metadata": {},
   "source": [
    "练习 2：写函数可返回1 - 1/3 + 1/5 - 1/7...的前n项的和。在主程序中，分别令n=1000及100000，打印4倍该函数的和。"
   ]
  },
  {
   "cell_type": "code",
   "execution_count": 17,
   "metadata": {},
   "outputs": [
    {
     "name": "stdout",
     "output_type": "stream",
     "text": [
      "当 n = 1000 时， 4倍该函数的和为： 3.140592653839794\n",
      "当 n = 100000 时， 4倍该函数的和为： 3.1415826535897198\n"
     ]
    }
   ],
   "source": [
    "\n",
    "def sum(n):\n",
    "    sum = 1\n",
    "    i = 1\n",
    "    j = 1\n",
    "    k = 1\n",
    "    while k < n:\n",
    "        k = k + 1\n",
    "        i = i + 2\n",
    "        item = (-1) ** j * i\n",
    "        item = 1 / item\n",
    "        j = j + 1\n",
    "        sum = sum + item\n",
    "    return sum\n",
    "print ('当 n = 1000 时， 4倍该函数的和为：', 4 * sum(1000))\n",
    "print ('当 n = 100000 时， 4倍该函数的和为：', 4 * sum(100000))"
   ]
  },
  {
   "cell_type": "markdown",
   "metadata": {},
   "source": [
    "练习 3：将task3中的练习1及练习4改写为函数，并进行调用。"
   ]
  },
  {
   "cell_type": "markdown",
   "metadata": {},
   "source": [
    "练习 1：写程序，可由键盘读入用户姓名例如Mr. right，让用户输入出生的月份与日期，判断用户星座，假设用户是金牛座，则输出，Mr. right，你是非常有性格的金牛座！。"
   ]
  },
  {
   "cell_type": "code",
   "execution_count": 36,
   "metadata": {},
   "outputs": [
    {
     "name": "stdout",
     "output_type": "stream",
     "text": [
      "Please input your name:Wendy\n",
      "The month of birth:4\n",
      "The day of birth:28\n",
      "('Wendy', '，你是一个热情活力的金牛座！')\n"
     ]
    }
   ],
   "source": [
    "def xz(name, m, d):\n",
    "    if (m == 1):\n",
    "        if (d >= 1 and d < 20):\n",
    "            return(name,'，你是一个执着现实的摩羯座！')\n",
    "        elif(d >= 20 and d <= 31):\n",
    "            return(name,'，你是一个自由博爱的水瓶座！')\n",
    "    elif(m == 2):\n",
    "        if (d >= 1 and d <= 18):\n",
    "            return(name,'，你是一个自由博爱的水瓶座！')\n",
    "        elif(d > 18 and d <= 30):\n",
    "            return(name,'，你是一个浪漫梦幻的双鱼座！')\n",
    "    elif(m == 3):\n",
    "        if (d >= 1 and d <= 20):\n",
    "            return(name,'，你是一个浪漫梦幻的双鱼座！')\n",
    "        elif(d > 20 and d <= 31):\n",
    "            return(name,'，你是一个热情活力的白羊座！')\n",
    "    elif(m == 4):\n",
    "        if (d >= 1 and d <= 19):\n",
    "            return(name,'，你是一个热情活力的白羊座！')\n",
    "        elif(d > 19 and d < 31):\n",
    "            return(name,'，你是一个热情活力的金牛座！')\n",
    "    elif(m == 5):\n",
    "        if (d >= 1 and d <= 20):\n",
    "            return(name,'，你是一个热情活力的金牛座！')\n",
    "        elif(d > 20 and d <= 31):\n",
    "            return(name,'，你是一个花心多变的双子座！')\n",
    "    elif(m == 6):\n",
    "        if (d >= 1 and d <= 21):\n",
    "            return(name,'，你是一个花心多变的双子座！')\n",
    "        elif(d > 21 and d < 31):\n",
    "            return(name,'，你是一个敏感柔情的巨蟹座！')\n",
    "    elif(m == 7):\n",
    "        if (d >= 1 and d <= 22):\n",
    "            return(name,'，你是一个敏感柔情的巨蟹座！')\n",
    "        elif(d > 22 and d <= 31):\n",
    "            return(name,'，你是一个骄傲威严的狮子座！')\n",
    "    elif(m == 8):\n",
    "        if (d >= 1 and d <= 22):\n",
    "            return(name,'，你是一个骄傲威严的狮子座！')\n",
    "        elif(d > 22 and d <= 31):\n",
    "            return(name,'，你是一个完美理性的处女座！')\n",
    "    elif(m == 9):\n",
    "        if (d >= 1 and d <= 22):\n",
    "            return(name,'，你是一个完美理性的处女座！')\n",
    "        elif(d > 22 and d < 31):\n",
    "            return(name,'，你是一个公平和谐的天秤座！')\n",
    "    elif(m == 10):\n",
    "        if (d >= 1 and d <= 23):\n",
    "            return(name,'，你是一个公平和谐的天秤座！')\n",
    "        elif(d > 23 and d <= 31):\n",
    "            return(name,'，你是一个神秘敏锐的天蝎座！')\n",
    "    elif(m == 11):\n",
    "        if (d >= 1 and d <= 22):\n",
    "            return(name,'，你是一个神秘敏锐的天蝎座！')\n",
    "        elif(d > 22 and d < 31):\n",
    "            return(name,'，你是一个自由乐观的射手座！')\n",
    "    elif(m == 12):\n",
    "        if (d >= 1 and d <= 21):\n",
    "            return(name,'，你是一个自由乐观的射手座！')\n",
    "        elif(d > 21 and d <= 31):\n",
    "            return(name,'你是一个执着现实的摩羯座！')\n",
    "        \n",
    "name = input('Please input your name:')\n",
    "m = int(input('The month of birth:'))\n",
    "d = int(input('The day of birth:'))\n",
    "print(xz(name, m, d))"
   ]
  },
  {
   "cell_type": "markdown",
   "metadata": {},
   "source": [
    "练习 2：写程序，可由键盘读入两个整数m与n(n不等于0)，询问用户意图，如果要求和则计算从m到n的和输出，如果要乘积则计算从m到n的积并输出，如果要求余数则计算m除以n的余数的值并输出，否则则计算m整除n的值并输出。"
   ]
  },
  {
   "cell_type": "code",
   "execution_count": 37,
   "metadata": {},
   "outputs": [
    {
     "name": "stdout",
     "output_type": "stream",
     "text": [
      "请输入一个较小的整数：3\n",
      "请输入一个较大的整数：10\n",
      "用户意图：求和\n",
      "52.0\n"
     ]
    }
   ],
   "source": [
    "def operation(m, n, q):\n",
    "    if (q == '求和'):\n",
    "        return (m + n) / 2 * (n - m + 1) \n",
    "    elif (q == '求积'):\n",
    "        product = m\n",
    "        while m < n:\n",
    "            m = m + 1\n",
    "            product = product * m\n",
    "        return product   \n",
    "    elif (q == '求余'):\n",
    "        return m % n   \n",
    "    else :\n",
    "        return m // n\n",
    "\n",
    "m = int(input('请输入一个较小的整数：'))\n",
    "n = int(input('请输入一个较大的整数：'))\n",
    "q = input('用户意图：')\n",
    "print(operation(m, n, q))"
   ]
  },
  {
   "cell_type": "markdown",
   "metadata": {},
   "source": [
    "练习 3：写程序，能够根据北京雾霾PM2.5数值给出对应的防护建议。如当PM2.5数值大于500，则应该打开空气净化器，戴防雾霾口罩等。"
   ]
  },
  {
   "cell_type": "code",
   "execution_count": 39,
   "metadata": {},
   "outputs": [
    {
     "name": "stdout",
     "output_type": "stream",
     "text": [
      "请输入北京的雾霾指数：300\n",
      "应该带雾霾口罩\n"
     ]
    }
   ],
   "source": [
    "def device(PM):\n",
    "    if (PM > 500):\n",
    "        return '应该打开空气净化器'\n",
    "    elif(PM > 100):\n",
    "        return '应该带雾霾口罩'\n",
    "    elif(PM > 0):\n",
    "        return '适合户外运动'\n",
    "\n",
    "PM = float(input('请输入北京的雾霾指数：'))\n",
    "print(device(PM))"
   ]
  },
  {
   "cell_type": "markdown",
   "metadata": {},
   "source": [
    "练习 4：英文单词单数转复数，要求输入一个英文动词（单数形式），能够得到其复数形式，或给出单数转复数形式的建议（提示，some_string.endswith(some_letter)函数可以判断某字符串结尾字符，可尝试运行：'myname'.endswith('me')，liupengyuan'.endswith('n')）。"
   ]
  },
  {
   "cell_type": "code",
   "execution_count": 40,
   "metadata": {},
   "outputs": [
    {
     "name": "stdout",
     "output_type": "stream",
     "text": [
      "输入的英文名词（单数形式）是：cup\n",
      "cups\n"
     ]
    }
   ],
   "source": [
    "def comp(Word):\n",
    "    if (Word.endswith('s') or Word.endswith('x') or Word.endswith('ch') or Word.endswith('sh')):\n",
    "        Word = Word + 'es'\n",
    "        return Word\n",
    "    elif (Word[-2] == 'a' and Word[-1] == 'y'):\n",
    "        Word = Word[:-1] +'ies'\n",
    "        return Word\n",
    "    elif (Word[-2] == 'e' and Word[-1] == 'y'):\n",
    "        Word = Word[:-1] +'ies'\n",
    "        return Word\n",
    "    elif (Word[-2] == 'i' and Word[-1] == 'y'):\n",
    "        Word = Word[:-1] +'ies'\n",
    "        return Word\n",
    "    elif (Word[-2] == 'o' and Word[-1] == 'y'):\n",
    "        Word = Word[:-1] +'ies'\n",
    "        return Word\n",
    "    elif (Word[-2] == 'u' and Word[-1] == 'y'):\n",
    "        Word = Word[:-1] +'ies'\n",
    "        return Word\n",
    "    elif (Word[-1] == 'f'):\n",
    "        Word = Word[:-1] + 'ves'\n",
    "        return Word\n",
    "    elif (Word[-2:] == 'fe'):\n",
    "        Word = Word[:-2] + 'ves'\n",
    "        return Word\n",
    "    elif(Word[-1] == 'o'):\n",
    "        if('有生命'):\n",
    "            return '在单词后面加es'\n",
    "        else:\n",
    "            return '在单词后面加s'\n",
    "    else:\n",
    "        Word = Word + 's'\n",
    "        return Word  \n",
    "Word = input('输入的英文名词（单数形式）是：')\n",
    "print(comp(Word))"
   ]
  },
  {
   "cell_type": "markdown",
   "metadata": {},
   "source": [
    "挑战性练习：写程序，可以求从整数m到整数n累加的和，间隔为k，求和部分需用函数实现，主程序中由用户输入m，n，k调用函数验证正确性"
   ]
  },
  {
   "cell_type": "code",
   "execution_count": 26,
   "metadata": {
    "scrolled": true
   },
   "outputs": [
    {
     "name": "stdout",
     "output_type": "stream",
     "text": [
      "请输入整数 m:3\n",
      "请输入整数 n:88\n",
      "请输入整数 k:5\n",
      "从整数m到整数n累加，间隔为k的和为： 731\n"
     ]
    }
   ],
   "source": [
    "def sum(m, n, k):\n",
    "    sum = 0\n",
    "    while m < n:\n",
    "        sum = sum + m\n",
    "        m = m + k\n",
    "    return sum\n",
    "m = int(input('请输入整数 m:'))\n",
    "n = int(input('请输入整数 n:'))\n",
    "k = int(input('请输入整数 k:'))\n",
    "print('从整数m到整数n累加，间隔为k的和为：', sum(m, n, k))"
   ]
  }
 ],
 "metadata": {
  "kernelspec": {
   "display_name": "Python 3",
   "language": "python",
   "name": "python3"
  },
  "language_info": {
   "codemirror_mode": {
    "name": "ipython",
    "version": 3
   },
   "file_extension": ".py",
   "mimetype": "text/x-python",
   "name": "python",
   "nbconvert_exporter": "python",
   "pygments_lexer": "ipython3",
   "version": "3.5.2"
  }
 },
 "nbformat": 4,
 "nbformat_minor": 2
}
