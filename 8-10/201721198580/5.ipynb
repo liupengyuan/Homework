{
 "cells": [
  {
   "cell_type": "markdown",
   "metadata": {},
   "source": [
    "# 5.md 的作业"
   ]
  },
  {
   "cell_type": "markdown",
   "metadata": {},
   "source": [
    "练习 1：写函数，求n个随机整数均值的平方根，整数范围在m与k之间（n,m,k由用户输入）。"
   ]
  },
  {
   "cell_type": "code",
   "execution_count": 17,
   "metadata": {},
   "outputs": [
    {
     "name": "stdout",
     "output_type": "stream",
     "text": [
      "随机输入的整数的个数：3\n",
      "整数范围的最小数是：2\n",
      "整数范围的最大数是：9\n",
      "随机数是： 5\n",
      "随机数是： 2\n",
      "随机数是： 4\n",
      "1.9148542155126762\n"
     ]
    }
   ],
   "source": [
    "import random, math\n",
    "n = int(input('随机输入的整数的个数：'))\n",
    "m = int(input('整数范围的最小数是：'))\n",
    "k = int(input('整数范围的最大数是：'))\n",
    "i = 0\n",
    "total = 0\n",
    "while i < n:\n",
    "    number = random.randint(m, k)\n",
    "    total = total + number\n",
    "    print('随机数是：', number)\n",
    "    i = i + 1\n",
    "average = total / n\n",
    "num_sqrt = math.sqrt(average)\n",
    "print(num_sqrt)"
   ]
  },
  {
   "cell_type": "markdown",
   "metadata": {},
   "source": [
    "练习 2：写函数，共n个随机整数，整数范围在m与k之间，（n,m,k由用户输入）。求1：西格玛log(随机整数)，2：西格玛1/log(随机整数)"
   ]
  },
  {
   "cell_type": "code",
   "execution_count": 20,
   "metadata": {},
   "outputs": [
    {
     "name": "stdout",
     "output_type": "stream",
     "text": [
      "随机输入的整数的个数：3\n",
      "整数范围的最小数是：2\n",
      "整数范围的最大数是：6\n",
      "随机数是： 3\n",
      "随机数是： 4\n",
      "随机数是： 3\n",
      "西格玛log(随机整数) 0.9799027799348428\n",
      "西格玛1/log(随机整数) 9.184584618280644\n"
     ]
    }
   ],
   "source": [
    "import random, math\n",
    "n = int(input('随机输入的整数的个数：'))\n",
    "m = int(input('整数范围的最小数是：'))\n",
    "k = int(input('整数范围的最大数是：'))\n",
    "i = 0\n",
    "total1 = 0\n",
    "total2 = 0\n",
    "while i < n:\n",
    "    number1 = random.randint(m, k)\n",
    "    print('随机数是：', number1)\n",
    "    number1 = math.log(number)\n",
    "    number2 = 1/number1\n",
    "    total1 = total1 + number1\n",
    "    total2 = total2 + number2\n",
    "    i = i + 1\n",
    "print('西格玛log(随机整数)', total1)\n",
    "print('西格玛1/log(随机整数)', total2)"
   ]
  },
  {
   "cell_type": "markdown",
   "metadata": {},
   "source": [
    "练习 3：写函数，求s=a+aa+aaa+aaaa+aa...a的值，其中a是[1,9]之间的随机整数。例如2+22+222+2222+22222(此时共有5个数相加)，几个数相加由键盘输入。"
   ]
  },
  {
   "cell_type": "code",
   "execution_count": 23,
   "metadata": {},
   "outputs": [
    {
     "name": "stdout",
     "output_type": "stream",
     "text": [
      "随机整数的个数是：3\n",
      "随机整数的值是： 8\n",
      "s = a+aa+aaa+aaaa+aa...a的值是： 984.0\n"
     ]
    }
   ],
   "source": [
    "import random, math\n",
    "n = int(input('随机整数的个数是：'))\n",
    "a = random.randint(1, 9)\n",
    "print('随机整数的值是：', a)\n",
    "number = a\n",
    "sum = a\n",
    "i = 1\n",
    "while i < n:\n",
    "    number = number +  a * math.pow(10, i)\n",
    "    sum = sum + number\n",
    "    i = i + 1\n",
    "print('s = a+aa+aaa+aaaa+aa...a的值是：', sum) "
   ]
  },
  {
   "cell_type": "markdown",
   "metadata": {},
   "source": [
    "挑战性练习：仿照task5，将猜数游戏改成由用户随便选择一个整数，让计算机来猜测的猜数游戏，要求和task5中人猜测的方法类似，但是人机角色对换，由人来判断猜测是大、小还是相等，请写出完整的猜数游戏。"
   ]
  },
  {
   "cell_type": "code",
   "execution_count": 1,
   "metadata": {},
   "outputs": [
    {
     "name": "stdout",
     "output_type": "stream",
     "text": [
      " \n",
      "    ======游戏菜单======\n",
      "        1.游戏说明\n",
      "        2.开始游戏\n",
      "        3.退出游戏\n",
      "        4.制作团队\n",
      "    ======游戏菜单======\n",
      "    \n",
      "Please input what you want to do:\n",
      "The number is:2\n",
      "用户随机输入一个整数：8\n",
      "max_number = 20\n",
      "5\n",
      "人来判断猜测是偏大、偏小还是相等:偏小\n",
      "17\n",
      "人来判断猜测是偏大、偏小还是相等:偏大\n",
      "7\n",
      "人来判断猜测是偏大、偏小还是相等:偏小\n",
      "11\n",
      "人来判断猜测是偏大、偏小还是相等:偏大\n",
      "2\n",
      "计算机猜数游戏结束，结果为：YOU LOSE\n"
     ]
    }
   ],
   "source": [
    "import math, random\n",
    "def menu():\n",
    "    print(''' \n",
    "    ======游戏菜单======\n",
    "        1.游戏说明\n",
    "        2.开始游戏\n",
    "        3.退出游戏\n",
    "        4.制作团队\n",
    "    ======游戏菜单======\n",
    "    ''')\n",
    "def game_over():\n",
    "    print('GAME OVER')\n",
    "    \n",
    "def show_instruction():\n",
    "    print('''\n",
    "    first step:  The user select a number randomly\n",
    "    second step: The computer guess the number\n",
    "    third step:  Then the user judge whether the number is same.\n",
    "                 If the two numbers are the same, then the computer wins\n",
    "                 Else we should judge the number and take measures to deal with it\n",
    "    ''')\n",
    "    \n",
    "# 由用户随机输入一个整数\n",
    "# 计算机来猜数所输入的数字\n",
    "# 由人来判断猜测是大、小还是相等，请写出完整的猜数游戏。\n",
    "def guess_game():\n",
    "    guess_time = 0\n",
    "    number = int(input('用户随机输入一个整数：'))\n",
    "    max_number = int(input('max_number = '))\n",
    "    max_times = math.ceil(math.log(number, 2))\n",
    "    guess_number = random.randint(1, max_number)\n",
    "    print(guess_number)\n",
    "   \n",
    "    \n",
    "    while guess_time <= max_times:\n",
    "        judge_result = input('人来判断猜测是偏大、偏小还是相等:')\n",
    "        guess_time += 1\n",
    "        \n",
    "        if (judge_result == '偏大'):\n",
    "            guess_number = random.randint(1, guess_number)\n",
    "            print(guess_number)\n",
    "            \n",
    "        elif (judge_result == '偏小'):\n",
    "            guess_number = random.randint(guess_number, max_number)\n",
    "            print(guess_number)\n",
    "            \n",
    "        elif (judge_result == '相等'):\n",
    "            print('相等')\n",
    "            print('猜数游戏结束，结果为：')\n",
    "            result = input('计算机猜数游戏的结果为：')\n",
    "        else:\n",
    "            print('输入有误')\n",
    "    else:\n",
    "        result = input('计算机猜数游戏结束，结果为：')\n",
    "\n",
    "def show_team():\n",
    "    print('''\n",
    "    制作人：何晓文\n",
    "      简介： 2017.9 -    北京语言大学        专业：计算机应用技术\n",
    "            2013.9 - 2017.6  北京语言大学      专业：计算机科学与技术     辅修：金融\n",
    "    ''')\n",
    "\n",
    "def main():\n",
    "    menu()\n",
    "    print('Please input what you want to do:')\n",
    "    choice = int(input('The number is:'))\n",
    "    if choice == 1:\n",
    "        show_instruction()\n",
    "    elif choice == 2:\n",
    "        guess_game()\n",
    "    elif choice == 3:\n",
    "        game_over()\n",
    "    else:\n",
    "        show_team()\n",
    "\n",
    "if __name__ == '__main__':\n",
    "\n",
    "    main()"
   ]
  },
  {
   "cell_type": "markdown",
   "metadata": {},
   "source": [
    "5.1 任务简介与分析\n",
    "这个任务就是经典的猜数字游戏，游戏流程大致是：计算机在1~1000间随机选取一个数字，然后告诉玩家要在某个限定次数内将这个数字猜出来。玩家每输入一个猜测值，计算机会告诉玩家，猜大了，小了还是对了，猜中则游戏结束，失败则游戏重新开始。"
   ]
  },
  {
   "cell_type": "code",
   "execution_count": 12,
   "metadata": {},
   "outputs": [
    {
     "name": "stdout",
     "output_type": "stream",
     "text": [
      " \n",
      "    ======游戏菜单======\n",
      "        1.游戏说明\n",
      "        2.开始游戏\n",
      "        3.退出游戏\n",
      "        4.制作团队\n",
      "    ======游戏菜单======\n",
      "    \n",
      "Please input the number what you want to do.\n",
      "The number is:2\n",
      "The num is: 546\n",
      "玩家猜测的数为：400\n",
      "一共可以猜： 10 次\n",
      "已经猜了： 1 次\n",
      "玩家猜小了\n",
      "你已经猜了 1 次\n",
      "还可以猜 9 次\n",
      "玩家猜测的数为：800\n",
      "一共可以猜： 10 次\n",
      "已经猜了： 2 次\n",
      "玩家猜大了\n",
      "玩家猜测的数为：546\n",
      "一共可以猜： 10 次\n",
      "已经猜了： 3 次\n",
      "神秘数字是： 546\n",
      "玩家猜对了\n",
      "CONGRAGULATIONS!\n"
     ]
    }
   ],
   "source": [
    "import random, math\n",
    "\n",
    "def win():\n",
    "    print('CONGRAGULATIONS!')\n",
    "    \n",
    "def lose():\n",
    "    print('YOU LOSE')\n",
    "\n",
    "def game_over():\n",
    "    print('GAME OVER')\n",
    "\n",
    "def show_team():\n",
    "    print('''\n",
    "    制作人：何晓文\n",
    "      简介： 2017.9 -    北京语言大学        专业：计算机应用技术\n",
    "            2013.9 - 2017.6  北京语言大学      专业：计算机科学与技术     辅修：金融\n",
    "    ''')\n",
    "\n",
    "def show_instruction():\n",
    "        print('''\n",
    "    first step:  The computer select a number randomly between 1-1000\n",
    "    second step: The user guess the number in the limited time\n",
    "    third step:  Then the computer judge whether the number is same.\n",
    "                 If the two numbers are the same, then the user wins and game over\n",
    "                 Else the computer will judge the number and take measures to deal with it\n",
    "    ''')\n",
    "\n",
    "def menu():\n",
    "    print(''' \n",
    "    ======游戏菜单======\n",
    "        1.游戏说明\n",
    "        2.开始游戏\n",
    "        3.退出游戏\n",
    "        4.制作团队\n",
    "    ======游戏菜单======\n",
    "    ''')\n",
    "\n",
    "#计算机在1~1000间随机选取一个数字\n",
    "#然后告诉玩家要在某个限定次数内将这个数字猜出来。\n",
    "#玩家每输入一个猜测值，计算机会告诉玩家，猜大了，小了还是对了，猜中则游戏结束，失败则游戏重新开始。\n",
    "def guess_game():\n",
    "    guess_time = 0\n",
    "    num = random.randint(1, 1000)\n",
    "    print('The num is:', num)\n",
    "    max_times = math.ceil(math.log(num, 2))\n",
    "    \n",
    "    while guess_time <= max_times:\n",
    "        guess_number = int(input('玩家猜测的数为：'))\n",
    "        guess_time += 1\n",
    "        print('一共可以猜：', max_times, '次')\n",
    "        print('已经猜了：', guess_time, '次')\n",
    "        if guess_number < num:\n",
    "            print('玩家猜小了')\n",
    "            print('你已经猜了', guess_time, '次')\n",
    "            print('还可以猜', max_times - guess_time, '次')\n",
    "        elif guess_number > num:\n",
    "            print('玩家猜大了')\n",
    "        else:\n",
    "            print('神秘数字是：', num)\n",
    "            print('玩家猜对了')\n",
    "            win()\n",
    "            break\n",
    "    else:\n",
    "        print('神秘数字是：', num)\n",
    "        lose()\n",
    "    \n",
    "def main():\n",
    "    menu()\n",
    "    print('Please input the number what you want to do.')\n",
    "    choice = int(input('The number is:'))\n",
    "    if choice == 1:\n",
    "        show_instruction()\n",
    "    if choice == 2:\n",
    "        guess_game()\n",
    "    if choice == 3:\n",
    "        game_over()\n",
    "    if choice == 4:\n",
    "        show_team()\n",
    "\n",
    "if __name__ == '__main__':\n",
    "    main()"
   ]
  }
 ],
 "metadata": {
  "kernelspec": {
   "display_name": "Python 3",
   "language": "python",
   "name": "python3"
  },
  "language_info": {
   "codemirror_mode": {
    "name": "ipython",
    "version": 3
   },
   "file_extension": ".py",
   "mimetype": "text/x-python",
   "name": "python",
   "nbconvert_exporter": "python",
   "pygments_lexer": "ipython3",
   "version": "3.5.2"
  }
 },
 "nbformat": 4,
 "nbformat_minor": 2
}
