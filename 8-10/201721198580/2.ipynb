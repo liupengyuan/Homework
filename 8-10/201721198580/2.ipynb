{
 "cells": [
  {
   "cell_type": "markdown",
   "metadata": {},
   "source": [
    "练习1：键入如下代码并观察执行结果"
   ]
  },
  {
   "cell_type": "code",
   "execution_count": 1,
   "metadata": {},
   "outputs": [
    {
     "name": "stdout",
     "output_type": "stream",
     "text": [
      "请输入你的名字，以回车结束。Mike\n",
      "你好 Mike\n",
      "请输入一个正整数，以回车结束。50\n",
      "请输入一个正整数，以回车结束。30\n",
      "两个数的和是： 80\n",
      "再见， Mike\n"
     ]
    }
   ],
   "source": [
    "name = input('请输入你的名字，以回车结束。')\n",
    "print('你好', name)\n",
    "n = int(input('请输入一个正整数，以回车结束。'))\n",
    "m = int(input('请输入一个正整数，以回车结束。'))\n",
    "\n",
    "print('两个数的和是：', m + n)\n",
    "print('再见，', name)"
   ]
  },
  {
   "cell_type": "markdown",
   "metadata": {},
   "source": [
    "练习2：仿照实践1，写出由用户指定整数个数，并由用户输入多个整数，并求和的代码。"
   ]
  },
  {
   "cell_type": "code",
   "execution_count": 7,
   "metadata": {},
   "outputs": [
    {
     "name": "stdout",
     "output_type": "stream",
     "text": [
      "请输入你的名字，以回车结束。Mike\n",
      "你好 Mike\n",
      "请输入一个正整数，以数字0作为结束。23\n",
      "请输入一个正整数，以数字0作为结束。12\n",
      "请输入一个正整数，以数字0作为结束。67\n",
      "请输入一个正整数，以数字0作为结束。88\n",
      "请输入一个正整数，以数字0作为结束。34\n",
      "请输入一个正整数，以数字0作为结束。22\n",
      "请输入一个正整数，以数字0作为结束。0\n",
      "所有整数的和是： 246\n",
      "再见 Mike\n"
     ]
    }
   ],
   "source": [
    "name = input('请输入你的名字，以回车结束。')\n",
    "print('你好', name)\n",
    "total = 0\n",
    "while(1):\n",
    "    m = int(input('请输入一个正整数，以数字0作为结束。'))\n",
    "    total = total + m\n",
    "    if (m == 0):\n",
    "        break\n",
    "print('所有整数的和是：', total)\n",
    "print('再见', name)"
   ]
  },
  {
   "cell_type": "markdown",
   "metadata": {},
   "source": [
    "练习3：用户可以输入的任意多个数字，直到用户不想输入为止。"
   ]
  },
  {
   "cell_type": "code",
   "execution_count": 12,
   "metadata": {},
   "outputs": [
    {
     "name": "stdout",
     "output_type": "stream",
     "text": [
      "请输入一个数字，以q结束。23\n",
      "请输入一个数字，以q结束。12\n",
      "请输入一个数字，以q结束。33\n",
      "请输入一个数字，以q结束。63\n",
      "请输入一个数字，以q结束。21\n",
      "请输入一个数字，以q结束。15\n",
      "请输入一个数字，以q结束。q\n"
     ]
    }
   ],
   "source": [
    "while(1):\n",
    "    m = input('请输入一个数字，以q结束。')\n",
    "    if (m == 'q'):\n",
    "        break"
   ]
  },
  {
   "cell_type": "markdown",
   "metadata": {},
   "source": [
    "练习4：用户可以输入的任意多个数字，直到输入所有数字的和比当前输入数字小，且输入所有数字的积比当前输入数字的平方大。"
   ]
  },
  {
   "cell_type": "code",
   "execution_count": 13,
   "metadata": {},
   "outputs": [
    {
     "name": "stdout",
     "output_type": "stream",
     "text": [
      "请输入你的名字，以回车结束。Mike\n",
      "你好 Mike\n",
      "请输入一个正整数，以回车结束。10\n",
      "请输入一个正整数，以回车结束。12\n",
      "请输入一个正整数，以回车结束。14\n",
      "请输入一个正整数，以回车结束。38\n",
      "所有整数的和是： 36\n",
      "再见 Mike\n"
     ]
    }
   ],
   "source": [
    "name = input('请输入你的名字，以回车结束。')\n",
    "print('你好', name)\n",
    "total = 0\n",
    "accu = 1\n",
    "while(1):\n",
    "    m = int(input('请输入一个正整数，以回车结束。'))\n",
    "    if(total < m and accu > m * m):\n",
    "        break\n",
    "    total = total + m\n",
    "    accu = accu * m\n",
    "print('所有整数的和是：', total)\n",
    "print('再见', name)"
   ]
  },
  {
   "cell_type": "code",
   "execution_count": 3,
   "metadata": {},
   "outputs": [
    {
     "name": "stdout",
     "output_type": "stream",
     "text": [
      "100\n"
     ]
    }
   ],
   "source": [
    "print(100)"
   ]
  },
  {
   "cell_type": "code",
   "execution_count": 4,
   "metadata": {},
   "outputs": [
    {
     "name": "stdout",
     "output_type": "stream",
     "text": [
      "1.23\n",
      "-100.23\n",
      "Hello, world.\n",
      "你好，python!\n",
      "-100.23\n"
     ]
    }
   ],
   "source": [
    "print(1.23)\n",
    "print(-100.23)\n",
    "print('Hello, world.')\n",
    "print('你好，python!')\n",
    "print('-100.23')"
   ]
  },
  {
   "cell_type": "code",
   "execution_count": 9,
   "metadata": {},
   "outputs": [
    {
     "name": "stdout",
     "output_type": "stream",
     "text": [
      "I am OK.\n"
     ]
    }
   ],
   "source": [
    "print('I am OK.')"
   ]
  },
  {
   "cell_type": "code",
   "execution_count": 10,
   "metadata": {},
   "outputs": [
    {
     "name": "stdout",
     "output_type": "stream",
     "text": [
      "3\n",
      "45\n"
     ]
    }
   ],
   "source": [
    "print(1 + 2)\n",
    "print(5 + 6 + 7 + 8 + 9 + 10)"
   ]
  },
  {
   "cell_type": "code",
   "execution_count": 11,
   "metadata": {},
   "outputs": [
    {
     "name": "stdout",
     "output_type": "stream",
     "text": [
      "8\n",
      "25.136\n",
      "520.9020387866733\n"
     ]
    }
   ],
   "source": [
    "print(8 - 100 + 20 * 5)\n",
    "print(3.142 * 8)\n",
    "print((973 * 863 + 985 * 211) / 2011)"
   ]
  },
  {
   "cell_type": "code",
   "execution_count": 13,
   "metadata": {},
   "outputs": [
    {
     "name": "stdout",
     "output_type": "stream",
     "text": [
      "10\n"
     ]
    }
   ],
   "source": [
    "print(1 + 2 + 3 + 4)"
   ]
  },
  {
   "cell_type": "code",
   "execution_count": 14,
   "metadata": {},
   "outputs": [
    {
     "name": "stdout",
     "output_type": "stream",
     "text": [
      "15\n",
      "2.8\n"
     ]
    }
   ],
   "source": [
    "n = 2\n",
    "n = 5\n",
    "m = 7.2\n",
    "print(1 + 2 + 3 + 4 + n)\n",
    "print(1 + 2 + 3 + 4 - m)"
   ]
  },
  {
   "cell_type": "code",
   "execution_count": 15,
   "metadata": {},
   "outputs": [
    {
     "name": "stdout",
     "output_type": "stream",
     "text": [
      "1\n",
      "3\n",
      "6\n"
     ]
    }
   ],
   "source": [
    "n = 0\n",
    "n = n + 1\n",
    "print(n)\n",
    "n = n + 2\n",
    "print(n)\n",
    "n = n + 3\n",
    "print(n)"
   ]
  },
  {
   "cell_type": "code",
   "execution_count": 16,
   "metadata": {},
   "outputs": [
    {
     "name": "stdout",
     "output_type": "stream",
     "text": [
      "1\n",
      "2\n",
      "3\n",
      "4\n",
      "5\n",
      "6\n",
      "7\n"
     ]
    }
   ],
   "source": [
    "n = 7\n",
    "i = 0\n",
    "while i < n:\n",
    "    i = i + 1\n",
    "    print(i)"
   ]
  },
  {
   "cell_type": "code",
   "execution_count": 18,
   "metadata": {},
   "outputs": [
    {
     "name": "stdout",
     "output_type": "stream",
     "text": [
      "True\n",
      "False\n",
      "False\n",
      "False\n"
     ]
    }
   ],
   "source": [
    "print(10 > 5)\n",
    "print(10 < 1.1)\n",
    "flag = False\n",
    "print(flag)\n",
    "print('int' < 'example')"
   ]
  },
  {
   "cell_type": "code",
   "execution_count": 19,
   "metadata": {},
   "outputs": [
    {
     "name": "stdout",
     "output_type": "stream",
     "text": [
      "5050\n"
     ]
    }
   ],
   "source": [
    "n = 100\n",
    "i = 0\n",
    "total = 0\n",
    "while i < n:\n",
    "    i = i + 1\n",
    "    total = total + i\n",
    "print(total)"
   ]
  },
  {
   "cell_type": "code",
   "execution_count": 21,
   "metadata": {},
   "outputs": [
    {
     "name": "stdout",
     "output_type": "stream",
     "text": [
      "100 hello\n",
      "100 hello\n"
     ]
    }
   ],
   "source": [
    "n = input()\n",
    "print(n)"
   ]
  },
  {
   "cell_type": "code",
   "execution_count": 22,
   "metadata": {},
   "outputs": [
    {
     "name": "stdout",
     "output_type": "stream",
     "text": [
      "50\n",
      "150\n"
     ]
    }
   ],
   "source": [
    "n = int(input())\n",
    "print(n + 100)"
   ]
  },
  {
   "cell_type": "code",
   "execution_count": 23,
   "metadata": {},
   "outputs": [
    {
     "name": "stdout",
     "output_type": "stream",
     "text": [
      "100\n",
      "200\n"
     ]
    }
   ],
   "source": [
    "n = input()\n",
    "n = int(n)\n",
    "print(n + 100)"
   ]
  },
  {
   "cell_type": "code",
   "execution_count": 26,
   "metadata": {},
   "outputs": [
    {
     "name": "stdout",
     "output_type": "stream",
     "text": [
      "10\n",
      "1.5\n",
      "81\n",
      "2.5\n",
      "125\n",
      "2\n",
      "1\n"
     ]
    }
   ],
   "source": [
    "print(4 + 6)\n",
    "print(3.5 - 2)\n",
    "print(9 * 9)\n",
    "print(5 / 2)\n",
    "print(5 ** 3)\n",
    "print(5//2)\n",
    "print(7 % 3)"
   ]
  },
  {
   "cell_type": "code",
   "execution_count": 29,
   "metadata": {},
   "outputs": [
    {
     "name": "stdout",
     "output_type": "stream",
     "text": [
      "1\n",
      "1\n",
      "-1\n",
      "-1\n",
      "100\n",
      "100\n",
      "1.0\n",
      "1.0\n",
      "1\n",
      "3\n",
      "3\n",
      "1000\n",
      "1000\n"
     ]
    }
   ],
   "source": [
    "i = 0\n",
    "i = i + 1\n",
    "print(i)\n",
    "i = 0\n",
    "i +=1\n",
    "print(i)\n",
    "i = 0\n",
    "i = i - 1\n",
    "print(i)\n",
    "i = 0\n",
    "i -= 1\n",
    "print(i)\n",
    "i = 10\n",
    "i = i * 10\n",
    "print(i)\n",
    "i = 10\n",
    "i *= 10\n",
    "print(i)\n",
    "i = 10\n",
    "i = i / 10\n",
    "print(i)\n",
    "i = 10\n",
    "i /= 10\n",
    "print(i)\n",
    "i = 10\n",
    "i %= 3\n",
    "print(i)\n",
    "i = 10\n",
    "i = i // 3\n",
    "print(i)\n",
    "i = 10\n",
    "i //= 3\n",
    "print(i)\n",
    "i = 10\n",
    "i = i ** 3\n",
    "print(i)\n",
    "i = 10\n",
    "i **= 3\n",
    "print(i)"
   ]
  },
  {
   "cell_type": "code",
   "execution_count": 33,
   "metadata": {},
   "outputs": [
    {
     "name": "stdout",
     "output_type": "stream",
     "text": [
      "1000\n",
      "1000\n"
     ]
    }
   ],
   "source": [
    "'''\n",
    "这是一段注释\n",
    "作为多行注释的示例\n",
    "也是含有空行程序的示例\n",
    "'''\n",
    "i = 10\n",
    "i = i ** 3    \n",
    "print(i)\n",
    "\n",
    "i = 10\n",
    "i **= 3       \n",
    "print(i)"
   ]
  },
  {
   "cell_type": "code",
   "execution_count": 39,
   "metadata": {},
   "outputs": [
    {
     "name": "stdout",
     "output_type": "stream",
     "text": [
      "True\n",
      "False\n",
      "True\n",
      "False\n",
      "False\n",
      "True\n"
     ]
    }
   ],
   "source": [
    "print(10 == 10)\n",
    "print(10 != 10)\n",
    "print(10 > 5.1)\n",
    "print(10.2 < 5)\n",
    "print(5 >= 10)\n",
    "print(5 <= 10)"
   ]
  },
  {
   "cell_type": "code",
   "execution_count": 42,
   "metadata": {},
   "outputs": [
    {
     "name": "stdout",
     "output_type": "stream",
     "text": [
      "False\n",
      "True\n",
      "False\n",
      "True\n"
     ]
    }
   ],
   "source": [
    "print('apple' > 'banana')\n",
    "print('red' == 'red')\n",
    "print('red' == 10)\n",
    "print('red' != 10)"
   ]
  },
  {
   "cell_type": "code",
   "execution_count": 43,
   "metadata": {},
   "outputs": [
    {
     "name": "stdout",
     "output_type": "stream",
     "text": [
      "False\n",
      "True\n",
      "False\n",
      "True\n",
      "True\n",
      "False\n",
      "True\n",
      "False\n"
     ]
    }
   ],
   "source": [
    "a = True\n",
    "b = False\n",
    "print(a and b)\n",
    "print(a and True)\n",
    "print(False and b)\n",
    "print(a or b)\n",
    "print(b or True)\n",
    "print(not a)\n",
    "print(not b)\n",
    "print(not a and b)"
   ]
  },
  {
   "cell_type": "code",
   "execution_count": 44,
   "metadata": {},
   "outputs": [
    {
     "name": "stdout",
     "output_type": "stream",
     "text": [
      "请输入一个整数，按回车结束。240\n",
      "240\n"
     ]
    }
   ],
   "source": [
    "n = input('请输入一个整数，按回车结束。')\n",
    "print(n)"
   ]
  },
  {
   "cell_type": "markdown",
   "metadata": {},
   "source": [
    "2.7 完整代码"
   ]
  },
  {
   "cell_type": "code",
   "execution_count": 45,
   "metadata": {},
   "outputs": [
    {
     "name": "stdout",
     "output_type": "stream",
     "text": [
      "请输入一个正整数，以回车结束。10\n",
      "55\n"
     ]
    }
   ],
   "source": [
    "n = int(input('请输入一个正整数，以回车结束。'))\n",
    "i = 0\n",
    "total = 0\n",
    "while i < n:\n",
    "    i = i + 1\n",
    "    total = total + i\n",
    "print(total)"
   ]
  }
 ],
 "metadata": {
  "kernelspec": {
   "display_name": "Python 3",
   "language": "python",
   "name": "python3"
  },
  "language_info": {
   "codemirror_mode": {
    "name": "ipython",
    "version": 3
   },
   "file_extension": ".py",
   "mimetype": "text/x-python",
   "name": "python",
   "nbconvert_exporter": "python",
   "pygments_lexer": "ipython3",
   "version": "3.5.2"
  }
 },
 "nbformat": 4,
 "nbformat_minor": 2
}
