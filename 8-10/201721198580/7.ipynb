{
 "cells": [
  {
   "cell_type": "markdown",
   "metadata": {},
   "source": [
    "练习一：自己定义一个reverse(s)函数，功能返回字符串s的倒序字符串。"
   ]
  },
  {
   "cell_type": "code",
   "execution_count": 45,
   "metadata": {},
   "outputs": [
    {
     "name": "stdout",
     "output_type": "stream",
     "text": [
      "['programming', 'like', 'I']\n"
     ]
    }
   ],
   "source": [
    "list = ['I', 'like', 'programming']\n",
    "list.reverse()\n",
    "print(list)"
   ]
  },
  {
   "cell_type": "markdown",
   "metadata": {},
   "source": [
    "练习二：写函数，根据给定符号和行数，打印相应直角三角形，等腰三角形及其他形式的三角形。"
   ]
  },
  {
   "cell_type": "code",
   "execution_count": 11,
   "metadata": {},
   "outputs": [
    {
     "name": "stdout",
     "output_type": "stream",
     "text": [
      "请输入三角形的行数：5\n",
      "直角三角形为：\n",
      "*\n",
      "***\n",
      "*****\n",
      "*******\n",
      "*********\n",
      "***********\n"
     ]
    }
   ],
   "source": [
    "col = int(input('请输入三角形的行数：'))\n",
    "print ('直角三角形为：')\n",
    "for i in range(col + 1):\n",
    "    num = 2 * i + 1\n",
    "    print ('*' * num)"
   ]
  },
  {
   "cell_type": "code",
   "execution_count": 39,
   "metadata": {},
   "outputs": [
    {
     "name": "stdout",
     "output_type": "stream",
     "text": [
      "请输入三角形的行数：5\n",
      "等腰三角形为：\n",
      "     *\n",
      "    ***\n",
      "   *****\n",
      "  *******\n",
      " *********\n"
     ]
    }
   ],
   "source": [
    "col = int(input('请输入三角形的行数：'))\n",
    "print ('等腰三角形为：')\n",
    "for i in range(col):\n",
    "    num = 2 * i + 1\n",
    "    print (' ' * (col - i) + '*' * num)"
   ]
  },
  {
   "cell_type": "code",
   "execution_count": 40,
   "metadata": {},
   "outputs": [
    {
     "name": "stdout",
     "output_type": "stream",
     "text": [
      "请输入三角形的行数：5\n",
      "其它形状的三角形：\n",
      "       *\n",
      "      ****\n",
      "     *******\n",
      "    **********\n",
      "   *************\n"
     ]
    }
   ],
   "source": [
    "col = int(input('请输入三角形的行数：'))\n",
    "print('其它形状的三角形：')\n",
    "for i in range(col):\n",
    "    num = 3 * i + 1\n",
    "    print (' ' * (col + 2 - i) + '*' * num)"
   ]
  },
  {
   "cell_type": "markdown",
   "metadata": {},
   "source": [
    "练习五：写函数，根据给定符号，打印各种菱形。"
   ]
  },
  {
   "cell_type": "code",
   "execution_count": 59,
   "metadata": {},
   "outputs": [
    {
     "name": "stdout",
     "output_type": "stream",
     "text": [
      "请输入行数：5\n",
      "菱形为：\n",
      "     *\n",
      "    ***\n",
      "   *****\n",
      "  *******\n",
      " *********\n",
      "  *******\n",
      "   *****\n",
      "    ***\n",
      "     *\n"
     ]
    }
   ],
   "source": [
    "col = int(input('请输入行数：'))\n",
    "print ('菱形为：')\n",
    "for i in range(col):\n",
    "    num = 2 * i + 1\n",
    "    print (' ' * (col - i) + '*' * num)\n",
    "j = col - 2\n",
    "while j >= 0:\n",
    "    num = 2 * j + 1\n",
    "    print (' ' * (col - j) + '*' * num)\n",
    "    j -= 1"
   ]
  },
  {
   "cell_type": "code",
   "execution_count": 60,
   "metadata": {},
   "outputs": [
    {
     "name": "stdout",
     "output_type": "stream",
     "text": [
      "请输入行数：5\n",
      "其它形状的菱形为：\n",
      "       *\n",
      "      ****\n",
      "     *******\n",
      "    **********\n",
      "   *************\n",
      "    **********\n",
      "     *******\n",
      "      ****\n",
      "       *\n"
     ]
    }
   ],
   "source": [
    "col = int(input('请输入行数：'))\n",
    "print('其它形状的菱形为：')\n",
    "for i in range(col):\n",
    "    num = 3 * i + 1\n",
    "    print (' ' * (col + 2 - i) + '*' * num)\n",
    "j = col - 2\n",
    "while j >= 0:\n",
    "    num = 3 * j + 1\n",
    "    print (' ' * (col + 2 - j) + '*' * num)\n",
    "    j -= 1"
   ]
  },
  {
   "cell_type": "markdown",
   "metadata": {},
   "source": [
    "练习三：将任务4中的英语名词单数变复数的函数，尽可能的考虑多种情况，重新进行实现"
   ]
  },
  {
   "cell_type": "code",
   "execution_count": 15,
   "metadata": {},
   "outputs": [
    {
     "name": "stdout",
     "output_type": "stream",
     "text": [
      "输入的英文名词（单数形式）是：teacher\n",
      "teachers\n"
     ]
    }
   ],
   "source": [
    "def comp(Word):\n",
    "    if (Word.endswith('s') or Word.endswith('x') or Word.endswith('ch') or Word.endswith('sh')):\n",
    "        Word = Word + 'es'\n",
    "        return Word\n",
    "    elif (Word[-2] == 'a' and Word[-1] == 'y'):\n",
    "        Word = Word[:-1] +'ies'\n",
    "        return Word\n",
    "    elif (Word[-2] == 'e' and Word[-1] == 'y'):\n",
    "        Word = Word[:-1] +'ies'\n",
    "        return Word\n",
    "    elif (Word[-2] == 'i' and Word[-1] == 'y'):\n",
    "        Word = Word[:-1] +'ies'\n",
    "        return Word\n",
    "    elif (Word[-2] == 'o' and Word[-1] == 'y'):\n",
    "        Word = Word[:-1] +'ies'\n",
    "        return Word\n",
    "    elif (Word[-2] == 'u' and Word[-1] == 'y'):\n",
    "        Word = Word[:-1] +'ies'\n",
    "        return Word\n",
    "    elif (Word[-1] == 'f'):\n",
    "        Word = Word[:-1] + 'ves'\n",
    "        return Word\n",
    "    elif (Word[-2:] == 'fe'):\n",
    "        Word = Word[:-2] + 'ves'\n",
    "        return Word\n",
    "    elif(Word[-1] == 'o'):\n",
    "        if('有生命'):\n",
    "            return '在单词后面加es'\n",
    "        else:\n",
    "            return '在单词后面加s'\n",
    "    else:\n",
    "        Word = Word + 's'\n",
    "        return Word  \n",
    "Word = input('输入的英文名词（单数形式）是：')\n",
    "print(comp(Word))"
   ]
  },
  {
   "cell_type": "markdown",
   "metadata": {},
   "source": [
    "练习四：写函数，根据给定符号，上底、下底、高，打印各种梯形。"
   ]
  },
  {
   "cell_type": "code",
   "execution_count": 54,
   "metadata": {},
   "outputs": [
    {
     "name": "stdout",
     "output_type": "stream",
     "text": [
      "上底为：3\n",
      "下底为：8\n",
      "***\n",
      "****\n",
      "*****\n",
      "******\n",
      "*******\n"
     ]
    }
   ],
   "source": [
    "top = int(input('上底为：'))\n",
    "button = int(input('下底为：'))\n",
    "h = button - top\n",
    "\n",
    "i = 1\n",
    "while i <= h:\n",
    "    print ('*' * top)\n",
    "    top += 1\n",
    "    i += 1"
   ]
  },
  {
   "cell_type": "code",
   "execution_count": 58,
   "metadata": {},
   "outputs": [
    {
     "name": "stdout",
     "output_type": "stream",
     "text": [
      "上底为：3\n",
      "下底为：9\n",
      "   ***\n",
      "  *****\n",
      " *******\n",
      "*********\n"
     ]
    }
   ],
   "source": [
    "top = int(input('上底为：'))\n",
    "button = int(input('下底为：'))\n",
    "if ((button - top) % 2 != 0):\n",
    "    print ('输入有误')\n",
    "else:\n",
    "    i = top\n",
    "    while i <= button:\n",
    "        num =int((button - i) / 2) \n",
    "        print(' ' * num + '*' * i)\n",
    "        i += 2"
   ]
  },
  {
   "cell_type": "markdown",
   "metadata": {},
   "source": [
    "练习六：与本小节任务基本相同，但要求打印回文字符倒三角形。"
   ]
  },
  {
   "cell_type": "code",
   "execution_count": 62,
   "metadata": {},
   "outputs": [
    {
     "name": "stdout",
     "output_type": "stream",
     "text": [
      " 赏花归去马如飞如马去归花赏\n",
      "  赏花归去马如如马去归花赏\n",
      "   赏花归去马如马去归花赏\n",
      "    赏花归去马马去归花赏\n",
      "     赏花归去马去归花赏\n",
      "      赏花归去去归花赏\n",
      "       赏花归去归花赏\n",
      "        赏花归归花赏\n",
      "         赏花归花赏\n",
      "          赏花花赏\n",
      "           赏花赏\n",
      "            赏赏\n",
      "             赏\n"
     ]
    }
   ],
   "source": [
    "#coding: utf-8\n",
    "# 示例代码 30\n",
    "\n",
    "def plalindrome(line):\n",
    "    for i in range(len(line)*2 - 1, 0, -1):\n",
    "        if i == 1:\n",
    "            print(' '*(len(line)*2-1) +line[0])\n",
    "        elif i%2 == 1:\n",
    "            print(' '*(len(line)*2-i) + line[:i//2] + line[i//2] + line[i//2-1::-1])\n",
    "        else:\n",
    "            print(' '*(len(line)*2-i) + line[:i//2] + line[i//2-1::-1])\n",
    "\n",
    "def main():\n",
    "    text = '赏花归去马如飞'\n",
    "    plalindrome(text)\n",
    "    \n",
    "\n",
    "if __name__ == '__main__':\n",
    "    main()"
   ]
  },
  {
   "cell_type": "code",
   "execution_count": null,
   "metadata": {},
   "outputs": [],
   "source": []
  }
 ],
 "metadata": {
  "kernelspec": {
   "display_name": "Python 3",
   "language": "python",
   "name": "python3"
  },
  "language_info": {
   "codemirror_mode": {
    "name": "ipython",
    "version": 3
   },
   "file_extension": ".py",
   "mimetype": "text/x-python",
   "name": "python",
   "nbconvert_exporter": "python",
   "pygments_lexer": "ipython3",
   "version": "3.5.2"
  }
 },
 "nbformat": 4,
 "nbformat_minor": 2
}
