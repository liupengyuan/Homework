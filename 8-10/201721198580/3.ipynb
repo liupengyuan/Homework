{
 "cells": [
  {
   "cell_type": "markdown",
   "metadata": {},
   "source": [
    "练习 2：写程序，可由键盘读入两个整数m与n(n不等于0)，询问用户意图，如果要求和则计算从m到n的和输出，如果要乘积则计算从m到n的积并输出，如果要求余数则计算m除以n的余数的值并输出，否则则计算m整除n的值并输出。"
   ]
  },
  {
   "cell_type": "code",
   "execution_count": 7,
   "metadata": {},
   "outputs": [
    {
     "name": "stdout",
     "output_type": "stream",
     "text": [
      "请输入一个较小的整数：3\n",
      "请输入一个较大的整数：6\n",
      "用户意图：求积\n",
      "m *...* n =  360\n"
     ]
    }
   ],
   "source": [
    "m = int(input('请输入一个较小的整数：'))\n",
    "n = int(input('请输入一个较大的整数：'))\n",
    "q = input('用户意图：')\n",
    "if (q == '求和'):\n",
    "    print('(m + n) / 2 * (n - m + 1) = ', (m + n) / 2 * (n - m + 1) )\n",
    "elif (q == '求积'):\n",
    "    product = m\n",
    "    while m < n:\n",
    "        m = m + 1\n",
    "        product = product * m\n",
    "    print('m *...* n = ', product)    \n",
    "elif (q == '求余'):\n",
    "    print('m % n = ', m % n)   \n",
    "else :\n",
    "    print('m // n = ', m // n)"
   ]
  },
  {
   "cell_type": "markdown",
   "metadata": {},
   "source": [
    "练习 4：英文单词单数转复数，要求输入一个英文名词（单数形式），能够得到其复数形式，或给出单数转复数形式的建议（提示，some_string.endswith(some_letter)函数可以判断某字符串结尾字符，可尝试运行：'myname'.endswith('me')，liupengyuan'.endswith('n')）。"
   ]
  },
  {
   "cell_type": "code",
   "execution_count": 9,
   "metadata": {},
   "outputs": [
    {
     "name": "stdout",
     "output_type": "stream",
     "text": [
      "输入的英文名词（单数形式）是：house\n",
      "houses\n"
     ]
    }
   ],
   "source": [
    "Word = input('输入的英文名词（单数形式）是：')\n",
    "if (Word.endswith('s') or Word.endswith('x') or Word.endswith('ch') or Word.endswith('sh')):\n",
    "    Word = Word + 'es'\n",
    "    print(Word)\n",
    "elif (Word[-2] == 'a' and Word[-1] == 'y'):\n",
    "    Word = Word[:-1] +'ies'\n",
    "    print(Word)\n",
    "elif (Word[-2] == 'e' and Word[-1] == 'y'):\n",
    "    Word = Word[:-1] +'ies'\n",
    "    print(Word)\n",
    "elif (Word[-2] == 'i' and Word[-1] == 'y'):\n",
    "    Word = Word[:-1] +'ies'\n",
    "    print(Word)\n",
    "elif (Word[-2] == 'o' and Word[-1] == 'y'):\n",
    "    Word = Word[:-1] +'ies'\n",
    "    print(Word)\n",
    "elif (Word[-2] == 'u' and Word[-1] == 'y'):\n",
    "    Word = Word[:-1] +'ies'\n",
    "    print(Word)\n",
    "elif (Word[-1] == 'f'):\n",
    "    Word = Word[:-1] + 'ves'\n",
    "elif (Word[-2:] == 'fe'):\n",
    "    Word = Word[:-2] + 'ves'\n",
    "elif(Word[-1] == 'o'):\n",
    "    if('有生命'):\n",
    "        print('在单词后面加es')\n",
    "    else:\n",
    "        print('在单词后面加s')\n",
    "else:\n",
    "    Word = Word + 's'\n",
    "    print(Word)   "
   ]
  },
  {
   "cell_type": "markdown",
   "metadata": {},
   "source": [
    "练习 1：写程序，可由键盘读入用户姓名例如Mr. right，让用户输入出生的月份与日期，判断用户星座，假设用户是金牛座，则输出，Mr. right，你是非常有性格的金牛座！。"
   ]
  },
  {
   "cell_type": "code",
   "execution_count": 10,
   "metadata": {},
   "outputs": [
    {
     "name": "stdout",
     "output_type": "stream",
     "text": [
      "Please input your name:Wendy\n",
      "The month of birth:4\n",
      "The day of birth:28\n",
      "Wendy ，你是一个稳健固执的金牛座！\n"
     ]
    }
   ],
   "source": [
    "name = input('Please input your name:')\n",
    "m = int(input('The month of birth:'))\n",
    "d = int(input('The day of birth:'))\n",
    "\n",
    "if (m == 1):\n",
    "    if (d >= 1 and d < 20):\n",
    "        print(name,'，你是一个执着现实的摩羯座！')\n",
    "    elif(d >= 20 and d <= 31):\n",
    "        print(name,'，你是一个自由博爱的水瓶座！')\n",
    "elif(m == 2):\n",
    "    if (d >= 1 and d <= 18):\n",
    "        print(name,'，你是一个自由博爱的水瓶座！')\n",
    "    elif(d > 18 and d <= 30):\n",
    "        print(name,'，你是一个浪漫梦幻的双鱼座！')\n",
    "elif(m == 3):\n",
    "    if (d >= 1 and d <= 20):\n",
    "        print(name,'，你是一个浪漫梦幻的双鱼座！')\n",
    "    elif(d > 20 and d <= 31):\n",
    "        print(name,'，你是一个热情活力的白羊座！')\n",
    "elif(m == 4):\n",
    "    if (d >= 1 and d <= 19):\n",
    "        print(name,'，你是一个热情活力的白羊座！')\n",
    "    elif(d > 19 and d < 31):\n",
    "        print(name,'，你是一个稳健固执的金牛座！')\n",
    "elif(m == 5):\n",
    "    if (d >= 1 and d <= 20):\n",
    "        print(name,'，你是一个热情活力的金牛座！')\n",
    "    elif(d > 20 and d <= 31):\n",
    "        print(name,'，你是一个花心多变的双子座！')\n",
    "elif(m == 6):\n",
    "    if (d >= 1 and d <= 21):\n",
    "        print(name,'，你是一个花心多变的双子座！')\n",
    "    elif(d > 21 and d < 31):\n",
    "        print(name,'，你是一个敏感柔情的巨蟹座！')\n",
    "elif(m == 7):\n",
    "    if (d >= 1 and d <= 22):\n",
    "        print(name,'，你是一个敏感柔情的巨蟹座！')\n",
    "    elif(d > 22 and d <= 31):\n",
    "        print(name,'，你是一个骄傲威严的狮子座！')\n",
    "elif(m == 8):\n",
    "    if (d >= 1 and d <= 22):\n",
    "        print(name,'，你是一个骄傲威严的狮子座！')\n",
    "    elif(d > 22 and d <= 31):\n",
    "        print(name,'，你是一个完美理性的处女座！')\n",
    "elif(m == 9):\n",
    "    if (d >= 1 and d <= 22):\n",
    "        print(name,'，你是一个完美理性的处女座！')\n",
    "    elif(d > 22 and d < 31):\n",
    "        print(name,'，你是一个公平和谐的天秤座！')\n",
    "elif(m == 10):\n",
    "    if (d >= 1 and d <= 23):\n",
    "        print(name,'，你是一个公平和谐的天秤座！')\n",
    "    elif(d > 23 and d <= 31):\n",
    "        print(name,'，你是一个神秘敏锐的天蝎座！')\n",
    "elif(m == 11):\n",
    "    if (d >= 1 and d <= 22):\n",
    "        print(name,'，你是一个神秘敏锐的天蝎座！')\n",
    "    elif(d > 22 and d < 31):\n",
    "        print(name,'，你是一个自由乐观的射手座！')\n",
    "elif(m == 12):\n",
    "    if (d >= 1 and d <= 21):\n",
    "        print(name,'，你是一个自由乐观的射手座！')\n",
    "    elif(d > 21 and d <= 31):\n",
    "        print(name,'，你是一个执着现实的摩羯座！')"
   ]
  },
  {
   "cell_type": "markdown",
   "metadata": {},
   "source": [
    "练习 3：写程序，能够根据北京雾霾PM2.5数值给出对应的防护建议。如当PM2.5数值大于500，则应该打开空气净化器，戴防雾霾口罩等。"
   ]
  },
  {
   "cell_type": "code",
   "execution_count": 11,
   "metadata": {},
   "outputs": [
    {
     "name": "stdout",
     "output_type": "stream",
     "text": [
      "请输入北京的雾霾指数：50\n",
      "适合户外运动\n"
     ]
    }
   ],
   "source": [
    "PM = float(input('请输入北京的雾霾指数：'))\n",
    "if (PM > 500):\n",
    "    print('应该打开空气净化器')\n",
    "elif(PM > 100):\n",
    "    print('应该带雾霾口罩')\n",
    "elif(PM > 0):\n",
    "    print('适合户外运动')"
   ]
  },
  {
   "cell_type": "markdown",
   "metadata": {},
   "source": [
    "尝试性练习：写程序，能够在屏幕上显示空行。"
   ]
  },
  {
   "cell_type": "code",
   "execution_count": 12,
   "metadata": {},
   "outputs": [
    {
     "name": "stdout",
     "output_type": "stream",
     "text": [
      "Nice to meet you.\n",
      "\n",
      "\n",
      "Nice to meet you too!\n"
     ]
    }
   ],
   "source": [
    "print('Nice to meet you.')\n",
    "print('\\n')\n",
    "print('Nice to meet you too!')"
   ]
  },
  {
   "cell_type": "markdown",
   "metadata": {},
   "source": [
    "挑战性练习：写程序，由用户输入一些整数，能够得到几个整数中的次大值(第二大的值)并输出。"
   ]
  },
  {
   "cell_type": "code",
   "execution_count": 13,
   "metadata": {},
   "outputs": [
    {
     "name": "stdout",
     "output_type": "stream",
     "text": [
      "请输入整数的个数：5\n",
      "请输入一个整数：12\n",
      "请输入一个整数：33\n",
      "请输入一个整数：15\n",
      "请输入一个整数：38\n",
      "请输入一个整数：11\n",
      "33\n"
     ]
    }
   ],
   "source": [
    "j = int(input('请输入整数的个数：'))\n",
    "max_num = int(input('请输入一个整数：'))\n",
    "secondmax_num = max_num\n",
    "i = 1\n",
    "while i < j:\n",
    "    i = i + 1\n",
    "    m = int(input('请输入一个整数：'))\n",
    "    if (m > max_num):\n",
    "        secondmax_num = max_num\n",
    "        max_num = m\n",
    "    elif (m > secondmax_num):\n",
    "        secondmax_num = m\n",
    "    else:\n",
    "        pass\n",
    "print(secondmax_num)"
   ]
  },
  {
   "cell_type": "code",
   "execution_count": 5,
   "metadata": {},
   "outputs": [
    {
     "name": "stdout",
     "output_type": "stream",
     "text": [
      "请输入第一个数，回车结束32\n",
      "请输入第二个数，回车结束12\n",
      "将小的数字乘以2: 24\n"
     ]
    }
   ],
   "source": [
    "m = int(input('请输入第一个数，回车结束'))\n",
    "n = int(input('请输入第二个数，回车结束'))\n",
    "if m > n:\n",
    "    n *= 2\n",
    "    print('将小的数字乘以2:', n)\n"
   ]
  },
  {
   "cell_type": "code",
   "execution_count": 6,
   "metadata": {},
   "outputs": [
    {
     "name": "stdout",
     "output_type": "stream",
     "text": [
      "请输入第一个数，回车结束5\n",
      "请输入第二个数，回车结束6\n",
      "5 <= 6\n",
      "请输入第一个数，回车结束6\n",
      "请输入第二个数，回车结束5\n",
      "6 > 5\n"
     ]
    }
   ],
   "source": [
    "m = int(input('请输入第一个数，回车结束'))\n",
    "n = int(input('请输入第二个数，回车结束'))\n",
    "if m > n:\n",
    "    print(m, '>', n)\n",
    "else:\n",
    "    print(m, '<=', n)\n",
    "m = int(input('请输入第一个数，回车结束'))\n",
    "n = int(input('请输入第二个数，回车结束'))\n",
    "if m > n:\n",
    "    print(m, '>', n)\n",
    "else:\n",
    "    print(m, '<=', n)"
   ]
  },
  {
   "cell_type": "code",
   "execution_count": 7,
   "metadata": {},
   "outputs": [
    {
     "name": "stdout",
     "output_type": "stream",
     "text": [
      "请输入第一个数，回车结束3\n",
      "请输入第二个数，回车结束6\n",
      "3 < 6\n"
     ]
    }
   ],
   "source": [
    "m = int(input('请输入第一个数，回车结束'))\n",
    "n = int(input('请输入第二个数，回车结束'))\n",
    "if m > n:\n",
    "    print(m, '>', n)\n",
    "elif m < n:\n",
    "    print(m, '<', n)\n",
    "else:\n",
    "    print(m, '=', n)"
   ]
  },
  {
   "cell_type": "code",
   "execution_count": 8,
   "metadata": {},
   "outputs": [
    {
     "name": "stdout",
     "output_type": "stream",
     "text": [
      "请输入一个数，回车结束39\n",
      "39 > 0\n"
     ]
    }
   ],
   "source": [
    "m = int(input('请输入一个数，回车结束'))\n",
    "if m > 1000:\n",
    "    print(m, '>', 1000)\n",
    "elif m > 500:\n",
    "    print(m, '>', 500)\n",
    "elif m > 100:\n",
    "    print(m, '>', 100)\n",
    "elif m > 0:\n",
    "    print(m, '>', 0)\n",
    "else:\n",
    "    print(m, '<=', 0)"
   ]
  },
  {
   "cell_type": "code",
   "execution_count": 9,
   "metadata": {},
   "outputs": [
    {
     "name": "stdout",
     "output_type": "stream",
     "text": [
      "请输入一个整数，回车结束20\n",
      "请输入一个整数，回车结束2\n",
      "请输入一个整数，回车结束3\n",
      "请输入一个整数，回车结束6\n",
      "请输入一个整数，回车结束45\n",
      "请输入一个整数，回车结束32\n",
      "请输入一个整数，回车结束33\n",
      "请输入一个整数，回车结束24\n",
      "请输入一个整数，回车结束16\n",
      "请输入一个整数，回车结束7\n",
      "请输入一个整数，回车结束87\n",
      "最大值是： 87\n"
     ]
    }
   ],
   "source": [
    "max_number = int(input('请输入一个整数，回车结束'))\n",
    "\n",
    "i = 0\n",
    "while i < 10:\n",
    "    i += 1\n",
    "    n = int(input('请输入一个整数，回车结束'))\n",
    "    if n > max_number:\n",
    "        max_number = n\n",
    "\n",
    "print('最大值是：', max_number)"
   ]
  },
  {
   "cell_type": "code",
   "execution_count": 10,
   "metadata": {},
   "outputs": [
    {
     "name": "stdout",
     "output_type": "stream",
     "text": [
      "多个参数 5 69 1.0\n",
      "多个参数  5  69  1.0\n",
      "多个参数,5,69,1.0\n",
      "多个参数 5 69 1.0\n",
      "多个参数 ,5 ,69 ,1.0\n",
      "多个参数5691.0\n"
     ]
    }
   ],
   "source": [
    "print('多个参数', 5, 4078%211, 407.8//211)\n",
    "print('多个参数', 5, 4078%211, 407.8//211, sep = '  ')\n",
    "print('多个参数', 5, 4078%211, 407.8//211, sep = ',')\n",
    "print('多个参数', 5, 4078%211, 407.8//211, sep = ' ')\n",
    "print('多个参数', 5, 4078%211, 407.8//211, sep = ' ,')\n",
    "print('多个参数', 5, 4078%211, 407.8//211, sep = '')"
   ]
  },
  {
   "cell_type": "markdown",
   "metadata": {},
   "source": [
    "3.由用户输入几个整数，打印最大值，最小值、平均值。"
   ]
  },
  {
   "cell_type": "code",
   "execution_count": 13,
   "metadata": {},
   "outputs": [
    {
     "name": "stdout",
     "output_type": "stream",
     "text": [
      "请输入一个整数，回车结束。5\n",
      "请输入一个整数，回车结束。7\n",
      "请输入一个整数，回车结束。9\n",
      "请输入一个整数，回车结束。1\n",
      "请输入一个整数，回车结束。3\n",
      "请输入一个整数，回车结束。0\n",
      "请输入一个整数，回车结束。0\n",
      "最大值是： 9\n",
      "最小值是： 0\n",
      "平均值是： 2.857142857142857\n"
     ]
    }
   ],
   "source": [
    "max_num = int(input('请输入一个整数，回车结束。'))\n",
    "min_num = max_num\n",
    "n = 1\n",
    "total = 0\n",
    "while(1):\n",
    "    m =int(input('请输入一个整数，回车结束。'))\n",
    "    total = total + m\n",
    "    n = n + 1\n",
    "    ave = total / n\n",
    "    if (max_num < m):\n",
    "        max_num = m\n",
    "    elif(m < min_num):\n",
    "        min_num = m\n",
    "    elif(m == 0):\n",
    "        break\n",
    "print('最大值是：', max_num)\n",
    "print('最小值是：', min_num)\n",
    "print('平均值是：', ave)"
   ]
  },
  {
   "cell_type": "code",
   "execution_count": 14,
   "metadata": {},
   "outputs": [
    {
     "name": "stdout",
     "output_type": "stream",
     "text": [
      "请输入要输入的整数个数，回车结束。3\n",
      "请输入一个整数，回车结束34\n",
      "请输入一个整数，回车结束23\n",
      "请输入一个整数，回车结束12\n",
      "最大值是： 34\n",
      "最小值是： 12\n",
      "平均值是： 23.0\n"
     ]
    }
   ],
   "source": [
    "m = int(input('请输入要输入的整数个数，回车结束。'))\n",
    "\n",
    "max_number = int(input('请输入一个整数，回车结束'))\n",
    "min_number = max_number\n",
    "\n",
    "total = max_number\n",
    "\n",
    "i = 1\n",
    "while i < m:\n",
    "    i += 1\n",
    "    n = int(input('请输入一个整数，回车结束'))\n",
    "    total += n\n",
    "    if n > max_number:\n",
    "        max_number = n\n",
    "    elif n < min_number:\n",
    "        min_number = n\n",
    "        \n",
    "print('最大值是：', max_number)\n",
    "print('最小值是：', min_number)\n",
    "print('平均值是：', total/m)"
   ]
  }
 ],
 "metadata": {
  "kernelspec": {
   "display_name": "Python 3",
   "language": "python",
   "name": "python3"
  },
  "language_info": {
   "codemirror_mode": {
    "name": "ipython",
    "version": 3
   },
   "file_extension": ".py",
   "mimetype": "text/x-python",
   "name": "python",
   "nbconvert_exporter": "python",
   "pygments_lexer": "ipython3",
   "version": "3.5.2"
  }
 },
 "nbformat": 4,
 "nbformat_minor": 2
}
