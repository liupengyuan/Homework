{
 "cells": [
  {
   "cell_type": "code",
   "execution_count": 1,
   "metadata": {},
   "outputs": [
    {
     "name": "stdout",
     "output_type": "stream",
     "text": [
      "请输入您随机数的数量：3\n",
      "请输入范围最小值:1\n",
      "请输入范围最大值:10\n",
      "4\n",
      "3\n",
      "3\n",
      "1.8257418583505538\n"
     ]
    }
   ],
   "source": [
    "# 1：求n个随机整数均值的平方根，\n",
    "# 整数范围在m与k之间（n,m,k由用户输入）。\n",
    "\n",
    "import random\n",
    "import math\n",
    "\n",
    "def squart_root(n,m,k):\n",
    "\n",
    "\ti = 0\n",
    "\ttotal = 0\n",
    "\twhile i<n:\n",
    "\t\ti += 1\n",
    "\t\tnum= random.randint(m,k)\n",
    "\t\tprint (num)\n",
    "\t\ttotal += num\n",
    "\t\tsquart_root = (math.sqrt(total/n))\n",
    "\n",
    "\treturn squart_root\n",
    "\n",
    "n = int(input(\"请输入您随机数的数量：\"))\n",
    "m = int(input(\"请输入范围最小值:\"))\n",
    "k = int(input(\"请输入范围最大值:\"))\n",
    "\n",
    "print (squart_root(n,m,k))"
   ]
  },
  {
   "cell_type": "code",
   "execution_count": 4,
   "metadata": {},
   "outputs": [
    {
     "name": "stdout",
     "output_type": "stream",
     "text": [
      "请输入您随机数的数量：1\n",
      "请输入范围最小值:3\n",
      "请输入范围最大值:5\n",
      "1 3 1.0986122886681098\n",
      "您要计算 1 个整数 他们的西格玛log和西格玛1/log是 (1.0986122886681098, 0.9102392266268373)\n"
     ]
    }
   ],
   "source": [
    "# 2：共n个随机整数，整数范围在m与k之间，（n,m,k由用户输入）。\n",
    "# 求1：西格玛log(随机整数)，2：西格玛1/log(随机整数)\n",
    "\n",
    "import math\n",
    "import random\n",
    "\n",
    "def lo(n,m,k):\n",
    "\n",
    "\ti = 0\n",
    "\ttotal = 0\n",
    "\ttotal_fen = 0\n",
    "\twhile i <n:\n",
    "\t\ti +=1\n",
    "\t\tnum = random.randint(m,k)\n",
    "\t\tlo = math.log(num)\n",
    "\t\ttotal += lo\n",
    "\t\ttotal_fen += 1/lo\n",
    "\t\tprint (i, num , lo)\n",
    "\n",
    "\treturn total,total_fen\n",
    "\n",
    "n = int(input(\"请输入您随机数的数量：\"))\n",
    "m = int(input(\"请输入范围最小值:\"))\n",
    "k = int(input(\"请输入范围最大值:\"))\n",
    "\n",
    "print (\"您要计算\",n,\"个整数\",\"他们的西格玛log和西格玛1/log是\",lo(n,m,k))"
   ]
  },
  {
   "cell_type": "code",
   "execution_count": null,
   "metadata": {
    "collapsed": true
   },
   "outputs": [],
   "source": []
  }
 ],
 "metadata": {
  "kernelspec": {
   "display_name": "Python 3",
   "language": "python",
   "name": "python3"
  },
  "language_info": {
   "codemirror_mode": {
    "name": "ipython",
    "version": 3
   },
   "file_extension": ".py",
   "mimetype": "text/x-python",
   "name": "python",
   "nbconvert_exporter": "python",
   "pygments_lexer": "ipython3",
   "version": "3.6.2"
  }
 },
 "nbformat": 4,
 "nbformat_minor": 2
}
