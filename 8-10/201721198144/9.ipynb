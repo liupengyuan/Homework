{
 "cells": [
  {
   "cell_type": "code",
   "execution_count": 13,
   "metadata": {},
   "outputs": [
    {
     "name": "stdout",
     "output_type": "stream",
     "text": [
      "[[5, 1], [12, 1], [13, 1], [37, 1], [47, 1], [79, 1], [80, 1], [82, 1], [99, 1], [110, 1], [111, 1], [117, 1], [118, 1], [122, 1], [126, 1], [141, 1], [148, 1], [156, 2], [162, 1], [171, 2], [181, 1], [196, 1], [203, 1], [204, 1], [207, 1], [227, 2], [237, 1], [245, 1], [254, 1], [256, 1], [267, 1], [268, 1], [277, 1], [280, 1], [288, 1], [291, 1], [313, 1], [329, 1], [340, 1], [341, 1], [350, 1], [364, 1], [370, 1], [384, 1], [392, 1], [398, 1], [404, 1], [413, 1], [426, 1], [451, 1]]\n"
     ]
    }
   ],
   "source": [
    "#随机生成1万个整数，范围在0-10万之间，求其中每个整数出现的次数。并按照整数大小排序输出整数及出现次数。\n",
    "\n",
    "import random\n",
    "\n",
    "def get_random_num_freq(amount,rang):\n",
    "    num_list=[]\n",
    "    numb_table=[]\n",
    "    num_fre_pairs=[]\n",
    "\n",
    "    for i in range (amount):\n",
    "        num=random.randint(0,rang)\n",
    "        num_list.append(num)\n",
    "\n",
    "    for numb in num_list:\n",
    "        if numb not in numb_table:\n",
    "            numb_table.append(numb)\n",
    "\n",
    "    for numb in numb_table:\n",
    "        freq=num_list.count(numb)\n",
    "        num_fre_pairs.append([numb,freq])\n",
    "        num_fre_pairs.sort()\n",
    "    #     num_fre_pairs.reverse()\n",
    "    \n",
    "    return num_fre_pairs\n",
    "    \n",
    "amount=10000\n",
    "rang=100000\n",
    "print(num_fre_pairs[:50])"
   ]
  },
  {
   "cell_type": "code",
   "execution_count": null,
   "metadata": {
    "collapsed": true
   },
   "outputs": [],
   "source": [
    "# 对本任务中的语料.txt文件，随机抽取其5001-10000行存为test1.txt文件，写函数，\n",
    "# 可得到其与本任务中test.txt文件的共用字以及独用字\n",
    "\n",
    "with open(r'c:\\python\\test.txt','w') as fh,open(r'c:\\python\\test1.txt','w') as fw,open (r'c:\\python\\corpus.txt') as fr:\n",
    "    line_num=0\n",
    "    for line in fr:\n",
    "        line_num += 1\n",
    "        if line_num<5000:\n",
    "            fh.write(line)\n",
    "        elif line_num>5000 and line_num<10000:\n",
    "            fw.write(line)\n",
    "        else:\n",
    "            break    "
   ]
  },
  {
   "cell_type": "code",
   "execution_count": 4,
   "metadata": {},
   "outputs": [],
   "source": [
    "# 写函数，可得到其与本任务中test.txt文件的共用字以及独用字\n",
    "\n",
    "def word_list(filename):\n",
    "    word_list=[]\n",
    "    with open(filename)as fh:\n",
    "        for line in fh:\n",
    "            words = [word.split('/')[0] for word in line.split()]\n",
    "            for word in words:\n",
    "                word_list.append(word)\n",
    "    return word_list\n",
    "            "
   ]
  },
  {
   "cell_type": "code",
   "execution_count": 7,
   "metadata": {},
   "outputs": [
    {
     "name": "stdout",
     "output_type": "stream",
     "text": [
      "共用词有： 151643\n",
      "['习近平', '新年贺词', '为', '人民', '点', '赞', '发表', '二', '一', '五年', '新年贺词', '提出', '没有', '回头', '改革', '新年好', '“', '5', '、', '4', '、', '3', '、', '2', '、', '1', '，', '！', '”', '今天', '零时', '，', '奥林匹克', '主会场', '，', '“', '梦想', '冰雪', '北京', '”', '2015', '年', '北京', '新年', '倒计时', '活动', '举行', '。', '与此同时', '，']\n",
      "独用词有： 20516\n",
      "['〇', '开弓', '箭', '关头', '勇者胜', '新年快乐', '中心区', '辉映', '同心', '欢聚', '诚邀', '五环', '八达岭长城', '分会场', '分会场', 'A02', 'A03', '上限', '起调', '206', 'A11', '千点', '〇', '致敬', '关头', '勇者胜', '真快', '各族人民', '香港特别行政区', '同胞', '澳门特别行政区', '同胞', '台湾同胞', '海外侨胞', '致以', '令人难忘', '锐意', '啃下', '硬骨头', '密切相关', '通水', '搬迁', '敬意', '风肃', '纪', '形式主义', '官僚主义', '享乐主义', '奢靡', '惩恶']\n"
     ]
    }
   ],
   "source": [
    "def share_alone_list(a_list,b_list):\n",
    "    share_list=[]\n",
    "    alone_list=[]\n",
    "    for word in a_list:\n",
    "        if word in b_list:\n",
    "            share_list.append(word)\n",
    "        else:\n",
    "            alone_list.append(word)\n",
    "    return (share_list,alone_list)\n",
    "            \n",
    "test_list=word_list(r'c:\\python\\test.txt')\n",
    "test1_list=word_list(r'c:\\python\\test1.txt')\n",
    "share_list,alone_list=share_alone_list(test_list,test1_list)\n",
    "print('共用词有：',len(share_list))\n",
    "print(share_list[:50])\n",
    "print('独用词有：',len(alone_list))\n",
    "print(alone_list[:50])\n",
    "\n",
    "# print(len(test_list))\n",
    "    "
   ]
  }
 ],
 "metadata": {
  "kernelspec": {
   "display_name": "Python 3",
   "language": "python",
   "name": "python3"
  },
  "language_info": {
   "codemirror_mode": {
    "name": "ipython",
    "version": 3
   },
   "file_extension": ".py",
   "mimetype": "text/x-python",
   "name": "python",
   "nbconvert_exporter": "python",
   "pygments_lexer": "ipython3",
   "version": "3.6.2"
  }
 },
 "nbformat": 4,
 "nbformat_minor": 2
}
