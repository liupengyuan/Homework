{
 "cells": [
  {
   "cell_type": "code",
   "execution_count": 2,
   "metadata": {},
   "outputs": [
    {
     "name": "stdout",
     "output_type": "stream",
     "text": [
      "* * * * * *  \n",
      "\n",
      "玄 闲 宗\n",
      "说 尘 难\n",
      "叶 咽 巷\n",
      "坐 趋 功\n",
      "请输入猜测，回车结束：不知道\n",
      "错了！\n",
      "正确答案是： 闲坐说玄宗\n",
      "没想到吧！\n",
      "* * * * * *  \n",
      "\n",
      "民 突 泊\n",
      "渚 移 暮\n",
      "舟 烟 金\n",
      "玲 莺 雁\n",
      "请输入猜测，回车结束：不知道\n",
      "错了！\n",
      "正确答案是： 移舟泊烟渚\n",
      "没想到吧！\n",
      "* * * * * *  \n",
      "\n",
      "愁 非 日\n",
      "益 伐 载\n",
      "新 夸 眼\n",
      "晴 暮 客\n",
      "请输入猜测，回车结束：不知道\n",
      "错了！\n",
      "正确答案是： 日暮客愁新\n",
      "没想到吧！\n"
     ]
    }
   ],
   "source": [
    "#诗词列表\n",
    "def get_poem_list():\n",
    "    file_read = open(r\"c:\\python\\五言诗库.txt\")\n",
    "    word_list = []\n",
    "    poems = file_read.read().replace('\\n','').replace('。','，')\n",
    "    for word in poems:\n",
    "        if word not in word_list:\n",
    "            word_list.append(word)\n",
    "    poem_list = poems.split('，')\n",
    "    return poem_list,word_list\n",
    "\n",
    "#诗词序列\n",
    "def get_random_word(poem_list,word_list):\n",
    "    rand_poem_str = random.choice(poem_list)\n",
    "    rand_poem = [each_word for each_word in rand_poem_str]\n",
    "    \n",
    "    while(len(rand_poem) < 12):\n",
    "        rand_word = random.choice(word_list)\n",
    "        if rand_word not in rand_poem:\n",
    "            rand_poem.append(rand_word)\n",
    "    random.shuffle(rand_poem)\n",
    "    print (\"* \"*6,\"\\n\")\n",
    "    for i in range(0,12,3):\n",
    "        print (rand_poem[i],rand_poem[i+1],rand_poem[i+2])\n",
    "    return rand_poem\n",
    "\n",
    "#答题\n",
    "def answer(poem_list,cadi_list):\n",
    "    for poem_sent in poem_list:\n",
    "        answer_length = 0\n",
    "        for poem_word in poem_sent:\n",
    "            if poem_word in cadi_list:\n",
    "                answer_length += 1\n",
    "            else:\n",
    "                break\n",
    "        if answer_length == 5:\n",
    "            print (\"正确答案是：\",poem_sent)\n",
    "            print(\"没想到吧！\")\n",
    "            break\n",
    "            \n",
    "import random\n",
    "\n",
    "if __name__ == '__main__':\n",
    "    poem_list,word_list = get_poem_list()\n",
    "    for i in range(0,3):\n",
    "        tar_poem = get_random_word(poem_list,word_list)\n",
    "        answer_poem = input('请输入猜测，回车结束：')\n",
    "        if answer_poem==tar_poem:\n",
    "            print (\"对了！\")\n",
    "        else:\n",
    "            print(\"错了！\")\n",
    "            answer(poem_list,tar_poem)\n",
    "        \n"
   ]
  },
  {
   "cell_type": "code",
   "execution_count": null,
   "metadata": {
    "collapsed": true
   },
   "outputs": [],
   "source": []
  }
 ],
 "metadata": {
  "kernelspec": {
   "display_name": "Python 3",
   "language": "python",
   "name": "python3"
  },
  "language_info": {
   "codemirror_mode": {
    "name": "ipython",
    "version": 3
   },
   "file_extension": ".py",
   "mimetype": "text/x-python",
   "name": "python",
   "nbconvert_exporter": "python",
   "pygments_lexer": "ipython3",
   "version": "3.6.2"
  }
 },
 "nbformat": 4,
 "nbformat_minor": 2
}
