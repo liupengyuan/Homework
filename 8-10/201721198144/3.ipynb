{
 "cells": [
  {
   "cell_type": "code",
   "execution_count": 1,
   "metadata": {},
   "outputs": [
    {
     "name": "stdout",
     "output_type": "stream",
     "text": [
      "what's your name, dear ? 思思\n",
      "pls enter your birthday(eg.octobor 7th: 1007): 802\n",
      "思思 ! you are a Leo~\n"
     ]
    }
   ],
   "source": [
    "#2让用户输入出生的月份与日期，判断用户星座，假设用户是金牛座，则输出，Mr. right，你是非常有性格的金牛座！。\n",
    "name = input(\"what's your name, dear ? \")\n",
    "bir_date = int(input(\"pls enter your birthday(eg.octobor 7th: 1007): \"))\n",
    "\n",
    "if 120<=bir_date<=218:\n",
    "\tprint (name,\"! you are a Aquarius~\")\n",
    "elif 219<=bir_date<=320:\n",
    "\tprint (name,\"! you are a Pisces~\")\n",
    "elif 321<=bir_date<=419:\n",
    "\tprint (name,\"! you are a Aries~\")\n",
    "elif 420<=bir_date<=520:\n",
    "\tprint (name,\"! you are a Taurus~\")\n",
    "elif 521<=bir_date<=621:\n",
    "\tprint (name,\"! you are a Gemini~\")\n",
    "elif 621<=bir_date<=722:\n",
    "\tprint (name,\"! you are a Cancer~\")\n",
    "elif 723<=bir_date<=822:\n",
    "\tprint (name,\"! you are a Leo~\")\n",
    "elif 823<=bir_date<=922:\n",
    "\tprint (name,\"! you are a virgo~\")\n",
    "elif 923<=bir_date<=1023:\n",
    "\tprint (name,\"! you are a Libras~\")\n",
    "elif 1024<=bir_date<=1122:\n",
    "\tprint (name,\"! you are a Scorpio~\")\n",
    "elif 1123<=bir_date<=1221:\n",
    "\tprint (name,\"! you are a Sagittarius~\")\n",
    "else:\n",
    "\tprint (name,\"! you are a Capricorn~\")\n"
   ]
  },
  {
   "cell_type": "code",
   "execution_count": 2,
   "metadata": {},
   "outputs": [
    {
     "name": "stdout",
     "output_type": "stream",
     "text": [
      "what do you want to do ?(sum,mul,remain,others): mul\n",
      "pls enter a num: 34\n",
      "pls enter a num(!=0): 32\n",
      "the mul is : 1088\n"
     ]
    }
   ],
   "source": [
    "#3询问用户意图计算sum,mul,remain,others\n",
    "opr = input(\"what do you want to do ?(sum,mul,remain,others): \")\n",
    "m = int(input(\"pls enter a num: \"))\n",
    "n = int(input(\"pls enter a num(!=0): \"))\n",
    "\n",
    "if opr == 'sum':\n",
    "\tprint (\"the sum is :\",m+n)\n",
    "elif opr == 'mul':\n",
    "\tprint (\"the mul is :\",m*n)\n",
    "elif opr == 'remain':\n",
    "\tprint (\"the remain is :\",m%n)\n",
    "else:\n",
    "\tprint (\"m/n is :\",m/n)"
   ]
  },
  {
   "cell_type": "code",
   "execution_count": 3,
   "metadata": {},
   "outputs": [
    {
     "name": "stdout",
     "output_type": "stream",
     "text": [
      "今天的PM2.5值是？（请输入>0的数字）： 760\n",
      "PM2.5爆表！ 请减少外出！ 请打开空气净化器！\n"
     ]
    }
   ],
   "source": [
    "#能够根据北京雾霾PM2.5数值给出对应的防护建议\n",
    "envir = int(input(\"今天的PM2.5值是？（请输入>0的数字）： \"))\n",
    "if envir<75:\n",
    "\tprint (\"你那里的空气真新鲜，快出去运动吧！\")\n",
    "elif envir>250:\n",
    "\tprint (\"PM2.5爆表！ 请减少外出！ 请打开空气净化器！\")\n",
    "else:\n",
    "\tprint (\"请尽量减少外出！\")"
   ]
  },
  {
   "cell_type": "code",
   "execution_count": 4,
   "metadata": {},
   "outputs": [
    {
     "name": "stdout",
     "output_type": "stream",
     "text": [
      "pls enter a verb('q' to quit) : play\n",
      "plays\n",
      "pls enter a verb('q' to quit) : go\n",
      "goes\n",
      "pls enter a verb('q' to quit) : classify\n",
      "classifies\n",
      "pls enter a verb('q' to quit) : q\n",
      "see you ~\n"
     ]
    }
   ],
   "source": [
    "#4英文单词单数转复数\n",
    "while 1:\n",
    "\n",
    "\tverb = input(\"pls enter a verb('q' to quit) : \")\n",
    "\tif verb =='q':\n",
    "\t\tprint (\"see you ~\")\n",
    "\t\tbreak\n",
    "\n",
    "\telse:\n",
    "\t\tif verb.endswith('o') or verb.endswith('ch') or verb.endswith('sh') or verb.endswith('x') or verb.endswith('s'):\n",
    "\t\t\tprint(verb+\"es\")\n",
    "\t\t\t\n",
    "\t\t#\"y\"结尾 去y + ies （除play以外）\n",
    "\t\telif verb.endswith('y'):\n",
    "\t\t\tif verb =='play':\n",
    "\t\t\t\tprint(\"plays\")\n",
    "\t\t\telse:\n",
    "\t\t\t\tverb = verb[:-1]  #把字符串的最后一个字符去掉 + ies\n",
    "\t\t\t\tprint(verb+\"ies\")\n",
    "\n",
    "\t\telif verb =='have':\n",
    "\t\t\tprint (\"has\")\n",
    "\t\t\t\n",
    "\t\telse:\n",
    "\t\t\tprint (verb+\"s\")"
   ]
  },
  {
   "cell_type": "code",
   "execution_count": null,
   "metadata": {
    "collapsed": true
   },
   "outputs": [],
   "source": []
  }
 ],
 "metadata": {
  "kernelspec": {
   "display_name": "Python 3",
   "language": "python",
   "name": "python3"
  },
  "language_info": {
   "codemirror_mode": {
    "name": "ipython",
    "version": 3
   },
   "file_extension": ".py",
   "mimetype": "text/x-python",
   "name": "python",
   "nbconvert_exporter": "python",
   "pygments_lexer": "ipython3",
   "version": "3.6.2"
  }
 },
 "nbformat": 4,
 "nbformat_minor": 2
}
