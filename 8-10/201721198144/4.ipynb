{
 "cells": [
  {
   "cell_type": "code",
   "execution_count": 1,
   "metadata": {},
   "outputs": [
    {
     "name": "stdout",
     "output_type": "stream",
     "text": [
      "pls enter the first number: 2\n",
      "pls enter the second number: 4\n",
      "pls enter the third number: 2\n",
      "2 !+ 4 !+ 2 ! =  28\n"
     ]
    }
   ],
   "source": [
    "def mul(a):\n",
    "\ti = 0\n",
    "\tmul = 1\n",
    "\n",
    "\twhile i < a:\n",
    "\t\ti +=  1\n",
    "\t\tmul = mul*i\n",
    "\n",
    "\treturn mul\n",
    "\n",
    "m = int(input(\"pls enter the first number: \"))\n",
    "n = int(input(\"pls enter the second number: \"))\n",
    "k = int(input(\"pls enter the third number: \"))\n",
    "\n",
    "print (m,\"!+\",n,\"!+\",k,\"! = \",mul(m)+mul(n)+mul(k))"
   ]
  },
  {
   "cell_type": "code",
   "execution_count": 7,
   "metadata": {},
   "outputs": [
    {
     "name": "stdout",
     "output_type": "stream",
     "text": [
      "当n = 1000时，调和数列的和为： 3.140592653839794\n",
      "当m = 100000时，调和数列的和为： 3.1415826535897198\n"
     ]
    }
   ],
   "source": [
    "#可返回1 - 1/3 + 1/5 - 1/7...的前n项的和。\n",
    "#在主程序中，分别令n=1000及100000，打印4倍该函数的和。\n",
    "def mul(n):\n",
    "\ti = 1\n",
    "\ttotal = 1\n",
    "\n",
    "\twhile i < n:\n",
    "\t\ti +=1\n",
    "\t\ttotal = total - (-1)**i*(1/(2*i-1))\n",
    "\n",
    "\treturn total\n",
    "\n",
    "n = 1000\n",
    "m = 100000\n",
    "print(\"当n = 1000时，调和数列的和为：\",4*mul(n),) \n",
    "print(\"当m = 100000时，调和数列的和为：\",4*mul(m),)"
   ]
  },
  {
   "cell_type": "code",
   "execution_count": null,
   "metadata": {
    "collapsed": true
   },
   "outputs": [],
   "source": [
    "#task3practice1:用户输入生日，输出星座\n",
    "def sign(bir_date):\n",
    "\tif 120<=bir_date<=218:\n",
    "\t\tsign = \"Aquarius\"\n",
    "\telif 219<=bir_date<=320:\n",
    "\t\tsign = \"Pisces\"\n",
    "\telif 321<=bir_date<=419:\n",
    "\t\tsign = \"Aries\"\n",
    "\telif 420<=bir_date<=520:\n",
    "\t\tsign = \"Taurus\"\n",
    "\telif 521<=bir_date<=621:\n",
    "\t\tsign = \"Gemini\"\n",
    "\telif 621<=bir_date<=722:\n",
    "\t\tsign = \"Cancer\"\n",
    "\telif 723<=bir_date<=822:\n",
    "\t\tsign = \"Leo\"\n",
    "\telif 823<=bir_date<=922:\n",
    "\t\tsign = \"virgo\"\n",
    "\telif 923<=bir_date<=1023:\n",
    "\t\tsign = \"Libras\"\n",
    "\telif 1024<=bir_date<=1122:\n",
    "\t\tsign = \"Scorpio\"\n",
    "\telif 1123<=bir_date<=1221:\n",
    "\t\tsign = \"Sagittarius\"\n",
    "\telse:\n",
    "\t\tsign = \"Capricorn\"\n",
    "\n",
    "\treturn sign\n",
    "\n",
    "name = input(\"what's your name, dear ? \")\n",
    "bir_date = int(input(\"pls enter your birthday(eg.octobor 7th: 1007): \"))\n",
    "print (name,\"! you are a\", sign(bir_date))"
   ]
  },
  {
   "cell_type": "code",
   "execution_count": 5,
   "metadata": {},
   "outputs": [
    {
     "name": "stdout",
     "output_type": "stream",
     "text": [
      "pls enter a verb('q' to quit) : play\n",
      "play 的复数形式是： plays\n",
      "pls enter a verb('q' to quit) : enter\n",
      "enter 的复数形式是： enters\n",
      "pls enter a verb('q' to quit) : fish\n",
      "fish 的复数形式是： fishes\n",
      "pls enter a verb('q' to quit) : ox\n",
      "ox 的复数形式是： oxes\n",
      "pls enter a verb('q' to quit) : q\n",
      "see you then~\n"
     ]
    }
   ],
   "source": [
    "#task3practice4:英文单词转写复数\n",
    "\n",
    "def trans_s(verb):\n",
    "\t\n",
    "\tif verb.endswith('o') or verb.endswith('ch') or verb.endswith('sh') or verb.endswith('x') or verb.endswith('s'):\n",
    "\t\toutput = verb+\"es\"\n",
    "\n",
    "\telif verb.endswith('y'):\n",
    "\t\tif verb =='play':\n",
    "\t\t\toutput =\"plays\"\n",
    "\t\telse:\n",
    "\t\t\tverb = verb[:-1]  \n",
    "\t\t\toutput = verb+\"ies\"\n",
    "\n",
    "\telif verb =='have':\n",
    "\t\toutput =\"has\"\n",
    "\telse:\n",
    "\t\toutput =verb+\"s\"\n",
    "\n",
    "\treturn output\n",
    "\n",
    "while 1:\n",
    "\tverb = input(\"pls enter a verb('q' to quit) : \")\n",
    "\n",
    "\tif verb =='q':\n",
    "\t\tprint(\"see you then~\")\n",
    "\t\tbreak\n",
    "\telse:\n",
    "\t\tprint (verb,\"的复数形式是：\",trans_s(verb))"
   ]
  },
  {
   "cell_type": "code",
   "execution_count": 6,
   "metadata": {},
   "outputs": [
    {
     "name": "stdout",
     "output_type": "stream",
     "text": [
      "请输入一个数m: 2\n",
      "请输入一个大于m的数: 4\n",
      "请输入间隔: 2\n",
      "数的间隔= 2 从整数m到整数n累加的和= 6\n"
     ]
    }
   ],
   "source": [
    "#求从整数m到整数n累加的和，间隔为k，求和部分需用函数实现，\n",
    "#主程序中由用户输入m，n，k调用函数验证正确性。\n",
    "\n",
    "def plus(m,n,k):\n",
    "\ti = m\n",
    "\ttotal = 0\n",
    "\n",
    "\twhile i <= n:\n",
    "\t\ttotal += i\n",
    "\t\ti += k\n",
    "\treturn total\n",
    "\n",
    "m = int(input(\"请输入一个数m: \"))\n",
    "n = int(input(\"请输入一个大于m的数: \"))\n",
    "k = int(input(\"请输入间隔: \"))\n",
    "\n",
    "print (\"数的间隔=\",k,\"从整数m到整数n累加的和=\",plus(m,n,k))"
   ]
  },
  {
   "cell_type": "code",
   "execution_count": null,
   "metadata": {
    "collapsed": true
   },
   "outputs": [],
   "source": []
  }
 ],
 "metadata": {
  "kernelspec": {
   "display_name": "Python 3",
   "language": "python",
   "name": "python3"
  },
  "language_info": {
   "codemirror_mode": {
    "name": "ipython",
    "version": 3
   },
   "file_extension": ".py",
   "mimetype": "text/x-python",
   "name": "python",
   "nbconvert_exporter": "python",
   "pygments_lexer": "ipython3",
   "version": "3.6.2"
  }
 },
 "nbformat": 4,
 "nbformat_minor": 2
}
