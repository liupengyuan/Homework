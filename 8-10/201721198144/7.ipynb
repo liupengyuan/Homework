{
 "cells": [
  {
   "cell_type": "code",
   "execution_count": 1,
   "metadata": {},
   "outputs": [
    {
     "name": "stdout",
     "output_type": "stream",
     "text": [
      "请输入一句话：明月夜晴春弄柳， 晴春弄柳岸啼莺\n",
      "莺啼岸柳弄春晴 ，柳弄春晴夜月明\n"
     ]
    }
   ],
   "source": [
    "#练习一：自己定义一个reverse(s)函数，\n",
    "#功能返回字符串s的倒序字符串。\n",
    "\n",
    "def reverse(s):\n",
    "\tlis = list(s)\n",
    "\tlis_reverse = lis[::-1]\n",
    "\tresult=(\"\".join(lis_reverse))\n",
    "\n",
    "\treturn result\n",
    "\n",
    "s= input(\"请输入一句话：\")\n",
    "print(reverse(s))"
   ]
  },
  {
   "cell_type": "code",
   "execution_count": 2,
   "metadata": {},
   "outputs": [
    {
     "name": "stdout",
     "output_type": "stream",
     "text": [
      "请输入一个好看的字：福\n",
      "请输入层数：7\n",
      "\n",
      "\n",
      "福\n",
      "福福\n",
      "福福福\n",
      "福福福福\n",
      "福福福福福\n",
      "福福福福福福\n",
      "福福福福福福福\n",
      "\n",
      "\n",
      "       \n",
      "      福\n",
      "     福福\n",
      "    福福福\n",
      "   福福福福\n",
      "  福福福福福\n",
      " 福福福福福福\n",
      "福福福福福福福\n",
      "\n",
      "\n",
      "                     \n",
      "                  福\n",
      "               福福\n",
      "            福福福\n",
      "         福福福福\n",
      "      福福福福福\n",
      "   福福福福福福\n",
      "福福福福福福福\n",
      "\n",
      "\n"
     ]
    }
   ],
   "source": [
    "#练习二：写函数，根据给定符号和行数，\n",
    "#打印相应直角三角形，等腰三角形及其他形式的三角形。\n",
    "def right_tri(sig,num):\n",
    "\tfor i in range(0,num+2):\n",
    "\t\tfor j in range (1,i):\n",
    "\t\t\tprint(sig,end=\"\")\n",
    "\t\tprint()\n",
    "\treturn (\"\\n\")\n",
    "\n",
    "def isosceles_tri(sig,num):\n",
    "\tfor i in range(0,num+1):\n",
    "\t\tprint ((num-i)*\" \"+sig*i,end=\"\")\n",
    "\t\tprint()\n",
    "\treturn (\"\\n\")\n",
    "\n",
    "def random_tri(sig,num):\n",
    "\tfor i in range(0,num+1):\n",
    "\t\tprint (3*(num-i)*\" \"+sig*i,end=\"\")\n",
    "\t\tprint()\n",
    "\treturn (\"\\n\")\n",
    "\n",
    "sig = input((\"请输入一个好看的字：\"))\n",
    "num = int(input(\"请输入层数：\"))\n",
    "\t\n",
    "print (right_tri(sig,num))\n",
    "print (isosceles_tri(sig,num))\n",
    "print (random_tri(sig,num))\n"
   ]
  },
  {
   "cell_type": "code",
   "execution_count": 3,
   "metadata": {},
   "outputs": [
    {
     "name": "stdout",
     "output_type": "stream",
     "text": [
      "请输入一个好看的字('q'退出)：福\n",
      "请输入菱形的层数：5\n",
      "   \n",
      "  福\n",
      " 福福\n",
      "福福福\n",
      " 福福\n",
      "  福\n",
      "   \n",
      "\n",
      "\n",
      "请输入一个好看的字('q'退出)：美\n",
      "请输入菱形的层数：9\n",
      "     \n",
      "    美\n",
      "   美美\n",
      "  美美美\n",
      " 美美美美\n",
      "美美美美美\n",
      " 美美美美\n",
      "  美美美\n",
      "   美美\n",
      "    美\n",
      "     \n",
      "\n",
      "\n",
      "请输入一个好看的字('q'退出)：田\n",
      "请输入菱形的层数：6\n",
      "    \n",
      "   田\n",
      "  田田\n",
      " 田田田\n",
      "田田田田\n",
      " 田田田\n",
      "  田田\n",
      "   田\n",
      "    \n",
      "\n",
      "\n",
      "请输入一个好看的字('q'退出)：q\n"
     ]
    }
   ],
   "source": [
    "#练习五：写函数，根据给定符号，打印各种菱形。\n",
    "def diamond(pic,n):\n",
    "\n",
    "\tm = int(n/2)\n",
    "\tfor i in range(0,m+2):\n",
    "\t\tprint(((m+1)-i)*\" \"+pic*i,end=\"\")\n",
    "\t\tprint()\n",
    "\tfor i in reversed(range(0,m+1)):\n",
    "\t\tprint(((m+1)-i)*\" \"+pic*i,end=\"\")\n",
    "\t\tprint()\n",
    "\treturn (\"\\n\")\n",
    "\n",
    "while(1):\n",
    "\tpic = input(\"请输入一个好看的字('q'退出)：\")\n",
    "\tif pic ==\"q\":\n",
    "\t\tbreak\n",
    "\telse:\n",
    "\t\tn = int(input(\"请输入菱形的层数：\"))\n",
    "\t\tprint(diamond(pic,n))"
   ]
  },
  {
   "cell_type": "code",
   "execution_count": null,
   "metadata": {
    "collapsed": true
   },
   "outputs": [],
   "source": []
  }
 ],
 "metadata": {
  "kernelspec": {
   "display_name": "Python 3",
   "language": "python",
   "name": "python3"
  },
  "language_info": {
   "codemirror_mode": {
    "name": "ipython",
    "version": 3
   },
   "file_extension": ".py",
   "mimetype": "text/x-python",
   "name": "python",
   "nbconvert_exporter": "python",
   "pygments_lexer": "ipython3",
   "version": "3.6.2"
  }
 },
 "nbformat": 4,
 "nbformat_minor": 2
}
