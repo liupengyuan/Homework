{
 "cells": [
  {
   "cell_type": "code",
   "execution_count": 61,
   "metadata": {},
   "outputs": [
    {
     "name": "stdout",
     "output_type": "stream",
     "text": [
      "['泉', '清', '在', '鸳', '此', '所', '高', '水', '山']\n"
     ]
    }
   ],
   "source": [
    "#练习\n",
    "import random\n",
    "\n",
    "poem = '在山泉水清'              #假设抽取到了这个'成语'\n",
    "\n",
    "fh = open(r'e:\\temp\\poems_correct.txt')\n",
    "text = fh.read()\n",
    "chs = get_ch_table(text.replace(r'\\n', ''))\n",
    "\n",
    "guess_ch_table = [ch for ch in poem]\n",
    "while len(guess_ch_table) < 9:\n",
    "    ch = random.choice(chs)\n",
    "    if ch not in guess_ch_table:\n",
    "        guess_ch_table.append(ch)\n",
    "\n",
    "random.shuffle(guess_ch_table)\n",
    "\n",
    "for i in range(0,9,9):\n",
    "    print(guess_ch_table)\n"
   ]
  },
  {
   "cell_type": "code",
   "execution_count": 67,
   "metadata": {},
   "outputs": [
    {
     "name": "stdout",
     "output_type": "stream",
     "text": [
      "chose from : \n",
      "['十', '乱', '后', '年', '离', '客', '应', '奠', '伴']\n",
      "answer is : \n",
      " 十年离乱后\n",
      "-------------------- 分割线 --------------------\n",
      "chose from : \n",
      "['全', '洛', '州', '此', '迹', '独', '影', '见', '叶']\n",
      "answer is : \n",
      " 此州独见全\n",
      "-------------------- 分割线 --------------------\n",
      "chose from : \n",
      "['乱', '柳', '轩', '昔', '中', '浊', '丧', '关', '扉']\n",
      "answer is : \n",
      " 关中昔丧乱\n",
      "-------------------- 分割线 --------------------\n",
      "chose from : \n",
      "['胡', '乳', '平', '虏', '嵘', '零', '日', '惭', '何']\n",
      "answer is : \n",
      " 何日平胡虏\n",
      "-------------------- 分割线 --------------------\n",
      "chose from : \n",
      "['尽', '恃', '云', '遵', '建', '暖', '由', '白', '道']\n",
      "answer is : \n",
      " 道由白云尽\n",
      "-------------------- 分割线 --------------------\n",
      "chose from : \n",
      "['山', '资', '空', '醉', '青', '复', '澄', '情', '悲']\n",
      "answer is : \n",
      " 青山空复情\n",
      "-------------------- 分割线 --------------------\n",
      "chose from : \n",
      "['留', '足', '二', '王', '可', '己', '自', '孙', '杨']\n",
      "answer is : \n",
      " 王孙自可留\n",
      "-------------------- 分割线 --------------------\n",
      "chose from : \n",
      "['六', '共', '宾', '君', '十', '行', '远', '塔', '通']\n",
      "answer is : \n",
      " 十六君远行\n",
      "-------------------- 分割线 --------------------\n",
      "chose from : \n",
      "['契', '俗', '及', '兹', '幽', '银', '碑', '妓', '绝']\n",
      "answer is : \n",
      " 及兹契幽绝\n",
      "-------------------- 分割线 --------------------\n",
      "chose from : \n",
      "['肥', '泊', '穷', '羁', '及', '战', '耕', '欲', '年']\n",
      "answer is : \n",
      " 羁泊欲穷年\n",
      "-------------------- 分割线 --------------------\n"
     ]
    }
   ],
   "source": [
    "import random\n",
    "def get_poem_list():\n",
    "    file_read = open(r\"e:\\temp\\poems.txt\")\n",
    "    word_list = []\n",
    "    poems = file_read.read().replace('\\n','').replace('。','，')\n",
    "    poem_list = poems.split('，')\n",
    "    for word in poems:\n",
    "        if word not in word_list:\n",
    "            word_list.append(word)\n",
    "    #print (poem_list)\n",
    "    return poem_list,word_list\n",
    "\n",
    "def get_random_word(poem_list,word_list):\n",
    "    rand_poem_str = random.choice(poem_list)\n",
    "    rand_poem = [each_word for each_word in rand_poem_str]\n",
    "    #print (rand_poem)\n",
    "    while(len(rand_poem) < 9):\n",
    "        rand_word = random.choice(word_list)\n",
    "        if rand_word not in rand_poem:\n",
    "            rand_poem.append(rand_word)\n",
    "    random.shuffle(rand_poem)\n",
    "    print (\"chose from : \")\n",
    "    for i in range(0,9,9):\n",
    "        print (rand_poem)\n",
    "    return rand_poem\n",
    "\n",
    "def answer(poem_list,cadi_list):\n",
    "    for poem_sent in poem_list:\n",
    "        answer_length = 0\n",
    "        for poem_word in poem_sent:\n",
    "            if poem_word in cadi_list:\n",
    "                answer_length += 1\n",
    "            else:\n",
    "                break\n",
    "        if answer_length == 5:\n",
    "            print (\"answer is : \\n\" ,poem_sent)\n",
    "            print (\"-\"*20,\"分割线\",\"-\"*20)\n",
    "            break\n",
    "\n",
    "if __name__ == '__main__':\n",
    "    poem_list,word_list = get_poem_list()\n",
    "    for i in range(0,10):\n",
    "        tar_poem = get_random_word(poem_list,word_list)\n",
    "        answer(poem_list,tar_poem)\n"
   ]
  },
  {
   "cell_type": "code",
   "execution_count": null,
   "metadata": {
    "collapsed": true
   },
   "outputs": [],
   "source": []
  }
 ],
 "metadata": {
  "kernelspec": {
   "display_name": "Python 3",
   "language": "python",
   "name": "python3"
  },
  "language_info": {
   "codemirror_mode": {
    "name": "ipython",
    "version": 3
   },
   "file_extension": ".py",
   "mimetype": "text/x-python",
   "name": "python",
   "nbconvert_exporter": "python",
   "pygments_lexer": "ipython3",
   "version": "3.6.2"
  }
 },
 "nbformat": 4,
 "nbformat_minor": 2
}
