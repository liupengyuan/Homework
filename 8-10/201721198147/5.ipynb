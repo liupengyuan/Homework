{
 "cells": [
  {
   "cell_type": "code",
   "execution_count": 1,
   "metadata": {},
   "outputs": [
    {
     "name": "stdout",
     "output_type": "stream",
     "text": [
      "请输入随机数范围的较小值，回车结束2\n",
      "请输入随机数范围的较大值，回车结束9\n",
      "请输入随机数个数，回车结束6\n",
      "6个随机整数均值的平方根为2.273030282830976\n"
     ]
    }
   ],
   "source": [
    "#练习 1：写函数，求n个随机整数均值的平方根，整数范围在m与k之间（n,m,k由用户输入）。\n",
    "import random, math\n",
    "\n",
    "def (n,m,k):\n",
    "    sum=0\n",
    "    i=0\n",
    "    while i<n:\n",
    "        sum+=random.randint(m, k)\n",
    "        i+=1\n",
    "    ave = sum/n\n",
    "    return math.sqrt(ave)\n",
    "\n",
    "m = int(input(\"请输入随机整数范围的较小值，回车结束\"))\n",
    "k = int(input(\"请输入随机整数范围的较大值，回车结束\"))\n",
    "n = int(input(\"请输入随机整数个数，回车结束\"))\n",
    "\n",
    "print(str(n)+\"个随机整数均值的平方根为\"+str(csqrt(n,m,k)))"
   ]
  },
  {
   "cell_type": "code",
   "execution_count": 8,
   "metadata": {},
   "outputs": [
    {
     "name": "stdout",
     "output_type": "stream",
     "text": [
      "请输入随机整数范围的较小值，回车结束1\n",
      "请输入随机整数范围的较大值，回车结束6\n",
      "请输入随机整数个数，回车结束3\n",
      "3个随机整数∑log = 2.0794415416798357\n",
      "3个随机整数∑1/log = 2.1896973736225664\n"
     ]
    }
   ],
   "source": [
    "#练习 2：写函数，共n个随机整数，整数范围在m与k之间，（n,m,k由用户输入）。求1：西格玛log(随机整数)，2：西格玛1/log(随机整数)\n",
    "import random, math\n",
    "\n",
    "def log(n,m,k):\n",
    "    sum=0\n",
    "    i=0\n",
    "    while i<n :\n",
    "        sum+=math.log(random.randint(m,k))\n",
    "        i+=1\n",
    "    return sum\n",
    "\n",
    "def elog(n,m,k):\n",
    "    sum=0\n",
    "    i=0\n",
    "    while i<n :\n",
    "        sum+=1/math.log(random.randint(m,k))\n",
    "        i+=1\n",
    "    return sum\n",
    "\n",
    "m = int(input(\"请输入随机整数范围的较小值，回车结束\"))\n",
    "k = int(input(\"请输入随机整数范围的较大值，回车结束\"))\n",
    "n = int(input(\"请输入随机整数个数，回车结束\"))\n",
    "\n",
    "print(str(n)+\"个随机整数∑log = \"+str(log(n,m,k)))\n",
    "\n",
    "print(str(n)+\"个随机整数∑1/log = \"+str(elog(n,m,k)))"
   ]
  },
  {
   "cell_type": "code",
   "execution_count": null,
   "metadata": {
    "collapsed": true
   },
   "outputs": [],
   "source": []
  }
 ],
 "metadata": {
  "kernelspec": {
   "display_name": "Python 3",
   "language": "python",
   "name": "python3"
  },
  "language_info": {
   "codemirror_mode": {
    "name": "ipython",
    "version": 3
   },
   "file_extension": ".py",
   "mimetype": "text/x-python",
   "name": "python",
   "nbconvert_exporter": "python",
   "pygments_lexer": "ipython3",
   "version": "3.6.2"
  }
 },
 "nbformat": 4,
 "nbformat_minor": 2
}
