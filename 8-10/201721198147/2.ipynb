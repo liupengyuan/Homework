
# coding: utf-8

# In[1]:


n = int(input('请输入一个正整数，以回车结束。'))

i = 0
factory = 1

while i < n:
    i = i + 1
    factory = factory * i
    
print(factory)


# In[2]:


n=int(input('请输入任意数字'))
sum=0
i=0

while i<n:
    m=int(input('请输入一个整数'))
    sum=sum+m
    i=i+1
print('n个数的和是:',sum)


# In[ ]:


i=1
while i>0:
    n=input('输入任意数字')
    print(n)
    i=i+1


# In[ ]:


sum=0
factory=1
i=1

while  sum-1 > i or factory < 500:
   
    sum+=i
    factory*=i
    print("sum="+str(sum-1))
    print("factory="+str(mul))
    i=int(input("请输入数字"))

