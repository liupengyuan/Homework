{
 "cells": [
  {
   "cell_type": "code",
   "execution_count": 2,
   "metadata": {},
   "outputs": [
    {
     "name": "stdout",
     "output_type": "stream",
     "text": [
      "请输入您要输入的数字的个数： 6\n",
      "请输入一个数字： 2\n",
      "请输入一个数字： 3\n",
      "请输入一个数字： 5\n",
      "请输入一个数字： 1\n",
      "请输入一个数字： 3\n",
      "请输入一个数字： 4\n",
      "他们的和是： 18\n"
     ]
    }
   ],
   "source": [
    "#返回list中所有数的和\n",
    "list = []\n",
    "n = int(input(\"请输入您要输入的数字的个数： \"))\n",
    "\n",
    "i = 0\n",
    "while i < n:\n",
    "    number = int(input(\"请输入一个数字： \"))\n",
    "    list.append(number)\n",
    "    i += 1\n",
    "\n",
    "def total():\n",
    "    total = 0\n",
    "    for number in list:\n",
    "        total+= number\n",
    "    return total\n",
    "\n",
    "print (\"他们的和是：\",total())"
   ]
  },
  {
   "cell_type": "code",
   "execution_count": 7,
   "metadata": {},
   "outputs": [
    {
     "name": "stdout",
     "output_type": "stream",
     "text": [
      "请输入一个数字，表示将要输入的数字个数：4\n",
      "请输入一个数字：1\n",
      "请输入一个数字：3\n",
      "请输入一个数字：5\n",
      "请输入一个数字：7\n",
      "1\n",
      "3\n",
      "5\n",
      "7\n",
      "他们中的最小值是： 1\n"
     ]
    }
   ],
   "source": [
    "#： 写函数，返回一个list中的最小值\n",
    "list = []\n",
    "n = int(input(\"请输入一个数字，表示将要输入的数字个数：\"))\n",
    "\n",
    "i = 0\n",
    "while i < n:\n",
    "    num = int(input(\"请输入一个数字：\"))\n",
    "    list.append(num)\n",
    "    i +=1\n",
    "\n",
    "def min():\n",
    "    for i in range(n):\n",
    "        min=list[0]\n",
    "        print (list[i])\n",
    "        if list[i]<min:\n",
    "            min = list[i]\n",
    "    return min\n",
    "\n",
    "print(\"他们中的最小值是：\",min())"
   ]
  },
  {
   "cell_type": "code",
   "execution_count": null,
   "metadata": {
    "collapsed": true
   },
   "outputs": [],
   "source": []
  }
 ],
 "metadata": {
  "kernelspec": {
   "display_name": "Python 3",
   "language": "python",
   "name": "python3"
  },
  "language_info": {
   "codemirror_mode": {
    "name": "ipython",
    "version": 3
   },
   "file_extension": ".py",
   "mimetype": "text/x-python",
   "name": "python",
   "nbconvert_exporter": "python",
   "pygments_lexer": "ipython3",
   "version": "3.6.2"
  }
 },
 "nbformat": 4,
 "nbformat_minor": 2
}
