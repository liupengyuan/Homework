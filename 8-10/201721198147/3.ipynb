
# coding: utf-8

# In[23]:


m=int(input('输入任意数字'))
n=int(input('输入任意数字'))
while n==0:
    n=int(input("请输入整数n（n不为0）="))
t=int(input('选择操作 1：m到n的和 2：m到n的积 3：m除以n的余数'))
print('选择为',t)
if t==1:
    if m-n>0:
        i=n
        sum=0
        while i<=m:
        sum+=i
        i+=1
    else：
        i=m
        sum=0
        while i<=n:
            sum+=i
            i+=1
    print('m到n的和为',sum)

elif t=2:
    if m-n>0:
        i=n
        factory=1
        while i<=m:
            factory*=i
            i+=1
    else:
        i=m
        factory=1
        while i<=n:


# In[11]:


word= input("请输入一个英文名词（单数形式）")

if word.endswith('s') or word.endswith('sh') or word.endswith('ch') or word.endswith('x') :
    print(word+'es')
elif word.endswith('man'):
    print(word[0:-3]+'men')
elif word.endswith('child'):
    print(word+'ren')
elif word.endswith('y'):
    print(word[0:-1]+'ies')
else:
    print(word+'s')

