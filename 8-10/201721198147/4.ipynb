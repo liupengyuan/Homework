{
 "cells": [
  {
   "cell_type": "code",
   "execution_count": 10,
   "metadata": {},
   "outputs": [
    {
     "name": "stdout",
     "output_type": "stream",
     "text": [
      "请输入第1个正整数，以回车结束。4\n",
      "请输入第2个正整数，以回车结束。4\n",
      "请输入第3个正整数，以回车结束。4\n",
      "最终的和是： 72\n"
     ]
    }
   ],
   "source": [
    "def compute_factory(end):\n",
    "    i = 0\n",
    "    total_n = 1\n",
    "    while i < end:\n",
    "        i = i + 1\n",
    "        total_n = total_n * i\n",
    "    return total_n\n",
    "m = int(input('请输入第1个正整数，以回车结束。'))\n",
    "n = int(input('请输入第2个正整数，以回车结束。'))\n",
    "k = int(input('请输入第3个正整数，以回车结束。'))\n",
    "\n",
    "print('最终的和是：', compute_factory(m) + compute_factory(n) + compute_factory(k))\n"
   ]
  },
  {
   "cell_type": "code",
   "execution_count": 43,
   "metadata": {},
   "outputs": [
    {
     "name": "stdout",
     "output_type": "stream",
     "text": [
      "3.140592653839794\n",
      "3.1414926535900345\n"
     ]
    }
   ],
   "source": [
    "#写函数可返回1 - 1/3 + 1/5 - 1/7...的前n项的和。在主程序中，分别令n=1000及100000，打印4倍该函数的和。\n",
    "def compute_sum(n):\n",
    "    i=1\n",
    "    total_n=0\n",
    "    \n",
    "    while i<=n:\n",
    "        total_n+=1/(2*i-1)*((-1)**(i+1))\n",
    "        i+=1\n",
    "        \n",
    "    return total_n\n",
    "        \n",
    "\n",
    "print(compute_sum(1000)*4)\n",
    "print(compute_sum(10000)*4)        "
   ]
  },
  {
   "cell_type": "code",
   "execution_count": 55,
   "metadata": {},
   "outputs": [
    {
     "ename": "SyntaxError",
     "evalue": "invalid syntax (<ipython-input-55-e8b238d632f3>, line 6)",
     "output_type": "error",
     "traceback": [
      "\u001b[1;36m  File \u001b[1;32m\"<ipython-input-55-e8b238d632f3>\"\u001b[1;36m, line \u001b[1;32m6\u001b[0m\n\u001b[1;33m    return i=(-1)/(2*i-1)\u001b[0m\n\u001b[1;37m            ^\u001b[0m\n\u001b[1;31mSyntaxError\u001b[0m\u001b[1;31m:\u001b[0m invalid syntax\n"
     ]
    }
   ],
   "source": [
    "#写函数可返回1 - 1/3 + 1/5 - 1/7...的前n项的和。在主程序中，分别令n=1000及100000，打印4倍该函数的和。\n",
    "def compute_sum(n):\n",
    "    i=1\n",
    "    total_n=0\n",
    "    if i%2==0:\n",
    "        return i=(-1)/(2*i-1)\n",
    "    else:\n",
    "        return i=1/(2*i-1)\n",
    "    total_n=total_n+i\n",
    "    i=i+1\n",
    "    return total_n\n",
    "print(compute_sum(1000)*4)\n",
    "print(compute_sum(10000)*4)"
   ]
  },
  {
   "cell_type": "code",
   "execution_count": 50,
   "metadata": {},
   "outputs": [
    {
     "name": "stdout",
     "output_type": "stream",
     "text": [
      "请输入姓名zby\n",
      "请输入出生月份和日期3.1\n",
      "zby, 你是个非常有性格的双鱼座!\n"
     ]
    }
   ],
   "source": [
    "#练习 3：将task3中的练习1及练习4改写为函数，并进行调用。\n",
    "def xingzuo(date):\n",
    "    i=int(date)\n",
    "    if i>=1.21 and i<=2.19:\n",
    "        return \"水瓶座\"\n",
    "    if i>=2.20 and i<=3.20:\n",
    "        return \"双鱼座\"\n",
    "    if i>=3.21 and i<=4.20:\n",
    "        return \"白羊座\"\n",
    "    if i>=4.21 and i<=5.21:\n",
    "        return \"金牛座\"\n",
    "    if i>=5.22 and i<=6.21:\n",
    "        return \"双子座\"\n",
    "    if i>=6.22 and i<=7.22:\n",
    "        return \"巨蟹座\"\n",
    "    if i>=7.23 and i<=8.22:\n",
    "        return \"狮子座\"\n",
    "    if i>=8.23 and i<=9.23:\n",
    "        return \"处女座\"\n",
    "    if i>=9.24 and i<=10.23:\n",
    "        return \"天秤座\"\n",
    "    if i>=10.24 and i<=11.22:\n",
    "        return \"天蝎座\"\n",
    "    if i>=11.23 and i<=12.21:\n",
    "        return \"射手座\"\n",
    "    else:\n",
    "        return \"摩羯座\"\n",
    "    \n",
    "name = input(\"请输入姓名\")\n",
    "date = float(input(\"请输入出生月份和日期\"))\n",
    "\n",
    "print(name+\", 你是个非常有性格的\"+xingzuo(date)+\"!\")"
   ]
  },
  {
   "cell_type": "code",
   "execution_count": 53,
   "metadata": {},
   "outputs": [
    {
     "name": "stdout",
     "output_type": "stream",
     "text": [
      "请输入一个英文名词（单数形式）child\n",
      "children\n"
     ]
    }
   ],
   "source": [
    "def fushu(word):\n",
    "\n",
    "    if word.endswith('s') or word.endswith('sh') or word.endswith('ch') or word.endswith('x') :\n",
    "        print(word+'es')\n",
    "    elif word.endswith('man'):\n",
    "        print(word[0:-3]+'men')\n",
    "    elif word.endswith('child'):\n",
    "        print(word+'ren')\n",
    "    elif word.endswith('y'):\n",
    "        print(word[0:-1]+'ies')\n",
    "    else: \n",
    "        print(word+'s')\n",
    "\n",
    "word= input(\"请输入一个英文名词（单数形式）\")   \n",
    "fushu(word)\n"
   ]
  },
  {
   "cell_type": "code",
   "execution_count": null,
   "metadata": {
    "collapsed": true
   },
   "outputs": [],
   "source": []
  }
 ],
 "metadata": {
  "kernelspec": {
   "display_name": "Python 3",
   "language": "python",
   "name": "python3"
  },
  "language_info": {
   "codemirror_mode": {
    "name": "ipython",
    "version": 3
   },
   "file_extension": ".py",
   "mimetype": "text/x-python",
   "name": "python",
   "nbconvert_exporter": "python",
   "pygments_lexer": "ipython3",
   "version": "3.6.2"
  }
 },
 "nbformat": 4,
 "nbformat_minor": 2
}
