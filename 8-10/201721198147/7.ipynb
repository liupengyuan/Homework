{
 "cells": [
  {
   "cell_type": "code",
   "execution_count": 2,
   "metadata": {},
   "outputs": [
    {
     "name": "stdout",
     "output_type": "stream",
     "text": [
      "院学学科息信学大言语京北\n"
     ]
    }
   ],
   "source": [
    "#自己定义一个reverse(s)函数，功能返回字符串s的倒序字符串。\n",
    "reserve='北京语言大学信息科学学院'\n",
    "s=reserve\n",
    "print(s[::-1])\n"
   ]
  },
  {
   "cell_type": "code",
   "execution_count": 11,
   "metadata": {},
   "outputs": [
    {
     "name": "stdout",
     "output_type": "stream",
     "text": [
      "直角三角形\n",
      "@\n",
      "@@\n",
      "@@@\n",
      "@@@@\n",
      "@@@@@\n",
      "@@@@@@\n",
      "等腰三角形\n",
      "      @\n",
      "     @@@\n",
      "    @@@@@\n",
      "   @@@@@@@\n",
      "  @@@@@@@@@\n",
      " @@@@@@@@@@@\n",
      "其他三角形\n",
      "*\n",
      "**\n",
      "***\n",
      "****\n",
      "*****\n",
      "******\n",
      "*****\n",
      "****\n",
      "***\n",
      "**\n",
      "*\n"
     ]
    }
   ],
   "source": [
    "#写函数，根据给定符号和行数，打印相应直角三角形，等腰三角形及其他形式的三角形。\n",
    "\n",
    "\n",
    "def zhijiao_triangle(j,line):\n",
    "    for i in range(1,line+1):\n",
    "        print(j*i)\n",
    "def dengyao_triangle(j,line):\n",
    "    for i in range(0,line):\n",
    "        if i==0:\n",
    "            print(' '*(line-i)+j)\n",
    "        else:\n",
    "            print(' '*(line-i)+j*i*2+j)\n",
    "def other_triangle(j,line):\n",
    "    for i in range(1,line):\n",
    "        print(j*i)\n",
    "    for i in range(line,0,-1):\n",
    "        print(j*i) \n",
    "print(\"直角三角形\")\n",
    "zhijiao_triangle('@',6)\n",
    "print(\"等腰三角形\")\n",
    "dengyao_triangle('@',6)\n",
    "print(\"其他三角形\")\n",
    "other_triangle('*',6)"
   ]
  },
  {
   "cell_type": "code",
   "execution_count": 15,
   "metadata": {},
   "outputs": [
    {
     "name": "stdout",
     "output_type": "stream",
     "text": [
      "菱形1\n",
      "     @@\n",
      "    @@@@\n",
      "   @@@@@@\n",
      "  @@@@@@@@\n",
      " @@@@@@@@@@\n",
      "@@@@@@@@@@@@\n",
      "@@@@@@@@@@@@\n",
      " @@@@@@@@@@\n",
      "  @@@@@@@@\n",
      "   @@@@@@\n",
      "    @@@@\n",
      "     @@\n",
      "\n"
     ]
    }
   ],
   "source": [
    "#写函数，根据给定符号，打印各种菱形。\n",
    "def lingxing1(j,line):\n",
    "    for i in range(1, line+1):\n",
    "        print((line-i)*' ' + j*i,end='')\n",
    "        print()\n",
    "    for i in range(line,0,-1):\n",
    "        print((line-i)*' ' + j*i,end='')\n",
    "        print()\n",
    "    print()\n",
    "    return\n",
    "print(\"菱形1\")\n",
    "lingxing1('@@',6)\n",
    "\n"
   ]
  },
  {
   "cell_type": "code",
   "execution_count": null,
   "metadata": {
    "collapsed": true
   },
   "outputs": [],
   "source": []
  }
 ],
 "metadata": {
  "kernelspec": {
   "display_name": "Python 3",
   "language": "python",
   "name": "python3"
  },
  "language_info": {
   "codemirror_mode": {
    "name": "ipython",
    "version": 3
   },
   "file_extension": ".py",
   "mimetype": "text/x-python",
   "name": "python",
   "nbconvert_exporter": "python",
   "pygments_lexer": "ipython3",
   "version": "3.6.2"
  }
 },
 "nbformat": 4,
 "nbformat_minor": 2
}
