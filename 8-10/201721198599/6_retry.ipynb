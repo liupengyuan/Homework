{
 "cells": [
  {
   "cell_type": "code",
   "execution_count": 4,
   "metadata": {
    "collapsed": true
   },
   "outputs": [],
   "source": [
    "#1.写函数，返回一个list中所有数字的和\n",
    "def sum(a):\n",
    "    s=0\n",
    "    len_a=len(a)\n",
    "    for i in range(len_a):\n",
    "        if str(a[i]).isdigit():\n",
    "            s+=a[i]\n",
    "    return s"
   ]
  },
  {
   "cell_type": "code",
   "execution_count": 7,
   "metadata": {
    "collapsed": false
   },
   "outputs": [
    {
     "name": "stdout",
     "output_type": "stream",
     "text": [
      "list中所有数字的和为： 10\n"
     ]
    }
   ],
   "source": [
    "list_a=[1,2,3,4]\n",
    "print(\"list中所有数字的和为：\",sum(list_a))"
   ]
  },
  {
   "cell_type": "code",
   "execution_count": 8,
   "metadata": {
    "collapsed": true
   },
   "outputs": [],
   "source": [
    "#2.写函数，返回一个list中的最小值\n",
    "def min(a):\n",
    "    min=a[0]\n",
    "    len_a=len(a)\n",
    "    for i in range(len_a):\n",
    "        if a[i]<min:\n",
    "            min=a[i]\n",
    "    return min\n"
   ]
  },
  {
   "cell_type": "code",
   "execution_count": 9,
   "metadata": {
    "collapsed": false
   },
   "outputs": [
    {
     "name": "stdout",
     "output_type": "stream",
     "text": [
      "list中最小值为： 1\n"
     ]
    }
   ],
   "source": [
    "list_a=[1,2,3,4]\n",
    "print(\"list中最小值为：\",min(list_a))"
   ]
  },
  {
   "cell_type": "code",
   "execution_count": 10,
   "metadata": {
    "collapsed": true
   },
   "outputs": [],
   "source": [
    "#3.写函数，返回某个元素/对象在一个list中的位置，如果不在，则返回-1.\n",
    "def search(a,b):\n",
    "    len_a=len(a)\n",
    "    for i in range(len_a):\n",
    "        if a[i]==b:\n",
    "            return i\n",
    "        else:\n",
    "            return -1\n",
    "    "
   ]
  },
  {
   "cell_type": "code",
   "execution_count": 11,
   "metadata": {
    "collapsed": false
   },
   "outputs": [
    {
     "name": "stdout",
     "output_type": "stream",
     "text": [
      "1在list中的位置为： 0\n"
     ]
    }
   ],
   "source": [
    "list_a=[1,2,3,4]\n",
    "print(\"1在list中的位置为：\",search(list_a,1))"
   ]
  },
  {
   "cell_type": "code",
   "execution_count": 16,
   "metadata": {
    "collapsed": false
   },
   "outputs": [],
   "source": [
    "#4.写函数，可求两个向量的夹角余弦值，向量可放在list中。主程序调用该函数。\n",
    "def cos_Value(x,y):\n",
    "    if(len(x)!=len(y)):\n",
    "        print('x,y维数不一致！')\n",
    "        return;\n",
    "    result1=0;\n",
    "    result2=0;\n",
    "    result3=0;\n",
    "    for i in range(len(x)):\n",
    "        result1+=x[i]*y[i]   \n",
    "        result2+=x[i]**2     \n",
    "        result3+=y[i]**2     \n",
    "    result=result1/((result2*result3)**0.5)\n",
    "    return result    "
   ]
  },
  {
   "cell_type": "code",
   "execution_count": 19,
   "metadata": {
    "collapsed": false
   },
   "outputs": [
    {
     "name": "stdout",
     "output_type": "stream",
     "text": [
      "两个向量的夹角余弦值为：  0.9486832980505138\n"
     ]
    }
   ],
   "source": [
    "print(\"两个向量的夹角余弦值为： \",cos_Value([2,1],[1,1]))"
   ]
  },
  {
   "cell_type": "code",
   "execution_count": 23,
   "metadata": {
    "collapsed": false
   },
   "outputs": [
    {
     "name": "stdout",
     "output_type": "stream",
     "text": [
      "3741\n"
     ]
    }
   ],
   "source": [
    "#5.挑战性习题：python语言老师为了激励学生学python，自费买了100个完全相同的Macbook Pro，\n",
    "#分给三个班级，每个班级至少分5个，用穷举法计算共有多少种分法?\n",
    "count=0\n",
    "for i in range(5,100):\n",
    "    for j in range(5,100):\n",
    "        for k in range(5,100):\n",
    "            if i+j+k==100:\n",
    "                #print(i,j,k)\n",
    "                count+=1\n",
    "print(count)             "
   ]
  },
  {
   "cell_type": "code",
   "execution_count": null,
   "metadata": {
    "collapsed": true
   },
   "outputs": [],
   "source": []
  }
 ],
 "metadata": {
  "kernelspec": {
   "display_name": "Python 3",
   "language": "python",
   "name": "python3"
  },
  "language_info": {
   "codemirror_mode": {
    "name": "ipython",
    "version": 3
   },
   "file_extension": ".py",
   "mimetype": "text/x-python",
   "name": "python",
   "nbconvert_exporter": "python",
   "pygments_lexer": "ipython3",
   "version": "3.6.0"
  }
 },
 "nbformat": 4,
 "nbformat_minor": 2
}
