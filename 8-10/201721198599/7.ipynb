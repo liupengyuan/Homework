{
 "cells": [
  {
   "cell_type": "code",
   "execution_count": 31,
   "metadata": {
    "collapsed": false
   },
   "outputs": [
    {
     "data": {
      "text/plain": [
       "'gfedcba'"
      ]
     },
     "execution_count": 31,
     "metadata": {},
     "output_type": "execute_result"
    }
   ],
   "source": [
    "#练习一：自己定义一个reverse(s)函数，功能返回字符串s的倒序字符串。\n",
    "def reverse(s):\n",
    "    revStr=[]\n",
    "    for i in range(len(s)-1,-1,-1):\n",
    "        #print(s[i])\n",
    "        revStr.append(s[i])   \n",
    "    return ''.join(revStr)\n",
    "s=\"abcdefg\"\n",
    "reverse(s)"
   ]
  },
  {
   "cell_type": "code",
   "execution_count": 20,
   "metadata": {
    "collapsed": false
   },
   "outputs": [
    {
     "name": "stdout",
     "output_type": "stream",
     "text": [
      "输入符号#\n",
      "输入打印行数5\n",
      "直角三角形：\n",
      "#\n",
      "##\n",
      "###\n",
      "####\n",
      "#####\n",
      "等腰三角形：\n",
      "    #\n",
      "   ###\n",
      "  #####\n",
      " #######\n",
      "#########\n"
     ]
    }
   ],
   "source": [
    "#练习二：写函数，根据给定符号和行数，打印相应直角三角形，等腰三角形及其他形式的三角形。\n",
    "def Rtriangle(symbol,count):#直角三角形\n",
    "    for i in range(count):\n",
    "        print(symbol*(i+1))\n",
    "    return\n",
    "def ITriangle(symbol,count):#等腰三角形\n",
    "    for i in range(count):\n",
    "        print(\" \"*(count-i-1)+symbol*(2*i+1))\n",
    "    return\n",
    "symbol=input(\"输入符号\")\n",
    "line=int(input(\"输入打印行数\"))\n",
    "print(\"直角三角形：\")\n",
    "RightAngledTriangle(symbol,line)\n",
    "print(\"等腰三角形：\")\n",
    "IsoscelesTriangle(symbol,line)"
   ]
  },
  {
   "cell_type": "code",
   "execution_count": 37,
   "metadata": {
    "collapsed": false
   },
   "outputs": [
    {
     "name": "stdout",
     "output_type": "stream",
     "text": [
      "    *    \n",
      "   ***   \n",
      "  *****  \n",
      "   ***   \n",
      "    *    \n"
     ]
    }
   ],
   "source": [
    "def diamond(symbol,line):\n",
    "    for i in range(1,int((line-1)/2)+2):\n",
    "        print(' '*(line-i)+symbol*(2*i-1)+' '*(line-i))\n",
    "    for i in range(1,int((line-1)/2)+1)[::-1]:\n",
    "        print(' '*(line-i)+symbol*(2*i-1)+' '*(line-i))      \n",
    "diamond(\"*\",5)"
   ]
  },
  {
   "cell_type": "code",
   "execution_count": null,
   "metadata": {
    "collapsed": true
   },
   "outputs": [],
   "source": []
  }
 ],
 "metadata": {
  "kernelspec": {
   "display_name": "Python 3",
   "language": "python",
   "name": "python3"
  },
  "language_info": {
   "codemirror_mode": {
    "name": "ipython",
    "version": 3
   },
   "file_extension": ".py",
   "mimetype": "text/x-python",
   "name": "python",
   "nbconvert_exporter": "python",
   "pygments_lexer": "ipython3",
   "version": "3.6.0"
  }
 },
 "nbformat": 4,
 "nbformat_minor": 2
}
