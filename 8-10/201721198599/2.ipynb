{
 "cells": [
  {
   "cell_type": "code",
   "execution_count": 4,
   "metadata": {
    "collapsed": false
   },
   "outputs": [
    {
     "name": "stdout",
     "output_type": "stream",
     "text": [
      "请输入一个正整数，以回车结束。3\n",
      "6\n"
     ]
    }
   ],
   "source": [
    "#练习1\n",
    "n = int(input('请输入一个正整数，以回车结束。'))\n",
    "i = 0\n",
    "total = 1\n",
    "while i < n:\n",
    "    i = i + 1\n",
    "    total = total * i \n",
    "print(total)"
   ]
  },
  {
   "cell_type": "code",
   "execution_count": 1,
   "metadata": {
    "collapsed": false,
    "scrolled": true
   },
   "outputs": [
    {
     "name": "stdout",
     "output_type": "stream",
     "text": [
      "请输入求和数字的总个数。3\n",
      "请输入n个数\n",
      "请输入数1\n",
      "请输入数2\n",
      "请输入数3\n",
      "6\n"
     ]
    }
   ],
   "source": [
    "#练习2\n",
    "n = int(input('请输入求和数字的总个数。'))\n",
    "sum=0\n",
    "i=0\n",
    "print(\"请输入n个数\")\n",
    "while(i<n):\n",
    "    m=int(input('请输入数'))\n",
    "    sum+=m\n",
    "    i+=1\n",
    "print(sum)"
   ]
  },
  {
   "cell_type": "code",
   "execution_count": null,
   "metadata": {
    "collapsed": false
   },
   "outputs": [
    {
     "name": "stdout",
     "output_type": "stream",
     "text": [
      "请输入任意数字，不想输入按tab键退出\n",
      "1\n",
      "2\n"
     ]
    }
   ],
   "source": [
    "#练习3\n",
    "print(\"请输入任意数字，不想输入按tab键退出\")\n",
    "while(True):   \n",
    "    m=input()\n",
    "    if m==\"\\t\":\n",
    "        break\n",
    "   \n"
   ]
  },
  {
   "cell_type": "code",
   "execution_count": 1,
   "metadata": {
    "collapsed": false
   },
   "outputs": [
    {
     "name": "stdout",
     "output_type": "stream",
     "text": [
      "请输入任意数字，直到输入所有数字的和比当前输入数字小，且输入所有数字的积比当前输入数字的平方大。\n",
      "-1\n",
      "-2\n",
      "1\n"
     ]
    }
   ],
   "source": [
    "#练习4\n",
    "print(\"请输入任意数字，直到输入所有数字的和比当前输入数字小，且输入所有数字的积比当前输入数字的平方大。\")\n",
    "sum=0\n",
    "product=1\n",
    "m=int(input())\n",
    "while(True):     \n",
    "    sum+=m\n",
    "    product*=m\n",
    "    m=int(input())\n",
    "    if sum<m and product>m**2:\n",
    "        break"
   ]
  },
  {
   "cell_type": "code",
   "execution_count": 2,
   "metadata": {
    "collapsed": false
   },
   "outputs": [
    {
     "ename": "ModuleNotFoundError",
     "evalue": "No module named 'extract'",
     "output_type": "error",
     "traceback": [
      "\u001b[0;31m---------------------------------------------------------------------------\u001b[0m",
      "\u001b[0;31mModuleNotFoundError\u001b[0m                       Traceback (most recent call last)",
      "\u001b[0;32m<ipython-input-2-00ca701cfae4>\u001b[0m in \u001b[0;36m<module>\u001b[0;34m()\u001b[0m\n\u001b[0;32m----> 1\u001b[0;31m \u001b[1;32mfrom\u001b[0m \u001b[0mextract\u001b[0m \u001b[1;32mimport\u001b[0m \u001b[0mextract\u001b[0m\u001b[1;33m\u001b[0m\u001b[0m\n\u001b[0m",
      "\u001b[0;31mModuleNotFoundError\u001b[0m: No module named 'extract'"
     ]
    }
   ],
   "source": [
    "from extract import extract"
   ]
  },
  {
   "cell_type": "code",
   "execution_count": null,
   "metadata": {
    "collapsed": true
   },
   "outputs": [],
   "source": []
  }
 ],
 "metadata": {
  "kernelspec": {
   "display_name": "Python 3",
   "language": "python",
   "name": "python3"
  },
  "language_info": {
   "codemirror_mode": {
    "name": "ipython",
    "version": 3
   },
   "file_extension": ".py",
   "mimetype": "text/x-python",
   "name": "python",
   "nbconvert_exporter": "python",
   "pygments_lexer": "ipython3",
   "version": "3.6.0"
  }
 },
 "nbformat": 4,
 "nbformat_minor": 2
}
