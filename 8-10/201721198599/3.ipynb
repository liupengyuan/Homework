{
 "cells": [
  {
   "cell_type": "code",
   "execution_count": 12,
   "metadata": {
    "collapsed": false
   },
   "outputs": [],
   "source": [
    "#练习1\n",
    "import time\n",
    "def zodiac(month, day):  \n",
    "    zodiac_map = {  \n",
    "        u'白羊座':[(3,21), (4,20)],  \n",
    "        u'金牛座':[(4,21), (5,20)],  \n",
    "        u'双子座':[(5,21), (6,21)],  \n",
    "        u'巨蟹座':[(6,22), (7,22)],  \n",
    "        u'狮子座':[(7,23), (8,22)],  \n",
    "        u'处女座':[(8,23), (9,22)],  \n",
    "        u'天秤座':[(9,23), (10,22)],  \n",
    "        u'天蝎座':[(10,23), (11,21)],  \n",
    "        u'射手座':[(11,23), (12,22)],  \n",
    "        u'水瓶座':[(1,20), (2,18)],  \n",
    "        u'双鱼座':[(2,19), (3,20)]  \n",
    "    }  \n",
    "    for k,v in zodiac_map.items():  \n",
    "        if v[0] <= (month,day) <= v[1]:  \n",
    "            return k\n",
    "        if (month,day) >= (12,22) or (month,day) <= (1,19):  \n",
    "            return u'摩羯座'"
   ]
  },
  {
   "cell_type": "code",
   "execution_count": 15,
   "metadata": {
    "collapsed": false
   },
   "outputs": [
    {
     "name": "stdout",
     "output_type": "stream",
     "text": [
      "请输入你的名字lmy\n",
      "请输入你生日月份7\n",
      "请输入你生日日期22\n",
      "lmy,你是非常有性格的巨蟹座\n"
     ]
    }
   ],
   "source": [
    "name=str(input(\"请输入你的名字\"))\n",
    "month=int(input(\"请输入你生日月份\"))\n",
    "day=int(input(\"请输入你生日日期\"))\n",
    "zodiac=zodiac(month,day)\n",
    "print(name+\",\"+\"你是非常有性格的\"+zodiac+\"!\")"
   ]
  },
  {
   "cell_type": "code",
   "execution_count": 2,
   "metadata": {
    "collapsed": false
   },
   "outputs": [
    {
     "name": "stdout",
     "output_type": "stream",
     "text": [
      "请输入任意整数：3\n",
      "请输入任意不为0的整数：5\n",
      "请输入您要进行的操作，如输入+-/*%+\n",
      "12\n"
     ]
    }
   ],
   "source": [
    "#练习2 \n",
    "#写程序，可由键盘读入两个整数m与n(n不等于0)，询问用户意图，如果要求和则计算从m到n的和输出，\n",
    "#如果要乘积则计算从m到n的积并输出，如果要求余数则计算m除以n的余数的值并输出，否则则计算m整除n的值并输出。\n",
    "m=int(input(\"请输入任意整数：\"))\n",
    "n=int(input(\"请输入任意不为0的整数：\"))\n",
    "result=0\n",
    "op=input(\"请输入您要进行的操作，如输入+-/*%\")\n",
    "if m>n:\n",
    "    max=m\n",
    "    min=n\n",
    "else:\n",
    "    max=n\n",
    "    min=m\n",
    "#max=m>n?m:n\n",
    "#min=m<n?m:n\n",
    "if op==\"+\":\n",
    "    for i in range(min,max+1):\n",
    "        result+=i\n",
    "elif op==\"-\":\n",
    "    for i in range(min,max+1):\n",
    "        result-=i  \n",
    "elif op==\"*\":\n",
    "    for i in range(min,max+1):\n",
    "        result*=i  \n",
    "elif op==\"/\":\n",
    "    result=m/n  \n",
    "elif op==\"%\":\n",
    "    result=m%n\n",
    "print(result)\n",
    "    "
   ]
  },
  {
   "cell_type": "code",
   "execution_count": 13,
   "metadata": {
    "collapsed": false
   },
   "outputs": [
    {
     "name": "stdout",
     "output_type": "stream",
     "text": [
      "请输入单数形式的英文名词leaf\n",
      "leaves\n"
     ]
    }
   ],
   "source": [
    "#练习4\n",
    "word=input(\"请输入单数形式的英文名词\")\n",
    "if word.endswith('ch') and word.endswith('sh') and word.endswith('th') and word.endswith('s')and word.endswith('x'):\n",
    "    word=word+\"es\"\n",
    "elif word.endswith('y'):\n",
    "    word=''.join(list(word)[:-1])+\"ies\"\n",
    "elif word.endswith('f') or word.endswith('fe'):\n",
    "    if word.endswith('f'):\n",
    "        word=''.join(list(word)[:-1])+\"ves\" \n",
    "    else:\n",
    "        word=''.join(list(word)[:-2])+\"ves\"\n",
    "elif word==\"hero\" or word==\"tomato\" or word==\"potato\" or word==\"zero\":\n",
    "    word=word+\"es\"\n",
    "else :\n",
    "    word=word+\"s\"\n",
    "print(word)\n"
   ]
  },
  {
   "cell_type": "code",
   "execution_count": null,
   "metadata": {
    "collapsed": false
   },
   "outputs": [],
   "source": []
  },
  {
   "cell_type": "code",
   "execution_count": null,
   "metadata": {
    "collapsed": true
   },
   "outputs": [],
   "source": []
  }
 ],
 "metadata": {
  "kernelspec": {
   "display_name": "Python 3",
   "language": "python",
   "name": "python3"
  },
  "language_info": {
   "codemirror_mode": {
    "name": "ipython",
    "version": 3
   },
   "file_extension": ".py",
   "mimetype": "text/x-python",
   "name": "python",
   "nbconvert_exporter": "python",
   "pygments_lexer": "ipython3",
   "version": "3.6.0"
  }
 },
 "nbformat": 4,
 "nbformat_minor": 2
}
