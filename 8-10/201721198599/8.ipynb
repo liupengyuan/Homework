{
 "cells": [
  {
   "cell_type": "code",
   "execution_count": 1,
   "metadata": {
    "collapsed": true
   },
   "outputs": [],
   "source": [
    "#题目：五言诗游戏和点字成诗机器人。\n",
    "#要求：给出“五言诗库”（大约100首），仿照教程中成语游戏的模式完成五言诗游戏和点字成诗的机器人。\n",
    "#有能力的同学根据“唐诗三百首”诗库进行游戏设计。"
   ]
  },
  {
   "cell_type": "code",
   "execution_count": 34,
   "metadata": {
    "collapsed": false
   },
   "outputs": [
    {
     "data": {
      "text/plain": [
       "'白云依静渚，春草闭闲门。'"
      ]
     },
     "execution_count": 34,
     "metadata": {},
     "output_type": "execute_result"
    }
   ],
   "source": [
    "#点字成诗\n",
    "fh = open(r'五言诗库.txt')\n",
    "poems = fh.read().split()\n",
    "fh.close()\n",
    "def find_poem_sentence(poems, characters):\n",
    "    same_character_number =0\n",
    "    same_character_lst=[]\n",
    "    for poem in poems:        \n",
    "        for ch in poem:\n",
    "            #print(ch)\n",
    "            if ch in characters:\n",
    "                #same_character_number.append(poem)\n",
    "                same_character_number+=1\n",
    "        if same_character_number==5:\n",
    "            return poem\n",
    "        else :\n",
    "            same_character_number=0\n",
    "                    \n",
    "    return None\n",
    "characters=[\"白\",\"云\",\"春\",\"草\",\"门\"]\n",
    "find_poem_sentence(poems, characters)"
   ]
  },
  {
   "cell_type": "code",
   "execution_count": null,
   "metadata": {
    "collapsed": false
   },
   "outputs": [],
   "source": [
    "import itertools\n",
    "import re\n",
    "text = ('孤','灯','寒','照','雨','深','竹','暗','浮','烟','落')\n",
    "guesses = itertools.permutations(text, 5)\n",
    "fh = open(r'五言诗库.txt')\n",
    "poems = fh.read().split('\\n')\n",
    "fh.close()\n",
    "guess=input('输如你猜的五言诗为：')\n",
    "for guess in guesses:\n",
    "    print(guess)\n",
    "    if ''.join(guess) in poems:\n",
    "        print('答案是：', guess)\n",
    "print('ops，you are wrong！')"
   ]
  },
  {
   "cell_type": "code",
   "execution_count": 29,
   "metadata": {
    "collapsed": false
   },
   "outputs": [
    {
     "name": "stdout",
     "output_type": "stream",
     "text": [
      "输入你猜的五言诗为：孤灯寒照雨\n",
      "答案是： ('孤', '灯', '寒', '照', '雨')\n",
      "你太棒了，猜对了\n"
     ]
    }
   ],
   "source": [
    "import itertools\n",
    "import re\n",
    "text = ('孤','灯','寒','照','雨','竹','暗','浮','烟','落')\n",
    "guesses = itertools.permutations(text, 5)\n",
    "fh = open(r'五言诗库.txt')\n",
    "fread= fh.read()\n",
    "freplace=fread.replace('\\n','')\n",
    "poems=re.split('，|。',freplace)\n",
    "fh.close()\n",
    "your_guess=input('输入你猜的五言诗为：')\n",
    "#print(guess)\n",
    "for guess in guesses:\n",
    "    #print(guess)\n",
    "    if ''.join(guess) in poems:\n",
    "        correct=''.join(guess)\n",
    "        print('答案是：', guess)\n",
    "if your_guess==correct:\n",
    "    print('你太棒了，猜对了')\n",
    "else:\n",
    "    print('别灰心，再来一次！')"
   ]
  },
  {
   "cell_type": "code",
   "execution_count": null,
   "metadata": {
    "collapsed": true
   },
   "outputs": [],
   "source": []
  }
 ],
 "metadata": {
  "kernelspec": {
   "display_name": "Python 3",
   "language": "python",
   "name": "python3"
  },
  "language_info": {
   "codemirror_mode": {
    "name": "ipython",
    "version": 3
   },
   "file_extension": ".py",
   "mimetype": "text/x-python",
   "name": "python",
   "nbconvert_exporter": "python",
   "pygments_lexer": "ipython3",
   "version": "3.6.0"
  }
 },
 "nbformat": 4,
 "nbformat_minor": 2
}
