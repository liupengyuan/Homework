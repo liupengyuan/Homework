{
 "cells": [
  {
   "cell_type": "code",
   "execution_count": 3,
   "metadata": {
    "collapsed": false
   },
   "outputs": [
    {
     "name": "stdout",
     "output_type": "stream",
     "text": [
      "1\n",
      "2\n",
      "1\n",
      "4\n"
     ]
    }
   ],
   "source": [
    "m=int(input())\n",
    "n=int(input())\n",
    "k=int(input())\n",
    "sum_1=1\n",
    "sum_2=1\n",
    "sum_3=1\n",
    "for i in range(1,m+1):\n",
    "    sum_1*=i\n",
    "for i in range(1,n+1):\n",
    "    sum_2*=i\n",
    "for i in range(1,k+1):\n",
    "    sum_3*=i\n",
    "print(sum_1+sum_2+sum_3)"
   ]
  },
  {
   "cell_type": "code",
   "execution_count": 8,
   "metadata": {
    "collapsed": false
   },
   "outputs": [
    {
     "name": "stdout",
     "output_type": "stream",
     "text": [
      "1000\n",
      "3.140592653839794\n"
     ]
    }
   ],
   "source": [
    "n=int(input())\n",
    "sum=0\n",
    "for i in range(1,n+1):\n",
    "    if i%2==0:\n",
    "        i=-1/(2*i-1)\n",
    "    else:\n",
    "        i=1/(2*i-1)\n",
    "    sum+=i\n",
    "print(4*sum)\n",
    "    "
   ]
  },
  {
   "cell_type": "code",
   "execution_count": 9,
   "metadata": {
    "collapsed": false
   },
   "outputs": [
    {
     "name": "stdout",
     "output_type": "stream",
     "text": [
      "100000\n",
      "3.1415826535897198\n"
     ]
    }
   ],
   "source": [
    "n=int(input())\n",
    "sum=0\n",
    "for i in range(1,n+1):\n",
    "    if i%2==0:\n",
    "        i=-1/(2*i-1)\n",
    "    else:\n",
    "        i=1/(2*i-1)\n",
    "    sum+=i\n",
    "print(4*sum)"
   ]
  },
  {
   "cell_type": "code",
   "execution_count": 10,
   "metadata": {
    "collapsed": true
   },
   "outputs": [],
   "source": [
    "import time\n",
    "def zodiac(month, day):  \n",
    "    zodiac_map = {  \n",
    "        u'白羊座':[(3,21), (4,20)],  \n",
    "        u'金牛座':[(4,21), (5,20)],  \n",
    "        u'双子座':[(5,21), (6,21)],  \n",
    "        u'巨蟹座':[(6,22), (7,22)],  \n",
    "        u'狮子座':[(7,23), (8,22)],  \n",
    "        u'处女座':[(8,23), (9,22)],  \n",
    "        u'天秤座':[(9,23), (10,22)],  \n",
    "        u'天蝎座':[(10,23), (11,21)],  \n",
    "        u'射手座':[(11,23), (12,22)],  \n",
    "        u'水瓶座':[(1,20), (2,18)],  \n",
    "        u'双鱼座':[(2,19), (3,20)]  \n",
    "    }  \n",
    "    for k,v in zodiac_map.items():  \n",
    "        if v[0] <= (month,day) <= v[1]:  \n",
    "            return k\n",
    "        if (month,day) >= (12,22) or (month,day) <= (1,19):  \n",
    "            return u'摩羯座'"
   ]
  },
  {
   "cell_type": "code",
   "execution_count": 11,
   "metadata": {
    "collapsed": false
   },
   "outputs": [
    {
     "name": "stdout",
     "output_type": "stream",
     "text": [
      "请输入你的名字lmy\n",
      "请输入你生日月份7\n",
      "请输入你生日日期22\n",
      "lmy,你是非常有性格的巨蟹座!\n"
     ]
    }
   ],
   "source": [
    "name=str(input(\"请输入你的名字\"))\n",
    "month=int(input(\"请输入你生日月份\"))\n",
    "day=int(input(\"请输入你生日日期\"))\n",
    "zodiac=zodiac(month,day)\n",
    "print(name+\",\"+\"你是非常有性格的\"+zodiac+\"!\")"
   ]
  },
  {
   "cell_type": "code",
   "execution_count": 64,
   "metadata": {
    "collapsed": true
   },
   "outputs": [],
   "source": [
    "def sum(m,n,k):\n",
    "    sum_1=0\n",
    "    for i in range(m,n,k):                \n",
    "        if i<n:\n",
    "            sum_1+=i\n",
    "        print(i)\n",
    "    return sum_1"
   ]
  },
  {
   "cell_type": "markdown",
   "metadata": {},
   "source": [
    "print(sum(1,10,2))"
   ]
  },
  {
   "cell_type": "code",
   "execution_count": 65,
   "metadata": {
    "collapsed": false
   },
   "outputs": [
    {
     "name": "stdout",
     "output_type": "stream",
     "text": [
      "1\n",
      "10\n",
      "2\n",
      "1\n",
      "3\n",
      "5\n",
      "7\n",
      "9\n",
      "25\n"
     ]
    }
   ],
   "source": [
    "m=int(input())\n",
    "n=int(input())\n",
    "k=int(input())\n",
    "print(sum(1,10,2))"
   ]
  },
  {
   "cell_type": "code",
   "execution_count": 78,
   "metadata": {
    "collapsed": true
   },
   "outputs": [],
   "source": [
    "import random\n",
    "import math\n",
    "def sqrt_sum(m,n,k):\n",
    "    sum=0\n",
    "    for i in range(n):\n",
    "        sum+=random.randint(m,k)\n",
    "    mean=sum/n\n",
    "    sqrt_sum=math.sqrt(mean)\n",
    "    return sqrt_sum"
   ]
  },
  {
   "cell_type": "code",
   "execution_count": 79,
   "metadata": {
    "collapsed": false
   },
   "outputs": [
    {
     "data": {
      "text/plain": [
       "2.345207879911715"
      ]
     },
     "execution_count": 79,
     "metadata": {},
     "output_type": "execute_result"
    }
   ],
   "source": [
    "sqrt_sum(1,2,10)"
   ]
  },
  {
   "cell_type": "code",
   "execution_count": 82,
   "metadata": {
    "collapsed": true
   },
   "outputs": [],
   "source": [
    "import random\n",
    "import math\n",
    "def log_sum(m,n,k):\n",
    "    sum=0\n",
    "    for i in range(n):\n",
    "        sum+=random.randint(m,k)\n",
    "    mean=sum/n\n",
    "    sqrt_sum=math.log(mean)\n",
    "    return sqrt_sum"
   ]
  },
  {
   "cell_type": "code",
   "execution_count": 83,
   "metadata": {
    "collapsed": false
   },
   "outputs": [
    {
     "data": {
      "text/plain": [
       "2.0794415416798357"
      ]
     },
     "execution_count": 83,
     "metadata": {},
     "output_type": "execute_result"
    }
   ],
   "source": [
    "log_sum(1,2,10)"
   ]
  },
  {
   "cell_type": "code",
   "execution_count": 85,
   "metadata": {
    "collapsed": true
   },
   "outputs": [],
   "source": [
    "import random\n",
    "import math\n",
    "def log_sum(m,n,k):\n",
    "    sum=0\n",
    "    for i in range(n):\n",
    "        sum+=random.randint(m,k)\n",
    "    mean=sum/n\n",
    "    sqrt_sum=1/math.log(mean)\n",
    "    return sqrt_sum"
   ]
  },
  {
   "cell_type": "code",
   "execution_count": 86,
   "metadata": {
    "collapsed": false
   },
   "outputs": [
    {
     "data": {
      "text/plain": [
       "0.5342444903314023"
      ]
     },
     "execution_count": 86,
     "metadata": {},
     "output_type": "execute_result"
    }
   ],
   "source": [
    "log_sum(1,2,10)"
   ]
  },
  {
   "cell_type": "code",
   "execution_count": null,
   "metadata": {
    "collapsed": true
   },
   "outputs": [],
   "source": []
  }
 ],
 "metadata": {
  "kernelspec": {
   "display_name": "Python 3",
   "language": "python",
   "name": "python3"
  },
  "language_info": {
   "codemirror_mode": {
    "name": "ipython",
    "version": 3
   },
   "file_extension": ".py",
   "mimetype": "text/x-python",
   "name": "python",
   "nbconvert_exporter": "python",
   "pygments_lexer": "ipython3",
   "version": "3.6.0"
  }
 },
 "nbformat": 4,
 "nbformat_minor": 2
}
