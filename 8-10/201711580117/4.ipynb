{
 "cells": [
  {
   "cell_type": "code",
   "execution_count": 1,
   "metadata": {},
   "outputs": [
    {
     "name": "stdout",
     "output_type": "stream",
     "text": [
      "请输入第1个整数，以回车结束。2\n",
      "请输入第2个整数，以回车结束。4\n",
      "请输入第3个整数，以回车结束。5\n",
      "最终的和是： 146\n"
     ]
    }
   ],
   "source": [
    "def compute_mul(end):\n",
    "    i = 1\n",
    "    total_n = 1\n",
    "\n",
    "    while i < end:\n",
    "        i = i + 1\n",
    "        total_n = total_n * i\n",
    "\n",
    "    return total_n\n",
    "\n",
    "n = int(input('请输入第1个整数，以回车结束。'))\n",
    "m = int(input('请输入第2个整数，以回车结束。'))\n",
    "k = int(input('请输入第3个整数，以回车结束。'))\n",
    "\n",
    "print('最终的和是：', compute_mul(m) + compute_mul(n) + compute_mul(k))\n",
    "\n"
   ]
  },
  {
   "cell_type": "code",
   "execution_count": 2,
   "metadata": {},
   "outputs": [
    {
     "name": "stdout",
     "output_type": "stream",
     "text": [
      "3.140592653839794 3.1414926535900345\n"
     ]
    }
   ],
   "source": [
    "def comsum(number):\n",
    "    i=1\n",
    "    total_n=1\n",
    "    while i<number:\n",
    "        i=i + 1\n",
    "        total_n = total_n + (1/(2*i-1))*(-1)**(i-1)\n",
    "    return total_n\n",
    "print(4*comsum(1000),4*comsum(10000))\n",
    "\n"
   ]
  },
  {
   "cell_type": "code",
   "execution_count": 1,
   "metadata": {
    "scrolled": true
   },
   "outputs": [
    {
     "name": "stdout",
     "output_type": "stream",
     "text": [
      "请输入您的姓名：李雨知\n",
      "请输入您出生的月份.日期（示例：7.25）：2.18\n",
      "李雨知 ，你是非常有性格的水瓶座！\n",
      "None\n"
     ]
    }
   ],
   "source": [
    "def star(date):\n",
    "   \n",
    "    if 3.21 <= date <= 4.19:\n",
    "        print(name,\"，你是非常有性格的白羊座！\")\n",
    "    elif 4.20 <= date <= 5.20:\n",
    "        print(name,\"，你是非常有性格的金牛座！\")\n",
    "    elif 5.21 <= date <= 6.21:\n",
    "        print(name,\"，你是非常有性格的双子座！\")\n",
    "    elif 6.22 <= date <= 7.22:\n",
    "        print(name,\"，你是非常有性格的巨蟹座！\")\n",
    "    elif 7.23 <= date <= 8.22:\n",
    "        print(name,\"，你是非常有性格的狮子座！\")\n",
    "    elif 8.23 <= date <= 9.22:\n",
    "        print(name,\"，你是非常有性格的处女座！\")\n",
    "    elif 9.23 <= date <= 10.23:\n",
    "        print(name,\"，你是非常有性格的天秤座！\")\n",
    "    elif 10.24 <= date <= 11.22:\n",
    "        print(name,\"，你是非常有性格的天蝎座！\")\n",
    "    elif 11.23 <= date <= 12.21:\n",
    "        print(name,\"，你是非常有性格的射手座！\")\n",
    "    elif 1.20 <= date <= 2.18:\n",
    "        print(name,\"，你是非常有性格的水瓶座！\")\n",
    "    elif 2.19 <= date <= 3.20:\n",
    "        print(name,\"，你是非常有性格的双鱼座！\")\n",
    "    else:\n",
    "        print(name,\"，你是非常有性格的摩羯座！\")\n",
    "    \n",
    "name = input(\"请输入您的姓名：\")\n",
    "date = float(input(\"请输入您出生的月份.日期（示例：7.25）：\"))\n",
    "\n",
    "print (star(date))"
   ]
  },
  {
   "cell_type": "code",
   "execution_count": 1,
   "metadata": {},
   "outputs": [
    {
     "name": "stdout",
     "output_type": "stream",
     "text": [
      "请输入一个英文名词单数形式:branch\n",
      "此单词的复数形式是：branches\n"
     ]
    }
   ],
   "source": [
    "\n",
    "\n",
    "\n",
    "\n",
    "    \n",
    "i = input('请输入一个英文名词单数形式:')\n",
    "\n",
    "if i.endswith('ch'):\n",
    "    print('此单词的复数形式是：',i,'es',sep='')\n",
    "\n",
    "elif i.endswith('sh'):\n",
    "    print('此单词的复数形式是：',i,'es',sep='')\n",
    "     \n",
    "elif i.endswith('s'):\n",
    "    print('此单词的复数形式是：',i,'es',sep='')\n",
    "\n",
    "else:\n",
    "    print('此单词的复数形式是：',i,'s',sep='')\n"
   ]
  },
  {
   "cell_type": "code",
   "execution_count": 3,
   "metadata": {},
   "outputs": [
    {
     "name": "stdout",
     "output_type": "stream",
     "text": [
      "请输入数字下限1\n",
      "请输入数字上限6\n",
      "请输入数字间隔2\n",
      "16\n"
     ]
    }
   ],
   "source": [
    "import random\n",
    "m = int(input('请输入数字下限'))\n",
    "n = int(input('请输入数字上限'))\n",
    "k = int(input('请输入数字间隔'))\n",
    "\n",
    "i = m\n",
    "total = m\n",
    "while i<n:\n",
    "    i = i + k\n",
    "    total = total + i\n",
    "print(total)\n"
   ]
  }
 ],
 "metadata": {
  "kernelspec": {
   "display_name": "Python 3",
   "language": "python",
   "name": "python3"
  },
  "language_info": {
   "codemirror_mode": {
    "name": "ipython",
    "version": 3
   },
   "file_extension": ".py",
   "mimetype": "text/x-python",
   "name": "python",
   "nbconvert_exporter": "python",
   "pygments_lexer": "ipython3",
   "version": "3.6.2"
  }
 },
 "nbformat": 4,
 "nbformat_minor": 2
}
