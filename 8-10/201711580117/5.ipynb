{
 "cells": [
  {
   "cell_type": "code",
   "execution_count": 1,
   "metadata": {},
   "outputs": [
    {
     "name": "stdout",
     "output_type": "stream",
     "text": [
      "请输入数字下限1\n",
      "请输入数字上限9\n",
      "请输入数字个数2\n",
      "9\n",
      "8\n",
      "2.9154759474226504\n"
     ]
    }
   ],
   "source": [
    "#求n个随机整数均值的平方根\n",
    "import random\n",
    "m = int(input('请输入数字下限'))\n",
    "k = int(input('请输入数字上限'))\n",
    "n=  int(input('请输入数字个数'))\n",
    "i=0\n",
    "total=0\n",
    "while i<n:\n",
    "    i=i+1\n",
    "    number = random.randint(m, k)\n",
    "    print(number)\n",
    "    total= total+number\n",
    "average= total/n\n",
    "print(average**0.5)"
   ]
  },
  {
   "cell_type": "code",
   "execution_count": 2,
   "metadata": {},
   "outputs": [
    {
     "name": "stdout",
     "output_type": "stream",
     "text": [
      "请输入数字下限1\n",
      "请输入数字上限9\n",
      "请输入数字个数2\n",
      "(2.995732273553991, 1.3426824550040934)\n"
     ]
    }
   ],
   "source": [
    "import random\n",
    "import math\n",
    "def magic():\n",
    "    total = 0\n",
    "    entire = 0\n",
    "    i = 0\n",
    "    while i < n:\n",
    "        i =i+1\n",
    "        number = random.randint(m, k)\n",
    "        total = total+math.log(number)\n",
    "        entire = entire+(1/math.log(number))\n",
    "    return total,entire\n",
    "m = int(input('请输入数字下限'))\n",
    "k = int(input('请输入数字上限'))\n",
    "n = int(input('请输入数字个数'))\n",
    "\n",
    "print (magic())"
   ]
  }
 ],
 "metadata": {
  "kernelspec": {
   "display_name": "Python 3",
   "language": "python",
   "name": "python3"
  },
  "language_info": {
   "codemirror_mode": {
    "name": "ipython",
    "version": 3
   },
   "file_extension": ".py",
   "mimetype": "text/x-python",
   "name": "python",
   "nbconvert_exporter": "python",
   "pygments_lexer": "ipython3",
   "version": "3.6.2"
  }
 },
 "nbformat": 4,
 "nbformat_minor": 2
}
