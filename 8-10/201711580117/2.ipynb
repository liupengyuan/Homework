{
 "cells": [
  {
   "cell_type": "code",
   "execution_count": 1,
   "metadata": {},
   "outputs": [
    {
     "name": "stdout",
     "output_type": "stream",
     "text": [
      "93326215443944152681699238856266700490715968264381621468592963895217599993229915608941463976156518286253697920827223758251185210916864000000000000000000000000\n"
     ]
    }
   ],
   "source": [
    "n=100\n",
    "i=1\n",
    "total=1\n",
    "while i<n:\n",
    "    i=i+1\n",
    "    total=total*i\n",
    "print(total)"
   ]
  },
  {
   "cell_type": "code",
   "execution_count": 10,
   "metadata": {},
   "outputs": [
    {
     "name": "stdout",
     "output_type": "stream",
     "text": [
      "请输入你的姓名，以回车结束。李雨知\n",
      "你好 李雨知\n",
      "请输入正整数的个数，以回车结束。3\n",
      "请输入一个正整数，以回车结束。1\n",
      "请输入一个正整数，以回车结束。7\n",
      "请输入一个正整数，以回车结束。8\n",
      "这些数的和是： 16\n",
      "再见！ 李雨知\n"
     ]
    }
   ],
   "source": [
    "name = input('请输入你的姓名，以回车结束。')\n",
    "print('你好', name)\n",
    "\n",
    "n = int(input('请输入正整数的个数，以回车结束。'))\n",
    "i = 0\n",
    "total = 0\n",
    "\n",
    "while i<n:\n",
    "    i = i+1\n",
    "    j = int(input('请输入一个正整数，以回车结束。'))\n",
    "    total = total+j\n",
    "\n",
    "print('这些数的和是：', total)\n",
    "print('再见！', name)"
   ]
  },
  {
   "cell_type": "code",
   "execution_count": 11,
   "metadata": {},
   "outputs": [
    {
     "name": "stdout",
     "output_type": "stream",
     "text": [
      "输入一个数字，如果你不想输入，请输入stop3\n",
      "3stop\n",
      "bye\n"
     ]
    }
   ],
   "source": [
    "m = input(input('输入一个数字，如果你不想输入，请输入stop'))\n",
    "while m != 'stop':\n",
    "    m = input('输入一个数字，如果你不想输入，请输入stop')\n",
    "print('bye')"
   ]
  },
  {
   "cell_type": "code",
   "execution_count": 13,
   "metadata": {},
   "outputs": [
    {
     "name": "stdout",
     "output_type": "stream",
     "text": [
      "输入一个数字，如果你不想输入，请输入stop6\n",
      "66\n",
      "您好 李雨知\n",
      "请输入一个数字45\n",
      "请接着输入一个数字45\n",
      "请接着输入一个数字57\n",
      "请接着输入一个数字69\n",
      "请接着输入一个数字2467\n",
      "若输入所有数字的和比当前输入数字小，且输入所有数字的积大于500，结束\n",
      "再见 李雨知\n"
     ]
    }
   ],
   "source": [
    "m = input(input('输入一个数字，如果你不想输入，请输入stop'))\n",
    "print('您好',name)\n",
    "\n",
    "total=0\n",
    "i=1\n",
    "m=int(input('请输入一个数字'))\n",
    "total=total+m\n",
    "i=i*m\n",
    "n=int(input('请接着输入一个数字'))\n",
    "while total>=n or i<=500:\n",
    "    total=total+n\n",
    "    i=i*n\n",
    "    n=int(input('请接着输入一个数字'))\n",
    "else:print('若输入所有数字的和比当前输入数字小，且输入所有数字的积大于500，结束')\n",
    "    \n",
    "print('再见',name)"
   ]
  }
 ],
 "metadata": {
  "kernelspec": {
   "display_name": "Python 3",
   "language": "python",
   "name": "python3"
  },
  "language_info": {
   "codemirror_mode": {
    "name": "ipython",
    "version": 3
   },
   "file_extension": ".py",
   "mimetype": "text/x-python",
   "name": "python",
   "nbconvert_exporter": "python",
   "pygments_lexer": "ipython3",
   "version": "3.6.2"
  }
 },
 "nbformat": 4,
 "nbformat_minor": 2
}
