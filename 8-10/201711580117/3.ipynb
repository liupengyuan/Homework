{
 "cells": [
  {
   "cell_type": "code",
   "execution_count": 1,
   "metadata": {},
   "outputs": [
    {
     "name": "stdout",
     "output_type": "stream",
     "text": [
      "请输入一个整数2\n",
      "请输入一个正整数4\n",
      "求和输入0，求积输入1，求余数输入2，求整除值输入30\n",
      "9.0\n"
     ]
    }
   ],
   "source": [
    "m = int(input('请输入一个整数'))\n",
    "n = int(input('请输入一个正整数'))\n",
    "i = input('求和输入0，求积输入1，求余数输入2，求整除值输入3')\n",
    "\n",
    "a = max(m,n)\n",
    "b = min(m,n)\n",
    "\n",
    "if i is '0':\n",
    "    print((a+b)*((a-b+1)/2))\n",
    "\n",
    "\n",
    "elif i is '1':\n",
    "    k=1\n",
    "    total=b\n",
    "    while k<a:\n",
    "        k=k+1\n",
    "        total=total*k\n",
    "    j = total\n",
    "    print(j)\n",
    "    \n",
    "elif i is '2':\n",
    "    print(a/b)\n",
    "    \n",
    "else:\n",
    "    print(a//b)"
   ]
  },
  {
   "cell_type": "code",
   "execution_count": 2,
   "metadata": {},
   "outputs": [
    {
     "name": "stdout",
     "output_type": "stream",
     "text": [
      "请输入一个英文名词单数形式:watch\n",
      "此单词的复数形式是：watches\n"
     ]
    }
   ],
   "source": [
    "i = input('请输入一个英文名词单数形式:')\n",
    "\n",
    "if i.endswith('ch'):\n",
    "    print('此单词的复数形式是：',i,'es',sep='')\n",
    "\n",
    "elif i.endswith('sh'):\n",
    "    print('此单词的复数形式是：',i,'es',sep='')\n",
    "    \n",
    "elif i.endswith('s'):\n",
    "    print('此单词的复数形式是：',i,'es',sep='')\n"
   ]
  }
 ],
 "metadata": {
  "kernelspec": {
   "display_name": "Python 3",
   "language": "python",
   "name": "python3"
  },
  "language_info": {
   "codemirror_mode": {
    "name": "ipython",
    "version": 3
   },
   "file_extension": ".py",
   "mimetype": "text/x-python",
   "name": "python",
   "nbconvert_exporter": "python",
   "pygments_lexer": "ipython3",
   "version": "3.6.2"
  }
 },
 "nbformat": 4,
 "nbformat_minor": 2
}
