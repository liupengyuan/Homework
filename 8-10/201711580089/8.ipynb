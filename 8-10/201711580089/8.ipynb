{
 "cells": [
  {
   "cell_type": "code",
   "execution_count": null,
   "metadata": {},
   "outputs": [],
   "source": []
  },
  {
   "cell_type": "code",
   "execution_count": 1,
   "metadata": {},
   "outputs": [
    {
     "name": "stdout",
     "output_type": "stream",
     "text": [
      "             =====游戏菜单=====\n",
      "                1. 游戏说明\n",
      "                2. 开始游戏\n",
      "                3. 退出游戏\n",
      "             =====游戏菜单=====\n",
      "请输入数字2\n",
      "以 我\n",
      "沉 久\n",
      "愧 君\n",
      "星 临\n",
      "户 动\n",
      "月 傍\n",
      "请输入猜测的诗句，回车结束12345\n",
      "答错了，减十分\n",
      "诗句其实是： 星临万户动，月傍九霄多。\n",
      "你当前的分数是： 10\n",
      "寒 灯\n",
      "旧 事\n",
      "断 雁\n",
      "请输入猜测的诗句，回车结束67890\n",
      "答错了，减十分\n",
      "诗句其实是： 寒灯思旧事，断雁警愁眠。\n",
      "你当前的分数是： 0\n",
      "荒 城\n",
      "古 渡\n",
      "落 日\n",
      "请输入猜测的诗句，回车结束543321\n",
      "答错了，减十分\n",
      "诗句其实是： 荒城临古渡，落日满秋山。\n",
      "你当前的分数是： -10\n",
      "sorry, you lose. 很抱歉你输了\n"
     ]
    }
   ],
   "source": [
    "#猜诗词游戏\n",
    "import math ,random\n",
    "def menu():\n",
    "    print('''             =====游戏菜单=====\n",
    "                1. 游戏说明\n",
    "                2. 开始游戏\n",
    "                3. 退出游戏\n",
    "             =====游戏菜单=====''')\n",
    "def introduction():\n",
    "    print('游戏玩法说明：根据以下给出的汉字，组成一句完整的诗词，且只有唯一答案。')\n",
    "    print(menu())\n",
    "def win():\n",
    "    print('hooray! you win! 太棒了你赢了')\n",
    "def lose():\n",
    "    print('sorry, you lose. 很抱歉你输了')\n",
    "def game_over():\n",
    "    print('see you!')\n",
    "def get_table(line):\n",
    "    poems = []\n",
    "    for poem in line:\n",
    "        if poem not in poems:\n",
    "            poems.append(poem)\n",
    "    return poems\n",
    "\n",
    "def game_begin(filename):\n",
    "    filename = r'd:\\temp\\poem.txt'\n",
    "    with open(filename) as fh:\n",
    "        text = fh.read()\n",
    "    idioms = text.split()\n",
    "    idiom = random.choice(idioms)\n",
    "    chs = get_table(text.replace('\\n', ''))\n",
    "    \n",
    "    table = [poem for poem in idiom]\n",
    "    while len(table) < 9:\n",
    "        poem = random.choice(chs)\n",
    "        if poem not in table:\n",
    "            table.append(poem)\n",
    "    for i in range(0,9,3):\n",
    "        print(table[i], table[i+1])\n",
    "    return idiom\n",
    "\n",
    "def main():\n",
    "    filename = r'd:\\temp\\poem.txt'\n",
    "    while True:\n",
    "        menu()\n",
    "        yourchoice = int(input('请输入数字'))\n",
    "        if yourchoice == 1:\n",
    "            introduction()\n",
    "        elif yourchoice == 2:\n",
    "            game_begin(filename)\n",
    "        elif yourchoice == 3:\n",
    "            game_over()\n",
    "        break\n",
    "              \n",
    "    score = 20\n",
    "    while score >= 0:\n",
    "        real_poem = game_begin(filename)\n",
    "        answer_poem = input('请输入猜测的诗句，回车结束')\n",
    "        if answer_poem == real_poem:\n",
    "            print('答对了，加十分')\n",
    "            score += 10\n",
    "            print('你当前的分数是：', score)\n",
    "            if score == 100:\n",
    "                win()\n",
    "                return\n",
    "        else:\n",
    "            score -= 10\n",
    "            print('答错了，减十分')\n",
    "            print('诗句其实是：', real_poem)\n",
    "            print('你当前的分数是：', score)\n",
    "    else:\n",
    "        lose()\n",
    "        \n",
    "\n",
    "main()"
   ]
  },
  {
   "cell_type": "code",
   "execution_count": 1,
   "metadata": {},
   "outputs": [
    {
     "name": "stdout",
     "output_type": "stream",
     "text": [
      "感时花溅泪，恨别鸟惊心。\n"
     ]
    }
   ],
   "source": [
    "#完整点字成诗机器人\n"
   ]
  },
  {
   "cell_type": "code",
   "execution_count": null,
   "metadata": {
    "collapsed": true
   },
   "outputs": [],
   "source": []
  }
 ],
 "metadata": {
  "kernelspec": {
   "display_name": "Python 3",
   "language": "python",
   "name": "python3"
  },
  "language_info": {
   "codemirror_mode": {
    "name": "ipython",
    "version": 3
   },
   "file_extension": ".py",
   "mimetype": "text/x-python",
   "name": "python",
   "nbconvert_exporter": "python",
   "pygments_lexer": "ipython3",
   "version": "3.6.2"
  }
 },
 "nbformat": 4,
 "nbformat_minor": 2
}
