{
 "cells": [
  {
   "cell_type": "code",
   "execution_count": 12,
   "metadata": {},
   "outputs": [
    {
     "name": "stdout",
     "output_type": "stream",
     "text": [
      "请输入设定整数个数：3\n",
      "请输入整数区间下限：1\n",
      "请输入整数区间上限：5\n",
      "[m,k]区间内n个随机整数均值的平方根sqr= 1.8257418583505538\n"
     ]
    }
   ],
   "source": [
    "#练习1 不会编\n",
    "#写函数，求n个随机整数均值的平方根sqr，整数范围在m与k之间（n,m,k由用户输入）。\n",
    "def sqr_random(n,m,k):\n",
    "    import random,math\n",
    "    z=random.randint(m,k)\n",
    "    i=1\n",
    "    total=z\n",
    "    while i<n:\n",
    "        i+=1\n",
    "        total+=random.randint(m,k)\n",
    "    return math.sqrt(total/n)\n",
    "\n",
    "n=int(input('请输入设定整数个数：'))\n",
    "m=int(input('请输入整数区间下限：'))\n",
    "k=int(input('请输入整数区间上限：'))\n",
    "\n",
    "print('[m,k]区间内n个随机整数均值的平方根sqr=',sqr_random(n,m,k))\n"
   ]
  },
  {
   "cell_type": "code",
   "execution_count": 11,
   "metadata": {},
   "outputs": [
    {
     "ename": "IndentationError",
     "evalue": "unexpected indent (<ipython-input-11-70d1e053008f>, line 8)",
     "output_type": "error",
     "traceback": [
      "\u001b[1;36m  File \u001b[1;32m\"<ipython-input-11-70d1e053008f>\"\u001b[1;36m, line \u001b[1;32m8\u001b[0m\n\u001b[1;33m    while i <int（n）:\u001b[0m\n\u001b[1;37m    ^\u001b[0m\n\u001b[1;31mIndentationError\u001b[0m\u001b[1;31m:\u001b[0m unexpected indent\n"
     ]
    }
   ],
   "source": [
    "#练习2 我编的\n",
    "#写函数，求n个随机整数均值的平方根，整数范围在m与k之间（n,m,k由用户输入）,求1：西格玛log(随机整数)，2：西格玛1/log(随机整数)\n",
    "\n",
    "\n",
    "i=1\n",
    "n=input('请输入一个正整数')\n",
    "m=input('请输入一个正整数')\n",
    "k=input('请输入一个正整数')\n",
    "    while i <int（n）:\n",
    "\n",
    "    import random    \n",
    "\n",
    "    n = random.random(1,1000)\n",
    "    print(n)\n",
    "    n += 1\n",
    "   "
   ]
  },
  {
   "cell_type": "code",
   "execution_count": 9,
   "metadata": {},
   "outputs": [
    {
     "name": "stdout",
     "output_type": "stream",
     "text": [
      "请输入设定整数个数：5\n",
      "请输入整数区间下限：1\n",
      "请输入整数区间上限：99\n",
      "[m,k]区间内n个随机整数均值的平方根sqr= 7.523297149521611\n"
     ]
    }
   ],
   "source": [
    "#7016\n",
    "#练习 1：写函数，求n个随机整数均值的平方根sqr，整数范围在m与k之间（n,m,k由用户输入）。\n",
    "#import random和函数randint\n",
    "def sqr_random(n,m,k):\n",
    "    import random,math\n",
    "    z=random.randint(m,k)\n",
    "    i=1\n",
    "    total=z\n",
    "    while i<n:\n",
    "        i+=1\n",
    "        total+=random.randint(m,k)\n",
    "    return math.sqrt(total/n)\n",
    "\n",
    "n=int(input('请输入设定整数个数：'))\n",
    "m=int(input('请输入整数区间下限：'))\n",
    "k=int(input('请输入整数区间上限：'))\n",
    "\n",
    "print('[m,k]区间内n个随机整数均值的平方根sqr=',sqr_random(n,m,k))"
   ]
  },
  {
   "cell_type": "code",
   "execution_count": null,
   "metadata": {
    "collapsed": true
   },
   "outputs": [],
   "source": [
    "#7016\n",
    "3练习 2：写函数，共n个随机整数，整数范围在m与k之间，（n,m,k由用户输入）。\n",
    "#求1：西格玛log(随机整数)，2：西格玛1/log(随机整数)\n",
    "def Σ1(n,m,k):\n",
    "    import math,random\n",
    "    i=0\n",
    "    total=math.log(random.randint(m,k))\n",
    "    while i<n:\n",
    "        i+=1\n",
    "        x=random.randint(m,k)\n",
    "        total+=math.log(x)\n",
    "    return total\n",
    "def Σ2(n,m,k):\n",
    "    import math,random\n",
    "    i=0\n",
    "    z=random.randint(m,k)\n",
    "    total=1/math.log(z)\n",
    "    while i<n:\n",
    "        i+=1\n",
    "        x=random.randint(m,k)\n",
    "        total+=1/math.log(x)\n",
    "    return total\n",
    "\n",
    "n=int(input('请输入设定整数个数：'))\n",
    "m=int(input('请输入整数区间下限：'))\n",
    "k=int(input('请输入整数区间上限：'))\n",
    "\n",
    "print('[m,k]区间内n个随机整数log值之和=',Σ1(n,m,k))\n",
    "print('[m,k]区间内n个随机整数1/log值之和=',Σ2(n,m,k))"
   ]
  }
 ],
 "metadata": {
  "kernelspec": {
   "display_name": "Python 3",
   "language": "python",
   "name": "python3"
  },
  "language_info": {
   "codemirror_mode": {
    "name": "ipython",
    "version": 3
   },
   "file_extension": ".py",
   "mimetype": "text/x-python",
   "name": "python",
   "nbconvert_exporter": "python",
   "pygments_lexer": "ipython3",
   "version": "3.6.2"
  }
 },
 "nbformat": 4,
 "nbformat_minor": 2
}
