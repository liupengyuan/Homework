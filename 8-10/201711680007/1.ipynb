{
 "cells": [
  {
   "cell_type": "code",
   "execution_count": 5,
   "metadata": {},
   "outputs": [
    {
     "name": "stdout",
     "output_type": "stream",
     "text": [
      "请输入数字后按下enter进入下一过程8\n",
      "数的阶乘 40320\n"
     ]
    }
   ],
   "source": [
    "#n的阶乘\n",
    "n=int(input('请输入数字后按下enter进入下一过程'))\n",
    "total=1\n",
    "i=1\n",
    "while i < n:\n",
    "    i=i+1\n",
    "    total=total*i\n",
    "print('数的阶乘',total)"
   ]
  },
  {
   "cell_type": "code",
   "execution_count": 9,
   "metadata": {},
   "outputs": [
    {
     "name": "stdout",
     "output_type": "stream",
     "text": [
      "请输入整数个数3\n",
      "请输入整数2\n",
      "请输入整数3\n",
      "请输入整数1\n",
      "数值之和 6\n"
     ]
    }
   ],
   "source": [
    "#由用户指定整数个数，并由用户输入多个整数，并求和\n",
    "n=int(input(\"请输入整数个数\"))\n",
    "i=0\n",
    "total=0\n",
    "while i < n:\n",
    "    m=int(input(\"请输入整数\"))\n",
    "    i=i+1\n",
    "    total=total+m\n",
    "print('数值之和',total)"
   ]
  },
  {
   "cell_type": "code",
   "execution_count": 4,
   "metadata": {
    "scrolled": true
   },
   "outputs": [
    {
     "name": "stdout",
     "output_type": "stream",
     "text": [
      "请输入一个正整数，以回车结束。3\n",
      "请输入一个正整数4\n",
      "请输入一个正整数2\n",
      "请输入一个正整数9\n",
      "请输入一个正整数20\n",
      "21 648\n"
     ]
    }
   ],
   "source": [
    " #用户可以输入的任意多个数字，直到: 输入所有数字的和比当前输入数字小，且输入所有数字的积大于500\n",
    "n = int(input('请输入一个正整数，以回车结束。'))\n",
    "total=n\n",
    "product=n\n",
    "while n<=total and product<=500:\n",
    "    total=total+n\n",
    "    product=product*n\n",
    "    n=int(input('请输入一个正整数'))\n",
    "print(total,product)\n"
   ]
  },
  {
   "cell_type": "code",
   "execution_count": 8,
   "metadata": {},
   "outputs": [
    {
     "name": "stdout",
     "output_type": "stream",
     "text": [
      "请输入0之外任意整数，如果结束请输入04\n",
      "4\n",
      "请输入0之外任意整数，如果结束请输入00\n",
      "结束\n"
     ]
    }
   ],
   "source": [
    "#用户可以输入的任意多个数字，直到用户不想输入为止。\n",
    "a=0\n",
    "b=1\n",
    "while a<b:\n",
    "    q=int(input('请输入0之外任意整数，如果结束请输入0'))\n",
    "    if q==0:\n",
    "        print(\"结束\")\n",
    "        break \n",
    "    else:\n",
    "        print(q)\n"
   ]
  },
  {
   "cell_type": "code",
   "execution_count": null,
   "metadata": {},
   "outputs": [],
   "source": []
  }
 ],
 "metadata": {
  "kernelspec": {
   "display_name": "Python 3",
   "language": "python",
   "name": "python3"
  },
  "language_info": {
   "codemirror_mode": {
    "name": "ipython",
    "version": 3
   },
   "file_extension": ".py",
   "mimetype": "text/x-python",
   "name": "python",
   "nbconvert_exporter": "python",
   "pygments_lexer": "ipython3",
   "version": "3.6.2rc2"
  }
 },
 "nbformat": 4,
 "nbformat_minor": 2
}
