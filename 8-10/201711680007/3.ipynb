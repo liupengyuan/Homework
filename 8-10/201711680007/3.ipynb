{
 "cells": [
  {
   "cell_type": "code",
   "execution_count": 1,
   "metadata": {},
   "outputs": [
    {
     "name": "stdout",
     "output_type": "stream",
     "text": [
      "请输入一个较小数字9\n",
      "请输入一个较大数字2\n",
      "求和输入1求积输入2求余数输入3取整数输入其他数字3\n",
      "求余数结果为 2\n"
     ]
    }
   ],
   "source": [
    "m=int(input('请输入一个较小数字'))\n",
    "n=int(input('请输入一个较大数字'))\n",
    "u=int(input('求和输入1求积输入2求余数输入3取整数输入其他数字'))\n",
    "x=n%m\n",
    "y=n//m\n",
    "total=0\n",
    "product=1\n",
    "while m<= n:\n",
    "    total=total+m\n",
    "    product=product*m\n",
    "    m=m+1\n",
    "if u==1:\n",
    "    print('求和结果为',total)\n",
    "elif u==2:\n",
    "    print('求积结果为',product)\n",
    "elif u==3:\n",
    "    print('求余数结果为',x)\n",
    "else:\n",
    "    print('取整除结果为',y)\n",
    "    \n"
   ]
  },
  {
   "cell_type": "code",
   "execution_count": 7,
   "metadata": {},
   "outputs": [
    {
     "name": "stdout",
     "output_type": "stream",
     "text": [
      "请输入一个名词的单数形式toe\n",
      "该名词的复数形式为 toes\n"
     ]
    }
   ],
   "source": [
    "#英文单词单数转复数，要求输入一个英文名词（单数形式），能够得到其复数形式，或给出单数转复数形式的建议\n",
    "#（提示，some_string.endswith(some_letter)函数可以判断某字符串结尾字符，可尝试运行）\n",
    "word=input('请输入一个名词的单数形式')\n",
    "if word.endswith('s') or word.endswith('ch') or word.endswith('sh') or word.endswith('x'):\n",
    "    print('该单词的复数形式为',word+'es')\n",
    "elif word.endswith('by') or word.endswith('cy') or word.endswith('dy') or word.endswith('fy') or word.endswith('gy') or word.endswith('hy') or word.endswith('jy') or word.endswith('ky') or word.endswith('ly') or word.endswith('my') or word.endswith('ny') or word.endswith ('py') or word.endswith('qy') or word.endswith('ry') or word.endswith ('sy') or word.endswith ('ty') or word.endswith ('vy') or word.endswith ('wy') or word.endswith ('xy') or word.endswith ('yy') or word.endswith('zy'):\n",
    "    print('该名词的复数形式为', word[0:-1]+'ies')\n",
    "elif word.endswith ('f'): \n",
    "    print('该名词的复数形式为',word[0:-1]+'ves')\n",
    "elif word.endswith ('fe'):\n",
    "    print('该名词的复数形式为',word[0:-2]+'es')\n",
    "elif word.endswith ('o'):#piano-pianos, dynamo-dynamos, photo-photos, kimono-kimonos, biro-biros,zoo-zoos,studio-studios, radio-radios除外\n",
    "    print('该名词的复数形式为',word+'es')\n",
    "else:\n",
    "    print('该名词的复数形式为',word+'s')\n",
    "\n",
    "\n",
    "\n",
    "    \n"
   ]
  }
 ],
 "metadata": {
  "kernelspec": {
   "display_name": "Python 3",
   "language": "python",
   "name": "python3"
  },
  "language_info": {
   "codemirror_mode": {
    "name": "ipython",
    "version": 3
   },
   "file_extension": ".py",
   "mimetype": "text/x-python",
   "name": "python",
   "nbconvert_exporter": "python",
   "pygments_lexer": "ipython3",
   "version": "3.6.2rc2"
  }
 },
 "nbformat": 4,
 "nbformat_minor": 2
}
