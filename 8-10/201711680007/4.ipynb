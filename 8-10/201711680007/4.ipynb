{
 "cells": [
  {
   "cell_type": "code",
   "execution_count": 22,
   "metadata": {
    "scrolled": true
   },
   "outputs": [
    {
     "name": "stdout",
     "output_type": "stream",
     "text": [
      "请输入第一个数1\n",
      "请输入第二个数2\n",
      "请输入第三个数3\n",
      "阶乘结果和是 9\n"
     ]
    }
   ],
   "source": [
    "# 函数定义#阶乘#练习1\n",
    "def compute_product(end):\n",
    "    i = 1\n",
    "    total_n = 1\n",
    "    while i < end:\n",
    "        i = i + 1\n",
    "        total_n = total_n * i\n",
    "    return total_n\n",
    "    \n",
    "\n",
    "# 主程序       \n",
    "m=int(input('请输入第一个数'))\n",
    "n=int(input('请输入第二个数'))\n",
    "k=int(input('请输入第三个数'))\n",
    "print('阶乘结果和是',compute_product(m)+compute_product(n)+compute_product(k))"
   ]
  },
  {
   "cell_type": "code",
   "execution_count": 36,
   "metadata": {},
   "outputs": [
    {
     "name": "stdout",
     "output_type": "stream",
     "text": [
      "4倍1000的和是 3.140592653839794\n",
      "4倍100000的和是 3.1415826535897198\n"
     ]
    }
   ],
   "source": [
    "#函数定义#练习二\n",
    "def programm(end):\n",
    "    i=0\n",
    "    x=0\n",
    "    total_x=0\n",
    "    while i<end:\n",
    "        i=i+1\n",
    "        x=((-1)**(i+1))*((1)/(2*i-(1)))\n",
    "        total_x=total_x+x\n",
    "    return total_x\n",
    "    \n",
    "\n",
    "    \n",
    "# 主程序\n",
    "print('4倍1000的和是',4*programm(1000))\n",
    "print('4倍100000的和是',4*programm(100000))"
   ]
  },
  {
   "cell_type": "code",
   "execution_count": null,
   "metadata": {},
   "outputs": [],
   "source": [
    "#函数定义#3.6练习一星座\n",
    "def constellation():\n",
    "    x=input('请输入你的姓名')\n",
    "    n=int(input('请以四位数字的形式输入你的生日，如4月27日则输入0427以此类推'))\n",
    "    if 129<=n<=218:\n",
    "        print(x,\"你是具有创新意识的水瓶座。\")\n",
    "    elif 219<=n<=320:\n",
    "        print(x,\"你是天马行空的双鱼座。\")\n",
    "    elif 321<=n<=419:\n",
    "        print(x,\"你是天真烂漫的白羊座。\")\n",
    "    elif 420<=n<=520:\n",
    "        print(x,\"你是有性格的可爱的金牛座！\")\n",
    "    elif 521<=n<=621:\n",
    "        print(x,\"你是轻率多变的双子座。\")\n",
    "    elif 622<=n<=722:\n",
    "        print(x,'你是内心敏感的巨蟹座。')\n",
    "    elif 723<=n<=822:\n",
    "        print(x,\"你是七月份的尾巴，八月份的前奏，狮子座。\")\n",
    "    elif 823<=n<=922:\n",
    "        print(x,\"你是磨人的处女座。\")\n",
    "    elif 923<=n<=1023:\n",
    "        print(x,\"你是优雅和善的天秤座。\")\n",
    "    elif 1024<=n<=1122:\n",
    "        print(x,\"你是精力旺盛的天蝎座。\")\n",
    "    elif 1123<=n<=1221:\n",
    "        print(x,\"你是乐观诚实的射手座。\")\n",
    "    else:\n",
    "        print(x,\"你是默默承受的摩羯座。\")\n",
    "    \n",
    "        \n",
    "#主程序\n",
    "constellation()"
   ]
  },
  {
   "cell_type": "code",
   "execution_count": 1,
   "metadata": {},
   "outputs": [
    {
     "name": "stdout",
     "output_type": "stream",
     "text": [
      "空气质量级别为一级，空气质量状况属于优：请输入北京雾霾PM2.5数值345\n",
      "空气质量级别为六级，空气质量状况属于严重污染:建议打开空气净化器，戴防雾霾口罩，尽量减少与外界空气接触\n"
     ]
    }
   ],
   "source": [
    "#函数定义#雾霾建议\n",
    "def suggest():\n",
    "    n=int(input('空气质量级别为一级，空气质量状况属于优：请输入北京雾霾PM2.5数值'))\n",
    "    if 0<=n<=50:\n",
    "        print('可正常活动')\n",
    "    elif 51<=n<=100:\n",
    "        print(\"空气质量级别为二级，空气质量状况属于良：易感人群（极少数人）减少户外活动\")\n",
    "    elif 101<=n<=150:\n",
    "        print(\"空气质量级别为三级，空气质量状况属于轻度污染：儿童、老年人及心脏病、呼吸系统疾病患者应减少长时间、高强度的户外锻炼\")\n",
    "    elif 151<=n<=200:\n",
    "        print(\"空气质量级别为三级，空气质量状况属于轻度污染：建议疾病患者避免长时间、高强度的户外锻练，一般人群适量减少户外运动，尽量不要开窗\")\n",
    "    elif 201<=n<=300:\n",
    "        print(\"空气质量级别为五级，空气质量状况属于重度污染:建议紧闭门窗，一般人群户外活动戴口罩，尽量避免户外运动\")\n",
    "    else:\n",
    "        print(\"空气质量级别为六级，空气质量状况属于严重污染:建议打开空气净化器，戴防雾霾口罩，尽量减少与外界空气接触\")\n",
    "        \n",
    "        \n",
    "#主程序\n",
    "suggest()"
   ]
  },
  {
   "cell_type": "code",
   "execution_count": 1,
   "metadata": {},
   "outputs": [
    {
     "name": "stdout",
     "output_type": "stream",
     "text": [
      "请输入一个较小的正整数2\n",
      "请输入一个较大的正整数6\n",
      "请输入间隔1\n",
      "20\n"
     ]
    }
   ],
   "source": [
    "#挑战练习#不知打如何定义函数做这个 直接打代码了\n",
    "m=int(input(\"请输入一个较小的正整数\"))\n",
    "n=int(input(\"请输入一个较大的正整数\"))\n",
    "k=int(input(\"请输入间隔\"))\n",
    "total=0\n",
    "while m<=n:\n",
    "    total=total+m\n",
    "    m=m+k\n",
    "print(total)\n",
    "\n"
   ]
  }
 ],
 "metadata": {
  "kernelspec": {
   "display_name": "Python 3",
   "language": "python",
   "name": "python3"
  },
  "language_info": {
   "codemirror_mode": {
    "name": "ipython",
    "version": 3
   },
   "file_extension": ".py",
   "mimetype": "text/x-python",
   "name": "python",
   "nbconvert_exporter": "python",
   "pygments_lexer": "ipython3",
   "version": "3.6.2rc2"
  }
 },
 "nbformat": 4,
 "nbformat_minor": 2
}
