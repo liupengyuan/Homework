{
 "cells": [
  {
   "cell_type": "code",
   "execution_count": 14,
   "metadata": {},
   "outputs": [
    {
     "name": "stdout",
     "output_type": "stream",
     "text": [
      "请输入一个较小数2\n",
      "请输入一个较大数6\n",
      "请输入整数个数3\n",
      "随机数为 3\n",
      "随机数为 4\n",
      "随机数为 5\n",
      "这些数字的平均值的平方根是 2.0\n"
     ]
    }
   ],
   "source": [
    "#练习 1：写函数，求n个随机整数均值的平方根，整数范围在m与k之间（n,m,k由用户输入\n",
    "m=int(input(\"请输入一个较小数\"))\n",
    "k=int(input(\"请输入一个较大数\"))\n",
    "n=int(input(\"请输入整数个数\"))\n",
    "i=0\n",
    "total=0\n",
    "import random\n",
    "while i<n:\n",
    "    i=i+1\n",
    "    number=random.randint(m,k)\n",
    "    total=total+number\n",
    "    print(\"随机数为\",number)\n",
    "x=((total)/(n))**(1/2)\n",
    "print(\"这些数字的平均值的平方根是\",x)\n"
   ]
  },
  {
   "cell_type": "code",
   "execution_count": 2,
   "metadata": {},
   "outputs": [
    {
     "name": "stdout",
     "output_type": "stream",
     "text": [
      "请输入一个较小数1\n",
      "请输入一个较大数9\n",
      "请输入整数个数3\n",
      "随机数为 9\n",
      "随机数为 4\n",
      "随机数为 5\n",
      "求对随机之和 7.491853096329674\n"
     ]
    }
   ],
   "source": [
    "#练习2:1.西格玛log(随机整数)\n",
    "m=int(input(\"请输入一个较小数\"))\n",
    "k=int(input(\"请输入一个较大数\"))\n",
    "n=int(input(\"请输入整数个数\"))\n",
    "i=0\n",
    "total=0\n",
    "import random\n",
    "import math\n",
    "while i<n:\n",
    "    i=i+1\n",
    "    number=random.randint(m,k)\n",
    "    q=math.log2(number)\n",
    "    total=total+q\n",
    "    print(\"随机数为\",number)\n",
    "print(\"求对随机之和\",total)"
   ]
  },
  {
   "cell_type": "code",
   "execution_count": 4,
   "metadata": {},
   "outputs": [
    {
     "name": "stdout",
     "output_type": "stream",
     "text": [
      "请输入一个较小数2\n",
      "请输入一个较大数4\n",
      "请输入整数个数2\n",
      "随机数为 2\n",
      "随机数为 4\n",
      "求对随机之和 1.5\n"
     ]
    }
   ],
   "source": [
    "#练习2：2.西格玛1/log(随机整数)\n",
    "m=int(input(\"请输入一个较小数\"))\n",
    "k=int(input(\"请输入一个较大数\"))\n",
    "n=int(input(\"请输入整数个数\"))\n",
    "i=0\n",
    "total=0\n",
    "import random\n",
    "import math\n",
    "while i<n:\n",
    "    i=i+1\n",
    "    number=random.randint(m,k)\n",
    "    q=1/(math.log2(number))\n",
    "    total=total+q\n",
    "    print(\"随机数为\",number)\n",
    "print(\"求对随机之和\",total)"
   ]
  }
 ],
 "metadata": {
  "kernelspec": {
   "display_name": "Python 3",
   "language": "python",
   "name": "python3"
  },
  "language_info": {
   "codemirror_mode": {
    "name": "ipython",
    "version": 3
   },
   "file_extension": ".py",
   "mimetype": "text/x-python",
   "name": "python",
   "nbconvert_exporter": "python",
   "pygments_lexer": "ipython3",
   "version": "3.6.2rc2"
  }
 },
 "nbformat": 4,
 "nbformat_minor": 2
}
