{
 "cells": [
  {
   "cell_type": "code",
   "execution_count": 1,
   "metadata": {},
   "outputs": [
    {
     "name": "stdout",
     "output_type": "stream",
     "text": [
      "请输入一个整数m,m=18\n",
      "请输入一个整数n,n=36\n",
      "求m到n的和请输入a、求m到n的积请输入b、求m除以n的余数请输入c，求m整除n请输入d：b\n",
      "38696203475348894008934400000\n"
     ]
    }
   ],
   "source": [
    "m=int(input(\"请输入一个整数m,m=\"))\n",
    "n=int(input(\"请输入一个整数n,n=\"))\n",
    "b=max(m,n)\n",
    "c=min(m,n)\n",
    "i = input('求m到n的和请输入a、求m到n的积请输入b、求m除以n的余数请输入c，求m整除n请输入d：')\n",
    "if i is 'a':\n",
    "    print((b-c+1)*(b+c)/2)\n",
    "elif i is 'b':\n",
    "    z = c\n",
    "    while c <= b:\n",
    "        c=c+1\n",
    "        z=z*c\n",
    "    print(z)\n",
    "elif i is 'c':\n",
    "    print(b%c)    \n",
    "else:\n",
    "    print(b//c)"
   ]
  },
  {
   "cell_type": "code",
   "execution_count": 2,
   "metadata": {},
   "outputs": [
    {
     "name": "stdout",
     "output_type": "stream",
     "text": [
      "请输入一个英文名词单数形式：ant\n",
      "此单词的复数形式是：ants\n"
     ]
    }
   ],
   "source": [
    "i = input('请输入一个英文名词单数形式：')\n",
    "if i in {'sheep','fish','police','deer','people'}:\n",
    "    print('此单词的复数形式是：',i,sep='')   \n",
    "elif i.endswith('s') or i.endswith('ch') or i.endswith('x') or i.endswith('sh'):\n",
    "    print('此单词的复数形式是：',i,'es',sep='')    \n",
    "else:\n",
    "    print('此单词的复数形式是：',i,'s',sep='')"
   ]
  },
  {
   "cell_type": "code",
   "execution_count": null,
   "metadata": {
    "collapsed": true
   },
   "outputs": [],
   "source": []
  }
 ],
 "metadata": {
  "kernelspec": {
   "display_name": "Python 3",
   "language": "python",
   "name": "python3"
  },
  "language_info": {
   "codemirror_mode": {
    "name": "ipython",
    "version": 3
   },
   "file_extension": ".py",
   "mimetype": "text/x-python",
   "name": "python",
   "nbconvert_exporter": "python",
   "pygments_lexer": "ipython3",
   "version": "3.6.2"
  }
 },
 "nbformat": 4,
 "nbformat_minor": 2
}
