{
 "cells": [
  {
   "cell_type": "code",
   "execution_count": 1,
   "metadata": {},
   "outputs": [
    {
     "name": "stdout",
     "output_type": "stream",
     "text": [
      "请输入第1个整数，以回车结束。3\n",
      "请输入第2个整数，以回车结束。3\n",
      "请输入第3个整数，以回车结束。3\n",
      "最终的和是： 18\n"
     ]
    }
   ],
   "source": [
    "#练习 1：仿照求$ \\sum_{i=1}^mi + \\sum_{i=1}^ni  + \\sum_{i=1}^ki$的完整代码，写程序，可求m!+n!+k!#\n",
    "def compute_mul(end):\n",
    "    i = 0\n",
    "    total_n = 1\n",
    "\n",
    "    while i < end:\n",
    "        i = i + 1\n",
    "        total_n = total_n * i\n",
    "\n",
    "    return total_n\n",
    "\n",
    "n = int(input('请输入第1个整数，以回车结束。'))\n",
    "m = int(input('请输入第2个整数，以回车结束。'))\n",
    "k = int(input('请输入第3个整数，以回车结束。'))\n",
    "\n",
    "print('最终的和是：', compute_mul(m) + compute_mul(n) + compute_mul(k))"
   ]
  },
  {
   "cell_type": "code",
   "execution_count": 6,
   "metadata": {},
   "outputs": [
    {
     "name": "stdout",
     "output_type": "stream",
     "text": [
      "4倍该函数的和是 3.140592653839794\n",
      "4倍该函数的和是 3.1415826535897198\n"
     ]
    }
   ],
   "source": [
    "#练习 2：写函数可返回1 - 1/3 + 1/5 - 1/7...的前n项的和。在主程序中，分别令n=1000及100000，打印4倍该函数的和。#\n",
    "def compute_sum(q):\n",
    "    i=0\n",
    "    total_n=0\n",
    "    \n",
    "    while i<q:\n",
    "        i=i+1\n",
    "        total_n=total_n+1/(2*i-1)*(-1)**(i+1)\n",
    "        \n",
    "    return total_n\n",
    "                         \n",
    "print(\"4倍该函数的和是\",4*compute_sum(1000))\n",
    "print(\"4倍该函数的和是\",4*compute_sum(100000))"
   ]
  },
  {
   "cell_type": "code",
   "execution_count": 2,
   "metadata": {},
   "outputs": [
    {
     "name": "stdout",
     "output_type": "stream",
     "text": [
      "请输入你的名字，以回车结束Yvonne\n",
      "请输入你的生日，以回车结束9.23\n",
      "你是一个优雅的天秤座\n",
      "None\n"
     ]
    }
   ],
   "source": [
    "#练习 3：将task3中的练习1及练习4改写为函数，并进行调用。#\n",
    "name=input(\"请输入你的名字，以回车结束\")\n",
    "def compute_star(end):\n",
    "    if end>=3.21 and end<=4.20:\n",
    "        print(\"你是一个温顺的白羊座\")\n",
    "    elif end>=4.21 and end<=5.21:\n",
    "        print(\"你是非常有性格的金牛座\")\n",
    "    elif end>=5.22 and end<=6.21:\n",
    "        print(\"你是一个可爱的双子座\")\n",
    "    elif end>=6.22 and end<=7.22:\n",
    "        print(\"你是一个能干的巨蟹座\")\n",
    "    elif end>=7.23 and end<=8.22:\n",
    "        print(\"你是一个厉害的狮子座\")\n",
    "    elif end>=8.23 and end<=9.22:\n",
    "        print(\"你是一个美丽的处女座\")\n",
    "    elif end>=9.23 and end<=10.23:\n",
    "        print(\"你是一个优雅的天秤座\")\n",
    "    elif end>=10.24 and end<=11.21:\n",
    "        print(\"你是一个有魅力的天蝎座\")\n",
    "    elif end>=11.22 and end<=12.20:\n",
    "        print(\"你是一个勇猛的射手座\")\n",
    "    elif end>=12.21 and end<=1.20:\n",
    "        print(\"你是一个魔幻的摩羯座\")\n",
    "    elif end>=1.21 and end<=2.18:\n",
    "        print(\"你是一个真诚的水瓶座\")\n",
    "    elif end>=2.19 and end<=3.20:\n",
    "        print(\"你是一个活泼的双鱼座\")\n",
    "end=float(input(\"请输入你的生日，以回车结束\"))\n",
    "print(compute_star(end))"
   ]
  },
  {
   "cell_type": "code",
   "execution_count": 3,
   "metadata": {},
   "outputs": [
    {
     "name": "stdout",
     "output_type": "stream",
     "text": [
      "请输入一个名词（单数形式），以回车结束themself\n",
      "themself ves\n"
     ]
    }
   ],
   "source": [
    "#task 4#\n",
    "def plural(word):              \n",
    "    if word.endswith('y'):  \n",
    "        print(word,\"ies\")\n",
    "    elif word.endswith('f'):\n",
    "        print(word,'ves')\n",
    "    elif word.endswith('fe'):\n",
    "        print(word,'ves')\n",
    "    else :\n",
    "        print(word,'s')\n",
    "\n",
    "word=input('请输入一个名词（单数形式），以回车结束')\n",
    "plural(word)\n"
   ]
  },
  {
   "cell_type": "code",
   "execution_count": 2,
   "metadata": {
    "collapsed": true
   },
   "outputs": [],
   "source": [
    "#挑战性练习：写程序，可以求从整数m到整数n累加的和，间隔为k，求和部分需用函数实现，主程序中由用户输入m，n，k调用函数验证正确性。#\n",
    "def compute_sum(end):\n",
    "    m=int(input(\"请输入第一个整数，以回车结束\"))\n",
    "    n=int(input(\"请输入第二个整数(n<m)，以回车结束\"))\n",
    "    k=int(input(\"请输入n到m的间隔，以回车结束\"))\n",
    "    total=m\n",
    "    \n",
    "    while n<m:\n",
    "        n=n+(m-n)/k\n",
    "        total=total+n\n",
    "        \n",
    "        return(total)\n",
    "    \n",
    "    print(\"最终的和是，\",compute_sum(n))"
   ]
  },
  {
   "cell_type": "code",
   "execution_count": null,
   "metadata": {
    "collapsed": true
   },
   "outputs": [],
   "source": []
  }
 ],
 "metadata": {
  "kernelspec": {
   "display_name": "Python 3",
   "language": "python",
   "name": "python3"
  },
  "language_info": {
   "codemirror_mode": {
    "name": "ipython",
    "version": 3
   },
   "file_extension": ".py",
   "mimetype": "text/x-python",
   "name": "python",
   "nbconvert_exporter": "python",
   "pygments_lexer": "ipython3",
   "version": "3.6.2"
  }
 },
 "nbformat": 4,
 "nbformat_minor": 2
}
