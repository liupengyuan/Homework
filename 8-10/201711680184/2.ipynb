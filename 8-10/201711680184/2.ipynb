{
 "cells": [
  {
   "cell_type": "code",
   "execution_count": 1,
   "metadata": {
    "scrolled": true
   },
   "outputs": [
    {
     "name": "stdout",
     "output_type": "stream",
     "text": [
      "请输入一个整数，以回车结束5\n",
      "120\n"
     ]
    }
   ],
   "source": [
    "n=int(input(\"请输入一个整数，以回车结束\"))\n",
    "i=0\n",
    "x=1\n",
    "while i<n:\n",
    "    i=i+1\n",
    "    x=x*i\n",
    "print(x)"
   ]
  },
  {
   "cell_type": "code",
   "execution_count": 2,
   "metadata": {},
   "outputs": [
    {
     "name": "stdout",
     "output_type": "stream",
     "text": [
      "请输入你的名字，以回车结束费凡\n",
      "你好， 费凡\n",
      "请输入要输入整数的个数，以回车结束3\n",
      "请输入一个整数，以回车结束5\n",
      "请输入一个整数，以回车结束8\n",
      "请输入一个整数，以回车结束9\n",
      "和为： 22\n",
      "再见！ 费凡\n"
     ]
    }
   ],
   "source": [
    "name=input(\"请输入你的名字，以回车结束\")\n",
    "print(\"你好，\",name)\n",
    "i=0\n",
    "m=int(input(\"请输入要输入整数的个数，以回车结束\"))\n",
    "total=0\n",
    "while i<m:\n",
    "    i+=1\n",
    "    n=int(input(\"请输入一个整数，以回车结束\"))\n",
    "    total+=n\n",
    "print(\"和为：\",total)\n",
    "print(\"再见！\",name)"
   ]
  },
  {
   "cell_type": "code",
   "execution_count": 2,
   "metadata": {},
   "outputs": [
    {
     "name": "stdout",
     "output_type": "stream",
     "text": [
      "请输入一个正整数，终止请输入m:3\n",
      "请输入一个正整数，终止请输入m:8\n",
      "请输入一个正整数，终止请输入m:9\n",
      "请输入一个正整数，终止请输入m:22\n",
      "请输入一个正整数，终止请输入m:m\n"
     ]
    }
   ],
   "source": [
    "n=input(\"请输入一个正整数，终止请输入m:\")\n",
    "while n!=\"m\":\n",
    "    n=input(\"请输入一个正整数，终止请输入m:\")"
   ]
  },
  {
   "cell_type": "code",
   "execution_count": 1,
   "metadata": {},
   "outputs": [
    {
     "name": "stdout",
     "output_type": "stream",
     "text": [
      "输入正整数45\n",
      "输入正整数38\n",
      "输入正整数100\n",
      "输入所有数字之和为83\n",
      "输入所有数字之积为1710\n",
      "输入所有数字的和比当前输入数字小，且输入所有数字的积大于500,结束输入\n"
     ]
    }
   ],
   "source": [
    "n=int(input('输入正整数'))\n",
    "total=0\n",
    "m=1\n",
    "while total>=n or m<=500:\n",
    "    total=total+n\n",
    "    m=m*n\n",
    "    n=int(input('输入正整数'))\n",
    "print('输入所有数字之和为',total,sep='')\n",
    "print('输入所有数字之积为',m,sep='')\n",
    "print('输入所有数字的和比当前输入数字小，且输入所有数字的积大于500,结束输入')"
   ]
  },
  {
   "cell_type": "code",
   "execution_count": null,
   "metadata": {
    "collapsed": true
   },
   "outputs": [],
   "source": []
  }
 ],
 "metadata": {
  "kernelspec": {
   "display_name": "Python 3",
   "language": "python",
   "name": "python3"
  },
  "language_info": {
   "codemirror_mode": {
    "name": "ipython",
    "version": 3
   },
   "file_extension": ".py",
   "mimetype": "text/x-python",
   "name": "python",
   "nbconvert_exporter": "python",
   "pygments_lexer": "ipython3",
   "version": "3.6.2"
  },
  "widgets": {
   "application/vnd.jupyter.widget-state+json": {
    "state": {},
    "version_major": 2,
    "version_minor": 0
   }
  }
 },
 "nbformat": 4,
 "nbformat_minor": 2
}
