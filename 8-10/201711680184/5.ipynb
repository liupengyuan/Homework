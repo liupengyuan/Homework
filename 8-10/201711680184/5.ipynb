{
 "cells": [
  {
   "cell_type": "code",
   "execution_count": 3,
   "metadata": {},
   "outputs": [
    {
     "name": "stdout",
     "output_type": "stream",
     "text": [
      "请输入一个整数，作为求均值平方的整数的下限，以回车结束6\n",
      "请输入一个整数，作为求均值平方的整数的上限，以回车结束33\n",
      "请输入所取的随机整数的个数，以回车结束95\n",
      "4.494441010848846\n"
     ]
    }
   ],
   "source": [
    "#练习 1：写函数，求n个随机整数均值的平方根，整数范围在m与k之间（n,m,k由用户输入）\n",
    "def compute_sum(end):             \n",
    "    i=0\n",
    "    total=0\n",
    "    while i<n:\n",
    "        i=i+1\n",
    "        import random\n",
    "        number = random.randint(m, k)\n",
    "        total=total+number\n",
    "    c=total/n\n",
    "    import math\n",
    "    squaral=math.sqrt(c)\n",
    "    print(squaral)       \n",
    "m=int(input('请输入一个整数，作为求均值平方的整数的下限，以回车结束'))\n",
    "k=int(input('请输入一个整数，作为求均值平方的整数的上限，以回车结束'))\n",
    "n=int(input('请输入所取的随机整数的个数，以回车结束'))\n",
    "compute_sum(n)"
   ]
  },
  {
   "cell_type": "code",
   "execution_count": 5,
   "metadata": {},
   "outputs": [
    {
     "name": "stdout",
     "output_type": "stream",
     "text": [
      "请输入一个整数，作为求均值平方的整数的下限，以回车结束0\n",
      "请输入一个整数，作为求均值平方的整数的上限，以回车结束10\n",
      "请输入所取的随机整数的个数，以回车结束9\n",
      "1.9148542155126762\n"
     ]
    }
   ],
   "source": [
    "#练习 2：写函数，共n个随机整数，整数范围在m与k之间，（n,m,k由用户输入）。求1：西格玛log(随机整数)\n",
    "def comput_sum(end):\n",
    "    i=0\n",
    "    total=0\n",
    "    while i<n:\n",
    "        i=i+1\n",
    "        total=0\n",
    "        import random\n",
    "        number=random.randint(m,k)\n",
    "        import math\n",
    "        lll=math.log2(number)\n",
    "        total=total+lll\n",
    "             \n",
    "    print(total)\n",
    "        \n",
    "m=int(input('请输入一个整数，作为求均值平方的整数的下限，以回车结束'))\n",
    "k=int(input('请输入一个整数，作为求均值平方的整数的上限，以回车结束'))\n",
    "n=int(input('请输入所取的随机整数的个数，以回车结束'))\n",
    "compute_sum(n)"
   ]
  },
  {
   "cell_type": "code",
   "execution_count": 6,
   "metadata": {},
   "outputs": [
    {
     "name": "stdout",
     "output_type": "stream",
     "text": [
      "请输入一个整数，作为求均值平方的整数的下限，以回车结束3\n",
      "请输入一个整数，作为求均值平方的整数的上限，以回车结束19\n",
      "请输入所取的随机整数的个数，以回车结束15\n",
      "0.23540891336663824\n"
     ]
    }
   ],
   "source": [
    "#练习 2：写函数，共n个随机整数，整数范围在m与k之间，（n,m,k由用户输入）。2：西格玛1/log(随机整数)\n",
    "def compute_sum(end):  \n",
    "    i=0\n",
    "    total=0\n",
    "    while i<n:\n",
    "        i=i+1\n",
    "        total=0\n",
    "        import random\n",
    "        number=random.randint(m,k)\n",
    "        import math\n",
    "        lll=math.log2(number)\n",
    "        c=1/lll\n",
    "        total=total+c\n",
    "    print(total)\n",
    "m=int(input('请输入一个整数，作为求均值平方的整数的下限，以回车结束'))\n",
    "k=int(input('请输入一个整数，作为求均值平方的整数的上限，以回车结束'))\n",
    "n=int(input('请输入所取的随机整数的个数，以回车结束'))\n",
    "compute_sum(n)"
   ]
  },
  {
   "cell_type": "code",
   "execution_count": null,
   "metadata": {
    "collapsed": true
   },
   "outputs": [],
   "source": []
  }
 ],
 "metadata": {
  "kernelspec": {
   "display_name": "Python 3",
   "language": "python",
   "name": "python3"
  },
  "language_info": {
   "codemirror_mode": {
    "name": "ipython",
    "version": 3
   },
   "file_extension": ".py",
   "mimetype": "text/x-python",
   "name": "python",
   "nbconvert_exporter": "python",
   "pygments_lexer": "ipython3",
   "version": "3.6.2"
  }
 },
 "nbformat": 4,
 "nbformat_minor": 2
}
