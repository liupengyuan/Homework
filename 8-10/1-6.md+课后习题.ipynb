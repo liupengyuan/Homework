{
 "cells": [
  {
   "cell_type": "code",
   "execution_count": 2,
   "metadata": {},
   "outputs": [
    {
     "name": "stdout",
     "output_type": "stream",
     "text": [
      "请输入你想要计算阶乘的整数个数，以回车结束：2\n",
      "2\n"
     ]
    }
   ],
   "source": [
    "#练习1：打印n!\n",
    "\n",
    "n = int(input('请输入你想要计算阶乘的整数个数，以回车结束：'))\n",
    "product = 1\n",
    "\n",
    "for i in range(1,n+1):\n",
    "    product = product*i\n",
    "    \n",
    "print(product)\n",
    "    "
   ]
  },
  {
   "cell_type": "code",
   "execution_count": 3,
   "metadata": {},
   "outputs": [
    {
     "name": "stdout",
     "output_type": "stream",
     "text": [
      "请输入你想要输入并计算的整数个数，以回车结束。3\n",
      "请输入一个整数，以回车结束。1\n",
      "请输入一个整数，以回车结束。2\n",
      "请输入一个整数，以回车结束。3\n",
      "6\n"
     ]
    }
   ],
   "source": [
    "# 练习2：仿照实践1，写出由用户指定整数个数，并由用户输入多个整数，并求和的代码。\n",
    "\n",
    "n = int(input('请输入你想要输入并计算的整数个数，以回车结束。'))\n",
    "numbers = []\n",
    "\n",
    "for i in range(n):\n",
    "    m = int(input('请输入一个整数，以回车结束。'))\n",
    "    numbers.append(m)\n",
    "    \n",
    "print(sum(numbers))"
   ]
  },
  {
   "cell_type": "code",
   "execution_count": 6,
   "metadata": {},
   "outputs": [
    {
     "name": "stdout",
     "output_type": "stream",
     "text": [
      "请输入任意个数字，不想输入时请输入q终止。2\n",
      "请输入任意个数字，不想输入时请输入q终止。3\n",
      "请输入任意个数字，不想输入时请输入q终止。4\n",
      "请输入任意个数字，不想输入时请输入q终止。q\n"
     ]
    }
   ],
   "source": [
    "#练习3：用户可以输入的任意多个数字，直到用户不想输入为止。\n",
    "\n",
    "n = input('请输入任意个数字，不想输入时请输入q终止。')\n",
    "\n",
    "while n != 'q':\n",
    "    n = input('请输入任意个数字，不想输入时请输入q终止。')"
   ]
  },
  {
   "cell_type": "code",
   "execution_count": 12,
   "metadata": {},
   "outputs": [
    {
     "name": "stdout",
     "output_type": "stream",
     "text": [
      "请输入一个整数，以回车结束。2\n",
      "请输入一个整数，以回车结束。3\n",
      "请输入一个整数，以回车结束。4\n",
      "请输入一个整数，以回车结束。7\n",
      "请输入一个整数，以回车结束。12\n",
      "请输入一个整数，以回车结束。23\n",
      "请输入一个整数，以回车结束。23\n",
      "请输入一个整数，以回车结束。45\n",
      "请输入一个整数，以回车结束。5555\n"
     ]
    }
   ],
   "source": [
    "#练习4：用户可以输入的任意多个数字，直到: 输入所有数字的和比当前输入数字小，且输入所有数字的积大于500。\n",
    "n = int(input('请输入一个整数，以回车结束。'))\n",
    "total = 0\n",
    "product = 1\n",
    "\n",
    "while (total >= n) or (product <= 500):\n",
    "    total = total + n\n",
    "    product = product * n\n",
    "    n = int(input('请输入一个整数，以回车结束。'))\n",
    "    "
   ]
  },
  {
   "cell_type": "code",
   "execution_count": null,
   "metadata": {},
   "outputs": [],
   "source": [
    "# 练习 1：写程序，可由键盘读入用户姓名例如Mr. right，让用户输入出生的月份与日期，判断用户星座，假设用户是金牛座，则输出，Mr. right，你是非常有性格的金牛座！。\n",
    "\n",
    "name = input('请输入你的姓名：')\n",
    "print('hello',name)\n",
    "\n",
    "date = int(input('请输入你的生日日期：'))\n",
    "month = int(input('请输入你的生日月份：'))\n",
    "\n",
    "if "
   ]
  },
  {
   "cell_type": "code",
   "execution_count": 25,
   "metadata": {},
   "outputs": [
    {
     "name": "stdout",
     "output_type": "stream",
     "text": [
      "请输入一个整数m:4\n",
      "请输入一个整数n(n不等于0)：1\n",
      "求和输入1，求乘积输入2，m除以n的余数输入3，m整除n输入4：1\n",
      "10\n"
     ]
    }
   ],
   "source": [
    "#练习 2：写程序，可由键盘读入两个整数m与n(n不等于0)，询问用户意图，如果要求和则计算从m到n的和输出，如果要乘积则计算从m到n的积并输出，如果要求余数则计算m除以n的余数的值并输出，否则则计算m整除n的值并输出。\n",
    "\n",
    "m = int(input('请输入一个整数m:'))\n",
    "n = int(input('请输入一个整数n(n不等于0)：'))\n",
    "\n",
    "choice = int(input('求和输入1，求乘积输入2，m除以n的余数输入3，m整除n输入4：'))\n",
    "\n",
    "\n",
    "total = 0\n",
    "product = 1\n",
    "\n",
    "if choice == 1:\n",
    "    while n <= m:\n",
    "        total = total + n\n",
    "        n = n + 1\n",
    "    print(total)\n",
    "elif choice == 2:\n",
    "    while n <= m:\n",
    "        product = product*n\n",
    "        n = n + 1\n",
    "    print(product)\n",
    "elif choice == 3:\n",
    "    print(m % n)\n",
    "    \n",
    "else:\n",
    "    print(m // n)"
   ]
  },
  {
   "cell_type": "code",
   "execution_count": 31,
   "metadata": {},
   "outputs": [
    {
     "name": "stdout",
     "output_type": "stream",
     "text": [
      "请输入你想要输入的整数个数，以回车结束5\n",
      "请输入一个整数，以回车结束1\n",
      "请输入一个整数，以回车结束2\n",
      "请输入一个整数，以回车结束3\n",
      "请输入一个整数，以回车结束4\n",
      "请输入一个整数，以回车结束5\n",
      "4\n"
     ]
    }
   ],
   "source": [
    "# 挑战性练习：写程序，由用户输入一些整数，能够得到几个整数中的次大值(第二大的值)并输出。\n",
    "\n",
    "n = int(input('请输入你想要输入的整数个数，以回车结束'))\n",
    "numbers = []\n",
    "for i in range(n):\n",
    "    m = int(input('请输入一个整数，以回车结束'))\n",
    "    numbers.append(m)\n",
    "numbers.sort()\n",
    "numbers.reverse()\n",
    "\n",
    "print(numbers[1])   "
   ]
  },
  {
   "cell_type": "code",
   "execution_count": 32,
   "metadata": {},
   "outputs": [
    {
     "name": "stdout",
     "output_type": "stream",
     "text": [
      "请输入第1个整数，以回车结束。2\n",
      "请输入第2个整数，以回车结束。3\n",
      "请输入第3个整数，以回车结束。4\n",
      "最终的阶乘的和是： 32\n"
     ]
    }
   ],
   "source": [
    "#练习 1：仿照求$ \\sum_{i=1}^mi + \\sum_{i=1}^ni  + \\sum_{i=1}^ki$的完整代码，写程序，可求m!+n!+k!\n",
    "\n",
    "def sum_number(end):\n",
    "    n = 1\n",
    "    product = 1\n",
    "    \n",
    "    for i in range(end):\n",
    "        product = product*n\n",
    "        n = n+1\n",
    "    return product\n",
    "\n",
    "n = int(input('请输入第1个整数，以回车结束。'))\n",
    "m = int(input('请输入第2个整数，以回车结束。'))\n",
    "k = int(input('请输入第3个整数，以回车结束。'))\n",
    "\n",
    "print('最终的阶乘的和是：', sum_number(m) + sum_number(n) + sum_number(k))    "
   ]
  },
  {
   "cell_type": "code",
   "execution_count": 34,
   "metadata": {},
   "outputs": [
    {
     "name": "stdout",
     "output_type": "stream",
     "text": [
      "n=1000时，4倍该函数的和是3.140592653839794\n",
      "n=100000时，4倍该函数的和是3.1415826535897198\n"
     ]
    }
   ],
   "source": [
    "# 练习 2：写函数可返回1 - 1/3 + 1/5 - 1/7...的前n项的和。在主程序中，分别令n=1000及100000，打印4倍该函数的和。\n",
    "\n",
    "def compute_sum(n):\n",
    "    i = 1\n",
    "    j = 1\n",
    "    k = 0\n",
    "    total = 0\n",
    "    \n",
    "    while k < n:\n",
    "        k = k + 1\n",
    "        total = total + (i/j)\n",
    "        i = i * (-1)\n",
    "        j = j + 2\n",
    "    \n",
    "    return total\n",
    "\n",
    "print('n=1000时，4倍该函数的和是',4*compute_sum(1000), sep = '')\n",
    "print('n=100000时，4倍该函数的和是',4*compute_sum(100000), sep = '')"
   ]
  },
  {
   "cell_type": "code",
   "execution_count": 36,
   "metadata": {},
   "outputs": [
    {
     "name": "stdout",
     "output_type": "stream",
     "text": [
      "请输入起始整数m,回车结束。2\n",
      "请输入终止整数n,回车结束。30\n",
      "请输入间隔整数k,回车结束。2\n",
      "从整数m到整数n累加的和，间隔为k，其值为240\n"
     ]
    }
   ],
   "source": [
    "#挑战性练习：写程序，可以求从整数m到整数n累加的和，间隔为k，求和部分需用函数实现，主程序中由用户输入m，n，k调用函数验证正确性。\n",
    "\n",
    "def compute_sum(m,n,k):\n",
    "    total = 0\n",
    "    while m <= n:\n",
    "        total = total + m\n",
    "        m = m + k\n",
    "    return total\n",
    "\n",
    "m = int(input('请输入起始整数m,回车结束。'))\n",
    "n = int(input('请输入终止整数n,回车结束。'))\n",
    "k = int(input('请输入间隔整数k,回车结束。'))\n",
    "print('从整数m到整数n累加的和，间隔为k，其值为',compute_sum(m,n,k),sep = '')"
   ]
  },
  {
   "cell_type": "code",
   "execution_count": 38,
   "metadata": {},
   "outputs": [
    {
     "name": "stdout",
     "output_type": "stream",
     "text": [
      "请输入范围下界,回车结束。2\n",
      "请输入随机整数个数,回车结束。5\n",
      "请输入范围下界,回车结束。50\n",
      "第 1 个随机整数为 5\n",
      "第 2 个随机整数为 7\n",
      "第 3 个随机整数为 29\n",
      "第 4 个随机整数为 35\n",
      "第 5 个随机整数为 9\n",
      "4.123105625617661\n"
     ]
    }
   ],
   "source": [
    "#练习 1：写函数，求n个随机整数均值的平方根，整数范围在m与k之间（n,m,k由用户输入）。\n",
    "\n",
    "import random,math\n",
    "\n",
    "numbers = []\n",
    "def square_root(n,m,k):\n",
    "    for i in range(n):\n",
    "        number = random.randint(m,k)\n",
    "        print('第',i+1,'个随机整数为',number)\n",
    "        numbers.append(number)\n",
    "    total = sum(numbers)\n",
    "    average = total/n\n",
    "    square = math.sqrt(average)\n",
    "    return square\n",
    "\n",
    "m = int(input('请输入范围下界,回车结束。'))\n",
    "n = int(input('请输入随机整数个数,回车结束。'))\n",
    "k = int(input('请输入范围下界,回车结束。'))    \n",
    "print(square_root(n,m,k))"
   ]
  },
  {
   "cell_type": "code",
   "execution_count": 41,
   "metadata": {},
   "outputs": [
    {
     "name": "stdout",
     "output_type": "stream",
     "text": [
      "请输入范围下界,回车结束。5\n",
      "请输入随机整数个数,回车结束。5\n",
      "请输入范围下界,回车结束。50\n",
      "第 1 个随机整数为： 34\n",
      "3.5263605246161616\n",
      "第 2 个随机整数为： 41\n",
      "3.713572066704308\n",
      "第 3 个随机整数为： 12\n",
      "2.4849066497880004\n",
      "第 4 个随机整数为： 38\n",
      "3.6375861597263857\n",
      "第 5 个随机整数为： 9\n",
      "2.1972245773362196\n",
      "15.559649978171075\n"
     ]
    }
   ],
   "source": [
    "# 练习 2：写函数，共n个随机整数，整数范围在m与k之间，（n,m,k由用户输入）。求1：西格玛log(随机整数)，2：西格玛1/log(随机整数)\n",
    "\n",
    "import random,math\n",
    "\n",
    "numbers = []\n",
    "def compute_sum(n,m,k):\n",
    "    for i in range(n):\n",
    "        num = random.randint(m,k)\n",
    "        print('第',i+1,'个随机整数为：',num)\n",
    "        number = math.log(num)\n",
    "        print(number)\n",
    "        numbers.append(number)\n",
    "    return sum(numbers)\n",
    "\n",
    "m = int(input('请输入范围下界,回车结束。'))\n",
    "n = int(input('请输入随机整数个数,回车结束。'))\n",
    "k = int(input('请输入范围下界,回车结束。'))    \n",
    "print(compute_sum(n,m,k))"
   ]
  },
  {
   "cell_type": "code",
   "execution_count": null,
   "metadata": {},
   "outputs": [],
   "source": [
    "# 挑战性练习：仿照task5，将猜数游戏改成由用户随便选择一个整数，让计算机来猜测的猜数游戏，要求和task5中人猜测的方法类似，但是人机角色对换，由人来判断猜测是大、小还是相等，请写出完整的猜数游戏。\n",
    "import random\n",
    "\n",
    "def guess_game(n,m,k):\n",
    "    real_number == n\n",
    "    guess_number = random.randint(m,k)\n",
    "    if \n",
    "    "
   ]
  },
  {
   "cell_type": "code",
   "execution_count": null,
   "metadata": {},
   "outputs": [],
   "source": [
    "# 写函数，返回一个list中的最大值，最小值，平均值。（不用内置的求和求函数），以[1,2,-1,55,100,899,-10,3,12.5,5.8]为例\n",
    "\n",
    "def max_num(n):\n",
    "    numbers = []\n",
    "    for i in range(n):\n",
    "        number = int(input('请输入一个整数，以回车结束'))\n",
    "        numbers.append(number)\n",
    "    max_number = numbers[0]\n",
    "    for i in range(n):\n",
    "        if numbers[i] > max_number:\n",
    "            max_number = numbers[i]\n",
    "        return max_number\n",
    "    \n",
    "n = int(input('请输入你想要计算的个数，以回车结束'))\n",
    "print('这',n,'个数中的最大值为',max_num(n))\n",
    "\n",
    "def min_num(n):\n",
    "    numbers = []\n",
    "    for i in range(n):\n",
    "        number = int(input('请输入一个整数，以回车结束。')) \n",
    "        numbers.append(number)\n",
    "    min_number = numbers[0]\n",
    "    for i in range(n):\n",
    "        if numbers[i] < min_number:\n",
    "            min_number = numbers[i]\n",
    "    return min_number\n",
    "\n",
    "n = int(input('请输入您需要计算的数字个数，以回车结束。')) \n",
    "print('这',n,'个数中最小的数是',min_num(n))"
   ]
  },
  {
   "cell_type": "code",
   "execution_count": null,
   "metadata": {},
   "outputs": [],
   "source": [
    "#练习 2：写函数，返回一个list中所有数字的和。\n",
    "\n",
    "def sum_num(n):\n",
    "    numbers = []\n",
    "    total = 0\n",
    "    for i in range(n):\n",
    "        number = int(input('请输入一个整数，以回车结束'))\n",
    "        numbers.append(number)\n",
    "    for i in range(n):\n",
    "        total += numbers[i]\n",
    "    return total\n",
    "\n",
    "n = int(input('请输入您需要计算的数字个数，以回车结束'))\n",
    "print('这',n,'个数字的和为',sum_num(n))"
   ]
  },
  {
   "cell_type": "code",
   "execution_count": null,
   "metadata": {},
   "outputs": [],
   "source": [
    "#写函数，返回某个元素/对象在一个list中的位置，如果不在，则返回-1.\n",
    "#本段代码也许出错\n",
    "def location(n):\n",
    "    numbers = []\n",
    "    for i in range(n):\n",
    "        number = int(input('请输入一个整数，以回车结束'))\n",
    "        numbers.append(number)\n",
    "    search = int(input('请输入你要查找的元素，以回车结束'))\n",
    "    print(numbers, search)\n",
    "    for i in range(n):\n",
    "        if search == numbers[i]\n",
    "            return i+1\n",
    "    return -1   \n",
    "\n",
    "n = int(input('请输入您需要输入的元素个数，以回车结束。')) \n",
    "print('在您输入的元素序列中您查找的元素位于',location(n))"
   ]
  },
  {
   "cell_type": "code",
   "execution_count": null,
   "metadata": {},
   "outputs": [],
   "source": [
    "def get_index(object,list):\n",
    "    list=[1,2,3,4]\n",
    "    for i in range(len(list)): \n",
    "        if object == list[i]:\n",
    "            return i\n",
    "        if object not in list:\n",
    "            return -1\n",
    "object=int(input('请输入数字：'))\n",
    "print('对象的位置：',get_index(object,list))"
   ]
  },
  {
   "cell_type": "code",
   "execution_count": 1,
   "metadata": {},
   "outputs": [
    {
     "name": "stdout",
     "output_type": "stream",
     "text": [
      "一共有 3741 种方法\n"
     ]
    }
   ],
   "source": [
    "#挑战性习题：python语言老师为了激励学生学python，自费买了100个完全相同的Macbook Pro，分给三个班级，每个班级至少分5个，用穷举法计算共有多少种分法？\n",
    "\n",
    "total = 0\n",
    "for i in range(1,101):\n",
    "    for j in range(1,101):\n",
    "        for k in range(1,101):\n",
    "            if i+j+k == 100 and i>=5 and j>=5 and k>=5 :\n",
    "                total = total + 1\n",
    "                \n",
    "print('一共有',total, '种方法')"
   ]
  },
  {
   "cell_type": "code",
   "execution_count": null,
   "metadata": {},
   "outputs": [],
   "source": [
    "#写函数，可将两个相同长度的list，间隔插入，生成新的list。例如：给两个list，a=[1,2,3,4], b=[5,6,7,8]。则可以生成：[1,5,2,6,3,7,4,8]。"
   ]
  }
 ],
 "metadata": {
  "kernelspec": {
   "display_name": "Python 3",
   "language": "python",
   "name": "python3"
  },
  "language_info": {
   "codemirror_mode": {
    "name": "ipython",
    "version": 3
   },
   "file_extension": ".py",
   "mimetype": "text/x-python",
   "name": "python",
   "nbconvert_exporter": "python",
   "pygments_lexer": "ipython3",
   "version": "3.6.2"
  }
 },
 "nbformat": 4,
 "nbformat_minor": 2
}
