{
 "cells": [
  {
   "cell_type": "code",
   "execution_count": 2,
   "metadata": {},
   "outputs": [
    {
     "name": "stdout",
     "output_type": "stream",
     "text": [
      "input a integer number m : 5\n",
      "input a integer number n, cannot be 0 : 3\n",
      "input a sign(+,*,%./):+\n",
      "12\n"
     ]
    }
   ],
   "source": [
    "#练习 2：\n",
    "# -*- coding: utf-8 -*-\n",
    "\n",
    "m = int(input('input a integer number m : '))\n",
    "n = int(input('input a integer number n, cannot be 0 : '))\n",
    "sign = raw_input('input a sign(+,*,%./):')\n",
    "res = 0\n",
    "if m > n:\n",
    "    t = m\n",
    "    m = n\n",
    "    n = t\n",
    "if sign == \"+\":\n",
    "    for i in range (m,n+1):\n",
    "        res = res + i\n",
    "elif sign == \"%\":\n",
    "    res = m % n\n",
    "elif sign == \"*\":\n",
    "    res = 1\n",
    "    for i in range (m,n+1):\n",
    "        res = res * i\n",
    "else:\n",
    "    res = m / n\n",
    "    \n",
    "print res\n"
   ]
  },
  {
   "cell_type": "code",
   "execution_count": 16,
   "metadata": {},
   "outputs": [
    {
     "name": "stdout",
     "output_type": "stream",
     "text": [
      "please input a single word: leaf\n",
      "leaves\n"
     ]
    }
   ],
   "source": [
    "#练习 2：\n",
    "# -*- coding: utf-8 -*-\n",
    "\n",
    "word = raw_input(\"please input a single word: \")\n",
    "if word.endswith(\"y\"):\n",
    "    sub_word = word[:-1]\n",
    "    print sub_word + 'ies'\n",
    "elif word.endswith(\"fe\"):\n",
    "    sub_word = word[:-2]\n",
    "    print sub_word + 'ves'\n",
    "elif word.endswith(\"o\"):\n",
    "    print word + 'es'\n",
    "elif word.endswith(\"f\"):\n",
    "    sub_word = word[:-1]\n",
    "    print sub_word + 'ves'\n",
    "else:\n",
    "    print word + \"s\""
   ]
  },
  {
   "cell_type": "code",
   "execution_count": null,
   "metadata": {
    "collapsed": true
   },
   "outputs": [],
   "source": []
  }
 ],
 "metadata": {
  "kernelspec": {
   "display_name": "Python 2",
   "language": "python",
   "name": "python2"
  },
  "language_info": {
   "codemirror_mode": {
    "name": "ipython",
    "version": 2
   },
   "file_extension": ".py",
   "mimetype": "text/x-python",
   "name": "python",
   "nbconvert_exporter": "python",
   "pygments_lexer": "ipython2",
   "version": "2.7.13"
  }
 },
 "nbformat": 4,
 "nbformat_minor": 2
}
