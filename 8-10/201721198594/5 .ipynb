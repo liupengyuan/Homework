{
 "cells": [
  {
   "cell_type": "code",
   "execution_count": 8,
   "metadata": {},
   "outputs": [
    {
     "name": "stdout",
     "output_type": "stream",
     "text": [
      "请输入你想要计算均值平方根的整数的个数：4\n",
      "请输入你想要计算均值平方根的整数的最小值：2\n",
      "请输入你想要计算均值平方根的整数的最大值：6\n",
      "2\n",
      "6\n",
      "6\n",
      "6\n",
      "4个随机整数均值的平方根为：2.236068\n"
     ]
    }
   ],
   "source": [
    "#练习 1：写函数，求n个随机整数均值的平方根，整数范围在m与k之间（n,m,k由用户输入）。\n",
    "import math\n",
    "import random\n",
    "n=int(input(\"请输入你想要计算均值平方根的整数的个数：\"))\n",
    "m=int(input(\"请输入你想要计算均值平方根的整数的最小值：\"))\n",
    "k=int(input(\"请输入你想要计算均值平方根的整数的最大值：\"))\n",
    "def caculate(n,m,k):\n",
    "    total=0\n",
    "    i=0\n",
    "    while i<n :\n",
    "        number = random.randint(m, k)\n",
    "        print(number)\n",
    "        total+=number\n",
    "        i+=1\n",
    "    return total\n",
    "haha=caculate(n,m,k)\n",
    "#print(haha)\n",
    "me=(math.sqrt(haha/n))\n",
    "print(\"%d个随机整数均值的平方根为：%f\" %(n,me))   "
   ]
  },
  {
   "cell_type": "code",
   "execution_count": 4,
   "metadata": {},
   "outputs": [
    {
     "name": "stdout",
     "output_type": "stream",
     "text": [
      "请输入你想要计算均值平方根的整数的个数：4\n",
      "请输入你想要计算均值平方根的整数的最小值：2\n",
      "请输入你想要计算均值平方根的整数的最大值：19\n",
      "6\n",
      "1.791759469228055\n",
      "12\n",
      "4.276666119016055\n",
      "10\n",
      "6.579251212010101\n",
      "16\n",
      "9.351839934249883\n",
      "9.351839934249883\n"
     ]
    }
   ],
   "source": [
    "#练习 2：写函数，共n个随机整数，整数范围在m与k之间，（n,m,k由用户输入）。求1：西格玛log(随机整数)，2：西格玛1/log(随机整数)\n",
    "import math\n",
    "import random\n",
    "n=int(input(\"请输入你想要计算均值平方根的整数的个数：\"))\n",
    "m=int(input(\"请输入你想要计算均值平方根的整数的最小值：\"))\n",
    "k=int(input(\"请输入你想要计算均值平方根的整数的最大值：\"))\n",
    "def caculate(n,m,k):\n",
    "    total=0\n",
    "    i=0\n",
    "    while i<n :\n",
    "        number = random.randint(m, k)\n",
    "        print(number)\n",
    "        #没太懂是求log以几为底的对数 就求了自然对数\n",
    "        total+=math.log(number)\n",
    "        print(total)\n",
    "        i+=1\n",
    "    return total\n",
    "haha=caculate(n,m,k)\n",
    "print(haha)\n",
    "me=(math.sqrt(haha/n))"
   ]
  },
  {
   "cell_type": "code",
   "execution_count": null,
   "metadata": {},
   "outputs": [],
   "source": []
  }
 ],
 "metadata": {
  "kernelspec": {
   "display_name": "Python 3",
   "language": "python",
   "name": "python3"
  },
  "language_info": {
   "codemirror_mode": {
    "name": "ipython",
    "version": 3
   },
   "file_extension": ".py",
   "mimetype": "text/x-python",
   "name": "python",
   "nbconvert_exporter": "python",
   "pygments_lexer": "ipython3",
   "version": "3.6.0"
  }
 },
 "nbformat": 4,
 "nbformat_minor": 2
}
