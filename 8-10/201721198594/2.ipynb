{
 "cells": [
  {
   "cell_type": "code",
   "execution_count": 1,
   "metadata": {},
   "outputs": [
    {
     "name": "stdout",
     "output_type": "stream",
     "text": [
      "please input a number n:3\n",
      "total = 6\n"
     ]
    }
   ],
   "source": [
    "#2.md  练习1  仿照任务2完整代码，打印 n!\n",
    "n = int (input(\"please input a number n:\"))\n",
    "total = 1\n",
    "for i in range (1,n+1):\n",
    "    total = total * i \n",
    "print \"total = \"+str(total)"
   ]
  },
  {
   "cell_type": "code",
   "execution_count": 2,
   "metadata": {},
   "outputs": [
    {
     "name": "stdout",
     "output_type": "stream",
     "text": [
      "please input the count of your integer number: 3\n",
      "please input a integer number: 2\n",
      "please input a integer number: 3\n",
      "please input a integer number: 4\n",
      "the sum is : 9\n"
     ]
    }
   ],
   "source": [
    "#2.md  练习2  仿照实践1，写出由用户指定整数个数，并由用户输入多个整数，并求和的代码。\n",
    "\n",
    "count = int(input(\"please input the count of your integer number: \"))\n",
    "sum = 0\n",
    "i = 0\n",
    "while i < count:\n",
    "    num = int(input(\"please input a integer number: \"))\n",
    "    sum = sum + num\n",
    "    i = i+1\n",
    "    \n",
    "print \"the sum is : \" + str(sum)"
   ]
  },
  {
   "cell_type": "code",
   "execution_count": 3,
   "metadata": {},
   "outputs": [
    {
     "name": "stdout",
     "output_type": "stream",
     "text": [
      "please input a integer number: (q for exit)3\n",
      "please input a integer number: (q for exit)4\n",
      "please input a integer number: (q for exit)5\n",
      "please input a integer number: (q for exit)q\n",
      "the sum is : 12\n"
     ]
    }
   ],
   "source": [
    "#2.md  练习3  用户可以输入的任意多个数字，直到用户不想输入为止。\n",
    "\n",
    "sum = 0\n",
    "num = 0\n",
    "while 1:\n",
    "    try:\n",
    "        num = int(input(\"please input a integer number: (q for exit)\"))\n",
    "        sum = sum + num\n",
    "    except:\n",
    "        break\n",
    "    \n",
    "    \n",
    "print \"the sum is : \" + str(sum)"
   ]
  },
  {
   "cell_type": "code",
   "execution_count": 6,
   "metadata": {},
   "outputs": [
    {
     "name": "stdout",
     "output_type": "stream",
     "text": [
      "please input a integer number: (q for exit)-2\n",
      "please input a integer number: (q for exit)3\n",
      "please input a integer number: (q for exit)-4\n",
      "please input a integer number: (q for exit)-6\n",
      "please input a integer number: (q for exit)-1\n",
      "输入所有数字的和比当前输入数字小，且输入所有数字的积比当前输入数字的平方大!\n",
      "the sum is : -10\n",
      "the mul is : 144\n"
     ]
    }
   ],
   "source": [
    "#2.md  练习4 用户可以输入的任意多个数字，直到输入所有数字的和比当前输入数字小，且输入所有数字的积比当前输入数字的平方大。\n",
    "\n",
    "sum = 0\n",
    "num = 0\n",
    "mul = 1\n",
    "while 1:\n",
    "    try:\n",
    "        num = int(input(\"please input a integer number: (q for exit)\"))\n",
    "        sum = sum + num\n",
    "        mul = mul * num\n",
    "        if sum < num and mul > num * num:\n",
    "            print \"输入所有数字的和比当前输入数字小，且输入所有数字的积比当前输入数字的平方大!\"\n",
    "            break\n",
    "    except:\n",
    "        print \"your input is not a number,exit!\"\n",
    "        break\n",
    "\n",
    "    \n",
    "    \n",
    "print \"the sum is : \" + str(sum)\n",
    "print \"the mul is : \" + str(mul)"
   ]
  },
  {
   "cell_type": "code",
   "execution_count": null,
   "metadata": {
    "collapsed": true
   },
   "outputs": [],
   "source": []
  },
  {
   "cell_type": "code",
   "execution_count": null,
   "metadata": {
    "collapsed": true
   },
   "outputs": [],
   "source": []
  },
  {
   "cell_type": "code",
   "execution_count": null,
   "metadata": {
    "collapsed": true
   },
   "outputs": [],
   "source": []
  }
 ],
 "metadata": {
  "kernelspec": {
   "display_name": "Python 2",
   "language": "python",
   "name": "python2"
  },
  "language_info": {
   "codemirror_mode": {
    "name": "ipython",
    "version": 2
   },
   "file_extension": ".py",
   "mimetype": "text/x-python",
   "name": "python",
   "nbconvert_exporter": "python",
   "pygments_lexer": "ipython2",
   "version": "2.7.13"
  }
 },
 "nbformat": 4,
 "nbformat_minor": 2
}
