{
 "cells": [
  {
   "cell_type": "code",
   "execution_count": 1,
   "metadata": {},
   "outputs": [
    {
     "name": "stdout",
     "output_type": "stream",
     "text": [
      "请输入第1个整数，以回车结束。3\n",
      "请输入第2个整数，以回车结束。4\n",
      "请输入第3个整数，以回车结束。2\n",
      "最终的和是： 32\n"
     ]
    }
   ],
   "source": [
    "#练习 1：仿照求$ \\sum_{i=1}^mi + \\sum_{i=1}^ni + \\sum_{i=1}^ki$的完整代码，写程序，可求m!+n!+k!\n",
    "n = int(input('请输入第1个整数，以回车结束。'))\n",
    "i = 1\n",
    "total_n = 1\n",
    "while i < n:\n",
    "    i = i + 1\n",
    "    total_n = total_n * i\n",
    "\n",
    "m = int(input('请输入第2个整数，以回车结束。'))\n",
    "i = 1\n",
    "total_m = 1\n",
    "while i < m:\n",
    "    i = i + 1\n",
    "    total_m = total_m * i\n",
    "\n",
    "k = int(input('请输入第3个整数，以回车结束。'))\n",
    "i = 1\n",
    "total_k = 1\n",
    "while i < k:\n",
    "    i = i + 1\n",
    "    total_k = total_k* i\n",
    "\n",
    "print('最终的和是：', total_n + total_m + total_k)"
   ]
  },
  {
   "cell_type": "code",
   "execution_count": 14,
   "metadata": {},
   "outputs": [
    {
     "name": "stdout",
     "output_type": "stream",
     "text": [
      "请输入1000或者100000，以回车结束。1000\n",
      "最终的和*4是： 3.140592653839794\n"
     ]
    }
   ],
   "source": [
    "#练习 2：写函数可返回1 - 1/3 + 1/5 - 1/7...的前n项的和。在主程序中，分别令n=1000及100000，打印4倍该函数的和。\n",
    "n = int(input('请输入1000或者100000，以回车结束。'))\n",
    "i = 1\n",
    "total_n = 1\n",
    "while i < n:\n",
    "    i = i + 1\n",
    "    total_n = total_n -(-1)**i*(1/(2*i-1))\n",
    "print('最终的和*4是：', total_n*4)"
   ]
  },
  {
   "cell_type": "code",
   "execution_count": 10,
   "metadata": {},
   "outputs": [
    {
     "name": "stdout",
     "output_type": "stream",
     "text": [
      "请问您叫什么名字呀？Lubby\n",
      "请输入你的生日 格式为：02180728\n",
      "Lubby你是非常有性格的:\n",
      "狮子座\n"
     ]
    }
   ],
   "source": [
    "#练习 3：将task3中的练习1及练习4改写为函数，并进行调用。\n",
    "#写程序，可由键盘读入用户姓名例如Mr. right，让用户输入出生的月份与日期，判断用户星座\n",
    "name=input(\"请问您叫什么名字呀？\")\n",
    "birthday=int(input(\"请输入你的生日 格式为：0218\"))\n",
    "def star(x):\n",
    "    #if x>=321&&x<=419:\n",
    "    if 321<=x<=419:\n",
    "        print(\"白羊座\")\n",
    "    #elif x>=420&&x<=520:\n",
    "    elif 420<=x<=520:\n",
    "        print(\"金牛座\")\n",
    "    #elif x>=521&&x<=620:\n",
    "    elif 521<=x<=620:\n",
    "        print(\"双子座\")\n",
    "    #elif x>=621&&x<=721:\n",
    "    elif 621<=x<=721:\n",
    "        print(\"巨蟹座\")\n",
    "    #elif x>=722&&x<=822:\n",
    "    elif 722<=x<=822:\n",
    "        print(\"狮子座\")\n",
    "    #elif x>=823&&x<=922:\n",
    "    elif 823<=x<=922:\n",
    "        print(\"处女座\")\n",
    "    #elif x>=923&&x<=1022:\n",
    "    elif 923<=x<=1022:\n",
    "        print(\"天枰座\")\n",
    "    #elif x>=1023&&x<=1121:\n",
    "    elif 1023<=x<=1121:\n",
    "        print(\"天蝎座\")    \n",
    "    #elif x>=1122&&x<=1221:\n",
    "    elif 1122<=x<=1221:\n",
    "        print(\"射手座\")\n",
    "    #elif x>=120&&x<=218:\n",
    "    elif 120<=x<=218:\n",
    "        print(\"水瓶座\")    \n",
    "    #elif x>=219&&x<=320:\n",
    "    elif 219<=x<=320:\n",
    "        print(\"双鱼座\")  \n",
    "    else:\n",
    "        print(\"摩羯座\")\n",
    "        \n",
    "print(\"%s你是非常有性格的:\" %name)\n",
    "star(birthday)"
   ]
  },
  {
   "cell_type": "code",
   "execution_count": 2,
   "metadata": {},
   "outputs": [
    {
     "name": "stdout",
     "output_type": "stream",
     "text": [
      "please input a single word: entity\n",
      "这个词的复数是：\n",
      "entities\n"
     ]
    }
   ],
   "source": [
    "#练习 3：将task3中的练习1及练习4改写为函数，并进行调用。\n",
    "##练习4改写：\n",
    "word = input(\"please input a single word: \")\n",
    "def final(word):\n",
    "    if word.endswith(\"y\"):\n",
    "        sub_word = word[:-1]\n",
    "        print (sub_word + 'ies')\n",
    "    elif word.endswith(\"fe\"):\n",
    "        sub_word = word[:-2]\n",
    "        print (sub_word + 'ves')\n",
    "    elif word.endswith(\"o\"):\n",
    "        print (word + 'es')\n",
    "    elif word.endswith(\"f\"):\n",
    "        sub_word = word[:-1]\n",
    "        print (sub_word + 'ves')\n",
    "    else:\n",
    "        print (word + \"s\")\n",
    "print(\"这个词的复数是：\")\n",
    "final(word)"
   ]
  },
  {
   "cell_type": "code",
   "execution_count": 3,
   "metadata": {},
   "outputs": [
    {
     "name": "stdout",
     "output_type": "stream",
     "text": [
      "请输入累加的开始m，回车结束。5\n",
      "请输入累加的结束n，回车结束。10\n",
      "请输入累加的间隔k，回车结束。2\n",
      "累加的和为： 21\n"
     ]
    }
   ],
   "source": [
    "#挑战性练习：写程序，可以求从整数m到整数n累加的和，间隔为k，求和部分需用函数实现，主程序中由用户输入m，n，k调用函数验证正确性。\n",
    "m=int(input(\"请输入累加的开始m，回车结束。\"))\n",
    "n=int(input(\"请输入累加的结束n，回车结束。\"))\n",
    "k=int(input(\"请输入累加的间隔k，回车结束。\"))\n",
    "def addM_M(m,n,k):\n",
    "    total=0\n",
    "    i=m\n",
    "    while i<=n:\n",
    "        total+=i\n",
    "        i+=k\n",
    "    return total\n",
    "total=addM_M(m,n,k)\n",
    "print(\"累加的和为：\",total)"
   ]
  },
  {
   "cell_type": "code",
   "execution_count": null,
   "metadata": {},
   "outputs": [],
   "source": []
  },
  {
   "cell_type": "code",
   "execution_count": null,
   "metadata": {},
   "outputs": [],
   "source": []
  }
 ],
 "metadata": {
  "kernelspec": {
   "display_name": "Python 3",
   "language": "python",
   "name": "python3"
  },
  "language_info": {
   "codemirror_mode": {
    "name": "ipython",
    "version": 3
   },
   "file_extension": ".py",
   "mimetype": "text/x-python",
   "name": "python",
   "nbconvert_exporter": "python",
   "pygments_lexer": "ipython3",
   "version": "3.6.0"
  }
 },
 "nbformat": 4,
 "nbformat_minor": 2
}
