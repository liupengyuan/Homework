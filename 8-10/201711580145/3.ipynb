{
 "cells": [
  {
   "cell_type": "code",
   "execution_count": null,
   "metadata": {
    "collapsed": true
   },
   "outputs": [],
   "source": [
    "m=int(input('请输入一个正整数m,m='))\n",
    "n=int(input('请输入一个正整数n,n='))\n",
    "\n",
    "b=max(m,n)\n",
    "c=min(m,n)\n",
    "\n",
    "i = input('求m到n的和请输入1、求m到n的积请输入2、求m除以n的余数请输入3，求m整除n请输入4：')\n",
    "\n",
    "if i is '1':\n",
    "    print((b-c+1)*(b+c)/2)\n",
    "\n",
    "elif i is '2':\n",
    "    z = c\n",
    "    while c <= b:\n",
    "        c=c+1\n",
    "        z=z*c\n",
    "    print(z)\n",
    "    \n",
    "elif i is '3':\n",
    "    print(b%c)\n",
    "    \n",
    "else:\n",
    "    print(b//c)"
   ]
  },
  {
   "cell_type": "code",
   "execution_count": null,
   "metadata": {
    "collapsed": true
   },
   "outputs": [],
   "source": [
    "i = input('请输入一个英文名词单数形式：')\n",
    "\n",
    "if i in {'sheep','fish','police','cattle','deer','people'}:\n",
    "    print('此单词的复数形式是：',i,sep='')\n",
    "    \n",
    "elif i.endswith('s') or i.endswith('ch') or i.endswith('x') or i.endswith('sh'):\n",
    "    print('此单词的复数形式是：',i,'es',sep='')\n",
    "    \n",
    "else:\n",
    "    print('此单词的复数形式是：',i,'s',sep='')"
   ]
  }
 ],
 "metadata": {
  "kernelspec": {
   "display_name": "Python 3",
   "language": "python",
   "name": "python3"
  },
  "language_info": {
   "codemirror_mode": {
    "name": "ipython",
    "version": 3
   },
   "file_extension": ".py",
   "mimetype": "text/x-python",
   "name": "python",
   "nbconvert_exporter": "python",
   "pygments_lexer": "ipython3",
   "version": "3.6.2"
  }
 },
 "nbformat": 4,
 "nbformat_minor": 2
}
