{
 "cells": [
  {
   "cell_type": "code",
   "execution_count": 5,
   "metadata": {},
   "outputs": [
    {
     "name": "stdout",
     "output_type": "stream",
     "text": [
      "请输入一个大于0的整数，回车结束。5\n",
      "请输入一个大于0的整数，回车结束。1\n",
      "请输入一个大于m的整数，回车结束。10\n",
      "1.1832159566199232\n"
     ]
    }
   ],
   "source": [
    "import random\n",
    "k = int(input('请输入一个大于0的整数，回车结束。'))\n",
    "m = int(input('请输入一个大于0的整数，回车结束。'))\n",
    "n = int(input('请输入一个大于m的整数，回车结束。'))\n",
    "i=0\n",
    "total=0\n",
    "while i < k: \n",
    "    i=i+1\n",
    "    number = random.randint(m, n)\n",
    "    total=total+number\n",
    "average=total/n\n",
    "w=average**0.5\n",
    "print (w)"
   ]
  },
  {
   "cell_type": "code",
   "execution_count": 12,
   "metadata": {},
   "outputs": [
    {
     "name": "stdout",
     "output_type": "stream",
     "text": [
      "请输入一个大于0的整数，回车结束。7\n",
      "请输入一个大于0的整数，回车结束。5\n",
      "请输入一个大于m的整数，回车结束。207\n",
      "(12.303652973869037, 4.008022741520832)\n"
     ]
    }
   ],
   "source": [
    "import random\n",
    "import math\n",
    "def sigm():\n",
    "    total1 = 0\n",
    "    total2 = 0\n",
    "    i = 0\n",
    "    while i< n:\n",
    "        i=i+1\n",
    "        number = random.randint(m, n)\n",
    "        total1 += math.log(number)\n",
    "        total2 += 1/math.log(number)\n",
    "    return total1,total2\n",
    "n = int(input('请输入一个大于0的整数，回车结束。'))\n",
    "m = int(input('请输入一个大于0的整数，回车结束。'))\n",
    "k = int(input('请输入一个大于m的整数，回车结束。'))\n",
    "print(sigm())"
   ]
  },
  {
   "cell_type": "code",
   "execution_count": null,
   "metadata": {
    "collapsed": true
   },
   "outputs": [],
   "source": []
  },
  {
   "cell_type": "code",
   "execution_count": null,
   "metadata": {
    "collapsed": true
   },
   "outputs": [],
   "source": []
  },
  {
   "cell_type": "code",
   "execution_count": null,
   "metadata": {
    "collapsed": true
   },
   "outputs": [],
   "source": []
  },
  {
   "cell_type": "code",
   "execution_count": null,
   "metadata": {
    "collapsed": true
   },
   "outputs": [],
   "source": []
  }
 ],
 "metadata": {
  "kernelspec": {
   "display_name": "Python 3",
   "language": "python",
   "name": "python3"
  },
  "language_info": {
   "codemirror_mode": {
    "name": "ipython",
    "version": 3
   },
   "file_extension": ".py",
   "mimetype": "text/x-python",
   "name": "python",
   "nbconvert_exporter": "python",
   "pygments_lexer": "ipython3",
   "version": "3.6.2"
  }
 },
 "nbformat": 4,
 "nbformat_minor": 2
}
