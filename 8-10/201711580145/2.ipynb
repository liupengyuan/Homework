{
 "cells": [
  {
   "cell_type": "code",
   "execution_count": null,
   "metadata": {
    "collapsed": true
   },
   "outputs": [],
   "source": [
    "n=input('输入一个数字、按回车结束')\n",
    "n=int(n)\n",
    "i=0\n",
    "w=1\n",
    "while i<n:\n",
    "    i+=1\n",
    "    w*=i\n",
    "print(w)"
   ]
  },
  {
   "cell_type": "code",
   "execution_count": null,
   "metadata": {
    "collapsed": true
   },
   "outputs": [],
   "source": [
    "name = input('请输入你的姓名，以回车结束。')\n",
    "print('你好', name)\n",
    "m = int(input('请输入您想输入的整数个数，以回车结束。'))\n",
    "i = 1\n",
    "total=0\n",
    "while i <=m:\n",
    "    i += 1\n",
    "    n = int(input('请输入一个整数，回车结束'))\n",
    "    total=total+n\n",
    "print('这些数的和是：', total)\n",
    "print('再见！', name)"
   ]
  },
  {
   "cell_type": "code",
   "execution_count": null,
   "metadata": {
    "collapsed": true
   },
   "outputs": [],
   "source": [
    "name = input('请输入你的姓名，以回车结束。')\n",
    "print('你好',name)\n",
    "i = 1\n",
    "total=0\n",
    "m=2\n",
    "while i <=m:\n",
    "    i += 1\n",
    "    m += 1\n",
    "    n = int(input('请输入一个整数，回车结束'))\n",
    "    total=total+n\n",
    "    print('这些数的和是',total)"
   ]
  },
  {
   "cell_type": "code",
   "execution_count": null,
   "metadata": {},
   "outputs": [],
   "source": [
    "n=int(input('输入正整数'))\n",
    "total=0\n",
    "m=1\n",
    "while total>=n or m<=500:\n",
    "    total=total+n\n",
    "    m=m*n\n",
    "    n=int(input('输入正整数'))\n",
    "print('输入所有数字之和为',total,muti='')\n",
    "print('输入所有数字之积为',m,muti='')\n",
    "print('输入所有数字的和比当前输入数字小，且输入所有数字的积大于500,结束输入')"
   ]
  }
 ],
 "metadata": {
  "kernelspec": {
   "display_name": "Python 3",
   "language": "python",
   "name": "python3"
  },
  "language_info": {
   "codemirror_mode": {
    "name": "ipython",
    "version": 3
   },
   "file_extension": ".py",
   "mimetype": "text/x-python",
   "name": "python",
   "nbconvert_exporter": "python",
   "pygments_lexer": "ipython3",
   "version": "3.6.2"
  }
 },
 "nbformat": 4,
 "nbformat_minor": 2
}
