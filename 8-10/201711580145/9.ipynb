{
 "cells": [
  {
   "cell_type": "code",
   "execution_count": null,
   "metadata": {
    "collapsed": true
   },
   "outputs": [],
   "source": [
    "import random\n",
    "\n",
    "numbers = {}\n",
    "for i in range(0,10000):\n",
    "    number = random.randint(0,100000)\n",
    "    if number in numbers: \n",
    "        numbers[number] += 1\n",
    "    else: \n",
    "        numbers[number] = 1\n",
    "\n",
    "list=sorted(numbers,reverse = True)\n",
    "k=0\n",
    "for ele in list:\n",
    "    k=k+1\n",
    "    if k%9==0:\n",
    "        print('\\n')\n",
    "        k=0\n",
    "    print(ele,':',numbers[ele],end='  ')"
   ]
  },
  {
   "cell_type": "code",
   "execution_count": null,
   "metadata": {
    "collapsed": true
   },
   "outputs": [],
   "source": [
    "from collections import Counter\n",
    "\n",
    "def random_file1(filename):\n",
    "    i = 0\n",
    "    fh = open(r'c:\\1\\text.txt','w')\n",
    "    with open(filename) as f:\n",
    "        for line in f:\n",
    "            i = i + 1\n",
    "            if i > 5000:\n",
    "                fh.close()\n",
    "                return r'c:\\1\\text.txt'\n",
    "            fh.write(line)\n",
    "            \n",
    "def random_file2(filename):\n",
    "    i = 0\n",
    "    fh = open(r'c:\\1\\text1.txt','w')\n",
    "    with open(filename) as f:\n",
    "        for line in f:\n",
    "            i = i + 1\n",
    "            if i > 5000 and i < 10001:\n",
    "                fh.write(line)\n",
    "    fh.close()\n",
    "    return r'c:\\1\\text1.txt'\n",
    "    \n",
    "def compare(filename1,filename2):\n",
    "    dict1 = Counter()\n",
    "    dict2 = Counter()\n",
    "    same = {}\n",
    "    differ = {}\n",
    "    \n",
    "    with open(filename1) as f1:\n",
    "        for line in f1:\n",
    "            dict1.update([word.split('/')[0] for word in line.split()])\n",
    "    with open(filename2) as f2:\n",
    "        for line in f2:\n",
    "            dict2.update([word.split('/')[0] for word in line.split()])\n",
    "    for word in dict2:\n",
    "        if word in dict1:\n",
    "            same[word] = 1\n",
    "        else:\n",
    "            differ[word] = 1\n",
    "\n",
    "                \n",
    "    return same,differ\n",
    "\n",
    "def main():\n",
    "    filename = r'c:\\语料.txt'\n",
    "    filename1 = random_file1(filename)\n",
    "    filename2 = random_file2(filename)\n",
    "    same,differ = compare(filename1,filename2)\n",
    "    print('这两个文件的共用字为：')\n",
    "    for key in same:            \n",
    "        print(key,end='  ')\n",
    "    print('\\n-------------------------------------------------------------------------------------------------------')\n",
    "    print('这两个文件的独用字为：')\n",
    "    for key in differ:            \n",
    "        print(key,end='  ')\n",
    "   \n",
    "if __name__ == '__main__':\n",
    "    main()"
   ]
  }
 ],
 "metadata": {
  "kernelspec": {
   "display_name": "Python 3",
   "language": "python",
   "name": "python3"
  },
  "language_info": {
   "codemirror_mode": {
    "name": "ipython",
    "version": 3
   },
   "file_extension": ".py",
   "mimetype": "text/x-python",
   "name": "python",
   "nbconvert_exporter": "python",
   "pygments_lexer": "ipython3",
   "version": "3.6.2"
  }
 },
 "nbformat": 4,
 "nbformat_minor": 2
}
