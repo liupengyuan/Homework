{
 "cells": [
  {
   "cell_type": "code",
   "execution_count": null,
   "metadata": {
    "collapsed": true
   },
   "outputs": [],
   "source": [
    "def compute_sum(end):\n",
    "    i = 0\n",
    "    total_n = 1\n",
    "\n",
    "    while i < end:\n",
    "        i = i + 1\n",
    "        total_n = total_n * i\n",
    "\n",
    "    return total_n\n",
    "\n",
    "n = int(input('请输入第1个整数，以回车结束。'))\n",
    "m = int(input('请输入第2个整数，以回车结束。'))\n",
    "k = int(input('请输入第3个整数，以回车结束。'))\n",
    "\n",
    "print('最终的和是：', compute_sum(m) + compute_sum(n) + compute_sum(k))"
   ]
  },
  {
   "cell_type": "code",
   "execution_count": 10,
   "metadata": {},
   "outputs": [
    {
     "name": "stdout",
     "output_type": "stream",
     "text": [
      "3.140592653839794\n",
      "3.1415826535897198\n"
     ]
    }
   ],
   "source": [
    "def compute_sum(end):\n",
    "    i = 0\n",
    "    total_n = 0\n",
    "    while i < end:\n",
    "        i = i + 1\n",
    "        n=(1/(2*i-1))*(-1)**(i-1)\n",
    "        total_n = total_n + n\n",
    "    return total_n\n",
    "print(4*compute_sum(1000)) \n",
    "print(4*compute_sum(100000))"
   ]
  },
  {
   "cell_type": "code",
   "execution_count": 8,
   "metadata": {},
   "outputs": [
    {
     "name": "stdout",
     "output_type": "stream",
     "text": [
      "请输入起始整数m，以回车结束。1\n",
      "请输入终止整数n，以回车结束。9\n",
      "请输入间隔k，以回车结束。2\n",
      "25\n"
     ]
    }
   ],
   "source": [
    "def compute_sum():\n",
    "    i = 1\n",
    "    total_n = m\n",
    "    while i < n:\n",
    "        if (m-n)%2=0:\n",
    "            i = i + k\n",
    "            total_n = total_n + i\n",
    "        else \n",
    "            i = i + k\n",
    "            total_n = total_n + i\n",
    "    return total_n\n",
    "m = int(input('请输入起始整数m，以回车结束。'))\n",
    "n = int(input('请输入终止整数n，以回车结束。'))\n",
    "k = int(input('请输入间隔k，以回车结束。'))\n",
    "print(compute_sum())"
   ]
  },
  {
   "cell_type": "code",
   "execution_count": null,
   "metadata": {
    "collapsed": true
   },
   "outputs": [],
   "source": [
    "name = input('请输入你的姓名，以回车结束。')\n",
    "print('你好',name)\n",
    "date = float(input('请输入你的出生月日，以回车结束。'))\n",
    "def judge(date):\n",
    "    if date>=12.22:\n",
    "        print(name,'你是非常有性格的摩羯座！')\n",
    "    elif date<=1.19:\n",
    "        print(name,'你是非常有性格的摩羯座！')\n",
    "    elif 1.20<=date<=2.18 :\n",
    "        print(name,'你是非常有性格的水瓶座！')\n",
    "    elif 2.19<=date<=3.20 :\n",
    "        print(name,'你是非常有性格的双鱼座！')\n",
    "    elif 3.21<=date<=4.19:\n",
    "        print(name,'你是非常有性格的白羊座！')\n",
    "    elif 4.20<=date<=5.20:\n",
    "        print(name,'你是非常有性格的金牛座！')\n",
    "    elif 5.21<=date<=6.21 :\n",
    "        print(name,'你是非常有性格的双子座！')\n",
    "    elif 6.22<=date<=7.22 :\n",
    "        print(name,'你是非常有性格的巨蟹座！')\n",
    "    elif 7.23<=date<=8.22: \n",
    "        print(name,'你是非常有性格的狮子座！')\n",
    "    elif 8.23<=date<=9.22 :\n",
    "        print(name,'你是非常有性格的处女座！')\n",
    "    elif 9.23<=date<=10.23:\n",
    "        print(name,'你是非常有性格的天秤座！')\n",
    "    elif 10.24<=date<=11.22:\n",
    "        print(name,'你是非常有性格的天蝎座！')\n",
    "    else:\n",
    "        print(name,'你是非常有性格的射手座！')"
   ]
  },
  {
   "cell_type": "code",
   "execution_count": null,
   "metadata": {
    "collapsed": true
   },
   "outputs": [],
   "source": [
    "def word_convert(word):\n",
    "    if word ==\"potato\" or word ==\"tomato\":\n",
    "        return word,\"的复数形式是：\",word + 's'\n",
    "    elif word.endswith('s') or word.endswith('o') or word.endswith('x') or word.endswith('ch') or word.endswith('sh'):\n",
    "        return word,\"的复数形式是：\",word + 'es'\n",
    "    elif word.endswith('y'):\n",
    "        return word,\"的复数形式是：\",word[:-1] + 'ies'\n",
    "    elif word.endswith('f'):\n",
    "        return word,\"的复数形式是：\",word[:-1] + 'ves'\n",
    "    elif word.endswith('fe'):\n",
    "        return word,\"的复数形式是：\",word[:-2] + 'ves'\n",
    "    elif word.endswith('an'):  \n",
    "        return word,\"的复数形式是：\",word[:-2] + 'en'\n",
    "    else:\n",
    "        return word,\"的复数形式是：\",word[:-2] + 's'\n",
    "    \n",
    "w = input('请输入一个英文单词(单数形式)：')\n",
    "print(word_convert(w))"
   ]
  },
  {
   "cell_type": "code",
   "execution_count": null,
   "metadata": {
    "collapsed": true
   },
   "outputs": [],
   "source": []
  },
  {
   "cell_type": "code",
   "execution_count": null,
   "metadata": {
    "collapsed": true
   },
   "outputs": [],
   "source": []
  },
  {
   "cell_type": "code",
   "execution_count": null,
   "metadata": {
    "collapsed": true
   },
   "outputs": [],
   "source": []
  },
  {
   "cell_type": "code",
   "execution_count": null,
   "metadata": {
    "collapsed": true
   },
   "outputs": [],
   "source": []
  },
  {
   "cell_type": "code",
   "execution_count": null,
   "metadata": {
    "collapsed": true
   },
   "outputs": [],
   "source": []
  },
  {
   "cell_type": "code",
   "execution_count": null,
   "metadata": {
    "collapsed": true
   },
   "outputs": [],
   "source": []
  }
 ],
 "metadata": {
  "kernelspec": {
   "display_name": "Python 3",
   "language": "python",
   "name": "python3"
  },
  "language_info": {
   "codemirror_mode": {
    "name": "ipython",
    "version": 3
   },
   "file_extension": ".py",
   "mimetype": "text/x-python",
   "name": "python",
   "nbconvert_exporter": "python",
   "pygments_lexer": "ipython3",
   "version": "3.6.2"
  }
 },
 "nbformat": 4,
 "nbformat_minor": 2
}
