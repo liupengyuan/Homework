{
 "cells": [
  {
   "cell_type": "code",
   "execution_count": 2,
   "metadata": {},
   "outputs": [
    {
     "name": "stdout",
     "output_type": "stream",
     "text": [
      "黑科技发好了\n",
      "了好发技科黑\n"
     ]
    }
   ],
   "source": [
    "s= input()\n",
    "def reverse(s):\n",
    "    print(s[len(s)::-1])\n",
    "reverse(s)"
   ]
  },
  {
   "cell_type": "code",
   "execution_count": 13,
   "metadata": {},
   "outputs": [
    {
     "name": "stdout",
     "output_type": "stream",
     "text": [
      "请输入您想输入的字符：八\n",
      "请输入你想要的行数：8\n",
      "八\n",
      "八八\n",
      "八八八\n",
      "八八八八\n",
      "八八八八八\n",
      "八八八八八八\n",
      "八八八八八八八\n",
      "八八八八八八八八\n",
      "        \n",
      "       八\n",
      "      八八\n",
      "     八八八\n",
      "    八八八八\n",
      "   八八八八八\n",
      "  八八八八八八\n",
      " 八八八八八八八\n",
      "八八八八八八八八\n",
      "              八\n",
      "            八八\n",
      "          八八八\n",
      "        八八八八\n",
      "      八八八八八\n",
      "    八八八八八八\n",
      "  八八八八八八八\n",
      "八八八八八八八八\n"
     ]
    }
   ],
   "source": [
    "s=str(input(\"请输入您想输入的字符：\"))\n",
    "line_num = int(input(\"请输入你想要的行数：\"))\n",
    "def triangle1():\n",
    "    for i in range(1,line_num+1):\n",
    "        print(s*i)\n",
    "def triangle2():\n",
    "    for i in range(0,line_num+1):\n",
    "        a = int(line_num-i)\n",
    "        print(' '*a+s*i)\n",
    "def triangle3():\n",
    "    for i in range(1,line_num+1):\n",
    "        print(' '*(line_num-i)*2+s*i)\n",
    "triangle1()\n",
    "triangle2()\n",
    "triangle3()"
   ]
  },
  {
   "cell_type": "code",
   "execution_count": 15,
   "metadata": {},
   "outputs": [
    {
     "name": "stdout",
     "output_type": "stream",
     "text": [
      "请输入一个符号：5\n",
      "请输入菱形的边长：5\n",
      "    5\n",
      "   555\n",
      "  55555\n",
      " 5555555\n",
      "555555555\n",
      " 5555555\n",
      "  55555\n",
      "   555\n",
      "    5\n",
      "     \n",
      "5555555555\n",
      "5555555555\n",
      "5555555555\n",
      "5555555555\n",
      "5555555555\n"
     ]
    }
   ],
   "source": [
    "def diamond(s,l):\n",
    "    \n",
    "    for i in range(1,2 * l + 1):\n",
    "        if i < l + 1:\n",
    "            print(' ' * (l - i) + s * (2 * i - 1))\n",
    "        else:\n",
    "            print(' ' * (i - l) + s * (4 * l - 1 - (2 * i)))\n",
    "            \n",
    "    \n",
    "    for i in range(1,l + 1):\n",
    "        print(s * l * 2)\n",
    "        \n",
    "s = input('请输入一个符号：')\n",
    "l = int(input('请输入菱形的边长：'))\n",
    "diamond(s,l)"
   ]
  }
 ],
 "metadata": {
  "kernelspec": {
   "display_name": "Python 3",
   "language": "python",
   "name": "python3"
  },
  "language_info": {
   "codemirror_mode": {
    "name": "ipython",
    "version": 3
   },
   "file_extension": ".py",
   "mimetype": "text/x-python",
   "name": "python",
   "nbconvert_exporter": "python",
   "pygments_lexer": "ipython3",
   "version": "3.6.2"
  }
 },
 "nbformat": 4,
 "nbformat_minor": 2
}
