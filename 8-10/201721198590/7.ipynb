{
 "cells": [
  {
   "cell_type": "code",
   "execution_count": 8,
   "metadata": {},
   "outputs": [
    {
     "name": "stdout",
     "output_type": "stream",
     "text": [
      "请输入你要逆序输出的字符串：回车结束jkgjdfsdsr\n",
      "rsdsfdjgkj\n"
     ]
    }
   ],
   "source": [
    "#练习一：自己定义一个reverse(s)函数，功能返回字符串s的倒序字符串。\n",
    "char_input=input(\"请输入你要逆序输出的字符串：回车结束\")\n",
    "final=[]\n",
    "def reverse(s):\n",
    "    for char in char_input:\n",
    "        final.insert(0,char)\n",
    "    #for chars in final:\n",
    "     #   print(chars)\n",
    "    print(\"\".join(final))\n",
    "reverse(char_input)"
   ]
  },
  {
   "cell_type": "code",
   "execution_count": 34,
   "metadata": {},
   "outputs": [
    {
     "name": "stdout",
     "output_type": "stream",
     "text": [
      "请输入你想要输出形状表现的符号#\n",
      "请输入你想要输出形状表现的行数6\n",
      "请输入你想要输出的三角形形状（等腰、直角或者其他）直角\n",
      "# # # # # # \n",
      "  # # # # # \n",
      "    # # # # \n",
      "      # # # \n",
      "        # # \n",
      "          # \n"
     ]
    }
   ],
   "source": [
    "#练习二：写函数，根据给定符号和行数，打印相应直角三角形，\n",
    "#等腰三角形及其他形式的三角形\n",
    "char=input(\"请输入你想要输出形状表现的符号\")\n",
    "high=int(input(\"请输入你想要输出形状表现的行数\"))\n",
    "type_3=input(\"请输入你想要输出的三角形形状（等腰、直角或者其他）\")\n",
    "def print_san(c,t,h):\n",
    "    if(t==\"直角\"):\n",
    "        for i in range(h):\n",
    "            for j in range(0,i):\n",
    "                print(\" \",end=\" \")\n",
    "            for j in range(i,h):\n",
    "                print(c, end=\" \")\n",
    "            print(\"\")\n",
    "    elif(t==\"等腰\"):\n",
    "        for i in range(h+1):\n",
    "            for j in range(0, h - i):\n",
    "                print(end=\" \")\n",
    "            for k in range(h - i, h):\n",
    "                print(c, end=\" \")\n",
    "            print(\"\")\n",
    "    else:\n",
    "        for i in range(h):\n",
    "            for j in range(0,i):\n",
    "                print(end=\" \")\n",
    "            for j in range(i,h):\n",
    "                print(c, end=\" \")\n",
    "            print(\"\")\n",
    "print_san(char,type_3,high)              "
   ]
  },
  {
   "cell_type": "code",
   "execution_count": 42,
   "metadata": {},
   "outputs": [
    {
     "name": "stdout",
     "output_type": "stream",
     "text": [
      "请输入你想要输出形状表现的符号￥\n",
      "请输入你想要输出形状表现的行数的一半4\n",
      "请输入你想要输出的菱形形状（实心or空心）空心\n",
      "        \n",
      "\n",
      "      ￥ \n",
      "\n",
      "    ￥   ￥ \n",
      "\n",
      "  ￥       ￥ \n",
      "\n",
      "￥           ￥ \n",
      "\n",
      "  ￥       ￥ \n",
      "\n",
      "    ￥   ￥ \n",
      "\n",
      "      ￥ \n",
      "\n"
     ]
    }
   ],
   "source": [
    "#练习五：写函数，根据给定符号，打印各种菱形。\n",
    "char=input(\"请输入你想要输出形状表现的符号\")\n",
    "high=int(input(\"请输入你想要输出形状表现的行数的一半\"))\n",
    "type_3=input(\"请输入你想要输出的菱形形状（实心or空心）\")\n",
    "def print_ling(c,t,h):\n",
    "    for i in range(h):#变量i控制行数\n",
    "        for j in range(h - i):#(1,rows-i)\n",
    "            print (\" \",end=\" \")\n",
    "            j += 1\n",
    "        for k in range(2 * i - 1):#(1,2*i)\n",
    "            if(t==\"实心\"):\n",
    "                print (c,end=\" \")\n",
    "            else :\n",
    "                if k == 0 or k == 2 * i - 2:\n",
    "                    print (c,end=\" \")\n",
    "                else:\n",
    "                    print (\" \",end=\" \")\n",
    "            k += 1\n",
    "        print (\"\\n\")\n",
    "        i += 1\n",
    "    #菱形的下半部分\n",
    "    for i in range(h):\n",
    "        for j in range(i):#(1,rows-i)\n",
    "            print (\" \",end=\" \")\n",
    "            j += 1\n",
    "        for k in range(2 * (h - i) - 1):#(1,2*i)\n",
    "            if(t==\"实心\"):\n",
    "                print (c,end=\" \")\n",
    "            else:\n",
    "                if k == 0 or k == 2 * (h - i) - 2:\n",
    "                    print (c,end=\" \")\n",
    "                else:\n",
    "                    print (\" \",end=\" \")\n",
    "            k += 1\n",
    "        print (\"\\n\")\n",
    "        i += 1\n",
    "print_ling(char,type_3,high)"
   ]
  },
  {
   "cell_type": "code",
   "execution_count": null,
   "metadata": {},
   "outputs": [],
   "source": []
  }
 ],
 "metadata": {
  "kernelspec": {
   "display_name": "Python 3",
   "language": "python",
   "name": "python3"
  },
  "language_info": {
   "codemirror_mode": {
    "name": "ipython",
    "version": 3
   },
   "file_extension": ".py",
   "mimetype": "text/x-python",
   "name": "python",
   "nbconvert_exporter": "python",
   "pygments_lexer": "ipython3",
   "version": "3.6.0"
  }
 },
 "nbformat": 4,
 "nbformat_minor": 2
}
