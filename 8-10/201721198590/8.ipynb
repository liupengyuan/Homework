{
 "cells": [
  {
   "cell_type": "code",
   "execution_count": 6,
   "metadata": {},
   "outputs": [
    {
     "name": "stdout",
     "output_type": "stream",
     "text": [
      "从这写词里面选择 : \n",
      "土 馆 秦\n",
      "吾 建 突\n",
      "先 非 德\n",
      "正确答案是 : \n",
      " 建德非吾土\n",
      "#################### beginnnn ####################\n",
      "从这写词里面选择 : \n",
      "至 海 入\n",
      "话 遥 河\n",
      "契 谷 声\n",
      "正确答案是 : \n",
      " 河声入海遥\n",
      "#################### beginnnn ####################\n",
      "从这写词里面选择 : \n",
      "于 下 始\n",
      "客 少 孤\n",
      "早 为 冀\n",
      "正确答案是 : \n",
      " 少孤为客早\n",
      "#################### beginnnn ####################\n",
      "从这写词里面选择 : \n",
      "宴 孝 凝\n",
      "时 残 香\n",
      "清 告 寝\n",
      "正确答案是 : \n",
      " 宴寝凝清香\n",
      "#################### beginnnn ####################\n",
      "从这写词里面选择 : \n",
      "无 意 断\n",
      "绝 幽 吹\n",
      "丘 工 期\n",
      "正确答案是 : \n",
      " 幽意无断绝\n",
      "#################### beginnnn ####################\n"
     ]
    }
   ],
   "source": [
    "#点字成诗\n",
    "\n",
    "import random\n",
    "def get_poem_list():\n",
    "    file_read = open(r\"D:\\lulu\\五言诗库.txt\")\n",
    "    word_list = []\n",
    "    poems = file_read.read().replace('\\n','').replace('。','，')\n",
    "    for word in poems:\n",
    "        if word not in word_list:\n",
    "            word_list.append(word)\n",
    "    poem_list = poems.split('，')\n",
    "    #print (poem_list)\n",
    "    return poem_list,word_list\n",
    "\n",
    "def get_random_word(poem_list,word_list):\n",
    "    rand_poem_str = random.choice(poem_list)\n",
    "    rand_poem = [each_word for each_word in rand_poem_str]\n",
    "    #print (rand_poem)\n",
    "    while(len(rand_poem) < 9):\n",
    "        rand_word = random.choice(word_list)\n",
    "        if rand_word not in rand_poem:\n",
    "            rand_poem.append(rand_word)\n",
    "    random.shuffle(rand_poem)\n",
    "    print (\"从这写词里面选择 : \")\n",
    "    for i in range(0,9,3):\n",
    "        print (rand_poem[i],rand_poem[i+1],rand_poem[i+2])\n",
    "    return rand_poem\n",
    "\n",
    "def answer(poem_list,cadi_list):\n",
    "    for poem_sent in poem_list:\n",
    "        answer_length = 0\n",
    "        for poem_word in poem_sent:\n",
    "            if poem_word in cadi_list:\n",
    "                answer_length += 1\n",
    "            else:\n",
    "                break\n",
    "        if answer_length == 5:\n",
    "            print (\"正确答案是 : \\n\" ,poem_sent)\n",
    "            print (\"#\"*20,\"beginnnn\",\"#\"*20)\n",
    "            break\n",
    "\n",
    "if __name__ == '__main__':\n",
    "    poem_list,word_list = get_poem_list()\n",
    "    for i in range(0,5):\n",
    "        tar_poem = get_random_word(poem_list,word_list)\n",
    "        answer(poem_list,tar_poem)\n"
   ]
  },
  {
   "cell_type": "code",
   "execution_count": null,
   "metadata": {},
   "outputs": [],
   "source": []
  },
  {
   "cell_type": "code",
   "execution_count": null,
   "metadata": {
    "collapsed": true
   },
   "outputs": [],
   "source": []
  },
  {
   "cell_type": "code",
   "execution_count": null,
   "metadata": {
    "collapsed": true
   },
   "outputs": [],
   "source": []
  },
  {
   "cell_type": "code",
   "execution_count": null,
   "metadata": {
    "collapsed": true
   },
   "outputs": [],
   "source": []
  },
  {
   "cell_type": "code",
   "execution_count": null,
   "metadata": {
    "collapsed": true
   },
   "outputs": [],
   "source": []
  },
  {
   "cell_type": "code",
   "execution_count": null,
   "metadata": {
    "collapsed": true
   },
   "outputs": [],
   "source": []
  }
 ],
 "metadata": {
  "kernelspec": {
   "display_name": "Python 3",
   "language": "python",
   "name": "python3"
  },
  "language_info": {
   "codemirror_mode": {
    "name": "ipython",
    "version": 3
   },
   "file_extension": ".py",
   "mimetype": "text/x-python",
   "name": "python",
   "nbconvert_exporter": "python",
   "pygments_lexer": "ipython3",
   "version": "3.6.0"
  }
 },
 "nbformat": 4,
 "nbformat_minor": 2
}
