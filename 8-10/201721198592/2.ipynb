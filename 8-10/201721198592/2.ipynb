{
 "cells": [
  {
   "cell_type": "code",
   "execution_count": 1,
   "metadata": {},
   "outputs": [
    {
     "name": "stdout",
     "output_type": "stream",
     "text": [
      "输入一个整数6\n",
      "720\n"
     ]
    }
   ],
   "source": [
    "#练习1：仿照任务2完整代码，打印n!。\n",
    "n=int(input('输入一个整数'))\n",
    "total=1\n",
    "i=0\n",
    "while i<n:\n",
    "    i=i+1\n",
    "    total=total*i\n",
    "print(total)"
   ]
  },
  {
   "cell_type": "code",
   "execution_count": 2,
   "metadata": {},
   "outputs": [
    {
     "name": "stdout",
     "output_type": "stream",
     "text": [
      "输入整数个数3\n",
      "输入整数1\n",
      "输入整数2\n",
      "输入整数3\n",
      "6\n"
     ]
    }
   ],
   "source": [
    "#练习2：仿照实践1，写出由用户指定整数个数，并由用户输入多个整数，并求和的代码\n",
    "n=int(input('输入整数个数'))\n",
    "total=0\n",
    "i=0\n",
    "while i<n:\n",
    "    m=int(input('输入整数'))\n",
    "    total=total+m\n",
    "    i=i+1\n",
    "print(total)"
   ]
  },
  {
   "cell_type": "code",
   "execution_count": 3,
   "metadata": {},
   "outputs": [
    {
     "name": "stdout",
     "output_type": "stream",
     "text": [
      "输入任意数字直到#为止\n",
      "输入整数1\n",
      "1\n",
      "输入整数2\n",
      "2\n",
      "输入整数2\n",
      "2\n",
      "输入整数#\n",
      "#\n"
     ]
    }
   ],
   "source": [
    "#练习3：用户可以输入的任意多个数字，直到用户不想输入为止。\n",
    "print('输入任意数字直到#为止')\n",
    "n = 0\n",
    "while n!='#':\n",
    "    n = input('输入整数')\n",
    "    print(n)"
   ]
  },
  {
   "cell_type": "code",
   "execution_count": 4,
   "metadata": {},
   "outputs": [
    {
     "name": "stdout",
     "output_type": "stream",
     "text": [
      "输入6\n",
      "输入数字5\n",
      "输入数字100\n",
      "输入数字200\n",
      "满足条件\n"
     ]
    }
   ],
   "source": [
    "#练习4：用户可以输入的任意多个数字，直到输入所有数字的和比当前输入数字小，且输入所有数字的积大于500\n",
    "i=int(input('输入'))\n",
    "sum=i\n",
    "mul=i\n",
    "while 1:\n",
    "    i=int(input('输入数字'))\n",
    "    if sum<i and mul>500:\n",
    "        break\n",
    "    mul=mul*i\n",
    "    sum=sum+i\n",
    "print('满足条件')"
   ]
  }
 ],
 "metadata": {
  "kernelspec": {
   "display_name": "Python 3",
   "language": "python",
   "name": "python3"
  },
  "language_info": {
   "codemirror_mode": {
    "name": "ipython",
    "version": 3
   },
   "file_extension": ".py",
   "mimetype": "text/x-python",
   "name": "python",
   "nbconvert_exporter": "python",
   "pygments_lexer": "ipython3",
   "version": "3.6.2"
  }
 },
 "nbformat": 4,
 "nbformat_minor": 2
}
