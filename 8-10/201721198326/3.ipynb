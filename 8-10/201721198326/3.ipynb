{
 "cells": [
  {
   "cell_type": "code",
   "execution_count": 10,
   "metadata": {},
   "outputs": [
    {
     "name": "stdout",
     "output_type": "stream",
     "text": [
      "请输入一个整数： 2\n",
      "请输入一个整数： 5\n",
      "求和（输入-1）；求积(输入-2)；求余(输入-3)： -1\n",
      "14\n"
     ]
    }
   ],
   "source": [
    "n = eval(input(\"请输入一个整数： \"))\n",
    "m = eval(input(\"请输入一个整数： \"))\n",
    "idea = eval(input(\"求和（输入-1）；求积(输入-2)；求余(输入-3)： \"))\n",
    "if idea == -1:\n",
    "    s = 0\n",
    "    for i in range(m-n+1):\n",
    "        s += n\n",
    "        n = n+1\n",
    "    print(s)\n",
    "elif idea == -2:\n",
    "    i = 1\n",
    "    for i in range(m-n+1):\n",
    "        i *= n\n",
    "        n = n+1\n",
    "    print(i)\n",
    "elif idea == -3:\n",
    "    print(m%n)\n",
    "else:\n",
    "    print(m/n)"
   ]
  },
  {
   "cell_type": "code",
   "execution_count": 11,
   "metadata": {},
   "outputs": [
    {
     "name": "stdout",
     "output_type": "stream",
     "text": [
      "Please input a wrod: kiss\n",
      "kisses\n"
     ]
    }
   ],
   "source": [
    "s = str(input(\"Please input a wrod: \"))\n",
    "if s[-1] == \"s\" or s[-1] == \"x\":\n",
    "    print(s + \"es\")\n",
    "else:\n",
    "    print(s + \"s\")"
   ]
  }
 ],
 "metadata": {
  "kernelspec": {
   "display_name": "Python 3",
   "language": "python",
   "name": "python3"
  },
  "language_info": {
   "codemirror_mode": {
    "name": "ipython",
    "version": 3
   },
   "file_extension": ".py",
   "mimetype": "text/x-python",
   "name": "python",
   "nbconvert_exporter": "python",
   "pygments_lexer": "ipython3",
   "version": "3.6.1"
  }
 },
 "nbformat": 4,
 "nbformat_minor": 2
}
