{
 "cells": [
  {
   "cell_type": "code",
   "execution_count": 2,
   "metadata": {},
   "outputs": [
    {
     "name": "stdout",
     "output_type": "stream",
     "text": [
      "请输入一个整数： 7\n",
      "5040\n"
     ]
    }
   ],
   "source": [
    "n = eval(input(\"请输入一个整数： \"))\n",
    "s = 1\n",
    "while n>1:\n",
    "    s *= n\n",
    "    n = n-1\n",
    "print(s)"
   ]
  },
  {
   "cell_type": "code",
   "execution_count": 4,
   "metadata": {},
   "outputs": [
    {
     "name": "stdout",
     "output_type": "stream",
     "text": [
      "请输入个数： 2\n",
      "请输入整数： 3\n",
      "请输入整数： 3\n",
      "6\n"
     ]
    }
   ],
   "source": [
    "n = eval(input(\"请输入个数： \"))\n",
    "d = 0\n",
    "while n>0:\n",
    "    n = n-1\n",
    "    s = eval(input(\"请输入整数： \"))\n",
    "    d += s\n",
    "print(d)"
   ]
  },
  {
   "cell_type": "code",
   "execution_count": null,
   "metadata": {},
   "outputs": [
    {
     "name": "stdout",
     "output_type": "stream",
     "text": [
      "请输入一个整数： 4\n",
      "请输入一个整数： 5\n",
      "请输入一个整数： 6\n",
      "请输入一个整数： 7\n"
     ]
    }
   ],
   "source": [
    "while True:\n",
    "    s = eval(input(\"请输入一个整数： \"))"
   ]
  },
  {
   "cell_type": "code",
   "execution_count": 5,
   "metadata": {},
   "outputs": [
    {
     "name": "stdout",
     "output_type": "stream",
     "text": [
      "请输入一个整数： 6\n",
      "请输入一个整数： 9\n",
      "请输入一个整数： 10\n",
      "10 540 25\n"
     ]
    }
   ],
   "source": [
    "n = 0\n",
    "s = 0\n",
    "i = 1\n",
    "while n <= s and i <= 500:\n",
    "    n = eval(input(\"请输入一个整数： \"))\n",
    "    s += n\n",
    "    i *= n\n",
    "print(n, i, s)"
   ]
  }
 ],
 "metadata": {
  "kernelspec": {
   "display_name": "Python 3",
   "language": "python",
   "name": "python3"
  },
  "language_info": {
   "codemirror_mode": {
    "name": "ipython",
    "version": 3
   },
   "file_extension": ".py",
   "mimetype": "text/x-python",
   "name": "python",
   "nbconvert_exporter": "python",
   "pygments_lexer": "ipython3",
   "version": "3.6.1"
  }
 },
 "nbformat": 4,
 "nbformat_minor": 2
}
