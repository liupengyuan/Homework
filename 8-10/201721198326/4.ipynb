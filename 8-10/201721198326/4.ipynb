{
 "cells": [
  {
   "cell_type": "code",
   "execution_count": 1,
   "metadata": {},
   "outputs": [
    {
     "name": "stdout",
     "output_type": "stream",
     "text": [
      "请输入一个整数： 3\n",
      "6\n",
      "请输入一个整数： 3\n",
      "6\n",
      "请输入一个整数： 3\n",
      "6\n",
      "18\n"
     ]
    }
   ],
   "source": [
    "m = eval(input(\"请输入一个整数： \"))\n",
    "i = 1\n",
    "s = 1\n",
    "while i<m:\n",
    "    i = i+1\n",
    "    s = s*i\n",
    "print(s)\n",
    "n = eval(input(\"请输入一个整数： \"))\n",
    "ii = 1\n",
    "ss = 1\n",
    "while ii<n:\n",
    "    ii = ii+1\n",
    "    ss = ss*ii\n",
    "print(ss)\n",
    "k = eval(input(\"请输入一个整数： \"))\n",
    "iii = 1\n",
    "sss = 1\n",
    "while iii<k:\n",
    "    iii = iii+1\n",
    "    sss = sss*iii\n",
    "print(sss)\n",
    "print(s+ss+sss)"
   ]
  },
  {
   "cell_type": "code",
   "execution_count": 21,
   "metadata": {},
   "outputs": [
    {
     "name": "stdout",
     "output_type": "stream",
     "text": [
      "3.140592653839794\n",
      "3.1414926535900345\n"
     ]
    }
   ],
   "source": [
    "def sum_seq(n):\n",
    "    i = 1\n",
    "    s = 0\n",
    "    while i <= n:\n",
    "        if i%2 == 0:\n",
    "            s = s - 1/(2*i-1)\n",
    "        else:\n",
    "            s = s + 1/(2*i-1)\n",
    "        i = i+1\n",
    "    return s\n",
    "print(4*sum_seq(1000))\n",
    "print(4*sum_seq(10000))"
   ]
  },
  {
   "cell_type": "code",
   "execution_count": 15,
   "metadata": {},
   "outputs": [
    {
     "name": "stdout",
     "output_type": "stream",
     "text": [
      "你的名字： Li\n",
      "你是哪个月生的 4\n",
      "你是哪一天生的 27\n",
      "Li,你不是金牛座\n"
     ]
    }
   ],
   "source": [
    "def judge_your_star(name, m, n):\n",
    "    if m == 4 or m == 5:\n",
    "        if n <= 20:\n",
    "            print(\"{},你是非常有个性的金牛座\".format(name))\n",
    "        else:\n",
    "            print(\"{},你不是金牛座\".format(name))\n",
    "    else:\n",
    "            print(\"{},你不是金牛座\".format(name))\n",
    "def main():\n",
    "    name = str(input(\"你的名字： \"))\n",
    "    m = eval(input(\"你是哪个月生的 \"))\n",
    "    n = eval(input(\"你是哪一天生的 \"))\n",
    "    judge_your_star(name, m, n)\n",
    "main()"
   ]
  },
  {
   "cell_type": "code",
   "execution_count": 30,
   "metadata": {},
   "outputs": [
    {
     "name": "stdout",
     "output_type": "stream",
     "text": [
      "请输入第1个整数: 3\n",
      "请输入2个整数: 9\n",
      "请输入步长: 2\n",
      "24\n"
     ]
    }
   ],
   "source": [
    "def calcs(m, n, k):\n",
    "    d = int((n-m)/k)\n",
    "    s = 0\n",
    "    for i in range(d+1):\n",
    "        s += m\n",
    "        m += k\n",
    "    return s\n",
    "def main():\n",
    "    m = int(input(\"请输入第1个整数: \"))\n",
    "    n = int(input(\"请输入2个整数: \"))\n",
    "    k = int(input(\"请输入步长: \"))\n",
    "    print(calcs(m, n, k))\n",
    "main()"
   ]
  },
  {
   "cell_type": "code",
   "execution_count": 19,
   "metadata": {},
   "outputs": [
    {
     "name": "stdout",
     "output_type": "stream",
     "text": [
      "24\n"
     ]
    }
   ],
   "source": [
    "m = 3\n",
    "s = 0\n",
    "k = 2\n",
    "for i in range(4):\n",
    "    s += m\n",
    "    m += k\n",
    "print(s)\n"
   ]
  },
  {
   "cell_type": "code",
   "execution_count": null,
   "metadata": {
    "collapsed": true
   },
   "outputs": [],
   "source": []
  }
 ],
 "metadata": {
  "kernelspec": {
   "display_name": "Python 3",
   "language": "python",
   "name": "python3"
  },
  "language_info": {
   "codemirror_mode": {
    "name": "ipython",
    "version": 3
   },
   "file_extension": ".py",
   "mimetype": "text/x-python",
   "name": "python",
   "nbconvert_exporter": "python",
   "pygments_lexer": "ipython3",
   "version": "3.6.1"
  }
 },
 "nbformat": 4,
 "nbformat_minor": 2
}
