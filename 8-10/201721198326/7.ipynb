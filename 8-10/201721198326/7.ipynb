{
 "cells": [
  {
   "cell_type": "code",
   "execution_count": 1,
   "metadata": {},
   "outputs": [
    {
     "name": "stdout",
     "output_type": "stream",
     "text": [
      "请输入字符串：abcdefg\n",
      "gfedcba\n"
     ]
    }
   ],
   "source": [
    "def reverse(s):\n",
    "    print(s[len(s)::-1])\n",
    "    \n",
    "s = input(\"请输入字符串：\")\n",
    "reverse(s)"
   ]
  },
  {
   "cell_type": "code",
   "execution_count": 3,
   "metadata": {},
   "outputs": [
    {
     "name": "stdout",
     "output_type": "stream",
     "text": [
      "输入一个标识符：*\n",
      "直角三角形\n",
      "*\n",
      "**\n",
      "***\n",
      "****\n",
      "锐角三角形\n",
      "            *\n",
      "           ****\n",
      "          *******\n",
      "         **********\n",
      "钝角三角形\n",
      "*\n",
      " ***\n",
      "  *****\n",
      "   *******\n",
      "等腰三角形\n",
      "      *\n",
      "     ***\n",
      "    *****\n",
      "   *******\n"
     ]
    }
   ],
   "source": [
    "def f1(s):\n",
    "    print('直角三角形')\n",
    "    for i in range(4):\n",
    "        print(s * (i + 1))\n",
    "\n",
    "def f2(s):\n",
    "    print('锐角三角形')\n",
    "    for i in range(4):\n",
    "        print(' ' * (12 - i) + s * (3 * i + 1))\n",
    "\n",
    "def f3(s):\n",
    "    print('钝角三角形')\n",
    "    for i in range(4):\n",
    "        print(' ' * i + s * (2 * i + 1))\n",
    "\n",
    "def f4(s):\n",
    "    print('等腰三角形')\n",
    "    for i in range(4):\n",
    "        print(' ' * (6 - i) + s * (2 * i + 1))\n",
    "    \n",
    "s = input(\"输入一个标识符：\")\n",
    "f1(s)\n",
    "f2(s)\n",
    "f3(s)\n",
    "f4(s)"
   ]
  },
  {
   "cell_type": "code",
   "execution_count": 5,
   "metadata": {},
   "outputs": [
    {
     "name": "stdout",
     "output_type": "stream",
     "text": [
      "输入一个标识符： *\n",
      "输入任意边长： 4\n",
      "菱形\n",
      "   *\n",
      "  ***\n",
      " *****\n",
      "*******\n",
      " *****\n",
      "  ***\n",
      "   *\n",
      "    \n"
     ]
    }
   ],
   "source": [
    "def shape(s,l):\n",
    "    print(\"菱形\")\n",
    "    for i in range(1,2 * l + 1):\n",
    "        if i < l + 1:\n",
    "            print(' ' * (l - i) + s * (2 * i - 1))\n",
    "        else:\n",
    "            print(' ' * (i - l) + s * (4 * l - 1 - (2 * i)))\n",
    "s = input(\"输入一个标识符： \")\n",
    "l = eval(input(\"输入任意边长： \"))\n",
    "shape(s,l)"
   ]
  },
  {
   "cell_type": "code",
   "execution_count": null,
   "metadata": {
    "collapsed": true
   },
   "outputs": [],
   "source": []
  }
 ],
 "metadata": {
  "kernelspec": {
   "display_name": "Python 3",
   "language": "python",
   "name": "python3"
  },
  "language_info": {
   "codemirror_mode": {
    "name": "ipython",
    "version": 3
   },
   "file_extension": ".py",
   "mimetype": "text/x-python",
   "name": "python",
   "nbconvert_exporter": "python",
   "pygments_lexer": "ipython3",
   "version": "3.6.1"
  }
 },
 "nbformat": 4,
 "nbformat_minor": 2
}
