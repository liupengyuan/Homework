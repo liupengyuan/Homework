{
 "cells": [
  {
   "cell_type": "code",
   "execution_count": 2,
   "metadata": {},
   "outputs": [
    {
     "name": "stdout",
     "output_type": "stream",
     "text": [
      "请输入第1个整数n: 3\n",
      "请输入第2个整数m: 2\n",
      "请输入第3个整数k: 6\n",
      "2.0816659994661326\n"
     ]
    }
   ],
   "source": [
    "import random, math\n",
    "def cal_m(n,m,k):\n",
    "    i = 0\n",
    "    total = 0\n",
    "    while i < n:\n",
    "        i = i + 1\n",
    "        number = random.randint(m, k)\n",
    "        total += number\n",
    "    mean = total/n\n",
    "    return math.sqrt(mean)\n",
    "\n",
    "n = int(input(\"请输入第1个整数n: \"))\n",
    "m = int(input(\"请输入第2个整数m: \"))\n",
    "k = int(input(\"请输入第3个整数k: \"))\n",
    "print(cal_m(n,m,k))"
   ]
  },
  {
   "cell_type": "code",
   "execution_count": 3,
   "metadata": {},
   "outputs": [
    {
     "name": "stdout",
     "output_type": "stream",
     "text": [
      "请输入第1个整数n: 3\n",
      "请输入第2个整数m: 2\n",
      "请输入第3个整数k: 6\n",
      "(5.19295685089021, 1.7375561876621064)\n"
     ]
    }
   ],
   "source": [
    "import random, math\n",
    "def cal_log(n,m,k):\n",
    "    i = 0\n",
    "    s1 = 0\n",
    "    s2 = 0\n",
    "    while i < n:\n",
    "        i = i + 1\n",
    "        number = random.randint(m, k)\n",
    "        s1 += math.log(number)\n",
    "        s2 += 1/math.log(number)\n",
    "    return s1,s2\n",
    "n = int(input(\"请输入第1个整数n: \"))\n",
    "m = int(input(\"请输入第2个整数m: \"))\n",
    "k = int(input(\"请输入第3个整数k: \"))\n",
    "print(cal_log(n,m,k))"
   ]
  },
  {
   "cell_type": "code",
   "execution_count": null,
   "metadata": {
    "collapsed": true
   },
   "outputs": [],
   "source": []
  }
 ],
 "metadata": {
  "kernelspec": {
   "display_name": "Python 3",
   "language": "python",
   "name": "python3"
  },
  "language_info": {
   "codemirror_mode": {
    "name": "ipython",
    "version": 3
   },
   "file_extension": ".py",
   "mimetype": "text/x-python",
   "name": "python",
   "nbconvert_exporter": "python",
   "pygments_lexer": "ipython3",
   "version": "3.6.1"
  }
 },
 "nbformat": 4,
 "nbformat_minor": 2
}
