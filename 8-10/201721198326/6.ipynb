{
 "cells": [
  {
   "cell_type": "code",
   "execution_count": 3,
   "metadata": {},
   "outputs": [
    {
     "name": "stdout",
     "output_type": "stream",
     "text": [
      "输入列表数据： 4\n",
      "输入列表数据： 5\n",
      "输入列表数据： 6\n",
      "输入列表数据：  \n",
      "15\n"
     ]
    }
   ],
   "source": [
    "def sumlst():\n",
    "    lst =[]\n",
    "    lst.append(input(\"输入列表数据： \"))\n",
    "    i=0\n",
    "    total=0\n",
    "    while lst[i] != \" \":\n",
    "        total=total+int(lst[i])\n",
    "        i=i+1\n",
    "        lst.append(input(\"输入列表数据： \"))\n",
    "    return total\n",
    "print(sumlst())"
   ]
  },
  {
   "cell_type": "code",
   "execution_count": 4,
   "metadata": {},
   "outputs": [
    {
     "name": "stdout",
     "output_type": "stream",
     "text": [
      "输入列表数据：3\n",
      "输入列表数据：4\n",
      "输入列表数据：7\n",
      "输入列表数据： \n",
      "3\n"
     ]
    }
   ],
   "source": [
    "def minlst():\n",
    "    lst=[]\n",
    "    lst.append(input(\"输入列表数据：\"))\n",
    "    i=0\n",
    "    while lst[i] != \" \":\n",
    "        i=i+1\n",
    "        lst.append(input(\"输入列表数据：\"))\n",
    "    lst.pop()\n",
    "    return min(lst)\n",
    "print(minlst())"
   ]
  },
  {
   "cell_type": "code",
   "execution_count": 2,
   "metadata": {},
   "outputs": [
    {
     "name": "stdout",
     "output_type": "stream",
     "text": [
      "输入列表数据：3\n",
      "输入列表数据：4\n",
      "输入列表数据：5\n",
      "输入列表数据： \n",
      "输入要查找的值：4\n",
      "2\n"
     ]
    }
   ],
   "source": [
    "def addlist():\n",
    "    lst=[]\n",
    "    lst.append(input(\"输入列表数据：\"))\n",
    "    i=0\n",
    "    while lst[i] != \" \":\n",
    "        i=i+1\n",
    "        lst.append(input(\"输入列表数据：\"))\n",
    "    return lst\n",
    "def find(n,lst):\n",
    "    i=0\n",
    "    while i<len(lst):\n",
    "        if n==lst[i] :\n",
    "            return i+1\n",
    "        i=i+1\n",
    "    return -1\n",
    "lst = addlist()\n",
    "n = input(\"输入要查找的值：\")\n",
    "print(find(n,lst))"
   ]
  },
  {
   "cell_type": "code",
   "execution_count": 4,
   "metadata": {},
   "outputs": [
    {
     "name": "stdout",
     "output_type": "stream",
     "text": [
      "输入第一个向量的x：4\n",
      "输入第一个向量的y：4\n",
      "输入第二个向量的x：3\n",
      "输入第二个向量的y：3\n",
      "1.0\n"
     ]
    }
   ],
   "source": [
    "import math\n",
    "def compute(list1,list2):\n",
    "    ab=list1[0]*list2[0]+list1[1]*list2[1]\n",
    "    axb=math.sqrt(list1[0]*list1[0]+list1[1]*list1[1])*math.sqrt(list2[0]*list2[0]+list2[1]*list2[1])\n",
    "    cos=ab/axb\n",
    "    return cos\n",
    "list1=[]\n",
    "list2=[]\n",
    "list1.append(int(input(\"输入第一个向量的x：\")))\n",
    "list1.append(int(input(\"输入第一个向量的y：\")))\n",
    "list2.append(int(input(\"输入第二个向量的x：\")))\n",
    "list2.append(int(input(\"输入第二个向量的y：\")))\n",
    "print(compute(list1,list2))"
   ]
  },
  {
   "cell_type": "code",
   "execution_count": 5,
   "metadata": {},
   "outputs": [
    {
     "name": "stdout",
     "output_type": "stream",
     "text": [
      "3741\n"
     ]
    }
   ],
   "source": [
    "def func():\n",
    "    i=5\n",
    "    j=5\n",
    "    k=5\n",
    "    count=0\n",
    "    for i in range(5,91):\n",
    "        for j in range(5,91):\n",
    "            for k in range(5,91):\n",
    "                if (i+j+k)==100:\n",
    "                    count=count+1\n",
    "                k=k+1\n",
    "            j=j+1\n",
    "        i=i+1\n",
    "    return count\n",
    "print(func())"
   ]
  },
  {
   "cell_type": "code",
   "execution_count": null,
   "metadata": {
    "collapsed": true
   },
   "outputs": [],
   "source": []
  }
 ],
 "metadata": {
  "kernelspec": {
   "display_name": "Python 3",
   "language": "python",
   "name": "python3"
  },
  "language_info": {
   "codemirror_mode": {
    "name": "ipython",
    "version": 3
   },
   "file_extension": ".py",
   "mimetype": "text/x-python",
   "name": "python",
   "nbconvert_exporter": "python",
   "pygments_lexer": "ipython3",
   "version": "3.6.1"
  }
 },
 "nbformat": 4,
 "nbformat_minor": 2
}
