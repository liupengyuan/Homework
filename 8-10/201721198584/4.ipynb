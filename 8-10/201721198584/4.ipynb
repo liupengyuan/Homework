{
 "cells": [
  {
   "cell_type": "code",
   "execution_count": 2,
   "metadata": {},
   "outputs": [
    {
     "name": "stdout",
     "output_type": "stream",
     "text": [
      "请输入第1个整数，以回车结束。3\n",
      "请输入第2个整数，以回车结束。2\n",
      "请输入第3个整数，以回车结束。1\n",
      "最终的和是： 9\n"
     ]
    }
   ],
   "source": [
    "# 练习 1：仿照求$ \\sum_{i=1}^mi + \\sum_{i=1}^ni  + \\sum_{i=1}^ki$的完整代码，写程序，可求m!+n!+k!\n",
    "\n",
    "def compute_mul(end):\n",
    "    i = 0\n",
    "    mul_n = 1\n",
    "\n",
    "    while i < end:\n",
    "        i = i + 1\n",
    "        mul_n = mul_n * i\n",
    "\n",
    "    return mul_n\n",
    "\n",
    "n = int(input('请输入第1个整数，以回车结束。'))\n",
    "m = int(input('请输入第2个整数，以回车结束。'))\n",
    "k = int(input('请输入第3个整数，以回车结束。'))\n",
    "\n",
    "print('最终的和是：', compute_mul(m) + compute_mul(n) + compute_mul(k))"
   ]
  },
  {
   "cell_type": "code",
   "execution_count": 5,
   "metadata": {},
   "outputs": [
    {
     "name": "stdout",
     "output_type": "stream",
     "text": [
      "1 - 1/3 + 1/5 - 1/7...-1/1999： 3.140592653839794\n",
      "1 - 1/3 + 1/5 - 1/7...-1/199999： 3.1415826535897198\n"
     ]
    }
   ],
   "source": [
    "#练习 2：写函数可返回1 - 1/3 + 1/5 - 1/7...的前n项的和。在主程序中，分别令n=1000及100000，打印4倍该函数的和。\n",
    "\n",
    "def compute(end):\n",
    "    i = 0\n",
    "    total = 0\n",
    "\n",
    "    while i < end:\n",
    "        i = i + 1\n",
    "        total = total -  ( -1 ) ** i  / float( 2 * i - 1 )\n",
    "\n",
    "    return total\n",
    "\n",
    "print('1 - 1/3 + 1/5 - 1/7...-1/1999：', 4*compute(1000))\n",
    "\n",
    "print('1 - 1/3 + 1/5 - 1/7...-1/199999：', 4*compute(100000))"
   ]
  },
  {
   "cell_type": "code",
   "execution_count": 12,
   "metadata": {},
   "outputs": [
    {
     "name": "stdout",
     "output_type": "stream",
     "text": [
      "请输入您的姓名：苗菁菁\n",
      "请输入您的出生日期（如：2-10）：12-24\n",
      "请输入当前PM值：234\n",
      "空气良好，适宜户外活动\n"
     ]
    }
   ],
   "source": [
    "# 练习 3：将task3中的练习1及练习4改写为函数，并进行调用。\n",
    "# 写程序，可由键盘读入用户姓名例如Mr. right，让用户输入出生的月份与日期，判断用户星座，假设用户是金牛座，则输出，Mr. right，你是非常有性格的金牛座！。\n",
    "\n",
    "import time\n",
    "def GetConstellation(name,birthday):\n",
    "    birthDate = time.strptime(birthday,\"%m-%d\")\n",
    "    if birthDate >= time.strptime(\"01-20\",\"%m-%d\") and birthDate <= time.strptime(\"02-18\",\"%m-%d\") :\n",
    "        print(name,\"恭喜您是水瓶座\")\n",
    "    if birthDate >= time.strptime(\"02-19\",\"%m-%d\") and birthDate <= time.strptime(\"03-20\",\"%m-%d\") :\n",
    "        print(name,\"恭喜您是双鱼座\")\n",
    "    if birthDate >= time.strptime(\"03-21\",\"%m-%d\") and birthDate <= time.strptime(\"04-19\",\"%m-%d\") :\n",
    "        print(name,\"恭喜您是白羊座\")\n",
    "    if birthDate >= time.strptime(\"04-20\",\"%m-%d\") and birthDate <= time.strptime(\"05-20\",\"%m-%d\") :\n",
    "        print(name,\"恭喜您是金牛座\")\n",
    "    if birthDate >= time.strptime(\"05-21\",\"%m-%d\") and birthDate <= time.strptime(\"06-21\",\"%m-%d\") :\n",
    "        print(name,\"恭喜您是双子座\")\n",
    "    if birthDate >= time.strptime(\"06-22\",\"%m-%d\") and birthDate <= time.strptime(\"07-22\",\"%m-%d\") :\n",
    "        print(name,\"恭喜您是巨蟹座\")\n",
    "    if birthDate >= time.strptime(\"07-23\",\"%m-%d\") and birthDate <= time.strptime(\"08-22\",\"%m-%d\") :\n",
    "        print(name,\"恭喜您是狮子座\")\n",
    "    if birthDate >= time.strptime(\"08-23\",\"%m-%d\") and birthDate <= time.strptime(\"09-22\",\"%m-%d\") :\n",
    "        print(name,\"恭喜您是处女座\")\n",
    "    if birthDate >= time.strptime(\"09-23\",\"%m-%d\") and birthDate <= time.strptime(\"10-23\",\"%m-%d\") :\n",
    "        print(name,\"恭喜您是天枰座\")\n",
    "    if birthDate >= time.strptime(\"10-24\",\"%m-%d\") and birthDate <= time.strptime(\"11-21\",\"%m-%d\") :\n",
    "        print(name,\"恭喜您是天蝎座\")\n",
    "    if birthDate >= time.strptime(\"11-22\",\"%m-%d\") and birthDate <= time.strptime(\"12-21\",\"%m-%d\") :\n",
    "        print(name,\"恭喜您是射手座\")\n",
    "    if birthDate >= time.strptime(\"12-22\",\"%m-%d\") and birthDate <= time.strptime(\"01-19\",\"%m-%d\") :\n",
    "        print(name,\"恭喜您是摩羯座\")\n",
    "# 写程序，能够根据北京雾霾PM2.5数值给出对应的防护建议。如当PM2.5数值大于500，则应该打开空气净化器，戴防雾霾口罩等。\n",
    "def PM(pm):\n",
    "    if pm > 500:\n",
    "        print ('空气重度污染，请注意打开空气净化器，戴防雾霾口罩等。')\n",
    "    else:\n",
    "        print('空气良好，适宜户外活动')\n",
    "def main():\n",
    "        n=input ('请输入您的姓名：')\n",
    "        birth=input ('请输入您的出生日期（如：2-10）：')\n",
    "        GetConstellation(n,birth)\n",
    "        p=int(input ('请输入当前PM值：'))\n",
    "        PM(p)\n",
    "#主程序\n",
    "if __name__ == '__main__':\n",
    "    main()"
   ]
  },
  {
   "cell_type": "code",
   "execution_count": 27,
   "metadata": {},
   "outputs": [
    {
     "name": "stdout",
     "output_type": "stream",
     "text": [
      "请输入整数m值：2\n",
      "请输入整数n值：7\n",
      "请输入整数k值：2\n",
      "前 2 个数的和为： 5\n",
      "前 4 个数的和为： 14\n",
      "从整数 2 到整数 3 累加,共 6 个数的和为： 27\n"
     ]
    }
   ],
   "source": [
    "# 挑战性练习：写程序，可以求从整数m到整数n累加的和，间隔为k，求和部分需用函数实现，主程序中由用户输入m，n，k调用函数验证正确性。\n",
    "\n",
    "def GetSum(b,e,s):\n",
    "    i = b\n",
    "    total = b\n",
    "    while(i < e):      \n",
    "        i += 1        \n",
    "        if (i - b) % s == 0 :\n",
    "            q = int((i - b) / s)\n",
    "            print ('前',q*s,'个数的和为：',total)\n",
    "        total += i\n",
    "    print('从整数',m,'到整数',n,'累加,共',e-b+1,'个数的和为：',total)\n",
    "\n",
    "def main():\n",
    "    m=int(input ('请输入整数m值：'))\n",
    "    n=int(input ('请输入整数n值：'))\n",
    "    k=int(input ('请输入整数k值：'))\n",
    "    GetSum(m,n,k)\n",
    "#主程序\n",
    "if __name__ == '__main__':\n",
    "    main()\n",
    "        \n",
    "        \n",
    "    "
   ]
  }
 ],
 "metadata": {
  "kernelspec": {
   "display_name": "Python 3",
   "language": "python",
   "name": "python3"
  },
  "language_info": {
   "codemirror_mode": {
    "name": "ipython",
    "version": 3
   },
   "file_extension": ".py",
   "mimetype": "text/x-python",
   "name": "python",
   "nbconvert_exporter": "python",
   "pygments_lexer": "ipython3",
   "version": "3.5.2"
  }
 },
 "nbformat": 4,
 "nbformat_minor": 2
}
