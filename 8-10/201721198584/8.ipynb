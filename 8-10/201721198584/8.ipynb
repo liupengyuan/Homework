{
 "cells": [
  {
   "cell_type": "code",
   "execution_count": 5,
   "metadata": {},
   "outputs": [
    {
     "name": "stdout",
     "output_type": "stream",
     "text": [
      "竹 几\n",
      "发 来\n",
      "枝 春\n",
      "请输入猜测诗词，回车结束，直接回车表示退出游戏：春来发几枝\n",
      "答对了，加十分\n",
      "你当前的分数是： 20\n",
      "通 摇\n",
      "落 后\n",
      "古 台\n",
      "请输入猜测诗词，回车结束，直接回车表示退出游戏：古台摇落后\n",
      "答对了，加十分\n",
      "你当前的分数是： 30\n",
      "羌 夜\n",
      "白 从\n",
      "露 今\n",
      "请输入猜测诗词，回车结束，直接回车表示退出游戏：\n",
      "退出游戏。\n",
      "你最后的分数是： 30\n"
     ]
    }
   ],
   "source": [
    "#五言诗游戏\n",
    "import random\n",
    "\n",
    "def win():\n",
    "    print(\"Win!\")\n",
    "    return\n",
    "    \n",
    "def lose():\n",
    "    print(\"Lose!\")\n",
    "    return\n",
    "    \n",
    "def get_ch_table(line):\n",
    "    ch_table = []\n",
    "    for ch in line:\n",
    "        if ch not in ch_table:\n",
    "            ch_table.append(ch)\n",
    "    return ch_table\n",
    "\n",
    "def poem_robot(file_name):\n",
    "    with open(file_name) as fh:\n",
    "        text = fh.read()\n",
    "    poems = text.split()\n",
    "    poem = random.choice(poems)\n",
    "    \n",
    "    chs = get_ch_table(text.replace('\\n', ''))\n",
    "\n",
    "    guess_ch_table = [ch for ch in poem]\n",
    "    while len(guess_ch_table) < 6:\n",
    "        ch = random.choice(chs)\n",
    "        if ch not in guess_ch_table:\n",
    "            guess_ch_table.append(ch)\n",
    "    \n",
    "    random.shuffle(guess_ch_table)\n",
    "    \n",
    "    for i in range(0,6,2):\n",
    "        print(guess_ch_table[i], guess_ch_table[i+1])\n",
    "    \n",
    "    return poem\n",
    "\n",
    "def main():\n",
    "    filename = r'E:\\yanyi\\刘鹏远Python\\poem_r.txt'\n",
    "    score = 10\n",
    "    while score >= 0:  \n",
    "        real_poem = poem_robot(filename)\n",
    "        answer_poem = input('请输入猜测诗词，回车结束，直接回车表示退出游戏：')\n",
    "        if answer_poem == real_poem:\n",
    "            print('答对了，加十分')\n",
    "            score += 10\n",
    "            print('你当前的分数是：', score)\n",
    "            if score == 100:\n",
    "                win()\n",
    "                return\n",
    "        elif answer_poem == '':\n",
    "            print('退出游戏。')\n",
    "            print('你最后的分数是：', score)\n",
    "            return\n",
    "        else:\n",
    "            score -= 10\n",
    "            print('答错了，减十分')\n",
    "            print('诗词其实是：', real_poem)\n",
    "            print('你当前的分数是：', score)\n",
    "    else:\n",
    "        lose()\n",
    "        return\n",
    "\n",
    "if __name__ == '__main__':\n",
    "    main()"
   ]
  },
  {
   "cell_type": "markdown",
   "metadata": {},
   "source": [
    "#点字成诗机器人"
   ]
  },
  {
   "cell_type": "code",
   "execution_count": 1,
   "metadata": {},
   "outputs": [
    {
     "name": "stdout",
     "output_type": "stream",
     "text": [
      "请输入含有或不含有完整诗句的五言诗：\n",
      "代 绝 有 人 佳\n",
      "绝代有佳人\n"
     ]
    }
   ],
   "source": [
    "def find_poem_sentence(poems, characters):\n",
    "    same_character_number = 0\n",
    "    for poem in poems:\n",
    "        for ch in poem:\n",
    "            if ch in characters:\n",
    "                same_character_number += 1\n",
    "        if same_character_number == 5:\n",
    "            return poem\n",
    "    return None\n",
    "def main():\n",
    "    with open(r'E:\\yanyi\\刘鹏远Python\\poem_r.txt') as fh:\n",
    "        text = fh.read()\n",
    "    poems = text.split()\n",
    "    chs = input('''请输入含有或不含有完整诗句的五言诗：\\n''')\n",
    "    ch = chs.split(' ')\n",
    "    robot_answer = find_poem_sentence(poems, ch)\n",
    "    print(robot_answer)\n",
    "    \n",
    "if __name__ == '__main__':\n",
    "    main()"
   ]
  },
  {
   "cell_type": "code",
   "execution_count": null,
   "metadata": {
    "collapsed": true
   },
   "outputs": [],
   "source": []
  }
 ],
 "metadata": {
  "kernelspec": {
   "display_name": "Python 3",
   "language": "python",
   "name": "python3"
  },
  "language_info": {
   "codemirror_mode": {
    "name": "ipython",
    "version": 3
   },
   "file_extension": ".py",
   "mimetype": "text/x-python",
   "name": "python",
   "nbconvert_exporter": "python",
   "pygments_lexer": "ipython3",
   "version": "3.6.2"
  }
 },
 "nbformat": 4,
 "nbformat_minor": 2
}
