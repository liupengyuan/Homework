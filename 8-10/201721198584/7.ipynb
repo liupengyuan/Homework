{
 "cells": [
  {
   "cell_type": "code",
   "execution_count": 4,
   "metadata": {},
   "outputs": [
    {
     "name": "stdout",
     "output_type": "stream",
     "text": [
      "sfdff ffdfs\n"
     ]
    }
   ],
   "source": [
    "#练习一：自己定义一个reverse(s)函数，功能返回字符串s的倒序字符串。\n",
    "def reverse(s):\n",
    "    r=\"\"\n",
    "    for i in range(len(s)-1,-1,-1):\n",
    "       r +=  s[i]\n",
    "    return r\n",
    "def main():\n",
    "    s=\"sfdff\"\n",
    "    new=reverse(s)\n",
    "    print (s,new)\n",
    "if __name__ == '__main__':\n",
    "    main()"
   ]
  },
  {
   "cell_type": "code",
   "execution_count": 10,
   "metadata": {
    "scrolled": false
   },
   "outputs": [
    {
     "name": "stdout",
     "output_type": "stream",
     "text": [
      "*\n",
      "**\n",
      "***\n",
      "****\n",
      "*****\n",
      "    * \n",
      "   * * \n",
      "  * * * \n",
      " * * * * \n",
      "* * * * * \n",
      "        *\n",
      "      **\n",
      "    ***\n",
      "  ****\n",
      "*****\n"
     ]
    }
   ],
   "source": [
    "#练习二：写函数，根据给定符号和行数，打印相应直角三角形，等腰三角形及其他形式的三角形。\n",
    "def DrawTriangle(c,n):\n",
    "    #right-triangle\n",
    "    for i in range(1,n+1):\n",
    "        print(c*i)\n",
    "    #isosceles triangle\n",
    "    for i in range(1,n+1):\n",
    "        print(' '*(n-i)+(c+' ')*i)\n",
    "    #other triangle\n",
    "    for i in range(1,n+1):\n",
    "        print('  '*(n-i)+c*i)\n",
    "def main():\n",
    "    char=\"*\"\n",
    "    n=5\n",
    "    DrawTriangle(char,n)\n",
    "if __name__ == '__main__':\n",
    "    main()"
   ]
  },
  {
   "cell_type": "code",
   "execution_count": 30,
   "metadata": {},
   "outputs": [
    {
     "name": "stdout",
     "output_type": "stream",
     "text": [
      "                * \n",
      "            * * * * * \n",
      "        * * * * * * * * * \n",
      "    * * * * * * * * * * * * * \n",
      "* * * * * * * * * * * * * * * * * \n",
      "    * * * * * * * * * * * * * \n",
      "        * * * * * * * * * \n",
      "            * * * * * \n",
      "                * \n"
     ]
    }
   ],
   "source": [
    "###### 练习五：写函数，根据给定符号，打印各种菱形。\n",
    "def DrawDiamond(c,n,j):\n",
    "    for i in range(1,n+1):\n",
    "        print(' '*(n-i)*j+(c+' ')*(1+i*j-j))\n",
    "    for i in range(1,n):\n",
    "        print(' '*i*j+(c+' ')*(j*(n-i-1)+1))\n",
    "def main():\n",
    "    char=\"*\"\n",
    "    n=5\n",
    "    m=4#每行递增数目（偶数）\n",
    "    DrawDiamond(char,n,m)\n",
    "if __name__ == '__main__':\n",
    "    main()"
   ]
  },
  {
   "cell_type": "code",
   "execution_count": null,
   "metadata": {
    "collapsed": true
   },
   "outputs": [],
   "source": []
  },
  {
   "cell_type": "code",
   "execution_count": null,
   "metadata": {
    "collapsed": true
   },
   "outputs": [],
   "source": []
  }
 ],
 "metadata": {
  "kernelspec": {
   "display_name": "Python 3",
   "language": "python",
   "name": "python3"
  },
  "language_info": {
   "codemirror_mode": {
    "name": "ipython",
    "version": 3
   },
   "file_extension": ".py",
   "mimetype": "text/x-python",
   "name": "python",
   "nbconvert_exporter": "python",
   "pygments_lexer": "ipython3",
   "version": "3.5.2"
  }
 },
 "nbformat": 4,
 "nbformat_minor": 2
}
