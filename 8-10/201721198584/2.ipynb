{
 "cells": [
  {
   "cell_type": "markdown",
   "metadata": {},
   "source": [
    "作业2 输入与运算"
   ]
  },
  {
   "cell_type": "code",
   "execution_count": 11,
   "metadata": {},
   "outputs": [
    {
     "name": "stdout",
     "output_type": "stream",
     "text": [
      "请输入一个正整数，以回车结束。4\n",
      "24\n"
     ]
    }
   ],
   "source": [
    "#练习1：由用户从键盘给定任意正整数n，打印n!\n",
    "\n",
    "n = int(input('请输入一个正整数，以回车结束。'))\n",
    "\n",
    "i = 0\n",
    "mul = 1\n",
    "\n",
    "while i < n:\n",
    "    i = i + 1\n",
    "    mul = mul * i\n",
    "           \n",
    "print(mul)"
   ]
  },
  {
   "cell_type": "code",
   "execution_count": 13,
   "metadata": {},
   "outputs": [
    {
     "name": "stdout",
     "output_type": "stream",
     "text": [
      "请输入你的姓名，以回车结束。苗菁菁\n",
      "你好 苗菁菁\n",
      "请输入一个正整数，以回车结束。3\n",
      "请输入一个正整数，以回车结束。4\n",
      "请输入一个正整数，以回车结束。1\n",
      "请输入一个正整数，以回车结束。3\n",
      "总和： 7\n",
      "再见！ 苗菁菁\n"
     ]
    }
   ],
   "source": [
    "#练习2：仿照实践1，写出由用户指定整数个数，并由用户输入多个整数，并求和的代码。\n",
    "name = input('请输入你的姓名，以回车结束。')\n",
    "print('你好', name)\n",
    "\n",
    "n = int(input('请输入一个正整数，以回车结束。'))\n",
    "i = 0\n",
    "sum = 1\n",
    "\n",
    "while i < n:\n",
    "    i = i + 1\n",
    "    m = int(input('请输入一个正整数，以回车结束。'))\n",
    "    sum = sum + i\n",
    "           \n",
    "print('总和：',sum)\n",
    "print('再见！', name)"
   ]
  },
  {
   "cell_type": "code",
   "execution_count": 14,
   "metadata": {},
   "outputs": [
    {
     "name": "stdout",
     "output_type": "stream",
     "text": [
      "请输入任意多个数字，以Q结束。4\n",
      "请输入一个正整数，以Q结束。2\n",
      "请输入一个正整数，以Q结束。5\n",
      "请输入一个正整数，以Q结束。Q\n",
      "再见！\n"
     ]
    }
   ],
   "source": [
    "#练习3：用户可以输入任意多个数字，直到用户不想输入为止。\n",
    "\n",
    "var = 1\n",
    "while var==1:\n",
    "    m = input('请输入一个正整数，以Q结束。')\n",
    "    if(m=='Q'):\n",
    "        var=0\n",
    "           \n",
    "print('再见！')"
   ]
  },
  {
   "cell_type": "code",
   "execution_count": 1,
   "metadata": {},
   "outputs": [
    {
     "name": "stdout",
     "output_type": "stream",
     "text": [
      "请输入一个正整数，以回车结束。9\n",
      "请输入一个正整数，以回车结束。407\n",
      "请输入一个正整数，以回车结束。367\n",
      "请输入一个正整数，以回车结束。873\n",
      "total: 783\n",
      "mul: 1344321\n"
     ]
    }
   ],
   "source": [
    "#练习4：用户可以输入任意多个数字，直到输入所有数字的和比当前输入数字小，且输入所有数字的积比当前输入数字的平方大。\n",
    "var = 1\n",
    "sum = 0\n",
    "mul = 1\n",
    "n = int(input('请输入一个正整数，以回车结束。'))\n",
    "while var:\n",
    "    if (sum < n) and (mul > n**2):\n",
    "        break\n",
    "    mul = mul * n \n",
    "    sum = sum + n  \n",
    "    n = int(input('请输入一个正整数，以回车结束。'))\n",
    "\n",
    "print('total:', sum)\n",
    "print('mul:', mul)"
   ]
  },
  {
   "cell_type": "code",
   "execution_count": null,
   "metadata": {
    "collapsed": true
   },
   "outputs": [],
   "source": []
  }
 ],
 "metadata": {
  "kernelspec": {
   "display_name": "Python 3",
   "language": "python",
   "name": "python3"
  },
  "language_info": {
   "codemirror_mode": {
    "name": "ipython",
    "version": 3
   },
   "file_extension": ".py",
   "mimetype": "text/x-python",
   "name": "python",
   "nbconvert_exporter": "python",
   "pygments_lexer": "ipython3",
   "version": "3.5.2"
  }
 },
 "nbformat": 4,
 "nbformat_minor": 2
}
