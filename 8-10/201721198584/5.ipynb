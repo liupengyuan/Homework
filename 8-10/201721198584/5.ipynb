{
 "cells": [
  {
   "cell_type": "code",
   "execution_count": 2,
   "metadata": {},
   "outputs": [
    {
     "name": "stdout",
     "output_type": "stream",
     "text": [
      "请输入m的值：2\n",
      "请输入n的值：1\n",
      "请输入k的值：9\n",
      "结果为： 1.5811388300841898\n"
     ]
    }
   ],
   "source": [
    "# 练习 1：写函数，求n个随机整数均值的平方根，整数范围在m与k之间（n,m,k由用户输入）。\n",
    "\n",
    "import math\n",
    "import random\n",
    "\n",
    "def GetSqrt(N,M,K):\n",
    "    total = 0\n",
    "    for i in range(0,N):\n",
    "        total += random.randint(M,K)\n",
    "    avg = math.sqrt(total / N)\n",
    "    return avg\n",
    "\n",
    "n = int(input(\"请输入m的值：\"))\n",
    "m = int(input(\"请输入n的值：\"))\n",
    "k = int(input(\"请输入k的值：\"))\n",
    "\n",
    "print(\"结果为：\",GetSqrt(n,m,k))"
   ]
  },
  {
   "cell_type": "code",
   "execution_count": 5,
   "metadata": {
    "scrolled": true
   },
   "outputs": [
    {
     "name": "stdout",
     "output_type": "stream",
     "text": [
      "请输入m的值：2\n",
      "请输入n的值：1\n",
      "请输入k的值：9\n",
      "西格玛log(随机整数)和西格玛1/log(随机整数)的结果分别为： (1.3862943611198906, 1.013230239864666)\n"
     ]
    }
   ],
   "source": [
    "# 练习 2：写函数，共n个随机整数，整数范围在m与k之间，（n,m,k由用户输入）。求1：西格玛log(随机整数)，2：西格玛1/log(随机整数)\n",
    "\n",
    "import math\n",
    "import random\n",
    "\n",
    "def GetSumOfLog(N,M,K):\n",
    "    total = 0\n",
    "    total1 = 0\n",
    "    for i in range(0,N):\n",
    "        total += math.log(random.randint(M,K))\n",
    "        total1 +=  1 / (math.log(random.randint(M,K)))\n",
    "    return total,total1\n",
    "\n",
    "n = int(input(\"请输入m的值：\"))\n",
    "m = int(input(\"请输入n的值：\"))\n",
    "k = int(input(\"请输入k的值：\"))\n",
    "print(\"西格玛log(随机整数)和西格玛1/log(随机整数)的结果分别为：\",GetSumOfLog(n,m,k))\n"
   ]
  }
 ],
 "metadata": {
  "kernelspec": {
   "display_name": "Python 3",
   "language": "python",
   "name": "python3"
  },
  "language_info": {
   "codemirror_mode": {
    "name": "ipython",
    "version": 3
   },
   "file_extension": ".py",
   "mimetype": "text/x-python",
   "name": "python",
   "nbconvert_exporter": "python",
   "pygments_lexer": "ipython3",
   "version": "3.5.2"
  }
 },
 "nbformat": 4,
 "nbformat_minor": 2
}
