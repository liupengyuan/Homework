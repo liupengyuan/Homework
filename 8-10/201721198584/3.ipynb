{
 "cells": [
  {
   "cell_type": "markdown",
   "metadata": {},
   "source": [
    "作业3  控制语句"
   ]
  },
  {
   "cell_type": "code",
   "execution_count": 6,
   "metadata": {},
   "outputs": [
    {
     "name": "stdout",
     "output_type": "stream",
     "text": [
      "请输入一个整数m，以回车结束。1\n",
      "请输入一个整数m，以回车结束。5\n",
      "你好，如果计算从m到n的和，请输入1；如果计算从m到n的积,请输入2；如果计算m除以n的余数的值，请输入3；如果计算m整除n的值，请输入4。以回车结束 \n",
      "选择：2\n",
      "1 到 5 的积为： 120\n"
     ]
    }
   ],
   "source": [
    "#练习2：写程序，可由键盘读入两个整数m与n(n不等于0)，询问用户意图，如果要求和则计算从m到n的和输出，如果要乘积则计算从m到n的积并输出，\n",
    "#如果要求余数则计算m除以n的余数的值并输出，否则则计算m整除n的值并输出。\n",
    "\n",
    "m = int(input('请输入一个整数m，以回车结束。'))\n",
    "n = int(input('请输入一个整数m，以回车结束。'))\n",
    "print('你好，如果计算从m到n的和，请输入1；如果计算从m到n的积,请输入2；如果计算m除以n的余数的值，请输入3；如果计算m整除n的值，请输入4。以回车结束 ')\n",
    "i = int(input('选择：'))\n",
    "if i == 1:\n",
    "    j = m\n",
    "    Sum = 0\n",
    "    while j <= n:\n",
    "        Sum += j\n",
    "        j = j + 1\n",
    "    print (m,'到',n,'的和为：',Sum)\n",
    "elif i == 2:\n",
    "    j = m\n",
    "    Mul = 1\n",
    "    while j <= n:\n",
    "        Mul *=j\n",
    "        j = j + 1\n",
    "    print (m,'到',n,'的积为：',Mul)\n",
    "elif i == 3:\n",
    "    rem = m % n\n",
    "    print (m,'除以',n,'的余数为：',rem)\n",
    "elif i == 4:\n",
    "    rem = m / n\n",
    "    print (m,'除以',n,'的结果为：',rem)\n",
    "else:\n",
    "    print('请注意正确输入！')\n",
    "\n"
   ]
  },
  {
   "cell_type": "code",
   "execution_count": 12,
   "metadata": {},
   "outputs": [
    {
     "name": "stdout",
     "output_type": "stream",
     "text": [
      "请输入一个英文名词（回车结束）：apple\n",
      "apple 的复数为： apples\n"
     ]
    }
   ],
   "source": [
    "#练习4;英文单词单数转复数，要求输入一个英文名词（单数形式），能够得到其复数形式，或给出单数转复数形式的建议\n",
    "#（提示，some_string.(some_letter)函数可以判断某字符串结尾字符，可尝试运行：'myname'.endswith('me')，liupengyuan'.endswith('n')）。\n",
    "\n",
    "def IsNotForeignWord(n):\n",
    "    return 1\n",
    "RemainArr = ('fish','sheep','cattle','deer','salmon')\n",
    "\n",
    "n = input('请输入一个英文名词（回车结束）：')\n",
    "if n in RemainArr :\n",
    "    n1 = n\n",
    "elif n.endswith(('y')):\n",
    "    YuanArr = ('a','e','i','o','u')\n",
    "    if n[-2] not in YuanArr :\n",
    "        n1 = n[:-1] + 'ies'\n",
    "elif n.endswith(('o')):\n",
    "    if IsNotForeignWord(n):\n",
    "        n1 = n + 'es'\n",
    "    else :\n",
    "        n1 = n + 's'\n",
    "elif n.endswith(('f')):\n",
    "    n1 = n[:-1] + 'ves'\n",
    "elif n.endswith(('fe')):\n",
    "    n1 = n[:-2] + 'ves'\n",
    "elif n.endswith(('us')):\n",
    "    n1 = n[:-2] + 'i'\n",
    "elif n.endswith(('is')):\n",
    "    n1 = n[:-2] + 'es'\n",
    "elif n.endswith(('ix')):\n",
    "    n1 = n[:-2] + 'ices'\n",
    "elif n.endswith(('a')):\n",
    "    n1 = n + 'e'\n",
    "elif n.endswith(('s','z','x')) or n.endswith(('ch','sh')):\n",
    "    n1 = n + 'es'\n",
    "else :\n",
    "    n1 = n + 's'\n",
    "print (n,'的复数为：',n1)\n",
    "\n"
   ]
  }
 ],
 "metadata": {
  "kernelspec": {
   "display_name": "Python 3",
   "language": "python",
   "name": "python3"
  },
  "language_info": {
   "codemirror_mode": {
    "name": "ipython",
    "version": 3
   },
   "file_extension": ".py",
   "mimetype": "text/x-python",
   "name": "python",
   "nbconvert_exporter": "python",
   "pygments_lexer": "ipython3",
   "version": "3.5.2"
  }
 },
 "nbformat": 4,
 "nbformat_minor": 2
}
