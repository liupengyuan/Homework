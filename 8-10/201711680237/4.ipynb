{
 "cells": [
  {
   "cell_type": "code",
   "execution_count": 1,
   "metadata": {},
   "outputs": [
    {
     "name": "stdout",
     "output_type": "stream",
     "text": [
      "请输入第1个整数，以回车结束。3\n",
      "请输入第2个整数，以回车结束。4\n",
      "请输入第3个整数，以回车结束。5\n",
      "最终的和是： 150\n"
     ]
    }
   ],
   "source": [
    "def compute_sum(end):\n",
    "    i = 1\n",
    "    total_n = 1\n",
    "\n",
    "    while i < end:\n",
    "        i = i + 1\n",
    "        total_n = total_n * i\n",
    "\n",
    "    return total_n\n",
    "\n",
    "n = int(input('请输入第1个整数，以回车结束。'))\n",
    "m = int(input('请输入第2个整数，以回车结束。'))\n",
    "k = int(input('请输入第3个整数，以回车结束。'))\n",
    "\n",
    "print('最终的和是：', compute_sum(m) + compute_sum(n) + compute_sum(k))"
   ]
  },
  {
   "cell_type": "code",
   "execution_count": 2,
   "metadata": {},
   "outputs": [
    {
     "name": "stdout",
     "output_type": "stream",
     "text": [
      "n=1000时， 3.140592653839794\n",
      "n=100000时， 3.1415826535897198\n"
     ]
    }
   ],
   "source": [
    "def add_sum(n):\n",
    "    i=0\n",
    "    total=0\n",
    "    s=0\n",
    "    while i<n:\n",
    "        j=(1/(2*i+1))*(-1)**(i)\n",
    "        i=i+1\n",
    "        total=total+j\n",
    "    return(total)\n",
    "print('n=1000时，',4*add_sum(1000))\n",
    "print('n=100000时，',4*add_sum(100000))"
   ]
  },
  {
   "cell_type": "code",
   "execution_count": null,
   "metadata": {},
   "outputs": [],
   "source": [
    "name=input('请输入您的姓名，以回车结束')\n",
    "date=input('请输入您的出生日期（月、日），以回车结束')\n",
    "def judge(date):\n",
    "    if date>=12.22:\n",
    "        print(name,'你是非常有性格的摩羯座！')\n",
    "    elif date<=1.19:\n",
    "        print(name,'你是非常有性格的摩羯座！')\n",
    "    elif 1.20<=date<=2.18 :\n",
    "        print(name,'你是非常有性格的水瓶座！')\n",
    "    elif 2.19<=date<=3.20 :\n",
    "        print(name,'你是非常有性格的双鱼座！')\n",
    "    elif 3.21<=date<=4.19:\n",
    "        print(name,'你是非常有性格的白羊座！')\n",
    "    elif 4.20<=date<=5.20:\n",
    "        print(name,'你是非常有性格的金牛座！')\n",
    "    elif 5.21<=date<=6.21 :\n",
    "        print(name,'你是非常有性格的双子座！')\n",
    "    elif 6.22<=date<=7.22 :\n",
    "        print(name,'你是非常有性格的巨蟹座！')\n",
    "    elif 7.23<=date<=8.22: \n",
    "        print(name,'你是非常有性格的狮子座！')\n",
    "    elif 8.23<=date<=9.22 :\n",
    "        print(name,'你是非常有性格的处女座！')\n",
    "    elif 9.23<=date<=10.23:\n",
    "        print(name,'你是非常有性格的天秤座！')\n",
    "    elif 10.24<=date<=11.22:\n",
    "        print(name,'你是非常有性格的天蝎座！')\n",
    "    else:\n",
    "        print(name,'你是非常有性格的射手座！')\n",
    "judge"
   ]
  },
  {
   "cell_type": "code",
   "execution_count": null,
   "metadata": {},
   "outputs": [],
   "source": [
    "def word_plural():\n",
    "    noun = input('请输入一个英语名词,以回车结束。')\n",
    "    if noun.endswith('s'):  \n",
    "        t=str('es')\n",
    "        print(noun+t)\n",
    "    elif noun.endswith('sh'):\n",
    "        t=str('es')\n",
    "        print(noun+t)\n",
    "    elif noun.endswith('ch'):\n",
    "        t=str('es')\n",
    "        print(noun+t)\n",
    "    elif noun.endswith('x'):\n",
    "        t=str('es')\n",
    "        print(noun+t)\n",
    "    elif noun.endswith('o'):\n",
    "        print('该名词变为复数时根据前字母可能加s或es')\n",
    "    elif noun.endswith('y'):    \n",
    "        print('该名词变为复数时大多把y变i加es')\n",
    "    elif noun.endswith('f'): \n",
    "        print('该名词变为复数时大多把末尾的f变为v加es')\n",
    "    elif noun.endswith('fe'): \n",
    "        print('该名词变为复数时大多把末尾的fe变为v加es')\n",
    "    else:\n",
    "        t=str('s')\n",
    "        print(noun+t)\n",
    "word_plural()"
   ]
  },
  {
   "cell_type": "code",
   "execution_count": null,
   "metadata": {},
   "outputs": [],
   "source": [
    "m=int(input('请输入第一个整数，以回车结束：'))\n",
    "n=int(input('请输入比第一个数大的整数，以回车结束：'))\n",
    "k=int(input('请输入第三个整数作为间隔，以回车结束：'))\n",
    "def sum_number(m):\n",
    "    i=m\n",
    "    total=m\n",
    "    while i<n:\n",
    "        i=i+k\n",
    "        total=total+i\n",
    "    return total\n",
    "\n",
    "print('m到n之间以k为间隔的整数累加和：',sum_number(m))"
   ]
  },
  {
   "cell_type": "code",
   "execution_count": null,
   "metadata": {},
   "outputs": [],
   "source": []
  }
 ],
 "metadata": {
  "kernelspec": {
   "display_name": "Python 3",
   "language": "python",
   "name": "python3"
  },
  "language_info": {
   "codemirror_mode": {
    "name": "ipython",
    "version": 3
   },
   "file_extension": ".py",
   "mimetype": "text/x-python",
   "name": "python",
   "nbconvert_exporter": "python",
   "pygments_lexer": "ipython3",
   "version": "3.6.0"
  }
 },
 "nbformat": 4,
 "nbformat_minor": 2
}
