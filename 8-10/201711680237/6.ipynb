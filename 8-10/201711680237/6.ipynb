{
 "cells": [
  {
   "cell_type": "code",
   "execution_count": 1,
   "metadata": {},
   "outputs": [
    {
     "name": "stdout",
     "output_type": "stream",
     "text": [
      "28\n"
     ]
    }
   ],
   "source": [
    "#写函数，返回一个list中所有数字的和\n",
    "numbers = [1, 2, 3, 4, 5, 6, 7]\n",
    "\n",
    "total = 0\n",
    "i = 0\n",
    "while i < 7:\n",
    "    total += numbers[i]\n",
    "    i += 1\n",
    "    \n",
    "print(total)\n"
   ]
  },
  {
   "cell_type": "code",
   "execution_count": 2,
   "metadata": {},
   "outputs": [
    {
     "name": "stdout",
     "output_type": "stream",
     "text": [
      "0 \n",
      "\n"
     ]
    }
   ],
   "source": [
    "#写函数，返回一个list中的最小值\n",
    "numbers = [i for i in range(10)]\n",
    "print(min(numbers), '\\n')\n"
   ]
  },
  {
   "cell_type": "code",
   "execution_count": 3,
   "metadata": {},
   "outputs": [
    {
     "name": "stdout",
     "output_type": "stream",
     "text": [
      "请输入一个整数，以回车结束5\n",
      "该整数在列表中的位置为: 6\n"
     ]
    }
   ],
   "source": [
    "#写函数，返回某个元素/对象在一个list中的位置，如果不在，则返回-1.\n",
    "numbers=[n for n in range(50)]\n",
    "n=int(input(\"请输入一个整数，以回车结束\"))\n",
    "if n in numbers:\n",
    "    n=n+1\n",
    "    print(\"该整数在列表中的位置为:\",n)\n",
    "else:\n",
    "    print(-1)"
   ]
  },
  {
   "cell_type": "code",
   "execution_count": 1,
   "metadata": {},
   "outputs": [
    {
     "name": "stdout",
     "output_type": "stream",
     "text": [
      "请输入第一个向量的一个坐标，以回车结束。2\n",
      "请输入第一个向量的一个坐标，以回车结束。1\n",
      "请输入第一个向量的一个坐标，以回车结束。2\n",
      "请输入第一个向量的一个坐标，以回车结束。1\n",
      "您输入的两个向量的余弦值是0.9999999999999998\n"
     ]
    }
   ],
   "source": [
    "#练习 5：写函数，可求两个向量的夹角余弦值，向量可放在list中。主程序调用该函数。\n",
    "import math\n",
    "def cos():\n",
    "    cos1s = []\n",
    "    for i in range(2):\n",
    "        cos1 = int(input('请输入第一个向量的一个坐标，以回车结束。'))\n",
    "        cos1s.append(cos1)\n",
    "    cos2s = []\n",
    "    for i in range(2):\n",
    "        cos2 = int(input('请输入第一个向量的一个坐标，以回车结束。'))\n",
    "        cos2s.append(cos2)\n",
    "    \n",
    "    m = (cos1s[0] * cos2s[0]) +(cos1s[1] * cos2s[1])\n",
    "    n = (math.sqrt((cos1s[0] * cos1s[0]) + (cos1s[1] * cos1s[1]))) * (math.sqrt((cos2s[0] * cos2s[0]) + (cos2s[1] * cos2s[1])))\n",
    "    \n",
    "    return (m/n)\n",
    "\n",
    "print('您输入的两个向量的余弦值是',cos(),sep = '')"
   ]
  },
  {
   "cell_type": "code",
   "execution_count": 2,
   "metadata": {},
   "outputs": [
    {
     "name": "stdout",
     "output_type": "stream",
     "text": [
      "3741\n"
     ]
    }
   ],
   "source": [
    "#挑战性习题：python语言老师为了激励学生学python，自费买了100个完全相同的Macbook Pro，分给三个班级，每个班级至少分5个，用穷举法计算共有多少种分法？\n",
    "total = 0\n",
    "for i in range(100):\n",
    "    for j in range(100):\n",
    "        for k in range(100):\n",
    "            if i + j + k == 100 and i >= 5 and j >= 5 and k >= 5:\n",
    "                total = total + 1\n",
    "print(total)"
   ]
  },
  {
   "cell_type": "code",
   "execution_count": null,
   "metadata": {},
   "outputs": [],
   "source": []
  }
 ],
 "metadata": {
  "kernelspec": {
   "display_name": "Python 3",
   "language": "python",
   "name": "python3"
  },
  "language_info": {
   "codemirror_mode": {
    "name": "ipython",
    "version": 3
   },
   "file_extension": ".py",
   "mimetype": "text/x-python",
   "name": "python",
   "nbconvert_exporter": "python",
   "pygments_lexer": "ipython3",
   "version": "3.6.0"
  }
 },
 "nbformat": 4,
 "nbformat_minor": 2
}
