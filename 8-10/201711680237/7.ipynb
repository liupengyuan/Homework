{
 "cells": [
  {
   "cell_type": "code",
   "execution_count": 1,
   "metadata": {},
   "outputs": [
    {
     "name": "stdout",
     "output_type": "stream",
     "text": [
      "请输入一个字符串emmmmmm\n",
      "emmmmmm\n"
     ]
    },
    {
     "data": {
      "text/plain": [
       "['m', 'm', 'm', 'm', 'm', 'm', 'e']"
      ]
     },
     "execution_count": 1,
     "metadata": {},
     "output_type": "execute_result"
    }
   ],
   "source": [
    "#练习一：自己定义一个reverse(s)函数，功能返回字符串s的倒序字符串。\n",
    "def reverse(s):\n",
    "    w=[]\n",
    "    print(s)\n",
    "    i=len(s)\n",
    "    while 0<i<=len(s):\n",
    "        i=i-1\n",
    "        n=s[i]\n",
    "        w.append(n)\n",
    "        \n",
    "    return w\n",
    "   \n",
    "       \n",
    "       \n",
    "s=(input(\"请输入一个字符串\"))\n",
    "reverse(s)"
   ]
  },
  {
   "cell_type": "code",
   "execution_count": 2,
   "metadata": {},
   "outputs": [
    {
     "name": "stdout",
     "output_type": "stream",
     "text": [
      "请输入行数5\n",
      "请输入字符z\n",
      "--------------------------------\n",
      "z \n",
      "z z \n",
      "z z z \n",
      "z z z z \n",
      "z z z z z \n",
      "直角三角形如上图所示：\n",
      "---------------------------------\n",
      "      z \n",
      "     z z \n",
      "    z z z \n",
      "   z z z z \n",
      "  z z z z z \n",
      "等腰三角形如上图所示：\n",
      "----------------------------------\n",
      "      zzzzz\n",
      "     zzzz\n",
      "    zzz\n",
      "   zz\n",
      "  z\n",
      "其他形式的三角形如上图所示：\n"
     ]
    }
   ],
   "source": [
    "#练习二：写函数，根据给定符号和行数，打印相应直角三角形，等腰三角形及其他形式的三角形。\n",
    "def triangle():\n",
    "    \n",
    "    n=int(input('请输入行数'))\n",
    "    word=input('请输入字符')\n",
    "    line=[word]\n",
    "    print(\"--------------------------------\")\n",
    "    for i in range(0,n):\n",
    "        for j in range(0,i+1):\n",
    "            print(line[0],''*(i+1),end='')\n",
    "        print() \n",
    "    print('直角三角形如上图所示：')\n",
    "    print(\"---------------------------------\")\n",
    "    for i in range(0,n):\n",
    "        for k in range(n-i,-1,-1):\n",
    "            print(' ', end='')\n",
    "        for j in range(0,i+1):\n",
    "            print(line[0],''*(i+1), end='')\n",
    "        \n",
    "        print()\n",
    "    \n",
    "    print(\"等腰三角形如上图所示：\")\n",
    "    print('----------------------------------')   \n",
    "    for i in range(0, n):\n",
    "        for k in range(n-i,-1,-1):\n",
    "            print(' ', end='')\n",
    "        for j in range(0,n-i):\n",
    "            print(line[0],end='')\n",
    "        print()\n",
    "    print('其他形式的三角形如上图所示：')\n",
    "\n",
    "triangle()"
   ]
  },
  {
   "cell_type": "code",
   "execution_count": 4,
   "metadata": {},
   "outputs": [
    {
     "name": "stdout",
     "output_type": "stream",
     "text": [
      "请输入菱形边长5\n",
      "请输入字符z\n",
      "     z\n",
      "    zzz\n",
      "   zzzzz\n",
      "  zzzzzzz\n",
      " zzzzzzzzz\n",
      " zzzzzzzzz\n",
      "  zzzzzzz\n",
      "   zzzzz\n",
      "    zzz\n",
      "     z\n"
     ]
    }
   ],
   "source": [
    "#练习五：写函数，根据给定符号，打印各种菱形。\n",
    "def rhombus(N):\n",
    "    s=input('请输入字符')    \n",
    "    for i in range(N):\n",
    "        print (' '*(N-i) + s*(2*i+1))\n",
    "    for i in range(N):\n",
    "        print (' '*(i+1) + s*(2*(N-i-1)+1))\n",
    "\n",
    "        \n",
    "N=int(input('请输入菱形边长'))\n",
    "rhombus(N)"
   ]
  },
  {
   "cell_type": "code",
   "execution_count": null,
   "metadata": {},
   "outputs": [],
   "source": []
  }
 ],
 "metadata": {
  "kernelspec": {
   "display_name": "Python 3",
   "language": "python",
   "name": "python3"
  },
  "language_info": {
   "codemirror_mode": {
    "name": "ipython",
    "version": 3
   },
   "file_extension": ".py",
   "mimetype": "text/x-python",
   "name": "python",
   "nbconvert_exporter": "python",
   "pygments_lexer": "ipython3",
   "version": "3.6.0"
  }
 },
 "nbformat": 4,
 "nbformat_minor": 2
}
