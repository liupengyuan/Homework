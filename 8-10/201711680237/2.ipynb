{
 "cells": [
  {
   "cell_type": "code",
   "execution_count": 1,
   "metadata": {},
   "outputs": [
    {
     "name": "stdout",
     "output_type": "stream",
     "text": [
      "请输入一个正整数，以回车结束。1\n",
      "1\n"
     ]
    }
   ],
   "source": [
    "n = int(input('请输入一个正整数，以回车结束。'))\n",
    "\n",
    "i = 1\n",
    "total = 1\n",
    "\n",
    "while i < n:\n",
    "    i = i + 1\n",
    "    total = total *i\n",
    "    \n",
    "print(total)"
   ]
  },
  {
   "cell_type": "code",
   "execution_count": 2,
   "metadata": {},
   "outputs": [
    {
     "name": "stdout",
     "output_type": "stream",
     "text": [
      "请输入整数个数，以回车结束5\n",
      "请输入一个整数，以回车结束1\n",
      "请输入一个整数，以回车结束2\n",
      "请输入一个整数，以回车结束3\n",
      "请输入一个整数，以回车结束4\n",
      "请输入一个整数，以回车结束5\n",
      "15\n"
     ]
    }
   ],
   "source": [
    "n=int(input('请输入整数个数，以回车结束'))\n",
    "m=int(input('请输入一个整数，以回车结束'))\n",
    "i=1\n",
    "total=m\n",
    "while i<n:\n",
    "    i=i+1\n",
    "    q=int(input('请输入一个整数，以回车结束'))\n",
    "    total=total+q\n",
    "print(total)"
   ]
  },
  {
   "cell_type": "code",
   "execution_count": null,
   "metadata": {},
   "outputs": [],
   "source": [
    "n=input('请输入一个整数，当你不想输入时输入stop终止')\n",
    "while n!='stop':\n",
    "    n==input('请输入一个整数，当你不想输入时输入stop终止')"
   ]
  },
  {
   "cell_type": "code",
   "execution_count": null,
   "metadata": {},
   "outputs": [],
   "source": [
    "n=int(input('请输入一个整数，以回车结束'))\n",
    "total=n\n",
    "product=n\n",
    "m=int(input('请输入一个整数，以回车结束'))\n",
    "while (total>=m)or(product<=500):\n",
    "    total=total+m\n",
    "    product=product*m\n",
    "m=int(input('请输入一个整数，以回车结束'))"
   ]
  }
 ],
 "metadata": {
  "kernelspec": {
   "display_name": "Python 3",
   "language": "python",
   "name": "python3"
  },
  "language_info": {
   "codemirror_mode": {
    "name": "ipython",
    "version": 3
   },
   "file_extension": ".py",
   "mimetype": "text/x-python",
   "name": "python",
   "nbconvert_exporter": "python",
   "pygments_lexer": "ipython3",
   "version": "3.6.0"
  }
 },
 "nbformat": 4,
 "nbformat_minor": 2
}
