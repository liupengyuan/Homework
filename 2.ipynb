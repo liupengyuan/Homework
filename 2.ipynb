{
 "cells": [
  {
   "cell_type": "code",
   "execution_count": 1,
   "metadata": {},
   "outputs": [
    {
     "name": "stdout",
     "output_type": "stream",
     "text": [
      "请输入一个正整数，以回车结束。3\n",
      "6\n"
     ]
    }
   ],
   "source": [
    "# chapter1 2md 练习1\n",
    "n = int(input('请输入一个正整数，以回车结束。'))\n",
    "\n",
    "i = 0\n",
    "total = 1\n",
    "\n",
    "while i < n:\n",
    "    i = i + 1\n",
    "    total = total * i\n",
    "    \n",
    "print(total)"
   ]
  },
  {
   "cell_type": "code",
   "execution_count": 2,
   "metadata": {},
   "outputs": [
    {
     "name": "stdout",
     "output_type": "stream",
     "text": [
      "请确认您要输入多少个数字：3\n",
      "请输入第1个数字:\n",
      "2\n",
      "请输入第2个数字:\n",
      "1\n",
      "请输入第3个数字:\n",
      "3\n",
      "它们的和是: 6\n"
     ]
    }
   ],
   "source": [
    "# chapter1 2md 练习2\n",
    "n = int(input('请确认您要输入多少个数字：'))\n",
    "i = 0\n",
    "total = 0\n",
    "while i < n:\n",
    "    i = i + 1\n",
    "    print('请输入第' + str(i) + '个数字:')\n",
    "    m = int(input())\n",
    "    total = total + m\n",
    "print('它们的和是:', total)"
   ]
  },
  {
   "cell_type": "code",
   "execution_count": 3,
   "metadata": {},
   "outputs": [
    {
     "name": "stdout",
     "output_type": "stream",
     "text": [
      "如果您想输入数字，请输入数字。如果您想退出，请输入\"n\"\n",
      "您要输入的第1个整数是：\n",
      "3\n",
      "您要输入的第2个整数是：\n",
      "4\n",
      "您要输入的第3个整数是：\n",
      "n\n",
      "它们的和是：7。\n"
     ]
    }
   ],
   "source": [
    "# chapter1 2md 练习3\n",
    "print('如果您想输入数字，请输入数字。如果您想退出，请输入\"n\"')\n",
    "i = 0\n",
    "total = 0\n",
    "m = 0\n",
    "while True:\n",
    "    total += m\n",
    "    i = i + 1\n",
    "    print('您要输入的第' + str(i) + '个整数是：')\n",
    "    try:\n",
    "        m = int(input())\n",
    "    except ValueError:\n",
    "        break\n",
    "    else:\n",
    "        continue\n",
    "    \n",
    "    \n",
    "print('它们的和是：' + str(total) + '。')"
   ]
  },
  {
   "cell_type": "code",
   "execution_count": 4,
   "metadata": {},
   "outputs": [
    {
     "name": "stdout",
     "output_type": "stream",
     "text": [
      "请输入数字，直到：输入所有数字的和比当前输入数字小，且输入所有数字的积大于500。\n",
      "请输入第1个数字:\n",
      "2\n",
      "请输入第2个数字:\n",
      "3\n",
      "请输入第3个数字:\n",
      "222\n",
      "请输入第4个数字:\n",
      "333\n",
      "它们的和是：227。\n"
     ]
    }
   ],
   "source": [
    "# chapter1 2md 练习4\n",
    "print('请输入数字，直到：输入所有数字的和比当前输入数字小，且输入所有数字的积大于500。')\n",
    "i = 0\n",
    "total = 0\n",
    "p = 1\n",
    "m = 0\n",
    "while True:\n",
    "    i += 1\n",
    "    print('请输入第' + str(i) + '个数字:')\n",
    "    m = int(input())\n",
    "    if (total < m) and (p > 500):\n",
    "        break\n",
    "    total = total + m\n",
    "    p =p * m\n",
    "\n",
    "print('它们的和是：' + str(total) + '。')"
   ]
  }
 ],
 "metadata": {
  "kernelspec": {
   "display_name": "Python 3",
   "language": "python",
   "name": "python3"
  },
  "language_info": {
   "codemirror_mode": {
    "name": "ipython",
    "version": 3
   },
   "file_extension": ".py",
   "mimetype": "text/x-python",
   "name": "python",
   "nbconvert_exporter": "python",
   "pygments_lexer": "ipython3",
   "version": "3.5.4"
  }
 },
 "nbformat": 4,
 "nbformat_minor": 2
}
