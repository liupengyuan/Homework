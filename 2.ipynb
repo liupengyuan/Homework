{
 "cells": [
  {
   "cell_type": "code",
   "execution_count": 1,
   "metadata": {},
   "outputs": [
    {
     "name": "stdout",
     "output_type": "stream",
     "text": [
      "请准确输入一个正整数，以回车结束。8\n",
      "40320\n"
     ]
    }
   ],
   "source": [
    "# chapter1 2md 1\n",
    "n = int(input('请准确输入一个正整数，以回车结束。'))\n",
    "i = 0\n",
    "total = 1\n",
    "while i < n:\n",
    "    i = i + 1\n",
    "    total = total * i   \n",
    "print(total)"
   ]
  },
  {
   "cell_type": "code",
   "execution_count": 2,
   "metadata": {},
   "outputs": [
    {
     "name": "stdout",
     "output_type": "stream",
     "text": [
      "请准确输入多少个数字：3\n",
      "请准确输入第1个数字:\n",
      "3\n",
      "请准确输入第2个数字:\n",
      "4\n",
      "请准确输入第3个数字:\n",
      "2\n",
      "它们的和是: 9\n"
     ]
    }
   ],
   "source": [
    "# chapter1 2md 2\n",
    "n = int(input('请准确输入多少个数字：'))\n",
    "i = 0\n",
    "total = 0\n",
    "while i < n:\n",
    "    i = i + 1\n",
    "    print('请准确输入第' + str(i) + '个数字:')\n",
    "    m = int(input())\n",
    "    total = total + m\n",
    "print('它们的和是:', total)"
   ]
  },
  {
   "cell_type": "code",
   "execution_count": 6,
   "metadata": {},
   "outputs": [
    {
     "name": "stdout",
     "output_type": "stream",
     "text": [
      "如果准确输入数字，请准确输入数字。如果退出，请输入\"n\"\n",
      "3\n",
      "如果您想继续输入数字吗(y/n)y\n",
      "请输入数字3\n",
      "如果您想继续输入数字吗(y/n)n\n"
     ]
    }
   ],
   "source": [
    "# chapter1 2md 3\n",
    "print('如果准确输入数字，请准确输入数字。如果退出，请输入\"n\"')\n",
    "p = input()\n",
    "while True:\n",
    "    p = input('如果您想继续输入数字吗(y/n)')\n",
    "    if p == 'y':\n",
    "        m = input('请输入数字')\n",
    "        continue\n",
    "    else:\n",
    "        break"
   ]
  },
  {
   "cell_type": "code",
   "execution_count": 7,
   "metadata": {},
   "outputs": [
    {
     "name": "stdout",
     "output_type": "stream",
     "text": [
      "请准确输入数字，直到：准确输入所有数字的和比当前输入数字小，且输入所有数字的积大于500。\n",
      "请准确输入第1个数字:\n",
      "38\n",
      "请准确输入第2个数字:\n",
      "2\n",
      "请准确输入第3个数字:\n",
      "455\n",
      "请准确输入第4个数字:\n",
      "22\n",
      "请准确输入第5个数字:\n",
      "333333\n",
      "它们和是：517。\n"
     ]
    }
   ],
   "source": [
    "# chapter1 2md 练习4\n",
    "print('请准确输入数字，直到：准确输入所有数字的和比当前输入数字小，且输入所有数字的积大于500。')\n",
    "i = 0\n",
    "total = 0\n",
    "p = 1\n",
    "m = 0\n",
    "while True:\n",
    "    i += 1\n",
    "    print('请准确输入第' + str(i) + '个数字:')\n",
    "    m = int(input())\n",
    "    if (total < m) and (p > 500):\n",
    "        break\n",
    "    total = total + m\n",
    "    p =p * m\n",
    "\n",
    "print('它们和是：' + str(total) + '。')"
   ]
  },
  {
   "cell_type": "code",
   "execution_count": null,
   "metadata": {},
   "outputs": [],
   "source": []
  }
 ],
 "metadata": {
  "kernelspec": {
   "display_name": "Python 3",
   "language": "python",
   "name": "python3"
  },
  "language_info": {
   "codemirror_mode": {
    "name": "ipython",
    "version": 3
   },
   "file_extension": ".py",
   "mimetype": "text/x-python",
   "name": "python",
   "nbconvert_exporter": "python",
   "pygments_lexer": "ipython3",
   "version": "3.5.4"
  }
 },
 "nbformat": 4,
 "nbformat_minor": 2
}
